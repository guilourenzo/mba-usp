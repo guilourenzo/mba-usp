{
 "cells": [
  {
   "cell_type": "code",
   "execution_count": 1,
   "metadata": {},
   "outputs": [],
   "source": [
    "def find_module(modulename, filename=None):\n",
    "    \"\"\"Finds a python module or package on the standard path.\n",
    "       If a filename is specified, add its containing folder\n",
    "       to the system path.\n",
    "       Returns a string of the full path to the module/package.\"\"\"\n",
    "    import imp\n",
    "    import sys\n",
    "    import os\n",
    "    full_path = []\n",
    "    if filename:\n",
    "        full_path.append(os.path.dirname(os.path.abspath(filename)))\n",
    "    full_path += sys.path\n",
    "    fname = imp.find_module(modulename, full_path)\n",
    "    return fname[1]"
   ]
  },
  {
   "cell_type": "code",
   "execution_count": 2,
   "metadata": {},
   "outputs": [
    {
     "output_type": "execute_result",
     "data": {
      "text/plain": "'/home/guilourenzo/anaconda3/lib/python3.7/site-packages/pandas_profiling'"
     },
     "metadata": {},
     "execution_count": 2
    }
   ],
   "source": [
    "find_module('pandas_profiling')"
   ]
  }
 ],
 "metadata": {
  "language_info": {
   "codemirror_mode": {
    "name": "ipython",
    "version": 3
   },
   "file_extension": ".py",
   "mimetype": "text/x-python",
   "name": "python",
   "nbconvert_exporter": "python",
   "pygments_lexer": "ipython3",
   "version": "3.7.6-final"
  },
  "orig_nbformat": 2,
  "kernelspec": {
   "name": "python3",
   "display_name": "Python 3"
  }
 },
 "nbformat": 4,
 "nbformat_minor": 2
}