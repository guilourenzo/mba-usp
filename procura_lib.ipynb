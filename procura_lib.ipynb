{
 "cells": [
  {
   "cell_type": "code",
   "execution_count": 1,
   "metadata": {},
   "outputs": [],
   "source": [
    "def find_module(modulename, filename=None):\n",
    "    \"\"\"Finds a python module or package on the standard path.\n",
    "       If a filename is specified, add its containing folder\n",
    "       to the system path.\n",
    "       Returns a string of the full path to the module/package.\"\"\"\n",
    "    import imp\n",
    "    import sys\n",
    "    import os\n",
    "    full_path = []\n",
    "    if filename:\n",
    "        full_path.append(os.path.dirname(os.path.abspath(filename)))\n",
    "    full_path += sys.path\n",
    "    fname = imp.find_module(modulename, full_path)\n",
    "    return fname[1]"
   ]
  },
  {
   "cell_type": "code",
   "execution_count": 2,
   "metadata": {},
   "outputs": [
    {
     "output_type": "execute_result",
     "data": {
      "text/plain": "'/home/guilourenzo/anaconda3/lib/python3.7/site-packages/pandas_profiling'"
     },
     "metadata": {},
     "execution_count": 2
    }
   ],
   "source": [
    "find_module('pandas_profiling')"
   ]
  },
  {
   "cell_type": "code",
   "execution_count": 84,
   "metadata": {
    "tags": []
   },
   "outputs": [
    {
     "output_type": "stream",
     "name": "stdout",
     "text": "{'inf_count': 0, 'mean': -16664.166666666668, 'std': 40826.05381575185, 'var': 1666766670.1666665, 'max': 5.0, 'min': -100000.0, 'median': 2.5, 'kurt': 5.999999974801513, 'skew': -2.449489736169953, 'sum': -99985.0, 'mad': 27778.611111111113, 'quantile_5': -74999.75, 'quantile_25': 1.25, 'quantile_50': 2.5, 'quantile_75': 3.75, 'quantile_95': 4.75, 'iqr': 2.5, 'range': 100005.0, 'cv': -2.449930718552894, 'monotonic_increase': False, 'monotonic_decrease': False, 'n_zeros': 0, 'n_unique': 6, 'frequencies': {1: 1, 2: 1, 3: 1, 4: 1, 5: 1, -100000: 1}, 'n_records': 7, 'memory_size': 191, 'dtype': Int64Dtype(), 'types': {'int': 6, 'NAType': 1}, 'na_count': 1}\n"
    }
   ],
   "source": [
    "import numpy as np\n",
    "import pandas as pd\n",
    "\n",
    "import visions.types as vt\n",
    "from visions.application.summaries import CompleteSummary\n",
    "from visions.functional import (\n",
    "    cast_and_infer_frame,\n",
    "    cast_frame,\n",
    "    detect_frame_type,\n",
    "    infer_frame_type,\n",
    ")\n",
    "from visions.typesets import CompleteSet\n",
    "\n",
    "integer_series = pd.Series([1, 2, 3, 4, 5, -100000, np.nan], dtype=\"Int64\")\n",
    "\n",
    "summarizer = CompleteSummary()\n",
    "summary = summarizer.summarize_series(integer_series, vt.Integer)\n",
    "\n",
    "print(summary)"
   ]
  },
  {
   "cell_type": "code",
   "execution_count": 68,
   "metadata": {
    "tags": []
   },
   "outputs": [
    {
     "output_type": "execute_result",
     "data": {
      "text/plain": "   inf_count          mean           std           var  max       min  median  \\\n0          0 -16664.166667  40826.053816  1.666767e+09  5.0 -100000.0     2.5   \n\n   kurt     skew      sum  ...     range        cv  monotonic_increase  \\\n0   6.0 -2.44949 -99985.0  ...  100005.0 -2.449931               False   \n\n   monotonic_decrease  n_zeros  n_unique  n_records  memory_size  dtype  \\\n0               False        0         6          7          191  Int64   \n\n   na_count  \n0         1  \n\n[1 rows x 27 columns]",
      "text/html": "<div>\n<style scoped>\n    .dataframe tbody tr th:only-of-type {\n        vertical-align: middle;\n    }\n\n    .dataframe tbody tr th {\n        vertical-align: top;\n    }\n\n    .dataframe thead th {\n        text-align: right;\n    }\n</style>\n<table border=\"1\" class=\"dataframe\">\n  <thead>\n    <tr style=\"text-align: right;\">\n      <th></th>\n      <th>inf_count</th>\n      <th>mean</th>\n      <th>std</th>\n      <th>var</th>\n      <th>max</th>\n      <th>min</th>\n      <th>median</th>\n      <th>kurt</th>\n      <th>skew</th>\n      <th>sum</th>\n      <th>...</th>\n      <th>range</th>\n      <th>cv</th>\n      <th>monotonic_increase</th>\n      <th>monotonic_decrease</th>\n      <th>n_zeros</th>\n      <th>n_unique</th>\n      <th>n_records</th>\n      <th>memory_size</th>\n      <th>dtype</th>\n      <th>na_count</th>\n    </tr>\n  </thead>\n  <tbody>\n    <tr>\n      <th>0</th>\n      <td>0</td>\n      <td>-16664.166667</td>\n      <td>40826.053816</td>\n      <td>1.666767e+09</td>\n      <td>5.0</td>\n      <td>-100000.0</td>\n      <td>2.5</td>\n      <td>6.0</td>\n      <td>-2.44949</td>\n      <td>-99985.0</td>\n      <td>...</td>\n      <td>100005.0</td>\n      <td>-2.449931</td>\n      <td>False</td>\n      <td>False</td>\n      <td>0</td>\n      <td>6</td>\n      <td>7</td>\n      <td>191</td>\n      <td>Int64</td>\n      <td>1</td>\n    </tr>\n  </tbody>\n</table>\n<p>1 rows × 27 columns</p>\n</div>"
     },
     "metadata": {},
     "execution_count": 68
    }
   ],
   "source": [
    "x = {}\n",
    "for k, v in summary.items():\n",
    "    if not isinstance(summary[k], dict):\n",
    "        x[k] = v\n",
    "\n",
    "\n",
    "t2 = pd.DataFrame(x, index=[0])\n",
    "t2"
   ]
  },
  {
   "cell_type": "code",
   "execution_count": 85,
   "metadata": {},
   "outputs": [],
   "source": [
    "df = pd.read_csv('houses_to_rent_mba4.csv')"
   ]
  },
  {
   "cell_type": "code",
   "execution_count": 123,
   "metadata": {
    "tags": []
   },
   "outputs": [],
   "source": [
    "# Initialize the typeset\n",
    "typeset = CompleteSet()\n",
    "\n",
    "# Infer the column type\n",
    "types = detect_frame_type(df, typeset)\n",
    "\n",
    "# Generate a summary\n",
    "summarizer = CompleteSummary()\n",
    "summary = summarizer.summarize(df, types)"
   ]
  },
  {
   "cell_type": "code",
   "execution_count": 127,
   "metadata": {
    "tags": []
   },
   "outputs": [
    {
     "output_type": "execute_result",
     "data": {
      "text/plain": "dict"
     },
     "metadata": {},
     "execution_count": 127
    }
   ],
   "source": [
    "type(summary)"
   ]
  },
  {
   "cell_type": "code",
   "execution_count": 128,
   "metadata": {},
   "outputs": [
    {
     "output_type": "execute_result",
     "data": {
      "text/plain": "                   types                                             series  \\\nUnnamed: 0       Integer  {'inf_count': 0, 'mean': 5882.0, 'std': 3396.4...   \ncity              String  {'n_unique': 7, 'length': [9, 9, 12, 12, 9, 9,...   \narea               Float  {'inf_count': 0, 'mean': 145.65269102421493, '...   \nrooms              Float  {'inf_count': 0, 'mean': 2.4964059558446006, '...   \nbathroom         Integer  {'inf_count': 0, 'mean': 2.280407989800255, 's...   \nparking spaces     Float  {'inf_count': 0, 'mean': 2.1817045454545454, '...   \nfloor             String  {'n_unique': 37, 'length': [1.0, 2.0, 1.0, 1.0...   \nhoa              Integer  {'inf_count': 0, 'mean': 1162.632214194645, 's...   \nrent             Integer  {'inf_count': 0, 'mean': 4033.429154271143, 's...   \ntax               String  {'n_unique': 1227, 'length': [3, 4, 2, 2, 2, 3...   \ninsurance        Integer  {'inf_count': 0, 'mean': 56.52758181045474, 's...   \ntotal              Float  {'inf_count': 0, 'mean': 5622.369885252869, 's...   \npage hits         String  {'n_unique': 290, 'length': [3, 3, 2, 2, 4, 3,...   \ndays available   Integer  {'inf_count': 0, 'mean': 73.65465363365915, 's...   \ninteractions     Integer  {'inf_count': 0, 'mean': 228.02396940076497, '...   \nweeks available  Integer  {'inf_count': 0, 'mean': 10.30939226519337, 's...   \ntype              String  {'n_unique': 2, 'length': [4, 4, 4, 4, 4, 5, 4...   \ncountry           String  {'n_unique': 3, 'length': [6, 6, 6, 6, 6, 6, 6...   \nn_observations       NaN                                                NaN   \nn_variables          NaN                                                NaN   \nmemory_size          NaN                                                NaN   \ntype_counts          NaN                                                NaN   \nna_count             NaN                                                NaN   \nn_vars_missing       NaN                                                NaN   \n\n                                                             frame  \nUnnamed: 0                                                     NaN  \ncity                                                           NaN  \narea                                                           NaN  \nrooms                                                          NaN  \nbathroom                                                       NaN  \nparking spaces                                                 NaN  \nfloor                                                          NaN  \nhoa                                                            NaN  \nrent                                                           NaN  \ntax                                                            NaN  \ninsurance                                                      NaN  \ntotal                                                          NaN  \npage hits                                                      NaN  \ndays available                                                 NaN  \ninteractions                                                   NaN  \nweeks available                                                NaN  \ntype                                                           NaN  \ncountry                                                        NaN  \nn_observations                                               11765  \nn_variables                                                     18  \nmemory_size                                                5793001  \ntype_counts      Integer    8\nString     6\nFloat      4\ndtype: ...  \nna_count                                                      3126  \nn_vars_missing                                                   0  ",
      "text/html": "<div>\n<style scoped>\n    .dataframe tbody tr th:only-of-type {\n        vertical-align: middle;\n    }\n\n    .dataframe tbody tr th {\n        vertical-align: top;\n    }\n\n    .dataframe thead th {\n        text-align: right;\n    }\n</style>\n<table border=\"1\" class=\"dataframe\">\n  <thead>\n    <tr style=\"text-align: right;\">\n      <th></th>\n      <th>types</th>\n      <th>series</th>\n      <th>frame</th>\n    </tr>\n  </thead>\n  <tbody>\n    <tr>\n      <th>Unnamed: 0</th>\n      <td>Integer</td>\n      <td>{'inf_count': 0, 'mean': 5882.0, 'std': 3396.4...</td>\n      <td>NaN</td>\n    </tr>\n    <tr>\n      <th>city</th>\n      <td>String</td>\n      <td>{'n_unique': 7, 'length': [9, 9, 12, 12, 9, 9,...</td>\n      <td>NaN</td>\n    </tr>\n    <tr>\n      <th>area</th>\n      <td>Float</td>\n      <td>{'inf_count': 0, 'mean': 145.65269102421493, '...</td>\n      <td>NaN</td>\n    </tr>\n    <tr>\n      <th>rooms</th>\n      <td>Float</td>\n      <td>{'inf_count': 0, 'mean': 2.4964059558446006, '...</td>\n      <td>NaN</td>\n    </tr>\n    <tr>\n      <th>bathroom</th>\n      <td>Integer</td>\n      <td>{'inf_count': 0, 'mean': 2.280407989800255, 's...</td>\n      <td>NaN</td>\n    </tr>\n    <tr>\n      <th>parking spaces</th>\n      <td>Float</td>\n      <td>{'inf_count': 0, 'mean': 2.1817045454545454, '...</td>\n      <td>NaN</td>\n    </tr>\n    <tr>\n      <th>floor</th>\n      <td>String</td>\n      <td>{'n_unique': 37, 'length': [1.0, 2.0, 1.0, 1.0...</td>\n      <td>NaN</td>\n    </tr>\n    <tr>\n      <th>hoa</th>\n      <td>Integer</td>\n      <td>{'inf_count': 0, 'mean': 1162.632214194645, 's...</td>\n      <td>NaN</td>\n    </tr>\n    <tr>\n      <th>rent</th>\n      <td>Integer</td>\n      <td>{'inf_count': 0, 'mean': 4033.429154271143, 's...</td>\n      <td>NaN</td>\n    </tr>\n    <tr>\n      <th>tax</th>\n      <td>String</td>\n      <td>{'n_unique': 1227, 'length': [3, 4, 2, 2, 2, 3...</td>\n      <td>NaN</td>\n    </tr>\n    <tr>\n      <th>insurance</th>\n      <td>Integer</td>\n      <td>{'inf_count': 0, 'mean': 56.52758181045474, 's...</td>\n      <td>NaN</td>\n    </tr>\n    <tr>\n      <th>total</th>\n      <td>Float</td>\n      <td>{'inf_count': 0, 'mean': 5622.369885252869, 's...</td>\n      <td>NaN</td>\n    </tr>\n    <tr>\n      <th>page hits</th>\n      <td>String</td>\n      <td>{'n_unique': 290, 'length': [3, 3, 2, 2, 4, 3,...</td>\n      <td>NaN</td>\n    </tr>\n    <tr>\n      <th>days available</th>\n      <td>Integer</td>\n      <td>{'inf_count': 0, 'mean': 73.65465363365915, 's...</td>\n      <td>NaN</td>\n    </tr>\n    <tr>\n      <th>interactions</th>\n      <td>Integer</td>\n      <td>{'inf_count': 0, 'mean': 228.02396940076497, '...</td>\n      <td>NaN</td>\n    </tr>\n    <tr>\n      <th>weeks available</th>\n      <td>Integer</td>\n      <td>{'inf_count': 0, 'mean': 10.30939226519337, 's...</td>\n      <td>NaN</td>\n    </tr>\n    <tr>\n      <th>type</th>\n      <td>String</td>\n      <td>{'n_unique': 2, 'length': [4, 4, 4, 4, 4, 5, 4...</td>\n      <td>NaN</td>\n    </tr>\n    <tr>\n      <th>country</th>\n      <td>String</td>\n      <td>{'n_unique': 3, 'length': [6, 6, 6, 6, 6, 6, 6...</td>\n      <td>NaN</td>\n    </tr>\n    <tr>\n      <th>n_observations</th>\n      <td>NaN</td>\n      <td>NaN</td>\n      <td>11765</td>\n    </tr>\n    <tr>\n      <th>n_variables</th>\n      <td>NaN</td>\n      <td>NaN</td>\n      <td>18</td>\n    </tr>\n    <tr>\n      <th>memory_size</th>\n      <td>NaN</td>\n      <td>NaN</td>\n      <td>5793001</td>\n    </tr>\n    <tr>\n      <th>type_counts</th>\n      <td>NaN</td>\n      <td>NaN</td>\n      <td>Integer    8\nString     6\nFloat      4\ndtype: ...</td>\n    </tr>\n    <tr>\n      <th>na_count</th>\n      <td>NaN</td>\n      <td>NaN</td>\n      <td>3126</td>\n    </tr>\n    <tr>\n      <th>n_vars_missing</th>\n      <td>NaN</td>\n      <td>NaN</td>\n      <td>0</td>\n    </tr>\n  </tbody>\n</table>\n</div>"
     },
     "metadata": {},
     "execution_count": 128
    }
   ],
   "source": [
    "x = {}\n",
    "for k, v in summary.items():\n",
    "    if not isinstance(summary[k], dict):\n",
    "        x[k] = v\n",
    "\n",
    "\n",
    "t2 = pd.DataFrame(summary)\n",
    "t2"
   ]
  },
  {
   "cell_type": "code",
   "execution_count": 130,
   "metadata": {},
   "outputs": [
    {
     "output_type": "execute_result",
     "data": {
      "text/plain": "dict_keys(['types', 'series', 'frame'])"
     },
     "metadata": {},
     "execution_count": 130
    }
   ],
   "source": [
    "summary.keys()"
   ]
  }
 ],
 "metadata": {
  "language_info": {
   "codemirror_mode": {
    "name": "ipython",
    "version": 3
   },
   "file_extension": ".py",
   "mimetype": "text/x-python",
   "name": "python",
   "nbconvert_exporter": "python",
   "pygments_lexer": "ipython3",
   "version": "3.7.6-final"
  },
  "orig_nbformat": 2,
  "kernelspec": {
   "name": "python3",
   "display_name": "Python 3"
  }
 },
 "nbformat": 4,
 "nbformat_minor": 2
}