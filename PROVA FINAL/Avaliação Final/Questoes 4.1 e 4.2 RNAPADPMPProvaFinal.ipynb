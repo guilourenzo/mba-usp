{
  "nbformat": 4,
  "nbformat_minor": 0,
  "metadata": {
    "colab": {
      "name": "RNAPADPMPProvaFinal.ipynb",
      "provenance": [],
      "collapsed_sections": [],
      "toc_visible": true
    },
    "kernelspec": {
      "name": "python3",
      "display_name": "Python 3",
      "language": "python"
    }
  },
  "cells": [
    {
      "cell_type": "markdown",
      "metadata": {
        "id": "flekT6GFDN6m"
      },
      "source": [
        "# GUILHERME LOURENÇO: \n",
        "\n",
        "### <span style=\"color:blue\">MBA em Ciência de Dados</span>\n",
        "### <span style=\"color:blue\">Redes Neurais e Arquiteturas Profundas</span>\n",
        "### <span style=\"color:blue\">Análise de Dados com Base em Processamento Massivo em Paralelo</span>\n",
        "\n",
        "### <span style=\"color:blue\">Prova Final</span>\n",
        "\n",
        "**Material Produzido por:**<br>\n",
        ">**Profa. Dra. Cristina Dutra de Aguiar Ciferri**<br>\n",
        ">**Prof. Dr. Moacir A. Ponti**<br> \n",
        "\n",
        "**CEMEAI - ICMC/USP São Carlos**\n",
        "\n",
        "\n",
        "*A prova final contém 1 questão, dividida em 4 itens. Por favor, procurem por Questão para encontrar a especificação da questão e por Item para encontrar a especificação do item. Também é possível localizar a questão e os itens utilizando o menu de navegação. O notebook contém a constelação de fatos da BI Solutions que deve ser utilizada para responder à questão e também todas as `bibliotecas`, `bases de dados`, `inicializações`, `instalações`, `importações`, `geração de dataFrames`, `geração de visões temporárias` e `conversão dos tipos de dados` necessárias para a realização da questão.*\n",
        "\n",
        "\n",
        "**INSTRUÇÕES**:<br>\n",
        "1) Você deve exportar esse notebook com sua solução para as questões da prova em formato .py e fazer upload no Moodle. Atenção: você não deve fazer upload de um arquivo notebook (.ipynb), mas sim um arquivo texto .py contendo os códigos python que utilizou para resolver as questões. O arquivo .py pode ser gerado através da opção:<br>\n",
        "File --> Download as --> Python (.py)\n",
        "disponível no Jupyter Notebook.\n",
        "\n",
        "ou\n",
        "File --> Download .py\n",
        "no Google Colab\n",
        "\n",
        "Caso não esteja utilizando o Jupyter, copie e cole seu código em um arquivo ASCII (Texto) salvando com a extensão .py\n",
        "\n",
        "2) Você deve salvar esse notebook com sua solução para as questões da prova em formato .pdf e fazer upload no Moodle\n",
        "\n",
        "3) Os arquivos devem ser nomeados com seu nome e sobrenome, sem espaços. Exemplo: moacirponti.py e moacirponti.pdf\n",
        "\n",
        "4) É OBRIGATÓRIO conter no cabeçalho (início) do arquivo um comentário / texto com o seu nome completo\n",
        "\n",
        "\n",
        "**Desejamos uma boa prova!**"
      ]
    },
    {
      "cell_type": "markdown",
      "metadata": {
        "id": "3o3dN_WLQcyD"
      },
      "source": [
        "#1 Constelação de Fatos da BI Solutions\n",
        "\n",
        "A aplicação de *data warehousing* da BI Solutions utiliza como base uma contelação de fatos, conforme descrita a seguir.\n",
        "\n",
        "**Tabelas de dimensão**\n",
        "\n",
        "- data (dataPK, dataCompleta, dataDia, dataMes, dataBimestre, dataTrimestre, dataSemestre, dataAno)\n",
        "- funcionario (funcPK, funcMatricula, funcNome, funcSexo, funcDataNascimento, funcDiaNascimento, funcMesNascimento, funcAnoNascimento, funcCidade, funcEstadoNome, funcEstadoSigla, funcRegiaoNome, funcRegiaoSigla, funcPaisNome, funcPaisSigla)\n",
        "- equipe (equipePK, equipeNome, filialNome, filialCidade, filialEstadoNome, filialEstadoSigla, filialRegiaoNome, filialRegiaoSigla, filialPaisNome, filialPaisSigla)\n",
        "- cargo (cargoPK, cargoNome, cargoRegimeTrabalho, cargoEscolaridadeMinima, cargoNivel)\n",
        "- cliente (clientePK, clienteNomeFantasia, clienteSetor, clienteCidade, clienteEstadoNome, clienteEstadoSigla, clienteRegiaoNome, clienteRegiaoSigla, clientePaisNome, clientePaisSigla)\n",
        "\n",
        "**Tabelas de fatos**\n",
        "- pagamento (dataPK, funcPK, equipePK, cargoPK, salario, quantidadeLancamentos)\n",
        "- negociacao (dataPK, equipePK, clientePK, receita, quantidadeNegociacoes)\n"
      ]
    },
    {
      "cell_type": "markdown",
      "metadata": {
        "id": "BGeh8KdXwVCQ"
      },
      "source": [
        "#2 Configurações \n"
      ]
    },
    {
      "cell_type": "markdown",
      "metadata": {
        "id": "lWX2HVtNSw8w"
      },
      "source": [
        "## 2.1 Obtenção dos Dados da BI Solutions"
      ]
    },
    {
      "cell_type": "code",
      "metadata": {
        "id": "3e0Eao1K0EYG"
      },
      "source": [
        "#instalando o módulo wget\n",
        "# %%capture\n",
        "# !pip install -q wget\n",
        "!mkdir data\n",
        "\n",
        "#baixando os dados das tabelas de dimensão e das tabelas de fatos\n",
        "import wget\n",
        "\n",
        "url = \"https://raw.githubusercontent.com/cdaciferri/DataMartBISolutions/main/data.csv\"\n",
        "wget.download(url, \"data/data.csv\")\n",
        "\n",
        "url = \"https://raw.githubusercontent.com/cdaciferri/DataMartBISolutions/main/funcionario.csv\"\n",
        "wget.download(url, \"data/funcionario.csv\")\n",
        "\n",
        "url = \"https://raw.githubusercontent.com/cdaciferri/DataMartBISolutions/main/equipe.csv\"\n",
        "wget.download(url, \"data/equipe.csv\")\n",
        "\n",
        "url = \"https://raw.githubusercontent.com/cdaciferri/DataMartBISolutions/main/cargo.csv\"\n",
        "wget.download(url, \"data/cargo.csv\")\n",
        "\n",
        "url = \"https://raw.githubusercontent.com/cdaciferri/DataMartBISolutions/main/cliente.csv\"\n",
        "wget.download(url, \"data/cliente.csv\")\n",
        "\n",
        "url = \"https://raw.githubusercontent.com/cdaciferri/DataMartBISolutions/main/pagamento.csv\"\n",
        "wget.download(url, \"data/pagamento.csv\")\n",
        "\n",
        "url = \"https://raw.githubusercontent.com/cdaciferri/DataMartBISolutions/main/negociacao.csv\"\n",
        "wget.download(url, \"data/negociacao.csv\")"
      ],
      "execution_count": 1,
      "outputs": [
        {
          "output_type": "execute_result",
          "data": {
            "text/plain": [
              "'data/negociacao.csv'"
            ]
          },
          "metadata": {},
          "execution_count": 1
        }
      ]
    },
    {
      "cell_type": "markdown",
      "metadata": {
        "id": "sO16-7-jOioq"
      },
      "source": [
        "## 2.2 Instalações e Inicializações"
      ]
    },
    {
      "cell_type": "code",
      "metadata": {
        "id": "gFfZ3QoxuV6q"
      },
      "source": [
        "#instalando Java Runtime Environment (JRE) versão 8\n",
        "# %%capture\n",
        "# !apt-get remove openjdk*\n",
        "# !apt-get update --fix-missing\n",
        "# !apt-get install openjdk-8-jdk-headless -qq > /dev/null"
      ],
      "execution_count": 2,
      "outputs": []
    },
    {
      "cell_type": "code",
      "metadata": {
        "id": "hpSR-ffXuZS3"
      },
      "source": [
        "#baixando Apache Spark versão 3.0.0\n",
        "# %%capture\n",
        "# !wget -q https://archive.apache.org/dist/spark/spark-3.0.0/spark-3.0.0-bin-hadoop2.7.tgz\n",
        "# !tar xf spark-3.0.0-bin-hadoop2.7.tgz && rm spark-3.0.0-bin-hadoop2.7.tgz"
      ],
      "execution_count": 3,
      "outputs": []
    },
    {
      "cell_type": "code",
      "metadata": {
        "id": "XC4whsGcuiEF"
      },
      "source": [
        "import os\n",
        "#configurando a variável de ambiente JAVA_HOME\n",
        "os.environ[\"JAVA_HOME\"] = \"/usr/lib/jvm/java-8-openjdk-amd64\"\n",
        "#configurando a variável de ambiente SPARK_HOME\n",
        "os.environ[\"SPARK_HOME\"] = \"./spark-3.0.0-bin-hadoop2.7\""
      ],
      "execution_count": 2,
      "outputs": []
    },
    {
      "cell_type": "code",
      "metadata": {
        "id": "ZMmfchBEuky0"
      },
      "source": [
        "# %%capture\n",
        "#instalando o pacote findspark\n",
        "# !pip install -q findspark==1.4.2\n",
        "#instalando o pacote pyspark\n",
        "# !pip install -q pyspark==3.0.0"
      ],
      "execution_count": 5,
      "outputs": []
    },
    {
      "cell_type": "markdown",
      "metadata": {
        "id": "k_8fiSPVwqAO"
      },
      "source": [
        "## 2.3 Bibliotecas"
      ]
    },
    {
      "cell_type": "code",
      "metadata": {
        "id": "NXls3bfoglKW"
      },
      "source": [
        "import findspark\n",
        "findspark.init()\n",
        "from pyspark.sql import SparkSession\n",
        "spark = SparkSession.builder.appName(\"pyspark-notebook\").master(\"local[*]\").getOrCreate()\n",
        "\n",
        "from pyspark.sql.types import IntegerType\n",
        "from pyspark.sql.types import FloatType\n",
        "from pyspark.sql.functions import round, desc\n",
        "\n",
        "import pandas as pd\n",
        "import numpy as np\n",
        "import matplotlib.pyplot as plt\n",
        "import tensorflow as tf\n",
        "from numpy.random import seed\n",
        "from tensorflow.random import set_seed\n",
        "from tensorflow import keras\n",
        "from tensorflow.keras import layers"
      ],
      "execution_count": 3,
      "outputs": []
    },
    {
      "cell_type": "markdown",
      "metadata": {
        "id": "5qL9SiR_pQE2"
      },
      "source": [
        "## 2.4 Geração dos DataFrames em Spark da BI Solutions\n"
      ]
    },
    {
      "cell_type": "code",
      "metadata": {
        "cellView": "both",
        "id": "FNR-3dV6oYk4"
      },
      "source": [
        "#criando os DataFrames em Spark \n",
        "cargo = spark.read.csv(path=\"data/cargo.csv\", header=True, sep=\",\")\n",
        "cliente = spark.read.csv(path=\"data/cliente.csv\", header=True, sep=\",\")\n",
        "data = spark.read.csv(path=\"data/data.csv\", header=True, sep=\",\")\n",
        "equipe = spark.read.csv(path=\"data/equipe.csv\", header=True, sep=\",\")\n",
        "funcionario = spark.read.csv(path=\"data/funcionario.csv\", header=True, sep=\",\")\n",
        "negociacao = spark.read.csv(path=\"data/negociacao.csv\", header=True, sep=\",\")\n",
        "pagamento = spark.read.csv(path=\"data/pagamento.csv\", header=True, sep=\",\")"
      ],
      "execution_count": 4,
      "outputs": []
    },
    {
      "cell_type": "code",
      "metadata": {
        "id": "jmCV6Mur__z6"
      },
      "source": [
        "#convertendo os dados necessários para o tipo de dado inteiro\n",
        "colunas_cargo = [\"cargoPK\"]\n",
        "colunas_cliente = [\"clientePK\"]\n",
        "colunas_data = [\"dataPk\", \"dataDia\", \"dataMes\", \"dataBimestre\", \"dataTrimestre\", \"dataSemestre\", \"dataAno\"]\n",
        "colunas_equipe = [\"equipePK\"]\n",
        "colunas_funcionario = [\"funcPK\", \"funcDiaNascimento\", \"funcMesNascimento\", \"funcAnoNascimento\"]\n",
        "colunas_negociacao = [\"equipePK\", \"clientePK\", \"dataPK\", \"quantidadeNegociacoes\"]\n",
        "colunas_pagamento = [\"funcPK\", \"equipePK\", \"dataPK\", \"cargoPK\", \"quantidadeLancamentos\"]\n",
        "\n",
        "for coluna in colunas_cargo:\n",
        "  cargo = cargo.withColumn(coluna, cargo[coluna].cast(IntegerType()))\n",
        "\n",
        "for coluna in colunas_cliente:\n",
        "  cliente = cliente.withColumn(coluna, cliente[coluna].cast(IntegerType()))\n",
        "\n",
        "for coluna in colunas_data:\n",
        "  data = data.withColumn(coluna, data[coluna].cast(IntegerType()))\n",
        "\n",
        "for coluna in colunas_equipe:\n",
        "  equipe = equipe.withColumn(coluna, equipe[coluna].cast(IntegerType()))\n",
        "\n",
        "for coluna in colunas_funcionario:\n",
        "  funcionario = funcionario.withColumn(coluna, funcionario[coluna].cast(IntegerType()))\n",
        "\n",
        "for coluna in colunas_negociacao:\n",
        "  negociacao = negociacao.withColumn(coluna, negociacao[coluna].cast(IntegerType()))\n",
        "\n",
        "for coluna in colunas_pagamento:\n",
        "  pagamento = pagamento.withColumn(coluna, pagamento[coluna].cast(IntegerType()))"
      ],
      "execution_count": 5,
      "outputs": []
    },
    {
      "cell_type": "code",
      "metadata": {
        "id": "RBcQ7Ep7AWqN"
      },
      "source": [
        "#convertendo os dados necessários para o tipo de dado float\n",
        "colunas_negociacao = [\"receita\"]\n",
        "colunas_pagamento = [\"salario\"]\n",
        "\n",
        "for coluna in colunas_negociacao:\n",
        "  negociacao = negociacao.withColumn(coluna, negociacao[coluna].cast(FloatType()))\n",
        "\n",
        "for coluna in colunas_pagamento:\n",
        "  pagamento = pagamento.withColumn(coluna, pagamento[coluna].cast(FloatType()))"
      ],
      "execution_count": 6,
      "outputs": []
    },
    {
      "cell_type": "code",
      "metadata": {
        "id": "xJsqRI3TwsjS"
      },
      "source": [
        "#criando as visões temporárias \n",
        "cargo.createOrReplaceTempView(\"cargo\")\n",
        "cliente.createOrReplaceTempView(\"cliente\")\n",
        "data.createOrReplaceTempView(\"data\")\n",
        "equipe.createOrReplaceTempView(\"equipe\")\n",
        "funcionario.createOrReplaceTempView(\"funcionario\")\n",
        "negociacao.createOrReplaceTempView(\"negociacao\")\n",
        "pagamento.createOrReplaceTempView(\"pagamento\")"
      ],
      "execution_count": 7,
      "outputs": []
    },
    {
      "cell_type": "markdown",
      "metadata": {
        "id": "XEiHuA0Ly0o1"
      },
      "source": [
        "# 3 Questão"
      ]
    },
    {
      "cell_type": "markdown",
      "metadata": {
        "id": "PVxVjOMEzXIW"
      },
      "source": [
        "A empresa BI Solutions resolveu realizar uma sindicância nos salários dos funcionários do ano de 2017. O objetivo da sindicância é identificar funcionários cujo padrão de recebimento de salário em 2017 esteja fora do padrão dos salários pagos em 2016, considerando que os dados de 2016 já foram auditados e estão adequados.\n",
        "\n",
        "Para tanto, a empresa resolveu utilizar uma rede neural para identificar *anomalias* e, a partir dessas *anomalias*, investigar os funcionários."
      ]
    },
    {
      "cell_type": "markdown",
      "metadata": {
        "id": "HIUhajAB0Rwk"
      },
      "source": [
        "**IMPORTANTE**: Leia a questão com muita atenção, desde que vários passos da questão já se encontram implementados. Os locais nos quais os comandos da questão devem ser especificados são identificados em comentários. "
      ]
    },
    {
      "cell_type": "markdown",
      "metadata": {
        "id": "KFJlq2rfCZ3L"
      },
      "source": [
        "### 3.1 Dados para o Modelo"
      ]
    },
    {
      "cell_type": "markdown",
      "metadata": {
        "id": "fz1CGW8Xy8a-"
      },
      "source": [
        "#### 3.1.1 Consulta dataAno 2016\n",
        "\n",
        "*Esta parte da questão já está resolvida. Realize a leitura do enunciado e da resposta.*\n",
        "\n",
        "Considere a consulta a seguir, a qual retorna os valores dos atributos `funcPK`, `equipePK`, `dataPK`, `cargoPK` e `salario` da relação `pagamento`, considerando os pagamentos realizados na `dataAno` de `2016`. \n",
        "**A resposta desta consulta deve ser usada para treinar o modelo posteriormente. Note que essa resposta é armazenada no dataFrame `respostaPandas16`, que é um dataFrame em Pandas.**"
      ]
    },
    {
      "cell_type": "code",
      "metadata": {
        "id": "pJyc3oF2TBXs"
      },
      "source": [
        "#especificando a consulta que retorna os valores dos atributos\n",
        "#funcPK, equipePK, dataPK, cargoPK e salario\n",
        "#para pagamentos realizados na dataAno de 2016\n",
        "query2016 = query = \"\"\"\n",
        "SELECT funcPK, equipePK, pagamento.dataPK, cargoPK, salario\n",
        "FROM pagamento, data\n",
        "WHERE pagamento.dataPK = data.dataPK\n",
        "      AND dataAno = 2016\n",
        "ORDER BY funcPK, equipePK, pagamento.dataPK, cargoPK, salario       \n",
        "\"\"\"\n",
        "\n",
        "#transformando o resultado em um dataFrame em Pandas\n",
        "respostaPandas16 = spark.sql(query2016).toPandas()\n",
        "\n",
        "#exibindo algumas linhas do dataFrame respostaPandas16\n",
        "respostaPandas16"
      ],
      "execution_count": 8,
      "outputs": [
        {
          "output_type": "execute_result",
          "data": {
            "text/plain": [
              "     funcPK  equipePK  dataPK  cargoPK      salario\n",
              "0         5         2       5      112  2226.659912\n",
              "1         5         2      36      112  2226.659912\n",
              "2         5         2      65      112  2226.659912\n",
              "3         5         2      96      112  2226.659912\n",
              "4         5         2     126      112  2226.659912\n",
              "..      ...       ...     ...      ...          ...\n",
              "595     199         2     218      116  4703.600098\n",
              "596     199         2     249      116  4703.600098\n",
              "597     199         2     279      116  4703.600098\n",
              "598     199         2     310      116  4703.600098\n",
              "599     199         2     340      116  4703.600098\n",
              "\n",
              "[600 rows x 5 columns]"
            ],
            "text/html": "<div>\n<style scoped>\n    .dataframe tbody tr th:only-of-type {\n        vertical-align: middle;\n    }\n\n    .dataframe tbody tr th {\n        vertical-align: top;\n    }\n\n    .dataframe thead th {\n        text-align: right;\n    }\n</style>\n<table border=\"1\" class=\"dataframe\">\n  <thead>\n    <tr style=\"text-align: right;\">\n      <th></th>\n      <th>funcPK</th>\n      <th>equipePK</th>\n      <th>dataPK</th>\n      <th>cargoPK</th>\n      <th>salario</th>\n    </tr>\n  </thead>\n  <tbody>\n    <tr>\n      <th>0</th>\n      <td>5</td>\n      <td>2</td>\n      <td>5</td>\n      <td>112</td>\n      <td>2226.659912</td>\n    </tr>\n    <tr>\n      <th>1</th>\n      <td>5</td>\n      <td>2</td>\n      <td>36</td>\n      <td>112</td>\n      <td>2226.659912</td>\n    </tr>\n    <tr>\n      <th>2</th>\n      <td>5</td>\n      <td>2</td>\n      <td>65</td>\n      <td>112</td>\n      <td>2226.659912</td>\n    </tr>\n    <tr>\n      <th>3</th>\n      <td>5</td>\n      <td>2</td>\n      <td>96</td>\n      <td>112</td>\n      <td>2226.659912</td>\n    </tr>\n    <tr>\n      <th>4</th>\n      <td>5</td>\n      <td>2</td>\n      <td>126</td>\n      <td>112</td>\n      <td>2226.659912</td>\n    </tr>\n    <tr>\n      <th>...</th>\n      <td>...</td>\n      <td>...</td>\n      <td>...</td>\n      <td>...</td>\n      <td>...</td>\n    </tr>\n    <tr>\n      <th>595</th>\n      <td>199</td>\n      <td>2</td>\n      <td>218</td>\n      <td>116</td>\n      <td>4703.600098</td>\n    </tr>\n    <tr>\n      <th>596</th>\n      <td>199</td>\n      <td>2</td>\n      <td>249</td>\n      <td>116</td>\n      <td>4703.600098</td>\n    </tr>\n    <tr>\n      <th>597</th>\n      <td>199</td>\n      <td>2</td>\n      <td>279</td>\n      <td>116</td>\n      <td>4703.600098</td>\n    </tr>\n    <tr>\n      <th>598</th>\n      <td>199</td>\n      <td>2</td>\n      <td>310</td>\n      <td>116</td>\n      <td>4703.600098</td>\n    </tr>\n    <tr>\n      <th>599</th>\n      <td>199</td>\n      <td>2</td>\n      <td>340</td>\n      <td>116</td>\n      <td>4703.600098</td>\n    </tr>\n  </tbody>\n</table>\n<p>600 rows × 5 columns</p>\n</div>"
          },
          "metadata": {},
          "execution_count": 8
        }
      ]
    },
    {
      "cell_type": "markdown",
      "metadata": {
        "id": "urLtbiouODuI"
      },
      "source": [
        "#### 3.1.2 Consulta dataAno 2017\n",
        "\n",
        "*Esta parte da questão já está resolvida. Realize a leitura do enunciado e da resposta.*\n",
        "\n",
        "Considere a consulta a seguir, a qual retorna os valores dos atributos `funcPK`, `equipePK`, `dataPK`, `cargoPK` e `salario` da relação `pagamento`, considerando os pagamentos realizados na `dataAno` de `2017`. \n",
        "**A resposta desta consulta deve ser verificada posteriormente utilizando a rede neural já treinada (mais detalhes abaixo). Note que essa resposta é armazenada no dataFrame `respostaPandas17`, que é um dataFrame em Pandas.**"
      ]
    },
    {
      "cell_type": "code",
      "metadata": {
        "id": "cOOMFF8i3L0M"
      },
      "source": [
        "#especificando a consulta que retorna os valores dos atributos\n",
        "#funcPK, equipePK, dataPK, cargoPK e salario\n",
        "#para pagamentos realizados na dataAno de 2017\n",
        "query2017 = query = \"\"\"\n",
        "SELECT funcPK, equipePK, pagamento.dataPK, cargoPK, salario\n",
        "FROM pagamento, data\n",
        "WHERE pagamento.dataPK = data.dataPK\n",
        "      AND dataAno = 2017\n",
        "ORDER BY funcPK desc, equipePK, pagamento.dataPK, cargoPK, salario       \n",
        "\"\"\"\n",
        "\n",
        "#transformando o resultado em um dataFrame em Pandas\n",
        "respostaPandas17 = spark.sql(query2017).toPandas()\n",
        "\n",
        "#exibindo algumas linhas do dataFrame respostaPandas17\n",
        "respostaPandas17"
      ],
      "execution_count": 9,
      "outputs": [
        {
          "output_type": "execute_result",
          "data": {
            "text/plain": [
              "      funcPK  equipePK  dataPK  cargoPK       salario\n",
              "0        200         5     371      318  10631.740234\n",
              "1        200         5     402      318  10631.740234\n",
              "2        200         5     430      318  10631.740234\n",
              "3        200         5     461      318  10631.740234\n",
              "4        200         5     491      318  10631.740234\n",
              "...      ...       ...     ...      ...           ...\n",
              "1315       2         3     583      463   1668.939941\n",
              "1316       2         3     614      463   1668.939941\n",
              "1317       2         3     644      463   1668.939941\n",
              "1318       2         3     675      463   1668.939941\n",
              "1319       2         3     705      463   1668.939941\n",
              "\n",
              "[1320 rows x 5 columns]"
            ],
            "text/html": "<div>\n<style scoped>\n    .dataframe tbody tr th:only-of-type {\n        vertical-align: middle;\n    }\n\n    .dataframe tbody tr th {\n        vertical-align: top;\n    }\n\n    .dataframe thead th {\n        text-align: right;\n    }\n</style>\n<table border=\"1\" class=\"dataframe\">\n  <thead>\n    <tr style=\"text-align: right;\">\n      <th></th>\n      <th>funcPK</th>\n      <th>equipePK</th>\n      <th>dataPK</th>\n      <th>cargoPK</th>\n      <th>salario</th>\n    </tr>\n  </thead>\n  <tbody>\n    <tr>\n      <th>0</th>\n      <td>200</td>\n      <td>5</td>\n      <td>371</td>\n      <td>318</td>\n      <td>10631.740234</td>\n    </tr>\n    <tr>\n      <th>1</th>\n      <td>200</td>\n      <td>5</td>\n      <td>402</td>\n      <td>318</td>\n      <td>10631.740234</td>\n    </tr>\n    <tr>\n      <th>2</th>\n      <td>200</td>\n      <td>5</td>\n      <td>430</td>\n      <td>318</td>\n      <td>10631.740234</td>\n    </tr>\n    <tr>\n      <th>3</th>\n      <td>200</td>\n      <td>5</td>\n      <td>461</td>\n      <td>318</td>\n      <td>10631.740234</td>\n    </tr>\n    <tr>\n      <th>4</th>\n      <td>200</td>\n      <td>5</td>\n      <td>491</td>\n      <td>318</td>\n      <td>10631.740234</td>\n    </tr>\n    <tr>\n      <th>...</th>\n      <td>...</td>\n      <td>...</td>\n      <td>...</td>\n      <td>...</td>\n      <td>...</td>\n    </tr>\n    <tr>\n      <th>1315</th>\n      <td>2</td>\n      <td>3</td>\n      <td>583</td>\n      <td>463</td>\n      <td>1668.939941</td>\n    </tr>\n    <tr>\n      <th>1316</th>\n      <td>2</td>\n      <td>3</td>\n      <td>614</td>\n      <td>463</td>\n      <td>1668.939941</td>\n    </tr>\n    <tr>\n      <th>1317</th>\n      <td>2</td>\n      <td>3</td>\n      <td>644</td>\n      <td>463</td>\n      <td>1668.939941</td>\n    </tr>\n    <tr>\n      <th>1318</th>\n      <td>2</td>\n      <td>3</td>\n      <td>675</td>\n      <td>463</td>\n      <td>1668.939941</td>\n    </tr>\n    <tr>\n      <th>1319</th>\n      <td>2</td>\n      <td>3</td>\n      <td>705</td>\n      <td>463</td>\n      <td>1668.939941</td>\n    </tr>\n  </tbody>\n</table>\n<p>1320 rows × 5 columns</p>\n</div>"
          },
          "metadata": {},
          "execution_count": 9
        }
      ]
    },
    {
      "cell_type": "markdown",
      "metadata": {
        "id": "4SRZ-KczCnVI"
      },
      "source": [
        "### 3.2 Especificação da Rede Neural"
      ]
    },
    {
      "cell_type": "markdown",
      "metadata": {
        "id": "zalv2ejOCqUv"
      },
      "source": [
        "#### 3.2.1 Conversão dos dataFrames"
      ]
    },
    {
      "cell_type": "markdown",
      "metadata": {
        "id": "1mYT9-kiC0wI"
      },
      "source": [
        "*Esta parte da questão já está resolvida. Realize a leitura do enunciado e da resposta.*\n",
        "\n",
        "Execute os comandos a seguir, os quais convertem os `dataFrames` `respostaPandas16` e `respostaPandas17` para `numpy array`."
      ]
    },
    {
      "cell_type": "code",
      "metadata": {
        "id": "2p-U8Ho4DF5u"
      },
      "source": [
        "#Convertendo os dataFrames para numpy array\n",
        "x_train = respostaPandas16.to_numpy(copy=False)\n",
        "x_test = respostaPandas17.to_numpy(copy=False)"
      ],
      "execution_count": 10,
      "outputs": []
    },
    {
      "cell_type": "markdown",
      "metadata": {
        "id": "-OgmsrtTDYFE"
      },
      "source": [
        "#### 3.2.2 Inicialização das Sementes"
      ]
    },
    {
      "cell_type": "markdown",
      "metadata": {
        "id": "Wf7Qfr47Def2"
      },
      "source": [
        "*Esta parte da questão já está resolvida. Realize a leitura do enunciado e da resposta.*\n",
        "\n",
        "Execute os comandos a seguir, os quais inicializam as sementes a serem utilizadas. "
      ]
    },
    {
      "cell_type": "code",
      "metadata": {
        "id": "lQYCSI-PDtZy"
      },
      "source": [
        "#inicializando as sementes\n",
        "seed(1)\n",
        "set_seed(1)"
      ],
      "execution_count": 11,
      "outputs": []
    },
    {
      "cell_type": "markdown",
      "metadata": {
        "id": "ABcqQsfqD0-y"
      },
      "source": [
        "#### 3.2.3 Normalização\n",
        "\n",
        "*Esta parte da questão já está resolvida. Realize a leitura do enunciado e da resposta.*\n",
        "\n",
        "Execute os comandos a seguir, nos quais atributos de entrada são normalizados por `min-max` para o intervalo `[0-1]`"
      ]
    },
    {
      "cell_type": "code",
      "metadata": {
        "id": "8RkAaxfsEPG0"
      },
      "source": [
        "#Normalizando min-max para 0-1 (usando max e min do treinamento)\n",
        "max = x_train.max(axis=0)\n",
        "min = x_train.min(axis=0)\n",
        "x_train = (x_train-min)/(max-min)\n",
        "print(x_train.shape)\n",
        "\n",
        "x_test = (x_test-min)/(max-min)\n",
        "print(x_test.shape)"
      ],
      "execution_count": 12,
      "outputs": [
        {
          "output_type": "stream",
          "name": "stdout",
          "text": [
            "(600, 5)\n(1320, 5)\n"
          ]
        }
      ]
    },
    {
      "cell_type": "markdown",
      "metadata": {
        "id": "_y1ykVvVEh1p"
      },
      "source": [
        "#### 3.2.4 Item 1 (RESOLVER)"
      ]
    },
    {
      "cell_type": "markdown",
      "metadata": {
        "id": "4xVYuxXeEtny"
      },
      "source": [
        "Projete um **autoencoder** com a seguinte arquitetura, sendo todas as camadas com função de ativação `relu`:\n",
        "  * Camada de entrada com 5 valores\n",
        "  * Camada densa com 4 neurônios\n",
        "  * Camada densa com 3 neurônios\n",
        "  * Dropout com taxa= 1/3.0\n",
        "  * Camada densa com 4 neurônios\n",
        "  * Camada de saída\n",
        "\n",
        "O objetivo desse autoencoder consiste em aprender uma representação para os dados do ano de 2016."
      ]
    },
    {
      "cell_type": "code",
      "metadata": {
        "id": "QjuuVhxyFVpJ"
      },
      "source": [
        "#Escreva aqui a sua resposta para o Item 1\n",
        "\n",
        "input_data = keras.layers.Input(shape=5)\n",
        "network = keras.layers.Dense(4, activation='relu')(input_data)\n",
        "network = keras.layers.Dense(3, activation='relu')(network)\n",
        "network = keras.layers.Dropout(1/3.0)(network)\n",
        "network = keras.layers.Dense(4, activation='relu')(network)\n",
        "output = keras.layers.Dense(5, activation='relu')(network)\n",
        "\n",
        "model_2016 = keras.models.Model(input_data, output)\n",
        "model_2016.summary()\n"
      ],
      "execution_count": 13,
      "outputs": [
        {
          "output_type": "stream",
          "name": "stdout",
          "text": [
            "Model: \"functional_1\"\n_________________________________________________________________\nLayer (type)                 Output Shape              Param #   \n=================================================================\ninput_1 (InputLayer)         [(None, 5)]               0         \n_________________________________________________________________\ndense (Dense)                (None, 4)                 24        \n_________________________________________________________________\ndense_1 (Dense)              (None, 3)                 15        \n_________________________________________________________________\ndropout (Dropout)            (None, 3)                 0         \n_________________________________________________________________\ndense_2 (Dense)              (None, 4)                 16        \n_________________________________________________________________\ndense_3 (Dense)              (None, 5)                 25        \n=================================================================\nTotal params: 80\nTrainable params: 80\nNon-trainable params: 0\n_________________________________________________________________\n"
          ]
        }
      ]
    },
    {
      "cell_type": "markdown",
      "metadata": {
        "id": "1HMBVI9fFtn-"
      },
      "source": [
        "#### 3.2.5 Item 2 (RESOLVER)"
      ]
    },
    {
      "cell_type": "markdown",
      "metadata": {
        "id": "-qplRm6eFzN_"
      },
      "source": [
        "**Compile** o modelo e **treine** por 250 épocas com batch_size 16, utilizando Adam com taxa de aprendizado inicial 0.002 e decaimento exponencial de -0.005 conforme funcão pré-definida abaixo."
      ]
    },
    {
      "cell_type": "code",
      "metadata": {
        "id": "ePkk1BRYmfu2"
      },
      "source": [
        "# Função que define decaimento para a taxa de aprendizado \n",
        "def scheduler(epoch, lr):\n",
        "    return lr * tf.math.exp(-0.005)"
      ],
      "execution_count": 14,
      "outputs": []
    },
    {
      "cell_type": "code",
      "execution_count": 15,
      "metadata": {},
      "outputs": [],
      "source": [
        "callback = keras.callbacks.LearningRateScheduler(scheduler)\n"
      ]
    },
    {
      "cell_type": "code",
      "metadata": {
        "id": "Fjv2qnV7F8PY"
      },
      "source": [
        "#Escreva aqui a sua resposta para o Item 2\n",
        "epochs = 250\n",
        "batch_size = 16\n",
        "noise_factor = 0.2\n",
        "\n",
        "x_train_noised = x_train + noise_factor * np.random.normal(0, 1, x_train.shape)\n",
        "\n",
        "model_2016.compile(\n",
        "            loss = 'mse',\n",
        "            optimizer = keras.optimizers.Adam(lr = 0.002)\n",
        "            )\n",
        "\n"
      ],
      "execution_count": 16,
      "outputs": []
    },
    {
      "cell_type": "code",
      "execution_count": 18,
      "metadata": {},
      "outputs": [
        {
          "output_type": "stream",
          "name": "stdout",
          "text": [
            "Epoch 1/250\n",
            "38/38 - 0s - loss: 0.1526\n",
            "Epoch 2/250\n",
            "38/38 - 0s - loss: 0.1529\n",
            "Epoch 3/250\n",
            "38/38 - 0s - loss: 0.1510\n",
            "Epoch 4/250\n",
            "38/38 - 0s - loss: 0.1498\n",
            "Epoch 5/250\n",
            "38/38 - 0s - loss: 0.1522\n",
            "Epoch 6/250\n",
            "38/38 - 0s - loss: 0.1516\n",
            "Epoch 7/250\n",
            "38/38 - 0s - loss: 0.1511\n",
            "Epoch 8/250\n",
            "38/38 - 0s - loss: 0.1501\n",
            "Epoch 9/250\n",
            "38/38 - 0s - loss: 0.1516\n",
            "Epoch 10/250\n",
            "38/38 - 0s - loss: 0.1510\n",
            "Epoch 11/250\n",
            "38/38 - 0s - loss: 0.1517\n",
            "Epoch 12/250\n",
            "38/38 - 0s - loss: 0.1500\n",
            "Epoch 13/250\n",
            "38/38 - 0s - loss: 0.1513\n",
            "Epoch 14/250\n",
            "38/38 - 0s - loss: 0.1511\n",
            "Epoch 15/250\n",
            "38/38 - 0s - loss: 0.1495\n",
            "Epoch 16/250\n",
            "38/38 - 0s - loss: 0.1517\n",
            "Epoch 17/250\n",
            "38/38 - 0s - loss: 0.1502\n",
            "Epoch 18/250\n",
            "38/38 - 0s - loss: 0.1505\n",
            "Epoch 19/250\n",
            "38/38 - 0s - loss: 0.1516\n",
            "Epoch 20/250\n",
            "38/38 - 0s - loss: 0.1510\n",
            "Epoch 21/250\n",
            "38/38 - 0s - loss: 0.1508\n",
            "Epoch 22/250\n",
            "38/38 - 0s - loss: 0.1499\n",
            "Epoch 23/250\n",
            "38/38 - 0s - loss: 0.1504\n",
            "Epoch 24/250\n",
            "38/38 - 0s - loss: 0.1500\n",
            "Epoch 25/250\n",
            "38/38 - 0s - loss: 0.1488\n",
            "Epoch 26/250\n",
            "38/38 - 0s - loss: 0.1495\n",
            "Epoch 27/250\n",
            "38/38 - 0s - loss: 0.1505\n",
            "Epoch 28/250\n",
            "38/38 - 0s - loss: 0.1501\n",
            "Epoch 29/250\n",
            "38/38 - 0s - loss: 0.1506\n",
            "Epoch 30/250\n",
            "38/38 - 0s - loss: 0.1505\n",
            "Epoch 31/250\n",
            "38/38 - 0s - loss: 0.1505\n",
            "Epoch 32/250\n",
            "38/38 - 0s - loss: 0.1487\n",
            "Epoch 33/250\n",
            "38/38 - 0s - loss: 0.1514\n",
            "Epoch 34/250\n",
            "38/38 - 0s - loss: 0.1494\n",
            "Epoch 35/250\n",
            "38/38 - 0s - loss: 0.1506\n",
            "Epoch 36/250\n",
            "38/38 - 0s - loss: 0.1520\n",
            "Epoch 37/250\n",
            "38/38 - 0s - loss: 0.1500\n",
            "Epoch 38/250\n",
            "38/38 - 0s - loss: 0.1496\n",
            "Epoch 39/250\n",
            "38/38 - 0s - loss: 0.1517\n",
            "Epoch 40/250\n",
            "38/38 - 0s - loss: 0.1492\n",
            "Epoch 41/250\n",
            "38/38 - 0s - loss: 0.1473\n",
            "Epoch 42/250\n",
            "38/38 - 0s - loss: 0.1508\n",
            "Epoch 43/250\n",
            "38/38 - 0s - loss: 0.1511\n",
            "Epoch 44/250\n",
            "38/38 - 0s - loss: 0.1515\n",
            "Epoch 45/250\n",
            "38/38 - 0s - loss: 0.1506\n",
            "Epoch 46/250\n",
            "38/38 - 0s - loss: 0.1502\n",
            "Epoch 47/250\n",
            "38/38 - 0s - loss: 0.1506\n",
            "Epoch 48/250\n",
            "38/38 - 0s - loss: 0.1512\n",
            "Epoch 49/250\n",
            "38/38 - 0s - loss: 0.1497\n",
            "Epoch 50/250\n",
            "38/38 - 0s - loss: 0.1516\n",
            "Epoch 51/250\n",
            "38/38 - 0s - loss: 0.1519\n",
            "Epoch 52/250\n",
            "38/38 - 0s - loss: 0.1507\n",
            "Epoch 53/250\n",
            "38/38 - 0s - loss: 0.1518\n",
            "Epoch 54/250\n",
            "38/38 - 0s - loss: 0.1507\n",
            "Epoch 55/250\n",
            "38/38 - 0s - loss: 0.1495\n",
            "Epoch 56/250\n",
            "38/38 - 0s - loss: 0.1497\n",
            "Epoch 57/250\n",
            "38/38 - 0s - loss: 0.1520\n",
            "Epoch 58/250\n",
            "38/38 - 0s - loss: 0.1503\n",
            "Epoch 59/250\n",
            "38/38 - 0s - loss: 0.1487\n",
            "Epoch 60/250\n",
            "38/38 - 0s - loss: 0.1497\n",
            "Epoch 61/250\n",
            "38/38 - 0s - loss: 0.1503\n",
            "Epoch 62/250\n",
            "38/38 - 0s - loss: 0.1500\n",
            "Epoch 63/250\n",
            "38/38 - 0s - loss: 0.1514\n",
            "Epoch 64/250\n",
            "38/38 - 0s - loss: 0.1501\n",
            "Epoch 65/250\n",
            "38/38 - 0s - loss: 0.1507\n",
            "Epoch 66/250\n",
            "38/38 - 0s - loss: 0.1506\n",
            "Epoch 67/250\n",
            "38/38 - 0s - loss: 0.1500\n",
            "Epoch 68/250\n",
            "38/38 - 0s - loss: 0.1474\n",
            "Epoch 69/250\n",
            "38/38 - 0s - loss: 0.1495\n",
            "Epoch 70/250\n",
            "38/38 - 0s - loss: 0.1490\n",
            "Epoch 71/250\n",
            "38/38 - 0s - loss: 0.1503\n",
            "Epoch 72/250\n",
            "38/38 - 0s - loss: 0.1504\n",
            "Epoch 73/250\n",
            "38/38 - 0s - loss: 0.1501\n",
            "Epoch 74/250\n",
            "38/38 - 0s - loss: 0.1511\n",
            "Epoch 75/250\n",
            "38/38 - 0s - loss: 0.1495\n",
            "Epoch 76/250\n",
            "38/38 - 0s - loss: 0.1493\n",
            "Epoch 77/250\n",
            "38/38 - 0s - loss: 0.1503\n",
            "Epoch 78/250\n",
            "38/38 - 0s - loss: 0.1502\n",
            "Epoch 79/250\n",
            "38/38 - 0s - loss: 0.1511\n",
            "Epoch 80/250\n",
            "38/38 - 0s - loss: 0.1501\n",
            "Epoch 81/250\n",
            "38/38 - 0s - loss: 0.1510\n",
            "Epoch 82/250\n",
            "38/38 - 0s - loss: 0.1503\n",
            "Epoch 83/250\n",
            "38/38 - 0s - loss: 0.1509\n",
            "Epoch 84/250\n",
            "38/38 - 0s - loss: 0.1507\n",
            "Epoch 85/250\n",
            "38/38 - 0s - loss: 0.1496\n",
            "Epoch 86/250\n",
            "38/38 - 0s - loss: 0.1484\n",
            "Epoch 87/250\n",
            "38/38 - 0s - loss: 0.1505\n",
            "Epoch 88/250\n",
            "38/38 - 0s - loss: 0.1510\n",
            "Epoch 89/250\n",
            "38/38 - 0s - loss: 0.1474\n",
            "Epoch 90/250\n",
            "38/38 - 0s - loss: 0.1503\n",
            "Epoch 91/250\n",
            "38/38 - 0s - loss: 0.1509\n",
            "Epoch 92/250\n",
            "38/38 - 0s - loss: 0.1500\n",
            "Epoch 93/250\n",
            "38/38 - 0s - loss: 0.1500\n",
            "Epoch 94/250\n",
            "38/38 - 0s - loss: 0.1491\n",
            "Epoch 95/250\n",
            "38/38 - 0s - loss: 0.1483\n",
            "Epoch 96/250\n",
            "38/38 - 0s - loss: 0.1502\n",
            "Epoch 97/250\n",
            "38/38 - 0s - loss: 0.1504\n",
            "Epoch 98/250\n",
            "38/38 - 0s - loss: 0.1509\n",
            "Epoch 99/250\n",
            "38/38 - 0s - loss: 0.1504\n",
            "Epoch 100/250\n",
            "38/38 - 0s - loss: 0.1501\n",
            "Epoch 101/250\n",
            "38/38 - 0s - loss: 0.1497\n",
            "Epoch 102/250\n",
            "38/38 - 0s - loss: 0.1505\n",
            "Epoch 103/250\n",
            "38/38 - 0s - loss: 0.1505\n",
            "Epoch 104/250\n",
            "38/38 - 0s - loss: 0.1499\n",
            "Epoch 105/250\n",
            "38/38 - 0s - loss: 0.1507\n",
            "Epoch 106/250\n",
            "38/38 - 0s - loss: 0.1503\n",
            "Epoch 107/250\n",
            "38/38 - 0s - loss: 0.1505\n",
            "Epoch 108/250\n",
            "38/38 - 0s - loss: 0.1498\n",
            "Epoch 109/250\n",
            "38/38 - 0s - loss: 0.1489\n",
            "Epoch 110/250\n",
            "38/38 - 0s - loss: 0.1495\n",
            "Epoch 111/250\n",
            "38/38 - 0s - loss: 0.1497\n",
            "Epoch 112/250\n",
            "38/38 - 0s - loss: 0.1513\n",
            "Epoch 113/250\n",
            "38/38 - 0s - loss: 0.1473\n",
            "Epoch 114/250\n",
            "38/38 - 0s - loss: 0.1498\n",
            "Epoch 115/250\n",
            "38/38 - 0s - loss: 0.1500\n",
            "Epoch 116/250\n",
            "38/38 - 0s - loss: 0.1503\n",
            "Epoch 117/250\n",
            "38/38 - 0s - loss: 0.1484\n",
            "Epoch 118/250\n",
            "38/38 - 0s - loss: 0.1510\n",
            "Epoch 119/250\n",
            "38/38 - 0s - loss: 0.1499\n",
            "Epoch 120/250\n",
            "38/38 - 0s - loss: 0.1510\n",
            "Epoch 121/250\n",
            "38/38 - 0s - loss: 0.1488\n",
            "Epoch 122/250\n",
            "38/38 - 0s - loss: 0.1483\n",
            "Epoch 123/250\n",
            "38/38 - 0s - loss: 0.1525\n",
            "Epoch 124/250\n",
            "38/38 - 0s - loss: 0.1500\n",
            "Epoch 125/250\n",
            "38/38 - 0s - loss: 0.1492\n",
            "Epoch 126/250\n",
            "38/38 - 0s - loss: 0.1502\n",
            "Epoch 127/250\n",
            "38/38 - 0s - loss: 0.1485\n",
            "Epoch 128/250\n",
            "38/38 - 0s - loss: 0.1493\n",
            "Epoch 129/250\n",
            "38/38 - 0s - loss: 0.1500\n",
            "Epoch 130/250\n",
            "38/38 - 0s - loss: 0.1499\n",
            "Epoch 131/250\n",
            "38/38 - 0s - loss: 0.1491\n",
            "Epoch 132/250\n",
            "38/38 - 0s - loss: 0.1492\n",
            "Epoch 133/250\n",
            "38/38 - 0s - loss: 0.1502\n",
            "Epoch 134/250\n",
            "38/38 - 0s - loss: 0.1498\n",
            "Epoch 135/250\n",
            "38/38 - 0s - loss: 0.1500\n",
            "Epoch 136/250\n",
            "38/38 - 0s - loss: 0.1500\n",
            "Epoch 137/250\n",
            "38/38 - 0s - loss: 0.1490\n",
            "Epoch 138/250\n",
            "38/38 - 0s - loss: 0.1492\n",
            "Epoch 139/250\n",
            "38/38 - 0s - loss: 0.1491\n",
            "Epoch 140/250\n",
            "38/38 - 0s - loss: 0.1484\n",
            "Epoch 141/250\n",
            "38/38 - 0s - loss: 0.1477\n",
            "Epoch 142/250\n",
            "38/38 - 0s - loss: 0.1478\n",
            "Epoch 143/250\n",
            "38/38 - 0s - loss: 0.1493\n",
            "Epoch 144/250\n",
            "38/38 - 0s - loss: 0.1478\n",
            "Epoch 145/250\n",
            "38/38 - 0s - loss: 0.1508\n",
            "Epoch 146/250\n",
            "38/38 - 0s - loss: 0.1500\n",
            "Epoch 147/250\n",
            "38/38 - 0s - loss: 0.1489\n",
            "Epoch 148/250\n",
            "38/38 - 0s - loss: 0.1512\n",
            "Epoch 149/250\n",
            "38/38 - 0s - loss: 0.1491\n",
            "Epoch 150/250\n",
            "38/38 - 0s - loss: 0.1491\n",
            "Epoch 151/250\n",
            "38/38 - 0s - loss: 0.1507\n",
            "Epoch 152/250\n",
            "38/38 - 0s - loss: 0.1500\n",
            "Epoch 153/250\n",
            "38/38 - 0s - loss: 0.1477\n",
            "Epoch 154/250\n",
            "38/38 - 0s - loss: 0.1507\n",
            "Epoch 155/250\n",
            "38/38 - 0s - loss: 0.1507\n",
            "Epoch 156/250\n",
            "38/38 - 0s - loss: 0.1509\n",
            "Epoch 157/250\n",
            "38/38 - 0s - loss: 0.1488\n",
            "Epoch 158/250\n",
            "38/38 - 0s - loss: 0.1486\n",
            "Epoch 159/250\n",
            "38/38 - 0s - loss: 0.1511\n",
            "Epoch 160/250\n",
            "38/38 - 0s - loss: 0.1476\n",
            "Epoch 161/250\n",
            "38/38 - 0s - loss: 0.1507\n",
            "Epoch 162/250\n",
            "38/38 - 0s - loss: 0.1494\n",
            "Epoch 163/250\n",
            "38/38 - 0s - loss: 0.1499\n",
            "Epoch 164/250\n",
            "38/38 - 0s - loss: 0.1500\n",
            "Epoch 165/250\n",
            "38/38 - 0s - loss: 0.1516\n",
            "Epoch 166/250\n",
            "38/38 - 0s - loss: 0.1505\n",
            "Epoch 167/250\n",
            "38/38 - 0s - loss: 0.1506\n",
            "Epoch 168/250\n",
            "38/38 - 0s - loss: 0.1483\n",
            "Epoch 169/250\n",
            "38/38 - 0s - loss: 0.1490\n",
            "Epoch 170/250\n",
            "38/38 - 0s - loss: 0.1498\n",
            "Epoch 171/250\n",
            "38/38 - 0s - loss: 0.1487\n",
            "Epoch 172/250\n",
            "38/38 - 0s - loss: 0.1497\n",
            "Epoch 173/250\n",
            "38/38 - 0s - loss: 0.1502\n",
            "Epoch 174/250\n",
            "38/38 - 0s - loss: 0.1503\n",
            "Epoch 175/250\n",
            "38/38 - 0s - loss: 0.1494\n",
            "Epoch 176/250\n",
            "38/38 - 0s - loss: 0.1478\n",
            "Epoch 177/250\n",
            "38/38 - 0s - loss: 0.1491\n",
            "Epoch 178/250\n",
            "38/38 - 0s - loss: 0.1515\n",
            "Epoch 179/250\n",
            "38/38 - 0s - loss: 0.1479\n",
            "Epoch 180/250\n",
            "38/38 - 0s - loss: 0.1511\n",
            "Epoch 181/250\n",
            "38/38 - 0s - loss: 0.1508\n",
            "Epoch 182/250\n",
            "38/38 - 0s - loss: 0.1493\n",
            "Epoch 183/250\n",
            "38/38 - 0s - loss: 0.1484\n",
            "Epoch 184/250\n",
            "38/38 - 0s - loss: 0.1501\n",
            "Epoch 185/250\n",
            "38/38 - 0s - loss: 0.1506\n",
            "Epoch 186/250\n",
            "38/38 - 0s - loss: 0.1508\n",
            "Epoch 187/250\n",
            "38/38 - 0s - loss: 0.1505\n",
            "Epoch 188/250\n",
            "38/38 - 0s - loss: 0.1497\n",
            "Epoch 189/250\n",
            "38/38 - 0s - loss: 0.1503\n",
            "Epoch 190/250\n",
            "38/38 - 0s - loss: 0.1514\n",
            "Epoch 191/250\n",
            "38/38 - 0s - loss: 0.1489\n",
            "Epoch 192/250\n",
            "38/38 - 0s - loss: 0.1477\n",
            "Epoch 193/250\n",
            "38/38 - 0s - loss: 0.1493\n",
            "Epoch 194/250\n",
            "38/38 - 0s - loss: 0.1482\n",
            "Epoch 195/250\n",
            "38/38 - 0s - loss: 0.1489\n",
            "Epoch 196/250\n",
            "38/38 - 0s - loss: 0.1506\n",
            "Epoch 197/250\n",
            "38/38 - 0s - loss: 0.1489\n",
            "Epoch 198/250\n",
            "38/38 - 0s - loss: 0.1491\n",
            "Epoch 199/250\n",
            "38/38 - 0s - loss: 0.1493\n",
            "Epoch 200/250\n",
            "38/38 - 0s - loss: 0.1509\n",
            "Epoch 201/250\n",
            "38/38 - 0s - loss: 0.1515\n",
            "Epoch 202/250\n",
            "38/38 - 0s - loss: 0.1505\n",
            "Epoch 203/250\n",
            "38/38 - 0s - loss: 0.1478\n",
            "Epoch 204/250\n",
            "38/38 - 0s - loss: 0.1508\n",
            "Epoch 205/250\n",
            "38/38 - 0s - loss: 0.1491\n",
            "Epoch 206/250\n",
            "38/38 - 0s - loss: 0.1493\n",
            "Epoch 207/250\n",
            "38/38 - 0s - loss: 0.1500\n",
            "Epoch 208/250\n",
            "38/38 - 0s - loss: 0.1499\n",
            "Epoch 209/250\n",
            "38/38 - 0s - loss: 0.1485\n",
            "Epoch 210/250\n",
            "38/38 - 0s - loss: 0.1503\n",
            "Epoch 211/250\n",
            "38/38 - 0s - loss: 0.1505\n",
            "Epoch 212/250\n",
            "38/38 - 0s - loss: 0.1509\n",
            "Epoch 213/250\n",
            "38/38 - 0s - loss: 0.1496\n",
            "Epoch 214/250\n",
            "38/38 - 0s - loss: 0.1514\n",
            "Epoch 215/250\n",
            "38/38 - 0s - loss: 0.1487\n",
            "Epoch 216/250\n",
            "38/38 - 0s - loss: 0.1490\n",
            "Epoch 217/250\n",
            "38/38 - 0s - loss: 0.1488\n",
            "Epoch 218/250\n",
            "38/38 - 0s - loss: 0.1491\n",
            "Epoch 219/250\n",
            "38/38 - 0s - loss: 0.1500\n",
            "Epoch 220/250\n",
            "38/38 - 0s - loss: 0.1488\n",
            "Epoch 221/250\n",
            "38/38 - 0s - loss: 0.1480\n",
            "Epoch 222/250\n",
            "38/38 - 0s - loss: 0.1509\n",
            "Epoch 223/250\n",
            "38/38 - 0s - loss: 0.1500\n",
            "Epoch 224/250\n",
            "38/38 - 0s - loss: 0.1497\n",
            "Epoch 225/250\n",
            "38/38 - 0s - loss: 0.1510\n",
            "Epoch 226/250\n",
            "38/38 - 0s - loss: 0.1503\n",
            "Epoch 227/250\n",
            "38/38 - 0s - loss: 0.1497\n",
            "Epoch 228/250\n",
            "38/38 - 0s - loss: 0.1499\n",
            "Epoch 229/250\n",
            "38/38 - 0s - loss: 0.1508\n",
            "Epoch 230/250\n",
            "38/38 - 0s - loss: 0.1499\n",
            "Epoch 231/250\n",
            "38/38 - 0s - loss: 0.1482\n",
            "Epoch 232/250\n",
            "38/38 - 0s - loss: 0.1493\n",
            "Epoch 233/250\n",
            "38/38 - 0s - loss: 0.1483\n",
            "Epoch 234/250\n",
            "38/38 - 0s - loss: 0.1486\n",
            "Epoch 235/250\n",
            "38/38 - 0s - loss: 0.1506\n",
            "Epoch 236/250\n",
            "38/38 - 0s - loss: 0.1495\n",
            "Epoch 237/250\n",
            "38/38 - 0s - loss: 0.1491\n",
            "Epoch 238/250\n",
            "38/38 - 0s - loss: 0.1532\n",
            "Epoch 239/250\n",
            "38/38 - 0s - loss: 0.1487\n",
            "Epoch 240/250\n",
            "38/38 - 0s - loss: 0.1500\n",
            "Epoch 241/250\n",
            "38/38 - 0s - loss: 0.1492\n",
            "Epoch 242/250\n",
            "38/38 - 0s - loss: 0.1503\n",
            "Epoch 243/250\n",
            "38/38 - 0s - loss: 0.1499\n",
            "Epoch 244/250\n",
            "38/38 - 0s - loss: 0.1513\n",
            "Epoch 245/250\n",
            "38/38 - 0s - loss: 0.1481\n",
            "Epoch 246/250\n",
            "38/38 - 0s - loss: 0.1500\n",
            "Epoch 247/250\n",
            "38/38 - 0s - loss: 0.1491\n",
            "Epoch 248/250\n",
            "38/38 - 0s - loss: 0.1510\n",
            "Epoch 249/250\n",
            "38/38 - 0s - loss: 0.1492\n",
            "Epoch 250/250\n",
            "38/38 - 0s - loss: 0.1500\n"
          ]
        }
      ],
      "source": [
        "hist_2016 = model_2016.fit(\n",
        "        x = x_train_noised,\n",
        "        y = x_train,\n",
        "        batch_size = batch_size,\n",
        "        epochs = epochs,\n",
        "        callbacks = [callback],\n",
        "        verbose = 2\n",
        "        )"
      ]
    },
    {
      "cell_type": "code",
      "execution_count": 21,
      "metadata": {},
      "outputs": [
        {
          "output_type": "display_data",
          "data": {
            "text/plain": "<Figure size 432x288 with 1 Axes>",
            "image/svg+xml": "<?xml version=\"1.0\" encoding=\"utf-8\" standalone=\"no\"?>\n<!DOCTYPE svg PUBLIC \"-//W3C//DTD SVG 1.1//EN\"\n  \"http://www.w3.org/Graphics/SVG/1.1/DTD/svg11.dtd\">\n<!-- Created with matplotlib (https://matplotlib.org/) -->\n<svg height=\"263.87125pt\" version=\"1.1\" viewBox=\"0 0 398.50625 263.87125\" width=\"398.50625pt\" xmlns=\"http://www.w3.org/2000/svg\" xmlns:xlink=\"http://www.w3.org/1999/xlink\">\n <metadata>\n  <rdf:RDF xmlns:cc=\"http://creativecommons.org/ns#\" xmlns:dc=\"http://purl.org/dc/elements/1.1/\" xmlns:rdf=\"http://www.w3.org/1999/02/22-rdf-syntax-ns#\">\n   <cc:Work>\n    <dc:type rdf:resource=\"http://purl.org/dc/dcmitype/StillImage\"/>\n    <dc:date>2020-12-12T17:52:34.534652</dc:date>\n    <dc:format>image/svg+xml</dc:format>\n    <dc:creator>\n     <cc:Agent>\n      <dc:title>Matplotlib v3.3.3, https://matplotlib.org/</dc:title>\n     </cc:Agent>\n    </dc:creator>\n   </cc:Work>\n  </rdf:RDF>\n </metadata>\n <defs>\n  <style type=\"text/css\">*{stroke-linecap:butt;stroke-linejoin:round;}</style>\n </defs>\n <g id=\"figure_1\">\n  <g id=\"patch_1\">\n   <path d=\"M 0 263.87125 \nL 398.50625 263.87125 \nL 398.50625 0 \nL 0 0 \nz\n\" style=\"fill:none;\"/>\n  </g>\n  <g id=\"axes_1\">\n   <g id=\"patch_2\">\n    <path d=\"M 56.50625 224.64 \nL 391.30625 224.64 \nL 391.30625 7.2 \nL 56.50625 7.2 \nz\n\" style=\"fill:#ffffff;\"/>\n   </g>\n   <g id=\"matplotlib.axis_1\">\n    <g id=\"xtick_1\">\n     <g id=\"line2d_1\">\n      <defs>\n       <path d=\"M 0 0 \nL 0 3.5 \n\" id=\"mdc2325618a\" style=\"stroke:#000000;stroke-width:0.8;\"/>\n      </defs>\n      <g>\n       <use style=\"stroke:#000000;stroke-width:0.8;\" x=\"56.50625\" xlink:href=\"#mdc2325618a\" y=\"224.64\"/>\n      </g>\n     </g>\n     <g id=\"text_1\">\n      <!-- 0.0 -->\n      <g transform=\"translate(48.554688 239.238437)scale(0.1 -0.1)\">\n       <defs>\n        <path d=\"M 31.78125 66.40625 \nQ 24.171875 66.40625 20.328125 58.90625 \nQ 16.5 51.421875 16.5 36.375 \nQ 16.5 21.390625 20.328125 13.890625 \nQ 24.171875 6.390625 31.78125 6.390625 \nQ 39.453125 6.390625 43.28125 13.890625 \nQ 47.125 21.390625 47.125 36.375 \nQ 47.125 51.421875 43.28125 58.90625 \nQ 39.453125 66.40625 31.78125 66.40625 \nz\nM 31.78125 74.21875 \nQ 44.046875 74.21875 50.515625 64.515625 \nQ 56.984375 54.828125 56.984375 36.375 \nQ 56.984375 17.96875 50.515625 8.265625 \nQ 44.046875 -1.421875 31.78125 -1.421875 \nQ 19.53125 -1.421875 13.0625 8.265625 \nQ 6.59375 17.96875 6.59375 36.375 \nQ 6.59375 54.828125 13.0625 64.515625 \nQ 19.53125 74.21875 31.78125 74.21875 \nz\n\" id=\"DejaVuSans-48\"/>\n        <path d=\"M 10.6875 12.40625 \nL 21 12.40625 \nL 21 0 \nL 10.6875 0 \nz\n\" id=\"DejaVuSans-46\"/>\n       </defs>\n       <use xlink:href=\"#DejaVuSans-48\"/>\n       <use x=\"63.623047\" xlink:href=\"#DejaVuSans-46\"/>\n       <use x=\"95.410156\" xlink:href=\"#DejaVuSans-48\"/>\n      </g>\n     </g>\n    </g>\n    <g id=\"xtick_2\">\n     <g id=\"line2d_2\">\n      <g>\n       <use style=\"stroke:#000000;stroke-width:0.8;\" x=\"96.363393\" xlink:href=\"#mdc2325618a\" y=\"224.64\"/>\n      </g>\n     </g>\n     <g id=\"text_2\">\n      <!-- 2.5 -->\n      <g transform=\"translate(88.41183 239.238437)scale(0.1 -0.1)\">\n       <defs>\n        <path d=\"M 19.1875 8.296875 \nL 53.609375 8.296875 \nL 53.609375 0 \nL 7.328125 0 \nL 7.328125 8.296875 \nQ 12.9375 14.109375 22.625 23.890625 \nQ 32.328125 33.6875 34.8125 36.53125 \nQ 39.546875 41.84375 41.421875 45.53125 \nQ 43.3125 49.21875 43.3125 52.78125 \nQ 43.3125 58.59375 39.234375 62.25 \nQ 35.15625 65.921875 28.609375 65.921875 \nQ 23.96875 65.921875 18.8125 64.3125 \nQ 13.671875 62.703125 7.8125 59.421875 \nL 7.8125 69.390625 \nQ 13.765625 71.78125 18.9375 73 \nQ 24.125 74.21875 28.421875 74.21875 \nQ 39.75 74.21875 46.484375 68.546875 \nQ 53.21875 62.890625 53.21875 53.421875 \nQ 53.21875 48.921875 51.53125 44.890625 \nQ 49.859375 40.875 45.40625 35.40625 \nQ 44.1875 33.984375 37.640625 27.21875 \nQ 31.109375 20.453125 19.1875 8.296875 \nz\n\" id=\"DejaVuSans-50\"/>\n        <path d=\"M 10.796875 72.90625 \nL 49.515625 72.90625 \nL 49.515625 64.59375 \nL 19.828125 64.59375 \nL 19.828125 46.734375 \nQ 21.96875 47.46875 24.109375 47.828125 \nQ 26.265625 48.1875 28.421875 48.1875 \nQ 40.625 48.1875 47.75 41.5 \nQ 54.890625 34.8125 54.890625 23.390625 \nQ 54.890625 11.625 47.5625 5.09375 \nQ 40.234375 -1.421875 26.90625 -1.421875 \nQ 22.3125 -1.421875 17.546875 -0.640625 \nQ 12.796875 0.140625 7.71875 1.703125 \nL 7.71875 11.625 \nQ 12.109375 9.234375 16.796875 8.0625 \nQ 21.484375 6.890625 26.703125 6.890625 \nQ 35.15625 6.890625 40.078125 11.328125 \nQ 45.015625 15.765625 45.015625 23.390625 \nQ 45.015625 31 40.078125 35.4375 \nQ 35.15625 39.890625 26.703125 39.890625 \nQ 22.75 39.890625 18.8125 39.015625 \nQ 14.890625 38.140625 10.796875 36.28125 \nz\n\" id=\"DejaVuSans-53\"/>\n       </defs>\n       <use xlink:href=\"#DejaVuSans-50\"/>\n       <use x=\"63.623047\" xlink:href=\"#DejaVuSans-46\"/>\n       <use x=\"95.410156\" xlink:href=\"#DejaVuSans-53\"/>\n      </g>\n     </g>\n    </g>\n    <g id=\"xtick_3\">\n     <g id=\"line2d_3\">\n      <g>\n       <use style=\"stroke:#000000;stroke-width:0.8;\" x=\"136.220536\" xlink:href=\"#mdc2325618a\" y=\"224.64\"/>\n      </g>\n     </g>\n     <g id=\"text_3\">\n      <!-- 5.0 -->\n      <g transform=\"translate(128.268973 239.238437)scale(0.1 -0.1)\">\n       <use xlink:href=\"#DejaVuSans-53\"/>\n       <use x=\"63.623047\" xlink:href=\"#DejaVuSans-46\"/>\n       <use x=\"95.410156\" xlink:href=\"#DejaVuSans-48\"/>\n      </g>\n     </g>\n    </g>\n    <g id=\"xtick_4\">\n     <g id=\"line2d_4\">\n      <g>\n       <use style=\"stroke:#000000;stroke-width:0.8;\" x=\"176.077679\" xlink:href=\"#mdc2325618a\" y=\"224.64\"/>\n      </g>\n     </g>\n     <g id=\"text_4\">\n      <!-- 7.5 -->\n      <g transform=\"translate(168.126116 239.238437)scale(0.1 -0.1)\">\n       <defs>\n        <path d=\"M 8.203125 72.90625 \nL 55.078125 72.90625 \nL 55.078125 68.703125 \nL 28.609375 0 \nL 18.3125 0 \nL 43.21875 64.59375 \nL 8.203125 64.59375 \nz\n\" id=\"DejaVuSans-55\"/>\n       </defs>\n       <use xlink:href=\"#DejaVuSans-55\"/>\n       <use x=\"63.623047\" xlink:href=\"#DejaVuSans-46\"/>\n       <use x=\"95.410156\" xlink:href=\"#DejaVuSans-53\"/>\n      </g>\n     </g>\n    </g>\n    <g id=\"xtick_5\">\n     <g id=\"line2d_5\">\n      <g>\n       <use style=\"stroke:#000000;stroke-width:0.8;\" x=\"215.934821\" xlink:href=\"#mdc2325618a\" y=\"224.64\"/>\n      </g>\n     </g>\n     <g id=\"text_5\">\n      <!-- 10.0 -->\n      <g transform=\"translate(204.802009 239.238437)scale(0.1 -0.1)\">\n       <defs>\n        <path d=\"M 12.40625 8.296875 \nL 28.515625 8.296875 \nL 28.515625 63.921875 \nL 10.984375 60.40625 \nL 10.984375 69.390625 \nL 28.421875 72.90625 \nL 38.28125 72.90625 \nL 38.28125 8.296875 \nL 54.390625 8.296875 \nL 54.390625 0 \nL 12.40625 0 \nz\n\" id=\"DejaVuSans-49\"/>\n       </defs>\n       <use xlink:href=\"#DejaVuSans-49\"/>\n       <use x=\"63.623047\" xlink:href=\"#DejaVuSans-48\"/>\n       <use x=\"127.246094\" xlink:href=\"#DejaVuSans-46\"/>\n       <use x=\"159.033203\" xlink:href=\"#DejaVuSans-48\"/>\n      </g>\n     </g>\n    </g>\n    <g id=\"xtick_6\">\n     <g id=\"line2d_6\">\n      <g>\n       <use style=\"stroke:#000000;stroke-width:0.8;\" x=\"255.791964\" xlink:href=\"#mdc2325618a\" y=\"224.64\"/>\n      </g>\n     </g>\n     <g id=\"text_6\">\n      <!-- 12.5 -->\n      <g transform=\"translate(244.659152 239.238437)scale(0.1 -0.1)\">\n       <use xlink:href=\"#DejaVuSans-49\"/>\n       <use x=\"63.623047\" xlink:href=\"#DejaVuSans-50\"/>\n       <use x=\"127.246094\" xlink:href=\"#DejaVuSans-46\"/>\n       <use x=\"159.033203\" xlink:href=\"#DejaVuSans-53\"/>\n      </g>\n     </g>\n    </g>\n    <g id=\"xtick_7\">\n     <g id=\"line2d_7\">\n      <g>\n       <use style=\"stroke:#000000;stroke-width:0.8;\" x=\"295.649107\" xlink:href=\"#mdc2325618a\" y=\"224.64\"/>\n      </g>\n     </g>\n     <g id=\"text_7\">\n      <!-- 15.0 -->\n      <g transform=\"translate(284.516295 239.238437)scale(0.1 -0.1)\">\n       <use xlink:href=\"#DejaVuSans-49\"/>\n       <use x=\"63.623047\" xlink:href=\"#DejaVuSans-53\"/>\n       <use x=\"127.246094\" xlink:href=\"#DejaVuSans-46\"/>\n       <use x=\"159.033203\" xlink:href=\"#DejaVuSans-48\"/>\n      </g>\n     </g>\n    </g>\n    <g id=\"xtick_8\">\n     <g id=\"line2d_8\">\n      <g>\n       <use style=\"stroke:#000000;stroke-width:0.8;\" x=\"335.50625\" xlink:href=\"#mdc2325618a\" y=\"224.64\"/>\n      </g>\n     </g>\n     <g id=\"text_8\">\n      <!-- 17.5 -->\n      <g transform=\"translate(324.373438 239.238437)scale(0.1 -0.1)\">\n       <use xlink:href=\"#DejaVuSans-49\"/>\n       <use x=\"63.623047\" xlink:href=\"#DejaVuSans-55\"/>\n       <use x=\"127.246094\" xlink:href=\"#DejaVuSans-46\"/>\n       <use x=\"159.033203\" xlink:href=\"#DejaVuSans-53\"/>\n      </g>\n     </g>\n    </g>\n    <g id=\"xtick_9\">\n     <g id=\"line2d_9\">\n      <g>\n       <use style=\"stroke:#000000;stroke-width:0.8;\" x=\"375.363393\" xlink:href=\"#mdc2325618a\" y=\"224.64\"/>\n      </g>\n     </g>\n     <g id=\"text_9\">\n      <!-- 20.0 -->\n      <g transform=\"translate(364.23058 239.238437)scale(0.1 -0.1)\">\n       <use xlink:href=\"#DejaVuSans-50\"/>\n       <use x=\"63.623047\" xlink:href=\"#DejaVuSans-48\"/>\n       <use x=\"127.246094\" xlink:href=\"#DejaVuSans-46\"/>\n       <use x=\"159.033203\" xlink:href=\"#DejaVuSans-48\"/>\n      </g>\n     </g>\n    </g>\n    <g id=\"text_10\">\n     <!-- Épocas -->\n     <g transform=\"translate(206.095313 254.591562)scale(0.1 -0.1)\">\n      <defs>\n       <path d=\"M 9.8125 72.90625 \nL 55.90625 72.90625 \nL 55.90625 64.59375 \nL 19.671875 64.59375 \nL 19.671875 43.015625 \nL 54.390625 43.015625 \nL 54.390625 34.71875 \nL 19.671875 34.71875 \nL 19.671875 8.296875 \nL 56.78125 8.296875 \nL 56.78125 0 \nL 9.8125 0 \nz\nM 35.40625 92.734375 \nL 44.4375 92.734375 \nL 33.296875 79.84375 \nL 25.828125 79.84375 \nz\n\" id=\"DejaVuSans-201\"/>\n       <path d=\"M 18.109375 8.203125 \nL 18.109375 -20.796875 \nL 9.078125 -20.796875 \nL 9.078125 54.6875 \nL 18.109375 54.6875 \nL 18.109375 46.390625 \nQ 20.953125 51.265625 25.265625 53.625 \nQ 29.59375 56 35.59375 56 \nQ 45.5625 56 51.78125 48.09375 \nQ 58.015625 40.1875 58.015625 27.296875 \nQ 58.015625 14.40625 51.78125 6.484375 \nQ 45.5625 -1.421875 35.59375 -1.421875 \nQ 29.59375 -1.421875 25.265625 0.953125 \nQ 20.953125 3.328125 18.109375 8.203125 \nz\nM 48.6875 27.296875 \nQ 48.6875 37.203125 44.609375 42.84375 \nQ 40.53125 48.484375 33.40625 48.484375 \nQ 26.265625 48.484375 22.1875 42.84375 \nQ 18.109375 37.203125 18.109375 27.296875 \nQ 18.109375 17.390625 22.1875 11.75 \nQ 26.265625 6.109375 33.40625 6.109375 \nQ 40.53125 6.109375 44.609375 11.75 \nQ 48.6875 17.390625 48.6875 27.296875 \nz\n\" id=\"DejaVuSans-112\"/>\n       <path d=\"M 30.609375 48.390625 \nQ 23.390625 48.390625 19.1875 42.75 \nQ 14.984375 37.109375 14.984375 27.296875 \nQ 14.984375 17.484375 19.15625 11.84375 \nQ 23.34375 6.203125 30.609375 6.203125 \nQ 37.796875 6.203125 41.984375 11.859375 \nQ 46.1875 17.53125 46.1875 27.296875 \nQ 46.1875 37.015625 41.984375 42.703125 \nQ 37.796875 48.390625 30.609375 48.390625 \nz\nM 30.609375 56 \nQ 42.328125 56 49.015625 48.375 \nQ 55.71875 40.765625 55.71875 27.296875 \nQ 55.71875 13.875 49.015625 6.21875 \nQ 42.328125 -1.421875 30.609375 -1.421875 \nQ 18.84375 -1.421875 12.171875 6.21875 \nQ 5.515625 13.875 5.515625 27.296875 \nQ 5.515625 40.765625 12.171875 48.375 \nQ 18.84375 56 30.609375 56 \nz\n\" id=\"DejaVuSans-111\"/>\n       <path d=\"M 48.78125 52.59375 \nL 48.78125 44.1875 \nQ 44.96875 46.296875 41.140625 47.34375 \nQ 37.3125 48.390625 33.40625 48.390625 \nQ 24.65625 48.390625 19.8125 42.84375 \nQ 14.984375 37.3125 14.984375 27.296875 \nQ 14.984375 17.28125 19.8125 11.734375 \nQ 24.65625 6.203125 33.40625 6.203125 \nQ 37.3125 6.203125 41.140625 7.25 \nQ 44.96875 8.296875 48.78125 10.40625 \nL 48.78125 2.09375 \nQ 45.015625 0.34375 40.984375 -0.53125 \nQ 36.96875 -1.421875 32.421875 -1.421875 \nQ 20.0625 -1.421875 12.78125 6.34375 \nQ 5.515625 14.109375 5.515625 27.296875 \nQ 5.515625 40.671875 12.859375 48.328125 \nQ 20.21875 56 33.015625 56 \nQ 37.15625 56 41.109375 55.140625 \nQ 45.0625 54.296875 48.78125 52.59375 \nz\n\" id=\"DejaVuSans-99\"/>\n       <path d=\"M 34.28125 27.484375 \nQ 23.390625 27.484375 19.1875 25 \nQ 14.984375 22.515625 14.984375 16.5 \nQ 14.984375 11.71875 18.140625 8.90625 \nQ 21.296875 6.109375 26.703125 6.109375 \nQ 34.1875 6.109375 38.703125 11.40625 \nQ 43.21875 16.703125 43.21875 25.484375 \nL 43.21875 27.484375 \nz\nM 52.203125 31.203125 \nL 52.203125 0 \nL 43.21875 0 \nL 43.21875 8.296875 \nQ 40.140625 3.328125 35.546875 0.953125 \nQ 30.953125 -1.421875 24.3125 -1.421875 \nQ 15.921875 -1.421875 10.953125 3.296875 \nQ 6 8.015625 6 15.921875 \nQ 6 25.140625 12.171875 29.828125 \nQ 18.359375 34.515625 30.609375 34.515625 \nL 43.21875 34.515625 \nL 43.21875 35.40625 \nQ 43.21875 41.609375 39.140625 45 \nQ 35.0625 48.390625 27.6875 48.390625 \nQ 23 48.390625 18.546875 47.265625 \nQ 14.109375 46.140625 10.015625 43.890625 \nL 10.015625 52.203125 \nQ 14.9375 54.109375 19.578125 55.046875 \nQ 24.21875 56 28.609375 56 \nQ 40.484375 56 46.34375 49.84375 \nQ 52.203125 43.703125 52.203125 31.203125 \nz\n\" id=\"DejaVuSans-97\"/>\n       <path d=\"M 44.28125 53.078125 \nL 44.28125 44.578125 \nQ 40.484375 46.53125 36.375 47.5 \nQ 32.28125 48.484375 27.875 48.484375 \nQ 21.1875 48.484375 17.84375 46.4375 \nQ 14.5 44.390625 14.5 40.28125 \nQ 14.5 37.15625 16.890625 35.375 \nQ 19.28125 33.59375 26.515625 31.984375 \nL 29.59375 31.296875 \nQ 39.15625 29.25 43.1875 25.515625 \nQ 47.21875 21.78125 47.21875 15.09375 \nQ 47.21875 7.46875 41.1875 3.015625 \nQ 35.15625 -1.421875 24.609375 -1.421875 \nQ 20.21875 -1.421875 15.453125 -0.5625 \nQ 10.6875 0.296875 5.421875 2 \nL 5.421875 11.28125 \nQ 10.40625 8.6875 15.234375 7.390625 \nQ 20.0625 6.109375 24.8125 6.109375 \nQ 31.15625 6.109375 34.5625 8.28125 \nQ 37.984375 10.453125 37.984375 14.40625 \nQ 37.984375 18.0625 35.515625 20.015625 \nQ 33.0625 21.96875 24.703125 23.78125 \nL 21.578125 24.515625 \nQ 13.234375 26.265625 9.515625 29.90625 \nQ 5.8125 33.546875 5.8125 39.890625 \nQ 5.8125 47.609375 11.28125 51.796875 \nQ 16.75 56 26.8125 56 \nQ 31.78125 56 36.171875 55.265625 \nQ 40.578125 54.546875 44.28125 53.078125 \nz\n\" id=\"DejaVuSans-115\"/>\n      </defs>\n      <use xlink:href=\"#DejaVuSans-201\"/>\n      <use x=\"63.183594\" xlink:href=\"#DejaVuSans-112\"/>\n      <use x=\"126.660156\" xlink:href=\"#DejaVuSans-111\"/>\n      <use x=\"187.841797\" xlink:href=\"#DejaVuSans-99\"/>\n      <use x=\"242.822266\" xlink:href=\"#DejaVuSans-97\"/>\n      <use x=\"304.101562\" xlink:href=\"#DejaVuSans-115\"/>\n     </g>\n    </g>\n   </g>\n   <g id=\"matplotlib.axis_2\">\n    <g id=\"ytick_1\">\n     <g id=\"line2d_10\">\n      <defs>\n       <path d=\"M 0 0 \nL -3.5 0 \n\" id=\"m1865a2d778\" style=\"stroke:#000000;stroke-width:0.8;\"/>\n      </defs>\n      <g>\n       <use style=\"stroke:#000000;stroke-width:0.8;\" x=\"56.50625\" xlink:href=\"#m1865a2d778\" y=\"223.815101\"/>\n      </g>\n     </g>\n     <g id=\"text_11\">\n      <!-- 0.147 -->\n      <g transform=\"translate(20.878125 227.61432)scale(0.1 -0.1)\">\n       <defs>\n        <path d=\"M 37.796875 64.3125 \nL 12.890625 25.390625 \nL 37.796875 25.390625 \nz\nM 35.203125 72.90625 \nL 47.609375 72.90625 \nL 47.609375 25.390625 \nL 58.015625 25.390625 \nL 58.015625 17.1875 \nL 47.609375 17.1875 \nL 47.609375 0 \nL 37.796875 0 \nL 37.796875 17.1875 \nL 4.890625 17.1875 \nL 4.890625 26.703125 \nz\n\" id=\"DejaVuSans-52\"/>\n       </defs>\n       <use xlink:href=\"#DejaVuSans-48\"/>\n       <use x=\"63.623047\" xlink:href=\"#DejaVuSans-46\"/>\n       <use x=\"95.410156\" xlink:href=\"#DejaVuSans-49\"/>\n       <use x=\"159.033203\" xlink:href=\"#DejaVuSans-52\"/>\n       <use x=\"222.65625\" xlink:href=\"#DejaVuSans-55\"/>\n      </g>\n     </g>\n    </g>\n    <g id=\"ytick_2\">\n     <g id=\"line2d_11\">\n      <g>\n       <use style=\"stroke:#000000;stroke-width:0.8;\" x=\"56.50625\" xlink:href=\"#m1865a2d778\" y=\"190.320783\"/>\n      </g>\n     </g>\n     <g id=\"text_12\">\n      <!-- 0.148 -->\n      <g transform=\"translate(20.878125 194.120002)scale(0.1 -0.1)\">\n       <defs>\n        <path d=\"M 31.78125 34.625 \nQ 24.75 34.625 20.71875 30.859375 \nQ 16.703125 27.09375 16.703125 20.515625 \nQ 16.703125 13.921875 20.71875 10.15625 \nQ 24.75 6.390625 31.78125 6.390625 \nQ 38.8125 6.390625 42.859375 10.171875 \nQ 46.921875 13.96875 46.921875 20.515625 \nQ 46.921875 27.09375 42.890625 30.859375 \nQ 38.875 34.625 31.78125 34.625 \nz\nM 21.921875 38.8125 \nQ 15.578125 40.375 12.03125 44.71875 \nQ 8.5 49.078125 8.5 55.328125 \nQ 8.5 64.0625 14.71875 69.140625 \nQ 20.953125 74.21875 31.78125 74.21875 \nQ 42.671875 74.21875 48.875 69.140625 \nQ 55.078125 64.0625 55.078125 55.328125 \nQ 55.078125 49.078125 51.53125 44.71875 \nQ 48 40.375 41.703125 38.8125 \nQ 48.828125 37.15625 52.796875 32.3125 \nQ 56.78125 27.484375 56.78125 20.515625 \nQ 56.78125 9.90625 50.3125 4.234375 \nQ 43.84375 -1.421875 31.78125 -1.421875 \nQ 19.734375 -1.421875 13.25 4.234375 \nQ 6.78125 9.90625 6.78125 20.515625 \nQ 6.78125 27.484375 10.78125 32.3125 \nQ 14.796875 37.15625 21.921875 38.8125 \nz\nM 18.3125 54.390625 \nQ 18.3125 48.734375 21.84375 45.5625 \nQ 25.390625 42.390625 31.78125 42.390625 \nQ 38.140625 42.390625 41.71875 45.5625 \nQ 45.3125 48.734375 45.3125 54.390625 \nQ 45.3125 60.0625 41.71875 63.234375 \nQ 38.140625 66.40625 31.78125 66.40625 \nQ 25.390625 66.40625 21.84375 63.234375 \nQ 18.3125 60.0625 18.3125 54.390625 \nz\n\" id=\"DejaVuSans-56\"/>\n       </defs>\n       <use xlink:href=\"#DejaVuSans-48\"/>\n       <use x=\"63.623047\" xlink:href=\"#DejaVuSans-46\"/>\n       <use x=\"95.410156\" xlink:href=\"#DejaVuSans-49\"/>\n       <use x=\"159.033203\" xlink:href=\"#DejaVuSans-52\"/>\n       <use x=\"222.65625\" xlink:href=\"#DejaVuSans-56\"/>\n      </g>\n     </g>\n    </g>\n    <g id=\"ytick_3\">\n     <g id=\"line2d_12\">\n      <g>\n       <use style=\"stroke:#000000;stroke-width:0.8;\" x=\"56.50625\" xlink:href=\"#m1865a2d778\" y=\"156.826465\"/>\n      </g>\n     </g>\n     <g id=\"text_13\">\n      <!-- 0.149 -->\n      <g transform=\"translate(20.878125 160.625684)scale(0.1 -0.1)\">\n       <defs>\n        <path d=\"M 10.984375 1.515625 \nL 10.984375 10.5 \nQ 14.703125 8.734375 18.5 7.8125 \nQ 22.3125 6.890625 25.984375 6.890625 \nQ 35.75 6.890625 40.890625 13.453125 \nQ 46.046875 20.015625 46.78125 33.40625 \nQ 43.953125 29.203125 39.59375 26.953125 \nQ 35.25 24.703125 29.984375 24.703125 \nQ 19.046875 24.703125 12.671875 31.3125 \nQ 6.296875 37.9375 6.296875 49.421875 \nQ 6.296875 60.640625 12.9375 67.421875 \nQ 19.578125 74.21875 30.609375 74.21875 \nQ 43.265625 74.21875 49.921875 64.515625 \nQ 56.59375 54.828125 56.59375 36.375 \nQ 56.59375 19.140625 48.40625 8.859375 \nQ 40.234375 -1.421875 26.421875 -1.421875 \nQ 22.703125 -1.421875 18.890625 -0.6875 \nQ 15.09375 0.046875 10.984375 1.515625 \nz\nM 30.609375 32.421875 \nQ 37.25 32.421875 41.125 36.953125 \nQ 45.015625 41.5 45.015625 49.421875 \nQ 45.015625 57.28125 41.125 61.84375 \nQ 37.25 66.40625 30.609375 66.40625 \nQ 23.96875 66.40625 20.09375 61.84375 \nQ 16.21875 57.28125 16.21875 49.421875 \nQ 16.21875 41.5 20.09375 36.953125 \nQ 23.96875 32.421875 30.609375 32.421875 \nz\n\" id=\"DejaVuSans-57\"/>\n       </defs>\n       <use xlink:href=\"#DejaVuSans-48\"/>\n       <use x=\"63.623047\" xlink:href=\"#DejaVuSans-46\"/>\n       <use x=\"95.410156\" xlink:href=\"#DejaVuSans-49\"/>\n       <use x=\"159.033203\" xlink:href=\"#DejaVuSans-52\"/>\n       <use x=\"222.65625\" xlink:href=\"#DejaVuSans-57\"/>\n      </g>\n     </g>\n    </g>\n    <g id=\"ytick_4\">\n     <g id=\"line2d_13\">\n      <g>\n       <use style=\"stroke:#000000;stroke-width:0.8;\" x=\"56.50625\" xlink:href=\"#m1865a2d778\" y=\"123.332147\"/>\n      </g>\n     </g>\n     <g id=\"text_14\">\n      <!-- 0.150 -->\n      <g transform=\"translate(20.878125 127.131366)scale(0.1 -0.1)\">\n       <use xlink:href=\"#DejaVuSans-48\"/>\n       <use x=\"63.623047\" xlink:href=\"#DejaVuSans-46\"/>\n       <use x=\"95.410156\" xlink:href=\"#DejaVuSans-49\"/>\n       <use x=\"159.033203\" xlink:href=\"#DejaVuSans-53\"/>\n       <use x=\"222.65625\" xlink:href=\"#DejaVuSans-48\"/>\n      </g>\n     </g>\n    </g>\n    <g id=\"ytick_5\">\n     <g id=\"line2d_14\">\n      <g>\n       <use style=\"stroke:#000000;stroke-width:0.8;\" x=\"56.50625\" xlink:href=\"#m1865a2d778\" y=\"89.837829\"/>\n      </g>\n     </g>\n     <g id=\"text_15\">\n      <!-- 0.151 -->\n      <g transform=\"translate(20.878125 93.637048)scale(0.1 -0.1)\">\n       <use xlink:href=\"#DejaVuSans-48\"/>\n       <use x=\"63.623047\" xlink:href=\"#DejaVuSans-46\"/>\n       <use x=\"95.410156\" xlink:href=\"#DejaVuSans-49\"/>\n       <use x=\"159.033203\" xlink:href=\"#DejaVuSans-53\"/>\n       <use x=\"222.65625\" xlink:href=\"#DejaVuSans-49\"/>\n      </g>\n     </g>\n    </g>\n    <g id=\"ytick_6\">\n     <g id=\"line2d_15\">\n      <g>\n       <use style=\"stroke:#000000;stroke-width:0.8;\" x=\"56.50625\" xlink:href=\"#m1865a2d778\" y=\"56.343511\"/>\n      </g>\n     </g>\n     <g id=\"text_16\">\n      <!-- 0.152 -->\n      <g transform=\"translate(20.878125 60.14273)scale(0.1 -0.1)\">\n       <use xlink:href=\"#DejaVuSans-48\"/>\n       <use x=\"63.623047\" xlink:href=\"#DejaVuSans-46\"/>\n       <use x=\"95.410156\" xlink:href=\"#DejaVuSans-49\"/>\n       <use x=\"159.033203\" xlink:href=\"#DejaVuSans-53\"/>\n       <use x=\"222.65625\" xlink:href=\"#DejaVuSans-50\"/>\n      </g>\n     </g>\n    </g>\n    <g id=\"ytick_7\">\n     <g id=\"line2d_16\">\n      <g>\n       <use style=\"stroke:#000000;stroke-width:0.8;\" x=\"56.50625\" xlink:href=\"#m1865a2d778\" y=\"22.849193\"/>\n      </g>\n     </g>\n     <g id=\"text_17\">\n      <!-- 0.153 -->\n      <g transform=\"translate(20.878125 26.648411)scale(0.1 -0.1)\">\n       <defs>\n        <path d=\"M 40.578125 39.3125 \nQ 47.65625 37.796875 51.625 33 \nQ 55.609375 28.21875 55.609375 21.1875 \nQ 55.609375 10.40625 48.1875 4.484375 \nQ 40.765625 -1.421875 27.09375 -1.421875 \nQ 22.515625 -1.421875 17.65625 -0.515625 \nQ 12.796875 0.390625 7.625 2.203125 \nL 7.625 11.71875 \nQ 11.71875 9.328125 16.59375 8.109375 \nQ 21.484375 6.890625 26.8125 6.890625 \nQ 36.078125 6.890625 40.9375 10.546875 \nQ 45.796875 14.203125 45.796875 21.1875 \nQ 45.796875 27.640625 41.28125 31.265625 \nQ 36.765625 34.90625 28.71875 34.90625 \nL 20.21875 34.90625 \nL 20.21875 43.015625 \nL 29.109375 43.015625 \nQ 36.375 43.015625 40.234375 45.921875 \nQ 44.09375 48.828125 44.09375 54.296875 \nQ 44.09375 59.90625 40.109375 62.90625 \nQ 36.140625 65.921875 28.71875 65.921875 \nQ 24.65625 65.921875 20.015625 65.03125 \nQ 15.375 64.15625 9.8125 62.3125 \nL 9.8125 71.09375 \nQ 15.4375 72.65625 20.34375 73.4375 \nQ 25.25 74.21875 29.59375 74.21875 \nQ 40.828125 74.21875 47.359375 69.109375 \nQ 53.90625 64.015625 53.90625 55.328125 \nQ 53.90625 49.265625 50.4375 45.09375 \nQ 46.96875 40.921875 40.578125 39.3125 \nz\n\" id=\"DejaVuSans-51\"/>\n       </defs>\n       <use xlink:href=\"#DejaVuSans-48\"/>\n       <use x=\"63.623047\" xlink:href=\"#DejaVuSans-46\"/>\n       <use x=\"95.410156\" xlink:href=\"#DejaVuSans-49\"/>\n       <use x=\"159.033203\" xlink:href=\"#DejaVuSans-53\"/>\n       <use x=\"222.65625\" xlink:href=\"#DejaVuSans-51\"/>\n      </g>\n     </g>\n    </g>\n    <g id=\"text_18\">\n     <!-- Loss -->\n     <g transform=\"translate(14.798438 126.887187)rotate(-90)scale(0.1 -0.1)\">\n      <defs>\n       <path d=\"M 9.8125 72.90625 \nL 19.671875 72.90625 \nL 19.671875 8.296875 \nL 55.171875 8.296875 \nL 55.171875 0 \nL 9.8125 0 \nz\n\" id=\"DejaVuSans-76\"/>\n      </defs>\n      <use xlink:href=\"#DejaVuSans-76\"/>\n      <use x=\"53.962891\" xlink:href=\"#DejaVuSans-111\"/>\n      <use x=\"115.144531\" xlink:href=\"#DejaVuSans-115\"/>\n      <use x=\"167.244141\" xlink:href=\"#DejaVuSans-115\"/>\n     </g>\n    </g>\n   </g>\n   <g id=\"line2d_17\">\n    <path clip-path=\"url(#pd87804e468)\" d=\"M 56.50625 36.182359 \nL 72.449107 26.412893 \nL 88.391964 89.672358 \nL 104.334821 129.366118 \nL 120.277679 48.089489 \nL 136.220536 69.999665 \nL 152.163393 85.167443 \nL 168.10625 121.039562 \nL 184.049107 70.719374 \nL 199.991964 88.456041 \nL 215.934821 67.603965 \nL 231.877679 124.159462 \nL 247.820536 79.038443 \nL 263.763393 87.121935 \nL 279.70625 139.764455 \nL 295.649107 65.999345 \nL 311.591964 116.57757 \nL 327.534821 107.259793 \nL 343.477679 70.840656 \nL 359.420536 91.165179 \nL 375.363393 96.532046 \nL 391.30625 126.711382 \nL 399.50625 117.514571 \nL 399.50625 117.514571 \n\" style=\"fill:none;stroke:#1f77b4;stroke-linecap:square;stroke-width:1.5;\"/>\n   </g>\n   <g id=\"patch_3\">\n    <path d=\"M 56.50625 224.64 \nL 56.50625 7.2 \n\" style=\"fill:none;stroke:#000000;stroke-linecap:square;stroke-linejoin:miter;stroke-width:0.8;\"/>\n   </g>\n   <g id=\"patch_4\">\n    <path d=\"M 391.30625 224.64 \nL 391.30625 7.2 \n\" style=\"fill:none;stroke:#000000;stroke-linecap:square;stroke-linejoin:miter;stroke-width:0.8;\"/>\n   </g>\n   <g id=\"patch_5\">\n    <path d=\"M 56.50625 224.64 \nL 391.30625 224.64 \n\" style=\"fill:none;stroke:#000000;stroke-linecap:square;stroke-linejoin:miter;stroke-width:0.8;\"/>\n   </g>\n   <g id=\"patch_6\">\n    <path d=\"M 56.50625 7.2 \nL 391.30625 7.2 \n\" style=\"fill:none;stroke:#000000;stroke-linecap:square;stroke-linejoin:miter;stroke-width:0.8;\"/>\n   </g>\n   <g id=\"legend_1\">\n    <g id=\"patch_7\">\n     <path d=\"M 252.753125 29.878125 \nL 384.30625 29.878125 \nQ 386.30625 29.878125 386.30625 27.878125 \nL 386.30625 14.2 \nQ 386.30625 12.2 384.30625 12.2 \nL 252.753125 12.2 \nQ 250.753125 12.2 250.753125 14.2 \nL 250.753125 27.878125 \nQ 250.753125 29.878125 252.753125 29.878125 \nz\n\" style=\"fill:#ffffff;opacity:0.8;stroke:#cccccc;stroke-linejoin:miter;\"/>\n    </g>\n    <g id=\"line2d_18\">\n     <path d=\"M 254.753125 20.298437 \nL 274.753125 20.298437 \n\" style=\"fill:none;stroke:#1f77b4;stroke-linecap:square;stroke-width:1.5;\"/>\n    </g>\n    <g id=\"line2d_19\"/>\n    <g id=\"text_19\">\n     <!-- Modelo 2016: Perda -->\n     <g transform=\"translate(282.753125 23.798437)scale(0.1 -0.1)\">\n      <defs>\n       <path d=\"M 9.8125 72.90625 \nL 24.515625 72.90625 \nL 43.109375 23.296875 \nL 61.8125 72.90625 \nL 76.515625 72.90625 \nL 76.515625 0 \nL 66.890625 0 \nL 66.890625 64.015625 \nL 48.09375 14.015625 \nL 38.1875 14.015625 \nL 19.390625 64.015625 \nL 19.390625 0 \nL 9.8125 0 \nz\n\" id=\"DejaVuSans-77\"/>\n       <path d=\"M 45.40625 46.390625 \nL 45.40625 75.984375 \nL 54.390625 75.984375 \nL 54.390625 0 \nL 45.40625 0 \nL 45.40625 8.203125 \nQ 42.578125 3.328125 38.25 0.953125 \nQ 33.9375 -1.421875 27.875 -1.421875 \nQ 17.96875 -1.421875 11.734375 6.484375 \nQ 5.515625 14.40625 5.515625 27.296875 \nQ 5.515625 40.1875 11.734375 48.09375 \nQ 17.96875 56 27.875 56 \nQ 33.9375 56 38.25 53.625 \nQ 42.578125 51.265625 45.40625 46.390625 \nz\nM 14.796875 27.296875 \nQ 14.796875 17.390625 18.875 11.75 \nQ 22.953125 6.109375 30.078125 6.109375 \nQ 37.203125 6.109375 41.296875 11.75 \nQ 45.40625 17.390625 45.40625 27.296875 \nQ 45.40625 37.203125 41.296875 42.84375 \nQ 37.203125 48.484375 30.078125 48.484375 \nQ 22.953125 48.484375 18.875 42.84375 \nQ 14.796875 37.203125 14.796875 27.296875 \nz\n\" id=\"DejaVuSans-100\"/>\n       <path d=\"M 56.203125 29.59375 \nL 56.203125 25.203125 \nL 14.890625 25.203125 \nQ 15.484375 15.921875 20.484375 11.0625 \nQ 25.484375 6.203125 34.421875 6.203125 \nQ 39.59375 6.203125 44.453125 7.46875 \nQ 49.3125 8.734375 54.109375 11.28125 \nL 54.109375 2.78125 \nQ 49.265625 0.734375 44.1875 -0.34375 \nQ 39.109375 -1.421875 33.890625 -1.421875 \nQ 20.796875 -1.421875 13.15625 6.1875 \nQ 5.515625 13.8125 5.515625 26.8125 \nQ 5.515625 40.234375 12.765625 48.109375 \nQ 20.015625 56 32.328125 56 \nQ 43.359375 56 49.78125 48.890625 \nQ 56.203125 41.796875 56.203125 29.59375 \nz\nM 47.21875 32.234375 \nQ 47.125 39.59375 43.09375 43.984375 \nQ 39.0625 48.390625 32.421875 48.390625 \nQ 24.90625 48.390625 20.390625 44.140625 \nQ 15.875 39.890625 15.1875 32.171875 \nz\n\" id=\"DejaVuSans-101\"/>\n       <path d=\"M 9.421875 75.984375 \nL 18.40625 75.984375 \nL 18.40625 0 \nL 9.421875 0 \nz\n\" id=\"DejaVuSans-108\"/>\n       <path id=\"DejaVuSans-32\"/>\n       <path d=\"M 33.015625 40.375 \nQ 26.375 40.375 22.484375 35.828125 \nQ 18.609375 31.296875 18.609375 23.390625 \nQ 18.609375 15.53125 22.484375 10.953125 \nQ 26.375 6.390625 33.015625 6.390625 \nQ 39.65625 6.390625 43.53125 10.953125 \nQ 47.40625 15.53125 47.40625 23.390625 \nQ 47.40625 31.296875 43.53125 35.828125 \nQ 39.65625 40.375 33.015625 40.375 \nz\nM 52.59375 71.296875 \nL 52.59375 62.3125 \nQ 48.875 64.0625 45.09375 64.984375 \nQ 41.3125 65.921875 37.59375 65.921875 \nQ 27.828125 65.921875 22.671875 59.328125 \nQ 17.53125 52.734375 16.796875 39.40625 \nQ 19.671875 43.65625 24.015625 45.921875 \nQ 28.375 48.1875 33.59375 48.1875 \nQ 44.578125 48.1875 50.953125 41.515625 \nQ 57.328125 34.859375 57.328125 23.390625 \nQ 57.328125 12.15625 50.6875 5.359375 \nQ 44.046875 -1.421875 33.015625 -1.421875 \nQ 20.359375 -1.421875 13.671875 8.265625 \nQ 6.984375 17.96875 6.984375 36.375 \nQ 6.984375 53.65625 15.1875 63.9375 \nQ 23.390625 74.21875 37.203125 74.21875 \nQ 40.921875 74.21875 44.703125 73.484375 \nQ 48.484375 72.75 52.59375 71.296875 \nz\n\" id=\"DejaVuSans-54\"/>\n       <path d=\"M 11.71875 12.40625 \nL 22.015625 12.40625 \nL 22.015625 0 \nL 11.71875 0 \nz\nM 11.71875 51.703125 \nL 22.015625 51.703125 \nL 22.015625 39.3125 \nL 11.71875 39.3125 \nz\n\" id=\"DejaVuSans-58\"/>\n       <path d=\"M 19.671875 64.796875 \nL 19.671875 37.40625 \nL 32.078125 37.40625 \nQ 38.96875 37.40625 42.71875 40.96875 \nQ 46.484375 44.53125 46.484375 51.125 \nQ 46.484375 57.671875 42.71875 61.234375 \nQ 38.96875 64.796875 32.078125 64.796875 \nz\nM 9.8125 72.90625 \nL 32.078125 72.90625 \nQ 44.34375 72.90625 50.609375 67.359375 \nQ 56.890625 61.8125 56.890625 51.125 \nQ 56.890625 40.328125 50.609375 34.8125 \nQ 44.34375 29.296875 32.078125 29.296875 \nL 19.671875 29.296875 \nL 19.671875 0 \nL 9.8125 0 \nz\n\" id=\"DejaVuSans-80\"/>\n       <path d=\"M 41.109375 46.296875 \nQ 39.59375 47.171875 37.8125 47.578125 \nQ 36.03125 48 33.890625 48 \nQ 26.265625 48 22.1875 43.046875 \nQ 18.109375 38.09375 18.109375 28.8125 \nL 18.109375 0 \nL 9.078125 0 \nL 9.078125 54.6875 \nL 18.109375 54.6875 \nL 18.109375 46.1875 \nQ 20.953125 51.171875 25.484375 53.578125 \nQ 30.03125 56 36.53125 56 \nQ 37.453125 56 38.578125 55.875 \nQ 39.703125 55.765625 41.0625 55.515625 \nz\n\" id=\"DejaVuSans-114\"/>\n      </defs>\n      <use xlink:href=\"#DejaVuSans-77\"/>\n      <use x=\"86.279297\" xlink:href=\"#DejaVuSans-111\"/>\n      <use x=\"147.460938\" xlink:href=\"#DejaVuSans-100\"/>\n      <use x=\"210.9375\" xlink:href=\"#DejaVuSans-101\"/>\n      <use x=\"272.460938\" xlink:href=\"#DejaVuSans-108\"/>\n      <use x=\"300.244141\" xlink:href=\"#DejaVuSans-111\"/>\n      <use x=\"361.425781\" xlink:href=\"#DejaVuSans-32\"/>\n      <use x=\"393.212891\" xlink:href=\"#DejaVuSans-50\"/>\n      <use x=\"456.835938\" xlink:href=\"#DejaVuSans-48\"/>\n      <use x=\"520.458984\" xlink:href=\"#DejaVuSans-49\"/>\n      <use x=\"584.082031\" xlink:href=\"#DejaVuSans-54\"/>\n      <use x=\"647.705078\" xlink:href=\"#DejaVuSans-58\"/>\n      <use x=\"681.396484\" xlink:href=\"#DejaVuSans-32\"/>\n      <use x=\"713.183594\" xlink:href=\"#DejaVuSans-80\"/>\n      <use x=\"769.861328\" xlink:href=\"#DejaVuSans-101\"/>\n      <use x=\"831.384766\" xlink:href=\"#DejaVuSans-114\"/>\n      <use x=\"870.748047\" xlink:href=\"#DejaVuSans-100\"/>\n      <use x=\"934.224609\" xlink:href=\"#DejaVuSans-97\"/>\n     </g>\n    </g>\n   </g>\n  </g>\n </g>\n <defs>\n  <clipPath id=\"pd87804e468\">\n   <rect height=\"217.44\" width=\"334.8\" x=\"56.50625\" y=\"7.2\"/>\n  </clipPath>\n </defs>\n</svg>\n",
            "image/png": "[encoded data removed]"
          },
          "metadata": {
            "needs_background": "light"
          }
        }
      ],
      "source": [
        "plt.plot(hist_2016.history['loss'])\n",
        "plt.xlim(0, 21)\n",
        "plt.ylabel('Loss')\n",
        "plt.xlabel('Épocas')\n",
        "plt.legend(['Modelo 2016: Perda'])\n",
        "plt.show();"
      ]
    },
    {
      "cell_type": "markdown",
      "metadata": {
        "id": "eIFxq_LqGjUc"
      },
      "source": [
        "#### 3.2.6 Item 3 (RESOLVER)"
      ]
    },
    {
      "cell_type": "markdown",
      "metadata": {
        "id": "kTCIp2MEGvCc"
      },
      "source": [
        "Utilizando o conjunto de teste (`x_test`) como entrada para o modelo treinado, obtenha as saídas da predição usando `modelo.predict(x_test)`.  A seguir, compute a soma do erro quadrático, i.e. $||x - \\hat{x}||^2$, sendo $x$ os atributos de entrada e $\\hat{x}$ os valores de saída da rede neural, ou seja, o erro de reconstrução de cada exemplo de teste (original) com relação ao predito pelo modelo (exemplos resultados da saída da predição).\n",
        "\n",
        "Armazene o erro de cada elemento organizados, em ordem, num array `error`.\n",
        "\n",
        "O objetivo é verificar se alguma tupla do ano de 2017 possui alto erro de reconstrução, o que indicaria uma possível anomalia a ser investigada com relação aos atributos (cargo, equipe, salário, etc.)."
      ]
    },
    {
      "cell_type": "code",
      "metadata": {
        "id": "wFVXhXNlG8Rw"
      },
      "source": [
        "#Escreva aqui a sua resposta para o Item 3\n",
        "result = model_2016.predict(x_test)"
      ],
      "execution_count": 19,
      "outputs": []
    },
    {
      "cell_type": "code",
      "execution_count": 27,
      "metadata": {},
      "outputs": [
        {
          "output_type": "execute_result",
          "data": {
            "text/plain": [
              "array([0.20210997, 2.32769882, 0.63233352, 0.19835846, 0.34277373])"
            ]
          },
          "metadata": {},
          "execution_count": 27
        }
      ],
      "source": [
        "from statsmodels.tools.eval_measures import rmse\n",
        "\n",
        "error = rmse(x_test, result)\n",
        "error"
      ]
    },
    {
      "cell_type": "markdown",
      "metadata": {
        "id": "BlfKGAUYHlTg"
      },
      "source": [
        "#### 3.2.7 Obtendo o Valor de funcPK Relativo ao Maior Erro\n",
        "\n",
        "*Esta parte da questão já está resolvida. Realize a leitura do enunciado e da resposta.*"
      ]
    },
    {
      "cell_type": "markdown",
      "metadata": {
        "id": "Rq_bYBq1IX24"
      },
      "source": [
        "Obtenha o valor do atributo `funcPK` não normalizado, referente ao `dataFrame` original, relativo à instância que possui o maior erro no teste. **O valor de `funcPK` deve ser usado para a especificação da consulta OLAP definida na seção 6.2.8.**"
      ]
    },
    {
      "cell_type": "code",
      "metadata": {
        "id": "dbHnUY-b-vJw"
      },
      "source": [
        "# Obtendo o valor de funcPK desejado \n",
        "\n",
        "k_maiores = 1 # obtem os k valores com maior erro\n",
        "for i in np.argpartition(error,-k_maiores)[-k_maiores:]:\n",
        "    print(respostaPandas17.iloc[i,0])"
      ],
      "execution_count": 28,
      "outputs": [
        {
          "output_type": "stream",
          "name": "stdout",
          "text": [
            "200\n"
          ]
        }
      ]
    },
    {
      "cell_type": "markdown",
      "metadata": {
        "id": "_PQ8uSjYTlj-"
      },
      "source": [
        "## 3.3 Investigação do Funcionário"
      ]
    },
    {
      "cell_type": "markdown",
      "metadata": {
        "id": "CoWcv4sqTyV2"
      },
      "source": [
        "Uma vez identificado o código do funcionário, observou-se que ele recebeu salário muito superior quando comparado com os salários dos demais funcionários da empresa. Esse funcionário deve ser investigado considerando, portanto, seu salário. Essa investigação deve ser feita por meio da especificação de consultas OLAP. "
      ]
    },
    {
      "cell_type": "markdown",
      "metadata": {
        "id": "TTiNBAtwWvc4"
      },
      "source": [
        "Observações importantes:\n",
        "- A **consulta OLAP** pode ser especificada:\n",
        "   - Usando a **linguagem SQL** (conceitos apresentados na Aula 07)  \n",
        "   OU (escolha somente uma forma)\n",
        "   - Usando os métodos de **pyspark.sql** (conceitos apresentados na Aula 08). \n",
        "- Na listagem das respostas:\n",
        "   - As **colunas** solicitadas devem ser exibidas exatamente na mesma ordem que a definida.\n",
        "   - As **linhas** retornadas como respostas devem ser exibidas exatamente na mesma ordem que a definida. \n",
        "   - Os **nomes das colunas** renomeadas devem seguir estritamente os nomes definidos.\n",
        "- Quando a consulta OLAP for especificada usando a **linguagem SQL**, use:\n",
        "  - O comando `spark.sql(consultaSQL).show(20,truncate=False)` para exibir o resultado da consulta. Esse comando deve ser o último comando a ser especificado.\n",
        "  - A função `ROUND(funçãoDeAgregação,2)` para arredondar o dado até duas casas decimais.\n",
        "- Quando a consulta OLAP for especificada usando os demais **métodos de pyspark.sql**, use:\n",
        "  - O comando `nomeDoDataFrame.show(20,truncate=False)` para exibir o resultado da consulta. Esse comando deve ser o último comando a ser especificado.\n",
        "  - O método `round(funçãoDeAgregação,2)` para arredondar o dado até duas casas decimais. "
      ]
    },
    {
      "cell_type": "markdown",
      "metadata": {
        "id": "sWS1kgB3I5fj"
      },
      "source": [
        "#### 3.3.1 Item 4 (RESOLVER)"
      ]
    },
    {
      "cell_type": "markdown",
      "metadata": {
        "id": "Nih4rqBOdxpc"
      },
      "source": [
        "**Faça uma consulta que tem como objetivo investigar os meses e os valores dos salários recebidos no ano de 2017 pelo funcionário que está sendo inspecionado.** Ou seja, liste para cada mês do ano de 2017, o nome do funcionário, o mês e o salário recebido pelo funcionário cujo valor de `funcPK` foi identificado logo após o Item 3. Devem ser exibidas as colunas na ordem e com os nomes especificados a seguir: \"NOMEFUNCIONARIO\", \"MES\" e \"SALARIO\". Arredonde os salários para até duas casas decimais. Ordene as linhas exibidas primeiro por salário em ordem **descendente** e depois por mês em ordem **ascendente**. Liste as primeiras 20 linhas da resposta, sem truncamento das *strings*. **O maior valor de salário pode ser encontrado na primeira linha exibida para inspeção.** \n"
      ]
    },
    {
      "cell_type": "code",
      "metadata": {
        "id": "x6JCZfVqfDOA"
      },
      "source": [
        "#Escreva aqui a sua resposta para o Item 4\n",
        "\n",
        "#especificando a consulta que retorna os valores dos atributos\n",
        "#funcPK, equipePK, dataPK, cargoPK e salario\n",
        "#para pagamentos realizados na dataAno de 2017\n",
        "query = \"\"\"\n",
        "SELECT \n",
        "    funck\n",
        "\n",
        "\n",
        "\n",
        "SELECT funcPK, equipePK, pagamento.dataPK, cargoPK, salario\n",
        "FROM pagamento, data\n",
        "WHERE pagamento.dataPK = data.dataPK\n",
        "      AND dataAno = 2017\n",
        "ORDER BY funcPK desc, equipePK, pagamento.dataPK, cargoPK, salario       \n",
        "\"\"\"\n",
        "\n",
        "#transformando o resultado em um dataFrame em Pandas\n",
        "resposta_final = spark.sql(query).toPandas()\n",
        "resposta_final\n"
      ],
      "execution_count": null,
      "outputs": []
    }
  ]
}