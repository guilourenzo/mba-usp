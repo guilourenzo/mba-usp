{
 "cells": [
  {
   "cell_type": "markdown",
   "metadata": {},
   "source": [
    "### GUILHERME LOURENÇO\n",
    "\n",
    "## <span style=\"color:blue\"> MBA em Ciência de Dados</span>\n",
    "## <span style=\"color:blue\">Técnicas Avançadas de Captura e Tratamento de Dados</span>\n",
    "\n",
    "### <span style=\"color:blue\">Questão Avaliação Final - instruções</span>\n",
    "**Luis Gustavo Nonato** e **Moacir Antonelli Ponti**<br>\n",
    "\n",
    "**Cemeai - ICMC/USP São Carlos**"
   ]
  },
  {
   "cell_type": "markdown",
   "metadata": {},
   "source": [
    "<font color='blue'> \n",
    "*INSTRUÇÕES*:<br>\n",
    "1) Você deve exportar o notebook que utilizou para resolver as questões da prova em formato .py e fazer upload no Moodle. Atenção: você não deve fazer upload de um arquivo notebook (.ipynb), mas sim um arquivo texto .py contendo os códigos python que utilizou para resolver as questões. O arquivo .py pode ser gerado através da opção:<br>\n",
    "File --> Download as --> Python (.py)\n",
    "disponível no Jupyter Notebook.\n",
    "\n",
    "ou\n",
    "File --> Download .py\n",
    "no Google Colab\n",
    "\n",
    "Caso não esteja utilizando o Jupyter, copie e cole seu código em um arquivo ASCII (Texto) salvando com a extensão .py\n",
    "\n",
    "2) O arquivo deve ser nomeado com seu nome e sobrenome, sem espaços. Exemplo: moacirponti.py\n",
    "\n",
    "3) É OBRIGATÓRIO conter no cabeçalho (início) do arquivo um comentário / texto com o seu nome completo\n",
    "\n",
    "------------------\n",
    "</font>"
   ]
  },
  {
   "cell_type": "code",
   "execution_count": 1,
   "metadata": {},
   "outputs": [],
   "source": [
    "URL = \"https://ckan.pbh.gov.br/dataset/c43b45d5-fe41-4099-b1a7-a0c76dfd45a6/resource/18372718-8c7a-424e-ac56-0cfbfc4badea/download/contratacaocorona-27-07-acertado.csv\""
   ]
  },
  {
   "cell_type": "markdown",
   "metadata": {},
   "source": [
    "----\n",
    "O arquivo `contratacaocorona-27-07-acertado.csv` contém informações de compras emergenciais ligadas a COVID 19. \n",
    "\n",
    "1. Leia o arquivo e considere apenas as colunas 'QUANTIDADE', 'VALOR_UNITM-ARIO' e 'VALOR_TOTAL'. Verifique quantos dados faltantes existem no DataFrame resultante.\n",
    "2. Remova as linhas do data frame que contenham dados faltantes. Verifique quantas linhas foram removidas.\n",
    "3. Prepare a coluna 'VALOR_TOTAL' para ser processada como numérica, e a seguir busque por outliers presentes nesta coluna. Para isso use o método do desvio padrão com $\\sigma=3$. Verifique o número de outliers encontrados.\n",
    "\n",
    "Com base nos itens acima, assinale a alternativa correta\n",
    "\n",
    "a) Dados faltantes: 12, Linhas removidas: 12, Outliers encontrados: 6<br>\n",
    "b) Dados faltantes: 30, Linhas removidas: 30, Outliers encontrados: 2<br>\n",
    "c) Dados faltantes: 12, Linhas removidas: 12, Outliers encontrados: 4<br>\n",
    "d) Dados faltantes: 30, Linhas removidas: 24, Outliers encontrados: 6<br>\n",
    "<font color='red'>e) Dados faltantes: 30, Linhas removidas: 12, Outliers encontrados: 4</font>"
   ]
  },
  {
   "source": [
    "### Etapa 1:\n",
    "Leia o arquivo e considere apenas as colunas 'QUANTIDADE', 'VALOR_UNITM-ARIO' e 'VALOR_TOTAL'. Verifique quantos dados faltantes existem no DataFrame resultante."
   ],
   "cell_type": "markdown",
   "metadata": {}
  },
  {
   "cell_type": "code",
   "execution_count": 2,
   "metadata": {},
   "outputs": [
    {
     "output_type": "stream",
     "name": "stdout",
     "text": [
      "TAMANHO DA BASE: 129\nDADOS FALTANTES: 30\n"
     ]
    }
   ],
   "source": [
    "import pandas as pd\n",
    "\n",
    "corona = pd.read_csv(URL, sep=';', usecols=['QUANTIDADE', 'VALOR_UNITM-ARIO', 'VALOR_TOTAL'])\n",
    "print(f'TAMANHO DA BASE: {len(corona)}\\nDADOS FALTANTES: {corona.isna().values.sum()}')\n"
   ]
  },
  {
   "source": [
    "### Etapa 2:\n",
    "Remova as linhas do data frame que contenham dados faltantes. Verifique quantas linhas foram removidas."
   ],
   "cell_type": "markdown",
   "metadata": {}
  },
  {
   "cell_type": "code",
   "execution_count": 3,
   "metadata": {},
   "outputs": [
    {
     "output_type": "stream",
     "name": "stdout",
     "text": [
      "TAMANHO DA BASE SEM NULO: 117\nDADOS FALTANTES: 0\nDADOS REMOVIDOS: 12\n"
     ]
    }
   ],
   "source": [
    "corona_sem_nulo = corona.dropna()\n",
    "print(f'TAMANHO DA BASE SEM NULO: {len(corona_sem_nulo)}\\nDADOS FALTANTES: {corona_sem_nulo.isna().values.sum()}\\nDADOS REMOVIDOS: {len(corona) - len(corona_sem_nulo)}')\n"
   ]
  },
  {
   "source": [
    "### Etapa 3:\n",
    "Prepare a coluna 'VALOR_TOTAL' para ser processada como numérica, e a seguir busque por outliers presentes nesta coluna. Para isso use o método do desvio padrão com σ = 3. Verifique o número de outliers encontrados."
   ],
   "cell_type": "markdown",
   "metadata": {}
  },
  {
   "cell_type": "code",
   "execution_count": 4,
   "metadata": {},
   "outputs": [
    {
     "output_type": "execute_result",
     "data": {
      "text/plain": [
       "  QUANTIDADE VALOR_UNITM-ARIO    VALOR_TOTAL  VALOR_TOTAL_AJUSTADO\n",
       "0     20.000          R$ 7,90  R$ 158.000,00              158000.0\n",
       "1     50.000          R$ 2,40  R$ 120.000,00              120000.0\n",
       "2    350.000          R$ 0,05   R$ 17.500,00               17500.0\n",
       "3    350.000          R$ 0,23   R$ 80.500,00               80500.0\n",
       "4    140.000          R$ 2,91  R$ 407.400,00              407400.0"
      ],
      "text/html": "<div>\n<style scoped>\n    .dataframe tbody tr th:only-of-type {\n        vertical-align: middle;\n    }\n\n    .dataframe tbody tr th {\n        vertical-align: top;\n    }\n\n    .dataframe thead th {\n        text-align: right;\n    }\n</style>\n<table border=\"1\" class=\"dataframe\">\n  <thead>\n    <tr style=\"text-align: right;\">\n      <th></th>\n      <th>QUANTIDADE</th>\n      <th>VALOR_UNITM-ARIO</th>\n      <th>VALOR_TOTAL</th>\n      <th>VALOR_TOTAL_AJUSTADO</th>\n    </tr>\n  </thead>\n  <tbody>\n    <tr>\n      <th>0</th>\n      <td>20.000</td>\n      <td>R$ 7,90</td>\n      <td>R$ 158.000,00</td>\n      <td>158000.0</td>\n    </tr>\n    <tr>\n      <th>1</th>\n      <td>50.000</td>\n      <td>R$ 2,40</td>\n      <td>R$ 120.000,00</td>\n      <td>120000.0</td>\n    </tr>\n    <tr>\n      <th>2</th>\n      <td>350.000</td>\n      <td>R$ 0,05</td>\n      <td>R$ 17.500,00</td>\n      <td>17500.0</td>\n    </tr>\n    <tr>\n      <th>3</th>\n      <td>350.000</td>\n      <td>R$ 0,23</td>\n      <td>R$ 80.500,00</td>\n      <td>80500.0</td>\n    </tr>\n    <tr>\n      <th>4</th>\n      <td>140.000</td>\n      <td>R$ 2,91</td>\n      <td>R$ 407.400,00</td>\n      <td>407400.0</td>\n    </tr>\n  </tbody>\n</table>\n</div>"
     },
     "metadata": {},
     "execution_count": 4
    }
   ],
   "source": [
    "corona_valor_total = corona_sem_nulo.copy()\n",
    "corona_valor_total['VALOR_TOTAL_AJUSTADO'] = corona_valor_total['VALOR_TOTAL'].str.replace('R', '')\n",
    "corona_valor_total['VALOR_TOTAL_AJUSTADO'] = corona_valor_total['VALOR_TOTAL_AJUSTADO'].str.replace('$', '')\n",
    "corona_valor_total['VALOR_TOTAL_AJUSTADO'] = corona_valor_total['VALOR_TOTAL_AJUSTADO'].str.replace('.', '')\n",
    "corona_valor_total['VALOR_TOTAL_AJUSTADO'] = corona_valor_total['VALOR_TOTAL_AJUSTADO'].str.replace(',', '.')\n",
    "\n",
    "corona_valor_total['VALOR_TOTAL_AJUSTADO']=pd.to_numeric(corona_valor_total['VALOR_TOTAL_AJUSTADO'])\n",
    "corona_valor_total.head()"
   ]
  },
  {
   "cell_type": "code",
   "execution_count": 14,
   "metadata": {},
   "outputs": [],
   "source": [
    "def detecta_outliers(df, variable):\n",
    "    q1 = df[variable].quantile(0.25)\n",
    "    q3 = df[variable].quantile(0.75)\n",
    "    iqr = q3 - q1\n",
    "\n",
    "    desvp = df[variable].std()\n",
    "    media = df[variable].mean()\n",
    "\n",
    "    matches = df[(df[variable] < media-(desvp*3)) | (df[variable] > media+(desvp*3))]\n",
    "\n",
    "    return len(matches)"
   ]
  },
  {
   "cell_type": "code",
   "execution_count": 15,
   "metadata": {},
   "outputs": [
    {
     "output_type": "stream",
     "name": "stdout",
     "text": [
      "TAMANHO DA BASE SEM NULO: 117\nDADOS FALTANTES: 0\nDADOS REMOVIDOS: 12\nTOTAL DE OUTLIERS 4\n"
     ]
    }
   ],
   "source": [
    "qtd_outliers = detecta_outliers(corona_valor_total, 'VALOR_TOTAL_AJUSTADO')\n",
    "print(f'TAMANHO DA BASE SEM NULO: {len(corona_sem_nulo)}\\nDADOS FALTANTES: {corona_sem_nulo.isna().values.sum()}\\nDADOS REMOVIDOS: {len(corona) - len(corona_sem_nulo)}\\nTOTAL DE OUTLIERS {qtd_outliers}')"
   ]
  },
  {
   "cell_type": "code",
   "execution_count": null,
   "metadata": {},
   "outputs": [],
   "source": []
  }
 ],
 "metadata": {
  "kernelspec": {
   "display_name": "Python 3",
   "language": "python",
   "name": "python3"
  },
  "language_info": {
   "codemirror_mode": {
    "name": "ipython",
    "version": 3
   },
   "file_extension": ".py",
   "mimetype": "text/x-python",
   "name": "python",
   "nbconvert_exporter": "python",
   "pygments_lexer": "ipython3",
   "version": "3.8.6-final"
  }
 },
 "nbformat": 4,
 "nbformat_minor": 2
}