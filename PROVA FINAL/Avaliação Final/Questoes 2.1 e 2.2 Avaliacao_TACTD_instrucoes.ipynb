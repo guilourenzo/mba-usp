{
 "cells": [
  {
   "cell_type": "markdown",
   "metadata": {},
   "source": [
    "### PREENCHA SEU NOME COMPLETO AQUI\n",
    "\n",
    "## <span style=\"color:blue\"> MBA em Ciência de Dados</span>\n",
    "## <span style=\"color:blue\">Técnicas Avançadas de Captura e Tratamento de Dados</span>\n",
    "\n",
    "### <span style=\"color:blue\">Questão Avaliação Final - instruções</span>\n",
    "**Luis Gustavo Nonato** e **Moacir Antonelli Ponti**<br>\n",
    "\n",
    "**Cemeai - ICMC/USP São Carlos**"
   ]
  },
  {
   "cell_type": "markdown",
   "metadata": {},
   "source": [
    "<font color='blue'> \n",
    "*INSTRUÇÕES*:<br>\n",
    "1) Você deve exportar o notebook que utilizou para resolver as questões da prova em formato .py e fazer upload no Moodle. Atenção: você não deve fazer upload de um arquivo notebook (.ipynb), mas sim um arquivo texto .py contendo os códigos python que utilizou para resolver as questões. O arquivo .py pode ser gerado através da opção:<br>\n",
    "File --> Download as --> Python (.py)\n",
    "disponível no Jupyter Notebook.\n",
    "\n",
    "ou\n",
    "File --> Download .py\n",
    "no Google Colab\n",
    "\n",
    "Caso não esteja utilizando o Jupyter, copie e cole seu código em um arquivo ASCII (Texto) salvando com a extensão .py\n",
    "\n",
    "2) O arquivo deve ser nomeado com seu nome e sobrenome, sem espaços. Exemplo: moacirponti.py\n",
    "\n",
    "3) É OBRIGATÓRIO conter no cabeçalho (início) do arquivo um comentário / texto com o seu nome completo\n",
    "\n",
    "------------------\n",
    "</font>"
   ]
  },
  {
   "cell_type": "code",
   "execution_count": 1,
   "metadata": {},
   "outputs": [],
   "source": [
    "URL = \"https://ckan.pbh.gov.br/dataset/c43b45d5-fe41-4099-b1a7-a0c76dfd45a6/resource/18372718-8c7a-424e-ac56-0cfbfc4badea/download/contratacaocorona-27-07-acertado.csv\""
   ]
  },
  {
   "cell_type": "markdown",
   "metadata": {},
   "source": [
    "----\n",
    "O arquivo `contratacaocorona-27-07-acertado.csv` contém informações de compras emergenciais ligadas a COVID 19. \n",
    "\n",
    "1. Leia o arquivo e considere apenas as colunas 'QUANTIDADE', 'VALOR_UNITM-ARIO' e 'VALOR_TOTAL'. Verifique quantos dados faltantes existem no DataFrame resultante.\n",
    "2. Remova as linhas do data frame que contenham dados faltantes. Verifique quantas linhas foram removidas.\n",
    "3. Prepare a coluna 'VALOR_TOTAL' para ser processada como numérica, e a seguir busque por outliers presentes nesta coluna. Para isso use o método do desvio padrão com $\\sigma=3$. Verifique o número de outliers encontrados.\n",
    "\n",
    "Com base nos itens acima, assinale a alternativa correta\n",
    "\n",
    "a) Dados faltantes: 12, Linhas removidas: 12, Outliers encontrados: 6<br>\n",
    "b) Dados faltantes: 30, Linhas removidas: 30, Outliers encontrados: 2<br>\n",
    "c) Dados faltantes: 12, Linhas removidas: 12, Outliers encontrados: 4<br>\n",
    "d) Dados faltantes: 30, Linhas removidas: 24, Outliers encontrados: 6<br>\n",
    "<font color='red'>e) Dados faltantes: 30, Linhas removidas: 12, Outliers encontrados: 4</font>"
   ]
  }
 ],
 "metadata": {
  "kernelspec": {
   "display_name": "Python 3",
   "language": "python",
   "name": "python3"
  },
  "language_info": {
   "codemirror_mode": {
    "name": "ipython",
    "version": 3
   },
   "file_extension": ".py",
   "mimetype": "text/x-python",
   "name": "python",
   "nbconvert_exporter": "python",
   "pygments_lexer": "ipython3",
   "version": "3.8.6"
  }
 },
 "nbformat": 4,
 "nbformat_minor": 2
}
