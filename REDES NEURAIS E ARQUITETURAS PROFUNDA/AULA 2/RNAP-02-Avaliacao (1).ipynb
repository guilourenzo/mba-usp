{
 "cells": [
  {
   "cell_type": "markdown",
   "metadata": {},
   "source": [
    "## MBA em Ciência de Dados\n",
    "# Redes Neurais e Arquiteturas Profundas\n",
    "\n",
    "### <span style=\"color:darkred\">Módulo II - Redes Neurais Convolucionais (CNNs)</span>\n",
    "\n",
    "\n",
    "### <span style=\"color:darkred\">Avaliação</span>\n",
    "\n",
    "Moacir Antonelli Ponti\n",
    "\n",
    "CeMEAI - ICMC/USP São Carlos\n",
    "\n",
    "---\n",
    "\n",
    "As respostas devem ser dadas no Moodle, use esse notebook apenas para gerar o código necessário para obter as respostas\n",
    "\n",
    "---"
   ]
  },
  {
   "cell_type": "markdown",
   "metadata": {},
   "source": [
    "---\n",
    "### Questão 1)\n",
    "\n",
    "Considere duas camadas de redes neurais profundas que recebem uma entrada com um total de 2500 dimensões:\n",
    "\n",
    "A. Camada densa com 10 neurônios, cuja entrada é um vetor de 2500 dimensões;\n",
    "B. Camada convolucional com 100 neurônios (filtros) de tamanho 3x3, cuja entrada é uma matriz de 50x50=2500 dimensões\n",
    "\n",
    "Qual o total de parâmetros a serem aprendidos em cada camada?\n",
    "\n",
    "\n",
    "(a) A = 25000 parâmetros; B = 1010 parâmetros <br>\n",
    "(b) A = 2500 parâmetros; B = 900 parâmetros <br>\n",
    "(c) A = 25010 parâmetros; B = 1000 parâmetros <br>\n",
    "(d) A = 25010 parâmetros; B = 900 parâmetros <br>"
   ]
  },
  {
   "cell_type": "markdown",
   "metadata": {},
   "source": [
    "---\n",
    "### Questão 2)\n",
    "\n",
    "Considere o conceito de \"campo receptivo local\" como uma região de certo tamanho dos dados de entrada que é processada de forma a gerar a saída. Considere ainda dois tipos de unidades de processamento de redes neurais profundas:\n",
    "\n",
    "A. Neurônio de camada densa (tipo Perceptron), que recebe por entrada um vetor com 3072 dimensões\n",
    "B. Neurônio de camada convolucional (filtro) de tamanho K x K x P, que recebe por entrada uma imagem com 32 x 32 x 3 dimensões.\n",
    "\n",
    "Qual é o tamanho do campo receptivo para cada valor de saída computado por A e B?\n",
    "\n",
    " (a) A = 1; B = 32 x 32 x 3<br>\n",
    " (b) A = 3072; B = K x K x P<br>\n",
    " (c) A = K x K; B = K x K x P<br>\n",
    " (d) A = 3072; B = 32 x 32 x 3<br>"
   ]
  },
  {
   "cell_type": "markdown",
   "metadata": {},
   "source": [
    "---\n",
    "### Questão 3)\n",
    "\n",
    "Utilizando a biblioteca Keras, projete uma rede neural para processar dados unidimensionais (dimensionalidade do vetor de entrada = 11000), e que contenha as seguintes camadas:\n",
    "\n",
    "1. camada max pooling com tamanho de pool = 10\n",
    "2. camada convolucional 1 com 100 filtros de tamanho 5, sem padding\n",
    "3. camada global average pooling\n",
    "\n",
    "Essa arquitetura poderia ser utilizada para receber por entrado segundos de áudio a 11kHz e aprender um espaço de características compacta com a camada Global Average Pooling.\n",
    "\n",
    "Quais as dimensionalidades das saídas de cada camada?\n",
    "\n",
    "(a) 1=(1100,1); 2=(1096,100); 3=(100)<br>\n",
    "(a) 1=(10010,1); 2=(1993,100); 3=(100,100)<br>\n",
    "(c) 1=(10,1); 2=(1000,5); 3=(100)<br>\n",
    "(d) 1=(1100,1); 2=(1096,5); 3=(100)<br>"
   ]
  },
  {
   "cell_type": "code",
   "execution_count": 1,
   "metadata": {},
   "outputs": [],
   "source": [
    "import tensorflow as tf\n",
    "from tensorflow import keras\n"
   ]
  },
  {
   "cell_type": "markdown",
   "metadata": {},
   "source": [
    "---\n",
    "### Questão 4)\n",
    "\n",
    "Carregue a base de dados Fashion-MNIST conforme o código abaixo e exiba as 10 primeiras imagens dessa base de dados. Normalize os dados das imagens de forma a que os valores estejam entre 0 e 1, depois converta as classes para o tipo categórico utilizando o ` tf.keras.utils.to_categorical`.\n",
    "\n",
    "A seguir, crie uma CNN para classificar imagens dessa base de dados, contendo como camadas:\n",
    "\n",
    "1. convolucional 1 com 32 filtros de tamanho $3\\times 3$, com padding e stride 2 (nas duas direções)\n",
    "2. convolucional 2 com 64 filtros de tamanho $1\\times 3$, com padding e stride $1,2$\n",
    "3. convolucional 3 com 64 filtros de tamanho $3\\times 1$, com padding e stride $2,1$\n",
    "4. convolucional 4 com 128 filtros de tamanho $3\\times 3$, sem padding.\n",
    "5. global average pooling\n",
    "6. classificador softmax\n",
    "\n",
    "Quais os tamanhos das saídas de cada camada?\n",
    "\n",
    "(a) 1=(14,14,32); 2=(14,7,64); 3=(7,7,64); 4=(5,5,128); 5=(128)<br>\n",
    "(a) 1=(28,28,32); 2=(14,7,64); 3=(7,7,64); 4=(5,5,128); 5=(128); 6=(10)<br>\n",
    "(c) 1=(28,28,32); 2=(14,7,64); 3=(7,14,64); 4=(5,5,128); 5=(128); 6=(10) <br>\n",
    "(d) 1=(14,14,32); 2=(14,7,64); 3=(7,7,64); 4=(5,5,128); 5=(128); 6=(10)<br>"
   ]
  },
  {
   "cell_type": "code",
   "execution_count": 2,
   "metadata": {},
   "outputs": [],
   "source": [
    "import numpy as np\n",
    "import matplotlib.pyplot as plt\n",
    "\n",
    "from tensorflow.keras.datasets import fashion_mnist\n",
    "(x_train, y_train), (x_test, y_test) = fashion_mnist.load_data()\n"
   ]
  },
  {
   "cell_type": "code",
   "execution_count": null,
   "metadata": {},
   "outputs": [],
   "source": []
  },
  {
   "cell_type": "markdown",
   "metadata": {},
   "source": [
    "---\n",
    "\n",
    "### Questão 5)\n",
    "\n",
    "Defina as sementes aleatórias do numpy para 1 e do tensorflow para 2. Depois, utilizando a arquitetura definida no exercício anterior, configure a rede para treinar com a configuração abaixo, salvando o histórico da perda e acurácia para as épocas.\n",
    "* otimizador: SGD\n",
    "* taxa de aprendizado: 0.09\n",
    "* função de custo: `categorical_crossentropy`\n",
    "* métrica: `accuracy`\n",
    "* épocas: 15\n",
    "* batchsize: 64\n",
    "\n",
    "Após o processo de aprendizado, obtenha a acurácia calculada no conjunto de treinamento e no conjunto de testes utilizando a função `evaluate()` e escolha a opção cujo intervalo se enquadre nos valores obtidos.\n",
    "\n",
    "(a) Acurácia Treinamento = (0.92, 0.95),  Acurácia Teste = (0.90, 0.93)<br>\n",
    "(b) Acurácia Treinamento = (0.86, 0.90),  Acurácia Teste = (0.80, 0.83)<br>\n",
    "(c) Acurácia Treinamento = (0.96, 1.00),  Acurácia Teste = (0.83, 0.89)<br>\n",
    "(d) Acurácia Treinamento = (0.87, 0.92),  Acurácia Teste = (0.84, 0.89)<br>"
   ]
  },
  {
   "cell_type": "code",
   "execution_count": 3,
   "metadata": {},
   "outputs": [],
   "source": [
    "from numpy.random import seed\n",
    "seed(1)\n",
    "from tensorflow.random import set_seed\n",
    "set_seed(2)"
   ]
  },
  {
   "cell_type": "code",
   "execution_count": null,
   "metadata": {
    "scrolled": true
   },
   "outputs": [],
   "source": []
  }
 ],
 "metadata": {
  "kernelspec": {
   "display_name": "Python 3",
   "language": "python",
   "name": "python3"
  },
  "language_info": {
   "codemirror_mode": {
    "name": "ipython",
    "version": 3
   },
   "file_extension": ".py",
   "mimetype": "text/x-python",
   "name": "python",
   "nbconvert_exporter": "python",
   "pygments_lexer": "ipython3",
   "version": "3.8.5"
  }
 },
 "nbformat": 4,
 "nbformat_minor": 4
}
