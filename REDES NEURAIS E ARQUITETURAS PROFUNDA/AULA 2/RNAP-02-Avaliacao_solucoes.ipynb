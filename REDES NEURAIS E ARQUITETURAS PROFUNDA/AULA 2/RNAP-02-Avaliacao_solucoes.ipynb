{
 "cells": [
  {
   "cell_type": "markdown",
   "metadata": {},
   "source": [
    "## MBA em Ciência de Dados\n",
    "# Redes Neurais e Arquiteturas Profundas\n",
    "\n",
    "### <span style=\"color:darkred\">Módulo II - Redes Neurais Convolucionais (CNNs)</span>\n",
    "\n",
    "\n",
    "### <span style=\"color:darkred\">Avaliação (com soluções)</span>\n",
    "\n",
    "Moacir Antonelli Ponti\n",
    "\n",
    "CeMEAI - ICMC/USP São Carlos\n",
    "\n",
    "---\n",
    "\n",
    "As respostas devem ser dadas no Moodle, use esse notebook apenas para gerar o código necessário para obter as respostas\n",
    "\n",
    "---"
   ]
  },
  {
   "cell_type": "markdown",
   "metadata": {},
   "source": [
    "---\n",
    "### Questão 1)\n",
    "\n",
    "Considere duas camadas de redes neurais profundas que recebem uma entrada com um total de 2500 dimensões:\n",
    "\n",
    "A. Camada densa com 10 neurônios, cuja entrada é um vetor de 2500 dimensões;\n",
    "B. Camada convolucional com 100 neurônios (filtros) de tamanho 3x3, cuja entrada é uma matriz de 50x50=2500 dimensões\n",
    "\n",
    "Qual o total de parâmetros a serem aprendidos em cada camada?\n",
    "\n",
    "\n",
    "(a) A = 25000 parâmetros; B = 1010 parâmetros <br>\n",
    "(b) A = 2500 parâmetros; B = 900 parâmetros <br>\n",
    "<font color='red'>(c) A = 25010 parâmetros; B = 1000 parâmetros <br></font>\n",
    "(d) A = 25010 parâmetros; B = 900 parâmetros <br>\n",
    "\n",
    "**Justificativa:** se a entrada possui 2500 dimensões, então cada neurônio de uma camada densa tem 2500 pesos, mais 1 termo bias, num total de 25000 + 10 = 25010 parâmetros. No caso de uma camada convolucional, independente do tramanho da entrada, se há 100 neurônios com filtros 3x3, então cada um deles terá 9 parâmetros + 1 bias = 10 valores, totalizando 1000 parâmetros."
   ]
  },
  {
   "cell_type": "markdown",
   "metadata": {},
   "source": [
    "---\n",
    "### Questão 2)\n",
    "\n",
    "Considere o conceito de \"campo receptivo local\" como uma região de certo tamanho dos dados de entrada que é processada de forma a gerar a saída. Considere ainda dois tipos de unidades de processamento de redes neurais profundas:\n",
    "\n",
    "A. Neurônio de camada densa (tipo Perceptron), que recebe por entrada um vetor com 3072 dimensões\n",
    "B. Neurônio de camada convolucional (filtro) de tamanho K x K x P, que recebe por entrada uma imagem com 32 x 32 x 3 dimensões.\n",
    "\n",
    "Qual é o tamanho do campo receptivo local para cada valor de saída computado por A e B?\n",
    "\n",
    " (a) A = 1; B = 32 x 32 x 3<br>\n",
    " <font color='red'>(b) A = 3072; B = K x K x P</font><br>\n",
    " (c) A = K x K; B = K x K x P<br>\n",
    " (d) A = 3072; B = 32 x 32 x 3<br>\n",
    " \n",
    "\n",
    "**Justificativa:** toda camada densa processa todos os elementos de entrada e portanto o campo receptivo é composto de todos os valores. De fato poderíamos até mesmo chamar de campo receptivo local sendo, na prática, global. Já uma camada convolucional processa dados localmente sempre igual ao tamanho do filtro, nesse caso K x K x P."
   ]
  },
  {
   "cell_type": "markdown",
   "metadata": {},
   "source": [
    "---\n",
    "### Questão 3)\n",
    "\n",
    "Utilizando a biblioteca Keras, projete uma rede neural para processar dados unidimensionais (dimensionalidade do vetor de entrada = 11000), e que contenha as seguintes camadas:\n",
    "\n",
    "1. camada max pooling com tamanho de pool = 10\n",
    "2. camada convolucional 1 com 100 filtros de tamanho 5, sem padding\n",
    "3. camada global average pooling\n",
    "\n",
    "Essa arquitetura poderia ser utilizada para receber por entrado segundos de áudio a 11kHz e aprender um espaço de características compacta com a camada Global Average Pooling.\n",
    "\n",
    "Quais as dimensionalidades das saídas de cada camada?\n",
    "\n",
    "<font color='red'>(a) 1=(1100,1); 2=(1096,100); 3=(100)</font><br>\n",
    "(a) 1=(10010,1); 2=(1993,100); 3=(100,100)<br>\n",
    "(c) 1=(10,1); 2=(1000,5); 3=(100)<br>\n",
    "(d) 1=(1100,1); 2=(1096,5); 3=(100)<br>\n",
    "\n",
    "**Justificativa:** ver código abaixo"
   ]
  },
  {
   "cell_type": "code",
   "execution_count": 1,
   "metadata": {},
   "outputs": [
    {
     "name": "stdout",
     "output_type": "stream",
     "text": [
      "Model: \"sequential\"\n",
      "_________________________________________________________________\n",
      "Layer (type)                 Output Shape              Param #   \n",
      "=================================================================\n",
      "max_pooling1d (MaxPooling1D) (None, 1100, 1)           0         \n",
      "_________________________________________________________________\n",
      "conv1d (Conv1D)              (None, 1096, 100)         600       \n",
      "_________________________________________________________________\n",
      "global_average_pooling1d (Gl (None, 100)               0         \n",
      "=================================================================\n",
      "Total params: 600\n",
      "Trainable params: 600\n",
      "Non-trainable params: 0\n",
      "_________________________________________________________________\n"
     ]
    }
   ],
   "source": [
    "import tensorflow as tf\n",
    "from tensorflow import keras\n",
    "\n",
    "modelA = keras.Sequential()\n",
    "modelA.add(keras.layers.MaxPooling1D(pool_size=10, input_shape=(11000,1)))\n",
    "modelA.add(keras.layers.Conv1D(100, kernel_size=5, padding='valid', activation='relu'))\n",
    "modelA.add(keras.layers.GlobalAveragePooling1D())\n",
    "modelA.summary()"
   ]
  },
  {
   "cell_type": "markdown",
   "metadata": {},
   "source": [
    "---\n",
    "### Questão 4)\n",
    "\n",
    "Carregue a base de dados Fashion-MNIST conforme o código abaixo e exiba as 10 primeiras imagens dessa base de dados. Normalize os dados das imagens de forma a que os valores estejam entre 0 e 1, depois converta as classes para o tipo categórico utilizando o ` tf.keras.utils.to_categorical`.\n",
    "\n",
    "A seguir, crie uma CNN para classificar imagens dessa base de dados, contendo como camadas:\n",
    "\n",
    "1. convolucional 1 com 32 filtros de tamanho $3\\times 3$, com padding e stride 2 (nas duas direções)\n",
    "2. convolucional 2 com 64 filtros de tamanho $1\\times 3$, com padding e stride $1,2$\n",
    "3. convolucional 3 com 64 filtros de tamanho $3\\times 1$, com padding e stride $2,1$\n",
    "4. convolucional 4 com 128 filtros de tamanho $3\\times 3$, sem padding.\n",
    "5. global average pooling\n",
    "6. classificador softmax\n",
    "\n",
    "Quais os tamanhos das saídas de cada camada?\n",
    "\n",
    "(a) 1=(14,14,32); 2=(14,7,64); 3=(7,7,64); 4=(5,5,128); 5=(128)<br>\n",
    "(a) 1=(28,28,32); 2=(14,7,64); 3=(7,7,64); 4=(5,5,128); 5=(128); 6=(10)<br>\n",
    "(c) 1=(28,28,32); 2=(14,7,64); 3=(7,14,64); 4=(5,5,128); 5=(128); 6=(10) <br>\n",
    "<font color='red'>(d) 1=(14,14,32); 2=(14,7,64); 3=(7,7,64); 4=(5,5,128); 5=(128); 6=(10)<br></font>\n",
    "\n",
    "**Justificativa:** ver código abaixo"
   ]
  },
  {
   "cell_type": "code",
   "execution_count": 2,
   "metadata": {},
   "outputs": [
    {
     "name": "stdout",
     "output_type": "stream",
     "text": [
      "(60000, 28, 28)\n",
      "Classes:  10\n"
     ]
    },
    {
     "data": {
      "image/png": "[encoded data removed]",
      "text/plain": [
       "<Figure size 720x144 with 20 Axes>"
      ]
     },
     "metadata": {
      "needs_background": "light"
     },
     "output_type": "display_data"
    }
   ],
   "source": [
    "import numpy as np\n",
    "import matplotlib.pyplot as plt\n",
    "\n",
    "from tensorflow.keras.datasets import fashion_mnist\n",
    "(x_train, y_train), (x_test, y_test) = fashion_mnist.load_data()\n",
    "\n",
    "fig, axes = plt.subplots(2,10, figsize=(10,2))\n",
    "ax = axes.ravel()\n",
    "for i in range(20):\n",
    "    ax[i].imshow(x_train[i], cmap=\"gray\")\n",
    "    ax[i].axis('off')\n",
    "    \n",
    "img_lin, img_col = x_train.shape[1], x_train.shape[2]\n",
    "num_classes = len(np.unique(y_train))\n",
    "print(x_train.shape)\n",
    "print('Classes: ', num_classes)\n",
    "\n",
    "x_train = x_train.astype('float32') / 255.0\n",
    "x_test = x_test.astype('float32') / 255.0\n",
    "\n",
    "y_train = tf.keras.utils.to_categorical(y_train, num_classes)\n",
    "y_test = tf.keras.utils.to_categorical(y_test, num_classes)\n",
    "\n",
    "# verifica se as imagens da base de dados tem um canal (i.e. em tons de cinza)\n",
    "# ou mais do que um canal e se houver mais do que um canal entao armazena a\n",
    "# quantidade de canais\n",
    "if (len(x_train.shape) == 3):\n",
    "      n_channels = 1\n",
    "else:\n",
    "      n_channels = x_train.shape[3]\n",
    "\n",
    "# re-formatando as imagens de forma que sejam transformadas em \n",
    "# matrizes com canais (por exemplo quando as imagens sao RGB)\n",
    "if keras.backend.image_data_format() == 'channels_first':\n",
    "    x_train = x_train.reshape(x_train.shape[0], n_channels, img_lin, img_col)\n",
    "    x_test = x_test.reshape(x_test.shape[0], n_channels, img_lin, img_col)\n",
    "    input_shape = (n_channels, img_lin, img_col)\n",
    "else:\n",
    "    x_train = x_train.reshape(x_train.shape[0], img_lin, img_col, n_channels)\n",
    "    x_test = x_test.reshape(x_test.shape[0], img_lin, img_col, n_channels)\n",
    "    input_shape = (img_lin, img_col, n_channels)"
   ]
  },
  {
   "cell_type": "code",
   "execution_count": 3,
   "metadata": {},
   "outputs": [
    {
     "name": "stdout",
     "output_type": "stream",
     "text": [
      "Model: \"sequential_1\"\n",
      "_________________________________________________________________\n",
      "Layer (type)                 Output Shape              Param #   \n",
      "=================================================================\n",
      "conv2d (Conv2D)              (None, 14, 14, 32)        320       \n",
      "_________________________________________________________________\n",
      "conv2d_1 (Conv2D)            (None, 14, 7, 64)         6208      \n",
      "_________________________________________________________________\n",
      "conv2d_2 (Conv2D)            (None, 7, 7, 64)          12352     \n",
      "_________________________________________________________________\n",
      "conv2d_3 (Conv2D)            (None, 5, 5, 128)         73856     \n",
      "_________________________________________________________________\n",
      "global_average_pooling2d (Gl (None, 128)               0         \n",
      "_________________________________________________________________\n",
      "dense (Dense)                (None, 10)                1290      \n",
      "=================================================================\n",
      "Total params: 94,026\n",
      "Trainable params: 94,026\n",
      "Non-trainable params: 0\n",
      "_________________________________________________________________\n"
     ]
    }
   ],
   "source": [
    "modelC = keras.Sequential()\n",
    "modelC.add(keras.layers.Conv2D(32, kernel_size=(3,3), strides=(2,2), padding='same', activation='relu', input_shape=(img_lin, img_col,1)))\n",
    "modelC.add(keras.layers.Conv2D(64, kernel_size=(1,3), strides=(1,2), padding='same', activation='relu'))\n",
    "modelC.add(keras.layers.Conv2D(64, kernel_size=(3,1), strides=(2,1),  padding='same', activation='relu'))\n",
    "modelC.add(keras.layers.Conv2D(128, kernel_size=(3,3), padding='valid', activation='relu'))\n",
    "modelC.add(keras.layers.GlobalAveragePooling2D())\n",
    "modelC.add(tf.keras.layers.Dense(10, activation='softmax'))\n",
    "modelC.summary()"
   ]
  },
  {
   "cell_type": "markdown",
   "metadata": {},
   "source": [
    "---\n",
    "\n",
    "### Questão 5)\n",
    "\n",
    "Defina as sementes aleatórias do numpy para 1 e do tensorflow para 2. Depois, utilizando a arquitetura definida no exercício anterior, configure a rede para treinar com a configuração abaixo, salvando o histórico da perda e acurácia para as épocas.\n",
    "* otimizador: SGD\n",
    "* taxa de aprendizado: 0.09\n",
    "* função de custo: `categorical_crossentropy`\n",
    "* métrica: `accuracy`\n",
    "* épocas: 15\n",
    "* batchsize: 64\n",
    "\n",
    "Após o processo de aprendizado, obtenha a acurácia calculada no conjunto de treinamento e no conjunto de testes utilizando a função `evaluate()` e escolha a opção cujo intervalo se enquadre nos valores obtidos.\n",
    "\n",
    "(a) Acurácia Treinamento = (0.92, 0.95),  Acurácia Teste = (0.90, 0.93)<br>\n",
    "(b) Acurácia Treinamento = (0.86, 0.90),  Acurácia Teste = (0.80, 0.83)<br>\n",
    "(c) Acurácia Treinamento = (0.96, 1.00),  Acurácia Teste = (0.83, 0.89)<br>\n",
    "<font color='red'>(d) Acurácia Treinamento = (0.87, 0.92),  Acurácia Teste = (0.84, 0.89)<br></font>\n",
    "\n",
    "**Justificativa:** ver código abaixo"
   ]
  },
  {
   "cell_type": "code",
   "execution_count": 4,
   "metadata": {},
   "outputs": [],
   "source": [
    "from numpy.random import seed\n",
    "seed(1)\n",
    "from tensorflow.random import set_seed\n",
    "set_seed(2)\n",
    "\n",
    "modelC.compile(loss='categorical_crossentropy',\n",
    "              optimizer=tf.keras.optimizers.SGD(lr=0.09),\n",
    "              metrics=['accuracy'])"
   ]
  },
  {
   "cell_type": "code",
   "execution_count": 5,
   "metadata": {
    "scrolled": true
   },
   "outputs": [
    {
     "name": "stdout",
     "output_type": "stream",
     "text": [
      "Epoch 1/15\n",
      "938/938 [==============================] - 24s 26ms/step - loss: 1.0803 - accuracy: 0.5929\n",
      "Epoch 2/15\n",
      "938/938 [==============================] - 31s 33ms/step - loss: 0.6400 - accuracy: 0.7615\n",
      "Epoch 3/15\n",
      "938/938 [==============================] - 36s 39ms/step - loss: 0.5373 - accuracy: 0.8039\n",
      "Epoch 4/15\n",
      "938/938 [==============================] - 36s 38ms/step - loss: 0.4717 - accuracy: 0.8292\n",
      "Epoch 5/15\n",
      "938/938 [==============================] - 38s 41ms/step - loss: 0.4319 - accuracy: 0.8449\n",
      "Epoch 6/15\n",
      "938/938 [==============================] - 37s 40ms/step - loss: 0.4011 - accuracy: 0.8564\n",
      "Epoch 7/15\n",
      "938/938 [==============================] - 50s 54ms/step - loss: 0.3778 - accuracy: 0.8642\n",
      "Epoch 8/15\n",
      "938/938 [==============================] - 64s 69ms/step - loss: 0.3621 - accuracy: 0.8693\n",
      "Epoch 9/15\n",
      "938/938 [==============================] - 49s 52ms/step - loss: 0.3461 - accuracy: 0.8755\n",
      "Epoch 10/15\n",
      "938/938 [==============================] - 46s 49ms/step - loss: 0.3340 - accuracy: 0.8792\n",
      "Epoch 11/15\n",
      "938/938 [==============================] - 54s 58ms/step - loss: 0.3223 - accuracy: 0.8837\n",
      "Epoch 12/15\n",
      "938/938 [==============================] - 49s 52ms/step - loss: 0.3131 - accuracy: 0.8859\n",
      "Epoch 13/15\n",
      "938/938 [==============================] - 55s 59ms/step - loss: 0.3045 - accuracy: 0.88820s - los\n",
      "Epoch 14/15\n",
      "938/938 [==============================] - 54s 58ms/step - loss: 0.2967 - accuracy: 0.8907\n",
      "Epoch 15/15\n",
      "938/938 [==============================] - 59s 63ms/step - loss: 0.2885 - accuracy: 0.8940\n"
     ]
    }
   ],
   "source": [
    "batch_size = 64\n",
    "epochs = 15\n",
    "\n",
    "# a variável history guarda os dados do processo de treinamento para\n",
    "# posteriormente analisarmos\n",
    "history = modelC.fit(x_train, y_train,\n",
    "                    batch_size=batch_size,\n",
    "                    epochs=epochs, verbose=1)"
   ]
  },
  {
   "cell_type": "code",
   "execution_count": 6,
   "metadata": {},
   "outputs": [
    {
     "name": "stdout",
     "output_type": "stream",
     "text": [
      "Acurácia treinamento: 0.8858\n",
      "Acurácia teste: 0.8693\n"
     ]
    }
   ],
   "source": [
    "scoreTr = modelC.evaluate(x_train, y_train, verbose = 0)\n",
    "scoreTe = modelC.evaluate(x_test, y_test, verbose = 0)\n",
    "print(\"Acurácia treinamento: %.4f\" % (scoreTr[1]))\n",
    "print(\"Acurácia teste: %.4f\" % (scoreTe[1]))"
   ]
  }
 ],
 "metadata": {
  "kernelspec": {
   "display_name": "Python 3",
   "language": "python",
   "name": "python3"
  },
  "language_info": {
   "codemirror_mode": {
    "name": "ipython",
    "version": 3
   },
   "file_extension": ".py",
   "mimetype": "text/x-python",
   "name": "python",
   "nbconvert_exporter": "python",
   "pygments_lexer": "ipython3",
   "version": "3.8.5"
  }
 },
 "nbformat": 4,
 "nbformat_minor": 4
}
