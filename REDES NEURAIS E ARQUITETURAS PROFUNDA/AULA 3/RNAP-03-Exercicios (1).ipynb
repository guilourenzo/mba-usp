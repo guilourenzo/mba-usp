{
 "cells": [
  {
   "cell_type": "markdown",
   "metadata": {
    "id": "K8CDQUj8yqpq"
   },
   "source": [
    "## MBA em Ciência de Dados\n",
    "# Redes Neurais e Arquiteturas Profundas\n",
    "\n",
    "### <span style=\"color:darkred\">Módulo III - Arquiteturas de CNNS e treinamento de redes profundas</span>\n",
    "\n",
    "\n",
    "### <span style=\"color:darkred\">Exercícios com soluções</span>\n",
    "\n",
    "Moacir Antonelli Ponti\n",
    "\n",
    "CeMEAI - ICMC/USP São Carlos\n",
    "\n",
    "---\n",
    "\n",
    "#### <span style=\"color:red\">Recomenda-se fortemente que os exercícios sejam feitos sem consultar as respostas antecipadamente.</span>\n",
    "\n",
    "---"
   ]
  },
  {
   "cell_type": "markdown",
   "metadata": {
    "id": "xMJ4IFd7yqpt"
   },
   "source": [
    " ### Exercício 1)\n",
    "\n",
    "Considere 4 funções de custo distintas: 1. entropia cruzada binária, 2. perda quadrática, vistas em aula, e mais duas adicionais:\n",
    "\n",
    "3. Perda 0-1\n",
    "\n",
    "$$\\frac{1}{N} \\sum_{i=1}^N \n",
    "\\left\\{\n",
    "\t\\begin{array}{ll}\n",
    "\t\t0  & \\mbox{if } y_i = \\hat{y}_i \\\\\n",
    "\t\t1 & \\mbox{if } y_i \\neq \\hat{y}_i \n",
    "\t\\end{array}\n",
    "\\right.$$\n",
    "\n",
    "4. Perda SVM/Hinge\n",
    " \n",
    "$$\\frac{1}{N} \\sum_{i=1}^N \\max(0, 1- y^{h}_i\\cdot f(x_i)),$$\n",
    "essa função considera que as classes são -1 e 1, sendo $f(x_i)=\\hat{y}_i^{h}$ um valor de saída considerando valores negativos (os quais gerarão classificação para a classe -1) e positivos (classificação para a classe 1). Portanto será preciso adaptar as classes do problema e a  saída $\\hat{y}^{h}$ para esse cenário da seguinte forma:\n",
    "* $y^{h} \\in \\{-1,1\\}$, e\n",
    "* $\\hat{y}^{h} = 2\\cdot(\\hat{y}-0.5)$,\n",
    "sendo $\\hat{y}$ a probabilidade de uma instância pertencer à classe positiva (1).\n",
    "\n",
    "Considere o exemplo dado em aula, com os pontos unidimensionais conforme o código abaixo.\n",
    "\n",
    "A seguir, treine um classificador de Regressão Logística com solver `lbfgs` e compute as quatro perdas nesse conjunto de dados após o treinamento. Note que as perdas 1,2 e 4 são calculadas com base nas probabilidades, enquanto que 3 é calculada com base na classificação.\n",
    "\n",
    "Imprima as perdas por instância para inspeção e logo após a perda média no conjunto de treinamento. Qual a ordem de magnitude das perdas, da menor para a maior?\n",
    "\n",
    "(a) Hinge, Quadrática, Entropia Cruzada, 0-1<br>\n",
    "(b) Quadrática, Entropia Cruzada, Hinge e 0-1<br>\n",
    "(c) 0-1, Quadrática, Entropia Cruzada, Hinge<br>\n",
    "(d) Quadrática, 0-1, Entropia Cruzada, Hinge</font><br>"
   ]
  },
  {
   "cell_type": "code",
   "execution_count": 1,
   "metadata": {
    "colab": {
     "base_uri": "https://localhost:8080/",
     "height": 284
    },
    "id": "6uamxcISyqpv",
    "outputId": "0bcb9cab-624c-41d0-fe3f-a908efb7c1a4"
   },
   "outputs": [
    {
     "data": {
      "text/plain": [
       "<matplotlib.collections.PathCollection at 0x7f4c366cb1f0>"
      ]
     },
     "execution_count": 1,
     "metadata": {},
     "output_type": "execute_result"
    },
    {
     "data": {
      "image/png": "[encoded data removed]",
      "text/plain": [
       "<Figure size 432x288 with 1 Axes>"
      ]
     },
     "metadata": {
      "needs_background": "light"
     },
     "output_type": "display_data"
    }
   ],
   "source": [
    "import numpy as np\n",
    "import matplotlib.pyplot as plt\n",
    "\n",
    "x = np.array([-1.8,-1.5,-0.8,-0.4,-0.2, 0.0, 0.1, 0.5, 1.0, 1.3])\n",
    "y = np.array([ 0.0, 0.0, 0.0, 1.0, 0.0, 1.0, 0.0,  1.0, 1.0, 1.0])\n",
    "yh = np.array([ -1.0, -1.0, -1.0, 1.0, -1.0, 1.0, -1.0, 1.0, 1.0, 1.0])\n",
    "\n",
    "plt.scatter(x,np.zeros(10), c=y,cmap=plt.cm.coolwarm)"
   ]
  },
  {
   "cell_type": "code",
   "execution_count": 1,
   "metadata": {
    "colab": {
     "base_uri": "https://localhost:8080/",
     "height": 94
    },
    "id": "PWg5eHSXyqp7",
    "outputId": "192b7a47-1c1c-463c-d97d-0e399247201d"
   },
   "outputs": [],
   "source": [
    "from sklearn.linear_model import LogisticRegression\n"
   ]
  },
  {
   "cell_type": "code",
   "execution_count": null,
   "metadata": {
    "colab": {
     "base_uri": "https://localhost:8080/",
     "height": 209
    },
    "id": "k2jBVOEzyqqD",
    "outputId": "d6aaba3c-4699-4e98-a56f-3a382eae01d2"
   },
   "outputs": [],
   "source": []
  },
  {
   "cell_type": "markdown",
   "metadata": {
    "id": "038CuS5syqqL"
   },
   "source": [
    "---\n",
    "\n",
    "### Exercício 2)\n",
    "\n",
    "Considere as funções de custo vistas em aula e estudadas no exercício anterior: Perda Quadrática (MSE), Erro Absoluto (MAE), Perda 0-1, Perda Hinge/SVM, Entropia Cruzada. Como escolher uma função para realizar o treinamento de uma rede neural?\n",
    "\n",
    "(a) Na dúvida escolher sempre a entropia cruzada, pois é a mais popular e considerada um padrão na literatura da área de redes neurais<br>\n",
    "(b) Desde que a função permita medir o erro do modelo atual, permite por consequência também medir o custo de escolher os parâmetros atuais, então qualquer função pode ser utilizada sem restrições<br>\n",
    "(c) Considerar o problema em questão: classificação binária, multiclasse, regressão, etc e entender a magnitude dos valores das funções com base no problema e sua capacidade de guiar o modelo no processo de convergência<br>\n",
    "(d) Em geral, a entropia cruzada deve ser utilizada para problemas de classificação, e a perda quadrática para problemas de regressão, não sendo necessário investigar outras funções de custo pois são mais relevantes outros parâmetros como a taxa de aprendizado e o tamanho do batch<br>\n"
   ]
  },
  {
   "cell_type": "markdown",
   "metadata": {
    "id": "nJQ0-S3myqqL"
   },
   "source": [
    "---\n",
    "### Exercício 3)\n",
    "\n",
    "Considerando as funções de perda: entropia cruzada categórica e perda quadrática, qual é o valor das perdas para um exemplo arbitrário no momento da inicialização aleatória de um modelo numa tarefa de classificação de 5 classes?\n",
    "\n",
    " (a) Entropia Cruzada = 1.6; Quadrática = 0.8<br>\n",
    " (b) Entropia Cruzada = 2.3; Quadrática = 0.8<br>\n",
    " (c) Entropia Cruzada = 1.6; Quadrática = 0.16<br>\n",
    " (d) Entropia Cruzada = 0.32; Quadrática = 0.8<br>"
   ]
  },
  {
   "cell_type": "code",
   "execution_count": null,
   "metadata": {
    "colab": {
     "base_uri": "https://localhost:8080/",
     "height": 55
    },
    "id": "JmVBm5CByqqM",
    "outputId": "5d912e29-5f38-4038-f886-8b7b1ceee008"
   },
   "outputs": [],
   "source": []
  },
  {
   "cell_type": "markdown",
   "metadata": {
    "id": "6exl-MrVyqqT"
   },
   "source": [
    "---\n",
    "### Exercício 4)\n",
    "\n",
    "Sobre os métodos de otimização, o que podemos dizer quando comparamos SGD e Adam?\n",
    "\n",
    " (a) Ambos realizam atualização iterativa dos parâmetros usando o gradiente, mas o Adam incorpora mecanismos baseados em gradientes anteriores, e o segundo momento do gradiente como ponderação da taxa de aprendizado<br>\n",
    " (a) O SGD é equivalente ao Adam quando aplicado Momentum no algoritmo SGD base<br>\n",
    " (c) Ambos realizam atualização iterativa dos parâmetros usando o gradiente, mas apenas SGD permite decaimento da taxa de aprendizado <br>\n",
    " (d) O Adam é um algoritmo de otimização que obtém sempre melhores resultados do que o SGD e suas variações<br>\n",
    " "
   ]
  },
  {
   "cell_type": "markdown",
   "metadata": {
    "id": "Yfnm0YgLyqqU"
   },
   "source": [
    "---\n",
    "\n",
    "### Exercício 5)\n",
    "\n",
    "Dentre as alternativas, escolha a prática válida mais relevante ao projetar o treinamento de redes profundas\n",
    "\n",
    "(a) Inicializar todos os pesos com valores aleatórios e utilizar o maior número de instâncias possíveis no treinamento, garantindo que os hiperparâmetros com valor padrão obterão bons resultados<br>\n",
    "(b) Utilizar sempre a função de custo entropia cruzada, para a qual é recomendado o uso do otimizador Adam e taxa de aprendizado com decaimento. Definir a melhor taxa de decaimento de forma a minimizar a diferença entre o custo de treinamento e validação<br>\n",
    "(c) Utilizar conjunto pequeno de instâncias para busca grosseira de hiperparâmetros como: otimizador, taxa de aprendizado, momentum e tamanho de batch, e depois refinar a busca num conjunto maior com base em métricas obtidas nos conjuntos de validação e treinamento<br>\n",
    "(d) Rezar para Yan LeCun, Yoshua Bengio, Geoffrey Hinton e Kunihiko Fukushima.\n"
   ]
  },
  {
   "cell_type": "markdown",
   "metadata": {
    "id": "J6VfUMk8yqqW"
   },
   "source": [
    "---\n",
    "\n",
    "### Exercício 6)\n",
    "\n",
    "Qual a principal diferença das arquiteturas VGGNet, Inception e Residual Network com relação à suas camadas convolucionais?\n",
    "\n",
    "(a) A VGGNet possui camadas convolucionais com filtros de mesmo tamanho $3\\times3$, enquanto as outras arquiteturas, Inception e ResNet aplicam filtros $5\\times5$ ou com concatenação de mapas de ativação ao longo da rede<br>\n",
    "(b) A rede Inception permite treinamento com maior número de camadas quanto comparada à VGGNet, que por sua vez permite treinamento com maior número de camadas quanto comparada à ResNet <br>\n",
    "(c) A VGGNet possui camadas convolucionais sequenciais, eventualmente seguidas de MaxPooling, enquanto a ResNet computa mapas de ativação de com diferentes filtros, concatenando-os, e a Inception possui um módulo do tipo banco de filtros, que permite saltar para camadas futuras, facilitando o treinamento com mais camadas<br>\n",
    "(d) A VGGNet possui camadas convolucionais sequenciais, enquanto Inception possui camadas convolucionais paralelas, e ResNet tem mapas de ativação que desviam da lógica sequencial e pulam camadas<br>"
   ]
  },
  {
   "cell_type": "markdown",
   "metadata": {
    "id": "C1sh5GgYyqqY"
   },
   "source": [
    "---\n",
    "\n",
    "### Exercício 7)\n",
    "\n",
    "Utilizando a biblioteca Keras, investige o impacto do uso de parâmetros padrão de learning rate na base de dados Boston Housing, com relação ao uso de decaimento de learning rate, a partir de um valor estabelecido.\n",
    "\n",
    "Carregue a base de dados e normalize os atributos com z-score. Crie uma rede com camadas densas: 16, 8 e 1 (de saída), todas com ativação `relu`.\n",
    "\n",
    "Treine por 50 épocas 2 redes neurais com a função de custo `mse`, medindo também a `mae`\n",
    "\n",
    "A. Com otimizador Adam e todos os outros parâmetros no valor padrão\n",
    "B. Com otimizador Adam, iniciando com learning rate 0.02 e decaimento exponencial de 0.05 a partir da época 10\n",
    "\n",
    "Antes de projetar, compilar e treinar cada rede, defina as sementes do numpy para 1 e do tensorflow para 2.\n",
    "\n",
    "Use os dados de teste como \"validação\" durante o treinamento.\n",
    "\n",
    "Considerando os valores de erro (MSE e MAE) na última época de ambos A e B, e considerando ainda generalização como a divergência entre os erros de treinamento e validação, podemos dizer que:\n",
    "\n",
    "(a) B obteve menores valores de erro (MSE e MAE) do que A, mas em termos de generalização (entre treinamento e validação) ambos tiveram comportamento similar, com pequena vantagem para B<br>\n",
    "(b) B obteve menores valores de erro (MSE e MAE) do que A, porém A obteve melhor generalização dos erros (entre treinamento e validação).<br>\n",
    "(c) B obteve valores de MSE significativamente menores do que A, mas A generalizou melhor com relação ao MAE, indicando que A pdoeria ser treinado por mais épocas.<br>\n",
    "(d) B obteve MSE de validação próximo a 7, A obteve 21 na mesma métrica, indicando que A não convergiu e apenas B generalizou<br>\n"
   ]
  },
  {
   "cell_type": "code",
   "execution_count": 3,
   "metadata": {
    "id": "K5Owfr6GyqqY"
   },
   "outputs": [],
   "source": [
    "import numpy as np\n",
    "import matplotlib.pyplot as plt\n",
    "import tensorflow as tf\n",
    "from tensorflow import keras\n",
    "from tensorflow.keras.datasets import boston_housing\n",
    "from numpy.random import seed\n",
    "from tensorflow.random import set_seed\n",
    "\n",
    "(x_train, y_train), (x_test, y_test) = boston_housing.load_data()\n",
    "\n",
    "mean = x_train.mean(axis=0)\n",
    "x_train -= mean\n",
    "std = x_train.std(axis=0)\n",
    "x_train /= std\n",
    "\n",
    "x_test -= mean\n",
    "x_test /= std"
   ]
  },
  {
   "cell_type": "code",
   "execution_count": 4,
   "metadata": {
    "colab": {
     "base_uri": "https://localhost:8080/",
     "height": 286
    },
    "id": "rU1SMr5Nyqqe",
    "outputId": "89530a6f-57c9-4c44-afe2-2484246bc49a"
   },
   "outputs": [],
   "source": [
    "seed(1)\n",
    "set_seed(2)\n",
    "\n"
   ]
  },
  {
   "cell_type": "code",
   "execution_count": null,
   "metadata": {
    "colab": {
     "base_uri": "https://localhost:8080/",
     "height": 1000
    },
    "id": "3H42tssayqqp",
    "outputId": "cde8dca1-4ffa-43ad-a69b-7e93b563a602"
   },
   "outputs": [],
   "source": []
  },
  {
   "cell_type": "code",
   "execution_count": 5,
   "metadata": {
    "colab": {
     "base_uri": "https://localhost:8080/",
     "height": 286
    },
    "id": "XR4B-d4Nyqqt",
    "outputId": "3d376c26-f27e-43fe-a554-097ae4f3bb8e"
   },
   "outputs": [],
   "source": [
    "seed(1)\n",
    "set_seed(2)\n"
   ]
  },
  {
   "cell_type": "code",
   "execution_count": null,
   "metadata": {
    "colab": {
     "base_uri": "https://localhost:8080/",
     "height": 1000
    },
    "id": "HUrW9Q8Dyqqz",
    "outputId": "66e51e8c-f9bf-4449-fcd2-75cfe59826ce",
    "scrolled": false
   },
   "outputs": [],
   "source": []
  },
  {
   "cell_type": "markdown",
   "metadata": {
    "id": "J_F2ODAmyqq4"
   },
   "source": [
    "---\n",
    "\n",
    "### Exercício 8)\n",
    "\n",
    "\n",
    "Utilizando ainda a biblioteca Keras, investige o impacto do uso de parâmetros padrão de batchsize na base de dados Boston Housing, agora utilizando a mesma arquitetura da atividade anterior, com otimizador Adam, iniciando com learning rate 0.02 e decaimento exponencial de 0.1 a partir da época 6.\n",
    "\n",
    "Investige valores de batch = 2, 4, 8, 16, 32, 64, 128 e 256 executando por um número de épocas proporcional ao tamanho do batch atual, calculado por:\n",
    "$epocas = \\lfloor \\log_2(512 \\cdot batchsize) \\rfloor$, valor deve ser convertido para inteiro. Esse número de épocas proporcional permite equilibrar um pouco a relação entre velocidade e quantidade de vezes que os parâmetros são adaptados.\n",
    "\n",
    "Antes de projetar, compilar e treinar cada rede, defina as sementes do numpy para 1 e do tensorflow para 2.\n",
    "\n",
    "Não passe dados de validação durante o treinamento. Após o treinamento, avalie MSE nos dados de teste e imprima para comparar os valores para diferentes batchsizes.\n",
    "\n",
    "Quais foram os dois piores e os dois melhores valores de tamanho de batch em termos do MSE de teste?\n",
    "\n",
    "(a) Piores: 128 e 256; Melhores: 4 e 16<br>\n",
    "(b) Piores: 16 e 64; Melhores: 32 e 128<br>\n",
    "(c) Piores: 2 e 4; Melhores: 32 e 64<br>\n",
    "(d) Piores: 4 e 256; Melhores: 2 e 128<br>"
   ]
  },
  {
   "cell_type": "code",
   "execution_count": null,
   "metadata": {
    "id": "-29F6a8kyqq5"
   },
   "outputs": [],
   "source": []
  },
  {
   "cell_type": "code",
   "execution_count": null,
   "metadata": {
    "id": "mOGqhWieyqq_"
   },
   "outputs": [],
   "source": []
  },
  {
   "cell_type": "markdown",
   "metadata": {
    "id": "Q3zlC0i0yqrX"
   },
   "source": [
    "---\n",
    "\n",
    "### Exercício 9)\n",
    "\n",
    "O que podemos concluir dos dois exercícios anteriores (7 e 8)?\n",
    "\n",
    "(a) Os valores padrão para os hiperparâmetros geram bons resultados. A busca por outros parâmetros pode não valer a pena pois a diferença alcançada observada é pequena.<br>\n",
    "(b) Devemos sempre utilizar Adam com decaimento de taxa de aprendizado e batch size de tamanho entre 8 e 64, sendo que o uso do padrão (32) é normalmente suficiente.<br>\n",
    "(c) Batchs de tamanho muito grande são prejudiciais ao treinamento, e o otimizador Adam é sempre melhor com decaimento de taxa de aprendizado.<br>\n",
    "(d) O uso de hiperparâmetros com valores padrão pode gerar resultados subótimos, sendo importante uma busca de parâmetros para melhor otimizar modelos<br>"
   ]
  },
  {
   "cell_type": "markdown",
   "metadata": {
    "id": "9OLlz13JyqrX"
   },
   "source": [
    "---\n",
    "\n",
    "### Exercício 10)\n",
    "\n",
    "Carregue a base de dados Fashion MNIST\n",
    "\n",
    "Crie duas redes neurais utilizando os blocos Residuais e módulos Inception conforme visto em aula.\n",
    "\n",
    "* InceptionNet\n",
    "    * Módulo Inception V1 com número de filtros: 32, 32, 32, 32, 32, 16\n",
    "    * Maxpooling com pool=2, stride=2\n",
    "    * Módulo Inception V1 com número de filtros: 32, 64, 64, 64, 64, 16\n",
    "    * Maxpooling com pool=2, stride=2\n",
    "* ResNet\n",
    "    * 3 blocos residuais com 64 filtros, cada um seguido por camada Maxpooling com pool=2, stride=2\n",
    "\n",
    "Ambos devem possuir uma camada `GlobalAveragePooling2D` antes da camada de predição.\n",
    "\n",
    "Treine ambas com SGD, learning rate 0.05 e momentum 0.8, utilizando batchsize 64, e apenas as 800 primeiras imagens do dataset de treinamento (use :800), por 100 épocas.\n",
    "\n",
    "Ao final compute a perda e a acurácia no treinamento (800 imagens) e teste (todas as imagens do teste), e exiba o gráfico da perda ao longo das épocas para as duas arquiteturas.\n",
    "\n",
    "Marque a alternativa que melhor se encaixa no resultado observado e sua conclusão.\n",
    "\n",
    "(a) A ResNet conseguiu ajustar perfeitamente aos dados de treinamento, mas com perda mais alta calculada no teste, indicando overfitting, enquanto a Inception tem espaço para melhorias<br>\n",
    "(b) As duas arquiteturas obtiveram boa generalização, mas a Inception possui claras vantagens frente à ResNet, com maior acurácia no teste<br>\n",
    "(c) A Inception teve melhor generalização mas não convergiu para perda próxima a zero com 100 épocas, portanto a taxa de aprendizado escolhida poderia ser reduzida para obter resultados melhores, enquanto a ResNet poderia ser treinada por mais épocas para melhorar a acurácia no teste.<br>\n",
    "(d) Os resultados de acurácia e perda no teste da ResNet são muito diferentes daqueles obtidos no treinamento, indicando underfitting, ou seja, uma incapacidade do modelo de se ajustar aos dados utilizados no processo de aprendizado<br>\n"
   ]
  },
  {
   "cell_type": "code",
   "execution_count": 14,
   "metadata": {
    "colab": {
     "base_uri": "https://localhost:8080/",
     "height": 55
    },
    "id": "RVYNMoriyqrZ",
    "outputId": "b866fc9c-2d4e-425b-e849-29222f900bdd"
   },
   "outputs": [
    {
     "name": "stdout",
     "output_type": "stream",
     "text": [
      "(60000, 28, 28)\n",
      "Shape:  (28, 28, 1)\n"
     ]
    }
   ],
   "source": [
    "# carregando datasets do keras\n",
    "#from tensorflow.keras.datasets import mnist\n",
    "\n",
    "from tensorflow.keras.datasets import fashion_mnist\n",
    "(x_train, y_train), (x_test, y_test) = fashion_mnist.load_data()\n",
    "\n",
    "# obtendo informações das imagens (resolucao) e dos rótulos (número de classes)\n",
    "img_lin, img_col = x_train.shape[1], x_train.shape[2]\n",
    "num_classes = len(np.unique(y_train))\n",
    "\n",
    "print(x_train.shape)\n",
    "\n",
    "# dividir por 255 para obter normalizacao\n",
    "x_train = x_train.astype('float32') / 255.0\n",
    "x_test = x_test.astype('float32') / 255.0\n",
    "\n",
    "# transformar categorias em one-hot-encoding\n",
    "y_train = keras.utils.to_categorical(y_train, num_classes)\n",
    "y_test = keras.utils.to_categorical(y_test, num_classes)\n",
    "\n",
    "# verifica imagens da base de dados tem 3 canais (RGB) ou apenas 1 (escala de cinza)\n",
    "if (len(x_train.shape) == 3):\n",
    "      n_channels = 1\n",
    "else:\n",
    "      n_channels = x_train.shape[3]\n",
    "\n",
    "# re-formata o array de forma a encontrar o formato da entrada (input_shape)\n",
    "# se a dimensão dos canais vem primeiro ou após a imagem\n",
    "if keras.backend.image_data_format() == 'channels_first':\n",
    "    x_train = x_train.reshape(x_train.shape[0], n_channels, img_lin, img_col)\n",
    "    x_test = x_test.reshape(x_test.shape[0], n_channels, img_lin, img_col)\n",
    "    input_shape = (n_channels, img_lin, img_col)\n",
    "else:\n",
    "    x_train = x_train.reshape(x_train.shape[0], img_lin, img_col, n_channels)\n",
    "    x_test = x_test.reshape(x_test.shape[0], img_lin, img_col, n_channels)\n",
    "    input_shape = (img_lin, img_col, n_channels)\n",
    "\n",
    "print(\"Shape: \", input_shape)"
   ]
  },
  {
   "cell_type": "code",
   "execution_count": null,
   "metadata": {
    "colab": {
     "base_uri": "https://localhost:8080/",
     "height": 1000
    },
    "id": "ZJ3ZeShByqrd",
    "outputId": "df1e6005-26e5-4c85-87b2-53d45dfc8354"
   },
   "outputs": [],
   "source": []
  },
  {
   "cell_type": "code",
   "execution_count": null,
   "metadata": {
    "id": "SZr1QQF2XYEJ"
   },
   "outputs": [],
   "source": []
  }
 ],
 "metadata": {
  "accelerator": "GPU",
  "colab": {
   "collapsed_sections": [],
   "name": "RNAP-03-Exercicios_solucoes.ipynb",
   "provenance": []
  },
  "kernelspec": {
   "display_name": "Python 3",
   "language": "python",
   "name": "python3"
  },
  "language_info": {
   "codemirror_mode": {
    "name": "ipython",
    "version": 3
   },
   "file_extension": ".py",
   "mimetype": "text/x-python",
   "name": "python",
   "nbconvert_exporter": "python",
   "pygments_lexer": "ipython3",
   "version": "3.8.5"
  }
 },
 "nbformat": 4,
 "nbformat_minor": 1
}
