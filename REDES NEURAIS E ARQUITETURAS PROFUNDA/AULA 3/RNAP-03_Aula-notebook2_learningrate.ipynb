{
 "cells": [
  {
   "cell_type": "markdown",
   "metadata": {
    "id": "zI6LDVYrkk3t"
   },
   "source": [
    "### Redes Neurais e Arquiteturas Profundas\n",
    "#### **MBA em Ciências de Dados**\n",
    "\n",
    "\n",
    "### *Módulo 3 - Arquiteturas de CNNS e treinamento de redes profundas*\n",
    "\n",
    "**Parte 2 - Taxa de aprendizado**\n",
    "\n",
    "Moacir A. Ponti - ICMC/USP\n",
    "\n",
    "-\n",
    "\n",
    "Biblioteca utilizada - Keras com Tensorflow"
   ]
  },
  {
   "cell_type": "code",
   "execution_count": 1,
   "metadata": {
    "id": "55mHEidxkOa8"
   },
   "outputs": [],
   "source": [
    "import numpy as np\n",
    "import pandas as pd\n",
    "import matplotlib.pyplot as plt\n",
    "import tensorflow as tf\n",
    "from tensorflow import keras"
   ]
  },
  {
   "cell_type": "code",
   "execution_count": 2,
   "metadata": {
    "colab": {
     "base_uri": "https://localhost:8080/",
     "height": 191
    },
    "id": "PlwTeH9OHh__",
    "outputId": "f644f427-1662-43d5-d133-6a97c0e8e455"
   },
   "outputs": [
    {
     "name": "stdout",
     "output_type": "stream",
     "text": [
      "Downloading data from https://storage.googleapis.com/tensorflow/tf-keras-datasets/train-labels-idx1-ubyte.gz\n",
      "32768/29515 [=================================] - 0s 0us/step\n",
      "Downloading data from https://storage.googleapis.com/tensorflow/tf-keras-datasets/train-images-idx3-ubyte.gz\n",
      "26427392/26421880 [==============================] - 0s 0us/step\n",
      "Downloading data from https://storage.googleapis.com/tensorflow/tf-keras-datasets/t10k-labels-idx1-ubyte.gz\n",
      "8192/5148 [===============================================] - 0s 0us/step\n",
      "Downloading data from https://storage.googleapis.com/tensorflow/tf-keras-datasets/t10k-images-idx3-ubyte.gz\n",
      "4423680/4422102 [==============================] - 0s 0us/step\n"
     ]
    }
   ],
   "source": [
    "# carregando datasets do keras\n",
    "#from tensorflow.keras.datasets import mnist\n",
    "\n",
    "from tensorflow.keras.datasets import fashion_mnist\n",
    "(x_train, y_train), (x_test, y_test) = fashion_mnist.load_data()"
   ]
  },
  {
   "cell_type": "code",
   "execution_count": 3,
   "metadata": {
    "colab": {
     "base_uri": "https://localhost:8080/",
     "height": 55
    },
    "id": "l6gMd_77ooBf",
    "outputId": "b3785163-a21d-4da9-b701-23b9cad12459"
   },
   "outputs": [
    {
     "name": "stdout",
     "output_type": "stream",
     "text": [
      "(60000, 28, 28)\n",
      "Classes:  10\n"
     ]
    }
   ],
   "source": [
    "# obtendo informações das imagens (resolucao) e dos rótulos (número de classes)\n",
    "img_lin, img_col = x_train.shape[1], x_train.shape[2]\n",
    "num_classes = len(np.unique(y_train))\n",
    "print(x_train.shape)\n",
    "print('Classes: ', num_classes)"
   ]
  },
  {
   "cell_type": "markdown",
   "metadata": {
    "id": "odVxTvCzJScK"
   },
   "source": [
    "Temos portando 60 mil exemplos de treinamento\n",
    "\n",
    "Imagens de tamanho $28\\times 28$ e 10 classes.\n",
    "\n",
    "Agora, o passo ideal é pré-processar as imagens para facilitar o processo de otimização das redes neurais:\n",
    "\n",
    "1. Normalizar seus valores (para o intervalo 0-1)\n",
    "2. Alterar a codificação das classes (para one-hot-encoding): teremos 10 neurônios na saída, não apenas 1"
   ]
  },
  {
   "cell_type": "code",
   "execution_count": 4,
   "metadata": {
    "colab": {
     "base_uri": "https://localhost:8080/",
     "height": 55
    },
    "id": "hBK8g6Xf29dI",
    "outputId": "f9cc6971-9919-4197-f43d-695075f60fb7"
   },
   "outputs": [
    {
     "name": "stdout",
     "output_type": "stream",
     "text": [
      "Antes da transformação:  9\n",
      "Após transformação:  [0. 0. 0. 0. 0. 0. 0. 0. 0. 1.]\n"
     ]
    }
   ],
   "source": [
    "# dividir por 255 para obter normalizacao\n",
    "x_train = x_train.astype('float32') / 255.0\n",
    "x_test = x_test.astype('float32') / 255.0\n",
    "\n",
    "print(\"Antes da transformação: \", y_train[0])\n",
    "# transformar categorias em one-hot-encoding\n",
    "y_train = keras.utils.to_categorical(y_train, num_classes)\n",
    "y_test = keras.utils.to_categorical(y_test, num_classes)\n",
    "\n",
    "print(\"Após transformação: \", y_train[0])"
   ]
  },
  {
   "cell_type": "markdown",
   "metadata": {
    "id": "jOnOa3KhoyPM"
   },
   "source": [
    "Por fim, vamos padronizar o formato de entrada em termos das dimensões (shape) do numpy array de entrada.\n",
    "\n",
    "Isso vai permitir que o mesmo código utilize diferentes bases de dados, com um ou mais canais de cor"
   ]
  },
  {
   "cell_type": "code",
   "execution_count": 5,
   "metadata": {
    "colab": {
     "base_uri": "https://localhost:8080/",
     "height": 36
    },
    "id": "cOdIcO_Bmc0o",
    "outputId": "14edf2fc-8234-41f0-b58c-5241243a7db5"
   },
   "outputs": [
    {
     "name": "stdout",
     "output_type": "stream",
     "text": [
      "Shape:  (28, 28, 1)\n"
     ]
    }
   ],
   "source": [
    "# verifica imagens da base de dados tem 3 canais (RGB) ou apenas 1 (escala de cinza)\n",
    "if (len(x_train.shape) == 3):\n",
    "      n_channels = 1\n",
    "else:\n",
    "      n_channels = x_train.shape[3]\n",
    "\n",
    "# re-formata o array de forma a encontrar o formato da entrada (input_shape)\n",
    "# se a dimensão dos canais vem primeiro ou após a imagem\n",
    "if keras.backend.image_data_format() == 'channels_first':\n",
    "    x_train = x_train.reshape(x_train.shape[0], n_channels, img_lin, img_col)\n",
    "    x_test = x_test.reshape(x_test.shape[0], n_channels, img_lin, img_col)\n",
    "    input_shape = (n_channels, img_lin, img_col)\n",
    "else:\n",
    "    x_train = x_train.reshape(x_train.shape[0], img_lin, img_col, n_channels)\n",
    "    x_test = x_test.reshape(x_test.shape[0], img_lin, img_col, n_channels)\n",
    "    input_shape = (img_lin, img_col, n_channels)\n",
    "\n",
    "print(\"Shape: \", input_shape)"
   ]
  },
  {
   "cell_type": "markdown",
   "metadata": {
    "id": "tqfg5g1Ro2sY"
   },
   "source": [
    "### Tudo pronto, agora vamos começar\n"
   ]
  },
  {
   "cell_type": "code",
   "execution_count": 6,
   "metadata": {
    "id": "y4hErsLaa2bo"
   },
   "outputs": [],
   "source": [
    "def my_cnn():\n",
    "  CNN = keras.Sequential()\n",
    "  CNN.add(keras.layers.Conv2D(32, kernel_size=(3,3), strides=(1,1), padding='valid', activation='relu', input_shape=input_shape))\n",
    "  CNN.add(keras.layers.MaxPooling2D(pool_size=(2,2), strides=(2,2)))\n",
    "  CNN.add(keras.layers.Conv2D(64, kernel_size=(3,3), strides=(2,2), padding='valid', activation='relu'))\n",
    "  CNN.add(keras.layers.Conv2D(128, kernel_size=(3,3), strides=(2,2), padding='valid', activation='relu'))\n",
    "  CNN.add(keras.layers.Conv2D(128, kernel_size=(3,3), strides=(3,3), padding='same', activation='relu'))\n",
    "  CNN.add(keras.layers.Flatten())\n",
    "  CNN.add(keras.layers.Dense(10, activation='softmax'))\n",
    "  return CNN"
   ]
  },
  {
   "cell_type": "markdown",
   "metadata": {
    "id": "SGkW0mbxZGnR"
   },
   "source": [
    "Definindo sementes e um subconjunto menor para testarmos\n"
   ]
  },
  {
   "cell_type": "code",
   "execution_count": 7,
   "metadata": {
    "id": "MvusEAx0oZbw"
   },
   "outputs": [],
   "source": [
    "# as sementes ajudam a ter resultados reproduzíveis\n",
    "from numpy.random import seed\n",
    "seed(1)\n",
    "from tensorflow.random import set_seed\n",
    "set_seed(2)\n",
    "\n",
    "epochs = 20\n",
    "batch_size=32\n",
    "x_subset = x_train[:5000]\n",
    "y_subset = y_train[:5000]"
   ]
  },
  {
   "cell_type": "markdown",
   "metadata": {
    "id": "W7VOgujapRcS"
   },
   "source": [
    "### 1) Modelo convencional com parâmetros padrão (learning rate fixo)"
   ]
  },
  {
   "cell_type": "code",
   "execution_count": 8,
   "metadata": {
    "id": "mSiGp2usZEYG"
   },
   "outputs": [],
   "source": [
    "CNN1 = my_cnn()\n",
    "CNN1.compile(loss='categorical_crossentropy',\n",
    "              optimizer=keras.optimizers.SGD(lr=0.01),\n",
    "              metrics=['accuracy'])"
   ]
  },
  {
   "cell_type": "code",
   "execution_count": 9,
   "metadata": {
    "colab": {
     "base_uri": "https://localhost:8080/",
     "height": 806
    },
    "id": "XUvnDFab31Af",
    "outputId": "dc6d6cc9-2775-4016-dbc0-d6ff24c865f2"
   },
   "outputs": [
    {
     "name": "stdout",
     "output_type": "stream",
     "text": [
      "Epoch 1/20\n",
      "157/157 [==============================] - 1s 8ms/step - loss: 2.2673 - accuracy: 0.2124 - val_loss: 2.2188 - val_accuracy: 0.2757\n",
      "Epoch 2/20\n",
      "157/157 [==============================] - 1s 7ms/step - loss: 1.9563 - accuracy: 0.3732 - val_loss: 1.5025 - val_accuracy: 0.4234\n",
      "Epoch 3/20\n",
      "157/157 [==============================] - 1s 7ms/step - loss: 1.1498 - accuracy: 0.5798 - val_loss: 1.0755 - val_accuracy: 0.5873\n",
      "Epoch 4/20\n",
      "157/157 [==============================] - 1s 7ms/step - loss: 0.9447 - accuracy: 0.6600 - val_loss: 0.9801 - val_accuracy: 0.6525\n",
      "Epoch 5/20\n",
      "157/157 [==============================] - 1s 7ms/step - loss: 0.8517 - accuracy: 0.6926 - val_loss: 1.3846 - val_accuracy: 0.6078\n",
      "Epoch 6/20\n",
      "157/157 [==============================] - 1s 7ms/step - loss: 0.7953 - accuracy: 0.7146 - val_loss: 0.8184 - val_accuracy: 0.7033\n",
      "Epoch 7/20\n",
      "157/157 [==============================] - 1s 7ms/step - loss: 0.7473 - accuracy: 0.7298 - val_loss: 0.7716 - val_accuracy: 0.7070\n",
      "Epoch 8/20\n",
      "157/157 [==============================] - 1s 7ms/step - loss: 0.7171 - accuracy: 0.7398 - val_loss: 0.8422 - val_accuracy: 0.6614\n",
      "Epoch 9/20\n",
      "157/157 [==============================] - 1s 7ms/step - loss: 0.6891 - accuracy: 0.7512 - val_loss: 0.7810 - val_accuracy: 0.7211\n",
      "Epoch 10/20\n",
      "157/157 [==============================] - 1s 7ms/step - loss: 0.6662 - accuracy: 0.7566 - val_loss: 0.7197 - val_accuracy: 0.7437\n",
      "Epoch 11/20\n",
      "157/157 [==============================] - 1s 7ms/step - loss: 0.6450 - accuracy: 0.7686 - val_loss: 0.7056 - val_accuracy: 0.7154\n",
      "Epoch 12/20\n",
      "157/157 [==============================] - 1s 7ms/step - loss: 0.6368 - accuracy: 0.7650 - val_loss: 0.7243 - val_accuracy: 0.7284\n",
      "Epoch 13/20\n",
      "157/157 [==============================] - 1s 7ms/step - loss: 0.6233 - accuracy: 0.7708 - val_loss: 0.8003 - val_accuracy: 0.7020\n",
      "Epoch 14/20\n",
      "157/157 [==============================] - 1s 7ms/step - loss: 0.6050 - accuracy: 0.7756 - val_loss: 0.7332 - val_accuracy: 0.7022\n",
      "Epoch 15/20\n",
      "157/157 [==============================] - 1s 7ms/step - loss: 0.5914 - accuracy: 0.7824 - val_loss: 0.7235 - val_accuracy: 0.7083\n",
      "Epoch 16/20\n",
      "157/157 [==============================] - 1s 7ms/step - loss: 0.5850 - accuracy: 0.7872 - val_loss: 0.6625 - val_accuracy: 0.7539\n",
      "Epoch 17/20\n",
      "157/157 [==============================] - 1s 7ms/step - loss: 0.5710 - accuracy: 0.7942 - val_loss: 0.6545 - val_accuracy: 0.7447\n",
      "Epoch 18/20\n",
      "157/157 [==============================] - 1s 7ms/step - loss: 0.5513 - accuracy: 0.8024 - val_loss: 0.6737 - val_accuracy: 0.7542\n",
      "Epoch 19/20\n",
      "157/157 [==============================] - 1s 7ms/step - loss: 0.5547 - accuracy: 0.7922 - val_loss: 0.6802 - val_accuracy: 0.7419\n",
      "Epoch 20/20\n",
      "157/157 [==============================] - 1s 7ms/step - loss: 0.5412 - accuracy: 0.7994 - val_loss: 0.6177 - val_accuracy: 0.7743\n"
     ]
    }
   ],
   "source": [
    "hist1 = CNN1.fit(x_subset, y_subset,\n",
    "                    batch_size=batch_size,\n",
    "                    epochs=epochs, validation_data=(x_test,y_test))"
   ]
  },
  {
   "cell_type": "markdown",
   "metadata": {
    "id": "Ji0s4Q85iH7Z"
   },
   "source": [
    "2) Aumentando (demais) o learning rate"
   ]
  },
  {
   "cell_type": "code",
   "execution_count": 10,
   "metadata": {
    "colab": {
     "base_uri": "https://localhost:8080/",
     "height": 806
    },
    "id": "CYzuO3fl3mqy",
    "outputId": "98b38203-2af7-4eac-bbfc-037a6de0641a"
   },
   "outputs": [
    {
     "name": "stdout",
     "output_type": "stream",
     "text": [
      "Epoch 1/20\n",
      "157/157 [==============================] - 1s 8ms/step - loss: 1.5761 - accuracy: 0.4190 - val_loss: 2.5728 - val_accuracy: 0.3300\n",
      "Epoch 2/20\n",
      "157/157 [==============================] - 1s 7ms/step - loss: 1.5349 - accuracy: 0.4234 - val_loss: 2.3097 - val_accuracy: 0.1000\n",
      "Epoch 3/20\n",
      "157/157 [==============================] - 1s 7ms/step - loss: 2.3078 - accuracy: 0.0956 - val_loss: 2.3154 - val_accuracy: 0.1000\n",
      "Epoch 4/20\n",
      "157/157 [==============================] - 1s 7ms/step - loss: 2.3071 - accuracy: 0.0996 - val_loss: 2.3038 - val_accuracy: 0.1000\n",
      "Epoch 5/20\n",
      "157/157 [==============================] - 1s 7ms/step - loss: 2.3071 - accuracy: 0.1024 - val_loss: 2.3089 - val_accuracy: 0.1000\n",
      "Epoch 6/20\n",
      "157/157 [==============================] - 1s 7ms/step - loss: 2.3070 - accuracy: 0.1060 - val_loss: 2.3105 - val_accuracy: 0.1000\n",
      "Epoch 7/20\n",
      "157/157 [==============================] - 1s 7ms/step - loss: 2.3068 - accuracy: 0.1014 - val_loss: 2.3085 - val_accuracy: 0.1000\n",
      "Epoch 8/20\n",
      "157/157 [==============================] - 1s 7ms/step - loss: 2.3075 - accuracy: 0.1018 - val_loss: 2.3051 - val_accuracy: 0.1000\n",
      "Epoch 9/20\n",
      "157/157 [==============================] - 1s 7ms/step - loss: 2.3067 - accuracy: 0.1034 - val_loss: 2.3047 - val_accuracy: 0.1000\n",
      "Epoch 10/20\n",
      "157/157 [==============================] - 1s 7ms/step - loss: 2.3061 - accuracy: 0.1034 - val_loss: 2.3141 - val_accuracy: 0.1000\n",
      "Epoch 11/20\n",
      "157/157 [==============================] - 1s 7ms/step - loss: 2.3075 - accuracy: 0.1034 - val_loss: 2.3130 - val_accuracy: 0.1000\n",
      "Epoch 12/20\n",
      "157/157 [==============================] - 1s 7ms/step - loss: 2.3069 - accuracy: 0.1026 - val_loss: 2.3070 - val_accuracy: 0.1000\n",
      "Epoch 13/20\n",
      "157/157 [==============================] - 1s 7ms/step - loss: 2.3071 - accuracy: 0.0998 - val_loss: 2.3059 - val_accuracy: 0.1000\n",
      "Epoch 14/20\n",
      "157/157 [==============================] - 1s 7ms/step - loss: 2.3055 - accuracy: 0.1024 - val_loss: 2.3139 - val_accuracy: 0.1000\n",
      "Epoch 15/20\n",
      "157/157 [==============================] - 1s 7ms/step - loss: 2.3079 - accuracy: 0.0988 - val_loss: 2.3055 - val_accuracy: 0.1000\n",
      "Epoch 16/20\n",
      "157/157 [==============================] - 1s 7ms/step - loss: 2.3072 - accuracy: 0.1012 - val_loss: 2.3083 - val_accuracy: 0.1000\n",
      "Epoch 17/20\n",
      "157/157 [==============================] - 1s 7ms/step - loss: 2.3074 - accuracy: 0.1058 - val_loss: 2.3041 - val_accuracy: 0.1000\n",
      "Epoch 18/20\n",
      "157/157 [==============================] - 1s 7ms/step - loss: 2.3060 - accuracy: 0.0978 - val_loss: 2.3143 - val_accuracy: 0.1000\n",
      "Epoch 19/20\n",
      "157/157 [==============================] - 1s 7ms/step - loss: 2.3079 - accuracy: 0.1000 - val_loss: 2.3067 - val_accuracy: 0.1000\n",
      "Epoch 20/20\n",
      "157/157 [==============================] - 1s 7ms/step - loss: 2.3068 - accuracy: 0.1038 - val_loss: 2.3129 - val_accuracy: 0.1000\n"
     ]
    }
   ],
   "source": [
    "seed(1)\n",
    "set_seed(2)\n",
    "print(\"Modelo2\")\n",
    "CNN2 = my_cnn()\n",
    "CNN2.compile(loss='categorical_crossentropy',\n",
    "              optimizer=keras.optimizers.SGD(lr=0.600),\n",
    "              metrics=['accuracy'])\n",
    "\n",
    "hist2 = CNN2.fit(x_subset, y_subset,\n",
    "                    batch_size=batch_size,\n",
    "                    epochs=epochs, validation_data=(x_test,y_test),\n",
    "                    verbose=1)"
   ]
  },
  {
   "cell_type": "markdown",
   "metadata": {
    "id": "1oyd3-SKiUzV"
   },
   "source": [
    "3) Adicionando momentum com peso 0.9"
   ]
  },
  {
   "cell_type": "code",
   "execution_count": 11,
   "metadata": {
    "colab": {
     "base_uri": "https://localhost:8080/",
     "height": 825
    },
    "id": "F-iByasBbQ0s",
    "outputId": "8f3020f8-04fb-418e-f2bc-c87a38e48ccf"
   },
   "outputs": [
    {
     "name": "stdout",
     "output_type": "stream",
     "text": [
      "Modelo 3\n",
      "Epoch 1/20\n",
      "157/157 [==============================] - 1s 8ms/step - loss: 1.2575 - accuracy: 0.5552 - val_loss: 0.7390 - val_accuracy: 0.7138\n",
      "Epoch 2/20\n",
      "157/157 [==============================] - 1s 7ms/step - loss: 0.6808 - accuracy: 0.7468 - val_loss: 0.6812 - val_accuracy: 0.7526\n",
      "Epoch 3/20\n",
      "157/157 [==============================] - 1s 7ms/step - loss: 0.5716 - accuracy: 0.7848 - val_loss: 0.5723 - val_accuracy: 0.7861\n",
      "Epoch 4/20\n",
      "157/157 [==============================] - 1s 7ms/step - loss: 0.5135 - accuracy: 0.8128 - val_loss: 0.5588 - val_accuracy: 0.7912\n",
      "Epoch 5/20\n",
      "157/157 [==============================] - 1s 7ms/step - loss: 0.4631 - accuracy: 0.8300 - val_loss: 0.5695 - val_accuracy: 0.7851\n",
      "Epoch 6/20\n",
      "157/157 [==============================] - 1s 7ms/step - loss: 0.4316 - accuracy: 0.8384 - val_loss: 0.5594 - val_accuracy: 0.8023\n",
      "Epoch 7/20\n",
      "157/157 [==============================] - 1s 7ms/step - loss: 0.4118 - accuracy: 0.8456 - val_loss: 0.4949 - val_accuracy: 0.8217\n",
      "Epoch 8/20\n",
      "157/157 [==============================] - 1s 7ms/step - loss: 0.3794 - accuracy: 0.8588 - val_loss: 0.5426 - val_accuracy: 0.8064\n",
      "Epoch 9/20\n",
      "157/157 [==============================] - 1s 7ms/step - loss: 0.3490 - accuracy: 0.8668 - val_loss: 0.4961 - val_accuracy: 0.8239\n",
      "Epoch 10/20\n",
      "157/157 [==============================] - 1s 7ms/step - loss: 0.3247 - accuracy: 0.8826 - val_loss: 0.5222 - val_accuracy: 0.8200\n",
      "Epoch 11/20\n",
      "157/157 [==============================] - 1s 7ms/step - loss: 0.3097 - accuracy: 0.8842 - val_loss: 0.5247 - val_accuracy: 0.8100\n",
      "Epoch 12/20\n",
      "157/157 [==============================] - 1s 7ms/step - loss: 0.2836 - accuracy: 0.8938 - val_loss: 0.4466 - val_accuracy: 0.8435\n",
      "Epoch 13/20\n",
      "157/157 [==============================] - 1s 7ms/step - loss: 0.2654 - accuracy: 0.9022 - val_loss: 0.4749 - val_accuracy: 0.8369\n",
      "Epoch 14/20\n",
      "157/157 [==============================] - 1s 7ms/step - loss: 0.2429 - accuracy: 0.9094 - val_loss: 0.5048 - val_accuracy: 0.8241\n",
      "Epoch 15/20\n",
      "157/157 [==============================] - 1s 7ms/step - loss: 0.2266 - accuracy: 0.9156 - val_loss: 0.5291 - val_accuracy: 0.8351\n",
      "Epoch 16/20\n",
      "157/157 [==============================] - 1s 7ms/step - loss: 0.2174 - accuracy: 0.9182 - val_loss: 0.5410 - val_accuracy: 0.8352\n",
      "Epoch 17/20\n",
      "157/157 [==============================] - 1s 7ms/step - loss: 0.1955 - accuracy: 0.9276 - val_loss: 0.5957 - val_accuracy: 0.8274\n",
      "Epoch 18/20\n",
      "157/157 [==============================] - 1s 7ms/step - loss: 0.2052 - accuracy: 0.9244 - val_loss: 0.5613 - val_accuracy: 0.8359\n",
      "Epoch 19/20\n",
      "157/157 [==============================] - 1s 7ms/step - loss: 0.1669 - accuracy: 0.9410 - val_loss: 0.5248 - val_accuracy: 0.8352\n",
      "Epoch 20/20\n",
      "157/157 [==============================] - 1s 7ms/step - loss: 0.1619 - accuracy: 0.9426 - val_loss: 0.6138 - val_accuracy: 0.8310\n"
     ]
    }
   ],
   "source": [
    "tf.keras.backend.clear_session()\n",
    "seed(1)\n",
    "set_seed(2)\n",
    "print(\"Modelo 3\")\n",
    "CNN3 = my_cnn()\n",
    "CNN3.compile(loss='categorical_crossentropy',\n",
    "              optimizer=keras.optimizers.SGD(lr=0.02,momentum=0.9),\n",
    "              metrics=['accuracy'])\n",
    "\n",
    "hist3 = CNN3.fit(x_subset, y_subset,\n",
    "                    batch_size=batch_size,\n",
    "                    epochs=epochs, validation_data=(x_test,y_test),\n",
    "                    verbose=1)"
   ]
  },
  {
   "cell_type": "markdown",
   "metadata": {
    "id": "rUKG8qXIgSdg"
   },
   "source": [
    "4) Tentando encontrar um meio termo: learning rate (não tão) maior, com decaimento da taxa de aprendizado\n"
   ]
  },
  {
   "cell_type": "code",
   "execution_count": 12,
   "metadata": {
    "colab": {
     "base_uri": "https://localhost:8080/",
     "height": 36
    },
    "id": "km0hmWUZdG2t",
    "outputId": "4429bd39-b6f7-4b44-e75c-c7b0cabe5ded"
   },
   "outputs": [
    {
     "name": "stdout",
     "output_type": "stream",
     "text": [
      "Taxa inicial =  0.5\n"
     ]
    }
   ],
   "source": [
    "tf.keras.backend.clear_session()\n",
    "seed(1)\n",
    "set_seed(2)\n",
    "CNN4 = my_cnn()\n",
    "CNN4.compile(loss='categorical_crossentropy',\n",
    "              optimizer=keras.optimizers.SGD(lr=0.5),\n",
    "              metrics=['accuracy'])\n",
    "\n",
    "print(\"Taxa inicial = \", round(CNN4.optimizer.lr.numpy(), 4))"
   ]
  },
  {
   "cell_type": "markdown",
   "metadata": {
    "id": "aHEy6xVdfvmT"
   },
   "source": [
    "Criando uma função \"callback\" para definir uma modificação no learning rate ao longo das épocas"
   ]
  },
  {
   "cell_type": "code",
   "execution_count": 13,
   "metadata": {
    "colab": {
     "base_uri": "https://localhost:8080/",
     "height": 1000
    },
    "id": "2xQf_xc1fd_3",
    "outputId": "225fe283-668d-470f-a791-0b7f1f433186"
   },
   "outputs": [
    {
     "name": "stdout",
     "output_type": "stream",
     "text": [
      "Learning rate atual =  0.5\n",
      "Epoch 1/20\n",
      "157/157 [==============================] - 1s 8ms/step - loss: 1.6545 - accuracy: 0.3948 - val_loss: 1.6193 - val_accuracy: 0.4138\n",
      "Learning rate atual =  0.5\n",
      "Epoch 2/20\n",
      "157/157 [==============================] - 1s 7ms/step - loss: 0.7772 - accuracy: 0.7052 - val_loss: 0.8962 - val_accuracy: 0.6421\n",
      "Learning rate atual =  0.5\n",
      "Epoch 3/20\n",
      "157/157 [==============================] - 1s 7ms/step - loss: 0.5989 - accuracy: 0.7762 - val_loss: 0.6335 - val_accuracy: 0.7361\n",
      "Learning rate atual =  0.5\n",
      "Epoch 4/20\n",
      "157/157 [==============================] - 1s 7ms/step - loss: 0.5238 - accuracy: 0.8002 - val_loss: 0.6544 - val_accuracy: 0.7626\n",
      "Learning rate atual =  0.5\n",
      "Epoch 5/20\n",
      "157/157 [==============================] - 1s 7ms/step - loss: 0.4691 - accuracy: 0.8222 - val_loss: 0.6908 - val_accuracy: 0.7672\n",
      "Learning rate atual =  0.5\n",
      "Epoch 6/20\n",
      "157/157 [==============================] - 1s 7ms/step - loss: 0.3956 - accuracy: 0.8520 - val_loss: 0.7358 - val_accuracy: 0.7902\n",
      "Learning rate atual =  0.3700000047683716\n",
      "Epoch 7/20\n",
      "157/157 [==============================] - 1s 7ms/step - loss: 0.3356 - accuracy: 0.8728 - val_loss: 0.4944 - val_accuracy: 0.8246\n",
      "Learning rate atual =  0.27399998903274536\n",
      "Epoch 8/20\n",
      "157/157 [==============================] - 1s 7ms/step - loss: 0.2874 - accuracy: 0.8932 - val_loss: 0.5169 - val_accuracy: 0.8262\n",
      "Learning rate atual =  0.2029999941587448\n",
      "Epoch 9/20\n",
      "157/157 [==============================] - 1s 7ms/step - loss: 0.2487 - accuracy: 0.9060 - val_loss: 0.4864 - val_accuracy: 0.8359\n",
      "Learning rate atual =  0.15000000596046448\n",
      "Epoch 10/20\n",
      "157/157 [==============================] - 1s 7ms/step - loss: 0.2177 - accuracy: 0.9206 - val_loss: 0.4836 - val_accuracy: 0.8394\n",
      "Learning rate atual =  0.11100000143051147\n",
      "Epoch 11/20\n",
      "157/157 [==============================] - 1s 7ms/step - loss: 0.1927 - accuracy: 0.9282 - val_loss: 0.4743 - val_accuracy: 0.8480\n",
      "Learning rate atual =  0.0820000022649765\n",
      "Epoch 12/20\n",
      "157/157 [==============================] - 1s 7ms/step - loss: 0.1744 - accuracy: 0.9346 - val_loss: 0.4940 - val_accuracy: 0.8410\n",
      "Learning rate atual =  0.061000000685453415\n",
      "Epoch 13/20\n",
      "157/157 [==============================] - 1s 7ms/step - loss: 0.1622 - accuracy: 0.9392 - val_loss: 0.5007 - val_accuracy: 0.8483\n",
      "Learning rate atual =  0.04500000178813934\n",
      "Epoch 14/20\n",
      "157/157 [==============================] - 1s 7ms/step - loss: 0.1477 - accuracy: 0.9462 - val_loss: 0.4999 - val_accuracy: 0.8487\n",
      "Learning rate atual =  0.032999999821186066\n",
      "Epoch 15/20\n",
      "157/157 [==============================] - 1s 7ms/step - loss: 0.1403 - accuracy: 0.9514 - val_loss: 0.5079 - val_accuracy: 0.8489\n",
      "Learning rate atual =  0.024000000208616257\n",
      "Epoch 16/20\n",
      "157/157 [==============================] - 1s 7ms/step - loss: 0.1340 - accuracy: 0.9526 - val_loss: 0.5167 - val_accuracy: 0.8517\n",
      "Learning rate atual =  0.017999999225139618\n",
      "Epoch 17/20\n",
      "157/157 [==============================] - 1s 7ms/step - loss: 0.1291 - accuracy: 0.9540 - val_loss: 0.5170 - val_accuracy: 0.8513\n",
      "Learning rate atual =  0.013000000268220901\n",
      "Epoch 18/20\n",
      "157/157 [==============================] - 1s 7ms/step - loss: 0.1258 - accuracy: 0.9560 - val_loss: 0.5222 - val_accuracy: 0.8509\n",
      "Learning rate atual =  0.009999999776482582\n",
      "Epoch 19/20\n",
      "157/157 [==============================] - 1s 7ms/step - loss: 0.1231 - accuracy: 0.9574 - val_loss: 0.5201 - val_accuracy: 0.8508\n",
      "Learning rate atual =  0.007000000216066837\n",
      "Epoch 20/20\n",
      "157/157 [==============================] - 1s 7ms/step - loss: 0.1209 - accuracy: 0.9588 - val_loss: 0.5224 - val_accuracy: 0.8516\n"
     ]
    }
   ],
   "source": [
    "def scheduler(epoch, lr):\n",
    "  print(\"Learning rate atual = \", lr)\n",
    "  if epoch < 5:\n",
    "    return lr\n",
    "  else:\n",
    "    return np.round(lr * tf.math.exp(-0.3),3)\n",
    "\n",
    "callbacklr = tf.keras.callbacks.LearningRateScheduler(scheduler)\n",
    "\n",
    "hist4 = CNN4.fit(x_subset, y_subset,\n",
    "                    batch_size=batch_size, epochs=epochs, \n",
    "                    callbacks=[callbacklr], validation_data=(x_test,y_test),\n",
    "                    verbose=1)"
   ]
  },
  {
   "cell_type": "code",
   "execution_count": 14,
   "metadata": {
    "colab": {
     "base_uri": "https://localhost:8080/",
     "height": 339
    },
    "id": "LcMnFOuxwMOV",
    "outputId": "aed45718-7eaa-4f03-88ec-1e38febb6e2b"
   },
   "outputs": [
    {
     "data": {
      "text/plain": [
       "<matplotlib.legend.Legend at 0x7f4348676940>"
      ]
     },
     "execution_count": 14,
     "metadata": {
      "tags": []
     },
     "output_type": "execute_result"
    },
    {
     "data": {
      "image/png": "[encoded data removed]",
      "text/plain": [
       "<Figure size 576x360 with 1 Axes>"
      ]
     },
     "metadata": {
      "needs_background": "light",
      "tags": []
     },
     "output_type": "display_data"
    }
   ],
   "source": [
    "plt.figure(figsize=(8,5))\n",
    "plt.plot(hist1.history['loss'])\n",
    "plt.plot(hist2.history['loss'])\n",
    "plt.plot(hist3.history['loss'])\n",
    "plt.plot(hist4.history['loss'])\n",
    "plt.legend([\"lr=.01\", \"lr=.6\", \"lr=.05 m=.9\",\"lr=.5+dec\"], loc=\"upper right\")"
   ]
  },
  {
   "cell_type": "code",
   "execution_count": 15,
   "metadata": {
    "colab": {
     "base_uri": "https://localhost:8080/",
     "height": 339
    },
    "id": "E-ByU8kXPDu_",
    "outputId": "8b54da74-be42-4790-fd8e-70c78fcc130d"
   },
   "outputs": [
    {
     "data": {
      "text/plain": [
       "<matplotlib.legend.Legend at 0x7f434814dda0>"
      ]
     },
     "execution_count": 15,
     "metadata": {
      "tags": []
     },
     "output_type": "execute_result"
    },
    {
     "data": {
      "image/png": "[encoded data removed]",
      "text/plain": [
       "<Figure size 576x360 with 1 Axes>"
      ]
     },
     "metadata": {
      "needs_background": "light",
      "tags": []
     },
     "output_type": "display_data"
    }
   ],
   "source": [
    "plt.figure(figsize=(8,5))\n",
    "plt.plot(hist1.history['accuracy'], 'b')\n",
    "plt.plot(hist1.history['val_accuracy'], 'b--')\n",
    "plt.plot(hist2.history['accuracy'], color='tab:orange')\n",
    "plt.plot(hist2.history['val_accuracy'], color='tab:orange', linestyle='--')\n",
    "plt.legend([\"lr=.01 (tre)\",\"lr=.01 (val)\",\"lr=.6 (tre)\",\"lr=.6 (val)\"], loc=\"upper right\")"
   ]
  },
  {
   "cell_type": "code",
   "execution_count": 16,
   "metadata": {
    "colab": {
     "base_uri": "https://localhost:8080/",
     "height": 339
    },
    "id": "rrqKloZntMkg",
    "outputId": "128b2084-5138-43dd-b16d-0488e130585e"
   },
   "outputs": [
    {
     "data": {
      "text/plain": [
       "<matplotlib.legend.Legend at 0x7f43480d1898>"
      ]
     },
     "execution_count": 16,
     "metadata": {
      "tags": []
     },
     "output_type": "execute_result"
    },
    {
     "data": {
      "image/png": "[encoded data removed]",
      "text/plain": [
       "<Figure size 576x360 with 1 Axes>"
      ]
     },
     "metadata": {
      "needs_background": "light",
      "tags": []
     },
     "output_type": "display_data"
    }
   ],
   "source": [
    "plt.figure(figsize=(8,5))\n",
    "plt.plot(hist3.history['accuracy'], 'g')\n",
    "plt.plot(hist3.history['val_accuracy'], 'g--')\n",
    "plt.plot(hist4.history['accuracy'], 'r')\n",
    "plt.plot(hist4.history['val_accuracy'], 'r--')\n",
    "plt.legend([\"lr=.05 m=.9 (tre)\",\"lr=.05 m=.9 (val)\",\"lr=.5+dec(tre)\",\"lr=.5+dec(val)\"], loc=\"upper right\")"
   ]
  },
  {
   "cell_type": "code",
   "execution_count": 16,
   "metadata": {
    "id": "mFxGWNjYkQZy"
   },
   "outputs": [],
   "source": []
  }
 ],
 "metadata": {
  "accelerator": "GPU",
  "colab": {
   "collapsed_sections": [],
   "name": "RNAP-03_Aula-notebook2_learningrate_batchsize.ipynb",
   "provenance": []
  },
  "kernelspec": {
   "display_name": "Python 3",
   "language": "python",
   "name": "python3"
  },
  "language_info": {
   "codemirror_mode": {
    "name": "ipython",
    "version": 3
   },
   "file_extension": ".py",
   "mimetype": "text/x-python",
   "name": "python",
   "nbconvert_exporter": "python",
   "pygments_lexer": "ipython3",
   "version": "3.8.5"
  }
 },
 "nbformat": 4,
 "nbformat_minor": 1
}
