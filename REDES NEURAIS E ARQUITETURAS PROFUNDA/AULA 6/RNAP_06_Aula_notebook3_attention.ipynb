{
  "nbformat": 4,
  "nbformat_minor": 0,
  "metadata": {
    "colab": {
      "name": "RNAP-06-Aula-notebook3_attention.ipynb",
      "provenance": [],
      "collapsed_sections": []
    },
    "kernelspec": {
      "name": "python3",
      "display_name": "Python 3"
    }
  },
  "cells": [
    {
      "cell_type": "markdown",
      "metadata": {
        "id": "fvaEK6Bn-wwG"
      },
      "source": [
        "## MBA em Ciência de Dados\n",
        "# Redes Neurais e Arquiteturas Profundas\n",
        "\n",
        "### <span style=\"color:darkred\">Módulo 6 - Redes neurais para dados sequenciais</span>\n",
        "\n",
        "#### <span style=\"color:darkred\">**Parte 3: Mecanismo de atenção**</span>\n",
        "\n",
        "Moacir Antonelli Ponti\n",
        "\n",
        "CeMEAI - ICMC/USP São Carlos\n",
        "\n",
        "---"
      ]
    },
    {
      "cell_type": "code",
      "metadata": {
        "id": "wvtQgvYq_z7v"
      },
      "source": [
        "import numpy as np\n",
        "from pandas import read_csv\n",
        "from pandas import datetime\n",
        "import matplotlib.pyplot as plt\n",
        "import tensorflow as tf\n",
        "from tensorflow import keras\n",
        "from keras import layers\n",
        "from numpy.random import seed\n",
        "from tensorflow.random import set_seed\n"
      ],
      "execution_count": null,
      "outputs": []
    },
    {
      "cell_type": "code",
      "metadata": {
        "id": "KgO7dF4s9D7X"
      },
      "source": [
        "def modelo_denso(input_shape):\n",
        "    inputs = layers.Input(shape=(input_shape,))\n",
        "\n",
        "    # Atenção baseada em softmax\n",
        "    attention_probs = layers.Dense(input_shape, activation='softmax', name='attention_vec')(inputs)\n",
        "    attention_mul = layers.Multiply(name='attention_mul')([inputs, attention_probs])\n",
        "    # Fim da camada de atencao\n",
        "\n",
        "    attention_mul = layers.Dense(16)(attention_mul)\n",
        "    output = layers.Dense(1, activation='sigmoid')(attention_mul)\n",
        "    model = keras.models.Model(inputs=[inputs], outputs=output)\n",
        "    return model"
      ],
      "execution_count": null,
      "outputs": []
    },
    {
      "cell_type": "code",
      "metadata": {
        "id": "EQ11lJuvFr-i"
      },
      "source": [
        "def dados_atencao(N, dim, atencao=(1, 3)):  \n",
        "    x = (np.random.randn(N*dim)*0.25).reshape([N,dim])\n",
        "    y = np.random.randint(low=0, high=2, size=(N, 1))\n",
        "    for at in atencao:\n",
        "      x[:, at] = y[:, 0]\n",
        "    return x, y"
      ],
      "execution_count": null,
      "outputs": []
    },
    {
      "cell_type": "code",
      "metadata": {
        "id": "1w705v9dFnN5",
        "outputId": "78492ca9-2941-477c-d509-fc2412908ee8",
        "colab": {
          "base_uri": "https://localhost:8080/",
          "height": 635
        }
      },
      "source": [
        "N = 100\n",
        "d = 10\n",
        "\n",
        "seed(10)\n",
        "train_x, train_y = dados_atencao(N, d)\n",
        "test_x, test_y = dados_atencao(1, d)\n",
        "\n",
        "plt.bar(np.arange(d), train_x[0])\n",
        "\n",
        "modelD = modelo_denso(d)\n",
        "modelD.compile(optimizer='adam', loss='binary_crossentropy', metrics=['accuracy'])\n",
        "print(modelD.summary())\n",
        "\n",
        "output_att = keras.models.Model(inputs=modelD.input, outputs=modelD.get_layer('attention_vec').output)\n",
        "output_mul = keras.models.Model(inputs=modelD.input, outputs=modelD.get_layer('attention_mul').output)"
      ],
      "execution_count": null,
      "outputs": [
        {
          "output_type": "stream",
          "text": [
            "Model: \"functional_137\"\n",
            "__________________________________________________________________________________________________\n",
            "Layer (type)                    Output Shape         Param #     Connected to                     \n",
            "==================================================================================================\n",
            "input_24 (InputLayer)           [(None, 10)]         0                                            \n",
            "__________________________________________________________________________________________________\n",
            "attention_vec (Dense)           (None, 10)           110         input_24[0][0]                   \n",
            "__________________________________________________________________________________________________\n",
            "attention_mul (Multiply)        (None, 10)           0           input_24[0][0]                   \n",
            "                                                                 attention_vec[0][0]              \n",
            "__________________________________________________________________________________________________\n",
            "dense_46 (Dense)                (None, 16)           176         attention_mul[0][0]              \n",
            "__________________________________________________________________________________________________\n",
            "dense_47 (Dense)                (None, 1)            17          dense_46[0][0]                   \n",
            "==================================================================================================\n",
            "Total params: 303\n",
            "Trainable params: 303\n",
            "Non-trainable params: 0\n",
            "__________________________________________________________________________________________________\n",
            "None\n"
          ],
          "name": "stdout"
        },
        {
          "output_type": "display_data",
          "data": {
            "image/png": "[encoded data removed]",
            "text/plain": [
              "<Figure size 432x288 with 1 Axes>"
            ]
          },
          "metadata": {
            "tags": [],
            "needs_background": "light"
          }
        }
      ]
    },
    {
      "cell_type": "code",
      "metadata": {
        "id": "FXMPsyP0PGLR",
        "outputId": "340c3e1b-3071-49b1-9e68-d143e0eba84d",
        "colab": {
          "base_uri": "https://localhost:8080/",
          "height": 359
        }
      },
      "source": [
        "attention_vector = output_att.predict(test_x)[0]\n",
        "print('Vetor de \"atencao\" =', attention_vector)\n",
        "plt.bar(np.arange(d), attention_vector)"
      ],
      "execution_count": null,
      "outputs": [
        {
          "output_type": "stream",
          "text": [
            "WARNING:tensorflow:5 out of the last 11 calls to <function Model.make_predict_function.<locals>.predict_function at 0x7ff5d5be0840> triggered tf.function retracing. Tracing is expensive and the excessive number of tracings could be due to (1) creating @tf.function repeatedly in a loop, (2) passing tensors with different shapes, (3) passing Python objects instead of tensors. For (1), please define your @tf.function outside of the loop. For (2), @tf.function has experimental_relax_shapes=True option that relaxes argument shapes that can avoid unnecessary retracing. For (3), please refer to https://www.tensorflow.org/tutorials/customization/performance#python_or_tensor_args and https://www.tensorflow.org/api_docs/python/tf/function for  more details.\n",
            "Vetor de \"atencao\" = [0.11698934 0.05655674 0.08982814 0.17935708 0.0711864  0.13629211\n",
            " 0.14916906 0.04919047 0.0760324  0.0753983 ]\n"
          ],
          "name": "stdout"
        },
        {
          "output_type": "execute_result",
          "data": {
            "text/plain": [
              "<BarContainer object of 10 artists>"
            ]
          },
          "metadata": {
            "tags": []
          },
          "execution_count": 76
        },
        {
          "output_type": "display_data",
          "data": {
            "image/png": "[encoded data removed]",
            "text/plain": [
              "<Figure size 432x288 with 1 Axes>"
            ]
          },
          "metadata": {
            "tags": [],
            "needs_background": "light"
          }
        }
      ]
    },
    {
      "cell_type": "code",
      "metadata": {
        "id": "sTW-TOevGVxl",
        "outputId": "f3630d92-9a96-4023-fc8c-6cbbe00797aa",
        "colab": {
          "base_uri": "https://localhost:8080/",
          "height": 359
        }
      },
      "source": [
        "attention_mul = output_mul.predict(test_x)[0]\n",
        "print('Vetor de \"atencao\" ponderado =', attention_mul)\n",
        "plt.bar(np.arange(d), attention_mul)"
      ],
      "execution_count": null,
      "outputs": [
        {
          "output_type": "stream",
          "text": [
            "WARNING:tensorflow:5 out of the last 11 calls to <function Model.make_predict_function.<locals>.predict_function at 0x7ff5d5b82268> triggered tf.function retracing. Tracing is expensive and the excessive number of tracings could be due to (1) creating @tf.function repeatedly in a loop, (2) passing tensors with different shapes, (3) passing Python objects instead of tensors. For (1), please define your @tf.function outside of the loop. For (2), @tf.function has experimental_relax_shapes=True option that relaxes argument shapes that can avoid unnecessary retracing. For (3), please refer to https://www.tensorflow.org/tutorials/customization/performance#python_or_tensor_args and https://www.tensorflow.org/api_docs/python/tf/function for  more details.\n",
            "Vetor de \"atencao\" ponderado = [-0.06823912  0.05655674 -0.03263252  0.17935708 -0.02487232  0.0029266\n",
            "  0.09885023 -0.00596336  0.02604298  0.00857092]\n"
          ],
          "name": "stdout"
        },
        {
          "output_type": "execute_result",
          "data": {
            "text/plain": [
              "<BarContainer object of 10 artists>"
            ]
          },
          "metadata": {
            "tags": []
          },
          "execution_count": 77
        },
        {
          "output_type": "display_data",
          "data": {
            "image/png": "[encoded data removed]",
            "text/plain": [
              "<Figure size 432x288 with 1 Axes>"
            ]
          },
          "metadata": {
            "tags": [],
            "needs_background": "light"
          }
        }
      ]
    },
    {
      "cell_type": "code",
      "metadata": {
        "id": "WKNJE4NpHdu0",
        "outputId": "077025c5-706d-4d57-c2b0-2129cb79090c",
        "colab": {
          "base_uri": "https://localhost:8080/",
          "height": 36
        }
      },
      "source": [
        "modelD.fit(train_x, train_y, epochs=50, batch_size=16, verbose=0)\n",
        "score1 = modelD.evaluate(train_x, train_y,  verbose=0)\n",
        "print(\"Acurácia treinamento:\", score1[1]*100)"
      ],
      "execution_count": null,
      "outputs": [
        {
          "output_type": "stream",
          "text": [
            "Acurácia treinamento: 100.0\n"
          ],
          "name": "stdout"
        }
      ]
    },
    {
      "cell_type": "code",
      "metadata": {
        "id": "SXXlEs4VJcnR",
        "outputId": "8bb4e972-0cd3-428a-f87b-c7b6d456077a",
        "colab": {
          "base_uri": "https://localhost:8080/",
          "height": 337
        }
      },
      "source": [
        "print(test_x)\n",
        "attention_vector = output_att.predict(test_x)[0]\n",
        "#print('Vetor de \"atencao\" =', attention_vector)\n",
        "plt.figure(figsize=(12,4))\n",
        "plt.subplot(121); plt.bar(np.arange(d), attention_vector); plt.title(\"Vetor atencao\")\n",
        "attention_mul = output_mul.predict(test_x)[0]\n",
        "#print('Vetor de \"atencao\" ponderado =', attention_mul)\n",
        "plt.subplot(122); plt.bar(np.arange(d), attention_mul); plt.title(\"Vetor atencao ponderado\")"
      ],
      "execution_count": null,
      "outputs": [
        {
          "output_type": "stream",
          "text": [
            "[[-0.58329351  1.         -0.36327728  1.         -0.34939707  0.02147302\n",
            "   0.66267247 -0.12122994  0.34252481  0.11367529]]\n"
          ],
          "name": "stdout"
        },
        {
          "output_type": "execute_result",
          "data": {
            "text/plain": [
              "Text(0.5, 1.0, 'Vetor atencao ponderado')"
            ]
          },
          "metadata": {
            "tags": []
          },
          "execution_count": 79
        },
        {
          "output_type": "display_data",
          "data": {
            "image/png": "[encoded data removed]",
            "text/plain": [
              "<Figure size 864x288 with 2 Axes>"
            ]
          },
          "metadata": {
            "tags": [],
            "needs_background": "light"
          }
        }
      ]
    },
    {
      "cell_type": "code",
      "metadata": {
        "id": "iimkRQpgO5eS"
      },
      "source": [
        ""
      ],
      "execution_count": null,
      "outputs": []
    }
  ]
}