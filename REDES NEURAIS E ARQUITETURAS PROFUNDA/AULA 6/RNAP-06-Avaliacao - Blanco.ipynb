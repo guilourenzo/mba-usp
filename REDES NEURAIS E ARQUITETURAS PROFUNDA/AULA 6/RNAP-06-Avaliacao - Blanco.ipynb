{
 "cells": [
  {
   "cell_type": "markdown",
   "metadata": {
    "id": "K8CDQUj8yqpq"
   },
   "source": [
    "## MBA em Ciência de Dados\n",
    "# Redes Neurais e Arquiteturas Profundas\n",
    "\n",
    "### <span style=\"color:darkred\">Módulo VI - Redes neurais para dados sequenciais</span>\n",
    "\n",
    "\n",
    "### <span style=\"color:darkred\">Avaliação</span>\n",
    "\n",
    "Moacir Antonelli Ponti\n",
    "\n",
    "CeMEAI - ICMC/USP São Carlos\n",
    "\n",
    "---\n",
    "\n",
    "As respostas devem ser dadas no Moodle, use esse notebook apenas para gerar o código necessário para obter as respostas\n",
    "\n",
    "---"
   ]
  },
  {
   "cell_type": "markdown",
   "metadata": {
    "id": "xMJ4IFd7yqpt"
   },
   "source": [
    "### Questão 1)\n",
    "\n",
    "Considere o uso de uma rede neural não recorrente (por exemplo uma rede densa) para o problema de, dado um caracter atual, predizer os $k$ próximos caracteres de uma sentença, sendo formulado como um problema de regressão. Por outro lado, podemos também utilizar arquiteturas recorrentes. Qual alternativa está correta na comparação da adequação das duas abordagens ao problema?\n",
    "\n",
    "(a) As unidades recorrentes possuem memória que considera a ordem que as instâncias aparecem nas iterações. Redes com unidades densas assumem independência entre as instâncias podendo considerar os dados de entrada em ordem arbitrária, e portanto as densas serão sempre melhores para problemas como o de predição de sequências.<br>\n",
    "**<span style=\"color:red\">(b) Unidades recorrentes cumprem melhor os requisitos de predizer sequências pois mantêm um sumário que está relacionado ao contexto de um caracter e sua ordem em uma sentença.<br></span>**\n",
    "(c) Ambas são igualmente adequadas ao problema e devem produzir resultados similares, desde que os dados sejam preparados para cada caso<br>\n",
    "(d) As unidades densas capturam contexto e as relações de ordenação entre as instâncias, sendo mais adequadas para esse problema.<br>\n",
    "\n",
    "***Aos 15 min ele fala sobre memória em RNN. Ele basicamente mostra que a estimação atual depende da anterior, portanto entendo que não se assume independência <br>\n",
    "Aos 18 min ele fala o que é o Sumário***\n"
   ]
  },
  {
   "cell_type": "markdown",
   "metadata": {
    "id": "038CuS5syqqL"
   },
   "source": [
    "---\n",
    "\n",
    "### Questão 2)\n",
    "\n",
    "Dentre as unidades recorrentes mais conhecidas, destacam-se a RNN tradicional, a GRU e a LSTM, em ordem da unidade com menor número de parâmetros, para aquela com maior número de parâmetros e portanto de maior capacidade. A GRU foi proposta mais recentemente do que as outras, ainda que tenha menos graus de liberdade (capacidade) do que a LSTM. ***Qual a principal motivação de usar GRU frente à LSTM?***\n",
    "\n",
    " (a) O mecanismo de esquecimento e atualização de novas informações nos sumários da LSTM se tornou obsoleto.<br>\n",
    " (b) A GRU produz resultados significativamente melhores na maior parte dos casos reais do que a LSTM, ainda que seja mais demorada para treinar por iteração.<br>\n",
    " (c) A GRU é mais adequada apenas para problemas envolvendo sequência-para-sequência na estratégia encoder-decoder, nas demais tarefas a LSTM é sempre superior.<br>\n",
    "**<span style=\"color:red\">(d) A GRU possui menos parâmetros, mas mantendo um mecanismo de adição de informação e esquecimento ao sumário, e por isso é geralmente mais fácil de otimizar do que a LSTM.<br></span>**\n",
    " \n",
    " \n",
    "***Aos 33 minutos fala que os resultados de GRU e LSTM são similares. Portanto já exclui a (b)<br>\n",
    "Estes minutos são os que ele aborda no slide 27***\n",
    "\n",
    "***Selecionei esta resposta mais por entendimento do que por uma resposta explicita. Se o modelo possui menos parâmetros como é o caso da Gru e tem resultados similares, a tendência é que seja mais fácil de otimizar***\n",
    " "
   ]
  },
  {
   "cell_type": "markdown",
   "metadata": {
    "id": "nJQ0-S3myqqL"
   },
   "source": [
    "---\n",
    "### Questão 3)\n",
    "\n",
    "Escolha a alternativa que descreve a forma de implementação do ***mecanismo básico de atenção.***\n",
    "\n",
    "**<span style=\"color:red\">(a) Comparação da similaridade entre um vetor $s$ e um conjunto de vetores $h_i$. Estas similaridades, depois de normalizadas, são utilizadas para realizar uma soma ponderada dos vetores $h_i$, resultando em um vetor $c$ de contexto<br>**</span>\n",
    " (b) Por meio de uma unidade recorrente, computa-se uma série de sumários $h$ ao longo de diversas iterações. Esses sumários são então processados por uma camada densa que computa a atenção com base na entrada<br>\n",
    " (c) Utilizando uma convolução unidimensional nos vetores $a$ e $b$ individualmente, e depois somando-os<br>\n",
    " (d) O mecanismo é implementado por meio do alinhamento entre dois vetores, $a$ e $b$, comumente aplicado por meio de um produto interno. Após esse processo utiliza-se um autoencoder com erro médio quadrático para aprender a atenção do vetor $a$ em relação ao vetor $b$<br>\n",
    " \n",
    "***Slide 46 do material, mas fiquei um pouco em duvida se nao seria a alternativa (b) devido a um comentário feito aproximadamente entre os minutos 11:30 e 12:30 do vídeo 4***\n"
   ]
  },
  {
   "cell_type": "markdown",
   "metadata": {
    "id": "C1sh5GgYyqqY"
   },
   "source": [
    "---\n",
    "\n",
    "### Questão 4)\n",
    "\n",
    "Carregue a base de dados `starbucks.csv`, conforme abaixo, com uma divisão hold-out utilizando os 85% exemplos iniciais para treinamento e os restantes para teste e normalize no intervalo 0-1.\n",
    "\n",
    "Grafe a série temporal, e note que há uma modificação brusca na série relativa ao teste, próxima ao ponto 950, que torna difícil sua predição.\n",
    "\n",
    "Crie duas redes recorrentes, uma baseada em LSTM e outra em GRU, para predizer, ponto-a-ponto, a série temporal de testes. Elas devem conter ativações do tipo ReLU:\n",
    "* Camada recorrente (LSTM/GRU) com 16 unidades\n",
    "* Camada recorrente (LSTM/GRU) com 8 unidades\n",
    "* Dropout de 0.2\n",
    "* Camada densa de predição \n",
    "\n",
    "Treine as duas redes com função de perda MSE, batch_size = 1, por 15 épocas, utilizando Adam com taxa de aprendizado 0.001. Antes de instanciar cada modelo, compilar e treinar, inicialize as sementes com seed(2) e set_seed(2).\n",
    "\n",
    "Calcule o MSE de teste (considere arredondamento para 4 casas decimais) e trace o gráfico comparando os dados reais com os preditos pelas duas redes. O resultado obtido foi:\n",
    "\n",
    "(a) GRU com menor erro do que LSTM, mas apenas LSTM foi capaz de melhor predizer o pico na parte final da série<br>\n",
    "(b) GRU com menor erro do que LSTM, mas ambas falharam em predizer o pico na parte final da série <br>\n",
    "(c) LSTM com menor erro do que GRU, e apenas LSTM foi capaz de melhor predizer o pico na parte final da série<br>\n",
    "(d) LSTM com menor erro do que GRU, mas apenas GRU foi capaz de melhor predizer o pico na parte final da série<br>\n"
   ]
  },
  {
   "cell_type": "code",
   "execution_count": 1,
   "metadata": {
    "id": "Rif40G6wST-s"
   },
   "outputs": [],
   "source": [
    "import numpy as np\n",
    "from pandas import read_csv\n",
    "\n",
    "import matplotlib.pyplot as plt\n",
    "import tensorflow as tf\n",
    "from tensorflow import keras\n",
    "\n",
    "from numpy.random import seed\n",
    "from tensorflow.random import set_seed\n",
    "\n",
    "from sklearn.metrics import mean_squared_error\n",
    "\n",
    "df = read_csv('starbucks.csv') \n",
    "var = df.columns.values[1]\n",
    "\n",
    "porc_treinamento = 85"
   ]
  },
  {
   "cell_type": "code",
   "execution_count": 2,
   "metadata": {
    "scrolled": true
   },
   "outputs": [
    {
     "name": "stdout",
     "output_type": "stream",
     "text": [
      "Série:  Close\n",
      "Tamanho da série:  1006\n"
     ]
    },
    {
     "data": {
      "image/png": "[encoded data removed]",
      "text/plain": [
       "<Figure size 432x288 with 1 Axes>"
      ]
     },
     "metadata": {
      "needs_background": "light"
     },
     "output_type": "display_data"
    }
   ],
   "source": [
    "series = np.array(df[var])\n",
    "plt.plot(series)\n",
    "N = series.shape[0]\n",
    "\n",
    "print(\"Série: \", var)\n",
    "print(\"Tamanho da série: \", N)"
   ]
  },
  {
   "cell_type": "code",
   "execution_count": 3,
   "metadata": {},
   "outputs": [
    {
     "name": "stdout",
     "output_type": "stream",
     "text": [
      "Exemplos de Treinamento:  855\n",
      "Exemplos de Teste:  150\n"
     ]
    },
    {
     "data": {
      "text/plain": [
       "[<matplotlib.lines.Line2D at 0x1b5c698f248>]"
      ]
     },
     "execution_count": 3,
     "metadata": {},
     "output_type": "execute_result"
    },
    {
     "data": {
      "image/png": "[encoded data removed]",
      "text/plain": [
       "<Figure size 432x288 with 1 Axes>"
      ]
     },
     "metadata": {
      "needs_background": "light"
     },
     "output_type": "display_data"
    }
   ],
   "source": [
    "# calcula tamanhos dos dados de treinamento (n1) e teste (n2)\n",
    "n1 = int(series.shape[0]*(porc_treinamento/100.0))\n",
    "n2 = int(series.shape[0]*(1-(porc_treinamento/100.0)))\n",
    "\n",
    "# divide dados de treinamento e teste\n",
    "train, test = series[0:-n2], series[-n2:]\n",
    "\n",
    "print(\"Exemplos de Treinamento: \", n1)\n",
    "print(\"Exemplos de Teste: \", n2)\n",
    "plt.plot(np.arange(0, n1+1), train)\n",
    "plt.plot(np.arange(n1,n1+n2), test)"
   ]
  },
  {
   "cell_type": "code",
   "execution_count": 4,
   "metadata": {},
   "outputs": [],
   "source": [
    "# modifica uma serie temporal tornando-a\n",
    "# um problema de aprendizado supervisionado\n",
    "def timeseries_to_supervised(series, look_back=1):\n",
    "    x = series[:-look_back]\n",
    "    y = np.array(series[look_back:], copy=True)\n",
    "    return x,y\n",
    "\n",
    "def normalize(train, test):\n",
    "    d_max = np.max(train)\n",
    "    d_min = np.min(train)\n",
    "    return ((train - d_min) / (d_max-d_min)), ((test - d_min) / (d_max-d_min))"
   ]
  },
  {
   "cell_type": "code",
   "execution_count": 5,
   "metadata": {},
   "outputs": [],
   "source": [
    "look_back = 1\n",
    "\n",
    "n_train, n_test = normalize(train, test)\n",
    "\n",
    "x_train, y_train = timeseries_to_supervised(n_train, look_back)\n",
    "x_test, y_test = timeseries_to_supervised(n_test, look_back)\n",
    "\n",
    "# formato deve ser [samples, time steps, features]\n",
    "rnn_train = np.reshape(x_train, (x_train.shape[0], 1, 1))\n",
    "rnn_test = np.reshape(x_test, (x_test.shape[0], 1, 1))"
   ]
  },
  {
   "cell_type": "code",
   "execution_count": 6,
   "metadata": {},
   "outputs": [
    {
     "name": "stdout",
     "output_type": "stream",
     "text": [
      "Model: \"sequential\"\n",
      "_________________________________________________________________\n",
      "Layer (type)                 Output Shape              Param #   \n",
      "=================================================================\n",
      "lstm (LSTM)                  (None, 1, 16)             1152      \n",
      "_________________________________________________________________\n",
      "lstm_1 (LSTM)                (None, 8)                 800       \n",
      "_________________________________________________________________\n",
      "dropout (Dropout)            (None, 8)                 0         \n",
      "_________________________________________________________________\n",
      "dense (Dense)                (None, 1)                 9         \n",
      "=================================================================\n",
      "Total params: 1,961\n",
      "Trainable params: 1,961\n",
      "Non-trainable params: 0\n",
      "_________________________________________________________________\n"
     ]
    }
   ],
   "source": [
    "#REDE 1 - LTSM\n",
    "modelLSTM = keras.models.Sequential()\n",
    "modelLSTM.add(keras.layers.LSTM(16, return_sequences=True, activation='relu', input_shape=(1,1)))\n",
    "modelLSTM.add(keras.layers.LSTM(8, activation='relu'))\n",
    "modelLSTM.add(keras.layers.Dropout(0.2))\n",
    "modelLSTM.add(keras.layers.Dense(1, activation='relu'))\n",
    "modelLSTM.summary()"
   ]
  },
  {
   "cell_type": "code",
   "execution_count": 7,
   "metadata": {},
   "outputs": [
    {
     "name": "stdout",
     "output_type": "stream",
     "text": [
      "Model: \"sequential_1\"\n",
      "_________________________________________________________________\n",
      "Layer (type)                 Output Shape              Param #   \n",
      "=================================================================\n",
      "gru (GRU)                    (None, 1, 16)             912       \n",
      "_________________________________________________________________\n",
      "gru_1 (GRU)                  (None, 8)                 624       \n",
      "_________________________________________________________________\n",
      "dropout_1 (Dropout)          (None, 8)                 0         \n",
      "_________________________________________________________________\n",
      "dense_1 (Dense)              (None, 1)                 9         \n",
      "=================================================================\n",
      "Total params: 1,545\n",
      "Trainable params: 1,545\n",
      "Non-trainable params: 0\n",
      "_________________________________________________________________\n"
     ]
    }
   ],
   "source": [
    "#REDE 2 - GRU\n",
    "modelGRU = keras.models.Sequential()\n",
    "modelGRU.add(keras.layers.GRU(16, return_sequences=True, activation='relu', input_shape=(1,1)))\n",
    "modelGRU.add(keras.layers.GRU(8, activation='relu'))\n",
    "modelGRU.add(keras.layers.Dropout(0.2))\n",
    "modelGRU.add(keras.layers.Dense(1, activation='relu'))\n",
    "modelGRU.summary()"
   ]
  },
  {
   "cell_type": "code",
   "execution_count": 8,
   "metadata": {},
   "outputs": [
    {
     "name": "stdout",
     "output_type": "stream",
     "text": [
      "LSTM\n",
      "MSE de LSTM: 0.008848\n",
      "\n",
      "\n",
      "\n",
      "GRU\n",
      "MSE de GRU: 0.01502\n",
      "\n",
      "\n",
      "\n"
     ]
    }
   ],
   "source": [
    "# Models é um dicionário com o primeiro elemento o conjunto de treino,\n",
    "# o segundo o de teste e por último a rede em si.\n",
    "# Perceba que a rede densa não usa o mesmo input que as RNNs.\n",
    "models = {\n",
    "    \"LSTM\": (rnn_train, rnn_test, modelLSTM),\n",
    "    \"GRU\": (rnn_train, rnn_test, modelGRU),\n",
    "}\n",
    "\n",
    "batch_size = 1\n",
    "epochs = 15\n",
    "learning_rate = 0.001\n",
    "\n",
    "models_mse = {}\n",
    "preds = {}\n",
    "\n",
    "for name, (train_model_data, test_model_data, model) in models.items():\n",
    "    print(name)\n",
    "    seed(2)\n",
    "    set_seed(2)\n",
    "    model.compile(loss='mse', \n",
    "                     optimizer=keras.optimizers.Adam(lr=learning_rate))\n",
    "    hist = model.fit(train_model_data, y_train, epochs=epochs, \n",
    "                 batch_size=batch_size, \n",
    "                 verbose=0, shuffle=False)\n",
    "\n",
    "    pred = model.predict(test_model_data).reshape(-1)\n",
    "    mse = mean_squared_error(y_test, pred)\n",
    "    print(f\"MSE de {name}: {mse:.4}\\n\\n\\n\")\n",
    "    models_mse[name] = mse\n",
    "    preds[name] = pred"
   ]
  },
  {
   "cell_type": "code",
   "execution_count": 25,
   "metadata": {},
   "outputs": [
    {
     "data": {
      "text/plain": [
       "<matplotlib.legend.Legend at 0x1b5ce0b7c08>"
      ]
     },
     "execution_count": 25,
     "metadata": {},
     "output_type": "execute_result"
    },
    {
     "data": {
      "image/png": "[encoded data removed]",
      "text/plain": [
       "<Figure size 432x288 with 1 Axes>"
      ]
     },
     "metadata": {
      "needs_background": "light"
     },
     "output_type": "display_data"
    }
   ],
   "source": [
    "plt.plot(preds['LSTM'], '--',label='LSTM')\n",
    "plt.plot(preds['GRU'], '-',label='GRU')\n",
    "plt.plot(y_test,'-',label='REAL')\n",
    "plt.legend()"
   ]
  },
  {
   "cell_type": "markdown",
   "metadata": {
    "id": "ifQGbqS05Rts"
   },
   "source": [
    "---\n",
    "\n",
    "### Questão 5)\n",
    "\n",
    "Carregue o word embedding `glove_s50` em Português do NILC, conforme visto em aula, e obtenha os word embeddings das palavras: 'celular', 'triste', 'arte', 'livro', 'feliz', 'cansado', 'teclado', 'música', 'estudo', 'escritório'\n",
    "\n",
    "Produza uma projeção em 2 dimensões utilizando o PCA com random_state=1 e visualize os embeddings das palavras em um scatterplot.\n",
    "\n",
    "Compute as distâncias (Euclidiana) entre \"celular\", \"triste\", \"arte\" e as outras palavras descritas acima, considerando a projeção obtida. Quais palavras (excluindo elas mesmas) estão mais proximas?\n",
    "\n",
    "(a) celular-estudo, triste-cansado, arte-música <br>\n",
    "(b) celular-escritório, triste-cansado, arte-livro <br>\n",
    "(c) celular-teclado, triste-feliz, arte-celular <br>\n",
    "(d) celular-teclado, triste-feliz, arte-música <br>"
   ]
  },
  {
   "cell_type": "code",
   "execution_count": null,
   "metadata": {},
   "outputs": [],
   "source": [
    "import os\n",
    "import numpy as np\n",
    "import matplotlib.pyplot as plt\n",
    "import tensorflow as tf\n",
    "import pandas as pd\n",
    "\n",
    "from tensorflow import keras\n",
    "from tensorflow.keras import layers\n",
    "from numpy.random import seed\n",
    "from tensorflow.random import set_seed"
   ]
  },
  {
   "cell_type": "code",
   "execution_count": null,
   "metadata": {},
   "outputs": [],
   "source": [
    "# descomente para baixar na primeira vez\n",
    "#!wget http://143.107.183.175:22980/download.php?file=embeddings/glove/glove_s50.zip"
   ]
  },
  {
   "cell_type": "code",
   "execution_count": null,
   "metadata": {
    "scrolled": true
   },
   "outputs": [],
   "source": [
    "#!mv download.php?file=embeddings%2Fglove%2Fglove_s50.zip glove_s50.zip\n",
    "#!unzip -q glove_s50.zip"
   ]
  },
  {
   "cell_type": "code",
   "execution_count": null,
   "metadata": {},
   "outputs": [],
   "source": [
    "path_to_glove_file = \"./glove_s50.txt\"\n",
    "\n",
    "embeddings_index = {}\n",
    "with open(path_to_glove_file) as f:\n",
    "    for line in f:\n",
    "        word, coefs = line.split(maxsplit=1)\n",
    "        coefs = np.fromstring(coefs, \"f\", sep=\" \")\n",
    "        embeddings_index[word] = coefs\n",
    "\n",
    "print(\"Encontrados %s word vectors.\" % len(embeddings_index))"
   ]
  }
 ],
 "metadata": {
  "accelerator": "GPU",
  "colab": {
   "collapsed_sections": [],
   "name": "RNAP-04-Avaliacao_solucoes.ipynb",
   "provenance": []
  },
  "kernelspec": {
   "display_name": "Python 3",
   "language": "python",
   "name": "python3"
  },
  "language_info": {
   "codemirror_mode": {
    "name": "ipython",
    "version": 3
   },
   "file_extension": ".py",
   "mimetype": "text/x-python",
   "name": "python",
   "nbconvert_exporter": "python",
   "pygments_lexer": "ipython3",
   "version": "3.7.6"
  }
 },
 "nbformat": 4,
 "nbformat_minor": 1
}
