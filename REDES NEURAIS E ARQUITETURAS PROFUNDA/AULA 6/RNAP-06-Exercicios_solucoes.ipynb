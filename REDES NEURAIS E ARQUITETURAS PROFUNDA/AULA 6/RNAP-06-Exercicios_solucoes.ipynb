{
 "cells": [
  {
   "cell_type": "markdown",
   "metadata": {
    "id": "K8CDQUj8yqpq"
   },
   "source": [
    "## MBA em Ciência de Dados\n",
    "# Redes Neurais e Arquiteturas Profundas\n",
    "\n",
    "### <span style=\"color:darkred\">Módulo VI - Redes neurais para dados sequenciais</span>\n",
    "\n",
    "\n",
    "### <span style=\"color:darkred\">Exercícios (com soluções)</span>\n",
    "\n",
    "Moacir Antonelli Ponti\n",
    "\n",
    "CeMEAI - ICMC/USP São Carlos\n",
    "\n",
    "---\n",
    "\n",
    "#### <span style=\"color:red\">Recomenda-se fortemente que os exercícios sejam feitos sem consultar as respostas antecipadamente.</span>\n",
    "\n",
    "---"
   ]
  },
  {
   "cell_type": "markdown",
   "metadata": {
    "id": "xMJ4IFd7yqpt"
   },
   "source": [
    "### Exercício 1)\n",
    "\n",
    "Considerando o treinamento de uma rede neural em que é utilizado um exemplo por vez para adaptar os pesos, qual das alternativas abaixo indica a diferença de uma unidade recorrente para uma não recorrente?\n",
    "\n",
    " (a) Unidades recorrentes consideram que há dependência entre exemplos de cada iteração sucessiva e por isso mantêm uma memória relacionada unicamente ao exemplo imediamente anterior ao atual<br>\n",
    " (b) Unidades recorrentes possuem uma quantidade relativamente menor de parâmetros a serem computados quando comparada às não recorrentes<br>\n",
    " (c) Unidades recorrentes consideram que cada exemplo é independente dos demais e portanto apenas o exemplo atual é considerado na atualização de seus pesos<br>\n",
    " <font color='red'>(d) Unidades recorrentes possuem uma memória interna que com base nos exemplos de iterações anteriores e que influencia na saída da iteração atual.<br></font>\n",
    " \n",
    " **Justificativa**: a memória ou estado interno contém informação de exemplos vistos anteriormente, não apenas do imediatamente anterior. Essa memória resulta na necessidade de aprender mais parâmetros para controlar a combinação entre os dados atuais e os vistos anteriormente.\n"
   ]
  },
  {
   "cell_type": "markdown",
   "metadata": {
    "id": "038CuS5syqqL"
   },
   "source": [
    "---\n",
    "\n",
    "### Exercício 2)\n",
    "\n",
    "Quais dos cenários abaixo não necessitam de redes recorrentes ou que consideram a dependência sequencial dos dados?\n",
    "\n",
    " (a) Tradução de sentenças entre dois idiomas<br>\n",
    " (b) Descrição automática de cenas em um clipe de vídeo<br>\n",
    " <font color='red'>(c) Estimar o valor de um imóvel colocado a venda, com base em suas características</font><br>\n",
    " (d) Predição de valor futuro de uma série temporal relacionada ao preço de uma ação na bolsa de valores<br>\n",
    " \n",
    " **Justificativa**: Das alternativas, a regressão para estimar o valor de um imóvel é a única que não necessita da dependencia sequencial dos dados pois esse tipo de problema tem características estáticas. Sendo um imóvel colocado a venda, não há dados anteriores que possam ajudar imediatamente a melhor modelar o problema"
   ]
  },
  {
   "cell_type": "markdown",
   "metadata": {
    "id": "nJQ0-S3myqqL"
   },
   "source": [
    "---\n",
    "### Exercício 3)\n",
    "\n",
    "Qual a principal diferença entre o \"output gate\" da LSTM e o \"update gate\" da GRU?\n",
    "\n",
    " (a) O update gate (GRU) filtra qual parte do sumário anterior será mantida e qual será descartada, e o output gate (LSTM) filtra qual parte do estado de célula anterior será mantida e qual será descartada<br>\n",
    " (b) O update gate (GRU) realiza uma combinação entre o sumário atual e o anterior enquanto o output gate (LSTM) faz uma combinação entre o estado de célula atual e o anterior <br>\n",
    " <font color='red'>(c) O update gate (GRU) realiza uma combinação entre o sumário atual e o anterior enquanto o output gate (LSTM) utiliza do estado de célula para ponderar uma combinação entre a entrada atual e o sumário anterior</font><br>\n",
    " (d) O update gate (GRU) realiza uma combinação entre a entrada atual e o sumário anterior o sumário atual eenquanto o output gate (LSTM) faz uma combinação entre o estado de célula atual e o anterior<br>\n",
    " \n",
    " **Justificativa**: O output gate realiza a operação $h_t = f(W_o h_{t-1} + W_o x_{t} + b_o) * tanh(C_t)$ e portanto utiliza o estado de célula $C_t$ para poderar a entrada atual $x_t$ e o sumário anterior $h_{t-1}$, já o update gate da GRU não mantêm um estado de célula, apenas combinando um sumário candidato atual $\\tilde{h}_t$ e o anterior $h_{t-1}$."
   ]
  },
  {
   "cell_type": "markdown",
   "metadata": {
    "id": "6exl-MrVyqqT"
   },
   "source": [
    "---\n",
    "### Exercício 4)\n",
    "\n",
    "Representa uma opção menos adequada para o projeto de redes neurais aplicadas a dados sequenciais:\n",
    "\n",
    "(a) O uso de convoluções para capturar o posicionamento local de dados sequenciais <br>\n",
    "<font color='red'>(b) O uso de unidades densas para melhor aprender a relação entre dados correlacionados sequencialmente<br></font>\n",
    "(c) O uso de unidades do tipo recorrente para capturar dependências na ordem em que os exemplos são vistos pela rede neural<br>\n",
    "(d) O uso de mecanismos de atenção para identificar relações entre representações sequenciais<br>\n",
    "\n",
    "**Justificativa**: as unidades densas podem aprender relações entre dados sequenciais, mas é a menos adequada por não possuir um mecanismo explícito para capturar dependências, em particular de mais longo prazo."
   ]
  },
  {
   "cell_type": "markdown",
   "metadata": {},
   "source": [
    "### Exercício 5)\n",
    "\n",
    "O mecanismo de atenção no contexto de dados sequenciais é implementado para:\n",
    "\n",
    "<font color='red'>(a) Capturar a importância de características vistas anteriormente com relação a uma características do exemplo atual<br></font>\n",
    "(b) Simular um tipo de recorrência no aspecto espacial dos dados<br>\n",
    "(c) Ponderar as características de um exemplo de entrada atual com relação a exemplos futuros<br>\n",
    "(d) Realizar seleção de características numa base de dados difícil<br>\n",
    "\n",
    "**Justificativa**: a atenção é computada por meio do alinhamento de características vistas anteriormente com características de um exemplo atual. Ainda que isso substitua a recorrência não há um mecanismo explícito de recorrência, não é possível ponderar com relação a dados futuros, e não está relacionada a seleção de características."
   ]
  },
  {
   "cell_type": "markdown",
   "metadata": {
    "id": "Yfnm0YgLyqqU"
   },
   "source": [
    "---\n",
    "\n",
    "### Exercício 6)\n",
    "\n",
    "Nesse exercício vamos juntar 4 dos modelos que já viram até agora e comparar num problema de regressão de séries temporais:\n",
    "\n",
    "Carregue a base de dados starbucks.csv, com uma divisão hold-out utilizando os 80% exemplos iniciais para treinamento e os restantes para teste e normalize no intervalo 0-1 conforme visto em sala de aula:\n",
    "\n",
    "Considerando 4 redes:\n",
    "- densa: 2 camada densas com 16 e 8 neurônios respectivamente.\n",
    "- LSTM: 2 camada lstm com 16 e 8 neurônios respectivamente.\n",
    "- GRU: 2 camada GRU 16 e 8 neurônios respectivamente.\n",
    "\n",
    "Nos 3 casos, adicione uma camada final densa com 1 neurônio (nossa predição). Isto é, todas as redes terminam com 3 camadas ao todo. Utilize ativação sigmoid em todas as camadas.\n",
    "\n",
    "Observação: Nos casos da LSTM e GRU, para empilhar mais do que uma camada, essas devem ter o parâmetro `return_sequences=True`, exceto a última. Isso faz com que a saída da camada inclua seu estado/sumário. Exemplo com 4 camadas em sequência:\n",
    "\n",
    "`model.add(LSTM(dim, return_sequences=True, input_shape=(1,1)))`<br>\n",
    "`model.add(LSTM(dim, return_sequences=True))`<br>\n",
    "`model.add(LSTM(dim, return_sequences=True))`<br>\n",
    "`model.add(LSTM(dim))`\n",
    "\n",
    "\n",
    "Treine os modelos por 15 épocas, batch size 1, com o otimizador Adam, learning rate 0.001  e loss MSE.\n",
    "Configure a seed 2 antes de treinar cada modelo.\n",
    "\n",
    "Qual a alternativa correta?\n",
    "\n",
    " a) pela rede densa tem mais parâmetros e obtêm o pior resultado de todos por não conseguir aprender tendências temporais.<br>\n",
    " b) a rede LSTM consegue um MSE melhor, mesmo tendo a maior quantidade de parametros entre todas as redes.<br>\n",
    " c) as 3 redes recebem de entrada os dados organizados da mesma maneira e rede LSTM consegue o melhor MSE.<br>\n",
    " d) <span style=\"color: red\"> A rede GRU consegue o melhor MSE, mesmo tendo menos parâmetros que a rede LSTM. </span><br>\n",
    "\n",
    "  **Justificativa**\n",
    "- a) Errado, a rede densa possui menos parametros.\n",
    "- b) Errado, a LSTM tem um MSE inferior às demais; \n",
    "- c) Errado, a LSTM tem um MSE inferior e os dados são organizados de uma maneira diferente para as redes RNNs com relação à densa.\n",
    "- d) Correto."
   ]
  },
  {
   "cell_type": "code",
   "execution_count": 1,
   "metadata": {},
   "outputs": [],
   "source": [
    "import numpy as np\n",
    "import pandas as pd\n",
    "\n",
    "import matplotlib.pyplot as plt\n",
    "import tensorflow as tf\n",
    "from tensorflow import keras\n",
    "\n",
    "from numpy.random import seed\n",
    "from tensorflow.random import set_seed\n",
    "\n",
    "from sklearn.metrics import mean_squared_error\n",
    "from math import sqrt\n",
    "\n",
    "\n",
    "import matplotlib.pyplot as plt\n",
    "try:\n",
    "    import seaborn as sns\n",
    "    sns.set()\n",
    "except:\n",
    "    print(\"Seaborn não encontrado, pularemos o plot final.\")"
   ]
  },
  {
   "cell_type": "code",
   "execution_count": 2,
   "metadata": {},
   "outputs": [
    {
     "data": {
      "text/plain": [
       "[<matplotlib.lines.Line2D at 0x7f323f04b910>]"
      ]
     },
     "execution_count": 2,
     "metadata": {},
     "output_type": "execute_result"
    },
    {
     "data": {
      "image/png": "[encoded data removed]",
      "text/plain": [
       "<Figure size 432x288 with 1 Axes>"
      ]
     },
     "metadata": {},
     "output_type": "display_data"
    }
   ],
   "source": [
    "df = pd.read_csv(\"data/price_of_ground_chuck.csv\")\n",
    "\n",
    "# pega segunda coluna do dataframe\n",
    "var = df.columns.values[1]\n",
    "series = np.array(df[var])\n",
    "plt.plot(series)"
   ]
  },
  {
   "cell_type": "code",
   "execution_count": 3,
   "metadata": {},
   "outputs": [
    {
     "name": "stdout",
     "output_type": "stream",
     "text": [
      "Exemplos de Treinamento:  192\n",
      "Exemplos de Teste:  48\n"
     ]
    },
    {
     "data": {
      "text/plain": [
       "[<matplotlib.lines.Line2D at 0x7f323efb1430>]"
      ]
     },
     "execution_count": 3,
     "metadata": {},
     "output_type": "execute_result"
    },
    {
     "data": {
      "image/png": "[encoded data removed]",
      "text/plain": [
       "<Figure size 432x288 with 1 Axes>"
      ]
     },
     "metadata": {},
     "output_type": "display_data"
    }
   ],
   "source": [
    "N = series.shape[0]\n",
    "porc_treinamento = 80\n",
    "# calcula tamanhos dos dados de treinamento (n1) e teste (n2)\n",
    "n1 = int(series.shape[0]*(porc_treinamento/100.0))\n",
    "n2 = int(series.shape[0]*(1-(porc_treinamento/100.0)))\n",
    "# divide dados de treinamento e teste\n",
    "train, test = series[0:-n2], series[-n2:]\n",
    "print(\"Exemplos de Treinamento: \", n1)\n",
    "print(\"Exemplos de Teste: \", n2)\n",
    "plt.plot(np.arange(0, n1+1), train)\n",
    "plt.plot(np.arange(n1,n1+n2), test)"
   ]
  },
  {
   "cell_type": "code",
   "execution_count": 4,
   "metadata": {},
   "outputs": [],
   "source": [
    "# modifica uma serie temporal tornando-a\n",
    "# um problema de aprendizado supervisionado\n",
    "def timeseries_to_supervised(series, look_back=1):\n",
    "    x = series[:-look_back]\n",
    "    y = np.array(series[look_back:], copy=True)\n",
    "    return x,y\n",
    "\n",
    "def normalize(train, test):\n",
    "    d_max = np.max(train)\n",
    "    d_min = np.min(train)\t\t\n",
    "    return ((train - d_min) / (d_max-d_min)), ((test - d_min) / (d_max-d_min))"
   ]
  },
  {
   "cell_type": "code",
   "execution_count": 5,
   "metadata": {},
   "outputs": [],
   "source": [
    "look_back = 1\n",
    "\n",
    "n_train, n_test = normalize(train, test)\n",
    "\n",
    "x_train, y_train = timeseries_to_supervised(n_train, look_back)\n",
    "x_test, y_test = timeseries_to_supervised(n_test, look_back)\n",
    "\n",
    "# formato deve ser [samples, time steps, features]\n",
    "rnn_train = np.reshape(x_train, (x_train.shape[0], 1, 1))\n",
    "rnn_test = np.reshape(x_test, (x_test.shape[0], 1, 1))"
   ]
  },
  {
   "cell_type": "code",
   "execution_count": 6,
   "metadata": {},
   "outputs": [
    {
     "name": "stdout",
     "output_type": "stream",
     "text": [
      "Model: \"sequential\"\n",
      "_________________________________________________________________\n",
      "Layer (type)                 Output Shape              Param #   \n",
      "=================================================================\n",
      "dense (Dense)                (None, 1, 16)             32        \n",
      "_________________________________________________________________\n",
      "dense_1 (Dense)              (None, 1, 8)              136       \n",
      "_________________________________________________________________\n",
      "dense_2 (Dense)              (None, 1, 1)              9         \n",
      "=================================================================\n",
      "Total params: 177\n",
      "Trainable params: 177\n",
      "Non-trainable params: 0\n",
      "_________________________________________________________________\n"
     ]
    }
   ],
   "source": [
    "seed(2)\n",
    "set_seed(2)\n",
    "modelDense = keras.models.Sequential()\n",
    "modelDense.add(keras.layers.Dense(16, activation='sigmoid', input_shape=(1,1)))\n",
    "modelDense.add(keras.layers.Dense(8, activation='sigmoid'))\n",
    "modelDense.add(keras.layers.Dense(1, activation='sigmoid'))\n",
    "modelDense.summary()"
   ]
  },
  {
   "cell_type": "code",
   "execution_count": 7,
   "metadata": {},
   "outputs": [
    {
     "name": "stdout",
     "output_type": "stream",
     "text": [
      "Model: \"sequential_1\"\n",
      "_________________________________________________________________\n",
      "Layer (type)                 Output Shape              Param #   \n",
      "=================================================================\n",
      "lstm (LSTM)                  (None, 1, 16)             1152      \n",
      "_________________________________________________________________\n",
      "lstm_1 (LSTM)                (None, 8)                 800       \n",
      "_________________________________________________________________\n",
      "dense_3 (Dense)              (None, 1)                 9         \n",
      "=================================================================\n",
      "Total params: 1,961\n",
      "Trainable params: 1,961\n",
      "Non-trainable params: 0\n",
      "_________________________________________________________________\n"
     ]
    }
   ],
   "source": [
    "seed(2)\n",
    "set_seed(2)\n",
    "modelLSTM = keras.models.Sequential()\n",
    "modelLSTM.add(keras.layers.LSTM(16, return_sequences=True, activation='sigmoid', input_shape=(1,1)))\n",
    "modelLSTM.add(keras.layers.LSTM(8, activation='sigmoid'))\n",
    "modelLSTM.add(keras.layers.Dense(1, activation='sigmoid'))\n",
    "modelLSTM.summary()"
   ]
  },
  {
   "cell_type": "code",
   "execution_count": 8,
   "metadata": {},
   "outputs": [
    {
     "name": "stdout",
     "output_type": "stream",
     "text": [
      "Model: \"sequential_2\"\n",
      "_________________________________________________________________\n",
      "Layer (type)                 Output Shape              Param #   \n",
      "=================================================================\n",
      "gru (GRU)                    (None, 1, 16)             912       \n",
      "_________________________________________________________________\n",
      "gru_1 (GRU)                  (None, 8)                 624       \n",
      "_________________________________________________________________\n",
      "dense_4 (Dense)              (None, 1)                 9         \n",
      "=================================================================\n",
      "Total params: 1,545\n",
      "Trainable params: 1,545\n",
      "Non-trainable params: 0\n",
      "_________________________________________________________________\n"
     ]
    }
   ],
   "source": [
    "seed(2)\n",
    "set_seed(2)\n",
    "modelGRU = keras.models.Sequential()\n",
    "modelGRU.add(keras.layers.GRU(16, return_sequences=True, activation='sigmoid', input_shape=(1,1)))\n",
    "modelGRU.add(keras.layers.GRU(8, activation='sigmoid'))\n",
    "modelGRU.add(keras.layers.Dense(1, activation='sigmoid'))\n",
    "modelGRU.summary()"
   ]
  },
  {
   "cell_type": "code",
   "execution_count": 9,
   "metadata": {},
   "outputs": [
    {
     "name": "stdout",
     "output_type": "stream",
     "text": [
      "Dense\n",
      "MSE de Dense: 0.06415\n",
      "\n",
      "\n",
      "\n",
      "LSTM\n",
      "MSE de LSTM: 0.1175\n",
      "\n",
      "\n",
      "\n",
      "GRU\n",
      "MSE de GRU: 0.04773\n",
      "\n",
      "\n",
      "\n"
     ]
    }
   ],
   "source": [
    "# Models é um dicionário com o primeiro elemento o conjunto de treino,\n",
    "# o segundo o de teste e por último a rede em si.\n",
    "# Perceba que a rede densa não usa o mesmo input que as RNNs.\n",
    "models = {\n",
    "    \"Dense\": (x_train, x_test, modelDense),\n",
    "    \"LSTM\": (rnn_train, rnn_test, modelLSTM),\n",
    "    \"GRU\": (rnn_train, rnn_test, modelGRU),\n",
    "}\n",
    "\n",
    "batch_size = 1\n",
    "epochs = 15\n",
    "learning_rate = 0.001\n",
    "\n",
    "models_mse = {}\n",
    "for name, (train_model_data, test_model_data, model) in models.items():\n",
    "    print(name)\n",
    "    seed(2)\n",
    "    set_seed(2)\n",
    "    model.compile(loss='mean_squared_error', \n",
    "                     optimizer=keras.optimizers.Adam(lr=learning_rate),\n",
    "                     metrics=['mae'])\n",
    "    hist = model.fit(train_model_data, y_train, epochs=epochs, \n",
    "                 batch_size=batch_size, \n",
    "                 verbose=0, shuffle=False)\n",
    "    \n",
    "    pred = model.predict(test_model_data).reshape(-1)\n",
    "    mse = mean_squared_error(y_test, pred)\n",
    "    print(f\"MSE de {name}: {mse:.4}\\n\\n\\n\")\n",
    "    models_mse[name] = mse"
   ]
  },
  {
   "cell_type": "code",
   "execution_count": 10,
   "metadata": {},
   "outputs": [
    {
     "data": {
      "text/plain": [
       "{'Dense': 0.06414968948239423,\n",
       " 'LSTM': 0.11754443812569394,\n",
       " 'GRU': 0.04773285639581572}"
      ]
     },
     "execution_count": 10,
     "metadata": {},
     "output_type": "execute_result"
    }
   ],
   "source": [
    "models_mse"
   ]
  },
  {
   "cell_type": "code",
   "execution_count": 11,
   "metadata": {},
   "outputs": [
    {
     "data": {
      "image/png": "[encoded data removed]",
      "text/plain": [
       "<Figure size 432x288 with 1 Axes>"
      ]
     },
     "metadata": {},
     "output_type": "display_data"
    }
   ],
   "source": [
    "try: \n",
    "    results = pd.Series(models_mse)\n",
    "    sns.barplot(y=results.values, x=results.index)\n",
    "    plt.title(\"MSE para cada modelo\")\n",
    "except:\n",
    "    print(\"Seaborn não instalado\")"
   ]
  },
  {
   "cell_type": "markdown",
   "metadata": {
    "id": "J6VfUMk8yqqW"
   },
   "source": [
    "---\n",
    "\n",
    "### Exercício 7)\n",
    "\n",
    "Carregue o arquivo `livro1.txt` conforme indicado abaixo, bem como o word embedding Glove com 50 dimensões em português utilizado em aula. Obtenha uma vetorização de texto com número máximo de tokens 5000 e tamanho da sentença com no máximo 30 tokens. A seguir obtenha a matriz de embeddings a partir das palavras desse arquivo e imprima palavras não convertidas. Qual a natureza da maior parte das palavras em que houveram falhas?\n",
    "\n",
    "<font color='red'>(a) Palavras com hífens, números e em outro idioma<br></font>\n",
    "(b) Nomes próprios e caracteres especiais isolados<br>\n",
    "(c) Palavras com caracteres não codificados corretamente no UTF-16<br>\n",
    "(d) Palavras em outro idioma e caracteres isolados<br>\n",
    "\n",
    " **Justificativa**: Veja abaixo. As palavras que usam hífens como em \"queixava-se\" deveriam ter sido pré-processadas e usando o vectorizer não foram reconhecidas. Também números e palavras em outros idiomas foram encontradas e não existem no vocabulário utilizado."
   ]
  },
  {
   "cell_type": "code",
   "execution_count": 12,
   "metadata": {},
   "outputs": [],
   "source": [
    "import os\n",
    "import numpy as np\n",
    "import matplotlib.pyplot as plt\n",
    "import tensorflow as tf\n",
    "import pandas as pd\n",
    "from tensorflow import keras\n",
    "from tensorflow.keras import layers\n",
    "from tensorflow.keras import models\n",
    "from numpy.random import seed\n",
    "from tensorflow.random import set_seed"
   ]
  },
  {
   "cell_type": "code",
   "execution_count": 13,
   "metadata": {},
   "outputs": [
    {
     "name": "stderr",
     "output_type": "stream",
     "text": [
      "<ipython-input-13-ecfee5d4ff7a>:7: DeprecationWarning: string or file could not be read to its end due to unmatched data; this will raise a ValueError in the future.\n",
      "  coefs = np.fromstring(coefs, \"f\", sep=\" \")\n"
     ]
    },
    {
     "name": "stdout",
     "output_type": "stream",
     "text": [
      "Encontrados 929594 word vectors.\n"
     ]
    }
   ],
   "source": [
    "path_to_glove_file = \"./glove_s50.txt\"\n",
    "\n",
    "embeddings_index = {}\n",
    "with open(path_to_glove_file) as f:\n",
    "    for line in f:\n",
    "        word, coefs = line.split(maxsplit=1)\n",
    "        coefs = np.fromstring(coefs, \"f\", sep=\" \")\n",
    "        embeddings_index[word] = coefs\n",
    "\n",
    "print(\"Encontrados %s word vectors.\" % len(embeddings_index))"
   ]
  },
  {
   "cell_type": "code",
   "execution_count": 14,
   "metadata": {},
   "outputs": [
    {
     "data": {
      "text/html": [
       "<div>\n",
       "<style scoped>\n",
       "    .dataframe tbody tr th:only-of-type {\n",
       "        vertical-align: middle;\n",
       "    }\n",
       "\n",
       "    .dataframe tbody tr th {\n",
       "        vertical-align: top;\n",
       "    }\n",
       "\n",
       "    .dataframe thead th {\n",
       "        text-align: right;\n",
       "    }\n",
       "</style>\n",
       "<table border=\"1\" class=\"dataframe\">\n",
       "  <thead>\n",
       "    <tr style=\"text-align: right;\">\n",
       "      <th></th>\n",
       "      <th>0</th>\n",
       "    </tr>\n",
       "  </thead>\n",
       "  <tbody>\n",
       "    <tr>\n",
       "      <th>0</th>\n",
       "      <td>Os curiosos acontecimentos que são o objeto de...</td>\n",
       "    </tr>\n",
       "    <tr>\n",
       "      <th>1</th>\n",
       "      <td>Segundo a opinião geral, estavam deslocados, j...</td>\n",
       "    </tr>\n",
       "    <tr>\n",
       "      <th>2</th>\n",
       "      <td>À primeira vista, Oran é, na verdade, uma cida...</td>\n",
       "    </tr>\n",
       "    <tr>\n",
       "      <th>3</th>\n",
       "      <td>A própria cidade, vamos admiti-lo, é feia</td>\n",
       "    </tr>\n",
       "    <tr>\n",
       "      <th>4</th>\n",
       "      <td>com seu aspecto tranquilo, é preciso algum tem...</td>\n",
       "    </tr>\n",
       "    <tr>\n",
       "      <th>...</th>\n",
       "      <td>...</td>\n",
       "    </tr>\n",
       "    <tr>\n",
       "      <th>538</th>\n",
       "      <td>Queimava, na verdade, mas nem mais nem menos d...</td>\n",
       "    </tr>\n",
       "    <tr>\n",
       "      <th>539</th>\n",
       "      <td>Toda a cidade estava com febre</td>\n",
       "    </tr>\n",
       "    <tr>\n",
       "      <th>540</th>\n",
       "      <td>Era essa pelo menos a impressão que perseguia ...</td>\n",
       "    </tr>\n",
       "    <tr>\n",
       "      <th>541</th>\n",
       "      <td>Mas essa impressão parecia-lhe insensata</td>\n",
       "    </tr>\n",
       "    <tr>\n",
       "      <th>542</th>\n",
       "      <td>Atribuía-a ao enervamento e às preocupações qu...</td>\n",
       "    </tr>\n",
       "  </tbody>\n",
       "</table>\n",
       "<p>543 rows × 1 columns</p>\n",
       "</div>"
      ],
      "text/plain": [
       "                                                     0\n",
       "0    Os curiosos acontecimentos que são o objeto de...\n",
       "1    Segundo a opinião geral, estavam deslocados, j...\n",
       "2    À primeira vista, Oran é, na verdade, uma cida...\n",
       "3            A própria cidade, vamos admiti-lo, é feia\n",
       "4    com seu aspecto tranquilo, é preciso algum tem...\n",
       "..                                                 ...\n",
       "538  Queimava, na verdade, mas nem mais nem menos d...\n",
       "539                     Toda a cidade estava com febre\n",
       "540  Era essa pelo menos a impressão que perseguia ...\n",
       "541           Mas essa impressão parecia-lhe insensata\n",
       "542  Atribuía-a ao enervamento e às preocupações qu...\n",
       "\n",
       "[543 rows x 1 columns]"
      ]
     },
     "execution_count": 14,
     "metadata": {},
     "output_type": "execute_result"
    }
   ],
   "source": [
    "df = pd.read_csv(\"data/livro1.txt\", delimiter='[\\n\\r]+', header=None, engine='python')\n",
    "df"
   ]
  },
  {
   "cell_type": "code",
   "execution_count": 15,
   "metadata": {},
   "outputs": [
    {
     "name": "stdout",
     "output_type": "stream",
     "text": [
      "[['Os curiosos acontecimentos que são o objeto desta crônica ocorreram em 194x, em Oran']\n",
      " ['Segundo a opinião geral, estavam deslocados, já que saíam um pouco do comum']\n",
      " ['À primeira vista, Oran é, na verdade, uma cidade comum e não passa de uma prefeitura francesa na costa argelina']\n",
      " ['A própria cidade, vamos admiti-lo, é feia']\n",
      " ['com seu aspecto tranquilo, é preciso algum tempo para se perceber o que a torna diferente de tantas outras cidades comerciais em todas as latitudes']]\n",
      "(543, 1)\n"
     ]
    }
   ],
   "source": [
    "texto = np.array(df)\n",
    "print(texto[:5])\n",
    "print(texto.shape)"
   ]
  },
  {
   "cell_type": "code",
   "execution_count": 16,
   "metadata": {},
   "outputs": [],
   "source": [
    "seed(1)\n",
    "set_seed(2)\n",
    "\n",
    "from tensorflow.keras.layers.experimental.preprocessing import TextVectorization\n",
    "\n",
    "vectorizer = TextVectorization(max_tokens=5000, output_sequence_length=30)\n",
    "text_ds = tf.data.Dataset.from_tensor_slices(texto).batch(16)\n",
    "vectorizer.adapt(text_ds)\n",
    "\n",
    "voc = vectorizer.get_vocabulary()\n",
    "word_index = dict(zip(voc, range(len(voc))))"
   ]
  },
  {
   "cell_type": "code",
   "execution_count": 17,
   "metadata": {
    "scrolled": false
   },
   "outputs": [
    {
     "name": "stdout",
     "output_type": "stream",
     "text": [
      "Número de tokens:  2194\n",
      "(2194, 50)\n",
      "\n",
      "[UNK]\n",
      "à\n",
      "É\n",
      "tarrou\n",
      "às\n",
      "À\n",
      "paneloux\n",
      "cottard\n",
      "vigiálo\n",
      "tinhamno\n",
      "respondilhe\n",
      "ransdoc\n",
      "queixavase\n",
      "ocupouse\n",
      "acompanhouo\n",
      "18\n",
      "voltavalhe\n",
      "veiolhe\n",
      "veemse\n",
      "têlos\n",
      "tratarao\n",
      "tinhamlhe\n",
      "sentilo\n",
      "sentiamse\n",
      "sentase\n",
      "saintjust\n",
      "ríchard\n",
      "reúnemse\n",
      "purgava\n",
      "proíboo\n",
      "preparavase\n",
      "perdiase\n",
      "percebese\n",
      "pareceralhe\n",
      "parecelhe\n",
      "ouviamse\n",
      "olhavaos\n",
      "ocupamse\n",
      "obrigavao\n",
      "leválas\n",
      "lançarse\n",
      "jogouse\n",
      "isolálo\n",
      "interrogálo\n",
      "interessamse\n",
      "instalavaa\n",
      "instalamse\n",
      "inquietarse\n",
      "inclinavase\n",
      "gracejadores\n",
      "fungosidades\n",
      "frontdemer\n",
      "fixarase\n",
      "fechála\n",
      "faziao\n",
      "explicarlhe\n",
      "exigiamse\n",
      "esperouos\n",
      "escarrara\n",
      "encontrálos\n",
      "encontrála\n",
      "encontravamnos\n",
      "empoleirarse\n",
      "dãolhe\n",
      "distraise\n",
      "dirseia\n",
      "detevese\n",
      "desconhecese\n",
      "desateio\n",
      "demorouse\n",
      "deitese\n",
      "darmes\n",
      "curvavamse\n",
      "cuidese\n",
      "contemplouo\n",
      "consolálo\n",
      "compreendiase\n",
      "carroleito\n",
      "boulomanes\n",
      "bemeducados\n",
      "bemeducada\n",
      "aviseme\n",
      "atribuíaa\n",
      "atirálos\n",
      "atirouse\n",
      "assuou\n",
      "apressavamse\n",
      "apoiavase\n",
      "apertoulhe\n",
      "amicales\n",
      "alastravamse\n",
      "agravouse\n",
      "agitouse\n",
      "afligiase\n",
      "afastase\n",
      "adormecese\n",
      "admitilo\n",
      "acusavamse\n",
      "acalmese\n",
      "abraçoua\n",
      "abateramse\n",
      "30\n",
      "28\n",
      "25\n",
      "194x\n",
      "17\n",
      "16\n",
      "1\n",
      "Palavras convertidas: 2083 / não convertidas: 109)\n"
     ]
    }
   ],
   "source": [
    "num_tokens = len(voc) + 2\n",
    "print(\"Número de tokens: \", num_tokens)\n",
    "embedding_dim = 50\n",
    "convertidas = 0\n",
    "falhas = 0\n",
    "\n",
    "embedding_matrix = np.zeros((num_tokens, embedding_dim))\n",
    "print(embedding_matrix.shape)\n",
    "for word, i in word_index.items():\n",
    "    embedding_vector = embeddings_index.get(word)\n",
    "    if embedding_vector is not None:\n",
    "        if (embedding_vector.shape[0] != embedding_dim):\n",
    "            falhas += 1\n",
    "        else:\n",
    "            embedding_matrix[i] = embedding_vector\n",
    "            convertidas += 1\n",
    "    else:\n",
    "        falhas += 1\n",
    "        print(word)\n",
    "\n",
    "print(\"Palavras convertidas: %d / não convertidas: %d)\" % (convertidas, falhas))"
   ]
  },
  {
   "cell_type": "markdown",
   "metadata": {},
   "source": [
    "---\n",
    "\n",
    "### Exercício 8)\n",
    "\n",
    "\n",
    "A matriz de embedding  (`embedding_matrix`) contém a mesma representação para uma dada palavra do que o índice de embedding  (`embedding_index`), mas a quantidade de elementos da matriz é limitada ao vocabulário da base de dados que estamos trabalhando. Imprima a quantidade de elementos em ambos para conferir a diferença.\n",
    "\n",
    "Utilize a configuração obtida no exercício anterior (base de texto e word embedding carregados), e obtenha os índices das palavras: `rato`, `médico`, `cidade` e `febre` calculados pelo vetorizador. \n",
    "\n",
    "A seguir, obtenha a soma da diferença absoluta (ou distância L1) entre as representações da palavra `rato` e aqueles obtidos por meio dos índices encontrados das palavras `médico`, `ouro`, `cidade` e `febre` na matriz de embedding (`embedding_matrix`), ou seja, dentre as palavras convertidas.\n",
    "\n",
    "Qual palavra, das citadas acima dentro do vocabulário, é mais próxima de `rato` segundo o word embedding utilizado?\n",
    "\n",
    "<font color='red'>(a) Febre<br></font>\n",
    "(b) Ouro<br>\n",
    "(c) Médico<br>\n",
    "(d) Médico e Febre empatados<br>\n",
    "\n",
    " **Justificativa**: Veja abaixo, a palavra \"ouro\" não está no vocabulário, sendo atribuído o índice 1. Assim, a palavra mais próxima dentro do vocabulário é \"Febre\""
   ]
  },
  {
   "cell_type": "code",
   "execution_count": 18,
   "metadata": {},
   "outputs": [
    {
     "name": "stdout",
     "output_type": "stream",
     "text": [
      "Tamanho do índice:  929594\n",
      "Tamanho da matriz:  2194\n"
     ]
    }
   ],
   "source": [
    "print(\"Tamanho do índice: \", len(embeddings_index))\n",
    "print(\"Tamanho da matriz: \", embedding_matrix.shape[0])"
   ]
  },
  {
   "cell_type": "code",
   "execution_count": 19,
   "metadata": {
    "scrolled": true
   },
   "outputs": [
    {
     "data": {
      "text/plain": [
       "<tf.Tensor: shape=(1, 30), dtype=int64, numpy=\n",
       "array([[ 82,  33,   1,  27, 110,   0,   0,   0,   0,   0,   0,   0,   0,\n",
       "          0,   0,   0,   0,   0,   0,   0,   0,   0,   0,   0,   0,   0,\n",
       "          0,   0,   0,   0]])>"
      ]
     },
     "execution_count": 19,
     "metadata": {},
     "output_type": "execute_result"
    }
   ],
   "source": [
    "output = vectorizer([[\"rato médico ouro cidade febre\"]])\n",
    "output"
   ]
  },
  {
   "cell_type": "code",
   "execution_count": 20,
   "metadata": {},
   "outputs": [
    {
     "name": "stdout",
     "output_type": "stream",
     "text": [
      "Médico:  33.421877262182534\n",
      "Cidade:  39.917805386241525\n",
      "Ouro:  22.207107034511864\n",
      "Febre:  31.358608989976346\n"
     ]
    }
   ],
   "source": [
    "print(\"Médico: \", np.sum(np.abs(embedding_matrix[33]-embedding_matrix[82])))\n",
    "print(\"Cidade: \", np.sum(np.abs(embedding_matrix[27]-embedding_matrix[82])))\n",
    "print(\"Ouro: \", np.sum(np.abs(embedding_matrix[1]-embedding_matrix[82])))\n",
    "print(\"Febre: \", np.sum(np.abs(embedding_matrix[110]-embedding_matrix[82])))"
   ]
  },
  {
   "cell_type": "markdown",
   "metadata": {
    "id": "C1sh5GgYyqqY"
   },
   "source": [
    "---\n",
    "\n",
    "### Exercício 9)\n",
    "\n",
    "Word2Vec com aprendizado de uma rede recorrente para classificação de sentenças.\n",
    "\n",
    "Iremos treinar uma rede neural capaz de diferenciar frases de dois livros diferentes, contidos nos arquivos `livro1.txt` e `livro2.txt`.\n",
    "\n",
    "Com base no processo realizado nos exercícios anteriores, carregue os arquivos citados. Gere o vetorizador com máximo de tokens 5000 e sequência com máximo de 60 elementos/tokens e realize a conversão com os textos de ambos os livros em conjunto.\n",
    "\n",
    "Depois crie o conjunto de treinamento e teste da seguinte forma:\n",
    "* o conjunto de treinamento terá as 75% primeiras frases do livro1 seguida das 75% primeiras frases do livro2\n",
    "* o conjunto de teste terá as 25% frases restantes do livro1 seguida das 25% frases restantes do livro 2\n",
    "* monte vetores com os rótulos de treinamento e teste de forma que livro 1 seja a classe 0 e livro 2 seja a classe 1.\n",
    "\n",
    "Projete uma rede Convolucional-recorrente com as seguintes camadas (todas com ativação ReLU exceto especificado outra)\n",
    "* Embedding layer\n",
    "* Conv1D com 32 filtros de tamanho 2 e zeropadding\n",
    "* GRU com 32 unidades\n",
    "* Densa com 32 unidades\n",
    "* Dropout com taxa 25%\n",
    "* Densa com 1 unidade e ativação sigmoide\n",
    "\n",
    "Configure as sementes com seed(1) e set_seed(2), depois compile com a função entropia cruzada binária, otimizador adam (com seus parâmetros padrão) e compute a acurácia. Treine por 20 épocas com batch size 16.\n",
    "\n",
    "Após o treinamento, a acurácia no conjunto de teste (use o método `evaluate`) está em qual intervalo?\n",
    "\n",
    "(a) [99, 100]<br>\n",
    "(b) [86, 91]<br>\n",
    "<font color='red'>(c) [92, 98]<br></font>\n",
    "(d) [79, 85]<br>\n",
    "\n",
    " **Justificativa**: Veja abaixo o código"
   ]
  },
  {
   "cell_type": "code",
   "execution_count": 21,
   "metadata": {},
   "outputs": [
    {
     "data": {
      "text/html": [
       "<div>\n",
       "<style scoped>\n",
       "    .dataframe tbody tr th:only-of-type {\n",
       "        vertical-align: middle;\n",
       "    }\n",
       "\n",
       "    .dataframe tbody tr th {\n",
       "        vertical-align: top;\n",
       "    }\n",
       "\n",
       "    .dataframe thead th {\n",
       "        text-align: right;\n",
       "    }\n",
       "</style>\n",
       "<table border=\"1\" class=\"dataframe\">\n",
       "  <thead>\n",
       "    <tr style=\"text-align: right;\">\n",
       "      <th></th>\n",
       "      <th>0</th>\n",
       "    </tr>\n",
       "  </thead>\n",
       "  <tbody>\n",
       "    <tr>\n",
       "      <th>0</th>\n",
       "      <td>No princípio era o Verbo e o Verbo estava junt...</td>\n",
       "    </tr>\n",
       "    <tr>\n",
       "      <th>1</th>\n",
       "      <td>Ele estava no princípio junto a Deus e dever d...</td>\n",
       "    </tr>\n",
       "    <tr>\n",
       "      <th>2</th>\n",
       "      <td>Mas videmus nunc per speculum et in aenigmate ...</td>\n",
       "    </tr>\n",
       "    <tr>\n",
       "      <th>3</th>\n",
       "      <td>Chegando ao fim desta minha vida de pecador, e...</td>\n",
       "    </tr>\n",
       "    <tr>\n",
       "      <th>4</th>\n",
       "      <td>Conceda-me o Senhor a graça de ser testemunha ...</td>\n",
       "    </tr>\n",
       "    <tr>\n",
       "      <th>...</th>\n",
       "      <td>...</td>\n",
       "    </tr>\n",
       "    <tr>\n",
       "      <th>96</th>\n",
       "      <td>Pela mole, e pela forma, o Edifício me pareceu...</td>\n",
       "    </tr>\n",
       "    <tr>\n",
       "      <th>97</th>\n",
       "      <td>E é sorte que, sendo uma límpida manhã de inve...</td>\n",
       "    </tr>\n",
       "    <tr>\n",
       "      <th>98</th>\n",
       "      <td>Não direi de modo algum que ela sugerisse sent...</td>\n",
       "    </tr>\n",
       "    <tr>\n",
       "      <th>99</th>\n",
       "      <td>Trouxe-me espanto, e uma inquietação sutil</td>\n",
       "    </tr>\n",
       "    <tr>\n",
       "      <th>100</th>\n",
       "      <td>Deus sabe que não eram fantasmas de minha alma...</td>\n",
       "    </tr>\n",
       "  </tbody>\n",
       "</table>\n",
       "<p>101 rows × 1 columns</p>\n",
       "</div>"
      ],
      "text/plain": [
       "                                                     0\n",
       "0    No princípio era o Verbo e o Verbo estava junt...\n",
       "1    Ele estava no princípio junto a Deus e dever d...\n",
       "2    Mas videmus nunc per speculum et in aenigmate ...\n",
       "3    Chegando ao fim desta minha vida de pecador, e...\n",
       "4    Conceda-me o Senhor a graça de ser testemunha ...\n",
       "..                                                 ...\n",
       "96   Pela mole, e pela forma, o Edifício me pareceu...\n",
       "97   E é sorte que, sendo uma límpida manhã de inve...\n",
       "98   Não direi de modo algum que ela sugerisse sent...\n",
       "99          Trouxe-me espanto, e uma inquietação sutil\n",
       "100  Deus sabe que não eram fantasmas de minha alma...\n",
       "\n",
       "[101 rows x 1 columns]"
      ]
     },
     "execution_count": 21,
     "metadata": {},
     "output_type": "execute_result"
    }
   ],
   "source": [
    "df2 = pd.read_csv(\"data/livro2.txt\", delimiter='[\\n\\r]+', header=None, engine='python')\n",
    "df2"
   ]
  },
  {
   "cell_type": "code",
   "execution_count": 22,
   "metadata": {
    "scrolled": true
   },
   "outputs": [
    {
     "name": "stdout",
     "output_type": "stream",
     "text": [
      "[['No princípio era o Verbo e o Verbo estava junto a Deus, e o Verbo era Deus']\n",
      " ['Ele estava no princípio junto a Deus e dever do monge fiel seria repetir cada dia com salmodiante humildade o único evento imodificável do qual se pode confirmar a incontrovertível verdade']\n",
      " ['Mas videmus nunc per speculum et in aenigmate e a verdade, em vez de cara a cara, manifesta-se deixando às vezes rastros (ai, quão ilegíveis) no erro do mundo, tanto que precisamos calculá-lo, soletrando os verdadeiros sinais, mesmo lá onde nos parecem obscuros e quase entremeados por uma vontade totalmente voltada para o mal']\n",
      " ['Chegando ao fim desta minha vida de pecador, enquanto, encanecido, envelheço como o mundo, à espera de perder-me no abismo sem fundo da divindade silenciosa e deserta, participando da luz inconversível das inteligências angélicas, já entrevado com meu corpo pesado e doente nesta cela do caro mosteiro de Melk, apresto-me a deixar sobre este pergaminho o testemunho dos eventos miríficos e formidáveis a que na juventude me foi dado assistir, repetindo verbatim quanto vi e ouvi, sem me aventurar a tirar disso um desenho, como a deixar aos que virão (se o Anticristo não os preceder) signos de signos, para que sobre eles se exercite a prece da decifração']\n",
      " ['Conceda-me o Senhor a graça de ser testemunha transparente dos acontecimentos que tiveram lugar na abadia da qual é bem e piedoso se cale também afinal o nome, ao findar do ano do Senhor de 1327 em que o imperador Ludovico entrou na Itália para reconstituir a dignidade do sagrado império romano, segundo os desígnios do Altíssimo e a confusão do infame usurpador simoníaco e heresiarca que em Avignon lançou vergonha ao santo nome do apóstolo (falo da alma pecadora de Jacques de Cahors, que os ímpios honraram como João XXII)']]\n",
      "(101, 1)\n"
     ]
    }
   ],
   "source": [
    "texto2 = np.array(df2)\n",
    "print(texto2[:5])\n",
    "print(texto2.shape)"
   ]
  },
  {
   "cell_type": "code",
   "execution_count": 23,
   "metadata": {},
   "outputs": [],
   "source": [
    "texto_integrado = np.vstack((texto, texto2))"
   ]
  },
  {
   "cell_type": "code",
   "execution_count": 24,
   "metadata": {},
   "outputs": [],
   "source": [
    "seed(1)\n",
    "set_seed(2)\n",
    "\n",
    "from tensorflow.keras.layers.experimental.preprocessing import TextVectorization\n",
    "\n",
    "vectorizer2 = TextVectorization(max_tokens=5000, output_sequence_length=60)\n",
    "text_ds2 = tf.data.Dataset.from_tensor_slices(texto_integrado).batch(16)\n",
    "vectorizer2.adapt(text_ds2)\n",
    "\n",
    "voc2 = vectorizer2.get_vocabulary()\n",
    "word_index2 = dict(zip(voc2, range(len(voc2))))"
   ]
  },
  {
   "cell_type": "code",
   "execution_count": 25,
   "metadata": {},
   "outputs": [
    {
     "name": "stdout",
     "output_type": "stream",
     "text": [
      "Número de tokens:  3200\n",
      "(3200, 50)\n",
      "Palavras convertidas: 3025 / não convertidas: 173)\n"
     ]
    }
   ],
   "source": [
    "num_tokens = len(voc2) + 2\n",
    "print(\"Número de tokens: \", num_tokens)\n",
    "embedding_dim = 50\n",
    "convertidas = 0\n",
    "falhas = 0\n",
    "\n",
    "embedding_matrix2 = np.zeros((num_tokens, embedding_dim))\n",
    "print(embedding_matrix2.shape)\n",
    "for word, i in word_index2.items():\n",
    "    embedding_vector2 = embeddings_index.get(word)\n",
    "    if embedding_vector2 is not None:\n",
    "        if (embedding_vector2.shape[0] != embedding_dim):\n",
    "            falhas += 1\n",
    "        else:\n",
    "            embedding_matrix2[i] = embedding_vector2\n",
    "            convertidas += 1\n",
    "    else:\n",
    "        falhas += 1\n",
    "\n",
    "print(\"Palavras convertidas: %d / não convertidas: %d)\" % (convertidas, falhas))"
   ]
  },
  {
   "cell_type": "code",
   "execution_count": 26,
   "metadata": {},
   "outputs": [],
   "source": [
    "from tensorflow.keras.layers import Embedding\n",
    "\n",
    "embedding_layer = Embedding(\n",
    "    num_tokens,\n",
    "    embedding_dim,\n",
    "    embeddings_initializer=keras.initializers.Constant(embedding_matrix2),\n",
    "    trainable=False,\n",
    ")"
   ]
  },
  {
   "cell_type": "code",
   "execution_count": 27,
   "metadata": {},
   "outputs": [
    {
     "name": "stdout",
     "output_type": "stream",
     "text": [
      "Texto 1:\n",
      "train (x,y): 408,408\n",
      "val (x,y): 135,135\n",
      "Texto 2:\n",
      "train (x,y): 76,76\n",
      "val (x,y): 25,25\n"
     ]
    }
   ],
   "source": [
    "validation_split = 0.25\n",
    "\n",
    "# texto 1\n",
    "num_validation1 = int(validation_split * len(texto))\n",
    "num_train1 = int((1-validation_split) * len(texto))\n",
    "\n",
    "x_train1 = texto[:-num_validation1]\n",
    "y_train1 = np.zeros(num_train1+1)\n",
    "x_val1 = texto[-num_validation1:]\n",
    "y_val1 = np.zeros(num_validation1)\n",
    "print(\"Texto 1:\")\n",
    "print(\"train (x,y): %d,%d\" % (x_train1.shape[0], y_train1.shape[0]))\n",
    "print(\"val (x,y): %d,%d\" % (x_val1.shape[0], y_val1.shape[0]))\n",
    "\n",
    "# texto 2\n",
    "num_validation2 = int(validation_split * len(texto2))\n",
    "num_train2 = int((1-validation_split) * len(texto2))\n",
    "x_train2 = texto2[:-num_validation2]\n",
    "y_train2 = np.ones(num_train2+1)\n",
    "x_val2 = texto2[-num_validation2:]\n",
    "y_val2 = np.ones(num_validation2)\n",
    "print(\"Texto 2:\")\n",
    "print(\"train (x,y): %d,%d\" % (x_train2.shape[0], y_train2.shape[0]))\n",
    "print(\"val (x,y): %d,%d\" % (x_val2.shape[0], y_val2.shape[0]))"
   ]
  },
  {
   "cell_type": "code",
   "execution_count": 28,
   "metadata": {},
   "outputs": [
    {
     "name": "stdout",
     "output_type": "stream",
     "text": [
      "(484, 1)\n",
      "(160, 1)\n"
     ]
    }
   ],
   "source": [
    "# juntando textos\n",
    "x_train = np.vstack((x_train1, x_train2))\n",
    "x_val = np.vstack((x_val1, x_val2))\n",
    "print(x_train.shape)\n",
    "print(x_val.shape)\n",
    "\n",
    "y_train = np.concatenate((y_train1, y_train2))\n",
    "y_val = np.concatenate((y_val1, y_val2))"
   ]
  },
  {
   "cell_type": "code",
   "execution_count": 29,
   "metadata": {},
   "outputs": [
    {
     "name": "stdout",
     "output_type": "stream",
     "text": [
      "(484, 30)\n",
      "(160, 30)\n"
     ]
    }
   ],
   "source": [
    "# vetorizacao dos dados\n",
    "x_train_net = vectorizer(np.array([s for s in x_train])).numpy()\n",
    "x_val_net = vectorizer(np.array([s for s in x_val])).numpy()\n",
    "\n",
    "print(x_train_net.shape)\n",
    "print(x_val_net.shape)"
   ]
  },
  {
   "cell_type": "code",
   "execution_count": 30,
   "metadata": {},
   "outputs": [],
   "source": [
    "def GRU_texto():\n",
    "    int_sequences_input = keras.Input(shape=(None,), dtype=\"int64\")\n",
    "    embedded_sequences = embedding_layer(int_sequences_input)\n",
    "    x = layers.Conv1D(32, 2, activation=\"relu\", padding=\"same\")(embedded_sequences)\n",
    "    x = layers.GRU(32, input_shape=(1, 1), activation=\"relu\")(x)\n",
    "    x = layers.Dense(32, activation=\"relu\")(x)\n",
    "    x = layers.Dropout(0.25)(x)\n",
    "    predsGRUout = layers.Dense(1, activation=\"sigmoid\")(x)\n",
    "    modelGRU = keras.Model(inputs=int_sequences_input, outputs=predsGRUout)\n",
    "    return modelGRU"
   ]
  },
  {
   "cell_type": "code",
   "execution_count": 31,
   "metadata": {
    "scrolled": false
   },
   "outputs": [
    {
     "name": "stdout",
     "output_type": "stream",
     "text": [
      "Model: \"functional_1\"\n",
      "_________________________________________________________________\n",
      "Layer (type)                 Output Shape              Param #   \n",
      "=================================================================\n",
      "input_1 (InputLayer)         [(None, None)]            0         \n",
      "_________________________________________________________________\n",
      "embedding (Embedding)        (None, None, 50)          160000    \n",
      "_________________________________________________________________\n",
      "conv1d (Conv1D)              (None, None, 32)          3232      \n",
      "_________________________________________________________________\n",
      "gru_2 (GRU)                  (None, 32)                6336      \n",
      "_________________________________________________________________\n",
      "dense_5 (Dense)              (None, 32)                1056      \n",
      "_________________________________________________________________\n",
      "dropout (Dropout)            (None, 32)                0         \n",
      "_________________________________________________________________\n",
      "dense_6 (Dense)              (None, 1)                 33        \n",
      "=================================================================\n",
      "Total params: 170,657\n",
      "Trainable params: 10,657\n",
      "Non-trainable params: 160,000\n",
      "_________________________________________________________________\n"
     ]
    }
   ],
   "source": [
    "modelGRU = GRU_texto()\n",
    "modelGRU.summary()"
   ]
  },
  {
   "cell_type": "code",
   "execution_count": 32,
   "metadata": {},
   "outputs": [
    {
     "name": "stdout",
     "output_type": "stream",
     "text": [
      "Epoch 1/20\n",
      "31/31 [==============================] - 0s 15ms/step - loss: 0.6776 - acc: 0.8202 - val_loss: 0.6477 - val_acc: 0.8438\n",
      "Epoch 2/20\n",
      "31/31 [==============================] - 0s 6ms/step - loss: 0.6073 - acc: 0.8450 - val_loss: 0.5494 - val_acc: 0.8438\n",
      "Epoch 3/20\n",
      "31/31 [==============================] - 0s 6ms/step - loss: 0.4788 - acc: 0.8533 - val_loss: 0.4188 - val_acc: 0.8438\n",
      "Epoch 4/20\n",
      "31/31 [==============================] - 0s 6ms/step - loss: 0.3522 - acc: 0.8595 - val_loss: 0.3764 - val_acc: 0.8687\n",
      "Epoch 5/20\n",
      "31/31 [==============================] - 0s 6ms/step - loss: 0.2689 - acc: 0.9132 - val_loss: 0.3008 - val_acc: 0.9125\n",
      "Epoch 6/20\n",
      "31/31 [==============================] - 0s 6ms/step - loss: 0.1611 - acc: 0.9463 - val_loss: 0.1885 - val_acc: 0.9312\n",
      "Epoch 7/20\n",
      "31/31 [==============================] - 0s 6ms/step - loss: 0.1645 - acc: 0.9421 - val_loss: 0.1846 - val_acc: 0.9125\n",
      "Epoch 8/20\n",
      "31/31 [==============================] - 0s 6ms/step - loss: 0.0760 - acc: 0.9835 - val_loss: 0.1470 - val_acc: 0.9438\n",
      "Epoch 9/20\n",
      "31/31 [==============================] - 0s 6ms/step - loss: 0.0640 - acc: 0.9835 - val_loss: 0.1333 - val_acc: 0.9563\n",
      "Epoch 10/20\n",
      "31/31 [==============================] - 0s 6ms/step - loss: 0.0407 - acc: 0.9917 - val_loss: 0.1275 - val_acc: 0.9625\n",
      "Epoch 11/20\n",
      "31/31 [==============================] - 0s 6ms/step - loss: 0.0374 - acc: 0.9897 - val_loss: 0.1746 - val_acc: 0.9500\n",
      "Epoch 12/20\n",
      "31/31 [==============================] - 0s 6ms/step - loss: 0.0275 - acc: 0.9917 - val_loss: 0.1545 - val_acc: 0.9625\n",
      "Epoch 13/20\n",
      "31/31 [==============================] - 0s 6ms/step - loss: 0.0181 - acc: 0.9959 - val_loss: 0.2392 - val_acc: 0.9625\n",
      "Epoch 14/20\n",
      "31/31 [==============================] - 0s 6ms/step - loss: 0.0187 - acc: 0.9897 - val_loss: 0.1578 - val_acc: 0.9563\n",
      "Epoch 15/20\n",
      "31/31 [==============================] - 0s 6ms/step - loss: 0.0266 - acc: 0.9917 - val_loss: 0.2501 - val_acc: 0.9500\n",
      "Epoch 16/20\n",
      "31/31 [==============================] - 0s 6ms/step - loss: 0.1032 - acc: 0.9649 - val_loss: 0.2604 - val_acc: 0.9312\n",
      "Epoch 17/20\n",
      "31/31 [==============================] - 0s 6ms/step - loss: 0.0287 - acc: 0.9917 - val_loss: 0.1780 - val_acc: 0.9625\n",
      "Epoch 18/20\n",
      "31/31 [==============================] - 0s 6ms/step - loss: 0.0509 - acc: 0.9876 - val_loss: 0.1147 - val_acc: 0.9500\n",
      "Epoch 19/20\n",
      "31/31 [==============================] - 0s 7ms/step - loss: 0.0091 - acc: 0.9979 - val_loss: 0.1770 - val_acc: 0.9688\n",
      "Epoch 20/20\n",
      "31/31 [==============================] - 0s 6ms/step - loss: 9.6773e-04 - acc: 1.0000 - val_loss: 0.2046 - val_acc: 0.9688\n"
     ]
    },
    {
     "data": {
      "text/plain": [
       "<tensorflow.python.keras.callbacks.History at 0x7f31cde8bd30>"
      ]
     },
     "execution_count": 32,
     "metadata": {},
     "output_type": "execute_result"
    }
   ],
   "source": [
    "seed(1)\n",
    "set_seed(2)\n",
    "\n",
    "modelGRU.compile(\n",
    "    loss=\"binary_crossentropy\", optimizer=\"adam\", metrics=[\"acc\"]\n",
    ")\n",
    "modelGRU.fit(x_train_net, y_train, batch_size=16, epochs=20, validation_data=(x_val_net, y_val))"
   ]
  },
  {
   "cell_type": "code",
   "execution_count": 33,
   "metadata": {},
   "outputs": [
    {
     "name": "stdout",
     "output_type": "stream",
     "text": [
      "Perda validação: 0.204649\n",
      "Acurácia validação: 0.968750\n"
     ]
    }
   ],
   "source": [
    "scores = modelGRU.evaluate(x_val_net,y_val, verbose=0)\n",
    "print(\"Perda validação: %f\" % (scores[0]))\n",
    "print(\"Acurácia validação: %f\" % (scores[1]))"
   ]
  },
  {
   "cell_type": "markdown",
   "metadata": {},
   "source": [
    "---\n",
    "\n",
    "### Exercício 10)\n",
    "\n",
    "Word2Vec com aprendizado de uma rede totalmente convolucional, com convoluções dilatadas para classificação de sentenças. \n",
    "\n",
    "Considere o mesmo problema anteriormente abordado no exercício 9. Agora vamos utilizar uma rede Convolucional com convoluções dilatadas que é um método para reduzir dimensionalidade enquanto mantêm o campo receptivo local, utilizada por exemplo para aplicações com áudio (como a WaveNet), mas também aplicável para outros dados sequenciais. Veja uma explicação em: https://www.paperswithcode.com/method/dilated-convolution\n",
    "\n",
    "A rede deve ter as seguintes camadas\n",
    "* Embedding layer\n",
    "* Conv1D com 32 filtros de tamanho 2, zeropadding e parâmetro `dilation_rate=2`\n",
    "* Conv1D com 32 filtros de tamanho 2, zeropadding e parâmetro `dilation_rate=3`\n",
    "* Conv1D com 64 filtros de tamanho 3, zeropadding e parâmetro `dilation_rate=4`\n",
    "* Dropout com taxa 25%\n",
    "* Densa com 1 unidade e ativação sigmoide\n",
    "\n",
    "Configure as sementes com seed(1) e set_seed(2), depois compile com a função entropia cruzada binária, otimizador adam (com seus parâmetros padrão) e compute a acurácia. Treine por 20 épocas com batch size 16.\n",
    "\n",
    "A acurácia no conjunto de teste (use o método `evaluate`) está em qual intervalo?\n",
    "\n",
    "(a) [99, 100]<br>\n",
    "<font color='red'>(b) [86, 91]<br></font>\n",
    "(c) [92, 98]<br>\n",
    "(d) [79, 85]<br>\n",
    "\n",
    " **Justificativa**: Veja abaixo o código\n"
   ]
  },
  {
   "cell_type": "code",
   "execution_count": 34,
   "metadata": {},
   "outputs": [
    {
     "name": "stdout",
     "output_type": "stream",
     "text": [
      "Model: \"functional_3\"\n",
      "_________________________________________________________________\n",
      "Layer (type)                 Output Shape              Param #   \n",
      "=================================================================\n",
      "input_2 (InputLayer)         [(None, None)]            0         \n",
      "_________________________________________________________________\n",
      "embedding (Embedding)        (None, None, 50)          160000    \n",
      "_________________________________________________________________\n",
      "conv1d_1 (Conv1D)            (None, None, 32)          3232      \n",
      "_________________________________________________________________\n",
      "conv1d_2 (Conv1D)            (None, None, 32)          2080      \n",
      "_________________________________________________________________\n",
      "conv1d_3 (Conv1D)            (None, None, 64)          6208      \n",
      "_________________________________________________________________\n",
      "dropout_1 (Dropout)          (None, None, 64)          0         \n",
      "_________________________________________________________________\n",
      "dense_7 (Dense)              (None, None, 1)           65        \n",
      "=================================================================\n",
      "Total params: 171,585\n",
      "Trainable params: 11,585\n",
      "Non-trainable params: 160,000\n",
      "_________________________________________________________________\n"
     ]
    }
   ],
   "source": [
    "def Conv_texto():\n",
    "    int_sequences_input = keras.Input(shape=(None,), dtype=\"int64\")\n",
    "    embedded_sequences = embedding_layer(int_sequences_input)\n",
    "    x = layers.Conv1D(32, 2, activation=\"relu\", dilation_rate=2, padding=\"same\")(embedded_sequences)\n",
    "    x = layers.Conv1D(32, 2, activation=\"relu\", dilation_rate=3, padding=\"same\")(x)\n",
    "    x = layers.Conv1D(64, 3, activation=\"relu\", dilation_rate=4, padding=\"same\")(x)\n",
    "    x = layers.Dropout(0.25)(x)\n",
    "    predsConvout = layers.Dense(1, activation=\"sigmoid\")(x)\n",
    "    modelConv = keras.Model(inputs=int_sequences_input, outputs=predsConvout)\n",
    "    return modelConv\n",
    "\n",
    "modelConv = Conv_texto()\n",
    "modelConv.summary()"
   ]
  },
  {
   "cell_type": "code",
   "execution_count": 35,
   "metadata": {},
   "outputs": [
    {
     "name": "stdout",
     "output_type": "stream",
     "text": [
      "Epoch 1/20\n",
      "31/31 [==============================] - 0s 5ms/step - loss: 0.6017 - acc: 0.8377 - val_loss: 0.5461 - val_acc: 0.8435\n",
      "Epoch 2/20\n",
      "31/31 [==============================] - 0s 3ms/step - loss: 0.4931 - acc: 0.8431 - val_loss: 0.4190 - val_acc: 0.8435\n",
      "Epoch 3/20\n",
      "31/31 [==============================] - 0s 3ms/step - loss: 0.3844 - acc: 0.8449 - val_loss: 0.3886 - val_acc: 0.8435\n",
      "Epoch 4/20\n",
      "31/31 [==============================] - 0s 3ms/step - loss: 0.3517 - acc: 0.8521 - val_loss: 0.3652 - val_acc: 0.8533\n",
      "Epoch 5/20\n",
      "31/31 [==============================] - 0s 2ms/step - loss: 0.3225 - acc: 0.8684 - val_loss: 0.3470 - val_acc: 0.8681\n",
      "Epoch 6/20\n",
      "31/31 [==============================] - 0s 2ms/step - loss: 0.2946 - acc: 0.8871 - val_loss: 0.3279 - val_acc: 0.8781\n",
      "Epoch 7/20\n",
      "31/31 [==============================] - 0s 2ms/step - loss: 0.2773 - acc: 0.9003 - val_loss: 0.3649 - val_acc: 0.8433\n",
      "Epoch 8/20\n",
      "31/31 [==============================] - 0s 2ms/step - loss: 0.2639 - acc: 0.9024 - val_loss: 0.3127 - val_acc: 0.8883\n",
      "Epoch 9/20\n",
      "31/31 [==============================] - 0s 2ms/step - loss: 0.2388 - acc: 0.9174 - val_loss: 0.3406 - val_acc: 0.8821\n",
      "Epoch 10/20\n",
      "31/31 [==============================] - 0s 3ms/step - loss: 0.2288 - acc: 0.9203 - val_loss: 0.3108 - val_acc: 0.8842\n",
      "Epoch 11/20\n",
      "31/31 [==============================] - 0s 3ms/step - loss: 0.2195 - acc: 0.9245 - val_loss: 0.3048 - val_acc: 0.8906\n",
      "Epoch 12/20\n",
      "31/31 [==============================] - 0s 2ms/step - loss: 0.2117 - acc: 0.9258 - val_loss: 0.3081 - val_acc: 0.8919\n",
      "Epoch 13/20\n",
      "31/31 [==============================] - 0s 2ms/step - loss: 0.2026 - acc: 0.9304 - val_loss: 0.3011 - val_acc: 0.8883\n",
      "Epoch 14/20\n",
      "31/31 [==============================] - 0s 2ms/step - loss: 0.1899 - acc: 0.9351 - val_loss: 0.3048 - val_acc: 0.8904\n",
      "Epoch 15/20\n",
      "31/31 [==============================] - 0s 2ms/step - loss: 0.1949 - acc: 0.9336 - val_loss: 0.3102 - val_acc: 0.8854\n",
      "Epoch 16/20\n",
      "31/31 [==============================] - 0s 2ms/step - loss: 0.1760 - acc: 0.9424 - val_loss: 0.3082 - val_acc: 0.8923\n",
      "Epoch 17/20\n",
      "31/31 [==============================] - 0s 2ms/step - loss: 0.1814 - acc: 0.9387 - val_loss: 0.3068 - val_acc: 0.8910\n",
      "Epoch 18/20\n",
      "31/31 [==============================] - 0s 2ms/step - loss: 0.1679 - acc: 0.9449 - val_loss: 0.3109 - val_acc: 0.8929\n",
      "Epoch 19/20\n",
      "31/31 [==============================] - 0s 3ms/step - loss: 0.1610 - acc: 0.9485 - val_loss: 0.3242 - val_acc: 0.8975\n",
      "Epoch 20/20\n",
      "31/31 [==============================] - 0s 3ms/step - loss: 0.1575 - acc: 0.9487 - val_loss: 0.3389 - val_acc: 0.8956\n"
     ]
    },
    {
     "data": {
      "text/plain": [
       "<tensorflow.python.keras.callbacks.History at 0x7f31cdb2b6a0>"
      ]
     },
     "execution_count": 35,
     "metadata": {},
     "output_type": "execute_result"
    }
   ],
   "source": [
    "seed(1)\n",
    "set_seed(2)\n",
    "\n",
    "modelConv.compile(\n",
    "    loss=\"binary_crossentropy\", optimizer=\"adam\", metrics=[\"acc\"]\n",
    ")\n",
    "modelConv.fit(x_train_net, y_train, batch_size=16, epochs=20, validation_data=(x_val_net, y_val))"
   ]
  },
  {
   "cell_type": "code",
   "execution_count": 36,
   "metadata": {},
   "outputs": [
    {
     "name": "stdout",
     "output_type": "stream",
     "text": [
      "Perda validação: 0.338944\n",
      "Acurácia validação: 0.895625\n"
     ]
    }
   ],
   "source": [
    "scores = modelConv.evaluate(x_val_net,y_val, verbose=0)\n",
    "print(\"Perda validação: %f\" % (scores[0]))\n",
    "print(\"Acurácia validação: %f\" % (scores[1]))"
   ]
  },
  {
   "cell_type": "code",
   "execution_count": null,
   "metadata": {},
   "outputs": [],
   "source": []
  }
 ],
 "metadata": {
  "accelerator": "GPU",
  "colab": {
   "collapsed_sections": [],
   "name": "RNAP-04-Exercicios_solucoes.ipynb",
   "provenance": []
  },
  "kernelspec": {
   "display_name": "Python 3",
   "language": "python",
   "name": "python3"
  },
  "language_info": {
   "codemirror_mode": {
    "name": "ipython",
    "version": 3
   },
   "file_extension": ".py",
   "mimetype": "text/x-python",
   "name": "python",
   "nbconvert_exporter": "python",
   "pygments_lexer": "ipython3",
   "version": "3.8.5"
  }
 },
 "nbformat": 4,
 "nbformat_minor": 1
}
