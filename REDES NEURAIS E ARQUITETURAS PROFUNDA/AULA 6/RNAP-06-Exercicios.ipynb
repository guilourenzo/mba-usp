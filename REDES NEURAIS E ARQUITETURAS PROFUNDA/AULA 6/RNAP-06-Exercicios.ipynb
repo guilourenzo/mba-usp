{
 "cells": [
  {
   "cell_type": "markdown",
   "metadata": {
    "id": "K8CDQUj8yqpq"
   },
   "source": [
    "## MBA em Ciência de Dados\n",
    "# Redes Neurais e Arquiteturas Profundas\n",
    "\n",
    "### <span style=\"color:darkred\">Módulo VI - Redes neurais para dados sequenciais</span>\n",
    "\n",
    "\n",
    "### <span style=\"color:darkred\">Exercícios</span>\n",
    "\n",
    "Moacir Antonelli Ponti\n",
    "\n",
    "CeMEAI - ICMC/USP São Carlos\n",
    "\n",
    "---\n",
    "\n",
    "#### <span style=\"color:red\">Recomenda-se fortemente que os exercícios sejam feitos sem consultar as respostas antecipadamente.</span>\n",
    "\n",
    "---"
   ]
  },
  {
   "cell_type": "markdown",
   "metadata": {
    "id": "xMJ4IFd7yqpt"
   },
   "source": [
    "### Exercício 1)\n",
    "\n",
    "Considerando o treinamento de uma rede neural em que é utilizado um exemplo por vez para adaptar os pesos, qual das alternativas abaixo indica a diferença de uma unidade recorrente para uma não recorrente?\n",
    "\n",
    " (a) Unidades recorrentes consideram que há dependência entre exemplos de cada iteração sucessiva e por isso mantêm uma memória relacionada unicamente ao exemplo imediamente anterior ao atual<br>\n",
    " (b) Unidades recorrentes possuem uma quantidade relativamente menor de parâmetros a serem computados quando comparada às não recorrentes<br>\n",
    " (c) Unidades recorrentes consideram que cada exemplo é independente dos demais e portanto apenas o exemplo atual é considerado na atualização de seus pesos<br>\n",
    "(d) Unidades recorrentes possuem uma memória interna que com base nos exemplos de iterações anteriores e que influencia na saída da iteração atual.<br>"
   ]
  },
  {
   "cell_type": "markdown",
   "metadata": {
    "id": "038CuS5syqqL"
   },
   "source": [
    "---\n",
    "\n",
    "### Exercício 2)\n",
    "\n",
    "Quais dos cenários abaixo não necessitam de redes recorrentes ou que consideram a dependência sequencial dos dados?\n",
    "\n",
    " (a) Tradução de sentenças entre dois idiomas<br>\n",
    " (b) Descrição automática de cenas em um clipe de vídeo<br>\n",
    " (c) Estimar o valor de um imóvel colocado a venda, com base em suas características<br>\n",
    " (d) Predição de valor futuro de uma série temporal relacionada ao preço de uma ação na bolsa de valores<br>\n",
    " "
   ]
  },
  {
   "cell_type": "markdown",
   "metadata": {
    "id": "nJQ0-S3myqqL"
   },
   "source": [
    "---\n",
    "### Exercício 3)\n",
    "\n",
    "Qual a principal diferença entre o \"output gate\" da LSTM e o \"update gate\" da GRU?\n",
    "\n",
    " (a) O update gate (GRU) filtra qual parte do sumário anterior será mantida e qual será descartada, e o output gate (LSTM) filtra qual parte do estado de célula anterior será mantida e qual será descartada<br>\n",
    " (b) O update gate (GRU) realiza uma combinação entre o sumário atual e o anterior enquanto o output gate (LSTM) faz uma combinação entre o estado de célula atual e o anterior <br>\n",
    " (c) O update gate (GRU) realiza uma combinação entre o sumário atual e o anterior enquanto o output gate (LSTM) utiliza do estado de célula para ponderar uma combinação entre a entrada atual e o sumário anterior<br>\n",
    " (d) O update gate (GRU) realiza uma combinação entre a entrada atual e o sumário anterior o sumário atual eenquanto o output gate (LSTM) faz uma combinação entre o estado de célula atual e o anterior<br>\n",
    " "
   ]
  },
  {
   "cell_type": "markdown",
   "metadata": {
    "id": "6exl-MrVyqqT"
   },
   "source": [
    "---\n",
    "### Exercício 4)\n",
    "\n",
    "Representa uma opção menos adequada para o projeto de redes neurais aplicadas a dados sequenciais:\n",
    "\n",
    "(a) O uso de convoluções para capturar o posicionamento local de dados sequenciais <br>\n",
    "(b) O uso de unidades densas para melhor aprender a relação entre dados correlacionados sequencialmente<br>\n",
    "(c) O uso de unidades do tipo recorrente para capturar dependências na ordem em que os exemplos são vistos pela rede neural<br>\n",
    "(d) O uso de mecanismos de atenção para identificar relações entre representações sequenciais<br>\n"
   ]
  },
  {
   "cell_type": "markdown",
   "metadata": {},
   "source": [
    "### Exercício 5)\n",
    "\n",
    "O mecanismo de atenção no contexto de dados sequenciais é implementado para:\n",
    "\n",
    "(a) Capturar a importância de características vistas anteriormente com relação a uma características do exemplo atual<br>\n",
    "(b) Simular um tipo de recorrência no aspecto espacial dos dados<br>\n",
    "(c) Ponderar as características de um exemplo de entrada atual com relação a exemplos futuros<br>\n",
    "(d) Realizar seleção de características numa base de dados difícil<br>\n"
   ]
  },
  {
   "cell_type": "markdown",
   "metadata": {
    "id": "Yfnm0YgLyqqU"
   },
   "source": [
    "---\n",
    "\n",
    "### Exercício 6)\n",
    "\n",
    "Nesse exercício vamos juntar 4 dos modelos que já viram até agora e comparar num problema de regressão de séries temporais:\n",
    "\n",
    "Carregue a base de dados starbucks.csv, com uma divisão hold-out utilizando os 80% exemplos iniciais para treinamento e os restantes para teste e normalize no intervalo 0-1 conforme visto em sala de aula:\n",
    "\n",
    "Considerando 4 redes:\n",
    "- densa: 2 camada densas com 16 e 8 neurônios respectivamente.\n",
    "- LSTM: 2 camada lstm com 16 e 8 neurônios respectivamente.\n",
    "- GRU: 2 camada GRU 16 e 8 neurônios respectivamente.\n",
    "\n",
    "Nos 3 casos, adicione uma camada final densa com 1 neurônio (nossa predição). Isto é, todas as redes terminam com 3 camadas ao todo. Utilize ativação sigmoid em todas as camadas.\n",
    "\n",
    "Observação: Nos casos da LSTM e GRU, para empilhar mais do que uma camada, essas devem ter o parâmetro `return_sequences=True`, exceto a última.  Isso faz com que a saída da camada inclua seu estado/sumário. Exemplo com 4 camadas em sequência:\n",
    "\n",
    "`model.add(LSTM(dim, return_sequences=True, input_shape=(1,1)))`<br>\n",
    "`model.add(LSTM(dim, return_sequences=True))`<br>\n",
    "`model.add(LSTM(dim, return_sequences=True))`<br>\n",
    "`model.add(LSTM(dim))`\n",
    "\n",
    "\n",
    "Treine os modelos por 15 épocas, batch size 1, com o otimizador Adam, learning rate 0.001  e loss MSE.\n",
    "Configure a seed 2 antes de treinar cada modelo.\n",
    "\n",
    "Qual a alternativa correta?\n",
    "\n",
    " a) pela rede densa tem mais parâmetros e obtêm o pior resultado de todos por não conseguir aprender tendências temporais.<br>\n",
    " b) a rede LSTM consegue um MSE melhor, mesmo tendo a maior quantidade de parametros entre todas as redes.<br>\n",
    " c) as 3 redes recebem de entrada os dados organizados da mesma maneira e rede LSTM consegue o melhor MSE.<br>\n",
    " d) A rede GRU consegue o melhor MSE, mesmo tendo menos parâmetros que a rede LSTM.<br>"
   ]
  },
  {
   "cell_type": "code",
   "execution_count": 1,
   "metadata": {},
   "outputs": [],
   "source": [
    "import numpy as np\n",
    "import pandas as pd\n",
    "\n",
    "import matplotlib.pyplot as plt\n",
    "import tensorflow as tf\n",
    "from tensorflow import keras\n",
    "\n",
    "from numpy.random import seed\n",
    "from tensorflow.random import set_seed\n",
    "\n",
    "from sklearn.metrics import mean_squared_error\n",
    "\n",
    "import matplotlib.pyplot as plt"
   ]
  },
  {
   "cell_type": "code",
   "execution_count": 2,
   "metadata": {},
   "outputs": [
    {
     "data": {
      "text/plain": [
       "[<matplotlib.lines.Line2D at 0x7fd86aac2e50>]"
      ]
     },
     "execution_count": 2,
     "metadata": {},
     "output_type": "execute_result"
    },
    {
     "data": {
      "image/png": "[encoded data removed]",
      "text/plain": [
       "<Figure size 432x288 with 1 Axes>"
      ]
     },
     "metadata": {
      "needs_background": "light"
     },
     "output_type": "display_data"
    }
   ],
   "source": [
    "df = pd.read_csv(\"data/price_of_ground_chuck.csv\")\n",
    "\n",
    "# pega segunda coluna do dataframe\n",
    "var = df.columns.values[1]\n",
    "series = np.array(df[var])\n",
    "plt.plot(series)"
   ]
  },
  {
   "cell_type": "markdown",
   "metadata": {
    "id": "J6VfUMk8yqqW"
   },
   "source": [
    "---\n",
    "\n",
    "### Exercício 7)\n",
    "\n",
    "Carregue o arquivo `livro1.txt` conforme indicado abaixo, bem como o word embedding Glove com 50 dimensões em português utilizado em aula. Obtenha uma vetorização de texto com número máximo de tokens 5000 e tamanho da sentença com no máximo 30 tokens. A seguir obtenha a matriz de embeddings a partir das palavras desse arquivo e imprima palavras não convertidas. Qual a natureza da maior parte das palavras em que houveram falhas?\n",
    "\n",
    "(a) Palavras com hífens, números e em outro idioma<br>\n",
    "(b) Nomes próprios e caracteres especiais isolados<br>\n",
    "(c) Palavras com caracteres não codificados corretamente no UTF-16<br>\n",
    "(d) Palavras em outro idioma e caracteres isolados<br>"
   ]
  },
  {
   "cell_type": "code",
   "execution_count": 12,
   "metadata": {},
   "outputs": [],
   "source": [
    "import os\n",
    "import numpy as np\n",
    "import matplotlib.pyplot as plt\n",
    "import tensorflow as tf\n",
    "import pandas as pd\n",
    "from tensorflow import keras\n",
    "from tensorflow.keras import layers\n",
    "from tensorflow.keras import models\n",
    "from numpy.random import seed\n",
    "from tensorflow.random import set_seed"
   ]
  },
  {
   "cell_type": "code",
   "execution_count": 13,
   "metadata": {},
   "outputs": [
    {
     "name": "stderr",
     "output_type": "stream",
     "text": [
      "<ipython-input-13-ecfee5d4ff7a>:7: DeprecationWarning: string or file could not be read to its end due to unmatched data; this will raise a ValueError in the future.\n",
      "  coefs = np.fromstring(coefs, \"f\", sep=\" \")\n"
     ]
    },
    {
     "name": "stdout",
     "output_type": "stream",
     "text": [
      "Encontrados 929594 word vectors.\n"
     ]
    }
   ],
   "source": [
    "path_to_glove_file = \"./glove_s50.txt\"\n",
    "\n",
    "embeddings_index = {}\n",
    "with open(path_to_glove_file) as f:\n",
    "    for line in f:\n",
    "        word, coefs = line.split(maxsplit=1)\n",
    "        coefs = np.fromstring(coefs, \"f\", sep=\" \")\n",
    "        embeddings_index[word] = coefs\n",
    "\n",
    "print(\"Encontrados %s word vectors.\" % len(embeddings_index))"
   ]
  },
  {
   "cell_type": "code",
   "execution_count": 14,
   "metadata": {},
   "outputs": [
    {
     "data": {
      "text/html": [
       "<div>\n",
       "<style scoped>\n",
       "    .dataframe tbody tr th:only-of-type {\n",
       "        vertical-align: middle;\n",
       "    }\n",
       "\n",
       "    .dataframe tbody tr th {\n",
       "        vertical-align: top;\n",
       "    }\n",
       "\n",
       "    .dataframe thead th {\n",
       "        text-align: right;\n",
       "    }\n",
       "</style>\n",
       "<table border=\"1\" class=\"dataframe\">\n",
       "  <thead>\n",
       "    <tr style=\"text-align: right;\">\n",
       "      <th></th>\n",
       "      <th>0</th>\n",
       "    </tr>\n",
       "  </thead>\n",
       "  <tbody>\n",
       "    <tr>\n",
       "      <th>0</th>\n",
       "      <td>Os curiosos acontecimentos que são o objeto de...</td>\n",
       "    </tr>\n",
       "    <tr>\n",
       "      <th>1</th>\n",
       "      <td>Segundo a opinião geral, estavam deslocados, j...</td>\n",
       "    </tr>\n",
       "    <tr>\n",
       "      <th>2</th>\n",
       "      <td>À primeira vista, Oran é, na verdade, uma cida...</td>\n",
       "    </tr>\n",
       "    <tr>\n",
       "      <th>3</th>\n",
       "      <td>A própria cidade, vamos admiti-lo, é feia</td>\n",
       "    </tr>\n",
       "    <tr>\n",
       "      <th>4</th>\n",
       "      <td>com seu aspecto tranquilo, é preciso algum tem...</td>\n",
       "    </tr>\n",
       "    <tr>\n",
       "      <th>...</th>\n",
       "      <td>...</td>\n",
       "    </tr>\n",
       "    <tr>\n",
       "      <th>538</th>\n",
       "      <td>Queimava, na verdade, mas nem mais nem menos d...</td>\n",
       "    </tr>\n",
       "    <tr>\n",
       "      <th>539</th>\n",
       "      <td>Toda a cidade estava com febre</td>\n",
       "    </tr>\n",
       "    <tr>\n",
       "      <th>540</th>\n",
       "      <td>Era essa pelo menos a impressão que perseguia ...</td>\n",
       "    </tr>\n",
       "    <tr>\n",
       "      <th>541</th>\n",
       "      <td>Mas essa impressão parecia-lhe insensata</td>\n",
       "    </tr>\n",
       "    <tr>\n",
       "      <th>542</th>\n",
       "      <td>Atribuía-a ao enervamento e às preocupações qu...</td>\n",
       "    </tr>\n",
       "  </tbody>\n",
       "</table>\n",
       "<p>543 rows × 1 columns</p>\n",
       "</div>"
      ],
      "text/plain": [
       "                                                     0\n",
       "0    Os curiosos acontecimentos que são o objeto de...\n",
       "1    Segundo a opinião geral, estavam deslocados, j...\n",
       "2    À primeira vista, Oran é, na verdade, uma cida...\n",
       "3            A própria cidade, vamos admiti-lo, é feia\n",
       "4    com seu aspecto tranquilo, é preciso algum tem...\n",
       "..                                                 ...\n",
       "538  Queimava, na verdade, mas nem mais nem menos d...\n",
       "539                     Toda a cidade estava com febre\n",
       "540  Era essa pelo menos a impressão que perseguia ...\n",
       "541           Mas essa impressão parecia-lhe insensata\n",
       "542  Atribuía-a ao enervamento e às preocupações qu...\n",
       "\n",
       "[543 rows x 1 columns]"
      ]
     },
     "execution_count": 14,
     "metadata": {},
     "output_type": "execute_result"
    }
   ],
   "source": [
    "df = pd.read_csv(\"data/livro1.txt\", delimiter='[\\n\\r]+', header=None, engine='python')\n",
    "df"
   ]
  },
  {
   "cell_type": "code",
   "execution_count": 15,
   "metadata": {
    "scrolled": true
   },
   "outputs": [
    {
     "name": "stdout",
     "output_type": "stream",
     "text": [
      "[['Os curiosos acontecimentos que são o objeto desta crônica ocorreram em 194x, em Oran']\n",
      " ['Segundo a opinião geral, estavam deslocados, já que saíam um pouco do comum']\n",
      " ['À primeira vista, Oran é, na verdade, uma cidade comum e não passa de uma prefeitura francesa na costa argelina']\n",
      " ['A própria cidade, vamos admiti-lo, é feia']\n",
      " ['com seu aspecto tranquilo, é preciso algum tempo para se perceber o que a torna diferente de tantas outras cidades comerciais em todas as latitudes']]\n",
      "(543, 1)\n"
     ]
    }
   ],
   "source": [
    "texto = np.array(df)\n",
    "print(texto[:5])\n",
    "print(texto.shape)"
   ]
  },
  {
   "cell_type": "markdown",
   "metadata": {},
   "source": [
    "---\n",
    "\n",
    "### Exercício 8)\n",
    "\n",
    "\n",
    "A matriz de embedding  (`embedding_matrix`) contém a mesma representação para uma dada palavra do que o índice de embedding  (`embedding_index`), mas a quantidade de elementos da matriz é limitada ao vocabulário da base de dados que estamos trabalhando. Imprima a quantidade de elementos em ambos para conferir a diferença.\n",
    "\n",
    "Utilize a configuração obtida no exercício anterior (base de texto e word embedding carregados), e obtenha os índices das palavras: `rato`, `médico`, `cidade` e `febre` calculados pelo vetorizador. \n",
    "\n",
    "A seguir, obtenha a soma da diferença absoluta (ou distância L1) entre as representações da palavra `rato` e aqueles obtidos por meio dos índices encontrados das palavras `médico`, `ouro`, `cidade` e `febre` na matriz de embedding (`embedding_matrix`), ou seja, dentre as palavras convertidas.\n",
    "\n",
    "Qual palavra, das citadas acima dentro do vocabulário, é mais próxima de `rato` segundo o word embedding utilizado?\n",
    "\n",
    "(a) Febre<br>\n",
    "(b) Ouro<br>\n",
    "(c) Médico<br>\n",
    "(d) Médico e Febre empatados<br>\n"
   ]
  },
  {
   "cell_type": "code",
   "execution_count": 5,
   "metadata": {},
   "outputs": [],
   "source": [
    "# verificar tamanho do indice e da matriz"
   ]
  },
  {
   "cell_type": "code",
   "execution_count": 6,
   "metadata": {
    "scrolled": true
   },
   "outputs": [],
   "source": [
    "# vetorizar palavras"
   ]
  },
  {
   "cell_type": "code",
   "execution_count": 7,
   "metadata": {},
   "outputs": [],
   "source": [
    "# computar distancias"
   ]
  },
  {
   "cell_type": "markdown",
   "metadata": {
    "id": "C1sh5GgYyqqY"
   },
   "source": [
    "---\n",
    "\n",
    "### Exercício 9)\n",
    "\n",
    "Word2Vec com aprendizado de uma rede recorrente para classificação de sentenças. \n",
    "\n",
    "Iremos treinar uma rede neural capaz de diferenciar frases de dois livros diferentes, contidos nos arquivos `livro1.txt` e `livro2.txt`.\n",
    "\n",
    "Com base no processo realizado nos exercícios anteriores, carregue os arquivos citados. Gere o vetorizador com máximo de tokens 5000 e sequência com máximo de 60 elementos/tokens e realize a conversão com os textos de ambos os livros em conjunto (dica: usar `np.vstack()` para empilhar as frases dos dois livros).\n",
    "\n",
    "Depois crie o conjunto de treinamento e teste da seguinte forma:\n",
    "* o conjunto de treinamento terá as 75% primeiras frases do livro1 seguida das 75% primeiras frases do livro2\n",
    "* o conjunto de teste terá as 25% frases restantes do livro1 seguida das 25% frases restantes do livro 2\n",
    "* monte vetores com os rótulos de treinamento e teste de forma que livro 1 seja a classe 0 e livro 2 seja a classe 1.\n",
    "\n",
    "Projete uma rede Convolucional-recorrente com as seguintes camadas (todas com ativação ReLU exceto especificado outra)\n",
    "* Embedding layer\n",
    "* Conv1D com 32 filtros de tamanho 2 e zeropadding\n",
    "* GRU com 32 unidades\n",
    "* Densa com 32 unidades\n",
    "* Dropout com taxa 25%\n",
    "* Densa com 1 unidade e ativação sigmoide\n",
    "\n",
    "Configure as sementes com seed(1) e set_seed(2), depois compile com a função entropia cruzada binária, otimizador adam (com seus parâmetros padrão) e compute a acurácia. Treine por 20 épocas com batch size 16.\n",
    "\n",
    "Após o treinamento, a acurácia no conjunto de teste (use o método `evaluate`) está em qual intervalo?\n",
    "\n",
    "(a) [99, 100]<br>\n",
    "(b) [86, 91]<br>\n",
    "(c) [92, 98]<br>\n",
    "(d) [79, 85]<br>\n"
   ]
  },
  {
   "cell_type": "code",
   "execution_count": 9,
   "metadata": {},
   "outputs": [],
   "source": [
    "# carregar livros em um unico array\n",
    "# criar vetorizador\n",
    "# criar conjuntos de treinamento e teste\n",
    "# vetorizar conjuntos\n",
    "# projetar rede\n",
    "# configurar sementes, compilar e treinar\n",
    "# avaliar acurácia de teste"
   ]
  },
  {
   "cell_type": "markdown",
   "metadata": {},
   "source": [
    "---\n",
    "\n",
    "### Exercício 10)\n",
    "\n",
    "Word2Vec com aprendizado de uma rede totalmente convolucional, com convoluções dilatadas para classificação de sentenças. \n",
    "\n",
    "Considere o mesmo problema anteriormente abordado no exercício 9. Agora vamos utilizar uma rede Convolucional com convoluções dilatadas que é um método para reduzir dimensionalidade enquanto mantêm o campo receptivo local, utilizada por exemplo para aplicações com áudio (como a WaveNet), mas também aplicável para outros dados sequenciais. Veja uma explicação em: https://www.paperswithcode.com/method/dilated-convolution\n",
    "\n",
    "A rede deve ter as seguintes camadas\n",
    "* Embedding layer\n",
    "* Conv1D com 32 filtros de tamanho 2, zeropadding e parâmetro `dilation_rate=2`\n",
    "* Conv1D com 32 filtros de tamanho 2, zeropadding e parâmetro `dilation_rate=3`\n",
    "* Conv1D com 64 filtros de tamanho 3, zeropadding e parâmetro `dilation_rate=4`\n",
    "* Dropout com taxa 25%\n",
    "* Densa com 1 unidade e ativação sigmoide\n",
    "\n",
    "Configure as sementes com seed(1) e set_seed(2), depois compile com a função entropia cruzada binária, otimizador adam (com seus parâmetros padrão) e compute a acurácia. Treine por 20 épocas com batch size 16.\n",
    "\n",
    "A acurácia no conjunto de teste (use o método `evaluate`) está em qual intervalo?\n",
    "\n",
    "(a) [99, 100]<br>\n",
    "(b) [86, 91]<br>\n",
    "(c) [92, 98]<br>\n",
    "(d) [79, 85]<br>"
   ]
  },
  {
   "cell_type": "code",
   "execution_count": 10,
   "metadata": {},
   "outputs": [],
   "source": [
    "# projetar rede\n",
    "# configurar sementes, compilar, treinar\n",
    "# avaliar acurácia no teste"
   ]
  }
 ],
 "metadata": {
  "accelerator": "GPU",
  "colab": {
   "collapsed_sections": [],
   "name": "RNAP-04-Exercicios_solucoes.ipynb",
   "provenance": []
  },
  "kernelspec": {
   "display_name": "Python 3",
   "language": "python",
   "name": "python3"
  },
  "language_info": {
   "codemirror_mode": {
    "name": "ipython",
    "version": 3
   },
   "file_extension": ".py",
   "mimetype": "text/x-python",
   "name": "python",
   "nbconvert_exporter": "python",
   "pygments_lexer": "ipython3",
   "version": "3.8.5"
  }
 },
 "nbformat": 4,
 "nbformat_minor": 1
}
