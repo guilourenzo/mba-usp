{
  "nbformat": 4,
  "nbformat_minor": 0,
  "metadata": {
    "colab": {
      "name": "FeatureExtraction.ipynb",
      "provenance": []
    },
    "kernelspec": {
      "name": "python3",
      "display_name": "Python 3"
    },
    "accelerator": "GPU"
  },
  "cells": [
    {
      "cell_type": "markdown",
      "metadata": {
        "id": "pFHWKqoXETFr"
      },
      "source": [
        "# **Módulo 4 (Estratégias de treinamento e transferência de aprendizado)** \n",
        "\n",
        "**Prática 1:** Extração de características com ResNet50 pré-treinada, redução de dimensionalidade, fusão de atributos e classificação com SVM\n",
        "\n",
        "Antes de iniciar a execução do código faça a seguinte alteração:\n",
        "Menu: **Ambiente de execução -> Alterar o tipo de ambiente de execução -> GPU**"
      ]
    },
    {
      "cell_type": "code",
      "metadata": {
        "id": "I_6XXIzTEMfl"
      },
      "source": [
        "import numpy as np\n",
        "from PIL import Image\n",
        "\n",
        "from keras.datasets import cifar10\n",
        "from keras.models import Model\n",
        "from keras.applications import resnet50\n",
        "\n",
        "from sklearn.decomposition import PCA\n",
        "from sklearn.svm import SVC\n",
        "from sklearn.metrics import accuracy_score"
      ],
      "execution_count": 1,
      "outputs": []
    },
    {
      "cell_type": "markdown",
      "metadata": {
        "id": "HB6BoYJYFGS6"
      },
      "source": [
        "A função **lowSampleDataset(X,Y)** apenas reduz a quantidade de exemplos para que a execução seja mais rápida em nosso exemplo!"
      ]
    },
    {
      "cell_type": "code",
      "metadata": {
        "id": "VYDQUnkzFHiU"
      },
      "source": [
        "def lowSampleDataset(X, Y):\n",
        "    perm = np.random.permutation(X.shape[0])\n",
        "    X = X[perm[0 : (int)(X.shape[0] * (5/100))]]\n",
        "    Y = Y[perm[0 : (int)(Y.shape[0] * (5/100))]]\n",
        "    return X, Y"
      ],
      "execution_count": 2,
      "outputs": []
    },
    {
      "cell_type": "markdown",
      "metadata": {
        "id": "QjYuEdJ9FJ2O"
      },
      "source": [
        "**Pré-processamento:**\n",
        "\n",
        "1.   Carregamos o dataset CIFAR10\n",
        "2.   Reduzimos a quantidade de exemplos\n",
        "1.   Alteramos a resolução dos exemplos de acordo com o input da ResNet50"
      ]
    },
    {
      "cell_type": "code",
      "metadata": {
        "id": "J-rei2LhFObo",
        "outputId": "525ea0da-dc4d-4d64-cb18-aa2f13ec5a44",
        "colab": {
          "base_uri": "https://localhost:8080/",
          "height": 101
        }
      },
      "source": [
        "print(\"Loading CIFAR10 images ...\")\n",
        "(Xtrain, Ytrain), (Xtest, Ytest) = cifar10.load_data()\n",
        "\n",
        "print('\\tOriginal training set shape: ', Xtrain.shape)\n",
        "print('\\tOriginal testing set shape: ', Xtest.shape)\n",
        "\n",
        "Xtrain, Ytrain = lowSampleDataset(Xtrain, Ytrain)\n",
        "Xtest, Ytest = lowSampleDataset(Xtest, Ytest)\n",
        "\n",
        "X = []\n",
        "for i in range(0, Xtrain.shape[0]):\n",
        "    X.append(np.array(Image.fromarray(Xtrain[i]).resize(size=(224,224))))\n",
        "Xtrain = np.array(X)\n",
        "\n",
        "X = []\n",
        "for i in range(0, Xtest.shape[0]):\n",
        "    X.append(np.array(Image.fromarray(Xtest[i]).resize(size=(224,224))))\n",
        "Xtest = np.array(X)\n",
        "\n",
        "print('\\tTraining set shape: ', Xtrain.shape)\n",
        "print('\\tTesting set shape: ', Xtest.shape)"
      ],
      "execution_count": 3,
      "outputs": [
        {
          "output_type": "stream",
          "text": [
            "Loading CIFAR10 images ...\n",
            "\tOriginal training set shape:  (50000, 32, 32, 3)\n",
            "\tOriginal testing set shape:  (10000, 32, 32, 3)\n",
            "\tTraining set shape:  (2500, 224, 224, 3)\n",
            "\tTesting set shape:  (500, 224, 224, 3)\n"
          ],
          "name": "stdout"
        }
      ]
    },
    {
      "cell_type": "markdown",
      "metadata": {
        "id": "T-sZohhMFidA"
      },
      "source": [
        "**Extração de características:**\n",
        "\n",
        "Carregamos a ResNet50 com os pesos da ImageNet e extraímos características utilizando a camada de pré-predição (-2)"
      ]
    },
    {
      "cell_type": "code",
      "metadata": {
        "id": "RbNMdoigFlED",
        "outputId": "384333b4-260f-49e4-91a0-b91869a2ac8b",
        "colab": {
          "base_uri": "https://localhost:8080/",
          "height": 67
        }
      },
      "source": [
        "print(\"Loading the ResNet50-ImageNet model ...\")\n",
        "model = resnet50.ResNet50(include_top=True, weights='imagenet', input_shape=(224, 224, 3), classes=1000)\n",
        "#model.summary()\n",
        "\n",
        "model1 = Model(inputs=model.input, outputs=model.get_layer(index=-2).output)\n",
        "\n",
        "prediction = np.array(model1.predict(Xtrain))\n",
        "Ftrain1 = np.reshape(prediction, (prediction.shape[0], prediction.shape[1]))\n",
        "\n",
        "prediction = np.array(model1.predict(Xtest))\n",
        "Ftest1 = np.reshape(prediction, (prediction.shape[0], prediction.shape[1]))\n",
        "\n",
        "print('\\tFeatures training shape: ', Ftrain1.shape)\n",
        "print('\\tFeatures testing shape: ', Ftest1.shape)"
      ],
      "execution_count": 4,
      "outputs": [
        {
          "output_type": "stream",
          "text": [
            "Loading the ResNet50-ImageNet model ...\n",
            "\tFeatures training shape:  (2500, 2048)\n",
            "\tFeatures testing shape:  (500, 2048)\n"
          ],
          "name": "stdout"
        }
      ]
    },
    {
      "cell_type": "markdown",
      "metadata": {
        "id": "peSMC3j2mGnf"
      },
      "source": [
        "**Nova extração de características:**\n",
        "\n",
        "A partir da ResNet50 com os pesos da ImageNet e extraímos características utilizando a camada anterior à de pré-predição (-3)"
      ]
    },
    {
      "cell_type": "code",
      "metadata": {
        "id": "IB0gDwy2ikw-",
        "outputId": "c6a4b6b7-941c-4d1e-b295-1d55fc84ad17",
        "colab": {
          "base_uri": "https://localhost:8080/",
          "height": 50
        }
      },
      "source": [
        "model2 = Model(inputs=model.input, outputs=model.get_layer(index=-3).output)\n",
        "\n",
        "prediction = np.array(model2.predict(Xtrain))\n",
        "Ftrain2 = np.reshape(prediction, (prediction.shape[0], prediction.shape[1]*prediction.shape[2]*prediction.shape[3]))\n",
        "\n",
        "prediction = np.array(model2.predict(Xtest))\n",
        "Ftest2 = np.reshape(prediction, (prediction.shape[0], prediction.shape[1]*prediction.shape[2]*prediction.shape[3]))\n",
        "\n",
        "print('\\tFeatures training shape: ', Ftrain2.shape)\n",
        "print('\\tFeatures testing shape: ', Ftest2.shape)"
      ],
      "execution_count": 5,
      "outputs": [
        {
          "output_type": "stream",
          "text": [
            "\tFeatures training shape:  (2500, 100352)\n",
            "\tFeatures testing shape:  (500, 100352)\n"
          ],
          "name": "stdout"
        }
      ]
    },
    {
      "cell_type": "markdown",
      "metadata": {
        "id": "pnShqeTiI8mF"
      },
      "source": [
        "**Redução de dimensionalidade:**\n",
        "\n",
        "As características extraídas da camada (-2) possuem dimensão de 2048. Em alguns casos, a dimensionalidade pode ser muito alta, acarretando em muito processamento, como a camada (-3) com 100352 atributos. Uma solução para agilizar o processo é a redução de dimensionalidade."
      ]
    },
    {
      "cell_type": "code",
      "metadata": {
        "id": "NVOY8L-iFwTz",
        "outputId": "5ca2873a-5970-453c-d255-fbaa8f5746db",
        "colab": {
          "base_uri": "https://localhost:8080/",
          "height": 118
        }
      },
      "source": [
        "print(\"Dimensionality reduction with PCA ...\")\n",
        "pca = PCA(n_components=256)\n",
        "Ftrain1 = pca.fit_transform(Ftrain1)\n",
        "Ftest1 = pca.transform(Ftest1)\n",
        "\n",
        "print('\\tFeatures training 1 shape: ', Ftrain1.shape)\n",
        "print('\\tFeatures testing 1 shape: ', Ftest1.shape)\n",
        "\n",
        "print(\"Dimensionality reduction with PCA ...\")\n",
        "Ftrain2 = pca.fit_transform(Ftrain2)\n",
        "Ftest2 = pca.transform(Ftest2)\n",
        "\n",
        "print('\\tFeatures training 2 shape: ', Ftrain2.shape)\n",
        "print('\\tFeatures testing 2 shape: ', Ftest2.shape)"
      ],
      "execution_count": 6,
      "outputs": [
        {
          "output_type": "stream",
          "text": [
            "Dimensionality reduction with PCA ...\n",
            "\tFeatures training 1 shape:  (2500, 256)\n",
            "\tFeatures testing 1 shape:  (500, 256)\n",
            "Dimensionality reduction with PCA ...\n",
            "\tFeatures training 2 shape:  (2500, 256)\n",
            "\tFeatures testing 2 shape:  (500, 256)\n"
          ],
          "name": "stdout"
        }
      ]
    },
    {
      "cell_type": "markdown",
      "metadata": {
        "id": "hfYzRJ5ZJbD3"
      },
      "source": [
        "**Classificação:**\n",
        "\n",
        "Vamos aplicar o SVM a cada um dos conjuntos de características separadamente, ou seja, primeiramente para a camada -2 e, logo após, para a camada -3."
      ]
    },
    {
      "cell_type": "code",
      "metadata": {
        "id": "5iz0dR_7F5zB",
        "outputId": "747c549b-62ed-4326-f90f-008100955341",
        "colab": {
          "base_uri": "https://localhost:8080/",
          "height": 67
        }
      },
      "source": [
        "print(\"Classification with Linear SVM ...\")\n",
        "svm = SVC(kernel='linear')\n",
        "svm.fit(Ftrain1, np.ravel(Ytrain, order='C'))\n",
        "result = svm.predict(Ftest1)\n",
        "\n",
        "acc = accuracy_score(result, np.ravel(Ytest, order='C'))\n",
        "print(\"\\tAccuracy Linear 1 SVM: %0.4f\" % acc)\n",
        "\n",
        "svm.fit(Ftrain2, np.ravel(Ytrain, order='C'))\n",
        "result = svm.predict(Ftest2)\n",
        "\n",
        "acc = accuracy_score(result, np.ravel(Ytest, order='C'))\n",
        "print(\"\\tAccuracy Linear 2 SVM: %0.4f\" % acc)"
      ],
      "execution_count": 7,
      "outputs": [
        {
          "output_type": "stream",
          "text": [
            "Classification with Linear SVM ...\n",
            "\tAccuracy Linear 1 SVM: 0.7660\n",
            "\tAccuracy Linear 2 SVM: 0.8060\n"
          ],
          "name": "stdout"
        }
      ]
    },
    {
      "cell_type": "markdown",
      "metadata": {
        "id": "qpBmXrC0m5t_"
      },
      "source": [
        "**Fusão de atributos:**\n",
        "Tambem podemos realizar a fusão de mapas de características, por meio da concatenação ou qualquer outro processo."
      ]
    },
    {
      "cell_type": "code",
      "metadata": {
        "id": "mh0-VAt2ksgU",
        "outputId": "6f65cdb4-a000-4a05-f004-1a137516bd98",
        "colab": {
          "base_uri": "https://localhost:8080/",
          "height": 67
        }
      },
      "source": [
        "Ftrain3 = np.concatenate((Ftrain1, Ftrain2), axis=1)\n",
        "Ftest3 = np.concatenate((Ftest2, Ftest2), axis=1)\n",
        "\n",
        "Ftrain3 = pca.fit_transform(Ftrain3)\n",
        "Ftest3 = pca.transform(Ftest3)\n",
        "\n",
        "print('\\tFeatures training 3 shape: ', Ftrain3.shape)\n",
        "print('\\tFeatures testing 3 shape: ', Ftest3.shape)\n",
        "\n",
        "svm.fit(Ftrain3, np.ravel(Ytrain, order='C'))\n",
        "result = svm.predict(Ftest3)\n",
        "\n",
        "acc = accuracy_score(result, np.ravel(Ytest, order='C'))\n",
        "print(\"\\tAccuracy Linear 3 SVM: %0.4f\" % acc)\n"
      ],
      "execution_count": 8,
      "outputs": [
        {
          "output_type": "stream",
          "text": [
            "\tFeatures training 3 shape:  (2500, 256)\n",
            "\tFeatures testing 3 shape:  (500, 256)\n",
            "\tAccuracy Linear 3 SVM: 0.7940\n"
          ],
          "name": "stdout"
        }
      ]
    },
    {
      "cell_type": "markdown",
      "metadata": {
        "id": "SkhhxoOnnEm_"
      },
      "source": [
        "**Dicas:**\n",
        "\n",
        "1.   É altamente recomendável investigar camadas anteriores à de pré-predição, pois podem apresentar melhor performance que a camada de pré-predição. Comumente na literatura, essas camadas são ignoradas.\n",
        "2.   É observável em experimentos que datasets com aparência visual de baixo nível (bordas e cores, por exemplo) podem ser beneficiar com a extração de características de camadas iniciais. Entretanto, essas camadas possuem alta dimensionalidade e, consequentemente, requerem alto poder computacional.\n",
        "1.   A partir da extração de características diversos processos podem ser aplicados às características: redução de dimensionalidade, fusão, pós-processamento com alinhamento e, até, mesmo como entrada de MLPs.\n",
        "\n"
      ]
    }
  ]
}