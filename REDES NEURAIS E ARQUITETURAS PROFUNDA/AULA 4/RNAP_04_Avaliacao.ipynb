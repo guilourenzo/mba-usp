{
  "nbformat": 4,
  "nbformat_minor": 0,
  "metadata": {
    "accelerator": "GPU",
    "colab": {
      "name": "RNAP-04-Avaliacao.ipynb",
      "provenance": [],
      "collapsed_sections": [],
      "toc_visible": true
    },
    "kernelspec": {
      "display_name": "Python 3",
      "language": "python",
      "name": "python3"
    },
    "language_info": {
      "codemirror_mode": {
        "name": "ipython",
        "version": 3
      },
      "file_extension": ".py",
      "mimetype": "text/x-python",
      "name": "python",
      "nbconvert_exporter": "python",
      "pygments_lexer": "ipython3",
      "version": "3.8.3-final"
    }
  },
  "cells": [
    {
      "cell_type": "markdown",
      "metadata": {
        "id": "K8CDQUj8yqpq"
      },
      "source": [
        "## MBA em Ciência de Dados\n",
        "# Redes Neurais e Arquiteturas Profundas\n",
        "\n",
        "### <span style=\"color:darkred\">Módulo IV - Estratégias de Treinamento e Transferência de Aprendizado</span>\n",
        "\n",
        "\n",
        "### <span style=\"color:darkred\">Avaliação</span>\n",
        "\n",
        "Moacir Antonelli Ponti\n",
        "\n",
        "CeMEAI - ICMC/USP São Carlos\n",
        "\n",
        "---\n",
        "\n",
        "As respostas devem ser dadas no Moodle, use esse notebook apenas para gerar o código necessário para obter as respostas\n",
        "\n",
        "---"
      ]
    },
    {
      "cell_type": "markdown",
      "metadata": {
        "id": "xMJ4IFd7yqpt"
      },
      "source": [
        "\n",
        "### Questão 1)\n",
        "\n",
        "Qual a relação entre o modelo chamado de \"memorizador\" e as redes neurais profundas?\n",
        "\n",
        "(a) Redes neurais com alta capacidade podem memorizar todos os exemplos de treinamento, tornando-as hábeis para generalizar para dados futuros.<br>\n",
        "**(b) Redes neurais com alta capacidade podem memorizar todos os exemplos de treinamento, falhando em predizer corretamente exemplos não vistos.**<br>\n",
        "(c) Redes neurais com alta capacidade são imunes a convergir para modelos memorizadores, pois obtiveram resultados do estado-da-arte em muitas aplicações.<br>\n",
        "(d) Redes neurais com alta capacidade podem memorizar todos os exemplos de treinamento, e portanto possuem viés forte.<br>"
      ]
    },
    {
      "cell_type": "markdown",
      "metadata": {
        "id": "038CuS5syqqL"
      },
      "source": [
        "---\n",
        "\n",
        "### Questão 2)\n",
        "\n",
        "O papel do uso conjunto dos métodos BatchNormalization e Regularização é o de:\n",
        "\n",
        "(a) Pré-processamento dos dados antes da realização do treinamento<br>\n",
        "(b) Gerar espaço de parâmetros esparsos, com alguns poucos parâmetros com valor alto e muitos com valores próximo a zero, melhorando a generalização<br>\n",
        "**(c) Minimizar o problema do desaparecimento do gradiente, e ao mesmo tempo evitar que poucas unidades/neurônios se especializem demais**<br>\n",
        "(d) Obter robustez com relação à possíveis ataques e propiciar modelos menores com acurácia similar a modelos maiores<br>\n"
      ]
    },
    {
      "cell_type": "markdown",
      "metadata": {
        "id": "nJQ0-S3myqqL"
      },
      "source": [
        "---\n",
        "### Questão 3)\n",
        "\n",
        "São práticas viáveis para o uso de aprendizado profundo com pequenas bases de dados:\n",
        "\n",
        " (a) Carregar uma rede neural profunda popular de um pacote de software e treiná-la a partir de pesos aleatórios<br>\n",
        " (b) Carregar uma rede neural profunda pré-treinada em grande base de dados, e utilizar a saída da última camada  da rede, ou seja as predições das classes, como característica para modelos de aprendizado externos que permitem uso com menores bases de dados<br>\n",
        " (c) Carregar uma rede neural profunda popular de um pacote de software e treiná-la a partir de pesos aleatórios utilizando Batch Normalization<br>\n",
        " **(d) Carregar uma rede neural profunda pré-treinada em grande base de dados, inserindo uma nova camada de saída treinando apenas essa camada com a pequena base de dados**<br>"
      ]
    },
    {
      "cell_type": "markdown",
      "metadata": {
        "id": "C1sh5GgYyqqY"
      },
      "source": [
        "---\n",
        "\n",
        "### Questão 4)\n",
        "\n",
        "Carregue a base de dados Fashion MNIST conforme código abaixo e crie um modelo de CNN com a seguinte arquitetura, capaz de obter classificação nessa base de dados de imagens. Considere que todas as camadas convolucionais tem zeropadding, e ativação relu, exceto quando mencionado contrário.\n",
        "\n",
        "1. Pré-processamento para aumentação contendo:\n",
        "  * RandomZoom(0.1),\n",
        "  * RandomContrast(0.2)\n",
        "1. Convolucional 2D com 64 filtros $3\\times 3$.\n",
        "2. Batch Normalization\n",
        "3. SeparableConv2D com 64 filtros $3\\times 3$.\n",
        "4. MaxPooling2D $3\\times 3$ e strides $2$\n",
        "5. Batch Normalization\n",
        "6. SeparableConv2D com 256 filtros $3\\times 3$.\n",
        "7. MaxPooling2D $3\\times 3$ e strides $2$\n",
        "8. GlobalAveragePooling\n",
        "9. Dropout de 0.2\n",
        "10. Densa com ativação softmax\n",
        "\n",
        "Incialize as sementes do numpy com 1 e tensorflow com 2 e treine o modelo por 7 épocas com batch size 16, otimizador Adam e taxa de aprendizado 0.002.\n",
        "\n",
        "Após o treinamento utilize a função predict para classificar imagens da posicao 10 a 14 no conjunto de testes (\\[10:15\\]). Quais as classes resultantes e quantas dessas estavam erradas?\n",
        "\n",
        "(a) 2, 5, 5, 3, 3, sendo 2 erradas<br>\n",
        "**(b) 4, 5, 5, 3, 4, sendo 2 erradas**<br>\n",
        "(c) 4, 5, 5, 3, 4 sendo 1 errada<br>\n",
        "(d) 4, 5, 5, 3, 4, nenhuma errada<br>"
      ]
    },
    {
      "cell_type": "code",
      "metadata": {
        "id": "Rif40G6wST-s",
        "outputId": "3e1af01b-e2b5-44bd-a576-ecc76d0b47aa",
        "colab": {
          "base_uri": "https://localhost:8080/",
          "height": 185
        }
      },
      "source": [
        "import numpy as np\n",
        "np.set_printoptions(suppress=True)\n",
        "\n",
        "import matplotlib.pyplot as plt\n",
        "import tensorflow as tf\n",
        "from tensorflow import keras\n",
        "from tensorflow.keras import layers\n",
        "from numpy.random import seed\n",
        "from tensorflow.random import set_seed\n",
        "\n",
        "fashion_mnist = keras.datasets.fashion_mnist\n",
        "(train_images, train_labels), (test_images, test_labels) = fashion_mnist.load_data()\n",
        "\n",
        "img_lin, img_col = train_images.shape[1], train_images.shape[2]\n",
        "num_classes = len(np.unique(train_labels))\n",
        "print(train_images.shape)\n",
        "print('Classes: ', num_classes)\n",
        "\n",
        "predizer = test_images[10:15]\n",
        "\n",
        "train_images = train_images / 255.0\n",
        "test_images = test_images / 255.0\n",
        "\n",
        "train_labels = keras.utils.to_categorical(train_labels, 10)\n",
        "test_labels = keras.utils.to_categorical(test_labels, 10)\n",
        "predizer_labels = test_labels[10:15]\n",
        "\n",
        "# quantidade de canais\n",
        "if (len(train_images.shape) == 3):\n",
        "      n_channels = 1\n",
        "else:\n",
        "      n_channels = train_images.shape[3]\n",
        "\n",
        "if keras.backend.image_data_format() == 'channels_first':\n",
        "    train_images = train_images.reshape(train_images.shape[0], n_channels, img_lin, img_col)\n",
        "    test_images = test_images.reshape(test_images.shape[0], n_channels, img_lin, img_col)\n",
        "    input_shape = (n_channels, img_lin, img_col)\n",
        "else:\n",
        "    train_images = train_images.reshape(train_images.shape[0], img_lin, img_col, n_channels)\n",
        "    test_images = test_images.reshape(test_images.shape[0], img_lin, img_col, n_channels)\n",
        "    input_shape = (img_lin, img_col, n_channels)"
      ],
      "execution_count": 1,
      "outputs": [
        {
          "output_type": "stream",
          "name": "stdout",
          "text": [
            "(60000, 28, 28)\nClasses:  10\n"
          ]
        }
      ]
    },
    {
      "cell_type": "code",
      "metadata": {
        "id": "9VFB_hc7PC0e"
      },
      "source": [
        "data_augmentation = keras.Sequential(\n",
        "    [\n",
        "        layers.experimental.preprocessing.RandomZoom(0.1),\n",
        "        layers.experimental.preprocessing.RandomContrast(0.2),\n",
        "    ]\n",
        ")"
      ],
      "execution_count": 2,
      "outputs": []
    },
    {
      "cell_type": "code",
      "metadata": {
        "id": "YpiKc7c6P39d"
      },
      "source": [
        "def my_cnn(input_shape, num_classes):\n",
        "    \"\"\"\n",
        "    1. Convolucional 2D com 64 filtros 3 x 3.\n",
        "    2. Batch Normalization\n",
        "    3. SeparableConv2D com 64 filtros 3 x 3.\n",
        "    4. MaxPooling2D 3 x 3 e strides 2\n",
        "    5. Batch Normalization\n",
        "    6. SeparableConv2D com 256 filtros 3 x 3.\n",
        "    7. MaxPooling2D 3 x 3 e strides 2\n",
        "    8. GlobalAveragePooling\n",
        "    9. Dropout de 0.2\n",
        "    10. Densa com ativação softmax\n",
        "\n",
        "    \"\"\"\n",
        "\n",
        "    inputs = keras.Input(shape=input_shape)\n",
        "    \n",
        "    # Pré-processamento\n",
        "    x = data_augmentation(inputs)\n",
        "\n",
        "    # ATIVAÇÃO RELU\n",
        "    x = layers.Activation(\"relu\")(x)\n",
        "\n",
        "    # 1. Convolucional 2D com 64 filtros 3 x 3.\n",
        "    x = layers.Conv2D(64, kernel_size=(3,3), padding=\"same\", activation=\"relu\")(x)\n",
        "    \n",
        "    # 2. Batch Normalization\n",
        "    x = layers.BatchNormalization()(x)\n",
        "\n",
        "    # # ATIVAÇÃO RELU\n",
        "    # x = layers.Activation(\"relu\")(x)\n",
        "\n",
        "    # 3. SeparableConv2D com 64 filtros 3 x 3.\n",
        "    x = layers.SeparableConv2D(64, kernel_size=(3,3), padding=\"same\", activation=\"relu\")(x)\n",
        "\n",
        "    # 4. MaxPooling2D 3 x 3 e strides 2\n",
        "    x = layers.MaxPooling2D(pool_size=(3,3), strides=2, padding=\"same\")(x)\n",
        "    \n",
        "    # 5. Batch Normalization\n",
        "    x = layers.BatchNormalization()(x)\n",
        "\n",
        "    # ATIVAÇÃO RELU\n",
        "    # x = layers.Activation(\"relu\")(x)\n",
        "\n",
        "    # 6. SeparableConv2D com 256 filtros 3 x 3.\n",
        "    x = layers.SeparableConv2D(256, kernel_size=(3,3), padding=\"same\", activation=\"relu\")(x)\n",
        "\n",
        "    # 7. MaxPooling2D 3 x 3 e strides 2\n",
        "    x = layers.MaxPooling2D(pool_size=(3,3), strides=2, padding=\"same\")(x)\n",
        "\n",
        "    # # ATIVAÇÃO RELU\n",
        "    # x = layers.Activation(\"relu\")(x)\n",
        "\n",
        "    # 8. GlobalAveragePooling\n",
        "    x = layers.GlobalAveragePooling2D()(x)\n",
        "\n",
        "    # # ATIVAÇÃO RELU\n",
        "    # x = layers.Activation(\"relu\")(x)\n",
        "\n",
        "    # 9. Dropout de 0.2\n",
        "    x = layers.Dropout(0.2)(x)\n",
        "    \n",
        "    # 10. Densa com ativação softmax\n",
        "    outputs = layers.Dense(num_classes, activation=\"softmax\")(x)\n",
        "\n",
        "    return keras.Model(inputs, outputs)"
      ],
      "execution_count": 3,
      "outputs": []
    },
    {
      "cell_type": "code",
      "metadata": {
        "id": "9zNB2HtmPsTc",
        "outputId": "383df6ec-142c-466f-c14d-d8930d10a3b8",
        "colab": {
          "base_uri": "https://localhost:8080/",
          "height": 689
        }
      },
      "source": [
        "seed(1) #Numpy\n",
        "set_seed(2) #Tensorflow\n",
        "epochs = 7\n",
        "model = my_cnn(input_shape, num_classes)\n",
        "\n",
        "model.compile(loss='categorical_crossentropy'\n",
        "            , optimizer=tf.keras.optimizers.Adam(lr=0.002)\n",
        "            , metrics=['accuracy'])\n",
        "\n",
        "model.summary()"
      ],
      "execution_count": 4,
      "outputs": [
        {
          "output_type": "stream",
          "name": "stdout",
          "text": [
            "Model: \"functional_1\"\n_________________________________________________________________\nLayer (type)                 Output Shape              Param #   \n=================================================================\ninput_1 (InputLayer)         [(None, 28, 28, 1)]       0         \n_________________________________________________________________\nsequential (Sequential)      (None, 28, 28, 1)         0         \n_________________________________________________________________\nactivation (Activation)      (None, 28, 28, 1)         0         \n_________________________________________________________________\nconv2d (Conv2D)              (None, 28, 28, 64)        640       \n_________________________________________________________________\nbatch_normalization (BatchNo (None, 28, 28, 64)        256       \n_________________________________________________________________\nseparable_conv2d (SeparableC (None, 28, 28, 64)        4736      \n_________________________________________________________________\nmax_pooling2d (MaxPooling2D) (None, 14, 14, 64)        0         \n_________________________________________________________________\nbatch_normalization_1 (Batch (None, 14, 14, 64)        256       \n_________________________________________________________________\nseparable_conv2d_1 (Separabl (None, 14, 14, 256)       17216     \n_________________________________________________________________\nmax_pooling2d_1 (MaxPooling2 (None, 7, 7, 256)         0         \n_________________________________________________________________\nglobal_average_pooling2d (Gl (None, 256)               0         \n_________________________________________________________________\ndropout (Dropout)            (None, 256)               0         \n_________________________________________________________________\ndense (Dense)                (None, 10)                2570      \n=================================================================\nTotal params: 25,674\nTrainable params: 25,418\nNon-trainable params: 256\n_________________________________________________________________\n"
          ]
        }
      ]
    },
    {
      "cell_type": "code",
      "metadata": {
        "id": "k-l7q26MPsTe",
        "outputId": "518f4ae0-aa15-4879-993b-c655b4940dea",
        "colab": {
          "base_uri": "https://localhost:8080/",
          "height": 252
        }
      },
      "source": [
        "hist = model.fit(train_images, train_labels, batch_size=16, epochs=epochs, verbose=1)"
      ],
      "execution_count": 5,
      "outputs": [
        {
          "output_type": "stream",
          "name": "stdout",
          "text": [
            "Epoch 1/7\n",
            "3750/3750 [==============================] - 32s 9ms/step - loss: 0.6367 - accuracy: 0.7667\n",
            "Epoch 2/7\n",
            "3750/3750 [==============================] - 32s 9ms/step - loss: 0.4157 - accuracy: 0.8504\n",
            "Epoch 3/7\n",
            "3750/3750 [==============================] - 32s 9ms/step - loss: 0.3622 - accuracy: 0.8702\n",
            "Epoch 4/7\n",
            "3750/3750 [==============================] - 32s 8ms/step - loss: 0.3362 - accuracy: 0.8788\n",
            "Epoch 5/7\n",
            "3750/3750 [==============================] - 32s 9ms/step - loss: 0.3173 - accuracy: 0.8856\n",
            "Epoch 6/7\n",
            "3750/3750 [==============================] - 32s 9ms/step - loss: 0.3028 - accuracy: 0.8920\n",
            "Epoch 7/7\n",
            "3750/3750 [==============================] - 32s 9ms/step - loss: 0.2935 - accuracy: 0.8960\n"
          ]
        }
      ]
    },
    {
      "cell_type": "code",
      "metadata": {
        "id": "U7YZqjsPPsTh",
        "outputId": "0942c7ce-850e-43af-9ab8-b0c51035fc36",
        "colab": {
          "base_uri": "https://localhost:8080/",
          "height": 265
        }
      },
      "source": [
        "plt.plot(hist.history['loss']);\n",
        "plt.plot(hist.history['accuracy'])\n",
        "plt.legend(['Loss','Accuracy']);"
      ],
      "execution_count": 6,
      "outputs": [
        {
          "output_type": "display_data",
          "data": {
            "text/plain": "<Figure size 432x288 with 1 Axes>",
            "image/svg+xml": "<?xml version=\"1.0\" encoding=\"utf-8\" standalone=\"no\"?>\r\n<!DOCTYPE svg PUBLIC \"-//W3C//DTD SVG 1.1//EN\"\r\n  \"http://www.w3.org/Graphics/SVG/1.1/DTD/svg11.dtd\">\r\n<!-- Created with matplotlib (https://matplotlib.org/) -->\r\n<svg height=\"248.518125pt\" version=\"1.1\" viewBox=\"0 0 372.103125 248.518125\" width=\"372.103125pt\" xmlns=\"http://www.w3.org/2000/svg\" xmlns:xlink=\"http://www.w3.org/1999/xlink\">\r\n <defs>\r\n  <style type=\"text/css\">\r\n*{stroke-linecap:butt;stroke-linejoin:round;}\r\n  </style>\r\n </defs>\r\n <g id=\"figure_1\">\r\n  <g id=\"patch_1\">\r\n   <path d=\"M 0 248.518125 \r\nL 372.103125 248.518125 \r\nL 372.103125 0 \r\nL 0 0 \r\nz\r\n\" style=\"fill:none;\"/>\r\n  </g>\r\n  <g id=\"axes_1\">\r\n   <g id=\"patch_2\">\r\n    <path d=\"M 30.103125 224.64 \r\nL 364.903125 224.64 \r\nL 364.903125 7.2 \r\nL 30.103125 7.2 \r\nz\r\n\" style=\"fill:#ffffff;\"/>\r\n   </g>\r\n   <g id=\"matplotlib.axis_1\">\r\n    <g id=\"xtick_1\">\r\n     <g id=\"line2d_1\">\r\n      <defs>\r\n       <path d=\"M 0 0 \r\nL 0 3.5 \r\n\" id=\"m64ad38c491\" style=\"stroke:#000000;stroke-width:0.8;\"/>\r\n      </defs>\r\n      <g>\r\n       <use style=\"stroke:#000000;stroke-width:0.8;\" x=\"45.321307\" xlink:href=\"#m64ad38c491\" y=\"224.64\"/>\r\n      </g>\r\n     </g>\r\n     <g id=\"text_1\">\r\n      <!-- 0 -->\r\n      <defs>\r\n       <path d=\"M 31.78125 66.40625 \r\nQ 24.171875 66.40625 20.328125 58.90625 \r\nQ 16.5 51.421875 16.5 36.375 \r\nQ 16.5 21.390625 20.328125 13.890625 \r\nQ 24.171875 6.390625 31.78125 6.390625 \r\nQ 39.453125 6.390625 43.28125 13.890625 \r\nQ 47.125 21.390625 47.125 36.375 \r\nQ 47.125 51.421875 43.28125 58.90625 \r\nQ 39.453125 66.40625 31.78125 66.40625 \r\nz\r\nM 31.78125 74.21875 \r\nQ 44.046875 74.21875 50.515625 64.515625 \r\nQ 56.984375 54.828125 56.984375 36.375 \r\nQ 56.984375 17.96875 50.515625 8.265625 \r\nQ 44.046875 -1.421875 31.78125 -1.421875 \r\nQ 19.53125 -1.421875 13.0625 8.265625 \r\nQ 6.59375 17.96875 6.59375 36.375 \r\nQ 6.59375 54.828125 13.0625 64.515625 \r\nQ 19.53125 74.21875 31.78125 74.21875 \r\nz\r\n\" id=\"DejaVuSans-48\"/>\r\n      </defs>\r\n      <g transform=\"translate(42.140057 239.238438)scale(0.1 -0.1)\">\r\n       <use xlink:href=\"#DejaVuSans-48\"/>\r\n      </g>\r\n     </g>\r\n    </g>\r\n    <g id=\"xtick_2\">\r\n     <g id=\"line2d_2\">\r\n      <g>\r\n       <use style=\"stroke:#000000;stroke-width:0.8;\" x=\"96.04858\" xlink:href=\"#m64ad38c491\" y=\"224.64\"/>\r\n      </g>\r\n     </g>\r\n     <g id=\"text_2\">\r\n      <!-- 1 -->\r\n      <defs>\r\n       <path d=\"M 12.40625 8.296875 \r\nL 28.515625 8.296875 \r\nL 28.515625 63.921875 \r\nL 10.984375 60.40625 \r\nL 10.984375 69.390625 \r\nL 28.421875 72.90625 \r\nL 38.28125 72.90625 \r\nL 38.28125 8.296875 \r\nL 54.390625 8.296875 \r\nL 54.390625 0 \r\nL 12.40625 0 \r\nz\r\n\" id=\"DejaVuSans-49\"/>\r\n      </defs>\r\n      <g transform=\"translate(92.86733 239.238438)scale(0.1 -0.1)\">\r\n       <use xlink:href=\"#DejaVuSans-49\"/>\r\n      </g>\r\n     </g>\r\n    </g>\r\n    <g id=\"xtick_3\">\r\n     <g id=\"line2d_3\">\r\n      <g>\r\n       <use style=\"stroke:#000000;stroke-width:0.8;\" x=\"146.775852\" xlink:href=\"#m64ad38c491\" y=\"224.64\"/>\r\n      </g>\r\n     </g>\r\n     <g id=\"text_3\">\r\n      <!-- 2 -->\r\n      <defs>\r\n       <path d=\"M 19.1875 8.296875 \r\nL 53.609375 8.296875 \r\nL 53.609375 0 \r\nL 7.328125 0 \r\nL 7.328125 8.296875 \r\nQ 12.9375 14.109375 22.625 23.890625 \r\nQ 32.328125 33.6875 34.8125 36.53125 \r\nQ 39.546875 41.84375 41.421875 45.53125 \r\nQ 43.3125 49.21875 43.3125 52.78125 \r\nQ 43.3125 58.59375 39.234375 62.25 \r\nQ 35.15625 65.921875 28.609375 65.921875 \r\nQ 23.96875 65.921875 18.8125 64.3125 \r\nQ 13.671875 62.703125 7.8125 59.421875 \r\nL 7.8125 69.390625 \r\nQ 13.765625 71.78125 18.9375 73 \r\nQ 24.125 74.21875 28.421875 74.21875 \r\nQ 39.75 74.21875 46.484375 68.546875 \r\nQ 53.21875 62.890625 53.21875 53.421875 \r\nQ 53.21875 48.921875 51.53125 44.890625 \r\nQ 49.859375 40.875 45.40625 35.40625 \r\nQ 44.1875 33.984375 37.640625 27.21875 \r\nQ 31.109375 20.453125 19.1875 8.296875 \r\nz\r\n\" id=\"DejaVuSans-50\"/>\r\n      </defs>\r\n      <g transform=\"translate(143.594602 239.238438)scale(0.1 -0.1)\">\r\n       <use xlink:href=\"#DejaVuSans-50\"/>\r\n      </g>\r\n     </g>\r\n    </g>\r\n    <g id=\"xtick_4\">\r\n     <g id=\"line2d_4\">\r\n      <g>\r\n       <use style=\"stroke:#000000;stroke-width:0.8;\" x=\"197.503125\" xlink:href=\"#m64ad38c491\" y=\"224.64\"/>\r\n      </g>\r\n     </g>\r\n     <g id=\"text_4\">\r\n      <!-- 3 -->\r\n      <defs>\r\n       <path d=\"M 40.578125 39.3125 \r\nQ 47.65625 37.796875 51.625 33 \r\nQ 55.609375 28.21875 55.609375 21.1875 \r\nQ 55.609375 10.40625 48.1875 4.484375 \r\nQ 40.765625 -1.421875 27.09375 -1.421875 \r\nQ 22.515625 -1.421875 17.65625 -0.515625 \r\nQ 12.796875 0.390625 7.625 2.203125 \r\nL 7.625 11.71875 \r\nQ 11.71875 9.328125 16.59375 8.109375 \r\nQ 21.484375 6.890625 26.8125 6.890625 \r\nQ 36.078125 6.890625 40.9375 10.546875 \r\nQ 45.796875 14.203125 45.796875 21.1875 \r\nQ 45.796875 27.640625 41.28125 31.265625 \r\nQ 36.765625 34.90625 28.71875 34.90625 \r\nL 20.21875 34.90625 \r\nL 20.21875 43.015625 \r\nL 29.109375 43.015625 \r\nQ 36.375 43.015625 40.234375 45.921875 \r\nQ 44.09375 48.828125 44.09375 54.296875 \r\nQ 44.09375 59.90625 40.109375 62.90625 \r\nQ 36.140625 65.921875 28.71875 65.921875 \r\nQ 24.65625 65.921875 20.015625 65.03125 \r\nQ 15.375 64.15625 9.8125 62.3125 \r\nL 9.8125 71.09375 \r\nQ 15.4375 72.65625 20.34375 73.4375 \r\nQ 25.25 74.21875 29.59375 74.21875 \r\nQ 40.828125 74.21875 47.359375 69.109375 \r\nQ 53.90625 64.015625 53.90625 55.328125 \r\nQ 53.90625 49.265625 50.4375 45.09375 \r\nQ 46.96875 40.921875 40.578125 39.3125 \r\nz\r\n\" id=\"DejaVuSans-51\"/>\r\n      </defs>\r\n      <g transform=\"translate(194.321875 239.238438)scale(0.1 -0.1)\">\r\n       <use xlink:href=\"#DejaVuSans-51\"/>\r\n      </g>\r\n     </g>\r\n    </g>\r\n    <g id=\"xtick_5\">\r\n     <g id=\"line2d_5\">\r\n      <g>\r\n       <use style=\"stroke:#000000;stroke-width:0.8;\" x=\"248.230398\" xlink:href=\"#m64ad38c491\" y=\"224.64\"/>\r\n      </g>\r\n     </g>\r\n     <g id=\"text_5\">\r\n      <!-- 4 -->\r\n      <defs>\r\n       <path d=\"M 37.796875 64.3125 \r\nL 12.890625 25.390625 \r\nL 37.796875 25.390625 \r\nz\r\nM 35.203125 72.90625 \r\nL 47.609375 72.90625 \r\nL 47.609375 25.390625 \r\nL 58.015625 25.390625 \r\nL 58.015625 17.1875 \r\nL 47.609375 17.1875 \r\nL 47.609375 0 \r\nL 37.796875 0 \r\nL 37.796875 17.1875 \r\nL 4.890625 17.1875 \r\nL 4.890625 26.703125 \r\nz\r\n\" id=\"DejaVuSans-52\"/>\r\n      </defs>\r\n      <g transform=\"translate(245.049148 239.238438)scale(0.1 -0.1)\">\r\n       <use xlink:href=\"#DejaVuSans-52\"/>\r\n      </g>\r\n     </g>\r\n    </g>\r\n    <g id=\"xtick_6\">\r\n     <g id=\"line2d_6\">\r\n      <g>\r\n       <use style=\"stroke:#000000;stroke-width:0.8;\" x=\"298.95767\" xlink:href=\"#m64ad38c491\" y=\"224.64\"/>\r\n      </g>\r\n     </g>\r\n     <g id=\"text_6\">\r\n      <!-- 5 -->\r\n      <defs>\r\n       <path d=\"M 10.796875 72.90625 \r\nL 49.515625 72.90625 \r\nL 49.515625 64.59375 \r\nL 19.828125 64.59375 \r\nL 19.828125 46.734375 \r\nQ 21.96875 47.46875 24.109375 47.828125 \r\nQ 26.265625 48.1875 28.421875 48.1875 \r\nQ 40.625 48.1875 47.75 41.5 \r\nQ 54.890625 34.8125 54.890625 23.390625 \r\nQ 54.890625 11.625 47.5625 5.09375 \r\nQ 40.234375 -1.421875 26.90625 -1.421875 \r\nQ 22.3125 -1.421875 17.546875 -0.640625 \r\nQ 12.796875 0.140625 7.71875 1.703125 \r\nL 7.71875 11.625 \r\nQ 12.109375 9.234375 16.796875 8.0625 \r\nQ 21.484375 6.890625 26.703125 6.890625 \r\nQ 35.15625 6.890625 40.078125 11.328125 \r\nQ 45.015625 15.765625 45.015625 23.390625 \r\nQ 45.015625 31 40.078125 35.4375 \r\nQ 35.15625 39.890625 26.703125 39.890625 \r\nQ 22.75 39.890625 18.8125 39.015625 \r\nQ 14.890625 38.140625 10.796875 36.28125 \r\nz\r\n\" id=\"DejaVuSans-53\"/>\r\n      </defs>\r\n      <g transform=\"translate(295.77642 239.238438)scale(0.1 -0.1)\">\r\n       <use xlink:href=\"#DejaVuSans-53\"/>\r\n      </g>\r\n     </g>\r\n    </g>\r\n    <g id=\"xtick_7\">\r\n     <g id=\"line2d_7\">\r\n      <g>\r\n       <use style=\"stroke:#000000;stroke-width:0.8;\" x=\"349.684943\" xlink:href=\"#m64ad38c491\" y=\"224.64\"/>\r\n      </g>\r\n     </g>\r\n     <g id=\"text_7\">\r\n      <!-- 6 -->\r\n      <defs>\r\n       <path d=\"M 33.015625 40.375 \r\nQ 26.375 40.375 22.484375 35.828125 \r\nQ 18.609375 31.296875 18.609375 23.390625 \r\nQ 18.609375 15.53125 22.484375 10.953125 \r\nQ 26.375 6.390625 33.015625 6.390625 \r\nQ 39.65625 6.390625 43.53125 10.953125 \r\nQ 47.40625 15.53125 47.40625 23.390625 \r\nQ 47.40625 31.296875 43.53125 35.828125 \r\nQ 39.65625 40.375 33.015625 40.375 \r\nz\r\nM 52.59375 71.296875 \r\nL 52.59375 62.3125 \r\nQ 48.875 64.0625 45.09375 64.984375 \r\nQ 41.3125 65.921875 37.59375 65.921875 \r\nQ 27.828125 65.921875 22.671875 59.328125 \r\nQ 17.53125 52.734375 16.796875 39.40625 \r\nQ 19.671875 43.65625 24.015625 45.921875 \r\nQ 28.375 48.1875 33.59375 48.1875 \r\nQ 44.578125 48.1875 50.953125 41.515625 \r\nQ 57.328125 34.859375 57.328125 23.390625 \r\nQ 57.328125 12.15625 50.6875 5.359375 \r\nQ 44.046875 -1.421875 33.015625 -1.421875 \r\nQ 20.359375 -1.421875 13.671875 8.265625 \r\nQ 6.984375 17.96875 6.984375 36.375 \r\nQ 6.984375 53.65625 15.1875 63.9375 \r\nQ 23.390625 74.21875 37.203125 74.21875 \r\nQ 40.921875 74.21875 44.703125 73.484375 \r\nQ 48.484375 72.75 52.59375 71.296875 \r\nz\r\n\" id=\"DejaVuSans-54\"/>\r\n      </defs>\r\n      <g transform=\"translate(346.503693 239.238438)scale(0.1 -0.1)\">\r\n       <use xlink:href=\"#DejaVuSans-54\"/>\r\n      </g>\r\n     </g>\r\n    </g>\r\n   </g>\r\n   <g id=\"matplotlib.axis_2\">\r\n    <g id=\"ytick_1\">\r\n     <g id=\"line2d_8\">\r\n      <defs>\r\n       <path d=\"M 0 0 \r\nL -3.5 0 \r\n\" id=\"m2c3c6d2c4a\" style=\"stroke:#000000;stroke-width:0.8;\"/>\r\n      </defs>\r\n      <g>\r\n       <use style=\"stroke:#000000;stroke-width:0.8;\" x=\"30.103125\" xlink:href=\"#m2c3c6d2c4a\" y=\"212.623335\"/>\r\n      </g>\r\n     </g>\r\n     <g id=\"text_8\">\r\n      <!-- 0.3 -->\r\n      <defs>\r\n       <path d=\"M 10.6875 12.40625 \r\nL 21 12.40625 \r\nL 21 0 \r\nL 10.6875 0 \r\nz\r\n\" id=\"DejaVuSans-46\"/>\r\n      </defs>\r\n      <g transform=\"translate(7.2 216.422554)scale(0.1 -0.1)\">\r\n       <use xlink:href=\"#DejaVuSans-48\"/>\r\n       <use x=\"63.623047\" xlink:href=\"#DejaVuSans-46\"/>\r\n       <use x=\"95.410156\" xlink:href=\"#DejaVuSans-51\"/>\r\n      </g>\r\n     </g>\r\n    </g>\r\n    <g id=\"ytick_2\">\r\n     <g id=\"line2d_9\">\r\n      <g>\r\n       <use style=\"stroke:#000000;stroke-width:0.8;\" x=\"30.103125\" xlink:href=\"#m2c3c6d2c4a\" y=\"179.817412\"/>\r\n      </g>\r\n     </g>\r\n     <g id=\"text_9\">\r\n      <!-- 0.4 -->\r\n      <g transform=\"translate(7.2 183.616631)scale(0.1 -0.1)\">\r\n       <use xlink:href=\"#DejaVuSans-48\"/>\r\n       <use x=\"63.623047\" xlink:href=\"#DejaVuSans-46\"/>\r\n       <use x=\"95.410156\" xlink:href=\"#DejaVuSans-52\"/>\r\n      </g>\r\n     </g>\r\n    </g>\r\n    <g id=\"ytick_3\">\r\n     <g id=\"line2d_10\">\r\n      <g>\r\n       <use style=\"stroke:#000000;stroke-width:0.8;\" x=\"30.103125\" xlink:href=\"#m2c3c6d2c4a\" y=\"147.011488\"/>\r\n      </g>\r\n     </g>\r\n     <g id=\"text_10\">\r\n      <!-- 0.5 -->\r\n      <g transform=\"translate(7.2 150.810707)scale(0.1 -0.1)\">\r\n       <use xlink:href=\"#DejaVuSans-48\"/>\r\n       <use x=\"63.623047\" xlink:href=\"#DejaVuSans-46\"/>\r\n       <use x=\"95.410156\" xlink:href=\"#DejaVuSans-53\"/>\r\n      </g>\r\n     </g>\r\n    </g>\r\n    <g id=\"ytick_4\">\r\n     <g id=\"line2d_11\">\r\n      <g>\r\n       <use style=\"stroke:#000000;stroke-width:0.8;\" x=\"30.103125\" xlink:href=\"#m2c3c6d2c4a\" y=\"114.205565\"/>\r\n      </g>\r\n     </g>\r\n     <g id=\"text_11\">\r\n      <!-- 0.6 -->\r\n      <g transform=\"translate(7.2 118.004784)scale(0.1 -0.1)\">\r\n       <use xlink:href=\"#DejaVuSans-48\"/>\r\n       <use x=\"63.623047\" xlink:href=\"#DejaVuSans-46\"/>\r\n       <use x=\"95.410156\" xlink:href=\"#DejaVuSans-54\"/>\r\n      </g>\r\n     </g>\r\n    </g>\r\n    <g id=\"ytick_5\">\r\n     <g id=\"line2d_12\">\r\n      <g>\r\n       <use style=\"stroke:#000000;stroke-width:0.8;\" x=\"30.103125\" xlink:href=\"#m2c3c6d2c4a\" y=\"81.399642\"/>\r\n      </g>\r\n     </g>\r\n     <g id=\"text_12\">\r\n      <!-- 0.7 -->\r\n      <defs>\r\n       <path d=\"M 8.203125 72.90625 \r\nL 55.078125 72.90625 \r\nL 55.078125 68.703125 \r\nL 28.609375 0 \r\nL 18.3125 0 \r\nL 43.21875 64.59375 \r\nL 8.203125 64.59375 \r\nz\r\n\" id=\"DejaVuSans-55\"/>\r\n      </defs>\r\n      <g transform=\"translate(7.2 85.19886)scale(0.1 -0.1)\">\r\n       <use xlink:href=\"#DejaVuSans-48\"/>\r\n       <use x=\"63.623047\" xlink:href=\"#DejaVuSans-46\"/>\r\n       <use x=\"95.410156\" xlink:href=\"#DejaVuSans-55\"/>\r\n      </g>\r\n     </g>\r\n    </g>\r\n    <g id=\"ytick_6\">\r\n     <g id=\"line2d_13\">\r\n      <g>\r\n       <use style=\"stroke:#000000;stroke-width:0.8;\" x=\"30.103125\" xlink:href=\"#m2c3c6d2c4a\" y=\"48.593718\"/>\r\n      </g>\r\n     </g>\r\n     <g id=\"text_13\">\r\n      <!-- 0.8 -->\r\n      <defs>\r\n       <path d=\"M 31.78125 34.625 \r\nQ 24.75 34.625 20.71875 30.859375 \r\nQ 16.703125 27.09375 16.703125 20.515625 \r\nQ 16.703125 13.921875 20.71875 10.15625 \r\nQ 24.75 6.390625 31.78125 6.390625 \r\nQ 38.8125 6.390625 42.859375 10.171875 \r\nQ 46.921875 13.96875 46.921875 20.515625 \r\nQ 46.921875 27.09375 42.890625 30.859375 \r\nQ 38.875 34.625 31.78125 34.625 \r\nz\r\nM 21.921875 38.8125 \r\nQ 15.578125 40.375 12.03125 44.71875 \r\nQ 8.5 49.078125 8.5 55.328125 \r\nQ 8.5 64.0625 14.71875 69.140625 \r\nQ 20.953125 74.21875 31.78125 74.21875 \r\nQ 42.671875 74.21875 48.875 69.140625 \r\nQ 55.078125 64.0625 55.078125 55.328125 \r\nQ 55.078125 49.078125 51.53125 44.71875 \r\nQ 48 40.375 41.703125 38.8125 \r\nQ 48.828125 37.15625 52.796875 32.3125 \r\nQ 56.78125 27.484375 56.78125 20.515625 \r\nQ 56.78125 9.90625 50.3125 4.234375 \r\nQ 43.84375 -1.421875 31.78125 -1.421875 \r\nQ 19.734375 -1.421875 13.25 4.234375 \r\nQ 6.78125 9.90625 6.78125 20.515625 \r\nQ 6.78125 27.484375 10.78125 32.3125 \r\nQ 14.796875 37.15625 21.921875 38.8125 \r\nz\r\nM 18.3125 54.390625 \r\nQ 18.3125 48.734375 21.84375 45.5625 \r\nQ 25.390625 42.390625 31.78125 42.390625 \r\nQ 38.140625 42.390625 41.71875 45.5625 \r\nQ 45.3125 48.734375 45.3125 54.390625 \r\nQ 45.3125 60.0625 41.71875 63.234375 \r\nQ 38.140625 66.40625 31.78125 66.40625 \r\nQ 25.390625 66.40625 21.84375 63.234375 \r\nQ 18.3125 60.0625 18.3125 54.390625 \r\nz\r\n\" id=\"DejaVuSans-56\"/>\r\n      </defs>\r\n      <g transform=\"translate(7.2 52.392937)scale(0.1 -0.1)\">\r\n       <use xlink:href=\"#DejaVuSans-48\"/>\r\n       <use x=\"63.623047\" xlink:href=\"#DejaVuSans-46\"/>\r\n       <use x=\"95.410156\" xlink:href=\"#DejaVuSans-56\"/>\r\n      </g>\r\n     </g>\r\n    </g>\r\n    <g id=\"ytick_7\">\r\n     <g id=\"line2d_14\">\r\n      <g>\r\n       <use style=\"stroke:#000000;stroke-width:0.8;\" x=\"30.103125\" xlink:href=\"#m2c3c6d2c4a\" y=\"15.787795\"/>\r\n      </g>\r\n     </g>\r\n     <g id=\"text_14\">\r\n      <!-- 0.9 -->\r\n      <defs>\r\n       <path d=\"M 10.984375 1.515625 \r\nL 10.984375 10.5 \r\nQ 14.703125 8.734375 18.5 7.8125 \r\nQ 22.3125 6.890625 25.984375 6.890625 \r\nQ 35.75 6.890625 40.890625 13.453125 \r\nQ 46.046875 20.015625 46.78125 33.40625 \r\nQ 43.953125 29.203125 39.59375 26.953125 \r\nQ 35.25 24.703125 29.984375 24.703125 \r\nQ 19.046875 24.703125 12.671875 31.3125 \r\nQ 6.296875 37.9375 6.296875 49.421875 \r\nQ 6.296875 60.640625 12.9375 67.421875 \r\nQ 19.578125 74.21875 30.609375 74.21875 \r\nQ 43.265625 74.21875 49.921875 64.515625 \r\nQ 56.59375 54.828125 56.59375 36.375 \r\nQ 56.59375 19.140625 48.40625 8.859375 \r\nQ 40.234375 -1.421875 26.421875 -1.421875 \r\nQ 22.703125 -1.421875 18.890625 -0.6875 \r\nQ 15.09375 0.046875 10.984375 1.515625 \r\nz\r\nM 30.609375 32.421875 \r\nQ 37.25 32.421875 41.125 36.953125 \r\nQ 45.015625 41.5 45.015625 49.421875 \r\nQ 45.015625 57.28125 41.125 61.84375 \r\nQ 37.25 66.40625 30.609375 66.40625 \r\nQ 23.96875 66.40625 20.09375 61.84375 \r\nQ 16.21875 57.28125 16.21875 49.421875 \r\nQ 16.21875 41.5 20.09375 36.953125 \r\nQ 23.96875 32.421875 30.609375 32.421875 \r\nz\r\n\" id=\"DejaVuSans-57\"/>\r\n      </defs>\r\n      <g transform=\"translate(7.2 19.587013)scale(0.1 -0.1)\">\r\n       <use xlink:href=\"#DejaVuSans-48\"/>\r\n       <use x=\"63.623047\" xlink:href=\"#DejaVuSans-46\"/>\r\n       <use x=\"95.410156\" xlink:href=\"#DejaVuSans-57\"/>\r\n      </g>\r\n     </g>\r\n    </g>\r\n   </g>\r\n   <g id=\"line2d_15\">\r\n    <path clip-path=\"url(#pb12bab1bb4)\" d=\"M 45.321307 102.169612 \r\nL 96.04858 174.655965 \r\nL 146.775852 192.215785 \r\nL 197.503125 200.748853 \r\nL 248.230398 206.9621 \r\nL 298.95767 211.699989 \r\nL 349.684943 214.756364 \r\n\" style=\"fill:none;stroke:#1f77b4;stroke-linecap:square;stroke-width:1.5;\"/>\r\n   </g>\r\n   <g id=\"line2d_16\">\r\n    <path clip-path=\"url(#pb12bab1bb4)\" d=\"M 45.321307 59.501695 \r\nL 96.04858 32.075928 \r\nL 146.775852 25.580353 \r\nL 197.503125 22.742659 \r\nL 248.230398 20.506382 \r\nL 298.95767 18.423212 \r\nL 349.684943 17.083636 \r\n\" style=\"fill:none;stroke:#ff7f0e;stroke-linecap:square;stroke-width:1.5;\"/>\r\n   </g>\r\n   <g id=\"patch_3\">\r\n    <path d=\"M 30.103125 224.64 \r\nL 30.103125 7.2 \r\n\" style=\"fill:none;stroke:#000000;stroke-linecap:square;stroke-linejoin:miter;stroke-width:0.8;\"/>\r\n   </g>\r\n   <g id=\"patch_4\">\r\n    <path d=\"M 364.903125 224.64 \r\nL 364.903125 7.2 \r\n\" style=\"fill:none;stroke:#000000;stroke-linecap:square;stroke-linejoin:miter;stroke-width:0.8;\"/>\r\n   </g>\r\n   <g id=\"patch_5\">\r\n    <path d=\"M 30.103125 224.64 \r\nL 364.903125 224.64 \r\n\" style=\"fill:none;stroke:#000000;stroke-linecap:square;stroke-linejoin:miter;stroke-width:0.8;\"/>\r\n   </g>\r\n   <g id=\"patch_6\">\r\n    <path d=\"M 30.103125 7.2 \r\nL 364.903125 7.2 \r\n\" style=\"fill:none;stroke:#000000;stroke-linecap:square;stroke-linejoin:miter;stroke-width:0.8;\"/>\r\n   </g>\r\n   <g id=\"legend_1\">\r\n    <g id=\"patch_7\">\r\n     <path d=\"M 37.103125 219.64 \r\nL 114.759375 219.64 \r\nQ 116.759375 219.64 116.759375 217.64 \r\nL 116.759375 189.28375 \r\nQ 116.759375 187.28375 114.759375 187.28375 \r\nL 37.103125 187.28375 \r\nQ 35.103125 187.28375 35.103125 189.28375 \r\nL 35.103125 217.64 \r\nQ 35.103125 219.64 37.103125 219.64 \r\nz\r\n\" style=\"fill:#ffffff;opacity:0.8;stroke:#cccccc;stroke-linejoin:miter;\"/>\r\n    </g>\r\n    <g id=\"line2d_17\">\r\n     <path d=\"M 39.103125 195.382188 \r\nL 59.103125 195.382188 \r\n\" style=\"fill:none;stroke:#1f77b4;stroke-linecap:square;stroke-width:1.5;\"/>\r\n    </g>\r\n    <g id=\"line2d_18\"/>\r\n    <g id=\"text_15\">\r\n     <!-- Loss -->\r\n     <defs>\r\n      <path d=\"M 9.8125 72.90625 \r\nL 19.671875 72.90625 \r\nL 19.671875 8.296875 \r\nL 55.171875 8.296875 \r\nL 55.171875 0 \r\nL 9.8125 0 \r\nz\r\n\" id=\"DejaVuSans-76\"/>\r\n      <path d=\"M 30.609375 48.390625 \r\nQ 23.390625 48.390625 19.1875 42.75 \r\nQ 14.984375 37.109375 14.984375 27.296875 \r\nQ 14.984375 17.484375 19.15625 11.84375 \r\nQ 23.34375 6.203125 30.609375 6.203125 \r\nQ 37.796875 6.203125 41.984375 11.859375 \r\nQ 46.1875 17.53125 46.1875 27.296875 \r\nQ 46.1875 37.015625 41.984375 42.703125 \r\nQ 37.796875 48.390625 30.609375 48.390625 \r\nz\r\nM 30.609375 56 \r\nQ 42.328125 56 49.015625 48.375 \r\nQ 55.71875 40.765625 55.71875 27.296875 \r\nQ 55.71875 13.875 49.015625 6.21875 \r\nQ 42.328125 -1.421875 30.609375 -1.421875 \r\nQ 18.84375 -1.421875 12.171875 6.21875 \r\nQ 5.515625 13.875 5.515625 27.296875 \r\nQ 5.515625 40.765625 12.171875 48.375 \r\nQ 18.84375 56 30.609375 56 \r\nz\r\n\" id=\"DejaVuSans-111\"/>\r\n      <path d=\"M 44.28125 53.078125 \r\nL 44.28125 44.578125 \r\nQ 40.484375 46.53125 36.375 47.5 \r\nQ 32.28125 48.484375 27.875 48.484375 \r\nQ 21.1875 48.484375 17.84375 46.4375 \r\nQ 14.5 44.390625 14.5 40.28125 \r\nQ 14.5 37.15625 16.890625 35.375 \r\nQ 19.28125 33.59375 26.515625 31.984375 \r\nL 29.59375 31.296875 \r\nQ 39.15625 29.25 43.1875 25.515625 \r\nQ 47.21875 21.78125 47.21875 15.09375 \r\nQ 47.21875 7.46875 41.1875 3.015625 \r\nQ 35.15625 -1.421875 24.609375 -1.421875 \r\nQ 20.21875 -1.421875 15.453125 -0.5625 \r\nQ 10.6875 0.296875 5.421875 2 \r\nL 5.421875 11.28125 \r\nQ 10.40625 8.6875 15.234375 7.390625 \r\nQ 20.0625 6.109375 24.8125 6.109375 \r\nQ 31.15625 6.109375 34.5625 8.28125 \r\nQ 37.984375 10.453125 37.984375 14.40625 \r\nQ 37.984375 18.0625 35.515625 20.015625 \r\nQ 33.0625 21.96875 24.703125 23.78125 \r\nL 21.578125 24.515625 \r\nQ 13.234375 26.265625 9.515625 29.90625 \r\nQ 5.8125 33.546875 5.8125 39.890625 \r\nQ 5.8125 47.609375 11.28125 51.796875 \r\nQ 16.75 56 26.8125 56 \r\nQ 31.78125 56 36.171875 55.265625 \r\nQ 40.578125 54.546875 44.28125 53.078125 \r\nz\r\n\" id=\"DejaVuSans-115\"/>\r\n     </defs>\r\n     <g transform=\"translate(67.103125 198.882188)scale(0.1 -0.1)\">\r\n      <use xlink:href=\"#DejaVuSans-76\"/>\r\n      <use x=\"53.962891\" xlink:href=\"#DejaVuSans-111\"/>\r\n      <use x=\"115.144531\" xlink:href=\"#DejaVuSans-115\"/>\r\n      <use x=\"167.244141\" xlink:href=\"#DejaVuSans-115\"/>\r\n     </g>\r\n    </g>\r\n    <g id=\"line2d_19\">\r\n     <path d=\"M 39.103125 210.060313 \r\nL 59.103125 210.060313 \r\n\" style=\"fill:none;stroke:#ff7f0e;stroke-linecap:square;stroke-width:1.5;\"/>\r\n    </g>\r\n    <g id=\"line2d_20\"/>\r\n    <g id=\"text_16\">\r\n     <!-- Accuracy -->\r\n     <defs>\r\n      <path d=\"M 34.1875 63.1875 \r\nL 20.796875 26.90625 \r\nL 47.609375 26.90625 \r\nz\r\nM 28.609375 72.90625 \r\nL 39.796875 72.90625 \r\nL 67.578125 0 \r\nL 57.328125 0 \r\nL 50.6875 18.703125 \r\nL 17.828125 18.703125 \r\nL 11.1875 0 \r\nL 0.78125 0 \r\nz\r\n\" id=\"DejaVuSans-65\"/>\r\n      <path d=\"M 48.78125 52.59375 \r\nL 48.78125 44.1875 \r\nQ 44.96875 46.296875 41.140625 47.34375 \r\nQ 37.3125 48.390625 33.40625 48.390625 \r\nQ 24.65625 48.390625 19.8125 42.84375 \r\nQ 14.984375 37.3125 14.984375 27.296875 \r\nQ 14.984375 17.28125 19.8125 11.734375 \r\nQ 24.65625 6.203125 33.40625 6.203125 \r\nQ 37.3125 6.203125 41.140625 7.25 \r\nQ 44.96875 8.296875 48.78125 10.40625 \r\nL 48.78125 2.09375 \r\nQ 45.015625 0.34375 40.984375 -0.53125 \r\nQ 36.96875 -1.421875 32.421875 -1.421875 \r\nQ 20.0625 -1.421875 12.78125 6.34375 \r\nQ 5.515625 14.109375 5.515625 27.296875 \r\nQ 5.515625 40.671875 12.859375 48.328125 \r\nQ 20.21875 56 33.015625 56 \r\nQ 37.15625 56 41.109375 55.140625 \r\nQ 45.0625 54.296875 48.78125 52.59375 \r\nz\r\n\" id=\"DejaVuSans-99\"/>\r\n      <path d=\"M 8.5 21.578125 \r\nL 8.5 54.6875 \r\nL 17.484375 54.6875 \r\nL 17.484375 21.921875 \r\nQ 17.484375 14.15625 20.5 10.265625 \r\nQ 23.53125 6.390625 29.59375 6.390625 \r\nQ 36.859375 6.390625 41.078125 11.03125 \r\nQ 45.3125 15.671875 45.3125 23.6875 \r\nL 45.3125 54.6875 \r\nL 54.296875 54.6875 \r\nL 54.296875 0 \r\nL 45.3125 0 \r\nL 45.3125 8.40625 \r\nQ 42.046875 3.421875 37.71875 1 \r\nQ 33.40625 -1.421875 27.6875 -1.421875 \r\nQ 18.265625 -1.421875 13.375 4.4375 \r\nQ 8.5 10.296875 8.5 21.578125 \r\nz\r\nM 31.109375 56 \r\nz\r\n\" id=\"DejaVuSans-117\"/>\r\n      <path d=\"M 41.109375 46.296875 \r\nQ 39.59375 47.171875 37.8125 47.578125 \r\nQ 36.03125 48 33.890625 48 \r\nQ 26.265625 48 22.1875 43.046875 \r\nQ 18.109375 38.09375 18.109375 28.8125 \r\nL 18.109375 0 \r\nL 9.078125 0 \r\nL 9.078125 54.6875 \r\nL 18.109375 54.6875 \r\nL 18.109375 46.1875 \r\nQ 20.953125 51.171875 25.484375 53.578125 \r\nQ 30.03125 56 36.53125 56 \r\nQ 37.453125 56 38.578125 55.875 \r\nQ 39.703125 55.765625 41.0625 55.515625 \r\nz\r\n\" id=\"DejaVuSans-114\"/>\r\n      <path d=\"M 34.28125 27.484375 \r\nQ 23.390625 27.484375 19.1875 25 \r\nQ 14.984375 22.515625 14.984375 16.5 \r\nQ 14.984375 11.71875 18.140625 8.90625 \r\nQ 21.296875 6.109375 26.703125 6.109375 \r\nQ 34.1875 6.109375 38.703125 11.40625 \r\nQ 43.21875 16.703125 43.21875 25.484375 \r\nL 43.21875 27.484375 \r\nz\r\nM 52.203125 31.203125 \r\nL 52.203125 0 \r\nL 43.21875 0 \r\nL 43.21875 8.296875 \r\nQ 40.140625 3.328125 35.546875 0.953125 \r\nQ 30.953125 -1.421875 24.3125 -1.421875 \r\nQ 15.921875 -1.421875 10.953125 3.296875 \r\nQ 6 8.015625 6 15.921875 \r\nQ 6 25.140625 12.171875 29.828125 \r\nQ 18.359375 34.515625 30.609375 34.515625 \r\nL 43.21875 34.515625 \r\nL 43.21875 35.40625 \r\nQ 43.21875 41.609375 39.140625 45 \r\nQ 35.0625 48.390625 27.6875 48.390625 \r\nQ 23 48.390625 18.546875 47.265625 \r\nQ 14.109375 46.140625 10.015625 43.890625 \r\nL 10.015625 52.203125 \r\nQ 14.9375 54.109375 19.578125 55.046875 \r\nQ 24.21875 56 28.609375 56 \r\nQ 40.484375 56 46.34375 49.84375 \r\nQ 52.203125 43.703125 52.203125 31.203125 \r\nz\r\n\" id=\"DejaVuSans-97\"/>\r\n      <path d=\"M 32.171875 -5.078125 \r\nQ 28.375 -14.84375 24.75 -17.8125 \r\nQ 21.140625 -20.796875 15.09375 -20.796875 \r\nL 7.90625 -20.796875 \r\nL 7.90625 -13.28125 \r\nL 13.1875 -13.28125 \r\nQ 16.890625 -13.28125 18.9375 -11.515625 \r\nQ 21 -9.765625 23.484375 -3.21875 \r\nL 25.09375 0.875 \r\nL 2.984375 54.6875 \r\nL 12.5 54.6875 \r\nL 29.59375 11.921875 \r\nL 46.6875 54.6875 \r\nL 56.203125 54.6875 \r\nz\r\n\" id=\"DejaVuSans-121\"/>\r\n     </defs>\r\n     <g transform=\"translate(67.103125 213.560313)scale(0.1 -0.1)\">\r\n      <use xlink:href=\"#DejaVuSans-65\"/>\r\n      <use x=\"66.658203\" xlink:href=\"#DejaVuSans-99\"/>\r\n      <use x=\"121.638672\" xlink:href=\"#DejaVuSans-99\"/>\r\n      <use x=\"176.619141\" xlink:href=\"#DejaVuSans-117\"/>\r\n      <use x=\"239.998047\" xlink:href=\"#DejaVuSans-114\"/>\r\n      <use x=\"281.111328\" xlink:href=\"#DejaVuSans-97\"/>\r\n      <use x=\"342.390625\" xlink:href=\"#DejaVuSans-99\"/>\r\n      <use x=\"397.371094\" xlink:href=\"#DejaVuSans-121\"/>\r\n     </g>\r\n    </g>\r\n   </g>\r\n  </g>\r\n </g>\r\n <defs>\r\n  <clipPath id=\"pb12bab1bb4\">\r\n   <rect height=\"217.44\" width=\"334.8\" x=\"30.103125\" y=\"7.2\"/>\r\n  </clipPath>\r\n </defs>\r\n</svg>\r\n",
            "image/png": "[encoded data removed]"
          },
          "metadata": {
            "needs_background": "light"
          }
        }
      ]
    },
    {
      "cell_type": "code",
      "metadata": {
        "id": "AFF0gk0JPsTn"
      },
      "source": [
        "# Faz a predição\n",
        "resultado = model.predict(predizer)"
      ],
      "execution_count": 7,
      "outputs": []
    },
    {
      "cell_type": "code",
      "metadata": {
        "id": "GzV658eaPsTj",
        "outputId": "f87cb820-ca75-4ef3-efd5-08b47f102b7b",
        "colab": {
          "base_uri": "https://localhost:8080/",
          "height": 143
        }
      },
      "source": [
        "fig, axes = plt.subplots(1,5, figsize=(10,2))\n",
        "ax = axes.ravel()\n",
        "for i in range(5):\n",
        "    ax[i].imshow(predizer[i], cmap=\"gray\")\n",
        "    ax[i].set_title(int(np.where(predizer_labels[i] > 0)[0]))\n",
        "    ax[i].title\n",
        "    ax[i].axis('off')"
      ],
      "execution_count": 8,
      "outputs": [
        {
          "output_type": "display_data",
          "data": {
            "text/plain": "<Figure size 720x144 with 5 Axes>",
            "image/svg+xml": "<?xml version=\"1.0\" encoding=\"utf-8\" standalone=\"no\"?>\r\n<!DOCTYPE svg PUBLIC \"-//W3C//DTD SVG 1.1//EN\"\r\n  \"http://www.w3.org/Graphics/SVG/1.1/DTD/svg11.dtd\">\r\n<!-- Created with matplotlib (https://matplotlib.org/) -->\r\n<svg height=\"125.725022pt\" version=\"1.1\" viewBox=\"0 0 572.4 125.725022\" width=\"572.4pt\" xmlns=\"http://www.w3.org/2000/svg\" xmlns:xlink=\"http://www.w3.org/1999/xlink\">\r\n <defs>\r\n  <style type=\"text/css\">\r\n*{stroke-linecap:butt;stroke-linejoin:round;}\r\n  </style>\r\n </defs>\r\n <g id=\"figure_1\">\r\n  <g id=\"patch_1\">\r\n   <path d=\"M 0 125.725022 \r\nL 572.4 125.725022 \r\nL 572.4 0 \r\nL 0 0 \r\nz\r\n\" style=\"fill:none;\"/>\r\n  </g>\r\n  <g id=\"axes_1\">\r\n   <g clip-path=\"url(#pe410af6834)\">\r\n    <image height=\"97\" id=\"image81f6a66b06\" transform=\"scale(1 -1)translate(0 -97)\" width=\"97\" x=\"7.2\" xlink:href=\"data:image/png;base64,\r\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\" y=\"-21.525022\"/>\r\n   </g>\r\n   <g id=\"text_1\">\r\n    <!-- 4 -->\r\n    <defs>\r\n     <path d=\"M 37.796875 64.3125 \r\nL 12.890625 25.390625 \r\nL 37.796875 25.390625 \r\nz\r\nM 35.203125 72.90625 \r\nL 47.609375 72.90625 \r\nL 47.609375 25.390625 \r\nL 58.015625 25.390625 \r\nL 58.015625 17.1875 \r\nL 47.609375 17.1875 \r\nL 47.609375 0 \r\nL 37.796875 0 \r\nL 37.796875 17.1875 \r\nL 4.890625 17.1875 \r\nL 4.890625 26.703125 \r\nz\r\n\" id=\"DejaVuSans-52\"/>\r\n    </defs>\r\n    <g transform=\"translate(51.485948 16.318125)scale(0.12 -0.12)\">\r\n     <use xlink:href=\"#DejaVuSans-52\"/>\r\n    </g>\r\n   </g>\r\n  </g>\r\n  <g id=\"axes_2\">\r\n   <g clip-path=\"url(#p7845287c42)\">\r\n    <image height=\"97\" id=\"imageb3c38aaf7b\" transform=\"scale(1 -1)translate(0 -97)\" width=\"97\" x=\"122.648276\" xlink:href=\"data:image/png;base64,\r\niVBORw0KGgoAAAANSUhEUgAAAGEAAABhCAYAAADGBs+jAAAABHNCSVQICAgIfAhkiAAABSVJREFUeJztnMsrrl8Uxzce94E7ISn3kpCIDFDKxETCVEoGSogMzPwDDEjJQImhxMDEtRSRSwoTJRQSud9vv9k6a+3O+3J+k7Ocvp/R9+n7nPd5z/s9e++1L8/xMMZ8GvBX8fzbXwAgBBUgBAUgBAUgBAUgBAUgBAUgBAUgBAUgBAUgBAUgBAUgBAUgBAUgBAUgBAUgBAUgBAUgBAUgBAUgBAUgBAUgBAU4gYGBdJGdnS3MiIgI0qGhocLz8/MjHRAQ4NLj2hhjPj4+SKelpQnPw8OD9O3trfCen59J+/v7k766uhL3LS8vkz4/PxfeyckJ6eDgYOF1dnaSvrm5Ed7l5eVvv6Mx8u/+9PQkvPv7e9I+Pj7CGxgYII2WoACEoACEoAAnIyODLurr64XJx4v393fh8b797e1NeJGRkaS9vLxcelVVVcLLz88nXV5eLrywsDDSs7OzpE9PT8V9bW1tv32WMXL8eHx8FB4fZ7a3t4WXnJxMmv8mxhhTUFBAem9vT3jr6+uk4+Pjhcd/M7QEBSAEBTi8pOP6K4KCgki3tLQILyEhgfTh4aHwUlJSSPOS0RhjFhYWSHt6yn8f/Hk9PT2ki4qKxH28vLS7o4uLC9IlJSUuP7+mpkZ4eXl5pIeHh4VXWlpKuqysTHjT09Ok7a6Xd+doCQpACApACApw+DTcLic5dhn6+fnrLavx8XHh8XJsa2tLeLzEGxsbEx7vi+0lBz5e8O88Pz8v7ltdXSXN+11jjOnq6jKuuL6+Js2Xa2zskpjT3NwsrvmYsLGxITy+ZIOWoACEoACHdyv2rJhjd1W8FNzc3BTewcEB6aioKOEdHx+THhwcFB6f0dormXwVks+e5+bmxH28qzo6OhKefa8rsrKyxDVfCa6urnZ57+joqPD472mvCvMVV7QEBSAEBSAEBTj8go8PNvZ4wccI2+NjRGxsrPDCw8NJt7e3C29oaIh0cXGx8Do6OkjzZRG+UmmMLI9nZmbM/+H19VVc7+/vk7Z3CnNzc0l3d3e7/MzMzExxzVdq0RIUgBAU4Ngb19/FXTlrz6DFA51fPWBDQ4PwKisrSfMVT2PkDPPh4YG0PbPmJbG9iuoO/jucnZ0JLyQkhLRdOvMNpru7O5efb2/qTE1NkUZLUABCUABCUIDjrix1By9R7dVKjv35fDW2r6/v28+rra0lzTfX7U35nZ0d0nzl9Sv4d7HHksXFRdLp6enCKywsJL22tiY8/jn2sgUHLUEBCEEBbktU3pV8974vH8hKVG9vb+G5K3v5bDo6Opo0PzdljFyd5Kut9p9bWVkRHj+HxMtOY+QmD9/YN0Zu3NTV1QmPz5IrKiqMK9ASFIAQFOBhfvh/yWmfH0pKSiJtn3lqbGwkvbu7Kzx+HupPZr68ckpMTBTexMQE6ZGREeHxbhktQQEIQQEIQQE/fkz4E3iZaJ8bXVpaIu3r6yu8nJwc0vZrVvYrUpympibS/FyTMbLkR0tQAEJQgPP1LTrgzZfP0Pl+szHy2Hx/f7/w+N6xPfPlZ6BSU1OFFxcXR3pyclJ4MTExpPlmkzGyDHUHWoICEIICEIIC/rkSlY8dfNXUGHkO1n4Ls7W1lXRvb6/w+Jv5Ly8vLp9tn9d1tyrMQUtQAEJQwD/XHf1E0BIUgBAUgBAUgBAUgBAUgBAUgBAUgBAUgBAUgBAUgBAUgBAUgBAUgBAUgBAUgBAUgBAUgBAUgBAUgBAUgBAUgBAUgBAUgBAUgBAUgBAUgBAU8B9pYIcmPlIAPQAAAABJRU5ErkJggg==\" y=\"-21.525022\"/>\r\n   </g>\r\n   <g id=\"text_2\">\r\n    <!-- 5 -->\r\n    <defs>\r\n     <path d=\"M 10.796875 72.90625 \r\nL 49.515625 72.90625 \r\nL 49.515625 64.59375 \r\nL 19.828125 64.59375 \r\nL 19.828125 46.734375 \r\nQ 21.96875 47.46875 24.109375 47.828125 \r\nQ 26.265625 48.1875 28.421875 48.1875 \r\nQ 40.625 48.1875 47.75 41.5 \r\nQ 54.890625 34.8125 54.890625 23.390625 \r\nQ 54.890625 11.625 47.5625 5.09375 \r\nQ 40.234375 -1.421875 26.90625 -1.421875 \r\nQ 22.3125 -1.421875 17.546875 -0.640625 \r\nQ 12.796875 0.140625 7.71875 1.703125 \r\nL 7.71875 11.625 \r\nQ 12.109375 9.234375 16.796875 8.0625 \r\nQ 21.484375 6.890625 26.703125 6.890625 \r\nQ 35.15625 6.890625 40.078125 11.328125 \r\nQ 45.015625 15.765625 45.015625 23.390625 \r\nQ 45.015625 31 40.078125 35.4375 \r\nQ 35.15625 39.890625 26.703125 39.890625 \r\nQ 22.75 39.890625 18.8125 39.015625 \r\nQ 14.890625 38.140625 10.796875 36.28125 \r\nz\r\n\" id=\"DejaVuSans-53\"/>\r\n    </defs>\r\n    <g transform=\"translate(166.934224 16.318125)scale(0.12 -0.12)\">\r\n     <use xlink:href=\"#DejaVuSans-53\"/>\r\n    </g>\r\n   </g>\r\n  </g>\r\n  <g id=\"axes_3\">\r\n   <g clip-path=\"url(#p92c4eeedfb)\">\r\n    <image height=\"97\" id=\"imagee7592203c9\" transform=\"scale(1 -1)translate(0 -97)\" width=\"97\" x=\"238.096552\" xlink:href=\"data:image/png;base64,\r\niVBORw0KGgoAAAANSUhEUgAAAGEAAABhCAYAAADGBs+jAAAABHNCSVQICAgIfAhkiAAABH9JREFUeJztnLlKZFEQhqu13RdURMUFRDAQFEMVAx9AzI3NNDcQH8AH0DdoMxE1MDJyyRQDF1BBRYxcEHHfnaysqrGbZhiZH+b/ov9St2+f279Vp+45FxMi8inkn5LzrwdAaAIENAEAmgAATQCAJgBAEwCgCQDQBABoAgA0AQCaAABNAIAmAEATAKAJANAEAGgCADQBAJoAAE0AgCYAQBMAoAkA0AQAaAIANAGAZGVlpR6Mjo664NXVlerq6moXy8/PV/3y8uJixcXFqu31RUQ+P79efU0mky72/v7+rRYRycn5+nspKir69noiIs/Pz6oLCgrSxm5vb9Ne32oRkbe3N9XX19cu9vT0pNr+XiIi+/v7qpeWliQdzAQAaAIAiVQqpfk8ODjogpubm6pt2on4cmTLj4jIzc2N6svLSxcrLS1VHdPe8vHx4Y5tSbA6nhdLo+X19VX13d2di9nSGO+nrKxMdWFhoYvZ38GOK14zlvOJiQnVzAQAaAIANAGAxOzsrM4JNTU1LphKpVS3t7e7mK2NsS4/PDyozlT3Y8zWV6vjd9i6H8+zMTsOkd9rdrZjtvNYRUWFi5WXl6uO84z9jdra2lzMXoeZAABNACB5eHioB93d3S5oS5BNOxGRo6Mj1efn5/6ipjWrr693MVs+4hOzbYNjKbHlyJaVs7Mzd55tQ22rHCkpKXHH9h5yc3OzHrMtOfE3qqurS/u52tpa1cwEAGgCADQBgERvb6+2qGtray44NjamOrZ3VVVVquOjvF1pjMsd9lzb+kViu2fniLy8PNV2RVXEt6hxTrC1PdZvu7ySaekj3qv9fjuuOOauri4Xm56eVs1MAIAmAJC0JeHg4MAFGxoaVDc3N7uYXRWMmxk27WNJ2N3dVb21teVidiMnbtbY77u/v1d9fHzszrObSLHVtKUxlkm7Umpby3hubJ0vLi5Un5ycuJhteycnJ13MbjAxEwCgCQDQBACStp2Mtd22XHGDe3V1VXVs6Wy9a21tdbGenh7VfX19LraysqLazkciItvb26pt+xrb3MfHR9VxVdjOK7bFFhHZ29tTbe9NRGRjY0O1nQP+FswEAGgCAMmdnZ20QZv2CwsLLmY/F8tYpg2SpqYm1UNDQy7W2Nio2r5kICIyMDCgen5+XnXcZOns7FRtV3pFfAse3wOK7WW22DY43qtd+Y3vUVmYCQDQBAASYv4l58zMjAtOTU2pXl5e/vHBLC4uql5fX3cx23HZp9tYCu1T6tzcnIvFVx8ttqzEPfNsiU/52cJMAIAmAEATAHBzQtwgsU+fEXtupk2QSKZWrb+/X3V86cB+rqWlRfX4+Lg77/T0NKtxxBXWbMf4EzATAKAJALhyhMTw8LA77ujoUD0yMpLVNRKJhDv+0xbyp2EmAEATAKAJAMDOCf8TzAQAaAIANAEAmgAATQCAJgBAEwCgCQDQBABoAgA0AQCaAABNAIAmAEATAKAJANAEAGgCADQBAJoAAE0AgCYAQBMAoAkA0AQAaAIANAEAmgAATQCAJgDwCwhagNqJmNZYAAAAAElFTkSuQmCC\" y=\"-21.525022\"/>\r\n   </g>\r\n   <g id=\"text_3\">\r\n    <!-- 7 -->\r\n    <defs>\r\n     <path d=\"M 8.203125 72.90625 \r\nL 55.078125 72.90625 \r\nL 55.078125 68.703125 \r\nL 28.609375 0 \r\nL 18.3125 0 \r\nL 43.21875 64.59375 \r\nL 8.203125 64.59375 \r\nz\r\n\" id=\"DejaVuSans-55\"/>\r\n    </defs>\r\n    <g transform=\"translate(282.3825 16.318125)scale(0.12 -0.12)\">\r\n     <use xlink:href=\"#DejaVuSans-55\"/>\r\n    </g>\r\n   </g>\r\n  </g>\r\n  <g id=\"axes_4\">\r\n   <g clip-path=\"url(#pf4bd06dadd)\">\r\n    <image height=\"97\" id=\"imageae652e61dd\" transform=\"scale(1 -1)translate(0 -97)\" width=\"97\" x=\"353.544828\" xlink:href=\"data:image/png;base64,\r\niVBORw0KGgoAAAANSUhEUgAAAGEAAABhCAYAAADGBs+jAAAABHNCSVQICAgIfAhkiAAABJxJREFUeJztncsrLVAUxvfxfpcikokkRcp/YsLQ3MjcSJn7E5gaGxkYKGWilNeAGBCiROT9vrPdt9bt7HvrHGd/g+83Wtvah12ftfZ7n0II4SeQMDExEe2hoSHja2xsjPbh4WG0d3Z2itZ7eXkxvsHBwWgvLS2V1tgyUpW7AUIiUFAIGdPR3NycKc/MzET76urK+FpbW6Pd1NQU7dvbW1OvpqYm2u/v78b3+PgY7ba2NuObnJyM9urq6j/bXk4UCQRIBAIkAgE1/67ye0xNTZny6elptO/u7ozv+/s72sfHx9H2eR+HpbW1tcZXKBSiXV1dbXzt7e3/2+yyo0ggQCIQkDUdbWxsmPLo6GjRujgTRhtTTAghfH19Rbu+vt74Pj8/o/36+mp8OAuvNIoEAiQCARKBgKx9gs/Lzc3N0b6+vjY+zPU4XMWfe6qq7P/Yx8dHtPv6+pJtqSSKBAIkAgFZ0xGuaobw9wz3f/j5sYvAOBOuq6szvqenp2jjcDWEv2folUSRQIBEIEAiEJC1T7i/vzdlzOE+12MZh56+Hi5j+CUNP2RF/A5dJVEkECARCMiaji4uLkwZ05GfCWPZpxkEU45PPzjTfnt7Mz6cTVcaRQIBEoEAiUAA1bIFLjn4ZQUcimL/4PuO1NIH9hE5+wCPIoEAiUBA1nR0fn5uyqmhZ7H0gcPOEGza8ikN8akwJ4oEAiQCARKBgKx9QurAle8fiuX31MqoX2HF4atfMsmJIoEAiUBA1nSER+E9eCUqBHsEHmfWqSGq9+Eqbc6zpx5FAgESgQCJQEDWPsGvgOJVJ3+dCeuiL7XR75c68F6Dv6KbE0UCARKBgKzpyHN2dhbt1DlS9PmZNaYqn46w7t7eXmmNLSOKBAIkAgESgQCqPuHk5CTa/f39xofnVnG4iq+6hGCHrH74ip87Ojoqqa3lRJFAgEQggCod7e/vR3tgYMD4cEMmdS4VfT4d4ZD15uamtMaWEUUCARKBAKp0tLm5Ge3x8XHjww2aYrd2QkhfLu/u7o42vpmUG0UCARKBAIlAAFWfsLW1FW3/th0ORVNnTPGhENzECSGEy8vLUpv4KygSCJAIBFClIxw2dnZ2Gh/uP2Oq8s8tPz8/R9vPppWORFEkAgESgQCqPgFZW1sz5ZGRkWjjiqo/n4T4PuHg4KBMrSsvigQCJAIBWdORTxe4OupXOfEJZxyi+odCHh4eot3b22t8uIedaovfDPptFAkESAQCJAIBWfuEVO7116XwfFHqc11dXdH2/QUrigQCJAIBtDPm4eFhU8bNGrRT79z5l+B7enqK/r1KD0sRRQIBEoEAiUAAbZ/gN+nxaDx+a1RLS4uph/2Af3rZ12VBkUCARCCAKh3hZg2eGw3Bppnd3d1oLy4umnqzs7PRxi9KCiGEjo6OsrSz3CgSCJAIBEgEAqj6BLzOtL6+bnzz8/PR3t7eLvo7VlZWoj02NmZ809PTpTbxV1AkECARCKBKRw0NDdFeWFgwvmIpKHVYYHl52fhyfr9mCkUCARKBAIlAAFWfgENUfIAqReoLUP11WnyaOdWXVBpFAgESgYA/Cz2kp7eeJkIAAAAASUVORK5CYII=\" y=\"-21.525022\"/>\r\n   </g>\r\n   <g id=\"text_4\">\r\n    <!-- 3 -->\r\n    <defs>\r\n     <path d=\"M 40.578125 39.3125 \r\nQ 47.65625 37.796875 51.625 33 \r\nQ 55.609375 28.21875 55.609375 21.1875 \r\nQ 55.609375 10.40625 48.1875 4.484375 \r\nQ 40.765625 -1.421875 27.09375 -1.421875 \r\nQ 22.515625 -1.421875 17.65625 -0.515625 \r\nQ 12.796875 0.390625 7.625 2.203125 \r\nL 7.625 11.71875 \r\nQ 11.71875 9.328125 16.59375 8.109375 \r\nQ 21.484375 6.890625 26.8125 6.890625 \r\nQ 36.078125 6.890625 40.9375 10.546875 \r\nQ 45.796875 14.203125 45.796875 21.1875 \r\nQ 45.796875 27.640625 41.28125 31.265625 \r\nQ 36.765625 34.90625 28.71875 34.90625 \r\nL 20.21875 34.90625 \r\nL 20.21875 43.015625 \r\nL 29.109375 43.015625 \r\nQ 36.375 43.015625 40.234375 45.921875 \r\nQ 44.09375 48.828125 44.09375 54.296875 \r\nQ 44.09375 59.90625 40.109375 62.90625 \r\nQ 36.140625 65.921875 28.71875 65.921875 \r\nQ 24.65625 65.921875 20.015625 65.03125 \r\nQ 15.375 64.15625 9.8125 62.3125 \r\nL 9.8125 71.09375 \r\nQ 15.4375 72.65625 20.34375 73.4375 \r\nQ 25.25 74.21875 29.59375 74.21875 \r\nQ 40.828125 74.21875 47.359375 69.109375 \r\nQ 53.90625 64.015625 53.90625 55.328125 \r\nQ 53.90625 49.265625 50.4375 45.09375 \r\nQ 46.96875 40.921875 40.578125 39.3125 \r\nz\r\n\" id=\"DejaVuSans-51\"/>\r\n    </defs>\r\n    <g transform=\"translate(397.830776 16.318125)scale(0.12 -0.12)\">\r\n     <use xlink:href=\"#DejaVuSans-51\"/>\r\n    </g>\r\n   </g>\r\n  </g>\r\n  <g id=\"axes_5\">\r\n   <g clip-path=\"url(#p877114be9e)\">\r\n    <image height=\"97\" id=\"image733da6a681\" transform=\"scale(1 -1)translate(0 -97)\" width=\"97\" x=\"468.993103\" xlink:href=\"data:image/png;base64,\r\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\" y=\"-21.525022\"/>\r\n   </g>\r\n   <g id=\"text_5\">\r\n    <!-- 4 -->\r\n    <g transform=\"translate(513.279052 16.318125)scale(0.12 -0.12)\">\r\n     <use xlink:href=\"#DejaVuSans-52\"/>\r\n    </g>\r\n   </g>\r\n  </g>\r\n </g>\r\n <defs>\r\n  <clipPath id=\"pe410af6834\">\r\n   <rect height=\"96.206897\" width=\"96.206897\" x=\"7.2\" y=\"22.318125\"/>\r\n  </clipPath>\r\n  <clipPath id=\"p7845287c42\">\r\n   <rect height=\"96.206897\" width=\"96.206897\" x=\"122.648276\" y=\"22.318125\"/>\r\n  </clipPath>\r\n  <clipPath id=\"p92c4eeedfb\">\r\n   <rect height=\"96.206897\" width=\"96.206897\" x=\"238.096552\" y=\"22.318125\"/>\r\n  </clipPath>\r\n  <clipPath id=\"pf4bd06dadd\">\r\n   <rect height=\"96.206897\" width=\"96.206897\" x=\"353.544828\" y=\"22.318125\"/>\r\n  </clipPath>\r\n  <clipPath id=\"p877114be9e\">\r\n   <rect height=\"96.206897\" width=\"96.206897\" x=\"468.993103\" y=\"22.318125\"/>\r\n  </clipPath>\r\n </defs>\r\n</svg>\r\n",
            "image/png": "[encoded data removed]"
          },
          "metadata": {
            "needs_background": "light"
          }
        }
      ]
    },
    {
      "cell_type": "code",
      "metadata": {
        "id": "xLLBxWEQQvpa",
        "outputId": "4fffe72c-dbe7-4b50-98be-83dcd714385c",
        "colab": {
          "base_uri": "https://localhost:8080/",
          "height": 101
        }
      },
      "source": [
        "for i in range(5):\n",
        "    print(f'Imagem 1{i}: {np.where(resultado[i] > 0)[0]}')"
      ],
      "execution_count": 9,
      "outputs": [
        {
          "output_type": "stream",
          "name": "stdout",
          "text": [
            "Imagem 10: [4]\nImagem 11: [5 8]\nImagem 12: [4 8]\nImagem 13: [3]\nImagem 14: [4]\n"
          ]
        }
      ]
    },
    {
      "cell_type": "markdown",
      "metadata": {
        "id": "ifQGbqS05Rts"
      },
      "source": [
        "---\n",
        "\n",
        "### Questão 5)\n",
        "\n",
        "Carregue a base de dados MNIST do pacote Keras, e pre-processe conforme código abaixo.\n",
        "\n",
        "Vamos utilizar o modelo treinado na questão anterior como forma de trasnferência de aprendizado. Se preciso reinicialize o modelo e treine-o novamente para garantir que apenas 7 épocas foram executadas. O modelo final deve ter acurácia de treinamento próxima a 0.89 (computada na base Fashion). \n",
        "\n",
        "Agora, assuma que esse modelo já treinado está armazenado numa variável `model`. Então proceda da seguinte forma:\n",
        "\n",
        "1. Obtendo a saída da penúltima camada (referente ao Dropout):\n",
        "\n",
        "`base_saida = model.layers[-2].output`\n",
        "\n",
        "2. Criando uma nova camada de saída que recebe como entrada a anterior \n",
        "\n",
        "`saida_nova = keras.layers.Dense(10, activation='softmax')(base_saida)`\n",
        "\n",
        "3. Criando um novo modelo tendo essa nova camada como saída \n",
        "\n",
        "`model2 = keras.models.Model(model.inputs, saida_nova)`\n",
        "\n",
        "Você pode usar o summary para conferir o modelo montado.\n",
        "\n",
        "Agora inicialize as sementes do numpy para 1 e tensorflow para 2, compile e treine o novo modelo com função de custo entropia cruzada categórica, otimizador Adam com taxa de aprendizado 0.002, 16 exemplos no mini-batch e 3 épocas.\n",
        "\n",
        "Avalie a acurácia no conjunto de testes. Em qual intervalo está a acurácia resultante, considerando arredondamento para 2 casas decimais?\n",
        "\n",
        "(a) [0.94,0.96]<br>\n",
        "(b) [0.98,1.00]<br>\n",
        "(c) [0.87,0.90]<br>\n",
        "(d) [0.92,0.93]<br>"
      ]
    },
    {
      "cell_type": "code",
      "metadata": {
        "id": "K5Owfr6GyqqY",
        "scrolled": false
      },
      "source": [
        "mnist = keras.datasets.mnist\n",
        "(train_images2, train_labels2), (test_images2, test_labels2) = mnist.load_data()\n",
        "\n",
        "train_images2 = train_images2 / 255.0\n",
        "test_images2 = test_images2 / 255.0\n",
        "\n",
        "train_labels2 = keras.utils.to_categorical(train_labels2, 10)\n",
        "test_labels2 = keras.utils.to_categorical(test_labels2, 10)"
      ],
      "execution_count": 10,
      "outputs": []
    },
    {
      "cell_type": "code",
      "execution_count": 11,
      "metadata": {},
      "outputs": [],
      "source": [
        "# 1 - Obtendo a saída da penúltima camada (referente ao Dropout):\n",
        "base_saida = model.layers[-2].output"
      ]
    },
    {
      "cell_type": "code",
      "execution_count": 12,
      "metadata": {},
      "outputs": [],
      "source": [
        "# 2 - Criando uma nova camada de saída que recebe como entrada a anterior\n",
        "saida_nova = keras.layers.Dense(10, activation='softmax')(base_saida)"
      ]
    },
    {
      "cell_type": "code",
      "execution_count": 13,
      "metadata": {},
      "outputs": [],
      "source": [
        "# 3 - Criando um novo modelo tendo essa nova camada como saída\n",
        "model2 = keras.models.Model(model.inputs, saida_nova)"
      ]
    },
    {
      "cell_type": "code",
      "execution_count": 14,
      "metadata": {},
      "outputs": [
        {
          "output_type": "stream",
          "name": "stdout",
          "text": [
            "Model: \"functional_3\"\n_________________________________________________________________\nLayer (type)                 Output Shape              Param #   \n=================================================================\ninput_1 (InputLayer)         [(None, 28, 28, 1)]       0         \n_________________________________________________________________\nsequential (Sequential)      (None, 28, 28, 1)         0         \n_________________________________________________________________\nactivation (Activation)      (None, 28, 28, 1)         0         \n_________________________________________________________________\nconv2d (Conv2D)              (None, 28, 28, 64)        640       \n_________________________________________________________________\nbatch_normalization (BatchNo (None, 28, 28, 64)        256       \n_________________________________________________________________\nseparable_conv2d (SeparableC (None, 28, 28, 64)        4736      \n_________________________________________________________________\nmax_pooling2d (MaxPooling2D) (None, 14, 14, 64)        0         \n_________________________________________________________________\nbatch_normalization_1 (Batch (None, 14, 14, 64)        256       \n_________________________________________________________________\nseparable_conv2d_1 (Separabl (None, 14, 14, 256)       17216     \n_________________________________________________________________\nmax_pooling2d_1 (MaxPooling2 (None, 7, 7, 256)         0         \n_________________________________________________________________\nglobal_average_pooling2d (Gl (None, 256)               0         \n_________________________________________________________________\ndropout (Dropout)            (None, 256)               0         \n_________________________________________________________________\ndense_1 (Dense)              (None, 10)                2570      \n=================================================================\nTotal params: 25,674\nTrainable params: 25,418\nNon-trainable params: 256\n_________________________________________________________________\n"
          ]
        }
      ],
      "source": [
        "model2.summary()"
      ]
    },
    {
      "cell_type": "code",
      "execution_count": 15,
      "metadata": {},
      "outputs": [
        {
          "output_type": "stream",
          "name": "stdout",
          "text": [
            "Model: \"functional_3\"\n_________________________________________________________________\nLayer (type)                 Output Shape              Param #   \n=================================================================\ninput_1 (InputLayer)         [(None, 28, 28, 1)]       0         \n_________________________________________________________________\nsequential (Sequential)      (None, 28, 28, 1)         0         \n_________________________________________________________________\nactivation (Activation)      (None, 28, 28, 1)         0         \n_________________________________________________________________\nconv2d (Conv2D)              (None, 28, 28, 64)        640       \n_________________________________________________________________\nbatch_normalization (BatchNo (None, 28, 28, 64)        256       \n_________________________________________________________________\nseparable_conv2d (SeparableC (None, 28, 28, 64)        4736      \n_________________________________________________________________\nmax_pooling2d (MaxPooling2D) (None, 14, 14, 64)        0         \n_________________________________________________________________\nbatch_normalization_1 (Batch (None, 14, 14, 64)        256       \n_________________________________________________________________\nseparable_conv2d_1 (Separabl (None, 14, 14, 256)       17216     \n_________________________________________________________________\nmax_pooling2d_1 (MaxPooling2 (None, 7, 7, 256)         0         \n_________________________________________________________________\nglobal_average_pooling2d (Gl (None, 256)               0         \n_________________________________________________________________\ndropout (Dropout)            (None, 256)               0         \n_________________________________________________________________\ndense_1 (Dense)              (None, 10)                2570      \n=================================================================\nTotal params: 25,674\nTrainable params: 25,418\nNon-trainable params: 256\n_________________________________________________________________\n"
          ]
        }
      ],
      "source": [
        "seed(1)\n",
        "set_seed(2)\n",
        "\n",
        "model2.compile(loss='categorical_crossentropy'\n",
        "            , optimizer=tf.keras.optimizers.Adam(lr=0.002)\n",
        "            , metrics=['accuracy'])\n",
        "\n",
        "model2.summary()\n"
      ]
    },
    {
      "cell_type": "code",
      "execution_count": 16,
      "metadata": {},
      "outputs": [
        {
          "output_type": "stream",
          "name": "stdout",
          "text": [
            "Epoch 1/3\n",
            "3750/3750 [==============================] - 37s 10ms/step - loss: 0.1734 - accuracy: 0.9471 - val_loss: 0.0454 - val_accuracy: 0.9861\n",
            "Epoch 2/3\n",
            "3750/3750 [==============================] - 37s 10ms/step - loss: 0.0711 - accuracy: 0.9778 - val_loss: 0.0914 - val_accuracy: 0.9717\n",
            "Epoch 3/3\n",
            "3750/3750 [==============================] - 37s 10ms/step - loss: 0.0579 - accuracy: 0.9820 - val_loss: 0.0437 - val_accuracy: 0.9873\n"
          ]
        }
      ],
      "source": [
        "hist2 = model2.fit(train_images2, train_labels2, batch_size=16, epochs=3, verbose=1, validation_data=(test_images2, test_labels2))"
      ]
    },
    {
      "cell_type": "code",
      "execution_count": 17,
      "metadata": {},
      "outputs": [
        {
          "output_type": "stream",
          "name": "stdout",
          "text": [
            "313/313 [==============================] - 2s 7ms/step - loss: 0.0437 - accuracy: 0.9873\n"
          ]
        }
      ],
      "source": [
        "acc = model2.evaluate(x=test_images2, y=test_labels2, verbose = 1)"
      ]
    },
    {
      "cell_type": "code",
      "execution_count": 18,
      "metadata": {},
      "outputs": [
        {
          "output_type": "stream",
          "name": "stdout",
          "text": [
            "Treinamento: Loss 0.04 | Acurácia 0.99%\n"
          ]
        }
      ],
      "source": [
        "print(f'Treinamento: Loss {round(acc[0], 2)} | Acurácia {round(acc[1], 2)}%')"
      ]
    }
  ]
}