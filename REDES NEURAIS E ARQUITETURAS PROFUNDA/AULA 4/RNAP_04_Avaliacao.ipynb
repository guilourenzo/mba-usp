{
  "nbformat": 4,
  "nbformat_minor": 0,
  "metadata": {
    "accelerator": "GPU",
    "colab": {
      "name": "RNAP-04-Avaliacao.ipynb",
      "provenance": [],
      "collapsed_sections": [],
      "toc_visible": true
    },
    "kernelspec": {
      "display_name": "Python 3",
      "language": "python",
      "name": "python3"
    },
    "language_info": {
      "codemirror_mode": {
        "name": "ipython",
        "version": 3
      },
      "file_extension": ".py",
      "mimetype": "text/x-python",
      "name": "python",
      "nbconvert_exporter": "python",
      "pygments_lexer": "ipython3",
      "version": "3.8.3-final"
    }
  },
  "cells": [
    {
      "cell_type": "markdown",
      "metadata": {
        "id": "K8CDQUj8yqpq"
      },
      "source": [
        "## MBA em Ciência de Dados\n",
        "# Redes Neurais e Arquiteturas Profundas\n",
        "\n",
        "### <span style=\"color:darkred\">Módulo IV - Estratégias de Treinamento e Transferência de Aprendizado</span>\n",
        "\n",
        "\n",
        "### <span style=\"color:darkred\">Avaliação</span>\n",
        "\n",
        "Moacir Antonelli Ponti\n",
        "\n",
        "CeMEAI - ICMC/USP São Carlos\n",
        "\n",
        "---\n",
        "\n",
        "As respostas devem ser dadas no Moodle, use esse notebook apenas para gerar o código necessário para obter as respostas\n",
        "\n",
        "---"
      ]
    },
    {
      "cell_type": "markdown",
      "metadata": {
        "id": "xMJ4IFd7yqpt"
      },
      "source": [
        "\n",
        "### Questão 1)\n",
        "\n",
        "Qual a relação entre o modelo chamado de \"memorizador\" e as redes neurais profundas?\n",
        "\n",
        "(a) Redes neurais com alta capacidade podem memorizar todos os exemplos de treinamento, tornando-as hábeis para generalizar para dados futuros.<br>\n",
        "(b) Redes neurais com alta capacidade podem memorizar todos os exemplos de treinamento, falhando em predizer corretamente exemplos não vistos.<br>\n",
        "(c) Redes neurais com alta capacidade são imunes a convergir para modelos memorizadores, pois obtiveram resultados do estado-da-arte em muitas aplicações.<br>\n",
        "(d) Redes neurais com alta capacidade podem memorizar todos os exemplos de treinamento, e portanto possuem viés forte.<br>"
      ]
    },
    {
      "cell_type": "markdown",
      "metadata": {
        "id": "038CuS5syqqL"
      },
      "source": [
        "---\n",
        "\n",
        "### Questão 2)\n",
        "\n",
        "O papel do uso conjunto dos métodos BatchNormalization e Regularização é o de:\n",
        "\n",
        "(a) Pré-processamento dos dados antes da realização do treinamento<br>\n",
        "(b) Gerar espaço de parâmetros esparsos, com alguns poucos parâmetros com valor alto e muitos com valores próximo a zero, melhorando a generalização<br>\n",
        "(c) Minimizar o problema do desaparecimento do gradiente, e ao mesmo tempo evitar que poucas unidades/neurônios se especializem demais<br>\n",
        "(d) Obter robustez com relação à possíveis ataques e propiciar modelos menores com acurácia similar a modelos maiores<br>\n"
      ]
    },
    {
      "cell_type": "markdown",
      "metadata": {
        "id": "nJQ0-S3myqqL"
      },
      "source": [
        "---\n",
        "### Questão 3)\n",
        "\n",
        "São práticas viáveis para o uso de aprendizado profundo com pequenas bases de dados:\n",
        "\n",
        " (a) Carregar uma rede neural profunda popular de um pacote de software e treiná-la a partir de pesos aleatórios<br>\n",
        " (b) Carregar uma rede neural profunda pré-treinada em grande base de dados, e utilizar a saída da última camada  da rede, ou seja as predições das classes, como característica para modelos de aprendizado externos que permitem uso com menores bases de dados<br>\n",
        " (c) Carregar uma rede neural profunda popular de um pacote de software e treiná-la a partir de pesos aleatórios utilizando Batch Normalization<br>\n",
        " (d) Carregar uma rede neural profunda pré-treinada em grande base de dados, inserindo uma nova camada de saída treinando apenas essa camada com a pequena base de dados<br>"
      ]
    },
    {
      "cell_type": "markdown",
      "metadata": {
        "id": "C1sh5GgYyqqY"
      },
      "source": [
        "---\n",
        "\n",
        "### Questão 4)\n",
        "\n",
        "Carregue a base de dados Fashion MNIST conforme código abaixo e crie um modelo de CNN com a seguinte arquitetura, capaz de obter classificação nessa base de dados de imagens. Considere que todas as camadas convolucionais tem zeropadding, e ativação relu, exceto quando mencionado contrário.\n",
        "\n",
        "1. Pré-processamento para aumentação contendo:\n",
        "  * RandomZoom(0.1),\n",
        "  * RandomContrast(0.2)\n",
        "1. Convolucional 2D com 64 filtros $3\\times 3$.\n",
        "2. Batch Normalization\n",
        "3. SeparableConv2D com 64 filtros $3\\times 3$.\n",
        "4. MaxPooling2D $3\\times 3$ e strides $2$\n",
        "5. Batch Normalization\n",
        "6. SeparableConv2D com 256 filtros $3\\times 3$.\n",
        "7. MaxPooling2D $3\\times 3$ e strides $2$\n",
        "8. GlobalAveragePooling\n",
        "9. Dropout de 0.2\n",
        "10. Densa com ativação softmax\n",
        "\n",
        "Incialize as sementes do numpy com 1 e tensorflow com 2 e treine o modelo por 7 épocas com batch size 16, otimizador Adam e taxa de aprendizado 0.002.\n",
        "\n",
        "Após o treinamento utilize a função predict para classificar imagens da posicao 10 a 14 no conjunto de testes (\\[10:15\\]). Quais as classes resultantes e quantas dessas estavam erradas?\n",
        "\n",
        "(a) 2, 5, 5, 3, 3, sendo 2 erradas<br>\n",
        "(b) 4, 5, 5, 3, 4, sendo 2 erradas<br>\n",
        "(c) 4, 5, 5, 3, 4 sendo 1 errada<br>\n",
        "(d) 4, 5, 5, 3, 4, nenhuma errada<br>"
      ]
    },
    {
      "cell_type": "code",
      "metadata": {
        "id": "Rif40G6wST-s",
        "outputId": "3e1af01b-e2b5-44bd-a576-ecc76d0b47aa",
        "colab": {
          "base_uri": "https://localhost:8080/",
          "height": 185
        }
      },
      "source": [
        "import numpy as np\n",
        "import matplotlib.pyplot as plt\n",
        "import tensorflow as tf\n",
        "from tensorflow import keras\n",
        "from tensorflow.keras import layers\n",
        "from numpy.random import seed\n",
        "from tensorflow.random import set_seed\n",
        "\n",
        "fashion_mnist = keras.datasets.fashion_mnist\n",
        "(train_images, train_labels), (test_images, test_labels) = fashion_mnist.load_data()\n",
        "\n",
        "img_lin, img_col = train_images.shape[1], train_images.shape[2]\n",
        "num_classes = len(np.unique(train_labels))\n",
        "print(train_images.shape)\n",
        "print('Classes: ', num_classes)\n",
        "\n",
        "predizer = test_images[10:15]\n",
        "\n",
        "train_images = train_images / 255.0\n",
        "test_images = test_images / 255.0\n",
        "\n",
        "train_labels = keras.utils.to_categorical(train_labels, 10)\n",
        "test_labels = keras.utils.to_categorical(test_labels, 10)\n",
        "predizer_labels = test_labels[10:15]\n",
        "\n",
        "# quantidade de canais\n",
        "if (len(train_images.shape) == 3):\n",
        "      n_channels = 1\n",
        "else:\n",
        "      n_channels = train_images.shape[3]\n",
        "\n",
        "if keras.backend.image_data_format() == 'channels_first':\n",
        "    train_images = train_images.reshape(train_images.shape[0], n_channels, img_lin, img_col)\n",
        "    test_images = test_images.reshape(test_images.shape[0], n_channels, img_lin, img_col)\n",
        "    input_shape = (n_channels, img_lin, img_col)\n",
        "else:\n",
        "    train_images = train_images.reshape(train_images.shape[0], img_lin, img_col, n_channels)\n",
        "    test_images = test_images.reshape(test_images.shape[0], img_lin, img_col, n_channels)\n",
        "    input_shape = (img_lin, img_col, n_channels)"
      ],
      "execution_count": 1,
      "outputs": [
        {
          "output_type": "stream",
          "text": [
            "Downloading data from https://storage.googleapis.com/tensorflow/tf-keras-datasets/train-labels-idx1-ubyte.gz\n",
            "32768/29515 [=================================] - 0s 0us/step\n",
            "Downloading data from https://storage.googleapis.com/tensorflow/tf-keras-datasets/train-images-idx3-ubyte.gz\n",
            "26427392/26421880 [==============================] - 1s 0us/step\n",
            "Downloading data from https://storage.googleapis.com/tensorflow/tf-keras-datasets/t10k-labels-idx1-ubyte.gz\n",
            "8192/5148 [===============================================] - 0s 0us/step\n",
            "Downloading data from https://storage.googleapis.com/tensorflow/tf-keras-datasets/t10k-images-idx3-ubyte.gz\n",
            "4423680/4422102 [==============================] - 0s 0us/step\n",
            "(60000, 28, 28)\n",
            "Classes:  10\n"
          ],
          "name": "stdout"
        }
      ]
    },
    {
      "cell_type": "code",
      "metadata": {
        "id": "9VFB_hc7PC0e"
      },
      "source": [
        "data_augmentation = keras.Sequential(\n",
        "    [\n",
        "        layers.experimental.preprocessing.RandomZoom(0.1),\n",
        "        layers.experimental.preprocessing.RandomContrast(0.2),\n",
        "    ]\n",
        ")"
      ],
      "execution_count": 2,
      "outputs": []
    },
    {
      "cell_type": "code",
      "metadata": {
        "id": "YpiKc7c6P39d"
      },
      "source": [
        "def my_cnn(input_shape, num_classes):\n",
        "    \"\"\"\n",
        "    1. Convolucional 2D com 64 filtros 3 x 3.\n",
        "    2. Batch Normalization\n",
        "    3. SeparableConv2D com 64 filtros 3 x 3.\n",
        "    4. MaxPooling2D 3 x 3 e strides 2\n",
        "    5. Batch Normalization\n",
        "    6. SeparableConv2D com 256 filtros 3 x 3.\n",
        "    7. MaxPooling2D 3 x 3 e strides 2\n",
        "    8. GlobalAveragePooling\n",
        "    9. Dropout de 0.2\n",
        "    10. Densa com ativação softmax\n",
        "\n",
        "    \"\"\"\n",
        "\n",
        "    inputs = keras.Input(shape=input_shape)\n",
        "    \n",
        "    # Pré-processamento\n",
        "    x = data_augmentation(inputs)\n",
        "\n",
        "    # 1. Convolucional 2D com 64 filtros 3 x 3.\n",
        "    x = layers.Conv2D(64, kernel_size=(3,3), padding=\"same\", activation=\"relu\")(x)\n",
        "    \n",
        "    # 2. Batch Normalization\n",
        "    x = layers.BatchNormalization()(x)\n",
        "\n",
        "    # ATIVAÇÃO RELU\n",
        "    x = layers.Activation(\"relu\")(x)\n",
        "\n",
        "    # 3. SeparableConv2D com 64 filtros 3 x 3.\n",
        "    x = layers.SeparableConv2D(64, kernel_size=(3,3), padding=\"same\")(x)\n",
        "\n",
        "    # 4. MaxPooling2D 3 x 3 e strides 2\n",
        "    x = layers.MaxPooling2D(pool_size=(3,3), strides=2, padding=\"same\")(x)\n",
        "    \n",
        "    # 5. Batch Normalization\n",
        "    x = layers.BatchNormalization()(x)\n",
        "\n",
        "    # ATIVAÇÃO RELU\n",
        "    x = layers.Activation(\"relu\")(x)\n",
        "\n",
        "    # 6. SeparableConv2D com 256 filtros 3 x 3.\n",
        "    x = layers.SeparableConv2D(256, kernel_size=(3,3), padding=\"same\", activation=\"relu\")(x)\n",
        "\n",
        "    # 7. MaxPooling2D 3 x 3 e strides 2\n",
        "    x = layers.MaxPooling2D(pool_size=(3,3), strides=2, padding=\"same\")(x)\n",
        "\n",
        "    # ATIVAÇÃO RELU\n",
        "    x = layers.Activation(\"relu\")(x)\n",
        "\n",
        "    # 8. GlobalAveragePooling\n",
        "    x = layers.GlobalAveragePooling2D()(x)\n",
        "\n",
        "    # ATIVAÇÃO RELU\n",
        "    x = layers.Activation(\"relu\")(x)\n",
        "\n",
        "    # 9. Dropout de 0.2\n",
        "    x = layers.Dropout(0.2)(x)\n",
        "    \n",
        "    # 10. Densa com ativação softmax\n",
        "    outputs = layers.Dense(num_classes, activation=\"softmax\")(x)\n",
        "\n",
        "    return keras.Model(inputs, outputs)"
      ],
      "execution_count": 3,
      "outputs": []
    },
    {
      "cell_type": "code",
      "metadata": {
        "id": "9zNB2HtmPsTc",
        "outputId": "383df6ec-142c-466f-c14d-d8930d10a3b8",
        "colab": {
          "base_uri": "https://localhost:8080/",
          "height": 689
        }
      },
      "source": [
        "seed(1) #Numpy\n",
        "set_seed(2) #Tensorflow\n",
        "epochs = 7\n",
        "model = my_cnn(input_shape, num_classes)\n",
        "\n",
        "model.compile(loss='categorical_crossentropy', optimizer=tf.keras.optimizers.Adam(lr=0.002),\n",
        "              metrics=['accuracy'])\n",
        "\n",
        "model.summary()"
      ],
      "execution_count": 4,
      "outputs": [
        {
          "output_type": "stream",
          "text": [
            "Model: \"functional_1\"\n",
            "_________________________________________________________________\n",
            "Layer (type)                 Output Shape              Param #   \n",
            "=================================================================\n",
            "input_1 (InputLayer)         [(None, 28, 28, 1)]       0         \n",
            "_________________________________________________________________\n",
            "sequential (Sequential)      (None, 28, 28, 1)         0         \n",
            "_________________________________________________________________\n",
            "conv2d (Conv2D)              (None, 28, 28, 64)        640       \n",
            "_________________________________________________________________\n",
            "batch_normalization (BatchNo (None, 28, 28, 64)        256       \n",
            "_________________________________________________________________\n",
            "activation (Activation)      (None, 28, 28, 64)        0         \n",
            "_________________________________________________________________\n",
            "separable_conv2d (SeparableC (None, 28, 28, 64)        4736      \n",
            "_________________________________________________________________\n",
            "max_pooling2d (MaxPooling2D) (None, 14, 14, 64)        0         \n",
            "_________________________________________________________________\n",
            "batch_normalization_1 (Batch (None, 14, 14, 64)        256       \n",
            "_________________________________________________________________\n",
            "activation_1 (Activation)    (None, 14, 14, 64)        0         \n",
            "_________________________________________________________________\n",
            "separable_conv2d_1 (Separabl (None, 14, 14, 256)       17216     \n",
            "_________________________________________________________________\n",
            "max_pooling2d_1 (MaxPooling2 (None, 7, 7, 256)         0         \n",
            "_________________________________________________________________\n",
            "activation_2 (Activation)    (None, 7, 7, 256)         0         \n",
            "_________________________________________________________________\n",
            "global_average_pooling2d (Gl (None, 256)               0         \n",
            "_________________________________________________________________\n",
            "activation_3 (Activation)    (None, 256)               0         \n",
            "_________________________________________________________________\n",
            "dropout (Dropout)            (None, 256)               0         \n",
            "_________________________________________________________________\n",
            "dense (Dense)                (None, 10)                2570      \n",
            "=================================================================\n",
            "Total params: 25,674\n",
            "Trainable params: 25,418\n",
            "Non-trainable params: 256\n",
            "_________________________________________________________________\n"
          ],
          "name": "stdout"
        }
      ]
    },
    {
      "cell_type": "code",
      "metadata": {
        "id": "k-l7q26MPsTe",
        "outputId": "518f4ae0-aa15-4879-993b-c655b4940dea",
        "colab": {
          "base_uri": "https://localhost:8080/",
          "height": 252
        }
      },
      "source": [
        "hist = model.fit(train_images, train_labels, batch_size=16, epochs=epochs, verbose=1)"
      ],
      "execution_count": 5,
      "outputs": [
        {
          "output_type": "stream",
          "text": [
            "Epoch 1/7\n",
            "3750/3750 [==============================] - 28s 8ms/step - loss: 0.6365 - accuracy: 0.7661\n",
            "Epoch 2/7\n",
            "3750/3750 [==============================] - 27s 7ms/step - loss: 0.4145 - accuracy: 0.8511\n",
            "Epoch 3/7\n",
            "3750/3750 [==============================] - 27s 7ms/step - loss: 0.3654 - accuracy: 0.8687\n",
            "Epoch 4/7\n",
            "3750/3750 [==============================] - 27s 7ms/step - loss: 0.3376 - accuracy: 0.8797\n",
            "Epoch 5/7\n",
            "3750/3750 [==============================] - 27s 7ms/step - loss: 0.3182 - accuracy: 0.8854\n",
            "Epoch 6/7\n",
            "3750/3750 [==============================] - 27s 7ms/step - loss: 0.3050 - accuracy: 0.8901\n",
            "Epoch 7/7\n",
            "3750/3750 [==============================] - 27s 7ms/step - loss: 0.2942 - accuracy: 0.8961\n"
          ],
          "name": "stdout"
        }
      ]
    },
    {
      "cell_type": "code",
      "metadata": {
        "id": "PGItd14EluAT",
        "outputId": "d7a0dea4-0f18-4276-bc38-f85444ca7cc4",
        "colab": {
          "base_uri": "https://localhost:8080/",
          "height": 34
        }
      },
      "source": [
        "model.save(\"/content/drive/My Drive/Colab Notebooks/exercicio4\")"
      ],
      "execution_count": 29,
      "outputs": [
        {
          "output_type": "stream",
          "text": [
            "INFO:tensorflow:Assets written to: /content/drive/My Drive/Colab Notebooks/exercicio4/assets\n"
          ],
          "name": "stdout"
        }
      ]
    },
    {
      "cell_type": "code",
      "metadata": {
        "id": "EHRJ0TyGl-Ng",
        "outputId": "412d1744-3950-4788-9237-487c45b6bc95",
        "colab": {
          "base_uri": "https://localhost:8080/",
          "height": 34
        }
      },
      "source": [
        "from google.colab import drive\n",
        "drive.mount('/content/drive')"
      ],
      "execution_count": 27,
      "outputs": [
        {
          "output_type": "stream",
          "text": [
            "Mounted at /content/drive\n"
          ],
          "name": "stdout"
        }
      ]
    },
    {
      "cell_type": "code",
      "metadata": {
        "id": "U7YZqjsPPsTh",
        "outputId": "0942c7ce-850e-43af-9ab8-b0c51035fc36",
        "colab": {
          "base_uri": "https://localhost:8080/",
          "height": 265
        }
      },
      "source": [
        "plt.plot(hist.history['loss']);\n",
        "plt.plot(hist.history['accuracy'])\n",
        "plt.legend(['Loss','Accuracy']);"
      ],
      "execution_count": 6,
      "outputs": [
        {
          "output_type": "display_data",
          "data": {
            "image/png": "[encoded data removed]",
            "text/plain": [
              "<Figure size 432x288 with 1 Axes>"
            ]
          },
          "metadata": {
            "tags": [],
            "needs_background": "light"
          }
        }
      ]
    },
    {
      "cell_type": "code",
      "metadata": {
        "id": "AFF0gk0JPsTn"
      },
      "source": [
        "# Faz a predição\n",
        "resultado = model.predict(predizer)"
      ],
      "execution_count": 7,
      "outputs": []
    },
    {
      "cell_type": "code",
      "metadata": {
        "id": "GzV658eaPsTj",
        "outputId": "f87cb820-ca75-4ef3-efd5-08b47f102b7b",
        "colab": {
          "base_uri": "https://localhost:8080/",
          "height": 143
        }
      },
      "source": [
        "fig, axes = plt.subplots(1,5, figsize=(10,2))\n",
        "ax = axes.ravel()\n",
        "for i in range(5):\n",
        "    ax[i].imshow(predizer[i], cmap=\"gray\")\n",
        "    ax[i].set_title(int(np.where(predizer_labels[i] > 0)[0]))\n",
        "    ax[i].title\n",
        "    ax[i].axis('off')"
      ],
      "execution_count": 8,
      "outputs": [
        {
          "output_type": "display_data",
          "data": {
            "image/png": "[encoded data removed]",
            "text/plain": [
              "<Figure size 720x144 with 5 Axes>"
            ]
          },
          "metadata": {
            "tags": [],
            "needs_background": "light"
          }
        }
      ]
    },
    {
      "cell_type": "code",
      "metadata": {
        "id": "xLLBxWEQQvpa",
        "outputId": "4fffe72c-dbe7-4b50-98be-83dcd714385c",
        "colab": {
          "base_uri": "https://localhost:8080/",
          "height": 101
        }
      },
      "source": [
        "for i in range(5):\n",
        "    print(f'Imagem 1{i}: {np.where(resultado[i] > 0)[0]}')"
      ],
      "execution_count": 9,
      "outputs": [
        {
          "output_type": "stream",
          "text": [
            "Imagem 10: [4]\n",
            "Imagem 11: [7]\n",
            "Imagem 12: [5 7 9]\n",
            "Imagem 13: [3]\n",
            "Imagem 14: [4]\n"
          ],
          "name": "stdout"
        }
      ]
    },
    {
      "cell_type": "code",
      "metadata": {
        "id": "eHNS1PuEccqA",
        "outputId": "8ff08d3a-d0e2-4d3c-fff3-d22a8d173288",
        "colab": {
          "base_uri": "https://localhost:8080/",
          "height": 34
        }
      },
      "source": [
        "np.where(resultado[2] > 0)[0]"
      ],
      "execution_count": 20,
      "outputs": [
        {
          "output_type": "execute_result",
          "data": {
            "text/plain": [
              "array([5, 7, 9])"
            ]
          },
          "metadata": {
            "tags": []
          },
          "execution_count": 20
        }
      ]
    },
    {
      "cell_type": "code",
      "metadata": {
        "id": "SCaLY_8hk5iA",
        "outputId": "d064889f-81f6-4ca7-b743-51b958998478",
        "colab": {
          "base_uri": "https://localhost:8080/",
          "height": 34
        }
      },
      "source": [
        "np.set_printoptions(suppress=True)\n",
        "\n",
        "resultado[2][5]"
      ],
      "execution_count": 25,
      "outputs": [
        {
          "output_type": "execute_result",
          "data": {
            "text/plain": [
              "2.6002663e-19"
            ]
          },
          "metadata": {
            "tags": []
          },
          "execution_count": 25
        }
      ]
    },
    {
      "cell_type": "markdown",
      "metadata": {
        "id": "ifQGbqS05Rts"
      },
      "source": [
        "---\n",
        "\n",
        "### Questão 5)\n",
        "\n",
        "Carregue a base de dados MNIST do pacote Keras, e pre-processe conforme código abaixo.\n",
        "\n",
        "Vamos utilizar o modelo treinado na questão anterior como forma de trasnferência de aprendizado. Se preciso reinicialize o modelo e treine-o novamente para garantir que apenas 7 épocas foram executadas. O modelo final deve ter acurácia de treinamento próxima a 0.89 (computada na base Fashion). \n",
        "\n",
        "Agora, assuma que esse modelo já treinado está armazenado numa variável `model`. Então proceda da seguinte forma:\n",
        "\n",
        "1. Obtendo a saída da penúltima camada (referente ao Dropout):\n",
        "\n",
        "`base_saida = model.layers[-2].output`\n",
        "\n",
        "2. Criando uma nova camada de saída que recebe como entrada a anterior \n",
        "\n",
        "`saida_nova = keras.layers.Dense(10, activation='softmax')(base_saida)`\n",
        "\n",
        "3. Criando um novo modelo tendo essa nova camada como saída \n",
        "\n",
        "`model2 = keras.models.Model(model.inputs, saida_nova)`\n",
        "\n",
        "Você pode usar o summary para conferir o modelo montado.\n",
        "\n",
        "Agora inicialize as sementes do numpy para 1 e tensorflow para 2, compile e treine o novo modelo com função de custo entropia cruzada categórica, otimizador Adam com taxa de aprendizado 0.002, 16 exemplos no mini-batch e 3 épocas.\n",
        "\n",
        "Avalie a acurácia no conjunto de testes. Em qual intervalo está a acurácia resultante, considerando arredondamento para 2 casas decimais?\n",
        "\n",
        "(a) [0.94,0.96]<br>\n",
        "(b) [0.98,1.00]<br>\n",
        "(c) [0.87,0.90]<br>\n",
        "(d) [0.92,0.93]<br>"
      ]
    },
    {
      "cell_type": "code",
      "metadata": {
        "id": "K5Owfr6GyqqY",
        "scrolled": false
      },
      "source": [
        "mnist = keras.datasets.mnist\n",
        "(train_images2, train_labels2), (test_images2, test_labels2) = mnist.load_data()\n",
        "train_images2 = train_images2 / 255.0\n",
        "test_images2 = test_images2 / 255.0\n",
        "train_labels2 = keras.utils.to_categorical(train_labels2, 10)\n",
        "test_labels2 = keras.utils.to_categorical(test_labels2, 10)"
      ],
      "execution_count": null,
      "outputs": []
    },
    {
      "cell_type": "code",
      "metadata": {
        "id": "Cz79HkPP5Rtx"
      },
      "source": [
        ""
      ],
      "execution_count": null,
      "outputs": []
    }
  ]
}