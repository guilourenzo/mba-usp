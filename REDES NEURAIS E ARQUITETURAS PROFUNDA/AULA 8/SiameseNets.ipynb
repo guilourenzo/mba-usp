{
  "nbformat": 4,
  "nbformat_minor": 0,
  "metadata": {
    "colab": {
      "name": "SiameseNets",
      "provenance": [],
      "collapsed_sections": []
    },
    "kernelspec": {
      "name": "python3",
      "display_name": "Python 3"
    },
    "accelerator": "GPU"
  },
  "cells": [
    {
      "cell_type": "code",
      "metadata": {
        "id": "AIQazDn9CQTd"
      },
      "source": [
        "import numpy as np\n",
        "import matplotlib.pyplot as plt\n",
        "\n",
        "import tensorflow as tf\n",
        "import tensorflow.keras.backend as K"
      ],
      "execution_count": 1,
      "outputs": []
    },
    {
      "cell_type": "code",
      "metadata": {
        "id": "6ONFdrFACYiZ"
      },
      "source": [
        "(x_train, y_train), (x_test, y_test) = tf.keras.datasets.mnist.load_data()"
      ],
      "execution_count": 2,
      "outputs": []
    },
    {
      "cell_type": "code",
      "metadata": {
        "id": "aTDIIAJuGvbK"
      },
      "source": [
        "x_train = x_train / 255\n",
        "x_test = x_test / 255\n",
        "\n",
        "# (N, 28, 28) -> (N, 28, 28, 1)\n",
        "x_train = x_train[..., np.newaxis]\n",
        "x_test = x_test[..., np.newaxis]"
      ],
      "execution_count": 3,
      "outputs": []
    },
    {
      "cell_type": "code",
      "metadata": {
        "id": "a5nLBifnECFL"
      },
      "source": [
        "def build_network():\n",
        "    return tf.keras.Sequential([\n",
        "        tf.keras.layers.Conv2D(8, 3, activation='relu', input_shape=(28, 28, 1)),\n",
        "        tf.keras.layers.Conv2D(16, 3, activation='relu'),\n",
        "        tf.keras.layers.MaxPool2D((2, 2)),\n",
        "        tf.keras.layers.Conv2D(32, 3, activation='relu'),\n",
        "        tf.keras.layers.MaxPool2D((2, 2)),\n",
        "        tf.keras.layers.Flatten(),\n",
        "        tf.keras.layers.Dense(64, activation='relu'),\n",
        "        tf.keras.layers.Dense(128),\n",
        "        tf.keras.layers.Lambda(lambda x: K.l2_normalize(x, axis=1))\n",
        "    ])"
      ],
      "execution_count": 4,
      "outputs": []
    },
    {
      "cell_type": "code",
      "metadata": {
        "id": "0wrEweoSHrgj"
      },
      "source": [
        "def euclidean_dist(a, b):\n",
        "    sum_square = K.sum(K.square(a - b), axis=1, keepdims=True)\n",
        "    return K.sqrt(K.maximum(sum_square, K.epsilon()))"
      ],
      "execution_count": 5,
      "outputs": []
    },
    {
      "cell_type": "code",
      "metadata": {
        "id": "k8Q_t6U0FyRP"
      },
      "source": [
        "net = build_network()\n",
        "\n",
        "img_a = tf.keras.Input(shape=(28, 28, 1))\n",
        "img_b = tf.keras.Input(shape=(28, 28, 1))\n",
        "\n",
        "embedding_a = net(img_a)\n",
        "embedding_b = net(img_b)\n",
        "\n",
        "distance = euclidean_dist(embedding_a, embedding_b)\n",
        "\n",
        "siamese_model = tf.keras.Model([img_a, img_b], distance)"
      ],
      "execution_count": 6,
      "outputs": []
    },
    {
      "cell_type": "code",
      "metadata": {
        "id": "wX3AKPzUGnDg"
      },
      "source": [
        "def contrastive_loss(y, dist):\n",
        "    \"\"\"\n",
        "    y = 0 -> mesma classe\n",
        "    y = 1 -> classes diferentes\n",
        "    \"\"\"\n",
        "    margin = 1\n",
        "    square_pred = K.square(dist)\n",
        "    margin_square = K.square(K.maximum(margin - dist, 0))\n",
        "    \n",
        "    return K.mean((1-y) * square_pred + y * margin_square)"
      ],
      "execution_count": 7,
      "outputs": []
    },
    {
      "cell_type": "code",
      "metadata": {
        "id": "kj24xEJ3HSE8"
      },
      "source": [
        "siamese_model.compile(loss=contrastive_loss)"
      ],
      "execution_count": 8,
      "outputs": []
    },
    {
      "cell_type": "code",
      "metadata": {
        "id": "LCKSYiiebVrl",
        "outputId": "085d4611-1fe3-472e-ae02-ae932a67e90e",
        "colab": {
          "base_uri": "https://localhost:8080/",
          "height": 336
        }
      },
      "source": [
        "# Vamos ver a distancia entre os pares antes de treinar o modelo\n",
        "\n",
        "idx_img_1 = 0\n",
        "idx_img_2 = 7\n",
        "idx_img_3 = 9\n",
        "\n",
        "plt.figure(figsize=(18, 5))\n",
        "\n",
        "plt.subplot(131)\n",
        "plt.imshow(np.squeeze(x_test[idx_img_1]))\n",
        "plt.title('Img 1')\n",
        "\n",
        "plt.subplot(132)\n",
        "plt.imshow(np.squeeze(x_test[idx_img_2]))\n",
        "plt.title('Img 2')\n",
        "\n",
        "plt.subplot(133)\n",
        "plt.imshow(np.squeeze(x_test[idx_img_3]))\n",
        "plt.title('Img 3');"
      ],
      "execution_count": 9,
      "outputs": [
        {
          "output_type": "display_data",
          "data": {
            "image/png": "[encoded data removed]",
            "text/plain": [
              "<Figure size 1296x360 with 3 Axes>"
            ]
          },
          "metadata": {
            "tags": [],
            "needs_background": "light"
          }
        }
      ]
    },
    {
      "cell_type": "code",
      "metadata": {
        "id": "gIWbbqlXex3l",
        "outputId": "08a9098b-7a7e-4fe5-d7ad-a41b5cfa1d35",
        "colab": {
          "base_uri": "https://localhost:8080/"
        }
      },
      "source": [
        "inputs = x_test[[idx_img_1, idx_img_2, idx_img_3]]\n",
        "embeddings = net.predict(inputs)\n",
        "\n",
        "dist_1_2 = np.sqrt(np.sum(np.square(embeddings[0] - embeddings[1])))\n",
        "dist_1_3 = np.sqrt(np.sum(np.square(embeddings[0] - embeddings[2])))\n",
        "dist_2_3 = np.sqrt(np.sum(np.square(embeddings[1] - embeddings[2])))\n",
        "\n",
        "print(f'Dist 7 and 9: {dist_1_2}')\n",
        "print(f'Dist 7 and 9: {dist_1_3}')\n",
        "print(f'Dist 9 and 9: {dist_2_3}')"
      ],
      "execution_count": 10,
      "outputs": [
        {
          "output_type": "stream",
          "text": [
            "Dist 7 and 9: 0.7633450627326965\n",
            "Dist 7 and 9: 0.6070169806480408\n",
            "Dist 9 and 9: 0.6867202520370483\n"
          ],
          "name": "stdout"
        }
      ]
    },
    {
      "cell_type": "code",
      "metadata": {
        "id": "ScrpxM9sIeFv"
      },
      "source": [
        "def build_pairs_dataset(x, y):\n",
        "    ex_per_class = [np.sum(y_train == cls) for cls in range(10)]\n",
        "    n = min(ex_per_class)\n",
        "\n",
        "    pairs = []\n",
        "    labels = []\n",
        "\n",
        "    for cls in np.arange(10):\n",
        "        idx_cls = np.where(y == cls)[0]\n",
        "        idx_not_cls = np.where(y != cls)[0]\n",
        "        for i in range(n):\n",
        "            # Positive pair\n",
        "            idx1, idx2 = np.random.choice(idx_cls, size=2, replace=False)\n",
        "            pairs.append([x[idx1], x[idx2]])\n",
        "            labels.append(0)\n",
        "\n",
        "            # Negative pair\n",
        "            idx1 = np.random.choice(idx_cls, size=1, replace=False)[0]\n",
        "            idx2 = np.random.choice(idx_not_cls, size=1, replace=False)[0]\n",
        "            pairs.append([x[idx1], x[idx2]])\n",
        "            labels.append(1)\n",
        "\n",
        "    pairs = np.array(pairs)\n",
        "    labels = np.array(labels)\n",
        "\n",
        "    return pairs, labels"
      ],
      "execution_count": 11,
      "outputs": []
    },
    {
      "cell_type": "code",
      "metadata": {
        "id": "5Sa4uoc4Rgg2",
        "outputId": "8ef4ef3e-f8e4-423b-ec34-5e53c7f9332a",
        "colab": {
          "base_uri": "https://localhost:8080/"
        }
      },
      "source": [
        "%%time\n",
        "pairs, labels = build_pairs_dataset(x_train, y_train)"
      ],
      "execution_count": 12,
      "outputs": [
        {
          "output_type": "stream",
          "text": [
            "CPU times: user 1min 3s, sys: 570 ms, total: 1min 4s\n",
            "Wall time: 1min 4s\n"
          ],
          "name": "stdout"
        }
      ]
    },
    {
      "cell_type": "code",
      "metadata": {
        "id": "981AHoVsSB7g",
        "outputId": "b42e4f1f-96a8-45c9-c93d-1eb2832577c0",
        "colab": {
          "base_uri": "https://localhost:8080/"
        }
      },
      "source": [
        "inputs = [pairs[:, 0, ...], pairs[:, 1, ...]]\n",
        "labels = labels.astype(np.float32)\n",
        "\n",
        "history = siamese_model.fit(inputs, labels, batch_size=128, epochs=15)"
      ],
      "execution_count": 13,
      "outputs": [
        {
          "output_type": "stream",
          "text": [
            "Epoch 1/15\n",
            "848/848 [==============================] - 5s 6ms/step - loss: 0.0435\n",
            "Epoch 2/15\n",
            "848/848 [==============================] - 5s 6ms/step - loss: 0.0120\n",
            "Epoch 3/15\n",
            "848/848 [==============================] - 5s 6ms/step - loss: 0.0084\n",
            "Epoch 4/15\n",
            "848/848 [==============================] - 5s 6ms/step - loss: 0.0066\n",
            "Epoch 5/15\n",
            "848/848 [==============================] - 5s 6ms/step - loss: 0.0054\n",
            "Epoch 6/15\n",
            "848/848 [==============================] - 5s 6ms/step - loss: 0.0047\n",
            "Epoch 7/15\n",
            "848/848 [==============================] - 5s 6ms/step - loss: 0.0039\n",
            "Epoch 8/15\n",
            "848/848 [==============================] - 5s 6ms/step - loss: 0.0036\n",
            "Epoch 9/15\n",
            "848/848 [==============================] - 5s 6ms/step - loss: 0.0035\n",
            "Epoch 10/15\n",
            "848/848 [==============================] - 5s 6ms/step - loss: 0.0030\n",
            "Epoch 11/15\n",
            "848/848 [==============================] - 5s 6ms/step - loss: 0.0028\n",
            "Epoch 12/15\n",
            "848/848 [==============================] - 5s 6ms/step - loss: 0.0027\n",
            "Epoch 13/15\n",
            "848/848 [==============================] - 5s 6ms/step - loss: 0.0027\n",
            "Epoch 14/15\n",
            "848/848 [==============================] - 5s 6ms/step - loss: 0.0025\n",
            "Epoch 15/15\n",
            "848/848 [==============================] - 5s 6ms/step - loss: 0.0023\n"
          ],
          "name": "stdout"
        }
      ]
    },
    {
      "cell_type": "code",
      "metadata": {
        "id": "k9-MK6Klopz7",
        "outputId": "1a8122bd-b2c9-4b1d-fc83-1c0b40de1159",
        "colab": {
          "base_uri": "https://localhost:8080/",
          "height": 265
        }
      },
      "source": [
        "plt.plot(history.history[\"loss\"]);"
      ],
      "execution_count": 14,
      "outputs": [
        {
          "output_type": "display_data",
          "data": {
            "image/png": "[encoded data removed]",
            "text/plain": [
              "<Figure size 432x288 with 1 Axes>"
            ]
          },
          "metadata": {
            "tags": [],
            "needs_background": "light"
          }
        }
      ]
    },
    {
      "cell_type": "code",
      "metadata": {
        "id": "kie8V4X0eNkv",
        "outputId": "2c08151e-068b-447a-cff5-c9e0e5d853a6",
        "colab": {
          "base_uri": "https://localhost:8080/"
        }
      },
      "source": [
        "# Vamos olhar como ficaram aquelas distancias que vimos antes\n",
        "inputs = x_test[[idx_img_1, idx_img_2, idx_img_3]]\n",
        "embeddings = net.predict(inputs)\n",
        "\n",
        "dist_1_2 = np.sqrt(np.sum(np.square(embeddings[0] - embeddings[1])))\n",
        "dist_1_3 = np.sqrt(np.sum(np.square(embeddings[0] - embeddings[2])))\n",
        "dist_2_3 = np.sqrt(np.sum(np.square(embeddings[1] - embeddings[2])))\n",
        "\n",
        "print(f'Dist 7 and 9: {dist_1_2}')\n",
        "print(f'Dist 7 and 9: {dist_1_3}')\n",
        "print(f'Dist 9 and 9: {dist_2_3}')"
      ],
      "execution_count": 15,
      "outputs": [
        {
          "output_type": "stream",
          "text": [
            "Dist 7 and 9: 1.0004618167877197\n",
            "Dist 7 and 9: 1.0004571676254272\n",
            "Dist 9 and 9: 0.002561174100264907\n"
          ],
          "name": "stdout"
        }
      ]
    },
    {
      "cell_type": "markdown",
      "metadata": {
        "id": "o_WOxRXHgs5Q"
      },
      "source": [
        "Funcionou muito bem! Podemos ver que as imagens do mesmo digito ficaram próximas."
      ]
    },
    {
      "cell_type": "markdown",
      "metadata": {
        "id": "HEMVIyOJg5e5"
      },
      "source": [
        "Alguns materiais para se aprovundar nos assuntos da aula:\n",
        "- https://sthalles.github.io/simple-self-supervised-learning/\n",
        "- https://gombru.github.io/2019/04/03/ranking_loss/\n",
        "- https://arxiv.org/pdf/2001.07685.pdf\n",
        "- https://arxiv.org/pdf/1503.02531.pdf"
      ]
    }
  ]
}