{
  "nbformat": 4,
  "nbformat_minor": 0,
  "metadata": {
    "colab": {
      "name": "CNNMultiLabel.ipynb",
      "provenance": [],
      "collapsed_sections": []
    },
    "kernelspec": {
      "name": "python3",
      "display_name": "Python 3"
    },
    "accelerator": "GPU"
  },
  "cells": [
    {
      "cell_type": "markdown",
      "metadata": {
        "id": "P_iP73y2mCMQ"
      },
      "source": [
        "# Redes Convolucionais com dados multi-rótulos\n",
        "\n",
        "\n",
        "Antes de iniciar a execução do código faça a seguinte alteração: Menu: **Ambiente de execução -> Alterar o tipo de ambiente de execução -> GPU**\n",
        "\n",
        "Cada instância do conjunto de dados pode ser classificada em mais de uma categoria. Considerando, por exemplo imagens de carros, podemos almejar que a rede convolucional tenha como saída o modelo e a cor do veículo. Sendo assim, temos X = {x1, x2, ..., xn} como input da rede e não mais apenas um respectivo Y = {y1, y2, ..., yn}. É necessáario modelar várias camadas de saída para uma única entrada de dados. Apesar de ser possível modelar saída combinadas de modelos por cores, este tipo de abordagem pode levar à memorização do conjunto de treinamento e exige maior representatividade.\n",
        "\n",
        "**Vamos supor:**\n",
        "modelos (Gol, Civic e HB20) e cores (branco, prata e preto)\n",
        "\n",
        "**Possíveis modelos:**\n",
        "2 camadas de saída em que cada output possui 3 neurônios ou\n",
        "1 camada de saída com 9 neurônios (gol branco, gol prata, gol preto, ....)"
      ]
    },
    {
      "cell_type": "code",
      "metadata": {
        "id": "24WOZMWukEmQ"
      },
      "source": [
        "import numpy as np\n",
        "\n",
        "from keras.models import Model\n",
        "from keras.layers import Input, Conv2D, MaxPooling2D, Flatten, Reshape, Dense\n",
        "from keras.datasets import mnist\n",
        "from keras.utils import to_categorical\n",
        "\n",
        "import matplotlib.pyplot as plt\n",
        "\n",
        "from numpy.random import seed\n",
        "from tensorflow.random import set_seed"
      ],
      "execution_count": null,
      "outputs": []
    },
    {
      "cell_type": "markdown",
      "metadata": {
        "id": "6XMcnDsymP6H"
      },
      "source": [
        "**Carregando os dados:**\n",
        "\n",
        "Neste exemplo, vamos utilizar a base de dados MNIST. De forma convencional, esta base possui dígitos (0 a 9) brancos em um fundo preto. Mas, para nossa aplicação, queremos classificar os dígitos e tambem a cor (branco ou preto). Então, vamos criar um conjunto de dados complementar com dígitos pretos e fundo branco."
      ]
    },
    {
      "cell_type": "code",
      "metadata": {
        "id": "3f8teqaqkYAd",
        "colab": {
          "base_uri": "https://localhost:8080/",
          "height": 318
        },
        "outputId": "129471ae-f88f-4901-d1f2-2bb7e5f3b504"
      },
      "source": [
        "def definingColor(X, color):\n",
        "    XX = np.empty_like(X)\n",
        "    if color == \"white\":\n",
        "      XX[X < 127] = 0\n",
        "      XX[X >= 127] = 255\n",
        "      Y = np.zeros(X.shape[0])\n",
        "    else:\n",
        "      XX[X < 127] = 255\n",
        "      XX[X >= 127] = 0\n",
        "      Y = np.ones(X.shape[0])\n",
        "    XX = XX.reshape(*XX.shape, 1) \n",
        "    return XX, Y\n",
        "\n",
        "print(\"Loading MNIST images ...\")\n",
        "(Xtrain, YtrainNumber), (Xtest, YtestNumber) = mnist.load_data()\n",
        "\n",
        "XtrainBlack, YtrainBlack = definingColor(Xtrain, \"black\")\n",
        "XtrainWhite, YtrainWhite = definingColor(Xtrain, \"white\")\n",
        "XtestBlack, YtestBlack = definingColor(Xtest, \"black\")\n",
        "XtestWhite, YtestWhite = definingColor(Xtest, \"white\")\n",
        "\n",
        "Xtrain = np.concatenate((XtrainBlack, XtrainWhite), axis=0)\n",
        "YtrainNumber = np.concatenate((YtrainNumber, YtrainNumber), axis=0)\n",
        "YtrainColor = np.concatenate((YtrainBlack, YtrainWhite), axis=0)\n",
        "\n",
        "Xtest = np.concatenate((XtestBlack, XtestWhite), axis=0)\n",
        "YtestNumber = np.concatenate((YtestNumber, YtestNumber), axis=0)\n",
        "YtestColor = np.concatenate((YtestBlack, YtestWhite), axis=0)\n",
        "\n",
        "YtrainNumber = to_categorical(YtrainNumber)\n",
        "YtestNumber = to_categorical(YtestNumber)\n",
        "YtrainColor = to_categorical(YtrainColor)\n",
        "YtestColor = to_categorical(YtestColor)\n",
        "\n",
        "print('\\tTraining image set shape: ', Xtrain.shape)\n",
        "print('\\tTraining number shape: ', YtrainNumber.shape)\n",
        "print('\\tTraining color shape: ', YtrainColor.shape)\n",
        "\n",
        "print('\\tTesting image set shape: ', Xtest.shape)\n",
        "print('\\tTesting number shape: ', YtestNumber.shape)\n",
        "print('\\tTesting color shape: ', YtestColor.shape)\n",
        "\n",
        "fig, axes = plt.subplots(1, 2)\n",
        "axes[0].imshow(XtrainBlack[0][:, :, 0])\n",
        "axes[1].imshow(XtrainWhite[0][:, :, 0])\n",
        "plt.show()"
      ],
      "execution_count": null,
      "outputs": [
        {
          "output_type": "stream",
          "text": [
            "Loading MNIST images ...\n",
            "\tTraining image set shape:  (120000, 28, 28, 1)\n",
            "\tTraining number shape:  (120000, 10)\n",
            "\tTraining color shape:  (120000, 2)\n",
            "\tTesting image set shape:  (20000, 28, 28, 1)\n",
            "\tTesting number shape:  (20000, 10)\n",
            "\tTesting color shape:  (20000, 2)\n"
          ],
          "name": "stdout"
        },
        {
          "output_type": "display_data",
          "data": {
            "image/png": "[encoded data removed]",
            "text/plain": [
              "<Figure size 432x288 with 2 Axes>"
            ]
          },
          "metadata": {
            "tags": [],
            "needs_background": "light"
          }
        }
      ]
    },
    {
      "cell_type": "markdown",
      "metadata": {
        "id": "T2yMB5NS_EP9"
      },
      "source": [
        "**Treinando uma CNN com multi rótulos:**"
      ]
    },
    {
      "cell_type": "code",
      "metadata": {
        "id": "M6HqBK8B_5qt",
        "colab": {
          "base_uri": "https://localhost:8080/",
          "height": 1000
        },
        "outputId": "9563648e-90b3-4dbd-9205-aa29441d04a5"
      },
      "source": [
        "print(\"Defining the CNN from scratch ...\")\n",
        "input_img = Input(shape=(28, 28, 1,))\n",
        "\n",
        "cnnScratch = Conv2D(64, kernel_size=(3,3), strides=(2, 2), padding='same', activation='relu')(input_img)\n",
        "cnnScratch = Conv2D(64, kernel_size=(3,3), padding='same', activation='relu')(cnnScratch)\n",
        "cnnScratch = Conv2D(64, kernel_size=(3,3), padding='same', activation='relu')(cnnScratch)\n",
        "cnnScratch = MaxPooling2D(pool_size=(2, 2))(cnnScratch)\n",
        "cnnScratch = Flatten(name='code')(cnnScratch)\n",
        "cnnNumber = Dense(10, activation='softmax', name='predNumber')(cnnScratch)\n",
        "cnnColor = Dense(2, activation='softmax', name='predColor')(cnnScratch)\n",
        "\n",
        "seed(1)\n",
        "set_seed(2)\n",
        "\n",
        "cnn = Model(inputs=input_img, outputs=[cnnNumber, cnnColor])\n",
        "cnn.compile(loss=['categorical_crossentropy', 'binary_crossentropy'], optimizer='adam', metrics=['accuracy'])\n",
        "cnn.summary()\n",
        "\n",
        "batchSize = 32\n",
        "numberEpochs = 50\n",
        "\n",
        "print(\"Training the CNN ...\")\n",
        "history = cnn.fit(x=Xtrain, y=[YtrainNumber, YtrainColor], batch_size=batchSize, epochs=numberEpochs, shuffle=True, verbose=1)\n",
        "plt.plot(history.history['loss'])\n",
        "plt.ylabel('Loss')\n",
        "plt.show()"
      ],
      "execution_count": null,
      "outputs": [
        {
          "output_type": "stream",
          "text": [
            "Defining the CNN from scratch ...\n",
            "Model: \"functional_1\"\n",
            "__________________________________________________________________________________________________\n",
            "Layer (type)                    Output Shape         Param #     Connected to                     \n",
            "==================================================================================================\n",
            "input_1 (InputLayer)            [(None, 28, 28, 1)]  0                                            \n",
            "__________________________________________________________________________________________________\n",
            "conv2d (Conv2D)                 (None, 14, 14, 64)   640         input_1[0][0]                    \n",
            "__________________________________________________________________________________________________\n",
            "conv2d_1 (Conv2D)               (None, 14, 14, 64)   36928       conv2d[0][0]                     \n",
            "__________________________________________________________________________________________________\n",
            "conv2d_2 (Conv2D)               (None, 14, 14, 64)   36928       conv2d_1[0][0]                   \n",
            "__________________________________________________________________________________________________\n",
            "max_pooling2d (MaxPooling2D)    (None, 7, 7, 64)     0           conv2d_2[0][0]                   \n",
            "__________________________________________________________________________________________________\n",
            "code (Flatten)                  (None, 3136)         0           max_pooling2d[0][0]              \n",
            "__________________________________________________________________________________________________\n",
            "predNumber (Dense)              (None, 10)           31370       code[0][0]                       \n",
            "__________________________________________________________________________________________________\n",
            "predColor (Dense)               (None, 2)            6274        code[0][0]                       \n",
            "==================================================================================================\n",
            "Total params: 112,140\n",
            "Trainable params: 112,140\n",
            "Non-trainable params: 0\n",
            "__________________________________________________________________________________________________\n",
            "Training the CNN ...\n",
            "Epoch 1/50\n",
            "3750/3750 [==============================] - 12s 3ms/step - loss: 0.2466 - predNumber_loss: 0.2446 - predColor_loss: 0.0020 - predNumber_accuracy: 0.9442 - predColor_accuracy: 0.9998\n",
            "Epoch 2/50\n",
            "3750/3750 [==============================] - 12s 3ms/step - loss: 0.0775 - predNumber_loss: 0.0775 - predColor_loss: 3.5284e-05 - predNumber_accuracy: 0.9759 - predColor_accuracy: 1.0000\n",
            "Epoch 3/50\n",
            "3750/3750 [==============================] - 13s 3ms/step - loss: 0.0619 - predNumber_loss: 0.0619 - predColor_loss: 9.6324e-06 - predNumber_accuracy: 0.9810 - predColor_accuracy: 1.0000\n",
            "Epoch 4/50\n",
            "3750/3750 [==============================] - 12s 3ms/step - loss: 0.0542 - predNumber_loss: 0.0542 - predColor_loss: 5.8154e-06 - predNumber_accuracy: 0.9832 - predColor_accuracy: 1.0000\n",
            "Epoch 5/50\n",
            "3750/3750 [==============================] - 12s 3ms/step - loss: 0.0487 - predNumber_loss: 0.0487 - predColor_loss: 1.5930e-06 - predNumber_accuracy: 0.9851 - predColor_accuracy: 1.0000\n",
            "Epoch 6/50\n",
            "3750/3750 [==============================] - 12s 3ms/step - loss: 0.0450 - predNumber_loss: 0.0450 - predColor_loss: 7.0066e-07 - predNumber_accuracy: 0.9860 - predColor_accuracy: 1.0000\n",
            "Epoch 7/50\n",
            "3750/3750 [==============================] - 12s 3ms/step - loss: 0.0423 - predNumber_loss: 0.0423 - predColor_loss: 1.4236e-07 - predNumber_accuracy: 0.9872 - predColor_accuracy: 1.0000\n",
            "Epoch 8/50\n",
            "3750/3750 [==============================] - 12s 3ms/step - loss: 0.0381 - predNumber_loss: 0.0381 - predColor_loss: 2.3610e-07 - predNumber_accuracy: 0.9886 - predColor_accuracy: 1.0000\n",
            "Epoch 9/50\n",
            "3750/3750 [==============================] - 12s 3ms/step - loss: 0.0392 - predNumber_loss: 0.0392 - predColor_loss: 1.1337e-07 - predNumber_accuracy: 0.9883 - predColor_accuracy: 1.0000\n",
            "Epoch 10/50\n",
            "3750/3750 [==============================] - 12s 3ms/step - loss: 0.0370 - predNumber_loss: 0.0370 - predColor_loss: 2.6355e-09 - predNumber_accuracy: 0.9893 - predColor_accuracy: 1.0000\n",
            "Epoch 11/50\n",
            "3750/3750 [==============================] - 12s 3ms/step - loss: 0.0374 - predNumber_loss: 0.0374 - predColor_loss: 7.7678e-07 - predNumber_accuracy: 0.9894 - predColor_accuracy: 1.0000\n",
            "Epoch 12/50\n",
            "3750/3750 [==============================] - 12s 3ms/step - loss: 0.0384 - predNumber_loss: 0.0384 - predColor_loss: 5.5429e-09 - predNumber_accuracy: 0.9893 - predColor_accuracy: 1.0000\n",
            "Epoch 13/50\n",
            "3750/3750 [==============================] - 12s 3ms/step - loss: 0.0343 - predNumber_loss: 0.0343 - predColor_loss: 6.2853e-09 - predNumber_accuracy: 0.9903 - predColor_accuracy: 1.0000\n",
            "Epoch 14/50\n",
            "3750/3750 [==============================] - 12s 3ms/step - loss: 0.0362 - predNumber_loss: 0.0362 - predColor_loss: 4.1926e-09 - predNumber_accuracy: 0.9899 - predColor_accuracy: 1.0000\n",
            "Epoch 15/50\n",
            "3750/3750 [==============================] - 12s 3ms/step - loss: 0.0351 - predNumber_loss: 0.0351 - predColor_loss: 2.6999e-09 - predNumber_accuracy: 0.9905 - predColor_accuracy: 1.0000\n",
            "Epoch 16/50\n",
            "3750/3750 [==============================] - 13s 4ms/step - loss: 0.0349 - predNumber_loss: 0.0349 - predColor_loss: 4.7435e-11 - predNumber_accuracy: 0.9905 - predColor_accuracy: 1.0000\n",
            "Epoch 17/50\n",
            "3750/3750 [==============================] - 13s 3ms/step - loss: 0.0377 - predNumber_loss: 0.0377 - predColor_loss: 1.4010e-09 - predNumber_accuracy: 0.9899 - predColor_accuracy: 1.0000\n",
            "Epoch 18/50\n",
            "3750/3750 [==============================] - 12s 3ms/step - loss: 0.0344 - predNumber_loss: 0.0344 - predColor_loss: 3.1789e-11 - predNumber_accuracy: 0.9909 - predColor_accuracy: 1.0000\n",
            "Epoch 19/50\n",
            "3750/3750 [==============================] - 12s 3ms/step - loss: 0.0345 - predNumber_loss: 0.0345 - predColor_loss: 2.5332e-10 - predNumber_accuracy: 0.9908 - predColor_accuracy: 1.0000\n",
            "Epoch 20/50\n",
            "3750/3750 [==============================] - 12s 3ms/step - loss: 0.0363 - predNumber_loss: 0.0363 - predColor_loss: 1.3076e-09 - predNumber_accuracy: 0.9908 - predColor_accuracy: 1.0000\n",
            "Epoch 21/50\n",
            "3750/3750 [==============================] - 12s 3ms/step - loss: 0.0372 - predNumber_loss: 0.0372 - predColor_loss: 2.9129e-08 - predNumber_accuracy: 0.9910 - predColor_accuracy: 1.0000\n",
            "Epoch 22/50\n",
            "3750/3750 [==============================] - 13s 3ms/step - loss: 0.0374 - predNumber_loss: 0.0374 - predColor_loss: 1.0903e-10 - predNumber_accuracy: 0.9919 - predColor_accuracy: 1.0000\n",
            "Epoch 23/50\n",
            "3750/3750 [==============================] - 13s 3ms/step - loss: 0.0357 - predNumber_loss: 0.0357 - predColor_loss: 2.3892e-10 - predNumber_accuracy: 0.9917 - predColor_accuracy: 1.0000\n",
            "Epoch 24/50\n",
            "3750/3750 [==============================] - 12s 3ms/step - loss: 0.0364 - predNumber_loss: 0.0364 - predColor_loss: 2.7203e-09 - predNumber_accuracy: 0.9917 - predColor_accuracy: 1.0000\n",
            "Epoch 25/50\n",
            "3750/3750 [==============================] - 13s 3ms/step - loss: 0.0368 - predNumber_loss: 0.0368 - predColor_loss: 7.5251e-11 - predNumber_accuracy: 0.9916 - predColor_accuracy: 1.0000\n",
            "Epoch 26/50\n",
            "3750/3750 [==============================] - 12s 3ms/step - loss: 0.0372 - predNumber_loss: 0.0372 - predColor_loss: 5.8241e-10 - predNumber_accuracy: 0.9912 - predColor_accuracy: 1.0000\n",
            "Epoch 27/50\n",
            "3750/3750 [==============================] - 12s 3ms/step - loss: 0.0345 - predNumber_loss: 0.0345 - predColor_loss: 5.4833e-09 - predNumber_accuracy: 0.9919 - predColor_accuracy: 1.0000\n",
            "Epoch 28/50\n",
            "3750/3750 [==============================] - 12s 3ms/step - loss: 0.0343 - predNumber_loss: 0.0343 - predColor_loss: 8.7645e-10 - predNumber_accuracy: 0.9923 - predColor_accuracy: 1.0000\n",
            "Epoch 29/50\n",
            "3750/3750 [==============================] - 13s 3ms/step - loss: 0.0363 - predNumber_loss: 0.0363 - predColor_loss: 5.9356e-11 - predNumber_accuracy: 0.9921 - predColor_accuracy: 1.0000\n",
            "Epoch 30/50\n",
            "3750/3750 [==============================] - 13s 3ms/step - loss: 0.0346 - predNumber_loss: 0.0346 - predColor_loss: 3.2248e-09 - predNumber_accuracy: 0.9921 - predColor_accuracy: 1.0000\n",
            "Epoch 31/50\n",
            "3750/3750 [==============================] - 13s 3ms/step - loss: 0.0384 - predNumber_loss: 0.0384 - predColor_loss: 7.4030e-08 - predNumber_accuracy: 0.9912 - predColor_accuracy: 1.0000\n",
            "Epoch 32/50\n",
            "3750/3750 [==============================] - 13s 3ms/step - loss: 0.0354 - predNumber_loss: 0.0354 - predColor_loss: 3.5291e-10 - predNumber_accuracy: 0.9921 - predColor_accuracy: 1.0000\n",
            "Epoch 33/50\n",
            "3750/3750 [==============================] - 12s 3ms/step - loss: 0.0353 - predNumber_loss: 0.0353 - predColor_loss: 2.0900e-09 - predNumber_accuracy: 0.9918 - predColor_accuracy: 1.0000\n",
            "Epoch 34/50\n",
            "3750/3750 [==============================] - 13s 3ms/step - loss: 0.0360 - predNumber_loss: 0.0360 - predColor_loss: 3.8276e-09 - predNumber_accuracy: 0.9913 - predColor_accuracy: 1.0000\n",
            "Epoch 35/50\n",
            "3750/3750 [==============================] - 13s 3ms/step - loss: 0.0334 - predNumber_loss: 0.0334 - predColor_loss: 2.5307e-10 - predNumber_accuracy: 0.9920 - predColor_accuracy: 1.0000\n",
            "Epoch 36/50\n",
            "3750/3750 [==============================] - 13s 3ms/step - loss: 0.0318 - predNumber_loss: 0.0318 - predColor_loss: 5.0214e-09 - predNumber_accuracy: 0.9920 - predColor_accuracy: 1.0000\n",
            "Epoch 37/50\n",
            "3750/3750 [==============================] - 12s 3ms/step - loss: 0.0303 - predNumber_loss: 0.0303 - predColor_loss: 5.7208e-09 - predNumber_accuracy: 0.9920 - predColor_accuracy: 1.0000\n",
            "Epoch 38/50\n",
            "3750/3750 [==============================] - 12s 3ms/step - loss: 0.0321 - predNumber_loss: 0.0321 - predColor_loss: 4.0063e-09 - predNumber_accuracy: 0.9917 - predColor_accuracy: 1.0000\n",
            "Epoch 39/50\n",
            "3750/3750 [==============================] - 13s 3ms/step - loss: 0.0291 - predNumber_loss: 0.0291 - predColor_loss: 2.4620e-07 - predNumber_accuracy: 0.9925 - predColor_accuracy: 1.0000\n",
            "Epoch 40/50\n",
            "3750/3750 [==============================] - 13s 3ms/step - loss: 0.0284 - predNumber_loss: 0.0284 - predColor_loss: 4.9820e-10 - predNumber_accuracy: 0.9926 - predColor_accuracy: 1.0000\n",
            "Epoch 41/50\n",
            "3750/3750 [==============================] - 14s 4ms/step - loss: 0.0288 - predNumber_loss: 0.0288 - predColor_loss: 1.4156e-10 - predNumber_accuracy: 0.9929 - predColor_accuracy: 1.0000\n",
            "Epoch 42/50\n",
            "3750/3750 [==============================] - 13s 3ms/step - loss: 0.0276 - predNumber_loss: 0.0276 - predColor_loss: 4.1277e-10 - predNumber_accuracy: 0.9934 - predColor_accuracy: 1.0000\n",
            "Epoch 43/50\n",
            "3750/3750 [==============================] - 12s 3ms/step - loss: 0.0301 - predNumber_loss: 0.0301 - predColor_loss: 5.3025e-10 - predNumber_accuracy: 0.9931 - predColor_accuracy: 1.0000\n",
            "Epoch 44/50\n",
            "3750/3750 [==============================] - 12s 3ms/step - loss: 0.0277 - predNumber_loss: 0.0277 - predColor_loss: 5.2279e-10 - predNumber_accuracy: 0.9936 - predColor_accuracy: 1.0000\n",
            "Epoch 45/50\n",
            "3750/3750 [==============================] - 13s 3ms/step - loss: 0.0296 - predNumber_loss: 0.0296 - predColor_loss: 9.4623e-11 - predNumber_accuracy: 0.9934 - predColor_accuracy: 1.0000\n",
            "Epoch 46/50\n",
            "3750/3750 [==============================] - 12s 3ms/step - loss: 0.0291 - predNumber_loss: 0.0291 - predColor_loss: 0.0000e+00 - predNumber_accuracy: 0.9939 - predColor_accuracy: 1.0000\n",
            "Epoch 47/50\n",
            "3750/3750 [==============================] - 13s 3ms/step - loss: 0.0315 - predNumber_loss: 0.0315 - predColor_loss: 2.2352e-12 - predNumber_accuracy: 0.9936 - predColor_accuracy: 1.0000\n",
            "Epoch 48/50\n",
            "3750/3750 [==============================] - 13s 3ms/step - loss: 0.0272 - predNumber_loss: 0.0272 - predColor_loss: 2.4835e-13 - predNumber_accuracy: 0.9946 - predColor_accuracy: 1.0000\n",
            "Epoch 49/50\n",
            "3750/3750 [==============================] - 13s 3ms/step - loss: 0.0315 - predNumber_loss: 0.0315 - predColor_loss: 0.0000e+00 - predNumber_accuracy: 0.9938 - predColor_accuracy: 1.0000\n",
            "Epoch 50/50\n",
            "3750/3750 [==============================] - 13s 3ms/step - loss: 0.0307 - predNumber_loss: 0.0307 - predColor_loss: 0.0000e+00 - predNumber_accuracy: 0.9939 - predColor_accuracy: 1.0000\n"
          ],
          "name": "stdout"
        },
        {
          "output_type": "display_data",
          "data": {
            "image/png": "[encoded data removed]",
            "text/plain": [
              "<Figure size 432x288 with 1 Axes>"
            ]
          },
          "metadata": {
            "tags": [],
            "needs_background": "light"
          }
        }
      ]
    },
    {
      "cell_type": "markdown",
      "metadata": {
        "id": "DC9qWn2yLAZe"
      },
      "source": [
        "**Testando uma CNN com multi rótulos:**"
      ]
    },
    {
      "cell_type": "code",
      "metadata": {
        "id": "KFz9QaSYKRKw",
        "colab": {
          "base_uri": "https://localhost:8080/"
        },
        "outputId": "50567d23-77b2-48d0-9851-8a735ac5458b"
      },
      "source": [
        "print(cnn.metrics_names)\n",
        "\n",
        "print(\"Testing the CNN ...\")\n",
        "acc = cnn.evaluate(x=Xtest, y=[YtestNumber, YtestColor], batch_size=batchSize)\n",
        "print(\"Number Accuracy: \", acc[3])\n",
        "print(\"Color Accuracy: \", acc[4])"
      ],
      "execution_count": null,
      "outputs": [
        {
          "output_type": "stream",
          "text": [
            "['loss', 'predNumber_loss', 'predColor_loss', 'predNumber_accuracy', 'predColor_accuracy']\n",
            "Testing the CNN ...\n",
            "625/625 [==============================] - 1s 2ms/step - loss: 0.1679 - predNumber_loss: 0.1679 - predColor_loss: 0.0000e+00 - predNumber_accuracy: 0.9854 - predColor_accuracy: 1.0000\n",
            "Number Accuracy:  0.9854000210762024\n",
            "Color Accuracy:  1.0\n"
          ],
          "name": "stdout"
        }
      ]
    }
  ]
}