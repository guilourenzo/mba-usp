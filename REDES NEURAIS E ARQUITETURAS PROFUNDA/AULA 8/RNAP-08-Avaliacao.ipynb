{
 "cells": [
  {
   "cell_type": "markdown",
   "metadata": {
    "id": "K8CDQUj8yqpq"
   },
   "source": [
    "## MBA em Ciência de Dados\n",
    "# Redes Neurais e Arquiteturas Profundas\n",
    "\n",
    "### <span style=\"color:darkred\">Módulo VIII -  Tópicos em Deep Learning</span>\n",
    "\n",
    "\n",
    "### <span style=\"color:darkred\">Avaliação</span>\n",
    "\n",
    "Moacir Antonelli Ponti\n",
    "\n",
    "CeMEAI - ICMC/USP São Carlos\n",
    "\n",
    "---\n",
    "\n",
    "As respostas devem ser dadas no Moodle.\n",
    "\n",
    "---"
   ]
  },
  {
   "cell_type": "markdown",
   "metadata": {
    "id": "xMJ4IFd7yqpt"
   },
   "source": [
    "### Questão 1)\n",
    "\n",
    "Sobre redes neurais que utilizam classificação e regressão combinadas, mapeando uma instância para uma classe e valores numéricos, qual a estratégia de treinamento comumente utilizada?\n",
    "\n",
    "(a) Permitir que a rede neural aprenda automaticamente a partir dos dados, dividindo cada instância de entrada em grades com células fixas.<br>\n",
    "(b) Modificar a camada de saída, montando um vetor que contém posições específicas relativas a classe e aos valores para estimar como regressão. Requer conjunto de treinamento anotado com classe e valores do problema de regressão. <br>\n",
    "(c) Modificar a arquitetura da rede neural para conter apenas camadas densas, ajustando as funções de ativação de forma a gerar a saída apropriada ao que se deseja<br>\n",
    "(d) Modificar o vetor $y$ de maneira que cada posição conterá um valor de saída desejado relativo a classificação e regressão. A rede neural então aprenderá os valores, sendo necessário apenas prover como anotação a classe da instância.<br>"
   ]
  },
  {
   "cell_type": "markdown",
   "metadata": {
    "id": "038CuS5syqqL"
   },
   "source": [
    "---\n",
    "\n",
    "### Questão 2)\n",
    "\n",
    "Redes neurais que tratam de problemas mais complexos como regressão com classificação, uso de múltiplos fluxos, entre outros, comumente especificam estratégias de treinamento para permitir o aprendizado ainda que sob condições mais difíceis. No caso da detecção de objetos em imagens em que é preciso localizar (via regressão) um objeto, e classificá-lo, qual conceito é fundamental para computar a confiança da saída da rede para uma determinada instância e facilitar a interpretação do resultado? \n",
    "\n",
    " (a) Intersecção sobre união: permitindo que a rede neural tenha uma tolerância na sobreposição entre a localização verdadeira e a predita.<br>\n",
    " (b) Uso de uma grade regular de células: permitindo que um mesmo objeto seja detectado em diferentes partes da imagem<br>\n",
    " (c) Supressão de não máximos: remover detecções com baixa probabilidade e assim reduzir a quantidade de falsos positivos ou objetos detectados de forma duplicada<br>\n",
    " (d) Definir âncoras: caixas (bounding boxes) com aspecto esperado com relação à sua altura e largura.<br>"
   ]
  },
  {
   "cell_type": "markdown",
   "metadata": {
    "id": "nJQ0-S3myqqL"
   },
   "source": [
    "---\n",
    "### Questão 3)\n",
    "\n",
    "Considere um espaço de características, ou representação, aprendido por uma rede neural que foi treinada com uma função de perda \"contrastiva\". O mecanismo intuitivo desse tipo de treinamento e seu efeito é:\n",
    "\n",
    " (a) Ajustar os pesos da rede computando a função entropia cruzada com base na classe do exemplo chamado de âncora, sendo que a representação aprendida será aquela que melhor permite discriminação entre as classes<br>\n",
    " (b) Ajustar os pesos de múltiplas redes neurais simultaneamente, com base na classe de cada exemplo individual fornecido como entrada, sendo necessário escolher os exemplos mais difíceis para garantir um bom treinamento<br>\n",
    " (c) Ajustar os pesos da rede de forma que a projeção da camada de saída maximize a distância entre pares de exemplos de classe diferente, e minimize a mesma distância entre pares de exemplos de mesma classe<br>\n",
    " (d) Ajustar os pesos de duas ou mais redes neurais de forma simultânea, as quais podem ter pesos compartilhados ou não. Porém ao compartilhar pesos, o treinamento facilita melhorar o aprendizado do classificador<br>"
   ]
  },
  {
   "cell_type": "markdown",
   "metadata": {
    "id": "C1sh5GgYyqqY"
   },
   "source": [
    "---\n",
    "\n",
    "### Questão 4)\n",
    "\n",
    "O uso de redes multi-fluxo e funções do tipo contrastiva e triplet são adequadas para qual tipo de cenário?\n",
    "\n",
    "(a) Nos dados de saída, é preciso estimar regressão e classificação simultaneamente, sendo necessário uma rede neural para cada tarefa<br>\n",
    "(b) Cenários em que o problema de classificação é muito difícil, requerendo mais do que uma redes neural para complementar as saídas uma das outras, combinando suas saídas como num \"ensemble\"<br>\n",
    "(c) Há características similares entre classes diferentes que confundem e não são relevantes para o problema alvo, no qual o aprendizado de um classificador a partir de exemplos individuais levaria à alta sobreposição.<br>\n",
    "(d) Podem ser aplicadas em qualquer cenário, mas são melhor adequadas para classificação ou regressão, sendo melhores do que o uso de uma única rede neural e funções de perda relacionadas a classificação como entropia cruzada e erro quadrático.<br>"
   ]
  },
  {
   "cell_type": "markdown",
   "metadata": {},
   "source": [
    "---\n",
    "\n",
    "### Questão 5)\n",
    "\n",
    "Quando devemos considerar o uso de aprendizado auto-supervisionado?\n",
    "\n",
    "(a) Problema envolve apenas dados não rotulados, substituindo algoritmos de agrupamento com a vantagem de não precisar computar distâncias entre exemplos.<br>\n",
    "(b) Problema envolve uma facilidade de simular cenários que desejamos aprender, sendo essa simulação computacionalmente rápida de calcular e obter um retorno que permita aprendizado.<br>\n",
    "(c) Problema envolve grande quantidade de dados rotulados em que é inviável o uso de todos os exemplos devido ao alto custo computacional<br>\n",
    "(d) Problema envolve grande quantidade de exemplos não rotulados e pequena quantidade de exemplos rotulados, aprendendo um modelo inicial por meio de uma tarefa computada diretamente a partir dos dados de entrada.<br>"
   ]
  }
 ],
 "metadata": {
  "accelerator": "GPU",
  "colab": {
   "collapsed_sections": [],
   "name": "RNAP-04-Avaliacao_solucoes.ipynb",
   "provenance": []
  },
  "kernelspec": {
   "display_name": "Python 3",
   "language": "python",
   "name": "python3"
  },
  "language_info": {
   "codemirror_mode": {
    "name": "ipython",
    "version": 3
   },
   "file_extension": ".py",
   "mimetype": "text/x-python",
   "name": "python",
   "nbconvert_exporter": "python",
   "pygments_lexer": "ipython3",
   "version": "3.8.5"
  }
 },
 "nbformat": 4,
 "nbformat_minor": 1
}
