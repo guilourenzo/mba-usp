{
 "cells": [
  {
   "cell_type": "markdown",
   "metadata": {
    "id": "K8CDQUj8yqpq"
   },
   "source": [
    "## MBA em Ciência de Dados\n",
    "# Redes Neurais e Arquiteturas Profundas\n",
    "\n",
    "## <span style=\"color:darkred\">Avaliação Final</span>\n",
    "\n",
    "Moacir Antonelli Ponti\n",
    "\n",
    "CeMEAI - ICMC/USP São Carlos\n",
    "\n",
    "---"
   ]
  },
  {
   "cell_type": "markdown",
   "metadata": {
    "id": "J6blUHGA8CWR"
   },
   "source": [
    "Nessa avaliação será utilizado o dataset `creditcard.csv` que contém 31 colunas. Esse problema é o de detectar fraude em transações em cartões de crédito. Vamos assumir um cenário com alta disponibilidade de exemplos não rotulados, e baixa de exemplos rotulados. Para tal, pré-treinaremos camadas de uma rede neural com dados não anotados, a qual posteriormente será usada para compor um modelo inicial de classificação.<br><br>\n",
    "\n",
    "<font color=\"blue\">\n",
    "Você deverá criar um notebook (ipynb) com a solução. O Notebook deverá conter as saídas para visualização dos resultados. Fazer upload no Moodle de 2 arquivos:</font>\n",
    "\n",
    "<font color=\"blue\">1. Notebook com o código fonte (ipynb)</font><br>\n",
    "<font color=\"blue\">2. Versão em PDF com todos os resultados</font>\n",
    "\n",
    "Conforme código abaixo, use como características de entrada as colunas de posição 1 até 28 (marcadas no arquivo como V1 - V28), e como classe a última coluna (Class). Não utilize a coluna Amount.\n",
    "\n",
    "As tarefas a realizar são as seguintes:\n",
    "\n",
    "1. **Separe** os dados em:\n",
    "    * conjunto S = 2,5% dos dados iniciais como treinamento com rótulo (assumiremos que temos rótulos apenas para esses 2,5%, ou 7120 exemplos), no formato par (x,y)\n",
    "    * conjunto U = 50% dos dados iniciais como treinamento não anotado (note que S está contido em U), \n",
    "    * conjunto T = o restante dos 50% para teste, no formato par (x,y).<br><br>\n",
    "1. **Modelo A**: denoising overcomplete autoencoder para pré-treinamento baseado em auto-supervisão\n",
    "    * Arquitetura com as seguintes camadas:\n",
    "        * entrada com 28 valores\n",
    "        * normalização em batch\n",
    "        * densa 32 neurônios, relu\n",
    "        * densa 32 neurônios, relu\n",
    "        * dropout 0.2\n",
    "        * normalização em batch\n",
    "        * densa 28 neurônios, relu (camada de código/bottleneck)\n",
    "        * densa 32 neurônios, relu\n",
    "        * densa 32 neurônios, relu\n",
    "        * densa 28 neurônios, tanh\n",
    "    * Inserção de ruído aleatório uniforme ponderado a 0.2 (insira ruído nos dados de treinamento fornecidos por entrada, mas mantenha a comparação com a saída sem ruído, como num denoising autoencoder)\n",
    "    * Taxa de aprendizado inicial de 0.003 e com decaimento a partir da época 5, exponencial a -0.2\n",
    "    * Treinar com perda MSE por 20 épocas com batch size 16 utilizando o conjunto **U**<br><br>\n",
    "1. **Análise de projeção das características**: visualize um scatterplot com os 2 principais componentes obtidos do PCA com as classes dos exemplos atribuídas com cores ou marcadores diferentes:\n",
    "    * scatterplot com projeção PCA do conjunto de S original\n",
    "    * scatterplot com projeção PCA do conjunto S após processado pelo \"encoder\", ou seja resultado da saída da camada de código<br><br>\n",
    "    \n",
    "1. **Modelo B**: rede neural profunda densa, utilizando como base o encoder do modelo A, e inserindo uma nova camada densa de classificação com ativação sigmóide.<br>\n",
    "    * Taxa de aprendizado inicial de 0.001 e com decaimento em todas as épocas exponencial a -0.3\n",
    "    * Uso de pesos para as classes: 0.1 para classe 0 (majoritária), e 0.9 para a classe 1 (minoritária)\n",
    "    * Treinar com perda MSE por 8 épocas com batch size 16 \n",
    "    * Compute como métricas, além da perda, precisão e revocação (precision / recall)<br><br>\n",
    "    \n",
    "1. **Avalie a rede neural de classificação**: \n",
    "    * Exiba o gráfico da precisão e revocação no treinamento calculada ao longo das épocas\n",
    "    * Exiba precisão e revocação calculada no treinamento S e teste T\n",
    "    * Exiba um scatterplot do conjunto S obtendo sua representação do código da rede de classificação (saída da camada com 28 exemplos)<br><br>\n",
    "\n",
    "1. **Bônus:** (+1 ponto extra) compare a solução com duas outras possibilidades que não envolvam uso do conjunto **U** não rotulado\n",
    "    * Rede neural profunda com a mesma arquitetura e estratégias usadas no modelo B, mas sem usar os pesos pré-treinados, inicializando e treinando com os dados em S por 15 épocas. Avalie precisão e revocação no treinamento S e teste T.\n",
    "    * Classificador SVM treinado nos dados originais S. Avalie precisão e revocação no treinamento S e teste T.\n",
    "    * Classificador SVM treinado nos dados S obtendo sua representação do código da rede de classificação (modelo B). Avalie precisão e revocação no treinamento S e teste T."
   ]
  },
  {
   "cell_type": "code",
   "execution_count": 1,
   "metadata": {
    "ExecuteTime": {
     "end_time": "2020-11-17T00:07:16.744669Z",
     "start_time": "2020-11-17T00:07:03.266055Z"
    },
    "id": "zqbp6WY68CWV"
   },
   "outputs": [],
   "source": [
    "import random\n",
    "import numpy as np\n",
    "import matplotlib.pyplot as plt\n",
    "import tensorflow as tf\n",
    "from numpy.random import seed\n",
    "from tensorflow.random import set_seed\n",
    "from tensorflow import keras\n",
    "from tensorflow.keras import layers"
   ]
  },
  {
   "cell_type": "code",
   "execution_count": 2,
   "metadata": {
    "ExecuteTime": {
     "end_time": "2020-11-17T00:07:19.201351Z",
     "start_time": "2020-11-17T00:07:16.744669Z"
    },
    "colab": {
     "base_uri": "https://localhost:8080/",
     "height": 444
    },
    "id": "rf0usTmq8CWp",
    "outputId": "584e10d7-e560-43c5-ab48-61f51877cf9c",
    "scrolled": true
   },
   "outputs": [
    {
     "data": {
      "text/html": [
       "<div>\n",
       "<style scoped>\n",
       "    .dataframe tbody tr th:only-of-type {\n",
       "        vertical-align: middle;\n",
       "    }\n",
       "\n",
       "    .dataframe tbody tr th {\n",
       "        vertical-align: top;\n",
       "    }\n",
       "\n",
       "    .dataframe thead th {\n",
       "        text-align: right;\n",
       "    }\n",
       "</style>\n",
       "<table border=\"1\" class=\"dataframe\">\n",
       "  <thead>\n",
       "    <tr style=\"text-align: right;\">\n",
       "      <th></th>\n",
       "      <th>Time</th>\n",
       "      <th>V1</th>\n",
       "      <th>V2</th>\n",
       "      <th>V3</th>\n",
       "      <th>V4</th>\n",
       "      <th>V5</th>\n",
       "      <th>V6</th>\n",
       "      <th>V7</th>\n",
       "      <th>V8</th>\n",
       "      <th>V9</th>\n",
       "      <th>...</th>\n",
       "      <th>V21</th>\n",
       "      <th>V22</th>\n",
       "      <th>V23</th>\n",
       "      <th>V24</th>\n",
       "      <th>V25</th>\n",
       "      <th>V26</th>\n",
       "      <th>V27</th>\n",
       "      <th>V28</th>\n",
       "      <th>Amount</th>\n",
       "      <th>Class</th>\n",
       "    </tr>\n",
       "  </thead>\n",
       "  <tbody>\n",
       "    <tr>\n",
       "      <th>0</th>\n",
       "      <td>0.0</td>\n",
       "      <td>-1.359807</td>\n",
       "      <td>-0.072781</td>\n",
       "      <td>2.536347</td>\n",
       "      <td>1.378155</td>\n",
       "      <td>-0.338321</td>\n",
       "      <td>0.462388</td>\n",
       "      <td>0.239599</td>\n",
       "      <td>0.098698</td>\n",
       "      <td>0.363787</td>\n",
       "      <td>...</td>\n",
       "      <td>-0.018307</td>\n",
       "      <td>0.277838</td>\n",
       "      <td>-0.110474</td>\n",
       "      <td>0.066928</td>\n",
       "      <td>0.128539</td>\n",
       "      <td>-0.189115</td>\n",
       "      <td>0.133558</td>\n",
       "      <td>-0.021053</td>\n",
       "      <td>149.62</td>\n",
       "      <td>0</td>\n",
       "    </tr>\n",
       "    <tr>\n",
       "      <th>1</th>\n",
       "      <td>0.0</td>\n",
       "      <td>1.191857</td>\n",
       "      <td>0.266151</td>\n",
       "      <td>0.166480</td>\n",
       "      <td>0.448154</td>\n",
       "      <td>0.060018</td>\n",
       "      <td>-0.082361</td>\n",
       "      <td>-0.078803</td>\n",
       "      <td>0.085102</td>\n",
       "      <td>-0.255425</td>\n",
       "      <td>...</td>\n",
       "      <td>-0.225775</td>\n",
       "      <td>-0.638672</td>\n",
       "      <td>0.101288</td>\n",
       "      <td>-0.339846</td>\n",
       "      <td>0.167170</td>\n",
       "      <td>0.125895</td>\n",
       "      <td>-0.008983</td>\n",
       "      <td>0.014724</td>\n",
       "      <td>2.69</td>\n",
       "      <td>0</td>\n",
       "    </tr>\n",
       "    <tr>\n",
       "      <th>2</th>\n",
       "      <td>1.0</td>\n",
       "      <td>-1.358354</td>\n",
       "      <td>-1.340163</td>\n",
       "      <td>1.773209</td>\n",
       "      <td>0.379780</td>\n",
       "      <td>-0.503198</td>\n",
       "      <td>1.800499</td>\n",
       "      <td>0.791461</td>\n",
       "      <td>0.247676</td>\n",
       "      <td>-1.514654</td>\n",
       "      <td>...</td>\n",
       "      <td>0.247998</td>\n",
       "      <td>0.771679</td>\n",
       "      <td>0.909412</td>\n",
       "      <td>-0.689281</td>\n",
       "      <td>-0.327642</td>\n",
       "      <td>-0.139097</td>\n",
       "      <td>-0.055353</td>\n",
       "      <td>-0.059752</td>\n",
       "      <td>378.66</td>\n",
       "      <td>0</td>\n",
       "    </tr>\n",
       "    <tr>\n",
       "      <th>3</th>\n",
       "      <td>1.0</td>\n",
       "      <td>-0.966272</td>\n",
       "      <td>-0.185226</td>\n",
       "      <td>1.792993</td>\n",
       "      <td>-0.863291</td>\n",
       "      <td>-0.010309</td>\n",
       "      <td>1.247203</td>\n",
       "      <td>0.237609</td>\n",
       "      <td>0.377436</td>\n",
       "      <td>-1.387024</td>\n",
       "      <td>...</td>\n",
       "      <td>-0.108300</td>\n",
       "      <td>0.005274</td>\n",
       "      <td>-0.190321</td>\n",
       "      <td>-1.175575</td>\n",
       "      <td>0.647376</td>\n",
       "      <td>-0.221929</td>\n",
       "      <td>0.062723</td>\n",
       "      <td>0.061458</td>\n",
       "      <td>123.50</td>\n",
       "      <td>0</td>\n",
       "    </tr>\n",
       "    <tr>\n",
       "      <th>4</th>\n",
       "      <td>2.0</td>\n",
       "      <td>-1.158233</td>\n",
       "      <td>0.877737</td>\n",
       "      <td>1.548718</td>\n",
       "      <td>0.403034</td>\n",
       "      <td>-0.407193</td>\n",
       "      <td>0.095921</td>\n",
       "      <td>0.592941</td>\n",
       "      <td>-0.270533</td>\n",
       "      <td>0.817739</td>\n",
       "      <td>...</td>\n",
       "      <td>-0.009431</td>\n",
       "      <td>0.798278</td>\n",
       "      <td>-0.137458</td>\n",
       "      <td>0.141267</td>\n",
       "      <td>-0.206010</td>\n",
       "      <td>0.502292</td>\n",
       "      <td>0.219422</td>\n",
       "      <td>0.215153</td>\n",
       "      <td>69.99</td>\n",
       "      <td>0</td>\n",
       "    </tr>\n",
       "    <tr>\n",
       "      <th>...</th>\n",
       "      <td>...</td>\n",
       "      <td>...</td>\n",
       "      <td>...</td>\n",
       "      <td>...</td>\n",
       "      <td>...</td>\n",
       "      <td>...</td>\n",
       "      <td>...</td>\n",
       "      <td>...</td>\n",
       "      <td>...</td>\n",
       "      <td>...</td>\n",
       "      <td>...</td>\n",
       "      <td>...</td>\n",
       "      <td>...</td>\n",
       "      <td>...</td>\n",
       "      <td>...</td>\n",
       "      <td>...</td>\n",
       "      <td>...</td>\n",
       "      <td>...</td>\n",
       "      <td>...</td>\n",
       "      <td>...</td>\n",
       "      <td>...</td>\n",
       "    </tr>\n",
       "    <tr>\n",
       "      <th>284802</th>\n",
       "      <td>172786.0</td>\n",
       "      <td>-11.881118</td>\n",
       "      <td>10.071785</td>\n",
       "      <td>-9.834783</td>\n",
       "      <td>-2.066656</td>\n",
       "      <td>-5.364473</td>\n",
       "      <td>-2.606837</td>\n",
       "      <td>-4.918215</td>\n",
       "      <td>7.305334</td>\n",
       "      <td>1.914428</td>\n",
       "      <td>...</td>\n",
       "      <td>0.213454</td>\n",
       "      <td>0.111864</td>\n",
       "      <td>1.014480</td>\n",
       "      <td>-0.509348</td>\n",
       "      <td>1.436807</td>\n",
       "      <td>0.250034</td>\n",
       "      <td>0.943651</td>\n",
       "      <td>0.823731</td>\n",
       "      <td>0.77</td>\n",
       "      <td>0</td>\n",
       "    </tr>\n",
       "    <tr>\n",
       "      <th>284803</th>\n",
       "      <td>172787.0</td>\n",
       "      <td>-0.732789</td>\n",
       "      <td>-0.055080</td>\n",
       "      <td>2.035030</td>\n",
       "      <td>-0.738589</td>\n",
       "      <td>0.868229</td>\n",
       "      <td>1.058415</td>\n",
       "      <td>0.024330</td>\n",
       "      <td>0.294869</td>\n",
       "      <td>0.584800</td>\n",
       "      <td>...</td>\n",
       "      <td>0.214205</td>\n",
       "      <td>0.924384</td>\n",
       "      <td>0.012463</td>\n",
       "      <td>-1.016226</td>\n",
       "      <td>-0.606624</td>\n",
       "      <td>-0.395255</td>\n",
       "      <td>0.068472</td>\n",
       "      <td>-0.053527</td>\n",
       "      <td>24.79</td>\n",
       "      <td>0</td>\n",
       "    </tr>\n",
       "    <tr>\n",
       "      <th>284804</th>\n",
       "      <td>172788.0</td>\n",
       "      <td>1.919565</td>\n",
       "      <td>-0.301254</td>\n",
       "      <td>-3.249640</td>\n",
       "      <td>-0.557828</td>\n",
       "      <td>2.630515</td>\n",
       "      <td>3.031260</td>\n",
       "      <td>-0.296827</td>\n",
       "      <td>0.708417</td>\n",
       "      <td>0.432454</td>\n",
       "      <td>...</td>\n",
       "      <td>0.232045</td>\n",
       "      <td>0.578229</td>\n",
       "      <td>-0.037501</td>\n",
       "      <td>0.640134</td>\n",
       "      <td>0.265745</td>\n",
       "      <td>-0.087371</td>\n",
       "      <td>0.004455</td>\n",
       "      <td>-0.026561</td>\n",
       "      <td>67.88</td>\n",
       "      <td>0</td>\n",
       "    </tr>\n",
       "    <tr>\n",
       "      <th>284805</th>\n",
       "      <td>172788.0</td>\n",
       "      <td>-0.240440</td>\n",
       "      <td>0.530483</td>\n",
       "      <td>0.702510</td>\n",
       "      <td>0.689799</td>\n",
       "      <td>-0.377961</td>\n",
       "      <td>0.623708</td>\n",
       "      <td>-0.686180</td>\n",
       "      <td>0.679145</td>\n",
       "      <td>0.392087</td>\n",
       "      <td>...</td>\n",
       "      <td>0.265245</td>\n",
       "      <td>0.800049</td>\n",
       "      <td>-0.163298</td>\n",
       "      <td>0.123205</td>\n",
       "      <td>-0.569159</td>\n",
       "      <td>0.546668</td>\n",
       "      <td>0.108821</td>\n",
       "      <td>0.104533</td>\n",
       "      <td>10.00</td>\n",
       "      <td>0</td>\n",
       "    </tr>\n",
       "    <tr>\n",
       "      <th>284806</th>\n",
       "      <td>172792.0</td>\n",
       "      <td>-0.533413</td>\n",
       "      <td>-0.189733</td>\n",
       "      <td>0.703337</td>\n",
       "      <td>-0.506271</td>\n",
       "      <td>-0.012546</td>\n",
       "      <td>-0.649617</td>\n",
       "      <td>1.577006</td>\n",
       "      <td>-0.414650</td>\n",
       "      <td>0.486180</td>\n",
       "      <td>...</td>\n",
       "      <td>0.261057</td>\n",
       "      <td>0.643078</td>\n",
       "      <td>0.376777</td>\n",
       "      <td>0.008797</td>\n",
       "      <td>-0.473649</td>\n",
       "      <td>-0.818267</td>\n",
       "      <td>-0.002415</td>\n",
       "      <td>0.013649</td>\n",
       "      <td>217.00</td>\n",
       "      <td>0</td>\n",
       "    </tr>\n",
       "  </tbody>\n",
       "</table>\n",
       "<p>284807 rows × 31 columns</p>\n",
       "</div>"
      ],
      "text/plain": [
       "            Time         V1         V2        V3        V4        V5  \\\n",
       "0            0.0  -1.359807  -0.072781  2.536347  1.378155 -0.338321   \n",
       "1            0.0   1.191857   0.266151  0.166480  0.448154  0.060018   \n",
       "2            1.0  -1.358354  -1.340163  1.773209  0.379780 -0.503198   \n",
       "3            1.0  -0.966272  -0.185226  1.792993 -0.863291 -0.010309   \n",
       "4            2.0  -1.158233   0.877737  1.548718  0.403034 -0.407193   \n",
       "...          ...        ...        ...       ...       ...       ...   \n",
       "284802  172786.0 -11.881118  10.071785 -9.834783 -2.066656 -5.364473   \n",
       "284803  172787.0  -0.732789  -0.055080  2.035030 -0.738589  0.868229   \n",
       "284804  172788.0   1.919565  -0.301254 -3.249640 -0.557828  2.630515   \n",
       "284805  172788.0  -0.240440   0.530483  0.702510  0.689799 -0.377961   \n",
       "284806  172792.0  -0.533413  -0.189733  0.703337 -0.506271 -0.012546   \n",
       "\n",
       "              V6        V7        V8        V9  ...       V21       V22  \\\n",
       "0       0.462388  0.239599  0.098698  0.363787  ... -0.018307  0.277838   \n",
       "1      -0.082361 -0.078803  0.085102 -0.255425  ... -0.225775 -0.638672   \n",
       "2       1.800499  0.791461  0.247676 -1.514654  ...  0.247998  0.771679   \n",
       "3       1.247203  0.237609  0.377436 -1.387024  ... -0.108300  0.005274   \n",
       "4       0.095921  0.592941 -0.270533  0.817739  ... -0.009431  0.798278   \n",
       "...          ...       ...       ...       ...  ...       ...       ...   \n",
       "284802 -2.606837 -4.918215  7.305334  1.914428  ...  0.213454  0.111864   \n",
       "284803  1.058415  0.024330  0.294869  0.584800  ...  0.214205  0.924384   \n",
       "284804  3.031260 -0.296827  0.708417  0.432454  ...  0.232045  0.578229   \n",
       "284805  0.623708 -0.686180  0.679145  0.392087  ...  0.265245  0.800049   \n",
       "284806 -0.649617  1.577006 -0.414650  0.486180  ...  0.261057  0.643078   \n",
       "\n",
       "             V23       V24       V25       V26       V27       V28  Amount  \\\n",
       "0      -0.110474  0.066928  0.128539 -0.189115  0.133558 -0.021053  149.62   \n",
       "1       0.101288 -0.339846  0.167170  0.125895 -0.008983  0.014724    2.69   \n",
       "2       0.909412 -0.689281 -0.327642 -0.139097 -0.055353 -0.059752  378.66   \n",
       "3      -0.190321 -1.175575  0.647376 -0.221929  0.062723  0.061458  123.50   \n",
       "4      -0.137458  0.141267 -0.206010  0.502292  0.219422  0.215153   69.99   \n",
       "...          ...       ...       ...       ...       ...       ...     ...   \n",
       "284802  1.014480 -0.509348  1.436807  0.250034  0.943651  0.823731    0.77   \n",
       "284803  0.012463 -1.016226 -0.606624 -0.395255  0.068472 -0.053527   24.79   \n",
       "284804 -0.037501  0.640134  0.265745 -0.087371  0.004455 -0.026561   67.88   \n",
       "284805 -0.163298  0.123205 -0.569159  0.546668  0.108821  0.104533   10.00   \n",
       "284806  0.376777  0.008797 -0.473649 -0.818267 -0.002415  0.013649  217.00   \n",
       "\n",
       "        Class  \n",
       "0           0  \n",
       "1           0  \n",
       "2           0  \n",
       "3           0  \n",
       "4           0  \n",
       "...       ...  \n",
       "284802      0  \n",
       "284803      0  \n",
       "284804      0  \n",
       "284805      0  \n",
       "284806      0  \n",
       "\n",
       "[284807 rows x 31 columns]"
      ]
     },
     "execution_count": 2,
     "metadata": {},
     "output_type": "execute_result"
    }
   ],
   "source": [
    "import pandas as pd\n",
    "df = pd.read_csv(\"creditcard.csv\")\n",
    "df"
   ]
  },
  {
   "cell_type": "markdown",
   "metadata": {
    "id": "nH-W5-ju8CW2"
   },
   "source": [
    "### Parte 1: separar dados"
   ]
  },
  {
   "cell_type": "code",
   "execution_count": 3,
   "metadata": {
    "ExecuteTime": {
     "end_time": "2020-11-17T00:07:19.285967Z",
     "start_time": "2020-11-17T00:07:19.201351Z"
    },
    "colab": {
     "base_uri": "https://localhost:8080/",
     "height": 226
    },
    "id": "ojQGS2hk8CW3",
    "outputId": "b05650fa-7fb9-437c-9672-e82d0195c606"
   },
   "outputs": [
    {
     "data": {
      "text/html": [
       "<div>\n",
       "<style scoped>\n",
       "    .dataframe tbody tr th:only-of-type {\n",
       "        vertical-align: middle;\n",
       "    }\n",
       "\n",
       "    .dataframe tbody tr th {\n",
       "        vertical-align: top;\n",
       "    }\n",
       "\n",
       "    .dataframe thead th {\n",
       "        text-align: right;\n",
       "    }\n",
       "</style>\n",
       "<table border=\"1\" class=\"dataframe\">\n",
       "  <thead>\n",
       "    <tr style=\"text-align: right;\">\n",
       "      <th></th>\n",
       "      <th>V1</th>\n",
       "      <th>V2</th>\n",
       "      <th>V3</th>\n",
       "      <th>V4</th>\n",
       "      <th>V5</th>\n",
       "      <th>V6</th>\n",
       "      <th>V7</th>\n",
       "      <th>V8</th>\n",
       "      <th>V9</th>\n",
       "      <th>V10</th>\n",
       "      <th>...</th>\n",
       "      <th>V19</th>\n",
       "      <th>V20</th>\n",
       "      <th>V21</th>\n",
       "      <th>V22</th>\n",
       "      <th>V23</th>\n",
       "      <th>V24</th>\n",
       "      <th>V25</th>\n",
       "      <th>V26</th>\n",
       "      <th>V27</th>\n",
       "      <th>V28</th>\n",
       "    </tr>\n",
       "  </thead>\n",
       "  <tbody>\n",
       "    <tr>\n",
       "      <th>0</th>\n",
       "      <td>-1.359807</td>\n",
       "      <td>-0.072781</td>\n",
       "      <td>2.536347</td>\n",
       "      <td>1.378155</td>\n",
       "      <td>-0.338321</td>\n",
       "      <td>0.462388</td>\n",
       "      <td>0.239599</td>\n",
       "      <td>0.098698</td>\n",
       "      <td>0.363787</td>\n",
       "      <td>0.090794</td>\n",
       "      <td>...</td>\n",
       "      <td>0.403993</td>\n",
       "      <td>0.251412</td>\n",
       "      <td>-0.018307</td>\n",
       "      <td>0.277838</td>\n",
       "      <td>-0.110474</td>\n",
       "      <td>0.066928</td>\n",
       "      <td>0.128539</td>\n",
       "      <td>-0.189115</td>\n",
       "      <td>0.133558</td>\n",
       "      <td>-0.021053</td>\n",
       "    </tr>\n",
       "    <tr>\n",
       "      <th>1</th>\n",
       "      <td>1.191857</td>\n",
       "      <td>0.266151</td>\n",
       "      <td>0.166480</td>\n",
       "      <td>0.448154</td>\n",
       "      <td>0.060018</td>\n",
       "      <td>-0.082361</td>\n",
       "      <td>-0.078803</td>\n",
       "      <td>0.085102</td>\n",
       "      <td>-0.255425</td>\n",
       "      <td>-0.166974</td>\n",
       "      <td>...</td>\n",
       "      <td>-0.145783</td>\n",
       "      <td>-0.069083</td>\n",
       "      <td>-0.225775</td>\n",
       "      <td>-0.638672</td>\n",
       "      <td>0.101288</td>\n",
       "      <td>-0.339846</td>\n",
       "      <td>0.167170</td>\n",
       "      <td>0.125895</td>\n",
       "      <td>-0.008983</td>\n",
       "      <td>0.014724</td>\n",
       "    </tr>\n",
       "    <tr>\n",
       "      <th>2</th>\n",
       "      <td>-1.358354</td>\n",
       "      <td>-1.340163</td>\n",
       "      <td>1.773209</td>\n",
       "      <td>0.379780</td>\n",
       "      <td>-0.503198</td>\n",
       "      <td>1.800499</td>\n",
       "      <td>0.791461</td>\n",
       "      <td>0.247676</td>\n",
       "      <td>-1.514654</td>\n",
       "      <td>0.207643</td>\n",
       "      <td>...</td>\n",
       "      <td>-2.261857</td>\n",
       "      <td>0.524980</td>\n",
       "      <td>0.247998</td>\n",
       "      <td>0.771679</td>\n",
       "      <td>0.909412</td>\n",
       "      <td>-0.689281</td>\n",
       "      <td>-0.327642</td>\n",
       "      <td>-0.139097</td>\n",
       "      <td>-0.055353</td>\n",
       "      <td>-0.059752</td>\n",
       "    </tr>\n",
       "    <tr>\n",
       "      <th>3</th>\n",
       "      <td>-0.966272</td>\n",
       "      <td>-0.185226</td>\n",
       "      <td>1.792993</td>\n",
       "      <td>-0.863291</td>\n",
       "      <td>-0.010309</td>\n",
       "      <td>1.247203</td>\n",
       "      <td>0.237609</td>\n",
       "      <td>0.377436</td>\n",
       "      <td>-1.387024</td>\n",
       "      <td>-0.054952</td>\n",
       "      <td>...</td>\n",
       "      <td>-1.232622</td>\n",
       "      <td>-0.208038</td>\n",
       "      <td>-0.108300</td>\n",
       "      <td>0.005274</td>\n",
       "      <td>-0.190321</td>\n",
       "      <td>-1.175575</td>\n",
       "      <td>0.647376</td>\n",
       "      <td>-0.221929</td>\n",
       "      <td>0.062723</td>\n",
       "      <td>0.061458</td>\n",
       "    </tr>\n",
       "    <tr>\n",
       "      <th>4</th>\n",
       "      <td>-1.158233</td>\n",
       "      <td>0.877737</td>\n",
       "      <td>1.548718</td>\n",
       "      <td>0.403034</td>\n",
       "      <td>-0.407193</td>\n",
       "      <td>0.095921</td>\n",
       "      <td>0.592941</td>\n",
       "      <td>-0.270533</td>\n",
       "      <td>0.817739</td>\n",
       "      <td>0.753074</td>\n",
       "      <td>...</td>\n",
       "      <td>0.803487</td>\n",
       "      <td>0.408542</td>\n",
       "      <td>-0.009431</td>\n",
       "      <td>0.798278</td>\n",
       "      <td>-0.137458</td>\n",
       "      <td>0.141267</td>\n",
       "      <td>-0.206010</td>\n",
       "      <td>0.502292</td>\n",
       "      <td>0.219422</td>\n",
       "      <td>0.215153</td>\n",
       "    </tr>\n",
       "  </tbody>\n",
       "</table>\n",
       "<p>5 rows × 28 columns</p>\n",
       "</div>"
      ],
      "text/plain": [
       "         V1        V2        V3        V4        V5        V6        V7  \\\n",
       "0 -1.359807 -0.072781  2.536347  1.378155 -0.338321  0.462388  0.239599   \n",
       "1  1.191857  0.266151  0.166480  0.448154  0.060018 -0.082361 -0.078803   \n",
       "2 -1.358354 -1.340163  1.773209  0.379780 -0.503198  1.800499  0.791461   \n",
       "3 -0.966272 -0.185226  1.792993 -0.863291 -0.010309  1.247203  0.237609   \n",
       "4 -1.158233  0.877737  1.548718  0.403034 -0.407193  0.095921  0.592941   \n",
       "\n",
       "         V8        V9       V10  ...       V19       V20       V21       V22  \\\n",
       "0  0.098698  0.363787  0.090794  ...  0.403993  0.251412 -0.018307  0.277838   \n",
       "1  0.085102 -0.255425 -0.166974  ... -0.145783 -0.069083 -0.225775 -0.638672   \n",
       "2  0.247676 -1.514654  0.207643  ... -2.261857  0.524980  0.247998  0.771679   \n",
       "3  0.377436 -1.387024 -0.054952  ... -1.232622 -0.208038 -0.108300  0.005274   \n",
       "4 -0.270533  0.817739  0.753074  ...  0.803487  0.408542 -0.009431  0.798278   \n",
       "\n",
       "        V23       V24       V25       V26       V27       V28  \n",
       "0 -0.110474  0.066928  0.128539 -0.189115  0.133558 -0.021053  \n",
       "1  0.101288 -0.339846  0.167170  0.125895 -0.008983  0.014724  \n",
       "2  0.909412 -0.689281 -0.327642 -0.139097 -0.055353 -0.059752  \n",
       "3 -0.190321 -1.175575  0.647376 -0.221929  0.062723  0.061458  \n",
       "4 -0.137458  0.141267 -0.206010  0.502292  0.219422  0.215153  \n",
       "\n",
       "[5 rows x 28 columns]"
      ]
     },
     "execution_count": 3,
     "metadata": {},
     "output_type": "execute_result"
    }
   ],
   "source": [
    "X = df.drop(\n",
    "    ['Time', 'Amount', 'Class'],\n",
    "    axis = 1\n",
    "    ).copy()\n",
    "X.head()"
   ]
  },
  {
   "cell_type": "code",
   "execution_count": 4,
   "metadata": {
    "ExecuteTime": {
     "end_time": "2020-11-17T00:07:19.301588Z",
     "start_time": "2020-11-17T00:07:19.285967Z"
    },
    "colab": {
     "base_uri": "https://localhost:8080/",
     "height": 206
    },
    "id": "0T3zEQFs8CXA",
    "outputId": "ecd3348c-7cfa-4f69-d43a-78bc264c749b"
   },
   "outputs": [
    {
     "data": {
      "text/html": [
       "<div>\n",
       "<style scoped>\n",
       "    .dataframe tbody tr th:only-of-type {\n",
       "        vertical-align: middle;\n",
       "    }\n",
       "\n",
       "    .dataframe tbody tr th {\n",
       "        vertical-align: top;\n",
       "    }\n",
       "\n",
       "    .dataframe thead th {\n",
       "        text-align: right;\n",
       "    }\n",
       "</style>\n",
       "<table border=\"1\" class=\"dataframe\">\n",
       "  <thead>\n",
       "    <tr style=\"text-align: right;\">\n",
       "      <th></th>\n",
       "      <th>Class</th>\n",
       "    </tr>\n",
       "  </thead>\n",
       "  <tbody>\n",
       "    <tr>\n",
       "      <th>0</th>\n",
       "      <td>0</td>\n",
       "    </tr>\n",
       "    <tr>\n",
       "      <th>1</th>\n",
       "      <td>0</td>\n",
       "    </tr>\n",
       "    <tr>\n",
       "      <th>2</th>\n",
       "      <td>0</td>\n",
       "    </tr>\n",
       "    <tr>\n",
       "      <th>3</th>\n",
       "      <td>0</td>\n",
       "    </tr>\n",
       "    <tr>\n",
       "      <th>4</th>\n",
       "      <td>0</td>\n",
       "    </tr>\n",
       "  </tbody>\n",
       "</table>\n",
       "</div>"
      ],
      "text/plain": [
       "   Class\n",
       "0      0\n",
       "1      0\n",
       "2      0\n",
       "3      0\n",
       "4      0"
      ]
     },
     "execution_count": 4,
     "metadata": {},
     "output_type": "execute_result"
    }
   ],
   "source": [
    "Y = df[ ['Class'] ].copy()\n",
    "Y.head()"
   ]
  },
  {
   "cell_type": "code",
   "execution_count": 5,
   "metadata": {
    "ExecuteTime": {
     "end_time": "2020-11-17T00:07:19.317209Z",
     "start_time": "2020-11-17T00:07:19.301588Z"
    },
    "colab": {
     "base_uri": "https://localhost:8080/"
    },
    "id": "NWZBVZfR8CXH",
    "outputId": "efbaf15c-b8c3-4bfb-911f-074b6b2038bf"
   },
   "outputs": [
    {
     "data": {
      "text/plain": [
       "284807"
      ]
     },
     "execution_count": 5,
     "metadata": {},
     "output_type": "execute_result"
    }
   ],
   "source": [
    "n = Y['Class'].count()\n",
    "n"
   ]
  },
  {
   "cell_type": "code",
   "execution_count": 6,
   "metadata": {
    "ExecuteTime": {
     "end_time": "2020-11-17T00:07:19.332830Z",
     "start_time": "2020-11-17T00:07:19.317209Z"
    },
    "colab": {
     "base_uri": "https://localhost:8080/"
    },
    "id": "j4difwev8CXQ",
    "outputId": "1273f16f-a6e4-4b1f-b0fc-4008e09203c7"
   },
   "outputs": [
    {
     "name": "stdout",
     "output_type": "stream",
     "text": [
      "(7120, 7120)\n"
     ]
    }
   ],
   "source": [
    "#### Separando os conjuntos após filtragem dos atributos\n",
    "S = (X.iloc[ : 7120].copy(), Y.iloc[ : 7120].copy())\n",
    "\n",
    "print(f'({len(S[0])}, {len(S[1])})')"
   ]
  },
  {
   "cell_type": "code",
   "execution_count": 7,
   "metadata": {
    "ExecuteTime": {
     "end_time": "2020-11-17T00:07:19.364073Z",
     "start_time": "2020-11-17T00:07:19.332830Z"
    },
    "colab": {
     "base_uri": "https://localhost:8080/"
    },
    "id": "Wv81Speu8CXY",
    "outputId": "7db90a28-bd5c-4edd-ecf4-413fd174f85f"
   },
   "outputs": [
    {
     "name": "stdout",
     "output_type": "stream",
     "text": [
      "(142403, 142403)\n"
     ]
    }
   ],
   "source": [
    "U = (X.iloc[ : int(n/2)].copy(), Y.iloc[ : int(n/2)].copy())\n",
    "\n",
    "print(f'({len(U[0])}, {len(U[1])})')"
   ]
  },
  {
   "cell_type": "code",
   "execution_count": 8,
   "metadata": {
    "ExecuteTime": {
     "end_time": "2020-11-17T00:07:19.386206Z",
     "start_time": "2020-11-17T00:07:19.364073Z"
    },
    "colab": {
     "base_uri": "https://localhost:8080/"
    },
    "id": "ffm4owNT8CXd",
    "outputId": "a58791d9-b7ad-4938-ab74-b47ce6d88e3b",
    "scrolled": true
   },
   "outputs": [
    {
     "name": "stdout",
     "output_type": "stream",
     "text": [
      "(142404, 142404)\n"
     ]
    }
   ],
   "source": [
    "T = (X.iloc[int(n/2) : ].copy(), Y.iloc[int(n/2) : ].copy())\n",
    "\n",
    "print(f'({len(T[0])}, {len(T[1])})')"
   ]
  },
  {
   "cell_type": "markdown",
   "metadata": {
    "id": "LOpuRg248CXj"
   },
   "source": [
    "### Parte 2: Modelo A"
   ]
  },
  {
   "cell_type": "markdown",
   "metadata": {
    "id": "X_77gVK-Z-iq"
   },
   "source": [
    "#### denoising overcomplete autoencoder para pré-treinamento baseado em auto-supervisão"
   ]
  },
  {
   "cell_type": "code",
   "execution_count": 9,
   "metadata": {
    "ExecuteTime": {
     "end_time": "2020-11-17T00:07:23.373942Z",
     "start_time": "2020-11-17T00:07:23.358320Z"
    },
    "id": "XI5AMIPL8CXv"
   },
   "outputs": [],
   "source": [
    "#Inicializando as sementes\n",
    "seed(1)\n",
    "set_seed(2)"
   ]
  },
  {
   "cell_type": "code",
   "execution_count": 10,
   "metadata": {
    "ExecuteTime": {
     "end_time": "2020-11-17T00:07:27.067487Z",
     "start_time": "2020-11-17T00:07:23.781429Z"
    },
    "id": "IcR9rZLn8CYB"
   },
   "outputs": [],
   "source": [
    "# entrada com 28 valores\n",
    "input_data = keras.layers.Input(\n",
    "    shape=(28)\n",
    "    )\n",
    "# normalização em batch\n",
    "x = keras.layers.BatchNormalization()(input_data)\n",
    "# densa 32 neurônios, relu\n",
    "x = keras.layers.Dense(\n",
    "    32, activation='relu'\n",
    "    )(x)\n",
    "# densa 32 neurônios, relu\n",
    "x = keras.layers.Dense(\n",
    "    32, activation='relu'\n",
    "    )(x)\n",
    "# dropout 0.2\n",
    "x = keras.layers.Dropout(\n",
    "    0.2\n",
    "    )(x)\n",
    "# normalização em batch\n",
    "x = keras.layers.BatchNormalization()(x)\n",
    "# densa 28 neurônios, relu (camada de código/bottleneck)\n",
    "x = keras.layers.Dense(\n",
    "    28, activation='relu', name='code'\n",
    "    )(x)\n",
    "# densa 32 neurônios, relu\n",
    "x = keras.layers.Dense(\n",
    "    32, activation='relu'\n",
    "    )(x)\n",
    "# densa 32 neurônios, relu\n",
    "x = keras.layers.Dense(\n",
    "    32, activation='relu'\n",
    "    )(x)\n",
    "# densa 28 neurônios, tanh\n",
    "output = keras.layers.Dense(\n",
    "    28, activation = 'tanh'\n",
    "    )(x)\n",
    "\n",
    "model_a = keras.models.Model(\n",
    "    input_data,\n",
    "    output\n",
    "    )"
   ]
  },
  {
   "cell_type": "code",
   "execution_count": 11,
   "metadata": {
    "ExecuteTime": {
     "end_time": "2020-11-17T00:07:27.083107Z",
     "start_time": "2020-11-17T00:07:27.067487Z"
    },
    "colab": {
     "base_uri": "https://localhost:8080/"
    },
    "id": "_j5JDiYm8CYH",
    "outputId": "aa3eaa6c-4ee5-4bd7-a8a4-76c5d7148ed4"
   },
   "outputs": [
    {
     "name": "stdout",
     "output_type": "stream",
     "text": [
      "Model: \"functional_1\"\n",
      "_________________________________________________________________\n",
      "Layer (type)                 Output Shape              Param #   \n",
      "=================================================================\n",
      "input_1 (InputLayer)         [(None, 28)]              0         \n",
      "_________________________________________________________________\n",
      "batch_normalization (BatchNo (None, 28)                112       \n",
      "_________________________________________________________________\n",
      "dense (Dense)                (None, 32)                928       \n",
      "_________________________________________________________________\n",
      "dense_1 (Dense)              (None, 32)                1056      \n",
      "_________________________________________________________________\n",
      "dropout (Dropout)            (None, 32)                0         \n",
      "_________________________________________________________________\n",
      "batch_normalization_1 (Batch (None, 32)                128       \n",
      "_________________________________________________________________\n",
      "code (Dense)                 (None, 28)                924       \n",
      "_________________________________________________________________\n",
      "dense_2 (Dense)              (None, 32)                928       \n",
      "_________________________________________________________________\n",
      "dense_3 (Dense)              (None, 32)                1056      \n",
      "_________________________________________________________________\n",
      "dense_4 (Dense)              (None, 28)                924       \n",
      "=================================================================\n",
      "Total params: 6,056\n",
      "Trainable params: 5,936\n",
      "Non-trainable params: 120\n",
      "_________________________________________________________________\n"
     ]
    }
   ],
   "source": [
    "model_a.summary()"
   ]
  },
  {
   "cell_type": "code",
   "execution_count": 12,
   "metadata": {
    "ExecuteTime": {
     "end_time": "2020-11-17T00:07:27.139827Z",
     "start_time": "2020-11-17T00:07:27.083107Z"
    },
    "id": "kNycCAMD8CX2"
   },
   "outputs": [],
   "source": [
    "batch_size = 16\n",
    "epochs = 20\n",
    "noise_factor = 0.2"
   ]
  },
  {
   "cell_type": "code",
   "execution_count": 13,
   "metadata": {
    "ExecuteTime": {
     "end_time": "2020-11-17T00:07:27.347223Z",
     "start_time": "2020-11-17T00:07:27.141851Z"
    },
    "id": "eIbZ33iL8CX7"
   },
   "outputs": [],
   "source": [
    "x_train = U[0].astype('float32').values\n",
    "\n",
    "x_train_noise = x_train + noise_factor * np.random.normal(0, 1, x_train.shape)"
   ]
  },
  {
   "cell_type": "code",
   "execution_count": 14,
   "metadata": {
    "ExecuteTime": {
     "end_time": "2020-11-17T00:07:27.362845Z",
     "start_time": "2020-11-17T00:07:27.347223Z"
    },
    "id": "1m8Ln6fR8CXk"
   },
   "outputs": [],
   "source": [
    "# Taxa de aprendizado inicial de 0.003 e com decaimento a partir da época 5, exponencial a -0.2\n",
    "def scheduler_a(epoch, lr):\n",
    "    if epoch < 5:\n",
    "        return lr\n",
    "    else:\n",
    "        return np.round(lr * tf.math.exp(-0.2),4)    "
   ]
  },
  {
   "cell_type": "code",
   "execution_count": 15,
   "metadata": {
    "ExecuteTime": {
     "end_time": "2020-11-17T00:07:27.378466Z",
     "start_time": "2020-11-17T00:07:27.362845Z"
    },
    "id": "nH5cYR158CXq"
   },
   "outputs": [],
   "source": [
    "callbacklr_a = keras.callbacks.LearningRateScheduler(\n",
    "    scheduler_a\n",
    "    )"
   ]
  },
  {
   "cell_type": "code",
   "execution_count": 16,
   "metadata": {
    "ExecuteTime": {
     "end_time": "2020-11-17T00:07:27.416218Z",
     "start_time": "2020-11-17T00:07:27.378466Z"
    },
    "id": "njGZg8jd8CYM"
   },
   "outputs": [],
   "source": [
    "model_a.compile(\n",
    "    loss = 'mse',\n",
    "    optimizer = keras.optimizers.Adam(\n",
    "        lr = 0.003\n",
    "        )\n",
    "    )"
   ]
  },
  {
   "cell_type": "code",
   "execution_count": 17,
   "metadata": {
    "ExecuteTime": {
     "end_time": "2020-11-17T00:15:55.343843Z",
     "start_time": "2020-11-17T00:07:30.238918Z"
    },
    "colab": {
     "base_uri": "https://localhost:8080/"
    },
    "id": "rKo_Aod78CYQ",
    "outputId": "f7123b81-d3a0-4784-ef88-ca4a8a8131af",
    "scrolled": true
   },
   "outputs": [
    {
     "name": "stdout",
     "output_type": "stream",
     "text": [
      "Epoch 1/20\n",
      "8901/8901 [==============================] - 25s 3ms/step - loss: 0.6189\n",
      "Epoch 2/20\n",
      "8901/8901 [==============================] - 24s 3ms/step - loss: 0.5563\n",
      "Epoch 3/20\n",
      "8901/8901 [==============================] - 27s 3ms/step - loss: 0.5417\n",
      "Epoch 4/20\n",
      "8901/8901 [==============================] - 26s 3ms/step - loss: 0.5364\n",
      "Epoch 5/20\n",
      "8901/8901 [==============================] - 27s 3ms/step - loss: 0.5328\n",
      "Epoch 6/20\n",
      "8901/8901 [==============================] - 25s 3ms/step - loss: 0.5283\n",
      "Epoch 7/20\n",
      "8901/8901 [==============================] - 25s 3ms/step - loss: 0.5235\n",
      "Epoch 8/20\n",
      "8901/8901 [==============================] - 28s 3ms/step - loss: 0.5201\n",
      "Epoch 9/20\n",
      "8901/8901 [==============================] - 26s 3ms/step - loss: 0.5175\n",
      "Epoch 10/20\n",
      "8901/8901 [==============================] - 27s 3ms/step - loss: 0.5158\n",
      "Epoch 11/20\n",
      "8901/8901 [==============================] - 24s 3ms/step - loss: 0.5139\n",
      "Epoch 12/20\n",
      "8901/8901 [==============================] - 24s 3ms/step - loss: 0.5128\n",
      "Epoch 13/20\n",
      "8901/8901 [==============================] - 24s 3ms/step - loss: 0.5120\n",
      "Epoch 14/20\n",
      "8901/8901 [==============================] - 27s 3ms/step - loss: 0.5105\n",
      "Epoch 15/20\n",
      "8901/8901 [==============================] - 25s 3ms/step - loss: 0.5099\n",
      "Epoch 16/20\n",
      "8901/8901 [==============================] - 25s 3ms/step - loss: 0.5091\n",
      "Epoch 17/20\n",
      "8901/8901 [==============================] - 23s 3ms/step - loss: 0.5088\n",
      "Epoch 18/20\n",
      "8901/8901 [==============================] - 23s 3ms/step - loss: 0.5086\n",
      "Epoch 19/20\n",
      "8901/8901 [==============================] - 25s 3ms/step - loss: 0.5085\n",
      "Epoch 20/20\n",
      "8901/8901 [==============================] - 24s 3ms/step - loss: 0.5084\n"
     ]
    }
   ],
   "source": [
    "hist_a = model_a.fit(\n",
    "    x = x_train_noise,\n",
    "    y = x_train,\n",
    "    batch_size = batch_size,\n",
    "    epochs = epochs,\n",
    "    callbacks = [ callbacklr_a ],\n",
    "    verbose = 1\n",
    "    )"
   ]
  },
  {
   "cell_type": "code",
   "execution_count": 18,
   "metadata": {
    "ExecuteTime": {
     "end_time": "2020-11-17T00:15:55.566684Z",
     "start_time": "2020-11-17T00:15:55.343843Z"
    }
   },
   "outputs": [
    {
     "data": {
      "image/png": "[encoded data removed]",
      "text/plain": [
       "<Figure size 432x288 with 1 Axes>"
      ]
     },
     "metadata": {
      "needs_background": "light"
     },
     "output_type": "display_data"
    }
   ],
   "source": [
    "plt.plot(hist_a.history['loss'])\n",
    "plt.ylabel('Loss')\n",
    "plt.show()"
   ]
  },
  {
   "cell_type": "markdown",
   "metadata": {
    "id": "TpihTmfH8CYW"
   },
   "source": [
    "### Parte 3: Análise da projeção das características\n",
    "\n",
    "visualize um scatterplot com os 2 principais componentes obtidos do PCA com as classes dos exemplos atribuídas com cores ou marcadores diferentes:\n"
   ]
  },
  {
   "cell_type": "code",
   "execution_count": 19,
   "metadata": {
    "ExecuteTime": {
     "end_time": "2020-11-17T00:15:57.718766Z",
     "start_time": "2020-11-17T00:15:55.566684Z"
    },
    "id": "3E5cKRXL8CYX"
   },
   "outputs": [],
   "source": [
    "from sklearn.decomposition import PCA"
   ]
  },
  {
   "cell_type": "code",
   "execution_count": 20,
   "metadata": {
    "ExecuteTime": {
     "end_time": "2020-11-17T00:15:57.734409Z",
     "start_time": "2020-11-17T00:15:57.718766Z"
    },
    "id": "cyU_x52n8CYc"
   },
   "outputs": [],
   "source": [
    "x_train = S[0].values\n",
    "y_train = S[1].values"
   ]
  },
  {
   "cell_type": "markdown",
   "metadata": {
    "id": "m5MlDsfs8CYb"
   },
   "source": [
    "#### scatterplot com projeção PCA do conjunto de S original"
   ]
  },
  {
   "cell_type": "code",
   "execution_count": 21,
   "metadata": {
    "ExecuteTime": {
     "end_time": "2020-11-17T00:15:57.772192Z",
     "start_time": "2020-11-17T00:15:57.734409Z"
    },
    "id": "qZyTmUM58CYh"
   },
   "outputs": [],
   "source": [
    "pca = PCA(\n",
    "    n_components = 2\n",
    "    )\n",
    "\n",
    "pca.fit(\n",
    "    x_train\n",
    "    )\n",
    "\n",
    "pca_train = pca.transform(\n",
    "    x_train\n",
    "    )"
   ]
  },
  {
   "cell_type": "code",
   "execution_count": 22,
   "metadata": {
    "ExecuteTime": {
     "end_time": "2020-11-17T00:15:58.289120Z",
     "start_time": "2020-11-17T00:15:57.772192Z"
    },
    "colab": {
     "base_uri": "https://localhost:8080/",
     "height": 288
    },
    "id": "UtSpq2oC8CYm",
    "outputId": "1a83e593-481f-45fa-e8de-dea6720fb7ac"
   },
   "outputs": [
    {
     "data": {
      "text/plain": [
       "<matplotlib.legend.Legend at 0x20cff125548>"
      ]
     },
     "execution_count": 22,
     "metadata": {},
     "output_type": "execute_result"
    },
    {
     "data": {
      "image/png": "[encoded data removed]",
      "text/plain": [
       "<Figure size 432x288 with 1 Axes>"
      ]
     },
     "metadata": {
      "needs_background": "light"
     },
     "output_type": "display_data"
    }
   ],
   "source": [
    "fig, ax = plt.subplots()\n",
    "scatter = ax.scatter(\n",
    "    pca_train[:,0], pca_train[:,1], c = y_train[:], cmap='viridis'\n",
    "    )\n",
    "legend1 = ax.legend(\n",
    "    *scatter.legend_elements(), loc='best', title='Classes'\n",
    "    )\n",
    "ax.add_artist(legend1)"
   ]
  },
  {
   "cell_type": "markdown",
   "metadata": {
    "id": "xgWReyPp8CYt"
   },
   "source": [
    "#### scatterplot com projeção PCA do conjunto S após processado pelo \"encoder\", ou seja resultado da saída da camada de código"
   ]
  },
  {
   "cell_type": "code",
   "execution_count": 23,
   "metadata": {
    "ExecuteTime": {
     "end_time": "2020-11-17T00:15:58.304745Z",
     "start_time": "2020-11-17T00:15:58.289120Z"
    },
    "id": "IpQmYC9T8CYu"
   },
   "outputs": [],
   "source": [
    "code_model = keras.models.Model(\n",
    "    inputs = model_a.input,\n",
    "    outputs = model_a.get_layer('code').output\n",
    "    )"
   ]
  },
  {
   "cell_type": "code",
   "execution_count": 24,
   "metadata": {
    "ExecuteTime": {
     "end_time": "2020-11-17T00:15:58.520817Z",
     "start_time": "2020-11-17T00:15:58.304745Z"
    },
    "id": "-0T9Wd6B8CY_"
   },
   "outputs": [],
   "source": [
    "code_train = np.asarray(\n",
    "    code_model.predict(\n",
    "        x_train\n",
    "        )\n",
    "    )"
   ]
  },
  {
   "cell_type": "code",
   "execution_count": 25,
   "metadata": {
    "ExecuteTime": {
     "end_time": "2020-11-17T00:15:58.552136Z",
     "start_time": "2020-11-17T00:15:58.520817Z"
    },
    "id": "nNtXzyBv8CZM"
   },
   "outputs": [],
   "source": [
    "pca = PCA(\n",
    "    n_components = 2\n",
    "    )\n",
    "\n",
    "pca.fit(\n",
    "    code_train\n",
    "    )\n",
    "\n",
    "pca_train = pca.transform(\n",
    "    code_train\n",
    "    )"
   ]
  },
  {
   "cell_type": "code",
   "execution_count": 26,
   "metadata": {
    "ExecuteTime": {
     "end_time": "2020-11-17T00:15:58.974969Z",
     "start_time": "2020-11-17T00:15:58.552136Z"
    }
   },
   "outputs": [
    {
     "data": {
      "text/plain": [
       "<matplotlib.legend.Legend at 0x20cff1c82c8>"
      ]
     },
     "execution_count": 26,
     "metadata": {},
     "output_type": "execute_result"
    },
    {
     "data": {
      "image/png": "[encoded data removed]",
      "text/plain": [
       "<Figure size 432x288 with 1 Axes>"
      ]
     },
     "metadata": {
      "needs_background": "light"
     },
     "output_type": "display_data"
    }
   ],
   "source": [
    "fig, ax = plt.subplots()\n",
    "scatter = ax.scatter(\n",
    "    code_train[:,0], code_train[:,1], c = y_train[:], cmap='viridis'\n",
    "    )\n",
    "legend1 = ax.legend(\n",
    "    *scatter.legend_elements(), loc='best', title='Classes'\n",
    "    )\n",
    "ax.add_artist(legend1)"
   ]
  },
  {
   "cell_type": "markdown",
   "metadata": {
    "id": "g-2DoaMm8CZV"
   },
   "source": [
    "### Parte 4: Modelo B"
   ]
  },
  {
   "cell_type": "code",
   "execution_count": 27,
   "metadata": {
    "ExecuteTime": {
     "end_time": "2020-11-17T00:15:58.990495Z",
     "start_time": "2020-11-17T00:15:58.974969Z"
    },
    "id": "LUcB6X8z8CZa"
   },
   "outputs": [],
   "source": [
    "#Inicializando as sementes\n",
    "seed(1)\n",
    "set_seed(2)"
   ]
  },
  {
   "cell_type": "code",
   "execution_count": 28,
   "metadata": {
    "ExecuteTime": {
     "end_time": "2020-11-17T00:18:30.708966Z",
     "start_time": "2020-11-17T00:18:30.677695Z"
    }
   },
   "outputs": [],
   "source": [
    "encoder = keras.models.Model(\n",
    "    inputs = model_a.input,\n",
    "    outputs = model_a.get_layer(name = 'code').output\n",
    "    )"
   ]
  },
  {
   "cell_type": "code",
   "execution_count": 29,
   "metadata": {
    "ExecuteTime": {
     "end_time": "2020-11-17T00:18:31.596244Z",
     "start_time": "2020-11-17T00:18:31.549376Z"
    },
    "id": "EvyE5A2LPgdA"
   },
   "outputs": [],
   "source": [
    "new = keras.models.Sequential()\n",
    "new.add(\n",
    "    keras.layers.Dense(\n",
    "        1,\n",
    "        activation = 'sigmoid',\n",
    "        name = 'pred',\n",
    "        input_shape = encoder.output_shape[1:]\n",
    "        )\n",
    "    )\n",
    "\n",
    "model_b = keras.models.Model(\n",
    "    inputs = encoder.input,\n",
    "    outputs = new(encoder.output)\n",
    "    )"
   ]
  },
  {
   "cell_type": "code",
   "execution_count": 30,
   "metadata": {
    "ExecuteTime": {
     "end_time": "2020-11-17T00:18:32.352568Z",
     "start_time": "2020-11-17T00:18:32.337049Z"
    },
    "colab": {
     "base_uri": "https://localhost:8080/"
    },
    "id": "pEFee2Ih8CZl",
    "outputId": "6c19a9f0-cef4-4814-ba4a-e441d4eae3df"
   },
   "outputs": [
    {
     "name": "stdout",
     "output_type": "stream",
     "text": [
      "Model: \"functional_7\"\n",
      "_________________________________________________________________\n",
      "Layer (type)                 Output Shape              Param #   \n",
      "=================================================================\n",
      "input_1 (InputLayer)         [(None, 28)]              0         \n",
      "_________________________________________________________________\n",
      "batch_normalization (BatchNo (None, 28)                112       \n",
      "_________________________________________________________________\n",
      "dense (Dense)                (None, 32)                928       \n",
      "_________________________________________________________________\n",
      "dense_1 (Dense)              (None, 32)                1056      \n",
      "_________________________________________________________________\n",
      "dropout (Dropout)            (None, 32)                0         \n",
      "_________________________________________________________________\n",
      "batch_normalization_1 (Batch (None, 32)                128       \n",
      "_________________________________________________________________\n",
      "code (Dense)                 (None, 28)                924       \n",
      "_________________________________________________________________\n",
      "sequential (Sequential)      (None, 1)                 29        \n",
      "=================================================================\n",
      "Total params: 3,177\n",
      "Trainable params: 3,057\n",
      "Non-trainable params: 120\n",
      "_________________________________________________________________\n"
     ]
    }
   ],
   "source": [
    "model_b.summary()"
   ]
  },
  {
   "cell_type": "code",
   "execution_count": 31,
   "metadata": {
    "ExecuteTime": {
     "end_time": "2020-11-17T00:18:34.808906Z",
     "start_time": "2020-11-17T00:18:34.793379Z"
    },
    "id": "ISc9G6Wf8CZc"
   },
   "outputs": [],
   "source": [
    "batch_size = 16\n",
    "epochs = 8\n",
    "\n",
    "class_weight = {\n",
    "    0: 0.1,\n",
    "    1: 0.9\n",
    "    }"
   ]
  },
  {
   "cell_type": "code",
   "execution_count": 38,
   "metadata": {
    "ExecuteTime": {
     "end_time": "2020-11-17T00:19:47.258231Z",
     "start_time": "2020-11-17T00:19:47.242622Z"
    },
    "id": "g9i-syBu8CZg"
   },
   "outputs": [],
   "source": [
    "x_train = U[0].astype('float32').values\n",
    "y_train = U[1].astype('float32').values"
   ]
  },
  {
   "cell_type": "code",
   "execution_count": 39,
   "metadata": {
    "ExecuteTime": {
     "end_time": "2020-11-17T00:19:47.690623Z",
     "start_time": "2020-11-17T00:19:47.675002Z"
    },
    "id": "ku8r23tb8CZW"
   },
   "outputs": [],
   "source": [
    "# Taxa de aprendizado inicial de 0.001\n",
    "# e com decaimento em todas as épocas exponencial a -0.3\n",
    "def scheduler_b(epoch, lr):\n",
    "    return np.round(lr * tf.math.exp(-0.3),4)    "
   ]
  },
  {
   "cell_type": "code",
   "execution_count": 40,
   "metadata": {
    "ExecuteTime": {
     "end_time": "2020-11-17T00:19:48.060830Z",
     "start_time": "2020-11-17T00:19:48.045300Z"
    },
    "id": "7zaU7aa68CZj"
   },
   "outputs": [],
   "source": [
    "callbacklr_b = keras.callbacks.LearningRateScheduler(\n",
    "    scheduler_b\n",
    "    )"
   ]
  },
  {
   "cell_type": "code",
   "execution_count": 41,
   "metadata": {
    "ExecuteTime": {
     "end_time": "2020-11-17T00:19:48.747999Z",
     "start_time": "2020-11-17T00:19:48.694480Z"
    },
    "id": "Rnw5XSmG8CZp"
   },
   "outputs": [],
   "source": [
    "model_b.compile(\n",
    "    loss = 'mse',\n",
    "    optimizer = keras.optimizers.Adam(\n",
    "        lr = 0.001\n",
    "        ),\n",
    "    metrics = [\n",
    "        tf.keras.metrics.Precision(),\n",
    "        tf.keras.metrics.Recall()\n",
    "        ]\n",
    "    )"
   ]
  },
  {
   "cell_type": "code",
   "execution_count": 42,
   "metadata": {
    "ExecuteTime": {
     "end_time": "2020-11-17T00:24:14.508385Z",
     "start_time": "2020-11-17T00:19:49.704533Z"
    },
    "colab": {
     "base_uri": "https://localhost:8080/"
    },
    "id": "g2HXc0pS8CZs",
    "outputId": "7bd39ef7-5ba2-4839-f606-528afc3bb88f",
    "scrolled": true
   },
   "outputs": [
    {
     "name": "stdout",
     "output_type": "stream",
     "text": [
      "Epoch 1/8\n",
      "8901/8901 [==============================] - 33s 4ms/step - loss: 9.0355e-04 - precision_1: 0.1884 - recall_1: 0.6654\n",
      "Epoch 2/8\n",
      "8901/8901 [==============================] - 35s 4ms/step - loss: 3.6734e-04 - precision_1: 0.7690 - recall_1: 0.7918\n",
      "Epoch 3/8\n",
      "8901/8901 [==============================] - 33s 4ms/step - loss: 3.3849e-04 - precision_1: 0.7358 - recall_1: 0.8178\n",
      "Epoch 4/8\n",
      "8901/8901 [==============================] - 32s 4ms/step - loss: 3.4313e-04 - precision_1: 0.7821 - recall_1: 0.8141\n",
      "Epoch 5/8\n",
      "8901/8901 [==============================] - 33s 4ms/step - loss: 3.3659e-04 - precision_1: 0.7719 - recall_1: 0.8178\n",
      "Epoch 6/8\n",
      "8901/8901 [==============================] - 34s 4ms/step - loss: 3.4562e-04 - precision_1: 0.7604 - recall_1: 0.8141\n",
      "Epoch 7/8\n",
      "8901/8901 [==============================] - 32s 4ms/step - loss: 3.2865e-04 - precision_1: 0.7762 - recall_1: 0.8253\n",
      "Epoch 8/8\n",
      "8901/8901 [==============================] - 32s 4ms/step - loss: 3.2082e-04 - precision_1: 0.7880 - recall_1: 0.8290\n"
     ]
    }
   ],
   "source": [
    "hist_b = model_b.fit(\n",
    "    x = x_train,\n",
    "    y = y_train,\n",
    "    batch_size = batch_size,\n",
    "    epochs = epochs,\n",
    "    callbacks = [ callbacklr_b ],\n",
    "    class_weight = class_weight,\n",
    "    verbose = 1\n",
    "    )"
   ]
  },
  {
   "cell_type": "markdown",
   "metadata": {
    "id": "NPDjcDnx8CZz"
   },
   "source": [
    "### Parte 5: Avaliação da rede neural de classificação"
   ]
  },
  {
   "cell_type": "markdown",
   "metadata": {},
   "source": [
    "1. **Avalie a rede neural de classificação**: \n",
    "    * Exiba o gráfico da precisão e revocação no treinamento calculada ao longo das épocas\n",
    "    * Exiba precisão e revocação calculada no treinamento S e teste T\n",
    "    * Exiba um scatterplot do conjunto S obtendo sua representação do código da rede de classificação (saída da camada com 28 exemplos)<br><br>\n"
   ]
  },
  {
   "cell_type": "markdown",
   "metadata": {
    "id": "2YhzpN3XdRze"
   },
   "source": [
    "#### Exiba o gráfico da precisão e revocação no treinamento calculada ao longo das épocas"
   ]
  },
  {
   "cell_type": "code",
   "execution_count": 46,
   "metadata": {
    "ExecuteTime": {
     "end_time": "2020-11-17T00:27:03.687880Z",
     "start_time": "2020-11-17T00:27:03.418285Z"
    },
    "colab": {
     "base_uri": "https://localhost:8080/",
     "height": 585
    },
    "id": "8EC_0-Y78CZ0",
    "outputId": "d6b080b8-ac63-42f9-8547-f96620e0380e"
   },
   "outputs": [
    {
     "data": {
      "image/png": "[encoded data removed]",
      "text/plain": [
       "<Figure size 1152x576 with 1 Axes>"
      ]
     },
     "metadata": {
      "needs_background": "light"
     },
     "output_type": "display_data"
    }
   ],
   "source": [
    "fig, axes = plt.subplots(\n",
    "    figsize = (16,8)\n",
    "    )\n",
    "\n",
    "plt.plot(\n",
    "    hist_b.history['precision_1'],\n",
    "    label = 'precision'\n",
    "    )\n",
    "plt.plot(\n",
    "    hist_b.history['recall_1'],\n",
    "    label = 'recall'\n",
    "    )\n",
    "\n",
    "plt.title('Precisão e revocação no treinamento calculada ao longo das épocas')\n",
    "plt.xlabel('epoch')\n",
    "plt.legend(\n",
    "    ['precision', 'recall'],\n",
    "    loc = 'best'\n",
    "    )\n",
    "fig.tight_layout()\n",
    "plt.show()"
   ]
  },
  {
   "cell_type": "markdown",
   "metadata": {
    "id": "wHa6xLiLdW9f"
   },
   "source": [
    "#### Exiba precisão e revocação calculada no treinamento S e teste T"
   ]
  },
  {
   "cell_type": "code",
   "execution_count": 47,
   "metadata": {
    "ExecuteTime": {
     "end_time": "2020-11-17T00:27:58.370058Z",
     "start_time": "2020-11-17T00:27:57.706011Z"
    },
    "colab": {
     "base_uri": "https://localhost:8080/"
    },
    "id": "uChBpf1UXom-",
    "outputId": "3ff9a1b7-0e4b-4904-84ac-d46216480b57"
   },
   "outputs": [
    {
     "name": "stdout",
     "output_type": "stream",
     "text": [
      "S - PRECISION: 0.92308\n",
      "S - RECALL: 0.96000\n"
     ]
    }
   ],
   "source": [
    "# S\n",
    "score = model_b.evaluate(\n",
    "    S[0],\n",
    "    S[1],\n",
    "    verbose=0\n",
    "    )\n",
    "print(\"S - PRECISION: %.5f\" % (score[1]))\n",
    "print(\"S - RECALL: %.5f\" % (score[2]))"
   ]
  },
  {
   "cell_type": "code",
   "execution_count": 48,
   "metadata": {
    "ExecuteTime": {
     "end_time": "2020-11-17T00:28:06.575718Z",
     "start_time": "2020-11-17T00:27:59.342887Z"
    },
    "colab": {
     "base_uri": "https://localhost:8080/"
    },
    "id": "MeUeQ59XdmGp",
    "outputId": "543ae8dd-6010-4b7e-c90d-e09b809e1304"
   },
   "outputs": [
    {
     "name": "stdout",
     "output_type": "stream",
     "text": [
      "T - PRECISION: 0.64964\n",
      "T - RECALL: 0.79821\n"
     ]
    }
   ],
   "source": [
    "# T\n",
    "score = model_b.evaluate(\n",
    "    T[0],\n",
    "    T[1],\n",
    "    verbose=0\n",
    "    )\n",
    "print(\"T - PRECISION: %.5f\" % (score[1]))\n",
    "print(\"T - RECALL: %.5f\" % (score[2]))"
   ]
  },
  {
   "cell_type": "markdown",
   "metadata": {
    "id": "FHR6kwzUdYYt"
   },
   "source": [
    "#### Exiba um scatterplot do conjunto S obtendo sua representação do código da rede de classificação (saída da camada com 28 exemplos)"
   ]
  },
  {
   "cell_type": "code",
   "execution_count": 49,
   "metadata": {
    "ExecuteTime": {
     "end_time": "2020-11-17T00:28:17.615011Z",
     "start_time": "2020-11-17T00:28:17.583741Z"
    },
    "id": "tfLB_vgoeV5R"
   },
   "outputs": [],
   "source": [
    "code_model = keras.models.Model(\n",
    "    inputs = model_b.input,\n",
    "    outputs = model_b.get_layer('code').output\n",
    "    )"
   ]
  },
  {
   "cell_type": "code",
   "execution_count": 50,
   "metadata": {
    "ExecuteTime": {
     "end_time": "2020-11-17T00:28:18.016185Z",
     "start_time": "2020-11-17T00:28:17.768808Z"
    },
    "id": "D5xXLMSiXo7Y"
   },
   "outputs": [],
   "source": [
    "code_train = np.asarray(\n",
    "    code_model.predict(\n",
    "        S[0]\n",
    "        )\n",
    "    )"
   ]
  },
  {
   "cell_type": "code",
   "execution_count": 53,
   "metadata": {
    "ExecuteTime": {
     "end_time": "2020-11-17T00:28:56.079161Z",
     "start_time": "2020-11-17T00:28:55.945263Z"
    },
    "colab": {
     "base_uri": "https://localhost:8080/",
     "height": 231
    },
    "id": "-gDBBmvmehMR",
    "outputId": "ed6a449f-d200-4906-aff8-43c2085c1161"
   },
   "outputs": [
    {
     "ename": "ValueError",
     "evalue": "'c' argument must be a color, a sequence of colors, or a sequence of numbers, not       Class\n0         0\n1         0\n2         0\n3         0\n4         0\n...     ...\n7115      0\n7116      0\n7117      0\n7118      0\n7119      0\n\n[7120 rows x 1 columns]",
     "output_type": "error",
     "traceback": [
      "\u001b[1;31m---------------------------------------------------------------------------\u001b[0m",
      "\u001b[1;31mValueError\u001b[0m                                Traceback (most recent call last)",
      "\u001b[1;32mC:\\ProgramData\\Anaconda3\\envs\\tensorflow\\lib\\site-packages\\matplotlib\\axes\\_axes.py\u001b[0m in \u001b[0;36m_parse_scatter_color_args\u001b[1;34m(c, edgecolors, kwargs, xsize, get_next_color_func)\u001b[0m\n\u001b[0;32m   4290\u001b[0m             \u001b[1;32mtry\u001b[0m\u001b[1;33m:\u001b[0m  \u001b[1;31m# Is 'c' acceptable as PathCollection facecolors?\u001b[0m\u001b[1;33m\u001b[0m\u001b[1;33m\u001b[0m\u001b[0m\n\u001b[1;32m-> 4291\u001b[1;33m                 \u001b[0mcolors\u001b[0m \u001b[1;33m=\u001b[0m \u001b[0mmcolors\u001b[0m\u001b[1;33m.\u001b[0m\u001b[0mto_rgba_array\u001b[0m\u001b[1;33m(\u001b[0m\u001b[0mc\u001b[0m\u001b[1;33m)\u001b[0m\u001b[1;33m\u001b[0m\u001b[1;33m\u001b[0m\u001b[0m\n\u001b[0m\u001b[0;32m   4292\u001b[0m             \u001b[1;32mexcept\u001b[0m \u001b[1;33m(\u001b[0m\u001b[0mTypeError\u001b[0m\u001b[1;33m,\u001b[0m \u001b[0mValueError\u001b[0m\u001b[1;33m)\u001b[0m \u001b[1;32mas\u001b[0m \u001b[0merr\u001b[0m\u001b[1;33m:\u001b[0m\u001b[1;33m\u001b[0m\u001b[1;33m\u001b[0m\u001b[0m\n",
      "\u001b[1;32mC:\\ProgramData\\Anaconda3\\envs\\tensorflow\\lib\\site-packages\\matplotlib\\colors.py\u001b[0m in \u001b[0;36mto_rgba_array\u001b[1;34m(c, alpha)\u001b[0m\n\u001b[0;32m    340\u001b[0m     \u001b[1;32melse\u001b[0m\u001b[1;33m:\u001b[0m\u001b[1;33m\u001b[0m\u001b[1;33m\u001b[0m\u001b[0m\n\u001b[1;32m--> 341\u001b[1;33m         \u001b[1;32mreturn\u001b[0m \u001b[0mnp\u001b[0m\u001b[1;33m.\u001b[0m\u001b[0marray\u001b[0m\u001b[1;33m(\u001b[0m\u001b[1;33m[\u001b[0m\u001b[0mto_rgba\u001b[0m\u001b[1;33m(\u001b[0m\u001b[0mcc\u001b[0m\u001b[1;33m,\u001b[0m \u001b[0malpha\u001b[0m\u001b[1;33m)\u001b[0m \u001b[1;32mfor\u001b[0m \u001b[0mcc\u001b[0m \u001b[1;32min\u001b[0m \u001b[0mc\u001b[0m\u001b[1;33m]\u001b[0m\u001b[1;33m)\u001b[0m\u001b[1;33m\u001b[0m\u001b[1;33m\u001b[0m\u001b[0m\n\u001b[0m\u001b[0;32m    342\u001b[0m \u001b[1;33m\u001b[0m\u001b[0m\n",
      "\u001b[1;32mC:\\ProgramData\\Anaconda3\\envs\\tensorflow\\lib\\site-packages\\matplotlib\\colors.py\u001b[0m in \u001b[0;36m<listcomp>\u001b[1;34m(.0)\u001b[0m\n\u001b[0;32m    340\u001b[0m     \u001b[1;32melse\u001b[0m\u001b[1;33m:\u001b[0m\u001b[1;33m\u001b[0m\u001b[1;33m\u001b[0m\u001b[0m\n\u001b[1;32m--> 341\u001b[1;33m         \u001b[1;32mreturn\u001b[0m \u001b[0mnp\u001b[0m\u001b[1;33m.\u001b[0m\u001b[0marray\u001b[0m\u001b[1;33m(\u001b[0m\u001b[1;33m[\u001b[0m\u001b[0mto_rgba\u001b[0m\u001b[1;33m(\u001b[0m\u001b[0mcc\u001b[0m\u001b[1;33m,\u001b[0m \u001b[0malpha\u001b[0m\u001b[1;33m)\u001b[0m \u001b[1;32mfor\u001b[0m \u001b[0mcc\u001b[0m \u001b[1;32min\u001b[0m \u001b[0mc\u001b[0m\u001b[1;33m]\u001b[0m\u001b[1;33m)\u001b[0m\u001b[1;33m\u001b[0m\u001b[1;33m\u001b[0m\u001b[0m\n\u001b[0m\u001b[0;32m    342\u001b[0m \u001b[1;33m\u001b[0m\u001b[0m\n",
      "\u001b[1;32mC:\\ProgramData\\Anaconda3\\envs\\tensorflow\\lib\\site-packages\\matplotlib\\colors.py\u001b[0m in \u001b[0;36mto_rgba\u001b[1;34m(c, alpha)\u001b[0m\n\u001b[0;32m    188\u001b[0m     \u001b[1;32mif\u001b[0m \u001b[0mrgba\u001b[0m \u001b[1;32mis\u001b[0m \u001b[1;32mNone\u001b[0m\u001b[1;33m:\u001b[0m  \u001b[1;31m# Suppress exception chaining of cache lookup failure.\u001b[0m\u001b[1;33m\u001b[0m\u001b[1;33m\u001b[0m\u001b[0m\n\u001b[1;32m--> 189\u001b[1;33m         \u001b[0mrgba\u001b[0m \u001b[1;33m=\u001b[0m \u001b[0m_to_rgba_no_colorcycle\u001b[0m\u001b[1;33m(\u001b[0m\u001b[0mc\u001b[0m\u001b[1;33m,\u001b[0m \u001b[0malpha\u001b[0m\u001b[1;33m)\u001b[0m\u001b[1;33m\u001b[0m\u001b[1;33m\u001b[0m\u001b[0m\n\u001b[0m\u001b[0;32m    190\u001b[0m         \u001b[1;32mtry\u001b[0m\u001b[1;33m:\u001b[0m\u001b[1;33m\u001b[0m\u001b[1;33m\u001b[0m\u001b[0m\n",
      "\u001b[1;32mC:\\ProgramData\\Anaconda3\\envs\\tensorflow\\lib\\site-packages\\matplotlib\\colors.py\u001b[0m in \u001b[0;36m_to_rgba_no_colorcycle\u001b[1;34m(c, alpha)\u001b[0m\n\u001b[0;32m    259\u001b[0m             \u001b[1;32mreturn\u001b[0m \u001b[0mc\u001b[0m\u001b[1;33m,\u001b[0m \u001b[0mc\u001b[0m\u001b[1;33m,\u001b[0m \u001b[0mc\u001b[0m\u001b[1;33m,\u001b[0m \u001b[0malpha\u001b[0m \u001b[1;32mif\u001b[0m \u001b[0malpha\u001b[0m \u001b[1;32mis\u001b[0m \u001b[1;32mnot\u001b[0m \u001b[1;32mNone\u001b[0m \u001b[1;32melse\u001b[0m \u001b[1;36m1.\u001b[0m\u001b[1;33m\u001b[0m\u001b[1;33m\u001b[0m\u001b[0m\n\u001b[1;32m--> 260\u001b[1;33m         \u001b[1;32mraise\u001b[0m \u001b[0mValueError\u001b[0m\u001b[1;33m(\u001b[0m\u001b[1;34mf\"Invalid RGBA argument: {orig_c!r}\"\u001b[0m\u001b[1;33m)\u001b[0m\u001b[1;33m\u001b[0m\u001b[1;33m\u001b[0m\u001b[0m\n\u001b[0m\u001b[0;32m    261\u001b[0m     \u001b[1;31m# tuple color.\u001b[0m\u001b[1;33m\u001b[0m\u001b[1;33m\u001b[0m\u001b[1;33m\u001b[0m\u001b[0m\n",
      "\u001b[1;31mValueError\u001b[0m: Invalid RGBA argument: 'Class'",
      "\nThe above exception was the direct cause of the following exception:\n",
      "\u001b[1;31mValueError\u001b[0m                                Traceback (most recent call last)",
      "\u001b[1;32m<ipython-input-53-7cb53b59f202>\u001b[0m in \u001b[0;36m<module>\u001b[1;34m\u001b[0m\n\u001b[0;32m      1\u001b[0m plt.scatter(\n\u001b[1;32m----> 2\u001b[1;33m     \u001b[0mcode_train\u001b[0m\u001b[1;33m[\u001b[0m\u001b[1;33m:\u001b[0m\u001b[1;33m,\u001b[0m\u001b[1;36m0\u001b[0m\u001b[1;33m]\u001b[0m\u001b[1;33m,\u001b[0m \u001b[0mcode_train\u001b[0m\u001b[1;33m[\u001b[0m\u001b[1;33m:\u001b[0m\u001b[1;33m,\u001b[0m\u001b[1;36m1\u001b[0m\u001b[1;33m]\u001b[0m\u001b[1;33m,\u001b[0m \u001b[0mc\u001b[0m \u001b[1;33m=\u001b[0m \u001b[0mS\u001b[0m\u001b[1;33m[\u001b[0m\u001b[1;36m1\u001b[0m\u001b[1;33m]\u001b[0m\u001b[1;33m[\u001b[0m\u001b[1;33m:\u001b[0m\u001b[1;33m]\u001b[0m\u001b[1;33m,\u001b[0m \u001b[0mcmap\u001b[0m\u001b[1;33m=\u001b[0m\u001b[1;34m'viridis'\u001b[0m\u001b[1;33m\u001b[0m\u001b[1;33m\u001b[0m\u001b[0m\n\u001b[0m\u001b[0;32m      3\u001b[0m     )\n\u001b[0;32m      4\u001b[0m \u001b[0mplt\u001b[0m\u001b[1;33m.\u001b[0m\u001b[0mcolorbar\u001b[0m\u001b[1;33m(\u001b[0m\u001b[1;33m)\u001b[0m\u001b[1;33m\u001b[0m\u001b[1;33m\u001b[0m\u001b[0m\n",
      "\u001b[1;32mC:\\ProgramData\\Anaconda3\\envs\\tensorflow\\lib\\site-packages\\matplotlib\\pyplot.py\u001b[0m in \u001b[0;36mscatter\u001b[1;34m(x, y, s, c, marker, cmap, norm, vmin, vmax, alpha, linewidths, verts, edgecolors, plotnonfinite, data, **kwargs)\u001b[0m\n\u001b[0;32m   2893\u001b[0m         \u001b[0mverts\u001b[0m\u001b[1;33m=\u001b[0m\u001b[0mverts\u001b[0m\u001b[1;33m,\u001b[0m \u001b[0medgecolors\u001b[0m\u001b[1;33m=\u001b[0m\u001b[0medgecolors\u001b[0m\u001b[1;33m,\u001b[0m\u001b[1;33m\u001b[0m\u001b[1;33m\u001b[0m\u001b[0m\n\u001b[0;32m   2894\u001b[0m         \u001b[0mplotnonfinite\u001b[0m\u001b[1;33m=\u001b[0m\u001b[0mplotnonfinite\u001b[0m\u001b[1;33m,\u001b[0m\u001b[1;33m\u001b[0m\u001b[1;33m\u001b[0m\u001b[0m\n\u001b[1;32m-> 2895\u001b[1;33m         **({\"data\": data} if data is not None else {}), **kwargs)\n\u001b[0m\u001b[0;32m   2896\u001b[0m     \u001b[0msci\u001b[0m\u001b[1;33m(\u001b[0m\u001b[0m__ret\u001b[0m\u001b[1;33m)\u001b[0m\u001b[1;33m\u001b[0m\u001b[1;33m\u001b[0m\u001b[0m\n\u001b[0;32m   2897\u001b[0m     \u001b[1;32mreturn\u001b[0m \u001b[0m__ret\u001b[0m\u001b[1;33m\u001b[0m\u001b[1;33m\u001b[0m\u001b[0m\n",
      "\u001b[1;32mC:\\ProgramData\\Anaconda3\\envs\\tensorflow\\lib\\site-packages\\matplotlib\\__init__.py\u001b[0m in \u001b[0;36minner\u001b[1;34m(ax, data, *args, **kwargs)\u001b[0m\n\u001b[0;32m   1436\u001b[0m     \u001b[1;32mdef\u001b[0m \u001b[0minner\u001b[0m\u001b[1;33m(\u001b[0m\u001b[0max\u001b[0m\u001b[1;33m,\u001b[0m \u001b[1;33m*\u001b[0m\u001b[0margs\u001b[0m\u001b[1;33m,\u001b[0m \u001b[0mdata\u001b[0m\u001b[1;33m=\u001b[0m\u001b[1;32mNone\u001b[0m\u001b[1;33m,\u001b[0m \u001b[1;33m**\u001b[0m\u001b[0mkwargs\u001b[0m\u001b[1;33m)\u001b[0m\u001b[1;33m:\u001b[0m\u001b[1;33m\u001b[0m\u001b[1;33m\u001b[0m\u001b[0m\n\u001b[0;32m   1437\u001b[0m         \u001b[1;32mif\u001b[0m \u001b[0mdata\u001b[0m \u001b[1;32mis\u001b[0m \u001b[1;32mNone\u001b[0m\u001b[1;33m:\u001b[0m\u001b[1;33m\u001b[0m\u001b[1;33m\u001b[0m\u001b[0m\n\u001b[1;32m-> 1438\u001b[1;33m             \u001b[1;32mreturn\u001b[0m \u001b[0mfunc\u001b[0m\u001b[1;33m(\u001b[0m\u001b[0max\u001b[0m\u001b[1;33m,\u001b[0m \u001b[1;33m*\u001b[0m\u001b[0mmap\u001b[0m\u001b[1;33m(\u001b[0m\u001b[0msanitize_sequence\u001b[0m\u001b[1;33m,\u001b[0m \u001b[0margs\u001b[0m\u001b[1;33m)\u001b[0m\u001b[1;33m,\u001b[0m \u001b[1;33m**\u001b[0m\u001b[0mkwargs\u001b[0m\u001b[1;33m)\u001b[0m\u001b[1;33m\u001b[0m\u001b[1;33m\u001b[0m\u001b[0m\n\u001b[0m\u001b[0;32m   1439\u001b[0m \u001b[1;33m\u001b[0m\u001b[0m\n\u001b[0;32m   1440\u001b[0m         \u001b[0mbound\u001b[0m \u001b[1;33m=\u001b[0m \u001b[0mnew_sig\u001b[0m\u001b[1;33m.\u001b[0m\u001b[0mbind\u001b[0m\u001b[1;33m(\u001b[0m\u001b[0max\u001b[0m\u001b[1;33m,\u001b[0m \u001b[1;33m*\u001b[0m\u001b[0margs\u001b[0m\u001b[1;33m,\u001b[0m \u001b[1;33m**\u001b[0m\u001b[0mkwargs\u001b[0m\u001b[1;33m)\u001b[0m\u001b[1;33m\u001b[0m\u001b[1;33m\u001b[0m\u001b[0m\n",
      "\u001b[1;32mC:\\ProgramData\\Anaconda3\\envs\\tensorflow\\lib\\site-packages\\matplotlib\\cbook\\deprecation.py\u001b[0m in \u001b[0;36mwrapper\u001b[1;34m(*inner_args, **inner_kwargs)\u001b[0m\n\u001b[0;32m    409\u001b[0m                          \u001b[1;32melse\u001b[0m \u001b[0mdeprecation_addendum\u001b[0m\u001b[1;33m,\u001b[0m\u001b[1;33m\u001b[0m\u001b[1;33m\u001b[0m\u001b[0m\n\u001b[0;32m    410\u001b[0m                 **kwargs)\n\u001b[1;32m--> 411\u001b[1;33m         \u001b[1;32mreturn\u001b[0m \u001b[0mfunc\u001b[0m\u001b[1;33m(\u001b[0m\u001b[1;33m*\u001b[0m\u001b[0minner_args\u001b[0m\u001b[1;33m,\u001b[0m \u001b[1;33m**\u001b[0m\u001b[0minner_kwargs\u001b[0m\u001b[1;33m)\u001b[0m\u001b[1;33m\u001b[0m\u001b[1;33m\u001b[0m\u001b[0m\n\u001b[0m\u001b[0;32m    412\u001b[0m \u001b[1;33m\u001b[0m\u001b[0m\n\u001b[0;32m    413\u001b[0m     \u001b[1;32mreturn\u001b[0m \u001b[0mwrapper\u001b[0m\u001b[1;33m\u001b[0m\u001b[1;33m\u001b[0m\u001b[0m\n",
      "\u001b[1;32mC:\\ProgramData\\Anaconda3\\envs\\tensorflow\\lib\\site-packages\\matplotlib\\axes\\_axes.py\u001b[0m in \u001b[0;36mscatter\u001b[1;34m(self, x, y, s, c, marker, cmap, norm, vmin, vmax, alpha, linewidths, verts, edgecolors, plotnonfinite, **kwargs)\u001b[0m\n\u001b[0;32m   4451\u001b[0m             self._parse_scatter_color_args(\n\u001b[0;32m   4452\u001b[0m                 \u001b[0mc\u001b[0m\u001b[1;33m,\u001b[0m \u001b[0medgecolors\u001b[0m\u001b[1;33m,\u001b[0m \u001b[0mkwargs\u001b[0m\u001b[1;33m,\u001b[0m \u001b[0mx\u001b[0m\u001b[1;33m.\u001b[0m\u001b[0msize\u001b[0m\u001b[1;33m,\u001b[0m\u001b[1;33m\u001b[0m\u001b[1;33m\u001b[0m\u001b[0m\n\u001b[1;32m-> 4453\u001b[1;33m                 get_next_color_func=self._get_patches_for_fill.get_next_color)\n\u001b[0m\u001b[0;32m   4454\u001b[0m \u001b[1;33m\u001b[0m\u001b[0m\n\u001b[0;32m   4455\u001b[0m         \u001b[1;32mif\u001b[0m \u001b[0mplotnonfinite\u001b[0m \u001b[1;32mand\u001b[0m \u001b[0mcolors\u001b[0m \u001b[1;32mis\u001b[0m \u001b[1;32mNone\u001b[0m\u001b[1;33m:\u001b[0m\u001b[1;33m\u001b[0m\u001b[1;33m\u001b[0m\u001b[0m\n",
      "\u001b[1;32mC:\\ProgramData\\Anaconda3\\envs\\tensorflow\\lib\\site-packages\\matplotlib\\axes\\_axes.py\u001b[0m in \u001b[0;36m_parse_scatter_color_args\u001b[1;34m(c, edgecolors, kwargs, xsize, get_next_color_func)\u001b[0m\n\u001b[0;32m   4300\u001b[0m                     raise ValueError(\n\u001b[0;32m   4301\u001b[0m                         \u001b[1;34mf\"'c' argument must be a color, a sequence of colors, \"\u001b[0m\u001b[1;33m\u001b[0m\u001b[1;33m\u001b[0m\u001b[0m\n\u001b[1;32m-> 4302\u001b[1;33m                         f\"or a sequence of numbers, not {c}\") from err\n\u001b[0m\u001b[0;32m   4303\u001b[0m             \u001b[1;32melse\u001b[0m\u001b[1;33m:\u001b[0m\u001b[1;33m\u001b[0m\u001b[1;33m\u001b[0m\u001b[0m\n\u001b[0;32m   4304\u001b[0m                 \u001b[1;32mif\u001b[0m \u001b[0mlen\u001b[0m\u001b[1;33m(\u001b[0m\u001b[0mcolors\u001b[0m\u001b[1;33m)\u001b[0m \u001b[1;32mnot\u001b[0m \u001b[1;32min\u001b[0m \u001b[1;33m(\u001b[0m\u001b[1;36m0\u001b[0m\u001b[1;33m,\u001b[0m \u001b[1;36m1\u001b[0m\u001b[1;33m,\u001b[0m \u001b[0mxsize\u001b[0m\u001b[1;33m)\u001b[0m\u001b[1;33m:\u001b[0m\u001b[1;33m\u001b[0m\u001b[1;33m\u001b[0m\u001b[0m\n",
      "\u001b[1;31mValueError\u001b[0m: 'c' argument must be a color, a sequence of colors, or a sequence of numbers, not       Class\n0         0\n1         0\n2         0\n3         0\n4         0\n...     ...\n7115      0\n7116      0\n7117      0\n7118      0\n7119      0\n\n[7120 rows x 1 columns]"
     ]
    },
    {
     "data": {
      "image/png": "[encoded data removed]",
      "text/plain": [
       "<Figure size 432x288 with 1 Axes>"
      ]
     },
     "metadata": {
      "needs_background": "light"
     },
     "output_type": "display_data"
    }
   ],
   "source": [
    "plt.scatter(\n",
    "    code_train[:,0], code_train[:,1], c = S[1][:], cmap='viridis'\n",
    "    )\n",
    "plt.colorbar()"
   ]
  },
  {
   "cell_type": "markdown",
   "metadata": {
    "id": "RquRG_mD8CZ3"
   },
   "source": [
    "### Bônus: Tentando outros métodos para treinar com os poucos dados rotulados\n",
    "\n",
    "#### Tentativa 1: DNN com a mesma arquitetura usada, mas sem pré-treinamento"
   ]
  },
  {
   "cell_type": "code",
   "execution_count": 54,
   "metadata": {
    "ExecuteTime": {
     "end_time": "2020-11-17T00:31:53.140055Z",
     "start_time": "2020-11-17T00:31:53.124430Z"
    },
    "id": "LUcB6X8z8CZa"
   },
   "outputs": [],
   "source": [
    "#Inicializando as sementes\n",
    "seed(1)\n",
    "set_seed(2)"
   ]
  },
  {
   "cell_type": "code",
   "execution_count": 55,
   "metadata": {
    "ExecuteTime": {
     "end_time": "2020-11-17T00:31:53.688268Z",
     "start_time": "2020-11-17T00:31:53.641471Z"
    }
   },
   "outputs": [],
   "source": [
    "encoder_2 = keras.models.Model(\n",
    "    inputs = model_a.input,\n",
    "    outputs = model_a.get_layer(name = 'code').output\n",
    "    )"
   ]
  },
  {
   "cell_type": "code",
   "execution_count": 56,
   "metadata": {
    "ExecuteTime": {
     "end_time": "2020-11-17T00:31:54.320703Z",
     "start_time": "2020-11-17T00:31:54.289430Z"
    },
    "id": "EvyE5A2LPgdA"
   },
   "outputs": [],
   "source": [
    "new_2 = keras.models.Sequential()\n",
    "new_2.add(\n",
    "    keras.layers.Dense(\n",
    "        1,\n",
    "        activation = 'sigmoid',\n",
    "        name = 'pred',\n",
    "        input_shape = encoder_2.output_shape[1:]\n",
    "        )\n",
    "    )\n",
    "\n",
    "model_c = keras.models.Model(\n",
    "    inputs = encoder_2.input,\n",
    "    outputs = new_2(encoder_2.output)\n",
    "    )"
   ]
  },
  {
   "cell_type": "code",
   "execution_count": 57,
   "metadata": {
    "ExecuteTime": {
     "end_time": "2020-11-17T00:31:55.061360Z",
     "start_time": "2020-11-17T00:31:55.045831Z"
    },
    "colab": {
     "base_uri": "https://localhost:8080/"
    },
    "id": "pEFee2Ih8CZl",
    "outputId": "6c19a9f0-cef4-4814-ba4a-e441d4eae3df"
   },
   "outputs": [
    {
     "name": "stdout",
     "output_type": "stream",
     "text": [
      "Model: \"functional_13\"\n",
      "_________________________________________________________________\n",
      "Layer (type)                 Output Shape              Param #   \n",
      "=================================================================\n",
      "input_1 (InputLayer)         [(None, 28)]              0         \n",
      "_________________________________________________________________\n",
      "batch_normalization (BatchNo (None, 28)                112       \n",
      "_________________________________________________________________\n",
      "dense (Dense)                (None, 32)                928       \n",
      "_________________________________________________________________\n",
      "dense_1 (Dense)              (None, 32)                1056      \n",
      "_________________________________________________________________\n",
      "dropout (Dropout)            (None, 32)                0         \n",
      "_________________________________________________________________\n",
      "batch_normalization_1 (Batch (None, 32)                128       \n",
      "_________________________________________________________________\n",
      "code (Dense)                 (None, 28)                924       \n",
      "_________________________________________________________________\n",
      "sequential_1 (Sequential)    (None, 1)                 29        \n",
      "=================================================================\n",
      "Total params: 3,177\n",
      "Trainable params: 3,057\n",
      "Non-trainable params: 120\n",
      "_________________________________________________________________\n"
     ]
    }
   ],
   "source": [
    "model_c.summary()"
   ]
  },
  {
   "cell_type": "code",
   "execution_count": 58,
   "metadata": {
    "ExecuteTime": {
     "end_time": "2020-11-17T00:31:57.554975Z",
     "start_time": "2020-11-17T00:31:57.532785Z"
    },
    "id": "ISc9G6Wf8CZc"
   },
   "outputs": [],
   "source": [
    "batch_size = 16\n",
    "epochs = 15\n",
    "\n",
    "# class_weight = {\n",
    "#     0: 0.1,\n",
    "#     1: 0.9\n",
    "#     }"
   ]
  },
  {
   "cell_type": "code",
   "execution_count": 59,
   "metadata": {
    "ExecuteTime": {
     "end_time": "2020-11-17T00:31:59.276716Z",
     "start_time": "2020-11-17T00:31:59.245443Z"
    },
    "id": "g9i-syBu8CZg"
   },
   "outputs": [],
   "source": [
    "x_train = S[0].astype('float32').values\n",
    "y_train = S[1].astype('float32').values"
   ]
  },
  {
   "cell_type": "code",
   "execution_count": 60,
   "metadata": {
    "ExecuteTime": {
     "end_time": "2020-11-17T00:31:59.941343Z",
     "start_time": "2020-11-17T00:31:59.925821Z"
    },
    "id": "ku8r23tb8CZW"
   },
   "outputs": [],
   "source": [
    "# Taxa de aprendizado inicial de 0.001\n",
    "# e com decaimento em todas as épocas exponencial a -0.3\n",
    "def scheduler_c(epoch, lr):\n",
    "    return np.round(lr * tf.math.exp(-0.3),4)    "
   ]
  },
  {
   "cell_type": "code",
   "execution_count": 61,
   "metadata": {
    "ExecuteTime": {
     "end_time": "2020-11-17T00:32:01.368591Z",
     "start_time": "2020-11-17T00:32:01.352939Z"
    },
    "id": "7zaU7aa68CZj"
   },
   "outputs": [],
   "source": [
    "callbacklr_c = keras.callbacks.LearningRateScheduler(\n",
    "    scheduler_c\n",
    "    )"
   ]
  },
  {
   "cell_type": "code",
   "execution_count": 62,
   "metadata": {
    "ExecuteTime": {
     "end_time": "2020-11-17T00:32:01.832344Z",
     "start_time": "2020-11-17T00:32:01.801169Z"
    },
    "id": "Rnw5XSmG8CZp"
   },
   "outputs": [],
   "source": [
    "model_c.compile(\n",
    "    loss = 'mse',\n",
    "    optimizer = keras.optimizers.Adam(\n",
    "        lr = 0.001\n",
    "        ),\n",
    "    metrics = [\n",
    "        tf.keras.metrics.Precision(),\n",
    "        tf.keras.metrics.Recall()\n",
    "        ]\n",
    "    )"
   ]
  },
  {
   "cell_type": "code",
   "execution_count": 63,
   "metadata": {
    "ExecuteTime": {
     "end_time": "2020-11-17T00:32:23.036911Z",
     "start_time": "2020-11-17T00:32:02.318355Z"
    },
    "colab": {
     "base_uri": "https://localhost:8080/"
    },
    "id": "g2HXc0pS8CZs",
    "outputId": "7bd39ef7-5ba2-4839-f606-528afc3bb88f",
    "scrolled": true
   },
   "outputs": [
    {
     "name": "stdout",
     "output_type": "stream",
     "text": [
      "Epoch 1/15\n",
      "445/445 [==============================] - 1s 3ms/step - loss: 2.5757e-04 - precision_2: 0.9200 - recall_2: 0.9200\n",
      "Epoch 2/15\n",
      "445/445 [==============================] - 1s 3ms/step - loss: 2.2239e-04 - precision_2: 0.9200 - recall_2: 0.9200\n",
      "Epoch 3/15\n",
      "445/445 [==============================] - 1s 3ms/step - loss: 2.4925e-04 - precision_2: 0.9200 - recall_2: 0.9200\n",
      "Epoch 4/15\n",
      "445/445 [==============================] - 1s 3ms/step - loss: 2.0718e-04 - precision_2: 0.9231 - recall_2: 0.9600\n",
      "Epoch 5/15\n",
      "445/445 [==============================] - 1s 3ms/step - loss: 2.1513e-04 - precision_2: 0.9200 - recall_2: 0.9200\n",
      "Epoch 6/15\n",
      "445/445 [==============================] - 1s 3ms/step - loss: 1.9851e-04 - precision_2: 0.9231 - recall_2: 0.9600\n",
      "Epoch 7/15\n",
      "445/445 [==============================] - 1s 3ms/step - loss: 1.7229e-04 - precision_2: 0.9231 - recall_2: 0.9600\n",
      "Epoch 8/15\n",
      "445/445 [==============================] - 1s 3ms/step - loss: 1.8915e-04 - precision_2: 0.9231 - recall_2: 0.9600\n",
      "Epoch 9/15\n",
      "445/445 [==============================] - 1s 3ms/step - loss: 2.2122e-04 - precision_2: 0.9200 - recall_2: 0.9200\n",
      "Epoch 10/15\n",
      "445/445 [==============================] - 1s 3ms/step - loss: 1.9096e-04 - precision_2: 0.9231 - recall_2: 0.9600\n",
      "Epoch 11/15\n",
      "445/445 [==============================] - 1s 3ms/step - loss: 1.8197e-04 - precision_2: 0.8889 - recall_2: 0.9600\n",
      "Epoch 12/15\n",
      "445/445 [==============================] - 1s 3ms/step - loss: 2.1422e-04 - precision_2: 0.8571 - recall_2: 0.9600\n",
      "Epoch 13/15\n",
      "445/445 [==============================] - 1s 3ms/step - loss: 1.8298e-04 - precision_2: 0.9231 - recall_2: 0.9600\n",
      "Epoch 14/15\n",
      "445/445 [==============================] - 1s 3ms/step - loss: 1.8753e-04 - precision_2: 0.9231 - recall_2: 0.9600\n",
      "Epoch 15/15\n",
      "445/445 [==============================] - 1s 3ms/step - loss: 1.7593e-04 - precision_2: 0.9231 - recall_2: 0.9600\n"
     ]
    }
   ],
   "source": [
    "hist_c = model_c.fit(\n",
    "    x = x_train,\n",
    "    y = y_train,\n",
    "    batch_size = batch_size,\n",
    "    epochs = epochs,\n",
    "    callbacks = [ callbacklr_c ],\n",
    "#     class_weight = class_weight,\n",
    "    verbose = 1\n",
    "    )"
   ]
  },
  {
   "cell_type": "code",
   "execution_count": 64,
   "metadata": {
    "ExecuteTime": {
     "end_time": "2020-11-17T00:33:05.549080Z",
     "start_time": "2020-11-17T00:33:04.916247Z"
    },
    "colab": {
     "base_uri": "https://localhost:8080/"
    },
    "id": "uChBpf1UXom-",
    "outputId": "3ff9a1b7-0e4b-4904-84ac-d46216480b57"
   },
   "outputs": [
    {
     "name": "stdout",
     "output_type": "stream",
     "text": [
      "S - PRECISION: 0.64865\n",
      "S - RECALL: 0.96000\n"
     ]
    }
   ],
   "source": [
    "# S\n",
    "score = model_c.evaluate(\n",
    "    S[0],\n",
    "    S[1],\n",
    "    verbose=0\n",
    "    )\n",
    "print(\"S - PRECISION: %.5f\" % (score[1]))\n",
    "print(\"S - RECALL: %.5f\" % (score[2]))"
   ]
  },
  {
   "cell_type": "code",
   "execution_count": 65,
   "metadata": {
    "ExecuteTime": {
     "end_time": "2020-11-17T00:33:14.809774Z",
     "start_time": "2020-11-17T00:33:07.106965Z"
    },
    "colab": {
     "base_uri": "https://localhost:8080/"
    },
    "id": "MeUeQ59XdmGp",
    "outputId": "543ae8dd-6010-4b7e-c90d-e09b809e1304"
   },
   "outputs": [
    {
     "name": "stdout",
     "output_type": "stream",
     "text": [
      "T - PRECISION: 0.24656\n",
      "T - RECALL: 0.80269\n"
     ]
    }
   ],
   "source": [
    "# T\n",
    "score = model_c.evaluate(\n",
    "    T[0],\n",
    "    T[1],\n",
    "    verbose=0\n",
    "    )\n",
    "print(\"T - PRECISION: %.5f\" % (score[1]))\n",
    "print(\"T - RECALL: %.5f\" % (score[2]))"
   ]
  },
  {
   "cell_type": "markdown",
   "metadata": {
    "id": "CZ-V4h9i8CZ7"
   },
   "source": [
    "#### Tentativa 2: SVM nos dados originais"
   ]
  },
  {
   "cell_type": "code",
   "execution_count": 94,
   "metadata": {
    "ExecuteTime": {
     "end_time": "2020-11-17T00:42:11.885675Z",
     "start_time": "2020-11-17T00:42:11.870148Z"
    }
   },
   "outputs": [],
   "source": [
    "x_train = S[0].astype('float32').values\n",
    "y_train = S[1].astype('float32').values"
   ]
  },
  {
   "cell_type": "code",
   "execution_count": 95,
   "metadata": {
    "ExecuteTime": {
     "end_time": "2020-11-17T00:42:12.224371Z",
     "start_time": "2020-11-17T00:42:12.186679Z"
    }
   },
   "outputs": [],
   "source": [
    "x_test = T[0].astype('float32').values\n",
    "y_test = T[1].astype('float32').values"
   ]
  },
  {
   "cell_type": "code",
   "execution_count": 96,
   "metadata": {
    "ExecuteTime": {
     "end_time": "2020-11-17T00:42:12.757203Z",
     "start_time": "2020-11-17T00:42:12.672586Z"
    }
   },
   "outputs": [
    {
     "name": "stderr",
     "output_type": "stream",
     "text": [
      "C:\\ProgramData\\Anaconda3\\envs\\tensorflow\\lib\\site-packages\\sklearn\\utils\\validation.py:72: DataConversionWarning: A column-vector y was passed when a 1d array was expected. Please change the shape of y to (n_samples, ), for example using ravel().\n",
      "  return f(**kwargs)\n"
     ]
    },
    {
     "data": {
      "text/plain": [
       "SVC(C=10, random_state=1)"
      ]
     },
     "execution_count": 96,
     "metadata": {},
     "output_type": "execute_result"
    }
   ],
   "source": [
    "from sklearn import svm\n",
    "from sklearn.metrics import precision_score\n",
    "from sklearn.metrics import recall_score\n",
    "\n",
    "clf = svm.SVC(\n",
    "    C = 10, random_state = 1\n",
    "    )\n",
    "\n",
    "clf.fit(\n",
    "    x_train, y_train\n",
    "    )"
   ]
  },
  {
   "cell_type": "code",
   "execution_count": 97,
   "metadata": {
    "ExecuteTime": {
     "end_time": "2020-11-17T00:42:13.327564Z",
     "start_time": "2020-11-17T00:42:13.242949Z"
    }
   },
   "outputs": [
    {
     "name": "stdout",
     "output_type": "stream",
     "text": [
      "S - PRECISION: 1.00000\n",
      "S - RECALL: 1.00000\n"
     ]
    }
   ],
   "source": [
    "# TRAINMENTO S\n",
    "y_pred = clf.predict(\n",
    "    x_train\n",
    "    )\n",
    "\n",
    "print(\"S - PRECISION: %.5f\" % precision_score(y_train, y_pred))\n",
    "print(\"S - RECALL: %.5f\" % recall_score(y_train, y_pred))"
   ]
  },
  {
   "cell_type": "code",
   "execution_count": 98,
   "metadata": {
    "ExecuteTime": {
     "end_time": "2020-11-17T00:42:15.279839Z",
     "start_time": "2020-11-17T00:42:14.007558Z"
    }
   },
   "outputs": [
    {
     "name": "stdout",
     "output_type": "stream",
     "text": [
      "T - PRECISION: 0.65385\n",
      "T - RECALL: 0.15247\n"
     ]
    }
   ],
   "source": [
    "# TRAINMENTO T\n",
    "y_pred = clf.predict(\n",
    "    x_test\n",
    "    )\n",
    "\n",
    "print(\"T - PRECISION: %.5f\" % precision_score(y_test, y_pred))\n",
    "print(\"T - RECALL: %.5f\" % recall_score(y_test, y_pred))"
   ]
  },
  {
   "cell_type": "markdown",
   "metadata": {},
   "source": [
    "#### Classificador SVM treinado nos dados S obtendo sua representação do código da rede de classificação (modelo B). Avalie precisão e revocação no treinamento S e teste T."
   ]
  },
  {
   "cell_type": "code",
   "execution_count": 99,
   "metadata": {
    "ExecuteTime": {
     "end_time": "2020-11-17T00:42:17.988865Z",
     "start_time": "2020-11-17T00:42:17.957632Z"
    }
   },
   "outputs": [],
   "source": [
    "code_model = keras.models.Model(\n",
    "    inputs = model_b.input,\n",
    "    outputs = model_b.get_layer('code').output\n",
    "    )"
   ]
  },
  {
   "cell_type": "code",
   "execution_count": 100,
   "metadata": {
    "ExecuteTime": {
     "end_time": "2020-11-17T00:42:18.861062Z",
     "start_time": "2020-11-17T00:42:18.644959Z"
    }
   },
   "outputs": [],
   "source": [
    "code_train = np.asarray(code_model.predict(S[0].astype('float32').values))\n",
    "y_train = S[1].astype('float32').values"
   ]
  },
  {
   "cell_type": "code",
   "execution_count": 101,
   "metadata": {
    "ExecuteTime": {
     "end_time": "2020-11-17T00:42:21.830708Z",
     "start_time": "2020-11-17T00:42:19.431465Z"
    }
   },
   "outputs": [],
   "source": [
    "code_test = np.asarray(code_model.predict(T[0].astype('float32').values))\n",
    "y_test = T[1].astype('float32').values"
   ]
  },
  {
   "cell_type": "code",
   "execution_count": 102,
   "metadata": {
    "ExecuteTime": {
     "end_time": "2020-11-17T00:42:21.868477Z",
     "start_time": "2020-11-17T00:42:21.830708Z"
    }
   },
   "outputs": [
    {
     "name": "stderr",
     "output_type": "stream",
     "text": [
      "C:\\ProgramData\\Anaconda3\\envs\\tensorflow\\lib\\site-packages\\sklearn\\utils\\validation.py:72: DataConversionWarning: A column-vector y was passed when a 1d array was expected. Please change the shape of y to (n_samples, ), for example using ravel().\n",
      "  return f(**kwargs)\n"
     ]
    },
    {
     "data": {
      "text/plain": [
       "SVC(C=10, random_state=1)"
      ]
     },
     "execution_count": 102,
     "metadata": {},
     "output_type": "execute_result"
    }
   ],
   "source": [
    "from sklearn import svm\n",
    "from sklearn.metrics import precision_score\n",
    "from sklearn.metrics import recall_score\n",
    "\n",
    "clf = svm.SVC(\n",
    "    C = 10, random_state = 1\n",
    "    )\n",
    "\n",
    "clf.fit(\n",
    "    code_train, y_train\n",
    "    )"
   ]
  },
  {
   "cell_type": "code",
   "execution_count": 103,
   "metadata": {
    "ExecuteTime": {
     "end_time": "2020-11-17T00:42:24.524613Z",
     "start_time": "2020-11-17T00:42:24.493369Z"
    }
   },
   "outputs": [
    {
     "name": "stdout",
     "output_type": "stream",
     "text": [
      "S - PRECISION: 1.00000\n",
      "S - RECALL: 0.96000\n"
     ]
    }
   ],
   "source": [
    "# TRAINMENTO S\n",
    "y_pred = clf.predict(\n",
    "    code_train\n",
    "    )\n",
    "\n",
    "print(\"S - PRECISION: %.5f\" % precision_score(y_train, y_pred))\n",
    "print(\"S - RECALL: %.5f\" % recall_score(y_train, y_pred))"
   ]
  },
  {
   "cell_type": "code",
   "execution_count": 104,
   "metadata": {
    "ExecuteTime": {
     "end_time": "2020-11-17T00:42:25.945092Z",
     "start_time": "2020-11-17T00:42:25.543978Z"
    }
   },
   "outputs": [
    {
     "name": "stdout",
     "output_type": "stream",
     "text": [
      "T - PRECISION: 0.81250\n",
      "T - RECALL: 0.52466\n"
     ]
    }
   ],
   "source": [
    "# TRAINMENTO T\n",
    "y_pred = clf.predict(\n",
    "    code_test\n",
    "    )\n",
    "\n",
    "print(\"T - PRECISION: %.5f\" % precision_score(y_test, y_pred))\n",
    "print(\"T - RECALL: %.5f\" % recall_score(y_test, y_pred))"
   ]
  }
 ],
 "metadata": {
  "accelerator": "GPU",
  "colab": {
   "collapsed_sections": [],
   "name": "RNAP-Avaliacao_Final.ipynb",
   "provenance": []
  },
  "kernelspec": {
   "display_name": "Python 3",
   "language": "python",
   "name": "python3"
  },
  "language_info": {
   "codemirror_mode": {
    "name": "ipython",
    "version": 3
   },
   "file_extension": ".py",
   "mimetype": "text/x-python",
   "name": "python",
   "nbconvert_exporter": "python",
   "pygments_lexer": "ipython3",
   "version": "3.7.9"
  },
  "toc": {
   "base_numbering": 1,
   "nav_menu": {},
   "number_sections": true,
   "sideBar": true,
   "skip_h1_title": false,
   "title_cell": "Table of Contents",
   "title_sidebar": "Contents",
   "toc_cell": false,
   "toc_position": {
    "height": "calc(100% - 180px)",
    "left": "10px",
    "top": "150px",
    "width": "352px"
   },
   "toc_section_display": true,
   "toc_window_display": true
  }
 },
 "nbformat": 4,
 "nbformat_minor": 1
}
