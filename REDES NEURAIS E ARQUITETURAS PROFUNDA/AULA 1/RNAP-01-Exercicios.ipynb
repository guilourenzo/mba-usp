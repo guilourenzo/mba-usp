{
 "cells": [
  {
   "cell_type": "markdown",
   "metadata": {},
   "source": [
    "## MBA em Ciência de Dados\n",
    "# Redes Neurais e Arquiteturas Profundas\n",
    "\n",
    "### <span style=\"color:darkred\">Módulo I - Deep Learning e redes do tipo Perceptron</span>\n",
    "\n",
    "\n",
    "### <span style=\"color:darkred\">Exercícios</span>\n",
    "\n",
    "Moacir Antonelli Ponti\n",
    "\n",
    "CeMEAI - ICMC/USP São Carlos\n",
    "\n",
    "---\n",
    "\n",
    "#### <span style=\"color:red\">Recomenda-se fortemente que os exercícios sejam feitos sem consultar as respostas antecipadamente.</span>\n",
    "\n",
    "---"
   ]
  },
  {
   "cell_type": "markdown",
   "metadata": {},
   "source": [
    "### Exercício 1)\n",
    "\n",
    "As redes neurais artificiais são uma família de métodos conhecidos por conexionistas. Assinale a alternativa mais completa que explica o porquê.\n",
    " \n",
    "(a) Porque são inspirados por neurônios biológicos, que representam a informação por uma rede de unidades de processamento e o aprendizado pela força de suas conexões<br>\n",
    "(b) Porque apenas as redes neurais possuem uma estrutura em que há nós conectados pelos quais passam as informações<br>\n",
    "(c) Porque é possível conectar os neurônios artificiais de qualquer maneira, simulando um cérebro humano<br>\n",
    "(d) Porque são métodos de aprendizado de máquina supervisionados não-paramétricos, muito utilizados em tarefas de classificação e regressão, e que armazenam informações em nós organizados de forma hierárquica, desde sua entrada, conhecida por raiz, até a saída, chamada de folha.<br>"
   ]
  },
  {
   "cell_type": "markdown",
   "metadata": {},
   "source": [
    "---\n",
    "\n",
    "### Exercício 2)\n",
    "\n",
    "As redes neurais artificial passaram por um chamado \"inverno\" em que recebiam pouca atenção da academia e do mercado quando comparado aos sistemas especialistas. Porque isso mudou em meados de 2010?\n",
    "\n",
    "(a) Devido a descobertas da inteligência artificial em 2012 que revolucionou a área<br>\n",
    "(b) Trabalhos científicos mostraram que a utilização de grandes bases de dados anotadas e o uso de placas gráficas permitiam treinar modelos com baixo erro de classificação<br>\n",
    "(c) Devido a melhoria dos sistemas computacionais, incluindo melhores processadores (CPUs), maior memória principal disponível (RAM) e placas gráficas (GPUs)<br>\n",
    "(d) Pois foi nessa época em que a área de ciência de dados tomou destaque, devido a grande quantidade de dados disponível (big data)<br>\n",
    "\n"
   ]
  },
  {
   "cell_type": "markdown",
   "metadata": {},
   "source": [
    "---\n",
    "### Exercício 3)\n",
    "\n",
    "Seja $\\mathbf{x} \\in X$ um vetor com informações sobre perfis de clientes de um e-commerce, incluindo: data de nascimento, cidade, quantidade de pedidos realizados nos últimos 12 meses, total em reais das compras, entre outros. Desejamos obter um modelo que seja capaz de receber por entrada uma instância de $X$ e inferir a probabilidade $y$ de um cliente realizar uma compra no próximo mês. Considere duas formulações conforme abaixo:\n",
    "\n",
    "1. Modelo A: $f(\\mathbf{x}) = \\hat{y}$\n",
    "2. Modelo B: $$\\begin{align}\n",
    "g(\\mathbf{x}) &= \\mathbf{r},\\\\\n",
    "h(\\mathbf{r}) &= \\mathbf{s},\\\\\n",
    "i(\\mathbf{s}) &= \\mathbf{w},\\\\\n",
    "f(\\mathbf{w}) &= \\hat{y}\n",
    "\\end{align}\n",
    "$$\n",
    "\n",
    "O que podemos dizer sobre A e B?\n",
    "\n",
    "(a) A é um classificador linear e B é um regressor multi-estágio<br>\n",
    "(b) apenas B é uma formulação de aprendizado de máquina, enquanto A não pode ser considerado aprendizado de máquina<br>\n",
    "(c) A é um classificador linear como o Perceptron, enquanto B é uma rede neural profunda<br>\n",
    "(d) A é uma formulação rasa, enquanto que B é uma formulação profunda para aprendizado de máquina<br>"
   ]
  },
  {
   "cell_type": "markdown",
   "metadata": {},
   "source": [
    "---\n",
    "\n",
    "### Exercício 4)\n",
    "\n",
    "Seja $\\mathbf{x}$ um vetor de entrada e $s$ um valor de saída de um neurônio de uma rede neural baseada em Perceptron. O processamento pode ser escrito na forma:\n",
    "\n",
    "$f(\\mathbf{x}) = a(\\mathbf{w}^t\\mathbf{x}+b) = s$,\n",
    "\n",
    "sendo que $a()$ é a função de ativação. Sabendo que a entrada tem $d$ dimensões, quais são as dimensões das variáveis $w$ e $b$?\n",
    "\n",
    "(a) $w$ é um vetor com $d$ dimensões, enquanto $b$ é escalar possuindo uma dimensão<br>\n",
    "(b) $w$ é um vetor com 2 dimensões, enquanto $b$ é escalar possuindo uma dimensão<br>\n",
    "(c) $w$ é escalar com 1 dimensão, enquanto $b$ é o vetor bias cujo número de dimensões é igual ao número de classes do problema<br>\n",
    "(d) $w$ é um vetor com $d-1$ dimensões, enquanto $b$ é bias e portanto possui apenas 1 dimensão\n"
   ]
  },
  {
   "cell_type": "markdown",
   "metadata": {},
   "source": [
    "---\n",
    "\n",
    "### Exercício 5)\n",
    "\n",
    "Seja $\\mathbf{x}$ um vetor de entrada e $\\mathbf{s}$ um vetor de saída de uma camada de rede neural baseada em Perceptron. O processamento pode ser escrito na forma:\n",
    "\n",
    "$f(\\mathbf{x}) = a(W\\mathbf{x}+\\mathbf{b}) = \\mathbf{s}$,\n",
    "\n",
    "sendo que $a()$ é a função de ativação. Sabendo que a entrada tem $d$ dimensões e a saída tem $z$ dimensões, quais são as dimensões das variáveis $W$ e $b$ e quantos neurônios possui essa camada?\n",
    "\n",
    "(a) são $d$ neurônios, sendo que $W$ possui $z \\times d$, e $b$ possui $d$ dimensões<br>\n",
    "(b) são $d \\times z$ neurônios, sendo que $W$ possui $z \\times d$, e $b$ possui $d$ dimensões<br>\n",
    "(c) são $z$ neurônios, sendo que $W$ possui $z \\times d$, e $b$ possui $z$ dimensões<br>\n",
    "(d) são $z$ neurônios, sendo que $W$ possui $d$, e $b$ possui $z$ dimensões\n"
   ]
  },
  {
   "cell_type": "markdown",
   "metadata": {},
   "source": [
    "---\n",
    "\n",
    "### Exercício 6)\n",
    "\n",
    "Qual a diferença entre as funções de ativação *sigmoide* e *softmax* aplicadas a uma camada de uma rede neural?\n",
    "\n",
    "(a) a sigmóide produz como saída vetores cuja somatória é 1 e que podem ser interpretados como uma distribuição de probabilidade, enquanto a softmax comprime os valores da saída entre 0 e 1 <br>\n",
    "(b) a sigmóide produz como saída vetores cujos valores estão entre -1 e 1, enquanto a softmax comprime os valores da saída entre 0 e 1<br>\n",
    "(c) a sigmóide comprime os valores da saída entre 0 e 1, enquanto a softmax produz como saída vetores cuja somatória é 1 e que podem ser interpretados como uma distribuição de probabilidade<br>\n",
    "(d) a sigmóide produz como saída vetores cujos valores individuais estão entre 0 e 1 utilizando uma função suave, enquanto a softmax produz vetores no formato one-hot-encoding compatíveis\n"
   ]
  },
  {
   "cell_type": "markdown",
   "metadata": {},
   "source": [
    "---\n",
    "\n",
    "### Exercício 7)\n",
    "\n",
    "Utilizando a biblioteca Keras, formule um modelo de rede neural sequencial, do tipo MLP, cuja entrada seja preparada para receber um vetor de 100 dimensões e que possua 2 camadas ocultas, cada uma com 50 neurônios, e 1 camada de saída, com 3 neurônios e função de ativação softmax.\n",
    "\n",
    "Quantos parâmetros, no total, essa rede possui?\n",
    "\n",
    "(a) 203<br>\n",
    "(b) 10303<br>\n",
    "(c) 7651<br>\n",
    "(d) 7753<br>"
   ]
  },
  {
   "cell_type": "code",
   "execution_count": 1,
   "metadata": {},
   "outputs": [],
   "source": [
    "from tensorflow import keras"
   ]
  },
  {
   "cell_type": "markdown",
   "metadata": {},
   "source": [
    "---\n",
    "\n",
    "### Exercício 8)\n",
    "\n",
    "Considerando que temos uma base de dados de treinamento com 8000 exemplos. Definindo o tamanho do lote (minibatch size) como sendo 50, quantas iterações o algoritmo backpropagation deverá executar, adaptando os parâmetros da rede, para completar 5 épocas?\n",
    "\n",
    "(a) 800<br>\n",
    "(a) 160<br>\n",
    "(b) 801<br>\n",
    "(c) 250<br>"
   ]
  },
  {
   "cell_type": "code",
   "execution_count": null,
   "metadata": {},
   "outputs": [],
   "source": []
  },
  {
   "cell_type": "markdown",
   "metadata": {},
   "source": [
    "---\n",
    "\n",
    "### Exercício 9)\n",
    "\n",
    "Defina as sementes aleatórias do numpy para 1 e do tensorflow para 2, depois carregue a base de dados boston housing da biblioteca Keras, conforme código abaixo. \n",
    "\n",
    "O objetivo dessa base de dados é obter a regressão do preço das casas com base em 13 características de entrada. Assim, os valores alvo (target) são escalares, tipicamente entre 10 e 50 (representando os preços em milhares de dólares).\n",
    "\n",
    "Considerando o valor alvo descrito, e que você tem disponíveis as funções de ativação: sigmóide, relu, tangente hiperbólica e softmax, escolha as funções mais adequadas e monte uma arquitetura da rede com 3 camadas ocultas, todas com 32 neurônios.\n",
    "\n",
    "Como deve ficar a arquitetura da rede neural?\n",
    "\n",
    "(a) 4 camadas com 32, 32, 32 e 50 neurônios, 4202 parâmetros e função de ativação relu na camada de saída<br>\n",
    "(b) 4 camadas com 32, 32, 32 e 1 neurônios, 2593 parâmetros e função de ativação relu na camada de saída<br>\n",
    "(b) 5 camadas com 13, 32, 32, 32 e 1 neurônios, 2414 parâmetros e função de ativação sigmóide na camada de saída<br>\n",
    "(c) 4 camadas com 32, 32, 32 e 1 neurônios, 2593 parâmetros e função de ativação sigmóide na camada de saída<br>"
   ]
  },
  {
   "cell_type": "code",
   "execution_count": 2,
   "metadata": {},
   "outputs": [],
   "source": [
    "from numpy.random import seed\n",
    "seed(1)\n",
    "from tensorflow.random import set_seed\n",
    "set_seed(2)\n",
    "\n",
    "from tensorflow.keras.datasets import boston_housing\n",
    "(x_train, y_train), (x_target, y_target) = boston_housing.load_data()"
   ]
  },
  {
   "cell_type": "code",
   "execution_count": null,
   "metadata": {},
   "outputs": [],
   "source": []
  },
  {
   "cell_type": "markdown",
   "metadata": {},
   "source": [
    "---\n",
    "\n",
    "### Exercício 10)\n",
    "\n",
    "Utilizando a base de dados e o modelo de rede neural criado na questão anterior, compile o modelo utilizando uma função de custo de média quadrática (mse), o otimizador SGD e a taxa de aprendizado 0.01. Adicione a métrica `mae` (mean absolute error)\n",
    "\n",
    "Depois, normalize os dados (x) por meio da normalização z-score (calcule média e desvio no conjunto de treinamento apenas).\n",
    "\n",
    "Utilize os dados normalizados para treinar a rede neural por 25 épocas, com batch-size 8. \n",
    "\n",
    "Avalie o modelo treinado nos dados de teste, e reporte as posições 0 e 1 do score resultante, respectivamente relativas ao MSE e MAE calculados. Escolha a opção para a qual o intervalo se enquadre nos valores computados.\n",
    "\n",
    "(a) MSE = (600,630), MAE = (20,25)<br>\n",
    "(b) MSE = (90,110), MAE = (1,8) <br>\n",
    "(c) MSE = (3,9), MAE = (50,100) <br>\n",
    "(d) MSE = (550,570), MAE = (22,24) <br>"
   ]
  },
  {
   "cell_type": "code",
   "execution_count": null,
   "metadata": {
    "scrolled": true
   },
   "outputs": [],
   "source": []
  }
 ],
 "metadata": {
  "kernelspec": {
   "display_name": "Python 3",
   "language": "python",
   "name": "python3"
  },
  "language_info": {
   "codemirror_mode": {
    "name": "ipython",
    "version": 3
   },
   "file_extension": ".py",
   "mimetype": "text/x-python",
   "name": "python",
   "nbconvert_exporter": "python",
   "pygments_lexer": "ipython3",
   "version": "3.8.5"
  }
 },
 "nbformat": 4,
 "nbformat_minor": 4
}
