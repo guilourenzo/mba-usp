{
  "nbformat": 4,
  "nbformat_minor": 0,
  "metadata": {
    "colab": {
      "name": "01_neuralnet_dadosestruturados.ipynb",
      "provenance": [],
      "collapsed_sections": [],
      "toc_visible": true
    },
    "kernelspec": {
      "name": "python3",
      "display_name": "Python 3"
    }
  },
  "cells": [
    {
      "cell_type": "markdown",
      "metadata": {
        "id": "zI6LDVYrkk3t",
        "colab_type": "text"
      },
      "source": [
        "### Redes Neurais e Arquiteturas Profundas\n",
        "#### **MBA em Ciências de Dados**\n",
        "\n",
        "### *Módulo 1 - Introdução ao Aprendizado Profundo*\n",
        "\n",
        "Moacir A. Ponti - ICMC/USP\n",
        "\n",
        "-"
      ]
    },
    {
      "cell_type": "markdown",
      "metadata": {
        "id": "uO3aJvGdlKcR",
        "colab_type": "text"
      },
      "source": [
        "## Exemplo de uso de redes neurais profundas com dados estruturados\n",
        "\n",
        "### Problema: Classificação de cidades segundo sua população, UF e PIB\n",
        "\n"
      ]
    },
    {
      "cell_type": "code",
      "metadata": {
        "id": "55mHEidxkOa8",
        "colab_type": "code",
        "colab": {}
      },
      "source": [
        "import numpy as np\n",
        "import pandas as pd\n",
        "import matplotlib.pyplot as plt\n",
        "from tensorflow import keras\n",
        "\n",
        "df = pd.read_csv(\"vw_pib_percapita_clean.csv\")\n",
        "df = df.dropna()"
      ],
      "execution_count": null,
      "outputs": []
    },
    {
      "cell_type": "code",
      "metadata": {
        "id": "TeP-d0A3lyBt",
        "colab_type": "code",
        "colab": {
          "base_uri": "https://localhost:8080/",
          "height": 424
        },
        "outputId": "50a3aa1e-30c2-4eea-e25a-070cfad2eb14"
      },
      "source": [
        "df"
      ],
      "execution_count": null,
      "outputs": [
        {
          "output_type": "execute_result",
          "data": {
            "text/html": [
              "<div>\n",
              "<style scoped>\n",
              "    .dataframe tbody tr th:only-of-type {\n",
              "        vertical-align: middle;\n",
              "    }\n",
              "\n",
              "    .dataframe tbody tr th {\n",
              "        vertical-align: top;\n",
              "    }\n",
              "\n",
              "    .dataframe thead th {\n",
              "        text-align: right;\n",
              "    }\n",
              "</style>\n",
              "<table border=\"1\" class=\"dataframe\">\n",
              "  <thead>\n",
              "    <tr style=\"text-align: right;\">\n",
              "      <th></th>\n",
              "      <th>UF</th>\n",
              "      <th>PIB</th>\n",
              "      <th>Pop_est_2009</th>\n",
              "      <th>classe</th>\n",
              "    </tr>\n",
              "  </thead>\n",
              "  <tbody>\n",
              "    <tr>\n",
              "      <th>0</th>\n",
              "      <td>BAHIA</td>\n",
              "      <td>5.788399e+04</td>\n",
              "      <td>18433</td>\n",
              "      <td>1</td>\n",
              "    </tr>\n",
              "    <tr>\n",
              "      <th>1</th>\n",
              "      <td>RIO GRANDE DO SUL</td>\n",
              "      <td>4.572388e+04</td>\n",
              "      <td>4000</td>\n",
              "      <td>2</td>\n",
              "    </tr>\n",
              "    <tr>\n",
              "      <th>2</th>\n",
              "      <td>ESPIRITO SANTO</td>\n",
              "      <td>1.978263e+07</td>\n",
              "      <td>320156</td>\n",
              "      <td>4</td>\n",
              "    </tr>\n",
              "    <tr>\n",
              "      <th>3</th>\n",
              "      <td>MINAS GERAIS</td>\n",
              "      <td>2.478160e+05</td>\n",
              "      <td>21424</td>\n",
              "      <td>2</td>\n",
              "    </tr>\n",
              "    <tr>\n",
              "      <th>4</th>\n",
              "      <td>PIAUÍ</td>\n",
              "      <td>2.095138e+04</td>\n",
              "      <td>7895</td>\n",
              "      <td>1</td>\n",
              "    </tr>\n",
              "    <tr>\n",
              "      <th>...</th>\n",
              "      <td>...</td>\n",
              "      <td>...</td>\n",
              "      <td>...</td>\n",
              "      <td>...</td>\n",
              "    </tr>\n",
              "    <tr>\n",
              "      <th>5561</th>\n",
              "      <td>SANTA CATARINA</td>\n",
              "      <td>1.876289e+05</td>\n",
              "      <td>9737</td>\n",
              "      <td>2</td>\n",
              "    </tr>\n",
              "    <tr>\n",
              "      <th>5562</th>\n",
              "      <td>PARANÁ</td>\n",
              "      <td>1.385535e+05</td>\n",
              "      <td>13983</td>\n",
              "      <td>2</td>\n",
              "    </tr>\n",
              "    <tr>\n",
              "      <th>5563</th>\n",
              "      <td>SÃO PAULO</td>\n",
              "      <td>5.320191e+05</td>\n",
              "      <td>29639</td>\n",
              "      <td>2</td>\n",
              "    </tr>\n",
              "    <tr>\n",
              "      <th>5564</th>\n",
              "      <td>RIO GRANDE DO SUL</td>\n",
              "      <td>2.198064e+04</td>\n",
              "      <td>3067</td>\n",
              "      <td>1</td>\n",
              "    </tr>\n",
              "    <tr>\n",
              "      <th>5565</th>\n",
              "      <td>RIO GRANDE DO SUL</td>\n",
              "      <td>5.715017e+04</td>\n",
              "      <td>5623</td>\n",
              "      <td>2</td>\n",
              "    </tr>\n",
              "  </tbody>\n",
              "</table>\n",
              "<p>5566 rows × 4 columns</p>\n",
              "</div>"
            ],
            "text/plain": [
              "                     UF           PIB  Pop_est_2009  classe\n",
              "0                 BAHIA  5.788399e+04         18433       1\n",
              "1     RIO GRANDE DO SUL  4.572388e+04          4000       2\n",
              "2        ESPIRITO SANTO  1.978263e+07        320156       4\n",
              "3          MINAS GERAIS  2.478160e+05         21424       2\n",
              "4                 PIAUÍ  2.095138e+04          7895       1\n",
              "...                 ...           ...           ...     ...\n",
              "5561     SANTA CATARINA  1.876289e+05          9737       2\n",
              "5562             PARANÁ  1.385535e+05         13983       2\n",
              "5563          SÃO PAULO  5.320191e+05         29639       2\n",
              "5564  RIO GRANDE DO SUL  2.198064e+04          3067       1\n",
              "5565  RIO GRANDE DO SUL  5.715017e+04          5623       2\n",
              "\n",
              "[5566 rows x 4 columns]"
            ]
          },
          "metadata": {
            "tags": []
          },
          "execution_count": 2
        }
      ]
    },
    {
      "cell_type": "markdown",
      "metadata": {
        "id": "odVxTvCzJScK",
        "colab_type": "text"
      },
      "source": [
        "Vamos obter uma codificação numérica para o estado (UF)"
      ]
    },
    {
      "cell_type": "code",
      "metadata": {
        "id": "hBK8g6Xf29dI",
        "colab_type": "code",
        "colab": {
          "base_uri": "https://localhost:8080/",
          "height": 424
        },
        "outputId": "983cf0dd-d47a-46e9-c9cd-c5e54d2a3b78"
      },
      "source": [
        "ufcode = df['UF'].astype(\"category\").cat.codes\n",
        "df.insert(1,\"UF_code\", ufcode.astype(float))\n",
        "df"
      ],
      "execution_count": null,
      "outputs": [
        {
          "output_type": "execute_result",
          "data": {
            "text/html": [
              "<div>\n",
              "<style scoped>\n",
              "    .dataframe tbody tr th:only-of-type {\n",
              "        vertical-align: middle;\n",
              "    }\n",
              "\n",
              "    .dataframe tbody tr th {\n",
              "        vertical-align: top;\n",
              "    }\n",
              "\n",
              "    .dataframe thead th {\n",
              "        text-align: right;\n",
              "    }\n",
              "</style>\n",
              "<table border=\"1\" class=\"dataframe\">\n",
              "  <thead>\n",
              "    <tr style=\"text-align: right;\">\n",
              "      <th></th>\n",
              "      <th>UF</th>\n",
              "      <th>UF_code</th>\n",
              "      <th>PIB</th>\n",
              "      <th>Pop_est_2009</th>\n",
              "      <th>classe</th>\n",
              "    </tr>\n",
              "  </thead>\n",
              "  <tbody>\n",
              "    <tr>\n",
              "      <th>0</th>\n",
              "      <td>BAHIA</td>\n",
              "      <td>4.0</td>\n",
              "      <td>5.788399e+04</td>\n",
              "      <td>18433</td>\n",
              "      <td>1</td>\n",
              "    </tr>\n",
              "    <tr>\n",
              "      <th>1</th>\n",
              "      <td>RIO GRANDE DO SUL</td>\n",
              "      <td>20.0</td>\n",
              "      <td>4.572388e+04</td>\n",
              "      <td>4000</td>\n",
              "      <td>2</td>\n",
              "    </tr>\n",
              "    <tr>\n",
              "      <th>2</th>\n",
              "      <td>ESPIRITO SANTO</td>\n",
              "      <td>7.0</td>\n",
              "      <td>1.978263e+07</td>\n",
              "      <td>320156</td>\n",
              "      <td>4</td>\n",
              "    </tr>\n",
              "    <tr>\n",
              "      <th>3</th>\n",
              "      <td>MINAS GERAIS</td>\n",
              "      <td>12.0</td>\n",
              "      <td>2.478160e+05</td>\n",
              "      <td>21424</td>\n",
              "      <td>2</td>\n",
              "    </tr>\n",
              "    <tr>\n",
              "      <th>4</th>\n",
              "      <td>PIAUÍ</td>\n",
              "      <td>17.0</td>\n",
              "      <td>2.095138e+04</td>\n",
              "      <td>7895</td>\n",
              "      <td>1</td>\n",
              "    </tr>\n",
              "    <tr>\n",
              "      <th>...</th>\n",
              "      <td>...</td>\n",
              "      <td>...</td>\n",
              "      <td>...</td>\n",
              "      <td>...</td>\n",
              "      <td>...</td>\n",
              "    </tr>\n",
              "    <tr>\n",
              "      <th>5561</th>\n",
              "      <td>SANTA CATARINA</td>\n",
              "      <td>23.0</td>\n",
              "      <td>1.876289e+05</td>\n",
              "      <td>9737</td>\n",
              "      <td>2</td>\n",
              "    </tr>\n",
              "    <tr>\n",
              "      <th>5562</th>\n",
              "      <td>PARANÁ</td>\n",
              "      <td>13.0</td>\n",
              "      <td>1.385535e+05</td>\n",
              "      <td>13983</td>\n",
              "      <td>2</td>\n",
              "    </tr>\n",
              "    <tr>\n",
              "      <th>5563</th>\n",
              "      <td>SÃO PAULO</td>\n",
              "      <td>25.0</td>\n",
              "      <td>5.320191e+05</td>\n",
              "      <td>29639</td>\n",
              "      <td>2</td>\n",
              "    </tr>\n",
              "    <tr>\n",
              "      <th>5564</th>\n",
              "      <td>RIO GRANDE DO SUL</td>\n",
              "      <td>20.0</td>\n",
              "      <td>2.198064e+04</td>\n",
              "      <td>3067</td>\n",
              "      <td>1</td>\n",
              "    </tr>\n",
              "    <tr>\n",
              "      <th>5565</th>\n",
              "      <td>RIO GRANDE DO SUL</td>\n",
              "      <td>20.0</td>\n",
              "      <td>5.715017e+04</td>\n",
              "      <td>5623</td>\n",
              "      <td>2</td>\n",
              "    </tr>\n",
              "  </tbody>\n",
              "</table>\n",
              "<p>5566 rows × 5 columns</p>\n",
              "</div>"
            ],
            "text/plain": [
              "                     UF  UF_code           PIB  Pop_est_2009  classe\n",
              "0                 BAHIA      4.0  5.788399e+04         18433       1\n",
              "1     RIO GRANDE DO SUL     20.0  4.572388e+04          4000       2\n",
              "2        ESPIRITO SANTO      7.0  1.978263e+07        320156       4\n",
              "3          MINAS GERAIS     12.0  2.478160e+05         21424       2\n",
              "4                 PIAUÍ     17.0  2.095138e+04          7895       1\n",
              "...                 ...      ...           ...           ...     ...\n",
              "5561     SANTA CATARINA     23.0  1.876289e+05          9737       2\n",
              "5562             PARANÁ     13.0  1.385535e+05         13983       2\n",
              "5563          SÃO PAULO     25.0  5.320191e+05         29639       2\n",
              "5564  RIO GRANDE DO SUL     20.0  2.198064e+04          3067       1\n",
              "5565  RIO GRANDE DO SUL     20.0  5.715017e+04          5623       2\n",
              "\n",
              "[5566 rows x 5 columns]"
            ]
          },
          "metadata": {
            "tags": []
          },
          "execution_count": 3
        }
      ]
    },
    {
      "cell_type": "markdown",
      "metadata": {
        "id": "jOnOa3KhoyPM",
        "colab_type": "text"
      },
      "source": [
        "## Vamos tentar discriminar cidades de classe 1 e 2 das demais"
      ]
    },
    {
      "cell_type": "code",
      "metadata": {
        "id": "cOdIcO_Bmc0o",
        "colab_type": "code",
        "colab": {
          "base_uri": "https://localhost:8080/",
          "height": 283
        },
        "outputId": "8fed4d96-cc39-48e5-e02c-657525a3deb7"
      },
      "source": [
        "df['classe'].hist()"
      ],
      "execution_count": null,
      "outputs": [
        {
          "output_type": "execute_result",
          "data": {
            "text/plain": [
              "<matplotlib.axes._subplots.AxesSubplot at 0x7f98c1cf30b8>"
            ]
          },
          "metadata": {
            "tags": []
          },
          "execution_count": 4
        },
        {
          "output_type": "display_data",
          "data": {
            "image/png": "[encoded data removed]",
            "text/plain": [
              "<Figure size 432x288 with 1 Axes>"
            ]
          },
          "metadata": {
            "tags": [],
            "needs_background": "light"
          }
        }
      ]
    },
    {
      "cell_type": "code",
      "metadata": {
        "id": "2o4JiN19mqdY",
        "colab_type": "code",
        "colab": {
          "base_uri": "https://localhost:8080/",
          "height": 127
        },
        "outputId": "34f51167-aa43-49d6-8dd4-75a943816713"
      },
      "source": [
        "df['classe'].value_counts()"
      ],
      "execution_count": null,
      "outputs": [
        {
          "output_type": "execute_result",
          "data": {
            "text/plain": [
              "1    3157\n",
              "2    1977\n",
              "3     376\n",
              "4      51\n",
              "5       5\n",
              "Name: classe, dtype: int64"
            ]
          },
          "metadata": {
            "tags": []
          },
          "execution_count": 5
        }
      ]
    },
    {
      "cell_type": "markdown",
      "metadata": {
        "id": "tqfg5g1Ro2sY",
        "colab_type": "text"
      },
      "source": [
        "### Vamos converter o dataframe para numpy array e depois separar as features (entrada) dos alvos (saída)"
      ]
    },
    {
      "cell_type": "code",
      "metadata": {
        "id": "Ls0LDOsXm7Yq",
        "colab_type": "code",
        "colab": {}
      },
      "source": [
        "nparray = df.to_numpy()"
      ],
      "execution_count": null,
      "outputs": []
    },
    {
      "cell_type": "code",
      "metadata": {
        "id": "S2u5HD7eoYUl",
        "colab_type": "code",
        "colab": {
          "base_uri": "https://localhost:8080/",
          "height": 54
        },
        "outputId": "165e1666-9f24-4a2d-c115-f8ee87cb1985"
      },
      "source": [
        "features = nparray[:,1:-1]\n",
        "targets = nparray[:,-1] > 2\n",
        "print(\"Features = \", features.shape)\n",
        "print(\"Targets = \", targets.shape)"
      ],
      "execution_count": null,
      "outputs": [
        {
          "output_type": "stream",
          "text": [
            "Features =  (5566, 3)\n",
            "Targets =  (5566,)\n"
          ],
          "name": "stdout"
        }
      ]
    },
    {
      "cell_type": "markdown",
      "metadata": {
        "id": "W7VOgujapRcS",
        "colab_type": "text"
      },
      "source": [
        "### 1) Preparando conjuntos de treinamento e teste\n",
        "\n",
        "Aqui vou fazer de forma simples pois quero apenas mostrar o treinamento da rede, pegando os 20% primeiros"
      ]
    },
    {
      "cell_type": "code",
      "metadata": {
        "id": "MvusEAx0oZbw",
        "colab_type": "code",
        "colab": {
          "base_uri": "https://localhost:8080/",
          "height": 54
        },
        "outputId": "fc00558c-9735-4dab-925c-31cc9b5d43bd"
      },
      "source": [
        "num_inst_teste = int(len(features)*0.2)\n",
        "train_feats = features[:-num_inst_teste].astype(float)\n",
        "train_labels = targets[:-num_inst_teste].astype(int)\n",
        "\n",
        "test_feats = features[-num_inst_teste:].astype(float)\n",
        "test_labels = targets[-num_inst_teste:].astype(int)\n",
        "\n",
        "print(\"Exemplos de treinamento:\", len(train_feats))\n",
        "print(\"Exemplos de teste:\", len(test_feats))"
      ],
      "execution_count": null,
      "outputs": [
        {
          "output_type": "stream",
          "text": [
            "Exemplos de treinamento: 4453\n",
            "Exemplos de teste: 1113\n"
          ],
          "name": "stdout"
        }
      ]
    },
    {
      "cell_type": "code",
      "metadata": {
        "id": "M6-wMTds2ZA1",
        "colab_type": "code",
        "colab": {
          "base_uri": "https://localhost:8080/",
          "height": 146
        },
        "outputId": "81ecd33d-5839-495f-eb4a-27fa26f2ff34"
      },
      "source": [
        "train_feats"
      ],
      "execution_count": null,
      "outputs": [
        {
          "output_type": "execute_result",
          "data": {
            "text/plain": [
              "array([[4.00000000e+00, 5.78839922e+04, 1.84330000e+04],\n",
              "       [2.00000000e+01, 4.57238750e+04, 4.00000000e+03],\n",
              "       [7.00000000e+00, 1.97826280e+07, 3.20156000e+05],\n",
              "       ...,\n",
              "       [8.00000000e+00, 3.64961094e+05, 9.96500000e+03],\n",
              "       [9.00000000e+00, 1.51116203e+05, 2.16720000e+04],\n",
              "       [2.00000000e+01, 4.30799180e+04, 1.57400000e+03]])"
            ]
          },
          "metadata": {
            "tags": []
          },
          "execution_count": 9
        }
      ]
    },
    {
      "cell_type": "code",
      "metadata": {
        "id": "XUvnDFab31Af",
        "colab_type": "code",
        "colab": {
          "base_uri": "https://localhost:8080/",
          "height": 35
        },
        "outputId": "6c9bc656-703a-4d0e-be05-c2c42417f616"
      },
      "source": [
        "train_labels"
      ],
      "execution_count": null,
      "outputs": [
        {
          "output_type": "execute_result",
          "data": {
            "text/plain": [
              "array([0, 0, 1, ..., 1, 0, 1])"
            ]
          },
          "metadata": {
            "tags": []
          },
          "execution_count": 10
        }
      ]
    },
    {
      "cell_type": "code",
      "metadata": {
        "id": "CYzuO3fl3mqy",
        "colab_type": "code",
        "colab": {
          "base_uri": "https://localhost:8080/",
          "height": 146
        },
        "outputId": "02b06d6c-00fc-4488-d5f2-c5eeb381879d"
      },
      "source": [
        "test_feats"
      ],
      "execution_count": null,
      "outputs": [
        {
          "output_type": "execute_result",
          "data": {
            "text/plain": [
              "array([[5.00000000e+00, 3.72566094e+04, 8.50000000e+03],\n",
              "       [1.30000000e+01, 3.44051133e+04, 4.17600000e+03],\n",
              "       [1.30000000e+01, 1.12631172e+05, 1.41890000e+04],\n",
              "       ...,\n",
              "       [2.50000000e+01, 5.32019125e+05, 2.96390000e+04],\n",
              "       [2.00000000e+01, 2.19806367e+04, 3.06700000e+03],\n",
              "       [2.00000000e+01, 5.71501719e+04, 5.62300000e+03]])"
            ]
          },
          "metadata": {
            "tags": []
          },
          "execution_count": 11
        }
      ]
    },
    {
      "cell_type": "code",
      "metadata": {
        "id": "f_frKjeHpzPg",
        "colab_type": "code",
        "colab": {
          "base_uri": "https://localhost:8080/",
          "height": 54
        },
        "outputId": "8f51a467-e892-458a-e14c-9221b5f51a5b"
      },
      "source": [
        "counts_train = np.bincount(train_labels)\n",
        "counts_test = np.bincount(test_labels)\n",
        "\n",
        "print(\"Porcentagem da classe minoritária treinamento: {} ({:.2f}% of total)\".format(\n",
        "        counts_train[1], 100 * float(counts_train[1]) / len(train_labels)\n",
        "    ))\n",
        "\n",
        "print(\"Porcentagem da classe minoritária teste: {} ({:.2f}% of total)\".format(\n",
        "        counts_test[1], 100 * float(counts_test[1]) / len(test_labels)\n",
        "    ))"
      ],
      "execution_count": null,
      "outputs": [
        {
          "output_type": "stream",
          "text": [
            "Porcentagem da classe minoritária treinamento: 338 (7.59% of total)\n",
            "Porcentagem da classe minoritária teste: 94 (8.45% of total)\n"
          ],
          "name": "stdout"
        }
      ]
    },
    {
      "cell_type": "markdown",
      "metadata": {
        "id": "nj7baTNmq2Ic",
        "colab_type": "text"
      },
      "source": [
        "## 2) Montando a rede neural para classificação\n",
        "\n",
        "Utilizaremos primeiro uma rede rasa (MLP convencional)"
      ]
    },
    {
      "cell_type": "code",
      "metadata": {
        "id": "NuMsZENop9-t",
        "colab_type": "code",
        "colab": {
          "base_uri": "https://localhost:8080/",
          "height": 237
        },
        "outputId": "d9e9eff7-3bd1-4746-ad27-841ea3083a11"
      },
      "source": [
        "model1 = keras.Sequential(\n",
        "    [\n",
        "        keras.layers.Dense(\n",
        "            16, activation=\"relu\", input_shape=(train_feats.shape[-1],)\n",
        "        ),\n",
        "        keras.layers.Dense(1, activation=\"sigmoid\"),\n",
        "    ]\n",
        ")\n",
        "model1.summary()\n"
      ],
      "execution_count": null,
      "outputs": [
        {
          "output_type": "stream",
          "text": [
            "Model: \"sequential\"\n",
            "_________________________________________________________________\n",
            "Layer (type)                 Output Shape              Param #   \n",
            "=================================================================\n",
            "dense (Dense)                (None, 16)                64        \n",
            "_________________________________________________________________\n",
            "dense_1 (Dense)              (None, 1)                 17        \n",
            "=================================================================\n",
            "Total params: 81\n",
            "Trainable params: 81\n",
            "Non-trainable params: 0\n",
            "_________________________________________________________________\n"
          ],
          "name": "stdout"
        }
      ]
    },
    {
      "cell_type": "markdown",
      "metadata": {
        "id": "EGYnX8v2rO2v",
        "colab_type": "text"
      },
      "source": [
        "Vamos treinar a rede, mas utilizaremos métricas alternativas que iremos computar como: Precisão e Revocação, pois a base é muito desbalanceada"
      ]
    },
    {
      "cell_type": "code",
      "metadata": {
        "id": "9jiq0kejrBBY",
        "colab_type": "code",
        "colab": {}
      },
      "source": [
        "metrics = [\n",
        "    keras.metrics.FalseNegatives(name=\"fn\"),\n",
        "    keras.metrics.FalsePositives(name=\"fp\"),\n",
        "    keras.metrics.TrueNegatives(name=\"tn\"),\n",
        "    keras.metrics.TruePositives(name=\"tp\"),\n",
        "    keras.metrics.Precision(name=\"precision\"),\n",
        "    keras.metrics.Recall(name=\"recall\"),\n",
        "]\n",
        "\n",
        "# compilamos o modelo utilizando:\n",
        "#- um otimizador SGD\n",
        "#- a função de perda entropia cruzada\n",
        "#- as métricas acima\n",
        "model1.compile(\n",
        "    optimizer=keras.optimizers.SGD(1e-1), loss=\"binary_crossentropy\", metrics=metrics\n",
        ")"
      ],
      "execution_count": null,
      "outputs": []
    },
    {
      "cell_type": "markdown",
      "metadata": {
        "id": "W3rSe3LTrkeA",
        "colab_type": "text"
      },
      "source": [
        "Ajustando o modelo!\n",
        "\n",
        "Aqui aparece o **batchsize**, que definimos como 100\n",
        "\n",
        "E também o número de épocas (**epochs**). Uma época ocorre após as iterações (cada batch) completarem o total de exemplos de treinamento\n",
        "\n",
        "Exemplo: nesse caso temos 5566 exemplos de treinamento. Com batchs de 100, precisaremos de 5566/1000 iterações para alcançar 1 época.\n",
        "\n",
        "Isso significa que após 56 iterações (batchs selecionados) teremos uma época"
      ]
    },
    {
      "cell_type": "code",
      "metadata": {
        "id": "M16Uwl6qxJ7d",
        "colab_type": "code",
        "colab": {
          "base_uri": "https://localhost:8080/",
          "height": 35
        },
        "outputId": "8212c939-5da7-4684-8976-f1a6cbbe9399"
      },
      "source": [
        "5566/100"
      ],
      "execution_count": null,
      "outputs": [
        {
          "output_type": "execute_result",
          "data": {
            "text/plain": [
              "55.66"
            ]
          },
          "metadata": {
            "tags": []
          },
          "execution_count": 15
        }
      ]
    },
    {
      "cell_type": "code",
      "metadata": {
        "id": "q1G4RN3wrgoJ",
        "colab_type": "code",
        "colab": {
          "base_uri": "https://localhost:8080/",
          "height": 1000
        },
        "outputId": "2f7fb449-4e79-4450-811a-c4294307e831"
      },
      "source": [
        "history1 = model1.fit(\n",
        "    train_feats,\n",
        "    train_labels,\n",
        "    batch_size=100,\n",
        "    epochs=30,\n",
        "    verbose=2,\n",
        "    validation_data=(test_feats, test_labels),\n",
        ")"
      ],
      "execution_count": null,
      "outputs": [
        {
          "output_type": "stream",
          "text": [
            "Epoch 1/30\n",
            "45/45 - 1s - loss: 636772941824.0000 - fn: 331.0000 - fp: 93.0000 - tn: 4022.0000 - tp: 7.0000 - precision: 0.0700 - recall: 0.0207 - val_loss: 0.3657 - val_fn: 94.0000 - val_fp: 0.0000e+00 - val_tn: 1019.0000 - val_tp: 0.0000e+00 - val_precision: 0.0000e+00 - val_recall: 0.0000e+00\n",
            "Epoch 2/30\n",
            "45/45 - 0s - loss: 0.3207 - fn: 338.0000 - fp: 0.0000e+00 - tn: 4115.0000 - tp: 0.0000e+00 - precision: 0.0000e+00 - recall: 0.0000e+00 - val_loss: 0.3117 - val_fn: 94.0000 - val_fp: 0.0000e+00 - val_tn: 1019.0000 - val_tp: 0.0000e+00 - val_precision: 0.0000e+00 - val_recall: 0.0000e+00\n",
            "Epoch 3/30\n",
            "45/45 - 0s - loss: 0.2874 - fn: 338.0000 - fp: 0.0000e+00 - tn: 4115.0000 - tp: 0.0000e+00 - precision: 0.0000e+00 - recall: 0.0000e+00 - val_loss: 0.2970 - val_fn: 94.0000 - val_fp: 0.0000e+00 - val_tn: 1019.0000 - val_tp: 0.0000e+00 - val_precision: 0.0000e+00 - val_recall: 0.0000e+00\n",
            "Epoch 4/30\n",
            "45/45 - 0s - loss: 0.2766 - fn: 338.0000 - fp: 0.0000e+00 - tn: 4115.0000 - tp: 0.0000e+00 - precision: 0.0000e+00 - recall: 0.0000e+00 - val_loss: 0.2921 - val_fn: 94.0000 - val_fp: 0.0000e+00 - val_tn: 1019.0000 - val_tp: 0.0000e+00 - val_precision: 0.0000e+00 - val_recall: 0.0000e+00\n",
            "Epoch 5/30\n",
            "45/45 - 0s - loss: 0.2723 - fn: 338.0000 - fp: 0.0000e+00 - tn: 4115.0000 - tp: 0.0000e+00 - precision: 0.0000e+00 - recall: 0.0000e+00 - val_loss: 0.2903 - val_fn: 94.0000 - val_fp: 0.0000e+00 - val_tn: 1019.0000 - val_tp: 0.0000e+00 - val_precision: 0.0000e+00 - val_recall: 0.0000e+00\n",
            "Epoch 6/30\n",
            "45/45 - 0s - loss: 0.2705 - fn: 338.0000 - fp: 0.0000e+00 - tn: 4115.0000 - tp: 0.0000e+00 - precision: 0.0000e+00 - recall: 0.0000e+00 - val_loss: 0.2897 - val_fn: 94.0000 - val_fp: 0.0000e+00 - val_tn: 1019.0000 - val_tp: 0.0000e+00 - val_precision: 0.0000e+00 - val_recall: 0.0000e+00\n",
            "Epoch 7/30\n",
            "45/45 - 0s - loss: 0.2696 - fn: 338.0000 - fp: 0.0000e+00 - tn: 4115.0000 - tp: 0.0000e+00 - precision: 0.0000e+00 - recall: 0.0000e+00 - val_loss: 0.2895 - val_fn: 94.0000 - val_fp: 0.0000e+00 - val_tn: 1019.0000 - val_tp: 0.0000e+00 - val_precision: 0.0000e+00 - val_recall: 0.0000e+00\n",
            "Epoch 8/30\n",
            "45/45 - 0s - loss: 0.2691 - fn: 338.0000 - fp: 0.0000e+00 - tn: 4115.0000 - tp: 0.0000e+00 - precision: 0.0000e+00 - recall: 0.0000e+00 - val_loss: 0.2895 - val_fn: 94.0000 - val_fp: 0.0000e+00 - val_tn: 1019.0000 - val_tp: 0.0000e+00 - val_precision: 0.0000e+00 - val_recall: 0.0000e+00\n",
            "Epoch 9/30\n",
            "45/45 - 0s - loss: 0.2689 - fn: 338.0000 - fp: 0.0000e+00 - tn: 4115.0000 - tp: 0.0000e+00 - precision: 0.0000e+00 - recall: 0.0000e+00 - val_loss: 0.2896 - val_fn: 94.0000 - val_fp: 0.0000e+00 - val_tn: 1019.0000 - val_tp: 0.0000e+00 - val_precision: 0.0000e+00 - val_recall: 0.0000e+00\n",
            "Epoch 10/30\n",
            "45/45 - 0s - loss: 0.2688 - fn: 338.0000 - fp: 0.0000e+00 - tn: 4115.0000 - tp: 0.0000e+00 - precision: 0.0000e+00 - recall: 0.0000e+00 - val_loss: 0.2897 - val_fn: 94.0000 - val_fp: 0.0000e+00 - val_tn: 1019.0000 - val_tp: 0.0000e+00 - val_precision: 0.0000e+00 - val_recall: 0.0000e+00\n",
            "Epoch 11/30\n",
            "45/45 - 0s - loss: 0.2688 - fn: 338.0000 - fp: 0.0000e+00 - tn: 4115.0000 - tp: 0.0000e+00 - precision: 0.0000e+00 - recall: 0.0000e+00 - val_loss: 0.2898 - val_fn: 94.0000 - val_fp: 0.0000e+00 - val_tn: 1019.0000 - val_tp: 0.0000e+00 - val_precision: 0.0000e+00 - val_recall: 0.0000e+00\n",
            "Epoch 12/30\n",
            "45/45 - 0s - loss: 0.2687 - fn: 338.0000 - fp: 0.0000e+00 - tn: 4115.0000 - tp: 0.0000e+00 - precision: 0.0000e+00 - recall: 0.0000e+00 - val_loss: 0.2898 - val_fn: 94.0000 - val_fp: 0.0000e+00 - val_tn: 1019.0000 - val_tp: 0.0000e+00 - val_precision: 0.0000e+00 - val_recall: 0.0000e+00\n",
            "Epoch 13/30\n",
            "45/45 - 0s - loss: 0.2687 - fn: 338.0000 - fp: 0.0000e+00 - tn: 4115.0000 - tp: 0.0000e+00 - precision: 0.0000e+00 - recall: 0.0000e+00 - val_loss: 0.2899 - val_fn: 94.0000 - val_fp: 0.0000e+00 - val_tn: 1019.0000 - val_tp: 0.0000e+00 - val_precision: 0.0000e+00 - val_recall: 0.0000e+00\n",
            "Epoch 14/30\n",
            "45/45 - 0s - loss: 0.2687 - fn: 338.0000 - fp: 0.0000e+00 - tn: 4115.0000 - tp: 0.0000e+00 - precision: 0.0000e+00 - recall: 0.0000e+00 - val_loss: 0.2899 - val_fn: 94.0000 - val_fp: 0.0000e+00 - val_tn: 1019.0000 - val_tp: 0.0000e+00 - val_precision: 0.0000e+00 - val_recall: 0.0000e+00\n",
            "Epoch 15/30\n",
            "45/45 - 0s - loss: 0.2687 - fn: 338.0000 - fp: 0.0000e+00 - tn: 4115.0000 - tp: 0.0000e+00 - precision: 0.0000e+00 - recall: 0.0000e+00 - val_loss: 0.2899 - val_fn: 94.0000 - val_fp: 0.0000e+00 - val_tn: 1019.0000 - val_tp: 0.0000e+00 - val_precision: 0.0000e+00 - val_recall: 0.0000e+00\n",
            "Epoch 16/30\n",
            "45/45 - 0s - loss: 0.2687 - fn: 338.0000 - fp: 0.0000e+00 - tn: 4115.0000 - tp: 0.0000e+00 - precision: 0.0000e+00 - recall: 0.0000e+00 - val_loss: 0.2899 - val_fn: 94.0000 - val_fp: 0.0000e+00 - val_tn: 1019.0000 - val_tp: 0.0000e+00 - val_precision: 0.0000e+00 - val_recall: 0.0000e+00\n",
            "Epoch 17/30\n",
            "45/45 - 0s - loss: 0.2687 - fn: 338.0000 - fp: 0.0000e+00 - tn: 4115.0000 - tp: 0.0000e+00 - precision: 0.0000e+00 - recall: 0.0000e+00 - val_loss: 0.2900 - val_fn: 94.0000 - val_fp: 0.0000e+00 - val_tn: 1019.0000 - val_tp: 0.0000e+00 - val_precision: 0.0000e+00 - val_recall: 0.0000e+00\n",
            "Epoch 18/30\n",
            "45/45 - 0s - loss: 0.2687 - fn: 338.0000 - fp: 0.0000e+00 - tn: 4115.0000 - tp: 0.0000e+00 - precision: 0.0000e+00 - recall: 0.0000e+00 - val_loss: 0.2900 - val_fn: 94.0000 - val_fp: 0.0000e+00 - val_tn: 1019.0000 - val_tp: 0.0000e+00 - val_precision: 0.0000e+00 - val_recall: 0.0000e+00\n",
            "Epoch 19/30\n",
            "45/45 - 0s - loss: 0.2687 - fn: 338.0000 - fp: 0.0000e+00 - tn: 4115.0000 - tp: 0.0000e+00 - precision: 0.0000e+00 - recall: 0.0000e+00 - val_loss: 0.2900 - val_fn: 94.0000 - val_fp: 0.0000e+00 - val_tn: 1019.0000 - val_tp: 0.0000e+00 - val_precision: 0.0000e+00 - val_recall: 0.0000e+00\n",
            "Epoch 20/30\n",
            "45/45 - 0s - loss: 0.2687 - fn: 338.0000 - fp: 0.0000e+00 - tn: 4115.0000 - tp: 0.0000e+00 - precision: 0.0000e+00 - recall: 0.0000e+00 - val_loss: 0.2900 - val_fn: 94.0000 - val_fp: 0.0000e+00 - val_tn: 1019.0000 - val_tp: 0.0000e+00 - val_precision: 0.0000e+00 - val_recall: 0.0000e+00\n",
            "Epoch 21/30\n",
            "45/45 - 0s - loss: 0.2687 - fn: 338.0000 - fp: 0.0000e+00 - tn: 4115.0000 - tp: 0.0000e+00 - precision: 0.0000e+00 - recall: 0.0000e+00 - val_loss: 0.2900 - val_fn: 94.0000 - val_fp: 0.0000e+00 - val_tn: 1019.0000 - val_tp: 0.0000e+00 - val_precision: 0.0000e+00 - val_recall: 0.0000e+00\n",
            "Epoch 22/30\n",
            "45/45 - 0s - loss: 0.2687 - fn: 338.0000 - fp: 0.0000e+00 - tn: 4115.0000 - tp: 0.0000e+00 - precision: 0.0000e+00 - recall: 0.0000e+00 - val_loss: 0.2900 - val_fn: 94.0000 - val_fp: 0.0000e+00 - val_tn: 1019.0000 - val_tp: 0.0000e+00 - val_precision: 0.0000e+00 - val_recall: 0.0000e+00\n",
            "Epoch 23/30\n",
            "45/45 - 0s - loss: 0.2687 - fn: 338.0000 - fp: 0.0000e+00 - tn: 4115.0000 - tp: 0.0000e+00 - precision: 0.0000e+00 - recall: 0.0000e+00 - val_loss: 0.2900 - val_fn: 94.0000 - val_fp: 0.0000e+00 - val_tn: 1019.0000 - val_tp: 0.0000e+00 - val_precision: 0.0000e+00 - val_recall: 0.0000e+00\n",
            "Epoch 24/30\n",
            "45/45 - 0s - loss: 0.2687 - fn: 338.0000 - fp: 0.0000e+00 - tn: 4115.0000 - tp: 0.0000e+00 - precision: 0.0000e+00 - recall: 0.0000e+00 - val_loss: 0.2900 - val_fn: 94.0000 - val_fp: 0.0000e+00 - val_tn: 1019.0000 - val_tp: 0.0000e+00 - val_precision: 0.0000e+00 - val_recall: 0.0000e+00\n",
            "Epoch 25/30\n",
            "45/45 - 0s - loss: 0.2687 - fn: 338.0000 - fp: 0.0000e+00 - tn: 4115.0000 - tp: 0.0000e+00 - precision: 0.0000e+00 - recall: 0.0000e+00 - val_loss: 0.2900 - val_fn: 94.0000 - val_fp: 0.0000e+00 - val_tn: 1019.0000 - val_tp: 0.0000e+00 - val_precision: 0.0000e+00 - val_recall: 0.0000e+00\n",
            "Epoch 26/30\n",
            "45/45 - 0s - loss: 0.2687 - fn: 338.0000 - fp: 0.0000e+00 - tn: 4115.0000 - tp: 0.0000e+00 - precision: 0.0000e+00 - recall: 0.0000e+00 - val_loss: 0.2900 - val_fn: 94.0000 - val_fp: 0.0000e+00 - val_tn: 1019.0000 - val_tp: 0.0000e+00 - val_precision: 0.0000e+00 - val_recall: 0.0000e+00\n",
            "Epoch 27/30\n",
            "45/45 - 0s - loss: 0.2687 - fn: 338.0000 - fp: 0.0000e+00 - tn: 4115.0000 - tp: 0.0000e+00 - precision: 0.0000e+00 - recall: 0.0000e+00 - val_loss: 0.2900 - val_fn: 94.0000 - val_fp: 0.0000e+00 - val_tn: 1019.0000 - val_tp: 0.0000e+00 - val_precision: 0.0000e+00 - val_recall: 0.0000e+00\n",
            "Epoch 28/30\n",
            "45/45 - 0s - loss: 0.2687 - fn: 338.0000 - fp: 0.0000e+00 - tn: 4115.0000 - tp: 0.0000e+00 - precision: 0.0000e+00 - recall: 0.0000e+00 - val_loss: 0.2900 - val_fn: 94.0000 - val_fp: 0.0000e+00 - val_tn: 1019.0000 - val_tp: 0.0000e+00 - val_precision: 0.0000e+00 - val_recall: 0.0000e+00\n",
            "Epoch 29/30\n",
            "45/45 - 0s - loss: 0.2687 - fn: 338.0000 - fp: 0.0000e+00 - tn: 4115.0000 - tp: 0.0000e+00 - precision: 0.0000e+00 - recall: 0.0000e+00 - val_loss: 0.2900 - val_fn: 94.0000 - val_fp: 0.0000e+00 - val_tn: 1019.0000 - val_tp: 0.0000e+00 - val_precision: 0.0000e+00 - val_recall: 0.0000e+00\n",
            "Epoch 30/30\n",
            "45/45 - 0s - loss: 0.2687 - fn: 338.0000 - fp: 0.0000e+00 - tn: 4115.0000 - tp: 0.0000e+00 - precision: 0.0000e+00 - recall: 0.0000e+00 - val_loss: 0.2900 - val_fn: 94.0000 - val_fp: 0.0000e+00 - val_tn: 1019.0000 - val_tp: 0.0000e+00 - val_precision: 0.0000e+00 - val_recall: 0.0000e+00\n"
          ],
          "name": "stdout"
        }
      ]
    },
    {
      "cell_type": "markdown",
      "metadata": {
        "id": "GD-CviKWsI46",
        "colab_type": "text"
      },
      "source": [
        "Com o Keras podemos plotar as funções de perda ao longo do treinamento"
      ]
    },
    {
      "cell_type": "code",
      "metadata": {
        "id": "vhnGiYjmrmBf",
        "colab_type": "code",
        "colab": {
          "base_uri": "https://localhost:8080/",
          "height": 295
        },
        "outputId": "2d34bf45-07e1-44ce-8e56-6dfb4f9fee32"
      },
      "source": [
        "plt.plot(history1.history[\"loss\"])\n",
        "plt.plot(history1.history[\"val_loss\"])\n",
        "plt.title(\"model loss\")\n",
        "plt.ylabel(\"loss\")\n",
        "plt.xlabel(\"epoch\")\n",
        "plt.legend([\"train\", \"test\"], loc=\"upper left\")\n",
        "plt.show()\n"
      ],
      "execution_count": null,
      "outputs": [
        {
          "output_type": "display_data",
          "data": {
            "image/png": "[encoded data removed]",
            "text/plain": [
              "<Figure size 432x288 with 1 Axes>"
            ]
          },
          "metadata": {
            "tags": [],
            "needs_background": "light"
          }
        }
      ]
    },
    {
      "cell_type": "code",
      "metadata": {
        "id": "qybsE72PsRgl",
        "colab_type": "code",
        "colab": {}
      },
      "source": [
        "# Computando as métricas para o teste\n",
        "score = model1.evaluate(test_feats, test_labels, verbose=0)"
      ],
      "execution_count": null,
      "outputs": []
    },
    {
      "cell_type": "code",
      "metadata": {
        "id": "yfj7KmvEsmd7",
        "colab_type": "code",
        "colab": {
          "base_uri": "https://localhost:8080/",
          "height": 127
        },
        "outputId": "e4891550-0331-4523-925b-55d540974667"
      },
      "source": [
        "print(\"Falsos negativos: \", score[1])\n",
        "print(\"Falsos positivos: \", score[2])\n",
        "print(\"Verdadeiros negativos: \", score[3])\n",
        "print(\"Verdadeiros positivos: \", score[4])\n",
        "print(\"Precisao: \", score[5])\n",
        "print(\"Revocacao: \", score[6])"
      ],
      "execution_count": null,
      "outputs": [
        {
          "output_type": "stream",
          "text": [
            "Falsos negativos:  94.0\n",
            "Falsos positivos:  0.0\n",
            "Verdadeiros negativos:  1019.0\n",
            "Verdadeiros positivos:  0.0\n",
            "Precisao:  0.0\n",
            "Revocacao:  0.0\n"
          ],
          "name": "stdout"
        }
      ]
    },
    {
      "cell_type": "code",
      "metadata": {
        "id": "1kVzHqBLwkUi",
        "colab_type": "code",
        "colab": {}
      },
      "source": [
        "model1.reset_states() "
      ],
      "execution_count": null,
      "outputs": []
    },
    {
      "cell_type": "markdown",
      "metadata": {
        "id": "YiYubRpitshR",
        "colab_type": "text"
      },
      "source": [
        "## 3) Melhorando o classificador\n",
        "\n",
        "1. Ponderar as classes pois estão muito desbalanceadas\n",
        "2. Normalizar os atributos"
      ]
    },
    {
      "cell_type": "code",
      "metadata": {
        "id": "-IvoJtO8tels",
        "colab_type": "code",
        "colab": {}
      },
      "source": [
        "# normalizacao z-score\n",
        "# calculamos média e desvio no treinamento e aplicamos em treinamento e teste\n",
        "mean = np.mean(train_feats, axis=0)\n",
        "train_feats -= mean\n",
        "test_feats -= mean\n",
        "\n",
        "std = np.std(train_feats, axis=0)\n",
        "train_feats /= std\n",
        "test_feats /= std"
      ],
      "execution_count": null,
      "outputs": []
    },
    {
      "cell_type": "code",
      "metadata": {
        "id": "nP8quMvAuFw-",
        "colab_type": "code",
        "colab": {}
      },
      "source": [
        "# vamos ponderar o total de cada classe e formar um peso\n",
        "peso_0 = 1.0 / counts_train[0]\n",
        "peso_1 = 1.0 / counts_train[1]\n",
        "\n",
        "# ponderacao das classes\n",
        "class_weight = {0: peso_0, 1: peso_1}"
      ],
      "execution_count": null,
      "outputs": []
    },
    {
      "cell_type": "code",
      "metadata": {
        "id": "iEKaF2HJuSMr",
        "colab_type": "code",
        "colab": {
          "base_uri": "https://localhost:8080/",
          "height": 1000
        },
        "outputId": "c2acd810-0ce5-4df7-df4d-60aeafd92fd7"
      },
      "source": [
        "model2 = keras.Sequential(\n",
        "    [\n",
        "        keras.layers.Dense(\n",
        "            16, activation=\"relu\", input_shape=(train_feats.shape[-1],)\n",
        "        ),\n",
        "        keras.layers.Dense(1, activation=\"sigmoid\"),\n",
        "    ]\n",
        ")\n",
        "model2.summary()\n",
        "\n",
        "# compilamos o modelo utilizando:\n",
        "#- um otimizador SGD\n",
        "#- a função de perda entropia cruzada\n",
        "#- as métricas acima\n",
        "model2.compile(\n",
        "    optimizer=keras.optimizers.SGD(1e-1), loss=\"binary_crossentropy\", metrics=metrics\n",
        ")\n",
        "\n",
        "history2 = model2.fit(\n",
        "    train_feats,\n",
        "    train_labels,\n",
        "    batch_size=100,\n",
        "    epochs=30,\n",
        "    verbose=1,\n",
        "    validation_data=(test_feats, test_labels),\n",
        "    class_weight=class_weight,\n",
        ")"
      ],
      "execution_count": null,
      "outputs": [
        {
          "output_type": "stream",
          "text": [
            "Model: \"sequential_1\"\n",
            "_________________________________________________________________\n",
            "Layer (type)                 Output Shape              Param #   \n",
            "=================================================================\n",
            "dense_2 (Dense)              (None, 16)                64        \n",
            "_________________________________________________________________\n",
            "dense_3 (Dense)              (None, 1)                 17        \n",
            "=================================================================\n",
            "Total params: 81\n",
            "Trainable params: 81\n",
            "Non-trainable params: 0\n",
            "_________________________________________________________________\n",
            "Epoch 1/30\n",
            "45/45 [==============================] - 1s 14ms/step - loss: 2.9863e-04 - fn: 213.0000 - fp: 1380.0000 - tn: 3754.0000 - tp: 219.0000 - precision: 0.1370 - recall: 0.5069 - val_loss: 0.6125 - val_fn: 42.0000 - val_fp: 351.0000 - val_tn: 668.0000 - val_tp: 52.0000 - val_precision: 0.1290 - val_recall: 0.5532\n",
            "Epoch 2/30\n",
            "45/45 [==============================] - 0s 2ms/step - loss: 2.9841e-04 - fn: 119.0000 - fp: 1380.0000 - tn: 2735.0000 - tp: 219.0000 - precision: 0.1370 - recall: 0.6479 - val_loss: 0.6124 - val_fn: 42.0000 - val_fp: 351.0000 - val_tn: 668.0000 - val_tp: 52.0000 - val_precision: 0.1290 - val_recall: 0.5532\n",
            "Epoch 3/30\n",
            "45/45 [==============================] - 0s 2ms/step - loss: 2.9820e-04 - fn: 119.0000 - fp: 1381.0000 - tn: 2734.0000 - tp: 219.0000 - precision: 0.1369 - recall: 0.6479 - val_loss: 0.6123 - val_fn: 42.0000 - val_fp: 351.0000 - val_tn: 668.0000 - val_tp: 52.0000 - val_precision: 0.1290 - val_recall: 0.5532\n",
            "Epoch 4/30\n",
            "45/45 [==============================] - 0s 2ms/step - loss: 2.9799e-04 - fn: 119.0000 - fp: 1381.0000 - tn: 2734.0000 - tp: 219.0000 - precision: 0.1369 - recall: 0.6479 - val_loss: 0.6121 - val_fn: 42.0000 - val_fp: 351.0000 - val_tn: 668.0000 - val_tp: 52.0000 - val_precision: 0.1290 - val_recall: 0.5532\n",
            "Epoch 5/30\n",
            "45/45 [==============================] - 0s 2ms/step - loss: 2.9779e-04 - fn: 119.0000 - fp: 1381.0000 - tn: 2734.0000 - tp: 219.0000 - precision: 0.1369 - recall: 0.6479 - val_loss: 0.6120 - val_fn: 42.0000 - val_fp: 351.0000 - val_tn: 668.0000 - val_tp: 52.0000 - val_precision: 0.1290 - val_recall: 0.5532\n",
            "Epoch 6/30\n",
            "45/45 [==============================] - 0s 2ms/step - loss: 2.9758e-04 - fn: 119.0000 - fp: 1382.0000 - tn: 2733.0000 - tp: 219.0000 - precision: 0.1368 - recall: 0.6479 - val_loss: 0.6119 - val_fn: 42.0000 - val_fp: 351.0000 - val_tn: 668.0000 - val_tp: 52.0000 - val_precision: 0.1290 - val_recall: 0.5532\n",
            "Epoch 7/30\n",
            "45/45 [==============================] - 0s 2ms/step - loss: 2.9738e-04 - fn: 119.0000 - fp: 1382.0000 - tn: 2733.0000 - tp: 219.0000 - precision: 0.1368 - recall: 0.6479 - val_loss: 0.6118 - val_fn: 42.0000 - val_fp: 352.0000 - val_tn: 667.0000 - val_tp: 52.0000 - val_precision: 0.1287 - val_recall: 0.5532\n",
            "Epoch 8/30\n",
            "45/45 [==============================] - 0s 2ms/step - loss: 2.9718e-04 - fn: 117.0000 - fp: 1383.0000 - tn: 2732.0000 - tp: 221.0000 - precision: 0.1378 - recall: 0.6538 - val_loss: 0.6117 - val_fn: 42.0000 - val_fp: 352.0000 - val_tn: 667.0000 - val_tp: 52.0000 - val_precision: 0.1287 - val_recall: 0.5532\n",
            "Epoch 9/30\n",
            "45/45 [==============================] - 0s 2ms/step - loss: 2.9698e-04 - fn: 117.0000 - fp: 1384.0000 - tn: 2731.0000 - tp: 221.0000 - precision: 0.1377 - recall: 0.6538 - val_loss: 0.6116 - val_fn: 42.0000 - val_fp: 352.0000 - val_tn: 667.0000 - val_tp: 52.0000 - val_precision: 0.1287 - val_recall: 0.5532\n",
            "Epoch 10/30\n",
            "45/45 [==============================] - 0s 2ms/step - loss: 2.9677e-04 - fn: 117.0000 - fp: 1384.0000 - tn: 2731.0000 - tp: 221.0000 - precision: 0.1377 - recall: 0.6538 - val_loss: 0.6114 - val_fn: 42.0000 - val_fp: 353.0000 - val_tn: 666.0000 - val_tp: 52.0000 - val_precision: 0.1284 - val_recall: 0.5532\n",
            "Epoch 11/30\n",
            "45/45 [==============================] - 0s 2ms/step - loss: 2.9658e-04 - fn: 117.0000 - fp: 1386.0000 - tn: 2729.0000 - tp: 221.0000 - precision: 0.1375 - recall: 0.6538 - val_loss: 0.6113 - val_fn: 42.0000 - val_fp: 353.0000 - val_tn: 666.0000 - val_tp: 52.0000 - val_precision: 0.1284 - val_recall: 0.5532\n",
            "Epoch 12/30\n",
            "45/45 [==============================] - 0s 2ms/step - loss: 2.9638e-04 - fn: 117.0000 - fp: 1387.0000 - tn: 2728.0000 - tp: 221.0000 - precision: 0.1374 - recall: 0.6538 - val_loss: 0.6112 - val_fn: 42.0000 - val_fp: 354.0000 - val_tn: 665.0000 - val_tp: 52.0000 - val_precision: 0.1281 - val_recall: 0.5532\n",
            "Epoch 13/30\n",
            "45/45 [==============================] - 0s 2ms/step - loss: 2.9618e-04 - fn: 117.0000 - fp: 1388.0000 - tn: 2727.0000 - tp: 221.0000 - precision: 0.1374 - recall: 0.6538 - val_loss: 0.6111 - val_fn: 42.0000 - val_fp: 355.0000 - val_tn: 664.0000 - val_tp: 52.0000 - val_precision: 0.1278 - val_recall: 0.5532\n",
            "Epoch 14/30\n",
            "45/45 [==============================] - 0s 2ms/step - loss: 2.9599e-04 - fn: 116.0000 - fp: 1390.0000 - tn: 2725.0000 - tp: 222.0000 - precision: 0.1377 - recall: 0.6568 - val_loss: 0.6110 - val_fn: 42.0000 - val_fp: 355.0000 - val_tn: 664.0000 - val_tp: 52.0000 - val_precision: 0.1278 - val_recall: 0.5532\n",
            "Epoch 15/30\n",
            "45/45 [==============================] - 0s 2ms/step - loss: 2.9580e-04 - fn: 116.0000 - fp: 1390.0000 - tn: 2725.0000 - tp: 222.0000 - precision: 0.1377 - recall: 0.6568 - val_loss: 0.6109 - val_fn: 42.0000 - val_fp: 355.0000 - val_tn: 664.0000 - val_tp: 52.0000 - val_precision: 0.1278 - val_recall: 0.5532\n",
            "Epoch 16/30\n",
            "45/45 [==============================] - 0s 2ms/step - loss: 2.9561e-04 - fn: 116.0000 - fp: 1390.0000 - tn: 2725.0000 - tp: 222.0000 - precision: 0.1377 - recall: 0.6568 - val_loss: 0.6108 - val_fn: 42.0000 - val_fp: 355.0000 - val_tn: 664.0000 - val_tp: 52.0000 - val_precision: 0.1278 - val_recall: 0.5532\n",
            "Epoch 17/30\n",
            "45/45 [==============================] - 0s 2ms/step - loss: 2.9542e-04 - fn: 116.0000 - fp: 1392.0000 - tn: 2723.0000 - tp: 222.0000 - precision: 0.1375 - recall: 0.6568 - val_loss: 0.6107 - val_fn: 42.0000 - val_fp: 355.0000 - val_tn: 664.0000 - val_tp: 52.0000 - val_precision: 0.1278 - val_recall: 0.5532\n",
            "Epoch 18/30\n",
            "45/45 [==============================] - 0s 2ms/step - loss: 2.9524e-04 - fn: 116.0000 - fp: 1395.0000 - tn: 2720.0000 - tp: 222.0000 - precision: 0.1373 - recall: 0.6568 - val_loss: 0.6106 - val_fn: 41.0000 - val_fp: 355.0000 - val_tn: 664.0000 - val_tp: 53.0000 - val_precision: 0.1299 - val_recall: 0.5638\n",
            "Epoch 19/30\n",
            "45/45 [==============================] - 0s 2ms/step - loss: 2.9505e-04 - fn: 116.0000 - fp: 1395.0000 - tn: 2720.0000 - tp: 222.0000 - precision: 0.1373 - recall: 0.6568 - val_loss: 0.6105 - val_fn: 41.0000 - val_fp: 355.0000 - val_tn: 664.0000 - val_tp: 53.0000 - val_precision: 0.1299 - val_recall: 0.5638\n",
            "Epoch 20/30\n",
            "45/45 [==============================] - 0s 2ms/step - loss: 2.9487e-04 - fn: 116.0000 - fp: 1398.0000 - tn: 2717.0000 - tp: 222.0000 - precision: 0.1370 - recall: 0.6568 - val_loss: 0.6104 - val_fn: 41.0000 - val_fp: 355.0000 - val_tn: 664.0000 - val_tp: 53.0000 - val_precision: 0.1299 - val_recall: 0.5638\n",
            "Epoch 21/30\n",
            "45/45 [==============================] - 0s 2ms/step - loss: 2.9469e-04 - fn: 116.0000 - fp: 1399.0000 - tn: 2716.0000 - tp: 222.0000 - precision: 0.1370 - recall: 0.6568 - val_loss: 0.6103 - val_fn: 41.0000 - val_fp: 355.0000 - val_tn: 664.0000 - val_tp: 53.0000 - val_precision: 0.1299 - val_recall: 0.5638\n",
            "Epoch 22/30\n",
            "45/45 [==============================] - 0s 2ms/step - loss: 2.9451e-04 - fn: 116.0000 - fp: 1403.0000 - tn: 2712.0000 - tp: 222.0000 - precision: 0.1366 - recall: 0.6568 - val_loss: 0.6101 - val_fn: 41.0000 - val_fp: 357.0000 - val_tn: 662.0000 - val_tp: 53.0000 - val_precision: 0.1293 - val_recall: 0.5638\n",
            "Epoch 23/30\n",
            "45/45 [==============================] - 0s 2ms/step - loss: 2.9432e-04 - fn: 116.0000 - fp: 1403.0000 - tn: 2712.0000 - tp: 222.0000 - precision: 0.1366 - recall: 0.6568 - val_loss: 0.6101 - val_fn: 41.0000 - val_fp: 358.0000 - val_tn: 661.0000 - val_tp: 53.0000 - val_precision: 0.1290 - val_recall: 0.5638\n",
            "Epoch 24/30\n",
            "45/45 [==============================] - 0s 2ms/step - loss: 2.9415e-04 - fn: 116.0000 - fp: 1406.0000 - tn: 2709.0000 - tp: 222.0000 - precision: 0.1364 - recall: 0.6568 - val_loss: 0.6100 - val_fn: 41.0000 - val_fp: 358.0000 - val_tn: 661.0000 - val_tp: 53.0000 - val_precision: 0.1290 - val_recall: 0.5638\n",
            "Epoch 25/30\n",
            "45/45 [==============================] - 0s 2ms/step - loss: 2.9398e-04 - fn: 116.0000 - fp: 1408.0000 - tn: 2707.0000 - tp: 222.0000 - precision: 0.1362 - recall: 0.6568 - val_loss: 0.6099 - val_fn: 41.0000 - val_fp: 359.0000 - val_tn: 660.0000 - val_tp: 53.0000 - val_precision: 0.1286 - val_recall: 0.5638\n",
            "Epoch 26/30\n",
            "45/45 [==============================] - 0s 2ms/step - loss: 2.9380e-04 - fn: 116.0000 - fp: 1411.0000 - tn: 2704.0000 - tp: 222.0000 - precision: 0.1359 - recall: 0.6568 - val_loss: 0.6098 - val_fn: 41.0000 - val_fp: 359.0000 - val_tn: 660.0000 - val_tp: 53.0000 - val_precision: 0.1286 - val_recall: 0.5638\n",
            "Epoch 27/30\n",
            "45/45 [==============================] - 0s 2ms/step - loss: 2.9364e-04 - fn: 116.0000 - fp: 1414.0000 - tn: 2701.0000 - tp: 222.0000 - precision: 0.1357 - recall: 0.6568 - val_loss: 0.6097 - val_fn: 41.0000 - val_fp: 359.0000 - val_tn: 660.0000 - val_tp: 53.0000 - val_precision: 0.1286 - val_recall: 0.5638\n",
            "Epoch 28/30\n",
            "45/45 [==============================] - 0s 2ms/step - loss: 2.9347e-04 - fn: 116.0000 - fp: 1416.0000 - tn: 2699.0000 - tp: 222.0000 - precision: 0.1355 - recall: 0.6568 - val_loss: 0.6096 - val_fn: 41.0000 - val_fp: 359.0000 - val_tn: 660.0000 - val_tp: 53.0000 - val_precision: 0.1286 - val_recall: 0.5638\n",
            "Epoch 29/30\n",
            "45/45 [==============================] - 0s 2ms/step - loss: 2.9330e-04 - fn: 116.0000 - fp: 1418.0000 - tn: 2697.0000 - tp: 222.0000 - precision: 0.1354 - recall: 0.6568 - val_loss: 0.6096 - val_fn: 41.0000 - val_fp: 359.0000 - val_tn: 660.0000 - val_tp: 53.0000 - val_precision: 0.1286 - val_recall: 0.5638\n",
            "Epoch 30/30\n",
            "45/45 [==============================] - 0s 2ms/step - loss: 2.9314e-04 - fn: 114.0000 - fp: 1419.0000 - tn: 2696.0000 - tp: 224.0000 - precision: 0.1363 - recall: 0.6627 - val_loss: 0.6095 - val_fn: 41.0000 - val_fp: 359.0000 - val_tn: 660.0000 - val_tp: 53.0000 - val_precision: 0.1286 - val_recall: 0.5638\n"
          ],
          "name": "stdout"
        }
      ]
    },
    {
      "cell_type": "code",
      "metadata": {
        "id": "6bngEVJkvOc3",
        "colab_type": "code",
        "colab": {
          "base_uri": "https://localhost:8080/",
          "height": 127
        },
        "outputId": "c8b69146-451f-4076-fe17-7c286113df90"
      },
      "source": [
        "# Computando as métricas para o teste\n",
        "score = model2.evaluate(test_feats, test_labels, verbose=0)\n",
        "print(\"Falsos negativos: \", score[1])\n",
        "print(\"Falsos positivos: \", score[2])\n",
        "print(\"Verdadeiros negativos: \", score[3])\n",
        "print(\"Verdadeiros positivos: \", score[4])\n",
        "print(\"Precisao: \", score[5])\n",
        "print(\"Revocacao: \", score[6])"
      ],
      "execution_count": null,
      "outputs": [
        {
          "output_type": "stream",
          "text": [
            "Falsos negativos:  41.0\n",
            "Falsos positivos:  359.0\n",
            "Verdadeiros negativos:  660.0\n",
            "Verdadeiros positivos:  53.0\n",
            "Precisao:  0.1286407709121704\n",
            "Revocacao:  0.563829779624939\n"
          ],
          "name": "stdout"
        }
      ]
    },
    {
      "cell_type": "code",
      "metadata": {
        "id": "8JbpqlJIvcUt",
        "colab_type": "code",
        "colab": {}
      },
      "source": [
        "model2.reset_states() "
      ],
      "execution_count": null,
      "outputs": []
    },
    {
      "cell_type": "markdown",
      "metadata": {
        "id": "OSGmRLBfvzTH",
        "colab_type": "text"
      },
      "source": [
        "## 4) É possível melhorar ainda mais?\n",
        "\n",
        "Vamos montar uma rede profunda!"
      ]
    },
    {
      "cell_type": "code",
      "metadata": {
        "id": "lPzA5QPzv3kd",
        "colab_type": "code",
        "colab": {
          "base_uri": "https://localhost:8080/",
          "height": 1000
        },
        "outputId": "101e414b-b1b8-491c-d835-bf26cd297d1c"
      },
      "source": [
        "model3 = keras.Sequential(\n",
        "    [\n",
        "        keras.layers.Dense(\n",
        "            16, activation=\"relu\", input_shape=(train_feats.shape[-1],)\n",
        "        ),\n",
        "        keras.layers.Dense(16, activation=\"relu\"),\n",
        "        keras.layers.Dense(8, activation=\"relu\"),\n",
        "        keras.layers.Dense(1, activation=\"sigmoid\"),\n",
        "    ]\n",
        ")\n",
        "model3.summary()\n",
        "\n",
        "# compilamos o modelo utilizando:\n",
        "#- um otimizador SGD\n",
        "#- a função de perda entropia cruzada\n",
        "#- as métricas acima\n",
        "model3.compile(\n",
        "    optimizer=keras.optimizers.SGD(1e-1), loss=\"binary_crossentropy\", metrics=metrics\n",
        ")\n",
        "\n",
        "history3 = model3.fit(\n",
        "    train_feats,\n",
        "    train_labels,\n",
        "    batch_size=100,\n",
        "    epochs=30,\n",
        "    verbose=1,\n",
        "    validation_data=(test_feats, test_labels),\n",
        "    class_weight=class_weight,\n",
        ")"
      ],
      "execution_count": null,
      "outputs": [
        {
          "output_type": "stream",
          "text": [
            "Model: \"sequential_4\"\n",
            "_________________________________________________________________\n",
            "Layer (type)                 Output Shape              Param #   \n",
            "=================================================================\n",
            "dense_12 (Dense)             (None, 16)                64        \n",
            "_________________________________________________________________\n",
            "dense_13 (Dense)             (None, 16)                272       \n",
            "_________________________________________________________________\n",
            "dense_14 (Dense)             (None, 8)                 136       \n",
            "_________________________________________________________________\n",
            "dense_15 (Dense)             (None, 1)                 9         \n",
            "=================================================================\n",
            "Total params: 481\n",
            "Trainable params: 481\n",
            "Non-trainable params: 0\n",
            "_________________________________________________________________\n",
            "Epoch 1/30\n",
            "45/45 [==============================] - 1s 14ms/step - loss: 3.0423e-04 - fn: 119.0000 - fp: 2869.0000 - tn: 2265.0000 - tp: 313.0000 - precision: 0.0984 - recall: 0.7245 - val_loss: 0.7350 - val_fn: 9.0000 - val_fp: 695.0000 - val_tn: 324.0000 - val_tp: 85.0000 - val_precision: 0.1090 - val_recall: 0.9043\n",
            "Epoch 2/30\n",
            "45/45 [==============================] - 0s 2ms/step - loss: 3.0400e-04 - fn: 29.0000 - fp: 2786.0000 - tn: 1329.0000 - tp: 309.0000 - precision: 0.0998 - recall: 0.9142 - val_loss: 0.7347 - val_fn: 9.0000 - val_fp: 690.0000 - val_tn: 329.0000 - val_tp: 85.0000 - val_precision: 0.1097 - val_recall: 0.9043\n",
            "Epoch 3/30\n",
            "45/45 [==============================] - 0s 2ms/step - loss: 3.0376e-04 - fn: 29.0000 - fp: 2751.0000 - tn: 1364.0000 - tp: 309.0000 - precision: 0.1010 - recall: 0.9142 - val_loss: 0.7343 - val_fn: 9.0000 - val_fp: 686.0000 - val_tn: 333.0000 - val_tp: 85.0000 - val_precision: 0.1102 - val_recall: 0.9043\n",
            "Epoch 4/30\n",
            "45/45 [==============================] - 0s 2ms/step - loss: 3.0354e-04 - fn: 27.0000 - fp: 2726.0000 - tn: 1389.0000 - tp: 311.0000 - precision: 0.1024 - recall: 0.9201 - val_loss: 0.7339 - val_fn: 9.0000 - val_fp: 679.0000 - val_tn: 340.0000 - val_tp: 85.0000 - val_precision: 0.1113 - val_recall: 0.9043\n",
            "Epoch 5/30\n",
            "45/45 [==============================] - 0s 2ms/step - loss: 3.0331e-04 - fn: 27.0000 - fp: 2695.0000 - tn: 1420.0000 - tp: 311.0000 - precision: 0.1035 - recall: 0.9201 - val_loss: 0.7335 - val_fn: 9.0000 - val_fp: 671.0000 - val_tn: 348.0000 - val_tp: 85.0000 - val_precision: 0.1124 - val_recall: 0.9043\n",
            "Epoch 6/30\n",
            "45/45 [==============================] - 0s 2ms/step - loss: 3.0308e-04 - fn: 26.0000 - fp: 2660.0000 - tn: 1455.0000 - tp: 312.0000 - precision: 0.1050 - recall: 0.9231 - val_loss: 0.7331 - val_fn: 9.0000 - val_fp: 665.0000 - val_tn: 354.0000 - val_tp: 85.0000 - val_precision: 0.1133 - val_recall: 0.9043\n",
            "Epoch 7/30\n",
            "45/45 [==============================] - 0s 2ms/step - loss: 3.0286e-04 - fn: 26.0000 - fp: 2625.0000 - tn: 1490.0000 - tp: 312.0000 - precision: 0.1062 - recall: 0.9231 - val_loss: 0.7328 - val_fn: 9.0000 - val_fp: 659.0000 - val_tn: 360.0000 - val_tp: 85.0000 - val_precision: 0.1142 - val_recall: 0.9043\n",
            "Epoch 8/30\n",
            "45/45 [==============================] - 0s 2ms/step - loss: 3.0265e-04 - fn: 26.0000 - fp: 2600.0000 - tn: 1515.0000 - tp: 312.0000 - precision: 0.1071 - recall: 0.9231 - val_loss: 0.7324 - val_fn: 9.0000 - val_fp: 647.0000 - val_tn: 372.0000 - val_tp: 85.0000 - val_precision: 0.1161 - val_recall: 0.9043\n",
            "Epoch 9/30\n",
            "45/45 [==============================] - 0s 2ms/step - loss: 3.0244e-04 - fn: 26.0000 - fp: 2565.0000 - tn: 1550.0000 - tp: 312.0000 - precision: 0.1084 - recall: 0.9231 - val_loss: 0.7320 - val_fn: 10.0000 - val_fp: 636.0000 - val_tn: 383.0000 - val_tp: 84.0000 - val_precision: 0.1167 - val_recall: 0.8936\n",
            "Epoch 10/30\n",
            "45/45 [==============================] - 0s 2ms/step - loss: 3.0224e-04 - fn: 26.0000 - fp: 2529.0000 - tn: 1586.0000 - tp: 312.0000 - precision: 0.1098 - recall: 0.9231 - val_loss: 0.7317 - val_fn: 10.0000 - val_fp: 628.0000 - val_tn: 391.0000 - val_tp: 84.0000 - val_precision: 0.1180 - val_recall: 0.8936\n",
            "Epoch 11/30\n",
            "45/45 [==============================] - 0s 2ms/step - loss: 3.0204e-04 - fn: 26.0000 - fp: 2486.0000 - tn: 1629.0000 - tp: 312.0000 - precision: 0.1115 - recall: 0.9231 - val_loss: 0.7313 - val_fn: 10.0000 - val_fp: 620.0000 - val_tn: 399.0000 - val_tp: 84.0000 - val_precision: 0.1193 - val_recall: 0.8936\n",
            "Epoch 12/30\n",
            "45/45 [==============================] - 0s 2ms/step - loss: 3.0185e-04 - fn: 25.0000 - fp: 2448.0000 - tn: 1667.0000 - tp: 313.0000 - precision: 0.1134 - recall: 0.9260 - val_loss: 0.7309 - val_fn: 10.0000 - val_fp: 605.0000 - val_tn: 414.0000 - val_tp: 84.0000 - val_precision: 0.1219 - val_recall: 0.8936\n",
            "Epoch 13/30\n",
            "45/45 [==============================] - 0s 2ms/step - loss: 3.0166e-04 - fn: 25.0000 - fp: 2396.0000 - tn: 1719.0000 - tp: 313.0000 - precision: 0.1155 - recall: 0.9260 - val_loss: 0.7306 - val_fn: 10.0000 - val_fp: 591.0000 - val_tn: 428.0000 - val_tp: 84.0000 - val_precision: 0.1244 - val_recall: 0.8936\n",
            "Epoch 14/30\n",
            "45/45 [==============================] - 0s 2ms/step - loss: 3.0148e-04 - fn: 25.0000 - fp: 2355.0000 - tn: 1760.0000 - tp: 313.0000 - precision: 0.1173 - recall: 0.9260 - val_loss: 0.7302 - val_fn: 9.0000 - val_fp: 580.0000 - val_tn: 439.0000 - val_tp: 85.0000 - val_precision: 0.1278 - val_recall: 0.9043\n",
            "Epoch 15/30\n",
            "45/45 [==============================] - 0s 2ms/step - loss: 3.0130e-04 - fn: 25.0000 - fp: 2315.0000 - tn: 1800.0000 - tp: 313.0000 - precision: 0.1191 - recall: 0.9260 - val_loss: 0.7299 - val_fn: 9.0000 - val_fp: 572.0000 - val_tn: 447.0000 - val_tp: 85.0000 - val_precision: 0.1294 - val_recall: 0.9043\n",
            "Epoch 16/30\n",
            "45/45 [==============================] - 0s 2ms/step - loss: 3.0113e-04 - fn: 25.0000 - fp: 2268.0000 - tn: 1847.0000 - tp: 313.0000 - precision: 0.1213 - recall: 0.9260 - val_loss: 0.7296 - val_fn: 9.0000 - val_fp: 559.0000 - val_tn: 460.0000 - val_tp: 85.0000 - val_precision: 0.1320 - val_recall: 0.9043\n",
            "Epoch 17/30\n",
            "45/45 [==============================] - 0s 2ms/step - loss: 3.0096e-04 - fn: 24.0000 - fp: 2225.0000 - tn: 1890.0000 - tp: 314.0000 - precision: 0.1237 - recall: 0.9290 - val_loss: 0.7292 - val_fn: 9.0000 - val_fp: 545.0000 - val_tn: 474.0000 - val_tp: 85.0000 - val_precision: 0.1349 - val_recall: 0.9043\n",
            "Epoch 18/30\n",
            "45/45 [==============================] - 0s 2ms/step - loss: 3.0080e-04 - fn: 24.0000 - fp: 2190.0000 - tn: 1925.0000 - tp: 314.0000 - precision: 0.1254 - recall: 0.9290 - val_loss: 0.7289 - val_fn: 10.0000 - val_fp: 538.0000 - val_tn: 481.0000 - val_tp: 84.0000 - val_precision: 0.1350 - val_recall: 0.8936\n",
            "Epoch 19/30\n",
            "45/45 [==============================] - 0s 2ms/step - loss: 3.0064e-04 - fn: 25.0000 - fp: 2158.0000 - tn: 1957.0000 - tp: 313.0000 - precision: 0.1267 - recall: 0.9260 - val_loss: 0.7286 - val_fn: 10.0000 - val_fp: 530.0000 - val_tn: 489.0000 - val_tp: 84.0000 - val_precision: 0.1368 - val_recall: 0.8936\n",
            "Epoch 20/30\n",
            "45/45 [==============================] - 0s 2ms/step - loss: 3.0048e-04 - fn: 26.0000 - fp: 2124.0000 - tn: 1991.0000 - tp: 312.0000 - precision: 0.1281 - recall: 0.9231 - val_loss: 0.7283 - val_fn: 10.0000 - val_fp: 519.0000 - val_tn: 500.0000 - val_tp: 84.0000 - val_precision: 0.1393 - val_recall: 0.8936\n",
            "Epoch 21/30\n",
            "45/45 [==============================] - 0s 2ms/step - loss: 3.0033e-04 - fn: 27.0000 - fp: 2081.0000 - tn: 2034.0000 - tp: 311.0000 - precision: 0.1300 - recall: 0.9201 - val_loss: 0.7279 - val_fn: 10.0000 - val_fp: 509.0000 - val_tn: 510.0000 - val_tp: 84.0000 - val_precision: 0.1417 - val_recall: 0.8936\n",
            "Epoch 22/30\n",
            "45/45 [==============================] - 0s 2ms/step - loss: 3.0018e-04 - fn: 27.0000 - fp: 2045.0000 - tn: 2070.0000 - tp: 311.0000 - precision: 0.1320 - recall: 0.9201 - val_loss: 0.7276 - val_fn: 10.0000 - val_fp: 504.0000 - val_tn: 515.0000 - val_tp: 84.0000 - val_precision: 0.1429 - val_recall: 0.8936\n",
            "Epoch 23/30\n",
            "45/45 [==============================] - 0s 2ms/step - loss: 3.0004e-04 - fn: 30.0000 - fp: 2002.0000 - tn: 2113.0000 - tp: 308.0000 - precision: 0.1333 - recall: 0.9112 - val_loss: 0.7274 - val_fn: 10.0000 - val_fp: 493.0000 - val_tn: 526.0000 - val_tp: 84.0000 - val_precision: 0.1456 - val_recall: 0.8936\n",
            "Epoch 24/30\n",
            "45/45 [==============================] - 0s 2ms/step - loss: 2.9990e-04 - fn: 28.0000 - fp: 1974.0000 - tn: 2141.0000 - tp: 310.0000 - precision: 0.1357 - recall: 0.9172 - val_loss: 0.7271 - val_fn: 10.0000 - val_fp: 484.0000 - val_tn: 535.0000 - val_tp: 84.0000 - val_precision: 0.1479 - val_recall: 0.8936\n",
            "Epoch 25/30\n",
            "45/45 [==============================] - 0s 2ms/step - loss: 2.9976e-04 - fn: 29.0000 - fp: 1943.0000 - tn: 2172.0000 - tp: 309.0000 - precision: 0.1372 - recall: 0.9142 - val_loss: 0.7268 - val_fn: 9.0000 - val_fp: 476.0000 - val_tn: 543.0000 - val_tp: 85.0000 - val_precision: 0.1515 - val_recall: 0.9043\n",
            "Epoch 26/30\n",
            "45/45 [==============================] - 0s 2ms/step - loss: 2.9963e-04 - fn: 30.0000 - fp: 1910.0000 - tn: 2205.0000 - tp: 308.0000 - precision: 0.1389 - recall: 0.9112 - val_loss: 0.7265 - val_fn: 11.0000 - val_fp: 469.0000 - val_tn: 550.0000 - val_tp: 83.0000 - val_precision: 0.1504 - val_recall: 0.8830\n",
            "Epoch 27/30\n",
            "45/45 [==============================] - 0s 2ms/step - loss: 2.9950e-04 - fn: 29.0000 - fp: 1878.0000 - tn: 2237.0000 - tp: 309.0000 - precision: 0.1413 - recall: 0.9142 - val_loss: 0.7263 - val_fn: 11.0000 - val_fp: 466.0000 - val_tn: 553.0000 - val_tp: 83.0000 - val_precision: 0.1512 - val_recall: 0.8830\n",
            "Epoch 28/30\n",
            "45/45 [==============================] - 0s 2ms/step - loss: 2.9937e-04 - fn: 29.0000 - fp: 1847.0000 - tn: 2268.0000 - tp: 309.0000 - precision: 0.1433 - recall: 0.9142 - val_loss: 0.7260 - val_fn: 11.0000 - val_fp: 461.0000 - val_tn: 558.0000 - val_tp: 83.0000 - val_precision: 0.1526 - val_recall: 0.8830\n",
            "Epoch 29/30\n",
            "45/45 [==============================] - 0s 2ms/step - loss: 2.9924e-04 - fn: 31.0000 - fp: 1836.0000 - tn: 2279.0000 - tp: 307.0000 - precision: 0.1433 - recall: 0.9083 - val_loss: 0.7258 - val_fn: 11.0000 - val_fp: 458.0000 - val_tn: 561.0000 - val_tp: 83.0000 - val_precision: 0.1534 - val_recall: 0.8830\n",
            "Epoch 30/30\n",
            "45/45 [==============================] - 0s 2ms/step - loss: 2.9912e-04 - fn: 31.0000 - fp: 1827.0000 - tn: 2288.0000 - tp: 307.0000 - precision: 0.1439 - recall: 0.9083 - val_loss: 0.7255 - val_fn: 11.0000 - val_fp: 454.0000 - val_tn: 565.0000 - val_tp: 83.0000 - val_precision: 0.1546 - val_recall: 0.8830\n"
          ],
          "name": "stdout"
        }
      ]
    },
    {
      "cell_type": "code",
      "metadata": {
        "id": "b7bZy--DwKQc",
        "colab_type": "code",
        "colab": {
          "base_uri": "https://localhost:8080/",
          "height": 127
        },
        "outputId": "e3f4588b-e676-4276-a778-fcc3084d5a0b"
      },
      "source": [
        "# Computando as métricas para o teste\n",
        "score = model3.evaluate(test_feats, test_labels, verbose=0)\n",
        "print(\"Falsos negativos: \", score[1])\n",
        "print(\"Falsos positivos: \", score[2])\n",
        "print(\"Verdadeiros negativos: \", score[3])\n",
        "print(\"Verdadeiros positivos: \", score[4])\n",
        "print(\"Precisao: \", score[5])\n",
        "print(\"Revocacao: \", score[6])"
      ],
      "execution_count": null,
      "outputs": [
        {
          "output_type": "stream",
          "text": [
            "Falsos negativos:  11.0\n",
            "Falsos positivos:  454.0\n",
            "Verdadeiros negativos:  565.0\n",
            "Verdadeiros positivos:  83.0\n",
            "Precisao:  0.15456238389015198\n",
            "Revocacao:  0.8829787373542786\n"
          ],
          "name": "stdout"
        }
      ]
    },
    {
      "cell_type": "code",
      "metadata": {
        "id": "LcMnFOuxwMOV",
        "colab_type": "code",
        "colab": {}
      },
      "source": [
        "model3.reset_states() "
      ],
      "execution_count": null,
      "outputs": []
    },
    {
      "cell_type": "code",
      "metadata": {
        "id": "7JMRstJa4z7J",
        "colab_type": "code",
        "colab": {}
      },
      "source": [
        ""
      ],
      "execution_count": null,
      "outputs": []
    }
  ]
}