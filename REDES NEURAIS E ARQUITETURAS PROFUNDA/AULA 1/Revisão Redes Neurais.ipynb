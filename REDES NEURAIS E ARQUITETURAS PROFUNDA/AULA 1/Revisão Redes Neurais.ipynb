{
 "cells": [
  {
   "cell_type": "markdown",
   "metadata": {},
   "source": [
    "# Revisão Redes Neurais"
   ]
  },
  {
   "cell_type": "markdown",
   "metadata": {},
   "source": [
    "**Definições**\n",
    "- **Neurônios**: Conjunto de pesos (ou parâmetros).\n",
    "- **Camadas**: Conjunto de neurônios independentes.\n",
    "- **Taxa de Aprendizado**: Controla o quão rápido o modelo se adapta ao problema.\n",
    "- **Batch**: Número de exemplos de treino utilizados em uma época.\n",
    "- **Épocas**: Controla o número de passadas completas por todo conjunto de treinamento.\n",
    "\n",
    "**Observações**\n",
    "- O termo _denso_ significa que todos neurônios estão conectados a todos neurônios da camada seguinte.\n",
    "- Quanto mais camadas, maior a capacidade do modelo aprender fronteiras de decisão complexas.\n",
    "- Quanto mais neurônios, mais detalhada fica a fronteira de decisão, maior a chance de _overfitting_ e _maior_ o tempo de treinamento.\n"
   ]
  },
  {
   "cell_type": "markdown",
   "metadata": {},
   "source": [
    "# Qual a taxa de aprendizado ideal?"
   ]
  },
  {
   "cell_type": "markdown",
   "metadata": {},
   "source": [
    "Uma boa estratégia é inciar com uma taxa de aprendizado alta e se o critério de treinamento (e.g. _training loss_ ) divergir, reduza para valores menores até que a divergência não seja observada."
   ]
  },
  {
   "cell_type": "markdown",
   "metadata": {},
   "source": [
    " <table>\n",
    "  <thead>\n",
    "    <tr>\n",
    "      <th>Valor Exemplo</th>\n",
    "      <th>Atualizações de Pesos</th>\n",
    "      <th>Tempo de Convergência</th>\n",
    "      <th>Direção do Mínimo Global</th>\n",
    "      <th>Número de Épocas</th>\n",
    "    </tr>\n",
    "  </thead>\n",
    "  <tbody>\n",
    "    <tr> \n",
    "      <td>0.00001</td>\n",
    "      <td>Pequeno</td>\n",
    "      <td>Lento</td>\n",
    "      <td>Subestima</td>\n",
    "      <td>Alto</td>\n",
    "    </tr>\n",
    "    <tr>\n",
    "      <td>10</td>\n",
    "      <td>Grande</td>\n",
    "      <td>Rápido</td>\n",
    "      <td>Superestima</td>\n",
    "      <td>Baixo</td>\n",
    "    </tr>\n",
    "  </tbody>\n",
    "</table>"
   ]
  },
  {
   "cell_type": "markdown",
   "metadata": {},
   "source": [
    "# Qual o tamanho do _batch_ (ou lote) ideal?"
   ]
  },
  {
   "cell_type": "markdown",
   "metadata": {},
   "source": [
    "$N$ = Número de amostras de treinamento<br>\n",
    "$B$ = Tamanho do batch<br>"
   ]
  },
  {
   "cell_type": "markdown",
   "metadata": {},
   "source": [
    " <table>\n",
    "  <thead>\n",
    "    <tr>\n",
    "      <th>Algoritmo de Aprendizado</th>\n",
    "      <th>Tamanho do Batch</th>\n",
    "      <th>Frequência de Atualização de Pesos</th>\n",
    "      <th>Tendência da Convergência</th>\n",
    "    </tr>\n",
    "  </thead>\n",
    "  <tbody>\n",
    "    <tr>\n",
    "      <td>Stochastic Gradient Descent</td>\n",
    "      <td>$1$</td>\n",
    "      <td>Alta</td>  \n",
    "      <td>Instável</td>\n",
    "    </tr>\n",
    "      <tr> \n",
    "      <td>Batch Gradient Descent</td>\n",
    "      <td>$N$</td>\n",
    "      <td>Baixa</td>\n",
    "      <td>Prematura</td>\n",
    "    </tr>\n",
    "    <tr>\n",
    "      <td>Mini-Batch Gradient Descent</td>\n",
    "      <td>$1 < B < N$</td>\n",
    "      <td>Moderada</td>\n",
    "      <td>Robusta</td>\n",
    "    </tr>\n",
    "  </tbody>\n",
    "</table>"
   ]
  },
  {
   "cell_type": "markdown",
   "metadata": {},
   "source": [
    "- Valores comuns para mini-batch são: 32, 64, 128\n",
    "- Caso o conjunto de treinamento não seja divisível pelo tamanho do mini-batch, o último mini-batch terá menos exemplos\n",
    "- É importante revisar as curvas de aprendizado de treinamento entre erro e tempo para diferentes valores de batch\n",
    "- Ajuste o tamanho do batch depois de todos os outros hiper-parâmetros."
   ]
  },
  {
   "cell_type": "markdown",
   "metadata": {},
   "source": [
    "# Qual o tamanho de épocas ideal?"
   ]
  },
  {
   "cell_type": "markdown",
   "metadata": {},
   "source": [
    "- Não há um valor ideal\n",
    "- O objetivo deste hiper-parâmetro é evitar que o algortimo fique treinando infinitamente e também evitar o _overfitting_ (vide <i>early stopping</i>)"
   ]
  },
  {
   "cell_type": "markdown",
   "metadata": {},
   "source": [
    "# Qual número de camadas é ideal?"
   ]
  },
  {
   "cell_type": "markdown",
   "metadata": {},
   "source": [
    "> Very simple. Just keep adding layers until the test error does not improve anymore.<br>\n",
    "> <a href=\"https://www.quora.com/Artificial-Neural-Networks/Artificial-Neural-Networks-How-can-I-estimate-the-number-of-neurons-and-layers/answer/Yoshua-Bengio\">Bengio, Yoshua - 2013</a>"
   ]
  },
  {
   "cell_type": "markdown",
   "metadata": {},
   "source": [
    " <table>\n",
    "  <thead>\n",
    "    <tr>\n",
    "      <th># Camadas Ocultas</th>\n",
    "      <th>Exemplo</th>\n",
    "      <th>Capacidade de representação</th>\n",
    "    </tr>\n",
    "  </thead>\n",
    "  <tbody>\n",
    "    <tr> \n",
    "      <td>0</td>\n",
    "      <td><a href=\"http://playground.tensorflow.org/#activation=tanh&batchSize=10&dataset=gauss&regDataset=reg-plane&learningRate=0.01&regularizationRate=0&noise=10&networkShape=&seed=0.80333&showTestData=false&discretize=true&percTrainData=80&x=true&y=true&xTimesY=false&xSquared=false&ySquared=false&cosX=false&sinX=false&cosY=false&sinY=false&collectStats=false&problem=classification&initZero=false&hideText=false\">Gaussian</a></td>\n",
    "      <td>Capaz de representar problemas linearmente separáveis</td>\n",
    "    </tr>\n",
    "    <tr>\n",
    "      <td>1</td>\n",
    "      <td><a href=\"http://playground.tensorflow.org/#activation=tanh&batchSize=10&dataset=circle&regDataset=reg-plane&learningRate=0.01&regularizationRate=0&noise=10&networkShape=4&seed=0.15366&showTestData=false&discretize=true&percTrainData=80&x=true&y=true&xTimesY=false&xSquared=false&ySquared=false&cosX=false&sinX=false&cosY=false&sinY=false&collectStats=false&problem=classification&initZero=false&hideText=false\">Circle</a></td>\n",
    "      <td>Capaz de aproximar qualquer <a href=\"https://en.wikipedia.org/wiki/Continuous_function\">função que faça um mapeamento continuo</a> de um espaço finito para outro</td>\n",
    "    </tr>\n",
    "    <tr>\n",
    "      <td>2</td> \n",
    "      <td><a href=\"http://playground.tensorflow.org/#activation=tanh&batchSize=10&dataset=xor&regDataset=reg-plane&learningRate=0.01&regularizationRate=0&noise=10&networkShape=3,3&seed=0.08973&showTestData=false&discretize=true&percTrainData=80&x=true&y=true&xTimesY=false&xSquared=false&ySquared=false&cosX=false&sinX=false&cosY=false&sinY=false&collectStats=false&problem=classification&initZero=false&hideText=false\">XOR</a></td>\n",
    "      <td>Capaz de representar uma fronteira de decisão arbitrária para uma acurácia arbitrária com funções de ativação racionais</td>\n",
    "    </tr>\n",
    "    <tr>\n",
    "      <td>2+</td>\n",
    "        <td><a href=\"http://playground.tensorflow.org/#activation=tanh&batchSize=10&dataset=spiral&regDataset=reg-plane&learningRate=0.01&regularizationRate=0&noise=20&networkShape=8,8,7,6,5,4&seed=0.62651&showTestData=false&discretize=true&percTrainData=80&x=true&y=true&xTimesY=false&xSquared=false&ySquared=false&cosX=false&sinX=false&cosY=false&sinY=false&collectStats=false&problem=classification&initZero=false&hideText=false\">Spiral</a></td>\n",
    "      <td>Capaz de aprender representações complexas entre camadas</td>\n",
    "    </tr>\n",
    "  </tbody>\n",
    "\n",
    "</table>\n"
   ]
  },
  {
   "cell_type": "markdown",
   "metadata": {},
   "source": [
    "# Qual número de neurônios é ideal?"
   ]
  },
  {
   "cell_type": "markdown",
   "metadata": {},
   "source": [
    "$N_h$ = Número de neurônios ocultos<br>\n",
    "$N_i$ = Número de neurônios de entrada<br>\n",
    "$N_o$ = Número de neurônios de saída<br>\n",
    "$N_s$ = Número de amostras no conjunto de treinamento<br>\n",
    "$\\alpha$ = Fator de multiplicação arbitrário (geralmente 2-10)<br>"
   ]
  },
  {
   "cell_type": "markdown",
   "metadata": {},
   "source": [
    "### Heurística 1 (Lane, 2015)"
   ]
  },
  {
   "cell_type": "markdown",
   "metadata": {},
   "source": [
    "$$N_h = \\frac{N_s}{(\\alpha*(N_i + N_o))}$$"
   ]
  },
  {
   "cell_type": "markdown",
   "metadata": {},
   "source": [
    "### Heurística 2 (Heaton, 2008)"
   ]
  },
  {
   "cell_type": "markdown",
   "metadata": {},
   "source": [
    "- $N_h = [N_i - N_o]$\n",
    "- $N_h = \\frac{2}{3}N_i + N_o$\n",
    "- $N_h < 2 * N_i$"
   ]
  },
  {
   "cell_type": "markdown",
   "metadata": {},
   "source": [
    "### Heurística 3 (Masters, 1993)"
   ]
  },
  {
   "cell_type": "markdown",
   "metadata": {},
   "source": [
    "$$N_h = \\sqrt{N_i * N_o}$$"
   ]
  },
  {
   "cell_type": "markdown",
   "metadata": {},
   "source": [
    "# Referências"
   ]
  },
  {
   "cell_type": "markdown",
   "metadata": {},
   "source": [
    "1. [The Number of Hidden Layers](https://www.heatonresearch.com/2017/06/01/hidden-layers.html)\n",
    "2. [Practical recommendations for gradient-based training of deep architectures](https://arxiv.org/abs/1206.5533)\n",
    "3. [How to choose the number of hidden layers and nodes in a feedforward neural network?](https://stats.stackexchange.com/a/136542)\n",
    "4. [Universal approximation theorem](https://en.wikipedia.org/wiki/Universal_approximation_theorem)\n",
    "5. [Difference between a batch and an epoch](https://machinelearningmastery.com/difference-between-a-batch-and-an-epoch)\n",
    "6. [A Gentle Introduction to Mini-Batch Gradient Descent and How to Configure Batch Size](https://machinelearningmastery.com/gentle-introduction-mini-batch-gradient-descent-configure-batch-size/)\n",
    "7. [Lista de bibliotecas para AutoML](https://github.com/eug/ai-resources#auto-machine-learning)\n"
   ]
  }
 ],
 "metadata": {
  "kernelspec": {
   "display_name": "Python 3",
   "language": "python",
   "name": "python3"
  },
  "language_info": {
   "codemirror_mode": {
    "name": "ipython",
    "version": 3
   },
   "file_extension": ".py",
   "mimetype": "text/x-python",
   "name": "python",
   "nbconvert_exporter": "python",
   "pygments_lexer": "ipython3",
   "version": "3.6.9"
  }
 },
 "nbformat": 4,
 "nbformat_minor": 4
}
