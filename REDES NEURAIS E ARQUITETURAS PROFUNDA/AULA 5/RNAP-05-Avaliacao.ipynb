{
 "cells": [
  {
   "cell_type": "markdown",
   "metadata": {
    "id": "K8CDQUj8yqpq"
   },
   "source": [
    "## MBA em Ciência de Dados\n",
    "# Redes Neurais e Arquiteturas Profundas\n",
    "\n",
    "### <span style=\"color:darkred\">Módulo V - Redes neurais auto-associativas e geradoras</span>\n",
    "\n",
    "\n",
    "### <span style=\"color:darkred\">Avaliação</span>\n",
    "\n",
    "Moacir Antonelli Ponti\n",
    "\n",
    "CeMEAI - ICMC/USP São Carlos\n",
    "\n",
    "---\n",
    "\n",
    "As respostas devem ser dadas no Moodle, use esse notebook apenas para gerar o código necessário para obter as respostas\n",
    "\n",
    "---"
   ]
  },
  {
   "cell_type": "markdown",
   "metadata": {
    "id": "xMJ4IFd7yqpt"
   },
   "source": [
    "### Questão 1)\n",
    "\n",
    "Autoencoders do tipo Overcomplete possuem dimensão latente superior a da entrada. Como garantir o aprendizado sem que haja uma cópia simples dos dados?\n",
    "\n",
    "(a) Utilizando mais camadas, projetando um Autoencoder Overcomplete Profundo que permita obter uma camada latente com maior qualidade<br>\n",
    "(b) Substituindo a função de custo de perda ou erro quadrático pela função de custo de entropia cruzada<br>\n",
    "(d) Utilizando normalização do tipo Batch ou Layer para que os dados sejam modificados ao longo da rede neural, assim evitando que haja uma cópia direta da entrada para o código<br>\n",
    "(d) Impondo uma restrição na projeção do código que penalize o uso de todas as dimensões do espaço latente e privilegie projeções esparsas para uma dada instância.<br>"
   ]
  },
  {
   "cell_type": "markdown",
   "metadata": {
    "id": "038CuS5syqqL"
   },
   "source": [
    "---\n",
    "\n",
    "### Questão 2)\n",
    "\n",
    "Considere uma arquitetura com dois elementos, organizada na forma encoder-decoder. O primeiro elemento, encoder, aprende a gerar uma camada latente com os parâmetros de distribuições de probabilidade, a partir da qual o segundo componente, decoder amostra exemplos a serem reconstruídos. Esse método é conhecido por:\n",
    "\n",
    " (a) Continuous Generalized Autoencoder<br>\n",
    " (b) Denoising Overcomplete Autoencoder<br>\n",
    " (c) Generative Adversarial Network<br>\n",
    " (d) Variational Autoencoder"
   ]
  },
  {
   "cell_type": "markdown",
   "metadata": {
    "id": "nJQ0-S3myqqL"
   },
   "source": [
    "---\n",
    "### Questão 3)\n",
    "\n",
    "Nas redes geradoras adversariais, todos os dados de treinamento pertencem a classe positiva, enquanto que todos os dados gerados a partir de uma amostragem aleatória de uma distribuição pertence à classe negativa. É correto afirmar sobre o método de aprendizado de redes geradoras adversariais (em sua formulação original):\n",
    "\n",
    " (a) O modelo discriminador é um classificador, que produz uma única perda utilizada para treinar a rede como um todo. Sendo um classificador o responsável pelo ajuste dos parâmetros, consideramos o aprendizado como supervisionado.<br>\n",
    " (b) O modelo gerador produz a perda utilizada para treinar a rede como um todo. O aprendizado é não-supervisionado pelo fato de que os dados do gerador são obtidos a partir de um vetor amostrado a partir de uma distribuição aleatória.<br>\n",
    " (c) O modelo discriminador (classificador) produz as perdas utilizadas para treinar a rede em associação com o gerador. Os rótulos são calculados não necessitando de anotação manual, sendo portanto não supervisionado.<br>\n",
    " (d) O modelo discriminador produz a perda utilizada para treinar a rede como um todo. O aprendizado é semi-supervisionado já que sabemos o rótulo das classes positivas.<br>\n",
    " \n"
   ]
  },
  {
   "cell_type": "markdown",
   "metadata": {
    "id": "C1sh5GgYyqqY"
   },
   "source": [
    "---\n",
    "\n",
    "### Questão 4)\n",
    "\n",
    "Carregue a base de dados `smarphone_activity_dataset.csv`, conforme abaixo, com uma divisão hold-out utilizando os 80% exemplos iniciais para treinamento e os restantes para teste.\n",
    "\n",
    "Projete um Autoencoder para produzir uma projeção em 2 dimensões, com as seguintes camadas:\n",
    "* Entrada (com as dimensões da base de dados)\n",
    "* Dropout de 0.3\n",
    "* Camada densa de 2 neurônios (código) e ativação linear\n",
    "* Camada densa de saída (com as dimensões da base de dados) e ativação tangente hiperbólica\n",
    "\n",
    "Inicialize as sementes `seed(1)` e `set_seed(2)` antes de instanciar o modelo, compilar e treinar.\n",
    "\n",
    "Utilize a função de custo mean absolute error (mae), otimizador Adam com taxa 0.01, batchsize 16 e treine por 30 épocas.\n",
    "\n",
    "Após o treinamento, obtenha um scatterplot do código de treinamento, e analise visualmente a distribuição das classes utilizando os 500 primeiros exemplos `:500`. Podemos identificar grupos com quais misturas de classes?\n",
    "\n",
    "(a) 2 grupos, classes: (1, 3 e 6); (2, 4 e 5) <br>\n",
    "(b) 3 grupos, classes: (1 e 3); (2); (4, 5 e 6) <br>\n",
    "(c) 4 grupos, classes: (1 e 3); (2); (4 e 5); (6)<br>\n",
    "(d) 4 grupos, classes: (1 e 2); (3); (4); (5 e 6) <br>\n"
   ]
  },
  {
   "cell_type": "code",
   "execution_count": 1,
   "metadata": {
    "id": "Rif40G6wST-s"
   },
   "outputs": [],
   "source": [
    "import numpy as np\n",
    "import matplotlib.pyplot as plt\n",
    "import tensorflow as tf\n",
    "import pandas as pd\n",
    "from tensorflow import keras\n",
    "from tensorflow.keras import layers\n",
    "from tensorflow.keras import models\n",
    "from numpy.random import seed\n",
    "from tensorflow.random import set_seed"
   ]
  },
  {
   "cell_type": "code",
   "execution_count": 2,
   "metadata": {
    "scrolled": true
   },
   "outputs": [
    {
     "data": {
      "text/html": [
       "<div>\n",
       "<style scoped>\n",
       "    .dataframe tbody tr th:only-of-type {\n",
       "        vertical-align: middle;\n",
       "    }\n",
       "\n",
       "    .dataframe tbody tr th {\n",
       "        vertical-align: top;\n",
       "    }\n",
       "\n",
       "    .dataframe thead th {\n",
       "        text-align: right;\n",
       "    }\n",
       "</style>\n",
       "<table border=\"1\" class=\"dataframe\">\n",
       "  <thead>\n",
       "    <tr style=\"text-align: right;\">\n",
       "      <th></th>\n",
       "      <th>feature_1</th>\n",
       "      <th>feature_2</th>\n",
       "      <th>feature_3</th>\n",
       "      <th>feature_4</th>\n",
       "      <th>feature_5</th>\n",
       "      <th>feature_6</th>\n",
       "      <th>feature_7</th>\n",
       "      <th>feature_8</th>\n",
       "      <th>feature_9</th>\n",
       "      <th>feature_10</th>\n",
       "      <th>...</th>\n",
       "      <th>feature_553</th>\n",
       "      <th>feature_554</th>\n",
       "      <th>feature_555</th>\n",
       "      <th>feature_556</th>\n",
       "      <th>feature_557</th>\n",
       "      <th>feature_558</th>\n",
       "      <th>feature_559</th>\n",
       "      <th>feature_560</th>\n",
       "      <th>feature_561</th>\n",
       "      <th>activity</th>\n",
       "    </tr>\n",
       "  </thead>\n",
       "  <tbody>\n",
       "    <tr>\n",
       "      <th>0</th>\n",
       "      <td>0.289</td>\n",
       "      <td>-0.0203</td>\n",
       "      <td>-0.133</td>\n",
       "      <td>-0.995</td>\n",
       "      <td>-0.983</td>\n",
       "      <td>-0.914</td>\n",
       "      <td>-0.995</td>\n",
       "      <td>-0.983</td>\n",
       "      <td>-0.924</td>\n",
       "      <td>-0.935</td>\n",
       "      <td>...</td>\n",
       "      <td>-0.299</td>\n",
       "      <td>-0.710</td>\n",
       "      <td>-0.1130</td>\n",
       "      <td>0.03040</td>\n",
       "      <td>-0.465</td>\n",
       "      <td>-0.0184</td>\n",
       "      <td>-0.841</td>\n",
       "      <td>0.180</td>\n",
       "      <td>-0.0586</td>\n",
       "      <td>5</td>\n",
       "    </tr>\n",
       "    <tr>\n",
       "      <th>1</th>\n",
       "      <td>0.278</td>\n",
       "      <td>-0.0164</td>\n",
       "      <td>-0.124</td>\n",
       "      <td>-0.998</td>\n",
       "      <td>-0.975</td>\n",
       "      <td>-0.960</td>\n",
       "      <td>-0.999</td>\n",
       "      <td>-0.975</td>\n",
       "      <td>-0.958</td>\n",
       "      <td>-0.943</td>\n",
       "      <td>...</td>\n",
       "      <td>-0.595</td>\n",
       "      <td>-0.861</td>\n",
       "      <td>0.0535</td>\n",
       "      <td>-0.00743</td>\n",
       "      <td>-0.733</td>\n",
       "      <td>0.7040</td>\n",
       "      <td>-0.845</td>\n",
       "      <td>0.180</td>\n",
       "      <td>-0.0543</td>\n",
       "      <td>5</td>\n",
       "    </tr>\n",
       "    <tr>\n",
       "      <th>2</th>\n",
       "      <td>0.280</td>\n",
       "      <td>-0.0195</td>\n",
       "      <td>-0.113</td>\n",
       "      <td>-0.995</td>\n",
       "      <td>-0.967</td>\n",
       "      <td>-0.979</td>\n",
       "      <td>-0.997</td>\n",
       "      <td>-0.964</td>\n",
       "      <td>-0.977</td>\n",
       "      <td>-0.939</td>\n",
       "      <td>...</td>\n",
       "      <td>-0.391</td>\n",
       "      <td>-0.760</td>\n",
       "      <td>-0.1190</td>\n",
       "      <td>0.17800</td>\n",
       "      <td>0.101</td>\n",
       "      <td>0.8090</td>\n",
       "      <td>-0.849</td>\n",
       "      <td>0.181</td>\n",
       "      <td>-0.0491</td>\n",
       "      <td>5</td>\n",
       "    </tr>\n",
       "    <tr>\n",
       "      <th>3</th>\n",
       "      <td>0.279</td>\n",
       "      <td>-0.0262</td>\n",
       "      <td>-0.123</td>\n",
       "      <td>-0.996</td>\n",
       "      <td>-0.983</td>\n",
       "      <td>-0.991</td>\n",
       "      <td>-0.997</td>\n",
       "      <td>-0.983</td>\n",
       "      <td>-0.989</td>\n",
       "      <td>-0.939</td>\n",
       "      <td>...</td>\n",
       "      <td>-0.117</td>\n",
       "      <td>-0.483</td>\n",
       "      <td>-0.0368</td>\n",
       "      <td>-0.01290</td>\n",
       "      <td>0.640</td>\n",
       "      <td>-0.4850</td>\n",
       "      <td>-0.849</td>\n",
       "      <td>0.182</td>\n",
       "      <td>-0.0477</td>\n",
       "      <td>5</td>\n",
       "    </tr>\n",
       "    <tr>\n",
       "      <th>4</th>\n",
       "      <td>0.277</td>\n",
       "      <td>-0.0166</td>\n",
       "      <td>-0.115</td>\n",
       "      <td>-0.998</td>\n",
       "      <td>-0.981</td>\n",
       "      <td>-0.990</td>\n",
       "      <td>-0.998</td>\n",
       "      <td>-0.980</td>\n",
       "      <td>-0.990</td>\n",
       "      <td>-0.942</td>\n",
       "      <td>...</td>\n",
       "      <td>-0.351</td>\n",
       "      <td>-0.699</td>\n",
       "      <td>0.1230</td>\n",
       "      <td>0.12300</td>\n",
       "      <td>0.694</td>\n",
       "      <td>-0.6160</td>\n",
       "      <td>-0.848</td>\n",
       "      <td>0.185</td>\n",
       "      <td>-0.0439</td>\n",
       "      <td>5</td>\n",
       "    </tr>\n",
       "  </tbody>\n",
       "</table>\n",
       "<p>5 rows × 562 columns</p>\n",
       "</div>"
      ],
      "text/plain": [
       "   feature_1  feature_2  feature_3  feature_4  feature_5  feature_6  \\\n",
       "0      0.289    -0.0203     -0.133     -0.995     -0.983     -0.914   \n",
       "1      0.278    -0.0164     -0.124     -0.998     -0.975     -0.960   \n",
       "2      0.280    -0.0195     -0.113     -0.995     -0.967     -0.979   \n",
       "3      0.279    -0.0262     -0.123     -0.996     -0.983     -0.991   \n",
       "4      0.277    -0.0166     -0.115     -0.998     -0.981     -0.990   \n",
       "\n",
       "   feature_7  feature_8  feature_9  feature_10  ...  feature_553  feature_554  \\\n",
       "0     -0.995     -0.983     -0.924      -0.935  ...       -0.299       -0.710   \n",
       "1     -0.999     -0.975     -0.958      -0.943  ...       -0.595       -0.861   \n",
       "2     -0.997     -0.964     -0.977      -0.939  ...       -0.391       -0.760   \n",
       "3     -0.997     -0.983     -0.989      -0.939  ...       -0.117       -0.483   \n",
       "4     -0.998     -0.980     -0.990      -0.942  ...       -0.351       -0.699   \n",
       "\n",
       "   feature_555  feature_556  feature_557  feature_558  feature_559  \\\n",
       "0      -0.1130      0.03040       -0.465      -0.0184       -0.841   \n",
       "1       0.0535     -0.00743       -0.733       0.7040       -0.845   \n",
       "2      -0.1190      0.17800        0.101       0.8090       -0.849   \n",
       "3      -0.0368     -0.01290        0.640      -0.4850       -0.849   \n",
       "4       0.1230      0.12300        0.694      -0.6160       -0.848   \n",
       "\n",
       "   feature_560  feature_561  activity  \n",
       "0        0.180      -0.0586         5  \n",
       "1        0.180      -0.0543         5  \n",
       "2        0.181      -0.0491         5  \n",
       "3        0.182      -0.0477         5  \n",
       "4        0.185      -0.0439         5  \n",
       "\n",
       "[5 rows x 562 columns]"
      ]
     },
     "execution_count": 2,
     "metadata": {},
     "output_type": "execute_result"
    }
   ],
   "source": [
    "df = pd.read_csv(\"smartphone_activity_dataset.csv\")\n",
    "df.head()"
   ]
  },
  {
   "cell_type": "code",
   "execution_count": 3,
   "metadata": {},
   "outputs": [],
   "source": [
    "rotulos = np.array(df['activity'])\n",
    "features = np.array(df.iloc[:, :-1])"
   ]
  },
  {
   "cell_type": "code",
   "execution_count": 4,
   "metadata": {},
   "outputs": [
    {
     "name": "stdout",
     "output_type": "stream",
     "text": [
      "8239\n",
      "2059\n"
     ]
    }
   ],
   "source": [
    "perc_train = 0.8\n",
    "\n",
    "n_train = int(features.shape[0]*perc_train)\n",
    "n_test = int(features.shape[0]*(1-perc_train))\n",
    "print(n_train)\n",
    "print(n_test)\n",
    "\n",
    "x_train = features[:n_train,:]\n",
    "y_train = rotulos[:n_train]\n",
    "\n",
    "x_test = features[n_train:,:]\n",
    "y_test = rotulos[n_train:]"
   ]
  },
  {
   "cell_type": "code",
   "execution_count": 5,
   "metadata": {},
   "outputs": [],
   "source": [
    "### defina autoencoder"
   ]
  },
  {
   "cell_type": "markdown",
   "metadata": {
    "id": "ifQGbqS05Rts"
   },
   "source": [
    "---\n",
    "\n",
    "### Questão 5)\n",
    "\n",
    "Ainda utilizando a base de dados `smarphone_activity_dataset.csv` com a mesma divisão entre treinamento e teste, projete um Autoencoder profundo para produzir uma projeção em 50 dimensões, com as seguintes camadas:\n",
    "* Entrada (com as dimensões da base de dados)\n",
    "* 2 Camadas densas com 128 neurônios, ativação tanh\n",
    "* Dropout de 0.25\n",
    "* 1 Camada densa com 50 neurônios, ativação tahn, name='code'\n",
    "* 2 Camadas densas com 128 neurônios, ativação tanh\n",
    "* Camada densa de saída (com as dimensões da base de dados), ativação tanh\n",
    "\n",
    "Inicialize as sementes `seed(1)` e `set_seed(2)` antes de instanciar o modelo, compilar e treinar.\n",
    "\n",
    "Utilize a função de custo mean squared error (mse), otimizador Adam com taxa 0.001, batchsize 16 e treine por 50 épocas.\n",
    "\n",
    "Após o treinamento, calcule o valor final da função de custo para os dados de treinamento. Obtenha o código de 50 dimensões para o conjunto de treinamento e de teste. Treine um classificador svm (utilizando o pacote `SVC` do `sklearn`), utilizando parâmetro C=0.5 e `random_state=1`, utilizando o código de treinamento, e calcule a acurácia no código do conjunto de teste.\n",
    "\n",
    "Os valores observados de MSE de treinamento, e acurácia de classificação SVM no teste estão no intervalo:\n",
    "\n",
    "(a) MSE =[0.10, 0.25]; Acurácia = [0.70, 0.75] <br>\n",
    "(b) MSE =[0.10, 0.25]; Acurácia = [0.75, 0.77] <br>\n",
    "(c) MSE =[0.01, 0.05]; Acurácia = [0.80, 0.86] <br>\n",
    "(d) MSE =[0.00, 0.04]; Acurácia = [0.88, 0.95] <br>\n",
    "\n",
    " **Justificativa**: Ver código abaixo."
   ]
  },
  {
   "cell_type": "code",
   "execution_count": 1,
   "metadata": {},
   "outputs": [],
   "source": [
    "## projete e execute autoencoder"
   ]
  },
  {
   "cell_type": "code",
   "execution_count": 2,
   "metadata": {},
   "outputs": [],
   "source": [
    "## exiba perda de treinamento"
   ]
  },
  {
   "cell_type": "code",
   "execution_count": 3,
   "metadata": {},
   "outputs": [],
   "source": [
    "## obtenha códigos"
   ]
  },
  {
   "cell_type": "code",
   "execution_count": 4,
   "metadata": {},
   "outputs": [],
   "source": [
    "## treine e teste classificador"
   ]
  }
 ],
 "metadata": {
  "accelerator": "GPU",
  "colab": {
   "collapsed_sections": [],
   "name": "RNAP-04-Avaliacao_solucoes.ipynb",
   "provenance": []
  },
  "kernelspec": {
   "display_name": "Python 3",
   "language": "python",
   "name": "python3"
  },
  "language_info": {
   "codemirror_mode": {
    "name": "ipython",
    "version": 3
   },
   "file_extension": ".py",
   "mimetype": "text/x-python",
   "name": "python",
   "nbconvert_exporter": "python",
   "pygments_lexer": "ipython3",
   "version": "3.8.5"
  }
 },
 "nbformat": 4,
 "nbformat_minor": 1
}
