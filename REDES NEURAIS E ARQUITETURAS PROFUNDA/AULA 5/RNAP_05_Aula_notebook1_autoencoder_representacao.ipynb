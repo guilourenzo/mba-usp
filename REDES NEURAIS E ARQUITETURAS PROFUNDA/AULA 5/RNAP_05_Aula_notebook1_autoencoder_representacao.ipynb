{
 "cells": [
  {
   "cell_type": "markdown",
   "metadata": {
    "id": "aTFri0e0U30D"
   },
   "source": [
    "## MBA em Ciência de Dados\n",
    "# Redes Neurais e Arquiteturas Profundas\n",
    "\n",
    "### <span style=\"color:darkred\">Módulo 5 - Redes neurais auto-associativas e geradoras\n",
    "</span>\n",
    "\n",
    "#### <span style=\"color:darkred\">**Parte 1: Autoencoders para Aprendizado de Representações**</span>\n",
    "\n",
    "Moacir Antonelli Ponti\n",
    "\n",
    "CeMEAI - ICMC/USP São Carlos\n",
    "\n",
    "---"
   ]
  },
  {
   "cell_type": "code",
   "execution_count": 1,
   "metadata": {
    "id": "Qrrh8BDClsBp"
   },
   "outputs": [],
   "source": [
    "import numpy as np\n",
    "import matplotlib.pyplot as plt\n",
    "import tensorflow as tf\n",
    "from numpy.random import seed\n",
    "from tensorflow.random import set_seed\n",
    "from tensorflow import keras\n",
    "from tensorflow.keras import layers\n",
    "\n",
    "from keras.datasets import fashion_mnist"
   ]
  },
  {
   "cell_type": "markdown",
   "metadata": {
    "id": "UcwcXH7rvCkp"
   },
   "source": [
    "Carregando a base de dados \"Fashion MNIST\"\n"
   ]
  },
  {
   "cell_type": "code",
   "execution_count": 2,
   "metadata": {
    "id": "p4HSf5-mu642"
   },
   "outputs": [],
   "source": [
    "(x_train, y_train), (x_test, y_test) = fashion_mnist.load_data()"
   ]
  },
  {
   "cell_type": "code",
   "execution_count": 3,
   "metadata": {
    "colab": {
     "base_uri": "https://localhost:8080/",
     "height": 73
    },
    "id": "7CzlZP4bqJTr",
    "outputId": "0de1c66e-38ad-4cc6-ef2a-957a41fe3e9d"
   },
   "outputs": [
    {
     "name": "stdout",
     "output_type": "stream",
     "text": [
      "Dataset size:\n",
      "60000 train samples\n",
      "10000 test samples\n"
     ]
    }
   ],
   "source": [
    "# os pixels das imagens sao reescalados para melhor processamento\n",
    "# em particular divide-se por 255 para que os valores fiquem entre 0 e 1\n",
    "x_train = x_train.astype('float32') / 255.0\n",
    "x_test = x_test.astype('float32') / 255.0\n",
    "print('Dataset size:')\n",
    "print(x_train.shape[0], 'train samples')\n",
    "print(x_test.shape[0], 'test samples')\n",
    "\n",
    "img_rows, img_cols = x_train.shape[1], x_train.shape[2]\n",
    "input_shape = (img_rows, img_cols, 1, )\n",
    "n_classes = 10"
   ]
  },
  {
   "cell_type": "markdown",
   "metadata": {
    "id": "5ed8Ant-jREm"
   },
   "source": [
    "--- \n",
    "\n",
    "### Autoencoder convolucional\n",
    "\n",
    "Projetaremos de forma que Encoder e Decoder sejam simétricos\n",
    "\n",
    "Escolhemos a dimensionalidade latente como sendo 256\n",
    "\n",
    "Note que após o código, buscamos inverter as operações do encoder:\n",
    "* camada de projeção para maior dimensiondlidade\n",
    "* reshape para o formato de feature maps\n",
    "* upsampling (inverso de pooling)\n",
    "* convoluções transpostas farão o papel de inversão"
   ]
  },
  {
   "cell_type": "code",
   "execution_count": 4,
   "metadata": {
    "colab": {
     "base_uri": "https://localhost:8080/",
     "height": 612
    },
    "id": "_8Blf_vo7__R",
    "outputId": "bf6ac281-1409-4b04-995f-d86cac831c30"
   },
   "outputs": [
    {
     "name": "stdout",
     "output_type": "stream",
     "text": [
      "Model: \"functional_1\"\n",
      "_________________________________________________________________\n",
      "Layer (type)                 Output Shape              Param #   \n",
      "=================================================================\n",
      "input_1 (InputLayer)         [(None, 28, 28, 1)]       0         \n",
      "_________________________________________________________________\n",
      "conv2d (Conv2D)              (None, 14, 14, 32)        320       \n",
      "_________________________________________________________________\n",
      "conv2d_1 (Conv2D)            (None, 12, 12, 32)        9248      \n",
      "_________________________________________________________________\n",
      "max_pooling2d (MaxPooling2D) (None, 6, 6, 32)          0         \n",
      "_________________________________________________________________\n",
      "flatten (Flatten)            (None, 1152)              0         \n",
      "_________________________________________________________________\n",
      "dropout (Dropout)            (None, 1152)              0         \n",
      "_________________________________________________________________\n",
      "dense (Dense)                (None, 256)               295168    \n",
      "_________________________________________________________________\n",
      "dense_1 (Dense)              (None, 1152)              296064    \n",
      "_________________________________________________________________\n",
      "reshape (Reshape)            (None, 6, 6, 32)          0         \n",
      "_________________________________________________________________\n",
      "up_sampling2d (UpSampling2D) (None, 12, 12, 32)        0         \n",
      "_________________________________________________________________\n",
      "conv2d_transpose (Conv2DTran (None, 14, 14, 32)        9248      \n",
      "_________________________________________________________________\n",
      "conv2d_transpose_1 (Conv2DTr (None, 28, 28, 1)         289       \n",
      "=================================================================\n",
      "Total params: 610,337\n",
      "Trainable params: 610,337\n",
      "Non-trainable params: 0\n",
      "_________________________________________________________________\n"
     ]
    }
   ],
   "source": [
    "input_img = keras.layers.Input(shape=(input_shape))\n",
    "\n",
    "# encoder\n",
    "## conv.layers\n",
    "x1 = keras.layers.Conv2D(32, kernel_size=(3,3), strides=(2, 2), padding='same', activation='relu')(input_img)\n",
    "x2 = keras.layers.Conv2D(32, kernel_size=(3,3), padding='valid', activation='relu')(x1)\n",
    "x2p = keras.layers.MaxPooling2D(pool_size=(2, 2))(x2)\n",
    "## achatando\n",
    "x2f = keras.layers.Flatten()(x2p)\n",
    "x2f = keras.layers.Dropout(0.2)(x2f)\n",
    "#código\n",
    "z = keras.layers.Dense(256, activation='relu')(x2f)\n",
    "\n",
    "# decoder\n",
    "## projetando num espaco de maior dimensionalidade e redimensionando\n",
    "x2f_hat = keras.layers.Dense(1152, activation='relu')(z)\n",
    "x2r_hat = keras.layers.Reshape((6, 6, 32))(x2f_hat)\n",
    "## invertendo o pooling\n",
    "x2p_hat = keras.layers.UpSampling2D((2,2))(x2r_hat)\n",
    "## convolucao transpostas (inversas)\n",
    "x2_hat = keras.layers.Conv2DTranspose(32, kernel_size=(3,3), padding='valid', activation='relu')(x2p_hat)\n",
    "x1_hat = keras.layers.Conv2DTranspose(1, kernel_size=(3,3), strides=(2, 2), padding='same', activation='relu')(x2_hat)\n",
    "\n",
    "autoencoder = keras.models.Model(input_img, x1_hat)\n",
    "autoencoder.summary()"
   ]
  },
  {
   "cell_type": "markdown",
   "metadata": {
    "id": "BxVJlmjpvhb2"
   },
   "source": [
    "### Treinando o autoencoder"
   ]
  },
  {
   "cell_type": "code",
   "execution_count": 5,
   "metadata": {
    "colab": {
     "base_uri": "https://localhost:8080/",
     "height": 946
    },
    "id": "BTAFQykeqd93",
    "outputId": "e9a47397-3bc5-4520-fb39-ef0d755e1ac7"
   },
   "outputs": [
    {
     "name": "stdout",
     "output_type": "stream",
     "text": [
      "Epoch 1/25\n",
      "1875/1875 [==============================] - 4s 2ms/step - loss: 0.0412\n",
      "Epoch 2/25\n",
      "1875/1875 [==============================] - 4s 2ms/step - loss: 0.0258\n",
      "Epoch 3/25\n",
      "1875/1875 [==============================] - 5s 2ms/step - loss: 0.0224\n",
      "Epoch 4/25\n",
      "1875/1875 [==============================] - 5s 2ms/step - loss: 0.0206\n",
      "Epoch 5/25\n",
      "1875/1875 [==============================] - 4s 2ms/step - loss: 0.0193\n",
      "Epoch 6/25\n",
      "1875/1875 [==============================] - 4s 2ms/step - loss: 0.0184\n",
      "Epoch 7/25\n",
      "1875/1875 [==============================] - 5s 3ms/step - loss: 0.0178\n",
      "Epoch 8/25\n",
      "1875/1875 [==============================] - 5s 3ms/step - loss: 0.0172\n",
      "Epoch 9/25\n",
      "1875/1875 [==============================] - 4s 2ms/step - loss: 0.0168\n",
      "Epoch 10/25\n",
      "1875/1875 [==============================] - 4s 2ms/step - loss: 0.0164\n",
      "Epoch 11/25\n",
      "1875/1875 [==============================] - 5s 2ms/step - loss: 0.0160\n",
      "Epoch 12/25\n",
      "1875/1875 [==============================] - 4s 2ms/step - loss: 0.0157\n",
      "Epoch 13/25\n",
      "1875/1875 [==============================] - 4s 2ms/step - loss: 0.0154\n",
      "Epoch 14/25\n",
      "1875/1875 [==============================] - 4s 2ms/step - loss: 0.0152\n",
      "Epoch 15/25\n",
      "1875/1875 [==============================] - 5s 2ms/step - loss: 0.0149\n",
      "Epoch 16/25\n",
      "1875/1875 [==============================] - 4s 2ms/step - loss: 0.0147\n",
      "Epoch 17/25\n",
      "1875/1875 [==============================] - 4s 2ms/step - loss: 0.0145\n",
      "Epoch 18/25\n",
      "1875/1875 [==============================] - 4s 2ms/step - loss: 0.0143\n",
      "Epoch 19/25\n",
      "1875/1875 [==============================] - 5s 2ms/step - loss: 0.0142\n",
      "Epoch 20/25\n",
      "1875/1875 [==============================] - 4s 2ms/step - loss: 0.0140\n",
      "Epoch 21/25\n",
      "1875/1875 [==============================] - 4s 2ms/step - loss: 0.0139\n",
      "Epoch 22/25\n",
      "1875/1875 [==============================] - 4s 2ms/step - loss: 0.0137\n",
      "Epoch 23/25\n",
      "1875/1875 [==============================] - 4s 2ms/step - loss: 0.0136\n",
      "Epoch 24/25\n",
      "1875/1875 [==============================] - 4s 2ms/step - loss: 0.0135\n",
      "Epoch 25/25\n",
      "1875/1875 [==============================] - 4s 2ms/step - loss: 0.0133\n"
     ]
    }
   ],
   "source": [
    "seed(1)\n",
    "set_seed(2)\n",
    "\n",
    "epochs = 25\n",
    "batch_size=32\n",
    "\n",
    "autoencoder.compile(loss='mse',\n",
    "              optimizer=keras.optimizers.SGD(lr=0.01, momentum=0.95))\n",
    "\n",
    "hist_ae = autoencoder.fit(x_train, x_train, batch_size=batch_size, epochs=epochs)"
   ]
  },
  {
   "cell_type": "code",
   "execution_count": 6,
   "metadata": {
    "id": "658V3N4Lw5t-"
   },
   "outputs": [],
   "source": [
    "# obtem as reconstrucoes para o conjunto de teste\n",
    "decoded_imgs = autoencoder.predict(x_test)"
   ]
  },
  {
   "cell_type": "code",
   "execution_count": 7,
   "metadata": {
    "colab": {
     "base_uri": "https://localhost:8080/",
     "height": 197
    },
    "id": "wF2oWKWQw7VO",
    "outputId": "2dbd2730-b843-4dc7-c01d-6cc21a971b84"
   },
   "outputs": [
    {
     "data": {
      "image/png": "[encoded data removed]",
      "text/plain": [
       "<Figure size 1008x288 with 30 Axes>"
      ]
     },
     "metadata": {
      "needs_background": "light",
      "tags": []
     },
     "output_type": "display_data"
    }
   ],
   "source": [
    "n=15\n",
    "plt.figure(figsize=(14, 4))\n",
    "for i in range(n):\n",
    "    ax = plt.subplot(2, n, i+1)\n",
    "    plt.imshow(x_test[i].reshape(28, 28))\n",
    "    plt.gray()\n",
    "    ax.get_xaxis().set_visible(False)\n",
    "    ax.get_yaxis().set_visible(False)\n",
    "\n",
    "    # display reconstruction\n",
    "    ax = plt.subplot(2, n, i+n+1)\n",
    "    plt.imshow(decoded_imgs[i].reshape(28, 28))\n",
    "    plt.gray()\n",
    "    ax.get_xaxis().set_visible(False)\n",
    "    ax.get_yaxis().set_visible(False)\n",
    "    \n",
    "plt.show()    "
   ]
  },
  {
   "cell_type": "markdown",
   "metadata": {
    "id": "N8n7f3pakV2b"
   },
   "source": [
    "---\n",
    "\n",
    "Supondo um cenário em que tenhamos muitos exemplos não rotulados:\n",
    "* aprendemos as características de forma não supervisionada\n",
    "* utilizamos as características treinando um classificador externo com poucos exemplos rotulados\n",
    "\n",
    "Para isso, fazemos com que a saída seja a camada do código, e obtemos as predições para o treinamento e o teste\n",
    "\n",
    "Aqui vamos supor um subconjunto pequeno de dados rotulados"
   ]
  },
  {
   "cell_type": "code",
   "execution_count": 8,
   "metadata": {
    "colab": {
     "base_uri": "https://localhost:8080/",
     "height": 54
    },
    "id": "ht9DvNOJxKRu",
    "outputId": "5da181bc-acaa-4961-bc1d-d6950c7a1363"
   },
   "outputs": [
    {
     "name": "stdout",
     "output_type": "stream",
     "text": [
      "Training data size =  (300, 256)\n",
      "Testing data size =  (10000, 256)\n"
     ]
    }
   ],
   "source": [
    "# quantidade de dados rotulados\n",
    "n_treinamento = 300\n",
    "\n",
    "code_model = keras.models.Model(inputs=autoencoder.input, outputs=autoencoder.get_layer('dense').output)\n",
    "code_train = np.asarray(code_model.predict(x_train[:n_treinamento]))\n",
    "code_test  = np.asarray(code_model.predict(x_test))\n",
    "print(\"Training data size = \", code_train.shape)\n",
    "print(\"Testing data size = \", code_test.shape)"
   ]
  },
  {
   "cell_type": "code",
   "execution_count": 9,
   "metadata": {
    "colab": {
     "base_uri": "https://localhost:8080/",
     "height": 110
    },
    "id": "I2c1pJUQxL5A",
    "outputId": "f4d65048-3802-4c1e-e8cc-dc7d56937c0e"
   },
   "outputs": [
    {
     "name": "stdout",
     "output_type": "stream",
     "text": [
      "Treinando SVM com ~30 exemplos por classe...\n"
     ]
    },
    {
     "data": {
      "text/plain": [
       "SVC(C=10, break_ties=False, cache_size=200, class_weight=None, coef0=0.0,\n",
       "    decision_function_shape='ovr', degree=3, gamma='scale', kernel='rbf',\n",
       "    max_iter=-1, probability=False, random_state=None, shrinking=True,\n",
       "    tol=0.001, verbose=False)"
      ]
     },
     "execution_count": 9,
     "metadata": {
      "tags": []
     },
     "output_type": "execute_result"
    }
   ],
   "source": [
    "from sklearn import svm\n",
    "\n",
    "print('Treinando SVM com ~%d exemplos por classe...' % (n_treinamento//n_classes))\n",
    "clf = svm.SVC(C=10)\n",
    "clf.fit(code_train, y_train[:n_treinamento])"
   ]
  },
  {
   "cell_type": "code",
   "execution_count": 10,
   "metadata": {
    "colab": {
     "base_uri": "https://localhost:8080/",
     "height": 73
    },
    "id": "HdYxfJ0PxNeU",
    "outputId": "59ba2899-8d96-4c20-8da1-2f1514bf5577"
   },
   "outputs": [
    {
     "name": "stdout",
     "output_type": "stream",
     "text": [
      "Calculando score...\n",
      "\n",
      "score: 0.7833\n"
     ]
    }
   ],
   "source": [
    "print('Calculando score...')\n",
    "score = clf.score(code_test, y_test)\n",
    "print('\\nscore: ' + str(score))"
   ]
  },
  {
   "cell_type": "code",
   "execution_count": 10,
   "metadata": {
    "id": "EIAmvGcnsBlt"
   },
   "outputs": [],
   "source": []
  }
 ],
 "metadata": {
  "accelerator": "GPU",
  "colab": {
   "collapsed_sections": [],
   "name": "RNAP-05-Aula_notebook1_autoencoder_representacao.ipynb",
   "provenance": []
  },
  "kernelspec": {
   "display_name": "Python 3",
   "language": "python",
   "name": "python3"
  },
  "language_info": {
   "codemirror_mode": {
    "name": "ipython",
    "version": 3
   },
   "file_extension": ".py",
   "mimetype": "text/x-python",
   "name": "python",
   "nbconvert_exporter": "python",
   "pygments_lexer": "ipython3",
   "version": "3.8.5"
  }
 },
 "nbformat": 4,
 "nbformat_minor": 1
}
