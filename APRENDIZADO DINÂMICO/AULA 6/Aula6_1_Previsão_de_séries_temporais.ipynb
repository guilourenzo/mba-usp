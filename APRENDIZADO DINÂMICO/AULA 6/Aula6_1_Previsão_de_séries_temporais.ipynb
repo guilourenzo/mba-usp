{
 "cells": [
  {
   "cell_type": "markdown",
   "metadata": {
    "slideshow": {
     "slide_type": "-"
    }
   },
   "source": [
    "# Previsão de séries temporais: Método Theta e expansões\n",
    "\n",
    "por **Cibele Russo**\n",
    "\n",
    "\n"
   ]
  },
  {
   "cell_type": "markdown",
   "metadata": {
    "slideshow": {
     "slide_type": "slide"
    }
   },
   "source": [
    "Baseado em\n",
    "\n",
    "- Assimakopoulos, V., & Nikolopoulos, K. (2000). The theta model: a decomposition approach to forecasting. International Journal of forecasting, 16(4), 521-530.\n",
    "\n",
    "Implementações:\n",
    "\n",
    "- https://github.com/MinhDg00/theta/tree/master/src (em Python)\n",
    "\n",
    "- https://cran.r-project.org/web/packages/forecast/forecast.pdf (em R)\n",
    "\n",
    "- https://cran.r-project.org/web/packages/forecTheta/forecTheta.pdf (em R)\n",
    "\n",
    "Leituras adicionais:\n",
    "\n",
    "- Fiorucci, J. A., Pellegrini, T. R., Louzada, F., Petropoulos, F., & Koehler, A. B. (2016). Models for optimising the theta method and their relationship to state space models. International Journal of Forecasting, 32(4), 1151-1161. Disponível em https://www.sciencedirect.com/science/article/pii/S0169207016300243. Acessado em 06/08/2020.\n",
    "\n",
    "- Fiorucci, J. A. (2016). Time series forecasting:advances on Theta method. Tese de doutorado. Disponível em https://repositorio.ufscar.br/bitstream/handle/ufscar/7399/TeseJAF.pdf?sequence=1&isAllowed=y. Acessado em 06/08/2020.\n",
    "\n",
    "- Pellegrini, T. R. Uma avaliação de métodos de previsão aplicados à grandes quantidades de séries temporais univariadas. Dissertação de mestrado. Universidade Federal de São Carlos. 2012. Disponível em https://repositorio.ufscar.br/bitstream/handle/ufscar/4563/4757.pdf?sequence=1&isAllowed=y. Acessado em 06/08/2020.\n",
    "\n",
    "- Hyndman, R. J., Koehler, A. B., Snyder, R. D., & Grose, S. (2002). A state space framework for automatic forecasting using exponential smoothing methods. International Journal of forecasting, 18(3), 439-454.\n",
    "\n",
    "\n"
   ]
  },
  {
   "cell_type": "markdown",
   "metadata": {
    "slideshow": {
     "slide_type": "slide"
    }
   },
   "source": [
    "## Método Theta\n",
    "\n",
    "- O método Theta é simples e preciso para se fazer previsão (forecasting) em séries temporais.\n",
    "\n",
    "\n",
    "- Premiado na Competição M3 de forecasting https://en.wikipedia.org/wiki/Makridakis_Competitions\n",
    "\n",
    "\n",
    "- Suposição: A série é não-sazonal ou dessazonalizada\n",
    "\n",
    "\n",
    "- Tem relação com o método de Suavização exponencial simples (SES)\n",
    "\n",
    "\n",
    "**Resumo do Metodo Theta**\n",
    "\n",
    "\n",
    "1. O método decompõe a série temporal original em duas novas linhas através dos chamados coeficientes Theta, que são aplicados à segunda diferença dos dados. Em outras palavras, o processo de decomposição tem a vantagem de explorar informações nos dados que geralmente não podem ser capturados e modelados completamente através da extrapolação da série temporal original. \n",
    "\n",
    "\n",
    "3. As chamadas Linhas-Theta podem ser consideradas como novas séries temporais e são extrapoladas separadamente usando um método de previsão apropriado. \n",
    "\n",
    "\n",
    "4. Concluída a extrapolação de cada Linha Theta, a recomposição ocorre por meio de um esquema de combinação, a fim de calcular as previsões pontuais da série temporal original. \n",
    "\n",
    "\n",
    "5. A combinação das Linhas Theta é considerada para a previsão.\n",
    "\n",
    "\n"
   ]
  },
  {
   "cell_type": "markdown",
   "metadata": {},
   "source": [
    "Os passos do algoritmo para a implementação (Pellegrini, 2012) são\n",
    "\n",
    "\n",
    "1. **Teste de Sazonalidade**: Teste cada série temporal para verificar a existência de comportamento sazonal via teste para a função de autocorrelação, com lag de um ano para séries anuais, lag de 12 meses para séries mensais e lag de 4 meses para séries trimetrais.  \n",
    "\n",
    "    De uma forma geral, a série é considerada sazonal se\n",
    "    \n",
    "    $$|r_m| > q_{1-a/2}\\sqrt{\\displaystyle\\frac{1+2\\sum_{i=1}^{m-1}r_i^2}{n}}$$ \n",
    "    \n",
    "    em que $r_k$ é a função e autocorrelação de lag $k$, $m$ é o número de períodos do ciclo sazonal (por exemplo, 12 meses em uma sazonalidade anual), $n$ é o tamanho amostral, $q$ é o quantil da distribuição normal e $(1-a/2)$ é o nível de confiança do teste. Se a série for identificada como sazonal, é necessário fazer uma decomposição para eliminar a sazonalidade.  \n",
    "\n",
    "\n",
    "2. **Dessazonalização**: Dessazonalize as séries temporais identificadas no passo 1 através do método de decomposição clássica (multiplicativo).\n",
    "\n",
    "\n",
    "3. **Decomposição**: Cada série temporal é decomposta em duas linhas-Theta, $Z_t(0)$ e $Z_t(2)$.\n",
    "\n",
    "\n",
    "4. **Extrapolação**: $Z_t(0)$ e $Z_t(2)$ são extrapoladas respectivamente através do modelo de regressão linear e do modelo de alisamento exponencial simples.\n",
    "\n",
    "\n",
    "5. **Combinação**: As previsões produzidas por $\\widehat{Z}_{t+h}(0)$ e $\\widehat{Z}_{t+h}(2)$ são combinadas a partir da média aritmética.\n",
    "\n",
    "\n",
    "6. **Resazonalização**: As previsões do passo anterior são resazonalizadas resultando nas previsões finais.\n"
   ]
  },
  {
   "cell_type": "markdown",
   "metadata": {},
   "source": [
    "## O Método Theta \n",
    "\n",
    "\n",
    "O método Theta é baseado no conceito de modificação das curvaturas locais da série temporal.   Esta  mudança  é  obtida  a  partir  de  um  coeficiente,  denominado  coeficiente Theta,  denotado  pela  letra  grega  $\\theta$. \n",
    "\n",
    "\n",
    "Originalmente, Assimakopoulos & Nikolopoulos (2000) propuseram a Linha Theta como a solução da equação\n",
    "\n",
    "$$\\Delta^2 Z_t(\\theta) = \\theta \\Delta^2 Y_t, t=3,\\ldots,n$$\n",
    "\n",
    "\n",
    "em que \n",
    "\n",
    "$Y_1,\\ldots, Y_n$ é a série original (não sazonal ou dessazonalizada) e $\\Delta$ é o operador diferença \n",
    "\n",
    "$$\\Delta Z_t = Z_t - Z_{t-1}.$$\n",
    "\n",
    "Os valores iniciais de $Z_1$ e $Z_2$ são obtidos minimizando\n",
    "\n",
    "$$\\sum_{t=1}^{n} [Y_t - Z_t(\\theta)]^2$$\n",
    "\n",
    "Entretanto, uma solução analítica para calcular $Z(\\theta)$ é dada por\n",
    "\n",
    "$$Z_t(\\theta) = \\theta Y_t + (1-\\theta)(A_n + B_n t), \\ t=1,\\ldots, n$$\n",
    "\n",
    "em que $A_n$ e $B_n$ são coeficientes de mínimos quadrados de um modelo de regressão linear de $Y_1,\\ldots, Y_n$ contra $1,\\ldots,n$ (as expressões são dadas em Fiorucci (2016))."
   ]
  },
  {
   "cell_type": "markdown",
   "metadata": {
    "slideshow": {
     "slide_type": "slide"
    }
   },
   "source": [
    "## Generalizações para o Método Theta "
   ]
  },
  {
   "cell_type": "markdown",
   "metadata": {},
   "source": [
    "- Existem algumas propostas de generalização do Método Theta na literatura\n",
    "\n",
    "- Modelos para otimizar o Método Theta são apresentados por Fiorucci et. al (2016)\n",
    "\n",
    "### Modelo Theta Otimizado\n",
    "\n",
    "- Algumas adaptações são feitas e o modelo é reescrito como um modelo de espaço de estado (Fioruci et. al, 2016)\n",
    "\n",
    "$\\begin{array}{lll}\n",
    "Y_t &=& \\mu_t + \\epsilon_t,\\\\\n",
    "\\mu_t &= & {{l}}_{t-1} + \\left(1-\\displaystyle{\\frac{1}{\\theta}}\\right) \\left\\{(1-\\alpha)^{t-1} A_n + \\left[\\displaystyle\\frac{1-(1-\\alpha)^t}{\\alpha}\\right] B_n\\right\\},\\\\\n",
    "{l}_t &=& \\alpha Y_t + (1-\\alpha){l}_{t-1}\n",
    "\\end{array}$\n",
    "\n",
    "com parâmetros ${l}_0 \\in \\mathbb{R}$, $\\alpha\\in(0,1)$ e $\\theta\\in[1,\\infty]$.\n",
    "\n",
    "\n"
   ]
  },
  {
   "cell_type": "markdown",
   "metadata": {},
   "source": [
    "A previsão pra $h$ passos à frente com origem em n é dada por\n",
    "\n",
    "$\\begin{array}{lll}\\widehat{Y}_{n+h|n} &=& E[Y_{n+h}|Y_1,\\ldots,Y_n]\\\\\n",
    "&=&{l}_n + \\left(\\displaystyle 1-\\frac{1}{\\theta}\\right)\\times \\\\\n",
    "&& \\left\\{(1-\\alpha)^n A_n + \\left[(h-1)+\\displaystyle\\frac{1-(1-\\alpha)^{n+1}}{\\alpha}\\right] B_n\\right\\}\\end{array}$\n",
    "\n",
    "Além disso, é possível obter um intervalo de predição com nível de confiança de $(1-a)\\%$\n",
    "\n",
    "$\\widehat{Y}_{n+h|n} \\pm q_{1-a/2}\\sqrt{[1+(h-1)\\alpha^2]\\sigma^2}$.\n",
    "\n",
    "Se $\\theta = 2$ é possível mostrar que este método produz as mesmas previsões do método usual."
   ]
  },
  {
   "cell_type": "markdown",
   "metadata": {},
   "source": [
    "\n",
    "### Modelo Theta Otimizado dinâmico\n",
    "\n",
    "- Ver Fiorucci et al. (2016)\n",
    "\n",
    "- $A_n$ e $B_n$, que antes eram considerados coeficientes fixos, agora são considerados funções dinâmicas, isto é, para atualizar do estado $t$ para o estado $t+1$ consideramos somente a informação prévia $Y_1,\\ldots, Y_t$ para calcular $A_t$ e $B_t$, e então usamos esses termos no lugar de $A_n$ e $B_n$.\n",
    "\n",
    "Assim, \n",
    "\n",
    "\n",
    "$\\begin{array}{lll}\\widehat{Y}_{t+1|t} &=& {l}_t + \\left(\\displaystyle 1-\\frac{1}{\\theta}\\right)\\times \\\\\n",
    "&& \\left\\{(1-\\alpha)^t A_t + \\left[\\displaystyle\\frac{1-(1-\\alpha)^{t+1}}{\\alpha}\\right] B_t\\right\\}\\end{array}$\n",
    "\n",
    "Então, assumindo erros aditivos um passo à frente, temos\n",
    "\n",
    "$\\begin{array}{lll}\n",
    "Y_t &=& \\mu_t + \\epsilon_t,\\\\\n",
    "\\mu_t &= & {l}_{t-1} + \\left(1-\\displaystyle{\\frac{1}{\\theta}}\\right) \\left\\{(1-\\alpha)^{t-1} A_{t-1} + \\left[\\displaystyle\\frac{1-(1-\\alpha)^t}{\\alpha}\\right] B_{t-1}\\right\\}\\\\\n",
    "{l}_t &=&\\alpha Y_t + (1-a){l}_{t-1}.\\end{array}$\n",
    "\n",
    "\n",
    "As expressões para $A_t$, $B_t$, tal como valores iniciais podem ser vistas em Fiorucci et al. (2016)."
   ]
  },
  {
   "cell_type": "markdown",
   "metadata": {},
   "source": [
    "## Aplicação do Método Theta em Python"
   ]
  },
  {
   "cell_type": "code",
   "execution_count": 4,
   "metadata": {},
   "outputs": [],
   "source": [
    "# Implement standard Theta method of Assimakopoulos and Nikolopoulos (2000)\n",
    "# Fonte https://github.com/MinhDg00/theta/tree/master/src\n",
    "\n",
    "# This is Python implementation of thetaf() function in R by Prof. Hyndman \n",
    "# https://github.com/robjhyndman/forecast/blob/master/R/theta.R\n",
    "\n",
    "# The standard theta method of Assimakopoulos and Nikolopoulos (2000) is equivalent to \n",
    "# simple exponential smoothing with drift. This is demonstrated in Hyndman and Billah (2003)\n",
    "\n",
    "# Step 1: Check for seasonality\n",
    "# Step 2: Decompose Seasonality if it is deemed seasonal\n",
    "# Step 3: Applying Theta Method\n",
    "# Step 4: Reseasonalize the resulting forecast\n",
    "\n",
    "\n",
    "import sys\n",
    "import numpy as np \n",
    "import pandas as pd \n",
    "import statsmodels as sm \n",
    "import warnings \n",
    "from scipy.stats import norm \n",
    "from statsmodels.tsa.stattools import acf \n",
    "from statsmodels.tsa.seasonal import seasonal_decompose\n",
    "from statsmodels.tsa.holtwinters import SimpleExpSmoothing\n",
    "from sklearn.linear_model import LinearRegression\n",
    "\n",
    "def sesThetaF(y, s_period , h = 10, level = np.array([90,95,99])):\n",
    "\t\"\"\"\n",
    "\t@param y : array-like time series data\n",
    "\t@param s_period : the no. of observations before seasonal pattern repeats\n",
    "\t@param h : number of period for forcasting\n",
    "\t@param level: confidence levels for prediction intervals\n",
    "\t\"\"\"\n",
    "\tif not s_period:\n",
    "\t\tprint('ERROR: s_period variable only accepts positve integer.')\n",
    "\t\tsys.exit()\n",
    "\n",
    "\n",
    "\tfcast = {} # store result\n",
    "\t# Check seasonality\n",
    "\tx = y.copy()\n",
    "\tn = y.index.size\n",
    "\tm = s_period \n",
    "\n",
    "\tif m > 1 and n > 2 * m:\n",
    "\t\tr = (acf(x, nlags = m))[1:]\n",
    "\t\ttemp = np.delete(r, m-1)\n",
    "\t\tstat = np.sqrt((1+ 2 * np.sum(np.square(temp))) / n)\n",
    "\t\tseasonal = (abs(r[m-1])/stat) > norm.cdf(0.95)\n",
    "\telse:\n",
    "\t\tseasonal = False\n",
    "\n",
    "\t# Seasonal Decomposition\n",
    "\torigx = x.copy()\n",
    "\tif seasonal:\n",
    "\t\tdecomp = seasonal_decompose(x, model = 'multiplicative')\n",
    "\t\tif decomp.seasonal < 1e-10 :\n",
    "\t\t\twarnings.warn('Seasonal indexes equal to zero. Using non-seasonal Theta method')\n",
    "\t\telse:\n",
    "\t\t\tx = decomp.observed/decomp.seasonal\n",
    "\n",
    "\t# Find theta lines\n",
    "\tmodel = SimpleExpSmoothing(x).fit()\n",
    "\tfcast['mean'] = model.forecast(h)\n",
    "\tnum = np.array(range(0,n))\n",
    "\ttemp = LinearRegression().fit(num.reshape(-1,1),x).coef_\n",
    "\ttemp = temp/2\n",
    "\talpha = np.maximum(1e-10, model.params['smoothing_level'])\n",
    "\tfcast['mean'] = fcast['mean'] + temp * (np.array(range(0,h)) + (1 - (1 - alpha)**n)/alpha)\n",
    "\n",
    "\t# Reseasonalize\n",
    "\tif seasonal:\n",
    "\t\tfcast['mean'] = fcast['mean'] *  np.repeat(decomp.seasonal[-m:], (1 + h//m))[:h]\n",
    "\t\tfcast['fitted'] = model.predict(x.index[0], x.index[n-1]) * decomp.seasonal\n",
    "\telse:\n",
    "\t\tfcast['fitted'] = model.predict(x.index[0], x.index[n-1])\n",
    "\n",
    "\tfcast['residuals'] = origx - fcast['fitted']\n",
    "\n",
    "\treturn fcast\n",
    "\t# Prediction Intervals"
   ]
  },
  {
   "cell_type": "code",
   "execution_count": 5,
   "metadata": {},
   "outputs": [],
   "source": [
    "## Implementação\n",
    "# Fonte: https://github.com/MinhDg00/theta/tree/master/src\n",
    "# Baseado em Fiorucci et. al (2016) https://github.com/cran/forecTheta\n",
    "\n",
    "# Implement standard Theta method based on Fiorucci et al. (2016) \n",
    "# Reference: https://github.com/cran/forecTheta\n",
    "\n",
    "import sys\n",
    "import numpy as np \n",
    "import pandas as pd \n",
    "import statsmodels as sm \n",
    "import warnings \n",
    "from scipy.stats import norm \n",
    "from statsmodels.tsa.stattools import acf \n",
    "from statsmodels.tsa.seasonal import seasonal_decompose\n",
    "from statsmodels.tsa.holtwinters import SimpleExpSmoothing\n",
    "from sklearn.linear_model import LinearRegression\n",
    "\n",
    "\n",
    "def sThetaF(y, s_period = 1, h = 10, s = None):\n",
    "\t\"\"\"\n",
    "\t@param y : array-like time series data\n",
    "\t@param s_period : the no. of observations before seasonal pattern repeats\n",
    "\t@param h : number of period for forcasting\n",
    "\t@s : additive or multiplicative \n",
    "\t\"\"\"\n",
    "\tfcast = {} # store result\n",
    "\tn = y.index.size\n",
    "\tx = y.copy()\n",
    "\tm = s_period\n",
    "\ttime_y = np.array(np.arange(n))/m + 1\n",
    "\ttime_fc = time_y[n-1] + np.array(np.arange(1,h+1))/m\n",
    "\n",
    "\ts_type = 'multiplicative'\n",
    "\tif s is not None:\n",
    "\t\tif s == 'additive':\n",
    "\t\t\ts = True\n",
    "\t\t\ts_type = 'additive'\n",
    "\n",
    "\t# Seasonality Test & Decomposition\n",
    "\tif s is not None and m >= 4:\n",
    "\t\tr = (acf(x, nlags = m+1))[1:]\n",
    "\t\tclim = 1.64/sqrt(n) * np.sqrt(np.cumsum([1, 2 * np.square(r)]))\n",
    "\t\ts = abs(r[m-1]) > clim[m-1]\n",
    "\telse:\n",
    "\t\tif not s:\n",
    "\t\t\ts = False\n",
    "\n",
    "\n",
    "\tif s: \n",
    "\t\tdecomp = seasonal_decompose(x, model = s_type)\n",
    "\t\tif s_type == 'additive' or (s_type -- 'multiplicative' and any(decomp < 0.01)): \n",
    "\t\t\ts_type = 'additive'\n",
    "\t\t\tdecomp = seasonal_decompose(x, model = 'additive').seasonal\n",
    "\t\t\tx = x - decomp\n",
    "\t\telse:\n",
    "\t\t\tx = x/decomp\n",
    "\n",
    "\n",
    "\t## Find Theta Line\n",
    "\tmodel = LinearRegression().fit(time_y.reshape(-1,1), x)\n",
    "\tfcast['mean'] = model.intercept_ + model.coef_ * time_fc \n",
    "\t\n",
    "\treturn fcast"
   ]
  },
  {
   "cell_type": "code",
   "execution_count": 6,
   "metadata": {},
   "outputs": [
    {
     "name": "stderr",
     "output_type": "stream",
     "text": [
      "/home/cibele/anaconda3/lib/python3.7/site-packages/statsmodels/tsa/stattools.py:572: FutureWarning: fft=True will become the default in a future version of statsmodels. To suppress this warning, explicitly set fft=False.\n",
      "  FutureWarning\n"
     ]
    }
   ],
   "source": [
    "import pandas as pd \n",
    "import matplotlib.pyplot as plt \n",
    "import seaborn as sns\n",
    "\n",
    "val = [346.6565,  354.4733,  355.663 ,  373.6322,  386.2713,\n",
    "  400.5881, 425.3325,  485.1494,  506.0482,  526.792 ,  \n",
    "  560.2689,  570.211, 600.12, 607.23, 610.23, \n",
    "  654.27, 676.89, 680.24, 690.56, 734.23, \n",
    "  755.23, 785.23, 746.217, 765.23, 751.23, 761.25] \n",
    "\n",
    "index= pd.date_range(start='01-01-1996', end='02-28-1998', freq='M')\n",
    "data = pd.Series(val, index)\n",
    "\n",
    "model = sesThetaF(data, s_period = 12)\n"
   ]
  },
  {
   "cell_type": "code",
   "execution_count": 7,
   "metadata": {},
   "outputs": [
    {
     "data": {
      "text/plain": [
       "26"
      ]
     },
     "execution_count": 7,
     "metadata": {},
     "output_type": "execute_result"
    }
   ],
   "source": [
    "len(val)"
   ]
  },
  {
   "cell_type": "code",
   "execution_count": 8,
   "metadata": {},
   "outputs": [
    {
     "data": {
      "image/png": "[encoded data removed]",
      "text/plain": [
       "<Figure size 864x432 with 1 Axes>"
      ]
     },
     "metadata": {
      "needs_background": "light"
     },
     "output_type": "display_data"
    }
   ],
   "source": [
    "mean = model['mean']\n",
    "\n",
    "fitted =  model['fitted']\n",
    "\n",
    "residuals = model['residuals']\n",
    "\n",
    "plt.figure(figsize = (12,6))\n",
    "\n",
    "plt.plot(fitted, marker = '.', color = 'red', label = 'In-sample Fitted')\n",
    "plt.plot(mean, marker = '*', color = 'blue', label = 'Forecast')\n",
    "plt.plot(residuals, marker = '', color = 'green', label = 'Residuals')\n",
    "plt.title('Standard Theta Model')\n",
    "plt.legend()\n",
    "plt.show()"
   ]
  },
  {
   "cell_type": "markdown",
   "metadata": {
    "slideshow": {
     "slide_type": "slide"
    }
   },
   "source": [
    "## Aplicação do Método Theta com funções de R"
   ]
  },
  {
   "cell_type": "code",
   "execution_count": 9,
   "metadata": {},
   "outputs": [],
   "source": [
    "from rpy2.robjects import r, pandas2ri\n",
    "import rpy2\n",
    "import matplotlib.pyplot as plt\n",
    "import pandas as pd\n",
    "\n",
    "from rpy2.robjects.packages import importr\n",
    "\n",
    "pandas2ri.activate()\n",
    "\n",
    "forecast = importr('forecast')\n",
    "graphics = importr('graphics')"
   ]
  },
  {
   "cell_type": "code",
   "execution_count": 10,
   "metadata": {},
   "outputs": [
    {
     "data": {
      "text/plain": [
       "<matplotlib.axes._subplots.AxesSubplot at 0x7f36a0f7e6d0>"
      ]
     },
     "execution_count": 10,
     "metadata": {},
     "output_type": "execute_result"
    },
    {
     "data": {
      "image/png": "[encoded data removed]",
      "text/plain": [
       "<Figure size 432x288 with 1 Axes>"
      ]
     },
     "metadata": {
      "needs_background": "light"
     },
     "output_type": "display_data"
    }
   ],
   "source": [
    "Nile = r['Nile']\n",
    "Nile = pd.DataFrame(Nile)\n",
    "Nile.index = pd.date_range(start='1871', end='1970', freq='YS')\n",
    "Nile.columns = ['escoamento']\n",
    "Nile.plot()"
   ]
  },
  {
   "cell_type": "code",
   "execution_count": 15,
   "metadata": {},
   "outputs": [
    {
     "data": {
      "text/html": [
       "\n",
       "        <span>ListVector with 3 elements.</span>\n",
       "        <table>\n",
       "        <tbody>\n",
       "        \n",
       "          <tr>\n",
       "            <th>\n",
       "            mean\n",
       "            </th>\n",
       "            <td>\n",
       "            <rpy2.rinterface.FloatSexpVector object at 0x7f03d9930140> [RTYPES.REALSXP]\n",
       "            </td>\n",
       "          </tr>\n",
       "        \n",
       "          <tr>\n",
       "            <th>\n",
       "            lower\n",
       "            </th>\n",
       "            <td>\n",
       "            <rpy2.rinterface.FloatSexpVector object at 0x7f03d9930190> [RTYPES.REALSXP]\n",
       "            </td>\n",
       "          </tr>\n",
       "        \n",
       "          <tr>\n",
       "            <th>\n",
       "            upper\n",
       "            </th>\n",
       "            <td>\n",
       "            <rpy2.rinterface.FloatSexpVector object at 0x7f03d99300f0> [RTYPES.REALSXP]\n",
       "            </td>\n",
       "          </tr>\n",
       "        \n",
       "        </tbody>\n",
       "        </table>\n",
       "        "
      ],
      "text/plain": [
       "R object with classes: ('list',) mapped to:\n",
       "[FloatSexpVector, FloatSexpVector, FloatSexpVector]\n",
       "  mean: <class 'rpy2.rinterface.FloatSexpVector'>\n",
       "  <rpy2.rinterface.FloatSexpVector object at 0x7f03d9930140> [RTYPES.REALSXP]\n",
       "  lower: <class 'rpy2.rinterface.FloatSexpVector'>\n",
       "  <rpy2.rinterface.FloatSexpVector object at 0x7f03d9930190> [RTYPES.REALSXP]\n",
       "  upper: <class 'rpy2.rinterface.FloatSexpVector'>\n",
       "  <rpy2.rinterface.FloatSexpVector object at 0x7f03d9930140> [RTYPES.REALSXP]"
      ]
     },
     "execution_count": 15,
     "metadata": {},
     "output_type": "execute_result"
    }
   ],
   "source": [
    "nile_fcast = forecast.thetaf(Nile['escoamento'])\n",
    "graphics.plot(nile_fcast)"
   ]
  },
  {
   "cell_type": "code",
   "execution_count": 16,
   "metadata": {},
   "outputs": [
    {
     "data": {
      "text/plain": [
       "<matplotlib.axes._subplots.AxesSubplot at 0x7f03d93f1f50>"
      ]
     },
     "execution_count": 16,
     "metadata": {},
     "output_type": "execute_result"
    },
    {
     "data": {
      "image/png": "[encoded data removed]",
      "text/plain": [
       "<Figure size 432x288 with 1 Axes>"
      ]
     },
     "metadata": {
      "needs_background": "light"
     },
     "output_type": "display_data"
    }
   ],
   "source": [
    "co2 = r['co2']\n",
    "co2 = pd.DataFrame(co2)\n",
    "co2.columns = ['CO2']\n",
    "\n",
    "co2.plot()"
   ]
  },
  {
   "cell_type": "code",
   "execution_count": 17,
   "metadata": {},
   "outputs": [
    {
     "data": {
      "text/html": [
       "\n",
       "        <span>ListVector with 3 elements.</span>\n",
       "        <table>\n",
       "        <tbody>\n",
       "        \n",
       "          <tr>\n",
       "            <th>\n",
       "            mean\n",
       "            </th>\n",
       "            <td>\n",
       "            <rpy2.rinterface.FloatSexpVector object at 0x7f03d9bf6af0> [RTYPES.REALSXP]\n",
       "            </td>\n",
       "          </tr>\n",
       "        \n",
       "          <tr>\n",
       "            <th>\n",
       "            lower\n",
       "            </th>\n",
       "            <td>\n",
       "            <rpy2.rinterface.FloatSexpVector object at 0x7f03d9858190> [RTYPES.REALSXP]\n",
       "            </td>\n",
       "          </tr>\n",
       "        \n",
       "          <tr>\n",
       "            <th>\n",
       "            upper\n",
       "            </th>\n",
       "            <td>\n",
       "            <rpy2.rinterface.FloatSexpVector object at 0x7f03d9858870> [RTYPES.REALSXP]\n",
       "            </td>\n",
       "          </tr>\n",
       "        \n",
       "        </tbody>\n",
       "        </table>\n",
       "        "
      ],
      "text/plain": [
       "R object with classes: ('list',) mapped to:\n",
       "[FloatSexpVector, FloatSexpVector, FloatSexpVector]\n",
       "  mean: <class 'rpy2.rinterface.FloatSexpVector'>\n",
       "  <rpy2.rinterface.FloatSexpVector object at 0x7f03d98ab690> [RTYPES.REALSXP]\n",
       "  lower: <class 'rpy2.rinterface.FloatSexpVector'>\n",
       "  <rpy2.rinterface.FloatSexpVector object at 0x7f03d9bf6af0> [RTYPES.REALSXP]\n",
       "  upper: <class 'rpy2.rinterface.FloatSexpVector'>\n",
       "  <rpy2.rinterface.FloatSexpVector object at 0x7f03d98ab690> [RTYPES.REALSXP]"
      ]
     },
     "execution_count": 17,
     "metadata": {},
     "output_type": "execute_result"
    }
   ],
   "source": [
    "co2_fcast = forecast.thetaf(co2['CO2'])\n",
    "graphics.plot(co2_fcast)"
   ]
  },
  {
   "cell_type": "markdown",
   "metadata": {},
   "source": [
    "Métodos Theta otimizado em R\n",
    "\n",
    "https://cran.r-project.org/web/packages/forecTheta/forecTheta.pdf\n",
    "\n",
    "Existem outros métodos para previsão!\n",
    "\n",
    "Veja, por exemplo, em Python\n",
    "\n",
    "https://medium.com/intive-developers/forecasting-time-series-with-multiple-seasonalities-using-tbats-in-python-398a00ac0e8a\n"
   ]
  },
  {
   "cell_type": "code",
   "execution_count": null,
   "metadata": {},
   "outputs": [],
   "source": []
  }
 ],
 "metadata": {
  "kernelspec": {
   "display_name": "Python 3",
   "language": "python",
   "name": "python3"
  },
  "language_info": {
   "codemirror_mode": {
    "name": "ipython",
    "version": 3
   },
   "file_extension": ".py",
   "mimetype": "text/x-python",
   "name": "python",
   "nbconvert_exporter": "python",
   "pygments_lexer": "ipython3",
   "version": "3.7.6"
  }
 },
 "nbformat": 4,
 "nbformat_minor": 2
}
