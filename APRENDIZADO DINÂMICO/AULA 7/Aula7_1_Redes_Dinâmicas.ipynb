{
 "cells": [
  {
   "cell_type": "markdown",
   "metadata": {},
   "source": [
    "# Redes dinâmicas\n",
    "\n",
    "-  Representação, manipulação e visualização\n",
    "\n",
    "-  Caracterização de redes dinâmicas\n",
    "\n",
    "-  Modelagem de redes dinâmicas\n",
    "\n",
    "por **Cibele Russo**\n",
    "\n",
    "Baseado em \n",
    "\n",
    "- Eric D. Kolaczyk, Gábor Csárdi (2014). Statistical Analysis of Network Data with R, Springer.\n",
    "\n",
    "- Cho, K., Van Merriënboer, B., Gulcehre, C., Bahdanau, D., Bougares, F., Schwenk, H., & Bengio, Y. (2014). Learning phrase representations using RNN encoder-decoder for statistical machine translation. arXiv preprint arXiv:1406.1078.\n",
    "\n",
    "- Hochreiter, S., & Schmidhuber, J. (1997). Long short-term memory. Neural computation, 9(8), 1735-1780.\n",
    "\n",
    "Implementações:\n",
    "\n",
    "- https://www.tensorflow.org/guide/keras/rnn\n",
    "\n",
    "- https://github.com/keras-team/keras-io/blob/master/guides/working_with_rnns.py\n",
    "\n",
    "\n",
    "\n",
    "Leituras adicionais:\n",
    "\n",
    "- https://otexts.com/fpp2/nnetar.html\n",
    "\n"
   ]
  },
  {
   "cell_type": "markdown",
   "metadata": {},
   "source": [
    "## Representação, manipulação e visualização\n",
    "\n",
    "Redes Neurais fornecem uma nova abordagem para a modelagem de dados e consequentemente para a previsão de séries temporais.\n",
    "\n",
    "\n",
    "Inspiração na biologia: Dendritos são os numerosos prolongamentos dos neurônios que atuam na recepção de estímulos nervosos do ambiente ou de outros neurônios e na transmissão desses estímulos para o corpo da célula.\n",
    "\n",
    "\n",
    "<img src=\"N2_Neuron_Diagram.png\" width=500 />\n",
    "Fonte: https://www.thepartnershipineducation.com/resources/nervous-system\n",
    "\n",
    "\n",
    "\n",
    "Podemos representar uma rede neural artificial com um único neurônio na forma de um perceptron, com duas entradas, uma saída, uma função de ativação e eventualmente um viés como abaixo. \n",
    "\n",
    "\n",
    "Neurônios artificiais: perceptron\n",
    "\n",
    "\n",
    "\n",
    "<img src=\"perceptron.png\" width=500 />\n",
    "\n",
    "\n",
    "Já uma rede neural com vários neurônios e camadas de entrada, saída e camadas escondidas, o que dá origem a uma rede neural artificial não linear:\n",
    "\n",
    "\n",
    "<img src=\"1BR.png\" width=700 />\n",
    "\n",
    "\n",
    "Cada camada de nós recebe entradas das camadas anteriores. As saídas dos nós em uma camada são entradas para a próxima camada. As entradas para cada nó são combinadas usando uma combinação linear ponderada. O resultado é então modificado por uma função não linear antes de ser produzido. Esse modelo é chamado de multilayer feed-forward network.\n",
    "\n",
    "\n",
    "As entradas em um neurônio da primeria camada oculta são combinadas linearmente, por exemplo, da seguinte forma\n",
    "\n",
    "\n",
    "$$z_j = b_j + \\sum_{i=1}^{3}w_{i,j} x_{i}.$$\n",
    "\n",
    "\n",
    "Então, na camada oculta, passam por uma função de ativação, por exemplo\n",
    "\n",
    "$$s(z) = \\displaystyle\\frac{1}{1+e^{-z}}$$\n",
    "\n",
    "e passam a ser entrada da próxima camada oculta, onde passarão por um procedimento similar e passarão para a camada de saída. Os parâmetros em cada passo são estimados de forma a minimizar, por exemplo, o erro quadrático médio.\n",
    "\n",
    "\n",
    "\n",
    "\n",
    "Curiosidade: Site para visualizar algumas aplicações de redes neurais artificiais:\n",
    "\n",
    "http://playground.tensorflow.org/\n",
    "\n"
   ]
  },
  {
   "cell_type": "markdown",
   "metadata": {},
   "source": [
    "\n",
    "### Redes Neurais Recorrentes (RNN)\n",
    "\n",
    "Existem diversos tipos de redes neurais artificiais que podemos utilizar para a análise de dados de séries temporais. Algumas delas são as redes neurais recorrentes (RNN), que servem para modelar dados sequenciais, como séries temporais, dados que vem de arquivos de audio, trajetórias de carros, etc. \n",
    "\n",
    "Para isso suponha um neurônio na multilayer feed-forward network, que permite que sua saída seja novamente uma entrada para si mesmo:\n",
    "\n",
    "\n",
    "<img src=\"3BR.png\" width=500 />\n",
    "\n",
    "\n",
    "E então imagine que temos esse comportamento possível ao longo do tempo:\n",
    "\n",
    "\n",
    "<img src=\"4BR.png\" width=500 />\n",
    "\n",
    "\n",
    "Dessa forma, poderíamos combinar as multilayers feed-forward networks sequencialmente. Note que existe uma espécie de memória, já que a estrutura do modelo se repete ao longo do tempo.\n",
    "\n",
    "\n",
    "As RNN estão implementadas no pacote Keras em três propostas:\n",
    "\n",
    "1. `keras.layers.SimpleRNN`, um RNN totalmente conectado, onde a saída do passo anterior no tempo deve ser alimentado para o próximo instante de tempo.\n",
    "\n",
    "2. `keras.layers.GRU` (Gated recurrent unit) proposto por\n",
    "[Cho et al., 2014](https://arxiv.org/abs/1406.1078).\n",
    "\n",
    "3. `keras.layers.LSTM`, (Long Short Term Memory) proposto por\n",
    "[Hochreiter & Schmidhuber, 1997](https://www.bioinf.jku.at/publications/older/2604.pdf).\n",
    "\n",
    "\n",
    "\n",
    "\n",
    "\n",
    "\n",
    "\n"
   ]
  },
  {
   "cell_type": "markdown",
   "metadata": {},
   "source": [
    "## LSTM = Long Short-Term Memory\n",
    "\n",
    "\n",
    "<img src=\"LSTM.png\" width=600 />\n",
    "\n",
    "\n",
    "Fonte: https://www.superdatascience.com/blogs/recurrent-neural-networks-rnn-long-short-term-memory-lstm\n",
    "\n",
    "\n",
    "Notação\n",
    "\n",
    "- $c_{t-1}$ representa a entrada de uma célula de memória no momento $t$;\n",
    "\n",
    "- $x_t$ é uma entrada no ponto de tempo $t$;\n",
    "\n",
    "- $h_t$ é uma saída no ponto de tempo $t$ que vai para a camada de saída e a camada oculta no próximo ponto de tempo.\n",
    "\n",
    "\n",
    "\n",
    "Assim, cada bloco tem três entradas $(x_t, h_{t-1} \\mbox{ e } c_{t-1})$ e duas saídas $(h_t \\mbox{ e } c_t)$. É importante observar que todas essas entradas e saídas não são valores únicos, mas vetores com muitos valores por trás de cada um deles.\n",
    "\n",
    "Para mais informações, veja [Hochreiter & Schmidhuber, 1997](https://www.bioinf.jku.at/publications/older/2604.pdf) e https://en.wikipedia.org/wiki/Long_short-term_memory .\n",
    "\n",
    "\n"
   ]
  },
  {
   "cell_type": "markdown",
   "metadata": {},
   "source": [
    "## GRU - Gated recurrent unit\n",
    "\n",
    "É como o LSTM simplificado, não tem porta de saída.\n",
    "\n",
    "<img src=\"GRU.png\" width=600 />\n",
    "\n",
    "\n",
    "Fonte: https://en.wikipedia.org/wiki/Gated_recurrent_unit"
   ]
  },
  {
   "cell_type": "markdown",
   "metadata": {},
   "source": [
    "\n",
    "\n",
    "<img src=\"rnns.png\" width=600 />\n",
    "\n",
    "\n",
    "Fonte: http://deeplearningbook.com.br/arquitetura-de-redes-neurais-gated-recurrent-unit-gru/\\\n",
    "        \n",
    "\n"
   ]
  },
  {
   "cell_type": "markdown",
   "metadata": {},
   "source": [
    "## Modelagem de redes dinâmicas\n",
    "\n",
    "\n",
    "Começaremos com um exemplo mais simples e depois partiremos para a RNN."
   ]
  },
  {
   "cell_type": "code",
   "execution_count": 1,
   "metadata": {},
   "outputs": [],
   "source": [
    "import pandas as pd\n",
    "import numpy as np\n",
    "%matplotlib inline\n",
    "import matplotlib.pyplot as plt"
   ]
  },
  {
   "cell_type": "markdown",
   "metadata": {},
   "source": [
    "### Um modelo simples do tipo  y=mx+b+ruído"
   ]
  },
  {
   "cell_type": "code",
   "execution_count": 2,
   "metadata": {},
   "outputs": [],
   "source": [
    "m = 3\n",
    "b = 4\n",
    "x = np.linspace(0,50,100)\n",
    "\n",
    "np.random.seed(0) \n",
    "ruído = np.random.normal(loc=0.0,scale=4.0,size=len(x))"
   ]
  },
  {
   "cell_type": "code",
   "execution_count": null,
   "metadata": {},
   "outputs": [],
   "source": []
  },
  {
   "cell_type": "code",
   "execution_count": 3,
   "metadata": {},
   "outputs": [
    {
     "data": {
      "text/plain": [
       "(array([ 1.,  5.,  7., 13., 17., 18., 16., 11.,  7.,  5.]),\n",
       " array([-10.21195926,  -8.28286149,  -6.35376371,  -4.42466594,\n",
       "         -2.49556816,  -0.56647038,   1.36262739,   3.29172517,\n",
       "          5.22082294,   7.14992072,   9.0790185 ]),\n",
       " <a list of 10 Patch objects>)"
      ]
     },
     "execution_count": 3,
     "metadata": {},
     "output_type": "execute_result"
    },
    {
     "data": {
      "image/png": "[encoded data removed]",
      "text/plain": [
       "<Figure size 432x288 with 1 Axes>"
      ]
     },
     "metadata": {
      "needs_background": "light"
     },
     "output_type": "display_data"
    }
   ],
   "source": [
    "plt.hist(ruído)"
   ]
  },
  {
   "cell_type": "code",
   "execution_count": 4,
   "metadata": {},
   "outputs": [],
   "source": [
    "y = m*x + b + ruído"
   ]
  },
  {
   "cell_type": "code",
   "execution_count": 5,
   "metadata": {},
   "outputs": [
    {
     "data": {
      "text/plain": [
       "[<matplotlib.lines.Line2D at 0x7f3e06ee39d0>]"
      ]
     },
     "execution_count": 5,
     "metadata": {},
     "output_type": "execute_result"
    },
    {
     "data": {
      "image/png": "[encoded data removed]",
      "text/plain": [
       "<Figure size 432x288 with 1 Axes>"
      ]
     },
     "metadata": {
      "needs_background": "light"
     },
     "output_type": "display_data"
    }
   ],
   "source": [
    "plt.plot(x,y,'.')"
   ]
  },
  {
   "cell_type": "markdown",
   "metadata": {},
   "source": [
    "## Criação de uma rede neural para uma linha de melhor ajuste usando o pacote Keras\n",
    "\n"
   ]
  },
  {
   "cell_type": "code",
   "execution_count": 6,
   "metadata": {},
   "outputs": [],
   "source": [
    "# https://keras.io/guides/sequential_model/\n",
    "# Otimizadores: https://keras.io/api/optimizers/\n",
    "\n",
    "from keras.models import Sequential\n",
    "from keras.layers import Dense"
   ]
  },
  {
   "cell_type": "code",
   "execution_count": 7,
   "metadata": {},
   "outputs": [],
   "source": [
    "#Vamos criar um modelo com 3 camadas\n",
    "\n",
    "model = Sequential()\n",
    "\n",
    "# 4 neurônios, esperando apenas 1 recurso com input_dim = 1\n",
    "model.add(Dense(4, input_dim=1, activation='relu'))\n",
    "\n",
    "# 4 neurônios (modifique para ver o resultado)\n",
    "model.add(Dense(4, activation='relu'))\n",
    "\n",
    "# Uma saída final de y, então apenas 1 neurônio\n",
    "model.add(Dense(1, activation='linear'))\n",
    "\n",
    "# Compile as camadas\n",
    "model.compile(loss='mse', optimizer='adam')"
   ]
  },
  {
   "cell_type": "code",
   "execution_count": 8,
   "metadata": {},
   "outputs": [
    {
     "name": "stdout",
     "output_type": "stream",
     "text": [
      "Model: \"sequential\"\n",
      "_________________________________________________________________\n",
      "Layer (type)                 Output Shape              Param #   \n",
      "=================================================================\n",
      "dense (Dense)                (None, 4)                 8         \n",
      "_________________________________________________________________\n",
      "dense_1 (Dense)              (None, 4)                 20        \n",
      "_________________________________________________________________\n",
      "dense_2 (Dense)              (None, 1)                 5         \n",
      "=================================================================\n",
      "Total params: 33\n",
      "Trainable params: 33\n",
      "Non-trainable params: 0\n",
      "_________________________________________________________________\n"
     ]
    }
   ],
   "source": [
    "model.summary()"
   ]
  },
  {
   "cell_type": "code",
   "execution_count": 9,
   "metadata": {},
   "outputs": [
    {
     "name": "stdout",
     "output_type": "stream",
     "text": [
      "Epoch 1/500\n",
      "4/4 [==============================] - 0s 2ms/step - loss: 6681.0732\n",
      "Epoch 2/500\n",
      "4/4 [==============================] - 0s 3ms/step - loss: 6626.9707\n",
      "Epoch 3/500\n",
      "4/4 [==============================] - 0s 2ms/step - loss: 6574.6411\n",
      "Epoch 4/500\n",
      "4/4 [==============================] - 0s 2ms/step - loss: 6521.6289\n",
      "Epoch 5/500\n",
      "4/4 [==============================] - 0s 3ms/step - loss: 6465.8066\n",
      "Epoch 6/500\n",
      "4/4 [==============================] - 0s 2ms/step - loss: 6412.7607\n",
      "Epoch 7/500\n",
      "4/4 [==============================] - 0s 2ms/step - loss: 6357.2451\n",
      "Epoch 8/500\n",
      "4/4 [==============================] - 0s 2ms/step - loss: 6300.0283\n",
      "Epoch 9/500\n",
      "4/4 [==============================] - 0s 1ms/step - loss: 6246.6826\n",
      "Epoch 10/500\n",
      "4/4 [==============================] - 0s 1ms/step - loss: 6188.1538\n",
      "Epoch 11/500\n",
      "4/4 [==============================] - 0s 3ms/step - loss: 6133.6738\n",
      "Epoch 12/500\n",
      "4/4 [==============================] - 0s 2ms/step - loss: 6076.1074\n",
      "Epoch 13/500\n",
      "4/4 [==============================] - 0s 2ms/step - loss: 6019.7852\n",
      "Epoch 14/500\n",
      "4/4 [==============================] - 0s 2ms/step - loss: 5964.2231\n",
      "Epoch 15/500\n",
      "4/4 [==============================] - 0s 3ms/step - loss: 5906.1362\n",
      "Epoch 16/500\n",
      "4/4 [==============================] - 0s 2ms/step - loss: 5847.8677\n",
      "Epoch 17/500\n",
      "4/4 [==============================] - 0s 2ms/step - loss: 5789.7437\n",
      "Epoch 18/500\n",
      "4/4 [==============================] - 0s 1ms/step - loss: 5731.1030\n",
      "Epoch 19/500\n",
      "4/4 [==============================] - 0s 1ms/step - loss: 5674.4556\n",
      "Epoch 20/500\n",
      "4/4 [==============================] - 0s 1ms/step - loss: 5611.9458\n",
      "Epoch 21/500\n",
      "4/4 [==============================] - 0s 2ms/step - loss: 5551.9180\n",
      "Epoch 22/500\n",
      "4/4 [==============================] - 0s 2ms/step - loss: 5491.4438\n",
      "Epoch 23/500\n",
      "4/4 [==============================] - 0s 3ms/step - loss: 5433.3813\n",
      "Epoch 24/500\n",
      "4/4 [==============================] - 0s 3ms/step - loss: 5375.0962\n",
      "Epoch 25/500\n",
      "4/4 [==============================] - 0s 2ms/step - loss: 5310.6177\n",
      "Epoch 26/500\n",
      "4/4 [==============================] - 0s 3ms/step - loss: 5247.9932\n",
      "Epoch 27/500\n",
      "4/4 [==============================] - 0s 2ms/step - loss: 5180.9761\n",
      "Epoch 28/500\n",
      "4/4 [==============================] - 0s 5ms/step - loss: 5120.2402\n",
      "Epoch 29/500\n",
      "4/4 [==============================] - 0s 2ms/step - loss: 5053.6265\n",
      "Epoch 30/500\n",
      "4/4 [==============================] - 0s 5ms/step - loss: 4990.8218\n",
      "Epoch 31/500\n",
      "4/4 [==============================] - 0s 3ms/step - loss: 4925.6021\n",
      "Epoch 32/500\n",
      "4/4 [==============================] - 0s 2ms/step - loss: 4860.1104\n",
      "Epoch 33/500\n",
      "4/4 [==============================] - 0s 3ms/step - loss: 4793.4707\n",
      "Epoch 34/500\n",
      "4/4 [==============================] - 0s 2ms/step - loss: 4730.1675\n",
      "Epoch 35/500\n",
      "4/4 [==============================] - 0s 2ms/step - loss: 4667.7529\n",
      "Epoch 36/500\n",
      "4/4 [==============================] - 0s 2ms/step - loss: 4606.1836\n",
      "Epoch 37/500\n",
      "4/4 [==============================] - 0s 1ms/step - loss: 4545.5645\n",
      "Epoch 38/500\n",
      "4/4 [==============================] - 0s 1ms/step - loss: 4486.1978\n",
      "Epoch 39/500\n",
      "4/4 [==============================] - 0s 1ms/step - loss: 4420.7856\n",
      "Epoch 40/500\n",
      "4/4 [==============================] - 0s 1ms/step - loss: 4361.0059\n",
      "Epoch 41/500\n",
      "4/4 [==============================] - 0s 2ms/step - loss: 4297.4004\n",
      "Epoch 42/500\n",
      "4/4 [==============================] - 0s 862us/step - loss: 4233.2539\n",
      "Epoch 43/500\n",
      "4/4 [==============================] - 0s 4ms/step - loss: 4165.6948\n",
      "Epoch 44/500\n",
      "4/4 [==============================] - 0s 2ms/step - loss: 4099.4092\n",
      "Epoch 45/500\n",
      "4/4 [==============================] - 0s 2ms/step - loss: 4032.9578\n",
      "Epoch 46/500\n",
      "4/4 [==============================] - 0s 2ms/step - loss: 3966.4795\n",
      "Epoch 47/500\n",
      "4/4 [==============================] - 0s 1ms/step - loss: 3895.3616\n",
      "Epoch 48/500\n",
      "4/4 [==============================] - 0s 2ms/step - loss: 3831.1460\n",
      "Epoch 49/500\n",
      "4/4 [==============================] - 0s 2ms/step - loss: 3764.0244\n",
      "Epoch 50/500\n",
      "4/4 [==============================] - 0s 1ms/step - loss: 3700.4431\n",
      "Epoch 51/500\n",
      "4/4 [==============================] - 0s 2ms/step - loss: 3631.2554\n",
      "Epoch 52/500\n",
      "4/4 [==============================] - 0s 2ms/step - loss: 3563.6843\n",
      "Epoch 53/500\n",
      "4/4 [==============================] - 0s 1ms/step - loss: 3496.3447\n",
      "Epoch 54/500\n",
      "4/4 [==============================] - 0s 2ms/step - loss: 3426.9441\n",
      "Epoch 55/500\n",
      "4/4 [==============================] - 0s 2ms/step - loss: 3359.7854\n",
      "Epoch 56/500\n",
      "4/4 [==============================] - 0s 4ms/step - loss: 3291.1978\n",
      "Epoch 57/500\n",
      "4/4 [==============================] - 0s 2ms/step - loss: 3224.2266\n",
      "Epoch 58/500\n",
      "4/4 [==============================] - 0s 2ms/step - loss: 3155.3225\n",
      "Epoch 59/500\n",
      "4/4 [==============================] - 0s 2ms/step - loss: 3086.9919\n",
      "Epoch 60/500\n",
      "4/4 [==============================] - 0s 1ms/step - loss: 3018.1104\n",
      "Epoch 61/500\n",
      "4/4 [==============================] - 0s 2ms/step - loss: 2950.4189\n",
      "Epoch 62/500\n",
      "4/4 [==============================] - 0s 3ms/step - loss: 2886.4216\n",
      "Epoch 63/500\n",
      "4/4 [==============================] - 0s 2ms/step - loss: 2819.9819\n",
      "Epoch 64/500\n",
      "4/4 [==============================] - 0s 2ms/step - loss: 2751.3125\n",
      "Epoch 65/500\n",
      "4/4 [==============================] - 0s 1ms/step - loss: 2682.9841\n",
      "Epoch 66/500\n",
      "4/4 [==============================] - 0s 2ms/step - loss: 2615.8252\n",
      "Epoch 67/500\n",
      "4/4 [==============================] - 0s 2ms/step - loss: 2548.8972\n",
      "Epoch 68/500\n",
      "4/4 [==============================] - 0s 2ms/step - loss: 2478.1299\n",
      "Epoch 69/500\n",
      "4/4 [==============================] - 0s 2ms/step - loss: 2406.7034\n",
      "Epoch 70/500\n",
      "4/4 [==============================] - 0s 1ms/step - loss: 2338.4958\n",
      "Epoch 71/500\n",
      "4/4 [==============================] - 0s 2ms/step - loss: 2271.1843\n",
      "Epoch 72/500\n",
      "4/4 [==============================] - 0s 2ms/step - loss: 2203.9915\n",
      "Epoch 73/500\n",
      "4/4 [==============================] - 0s 2ms/step - loss: 2137.2156\n",
      "Epoch 74/500\n",
      "4/4 [==============================] - 0s 2ms/step - loss: 2074.5493\n",
      "Epoch 75/500\n",
      "4/4 [==============================] - 0s 2ms/step - loss: 2010.9268\n",
      "Epoch 76/500\n",
      "4/4 [==============================] - 0s 2ms/step - loss: 1943.7941\n",
      "Epoch 77/500\n",
      "4/4 [==============================] - 0s 2ms/step - loss: 1882.8092\n",
      "Epoch 78/500\n",
      "4/4 [==============================] - 0s 2ms/step - loss: 1819.8934\n",
      "Epoch 79/500\n",
      "4/4 [==============================] - 0s 1ms/step - loss: 1762.9563\n",
      "Epoch 80/500\n",
      "4/4 [==============================] - 0s 1ms/step - loss: 1704.6307\n",
      "Epoch 81/500\n",
      "4/4 [==============================] - 0s 2ms/step - loss: 1644.2329\n",
      "Epoch 82/500\n",
      "4/4 [==============================] - 0s 2ms/step - loss: 1584.4056\n",
      "Epoch 83/500\n",
      "4/4 [==============================] - 0s 2ms/step - loss: 1525.6586\n",
      "Epoch 84/500\n",
      "4/4 [==============================] - 0s 4ms/step - loss: 1463.7675\n",
      "Epoch 85/500\n",
      "4/4 [==============================] - 0s 2ms/step - loss: 1403.0961\n",
      "Epoch 86/500\n",
      "4/4 [==============================] - 0s 2ms/step - loss: 1346.3040\n",
      "Epoch 87/500\n",
      "4/4 [==============================] - 0s 2ms/step - loss: 1289.2887\n",
      "Epoch 88/500\n",
      "4/4 [==============================] - 0s 2ms/step - loss: 1232.3751\n",
      "Epoch 89/500\n",
      "4/4 [==============================] - 0s 2ms/step - loss: 1176.2456\n",
      "Epoch 90/500\n",
      "4/4 [==============================] - 0s 3ms/step - loss: 1120.6901\n",
      "Epoch 91/500\n",
      "4/4 [==============================] - 0s 4ms/step - loss: 1069.0669\n",
      "Epoch 92/500\n",
      "4/4 [==============================] - 0s 3ms/step - loss: 1019.5748\n",
      "Epoch 93/500\n",
      "4/4 [==============================] - 0s 3ms/step - loss: 971.1780\n",
      "Epoch 94/500\n",
      "4/4 [==============================] - 0s 3ms/step - loss: 926.4941\n",
      "Epoch 95/500\n",
      "4/4 [==============================] - 0s 2ms/step - loss: 881.2802\n",
      "Epoch 96/500\n",
      "4/4 [==============================] - 0s 1ms/step - loss: 835.1840\n",
      "Epoch 97/500\n",
      "4/4 [==============================] - 0s 3ms/step - loss: 788.7454\n",
      "Epoch 98/500\n",
      "4/4 [==============================] - 0s 3ms/step - loss: 744.4305\n",
      "Epoch 99/500\n",
      "4/4 [==============================] - 0s 3ms/step - loss: 700.0037\n",
      "Epoch 100/500\n",
      "4/4 [==============================] - 0s 3ms/step - loss: 660.7755\n",
      "Epoch 101/500\n"
     ]
    },
    {
     "name": "stdout",
     "output_type": "stream",
     "text": [
      "4/4 [==============================] - 0s 2ms/step - loss: 622.8059\n",
      "Epoch 102/500\n",
      "4/4 [==============================] - 0s 2ms/step - loss: 584.7720\n",
      "Epoch 103/500\n",
      "4/4 [==============================] - 0s 2ms/step - loss: 551.2513\n",
      "Epoch 104/500\n",
      "4/4 [==============================] - 0s 2ms/step - loss: 516.8432\n",
      "Epoch 105/500\n",
      "4/4 [==============================] - 0s 2ms/step - loss: 483.3974\n",
      "Epoch 106/500\n",
      "4/4 [==============================] - 0s 2ms/step - loss: 449.7157\n",
      "Epoch 107/500\n",
      "4/4 [==============================] - ETA: 0s - loss: 555.142 - 0s 3ms/step - loss: 420.6404\n",
      "Epoch 108/500\n",
      "4/4 [==============================] - 0s 2ms/step - loss: 392.0039\n",
      "Epoch 109/500\n",
      "4/4 [==============================] - 0s 2ms/step - loss: 364.8694\n",
      "Epoch 110/500\n",
      "4/4 [==============================] - 0s 2ms/step - loss: 339.7284\n",
      "Epoch 111/500\n",
      "4/4 [==============================] - 0s 2ms/step - loss: 316.8714\n",
      "Epoch 112/500\n",
      "4/4 [==============================] - 0s 2ms/step - loss: 295.1309\n",
      "Epoch 113/500\n",
      "4/4 [==============================] - 0s 2ms/step - loss: 274.9705\n",
      "Epoch 114/500\n",
      "4/4 [==============================] - 0s 2ms/step - loss: 254.8222\n",
      "Epoch 115/500\n",
      "4/4 [==============================] - 0s 2ms/step - loss: 235.8259\n",
      "Epoch 116/500\n",
      "4/4 [==============================] - 0s 2ms/step - loss: 218.1178\n",
      "Epoch 117/500\n",
      "4/4 [==============================] - 0s 2ms/step - loss: 201.1706\n",
      "Epoch 118/500\n",
      "4/4 [==============================] - 0s 2ms/step - loss: 186.6619\n",
      "Epoch 119/500\n",
      "4/4 [==============================] - 0s 2ms/step - loss: 172.7626\n",
      "Epoch 120/500\n",
      "4/4 [==============================] - 0s 2ms/step - loss: 160.1406\n",
      "Epoch 121/500\n",
      "4/4 [==============================] - 0s 3ms/step - loss: 147.4693\n",
      "Epoch 122/500\n",
      "4/4 [==============================] - 0s 2ms/step - loss: 136.2539\n",
      "Epoch 123/500\n",
      "4/4 [==============================] - ETA: 0s - loss: 113.932 - 0s 2ms/step - loss: 125.3645\n",
      "Epoch 124/500\n",
      "4/4 [==============================] - 0s 2ms/step - loss: 114.9056\n",
      "Epoch 125/500\n",
      "4/4 [==============================] - 0s 2ms/step - loss: 105.9786\n",
      "Epoch 126/500\n",
      "4/4 [==============================] - 0s 2ms/step - loss: 97.4815\n",
      "Epoch 127/500\n",
      "4/4 [==============================] - 0s 3ms/step - loss: 89.6280\n",
      "Epoch 128/500\n",
      "4/4 [==============================] - 0s 2ms/step - loss: 82.7072\n",
      "Epoch 129/500\n",
      "4/4 [==============================] - 0s 2ms/step - loss: 76.3080\n",
      "Epoch 130/500\n",
      "4/4 [==============================] - 0s 2ms/step - loss: 70.5838\n",
      "Epoch 131/500\n",
      "4/4 [==============================] - 0s 2ms/step - loss: 65.4617\n",
      "Epoch 132/500\n",
      "4/4 [==============================] - 0s 959us/step - loss: 60.7894\n",
      "Epoch 133/500\n",
      "4/4 [==============================] - 0s 1ms/step - loss: 56.2991\n",
      "Epoch 134/500\n",
      "4/4 [==============================] - 0s 3ms/step - loss: 52.3781\n",
      "Epoch 135/500\n",
      "4/4 [==============================] - 0s 2ms/step - loss: 48.7315\n",
      "Epoch 136/500\n",
      "4/4 [==============================] - 0s 3ms/step - loss: 45.4885\n",
      "Epoch 137/500\n",
      "4/4 [==============================] - 0s 2ms/step - loss: 42.1938\n",
      "Epoch 138/500\n",
      "4/4 [==============================] - 0s 1ms/step - loss: 39.5340\n",
      "Epoch 139/500\n",
      "4/4 [==============================] - 0s 1ms/step - loss: 37.1028\n",
      "Epoch 140/500\n",
      "4/4 [==============================] - 0s 2ms/step - loss: 35.1444\n",
      "Epoch 141/500\n",
      "4/4 [==============================] - 0s 2ms/step - loss: 33.1989\n",
      "Epoch 142/500\n",
      "4/4 [==============================] - 0s 1ms/step - loss: 31.6269\n",
      "Epoch 143/500\n",
      "4/4 [==============================] - 0s 1ms/step - loss: 29.8540\n",
      "Epoch 144/500\n",
      "4/4 [==============================] - 0s 3ms/step - loss: 28.4937\n",
      "Epoch 145/500\n",
      "4/4 [==============================] - 0s 1ms/step - loss: 27.2248\n",
      "Epoch 146/500\n",
      "4/4 [==============================] - 0s 2ms/step - loss: 26.2562\n",
      "Epoch 147/500\n",
      "4/4 [==============================] - 0s 2ms/step - loss: 25.2567\n",
      "Epoch 148/500\n",
      "4/4 [==============================] - 0s 2ms/step - loss: 24.4515\n",
      "Epoch 149/500\n",
      "4/4 [==============================] - 0s 2ms/step - loss: 23.6689\n",
      "Epoch 150/500\n",
      "4/4 [==============================] - 0s 2ms/step - loss: 22.9959\n",
      "Epoch 151/500\n",
      "4/4 [==============================] - 0s 2ms/step - loss: 22.3555\n",
      "Epoch 152/500\n",
      "4/4 [==============================] - 0s 2ms/step - loss: 21.8281\n",
      "Epoch 153/500\n",
      "4/4 [==============================] - 0s 1ms/step - loss: 21.2753\n",
      "Epoch 154/500\n",
      "4/4 [==============================] - 0s 2ms/step - loss: 20.8048\n",
      "Epoch 155/500\n",
      "4/4 [==============================] - 0s 3ms/step - loss: 20.3904\n",
      "Epoch 156/500\n",
      "4/4 [==============================] - 0s 2ms/step - loss: 19.9884\n",
      "Epoch 157/500\n",
      "4/4 [==============================] - 0s 2ms/step - loss: 19.6800\n",
      "Epoch 158/500\n",
      "4/4 [==============================] - 0s 2ms/step - loss: 19.3925\n",
      "Epoch 159/500\n",
      "4/4 [==============================] - 0s 1ms/step - loss: 19.1653\n",
      "Epoch 160/500\n",
      "4/4 [==============================] - 0s 4ms/step - loss: 18.9977\n",
      "Epoch 161/500\n",
      "4/4 [==============================] - 0s 2ms/step - loss: 18.8767\n",
      "Epoch 162/500\n",
      "4/4 [==============================] - 0s 3ms/step - loss: 18.7361\n",
      "Epoch 163/500\n",
      "4/4 [==============================] - 0s 3ms/step - loss: 18.6471\n",
      "Epoch 164/500\n",
      "4/4 [==============================] - 0s 2ms/step - loss: 18.5327\n",
      "Epoch 165/500\n",
      "4/4 [==============================] - 0s 3ms/step - loss: 18.4462\n",
      "Epoch 166/500\n",
      "4/4 [==============================] - 0s 3ms/step - loss: 18.3105\n",
      "Epoch 167/500\n",
      "4/4 [==============================] - 0s 3ms/step - loss: 18.2394\n",
      "Epoch 168/500\n",
      "4/4 [==============================] - 0s 3ms/step - loss: 18.1974\n",
      "Epoch 169/500\n",
      "4/4 [==============================] - 0s 2ms/step - loss: 18.1447\n",
      "Epoch 170/500\n",
      "4/4 [==============================] - 0s 2ms/step - loss: 18.1163\n",
      "Epoch 171/500\n",
      "4/4 [==============================] - 0s 2ms/step - loss: 18.0990\n",
      "Epoch 172/500\n",
      "4/4 [==============================] - 0s 2ms/step - loss: 18.0594\n",
      "Epoch 173/500\n",
      "4/4 [==============================] - 0s 2ms/step - loss: 18.0397\n",
      "Epoch 174/500\n",
      "4/4 [==============================] - 0s 2ms/step - loss: 18.0259\n",
      "Epoch 175/500\n",
      "4/4 [==============================] - 0s 2ms/step - loss: 17.9886\n",
      "Epoch 176/500\n",
      "4/4 [==============================] - 0s 2ms/step - loss: 17.9782\n",
      "Epoch 177/500\n",
      "4/4 [==============================] - 0s 3ms/step - loss: 17.9601\n",
      "Epoch 178/500\n",
      "4/4 [==============================] - ETA: 0s - loss: 16.61 - 0s 2ms/step - loss: 17.9418\n",
      "Epoch 179/500\n",
      "4/4 [==============================] - 0s 3ms/step - loss: 17.9336\n",
      "Epoch 180/500\n",
      "4/4 [==============================] - 0s 2ms/step - loss: 17.9136\n",
      "Epoch 181/500\n",
      "4/4 [==============================] - 0s 3ms/step - loss: 17.9125\n",
      "Epoch 182/500\n",
      "4/4 [==============================] - 0s 3ms/step - loss: 17.8918\n",
      "Epoch 183/500\n",
      "4/4 [==============================] - 0s 3ms/step - loss: 17.8821\n",
      "Epoch 184/500\n",
      "4/4 [==============================] - 0s 2ms/step - loss: 17.8671\n",
      "Epoch 185/500\n",
      "4/4 [==============================] - 0s 30ms/step - loss: 17.8586\n",
      "Epoch 186/500\n",
      "4/4 [==============================] - 0s 2ms/step - loss: 17.8523\n",
      "Epoch 187/500\n",
      "4/4 [==============================] - 0s 2ms/step - loss: 17.8455\n",
      "Epoch 188/500\n",
      "4/4 [==============================] - 0s 2ms/step - loss: 17.8304\n",
      "Epoch 189/500\n",
      "4/4 [==============================] - 0s 2ms/step - loss: 17.8280\n",
      "Epoch 190/500\n",
      "4/4 [==============================] - 0s 2ms/step - loss: 17.8168\n",
      "Epoch 191/500\n",
      "4/4 [==============================] - 0s 1ms/step - loss: 17.8172\n",
      "Epoch 192/500\n",
      "4/4 [==============================] - 0s 3ms/step - loss: 17.8102\n",
      "Epoch 193/500\n",
      "4/4 [==============================] - 0s 2ms/step - loss: 17.8035\n",
      "Epoch 194/500\n",
      "4/4 [==============================] - 0s 1ms/step - loss: 17.8072\n",
      "Epoch 195/500\n",
      "4/4 [==============================] - 0s 2ms/step - loss: 17.7978\n",
      "Epoch 196/500\n",
      "4/4 [==============================] - 0s 2ms/step - loss: 17.7961\n",
      "Epoch 197/500\n",
      "4/4 [==============================] - 0s 2ms/step - loss: 17.7957\n",
      "Epoch 198/500\n",
      "4/4 [==============================] - 0s 1ms/step - loss: 17.7962\n",
      "Epoch 199/500\n",
      "4/4 [==============================] - 0s 2ms/step - loss: 17.7958\n",
      "Epoch 200/500\n",
      "4/4 [==============================] - 0s 1ms/step - loss: 17.8020\n",
      "Epoch 201/500\n",
      "4/4 [==============================] - 0s 1ms/step - loss: 17.7952\n",
      "Epoch 202/500\n",
      "4/4 [==============================] - 0s 2ms/step - loss: 17.7904\n",
      "Epoch 203/500\n",
      "4/4 [==============================] - 0s 2ms/step - loss: 17.7901\n",
      "Epoch 204/500\n",
      "4/4 [==============================] - 0s 1ms/step - loss: 17.7896\n",
      "Epoch 205/500\n",
      "4/4 [==============================] - 0s 1ms/step - loss: 17.7848\n",
      "Epoch 206/500\n",
      "4/4 [==============================] - 0s 2ms/step - loss: 17.7876\n",
      "Epoch 207/500\n",
      "4/4 [==============================] - 0s 2ms/step - loss: 17.7836\n",
      "Epoch 208/500\n",
      "4/4 [==============================] - 0s 2ms/step - loss: 17.7859\n",
      "Epoch 209/500\n",
      "4/4 [==============================] - 0s 2ms/step - loss: 17.7819\n",
      "Epoch 210/500\n",
      "4/4 [==============================] - 0s 3ms/step - loss: 17.7790\n",
      "Epoch 211/500\n",
      "4/4 [==============================] - 0s 2ms/step - loss: 17.7813\n",
      "Epoch 212/500\n",
      "4/4 [==============================] - 0s 2ms/step - loss: 17.7802\n",
      "Epoch 213/500\n",
      "4/4 [==============================] - 0s 1ms/step - loss: 17.7777\n",
      "Epoch 214/500\n",
      "4/4 [==============================] - 0s 1ms/step - loss: 17.7778\n",
      "Epoch 215/500\n",
      "4/4 [==============================] - 0s 2ms/step - loss: 17.7761\n",
      "Epoch 216/500\n",
      "4/4 [==============================] - 0s 4ms/step - loss: 17.7752\n",
      "Epoch 217/500\n",
      "4/4 [==============================] - 0s 3ms/step - loss: 17.7735\n",
      "Epoch 218/500\n",
      "4/4 [==============================] - 0s 4ms/step - loss: 17.7725\n",
      "Epoch 219/500\n",
      "4/4 [==============================] - 0s 1ms/step - loss: 17.7719\n",
      "Epoch 220/500\n",
      "4/4 [==============================] - 0s 2ms/step - loss: 17.7724\n",
      "Epoch 221/500\n",
      "4/4 [==============================] - 0s 3ms/step - loss: 17.7686\n",
      "Epoch 222/500\n",
      "4/4 [==============================] - 0s 2ms/step - loss: 17.7714\n",
      "Epoch 223/500\n",
      "4/4 [==============================] - 0s 3ms/step - loss: 17.7688\n",
      "Epoch 224/500\n",
      "4/4 [==============================] - 0s 2ms/step - loss: 17.7652\n",
      "Epoch 225/500\n",
      "4/4 [==============================] - 0s 2ms/step - loss: 17.7700\n",
      "Epoch 226/500\n",
      "4/4 [==============================] - 0s 2ms/step - loss: 17.7622\n",
      "Epoch 227/500\n",
      "4/4 [==============================] - 0s 2ms/step - loss: 17.7632\n",
      "Epoch 228/500\n",
      "4/4 [==============================] - 0s 2ms/step - loss: 17.7628\n",
      "Epoch 229/500\n",
      "4/4 [==============================] - 0s 2ms/step - loss: 17.7608\n",
      "Epoch 230/500\n",
      "4/4 [==============================] - 0s 2ms/step - loss: 17.7608\n",
      "Epoch 231/500\n",
      "4/4 [==============================] - 0s 2ms/step - loss: 17.7583\n",
      "Epoch 232/500\n",
      "4/4 [==============================] - 0s 2ms/step - loss: 17.7582\n",
      "Epoch 233/500\n",
      "4/4 [==============================] - 0s 2ms/step - loss: 17.7570\n",
      "Epoch 234/500\n",
      "4/4 [==============================] - 0s 2ms/step - loss: 17.7546\n",
      "Epoch 235/500\n",
      "4/4 [==============================] - 0s 2ms/step - loss: 17.7568\n",
      "Epoch 236/500\n",
      "4/4 [==============================] - 0s 2ms/step - loss: 17.7566\n",
      "Epoch 237/500\n",
      "4/4 [==============================] - 0s 3ms/step - loss: 17.7579\n",
      "Epoch 238/500\n",
      "4/4 [==============================] - 0s 2ms/step - loss: 17.7566\n",
      "Epoch 239/500\n",
      "4/4 [==============================] - 0s 2ms/step - loss: 17.7558\n",
      "Epoch 240/500\n",
      "4/4 [==============================] - 0s 2ms/step - loss: 17.7545\n",
      "Epoch 241/500\n",
      "4/4 [==============================] - 0s 2ms/step - loss: 17.7540\n",
      "Epoch 242/500\n",
      "4/4 [==============================] - 0s 2ms/step - loss: 17.7510\n",
      "Epoch 243/500\n",
      "4/4 [==============================] - 0s 2ms/step - loss: 17.7563\n",
      "Epoch 244/500\n",
      "4/4 [==============================] - 0s 2ms/step - loss: 17.7563\n",
      "Epoch 245/500\n",
      "4/4 [==============================] - 0s 2ms/step - loss: 17.7518\n",
      "Epoch 246/500\n",
      "4/4 [==============================] - 0s 2ms/step - loss: 17.7496\n",
      "Epoch 247/500\n",
      "4/4 [==============================] - 0s 2ms/step - loss: 17.7445\n",
      "Epoch 248/500\n",
      "4/4 [==============================] - 0s 2ms/step - loss: 17.7332\n",
      "Epoch 249/500\n",
      "4/4 [==============================] - 0s 2ms/step - loss: 17.7366\n",
      "Epoch 250/500\n",
      "4/4 [==============================] - 0s 2ms/step - loss: 17.7394\n",
      "Epoch 251/500\n",
      "4/4 [==============================] - 0s 2ms/step - loss: 17.7350\n",
      "Epoch 252/500\n",
      "4/4 [==============================] - 0s 3ms/step - loss: 17.7360\n",
      "Epoch 253/500\n",
      "4/4 [==============================] - 0s 2ms/step - loss: 17.7339\n",
      "Epoch 254/500\n",
      "4/4 [==============================] - 0s 2ms/step - loss: 17.7319\n",
      "Epoch 255/500\n",
      "4/4 [==============================] - 0s 2ms/step - loss: 17.7319\n",
      "Epoch 256/500\n",
      "4/4 [==============================] - 0s 2ms/step - loss: 17.7340\n",
      "Epoch 257/500\n",
      "4/4 [==============================] - 0s 2ms/step - loss: 17.7284\n",
      "Epoch 258/500\n",
      "4/4 [==============================] - 0s 2ms/step - loss: 17.7285\n",
      "Epoch 259/500\n",
      "4/4 [==============================] - 0s 2ms/step - loss: 17.7269\n",
      "Epoch 260/500\n",
      "4/4 [==============================] - 0s 2ms/step - loss: 17.7312\n",
      "Epoch 261/500\n",
      "4/4 [==============================] - 0s 2ms/step - loss: 17.7416\n",
      "Epoch 262/500\n",
      "4/4 [==============================] - 0s 2ms/step - loss: 17.7432\n",
      "Epoch 263/500\n",
      "4/4 [==============================] - 0s 2ms/step - loss: 17.7419\n",
      "Epoch 264/500\n",
      "4/4 [==============================] - 0s 3ms/step - loss: 17.7505\n",
      "Epoch 265/500\n",
      "4/4 [==============================] - 0s 2ms/step - loss: 17.7462\n",
      "Epoch 266/500\n",
      "4/4 [==============================] - 0s 2ms/step - loss: 17.7430\n",
      "Epoch 267/500\n",
      "4/4 [==============================] - 0s 3ms/step - loss: 17.7496\n",
      "Epoch 268/500\n",
      "4/4 [==============================] - 0s 2ms/step - loss: 17.7575\n",
      "Epoch 269/500\n",
      "4/4 [==============================] - 0s 2ms/step - loss: 17.7521\n",
      "Epoch 270/500\n",
      "4/4 [==============================] - 0s 2ms/step - loss: 17.7492\n",
      "Epoch 271/500\n",
      "4/4 [==============================] - ETA: 0s - loss: 12.77 - 0s 2ms/step - loss: 17.7465\n",
      "Epoch 272/500\n",
      "4/4 [==============================] - 0s 3ms/step - loss: 17.7409\n",
      "Epoch 273/500\n",
      "4/4 [==============================] - 0s 3ms/step - loss: 17.7365\n",
      "Epoch 274/500\n",
      "4/4 [==============================] - 0s 1ms/step - loss: 17.7335\n",
      "Epoch 275/500\n",
      "4/4 [==============================] - 0s 2ms/step - loss: 17.7266\n",
      "Epoch 276/500\n",
      "4/4 [==============================] - 0s 2ms/step - loss: 17.7219\n",
      "Epoch 277/500\n",
      "4/4 [==============================] - 0s 3ms/step - loss: 17.7093\n",
      "Epoch 278/500\n",
      "4/4 [==============================] - 0s 2ms/step - loss: 17.7123\n",
      "Epoch 279/500\n",
      "4/4 [==============================] - 0s 2ms/step - loss: 17.7160\n",
      "Epoch 280/500\n",
      "4/4 [==============================] - 0s 2ms/step - loss: 17.7023\n",
      "Epoch 281/500\n",
      "4/4 [==============================] - 0s 2ms/step - loss: 17.7068\n",
      "Epoch 282/500\n",
      "4/4 [==============================] - 0s 2ms/step - loss: 17.6989\n",
      "Epoch 283/500\n",
      "4/4 [==============================] - 0s 3ms/step - loss: 17.6947\n",
      "Epoch 284/500\n",
      "4/4 [==============================] - 0s 2ms/step - loss: 17.6999\n",
      "Epoch 285/500\n",
      "4/4 [==============================] - 0s 2ms/step - loss: 17.6985\n",
      "Epoch 286/500\n",
      "4/4 [==============================] - 0s 2ms/step - loss: 17.6946\n",
      "Epoch 287/500\n",
      "4/4 [==============================] - 0s 2ms/step - loss: 17.6986\n",
      "Epoch 288/500\n",
      "4/4 [==============================] - 0s 3ms/step - loss: 17.6917\n",
      "Epoch 289/500\n",
      "4/4 [==============================] - 0s 3ms/step - loss: 17.6908\n",
      "Epoch 290/500\n",
      "4/4 [==============================] - 0s 2ms/step - loss: 17.6860\n",
      "Epoch 291/500\n",
      "4/4 [==============================] - 0s 3ms/step - loss: 17.6871\n",
      "Epoch 292/500\n",
      "4/4 [==============================] - 0s 2ms/step - loss: 17.6901\n",
      "Epoch 293/500\n",
      "4/4 [==============================] - 0s 2ms/step - loss: 17.6900\n",
      "Epoch 294/500\n",
      "4/4 [==============================] - 0s 2ms/step - loss: 17.6944\n",
      "Epoch 295/500\n",
      "4/4 [==============================] - 0s 3ms/step - loss: 17.6862\n",
      "Epoch 296/500\n",
      "4/4 [==============================] - 0s 3ms/step - loss: 17.6852\n",
      "Epoch 297/500\n",
      "4/4 [==============================] - 0s 2ms/step - loss: 17.6840\n",
      "Epoch 298/500\n",
      "4/4 [==============================] - 0s 2ms/step - loss: 17.6852\n",
      "Epoch 299/500\n",
      "4/4 [==============================] - 0s 2ms/step - loss: 17.6811\n",
      "Epoch 300/500\n",
      "4/4 [==============================] - 0s 2ms/step - loss: 17.6796\n",
      "Epoch 301/500\n"
     ]
    },
    {
     "name": "stdout",
     "output_type": "stream",
     "text": [
      "4/4 [==============================] - 0s 3ms/step - loss: 17.6773\n",
      "Epoch 302/500\n",
      "4/4 [==============================] - 0s 2ms/step - loss: 17.6789\n",
      "Epoch 303/500\n",
      "4/4 [==============================] - 0s 2ms/step - loss: 17.6768\n",
      "Epoch 304/500\n",
      "4/4 [==============================] - 0s 2ms/step - loss: 17.6753\n",
      "Epoch 305/500\n",
      "4/4 [==============================] - 0s 2ms/step - loss: 17.6708\n",
      "Epoch 306/500\n",
      "4/4 [==============================] - 0s 2ms/step - loss: 17.6727\n",
      "Epoch 307/500\n",
      "4/4 [==============================] - 0s 2ms/step - loss: 17.6706\n",
      "Epoch 308/500\n",
      "4/4 [==============================] - 0s 2ms/step - loss: 17.6685\n",
      "Epoch 309/500\n",
      "4/4 [==============================] - 0s 2ms/step - loss: 17.6687\n",
      "Epoch 310/500\n",
      "4/4 [==============================] - 0s 2ms/step - loss: 17.6689\n",
      "Epoch 311/500\n",
      "4/4 [==============================] - 0s 2ms/step - loss: 17.6685\n",
      "Epoch 312/500\n",
      "4/4 [==============================] - 0s 2ms/step - loss: 17.6714\n",
      "Epoch 313/500\n",
      "4/4 [==============================] - 0s 2ms/step - loss: 17.6608\n",
      "Epoch 314/500\n",
      "4/4 [==============================] - 0s 1ms/step - loss: 17.6715\n",
      "Epoch 315/500\n",
      "4/4 [==============================] - 0s 2ms/step - loss: 17.6649\n",
      "Epoch 316/500\n",
      "4/4 [==============================] - 0s 2ms/step - loss: 17.6661\n",
      "Epoch 317/500\n",
      "4/4 [==============================] - 0s 2ms/step - loss: 17.6645\n",
      "Epoch 318/500\n",
      "4/4 [==============================] - 0s 1ms/step - loss: 17.6617\n",
      "Epoch 319/500\n",
      "4/4 [==============================] - 0s 1ms/step - loss: 17.6609\n",
      "Epoch 320/500\n",
      "4/4 [==============================] - 0s 2ms/step - loss: 17.6598\n",
      "Epoch 321/500\n",
      "4/4 [==============================] - 0s 1ms/step - loss: 17.6591\n",
      "Epoch 322/500\n",
      "4/4 [==============================] - 0s 2ms/step - loss: 17.6558\n",
      "Epoch 323/500\n",
      "4/4 [==============================] - 0s 2ms/step - loss: 17.6555\n",
      "Epoch 324/500\n",
      "4/4 [==============================] - 0s 2ms/step - loss: 17.6543\n",
      "Epoch 325/500\n",
      "4/4 [==============================] - 0s 4ms/step - loss: 17.6621\n",
      "Epoch 326/500\n",
      "4/4 [==============================] - 0s 2ms/step - loss: 17.6589\n",
      "Epoch 327/500\n",
      "4/4 [==============================] - 0s 3ms/step - loss: 17.6601\n",
      "Epoch 328/500\n",
      "4/4 [==============================] - 0s 3ms/step - loss: 17.6598\n",
      "Epoch 329/500\n",
      "4/4 [==============================] - 0s 2ms/step - loss: 17.6570\n",
      "Epoch 330/500\n",
      "4/4 [==============================] - 0s 4ms/step - loss: 17.6567\n",
      "Epoch 331/500\n",
      "4/4 [==============================] - 0s 4ms/step - loss: 17.6517\n",
      "Epoch 332/500\n",
      "4/4 [==============================] - 0s 4ms/step - loss: 17.6410\n",
      "Epoch 333/500\n",
      "4/4 [==============================] - 0s 3ms/step - loss: 17.6555\n",
      "Epoch 334/500\n",
      "4/4 [==============================] - 0s 3ms/step - loss: 17.6461\n",
      "Epoch 335/500\n",
      "4/4 [==============================] - 0s 1ms/step - loss: 17.6452\n",
      "Epoch 336/500\n",
      "4/4 [==============================] - 0s 4ms/step - loss: 17.6477\n",
      "Epoch 337/500\n",
      "4/4 [==============================] - 0s 2ms/step - loss: 17.6463\n",
      "Epoch 338/500\n",
      "4/4 [==============================] - 0s 2ms/step - loss: 17.6454\n",
      "Epoch 339/500\n",
      "4/4 [==============================] - 0s 3ms/step - loss: 17.6462\n",
      "Epoch 340/500\n",
      "4/4 [==============================] - 0s 3ms/step - loss: 17.6424\n",
      "Epoch 341/500\n",
      "4/4 [==============================] - 0s 3ms/step - loss: 17.6362\n",
      "Epoch 342/500\n",
      "4/4 [==============================] - 0s 2ms/step - loss: 17.6378\n",
      "Epoch 343/500\n",
      "4/4 [==============================] - 0s 3ms/step - loss: 17.6339\n",
      "Epoch 344/500\n",
      "4/4 [==============================] - 0s 2ms/step - loss: 17.6363\n",
      "Epoch 345/500\n",
      "4/4 [==============================] - 0s 2ms/step - loss: 17.6311\n",
      "Epoch 346/500\n",
      "4/4 [==============================] - 0s 3ms/step - loss: 17.6282\n",
      "Epoch 347/500\n",
      "4/4 [==============================] - 0s 2ms/step - loss: 17.6279\n",
      "Epoch 348/500\n",
      "4/4 [==============================] - 0s 2ms/step - loss: 17.6348\n",
      "Epoch 349/500\n",
      "4/4 [==============================] - 0s 3ms/step - loss: 17.6276\n",
      "Epoch 350/500\n",
      "4/4 [==============================] - 0s 2ms/step - loss: 17.6205\n",
      "Epoch 351/500\n",
      "4/4 [==============================] - 0s 2ms/step - loss: 17.6240\n",
      "Epoch 352/500\n",
      "4/4 [==============================] - ETA: 0s - loss: 18.37 - 0s 2ms/step - loss: 17.6270\n",
      "Epoch 353/500\n",
      "4/4 [==============================] - 0s 2ms/step - loss: 17.6470\n",
      "Epoch 354/500\n",
      "4/4 [==============================] - 0s 2ms/step - loss: 17.6471\n",
      "Epoch 355/500\n",
      "4/4 [==============================] - 0s 2ms/step - loss: 17.6449\n",
      "Epoch 356/500\n",
      "4/4 [==============================] - 0s 2ms/step - loss: 17.6417\n",
      "Epoch 357/500\n",
      "4/4 [==============================] - 0s 1ms/step - loss: 17.6318\n",
      "Epoch 358/500\n",
      "4/4 [==============================] - 0s 2ms/step - loss: 17.6165\n",
      "Epoch 359/500\n",
      "4/4 [==============================] - 0s 2ms/step - loss: 17.6134\n",
      "Epoch 360/500\n",
      "4/4 [==============================] - 0s 2ms/step - loss: 17.6063\n",
      "Epoch 361/500\n",
      "4/4 [==============================] - 0s 2ms/step - loss: 17.6116\n",
      "Epoch 362/500\n",
      "4/4 [==============================] - 0s 2ms/step - loss: 17.6069\n",
      "Epoch 363/500\n",
      "4/4 [==============================] - 0s 2ms/step - loss: 17.6051\n",
      "Epoch 364/500\n",
      "4/4 [==============================] - 0s 2ms/step - loss: 17.6051\n",
      "Epoch 365/500\n",
      "4/4 [==============================] - 0s 2ms/step - loss: 17.5990\n",
      "Epoch 366/500\n",
      "4/4 [==============================] - 0s 2ms/step - loss: 17.6046\n",
      "Epoch 367/500\n",
      "4/4 [==============================] - 0s 2ms/step - loss: 17.6035\n",
      "Epoch 368/500\n",
      "4/4 [==============================] - 0s 2ms/step - loss: 17.6046\n",
      "Epoch 369/500\n",
      "4/4 [==============================] - 0s 2ms/step - loss: 17.6298\n",
      "Epoch 370/500\n",
      "4/4 [==============================] - 0s 1ms/step - loss: 17.6288\n",
      "Epoch 371/500\n",
      "4/4 [==============================] - 0s 2ms/step - loss: 17.6329\n",
      "Epoch 372/500\n",
      "4/4 [==============================] - 0s 2ms/step - loss: 17.6235\n",
      "Epoch 373/500\n",
      "4/4 [==============================] - 0s 2ms/step - loss: 17.6185\n",
      "Epoch 374/500\n",
      "4/4 [==============================] - 0s 2ms/step - loss: 17.6096\n",
      "Epoch 375/500\n",
      "4/4 [==============================] - 0s 1ms/step - loss: 17.6008\n",
      "Epoch 376/500\n",
      "4/4 [==============================] - 0s 2ms/step - loss: 17.6021\n",
      "Epoch 377/500\n",
      "4/4 [==============================] - 0s 909us/step - loss: 17.5937\n",
      "Epoch 378/500\n",
      "4/4 [==============================] - 0s 2ms/step - loss: 17.5902\n",
      "Epoch 379/500\n",
      "4/4 [==============================] - 0s 1ms/step - loss: 17.5937\n",
      "Epoch 380/500\n",
      "4/4 [==============================] - 0s 1ms/step - loss: 17.5925\n",
      "Epoch 381/500\n",
      "4/4 [==============================] - 0s 2ms/step - loss: 17.5904\n",
      "Epoch 382/500\n",
      "4/4 [==============================] - 0s 2ms/step - loss: 17.5848\n",
      "Epoch 383/500\n",
      "4/4 [==============================] - 0s 1ms/step - loss: 17.5793\n",
      "Epoch 384/500\n",
      "4/4 [==============================] - 0s 2ms/step - loss: 17.5778\n",
      "Epoch 385/500\n",
      "4/4 [==============================] - 0s 1ms/step - loss: 17.5785\n",
      "Epoch 386/500\n",
      "4/4 [==============================] - 0s 1ms/step - loss: 17.5774\n",
      "Epoch 387/500\n",
      "4/4 [==============================] - 0s 1ms/step - loss: 17.5731\n",
      "Epoch 388/500\n",
      "4/4 [==============================] - 0s 2ms/step - loss: 17.5834\n",
      "Epoch 389/500\n",
      "4/4 [==============================] - 0s 1ms/step - loss: 17.5902\n",
      "Epoch 390/500\n",
      "4/4 [==============================] - 0s 1ms/step - loss: 17.5846\n",
      "Epoch 391/500\n",
      "4/4 [==============================] - 0s 1ms/step - loss: 17.5774\n",
      "Epoch 392/500\n",
      "4/4 [==============================] - 0s 2ms/step - loss: 17.5770\n",
      "Epoch 393/500\n",
      "4/4 [==============================] - 0s 1ms/step - loss: 17.5701\n",
      "Epoch 394/500\n",
      "4/4 [==============================] - 0s 1ms/step - loss: 17.5674\n",
      "Epoch 395/500\n",
      "4/4 [==============================] - 0s 1ms/step - loss: 17.5672\n",
      "Epoch 396/500\n",
      "4/4 [==============================] - 0s 1ms/step - loss: 17.5595\n",
      "Epoch 397/500\n",
      "4/4 [==============================] - 0s 1ms/step - loss: 17.5594\n",
      "Epoch 398/500\n",
      "4/4 [==============================] - 0s 899us/step - loss: 17.5643\n",
      "Epoch 399/500\n",
      "4/4 [==============================] - 0s 1ms/step - loss: 17.5549\n",
      "Epoch 400/500\n",
      "4/4 [==============================] - 0s 1ms/step - loss: 17.5558\n",
      "Epoch 401/500\n",
      "4/4 [==============================] - 0s 1ms/step - loss: 17.5597\n"
     ]
    },
    {
     "name": "stdout",
     "output_type": "stream",
     "text": [
      "Epoch 402/500\n",
      "4/4 [==============================] - 0s 1ms/step - loss: 17.5487\n",
      "Epoch 403/500\n",
      "4/4 [==============================] - 0s 1ms/step - loss: 17.5634\n",
      "Epoch 404/500\n",
      "4/4 [==============================] - 0s 1ms/step - loss: 17.5548\n",
      "Epoch 405/500\n",
      "4/4 [==============================] - 0s 1ms/step - loss: 17.5528\n",
      "Epoch 406/500\n",
      "4/4 [==============================] - 0s 974us/step - loss: 17.5552\n",
      "Epoch 407/500\n",
      "4/4 [==============================] - 0s 1ms/step - loss: 17.5396\n",
      "Epoch 408/500\n",
      "4/4 [==============================] - 0s 2ms/step - loss: 17.5364\n",
      "Epoch 409/500\n",
      "4/4 [==============================] - 0s 2ms/step - loss: 17.5429\n",
      "Epoch 410/500\n",
      "4/4 [==============================] - 0s 2ms/step - loss: 17.5381\n",
      "Epoch 411/500\n",
      "4/4 [==============================] - 0s 2ms/step - loss: 17.5409\n",
      "Epoch 412/500\n",
      "4/4 [==============================] - 0s 1ms/step - loss: 17.5387\n",
      "Epoch 413/500\n",
      "4/4 [==============================] - 0s 867us/step - loss: 17.5396\n",
      "Epoch 414/500\n",
      "4/4 [==============================] - 0s 1ms/step - loss: 17.5570\n",
      "Epoch 415/500\n",
      "4/4 [==============================] - 0s 1ms/step - loss: 17.5592\n",
      "Epoch 416/500\n",
      "4/4 [==============================] - 0s 1ms/step - loss: 17.5609\n",
      "Epoch 417/500\n",
      "4/4 [==============================] - 0s 1ms/step - loss: 17.5648\n",
      "Epoch 418/500\n",
      "4/4 [==============================] - 0s 1ms/step - loss: 17.5710\n",
      "Epoch 419/500\n",
      "4/4 [==============================] - 0s 2ms/step - loss: 17.5813\n",
      "Epoch 420/500\n",
      "4/4 [==============================] - 0s 2ms/step - loss: 17.5804\n",
      "Epoch 421/500\n",
      "4/4 [==============================] - 0s 2ms/step - loss: 17.5793\n",
      "Epoch 422/500\n",
      "4/4 [==============================] - 0s 1ms/step - loss: 17.5501\n",
      "Epoch 423/500\n",
      "4/4 [==============================] - 0s 1ms/step - loss: 17.5347\n",
      "Epoch 424/500\n",
      "4/4 [==============================] - 0s 2ms/step - loss: 17.5351\n",
      "Epoch 425/500\n",
      "4/4 [==============================] - 0s 2ms/step - loss: 17.5208\n",
      "Epoch 426/500\n",
      "4/4 [==============================] - 0s 2ms/step - loss: 17.5189\n",
      "Epoch 427/500\n",
      "4/4 [==============================] - 0s 1ms/step - loss: 17.5180\n",
      "Epoch 428/500\n",
      "4/4 [==============================] - 0s 1ms/step - loss: 17.5151\n",
      "Epoch 429/500\n",
      "4/4 [==============================] - 0s 1ms/step - loss: 17.5134\n",
      "Epoch 430/500\n",
      "4/4 [==============================] - 0s 1ms/step - loss: 17.5108\n",
      "Epoch 431/500\n",
      "4/4 [==============================] - 0s 2ms/step - loss: 17.5099\n",
      "Epoch 432/500\n",
      "4/4 [==============================] - 0s 1ms/step - loss: 17.5097\n",
      "Epoch 433/500\n",
      "4/4 [==============================] - 0s 1ms/step - loss: 17.5144\n",
      "Epoch 434/500\n",
      "4/4 [==============================] - 0s 1ms/step - loss: 17.4987\n",
      "Epoch 435/500\n",
      "4/4 [==============================] - 0s 2ms/step - loss: 17.4992\n",
      "Epoch 436/500\n",
      "4/4 [==============================] - 0s 1ms/step - loss: 17.4979\n",
      "Epoch 437/500\n",
      "4/4 [==============================] - 0s 2ms/step - loss: 17.4975\n",
      "Epoch 438/500\n",
      "4/4 [==============================] - 0s 2ms/step - loss: 17.4967\n",
      "Epoch 439/500\n",
      "4/4 [==============================] - 0s 1ms/step - loss: 17.4958\n",
      "Epoch 440/500\n",
      "4/4 [==============================] - 0s 2ms/step - loss: 17.5039\n",
      "Epoch 441/500\n",
      "4/4 [==============================] - 0s 1ms/step - loss: 17.4986\n",
      "Epoch 442/500\n",
      "4/4 [==============================] - 0s 2ms/step - loss: 17.4915\n",
      "Epoch 443/500\n",
      "4/4 [==============================] - 0s 1ms/step - loss: 17.4892\n",
      "Epoch 444/500\n",
      "4/4 [==============================] - 0s 2ms/step - loss: 17.4885\n",
      "Epoch 445/500\n",
      "4/4 [==============================] - 0s 2ms/step - loss: 17.4855\n",
      "Epoch 446/500\n",
      "4/4 [==============================] - 0s 4ms/step - loss: 17.4991\n",
      "Epoch 447/500\n",
      "4/4 [==============================] - 0s 2ms/step - loss: 17.4825\n",
      "Epoch 448/500\n",
      "4/4 [==============================] - 0s 2ms/step - loss: 17.4775\n",
      "Epoch 449/500\n",
      "4/4 [==============================] - 0s 3ms/step - loss: 17.4773\n",
      "Epoch 450/500\n",
      "4/4 [==============================] - 0s 3ms/step - loss: 17.4706\n",
      "Epoch 451/500\n",
      "4/4 [==============================] - 0s 2ms/step - loss: 17.4745\n",
      "Epoch 452/500\n",
      "4/4 [==============================] - 0s 1ms/step - loss: 17.5272\n",
      "Epoch 453/500\n",
      "4/4 [==============================] - 0s 2ms/step - loss: 17.5323\n",
      "Epoch 454/500\n",
      "4/4 [==============================] - 0s 2ms/step - loss: 17.5229\n",
      "Epoch 455/500\n",
      "4/4 [==============================] - 0s 1ms/step - loss: 17.5091\n",
      "Epoch 456/500\n",
      "4/4 [==============================] - 0s 2ms/step - loss: 17.5055\n",
      "Epoch 457/500\n",
      "4/4 [==============================] - 0s 3ms/step - loss: 17.5013\n",
      "Epoch 458/500\n",
      "4/4 [==============================] - 0s 2ms/step - loss: 17.4997\n",
      "Epoch 459/500\n",
      "4/4 [==============================] - 0s 1ms/step - loss: 17.4912\n",
      "Epoch 460/500\n",
      "4/4 [==============================] - 0s 1ms/step - loss: 17.5069\n",
      "Epoch 461/500\n",
      "4/4 [==============================] - 0s 1ms/step - loss: 17.4680\n",
      "Epoch 462/500\n",
      "4/4 [==============================] - 0s 967us/step - loss: 17.4650\n",
      "Epoch 463/500\n",
      "4/4 [==============================] - 0s 1ms/step - loss: 17.4607\n",
      "Epoch 464/500\n",
      "4/4 [==============================] - 0s 1ms/step - loss: 17.4558\n",
      "Epoch 465/500\n",
      "4/4 [==============================] - 0s 2ms/step - loss: 17.4587\n",
      "Epoch 466/500\n",
      "4/4 [==============================] - 0s 2ms/step - loss: 17.4508\n",
      "Epoch 467/500\n",
      "4/4 [==============================] - 0s 2ms/step - loss: 17.4513\n",
      "Epoch 468/500\n",
      "4/4 [==============================] - 0s 2ms/step - loss: 17.4476\n",
      "Epoch 469/500\n",
      "4/4 [==============================] - 0s 2ms/step - loss: 17.4451\n",
      "Epoch 470/500\n",
      "4/4 [==============================] - 0s 2ms/step - loss: 17.4448\n",
      "Epoch 471/500\n",
      "4/4 [==============================] - 0s 2ms/step - loss: 17.4492\n",
      "Epoch 472/500\n",
      "4/4 [==============================] - 0s 2ms/step - loss: 17.4469\n",
      "Epoch 473/500\n",
      "4/4 [==============================] - 0s 2ms/step - loss: 17.4459\n",
      "Epoch 474/500\n",
      "4/4 [==============================] - ETA: 0s - loss: 17.41 - 0s 2ms/step - loss: 17.4338\n",
      "Epoch 475/500\n",
      "4/4 [==============================] - 0s 2ms/step - loss: 17.4357\n",
      "Epoch 476/500\n",
      "4/4 [==============================] - 0s 2ms/step - loss: 17.4379\n",
      "Epoch 477/500\n",
      "4/4 [==============================] - 0s 1ms/step - loss: 17.4397\n",
      "Epoch 478/500\n",
      "4/4 [==============================] - 0s 2ms/step - loss: 17.4518\n",
      "Epoch 479/500\n",
      "4/4 [==============================] - 0s 2ms/step - loss: 17.4477\n",
      "Epoch 480/500\n",
      "4/4 [==============================] - 0s 2ms/step - loss: 17.4492\n",
      "Epoch 481/500\n",
      "4/4 [==============================] - 0s 1ms/step - loss: 17.4433\n",
      "Epoch 482/500\n",
      "4/4 [==============================] - 0s 3ms/step - loss: 17.4453\n",
      "Epoch 483/500\n",
      "4/4 [==============================] - 0s 972us/step - loss: 17.4400\n",
      "Epoch 484/500\n",
      "4/4 [==============================] - 0s 2ms/step - loss: 17.4438\n",
      "Epoch 485/500\n",
      "4/4 [==============================] - 0s 1ms/step - loss: 17.4327\n",
      "Epoch 486/500\n",
      "4/4 [==============================] - 0s 2ms/step - loss: 17.4303\n",
      "Epoch 487/500\n",
      "4/4 [==============================] - 0s 1ms/step - loss: 17.4336\n",
      "Epoch 488/500\n",
      "4/4 [==============================] - 0s 4ms/step - loss: 17.4364\n",
      "Epoch 489/500\n",
      "4/4 [==============================] - 0s 2ms/step - loss: 17.4447\n",
      "Epoch 490/500\n",
      "4/4 [==============================] - 0s 2ms/step - loss: 17.4411\n",
      "Epoch 491/500\n",
      "4/4 [==============================] - 0s 2ms/step - loss: 17.4408\n",
      "Epoch 492/500\n",
      "4/4 [==============================] - 0s 1ms/step - loss: 17.4391\n",
      "Epoch 493/500\n",
      "4/4 [==============================] - 0s 3ms/step - loss: 17.4271\n",
      "Epoch 494/500\n",
      "4/4 [==============================] - 0s 2ms/step - loss: 17.4219\n",
      "Epoch 495/500\n",
      "4/4 [==============================] - 0s 1ms/step - loss: 17.4222\n",
      "Epoch 496/500\n",
      "4/4 [==============================] - 0s 1ms/step - loss: 17.4138\n",
      "Epoch 497/500\n",
      "4/4 [==============================] - 0s 2ms/step - loss: 17.4110\n",
      "Epoch 498/500\n",
      "4/4 [==============================] - 0s 2ms/step - loss: 17.4099\n",
      "Epoch 499/500\n",
      "4/4 [==============================] - 0s 2ms/step - loss: 17.4096\n",
      "Epoch 500/500\n",
      "4/4 [==============================] - 0s 1ms/step - loss: 17.4079\n"
     ]
    },
    {
     "data": {
      "text/plain": [
       "<tensorflow.python.keras.callbacks.History at 0x7f3dd835d410>"
      ]
     },
     "execution_count": 9,
     "metadata": {},
     "output_type": "execute_result"
    }
   ],
   "source": [
    "model.fit(x, y, epochs=500, verbose=1)"
   ]
  },
  {
   "cell_type": "markdown",
   "metadata": {},
   "source": [
    "## Prever novos x pontos\n",
    "\n",
    "Nosso x anterior era de 100 pontos de espaço entre 0 e 50. Vamos prever 1000 valores entre 0 e 50, desenhando uma linha para nossas previsões (nossa linha de melhor ajuste).\n",
    "\n",
    "\n"
   ]
  },
  {
   "cell_type": "code",
   "execution_count": 10,
   "metadata": {},
   "outputs": [],
   "source": [
    "x_for_predictions = np.linspace(0,50,1000)"
   ]
  },
  {
   "cell_type": "code",
   "execution_count": 11,
   "metadata": {},
   "outputs": [],
   "source": [
    "y_predicted = model.predict(x_for_predictions)"
   ]
  },
  {
   "cell_type": "code",
   "execution_count": 12,
   "metadata": {},
   "outputs": [
    {
     "data": {
      "text/plain": [
       "[<matplotlib.lines.Line2D at 0x7f3db83d2850>]"
      ]
     },
     "execution_count": 12,
     "metadata": {},
     "output_type": "execute_result"
    },
    {
     "data": {
      "image/png": "[encoded data removed]",
      "text/plain": [
       "<Figure size 432x288 with 1 Axes>"
      ]
     },
     "metadata": {
      "needs_background": "light"
     },
     "output_type": "display_data"
    }
   ],
   "source": [
    "# X e Y originais\n",
    "plt.plot(x,y,'.')\n",
    "\n",
    "# Reta prevista\n",
    "plt.plot(x_for_predictions,y_predicted,'r')"
   ]
  },
  {
   "cell_type": "markdown",
   "metadata": {},
   "source": [
    "# Avaliação do erro"
   ]
  },
  {
   "cell_type": "code",
   "execution_count": 13,
   "metadata": {},
   "outputs": [],
   "source": [
    "from sklearn.metrics import mean_squared_error,mean_absolute_error"
   ]
  },
  {
   "cell_type": "code",
   "execution_count": 14,
   "metadata": {},
   "outputs": [],
   "source": [
    "\n",
    "prediction_for_true_y = model.predict(x)"
   ]
  },
  {
   "cell_type": "code",
   "execution_count": 15,
   "metadata": {},
   "outputs": [
    {
     "data": {
      "text/plain": [
       "17.408613195595734"
      ]
     },
     "execution_count": 15,
     "metadata": {},
     "output_type": "execute_result"
    }
   ],
   "source": [
    "mean_squared_error(y,prediction_for_true_y)"
   ]
  },
  {
   "cell_type": "code",
   "execution_count": 16,
   "metadata": {},
   "outputs": [
    {
     "data": {
      "text/plain": [
       "3.339740703998877"
      ]
     },
     "execution_count": 16,
     "metadata": {},
     "output_type": "execute_result"
    }
   ],
   "source": [
    "mean_absolute_error(y,prediction_for_true_y)"
   ]
  },
  {
   "cell_type": "markdown",
   "metadata": {},
   "source": [
    "Como interpretar esse resultado? Depende da comparação com outros modelos!"
   ]
  },
  {
   "cell_type": "markdown",
   "metadata": {},
   "source": [
    "## Modelagem de séries temporais usando o Keras\n",
    "\n"
   ]
  },
  {
   "cell_type": "code",
   "execution_count": 1,
   "metadata": {},
   "outputs": [],
   "source": [
    "import pandas as pd\n",
    "import numpy as np\n",
    "%matplotlib inline\n",
    "import matplotlib.pyplot as plt"
   ]
  },
  {
   "cell_type": "code",
   "execution_count": 3,
   "metadata": {},
   "outputs": [
    {
     "output_type": "display_data",
     "data": {
      "text/plain": "<Figure size 432x288 with 1 Axes>",
      "image/svg+xml": "<?xml version=\"1.0\" encoding=\"utf-8\" standalone=\"no\"?>\n<!DOCTYPE svg PUBLIC \"-//W3C//DTD SVG 1.1//EN\"\n  \"http://www.w3.org/Graphics/SVG/1.1/DTD/svg11.dtd\">\n<!-- Created with matplotlib (https://matplotlib.org/) -->\n<svg height=\"259.715937pt\" version=\"1.1\" viewBox=\"0 0 375.2875 259.715937\" width=\"375.2875pt\" xmlns=\"http://www.w3.org/2000/svg\" xmlns:xlink=\"http://www.w3.org/1999/xlink\">\n <metadata>\n  <rdf:RDF xmlns:cc=\"http://creativecommons.org/ns#\" xmlns:dc=\"http://purl.org/dc/elements/1.1/\" xmlns:rdf=\"http://www.w3.org/1999/02/22-rdf-syntax-ns#\">\n   <cc:Work>\n    <dc:type rdf:resource=\"http://purl.org/dc/dcmitype/StillImage\"/>\n    <dc:date>2020-09-17T00:56:51.333826</dc:date>\n    <dc:format>image/svg+xml</dc:format>\n    <dc:creator>\n     <cc:Agent>\n      <dc:title>Matplotlib v3.3.0, https://matplotlib.org/</dc:title>\n     </cc:Agent>\n    </dc:creator>\n   </cc:Work>\n  </rdf:RDF>\n </metadata>\n <defs>\n  <style type=\"text/css\">*{stroke-linecap:butt;stroke-linejoin:round;}</style>\n </defs>\n <g id=\"figure_1\">\n  <g id=\"patch_1\">\n   <path d=\"M 0 259.715937 \nL 375.2875 259.715937 \nL 375.2875 0 \nL 0 0 \nz\n\" style=\"fill:none;\"/>\n  </g>\n  <g id=\"axes_1\">\n   <g id=\"patch_2\">\n    <path d=\"M 33.2875 224.64 \nL 368.0875 224.64 \nL 368.0875 7.2 \nL 33.2875 7.2 \nz\n\" style=\"fill:#ffffff;\"/>\n   </g>\n   <g id=\"matplotlib.axis_1\">\n    <g id=\"xtick_1\">\n     <g id=\"line2d_1\">\n      <defs>\n       <path d=\"M 0 0 \nL 0 3.5 \n\" id=\"ma0aaa51938\" style=\"stroke:#000000;stroke-width:0.8;\"/>\n      </defs>\n      <g>\n       <use style=\"stroke:#000000;stroke-width:0.8;\" x=\"33.2875\" xlink:href=\"#ma0aaa51938\" y=\"224.64\"/>\n      </g>\n     </g>\n    </g>\n    <g id=\"xtick_2\">\n     <g id=\"line2d_2\">\n      <g>\n       <use style=\"stroke:#000000;stroke-width:0.8;\" x=\"41.02854\" xlink:href=\"#ma0aaa51938\" y=\"224.64\"/>\n      </g>\n     </g>\n     <g id=\"text_1\">\n      <!-- Mar -->\n      <g transform=\"translate(31.594947 239.238438)scale(0.1 -0.1)\">\n       <defs>\n        <path d=\"M 9.8125 72.90625 \nL 24.515625 72.90625 \nL 43.109375 23.296875 \nL 61.8125 72.90625 \nL 76.515625 72.90625 \nL 76.515625 0 \nL 66.890625 0 \nL 66.890625 64.015625 \nL 48.09375 14.015625 \nL 38.1875 14.015625 \nL 19.390625 64.015625 \nL 19.390625 0 \nL 9.8125 0 \nz\n\" id=\"DejaVuSans-77\"/>\n        <path d=\"M 34.28125 27.484375 \nQ 23.390625 27.484375 19.1875 25 \nQ 14.984375 22.515625 14.984375 16.5 \nQ 14.984375 11.71875 18.140625 8.90625 \nQ 21.296875 6.109375 26.703125 6.109375 \nQ 34.1875 6.109375 38.703125 11.40625 \nQ 43.21875 16.703125 43.21875 25.484375 \nL 43.21875 27.484375 \nz\nM 52.203125 31.203125 \nL 52.203125 0 \nL 43.21875 0 \nL 43.21875 8.296875 \nQ 40.140625 3.328125 35.546875 0.953125 \nQ 30.953125 -1.421875 24.3125 -1.421875 \nQ 15.921875 -1.421875 10.953125 3.296875 \nQ 6 8.015625 6 15.921875 \nQ 6 25.140625 12.171875 29.828125 \nQ 18.359375 34.515625 30.609375 34.515625 \nL 43.21875 34.515625 \nL 43.21875 35.40625 \nQ 43.21875 41.609375 39.140625 45 \nQ 35.0625 48.390625 27.6875 48.390625 \nQ 23 48.390625 18.546875 47.265625 \nQ 14.109375 46.140625 10.015625 43.890625 \nL 10.015625 52.203125 \nQ 14.9375 54.109375 19.578125 55.046875 \nQ 24.21875 56 28.609375 56 \nQ 40.484375 56 46.34375 49.84375 \nQ 52.203125 43.703125 52.203125 31.203125 \nz\n\" id=\"DejaVuSans-97\"/>\n        <path d=\"M 41.109375 46.296875 \nQ 39.59375 47.171875 37.8125 47.578125 \nQ 36.03125 48 33.890625 48 \nQ 26.265625 48 22.1875 43.046875 \nQ 18.109375 38.09375 18.109375 28.8125 \nL 18.109375 0 \nL 9.078125 0 \nL 9.078125 54.6875 \nL 18.109375 54.6875 \nL 18.109375 46.1875 \nQ 20.953125 51.171875 25.484375 53.578125 \nQ 30.03125 56 36.53125 56 \nQ 37.453125 56 38.578125 55.875 \nQ 39.703125 55.765625 41.0625 55.515625 \nz\n\" id=\"DejaVuSans-114\"/>\n       </defs>\n       <use xlink:href=\"#DejaVuSans-77\"/>\n       <use x=\"86.279297\" xlink:href=\"#DejaVuSans-97\"/>\n       <use x=\"147.558594\" xlink:href=\"#DejaVuSans-114\"/>\n      </g>\n      <!-- 2020 -->\n      <g transform=\"translate(28.30354 250.43625)scale(0.1 -0.1)\">\n       <defs>\n        <path d=\"M 19.1875 8.296875 \nL 53.609375 8.296875 \nL 53.609375 0 \nL 7.328125 0 \nL 7.328125 8.296875 \nQ 12.9375 14.109375 22.625 23.890625 \nQ 32.328125 33.6875 34.8125 36.53125 \nQ 39.546875 41.84375 41.421875 45.53125 \nQ 43.3125 49.21875 43.3125 52.78125 \nQ 43.3125 58.59375 39.234375 62.25 \nQ 35.15625 65.921875 28.609375 65.921875 \nQ 23.96875 65.921875 18.8125 64.3125 \nQ 13.671875 62.703125 7.8125 59.421875 \nL 7.8125 69.390625 \nQ 13.765625 71.78125 18.9375 73 \nQ 24.125 74.21875 28.421875 74.21875 \nQ 39.75 74.21875 46.484375 68.546875 \nQ 53.21875 62.890625 53.21875 53.421875 \nQ 53.21875 48.921875 51.53125 44.890625 \nQ 49.859375 40.875 45.40625 35.40625 \nQ 44.1875 33.984375 37.640625 27.21875 \nQ 31.109375 20.453125 19.1875 8.296875 \nz\n\" id=\"DejaVuSans-50\"/>\n        <path d=\"M 31.78125 66.40625 \nQ 24.171875 66.40625 20.328125 58.90625 \nQ 16.5 51.421875 16.5 36.375 \nQ 16.5 21.390625 20.328125 13.890625 \nQ 24.171875 6.390625 31.78125 6.390625 \nQ 39.453125 6.390625 43.28125 13.890625 \nQ 47.125 21.390625 47.125 36.375 \nQ 47.125 51.421875 43.28125 58.90625 \nQ 39.453125 66.40625 31.78125 66.40625 \nz\nM 31.78125 74.21875 \nQ 44.046875 74.21875 50.515625 64.515625 \nQ 56.984375 54.828125 56.984375 36.375 \nQ 56.984375 17.96875 50.515625 8.265625 \nQ 44.046875 -1.421875 31.78125 -1.421875 \nQ 19.53125 -1.421875 13.0625 8.265625 \nQ 6.59375 17.96875 6.59375 36.375 \nQ 6.59375 54.828125 13.0625 64.515625 \nQ 19.53125 74.21875 31.78125 74.21875 \nz\n\" id=\"DejaVuSans-48\"/>\n       </defs>\n       <use xlink:href=\"#DejaVuSans-50\"/>\n       <use x=\"63.623047\" xlink:href=\"#DejaVuSans-48\"/>\n       <use x=\"127.246094\" xlink:href=\"#DejaVuSans-50\"/>\n       <use x=\"190.869141\" xlink:href=\"#DejaVuSans-48\"/>\n      </g>\n     </g>\n    </g>\n    <g id=\"xtick_3\">\n     <g id=\"line2d_3\">\n      <g>\n       <use style=\"stroke:#000000;stroke-width:0.8;\" x=\"101.021604\" xlink:href=\"#ma0aaa51938\" y=\"224.64\"/>\n      </g>\n     </g>\n     <g id=\"text_2\">\n      <!-- Apr -->\n      <g transform=\"translate(92.371604 239.238438)scale(0.1 -0.1)\">\n       <defs>\n        <path d=\"M 34.1875 63.1875 \nL 20.796875 26.90625 \nL 47.609375 26.90625 \nz\nM 28.609375 72.90625 \nL 39.796875 72.90625 \nL 67.578125 0 \nL 57.328125 0 \nL 50.6875 18.703125 \nL 17.828125 18.703125 \nL 11.1875 0 \nL 0.78125 0 \nz\n\" id=\"DejaVuSans-65\"/>\n        <path d=\"M 18.109375 8.203125 \nL 18.109375 -20.796875 \nL 9.078125 -20.796875 \nL 9.078125 54.6875 \nL 18.109375 54.6875 \nL 18.109375 46.390625 \nQ 20.953125 51.265625 25.265625 53.625 \nQ 29.59375 56 35.59375 56 \nQ 45.5625 56 51.78125 48.09375 \nQ 58.015625 40.1875 58.015625 27.296875 \nQ 58.015625 14.40625 51.78125 6.484375 \nQ 45.5625 -1.421875 35.59375 -1.421875 \nQ 29.59375 -1.421875 25.265625 0.953125 \nQ 20.953125 3.328125 18.109375 8.203125 \nz\nM 48.6875 27.296875 \nQ 48.6875 37.203125 44.609375 42.84375 \nQ 40.53125 48.484375 33.40625 48.484375 \nQ 26.265625 48.484375 22.1875 42.84375 \nQ 18.109375 37.203125 18.109375 27.296875 \nQ 18.109375 17.390625 22.1875 11.75 \nQ 26.265625 6.109375 33.40625 6.109375 \nQ 40.53125 6.109375 44.609375 11.75 \nQ 48.6875 17.390625 48.6875 27.296875 \nz\n\" id=\"DejaVuSans-112\"/>\n       </defs>\n       <use xlink:href=\"#DejaVuSans-65\"/>\n       <use x=\"68.408203\" xlink:href=\"#DejaVuSans-112\"/>\n       <use x=\"131.884766\" xlink:href=\"#DejaVuSans-114\"/>\n      </g>\n     </g>\n    </g>\n    <g id=\"xtick_4\">\n     <g id=\"line2d_4\">\n      <g>\n       <use style=\"stroke:#000000;stroke-width:0.8;\" x=\"159.079408\" xlink:href=\"#ma0aaa51938\" y=\"224.64\"/>\n      </g>\n     </g>\n     <g id=\"text_3\">\n      <!-- May -->\n      <g transform=\"translate(148.741908 239.238438)scale(0.1 -0.1)\">\n       <defs>\n        <path d=\"M 32.171875 -5.078125 \nQ 28.375 -14.84375 24.75 -17.8125 \nQ 21.140625 -20.796875 15.09375 -20.796875 \nL 7.90625 -20.796875 \nL 7.90625 -13.28125 \nL 13.1875 -13.28125 \nQ 16.890625 -13.28125 18.9375 -11.515625 \nQ 21 -9.765625 23.484375 -3.21875 \nL 25.09375 0.875 \nL 2.984375 54.6875 \nL 12.5 54.6875 \nL 29.59375 11.921875 \nL 46.6875 54.6875 \nL 56.203125 54.6875 \nz\n\" id=\"DejaVuSans-121\"/>\n       </defs>\n       <use xlink:href=\"#DejaVuSans-77\"/>\n       <use x=\"86.279297\" xlink:href=\"#DejaVuSans-97\"/>\n       <use x=\"147.558594\" xlink:href=\"#DejaVuSans-121\"/>\n      </g>\n     </g>\n    </g>\n    <g id=\"xtick_5\">\n     <g id=\"line2d_5\">\n      <g>\n       <use style=\"stroke:#000000;stroke-width:0.8;\" x=\"219.072471\" xlink:href=\"#ma0aaa51938\" y=\"224.64\"/>\n      </g>\n     </g>\n     <g id=\"text_4\">\n      <!-- Jun -->\n      <g transform=\"translate(211.259971 239.238438)scale(0.1 -0.1)\">\n       <defs>\n        <path d=\"M 9.8125 72.90625 \nL 19.671875 72.90625 \nL 19.671875 5.078125 \nQ 19.671875 -8.109375 14.671875 -14.0625 \nQ 9.671875 -20.015625 -1.421875 -20.015625 \nL -5.171875 -20.015625 \nL -5.171875 -11.71875 \nL -2.09375 -11.71875 \nQ 4.4375 -11.71875 7.125 -8.046875 \nQ 9.8125 -4.390625 9.8125 5.078125 \nz\n\" id=\"DejaVuSans-74\"/>\n        <path d=\"M 8.5 21.578125 \nL 8.5 54.6875 \nL 17.484375 54.6875 \nL 17.484375 21.921875 \nQ 17.484375 14.15625 20.5 10.265625 \nQ 23.53125 6.390625 29.59375 6.390625 \nQ 36.859375 6.390625 41.078125 11.03125 \nQ 45.3125 15.671875 45.3125 23.6875 \nL 45.3125 54.6875 \nL 54.296875 54.6875 \nL 54.296875 0 \nL 45.3125 0 \nL 45.3125 8.40625 \nQ 42.046875 3.421875 37.71875 1 \nQ 33.40625 -1.421875 27.6875 -1.421875 \nQ 18.265625 -1.421875 13.375 4.4375 \nQ 8.5 10.296875 8.5 21.578125 \nz\nM 31.109375 56 \nz\n\" id=\"DejaVuSans-117\"/>\n        <path d=\"M 54.890625 33.015625 \nL 54.890625 0 \nL 45.90625 0 \nL 45.90625 32.71875 \nQ 45.90625 40.484375 42.875 44.328125 \nQ 39.84375 48.1875 33.796875 48.1875 \nQ 26.515625 48.1875 22.3125 43.546875 \nQ 18.109375 38.921875 18.109375 30.90625 \nL 18.109375 0 \nL 9.078125 0 \nL 9.078125 54.6875 \nL 18.109375 54.6875 \nL 18.109375 46.1875 \nQ 21.34375 51.125 25.703125 53.5625 \nQ 30.078125 56 35.796875 56 \nQ 45.21875 56 50.046875 50.171875 \nQ 54.890625 44.34375 54.890625 33.015625 \nz\n\" id=\"DejaVuSans-110\"/>\n       </defs>\n       <use xlink:href=\"#DejaVuSans-74\"/>\n       <use x=\"29.492188\" xlink:href=\"#DejaVuSans-117\"/>\n       <use x=\"92.871094\" xlink:href=\"#DejaVuSans-110\"/>\n      </g>\n     </g>\n    </g>\n    <g id=\"xtick_6\">\n     <g id=\"line2d_6\">\n      <g>\n       <use style=\"stroke:#000000;stroke-width:0.8;\" x=\"277.130275\" xlink:href=\"#ma0aaa51938\" y=\"224.64\"/>\n      </g>\n     </g>\n     <g id=\"text_5\">\n      <!-- Jul -->\n      <g transform=\"translate(271.097462 239.238438)scale(0.1 -0.1)\">\n       <defs>\n        <path d=\"M 9.421875 75.984375 \nL 18.40625 75.984375 \nL 18.40625 0 \nL 9.421875 0 \nz\n\" id=\"DejaVuSans-108\"/>\n       </defs>\n       <use xlink:href=\"#DejaVuSans-74\"/>\n       <use x=\"29.492188\" xlink:href=\"#DejaVuSans-117\"/>\n       <use x=\"92.871094\" xlink:href=\"#DejaVuSans-108\"/>\n      </g>\n     </g>\n    </g>\n    <g id=\"xtick_7\">\n     <g id=\"line2d_7\">\n      <g>\n       <use style=\"stroke:#000000;stroke-width:0.8;\" x=\"337.123338\" xlink:href=\"#ma0aaa51938\" y=\"224.64\"/>\n      </g>\n     </g>\n     <g id=\"text_6\">\n      <!-- Aug -->\n      <g transform=\"translate(327.360057 239.238438)scale(0.1 -0.1)\">\n       <defs>\n        <path d=\"M 45.40625 27.984375 \nQ 45.40625 37.75 41.375 43.109375 \nQ 37.359375 48.484375 30.078125 48.484375 \nQ 22.859375 48.484375 18.828125 43.109375 \nQ 14.796875 37.75 14.796875 27.984375 \nQ 14.796875 18.265625 18.828125 12.890625 \nQ 22.859375 7.515625 30.078125 7.515625 \nQ 37.359375 7.515625 41.375 12.890625 \nQ 45.40625 18.265625 45.40625 27.984375 \nz\nM 54.390625 6.78125 \nQ 54.390625 -7.171875 48.1875 -13.984375 \nQ 42 -20.796875 29.203125 -20.796875 \nQ 24.46875 -20.796875 20.265625 -20.09375 \nQ 16.0625 -19.390625 12.109375 -17.921875 \nL 12.109375 -9.1875 \nQ 16.0625 -11.328125 19.921875 -12.34375 \nQ 23.78125 -13.375 27.78125 -13.375 \nQ 36.625 -13.375 41.015625 -8.765625 \nQ 45.40625 -4.15625 45.40625 5.171875 \nL 45.40625 9.625 \nQ 42.625 4.78125 38.28125 2.390625 \nQ 33.9375 0 27.875 0 \nQ 17.828125 0 11.671875 7.65625 \nQ 5.515625 15.328125 5.515625 27.984375 \nQ 5.515625 40.671875 11.671875 48.328125 \nQ 17.828125 56 27.875 56 \nQ 33.9375 56 38.28125 53.609375 \nQ 42.625 51.21875 45.40625 46.390625 \nL 45.40625 54.6875 \nL 54.390625 54.6875 \nz\n\" id=\"DejaVuSans-103\"/>\n       </defs>\n       <use xlink:href=\"#DejaVuSans-65\"/>\n       <use x=\"68.408203\" xlink:href=\"#DejaVuSans-117\"/>\n       <use x=\"131.787109\" xlink:href=\"#DejaVuSans-103\"/>\n      </g>\n     </g>\n    </g>\n    <g id=\"xtick_8\">\n     <g id=\"line2d_8\">\n      <g>\n       <use style=\"stroke:#000000;stroke-width:0.8;\" x=\"368.0875\" xlink:href=\"#ma0aaa51938\" y=\"224.64\"/>\n      </g>\n     </g>\n    </g>\n    <g id=\"xtick_9\">\n     <g id=\"line2d_9\">\n      <defs>\n       <path d=\"M 0 0 \nL 0 2 \n\" id=\"m12964610e1\" style=\"stroke:#000000;stroke-width:0.6;\"/>\n      </defs>\n      <g>\n       <use style=\"stroke:#000000;stroke-width:0.6;\" x=\"42.963801\" xlink:href=\"#m12964610e1\" y=\"224.64\"/>\n      </g>\n     </g>\n    </g>\n    <g id=\"xtick_10\">\n     <g id=\"line2d_10\">\n      <g>\n       <use style=\"stroke:#000000;stroke-width:0.6;\" x=\"56.510621\" xlink:href=\"#m12964610e1\" y=\"224.64\"/>\n      </g>\n     </g>\n    </g>\n    <g id=\"xtick_11\">\n     <g id=\"line2d_11\">\n      <g>\n       <use style=\"stroke:#000000;stroke-width:0.6;\" x=\"70.057442\" xlink:href=\"#m12964610e1\" y=\"224.64\"/>\n      </g>\n     </g>\n    </g>\n    <g id=\"xtick_12\">\n     <g id=\"line2d_12\">\n      <g>\n       <use style=\"stroke:#000000;stroke-width:0.6;\" x=\"83.604263\" xlink:href=\"#m12964610e1\" y=\"224.64\"/>\n      </g>\n     </g>\n    </g>\n    <g id=\"xtick_13\">\n     <g id=\"line2d_13\">\n      <g>\n       <use style=\"stroke:#000000;stroke-width:0.6;\" x=\"97.151084\" xlink:href=\"#m12964610e1\" y=\"224.64\"/>\n      </g>\n     </g>\n    </g>\n    <g id=\"xtick_14\">\n     <g id=\"line2d_14\">\n      <g>\n       <use style=\"stroke:#000000;stroke-width:0.6;\" x=\"110.697905\" xlink:href=\"#m12964610e1\" y=\"224.64\"/>\n      </g>\n     </g>\n    </g>\n    <g id=\"xtick_15\">\n     <g id=\"line2d_15\">\n      <g>\n       <use style=\"stroke:#000000;stroke-width:0.6;\" x=\"124.244725\" xlink:href=\"#m12964610e1\" y=\"224.64\"/>\n      </g>\n     </g>\n    </g>\n    <g id=\"xtick_16\">\n     <g id=\"line2d_16\">\n      <g>\n       <use style=\"stroke:#000000;stroke-width:0.6;\" x=\"137.791546\" xlink:href=\"#m12964610e1\" y=\"224.64\"/>\n      </g>\n     </g>\n    </g>\n    <g id=\"xtick_17\">\n     <g id=\"line2d_17\">\n      <g>\n       <use style=\"stroke:#000000;stroke-width:0.6;\" x=\"151.338367\" xlink:href=\"#m12964610e1\" y=\"224.64\"/>\n      </g>\n     </g>\n    </g>\n    <g id=\"xtick_18\">\n     <g id=\"line2d_18\">\n      <g>\n       <use style=\"stroke:#000000;stroke-width:0.6;\" x=\"164.885188\" xlink:href=\"#m12964610e1\" y=\"224.64\"/>\n      </g>\n     </g>\n    </g>\n    <g id=\"xtick_19\">\n     <g id=\"line2d_19\">\n      <g>\n       <use style=\"stroke:#000000;stroke-width:0.6;\" x=\"178.432009\" xlink:href=\"#m12964610e1\" y=\"224.64\"/>\n      </g>\n     </g>\n    </g>\n    <g id=\"xtick_20\">\n     <g id=\"line2d_20\">\n      <g>\n       <use style=\"stroke:#000000;stroke-width:0.6;\" x=\"191.978829\" xlink:href=\"#m12964610e1\" y=\"224.64\"/>\n      </g>\n     </g>\n    </g>\n    <g id=\"xtick_21\">\n     <g id=\"line2d_21\">\n      <g>\n       <use style=\"stroke:#000000;stroke-width:0.6;\" x=\"205.52565\" xlink:href=\"#m12964610e1\" y=\"224.64\"/>\n      </g>\n     </g>\n    </g>\n    <g id=\"xtick_22\">\n     <g id=\"line2d_22\">\n      <g>\n       <use style=\"stroke:#000000;stroke-width:0.6;\" x=\"232.619292\" xlink:href=\"#m12964610e1\" y=\"224.64\"/>\n      </g>\n     </g>\n    </g>\n    <g id=\"xtick_23\">\n     <g id=\"line2d_23\">\n      <g>\n       <use style=\"stroke:#000000;stroke-width:0.6;\" x=\"246.166113\" xlink:href=\"#m12964610e1\" y=\"224.64\"/>\n      </g>\n     </g>\n    </g>\n    <g id=\"xtick_24\">\n     <g id=\"line2d_24\">\n      <g>\n       <use style=\"stroke:#000000;stroke-width:0.6;\" x=\"259.712934\" xlink:href=\"#m12964610e1\" y=\"224.64\"/>\n      </g>\n     </g>\n    </g>\n    <g id=\"xtick_25\">\n     <g id=\"line2d_25\">\n      <g>\n       <use style=\"stroke:#000000;stroke-width:0.6;\" x=\"273.259754\" xlink:href=\"#m12964610e1\" y=\"224.64\"/>\n      </g>\n     </g>\n    </g>\n    <g id=\"xtick_26\">\n     <g id=\"line2d_26\">\n      <g>\n       <use style=\"stroke:#000000;stroke-width:0.6;\" x=\"286.806575\" xlink:href=\"#m12964610e1\" y=\"224.64\"/>\n      </g>\n     </g>\n    </g>\n    <g id=\"xtick_27\">\n     <g id=\"line2d_27\">\n      <g>\n       <use style=\"stroke:#000000;stroke-width:0.6;\" x=\"300.353396\" xlink:href=\"#m12964610e1\" y=\"224.64\"/>\n      </g>\n     </g>\n    </g>\n    <g id=\"xtick_28\">\n     <g id=\"line2d_28\">\n      <g>\n       <use style=\"stroke:#000000;stroke-width:0.6;\" x=\"313.900217\" xlink:href=\"#m12964610e1\" y=\"224.64\"/>\n      </g>\n     </g>\n    </g>\n    <g id=\"xtick_29\">\n     <g id=\"line2d_29\">\n      <g>\n       <use style=\"stroke:#000000;stroke-width:0.6;\" x=\"327.447038\" xlink:href=\"#m12964610e1\" y=\"224.64\"/>\n      </g>\n     </g>\n    </g>\n    <g id=\"xtick_30\">\n     <g id=\"line2d_30\">\n      <g>\n       <use style=\"stroke:#000000;stroke-width:0.6;\" x=\"340.993858\" xlink:href=\"#m12964610e1\" y=\"224.64\"/>\n      </g>\n     </g>\n    </g>\n    <g id=\"xtick_31\">\n     <g id=\"line2d_31\">\n      <g>\n       <use style=\"stroke:#000000;stroke-width:0.6;\" x=\"354.540679\" xlink:href=\"#m12964610e1\" y=\"224.64\"/>\n      </g>\n     </g>\n    </g>\n   </g>\n   <g id=\"matplotlib.axis_2\">\n    <g id=\"ytick_1\">\n     <g id=\"line2d_32\">\n      <defs>\n       <path d=\"M 0 0 \nL -3.5 0 \n\" id=\"m6d7ed4b9a6\" style=\"stroke:#000000;stroke-width:0.8;\"/>\n      </defs>\n      <g>\n       <use style=\"stroke:#000000;stroke-width:0.8;\" x=\"33.2875\" xlink:href=\"#m6d7ed4b9a6\" y=\"214.756364\"/>\n      </g>\n     </g>\n     <g id=\"text_7\">\n      <!-- 0 -->\n      <g transform=\"translate(19.925 218.555582)scale(0.1 -0.1)\">\n       <use xlink:href=\"#DejaVuSans-48\"/>\n      </g>\n     </g>\n    </g>\n    <g id=\"ytick_2\">\n     <g id=\"line2d_33\">\n      <g>\n       <use style=\"stroke:#000000;stroke-width:0.8;\" x=\"33.2875\" xlink:href=\"#m6d7ed4b9a6\" y=\"171.311808\"/>\n      </g>\n     </g>\n     <g id=\"text_8\">\n      <!-- 100 -->\n      <g transform=\"translate(7.2 175.111027)scale(0.1 -0.1)\">\n       <defs>\n        <path d=\"M 12.40625 8.296875 \nL 28.515625 8.296875 \nL 28.515625 63.921875 \nL 10.984375 60.40625 \nL 10.984375 69.390625 \nL 28.421875 72.90625 \nL 38.28125 72.90625 \nL 38.28125 8.296875 \nL 54.390625 8.296875 \nL 54.390625 0 \nL 12.40625 0 \nz\n\" id=\"DejaVuSans-49\"/>\n       </defs>\n       <use xlink:href=\"#DejaVuSans-49\"/>\n       <use x=\"63.623047\" xlink:href=\"#DejaVuSans-48\"/>\n       <use x=\"127.246094\" xlink:href=\"#DejaVuSans-48\"/>\n      </g>\n     </g>\n    </g>\n    <g id=\"ytick_3\">\n     <g id=\"line2d_34\">\n      <g>\n       <use style=\"stroke:#000000;stroke-width:0.8;\" x=\"33.2875\" xlink:href=\"#m6d7ed4b9a6\" y=\"127.867253\"/>\n      </g>\n     </g>\n     <g id=\"text_9\">\n      <!-- 200 -->\n      <g transform=\"translate(7.2 131.666471)scale(0.1 -0.1)\">\n       <use xlink:href=\"#DejaVuSans-50\"/>\n       <use x=\"63.623047\" xlink:href=\"#DejaVuSans-48\"/>\n       <use x=\"127.246094\" xlink:href=\"#DejaVuSans-48\"/>\n      </g>\n     </g>\n    </g>\n    <g id=\"ytick_4\">\n     <g id=\"line2d_35\">\n      <g>\n       <use style=\"stroke:#000000;stroke-width:0.8;\" x=\"33.2875\" xlink:href=\"#m6d7ed4b9a6\" y=\"84.422697\"/>\n      </g>\n     </g>\n     <g id=\"text_10\">\n      <!-- 300 -->\n      <g transform=\"translate(7.2 88.221916)scale(0.1 -0.1)\">\n       <defs>\n        <path d=\"M 40.578125 39.3125 \nQ 47.65625 37.796875 51.625 33 \nQ 55.609375 28.21875 55.609375 21.1875 \nQ 55.609375 10.40625 48.1875 4.484375 \nQ 40.765625 -1.421875 27.09375 -1.421875 \nQ 22.515625 -1.421875 17.65625 -0.515625 \nQ 12.796875 0.390625 7.625 2.203125 \nL 7.625 11.71875 \nQ 11.71875 9.328125 16.59375 8.109375 \nQ 21.484375 6.890625 26.8125 6.890625 \nQ 36.078125 6.890625 40.9375 10.546875 \nQ 45.796875 14.203125 45.796875 21.1875 \nQ 45.796875 27.640625 41.28125 31.265625 \nQ 36.765625 34.90625 28.71875 34.90625 \nL 20.21875 34.90625 \nL 20.21875 43.015625 \nL 29.109375 43.015625 \nQ 36.375 43.015625 40.234375 45.921875 \nQ 44.09375 48.828125 44.09375 54.296875 \nQ 44.09375 59.90625 40.109375 62.90625 \nQ 36.140625 65.921875 28.71875 65.921875 \nQ 24.65625 65.921875 20.015625 65.03125 \nQ 15.375 64.15625 9.8125 62.3125 \nL 9.8125 71.09375 \nQ 15.4375 72.65625 20.34375 73.4375 \nQ 25.25 74.21875 29.59375 74.21875 \nQ 40.828125 74.21875 47.359375 69.109375 \nQ 53.90625 64.015625 53.90625 55.328125 \nQ 53.90625 49.265625 50.4375 45.09375 \nQ 46.96875 40.921875 40.578125 39.3125 \nz\n\" id=\"DejaVuSans-51\"/>\n       </defs>\n       <use xlink:href=\"#DejaVuSans-51\"/>\n       <use x=\"63.623047\" xlink:href=\"#DejaVuSans-48\"/>\n       <use x=\"127.246094\" xlink:href=\"#DejaVuSans-48\"/>\n      </g>\n     </g>\n    </g>\n    <g id=\"ytick_5\">\n     <g id=\"line2d_36\">\n      <g>\n       <use style=\"stroke:#000000;stroke-width:0.8;\" x=\"33.2875\" xlink:href=\"#m6d7ed4b9a6\" y=\"40.978142\"/>\n      </g>\n     </g>\n     <g id=\"text_11\">\n      <!-- 400 -->\n      <g transform=\"translate(7.2 44.777361)scale(0.1 -0.1)\">\n       <defs>\n        <path d=\"M 37.796875 64.3125 \nL 12.890625 25.390625 \nL 37.796875 25.390625 \nz\nM 35.203125 72.90625 \nL 47.609375 72.90625 \nL 47.609375 25.390625 \nL 58.015625 25.390625 \nL 58.015625 17.1875 \nL 47.609375 17.1875 \nL 47.609375 0 \nL 37.796875 0 \nL 37.796875 17.1875 \nL 4.890625 17.1875 \nL 4.890625 26.703125 \nz\n\" id=\"DejaVuSans-52\"/>\n       </defs>\n       <use xlink:href=\"#DejaVuSans-52\"/>\n       <use x=\"63.623047\" xlink:href=\"#DejaVuSans-48\"/>\n       <use x=\"127.246094\" xlink:href=\"#DejaVuSans-48\"/>\n      </g>\n     </g>\n    </g>\n   </g>\n   <g id=\"line2d_37\">\n    <path clip-path=\"url(#pdcb407889f)\" d=\"M 33.2875 214.756364 \nL 70.057442 214.756364 \nL 73.927962 213.887473 \nL 75.863223 213.887473 \nL 79.733743 212.14969 \nL 83.604263 211.280799 \nL 85.539523 210.411908 \nL 87.474783 211.280799 \nL 89.410043 210.411908 \nL 91.345303 210.411908 \nL 93.280564 207.805235 \nL 95.215824 208.674126 \nL 97.151084 208.23968 \nL 99.086344 204.764116 \nL 101.021604 202.591888 \nL 102.956864 204.32967 \nL 104.892124 201.288551 \nL 106.827384 196.944096 \nL 108.762645 208.23968 \nL 110.697905 202.157443 \nL 112.633165 185.648511 \nL 114.568425 189.992967 \nL 116.503685 185.214066 \nL 120.374205 206.067453 \nL 122.309465 202.591888 \nL 124.244725 206.067453 \nL 126.179986 176.9596 \nL 128.115246 178.697383 \nL 130.050506 182.172947 \nL 131.985766 182.172947 \nL 133.921026 187.386294 \nL 135.856286 204.32967 \nL 137.791546 205.198561 \nL 139.726806 190.427413 \nL 141.662066 196.944096 \nL 143.597327 123.088352 \nL 145.532587 142.203956 \nL 147.467847 147.417303 \nL 149.403107 200.41966 \nL 151.338367 160.450669 \nL 153.273627 117.440559 \nL 155.208887 128.736144 \nL 157.144147 159.147333 \nL 159.079408 155.671768 \nL 161.014668 182.172947 \nL 162.949928 196.944096 \nL 164.885188 203.026334 \nL 166.820448 129.170589 \nL 168.755708 130.473926 \nL 170.690968 144.810629 \nL 172.626228 123.522797 \nL 174.561488 131.342817 \nL 176.496749 170.877363 \nL 178.432009 199.985215 \nL 180.367269 125.260579 \nL 182.302529 141.335065 \nL 184.237789 129.170589 \nL 186.173049 133.949491 \nL 188.108309 133.515045 \nL 190.043569 173.918482 \nL 191.978829 196.944096 \nL 193.91409 73.996004 \nL 195.84935 120.916124 \nL 197.78461 130.039481 \nL 199.71987 121.350569 \nL 201.65513 96.587173 \nL 203.59039 163.491788 \nL 205.52565 189.992967 \nL 207.46091 126.563916 \nL 209.396171 89.201598 \nL 211.331431 98.324955 \nL 213.266691 86.594925 \nL 215.201951 103.103856 \nL 217.137211 178.697383 \nL 219.072471 192.165195 \nL 221.007731 72.692667 \nL 222.942991 92.242717 \nL 224.878251 90.939381 \nL 226.813512 92.677163 \nL 228.748772 120.916124 \nL 230.684032 176.9596 \nL 232.619292 196.075205 \nL 234.554552 69.651548 \nL 236.489812 67.044875 \nL 240.360332 117.875005 \nL 242.295592 122.219461 \nL 244.230853 165.664016 \nL 246.166113 183.041838 \nL 248.101373 56.183736 \nL 250.036633 45.757043 \nL 251.971893 73.561558 \nL 253.907153 47.06038 \nL 255.842413 100.931628 \nL 257.777673 173.918482 \nL 259.712934 194.771868 \nL 261.648194 26.206993 \nL 263.583454 91.373826 \nL 265.518714 37.937023 \nL 267.453974 124.826134 \nL 269.389234 85.726034 \nL 271.324494 182.172947 \nL 273.259754 188.68963 \nL 275.195014 56.183736 \nL 277.130275 98.759401 \nL 279.065535 75.299341 \nL 281.000795 65.741538 \nL 282.936055 83.553806 \nL 284.871315 179.131828 \nL 286.806575 190.427413 \nL 288.741835 66.61043 \nL 290.677095 78.774905 \nL 292.612355 71.389331 \nL 294.547616 73.996004 \nL 296.482876 101.800519 \nL 298.418136 151.327313 \nL 300.353396 189.124076 \nL 302.288656 33.592567 \nL 304.223916 77.471568 \nL 306.159176 41.847033 \nL 308.094436 67.479321 \nL 310.029697 97.456064 \nL 311.964957 177.828492 \nL 313.900217 190.427413 \nL 315.835477 48.363716 \nL 317.770737 57.921518 \nL 319.705997 57.487073 \nL 321.641257 79.209351 \nL 323.576517 79.643796 \nL 325.511777 176.090709 \nL 327.447038 184.345175 \nL 329.382298 48.363716 \nL 331.317558 71.389331 \nL 333.252818 75.299341 \nL 335.188078 90.07049 \nL 337.123338 110.923876 \nL 339.058598 179.566274 \nL 340.993858 193.902977 \nL 342.929118 68.348212 \nL 344.864379 37.937023 \nL 346.799639 67.479321 \nL 348.734899 90.07049 \nL 350.670159 92.677163 \nL 352.605419 172.180699 \nL 354.540679 198.681878 \nL 356.475939 32.289231 \nL 358.411199 85.291588 \nL 360.34646 17.083636 \nL 362.28172 89.201598 \nL 364.21698 142.203956 \nL 366.15224 183.476284 \nL 368.0875 194.337423 \nL 368.0875 194.337423 \n\" style=\"fill:none;stroke:#1f77b4;stroke-linecap:square;stroke-width:1.5;\"/>\n   </g>\n   <g id=\"patch_3\">\n    <path d=\"M 33.2875 224.64 \nL 33.2875 7.2 \n\" style=\"fill:none;stroke:#000000;stroke-linecap:square;stroke-linejoin:miter;stroke-width:0.8;\"/>\n   </g>\n   <g id=\"patch_4\">\n    <path d=\"M 368.0875 224.64 \nL 368.0875 7.2 \n\" style=\"fill:none;stroke:#000000;stroke-linecap:square;stroke-linejoin:miter;stroke-width:0.8;\"/>\n   </g>\n   <g id=\"patch_5\">\n    <path d=\"M 33.2875 224.64 \nL 368.0875 224.64 \n\" style=\"fill:none;stroke:#000000;stroke-linecap:square;stroke-linejoin:miter;stroke-width:0.8;\"/>\n   </g>\n   <g id=\"patch_6\">\n    <path d=\"M 33.2875 7.2 \nL 368.0875 7.2 \n\" style=\"fill:none;stroke:#000000;stroke-linecap:square;stroke-linejoin:miter;stroke-width:0.8;\"/>\n   </g>\n   <g id=\"legend_1\">\n    <g id=\"patch_7\">\n     <path d=\"M 40.2875 29.878125 \nL 106.384375 29.878125 \nQ 108.384375 29.878125 108.384375 27.878125 \nL 108.384375 14.2 \nQ 108.384375 12.2 106.384375 12.2 \nL 40.2875 12.2 \nQ 38.2875 12.2 38.2875 14.2 \nL 38.2875 27.878125 \nQ 38.2875 29.878125 40.2875 29.878125 \nz\n\" style=\"fill:#ffffff;opacity:0.8;stroke:#cccccc;stroke-linejoin:miter;\"/>\n    </g>\n    <g id=\"line2d_38\">\n     <path d=\"M 42.2875 20.298437 \nL 62.2875 20.298437 \n\" style=\"fill:none;stroke:#1f77b4;stroke-linecap:square;stroke-width:1.5;\"/>\n    </g>\n    <g id=\"line2d_39\"/>\n    <g id=\"text_12\">\n     <!-- deaths -->\n     <g transform=\"translate(70.2875 23.798437)scale(0.1 -0.1)\">\n      <defs>\n       <path d=\"M 45.40625 46.390625 \nL 45.40625 75.984375 \nL 54.390625 75.984375 \nL 54.390625 0 \nL 45.40625 0 \nL 45.40625 8.203125 \nQ 42.578125 3.328125 38.25 0.953125 \nQ 33.9375 -1.421875 27.875 -1.421875 \nQ 17.96875 -1.421875 11.734375 6.484375 \nQ 5.515625 14.40625 5.515625 27.296875 \nQ 5.515625 40.1875 11.734375 48.09375 \nQ 17.96875 56 27.875 56 \nQ 33.9375 56 38.25 53.625 \nQ 42.578125 51.265625 45.40625 46.390625 \nz\nM 14.796875 27.296875 \nQ 14.796875 17.390625 18.875 11.75 \nQ 22.953125 6.109375 30.078125 6.109375 \nQ 37.203125 6.109375 41.296875 11.75 \nQ 45.40625 17.390625 45.40625 27.296875 \nQ 45.40625 37.203125 41.296875 42.84375 \nQ 37.203125 48.484375 30.078125 48.484375 \nQ 22.953125 48.484375 18.875 42.84375 \nQ 14.796875 37.203125 14.796875 27.296875 \nz\n\" id=\"DejaVuSans-100\"/>\n       <path d=\"M 56.203125 29.59375 \nL 56.203125 25.203125 \nL 14.890625 25.203125 \nQ 15.484375 15.921875 20.484375 11.0625 \nQ 25.484375 6.203125 34.421875 6.203125 \nQ 39.59375 6.203125 44.453125 7.46875 \nQ 49.3125 8.734375 54.109375 11.28125 \nL 54.109375 2.78125 \nQ 49.265625 0.734375 44.1875 -0.34375 \nQ 39.109375 -1.421875 33.890625 -1.421875 \nQ 20.796875 -1.421875 13.15625 6.1875 \nQ 5.515625 13.8125 5.515625 26.8125 \nQ 5.515625 40.234375 12.765625 48.109375 \nQ 20.015625 56 32.328125 56 \nQ 43.359375 56 49.78125 48.890625 \nQ 56.203125 41.796875 56.203125 29.59375 \nz\nM 47.21875 32.234375 \nQ 47.125 39.59375 43.09375 43.984375 \nQ 39.0625 48.390625 32.421875 48.390625 \nQ 24.90625 48.390625 20.390625 44.140625 \nQ 15.875 39.890625 15.1875 32.171875 \nz\n\" id=\"DejaVuSans-101\"/>\n       <path d=\"M 18.3125 70.21875 \nL 18.3125 54.6875 \nL 36.8125 54.6875 \nL 36.8125 47.703125 \nL 18.3125 47.703125 \nL 18.3125 18.015625 \nQ 18.3125 11.328125 20.140625 9.421875 \nQ 21.96875 7.515625 27.59375 7.515625 \nL 36.8125 7.515625 \nL 36.8125 0 \nL 27.59375 0 \nQ 17.1875 0 13.234375 3.875 \nQ 9.28125 7.765625 9.28125 18.015625 \nL 9.28125 47.703125 \nL 2.6875 47.703125 \nL 2.6875 54.6875 \nL 9.28125 54.6875 \nL 9.28125 70.21875 \nz\n\" id=\"DejaVuSans-116\"/>\n       <path d=\"M 54.890625 33.015625 \nL 54.890625 0 \nL 45.90625 0 \nL 45.90625 32.71875 \nQ 45.90625 40.484375 42.875 44.328125 \nQ 39.84375 48.1875 33.796875 48.1875 \nQ 26.515625 48.1875 22.3125 43.546875 \nQ 18.109375 38.921875 18.109375 30.90625 \nL 18.109375 0 \nL 9.078125 0 \nL 9.078125 75.984375 \nL 18.109375 75.984375 \nL 18.109375 46.1875 \nQ 21.34375 51.125 25.703125 53.5625 \nQ 30.078125 56 35.796875 56 \nQ 45.21875 56 50.046875 50.171875 \nQ 54.890625 44.34375 54.890625 33.015625 \nz\n\" id=\"DejaVuSans-104\"/>\n       <path d=\"M 44.28125 53.078125 \nL 44.28125 44.578125 \nQ 40.484375 46.53125 36.375 47.5 \nQ 32.28125 48.484375 27.875 48.484375 \nQ 21.1875 48.484375 17.84375 46.4375 \nQ 14.5 44.390625 14.5 40.28125 \nQ 14.5 37.15625 16.890625 35.375 \nQ 19.28125 33.59375 26.515625 31.984375 \nL 29.59375 31.296875 \nQ 39.15625 29.25 43.1875 25.515625 \nQ 47.21875 21.78125 47.21875 15.09375 \nQ 47.21875 7.46875 41.1875 3.015625 \nQ 35.15625 -1.421875 24.609375 -1.421875 \nQ 20.21875 -1.421875 15.453125 -0.5625 \nQ 10.6875 0.296875 5.421875 2 \nL 5.421875 11.28125 \nQ 10.40625 8.6875 15.234375 7.390625 \nQ 20.0625 6.109375 24.8125 6.109375 \nQ 31.15625 6.109375 34.5625 8.28125 \nQ 37.984375 10.453125 37.984375 14.40625 \nQ 37.984375 18.0625 35.515625 20.015625 \nQ 33.0625 21.96875 24.703125 23.78125 \nL 21.578125 24.515625 \nQ 13.234375 26.265625 9.515625 29.90625 \nQ 5.8125 33.546875 5.8125 39.890625 \nQ 5.8125 47.609375 11.28125 51.796875 \nQ 16.75 56 26.8125 56 \nQ 31.78125 56 36.171875 55.265625 \nQ 40.578125 54.546875 44.28125 53.078125 \nz\n\" id=\"DejaVuSans-115\"/>\n      </defs>\n      <use xlink:href=\"#DejaVuSans-100\"/>\n      <use x=\"63.476562\" xlink:href=\"#DejaVuSans-101\"/>\n      <use x=\"125\" xlink:href=\"#DejaVuSans-97\"/>\n      <use x=\"186.279297\" xlink:href=\"#DejaVuSans-116\"/>\n      <use x=\"225.488281\" xlink:href=\"#DejaVuSans-104\"/>\n      <use x=\"288.867188\" xlink:href=\"#DejaVuSans-115\"/>\n     </g>\n    </g>\n   </g>\n  </g>\n </g>\n <defs>\n  <clipPath id=\"pdcb407889f\">\n   <rect height=\"217.44\" width=\"334.8\" x=\"33.2875\" y=\"7.2\"/>\n  </clipPath>\n </defs>\n</svg>\n",
      "image/png": "[encoded data removed]"
     },
     "metadata": {
      "needs_background": "light"
     }
    }
   ],
   "source": [
    "# Leitura dos dados de COVID-19 no estado de SP - vamos trabalhar com as mortes\n",
    "# Dados até 17/8\n",
    "\n",
    "# pkgdir = '/home/cibele/CibelePython/AprendizadoDinamico/Data'\n",
    "\n",
    "df = pd.read_csv(f'covidSP.csv', index_col='date', parse_dates=True)\n",
    "df = df.drop('confirmed', axis=1)\n",
    "\n",
    "idx = pd.date_range(start=df.index.min(), end=df.index.max(), freq='D')\n",
    "df = df.reindex(idx)\n",
    "df.fillna(0,inplace=True)\n",
    "\n",
    "df.plot();"
   ]
  },
  {
   "cell_type": "code",
   "execution_count": 4,
   "metadata": {},
   "outputs": [
    {
     "output_type": "execute_result",
     "data": {
      "text/plain": "            deaths\n2020-02-26     0.0\n2020-02-27     0.0\n2020-02-28     0.0\n2020-02-29     0.0\n2020-03-01     0.0\n...            ...\n2020-08-13   455.0\n2020-08-14   289.0\n2020-08-15   167.0\n2020-08-16    72.0\n2020-08-17    47.0\n\n[174 rows x 1 columns]",
      "text/html": "<div>\n<style scoped>\n    .dataframe tbody tr th:only-of-type {\n        vertical-align: middle;\n    }\n\n    .dataframe tbody tr th {\n        vertical-align: top;\n    }\n\n    .dataframe thead th {\n        text-align: right;\n    }\n</style>\n<table border=\"1\" class=\"dataframe\">\n  <thead>\n    <tr style=\"text-align: right;\">\n      <th></th>\n      <th>deaths</th>\n    </tr>\n  </thead>\n  <tbody>\n    <tr>\n      <th>2020-02-26</th>\n      <td>0.0</td>\n    </tr>\n    <tr>\n      <th>2020-02-27</th>\n      <td>0.0</td>\n    </tr>\n    <tr>\n      <th>2020-02-28</th>\n      <td>0.0</td>\n    </tr>\n    <tr>\n      <th>2020-02-29</th>\n      <td>0.0</td>\n    </tr>\n    <tr>\n      <th>2020-03-01</th>\n      <td>0.0</td>\n    </tr>\n    <tr>\n      <th>...</th>\n      <td>...</td>\n    </tr>\n    <tr>\n      <th>2020-08-13</th>\n      <td>455.0</td>\n    </tr>\n    <tr>\n      <th>2020-08-14</th>\n      <td>289.0</td>\n    </tr>\n    <tr>\n      <th>2020-08-15</th>\n      <td>167.0</td>\n    </tr>\n    <tr>\n      <th>2020-08-16</th>\n      <td>72.0</td>\n    </tr>\n    <tr>\n      <th>2020-08-17</th>\n      <td>47.0</td>\n    </tr>\n  </tbody>\n</table>\n<p>174 rows × 1 columns</p>\n</div>"
     },
     "metadata": {},
     "execution_count": 4
    }
   ],
   "source": [
    "df"
   ]
  },
  {
   "cell_type": "code",
   "execution_count": 20,
   "metadata": {},
   "outputs": [
    {
     "data": {
      "text/html": [
       "<div>\n",
       "<style scoped>\n",
       "    .dataframe tbody tr th:only-of-type {\n",
       "        vertical-align: middle;\n",
       "    }\n",
       "\n",
       "    .dataframe tbody tr th {\n",
       "        vertical-align: top;\n",
       "    }\n",
       "\n",
       "    .dataframe thead th {\n",
       "        text-align: right;\n",
       "    }\n",
       "</style>\n",
       "<table border=\"1\" class=\"dataframe\">\n",
       "  <thead>\n",
       "    <tr style=\"text-align: right;\">\n",
       "      <th></th>\n",
       "      <th>deaths</th>\n",
       "    </tr>\n",
       "  </thead>\n",
       "  <tbody>\n",
       "    <tr>\n",
       "      <th>2020-02-26</th>\n",
       "      <td>0.0</td>\n",
       "    </tr>\n",
       "    <tr>\n",
       "      <th>2020-02-27</th>\n",
       "      <td>0.0</td>\n",
       "    </tr>\n",
       "    <tr>\n",
       "      <th>2020-02-28</th>\n",
       "      <td>0.0</td>\n",
       "    </tr>\n",
       "    <tr>\n",
       "      <th>2020-02-29</th>\n",
       "      <td>0.0</td>\n",
       "    </tr>\n",
       "    <tr>\n",
       "      <th>2020-03-01</th>\n",
       "      <td>0.0</td>\n",
       "    </tr>\n",
       "  </tbody>\n",
       "</table>\n",
       "</div>"
      ],
      "text/plain": [
       "            deaths\n",
       "2020-02-26     0.0\n",
       "2020-02-27     0.0\n",
       "2020-02-28     0.0\n",
       "2020-02-29     0.0\n",
       "2020-03-01     0.0"
      ]
     },
     "execution_count": 20,
     "metadata": {},
     "output_type": "execute_result"
    }
   ],
   "source": [
    "df.head()"
   ]
  },
  {
   "cell_type": "code",
   "execution_count": 21,
   "metadata": {},
   "outputs": [
    {
     "data": {
      "text/plain": [
       "<matplotlib.axes._subplots.AxesSubplot at 0x7f3d973cdb10>"
      ]
     },
     "execution_count": 21,
     "metadata": {},
     "output_type": "execute_result"
    },
    {
     "data": {
      "image/png": "[encoded data removed]",
      "text/plain": [
       "<Figure size 864x576 with 1 Axes>"
      ]
     },
     "metadata": {
      "needs_background": "light"
     },
     "output_type": "display_data"
    }
   ],
   "source": [
    "df.plot(figsize=(12,8));"
   ]
  },
  {
   "cell_type": "code",
   "execution_count": 5,
   "metadata": {},
   "outputs": [],
   "source": [
    "from statsmodels.tsa.seasonal import seasonal_decompose"
   ]
  },
  {
   "cell_type": "code",
   "execution_count": 7,
   "metadata": {},
   "outputs": [
    {
     "output_type": "display_data",
     "data": {
      "text/plain": "<Figure size 864x144 with 1 Axes>",
      "image/svg+xml": "<?xml version=\"1.0\" encoding=\"utf-8\" standalone=\"no\"?>\n<!DOCTYPE svg PUBLIC \"-//W3C//DTD SVG 1.1//EN\"\n  \"http://www.w3.org/Graphics/SVG/1.1/DTD/svg11.dtd\">\n<!-- Created with matplotlib (https://matplotlib.org/) -->\n<svg height=\"150.995937pt\" version=\"1.1\" viewBox=\"0 0 710.0875 150.995937\" width=\"710.0875pt\" xmlns=\"http://www.w3.org/2000/svg\" xmlns:xlink=\"http://www.w3.org/1999/xlink\">\n <metadata>\n  <rdf:RDF xmlns:cc=\"http://creativecommons.org/ns#\" xmlns:dc=\"http://purl.org/dc/elements/1.1/\" xmlns:rdf=\"http://www.w3.org/1999/02/22-rdf-syntax-ns#\">\n   <cc:Work>\n    <dc:type rdf:resource=\"http://purl.org/dc/dcmitype/StillImage\"/>\n    <dc:date>2020-09-17T00:57:27.476261</dc:date>\n    <dc:format>image/svg+xml</dc:format>\n    <dc:creator>\n     <cc:Agent>\n      <dc:title>Matplotlib v3.3.0, https://matplotlib.org/</dc:title>\n     </cc:Agent>\n    </dc:creator>\n   </cc:Work>\n  </rdf:RDF>\n </metadata>\n <defs>\n  <style type=\"text/css\">*{stroke-linecap:butt;stroke-linejoin:round;}</style>\n </defs>\n <g id=\"figure_1\">\n  <g id=\"patch_1\">\n   <path d=\"M 0 150.995937 \nL 710.0875 150.995937 \nL 710.0875 0 \nL 0 0 \nz\n\" style=\"fill:none;\"/>\n  </g>\n  <g id=\"axes_1\">\n   <g id=\"patch_2\">\n    <path d=\"M 33.2875 115.92 \nL 702.8875 115.92 \nL 702.8875 7.2 \nL 33.2875 7.2 \nz\n\" style=\"fill:#ffffff;\"/>\n   </g>\n   <g id=\"matplotlib.axis_1\">\n    <g id=\"xtick_1\">\n     <g id=\"line2d_1\">\n      <defs>\n       <path d=\"M 0 0 \nL 0 3.5 \n\" id=\"m97e97171b1\" style=\"stroke:#000000;stroke-width:0.8;\"/>\n      </defs>\n      <g>\n       <use style=\"stroke:#000000;stroke-width:0.8;\" x=\"33.2875\" xlink:href=\"#m97e97171b1\" y=\"115.92\"/>\n      </g>\n     </g>\n    </g>\n    <g id=\"xtick_2\">\n     <g id=\"line2d_2\">\n      <g>\n       <use style=\"stroke:#000000;stroke-width:0.8;\" x=\"48.769581\" xlink:href=\"#m97e97171b1\" y=\"115.92\"/>\n      </g>\n     </g>\n     <g id=\"text_1\">\n      <!-- Mar -->\n      <g transform=\"translate(39.335987 130.518438)scale(0.1 -0.1)\">\n       <defs>\n        <path d=\"M 9.8125 72.90625 \nL 24.515625 72.90625 \nL 43.109375 23.296875 \nL 61.8125 72.90625 \nL 76.515625 72.90625 \nL 76.515625 0 \nL 66.890625 0 \nL 66.890625 64.015625 \nL 48.09375 14.015625 \nL 38.1875 14.015625 \nL 19.390625 64.015625 \nL 19.390625 0 \nL 9.8125 0 \nz\n\" id=\"DejaVuSans-77\"/>\n        <path d=\"M 34.28125 27.484375 \nQ 23.390625 27.484375 19.1875 25 \nQ 14.984375 22.515625 14.984375 16.5 \nQ 14.984375 11.71875 18.140625 8.90625 \nQ 21.296875 6.109375 26.703125 6.109375 \nQ 34.1875 6.109375 38.703125 11.40625 \nQ 43.21875 16.703125 43.21875 25.484375 \nL 43.21875 27.484375 \nz\nM 52.203125 31.203125 \nL 52.203125 0 \nL 43.21875 0 \nL 43.21875 8.296875 \nQ 40.140625 3.328125 35.546875 0.953125 \nQ 30.953125 -1.421875 24.3125 -1.421875 \nQ 15.921875 -1.421875 10.953125 3.296875 \nQ 6 8.015625 6 15.921875 \nQ 6 25.140625 12.171875 29.828125 \nQ 18.359375 34.515625 30.609375 34.515625 \nL 43.21875 34.515625 \nL 43.21875 35.40625 \nQ 43.21875 41.609375 39.140625 45 \nQ 35.0625 48.390625 27.6875 48.390625 \nQ 23 48.390625 18.546875 47.265625 \nQ 14.109375 46.140625 10.015625 43.890625 \nL 10.015625 52.203125 \nQ 14.9375 54.109375 19.578125 55.046875 \nQ 24.21875 56 28.609375 56 \nQ 40.484375 56 46.34375 49.84375 \nQ 52.203125 43.703125 52.203125 31.203125 \nz\n\" id=\"DejaVuSans-97\"/>\n        <path d=\"M 41.109375 46.296875 \nQ 39.59375 47.171875 37.8125 47.578125 \nQ 36.03125 48 33.890625 48 \nQ 26.265625 48 22.1875 43.046875 \nQ 18.109375 38.09375 18.109375 28.8125 \nL 18.109375 0 \nL 9.078125 0 \nL 9.078125 54.6875 \nL 18.109375 54.6875 \nL 18.109375 46.1875 \nQ 20.953125 51.171875 25.484375 53.578125 \nQ 30.03125 56 36.53125 56 \nQ 37.453125 56 38.578125 55.875 \nQ 39.703125 55.765625 41.0625 55.515625 \nz\n\" id=\"DejaVuSans-114\"/>\n       </defs>\n       <use xlink:href=\"#DejaVuSans-77\"/>\n       <use x=\"86.279297\" xlink:href=\"#DejaVuSans-97\"/>\n       <use x=\"147.558594\" xlink:href=\"#DejaVuSans-114\"/>\n      </g>\n      <!-- 2020 -->\n      <g transform=\"translate(36.044581 141.71625)scale(0.1 -0.1)\">\n       <defs>\n        <path d=\"M 19.1875 8.296875 \nL 53.609375 8.296875 \nL 53.609375 0 \nL 7.328125 0 \nL 7.328125 8.296875 \nQ 12.9375 14.109375 22.625 23.890625 \nQ 32.328125 33.6875 34.8125 36.53125 \nQ 39.546875 41.84375 41.421875 45.53125 \nQ 43.3125 49.21875 43.3125 52.78125 \nQ 43.3125 58.59375 39.234375 62.25 \nQ 35.15625 65.921875 28.609375 65.921875 \nQ 23.96875 65.921875 18.8125 64.3125 \nQ 13.671875 62.703125 7.8125 59.421875 \nL 7.8125 69.390625 \nQ 13.765625 71.78125 18.9375 73 \nQ 24.125 74.21875 28.421875 74.21875 \nQ 39.75 74.21875 46.484375 68.546875 \nQ 53.21875 62.890625 53.21875 53.421875 \nQ 53.21875 48.921875 51.53125 44.890625 \nQ 49.859375 40.875 45.40625 35.40625 \nQ 44.1875 33.984375 37.640625 27.21875 \nQ 31.109375 20.453125 19.1875 8.296875 \nz\n\" id=\"DejaVuSans-50\"/>\n        <path d=\"M 31.78125 66.40625 \nQ 24.171875 66.40625 20.328125 58.90625 \nQ 16.5 51.421875 16.5 36.375 \nQ 16.5 21.390625 20.328125 13.890625 \nQ 24.171875 6.390625 31.78125 6.390625 \nQ 39.453125 6.390625 43.28125 13.890625 \nQ 47.125 21.390625 47.125 36.375 \nQ 47.125 51.421875 43.28125 58.90625 \nQ 39.453125 66.40625 31.78125 66.40625 \nz\nM 31.78125 74.21875 \nQ 44.046875 74.21875 50.515625 64.515625 \nQ 56.984375 54.828125 56.984375 36.375 \nQ 56.984375 17.96875 50.515625 8.265625 \nQ 44.046875 -1.421875 31.78125 -1.421875 \nQ 19.53125 -1.421875 13.0625 8.265625 \nQ 6.59375 17.96875 6.59375 36.375 \nQ 6.59375 54.828125 13.0625 64.515625 \nQ 19.53125 74.21875 31.78125 74.21875 \nz\n\" id=\"DejaVuSans-48\"/>\n       </defs>\n       <use xlink:href=\"#DejaVuSans-50\"/>\n       <use x=\"63.623047\" xlink:href=\"#DejaVuSans-48\"/>\n       <use x=\"127.246094\" xlink:href=\"#DejaVuSans-50\"/>\n       <use x=\"190.869141\" xlink:href=\"#DejaVuSans-48\"/>\n      </g>\n     </g>\n    </g>\n    <g id=\"xtick_3\">\n     <g id=\"line2d_3\">\n      <g>\n       <use style=\"stroke:#000000;stroke-width:0.8;\" x=\"168.755708\" xlink:href=\"#m97e97171b1\" y=\"115.92\"/>\n      </g>\n     </g>\n     <g id=\"text_2\">\n      <!-- Apr -->\n      <g transform=\"translate(160.105708 130.518438)scale(0.1 -0.1)\">\n       <defs>\n        <path d=\"M 34.1875 63.1875 \nL 20.796875 26.90625 \nL 47.609375 26.90625 \nz\nM 28.609375 72.90625 \nL 39.796875 72.90625 \nL 67.578125 0 \nL 57.328125 0 \nL 50.6875 18.703125 \nL 17.828125 18.703125 \nL 11.1875 0 \nL 0.78125 0 \nz\n\" id=\"DejaVuSans-65\"/>\n        <path d=\"M 18.109375 8.203125 \nL 18.109375 -20.796875 \nL 9.078125 -20.796875 \nL 9.078125 54.6875 \nL 18.109375 54.6875 \nL 18.109375 46.390625 \nQ 20.953125 51.265625 25.265625 53.625 \nQ 29.59375 56 35.59375 56 \nQ 45.5625 56 51.78125 48.09375 \nQ 58.015625 40.1875 58.015625 27.296875 \nQ 58.015625 14.40625 51.78125 6.484375 \nQ 45.5625 -1.421875 35.59375 -1.421875 \nQ 29.59375 -1.421875 25.265625 0.953125 \nQ 20.953125 3.328125 18.109375 8.203125 \nz\nM 48.6875 27.296875 \nQ 48.6875 37.203125 44.609375 42.84375 \nQ 40.53125 48.484375 33.40625 48.484375 \nQ 26.265625 48.484375 22.1875 42.84375 \nQ 18.109375 37.203125 18.109375 27.296875 \nQ 18.109375 17.390625 22.1875 11.75 \nQ 26.265625 6.109375 33.40625 6.109375 \nQ 40.53125 6.109375 44.609375 11.75 \nQ 48.6875 17.390625 48.6875 27.296875 \nz\n\" id=\"DejaVuSans-112\"/>\n       </defs>\n       <use xlink:href=\"#DejaVuSans-65\"/>\n       <use x=\"68.408203\" xlink:href=\"#DejaVuSans-112\"/>\n       <use x=\"131.884766\" xlink:href=\"#DejaVuSans-114\"/>\n      </g>\n     </g>\n    </g>\n    <g id=\"xtick_4\">\n     <g id=\"line2d_4\">\n      <g>\n       <use style=\"stroke:#000000;stroke-width:0.8;\" x=\"284.871315\" xlink:href=\"#m97e97171b1\" y=\"115.92\"/>\n      </g>\n     </g>\n     <g id=\"text_3\">\n      <!-- May -->\n      <g transform=\"translate(274.533815 130.518438)scale(0.1 -0.1)\">\n       <defs>\n        <path d=\"M 32.171875 -5.078125 \nQ 28.375 -14.84375 24.75 -17.8125 \nQ 21.140625 -20.796875 15.09375 -20.796875 \nL 7.90625 -20.796875 \nL 7.90625 -13.28125 \nL 13.1875 -13.28125 \nQ 16.890625 -13.28125 18.9375 -11.515625 \nQ 21 -9.765625 23.484375 -3.21875 \nL 25.09375 0.875 \nL 2.984375 54.6875 \nL 12.5 54.6875 \nL 29.59375 11.921875 \nL 46.6875 54.6875 \nL 56.203125 54.6875 \nz\n\" id=\"DejaVuSans-121\"/>\n       </defs>\n       <use xlink:href=\"#DejaVuSans-77\"/>\n       <use x=\"86.279297\" xlink:href=\"#DejaVuSans-97\"/>\n       <use x=\"147.558594\" xlink:href=\"#DejaVuSans-121\"/>\n      </g>\n     </g>\n    </g>\n    <g id=\"xtick_5\">\n     <g id=\"line2d_5\">\n      <g>\n       <use style=\"stroke:#000000;stroke-width:0.8;\" x=\"404.857442\" xlink:href=\"#m97e97171b1\" y=\"115.92\"/>\n      </g>\n     </g>\n     <g id=\"text_4\">\n      <!-- Jun -->\n      <g transform=\"translate(397.044942 130.518438)scale(0.1 -0.1)\">\n       <defs>\n        <path d=\"M 9.8125 72.90625 \nL 19.671875 72.90625 \nL 19.671875 5.078125 \nQ 19.671875 -8.109375 14.671875 -14.0625 \nQ 9.671875 -20.015625 -1.421875 -20.015625 \nL -5.171875 -20.015625 \nL -5.171875 -11.71875 \nL -2.09375 -11.71875 \nQ 4.4375 -11.71875 7.125 -8.046875 \nQ 9.8125 -4.390625 9.8125 5.078125 \nz\n\" id=\"DejaVuSans-74\"/>\n        <path d=\"M 8.5 21.578125 \nL 8.5 54.6875 \nL 17.484375 54.6875 \nL 17.484375 21.921875 \nQ 17.484375 14.15625 20.5 10.265625 \nQ 23.53125 6.390625 29.59375 6.390625 \nQ 36.859375 6.390625 41.078125 11.03125 \nQ 45.3125 15.671875 45.3125 23.6875 \nL 45.3125 54.6875 \nL 54.296875 54.6875 \nL 54.296875 0 \nL 45.3125 0 \nL 45.3125 8.40625 \nQ 42.046875 3.421875 37.71875 1 \nQ 33.40625 -1.421875 27.6875 -1.421875 \nQ 18.265625 -1.421875 13.375 4.4375 \nQ 8.5 10.296875 8.5 21.578125 \nz\nM 31.109375 56 \nz\n\" id=\"DejaVuSans-117\"/>\n        <path d=\"M 54.890625 33.015625 \nL 54.890625 0 \nL 45.90625 0 \nL 45.90625 32.71875 \nQ 45.90625 40.484375 42.875 44.328125 \nQ 39.84375 48.1875 33.796875 48.1875 \nQ 26.515625 48.1875 22.3125 43.546875 \nQ 18.109375 38.921875 18.109375 30.90625 \nL 18.109375 0 \nL 9.078125 0 \nL 9.078125 54.6875 \nL 18.109375 54.6875 \nL 18.109375 46.1875 \nQ 21.34375 51.125 25.703125 53.5625 \nQ 30.078125 56 35.796875 56 \nQ 45.21875 56 50.046875 50.171875 \nQ 54.890625 44.34375 54.890625 33.015625 \nz\n\" id=\"DejaVuSans-110\"/>\n       </defs>\n       <use xlink:href=\"#DejaVuSans-74\"/>\n       <use x=\"29.492188\" xlink:href=\"#DejaVuSans-117\"/>\n       <use x=\"92.871094\" xlink:href=\"#DejaVuSans-110\"/>\n      </g>\n     </g>\n    </g>\n    <g id=\"xtick_6\">\n     <g id=\"line2d_6\">\n      <g>\n       <use style=\"stroke:#000000;stroke-width:0.8;\" x=\"520.973049\" xlink:href=\"#m97e97171b1\" y=\"115.92\"/>\n      </g>\n     </g>\n     <g id=\"text_5\">\n      <!-- Jul -->\n      <g transform=\"translate(514.940237 130.518438)scale(0.1 -0.1)\">\n       <defs>\n        <path d=\"M 9.421875 75.984375 \nL 18.40625 75.984375 \nL 18.40625 0 \nL 9.421875 0 \nz\n\" id=\"DejaVuSans-108\"/>\n       </defs>\n       <use xlink:href=\"#DejaVuSans-74\"/>\n       <use x=\"29.492188\" xlink:href=\"#DejaVuSans-117\"/>\n       <use x=\"92.871094\" xlink:href=\"#DejaVuSans-108\"/>\n      </g>\n     </g>\n    </g>\n    <g id=\"xtick_7\">\n     <g id=\"line2d_7\">\n      <g>\n       <use style=\"stroke:#000000;stroke-width:0.8;\" x=\"640.959176\" xlink:href=\"#m97e97171b1\" y=\"115.92\"/>\n      </g>\n     </g>\n     <g id=\"text_6\">\n      <!-- Aug -->\n      <g transform=\"translate(631.195895 130.518438)scale(0.1 -0.1)\">\n       <defs>\n        <path d=\"M 45.40625 27.984375 \nQ 45.40625 37.75 41.375 43.109375 \nQ 37.359375 48.484375 30.078125 48.484375 \nQ 22.859375 48.484375 18.828125 43.109375 \nQ 14.796875 37.75 14.796875 27.984375 \nQ 14.796875 18.265625 18.828125 12.890625 \nQ 22.859375 7.515625 30.078125 7.515625 \nQ 37.359375 7.515625 41.375 12.890625 \nQ 45.40625 18.265625 45.40625 27.984375 \nz\nM 54.390625 6.78125 \nQ 54.390625 -7.171875 48.1875 -13.984375 \nQ 42 -20.796875 29.203125 -20.796875 \nQ 24.46875 -20.796875 20.265625 -20.09375 \nQ 16.0625 -19.390625 12.109375 -17.921875 \nL 12.109375 -9.1875 \nQ 16.0625 -11.328125 19.921875 -12.34375 \nQ 23.78125 -13.375 27.78125 -13.375 \nQ 36.625 -13.375 41.015625 -8.765625 \nQ 45.40625 -4.15625 45.40625 5.171875 \nL 45.40625 9.625 \nQ 42.625 4.78125 38.28125 2.390625 \nQ 33.9375 0 27.875 0 \nQ 17.828125 0 11.671875 7.65625 \nQ 5.515625 15.328125 5.515625 27.984375 \nQ 5.515625 40.671875 11.671875 48.328125 \nQ 17.828125 56 27.875 56 \nQ 33.9375 56 38.28125 53.609375 \nQ 42.625 51.21875 45.40625 46.390625 \nL 45.40625 54.6875 \nL 54.390625 54.6875 \nz\n\" id=\"DejaVuSans-103\"/>\n       </defs>\n       <use xlink:href=\"#DejaVuSans-65\"/>\n       <use x=\"68.408203\" xlink:href=\"#DejaVuSans-117\"/>\n       <use x=\"131.787109\" xlink:href=\"#DejaVuSans-103\"/>\n      </g>\n     </g>\n    </g>\n    <g id=\"xtick_8\">\n     <g id=\"line2d_8\">\n      <g>\n       <use style=\"stroke:#000000;stroke-width:0.8;\" x=\"702.8875\" xlink:href=\"#m97e97171b1\" y=\"115.92\"/>\n      </g>\n     </g>\n    </g>\n    <g id=\"xtick_9\">\n     <g id=\"line2d_9\">\n      <defs>\n       <path d=\"M 0 0 \nL 0 2 \n\" id=\"m06f85615a8\" style=\"stroke:#000000;stroke-width:0.6;\"/>\n      </defs>\n      <g>\n       <use style=\"stroke:#000000;stroke-width:0.6;\" x=\"52.640101\" xlink:href=\"#m06f85615a8\" y=\"115.92\"/>\n      </g>\n     </g>\n    </g>\n    <g id=\"xtick_10\">\n     <g id=\"line2d_10\">\n      <g>\n       <use style=\"stroke:#000000;stroke-width:0.6;\" x=\"79.733743\" xlink:href=\"#m06f85615a8\" y=\"115.92\"/>\n      </g>\n     </g>\n    </g>\n    <g id=\"xtick_11\">\n     <g id=\"line2d_11\">\n      <g>\n       <use style=\"stroke:#000000;stroke-width:0.6;\" x=\"106.827384\" xlink:href=\"#m06f85615a8\" y=\"115.92\"/>\n      </g>\n     </g>\n    </g>\n    <g id=\"xtick_12\">\n     <g id=\"line2d_12\">\n      <g>\n       <use style=\"stroke:#000000;stroke-width:0.6;\" x=\"133.921026\" xlink:href=\"#m06f85615a8\" y=\"115.92\"/>\n      </g>\n     </g>\n    </g>\n    <g id=\"xtick_13\">\n     <g id=\"line2d_13\">\n      <g>\n       <use style=\"stroke:#000000;stroke-width:0.6;\" x=\"161.014668\" xlink:href=\"#m06f85615a8\" y=\"115.92\"/>\n      </g>\n     </g>\n    </g>\n    <g id=\"xtick_14\">\n     <g id=\"line2d_14\">\n      <g>\n       <use style=\"stroke:#000000;stroke-width:0.6;\" x=\"188.108309\" xlink:href=\"#m06f85615a8\" y=\"115.92\"/>\n      </g>\n     </g>\n    </g>\n    <g id=\"xtick_15\">\n     <g id=\"line2d_15\">\n      <g>\n       <use style=\"stroke:#000000;stroke-width:0.6;\" x=\"215.201951\" xlink:href=\"#m06f85615a8\" y=\"115.92\"/>\n      </g>\n     </g>\n    </g>\n    <g id=\"xtick_16\">\n     <g id=\"line2d_16\">\n      <g>\n       <use style=\"stroke:#000000;stroke-width:0.6;\" x=\"242.295592\" xlink:href=\"#m06f85615a8\" y=\"115.92\"/>\n      </g>\n     </g>\n    </g>\n    <g id=\"xtick_17\">\n     <g id=\"line2d_17\">\n      <g>\n       <use style=\"stroke:#000000;stroke-width:0.6;\" x=\"269.389234\" xlink:href=\"#m06f85615a8\" y=\"115.92\"/>\n      </g>\n     </g>\n    </g>\n    <g id=\"xtick_18\">\n     <g id=\"line2d_18\">\n      <g>\n       <use style=\"stroke:#000000;stroke-width:0.6;\" x=\"296.482876\" xlink:href=\"#m06f85615a8\" y=\"115.92\"/>\n      </g>\n     </g>\n    </g>\n    <g id=\"xtick_19\">\n     <g id=\"line2d_19\">\n      <g>\n       <use style=\"stroke:#000000;stroke-width:0.6;\" x=\"323.576517\" xlink:href=\"#m06f85615a8\" y=\"115.92\"/>\n      </g>\n     </g>\n    </g>\n    <g id=\"xtick_20\">\n     <g id=\"line2d_20\">\n      <g>\n       <use style=\"stroke:#000000;stroke-width:0.6;\" x=\"350.670159\" xlink:href=\"#m06f85615a8\" y=\"115.92\"/>\n      </g>\n     </g>\n    </g>\n    <g id=\"xtick_21\">\n     <g id=\"line2d_21\">\n      <g>\n       <use style=\"stroke:#000000;stroke-width:0.6;\" x=\"377.763801\" xlink:href=\"#m06f85615a8\" y=\"115.92\"/>\n      </g>\n     </g>\n    </g>\n    <g id=\"xtick_22\">\n     <g id=\"line2d_22\">\n      <g>\n       <use style=\"stroke:#000000;stroke-width:0.6;\" x=\"431.951084\" xlink:href=\"#m06f85615a8\" y=\"115.92\"/>\n      </g>\n     </g>\n    </g>\n    <g id=\"xtick_23\">\n     <g id=\"line2d_23\">\n      <g>\n       <use style=\"stroke:#000000;stroke-width:0.6;\" x=\"459.044725\" xlink:href=\"#m06f85615a8\" y=\"115.92\"/>\n      </g>\n     </g>\n    </g>\n    <g id=\"xtick_24\">\n     <g id=\"line2d_24\">\n      <g>\n       <use style=\"stroke:#000000;stroke-width:0.6;\" x=\"486.138367\" xlink:href=\"#m06f85615a8\" y=\"115.92\"/>\n      </g>\n     </g>\n    </g>\n    <g id=\"xtick_25\">\n     <g id=\"line2d_25\">\n      <g>\n       <use style=\"stroke:#000000;stroke-width:0.6;\" x=\"513.232009\" xlink:href=\"#m06f85615a8\" y=\"115.92\"/>\n      </g>\n     </g>\n    </g>\n    <g id=\"xtick_26\">\n     <g id=\"line2d_26\">\n      <g>\n       <use style=\"stroke:#000000;stroke-width:0.6;\" x=\"540.32565\" xlink:href=\"#m06f85615a8\" y=\"115.92\"/>\n      </g>\n     </g>\n    </g>\n    <g id=\"xtick_27\">\n     <g id=\"line2d_27\">\n      <g>\n       <use style=\"stroke:#000000;stroke-width:0.6;\" x=\"567.419292\" xlink:href=\"#m06f85615a8\" y=\"115.92\"/>\n      </g>\n     </g>\n    </g>\n    <g id=\"xtick_28\">\n     <g id=\"line2d_28\">\n      <g>\n       <use style=\"stroke:#000000;stroke-width:0.6;\" x=\"594.512934\" xlink:href=\"#m06f85615a8\" y=\"115.92\"/>\n      </g>\n     </g>\n    </g>\n    <g id=\"xtick_29\">\n     <g id=\"line2d_29\">\n      <g>\n       <use style=\"stroke:#000000;stroke-width:0.6;\" x=\"621.606575\" xlink:href=\"#m06f85615a8\" y=\"115.92\"/>\n      </g>\n     </g>\n    </g>\n    <g id=\"xtick_30\">\n     <g id=\"line2d_30\">\n      <g>\n       <use style=\"stroke:#000000;stroke-width:0.6;\" x=\"648.700217\" xlink:href=\"#m06f85615a8\" y=\"115.92\"/>\n      </g>\n     </g>\n    </g>\n    <g id=\"xtick_31\">\n     <g id=\"line2d_31\">\n      <g>\n       <use style=\"stroke:#000000;stroke-width:0.6;\" x=\"675.793858\" xlink:href=\"#m06f85615a8\" y=\"115.92\"/>\n      </g>\n     </g>\n    </g>\n   </g>\n   <g id=\"matplotlib.axis_2\">\n    <g id=\"ytick_1\">\n     <g id=\"line2d_32\">\n      <defs>\n       <path d=\"M 0 0 \nL -3.5 0 \n\" id=\"m8df0a40e7e\" style=\"stroke:#000000;stroke-width:0.8;\"/>\n      </defs>\n      <g>\n       <use style=\"stroke:#000000;stroke-width:0.8;\" x=\"33.2875\" xlink:href=\"#m8df0a40e7e\" y=\"110.978182\"/>\n      </g>\n     </g>\n     <g id=\"text_7\">\n      <!-- 0 -->\n      <g transform=\"translate(19.925 114.777401)scale(0.1 -0.1)\">\n       <use xlink:href=\"#DejaVuSans-48\"/>\n      </g>\n     </g>\n    </g>\n    <g id=\"ytick_2\">\n     <g id=\"line2d_33\">\n      <g>\n       <use style=\"stroke:#000000;stroke-width:0.8;\" x=\"33.2875\" xlink:href=\"#m8df0a40e7e\" y=\"67.533626\"/>\n      </g>\n     </g>\n     <g id=\"text_8\">\n      <!-- 200 -->\n      <g transform=\"translate(7.2 71.332845)scale(0.1 -0.1)\">\n       <use xlink:href=\"#DejaVuSans-50\"/>\n       <use x=\"63.623047\" xlink:href=\"#DejaVuSans-48\"/>\n       <use x=\"127.246094\" xlink:href=\"#DejaVuSans-48\"/>\n      </g>\n     </g>\n    </g>\n    <g id=\"ytick_3\">\n     <g id=\"line2d_34\">\n      <g>\n       <use style=\"stroke:#000000;stroke-width:0.8;\" x=\"33.2875\" xlink:href=\"#m8df0a40e7e\" y=\"24.089071\"/>\n      </g>\n     </g>\n     <g id=\"text_9\">\n      <!-- 400 -->\n      <g transform=\"translate(7.2 27.88829)scale(0.1 -0.1)\">\n       <defs>\n        <path d=\"M 37.796875 64.3125 \nL 12.890625 25.390625 \nL 37.796875 25.390625 \nz\nM 35.203125 72.90625 \nL 47.609375 72.90625 \nL 47.609375 25.390625 \nL 58.015625 25.390625 \nL 58.015625 17.1875 \nL 47.609375 17.1875 \nL 47.609375 0 \nL 37.796875 0 \nL 37.796875 17.1875 \nL 4.890625 17.1875 \nL 4.890625 26.703125 \nz\n\" id=\"DejaVuSans-52\"/>\n       </defs>\n       <use xlink:href=\"#DejaVuSans-52\"/>\n       <use x=\"63.623047\" xlink:href=\"#DejaVuSans-48\"/>\n       <use x=\"127.246094\" xlink:href=\"#DejaVuSans-48\"/>\n      </g>\n     </g>\n    </g>\n   </g>\n   <g id=\"line2d_35\">\n    <path clip-path=\"url(#p065096f644)\" d=\"M 33.2875 110.978182 \nL 106.827384 110.978182 \nL 114.568425 110.543736 \nL 118.438945 110.543736 \nL 126.179986 109.674845 \nL 133.921026 109.2404 \nL 137.791546 108.805954 \nL 141.662066 109.2404 \nL 145.532587 108.805954 \nL 149.403107 108.805954 \nL 153.273627 107.502617 \nL 157.144147 107.937063 \nL 161.014668 107.71984 \nL 164.885188 105.982058 \nL 168.755708 104.895944 \nL 172.626228 105.764835 \nL 176.496749 104.244276 \nL 180.367269 102.072048 \nL 184.237789 107.71984 \nL 188.108309 104.678721 \nL 191.978829 96.424256 \nL 195.84935 98.596484 \nL 199.71987 96.207033 \nL 207.46091 106.633726 \nL 211.331431 104.895944 \nL 215.201951 106.633726 \nL 219.072471 92.0798 \nL 222.942991 92.948691 \nL 226.813512 94.686474 \nL 230.684032 94.686474 \nL 234.554552 97.293147 \nL 238.425072 105.764835 \nL 242.295592 106.199281 \nL 246.166113 98.813706 \nL 250.036633 102.072048 \nL 253.907153 65.144176 \nL 257.777673 74.701978 \nL 261.648194 77.308651 \nL 265.518714 103.80983 \nL 269.389234 83.825335 \nL 273.259754 62.32028 \nL 277.130275 67.968072 \nL 281.000795 83.173666 \nL 284.871315 81.435884 \nL 288.741835 94.686474 \nL 292.612355 102.072048 \nL 296.482876 105.113167 \nL 300.353396 68.185295 \nL 304.223916 68.836963 \nL 308.094436 76.005315 \nL 311.964957 65.361399 \nL 315.835477 69.271409 \nL 319.705997 89.038681 \nL 323.576517 103.592607 \nL 327.447038 66.23029 \nL 331.317558 74.267532 \nL 335.188078 68.185295 \nL 339.058598 70.574745 \nL 342.929118 70.357522 \nL 346.799639 90.559241 \nL 350.670159 102.072048 \nL 354.540679 40.598002 \nL 358.411199 64.058062 \nL 362.28172 68.61974 \nL 366.15224 64.275285 \nL 370.02276 51.893586 \nL 373.89328 85.345894 \nL 377.763801 98.596484 \nL 381.634321 66.881958 \nL 385.504841 48.200799 \nL 389.375361 52.762478 \nL 393.245882 46.897463 \nL 397.116402 55.151928 \nL 400.986922 92.948691 \nL 404.857442 99.682597 \nL 408.727962 39.946334 \nL 412.598483 49.721359 \nL 416.469003 49.06969 \nL 420.339523 49.938581 \nL 424.210043 64.058062 \nL 428.080564 92.0798 \nL 431.951084 101.637602 \nL 435.821604 38.425774 \nL 439.692124 37.122438 \nL 443.562645 49.504136 \nL 447.433165 62.537502 \nL 451.303685 64.70973 \nL 455.174205 86.432008 \nL 459.044725 95.120919 \nL 462.915246 31.691868 \nL 466.785766 26.478521 \nL 470.656286 40.380779 \nL 474.526806 27.13019 \nL 478.397327 54.065814 \nL 482.267847 90.559241 \nL 486.138367 100.985934 \nL 490.008887 16.703497 \nL 493.879408 49.286913 \nL 497.749928 22.568511 \nL 501.620448 66.013067 \nL 505.490968 46.463017 \nL 509.361488 94.686474 \nL 513.232009 97.944815 \nL 517.102529 31.691868 \nL 520.973049 52.9797 \nL 524.843569 41.24967 \nL 528.71409 36.470769 \nL 532.58461 45.376903 \nL 536.45513 93.165914 \nL 540.32565 98.813706 \nL 544.196171 36.905215 \nL 548.066691 42.987453 \nL 551.937211 39.294665 \nL 555.807731 40.598002 \nL 559.678251 54.50026 \nL 563.548772 79.263656 \nL 567.419292 98.162038 \nL 571.289812 20.396284 \nL 575.160332 42.335784 \nL 579.030853 24.523516 \nL 582.901373 37.33966 \nL 586.771893 52.328032 \nL 590.642413 92.514246 \nL 594.512934 98.813706 \nL 598.383454 27.781858 \nL 602.253974 32.560759 \nL 606.124494 32.343536 \nL 609.995014 43.204675 \nL 613.865535 43.421898 \nL 617.736055 91.645355 \nL 621.606575 95.772587 \nL 625.477095 27.781858 \nL 629.347616 39.294665 \nL 633.218136 41.24967 \nL 637.088656 48.635245 \nL 640.959176 59.061938 \nL 644.829697 93.383137 \nL 648.700217 100.551489 \nL 652.570737 37.774106 \nL 656.441257 22.568511 \nL 660.311777 37.33966 \nL 664.182298 48.635245 \nL 668.052818 49.938581 \nL 671.923338 89.69035 \nL 675.793858 102.940939 \nL 679.664379 19.744615 \nL 683.534899 46.245794 \nL 687.405419 12.141818 \nL 691.275939 48.200799 \nL 695.14646 74.701978 \nL 699.01698 95.338142 \nL 702.8875 100.768711 \nL 702.8875 100.768711 \n\" style=\"fill:none;stroke:#1f77b4;stroke-linecap:square;stroke-width:1.5;\"/>\n   </g>\n   <g id=\"patch_3\">\n    <path d=\"M 33.2875 115.92 \nL 33.2875 7.2 \n\" style=\"fill:none;stroke:#000000;stroke-linecap:square;stroke-linejoin:miter;stroke-width:0.8;\"/>\n   </g>\n   <g id=\"patch_4\">\n    <path d=\"M 702.8875 115.92 \nL 702.8875 7.2 \n\" style=\"fill:none;stroke:#000000;stroke-linecap:square;stroke-linejoin:miter;stroke-width:0.8;\"/>\n   </g>\n   <g id=\"patch_5\">\n    <path d=\"M 33.2875 115.92 \nL 702.8875 115.92 \n\" style=\"fill:none;stroke:#000000;stroke-linecap:square;stroke-linejoin:miter;stroke-width:0.8;\"/>\n   </g>\n   <g id=\"patch_6\">\n    <path d=\"M 33.2875 7.2 \nL 702.8875 7.2 \n\" style=\"fill:none;stroke:#000000;stroke-linecap:square;stroke-linejoin:miter;stroke-width:0.8;\"/>\n   </g>\n  </g>\n </g>\n <defs>\n  <clipPath id=\"p065096f644\">\n   <rect height=\"108.72\" width=\"669.6\" x=\"33.2875\" y=\"7.2\"/>\n  </clipPath>\n </defs>\n</svg>\n",
      "image/png": "[encoded data removed]"
     },
     "metadata": {
      "needs_background": "light"
     }
    }
   ],
   "source": [
    "results = seasonal_decompose(df)\n",
    "results.observed.plot(figsize=(12,2));"
   ]
  },
  {
   "cell_type": "code",
   "execution_count": 9,
   "metadata": {},
   "outputs": [
    {
     "output_type": "display_data",
     "data": {
      "text/plain": "<Figure size 864x144 with 1 Axes>",
      "image/svg+xml": "<?xml version=\"1.0\" encoding=\"utf-8\" standalone=\"no\"?>\n<!DOCTYPE svg PUBLIC \"-//W3C//DTD SVG 1.1//EN\"\n  \"http://www.w3.org/Graphics/SVG/1.1/DTD/svg11.dtd\">\n<!-- Created with matplotlib (https://matplotlib.org/) -->\n<svg height=\"150.995937pt\" version=\"1.1\" viewBox=\"0 0 710.0875 150.995937\" width=\"710.0875pt\" xmlns=\"http://www.w3.org/2000/svg\" xmlns:xlink=\"http://www.w3.org/1999/xlink\">\n <metadata>\n  <rdf:RDF xmlns:cc=\"http://creativecommons.org/ns#\" xmlns:dc=\"http://purl.org/dc/elements/1.1/\" xmlns:rdf=\"http://www.w3.org/1999/02/22-rdf-syntax-ns#\">\n   <cc:Work>\n    <dc:type rdf:resource=\"http://purl.org/dc/dcmitype/StillImage\"/>\n    <dc:date>2020-09-17T00:57:32.316051</dc:date>\n    <dc:format>image/svg+xml</dc:format>\n    <dc:creator>\n     <cc:Agent>\n      <dc:title>Matplotlib v3.3.0, https://matplotlib.org/</dc:title>\n     </cc:Agent>\n    </dc:creator>\n   </cc:Work>\n  </rdf:RDF>\n </metadata>\n <defs>\n  <style type=\"text/css\">*{stroke-linecap:butt;stroke-linejoin:round;}</style>\n </defs>\n <g id=\"figure_1\">\n  <g id=\"patch_1\">\n   <path d=\"M 0 150.995937 \nL 710.0875 150.995937 \nL 710.0875 0 \nL 0 0 \nz\n\" style=\"fill:none;\"/>\n  </g>\n  <g id=\"axes_1\">\n   <g id=\"patch_2\">\n    <path d=\"M 33.2875 115.92 \nL 702.8875 115.92 \nL 702.8875 7.2 \nL 33.2875 7.2 \nz\n\" style=\"fill:#ffffff;\"/>\n   </g>\n   <g id=\"matplotlib.axis_1\">\n    <g id=\"xtick_1\">\n     <g id=\"line2d_1\">\n      <defs>\n       <path d=\"M 0 0 \nL 0 3.5 \n\" id=\"m715791c4ea\" style=\"stroke:#000000;stroke-width:0.8;\"/>\n      </defs>\n      <g>\n       <use style=\"stroke:#000000;stroke-width:0.8;\" x=\"33.2875\" xlink:href=\"#m715791c4ea\" y=\"115.92\"/>\n      </g>\n     </g>\n    </g>\n    <g id=\"xtick_2\">\n     <g id=\"line2d_2\">\n      <g>\n       <use style=\"stroke:#000000;stroke-width:0.8;\" x=\"48.769581\" xlink:href=\"#m715791c4ea\" y=\"115.92\"/>\n      </g>\n     </g>\n     <g id=\"text_1\">\n      <!-- Mar -->\n      <g transform=\"translate(39.335987 130.518438)scale(0.1 -0.1)\">\n       <defs>\n        <path d=\"M 9.8125 72.90625 \nL 24.515625 72.90625 \nL 43.109375 23.296875 \nL 61.8125 72.90625 \nL 76.515625 72.90625 \nL 76.515625 0 \nL 66.890625 0 \nL 66.890625 64.015625 \nL 48.09375 14.015625 \nL 38.1875 14.015625 \nL 19.390625 64.015625 \nL 19.390625 0 \nL 9.8125 0 \nz\n\" id=\"DejaVuSans-77\"/>\n        <path d=\"M 34.28125 27.484375 \nQ 23.390625 27.484375 19.1875 25 \nQ 14.984375 22.515625 14.984375 16.5 \nQ 14.984375 11.71875 18.140625 8.90625 \nQ 21.296875 6.109375 26.703125 6.109375 \nQ 34.1875 6.109375 38.703125 11.40625 \nQ 43.21875 16.703125 43.21875 25.484375 \nL 43.21875 27.484375 \nz\nM 52.203125 31.203125 \nL 52.203125 0 \nL 43.21875 0 \nL 43.21875 8.296875 \nQ 40.140625 3.328125 35.546875 0.953125 \nQ 30.953125 -1.421875 24.3125 -1.421875 \nQ 15.921875 -1.421875 10.953125 3.296875 \nQ 6 8.015625 6 15.921875 \nQ 6 25.140625 12.171875 29.828125 \nQ 18.359375 34.515625 30.609375 34.515625 \nL 43.21875 34.515625 \nL 43.21875 35.40625 \nQ 43.21875 41.609375 39.140625 45 \nQ 35.0625 48.390625 27.6875 48.390625 \nQ 23 48.390625 18.546875 47.265625 \nQ 14.109375 46.140625 10.015625 43.890625 \nL 10.015625 52.203125 \nQ 14.9375 54.109375 19.578125 55.046875 \nQ 24.21875 56 28.609375 56 \nQ 40.484375 56 46.34375 49.84375 \nQ 52.203125 43.703125 52.203125 31.203125 \nz\n\" id=\"DejaVuSans-97\"/>\n        <path d=\"M 41.109375 46.296875 \nQ 39.59375 47.171875 37.8125 47.578125 \nQ 36.03125 48 33.890625 48 \nQ 26.265625 48 22.1875 43.046875 \nQ 18.109375 38.09375 18.109375 28.8125 \nL 18.109375 0 \nL 9.078125 0 \nL 9.078125 54.6875 \nL 18.109375 54.6875 \nL 18.109375 46.1875 \nQ 20.953125 51.171875 25.484375 53.578125 \nQ 30.03125 56 36.53125 56 \nQ 37.453125 56 38.578125 55.875 \nQ 39.703125 55.765625 41.0625 55.515625 \nz\n\" id=\"DejaVuSans-114\"/>\n       </defs>\n       <use xlink:href=\"#DejaVuSans-77\"/>\n       <use x=\"86.279297\" xlink:href=\"#DejaVuSans-97\"/>\n       <use x=\"147.558594\" xlink:href=\"#DejaVuSans-114\"/>\n      </g>\n      <!-- 2020 -->\n      <g transform=\"translate(36.044581 141.71625)scale(0.1 -0.1)\">\n       <defs>\n        <path d=\"M 19.1875 8.296875 \nL 53.609375 8.296875 \nL 53.609375 0 \nL 7.328125 0 \nL 7.328125 8.296875 \nQ 12.9375 14.109375 22.625 23.890625 \nQ 32.328125 33.6875 34.8125 36.53125 \nQ 39.546875 41.84375 41.421875 45.53125 \nQ 43.3125 49.21875 43.3125 52.78125 \nQ 43.3125 58.59375 39.234375 62.25 \nQ 35.15625 65.921875 28.609375 65.921875 \nQ 23.96875 65.921875 18.8125 64.3125 \nQ 13.671875 62.703125 7.8125 59.421875 \nL 7.8125 69.390625 \nQ 13.765625 71.78125 18.9375 73 \nQ 24.125 74.21875 28.421875 74.21875 \nQ 39.75 74.21875 46.484375 68.546875 \nQ 53.21875 62.890625 53.21875 53.421875 \nQ 53.21875 48.921875 51.53125 44.890625 \nQ 49.859375 40.875 45.40625 35.40625 \nQ 44.1875 33.984375 37.640625 27.21875 \nQ 31.109375 20.453125 19.1875 8.296875 \nz\n\" id=\"DejaVuSans-50\"/>\n        <path d=\"M 31.78125 66.40625 \nQ 24.171875 66.40625 20.328125 58.90625 \nQ 16.5 51.421875 16.5 36.375 \nQ 16.5 21.390625 20.328125 13.890625 \nQ 24.171875 6.390625 31.78125 6.390625 \nQ 39.453125 6.390625 43.28125 13.890625 \nQ 47.125 21.390625 47.125 36.375 \nQ 47.125 51.421875 43.28125 58.90625 \nQ 39.453125 66.40625 31.78125 66.40625 \nz\nM 31.78125 74.21875 \nQ 44.046875 74.21875 50.515625 64.515625 \nQ 56.984375 54.828125 56.984375 36.375 \nQ 56.984375 17.96875 50.515625 8.265625 \nQ 44.046875 -1.421875 31.78125 -1.421875 \nQ 19.53125 -1.421875 13.0625 8.265625 \nQ 6.59375 17.96875 6.59375 36.375 \nQ 6.59375 54.828125 13.0625 64.515625 \nQ 19.53125 74.21875 31.78125 74.21875 \nz\n\" id=\"DejaVuSans-48\"/>\n       </defs>\n       <use xlink:href=\"#DejaVuSans-50\"/>\n       <use x=\"63.623047\" xlink:href=\"#DejaVuSans-48\"/>\n       <use x=\"127.246094\" xlink:href=\"#DejaVuSans-50\"/>\n       <use x=\"190.869141\" xlink:href=\"#DejaVuSans-48\"/>\n      </g>\n     </g>\n    </g>\n    <g id=\"xtick_3\">\n     <g id=\"line2d_3\">\n      <g>\n       <use style=\"stroke:#000000;stroke-width:0.8;\" x=\"168.755708\" xlink:href=\"#m715791c4ea\" y=\"115.92\"/>\n      </g>\n     </g>\n     <g id=\"text_2\">\n      <!-- Apr -->\n      <g transform=\"translate(160.105708 130.518438)scale(0.1 -0.1)\">\n       <defs>\n        <path d=\"M 34.1875 63.1875 \nL 20.796875 26.90625 \nL 47.609375 26.90625 \nz\nM 28.609375 72.90625 \nL 39.796875 72.90625 \nL 67.578125 0 \nL 57.328125 0 \nL 50.6875 18.703125 \nL 17.828125 18.703125 \nL 11.1875 0 \nL 0.78125 0 \nz\n\" id=\"DejaVuSans-65\"/>\n        <path d=\"M 18.109375 8.203125 \nL 18.109375 -20.796875 \nL 9.078125 -20.796875 \nL 9.078125 54.6875 \nL 18.109375 54.6875 \nL 18.109375 46.390625 \nQ 20.953125 51.265625 25.265625 53.625 \nQ 29.59375 56 35.59375 56 \nQ 45.5625 56 51.78125 48.09375 \nQ 58.015625 40.1875 58.015625 27.296875 \nQ 58.015625 14.40625 51.78125 6.484375 \nQ 45.5625 -1.421875 35.59375 -1.421875 \nQ 29.59375 -1.421875 25.265625 0.953125 \nQ 20.953125 3.328125 18.109375 8.203125 \nz\nM 48.6875 27.296875 \nQ 48.6875 37.203125 44.609375 42.84375 \nQ 40.53125 48.484375 33.40625 48.484375 \nQ 26.265625 48.484375 22.1875 42.84375 \nQ 18.109375 37.203125 18.109375 27.296875 \nQ 18.109375 17.390625 22.1875 11.75 \nQ 26.265625 6.109375 33.40625 6.109375 \nQ 40.53125 6.109375 44.609375 11.75 \nQ 48.6875 17.390625 48.6875 27.296875 \nz\n\" id=\"DejaVuSans-112\"/>\n       </defs>\n       <use xlink:href=\"#DejaVuSans-65\"/>\n       <use x=\"68.408203\" xlink:href=\"#DejaVuSans-112\"/>\n       <use x=\"131.884766\" xlink:href=\"#DejaVuSans-114\"/>\n      </g>\n     </g>\n    </g>\n    <g id=\"xtick_4\">\n     <g id=\"line2d_4\">\n      <g>\n       <use style=\"stroke:#000000;stroke-width:0.8;\" x=\"284.871315\" xlink:href=\"#m715791c4ea\" y=\"115.92\"/>\n      </g>\n     </g>\n     <g id=\"text_3\">\n      <!-- May -->\n      <g transform=\"translate(274.533815 130.518438)scale(0.1 -0.1)\">\n       <defs>\n        <path d=\"M 32.171875 -5.078125 \nQ 28.375 -14.84375 24.75 -17.8125 \nQ 21.140625 -20.796875 15.09375 -20.796875 \nL 7.90625 -20.796875 \nL 7.90625 -13.28125 \nL 13.1875 -13.28125 \nQ 16.890625 -13.28125 18.9375 -11.515625 \nQ 21 -9.765625 23.484375 -3.21875 \nL 25.09375 0.875 \nL 2.984375 54.6875 \nL 12.5 54.6875 \nL 29.59375 11.921875 \nL 46.6875 54.6875 \nL 56.203125 54.6875 \nz\n\" id=\"DejaVuSans-121\"/>\n       </defs>\n       <use xlink:href=\"#DejaVuSans-77\"/>\n       <use x=\"86.279297\" xlink:href=\"#DejaVuSans-97\"/>\n       <use x=\"147.558594\" xlink:href=\"#DejaVuSans-121\"/>\n      </g>\n     </g>\n    </g>\n    <g id=\"xtick_5\">\n     <g id=\"line2d_5\">\n      <g>\n       <use style=\"stroke:#000000;stroke-width:0.8;\" x=\"404.857442\" xlink:href=\"#m715791c4ea\" y=\"115.92\"/>\n      </g>\n     </g>\n     <g id=\"text_4\">\n      <!-- Jun -->\n      <g transform=\"translate(397.044942 130.518438)scale(0.1 -0.1)\">\n       <defs>\n        <path d=\"M 9.8125 72.90625 \nL 19.671875 72.90625 \nL 19.671875 5.078125 \nQ 19.671875 -8.109375 14.671875 -14.0625 \nQ 9.671875 -20.015625 -1.421875 -20.015625 \nL -5.171875 -20.015625 \nL -5.171875 -11.71875 \nL -2.09375 -11.71875 \nQ 4.4375 -11.71875 7.125 -8.046875 \nQ 9.8125 -4.390625 9.8125 5.078125 \nz\n\" id=\"DejaVuSans-74\"/>\n        <path d=\"M 8.5 21.578125 \nL 8.5 54.6875 \nL 17.484375 54.6875 \nL 17.484375 21.921875 \nQ 17.484375 14.15625 20.5 10.265625 \nQ 23.53125 6.390625 29.59375 6.390625 \nQ 36.859375 6.390625 41.078125 11.03125 \nQ 45.3125 15.671875 45.3125 23.6875 \nL 45.3125 54.6875 \nL 54.296875 54.6875 \nL 54.296875 0 \nL 45.3125 0 \nL 45.3125 8.40625 \nQ 42.046875 3.421875 37.71875 1 \nQ 33.40625 -1.421875 27.6875 -1.421875 \nQ 18.265625 -1.421875 13.375 4.4375 \nQ 8.5 10.296875 8.5 21.578125 \nz\nM 31.109375 56 \nz\n\" id=\"DejaVuSans-117\"/>\n        <path d=\"M 54.890625 33.015625 \nL 54.890625 0 \nL 45.90625 0 \nL 45.90625 32.71875 \nQ 45.90625 40.484375 42.875 44.328125 \nQ 39.84375 48.1875 33.796875 48.1875 \nQ 26.515625 48.1875 22.3125 43.546875 \nQ 18.109375 38.921875 18.109375 30.90625 \nL 18.109375 0 \nL 9.078125 0 \nL 9.078125 54.6875 \nL 18.109375 54.6875 \nL 18.109375 46.1875 \nQ 21.34375 51.125 25.703125 53.5625 \nQ 30.078125 56 35.796875 56 \nQ 45.21875 56 50.046875 50.171875 \nQ 54.890625 44.34375 54.890625 33.015625 \nz\n\" id=\"DejaVuSans-110\"/>\n       </defs>\n       <use xlink:href=\"#DejaVuSans-74\"/>\n       <use x=\"29.492188\" xlink:href=\"#DejaVuSans-117\"/>\n       <use x=\"92.871094\" xlink:href=\"#DejaVuSans-110\"/>\n      </g>\n     </g>\n    </g>\n    <g id=\"xtick_6\">\n     <g id=\"line2d_6\">\n      <g>\n       <use style=\"stroke:#000000;stroke-width:0.8;\" x=\"520.973049\" xlink:href=\"#m715791c4ea\" y=\"115.92\"/>\n      </g>\n     </g>\n     <g id=\"text_5\">\n      <!-- Jul -->\n      <g transform=\"translate(514.940237 130.518438)scale(0.1 -0.1)\">\n       <defs>\n        <path d=\"M 9.421875 75.984375 \nL 18.40625 75.984375 \nL 18.40625 0 \nL 9.421875 0 \nz\n\" id=\"DejaVuSans-108\"/>\n       </defs>\n       <use xlink:href=\"#DejaVuSans-74\"/>\n       <use x=\"29.492188\" xlink:href=\"#DejaVuSans-117\"/>\n       <use x=\"92.871094\" xlink:href=\"#DejaVuSans-108\"/>\n      </g>\n     </g>\n    </g>\n    <g id=\"xtick_7\">\n     <g id=\"line2d_7\">\n      <g>\n       <use style=\"stroke:#000000;stroke-width:0.8;\" x=\"640.959176\" xlink:href=\"#m715791c4ea\" y=\"115.92\"/>\n      </g>\n     </g>\n     <g id=\"text_6\">\n      <!-- Aug -->\n      <g transform=\"translate(631.195895 130.518438)scale(0.1 -0.1)\">\n       <defs>\n        <path d=\"M 45.40625 27.984375 \nQ 45.40625 37.75 41.375 43.109375 \nQ 37.359375 48.484375 30.078125 48.484375 \nQ 22.859375 48.484375 18.828125 43.109375 \nQ 14.796875 37.75 14.796875 27.984375 \nQ 14.796875 18.265625 18.828125 12.890625 \nQ 22.859375 7.515625 30.078125 7.515625 \nQ 37.359375 7.515625 41.375 12.890625 \nQ 45.40625 18.265625 45.40625 27.984375 \nz\nM 54.390625 6.78125 \nQ 54.390625 -7.171875 48.1875 -13.984375 \nQ 42 -20.796875 29.203125 -20.796875 \nQ 24.46875 -20.796875 20.265625 -20.09375 \nQ 16.0625 -19.390625 12.109375 -17.921875 \nL 12.109375 -9.1875 \nQ 16.0625 -11.328125 19.921875 -12.34375 \nQ 23.78125 -13.375 27.78125 -13.375 \nQ 36.625 -13.375 41.015625 -8.765625 \nQ 45.40625 -4.15625 45.40625 5.171875 \nL 45.40625 9.625 \nQ 42.625 4.78125 38.28125 2.390625 \nQ 33.9375 0 27.875 0 \nQ 17.828125 0 11.671875 7.65625 \nQ 5.515625 15.328125 5.515625 27.984375 \nQ 5.515625 40.671875 11.671875 48.328125 \nQ 17.828125 56 27.875 56 \nQ 33.9375 56 38.28125 53.609375 \nQ 42.625 51.21875 45.40625 46.390625 \nL 45.40625 54.6875 \nL 54.390625 54.6875 \nz\n\" id=\"DejaVuSans-103\"/>\n       </defs>\n       <use xlink:href=\"#DejaVuSans-65\"/>\n       <use x=\"68.408203\" xlink:href=\"#DejaVuSans-117\"/>\n       <use x=\"131.787109\" xlink:href=\"#DejaVuSans-103\"/>\n      </g>\n     </g>\n    </g>\n    <g id=\"xtick_8\">\n     <g id=\"line2d_8\">\n      <g>\n       <use style=\"stroke:#000000;stroke-width:0.8;\" x=\"702.8875\" xlink:href=\"#m715791c4ea\" y=\"115.92\"/>\n      </g>\n     </g>\n    </g>\n    <g id=\"xtick_9\">\n     <g id=\"line2d_9\">\n      <defs>\n       <path d=\"M 0 0 \nL 0 2 \n\" id=\"m854f694b97\" style=\"stroke:#000000;stroke-width:0.6;\"/>\n      </defs>\n      <g>\n       <use style=\"stroke:#000000;stroke-width:0.6;\" x=\"52.640101\" xlink:href=\"#m854f694b97\" y=\"115.92\"/>\n      </g>\n     </g>\n    </g>\n    <g id=\"xtick_10\">\n     <g id=\"line2d_10\">\n      <g>\n       <use style=\"stroke:#000000;stroke-width:0.6;\" x=\"79.733743\" xlink:href=\"#m854f694b97\" y=\"115.92\"/>\n      </g>\n     </g>\n    </g>\n    <g id=\"xtick_11\">\n     <g id=\"line2d_11\">\n      <g>\n       <use style=\"stroke:#000000;stroke-width:0.6;\" x=\"106.827384\" xlink:href=\"#m854f694b97\" y=\"115.92\"/>\n      </g>\n     </g>\n    </g>\n    <g id=\"xtick_12\">\n     <g id=\"line2d_12\">\n      <g>\n       <use style=\"stroke:#000000;stroke-width:0.6;\" x=\"133.921026\" xlink:href=\"#m854f694b97\" y=\"115.92\"/>\n      </g>\n     </g>\n    </g>\n    <g id=\"xtick_13\">\n     <g id=\"line2d_13\">\n      <g>\n       <use style=\"stroke:#000000;stroke-width:0.6;\" x=\"161.014668\" xlink:href=\"#m854f694b97\" y=\"115.92\"/>\n      </g>\n     </g>\n    </g>\n    <g id=\"xtick_14\">\n     <g id=\"line2d_14\">\n      <g>\n       <use style=\"stroke:#000000;stroke-width:0.6;\" x=\"188.108309\" xlink:href=\"#m854f694b97\" y=\"115.92\"/>\n      </g>\n     </g>\n    </g>\n    <g id=\"xtick_15\">\n     <g id=\"line2d_15\">\n      <g>\n       <use style=\"stroke:#000000;stroke-width:0.6;\" x=\"215.201951\" xlink:href=\"#m854f694b97\" y=\"115.92\"/>\n      </g>\n     </g>\n    </g>\n    <g id=\"xtick_16\">\n     <g id=\"line2d_16\">\n      <g>\n       <use style=\"stroke:#000000;stroke-width:0.6;\" x=\"242.295592\" xlink:href=\"#m854f694b97\" y=\"115.92\"/>\n      </g>\n     </g>\n    </g>\n    <g id=\"xtick_17\">\n     <g id=\"line2d_17\">\n      <g>\n       <use style=\"stroke:#000000;stroke-width:0.6;\" x=\"269.389234\" xlink:href=\"#m854f694b97\" y=\"115.92\"/>\n      </g>\n     </g>\n    </g>\n    <g id=\"xtick_18\">\n     <g id=\"line2d_18\">\n      <g>\n       <use style=\"stroke:#000000;stroke-width:0.6;\" x=\"296.482876\" xlink:href=\"#m854f694b97\" y=\"115.92\"/>\n      </g>\n     </g>\n    </g>\n    <g id=\"xtick_19\">\n     <g id=\"line2d_19\">\n      <g>\n       <use style=\"stroke:#000000;stroke-width:0.6;\" x=\"323.576517\" xlink:href=\"#m854f694b97\" y=\"115.92\"/>\n      </g>\n     </g>\n    </g>\n    <g id=\"xtick_20\">\n     <g id=\"line2d_20\">\n      <g>\n       <use style=\"stroke:#000000;stroke-width:0.6;\" x=\"350.670159\" xlink:href=\"#m854f694b97\" y=\"115.92\"/>\n      </g>\n     </g>\n    </g>\n    <g id=\"xtick_21\">\n     <g id=\"line2d_21\">\n      <g>\n       <use style=\"stroke:#000000;stroke-width:0.6;\" x=\"377.763801\" xlink:href=\"#m854f694b97\" y=\"115.92\"/>\n      </g>\n     </g>\n    </g>\n    <g id=\"xtick_22\">\n     <g id=\"line2d_22\">\n      <g>\n       <use style=\"stroke:#000000;stroke-width:0.6;\" x=\"431.951084\" xlink:href=\"#m854f694b97\" y=\"115.92\"/>\n      </g>\n     </g>\n    </g>\n    <g id=\"xtick_23\">\n     <g id=\"line2d_23\">\n      <g>\n       <use style=\"stroke:#000000;stroke-width:0.6;\" x=\"459.044725\" xlink:href=\"#m854f694b97\" y=\"115.92\"/>\n      </g>\n     </g>\n    </g>\n    <g id=\"xtick_24\">\n     <g id=\"line2d_24\">\n      <g>\n       <use style=\"stroke:#000000;stroke-width:0.6;\" x=\"486.138367\" xlink:href=\"#m854f694b97\" y=\"115.92\"/>\n      </g>\n     </g>\n    </g>\n    <g id=\"xtick_25\">\n     <g id=\"line2d_25\">\n      <g>\n       <use style=\"stroke:#000000;stroke-width:0.6;\" x=\"513.232009\" xlink:href=\"#m854f694b97\" y=\"115.92\"/>\n      </g>\n     </g>\n    </g>\n    <g id=\"xtick_26\">\n     <g id=\"line2d_26\">\n      <g>\n       <use style=\"stroke:#000000;stroke-width:0.6;\" x=\"540.32565\" xlink:href=\"#m854f694b97\" y=\"115.92\"/>\n      </g>\n     </g>\n    </g>\n    <g id=\"xtick_27\">\n     <g id=\"line2d_27\">\n      <g>\n       <use style=\"stroke:#000000;stroke-width:0.6;\" x=\"567.419292\" xlink:href=\"#m854f694b97\" y=\"115.92\"/>\n      </g>\n     </g>\n    </g>\n    <g id=\"xtick_28\">\n     <g id=\"line2d_28\">\n      <g>\n       <use style=\"stroke:#000000;stroke-width:0.6;\" x=\"594.512934\" xlink:href=\"#m854f694b97\" y=\"115.92\"/>\n      </g>\n     </g>\n    </g>\n    <g id=\"xtick_29\">\n     <g id=\"line2d_29\">\n      <g>\n       <use style=\"stroke:#000000;stroke-width:0.6;\" x=\"621.606575\" xlink:href=\"#m854f694b97\" y=\"115.92\"/>\n      </g>\n     </g>\n    </g>\n    <g id=\"xtick_30\">\n     <g id=\"line2d_30\">\n      <g>\n       <use style=\"stroke:#000000;stroke-width:0.6;\" x=\"648.700217\" xlink:href=\"#m854f694b97\" y=\"115.92\"/>\n      </g>\n     </g>\n    </g>\n    <g id=\"xtick_31\">\n     <g id=\"line2d_31\">\n      <g>\n       <use style=\"stroke:#000000;stroke-width:0.6;\" x=\"675.793858\" xlink:href=\"#m854f694b97\" y=\"115.92\"/>\n      </g>\n     </g>\n    </g>\n   </g>\n   <g id=\"matplotlib.axis_2\">\n    <g id=\"ytick_1\">\n     <g id=\"line2d_32\">\n      <defs>\n       <path d=\"M 0 0 \nL -3.5 0 \n\" id=\"mcbd7901dab\" style=\"stroke:#000000;stroke-width:0.8;\"/>\n      </defs>\n      <g>\n       <use style=\"stroke:#000000;stroke-width:0.8;\" x=\"33.2875\" xlink:href=\"#mcbd7901dab\" y=\"110.978182\"/>\n      </g>\n     </g>\n     <g id=\"text_7\">\n      <!-- 0 -->\n      <g transform=\"translate(19.925 114.777401)scale(0.1 -0.1)\">\n       <use xlink:href=\"#DejaVuSans-48\"/>\n      </g>\n     </g>\n    </g>\n    <g id=\"ytick_2\">\n     <g id=\"line2d_33\">\n      <g>\n       <use style=\"stroke:#000000;stroke-width:0.8;\" x=\"33.2875\" xlink:href=\"#mcbd7901dab\" y=\"75.407254\"/>\n      </g>\n     </g>\n     <g id=\"text_8\">\n      <!-- 100 -->\n      <g transform=\"translate(7.2 79.206473)scale(0.1 -0.1)\">\n       <defs>\n        <path d=\"M 12.40625 8.296875 \nL 28.515625 8.296875 \nL 28.515625 63.921875 \nL 10.984375 60.40625 \nL 10.984375 69.390625 \nL 28.421875 72.90625 \nL 38.28125 72.90625 \nL 38.28125 8.296875 \nL 54.390625 8.296875 \nL 54.390625 0 \nL 12.40625 0 \nz\n\" id=\"DejaVuSans-49\"/>\n       </defs>\n       <use xlink:href=\"#DejaVuSans-49\"/>\n       <use x=\"63.623047\" xlink:href=\"#DejaVuSans-48\"/>\n       <use x=\"127.246094\" xlink:href=\"#DejaVuSans-48\"/>\n      </g>\n     </g>\n    </g>\n    <g id=\"ytick_3\">\n     <g id=\"line2d_34\">\n      <g>\n       <use style=\"stroke:#000000;stroke-width:0.8;\" x=\"33.2875\" xlink:href=\"#mcbd7901dab\" y=\"39.836326\"/>\n      </g>\n     </g>\n     <g id=\"text_9\">\n      <!-- 200 -->\n      <g transform=\"translate(7.2 43.635545)scale(0.1 -0.1)\">\n       <use xlink:href=\"#DejaVuSans-50\"/>\n       <use x=\"63.623047\" xlink:href=\"#DejaVuSans-48\"/>\n       <use x=\"127.246094\" xlink:href=\"#DejaVuSans-48\"/>\n      </g>\n     </g>\n    </g>\n   </g>\n   <g id=\"line2d_35\">\n    <path clip-path=\"url(#pb15a26b8a6)\" d=\"M 44.899061 110.978182 \nL 99.086344 110.927366 \nL 110.697905 110.520841 \nL 118.438945 109.860238 \nL 133.921026 108.284954 \nL 137.791546 107.980061 \nL 141.662066 107.471905 \nL 149.403107 106.760486 \nL 153.273627 106.099883 \nL 157.144147 105.083571 \nL 161.014668 104.372152 \nL 164.885188 103.305025 \nL 168.755708 102.034634 \nL 172.626228 101.983819 \nL 176.496749 101.2724 \nL 180.367269 99.036513 \nL 184.237789 97.56286 \nL 188.108309 95.326974 \nL 191.978829 94.666371 \nL 195.84935 95.733498 \nL 199.71987 95.072896 \nL 203.59039 95.530236 \nL 207.46091 94.513924 \nL 211.331431 93.192718 \nL 215.201951 92.837009 \nL 219.072471 91.261725 \nL 222.942991 89.076653 \nL 226.813512 89.279916 \nL 230.684032 89.178285 \nL 234.554552 90.753569 \nL 238.425072 92.887824 \nL 242.295592 85.976901 \nL 250.036633 76.626829 \nL 253.907153 76.169488 \nL 257.777673 70.93548 \nL 261.648194 62.398458 \nL 265.518714 54.420407 \nL 269.389234 58.638102 \nL 273.259754 60.213386 \nL 277.130275 64.278635 \nL 281.000795 63.87211 \nL 284.871315 68.85204 \nL 288.741835 70.224062 \nL 292.612355 70.427324 \nL 296.482876 68.750409 \nL 300.353396 64.990054 \nL 304.223916 59.044627 \nL 308.094436 55.995691 \nL 315.835477 55.182641 \nL 319.705997 56.453031 \nL 323.576517 54.623669 \nL 327.447038 55.843244 \nL 335.188078 56.453031 \nL 339.058598 56.097322 \nL 342.929118 50.10108 \nL 346.799639 47.712746 \nL 350.670159 47.814377 \nL 354.540679 46.340724 \nL 358.411199 42.021398 \nL 362.28172 40.801823 \nL 366.15224 39.988773 \nL 370.02276 46.137462 \nL 377.763801 38.718383 \nL 381.634321 34.653134 \nL 385.504841 35.415368 \nL 389.375361 37.193914 \nL 393.245882 37.447993 \nL 397.116402 31.146857 \nL 400.986922 31.502566 \nL 404.857442 30.638701 \nL 408.727962 31.350119 \nL 412.598483 33.433559 \nL 416.469003 33.230297 \nL 420.339523 33.687637 \nL 424.210043 33.331928 \nL 428.080564 30.384623 \nL 431.951084 30.486254 \nL 435.821604 33.433559 \nL 439.692124 33.586006 \nL 443.562645 32.2648 \nL 451.303685 29.165048 \nL 455.174205 26.675083 \nL 459.044725 24.540827 \nL 462.915246 16.257883 \nL 466.785766 13.767918 \nL 470.656286 14.733414 \nL 474.526806 16.105436 \nL 478.397327 12.599159 \nL 482.267847 17.934798 \nL 486.138367 13.767918 \nL 490.008887 22.863912 \nL 493.879408 21.085366 \nL 497.749928 22.050862 \nL 501.620448 21.339444 \nL 505.490968 24.845721 \nL 509.361488 25.709586 \nL 513.232009 30.079729 \nL 517.102529 23.168806 \nL 524.843569 22.559018 \nL 528.71409 22.762281 \nL 532.58461 23.981856 \nL 536.45513 21.644337 \nL 540.32565 21.186997 \nL 544.196171 22.152494 \nL 548.066691 24.286749 \nL 551.937211 21.03455 \nL 555.807731 20.882103 \nL 559.678251 17.020117 \nL 563.548772 16.86767 \nL 567.419292 13.412208 \nL 571.289812 12.649974 \nL 575.160332 12.141818 \nL 579.030853 15.24157 \nL 582.901373 15.394017 \nL 586.771893 17.121748 \nL 590.642413 14.835046 \nL 594.512934 16.664408 \nL 598.383454 18.036429 \nL 602.253974 15.952989 \nL 606.124494 15.749727 \nL 609.995014 15.038308 \nL 613.865535 15.038308 \nL 617.736055 16.613592 \nL 621.606575 18.697032 \nL 625.477095 19.967422 \nL 629.347616 23.626146 \nL 633.218136 24.032671 \nL 637.088656 25.150615 \nL 640.959176 27.488133 \nL 644.829697 23.575331 \nL 648.700217 22.66065 \nL 652.570737 22.66065 \nL 656.441257 20.526394 \nL 660.311777 19.662529 \nL 664.182298 20.2215 \nL 668.052818 16.003805 \nL 671.923338 21.542706 \nL 675.793858 15.648095 \nL 679.664379 15.546464 \nL 683.534899 21.339444 \nL 687.405419 22.66065 \nL 691.275939 22.152494 \nL 691.275939 22.152494 \n\" style=\"fill:none;stroke:#1f77b4;stroke-linecap:square;stroke-width:1.5;\"/>\n   </g>\n   <g id=\"patch_3\">\n    <path d=\"M 33.2875 115.92 \nL 33.2875 7.2 \n\" style=\"fill:none;stroke:#000000;stroke-linecap:square;stroke-linejoin:miter;stroke-width:0.8;\"/>\n   </g>\n   <g id=\"patch_4\">\n    <path d=\"M 702.8875 115.92 \nL 702.8875 7.2 \n\" style=\"fill:none;stroke:#000000;stroke-linecap:square;stroke-linejoin:miter;stroke-width:0.8;\"/>\n   </g>\n   <g id=\"patch_5\">\n    <path d=\"M 33.2875 115.92 \nL 702.8875 115.92 \n\" style=\"fill:none;stroke:#000000;stroke-linecap:square;stroke-linejoin:miter;stroke-width:0.8;\"/>\n   </g>\n   <g id=\"patch_6\">\n    <path d=\"M 33.2875 7.2 \nL 702.8875 7.2 \n\" style=\"fill:none;stroke:#000000;stroke-linecap:square;stroke-linejoin:miter;stroke-width:0.8;\"/>\n   </g>\n  </g>\n </g>\n <defs>\n  <clipPath id=\"pb15a26b8a6\">\n   <rect height=\"108.72\" width=\"669.6\" x=\"33.2875\" y=\"7.2\"/>\n  </clipPath>\n </defs>\n</svg>\n",
      "image/png": "[encoded data removed]"
     },
     "metadata": {
      "needs_background": "light"
     }
    }
   ],
   "source": [
    "results.trend.plot(figsize=(12,2));"
   ]
  },
  {
   "cell_type": "code",
   "execution_count": 10,
   "metadata": {},
   "outputs": [
    {
     "output_type": "display_data",
     "data": {
      "text/plain": "<Figure size 864x144 with 1 Axes>",
      "image/svg+xml": "<?xml version=\"1.0\" encoding=\"utf-8\" standalone=\"no\"?>\n<!DOCTYPE svg PUBLIC \"-//W3C//DTD SVG 1.1//EN\"\n  \"http://www.w3.org/Graphics/SVG/1.1/DTD/svg11.dtd\">\n<!-- Created with matplotlib (https://matplotlib.org/) -->\n<svg height=\"150.995937pt\" version=\"1.1\" viewBox=\"0 0 718.467188 150.995937\" width=\"718.467188pt\" xmlns=\"http://www.w3.org/2000/svg\" xmlns:xlink=\"http://www.w3.org/1999/xlink\">\n <metadata>\n  <rdf:RDF xmlns:cc=\"http://creativecommons.org/ns#\" xmlns:dc=\"http://purl.org/dc/elements/1.1/\" xmlns:rdf=\"http://www.w3.org/1999/02/22-rdf-syntax-ns#\">\n   <cc:Work>\n    <dc:type rdf:resource=\"http://purl.org/dc/dcmitype/StillImage\"/>\n    <dc:date>2020-09-17T00:57:35.618547</dc:date>\n    <dc:format>image/svg+xml</dc:format>\n    <dc:creator>\n     <cc:Agent>\n      <dc:title>Matplotlib v3.3.0, https://matplotlib.org/</dc:title>\n     </cc:Agent>\n    </dc:creator>\n   </cc:Work>\n  </rdf:RDF>\n </metadata>\n <defs>\n  <style type=\"text/css\">*{stroke-linecap:butt;stroke-linejoin:round;}</style>\n </defs>\n <g id=\"figure_1\">\n  <g id=\"patch_1\">\n   <path d=\"M 0 150.995937 \nL 718.467188 150.995937 \nL 718.467188 0 \nL 0 0 \nz\n\" style=\"fill:none;\"/>\n  </g>\n  <g id=\"axes_1\">\n   <g id=\"patch_2\">\n    <path d=\"M 41.667187 115.92 \nL 711.267187 115.92 \nL 711.267187 7.2 \nL 41.667187 7.2 \nz\n\" style=\"fill:#ffffff;\"/>\n   </g>\n   <g id=\"matplotlib.axis_1\">\n    <g id=\"xtick_1\">\n     <g id=\"line2d_1\">\n      <defs>\n       <path d=\"M 0 0 \nL 0 3.5 \n\" id=\"m9435220816\" style=\"stroke:#000000;stroke-width:0.8;\"/>\n      </defs>\n      <g>\n       <use style=\"stroke:#000000;stroke-width:0.8;\" x=\"41.667188\" xlink:href=\"#m9435220816\" y=\"115.92\"/>\n      </g>\n     </g>\n    </g>\n    <g id=\"xtick_2\">\n     <g id=\"line2d_2\">\n      <g>\n       <use style=\"stroke:#000000;stroke-width:0.8;\" x=\"57.149268\" xlink:href=\"#m9435220816\" y=\"115.92\"/>\n      </g>\n     </g>\n     <g id=\"text_1\">\n      <!-- Mar -->\n      <g transform=\"translate(47.715675 130.518438)scale(0.1 -0.1)\">\n       <defs>\n        <path d=\"M 9.8125 72.90625 \nL 24.515625 72.90625 \nL 43.109375 23.296875 \nL 61.8125 72.90625 \nL 76.515625 72.90625 \nL 76.515625 0 \nL 66.890625 0 \nL 66.890625 64.015625 \nL 48.09375 14.015625 \nL 38.1875 14.015625 \nL 19.390625 64.015625 \nL 19.390625 0 \nL 9.8125 0 \nz\n\" id=\"DejaVuSans-77\"/>\n        <path d=\"M 34.28125 27.484375 \nQ 23.390625 27.484375 19.1875 25 \nQ 14.984375 22.515625 14.984375 16.5 \nQ 14.984375 11.71875 18.140625 8.90625 \nQ 21.296875 6.109375 26.703125 6.109375 \nQ 34.1875 6.109375 38.703125 11.40625 \nQ 43.21875 16.703125 43.21875 25.484375 \nL 43.21875 27.484375 \nz\nM 52.203125 31.203125 \nL 52.203125 0 \nL 43.21875 0 \nL 43.21875 8.296875 \nQ 40.140625 3.328125 35.546875 0.953125 \nQ 30.953125 -1.421875 24.3125 -1.421875 \nQ 15.921875 -1.421875 10.953125 3.296875 \nQ 6 8.015625 6 15.921875 \nQ 6 25.140625 12.171875 29.828125 \nQ 18.359375 34.515625 30.609375 34.515625 \nL 43.21875 34.515625 \nL 43.21875 35.40625 \nQ 43.21875 41.609375 39.140625 45 \nQ 35.0625 48.390625 27.6875 48.390625 \nQ 23 48.390625 18.546875 47.265625 \nQ 14.109375 46.140625 10.015625 43.890625 \nL 10.015625 52.203125 \nQ 14.9375 54.109375 19.578125 55.046875 \nQ 24.21875 56 28.609375 56 \nQ 40.484375 56 46.34375 49.84375 \nQ 52.203125 43.703125 52.203125 31.203125 \nz\n\" id=\"DejaVuSans-97\"/>\n        <path d=\"M 41.109375 46.296875 \nQ 39.59375 47.171875 37.8125 47.578125 \nQ 36.03125 48 33.890625 48 \nQ 26.265625 48 22.1875 43.046875 \nQ 18.109375 38.09375 18.109375 28.8125 \nL 18.109375 0 \nL 9.078125 0 \nL 9.078125 54.6875 \nL 18.109375 54.6875 \nL 18.109375 46.1875 \nQ 20.953125 51.171875 25.484375 53.578125 \nQ 30.03125 56 36.53125 56 \nQ 37.453125 56 38.578125 55.875 \nQ 39.703125 55.765625 41.0625 55.515625 \nz\n\" id=\"DejaVuSans-114\"/>\n       </defs>\n       <use xlink:href=\"#DejaVuSans-77\"/>\n       <use x=\"86.279297\" xlink:href=\"#DejaVuSans-97\"/>\n       <use x=\"147.558594\" xlink:href=\"#DejaVuSans-114\"/>\n      </g>\n      <!-- 2020 -->\n      <g transform=\"translate(44.424268 141.71625)scale(0.1 -0.1)\">\n       <defs>\n        <path d=\"M 19.1875 8.296875 \nL 53.609375 8.296875 \nL 53.609375 0 \nL 7.328125 0 \nL 7.328125 8.296875 \nQ 12.9375 14.109375 22.625 23.890625 \nQ 32.328125 33.6875 34.8125 36.53125 \nQ 39.546875 41.84375 41.421875 45.53125 \nQ 43.3125 49.21875 43.3125 52.78125 \nQ 43.3125 58.59375 39.234375 62.25 \nQ 35.15625 65.921875 28.609375 65.921875 \nQ 23.96875 65.921875 18.8125 64.3125 \nQ 13.671875 62.703125 7.8125 59.421875 \nL 7.8125 69.390625 \nQ 13.765625 71.78125 18.9375 73 \nQ 24.125 74.21875 28.421875 74.21875 \nQ 39.75 74.21875 46.484375 68.546875 \nQ 53.21875 62.890625 53.21875 53.421875 \nQ 53.21875 48.921875 51.53125 44.890625 \nQ 49.859375 40.875 45.40625 35.40625 \nQ 44.1875 33.984375 37.640625 27.21875 \nQ 31.109375 20.453125 19.1875 8.296875 \nz\n\" id=\"DejaVuSans-50\"/>\n        <path d=\"M 31.78125 66.40625 \nQ 24.171875 66.40625 20.328125 58.90625 \nQ 16.5 51.421875 16.5 36.375 \nQ 16.5 21.390625 20.328125 13.890625 \nQ 24.171875 6.390625 31.78125 6.390625 \nQ 39.453125 6.390625 43.28125 13.890625 \nQ 47.125 21.390625 47.125 36.375 \nQ 47.125 51.421875 43.28125 58.90625 \nQ 39.453125 66.40625 31.78125 66.40625 \nz\nM 31.78125 74.21875 \nQ 44.046875 74.21875 50.515625 64.515625 \nQ 56.984375 54.828125 56.984375 36.375 \nQ 56.984375 17.96875 50.515625 8.265625 \nQ 44.046875 -1.421875 31.78125 -1.421875 \nQ 19.53125 -1.421875 13.0625 8.265625 \nQ 6.59375 17.96875 6.59375 36.375 \nQ 6.59375 54.828125 13.0625 64.515625 \nQ 19.53125 74.21875 31.78125 74.21875 \nz\n\" id=\"DejaVuSans-48\"/>\n       </defs>\n       <use xlink:href=\"#DejaVuSans-50\"/>\n       <use x=\"63.623047\" xlink:href=\"#DejaVuSans-48\"/>\n       <use x=\"127.246094\" xlink:href=\"#DejaVuSans-50\"/>\n       <use x=\"190.869141\" xlink:href=\"#DejaVuSans-48\"/>\n      </g>\n     </g>\n    </g>\n    <g id=\"xtick_3\">\n     <g id=\"line2d_3\">\n      <g>\n       <use style=\"stroke:#000000;stroke-width:0.8;\" x=\"177.135396\" xlink:href=\"#m9435220816\" y=\"115.92\"/>\n      </g>\n     </g>\n     <g id=\"text_2\">\n      <!-- Apr -->\n      <g transform=\"translate(168.485396 130.518438)scale(0.1 -0.1)\">\n       <defs>\n        <path d=\"M 34.1875 63.1875 \nL 20.796875 26.90625 \nL 47.609375 26.90625 \nz\nM 28.609375 72.90625 \nL 39.796875 72.90625 \nL 67.578125 0 \nL 57.328125 0 \nL 50.6875 18.703125 \nL 17.828125 18.703125 \nL 11.1875 0 \nL 0.78125 0 \nz\n\" id=\"DejaVuSans-65\"/>\n        <path d=\"M 18.109375 8.203125 \nL 18.109375 -20.796875 \nL 9.078125 -20.796875 \nL 9.078125 54.6875 \nL 18.109375 54.6875 \nL 18.109375 46.390625 \nQ 20.953125 51.265625 25.265625 53.625 \nQ 29.59375 56 35.59375 56 \nQ 45.5625 56 51.78125 48.09375 \nQ 58.015625 40.1875 58.015625 27.296875 \nQ 58.015625 14.40625 51.78125 6.484375 \nQ 45.5625 -1.421875 35.59375 -1.421875 \nQ 29.59375 -1.421875 25.265625 0.953125 \nQ 20.953125 3.328125 18.109375 8.203125 \nz\nM 48.6875 27.296875 \nQ 48.6875 37.203125 44.609375 42.84375 \nQ 40.53125 48.484375 33.40625 48.484375 \nQ 26.265625 48.484375 22.1875 42.84375 \nQ 18.109375 37.203125 18.109375 27.296875 \nQ 18.109375 17.390625 22.1875 11.75 \nQ 26.265625 6.109375 33.40625 6.109375 \nQ 40.53125 6.109375 44.609375 11.75 \nQ 48.6875 17.390625 48.6875 27.296875 \nz\n\" id=\"DejaVuSans-112\"/>\n       </defs>\n       <use xlink:href=\"#DejaVuSans-65\"/>\n       <use x=\"68.408203\" xlink:href=\"#DejaVuSans-112\"/>\n       <use x=\"131.884766\" xlink:href=\"#DejaVuSans-114\"/>\n      </g>\n     </g>\n    </g>\n    <g id=\"xtick_4\">\n     <g id=\"line2d_4\">\n      <g>\n       <use style=\"stroke:#000000;stroke-width:0.8;\" x=\"293.251003\" xlink:href=\"#m9435220816\" y=\"115.92\"/>\n      </g>\n     </g>\n     <g id=\"text_3\">\n      <!-- May -->\n      <g transform=\"translate(282.913503 130.518438)scale(0.1 -0.1)\">\n       <defs>\n        <path d=\"M 32.171875 -5.078125 \nQ 28.375 -14.84375 24.75 -17.8125 \nQ 21.140625 -20.796875 15.09375 -20.796875 \nL 7.90625 -20.796875 \nL 7.90625 -13.28125 \nL 13.1875 -13.28125 \nQ 16.890625 -13.28125 18.9375 -11.515625 \nQ 21 -9.765625 23.484375 -3.21875 \nL 25.09375 0.875 \nL 2.984375 54.6875 \nL 12.5 54.6875 \nL 29.59375 11.921875 \nL 46.6875 54.6875 \nL 56.203125 54.6875 \nz\n\" id=\"DejaVuSans-121\"/>\n       </defs>\n       <use xlink:href=\"#DejaVuSans-77\"/>\n       <use x=\"86.279297\" xlink:href=\"#DejaVuSans-97\"/>\n       <use x=\"147.558594\" xlink:href=\"#DejaVuSans-121\"/>\n      </g>\n     </g>\n    </g>\n    <g id=\"xtick_5\">\n     <g id=\"line2d_5\">\n      <g>\n       <use style=\"stroke:#000000;stroke-width:0.8;\" x=\"413.23713\" xlink:href=\"#m9435220816\" y=\"115.92\"/>\n      </g>\n     </g>\n     <g id=\"text_4\">\n      <!-- Jun -->\n      <g transform=\"translate(405.42463 130.518438)scale(0.1 -0.1)\">\n       <defs>\n        <path d=\"M 9.8125 72.90625 \nL 19.671875 72.90625 \nL 19.671875 5.078125 \nQ 19.671875 -8.109375 14.671875 -14.0625 \nQ 9.671875 -20.015625 -1.421875 -20.015625 \nL -5.171875 -20.015625 \nL -5.171875 -11.71875 \nL -2.09375 -11.71875 \nQ 4.4375 -11.71875 7.125 -8.046875 \nQ 9.8125 -4.390625 9.8125 5.078125 \nz\n\" id=\"DejaVuSans-74\"/>\n        <path d=\"M 8.5 21.578125 \nL 8.5 54.6875 \nL 17.484375 54.6875 \nL 17.484375 21.921875 \nQ 17.484375 14.15625 20.5 10.265625 \nQ 23.53125 6.390625 29.59375 6.390625 \nQ 36.859375 6.390625 41.078125 11.03125 \nQ 45.3125 15.671875 45.3125 23.6875 \nL 45.3125 54.6875 \nL 54.296875 54.6875 \nL 54.296875 0 \nL 45.3125 0 \nL 45.3125 8.40625 \nQ 42.046875 3.421875 37.71875 1 \nQ 33.40625 -1.421875 27.6875 -1.421875 \nQ 18.265625 -1.421875 13.375 4.4375 \nQ 8.5 10.296875 8.5 21.578125 \nz\nM 31.109375 56 \nz\n\" id=\"DejaVuSans-117\"/>\n        <path d=\"M 54.890625 33.015625 \nL 54.890625 0 \nL 45.90625 0 \nL 45.90625 32.71875 \nQ 45.90625 40.484375 42.875 44.328125 \nQ 39.84375 48.1875 33.796875 48.1875 \nQ 26.515625 48.1875 22.3125 43.546875 \nQ 18.109375 38.921875 18.109375 30.90625 \nL 18.109375 0 \nL 9.078125 0 \nL 9.078125 54.6875 \nL 18.109375 54.6875 \nL 18.109375 46.1875 \nQ 21.34375 51.125 25.703125 53.5625 \nQ 30.078125 56 35.796875 56 \nQ 45.21875 56 50.046875 50.171875 \nQ 54.890625 44.34375 54.890625 33.015625 \nz\n\" id=\"DejaVuSans-110\"/>\n       </defs>\n       <use xlink:href=\"#DejaVuSans-74\"/>\n       <use x=\"29.492188\" xlink:href=\"#DejaVuSans-117\"/>\n       <use x=\"92.871094\" xlink:href=\"#DejaVuSans-110\"/>\n      </g>\n     </g>\n    </g>\n    <g id=\"xtick_6\">\n     <g id=\"line2d_6\">\n      <g>\n       <use style=\"stroke:#000000;stroke-width:0.8;\" x=\"529.352737\" xlink:href=\"#m9435220816\" y=\"115.92\"/>\n      </g>\n     </g>\n     <g id=\"text_5\">\n      <!-- Jul -->\n      <g transform=\"translate(523.319924 130.518438)scale(0.1 -0.1)\">\n       <defs>\n        <path d=\"M 9.421875 75.984375 \nL 18.40625 75.984375 \nL 18.40625 0 \nL 9.421875 0 \nz\n\" id=\"DejaVuSans-108\"/>\n       </defs>\n       <use xlink:href=\"#DejaVuSans-74\"/>\n       <use x=\"29.492188\" xlink:href=\"#DejaVuSans-117\"/>\n       <use x=\"92.871094\" xlink:href=\"#DejaVuSans-108\"/>\n      </g>\n     </g>\n    </g>\n    <g id=\"xtick_7\">\n     <g id=\"line2d_7\">\n      <g>\n       <use style=\"stroke:#000000;stroke-width:0.8;\" x=\"649.338864\" xlink:href=\"#m9435220816\" y=\"115.92\"/>\n      </g>\n     </g>\n     <g id=\"text_6\">\n      <!-- Aug -->\n      <g transform=\"translate(639.575583 130.518438)scale(0.1 -0.1)\">\n       <defs>\n        <path d=\"M 45.40625 27.984375 \nQ 45.40625 37.75 41.375 43.109375 \nQ 37.359375 48.484375 30.078125 48.484375 \nQ 22.859375 48.484375 18.828125 43.109375 \nQ 14.796875 37.75 14.796875 27.984375 \nQ 14.796875 18.265625 18.828125 12.890625 \nQ 22.859375 7.515625 30.078125 7.515625 \nQ 37.359375 7.515625 41.375 12.890625 \nQ 45.40625 18.265625 45.40625 27.984375 \nz\nM 54.390625 6.78125 \nQ 54.390625 -7.171875 48.1875 -13.984375 \nQ 42 -20.796875 29.203125 -20.796875 \nQ 24.46875 -20.796875 20.265625 -20.09375 \nQ 16.0625 -19.390625 12.109375 -17.921875 \nL 12.109375 -9.1875 \nQ 16.0625 -11.328125 19.921875 -12.34375 \nQ 23.78125 -13.375 27.78125 -13.375 \nQ 36.625 -13.375 41.015625 -8.765625 \nQ 45.40625 -4.15625 45.40625 5.171875 \nL 45.40625 9.625 \nQ 42.625 4.78125 38.28125 2.390625 \nQ 33.9375 0 27.875 0 \nQ 17.828125 0 11.671875 7.65625 \nQ 5.515625 15.328125 5.515625 27.984375 \nQ 5.515625 40.671875 11.671875 48.328125 \nQ 17.828125 56 27.875 56 \nQ 33.9375 56 38.28125 53.609375 \nQ 42.625 51.21875 45.40625 46.390625 \nL 45.40625 54.6875 \nL 54.390625 54.6875 \nz\n\" id=\"DejaVuSans-103\"/>\n       </defs>\n       <use xlink:href=\"#DejaVuSans-65\"/>\n       <use x=\"68.408203\" xlink:href=\"#DejaVuSans-117\"/>\n       <use x=\"131.787109\" xlink:href=\"#DejaVuSans-103\"/>\n      </g>\n     </g>\n    </g>\n    <g id=\"xtick_8\">\n     <g id=\"line2d_8\">\n      <g>\n       <use style=\"stroke:#000000;stroke-width:0.8;\" x=\"711.267188\" xlink:href=\"#m9435220816\" y=\"115.92\"/>\n      </g>\n     </g>\n    </g>\n    <g id=\"xtick_9\">\n     <g id=\"line2d_9\">\n      <defs>\n       <path d=\"M 0 0 \nL 0 2 \n\" id=\"m84392e3eb0\" style=\"stroke:#000000;stroke-width:0.6;\"/>\n      </defs>\n      <g>\n       <use style=\"stroke:#000000;stroke-width:0.6;\" x=\"61.019789\" xlink:href=\"#m84392e3eb0\" y=\"115.92\"/>\n      </g>\n     </g>\n    </g>\n    <g id=\"xtick_10\">\n     <g id=\"line2d_10\">\n      <g>\n       <use style=\"stroke:#000000;stroke-width:0.6;\" x=\"88.11343\" xlink:href=\"#m84392e3eb0\" y=\"115.92\"/>\n      </g>\n     </g>\n    </g>\n    <g id=\"xtick_11\">\n     <g id=\"line2d_11\">\n      <g>\n       <use style=\"stroke:#000000;stroke-width:0.6;\" x=\"115.207072\" xlink:href=\"#m84392e3eb0\" y=\"115.92\"/>\n      </g>\n     </g>\n    </g>\n    <g id=\"xtick_12\">\n     <g id=\"line2d_12\">\n      <g>\n       <use style=\"stroke:#000000;stroke-width:0.6;\" x=\"142.300714\" xlink:href=\"#m84392e3eb0\" y=\"115.92\"/>\n      </g>\n     </g>\n    </g>\n    <g id=\"xtick_13\">\n     <g id=\"line2d_13\">\n      <g>\n       <use style=\"stroke:#000000;stroke-width:0.6;\" x=\"169.394355\" xlink:href=\"#m84392e3eb0\" y=\"115.92\"/>\n      </g>\n     </g>\n    </g>\n    <g id=\"xtick_14\">\n     <g id=\"line2d_14\">\n      <g>\n       <use style=\"stroke:#000000;stroke-width:0.6;\" x=\"196.487997\" xlink:href=\"#m84392e3eb0\" y=\"115.92\"/>\n      </g>\n     </g>\n    </g>\n    <g id=\"xtick_15\">\n     <g id=\"line2d_15\">\n      <g>\n       <use style=\"stroke:#000000;stroke-width:0.6;\" x=\"223.581638\" xlink:href=\"#m84392e3eb0\" y=\"115.92\"/>\n      </g>\n     </g>\n    </g>\n    <g id=\"xtick_16\">\n     <g id=\"line2d_16\">\n      <g>\n       <use style=\"stroke:#000000;stroke-width:0.6;\" x=\"250.67528\" xlink:href=\"#m84392e3eb0\" y=\"115.92\"/>\n      </g>\n     </g>\n    </g>\n    <g id=\"xtick_17\">\n     <g id=\"line2d_17\">\n      <g>\n       <use style=\"stroke:#000000;stroke-width:0.6;\" x=\"277.768922\" xlink:href=\"#m84392e3eb0\" y=\"115.92\"/>\n      </g>\n     </g>\n    </g>\n    <g id=\"xtick_18\">\n     <g id=\"line2d_18\">\n      <g>\n       <use style=\"stroke:#000000;stroke-width:0.6;\" x=\"304.862563\" xlink:href=\"#m84392e3eb0\" y=\"115.92\"/>\n      </g>\n     </g>\n    </g>\n    <g id=\"xtick_19\">\n     <g id=\"line2d_19\">\n      <g>\n       <use style=\"stroke:#000000;stroke-width:0.6;\" x=\"331.956205\" xlink:href=\"#m84392e3eb0\" y=\"115.92\"/>\n      </g>\n     </g>\n    </g>\n    <g id=\"xtick_20\">\n     <g id=\"line2d_20\">\n      <g>\n       <use style=\"stroke:#000000;stroke-width:0.6;\" x=\"359.049846\" xlink:href=\"#m84392e3eb0\" y=\"115.92\"/>\n      </g>\n     </g>\n    </g>\n    <g id=\"xtick_21\">\n     <g id=\"line2d_21\">\n      <g>\n       <use style=\"stroke:#000000;stroke-width:0.6;\" x=\"386.143488\" xlink:href=\"#m84392e3eb0\" y=\"115.92\"/>\n      </g>\n     </g>\n    </g>\n    <g id=\"xtick_22\">\n     <g id=\"line2d_22\">\n      <g>\n       <use style=\"stroke:#000000;stroke-width:0.6;\" x=\"440.330771\" xlink:href=\"#m84392e3eb0\" y=\"115.92\"/>\n      </g>\n     </g>\n    </g>\n    <g id=\"xtick_23\">\n     <g id=\"line2d_23\">\n      <g>\n       <use style=\"stroke:#000000;stroke-width:0.6;\" x=\"467.424413\" xlink:href=\"#m84392e3eb0\" y=\"115.92\"/>\n      </g>\n     </g>\n    </g>\n    <g id=\"xtick_24\">\n     <g id=\"line2d_24\">\n      <g>\n       <use style=\"stroke:#000000;stroke-width:0.6;\" x=\"494.518055\" xlink:href=\"#m84392e3eb0\" y=\"115.92\"/>\n      </g>\n     </g>\n    </g>\n    <g id=\"xtick_25\">\n     <g id=\"line2d_25\">\n      <g>\n       <use style=\"stroke:#000000;stroke-width:0.6;\" x=\"521.611696\" xlink:href=\"#m84392e3eb0\" y=\"115.92\"/>\n      </g>\n     </g>\n    </g>\n    <g id=\"xtick_26\">\n     <g id=\"line2d_26\">\n      <g>\n       <use style=\"stroke:#000000;stroke-width:0.6;\" x=\"548.705338\" xlink:href=\"#m84392e3eb0\" y=\"115.92\"/>\n      </g>\n     </g>\n    </g>\n    <g id=\"xtick_27\">\n     <g id=\"line2d_27\">\n      <g>\n       <use style=\"stroke:#000000;stroke-width:0.6;\" x=\"575.798979\" xlink:href=\"#m84392e3eb0\" y=\"115.92\"/>\n      </g>\n     </g>\n    </g>\n    <g id=\"xtick_28\">\n     <g id=\"line2d_28\">\n      <g>\n       <use style=\"stroke:#000000;stroke-width:0.6;\" x=\"602.892621\" xlink:href=\"#m84392e3eb0\" y=\"115.92\"/>\n      </g>\n     </g>\n    </g>\n    <g id=\"xtick_29\">\n     <g id=\"line2d_29\">\n      <g>\n       <use style=\"stroke:#000000;stroke-width:0.6;\" x=\"629.986263\" xlink:href=\"#m84392e3eb0\" y=\"115.92\"/>\n      </g>\n     </g>\n    </g>\n    <g id=\"xtick_30\">\n     <g id=\"line2d_30\">\n      <g>\n       <use style=\"stroke:#000000;stroke-width:0.6;\" x=\"657.079904\" xlink:href=\"#m84392e3eb0\" y=\"115.92\"/>\n      </g>\n     </g>\n    </g>\n    <g id=\"xtick_31\">\n     <g id=\"line2d_31\">\n      <g>\n       <use style=\"stroke:#000000;stroke-width:0.6;\" x=\"684.173546\" xlink:href=\"#m84392e3eb0\" y=\"115.92\"/>\n      </g>\n     </g>\n    </g>\n   </g>\n   <g id=\"matplotlib.axis_2\">\n    <g id=\"ytick_1\">\n     <g id=\"line2d_32\">\n      <defs>\n       <path d=\"M 0 0 \nL -3.5 0 \n\" id=\"m0f17441bff\" style=\"stroke:#000000;stroke-width:0.8;\"/>\n      </defs>\n      <g>\n       <use style=\"stroke:#000000;stroke-width:0.8;\" x=\"41.667187\" xlink:href=\"#m0f17441bff\" y=\"101.924857\"/>\n      </g>\n     </g>\n     <g id=\"text_7\">\n      <!-- −100 -->\n      <g transform=\"translate(7.2 105.724076)scale(0.1 -0.1)\">\n       <defs>\n        <path d=\"M 10.59375 35.5 \nL 73.1875 35.5 \nL 73.1875 27.203125 \nL 10.59375 27.203125 \nz\n\" id=\"DejaVuSans-8722\"/>\n        <path d=\"M 12.40625 8.296875 \nL 28.515625 8.296875 \nL 28.515625 63.921875 \nL 10.984375 60.40625 \nL 10.984375 69.390625 \nL 28.421875 72.90625 \nL 38.28125 72.90625 \nL 38.28125 8.296875 \nL 54.390625 8.296875 \nL 54.390625 0 \nL 12.40625 0 \nz\n\" id=\"DejaVuSans-49\"/>\n       </defs>\n       <use xlink:href=\"#DejaVuSans-8722\"/>\n       <use x=\"83.789062\" xlink:href=\"#DejaVuSans-49\"/>\n       <use x=\"147.412109\" xlink:href=\"#DejaVuSans-48\"/>\n       <use x=\"211.035156\" xlink:href=\"#DejaVuSans-48\"/>\n      </g>\n     </g>\n    </g>\n    <g id=\"ytick_2\">\n     <g id=\"line2d_33\">\n      <g>\n       <use style=\"stroke:#000000;stroke-width:0.8;\" x=\"41.667187\" xlink:href=\"#m0f17441bff\" y=\"75.47866\"/>\n      </g>\n     </g>\n     <g id=\"text_8\">\n      <!-- −50 -->\n      <g transform=\"translate(13.5625 79.277879)scale(0.1 -0.1)\">\n       <defs>\n        <path d=\"M 10.796875 72.90625 \nL 49.515625 72.90625 \nL 49.515625 64.59375 \nL 19.828125 64.59375 \nL 19.828125 46.734375 \nQ 21.96875 47.46875 24.109375 47.828125 \nQ 26.265625 48.1875 28.421875 48.1875 \nQ 40.625 48.1875 47.75 41.5 \nQ 54.890625 34.8125 54.890625 23.390625 \nQ 54.890625 11.625 47.5625 5.09375 \nQ 40.234375 -1.421875 26.90625 -1.421875 \nQ 22.3125 -1.421875 17.546875 -0.640625 \nQ 12.796875 0.140625 7.71875 1.703125 \nL 7.71875 11.625 \nQ 12.109375 9.234375 16.796875 8.0625 \nQ 21.484375 6.890625 26.703125 6.890625 \nQ 35.15625 6.890625 40.078125 11.328125 \nQ 45.015625 15.765625 45.015625 23.390625 \nQ 45.015625 31 40.078125 35.4375 \nQ 35.15625 39.890625 26.703125 39.890625 \nQ 22.75 39.890625 18.8125 39.015625 \nQ 14.890625 38.140625 10.796875 36.28125 \nz\n\" id=\"DejaVuSans-53\"/>\n       </defs>\n       <use xlink:href=\"#DejaVuSans-8722\"/>\n       <use x=\"83.789062\" xlink:href=\"#DejaVuSans-53\"/>\n       <use x=\"147.412109\" xlink:href=\"#DejaVuSans-48\"/>\n      </g>\n     </g>\n    </g>\n    <g id=\"ytick_3\">\n     <g id=\"line2d_34\">\n      <g>\n       <use style=\"stroke:#000000;stroke-width:0.8;\" x=\"41.667187\" xlink:href=\"#m0f17441bff\" y=\"49.032464\"/>\n      </g>\n     </g>\n     <g id=\"text_9\">\n      <!-- 0 -->\n      <g transform=\"translate(28.304687 52.831682)scale(0.1 -0.1)\">\n       <use xlink:href=\"#DejaVuSans-48\"/>\n      </g>\n     </g>\n    </g>\n    <g id=\"ytick_4\">\n     <g id=\"line2d_35\">\n      <g>\n       <use style=\"stroke:#000000;stroke-width:0.8;\" x=\"41.667187\" xlink:href=\"#m0f17441bff\" y=\"22.586267\"/>\n      </g>\n     </g>\n     <g id=\"text_10\">\n      <!-- 50 -->\n      <g transform=\"translate(21.942187 26.385486)scale(0.1 -0.1)\">\n       <use xlink:href=\"#DejaVuSans-53\"/>\n       <use x=\"63.623047\" xlink:href=\"#DejaVuSans-48\"/>\n      </g>\n     </g>\n    </g>\n   </g>\n   <g id=\"line2d_36\">\n    <path clip-path=\"url(#p37f9c5117d)\" d=\"M 41.667188 26.595924 \nL 45.537708 20.365326 \nL 53.278748 43.439633 \nL 57.149268 97.865276 \nL 61.019789 110.978182 \nL 64.890309 12.141818 \nL 68.760829 26.595924 \nL 72.631349 20.365326 \nL 80.37239 43.439633 \nL 84.24291 97.865276 \nL 88.11343 110.978182 \nL 91.983951 12.141818 \nL 95.854471 26.595924 \nL 99.724991 20.365326 \nL 107.466031 43.439633 \nL 111.336552 97.865276 \nL 115.207072 110.978182 \nL 119.077592 12.141818 \nL 122.948112 26.595924 \nL 126.818633 20.365326 \nL 134.559673 43.439633 \nL 138.430193 97.865276 \nL 142.300714 110.978182 \nL 146.171234 12.141818 \nL 150.041754 26.595924 \nL 153.912274 20.365326 \nL 161.653315 43.439633 \nL 165.523835 97.865276 \nL 169.394355 110.978182 \nL 173.264875 12.141818 \nL 177.135396 26.595924 \nL 181.005916 20.365326 \nL 188.746956 43.439633 \nL 192.617477 97.865276 \nL 196.487997 110.978182 \nL 200.358517 12.141818 \nL 204.229037 26.595924 \nL 208.099557 20.365326 \nL 215.840598 43.439633 \nL 219.711118 97.865276 \nL 223.581638 110.978182 \nL 227.452159 12.141818 \nL 231.322679 26.595924 \nL 235.193199 20.365326 \nL 242.93424 43.439633 \nL 246.80476 97.865276 \nL 250.67528 110.978182 \nL 254.5458 12.141818 \nL 258.41632 26.595924 \nL 262.286841 20.365326 \nL 270.027881 43.439633 \nL 273.898401 97.865276 \nL 277.768922 110.978182 \nL 281.639442 12.141818 \nL 285.509962 26.595924 \nL 289.380482 20.365326 \nL 297.121523 43.439633 \nL 300.992043 97.865276 \nL 304.862563 110.978182 \nL 308.733083 12.141818 \nL 312.603604 26.595924 \nL 316.474124 20.365326 \nL 324.215164 43.439633 \nL 328.085685 97.865276 \nL 331.956205 110.978182 \nL 335.826725 12.141818 \nL 339.697245 26.595924 \nL 343.567766 20.365326 \nL 351.308806 43.439633 \nL 355.179326 97.865276 \nL 359.049846 110.978182 \nL 362.920367 12.141818 \nL 366.790887 26.595924 \nL 370.661407 20.365326 \nL 378.402448 43.439633 \nL 382.272968 97.865276 \nL 386.143488 110.978182 \nL 390.014008 12.141818 \nL 393.884529 26.595924 \nL 397.755049 20.365326 \nL 405.496089 43.439633 \nL 409.366609 97.865276 \nL 413.23713 110.978182 \nL 417.10765 12.141818 \nL 420.97817 26.595924 \nL 424.84869 20.365326 \nL 432.589731 43.439633 \nL 436.460251 97.865276 \nL 440.330771 110.978182 \nL 444.201292 12.141818 \nL 448.071812 26.595924 \nL 451.942332 20.365326 \nL 459.683372 43.439633 \nL 463.553893 97.865276 \nL 467.424413 110.978182 \nL 471.294933 12.141818 \nL 475.165453 26.595924 \nL 479.035974 20.365326 \nL 486.777014 43.439633 \nL 490.647534 97.865276 \nL 494.518055 110.978182 \nL 498.388575 12.141818 \nL 502.259095 26.595924 \nL 506.129615 20.365326 \nL 513.870656 43.439633 \nL 517.741176 97.865276 \nL 521.611696 110.978182 \nL 525.482216 12.141818 \nL 529.352737 26.595924 \nL 533.223257 20.365326 \nL 540.964297 43.439633 \nL 544.834818 97.865276 \nL 548.705338 110.978182 \nL 552.575858 12.141818 \nL 556.446378 26.595924 \nL 560.316898 20.365326 \nL 568.057939 43.439633 \nL 571.928459 97.865276 \nL 575.798979 110.978182 \nL 579.6695 12.141818 \nL 583.54002 26.595924 \nL 587.41054 20.365326 \nL 595.151581 43.439633 \nL 599.022101 97.865276 \nL 602.892621 110.978182 \nL 606.763141 12.141818 \nL 610.633661 26.595924 \nL 614.504182 20.365326 \nL 622.245222 43.439633 \nL 626.115742 97.865276 \nL 629.986263 110.978182 \nL 633.856783 12.141818 \nL 637.727303 26.595924 \nL 641.597823 20.365326 \nL 649.338864 43.439633 \nL 653.209384 97.865276 \nL 657.079904 110.978182 \nL 660.950424 12.141818 \nL 664.820945 26.595924 \nL 668.691465 20.365326 \nL 676.432505 43.439633 \nL 680.303026 97.865276 \nL 684.173546 110.978182 \nL 688.044066 12.141818 \nL 691.914586 26.595924 \nL 695.785107 20.365326 \nL 703.526147 43.439633 \nL 707.396667 97.865276 \nL 711.267188 110.978182 \nL 711.267188 110.978182 \n\" style=\"fill:none;stroke:#1f77b4;stroke-linecap:square;stroke-width:1.5;\"/>\n   </g>\n   <g id=\"patch_3\">\n    <path d=\"M 41.667187 115.92 \nL 41.667187 7.2 \n\" style=\"fill:none;stroke:#000000;stroke-linecap:square;stroke-linejoin:miter;stroke-width:0.8;\"/>\n   </g>\n   <g id=\"patch_4\">\n    <path d=\"M 711.267187 115.92 \nL 711.267187 7.2 \n\" style=\"fill:none;stroke:#000000;stroke-linecap:square;stroke-linejoin:miter;stroke-width:0.8;\"/>\n   </g>\n   <g id=\"patch_5\">\n    <path d=\"M 41.667188 115.92 \nL 711.267188 115.92 \n\" style=\"fill:none;stroke:#000000;stroke-linecap:square;stroke-linejoin:miter;stroke-width:0.8;\"/>\n   </g>\n   <g id=\"patch_6\">\n    <path d=\"M 41.667188 7.2 \nL 711.267188 7.2 \n\" style=\"fill:none;stroke:#000000;stroke-linecap:square;stroke-linejoin:miter;stroke-width:0.8;\"/>\n   </g>\n  </g>\n </g>\n <defs>\n  <clipPath id=\"p37f9c5117d\">\n   <rect height=\"108.72\" width=\"669.6\" x=\"41.667187\" y=\"7.2\"/>\n  </clipPath>\n </defs>\n</svg>\n",
      "image/png": "[encoded data removed]"
     },
     "metadata": {
      "needs_background": "light"
     }
    }
   ],
   "source": [
    "results.seasonal.plot(figsize=(12,2));"
   ]
  },
  {
   "cell_type": "code",
   "execution_count": 11,
   "metadata": {},
   "outputs": [
    {
     "output_type": "display_data",
     "data": {
      "text/plain": "<Figure size 864x144 with 1 Axes>",
      "image/svg+xml": "<?xml version=\"1.0\" encoding=\"utf-8\" standalone=\"no\"?>\n<!DOCTYPE svg PUBLIC \"-//W3C//DTD SVG 1.1//EN\"\n  \"http://www.w3.org/Graphics/SVG/1.1/DTD/svg11.dtd\">\n<!-- Created with matplotlib (https://matplotlib.org/) -->\n<svg height=\"150.995937pt\" version=\"1.1\" viewBox=\"0 0 718.467188 150.995937\" width=\"718.467188pt\" xmlns=\"http://www.w3.org/2000/svg\" xmlns:xlink=\"http://www.w3.org/1999/xlink\">\n <metadata>\n  <rdf:RDF xmlns:cc=\"http://creativecommons.org/ns#\" xmlns:dc=\"http://purl.org/dc/elements/1.1/\" xmlns:rdf=\"http://www.w3.org/1999/02/22-rdf-syntax-ns#\">\n   <cc:Work>\n    <dc:type rdf:resource=\"http://purl.org/dc/dcmitype/StillImage\"/>\n    <dc:date>2020-09-17T00:57:41.563834</dc:date>\n    <dc:format>image/svg+xml</dc:format>\n    <dc:creator>\n     <cc:Agent>\n      <dc:title>Matplotlib v3.3.0, https://matplotlib.org/</dc:title>\n     </cc:Agent>\n    </dc:creator>\n   </cc:Work>\n  </rdf:RDF>\n </metadata>\n <defs>\n  <style type=\"text/css\">*{stroke-linecap:butt;stroke-linejoin:round;}</style>\n </defs>\n <g id=\"figure_1\">\n  <g id=\"patch_1\">\n   <path d=\"M 0 150.995937 \nL 718.467188 150.995937 \nL 718.467188 0 \nL 0 0 \nz\n\" style=\"fill:none;\"/>\n  </g>\n  <g id=\"axes_1\">\n   <g id=\"patch_2\">\n    <path d=\"M 41.667187 115.92 \nL 711.267187 115.92 \nL 711.267187 7.2 \nL 41.667187 7.2 \nz\n\" style=\"fill:#ffffff;\"/>\n   </g>\n   <g id=\"matplotlib.axis_1\">\n    <g id=\"xtick_1\">\n     <g id=\"line2d_1\">\n      <defs>\n       <path d=\"M 0 0 \nL 0 3.5 \n\" id=\"m6697987955\" style=\"stroke:#000000;stroke-width:0.8;\"/>\n      </defs>\n      <g>\n       <use style=\"stroke:#000000;stroke-width:0.8;\" x=\"41.667188\" xlink:href=\"#m6697987955\" y=\"115.92\"/>\n      </g>\n     </g>\n    </g>\n    <g id=\"xtick_2\">\n     <g id=\"line2d_2\">\n      <g>\n       <use style=\"stroke:#000000;stroke-width:0.8;\" x=\"57.149268\" xlink:href=\"#m6697987955\" y=\"115.92\"/>\n      </g>\n     </g>\n     <g id=\"text_1\">\n      <!-- Mar -->\n      <g transform=\"translate(47.715675 130.518438)scale(0.1 -0.1)\">\n       <defs>\n        <path d=\"M 9.8125 72.90625 \nL 24.515625 72.90625 \nL 43.109375 23.296875 \nL 61.8125 72.90625 \nL 76.515625 72.90625 \nL 76.515625 0 \nL 66.890625 0 \nL 66.890625 64.015625 \nL 48.09375 14.015625 \nL 38.1875 14.015625 \nL 19.390625 64.015625 \nL 19.390625 0 \nL 9.8125 0 \nz\n\" id=\"DejaVuSans-77\"/>\n        <path d=\"M 34.28125 27.484375 \nQ 23.390625 27.484375 19.1875 25 \nQ 14.984375 22.515625 14.984375 16.5 \nQ 14.984375 11.71875 18.140625 8.90625 \nQ 21.296875 6.109375 26.703125 6.109375 \nQ 34.1875 6.109375 38.703125 11.40625 \nQ 43.21875 16.703125 43.21875 25.484375 \nL 43.21875 27.484375 \nz\nM 52.203125 31.203125 \nL 52.203125 0 \nL 43.21875 0 \nL 43.21875 8.296875 \nQ 40.140625 3.328125 35.546875 0.953125 \nQ 30.953125 -1.421875 24.3125 -1.421875 \nQ 15.921875 -1.421875 10.953125 3.296875 \nQ 6 8.015625 6 15.921875 \nQ 6 25.140625 12.171875 29.828125 \nQ 18.359375 34.515625 30.609375 34.515625 \nL 43.21875 34.515625 \nL 43.21875 35.40625 \nQ 43.21875 41.609375 39.140625 45 \nQ 35.0625 48.390625 27.6875 48.390625 \nQ 23 48.390625 18.546875 47.265625 \nQ 14.109375 46.140625 10.015625 43.890625 \nL 10.015625 52.203125 \nQ 14.9375 54.109375 19.578125 55.046875 \nQ 24.21875 56 28.609375 56 \nQ 40.484375 56 46.34375 49.84375 \nQ 52.203125 43.703125 52.203125 31.203125 \nz\n\" id=\"DejaVuSans-97\"/>\n        <path d=\"M 41.109375 46.296875 \nQ 39.59375 47.171875 37.8125 47.578125 \nQ 36.03125 48 33.890625 48 \nQ 26.265625 48 22.1875 43.046875 \nQ 18.109375 38.09375 18.109375 28.8125 \nL 18.109375 0 \nL 9.078125 0 \nL 9.078125 54.6875 \nL 18.109375 54.6875 \nL 18.109375 46.1875 \nQ 20.953125 51.171875 25.484375 53.578125 \nQ 30.03125 56 36.53125 56 \nQ 37.453125 56 38.578125 55.875 \nQ 39.703125 55.765625 41.0625 55.515625 \nz\n\" id=\"DejaVuSans-114\"/>\n       </defs>\n       <use xlink:href=\"#DejaVuSans-77\"/>\n       <use x=\"86.279297\" xlink:href=\"#DejaVuSans-97\"/>\n       <use x=\"147.558594\" xlink:href=\"#DejaVuSans-114\"/>\n      </g>\n      <!-- 2020 -->\n      <g transform=\"translate(44.424268 141.71625)scale(0.1 -0.1)\">\n       <defs>\n        <path d=\"M 19.1875 8.296875 \nL 53.609375 8.296875 \nL 53.609375 0 \nL 7.328125 0 \nL 7.328125 8.296875 \nQ 12.9375 14.109375 22.625 23.890625 \nQ 32.328125 33.6875 34.8125 36.53125 \nQ 39.546875 41.84375 41.421875 45.53125 \nQ 43.3125 49.21875 43.3125 52.78125 \nQ 43.3125 58.59375 39.234375 62.25 \nQ 35.15625 65.921875 28.609375 65.921875 \nQ 23.96875 65.921875 18.8125 64.3125 \nQ 13.671875 62.703125 7.8125 59.421875 \nL 7.8125 69.390625 \nQ 13.765625 71.78125 18.9375 73 \nQ 24.125 74.21875 28.421875 74.21875 \nQ 39.75 74.21875 46.484375 68.546875 \nQ 53.21875 62.890625 53.21875 53.421875 \nQ 53.21875 48.921875 51.53125 44.890625 \nQ 49.859375 40.875 45.40625 35.40625 \nQ 44.1875 33.984375 37.640625 27.21875 \nQ 31.109375 20.453125 19.1875 8.296875 \nz\n\" id=\"DejaVuSans-50\"/>\n        <path d=\"M 31.78125 66.40625 \nQ 24.171875 66.40625 20.328125 58.90625 \nQ 16.5 51.421875 16.5 36.375 \nQ 16.5 21.390625 20.328125 13.890625 \nQ 24.171875 6.390625 31.78125 6.390625 \nQ 39.453125 6.390625 43.28125 13.890625 \nQ 47.125 21.390625 47.125 36.375 \nQ 47.125 51.421875 43.28125 58.90625 \nQ 39.453125 66.40625 31.78125 66.40625 \nz\nM 31.78125 74.21875 \nQ 44.046875 74.21875 50.515625 64.515625 \nQ 56.984375 54.828125 56.984375 36.375 \nQ 56.984375 17.96875 50.515625 8.265625 \nQ 44.046875 -1.421875 31.78125 -1.421875 \nQ 19.53125 -1.421875 13.0625 8.265625 \nQ 6.59375 17.96875 6.59375 36.375 \nQ 6.59375 54.828125 13.0625 64.515625 \nQ 19.53125 74.21875 31.78125 74.21875 \nz\n\" id=\"DejaVuSans-48\"/>\n       </defs>\n       <use xlink:href=\"#DejaVuSans-50\"/>\n       <use x=\"63.623047\" xlink:href=\"#DejaVuSans-48\"/>\n       <use x=\"127.246094\" xlink:href=\"#DejaVuSans-50\"/>\n       <use x=\"190.869141\" xlink:href=\"#DejaVuSans-48\"/>\n      </g>\n     </g>\n    </g>\n    <g id=\"xtick_3\">\n     <g id=\"line2d_3\">\n      <g>\n       <use style=\"stroke:#000000;stroke-width:0.8;\" x=\"177.135396\" xlink:href=\"#m6697987955\" y=\"115.92\"/>\n      </g>\n     </g>\n     <g id=\"text_2\">\n      <!-- Apr -->\n      <g transform=\"translate(168.485396 130.518438)scale(0.1 -0.1)\">\n       <defs>\n        <path d=\"M 34.1875 63.1875 \nL 20.796875 26.90625 \nL 47.609375 26.90625 \nz\nM 28.609375 72.90625 \nL 39.796875 72.90625 \nL 67.578125 0 \nL 57.328125 0 \nL 50.6875 18.703125 \nL 17.828125 18.703125 \nL 11.1875 0 \nL 0.78125 0 \nz\n\" id=\"DejaVuSans-65\"/>\n        <path d=\"M 18.109375 8.203125 \nL 18.109375 -20.796875 \nL 9.078125 -20.796875 \nL 9.078125 54.6875 \nL 18.109375 54.6875 \nL 18.109375 46.390625 \nQ 20.953125 51.265625 25.265625 53.625 \nQ 29.59375 56 35.59375 56 \nQ 45.5625 56 51.78125 48.09375 \nQ 58.015625 40.1875 58.015625 27.296875 \nQ 58.015625 14.40625 51.78125 6.484375 \nQ 45.5625 -1.421875 35.59375 -1.421875 \nQ 29.59375 -1.421875 25.265625 0.953125 \nQ 20.953125 3.328125 18.109375 8.203125 \nz\nM 48.6875 27.296875 \nQ 48.6875 37.203125 44.609375 42.84375 \nQ 40.53125 48.484375 33.40625 48.484375 \nQ 26.265625 48.484375 22.1875 42.84375 \nQ 18.109375 37.203125 18.109375 27.296875 \nQ 18.109375 17.390625 22.1875 11.75 \nQ 26.265625 6.109375 33.40625 6.109375 \nQ 40.53125 6.109375 44.609375 11.75 \nQ 48.6875 17.390625 48.6875 27.296875 \nz\n\" id=\"DejaVuSans-112\"/>\n       </defs>\n       <use xlink:href=\"#DejaVuSans-65\"/>\n       <use x=\"68.408203\" xlink:href=\"#DejaVuSans-112\"/>\n       <use x=\"131.884766\" xlink:href=\"#DejaVuSans-114\"/>\n      </g>\n     </g>\n    </g>\n    <g id=\"xtick_4\">\n     <g id=\"line2d_4\">\n      <g>\n       <use style=\"stroke:#000000;stroke-width:0.8;\" x=\"293.251003\" xlink:href=\"#m6697987955\" y=\"115.92\"/>\n      </g>\n     </g>\n     <g id=\"text_3\">\n      <!-- May -->\n      <g transform=\"translate(282.913503 130.518438)scale(0.1 -0.1)\">\n       <defs>\n        <path d=\"M 32.171875 -5.078125 \nQ 28.375 -14.84375 24.75 -17.8125 \nQ 21.140625 -20.796875 15.09375 -20.796875 \nL 7.90625 -20.796875 \nL 7.90625 -13.28125 \nL 13.1875 -13.28125 \nQ 16.890625 -13.28125 18.9375 -11.515625 \nQ 21 -9.765625 23.484375 -3.21875 \nL 25.09375 0.875 \nL 2.984375 54.6875 \nL 12.5 54.6875 \nL 29.59375 11.921875 \nL 46.6875 54.6875 \nL 56.203125 54.6875 \nz\n\" id=\"DejaVuSans-121\"/>\n       </defs>\n       <use xlink:href=\"#DejaVuSans-77\"/>\n       <use x=\"86.279297\" xlink:href=\"#DejaVuSans-97\"/>\n       <use x=\"147.558594\" xlink:href=\"#DejaVuSans-121\"/>\n      </g>\n     </g>\n    </g>\n    <g id=\"xtick_5\">\n     <g id=\"line2d_5\">\n      <g>\n       <use style=\"stroke:#000000;stroke-width:0.8;\" x=\"413.23713\" xlink:href=\"#m6697987955\" y=\"115.92\"/>\n      </g>\n     </g>\n     <g id=\"text_4\">\n      <!-- Jun -->\n      <g transform=\"translate(405.42463 130.518438)scale(0.1 -0.1)\">\n       <defs>\n        <path d=\"M 9.8125 72.90625 \nL 19.671875 72.90625 \nL 19.671875 5.078125 \nQ 19.671875 -8.109375 14.671875 -14.0625 \nQ 9.671875 -20.015625 -1.421875 -20.015625 \nL -5.171875 -20.015625 \nL -5.171875 -11.71875 \nL -2.09375 -11.71875 \nQ 4.4375 -11.71875 7.125 -8.046875 \nQ 9.8125 -4.390625 9.8125 5.078125 \nz\n\" id=\"DejaVuSans-74\"/>\n        <path d=\"M 8.5 21.578125 \nL 8.5 54.6875 \nL 17.484375 54.6875 \nL 17.484375 21.921875 \nQ 17.484375 14.15625 20.5 10.265625 \nQ 23.53125 6.390625 29.59375 6.390625 \nQ 36.859375 6.390625 41.078125 11.03125 \nQ 45.3125 15.671875 45.3125 23.6875 \nL 45.3125 54.6875 \nL 54.296875 54.6875 \nL 54.296875 0 \nL 45.3125 0 \nL 45.3125 8.40625 \nQ 42.046875 3.421875 37.71875 1 \nQ 33.40625 -1.421875 27.6875 -1.421875 \nQ 18.265625 -1.421875 13.375 4.4375 \nQ 8.5 10.296875 8.5 21.578125 \nz\nM 31.109375 56 \nz\n\" id=\"DejaVuSans-117\"/>\n        <path d=\"M 54.890625 33.015625 \nL 54.890625 0 \nL 45.90625 0 \nL 45.90625 32.71875 \nQ 45.90625 40.484375 42.875 44.328125 \nQ 39.84375 48.1875 33.796875 48.1875 \nQ 26.515625 48.1875 22.3125 43.546875 \nQ 18.109375 38.921875 18.109375 30.90625 \nL 18.109375 0 \nL 9.078125 0 \nL 9.078125 54.6875 \nL 18.109375 54.6875 \nL 18.109375 46.1875 \nQ 21.34375 51.125 25.703125 53.5625 \nQ 30.078125 56 35.796875 56 \nQ 45.21875 56 50.046875 50.171875 \nQ 54.890625 44.34375 54.890625 33.015625 \nz\n\" id=\"DejaVuSans-110\"/>\n       </defs>\n       <use xlink:href=\"#DejaVuSans-74\"/>\n       <use x=\"29.492188\" xlink:href=\"#DejaVuSans-117\"/>\n       <use x=\"92.871094\" xlink:href=\"#DejaVuSans-110\"/>\n      </g>\n     </g>\n    </g>\n    <g id=\"xtick_6\">\n     <g id=\"line2d_6\">\n      <g>\n       <use style=\"stroke:#000000;stroke-width:0.8;\" x=\"529.352737\" xlink:href=\"#m6697987955\" y=\"115.92\"/>\n      </g>\n     </g>\n     <g id=\"text_5\">\n      <!-- Jul -->\n      <g transform=\"translate(523.319924 130.518438)scale(0.1 -0.1)\">\n       <defs>\n        <path d=\"M 9.421875 75.984375 \nL 18.40625 75.984375 \nL 18.40625 0 \nL 9.421875 0 \nz\n\" id=\"DejaVuSans-108\"/>\n       </defs>\n       <use xlink:href=\"#DejaVuSans-74\"/>\n       <use x=\"29.492188\" xlink:href=\"#DejaVuSans-117\"/>\n       <use x=\"92.871094\" xlink:href=\"#DejaVuSans-108\"/>\n      </g>\n     </g>\n    </g>\n    <g id=\"xtick_7\">\n     <g id=\"line2d_7\">\n      <g>\n       <use style=\"stroke:#000000;stroke-width:0.8;\" x=\"649.338864\" xlink:href=\"#m6697987955\" y=\"115.92\"/>\n      </g>\n     </g>\n     <g id=\"text_6\">\n      <!-- Aug -->\n      <g transform=\"translate(639.575583 130.518438)scale(0.1 -0.1)\">\n       <defs>\n        <path d=\"M 45.40625 27.984375 \nQ 45.40625 37.75 41.375 43.109375 \nQ 37.359375 48.484375 30.078125 48.484375 \nQ 22.859375 48.484375 18.828125 43.109375 \nQ 14.796875 37.75 14.796875 27.984375 \nQ 14.796875 18.265625 18.828125 12.890625 \nQ 22.859375 7.515625 30.078125 7.515625 \nQ 37.359375 7.515625 41.375 12.890625 \nQ 45.40625 18.265625 45.40625 27.984375 \nz\nM 54.390625 6.78125 \nQ 54.390625 -7.171875 48.1875 -13.984375 \nQ 42 -20.796875 29.203125 -20.796875 \nQ 24.46875 -20.796875 20.265625 -20.09375 \nQ 16.0625 -19.390625 12.109375 -17.921875 \nL 12.109375 -9.1875 \nQ 16.0625 -11.328125 19.921875 -12.34375 \nQ 23.78125 -13.375 27.78125 -13.375 \nQ 36.625 -13.375 41.015625 -8.765625 \nQ 45.40625 -4.15625 45.40625 5.171875 \nL 45.40625 9.625 \nQ 42.625 4.78125 38.28125 2.390625 \nQ 33.9375 0 27.875 0 \nQ 17.828125 0 11.671875 7.65625 \nQ 5.515625 15.328125 5.515625 27.984375 \nQ 5.515625 40.671875 11.671875 48.328125 \nQ 17.828125 56 27.875 56 \nQ 33.9375 56 38.28125 53.609375 \nQ 42.625 51.21875 45.40625 46.390625 \nL 45.40625 54.6875 \nL 54.390625 54.6875 \nz\n\" id=\"DejaVuSans-103\"/>\n       </defs>\n       <use xlink:href=\"#DejaVuSans-65\"/>\n       <use x=\"68.408203\" xlink:href=\"#DejaVuSans-117\"/>\n       <use x=\"131.787109\" xlink:href=\"#DejaVuSans-103\"/>\n      </g>\n     </g>\n    </g>\n    <g id=\"xtick_8\">\n     <g id=\"line2d_8\">\n      <g>\n       <use style=\"stroke:#000000;stroke-width:0.8;\" x=\"711.267188\" xlink:href=\"#m6697987955\" y=\"115.92\"/>\n      </g>\n     </g>\n    </g>\n    <g id=\"xtick_9\">\n     <g id=\"line2d_9\">\n      <defs>\n       <path d=\"M 0 0 \nL 0 2 \n\" id=\"m259777d422\" style=\"stroke:#000000;stroke-width:0.6;\"/>\n      </defs>\n      <g>\n       <use style=\"stroke:#000000;stroke-width:0.6;\" x=\"61.019789\" xlink:href=\"#m259777d422\" y=\"115.92\"/>\n      </g>\n     </g>\n    </g>\n    <g id=\"xtick_10\">\n     <g id=\"line2d_10\">\n      <g>\n       <use style=\"stroke:#000000;stroke-width:0.6;\" x=\"88.11343\" xlink:href=\"#m259777d422\" y=\"115.92\"/>\n      </g>\n     </g>\n    </g>\n    <g id=\"xtick_11\">\n     <g id=\"line2d_11\">\n      <g>\n       <use style=\"stroke:#000000;stroke-width:0.6;\" x=\"115.207072\" xlink:href=\"#m259777d422\" y=\"115.92\"/>\n      </g>\n     </g>\n    </g>\n    <g id=\"xtick_12\">\n     <g id=\"line2d_12\">\n      <g>\n       <use style=\"stroke:#000000;stroke-width:0.6;\" x=\"142.300714\" xlink:href=\"#m259777d422\" y=\"115.92\"/>\n      </g>\n     </g>\n    </g>\n    <g id=\"xtick_13\">\n     <g id=\"line2d_13\">\n      <g>\n       <use style=\"stroke:#000000;stroke-width:0.6;\" x=\"169.394355\" xlink:href=\"#m259777d422\" y=\"115.92\"/>\n      </g>\n     </g>\n    </g>\n    <g id=\"xtick_14\">\n     <g id=\"line2d_14\">\n      <g>\n       <use style=\"stroke:#000000;stroke-width:0.6;\" x=\"196.487997\" xlink:href=\"#m259777d422\" y=\"115.92\"/>\n      </g>\n     </g>\n    </g>\n    <g id=\"xtick_15\">\n     <g id=\"line2d_15\">\n      <g>\n       <use style=\"stroke:#000000;stroke-width:0.6;\" x=\"223.581638\" xlink:href=\"#m259777d422\" y=\"115.92\"/>\n      </g>\n     </g>\n    </g>\n    <g id=\"xtick_16\">\n     <g id=\"line2d_16\">\n      <g>\n       <use style=\"stroke:#000000;stroke-width:0.6;\" x=\"250.67528\" xlink:href=\"#m259777d422\" y=\"115.92\"/>\n      </g>\n     </g>\n    </g>\n    <g id=\"xtick_17\">\n     <g id=\"line2d_17\">\n      <g>\n       <use style=\"stroke:#000000;stroke-width:0.6;\" x=\"277.768922\" xlink:href=\"#m259777d422\" y=\"115.92\"/>\n      </g>\n     </g>\n    </g>\n    <g id=\"xtick_18\">\n     <g id=\"line2d_18\">\n      <g>\n       <use style=\"stroke:#000000;stroke-width:0.6;\" x=\"304.862563\" xlink:href=\"#m259777d422\" y=\"115.92\"/>\n      </g>\n     </g>\n    </g>\n    <g id=\"xtick_19\">\n     <g id=\"line2d_19\">\n      <g>\n       <use style=\"stroke:#000000;stroke-width:0.6;\" x=\"331.956205\" xlink:href=\"#m259777d422\" y=\"115.92\"/>\n      </g>\n     </g>\n    </g>\n    <g id=\"xtick_20\">\n     <g id=\"line2d_20\">\n      <g>\n       <use style=\"stroke:#000000;stroke-width:0.6;\" x=\"359.049846\" xlink:href=\"#m259777d422\" y=\"115.92\"/>\n      </g>\n     </g>\n    </g>\n    <g id=\"xtick_21\">\n     <g id=\"line2d_21\">\n      <g>\n       <use style=\"stroke:#000000;stroke-width:0.6;\" x=\"386.143488\" xlink:href=\"#m259777d422\" y=\"115.92\"/>\n      </g>\n     </g>\n    </g>\n    <g id=\"xtick_22\">\n     <g id=\"line2d_22\">\n      <g>\n       <use style=\"stroke:#000000;stroke-width:0.6;\" x=\"440.330771\" xlink:href=\"#m259777d422\" y=\"115.92\"/>\n      </g>\n     </g>\n    </g>\n    <g id=\"xtick_23\">\n     <g id=\"line2d_23\">\n      <g>\n       <use style=\"stroke:#000000;stroke-width:0.6;\" x=\"467.424413\" xlink:href=\"#m259777d422\" y=\"115.92\"/>\n      </g>\n     </g>\n    </g>\n    <g id=\"xtick_24\">\n     <g id=\"line2d_24\">\n      <g>\n       <use style=\"stroke:#000000;stroke-width:0.6;\" x=\"494.518055\" xlink:href=\"#m259777d422\" y=\"115.92\"/>\n      </g>\n     </g>\n    </g>\n    <g id=\"xtick_25\">\n     <g id=\"line2d_25\">\n      <g>\n       <use style=\"stroke:#000000;stroke-width:0.6;\" x=\"521.611696\" xlink:href=\"#m259777d422\" y=\"115.92\"/>\n      </g>\n     </g>\n    </g>\n    <g id=\"xtick_26\">\n     <g id=\"line2d_26\">\n      <g>\n       <use style=\"stroke:#000000;stroke-width:0.6;\" x=\"548.705338\" xlink:href=\"#m259777d422\" y=\"115.92\"/>\n      </g>\n     </g>\n    </g>\n    <g id=\"xtick_27\">\n     <g id=\"line2d_27\">\n      <g>\n       <use style=\"stroke:#000000;stroke-width:0.6;\" x=\"575.798979\" xlink:href=\"#m259777d422\" y=\"115.92\"/>\n      </g>\n     </g>\n    </g>\n    <g id=\"xtick_28\">\n     <g id=\"line2d_28\">\n      <g>\n       <use style=\"stroke:#000000;stroke-width:0.6;\" x=\"602.892621\" xlink:href=\"#m259777d422\" y=\"115.92\"/>\n      </g>\n     </g>\n    </g>\n    <g id=\"xtick_29\">\n     <g id=\"line2d_29\">\n      <g>\n       <use style=\"stroke:#000000;stroke-width:0.6;\" x=\"629.986263\" xlink:href=\"#m259777d422\" y=\"115.92\"/>\n      </g>\n     </g>\n    </g>\n    <g id=\"xtick_30\">\n     <g id=\"line2d_30\">\n      <g>\n       <use style=\"stroke:#000000;stroke-width:0.6;\" x=\"657.079904\" xlink:href=\"#m259777d422\" y=\"115.92\"/>\n      </g>\n     </g>\n    </g>\n    <g id=\"xtick_31\">\n     <g id=\"line2d_31\">\n      <g>\n       <use style=\"stroke:#000000;stroke-width:0.6;\" x=\"684.173546\" xlink:href=\"#m259777d422\" y=\"115.92\"/>\n      </g>\n     </g>\n    </g>\n   </g>\n   <g id=\"matplotlib.axis_2\">\n    <g id=\"ytick_1\">\n     <g id=\"line2d_32\">\n      <defs>\n       <path d=\"M 0 0 \nL -3.5 0 \n\" id=\"m43c63506bb\" style=\"stroke:#000000;stroke-width:0.8;\"/>\n      </defs>\n      <g>\n       <use style=\"stroke:#000000;stroke-width:0.8;\" x=\"41.667187\" xlink:href=\"#m43c63506bb\" y=\"105.827277\"/>\n      </g>\n     </g>\n     <g id=\"text_7\">\n      <!-- −100 -->\n      <g transform=\"translate(7.2 109.626495)scale(0.1 -0.1)\">\n       <defs>\n        <path d=\"M 10.59375 35.5 \nL 73.1875 35.5 \nL 73.1875 27.203125 \nL 10.59375 27.203125 \nz\n\" id=\"DejaVuSans-8722\"/>\n        <path d=\"M 12.40625 8.296875 \nL 28.515625 8.296875 \nL 28.515625 63.921875 \nL 10.984375 60.40625 \nL 10.984375 69.390625 \nL 28.421875 72.90625 \nL 38.28125 72.90625 \nL 38.28125 8.296875 \nL 54.390625 8.296875 \nL 54.390625 0 \nL 12.40625 0 \nz\n\" id=\"DejaVuSans-49\"/>\n       </defs>\n       <use xlink:href=\"#DejaVuSans-8722\"/>\n       <use x=\"83.789062\" xlink:href=\"#DejaVuSans-49\"/>\n       <use x=\"147.412109\" xlink:href=\"#DejaVuSans-48\"/>\n       <use x=\"211.035156\" xlink:href=\"#DejaVuSans-48\"/>\n      </g>\n     </g>\n    </g>\n    <g id=\"ytick_2\">\n     <g id=\"line2d_33\">\n      <g>\n       <use style=\"stroke:#000000;stroke-width:0.8;\" x=\"41.667187\" xlink:href=\"#m43c63506bb\" y=\"68.726374\"/>\n      </g>\n     </g>\n     <g id=\"text_8\">\n      <!-- 0 -->\n      <g transform=\"translate(28.304687 72.525593)scale(0.1 -0.1)\">\n       <use xlink:href=\"#DejaVuSans-48\"/>\n      </g>\n     </g>\n    </g>\n    <g id=\"ytick_3\">\n     <g id=\"line2d_34\">\n      <g>\n       <use style=\"stroke:#000000;stroke-width:0.8;\" x=\"41.667187\" xlink:href=\"#m43c63506bb\" y=\"31.625471\"/>\n      </g>\n     </g>\n     <g id=\"text_9\">\n      <!-- 100 -->\n      <g transform=\"translate(15.579687 35.42469)scale(0.1 -0.1)\">\n       <use xlink:href=\"#DejaVuSans-49\"/>\n       <use x=\"63.623047\" xlink:href=\"#DejaVuSans-48\"/>\n       <use x=\"127.246094\" xlink:href=\"#DejaVuSans-48\"/>\n      </g>\n     </g>\n    </g>\n   </g>\n   <g id=\"line2d_35\">\n    <path clip-path=\"url(#p8cbe9215e1)\" d=\"M 53.278748 72.649416 \nL 57.149268 34.473028 \nL 61.019789 25.275096 \nL 64.890309 94.602992 \nL 68.760829 84.464287 \nL 72.631349 88.834685 \nL 80.37239 72.649416 \nL 84.24291 34.473028 \nL 88.11343 25.275096 \nL 91.983951 94.602992 \nL 95.854471 84.464287 \nL 99.724991 88.834685 \nL 107.466031 72.702417 \nL 111.336552 34.632032 \nL 115.207072 25.540103 \nL 119.077592 94.708994 \nL 122.948112 84.517288 \nL 126.818633 89.258695 \nL 134.559673 72.490412 \nL 138.430193 34.261023 \nL 142.300714 25.116092 \nL 146.171234 94.019977 \nL 150.041754 85.153303 \nL 153.912274 89.152692 \nL 157.782794 81.47413 \nL 161.653315 71.801395 \nL 165.523835 35.427052 \nL 169.394355 26.600128 \nL 173.264875 94.072979 \nL 177.135396 83.404261 \nL 181.005916 89.311696 \nL 184.876436 79.40708 \nL 188.746956 69.893349 \nL 192.617477 42.900233 \nL 196.487997 30.840232 \nL 200.358517 86.758801 \nL 204.229037 79.217159 \nL 208.099557 80.195474 \nL 211.970078 80.573109 \nL 215.840598 82.401653 \nL 219.711118 42.635227 \nL 223.581638 36.776376 \nL 227.452159 82.889707 \nL 231.322679 76.514093 \nL 235.193199 83.640558 \nL 239.063719 75.69699 \nL 242.93424 70.37036 \nL 246.80476 44.437271 \nL 250.67528 43.189532 \nL 254.5458 104.779239 \nL 258.41632 105.081788 \nL 262.286841 46.857663 \nL 266.157361 60.591622 \nL 270.027881 65.812249 \nL 273.898401 81.220166 \nL 277.768922 33.490296 \nL 281.639442 64.445258 \nL 285.509962 59.712684 \nL 289.380482 90.477725 \nL 293.251003 74.265955 \nL 297.121523 87.330773 \nL 300.992043 61.556687 \nL 304.862563 59.301924 \nL 308.733083 69.48038 \nL 312.603604 66.655853 \nL 316.474124 86.449627 \nL 320.344644 60.591622 \nL 324.215164 59.611098 \nL 328.085685 53.8715 \nL 331.956205 71.43922 \nL 335.826725 75.681531 \nL 339.697245 79.005154 \nL 343.567766 72.61629 \nL 347.438286 69.018827 \nL 351.308806 66.766273 \nL 355.179326 65.584785 \nL 359.049846 75.944329 \nL 362.920367 41.813707 \nL 366.790887 76.249087 \nL 370.661407 89.682705 \nL 374.531927 75.060974 \nL 378.402448 39.364606 \nL 382.272968 62.192703 \nL 386.143488 79.495416 \nL 390.014008 98.896096 \nL 393.884529 56.055595 \nL 397.755049 66.362138 \nL 401.625569 48.030317 \nL 405.496089 60.565122 \nL 409.366609 86.573296 \nL 413.23713 89.777666 \nL 417.10765 56.33606 \nL 420.97817 60.719709 \nL 424.84869 64.189085 \nL 428.719211 57.146538 \nL 432.589731 73.497436 \nL 436.460251 86.255288 \nL 440.330771 93.275751 \nL 444.201292 51.565944 \nL 448.071812 39.042181 \nL 451.942332 65.938127 \nL 455.812852 81.739137 \nL 459.683372 78.956569 \nL 463.553893 80.478148 \nL 467.424413 88.346631 \nL 471.294933 57.9791 \nL 475.165453 41.533242 \nL 479.035974 68.641193 \nL 482.906494 36.529037 \nL 486.777014 78.055547 \nL 490.647534 96.643541 \nL 494.518055 109.600148 \nL 498.388575 25.48931 \nL 502.259095 72.857004 \nL 506.129615 30.586267 \nL 510.000135 97.48052 \nL 513.870656 52.29692 \nL 517.741176 95.583516 \nL 521.611696 87.392608 \nL 525.482216 50.770925 \nL 529.352737 77.256111 \nL 533.223257 61.963031 \nL 537.093777 45.539256 \nL 540.964297 51.342897 \nL 544.834818 97.226555 \nL 548.705338 98.15187 \nL 552.575858 60.735167 \nL 556.446378 58.758661 \nL 560.316898 60.213988 \nL 564.187419 54.549475 \nL 568.057939 74.186453 \nL 571.928459 78.464099 \nL 575.798979 105.14804 \nL 579.6695 42.449722 \nL 583.54002 70.312942 \nL 587.41054 41.027521 \nL 591.28106 54.708479 \nL 595.151581 70.37036 \nL 599.022101 103.215701 \nL 602.892621 102.868984 \nL 606.763141 49.445893 \nL 610.633661 49.642439 \nL 614.504182 53.853833 \nL 618.374702 65.096732 \nL 622.245222 57.332043 \nL 626.115742 99.87662 \nL 629.986263 95.554806 \nL 633.856783 47.431844 \nL 637.727303 53.140524 \nL 641.597823 60.425993 \nL 645.468344 63.824701 \nL 649.338864 71.059377 \nL 653.209384 95.583516 \nL 657.079904 99.582905 \nL 660.950424 61.689191 \nL 664.820945 27.805908 \nL 668.691465 58.305942 \nL 672.561985 68.965826 \nL 676.432505 67.455289 \nL 680.303026 91.396414 \nL 684.173546 110.978182 \nL 688.044066 38.315622 \nL 691.914586 67.397871 \nL 695.785107 12.141818 \nL 699.655627 66.209759 \nL 699.655627 66.209759 \n\" style=\"fill:none;stroke:#1f77b4;stroke-linecap:square;stroke-width:1.5;\"/>\n   </g>\n   <g id=\"patch_3\">\n    <path d=\"M 41.667187 115.92 \nL 41.667187 7.2 \n\" style=\"fill:none;stroke:#000000;stroke-linecap:square;stroke-linejoin:miter;stroke-width:0.8;\"/>\n   </g>\n   <g id=\"patch_4\">\n    <path d=\"M 711.267187 115.92 \nL 711.267187 7.2 \n\" style=\"fill:none;stroke:#000000;stroke-linecap:square;stroke-linejoin:miter;stroke-width:0.8;\"/>\n   </g>\n   <g id=\"patch_5\">\n    <path d=\"M 41.667188 115.92 \nL 711.267188 115.92 \n\" style=\"fill:none;stroke:#000000;stroke-linecap:square;stroke-linejoin:miter;stroke-width:0.8;\"/>\n   </g>\n   <g id=\"patch_6\">\n    <path d=\"M 41.667188 7.2 \nL 711.267188 7.2 \n\" style=\"fill:none;stroke:#000000;stroke-linecap:square;stroke-linejoin:miter;stroke-width:0.8;\"/>\n   </g>\n  </g>\n </g>\n <defs>\n  <clipPath id=\"p8cbe9215e1\">\n   <rect height=\"108.72\" width=\"669.6\" x=\"41.667187\" y=\"7.2\"/>\n  </clipPath>\n </defs>\n</svg>\n",
      "image/png": "[encoded data removed]"
     },
     "metadata": {
      "needs_background": "light"
     }
    }
   ],
   "source": [
    "results.resid.plot(figsize=(12,2));"
   ]
  },
  {
   "cell_type": "markdown",
   "metadata": {},
   "source": [
    "## Divida a base em treino e teste"
   ]
  },
  {
   "cell_type": "code",
   "execution_count": 12,
   "metadata": {},
   "outputs": [
    {
     "output_type": "execute_result",
     "data": {
      "text/plain": "153"
     },
     "metadata": {},
     "execution_count": 12
    }
   ],
   "source": [
    "len(df)-21\n"
   ]
  },
  {
   "cell_type": "code",
   "execution_count": 13,
   "metadata": {},
   "outputs": [],
   "source": [
    "train = df.iloc[:153]\n",
    "test = df.iloc[153:]"
   ]
  },
  {
   "cell_type": "code",
   "execution_count": 14,
   "metadata": {},
   "outputs": [
    {
     "output_type": "execute_result",
     "data": {
      "text/plain": "            deaths\n2020-02-26     0.0\n2020-02-27     0.0\n2020-02-28     0.0\n2020-02-29     0.0\n2020-03-01     0.0\n...            ...\n2020-07-23   362.0\n2020-07-24   312.0\n2020-07-25   311.0\n2020-07-26    89.0\n2020-07-27    70.0\n\n[153 rows x 1 columns]",
      "text/html": "<div>\n<style scoped>\n    .dataframe tbody tr th:only-of-type {\n        vertical-align: middle;\n    }\n\n    .dataframe tbody tr th {\n        vertical-align: top;\n    }\n\n    .dataframe thead th {\n        text-align: right;\n    }\n</style>\n<table border=\"1\" class=\"dataframe\">\n  <thead>\n    <tr style=\"text-align: right;\">\n      <th></th>\n      <th>deaths</th>\n    </tr>\n  </thead>\n  <tbody>\n    <tr>\n      <th>2020-02-26</th>\n      <td>0.0</td>\n    </tr>\n    <tr>\n      <th>2020-02-27</th>\n      <td>0.0</td>\n    </tr>\n    <tr>\n      <th>2020-02-28</th>\n      <td>0.0</td>\n    </tr>\n    <tr>\n      <th>2020-02-29</th>\n      <td>0.0</td>\n    </tr>\n    <tr>\n      <th>2020-03-01</th>\n      <td>0.0</td>\n    </tr>\n    <tr>\n      <th>...</th>\n      <td>...</td>\n    </tr>\n    <tr>\n      <th>2020-07-23</th>\n      <td>362.0</td>\n    </tr>\n    <tr>\n      <th>2020-07-24</th>\n      <td>312.0</td>\n    </tr>\n    <tr>\n      <th>2020-07-25</th>\n      <td>311.0</td>\n    </tr>\n    <tr>\n      <th>2020-07-26</th>\n      <td>89.0</td>\n    </tr>\n    <tr>\n      <th>2020-07-27</th>\n      <td>70.0</td>\n    </tr>\n  </tbody>\n</table>\n<p>153 rows × 1 columns</p>\n</div>"
     },
     "metadata": {},
     "execution_count": 14
    }
   ],
   "source": [
    "train"
   ]
  },
  {
   "cell_type": "markdown",
   "metadata": {},
   "source": [
    "## Importante: Os dados precisam estar padronizados"
   ]
  },
  {
   "cell_type": "code",
   "execution_count": 15,
   "metadata": {},
   "outputs": [],
   "source": [
    "from sklearn.preprocessing import MinMaxScaler"
   ]
  },
  {
   "cell_type": "code",
   "execution_count": 16,
   "metadata": {},
   "outputs": [],
   "source": [
    "scaler = MinMaxScaler()"
   ]
  },
  {
   "cell_type": "code",
   "execution_count": null,
   "metadata": {},
   "outputs": [],
   "source": []
  },
  {
   "cell_type": "code",
   "execution_count": 17,
   "metadata": {},
   "outputs": [
    {
     "output_type": "execute_result",
     "data": {
      "text/plain": "MinMaxScaler()"
     },
     "metadata": {},
     "execution_count": 17
    }
   ],
   "source": [
    "scaler.fit(train)"
   ]
  },
  {
   "cell_type": "code",
   "execution_count": 18,
   "metadata": {},
   "outputs": [],
   "source": [
    "scaled_train = scaler.transform(train)\n",
    "scaled_test = scaler.transform(test)"
   ]
  },
  {
   "cell_type": "code",
   "execution_count": 19,
   "metadata": {
    "tags": []
   },
   "outputs": [
    {
     "output_type": "stream",
     "name": "stdout",
     "text": "0.0 1.0\n"
    }
   ],
   "source": [
    "print(scaled_train.min(),scaled_train.max())"
   ]
  },
  {
   "cell_type": "code",
   "execution_count": 20,
   "metadata": {
    "tags": []
   },
   "outputs": [
    {
     "output_type": "stream",
     "name": "stdout",
     "text": "0.08525345622119816 1.0483870967741935\n"
    }
   ],
   "source": [
    "print(scaled_test.min(),scaled_test.max())"
   ]
  },
  {
   "cell_type": "code",
   "execution_count": 36,
   "metadata": {},
   "outputs": [
    {
     "data": {
      "text/plain": [
       "(array([53., 23., 10.,  6., 17.,  4., 14., 15.,  7.,  4.]),\n",
       " array([0. , 0.1, 0.2, 0.3, 0.4, 0.5, 0.6, 0.7, 0.8, 0.9, 1. ]),\n",
       " <a list of 10 Patch objects>)"
      ]
     },
     "execution_count": 36,
     "metadata": {},
     "output_type": "execute_result"
    },
    {
     "data": {
      "image/png": "[encoded data removed]",
      "text/plain": [
       "<Figure size 432x288 with 1 Axes>"
      ]
     },
     "metadata": {
      "needs_background": "light"
     },
     "output_type": "display_data"
    }
   ],
   "source": [
    "plt.hist(scaled_train)"
   ]
  },
  {
   "cell_type": "markdown",
   "metadata": {},
   "source": [
    "### Gerador de séries temporais\n"
   ]
  },
  {
   "cell_type": "code",
   "execution_count": 37,
   "metadata": {},
   "outputs": [],
   "source": [
    "from keras.preprocessing.sequence import TimeseriesGenerator"
   ]
  },
  {
   "cell_type": "markdown",
   "metadata": {},
   "source": [
    "Sobre o gerador de séries temporais:\n",
    "https://www.tensorflow.org/api_docs/python/tf/keras/preprocessing/sequence/TimeseriesGenerator\n",
    "\n",
    "Utility class for generating batches of temporal data.\n",
    "\n",
    "This class takes in a sequence of data-points gathered at equal intervals, along with time series parameters such as stride, length of history, etc., to produce batches for training/validation. Arguments\n",
    "\n",
    "- data: Indexable generator (such as list or Numpy array) containing consecutive data points (timesteps). The data should be at 2D, and axis 0 is expected to be the time dimension.\n",
    "    \n",
    "- targets: Targets corresponding to timesteps in data. It should have same length as data.\n",
    "    \n",
    "- length: Length of the output sequences (in number of timesteps).\n",
    "        \n",
    "- sampling_rate: Period between successive individual timesteps within sequences. For rate r, timesteps data[i], data[i-r], ... data[i - length] are used for create a sample sequence.\n",
    "    \n",
    "- stride: Period between successive output sequences. For stride s, consecutive output samples would be centered around data[i], data[i+s], data[i+2*s], etc.\n",
    "    \n",
    "- start_index: Data points earlier than start_index will not be used in the output sequences. This is useful to reserve part of the data for test or validation.\n",
    "    \n",
    "- end_index: Data points later than end_index will not be used in the output sequences. This is useful to reserve part of the data for test or validation.\n",
    "    \n",
    "- shuffle: Whether to shuffle output samples, or instead draw them in chronological order.\n",
    "    \n",
    "- reverse: Boolean: if true, timesteps in each output sample will be in reverse chronological order.\n",
    "    \n",
    "- batch_size: Number of timeseries samples in each batch (except maybe the last one).\n",
    "    \n"
   ]
  },
  {
   "cell_type": "code",
   "execution_count": 38,
   "metadata": {},
   "outputs": [],
   "source": [
    "# defina o gerador\n",
    "n_input = 2\n",
    "n_features = 1\n",
    "generator = TimeseriesGenerator(scaled_train, scaled_train, length=n_input, batch_size=1)"
   ]
  },
  {
   "cell_type": "code",
   "execution_count": 39,
   "metadata": {},
   "outputs": [
    {
     "data": {
      "text/plain": [
       "153"
      ]
     },
     "execution_count": 39,
     "metadata": {},
     "output_type": "execute_result"
    }
   ],
   "source": [
    "len(scaled_train)"
   ]
  },
  {
   "cell_type": "code",
   "execution_count": 40,
   "metadata": {},
   "outputs": [
    {
     "data": {
      "text/plain": [
       "151"
      ]
     },
     "execution_count": 40,
     "metadata": {},
     "output_type": "execute_result"
    }
   ],
   "source": [
    "len(generator) # n_input = 2"
   ]
  },
  {
   "cell_type": "code",
   "execution_count": 41,
   "metadata": {},
   "outputs": [],
   "source": [
    "# Vamos redefinir lotes de tamanho 21 para o procedimento iterativo\n",
    "# Veja mais informações sobre o tamanho do lote http://deeplearningbook.com.br/o-efeito-do-batch-size-no-treinamento-de-redes-neurais-artificiais/\n",
    "\n",
    "n_input = 7\n",
    "generator = TimeseriesGenerator(scaled_train, scaled_train, length=n_input, batch_size=2)"
   ]
  },
  {
   "cell_type": "code",
   "execution_count": 42,
   "metadata": {},
   "outputs": [],
   "source": [
    "# Qual é a aparência do primeiro lote?\n",
    "X,y = generator[0]"
   ]
  },
  {
   "cell_type": "code",
   "execution_count": 43,
   "metadata": {},
   "outputs": [
    {
     "name": "stdout",
     "output_type": "stream",
     "text": [
      "Dado o array: \n",
      "[0. 0. 0. 0. 0. 0. 0. 0. 0. 0. 0. 0. 0. 0.]\n",
      "Previsão: \n",
      " [[0.]\n",
      " [0.]]\n"
     ]
    }
   ],
   "source": [
    "print(f'Dado o array: \\n{X.flatten()}');\n",
    "print(f'Previsão: \\n {y}');"
   ]
  },
  {
   "cell_type": "markdown",
   "metadata": {},
   "source": [
    "### Crie o modelo"
   ]
  },
  {
   "cell_type": "code",
   "execution_count": 44,
   "metadata": {},
   "outputs": [],
   "source": [
    "from keras.models import Sequential\n",
    "from keras.layers import Dense\n",
    "from keras.layers import LSTM"
   ]
  },
  {
   "cell_type": "code",
   "execution_count": 45,
   "metadata": {},
   "outputs": [],
   "source": [
    "# Defina o modelo\n",
    "model = Sequential()\n",
    "model.add(LSTM(100, activation='relu', input_shape=(n_input, n_features)))\n",
    "model.add(Dense(1))\n",
    "model.compile(optimizer='adam', loss='mse')"
   ]
  },
  {
   "cell_type": "code",
   "execution_count": 46,
   "metadata": {},
   "outputs": [
    {
     "name": "stdout",
     "output_type": "stream",
     "text": [
      "Model: \"sequential_1\"\n",
      "_________________________________________________________________\n",
      "Layer (type)                 Output Shape              Param #   \n",
      "=================================================================\n",
      "lstm (LSTM)                  (None, 100)               40800     \n",
      "_________________________________________________________________\n",
      "dense_3 (Dense)              (None, 1)                 101       \n",
      "=================================================================\n",
      "Total params: 40,901\n",
      "Trainable params: 40,901\n",
      "Non-trainable params: 0\n",
      "_________________________________________________________________\n"
     ]
    }
   ],
   "source": [
    "model.summary()"
   ]
  },
  {
   "cell_type": "code",
   "execution_count": 47,
   "metadata": {},
   "outputs": [
    {
     "name": "stdout",
     "output_type": "stream",
     "text": [
      "WARNING:tensorflow:From <ipython-input-47-5e7daf52724a>:3: Model.fit_generator (from tensorflow.python.keras.engine.training) is deprecated and will be removed in a future version.\n",
      "Instructions for updating:\n",
      "Please use Model.fit, which supports generators.\n",
      "Epoch 1/100\n",
      "73/73 [==============================] - 0s 5ms/step - loss: 0.0750\n",
      "Epoch 2/100\n",
      "73/73 [==============================] - 0s 5ms/step - loss: 0.0469\n",
      "Epoch 3/100\n",
      "73/73 [==============================] - 0s 4ms/step - loss: 0.0402\n",
      "Epoch 4/100\n",
      "73/73 [==============================] - 0s 4ms/step - loss: 0.0362\n",
      "Epoch 5/100\n",
      "73/73 [==============================] - 0s 6ms/step - loss: 0.0333\n",
      "Epoch 6/100\n",
      "73/73 [==============================] - 0s 5ms/step - loss: 0.0306\n",
      "Epoch 7/100\n",
      "73/73 [==============================] - 0s 5ms/step - loss: 0.0247\n",
      "Epoch 8/100\n",
      "73/73 [==============================] - 0s 4ms/step - loss: 0.0226\n",
      "Epoch 9/100\n",
      "73/73 [==============================] - 0s 6ms/step - loss: 0.0223\n",
      "Epoch 10/100\n",
      "73/73 [==============================] - 1s 8ms/step - loss: 0.0173\n",
      "Epoch 11/100\n",
      "73/73 [==============================] - 1s 9ms/step - loss: 0.0161\n",
      "Epoch 12/100\n",
      "73/73 [==============================] - 1s 8ms/step - loss: 0.0163\n",
      "Epoch 13/100\n",
      "73/73 [==============================] - 1s 7ms/step - loss: 0.0193\n",
      "Epoch 14/100\n",
      "73/73 [==============================] - 0s 6ms/step - loss: 0.0141\n",
      "Epoch 15/100\n",
      "73/73 [==============================] - 0s 6ms/step - loss: 0.0133\n",
      "Epoch 16/100\n",
      "73/73 [==============================] - 1s 9ms/step - loss: 0.0137\n",
      "Epoch 17/100\n",
      "73/73 [==============================] - 1s 8ms/step - loss: 0.0134\n",
      "Epoch 18/100\n",
      "73/73 [==============================] - 1s 8ms/step - loss: 0.0149\n",
      "Epoch 19/100\n",
      "73/73 [==============================] - 0s 5ms/step - loss: 0.0123\n",
      "Epoch 20/100\n",
      "73/73 [==============================] - 1s 7ms/step - loss: 0.0123\n",
      "Epoch 21/100\n",
      "73/73 [==============================] - 0s 5ms/step - loss: 0.0111\n",
      "Epoch 22/100\n",
      "73/73 [==============================] - 0s 6ms/step - loss: 0.0137\n",
      "Epoch 23/100\n",
      "73/73 [==============================] - 0s 5ms/step - loss: 0.0126\n",
      "Epoch 24/100\n",
      "73/73 [==============================] - 0s 5ms/step - loss: 0.0113\n",
      "Epoch 25/100\n",
      "73/73 [==============================] - 1s 7ms/step - loss: 0.0152\n",
      "Epoch 26/100\n",
      "73/73 [==============================] - 0s 6ms/step - loss: 0.0140\n",
      "Epoch 27/100\n",
      "73/73 [==============================] - 0s 5ms/step - loss: 0.0124\n",
      "Epoch 28/100\n",
      "73/73 [==============================] - 0s 5ms/step - loss: 0.0128\n",
      "Epoch 29/100\n",
      "73/73 [==============================] - 0s 5ms/step - loss: 0.0105\n",
      "Epoch 30/100\n",
      "73/73 [==============================] - 1s 7ms/step - loss: 0.0111\n",
      "Epoch 31/100\n",
      "73/73 [==============================] - 0s 6ms/step - loss: 0.0103\n",
      "Epoch 32/100\n",
      "73/73 [==============================] - 0s 6ms/step - loss: 0.0110\n",
      "Epoch 33/100\n",
      "73/73 [==============================] - 0s 5ms/step - loss: 0.0108\n",
      "Epoch 34/100\n",
      "73/73 [==============================] - 0s 6ms/step - loss: 0.0116\n",
      "Epoch 35/100\n",
      "73/73 [==============================] - 0s 5ms/step - loss: 0.0131\n",
      "Epoch 36/100\n",
      "73/73 [==============================] - 0s 5ms/step - loss: 0.0105\n",
      "Epoch 37/100\n",
      "73/73 [==============================] - 0s 4ms/step - loss: 0.0109\n",
      "Epoch 38/100\n",
      "73/73 [==============================] - 0s 4ms/step - loss: 0.0104\n",
      "Epoch 39/100\n",
      "73/73 [==============================] - 0s 4ms/step - loss: 0.0117\n",
      "Epoch 40/100\n",
      "73/73 [==============================] - 0s 4ms/step - loss: 0.0109\n",
      "Epoch 41/100\n",
      "73/73 [==============================] - 0s 4ms/step - loss: 0.0106\n",
      "Epoch 42/100\n",
      "73/73 [==============================] - 0s 4ms/step - loss: 0.0108\n",
      "Epoch 43/100\n",
      "73/73 [==============================] - 0s 5ms/step - loss: 0.0103\n",
      "Epoch 44/100\n",
      "73/73 [==============================] - 0s 5ms/step - loss: 0.0110\n",
      "Epoch 45/100\n",
      "73/73 [==============================] - 0s 5ms/step - loss: 0.0099\n",
      "Epoch 46/100\n",
      "73/73 [==============================] - 0s 4ms/step - loss: 0.0104\n",
      "Epoch 47/100\n",
      "73/73 [==============================] - 0s 4ms/step - loss: 0.0104\n",
      "Epoch 48/100\n",
      "73/73 [==============================] - 0s 4ms/step - loss: 0.0100\n",
      "Epoch 49/100\n",
      "73/73 [==============================] - 0s 5ms/step - loss: 0.0114\n",
      "Epoch 50/100\n",
      "73/73 [==============================] - 0s 4ms/step - loss: 0.0094\n",
      "Epoch 51/100\n",
      "73/73 [==============================] - 0s 6ms/step - loss: 0.0103\n",
      "Epoch 52/100\n",
      "73/73 [==============================] - 1s 8ms/step - loss: 0.0103\n",
      "Epoch 53/100\n",
      "73/73 [==============================] - 0s 4ms/step - loss: 0.0094\n",
      "Epoch 54/100\n",
      "73/73 [==============================] - 0s 5ms/step - loss: 0.0100\n",
      "Epoch 55/100\n",
      "73/73 [==============================] - 0s 4ms/step - loss: 0.0091\n",
      "Epoch 56/100\n",
      "73/73 [==============================] - 0s 5ms/step - loss: 0.0096\n",
      "Epoch 57/100\n",
      "73/73 [==============================] - 0s 6ms/step - loss: 0.0089\n",
      "Epoch 58/100\n",
      "73/73 [==============================] - 0s 5ms/step - loss: 0.0090\n",
      "Epoch 59/100\n",
      "73/73 [==============================] - 0s 4ms/step - loss: 0.0101\n",
      "Epoch 60/100\n",
      "73/73 [==============================] - 0s 6ms/step - loss: 0.0089\n",
      "Epoch 61/100\n",
      "73/73 [==============================] - 0s 5ms/step - loss: 0.0097\n",
      "Epoch 62/100\n",
      "73/73 [==============================] - 0s 5ms/step - loss: 0.0094\n",
      "Epoch 63/100\n",
      "73/73 [==============================] - 0s 5ms/step - loss: 0.0093\n",
      "Epoch 64/100\n",
      "73/73 [==============================] - 0s 5ms/step - loss: 0.0089\n",
      "Epoch 65/100\n",
      "73/73 [==============================] - 0s 4ms/step - loss: 0.0090\n",
      "Epoch 66/100\n",
      "73/73 [==============================] - 0s 4ms/step - loss: 0.0089\n",
      "Epoch 67/100\n",
      "73/73 [==============================] - 0s 4ms/step - loss: 0.0093\n",
      "Epoch 68/100\n",
      "73/73 [==============================] - 0s 5ms/step - loss: 0.0085\n",
      "Epoch 69/100\n",
      "73/73 [==============================] - 0s 5ms/step - loss: 0.0086\n",
      "Epoch 70/100\n",
      "73/73 [==============================] - 0s 5ms/step - loss: 0.0082\n",
      "Epoch 71/100\n",
      "73/73 [==============================] - 0s 5ms/step - loss: 0.0083\n",
      "Epoch 72/100\n",
      "73/73 [==============================] - 0s 5ms/step - loss: 0.0091\n",
      "Epoch 73/100\n",
      "73/73 [==============================] - 0s 5ms/step - loss: 0.0093\n",
      "Epoch 74/100\n",
      "73/73 [==============================] - 0s 4ms/step - loss: 0.0096\n",
      "Epoch 75/100\n",
      "73/73 [==============================] - 0s 4ms/step - loss: 0.0093\n",
      "Epoch 76/100\n",
      "73/73 [==============================] - 0s 4ms/step - loss: 0.0094\n",
      "Epoch 77/100\n",
      "73/73 [==============================] - 0s 4ms/step - loss: 0.0085\n",
      "Epoch 78/100\n",
      "73/73 [==============================] - 0s 5ms/step - loss: 0.0094\n",
      "Epoch 79/100\n",
      "73/73 [==============================] - 0s 5ms/step - loss: 0.0087\n",
      "Epoch 80/100\n",
      "73/73 [==============================] - 0s 6ms/step - loss: 0.0084\n",
      "Epoch 81/100\n",
      "73/73 [==============================] - 0s 5ms/step - loss: 0.0074\n",
      "Epoch 82/100\n",
      "73/73 [==============================] - 0s 5ms/step - loss: 0.0080\n",
      "Epoch 83/100\n",
      "73/73 [==============================] - 0s 5ms/step - loss: 0.0084\n",
      "Epoch 84/100\n",
      "73/73 [==============================] - 0s 5ms/step - loss: 0.0079\n",
      "Epoch 85/100\n",
      "73/73 [==============================] - 0s 4ms/step - loss: 0.0084\n",
      "Epoch 86/100\n",
      "73/73 [==============================] - 0s 4ms/step - loss: 0.0078\n",
      "Epoch 87/100\n",
      "73/73 [==============================] - 0s 6ms/step - loss: 0.0094\n",
      "Epoch 88/100\n",
      "73/73 [==============================] - 0s 5ms/step - loss: 0.0081\n",
      "Epoch 89/100\n",
      "73/73 [==============================] - 0s 6ms/step - loss: 0.0079\n",
      "Epoch 90/100\n",
      "73/73 [==============================] - 0s 4ms/step - loss: 0.0078\n",
      "Epoch 91/100\n",
      "73/73 [==============================] - 0s 5ms/step - loss: 0.0078\n",
      "Epoch 92/100\n",
      "73/73 [==============================] - 0s 5ms/step - loss: 0.0077\n",
      "Epoch 93/100\n",
      "73/73 [==============================] - 0s 5ms/step - loss: 0.0073\n",
      "Epoch 94/100\n",
      "73/73 [==============================] - 0s 4ms/step - loss: 0.0094\n",
      "Epoch 95/100\n",
      "73/73 [==============================] - 0s 5ms/step - loss: 0.0078\n",
      "Epoch 96/100\n",
      "73/73 [==============================] - 0s 4ms/step - loss: 0.0081\n",
      "Epoch 97/100\n",
      "73/73 [==============================] - 0s 4ms/step - loss: 0.0075\n",
      "Epoch 98/100\n",
      "73/73 [==============================] - 0s 4ms/step - loss: 0.0082\n",
      "Epoch 99/100\n"
     ]
    },
    {
     "name": "stdout",
     "output_type": "stream",
     "text": [
      "73/73 [==============================] - 0s 5ms/step - loss: 0.0085\n",
      "Epoch 100/100\n",
      "73/73 [==============================] - 0s 5ms/step - loss: 0.0084\n"
     ]
    },
    {
     "data": {
      "text/plain": [
       "<tensorflow.python.keras.callbacks.History at 0x7f3d952a78d0>"
      ]
     },
     "execution_count": 47,
     "metadata": {},
     "output_type": "execute_result"
    }
   ],
   "source": [
    "# Ajuste do modelo\n",
    "\n",
    "model.fit_generator(generator,epochs=100)"
   ]
  },
  {
   "cell_type": "code",
   "execution_count": 48,
   "metadata": {},
   "outputs": [
    {
     "data": {
      "text/plain": [
       "dict_keys(['loss'])"
      ]
     },
     "execution_count": 48,
     "metadata": {},
     "output_type": "execute_result"
    }
   ],
   "source": [
    "model.history.history.keys()"
   ]
  },
  {
   "cell_type": "code",
   "execution_count": 49,
   "metadata": {},
   "outputs": [
    {
     "data": {
      "text/plain": [
       "[<matplotlib.lines.Line2D at 0x7f3d952909d0>]"
      ]
     },
     "execution_count": 49,
     "metadata": {},
     "output_type": "execute_result"
    },
    {
     "data": {
      "image/png": "[encoded data removed]",
      "text/plain": [
       "<Figure size 432x288 with 1 Axes>"
      ]
     },
     "metadata": {
      "needs_background": "light"
     },
     "output_type": "display_data"
    }
   ],
   "source": [
    "loss_per_epoch = model.history.history['loss']\n",
    "plt.plot(range(len(loss_per_epoch)),loss_per_epoch)"
   ]
  },
  {
   "cell_type": "markdown",
   "metadata": {},
   "source": [
    "## Avalie em dados de teste"
   ]
  },
  {
   "cell_type": "code",
   "execution_count": 50,
   "metadata": {},
   "outputs": [],
   "source": [
    "# Vejamos passo a passo como é feita a previsão, a princípio para a próxima observação usando o tamanho do lote igual a 7\n",
    "\n",
    "first_eval_batch = scaled_train[-7:]"
   ]
  },
  {
   "cell_type": "code",
   "execution_count": 51,
   "metadata": {},
   "outputs": [
    {
     "data": {
      "text/plain": [
       "array([[0.88248848],\n",
       "       [0.83179724],\n",
       "       [0.83410138],\n",
       "       [0.71889401],\n",
       "       [0.71658986],\n",
       "       [0.20506912],\n",
       "       [0.16129032]])"
      ]
     },
     "execution_count": 51,
     "metadata": {},
     "output_type": "execute_result"
    }
   ],
   "source": [
    "first_eval_batch"
   ]
  },
  {
   "cell_type": "code",
   "execution_count": 52,
   "metadata": {},
   "outputs": [],
   "source": [
    "first_eval_batch = first_eval_batch.reshape((1, n_input, n_features))"
   ]
  },
  {
   "cell_type": "code",
   "execution_count": 53,
   "metadata": {},
   "outputs": [
    {
     "data": {
      "text/plain": [
       "array([[0.8230552]], dtype=float32)"
      ]
     },
     "execution_count": 53,
     "metadata": {},
     "output_type": "execute_result"
    }
   ],
   "source": [
    "model.predict(first_eval_batch)"
   ]
  },
  {
   "cell_type": "code",
   "execution_count": 54,
   "metadata": {},
   "outputs": [
    {
     "data": {
      "text/plain": [
       "array([0.88248848])"
      ]
     },
     "execution_count": 54,
     "metadata": {},
     "output_type": "execute_result"
    }
   ],
   "source": [
    "scaled_test[0]"
   ]
  },
  {
   "cell_type": "code",
   "execution_count": 55,
   "metadata": {},
   "outputs": [],
   "source": [
    "test_predictions = []\n",
    "\n",
    "first_eval_batch = scaled_train[-n_input:]\n",
    "current_batch = first_eval_batch.reshape((1, n_input, n_features))"
   ]
  },
  {
   "cell_type": "code",
   "execution_count": 56,
   "metadata": {},
   "outputs": [
    {
     "data": {
      "text/plain": [
       "(1, 7, 1)"
      ]
     },
     "execution_count": 56,
     "metadata": {},
     "output_type": "execute_result"
    }
   ],
   "source": [
    "current_batch.shape"
   ]
  },
  {
   "cell_type": "code",
   "execution_count": 57,
   "metadata": {},
   "outputs": [
    {
     "data": {
      "text/plain": [
       "array([[[0.88248848],\n",
       "        [0.83179724],\n",
       "        [0.83410138],\n",
       "        [0.71889401],\n",
       "        [0.71658986],\n",
       "        [0.20506912],\n",
       "        [0.16129032]]])"
      ]
     },
     "execution_count": 57,
     "metadata": {},
     "output_type": "execute_result"
    }
   ],
   "source": [
    "current_batch"
   ]
  },
  {
   "cell_type": "code",
   "execution_count": 58,
   "metadata": {},
   "outputs": [
    {
     "data": {
      "text/plain": [
       "array([[[ 0.83179724],\n",
       "        [ 0.83410138],\n",
       "        [ 0.71889401],\n",
       "        [ 0.71658986],\n",
       "        [ 0.20506912],\n",
       "        [ 0.16129032],\n",
       "        [99.        ]]])"
      ]
     },
     "execution_count": 58,
     "metadata": {},
     "output_type": "execute_result"
    }
   ],
   "source": [
    "np.append(current_batch[:,1:,:],[[[99]]],axis=1)"
   ]
  },
  {
   "cell_type": "code",
   "execution_count": 59,
   "metadata": {},
   "outputs": [],
   "source": [
    "# Agora vamos considerar as previsões para as próximas 21 observações e comparar com a base de teste\n",
    "\n",
    "test_predictions = []\n",
    "\n",
    "first_eval_batch = scaled_train[-n_input:]\n",
    "current_batch = first_eval_batch.reshape((1, n_input, n_features))\n",
    "\n",
    "for i in range(len(test)):\n",
    "    \n",
    "    # obter a previsão de tempo 1 antecipadamente ([0] é para pegar apenas o número em vez de [array])\n",
    "    current_pred = model.predict(current_batch)[0]\n",
    "    \n",
    "    # predição\n",
    "    test_predictions.append(current_pred) \n",
    "    \n",
    "    # atualize a rodada para agora incluir a previsão e descartar o primeiro valor\n",
    "    current_batch = np.append(current_batch[:,1:,:],[[current_pred]],axis=1)"
   ]
  },
  {
   "cell_type": "code",
   "execution_count": 60,
   "metadata": {},
   "outputs": [
    {
     "data": {
      "text/plain": [
       "[array([0.8230552], dtype=float32),\n",
       " array([0.7286295], dtype=float32),\n",
       " array([0.6954801], dtype=float32),\n",
       " array([0.6390744], dtype=float32),\n",
       " array([0.5796727], dtype=float32),\n",
       " array([0.20879461], dtype=float32),\n",
       " array([0.11702674], dtype=float32),\n",
       " array([0.7281073], dtype=float32),\n",
       " array([0.6496978], dtype=float32),\n",
       " array([0.6248898], dtype=float32),\n",
       " array([0.56916684], dtype=float32),\n",
       " array([0.5275231], dtype=float32),\n",
       " array([0.21944857], dtype=float32),\n",
       " array([0.13783383], dtype=float32),\n",
       " array([0.6657333], dtype=float32),\n",
       " array([0.60702676], dtype=float32),\n",
       " array([0.5841852], dtype=float32),\n",
       " array([0.54176027], dtype=float32),\n",
       " array([0.5069395], dtype=float32),\n",
       " array([0.21534875], dtype=float32),\n",
       " array([0.1375435], dtype=float32)]"
      ]
     },
     "execution_count": 60,
     "metadata": {},
     "output_type": "execute_result"
    }
   ],
   "source": [
    "test_predictions"
   ]
  },
  {
   "cell_type": "code",
   "execution_count": 61,
   "metadata": {},
   "outputs": [
    {
     "data": {
      "text/plain": [
       "array([[0.88248848],\n",
       "       [0.76036866],\n",
       "       [0.73963134],\n",
       "       [0.66129032],\n",
       "       [0.55069124],\n",
       "       [0.18663594],\n",
       "       [0.11059908],\n",
       "       [0.7764977 ],\n",
       "       [0.93778802],\n",
       "       [0.78110599],\n",
       "       [0.66129032],\n",
       "       [0.64746544],\n",
       "       [0.22580645],\n",
       "       [0.08525346],\n",
       "       [0.96774194],\n",
       "       [0.68663594],\n",
       "       [1.0483871 ],\n",
       "       [0.66589862],\n",
       "       [0.38479263],\n",
       "       [0.16589862],\n",
       "       [0.10829493]])"
      ]
     },
     "execution_count": 61,
     "metadata": {},
     "output_type": "execute_result"
    }
   ],
   "source": [
    "scaled_test"
   ]
  },
  {
   "cell_type": "markdown",
   "metadata": {},
   "source": [
    "## Retorno da padronização e comparação"
   ]
  },
  {
   "cell_type": "code",
   "execution_count": 62,
   "metadata": {},
   "outputs": [],
   "source": [
    "true_predictions = scaler.inverse_transform(test_predictions)"
   ]
  },
  {
   "cell_type": "code",
   "execution_count": 63,
   "metadata": {},
   "outputs": [
    {
     "data": {
      "text/plain": [
       "array([[357.20596015],\n",
       "       [316.22521579],\n",
       "       [301.83836699],\n",
       "       [277.35828316],\n",
       "       [251.57794929],\n",
       "       [ 90.61686018],\n",
       "       [ 50.78960465],\n",
       "       [315.99855673],\n",
       "       [281.96883678],\n",
       "       [271.2021693 ],\n",
       "       [247.01840818],\n",
       "       [228.94502556],\n",
       "       [ 95.24067783],\n",
       "       [ 59.81988382],\n",
       "       [288.92824256],\n",
       "       [263.44961202],\n",
       "       [253.53636944],\n",
       "       [235.12395537],\n",
       "       [220.01173031],\n",
       "       [ 93.46135765],\n",
       "       [ 59.69387877]])"
      ]
     },
     "execution_count": 63,
     "metadata": {},
     "output_type": "execute_result"
    }
   ],
   "source": [
    "true_predictions"
   ]
  },
  {
   "cell_type": "code",
   "execution_count": 64,
   "metadata": {},
   "outputs": [
    {
     "name": "stderr",
     "output_type": "stream",
     "text": [
      "/home/cibele/anaconda3/lib/python3.7/site-packages/ipykernel_launcher.py:2: SettingWithCopyWarning: \n",
      "A value is trying to be set on a copy of a slice from a DataFrame.\n",
      "Try using .loc[row_indexer,col_indexer] = value instead\n",
      "\n",
      "See the caveats in the documentation: https://pandas.pydata.org/pandas-docs/stable/user_guide/indexing.html#returning-a-view-versus-a-copy\n",
      "  \n"
     ]
    }
   ],
   "source": [
    "# Possivelmente encontraremos warnings aqui\n",
    "test['Predictions'] = true_predictions"
   ]
  },
  {
   "cell_type": "code",
   "execution_count": 65,
   "metadata": {},
   "outputs": [
    {
     "data": {
      "text/html": [
       "<div>\n",
       "<style scoped>\n",
       "    .dataframe tbody tr th:only-of-type {\n",
       "        vertical-align: middle;\n",
       "    }\n",
       "\n",
       "    .dataframe tbody tr th {\n",
       "        vertical-align: top;\n",
       "    }\n",
       "\n",
       "    .dataframe thead th {\n",
       "        text-align: right;\n",
       "    }\n",
       "</style>\n",
       "<table border=\"1\" class=\"dataframe\">\n",
       "  <thead>\n",
       "    <tr style=\"text-align: right;\">\n",
       "      <th></th>\n",
       "      <th>deaths</th>\n",
       "      <th>Predictions</th>\n",
       "    </tr>\n",
       "  </thead>\n",
       "  <tbody>\n",
       "    <tr>\n",
       "      <th>2020-07-28</th>\n",
       "      <td>383.0</td>\n",
       "      <td>357.205960</td>\n",
       "    </tr>\n",
       "    <tr>\n",
       "      <th>2020-07-29</th>\n",
       "      <td>330.0</td>\n",
       "      <td>316.225216</td>\n",
       "    </tr>\n",
       "    <tr>\n",
       "      <th>2020-07-30</th>\n",
       "      <td>321.0</td>\n",
       "      <td>301.838367</td>\n",
       "    </tr>\n",
       "    <tr>\n",
       "      <th>2020-07-31</th>\n",
       "      <td>287.0</td>\n",
       "      <td>277.358283</td>\n",
       "    </tr>\n",
       "    <tr>\n",
       "      <th>2020-08-01</th>\n",
       "      <td>239.0</td>\n",
       "      <td>251.577949</td>\n",
       "    </tr>\n",
       "    <tr>\n",
       "      <th>2020-08-02</th>\n",
       "      <td>81.0</td>\n",
       "      <td>90.616860</td>\n",
       "    </tr>\n",
       "    <tr>\n",
       "      <th>2020-08-03</th>\n",
       "      <td>48.0</td>\n",
       "      <td>50.789605</td>\n",
       "    </tr>\n",
       "    <tr>\n",
       "      <th>2020-08-04</th>\n",
       "      <td>337.0</td>\n",
       "      <td>315.998557</td>\n",
       "    </tr>\n",
       "    <tr>\n",
       "      <th>2020-08-05</th>\n",
       "      <td>407.0</td>\n",
       "      <td>281.968837</td>\n",
       "    </tr>\n",
       "    <tr>\n",
       "      <th>2020-08-06</th>\n",
       "      <td>339.0</td>\n",
       "      <td>271.202169</td>\n",
       "    </tr>\n",
       "    <tr>\n",
       "      <th>2020-08-07</th>\n",
       "      <td>287.0</td>\n",
       "      <td>247.018408</td>\n",
       "    </tr>\n",
       "    <tr>\n",
       "      <th>2020-08-08</th>\n",
       "      <td>281.0</td>\n",
       "      <td>228.945026</td>\n",
       "    </tr>\n",
       "    <tr>\n",
       "      <th>2020-08-09</th>\n",
       "      <td>98.0</td>\n",
       "      <td>95.240678</td>\n",
       "    </tr>\n",
       "    <tr>\n",
       "      <th>2020-08-10</th>\n",
       "      <td>37.0</td>\n",
       "      <td>59.819884</td>\n",
       "    </tr>\n",
       "    <tr>\n",
       "      <th>2020-08-11</th>\n",
       "      <td>420.0</td>\n",
       "      <td>288.928243</td>\n",
       "    </tr>\n",
       "    <tr>\n",
       "      <th>2020-08-12</th>\n",
       "      <td>298.0</td>\n",
       "      <td>263.449612</td>\n",
       "    </tr>\n",
       "    <tr>\n",
       "      <th>2020-08-13</th>\n",
       "      <td>455.0</td>\n",
       "      <td>253.536369</td>\n",
       "    </tr>\n",
       "    <tr>\n",
       "      <th>2020-08-14</th>\n",
       "      <td>289.0</td>\n",
       "      <td>235.123955</td>\n",
       "    </tr>\n",
       "    <tr>\n",
       "      <th>2020-08-15</th>\n",
       "      <td>167.0</td>\n",
       "      <td>220.011730</td>\n",
       "    </tr>\n",
       "    <tr>\n",
       "      <th>2020-08-16</th>\n",
       "      <td>72.0</td>\n",
       "      <td>93.461358</td>\n",
       "    </tr>\n",
       "    <tr>\n",
       "      <th>2020-08-17</th>\n",
       "      <td>47.0</td>\n",
       "      <td>59.693879</td>\n",
       "    </tr>\n",
       "  </tbody>\n",
       "</table>\n",
       "</div>"
      ],
      "text/plain": [
       "            deaths  Predictions\n",
       "2020-07-28   383.0   357.205960\n",
       "2020-07-29   330.0   316.225216\n",
       "2020-07-30   321.0   301.838367\n",
       "2020-07-31   287.0   277.358283\n",
       "2020-08-01   239.0   251.577949\n",
       "2020-08-02    81.0    90.616860\n",
       "2020-08-03    48.0    50.789605\n",
       "2020-08-04   337.0   315.998557\n",
       "2020-08-05   407.0   281.968837\n",
       "2020-08-06   339.0   271.202169\n",
       "2020-08-07   287.0   247.018408\n",
       "2020-08-08   281.0   228.945026\n",
       "2020-08-09    98.0    95.240678\n",
       "2020-08-10    37.0    59.819884\n",
       "2020-08-11   420.0   288.928243\n",
       "2020-08-12   298.0   263.449612\n",
       "2020-08-13   455.0   253.536369\n",
       "2020-08-14   289.0   235.123955\n",
       "2020-08-15   167.0   220.011730\n",
       "2020-08-16    72.0    93.461358\n",
       "2020-08-17    47.0    59.693879"
      ]
     },
     "execution_count": 65,
     "metadata": {},
     "output_type": "execute_result"
    }
   ],
   "source": [
    "test"
   ]
  },
  {
   "cell_type": "code",
   "execution_count": 66,
   "metadata": {},
   "outputs": [
    {
     "data": {
      "text/plain": [
       "<matplotlib.axes._subplots.AxesSubplot at 0x7f3d944e3590>"
      ]
     },
     "execution_count": 66,
     "metadata": {},
     "output_type": "execute_result"
    },
    {
     "data": {
      "image/png": "[encoded data removed]",
      "text/plain": [
       "<Figure size 864x576 with 1 Axes>"
      ]
     },
     "metadata": {
      "needs_background": "light"
     },
     "output_type": "display_data"
    }
   ],
   "source": [
    "test.plot(figsize=(12,8))"
   ]
  },
  {
   "cell_type": "markdown",
   "metadata": {},
   "source": [
    "# Você pode salvar suas previsões"
   ]
  },
  {
   "cell_type": "code",
   "execution_count": 67,
   "metadata": {},
   "outputs": [],
   "source": [
    "model.save('my_rnn_model.h5')"
   ]
  },
  {
   "cell_type": "markdown",
   "metadata": {},
   "source": [
    "## E carregá-las depois"
   ]
  },
  {
   "cell_type": "code",
   "execution_count": 68,
   "metadata": {},
   "outputs": [],
   "source": [
    "from keras.models import load_model\n",
    "new_model = load_model('my_rnn_model.h5')"
   ]
  },
  {
   "cell_type": "code",
   "execution_count": 69,
   "metadata": {},
   "outputs": [
    {
     "name": "stdout",
     "output_type": "stream",
     "text": [
      "Model: \"sequential_1\"\n",
      "_________________________________________________________________\n",
      "Layer (type)                 Output Shape              Param #   \n",
      "=================================================================\n",
      "lstm (LSTM)                  (None, 100)               40800     \n",
      "_________________________________________________________________\n",
      "dense_3 (Dense)              (None, 1)                 101       \n",
      "=================================================================\n",
      "Total params: 40,901\n",
      "Trainable params: 40,901\n",
      "Non-trainable params: 0\n",
      "_________________________________________________________________\n"
     ]
    }
   ],
   "source": [
    "new_model.summary()"
   ]
  },
  {
   "cell_type": "markdown",
   "metadata": {},
   "source": [
    "Outras formas de modelagem de séries temporais usando redes neurais artificiais:\n",
    "\n",
    "- https://ai.facebook.com/blog/ar-net-a-simple-autoregressive-neural-network-for-time-series/\n",
    "\n",
    "- https://otexts.com/fpp2/nnetar.html\n",
    "\n"
   ]
  },
  {
   "cell_type": "code",
   "execution_count": null,
   "metadata": {},
   "outputs": [],
   "source": []
  }
 ],
 "metadata": {
  "kernelspec": {
   "display_name": "Python 3",
   "language": "python",
   "name": "python3"
  },
  "language_info": {
   "codemirror_mode": {
    "name": "ipython",
    "version": 3
   },
   "file_extension": ".py",
   "mimetype": "text/x-python",
   "name": "python",
   "nbconvert_exporter": "python",
   "pygments_lexer": "ipython3",
   "version": "3.8.5-final"
  }
 },
 "nbformat": 4,
 "nbformat_minor": 2
}