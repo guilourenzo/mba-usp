{
 "cells": [
  {
   "cell_type": "markdown",
   "metadata": {},
   "source": [
    "# Redes dinâmicas\n",
    "\n",
    "-  Representação, manipulação e visualização\n",
    "\n",
    "-  Caracterização de redes dinâmicas\n",
    "\n",
    "-  Modelagem de redes dinâmicas\n",
    "\n",
    "por **Cibele Russo**\n",
    "\n",
    "Baseado em \n",
    "\n",
    "- Eric D. Kolaczyk, Gábor Csárdi (2014). Statistical Analysis of Network Data with R, Springer.\n",
    "\n",
    "- Cho, K., Van Merriënboer, B., Gulcehre, C., Bahdanau, D., Bougares, F., Schwenk, H., & Bengio, Y. (2014). Learning phrase representations using RNN encoder-decoder for statistical machine translation. arXiv preprint arXiv:1406.1078.\n",
    "\n",
    "- Hochreiter, S., & Schmidhuber, J. (1997). Long short-term memory. Neural computation, 9(8), 1735-1780.\n",
    "\n",
    "Implementações:\n",
    "\n",
    "- https://www.tensorflow.org/guide/keras/rnn\n",
    "\n",
    "- https://github.com/keras-team/keras-io/blob/master/guides/working_with_rnns.py\n",
    "\n",
    "\n",
    "\n",
    "Leituras adicionais:\n",
    "\n",
    "- https://otexts.com/fpp2/nnetar.html\n",
    "\n"
   ]
  },
  {
   "cell_type": "markdown",
   "metadata": {},
   "source": [
    "## Representação, manipulação e visualização\n",
    "\n",
    "Redes Neurais fornecem uma nova abordagem para a modelagem de dados e consequentemente para a previsão de séries temporais.\n",
    "\n",
    "\n",
    "Inspiração na biologia: Dendritos são os numerosos prolongamentos dos neurônios que atuam na recepção de estímulos nervosos do ambiente ou de outros neurônios e na transmissão desses estímulos para o corpo da célula.\n",
    "\n",
    "\n",
    "<img src=\"N2_Neuron_Diagram.png\" width=500 />\n",
    "Fonte: https://www.thepartnershipineducation.com/resources/nervous-system\n",
    "\n",
    "\n",
    "\n",
    "Podemos representar uma rede neural artificial com um único neurônio na forma de um perceptron, com duas entradas, uma saída, uma função de ativação e eventualmente um viés como abaixo. \n",
    "\n",
    "\n",
    "Neurônios artificiais: perceptron\n",
    "\n",
    "\n",
    "\n",
    "<img src=\"perceptron.png\" width=500 />\n",
    "\n",
    "\n",
    "Já uma rede neural com vários neurônios e camadas de entrada, saída e camadas escondidas, o que dá origem a uma rede neural artificial não linear:\n",
    "\n",
    "\n",
    "<img src=\"1BR.png\" width=700 />\n",
    "\n",
    "\n",
    "Cada camada de nós recebe entradas das camadas anteriores. As saídas dos nós em uma camada são entradas para a próxima camada. As entradas para cada nó são combinadas usando uma combinação linear ponderada. O resultado é então modificado por uma função não linear antes de ser produzido. Esse modelo é chamado de multilayer feed-forward network.\n",
    "\n",
    "\n",
    "As entradas em um neurônio da primeria camada oculta são combinadas linearmente, por exemplo, da seguinte forma\n",
    "\n",
    "\n",
    "$$z_j = b_j + \\sum_{i=1}^{3}w_{i,j} x_{i}.$$\n",
    "\n",
    "\n",
    "Então, na camada oculta, passam por uma função de ativação, por exemplo\n",
    "\n",
    "$$s(z) = \\displaystyle\\frac{1}{1+e^{-z}}$$\n",
    "\n",
    "e passam a ser entrada da próxima camada oculta, onde passarão por um procedimento similar e passarão para a camada de saída. Os parâmetros em cada passo são estimados de forma a minimizar, por exemplo, o erro quadrático médio.\n",
    "\n",
    "\n",
    "\n",
    "\n",
    "Curiosidade: Site para visualizar algumas aplicações de redes neurais artificiais:\n",
    "\n",
    "http://playground.tensorflow.org/\n",
    "\n"
   ]
  },
  {
   "cell_type": "markdown",
   "metadata": {},
   "source": [
    "\n",
    "### Redes Neurais Recorrentes (RNN)\n",
    "\n",
    "Existem diversos tipos de redes neurais artificiais que podemos utilizar para a análise de dados de séries temporais. Algumas delas são as redes neurais recorrentes (RNN), que servem para modelar dados sequenciais, como séries temporais, dados que vem de arquivos de audio, trajetórias de carros, etc. \n",
    "\n",
    "Para isso suponha um neurônio na multilayer feed-forward network, que permite que sua saída seja novamente uma entrada para si mesmo:\n",
    "\n",
    "\n",
    "<img src=\"3BR.png\" width=500 />\n",
    "\n",
    "\n",
    "E então imagine que temos esse comportamento possível ao longo do tempo:\n",
    "\n",
    "\n",
    "<img src=\"4BR.png\" width=500 />\n",
    "\n",
    "\n",
    "Dessa forma, poderíamos combinar as multilayers feed-forward networks sequencialmente. Note que existe uma espécie de memória, já que a estrutura do modelo se repete ao longo do tempo.\n",
    "\n",
    "\n",
    "As RNN estão implementadas no pacote Keras em três propostas:\n",
    "\n",
    "1. `keras.layers.SimpleRNN`, um RNN totalmente conectado, onde a saída do passo anterior no tempo deve ser alimentado para o próximo instante de tempo.\n",
    "\n",
    "2. `keras.layers.GRU` (Gated recurrent unit) proposto por\n",
    "[Cho et al., 2014](https://arxiv.org/abs/1406.1078).\n",
    "\n",
    "3. `keras.layers.LSTM`, (Long Short Term Memory) proposto por\n",
    "[Hochreiter & Schmidhuber, 1997](https://www.bioinf.jku.at/publications/older/2604.pdf).\n",
    "\n",
    "\n",
    "\n",
    "\n",
    "\n",
    "\n",
    "\n"
   ]
  },
  {
   "cell_type": "markdown",
   "metadata": {},
   "source": [
    "## LSTM = Long Short-Term Memory\n",
    "\n",
    "\n",
    "<img src=\"LSTM.png\" width=600 />\n",
    "\n",
    "\n",
    "Fonte: https://www.superdatascience.com/blogs/recurrent-neural-networks-rnn-long-short-term-memory-lstm\n",
    "\n",
    "\n",
    "Notação\n",
    "\n",
    "- $c_{t-1}$ representa a entrada de uma célula de memória no momento $t$;\n",
    "\n",
    "- $x_t$ é uma entrada no ponto de tempo $t$;\n",
    "\n",
    "- $h_t$ é uma saída no ponto de tempo $t$ que vai para a camada de saída e a camada oculta no próximo ponto de tempo.\n",
    "\n",
    "\n",
    "\n",
    "Assim, cada bloco tem três entradas $(x_t, h_{t-1} \\mbox{ e } c_{t-1})$ e duas saídas $(h_t \\mbox{ e } c_t)$. É importante observar que todas essas entradas e saídas não são valores únicos, mas vetores com muitos valores por trás de cada um deles.\n",
    "\n",
    "Para mais informações, veja [Hochreiter & Schmidhuber, 1997](https://www.bioinf.jku.at/publications/older/2604.pdf) e https://en.wikipedia.org/wiki/Long_short-term_memory .\n",
    "\n",
    "\n"
   ]
  },
  {
   "cell_type": "markdown",
   "metadata": {},
   "source": [
    "## GRU - Gated recurrent unit\n",
    "\n",
    "É como o LSTM simplificado, não tem porta de saída.\n",
    "\n",
    "<img src=\"GRU.png\" width=600 />\n",
    "\n",
    "\n",
    "Fonte: https://en.wikipedia.org/wiki/Gated_recurrent_unit"
   ]
  },
  {
   "cell_type": "markdown",
   "metadata": {},
   "source": [
    "\n",
    "\n",
    "<img src=\"rnns.png\" width=600 />\n",
    "\n",
    "\n",
    "Fonte: http://deeplearningbook.com.br/arquitetura-de-redes-neurais-gated-recurrent-unit-gru/\\\n",
    "        \n",
    "\n"
   ]
  },
  {
   "cell_type": "markdown",
   "metadata": {},
   "source": [
    "## Modelagem de redes dinâmicas\n",
    "\n",
    "\n",
    "Começaremos com um exemplo mais simples e depois partiremos para a RNN."
   ]
  },
  {
   "cell_type": "code",
   "execution_count": 1,
   "metadata": {},
   "outputs": [],
   "source": [
    "import pandas as pd\n",
    "import numpy as np\n",
    "%matplotlib inline\n",
    "import matplotlib.pyplot as plt"
   ]
  },
  {
   "cell_type": "markdown",
   "metadata": {},
   "source": [
    "### Um modelo simples do tipo  y=mx+b+ruído"
   ]
  },
  {
   "cell_type": "code",
   "execution_count": 2,
   "metadata": {},
   "outputs": [],
   "source": [
    "m = 3\n",
    "b = 4\n",
    "x = np.linspace(0,50,100)\n",
    "\n",
    "np.random.seed(0) \n",
    "ruído = np.random.normal(loc=0.0,scale=4.0,size=len(x))"
   ]
  },
  {
   "cell_type": "code",
   "execution_count": null,
   "metadata": {},
   "outputs": [],
   "source": []
  },
  {
   "cell_type": "code",
   "execution_count": 3,
   "metadata": {},
   "outputs": [
    {
     "data": {
      "text/plain": [
       "(array([ 1.,  5.,  7., 13., 17., 18., 16., 11.,  7.,  5.]),\n",
       " array([-10.21195926,  -8.28286149,  -6.35376371,  -4.42466594,\n",
       "         -2.49556816,  -0.56647038,   1.36262739,   3.29172517,\n",
       "          5.22082294,   7.14992072,   9.0790185 ]),\n",
       " <a list of 10 Patch objects>)"
      ]
     },
     "execution_count": 3,
     "metadata": {},
     "output_type": "execute_result"
    },
    {
     "data": {
      "image/png": "[encoded data removed]",
      "text/plain": [
       "<Figure size 432x288 with 1 Axes>"
      ]
     },
     "metadata": {
      "needs_background": "light"
     },
     "output_type": "display_data"
    }
   ],
   "source": [
    "plt.hist(ruído)"
   ]
  },
  {
   "cell_type": "code",
   "execution_count": 4,
   "metadata": {},
   "outputs": [],
   "source": [
    "y = m*x + b + ruído"
   ]
  },
  {
   "cell_type": "code",
   "execution_count": 5,
   "metadata": {},
   "outputs": [
    {
     "data": {
      "text/plain": [
       "[<matplotlib.lines.Line2D at 0x7f3e06ee39d0>]"
      ]
     },
     "execution_count": 5,
     "metadata": {},
     "output_type": "execute_result"
    },
    {
     "data": {
      "image/png": "[encoded data removed]",
      "text/plain": [
       "<Figure size 432x288 with 1 Axes>"
      ]
     },
     "metadata": {
      "needs_background": "light"
     },
     "output_type": "display_data"
    }
   ],
   "source": [
    "plt.plot(x,y,'.')"
   ]
  },
  {
   "cell_type": "markdown",
   "metadata": {},
   "source": [
    "## Criação de uma rede neural para uma linha de melhor ajuste usando o pacote Keras\n",
    "\n"
   ]
  },
  {
   "cell_type": "code",
   "execution_count": 6,
   "metadata": {},
   "outputs": [],
   "source": [
    "# https://keras.io/guides/sequential_model/\n",
    "# Otimizadores: https://keras.io/api/optimizers/\n",
    "\n",
    "from keras.models import Sequential\n",
    "from keras.layers import Dense"
   ]
  },
  {
   "cell_type": "code",
   "execution_count": 7,
   "metadata": {},
   "outputs": [],
   "source": [
    "#Vamos criar um modelo com 3 camadas\n",
    "\n",
    "model = Sequential()\n",
    "\n",
    "# 4 neurônios, esperando apenas 1 recurso com input_dim = 1\n",
    "model.add(Dense(4, input_dim=1, activation='relu'))\n",
    "\n",
    "# 4 neurônios (modifique para ver o resultado)\n",
    "model.add(Dense(4, activation='relu'))\n",
    "\n",
    "# Uma saída final de y, então apenas 1 neurônio\n",
    "model.add(Dense(1, activation='linear'))\n",
    "\n",
    "# Compile as camadas\n",
    "model.compile(loss='mse', optimizer='adam')"
   ]
  },
  {
   "cell_type": "code",
   "execution_count": 8,
   "metadata": {},
   "outputs": [
    {
     "name": "stdout",
     "output_type": "stream",
     "text": [
      "Model: \"sequential\"\n",
      "_________________________________________________________________\n",
      "Layer (type)                 Output Shape              Param #   \n",
      "=================================================================\n",
      "dense (Dense)                (None, 4)                 8         \n",
      "_________________________________________________________________\n",
      "dense_1 (Dense)              (None, 4)                 20        \n",
      "_________________________________________________________________\n",
      "dense_2 (Dense)              (None, 1)                 5         \n",
      "=================================================================\n",
      "Total params: 33\n",
      "Trainable params: 33\n",
      "Non-trainable params: 0\n",
      "_________________________________________________________________\n"
     ]
    }
   ],
   "source": [
    "model.summary()"
   ]
  },
  {
   "cell_type": "code",
   "execution_count": 9,
   "metadata": {},
   "outputs": [
    {
     "name": "stdout",
     "output_type": "stream",
     "text": [
      "Epoch 1/500\n",
      "4/4 [==============================] - 0s 2ms/step - loss: 6681.0732\n",
      "Epoch 2/500\n",
      "4/4 [==============================] - 0s 3ms/step - loss: 6626.9707\n",
      "Epoch 3/500\n",
      "4/4 [==============================] - 0s 2ms/step - loss: 6574.6411\n",
      "Epoch 4/500\n",
      "4/4 [==============================] - 0s 2ms/step - loss: 6521.6289\n",
      "Epoch 5/500\n",
      "4/4 [==============================] - 0s 3ms/step - loss: 6465.8066\n",
      "Epoch 6/500\n",
      "4/4 [==============================] - 0s 2ms/step - loss: 6412.7607\n",
      "Epoch 7/500\n",
      "4/4 [==============================] - 0s 2ms/step - loss: 6357.2451\n",
      "Epoch 8/500\n",
      "4/4 [==============================] - 0s 2ms/step - loss: 6300.0283\n",
      "Epoch 9/500\n",
      "4/4 [==============================] - 0s 1ms/step - loss: 6246.6826\n",
      "Epoch 10/500\n",
      "4/4 [==============================] - 0s 1ms/step - loss: 6188.1538\n",
      "Epoch 11/500\n",
      "4/4 [==============================] - 0s 3ms/step - loss: 6133.6738\n",
      "Epoch 12/500\n",
      "4/4 [==============================] - 0s 2ms/step - loss: 6076.1074\n",
      "Epoch 13/500\n",
      "4/4 [==============================] - 0s 2ms/step - loss: 6019.7852\n",
      "Epoch 14/500\n",
      "4/4 [==============================] - 0s 2ms/step - loss: 5964.2231\n",
      "Epoch 15/500\n",
      "4/4 [==============================] - 0s 3ms/step - loss: 5906.1362\n",
      "Epoch 16/500\n",
      "4/4 [==============================] - 0s 2ms/step - loss: 5847.8677\n",
      "Epoch 17/500\n",
      "4/4 [==============================] - 0s 2ms/step - loss: 5789.7437\n",
      "Epoch 18/500\n",
      "4/4 [==============================] - 0s 1ms/step - loss: 5731.1030\n",
      "Epoch 19/500\n",
      "4/4 [==============================] - 0s 1ms/step - loss: 5674.4556\n",
      "Epoch 20/500\n",
      "4/4 [==============================] - 0s 1ms/step - loss: 5611.9458\n",
      "Epoch 21/500\n",
      "4/4 [==============================] - 0s 2ms/step - loss: 5551.9180\n",
      "Epoch 22/500\n",
      "4/4 [==============================] - 0s 2ms/step - loss: 5491.4438\n",
      "Epoch 23/500\n",
      "4/4 [==============================] - 0s 3ms/step - loss: 5433.3813\n",
      "Epoch 24/500\n",
      "4/4 [==============================] - 0s 3ms/step - loss: 5375.0962\n",
      "Epoch 25/500\n",
      "4/4 [==============================] - 0s 2ms/step - loss: 5310.6177\n",
      "Epoch 26/500\n",
      "4/4 [==============================] - 0s 3ms/step - loss: 5247.9932\n",
      "Epoch 27/500\n",
      "4/4 [==============================] - 0s 2ms/step - loss: 5180.9761\n",
      "Epoch 28/500\n",
      "4/4 [==============================] - 0s 5ms/step - loss: 5120.2402\n",
      "Epoch 29/500\n",
      "4/4 [==============================] - 0s 2ms/step - loss: 5053.6265\n",
      "Epoch 30/500\n",
      "4/4 [==============================] - 0s 5ms/step - loss: 4990.8218\n",
      "Epoch 31/500\n",
      "4/4 [==============================] - 0s 3ms/step - loss: 4925.6021\n",
      "Epoch 32/500\n",
      "4/4 [==============================] - 0s 2ms/step - loss: 4860.1104\n",
      "Epoch 33/500\n",
      "4/4 [==============================] - 0s 3ms/step - loss: 4793.4707\n",
      "Epoch 34/500\n",
      "4/4 [==============================] - 0s 2ms/step - loss: 4730.1675\n",
      "Epoch 35/500\n",
      "4/4 [==============================] - 0s 2ms/step - loss: 4667.7529\n",
      "Epoch 36/500\n",
      "4/4 [==============================] - 0s 2ms/step - loss: 4606.1836\n",
      "Epoch 37/500\n",
      "4/4 [==============================] - 0s 1ms/step - loss: 4545.5645\n",
      "Epoch 38/500\n",
      "4/4 [==============================] - 0s 1ms/step - loss: 4486.1978\n",
      "Epoch 39/500\n",
      "4/4 [==============================] - 0s 1ms/step - loss: 4420.7856\n",
      "Epoch 40/500\n",
      "4/4 [==============================] - 0s 1ms/step - loss: 4361.0059\n",
      "Epoch 41/500\n",
      "4/4 [==============================] - 0s 2ms/step - loss: 4297.4004\n",
      "Epoch 42/500\n",
      "4/4 [==============================] - 0s 862us/step - loss: 4233.2539\n",
      "Epoch 43/500\n",
      "4/4 [==============================] - 0s 4ms/step - loss: 4165.6948\n",
      "Epoch 44/500\n",
      "4/4 [==============================] - 0s 2ms/step - loss: 4099.4092\n",
      "Epoch 45/500\n",
      "4/4 [==============================] - 0s 2ms/step - loss: 4032.9578\n",
      "Epoch 46/500\n",
      "4/4 [==============================] - 0s 2ms/step - loss: 3966.4795\n",
      "Epoch 47/500\n",
      "4/4 [==============================] - 0s 1ms/step - loss: 3895.3616\n",
      "Epoch 48/500\n",
      "4/4 [==============================] - 0s 2ms/step - loss: 3831.1460\n",
      "Epoch 49/500\n",
      "4/4 [==============================] - 0s 2ms/step - loss: 3764.0244\n",
      "Epoch 50/500\n",
      "4/4 [==============================] - 0s 1ms/step - loss: 3700.4431\n",
      "Epoch 51/500\n",
      "4/4 [==============================] - 0s 2ms/step - loss: 3631.2554\n",
      "Epoch 52/500\n",
      "4/4 [==============================] - 0s 2ms/step - loss: 3563.6843\n",
      "Epoch 53/500\n",
      "4/4 [==============================] - 0s 1ms/step - loss: 3496.3447\n",
      "Epoch 54/500\n",
      "4/4 [==============================] - 0s 2ms/step - loss: 3426.9441\n",
      "Epoch 55/500\n",
      "4/4 [==============================] - 0s 2ms/step - loss: 3359.7854\n",
      "Epoch 56/500\n",
      "4/4 [==============================] - 0s 4ms/step - loss: 3291.1978\n",
      "Epoch 57/500\n",
      "4/4 [==============================] - 0s 2ms/step - loss: 3224.2266\n",
      "Epoch 58/500\n",
      "4/4 [==============================] - 0s 2ms/step - loss: 3155.3225\n",
      "Epoch 59/500\n",
      "4/4 [==============================] - 0s 2ms/step - loss: 3086.9919\n",
      "Epoch 60/500\n",
      "4/4 [==============================] - 0s 1ms/step - loss: 3018.1104\n",
      "Epoch 61/500\n",
      "4/4 [==============================] - 0s 2ms/step - loss: 2950.4189\n",
      "Epoch 62/500\n",
      "4/4 [==============================] - 0s 3ms/step - loss: 2886.4216\n",
      "Epoch 63/500\n",
      "4/4 [==============================] - 0s 2ms/step - loss: 2819.9819\n",
      "Epoch 64/500\n",
      "4/4 [==============================] - 0s 2ms/step - loss: 2751.3125\n",
      "Epoch 65/500\n",
      "4/4 [==============================] - 0s 1ms/step - loss: 2682.9841\n",
      "Epoch 66/500\n",
      "4/4 [==============================] - 0s 2ms/step - loss: 2615.8252\n",
      "Epoch 67/500\n",
      "4/4 [==============================] - 0s 2ms/step - loss: 2548.8972\n",
      "Epoch 68/500\n",
      "4/4 [==============================] - 0s 2ms/step - loss: 2478.1299\n",
      "Epoch 69/500\n",
      "4/4 [==============================] - 0s 2ms/step - loss: 2406.7034\n",
      "Epoch 70/500\n",
      "4/4 [==============================] - 0s 1ms/step - loss: 2338.4958\n",
      "Epoch 71/500\n",
      "4/4 [==============================] - 0s 2ms/step - loss: 2271.1843\n",
      "Epoch 72/500\n",
      "4/4 [==============================] - 0s 2ms/step - loss: 2203.9915\n",
      "Epoch 73/500\n",
      "4/4 [==============================] - 0s 2ms/step - loss: 2137.2156\n",
      "Epoch 74/500\n",
      "4/4 [==============================] - 0s 2ms/step - loss: 2074.5493\n",
      "Epoch 75/500\n",
      "4/4 [==============================] - 0s 2ms/step - loss: 2010.9268\n",
      "Epoch 76/500\n",
      "4/4 [==============================] - 0s 2ms/step - loss: 1943.7941\n",
      "Epoch 77/500\n",
      "4/4 [==============================] - 0s 2ms/step - loss: 1882.8092\n",
      "Epoch 78/500\n",
      "4/4 [==============================] - 0s 2ms/step - loss: 1819.8934\n",
      "Epoch 79/500\n",
      "4/4 [==============================] - 0s 1ms/step - loss: 1762.9563\n",
      "Epoch 80/500\n",
      "4/4 [==============================] - 0s 1ms/step - loss: 1704.6307\n",
      "Epoch 81/500\n",
      "4/4 [==============================] - 0s 2ms/step - loss: 1644.2329\n",
      "Epoch 82/500\n",
      "4/4 [==============================] - 0s 2ms/step - loss: 1584.4056\n",
      "Epoch 83/500\n",
      "4/4 [==============================] - 0s 2ms/step - loss: 1525.6586\n",
      "Epoch 84/500\n",
      "4/4 [==============================] - 0s 4ms/step - loss: 1463.7675\n",
      "Epoch 85/500\n",
      "4/4 [==============================] - 0s 2ms/step - loss: 1403.0961\n",
      "Epoch 86/500\n",
      "4/4 [==============================] - 0s 2ms/step - loss: 1346.3040\n",
      "Epoch 87/500\n",
      "4/4 [==============================] - 0s 2ms/step - loss: 1289.2887\n",
      "Epoch 88/500\n",
      "4/4 [==============================] - 0s 2ms/step - loss: 1232.3751\n",
      "Epoch 89/500\n",
      "4/4 [==============================] - 0s 2ms/step - loss: 1176.2456\n",
      "Epoch 90/500\n",
      "4/4 [==============================] - 0s 3ms/step - loss: 1120.6901\n",
      "Epoch 91/500\n",
      "4/4 [==============================] - 0s 4ms/step - loss: 1069.0669\n",
      "Epoch 92/500\n",
      "4/4 [==============================] - 0s 3ms/step - loss: 1019.5748\n",
      "Epoch 93/500\n",
      "4/4 [==============================] - 0s 3ms/step - loss: 971.1780\n",
      "Epoch 94/500\n",
      "4/4 [==============================] - 0s 3ms/step - loss: 926.4941\n",
      "Epoch 95/500\n",
      "4/4 [==============================] - 0s 2ms/step - loss: 881.2802\n",
      "Epoch 96/500\n",
      "4/4 [==============================] - 0s 1ms/step - loss: 835.1840\n",
      "Epoch 97/500\n",
      "4/4 [==============================] - 0s 3ms/step - loss: 788.7454\n",
      "Epoch 98/500\n",
      "4/4 [==============================] - 0s 3ms/step - loss: 744.4305\n",
      "Epoch 99/500\n",
      "4/4 [==============================] - 0s 3ms/step - loss: 700.0037\n",
      "Epoch 100/500\n",
      "4/4 [==============================] - 0s 3ms/step - loss: 660.7755\n",
      "Epoch 101/500\n"
     ]
    },
    {
     "name": "stdout",
     "output_type": "stream",
     "text": [
      "4/4 [==============================] - 0s 2ms/step - loss: 622.8059\n",
      "Epoch 102/500\n",
      "4/4 [==============================] - 0s 2ms/step - loss: 584.7720\n",
      "Epoch 103/500\n",
      "4/4 [==============================] - 0s 2ms/step - loss: 551.2513\n",
      "Epoch 104/500\n",
      "4/4 [==============================] - 0s 2ms/step - loss: 516.8432\n",
      "Epoch 105/500\n",
      "4/4 [==============================] - 0s 2ms/step - loss: 483.3974\n",
      "Epoch 106/500\n",
      "4/4 [==============================] - 0s 2ms/step - loss: 449.7157\n",
      "Epoch 107/500\n",
      "4/4 [==============================] - ETA: 0s - loss: 555.142 - 0s 3ms/step - loss: 420.6404\n",
      "Epoch 108/500\n",
      "4/4 [==============================] - 0s 2ms/step - loss: 392.0039\n",
      "Epoch 109/500\n",
      "4/4 [==============================] - 0s 2ms/step - loss: 364.8694\n",
      "Epoch 110/500\n",
      "4/4 [==============================] - 0s 2ms/step - loss: 339.7284\n",
      "Epoch 111/500\n",
      "4/4 [==============================] - 0s 2ms/step - loss: 316.8714\n",
      "Epoch 112/500\n",
      "4/4 [==============================] - 0s 2ms/step - loss: 295.1309\n",
      "Epoch 113/500\n",
      "4/4 [==============================] - 0s 2ms/step - loss: 274.9705\n",
      "Epoch 114/500\n",
      "4/4 [==============================] - 0s 2ms/step - loss: 254.8222\n",
      "Epoch 115/500\n",
      "4/4 [==============================] - 0s 2ms/step - loss: 235.8259\n",
      "Epoch 116/500\n",
      "4/4 [==============================] - 0s 2ms/step - loss: 218.1178\n",
      "Epoch 117/500\n",
      "4/4 [==============================] - 0s 2ms/step - loss: 201.1706\n",
      "Epoch 118/500\n",
      "4/4 [==============================] - 0s 2ms/step - loss: 186.6619\n",
      "Epoch 119/500\n",
      "4/4 [==============================] - 0s 2ms/step - loss: 172.7626\n",
      "Epoch 120/500\n",
      "4/4 [==============================] - 0s 2ms/step - loss: 160.1406\n",
      "Epoch 121/500\n",
      "4/4 [==============================] - 0s 3ms/step - loss: 147.4693\n",
      "Epoch 122/500\n",
      "4/4 [==============================] - 0s 2ms/step - loss: 136.2539\n",
      "Epoch 123/500\n",
      "4/4 [==============================] - ETA: 0s - loss: 113.932 - 0s 2ms/step - loss: 125.3645\n",
      "Epoch 124/500\n",
      "4/4 [==============================] - 0s 2ms/step - loss: 114.9056\n",
      "Epoch 125/500\n",
      "4/4 [==============================] - 0s 2ms/step - loss: 105.9786\n",
      "Epoch 126/500\n",
      "4/4 [==============================] - 0s 2ms/step - loss: 97.4815\n",
      "Epoch 127/500\n",
      "4/4 [==============================] - 0s 3ms/step - loss: 89.6280\n",
      "Epoch 128/500\n",
      "4/4 [==============================] - 0s 2ms/step - loss: 82.7072\n",
      "Epoch 129/500\n",
      "4/4 [==============================] - 0s 2ms/step - loss: 76.3080\n",
      "Epoch 130/500\n",
      "4/4 [==============================] - 0s 2ms/step - loss: 70.5838\n",
      "Epoch 131/500\n",
      "4/4 [==============================] - 0s 2ms/step - loss: 65.4617\n",
      "Epoch 132/500\n",
      "4/4 [==============================] - 0s 959us/step - loss: 60.7894\n",
      "Epoch 133/500\n",
      "4/4 [==============================] - 0s 1ms/step - loss: 56.2991\n",
      "Epoch 134/500\n",
      "4/4 [==============================] - 0s 3ms/step - loss: 52.3781\n",
      "Epoch 135/500\n",
      "4/4 [==============================] - 0s 2ms/step - loss: 48.7315\n",
      "Epoch 136/500\n",
      "4/4 [==============================] - 0s 3ms/step - loss: 45.4885\n",
      "Epoch 137/500\n",
      "4/4 [==============================] - 0s 2ms/step - loss: 42.1938\n",
      "Epoch 138/500\n",
      "4/4 [==============================] - 0s 1ms/step - loss: 39.5340\n",
      "Epoch 139/500\n",
      "4/4 [==============================] - 0s 1ms/step - loss: 37.1028\n",
      "Epoch 140/500\n",
      "4/4 [==============================] - 0s 2ms/step - loss: 35.1444\n",
      "Epoch 141/500\n",
      "4/4 [==============================] - 0s 2ms/step - loss: 33.1989\n",
      "Epoch 142/500\n",
      "4/4 [==============================] - 0s 1ms/step - loss: 31.6269\n",
      "Epoch 143/500\n",
      "4/4 [==============================] - 0s 1ms/step - loss: 29.8540\n",
      "Epoch 144/500\n",
      "4/4 [==============================] - 0s 3ms/step - loss: 28.4937\n",
      "Epoch 145/500\n",
      "4/4 [==============================] - 0s 1ms/step - loss: 27.2248\n",
      "Epoch 146/500\n",
      "4/4 [==============================] - 0s 2ms/step - loss: 26.2562\n",
      "Epoch 147/500\n",
      "4/4 [==============================] - 0s 2ms/step - loss: 25.2567\n",
      "Epoch 148/500\n",
      "4/4 [==============================] - 0s 2ms/step - loss: 24.4515\n",
      "Epoch 149/500\n",
      "4/4 [==============================] - 0s 2ms/step - loss: 23.6689\n",
      "Epoch 150/500\n",
      "4/4 [==============================] - 0s 2ms/step - loss: 22.9959\n",
      "Epoch 151/500\n",
      "4/4 [==============================] - 0s 2ms/step - loss: 22.3555\n",
      "Epoch 152/500\n",
      "4/4 [==============================] - 0s 2ms/step - loss: 21.8281\n",
      "Epoch 153/500\n",
      "4/4 [==============================] - 0s 1ms/step - loss: 21.2753\n",
      "Epoch 154/500\n",
      "4/4 [==============================] - 0s 2ms/step - loss: 20.8048\n",
      "Epoch 155/500\n",
      "4/4 [==============================] - 0s 3ms/step - loss: 20.3904\n",
      "Epoch 156/500\n",
      "4/4 [==============================] - 0s 2ms/step - loss: 19.9884\n",
      "Epoch 157/500\n",
      "4/4 [==============================] - 0s 2ms/step - loss: 19.6800\n",
      "Epoch 158/500\n",
      "4/4 [==============================] - 0s 2ms/step - loss: 19.3925\n",
      "Epoch 159/500\n",
      "4/4 [==============================] - 0s 1ms/step - loss: 19.1653\n",
      "Epoch 160/500\n",
      "4/4 [==============================] - 0s 4ms/step - loss: 18.9977\n",
      "Epoch 161/500\n",
      "4/4 [==============================] - 0s 2ms/step - loss: 18.8767\n",
      "Epoch 162/500\n",
      "4/4 [==============================] - 0s 3ms/step - loss: 18.7361\n",
      "Epoch 163/500\n",
      "4/4 [==============================] - 0s 3ms/step - loss: 18.6471\n",
      "Epoch 164/500\n",
      "4/4 [==============================] - 0s 2ms/step - loss: 18.5327\n",
      "Epoch 165/500\n",
      "4/4 [==============================] - 0s 3ms/step - loss: 18.4462\n",
      "Epoch 166/500\n",
      "4/4 [==============================] - 0s 3ms/step - loss: 18.3105\n",
      "Epoch 167/500\n",
      "4/4 [==============================] - 0s 3ms/step - loss: 18.2394\n",
      "Epoch 168/500\n",
      "4/4 [==============================] - 0s 3ms/step - loss: 18.1974\n",
      "Epoch 169/500\n",
      "4/4 [==============================] - 0s 2ms/step - loss: 18.1447\n",
      "Epoch 170/500\n",
      "4/4 [==============================] - 0s 2ms/step - loss: 18.1163\n",
      "Epoch 171/500\n",
      "4/4 [==============================] - 0s 2ms/step - loss: 18.0990\n",
      "Epoch 172/500\n",
      "4/4 [==============================] - 0s 2ms/step - loss: 18.0594\n",
      "Epoch 173/500\n",
      "4/4 [==============================] - 0s 2ms/step - loss: 18.0397\n",
      "Epoch 174/500\n",
      "4/4 [==============================] - 0s 2ms/step - loss: 18.0259\n",
      "Epoch 175/500\n",
      "4/4 [==============================] - 0s 2ms/step - loss: 17.9886\n",
      "Epoch 176/500\n",
      "4/4 [==============================] - 0s 2ms/step - loss: 17.9782\n",
      "Epoch 177/500\n",
      "4/4 [==============================] - 0s 3ms/step - loss: 17.9601\n",
      "Epoch 178/500\n",
      "4/4 [==============================] - ETA: 0s - loss: 16.61 - 0s 2ms/step - loss: 17.9418\n",
      "Epoch 179/500\n",
      "4/4 [==============================] - 0s 3ms/step - loss: 17.9336\n",
      "Epoch 180/500\n",
      "4/4 [==============================] - 0s 2ms/step - loss: 17.9136\n",
      "Epoch 181/500\n",
      "4/4 [==============================] - 0s 3ms/step - loss: 17.9125\n",
      "Epoch 182/500\n",
      "4/4 [==============================] - 0s 3ms/step - loss: 17.8918\n",
      "Epoch 183/500\n",
      "4/4 [==============================] - 0s 3ms/step - loss: 17.8821\n",
      "Epoch 184/500\n",
      "4/4 [==============================] - 0s 2ms/step - loss: 17.8671\n",
      "Epoch 185/500\n",
      "4/4 [==============================] - 0s 30ms/step - loss: 17.8586\n",
      "Epoch 186/500\n",
      "4/4 [==============================] - 0s 2ms/step - loss: 17.8523\n",
      "Epoch 187/500\n",
      "4/4 [==============================] - 0s 2ms/step - loss: 17.8455\n",
      "Epoch 188/500\n",
      "4/4 [==============================] - 0s 2ms/step - loss: 17.8304\n",
      "Epoch 189/500\n",
      "4/4 [==============================] - 0s 2ms/step - loss: 17.8280\n",
      "Epoch 190/500\n",
      "4/4 [==============================] - 0s 2ms/step - loss: 17.8168\n",
      "Epoch 191/500\n",
      "4/4 [==============================] - 0s 1ms/step - loss: 17.8172\n",
      "Epoch 192/500\n",
      "4/4 [==============================] - 0s 3ms/step - loss: 17.8102\n",
      "Epoch 193/500\n",
      "4/4 [==============================] - 0s 2ms/step - loss: 17.8035\n",
      "Epoch 194/500\n",
      "4/4 [==============================] - 0s 1ms/step - loss: 17.8072\n",
      "Epoch 195/500\n",
      "4/4 [==============================] - 0s 2ms/step - loss: 17.7978\n",
      "Epoch 196/500\n",
      "4/4 [==============================] - 0s 2ms/step - loss: 17.7961\n",
      "Epoch 197/500\n",
      "4/4 [==============================] - 0s 2ms/step - loss: 17.7957\n",
      "Epoch 198/500\n",
      "4/4 [==============================] - 0s 1ms/step - loss: 17.7962\n",
      "Epoch 199/500\n",
      "4/4 [==============================] - 0s 2ms/step - loss: 17.7958\n",
      "Epoch 200/500\n",
      "4/4 [==============================] - 0s 1ms/step - loss: 17.8020\n",
      "Epoch 201/500\n",
      "4/4 [==============================] - 0s 1ms/step - loss: 17.7952\n",
      "Epoch 202/500\n",
      "4/4 [==============================] - 0s 2ms/step - loss: 17.7904\n",
      "Epoch 203/500\n",
      "4/4 [==============================] - 0s 2ms/step - loss: 17.7901\n",
      "Epoch 204/500\n",
      "4/4 [==============================] - 0s 1ms/step - loss: 17.7896\n",
      "Epoch 205/500\n",
      "4/4 [==============================] - 0s 1ms/step - loss: 17.7848\n",
      "Epoch 206/500\n",
      "4/4 [==============================] - 0s 2ms/step - loss: 17.7876\n",
      "Epoch 207/500\n",
      "4/4 [==============================] - 0s 2ms/step - loss: 17.7836\n",
      "Epoch 208/500\n",
      "4/4 [==============================] - 0s 2ms/step - loss: 17.7859\n",
      "Epoch 209/500\n",
      "4/4 [==============================] - 0s 2ms/step - loss: 17.7819\n",
      "Epoch 210/500\n",
      "4/4 [==============================] - 0s 3ms/step - loss: 17.7790\n",
      "Epoch 211/500\n",
      "4/4 [==============================] - 0s 2ms/step - loss: 17.7813\n",
      "Epoch 212/500\n",
      "4/4 [==============================] - 0s 2ms/step - loss: 17.7802\n",
      "Epoch 213/500\n",
      "4/4 [==============================] - 0s 1ms/step - loss: 17.7777\n",
      "Epoch 214/500\n",
      "4/4 [==============================] - 0s 1ms/step - loss: 17.7778\n",
      "Epoch 215/500\n",
      "4/4 [==============================] - 0s 2ms/step - loss: 17.7761\n",
      "Epoch 216/500\n",
      "4/4 [==============================] - 0s 4ms/step - loss: 17.7752\n",
      "Epoch 217/500\n",
      "4/4 [==============================] - 0s 3ms/step - loss: 17.7735\n",
      "Epoch 218/500\n",
      "4/4 [==============================] - 0s 4ms/step - loss: 17.7725\n",
      "Epoch 219/500\n",
      "4/4 [==============================] - 0s 1ms/step - loss: 17.7719\n",
      "Epoch 220/500\n",
      "4/4 [==============================] - 0s 2ms/step - loss: 17.7724\n",
      "Epoch 221/500\n",
      "4/4 [==============================] - 0s 3ms/step - loss: 17.7686\n",
      "Epoch 222/500\n",
      "4/4 [==============================] - 0s 2ms/step - loss: 17.7714\n",
      "Epoch 223/500\n",
      "4/4 [==============================] - 0s 3ms/step - loss: 17.7688\n",
      "Epoch 224/500\n",
      "4/4 [==============================] - 0s 2ms/step - loss: 17.7652\n",
      "Epoch 225/500\n",
      "4/4 [==============================] - 0s 2ms/step - loss: 17.7700\n",
      "Epoch 226/500\n",
      "4/4 [==============================] - 0s 2ms/step - loss: 17.7622\n",
      "Epoch 227/500\n",
      "4/4 [==============================] - 0s 2ms/step - loss: 17.7632\n",
      "Epoch 228/500\n",
      "4/4 [==============================] - 0s 2ms/step - loss: 17.7628\n",
      "Epoch 229/500\n",
      "4/4 [==============================] - 0s 2ms/step - loss: 17.7608\n",
      "Epoch 230/500\n",
      "4/4 [==============================] - 0s 2ms/step - loss: 17.7608\n",
      "Epoch 231/500\n",
      "4/4 [==============================] - 0s 2ms/step - loss: 17.7583\n",
      "Epoch 232/500\n",
      "4/4 [==============================] - 0s 2ms/step - loss: 17.7582\n",
      "Epoch 233/500\n",
      "4/4 [==============================] - 0s 2ms/step - loss: 17.7570\n",
      "Epoch 234/500\n",
      "4/4 [==============================] - 0s 2ms/step - loss: 17.7546\n",
      "Epoch 235/500\n",
      "4/4 [==============================] - 0s 2ms/step - loss: 17.7568\n",
      "Epoch 236/500\n",
      "4/4 [==============================] - 0s 2ms/step - loss: 17.7566\n",
      "Epoch 237/500\n",
      "4/4 [==============================] - 0s 3ms/step - loss: 17.7579\n",
      "Epoch 238/500\n",
      "4/4 [==============================] - 0s 2ms/step - loss: 17.7566\n",
      "Epoch 239/500\n",
      "4/4 [==============================] - 0s 2ms/step - loss: 17.7558\n",
      "Epoch 240/500\n",
      "4/4 [==============================] - 0s 2ms/step - loss: 17.7545\n",
      "Epoch 241/500\n",
      "4/4 [==============================] - 0s 2ms/step - loss: 17.7540\n",
      "Epoch 242/500\n",
      "4/4 [==============================] - 0s 2ms/step - loss: 17.7510\n",
      "Epoch 243/500\n",
      "4/4 [==============================] - 0s 2ms/step - loss: 17.7563\n",
      "Epoch 244/500\n",
      "4/4 [==============================] - 0s 2ms/step - loss: 17.7563\n",
      "Epoch 245/500\n",
      "4/4 [==============================] - 0s 2ms/step - loss: 17.7518\n",
      "Epoch 246/500\n",
      "4/4 [==============================] - 0s 2ms/step - loss: 17.7496\n",
      "Epoch 247/500\n",
      "4/4 [==============================] - 0s 2ms/step - loss: 17.7445\n",
      "Epoch 248/500\n",
      "4/4 [==============================] - 0s 2ms/step - loss: 17.7332\n",
      "Epoch 249/500\n",
      "4/4 [==============================] - 0s 2ms/step - loss: 17.7366\n",
      "Epoch 250/500\n",
      "4/4 [==============================] - 0s 2ms/step - loss: 17.7394\n",
      "Epoch 251/500\n",
      "4/4 [==============================] - 0s 2ms/step - loss: 17.7350\n",
      "Epoch 252/500\n",
      "4/4 [==============================] - 0s 3ms/step - loss: 17.7360\n",
      "Epoch 253/500\n",
      "4/4 [==============================] - 0s 2ms/step - loss: 17.7339\n",
      "Epoch 254/500\n",
      "4/4 [==============================] - 0s 2ms/step - loss: 17.7319\n",
      "Epoch 255/500\n",
      "4/4 [==============================] - 0s 2ms/step - loss: 17.7319\n",
      "Epoch 256/500\n",
      "4/4 [==============================] - 0s 2ms/step - loss: 17.7340\n",
      "Epoch 257/500\n",
      "4/4 [==============================] - 0s 2ms/step - loss: 17.7284\n",
      "Epoch 258/500\n",
      "4/4 [==============================] - 0s 2ms/step - loss: 17.7285\n",
      "Epoch 259/500\n",
      "4/4 [==============================] - 0s 2ms/step - loss: 17.7269\n",
      "Epoch 260/500\n",
      "4/4 [==============================] - 0s 2ms/step - loss: 17.7312\n",
      "Epoch 261/500\n",
      "4/4 [==============================] - 0s 2ms/step - loss: 17.7416\n",
      "Epoch 262/500\n",
      "4/4 [==============================] - 0s 2ms/step - loss: 17.7432\n",
      "Epoch 263/500\n",
      "4/4 [==============================] - 0s 2ms/step - loss: 17.7419\n",
      "Epoch 264/500\n",
      "4/4 [==============================] - 0s 3ms/step - loss: 17.7505\n",
      "Epoch 265/500\n",
      "4/4 [==============================] - 0s 2ms/step - loss: 17.7462\n",
      "Epoch 266/500\n",
      "4/4 [==============================] - 0s 2ms/step - loss: 17.7430\n",
      "Epoch 267/500\n",
      "4/4 [==============================] - 0s 3ms/step - loss: 17.7496\n",
      "Epoch 268/500\n",
      "4/4 [==============================] - 0s 2ms/step - loss: 17.7575\n",
      "Epoch 269/500\n",
      "4/4 [==============================] - 0s 2ms/step - loss: 17.7521\n",
      "Epoch 270/500\n",
      "4/4 [==============================] - 0s 2ms/step - loss: 17.7492\n",
      "Epoch 271/500\n",
      "4/4 [==============================] - ETA: 0s - loss: 12.77 - 0s 2ms/step - loss: 17.7465\n",
      "Epoch 272/500\n",
      "4/4 [==============================] - 0s 3ms/step - loss: 17.7409\n",
      "Epoch 273/500\n",
      "4/4 [==============================] - 0s 3ms/step - loss: 17.7365\n",
      "Epoch 274/500\n",
      "4/4 [==============================] - 0s 1ms/step - loss: 17.7335\n",
      "Epoch 275/500\n",
      "4/4 [==============================] - 0s 2ms/step - loss: 17.7266\n",
      "Epoch 276/500\n",
      "4/4 [==============================] - 0s 2ms/step - loss: 17.7219\n",
      "Epoch 277/500\n",
      "4/4 [==============================] - 0s 3ms/step - loss: 17.7093\n",
      "Epoch 278/500\n",
      "4/4 [==============================] - 0s 2ms/step - loss: 17.7123\n",
      "Epoch 279/500\n",
      "4/4 [==============================] - 0s 2ms/step - loss: 17.7160\n",
      "Epoch 280/500\n",
      "4/4 [==============================] - 0s 2ms/step - loss: 17.7023\n",
      "Epoch 281/500\n",
      "4/4 [==============================] - 0s 2ms/step - loss: 17.7068\n",
      "Epoch 282/500\n",
      "4/4 [==============================] - 0s 2ms/step - loss: 17.6989\n",
      "Epoch 283/500\n",
      "4/4 [==============================] - 0s 3ms/step - loss: 17.6947\n",
      "Epoch 284/500\n",
      "4/4 [==============================] - 0s 2ms/step - loss: 17.6999\n",
      "Epoch 285/500\n",
      "4/4 [==============================] - 0s 2ms/step - loss: 17.6985\n",
      "Epoch 286/500\n",
      "4/4 [==============================] - 0s 2ms/step - loss: 17.6946\n",
      "Epoch 287/500\n",
      "4/4 [==============================] - 0s 2ms/step - loss: 17.6986\n",
      "Epoch 288/500\n",
      "4/4 [==============================] - 0s 3ms/step - loss: 17.6917\n",
      "Epoch 289/500\n",
      "4/4 [==============================] - 0s 3ms/step - loss: 17.6908\n",
      "Epoch 290/500\n",
      "4/4 [==============================] - 0s 2ms/step - loss: 17.6860\n",
      "Epoch 291/500\n",
      "4/4 [==============================] - 0s 3ms/step - loss: 17.6871\n",
      "Epoch 292/500\n",
      "4/4 [==============================] - 0s 2ms/step - loss: 17.6901\n",
      "Epoch 293/500\n",
      "4/4 [==============================] - 0s 2ms/step - loss: 17.6900\n",
      "Epoch 294/500\n",
      "4/4 [==============================] - 0s 2ms/step - loss: 17.6944\n",
      "Epoch 295/500\n",
      "4/4 [==============================] - 0s 3ms/step - loss: 17.6862\n",
      "Epoch 296/500\n",
      "4/4 [==============================] - 0s 3ms/step - loss: 17.6852\n",
      "Epoch 297/500\n",
      "4/4 [==============================] - 0s 2ms/step - loss: 17.6840\n",
      "Epoch 298/500\n",
      "4/4 [==============================] - 0s 2ms/step - loss: 17.6852\n",
      "Epoch 299/500\n",
      "4/4 [==============================] - 0s 2ms/step - loss: 17.6811\n",
      "Epoch 300/500\n",
      "4/4 [==============================] - 0s 2ms/step - loss: 17.6796\n",
      "Epoch 301/500\n"
     ]
    },
    {
     "name": "stdout",
     "output_type": "stream",
     "text": [
      "4/4 [==============================] - 0s 3ms/step - loss: 17.6773\n",
      "Epoch 302/500\n",
      "4/4 [==============================] - 0s 2ms/step - loss: 17.6789\n",
      "Epoch 303/500\n",
      "4/4 [==============================] - 0s 2ms/step - loss: 17.6768\n",
      "Epoch 304/500\n",
      "4/4 [==============================] - 0s 2ms/step - loss: 17.6753\n",
      "Epoch 305/500\n",
      "4/4 [==============================] - 0s 2ms/step - loss: 17.6708\n",
      "Epoch 306/500\n",
      "4/4 [==============================] - 0s 2ms/step - loss: 17.6727\n",
      "Epoch 307/500\n",
      "4/4 [==============================] - 0s 2ms/step - loss: 17.6706\n",
      "Epoch 308/500\n",
      "4/4 [==============================] - 0s 2ms/step - loss: 17.6685\n",
      "Epoch 309/500\n",
      "4/4 [==============================] - 0s 2ms/step - loss: 17.6687\n",
      "Epoch 310/500\n",
      "4/4 [==============================] - 0s 2ms/step - loss: 17.6689\n",
      "Epoch 311/500\n",
      "4/4 [==============================] - 0s 2ms/step - loss: 17.6685\n",
      "Epoch 312/500\n",
      "4/4 [==============================] - 0s 2ms/step - loss: 17.6714\n",
      "Epoch 313/500\n",
      "4/4 [==============================] - 0s 2ms/step - loss: 17.6608\n",
      "Epoch 314/500\n",
      "4/4 [==============================] - 0s 1ms/step - loss: 17.6715\n",
      "Epoch 315/500\n",
      "4/4 [==============================] - 0s 2ms/step - loss: 17.6649\n",
      "Epoch 316/500\n",
      "4/4 [==============================] - 0s 2ms/step - loss: 17.6661\n",
      "Epoch 317/500\n",
      "4/4 [==============================] - 0s 2ms/step - loss: 17.6645\n",
      "Epoch 318/500\n",
      "4/4 [==============================] - 0s 1ms/step - loss: 17.6617\n",
      "Epoch 319/500\n",
      "4/4 [==============================] - 0s 1ms/step - loss: 17.6609\n",
      "Epoch 320/500\n",
      "4/4 [==============================] - 0s 2ms/step - loss: 17.6598\n",
      "Epoch 321/500\n",
      "4/4 [==============================] - 0s 1ms/step - loss: 17.6591\n",
      "Epoch 322/500\n",
      "4/4 [==============================] - 0s 2ms/step - loss: 17.6558\n",
      "Epoch 323/500\n",
      "4/4 [==============================] - 0s 2ms/step - loss: 17.6555\n",
      "Epoch 324/500\n",
      "4/4 [==============================] - 0s 2ms/step - loss: 17.6543\n",
      "Epoch 325/500\n",
      "4/4 [==============================] - 0s 4ms/step - loss: 17.6621\n",
      "Epoch 326/500\n",
      "4/4 [==============================] - 0s 2ms/step - loss: 17.6589\n",
      "Epoch 327/500\n",
      "4/4 [==============================] - 0s 3ms/step - loss: 17.6601\n",
      "Epoch 328/500\n",
      "4/4 [==============================] - 0s 3ms/step - loss: 17.6598\n",
      "Epoch 329/500\n",
      "4/4 [==============================] - 0s 2ms/step - loss: 17.6570\n",
      "Epoch 330/500\n",
      "4/4 [==============================] - 0s 4ms/step - loss: 17.6567\n",
      "Epoch 331/500\n",
      "4/4 [==============================] - 0s 4ms/step - loss: 17.6517\n",
      "Epoch 332/500\n",
      "4/4 [==============================] - 0s 4ms/step - loss: 17.6410\n",
      "Epoch 333/500\n",
      "4/4 [==============================] - 0s 3ms/step - loss: 17.6555\n",
      "Epoch 334/500\n",
      "4/4 [==============================] - 0s 3ms/step - loss: 17.6461\n",
      "Epoch 335/500\n",
      "4/4 [==============================] - 0s 1ms/step - loss: 17.6452\n",
      "Epoch 336/500\n",
      "4/4 [==============================] - 0s 4ms/step - loss: 17.6477\n",
      "Epoch 337/500\n",
      "4/4 [==============================] - 0s 2ms/step - loss: 17.6463\n",
      "Epoch 338/500\n",
      "4/4 [==============================] - 0s 2ms/step - loss: 17.6454\n",
      "Epoch 339/500\n",
      "4/4 [==============================] - 0s 3ms/step - loss: 17.6462\n",
      "Epoch 340/500\n",
      "4/4 [==============================] - 0s 3ms/step - loss: 17.6424\n",
      "Epoch 341/500\n",
      "4/4 [==============================] - 0s 3ms/step - loss: 17.6362\n",
      "Epoch 342/500\n",
      "4/4 [==============================] - 0s 2ms/step - loss: 17.6378\n",
      "Epoch 343/500\n",
      "4/4 [==============================] - 0s 3ms/step - loss: 17.6339\n",
      "Epoch 344/500\n",
      "4/4 [==============================] - 0s 2ms/step - loss: 17.6363\n",
      "Epoch 345/500\n",
      "4/4 [==============================] - 0s 2ms/step - loss: 17.6311\n",
      "Epoch 346/500\n",
      "4/4 [==============================] - 0s 3ms/step - loss: 17.6282\n",
      "Epoch 347/500\n",
      "4/4 [==============================] - 0s 2ms/step - loss: 17.6279\n",
      "Epoch 348/500\n",
      "4/4 [==============================] - 0s 2ms/step - loss: 17.6348\n",
      "Epoch 349/500\n",
      "4/4 [==============================] - 0s 3ms/step - loss: 17.6276\n",
      "Epoch 350/500\n",
      "4/4 [==============================] - 0s 2ms/step - loss: 17.6205\n",
      "Epoch 351/500\n",
      "4/4 [==============================] - 0s 2ms/step - loss: 17.6240\n",
      "Epoch 352/500\n",
      "4/4 [==============================] - ETA: 0s - loss: 18.37 - 0s 2ms/step - loss: 17.6270\n",
      "Epoch 353/500\n",
      "4/4 [==============================] - 0s 2ms/step - loss: 17.6470\n",
      "Epoch 354/500\n",
      "4/4 [==============================] - 0s 2ms/step - loss: 17.6471\n",
      "Epoch 355/500\n",
      "4/4 [==============================] - 0s 2ms/step - loss: 17.6449\n",
      "Epoch 356/500\n",
      "4/4 [==============================] - 0s 2ms/step - loss: 17.6417\n",
      "Epoch 357/500\n",
      "4/4 [==============================] - 0s 1ms/step - loss: 17.6318\n",
      "Epoch 358/500\n",
      "4/4 [==============================] - 0s 2ms/step - loss: 17.6165\n",
      "Epoch 359/500\n",
      "4/4 [==============================] - 0s 2ms/step - loss: 17.6134\n",
      "Epoch 360/500\n",
      "4/4 [==============================] - 0s 2ms/step - loss: 17.6063\n",
      "Epoch 361/500\n",
      "4/4 [==============================] - 0s 2ms/step - loss: 17.6116\n",
      "Epoch 362/500\n",
      "4/4 [==============================] - 0s 2ms/step - loss: 17.6069\n",
      "Epoch 363/500\n",
      "4/4 [==============================] - 0s 2ms/step - loss: 17.6051\n",
      "Epoch 364/500\n",
      "4/4 [==============================] - 0s 2ms/step - loss: 17.6051\n",
      "Epoch 365/500\n",
      "4/4 [==============================] - 0s 2ms/step - loss: 17.5990\n",
      "Epoch 366/500\n",
      "4/4 [==============================] - 0s 2ms/step - loss: 17.6046\n",
      "Epoch 367/500\n",
      "4/4 [==============================] - 0s 2ms/step - loss: 17.6035\n",
      "Epoch 368/500\n",
      "4/4 [==============================] - 0s 2ms/step - loss: 17.6046\n",
      "Epoch 369/500\n",
      "4/4 [==============================] - 0s 2ms/step - loss: 17.6298\n",
      "Epoch 370/500\n",
      "4/4 [==============================] - 0s 1ms/step - loss: 17.6288\n",
      "Epoch 371/500\n",
      "4/4 [==============================] - 0s 2ms/step - loss: 17.6329\n",
      "Epoch 372/500\n",
      "4/4 [==============================] - 0s 2ms/step - loss: 17.6235\n",
      "Epoch 373/500\n",
      "4/4 [==============================] - 0s 2ms/step - loss: 17.6185\n",
      "Epoch 374/500\n",
      "4/4 [==============================] - 0s 2ms/step - loss: 17.6096\n",
      "Epoch 375/500\n",
      "4/4 [==============================] - 0s 1ms/step - loss: 17.6008\n",
      "Epoch 376/500\n",
      "4/4 [==============================] - 0s 2ms/step - loss: 17.6021\n",
      "Epoch 377/500\n",
      "4/4 [==============================] - 0s 909us/step - loss: 17.5937\n",
      "Epoch 378/500\n",
      "4/4 [==============================] - 0s 2ms/step - loss: 17.5902\n",
      "Epoch 379/500\n",
      "4/4 [==============================] - 0s 1ms/step - loss: 17.5937\n",
      "Epoch 380/500\n",
      "4/4 [==============================] - 0s 1ms/step - loss: 17.5925\n",
      "Epoch 381/500\n",
      "4/4 [==============================] - 0s 2ms/step - loss: 17.5904\n",
      "Epoch 382/500\n",
      "4/4 [==============================] - 0s 2ms/step - loss: 17.5848\n",
      "Epoch 383/500\n",
      "4/4 [==============================] - 0s 1ms/step - loss: 17.5793\n",
      "Epoch 384/500\n",
      "4/4 [==============================] - 0s 2ms/step - loss: 17.5778\n",
      "Epoch 385/500\n",
      "4/4 [==============================] - 0s 1ms/step - loss: 17.5785\n",
      "Epoch 386/500\n",
      "4/4 [==============================] - 0s 1ms/step - loss: 17.5774\n",
      "Epoch 387/500\n",
      "4/4 [==============================] - 0s 1ms/step - loss: 17.5731\n",
      "Epoch 388/500\n",
      "4/4 [==============================] - 0s 2ms/step - loss: 17.5834\n",
      "Epoch 389/500\n",
      "4/4 [==============================] - 0s 1ms/step - loss: 17.5902\n",
      "Epoch 390/500\n",
      "4/4 [==============================] - 0s 1ms/step - loss: 17.5846\n",
      "Epoch 391/500\n",
      "4/4 [==============================] - 0s 1ms/step - loss: 17.5774\n",
      "Epoch 392/500\n",
      "4/4 [==============================] - 0s 2ms/step - loss: 17.5770\n",
      "Epoch 393/500\n",
      "4/4 [==============================] - 0s 1ms/step - loss: 17.5701\n",
      "Epoch 394/500\n",
      "4/4 [==============================] - 0s 1ms/step - loss: 17.5674\n",
      "Epoch 395/500\n",
      "4/4 [==============================] - 0s 1ms/step - loss: 17.5672\n",
      "Epoch 396/500\n",
      "4/4 [==============================] - 0s 1ms/step - loss: 17.5595\n",
      "Epoch 397/500\n",
      "4/4 [==============================] - 0s 1ms/step - loss: 17.5594\n",
      "Epoch 398/500\n",
      "4/4 [==============================] - 0s 899us/step - loss: 17.5643\n",
      "Epoch 399/500\n",
      "4/4 [==============================] - 0s 1ms/step - loss: 17.5549\n",
      "Epoch 400/500\n",
      "4/4 [==============================] - 0s 1ms/step - loss: 17.5558\n",
      "Epoch 401/500\n",
      "4/4 [==============================] - 0s 1ms/step - loss: 17.5597\n"
     ]
    },
    {
     "name": "stdout",
     "output_type": "stream",
     "text": [
      "Epoch 402/500\n",
      "4/4 [==============================] - 0s 1ms/step - loss: 17.5487\n",
      "Epoch 403/500\n",
      "4/4 [==============================] - 0s 1ms/step - loss: 17.5634\n",
      "Epoch 404/500\n",
      "4/4 [==============================] - 0s 1ms/step - loss: 17.5548\n",
      "Epoch 405/500\n",
      "4/4 [==============================] - 0s 1ms/step - loss: 17.5528\n",
      "Epoch 406/500\n",
      "4/4 [==============================] - 0s 974us/step - loss: 17.5552\n",
      "Epoch 407/500\n",
      "4/4 [==============================] - 0s 1ms/step - loss: 17.5396\n",
      "Epoch 408/500\n",
      "4/4 [==============================] - 0s 2ms/step - loss: 17.5364\n",
      "Epoch 409/500\n",
      "4/4 [==============================] - 0s 2ms/step - loss: 17.5429\n",
      "Epoch 410/500\n",
      "4/4 [==============================] - 0s 2ms/step - loss: 17.5381\n",
      "Epoch 411/500\n",
      "4/4 [==============================] - 0s 2ms/step - loss: 17.5409\n",
      "Epoch 412/500\n",
      "4/4 [==============================] - 0s 1ms/step - loss: 17.5387\n",
      "Epoch 413/500\n",
      "4/4 [==============================] - 0s 867us/step - loss: 17.5396\n",
      "Epoch 414/500\n",
      "4/4 [==============================] - 0s 1ms/step - loss: 17.5570\n",
      "Epoch 415/500\n",
      "4/4 [==============================] - 0s 1ms/step - loss: 17.5592\n",
      "Epoch 416/500\n",
      "4/4 [==============================] - 0s 1ms/step - loss: 17.5609\n",
      "Epoch 417/500\n",
      "4/4 [==============================] - 0s 1ms/step - loss: 17.5648\n",
      "Epoch 418/500\n",
      "4/4 [==============================] - 0s 1ms/step - loss: 17.5710\n",
      "Epoch 419/500\n",
      "4/4 [==============================] - 0s 2ms/step - loss: 17.5813\n",
      "Epoch 420/500\n",
      "4/4 [==============================] - 0s 2ms/step - loss: 17.5804\n",
      "Epoch 421/500\n",
      "4/4 [==============================] - 0s 2ms/step - loss: 17.5793\n",
      "Epoch 422/500\n",
      "4/4 [==============================] - 0s 1ms/step - loss: 17.5501\n",
      "Epoch 423/500\n",
      "4/4 [==============================] - 0s 1ms/step - loss: 17.5347\n",
      "Epoch 424/500\n",
      "4/4 [==============================] - 0s 2ms/step - loss: 17.5351\n",
      "Epoch 425/500\n",
      "4/4 [==============================] - 0s 2ms/step - loss: 17.5208\n",
      "Epoch 426/500\n",
      "4/4 [==============================] - 0s 2ms/step - loss: 17.5189\n",
      "Epoch 427/500\n",
      "4/4 [==============================] - 0s 1ms/step - loss: 17.5180\n",
      "Epoch 428/500\n",
      "4/4 [==============================] - 0s 1ms/step - loss: 17.5151\n",
      "Epoch 429/500\n",
      "4/4 [==============================] - 0s 1ms/step - loss: 17.5134\n",
      "Epoch 430/500\n",
      "4/4 [==============================] - 0s 1ms/step - loss: 17.5108\n",
      "Epoch 431/500\n",
      "4/4 [==============================] - 0s 2ms/step - loss: 17.5099\n",
      "Epoch 432/500\n",
      "4/4 [==============================] - 0s 1ms/step - loss: 17.5097\n",
      "Epoch 433/500\n",
      "4/4 [==============================] - 0s 1ms/step - loss: 17.5144\n",
      "Epoch 434/500\n",
      "4/4 [==============================] - 0s 1ms/step - loss: 17.4987\n",
      "Epoch 435/500\n",
      "4/4 [==============================] - 0s 2ms/step - loss: 17.4992\n",
      "Epoch 436/500\n",
      "4/4 [==============================] - 0s 1ms/step - loss: 17.4979\n",
      "Epoch 437/500\n",
      "4/4 [==============================] - 0s 2ms/step - loss: 17.4975\n",
      "Epoch 438/500\n",
      "4/4 [==============================] - 0s 2ms/step - loss: 17.4967\n",
      "Epoch 439/500\n",
      "4/4 [==============================] - 0s 1ms/step - loss: 17.4958\n",
      "Epoch 440/500\n",
      "4/4 [==============================] - 0s 2ms/step - loss: 17.5039\n",
      "Epoch 441/500\n",
      "4/4 [==============================] - 0s 1ms/step - loss: 17.4986\n",
      "Epoch 442/500\n",
      "4/4 [==============================] - 0s 2ms/step - loss: 17.4915\n",
      "Epoch 443/500\n",
      "4/4 [==============================] - 0s 1ms/step - loss: 17.4892\n",
      "Epoch 444/500\n",
      "4/4 [==============================] - 0s 2ms/step - loss: 17.4885\n",
      "Epoch 445/500\n",
      "4/4 [==============================] - 0s 2ms/step - loss: 17.4855\n",
      "Epoch 446/500\n",
      "4/4 [==============================] - 0s 4ms/step - loss: 17.4991\n",
      "Epoch 447/500\n",
      "4/4 [==============================] - 0s 2ms/step - loss: 17.4825\n",
      "Epoch 448/500\n",
      "4/4 [==============================] - 0s 2ms/step - loss: 17.4775\n",
      "Epoch 449/500\n",
      "4/4 [==============================] - 0s 3ms/step - loss: 17.4773\n",
      "Epoch 450/500\n",
      "4/4 [==============================] - 0s 3ms/step - loss: 17.4706\n",
      "Epoch 451/500\n",
      "4/4 [==============================] - 0s 2ms/step - loss: 17.4745\n",
      "Epoch 452/500\n",
      "4/4 [==============================] - 0s 1ms/step - loss: 17.5272\n",
      "Epoch 453/500\n",
      "4/4 [==============================] - 0s 2ms/step - loss: 17.5323\n",
      "Epoch 454/500\n",
      "4/4 [==============================] - 0s 2ms/step - loss: 17.5229\n",
      "Epoch 455/500\n",
      "4/4 [==============================] - 0s 1ms/step - loss: 17.5091\n",
      "Epoch 456/500\n",
      "4/4 [==============================] - 0s 2ms/step - loss: 17.5055\n",
      "Epoch 457/500\n",
      "4/4 [==============================] - 0s 3ms/step - loss: 17.5013\n",
      "Epoch 458/500\n",
      "4/4 [==============================] - 0s 2ms/step - loss: 17.4997\n",
      "Epoch 459/500\n",
      "4/4 [==============================] - 0s 1ms/step - loss: 17.4912\n",
      "Epoch 460/500\n",
      "4/4 [==============================] - 0s 1ms/step - loss: 17.5069\n",
      "Epoch 461/500\n",
      "4/4 [==============================] - 0s 1ms/step - loss: 17.4680\n",
      "Epoch 462/500\n",
      "4/4 [==============================] - 0s 967us/step - loss: 17.4650\n",
      "Epoch 463/500\n",
      "4/4 [==============================] - 0s 1ms/step - loss: 17.4607\n",
      "Epoch 464/500\n",
      "4/4 [==============================] - 0s 1ms/step - loss: 17.4558\n",
      "Epoch 465/500\n",
      "4/4 [==============================] - 0s 2ms/step - loss: 17.4587\n",
      "Epoch 466/500\n",
      "4/4 [==============================] - 0s 2ms/step - loss: 17.4508\n",
      "Epoch 467/500\n",
      "4/4 [==============================] - 0s 2ms/step - loss: 17.4513\n",
      "Epoch 468/500\n",
      "4/4 [==============================] - 0s 2ms/step - loss: 17.4476\n",
      "Epoch 469/500\n",
      "4/4 [==============================] - 0s 2ms/step - loss: 17.4451\n",
      "Epoch 470/500\n",
      "4/4 [==============================] - 0s 2ms/step - loss: 17.4448\n",
      "Epoch 471/500\n",
      "4/4 [==============================] - 0s 2ms/step - loss: 17.4492\n",
      "Epoch 472/500\n",
      "4/4 [==============================] - 0s 2ms/step - loss: 17.4469\n",
      "Epoch 473/500\n",
      "4/4 [==============================] - 0s 2ms/step - loss: 17.4459\n",
      "Epoch 474/500\n",
      "4/4 [==============================] - ETA: 0s - loss: 17.41 - 0s 2ms/step - loss: 17.4338\n",
      "Epoch 475/500\n",
      "4/4 [==============================] - 0s 2ms/step - loss: 17.4357\n",
      "Epoch 476/500\n",
      "4/4 [==============================] - 0s 2ms/step - loss: 17.4379\n",
      "Epoch 477/500\n",
      "4/4 [==============================] - 0s 1ms/step - loss: 17.4397\n",
      "Epoch 478/500\n",
      "4/4 [==============================] - 0s 2ms/step - loss: 17.4518\n",
      "Epoch 479/500\n",
      "4/4 [==============================] - 0s 2ms/step - loss: 17.4477\n",
      "Epoch 480/500\n",
      "4/4 [==============================] - 0s 2ms/step - loss: 17.4492\n",
      "Epoch 481/500\n",
      "4/4 [==============================] - 0s 1ms/step - loss: 17.4433\n",
      "Epoch 482/500\n",
      "4/4 [==============================] - 0s 3ms/step - loss: 17.4453\n",
      "Epoch 483/500\n",
      "4/4 [==============================] - 0s 972us/step - loss: 17.4400\n",
      "Epoch 484/500\n",
      "4/4 [==============================] - 0s 2ms/step - loss: 17.4438\n",
      "Epoch 485/500\n",
      "4/4 [==============================] - 0s 1ms/step - loss: 17.4327\n",
      "Epoch 486/500\n",
      "4/4 [==============================] - 0s 2ms/step - loss: 17.4303\n",
      "Epoch 487/500\n",
      "4/4 [==============================] - 0s 1ms/step - loss: 17.4336\n",
      "Epoch 488/500\n",
      "4/4 [==============================] - 0s 4ms/step - loss: 17.4364\n",
      "Epoch 489/500\n",
      "4/4 [==============================] - 0s 2ms/step - loss: 17.4447\n",
      "Epoch 490/500\n",
      "4/4 [==============================] - 0s 2ms/step - loss: 17.4411\n",
      "Epoch 491/500\n",
      "4/4 [==============================] - 0s 2ms/step - loss: 17.4408\n",
      "Epoch 492/500\n",
      "4/4 [==============================] - 0s 1ms/step - loss: 17.4391\n",
      "Epoch 493/500\n",
      "4/4 [==============================] - 0s 3ms/step - loss: 17.4271\n",
      "Epoch 494/500\n",
      "4/4 [==============================] - 0s 2ms/step - loss: 17.4219\n",
      "Epoch 495/500\n",
      "4/4 [==============================] - 0s 1ms/step - loss: 17.4222\n",
      "Epoch 496/500\n",
      "4/4 [==============================] - 0s 1ms/step - loss: 17.4138\n",
      "Epoch 497/500\n",
      "4/4 [==============================] - 0s 2ms/step - loss: 17.4110\n",
      "Epoch 498/500\n",
      "4/4 [==============================] - 0s 2ms/step - loss: 17.4099\n",
      "Epoch 499/500\n",
      "4/4 [==============================] - 0s 2ms/step - loss: 17.4096\n",
      "Epoch 500/500\n",
      "4/4 [==============================] - 0s 1ms/step - loss: 17.4079\n"
     ]
    },
    {
     "data": {
      "text/plain": [
       "<tensorflow.python.keras.callbacks.History at 0x7f3dd835d410>"
      ]
     },
     "execution_count": 9,
     "metadata": {},
     "output_type": "execute_result"
    }
   ],
   "source": [
    "model.fit(x, y, epochs=500, verbose=1)"
   ]
  },
  {
   "cell_type": "markdown",
   "metadata": {},
   "source": [
    "## Prever novos x pontos\n",
    "\n",
    "Nosso x anterior era de 100 pontos de espaço entre 0 e 50. Vamos prever 1000 valores entre 0 e 50, desenhando uma linha para nossas previsões (nossa linha de melhor ajuste).\n",
    "\n",
    "\n"
   ]
  },
  {
   "cell_type": "code",
   "execution_count": 10,
   "metadata": {},
   "outputs": [],
   "source": [
    "x_for_predictions = np.linspace(0,50,1000)"
   ]
  },
  {
   "cell_type": "code",
   "execution_count": 11,
   "metadata": {},
   "outputs": [],
   "source": [
    "y_predicted = model.predict(x_for_predictions)"
   ]
  },
  {
   "cell_type": "code",
   "execution_count": 12,
   "metadata": {},
   "outputs": [
    {
     "data": {
      "text/plain": [
       "[<matplotlib.lines.Line2D at 0x7f3db83d2850>]"
      ]
     },
     "execution_count": 12,
     "metadata": {},
     "output_type": "execute_result"
    },
    {
     "data": {
      "image/png": "[encoded data removed]",
      "text/plain": [
       "<Figure size 432x288 with 1 Axes>"
      ]
     },
     "metadata": {
      "needs_background": "light"
     },
     "output_type": "display_data"
    }
   ],
   "source": [
    "# X e Y originais\n",
    "plt.plot(x,y,'.')\n",
    "\n",
    "# Reta prevista\n",
    "plt.plot(x_for_predictions,y_predicted,'r')"
   ]
  },
  {
   "cell_type": "markdown",
   "metadata": {},
   "source": [
    "# Avaliação do erro"
   ]
  },
  {
   "cell_type": "code",
   "execution_count": 13,
   "metadata": {},
   "outputs": [],
   "source": [
    "from sklearn.metrics import mean_squared_error,mean_absolute_error"
   ]
  },
  {
   "cell_type": "code",
   "execution_count": 14,
   "metadata": {},
   "outputs": [],
   "source": [
    "\n",
    "prediction_for_true_y = model.predict(x)"
   ]
  },
  {
   "cell_type": "code",
   "execution_count": 15,
   "metadata": {},
   "outputs": [
    {
     "data": {
      "text/plain": [
       "17.408613195595734"
      ]
     },
     "execution_count": 15,
     "metadata": {},
     "output_type": "execute_result"
    }
   ],
   "source": [
    "mean_squared_error(y,prediction_for_true_y)"
   ]
  },
  {
   "cell_type": "code",
   "execution_count": 16,
   "metadata": {},
   "outputs": [
    {
     "data": {
      "text/plain": [
       "3.339740703998877"
      ]
     },
     "execution_count": 16,
     "metadata": {},
     "output_type": "execute_result"
    }
   ],
   "source": [
    "mean_absolute_error(y,prediction_for_true_y)"
   ]
  },
  {
   "cell_type": "markdown",
   "metadata": {},
   "source": [
    "Como interpretar esse resultado? Depende da comparação com outros modelos!"
   ]
  },
  {
   "cell_type": "markdown",
   "metadata": {},
   "source": [
    "## Modelagem de séries temporais usando o Keras\n",
    "\n"
   ]
  },
  {
   "cell_type": "code",
   "execution_count": 17,
   "metadata": {},
   "outputs": [],
   "source": [
    "import pandas as pd\n",
    "import numpy as np\n",
    "%matplotlib inline\n",
    "import matplotlib.pyplot as plt"
   ]
  },
  {
   "cell_type": "code",
   "execution_count": 18,
   "metadata": {},
   "outputs": [
    {
     "data": {
      "text/plain": [
       "<matplotlib.axes._subplots.AxesSubplot at 0x7f3d97cec850>"
      ]
     },
     "execution_count": 18,
     "metadata": {},
     "output_type": "execute_result"
    },
    {
     "data": {
      "image/png": "[encoded data removed]",
      "text/plain": [
       "<Figure size 432x288 with 1 Axes>"
      ]
     },
     "metadata": {
      "needs_background": "light"
     },
     "output_type": "display_data"
    }
   ],
   "source": [
    "# Leitura dos dados de COVID-19 no estado de SP - vamos trabalhar com as mortes\n",
    "# Dados até 17/8\n",
    "\n",
    "pkgdir = '/home/cibele/CibelePython/AprendizadoDinamico/Data'\n",
    "\n",
    "df = pd.read_csv(f'{pkgdir}/covidSP.csv', index_col='date', parse_dates=True)\n",
    "df = df.drop('confirmed', axis=1)\n",
    "\n",
    "idx = pd.date_range(start=df.index.min(), end=df.index.max(), freq='D')\n",
    "df = df.reindex(idx)\n",
    "df.fillna(0,inplace=True)\n",
    "\n",
    "df.plot()"
   ]
  },
  {
   "cell_type": "code",
   "execution_count": 19,
   "metadata": {},
   "outputs": [
    {
     "data": {
      "text/html": [
       "<div>\n",
       "<style scoped>\n",
       "    .dataframe tbody tr th:only-of-type {\n",
       "        vertical-align: middle;\n",
       "    }\n",
       "\n",
       "    .dataframe tbody tr th {\n",
       "        vertical-align: top;\n",
       "    }\n",
       "\n",
       "    .dataframe thead th {\n",
       "        text-align: right;\n",
       "    }\n",
       "</style>\n",
       "<table border=\"1\" class=\"dataframe\">\n",
       "  <thead>\n",
       "    <tr style=\"text-align: right;\">\n",
       "      <th></th>\n",
       "      <th>deaths</th>\n",
       "    </tr>\n",
       "  </thead>\n",
       "  <tbody>\n",
       "    <tr>\n",
       "      <th>2020-02-26</th>\n",
       "      <td>0.0</td>\n",
       "    </tr>\n",
       "    <tr>\n",
       "      <th>2020-02-27</th>\n",
       "      <td>0.0</td>\n",
       "    </tr>\n",
       "    <tr>\n",
       "      <th>2020-02-28</th>\n",
       "      <td>0.0</td>\n",
       "    </tr>\n",
       "    <tr>\n",
       "      <th>2020-02-29</th>\n",
       "      <td>0.0</td>\n",
       "    </tr>\n",
       "    <tr>\n",
       "      <th>2020-03-01</th>\n",
       "      <td>0.0</td>\n",
       "    </tr>\n",
       "    <tr>\n",
       "      <th>...</th>\n",
       "      <td>...</td>\n",
       "    </tr>\n",
       "    <tr>\n",
       "      <th>2020-08-13</th>\n",
       "      <td>455.0</td>\n",
       "    </tr>\n",
       "    <tr>\n",
       "      <th>2020-08-14</th>\n",
       "      <td>289.0</td>\n",
       "    </tr>\n",
       "    <tr>\n",
       "      <th>2020-08-15</th>\n",
       "      <td>167.0</td>\n",
       "    </tr>\n",
       "    <tr>\n",
       "      <th>2020-08-16</th>\n",
       "      <td>72.0</td>\n",
       "    </tr>\n",
       "    <tr>\n",
       "      <th>2020-08-17</th>\n",
       "      <td>47.0</td>\n",
       "    </tr>\n",
       "  </tbody>\n",
       "</table>\n",
       "<p>174 rows × 1 columns</p>\n",
       "</div>"
      ],
      "text/plain": [
       "            deaths\n",
       "2020-02-26     0.0\n",
       "2020-02-27     0.0\n",
       "2020-02-28     0.0\n",
       "2020-02-29     0.0\n",
       "2020-03-01     0.0\n",
       "...            ...\n",
       "2020-08-13   455.0\n",
       "2020-08-14   289.0\n",
       "2020-08-15   167.0\n",
       "2020-08-16    72.0\n",
       "2020-08-17    47.0\n",
       "\n",
       "[174 rows x 1 columns]"
      ]
     },
     "execution_count": 19,
     "metadata": {},
     "output_type": "execute_result"
    }
   ],
   "source": [
    "df"
   ]
  },
  {
   "cell_type": "code",
   "execution_count": 20,
   "metadata": {},
   "outputs": [
    {
     "data": {
      "text/html": [
       "<div>\n",
       "<style scoped>\n",
       "    .dataframe tbody tr th:only-of-type {\n",
       "        vertical-align: middle;\n",
       "    }\n",
       "\n",
       "    .dataframe tbody tr th {\n",
       "        vertical-align: top;\n",
       "    }\n",
       "\n",
       "    .dataframe thead th {\n",
       "        text-align: right;\n",
       "    }\n",
       "</style>\n",
       "<table border=\"1\" class=\"dataframe\">\n",
       "  <thead>\n",
       "    <tr style=\"text-align: right;\">\n",
       "      <th></th>\n",
       "      <th>deaths</th>\n",
       "    </tr>\n",
       "  </thead>\n",
       "  <tbody>\n",
       "    <tr>\n",
       "      <th>2020-02-26</th>\n",
       "      <td>0.0</td>\n",
       "    </tr>\n",
       "    <tr>\n",
       "      <th>2020-02-27</th>\n",
       "      <td>0.0</td>\n",
       "    </tr>\n",
       "    <tr>\n",
       "      <th>2020-02-28</th>\n",
       "      <td>0.0</td>\n",
       "    </tr>\n",
       "    <tr>\n",
       "      <th>2020-02-29</th>\n",
       "      <td>0.0</td>\n",
       "    </tr>\n",
       "    <tr>\n",
       "      <th>2020-03-01</th>\n",
       "      <td>0.0</td>\n",
       "    </tr>\n",
       "  </tbody>\n",
       "</table>\n",
       "</div>"
      ],
      "text/plain": [
       "            deaths\n",
       "2020-02-26     0.0\n",
       "2020-02-27     0.0\n",
       "2020-02-28     0.0\n",
       "2020-02-29     0.0\n",
       "2020-03-01     0.0"
      ]
     },
     "execution_count": 20,
     "metadata": {},
     "output_type": "execute_result"
    }
   ],
   "source": [
    "df.head()"
   ]
  },
  {
   "cell_type": "code",
   "execution_count": 21,
   "metadata": {},
   "outputs": [
    {
     "data": {
      "text/plain": [
       "<matplotlib.axes._subplots.AxesSubplot at 0x7f3d973cdb10>"
      ]
     },
     "execution_count": 21,
     "metadata": {},
     "output_type": "execute_result"
    },
    {
     "data": {
      "image/png": "[encoded data removed]",
      "text/plain": [
       "<Figure size 864x576 with 1 Axes>"
      ]
     },
     "metadata": {
      "needs_background": "light"
     },
     "output_type": "display_data"
    }
   ],
   "source": [
    "df.plot(figsize=(12,8))"
   ]
  },
  {
   "cell_type": "code",
   "execution_count": 22,
   "metadata": {},
   "outputs": [],
   "source": [
    "from statsmodels.tsa.seasonal import seasonal_decompose"
   ]
  },
  {
   "cell_type": "code",
   "execution_count": 23,
   "metadata": {},
   "outputs": [
    {
     "data": {
      "text/plain": [
       "<matplotlib.axes._subplots.AxesSubplot at 0x7f3dd825ce90>"
      ]
     },
     "execution_count": 23,
     "metadata": {},
     "output_type": "execute_result"
    },
    {
     "data": {
      "image/png": "[encoded data removed]",
      "text/plain": [
       "<Figure size 864x144 with 1 Axes>"
      ]
     },
     "metadata": {
      "needs_background": "light"
     },
     "output_type": "display_data"
    }
   ],
   "source": [
    "results = seasonal_decompose(df)\n",
    "results.observed.plot(figsize=(12,2))"
   ]
  },
  {
   "cell_type": "code",
   "execution_count": 24,
   "metadata": {},
   "outputs": [
    {
     "data": {
      "text/plain": [
       "<matplotlib.axes._subplots.AxesSubplot at 0x7f3d955891d0>"
      ]
     },
     "execution_count": 24,
     "metadata": {},
     "output_type": "execute_result"
    },
    {
     "data": {
      "image/png": "[encoded data removed]",
      "text/plain": [
       "<Figure size 864x144 with 1 Axes>"
      ]
     },
     "metadata": {
      "needs_background": "light"
     },
     "output_type": "display_data"
    }
   ],
   "source": [
    "results.trend.plot(figsize=(12,2))"
   ]
  },
  {
   "cell_type": "code",
   "execution_count": 25,
   "metadata": {},
   "outputs": [
    {
     "data": {
      "text/plain": [
       "<matplotlib.axes._subplots.AxesSubplot at 0x7f3d954a3990>"
      ]
     },
     "execution_count": 25,
     "metadata": {},
     "output_type": "execute_result"
    },
    {
     "data": {
      "image/png": "[encoded data removed]",
      "text/plain": [
       "<Figure size 864x144 with 1 Axes>"
      ]
     },
     "metadata": {
      "needs_background": "light"
     },
     "output_type": "display_data"
    }
   ],
   "source": [
    "results.seasonal.plot(figsize=(12,2))"
   ]
  },
  {
   "cell_type": "code",
   "execution_count": 26,
   "metadata": {},
   "outputs": [
    {
     "data": {
      "text/plain": [
       "<matplotlib.axes._subplots.AxesSubplot at 0x7f3d9544b710>"
      ]
     },
     "execution_count": 26,
     "metadata": {},
     "output_type": "execute_result"
    },
    {
     "data": {
      "image/png": "[encoded data removed]",
      "text/plain": [
       "<Figure size 864x144 with 1 Axes>"
      ]
     },
     "metadata": {
      "needs_background": "light"
     },
     "output_type": "display_data"
    }
   ],
   "source": [
    "results.resid.plot(figsize=(12,2))"
   ]
  },
  {
   "cell_type": "markdown",
   "metadata": {},
   "source": [
    "## Divida a base em treino e teste"
   ]
  },
  {
   "cell_type": "code",
   "execution_count": 27,
   "metadata": {},
   "outputs": [
    {
     "data": {
      "text/plain": [
       "153"
      ]
     },
     "execution_count": 27,
     "metadata": {},
     "output_type": "execute_result"
    }
   ],
   "source": [
    "len(df)-21\n"
   ]
  },
  {
   "cell_type": "code",
   "execution_count": 28,
   "metadata": {},
   "outputs": [],
   "source": [
    "train = df.iloc[:153]\n",
    "test = df.iloc[153:]"
   ]
  },
  {
   "cell_type": "code",
   "execution_count": 29,
   "metadata": {},
   "outputs": [
    {
     "data": {
      "text/html": [
       "<div>\n",
       "<style scoped>\n",
       "    .dataframe tbody tr th:only-of-type {\n",
       "        vertical-align: middle;\n",
       "    }\n",
       "\n",
       "    .dataframe tbody tr th {\n",
       "        vertical-align: top;\n",
       "    }\n",
       "\n",
       "    .dataframe thead th {\n",
       "        text-align: right;\n",
       "    }\n",
       "</style>\n",
       "<table border=\"1\" class=\"dataframe\">\n",
       "  <thead>\n",
       "    <tr style=\"text-align: right;\">\n",
       "      <th></th>\n",
       "      <th>deaths</th>\n",
       "    </tr>\n",
       "  </thead>\n",
       "  <tbody>\n",
       "    <tr>\n",
       "      <th>2020-02-26</th>\n",
       "      <td>0.0</td>\n",
       "    </tr>\n",
       "    <tr>\n",
       "      <th>2020-02-27</th>\n",
       "      <td>0.0</td>\n",
       "    </tr>\n",
       "    <tr>\n",
       "      <th>2020-02-28</th>\n",
       "      <td>0.0</td>\n",
       "    </tr>\n",
       "    <tr>\n",
       "      <th>2020-02-29</th>\n",
       "      <td>0.0</td>\n",
       "    </tr>\n",
       "    <tr>\n",
       "      <th>2020-03-01</th>\n",
       "      <td>0.0</td>\n",
       "    </tr>\n",
       "    <tr>\n",
       "      <th>...</th>\n",
       "      <td>...</td>\n",
       "    </tr>\n",
       "    <tr>\n",
       "      <th>2020-07-23</th>\n",
       "      <td>362.0</td>\n",
       "    </tr>\n",
       "    <tr>\n",
       "      <th>2020-07-24</th>\n",
       "      <td>312.0</td>\n",
       "    </tr>\n",
       "    <tr>\n",
       "      <th>2020-07-25</th>\n",
       "      <td>311.0</td>\n",
       "    </tr>\n",
       "    <tr>\n",
       "      <th>2020-07-26</th>\n",
       "      <td>89.0</td>\n",
       "    </tr>\n",
       "    <tr>\n",
       "      <th>2020-07-27</th>\n",
       "      <td>70.0</td>\n",
       "    </tr>\n",
       "  </tbody>\n",
       "</table>\n",
       "<p>153 rows × 1 columns</p>\n",
       "</div>"
      ],
      "text/plain": [
       "            deaths\n",
       "2020-02-26     0.0\n",
       "2020-02-27     0.0\n",
       "2020-02-28     0.0\n",
       "2020-02-29     0.0\n",
       "2020-03-01     0.0\n",
       "...            ...\n",
       "2020-07-23   362.0\n",
       "2020-07-24   312.0\n",
       "2020-07-25   311.0\n",
       "2020-07-26    89.0\n",
       "2020-07-27    70.0\n",
       "\n",
       "[153 rows x 1 columns]"
      ]
     },
     "execution_count": 29,
     "metadata": {},
     "output_type": "execute_result"
    }
   ],
   "source": [
    "train"
   ]
  },
  {
   "cell_type": "markdown",
   "metadata": {},
   "source": [
    "## Importante: Os dados precisam estar padronizados"
   ]
  },
  {
   "cell_type": "code",
   "execution_count": 30,
   "metadata": {},
   "outputs": [],
   "source": [
    "from sklearn.preprocessing import MinMaxScaler"
   ]
  },
  {
   "cell_type": "code",
   "execution_count": 31,
   "metadata": {},
   "outputs": [],
   "source": [
    "scaler = MinMaxScaler()"
   ]
  },
  {
   "cell_type": "code",
   "execution_count": 32,
   "metadata": {},
   "outputs": [
    {
     "data": {
      "text/plain": [
       "MinMaxScaler(copy=True, feature_range=(0, 1))"
      ]
     },
     "execution_count": 32,
     "metadata": {},
     "output_type": "execute_result"
    }
   ],
   "source": [
    "scaler.fit(train)"
   ]
  },
  {
   "cell_type": "code",
   "execution_count": 33,
   "metadata": {},
   "outputs": [],
   "source": [
    "scaled_train = scaler.transform(train)\n",
    "scaled_test = scaler.transform(test)"
   ]
  },
  {
   "cell_type": "code",
   "execution_count": 34,
   "metadata": {},
   "outputs": [
    {
     "name": "stdout",
     "output_type": "stream",
     "text": [
      "0.0 1.0\n"
     ]
    }
   ],
   "source": [
    "print(scaled_train.min(),scaled_train.max())"
   ]
  },
  {
   "cell_type": "code",
   "execution_count": 35,
   "metadata": {},
   "outputs": [
    {
     "name": "stdout",
     "output_type": "stream",
     "text": [
      "0.08525345622119816 1.0483870967741935\n"
     ]
    }
   ],
   "source": [
    "print(scaled_test.min(),scaled_test.max())"
   ]
  },
  {
   "cell_type": "code",
   "execution_count": 36,
   "metadata": {},
   "outputs": [
    {
     "data": {
      "text/plain": [
       "(array([53., 23., 10.,  6., 17.,  4., 14., 15.,  7.,  4.]),\n",
       " array([0. , 0.1, 0.2, 0.3, 0.4, 0.5, 0.6, 0.7, 0.8, 0.9, 1. ]),\n",
       " <a list of 10 Patch objects>)"
      ]
     },
     "execution_count": 36,
     "metadata": {},
     "output_type": "execute_result"
    },
    {
     "data": {
      "image/png": "[encoded data removed]",
      "text/plain": [
       "<Figure size 432x288 with 1 Axes>"
      ]
     },
     "metadata": {
      "needs_background": "light"
     },
     "output_type": "display_data"
    }
   ],
   "source": [
    "plt.hist(scaled_train)"
   ]
  },
  {
   "cell_type": "markdown",
   "metadata": {},
   "source": [
    "### Gerador de séries temporais\n"
   ]
  },
  {
   "cell_type": "code",
   "execution_count": 37,
   "metadata": {},
   "outputs": [],
   "source": [
    "from keras.preprocessing.sequence import TimeseriesGenerator"
   ]
  },
  {
   "cell_type": "markdown",
   "metadata": {},
   "source": [
    "Sobre o gerador de séries temporais:\n",
    "https://www.tensorflow.org/api_docs/python/tf/keras/preprocessing/sequence/TimeseriesGenerator\n",
    "\n",
    "Utility class for generating batches of temporal data.\n",
    "\n",
    "This class takes in a sequence of data-points gathered at equal intervals, along with time series parameters such as stride, length of history, etc., to produce batches for training/validation. Arguments\n",
    "\n",
    "- data: Indexable generator (such as list or Numpy array) containing consecutive data points (timesteps). The data should be at 2D, and axis 0 is expected to be the time dimension.\n",
    "    \n",
    "- targets: Targets corresponding to timesteps in data. It should have same length as data.\n",
    "    \n",
    "- length: Length of the output sequences (in number of timesteps).\n",
    "        \n",
    "- sampling_rate: Period between successive individual timesteps within sequences. For rate r, timesteps data[i], data[i-r], ... data[i - length] are used for create a sample sequence.\n",
    "    \n",
    "- stride: Period between successive output sequences. For stride s, consecutive output samples would be centered around data[i], data[i+s], data[i+2*s], etc.\n",
    "    \n",
    "- start_index: Data points earlier than start_index will not be used in the output sequences. This is useful to reserve part of the data for test or validation.\n",
    "    \n",
    "- end_index: Data points later than end_index will not be used in the output sequences. This is useful to reserve part of the data for test or validation.\n",
    "    \n",
    "- shuffle: Whether to shuffle output samples, or instead draw them in chronological order.\n",
    "    \n",
    "- reverse: Boolean: if true, timesteps in each output sample will be in reverse chronological order.\n",
    "    \n",
    "- batch_size: Number of timeseries samples in each batch (except maybe the last one).\n",
    "    \n"
   ]
  },
  {
   "cell_type": "code",
   "execution_count": 38,
   "metadata": {},
   "outputs": [],
   "source": [
    "# defina o gerador\n",
    "n_input = 2\n",
    "n_features = 1\n",
    "generator = TimeseriesGenerator(scaled_train, scaled_train, length=n_input, batch_size=1)"
   ]
  },
  {
   "cell_type": "code",
   "execution_count": 39,
   "metadata": {},
   "outputs": [
    {
     "data": {
      "text/plain": [
       "153"
      ]
     },
     "execution_count": 39,
     "metadata": {},
     "output_type": "execute_result"
    }
   ],
   "source": [
    "len(scaled_train)"
   ]
  },
  {
   "cell_type": "code",
   "execution_count": 40,
   "metadata": {},
   "outputs": [
    {
     "data": {
      "text/plain": [
       "151"
      ]
     },
     "execution_count": 40,
     "metadata": {},
     "output_type": "execute_result"
    }
   ],
   "source": [
    "len(generator) # n_input = 2"
   ]
  },
  {
   "cell_type": "code",
   "execution_count": 41,
   "metadata": {},
   "outputs": [],
   "source": [
    "# Vamos redefinir lotes de tamanho 21 para o procedimento iterativo\n",
    "# Veja mais informações sobre o tamanho do lote http://deeplearningbook.com.br/o-efeito-do-batch-size-no-treinamento-de-redes-neurais-artificiais/\n",
    "\n",
    "n_input = 7\n",
    "generator = TimeseriesGenerator(scaled_train, scaled_train, length=n_input, batch_size=2)"
   ]
  },
  {
   "cell_type": "code",
   "execution_count": 42,
   "metadata": {},
   "outputs": [],
   "source": [
    "# Qual é a aparência do primeiro lote?\n",
    "X,y = generator[0]"
   ]
  },
  {
   "cell_type": "code",
   "execution_count": 43,
   "metadata": {},
   "outputs": [
    {
     "name": "stdout",
     "output_type": "stream",
     "text": [
      "Dado o array: \n",
      "[0. 0. 0. 0. 0. 0. 0. 0. 0. 0. 0. 0. 0. 0.]\n",
      "Previsão: \n",
      " [[0.]\n",
      " [0.]]\n"
     ]
    }
   ],
   "source": [
    "print(f'Dado o array: \\n{X.flatten()}');\n",
    "print(f'Previsão: \\n {y}');"
   ]
  },
  {
   "cell_type": "markdown",
   "metadata": {},
   "source": [
    "### Crie o modelo"
   ]
  },
  {
   "cell_type": "code",
   "execution_count": 44,
   "metadata": {},
   "outputs": [],
   "source": [
    "from keras.models import Sequential\n",
    "from keras.layers import Dense\n",
    "from keras.layers import LSTM"
   ]
  },
  {
   "cell_type": "code",
   "execution_count": 45,
   "metadata": {},
   "outputs": [],
   "source": [
    "# Defina o modelo\n",
    "model = Sequential()\n",
    "model.add(LSTM(100, activation='relu', input_shape=(n_input, n_features)))\n",
    "model.add(Dense(1))\n",
    "model.compile(optimizer='adam', loss='mse')"
   ]
  },
  {
   "cell_type": "code",
   "execution_count": 46,
   "metadata": {},
   "outputs": [
    {
     "name": "stdout",
     "output_type": "stream",
     "text": [
      "Model: \"sequential_1\"\n",
      "_________________________________________________________________\n",
      "Layer (type)                 Output Shape              Param #   \n",
      "=================================================================\n",
      "lstm (LSTM)                  (None, 100)               40800     \n",
      "_________________________________________________________________\n",
      "dense_3 (Dense)              (None, 1)                 101       \n",
      "=================================================================\n",
      "Total params: 40,901\n",
      "Trainable params: 40,901\n",
      "Non-trainable params: 0\n",
      "_________________________________________________________________\n"
     ]
    }
   ],
   "source": [
    "model.summary()"
   ]
  },
  {
   "cell_type": "code",
   "execution_count": 47,
   "metadata": {},
   "outputs": [
    {
     "name": "stdout",
     "output_type": "stream",
     "text": [
      "WARNING:tensorflow:From <ipython-input-47-5e7daf52724a>:3: Model.fit_generator (from tensorflow.python.keras.engine.training) is deprecated and will be removed in a future version.\n",
      "Instructions for updating:\n",
      "Please use Model.fit, which supports generators.\n",
      "Epoch 1/100\n",
      "73/73 [==============================] - 0s 5ms/step - loss: 0.0750\n",
      "Epoch 2/100\n",
      "73/73 [==============================] - 0s 5ms/step - loss: 0.0469\n",
      "Epoch 3/100\n",
      "73/73 [==============================] - 0s 4ms/step - loss: 0.0402\n",
      "Epoch 4/100\n",
      "73/73 [==============================] - 0s 4ms/step - loss: 0.0362\n",
      "Epoch 5/100\n",
      "73/73 [==============================] - 0s 6ms/step - loss: 0.0333\n",
      "Epoch 6/100\n",
      "73/73 [==============================] - 0s 5ms/step - loss: 0.0306\n",
      "Epoch 7/100\n",
      "73/73 [==============================] - 0s 5ms/step - loss: 0.0247\n",
      "Epoch 8/100\n",
      "73/73 [==============================] - 0s 4ms/step - loss: 0.0226\n",
      "Epoch 9/100\n",
      "73/73 [==============================] - 0s 6ms/step - loss: 0.0223\n",
      "Epoch 10/100\n",
      "73/73 [==============================] - 1s 8ms/step - loss: 0.0173\n",
      "Epoch 11/100\n",
      "73/73 [==============================] - 1s 9ms/step - loss: 0.0161\n",
      "Epoch 12/100\n",
      "73/73 [==============================] - 1s 8ms/step - loss: 0.0163\n",
      "Epoch 13/100\n",
      "73/73 [==============================] - 1s 7ms/step - loss: 0.0193\n",
      "Epoch 14/100\n",
      "73/73 [==============================] - 0s 6ms/step - loss: 0.0141\n",
      "Epoch 15/100\n",
      "73/73 [==============================] - 0s 6ms/step - loss: 0.0133\n",
      "Epoch 16/100\n",
      "73/73 [==============================] - 1s 9ms/step - loss: 0.0137\n",
      "Epoch 17/100\n",
      "73/73 [==============================] - 1s 8ms/step - loss: 0.0134\n",
      "Epoch 18/100\n",
      "73/73 [==============================] - 1s 8ms/step - loss: 0.0149\n",
      "Epoch 19/100\n",
      "73/73 [==============================] - 0s 5ms/step - loss: 0.0123\n",
      "Epoch 20/100\n",
      "73/73 [==============================] - 1s 7ms/step - loss: 0.0123\n",
      "Epoch 21/100\n",
      "73/73 [==============================] - 0s 5ms/step - loss: 0.0111\n",
      "Epoch 22/100\n",
      "73/73 [==============================] - 0s 6ms/step - loss: 0.0137\n",
      "Epoch 23/100\n",
      "73/73 [==============================] - 0s 5ms/step - loss: 0.0126\n",
      "Epoch 24/100\n",
      "73/73 [==============================] - 0s 5ms/step - loss: 0.0113\n",
      "Epoch 25/100\n",
      "73/73 [==============================] - 1s 7ms/step - loss: 0.0152\n",
      "Epoch 26/100\n",
      "73/73 [==============================] - 0s 6ms/step - loss: 0.0140\n",
      "Epoch 27/100\n",
      "73/73 [==============================] - 0s 5ms/step - loss: 0.0124\n",
      "Epoch 28/100\n",
      "73/73 [==============================] - 0s 5ms/step - loss: 0.0128\n",
      "Epoch 29/100\n",
      "73/73 [==============================] - 0s 5ms/step - loss: 0.0105\n",
      "Epoch 30/100\n",
      "73/73 [==============================] - 1s 7ms/step - loss: 0.0111\n",
      "Epoch 31/100\n",
      "73/73 [==============================] - 0s 6ms/step - loss: 0.0103\n",
      "Epoch 32/100\n",
      "73/73 [==============================] - 0s 6ms/step - loss: 0.0110\n",
      "Epoch 33/100\n",
      "73/73 [==============================] - 0s 5ms/step - loss: 0.0108\n",
      "Epoch 34/100\n",
      "73/73 [==============================] - 0s 6ms/step - loss: 0.0116\n",
      "Epoch 35/100\n",
      "73/73 [==============================] - 0s 5ms/step - loss: 0.0131\n",
      "Epoch 36/100\n",
      "73/73 [==============================] - 0s 5ms/step - loss: 0.0105\n",
      "Epoch 37/100\n",
      "73/73 [==============================] - 0s 4ms/step - loss: 0.0109\n",
      "Epoch 38/100\n",
      "73/73 [==============================] - 0s 4ms/step - loss: 0.0104\n",
      "Epoch 39/100\n",
      "73/73 [==============================] - 0s 4ms/step - loss: 0.0117\n",
      "Epoch 40/100\n",
      "73/73 [==============================] - 0s 4ms/step - loss: 0.0109\n",
      "Epoch 41/100\n",
      "73/73 [==============================] - 0s 4ms/step - loss: 0.0106\n",
      "Epoch 42/100\n",
      "73/73 [==============================] - 0s 4ms/step - loss: 0.0108\n",
      "Epoch 43/100\n",
      "73/73 [==============================] - 0s 5ms/step - loss: 0.0103\n",
      "Epoch 44/100\n",
      "73/73 [==============================] - 0s 5ms/step - loss: 0.0110\n",
      "Epoch 45/100\n",
      "73/73 [==============================] - 0s 5ms/step - loss: 0.0099\n",
      "Epoch 46/100\n",
      "73/73 [==============================] - 0s 4ms/step - loss: 0.0104\n",
      "Epoch 47/100\n",
      "73/73 [==============================] - 0s 4ms/step - loss: 0.0104\n",
      "Epoch 48/100\n",
      "73/73 [==============================] - 0s 4ms/step - loss: 0.0100\n",
      "Epoch 49/100\n",
      "73/73 [==============================] - 0s 5ms/step - loss: 0.0114\n",
      "Epoch 50/100\n",
      "73/73 [==============================] - 0s 4ms/step - loss: 0.0094\n",
      "Epoch 51/100\n",
      "73/73 [==============================] - 0s 6ms/step - loss: 0.0103\n",
      "Epoch 52/100\n",
      "73/73 [==============================] - 1s 8ms/step - loss: 0.0103\n",
      "Epoch 53/100\n",
      "73/73 [==============================] - 0s 4ms/step - loss: 0.0094\n",
      "Epoch 54/100\n",
      "73/73 [==============================] - 0s 5ms/step - loss: 0.0100\n",
      "Epoch 55/100\n",
      "73/73 [==============================] - 0s 4ms/step - loss: 0.0091\n",
      "Epoch 56/100\n",
      "73/73 [==============================] - 0s 5ms/step - loss: 0.0096\n",
      "Epoch 57/100\n",
      "73/73 [==============================] - 0s 6ms/step - loss: 0.0089\n",
      "Epoch 58/100\n",
      "73/73 [==============================] - 0s 5ms/step - loss: 0.0090\n",
      "Epoch 59/100\n",
      "73/73 [==============================] - 0s 4ms/step - loss: 0.0101\n",
      "Epoch 60/100\n",
      "73/73 [==============================] - 0s 6ms/step - loss: 0.0089\n",
      "Epoch 61/100\n",
      "73/73 [==============================] - 0s 5ms/step - loss: 0.0097\n",
      "Epoch 62/100\n",
      "73/73 [==============================] - 0s 5ms/step - loss: 0.0094\n",
      "Epoch 63/100\n",
      "73/73 [==============================] - 0s 5ms/step - loss: 0.0093\n",
      "Epoch 64/100\n",
      "73/73 [==============================] - 0s 5ms/step - loss: 0.0089\n",
      "Epoch 65/100\n",
      "73/73 [==============================] - 0s 4ms/step - loss: 0.0090\n",
      "Epoch 66/100\n",
      "73/73 [==============================] - 0s 4ms/step - loss: 0.0089\n",
      "Epoch 67/100\n",
      "73/73 [==============================] - 0s 4ms/step - loss: 0.0093\n",
      "Epoch 68/100\n",
      "73/73 [==============================] - 0s 5ms/step - loss: 0.0085\n",
      "Epoch 69/100\n",
      "73/73 [==============================] - 0s 5ms/step - loss: 0.0086\n",
      "Epoch 70/100\n",
      "73/73 [==============================] - 0s 5ms/step - loss: 0.0082\n",
      "Epoch 71/100\n",
      "73/73 [==============================] - 0s 5ms/step - loss: 0.0083\n",
      "Epoch 72/100\n",
      "73/73 [==============================] - 0s 5ms/step - loss: 0.0091\n",
      "Epoch 73/100\n",
      "73/73 [==============================] - 0s 5ms/step - loss: 0.0093\n",
      "Epoch 74/100\n",
      "73/73 [==============================] - 0s 4ms/step - loss: 0.0096\n",
      "Epoch 75/100\n",
      "73/73 [==============================] - 0s 4ms/step - loss: 0.0093\n",
      "Epoch 76/100\n",
      "73/73 [==============================] - 0s 4ms/step - loss: 0.0094\n",
      "Epoch 77/100\n",
      "73/73 [==============================] - 0s 4ms/step - loss: 0.0085\n",
      "Epoch 78/100\n",
      "73/73 [==============================] - 0s 5ms/step - loss: 0.0094\n",
      "Epoch 79/100\n",
      "73/73 [==============================] - 0s 5ms/step - loss: 0.0087\n",
      "Epoch 80/100\n",
      "73/73 [==============================] - 0s 6ms/step - loss: 0.0084\n",
      "Epoch 81/100\n",
      "73/73 [==============================] - 0s 5ms/step - loss: 0.0074\n",
      "Epoch 82/100\n",
      "73/73 [==============================] - 0s 5ms/step - loss: 0.0080\n",
      "Epoch 83/100\n",
      "73/73 [==============================] - 0s 5ms/step - loss: 0.0084\n",
      "Epoch 84/100\n",
      "73/73 [==============================] - 0s 5ms/step - loss: 0.0079\n",
      "Epoch 85/100\n",
      "73/73 [==============================] - 0s 4ms/step - loss: 0.0084\n",
      "Epoch 86/100\n",
      "73/73 [==============================] - 0s 4ms/step - loss: 0.0078\n",
      "Epoch 87/100\n",
      "73/73 [==============================] - 0s 6ms/step - loss: 0.0094\n",
      "Epoch 88/100\n",
      "73/73 [==============================] - 0s 5ms/step - loss: 0.0081\n",
      "Epoch 89/100\n",
      "73/73 [==============================] - 0s 6ms/step - loss: 0.0079\n",
      "Epoch 90/100\n",
      "73/73 [==============================] - 0s 4ms/step - loss: 0.0078\n",
      "Epoch 91/100\n",
      "73/73 [==============================] - 0s 5ms/step - loss: 0.0078\n",
      "Epoch 92/100\n",
      "73/73 [==============================] - 0s 5ms/step - loss: 0.0077\n",
      "Epoch 93/100\n",
      "73/73 [==============================] - 0s 5ms/step - loss: 0.0073\n",
      "Epoch 94/100\n",
      "73/73 [==============================] - 0s 4ms/step - loss: 0.0094\n",
      "Epoch 95/100\n",
      "73/73 [==============================] - 0s 5ms/step - loss: 0.0078\n",
      "Epoch 96/100\n",
      "73/73 [==============================] - 0s 4ms/step - loss: 0.0081\n",
      "Epoch 97/100\n",
      "73/73 [==============================] - 0s 4ms/step - loss: 0.0075\n",
      "Epoch 98/100\n",
      "73/73 [==============================] - 0s 4ms/step - loss: 0.0082\n",
      "Epoch 99/100\n"
     ]
    },
    {
     "name": "stdout",
     "output_type": "stream",
     "text": [
      "73/73 [==============================] - 0s 5ms/step - loss: 0.0085\n",
      "Epoch 100/100\n",
      "73/73 [==============================] - 0s 5ms/step - loss: 0.0084\n"
     ]
    },
    {
     "data": {
      "text/plain": [
       "<tensorflow.python.keras.callbacks.History at 0x7f3d952a78d0>"
      ]
     },
     "execution_count": 47,
     "metadata": {},
     "output_type": "execute_result"
    }
   ],
   "source": [
    "# Ajuste do modelo\n",
    "\n",
    "model.fit_generator(generator,epochs=100)"
   ]
  },
  {
   "cell_type": "code",
   "execution_count": 48,
   "metadata": {},
   "outputs": [
    {
     "data": {
      "text/plain": [
       "dict_keys(['loss'])"
      ]
     },
     "execution_count": 48,
     "metadata": {},
     "output_type": "execute_result"
    }
   ],
   "source": [
    "model.history.history.keys()"
   ]
  },
  {
   "cell_type": "code",
   "execution_count": 49,
   "metadata": {},
   "outputs": [
    {
     "data": {
      "text/plain": [
       "[<matplotlib.lines.Line2D at 0x7f3d952909d0>]"
      ]
     },
     "execution_count": 49,
     "metadata": {},
     "output_type": "execute_result"
    },
    {
     "data": {
      "image/png": "[encoded data removed]",
      "text/plain": [
       "<Figure size 432x288 with 1 Axes>"
      ]
     },
     "metadata": {
      "needs_background": "light"
     },
     "output_type": "display_data"
    }
   ],
   "source": [
    "loss_per_epoch = model.history.history['loss']\n",
    "plt.plot(range(len(loss_per_epoch)),loss_per_epoch)"
   ]
  },
  {
   "cell_type": "markdown",
   "metadata": {},
   "source": [
    "## Avalie em dados de teste"
   ]
  },
  {
   "cell_type": "code",
   "execution_count": 50,
   "metadata": {},
   "outputs": [],
   "source": [
    "# Vejamos passo a passo como é feita a previsão, a princípio para a próxima observação usando o tamanho do lote igual a 7\n",
    "\n",
    "first_eval_batch = scaled_train[-7:]"
   ]
  },
  {
   "cell_type": "code",
   "execution_count": 51,
   "metadata": {},
   "outputs": [
    {
     "data": {
      "text/plain": [
       "array([[0.88248848],\n",
       "       [0.83179724],\n",
       "       [0.83410138],\n",
       "       [0.71889401],\n",
       "       [0.71658986],\n",
       "       [0.20506912],\n",
       "       [0.16129032]])"
      ]
     },
     "execution_count": 51,
     "metadata": {},
     "output_type": "execute_result"
    }
   ],
   "source": [
    "first_eval_batch"
   ]
  },
  {
   "cell_type": "code",
   "execution_count": 52,
   "metadata": {},
   "outputs": [],
   "source": [
    "first_eval_batch = first_eval_batch.reshape((1, n_input, n_features))"
   ]
  },
  {
   "cell_type": "code",
   "execution_count": 53,
   "metadata": {},
   "outputs": [
    {
     "data": {
      "text/plain": [
       "array([[0.8230552]], dtype=float32)"
      ]
     },
     "execution_count": 53,
     "metadata": {},
     "output_type": "execute_result"
    }
   ],
   "source": [
    "model.predict(first_eval_batch)"
   ]
  },
  {
   "cell_type": "code",
   "execution_count": 54,
   "metadata": {},
   "outputs": [
    {
     "data": {
      "text/plain": [
       "array([0.88248848])"
      ]
     },
     "execution_count": 54,
     "metadata": {},
     "output_type": "execute_result"
    }
   ],
   "source": [
    "scaled_test[0]"
   ]
  },
  {
   "cell_type": "code",
   "execution_count": 55,
   "metadata": {},
   "outputs": [],
   "source": [
    "test_predictions = []\n",
    "\n",
    "first_eval_batch = scaled_train[-n_input:]\n",
    "current_batch = first_eval_batch.reshape((1, n_input, n_features))"
   ]
  },
  {
   "cell_type": "code",
   "execution_count": 56,
   "metadata": {},
   "outputs": [
    {
     "data": {
      "text/plain": [
       "(1, 7, 1)"
      ]
     },
     "execution_count": 56,
     "metadata": {},
     "output_type": "execute_result"
    }
   ],
   "source": [
    "current_batch.shape"
   ]
  },
  {
   "cell_type": "code",
   "execution_count": 57,
   "metadata": {},
   "outputs": [
    {
     "data": {
      "text/plain": [
       "array([[[0.88248848],\n",
       "        [0.83179724],\n",
       "        [0.83410138],\n",
       "        [0.71889401],\n",
       "        [0.71658986],\n",
       "        [0.20506912],\n",
       "        [0.16129032]]])"
      ]
     },
     "execution_count": 57,
     "metadata": {},
     "output_type": "execute_result"
    }
   ],
   "source": [
    "current_batch"
   ]
  },
  {
   "cell_type": "code",
   "execution_count": 58,
   "metadata": {},
   "outputs": [
    {
     "data": {
      "text/plain": [
       "array([[[ 0.83179724],\n",
       "        [ 0.83410138],\n",
       "        [ 0.71889401],\n",
       "        [ 0.71658986],\n",
       "        [ 0.20506912],\n",
       "        [ 0.16129032],\n",
       "        [99.        ]]])"
      ]
     },
     "execution_count": 58,
     "metadata": {},
     "output_type": "execute_result"
    }
   ],
   "source": [
    "np.append(current_batch[:,1:,:],[[[99]]],axis=1)"
   ]
  },
  {
   "cell_type": "code",
   "execution_count": 59,
   "metadata": {},
   "outputs": [],
   "source": [
    "# Agora vamos considerar as previsões para as próximas 21 observações e comparar com a base de teste\n",
    "\n",
    "test_predictions = []\n",
    "\n",
    "first_eval_batch = scaled_train[-n_input:]\n",
    "current_batch = first_eval_batch.reshape((1, n_input, n_features))\n",
    "\n",
    "for i in range(len(test)):\n",
    "    \n",
    "    # obter a previsão de tempo 1 antecipadamente ([0] é para pegar apenas o número em vez de [array])\n",
    "    current_pred = model.predict(current_batch)[0]\n",
    "    \n",
    "    # predição\n",
    "    test_predictions.append(current_pred) \n",
    "    \n",
    "    # atualize a rodada para agora incluir a previsão e descartar o primeiro valor\n",
    "    current_batch = np.append(current_batch[:,1:,:],[[current_pred]],axis=1)"
   ]
  },
  {
   "cell_type": "code",
   "execution_count": 60,
   "metadata": {},
   "outputs": [
    {
     "data": {
      "text/plain": [
       "[array([0.8230552], dtype=float32),\n",
       " array([0.7286295], dtype=float32),\n",
       " array([0.6954801], dtype=float32),\n",
       " array([0.6390744], dtype=float32),\n",
       " array([0.5796727], dtype=float32),\n",
       " array([0.20879461], dtype=float32),\n",
       " array([0.11702674], dtype=float32),\n",
       " array([0.7281073], dtype=float32),\n",
       " array([0.6496978], dtype=float32),\n",
       " array([0.6248898], dtype=float32),\n",
       " array([0.56916684], dtype=float32),\n",
       " array([0.5275231], dtype=float32),\n",
       " array([0.21944857], dtype=float32),\n",
       " array([0.13783383], dtype=float32),\n",
       " array([0.6657333], dtype=float32),\n",
       " array([0.60702676], dtype=float32),\n",
       " array([0.5841852], dtype=float32),\n",
       " array([0.54176027], dtype=float32),\n",
       " array([0.5069395], dtype=float32),\n",
       " array([0.21534875], dtype=float32),\n",
       " array([0.1375435], dtype=float32)]"
      ]
     },
     "execution_count": 60,
     "metadata": {},
     "output_type": "execute_result"
    }
   ],
   "source": [
    "test_predictions"
   ]
  },
  {
   "cell_type": "code",
   "execution_count": 61,
   "metadata": {},
   "outputs": [
    {
     "data": {
      "text/plain": [
       "array([[0.88248848],\n",
       "       [0.76036866],\n",
       "       [0.73963134],\n",
       "       [0.66129032],\n",
       "       [0.55069124],\n",
       "       [0.18663594],\n",
       "       [0.11059908],\n",
       "       [0.7764977 ],\n",
       "       [0.93778802],\n",
       "       [0.78110599],\n",
       "       [0.66129032],\n",
       "       [0.64746544],\n",
       "       [0.22580645],\n",
       "       [0.08525346],\n",
       "       [0.96774194],\n",
       "       [0.68663594],\n",
       "       [1.0483871 ],\n",
       "       [0.66589862],\n",
       "       [0.38479263],\n",
       "       [0.16589862],\n",
       "       [0.10829493]])"
      ]
     },
     "execution_count": 61,
     "metadata": {},
     "output_type": "execute_result"
    }
   ],
   "source": [
    "scaled_test"
   ]
  },
  {
   "cell_type": "markdown",
   "metadata": {},
   "source": [
    "## Retorno da padronização e comparação"
   ]
  },
  {
   "cell_type": "code",
   "execution_count": 62,
   "metadata": {},
   "outputs": [],
   "source": [
    "true_predictions = scaler.inverse_transform(test_predictions)"
   ]
  },
  {
   "cell_type": "code",
   "execution_count": 63,
   "metadata": {},
   "outputs": [
    {
     "data": {
      "text/plain": [
       "array([[357.20596015],\n",
       "       [316.22521579],\n",
       "       [301.83836699],\n",
       "       [277.35828316],\n",
       "       [251.57794929],\n",
       "       [ 90.61686018],\n",
       "       [ 50.78960465],\n",
       "       [315.99855673],\n",
       "       [281.96883678],\n",
       "       [271.2021693 ],\n",
       "       [247.01840818],\n",
       "       [228.94502556],\n",
       "       [ 95.24067783],\n",
       "       [ 59.81988382],\n",
       "       [288.92824256],\n",
       "       [263.44961202],\n",
       "       [253.53636944],\n",
       "       [235.12395537],\n",
       "       [220.01173031],\n",
       "       [ 93.46135765],\n",
       "       [ 59.69387877]])"
      ]
     },
     "execution_count": 63,
     "metadata": {},
     "output_type": "execute_result"
    }
   ],
   "source": [
    "true_predictions"
   ]
  },
  {
   "cell_type": "code",
   "execution_count": 64,
   "metadata": {},
   "outputs": [
    {
     "name": "stderr",
     "output_type": "stream",
     "text": [
      "/home/cibele/anaconda3/lib/python3.7/site-packages/ipykernel_launcher.py:2: SettingWithCopyWarning: \n",
      "A value is trying to be set on a copy of a slice from a DataFrame.\n",
      "Try using .loc[row_indexer,col_indexer] = value instead\n",
      "\n",
      "See the caveats in the documentation: https://pandas.pydata.org/pandas-docs/stable/user_guide/indexing.html#returning-a-view-versus-a-copy\n",
      "  \n"
     ]
    }
   ],
   "source": [
    "# Possivelmente encontraremos warnings aqui\n",
    "test['Predictions'] = true_predictions"
   ]
  },
  {
   "cell_type": "code",
   "execution_count": 65,
   "metadata": {},
   "outputs": [
    {
     "data": {
      "text/html": [
       "<div>\n",
       "<style scoped>\n",
       "    .dataframe tbody tr th:only-of-type {\n",
       "        vertical-align: middle;\n",
       "    }\n",
       "\n",
       "    .dataframe tbody tr th {\n",
       "        vertical-align: top;\n",
       "    }\n",
       "\n",
       "    .dataframe thead th {\n",
       "        text-align: right;\n",
       "    }\n",
       "</style>\n",
       "<table border=\"1\" class=\"dataframe\">\n",
       "  <thead>\n",
       "    <tr style=\"text-align: right;\">\n",
       "      <th></th>\n",
       "      <th>deaths</th>\n",
       "      <th>Predictions</th>\n",
       "    </tr>\n",
       "  </thead>\n",
       "  <tbody>\n",
       "    <tr>\n",
       "      <th>2020-07-28</th>\n",
       "      <td>383.0</td>\n",
       "      <td>357.205960</td>\n",
       "    </tr>\n",
       "    <tr>\n",
       "      <th>2020-07-29</th>\n",
       "      <td>330.0</td>\n",
       "      <td>316.225216</td>\n",
       "    </tr>\n",
       "    <tr>\n",
       "      <th>2020-07-30</th>\n",
       "      <td>321.0</td>\n",
       "      <td>301.838367</td>\n",
       "    </tr>\n",
       "    <tr>\n",
       "      <th>2020-07-31</th>\n",
       "      <td>287.0</td>\n",
       "      <td>277.358283</td>\n",
       "    </tr>\n",
       "    <tr>\n",
       "      <th>2020-08-01</th>\n",
       "      <td>239.0</td>\n",
       "      <td>251.577949</td>\n",
       "    </tr>\n",
       "    <tr>\n",
       "      <th>2020-08-02</th>\n",
       "      <td>81.0</td>\n",
       "      <td>90.616860</td>\n",
       "    </tr>\n",
       "    <tr>\n",
       "      <th>2020-08-03</th>\n",
       "      <td>48.0</td>\n",
       "      <td>50.789605</td>\n",
       "    </tr>\n",
       "    <tr>\n",
       "      <th>2020-08-04</th>\n",
       "      <td>337.0</td>\n",
       "      <td>315.998557</td>\n",
       "    </tr>\n",
       "    <tr>\n",
       "      <th>2020-08-05</th>\n",
       "      <td>407.0</td>\n",
       "      <td>281.968837</td>\n",
       "    </tr>\n",
       "    <tr>\n",
       "      <th>2020-08-06</th>\n",
       "      <td>339.0</td>\n",
       "      <td>271.202169</td>\n",
       "    </tr>\n",
       "    <tr>\n",
       "      <th>2020-08-07</th>\n",
       "      <td>287.0</td>\n",
       "      <td>247.018408</td>\n",
       "    </tr>\n",
       "    <tr>\n",
       "      <th>2020-08-08</th>\n",
       "      <td>281.0</td>\n",
       "      <td>228.945026</td>\n",
       "    </tr>\n",
       "    <tr>\n",
       "      <th>2020-08-09</th>\n",
       "      <td>98.0</td>\n",
       "      <td>95.240678</td>\n",
       "    </tr>\n",
       "    <tr>\n",
       "      <th>2020-08-10</th>\n",
       "      <td>37.0</td>\n",
       "      <td>59.819884</td>\n",
       "    </tr>\n",
       "    <tr>\n",
       "      <th>2020-08-11</th>\n",
       "      <td>420.0</td>\n",
       "      <td>288.928243</td>\n",
       "    </tr>\n",
       "    <tr>\n",
       "      <th>2020-08-12</th>\n",
       "      <td>298.0</td>\n",
       "      <td>263.449612</td>\n",
       "    </tr>\n",
       "    <tr>\n",
       "      <th>2020-08-13</th>\n",
       "      <td>455.0</td>\n",
       "      <td>253.536369</td>\n",
       "    </tr>\n",
       "    <tr>\n",
       "      <th>2020-08-14</th>\n",
       "      <td>289.0</td>\n",
       "      <td>235.123955</td>\n",
       "    </tr>\n",
       "    <tr>\n",
       "      <th>2020-08-15</th>\n",
       "      <td>167.0</td>\n",
       "      <td>220.011730</td>\n",
       "    </tr>\n",
       "    <tr>\n",
       "      <th>2020-08-16</th>\n",
       "      <td>72.0</td>\n",
       "      <td>93.461358</td>\n",
       "    </tr>\n",
       "    <tr>\n",
       "      <th>2020-08-17</th>\n",
       "      <td>47.0</td>\n",
       "      <td>59.693879</td>\n",
       "    </tr>\n",
       "  </tbody>\n",
       "</table>\n",
       "</div>"
      ],
      "text/plain": [
       "            deaths  Predictions\n",
       "2020-07-28   383.0   357.205960\n",
       "2020-07-29   330.0   316.225216\n",
       "2020-07-30   321.0   301.838367\n",
       "2020-07-31   287.0   277.358283\n",
       "2020-08-01   239.0   251.577949\n",
       "2020-08-02    81.0    90.616860\n",
       "2020-08-03    48.0    50.789605\n",
       "2020-08-04   337.0   315.998557\n",
       "2020-08-05   407.0   281.968837\n",
       "2020-08-06   339.0   271.202169\n",
       "2020-08-07   287.0   247.018408\n",
       "2020-08-08   281.0   228.945026\n",
       "2020-08-09    98.0    95.240678\n",
       "2020-08-10    37.0    59.819884\n",
       "2020-08-11   420.0   288.928243\n",
       "2020-08-12   298.0   263.449612\n",
       "2020-08-13   455.0   253.536369\n",
       "2020-08-14   289.0   235.123955\n",
       "2020-08-15   167.0   220.011730\n",
       "2020-08-16    72.0    93.461358\n",
       "2020-08-17    47.0    59.693879"
      ]
     },
     "execution_count": 65,
     "metadata": {},
     "output_type": "execute_result"
    }
   ],
   "source": [
    "test"
   ]
  },
  {
   "cell_type": "code",
   "execution_count": 66,
   "metadata": {},
   "outputs": [
    {
     "data": {
      "text/plain": [
       "<matplotlib.axes._subplots.AxesSubplot at 0x7f3d944e3590>"
      ]
     },
     "execution_count": 66,
     "metadata": {},
     "output_type": "execute_result"
    },
    {
     "data": {
      "image/png": "[encoded data removed]",
      "text/plain": [
       "<Figure size 864x576 with 1 Axes>"
      ]
     },
     "metadata": {
      "needs_background": "light"
     },
     "output_type": "display_data"
    }
   ],
   "source": [
    "test.plot(figsize=(12,8))"
   ]
  },
  {
   "cell_type": "markdown",
   "metadata": {},
   "source": [
    "# Você pode salvar suas previsões"
   ]
  },
  {
   "cell_type": "code",
   "execution_count": 67,
   "metadata": {},
   "outputs": [],
   "source": [
    "model.save('my_rnn_model.h5')"
   ]
  },
  {
   "cell_type": "markdown",
   "metadata": {},
   "source": [
    "## E carregá-las depois"
   ]
  },
  {
   "cell_type": "code",
   "execution_count": 68,
   "metadata": {},
   "outputs": [],
   "source": [
    "from keras.models import load_model\n",
    "new_model = load_model('my_rnn_model.h5')"
   ]
  },
  {
   "cell_type": "code",
   "execution_count": 69,
   "metadata": {},
   "outputs": [
    {
     "name": "stdout",
     "output_type": "stream",
     "text": [
      "Model: \"sequential_1\"\n",
      "_________________________________________________________________\n",
      "Layer (type)                 Output Shape              Param #   \n",
      "=================================================================\n",
      "lstm (LSTM)                  (None, 100)               40800     \n",
      "_________________________________________________________________\n",
      "dense_3 (Dense)              (None, 1)                 101       \n",
      "=================================================================\n",
      "Total params: 40,901\n",
      "Trainable params: 40,901\n",
      "Non-trainable params: 0\n",
      "_________________________________________________________________\n"
     ]
    }
   ],
   "source": [
    "new_model.summary()"
   ]
  },
  {
   "cell_type": "markdown",
   "metadata": {},
   "source": [
    "Outras formas de modelagem de séries temporais usando redes neurais artificiais:\n",
    "\n",
    "- https://ai.facebook.com/blog/ar-net-a-simple-autoregressive-neural-network-for-time-series/\n",
    "\n",
    "- https://otexts.com/fpp2/nnetar.html\n",
    "\n"
   ]
  },
  {
   "cell_type": "code",
   "execution_count": null,
   "metadata": {},
   "outputs": [],
   "source": []
  }
 ],
 "metadata": {
  "kernelspec": {
   "display_name": "Python 3",
   "language": "python",
   "name": "python3"
  },
  "language_info": {
   "codemirror_mode": {
    "name": "ipython",
    "version": 3
   },
   "file_extension": ".py",
   "mimetype": "text/x-python",
   "name": "python",
   "nbconvert_exporter": "python",
   "pygments_lexer": "ipython3",
   "version": "3.7.6"
  }
 },
 "nbformat": 4,
 "nbformat_minor": 2
}
