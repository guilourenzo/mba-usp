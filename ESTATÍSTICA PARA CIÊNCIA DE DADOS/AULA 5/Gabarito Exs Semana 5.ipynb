{
 "cells": [
  {
   "cell_type": "markdown",
   "metadata": {},
   "source": [
    "# Exercício 1"
   ]
  },
  {
   "cell_type": "markdown",
   "metadata": {},
   "source": [
    "Faça um estudo de simulação representando o teste de hipóteses para a proporção de uma população desenvolvido na videoaula. Tente pensar o que significa o procedimento de decisão do teste e faça uma simulação em Python para representá-lo numericamente."
   ]
  },
  {
   "cell_type": "code",
   "execution_count": 5,
   "metadata": {},
   "outputs": [
    {
     "name": "stdout",
     "output_type": "stream",
     "text": [
      "[0 1]\n",
      "[188 191]\n"
     ]
    },
    {
     "data": {
      "image/png": "[encoded data removed]",
      "text/plain": [
       "<Figure size 432x288 with 1 Axes>"
      ]
     },
     "metadata": {
      "needs_background": "light"
     },
     "output_type": "display_data"
    }
   ],
   "source": [
    "# Vamos supor que a proporção de homens com pelo menos 60% de tentativas de relação sexual bem sucedidas seja 0,5.\n",
    "# Ou seja, H0 é verdadeira.\n",
    "# Assim, X~Bernoulli e H0: p = 0,5 (verdadeira)\n",
    "\n",
    "# Vamos simular o resultado da variável X (pelo menos 60% de tentativas de relação sexual bem sucedidas) \n",
    "# para n = 379 homens (o tamanho de nossa amostra).\n",
    "# Vamos usar a função bernoulli.rvs de scipy.stats\n",
    "\n",
    "import numpy as np\n",
    "from scipy import stats\n",
    "import matplotlib.pyplot as plt\n",
    "\n",
    "# simulando uma amostra - note que a cada vez que executamos, obtemos uma amostra diferente\n",
    "p = 0.5\n",
    "n = 379\n",
    "r = stats.bernoulli.rvs(p, size=n)\n",
    "\n",
    "# visualização da amostra\n",
    "values, counts = np.unique(r, return_counts=True)\n",
    "print(values)\n",
    "print(counts)\n",
    "positions = (0, 1)\n",
    "labels = (\"0\", \"1\")\n",
    "plt.xticks(positions, labels)\n",
    "plt.bar(values, counts)\n",
    "plt.show()"
   ]
  },
  {
   "cell_type": "code",
   "execution_count": 6,
   "metadata": {},
   "outputs": [
    {
     "data": {
      "image/png": "[encoded data removed]",
      "text/plain": [
       "<Figure size 432x288 with 1 Axes>"
      ]
     },
     "metadata": {
      "needs_background": "light"
     },
     "output_type": "display_data"
    }
   ],
   "source": [
    "# Vamos repetir a simulação da amostra 10 vezes \n",
    "#(apenas para ilustrar o que faremos no próximo passo, com bem mais repetições)\n",
    "\n",
    "p = 0.5\n",
    "n = 379\n",
    "\n",
    "amostras = []\n",
    "for i in range(10):\n",
    "    r = stats.bernoulli.rvs(p, size=n)\n",
    "    amostras.append(r)\n",
    "    \n",
    "values, counts = np.unique(amostras, return_counts=True)\n",
    "positions = (0, 1)\n",
    "labels = (\"0\", \"1\")\n",
    "plt.xticks(positions, labels)\n",
    "plt.hist(amostras, bins = 3)\n",
    "plt.show()"
   ]
  },
  {
   "cell_type": "code",
   "execution_count": 10,
   "metadata": {},
   "outputs": [
    {
     "data": {
      "text/plain": [
       "(array([151, 154, 155, 156, 157, 158, 159, 160, 161, 162, 163, 164, 165,\n",
       "        166, 167, 168, 169, 170, 171, 172, 173, 174, 175, 176, 177, 178,\n",
       "        179, 180, 181, 182, 183, 184, 185, 186, 187, 188, 189, 190, 191,\n",
       "        192, 193, 194, 195, 196, 197, 198, 199, 200, 201, 202, 203, 204,\n",
       "        205, 206, 207, 208, 209, 210, 211, 212, 213, 214, 215, 216, 217,\n",
       "        218, 219, 220, 221, 223, 224, 231]),\n",
       " array([  1,   1,   1,   1,   1,   1,   1,   2,   5,   8,  10,   8,  12,\n",
       "         19,  38,  32,  59,  57,  54,  71, 102, 107, 158, 157, 196, 195,\n",
       "        228, 245, 264, 310, 296, 384, 346, 402, 392, 407, 415, 436, 390,\n",
       "        381, 369, 381, 342, 300, 309, 299, 263, 223, 215, 177, 158, 134,\n",
       "        128,  99,  75,  77,  53,  52,  40,  33,  19,  17,  10,   8,   5,\n",
       "          5,   4,   4,   4,   2,   1,   1], dtype=int64))"
      ]
     },
     "execution_count": 10,
     "metadata": {},
     "output_type": "execute_result"
    }
   ],
   "source": [
    "# Vamos repetir a simulação da amostra 10 mil vezes\n",
    "\n",
    "# podemos usar a função np.random.binomial para fazer isso, pois os indivíduos são independentes uns dos outros\n",
    "#generate random values\n",
    "#n = number of trials\n",
    "#p = probability of occurrence\n",
    "#size = number of experiments\n",
    "x = np.random.binomial(n=379, p = 0.5, size = 10000)\n",
    "\n",
    "#Em cada um dos 10 mil trials, conta quantos homens (dos 379) tiveram pelo menos 60% de tentativas bem sucedidas\n",
    "# Counts é o número de trials com \"values\" homens com pelo menos 60% de tentativas bem sucedidas\n",
    "values, counts = np.unique(x, return_counts=True)\n",
    "np.unique(x, return_counts=True)"
   ]
  },
  {
   "cell_type": "code",
   "execution_count": 11,
   "metadata": {},
   "outputs": [
    {
     "data": {
      "image/png": "[encoded data removed]",
      "text/plain": [
       "<Figure size 432x288 with 1 Axes>"
      ]
     },
     "metadata": {
      "needs_background": "light"
     },
     "output_type": "display_data"
    }
   ],
   "source": [
    "# vamos comparar com a proporção observada no exemplo da aula\n",
    "estat = 0.483\n",
    "\n",
    "plt.vlines(values/379, 0, counts, lw=2)\n",
    "plt.axvline(x = estat, color = \"red\", linestyle = \"--\", label = r'$\\hat{p}_{obs}$')\n",
    "plt.xlabel(\"$\\hat{p}$\")\n",
    "plt.ylabel(\"$f(\\hat{p})$\")\n",
    "plt.legend();"
   ]
  },
  {
   "cell_type": "code",
   "execution_count": 16,
   "metadata": {},
   "outputs": [
    {
     "data": {
      "text/plain": [
       "2640"
      ]
     },
     "execution_count": 16,
     "metadata": {},
     "output_type": "execute_result"
    }
   ],
   "source": [
    "# Conta o número de trials em que a proporção de homens com pelo menos 60% tentativas bem sucedidas é menor ou igual ao observado na amostra\n",
    "# Na amostra, foram 0,483, que vezes 379, dá 183 homens\n",
    "sum(i <= 183  for i in x)"
   ]
  },
  {
   "cell_type": "code",
   "execution_count": 19,
   "metadata": {},
   "outputs": [
    {
     "name": "stdout",
     "output_type": "stream",
     "text": [
      "Este representa o p-valor na nossa simulação:  0.264\n"
     ]
    }
   ],
   "source": [
    "# Representando em % de trials, dá:\n",
    "pvalor = sum(i <= 183  for i in x)/10000\n",
    "print(\"Este representa o p-valor na nossa simulação: \",pvalor)"
   ]
  },
  {
   "cell_type": "markdown",
   "metadata": {},
   "source": [
    "# Exercício 2"
   ]
  },
  {
   "cell_type": "markdown",
   "metadata": {},
   "source": [
    "Use a função spicy.stats.levene em Python e teste a hipótese das variâncias da variável média no ENEM das escolas serem iguais nas administrações públicas e privadas"
   ]
  },
  {
   "cell_type": "code",
   "execution_count": 22,
   "metadata": {},
   "outputs": [
    {
     "name": "stdout",
     "output_type": "stream",
     "text": [
      "A variância das médias das escolas privadas é 859.26\n",
      "A variância das médias das escolas públicas é 944.19\n"
     ]
    }
   ],
   "source": [
    "import numpy as np\n",
    "from scipy.stats import norm\n",
    "import matplotlib.pyplot as plt\n",
    "import pandas as pd\n",
    "from scipy import stats\n",
    "\n",
    "df = pd.read_csv(\"ENEM.csv\", sep = ';', na_values = '-', encoding= 'unicode_escape')\n",
    "\n",
    "# Generate some data for this demonstration.\n",
    "data1 = df.loc[df.Admin=='Privada', \"Média\"]\n",
    "data2 = df.loc[df.Admin=='Estadual', \"Média\"]\n",
    "\n",
    "\n",
    "print(\"A variância das médias das escolas privadas é %.2f\" % (np.std(data1)**2))\n",
    "print(\"A variância das médias das escolas públicas é %.2f\" % (np.std(data2)**2))"
   ]
  },
  {
   "cell_type": "code",
   "execution_count": 9,
   "metadata": {},
   "outputs": [
    {
     "data": {
      "text/plain": [
       "LeveneResult(statistic=2.708418054166318, pvalue=0.09992833645553564)"
      ]
     },
     "execution_count": 9,
     "metadata": {},
     "output_type": "execute_result"
    }
   ],
   "source": [
    "# Teste de Levene para igualdade de variâncias\n",
    "stats.levene(data1,data2)\n",
    "\n",
    "#Ao considerar alpha=0.05 a Hipótese Nula H0 (igualdade de variâncias) não pode ser rejeitada, \n",
    "#pois o valor p é maior que alpha\n",
    "\n",
    "# Mas note que se considerarmos um alpha=0.10, a hipótese nula é rejeitada e concluimos\n",
    "# que as variâncias não são iguais"
   ]
  },
  {
   "cell_type": "markdown",
   "metadata": {},
   "source": [
    "# Exercício 3"
   ]
  },
  {
   "cell_type": "markdown",
   "metadata": {},
   "source": [
    "Considerando o resultado do exercício 2, teste a hipótese das médias da variável média no ENEM das escolas serem iguais nas administrações públicas e privadas."
   ]
  },
  {
   "cell_type": "code",
   "execution_count": 13,
   "metadata": {},
   "outputs": [
    {
     "data": {
      "text/plain": [
       "Ttest_indResult(statistic=42.56684851895187, pvalue=5.4681180107221735e-308)"
      ]
     },
     "execution_count": 13,
     "metadata": {},
     "output_type": "execute_result"
    }
   ],
   "source": [
    "# Teste t de Student (bicaudal) para média de duas populações Normais com variâncias iguais\n",
    "stats.ttest_ind(data1,data2)\n",
    "\n",
    "#Ao considerar alpha=0.05 a Hipótese Nula H0 (igualdade de médias) pode ser rejeitada, \n",
    "#pois o valor p é menor que alpha"
   ]
  },
  {
   "cell_type": "code",
   "execution_count": null,
   "metadata": {},
   "outputs": [],
   "source": []
  }
 ],
 "metadata": {
  "kernelspec": {
   "display_name": "Python 3",
   "language": "python",
   "name": "python3"
  },
  "language_info": {
   "codemirror_mode": {
    "name": "ipython",
    "version": 3
   },
   "file_extension": ".py",
   "mimetype": "text/x-python",
   "name": "python",
   "nbconvert_exporter": "python",
   "pygments_lexer": "ipython3",
   "version": "3.7.3"
  }
 },
 "nbformat": 4,
 "nbformat_minor": 4
}
