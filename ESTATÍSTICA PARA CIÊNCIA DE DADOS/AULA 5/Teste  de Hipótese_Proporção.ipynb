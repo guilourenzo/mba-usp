{
 "cells": [
  {
   "cell_type": "markdown",
   "metadata": {},
   "source": [
    "## TESTE DE HIPÓTESE PARA PROPORÇÃO\n",
    "\n",
    "O objetivo desse notebook é reunir os procedimentos necessários para a realização de testes de hipótese para proporção. "
   ]
  },
  {
   "cell_type": "markdown",
   "metadata": {},
   "source": [
    "### Example: Executando um Teste A/B (5ª Avaliação: Questão 1)\n",
    "\n",
    "Um anunciantes desenvolveu uma nova bebida energética direcionada à alunos do  MBA em Ciência de dados (estão precisando rsrsrs), e deseja a sua ajuda para escolher entre dois anúncios.\n",
    "\n",
    "Você decide executar um experimento mostrando os anúncios em dois sites(um tipo de anúncio por site) e acompanhar quantas pessoas clicam em cada um deles. Como decidir entre os anúncios?"
   ]
  },
  {
   "cell_type": "markdown",
   "metadata": {},
   "source": [
    "### Teste A/B \n",
    "\n",
    "Teste de design para comparar elementos aleatórios com duas variantes, em que uma é o controle (atual) e a outra o tratamento(testado) de uma experiência controlada.  \n",
    "\n",
    "Em web design, o teste A/B é utilizado para identificar alterações nas páginas web que podem provocar mudanças positivas ou negativas no interesse dos utilizadores. "
   ]
  },
  {
   "cell_type": "markdown",
   "metadata": {},
   "source": [
    "### Experimento\n",
    "\n",
    "Digamos que $N_a$ pessoas entram na página \"aa\" e $n_a$ delas clicam no anúncio do energético. Podemos pensar em cada visualização de anúncio como um teste de Bernoulli, em que $p_a$ é a probabilidade de alguém clicar no anúncio da página \"aa\"."
   ]
  },
  {
   "cell_type": "code",
   "execution_count": 1,
   "metadata": {},
   "outputs": [
    {
     "name": "stdout",
     "output_type": "stream",
     "text": [
      "4514\n",
      "4473\n"
     ]
    }
   ],
   "source": [
    "# Dados do experimento\n",
    "\n",
    "N_a=5000  #total de visitantes no site aa\n",
    "n_a=486   #número de pessoas que visitaram aa e clicaram no anúncio \n",
    "\n",
    "n_an=N_a - n_a     #número de pessoas que visitaram aa e não clicaram no anúncio \n",
    "print(n_an)\n",
    "#4514 \n",
    "\n",
    "\n",
    "N_b=5000  #total de cisitantes no site bb\n",
    "n_b=527   #número de pessoas que visitaram aa e clicaram no anúncio \n",
    "\n",
    "n_bn=N_b - n_b     #número de pessoas que visitaram bb e  não clicaram no anúncio \n",
    "print(n_bn)\n",
    "#4473"
   ]
  },
  {
   "cell_type": "markdown",
   "metadata": {},
   "source": [
    "### Hipóteses \n",
    "\n",
    "$H_0:p_a=p_b$   (o número de cliques no anúncio não  difere entre os sites)\n",
    "\n",
    "\n",
    "$H_a:p_a \\neq p_b$   (o número de cliques no anúncio difere entre os sites)\n",
    "\n",
    "Alpha=0,05  (nínel de significância)"
   ]
  },
  {
   "cell_type": "markdown",
   "metadata": {},
   "source": [
    "### Distribuição do estimador \n",
    "\n",
    "Com $N_a$ é grande,sabemos* que $n_a/N_a$ é aproximadamente uma normal: $N(p_a,\\sqrt{p_a(1-p_a)/N_a}$.\n",
    "\n",
    "Da mesma maneira para a página \"bb\", ${n_b}/{N_b}$ é aproximadamente uma variável aleatória normal $N(p_b,\\sqrt{p_b(1-p_b)/N_b}$\n",
    "\n",
    "Assumindo que essas duas normais são independentes,(pois os ensaios individuais de Bernoulli são), então sua diferença também deve ser também uma normal: $ N\\left(p_a - p_b,\\sqrt{\\sigma_{a}^{2} + \\sigma_{b}^{2}} \\right)$.\n",
    "\n",
    "*Ver notebook do TCL-aproximação normal para a distribuição binomial .\n",
    "\n",
    "Detalhes da construção da estatística do teste: http://www.portalaction.com.br/inferencia/59-teste-para-comparacao-de-duas-proporcoes"
   ]
  },
  {
   "cell_type": "markdown",
   "metadata": {},
   "source": [
    "Agora executar o teste A/B  para comparar o número de cliques no anúncio para a página \"aa\" e a página \"bb\"."
   ]
  },
  {
   "cell_type": "markdown",
   "metadata": {},
   "source": [
    "\n",
    "\n"
   ]
  },
  {
   "cell_type": "code",
   "execution_count": 3,
   "metadata": {},
   "outputs": [
    {
     "data": {
      "text/plain": [
       "(-1.3588507649479744, 0.17419388311717376)"
      ]
     },
     "execution_count": 3,
     "metadata": {},
     "output_type": "execute_result"
    }
   ],
   "source": [
    "#Teste A/B\n",
    "\n",
    "import numpy as np\n",
    "from statsmodels.stats.proportion import proportions_ztest\n",
    "\n",
    "count = np.array([n_a,n_b])    #quantidades de sucessos(cliques)\n",
    "nobs = np.array([N_a,N_b])   #tamanho da amostra para cada grupo (aa,bb)\n",
    "\n",
    "proportions_ztest(count,nobs,alternative='two-sided')\n",
    "\n",
    "#alternative:‘two-sided’, ‘smaller’ou ‘larger’\n",
    "#Para testes com duas amostras: \n",
    "#‘two-sided’  Ha:p_a =/ p_b\n",
    "#‘smaller’    Ha:p_a < p_b \n",
    "#‘larger’     Ha:p_a < p_b \n",
    "# alpha=0,05\n"
   ]
  },
  {
   "cell_type": "markdown",
   "metadata": {},
   "source": [
    "A execução do teste resultou no valor da estatística do teste -1,359  e no p-valor=0,1743. \n",
    "\n",
    "Nos baseando no p-valor para a tomada de decisão, como p-valor=0,1742 > alpha=0,05, não rejeitamos\n",
    "a hipótese nula, ao nível de signifância de 5%. "
   ]
  },
  {
   "cell_type": "markdown",
   "metadata": {},
   "source": [
    "Para mais detalhes sobre a função proportions_ztest consulte:\n",
    "\n",
    "https://www.statsmodels.org/stable/generated/statsmodels.stats.proportion.proportions_ztest.html"
   ]
  }
 ],
 "metadata": {
  "kernelspec": {
   "display_name": "Python 3",
   "language": "python",
   "name": "python3"
  },
  "language_info": {
   "codemirror_mode": {
    "name": "ipython",
    "version": 3
   },
   "file_extension": ".py",
   "mimetype": "text/x-python",
   "name": "python",
   "nbconvert_exporter": "python",
   "pygments_lexer": "ipython3",
   "version": "3.7.6"
  }
 },
 "nbformat": 4,
 "nbformat_minor": 4
}
