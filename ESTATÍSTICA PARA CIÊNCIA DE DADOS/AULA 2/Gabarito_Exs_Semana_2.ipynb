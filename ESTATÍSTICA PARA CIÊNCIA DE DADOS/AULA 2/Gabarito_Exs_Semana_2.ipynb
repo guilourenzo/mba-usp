{
 "cells": [
  {
   "cell_type": "markdown",
   "metadata": {
    "colab_type": "text",
    "id": "d7SVT37_Sqz6"
   },
   "source": [
    "# LISTA DE EXERCÍCIOS - SEMANA 2"
   ]
  },
  {
   "cell_type": "markdown",
   "metadata": {
    "colab_type": "text",
    "id": "hY_qcsNMSqz7"
   },
   "source": [
    "## Exercício 1\n",
    "\n",
    "Os motores de um avião operam independentemente e cada um deles pode falhar durante o voo com probabilidade $p$. Suponha que o voo decorre com inteira segurança se pelo menos a metade dos motores funcionam. Nestas condições, é possível que um bimotor seja mais seguro do que um quadrimotor? Para quais valores de $p$ isto acontece?"
   ]
  },
  {
   "cell_type": "code",
   "execution_count": 3,
   "metadata": {
    "colab": {},
    "colab_type": "code",
    "id": "TQ2MzCFtTBFL"
   },
   "outputs": [],
   "source": [
    "import numpy as np\n",
    "import matplotlib.pyplot as plt"
   ]
  },
  {
   "cell_type": "markdown",
   "metadata": {
    "colab_type": "text",
    "id": "4cTFxIejSz3H"
   },
   "source": [
    "Solução\n",
    "\n",
    "A probabilidade de o bimotor cair, Pb, é a probabilidade de os 2 motores falharem, ou seja $p^2$.\n",
    "\n",
    "A probabilidade de o quadrimotor cair, Pq, é a probabilidade de 3 ou 4 motores falharem. Essa probabilidade é $\\binom{4}{3} p^3(1-p) + \\binom{4}{4} p^4$.\n",
    "\n",
    "Queremos saber para quais valores de p temos Pb < Pq.\n",
    "\n",
    "$p^2 < \\binom{4}{3} p^3(1-p) + \\binom{4}{4} p^4$\n",
    "\n",
    "$p^2 < 4 p^3(1-p) + p^4$\n",
    "\n",
    "$3p^4 -4p^3 + p^2 < 0$\n",
    "\n",
    "$3p^2 -4p + 1 < 0$ (podemos ignorar as soluções em que $p = 0$)\n",
    "\n",
    "Resolvendo essa inequação, temos que Pb < Pq quando $1/3 < p < 1$.\n"
   ]
  },
  {
   "cell_type": "code",
   "execution_count": 2,
   "metadata": {
    "colab": {
     "base_uri": "https://localhost:8080/",
     "height": 265
    },
    "colab_type": "code",
    "id": "fitrfY6eSqz9",
    "outputId": "36a7346d-824a-4316-8e9a-772428b2526c"
   },
   "outputs": [
    {
     "data": {
      "image/png": "[encoded data removed]",
      "text/plain": [
       "<Figure size 432x288 with 1 Axes>"
      ]
     },
     "metadata": {
      "needs_background": "light",
      "tags": []
     },
     "output_type": "display_data"
    }
   ],
   "source": [
    "# probabilidades p\n",
    "p = np.linspace(0, 1, 50)\n",
    "\n",
    "# probabilidades de cair\n",
    "bimotor = p ** 2 # prob. de os dois motores falharem\n",
    "quadrimotor = (4 * p ** 3 * (1 - p)) + (1 * p ** 4) # prob. de 3 ou 4 motores falharem\n",
    "\n",
    "plt.plot(p, bimotor, label = 'bimotor cair')\n",
    "plt.plot(p, quadrimotor, label = 'quadrimotor cair')\n",
    "\n",
    "plt.plot([1/3, 1/3], [0, 1], 'r--')\n",
    "plt.plot([1, 1], [0, 1], 'r--')\n",
    "\n",
    "plt.legend()\n",
    "plt.show()"
   ]
  },
  {
   "cell_type": "markdown",
   "metadata": {
    "colab_type": "text",
    "id": "8ffTrJRJSq0E"
   },
   "source": [
    "## Exercício 2\n",
    "\n",
    "Um quiosque vende milho cozido, água de coco e açaí numa praia do litoral norte de São Paulo. A dona do quiosque quer planejar melhor a preparação de milho cozido durante o verão. Ela pode deixar preparadas $5$, $6$ ou $7$ dúzias de espigas, que custam a ela $R\\$ 5,00$ a dúzia. Sabe-se que a procura por espigas de milho cozidas ($X$), no seu ponto, é uma variável aleatória com a seguinte função de probabilidade:\n",
    "\n",
    "x | f(x)\n",
    "-- | ----\n",
    "4 | 0,2\n",
    "5 | 0,3\n",
    "6 | 0,3\n",
    "7 | 0,2\n",
    "\n",
    "Cada dúzia é vendida a $R\\$ 12,00$ e aquelas espigas que não são vendidas vão para uma empresa que produz adubo orgânico que paga $R\\$ 2,00$ pela dúzia. Qual é o número de dúzias de espigas que devem ser preparadas de modo a maximizar o lucro médio da vendedora?\n",
    "\n"
   ]
  },
  {
   "cell_type": "code",
   "execution_count": 21,
   "metadata": {
    "colab": {
     "base_uri": "https://localhost:8080/",
     "height": 68
    },
    "colab_type": "code",
    "id": "ajhMm9rmSq0F",
    "outputId": "c421799e-0ea0-4945-9fe8-5564034aa6db"
   },
   "outputs": [
    {
     "name": "stdout",
     "output_type": "stream",
     "text": [
      "5 33.0\n",
      "6 35.0\n",
      "7 34.0\n"
     ]
    }
   ],
   "source": [
    "Px = [.2, .3, .3, .2]\n",
    "X  = [4, 5, 6, 7]\n",
    "for prep in [5, 6, 7]:\n",
    "    lucro_medio = 0\n",
    "    for p, x in zip(Px, X):\n",
    "        vendeu = min(x, prep)\n",
    "        sobrou = max(prep - x, 0)\n",
    "        lucro = vendeu * 12 + sobrou * 2 - prep * 5\n",
    "        lucro_medio += p * lucro\n",
    "    print(prep, lucro_medio)"
   ]
  },
  {
   "cell_type": "markdown",
   "metadata": {
    "colab_type": "text",
    "id": "kor8WvhySq0K"
   },
   "source": [
    "## Exercício 3\n",
    "\n",
    "A variável aleatória contínua $T$ é usada para modelar o número de dias, $t$, que um mosquito sobrevive depois de eclodir.\n",
    "\n",
    "A probabilidade de que o mosquito sobreviva por mais de $t$ dias é $$\\frac{225}{(t+15)^2}, \\quad t \\geq 0.$$\n"
   ]
  },
  {
   "cell_type": "markdown",
   "metadata": {
    "colab_type": "text",
    "id": "6BBWKrvcSq0L"
   },
   "source": [
    "**Questão 3a)**\n",
    "Mostre que a função de distribuição acumulada de $T$ é dada por \n",
    "$$F(t) = \\begin{cases} 1- \\frac{225}{(t+15)^2}, & t \\geq 0, \\\\ 0, & \\mbox{caso contrário.} \\end{cases}$$"
   ]
  },
  {
   "cell_type": "markdown",
   "metadata": {
    "colab_type": "text",
    "id": "7kIV16lO7Jp7"
   },
   "source": [
    "Solução:\n",
    "\n",
    "Dado que $F(t) = P(T \\le t)$\n",
    "\n",
    "Note que já sabemos que $P(T > t) = 225 / (t + 15)^2$\n",
    "\n",
    "E como $P(T \\le t) = 1 - P(T > t)$\n",
    "\n",
    "Então $F(t) = 1 - 225 / (t + 15)^2$"
   ]
  },
  {
   "cell_type": "markdown",
   "metadata": {
    "colab_type": "text",
    "id": "nwsF0WUtSq0Q"
   },
   "source": [
    "**Questão 3b)**\n",
    "Encontre a probabilidade de que um mosquito selecionado aleatoriamente morrer dentro de 3 dias após eclodir."
   ]
  },
  {
   "cell_type": "code",
   "execution_count": 4,
   "metadata": {
    "colab": {
     "base_uri": "https://localhost:8080/",
     "height": 34
    },
    "colab_type": "code",
    "id": "pBXONSMbSq0R",
    "outputId": "0aa20726-25c3-433e-a706-63bc53addcbc"
   },
   "outputs": [
    {
     "data": {
      "text/plain": [
       "0.3055555555555556"
      ]
     },
     "execution_count": 4,
     "metadata": {},
     "output_type": "execute_result"
    }
   ],
   "source": [
    "# A probibilidade de morrer nos 3 primeiros dias é a mesma probabilidade de morrer em qualquer momento nos três primeiros dias.\n",
    "# E morrer em um dia t é o mesmo que sobreviver até um dia t. Logo queremos saber P(T <= 3) = F(3)\n",
    "F = lambda t : 1 - 225 / (t + 15) ** 2\n",
    "F(3)"
   ]
  },
  {
   "cell_type": "markdown",
   "metadata": {
    "colab_type": "text",
    "id": "GHiTxoLISq0W"
   },
   "source": [
    "**Questão 3c)**\n",
    "Dado que um mosquito sobrevive por $3$ dias, encontre a probabilidade de que ele sobreviva por pelo menos outros $5$ dias adicionais."
   ]
  },
  {
   "cell_type": "markdown",
   "metadata": {
    "colab_type": "text",
    "id": "rxCgRiIe_DyK"
   },
   "source": [
    "Solução\n",
    "\n",
    "$P(T \\ge 8 | T \\ge 3) =$\n",
    "\n",
    "$P(T \\ge 8, T \\ge 3) / P(T \\ge 3) =$\n",
    "\n",
    "$P(T \\ge 8) / P(T \\ge 3)$\n",
    "\n",
    "Além disso, sabemos que $P(T \\ge t) = 1 - F(t)$"
   ]
  },
  {
   "cell_type": "code",
   "execution_count": 5,
   "metadata": {
    "colab": {
     "base_uri": "https://localhost:8080/",
     "height": 34
    },
    "colab_type": "code",
    "id": "7DRLELLESq0X",
    "outputId": "4125ccac-2fdb-44d1-b2af-3c2cfb96b82f"
   },
   "outputs": [
    {
     "data": {
      "text/plain": [
       "0.612476370510397"
      ]
     },
     "execution_count": 5,
     "metadata": {},
     "output_type": "execute_result"
    }
   ],
   "source": [
    "(1 - F(8)) / (1 - F(3)) "
   ]
  },
  {
   "cell_type": "markdown",
   "metadata": {
    "colab_type": "text",
    "id": "SkCTppWkSq0b"
   },
   "source": [
    "**Questão 3d)**\n",
    "Considere que um grande número de mosquitos eclodiu no mesmo dia.\n",
    "\n",
    "Encontre o número de dias após o qual espera-se que apenas $10\\%$ desses mosquitos sobrevivam."
   ]
  },
  {
   "cell_type": "markdown",
   "metadata": {
    "colab_type": "text",
    "id": "cppGuGHiCEpJ"
   },
   "source": [
    "Solução\n",
    "\n",
    "Existe um dia t a partir do qual é esperado que apenas 10% dos mosquitos sobrevivam. Como todos eclodiram num mesmo dia, é esperado que para cada mosquito individualmente a probabilidade de sobreviver pelo menos até o dia t seja 10%. Ou seja:\n",
    "\n",
    "$P(T \\ge t) = 10\\%$\n",
    "\n",
    "$225 / (t + 15)^2 = 0.1$\n",
    "\n",
    "$2250 = (t + 15)^2$\n",
    "\n",
    "$t = \\pm \\sqrt{2250} - 15$ \n"
   ]
  },
  {
   "cell_type": "code",
   "execution_count": 6,
   "metadata": {
    "colab": {
     "base_uri": "https://localhost:8080/",
     "height": 34
    },
    "colab_type": "code",
    "id": "hngR7Ja7Sq0d",
    "outputId": "6b87b0ba-be7d-4ac2-c998-9655fe98b7e5"
   },
   "outputs": [
    {
     "data": {
      "text/plain": [
       "32.43416490252569"
      ]
     },
     "execution_count": 6,
     "metadata": {},
     "output_type": "execute_result"
    }
   ],
   "source": [
    "from math import sqrt\n",
    "\n",
    "t = sqrt(2250) - 15 # ignorando -sqrt pois daria um número negativo de dias\n",
    "t"
   ]
  },
  {
   "cell_type": "markdown",
   "metadata": {
    "colab_type": "text",
    "id": "9CeYSeXbHag1"
   },
   "source": [
    "**Questão 3e)**\n",
    "Em Python, faça o gráfico de F(t) e f(t)"
   ]
  },
  {
   "cell_type": "markdown",
   "metadata": {
    "colab_type": "text",
    "id": "0rAxPRiuHlJK"
   },
   "source": [
    "Solução\n",
    "\n",
    "Já sabemos F(t), mas ainda precisamos calcular f(t).\n",
    "\n",
    "$f(t) = F'(t)$\n",
    "\n",
    "$f(t) = \\frac d {dt} (1 - \\frac {225} {(t + 15)^2})$\n",
    "\n",
    "$f(t) = \\frac {450} {(t + 15)^3}$\n"
   ]
  },
  {
   "cell_type": "code",
   "execution_count": 10,
   "metadata": {
    "colab": {
     "base_uri": "https://localhost:8080/",
     "height": 265
    },
    "colab_type": "code",
    "id": "yHkHEoA6His4",
    "outputId": "d8a5b629-caa0-44e8-cf0b-686e6cacb156"
   },
   "outputs": [
    {
     "data": {
      "image/png": "[encoded data removed]",
      "text/plain": [
       "<Figure size 432x288 with 1 Axes>"
      ]
     },
     "metadata": {
      "needs_background": "light"
     },
     "output_type": "display_data"
    }
   ],
   "source": [
    "f = lambda t : 450 / (t + 15) ** 3\n",
    "\n",
    "t = np.linspace(0, 50, 10000)\n",
    "\n",
    "plt.plot(t, f(t), label = 'f(t)')\n",
    "plt.plot(t, F(t), label = 'F(t)')   # repare que F(t) tende a 1, quando t tende a infinito\n",
    "plt.xlabel('t (dias)')\n",
    "plt.ylim(0,1)\n",
    "\n",
    "plt.legend()\n",
    "plt.show()"
   ]
  },
  {
   "cell_type": "markdown",
   "metadata": {
    "colab_type": "text",
    "id": "KUkmdY0ZSq0h"
   },
   "source": [
    "## Exercício 4\n",
    "\n",
    "Suponha que $X_1$ e $X_2$ são variáveis aleatórias independentes com média $0$ e variância $\\sigma^2$.\n",
    "\n",
    "$(i)$ Qual é a covariância de $U = X_1 +2X_2$ e $V = 4X_1-3X_2$? \n",
    "\n",
    "$(ii)$ Qual é a correlação entre essas variáveis?\n",
    "\n",
    "$(iii)$ Utilize a fórmula abaixo para calcular a correlação de uma simulação com 10^6 amostras aleatórias de U e V cada. Compare com o resultado obtido em $(ii)$\n",
    "\n",
    "$Corr = \\frac {Cov(U, V)} {\\sqrt{Var(U)Var(v)}}$\n",
    "\n"
   ]
  },
  {
   "cell_type": "markdown",
   "metadata": {
    "colab_type": "text",
    "id": "x6-H9bpRVU9R"
   },
   "source": [
    "Solução (i):\n",
    "\n",
    "Para calcular Cov(U, V), vamos usar algumas propriedades importantes.\n",
    "- 1) $Cov(A, A) = Var(A)$\n",
    "- 2) $Cov(A, B) = 0$, se A e B independentes\n",
    "- 3) $Cov(aA, bB) = abCov(A, B)$\n",
    "- 4) $Cov(A + B, C) = Cov(A, C) + Cov(B, C)$\n",
    "\n",
    "Essas propriedades podem ser verificadas com as propriedades de esperança vistas na videoaula.\n",
    "\n",
    "Dessa maneira:\n",
    "\n",
    "$Cov(U, V) = Cov(X_1 + 2X_2, 4X_1 - 3X_2) = $\n",
    "\n",
    "$Cov(X_1, 4X_1 - 3X_2) + Cov(2X_2, 4X_1 - 3X_2) = $\n",
    "\n",
    "$Cov(X_1, 4X_1) + Cov(X_1,- 3X_2) + Cov(2X_2, 4X_1) + Cov(2X_2, -3X_2) = $\n",
    "\n",
    "$4Cov(X_1, X_1) - 3Cov(X_1,X_2) + 8Cov(X_2, X_1) - 6Cov(X_2, X_2) = $\n",
    "\n",
    "$4(Var(X_1)) - 3(0) + 8(0) - 6(Var(X_2)) =$\n",
    "\n",
    "$4\\sigma^2 -6\\sigma^2 = -2\\sigma^2$ "
   ]
  },
  {
   "cell_type": "markdown",
   "metadata": {
    "colab_type": "text",
    "id": "kEEdaYK3aRqp"
   },
   "source": [
    "Solução (ii):\n",
    "\n",
    "Precisamos calcular Var(U) e Var(V):\n",
    "\n",
    "$Var(U) = Var(X_1 + 2X_2) = Var(X_1) + 4Var(X_2) = 5\\sigma^2$\n",
    "\n",
    "$Var(V) = Var(4X_1 - 3X_2) = 16Var(X_1) + 9Var(X_2) = 25\\sigma^2$\n",
    "\n",
    "Logo:\n",
    "\n",
    "$Corr = \\frac {Cov(U, V)} {\\sqrt{Var(U)Var(v)}} = \\frac {-2\\sigma^2} {\\sqrt{5\\sigma^2 25\\sigma^2}} = \\frac {-2} {5\\sqrt{5}}$"
   ]
  },
  {
   "cell_type": "code",
   "execution_count": 20,
   "metadata": {
    "colab": {
     "base_uri": "https://localhost:8080/",
     "height": 51
    },
    "colab_type": "code",
    "id": "Anh7tzM6aBeM",
    "outputId": "d29e0295-a50f-4811-b287-eab1683944a8"
   },
   "outputs": [
    {
     "name": "stdout",
     "output_type": "stream",
     "text": [
      "Simulação -0.1795893521789425\n",
      "Método analítico -0.17888543819998318\n"
     ]
    }
   ],
   "source": [
    "import numpy as np\n",
    "from math import sqrt\n",
    "\n",
    "X1 = np.random.normal(0, 1, 10**6)\n",
    "X2 = np.random.normal(0, 1, 10**6)\n",
    "\n",
    "U = X1 + 2 * X2\n",
    "V = 4 * X1 - 3 * X2\n",
    "\n",
    "Cov = (U * V).mean() # note que não é preciso tirar a média pois sabemos que é 0\n",
    "VarU = U.var()\n",
    "VarV = V.var()\n",
    "\n",
    "Corr = Cov/sqrt(VarU*VarV)\n",
    "\n",
    "print('Simulação', Corr)\n",
    "print('Método analítico', -2 / (5 * sqrt(5)))"
   ]
  }
 ],
 "metadata": {
  "colab": {
   "collapsed_sections": [],
   "name": "Gabarito Exs Semana 2.ipynb",
   "provenance": []
  },
  "kernelspec": {
   "display_name": "Python 3",
   "language": "python",
   "name": "python3"
  },
  "language_info": {
   "codemirror_mode": {
    "name": "ipython",
    "version": 3
   },
   "file_extension": ".py",
   "mimetype": "text/x-python",
   "name": "python",
   "nbconvert_exporter": "python",
   "pygments_lexer": "ipython3",
   "version": "3.7.3"
  }
 },
 "nbformat": 4,
 "nbformat_minor": 1
}
