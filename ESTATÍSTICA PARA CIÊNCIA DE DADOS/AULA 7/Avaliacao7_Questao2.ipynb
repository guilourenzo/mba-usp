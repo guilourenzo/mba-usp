{
 "cells": [
  {
   "cell_type": "code",
   "execution_count": 6,
   "metadata": {},
   "outputs": [],
   "source": [
    "import numpy as np\n",
    "import matplotlib.pyplot as plt\n",
    "from scipy.stats import norm\n",
    "import statistics\n",
    "import pandas as pd\n",
    "from scipy import stats\n",
    "from scipy.stats import norm\n",
    "\n",
    "# Dados de entrada\n",
    "df = pd.read_csv(\"C:/Users/Mariana/Dropbox (Pessoal)/1º sem 2020/MBA/Dados/Prestigio.csv\", sep = ',', na_values = '-', encoding= 'unicode_escape')"
   ]
  },
  {
   "cell_type": "code",
   "execution_count": 7,
   "metadata": {},
   "outputs": [
    {
     "data": {
      "text/html": [
       "<div>\n",
       "<style scoped>\n",
       "    .dataframe tbody tr th:only-of-type {\n",
       "        vertical-align: middle;\n",
       "    }\n",
       "\n",
       "    .dataframe tbody tr th {\n",
       "        vertical-align: top;\n",
       "    }\n",
       "\n",
       "    .dataframe thead th {\n",
       "        text-align: right;\n",
       "    }\n",
       "</style>\n",
       "<table border=\"1\" class=\"dataframe\">\n",
       "  <thead>\n",
       "    <tr style=\"text-align: right;\">\n",
       "      <th></th>\n",
       "      <th>education</th>\n",
       "      <th>income</th>\n",
       "      <th>women</th>\n",
       "      <th>prestige</th>\n",
       "      <th>census</th>\n",
       "      <th>d_bc</th>\n",
       "      <th>d_prof</th>\n",
       "      <th>d_wc</th>\n",
       "    </tr>\n",
       "  </thead>\n",
       "  <tbody>\n",
       "    <tr>\n",
       "      <th>count</th>\n",
       "      <td>98.000000</td>\n",
       "      <td>98.000000</td>\n",
       "      <td>98.000000</td>\n",
       "      <td>98.000000</td>\n",
       "      <td>98.000000</td>\n",
       "      <td>98.000000</td>\n",
       "      <td>98.000000</td>\n",
       "      <td>98.000000</td>\n",
       "    </tr>\n",
       "    <tr>\n",
       "      <th>mean</th>\n",
       "      <td>10.795102</td>\n",
       "      <td>6938.857143</td>\n",
       "      <td>28.985714</td>\n",
       "      <td>47.327551</td>\n",
       "      <td>5400.061224</td>\n",
       "      <td>0.448980</td>\n",
       "      <td>0.316327</td>\n",
       "      <td>0.234694</td>\n",
       "    </tr>\n",
       "    <tr>\n",
       "      <th>std</th>\n",
       "      <td>2.748937</td>\n",
       "      <td>4228.132538</td>\n",
       "      <td>31.382016</td>\n",
       "      <td>17.094907</td>\n",
       "      <td>2684.302381</td>\n",
       "      <td>0.499947</td>\n",
       "      <td>0.467433</td>\n",
       "      <td>0.425986</td>\n",
       "    </tr>\n",
       "    <tr>\n",
       "      <th>min</th>\n",
       "      <td>6.380000</td>\n",
       "      <td>1656.000000</td>\n",
       "      <td>0.000000</td>\n",
       "      <td>17.300000</td>\n",
       "      <td>1113.000000</td>\n",
       "      <td>0.000000</td>\n",
       "      <td>0.000000</td>\n",
       "      <td>0.000000</td>\n",
       "    </tr>\n",
       "    <tr>\n",
       "      <th>25%</th>\n",
       "      <td>8.445000</td>\n",
       "      <td>4250.500000</td>\n",
       "      <td>3.267500</td>\n",
       "      <td>35.375000</td>\n",
       "      <td>3115.500000</td>\n",
       "      <td>0.000000</td>\n",
       "      <td>0.000000</td>\n",
       "      <td>0.000000</td>\n",
       "    </tr>\n",
       "    <tr>\n",
       "      <th>50%</th>\n",
       "      <td>10.605000</td>\n",
       "      <td>6035.500000</td>\n",
       "      <td>14.475000</td>\n",
       "      <td>43.600000</td>\n",
       "      <td>5131.500000</td>\n",
       "      <td>0.000000</td>\n",
       "      <td>0.000000</td>\n",
       "      <td>0.000000</td>\n",
       "    </tr>\n",
       "    <tr>\n",
       "      <th>75%</th>\n",
       "      <td>12.755000</td>\n",
       "      <td>8226.250000</td>\n",
       "      <td>52.202500</td>\n",
       "      <td>59.900000</td>\n",
       "      <td>8328.000000</td>\n",
       "      <td>1.000000</td>\n",
       "      <td>1.000000</td>\n",
       "      <td>0.000000</td>\n",
       "    </tr>\n",
       "    <tr>\n",
       "      <th>max</th>\n",
       "      <td>15.970000</td>\n",
       "      <td>25879.000000</td>\n",
       "      <td>97.510000</td>\n",
       "      <td>87.200000</td>\n",
       "      <td>9517.000000</td>\n",
       "      <td>1.000000</td>\n",
       "      <td>1.000000</td>\n",
       "      <td>1.000000</td>\n",
       "    </tr>\n",
       "  </tbody>\n",
       "</table>\n",
       "</div>"
      ],
      "text/plain": [
       "       education        income      women   prestige       census       d_bc  \\\n",
       "count  98.000000     98.000000  98.000000  98.000000    98.000000  98.000000   \n",
       "mean   10.795102   6938.857143  28.985714  47.327551  5400.061224   0.448980   \n",
       "std     2.748937   4228.132538  31.382016  17.094907  2684.302381   0.499947   \n",
       "min     6.380000   1656.000000   0.000000  17.300000  1113.000000   0.000000   \n",
       "25%     8.445000   4250.500000   3.267500  35.375000  3115.500000   0.000000   \n",
       "50%    10.605000   6035.500000  14.475000  43.600000  5131.500000   0.000000   \n",
       "75%    12.755000   8226.250000  52.202500  59.900000  8328.000000   1.000000   \n",
       "max    15.970000  25879.000000  97.510000  87.200000  9517.000000   1.000000   \n",
       "\n",
       "          d_prof       d_wc  \n",
       "count  98.000000  98.000000  \n",
       "mean    0.316327   0.234694  \n",
       "std     0.467433   0.425986  \n",
       "min     0.000000   0.000000  \n",
       "25%     0.000000   0.000000  \n",
       "50%     0.000000   0.000000  \n",
       "75%     1.000000   0.000000  \n",
       "max     1.000000   1.000000  "
      ]
     },
     "execution_count": 7,
     "metadata": {},
     "output_type": "execute_result"
    }
   ],
   "source": [
    "# Exclui os dados faltantes\n",
    "df = df.dropna()\n",
    "\n",
    "# Crias as variáveis dummies para cada categoria de 'type'\n",
    "# Repare que este comando cria uma dummy para cada categoria\n",
    "# Assim, posso escolher qual eu quero que seja a categoria referência (não sendo necessariamente a primeira)\n",
    "df = pd.concat([df, pd.get_dummies(df['type'].astype('category'), prefix = 'd')], axis = 1)\n",
    "df.describe()"
   ]
  },
  {
   "cell_type": "code",
   "execution_count": 3,
   "metadata": {},
   "outputs": [],
   "source": [
    "import statsmodels.formula.api as smf\n",
    "\n",
    "# Função com o método de seleção Forward, usando o R2 ajustado para seleção\n",
    "# Fonte: https://planspace.org/20150423-forward_selection_with_statsmodels/\n",
    "def forward_selected(data, response):\n",
    "    \"\"\"Linear model designed by forward selection.\n",
    "\n",
    "    Parameters:\n",
    "    -----------\n",
    "    data : pandas DataFrame with all possible predictors and response\n",
    "\n",
    "    response: string, name of response column in data\n",
    "\n",
    "    Returns:\n",
    "    --------\n",
    "    model: an \"optimal\" fitted statsmodels linear model\n",
    "           with an intercept\n",
    "           selected by forward selection\n",
    "           evaluated by adjusted R-squared\n",
    "    \"\"\"\n",
    "    remaining = set(data.columns)\n",
    "    remaining.remove(response)\n",
    "    selected = []\n",
    "    current_score, best_new_score = 0.0, 0.0\n",
    "    while remaining and current_score == best_new_score:\n",
    "        scores_with_candidates = []\n",
    "        for candidate in remaining:\n",
    "            formula = \"{} ~ {} + 1 \".format(response,\n",
    "                                           ' + '.join(selected + [candidate]))\n",
    "            score = smf.ols(formula, data).fit().rsquared_adj\n",
    "            scores_with_candidates.append((score, candidate))\n",
    "        scores_with_candidates.sort()\n",
    "        best_new_score, best_candidate = scores_with_candidates.pop()\n",
    "        if current_score < best_new_score:\n",
    "            remaining.remove(best_candidate)\n",
    "            selected.append(best_candidate)\n",
    "            current_score = best_new_score\n",
    "    formula = \"{} ~ {} + 1\".format(response,\n",
    "                                   ' + '.join(selected))\n",
    "    model = smf.ols(formula, data).fit()\n",
    "    return model"
   ]
  },
  {
   "cell_type": "code",
   "execution_count": 19,
   "metadata": {},
   "outputs": [
    {
     "data": {
      "text/html": [
       "<div>\n",
       "<style scoped>\n",
       "    .dataframe tbody tr th:only-of-type {\n",
       "        vertical-align: middle;\n",
       "    }\n",
       "\n",
       "    .dataframe tbody tr th {\n",
       "        vertical-align: top;\n",
       "    }\n",
       "\n",
       "    .dataframe thead th {\n",
       "        text-align: right;\n",
       "    }\n",
       "</style>\n",
       "<table border=\"1\" class=\"dataframe\">\n",
       "  <thead>\n",
       "    <tr style=\"text-align: right;\">\n",
       "      <th></th>\n",
       "      <th>education</th>\n",
       "      <th>income</th>\n",
       "      <th>women</th>\n",
       "      <th>prestige</th>\n",
       "      <th>d_prof</th>\n",
       "      <th>d_wc</th>\n",
       "    </tr>\n",
       "  </thead>\n",
       "  <tbody>\n",
       "    <tr>\n",
       "      <th>0</th>\n",
       "      <td>13.11</td>\n",
       "      <td>12351.0</td>\n",
       "      <td>11.16</td>\n",
       "      <td>68.8</td>\n",
       "      <td>1.0</td>\n",
       "      <td>0.0</td>\n",
       "    </tr>\n",
       "    <tr>\n",
       "      <th>1</th>\n",
       "      <td>12.26</td>\n",
       "      <td>25879.0</td>\n",
       "      <td>4.02</td>\n",
       "      <td>69.1</td>\n",
       "      <td>1.0</td>\n",
       "      <td>0.0</td>\n",
       "    </tr>\n",
       "    <tr>\n",
       "      <th>2</th>\n",
       "      <td>12.77</td>\n",
       "      <td>9271.0</td>\n",
       "      <td>15.70</td>\n",
       "      <td>63.4</td>\n",
       "      <td>1.0</td>\n",
       "      <td>0.0</td>\n",
       "    </tr>\n",
       "    <tr>\n",
       "      <th>3</th>\n",
       "      <td>11.42</td>\n",
       "      <td>8865.0</td>\n",
       "      <td>9.11</td>\n",
       "      <td>56.8</td>\n",
       "      <td>1.0</td>\n",
       "      <td>0.0</td>\n",
       "    </tr>\n",
       "    <tr>\n",
       "      <th>4</th>\n",
       "      <td>14.62</td>\n",
       "      <td>8403.0</td>\n",
       "      <td>11.68</td>\n",
       "      <td>73.5</td>\n",
       "      <td>1.0</td>\n",
       "      <td>0.0</td>\n",
       "    </tr>\n",
       "  </tbody>\n",
       "</table>\n",
       "</div>"
      ],
      "text/plain": [
       "   education   income  women  prestige  d_prof  d_wc\n",
       "0      13.11  12351.0  11.16      68.8     1.0   0.0\n",
       "1      12.26  25879.0   4.02      69.1     1.0   0.0\n",
       "2      12.77   9271.0  15.70      63.4     1.0   0.0\n",
       "3      11.42   8865.0   9.11      56.8     1.0   0.0\n",
       "4      14.62   8403.0  11.68      73.5     1.0   0.0"
      ]
     },
     "execution_count": 19,
     "metadata": {},
     "output_type": "execute_result"
    }
   ],
   "source": [
    "# Prepara o arquivo de dados para executar a função forward_select\n",
    "# tem que excluir as variáveis que não usaremos no modelo para poder rodar a função\n",
    "# Escolhi blue collar como categoria de referência e, portanto, essa dummy não entrará no modelo\n",
    "data = df.drop(['occupation', 'census','type','d_bc'], axis=1).astype('float64')\n",
    "\n",
    "#Executa a função para seleção de variáveis pelo método forward, usando R2 ajustado como critério de seleção\n",
    "model = forward_selected(data, 'prestige')\n",
    "\n",
    "# verifica se o banco de dados é o correto\n",
    "data.head()"
   ]
  },
  {
   "cell_type": "code",
   "execution_count": 20,
   "metadata": {},
   "outputs": [
    {
     "name": "stdout",
     "output_type": "stream",
     "text": [
      "prestige ~ education + income + d_prof + d_wc + 1\n"
     ]
    }
   ],
   "source": [
    "# Imprime as variáveis que ficam no modelo final\n",
    "print(model.model.formula)"
   ]
  },
  {
   "cell_type": "code",
   "execution_count": 21,
   "metadata": {},
   "outputs": [
    {
     "name": "stdout",
     "output_type": "stream",
     "text": [
      "0.8277545132023085\n"
     ]
    }
   ],
   "source": [
    "# Imprime o R2 ajustado do modelo final\n",
    "print(model.rsquared_adj)"
   ]
  },
  {
   "cell_type": "code",
   "execution_count": 27,
   "metadata": {},
   "outputs": [
    {
     "name": "stdout",
     "output_type": "stream",
     "text": [
      "                            OLS Regression Results                            \n",
      "==============================================================================\n",
      "Dep. Variable:            df.prestige   R-squared:                       0.835\n",
      "Model:                            OLS   Adj. R-squared:                  0.828\n",
      "Method:                 Least Squares   F-statistic:                     117.5\n",
      "Date:                Sat, 23 May 2020   Prob (F-statistic):           1.70e-35\n",
      "Time:                        19:13:08   Log-Likelihood:                -328.51\n",
      "No. Observations:                  98   AIC:                             667.0\n",
      "Df Residuals:                      93   BIC:                             679.9\n",
      "Df Model:                           4                                         \n",
      "Covariance Type:            nonrobust                                         \n",
      "================================================================================\n",
      "                   coef    std err          t      P>|t|      [0.025      0.975]\n",
      "--------------------------------------------------------------------------------\n",
      "Intercept       -0.6229      5.228     -0.119      0.905     -11.004       9.758\n",
      "df.income        0.0010      0.000      4.586      0.000       0.001       0.001\n",
      "df.education     3.6732      0.641      5.735      0.000       2.401       4.945\n",
      "df.d_prof        6.0390      3.867      1.562      0.122      -1.640      13.718\n",
      "df.d_wc         -2.7372      2.514     -1.089      0.279      -7.729       2.255\n",
      "==============================================================================\n",
      "Omnibus:                        0.500   Durbin-Watson:                   1.787\n",
      "Prob(Omnibus):                  0.779   Jarque-Bera (JB):                0.652\n",
      "Skew:                          -0.106   Prob(JB):                        0.722\n",
      "Kurtosis:                       2.662   Cond. No.                     7.34e+04\n",
      "==============================================================================\n",
      "\n",
      "Warnings:\n",
      "[1] Standard Errors assume that the covariance matrix of the errors is correctly specified.\n",
      "[2] The condition number is large, 7.34e+04. This might indicate that there are\n",
      "strong multicollinearity or other numerical problems.\n"
     ]
    }
   ],
   "source": [
    "from statsmodels.formula.api import ols\n",
    "\n",
    "# Ajusta o modelo selecionado pelo método forward com as variáveis> income, education e type\n",
    "mod = ols('df.prestige ~ df.income + df.education + df.d_prof + df.d_wc',data=df)\n",
    "res = mod.fit()\n",
    "print(res.summary())"
   ]
  },
  {
   "cell_type": "markdown",
   "metadata": {},
   "source": [
    "Repare que a variável 'type' parece não ser significativa, mas vamos fazer o teste de hipóteses conjunto para verificar."
   ]
  },
  {
   "cell_type": "code",
   "execution_count": 28,
   "metadata": {},
   "outputs": [
    {
     "name": "stdout",
     "output_type": "stream",
     "text": [
      "[[0 0 0 0 1]\n",
      " [0 0 0 1 0]]\n",
      "<F test: F=array([[5.87213149]]), p=0.0039664382934755885, df_denom=93, df_num=2>\n"
     ]
    }
   ],
   "source": [
    "# H0: d_prof = d_wc = 0 (são os dois últimos parâmetros de regressão do modelo)\n",
    "R = [[0, 0, 0, 0, 1], [0, 0, 0, 1, 0]]\n",
    "print(np.array(R))\n",
    "print(res.f_test(R))"
   ]
  },
  {
   "cell_type": "markdown",
   "metadata": {},
   "source": [
    "Os dois parâmetros de regressão não são conjuntamente diferentes de 0. Assim, vamos excluir apenas um deles do modelo: o que tem o maior p-valor (d_wc)"
   ]
  },
  {
   "cell_type": "code",
   "execution_count": 29,
   "metadata": {},
   "outputs": [
    {
     "name": "stdout",
     "output_type": "stream",
     "text": [
      "                            OLS Regression Results                            \n",
      "==============================================================================\n",
      "Dep. Variable:            df.prestige   R-squared:                       0.833\n",
      "Model:                            OLS   Adj. R-squared:                  0.827\n",
      "Method:                 Least Squares   F-statistic:                     156.0\n",
      "Date:                Sat, 23 May 2020   Prob (F-statistic):           2.24e-36\n",
      "Time:                        19:13:33   Log-Likelihood:                -329.13\n",
      "No. Observations:                  98   AIC:                             666.3\n",
      "Df Residuals:                      94   BIC:                             676.6\n",
      "Df Model:                           3                                         \n",
      "Covariance Type:            nonrobust                                         \n",
      "================================================================================\n",
      "                   coef    std err          t      P>|t|      [0.025      0.975]\n",
      "--------------------------------------------------------------------------------\n",
      "Intercept        2.5815      4.325      0.597      0.552      -6.005      11.168\n",
      "df.income        0.0011      0.000      4.979      0.000       0.001       0.001\n",
      "df.education     3.1941      0.466      6.856      0.000       2.269       4.119\n",
      "df.d_prof        8.9829      2.767      3.246      0.002       3.489      14.477\n",
      "==============================================================================\n",
      "Omnibus:                        0.466   Durbin-Watson:                   1.737\n",
      "Prob(Omnibus):                  0.792   Jarque-Bera (JB):                0.610\n",
      "Skew:                          -0.041   Prob(JB):                        0.737\n",
      "Kurtosis:                       2.622   Cond. No.                     5.50e+04\n",
      "==============================================================================\n",
      "\n",
      "Warnings:\n",
      "[1] Standard Errors assume that the covariance matrix of the errors is correctly specified.\n",
      "[2] The condition number is large, 5.5e+04. This might indicate that there are\n",
      "strong multicollinearity or other numerical problems.\n"
     ]
    }
   ],
   "source": [
    "# Modeolo com: income, education e prof\n",
    "mod = ols('df.prestige ~ df.income + df.education + df.d_prof',data=df)\n",
    "res = mod.fit()\n",
    "print(res.summary())"
   ]
  },
  {
   "cell_type": "code",
   "execution_count": null,
   "metadata": {},
   "outputs": [],
   "source": []
  },
  {
   "cell_type": "markdown",
   "metadata": {},
   "source": [
    "Agora todos os parâmetros de regressão são significativamente diferentes de zero (menos o intercepto). Repare que o $R^2$ ajustado e o AIC são quase os mesmos do modelo anterior (adicionado de d_wc) e o BIC diminui um pouco. Por ser um modelo com menos variáveis explicativas, todas significativas, e ter leve indício de ser mais adequado do que o anterior, decido estas são as variáveis explicativas que permaneceráo no modelo final. \n",
    "Por questões de melhor interpretação (do intercepto), ajustarei o mesmo modelo com as variáveis quantitativas centradas. Além disso, também verificarei se existe alguma interação entre as variáveis que se mantiveram como significativas."
   ]
  },
  {
   "cell_type": "code",
   "execution_count": 31,
   "metadata": {},
   "outputs": [
    {
     "name": "stdout",
     "output_type": "stream",
     "text": [
      "                            OLS Regression Results                            \n",
      "==============================================================================\n",
      "Dep. Variable:            df.prestige   R-squared:                       0.866\n",
      "Model:                            OLS   Adj. R-squared:                  0.855\n",
      "Method:                 Least Squares   F-statistic:                     82.76\n",
      "Date:                Sat, 23 May 2020   Prob (F-statistic):           1.94e-36\n",
      "Time:                        19:23:13   Log-Likelihood:                -318.44\n",
      "No. Observations:                  98   AIC:                             652.9\n",
      "Df Residuals:                      90   BIC:                             673.6\n",
      "Df Model:                           7                                         \n",
      "Covariance Type:            nonrobust                                         \n",
      "==================================================================================================\n",
      "                                     coef    std err          t      P>|t|      [0.025      0.975]\n",
      "--------------------------------------------------------------------------------------------------\n",
      "Intercept                         46.1934      1.322     34.945      0.000      43.567      48.820\n",
      "income_c                           0.0022      0.001      4.207      0.000       0.001       0.003\n",
      "education_c                        2.2729      0.754      3.014      0.003       0.775       3.771\n",
      "income_c:education_c              -0.0004      0.000     -1.278      0.205      -0.001       0.000\n",
      "df.d_prof                         11.0392      3.834      2.879      0.005       3.422      18.656\n",
      "income_c:df.d_prof                -0.0020      0.001     -2.787      0.006      -0.004      -0.001\n",
      "education_c:df.d_prof              0.1742      1.355      0.129      0.898      -2.517       2.866\n",
      "income_c:education_c:df.d_prof     0.0005      0.000      1.567      0.121      -0.000       0.001\n",
      "==============================================================================\n",
      "Omnibus:                        1.318   Durbin-Watson:                   1.970\n",
      "Prob(Omnibus):                  0.517   Jarque-Bera (JB):                0.807\n",
      "Skew:                           0.167   Prob(JB):                        0.668\n",
      "Kurtosis:                       3.294   Cond. No.                     1.28e+05\n",
      "==============================================================================\n",
      "\n",
      "Warnings:\n",
      "[1] Standard Errors assume that the covariance matrix of the errors is correctly specified.\n",
      "[2] The condition number is large, 1.28e+05. This might indicate that there are\n",
      "strong multicollinearity or other numerical problems.\n"
     ]
    }
   ],
   "source": [
    "income_c = data.income-np.mean(data.income)\n",
    "education_c = data.education-np.mean(data.education)\n",
    "\n",
    "# para incluir as interações, troco '+' por '*'\n",
    "mod = ols('df.prestige ~ income_c * education_c * df.d_prof',data=df)\n",
    "res = mod.fit()\n",
    "print(res.summary())"
   ]
  },
  {
   "cell_type": "markdown",
   "metadata": {},
   "source": [
    "Comecemos com os termos das interações de maior ordem, que são muito difíceis de serem interpretadas. Como a interação de segunda ordem (income:education:df_prof) foi não significativa, começo excluindo-a."
   ]
  },
  {
   "cell_type": "code",
   "execution_count": 33,
   "metadata": {},
   "outputs": [
    {
     "name": "stdout",
     "output_type": "stream",
     "text": [
      "                            OLS Regression Results                            \n",
      "==============================================================================\n",
      "Dep. Variable:            df.prestige   R-squared:                       0.862\n",
      "Model:                            OLS   Adj. R-squared:                  0.853\n",
      "Method:                 Least Squares   F-statistic:                     94.63\n",
      "Date:                Sat, 23 May 2020   Prob (F-statistic):           6.32e-37\n",
      "Time:                        19:30:26   Log-Likelihood:                -319.76\n",
      "No. Observations:                  98   AIC:                             653.5\n",
      "Df Residuals:                      91   BIC:                             671.6\n",
      "Df Model:                           6                                         \n",
      "Covariance Type:            nonrobust                                         \n",
      "=========================================================================================\n",
      "                            coef    std err          t      P>|t|      [0.025      0.975]\n",
      "-----------------------------------------------------------------------------------------\n",
      "Intercept                46.9410      1.243     37.778      0.000      44.473      49.409\n",
      "income_c                  0.0027      0.000      6.104      0.000       0.002       0.004\n",
      "education_c               3.0765      0.557      5.522      0.000       1.970       4.183\n",
      "income_c:education_c    3.46e-05      0.000      0.272      0.787      -0.000       0.000\n",
      "df.d_prof                 8.9362      3.620      2.469      0.015       1.746      16.127\n",
      "income_c:df.d_prof       -0.0022      0.001     -2.997      0.004      -0.004      -0.001\n",
      "education_c:df.d_prof    -0.1444      1.350     -0.107      0.915      -2.826       2.537\n",
      "==============================================================================\n",
      "Omnibus:                        0.714   Durbin-Watson:                   1.911\n",
      "Prob(Omnibus):                  0.700   Jarque-Bera (JB):                0.332\n",
      "Skew:                           0.106   Prob(JB):                        0.847\n",
      "Kurtosis:                       3.191   Cond. No.                     9.03e+04\n",
      "==============================================================================\n",
      "\n",
      "Warnings:\n",
      "[1] Standard Errors assume that the covariance matrix of the errors is correctly specified.\n",
      "[2] The condition number is large, 9.03e+04. This might indicate that there are\n",
      "strong multicollinearity or other numerical problems.\n"
     ]
    }
   ],
   "source": [
    "# para incluir as interações, troco '+' por '*'\n",
    "mod = ols('df.prestige ~ income_c * education_c + income_c * df.d_prof + education_c * df.d_prof',data=df)\n",
    "res = mod.fit()\n",
    "print(res.summary())"
   ]
  },
  {
   "cell_type": "markdown",
   "metadata": {},
   "source": [
    "Neste modelo, a interação entre df_prof e education, também não é significativa e irei excluí-la."
   ]
  },
  {
   "cell_type": "code",
   "execution_count": 34,
   "metadata": {},
   "outputs": [
    {
     "name": "stdout",
     "output_type": "stream",
     "text": [
      "                            OLS Regression Results                            \n",
      "==============================================================================\n",
      "Dep. Variable:            df.prestige   R-squared:                       0.862\n",
      "Model:                            OLS   Adj. R-squared:                  0.854\n",
      "Method:                 Least Squares   F-statistic:                     114.8\n",
      "Date:                Sat, 23 May 2020   Prob (F-statistic):           5.62e-38\n",
      "Time:                        19:31:58   Log-Likelihood:                -319.76\n",
      "No. Observations:                  98   AIC:                             651.5\n",
      "Df Residuals:                      92   BIC:                             667.0\n",
      "Df Model:                           5                                         \n",
      "Covariance Type:            nonrobust                                         \n",
      "========================================================================================\n",
      "                           coef    std err          t      P>|t|      [0.025      0.975]\n",
      "----------------------------------------------------------------------------------------\n",
      "Intercept               46.9002      1.176     39.870      0.000      44.564      49.237\n",
      "income_c                 0.0027      0.000      6.195      0.000       0.002       0.004\n",
      "education_c              3.0391      0.432      7.041      0.000       2.182       3.896\n",
      "income_c:education_c   2.57e-05   9.59e-05      0.268      0.789      -0.000       0.000\n",
      "df.d_prof                8.6631      2.553      3.394      0.001       3.594      13.733\n",
      "income_c:df.d_prof      -0.0022      0.001     -3.236      0.002      -0.003      -0.001\n",
      "==============================================================================\n",
      "Omnibus:                        0.731   Durbin-Watson:                   1.915\n",
      "Prob(Omnibus):                  0.694   Jarque-Bera (JB):                0.340\n",
      "Skew:                           0.104   Prob(JB):                        0.844\n",
      "Kurtosis:                       3.200   Cond. No.                     6.54e+04\n",
      "==============================================================================\n",
      "\n",
      "Warnings:\n",
      "[1] Standard Errors assume that the covariance matrix of the errors is correctly specified.\n",
      "[2] The condition number is large, 6.54e+04. This might indicate that there are\n",
      "strong multicollinearity or other numerical problems.\n"
     ]
    }
   ],
   "source": [
    "mod = ols('df.prestige ~ income_c * education_c + income_c * df.d_prof',data=df)\n",
    "res = mod.fit()\n",
    "print(res.summary())"
   ]
  },
  {
   "cell_type": "markdown",
   "metadata": {},
   "source": [
    "Income e education também não têm interação significativa."
   ]
  },
  {
   "cell_type": "code",
   "execution_count": 35,
   "metadata": {},
   "outputs": [
    {
     "name": "stdout",
     "output_type": "stream",
     "text": [
      "                            OLS Regression Results                            \n",
      "==============================================================================\n",
      "Dep. Variable:            df.prestige   R-squared:                       0.862\n",
      "Model:                            OLS   Adj. R-squared:                  0.856\n",
      "Method:                 Least Squares   F-statistic:                     144.9\n",
      "Date:                Sat, 23 May 2020   Prob (F-statistic):           4.53e-39\n",
      "Time:                        19:34:15   Log-Likelihood:                -319.80\n",
      "No. Observations:                  98   AIC:                             649.6\n",
      "Df Residuals:                      93   BIC:                             662.5\n",
      "Df Model:                           4                                         \n",
      "Covariance Type:            nonrobust                                         \n",
      "======================================================================================\n",
      "                         coef    std err          t      P>|t|      [0.025      0.975]\n",
      "--------------------------------------------------------------------------------------\n",
      "Intercept             46.9029      1.170     40.074      0.000      44.579      49.227\n",
      "income_c               0.0027      0.000      6.483      0.000       0.002       0.003\n",
      "education_c            3.0282      0.428      7.083      0.000       2.179       3.877\n",
      "df.d_prof              8.7224      2.530      3.447      0.001       3.698      13.747\n",
      "income_c:df.d_prof    -0.0020      0.000     -4.416      0.000      -0.003      -0.001\n",
      "==============================================================================\n",
      "Omnibus:                        0.656   Durbin-Watson:                   1.928\n",
      "Prob(Omnibus):                  0.720   Jarque-Bera (JB):                0.298\n",
      "Skew:                           0.104   Prob(JB):                        0.862\n",
      "Kurtosis:                       3.171   Cond. No.                     2.20e+04\n",
      "==============================================================================\n",
      "\n",
      "Warnings:\n",
      "[1] Standard Errors assume that the covariance matrix of the errors is correctly specified.\n",
      "[2] The condition number is large, 2.2e+04. This might indicate that there are\n",
      "strong multicollinearity or other numerical problems.\n"
     ]
    }
   ],
   "source": [
    "mod = ols('df.prestige ~ income_c + education_c + income_c * df.d_prof',data=df)\n",
    "res = mod.fit()\n",
    "print(res.summary())"
   ]
  },
  {
   "cell_type": "markdown",
   "metadata": {},
   "source": [
    "Agora, todos os parâmetros de regressão são significativamente diferentes de zero e, portanto, este é o modelo final.\n",
    "Interpretando-o:\n",
    "1) Intercepto: 46,9 é o valor esperado do prestígio para income e education iguais às médias (6939 e 10,8, respectivamente) e d_prof=0 (incluindo a interação com ela), ou seja, para os tipos de ocupação blue e white collars.\n",
    "\n",
    "2) Income: 0,0027 é o aumento esperado do prestígio para 1 dólar aumentado na renda, para ocupações com o mesmo tempo de educação e do tipo collar (blue ou white); talvez seja mais interessante interpretar que o aumento esperado do prestígio é de 0,0027*1000 = 2,7 para um aumento de 1000 dólares canadenses na renda de uma ocupação blue ou white collar, por exemplo.\n",
    "\n",
    "3) Education: espera-se um aumento de 3 unidades no prestígio para o aumento de 1 ano de educação, para ocupações com mesma renda média (income) e de um mesmo tipo (seja ele qual for). Neste caso, não restringimos a interpretação aos blue ou white collar, pois essa variável education não tem interação com tipo de ocupação (type).\n",
    "\n",
    "4) d_prof: 46,9+8,7 = 55,6 é o valor esperado do prestígio para income e education iguais às médias (6939 e 10,8, respectivamente) e tipo de ocupação profissional (ou gerenciamento ou técnica). Repare que 8,7 é a diferenca no prestígio por se tratar de uma ocupação do tipo profissional (e não blue ou white collor).\n",
    "\n",
    "5) Interação income e d_prof: 0,0027-0,0020=0,0007 é o aumento esperado do prestígio para 1 dólar aumentado na renda, para ocupações com o mesmo tempo de educação e do tipo profissionais. Repare que esse aumento é menor do que o esperado nas ocupações do tipo blue e white collors. Analogamento ao feito anteriormente, pode-se interpretar como um aumento de 0,7 no prestígio para aumento de 1000 dólares na renda das ocupações do tipo profissionais. \n",
    "\n",
    "Todas essas estimativas também estão acompanhadas dos respectivos intervalos de confiança. Repare que o intervalo de confiança para 'd_prof\" tem grande amplitude, indicando pouca precisão dessa estimativa."
   ]
  },
  {
   "cell_type": "markdown",
   "metadata": {},
   "source": [
    "Podemos confirmar a escolha do modelo final, comparando-se os índices AIC, BIC e $R^2_a$, conforme tabela abaixo. Veja que o modelo escolhido foi o que apresentou os melhors índices (maior $R^2_a$ e menores AIC, BIC).\n",
    "\n",
    "Modelo | Variáveis                                              | AIC   | BIC   | $$R^2_a$$\n",
    "-------|--------------------------------------------------------|-------|-------|-------\n",
    "1      | income, education, type                                | 667   | 679,9 | 82,8%\n",
    "2      | income, education, prof                                | 666,3 | 676,6 | 82,7%\n",
    "3      | income, education, prof, todas as interações           | 652,9 | 673,6 | 85,5%\n",
    "4      | income, education, prof, interações de 1a ordem        | 653,5 | 671,6 | 85,3%\n",
    "5      | income, education, prof, income*education, income*prof | 651,5 | 667   | 85,4%\n",
    "6      | income, education, prof, income*prof                   | 649,6 | 662   | 85,6%"
   ]
  },
  {
   "cell_type": "code",
   "execution_count": null,
   "metadata": {},
   "outputs": [],
   "source": []
  }
 ],
 "metadata": {
  "kernelspec": {
   "display_name": "Python 3",
   "language": "python",
   "name": "python3"
  },
  "language_info": {
   "codemirror_mode": {
    "name": "ipython",
    "version": 3
   },
   "file_extension": ".py",
   "mimetype": "text/x-python",
   "name": "python",
   "nbconvert_exporter": "python",
   "pygments_lexer": "ipython3",
   "version": "3.7.3"
  }
 },
 "nbformat": 4,
 "nbformat_minor": 2
}
