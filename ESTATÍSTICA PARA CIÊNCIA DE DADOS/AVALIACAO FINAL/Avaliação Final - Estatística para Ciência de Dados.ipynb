{
 "cells": [
  {
   "cell_type": "markdown",
   "metadata": {},
   "source": [
    "Os dados do arquivo Brain, em anexo, referem-se ao peso do cérebro (g), tamanho da cabeça (cm3) de 237 adultos, identificados por sexo e grupo etário. O estudo teve por objetivo verificar se:\n",
    "\n",
    "* ***1) Há diferença no peso cerebral entre os sexos? E entre os grupos etários?***\n",
    "\n",
    "* ***2) O tamanho da cabeça é preditor do peso cerebral e, neste caso, há diferença nessa relação entre os sexos e entre os grupos etários?***\n",
    "\n",
    "* ***3) Estime o peso médio do cérebro de homens e de mulheres (pontual e intervalar).***\n",
    "\n",
    "Interprete seus resultados e verifique se as suposições dos métodos são adequadas a estes dados.\n",
    "\n",
    "Se uma das suas respostas (aos itens 1, 2 ou 3) aplicar, além da estatística clássica, também a inferencial (de maneira adequada, claro), sua nota será acrescida de 1 ponto (ou seja, sua prova fica valendo 11 pontos).\n",
    "\n",
    "O formato de entrega será de dois arquivos: \n",
    "\n",
    "**1 PDF, com os resultados resumidos e comentados\n",
    "e outro em Jupyter Notebook, com os códigos usados para a obtenção dos resultados. Este notebook, deve ser comentado de forma a facilmente identificar os códigos de cada análise.**"
   ]
  },
  {
   "cell_type": "markdown",
   "metadata": {},
   "source": [
    "# Importando as bibliotecas"
   ]
  },
  {
   "cell_type": "code",
   "execution_count": 1,
   "metadata": {},
   "outputs": [],
   "source": [
    "#Importando as bibliotecas\n",
    "import pandas as pd\n",
    "import numpy as np\n",
    "from scipy import stats\n",
    "import matplotlib.pyplot as plt\n",
    "from statsmodels.formula.api import ols\n",
    "import seaborn as sns\n",
    "from statsmodels.stats.outliers_influence import variance_inflation_factor\n",
    "from statistics import mean, pstdev, stdev\n",
    "from numpy.random import seed\n",
    "from numpy.random import randn\n",
    "from statsmodels.graphics.gofplots import qqplot\n",
    "from matplotlib import pyplot\n",
    "from scipy.stats import shapiro\n",
    "import statsmodels.stats.api as sms"
   ]
  },
  {
   "cell_type": "markdown",
   "metadata": {},
   "source": [
    "# Lendo e analisando de maneira bem básica os dados"
   ]
  },
  {
   "cell_type": "code",
   "execution_count": 2,
   "metadata": {},
   "outputs": [
    {
     "data": {
      "text/html": [
       "<div>\n",
       "<style scoped>\n",
       "    .dataframe tbody tr th:only-of-type {\n",
       "        vertical-align: middle;\n",
       "    }\n",
       "\n",
       "    .dataframe tbody tr th {\n",
       "        vertical-align: top;\n",
       "    }\n",
       "\n",
       "    .dataframe thead th {\n",
       "        text-align: right;\n",
       "    }\n",
       "</style>\n",
       "<table border=\"1\" class=\"dataframe\">\n",
       "  <thead>\n",
       "    <tr style=\"text-align: right;\">\n",
       "      <th></th>\n",
       "      <th>Homem</th>\n",
       "      <th>Acima45</th>\n",
       "      <th>Tamanho</th>\n",
       "      <th>Peso</th>\n",
       "      <th>Desc_Homem</th>\n",
       "      <th>Desc_Idade</th>\n",
       "      <th>Homem_Acima45_Concat</th>\n",
       "    </tr>\n",
       "  </thead>\n",
       "  <tbody>\n",
       "    <tr>\n",
       "      <th>0</th>\n",
       "      <td>1</td>\n",
       "      <td>0</td>\n",
       "      <td>4512</td>\n",
       "      <td>1530</td>\n",
       "      <td>Homem</td>\n",
       "      <td>Abaixo de 45</td>\n",
       "      <td>Homem e Abaixo de 45</td>\n",
       "    </tr>\n",
       "    <tr>\n",
       "      <th>1</th>\n",
       "      <td>1</td>\n",
       "      <td>0</td>\n",
       "      <td>3738</td>\n",
       "      <td>1297</td>\n",
       "      <td>Homem</td>\n",
       "      <td>Abaixo de 45</td>\n",
       "      <td>Homem e Abaixo de 45</td>\n",
       "    </tr>\n",
       "    <tr>\n",
       "      <th>2</th>\n",
       "      <td>1</td>\n",
       "      <td>0</td>\n",
       "      <td>4261</td>\n",
       "      <td>1335</td>\n",
       "      <td>Homem</td>\n",
       "      <td>Abaixo de 45</td>\n",
       "      <td>Homem e Abaixo de 45</td>\n",
       "    </tr>\n",
       "    <tr>\n",
       "      <th>3</th>\n",
       "      <td>1</td>\n",
       "      <td>0</td>\n",
       "      <td>3777</td>\n",
       "      <td>1282</td>\n",
       "      <td>Homem</td>\n",
       "      <td>Abaixo de 45</td>\n",
       "      <td>Homem e Abaixo de 45</td>\n",
       "    </tr>\n",
       "    <tr>\n",
       "      <th>4</th>\n",
       "      <td>1</td>\n",
       "      <td>0</td>\n",
       "      <td>4177</td>\n",
       "      <td>1590</td>\n",
       "      <td>Homem</td>\n",
       "      <td>Abaixo de 45</td>\n",
       "      <td>Homem e Abaixo de 45</td>\n",
       "    </tr>\n",
       "  </tbody>\n",
       "</table>\n",
       "</div>"
      ],
      "text/plain": [
       "   Homem  Acima45  Tamanho  Peso Desc_Homem    Desc_Idade  \\\n",
       "0      1        0     4512  1530      Homem  Abaixo de 45   \n",
       "1      1        0     3738  1297      Homem  Abaixo de 45   \n",
       "2      1        0     4261  1335      Homem  Abaixo de 45   \n",
       "3      1        0     3777  1282      Homem  Abaixo de 45   \n",
       "4      1        0     4177  1590      Homem  Abaixo de 45   \n",
       "\n",
       "   Homem_Acima45_Concat  \n",
       "0  Homem e Abaixo de 45  \n",
       "1  Homem e Abaixo de 45  \n",
       "2  Homem e Abaixo de 45  \n",
       "3  Homem e Abaixo de 45  \n",
       "4  Homem e Abaixo de 45  "
      ]
     },
     "execution_count": 2,
     "metadata": {},
     "output_type": "execute_result"
    }
   ],
   "source": [
    "# Dados de entrada\n",
    "df = pd.read_csv(\"Brain.csv\", sep = ',', na_values = '-', encoding= 'unicode_escape')\n",
    "df['Desc_Homem'] = ['Homem' if x ==1 else 'Mulher' for x in df['Homem']] \n",
    "df['Desc_Idade'] = ['Acima de 45' if x ==1 else 'Abaixo de 45' for x in df['Acima45']]\n",
    "df[\"Homem_Acima45_Concat\"] = df[\"Desc_Homem\"] + \" e \" + df[\"Desc_Idade\"].astype(str)\n",
    "df.head(5)"
   ]
  },
  {
   "cell_type": "code",
   "execution_count": 3,
   "metadata": {},
   "outputs": [
    {
     "data": {
      "text/html": [
       "<div>\n",
       "<style scoped>\n",
       "    .dataframe tbody tr th:only-of-type {\n",
       "        vertical-align: middle;\n",
       "    }\n",
       "\n",
       "    .dataframe tbody tr th {\n",
       "        vertical-align: top;\n",
       "    }\n",
       "\n",
       "    .dataframe thead th {\n",
       "        text-align: right;\n",
       "    }\n",
       "</style>\n",
       "<table border=\"1\" class=\"dataframe\">\n",
       "  <thead>\n",
       "    <tr style=\"text-align: right;\">\n",
       "      <th></th>\n",
       "      <th>Quantidade_De_Missings</th>\n",
       "    </tr>\n",
       "  </thead>\n",
       "  <tbody>\n",
       "    <tr>\n",
       "      <th>Homem</th>\n",
       "      <td>0</td>\n",
       "    </tr>\n",
       "    <tr>\n",
       "      <th>Acima45</th>\n",
       "      <td>0</td>\n",
       "    </tr>\n",
       "    <tr>\n",
       "      <th>Tamanho</th>\n",
       "      <td>0</td>\n",
       "    </tr>\n",
       "    <tr>\n",
       "      <th>Peso</th>\n",
       "      <td>0</td>\n",
       "    </tr>\n",
       "    <tr>\n",
       "      <th>Desc_Homem</th>\n",
       "      <td>0</td>\n",
       "    </tr>\n",
       "    <tr>\n",
       "      <th>Desc_Idade</th>\n",
       "      <td>0</td>\n",
       "    </tr>\n",
       "    <tr>\n",
       "      <th>Homem_Acima45_Concat</th>\n",
       "      <td>0</td>\n",
       "    </tr>\n",
       "  </tbody>\n",
       "</table>\n",
       "</div>"
      ],
      "text/plain": [
       "                      Quantidade_De_Missings\n",
       "Homem                                      0\n",
       "Acima45                                    0\n",
       "Tamanho                                    0\n",
       "Peso                                       0\n",
       "Desc_Homem                                 0\n",
       "Desc_Idade                                 0\n",
       "Homem_Acima45_Concat                       0"
      ]
     },
     "execution_count": 3,
     "metadata": {},
     "output_type": "execute_result"
    }
   ],
   "source": [
    "#Avaliando se temos alguma variável com missing\n",
    "pd.DataFrame(df.isna().sum()).rename(columns={0: \"Quantidade_De_Missings\"}).sort_values(by=['Quantidade_De_Missings'],ascending=False)"
   ]
  },
  {
   "cell_type": "code",
   "execution_count": 4,
   "metadata": {},
   "outputs": [
    {
     "data": {
      "text/html": [
       "<div>\n",
       "<style scoped>\n",
       "    .dataframe tbody tr th:only-of-type {\n",
       "        vertical-align: middle;\n",
       "    }\n",
       "\n",
       "    .dataframe tbody tr th {\n",
       "        vertical-align: top;\n",
       "    }\n",
       "\n",
       "    .dataframe thead th {\n",
       "        text-align: right;\n",
       "    }\n",
       "</style>\n",
       "<table border=\"1\" class=\"dataframe\">\n",
       "  <thead>\n",
       "    <tr style=\"text-align: right;\">\n",
       "      <th></th>\n",
       "      <th>Homem</th>\n",
       "      <th>Acima45</th>\n",
       "      <th>Tamanho</th>\n",
       "      <th>Peso</th>\n",
       "    </tr>\n",
       "  </thead>\n",
       "  <tbody>\n",
       "    <tr>\n",
       "      <th>count</th>\n",
       "      <td>237.000000</td>\n",
       "      <td>237.000000</td>\n",
       "      <td>237.000000</td>\n",
       "      <td>237.000000</td>\n",
       "    </tr>\n",
       "    <tr>\n",
       "      <th>mean</th>\n",
       "      <td>0.565401</td>\n",
       "      <td>0.535865</td>\n",
       "      <td>3633.991561</td>\n",
       "      <td>1282.873418</td>\n",
       "    </tr>\n",
       "    <tr>\n",
       "      <th>std</th>\n",
       "      <td>0.496753</td>\n",
       "      <td>0.499768</td>\n",
       "      <td>365.261422</td>\n",
       "      <td>120.340446</td>\n",
       "    </tr>\n",
       "    <tr>\n",
       "      <th>min</th>\n",
       "      <td>0.000000</td>\n",
       "      <td>0.000000</td>\n",
       "      <td>2720.000000</td>\n",
       "      <td>955.000000</td>\n",
       "    </tr>\n",
       "    <tr>\n",
       "      <th>25%</th>\n",
       "      <td>0.000000</td>\n",
       "      <td>0.000000</td>\n",
       "      <td>3389.000000</td>\n",
       "      <td>1207.000000</td>\n",
       "    </tr>\n",
       "    <tr>\n",
       "      <th>50%</th>\n",
       "      <td>1.000000</td>\n",
       "      <td>1.000000</td>\n",
       "      <td>3614.000000</td>\n",
       "      <td>1280.000000</td>\n",
       "    </tr>\n",
       "    <tr>\n",
       "      <th>75%</th>\n",
       "      <td>1.000000</td>\n",
       "      <td>1.000000</td>\n",
       "      <td>3876.000000</td>\n",
       "      <td>1350.000000</td>\n",
       "    </tr>\n",
       "    <tr>\n",
       "      <th>max</th>\n",
       "      <td>1.000000</td>\n",
       "      <td>1.000000</td>\n",
       "      <td>4747.000000</td>\n",
       "      <td>1635.000000</td>\n",
       "    </tr>\n",
       "  </tbody>\n",
       "</table>\n",
       "</div>"
      ],
      "text/plain": [
       "            Homem     Acima45      Tamanho         Peso\n",
       "count  237.000000  237.000000   237.000000   237.000000\n",
       "mean     0.565401    0.535865  3633.991561  1282.873418\n",
       "std      0.496753    0.499768   365.261422   120.340446\n",
       "min      0.000000    0.000000  2720.000000   955.000000\n",
       "25%      0.000000    0.000000  3389.000000  1207.000000\n",
       "50%      1.000000    1.000000  3614.000000  1280.000000\n",
       "75%      1.000000    1.000000  3876.000000  1350.000000\n",
       "max      1.000000    1.000000  4747.000000  1635.000000"
      ]
     },
     "execution_count": 4,
     "metadata": {},
     "output_type": "execute_result"
    }
   ],
   "source": [
    "# Descritiva inicial\n",
    "df.describe()"
   ]
  },
  {
   "cell_type": "code",
   "execution_count": 5,
   "metadata": {},
   "outputs": [
    {
     "name": "stdout",
     "output_type": "stream",
     "text": [
      "Valores únicos da variável Acima45: [0 1]\n",
      "Valores únicos da variável Homem: [1 0]\n"
     ]
    }
   ],
   "source": [
    "#pelo visto, é temos duas variáveis que são flags. Avaliando o preenchimento das mesmas\n",
    "print(\"Valores únicos da variável Acima45:\", df.Acima45.unique())\n",
    "print(\"Valores únicos da variável Homem:\", df.Homem.unique())\n",
    "# Pelos valores observados, sim, são flags"
   ]
  },
  {
   "cell_type": "code",
   "execution_count": 6,
   "metadata": {
    "scrolled": true
   },
   "outputs": [
    {
     "name": "stderr",
     "output_type": "stream",
     "text": [
      "C:\\ProgramData\\Anaconda3\\lib\\site-packages\\ipykernel_launcher.py:2: FutureWarning: Indexing with multiple keys (implicitly converted to a tuple of keys) will be deprecated, use a list instead.\n",
      "  \n"
     ]
    },
    {
     "data": {
      "text/html": [
       "<div>\n",
       "<style scoped>\n",
       "    .dataframe tbody tr th:only-of-type {\n",
       "        vertical-align: middle;\n",
       "    }\n",
       "\n",
       "    .dataframe tbody tr th {\n",
       "        vertical-align: top;\n",
       "    }\n",
       "\n",
       "    .dataframe thead th {\n",
       "        text-align: right;\n",
       "    }\n",
       "</style>\n",
       "<table border=\"1\" class=\"dataframe\">\n",
       "  <thead>\n",
       "    <tr style=\"text-align: right;\">\n",
       "      <th></th>\n",
       "      <th>Homem</th>\n",
       "      <th>Tamanho</th>\n",
       "      <th>Peso</th>\n",
       "    </tr>\n",
       "  </thead>\n",
       "  <tbody>\n",
       "    <tr>\n",
       "      <th>0</th>\n",
       "      <td>0</td>\n",
       "      <td>3420.3</td>\n",
       "      <td>1219.1</td>\n",
       "    </tr>\n",
       "    <tr>\n",
       "      <th>1</th>\n",
       "      <td>1</td>\n",
       "      <td>3798.3</td>\n",
       "      <td>1331.9</td>\n",
       "    </tr>\n",
       "  </tbody>\n",
       "</table>\n",
       "</div>"
      ],
      "text/plain": [
       "   Homem  Tamanho    Peso\n",
       "0      0   3420.3  1219.1\n",
       "1      1   3798.3  1331.9"
      ]
     },
     "execution_count": 6,
     "metadata": {},
     "output_type": "execute_result"
    }
   ],
   "source": [
    "# Médias agrupadas pelo Sexo: \n",
    "df.groupby('Homem',as_index=False)['Tamanho','Peso'].mean().round(1)"
   ]
  },
  {
   "cell_type": "code",
   "execution_count": 7,
   "metadata": {},
   "outputs": [
    {
     "name": "stderr",
     "output_type": "stream",
     "text": [
      "C:\\ProgramData\\Anaconda3\\lib\\site-packages\\ipykernel_launcher.py:2: FutureWarning: Indexing with multiple keys (implicitly converted to a tuple of keys) will be deprecated, use a list instead.\n",
      "  \n"
     ]
    },
    {
     "data": {
      "text/html": [
       "<div>\n",
       "<style scoped>\n",
       "    .dataframe tbody tr th:only-of-type {\n",
       "        vertical-align: middle;\n",
       "    }\n",
       "\n",
       "    .dataframe tbody tr th {\n",
       "        vertical-align: top;\n",
       "    }\n",
       "\n",
       "    .dataframe thead th {\n",
       "        text-align: right;\n",
       "    }\n",
       "</style>\n",
       "<table border=\"1\" class=\"dataframe\">\n",
       "  <thead>\n",
       "    <tr style=\"text-align: right;\">\n",
       "      <th></th>\n",
       "      <th>Acima45</th>\n",
       "      <th>Tamanho</th>\n",
       "      <th>Peso</th>\n",
       "    </tr>\n",
       "  </thead>\n",
       "  <tbody>\n",
       "    <tr>\n",
       "      <th>0</th>\n",
       "      <td>0</td>\n",
       "      <td>3675.3</td>\n",
       "      <td>1304.7</td>\n",
       "    </tr>\n",
       "    <tr>\n",
       "      <th>1</th>\n",
       "      <td>1</td>\n",
       "      <td>3598.2</td>\n",
       "      <td>1263.9</td>\n",
       "    </tr>\n",
       "  </tbody>\n",
       "</table>\n",
       "</div>"
      ],
      "text/plain": [
       "   Acima45  Tamanho    Peso\n",
       "0        0   3675.3  1304.7\n",
       "1        1   3598.2  1263.9"
      ]
     },
     "execution_count": 7,
     "metadata": {},
     "output_type": "execute_result"
    }
   ],
   "source": [
    "# Médias agrupadas pela Faixa de Idade\n",
    "df.groupby('Acima45',as_index=False)['Tamanho','Peso'].mean().round(1)"
   ]
  },
  {
   "cell_type": "code",
   "execution_count": 8,
   "metadata": {},
   "outputs": [
    {
     "data": {
      "text/html": [
       "<div>\n",
       "<style scoped>\n",
       "    .dataframe tbody tr th:only-of-type {\n",
       "        vertical-align: middle;\n",
       "    }\n",
       "\n",
       "    .dataframe tbody tr th {\n",
       "        vertical-align: top;\n",
       "    }\n",
       "\n",
       "    .dataframe thead th {\n",
       "        text-align: right;\n",
       "    }\n",
       "</style>\n",
       "<table border=\"1\" class=\"dataframe\">\n",
       "  <thead>\n",
       "    <tr style=\"text-align: right;\">\n",
       "      <th></th>\n",
       "      <th>Homem</th>\n",
       "      <th>Acima45</th>\n",
       "      <th>Tamanho</th>\n",
       "      <th>Peso</th>\n",
       "    </tr>\n",
       "  </thead>\n",
       "  <tbody>\n",
       "    <tr>\n",
       "      <th>0</th>\n",
       "      <td>0</td>\n",
       "      <td>0</td>\n",
       "      <td>3471.4</td>\n",
       "      <td>1239.7</td>\n",
       "    </tr>\n",
       "    <tr>\n",
       "      <th>1</th>\n",
       "      <td>0</td>\n",
       "      <td>1</td>\n",
       "      <td>3366.1</td>\n",
       "      <td>1197.3</td>\n",
       "    </tr>\n",
       "    <tr>\n",
       "      <th>2</th>\n",
       "      <td>1</td>\n",
       "      <td>0</td>\n",
       "      <td>3864.8</td>\n",
       "      <td>1365.2</td>\n",
       "    </tr>\n",
       "    <tr>\n",
       "      <th>3</th>\n",
       "      <td>1</td>\n",
       "      <td>1</td>\n",
       "      <td>3749.0</td>\n",
       "      <td>1307.2</td>\n",
       "    </tr>\n",
       "  </tbody>\n",
       "</table>\n",
       "</div>"
      ],
      "text/plain": [
       "   Homem  Acima45  Tamanho    Peso\n",
       "0      0        0   3471.4  1239.7\n",
       "1      0        1   3366.1  1197.3\n",
       "2      1        0   3864.8  1365.2\n",
       "3      1        1   3749.0  1307.2"
      ]
     },
     "execution_count": 8,
     "metadata": {},
     "output_type": "execute_result"
    }
   ],
   "source": [
    "df.groupby(['Homem', 'Acima45'],as_index=False).mean().round(1)"
   ]
  },
  {
   "cell_type": "code",
   "execution_count": 9,
   "metadata": {},
   "outputs": [
    {
     "data": {
      "image/png": "[encoded data removed]",
      "text/plain": [
       "<Figure size 432x288 with 1 Axes>"
      ]
     },
     "metadata": {
      "needs_background": "light"
     },
     "output_type": "display_data"
    }
   ],
   "source": [
    "ax = sns.boxplot(x=\"Homem\", y=\"Peso\", data=df)"
   ]
  },
  {
   "cell_type": "code",
   "execution_count": 10,
   "metadata": {},
   "outputs": [
    {
     "data": {
      "image/png": "[encoded data removed]",
      "text/plain": [
       "<Figure size 432x288 with 1 Axes>"
      ]
     },
     "metadata": {
      "needs_background": "light"
     },
     "output_type": "display_data"
    }
   ],
   "source": [
    "ax = sns.boxplot(x=\"Acima45\", y=\"Peso\", data=df)"
   ]
  },
  {
   "cell_type": "markdown",
   "metadata": {},
   "source": [
    "# Iniciando a resolução do Exercício 1"
   ]
  },
  {
   "cell_type": "code",
   "execution_count": 11,
   "metadata": {},
   "outputs": [
    {
     "data": {
      "text/html": [
       "<div>\n",
       "<style scoped>\n",
       "    .dataframe tbody tr th:only-of-type {\n",
       "        vertical-align: middle;\n",
       "    }\n",
       "\n",
       "    .dataframe tbody tr th {\n",
       "        vertical-align: top;\n",
       "    }\n",
       "\n",
       "    .dataframe thead th {\n",
       "        text-align: right;\n",
       "    }\n",
       "</style>\n",
       "<table border=\"1\" class=\"dataframe\">\n",
       "  <thead>\n",
       "    <tr style=\"text-align: right;\">\n",
       "      <th></th>\n",
       "      <th>Homem</th>\n",
       "      <th>Acima45</th>\n",
       "      <th>Tamanho</th>\n",
       "      <th>Peso</th>\n",
       "      <th>Desc_Homem</th>\n",
       "      <th>Desc_Idade</th>\n",
       "      <th>Homem_Acima45_Concat</th>\n",
       "      <th>Tamanho_Centrado</th>\n",
       "      <th>Peso_Centrado</th>\n",
       "    </tr>\n",
       "  </thead>\n",
       "  <tbody>\n",
       "    <tr>\n",
       "      <th>0</th>\n",
       "      <td>1</td>\n",
       "      <td>0</td>\n",
       "      <td>4512</td>\n",
       "      <td>1530</td>\n",
       "      <td>Homem</td>\n",
       "      <td>Abaixo de 45</td>\n",
       "      <td>Homem e Abaixo de 45</td>\n",
       "      <td>878.008439</td>\n",
       "      <td>247.126582</td>\n",
       "    </tr>\n",
       "    <tr>\n",
       "      <th>1</th>\n",
       "      <td>1</td>\n",
       "      <td>0</td>\n",
       "      <td>3738</td>\n",
       "      <td>1297</td>\n",
       "      <td>Homem</td>\n",
       "      <td>Abaixo de 45</td>\n",
       "      <td>Homem e Abaixo de 45</td>\n",
       "      <td>104.008439</td>\n",
       "      <td>14.126582</td>\n",
       "    </tr>\n",
       "    <tr>\n",
       "      <th>2</th>\n",
       "      <td>1</td>\n",
       "      <td>0</td>\n",
       "      <td>4261</td>\n",
       "      <td>1335</td>\n",
       "      <td>Homem</td>\n",
       "      <td>Abaixo de 45</td>\n",
       "      <td>Homem e Abaixo de 45</td>\n",
       "      <td>627.008439</td>\n",
       "      <td>52.126582</td>\n",
       "    </tr>\n",
       "    <tr>\n",
       "      <th>3</th>\n",
       "      <td>1</td>\n",
       "      <td>0</td>\n",
       "      <td>3777</td>\n",
       "      <td>1282</td>\n",
       "      <td>Homem</td>\n",
       "      <td>Abaixo de 45</td>\n",
       "      <td>Homem e Abaixo de 45</td>\n",
       "      <td>143.008439</td>\n",
       "      <td>-0.873418</td>\n",
       "    </tr>\n",
       "    <tr>\n",
       "      <th>4</th>\n",
       "      <td>1</td>\n",
       "      <td>0</td>\n",
       "      <td>4177</td>\n",
       "      <td>1590</td>\n",
       "      <td>Homem</td>\n",
       "      <td>Abaixo de 45</td>\n",
       "      <td>Homem e Abaixo de 45</td>\n",
       "      <td>543.008439</td>\n",
       "      <td>307.126582</td>\n",
       "    </tr>\n",
       "  </tbody>\n",
       "</table>\n",
       "</div>"
      ],
      "text/plain": [
       "   Homem  Acima45  Tamanho  Peso Desc_Homem    Desc_Idade  \\\n",
       "0      1        0     4512  1530      Homem  Abaixo de 45   \n",
       "1      1        0     3738  1297      Homem  Abaixo de 45   \n",
       "2      1        0     4261  1335      Homem  Abaixo de 45   \n",
       "3      1        0     3777  1282      Homem  Abaixo de 45   \n",
       "4      1        0     4177  1590      Homem  Abaixo de 45   \n",
       "\n",
       "   Homem_Acima45_Concat  Tamanho_Centrado  Peso_Centrado  \n",
       "0  Homem e Abaixo de 45        878.008439     247.126582  \n",
       "1  Homem e Abaixo de 45        104.008439      14.126582  \n",
       "2  Homem e Abaixo de 45        627.008439      52.126582  \n",
       "3  Homem e Abaixo de 45        143.008439      -0.873418  \n",
       "4  Homem e Abaixo de 45        543.008439     307.126582  "
      ]
     },
     "execution_count": 11,
     "metadata": {},
     "output_type": "execute_result"
    }
   ],
   "source": [
    "# Calcula as variáveis centradas\n",
    "df['Tamanho_Centrado'] = df.Tamanho-np.mean(df.Tamanho)\n",
    "df['Peso_Centrado'] = df.Peso-np.mean(df.Peso)\n",
    "df.head()"
   ]
  },
  {
   "cell_type": "markdown",
   "metadata": {},
   "source": [
    "***1) Há diferença no peso cerebral entre os <span style=\"color:red\"> sexos </span>?***"
   ]
  },
  {
   "cell_type": "code",
   "execution_count": 12,
   "metadata": {},
   "outputs": [
    {
     "name": "stdout",
     "output_type": "stream",
     "text": [
      "P-valor do teste de levene:  0.767\n",
      "P-valor do teste de T:  0.0\n",
      "\n",
      "Conclusão: Não existe igualdade de peso considerando a variável Homem\n"
     ]
    }
   ],
   "source": [
    "# H0 --> μ1 = μ2\n",
    "# Ha --> μ1 ≠ μ2\n",
    "# Criando uma base com quem é 1 ou 0\n",
    "Homens_Classe_1 = df[df['Homem'] == 1]\n",
    "Homens_Classe_0 = df[df['Homem'] == 0]\n",
    "\n",
    "# Testando primeiro a igualdade de variancias\n",
    "print(\"P-valor do teste de levene: \",round(stats.levene(Homens_Classe_1['Peso'],Homens_Classe_0['Peso'])[1],3))\n",
    "# H0 --> Igualdade de variâncias\n",
    "# Ao avaliar o p-valor, não rejeitamos H0\n",
    "\n",
    "# Teste t de Student \n",
    "print(\"P-valor do teste de T: \",round(stats.ttest_ind(Homens_Classe_1['Peso'],Homens_Classe_0['Peso'])[1],3))\n",
    "\n",
    "#Ao considerar alpha=0.05 a Hipótese Nula H0 (igualdade de médias) pode ser rejeitada pois o valor p é menor que alpha\n",
    "\n",
    "print(\"\\nConclusão: Não existe igualdade de peso considerando a variável Homem\")\n"
   ]
  },
  {
   "cell_type": "markdown",
   "metadata": {},
   "source": [
    "***1) Há diferença no peso cerebral entre os <span style=\"color:red\"> grupos etários </span>?***"
   ]
  },
  {
   "cell_type": "code",
   "execution_count": 13,
   "metadata": {},
   "outputs": [
    {
     "name": "stdout",
     "output_type": "stream",
     "text": [
      "P-valor do teste de levene:  0.692\n",
      "P-valor do teste de T:  0.009\n",
      "\n",
      "Conclusão: Não existe igualdade de peso considerando a variável Acima45\n"
     ]
    }
   ],
   "source": [
    "# H0 --> μ1 = μ2\n",
    "# Ha --> μ1 ≠ μ2\n",
    "# Criando uma base com quem é 1 ou 0\n",
    "Acima45_Classe_1 = df[df['Acima45'] == 1]\n",
    "Acima45_Classe_0 = df[df['Acima45'] == 0]\n",
    "\n",
    "# Testando primeiro a igualdade de variancias\n",
    "print(\"P-valor do teste de levene: \",round(stats.levene(Acima45_Classe_1['Peso'],Acima45_Classe_0['Peso'])[1],3))\n",
    "# H0 --> Igualdade de variâncias\n",
    "# Ao avaliar o p-valor, não rejeitamos H0\n",
    "\n",
    "# Teste t de Student \n",
    "print(\"P-valor do teste de T: \",round(stats.ttest_ind(Acima45_Classe_1['Peso'],Acima45_Classe_0['Peso'])[1],3))\n",
    "\n",
    "# Ao considerar alpha=0.05 a Hipótese Nula H0 (igualdade de médias) pode ser rejeitada pois o valor p é menor que alpha\n",
    "\n",
    "### Conclusão: Não existe igualdade de peso considerando a variável Acima45\n",
    "print(\"\\nConclusão: Não existe igualdade de peso considerando a variável Acima45\")\n"
   ]
  },
  {
   "cell_type": "markdown",
   "metadata": {},
   "source": [
    "# Iniciando a resolução do Exercício 2"
   ]
  },
  {
   "cell_type": "markdown",
   "metadata": {},
   "source": [
    "***2) O tamanho da cabeça é preditor do peso cerebral e, neste caso, há diferença nessa relação entre os sexos e entre os grupos etários?***"
   ]
  },
  {
   "cell_type": "code",
   "execution_count": 14,
   "metadata": {},
   "outputs": [
    {
     "name": "stdout",
     "output_type": "stream",
     "text": [
      "                            OLS Regression Results                            \n",
      "==============================================================================\n",
      "Dep. Variable:                df.Peso   R-squared:                       0.656\n",
      "Model:                            OLS   Adj. R-squared:                  0.649\n",
      "Method:                 Least Squares   F-statistic:                     88.22\n",
      "Date:                Thu, 04 Jun 2020   Prob (F-statistic):           1.36e-51\n",
      "Time:                        12:34:43   Log-Likelihood:                -1344.5\n",
      "No. Observations:                 237   AIC:                             2701.\n",
      "Df Residuals:                     231   BIC:                             2722.\n",
      "Df Model:                           5                                         \n",
      "Covariance Type:            nonrobust                                         \n",
      "==================================================================================================\n",
      "                                     coef    std err          t      P>|t|      [0.025      0.975]\n",
      "--------------------------------------------------------------------------------------------------\n",
      "Intercept                       1287.5274      9.559    134.686      0.000    1268.693    1306.362\n",
      "df.Tamanho_Centrado                0.2493      0.029      8.651      0.000       0.193       0.306\n",
      "df.Homem                          20.5992     11.261      1.829      0.069      -1.587      42.786\n",
      "df.Tamanho_Centrado:df.Homem      -0.0314      0.031     -1.026      0.306      -0.092       0.029\n",
      "df.Acima45                       -24.0273      9.476     -2.535      0.012     -42.699      -5.356\n",
      "df.Tamanho_Centrado:df.Acima45     0.0264      0.026      1.026      0.306      -0.024       0.077\n",
      "==============================================================================\n",
      "Omnibus:                        7.206   Durbin-Watson:                   1.901\n",
      "Prob(Omnibus):                  0.027   Jarque-Bera (JB):                7.268\n",
      "Skew:                           0.341   Prob(JB):                       0.0264\n",
      "Kurtosis:                       3.520   Cond. No.                     1.38e+03\n",
      "==============================================================================\n",
      "\n",
      "Warnings:\n",
      "[1] Standard Errors assume that the covariance matrix of the errors is correctly specified.\n",
      "[2] The condition number is large, 1.38e+03. This might indicate that there are\n",
      "strong multicollinearity or other numerical problems.\n",
      "[4.259131865821489, 5.143312697336243, 1.4521828832837378, 2.924723241490718, 1.040979619178883, 2.1822535994201573]\n"
     ]
    }
   ],
   "source": [
    "# Ajustando o modelo\n",
    "mod = ols('df.Peso ~ df.Tamanho_Centrado * df.Homem + df.Tamanho_Centrado*df.Acima45',data=df)\n",
    "res = mod.fit()\n",
    "print(res.summary())\n",
    "variables = res.model.exog\n",
    "print([variance_inflation_factor(variables, i) for i in range(variables.shape[1])])"
   ]
  },
  {
   "cell_type": "code",
   "execution_count": 15,
   "metadata": {},
   "outputs": [
    {
     "name": "stdout",
     "output_type": "stream",
     "text": [
      "                            OLS Regression Results                            \n",
      "==============================================================================\n",
      "Dep. Variable:                df.Peso   R-squared:                       0.655\n",
      "Model:                            OLS   Adj. R-squared:                  0.649\n",
      "Method:                 Least Squares   F-statistic:                     110.0\n",
      "Date:                Thu, 04 Jun 2020   Prob (F-statistic):           2.05e-52\n",
      "Time:                        12:34:49   Log-Likelihood:                -1345.1\n",
      "No. Observations:                 237   AIC:                             2700.\n",
      "Df Residuals:                     232   BIC:                             2717.\n",
      "Df Model:                           4                                         \n",
      "Covariance Type:            nonrobust                                         \n",
      "==================================================================================================\n",
      "                                     coef    std err          t      P>|t|      [0.025      0.975]\n",
      "--------------------------------------------------------------------------------------------------\n",
      "Intercept                       1283.4812      8.710    147.362      0.000    1266.321    1300.641\n",
      "df.Tamanho_Centrado                0.2285      0.020     11.158      0.000       0.188       0.269\n",
      "df.Homem                          22.8107     11.054      2.064      0.040       1.032      44.589\n",
      "df.Acima45                       -24.1653      9.477     -2.550      0.011     -42.836      -5.494\n",
      "df.Tamanho_Centrado:df.Acima45     0.0290      0.026      1.131      0.259      -0.022       0.079\n",
      "==============================================================================\n",
      "Omnibus:                        7.248   Durbin-Watson:                   1.918\n",
      "Prob(Omnibus):                  0.027   Jarque-Bera (JB):                7.449\n",
      "Skew:                           0.331   Prob(JB):                       0.0241\n",
      "Kurtosis:                       3.562   Cond. No.                     1.17e+03\n",
      "==============================================================================\n",
      "\n",
      "Warnings:\n",
      "[1] Standard Errors assume that the covariance matrix of the errors is correctly specified.\n",
      "[2] The condition number is large, 1.17e+03. This might indicate that there are\n",
      "strong multicollinearity or other numerical problems.\n",
      "[3.534789958451698, 2.596253246155549, 1.3990110906604527, 1.040770186454728, 2.161458494390329]\n"
     ]
    }
   ],
   "source": [
    "# Como uma das interações não deu significativa, estou retirando uma delas (visto que ambas possuem o mesmo p-valor) \n",
    "# e deixando Homem sem a interação com o tamanho_centrado\n",
    "mod = ols('df.Peso ~ df.Tamanho_Centrado + df.Homem+ df.Tamanho_Centrado*df.Acima45',data=df)\n",
    "res = mod.fit()\n",
    "print(res.summary())\n",
    "variables = res.model.exog\n",
    "print([variance_inflation_factor(variables, i) for i in range(variables.shape[1])])"
   ]
  },
  {
   "cell_type": "code",
   "execution_count": 17,
   "metadata": {},
   "outputs": [
    {
     "name": "stdout",
     "output_type": "stream",
     "text": [
      "                            OLS Regression Results                            \n",
      "==============================================================================\n",
      "Dep. Variable:                df.Peso   R-squared:                       0.653\n",
      "Model:                            OLS   Adj. R-squared:                  0.648\n",
      "Method:                 Least Squares   F-statistic:                     146.0\n",
      "Date:                Thu, 04 Jun 2020   Prob (F-statistic):           2.94e-53\n",
      "Time:                        12:36:16   Log-Likelihood:                -1345.7\n",
      "No. Observations:                 237   AIC:                             2699.\n",
      "Df Residuals:                     233   BIC:                             2713.\n",
      "Df Model:                           3                                         \n",
      "Covariance Type:            nonrobust                                         \n",
      "=======================================================================================\n",
      "                          coef    std err          t      P>|t|      [0.025      0.975]\n",
      "---------------------------------------------------------------------------------------\n",
      "Intercept            1282.9713      8.703    147.412      0.000    1265.824    1300.118\n",
      "df.Tamanho_Centrado     0.2442      0.015     16.212      0.000       0.215       0.274\n",
      "df.Homem               22.5433     11.058      2.039      0.043       0.757      44.329\n",
      "df.Acima45            -23.9684      9.481     -2.528      0.012     -42.647      -5.290\n",
      "==============================================================================\n",
      "Omnibus:                        7.989   Durbin-Watson:                   1.922\n",
      "Prob(Omnibus):                  0.018   Jarque-Bera (JB):                8.255\n",
      "Skew:                           0.357   Prob(JB):                       0.0161\n",
      "Kurtosis:                       3.571   Cond. No.                     1.01e+03\n",
      "==============================================================================\n",
      "\n",
      "Warnings:\n",
      "[1] Standard Errors assume that the covariance matrix of the errors is correctly specified.\n",
      "[2] The condition number is large, 1.01e+03. This might indicate that there are\n",
      "strong multicollinearity or other numerical problems.\n",
      "[3.5253225566754294, 1.402975195652195, 1.3983710653327661, 1.0404193672560633]\n"
     ]
    }
   ],
   "source": [
    "# Como o maior p-valor foi da interação entre Tamanho centrado e Acima45, estou retirando a interação e deixando a \n",
    "# variável Acima45\n",
    "mod = ols('df.Peso ~ df.Tamanho_Centrado + df.Homem+ df.Acima45',data=df)\n",
    "res = mod.fit()\n",
    "print(res.summary())\n",
    "variables = res.model.exog\n",
    "print([variance_inflation_factor(variables, i) for i in range(variables.shape[1])])"
   ]
  },
  {
   "cell_type": "markdown",
   "metadata": {},
   "source": [
    "**<span style=\"color:red\"> Conclusão:** </span> Dado que as variáveis Homem e Acima45 são significativas no modelo, sua adição aumentou o R2, não temos problemas de multicolinearidade e considerando um nível de significância de 0.05 são aceitas no modelo, conclui-se que elas são importantes para uma melhor predição do Peso e que há diferença nessa na relação dessas variáveis para predição do peso cerebral."
   ]
  },
  {
   "cell_type": "code",
   "execution_count": 18,
   "metadata": {},
   "outputs": [
    {
     "name": "stdout",
     "output_type": "stream",
     "text": [
      "                  Multiple Comparison of Means - Tukey HSD, FWER=0.05                  \n",
      "=======================================================================================\n",
      "        group1                group2         meandiff p-adj    lower     upper   reject\n",
      "---------------------------------------------------------------------------------------\n",
      " Homem e Abaixo de 45   Homem e Acima de 45  -57.9806 0.0087 -105.0185  -10.9428   True\n",
      " Homem e Abaixo de 45 Mulher e Abaixo de 45 -125.4396  0.001 -176.8083  -74.0709   True\n",
      " Homem e Abaixo de 45  Mulher e Acima de 45 -167.8554  0.001 -220.0166 -115.6943   True\n",
      "  Homem e Acima de 45 Mulher e Abaixo de 45   -67.459 0.0019  -115.506   -19.412   True\n",
      "  Homem e Acima de 45  Mulher e Acima de 45 -109.8748  0.001 -158.7681  -60.9815   True\n",
      "Mulher e Abaixo de 45  Mulher e Acima de 45  -42.4158 0.1668  -95.4888   10.6571  False\n",
      "---------------------------------------------------------------------------------------\n"
     ]
    }
   ],
   "source": [
    "# Curiosidade minha. Quis apenas relembrar algo que lembrei ter visto na faculdade e testar se as medias dos 4 possíveis grupos eram iguais ou não\n",
    "from statsmodels.stats.multicomp import pairwise_tukeyhsd\n",
    "print(pairwise_tukeyhsd(df.Peso, df.Homem_Acima45_Concat))"
   ]
  },
  {
   "cell_type": "markdown",
   "metadata": {},
   "source": [
    "# Iniciando a resolução do Exercício 3"
   ]
  },
  {
   "cell_type": "markdown",
   "metadata": {},
   "source": [
    "***3) Estime o peso médio do cérebro de homens e de mulheres (pontual e intervalar).***"
   ]
  },
  {
   "cell_type": "code",
   "execution_count": 19,
   "metadata": {},
   "outputs": [],
   "source": [
    "# Para este exercício considerarei um 90% de confiança"
   ]
  },
  {
   "cell_type": "code",
   "execution_count": 20,
   "metadata": {},
   "outputs": [
    {
     "data": {
      "text/html": [
       "<div>\n",
       "<style scoped>\n",
       "    .dataframe tbody tr th:only-of-type {\n",
       "        vertical-align: middle;\n",
       "    }\n",
       "\n",
       "    .dataframe tbody tr th {\n",
       "        vertical-align: top;\n",
       "    }\n",
       "\n",
       "    .dataframe thead th {\n",
       "        text-align: right;\n",
       "    }\n",
       "</style>\n",
       "<table border=\"1\" class=\"dataframe\">\n",
       "  <thead>\n",
       "    <tr style=\"text-align: right;\">\n",
       "      <th></th>\n",
       "      <th>Homem</th>\n",
       "      <th>Acima45</th>\n",
       "      <th>Tamanho</th>\n",
       "      <th>Peso</th>\n",
       "      <th>Desc_Homem</th>\n",
       "      <th>Desc_Idade</th>\n",
       "      <th>Homem_Acima45_Concat</th>\n",
       "      <th>Tamanho_Centrado</th>\n",
       "      <th>Peso_Centrado</th>\n",
       "    </tr>\n",
       "  </thead>\n",
       "  <tbody>\n",
       "    <tr>\n",
       "      <th>0</th>\n",
       "      <td>1</td>\n",
       "      <td>0</td>\n",
       "      <td>4512</td>\n",
       "      <td>1530</td>\n",
       "      <td>Homem</td>\n",
       "      <td>Abaixo de 45</td>\n",
       "      <td>Homem e Abaixo de 45</td>\n",
       "      <td>878.008439</td>\n",
       "      <td>247.126582</td>\n",
       "    </tr>\n",
       "    <tr>\n",
       "      <th>1</th>\n",
       "      <td>1</td>\n",
       "      <td>0</td>\n",
       "      <td>3738</td>\n",
       "      <td>1297</td>\n",
       "      <td>Homem</td>\n",
       "      <td>Abaixo de 45</td>\n",
       "      <td>Homem e Abaixo de 45</td>\n",
       "      <td>104.008439</td>\n",
       "      <td>14.126582</td>\n",
       "    </tr>\n",
       "    <tr>\n",
       "      <th>2</th>\n",
       "      <td>1</td>\n",
       "      <td>0</td>\n",
       "      <td>4261</td>\n",
       "      <td>1335</td>\n",
       "      <td>Homem</td>\n",
       "      <td>Abaixo de 45</td>\n",
       "      <td>Homem e Abaixo de 45</td>\n",
       "      <td>627.008439</td>\n",
       "      <td>52.126582</td>\n",
       "    </tr>\n",
       "    <tr>\n",
       "      <th>3</th>\n",
       "      <td>1</td>\n",
       "      <td>0</td>\n",
       "      <td>3777</td>\n",
       "      <td>1282</td>\n",
       "      <td>Homem</td>\n",
       "      <td>Abaixo de 45</td>\n",
       "      <td>Homem e Abaixo de 45</td>\n",
       "      <td>143.008439</td>\n",
       "      <td>-0.873418</td>\n",
       "    </tr>\n",
       "    <tr>\n",
       "      <th>4</th>\n",
       "      <td>1</td>\n",
       "      <td>0</td>\n",
       "      <td>4177</td>\n",
       "      <td>1590</td>\n",
       "      <td>Homem</td>\n",
       "      <td>Abaixo de 45</td>\n",
       "      <td>Homem e Abaixo de 45</td>\n",
       "      <td>543.008439</td>\n",
       "      <td>307.126582</td>\n",
       "    </tr>\n",
       "  </tbody>\n",
       "</table>\n",
       "</div>"
      ],
      "text/plain": [
       "   Homem  Acima45  Tamanho  Peso Desc_Homem    Desc_Idade  \\\n",
       "0      1        0     4512  1530      Homem  Abaixo de 45   \n",
       "1      1        0     3738  1297      Homem  Abaixo de 45   \n",
       "2      1        0     4261  1335      Homem  Abaixo de 45   \n",
       "3      1        0     3777  1282      Homem  Abaixo de 45   \n",
       "4      1        0     4177  1590      Homem  Abaixo de 45   \n",
       "\n",
       "   Homem_Acima45_Concat  Tamanho_Centrado  Peso_Centrado  \n",
       "0  Homem e Abaixo de 45        878.008439     247.126582  \n",
       "1  Homem e Abaixo de 45        104.008439      14.126582  \n",
       "2  Homem e Abaixo de 45        627.008439      52.126582  \n",
       "3  Homem e Abaixo de 45        143.008439      -0.873418  \n",
       "4  Homem e Abaixo de 45        543.008439     307.126582  "
      ]
     },
     "execution_count": 20,
     "metadata": {},
     "output_type": "execute_result"
    }
   ],
   "source": [
    "Base_Homens = df[df['Homem'] == 1]\n",
    "Base_Mulheres = df[df['Homem'] == 0]\n",
    "Base_Homens.head(5)"
   ]
  },
  {
   "cell_type": "code",
   "execution_count": 21,
   "metadata": {},
   "outputs": [
    {
     "data": {
      "text/html": [
       "<div>\n",
       "<style scoped>\n",
       "    .dataframe tbody tr th:only-of-type {\n",
       "        vertical-align: middle;\n",
       "    }\n",
       "\n",
       "    .dataframe tbody tr th {\n",
       "        vertical-align: top;\n",
       "    }\n",
       "\n",
       "    .dataframe thead th {\n",
       "        text-align: right;\n",
       "    }\n",
       "</style>\n",
       "<table border=\"1\" class=\"dataframe\">\n",
       "  <thead>\n",
       "    <tr style=\"text-align: right;\">\n",
       "      <th></th>\n",
       "      <th>Homem</th>\n",
       "      <th>Acima45</th>\n",
       "      <th>Tamanho</th>\n",
       "      <th>Peso</th>\n",
       "      <th>Desc_Homem</th>\n",
       "      <th>Desc_Idade</th>\n",
       "      <th>Homem_Acima45_Concat</th>\n",
       "      <th>Tamanho_Centrado</th>\n",
       "      <th>Peso_Centrado</th>\n",
       "    </tr>\n",
       "  </thead>\n",
       "  <tbody>\n",
       "    <tr>\n",
       "      <th>134</th>\n",
       "      <td>0</td>\n",
       "      <td>0</td>\n",
       "      <td>2857</td>\n",
       "      <td>1027</td>\n",
       "      <td>Mulher</td>\n",
       "      <td>Abaixo de 45</td>\n",
       "      <td>Mulher e Abaixo de 45</td>\n",
       "      <td>-776.991561</td>\n",
       "      <td>-255.873418</td>\n",
       "    </tr>\n",
       "    <tr>\n",
       "      <th>135</th>\n",
       "      <td>0</td>\n",
       "      <td>0</td>\n",
       "      <td>3436</td>\n",
       "      <td>1235</td>\n",
       "      <td>Mulher</td>\n",
       "      <td>Abaixo de 45</td>\n",
       "      <td>Mulher e Abaixo de 45</td>\n",
       "      <td>-197.991561</td>\n",
       "      <td>-47.873418</td>\n",
       "    </tr>\n",
       "    <tr>\n",
       "      <th>136</th>\n",
       "      <td>0</td>\n",
       "      <td>0</td>\n",
       "      <td>3791</td>\n",
       "      <td>1260</td>\n",
       "      <td>Mulher</td>\n",
       "      <td>Abaixo de 45</td>\n",
       "      <td>Mulher e Abaixo de 45</td>\n",
       "      <td>157.008439</td>\n",
       "      <td>-22.873418</td>\n",
       "    </tr>\n",
       "    <tr>\n",
       "      <th>137</th>\n",
       "      <td>0</td>\n",
       "      <td>0</td>\n",
       "      <td>3302</td>\n",
       "      <td>1165</td>\n",
       "      <td>Mulher</td>\n",
       "      <td>Abaixo de 45</td>\n",
       "      <td>Mulher e Abaixo de 45</td>\n",
       "      <td>-331.991561</td>\n",
       "      <td>-117.873418</td>\n",
       "    </tr>\n",
       "    <tr>\n",
       "      <th>138</th>\n",
       "      <td>0</td>\n",
       "      <td>0</td>\n",
       "      <td>3104</td>\n",
       "      <td>1080</td>\n",
       "      <td>Mulher</td>\n",
       "      <td>Abaixo de 45</td>\n",
       "      <td>Mulher e Abaixo de 45</td>\n",
       "      <td>-529.991561</td>\n",
       "      <td>-202.873418</td>\n",
       "    </tr>\n",
       "  </tbody>\n",
       "</table>\n",
       "</div>"
      ],
      "text/plain": [
       "     Homem  Acima45  Tamanho  Peso Desc_Homem    Desc_Idade  \\\n",
       "134      0        0     2857  1027     Mulher  Abaixo de 45   \n",
       "135      0        0     3436  1235     Mulher  Abaixo de 45   \n",
       "136      0        0     3791  1260     Mulher  Abaixo de 45   \n",
       "137      0        0     3302  1165     Mulher  Abaixo de 45   \n",
       "138      0        0     3104  1080     Mulher  Abaixo de 45   \n",
       "\n",
       "      Homem_Acima45_Concat  Tamanho_Centrado  Peso_Centrado  \n",
       "134  Mulher e Abaixo de 45       -776.991561    -255.873418  \n",
       "135  Mulher e Abaixo de 45       -197.991561     -47.873418  \n",
       "136  Mulher e Abaixo de 45        157.008439     -22.873418  \n",
       "137  Mulher e Abaixo de 45       -331.991561    -117.873418  \n",
       "138  Mulher e Abaixo de 45       -529.991561    -202.873418  "
      ]
     },
     "execution_count": 21,
     "metadata": {},
     "output_type": "execute_result"
    }
   ],
   "source": [
    "Base_Mulheres.head(5)"
   ]
  },
  {
   "cell_type": "code",
   "execution_count": 22,
   "metadata": {},
   "outputs": [
    {
     "data": {
      "image/png": "[encoded data removed]",
      "text/plain": [
       "<Figure size 432x288 with 1 Axes>"
      ]
     },
     "metadata": {
      "needs_background": "light"
     },
     "output_type": "display_data"
    },
    {
     "data": {
      "image/png": "[encoded data removed]",
      "text/plain": [
       "<Figure size 432x288 with 1 Axes>"
      ]
     },
     "metadata": {
      "needs_background": "light"
     },
     "output_type": "display_data"
    },
    {
     "name": "stdout",
     "output_type": "stream",
     "text": [
      "Pvalor do teste de normalidade shapiro:  0.029\n",
      "Conclusão: Considerando um nível de significância de 0.01, a distribuição é normal\n"
     ]
    }
   ],
   "source": [
    "# QQ Plot\n",
    "qqplot(Base_Homens.Peso, line='s')\n",
    "pyplot.show()\n",
    "\n",
    "# Será que o número de amostras é o bastante para aproximar a distribuição da média amostral da Normal?\n",
    "# Aqui faremos um teste gerando amostras bootstrap para ver se converge para uma normal\n",
    "for n_samples in [100]:\n",
    "    valor = Base_Homens[['Peso']]\n",
    "    medias = []\n",
    "    for _ in range(500):\n",
    "        amostras = Base_Homens.sample(n_samples,replace=True)['Peso']\n",
    "        medias.append(amostras.mean())\n",
    "    plt.hist(medias, bins = 30)\n",
    "    plt.title('n_samples %d' % n_samples)\n",
    "    plt.show()\n",
    "\n",
    "p_valor=round(stats.shapiro(Base_Homens.Peso)[1],3)\n",
    "print(\"Pvalor do teste de normalidade shapiro: \",p_valor)\n",
    "print(\"Conclusão: Considerando um nível de significância de 0.01, a distribuição é normal\")"
   ]
  },
  {
   "cell_type": "code",
   "execution_count": 23,
   "metadata": {},
   "outputs": [
    {
     "data": {
      "image/png": "[encoded data removed]",
      "text/plain": [
       "<Figure size 432x288 with 1 Axes>"
      ]
     },
     "metadata": {
      "needs_background": "light"
     },
     "output_type": "display_data"
    },
    {
     "data": {
      "image/png": "[encoded data removed]",
      "text/plain": [
       "<Figure size 432x288 with 1 Axes>"
      ]
     },
     "metadata": {
      "needs_background": "light"
     },
     "output_type": "display_data"
    },
    {
     "name": "stdout",
     "output_type": "stream",
     "text": [
      "Pvalor do teste de normalidade shapiro:  0.992\n",
      "Conclusão: Considerando um nível de significância de 0.01, a distribuição é normal\n"
     ]
    }
   ],
   "source": [
    "# QQ Plot\n",
    "qqplot(Base_Mulheres.Peso, line='s')\n",
    "pyplot.show()\n",
    "\n",
    "# Será que o número de amostras é o bastante para aproximar a distribuição da média amostral da Normal?\n",
    "# Aqui faremos um teste gerando amostras bootstrap para ver se converge para uma normal\n",
    "for n_samples in [100]:\n",
    "    valor = Base_Mulheres[['Peso']]\n",
    "    medias = []\n",
    "    for _ in range(500):\n",
    "        amostras = Base_Mulheres.sample(n_samples,replace=True)['Peso']\n",
    "        medias.append(amostras.mean())\n",
    "    plt.hist(medias, bins = 30)\n",
    "    plt.title('n_samples %d' % n_samples)\n",
    "    plt.show()\n",
    "    \n",
    "p_valor=round(stats.shapiro(Base_Mulheres.Peso)[1],3)\n",
    "print(\"Pvalor do teste de normalidade shapiro: \",p_valor)\n",
    "print(\"Conclusão: Considerando um nível de significância de 0.01, a distribuição é normal\")"
   ]
  },
  {
   "cell_type": "code",
   "execution_count": 24,
   "metadata": {},
   "outputs": [
    {
     "name": "stdout",
     "output_type": "stream",
     "text": [
      "Melhor mu: 1331.5726290516207\n",
      "Estimativa intervalar para o Peso dos Homens:  (1313.2447792718747, 1350.4716386385733)\n"
     ]
    },
    {
     "data": {
      "text/plain": [
       "[<matplotlib.lines.Line2D at 0x1a71eaa02c8>]"
      ]
     },
     "execution_count": 24,
     "metadata": {},
     "output_type": "execute_result"
    },
    {
     "data": {
      "image/png": "[encoded data removed]",
      "text/plain": [
       "<Figure size 432x288 with 1 Axes>"
      ]
     },
     "metadata": {
      "needs_background": "light"
     },
     "output_type": "display_data"
    }
   ],
   "source": [
    "#Conhecendo a forma da função log-verossimilhança da amostra da distribuição Normal\n",
    "# tomando os dados do peso dos homens, podemos fazer a estimativa da média:\n",
    "def get_ll_normal(x, mu, sigma):\n",
    "    return np.sum(np.log(stats.norm.pdf(x, mu, sigma)))\n",
    "\n",
    "x = Base_Homens.Peso # iguala x a variável \"Media\" \n",
    "sigma = np.std(x) # # parâmetro fixo, igualado ao desvio padrão amostral\n",
    "theta = np.linspace(200, 2000, 2500) # parâmetro que vamos variar (mu)\n",
    "f_theta1 = np.array([get_ll_normal(x, mu, sigma) for mu in theta])\n",
    "\n",
    "i_best = np.argmax(f_theta1) # cálculo (numérico) do estimador de máxima verossimilhança (EMV) de mu\n",
    "print('Melhor mu:', theta[i_best])\n",
    "print(\"Estimativa intervalar para o Peso dos Homens: \",sms.DescrStatsW(Base_Homens.Peso).tconfint_mean()) # IC para média de uma Normal (desvio padrão desconhecido)\n",
    "\n",
    "plt.plot(theta, f_theta1)\n",
    "plt.plot([theta[i_best]], [f_theta1[i_best]], 'r*') # coloca uma estrelinha no maior valor (EMV)\n",
    "\n"
   ]
  },
  {
   "cell_type": "code",
   "execution_count": 25,
   "metadata": {},
   "outputs": [
    {
     "name": "stdout",
     "output_type": "stream",
     "text": [
      "Melhor mu: 1219.2076830732294\n",
      "Estimativa intervalar para o Peso das Mulheres:  (1198.8531509366069, 1239.4381111993155)\n"
     ]
    },
    {
     "data": {
      "text/plain": [
       "[<matplotlib.lines.Line2D at 0x1a71ec76588>]"
      ]
     },
     "execution_count": 25,
     "metadata": {},
     "output_type": "execute_result"
    },
    {
     "data": {
      "image/png": "[encoded data removed]",
      "text/plain": [
       "<Figure size 432x288 with 1 Axes>"
      ]
     },
     "metadata": {
      "needs_background": "light"
     },
     "output_type": "display_data"
    }
   ],
   "source": [
    "#Conhecendo a forma da função log-verossimilhança da amostra da distribuição Normal\n",
    "# tomando os dados do peso das mulheres, podemos fazer a estimativa da média:\n",
    "def get_ll_normal(x, mu, sigma):\n",
    "    return np.sum(np.log(stats.norm.pdf(x, mu, sigma)))\n",
    "\n",
    "x = Base_Mulheres.Peso #\n",
    "sigma = np.std(x) \n",
    "theta = np.linspace(200, 2000, 2500)\n",
    "f_theta1 = np.array([get_ll_normal(x, mu, sigma) for mu in theta])\n",
    "\n",
    "i_best = np.argmax(f_theta1) \n",
    "print('Melhor mu:', theta[i_best])\n",
    "print(\"Estimativa intervalar para o Peso das Mulheres: \",sms.DescrStatsW(Base_Mulheres.Peso).tconfint_mean()) # IC para média de uma Normal (desvio padrão desconhecido)\n",
    "\n",
    "plt.plot(theta, f_theta1)\n",
    "plt.plot([theta[i_best]], [f_theta1[i_best]], 'r*') "
   ]
  },
  {
   "cell_type": "markdown",
   "metadata": {},
   "source": [
    "**<span style=\"color:red\"> Conclusão: </span> Após executar avaliar e constatar a normalidade dos dados, foi possível obter a estimatíva da média considerando máxima verossimilhança e a estimativa pontual para o valor do peso considerando Homens e Mulheres.**\n",
    "\n",
    "**Para homens, temos que a média obtida pelo EMV é igual a 1331.5726290516207, com intervalo de (1313.2447792718747, 1350.4716386385733)**\n",
    "\n",
    "**Para Mulheres, temos que a média obtida pelo EMV é igual a 1219.2076830732294, com intervalo de (1198.8531509366069, 1239.4381111993155)**"
   ]
  },
  {
   "cell_type": "code",
   "execution_count": null,
   "metadata": {},
   "outputs": [],
   "source": []
  }
 ],
 "metadata": {
  "kernelspec": {
   "display_name": "Python 3",
   "language": "python",
   "name": "python3"
  },
  "language_info": {
   "codemirror_mode": {
    "name": "ipython",
    "version": 3
   },
   "file_extension": ".py",
   "mimetype": "text/x-python",
   "name": "python",
   "nbconvert_exporter": "python",
   "pygments_lexer": "ipython3",
   "version": "3.6.5"
  }
 },
 "nbformat": 4,
 "nbformat_minor": 2
}
