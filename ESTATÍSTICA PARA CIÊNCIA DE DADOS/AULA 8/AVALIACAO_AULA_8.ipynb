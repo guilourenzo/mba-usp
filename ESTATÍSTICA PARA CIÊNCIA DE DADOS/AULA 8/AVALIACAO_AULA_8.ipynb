{
 "cells": [
  {
   "cell_type": "code",
   "execution_count": 1,
   "metadata": {},
   "outputs": [
    {
     "output_type": "stream",
     "name": "stderr",
     "text": "WARNING (theano.configdefaults): g++ not detected ! Theano will be unable to execute optimized C-implementations (for both CPU and GPU) and will default to Python implementations. Performance will be severely degraded. To remove this warning, set Theano flags cxx to an empty string.\nWARNING (theano.tensor.blas): Using NumPy C-API based implementation for BLAS functions.\n"
    }
   ],
   "source": [
    "import numpy as np\n",
    "import pandas as pd\n",
    "import matplotlib.pyplot as plt\n",
    "\n",
    "import statistics\n",
    "from scipy import stats\n",
    "from scipy.stats import norm\n",
    "from statsmodels.formula.api import ols\n",
    "from patsy import dmatrices\n",
    "from statsmodels.stats.outliers_influence import variance_inflation_factor\n",
    "import pymc3\n",
    "\n",
    "\n",
    "df = pd.read_csv(\"Prestigio.csv\", sep = ',', na_values = '-', encoding= 'unicode_escape')\n",
    "df.dropna(inplace=True)"
   ]
  },
  {
   "cell_type": "markdown",
   "metadata": {},
   "source": [
    "### Opção 1 - Regressão: *Education e Income*"
   ]
  },
  {
   "cell_type": "code",
   "execution_count": 2,
   "metadata": {},
   "outputs": [
    {
     "output_type": "stream",
     "name": "stdout",
     "text": "OLS Regression Results                            \n==============================================================================\nDep. Variable:            df.prestige   R-squared:                       0.814\nModel:                            OLS   Adj. R-squared:                  0.810\nMethod:                 Least Squares   F-statistic:                     207.9\nDate:                Fri, 05 Jun 2020   Prob (F-statistic):           2.00e-35\nTime:                        01:04:07   Log-Likelihood:                -334.33\nNo. Observations:                  98   AIC:                             674.7\nDf Residuals:                      95   BIC:                             682.4\nDf Model:                           2                                         \nCovariance Type:            nonrobust                                         \n================================================================================\n                   coef    std err          t      P>|t|      [0.025      0.975]\n--------------------------------------------------------------------------------\nIntercept       -7.6210      3.116     -2.446      0.016     -13.808      -1.435\ndf.income        0.0012      0.000      5.682      0.000       0.001       0.002\ndf.education     4.2921      0.336     12.772      0.000       3.625       4.959\n==============================================================================\nOmnibus:                        1.398   Durbin-Watson:                   1.589\nProb(Omnibus):                  0.497   Jarque-Bera (JB):                1.237\nSkew:                          -0.110   Prob(JB):                        0.539\nKurtosis:                       2.496   Cond. No.                     3.38e+04\n==============================================================================\n\nWarnings:\n[1] Standard Errors assume that the covariance matrix of the errors is correctly specified.\n[2] The condition number is large, 3.38e+04. This might indicate that there are\nstrong multicollinearity or other numerical problems.\n"
    }
   ],
   "source": [
    "mod = ols('df.prestige ~ df.income + df.education',data=df)\n",
    "res = mod.fit()\n",
    "print(res.summary())"
   ]
  },
  {
   "cell_type": "markdown",
   "metadata": {},
   "source": [
    "### Opção 1 - VIF"
   ]
  },
  {
   "cell_type": "code",
   "execution_count": 3,
   "metadata": {},
   "outputs": [
    {
     "output_type": "stream",
     "name": "stdout",
     "text": "VIF Factor      features\n0   17.147364     Intercept\n1    1.491621        income\n2    1.491621  df.education\n"
    }
   ],
   "source": [
    "y, X = dmatrices('prestige ~ income + df.education', df, return_type='dataframe')\n",
    "\n",
    "vif = pd.DataFrame()\n",
    "vif[\"VIF Factor\"] = [variance_inflation_factor(X.values, i) for i in range(X.shape[1])]\n",
    "vif[\"features\"] = X.columns\n",
    "print(vif)"
   ]
  },
  {
   "cell_type": "markdown",
   "metadata": {},
   "source": [
    "### Opção 2 - Regressão: * Education e Income e respectiva interação*"
   ]
  },
  {
   "cell_type": "code",
   "execution_count": 4,
   "metadata": {},
   "outputs": [
    {
     "output_type": "stream",
     "name": "stdout",
     "text": "OLS Regression Results                            \n==============================================================================\nDep. Variable:            df.prestige   R-squared:                       0.826\nModel:                            OLS   Adj. R-squared:                  0.820\nMethod:                 Least Squares   F-statistic:                     148.8\nDate:                Fri, 05 Jun 2020   Prob (F-statistic):           1.43e-35\nTime:                        01:04:08   Log-Likelihood:                -331.07\nNo. Observations:                  98   AIC:                             670.1\nDf Residuals:                      94   BIC:                             680.5\nDf Model:                           3                                         \nCovariance Type:            nonrobust                                         \n==========================================================================================\n                             coef    std err          t      P>|t|      [0.025      0.975]\n------------------------------------------------------------------------------------------\nIntercept                -22.4323      6.558     -3.421      0.001     -35.453      -9.411\ndf.income                  0.0037      0.001      3.726      0.000       0.002       0.006\ndf.education               5.4759      0.568      9.637      0.000       4.348       6.604\ndf.income:df.education    -0.0002   7.37e-05     -2.547      0.013      -0.000   -4.14e-05\n==============================================================================\nOmnibus:                        0.819   Durbin-Watson:                   1.696\nProb(Omnibus):                  0.664   Jarque-Bera (JB):                0.930\nSkew:                          -0.153   Prob(JB):                        0.628\nKurtosis:                       2.634   Cond. No.                     9.58e+05\n==============================================================================\n\nWarnings:\n[1] Standard Errors assume that the covariance matrix of the errors is correctly specified.\n[2] The condition number is large, 9.58e+05. This might indicate that there are\nstrong multicollinearity or other numerical problems.\n"
    }
   ],
   "source": [
    "mod = ols('df.prestige ~ df.income * df.education',data=df)\n",
    "res = mod.fit()\n",
    "print(res.summary())"
   ]
  },
  {
   "cell_type": "markdown",
   "metadata": {},
   "source": [
    "### Opção 2 - VIF"
   ]
  },
  {
   "cell_type": "code",
   "execution_count": 5,
   "metadata": {},
   "outputs": [
    {
     "output_type": "stream",
     "name": "stdout",
     "text": "VIF Factor             features\n0   80.324156            Intercept\n1   33.276948               income\n2    4.510336         df.education\n3   47.051137  income:df.education\n"
    }
   ],
   "source": [
    "y, X = dmatrices('prestige ~ income * df.education', df, return_type='dataframe')\n",
    "\n",
    "vif = pd.DataFrame()\n",
    "vif[\"VIF Factor\"] = [variance_inflation_factor(X.values, i) for i in range(X.shape[1])]\n",
    "vif[\"features\"] = X.columns\n",
    "print(vif)"
   ]
  },
  {
   "cell_type": "markdown",
   "metadata": {},
   "source": [
    "### Opção 3 - Regressão: *Education e Income, ambas padronizadas*"
   ]
  },
  {
   "cell_type": "code",
   "execution_count": 6,
   "metadata": {},
   "outputs": [
    {
     "output_type": "stream",
     "name": "stdout",
     "text": "OLS Regression Results                            \n==============================================================================\nDep. Variable:            df.prestige   R-squared:                       0.814\nModel:                            OLS   Adj. R-squared:                  0.810\nMethod:                 Least Squares   F-statistic:                     207.9\nDate:                Fri, 05 Jun 2020   Prob (F-statistic):           2.00e-35\nTime:                        01:04:09   Log-Likelihood:                -334.33\nNo. Observations:                  98   AIC:                             674.7\nDf Residuals:                      95   BIC:                             682.4\nDf Model:                           2                                         \nCovariance Type:            nonrobust                                         \n=================================================================================\n                    coef    std err          t      P>|t|      [0.025      0.975]\n---------------------------------------------------------------------------------\nIntercept        47.3276      0.753     62.890      0.000      45.834      48.822\nincome_pad        0.0012      0.000      5.682      0.000       0.001       0.002\neducation_pad     4.2921      0.336     12.772      0.000       3.625       4.959\n==============================================================================\nOmnibus:                        1.398   Durbin-Watson:                   1.589\nProb(Omnibus):                  0.497   Jarque-Bera (JB):                1.237\nSkew:                          -0.110   Prob(JB):                        0.539\nKurtosis:                       2.496   Cond. No.                     4.21e+03\n==============================================================================\n\nWarnings:\n[1] Standard Errors assume that the covariance matrix of the errors is correctly specified.\n[2] The condition number is large, 4.21e+03. This might indicate that there are\nstrong multicollinearity or other numerical problems.\n"
    }
   ],
   "source": [
    "income_pad = df.income - np.mean(df.income)\n",
    "education_pad = df.education - np.mean(df.education)\n",
    "\n",
    "mod = ols('df.prestige ~ income_pad + education_pad',data=df)\n",
    "res = mod.fit()\n",
    "print(res.summary())"
   ]
  },
  {
   "cell_type": "markdown",
   "metadata": {},
   "source": [
    "### Opção 3 - VIF"
   ]
  },
  {
   "cell_type": "code",
   "execution_count": 7,
   "metadata": {},
   "outputs": [
    {
     "output_type": "stream",
     "name": "stdout",
     "text": "VIF Factor       features\n0    1.000000      Intercept\n1    1.491621     income_pad\n2    1.491621  education_pad\n"
    }
   ],
   "source": [
    "y, X = dmatrices('prestige ~ income_pad + education_pad', df, return_type='dataframe')\n",
    "\n",
    "vif = pd.DataFrame()\n",
    "vif[\"VIF Factor\"] = [variance_inflation_factor(X.values, i) for i in range(X.shape[1])]\n",
    "vif[\"features\"] = X.columns\n",
    "print(vif)"
   ]
  },
  {
   "cell_type": "markdown",
   "metadata": {},
   "source": [
    "#### Opção 3 - Regressão: *Sem Intercepto*"
   ]
  },
  {
   "cell_type": "code",
   "execution_count": 8,
   "metadata": {},
   "outputs": [
    {
     "output_type": "stream",
     "name": "stdout",
     "text": "OLS Regression Results                                \n=======================================================================================\nDep. Variable:            df.prestige   R-squared (uncentered):                   0.093\nModel:                            OLS   Adj. R-squared (uncentered):              0.074\nMethod:                 Least Squares   F-statistic:                              4.927\nDate:                Fri, 05 Jun 2020   Prob (F-statistic):                     0.00918\nTime:                        01:04:09   Log-Likelihood:                         -518.21\nNo. Observations:                  98   AIC:                                      1040.\nDf Residuals:                      96   BIC:                                      1046.\nDf Model:                           2                                                  \nCovariance Type:            nonrobust                                                  \n=================================================================================\n                    coef    std err          t      P>|t|      [0.025      0.975]\n---------------------------------------------------------------------------------\nincome_pad        0.0012      0.001      0.875      0.384      -0.002       0.004\neducation_pad     4.2921      2.183      1.966      0.052      -0.041       8.625\n==============================================================================\nOmnibus:                        1.398   Durbin-Watson:                   0.037\nProb(Omnibus):                  0.497   Jarque-Bera (JB):                1.237\nSkew:                          -0.110   Prob(JB):                        0.539\nKurtosis:                       2.496   Cond. No.                     1.88e+03\n==============================================================================\n\nWarnings:\n[1] Standard Errors assume that the covariance matrix of the errors is correctly specified.\n[2] The condition number is large, 1.88e+03. This might indicate that there are\nstrong multicollinearity or other numerical problems.\n"
    }
   ],
   "source": [
    "income_pad = df.income - np.mean(df.income)\n",
    "education_pad = df.education - np.mean(df.education)\n",
    "\n",
    "mod = ols('df.prestige ~ income_pad + education_pad - 1',data=df)\n",
    "res = mod.fit()\n",
    "print(res.summary())"
   ]
  },
  {
   "cell_type": "markdown",
   "metadata": {},
   "source": [
    "#### Opção 3 - VIF *Sem Intercepto*"
   ]
  },
  {
   "cell_type": "code",
   "execution_count": 9,
   "metadata": {},
   "outputs": [
    {
     "output_type": "stream",
     "name": "stdout",
     "text": "VIF Factor       features\n0    1.491621     income_pad\n1    1.491621  education_pad\n"
    }
   ],
   "source": [
    "y, X = dmatrices('prestige ~ income_pad + education_pad - 1', df, return_type='dataframe')\n",
    "\n",
    "vif = pd.DataFrame()\n",
    "vif[\"VIF Factor\"] = [variance_inflation_factor(X.values, i) for i in range(X.shape[1])]\n",
    "vif[\"features\"] = X.columns\n",
    "print(vif)"
   ]
  },
  {
   "cell_type": "markdown",
   "metadata": {},
   "source": [
    "### Opção 4 - Regressão: *Education e Income, ambas padronizadas, e respectiva interação*"
   ]
  },
  {
   "cell_type": "code",
   "execution_count": 10,
   "metadata": {},
   "outputs": [
    {
     "output_type": "stream",
     "name": "stdout",
     "text": "OLS Regression Results                            \n==============================================================================\nDep. Variable:            df.prestige   R-squared:                       0.826\nModel:                            OLS   Adj. R-squared:                  0.820\nMethod:                 Least Squares   F-statistic:                     148.8\nDate:                Fri, 05 Jun 2020   Prob (F-statistic):           1.43e-35\nTime:                        01:04:10   Log-Likelihood:                -331.07\nNo. Observations:                  98   AIC:                             670.1\nDf Residuals:                      94   BIC:                             680.5\nDf Model:                           3                                         \nCovariance Type:            nonrobust                                         \n============================================================================================\n                               coef    std err          t      P>|t|      [0.025      0.975]\n--------------------------------------------------------------------------------------------\nIntercept                   48.5671      0.879     55.264      0.000      46.822      50.312\nincome_pad                   0.0017      0.000      6.079      0.000       0.001       0.002\neducation_pad                4.1736      0.330     12.645      0.000       3.518       4.829\nincome_pad:education_pad    -0.0002   7.37e-05     -2.547      0.013      -0.000   -4.14e-05\n==============================================================================\nOmnibus:                        0.819   Durbin-Watson:                   1.696\nProb(Omnibus):                  0.664   Jarque-Bera (JB):                0.930\nSkew:                          -0.153   Prob(JB):                        0.628\nKurtosis:                       2.634   Cond. No.                     1.87e+04\n==============================================================================\n\nWarnings:\n[1] Standard Errors assume that the covariance matrix of the errors is correctly specified.\n[2] The condition number is large, 1.87e+04. This might indicate that there are\nstrong multicollinearity or other numerical problems.\n"
    }
   ],
   "source": [
    "income_pad = df.income - np.mean(df.income)\n",
    "education_pad = df.education - np.mean(df.education)\n",
    "\n",
    "mod = ols('df.prestige ~ income_pad * education_pad',data=df)\n",
    "res = mod.fit()\n",
    "print(res.summary())"
   ]
  },
  {
   "cell_type": "markdown",
   "metadata": {},
   "source": [
    "### Opção 4 - VIF"
   ]
  },
  {
   "cell_type": "code",
   "execution_count": 11,
   "metadata": {},
   "outputs": [
    {
     "output_type": "stream",
     "name": "stdout",
     "text": "VIF Factor                  features\n0    1.442496                 Intercept\n1    2.624255                income_pad\n2    1.521856             education_pad\n3    1.950390  income_pad:education_pad\n"
    }
   ],
   "source": [
    "y, X = dmatrices('prestige ~ income_pad * education_pad', df, return_type='dataframe')\n",
    "\n",
    "vif = pd.DataFrame()\n",
    "vif[\"VIF Factor\"] = [variance_inflation_factor(X.values, i) for i in range(X.shape[1])]\n",
    "vif[\"features\"] = X.columns\n",
    "print(vif)"
   ]
  },
  {
   "cell_type": "markdown",
   "metadata": {},
   "source": [
    "#### Opção 4 - Regressão: *Sem Intercepto*"
   ]
  },
  {
   "cell_type": "code",
   "execution_count": 12,
   "metadata": {},
   "outputs": [
    {
     "output_type": "stream",
     "name": "stdout",
     "text": "OLS Regression Results                                \n=======================================================================================\nDep. Variable:            df.prestige   R-squared (uncentered):                   0.334\nModel:                            OLS   Adj. R-squared (uncentered):              0.313\nMethod:                 Least Squares   F-statistic:                              15.85\nDate:                Fri, 05 Jun 2020   Prob (F-statistic):                    1.96e-08\nTime:                        01:04:11   Log-Likelihood:                         -503.12\nNo. Observations:                  98   AIC:                                      1012.\nDf Residuals:                      95   BIC:                                      1020.\nDf Model:                           3                                                  \nCovariance Type:            nonrobust                                                  \n============================================================================================\n                               coef    std err          t      P>|t|      [0.025      0.975]\n--------------------------------------------------------------------------------------------\nincome_pad                  -0.0040      0.002     -2.617      0.010      -0.007      -0.001\neducation_pad                5.5976      1.894      2.955      0.004       1.837       9.358\nincome_pad:education_pad     0.0021      0.000      5.855      0.000       0.001       0.003\n==============================================================================\nOmnibus:                       20.911   Durbin-Watson:                   0.506\nProb(Omnibus):                  0.000   Jarque-Bera (JB):               32.536\nSkew:                          -0.935   Prob(JB):                     8.61e-08\nKurtosis:                       5.114   Cond. No.                     7.01e+03\n==============================================================================\n\nWarnings:\n[1] Standard Errors assume that the covariance matrix of the errors is correctly specified.\n[2] The condition number is large, 7.01e+03. This might indicate that there are\nstrong multicollinearity or other numerical problems.\n"
    }
   ],
   "source": [
    "income_pad = df.income - np.mean(df.income)\n",
    "education_pad = df.education - np.mean(df.education)\n",
    "\n",
    "mod = ols('df.prestige ~ income_pad * education_pad - 1',data=df)\n",
    "res = mod.fit()\n",
    "print(res.summary())"
   ]
  },
  {
   "cell_type": "markdown",
   "metadata": {},
   "source": [
    "#### Opção 4 - VIF *Sem Intercepto*"
   ]
  },
  {
   "cell_type": "code",
   "execution_count": 13,
   "metadata": {},
   "outputs": [
    {
     "output_type": "stream",
     "name": "stdout",
     "text": "VIF Factor                  features\n0    2.276811                income_pad\n1    1.512581             education_pad\n2    1.658851  income_pad:education_pad\n"
    }
   ],
   "source": [
    "y, X = dmatrices('prestige ~ income_pad * education_pad - 1', df, return_type='dataframe')\n",
    "\n",
    "vif = pd.DataFrame()\n",
    "vif[\"VIF Factor\"] = [variance_inflation_factor(X.values, i) for i in range(X.shape[1])]\n",
    "vif[\"features\"] = X.columns\n",
    "print(vif)"
   ]
  },
  {
   "cell_type": "markdown",
   "metadata": {},
   "source": [
    "----"
   ]
  },
  {
   "cell_type": "code",
   "execution_count": 14,
   "metadata": {},
   "outputs": [],
   "source": [
    "# Simula o conjunto de dados do Sildenafil\n",
    "data = np.concatenate((np.repeat(1, 183), np.repeat(0, 379-183)), axis=0)"
   ]
  },
  {
   "cell_type": "code",
   "execution_count": 19,
   "metadata": {},
   "outputs": [],
   "source": [
    "# Cria o modelo com priori Beta(alpha, beta) e Verossimilhança Beroulli(p)\n",
    "def create_model_pymc3(data):\n",
    "    with pymc3.Model() as model:\n",
    "        p = pymc3.Beta('theta', alpha=2, beta=3)\n",
    "        bernoulli = pymc3.Bernoulli('bernoulli', p=p, observed=data)\n",
    "    return model"
   ]
  },
  {
   "cell_type": "code",
   "execution_count": 16,
   "metadata": {},
   "outputs": [
    {
     "output_type": "stream",
     "name": "stderr",
     "text": "logp = -262.7, ||grad|| = 6.5: 100%|██████████| 6/6 [00:00<00:00, 153.84it/s]\n"
    },
    {
     "output_type": "execute_result",
     "data": {
      "text/plain": "{'theta_logodds__': array(-0.06862851), 'theta': array(0.4828496)}"
     },
     "metadata": {},
     "execution_count": 16
    }
   ],
   "source": [
    "model = create_model_pymc3(data)\n",
    "\n",
    "# Estima a probabilidade de sucesso da Bernoulli por MAp\n",
    "map_estimate = pymc3.find_MAP(model=model)\n",
    "map_estimate\n"
   ]
  },
  {
   "cell_type": "code",
   "execution_count": 17,
   "metadata": {},
   "outputs": [
    {
     "output_type": "execute_result",
     "data": {
      "text/plain": "<pymc3.model.Model at 0x7f007cbb0910>",
      "text/latex": "$$\n            \\begin{array}{rcl}\n            \\text{theta} &\\sim & \\text{Beta}(\\mathit{alpha}=1.0,~\\mathit{beta}=1.0)\\\\\\text{bernoulli} &\\sim & \\text{Bernoulli}(\\mathit{p}=\\text{theta})\n            \\end{array}\n            $$"
     },
     "metadata": {},
     "execution_count": 17
    }
   ],
   "source": [
    "model"
   ]
  },
  {
   "cell_type": "code",
   "execution_count": 20,
   "metadata": {},
   "outputs": [
    {
     "output_type": "stream",
     "name": "stderr",
     "text": "logp = -267.26, ||grad|| = 31.2: 100%|██████████| 6/6 [00:00<00:00, 166.67it/s]\n"
    },
    {
     "output_type": "execute_result",
     "data": {
      "text/plain": "{'theta_logodds__': array(-0.07333128), 'theta': array(0.48167539)}"
     },
     "metadata": {},
     "execution_count": 20
    }
   ],
   "source": [
    "model = create_model_pymc3(data)\n",
    "\n",
    "# Estima a probabilidade de sucesso da Bernoulli por MAp\n",
    "map_estimate = pymc3.find_MAP(model=model)\n",
    "map_estimate\n"
   ]
  },
  {
   "cell_type": "code",
   "execution_count": 21,
   "metadata": {},
   "outputs": [
    {
     "output_type": "execute_result",
     "data": {
      "text/plain": "<pymc3.model.Model at 0x7f007c1dbbd0>",
      "text/latex": "$$\n            \\begin{array}{rcl}\n            \\text{theta} &\\sim & \\text{Beta}(\\mathit{alpha}=2.0,~\\mathit{beta}=3.0)\\\\\\text{bernoulli} &\\sim & \\text{Bernoulli}(\\mathit{p}=\\text{theta})\n            \\end{array}\n            $$"
     },
     "metadata": {},
     "execution_count": 21
    }
   ],
   "source": [
    "model"
   ]
  },
  {
   "cell_type": "code",
   "execution_count": null,
   "metadata": {},
   "outputs": [],
   "source": []
  },
  {
   "cell_type": "markdown",
   "metadata": {},
   "source": [
    "----"
   ]
  },
  {
   "cell_type": "code",
   "execution_count": 22,
   "metadata": {},
   "outputs": [],
   "source": [
    "def create_model_pymc(data):\n",
    "    with pymc3.Model() as model:\n",
    "        trace = pymc3.sample(1000, tune=1000, cores=1)\n",
    "    return model"
   ]
  },
  {
   "cell_type": "code",
   "execution_count": 23,
   "metadata": {},
   "outputs": [],
   "source": [
    "model = create_model_pymc"
   ]
  },
  {
   "cell_type": "code",
   "execution_count": 18,
   "metadata": {},
   "outputs": [
    {
     "output_type": "stream",
     "name": "stderr",
     "text": "Auto-assigning NUTS sampler...\nInitializing NUTS using jitter+adapt_diag...\nSequential sampling (2 chains in 1 job)\nNUTS: [theta]\nSampling chain 0, 0 divergences: 100%|██████████| 2000/2000 [00:31<00:00, 62.58it/s]\nSampling chain 1, 0 divergences: 100%|██████████| 2000/2000 [00:32<00:00, 61.83it/s]\n"
    },
    {
     "output_type": "display_data",
     "data": {
      "text/plain": "<Figure size 432x288 with 1 Axes>",
      "image/svg+xml": "<?xml version=\"1.0\" encoding=\"utf-8\" standalone=\"no\"?>\n<!DOCTYPE svg PUBLIC \"-//W3C//DTD SVG 1.1//EN\"\n  \"http://www.w3.org/Graphics/SVG/1.1/DTD/svg11.dtd\">\n<!-- Created with matplotlib (https://matplotlib.org/) -->\n<svg height=\"296.39952pt\" version=\"1.1\" viewBox=\"0 0 441.304345 296.39952\" width=\"441.304345pt\" xmlns=\"http://www.w3.org/2000/svg\" xmlns:xlink=\"http://www.w3.org/1999/xlink\">\n <defs>\n  <style type=\"text/css\">\n*{stroke-linecap:butt;stroke-linejoin:round;}\n  </style>\n </defs>\n <g id=\"figure_1\">\n  <g id=\"patch_1\">\n   <path d=\"M 0 296.39952 \nL 441.304345 296.39952 \nL 441.304345 0 \nL 0 0 \nz\n\" style=\"fill:none;\"/>\n  </g>\n  <g id=\"axes_1\">\n   <g id=\"patch_2\">\n    <path d=\"M 8.786688 269.150145 \nL 417.23329 269.150145 \nL 417.23329 25.3575 \nL 8.786688 25.3575 \nz\n\" style=\"fill:#ffffff;\"/>\n   </g>\n   <g id=\"PolyCollection_1\">\n    <defs>\n     <path d=\"M 27.352443 -38.330859 \nL 27.352443 -39.851515 \nL 29.218348 -39.851515 \nL 31.084253 -39.876787 \nL 32.950158 -39.916469 \nL 34.816063 -39.980138 \nL 36.681968 -40.08086 \nL 38.547873 -40.195586 \nL 40.413778 -40.358982 \nL 42.279683 -40.535963 \nL 44.145588 -40.750055 \nL 46.011493 -40.999166 \nL 47.877398 -41.283181 \nL 49.743303 -41.623557 \nL 51.609207 -41.990144 \nL 53.475112 -42.398977 \nL 55.341017 -42.853385 \nL 57.206922 -43.357268 \nL 59.072827 -43.946617 \nL 60.938732 -44.591139 \nL 62.804637 -45.310619 \nL 64.670542 -46.108795 \nL 66.536447 -46.991915 \nL 68.402352 -47.974501 \nL 70.268257 -49.06321 \nL 72.134162 -50.269465 \nL 74.000067 -51.56838 \nL 75.865972 -52.992078 \nL 77.731877 -54.52399 \nL 79.597782 -56.133224 \nL 81.463687 -57.82462 \nL 83.329592 -59.569282 \nL 85.195497 -61.361284 \nL 87.061402 -63.187359 \nL 88.927307 -65.03036 \nL 90.793212 -66.877114 \nL 92.659117 -68.718135 \nL 94.525022 -70.509126 \nL 96.390927 -72.274043 \nL 98.256832 -74.00422 \nL 100.122737 -75.70519 \nL 101.988642 -77.382045 \nL 103.854547 -79.089824 \nL 105.720452 -80.755302 \nL 107.586357 -82.485253 \nL 109.452262 -84.233461 \nL 111.318167 -86.117119 \nL 113.184072 -88.061108 \nL 115.049977 -90.132769 \nL 116.915882 -92.359928 \nL 118.781787 -94.753892 \nL 120.647692 -97.309016 \nL 122.513597 -100.023571 \nL 124.379502 -102.965113 \nL 126.245407 -106.130156 \nL 128.111312 -109.491289 \nL 129.977217 -113.038783 \nL 131.843122 -116.803198 \nL 133.709027 -120.748476 \nL 135.574932 -124.884194 \nL 137.440837 -129.193646 \nL 139.306742 -133.620033 \nL 141.172647 -138.122229 \nL 143.038552 -142.715513 \nL 144.904457 -147.344187 \nL 146.770362 -152.022225 \nL 148.636267 -156.685313 \nL 150.502172 -161.348355 \nL 152.368077 -166.031915 \nL 154.233982 -170.682244 \nL 156.099887 -175.278243 \nL 157.965792 -179.872936 \nL 159.831697 -184.526753 \nL 161.697602 -189.213804 \nL 163.563507 -193.924018 \nL 165.429412 -198.744945 \nL 167.295317 -203.627159 \nL 169.161222 -208.573193 \nL 171.027127 -213.564328 \nL 172.893032 -218.592769 \nL 174.758937 -223.567404 \nL 176.624842 -228.461863 \nL 178.490747 -233.258841 \nL 180.356652 -237.819026 \nL 182.222557 -242.076262 \nL 184.088462 -246.000123 \nL 185.954367 -249.555884 \nL 187.820272 -252.595845 \nL 189.686177 -255.127496 \nL 191.552082 -257.182468 \nL 193.417987 -258.631241 \nL 195.283892 -259.557803 \nL 197.149796 -259.960536 \nL 199.015701 -259.885527 \nL 200.881606 -259.32856 \nL 202.747511 -258.421521 \nL 204.613416 -257.21544 \nL 206.479321 -255.739346 \nL 208.345226 -254.104544 \nL 210.211131 -252.297374 \nL 212.077036 -250.392949 \nL 213.942941 -248.481065 \nL 215.808846 -246.597148 \nL 217.674751 -244.719927 \nL 219.540656 -242.902488 \nL 221.406561 -241.098039 \nL 223.272466 -239.351747 \nL 225.138371 -237.662798 \nL 227.004276 -236.051129 \nL 228.870181 -234.432647 \nL 230.736086 -232.780904 \nL 232.601991 -231.086006 \nL 234.467896 -229.35764 \nL 236.333801 -227.575946 \nL 238.199706 -225.677706 \nL 240.065611 -223.721668 \nL 241.931516 -221.688678 \nL 243.797421 -219.56958 \nL 245.663326 -217.297668 \nL 247.529231 -214.931504 \nL 249.395136 -212.473578 \nL 251.261041 -209.856302 \nL 253.126946 -207.116142 \nL 254.992851 -204.252748 \nL 256.858756 -201.228845 \nL 258.724661 -198.063967 \nL 260.590566 -194.739674 \nL 262.456471 -191.230555 \nL 264.322376 -187.526635 \nL 266.188281 -183.725949 \nL 268.054186 -179.723515 \nL 269.920091 -175.525957 \nL 271.785996 -171.104851 \nL 273.651901 -166.632034 \nL 275.517806 -162.053234 \nL 277.383711 -157.377224 \nL 279.249616 -152.71128 \nL 281.115521 -148.082884 \nL 282.981426 -143.505303 \nL 284.847331 -139.0838 \nL 286.713236 -134.839246 \nL 288.579141 -130.760233 \nL 290.445046 -126.934289 \nL 292.310951 -123.391743 \nL 294.176856 -120.090494 \nL 296.042761 -117.067827 \nL 297.908666 -114.282625 \nL 299.774571 -111.691915 \nL 301.640476 -109.243807 \nL 303.506381 -106.910424 \nL 305.372286 -104.652736 \nL 307.238191 -102.445156 \nL 309.104096 -100.210412 \nL 310.970001 -97.933711 \nL 312.835906 -95.554034 \nL 314.701811 -93.107143 \nL 316.567716 -90.609858 \nL 318.433621 -88.058658 \nL 320.299526 -85.457924 \nL 322.165431 -82.809372 \nL 324.031336 -80.174105 \nL 325.897241 -77.55864 \nL 327.763146 -74.997969 \nL 329.629051 -72.474686 \nL 331.494956 -70.077022 \nL 333.360861 -67.762278 \nL 335.226766 -65.577866 \nL 337.092671 -63.522923 \nL 338.958576 -61.592314 \nL 340.82448 -59.77745 \nL 342.690385 -58.090093 \nL 344.55629 -56.498884 \nL 346.422195 -55.054531 \nL 348.2881 -53.713619 \nL 350.154005 -52.461155 \nL 352.01991 -51.287981 \nL 353.885815 -50.230161 \nL 355.75172 -49.262048 \nL 357.617625 -48.391552 \nL 359.48353 -47.55524 \nL 361.349435 -46.770044 \nL 363.21534 -46.074867 \nL 365.081245 -45.425103 \nL 366.94715 -44.817319 \nL 368.813055 -44.258693 \nL 370.67896 -43.781066 \nL 372.544865 -43.353119 \nL 374.41077 -42.969591 \nL 376.276675 -42.634892 \nL 378.14258 -42.367996 \nL 380.008485 -42.157081 \nL 381.87439 -41.985925 \nL 383.740295 -41.864571 \nL 385.6062 -41.801579 \nL 387.472105 -41.7684 \nL 389.33801 -41.76425 \nL 391.203915 -41.774657 \nL 393.06982 -41.794143 \nL 394.935725 -41.83043 \nL 396.80163 -41.85786 \nL 398.667535 -41.8811 \nL 398.667535 -38.330859 \nL 398.667535 -38.330859 \nL 396.80163 -38.330859 \nL 394.935725 -38.330859 \nL 393.06982 -38.330859 \nL 391.203915 -38.330859 \nL 389.33801 -38.330859 \nL 387.472105 -38.330859 \nL 385.6062 -38.330859 \nL 383.740295 -38.330859 \nL 381.87439 -38.330859 \nL 380.008485 -38.330859 \nL 378.14258 -38.330859 \nL 376.276675 -38.330859 \nL 374.41077 -38.330859 \nL 372.544865 -38.330859 \nL 370.67896 -38.330859 \nL 368.813055 -38.330859 \nL 366.94715 -38.330859 \nL 365.081245 -38.330859 \nL 363.21534 -38.330859 \nL 361.349435 -38.330859 \nL 359.48353 -38.330859 \nL 357.617625 -38.330859 \nL 355.75172 -38.330859 \nL 353.885815 -38.330859 \nL 352.01991 -38.330859 \nL 350.154005 -38.330859 \nL 348.2881 -38.330859 \nL 346.422195 -38.330859 \nL 344.55629 -38.330859 \nL 342.690385 -38.330859 \nL 340.82448 -38.330859 \nL 338.958576 -38.330859 \nL 337.092671 -38.330859 \nL 335.226766 -38.330859 \nL 333.360861 -38.330859 \nL 331.494956 -38.330859 \nL 329.629051 -38.330859 \nL 327.763146 -38.330859 \nL 325.897241 -38.330859 \nL 324.031336 -38.330859 \nL 322.165431 -38.330859 \nL 320.299526 -38.330859 \nL 318.433621 -38.330859 \nL 316.567716 -38.330859 \nL 314.701811 -38.330859 \nL 312.835906 -38.330859 \nL 310.970001 -38.330859 \nL 309.104096 -38.330859 \nL 307.238191 -38.330859 \nL 305.372286 -38.330859 \nL 303.506381 -38.330859 \nL 301.640476 -38.330859 \nL 299.774571 -38.330859 \nL 297.908666 -38.330859 \nL 296.042761 -38.330859 \nL 294.176856 -38.330859 \nL 292.310951 -38.330859 \nL 290.445046 -38.330859 \nL 288.579141 -38.330859 \nL 286.713236 -38.330859 \nL 284.847331 -38.330859 \nL 282.981426 -38.330859 \nL 281.115521 -38.330859 \nL 279.249616 -38.330859 \nL 277.383711 -38.330859 \nL 275.517806 -38.330859 \nL 273.651901 -38.330859 \nL 271.785996 -38.330859 \nL 269.920091 -38.330859 \nL 268.054186 -38.330859 \nL 266.188281 -38.330859 \nL 264.322376 -38.330859 \nL 262.456471 -38.330859 \nL 260.590566 -38.330859 \nL 258.724661 -38.330859 \nL 256.858756 -38.330859 \nL 254.992851 -38.330859 \nL 253.126946 -38.330859 \nL 251.261041 -38.330859 \nL 249.395136 -38.330859 \nL 247.529231 -38.330859 \nL 245.663326 -38.330859 \nL 243.797421 -38.330859 \nL 241.931516 -38.330859 \nL 240.065611 -38.330859 \nL 238.199706 -38.330859 \nL 236.333801 -38.330859 \nL 234.467896 -38.330859 \nL 232.601991 -38.330859 \nL 230.736086 -38.330859 \nL 228.870181 -38.330859 \nL 227.004276 -38.330859 \nL 225.138371 -38.330859 \nL 223.272466 -38.330859 \nL 221.406561 -38.330859 \nL 219.540656 -38.330859 \nL 217.674751 -38.330859 \nL 215.808846 -38.330859 \nL 213.942941 -38.330859 \nL 212.077036 -38.330859 \nL 210.211131 -38.330859 \nL 208.345226 -38.330859 \nL 206.479321 -38.330859 \nL 204.613416 -38.330859 \nL 202.747511 -38.330859 \nL 200.881606 -38.330859 \nL 199.015701 -38.330859 \nL 197.149796 -38.330859 \nL 195.283892 -38.330859 \nL 193.417987 -38.330859 \nL 191.552082 -38.330859 \nL 189.686177 -38.330859 \nL 187.820272 -38.330859 \nL 185.954367 -38.330859 \nL 184.088462 -38.330859 \nL 182.222557 -38.330859 \nL 180.356652 -38.330859 \nL 178.490747 -38.330859 \nL 176.624842 -38.330859 \nL 174.758937 -38.330859 \nL 172.893032 -38.330859 \nL 171.027127 -38.330859 \nL 169.161222 -38.330859 \nL 167.295317 -38.330859 \nL 165.429412 -38.330859 \nL 163.563507 -38.330859 \nL 161.697602 -38.330859 \nL 159.831697 -38.330859 \nL 157.965792 -38.330859 \nL 156.099887 -38.330859 \nL 154.233982 -38.330859 \nL 152.368077 -38.330859 \nL 150.502172 -38.330859 \nL 148.636267 -38.330859 \nL 146.770362 -38.330859 \nL 144.904457 -38.330859 \nL 143.038552 -38.330859 \nL 141.172647 -38.330859 \nL 139.306742 -38.330859 \nL 137.440837 -38.330859 \nL 135.574932 -38.330859 \nL 133.709027 -38.330859 \nL 131.843122 -38.330859 \nL 129.977217 -38.330859 \nL 128.111312 -38.330859 \nL 126.245407 -38.330859 \nL 124.379502 -38.330859 \nL 122.513597 -38.330859 \nL 120.647692 -38.330859 \nL 118.781787 -38.330859 \nL 116.915882 -38.330859 \nL 115.049977 -38.330859 \nL 113.184072 -38.330859 \nL 111.318167 -38.330859 \nL 109.452262 -38.330859 \nL 107.586357 -38.330859 \nL 105.720452 -38.330859 \nL 103.854547 -38.330859 \nL 101.988642 -38.330859 \nL 100.122737 -38.330859 \nL 98.256832 -38.330859 \nL 96.390927 -38.330859 \nL 94.525022 -38.330859 \nL 92.659117 -38.330859 \nL 90.793212 -38.330859 \nL 88.927307 -38.330859 \nL 87.061402 -38.330859 \nL 85.195497 -38.330859 \nL 83.329592 -38.330859 \nL 81.463687 -38.330859 \nL 79.597782 -38.330859 \nL 77.731877 -38.330859 \nL 75.865972 -38.330859 \nL 74.000067 -38.330859 \nL 72.134162 -38.330859 \nL 70.268257 -38.330859 \nL 68.402352 -38.330859 \nL 66.536447 -38.330859 \nL 64.670542 -38.330859 \nL 62.804637 -38.330859 \nL 60.938732 -38.330859 \nL 59.072827 -38.330859 \nL 57.206922 -38.330859 \nL 55.341017 -38.330859 \nL 53.475112 -38.330859 \nL 51.609207 -38.330859 \nL 49.743303 -38.330859 \nL 47.877398 -38.330859 \nL 46.011493 -38.330859 \nL 44.145588 -38.330859 \nL 42.279683 -38.330859 \nL 40.413778 -38.330859 \nL 38.547873 -38.330859 \nL 36.681968 -38.330859 \nL 34.816063 -38.330859 \nL 32.950158 -38.330859 \nL 31.084253 -38.330859 \nL 29.218348 -38.330859 \nL 27.352443 -38.330859 \nz\n\" id=\"m35112b3915\" style=\"stroke:#1f77b4;stroke-opacity:0;\"/>\n    </defs>\n    <g clip-path=\"url(#p83a8f4661c)\">\n     <use style=\"fill:#1f77b4;fill-opacity:0;stroke:#1f77b4;stroke-opacity:0;\" x=\"0\" xlink:href=\"#m35112b3915\" y=\"296.39952\"/>\n    </g>\n   </g>\n   <g id=\"matplotlib.axis_1\">\n    <g id=\"xtick_1\">\n     <g id=\"line2d_1\">\n      <defs>\n       <path d=\"M 0 0 \nL 0 3 \n\" id=\"m1a9a2cd626\" style=\"stroke:#808080;\"/>\n      </defs>\n      <g>\n       <use style=\"fill:#808080;stroke:#808080;\" x=\"27.239687\" xlink:href=\"#m1a9a2cd626\" y=\"269.150145\"/>\n      </g>\n     </g>\n     <g id=\"text_1\">\n      <!-- 0.400 -->\n      <defs>\n       <path d=\"M 31.78125 66.40625 \nQ 24.171875 66.40625 20.328125 58.90625 \nQ 16.5 51.421875 16.5 36.375 \nQ 16.5 21.390625 20.328125 13.890625 \nQ 24.171875 6.390625 31.78125 6.390625 \nQ 39.453125 6.390625 43.28125 13.890625 \nQ 47.125 21.390625 47.125 36.375 \nQ 47.125 51.421875 43.28125 58.90625 \nQ 39.453125 66.40625 31.78125 66.40625 \nz\nM 31.78125 74.21875 \nQ 44.046875 74.21875 50.515625 64.515625 \nQ 56.984375 54.828125 56.984375 36.375 \nQ 56.984375 17.96875 50.515625 8.265625 \nQ 44.046875 -1.421875 31.78125 -1.421875 \nQ 19.53125 -1.421875 13.0625 8.265625 \nQ 6.59375 17.96875 6.59375 36.375 \nQ 6.59375 54.828125 13.0625 64.515625 \nQ 19.53125 74.21875 31.78125 74.21875 \nz\n\" id=\"DejaVuSans-48\"/>\n       <path d=\"M 10.6875 12.40625 \nL 21 12.40625 \nL 21 0 \nL 10.6875 0 \nz\n\" id=\"DejaVuSans-46\"/>\n       <path d=\"M 37.796875 64.3125 \nL 12.890625 25.390625 \nL 37.796875 25.390625 \nz\nM 35.203125 72.90625 \nL 47.609375 72.90625 \nL 47.609375 25.390625 \nL 58.015625 25.390625 \nL 58.015625 17.1875 \nL 47.609375 17.1875 \nL 47.609375 0 \nL 37.796875 0 \nL 37.796875 17.1875 \nL 4.890625 17.1875 \nL 4.890625 26.703125 \nz\n\" id=\"DejaVuSans-52\"/>\n      </defs>\n      <g transform=\"translate(7.2 286.287957)scale(0.14 -0.14)\">\n       <use xlink:href=\"#DejaVuSans-48\"/>\n       <use x=\"63.623047\" xlink:href=\"#DejaVuSans-46\"/>\n       <use x=\"95.410156\" xlink:href=\"#DejaVuSans-52\"/>\n       <use x=\"159.033203\" xlink:href=\"#DejaVuSans-48\"/>\n       <use x=\"222.65625\" xlink:href=\"#DejaVuSans-48\"/>\n      </g>\n     </g>\n    </g>\n    <g id=\"xtick_2\">\n     <g id=\"line2d_2\">\n      <g>\n       <use style=\"fill:#808080;stroke:#808080;\" x=\"82.500398\" xlink:href=\"#m1a9a2cd626\" y=\"269.150145\"/>\n      </g>\n     </g>\n     <g id=\"text_2\">\n      <!-- 0.425 -->\n      <defs>\n       <path d=\"M 19.1875 8.296875 \nL 53.609375 8.296875 \nL 53.609375 0 \nL 7.328125 0 \nL 7.328125 8.296875 \nQ 12.9375 14.109375 22.625 23.890625 \nQ 32.328125 33.6875 34.8125 36.53125 \nQ 39.546875 41.84375 41.421875 45.53125 \nQ 43.3125 49.21875 43.3125 52.78125 \nQ 43.3125 58.59375 39.234375 62.25 \nQ 35.15625 65.921875 28.609375 65.921875 \nQ 23.96875 65.921875 18.8125 64.3125 \nQ 13.671875 62.703125 7.8125 59.421875 \nL 7.8125 69.390625 \nQ 13.765625 71.78125 18.9375 73 \nQ 24.125 74.21875 28.421875 74.21875 \nQ 39.75 74.21875 46.484375 68.546875 \nQ 53.21875 62.890625 53.21875 53.421875 \nQ 53.21875 48.921875 51.53125 44.890625 \nQ 49.859375 40.875 45.40625 35.40625 \nQ 44.1875 33.984375 37.640625 27.21875 \nQ 31.109375 20.453125 19.1875 8.296875 \nz\n\" id=\"DejaVuSans-50\"/>\n       <path d=\"M 10.796875 72.90625 \nL 49.515625 72.90625 \nL 49.515625 64.59375 \nL 19.828125 64.59375 \nL 19.828125 46.734375 \nQ 21.96875 47.46875 24.109375 47.828125 \nQ 26.265625 48.1875 28.421875 48.1875 \nQ 40.625 48.1875 47.75 41.5 \nQ 54.890625 34.8125 54.890625 23.390625 \nQ 54.890625 11.625 47.5625 5.09375 \nQ 40.234375 -1.421875 26.90625 -1.421875 \nQ 22.3125 -1.421875 17.546875 -0.640625 \nQ 12.796875 0.140625 7.71875 1.703125 \nL 7.71875 11.625 \nQ 12.109375 9.234375 16.796875 8.0625 \nQ 21.484375 6.890625 26.703125 6.890625 \nQ 35.15625 6.890625 40.078125 11.328125 \nQ 45.015625 15.765625 45.015625 23.390625 \nQ 45.015625 31 40.078125 35.4375 \nQ 35.15625 39.890625 26.703125 39.890625 \nQ 22.75 39.890625 18.8125 39.015625 \nQ 14.890625 38.140625 10.796875 36.28125 \nz\n\" id=\"DejaVuSans-53\"/>\n      </defs>\n      <g transform=\"translate(62.46071 286.287957)scale(0.14 -0.14)\">\n       <use xlink:href=\"#DejaVuSans-48\"/>\n       <use x=\"63.623047\" xlink:href=\"#DejaVuSans-46\"/>\n       <use x=\"95.410156\" xlink:href=\"#DejaVuSans-52\"/>\n       <use x=\"159.033203\" xlink:href=\"#DejaVuSans-50\"/>\n       <use x=\"222.65625\" xlink:href=\"#DejaVuSans-53\"/>\n      </g>\n     </g>\n    </g>\n    <g id=\"xtick_3\">\n     <g id=\"line2d_3\">\n      <g>\n       <use style=\"fill:#808080;stroke:#808080;\" x=\"137.761108\" xlink:href=\"#m1a9a2cd626\" y=\"269.150145\"/>\n      </g>\n     </g>\n     <g id=\"text_3\">\n      <!-- 0.450 -->\n      <g transform=\"translate(117.72142 286.287957)scale(0.14 -0.14)\">\n       <use xlink:href=\"#DejaVuSans-48\"/>\n       <use x=\"63.623047\" xlink:href=\"#DejaVuSans-46\"/>\n       <use x=\"95.410156\" xlink:href=\"#DejaVuSans-52\"/>\n       <use x=\"159.033203\" xlink:href=\"#DejaVuSans-53\"/>\n       <use x=\"222.65625\" xlink:href=\"#DejaVuSans-48\"/>\n      </g>\n     </g>\n    </g>\n    <g id=\"xtick_4\">\n     <g id=\"line2d_4\">\n      <g>\n       <use style=\"fill:#808080;stroke:#808080;\" x=\"193.021818\" xlink:href=\"#m1a9a2cd626\" y=\"269.150145\"/>\n      </g>\n     </g>\n     <g id=\"text_4\">\n      <!-- 0.475 -->\n      <defs>\n       <path d=\"M 8.203125 72.90625 \nL 55.078125 72.90625 \nL 55.078125 68.703125 \nL 28.609375 0 \nL 18.3125 0 \nL 43.21875 64.59375 \nL 8.203125 64.59375 \nz\n\" id=\"DejaVuSans-55\"/>\n      </defs>\n      <g transform=\"translate(172.98213 286.287957)scale(0.14 -0.14)\">\n       <use xlink:href=\"#DejaVuSans-48\"/>\n       <use x=\"63.623047\" xlink:href=\"#DejaVuSans-46\"/>\n       <use x=\"95.410156\" xlink:href=\"#DejaVuSans-52\"/>\n       <use x=\"159.033203\" xlink:href=\"#DejaVuSans-55\"/>\n       <use x=\"222.65625\" xlink:href=\"#DejaVuSans-53\"/>\n      </g>\n     </g>\n    </g>\n    <g id=\"xtick_5\">\n     <g id=\"line2d_5\">\n      <g>\n       <use style=\"fill:#808080;stroke:#808080;\" x=\"248.282528\" xlink:href=\"#m1a9a2cd626\" y=\"269.150145\"/>\n      </g>\n     </g>\n     <g id=\"text_5\">\n      <!-- 0.500 -->\n      <g transform=\"translate(228.24284 286.287957)scale(0.14 -0.14)\">\n       <use xlink:href=\"#DejaVuSans-48\"/>\n       <use x=\"63.623047\" xlink:href=\"#DejaVuSans-46\"/>\n       <use x=\"95.410156\" xlink:href=\"#DejaVuSans-53\"/>\n       <use x=\"159.033203\" xlink:href=\"#DejaVuSans-48\"/>\n       <use x=\"222.65625\" xlink:href=\"#DejaVuSans-48\"/>\n      </g>\n     </g>\n    </g>\n    <g id=\"xtick_6\">\n     <g id=\"line2d_6\">\n      <g>\n       <use style=\"fill:#808080;stroke:#808080;\" x=\"303.543238\" xlink:href=\"#m1a9a2cd626\" y=\"269.150145\"/>\n      </g>\n     </g>\n     <g id=\"text_6\">\n      <!-- 0.525 -->\n      <g transform=\"translate(283.50355 286.287957)scale(0.14 -0.14)\">\n       <use xlink:href=\"#DejaVuSans-48\"/>\n       <use x=\"63.623047\" xlink:href=\"#DejaVuSans-46\"/>\n       <use x=\"95.410156\" xlink:href=\"#DejaVuSans-53\"/>\n       <use x=\"159.033203\" xlink:href=\"#DejaVuSans-50\"/>\n       <use x=\"222.65625\" xlink:href=\"#DejaVuSans-53\"/>\n      </g>\n     </g>\n    </g>\n    <g id=\"xtick_7\">\n     <g id=\"line2d_7\">\n      <g>\n       <use style=\"fill:#808080;stroke:#808080;\" x=\"358.803948\" xlink:href=\"#m1a9a2cd626\" y=\"269.150145\"/>\n      </g>\n     </g>\n     <g id=\"text_7\">\n      <!-- 0.550 -->\n      <g transform=\"translate(338.76426 286.287957)scale(0.14 -0.14)\">\n       <use xlink:href=\"#DejaVuSans-48\"/>\n       <use x=\"63.623047\" xlink:href=\"#DejaVuSans-46\"/>\n       <use x=\"95.410156\" xlink:href=\"#DejaVuSans-53\"/>\n       <use x=\"159.033203\" xlink:href=\"#DejaVuSans-53\"/>\n       <use x=\"222.65625\" xlink:href=\"#DejaVuSans-48\"/>\n      </g>\n     </g>\n    </g>\n    <g id=\"xtick_8\">\n     <g id=\"line2d_8\">\n      <g>\n       <use style=\"fill:#808080;stroke:#808080;\" x=\"414.064658\" xlink:href=\"#m1a9a2cd626\" y=\"269.150145\"/>\n      </g>\n     </g>\n     <g id=\"text_8\">\n      <!-- 0.575 -->\n      <g transform=\"translate(394.02497 286.287957)scale(0.14 -0.14)\">\n       <use xlink:href=\"#DejaVuSans-48\"/>\n       <use x=\"63.623047\" xlink:href=\"#DejaVuSans-46\"/>\n       <use x=\"95.410156\" xlink:href=\"#DejaVuSans-53\"/>\n       <use x=\"159.033203\" xlink:href=\"#DejaVuSans-55\"/>\n       <use x=\"222.65625\" xlink:href=\"#DejaVuSans-53\"/>\n      </g>\n     </g>\n    </g>\n   </g>\n   <g id=\"matplotlib.axis_2\"/>\n   <g id=\"line2d_9\">\n    <path clip-path=\"url(#p83a8f4661c)\" d=\"M 27.352443 256.548005 \nL 32.950158 256.483051 \nL 38.547873 256.203934 \nL 44.145588 255.649465 \nL 47.877398 255.116339 \nL 53.475112 254.000543 \nL 57.206922 253.042252 \nL 60.938732 251.808381 \nL 64.670542 250.290725 \nL 68.402352 248.425019 \nL 72.134162 246.130055 \nL 75.865972 243.407442 \nL 79.597782 240.266296 \nL 83.329592 236.830238 \nL 90.793212 229.522406 \nL 96.390927 224.125477 \nL 103.854547 217.309696 \nL 109.452262 212.166059 \nL 113.184072 208.338412 \nL 116.915882 204.039592 \nL 120.647692 199.090504 \nL 122.513597 196.375949 \nL 124.379502 193.434407 \nL 128.111312 186.908231 \nL 131.843122 179.596322 \nL 135.574932 171.515326 \nL 139.306742 162.779487 \nL 144.904457 149.055333 \nL 167.295317 92.772361 \nL 178.490747 63.140679 \nL 180.356652 58.580494 \nL 182.222557 54.323258 \nL 184.088462 50.399397 \nL 185.954367 46.843636 \nL 187.820272 43.803675 \nL 189.686177 41.272024 \nL 191.552082 39.217052 \nL 193.417987 37.768279 \nL 195.283892 36.841717 \nL 197.149796 36.438984 \nL 199.015701 36.513993 \nL 200.881606 37.07096 \nL 202.747511 37.977999 \nL 204.613416 39.18408 \nL 206.479321 40.660174 \nL 208.345226 42.294976 \nL 212.077036 46.006571 \nL 219.540656 53.497032 \nL 223.272466 57.047773 \nL 228.870181 61.966873 \nL 234.467896 67.04188 \nL 238.199706 70.721814 \nL 241.931516 74.710842 \nL 245.663326 79.101852 \nL 249.395136 83.925942 \nL 253.126946 89.283378 \nL 256.858756 95.170675 \nL 260.590566 101.659846 \nL 264.322376 108.872885 \nL 268.054186 116.676005 \nL 271.785996 125.294669 \nL 275.517806 134.346286 \nL 282.981426 152.894217 \nL 286.713236 161.560274 \nL 290.445046 169.465231 \nL 292.310951 173.007777 \nL 294.176856 176.309026 \nL 296.042761 179.331693 \nL 299.774571 184.707605 \nL 303.506381 189.489096 \nL 312.835906 200.845486 \nL 318.433621 208.340862 \nL 329.629051 223.924834 \nL 333.360861 228.637242 \nL 337.092671 232.876597 \nL 340.82448 236.62207 \nL 344.55629 239.900636 \nL 348.2881 242.685901 \nL 352.01991 245.111539 \nL 355.75172 247.137472 \nL 361.349435 249.629476 \nL 365.081245 250.974417 \nL 368.813055 252.140827 \nL 372.544865 253.046401 \nL 376.276675 253.764628 \nL 380.008485 254.242439 \nL 383.740295 254.534949 \nL 389.33801 254.63527 \nL 398.667535 254.51842 \nL 398.667535 254.51842 \n\" style=\"fill:none;stroke:#1f77b4;stroke-linecap:square;stroke-width:1.5;\"/>\n   </g>\n   <g id=\"line2d_10\">\n    <path clip-path=\"url(#p83a8f4661c)\" d=\"M 109.722684 253.414438 \nL 324.404285 253.414438 \n\" style=\"fill:none;stroke:#000000;stroke-width:3;\"/>\n   </g>\n   <g id=\"patch_3\">\n    <path d=\"M 8.786688 269.150145 \nL 417.23329 269.150145 \n\" style=\"fill:none;stroke:#808080;stroke-linecap:square;stroke-linejoin:miter;stroke-width:0.8;\"/>\n   </g>\n   <g id=\"text_9\">\n    <!-- 0.44 -->\n    <g transform=\"translate(93.023465 241.77888)scale(0.15 -0.15)\">\n     <use xlink:href=\"#DejaVuSans-48\"/>\n     <use x=\"63.623047\" xlink:href=\"#DejaVuSans-46\"/>\n     <use x=\"95.410156\" xlink:href=\"#DejaVuSans-52\"/>\n     <use x=\"159.033203\" xlink:href=\"#DejaVuSans-52\"/>\n    </g>\n   </g>\n   <g id=\"text_10\">\n    <!-- 0.53 -->\n    <defs>\n     <path d=\"M 40.578125 39.3125 \nQ 47.65625 37.796875 51.625 33 \nQ 55.609375 28.21875 55.609375 21.1875 \nQ 55.609375 10.40625 48.1875 4.484375 \nQ 40.765625 -1.421875 27.09375 -1.421875 \nQ 22.515625 -1.421875 17.65625 -0.515625 \nQ 12.796875 0.390625 7.625 2.203125 \nL 7.625 11.71875 \nQ 11.71875 9.328125 16.59375 8.109375 \nQ 21.484375 6.890625 26.8125 6.890625 \nQ 36.078125 6.890625 40.9375 10.546875 \nQ 45.796875 14.203125 45.796875 21.1875 \nQ 45.796875 27.640625 41.28125 31.265625 \nQ 36.765625 34.90625 28.71875 34.90625 \nL 20.21875 34.90625 \nL 20.21875 43.015625 \nL 29.109375 43.015625 \nQ 36.375 43.015625 40.234375 45.921875 \nQ 44.09375 48.828125 44.09375 54.296875 \nQ 44.09375 59.90625 40.109375 62.90625 \nQ 36.140625 65.921875 28.71875 65.921875 \nQ 24.65625 65.921875 20.015625 65.03125 \nQ 15.375 64.15625 9.8125 62.3125 \nL 9.8125 71.09375 \nQ 15.4375 72.65625 20.34375 73.4375 \nQ 25.25 74.21875 29.59375 74.21875 \nQ 40.828125 74.21875 47.359375 69.109375 \nQ 53.90625 64.015625 53.90625 55.328125 \nQ 53.90625 49.265625 50.4375 45.09375 \nQ 46.96875 40.921875 40.578125 39.3125 \nz\n\" id=\"DejaVuSans-51\"/>\n    </defs>\n    <g transform=\"translate(307.705066 241.77888)scale(0.15 -0.15)\">\n     <use xlink:href=\"#DejaVuSans-48\"/>\n     <use x=\"63.623047\" xlink:href=\"#DejaVuSans-46\"/>\n     <use x=\"95.410156\" xlink:href=\"#DejaVuSans-53\"/>\n     <use x=\"159.033203\" xlink:href=\"#DejaVuSans-51\"/>\n    </g>\n   </g>\n   <g id=\"text_11\">\n    <!-- 94% HDI -->\n    <defs>\n     <path d=\"M 10.984375 1.515625 \nL 10.984375 10.5 \nQ 14.703125 8.734375 18.5 7.8125 \nQ 22.3125 6.890625 25.984375 6.890625 \nQ 35.75 6.890625 40.890625 13.453125 \nQ 46.046875 20.015625 46.78125 33.40625 \nQ 43.953125 29.203125 39.59375 26.953125 \nQ 35.25 24.703125 29.984375 24.703125 \nQ 19.046875 24.703125 12.671875 31.3125 \nQ 6.296875 37.9375 6.296875 49.421875 \nQ 6.296875 60.640625 12.9375 67.421875 \nQ 19.578125 74.21875 30.609375 74.21875 \nQ 43.265625 74.21875 49.921875 64.515625 \nQ 56.59375 54.828125 56.59375 36.375 \nQ 56.59375 19.140625 48.40625 8.859375 \nQ 40.234375 -1.421875 26.421875 -1.421875 \nQ 22.703125 -1.421875 18.890625 -0.6875 \nQ 15.09375 0.046875 10.984375 1.515625 \nz\nM 30.609375 32.421875 \nQ 37.25 32.421875 41.125 36.953125 \nQ 45.015625 41.5 45.015625 49.421875 \nQ 45.015625 57.28125 41.125 61.84375 \nQ 37.25 66.40625 30.609375 66.40625 \nQ 23.96875 66.40625 20.09375 61.84375 \nQ 16.21875 57.28125 16.21875 49.421875 \nQ 16.21875 41.5 20.09375 36.953125 \nQ 23.96875 32.421875 30.609375 32.421875 \nz\n\" id=\"DejaVuSans-57\"/>\n     <path d=\"M 72.703125 32.078125 \nQ 68.453125 32.078125 66.03125 28.46875 \nQ 63.625 24.859375 63.625 18.40625 \nQ 63.625 12.0625 66.03125 8.421875 \nQ 68.453125 4.78125 72.703125 4.78125 \nQ 76.859375 4.78125 79.265625 8.421875 \nQ 81.6875 12.0625 81.6875 18.40625 \nQ 81.6875 24.8125 79.265625 28.4375 \nQ 76.859375 32.078125 72.703125 32.078125 \nz\nM 72.703125 38.28125 \nQ 80.421875 38.28125 84.953125 32.90625 \nQ 89.5 27.546875 89.5 18.40625 \nQ 89.5 9.28125 84.9375 3.921875 \nQ 80.375 -1.421875 72.703125 -1.421875 \nQ 64.890625 -1.421875 60.34375 3.921875 \nQ 55.8125 9.28125 55.8125 18.40625 \nQ 55.8125 27.59375 60.375 32.9375 \nQ 64.9375 38.28125 72.703125 38.28125 \nz\nM 22.3125 68.015625 \nQ 18.109375 68.015625 15.6875 64.375 \nQ 13.28125 60.75 13.28125 54.390625 \nQ 13.28125 47.953125 15.671875 44.328125 \nQ 18.0625 40.71875 22.3125 40.71875 \nQ 26.5625 40.71875 28.96875 44.328125 \nQ 31.390625 47.953125 31.390625 54.390625 \nQ 31.390625 60.6875 28.953125 64.34375 \nQ 26.515625 68.015625 22.3125 68.015625 \nz\nM 66.40625 74.21875 \nL 74.21875 74.21875 \nL 28.609375 -1.421875 \nL 20.796875 -1.421875 \nz\nM 22.3125 74.21875 \nQ 30.03125 74.21875 34.609375 68.875 \nQ 39.203125 63.53125 39.203125 54.390625 \nQ 39.203125 45.171875 34.640625 39.84375 \nQ 30.078125 34.515625 22.3125 34.515625 \nQ 14.546875 34.515625 10.03125 39.859375 \nQ 5.515625 45.21875 5.515625 54.390625 \nQ 5.515625 63.484375 10.046875 68.84375 \nQ 14.59375 74.21875 22.3125 74.21875 \nz\n\" id=\"DejaVuSans-37\"/>\n     <path id=\"DejaVuSans-32\"/>\n     <path d=\"M 9.8125 72.90625 \nL 19.671875 72.90625 \nL 19.671875 43.015625 \nL 55.515625 43.015625 \nL 55.515625 72.90625 \nL 65.375 72.90625 \nL 65.375 0 \nL 55.515625 0 \nL 55.515625 34.71875 \nL 19.671875 34.71875 \nL 19.671875 0 \nL 9.8125 0 \nz\n\" id=\"DejaVuSans-72\"/>\n     <path d=\"M 19.671875 64.796875 \nL 19.671875 8.109375 \nL 31.59375 8.109375 \nQ 46.6875 8.109375 53.6875 14.9375 \nQ 60.6875 21.78125 60.6875 36.53125 \nQ 60.6875 51.171875 53.6875 57.984375 \nQ 46.6875 64.796875 31.59375 64.796875 \nz\nM 9.8125 72.90625 \nL 30.078125 72.90625 \nQ 51.265625 72.90625 61.171875 64.09375 \nQ 71.09375 55.28125 71.09375 36.53125 \nQ 71.09375 17.671875 61.125 8.828125 \nQ 51.171875 0 30.078125 0 \nL 9.8125 0 \nz\n\" id=\"DejaVuSans-68\"/>\n     <path d=\"M 9.8125 72.90625 \nL 19.671875 72.90625 \nL 19.671875 0 \nL 9.8125 0 \nz\n\" id=\"DejaVuSans-73\"/>\n    </defs>\n    <g transform=\"translate(184.382234 188.255313)scale(0.15 -0.15)\">\n     <use xlink:href=\"#DejaVuSans-57\"/>\n     <use x=\"63.623047\" xlink:href=\"#DejaVuSans-52\"/>\n     <use x=\"127.246094\" xlink:href=\"#DejaVuSans-37\"/>\n     <use x=\"222.265625\" xlink:href=\"#DejaVuSans-32\"/>\n     <use x=\"254.052734\" xlink:href=\"#DejaVuSans-72\"/>\n     <use x=\"329.248047\" xlink:href=\"#DejaVuSans-68\"/>\n     <use x=\"406.25\" xlink:href=\"#DejaVuSans-73\"/>\n    </g>\n   </g>\n   <g id=\"text_12\">\n    <!-- mean=0.48 -->\n    <defs>\n     <path d=\"M 52 44.1875 \nQ 55.375 50.25 60.0625 53.125 \nQ 64.75 56 71.09375 56 \nQ 79.640625 56 84.28125 50.015625 \nQ 88.921875 44.046875 88.921875 33.015625 \nL 88.921875 0 \nL 79.890625 0 \nL 79.890625 32.71875 \nQ 79.890625 40.578125 77.09375 44.375 \nQ 74.3125 48.1875 68.609375 48.1875 \nQ 61.625 48.1875 57.5625 43.546875 \nQ 53.515625 38.921875 53.515625 30.90625 \nL 53.515625 0 \nL 44.484375 0 \nL 44.484375 32.71875 \nQ 44.484375 40.625 41.703125 44.40625 \nQ 38.921875 48.1875 33.109375 48.1875 \nQ 26.21875 48.1875 22.15625 43.53125 \nQ 18.109375 38.875 18.109375 30.90625 \nL 18.109375 0 \nL 9.078125 0 \nL 9.078125 54.6875 \nL 18.109375 54.6875 \nL 18.109375 46.1875 \nQ 21.1875 51.21875 25.484375 53.609375 \nQ 29.78125 56 35.6875 56 \nQ 41.65625 56 45.828125 52.96875 \nQ 50 49.953125 52 44.1875 \nz\n\" id=\"DejaVuSans-109\"/>\n     <path d=\"M 56.203125 29.59375 \nL 56.203125 25.203125 \nL 14.890625 25.203125 \nQ 15.484375 15.921875 20.484375 11.0625 \nQ 25.484375 6.203125 34.421875 6.203125 \nQ 39.59375 6.203125 44.453125 7.46875 \nQ 49.3125 8.734375 54.109375 11.28125 \nL 54.109375 2.78125 \nQ 49.265625 0.734375 44.1875 -0.34375 \nQ 39.109375 -1.421875 33.890625 -1.421875 \nQ 20.796875 -1.421875 13.15625 6.1875 \nQ 5.515625 13.8125 5.515625 26.8125 \nQ 5.515625 40.234375 12.765625 48.109375 \nQ 20.015625 56 32.328125 56 \nQ 43.359375 56 49.78125 48.890625 \nQ 56.203125 41.796875 56.203125 29.59375 \nz\nM 47.21875 32.234375 \nQ 47.125 39.59375 43.09375 43.984375 \nQ 39.0625 48.390625 32.421875 48.390625 \nQ 24.90625 48.390625 20.390625 44.140625 \nQ 15.875 39.890625 15.1875 32.171875 \nz\n\" id=\"DejaVuSans-101\"/>\n     <path d=\"M 34.28125 27.484375 \nQ 23.390625 27.484375 19.1875 25 \nQ 14.984375 22.515625 14.984375 16.5 \nQ 14.984375 11.71875 18.140625 8.90625 \nQ 21.296875 6.109375 26.703125 6.109375 \nQ 34.1875 6.109375 38.703125 11.40625 \nQ 43.21875 16.703125 43.21875 25.484375 \nL 43.21875 27.484375 \nz\nM 52.203125 31.203125 \nL 52.203125 0 \nL 43.21875 0 \nL 43.21875 8.296875 \nQ 40.140625 3.328125 35.546875 0.953125 \nQ 30.953125 -1.421875 24.3125 -1.421875 \nQ 15.921875 -1.421875 10.953125 3.296875 \nQ 6 8.015625 6 15.921875 \nQ 6 25.140625 12.171875 29.828125 \nQ 18.359375 34.515625 30.609375 34.515625 \nL 43.21875 34.515625 \nL 43.21875 35.40625 \nQ 43.21875 41.609375 39.140625 45 \nQ 35.0625 48.390625 27.6875 48.390625 \nQ 23 48.390625 18.546875 47.265625 \nQ 14.109375 46.140625 10.015625 43.890625 \nL 10.015625 52.203125 \nQ 14.9375 54.109375 19.578125 55.046875 \nQ 24.21875 56 28.609375 56 \nQ 40.484375 56 46.34375 49.84375 \nQ 52.203125 43.703125 52.203125 31.203125 \nz\n\" id=\"DejaVuSans-97\"/>\n     <path d=\"M 54.890625 33.015625 \nL 54.890625 0 \nL 45.90625 0 \nL 45.90625 32.71875 \nQ 45.90625 40.484375 42.875 44.328125 \nQ 39.84375 48.1875 33.796875 48.1875 \nQ 26.515625 48.1875 22.3125 43.546875 \nQ 18.109375 38.921875 18.109375 30.90625 \nL 18.109375 0 \nL 9.078125 0 \nL 9.078125 54.6875 \nL 18.109375 54.6875 \nL 18.109375 46.1875 \nQ 21.34375 51.125 25.703125 53.5625 \nQ 30.078125 56 35.796875 56 \nQ 45.21875 56 50.046875 50.171875 \nQ 54.890625 44.34375 54.890625 33.015625 \nz\n\" id=\"DejaVuSans-110\"/>\n     <path d=\"M 10.59375 45.40625 \nL 73.1875 45.40625 \nL 73.1875 37.203125 \nL 10.59375 37.203125 \nz\nM 10.59375 25.484375 \nL 73.1875 25.484375 \nL 73.1875 17.1875 \nL 10.59375 17.1875 \nz\n\" id=\"DejaVuSans-61\"/>\n     <path d=\"M 31.78125 34.625 \nQ 24.75 34.625 20.71875 30.859375 \nQ 16.703125 27.09375 16.703125 20.515625 \nQ 16.703125 13.921875 20.71875 10.15625 \nQ 24.75 6.390625 31.78125 6.390625 \nQ 38.8125 6.390625 42.859375 10.171875 \nQ 46.921875 13.96875 46.921875 20.515625 \nQ 46.921875 27.09375 42.890625 30.859375 \nQ 38.875 34.625 31.78125 34.625 \nz\nM 21.921875 38.8125 \nQ 15.578125 40.375 12.03125 44.71875 \nQ 8.5 49.078125 8.5 55.328125 \nQ 8.5 64.0625 14.71875 69.140625 \nQ 20.953125 74.21875 31.78125 74.21875 \nQ 42.671875 74.21875 48.875 69.140625 \nQ 55.078125 64.0625 55.078125 55.328125 \nQ 55.078125 49.078125 51.53125 44.71875 \nQ 48 40.375 41.703125 38.8125 \nQ 48.828125 37.15625 52.796875 32.3125 \nQ 56.78125 27.484375 56.78125 20.515625 \nQ 56.78125 9.90625 50.3125 4.234375 \nQ 43.84375 -1.421875 31.78125 -1.421875 \nQ 19.734375 -1.421875 13.25 4.234375 \nQ 6.78125 9.90625 6.78125 20.515625 \nQ 6.78125 27.484375 10.78125 32.3125 \nQ 14.796875 37.15625 21.921875 38.8125 \nz\nM 18.3125 54.390625 \nQ 18.3125 48.734375 21.84375 45.5625 \nQ 25.390625 42.390625 31.78125 42.390625 \nQ 38.140625 42.390625 41.71875 45.5625 \nQ 45.3125 48.734375 45.3125 54.390625 \nQ 45.3125 60.0625 41.71875 63.234375 \nQ 38.140625 66.40625 31.78125 66.40625 \nQ 25.390625 66.40625 21.84375 63.234375 \nQ 18.3125 60.0625 18.3125 54.390625 \nz\n\" id=\"DejaVuSans-56\"/>\n    </defs>\n    <g transform=\"translate(168.017859 71.899732)scale(0.15 -0.15)\">\n     <use xlink:href=\"#DejaVuSans-109\"/>\n     <use x=\"97.412109\" xlink:href=\"#DejaVuSans-101\"/>\n     <use x=\"158.935547\" xlink:href=\"#DejaVuSans-97\"/>\n     <use x=\"220.214844\" xlink:href=\"#DejaVuSans-110\"/>\n     <use x=\"283.59375\" xlink:href=\"#DejaVuSans-61\"/>\n     <use x=\"367.382812\" xlink:href=\"#DejaVuSans-48\"/>\n     <use x=\"431.005859\" xlink:href=\"#DejaVuSans-46\"/>\n     <use x=\"462.792969\" xlink:href=\"#DejaVuSans-52\"/>\n     <use x=\"526.416016\" xlink:href=\"#DejaVuSans-56\"/>\n    </g>\n   </g>\n   <g id=\"text_13\">\n    <!-- theta -->\n    <defs>\n     <path d=\"M 18.3125 70.21875 \nL 18.3125 54.6875 \nL 36.8125 54.6875 \nL 36.8125 47.703125 \nL 18.3125 47.703125 \nL 18.3125 18.015625 \nQ 18.3125 11.328125 20.140625 9.421875 \nQ 21.96875 7.515625 27.59375 7.515625 \nL 36.8125 7.515625 \nL 36.8125 0 \nL 27.59375 0 \nQ 17.1875 0 13.234375 3.875 \nQ 9.28125 7.765625 9.28125 18.015625 \nL 9.28125 47.703125 \nL 2.6875 47.703125 \nL 2.6875 54.6875 \nL 9.28125 54.6875 \nL 9.28125 70.21875 \nz\n\" id=\"DejaVuSans-116\"/>\n     <path d=\"M 54.890625 33.015625 \nL 54.890625 0 \nL 45.90625 0 \nL 45.90625 32.71875 \nQ 45.90625 40.484375 42.875 44.328125 \nQ 39.84375 48.1875 33.796875 48.1875 \nQ 26.515625 48.1875 22.3125 43.546875 \nQ 18.109375 38.921875 18.109375 30.90625 \nL 18.109375 0 \nL 9.078125 0 \nL 9.078125 75.984375 \nL 18.109375 75.984375 \nL 18.109375 46.1875 \nQ 21.34375 51.125 25.703125 53.5625 \nQ 30.078125 56 35.796875 56 \nQ 45.21875 56 50.046875 50.171875 \nQ 54.890625 44.34375 54.890625 33.015625 \nz\n\" id=\"DejaVuSans-104\"/>\n    </defs>\n    <g transform=\"translate(191.842489 19.3575)scale(0.16 -0.16)\">\n     <use xlink:href=\"#DejaVuSans-116\"/>\n     <use x=\"39.208984\" xlink:href=\"#DejaVuSans-104\"/>\n     <use x=\"102.587891\" xlink:href=\"#DejaVuSans-101\"/>\n     <use x=\"164.111328\" xlink:href=\"#DejaVuSans-116\"/>\n     <use x=\"203.320312\" xlink:href=\"#DejaVuSans-97\"/>\n    </g>\n   </g>\n  </g>\n </g>\n <defs>\n  <clipPath id=\"p83a8f4661c\">\n   <rect height=\"243.792645\" width=\"408.446602\" x=\"8.786688\" y=\"25.3575\"/>\n  </clipPath>\n </defs>\n</svg>\n",
      "image/png": "[encoded data removed]"
     },
     "metadata": {
      "needs_background": "light"
     }
    }
   ],
   "source": [
    "# Usa MCMC para gerar observações da posteriori (método de cálculo da posteriori por simulação)\n",
    "\n",
    "with model:\n",
    "\n",
    "    trace = pymc3.sample(1000, tune=1000, cores=1)\n",
    "\n",
    "# Faz o gráfico da posteriori, calcula sua média e o intervalo de credibilidade\n",
    "\n",
    "pymc3.plot_posterior(trace);"
   ]
  },
  {
   "cell_type": "code",
   "execution_count": null,
   "metadata": {},
   "outputs": [],
   "source": []
  },
  {
   "cell_type": "code",
   "execution_count": null,
   "metadata": {},
   "outputs": [],
   "source": []
  },
  {
   "cell_type": "code",
   "execution_count": null,
   "metadata": {},
   "outputs": [],
   "source": []
  },
  {
   "cell_type": "code",
   "execution_count": null,
   "metadata": {},
   "outputs": [],
   "source": []
  }
 ],
 "metadata": {
  "language_info": {
   "codemirror_mode": {
    "name": "ipython",
    "version": 3
   },
   "file_extension": ".py",
   "mimetype": "text/x-python",
   "name": "python",
   "nbconvert_exporter": "python",
   "pygments_lexer": "ipython3",
   "version": "3.7.6-final"
  },
  "orig_nbformat": 2,
  "kernelspec": {
   "name": "python3",
   "display_name": "Python 3"
  }
 },
 "nbformat": 4,
 "nbformat_minor": 2
}