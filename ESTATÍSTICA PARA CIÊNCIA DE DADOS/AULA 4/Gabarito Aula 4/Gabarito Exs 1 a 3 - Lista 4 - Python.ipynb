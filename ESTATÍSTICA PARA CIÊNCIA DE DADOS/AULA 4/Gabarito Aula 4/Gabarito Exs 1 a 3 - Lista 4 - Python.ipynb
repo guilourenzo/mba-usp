{
 "cells": [
  {
   "cell_type": "code",
   "execution_count": 21,
   "metadata": {},
   "outputs": [],
   "source": [
    "from scipy import stats\n",
    "from math import sqrt\n",
    "import numpy as np\n",
    "import matplotlib.pyplot as plt"
   ]
  },
  {
   "cell_type": "markdown",
   "metadata": {},
   "source": [
    "<hr>"
   ]
  },
  {
   "cell_type": "code",
   "execution_count": 58,
   "metadata": {},
   "outputs": [],
   "source": [
    "# ex 1\n",
    "a = \"2,9; 3,4; 3,5; 4,1; 4,6; 4,7; 4,5; 3,8; 5,3; 4,9; 4,8; 5,7; 5,8; 5,0; 3,4; 5,9; 6,3; 4,6; 5,5; 6,2\""
   ]
  },
  {
   "cell_type": "code",
   "execution_count": 59,
   "metadata": {},
   "outputs": [],
   "source": [
    "amostras = list(map(float, a.replace(',', '.').split('; ')))"
   ]
  },
  {
   "cell_type": "code",
   "execution_count": 60,
   "metadata": {},
   "outputs": [],
   "source": [
    "n = len(amostras)"
   ]
  },
  {
   "cell_type": "code",
   "execution_count": 61,
   "metadata": {},
   "outputs": [],
   "source": [
    "mu = sum(amostras) / n"
   ]
  },
  {
   "cell_type": "code",
   "execution_count": 62,
   "metadata": {},
   "outputs": [],
   "source": [
    "s = 2"
   ]
  },
  {
   "cell_type": "code",
   "execution_count": 63,
   "metadata": {},
   "outputs": [
    {
     "data": {
      "text/plain": [
       "array([3.82653557, 5.66346443])"
      ]
     },
     "execution_count": 63,
     "metadata": {},
     "output_type": "execute_result"
    }
   ],
   "source": [
    "np.array(stats.norm.interval(.96, 0, 1)) * s / sqrt(n) + mu"
   ]
  },
  {
   "cell_type": "code",
   "execution_count": 66,
   "metadata": {},
   "outputs": [
    {
     "data": {
      "text/plain": [
       "array([3.75902758, 5.73097242])"
      ]
     },
     "execution_count": 66,
     "metadata": {},
     "output_type": "execute_result"
    }
   ],
   "source": [
    "# se for sigma fosse desconhecido, usaríamos t-student\n",
    "np.array(stats.t.interval(.96, n - 1, 0, 1)) * s / sqrt(n) + mu"
   ]
  },
  {
   "cell_type": "markdown",
   "metadata": {},
   "source": [
    "<hr>"
   ]
  },
  {
   "cell_type": "code",
   "execution_count": 35,
   "metadata": {},
   "outputs": [
    {
     "data": {
      "text/plain": [
       "[<matplotlib.lines.Line2D at 0x7f0224ab1a90>]"
      ]
     },
     "execution_count": 35,
     "metadata": {},
     "output_type": "execute_result"
    },
    {
     "data": {
      "image/png": "[encoded data removed]",
      "text/plain": [
       "<Figure size 432x288 with 1 Axes>"
      ]
     },
     "metadata": {
      "needs_background": "light"
     },
     "output_type": "display_data"
    }
   ],
   "source": [
    "# ex 2\n",
    "\"\"\"\n",
    "calcule o estimador de máxima verossimilhança da média e da variância\n",
    "do intervalo de tempo entre as chegadas de barcos em um porto secundário do Rio de Janeiro.\n",
    "Suponha que essa variável tem distribuição exponencial\n",
    "\"\"\"\n",
    "amostras = [7.6, 11.8, 1.5, 1.4, 4.4, 28.9, 12.3, 5.4, 9.6, 1.5]\n",
    "n = len(amostras)\n",
    "x = sorted(amostras)\n",
    "_lambda = n / sum(amostras)\n",
    "\n",
    "\n",
    "ll = []\n",
    "lambdas = np.linspace(_lambda * .8, _lambda * 1.2, 60)\n",
    "for l in lambdas:\n",
    "    pdf = stats.expon.pdf(x, 0, 1 / l)\n",
    "    ll.append(np.sum(np.log(pdf))) # ll abreviação para log-likelihood\n",
    "    # para calcular a verossimilhança (sem log), troque np.sum(np.log(pdf)) por np.prod(pdf)\n",
    "    \n",
    "plt.plot(lambdas, ll)\n",
    "\n",
    "\n",
    "_lambda_pdf = np.sum(np.log(stats.expon.pdf(x, 0 , 1 / _lambda)))\n",
    "plt.plot([_lambda], [_lambda_pdf], 'r*') # mostra local do nosso estimador calculado\n",
    "# podemos ver que média amostral calculada é uma boa estimativa."
   ]
  },
  {
   "cell_type": "markdown",
   "metadata": {},
   "source": [
    "<hr>"
   ]
  },
  {
   "cell_type": "code",
   "execution_count": 45,
   "metadata": {},
   "outputs": [
    {
     "data": {
      "text/plain": [
       "(-1.4395314709384557, 1.4395314709384563)"
      ]
     },
     "execution_count": 45,
     "metadata": {},
     "output_type": "execute_result"
    }
   ],
   "source": [
    "# ex 3\n",
    "interval = stats.norm.interval(.85, 0, 1)\n",
    "interval"
   ]
  },
  {
   "cell_type": "code",
   "execution_count": null,
   "metadata": {},
   "outputs": [],
   "source": [
    "# vamos chamar de zi o valor positivo desse intervalo\n",
    "# lembre que a máxima variância é quando p(1-p) = 1/4\n",
    "# então temos"
   ]
  },
  {
   "cell_type": "markdown",
   "metadata": {},
   "source": [
    "$IC_p(85\\%) = (p - z_i\\sqrt{(1/4)/n}; p + z_i\\sqrt{(1/4)/n})$\n",
    "\n",
    "E queremos amplitude menor que 0,1 ou seja:\n",
    "\n",
    "$(p + z_i\\sqrt{(1/4)/n}) - (p - z_i\\sqrt{(1/4)/n}) < 0.1$\n",
    "\n",
    "$2 . z_i\\sqrt{(1/4)/n} < 0.1$\n",
    "\n",
    "$z_i\\sqrt{1/n} < 0.1$\n",
    "\n",
    "$100.z_i^2 < n$"
   ]
  },
  {
   "cell_type": "code",
   "execution_count": 48,
   "metadata": {},
   "outputs": [
    {
     "name": "stdout",
     "output_type": "stream",
     "text": [
      "n > 208\n"
     ]
    }
   ],
   "source": [
    "from math import ceil\n",
    "\n",
    "zi = interval[1]\n",
    "\n",
    "print('n >', ceil(zi ** 2 * 100))"
   ]
  },
  {
   "cell_type": "markdown",
   "metadata": {},
   "source": [
    "<hr>"
   ]
  }
 ],
 "metadata": {
  "kernelspec": {
   "display_name": "Python 3",
   "language": "python",
   "name": "python3"
  },
  "language_info": {
   "codemirror_mode": {
    "name": "ipython",
    "version": 3
   },
   "file_extension": ".py",
   "mimetype": "text/x-python",
   "name": "python",
   "nbconvert_exporter": "python",
   "pygments_lexer": "ipython3",
   "version": "3.7.3"
  }
 },
 "nbformat": 4,
 "nbformat_minor": 4
}
