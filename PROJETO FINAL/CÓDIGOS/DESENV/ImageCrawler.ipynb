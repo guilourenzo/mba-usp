{
 "cells": [
  {
   "cell_type": "markdown",
   "metadata": {},
   "source": [
    "## 1. PACOTES UTILIZADOS"
   ]
  },
  {
   "cell_type": "code",
   "execution_count": 1,
   "metadata": {},
   "outputs": [],
   "source": [
    "from datetime import datetime\n",
    "start = datetime.now()\n",
    "\n",
    "from selenium import webdriver\n",
    "from PIL import Image\n",
    "import time\n",
    "import io\n",
    "import hashlib\n",
    "import requests\n",
    ""
   ]
  },
  {
   "cell_type": "markdown",
   "metadata": {},
   "source": [
    "## 2. DEFINIÇÃO DAS VARIAVEIS<br>\n",
    "\n",
    "**DRIVER_PATH**: NOME/CAMINHO DO ARQUIVO EXE CORRESPONDENTE AO BROWSER A SER UTILIZADO (FIREFOX: firefoxdriver | CHROME: chromedriver)<br>\n",
    "**SEARCH_TERM**: TERMO A SER PESQUISADO NO GOOGLE<br>\n",
    "**NUMBER_IMAGES**: QUANTIDADE DE IMAGENS A SEREM BAIXADAS<br>\n",
    "**TARGET_PATH**: LOCAL A SER SALVO AS IMAGENS BAIXADAS<br>"
   ]
  },
  {
   "cell_type": "code",
   "execution_count": 7,
   "metadata": {},
   "outputs": [],
   "source": [
    "# DRIVER_PATH = r'C:\\\\Users\\\\guilo\\\\OneDrive\\\\MBA - USP\\\\PROJETO FINAL\\\\phantom\\\\bin\\\\phantomjs.exe'\n",
    "DRIVER_PATH = 'DRIVERS\\\\firefoxdriver.exe'\n",
    "SEARCH_TERM = 'x videos porn'\n",
    "NUMBER_IMAGES = int(100)\n",
    "TARGET_PATH = r'N:\\\\USP_IMAGES\\\\'"
   ]
  },
  {
   "cell_type": "markdown",
   "metadata": {},
   "source": [
    "## 3. FUNÇÕES DE PESQUISA E DOWNLOAD DAS IMAGENS"
   ]
  },
  {
   "cell_type": "code",
   "execution_count": 3,
   "metadata": {},
   "outputs": [],
   "source": [
    "def search_and_download(search_term:str,driver_path:str,target_path:str,number_images:int):\n",
    "    target_folder = os.path.join(target_path,'_'.join(search_term.lower().split(' ')))\n",
    "\n",
    "    if not os.path.exists(target_folder):\n",
    "        os.makedirs(target_folder)\n",
    "    \n",
    "    options = webdriver.FirefoxOptions()\n",
    "    options.add_argument('-headless')\n",
    "    \n",
    "    # with webdriver.Firefox(executable_path=driver_path) as wd:\n",
    "    with webdriver.Firefox(executable_path=driver_path, firefox_options=options) as wd:\n",
    "        res = fetch_image_urls(search_term, number_images, wd=wd, sleep_between_interactions=0.5)\n",
    "        \n",
    "    for elem in res:\n",
    "        persist_image(target_folder,elem)"
   ]
  },
  {
   "cell_type": "code",
   "execution_count": 4,
   "metadata": {},
   "outputs": [],
   "source": [
    "def fetch_image_urls(query:str, max_links_to_fetch:int, wd:webdriver, sleep_between_interactions:int=1):\n",
    "    def scroll_to_end(wd):\n",
    "        wd.execute_script(\"window.scrollTo(0, document.body.scrollHeight);\")\n",
    "        time.sleep(sleep_between_interactions)    \n",
    "    \n",
    "    # build the google query\n",
    "    search_url = \"https://www.google.com/search?safe=off&site=&tbm=isch&source=hp&q={q}&oq={q}&gs_l=img\"\n",
    "\n",
    "    # load the page\n",
    "    wd.get(search_url.format(q=query))\n",
    "\n",
    "    image_urls = set()\n",
    "    image_count = 0\n",
    "    results_start = 0\n",
    "    while image_count < max_links_to_fetch:\n",
    "        scroll_to_end(wd)\n",
    "\n",
    "        # get all image thumbnail results\n",
    "        thumbnail_results = wd.find_elements_by_css_selector(\"img.Q4LuWd\")\n",
    "        number_results = len(thumbnail_results)\n",
    "        \n",
    "        print(f\"Found: {number_results} search results. Extracting links from {results_start}:{number_results}\")\n",
    "        \n",
    "        for img in thumbnail_results[results_start:number_results]:\n",
    "            # try to click every thumbnail such that we can get the real image behind it\n",
    "            try:\n",
    "                img.click()\n",
    "                time.sleep(sleep_between_interactions)\n",
    "            except Exception:\n",
    "                continue\n",
    "\n",
    "            # extract image urls    \n",
    "            actual_images = wd.find_elements_by_css_selector('img.n3VNCb')\n",
    "            for actual_image in actual_images:\n",
    "                if actual_image.get_attribute('src') and 'http' in actual_image.get_attribute('src'):\n",
    "                    image_urls.add(actual_image.get_attribute('src'))\n",
    "\n",
    "            image_count = len(image_urls)\n",
    "\n",
    "            if len(image_urls) >= max_links_to_fetch:\n",
    "                print(f\"\\nFound: {len(image_urls)} image links, done!\")\n",
    "                break\n",
    "        else:\n",
    "            print(\"\\nFound:\", len(image_urls), \"image links, looking for more ...\")\n",
    "            time.sleep(30)\n",
    "            return\n",
    "            load_more_button = wd.find_element_by_css_selector(\".mye4qd\")\n",
    "            if load_more_button:\n",
    "                wd.execute_script(\"document.querySelector('.mye4qd').click();\")\n",
    "\n",
    "        # move the result startpoint further down\n",
    "        results_start = len(thumbnail_results)\n",
    "\n",
    "    return image_urls"
   ]
  },
  {
   "cell_type": "code",
   "execution_count": 5,
   "metadata": {},
   "outputs": [],
   "source": [
    "def persist_image(folder_path:str,url:str):\n",
    "    try:\n",
    "        image_content = requests.get(url).content\n",
    "\n",
    "    except Exception as e:\n",
    "        print(f\"\\nERROR - Could not download {url} - {e}\")\n",
    "\n",
    "    try:\n",
    "        image_file = io.BytesIO(image_content)\n",
    "        image = Image.open(image_file).convert('RGB')\n",
    "        file_path = os.path.join(folder_path,hashlib.sha1(image_content).hexdigest()[:10] + '.jpg')\n",
    "        with open(file_path, 'wb') as f:\n",
    "            image.save(f, \"JPEG\", quality=85)\n",
    "        print(f\"\\nSUCCESS - saved {url} - as {file_path}\")\n",
    "    except Exception as e:\n",
    "        print(f\"\\nERROR - Could not save {url} - {e}\")"
   ]
  },
  {
   "cell_type": "markdown",
   "metadata": {},
   "source": [
    "## 4. INÍCIO DA CHAMADA"
   ]
  },
  {
   "cell_type": "code",
   "execution_count": 8,
   "metadata": {
    "tags": []
   },
   "outputs": [
    {
     "output_type": "stream",
     "name": "stdout",
     "text": "Found: 100 search results. Extracting links from 0:100\n\nFound: 100 image links, done!\n\nSUCCESS - saved https://cdn77-pic.xvideos-cdn.com/videos/thumbslll/a0/18/3d/a0183d3cd06244bfa06ea2b9d6ebfc9b/a0183d3cd06244bfa06ea2b9d6ebfc9b.14.jpg - as N:\\\\USP_IMAGES\\\\x_videos_porn\\8b887ef7b1.jpg\n\nSUCCESS - saved https://encrypted-tbn0.gstatic.com/images?q=tbn%3AANd9GcQVJ_Dg2M8Cia1IFf-REReS9lh4kr-TizIJ39PEonn9iPg6mz8V&usqp=CAU - as N:\\\\USP_IMAGES\\\\x_videos_porn\\0005bf659e.jpg\n\nSUCCESS - saved https://encrypted-tbn0.gstatic.com/images?q=tbn%3AANd9GcRl_FahomqDleP3yqvvXzqosDBtt0io7Au3mJpJnzb8UtE5XjZT&usqp=CAU - as N:\\\\USP_IMAGES\\\\x_videos_porn\\f6f2100a09.jpg\n\nSUCCESS - saved https://xvideos.blog/wp-content/uploads/2019/03/mia-khalifa-x-videos-porno-de-sexo-quente.jpg - as N:\\\\USP_IMAGES\\\\x_videos_porn\\140debaa49.jpg\n\nSUCCESS - saved https://encrypted-tbn0.gstatic.com/images?q=tbn%3AANd9GcR6swzN4q_920hj0yFJqMad8MF1gqGHnaZ9jhgHI8lo_KhOnZxi&usqp=CAU - as N:\\\\USP_IMAGES\\\\x_videos_porn\\34eb0a62ed.jpg\n\nSUCCESS - saved https://img-l3.xvideos-cdn.com/videos/thumbslll/4f/7a/04/4f7a040e2ac0943698be12fdfca97213/4f7a040e2ac0943698be12fdfca97213.9.jpg - as N:\\\\USP_IMAGES\\\\x_videos_porn\\fdc7398055.jpg\n\nSUCCESS - saved https://www.xvideosincesto.com/wp-content/uploads/2018/07/os-melhores-xvideos-anal.jpg - as N:\\\\USP_IMAGES\\\\x_videos_porn\\3666961f47.jpg\n\nSUCCESS - saved https://img-l3.xvideos-cdn.com/videos/thumbslll/75/9a/be/759abeb363db07038bb0b389f4b4c4c2/759abeb363db07038bb0b389f4b4c4c2.15.jpg - as N:\\\\USP_IMAGES\\\\x_videos_porn\\f363ca1775.jpg\n\nSUCCESS - saved https://img-l3.xvideos-cdn.com/videos/thumbslll/8e/82/6c/8e826c6580686f2425f8a04eb88134af/8e826c6580686f2425f8a04eb88134af.6.jpg - as N:\\\\USP_IMAGES\\\\x_videos_porn\\d444e4a077.jpg\n\nSUCCESS - saved https://encrypted-tbn0.gstatic.com/images?q=tbn%3AANd9GcTwwNy8PjrgH13kpKg-nmtlApNR-YoEzmNwmyku08DoWg4DGoQV&usqp=CAU - as N:\\\\USP_IMAGES\\\\x_videos_porn\\9811b9ee2f.jpg\n\nSUCCESS - saved https://www.xvideosbrasileiro.net/wp-content/uploads/2020/02/poster-25319-219x162.jpg - as N:\\\\USP_IMAGES\\\\x_videos_porn\\9a90d63bb9.jpg\n\nSUCCESS - saved https://www.videosdesexo.mobi/media/videos/10000/1000/x-videos-porno-lesbicas.jpg - as N:\\\\USP_IMAGES\\\\x_videos_porn\\c88b1f32de.jpg\n\nSUCCESS - saved https://www.xvideosporn.top/pics/Be/287180.jpg - as N:\\\\USP_IMAGES\\\\x_videos_porn\\9eeac22360.jpg\n\nSUCCESS - saved https://www.travestisvip.com.br/wp-content/uploads/2019/05/x-videos-porno-travesti-tatuada-gostosa-fodendo.jpg - as N:\\\\USP_IMAGES\\\\x_videos_porn\\ca5e374c18.jpg\n\nSUCCESS - saved https://www.novinhas18.com.br/wp-content/uploads/2018/09/x-videos-coroas-dotado-fodendo-asiatica-madura-safada-276x198.jpg - as N:\\\\USP_IMAGES\\\\x_videos_porn\\25baadf64f.jpg\n\nSUCCESS - saved https://encrypted-tbn0.gstatic.com/images?q=tbn%3AANd9GcT-gWI-LY_BNdUiobY-n5lP5MeA-YcrNHcmoQaot44gX6jeM2lF&usqp=CAU - as N:\\\\USP_IMAGES\\\\x_videos_porn\\e65845b497.jpg\n\nSUCCESS - saved https://encrypted-tbn0.gstatic.com/images?q=tbn%3AANd9GcRSbsxjfP87MEz1oahSo2t-T9kDg0NYckJVruvK-STf5lSLa84O&usqp=CAU - as N:\\\\USP_IMAGES\\\\x_videos_porn\\1c2bbeb79c.jpg\n\nSUCCESS - saved https://img.xvideo.vlog.br/wp-content/uploads/2020/06/melhor-video-amador-de-sexo-anal-do-mundo.jpg - as N:\\\\USP_IMAGES\\\\x_videos_porn\\42fdfd1134.jpg\n\nSUCCESS - saved https://encrypted-tbn0.gstatic.com/images?q=tbn%3AANd9GcQKny7A2Zfq7bL90-bC5RbzEnlBr5ZIAGoVjXu0zNVH1gnxVHUt&usqp=CAU - as N:\\\\USP_IMAGES\\\\x_videos_porn\\bf33b7daef.jpg\n\nERROR - Could not download https://cdn.xvideoson.com/cdn/imagens/5219/10.jpg - HTTPSConnectionPool(host='cdn.xvideoson.com', port=443): Max retries exceeded with url: /cdn/imagens/5219/10.jpg (Caused by SSLError(SSLError(\"bad handshake: Error([('SSL routines', 'tls_process_server_certificate', 'certificate verify failed')])\")))\n\nERROR - Could not save https://cdn.xvideoson.com/cdn/imagens/5219/10.jpg - local variable 'image_content' referenced before assignment\n\nSUCCESS - saved https://encrypted-tbn0.gstatic.com/images?q=tbn%3AANd9GcToHM0gA6HDYSRxbXtgcNfomWqAV_RZgejjNRkBqh3F5JfZ-qrh&usqp=CAU - as N:\\\\USP_IMAGES\\\\x_videos_porn\\2c7cd7fb14.jpg\n\nSUCCESS - saved https://img-l3.xvideos-cdn.com/videos/thumbslll/53/68/97/5368975a3d939f93e5a66287494f8573/5368975a3d939f93e5a66287494f8573.23.jpg - as N:\\\\USP_IMAGES\\\\x_videos_porn\\63fdbaf1ca.jpg\n\nSUCCESS - saved https://encrypted-tbn0.gstatic.com/images?q=tbn%3AANd9GcSPnqKE90bClrAcjGioTwroLZHDH2s25MPFTDRUU-D0S3RX35AD&usqp=CAU - as N:\\\\USP_IMAGES\\\\x_videos_porn\\ddeedf25dd.jpg\n\nSUCCESS - saved https://img.xvideo.vlog.br/wp-content/uploads/2020/06/peituda-chupando-cacete-e-dando-a-buceta.jpg - as N:\\\\USP_IMAGES\\\\x_videos_porn\\ef22ac642d.jpg\n\nSUCCESS - saved https://encrypted-tbn0.gstatic.com/images?q=tbn%3AANd9GcQGRCkJ84R8JBLR6ryv0CMgQgP5Z_gATvrRLsqThaKZ-C0iTQ3L&usqp=CAU - as N:\\\\USP_IMAGES\\\\x_videos_porn\\32db8e14c8.jpg\n\nSUCCESS - saved https://img-l3.xvideos-cdn.com/videos/thumbslll/e8/96/3f/e8963fb8ebcdf488c84d0cdf1e9a8717/e8963fb8ebcdf488c84d0cdf1e9a8717.6.jpg - as N:\\\\USP_IMAGES\\\\x_videos_porn\\97ba1b1d0f.jpg\n\nSUCCESS - saved https://encrypted-tbn0.gstatic.com/images?q=tbn%3AANd9GcSjLrls_hW2OcWVJN5Mtg8AMWSP-p1S0Vx4jh04c_NVz9yIchm5&usqp=CAU - as N:\\\\USP_IMAGES\\\\x_videos_porn\\2eb278de03.jpg\n\nSUCCESS - saved https://www.xvideosincesto.com/wp-content/uploads/2018/07/xvideos-xvideo-com.jpg - as N:\\\\USP_IMAGES\\\\x_videos_porn\\49ee0326bf.jpg\n\nSUCCESS - saved https://encrypted-tbn0.gstatic.com/images?q=tbn%3AANd9GcQRr9PYCLY_DDbl450Cg_iChmd3IWVpzx_Kik5uLt0jMHCPfrRh&usqp=CAU - as N:\\\\USP_IMAGES\\\\x_videos_porn\\c5e11383f9.jpg\n\nSUCCESS - saved https://encrypted-tbn0.gstatic.com/images?q=tbn%3AANd9GcSC_aDYD6p6Nf7j7qVKCtAah6fMTd2Vu7ahm_W8jqOY75Ch8GOS&usqp=CAU - as N:\\\\USP_IMAGES\\\\x_videos_porn\\b99db9d78e.jpg\n\nSUCCESS - saved https://encrypted-tbn0.gstatic.com/images?q=tbn%3AANd9GcSlUsa5v4YgsND9MFb1B87dl92VhGLD4gVDbtp2IRiUwMxM0pr0&usqp=CAU - as N:\\\\USP_IMAGES\\\\x_videos_porn\\77e20b0106.jpg\n\nSUCCESS - saved https://xvideosporno.blog/wp-content/uploads/2020/05/novinha-caiu-na-net-fodendo-com-seu-primo-300x250.jpg - as N:\\\\USP_IMAGES\\\\x_videos_porn\\3daef5e545.jpg\n\nSUCCESS - saved https://img-l3.xvideos-cdn.com/videos/thumbslll/7e/08/ae/7e08ae8d8c63333f8395a106d002f677/7e08ae8d8c63333f8395a106d002f677.22.jpg - as N:\\\\USP_IMAGES\\\\x_videos_porn\\4935c6ed09.jpg\n\nSUCCESS - saved https://xvideosx.com.br/wp-content/uploads/2020/06/ninfeta-rebecca-faz-suruba-com-quatro-negros.jpg - as N:\\\\USP_IMAGES\\\\x_videos_porn\\4e5c039875.jpg\n\nSUCCESS - saved https://xvideos-hd.com/wp-content/uploads/2020/04/x-videos.jpg - as N:\\\\USP_IMAGES\\\\x_videos_porn\\015ba7ea46.jpg\n\nSUCCESS - saved https://cdn77-pic.xvideos-cdn.com/videos/thumbslll/3d/27/34/3d27341036444784cc5af19a3fcb3dcc/3d27341036444784cc5af19a3fcb3dcc.10.jpg - as N:\\\\USP_IMAGES\\\\x_videos_porn\\065e64ff26.jpg\n\nSUCCESS - saved https://i2.wp.com/www.testosterona.blog.br/wp-content/uploads/2019/09/x-video.jpg?ssl=1 - as N:\\\\USP_IMAGES\\\\x_videos_porn\\a165ead5e0.jpg\n\nSUCCESS - saved https://encrypted-tbn0.gstatic.com/images?q=tbn%3AANd9GcTqyhjLTFUe7NMxU2uQt74uX-ucjbVeQyz1mEFavhErp2CBnH5g&usqp=CAU - as N:\\\\USP_IMAGES\\\\x_videos_porn\\4739b77e8f.jpg\n\nSUCCESS - saved https://encrypted-tbn0.gstatic.com/images?q=tbn%3AANd9GcTk5OZE__9ByZxl4V0QAjhxaMmWC4PmlxYLGIyLOHuYu-KePIaf&usqp=CAU - as N:\\\\USP_IMAGES\\\\x_videos_porn\\c668ae34d7.jpg\n\nSUCCESS - saved https://www.xvideosbrasileiro.net/wp-content/uploads/2019/12/poster-21107-219x162.jpg - as N:\\\\USP_IMAGES\\\\x_videos_porn\\98404c18a5.jpg\n\nSUCCESS - saved https://img-hw.xvideos-cdn.com/videos/thumbslll/09/d4/72/09d4721c85b12c883638b5947c7d99fe/09d4721c85b12c883638b5947c7d99fe.28.jpg - as N:\\\\USP_IMAGES\\\\x_videos_porn\\9cf426c964.jpg\n\nSUCCESS - saved https://filmesporno.xxx/wp-content/uploads/2019/10/x-video-porno-brasileiro-com-ninfeta-safada.jpg - as N:\\\\USP_IMAGES\\\\x_videos_porn\\fc066e08cd.jpg\n\nERROR - Could not save https://www.xvideosnovinha.com.br/wp-content/uploads/2020/05/negra-gostosa-porno-xvideos-hd-216x180.jpg - cannot identify image file <_io.BytesIO object at 0x05C2AA80>\n\nSUCCESS - saved https://encrypted-tbn0.gstatic.com/images?q=tbn%3AANd9GcTFOnYtPFDEdX8PRLhw77GxLZF42qt3i2_Ece9zX88XDgdXigEd&usqp=CAU - as N:\\\\USP_IMAGES\\\\x_videos_porn\\2d2b6f000a.jpg\n\nSUCCESS - saved https://www.xvideosincesto.com/wp-content/uploads/2019/03/x-video-porno-xxx-gratis.jpg - as N:\\\\USP_IMAGES\\\\x_videos_porn\\9f202a54ac.jpg\n\nSUCCESS - saved https://encrypted-tbn0.gstatic.com/images?q=tbn%3AANd9GcQgW-C2baaDSr2g5-FiNzHcPDzWYMj8NxLUoGiTO-79DiqZNKJQ&usqp=CAU - as N:\\\\USP_IMAGES\\\\x_videos_porn\\5186a0c096.jpg\n\nSUCCESS - saved https://encrypted-tbn0.gstatic.com/images?q=tbn%3AANd9GcTwxVKQ1gZD_F33kPd2f_zPm09aePlimBQenhLtAHmvSxM6D6J9&usqp=CAU - as N:\\\\USP_IMAGES\\\\x_videos_porn\\98b6745e54.jpg\n\nSUCCESS - saved https://xvideosx.com.br/wp-content/uploads/2020/04/negra-super-grelhuda-fode-gritando-cheia-de-tesao.jpg - as N:\\\\USP_IMAGES\\\\x_videos_porn\\c6d7c5407f.jpg\n\nSUCCESS - saved https://encrypted-tbn0.gstatic.com/images?q=tbn%3AANd9GcQ8xmUHNZZq4uf4iTa4um_3NKvQ-hwxp2mRztNRh-D_AnwGfBaV&usqp=CAU - as N:\\\\USP_IMAGES\\\\x_videos_porn\\7165138823.jpg\n\nSUCCESS - saved https://encrypted-tbn0.gstatic.com/images?q=tbn%3AANd9GcSpv1LE-0HP87LhHoh1MLshT1doDpT2Dap7L7eL1mwx1raidZXV&usqp=CAU - as N:\\\\USP_IMAGES\\\\x_videos_porn\\1be1e83d7a.jpg\n\nSUCCESS - saved https://encrypted-tbn0.gstatic.com/images?q=tbn%3AANd9GcTwCStsv_zrYLkT9g0CRubAZ8B2_KbeWK5kx8R9Ln0MYNe85Dst&usqp=CAU - as N:\\\\USP_IMAGES\\\\x_videos_porn\\079b975f6f.jpg\n\nSUCCESS - saved https://encrypted-tbn0.gstatic.com/images?q=tbn%3AANd9GcTDGB1plUV3D4Xl9Au2F6CWYAx_JzUKFUpqcthkIS8oYjWNv2me&usqp=CAU - as N:\\\\USP_IMAGES\\\\x_videos_porn\\859d610bec.jpg\n\nSUCCESS - saved https://encrypted-tbn0.gstatic.com/images?q=tbn%3AANd9GcTxM3uoegChNuAyLZtmtscMSMpGT405WaWiA9pLnU3gzqFNIdki&usqp=CAU - as N:\\\\USP_IMAGES\\\\x_videos_porn\\e8a9572487.jpg\n\nSUCCESS - saved https://xvideosx.com.br/wp-content/uploads/2020/04/morena-paulista-ama-socada-por-tras-de-quatro.jpg - as N:\\\\USP_IMAGES\\\\x_videos_porn\\31af0bac53.jpg\n\nSUCCESS - saved https://xvideospornos.com.br/wp-content/uploads/2019/09/x-videos-porno-brasileiro-com-loira-cuzuda-trepando.jpg - as N:\\\\USP_IMAGES\\\\x_videos_porn\\4ea2719138.jpg\n\nSUCCESS - saved https://www.travestisvip.com.br/wp-content/uploads/2018/10/3fe1865a8ec5ef07d907203a07ef775a.23.jpg - as N:\\\\USP_IMAGES\\\\x_videos_porn\\d3471c5684.jpg\n\nSUCCESS - saved https://img-hw.xvideos-cdn.com/videos/thumbs169ll/ee/cd/8b/eecd8bf3f70c15098e84a5679bdfae30/eecd8bf3f70c15098e84a5679bdfae30.22.jpg - as N:\\\\USP_IMAGES\\\\x_videos_porn\\7822b609df.jpg\n\nSUCCESS - saved https://www.xvideosincesto.com/wp-content/uploads/2017/02/xvideos-xxx-videos-porno-amador-com-novinha-sentando-na-piroca.jpg - as N:\\\\USP_IMAGES\\\\x_videos_porn\\732aaa168d.jpg\n\nSUCCESS - saved https://encrypted-tbn0.gstatic.com/images?q=tbn%3AANd9GcRJRhVUCg0EUwop99lCixjDuTtqDBCxgVCpGHAn1t3Gy13qDAog&usqp=CAU - as N:\\\\USP_IMAGES\\\\x_videos_porn\\3a7340b601.jpg\n\nSUCCESS - saved https://encrypted-tbn0.gstatic.com/images?q=tbn%3AANd9GcTl7jsLbc0yyeFzuiAj6PrAeIkpQaBR1SBlIRwli-gTjM2Ke-2Q&usqp=CAU - as N:\\\\USP_IMAGES\\\\x_videos_porn\\f01281528c.jpg\n\nSUCCESS - saved https://sexoamador.blog/wp-content/uploads/2019/01/xvidios-morena-levando-rola-bem-no-x-videos-porno-310x190.jpg - as N:\\\\USP_IMAGES\\\\x_videos_porn\\7430af18c1.jpg\n\nSUCCESS - saved https://xvideos-hd.com/wp-content/uploads/2020/04/picaxota.jpg - as N:\\\\USP_IMAGES\\\\x_videos_porn\\425c52a35f.jpg\n\nSUCCESS - saved https://www.xvideoscaseiras.com/wp-content/uploads/2019/09/Xvideostv-loira-linda-dando-o-rabo-grande-bem-gostoso-em-video-porno-300x225.jpg - as N:\\\\USP_IMAGES\\\\x_videos_porn\\45354e6edb.jpg\n\nSUCCESS - saved https://encrypted-tbn0.gstatic.com/images?q=tbn%3AANd9GcRKZO00OXu1VGaP5CUGScIKAPx166Q5xDLsXFR2it8c670MWDG6&usqp=CAU - as N:\\\\USP_IMAGES\\\\x_videos_porn\\d443813c8e.jpg\n\nSUCCESS - saved https://www.xvideoporno.net/wp-content/uploads/2019/01/xvideos-300x220.jpg - as N:\\\\USP_IMAGES\\\\x_videos_porn\\a82abdd462.jpg\n\nSUCCESS - saved https://pornobrasil.blog.br/wp-content/uploads/2020/02/xxx-video-porno-comendo-novinhas-egirls-352x198.jpg - as N:\\\\USP_IMAGES\\\\x_videos_porn\\2e68b79117.jpg\n\nSUCCESS - saved https://encrypted-tbn0.gstatic.com/images?q=tbn%3AANd9GcS6AAEpgdV1661kN_ZOLgyFIVZWHzhRqvWW5n1bvW4T8Y_gYYE8&usqp=CAU - as N:\\\\USP_IMAGES\\\\x_videos_porn\\804eb56280.jpg\n\nSUCCESS - saved https://encrypted-tbn0.gstatic.com/images?q=tbn%3AANd9GcRT2-9xqfYBTJW9O4yOmKzv8mHvT-wGp6xcms3agojcQQ8Cb0gd&usqp=CAU - as N:\\\\USP_IMAGES\\\\x_videos_porn\\2749f692eb.jpg\n\nSUCCESS - saved https://encrypted-tbn0.gstatic.com/images?q=tbn%3AANd9GcSNUWRD9TNiTZOkqRJVdXvvockXXq_DOe_qTZrb2X942gTeGeDk&usqp=CAU - as N:\\\\USP_IMAGES\\\\x_videos_porn\\b45f3989b8.jpg\n\nSUCCESS - saved https://encrypted-tbn0.gstatic.com/images?q=tbn%3AANd9GcSWm2G9XI_kf2rfXZtP3Qgdt77qfOJrOonYMmevgDwdBkKsAjdC&usqp=CAU - as N:\\\\USP_IMAGES\\\\x_videos_porn\\a2a5e228dc.jpg\n\nSUCCESS - saved https://img-hw.xvideos-cdn.com/videos/thumbslll/c6/c6/ab/c6c6ab23b9ca263d64fa5cb5c81302ab/c6c6ab23b9ca263d64fa5cb5c81302ab.3.jpg - as N:\\\\USP_IMAGES\\\\x_videos_porn\\d5d8c5e2dd.jpg\n\nSUCCESS - saved https://encrypted-tbn0.gstatic.com/images?q=tbn%3AANd9GcSwLjQgfrsEbx_iFBe1CkrDxsnItas0soBtXPLeMpn_vuAReKq8&usqp=CAU - as N:\\\\USP_IMAGES\\\\x_videos_porn\\4fa2b320cc.jpg\n\nSUCCESS - saved https://encrypted-tbn0.gstatic.com/images?q=tbn%3AANd9GcSXdp8akdhPfnHGnJmATErxTxw9Q_0do-Nezvy9rOcEwSqmORqJ&usqp=CAU - as N:\\\\USP_IMAGES\\\\x_videos_porn\\129474eee1.jpg\n\nSUCCESS - saved https://encrypted-tbn0.gstatic.com/images?q=tbn%3AANd9GcTPmw6SmasM_p-gclLOXKE6UG-UpHmatiFrzucpZAiO31j3Jl4X&usqp=CAU - as N:\\\\USP_IMAGES\\\\x_videos_porn\\53466d2a73.jpg\n\nSUCCESS - saved https://img-l3.xvideos-cdn.com/videos/thumbslll/d0/e6/6c/d0e66c31ee6802fc85e0a6b572b767e9/d0e66c31ee6802fc85e0a6b572b767e9.29.jpg - as N:\\\\USP_IMAGES\\\\x_videos_porn\\cabc8009e4.jpg\n\nSUCCESS - saved https://encrypted-tbn0.gstatic.com/images?q=tbn%3AANd9GcTvIRqrvQu_zm4J3EMzxOOLLtqpxXqQJQcF3stNce5NPnv1EN4c&usqp=CAU - as N:\\\\USP_IMAGES\\\\x_videos_porn\\42c83a2666.jpg\n\nSUCCESS - saved https://www.xvideo.blog/wp-content/uploads/2020/01/xvideos-lesbica-safada-foi-dominada-por-casal-de-namorados.jpg - as N:\\\\USP_IMAGES\\\\x_videos_porn\\0fadd2068b.jpg\n\nSUCCESS - saved https://buceta.blog/wp-content/uploads/2019/10/xvideos.jpg - as N:\\\\USP_IMAGES\\\\x_videos_porn\\de6aba148f.jpg\n\nSUCCESS - saved https://encrypted-tbn0.gstatic.com/images?q=tbn%3AANd9GcQP6REm9UpDcWWn5tp5uqDxxSM31U1WxGQJVYj4zt1qRWVZ9Pr3&usqp=CAU - as N:\\\\USP_IMAGES\\\\x_videos_porn\\19aef142b6.jpg\n\nSUCCESS - saved https://files.xvideosamadoras.com/wp-content/uploads/2020/05/x-video-porno.jpg - as N:\\\\USP_IMAGES\\\\x_videos_porn\\5f84c92d52.jpg\n\nSUCCESS - saved https://img-hw.xvideos-cdn.com/videos/thumbslll/ae/2f/29/ae2f29b07bdeed9304714d44f80c5288/ae2f29b07bdeed9304714d44f80c5288.11.jpg - as N:\\\\USP_IMAGES\\\\x_videos_porn\\7221acf3f0.jpg\n\nSUCCESS - saved https://img-hw.xvideos-cdn.com/videos/thumbslll/d0/c3/f6/d0c3f6a5e45855cb014dda6c25fd3e54/d0c3f6a5e45855cb014dda6c25fd3e54.8.jpg - as N:\\\\USP_IMAGES\\\\x_videos_porn\\1a4bf50470.jpg\n\nSUCCESS - saved https://encrypted-tbn0.gstatic.com/images?q=tbn%3AANd9GcRVVV6ea6SHvVk1yyQtZILNoJjYGm7--KEJFBXlMxune4GdK8Cn&usqp=CAU - as N:\\\\USP_IMAGES\\\\x_videos_porn\\94a971bdba.jpg\n\nSUCCESS - saved https://encrypted-tbn0.gstatic.com/images?q=tbn%3AANd9GcRaH1izPMx8ZmYcx62CxZ5yYKrYch0MQcDQUHKHsIej1hGkHn7Q&usqp=CAU - as N:\\\\USP_IMAGES\\\\x_videos_porn\\f3fbe4daef.jpg\n\nSUCCESS - saved https://encrypted-tbn0.gstatic.com/images?q=tbn%3AANd9GcRctnYgzrf0hS3_zKGbwP3nMMckGRwtB1SXyhH_vODAjHPo5Tg3&usqp=CAU - as N:\\\\USP_IMAGES\\\\x_videos_porn\\f3ed723e52.jpg\n\nSUCCESS - saved https://encrypted-tbn0.gstatic.com/images?q=tbn%3AANd9GcSyQXYZd6w0C8FEEnt9mZNDX49aumdmMODt6tF3n0FDPmSmg7YU&usqp=CAU - as N:\\\\USP_IMAGES\\\\x_videos_porn\\c253aa6470.jpg\n\nSUCCESS - saved https://encrypted-tbn0.gstatic.com/images?q=tbn%3AANd9GcSIx2eSMd426AjHZyTGkKrAbudlgmZjffAYlP-udUz8fUdYJ9EJ&usqp=CAU - as N:\\\\USP_IMAGES\\\\x_videos_porn\\0368531ebb.jpg\n\nSUCCESS - saved https://encrypted-tbn0.gstatic.com/images?q=tbn%3AANd9GcRMr5Y0ODoMlcHeqrHJdpxc2jKIoYN7M2nMpfQxMtcgdcoSyvNP&usqp=CAU - as N:\\\\USP_IMAGES\\\\x_videos_porn\\3bf5810957.jpg\n\nSUCCESS - saved https://encrypted-tbn0.gstatic.com/images?q=tbn%3AANd9GcT7AqbrgA2rZqqHcGbA0ncgleNKZgL1NSHr-Xa92zjlvLpdIYfi&usqp=CAU - as N:\\\\USP_IMAGES\\\\x_videos_porn\\23a118c445.jpg\n\nSUCCESS - saved https://www.xvideosincesto.com/wp-content/uploads/2019/07/x-video-por.jpg - as N:\\\\USP_IMAGES\\\\x_videos_porn\\b60f1ed682.jpg\n\nSUCCESS - saved https://encrypted-tbn0.gstatic.com/images?q=tbn%3AANd9GcS4gX-4l37ZYQVbPq59-C6Esq7b9BhvwVsXH_xe9HtXxGVOjKO9&usqp=CAU - as N:\\\\USP_IMAGES\\\\x_videos_porn\\76c8baa48d.jpg\n\nSUCCESS - saved https://encrypted-tbn0.gstatic.com/images?q=tbn%3AANd9GcSIlPtDwXy0m9hxs5Cfyn-hsXIE-i0fno7Gwtkf4l3sjpJfFMdq&usqp=CAU - as N:\\\\USP_IMAGES\\\\x_videos_porn\\0483699e1a.jpg\n\nSUCCESS - saved https://xvideosx.com.br/wp-content/uploads/2020/04/fudendo-xota-e-cu-e-esporando-na-boca-amanda-souza-loupan-producoes.jpg - as N:\\\\USP_IMAGES\\\\x_videos_porn\\59f65cb097.jpg\n\nSUCCESS - saved https://xvideostube.eco.br/wp-content/uploads/2018/07/sexhot-anal-com-negona-rabuda-dando-o-cuzao-delicioso-212x140.jpg - as N:\\\\USP_IMAGES\\\\x_videos_porn\\f29a6c1b12.jpg\n\nSUCCESS - saved https://www.xvideoporno.net/wp-content/uploads/2019/09/x-videos-porno-gratis-310x190.jpg - as N:\\\\USP_IMAGES\\\\x_videos_porn\\cc42227e6b.jpg\n\nSUCCESS - saved https://cdn77-pic.xvideos-cdn.com/videos/thumbslll/4b/0e/40/4b0e40a73567fb777b62a22b61880c6b/4b0e40a73567fb777b62a22b61880c6b.10.jpg - as N:\\\\USP_IMAGES\\\\x_videos_porn\\25ad92f755.jpg\n\nSUCCESS - saved https://encrypted-tbn0.gstatic.com/images?q=tbn%3AANd9GcQWhIdpxksmd22bpnH7_46ZSYXLZgK3LlD8M0Vpz71Ab0zRMI8Y&usqp=CAU - as N:\\\\USP_IMAGES\\\\x_videos_porn\\d23f439461.jpg\n\nSUCCESS - saved https://encrypted-tbn0.gstatic.com/images?q=tbn%3AANd9GcRDNfgsYsZpCbcg_azo6FeUG67MnpB_nHPL4Ta9Zr7bhtMnery1&usqp=CAU - as N:\\\\USP_IMAGES\\\\x_videos_porn\\27b409df06.jpg\n\nSUCCESS - saved https://www.xvideosnovinha.com/wp-content/uploads/2018/03/Lesbicas-transando-em-video-do-x-videos-porno-300x225.jpg - as N:\\\\USP_IMAGES\\\\x_videos_porn\\4f3d0fa713.jpg\n\nSUCCESS - saved https://www.xvideos-tv.com/wp-content/uploads/2019/09/x-videos-porn-cavalgando-ou-de-quatro-na-biblioteca.jpg - as N:\\\\USP_IMAGES\\\\x_videos_porn\\88937c2ce7.jpg\n\n\nTEMPO TOTAL DE EXECUÇÃO:  0:02:57.984930\n"
    }
   ],
   "source": [
    "\n",
    "search_and_download(\n",
    "    search_term=SEARCH_TERM,\n",
    "    driver_path=DRIVER_PATH,\n",
    "    target_path=TARGET_PATH,\n",
    "    number_images=NUMBER_IMAGES\n",
    ")\n",
    "\n",
    "end = datetime.now()\n",
    "print('\\n\\nTEMPO TOTAL DE EXECUÇÃO: ', (end-start))"
   ]
  }
 ],
 "metadata": {
  "language_info": {
   "name": "python",
   "codemirror_mode": {
    "name": "ipython",
    "version": 3
   },
   "version": "3.7.7-final"
  },
  "orig_nbformat": 2,
  "file_extension": ".py",
  "mimetype": "text/x-python",
  "name": "python",
  "npconvert_exporter": "python",
  "pygments_lexer": "ipython3",
  "version": 3,
  "kernelspec": {
   "name": "python3",
   "display_name": "Python 3"
  }
 },
 "nbformat": 4,
 "nbformat_minor": 2
}