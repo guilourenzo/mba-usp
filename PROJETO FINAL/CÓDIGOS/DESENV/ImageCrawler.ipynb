{
 "nbformat": 4,
 "nbformat_minor": 2,
 "metadata": {
  "language_info": {
   "name": "python",
   "codemirror_mode": {
    "name": "ipython",
    "version": 3
   },
   "version": "3.7.6-final"
  },
  "orig_nbformat": 2,
  "file_extension": ".py",
  "mimetype": "text/x-python",
  "name": "python",
  "npconvert_exporter": "python",
  "pygments_lexer": "ipython3",
  "version": 3,
  "kernelspec": {
   "name": "python3",
   "display_name": "Python 3"
  }
 },
 "cells": [
  {
   "cell_type": "markdown",
   "metadata": {},
   "source": [
    "## 1. PACOTES UTILIZADOS"
   ]
  },
  {
   "cell_type": "code",
   "execution_count": 1,
   "metadata": {},
   "outputs": [],
   "source": [
    "from datetime import datetime\n",
    "start = datetime.now()\n",
    "\n",
    "from selenium import webdriver\n",
    "from PIL import Image\n",
    "import time\n",
    "import io\n",
    "import hashlib\n",
    "import requests\n",
    ""
   ]
  },
  {
   "cell_type": "markdown",
   "metadata": {},
   "source": [
    "## 2. DEFINIÇÃO DAS VARIAVEIS<br>\n",
    "\n",
    "**DRIVER_PATH**: NOME/CAMINHO DO ARQUIVO EXE CORRESPONDENTE AO BROWSER A SER UTILIZADO (FIREFOX: firefoxdriver | CHROME: chromedriver)<br>\n",
    "**SEARCH_TERM**: TERMO A SER PESQUISADO NO GOOGLE<br>\n",
    "**NUMBER_IMAGES**: QUANTIDADE DE IMAGENS A SEREM BAIXADAS<br>\n",
    "**TARGET_PATH**: LOCAL A SER SALVO AS IMAGENS BAIXADAS<br>"
   ]
  },
  {
   "cell_type": "code",
   "execution_count": 2,
   "metadata": {},
   "outputs": [],
   "source": [
    "# DRIVER_PATH = r'C:\\\\Users\\\\guilo\\\\OneDrive\\\\MBA - USP\\\\PROJETO FINAL\\\\phantom\\\\bin\\\\phantomjs.exe'\n",
    "DRIVER_PATH = 'firefoxdriver.exe'\n",
    "SEARCH_TERM = 'x videos porn'\n",
    "NUMBER_IMAGES = int(100)\n",
    "TARGET_PATH = r'\\\\10.0.0.10\\\\USP_IMAGES\\\\'"
   ]
  },
  {
   "cell_type": "markdown",
   "metadata": {},
   "source": [
    "## 3. FUNÇÕES DE PESQUISA E DOWNLOAD DAS IMAGENS"
   ]
  },
  {
   "cell_type": "code",
   "execution_count": 3,
   "metadata": {},
   "outputs": [],
   "source": [
    "def search_and_download(search_term:str,driver_path:str,target_path:str,number_images:int):\n",
    "    target_folder = os.path.join(target_path,'_'.join(search_term.lower().split(' ')))\n",
    "\n",
    "    if not os.path.exists(target_folder):\n",
    "        os.makedirs(target_folder)\n",
    "    \n",
    "    options = webdriver.FirefoxOptions()\n",
    "    options.add_argument('-headless')\n",
    "    \n",
    "    # with webdriver.Firefox(executable_path=driver_path) as wd:\n",
    "    with webdriver.Firefox(executable_path=driver_path, firefox_options=options) as wd:\n",
    "        res = fetch_image_urls(search_term, number_images, wd=wd, sleep_between_interactions=0.5)\n",
    "        \n",
    "    for elem in res:\n",
    "        persist_image(target_folder,elem)"
   ]
  },
  {
   "cell_type": "code",
   "execution_count": 4,
   "metadata": {},
   "outputs": [],
   "source": [
    "def fetch_image_urls(query:str, max_links_to_fetch:int, wd:webdriver, sleep_between_interactions:int=1):\n",
    "    def scroll_to_end(wd):\n",
    "        wd.execute_script(\"window.scrollTo(0, document.body.scrollHeight);\")\n",
    "        time.sleep(sleep_between_interactions)    \n",
    "    \n",
    "    # build the google query\n",
    "    search_url = \"https://www.google.com/search?safe=off&site=&tbm=isch&source=hp&q={q}&oq={q}&gs_l=img\"\n",
    "\n",
    "    # load the page\n",
    "    wd.get(search_url.format(q=query))\n",
    "\n",
    "    image_urls = set()\n",
    "    image_count = 0\n",
    "    results_start = 0\n",
    "    while image_count < max_links_to_fetch:\n",
    "        scroll_to_end(wd)\n",
    "\n",
    "        # get all image thumbnail results\n",
    "        thumbnail_results = wd.find_elements_by_css_selector(\"img.Q4LuWd\")\n",
    "        number_results = len(thumbnail_results)\n",
    "        \n",
    "        print(f\"Found: {number_results} search results. Extracting links from {results_start}:{number_results}\")\n",
    "        \n",
    "        for img in thumbnail_results[results_start:number_results]:\n",
    "            # try to click every thumbnail such that we can get the real image behind it\n",
    "            try:\n",
    "                img.click()\n",
    "                time.sleep(sleep_between_interactions)\n",
    "            except Exception:\n",
    "                continue\n",
    "\n",
    "            # extract image urls    \n",
    "            actual_images = wd.find_elements_by_css_selector('img.n3VNCb')\n",
    "            for actual_image in actual_images:\n",
    "                if actual_image.get_attribute('src') and 'http' in actual_image.get_attribute('src'):\n",
    "                    image_urls.add(actual_image.get_attribute('src'))\n",
    "\n",
    "            image_count = len(image_urls)\n",
    "\n",
    "            if len(image_urls) >= max_links_to_fetch:\n",
    "                print(f\"\\nFound: {len(image_urls)} image links, done!\")\n",
    "                break\n",
    "        else:\n",
    "            print(\"\\nFound:\", len(image_urls), \"image links, looking for more ...\")\n",
    "            time.sleep(30)\n",
    "            return\n",
    "            load_more_button = wd.find_element_by_css_selector(\".mye4qd\")\n",
    "            if load_more_button:\n",
    "                wd.execute_script(\"document.querySelector('.mye4qd').click();\")\n",
    "\n",
    "        # move the result startpoint further down\n",
    "        results_start = len(thumbnail_results)\n",
    "\n",
    "    return image_urls"
   ]
  },
  {
   "cell_type": "code",
   "execution_count": 5,
   "metadata": {},
   "outputs": [],
   "source": [
    "def persist_image(folder_path:str,url:str):\n",
    "    try:\n",
    "        image_content = requests.get(url).content\n",
    "\n",
    "    except Exception as e:\n",
    "        print(f\"\\nERROR - Could not download {url} - {e}\")\n",
    "\n",
    "    try:\n",
    "        image_file = io.BytesIO(image_content)\n",
    "        image = Image.open(image_file).convert('RGB')\n",
    "        file_path = os.path.join(folder_path,hashlib.sha1(image_content).hexdigest()[:10] + '.jpg')\n",
    "        with open(file_path, 'wb') as f:\n",
    "            image.save(f, \"JPEG\", quality=85)\n",
    "        print(f\"\\nSUCCESS - saved {url} - as {file_path}\")\n",
    "    except Exception as e:\n",
    "        print(f\"\\nERROR - Could not save {url} - {e}\")"
   ]
  },
  {
   "cell_type": "markdown",
   "metadata": {},
   "source": [
    "## 4. INÍCIO DA CHAMADA"
   ]
  },
  {
   "cell_type": "code",
   "execution_count": 7,
   "metadata": {},
   "outputs": [
    {
     "output_type": "stream",
     "name": "stdout",
     "text": "Found: 200 search results. Extracting links from 0:200\n\nFound: 101 image links, done!\n\nSUCCESS - saved https://img-l3.xvideos-cdn.com/videos/thumbs169ll/0b/f1/19/0bf1191caff5fb39d2b9a6301cb6891f/0bf1191caff5fb39d2b9a6301cb6891f.27.jpg - as \\\\10.0.0.10\\\\USP_IMAGES\\\\x_videos_porn\\435bcb9f2a.jpg\n\nSUCCESS - saved https://img-l3.xvideos-cdn.com/videos/thumbslll/84/6b/18/846b183e371dc65e485b55c6a89272c4/846b183e371dc65e485b55c6a89272c4.15.jpg - as \\\\10.0.0.10\\\\USP_IMAGES\\\\x_videos_porn\\f6fc1ba012.jpg\n\nSUCCESS - saved https://files.xvideosamadoras.com/wp-content/uploads/2019/09/v%C3%ADdeo-porn%C3%B4-x-videos-morena-dando-a-buceta-muito-gotosa-para-esse-neg%C3%A3o-roludo.jpg - as \\\\10.0.0.10\\\\USP_IMAGES\\\\x_videos_porn\\5e6065f2d0.jpg\n\nSUCCESS - saved https://encrypted-tbn0.gstatic.com/images?q=tbn%3AANd9GcTvrK1GRFRm684NJPBy8ghioL_S3dM21VSAv6shxG9H4Sezlh8i&usqp=CAU - as \\\\10.0.0.10\\\\USP_IMAGES\\\\x_videos_porn\\bb42618da6.jpg\n\nSUCCESS - saved https://encrypted-tbn0.gstatic.com/images?q=tbn%3AANd9GcS-2Du3RL69htpWb3GcWTtSUnNpKhNoIkKJnIlGE7jZW0SMZFT9&usqp=CAU - as \\\\10.0.0.10\\\\USP_IMAGES\\\\x_videos_porn\\b6d74de7d1.jpg\n\nSUCCESS - saved https://img-l3.xvideos-cdn.com/videos/thumbslll/e6/c7/32/e6c7323e6172346d69ea51a94c83f407/e6c7323e6172346d69ea51a94c83f407.19.jpg - as \\\\10.0.0.10\\\\USP_IMAGES\\\\x_videos_porn\\867b778da3.jpg\n\nSUCCESS - saved https://www.xvideoporno.net/wp-content/uploads/2019/01/xvideos-300x220.jpg - as \\\\10.0.0.10\\\\USP_IMAGES\\\\x_videos_porn\\a82abdd462.jpg\n\nSUCCESS - saved https://encrypted-tbn0.gstatic.com/images?q=tbn%3AANd9GcSw3lQcNQ60YFDj9zh4MLbb7aD2gPz1XUvXF22a-0u1kCx-z6hT&usqp=CAU - as \\\\10.0.0.10\\\\USP_IMAGES\\\\x_videos_porn\\67d6cae4ba.jpg\n\nSUCCESS - saved https://www.videosdesexo.mobi/media/videos/10000/1000/x-videos-porno-brasil.jpg - as \\\\10.0.0.10\\\\USP_IMAGES\\\\x_videos_porn\\7905b6f5a4.jpg\n\nSUCCESS - saved https://encrypted-tbn0.gstatic.com/images?q=tbn%3AANd9GcToHM0gA6HDYSRxbXtgcNfomWqAV_RZgejjNRkBqh3F5JfZ-qrh&usqp=CAU - as \\\\10.0.0.10\\\\USP_IMAGES\\\\x_videos_porn\\2c7cd7fb14.jpg\n\nSUCCESS - saved https://img-l3.xvideos-cdn.com/videos/thumbslll/4b/0e/40/4b0e40a73567fb777b62a22b61880c6b/4b0e40a73567fb777b62a22b61880c6b.10.jpg - as \\\\10.0.0.10\\\\USP_IMAGES\\\\x_videos_porn\\25ad92f755.jpg\n\nSUCCESS - saved https://encrypted-tbn0.gstatic.com/images?q=tbn%3AANd9GcSIx2eSMd426AjHZyTGkKrAbudlgmZjffAYlP-udUz8fUdYJ9EJ&usqp=CAU - as \\\\10.0.0.10\\\\USP_IMAGES\\\\x_videos_porn\\0368531ebb.jpg\n\nSUCCESS - saved https://arquivos.xvideoscaseiras.com/wp-content/uploads/2018/12/Onzebiu-video-porno-fodendo-gostosa.jpg - as \\\\10.0.0.10\\\\USP_IMAGES\\\\x_videos_porn\\4ab3c81483.jpg\n\nSUCCESS - saved https://encrypted-tbn0.gstatic.com/images?q=tbn%3AANd9GcRT2-9xqfYBTJW9O4yOmKzv8mHvT-wGp6xcms3agojcQQ8Cb0gd&usqp=CAU - as \\\\10.0.0.10\\\\USP_IMAGES\\\\x_videos_porn\\2749f692eb.jpg\n\nSUCCESS - saved https://www.novinhagostosa10.com/wp-content/uploads/2018/12/X-videos-porno-ninfeta-brasileira-cuzuda-metendo-f%C3%A1cil6345.jpg - as \\\\10.0.0.10\\\\USP_IMAGES\\\\x_videos_porn\\01953e3a0c.jpg\n\nSUCCESS - saved https://encrypted-tbn0.gstatic.com/images?q=tbn%3AANd9GcRKX2-btidVIcsNiMClZzxzlZJGfGqKt1tkrbSeShSu7CbputIE&usqp=CAU - as \\\\10.0.0.10\\\\USP_IMAGES\\\\x_videos_porn\\1306cdfe61.jpg\n\nSUCCESS - saved https://encrypted-tbn0.gstatic.com/images?q=tbn%3AANd9GcTsgxmz-x5nolXijo4Q1sPpevk6Ub2qLMHna7xY1m9ToZTybmGJ&usqp=CAU - as \\\\10.0.0.10\\\\USP_IMAGES\\\\x_videos_porn\\88fd8b8024.jpg\n\nSUCCESS - saved https://img-l3.xvideos-cdn.com/videos/thumbslll/8f/c1/24/8fc124ee924945137ccaa9b8a03b2c97/8fc124ee924945137ccaa9b8a03b2c97.22.jpg - as \\\\10.0.0.10\\\\USP_IMAGES\\\\x_videos_porn\\faffe8b023.jpg\n\nSUCCESS - saved https://img.xvideo.vlog.br/2019/02/x-videos-bom-demais-da-conta-com-uma-morena-que-e-uma-maquina-de-tao-gostosa-dando-para-um-negro.jpg - as \\\\10.0.0.10\\\\USP_IMAGES\\\\x_videos_porn\\e2491b3a37.jpg\n\nSUCCESS - saved https://encrypted-tbn0.gstatic.com/images?q=tbn%3AANd9GcSBlWwkpJQUXigEnmpzTi4IDc5u1fdKq5fiA8LrarPVaj8TJpZn&usqp=CAU - as \\\\10.0.0.10\\\\USP_IMAGES\\\\x_videos_porn\\83c9059680.jpg\n\nSUCCESS - saved https://img.xvideospornor.com/2020/04/sexo-flagra-mulata-safada-trepando-no-carro-em-movimento.jpg - as \\\\10.0.0.10\\\\USP_IMAGES\\\\x_videos_porn\\33937055cd.jpg\n\nSUCCESS - saved https://encrypted-tbn0.gstatic.com/images?q=tbn%3AANd9GcS8mBWCVxkwx53x8cnmjpPN4mwt33ZwIz8nyAbTgTZSYEU8G272&usqp=CAU - as \\\\10.0.0.10\\\\USP_IMAGES\\\\x_videos_porn\\2e8cafb803.jpg\n\nSUCCESS - saved https://encrypted-tbn0.gstatic.com/images?q=tbn%3AANd9GcTGpY7n5tZ4UPhNU8_zDGgolIUzbm6k_ctDBXAXeklw8RzzcL2f&usqp=CAU - as \\\\10.0.0.10\\\\USP_IMAGES\\\\x_videos_porn\\d7568129c1.jpg\n\nSUCCESS - saved https://img.xvideosporno.blog.br/wp-content/uploads/videopt7249934-400x300.jpg - as \\\\10.0.0.10\\\\USP_IMAGES\\\\x_videos_porn\\c9ee0be82d.jpg\n\nSUCCESS - saved https://xvideos10.blog.br/wp-content/uploads/2019/08/foda-gostosa-com-morena-safada-dando-buceta-linda.jpg - as \\\\10.0.0.10\\\\USP_IMAGES\\\\x_videos_porn\\12633d7c82.jpg\n\nSUCCESS - saved https://www.videosdesexo.mobi/media/videos/10000/1000/x-videos-gay-banheiro.jpg - as \\\\10.0.0.10\\\\USP_IMAGES\\\\x_videos_porn\\e93368f26e.jpg\n\nSUCCESS - saved https://encrypted-tbn0.gstatic.com/images?q=tbn%3AANd9GcSagVV7WOpZFKAYrp3BGL3ae_YTxnxz2RX82SoxNUrmuMqm1nwD&usqp=CAU - as \\\\10.0.0.10\\\\USP_IMAGES\\\\x_videos_porn\\254e093718.jpg\n\nSUCCESS - saved https://encrypted-tbn0.gstatic.com/images?q=tbn%3AANd9GcSxnKu9CofnbsWslz3fhRXrXw0KtlJ-8MevwCUTPNPw0gDX-Z4D&usqp=CAU - as \\\\10.0.0.10\\\\USP_IMAGES\\\\x_videos_porn\\a18fbead51.jpg\n\nSUCCESS - saved https://i1.wp.com/mulherpelada19.com/wp-content/uploads/2020/02/X-videos-Brasileiro-de-novinha-amadora.jpg?ssl=1 - as \\\\10.0.0.10\\\\USP_IMAGES\\\\x_videos_porn\\afbb871fb3.jpg\n\nSUCCESS - saved https://encrypted-tbn0.gstatic.com/images?q=tbn%3AANd9GcS2rt3YbGIsTkD2ATAh3FQvBE2i07OTBvnuFeBzlTMF1RN58Bgf&usqp=CAU - as \\\\10.0.0.10\\\\USP_IMAGES\\\\x_videos_porn\\d9e2891cc6.jpg\n\nERROR - Could not save https://www.xvideosnovinha.com.br/wp-content/uploads/2019/07/novinhas-porno-3-gostosas-fazendo-sexo-amador-x-videos-216x180.jpg - cannot identify image file <_io.BytesIO object at 0x000001DF2D21C0A8>\n\nSUCCESS - saved https://encrypted-tbn0.gstatic.com/images?q=tbn%3AANd9GcSAytP2IeECCg9LBvuPVsf6KTwdroC2wBvuWEChTmvAksudCH4T&usqp=CAU - as \\\\10.0.0.10\\\\USP_IMAGES\\\\x_videos_porn\\c5c2520f5f.jpg\n\nSUCCESS - saved https://img-l3.xvideos-cdn.com/videos/thumbslll/48/b1/50/48b150733ad21baa2c0157742874292c/48b150733ad21baa2c0157742874292c.17.jpg - as \\\\10.0.0.10\\\\USP_IMAGES\\\\x_videos_porn\\5589893c85.jpg\n\nSUCCESS - saved https://encrypted-tbn0.gstatic.com/images?q=tbn%3AANd9GcSR0ZrRzCML1iKAg1T7c-Pt1B2TMjxKeG8sbEe9wMu-zPVPMg3q&usqp=CAU - as \\\\10.0.0.10\\\\USP_IMAGES\\\\x_videos_porn\\70fe1106d9.jpg\n\nSUCCESS - saved https://img-l3.xvideos-cdn.com/videos/thumbs169ll/53/68/97/5368975a3d939f93e5a66287494f8573/5368975a3d939f93e5a66287494f8573.26.jpg - as \\\\10.0.0.10\\\\USP_IMAGES\\\\x_videos_porn\\535924032a.jpg\n\nSUCCESS - saved https://encrypted-tbn0.gstatic.com/images?q=tbn%3AANd9GcT2PVcCu5mllz7_Thg00d0exi0pGCaTzubrJwe5BPd4d3jWGz3c&usqp=CAU - as \\\\10.0.0.10\\\\USP_IMAGES\\\\x_videos_porn\\43af9c5ec8.jpg\n\nSUCCESS - saved https://www.xvideos-xxx.com/wp-content/uploads/2018/06/580662-x-video-porno-com-safada.jpg - as \\\\10.0.0.10\\\\USP_IMAGES\\\\x_videos_porn\\3933116de1.jpg\n\nSUCCESS - saved https://encrypted-tbn0.gstatic.com/images?q=tbn%3AANd9GcRpnvG2Nk1VybqTx0rsbVOgIZ2dEn7bfi8SuAJGwY5IwMHag0p6&usqp=CAU - as \\\\10.0.0.10\\\\USP_IMAGES\\\\x_videos_porn\\22276f1197.jpg\n\nSUCCESS - saved https://encrypted-tbn0.gstatic.com/images?q=tbn%3AANd9GcTDGB1plUV3D4Xl9Au2F6CWYAx_JzUKFUpqcthkIS8oYjWNv2me&usqp=CAU - as \\\\10.0.0.10\\\\USP_IMAGES\\\\x_videos_porn\\859d610bec.jpg\n\nSUCCESS - saved https://encrypted-tbn0.gstatic.com/images?q=tbn%3AANd9GcS8Gmv1xTguztKewT9BY72C8BadY8GtVGVkeEBIZMQS2rxoMUk3&usqp=CAU - as \\\\10.0.0.10\\\\USP_IMAGES\\\\x_videos_porn\\d46260471b.jpg\n\nSUCCESS - saved https://encrypted-tbn0.gstatic.com/images?q=tbn%3AANd9GcSlUsa5v4YgsND9MFb1B87dl92VhGLD4gVDbtp2IRiUwMxM0pr0&usqp=CAU - as \\\\10.0.0.10\\\\USP_IMAGES\\\\x_videos_porn\\77e20b0106.jpg\n\nSUCCESS - saved https://files.xvideosamadoras.com/wp-content/uploads/2020/03/Erica-Vieira-safadona-em-video-porno-fodendo.jpg - as \\\\10.0.0.10\\\\USP_IMAGES\\\\x_videos_porn\\5421928d3d.jpg\n\nSUCCESS - saved https://encrypted-tbn0.gstatic.com/images?q=tbn%3AANd9GcS4gX-4l37ZYQVbPq59-C6Esq7b9BhvwVsXH_xe9HtXxGVOjKO9&usqp=CAU - as \\\\10.0.0.10\\\\USP_IMAGES\\\\x_videos_porn\\76c8baa48d.jpg\n\nSUCCESS - saved https://encrypted-tbn0.gstatic.com/images?q=tbn%3AANd9GcT9qb2qxzODaYr6eYlApuPS8hkdp5ST6Yg88td_5acQ-2Ygl-hR&usqp=CAU - as \\\\10.0.0.10\\\\USP_IMAGES\\\\x_videos_porn\\a505acada9.jpg\n\nSUCCESS - saved https://files.xvideosamadoras.com/wp-content/uploads/2019/09/V%C3%ADdeo-x-v%C3%ADdeo-porn%C3%B4-morena-gostosa-dando-pro-neg%C3%A3o-dotado.jpg - as \\\\10.0.0.10\\\\USP_IMAGES\\\\x_videos_porn\\5e22fbab10.jpg\n\nSUCCESS - saved https://img-l3.xvideos-cdn.com/videos/thumbslll/d0/c3/f6/d0c3f6a5e45855cb014dda6c25fd3e54/d0c3f6a5e45855cb014dda6c25fd3e54.8.jpg - as \\\\10.0.0.10\\\\USP_IMAGES\\\\x_videos_porn\\1a4bf50470.jpg\n\nSUCCESS - saved https://img.xvideosporno.blog.br/wp-content/uploads/video1773254-400x300.jpg - as \\\\10.0.0.10\\\\USP_IMAGES\\\\x_videos_porn\\2581fd36df.jpg\n\nSUCCESS - saved https://www.xvideos-xxx.com/wp-content/uploads/2018/07/555976-brasileirinhas-fazendo-suruba-em-videoporno-grupal.jpg - as \\\\10.0.0.10\\\\USP_IMAGES\\\\x_videos_porn\\e81fff3791.jpg\n\nSUCCESS - saved https://i2.wp.com/www.testosterona.blog.br/wp-content/uploads/2019/09/x-video.jpg?ssl=1 - as \\\\10.0.0.10\\\\USP_IMAGES\\\\x_videos_porn\\cce26c7c11.jpg\n\nSUCCESS - saved https://encrypted-tbn0.gstatic.com/images?q=tbn%3AANd9GcQUvVONrdcxRGe215AWGs8XANwsAHVfBSX3ySqPa4I64yejZu-u&usqp=CAU - as \\\\10.0.0.10\\\\USP_IMAGES\\\\x_videos_porn\\15f958eef9.jpg\n\nSUCCESS - saved https://encrypted-tbn0.gstatic.com/images?q=tbn%3AANd9GcSjLrls_hW2OcWVJN5Mtg8AMWSP-p1S0Vx4jh04c_NVz9yIchm5&usqp=CAU - as \\\\10.0.0.10\\\\USP_IMAGES\\\\x_videos_porn\\2eb278de03.jpg\n\nSUCCESS - saved https://encrypted-tbn0.gstatic.com/images?q=tbn%3AANd9GcSfETQkzKQ-1QY5NY8L5DpKR_GiOQpCVFWZwmwM5vQwjrvFWYoW&usqp=CAU - as \\\\10.0.0.10\\\\USP_IMAGES\\\\x_videos_porn\\699336d820.jpg\n"
    }
   ],
   "source": [
    "\n",
    "search_and_download(\n",
    "    search_term=SEARCH_TERM,\n",
    "    driver_path=DRIVER_PATH,\n",
    "    target_path=TARGET_PATH,\n",
    "    number_images=NUMBER_IMAGES\n",
    ")\n",
    "\n",
    "end = datetime.now()\n",
    "print('\\n\\nTEMPO TOTAL DE EXECUÇÃO: ', (end-start))"
   ]
  }
 ]
}