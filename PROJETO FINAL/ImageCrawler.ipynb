{
 "nbformat": 4,
 "nbformat_minor": 2,
 "metadata": {
  "language_info": {
   "name": "python",
   "codemirror_mode": {
    "name": "ipython",
    "version": 3
   },
   "version": "3.7.6-final"
  },
  "orig_nbformat": 2,
  "file_extension": ".py",
  "mimetype": "text/x-python",
  "name": "python",
  "npconvert_exporter": "python",
  "pygments_lexer": "ipython3",
  "version": 3,
  "kernelspec": {
   "name": "python3",
   "display_name": "Python 3"
  }
 },
 "cells": [
  {
   "cell_type": "markdown",
   "metadata": {},
   "source": [
    "## 1. PACOTES UTILIZADOS"
   ]
  },
  {
   "cell_type": "code",
   "execution_count": 1,
   "metadata": {},
   "outputs": [],
   "source": [
    "from datetime import datetime\n",
    "start = datetime.now()\n",
    "\n",
    "from selenium import webdriver\n",
    "from PIL import Image\n",
    "import time\n",
    "import io\n",
    "import hashlib\n",
    "import requests\n",
    ""
   ]
  },
  {
   "cell_type": "markdown",
   "metadata": {},
   "source": [
    "## 2. DEFINIÇÃO DAS VARIAVEIS<br>\n",
    "\n",
    "**DRIVER_PATH**: NOME/CAMINHO DO ARQUIVO EXE CORRESPONDENTE AO BROWSER A SER UTILIZADO (FIREFOX: firefoxdriver | CHROME: chromedriver)<br>\n",
    "**SEARCH_TERM**: TERMO A SER PESQUISADO NO GOOGLE<br>\n",
    "**NUMBER_IMAGES**: QUANTIDADE DE IMAGENS A SEREM BAIXADAS<br>\n",
    "**TARGET_PATH**: LOCAL A SER SALVO AS IMAGENS BAIXADAS<br>"
   ]
  },
  {
   "cell_type": "code",
   "execution_count": 7,
   "metadata": {},
   "outputs": [],
   "source": [
    "DRIVER_PATH = 'firefoxdriver.exe'\n",
    "SEARCH_TERM = 'DRUGS'\n",
    "NUMBER_IMAGES = 10\n",
    "TARGET_PATH = r'D:\\\\Imagens\\\\PROJETO FINAL TESTE\\\\'"
   ]
  },
  {
   "cell_type": "markdown",
   "metadata": {},
   "source": [
    "## 3. FUNÇÕES DE PESQUISA E DOWNLOAD DAS IMAGENS"
   ]
  },
  {
   "cell_type": "code",
   "execution_count": 3,
   "metadata": {},
   "outputs": [],
   "source": [
    "def search_and_download(search_term:str,driver_path:str,target_path:str,number_images=5):\n",
    "    target_folder = os.path.join(target_path,'_'.join(search_term.lower().split(' ')))\n",
    "\n",
    "    if not os.path.exists(target_folder):\n",
    "        os.makedirs(target_folder)\n",
    "\n",
    "    with webdriver.Firefox(executable_path=driver_path) as wd:\n",
    "        res = fetch_image_urls(search_term, number_images, wd=wd, sleep_between_interactions=0.5)\n",
    "        \n",
    "    for elem in res:\n",
    "        persist_image(target_folder,elem)"
   ]
  },
  {
   "cell_type": "code",
   "execution_count": 4,
   "metadata": {},
   "outputs": [],
   "source": [
    "def fetch_image_urls(query:str, max_links_to_fetch:int, wd:webdriver, sleep_between_interactions:int=1):\n",
    "    def scroll_to_end(wd):\n",
    "        wd.execute_script(\"window.scrollTo(0, document.body.scrollHeight);\")\n",
    "        time.sleep(sleep_between_interactions)    \n",
    "    \n",
    "    # build the google query\n",
    "    search_url = \"https://www.google.com/search?safe=off&site=&tbm=isch&source=hp&q={q}&oq={q}&gs_l=img\"\n",
    "\n",
    "    # load the page\n",
    "    wd.get(search_url.format(q=query))\n",
    "\n",
    "    image_urls = set()\n",
    "    image_count = 0\n",
    "    results_start = 0\n",
    "    while image_count < max_links_to_fetch:\n",
    "        scroll_to_end(wd)\n",
    "\n",
    "        # get all image thumbnail results\n",
    "        thumbnail_results = wd.find_elements_by_css_selector(\"img.Q4LuWd\")\n",
    "        number_results = len(thumbnail_results)\n",
    "        \n",
    "        print(f\"Found: {number_results} search results. Extracting links from {results_start}:{number_results}\")\n",
    "        \n",
    "        for img in thumbnail_results[results_start:number_results]:\n",
    "            # try to click every thumbnail such that we can get the real image behind it\n",
    "            try:\n",
    "                img.click()\n",
    "                time.sleep(sleep_between_interactions)\n",
    "            except Exception:\n",
    "                continue\n",
    "\n",
    "            # extract image urls    \n",
    "            actual_images = wd.find_elements_by_css_selector('img.n3VNCb')\n",
    "            for actual_image in actual_images:\n",
    "                if actual_image.get_attribute('src') and 'http' in actual_image.get_attribute('src'):\n",
    "                    image_urls.add(actual_image.get_attribute('src'))\n",
    "\n",
    "            image_count = len(image_urls)\n",
    "\n",
    "            if len(image_urls) >= max_links_to_fetch:\n",
    "                print(f\"\\nFound: {len(image_urls)} image links, done!\")\n",
    "                break\n",
    "        else:\n",
    "            print(\"\\nFound:\", len(image_urls), \"image links, looking for more ...\")\n",
    "            time.sleep(30)\n",
    "            return\n",
    "            load_more_button = wd.find_element_by_css_selector(\".mye4qd\")\n",
    "            if load_more_button:\n",
    "                wd.execute_script(\"document.querySelector('.mye4qd').click();\")\n",
    "\n",
    "        # move the result startpoint further down\n",
    "        results_start = len(thumbnail_results)\n",
    "\n",
    "    return image_urls"
   ]
  },
  {
   "cell_type": "code",
   "execution_count": 5,
   "metadata": {},
   "outputs": [],
   "source": [
    "def persist_image(folder_path:str,url:str):\n",
    "    try:\n",
    "        image_content = requests.get(url).content\n",
    "\n",
    "    except Exception as e:\n",
    "        print(f\"\\nERROR - Could not download {url} - {e}\")\n",
    "\n",
    "    try:\n",
    "        image_file = io.BytesIO(image_content)\n",
    "        image = Image.open(image_file).convert('RGB')\n",
    "        file_path = os.path.join(folder_path,hashlib.sha1(image_content).hexdigest()[:10] + '.jpg')\n",
    "        with open(file_path, 'wb') as f:\n",
    "            image.save(f, \"JPEG\", quality=85)\n",
    "        print(f\"\\nSUCCESS - saved {url} - as {file_path}\")\n",
    "    except Exception as e:\n",
    "        print(f\"\\nERROR - Could not save {url} - {e}\")"
   ]
  },
  {
   "cell_type": "markdown",
   "metadata": {},
   "source": [
    "## 4. INÍCIO DA CHAMADA"
   ]
  },
  {
   "cell_type": "code",
   "execution_count": 8,
   "metadata": {},
   "outputs": [
    {
     "output_type": "stream",
     "name": "stdout",
     "text": "Found: 200 search results. Extracting links from 0:200\n\nFound: 100 image links, done!\n\nSUCCESS - saved https://encrypted-tbn0.gstatic.com/images?q=tbn%3AANd9GcTa8xPbIsK-QNn26_dU5KQ4YCBfqn0WGLnC7SmEfbhiM2TBQbDK&usqp=CAU - as D:\\\\Imagens\\\\PROJETO FINAL TESTE\\\\drugs\\c5e40fa9d3.jpg\n\nSUCCESS - saved https://encrypted-tbn0.gstatic.com/images?q=tbn%3AANd9GcSO4Wh-_YMY4H8juDzWmkWDnSST3DcQLDnpYurMs0zWlalwuQPx&usqp=CAU - as D:\\\\Imagens\\\\PROJETO FINAL TESTE\\\\drugs\\cf489798bc.jpg\n\nSUCCESS - saved https://d.newsweek.com/en/full/1537022/illegal-drugs.jpg - as D:\\\\Imagens\\\\PROJETO FINAL TESTE\\\\drugs\\9f2b773ab0.jpg\n\nSUCCESS - saved https://images.unsplash.com/photo-1471864190281-a93a3070b6de?ixlib=rb-1.2.1&ixid=eyJhcHBfaWQiOjEyMDd9&w=1000&q=80 - as D:\\\\Imagens\\\\PROJETO FINAL TESTE\\\\drugs\\93224641e7.jpg\n\nSUCCESS - saved https://encrypted-tbn0.gstatic.com/images?q=tbn%3AANd9GcRLLMRjpSj77uMm9KQMzCI4F-VDdq2ouszfCs0_At_5YYfRkZCX&usqp=CAU - as D:\\\\Imagens\\\\PROJETO FINAL TESTE\\\\drugs\\9b4308e932.jpg\n\nSUCCESS - saved https://encrypted-tbn0.gstatic.com/images?q=tbn%3AANd9GcTFwxR30LTRoTNRC9gUfi_cOENN6oYY2dpx-HcLY9sQeIjwdLG4&usqp=CAU - as D:\\\\Imagens\\\\PROJETO FINAL TESTE\\\\drugs\\7bbb9f37bd.jpg\n\nSUCCESS - saved https://i0.wp.com/images-prod.healthline.com/hlcmsresource/images/News/051717_testingdrugs_THUMB_LARGE.jpg?w=1155 - as D:\\\\Imagens\\\\PROJETO FINAL TESTE\\\\drugs\\f9eeb9f30c.jpg\n\nSUCCESS - saved https://ichef.bbci.co.uk/news/1024/cpsprodpb/18F7/production/_106919360_drugs.jpg - as D:\\\\Imagens\\\\PROJETO FINAL TESTE\\\\drugs\\1c378c3bbe.jpg\n\nSUCCESS - saved https://khn.org/wp-content/uploads/sites/2/2019/12/GettyImages-1170673640_PrEP_1350.jpg?w=1024 - as D:\\\\Imagens\\\\PROJETO FINAL TESTE\\\\drugs\\91ffbcf084.jpg\n\nSUCCESS - saved https://encrypted-tbn0.gstatic.com/images?q=tbn%3AANd9GcRZ4cJhPVGm1WmbQ1HRHV_kKUuI7Ru5mIrZ7IQeK--3GCVN69Wu&usqp=CAU - as D:\\\\Imagens\\\\PROJETO FINAL TESTE\\\\drugs\\646d9fa00c.jpg\n\nSUCCESS - saved https://encrypted-tbn0.gstatic.com/images?q=tbn%3AANd9GcR4F-nD5Bu4hO80FhBNnY8bOCB134Xl6uez9XFGARWYrUMMAQnW&usqp=CAU - as D:\\\\Imagens\\\\PROJETO FINAL TESTE\\\\drugs\\b48ba7e355.jpg\n\nSUCCESS - saved https://www.statnews.com/wp-content/uploads/2019/09/AdobeStock_203485225-645x645.jpeg - as D:\\\\Imagens\\\\PROJETO FINAL TESTE\\\\drugs\\51e8ea4870.jpg\n\nSUCCESS - saved https://images.freeimages.com/images/large-previews/61c/drugs-pills-tablets-meds-medicine-medical-prescription-drug-chemicals-1635881.jpg - as D:\\\\Imagens\\\\PROJETO FINAL TESTE\\\\drugs\\684205aafb.jpg\n\nSUCCESS - saved https://encrypted-tbn0.gstatic.com/images?q=tbn%3AANd9GcQWTJjd3IhWtfK0lRJ3u7LuqvY1eajLE7v4AduINZjBlUtGtE-N&usqp=CAU - as D:\\\\Imagens\\\\PROJETO FINAL TESTE\\\\drugs\\e4c54601c0.jpg\n\nSUCCESS - saved https://images.everydayhealth.com/images/senior-health/osteoporosis/popular-osteoporosis-drugs-safe-or-dangerous-722x406.jpg?sfvrsn=31744e06_0 - as D:\\\\Imagens\\\\PROJETO FINAL TESTE\\\\drugs\\bf70f3dcdf.jpg\n\nSUCCESS - saved https://i.insider.com/5e29f6ff3ac0c97b6a0db3b9?width=1100&format=jpeg&auto=webp - as D:\\\\Imagens\\\\PROJETO FINAL TESTE\\\\drugs\\63ac35427f.jpg\n\nSUCCESS - saved https://images2.minutemediacdn.com/image/upload/c_crop,h_3076,w_5472,x_0,y_286/f_auto,q_auto,w_1100/v1564073554/shape/mentalfloss/590700-gettyimages-1026909904.jpg - as D:\\\\Imagens\\\\PROJETO FINAL TESTE\\\\drugs\\760ed91823.jpg\n\nSUCCESS - saved https://encrypted-tbn0.gstatic.com/images?q=tbn%3AANd9GcToYGLGOodO1vYyh_s2kdoaX0sHhyTrf73oey9VYaIvr2f-vZU-&usqp=CAU - as D:\\\\Imagens\\\\PROJETO FINAL TESTE\\\\drugs\\de4cf6c0a6.jpg\n\nSUCCESS - saved https://encrypted-tbn0.gstatic.com/images?q=tbn%3AANd9GcQ4zahTZo7CWQ2UKiuFCEf00qWOUb1XdRCPcZ1WLbrWhw89JQox&usqp=CAU - as D:\\\\Imagens\\\\PROJETO FINAL TESTE\\\\drugs\\d8cf5b37a5.jpg\n\nSUCCESS - saved https://encrypted-tbn0.gstatic.com/images?q=tbn%3AANd9GcTsw5ytmAltDVQw-J2dBgp6hF5rtlGT67Hp1zN9_sLikJCi9BE0&usqp=CAU - as D:\\\\Imagens\\\\PROJETO FINAL TESTE\\\\drugs\\5449444ad9.jpg\n\nSUCCESS - saved https://encrypted-tbn0.gstatic.com/images?q=tbn%3AANd9GcQkAgXN1mV_kqnbHPMOs2SpxkUjsgRpdM7n25agGUylOlqY2Ald&usqp=CAU - as D:\\\\Imagens\\\\PROJETO FINAL TESTE\\\\drugs\\03b35c0d94.jpg\n\nSUCCESS - saved https://encrypted-tbn0.gstatic.com/images?q=tbn%3AANd9GcQhy7ccJPd2bJVAhG61gxZDRSFiJzKxKgGkE7qDxAAiu1SNM7El&usqp=CAU - as D:\\\\Imagens\\\\PROJETO FINAL TESTE\\\\drugs\\ae1d36b539.jpg\n\nSUCCESS - saved https://www.thetimes.co.uk/imageserver/image/%2Fmethode%2Ftimes%2Fprod%2Fweb%2Fbin%2Ff492b91c-8f60-11e8-8c1a-b63727488402.jpg?crop=5186%2C2917%2C26%2C287&resize=1180 - as D:\\\\Imagens\\\\PROJETO FINAL TESTE\\\\drugs\\0315a5fca1.jpg\n\nSUCCESS - saved https://encrypted-tbn0.gstatic.com/images?q=tbn%3AANd9GcS6tjI6c2z6FsaFBZ-SrVWvoO9DOCMhuV2nYDoOtmjCAS-aR2Ho&usqp=CAU - as D:\\\\Imagens\\\\PROJETO FINAL TESTE\\\\drugs\\8918e61449.jpg\n\nSUCCESS - saved https://encrypted-tbn0.gstatic.com/images?q=tbn%3AANd9GcSdy6JY7GzIYQh8pMpBsTmv5DWAgnb7pbv8qbHlTFWeHAAIGVuQ&usqp=CAU - as D:\\\\Imagens\\\\PROJETO FINAL TESTE\\\\drugs\\0525a1ec99.jpg\n\nSUCCESS - saved https://encrypted-tbn0.gstatic.com/images?q=tbn%3AANd9GcQmyvvJVO_XSpK5QFn7Yp_nEIHku58U-5Z5be4drFDnf-vsZTmz&usqp=CAU - as D:\\\\Imagens\\\\PROJETO FINAL TESTE\\\\drugs\\40d18d2f1c.jpg\n\nSUCCESS - saved https://encrypted-tbn0.gstatic.com/images?q=tbn%3AANd9GcQYR6v2qzBjLUQqWg-Ns38p9h8O0bNzpYyYSkYAnz_l0S1hn3n0&usqp=CAU - as D:\\\\Imagens\\\\PROJETO FINAL TESTE\\\\drugs\\03402457fd.jpg\n\nSUCCESS - saved https://encrypted-tbn0.gstatic.com/images?q=tbn%3AANd9GcR_tJRseeh8OjqgcrvgC6oAcmVzAZDxZCGdRjVZs8KZodeLwPQP&usqp=CAU - as D:\\\\Imagens\\\\PROJETO FINAL TESTE\\\\drugs\\adc5b35a3c.jpg\n\nSUCCESS - saved https://encrypted-tbn0.gstatic.com/images?q=tbn%3AANd9GcRGMYAHRk2sMUrxBUbAJZO5LxT0-oKtQJZzkveuLJ3xUSfe05r0&usqp=CAU - as D:\\\\Imagens\\\\PROJETO FINAL TESTE\\\\drugs\\6e4c9bd637.jpg\n\nSUCCESS - saved https://encrypted-tbn0.gstatic.com/images?q=tbn%3AANd9GcTxrJn9kkP8eGclXdd6aSSbSZDWVmoeuEW3XTtWm71tRS1T5imH&usqp=CAU - as D:\\\\Imagens\\\\PROJETO FINAL TESTE\\\\drugs\\30debd7897.jpg\n\nSUCCESS - saved https://encrypted-tbn0.gstatic.com/images?q=tbn%3AANd9GcRTmToLzRtaWfEA1NG7YVvJWsIkaWoRgP0Nne-zkEpR2E73lhQW&usqp=CAU - as D:\\\\Imagens\\\\PROJETO FINAL TESTE\\\\drugs\\f232d2f321.jpg\n\nSUCCESS - saved https://encrypted-tbn0.gstatic.com/images?q=tbn%3AANd9GcQeb7TwQ_opvapMkiCp94Q_3d72_7emp_JuYX2I71O1pO3kiit_&usqp=CAU - as D:\\\\Imagens\\\\PROJETO FINAL TESTE\\\\drugs\\b911307394.jpg\n\nSUCCESS - saved https://www.verywellmind.com/thmb/G_dBHlCifKVfyPCcNmddYg6PKJs=/2124x1411/filters:fill(ABEAC3,1)/GettyImages-938938858-7b656e6317ab4e2797556bdddce9595d.jpg - as D:\\\\Imagens\\\\PROJETO FINAL TESTE\\\\drugs\\bbb45fcc1a.jpg\n\nSUCCESS - saved https://encrypted-tbn0.gstatic.com/images?q=tbn%3AANd9GcRi_h-7v8zIXr_zd3T_xtpXbbqiUjFimwEMgNE3RP0VuaR7lQhq&usqp=CAU - as D:\\\\Imagens\\\\PROJETO FINAL TESTE\\\\drugs\\d6a6c42396.jpg\n\nSUCCESS - saved https://thehill.com/sites/default/files/styles/article_full/public/prescriptiondrugspills_getty.jpg?itok=IsnWoAn9 - as D:\\\\Imagens\\\\PROJETO FINAL TESTE\\\\drugs\\09b1381388.jpg\n\nSUCCESS - saved https://encrypted-tbn0.gstatic.com/images?q=tbn%3AANd9GcQwBI3aEW5lWkCNIHX1J1gBsI3bKyjjF5kKU80ZSuG8fyVLQxgj&usqp=CAU - as D:\\\\Imagens\\\\PROJETO FINAL TESTE\\\\drugs\\c037d41626.jpg\n\nSUCCESS - saved https://encrypted-tbn0.gstatic.com/images?q=tbn%3AANd9GcR4gK3LB_uifLj8jY5VJ3XIOjHQPZsdgTj2SsjAUDDqnKU06Joe&usqp=CAU - as D:\\\\Imagens\\\\PROJETO FINAL TESTE\\\\drugs\\5336050210.jpg\n\nSUCCESS - saved https://img.etimg.com/thumb/width-640,height-480,imgsize-367008,resizemode-1,msid-75038471/covid-19-impact-drugs-essential-ancillaries-not-so-means-supplies-take-a-hit.jpg - as D:\\\\Imagens\\\\PROJETO FINAL TESTE\\\\drugs\\7db05c3d2f.jpg\n\nSUCCESS - saved https://encrypted-tbn0.gstatic.com/images?q=tbn%3AANd9GcQwEf7b6-cyO7yK5MepOuFL993npPsUW7pGTtmE6MG6xDO8HUD-&usqp=CAU - as D:\\\\Imagens\\\\PROJETO FINAL TESTE\\\\drugs\\5ad6378d55.jpg\n\nSUCCESS - saved https://encrypted-tbn0.gstatic.com/images?q=tbn%3AANd9GcQt7WuEb0rgsi0XFAUI8XUanusCpUhXIDYiNAhQOl72lD8zQs8t&usqp=CAU - as D:\\\\Imagens\\\\PROJETO FINAL TESTE\\\\drugs\\8904f16438.jpg\n\nSUCCESS - saved https://encrypted-tbn0.gstatic.com/images?q=tbn%3AANd9GcStNRx6VGBID2i-a1eFtZ8R3NsFwyHNtBV1i4-vXH2pZwT0goeW&usqp=CAU - as D:\\\\Imagens\\\\PROJETO FINAL TESTE\\\\drugs\\606c0bf42f.jpg\n\nSUCCESS - saved https://www.thetimes.co.uk/imageserver/image/%2Fmethode%2Ftimes%2Fprod%2Fweb%2Fbin%2F206ec41e-112d-11ea-96fb-8041210fa214.jpg?crop=1350%2C759%2C0%2C70&resize=1180 - as D:\\\\Imagens\\\\PROJETO FINAL TESTE\\\\drugs\\6c6474b46a.jpg\n\nSUCCESS - saved https://encrypted-tbn0.gstatic.com/images?q=tbn%3AANd9GcQ4NNia2SOdo0G7eph1acrtN0UATtHO4AFzlxpqEjd1GTU1xnVV&usqp=CAU - as D:\\\\Imagens\\\\PROJETO FINAL TESTE\\\\drugs\\3e1cffe5e2.jpg\n\nSUCCESS - saved https://encrypted-tbn0.gstatic.com/images?q=tbn%3AANd9GcQp4Kr0nMc7f5BLnTjLkoF4wEel7DZRj5H2Dv80Jm38xMT17Rff&usqp=CAU - as D:\\\\Imagens\\\\PROJETO FINAL TESTE\\\\drugs\\b53e8c0927.jpg\n\nSUCCESS - saved https://encrypted-tbn0.gstatic.com/images?q=tbn%3AANd9GcSfZftuVO7-5qBdDQnKUcbCdp1Scgvw2BSJ6qiZoHhxfdOeatYz&usqp=CAU - as D:\\\\Imagens\\\\PROJETO FINAL TESTE\\\\drugs\\2ee7857d29.jpg\n\nSUCCESS - saved https://cdn.recoveryfirst.org/wp-content/uploads/2016/06/most-popular-drugs-in-florida-400x267.jpg - as D:\\\\Imagens\\\\PROJETO FINAL TESTE\\\\drugs\\247e76bc6a.jpg\n\nSUCCESS - saved https://encrypted-tbn0.gstatic.com/images?q=tbn%3AANd9GcRcQOKkNvg62toxFiKiQsirJuVXRBmnKBlvFPEFuHi6vQig469I&usqp=CAU - as D:\\\\Imagens\\\\PROJETO FINAL TESTE\\\\drugs\\60863aaab8.jpg\n\nSUCCESS - saved https://static01.nyt.com/images/2020/02/25/opinion/25Fixes-cousins/25Fixes-cousins-mediumSquareAt3X.jpg - as D:\\\\Imagens\\\\PROJETO FINAL TESTE\\\\drugs\\1367c0c404.jpg\n\nSUCCESS - saved https://images-na.ssl-images-amazon.com/images/I/41%2BVGr6eCuL.jpg - as D:\\\\Imagens\\\\PROJETO FINAL TESTE\\\\drugs\\dfea90241e.jpg\n\nSUCCESS - saved https://thenypost.files.wordpress.com/2020/03/shutterstock_1668246580.jpg?quality=80&strip=all&w=618&h=410&crop=1 - as D:\\\\Imagens\\\\PROJETO FINAL TESTE\\\\drugs\\0406f02027.jpg\n\nSUCCESS - saved https://encrypted-tbn0.gstatic.com/images?q=tbn%3AANd9GcQVoYYkD-nAYcrAslwB5_7_UObovLyDmFO1ODok-R4bLkmoxeye&usqp=CAU - as D:\\\\Imagens\\\\PROJETO FINAL TESTE\\\\drugs\\59f16b5a8c.jpg\n\nSUCCESS - saved https://encrypted-tbn0.gstatic.com/images?q=tbn%3AANd9GcRUes9xq3ViiJvkhAJEX0MzTa1jQiWuIeViEkPsyNZWSfOnI7a8&usqp=CAU - as D:\\\\Imagens\\\\PROJETO FINAL TESTE\\\\drugs\\ba4a29a5be.jpg\n\nSUCCESS - saved https://encrypted-tbn0.gstatic.com/images?q=tbn%3AANd9GcT5Hhzz1zP0PVnVH8-kEfgvS23EeGHsQ_TPemt533PKYMg6XJLe&usqp=CAU - as D:\\\\Imagens\\\\PROJETO FINAL TESTE\\\\drugs\\004fa7e292.jpg\n\nSUCCESS - saved https://dlg7f0e93aole.cloudfront.net/wp-content/uploads/drug-market-750x450.jpg - as D:\\\\Imagens\\\\PROJETO FINAL TESTE\\\\drugs\\6319b55a6e.jpg\n\nSUCCESS - saved https://encrypted-tbn0.gstatic.com/images?q=tbn%3AANd9GcSwmlgcS5YdMeerB0ejmxkqBYi0a4DHV_FGdHIstKtX1uQXbUCm&usqp=CAU - as D:\\\\Imagens\\\\PROJETO FINAL TESTE\\\\drugs\\7a877caa91.jpg\n\nSUCCESS - saved https://images.theconversation.com/files/29933/original/j94kzqc6-1377499162.jpg?ixlib=rb-1.1.0&q=45&auto=format&w=926&fit=clip - as D:\\\\Imagens\\\\PROJETO FINAL TESTE\\\\drugs\\ea49163576.jpg\n\nSUCCESS - saved https://encrypted-tbn0.gstatic.com/images?q=tbn%3AANd9GcT6NoEkOUSPt0z2R4jJO4psqCqG143UG_ZlhegSssS9EL5SjGlM&usqp=CAU - as D:\\\\Imagens\\\\PROJETO FINAL TESTE\\\\drugs\\b919892b31.jpg\n\nSUCCESS - saved https://justthenews.com/sites/default/files/styles/hero/public/2020-03/GettyImages-1203453162.jpg?h=6b721c5e&itok=Q3s7U8Mo - as D:\\\\Imagens\\\\PROJETO FINAL TESTE\\\\drugs\\20fdf55c34.jpg\n\nSUCCESS - saved https://encrypted-tbn0.gstatic.com/images?q=tbn%3AANd9GcSR7nCt7quL5g4cGVVGbhBedtzs0QQIGA0Y2PKw32qAUhRG1M4O&usqp=CAU - as D:\\\\Imagens\\\\PROJETO FINAL TESTE\\\\drugs\\0f0fe1b526.jpg\n\nSUCCESS - saved https://encrypted-tbn0.gstatic.com/images?q=tbn%3AANd9GcTo2FML7Ak0I7nLlM_-GYWwinMMR4wJgi7zmb26oQCf1mERgBA5&usqp=CAU - as D:\\\\Imagens\\\\PROJETO FINAL TESTE\\\\drugs\\1427c3f2ae.jpg\n\nSUCCESS - saved https://encrypted-tbn0.gstatic.com/images?q=tbn%3AANd9GcTEnuPDLrGIvBgIb9Bi_IFR4j8kkeqwko-CjQH9eMboxYW_fsu5&usqp=CAU - as D:\\\\Imagens\\\\PROJETO FINAL TESTE\\\\drugs\\3d421dc2d1.jpg\n\nSUCCESS - saved https://2rdnmg1qbg403gumla1v9i2h-wpengine.netdna-ssl.com/wp-content/uploads/sites/3/2017/04/medications-650x428.jpg - as D:\\\\Imagens\\\\PROJETO FINAL TESTE\\\\drugs\\739574023e.jpg\n\nSUCCESS - saved https://cdn.vox-cdn.com/thumbor/Hu9dXqP2CTl5YyYE0E_kqizMX54=/0x0:1200x630/1200x800/filters:focal(504x219:696x411)/cdn.vox-cdn.com/uploads/chorus_image/image/65825116/fentanyl_pills_e1537375131431.0.jpeg - as D:\\\\Imagens\\\\PROJETO FINAL TESTE\\\\drugs\\73b04632a1.jpg\n\nSUCCESS - saved https://encrypted-tbn0.gstatic.com/images?q=tbn%3AANd9GcQQqWSy4jCkVZgdqgoSzXXdIPsQBlmySQypKhslNTmQRdttHsP3&usqp=CAU - as D:\\\\Imagens\\\\PROJETO FINAL TESTE\\\\drugs\\3364e9d1e7.jpg\n\nSUCCESS - saved https://encrypted-tbn0.gstatic.com/images?q=tbn%3AANd9GcRK3Kzw35hKHxzXnbnOMb_zjPTDLg3s7fleztt-_bOqawuRsR88&usqp=CAU - as D:\\\\Imagens\\\\PROJETO FINAL TESTE\\\\drugs\\a7dda97638.jpg\n\nSUCCESS - saved https://encrypted-tbn0.gstatic.com/images?q=tbn%3AANd9GcQkniVQcQoEthqAGXdSgw8KeSyg-BbQDGjCBBNl7OuOoKYdn9MS&usqp=CAU - as D:\\\\Imagens\\\\PROJETO FINAL TESTE\\\\drugs\\9af6bb3001.jpg\n\nSUCCESS - saved https://dlg7f0e93aole.cloudfront.net/wp-content/uploads/shutterstock_1537243622.jpg - as D:\\\\Imagens\\\\PROJETO FINAL TESTE\\\\drugs\\3be38ccee5.jpg\n\nSUCCESS - saved https://encrypted-tbn0.gstatic.com/images?q=tbn%3AANd9GcQGDOeVYrtJ9enmYkCIIrBfW_FalqdstaimpXk-1_YGzxRJ-cCk&usqp=CAU - as D:\\\\Imagens\\\\PROJETO FINAL TESTE\\\\drugs\\3cd6646d5d.jpg\n\nSUCCESS - saved https://metro.co.uk/wp-content/uploads/2019/06/PRI_72140722.jpg?quality=90&strip=all - as D:\\\\Imagens\\\\PROJETO FINAL TESTE\\\\drugs\\82d81d298d.jpg\n\nSUCCESS - saved https://encrypted-tbn0.gstatic.com/images?q=tbn%3AANd9GcTt4XijrtQ4Vqt2YunC_aRgodN31ELy88F31-e6bzId5LZ9RWmH&usqp=CAU - as D:\\\\Imagens\\\\PROJETO FINAL TESTE\\\\drugs\\f86dde8fe4.jpg\n\nSUCCESS - saved https://encrypted-tbn0.gstatic.com/images?q=tbn%3AANd9GcTdBZTYS-ottVKom32ZNEtHNazdGut3G0Rig0Y4NEGAslI4pTb5&usqp=CAU - as D:\\\\Imagens\\\\PROJETO FINAL TESTE\\\\drugs\\b7a150b926.jpg\n\nSUCCESS - saved https://encrypted-tbn0.gstatic.com/images?q=tbn%3AANd9GcShrCi6vocYu3QLG7L__3IWyoKhC-wCKgePufzvPA03rwSDC4-B&usqp=CAU - as D:\\\\Imagens\\\\PROJETO FINAL TESTE\\\\drugs\\e4698d02a9.jpg\n\nSUCCESS - saved https://encrypted-tbn0.gstatic.com/images?q=tbn%3AANd9GcT2VygkQgO6Lu5cAgsr6J1fuArl8OuFVwXEjp8cwz-2aNdr-K-Z&usqp=CAU - as D:\\\\Imagens\\\\PROJETO FINAL TESTE\\\\drugs\\8e6a1f472d.jpg\n\nSUCCESS - saved https://encrypted-tbn0.gstatic.com/images?q=tbn%3AANd9GcS5mWtMtlEoLKCrE26atDg82IJtFbsJnC3kObm16khXkKF9EYBm&usqp=CAU - as D:\\\\Imagens\\\\PROJETO FINAL TESTE\\\\drugs\\20e911d880.jpg\n\nSUCCESS - saved https://encrypted-tbn0.gstatic.com/images?q=tbn%3AANd9GcSyiejCaHdG1-bXwzpPDCUYtBdMrsc7ROEgzXKM3A-q2l05DHjp&usqp=CAU - as D:\\\\Imagens\\\\PROJETO FINAL TESTE\\\\drugs\\b264fdf9a4.jpg\n\nSUCCESS - saved https://specials-images.forbesimg.com/imageserve/1089273222/960x0.jpg?fit=scale - as D:\\\\Imagens\\\\PROJETO FINAL TESTE\\\\drugs\\8827f13b34.jpg\n\nSUCCESS - saved https://i0.wp.com/cdn-prod.medicalnewstoday.com/content/images/articles/325/325722/hypertension-drugs.jpg?w=1155&h=1533 - as D:\\\\Imagens\\\\PROJETO FINAL TESTE\\\\drugs\\dc5e5f4e31.jpg\n\nSUCCESS - saved https://encrypted-tbn0.gstatic.com/images?q=tbn%3AANd9GcQt-6glsTfbgxsZmfnwMkqwXclaQw6l3_B-vtSy36WbF05gQ__H&usqp=CAU - as D:\\\\Imagens\\\\PROJETO FINAL TESTE\\\\drugs\\bdb592b8f6.jpg\n\nSUCCESS - saved https://encrypted-tbn0.gstatic.com/images?q=tbn%3AANd9GcRy7dRqz0y7kKM9zsOpO-f-VcLygfDybN3SiSBN1lQrwWAXZi4s&usqp=CAU - as D:\\\\Imagens\\\\PROJETO FINAL TESTE\\\\drugs\\ded7c14dda.jpg\n\nSUCCESS - saved https://www.pharmaceutical-technology.com/wp-content/uploads/sites/10/2020/03/shutterstock_1159245352.jpg - as D:\\\\Imagens\\\\PROJETO FINAL TESTE\\\\drugs\\59dd23975f.jpg\n\nSUCCESS - saved https://encrypted-tbn0.gstatic.com/images?q=tbn%3AANd9GcQiziB6ZrA_sVdJYfHVGKW0NUd4k2w4FYwd9SqF-eJEdNrOpCgq&usqp=CAU - as D:\\\\Imagens\\\\PROJETO FINAL TESTE\\\\drugs\\d661d20c45.jpg\n\nSUCCESS - saved https://g.foolcdn.com/editorial/images/516753/pills_gettyimages-932555698.jpg - as D:\\\\Imagens\\\\PROJETO FINAL TESTE\\\\drugs\\9fefe72478.jpg\n\nSUCCESS - saved https://images.theconversation.com/files/277686/original/file-20190603-69059-tgvmza.jpg?ixlib=rb-1.1.0&q=45&auto=format&w=1200&h=1200.0&fit=crop - as D:\\\\Imagens\\\\PROJETO FINAL TESTE\\\\drugs\\d416998d72.jpg\n\nSUCCESS - saved https://encrypted-tbn0.gstatic.com/images?q=tbn%3AANd9GcSJSu13dlotmHWviKiUz332eeIgudPKSY9HMoCteN7zXY3L2EXV&usqp=CAU - as D:\\\\Imagens\\\\PROJETO FINAL TESTE\\\\drugs\\49d2bc5409.jpg\n\nSUCCESS - saved https://post.greatist.com/wp-content/uploads/sites/3/2020/02/325553_2200-800x1200.jpg - as D:\\\\Imagens\\\\PROJETO FINAL TESTE\\\\drugs\\f823f3eeeb.jpg\n\nSUCCESS - saved https://media.apnarm.net.au/media/images/2018/10/11/imagev1cbfa8b6846089bc2a813904499279729-vyyibs4rzsvnb89p3r2_t1880.jpg - as D:\\\\Imagens\\\\PROJETO FINAL TESTE\\\\drugs\\2243378bad.jpg\n\nSUCCESS - saved https://ichef.bbci.co.uk/news/1024/cpsprodpb/12FCC/production/_107427777_hi053578994.jpg - as D:\\\\Imagens\\\\PROJETO FINAL TESTE\\\\drugs\\99cae86720.jpg\n\nERROR - Could not save https://www.recoveryintune.com/wp-content/uploads/2018/08/bigstock-220369759.jpg - cannot identify image file <_io.BytesIO object at 0x000001878630F348>\n\nSUCCESS - saved https://encrypted-tbn0.gstatic.com/images?q=tbn%3AANd9GcSPPRdGWfUTEiC0j4STkiLgBO6xgqJSok_9rzXbb2XitanhODBe&usqp=CAU - as D:\\\\Imagens\\\\PROJETO FINAL TESTE\\\\drugs\\dcdc6a47f3.jpg\n\nSUCCESS - saved https://static01.nyt.com/images/2019/05/12/opinion/sunday/12eban/merlin_154668396_c18ab89c-53b9-4b02-9414-c6e42cbeeb35-superJumbo.jpg - as D:\\\\Imagens\\\\PROJETO FINAL TESTE\\\\drugs\\8191e4677e.jpg\n\nSUCCESS - saved https://encrypted-tbn0.gstatic.com/images?q=tbn%3AANd9GcSXxhTfdHqLmKnp6uGfAuzyIwpfywS16cMclrs0R-xuWKK__Ws5&usqp=CAU - as D:\\\\Imagens\\\\PROJETO FINAL TESTE\\\\drugs\\c7e2ae3266.jpg\n\nSUCCESS - saved https://encrypted-tbn0.gstatic.com/images?q=tbn%3AANd9GcRC1-BxAw4TaLG8FB_Ok3B3PDcph5ROlOCiNcgtNpDSPC-juQzU&usqp=CAU - as D:\\\\Imagens\\\\PROJETO FINAL TESTE\\\\drugs\\62fc167761.jpg\n\nSUCCESS - saved https://base.imgix.net/files/base/ebm/ehstoday/image/2019/03/ehstoday_1553_prescription_pills.png?auto=format&fit=crop&h=432&w=768 - as D:\\\\Imagens\\\\PROJETO FINAL TESTE\\\\drugs\\fd02cc48c6.jpg\n\nSUCCESS - saved https://encrypted-tbn0.gstatic.com/images?q=tbn%3AANd9GcQ2GY6g4WhYYgw5xOLwsXkaDt3R8JrhRXHXPmtlN1EdhXuKXaMu&usqp=CAU - as D:\\\\Imagens\\\\PROJETO FINAL TESTE\\\\drugs\\77151e4297.jpg\n\nSUCCESS - saved https://encrypted-tbn0.gstatic.com/images?q=tbn%3AANd9GcSuQqovrZcTpESMGsRaRK8vLQWJB4KMxVXuKx1wa35PwI0Z2sKK&usqp=CAU - as D:\\\\Imagens\\\\PROJETO FINAL TESTE\\\\drugs\\1b168e1ae9.jpg\n\nSUCCESS - saved https://encrypted-tbn0.gstatic.com/images?q=tbn%3AANd9GcQ9OS16RIpUXkjlTMoUZHtZauTWAh--hkVLPy8Ay8XEV4HZ72LG&usqp=CAU - as D:\\\\Imagens\\\\PROJETO FINAL TESTE\\\\drugs\\32d6957a3c.jpg\n\nSUCCESS - saved https://0f14676b303fd91881eb-98dd17e178263eba3c55ca6434a72b9d.ssl.cf5.rackcdn.com/img/longform_content_images/GettyImages-805711876(1).jpg - as D:\\\\Imagens\\\\PROJETO FINAL TESTE\\\\drugs\\915721fb3e.jpg\n\nSUCCESS - saved https://encrypted-tbn0.gstatic.com/images?q=tbn%3AANd9GcTmE02rRZNUr2OPUba3sqKzhG-wZLxszYG8-LOaevVUnexsxIP0&usqp=CAU - as D:\\\\Imagens\\\\PROJETO FINAL TESTE\\\\drugs\\b4226aa378.jpg\n\nSUCCESS - saved https://encrypted-tbn0.gstatic.com/images?q=tbn%3AANd9GcTeHSBR43Z2l2iGp29hdgDpP0Pgx92NnWaH9AhfrIA_XpyjH8Zw&usqp=CAU - as D:\\\\Imagens\\\\PROJETO FINAL TESTE\\\\drugs\\d3b529b0ce.jpg\n\nSUCCESS - saved https://cdn.ca.emap.com/wp-content/uploads/sites/8/2018/10/Drugs-illegal-cocaine-heroin-pills-cannabis_ING_33594_180901_2-1024x683.jpg - as D:\\\\Imagens\\\\PROJETO FINAL TESTE\\\\drugs\\db035e4f4b.jpg\nTEMPO TOTA\n\n\nL DE EXECUÇÃO:  0:09:16.165891\n"
    }
   ],
   "source": [
    "\n",
    "search_and_download(\n",
    "    search_term=SEARCH_TERM,\n",
    "    driver_path=DRIVER_PATH,\n",
    "    target_path=TARGET_PATH,\n",
    "    number_images=100\n",
    ")\n",
    "\n",
    "end = datetime.now()\n",
    "print('TEMPO TOTA\\n\\nL DE EXECUÇÃO: ', (end-start))"
   ]
  }
 ]
}