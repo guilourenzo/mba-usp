{
 "nbformat": 4,
 "nbformat_minor": 2,
 "metadata": {
  "language_info": {
   "name": "python",
   "codemirror_mode": {
    "name": "ipython",
    "version": 3
   },
   "version": "3.7.6-final"
  },
  "orig_nbformat": 2,
  "file_extension": ".py",
  "mimetype": "text/x-python",
  "name": "python",
  "npconvert_exporter": "python",
  "pygments_lexer": "ipython3",
  "version": 3,
  "kernelspec": {
   "name": "python3",
   "display_name": "Python 3"
  }
 },
 "cells": [
  {
   "cell_type": "code",
   "execution_count": 7,
   "metadata": {},
   "outputs": [],
   "source": [
    "from datetime import datetime\n",
    "st = datetime.now()\n",
    "\n",
    "from selenium import webdriver\n",
    "from PIL import Image\n",
    "import time\n",
    "import io\n",
    "import hashlib\n",
    "import requests\n",
    "\n",
    "DRIVER_PATH = 'geckodriver.exe' # FIREFOX: geckodriver || CHROME: chromedriver\n",
    "SEARCH_TERM = 'FAMILIA'\n",
    "NUMBER_IMAGES = 100\n",
    "TARGET_PATH = r'D:\\\\Imagens\\\\PROJETO FINAL TESTE\\\\'"
   ]
  },
  {
   "cell_type": "code",
   "execution_count": 8,
   "metadata": {},
   "outputs": [],
   "source": [
    "def search_and_download(search_term:str,driver_path:str,target_path:str,number_images=5):\n",
    "    target_folder = os.path.join(target_path,'_'.join(search_term.lower().split(' ')))\n",
    "\n",
    "    if not os.path.exists(target_folder):\n",
    "        os.makedirs(target_folder)\n",
    "\n",
    "    with webdriver.Firefox(executable_path=driver_path) as wd:\n",
    "        res = fetch_image_urls(search_term, number_images, wd=wd, sleep_between_interactions=0.5)\n",
    "        \n",
    "    for elem in res:\n",
    "        persist_image(target_folder,elem)"
   ]
  },
  {
   "cell_type": "code",
   "execution_count": 9,
   "metadata": {},
   "outputs": [],
   "source": [
    "def fetch_image_urls(query:str, max_links_to_fetch:int, wd:webdriver, sleep_between_interactions:int=1):\n",
    "    def scroll_to_end(wd):\n",
    "        wd.execute_script(\"window.scrollTo(0, document.body.scrollHeight);\")\n",
    "        time.sleep(sleep_between_interactions)    \n",
    "    \n",
    "    # build the google query\n",
    "    search_url = \"https://www.google.com/search?safe=off&site=&tbm=isch&source=hp&q={q}&oq={q}&gs_l=img\"\n",
    "\n",
    "    # load the page\n",
    "    wd.get(search_url.format(q=query))\n",
    "\n",
    "    image_urls = set()\n",
    "    image_count = 0\n",
    "    results_start = 0\n",
    "    while image_count < max_links_to_fetch:\n",
    "        scroll_to_end(wd)\n",
    "\n",
    "        # get all image thumbnail results\n",
    "        thumbnail_results = wd.find_elements_by_css_selector(\"img.Q4LuWd\")\n",
    "        number_results = len(thumbnail_results)\n",
    "        \n",
    "        print(f\"Found: {number_results} search results. Extracting links from {results_start}:{number_results}\")\n",
    "        \n",
    "        for img in thumbnail_results[results_start:number_results]:\n",
    "            # try to click every thumbnail such that we can get the real image behind it\n",
    "            try:\n",
    "                img.click()\n",
    "                time.sleep(sleep_between_interactions)\n",
    "            except Exception:\n",
    "                continue\n",
    "\n",
    "            # extract image urls    \n",
    "            actual_images = wd.find_elements_by_css_selector('img.n3VNCb')\n",
    "            for actual_image in actual_images:\n",
    "                if actual_image.get_attribute('src') and 'http' in actual_image.get_attribute('src'):\n",
    "                    image_urls.add(actual_image.get_attribute('src'))\n",
    "\n",
    "            image_count = len(image_urls)\n",
    "\n",
    "            if len(image_urls) >= max_links_to_fetch:\n",
    "                print(f\"Found: {len(image_urls)} image links, done!\")\n",
    "                break\n",
    "        else:\n",
    "            print(\"Found:\", len(image_urls), \"image links, looking for more ...\")\n",
    "            time.sleep(30)\n",
    "            return\n",
    "            load_more_button = wd.find_element_by_css_selector(\".mye4qd\")\n",
    "            if load_more_button:\n",
    "                wd.execute_script(\"document.querySelector('.mye4qd').click();\")\n",
    "\n",
    "        # move the result startpoint further down\n",
    "        results_start = len(thumbnail_results)\n",
    "\n",
    "    return image_urls"
   ]
  },
  {
   "cell_type": "code",
   "execution_count": 10,
   "metadata": {},
   "outputs": [],
   "source": [
    "def persist_image(folder_path:str,url:str):\n",
    "    try:\n",
    "        image_content = requests.get(url).content\n",
    "\n",
    "    except Exception as e:\n",
    "        print(f\"ERROR - Could not download {url} - {e}\")\n",
    "\n",
    "    try:\n",
    "        image_file = io.BytesIO(image_content)\n",
    "        image = Image.open(image_file).convert('RGB')\n",
    "        file_path = os.path.join(folder_path,hashlib.sha1(image_content).hexdigest()[:10] + '.jpg')\n",
    "        with open(file_path, 'wb') as f:\n",
    "            image.save(f, \"JPEG\", quality=85)\n",
    "        print(f\"SUCCESS - saved {url} - as {file_path}\")\n",
    "    except Exception as e:\n",
    "        print(f\"ERROR - Could not save {url} - {e}\")"
   ]
  },
  {
   "cell_type": "code",
   "execution_count": 11,
   "metadata": {},
   "outputs": [
    {
     "output_type": "stream",
     "name": "stdout",
     "text": "Found: 100 search results. Extracting links from 0:100\nFound: 100 image links, done!\nSUCCESS - saved https://coracaofiel.com.br/site/wp-content/uploads/2017/05/no-dia-da-familia-comemorado-nesta-terca-08-especialista-da-dicas-de-como-ter-uma-convivencia-familiar-harmoniosa-e-feliz-_620_.jpg - as D:\\\\Imagens\\\\PROJETO FINAL TESTE\\\\familia\\fc387381b9.jpg\nSUCCESS - saved https://encrypted-tbn0.gstatic.com/images?q=tbn%3AANd9GcQnc7WFFn9XnnJ4EzsBLOVkFu0af91qamuF31Hp-XOoq-R46GqF&usqp=CAU - as D:\\\\Imagens\\\\PROJETO FINAL TESTE\\\\familia\\927a8a8f69.jpg\nSUCCESS - saved https://blog.wpensar.com.br/wp-content/uploads/2017/04/capa-relacao-entre-escola-e-familia.png - as D:\\\\Imagens\\\\PROJETO FINAL TESTE\\\\familia\\28b3d374d2.jpg\nSUCCESS - saved https://d168rbuicf8uyi.cloudfront.net/wp-content/uploads/2010/07/19174329/amizade-familia-do-coracao-1024x649.jpg - as D:\\\\Imagens\\\\PROJETO FINAL TESTE\\\\familia\\438a024ddd.jpg\nSUCCESS - saved https://st2.depositphotos.com/1967477/6350/v/450/depositphotos_63509663-stock-illustration-happy-family-cartoon.jpg - as D:\\\\Imagens\\\\PROJETO FINAL TESTE\\\\familia\\f575b74391.jpg\nSUCCESS - saved https://encrypted-tbn0.gstatic.com/images?q=tbn%3AANd9GcRXTazPXMkMTliAifaccYMhBpSdJbPXYCmoT45IEYPOdrpTsJsf&usqp=CAU - as D:\\\\Imagens\\\\PROJETO FINAL TESTE\\\\familia\\c4329fe4fb.jpg\nSUCCESS - saved https://encrypted-tbn0.gstatic.com/images?q=tbn%3AANd9GcT0px8daM_SlzgavFt5AtbL1uezsgp7kM3LcYrDak9keizQ0Val&usqp=CAU - as D:\\\\Imagens\\\\PROJETO FINAL TESTE\\\\familia\\03450e26d7.jpg\nSUCCESS - saved https://encrypted-tbn0.gstatic.com/images?q=tbn%3AANd9GcTsttBF4hF6nA48SNpZyjX_V6iyRLtHiL69ASggva72kudCxCdS&usqp=CAU - as D:\\\\Imagens\\\\PROJETO FINAL TESTE\\\\familia\\bff50d6f43.jpg\nSUCCESS - saved https://encrypted-tbn0.gstatic.com/images?q=tbn%3AANd9GcTqEXAhKxk21OGJLDBjkAO-JYa0lWUJ924mBCpG_7kFJUjTK7Lb&usqp=CAU - as D:\\\\Imagens\\\\PROJETO FINAL TESTE\\\\familia\\a0b72dc37e.jpg\nSUCCESS - saved https://encrypted-tbn0.gstatic.com/images?q=tbn%3AANd9GcQ_KHunetooGiLZ7N69GNcLMdxk2JG57OYBtWQQN2wsWF5U1yOE&usqp=CAU - as D:\\\\Imagens\\\\PROJETO FINAL TESTE\\\\familia\\22965a32f9.jpg\nSUCCESS - saved https://encrypted-tbn0.gstatic.com/images?q=tbn%3AANd9GcR3ou2mILA0MDjnk9J5LY7nSUITzKonzPrM3WLV8ju6KMLHL6uV&usqp=CAU - as D:\\\\Imagens\\\\PROJETO FINAL TESTE\\\\familia\\c8cbce7e87.jpg\nSUCCESS - saved https://www.acidigital.com/imagespp/size680/Familia-Pixabay-261219.jpg - as D:\\\\Imagens\\\\PROJETO FINAL TESTE\\\\familia\\9dd0873f1a.jpg\nSUCCESS - saved https://encrypted-tbn0.gstatic.com/images?q=tbn%3AANd9GcRQ3aSaxNz5JVVYtk0Q-qTA2Gpz8GqsEXrIQrQChmPdTNydvEex&usqp=CAU - as D:\\\\Imagens\\\\PROJETO FINAL TESTE\\\\familia\\399259f1eb.jpg\nSUCCESS - saved https://i2.wp.com/direcionalescolas.com.br/wp-content/uploads/2017/03/Sem-T%C3%ADtulo-37.jpg?fit=650%2C300&ssl=1 - as D:\\\\Imagens\\\\PROJETO FINAL TESTE\\\\familia\\ba35424678.jpg\nSUCCESS - saved https://encrypted-tbn0.gstatic.com/images?q=tbn%3AANd9GcQ7bva6RGFZbD9aDoBoSZswXljy_hM7DtmsyDRdh8Uk0PLzysNJ&usqp=CAU - as D:\\\\Imagens\\\\PROJETO FINAL TESTE\\\\familia\\0050eeabab.jpg\nSUCCESS - saved https://www.sbmfc.org.br/wp-content/uploads/2018/09/carousel-01.png - as D:\\\\Imagens\\\\PROJETO FINAL TESTE\\\\familia\\7bcb910e14.jpg\nSUCCESS - saved https://i2.wp.com/portalkairos.org/wp-content/uploads/2019/08/hora-da-familia-2019-a-familia-como-vai-pk.png?ssl=1 - as D:\\\\Imagens\\\\PROJETO FINAL TESTE\\\\familia\\a17305be64.jpg\nSUCCESS - saved https://encrypted-tbn0.gstatic.com/images?q=tbn%3AANd9GcQ1-MnHNlsSFhFJdG65H6IUG2PzvK0tXNRBAxZjSBSShAeiQ5io&usqp=CAU - as D:\\\\Imagens\\\\PROJETO FINAL TESTE\\\\familia\\c70c49db2e.jpg\nSUCCESS - saved https://www.hotelinternacionalgravatal.com.br/blog/wp-content/uploads/2019/03/Pascoa-HIG-945x630.jpg - as D:\\\\Imagens\\\\PROJETO FINAL TESTE\\\\familia\\943d80148d.jpg\nSUCCESS - saved https://img.cancaonova.com/cnimages/canais/uploads/sites/6/2019/08/formacao_1600x1200-existe-uma-familia-perfeita.jpg - as D:\\\\Imagens\\\\PROJETO FINAL TESTE\\\\familia\\946d6198dc.jpg\nSUCCESS - saved https://encrypted-tbn0.gstatic.com/images?q=tbn%3AANd9GcTiuMDDPbhB7LrwAji7QgEbka_7T3s1duPsgPa3QNkKZYWhhIi4&usqp=CAU - as D:\\\\Imagens\\\\PROJETO FINAL TESTE\\\\familia\\d0fbf42734.jpg\nSUCCESS - saved https://img.elo7.com.br/product/zoom/2C8192B/caricatura-de-grupos-amigos-familia.jpg - as D:\\\\Imagens\\\\PROJETO FINAL TESTE\\\\familia\\6ac612674c.jpg\nSUCCESS - saved https://encrypted-tbn0.gstatic.com/images?q=tbn%3AANd9GcQRVP3T4F2w7W09EPkIAEML-WnIVDJ8x7k0js80jANkCzDEERu7&usqp=CAU - as D:\\\\Imagens\\\\PROJETO FINAL TESTE\\\\familia\\d507fade9e.jpg\nSUCCESS - saved https://i.ytimg.com/vi/s48phnrkZ5w/maxresdefault.jpg - as D:\\\\Imagens\\\\PROJETO FINAL TESTE\\\\familia\\c7684318ed.jpg\nSUCCESS - saved https://i0.wp.com/portalkairos.org/wp-content/uploads/2018/07/imagem-familia-em-desenho-01.png?ssl=1 - as D:\\\\Imagens\\\\PROJETO FINAL TESTE\\\\familia\\dfcb0db491.jpg\nSUCCESS - saved https://encrypted-tbn0.gstatic.com/images?q=tbn%3AANd9GcTiSFZKK3Jl45ht3Ift5ANKVtyNa_KfVzD1VpmS5Ovmw-C3zEPp&usqp=CAU - as D:\\\\Imagens\\\\PROJETO FINAL TESTE\\\\familia\\99bce336c6.jpg\nSUCCESS - saved https://encrypted-tbn0.gstatic.com/images?q=tbn%3AANd9GcQds5VABIO-MzuXDmd0-SfgE-ZwTRCiyglR__ZSfjUGor6p1yVW&usqp=CAU - as D:\\\\Imagens\\\\PROJETO FINAL TESTE\\\\familia\\de70a1a2d1.jpg\nSUCCESS - saved https://ciaathleticasjc.com.br/wp-content/uploads/2018/10/Family-Swim_Easy-Resize.com_-1024x381.jpg - as D:\\\\Imagens\\\\PROJETO FINAL TESTE\\\\familia\\30cf549a98.jpg\nSUCCESS - saved https://encrypted-tbn0.gstatic.com/images?q=tbn%3AANd9GcTZGLseGUtNxrV81QAvlxt9tJgBu3mW-spmMeKVTdyAhAsweaqg&usqp=CAU - as D:\\\\Imagens\\\\PROJETO FINAL TESTE\\\\familia\\b6644b2020.jpg\nSUCCESS - saved https://encrypted-tbn0.gstatic.com/images?q=tbn%3AANd9GcQtiXyJdE_F31GTXTO3CuCpNKO4o49VN7wm51Msm7avOwL_GrsG&usqp=CAU - as D:\\\\Imagens\\\\PROJETO FINAL TESTE\\\\familia\\9921f0a349.jpg\nSUCCESS - saved https://media.semprefamilia.com.br/semprefamilia/2019/11/humildade-em-familia-620x349-61b59400.png - as D:\\\\Imagens\\\\PROJETO FINAL TESTE\\\\familia\\b269be66a1.jpg\nSUCCESS - saved https://encrypted-tbn0.gstatic.com/images?q=tbn%3AANd9GcSRAB3Ml8dVhwjpftPTDSBJnegcrsmqhcEQMt19amHHLXKpRnKa&usqp=CAU - as D:\\\\Imagens\\\\PROJETO FINAL TESTE\\\\familia\\365fc5b2d4.jpg\nSUCCESS - saved https://static.cdn.pleno.news/2017/09/2017-09-23_desafios_da_nova_familia-1024x682.jpg - as D:\\\\Imagens\\\\PROJETO FINAL TESTE\\\\familia\\16f4ce46a3.jpg\nSUCCESS - saved https://img.huffingtonpost.com/asset/5c33aa7d1d00007a0332154d.jpeg?ops=scalefit_720_noupscale - as D:\\\\Imagens\\\\PROJETO FINAL TESTE\\\\familia\\c228babe68.jpg\nSUCCESS - saved https://encrypted-tbn0.gstatic.com/images?q=tbn%3AANd9GcTxzLreqxUMKlmS42Slu6vZ4wVOdoXDfbecYhJyDuZokLEn7XgL&usqp=CAU - as D:\\\\Imagens\\\\PROJETO FINAL TESTE\\\\familia\\bfb62a6aa1.jpg\nSUCCESS - saved https://encrypted-tbn0.gstatic.com/images?q=tbn%3AANd9GcQCT3zKtgabIQJV12sjm6u_ah5RSO1Ql6UYbbkjUFU1dqrcH8Lf&usqp=CAU - as D:\\\\Imagens\\\\PROJETO FINAL TESTE\\\\familia\\d1236cb806.jpg\nSUCCESS - saved https://encrypted-tbn0.gstatic.com/images?q=tbn%3AANd9GcTco4XUUCqybKj0BpaLhSd0cLghn52tKFDYegat_VRT3xT4xYHw&usqp=CAU - as D:\\\\Imagens\\\\PROJETO FINAL TESTE\\\\familia\\98ea3c17f3.jpg\nSUCCESS - saved https://encrypted-tbn0.gstatic.com/images?q=tbn%3AANd9GcR7qqP5uL3jTX6Lho-5NF0uy2YXuEYUk7KPLSoKGTJyyZx-sh6f&usqp=CAU - as D:\\\\Imagens\\\\PROJETO FINAL TESTE\\\\familia\\306b09e66c.jpg\nSUCCESS - saved https://encrypted-tbn0.gstatic.com/images?q=tbn%3AANd9GcSfyDVk4MKII-qFJ-QBL0GBqr3Wrso-LigBJwUFBm2u7y-vr2yN&usqp=CAU - as D:\\\\Imagens\\\\PROJETO FINAL TESTE\\\\familia\\29dbf7e2ba.jpg\nSUCCESS - saved https://encrypted-tbn0.gstatic.com/images?q=tbn%3AANd9GcS6Wuw8_Cr0nDtzGvMwnmBerdONSdtZ-b1VwdnKiYos8wCSogZJ&usqp=CAU - as D:\\\\Imagens\\\\PROJETO FINAL TESTE\\\\familia\\083ae54c3d.jpg\nSUCCESS - saved https://saude.novartis.com.br/febres-periodicas/wp-content/uploads/2017/11/febres-qualidade-familia-636x413.jpg - as D:\\\\Imagens\\\\PROJETO FINAL TESTE\\\\familia\\2150377b5b.jpg\nSUCCESS - saved https://encrypted-tbn0.gstatic.com/images?q=tbn%3AANd9GcTu_jArDpDL8RlMSqLxESBQBk-IwLb6nITd4XBzJob-q8gCYTTk&usqp=CAU - as D:\\\\Imagens\\\\PROJETO FINAL TESTE\\\\familia\\1dd0085cbb.jpg\nSUCCESS - saved https://encrypted-tbn0.gstatic.com/images?q=tbn%3AANd9GcR1cvnI6SaRDbx4xrCSNL1QTy_WsQscNnxgANnNUYNTkvJykr9O&usqp=CAU - as D:\\\\Imagens\\\\PROJETO FINAL TESTE\\\\familia\\a0094ee62d.jpg\nERROR - Could not save https://www.maxmilhas.com.br/blog/wp-content/uploads/2017/10/destinosparaviajarbaratocomafam%C3%ADlia-770x450.jpg - cannot identify image file <_io.BytesIO object at 0x0000020413577E28>\nSUCCESS - saved https://s3.amazonaws.com/cdn.leiturinha.com.br/blog/uploads/2019/12/fim-de-ano-em-familia.jpg - as D:\\\\Imagens\\\\PROJETO FINAL TESTE\\\\familia\\b90fc7f450.jpg\nSUCCESS - saved https://lh3.googleusercontent.com/proxy/4kmPYyZzwuz_I9qAmdmnBedzQcRi2H09yAe4rLdfXQaKcqXTBybBHfbHR7C7zwjfMjNbRGJtlpHim4IGt56DUAJhPPhEg5zg5EFdZ3NxQ0_LG25EVK_Y8kYmG3lTm4CeLB62 - as D:\\\\Imagens\\\\PROJETO FINAL TESTE\\\\familia\\d8ffd2543c.jpg\nSUCCESS - saved https://vignette.wikia.nocookie.net/irmaos-neto/images/c/c4/Fam%C3%ADlia_Neto.png/revision/latest/top-crop/width/360/height/450?cb=20190207150455&path-prefix=pt-br - as D:\\\\Imagens\\\\PROJETO FINAL TESTE\\\\familia\\9635d9f2c9.jpg\nSUCCESS - saved https://encrypted-tbn0.gstatic.com/images?q=tbn%3AANd9GcSDQ_1xSQTQuhyVi2aDYLs7oNBic9uO0-090XKbCA4ftU09arRx&usqp=CAU - as D:\\\\Imagens\\\\PROJETO FINAL TESTE\\\\familia\\a61cc87f34.jpg\nSUCCESS - saved https://unenco.com.br/wp-content/uploads/2018/05/o-que-uma-casa-para-familia-grande-deve-ter.jpeg - as D:\\\\Imagens\\\\PROJETO FINAL TESTE\\\\familia\\18e31e2ebd.jpg\nSUCCESS - saved https://image.freepik.com/vetores-gratis/pais-de-familia-e-desenhos-de-criancas_18591-52190.jpg - as D:\\\\Imagens\\\\PROJETO FINAL TESTE\\\\familia\\6c9414ff59.jpg\nSUCCESS - saved https://encrypted-tbn0.gstatic.com/images?q=tbn%3AANd9GcSsURVXXne-dCP917w3cZwsvyzEcJ2WdxJG37vORw6caHAKJOnw&usqp=CAU - as D:\\\\Imagens\\\\PROJETO FINAL TESTE\\\\familia\\4328f09b0b.jpg\nSUCCESS - saved https://acrilex.com.br/wp-content/uploads/2017/04/educadores_003_001.jpg - as D:\\\\Imagens\\\\PROJETO FINAL TESTE\\\\familia\\c521863637.jpg\nSUCCESS - saved https://encrypted-tbn0.gstatic.com/images?q=tbn%3AANd9GcTE6pr5qx6_ytvDQNU8HLXuV8RhYp0afm-aNm5eWyEYik6b_PU9&usqp=CAU - as D:\\\\Imagens\\\\PROJETO FINAL TESTE\\\\familia\\cb7bd362a6.jpg\nSUCCESS - saved https://cdn.mensagenscomamor.com/content/images/p000026035.jpg?v=2&w=400&h=225&c=1 - as D:\\\\Imagens\\\\PROJETO FINAL TESTE\\\\familia\\98e0efa443.jpg\nSUCCESS - saved https://www.expositorcristao.com.br/content/interfaces/cms/userfiles/files/familia-ec.jpg - as D:\\\\Imagens\\\\PROJETO FINAL TESTE\\\\familia\\9cf0326140.jpg\nSUCCESS - saved https://encrypted-tbn0.gstatic.com/images?q=tbn%3AANd9GcQ43I3jiFIUOL6Y9SYrcHAL9zfYfPooR_GoKKs4lDn493tfmcXO&usqp=CAU - as D:\\\\Imagens\\\\PROJETO FINAL TESTE\\\\familia\\09ce4a52f5.jpg\nSUCCESS - saved https://static1.purepeople.com.br/articles/2/20/91/02/@/2405552-sem-a-noiva-zeze-di-camargo-passou-o-na-624x600-2.jpg - as D:\\\\Imagens\\\\PROJETO FINAL TESTE\\\\familia\\9a93684b7a.jpg\nSUCCESS - saved https://cnbmg.org.br/wp-content/uploads/2019/07/image_16211_1_1497882867.jpeg - as D:\\\\Imagens\\\\PROJETO FINAL TESTE\\\\familia\\f187acd880.jpg\nSUCCESS - saved https://www.frasesdobem.com.br/wp-content/uploads/2019/02/familia.png - as D:\\\\Imagens\\\\PROJETO FINAL TESTE\\\\familia\\e816aa641e.jpg\nSUCCESS - saved https://assets-br.wemystic.com.br/20191113024836/familia7momentos-850x640.jpg - as D:\\\\Imagens\\\\PROJETO FINAL TESTE\\\\familia\\e801add52a.jpg\nSUCCESS - saved https://encrypted-tbn0.gstatic.com/images?q=tbn%3AANd9GcTeOWqU3Yb2L3q-KGsOx6iWcc4oGL4nQuxSHupZbd-xUgt3qEuJ&usqp=CAU - as D:\\\\Imagens\\\\PROJETO FINAL TESTE\\\\familia\\4aaaa988e0.jpg\nSUCCESS - saved https://fdr.com.br/wp-content/uploads/2020/03/decimo-terceiro-do-bolsa-familia-1200x675-1024x576-1-1200x675.jpg - as D:\\\\Imagens\\\\PROJETO FINAL TESTE\\\\familia\\42c3e38bf0.jpg\nSUCCESS - saved https://encrypted-tbn0.gstatic.com/images?q=tbn%3AANd9GcQddDMw0Jnf-1G9qeAiyped2ByD-aInA5BCwYywhEAW-r14e8Ud&usqp=CAU - as D:\\\\Imagens\\\\PROJETO FINAL TESTE\\\\familia\\8083d231f5.jpg\nSUCCESS - saved https://encrypted-tbn0.gstatic.com/images?q=tbn%3AANd9GcT0AdHidKxIJ_1a4e2pi6sJpFbiAJrBS7zOzm073f2hJouzWgAE&usqp=CAU - as D:\\\\Imagens\\\\PROJETO FINAL TESTE\\\\familia\\637e2c85ae.jpg\nSUCCESS - saved https://www.abrale.org.br/revista-online/wp-content/uploads/2016/11/imagem-familia.jpg - as D:\\\\Imagens\\\\PROJETO FINAL TESTE\\\\familia\\90a7316b7e.jpg\nSUCCESS - saved https://encrypted-tbn0.gstatic.com/images?q=tbn%3AANd9GcQNMV67XJuc4qBk5dFIrDm_iJ9WD92u8-NVSUjm1jbPCY1uLE1N&usqp=CAU - as D:\\\\Imagens\\\\PROJETO FINAL TESTE\\\\familia\\8cb7f674a4.jpg\nSUCCESS - saved https://encrypted-tbn0.gstatic.com/images?q=tbn%3AANd9GcRvDu8u3JxwXvN__YYPcful_U-92IQbpI1uRsRz4QfnSKADrYdX&usqp=CAU - as D:\\\\Imagens\\\\PROJETO FINAL TESTE\\\\familia\\f0be4ebf64.jpg\nSUCCESS - saved https://encrypted-tbn0.gstatic.com/images?q=tbn%3AANd9GcSH2oPZTESoiot_fzfZcbZ-ZcwLuxRaHD7oIJrxHg0SqjjGHZWu&usqp=CAU - as D:\\\\Imagens\\\\PROJETO FINAL TESTE\\\\familia\\e12df7b5b8.jpg\nSUCCESS - saved https://encrypted-tbn0.gstatic.com/images?q=tbn%3AANd9GcQPPffrmaWUkN-A-NaQlR1h2XtVNbiry5mnH1iGLX2HiEq6WJcq&usqp=CAU - as D:\\\\Imagens\\\\PROJETO FINAL TESTE\\\\familia\\aabe7b424d.jpg\nSUCCESS - saved https://encrypted-tbn0.gstatic.com/images?q=tbn%3AANd9GcTrdk-u9uXfcffban_p4IoiP3fUeAQzOYtPOumAR3yFr9aEzJwP&usqp=CAU - as D:\\\\Imagens\\\\PROJETO FINAL TESTE\\\\familia\\4b140d274d.jpg\nSUCCESS - saved https://media.semprefamilia.com.br/semprefamilia/2015/11/bigstock-family-and-friends-sitting-at-95387342-620x413-80fb83e4.jpg - as D:\\\\Imagens\\\\PROJETO FINAL TESTE\\\\familia\\73cb41fff4.jpg\nSUCCESS - saved https://encrypted-tbn0.gstatic.com/images?q=tbn%3AANd9GcQ9S9CovyC17uDGytBbAoyH5by88IFHDfeJGtmpbpboCOL2Hjt9&usqp=CAU - as D:\\\\Imagens\\\\PROJETO FINAL TESTE\\\\familia\\2c21249757.jpg\nSUCCESS - saved https://lh3.googleusercontent.com/proxy/nSwqLFC3pQqr0By03NZKTAX401kfIkyuMZQlVgj0uePniC5BxtP_zOPiCk_ElEmTKaft-aZDeVGhftnBGFKWIXtq7j7XjMrNeXFcilpjfj7sBBHCscuGKYjE9mBW1pZkJO07GZlZJH0eHm4lLochKyTt - as D:\\\\Imagens\\\\PROJETO FINAL TESTE\\\\familia\\9aa56d87cf.jpg\nSUCCESS - saved https://img.cancaonova.com/cnimages/canais/uploads/sites/6/2017/05/formacao_a-familia-foi-criada-por-deus-para-ser-a-base-da-sociedade-1.jpg - as D:\\\\Imagens\\\\PROJETO FINAL TESTE\\\\familia\\21f8b68418.jpg\nSUCCESS - saved https://encrypted-tbn0.gstatic.com/images?q=tbn%3AANd9GcTLJqL7bgLBDQJj8PdhfhM26LGLvh3UaltQQmyaz4DOMptuxvqO&usqp=CAU - as D:\\\\Imagens\\\\PROJETO FINAL TESTE\\\\familia\\7f9d505cc7.jpg\nSUCCESS - saved https://lh3.googleusercontent.com/proxy/JD05IozSI5bOhA4_5xUYChUJHAweXy-tLWAixsQ0TOJTtgm-UagOmPZnOo_uxC1iqy-0TivIEmQ-iLwryeO7gOdMSN7-antY9H9OOrJelUaA4yCGNkvBRsTMEAJWSxFxWSUCYWsMMp_7uYwkheQYTXkzLDby5wcjUQI5Aqpu4OHIKKWogBMp_mHy0MKFTS8TPbBD6Y4 - as D:\\\\Imagens\\\\PROJETO FINAL TESTE\\\\familia\\cb055300ac.jpg\nSUCCESS - saved https://encrypted-tbn0.gstatic.com/images?q=tbn%3AANd9GcTkuli4MSAT4RePmBqGqDsVBZ2M-vJW34lLi6-VHcIh1x0XGkcF&usqp=CAU - as D:\\\\Imagens\\\\PROJETO FINAL TESTE\\\\familia\\de66d3ff2c.jpg\nSUCCESS - saved https://encrypted-tbn0.gstatic.com/images?q=tbn%3AANd9GcTxwBDLnjuh2ZGlD_Pvso8jMhkhYR7TktiS-Ac0GyeCp1GvG7BX&usqp=CAU - as D:\\\\Imagens\\\\PROJETO FINAL TESTE\\\\familia\\8201db3a78.jpg\nSUCCESS - saved https://paisefilhos.uol.com.br/wp-content/uploads/2018/08/angelica-luciano-huck-1.jpg - as D:\\\\Imagens\\\\PROJETO FINAL TESTE\\\\familia\\313562d244.jpg\nSUCCESS - saved https://encrypted-tbn0.gstatic.com/images?q=tbn%3AANd9GcT_1kd0bZdrTdmfBEGc0Mdp40tjYYT2qM0bHUCLH6wjYY1tpXPT&usqp=CAU - as D:\\\\Imagens\\\\PROJETO FINAL TESTE\\\\familia\\e73ebc247d.jpg\nSUCCESS - saved https://encrypted-tbn0.gstatic.com/images?q=tbn%3AANd9GcTp4Q9JY4Pk3mMgBEfJWfni00ooEU1FEoYjaMxoCHb1B5JHrlHj&usqp=CAU - as D:\\\\Imagens\\\\PROJETO FINAL TESTE\\\\familia\\50f144bdc3.jpg\nSUCCESS - saved https://encrypted-tbn0.gstatic.com/images?q=tbn%3AANd9GcQFO4f-hms8D6J7joNfAlFBuEnlMT1bG_ycs-dSnU2dUcLEMSYV&usqp=CAU - as D:\\\\Imagens\\\\PROJETO FINAL TESTE\\\\familia\\b0dc56975b.jpg\nSUCCESS - saved https://encrypted-tbn0.gstatic.com/images?q=tbn%3AANd9GcSRUBDOx2TpJ0pZ6WB7vMsmOK2NzxhuZFbB0W0mYbP7qu_O15Bd&usqp=CAU - as D:\\\\Imagens\\\\PROJETO FINAL TESTE\\\\familia\\173e854d26.jpg\nSUCCESS - saved https://encrypted-tbn0.gstatic.com/images?q=tbn%3AANd9GcR4xgRUX2VtgRpmwWz8brbSbhAbMXsl_Hy_GsZBeHPNxFypJDlD&usqp=CAU - as D:\\\\Imagens\\\\PROJETO FINAL TESTE\\\\familia\\f4ce103053.jpg\nSUCCESS - saved https://encrypted-tbn0.gstatic.com/images?q=tbn%3AANd9GcRygYrHqycBHamBkOwMTXbulmIaAsIufveYBZyIpqIrzZ_mwWoI&usqp=CAU - as D:\\\\Imagens\\\\PROJETO FINAL TESTE\\\\familia\\534aaa104f.jpg\nSUCCESS - saved https://www.frasesdobem.com.br/wp-content/uploads/2019/02/familia-e-a-coisa.png - as D:\\\\Imagens\\\\PROJETO FINAL TESTE\\\\familia\\edaabef9f4.jpg\nSUCCESS - saved https://encrypted-tbn0.gstatic.com/images?q=tbn%3AANd9GcQWtfQLImKoAhnj7SCwnQcnATIHkkhLScAv4_B6puLN2AuGNOjO&usqp=CAU - as D:\\\\Imagens\\\\PROJETO FINAL TESTE\\\\familia\\9576ca47a0.jpg\nSUCCESS - saved https://encrypted-tbn0.gstatic.com/images?q=tbn%3AANd9GcScdDWFMSNmTErsWuPNzsvHXTaBPWXtq-_4YIDjHTZ7JhB8IvHL&usqp=CAU - as D:\\\\Imagens\\\\PROJETO FINAL TESTE\\\\familia\\73452d5c3c.jpg\nSUCCESS - saved https://encrypted-tbn0.gstatic.com/images?q=tbn%3AANd9GcRLshkX-uLU-KvBISSVeaPrQ0AXYlQ7NOZbejtQCYcxGUFLQ1Z8&usqp=CAU - as D:\\\\Imagens\\\\PROJETO FINAL TESTE\\\\familia\\8106663e93.jpg\nSUCCESS - saved https://i2.wp.com/agiliza.nextel.com.br/wp-content/uploads/2019/04/banners_nextelagiliza_1200x586Conhe%C3%A7a-o-Plano-fam%C3%ADlia-da-Nextel.jpg?fit=1200%2C586&ssl=1 - as D:\\\\Imagens\\\\PROJETO FINAL TESTE\\\\familia\\9ac455a050.jpg\nSUCCESS - saved https://encrypted-tbn0.gstatic.com/images?q=tbn%3AANd9GcQ-eRO2sCIUvtpLjvjoeOO2Al2WHSa54gR0sYZJ72VIsQ9FzJQX&usqp=CAU - as D:\\\\Imagens\\\\PROJETO FINAL TESTE\\\\familia\\9c863a8aaf.jpg\nSUCCESS - saved https://uploads.metropoles.com/wp-content/uploads/2020/03/11170632/Fam%C3%ADlia-Poncio.jpg - as D:\\\\Imagens\\\\PROJETO FINAL TESTE\\\\familia\\a6dcb22128.jpg\nSUCCESS - saved https://encrypted-tbn0.gstatic.com/images?q=tbn%3AANd9GcSCrtK2qTW3_Vi2gU9meRl7tFhhsRA2JcHVqV97Oi_FhHAOe4uK&usqp=CAU - as D:\\\\Imagens\\\\PROJETO FINAL TESTE\\\\familia\\d9eed3feaa.jpg\nSUCCESS - saved https://encrypted-tbn0.gstatic.com/images?q=tbn%3AANd9GcR1tTbjojW-4MBCp-xAYbIZWyPs2G5wEe_PvCNxONjgkeGi0z6v&usqp=CAU - as D:\\\\Imagens\\\\PROJETO FINAL TESTE\\\\familia\\207893860c.jpg\nSUCCESS - saved https://encrypted-tbn0.gstatic.com/images?q=tbn%3AANd9GcSYeTGmLog9XO2ey8eB6zfN45rZt4-nio_tHBkdjp3zZKENttKJ&usqp=CAU - as D:\\\\Imagens\\\\PROJETO FINAL TESTE\\\\familia\\0a7db02f70.jpg\nSUCCESS - saved https://encrypted-tbn0.gstatic.com/images?q=tbn%3AANd9GcTEphb6ID-WvJQwxkjI_M14BPrlLeEyHERmT94QCvcjHMjBHYJ0&usqp=CAU - as D:\\\\Imagens\\\\PROJETO FINAL TESTE\\\\familia\\466a71a3ea.jpg\nSUCCESS - saved https://encrypted-tbn0.gstatic.com/images?q=tbn%3AANd9GcTYxz4Z7UPZL0fPaS20kNvNgaDTByDGBSW6KbFFvylt5UoMpTMn&usqp=CAU - as D:\\\\Imagens\\\\PROJETO FINAL TESTE\\\\familia\\6893d24087.jpg\nSUCCESS - saved https://encrypted-tbn0.gstatic.com/images?q=tbn%3AANd9GcS8F0TBE4SOk_H6tRAZIIabU3AM5Lxwv5WnK3eqJeKrYJtuII3g&usqp=CAU - as D:\\\\Imagens\\\\PROJETO FINAL TESTE\\\\familia\\f247a848a4.jpg\nERROR - Could not save https://qifinanceiro.com.br/wp-content/uploads/2016/05/dia-das-crian%C3%A7as-familia-feliz@2x.png - cannot identify image file <_io.BytesIO object at 0x0000020413678BE8>\nSUCCESS - saved https://img.cancaonova.com/cnimages/canais/uploads/sites/6/2018/11/formacao_1600x1200-como-podemos-fortalecer-o-amor-na-familia.jpg - as D:\\\\Imagens\\\\PROJETO FINAL TESTE\\\\familia\\0c3e982681.jpg\n"
    }
   ],
   "source": [
    "\n",
    "search_and_download(\n",
    "    search_term=SEARCH_TERM,\n",
    "    driver_path=DRIVER_PATH,\n",
    "    target_path=TARGET_PATH,\n",
    "    number_images=100\n",
    ")"
   ]
  },
  {
   "cell_type": "code",
   "execution_count": 12,
   "metadata": {},
   "outputs": [
    {
     "output_type": "stream",
     "name": "stdout",
     "text": "TEMPO TOTAL:  0:02:55.567971\n"
    }
   ],
   "source": [
    "en = datetime.now()\n",
    "print('TEMPO TOTAL: ', (en-st))"
   ]
  }
 ]
}