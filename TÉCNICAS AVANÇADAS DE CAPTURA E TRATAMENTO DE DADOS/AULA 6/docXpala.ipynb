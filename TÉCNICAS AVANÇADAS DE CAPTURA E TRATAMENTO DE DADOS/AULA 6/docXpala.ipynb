{
 "cells": [
  {
   "cell_type": "markdown",
   "metadata": {},
   "source": [
    "# <span style=\"color:blue\"> MBA em Ciência de Dados</span>\n",
    "# <span style=\"color:blue\">Técnicas Avançadas para Captura e Tratamento de Dados</span>\n",
    "\n",
    "## <span style=\"color:blue\"> Matriz Documento $\\times$ Palavras - Bag of Words</span>\n",
    "**Material Produzido por Luis Gustavo Nonato**<br>\n",
    "**Cemeai - ICMC/USP São Carlos**\n",
    "---"
   ]
  },
  {
   "cell_type": "markdown",
   "metadata": {},
   "source": [
    "---\n",
    "## Conteúdo\n",
    "- Introdução\n",
    "- Pré-processamento\n",
    "    - Extração de palavras\n",
    "    - Limpesa de símbolos\n",
    "    - Stemming\n",
    "- Construção da Matriz Documentos $\\times$ Palavras\n",
    "    - TF-IDF\n",
    "    - Remoção das palavras mais e menos frequentes\n",
    "    \n",
    "**Bibliografia**\n",
    "- https://www.nltk.org/book/"
   ]
  },
  {
   "cell_type": "markdown",
   "metadata": {},
   "source": [
    "Os códigos abaixo fazem uso da coleção de documentos presente no diretório `DocCol1` contido no arquivo <font style=\"font-family: monaco\"> DocCol.zip </font>, o qual pode ser baixado do Moodle."
   ]
  },
  {
   "cell_type": "markdown",
   "metadata": {},
   "source": [
    "## Introdução\n",
    "Analisar, comparar e agrupar documentos textuais com base na similaridade de seus conteúdos são tarefas essenciais em muitas aplicações, como análise de sentimentos, levantamento de fatos históricos, etc. \n",
    "\n",
    "Porém, documentos são conjuntos de textos no formato ASCII, portanto, são dados não estruturados, o que dificulta as tarefas de análise e comparação. Desta forma, é necessário \"vetorizar\" textos a fim de viabilizar que processos matemáticos e computacionais possar ser empregados.\n",
    "\n",
    "Uma forma bastante importante de \"vetorizar\" documentos é por meio das denominadas matrizes <font color='blue'>Documentos $\\times$ Palavras</font>."
   ]
  },
  {
   "cell_type": "markdown",
   "metadata": {},
   "source": [
    "O processo de vetorização envolve a extração de palavras relevantes contidas nos textos, descartando símbolos, pontuação, artigos definidos e indefinidos, preposições, pronomes, etc.\n",
    "```\n",
    "From: rstimets@silver.ucs.indiana.edu (robert and stimets)\n",
    "Subject: Reds snap 5-game losing streak: RedReport 4-18\n",
    "\n",
    "Kevin Mitchell's sacrifice fly in the eighth off Brett Saberhagen plated \n",
    "pitch runner Cesar Hernandez to give the Reds a 2-3 come-from-behind victory over \n",
    "New York. Hernandez ran for pinch-hitter Cecil Espy, who got the inning started \n",
    "with a solid single to right, moved to second on \"Bob\" Kelly's infield sneaker\n",
    "down the third-base line, and to third on Jeff Branson's well-placed bunt--a \n",
    "rare show of excellent execution by the recently hapless Reds offense.\n",
    ":\n",
    ":\n",
    "```"
   ]
  },
  {
   "cell_type": "markdown",
   "metadata": {},
   "source": [
    "## Pré-processamento\n",
    "A construção de uma matriz Documentos $\\times$ Palavras envolve diversas etapas de pré-processamento:\n",
    "\n",
    "1. Obter a \"string\" correspondente ao texto de cada documento\n",
    "2. Extrair as palavras de cada string\n",
    "3. Remover pontuação e símbolos\n",
    "4. Remover \"Stop Words\"\n",
    "5. Extrair bigramas, trigramas, etc\n",
    "5. Normalização Léxica"
   ]
  },
  {
   "cell_type": "markdown",
   "metadata": {},
   "source": [
    "### Obtendo String a partir de Coleção de Documentos"
   ]
  },
  {
   "cell_type": "code",
   "execution_count": 17,
   "metadata": {},
   "outputs": [
    {
     "name": "stdout",
     "output_type": "stream",
     "text": [
      "['DocCol1/sp2', 'DocCol1/sp5', 'DocCol1/ba25', 'DocCol1/ba22', 'DocCol1/ba14']\n"
     ]
    }
   ],
   "source": [
    "# Lendo o documento como uma string\n",
    "import glob  # glob é um pacote que permite varrer arquivos e \n",
    "             # diretorios utilizando sintaxe linux\n",
    "\n",
    "files = glob.glob(\"DocCol1/*\")\n",
    "print(files[:5])\n",
    "\n",
    "docs = ''\n",
    "for fname in files:\n",
    "    with open(fname,'r') as f:\n",
    "        docs = docs+' '+f.read()  # as strings de todos os documentos\n",
    "                                  # estão concatenadas na string 'docs'"
   ]
  },
  {
   "cell_type": "markdown",
   "metadata": {},
   "source": [
    "### Extraindo Palavras"
   ]
  },
  {
   "cell_type": "code",
   "execution_count": 4,
   "metadata": {},
   "outputs": [
    {
     "name": "stdout",
     "output_type": "stream",
     "text": [
      "['From', ':', 'leech', '@', 'cs.unc.edu', '(', 'Jon', 'Leech', ')', 'Subject', ':', 'Space', 'FAQ', '13/15', '-', 'Interest', 'Groups', '&', 'Publications', 'Archive-name']\n"
     ]
    }
   ],
   "source": [
    "# nltk.word_tokenize transforma a string em uma lista de palavras\n",
    "import nltk\n",
    "\n",
    "words = nltk.word_tokenize(docs) # extrai as palavras\n",
    "print(words[:20])    # 20 primeiras palavras extraidas"
   ]
  },
  {
   "cell_type": "markdown",
   "metadata": {},
   "source": [
    "### Removendo Símbolos e Caracteres Isolados"
   ]
  },
  {
   "cell_type": "code",
   "execution_count": 5,
   "metadata": {},
   "outputs": [
    {
     "name": "stdout",
     "output_type": "stream",
     "text": [
      "['from', 'leech', 'jon', 'leech', 'subject', 'space', 'faq', 'interest', 'groups', 'publications', 'date', 'space', 'groups', 'and', 'space', 'publications', 'groups', 'aia', 'aerospace', 'industry']\n"
     ]
    }
   ],
   "source": [
    "import string\n",
    "# removend todos os simbolos da lista de palavras\n",
    "# o método \"isalpha\" retorna True quando a string é \n",
    "# formada apenas por letras do alphabeto\n",
    "# string.ascii_letters contém a lista de todas as letras do alphabeto\n",
    "\n",
    "# remove simbolos da\n",
    "# lista de palavras\n",
    "words = [w.lower() for w in words if w.isalpha() and w not in string.ascii_letters]  \n",
    "\n",
    "print(words[:20])"
   ]
  },
  {
   "cell_type": "markdown",
   "metadata": {},
   "source": [
    "### Removendo Stop Words\n",
    "Algumas palavras não contribuem para a semântica dos documentos e devem ser removidas, pois geram um ruído que atrapalha as análises. O método <font color='blue'> stopwords </font> do pacote <font color='blue'> nltk </font> fornece, para várias línguas diferentes, uma lista do que se considera palavras irrelevântes para fins de análise semântica."
   ]
  },
  {
   "cell_type": "code",
   "execution_count": 18,
   "metadata": {},
   "outputs": [
    {
     "name": "stdout",
     "output_type": "stream",
     "text": [
      "['i', 'me', 'my', 'myself', 'we']\n",
      "['steph', 'dale', 'stephenson', 'subject', 'seer', 'stephenson', 'pick', 'east', 'run', 'complet', 'time', 'got', 'get', 'prophesi', 'predict', 'qualif', 'one', 'wors', 'finish', 'last']\n"
     ]
    }
   ],
   "source": [
    "from nltk.corpus import stopwords\n",
    "\n",
    "# lista das stop words\n",
    "stop_words = stopwords.words('english')\n",
    "print(stop_words[:5])\n",
    "\n",
    "words = [w for w in words if w not in stop_words]\n",
    "print(words[:20])"
   ]
  },
  {
   "cell_type": "markdown",
   "metadata": {},
   "source": [
    "### Bigramas, Trigramas, ...\n",
    "Algumas expressões compostas por duas (bigramas) ou mais palavras (n-gramas) contém grande significado semântico, sendo interessante mantê-las juntas na lista de palavras relevantes. O pacote <font color='blue'> nltk </font> contém métodos específicos para extrair bigramas, trigramas, etc."
   ]
  },
  {
   "cell_type": "code",
   "execution_count": 7,
   "metadata": {},
   "outputs": [
    {
     "name": "stdout",
     "output_type": "stream",
     "text": [
      "['national space', 'degrees fahrenheit', 'space center', 'astronomical society', 'degrees celsius', 'dewey larson', 'mark singer', 'thu apr', 'celsius degrees', 'jon leech']\n"
     ]
    }
   ],
   "source": [
    "from nltk import word_tokenize\n",
    "from nltk.collocations import * # collocations é o subpacote para \n",
    "                                # manipular n-gramas\n",
    "\n",
    "# BigramAssocMeasures() possui medidas de importância para n-gramas\n",
    "bigram_measures = nltk.collocations.BigramAssocMeasures() \n",
    "\n",
    "# econtrando os top 20 bigramas\n",
    "finder = BigramCollocationFinder.from_words(words)\n",
    "for i in finder.nbest(bigram_measures.raw_freq,20):\n",
    "    words.append(i[0].lower()+' '+i[1].lower())\n",
    "    \n",
    "print(words[-10:])"
   ]
  },
  {
   "cell_type": "markdown",
   "metadata": {},
   "source": [
    "## Normalização Léxica\n",
    "\n",
    "- Stemming\n",
    "- [Lematização](https://www.datacamp.com/community/tutorials/text-analytics-beginners-nltk)"
   ]
  },
  {
   "cell_type": "markdown",
   "metadata": {},
   "source": [
    "### Stemming\n",
    "Convertendo as palavras para sua forma base: \n",
    "\n",
    "ando, andando, andei, andarei $\\longrightarrow$ andar\n"
   ]
  },
  {
   "cell_type": "code",
   "execution_count": 6,
   "metadata": {},
   "outputs": [
    {
     "name": "stdout",
     "output_type": "stream",
     "text": [
      "['leech', 'jon', 'leech', 'subject', 'space', 'faq', 'interest', 'group', 'public', 'date', 'space', 'group', 'space', 'public', 'group', 'aia', 'aerospac', 'industri', 'associ', 'profession', 'group', 'primari', 'membership', 'major', 'aerospac', 'firm', 'headquart', 'dc', 'area', 'act', 'voic', 'aerospac', 'industri', 'opinion', 'usual', 'back', 'ream', 'analys', 'reput', 'firm', 'aia', 'address', 'need', 'aiaa', 'american', 'institut', 'aeronaut', 'astronaut', 'profession', 'associ', 'somewher', 'member', 'local', 'chapter', 'around', 'countri', 'largest', 'chapter', 'dc', 'area', 'member', 'la', 'member', 'san', 'francisco', 'member', 'houston', 'orang', 'counti', 'plu', 'student', 'chapter', 'union', 'act', 'repres', 'aviat', 'space', 'profession', 'engin', 'manag', 'financi', 'type', 'nationwid', 'hold', 'confer', 'year', 'space', 'aviat', 'topic', 'publish', 'technic', 'journal', 'aerospac', 'journal', 'journal', 'spacecraft', 'rocket', 'etc', 'technic', 'refer']\n"
     ]
    }
   ],
   "source": [
    "from nltk.stem import PorterStemmer\n",
    "\n",
    "words = [PorterStemmer().stem(w) for w in words]\n",
    "print(words[:100])"
   ]
  },
  {
   "cell_type": "markdown",
   "metadata": {},
   "source": [
    "## Construindo a Matriz Documentos $\\times$ Palavras\n",
    "A contrução de uma \"Bag of Words\" é feita aplicando todos os passos acima em cada documento, juntando todas as informações em um DataFrame (ou array), ou seja,\n",
    "\n",
    "$$\n",
    "\\begin{array}{c}\\\\\n",
    "Doc_1\\\\\n",
    "Doc_2\\\\\n",
    "\\vdots\\\\\n",
    "Doc_n\n",
    "\\end{array}\n",
    "\\quad\\Longrightarrow\\quad\n",
    "\\begin{array}{lcccc}\n",
    "     & palavra_1 & palavra_2 & \\cdots & palavra_m\\\\\n",
    "Doc_1 & 0 & 2 &  & 0\\\\ \n",
    "Doc_2 & 3 & 0 &  & 1\\\\\n",
    "      &   &   & \\vdots & \\\\\n",
    "Doc_n & 0 & 0 &  & 0\\\\     \n",
    "\\end{array}\n",
    "$$"
   ]
  },
  {
   "cell_type": "code",
   "execution_count": 8,
   "metadata": {},
   "outputs": [
    {
     "name": "stdout",
     "output_type": "stream",
     "text": [
      "sp2 --> {'leech': 2, 'jon': 1, 'subject': 1, 'space': 63, 'faq': 2, 'interest': 3, 'group': 13, 'public': 7, 'date': 1, 'aia': 2, 'aerospac': 13, 'industri': 5, 'associ': 6, 'profession': 5, 'primari': 1, 'membership': 11, 'major': 4, 'firm': 2, 'headquart': 1, 'dc': 7, 'area': 2, 'act': 4, 'voic': 1, 'opinion': 1, 'usual': 1, 'back': 1, 'ream': 1, 'analys': 1, 'reput': 1, 'address': 2, 'need': 2, 'aiaa': 3, 'american': 4, 'institut': 6, 'aeronaut': 2, 'astronaut': 7, 'somewher': 1, 'member': 8, 'local': 5, 'chapter': 7, 'around': 2, 'countri': 1, 'largest': 2, 'la': 2, 'san': 1, 'francisco': 1, 'houston': 1, 'orang': 1, 'counti': 1, 'plu': 1, 'student': 7, 'union': 1, 'repres': 2, 'aviat': 2, 'engin': 2, 'manag': 1, 'financi': 3, 'type': 1, 'nationwid': 1, 'hold': 2, 'confer': 6, 'year': 3, 'topic': 1, 'publish': 15, 'technic': 10, 'journal': 8, 'spacecraft': 2, 'rocket': 2, 'etc': 3, 'refer': 1, 'book': 2, 'sourc': 2, 'current': 4, 'state': 3, 'art': 1, 'paper': 3, 'proceed': 1, 'also': 4, 'offer': 3, 'continu': 1, 'educ': 5, 'class': 2, 'design': 4, 'committe': 3, 'standard': 1, 'societi': 11, 'central': 1, 'function': 1, 'provid': 3, 'job': 1, 'search': 2, 'health': 1, 'life': 2, 'insur': 1, 'lobbi': 3, 'appropri': 2, 'legisl': 5, 'one': 1, 'organ': 8, 'push': 1, 'ira': 1, 'individu': 3, 'retir': 1, 'account': 1, 'activ': 11, 'polici': 3, 'arm': 1, 'work': 1, 'directli': 2, 'media': 1, 'congress': 1, 'govern': 2, 'agenc': 2, 'liaison': 1, 'clearinghous': 1, 'inquiri': 1, 'technolog': 5, 'issu': 5, 'reason': 1, 'whole': 1, 'singl': 1, 'compani': 1, 'viewpoint': 1, 'less': 1, 'center': 1, 'promenad': 1, 'sw': 1, 'washington': 5, 'amsat': 2, 'develop': 9, 'small': 2, 'satellit': 5, 'sinc': 1, 'varieti': 2, 'use': 3, 'amateur': 2, 'radio': 1, 'enthusiast': 1, 'variou': 1, 'suppli': 1, 'quicktrak': 1, 'track': 1, 'softwar': 1, 'corpor': 1, 'box': 10, 'asera': 2, 'australian': 3, 'research': 6, 'organis': 2, 'coordin': 3, 'promot': 3, 'conduct': 2, 'r': 1, 'project': 5, 'australia': 2, 'involv': 2, 'intern': 8, 'primarili': 5, 'univers': 4, 'collabor': 1, 'includ': 6, 'sound': 1, 'especi': 1, 'microsatellit': 1, 'balloon': 1, 'payload': 2, 'level': 1, 'open': 2, 'person': 1, 'particip': 2, 'monthli': 5, 'newslett': 8, 'quarterli': 2, 'dual': 1, 'subscript': 2, 'ltd': 1, 'po': 4, 'ryde': 1, 'nsw': 1, 'email': 2, 'lindley': 1, 'bi': 3, 'british': 3, 'interplanetari': 2, 'probabl': 1, 'oldest': 1, 'two': 1, 'excel': 1, 'cover': 3, 'contain': 1, 'probe': 2, 'interstellar': 2, 'mission': 4, 'studi': 3, 'call': 1, 'south': 2, 'lambeth': 1, 'road': 3, 'london': 1, 'england': 1, 'due': 4, 'inform': 4, 'avail': 3, 'present': 1, 'isu': 4, 'dedic': 2, 'peac': 1, 'explor': 4, 'summer': 2, 'session': 1, 'program': 6, 'perman': 1, 'campu': 1, 'pleas': 1, 'send': 1, 'messag': 1, 'contact': 2, 'execut': 1, 'offic': 7, 'massachusett': 2, 'avenu': 4, 'floor': 1, 'cambridg': 2, 'phone': 1, 'fax': 3, 'defunct': 1, 'found': 4, 'keith': 1, 'carolyn': 1, 'henson': 1, 'advoc': 1, 'colon': 1, 'success': 2, 'prevent': 1, 'us': 4, 'un': 1, 'moon': 1, 'treati': 1, 'late': 2, 'merg': 1, 'nation': 7, 'form': 1, 'nsc': 1, 'club': 1, 'gener': 4, 'well': 1, 'known': 1, 'compris': 1, 'conduit': 1, 'social': 1, 'gather': 1, 'meet': 3, 'invit': 1, 'speaker': 1, 'heavi': 1, 'hitter': 1, 'field': 1, 'annual': 7, 'outlook': 1, 'definit': 1, 'data': 1, 'plan': 2, 'cheap': 1, 'approx': 2, 'nss': 4, 'distinguish': 1, 'network': 1, 'support': 7, 'agenda': 2, 'nasa': 3, 'station': 2, 'glossi': 3, 'magazin': 6, 'run': 4, 'shuttl': 2, 'launch': 1, 'tour': 1, 'hotlin': 1, 'telephon': 1, 'servic': 1, 'sponsor': 1, 'spacecaus': 6, 'spacepac': 6, 'polit': 5, 'regular': 1, 'depart': 1, 'pennsylvania': 3, 'planetari': 4, 'carl': 1, 'sagan': 1, 'advocaci': 1, 'seti': 1, 'hardwar': 1, 'scienc': 2, 'recent': 1, 'amend': 1, 'man': 1, 'mar': 1, 'north': 1, 'catalina': 1, 'pasadena': 2, 'ca': 3, 'ssi': 3, 'gerard': 1, 'physicist': 1, 'freeman': 1, 'dyson': 1, 'took': 1, 'presid': 1, 'death': 1, 'bimonthli': 3, 'describ': 2, 'lunar': 2, 'mine': 1, 'process': 3, 'simul': 1, 'composit': 1, 'materi': 1, 'solar': 2, 'power': 1, 'biennial': 1, 'princeton': 3, 'manufactur': 1, 'senior': 1, 'fund': 2, 'rosedal': 1, 'nj': 2, 'sed': 3, 'mit': 2, 'high': 2, 'school': 1, 'world': 6, 'entir': 1, 'independ': 1, 'scholarship': 1, 'competit': 1, 'contest': 1, 'room': 1, 'odyssey': 1, 'determin': 1, 'part': 2, 'famili': 2, 'news': 11, 'receiv': 1, 'discount': 2, 'activist': 2, 'leader': 1, 'interact': 1, 'staff': 1, 'oper': 2, 'west': 1, 'coast': 1, 'ave': 2, 'se': 2, 'ocean': 1, 'park': 1, 'blvd': 1, 'suit': 2, 'santa': 1, 'monica': 1, 'action': 1, 'candid': 2, 'updat': 1, 'handbook': 1, 'price': 1, 'region': 1, 'elect': 1, 'contribut': 2, 'money': 2, 'volunt': 1, 'unit': 2, 'foundat': 4, 'donat': 1, 'understand': 1, 'host': 1, 'teacher': 2, 'other': 2, 'lesson': 1, 'teach': 1, 'basic': 1, 'skill': 1, 'read': 1, 'spacewatch': 1, 'b': 1, 'w': 1, 'ussf': 1, 'event': 1, 'charter': 1, 'first': 1, 'colleg': 1, 'elementari': 1, 'founder': 1, 'colorado': 1, 'spring': 1, 'co': 2, 'build': 1, 'longer': 1, 'similar': 1, 'mani': 1, 'jpl': 1, 'employe': 1, 'lend': 1, 'talent': 1, 'wsf': 1, 'partial': 1, 'palomar': 1, 'sky': 1, 'survey': 1, 'extrem': 1, 'asteroid': 1, 'page': 1, 'minimum': 1, 'alway': 2, 'welcom': 1, 'post': 1, 'california': 1, 'daili': 3, 'good': 5, 'coverag': 5, 'air': 1, 'smithsonian': 1, 'boulder': 1, 'esa': 1, 'european': 1, 'period': 1, 'free': 5, 'charg': 1, 'document': 1, 'detail': 2, 'ame': 1, 'archiv': 1, 'final': 2, 'frontier': 2, 'histori': 1, 'review': 1, 'articl': 1, 'wonder': 1, 'system': 2, 'everyth': 1, 'want': 1, 'know': 1, 'militari': 2, 'mt': 1, 'morri': 1, 'il': 1, 'canada': 1, 'elsewher': 2, 'weekli': 2, 'civil': 1, 'said': 1, 'busi': 6, 'spotti': 1, 'springfield': 2, 'va': 2, 'may': 1, 'time': 1, 'aa': 2, 'roll': 1, 'mill': 1, 'place': 1, 'gp': 4, 'report': 2, 'new': 1, 'analysi': 1, 'affect': 1, 'product': 1, 'shape': 1, 'applic': 1, 'willamett': 1, 'eugen': 1, 'qualifi': 1, 'write': 2, 'sampl': 1, 'copi': 1, 'innov': 1, 'advanc': 1, 'concept': 1, 'revis': 1, 'version': 1, 'commerci': 2, 'encount': 1, 'diagram': 1, 'list': 1, 'experi': 1, 'interview': 1, 'peopl': 1, 'spaceflight': 2, 'mostli': 1, 'manifest': 1, 'schedul': 1, 'assess': 1, 'everi': 1, 'sewel': 1, 'trade': 1, 'calendar': 1, 'short': 1, 'paragraph': 1, 'note': 1, 'onlin': 1, 'fee': 1, 'unknown': 1, 'irregular': 1, 'internet': 1, 'column': 1, 'aspect': 1, 'limit': 1, 'edit': 1, 'seal': 1, 'beach': 1, 'follow': 2, 'phillip': 1, 'montros': 1, 'potomac': 1, 'mc': 1, 'defens': 2, 'overview': 1, 'undocu': 1, 'anyon': 1, 'would': 1, 'care': 1, 'descript': 1, 'mention': 2, 'inclus': 1, 'answer': 1, 'encourag': 1, 'next': 1, 'becom': 1}\n"
     ]
    }
   ],
   "source": [
    "# constuindo um dicionario onde a chave é o rótulo do documento e o valor \n",
    "# as palavras que ocorrem no documento\n",
    "import glob\n",
    "import nltk\n",
    "from nltk.corpus import stopwords\n",
    "from nltk.stem import PorterStemmer\n",
    "from collections import Counter\n",
    "\n",
    "# lista das stop words\n",
    "stop_words = stopwords.words('english')\n",
    "\n",
    "files = glob.glob(\"DocCol1/*\")\n",
    "\n",
    "ddocs = {}\n",
    "for fname in files:\n",
    "    key = fname.split('/')[-1]  # rotulo do documento\n",
    "    with open(fname,'r') as f:\n",
    "        doc = f.read()\n",
    "        # obtendo palavras do documento\n",
    "        words = nltk.word_tokenize(doc) \n",
    "        # removendo simbolos\n",
    "        words = [w.lower() for w in words if w.isalpha()] \n",
    "        # removendo stop words\n",
    "        words = [w for w in words if w not in stop_words]\n",
    "        # stemming\n",
    "        words = [PorterStemmer().stem(w) for w in words]\n",
    "        # calculando a frequência de palavras\n",
    "        ddocs[key] = dict(Counter(words))\n",
    "      \n",
    "print(list(ddocs.keys())[0],'-->',ddocs[list(ddocs.keys())[0]])\n",
    "\n",
    "# No processo acima não incluimos bigramas ou trigramas, \n",
    "# como exercício, modifique o processo para incorporar\n",
    "# bigramas ou trigramas"
   ]
  },
  {
   "cell_type": "markdown",
   "metadata": {},
   "source": [
    "A variável `ddocs` é um dicionário onde cada chave é o nome de um documento e o valor correspondente é um outro dicionário, cuja chave é um palavra relevante do documento e o valor o número de ocorrências da palavra no documeto. Ou seja:\n",
    "```\n",
    "{\n",
    "    'Doc1' : {p1: np1, p2:np2,...}\n",
    "    'Doc2' : {p1: np1, p5:np2,...}\n",
    "      :\n",
    "      :\n",
    "}\n",
    "```"
   ]
  },
  {
   "cell_type": "code",
   "execution_count": 9,
   "metadata": {},
   "outputs": [
    {
     "name": "stdout",
     "output_type": "stream",
     "text": [
      "<built-in method values of dict object at 0x124c14360>\n",
      "['etr', 'centr', 'anchor', 'kirbi', 'twenti', 'tale', 'twin', 'bia', 'boondoggl', 'bryan']\n"
     ]
    }
   ],
   "source": [
    "# constrindo a lista de todas as palavras\n",
    "corpus = []\n",
    "print(ddocs.values)\n",
    "for v in ddocs.values():\n",
    "    corpus.extend(list(v.keys()))  # juntando as listas de \n",
    "                                   # palavras de cada documento\n",
    "    \n",
    "corpus = list(set(corpus)) # removendo palavras repetidas\n",
    "print(corpus[:10])"
   ]
  },
  {
   "cell_type": "code",
   "execution_count": 10,
   "metadata": {},
   "outputs": [
    {
     "name": "stdout",
     "output_type": "stream",
     "text": [
      "      etr  centr  anchor  kirbi  twenti  tale  twin  bia  boondoggl  bryan  \\\n",
      "sp2     0      0       0      0       0     0     0    0          0      0   \n",
      "sp5     0      0       0      0       0     0     0    0          0      0   \n",
      "ba25    0      0       0      0       0     0     0    0          0      0   \n",
      "ba22    0      0       0      0       0     0     0    0          0      0   \n",
      "ba14    0      0       0      0       0     0     0    0          0      0   \n",
      "\n",
      "      ...  wellingborough  tyuratam  column  jame  screwi  fund  compensatori  \\\n",
      "sp2   ...               0         0       1     0       0     2             0   \n",
      "sp5   ...               0         0       0     1       0     0             0   \n",
      "ba25  ...               0         0       0     0       0     0             0   \n",
      "ba22  ...               0         0       0     0       0     0             0   \n",
      "ba14  ...               0         0       0     0       0     0             0   \n",
      "\n",
      "      countless  nasm  analysi  \n",
      "sp2           0     0        1  \n",
      "sp5           0     0        1  \n",
      "ba25          0     0        1  \n",
      "ba22          0     0        2  \n",
      "ba14          0     0        0  \n",
      "\n",
      "[5 rows x 6670 columns]\n"
     ]
    }
   ],
   "source": [
    "# construindo um DataFrame onde os rótulos das colunas são\n",
    "# as palavras e os das linhas os documentos\n",
    "import pandas as pd\n",
    "import numpy as np\n",
    "\n",
    "rows = list(ddocs.keys())\n",
    "\n",
    "BoW = pd.DataFrame(data=np.zeros((len(rows),len(corpus))),\n",
    "                   columns=corpus,index=rows,dtype=int)\n",
    "\n",
    "for k in ddocs.keys():\n",
    "    BoW.loc[k,list(ddocs[k].keys())] = list(ddocs[k].values())\n",
    "\n",
    "print(BoW.head())    \n",
    "\n",
    "BoW.to_csv('bag_of_words.csv')"
   ]
  },
  {
   "cell_type": "markdown",
   "metadata": {},
   "source": [
    "### Removendo palavras mais e menos frequentes\n",
    "Palavras que aparecem em apenas um documento ou que aparece em quase todos os documentos não são úteis para discriminar os documentos."
   ]
  },
  {
   "cell_type": "code",
   "execution_count": 11,
   "metadata": {},
   "outputs": [],
   "source": [
    "df_mask = BoW != 0\n",
    "\n",
    "frequency = df_mask.sum(axis=0)\n",
    "smaller = 1.0\n",
    "larger = 0.7*BoW.shape[0]\n",
    "\n",
    "s_mask = (frequency <= smaller) | (frequency >= larger)\n",
    "words_to_remove = frequency[s_mask].index.values\n",
    "\n",
    "BoW = BoW.drop(words_to_remove, axis=1)"
   ]
  },
  {
   "cell_type": "markdown",
   "metadata": {},
   "source": [
    "### Visualizando os documentos\n",
    "Uma das aplicações interessantes de PCA é utilizar uma Bag of Words para encontrar tópicos associados aos documentos. A ideia é que palavras dentro de um mesmo tópico tendem a estar correlacionadas na Bag of Words e tais correlações tendem a ser capturadas pelas direções principais."
   ]
  },
  {
   "cell_type": "code",
   "execution_count": 12,
   "metadata": {},
   "outputs": [
    {
     "name": "stdout",
     "output_type": "stream",
     "text": [
      "{'sp': 0, 'ba': 2}\n",
      "(54, 2)\n"
     ]
    },
    {
     "name": "stderr",
     "output_type": "stream",
     "text": [
      "/anaconda3/lib/python3.7/site-packages/sklearn/utils/validation.py:595: DataConversionWarning: Data with input dtype int64 was converted to float64 by StandardScaler.\n",
      "  warnings.warn(msg, DataConversionWarning)\n",
      "/anaconda3/lib/python3.7/site-packages/sklearn/utils/validation.py:595: DataConversionWarning: Data with input dtype int64 was converted to float64 by StandardScaler.\n",
      "  warnings.warn(msg, DataConversionWarning)\n"
     ]
    }
   ],
   "source": [
    "from sklearn.decomposition import PCA\n",
    "from sklearn.preprocessing import StandardScaler\n",
    "\n",
    "docid = {}\n",
    "for i,c in enumerate(BoW.index.values):\n",
    "   if c[0:2] not in docid:\n",
    "      docid[c[0:2]] = i\n",
    "        \n",
    "print(docid)\n",
    "        \n",
    "doc_ids = [docid[c[0:2]] for c in BoW.index.values]\n",
    "\n",
    "X = BoW.values\n",
    "X = StandardScaler().fit_transform(X)\n",
    "\n",
    "pca_obj = PCA(n_components=2)\n",
    "Xpca = pca_obj.fit_transform(X)\n",
    "\n",
    "print(Xpca.shape)"
   ]
  },
  {
   "cell_type": "code",
   "execution_count": 13,
   "metadata": {},
   "outputs": [
    {
     "data": {
      "text/plain": [
       "<matplotlib.collections.PathCollection at 0x127686470>"
      ]
     },
     "execution_count": 13,
     "metadata": {},
     "output_type": "execute_result"
    },
    {
     "data": {
      "image/png": "[encoded data removed]",
      "text/plain": [
       "<Figure size 432x288 with 1 Axes>"
      ]
     },
     "metadata": {
      "needs_background": "light"
     },
     "output_type": "display_data"
    }
   ],
   "source": [
    "import matplotlib.pyplot as plt\n",
    "%matplotlib inline\n",
    "\n",
    "plt.scatter(Xpca[:,0],Xpca[:,1],c=doc_ids)"
   ]
  },
  {
   "cell_type": "code",
   "execution_count": 14,
   "metadata": {},
   "outputs": [
    {
     "data": {
      "text/plain": [
       "<matplotlib.collections.PathCollection at 0x1276f1c88>"
      ]
     },
     "execution_count": 14,
     "metadata": {},
     "output_type": "execute_result"
    },
    {
     "data": {
      "image/png": "[encoded data removed]",
      "text/plain": [
       "<Figure size 432x288 with 1 Axes>"
      ]
     },
     "metadata": {
      "needs_background": "light"
     },
     "output_type": "display_data"
    }
   ],
   "source": [
    "fig, ax = plt.subplots()\n",
    "ax.set_xlim(-15, 15)\n",
    "ax.set_ylim(-10, 10)\n",
    "\n",
    "plt.scatter(Xpca[:,0],Xpca[:,1],c=doc_ids)"
   ]
  },
  {
   "cell_type": "markdown",
   "metadata": {},
   "source": [
    "## Term Frequency and Inverse Document Frequency (TF-IDF)\n",
    "TF-IDF é uma técnica para quantificar a importância das palavra nos documentos.\n",
    "\n",
    "**Nomenclatura**:\n",
    "- t — palavra\n",
    "- d — documento (conjunto de palavras)\n",
    "- N — número de documentos\n",
    "\n",
    "#### TF\n",
    "TF mede a frequência de uma palavra em um documento. TF depende muito do tamanho do documento e da generalidade da palavra.\n",
    "\n",
    "$$\n",
    "TF(t,d)= \\frac{\\# t \\mbox{ em } d}{\\#\\mbox{ palavras em } d} \n",
    "$$\n",
    "\n",
    "#### IDF\n",
    "IDF mede o quão informativa cada palavra é no conjunto de documentos. Uma palavra que aparece frequentemente em muitos documentos não é útil para discriminar os documentos, portanto seu IDF deve ser próximo de zero.\n",
    "\n",
    "$$\n",
    "IDF(t) = \\frac{N}{\\# t \\mbox{ em todos os documentos}}\n",
    "$$\n",
    "\n",
    "Combinando tudo temos:\n",
    "\n",
    "$$\n",
    "TFIDF(t,d) = TF(t,d)*\\log(IDF(t))\n",
    "$$"
   ]
  },
  {
   "cell_type": "code",
   "execution_count": 15,
   "metadata": {},
   "outputs": [
    {
     "name": "stdout",
     "output_type": "stream",
     "text": [
      "(3319,)\n",
      "(54, 3319)\n",
      "(54, 3319)\n"
     ]
    }
   ],
   "source": [
    "X = BoW.values\n",
    "\n",
    "# calculando o IDF das palavras\n",
    "idf = X.shape[0]/np.sum(X,axis=0)\n",
    "print(idf.shape)\n",
    "\n",
    "# calculando TF\n",
    "X_tf = np.apply_along_axis(lambda x: x/np.sum(x),1,X)\n",
    "print(X_tf.shape)\n",
    "\n",
    "# calculando TF-IDF\n",
    "X_tfidf = np.apply_along_axis(lambda x: x*np.log(idf),1,X_tf)\n",
    "print(X_tfidf.shape)"
   ]
  },
  {
   "cell_type": "code",
   "execution_count": 16,
   "metadata": {},
   "outputs": [
    {
     "name": "stdout",
     "output_type": "stream",
     "text": [
      "(54, 2)\n"
     ]
    },
    {
     "data": {
      "text/plain": [
       "<matplotlib.collections.PathCollection at 0x12796bac8>"
      ]
     },
     "execution_count": 16,
     "metadata": {},
     "output_type": "execute_result"
    },
    {
     "data": {
      "image/png": "[encoded data removed]",
      "text/plain": [
       "<Figure size 432x288 with 1 Axes>"
      ]
     },
     "metadata": {
      "needs_background": "light"
     },
     "output_type": "display_data"
    }
   ],
   "source": [
    "from sklearn.decomposition import PCA\n",
    "from sklearn.preprocessing import StandardScaler\n",
    "\n",
    "X = StandardScaler().fit_transform(X_tfidf)\n",
    "\n",
    "pca_obj = PCA(n_components=2)\n",
    "Xpca = pca_obj.fit_transform(X)\n",
    "\n",
    "print(Xpca.shape)\n",
    "\n",
    "fig, ax = plt.subplots()\n",
    "#ax.set_xlim(-15,20)\n",
    "#ax.set_ylim(-20,20)\n",
    "plt.scatter(Xpca[:,0],Xpca[:,1],c=doc_ids)"
   ]
  }
 ],
 "metadata": {
  "kernelspec": {
   "display_name": "Python 3",
   "language": "python",
   "name": "python3"
  },
  "language_info": {
   "codemirror_mode": {
    "name": "ipython",
    "version": 3
   },
   "file_extension": ".py",
   "mimetype": "text/x-python",
   "name": "python",
   "nbconvert_exporter": "python",
   "pygments_lexer": "ipython3",
   "version": "3.7.1"
  }
 },
 "nbformat": 4,
 "nbformat_minor": 2
}
