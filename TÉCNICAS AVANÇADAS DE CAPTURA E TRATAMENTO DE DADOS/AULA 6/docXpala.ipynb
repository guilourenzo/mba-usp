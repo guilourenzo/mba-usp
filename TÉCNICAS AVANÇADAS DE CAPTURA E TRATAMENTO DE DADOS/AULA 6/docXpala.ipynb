{
 "cells": [
  {
   "cell_type": "markdown",
   "metadata": {},
   "source": [
    "# <span style=\"color:blue\"> MBA em Ciência de Dados</span>\n",
    "# <span style=\"color:blue\">Técnicas Avançadas para Captura e Tratamento de Dados</span>\n",
    "\n",
    "## <span style=\"color:blue\"> Matriz Documento $\\times$ Palavras - Bag of Words</span>\n",
    "**Material Produzido por Luis Gustavo Nonato**<br>\n",
    "**Cemeai - ICMC/USP São Carlos**\n",
    "---"
   ]
  },
  {
   "cell_type": "markdown",
   "metadata": {},
   "source": [
    "---\n",
    "## Conteúdo\n",
    "- Introdução\n",
    "- Pré-processamento\n",
    "    - Extração de palavras\n",
    "    - Limpesa de símbolos\n",
    "    - Stemming\n",
    "- Construção da Matriz Documentos $\\times$ Palavras\n",
    "    - TF-IDF\n",
    "    - Remoção das palavras mais e menos frequentes\n",
    "    \n",
    "**Bibliografia**\n",
    "- https://www.nltk.org/book/"
   ]
  },
  {
   "cell_type": "markdown",
   "metadata": {},
   "source": [
    "Os códigos abaixo fazem uso da coleção de documentos presente no diretório `DocCol1` contido no arquivo <font style=\"font-family: monaco\"> DocCol.zip </font>, o qual pode ser baixado do Moodle."
   ]
  },
  {
   "cell_type": "markdown",
   "metadata": {},
   "source": [
    "## Introdução\n",
    "Analisar, comparar e agrupar documentos textuais com base na similaridade de seus conteúdos são tarefas essenciais em muitas aplicações, como análise de sentimentos, levantamento de fatos históricos, etc. \n",
    "\n",
    "Porém, documentos são conjuntos de textos no formato ASCII, portanto, são dados não estruturados, o que dificulta as tarefas de análise e comparação. Desta forma, é necessário \"vetorizar\" textos a fim de viabilizar que processos matemáticos e computacionais possar ser empregados.\n",
    "\n",
    "Uma forma bastante importante de \"vetorizar\" documentos é por meio das denominadas matrizes <font color='blue'>Documentos $\\times$ Palavras</font>."
   ]
  },
  {
   "cell_type": "markdown",
   "metadata": {},
   "source": [
    "O processo de vetorização envolve a extração de palavras relevantes contidas nos textos, descartando símbolos, pontuação, artigos definidos e indefinidos, preposições, pronomes, etc.\n",
    "```\n",
    "From: rstimets@silver.ucs.indiana.edu (robert and stimets)\n",
    "Subject: Reds snap 5-game losing streak: RedReport 4-18\n",
    "\n",
    "Kevin Mitchell's sacrifice fly in the eighth off Brett Saberhagen plated \n",
    "pitch runner Cesar Hernandez to give the Reds a 2-3 come-from-behind victory over \n",
    "New York. Hernandez ran for pinch-hitter Cecil Espy, who got the inning started \n",
    "with a solid single to right, moved to second on \"Bob\" Kelly's infield sneaker\n",
    "down the third-base line, and to third on Jeff Branson's well-placed bunt--a \n",
    "rare show of excellent execution by the recently hapless Reds offense.\n",
    ":\n",
    ":\n",
    "```"
   ]
  },
  {
   "cell_type": "markdown",
   "metadata": {},
   "source": [
    "## Pré-processamento\n",
    "A construção de uma matriz Documentos $\\times$ Palavras envolve diversas etapas de pré-processamento:\n",
    "\n",
    "1. Obter a \"string\" correspondente ao texto de cada documento\n",
    "2. Extrair as palavras de cada string\n",
    "3. Remover pontuação e símbolos\n",
    "4. Remover \"Stop Words\"\n",
    "5. Extrair bigramas, trigramas, etc\n",
    "5. Normalização Léxica"
   ]
  },
  {
   "cell_type": "markdown",
   "metadata": {},
   "source": [
    "### Obtendo String a partir de Coleção de Documentos"
   ]
  },
  {
   "cell_type": "code",
   "execution_count": 1,
   "metadata": {},
   "outputs": [
    {
     "output_type": "stream",
     "name": "stdout",
     "text": "['DocCol1\\\\ba1', 'DocCol1\\\\ba10', 'DocCol1\\\\ba11', 'DocCol1\\\\ba12', 'DocCol1\\\\ba13']\n"
    }
   ],
   "source": [
    "# Lendo o documento como uma string\n",
    "import glob  # glob é um pacote que permite varrer arquivos e \n",
    "             # diretorios utilizando sintaxe linux\n",
    "\n",
    "files = glob.glob(\"DocCol1/*\")\n",
    "print(files[:5])\n",
    "\n",
    "docs = ''\n",
    "for fname in files:\n",
    "    with open(fname,'r') as f:\n",
    "        docs = docs+' '+f.read()  # as strings de todos os documentos\n",
    "                                  # estão concatenadas na string 'docs'"
   ]
  },
  {
   "cell_type": "markdown",
   "metadata": {},
   "source": [
    "### Extraindo Palavras"
   ]
  },
  {
   "cell_type": "code",
   "execution_count": 2,
   "metadata": {},
   "outputs": [],
   "source": [
    "# import nltk\n",
    "\n",
    "# nltk.download()"
   ]
  },
  {
   "cell_type": "code",
   "execution_count": 3,
   "metadata": {},
   "outputs": [
    {
     "output_type": "stream",
     "name": "stdout",
     "text": "['Subject', ':', 'Re', ':', 'Eck', 'vs', 'Rickey', '(', 'was', 'Re', ':', 'Rickey', \"'s\", 'whining', 'again', ')', 'From', ':', 'smith', '@']\n"
    }
   ],
   "source": [
    "# nltk.word_tokenize transforma a string em uma lista de palavras\n",
    "import nltk\n",
    "\n",
    "words = nltk.word_tokenize(docs) # extrai as palavras\n",
    "print(words[:20])    # 20 primeiras palavras extraidas"
   ]
  },
  {
   "cell_type": "markdown",
   "metadata": {},
   "source": [
    "### Removendo Símbolos e Caracteres Isolados"
   ]
  },
  {
   "cell_type": "code",
   "execution_count": 4,
   "metadata": {},
   "outputs": [
    {
     "output_type": "stream",
     "name": "stdout",
     "text": "['subject', 're', 'eck', 'vs', 'rickey', 'was', 're', 'rickey', 'whining', 'again', 'from', 'smith', 'brian', 'smith', 'in', 'article', 'david', 'tate', 'writes', 'read']\n"
    }
   ],
   "source": [
    "import string\n",
    "# removend todos os simbolos da lista de palavras\n",
    "# o método \"isalpha\" retorna True quando a string é \n",
    "# formada apenas por letras do alphabeto\n",
    "# string.ascii_letters contém a lista de todas as letras do alphabeto\n",
    "\n",
    "# remove simbolos da\n",
    "# lista de palavras\n",
    "words = [w.lower() for w in words if w.isalpha() and w not in string.ascii_letters]  \n",
    "\n",
    "print(words[:20])"
   ]
  },
  {
   "cell_type": "markdown",
   "metadata": {},
   "source": [
    "### Removendo Stop Words\n",
    "Algumas palavras não contribuem para a semântica dos documentos e devem ser removidas, pois geram um ruído que atrapalha as análises. O método <font color='blue'> stopwords </font> do pacote <font color='blue'> nltk </font> fornece, para várias línguas diferentes, uma lista do que se considera palavras irrelevântes para fins de análise semântica."
   ]
  },
  {
   "cell_type": "code",
   "execution_count": 5,
   "metadata": {},
   "outputs": [
    {
     "output_type": "stream",
     "name": "stdout",
     "text": "['i', 'me', 'my', 'myself', 'we']\n['subject', 'eck', 'vs', 'rickey', 'rickey', 'whining', 'smith', 'brian', 'smith', 'article', 'david', 'tate', 'writes', 'read', 'followups', 'thought', 'go', 'back', 'original', 'article']\n"
    }
   ],
   "source": [
    "from nltk.corpus import stopwords\n",
    "\n",
    "# lista das stop words\n",
    "stop_words = stopwords.words('english')\n",
    "print(stop_words[:5])\n",
    "\n",
    "words = [w for w in words if w not in stop_words]\n",
    "print(words[:20])"
   ]
  },
  {
   "cell_type": "markdown",
   "metadata": {},
   "source": [
    "### Bigramas, Trigramas, ...\n",
    "Algumas expressões compostas por duas (bigramas) ou mais palavras (n-gramas) contém grande significado semântico, sendo interessante mantê-las juntas na lista de palavras relevantes. O pacote <font color='blue'> nltk </font> contém métodos específicos para extrair bigramas, trigramas, etc."
   ]
  },
  {
   "cell_type": "code",
   "execution_count": 6,
   "metadata": {},
   "outputs": [
    {
     "output_type": "stream",
     "name": "stdout",
     "text": "['national space', 'degrees fahrenheit', 'space center', 'astronomical society', 'degrees celsius', 'dewey larson', 'mark singer', 'thu apr', 'celsius degrees', 'jon leech']\n"
    }
   ],
   "source": [
    "from nltk import word_tokenize\n",
    "from nltk.collocations import * # collocations é o subpacote para \n",
    "                                # manipular n-gramas\n",
    "\n",
    "# BigramAssocMeasures() possui medidas de importância para n-gramas\n",
    "bigram_measures = nltk.collocations.BigramAssocMeasures() \n",
    "\n",
    "# econtrando os top 20 bigramas\n",
    "finder = BigramCollocationFinder.from_words(words)\n",
    "for i in finder.nbest(bigram_measures.raw_freq,20):\n",
    "    words.append(i[0].lower()+' '+i[1].lower())\n",
    "    \n",
    "print(words[-10:])"
   ]
  },
  {
   "cell_type": "markdown",
   "metadata": {},
   "source": [
    "## Normalização Léxica\n",
    "\n",
    "- Stemming\n",
    "- [Lematização](https://www.datacamp.com/community/tutorials/text-analytics-beginners-nltk)"
   ]
  },
  {
   "cell_type": "markdown",
   "metadata": {},
   "source": [
    "### Stemming\n",
    "Convertendo as palavras para sua forma base: \n",
    "\n",
    "ando, andando, andei, andarei $\\longrightarrow$ andar\n"
   ]
  },
  {
   "cell_type": "code",
   "execution_count": 7,
   "metadata": {},
   "outputs": [
    {
     "output_type": "stream",
     "name": "stdout",
     "text": "['subject', 'eck', 'vs', 'rickey', 'rickey', 'whine', 'smith', 'brian', 'smith', 'articl', 'david', 'tate', 'write', 'read', 'followup', 'thought', 'go', 'back', 'origin', 'articl', 'make', 'specif', 'comment', 'method', 'jao', 'john', 'oswalt', 'said', 'obtain', 'play', 'play', 'record', 'comput', 'readabl', 'form', 'everi', 'major', 'leagu', 'basebal', 'game', 'past', 'sever', 'year', 'devis', 'algorithm', 'call', 'wrote', 'comput', 'program', 'calcul', 'everi', 'major', 'leagu', 'player', 'contribut', 'use', 'work', 'like', 'look', 'everi', 'situat', 'everi', 'game', 'basebal', 'season', 'situat', 'determin', 'inning', 'score', 'baserunn', 'mani', 'out', 'situat', 'count', 'mani', 'time', 'team', 'eventu', 'game', 'situat', 'occur', 'divid', 'number', 'time', 'situat', 'came', 'come', 'valu', 'situat', 'first', 'done', 'georg', 'lindsey', 'late', 'report', 'articl', 'investig', 'strategi', 'basebal', 'author']\n"
    }
   ],
   "source": [
    "from nltk.stem import PorterStemmer\n",
    "\n",
    "words = [PorterStemmer().stem(w) for w in words]\n",
    "print(words[:100])"
   ]
  },
  {
   "cell_type": "markdown",
   "metadata": {},
   "source": [
    "## Construindo a Matriz Documentos $\\times$ Palavras\n",
    "A contrução de uma \"Bag of Words\" é feita aplicando todos os passos acima em cada documento, juntando todas as informações em um DataFrame (ou array), ou seja,\n",
    "\n",
    "$$\n",
    "\\begin{array}{c}\\\\\n",
    "Doc_1\\\\\n",
    "Doc_2\\\\\n",
    "\\vdots\\\\\n",
    "Doc_n\n",
    "\\end{array}\n",
    "\\quad\\Longrightarrow\\quad\n",
    "\\begin{array}{lcccc}\n",
    "     & palavra_1 & palavra_2 & \\cdots & palavra_m\\\\\n",
    "Doc_1 & 0 & 2 &  & 0\\\\ \n",
    "Doc_2 & 3 & 0 &  & 1\\\\\n",
    "      &   &   & \\vdots & \\\\\n",
    "Doc_n & 0 & 0 &  & 0\\\\     \n",
    "\\end{array}\n",
    "$$"
   ]
  },
  {
   "cell_type": "code",
   "execution_count": 8,
   "metadata": {},
   "outputs": [
    {
     "output_type": "stream",
     "name": "stdout",
     "text": "DocCol1\\ba1 --> {'subject': 1, 'eck': 1, 'vs': 1, 'rickey': 2, 'whine': 1, 'smith': 3, 'brian': 2, 'articl': 4, 'david': 1, 'tate': 1, 'write': 1, 'read': 2, 'followup': 1, 'thought': 2, 'go': 2, 'back': 1, 'origin': 1, 'make': 2, 'specif': 1, 'comment': 2, 'method': 5, 'jao': 1, 'john': 7, 'oswalt': 1, 'said': 1, 'obtain': 2, 'play': 3, 'record': 2, 'comput': 2, 'readabl': 1, 'form': 1, 'everi': 4, 'major': 3, 'leagu': 3, 'basebal': 4, 'game': 19, 'past': 1, 'sever': 1, 'year': 3, 'devis': 1, 'algorithm': 1, 'call': 2, 'wrote': 1, 'program': 1, 'calcul': 1, 'player': 11, 'contribut': 3, 'use': 3, 'work': 3, 'like': 1, 'look': 7, 'situat': 14, 'season': 7, 'determin': 1, 'inning': 6, 'score': 11, 'baserunn': 1, 'mani': 11, 'out': 3, 'count': 1, 'time': 4, 'team': 15, 'eventu': 1, 'occur': 1, 'divid': 1, 'number': 6, 'came': 3, 'come': 3, 'valu': 11, 'first': 8, 'done': 2, 'georg': 2, 'lindsey': 3, 'late': 4, 'report': 3, 'investig': 1, 'strategi': 1, 'author': 1, 'journal': 1, 'oper': 1, 'research': 1, 'issu': 1, 'volum': 1, 'pp': 1, 'later': 1, 'pete': 1, 'palmer': 1, 'thing': 3, 'simul': 1, 'gener': 1, 'larger': 1, 'set': 1, 'data': 1, 'avoid': 1, 'kind': 1, 'anomali': 1, 'peopl': 1, 'worri': 1, 'thorn': 1, 'gari': 1, 'skoog': 1, 'modifi': 1, 'bit': 1, 'ad': 2, 'measur': 1, 'base': 3, 'directli': 1, 'margin': 1, 'run': 24, 'though': 1, 'win': 22, 'probabl': 10, 'result': 2, 'appli': 3, 'one': 5, 'bill': 1, 'jame': 1, 'abstract': 1, 'book': 1, 'help': 1, 'somebodi': 2, 'exampl': 3, 'might': 1, 'runner': 1, 'second': 3, 'regular': 1, 'last': 2, 'rocki': 1, 'marlin': 1, 'say': 5, 'ahead': 1, 'descript': 1, 'chang': 1, 'bat': 1, 'plu': 2, 'baserun': 1, 'amount': 1, 'get': 6, 'plate': 2, 'appear': 4, 'sum': 2, 'overal': 1, 'obvious': 1, 'whole': 1, 'alway': 1, 'credit': 2, 'batter': 3, 'pitcher': 5, 'valid': 1, 'involv': 1, 'ok': 1, 'big': 1, 'problem': 3, 'nobodi': 1, 'yet': 2, 'add': 5, 'total': 2, 'break': 1, 'joe': 1, 'fred': 5, 'etc': 3, 'way': 2, 'bob': 8, 'increas': 5, 'chanc': 9, 'pa': 3, 'mean': 8, 'fact': 2, 'unit': 1, 'screwi': 1, 'agre': 1, 'disagre': 1, 'effort': 1, 'loss': 3, 'correct': 1, 'someth': 3, 'would': 9, 'rather': 1, 'thu': 3, 'obviou': 1, 'posit': 2, 'associ': 2, 'statist': 7, 'disregard': 1, 'stat': 1, 'studi': 1, 'must': 1, 'sort': 1, 'relationship': 1, 'consid': 1, 'hit': 3, 'solo': 3, 'hr': 5, 'bottom': 1, 'scale': 1, 'fourth': 1, 'tie': 3, 'anoth': 4, 'seventh': 1, 'final': 1, 'ninth': 3, 'respons': 2, 'certainli': 2, 'defens': 2, 'includ': 1, 'pitch': 4, 'offens': 1, 'lot': 2, 'even': 1, 'close': 2, 'furthermor': 2, 'valuabl': 1, 'take': 2, 'lead': 3, 'see': 1, 'accru': 1, 'good': 3, 'rate': 1, 'combin': 1, 'amass': 1, 'clearli': 1, 'insist': 1, 'exactli': 2, 'averag': 3, 'rememb': 1, 'perform': 5, 'away': 1, 'neg': 4, 'case': 1, 'sure': 1, 'given': 3, 'sometim': 2, 'less': 1, 'also': 2, 'bad': 2, 'give': 6, 'may': 2, 'larg': 2, 'percentag': 1, 'pull': 1, 'night': 1, 'greg': 2, 'think': 2, 'right': 2, 'intuit': 1, 'mark': 1, 'closer': 5, 'enorm': 1, 'import': 4, 'outweigh': 1, 'prevent': 1, 'com': 1, 'doubl': 1, 'allow': 2, 'enough': 1, 'propos': 1, 'test': 1, 'predict': 3, 'quit': 1, 'accur': 1, 'without': 1, 'regard': 1, 'realli': 5, 'earli': 1, 'predictor': 1, 'smaller': 1, 'sampl': 1, 'size': 1, 'howev': 2, 'realiz': 1, 'els': 2, 'usual': 1, 'blow': 1, 'hard': 1, 'argu': 1, 'equal': 2, 'often': 2, 'lose': 1, 'hand': 1, 'starter': 1, 'still': 1, 'leav': 1, 'offenc': 1, 'either': 1, 'matter': 1, 'experi': 1, 'basketbal': 1, 'find': 4, 'point': 3, 'almost': 1, 'safe': 1, 'entir': 1, 'half': 2, 'sub': 1, 'bench': 1, 'sink': 1, 'free': 2, 'throw': 2, 'clock': 1, 'star': 1, 'forward': 1, 'sprain': 1, 'ankl': 1, 'zero': 1, 'sens': 1, 'assum': 2, 'posses': 2, 'made': 1, 'left': 1, 'fairli': 1, 'high': 1, 'ball': 1, 'forget': 1, 'miss': 1, 'shot': 1, 'turnov': 1, 'foul': 1, 'caus': 1, 'discuss': 1, 'feel': 1, 'critis': 1, 'certain': 2, 'extent': 1, 'agenda': 1, 'valad': 1, 'clutch': 3, 'cluth': 1, 'revolv': 1, 'around': 1, 'idea': 1, 'crucial': 1, 'elev': 1, 'other': 1, 'goe': 1, 'never': 1, 'seen': 1, 'convinc': 1, 'proof': 1, 'happen': 1, 'except': 2, 'noic': 2, 'rid': 1, 'believ': 1, 'could': 1, 'home': 2, 'instanc': 1, 'strikeout': 1, 'decreas': 1, 'bet': 1, 'evalu': 1, 'relief': 1, 'sam': 2, 'exact': 1, 'earn': 1, 'k': 1, 'bb': 1, 'mop': 1, 'man': 1, 'valubl': 1, 'better': 1}\n"
    }
   ],
   "source": [
    "# constuindo um dicionario onde a chave é o rótulo do documento e o valor \n",
    "# as palavras que ocorrem no documento\n",
    "import glob\n",
    "import nltk\n",
    "from nltk.corpus import stopwords\n",
    "from nltk.stem import PorterStemmer\n",
    "from collections import Counter\n",
    "\n",
    "# lista das stop words\n",
    "stop_words = stopwords.words('english')\n",
    "\n",
    "files = glob.glob(\"DocCol1/*\")\n",
    "\n",
    "ddocs = {}\n",
    "for fname in files:\n",
    "    key = fname.split('/')[-1]  # rotulo do documento\n",
    "    with open(fname,'r') as f:\n",
    "        doc = f.read()\n",
    "        # obtendo palavras do documento\n",
    "        words = nltk.word_tokenize(doc) \n",
    "        # removendo simbolos\n",
    "        words = [w.lower() for w in words if w.isalpha()] \n",
    "        # removendo stop words\n",
    "        words = [w for w in words if w not in stop_words]\n",
    "        # stemming\n",
    "        words = [PorterStemmer().stem(w) for w in words]\n",
    "        # calculando a frequência de palavras\n",
    "        ddocs[key] = dict(Counter(words))\n",
    "      \n",
    "print(list(ddocs.keys())[0],'-->',ddocs[list(ddocs.keys())[0]])\n",
    "\n",
    "# No processo acima não incluimos bigramas ou trigramas, \n",
    "# como exercício, modifique o processo para incorporar\n",
    "# bigramas ou trigramas"
   ]
  },
  {
   "cell_type": "markdown",
   "metadata": {},
   "source": [
    "A variável `ddocs` é um dicionário onde cada chave é o nome de um documento e o valor correspondente é um outro dicionário, cuja chave é um palavra relevante do documento e o valor o número de ocorrências da palavra no documeto. Ou seja:\n",
    "```\n",
    "{\n",
    "    'Doc1' : {p1: np1, p2:np2,...}\n",
    "    'Doc2' : {p1: np1, p5:np2,...}\n",
    "      :\n",
    "      :\n",
    "}\n",
    "```"
   ]
  },
  {
   "cell_type": "code",
   "execution_count": 9,
   "metadata": {},
   "outputs": [
    {
     "output_type": "stream",
     "name": "stdout",
     "text": "<built-in method values of dict object at 0x000002118549D048>\n['brown', 'tie', 'moon', 'brochur', 'omit', 'sigh', 'sme', 'mvp', 'lunisolar', 'gregg']\n"
    }
   ],
   "source": [
    "# constrindo a lista de todas as palavras\n",
    "corpus = []\n",
    "print(ddocs.values)\n",
    "for v in ddocs.values():\n",
    "    corpus.extend(list(v.keys()))  # juntando as listas de \n",
    "                                   # palavras de cada documento\n",
    "    \n",
    "corpus = list(set(corpus)) # removendo palavras repetidas\n",
    "print(corpus[:10])"
   ]
  },
  {
   "cell_type": "code",
   "execution_count": 10,
   "metadata": {},
   "outputs": [
    {
     "output_type": "stream",
     "name": "stdout",
     "text": "brown  tie  moon  brochur  omit  sigh  sme  mvp  lunisolar  \\\nDocCol1\\ba1       0    3     0        0     0     0    0    0          0   \nDocCol1\\ba10      0    0     0        0     0     0    0    0          0   \nDocCol1\\ba11      0    0     0        0     0     0    0    0          0   \nDocCol1\\ba12      0    0     0        0     0     0    0    3          0   \nDocCol1\\ba13      0    0     0        0     0     0    0    0          0   \n\n              gregg  ...  yatsenko  buck  fascin  catalina  memori  senior  \\\nDocCol1\\ba1       0  ...         0     0       0         0       0       0   \nDocCol1\\ba10      0  ...         0     0       0         0       0       0   \nDocCol1\\ba11      0  ...         0     0       0         0       0       0   \nDocCol1\\ba12      0  ...         0     0       0         0       1       0   \nDocCol1\\ba13      0  ...         0     0       0         0       0       0   \n\n              streamlin  quantum  boston  poor  \nDocCol1\\ba1           0        0       0     0  \nDocCol1\\ba10          0        0       0     0  \nDocCol1\\ba11          0        0       0     0  \nDocCol1\\ba12          0        0       2     0  \nDocCol1\\ba13          0        0       0     0  \n\n[5 rows x 6670 columns]\n"
    }
   ],
   "source": [
    "# construindo um DataFrame onde os rótulos das colunas são\n",
    "# as palavras e os das linhas os documentos\n",
    "import pandas as pd\n",
    "import numpy as np\n",
    "\n",
    "rows = list(ddocs.keys())\n",
    "\n",
    "BoW = pd.DataFrame(data=np.zeros((len(rows),len(corpus))),\n",
    "                   columns=corpus,index=rows,dtype=int)\n",
    "\n",
    "for k in ddocs.keys():\n",
    "    BoW.loc[k,list(ddocs[k].keys())] = list(ddocs[k].values())\n",
    "\n",
    "print(BoW.head())    \n",
    "\n",
    "BoW.to_csv('bag_of_words.csv')"
   ]
  },
  {
   "cell_type": "markdown",
   "metadata": {},
   "source": [
    "### Removendo palavras mais e menos frequentes\n",
    "Palavras que aparecem em apenas um documento ou que aparece em quase todos os documentos não são úteis para discriminar os documentos."
   ]
  },
  {
   "cell_type": "code",
   "execution_count": 11,
   "metadata": {},
   "outputs": [],
   "source": [
    "df_mask = BoW != 0\n",
    "\n",
    "frequency = df_mask.sum(axis=0)\n",
    "smaller = 1.0\n",
    "larger = 0.7*BoW.shape[0]\n",
    "\n",
    "s_mask = (frequency <= smaller) | (frequency >= larger)\n",
    "words_to_remove = frequency[s_mask].index.values\n",
    "\n",
    "BoW = BoW.drop(words_to_remove, axis=1)"
   ]
  },
  {
   "cell_type": "markdown",
   "metadata": {},
   "source": [
    "### Visualizando os documentos\n",
    "Uma das aplicações interessantes de PCA é utilizar uma Bag of Words para encontrar tópicos associados aos documentos. A ideia é que palavras dentro de um mesmo tópico tendem a estar correlacionadas na Bag of Words e tais correlações tendem a ser capturadas pelas direções principais."
   ]
  },
  {
   "cell_type": "code",
   "execution_count": 12,
   "metadata": {},
   "outputs": [
    {
     "output_type": "stream",
     "name": "stdout",
     "text": "{'Do': 0}\n(54, 2)\n"
    }
   ],
   "source": [
    "from sklearn.decomposition import PCA\n",
    "from sklearn.preprocessing import StandardScaler\n",
    "\n",
    "docid = {}\n",
    "for i,c in enumerate(BoW.index.values):\n",
    "   if c[0:2] not in docid:\n",
    "      docid[c[0:2]] = i\n",
    "        \n",
    "print(docid)\n",
    "        \n",
    "doc_ids = [docid[c[0:2]] for c in BoW.index.values]\n",
    "\n",
    "X = BoW.values\n",
    "X = StandardScaler().fit_transform(X)\n",
    "\n",
    "pca_obj = PCA(n_components=2)\n",
    "Xpca = pca_obj.fit_transform(X)\n",
    "\n",
    "print(Xpca.shape)"
   ]
  },
  {
   "cell_type": "code",
   "execution_count": 13,
   "metadata": {},
   "outputs": [
    {
     "output_type": "execute_result",
     "data": {
      "text/plain": "<matplotlib.collections.PathCollection at 0x21187004388>"
     },
     "metadata": {},
     "execution_count": 13
    },
    {
     "output_type": "display_data",
     "data": {
      "text/plain": "<Figure size 432x288 with 1 Axes>",
      "image/svg+xml": "<?xml version=\"1.0\" encoding=\"utf-8\" standalone=\"no\"?>\r\n<!DOCTYPE svg PUBLIC \"-//W3C//DTD SVG 1.1//EN\"\r\n  \"http://www.w3.org/Graphics/SVG/1.1/DTD/svg11.dtd\">\r\n<!-- Created with matplotlib (https://matplotlib.org/) -->\r\n<svg height=\"248.518125pt\" version=\"1.1\" viewBox=\"0 0 377.304687 248.518125\" width=\"377.304687pt\" xmlns=\"http://www.w3.org/2000/svg\" xmlns:xlink=\"http://www.w3.org/1999/xlink\">\r\n <defs>\r\n  <style type=\"text/css\">\r\n*{stroke-linecap:butt;stroke-linejoin:round;}\r\n  </style>\r\n </defs>\r\n <g id=\"figure_1\">\r\n  <g id=\"patch_1\">\r\n   <path d=\"M 0 248.518125 \r\nL 377.304687 248.518125 \r\nL 377.304687 0 \r\nL 0 0 \r\nz\r\n\" style=\"fill:none;\"/>\r\n  </g>\r\n  <g id=\"axes_1\">\r\n   <g id=\"patch_2\">\r\n    <path d=\"M 35.304688 224.64 \r\nL 370.104688 224.64 \r\nL 370.104688 7.2 \r\nL 35.304688 7.2 \r\nz\r\n\" style=\"fill:#ffffff;\"/>\r\n   </g>\r\n   <g id=\"PathCollection_1\">\r\n    <defs>\r\n     <path d=\"M 0 3 \r\nC 0.795609 3 1.55874 2.683901 2.12132 2.12132 \r\nC 2.683901 1.55874 3 0.795609 3 0 \r\nC 3 -0.795609 2.683901 -1.55874 2.12132 -2.12132 \r\nC 1.55874 -2.683901 0.795609 -3 0 -3 \r\nC -0.795609 -3 -1.55874 -2.683901 -2.12132 -2.12132 \r\nC -2.683901 -1.55874 -3 -0.795609 -3 0 \r\nC -3 0.795609 -2.683901 1.55874 -2.12132 2.12132 \r\nC -1.55874 2.683901 -0.795609 3 0 3 \r\nz\r\n\" id=\"C0_0_373e77d09c\"/>\r\n    </defs>\r\n    <g clip-path=\"url(#p4ef7553245)\">\r\n     <use style=\"fill:#440154;stroke:#440154;\" x=\"60.443289\" xlink:href=\"#C0_0_373e77d09c\" y=\"163.299787\"/>\r\n    </g>\r\n    <g clip-path=\"url(#p4ef7553245)\">\r\n     <use style=\"fill:#440154;stroke:#440154;\" x=\"53.728837\" xlink:href=\"#C0_0_373e77d09c\" y=\"168.422198\"/>\r\n    </g>\r\n    <g clip-path=\"url(#p4ef7553245)\">\r\n     <use style=\"fill:#440154;stroke:#440154;\" x=\"55.494523\" xlink:href=\"#C0_0_373e77d09c\" y=\"165.08436\"/>\r\n    </g>\r\n    <g clip-path=\"url(#p4ef7553245)\">\r\n     <use style=\"fill:#440154;stroke:#440154;\" x=\"58.085494\" xlink:href=\"#C0_0_373e77d09c\" y=\"169.386975\"/>\r\n    </g>\r\n    <g clip-path=\"url(#p4ef7553245)\">\r\n     <use style=\"fill:#440154;stroke:#440154;\" x=\"54.485167\" xlink:href=\"#C0_0_373e77d09c\" y=\"168.111032\"/>\r\n    </g>\r\n    <g clip-path=\"url(#p4ef7553245)\">\r\n     <use style=\"fill:#440154;stroke:#440154;\" x=\"51.005168\" xlink:href=\"#C0_0_373e77d09c\" y=\"167.781081\"/>\r\n    </g>\r\n    <g clip-path=\"url(#p4ef7553245)\">\r\n     <use style=\"fill:#440154;stroke:#440154;\" x=\"50.522869\" xlink:href=\"#C0_0_373e77d09c\" y=\"167.294948\"/>\r\n    </g>\r\n    <g clip-path=\"url(#p4ef7553245)\">\r\n     <use style=\"fill:#440154;stroke:#440154;\" x=\"54.006798\" xlink:href=\"#C0_0_373e77d09c\" y=\"166.678847\"/>\r\n    </g>\r\n    <g clip-path=\"url(#p4ef7553245)\">\r\n     <use style=\"fill:#440154;stroke:#440154;\" x=\"56.994157\" xlink:href=\"#C0_0_373e77d09c\" y=\"166.915903\"/>\r\n    </g>\r\n    <g clip-path=\"url(#p4ef7553245)\">\r\n     <use style=\"fill:#440154;stroke:#440154;\" x=\"53.923786\" xlink:href=\"#C0_0_373e77d09c\" y=\"165.616341\"/>\r\n    </g>\r\n    <g clip-path=\"url(#p4ef7553245)\">\r\n     <use style=\"fill:#440154;stroke:#440154;\" x=\"57.242316\" xlink:href=\"#C0_0_373e77d09c\" y=\"166.761827\"/>\r\n    </g>\r\n    <g clip-path=\"url(#p4ef7553245)\">\r\n     <use style=\"fill:#440154;stroke:#440154;\" x=\"69.237066\" xlink:href=\"#C0_0_373e77d09c\" y=\"173.647848\"/>\r\n    </g>\r\n    <g clip-path=\"url(#p4ef7553245)\">\r\n     <use style=\"fill:#440154;stroke:#440154;\" x=\"56.071413\" xlink:href=\"#C0_0_373e77d09c\" y=\"166.412956\"/>\r\n    </g>\r\n    <g clip-path=\"url(#p4ef7553245)\">\r\n     <use style=\"fill:#440154;stroke:#440154;\" x=\"55.384541\" xlink:href=\"#C0_0_373e77d09c\" y=\"168.130195\"/>\r\n    </g>\r\n    <g clip-path=\"url(#p4ef7553245)\">\r\n     <use style=\"fill:#440154;stroke:#440154;\" x=\"54.87712\" xlink:href=\"#C0_0_373e77d09c\" y=\"165.929615\"/>\r\n    </g>\r\n    <g clip-path=\"url(#p4ef7553245)\">\r\n     <use style=\"fill:#440154;stroke:#440154;\" x=\"55.918408\" xlink:href=\"#C0_0_373e77d09c\" y=\"166.623912\"/>\r\n    </g>\r\n    <g clip-path=\"url(#p4ef7553245)\">\r\n     <use style=\"fill:#440154;stroke:#440154;\" x=\"54.644859\" xlink:href=\"#C0_0_373e77d09c\" y=\"165.761812\"/>\r\n    </g>\r\n    <g clip-path=\"url(#p4ef7553245)\">\r\n     <use style=\"fill:#440154;stroke:#440154;\" x=\"54.655393\" xlink:href=\"#C0_0_373e77d09c\" y=\"166.283432\"/>\r\n    </g>\r\n    <g clip-path=\"url(#p4ef7553245)\">\r\n     <use style=\"fill:#440154;stroke:#440154;\" x=\"61.548294\" xlink:href=\"#C0_0_373e77d09c\" y=\"163.182941\"/>\r\n    </g>\r\n    <g clip-path=\"url(#p4ef7553245)\">\r\n     <use style=\"fill:#440154;stroke:#440154;\" x=\"55.118047\" xlink:href=\"#C0_0_373e77d09c\" y=\"165.352134\"/>\r\n    </g>\r\n    <g clip-path=\"url(#p4ef7553245)\">\r\n     <use style=\"fill:#440154;stroke:#440154;\" x=\"54.898852\" xlink:href=\"#C0_0_373e77d09c\" y=\"165.530233\"/>\r\n    </g>\r\n    <g clip-path=\"url(#p4ef7553245)\">\r\n     <use style=\"fill:#440154;stroke:#440154;\" x=\"58.325012\" xlink:href=\"#C0_0_373e77d09c\" y=\"164.949326\"/>\r\n    </g>\r\n    <g clip-path=\"url(#p4ef7553245)\">\r\n     <use style=\"fill:#440154;stroke:#440154;\" x=\"56.004355\" xlink:href=\"#C0_0_373e77d09c\" y=\"165.725274\"/>\r\n    </g>\r\n    <g clip-path=\"url(#p4ef7553245)\">\r\n     <use style=\"fill:#440154;stroke:#440154;\" x=\"54.967511\" xlink:href=\"#C0_0_373e77d09c\" y=\"166.311365\"/>\r\n    </g>\r\n    <g clip-path=\"url(#p4ef7553245)\">\r\n     <use style=\"fill:#440154;stroke:#440154;\" x=\"54.285196\" xlink:href=\"#C0_0_373e77d09c\" y=\"167.415998\"/>\r\n    </g>\r\n    <g clip-path=\"url(#p4ef7553245)\">\r\n     <use style=\"fill:#440154;stroke:#440154;\" x=\"56.191436\" xlink:href=\"#C0_0_373e77d09c\" y=\"166.514688\"/>\r\n    </g>\r\n    <g clip-path=\"url(#p4ef7553245)\">\r\n     <use style=\"fill:#440154;stroke:#440154;\" x=\"52.71204\" xlink:href=\"#C0_0_373e77d09c\" y=\"167.848367\"/>\r\n    </g>\r\n    <g clip-path=\"url(#p4ef7553245)\">\r\n     <use style=\"fill:#440154;stroke:#440154;\" x=\"60.984644\" xlink:href=\"#C0_0_373e77d09c\" y=\"168.263877\"/>\r\n    </g>\r\n    <g clip-path=\"url(#p4ef7553245)\">\r\n     <use style=\"fill:#440154;stroke:#440154;\" x=\"56.900285\" xlink:href=\"#C0_0_373e77d09c\" y=\"166.442815\"/>\r\n    </g>\r\n    <g clip-path=\"url(#p4ef7553245)\">\r\n     <use style=\"fill:#440154;stroke:#440154;\" x=\"76.296087\" xlink:href=\"#C0_0_373e77d09c\" y=\"151.512853\"/>\r\n    </g>\r\n    <g clip-path=\"url(#p4ef7553245)\">\r\n     <use style=\"fill:#440154;stroke:#440154;\" x=\"138.565292\" xlink:href=\"#C0_0_373e77d09c\" y=\"160.228755\"/>\r\n    </g>\r\n    <g clip-path=\"url(#p4ef7553245)\">\r\n     <use style=\"fill:#440154;stroke:#440154;\" x=\"64.394382\" xlink:href=\"#C0_0_373e77d09c\" y=\"152.345622\"/>\r\n    </g>\r\n    <g clip-path=\"url(#p4ef7553245)\">\r\n     <use style=\"fill:#440154;stroke:#440154;\" x=\"82.457066\" xlink:href=\"#C0_0_373e77d09c\" y=\"159.414362\"/>\r\n    </g>\r\n    <g clip-path=\"url(#p4ef7553245)\">\r\n     <use style=\"fill:#440154;stroke:#440154;\" x=\"74.226857\" xlink:href=\"#C0_0_373e77d09c\" y=\"150.928872\"/>\r\n    </g>\r\n    <g clip-path=\"url(#p4ef7553245)\">\r\n     <use style=\"fill:#440154;stroke:#440154;\" x=\"97.571702\" xlink:href=\"#C0_0_373e77d09c\" y=\"127.593555\"/>\r\n    </g>\r\n    <g clip-path=\"url(#p4ef7553245)\">\r\n     <use style=\"fill:#440154;stroke:#440154;\" x=\"60.015918\" xlink:href=\"#C0_0_373e77d09c\" y=\"163.163653\"/>\r\n    </g>\r\n    <g clip-path=\"url(#p4ef7553245)\">\r\n     <use style=\"fill:#440154;stroke:#440154;\" x=\"65.908103\" xlink:href=\"#C0_0_373e77d09c\" y=\"155.464652\"/>\r\n    </g>\r\n    <g clip-path=\"url(#p4ef7553245)\">\r\n     <use style=\"fill:#440154;stroke:#440154;\" x=\"61.342113\" xlink:href=\"#C0_0_373e77d09c\" y=\"157.855892\"/>\r\n    </g>\r\n    <g clip-path=\"url(#p4ef7553245)\">\r\n     <use style=\"fill:#440154;stroke:#440154;\" x=\"80.985372\" xlink:href=\"#C0_0_373e77d09c\" y=\"162.056333\"/>\r\n    </g>\r\n    <g clip-path=\"url(#p4ef7553245)\">\r\n     <use style=\"fill:#440154;stroke:#440154;\" x=\"133.472139\" xlink:href=\"#C0_0_373e77d09c\" y=\"17.083636\"/>\r\n    </g>\r\n    <g clip-path=\"url(#p4ef7553245)\">\r\n     <use style=\"fill:#440154;stroke:#440154;\" x=\"72.639628\" xlink:href=\"#C0_0_373e77d09c\" y=\"140.505416\"/>\r\n    </g>\r\n    <g clip-path=\"url(#p4ef7553245)\">\r\n     <use style=\"fill:#440154;stroke:#440154;\" x=\"94.455598\" xlink:href=\"#C0_0_373e77d09c\" y=\"153.22236\"/>\r\n    </g>\r\n    <g clip-path=\"url(#p4ef7553245)\">\r\n     <use style=\"fill:#440154;stroke:#440154;\" x=\"175.182554\" xlink:href=\"#C0_0_373e77d09c\" y=\"145.968206\"/>\r\n    </g>\r\n    <g clip-path=\"url(#p4ef7553245)\">\r\n     <use style=\"fill:#440154;stroke:#440154;\" x=\"68.81858\" xlink:href=\"#C0_0_373e77d09c\" y=\"151.943089\"/>\r\n    </g>\r\n    <g clip-path=\"url(#p4ef7553245)\">\r\n     <use style=\"fill:#440154;stroke:#440154;\" x=\"64.123691\" xlink:href=\"#C0_0_373e77d09c\" y=\"161.045383\"/>\r\n    </g>\r\n    <g clip-path=\"url(#p4ef7553245)\">\r\n     <use style=\"fill:#440154;stroke:#440154;\" x=\"55.965115\" xlink:href=\"#C0_0_373e77d09c\" y=\"162.545261\"/>\r\n    </g>\r\n    <g clip-path=\"url(#p4ef7553245)\">\r\n     <use style=\"fill:#440154;stroke:#440154;\" x=\"354.886506\" xlink:href=\"#C0_0_373e77d09c\" y=\"214.756364\"/>\r\n    </g>\r\n    <g clip-path=\"url(#p4ef7553245)\">\r\n     <use style=\"fill:#440154;stroke:#440154;\" x=\"70.881009\" xlink:href=\"#C0_0_373e77d09c\" y=\"148.735525\"/>\r\n    </g>\r\n    <g clip-path=\"url(#p4ef7553245)\">\r\n     <use style=\"fill:#440154;stroke:#440154;\" x=\"64.586775\" xlink:href=\"#C0_0_373e77d09c\" y=\"157.667648\"/>\r\n    </g>\r\n    <g clip-path=\"url(#p4ef7553245)\">\r\n     <use style=\"fill:#440154;stroke:#440154;\" x=\"68.65897\" xlink:href=\"#C0_0_373e77d09c\" y=\"152.786659\"/>\r\n    </g>\r\n    <g clip-path=\"url(#p4ef7553245)\">\r\n     <use style=\"fill:#440154;stroke:#440154;\" x=\"65.149539\" xlink:href=\"#C0_0_373e77d09c\" y=\"153.926954\"/>\r\n    </g>\r\n    <g clip-path=\"url(#p4ef7553245)\">\r\n     <use style=\"fill:#440154;stroke:#440154;\" x=\"80.432167\" xlink:href=\"#C0_0_373e77d09c\" y=\"142.090646\"/>\r\n    </g>\r\n    <g clip-path=\"url(#p4ef7553245)\">\r\n     <use style=\"fill:#440154;stroke:#440154;\" x=\"102.845803\" xlink:href=\"#C0_0_373e77d09c\" y=\"117.254242\"/>\r\n    </g>\r\n    <g clip-path=\"url(#p4ef7553245)\">\r\n     <use style=\"fill:#440154;stroke:#440154;\" x=\"67.01075\" xlink:href=\"#C0_0_373e77d09c\" y=\"158.441358\"/>\r\n    </g>\r\n   </g>\r\n   <g id=\"matplotlib.axis_1\">\r\n    <g id=\"xtick_1\">\r\n     <g id=\"line2d_1\">\r\n      <defs>\r\n       <path d=\"M 0 0 \r\nL 0 3.5 \r\n\" id=\"mf104feff06\" style=\"stroke:#000000;stroke-width:0.8;\"/>\r\n      </defs>\r\n      <g>\r\n       <use style=\"stroke:#000000;stroke-width:0.8;\" x=\"73.509789\" xlink:href=\"#mf104feff06\" y=\"224.64\"/>\r\n      </g>\r\n     </g>\r\n     <g id=\"text_1\">\r\n      <!-- 0 -->\r\n      <defs>\r\n       <path d=\"M 31.78125 66.40625 \r\nQ 24.171875 66.40625 20.328125 58.90625 \r\nQ 16.5 51.421875 16.5 36.375 \r\nQ 16.5 21.390625 20.328125 13.890625 \r\nQ 24.171875 6.390625 31.78125 6.390625 \r\nQ 39.453125 6.390625 43.28125 13.890625 \r\nQ 47.125 21.390625 47.125 36.375 \r\nQ 47.125 51.421875 43.28125 58.90625 \r\nQ 39.453125 66.40625 31.78125 66.40625 \r\nz\r\nM 31.78125 74.21875 \r\nQ 44.046875 74.21875 50.515625 64.515625 \r\nQ 56.984375 54.828125 56.984375 36.375 \r\nQ 56.984375 17.96875 50.515625 8.265625 \r\nQ 44.046875 -1.421875 31.78125 -1.421875 \r\nQ 19.53125 -1.421875 13.0625 8.265625 \r\nQ 6.59375 17.96875 6.59375 36.375 \r\nQ 6.59375 54.828125 13.0625 64.515625 \r\nQ 19.53125 74.21875 31.78125 74.21875 \r\nz\r\n\" id=\"DejaVuSans-48\"/>\r\n      </defs>\r\n      <g transform=\"translate(70.328539 239.238437)scale(0.1 -0.1)\">\r\n       <use xlink:href=\"#DejaVuSans-48\"/>\r\n      </g>\r\n     </g>\r\n    </g>\r\n    <g id=\"xtick_2\">\r\n     <g id=\"line2d_2\">\r\n      <g>\r\n       <use style=\"stroke:#000000;stroke-width:0.8;\" x=\"117.271161\" xlink:href=\"#mf104feff06\" y=\"224.64\"/>\r\n      </g>\r\n     </g>\r\n     <g id=\"text_2\">\r\n      <!-- 20 -->\r\n      <defs>\r\n       <path d=\"M 19.1875 8.296875 \r\nL 53.609375 8.296875 \r\nL 53.609375 0 \r\nL 7.328125 0 \r\nL 7.328125 8.296875 \r\nQ 12.9375 14.109375 22.625 23.890625 \r\nQ 32.328125 33.6875 34.8125 36.53125 \r\nQ 39.546875 41.84375 41.421875 45.53125 \r\nQ 43.3125 49.21875 43.3125 52.78125 \r\nQ 43.3125 58.59375 39.234375 62.25 \r\nQ 35.15625 65.921875 28.609375 65.921875 \r\nQ 23.96875 65.921875 18.8125 64.3125 \r\nQ 13.671875 62.703125 7.8125 59.421875 \r\nL 7.8125 69.390625 \r\nQ 13.765625 71.78125 18.9375 73 \r\nQ 24.125 74.21875 28.421875 74.21875 \r\nQ 39.75 74.21875 46.484375 68.546875 \r\nQ 53.21875 62.890625 53.21875 53.421875 \r\nQ 53.21875 48.921875 51.53125 44.890625 \r\nQ 49.859375 40.875 45.40625 35.40625 \r\nQ 44.1875 33.984375 37.640625 27.21875 \r\nQ 31.109375 20.453125 19.1875 8.296875 \r\nz\r\n\" id=\"DejaVuSans-50\"/>\r\n      </defs>\r\n      <g transform=\"translate(110.908661 239.238437)scale(0.1 -0.1)\">\r\n       <use xlink:href=\"#DejaVuSans-50\"/>\r\n       <use x=\"63.623047\" xlink:href=\"#DejaVuSans-48\"/>\r\n      </g>\r\n     </g>\r\n    </g>\r\n    <g id=\"xtick_3\">\r\n     <g id=\"line2d_3\">\r\n      <g>\r\n       <use style=\"stroke:#000000;stroke-width:0.8;\" x=\"161.032533\" xlink:href=\"#mf104feff06\" y=\"224.64\"/>\r\n      </g>\r\n     </g>\r\n     <g id=\"text_3\">\r\n      <!-- 40 -->\r\n      <defs>\r\n       <path d=\"M 37.796875 64.3125 \r\nL 12.890625 25.390625 \r\nL 37.796875 25.390625 \r\nz\r\nM 35.203125 72.90625 \r\nL 47.609375 72.90625 \r\nL 47.609375 25.390625 \r\nL 58.015625 25.390625 \r\nL 58.015625 17.1875 \r\nL 47.609375 17.1875 \r\nL 47.609375 0 \r\nL 37.796875 0 \r\nL 37.796875 17.1875 \r\nL 4.890625 17.1875 \r\nL 4.890625 26.703125 \r\nz\r\n\" id=\"DejaVuSans-52\"/>\r\n      </defs>\r\n      <g transform=\"translate(154.670033 239.238437)scale(0.1 -0.1)\">\r\n       <use xlink:href=\"#DejaVuSans-52\"/>\r\n       <use x=\"63.623047\" xlink:href=\"#DejaVuSans-48\"/>\r\n      </g>\r\n     </g>\r\n    </g>\r\n    <g id=\"xtick_4\">\r\n     <g id=\"line2d_4\">\r\n      <g>\r\n       <use style=\"stroke:#000000;stroke-width:0.8;\" x=\"204.793906\" xlink:href=\"#mf104feff06\" y=\"224.64\"/>\r\n      </g>\r\n     </g>\r\n     <g id=\"text_4\">\r\n      <!-- 60 -->\r\n      <defs>\r\n       <path d=\"M 33.015625 40.375 \r\nQ 26.375 40.375 22.484375 35.828125 \r\nQ 18.609375 31.296875 18.609375 23.390625 \r\nQ 18.609375 15.53125 22.484375 10.953125 \r\nQ 26.375 6.390625 33.015625 6.390625 \r\nQ 39.65625 6.390625 43.53125 10.953125 \r\nQ 47.40625 15.53125 47.40625 23.390625 \r\nQ 47.40625 31.296875 43.53125 35.828125 \r\nQ 39.65625 40.375 33.015625 40.375 \r\nz\r\nM 52.59375 71.296875 \r\nL 52.59375 62.3125 \r\nQ 48.875 64.0625 45.09375 64.984375 \r\nQ 41.3125 65.921875 37.59375 65.921875 \r\nQ 27.828125 65.921875 22.671875 59.328125 \r\nQ 17.53125 52.734375 16.796875 39.40625 \r\nQ 19.671875 43.65625 24.015625 45.921875 \r\nQ 28.375 48.1875 33.59375 48.1875 \r\nQ 44.578125 48.1875 50.953125 41.515625 \r\nQ 57.328125 34.859375 57.328125 23.390625 \r\nQ 57.328125 12.15625 50.6875 5.359375 \r\nQ 44.046875 -1.421875 33.015625 -1.421875 \r\nQ 20.359375 -1.421875 13.671875 8.265625 \r\nQ 6.984375 17.96875 6.984375 36.375 \r\nQ 6.984375 53.65625 15.1875 63.9375 \r\nQ 23.390625 74.21875 37.203125 74.21875 \r\nQ 40.921875 74.21875 44.703125 73.484375 \r\nQ 48.484375 72.75 52.59375 71.296875 \r\nz\r\n\" id=\"DejaVuSans-54\"/>\r\n      </defs>\r\n      <g transform=\"translate(198.431406 239.238437)scale(0.1 -0.1)\">\r\n       <use xlink:href=\"#DejaVuSans-54\"/>\r\n       <use x=\"63.623047\" xlink:href=\"#DejaVuSans-48\"/>\r\n      </g>\r\n     </g>\r\n    </g>\r\n    <g id=\"xtick_5\">\r\n     <g id=\"line2d_5\">\r\n      <g>\r\n       <use style=\"stroke:#000000;stroke-width:0.8;\" x=\"248.555278\" xlink:href=\"#mf104feff06\" y=\"224.64\"/>\r\n      </g>\r\n     </g>\r\n     <g id=\"text_5\">\r\n      <!-- 80 -->\r\n      <defs>\r\n       <path d=\"M 31.78125 34.625 \r\nQ 24.75 34.625 20.71875 30.859375 \r\nQ 16.703125 27.09375 16.703125 20.515625 \r\nQ 16.703125 13.921875 20.71875 10.15625 \r\nQ 24.75 6.390625 31.78125 6.390625 \r\nQ 38.8125 6.390625 42.859375 10.171875 \r\nQ 46.921875 13.96875 46.921875 20.515625 \r\nQ 46.921875 27.09375 42.890625 30.859375 \r\nQ 38.875 34.625 31.78125 34.625 \r\nz\r\nM 21.921875 38.8125 \r\nQ 15.578125 40.375 12.03125 44.71875 \r\nQ 8.5 49.078125 8.5 55.328125 \r\nQ 8.5 64.0625 14.71875 69.140625 \r\nQ 20.953125 74.21875 31.78125 74.21875 \r\nQ 42.671875 74.21875 48.875 69.140625 \r\nQ 55.078125 64.0625 55.078125 55.328125 \r\nQ 55.078125 49.078125 51.53125 44.71875 \r\nQ 48 40.375 41.703125 38.8125 \r\nQ 48.828125 37.15625 52.796875 32.3125 \r\nQ 56.78125 27.484375 56.78125 20.515625 \r\nQ 56.78125 9.90625 50.3125 4.234375 \r\nQ 43.84375 -1.421875 31.78125 -1.421875 \r\nQ 19.734375 -1.421875 13.25 4.234375 \r\nQ 6.78125 9.90625 6.78125 20.515625 \r\nQ 6.78125 27.484375 10.78125 32.3125 \r\nQ 14.796875 37.15625 21.921875 38.8125 \r\nz\r\nM 18.3125 54.390625 \r\nQ 18.3125 48.734375 21.84375 45.5625 \r\nQ 25.390625 42.390625 31.78125 42.390625 \r\nQ 38.140625 42.390625 41.71875 45.5625 \r\nQ 45.3125 48.734375 45.3125 54.390625 \r\nQ 45.3125 60.0625 41.71875 63.234375 \r\nQ 38.140625 66.40625 31.78125 66.40625 \r\nQ 25.390625 66.40625 21.84375 63.234375 \r\nQ 18.3125 60.0625 18.3125 54.390625 \r\nz\r\n\" id=\"DejaVuSans-56\"/>\r\n      </defs>\r\n      <g transform=\"translate(242.192778 239.238437)scale(0.1 -0.1)\">\r\n       <use xlink:href=\"#DejaVuSans-56\"/>\r\n       <use x=\"63.623047\" xlink:href=\"#DejaVuSans-48\"/>\r\n      </g>\r\n     </g>\r\n    </g>\r\n    <g id=\"xtick_6\">\r\n     <g id=\"line2d_6\">\r\n      <g>\r\n       <use style=\"stroke:#000000;stroke-width:0.8;\" x=\"292.31665\" xlink:href=\"#mf104feff06\" y=\"224.64\"/>\r\n      </g>\r\n     </g>\r\n     <g id=\"text_6\">\r\n      <!-- 100 -->\r\n      <defs>\r\n       <path d=\"M 12.40625 8.296875 \r\nL 28.515625 8.296875 \r\nL 28.515625 63.921875 \r\nL 10.984375 60.40625 \r\nL 10.984375 69.390625 \r\nL 28.421875 72.90625 \r\nL 38.28125 72.90625 \r\nL 38.28125 8.296875 \r\nL 54.390625 8.296875 \r\nL 54.390625 0 \r\nL 12.40625 0 \r\nz\r\n\" id=\"DejaVuSans-49\"/>\r\n      </defs>\r\n      <g transform=\"translate(282.7729 239.238437)scale(0.1 -0.1)\">\r\n       <use xlink:href=\"#DejaVuSans-49\"/>\r\n       <use x=\"63.623047\" xlink:href=\"#DejaVuSans-48\"/>\r\n       <use x=\"127.246094\" xlink:href=\"#DejaVuSans-48\"/>\r\n      </g>\r\n     </g>\r\n    </g>\r\n    <g id=\"xtick_7\">\r\n     <g id=\"line2d_7\">\r\n      <g>\r\n       <use style=\"stroke:#000000;stroke-width:0.8;\" x=\"336.078022\" xlink:href=\"#mf104feff06\" y=\"224.64\"/>\r\n      </g>\r\n     </g>\r\n     <g id=\"text_7\">\r\n      <!-- 120 -->\r\n      <g transform=\"translate(326.534272 239.238437)scale(0.1 -0.1)\">\r\n       <use xlink:href=\"#DejaVuSans-49\"/>\r\n       <use x=\"63.623047\" xlink:href=\"#DejaVuSans-50\"/>\r\n       <use x=\"127.246094\" xlink:href=\"#DejaVuSans-48\"/>\r\n      </g>\r\n     </g>\r\n    </g>\r\n   </g>\r\n   <g id=\"matplotlib.axis_2\">\r\n    <g id=\"ytick_1\">\r\n     <g id=\"line2d_8\">\r\n      <defs>\r\n       <path d=\"M 0 0 \r\nL -3.5 0 \r\n\" id=\"m852cce3893\" style=\"stroke:#000000;stroke-width:0.8;\"/>\r\n      </defs>\r\n      <g>\r\n       <use style=\"stroke:#000000;stroke-width:0.8;\" x=\"35.304688\" xlink:href=\"#m852cce3893\" y=\"221.163965\"/>\r\n      </g>\r\n     </g>\r\n     <g id=\"text_8\">\r\n      <!-- −40 -->\r\n      <defs>\r\n       <path d=\"M 10.59375 35.5 \r\nL 73.1875 35.5 \r\nL 73.1875 27.203125 \r\nL 10.59375 27.203125 \r\nz\r\n\" id=\"DejaVuSans-8722\"/>\r\n      </defs>\r\n      <g transform=\"translate(7.2 224.963184)scale(0.1 -0.1)\">\r\n       <use xlink:href=\"#DejaVuSans-8722\"/>\r\n       <use x=\"83.789062\" xlink:href=\"#DejaVuSans-52\"/>\r\n       <use x=\"147.412109\" xlink:href=\"#DejaVuSans-48\"/>\r\n      </g>\r\n     </g>\r\n    </g>\r\n    <g id=\"ytick_2\">\r\n     <g id=\"line2d_9\">\r\n      <g>\r\n       <use style=\"stroke:#000000;stroke-width:0.8;\" x=\"35.304688\" xlink:href=\"#m852cce3893\" y=\"189.787699\"/>\r\n      </g>\r\n     </g>\r\n     <g id=\"text_9\">\r\n      <!-- −20 -->\r\n      <g transform=\"translate(7.2 193.586918)scale(0.1 -0.1)\">\r\n       <use xlink:href=\"#DejaVuSans-8722\"/>\r\n       <use x=\"83.789062\" xlink:href=\"#DejaVuSans-50\"/>\r\n       <use x=\"147.412109\" xlink:href=\"#DejaVuSans-48\"/>\r\n      </g>\r\n     </g>\r\n    </g>\r\n    <g id=\"ytick_3\">\r\n     <g id=\"line2d_10\">\r\n      <g>\r\n       <use style=\"stroke:#000000;stroke-width:0.8;\" x=\"35.304688\" xlink:href=\"#m852cce3893\" y=\"158.411433\"/>\r\n      </g>\r\n     </g>\r\n     <g id=\"text_10\">\r\n      <!-- 0 -->\r\n      <g transform=\"translate(21.942188 162.210652)scale(0.1 -0.1)\">\r\n       <use xlink:href=\"#DejaVuSans-48\"/>\r\n      </g>\r\n     </g>\r\n    </g>\r\n    <g id=\"ytick_4\">\r\n     <g id=\"line2d_11\">\r\n      <g>\r\n       <use style=\"stroke:#000000;stroke-width:0.8;\" x=\"35.304688\" xlink:href=\"#m852cce3893\" y=\"127.035167\"/>\r\n      </g>\r\n     </g>\r\n     <g id=\"text_11\">\r\n      <!-- 20 -->\r\n      <g transform=\"translate(15.579688 130.834386)scale(0.1 -0.1)\">\r\n       <use xlink:href=\"#DejaVuSans-50\"/>\r\n       <use x=\"63.623047\" xlink:href=\"#DejaVuSans-48\"/>\r\n      </g>\r\n     </g>\r\n    </g>\r\n    <g id=\"ytick_5\">\r\n     <g id=\"line2d_12\">\r\n      <g>\r\n       <use style=\"stroke:#000000;stroke-width:0.8;\" x=\"35.304688\" xlink:href=\"#m852cce3893\" y=\"95.658901\"/>\r\n      </g>\r\n     </g>\r\n     <g id=\"text_12\">\r\n      <!-- 40 -->\r\n      <g transform=\"translate(15.579688 99.458119)scale(0.1 -0.1)\">\r\n       <use xlink:href=\"#DejaVuSans-52\"/>\r\n       <use x=\"63.623047\" xlink:href=\"#DejaVuSans-48\"/>\r\n      </g>\r\n     </g>\r\n    </g>\r\n    <g id=\"ytick_6\">\r\n     <g id=\"line2d_13\">\r\n      <g>\r\n       <use style=\"stroke:#000000;stroke-width:0.8;\" x=\"35.304688\" xlink:href=\"#m852cce3893\" y=\"64.282635\"/>\r\n      </g>\r\n     </g>\r\n     <g id=\"text_13\">\r\n      <!-- 60 -->\r\n      <g transform=\"translate(15.579688 68.081853)scale(0.1 -0.1)\">\r\n       <use xlink:href=\"#DejaVuSans-54\"/>\r\n       <use x=\"63.623047\" xlink:href=\"#DejaVuSans-48\"/>\r\n      </g>\r\n     </g>\r\n    </g>\r\n    <g id=\"ytick_7\">\r\n     <g id=\"line2d_14\">\r\n      <g>\r\n       <use style=\"stroke:#000000;stroke-width:0.8;\" x=\"35.304688\" xlink:href=\"#m852cce3893\" y=\"32.906368\"/>\r\n      </g>\r\n     </g>\r\n     <g id=\"text_14\">\r\n      <!-- 80 -->\r\n      <g transform=\"translate(15.579688 36.705587)scale(0.1 -0.1)\">\r\n       <use xlink:href=\"#DejaVuSans-56\"/>\r\n       <use x=\"63.623047\" xlink:href=\"#DejaVuSans-48\"/>\r\n      </g>\r\n     </g>\r\n    </g>\r\n   </g>\r\n   <g id=\"patch_3\">\r\n    <path d=\"M 35.304688 224.64 \r\nL 35.304688 7.2 \r\n\" style=\"fill:none;stroke:#000000;stroke-linecap:square;stroke-linejoin:miter;stroke-width:0.8;\"/>\r\n   </g>\r\n   <g id=\"patch_4\">\r\n    <path d=\"M 370.104688 224.64 \r\nL 370.104688 7.2 \r\n\" style=\"fill:none;stroke:#000000;stroke-linecap:square;stroke-linejoin:miter;stroke-width:0.8;\"/>\r\n   </g>\r\n   <g id=\"patch_5\">\r\n    <path d=\"M 35.304688 224.64 \r\nL 370.104687 224.64 \r\n\" style=\"fill:none;stroke:#000000;stroke-linecap:square;stroke-linejoin:miter;stroke-width:0.8;\"/>\r\n   </g>\r\n   <g id=\"patch_6\">\r\n    <path d=\"M 35.304688 7.2 \r\nL 370.104687 7.2 \r\n\" style=\"fill:none;stroke:#000000;stroke-linecap:square;stroke-linejoin:miter;stroke-width:0.8;\"/>\r\n   </g>\r\n  </g>\r\n </g>\r\n <defs>\r\n  <clipPath id=\"p4ef7553245\">\r\n   <rect height=\"217.44\" width=\"334.8\" x=\"35.304688\" y=\"7.2\"/>\r\n  </clipPath>\r\n </defs>\r\n</svg>\r\n",
      "image/png": "[encoded data removed]"
     },
     "metadata": {
      "needs_background": "light"
     }
    }
   ],
   "source": [
    "import matplotlib.pyplot as plt\n",
    "%matplotlib inline\n",
    "\n",
    "plt.scatter(Xpca[:,0],Xpca[:,1],c=doc_ids)"
   ]
  },
  {
   "cell_type": "code",
   "execution_count": 14,
   "metadata": {},
   "outputs": [
    {
     "output_type": "execute_result",
     "data": {
      "text/plain": "<matplotlib.collections.PathCollection at 0x21185ce20c8>"
     },
     "metadata": {},
     "execution_count": 14
    },
    {
     "output_type": "display_data",
     "data": {
      "text/plain": "<Figure size 432x288 with 1 Axes>",
      "image/svg+xml": "<?xml version=\"1.0\" encoding=\"utf-8\" standalone=\"no\"?>\r\n<!DOCTYPE svg PUBLIC \"-//W3C//DTD SVG 1.1//EN\"\r\n  \"http://www.w3.org/Graphics/SVG/1.1/DTD/svg11.dtd\">\r\n<!-- Created with matplotlib (https://matplotlib.org/) -->\r\n<svg height=\"252.317344pt\" version=\"1.1\" viewBox=\"0 0 393.207812 252.317344\" width=\"393.207812pt\" xmlns=\"http://www.w3.org/2000/svg\" xmlns:xlink=\"http://www.w3.org/1999/xlink\">\r\n <defs>\r\n  <style type=\"text/css\">\r\n*{stroke-linecap:butt;stroke-linejoin:round;}\r\n  </style>\r\n </defs>\r\n <g id=\"figure_1\">\r\n  <g id=\"patch_1\">\r\n   <path d=\"M 0 252.317344 \r\nL 393.207812 252.317344 \r\nL 393.207812 0 \r\nL 0 0 \r\nz\r\n\" style=\"fill:none;\"/>\r\n  </g>\r\n  <g id=\"axes_1\">\r\n   <g id=\"patch_2\">\r\n    <path d=\"M 44.845313 228.439219 \r\nL 379.645313 228.439219 \r\nL 379.645313 10.999219 \r\nL 44.845313 10.999219 \r\nz\r\n\" style=\"fill:#ffffff;\"/>\r\n   </g>\r\n   <g id=\"PathCollection_1\">\r\n    <defs>\r\n     <path d=\"M 0 3 \r\nC 0.795609 3 1.55874 2.683901 2.12132 2.12132 \r\nC 2.683901 1.55874 3 0.795609 3 0 \r\nC 3 -0.795609 2.683901 -1.55874 2.12132 -2.12132 \r\nC 1.55874 -2.683901 0.795609 -3 0 -3 \r\nC -0.795609 -3 -1.55874 -2.683901 -2.12132 -2.12132 \r\nC -2.683901 -1.55874 -3 -0.795609 -3 0 \r\nC -3 0.795609 -2.683901 1.55874 -2.12132 2.12132 \r\nC -1.55874 2.683901 -0.795609 3 0 3 \r\nz\r\n\" id=\"C0_0_32687dfe8c\"/>\r\n    </defs>\r\n    <g clip-path=\"url(#p15ca434eb5)\">\r\n     <use style=\"fill:#440154;stroke:#440154;\" x=\"145.601089\" xlink:href=\"#C0_0_32687dfe8c\" y=\"153.595895\"/>\r\n    </g>\r\n    <g clip-path=\"url(#p15ca434eb5)\">\r\n     <use style=\"fill:#440154;stroke:#440154;\" x=\"111.354772\" xlink:href=\"#C0_0_32687dfe8c\" y=\"189.094612\"/>\r\n    </g>\r\n    <g clip-path=\"url(#p15ca434eb5)\">\r\n     <use style=\"fill:#440154;stroke:#440154;\" x=\"120.360457\" xlink:href=\"#C0_0_32687dfe8c\" y=\"165.963127\"/>\r\n    </g>\r\n    <g clip-path=\"url(#p15ca434eb5)\">\r\n     <use style=\"fill:#440154;stroke:#440154;\" x=\"133.575419\" xlink:href=\"#C0_0_32687dfe8c\" y=\"195.780594\"/>\r\n    </g>\r\n    <g clip-path=\"url(#p15ca434eb5)\">\r\n     <use style=\"fill:#440154;stroke:#440154;\" x=\"115.212348\" xlink:href=\"#C0_0_32687dfe8c\" y=\"186.938205\"/>\r\n    </g>\r\n    <g clip-path=\"url(#p15ca434eb5)\">\r\n     <use style=\"fill:#440154;stroke:#440154;\" x=\"97.463006\" xlink:href=\"#C0_0_32687dfe8c\" y=\"184.651617\"/>\r\n    </g>\r\n    <g clip-path=\"url(#p15ca434eb5)\">\r\n     <use style=\"fill:#440154;stroke:#440154;\" x=\"95.003093\" xlink:href=\"#C0_0_32687dfe8c\" y=\"181.282677\"/>\r\n    </g>\r\n    <g clip-path=\"url(#p15ca434eb5)\">\r\n     <use style=\"fill:#440154;stroke:#440154;\" x=\"112.772484\" xlink:href=\"#C0_0_32687dfe8c\" y=\"177.013049\"/>\r\n    </g>\r\n    <g clip-path=\"url(#p15ca434eb5)\">\r\n     <use style=\"fill:#440154;stroke:#440154;\" x=\"128.009173\" xlink:href=\"#C0_0_32687dfe8c\" y=\"178.65587\"/>\r\n    </g>\r\n    <g clip-path=\"url(#p15ca434eb5)\">\r\n     <use style=\"fill:#440154;stroke:#440154;\" x=\"112.349091\" xlink:href=\"#C0_0_32687dfe8c\" y=\"169.649803\"/>\r\n    </g>\r\n    <g clip-path=\"url(#p15ca434eb5)\">\r\n     <use style=\"fill:#440154;stroke:#440154;\" x=\"129.274882\" xlink:href=\"#C0_0_32687dfe8c\" y=\"177.588108\"/>\r\n    </g>\r\n    <g clip-path=\"url(#p15ca434eb5)\">\r\n     <use style=\"fill:#440154;stroke:#440154;\" x=\"190.452767\" xlink:href=\"#C0_0_32687dfe8c\" y=\"225.308777\"/>\r\n    </g>\r\n    <g clip-path=\"url(#p15ca434eb5)\">\r\n     <use style=\"fill:#440154;stroke:#440154;\" x=\"123.302821\" xlink:href=\"#C0_0_32687dfe8c\" y=\"175.170404\"/>\r\n    </g>\r\n    <g clip-path=\"url(#p15ca434eb5)\">\r\n     <use style=\"fill:#440154;stroke:#440154;\" x=\"119.799505\" xlink:href=\"#C0_0_32687dfe8c\" y=\"187.071007\"/>\r\n    </g>\r\n    <g clip-path=\"url(#p15ca434eb5)\">\r\n     <use style=\"fill:#440154;stroke:#440154;\" x=\"117.211465\" xlink:href=\"#C0_0_32687dfe8c\" y=\"171.820811\"/>\r\n    </g>\r\n    <g clip-path=\"url(#p15ca434eb5)\">\r\n     <use style=\"fill:#440154;stroke:#440154;\" x=\"122.522438\" xlink:href=\"#C0_0_32687dfe8c\" y=\"176.632347\"/>\r\n    </g>\r\n    <g clip-path=\"url(#p15ca434eb5)\">\r\n     <use style=\"fill:#440154;stroke:#440154;\" x=\"116.026842\" xlink:href=\"#C0_0_32687dfe8c\" y=\"170.657929\"/>\r\n    </g>\r\n    <g clip-path=\"url(#p15ca434eb5)\">\r\n     <use style=\"fill:#440154;stroke:#440154;\" x=\"116.080571\" xlink:href=\"#C0_0_32687dfe8c\" y=\"174.272792\"/>\r\n    </g>\r\n    <g clip-path=\"url(#p15ca434eb5)\">\r\n     <use style=\"fill:#440154;stroke:#440154;\" x=\"151.237042\" xlink:href=\"#C0_0_32687dfe8c\" y=\"152.786148\"/>\r\n    </g>\r\n    <g clip-path=\"url(#p15ca434eb5)\">\r\n     <use style=\"fill:#440154;stroke:#440154;\" x=\"118.440283\" xlink:href=\"#C0_0_32687dfe8c\" y=\"167.818824\"/>\r\n    </g>\r\n    <g clip-path=\"url(#p15ca434eb5)\">\r\n     <use style=\"fill:#440154;stroke:#440154;\" x=\"117.322304\" xlink:href=\"#C0_0_32687dfe8c\" y=\"169.053062\"/>\r\n    </g>\r\n    <g clip-path=\"url(#p15ca434eb5)\">\r\n     <use style=\"fill:#440154;stroke:#440154;\" x=\"134.797052\" xlink:href=\"#C0_0_32687dfe8c\" y=\"165.027334\"/>\r\n    </g>\r\n    <g clip-path=\"url(#p15ca434eb5)\">\r\n     <use style=\"fill:#440154;stroke:#440154;\" x=\"122.960797\" xlink:href=\"#C0_0_32687dfe8c\" y=\"170.404714\"/>\r\n    </g>\r\n    <g clip-path=\"url(#p15ca434eb5)\">\r\n     <use style=\"fill:#440154;stroke:#440154;\" x=\"117.672495\" xlink:href=\"#C0_0_32687dfe8c\" y=\"174.46637\"/>\r\n    </g>\r\n    <g clip-path=\"url(#p15ca434eb5)\">\r\n     <use style=\"fill:#440154;stroke:#440154;\" x=\"114.19242\" xlink:href=\"#C0_0_32687dfe8c\" y=\"182.121565\"/>\r\n    </g>\r\n    <g clip-path=\"url(#p15ca434eb5)\">\r\n     <use style=\"fill:#440154;stroke:#440154;\" x=\"123.914987\" xlink:href=\"#C0_0_32687dfe8c\" y=\"175.875412\"/>\r\n    </g>\r\n    <g clip-path=\"url(#p15ca434eb5)\">\r\n     <use style=\"fill:#440154;stroke:#440154;\" x=\"106.168714\" xlink:href=\"#C0_0_32687dfe8c\" y=\"185.117914\"/>\r\n    </g>\r\n    <g clip-path=\"url(#p15ca434eb5)\">\r\n     <use style=\"fill:#440154;stroke:#440154;\" x=\"148.362206\" xlink:href=\"#C0_0_32687dfe8c\" y=\"187.997434\"/>\r\n    </g>\r\n    <g clip-path=\"url(#p15ca434eb5)\">\r\n     <use style=\"fill:#440154;stroke:#440154;\" x=\"127.530392\" xlink:href=\"#C0_0_32687dfe8c\" y=\"175.37733\"/>\r\n    </g>\r\n    <g clip-path=\"url(#p15ca434eb5)\">\r\n     <use style=\"fill:#440154;stroke:#440154;\" x=\"226.456515\" xlink:href=\"#C0_0_32687dfe8c\" y=\"71.911512\"/>\r\n    </g>\r\n    <g clip-path=\"url(#p15ca434eb5)\">\r\n     <use style=\"fill:#440154;stroke:#440154;\" x=\"544.053651\" xlink:href=\"#C0_0_32687dfe8c\" y=\"132.313406\"/>\r\n    </g>\r\n    <g clip-path=\"url(#p15ca434eb5)\">\r\n     <use style=\"fill:#440154;stroke:#440154;\" x=\"165.753198\" xlink:href=\"#C0_0_32687dfe8c\" y=\"77.682671\"/>\r\n    </g>\r\n    <g clip-path=\"url(#p15ca434eb5)\">\r\n     <use style=\"fill:#440154;stroke:#440154;\" x=\"257.879902\" xlink:href=\"#C0_0_32687dfe8c\" y=\"126.669596\"/>\r\n    </g>\r\n    <g clip-path=\"url(#p15ca434eb5)\">\r\n     <use style=\"fill:#440154;stroke:#440154;\" x=\"215.902637\" xlink:href=\"#C0_0_32687dfe8c\" y=\"67.864484\"/>\r\n    </g>\r\n    <g clip-path=\"url(#p15ca434eb5)\">\r\n     <use style=\"fill:#440154;stroke:#440154;\" x=\"334.970417\" xlink:href=\"#C0_0_32687dfe8c\" y=\"-93.851109\"/>\r\n    </g>\r\n    <g clip-path=\"url(#p15ca434eb5)\">\r\n     <use style=\"fill:#440154;stroke:#440154;\" x=\"143.421332\" xlink:href=\"#C0_0_32687dfe8c\" y=\"152.652476\"/>\r\n    </g>\r\n    <g clip-path=\"url(#p15ca434eb5)\">\r\n     <use style=\"fill:#440154;stroke:#440154;\" x=\"173.473763\" xlink:href=\"#C0_0_32687dfe8c\" y=\"99.297791\"/>\r\n    </g>\r\n    <g clip-path=\"url(#p15ca434eb5)\">\r\n     <use style=\"fill:#440154;stroke:#440154;\" x=\"150.185439\" xlink:href=\"#C0_0_32687dfe8c\" y=\"115.869274\"/>\r\n    </g>\r\n    <g clip-path=\"url(#p15ca434eb5)\">\r\n     <use style=\"fill:#440154;stroke:#440154;\" x=\"250.373693\" xlink:href=\"#C0_0_32687dfe8c\" y=\"144.978663\"/>\r\n    </g>\r\n    <g clip-path=\"url(#p15ca434eb5)\">\r\n     <use style=\"fill:#440154;stroke:#440154;\" x=\"518.076596\" xlink:href=\"#C0_0_32687dfe8c\" y=\"-859.693563\"/>\r\n    </g>\r\n    <g clip-path=\"url(#p15ca434eb5)\">\r\n     <use style=\"fill:#440154;stroke:#440154;\" x=\"207.807154\" xlink:href=\"#C0_0_32687dfe8c\" y=\"-4.370889\"/>\r\n    </g>\r\n    <g clip-path=\"url(#p15ca434eb5)\">\r\n     <use style=\"fill:#440154;stroke:#440154;\" x=\"319.077077\" xlink:href=\"#C0_0_32687dfe8c\" y=\"83.758531\"/>\r\n    </g>\r\n    <g clip-path=\"url(#p15ca434eb5)\">\r\n     <use style=\"fill:#440154;stroke:#440154;\" x=\"730.815913\" xlink:href=\"#C0_0_32687dfe8c\" y=\"33.486671\"/>\r\n    </g>\r\n    <g clip-path=\"url(#p15ca434eb5)\">\r\n     <use style=\"fill:#440154;stroke:#440154;\" x=\"188.318326\" xlink:href=\"#C0_0_32687dfe8c\" y=\"74.893085\"/>\r\n    </g>\r\n    <g clip-path=\"url(#p15ca434eb5)\">\r\n     <use style=\"fill:#440154;stroke:#440154;\" x=\"164.372565\" xlink:href=\"#C0_0_32687dfe8c\" y=\"137.972701\"/>\r\n    </g>\r\n    <g clip-path=\"url(#p15ca434eb5)\">\r\n     <use style=\"fill:#440154;stroke:#440154;\" x=\"122.760661\" xlink:href=\"#C0_0_32687dfe8c\" y=\"148.366971\"/>\r\n    </g>\r\n    <g clip-path=\"url(#p15ca434eb5)\">\r\n     <use style=\"fill:#440154;stroke:#440154;\" x=\"1647.375884\" xlink:href=\"#C0_0_32687dfe8c\" y=\"510.194034\"/>\r\n    </g>\r\n    <g clip-path=\"url(#p15ca434eb5)\">\r\n     <use style=\"fill:#440154;stroke:#440154;\" x=\"198.837513\" xlink:href=\"#C0_0_32687dfe8c\" y=\"52.664415\"/>\r\n    </g>\r\n    <g clip-path=\"url(#p15ca434eb5)\">\r\n     <use style=\"fill:#440154;stroke:#440154;\" x=\"166.734477\" xlink:href=\"#C0_0_32687dfe8c\" y=\"114.564728\"/>\r\n    </g>\r\n    <g clip-path=\"url(#p15ca434eb5)\">\r\n     <use style=\"fill:#440154;stroke:#440154;\" x=\"187.504255\" xlink:href=\"#C0_0_32687dfe8c\" y=\"80.73909\"/>\r\n    </g>\r\n    <g clip-path=\"url(#p15ca434eb5)\">\r\n     <use style=\"fill:#440154;stroke:#440154;\" x=\"169.60479\" xlink:href=\"#C0_0_32687dfe8c\" y=\"88.641424\"/>\r\n    </g>\r\n    <g clip-path=\"url(#p15ca434eb5)\">\r\n     <use style=\"fill:#440154;stroke:#440154;\" x=\"247.55213\" xlink:href=\"#C0_0_32687dfe8c\" y=\"6.614877\"/>\r\n    </g>\r\n    <g clip-path=\"url(#p15ca434eb5)\">\r\n     <use style=\"fill:#440154;stroke:#440154;\" x=\"361.870381\" xlink:href=\"#C0_0_32687dfe8c\" y=\"-165.503359\"/>\r\n    </g>\r\n    <g clip-path=\"url(#p15ca434eb5)\">\r\n     <use style=\"fill:#440154;stroke:#440154;\" x=\"179.097689\" xlink:href=\"#C0_0_32687dfe8c\" y=\"119.926601\"/>\r\n    </g>\r\n   </g>\r\n   <g id=\"matplotlib.axis_1\">\r\n    <g id=\"xtick_1\">\r\n     <g id=\"line2d_1\">\r\n      <defs>\r\n       <path d=\"M 0 0 \r\nL 0 3.5 \r\n\" id=\"m73a98ec030\" style=\"stroke:#000000;stroke-width:0.8;\"/>\r\n      </defs>\r\n      <g>\r\n       <use style=\"stroke:#000000;stroke-width:0.8;\" x=\"44.845313\" xlink:href=\"#m73a98ec030\" y=\"228.439219\"/>\r\n      </g>\r\n     </g>\r\n     <g id=\"text_1\">\r\n      <!-- −15 -->\r\n      <defs>\r\n       <path d=\"M 10.59375 35.5 \r\nL 73.1875 35.5 \r\nL 73.1875 27.203125 \r\nL 10.59375 27.203125 \r\nz\r\n\" id=\"DejaVuSans-8722\"/>\r\n       <path d=\"M 12.40625 8.296875 \r\nL 28.515625 8.296875 \r\nL 28.515625 63.921875 \r\nL 10.984375 60.40625 \r\nL 10.984375 69.390625 \r\nL 28.421875 72.90625 \r\nL 38.28125 72.90625 \r\nL 38.28125 8.296875 \r\nL 54.390625 8.296875 \r\nL 54.390625 0 \r\nL 12.40625 0 \r\nz\r\n\" id=\"DejaVuSans-49\"/>\r\n       <path d=\"M 10.796875 72.90625 \r\nL 49.515625 72.90625 \r\nL 49.515625 64.59375 \r\nL 19.828125 64.59375 \r\nL 19.828125 46.734375 \r\nQ 21.96875 47.46875 24.109375 47.828125 \r\nQ 26.265625 48.1875 28.421875 48.1875 \r\nQ 40.625 48.1875 47.75 41.5 \r\nQ 54.890625 34.8125 54.890625 23.390625 \r\nQ 54.890625 11.625 47.5625 5.09375 \r\nQ 40.234375 -1.421875 26.90625 -1.421875 \r\nQ 22.3125 -1.421875 17.546875 -0.640625 \r\nQ 12.796875 0.140625 7.71875 1.703125 \r\nL 7.71875 11.625 \r\nQ 12.109375 9.234375 16.796875 8.0625 \r\nQ 21.484375 6.890625 26.703125 6.890625 \r\nQ 35.15625 6.890625 40.078125 11.328125 \r\nQ 45.015625 15.765625 45.015625 23.390625 \r\nQ 45.015625 31 40.078125 35.4375 \r\nQ 35.15625 39.890625 26.703125 39.890625 \r\nQ 22.75 39.890625 18.8125 39.015625 \r\nQ 14.890625 38.140625 10.796875 36.28125 \r\nz\r\n\" id=\"DejaVuSans-53\"/>\r\n      </defs>\r\n      <g transform=\"translate(34.292969 243.037656)scale(0.1 -0.1)\">\r\n       <use xlink:href=\"#DejaVuSans-8722\"/>\r\n       <use x=\"83.789062\" xlink:href=\"#DejaVuSans-49\"/>\r\n       <use x=\"147.412109\" xlink:href=\"#DejaVuSans-53\"/>\r\n      </g>\r\n     </g>\r\n    </g>\r\n    <g id=\"xtick_2\">\r\n     <g id=\"line2d_2\">\r\n      <g>\r\n       <use style=\"stroke:#000000;stroke-width:0.8;\" x=\"100.645313\" xlink:href=\"#m73a98ec030\" y=\"228.439219\"/>\r\n      </g>\r\n     </g>\r\n     <g id=\"text_2\">\r\n      <!-- −10 -->\r\n      <defs>\r\n       <path d=\"M 31.78125 66.40625 \r\nQ 24.171875 66.40625 20.328125 58.90625 \r\nQ 16.5 51.421875 16.5 36.375 \r\nQ 16.5 21.390625 20.328125 13.890625 \r\nQ 24.171875 6.390625 31.78125 6.390625 \r\nQ 39.453125 6.390625 43.28125 13.890625 \r\nQ 47.125 21.390625 47.125 36.375 \r\nQ 47.125 51.421875 43.28125 58.90625 \r\nQ 39.453125 66.40625 31.78125 66.40625 \r\nz\r\nM 31.78125 74.21875 \r\nQ 44.046875 74.21875 50.515625 64.515625 \r\nQ 56.984375 54.828125 56.984375 36.375 \r\nQ 56.984375 17.96875 50.515625 8.265625 \r\nQ 44.046875 -1.421875 31.78125 -1.421875 \r\nQ 19.53125 -1.421875 13.0625 8.265625 \r\nQ 6.59375 17.96875 6.59375 36.375 \r\nQ 6.59375 54.828125 13.0625 64.515625 \r\nQ 19.53125 74.21875 31.78125 74.21875 \r\nz\r\n\" id=\"DejaVuSans-48\"/>\r\n      </defs>\r\n      <g transform=\"translate(90.092969 243.037656)scale(0.1 -0.1)\">\r\n       <use xlink:href=\"#DejaVuSans-8722\"/>\r\n       <use x=\"83.789062\" xlink:href=\"#DejaVuSans-49\"/>\r\n       <use x=\"147.412109\" xlink:href=\"#DejaVuSans-48\"/>\r\n      </g>\r\n     </g>\r\n    </g>\r\n    <g id=\"xtick_3\">\r\n     <g id=\"line2d_3\">\r\n      <g>\r\n       <use style=\"stroke:#000000;stroke-width:0.8;\" x=\"156.445313\" xlink:href=\"#m73a98ec030\" y=\"228.439219\"/>\r\n      </g>\r\n     </g>\r\n     <g id=\"text_3\">\r\n      <!-- −5 -->\r\n      <g transform=\"translate(149.074219 243.037656)scale(0.1 -0.1)\">\r\n       <use xlink:href=\"#DejaVuSans-8722\"/>\r\n       <use x=\"83.789062\" xlink:href=\"#DejaVuSans-53\"/>\r\n      </g>\r\n     </g>\r\n    </g>\r\n    <g id=\"xtick_4\">\r\n     <g id=\"line2d_4\">\r\n      <g>\r\n       <use style=\"stroke:#000000;stroke-width:0.8;\" x=\"212.245313\" xlink:href=\"#m73a98ec030\" y=\"228.439219\"/>\r\n      </g>\r\n     </g>\r\n     <g id=\"text_4\">\r\n      <!-- 0 -->\r\n      <g transform=\"translate(209.064063 243.037656)scale(0.1 -0.1)\">\r\n       <use xlink:href=\"#DejaVuSans-48\"/>\r\n      </g>\r\n     </g>\r\n    </g>\r\n    <g id=\"xtick_5\">\r\n     <g id=\"line2d_5\">\r\n      <g>\r\n       <use style=\"stroke:#000000;stroke-width:0.8;\" x=\"268.045313\" xlink:href=\"#m73a98ec030\" y=\"228.439219\"/>\r\n      </g>\r\n     </g>\r\n     <g id=\"text_5\">\r\n      <!-- 5 -->\r\n      <g transform=\"translate(264.864063 243.037656)scale(0.1 -0.1)\">\r\n       <use xlink:href=\"#DejaVuSans-53\"/>\r\n      </g>\r\n     </g>\r\n    </g>\r\n    <g id=\"xtick_6\">\r\n     <g id=\"line2d_6\">\r\n      <g>\r\n       <use style=\"stroke:#000000;stroke-width:0.8;\" x=\"323.845313\" xlink:href=\"#m73a98ec030\" y=\"228.439219\"/>\r\n      </g>\r\n     </g>\r\n     <g id=\"text_6\">\r\n      <!-- 10 -->\r\n      <g transform=\"translate(317.482813 243.037656)scale(0.1 -0.1)\">\r\n       <use xlink:href=\"#DejaVuSans-49\"/>\r\n       <use x=\"63.623047\" xlink:href=\"#DejaVuSans-48\"/>\r\n      </g>\r\n     </g>\r\n    </g>\r\n    <g id=\"xtick_7\">\r\n     <g id=\"line2d_7\">\r\n      <g>\r\n       <use style=\"stroke:#000000;stroke-width:0.8;\" x=\"379.645313\" xlink:href=\"#m73a98ec030\" y=\"228.439219\"/>\r\n      </g>\r\n     </g>\r\n     <g id=\"text_7\">\r\n      <!-- 15 -->\r\n      <g transform=\"translate(373.282813 243.037656)scale(0.1 -0.1)\">\r\n       <use xlink:href=\"#DejaVuSans-49\"/>\r\n       <use x=\"63.623047\" xlink:href=\"#DejaVuSans-53\"/>\r\n      </g>\r\n     </g>\r\n    </g>\r\n   </g>\r\n   <g id=\"matplotlib.axis_2\">\r\n    <g id=\"ytick_1\">\r\n     <g id=\"line2d_8\">\r\n      <defs>\r\n       <path d=\"M 0 0 \r\nL -3.5 0 \r\n\" id=\"m2e1627717f\" style=\"stroke:#000000;stroke-width:0.8;\"/>\r\n      </defs>\r\n      <g>\r\n       <use style=\"stroke:#000000;stroke-width:0.8;\" x=\"44.845313\" xlink:href=\"#m2e1627717f\" y=\"228.439219\"/>\r\n      </g>\r\n     </g>\r\n     <g id=\"text_8\">\r\n      <!-- −10.0 -->\r\n      <defs>\r\n       <path d=\"M 10.6875 12.40625 \r\nL 21 12.40625 \r\nL 21 0 \r\nL 10.6875 0 \r\nz\r\n\" id=\"DejaVuSans-46\"/>\r\n      </defs>\r\n      <g transform=\"translate(7.2 232.238437)scale(0.1 -0.1)\">\r\n       <use xlink:href=\"#DejaVuSans-8722\"/>\r\n       <use x=\"83.789062\" xlink:href=\"#DejaVuSans-49\"/>\r\n       <use x=\"147.412109\" xlink:href=\"#DejaVuSans-48\"/>\r\n       <use x=\"211.035156\" xlink:href=\"#DejaVuSans-46\"/>\r\n       <use x=\"242.822266\" xlink:href=\"#DejaVuSans-48\"/>\r\n      </g>\r\n     </g>\r\n    </g>\r\n    <g id=\"ytick_2\">\r\n     <g id=\"line2d_9\">\r\n      <g>\r\n       <use style=\"stroke:#000000;stroke-width:0.8;\" x=\"44.845313\" xlink:href=\"#m2e1627717f\" y=\"201.259219\"/>\r\n      </g>\r\n     </g>\r\n     <g id=\"text_9\">\r\n      <!-- −7.5 -->\r\n      <defs>\r\n       <path d=\"M 8.203125 72.90625 \r\nL 55.078125 72.90625 \r\nL 55.078125 68.703125 \r\nL 28.609375 0 \r\nL 18.3125 0 \r\nL 43.21875 64.59375 \r\nL 8.203125 64.59375 \r\nz\r\n\" id=\"DejaVuSans-55\"/>\r\n      </defs>\r\n      <g transform=\"translate(13.5625 205.058437)scale(0.1 -0.1)\">\r\n       <use xlink:href=\"#DejaVuSans-8722\"/>\r\n       <use x=\"83.789062\" xlink:href=\"#DejaVuSans-55\"/>\r\n       <use x=\"147.412109\" xlink:href=\"#DejaVuSans-46\"/>\r\n       <use x=\"179.199219\" xlink:href=\"#DejaVuSans-53\"/>\r\n      </g>\r\n     </g>\r\n    </g>\r\n    <g id=\"ytick_3\">\r\n     <g id=\"line2d_10\">\r\n      <g>\r\n       <use style=\"stroke:#000000;stroke-width:0.8;\" x=\"44.845313\" xlink:href=\"#m2e1627717f\" y=\"174.079219\"/>\r\n      </g>\r\n     </g>\r\n     <g id=\"text_10\">\r\n      <!-- −5.0 -->\r\n      <g transform=\"translate(13.5625 177.878437)scale(0.1 -0.1)\">\r\n       <use xlink:href=\"#DejaVuSans-8722\"/>\r\n       <use x=\"83.789062\" xlink:href=\"#DejaVuSans-53\"/>\r\n       <use x=\"147.412109\" xlink:href=\"#DejaVuSans-46\"/>\r\n       <use x=\"179.199219\" xlink:href=\"#DejaVuSans-48\"/>\r\n      </g>\r\n     </g>\r\n    </g>\r\n    <g id=\"ytick_4\">\r\n     <g id=\"line2d_11\">\r\n      <g>\r\n       <use style=\"stroke:#000000;stroke-width:0.8;\" x=\"44.845313\" xlink:href=\"#m2e1627717f\" y=\"146.899219\"/>\r\n      </g>\r\n     </g>\r\n     <g id=\"text_11\">\r\n      <!-- −2.5 -->\r\n      <defs>\r\n       <path d=\"M 19.1875 8.296875 \r\nL 53.609375 8.296875 \r\nL 53.609375 0 \r\nL 7.328125 0 \r\nL 7.328125 8.296875 \r\nQ 12.9375 14.109375 22.625 23.890625 \r\nQ 32.328125 33.6875 34.8125 36.53125 \r\nQ 39.546875 41.84375 41.421875 45.53125 \r\nQ 43.3125 49.21875 43.3125 52.78125 \r\nQ 43.3125 58.59375 39.234375 62.25 \r\nQ 35.15625 65.921875 28.609375 65.921875 \r\nQ 23.96875 65.921875 18.8125 64.3125 \r\nQ 13.671875 62.703125 7.8125 59.421875 \r\nL 7.8125 69.390625 \r\nQ 13.765625 71.78125 18.9375 73 \r\nQ 24.125 74.21875 28.421875 74.21875 \r\nQ 39.75 74.21875 46.484375 68.546875 \r\nQ 53.21875 62.890625 53.21875 53.421875 \r\nQ 53.21875 48.921875 51.53125 44.890625 \r\nQ 49.859375 40.875 45.40625 35.40625 \r\nQ 44.1875 33.984375 37.640625 27.21875 \r\nQ 31.109375 20.453125 19.1875 8.296875 \r\nz\r\n\" id=\"DejaVuSans-50\"/>\r\n      </defs>\r\n      <g transform=\"translate(13.5625 150.698437)scale(0.1 -0.1)\">\r\n       <use xlink:href=\"#DejaVuSans-8722\"/>\r\n       <use x=\"83.789062\" xlink:href=\"#DejaVuSans-50\"/>\r\n       <use x=\"147.412109\" xlink:href=\"#DejaVuSans-46\"/>\r\n       <use x=\"179.199219\" xlink:href=\"#DejaVuSans-53\"/>\r\n      </g>\r\n     </g>\r\n    </g>\r\n    <g id=\"ytick_5\">\r\n     <g id=\"line2d_12\">\r\n      <g>\r\n       <use style=\"stroke:#000000;stroke-width:0.8;\" x=\"44.845313\" xlink:href=\"#m2e1627717f\" y=\"119.719219\"/>\r\n      </g>\r\n     </g>\r\n     <g id=\"text_12\">\r\n      <!-- 0.0 -->\r\n      <g transform=\"translate(21.942188 123.518437)scale(0.1 -0.1)\">\r\n       <use xlink:href=\"#DejaVuSans-48\"/>\r\n       <use x=\"63.623047\" xlink:href=\"#DejaVuSans-46\"/>\r\n       <use x=\"95.410156\" xlink:href=\"#DejaVuSans-48\"/>\r\n      </g>\r\n     </g>\r\n    </g>\r\n    <g id=\"ytick_6\">\r\n     <g id=\"line2d_13\">\r\n      <g>\r\n       <use style=\"stroke:#000000;stroke-width:0.8;\" x=\"44.845313\" xlink:href=\"#m2e1627717f\" y=\"92.539219\"/>\r\n      </g>\r\n     </g>\r\n     <g id=\"text_13\">\r\n      <!-- 2.5 -->\r\n      <g transform=\"translate(21.942188 96.338437)scale(0.1 -0.1)\">\r\n       <use xlink:href=\"#DejaVuSans-50\"/>\r\n       <use x=\"63.623047\" xlink:href=\"#DejaVuSans-46\"/>\r\n       <use x=\"95.410156\" xlink:href=\"#DejaVuSans-53\"/>\r\n      </g>\r\n     </g>\r\n    </g>\r\n    <g id=\"ytick_7\">\r\n     <g id=\"line2d_14\">\r\n      <g>\r\n       <use style=\"stroke:#000000;stroke-width:0.8;\" x=\"44.845313\" xlink:href=\"#m2e1627717f\" y=\"65.359219\"/>\r\n      </g>\r\n     </g>\r\n     <g id=\"text_14\">\r\n      <!-- 5.0 -->\r\n      <g transform=\"translate(21.942188 69.158437)scale(0.1 -0.1)\">\r\n       <use xlink:href=\"#DejaVuSans-53\"/>\r\n       <use x=\"63.623047\" xlink:href=\"#DejaVuSans-46\"/>\r\n       <use x=\"95.410156\" xlink:href=\"#DejaVuSans-48\"/>\r\n      </g>\r\n     </g>\r\n    </g>\r\n    <g id=\"ytick_8\">\r\n     <g id=\"line2d_15\">\r\n      <g>\r\n       <use style=\"stroke:#000000;stroke-width:0.8;\" x=\"44.845313\" xlink:href=\"#m2e1627717f\" y=\"38.179219\"/>\r\n      </g>\r\n     </g>\r\n     <g id=\"text_15\">\r\n      <!-- 7.5 -->\r\n      <g transform=\"translate(21.942188 41.978437)scale(0.1 -0.1)\">\r\n       <use xlink:href=\"#DejaVuSans-55\"/>\r\n       <use x=\"63.623047\" xlink:href=\"#DejaVuSans-46\"/>\r\n       <use x=\"95.410156\" xlink:href=\"#DejaVuSans-53\"/>\r\n      </g>\r\n     </g>\r\n    </g>\r\n    <g id=\"ytick_9\">\r\n     <g id=\"line2d_16\">\r\n      <g>\r\n       <use style=\"stroke:#000000;stroke-width:0.8;\" x=\"44.845313\" xlink:href=\"#m2e1627717f\" y=\"10.999219\"/>\r\n      </g>\r\n     </g>\r\n     <g id=\"text_16\">\r\n      <!-- 10.0 -->\r\n      <g transform=\"translate(15.579688 14.798437)scale(0.1 -0.1)\">\r\n       <use xlink:href=\"#DejaVuSans-49\"/>\r\n       <use x=\"63.623047\" xlink:href=\"#DejaVuSans-48\"/>\r\n       <use x=\"127.246094\" xlink:href=\"#DejaVuSans-46\"/>\r\n       <use x=\"159.033203\" xlink:href=\"#DejaVuSans-48\"/>\r\n      </g>\r\n     </g>\r\n    </g>\r\n   </g>\r\n   <g id=\"patch_3\">\r\n    <path d=\"M 44.845313 228.439219 \r\nL 44.845313 10.999219 \r\n\" style=\"fill:none;stroke:#000000;stroke-linecap:square;stroke-linejoin:miter;stroke-width:0.8;\"/>\r\n   </g>\r\n   <g id=\"patch_4\">\r\n    <path d=\"M 379.645313 228.439219 \r\nL 379.645313 10.999219 \r\n\" style=\"fill:none;stroke:#000000;stroke-linecap:square;stroke-linejoin:miter;stroke-width:0.8;\"/>\r\n   </g>\r\n   <g id=\"patch_5\">\r\n    <path d=\"M 44.845313 228.439219 \r\nL 379.645313 228.439219 \r\n\" style=\"fill:none;stroke:#000000;stroke-linecap:square;stroke-linejoin:miter;stroke-width:0.8;\"/>\r\n   </g>\r\n   <g id=\"patch_6\">\r\n    <path d=\"M 44.845313 10.999219 \r\nL 379.645313 10.999219 \r\n\" style=\"fill:none;stroke:#000000;stroke-linecap:square;stroke-linejoin:miter;stroke-width:0.8;\"/>\r\n   </g>\r\n  </g>\r\n </g>\r\n <defs>\r\n  <clipPath id=\"p15ca434eb5\">\r\n   <rect height=\"217.44\" width=\"334.8\" x=\"44.845313\" y=\"10.999219\"/>\r\n  </clipPath>\r\n </defs>\r\n</svg>\r\n",
      "image/png": "[encoded data removed]"
     },
     "metadata": {
      "needs_background": "light"
     }
    }
   ],
   "source": [
    "fig, ax = plt.subplots()\n",
    "ax.set_xlim(-15, 15)\n",
    "ax.set_ylim(-10, 10)\n",
    "\n",
    "plt.scatter(Xpca[:,0],Xpca[:,1],c=doc_ids)"
   ]
  },
  {
   "cell_type": "markdown",
   "metadata": {},
   "source": [
    "## Term Frequency and Inverse Document Frequency (TF-IDF)\n",
    "TF-IDF é uma técnica para quantificar a importância das palavra nos documentos.\n",
    "\n",
    "**Nomenclatura**:\n",
    "- t — palavra\n",
    "- d — documento (conjunto de palavras)\n",
    "- N — número de documentos\n",
    "\n",
    "#### TF\n",
    "TF mede a frequência de uma palavra em um documento. TF depende muito do tamanho do documento e da generalidade da palavra.\n",
    "\n",
    "$$\n",
    "TF(t,d)= \\frac{\\# t \\mbox{ em } d}{\\#\\mbox{ palavras em } d} \n",
    "$$\n",
    "\n",
    "#### IDF\n",
    "IDF mede o quão informativa cada palavra é no conjunto de documentos. Uma palavra que aparece frequentemente em muitos documentos não é útil para discriminar os documentos, portanto seu IDF deve ser próximo de zero.\n",
    "\n",
    "$$\n",
    "IDF(t) = \\frac{N}{\\# t \\mbox{ em todos os documentos}}\n",
    "$$\n",
    "\n",
    "Combinando tudo temos:\n",
    "\n",
    "$$\n",
    "TFIDF(t,d) = TF(t,d)*\\log(IDF(t))\n",
    "$$"
   ]
  },
  {
   "cell_type": "code",
   "execution_count": 15,
   "metadata": {},
   "outputs": [
    {
     "output_type": "stream",
     "name": "stdout",
     "text": "(3319,)\n(54, 3319)\n(54, 3319)\n"
    }
   ],
   "source": [
    "X = BoW.values\n",
    "\n",
    "# calculando o IDF das palavras\n",
    "idf = X.shape[0]/np.sum(X,axis=0)\n",
    "print(idf.shape)\n",
    "\n",
    "# calculando TF\n",
    "X_tf = np.apply_along_axis(lambda x: x/np.sum(x),1,X)\n",
    "print(X_tf.shape)\n",
    "\n",
    "# calculando TF-IDF\n",
    "X_tfidf = np.apply_along_axis(lambda x: x*np.log(idf),1,X_tf)\n",
    "print(X_tfidf.shape)"
   ]
  },
  {
   "cell_type": "code",
   "execution_count": 16,
   "metadata": {},
   "outputs": [
    {
     "output_type": "stream",
     "name": "stdout",
     "text": "(54, 2)\n"
    },
    {
     "output_type": "execute_result",
     "data": {
      "text/plain": "<matplotlib.collections.PathCollection at 0x21187246dc8>"
     },
     "metadata": {},
     "execution_count": 16
    },
    {
     "output_type": "display_data",
     "data": {
      "text/plain": "<Figure size 432x288 with 1 Axes>",
      "image/svg+xml": "<?xml version=\"1.0\" encoding=\"utf-8\" standalone=\"no\"?>\r\n<!DOCTYPE svg PUBLIC \"-//W3C//DTD SVG 1.1//EN\"\r\n  \"http://www.w3.org/Graphics/SVG/1.1/DTD/svg11.dtd\">\r\n<!-- Created with matplotlib (https://matplotlib.org/) -->\r\n<svg height=\"248.518125pt\" version=\"1.1\" viewBox=\"0 0 377.304687 248.518125\" width=\"377.304687pt\" xmlns=\"http://www.w3.org/2000/svg\" xmlns:xlink=\"http://www.w3.org/1999/xlink\">\r\n <defs>\r\n  <style type=\"text/css\">\r\n*{stroke-linecap:butt;stroke-linejoin:round;}\r\n  </style>\r\n </defs>\r\n <g id=\"figure_1\">\r\n  <g id=\"patch_1\">\r\n   <path d=\"M 0 248.518125 \r\nL 377.304687 248.518125 \r\nL 377.304687 0 \r\nL 0 0 \r\nz\r\n\" style=\"fill:none;\"/>\r\n  </g>\r\n  <g id=\"axes_1\">\r\n   <g id=\"patch_2\">\r\n    <path d=\"M 35.304688 224.64 \r\nL 370.104688 224.64 \r\nL 370.104688 7.2 \r\nL 35.304688 7.2 \r\nz\r\n\" style=\"fill:#ffffff;\"/>\r\n   </g>\r\n   <g id=\"PathCollection_1\">\r\n    <defs>\r\n     <path d=\"M 0 3 \r\nC 0.795609 3 1.55874 2.683901 2.12132 2.12132 \r\nC 2.683901 1.55874 3 0.795609 3 0 \r\nC 3 -0.795609 2.683901 -1.55874 2.12132 -2.12132 \r\nC 1.55874 -2.683901 0.795609 -3 0 -3 \r\nC -0.795609 -3 -1.55874 -2.683901 -2.12132 -2.12132 \r\nC -2.683901 -1.55874 -3 -0.795609 -3 0 \r\nC -3 0.795609 -2.683901 1.55874 -2.12132 2.12132 \r\nC -1.55874 2.683901 -0.795609 3 0 3 \r\nz\r\n\" id=\"C0_0_8b0111fe3d\"/>\r\n    </defs>\r\n    <g clip-path=\"url(#pee0da4fb78)\">\r\n     <use style=\"fill:#440154;stroke:#440154;\" x=\"80.255569\" xlink:href=\"#C0_0_8b0111fe3d\" y=\"142.071657\"/>\r\n    </g>\r\n    <g clip-path=\"url(#pee0da4fb78)\">\r\n     <use style=\"fill:#440154;stroke:#440154;\" x=\"59.917786\" xlink:href=\"#C0_0_8b0111fe3d\" y=\"132.461294\"/>\r\n    </g>\r\n    <g clip-path=\"url(#pee0da4fb78)\">\r\n     <use style=\"fill:#440154;stroke:#440154;\" x=\"51.681015\" xlink:href=\"#C0_0_8b0111fe3d\" y=\"133.153286\"/>\r\n    </g>\r\n    <g clip-path=\"url(#pee0da4fb78)\">\r\n     <use style=\"fill:#440154;stroke:#440154;\" x=\"51.978038\" xlink:href=\"#C0_0_8b0111fe3d\" y=\"127.406672\"/>\r\n    </g>\r\n    <g clip-path=\"url(#pee0da4fb78)\">\r\n     <use style=\"fill:#440154;stroke:#440154;\" x=\"50.522869\" xlink:href=\"#C0_0_8b0111fe3d\" y=\"131.718382\"/>\r\n    </g>\r\n    <g clip-path=\"url(#pee0da4fb78)\">\r\n     <use style=\"fill:#440154;stroke:#440154;\" x=\"75.160653\" xlink:href=\"#C0_0_8b0111fe3d\" y=\"145.267751\"/>\r\n    </g>\r\n    <g clip-path=\"url(#pee0da4fb78)\">\r\n     <use style=\"fill:#440154;stroke:#440154;\" x=\"74.562969\" xlink:href=\"#C0_0_8b0111fe3d\" y=\"145.958001\"/>\r\n    </g>\r\n    <g clip-path=\"url(#pee0da4fb78)\">\r\n     <use style=\"fill:#440154;stroke:#440154;\" x=\"63.500193\" xlink:href=\"#C0_0_8b0111fe3d\" y=\"139.523224\"/>\r\n    </g>\r\n    <g clip-path=\"url(#pee0da4fb78)\">\r\n     <use style=\"fill:#440154;stroke:#440154;\" x=\"85.727439\" xlink:href=\"#C0_0_8b0111fe3d\" y=\"134.771067\"/>\r\n    </g>\r\n    <g clip-path=\"url(#pee0da4fb78)\">\r\n     <use style=\"fill:#440154;stroke:#440154;\" x=\"56.608364\" xlink:href=\"#C0_0_8b0111fe3d\" y=\"140.257072\"/>\r\n    </g>\r\n    <g clip-path=\"url(#pee0da4fb78)\">\r\n     <use style=\"fill:#440154;stroke:#440154;\" x=\"69.986201\" xlink:href=\"#C0_0_8b0111fe3d\" y=\"135.276365\"/>\r\n    </g>\r\n    <g clip-path=\"url(#pee0da4fb78)\">\r\n     <use style=\"fill:#440154;stroke:#440154;\" x=\"81.246017\" xlink:href=\"#C0_0_8b0111fe3d\" y=\"115.600534\"/>\r\n    </g>\r\n    <g clip-path=\"url(#pee0da4fb78)\">\r\n     <use style=\"fill:#440154;stroke:#440154;\" x=\"64.965496\" xlink:href=\"#C0_0_8b0111fe3d\" y=\"133.209463\"/>\r\n    </g>\r\n    <g clip-path=\"url(#pee0da4fb78)\">\r\n     <use style=\"fill:#440154;stroke:#440154;\" x=\"59.693332\" xlink:href=\"#C0_0_8b0111fe3d\" y=\"134.559562\"/>\r\n    </g>\r\n    <g clip-path=\"url(#pee0da4fb78)\">\r\n     <use style=\"fill:#440154;stroke:#440154;\" x=\"74.333464\" xlink:href=\"#C0_0_8b0111fe3d\" y=\"142.115291\"/>\r\n    </g>\r\n    <g clip-path=\"url(#pee0da4fb78)\">\r\n     <use style=\"fill:#440154;stroke:#440154;\" x=\"69.294189\" xlink:href=\"#C0_0_8b0111fe3d\" y=\"133.69756\"/>\r\n    </g>\r\n    <g clip-path=\"url(#pee0da4fb78)\">\r\n     <use style=\"fill:#440154;stroke:#440154;\" x=\"68.649885\" xlink:href=\"#C0_0_8b0111fe3d\" y=\"141.268245\"/>\r\n    </g>\r\n    <g clip-path=\"url(#pee0da4fb78)\">\r\n     <use style=\"fill:#440154;stroke:#440154;\" x=\"52.597023\" xlink:href=\"#C0_0_8b0111fe3d\" y=\"140.770226\"/>\r\n    </g>\r\n    <g clip-path=\"url(#pee0da4fb78)\">\r\n     <use style=\"fill:#440154;stroke:#440154;\" x=\"87.382007\" xlink:href=\"#C0_0_8b0111fe3d\" y=\"142.774248\"/>\r\n    </g>\r\n    <g clip-path=\"url(#pee0da4fb78)\">\r\n     <use style=\"fill:#440154;stroke:#440154;\" x=\"53.135358\" xlink:href=\"#C0_0_8b0111fe3d\" y=\"140.460978\"/>\r\n    </g>\r\n    <g clip-path=\"url(#pee0da4fb78)\">\r\n     <use style=\"fill:#440154;stroke:#440154;\" x=\"56.327372\" xlink:href=\"#C0_0_8b0111fe3d\" y=\"142.767392\"/>\r\n    </g>\r\n    <g clip-path=\"url(#pee0da4fb78)\">\r\n     <use style=\"fill:#440154;stroke:#440154;\" x=\"80.898658\" xlink:href=\"#C0_0_8b0111fe3d\" y=\"143.086047\"/>\r\n    </g>\r\n    <g clip-path=\"url(#pee0da4fb78)\">\r\n     <use style=\"fill:#440154;stroke:#440154;\" x=\"58.663313\" xlink:href=\"#C0_0_8b0111fe3d\" y=\"140.83834\"/>\r\n    </g>\r\n    <g clip-path=\"url(#pee0da4fb78)\">\r\n     <use style=\"fill:#440154;stroke:#440154;\" x=\"66.077487\" xlink:href=\"#C0_0_8b0111fe3d\" y=\"139.129829\"/>\r\n    </g>\r\n    <g clip-path=\"url(#pee0da4fb78)\">\r\n     <use style=\"fill:#440154;stroke:#440154;\" x=\"55.98092\" xlink:href=\"#C0_0_8b0111fe3d\" y=\"139.282217\"/>\r\n    </g>\r\n    <g clip-path=\"url(#pee0da4fb78)\">\r\n     <use style=\"fill:#440154;stroke:#440154;\" x=\"56.136978\" xlink:href=\"#C0_0_8b0111fe3d\" y=\"130.672547\"/>\r\n    </g>\r\n    <g clip-path=\"url(#pee0da4fb78)\">\r\n     <use style=\"fill:#440154;stroke:#440154;\" x=\"53.304448\" xlink:href=\"#C0_0_8b0111fe3d\" y=\"134.549018\"/>\r\n    </g>\r\n    <g clip-path=\"url(#pee0da4fb78)\">\r\n     <use style=\"fill:#440154;stroke:#440154;\" x=\"65.274843\" xlink:href=\"#C0_0_8b0111fe3d\" y=\"129.388544\"/>\r\n    </g>\r\n    <g clip-path=\"url(#pee0da4fb78)\">\r\n     <use style=\"fill:#440154;stroke:#440154;\" x=\"52.260243\" xlink:href=\"#C0_0_8b0111fe3d\" y=\"130.318444\"/>\r\n    </g>\r\n    <g clip-path=\"url(#pee0da4fb78)\">\r\n     <use style=\"fill:#440154;stroke:#440154;\" x=\"235.509318\" xlink:href=\"#C0_0_8b0111fe3d\" y=\"170.065091\"/>\r\n    </g>\r\n    <g clip-path=\"url(#pee0da4fb78)\">\r\n     <use style=\"fill:#440154;stroke:#440154;\" x=\"330.262122\" xlink:href=\"#C0_0_8b0111fe3d\" y=\"33.252043\"/>\r\n    </g>\r\n    <g clip-path=\"url(#pee0da4fb78)\">\r\n     <use style=\"fill:#440154;stroke:#440154;\" x=\"214.332512\" xlink:href=\"#C0_0_8b0111fe3d\" y=\"214.756364\"/>\r\n    </g>\r\n    <g clip-path=\"url(#pee0da4fb78)\">\r\n     <use style=\"fill:#440154;stroke:#440154;\" x=\"293.741761\" xlink:href=\"#C0_0_8b0111fe3d\" y=\"130.744039\"/>\r\n    </g>\r\n    <g clip-path=\"url(#pee0da4fb78)\">\r\n     <use style=\"fill:#440154;stroke:#440154;\" x=\"247.957368\" xlink:href=\"#C0_0_8b0111fe3d\" y=\"201.760606\"/>\r\n    </g>\r\n    <g clip-path=\"url(#pee0da4fb78)\">\r\n     <use style=\"fill:#440154;stroke:#440154;\" x=\"329.508891\" xlink:href=\"#C0_0_8b0111fe3d\" y=\"175.640469\"/>\r\n    </g>\r\n    <g clip-path=\"url(#pee0da4fb78)\">\r\n     <use style=\"fill:#440154;stroke:#440154;\" x=\"81.197084\" xlink:href=\"#C0_0_8b0111fe3d\" y=\"144.427818\"/>\r\n    </g>\r\n    <g clip-path=\"url(#pee0da4fb78)\">\r\n     <use style=\"fill:#440154;stroke:#440154;\" x=\"171.065272\" xlink:href=\"#C0_0_8b0111fe3d\" y=\"168.215813\"/>\r\n    </g>\r\n    <g clip-path=\"url(#pee0da4fb78)\">\r\n     <use style=\"fill:#440154;stroke:#440154;\" x=\"109.944781\" xlink:href=\"#C0_0_8b0111fe3d\" y=\"154.206832\"/>\r\n    </g>\r\n    <g clip-path=\"url(#pee0da4fb78)\">\r\n     <use style=\"fill:#440154;stroke:#440154;\" x=\"157.814266\" xlink:href=\"#C0_0_8b0111fe3d\" y=\"123.946094\"/>\r\n    </g>\r\n    <g clip-path=\"url(#pee0da4fb78)\">\r\n     <use style=\"fill:#440154;stroke:#440154;\" x=\"239.904077\" xlink:href=\"#C0_0_8b0111fe3d\" y=\"162.621283\"/>\r\n    </g>\r\n    <g clip-path=\"url(#pee0da4fb78)\">\r\n     <use style=\"fill:#440154;stroke:#440154;\" x=\"230.995056\" xlink:href=\"#C0_0_8b0111fe3d\" y=\"210.571272\"/>\r\n    </g>\r\n    <g clip-path=\"url(#pee0da4fb78)\">\r\n     <use style=\"fill:#440154;stroke:#440154;\" x=\"190.900342\" xlink:href=\"#C0_0_8b0111fe3d\" y=\"155.599993\"/>\r\n    </g>\r\n    <g clip-path=\"url(#pee0da4fb78)\">\r\n     <use style=\"fill:#440154;stroke:#440154;\" x=\"349.291666\" xlink:href=\"#C0_0_8b0111fe3d\" y=\"17.083636\"/>\r\n    </g>\r\n    <g clip-path=\"url(#pee0da4fb78)\">\r\n     <use style=\"fill:#440154;stroke:#440154;\" x=\"185.458988\" xlink:href=\"#C0_0_8b0111fe3d\" y=\"178.856773\"/>\r\n    </g>\r\n    <g clip-path=\"url(#pee0da4fb78)\">\r\n     <use style=\"fill:#440154;stroke:#440154;\" x=\"179.553482\" xlink:href=\"#C0_0_8b0111fe3d\" y=\"166.38036\"/>\r\n    </g>\r\n    <g clip-path=\"url(#pee0da4fb78)\">\r\n     <use style=\"fill:#440154;stroke:#440154;\" x=\"163.550113\" xlink:href=\"#C0_0_8b0111fe3d\" y=\"187.351109\"/>\r\n    </g>\r\n    <g clip-path=\"url(#pee0da4fb78)\">\r\n     <use style=\"fill:#440154;stroke:#440154;\" x=\"354.886506\" xlink:href=\"#C0_0_8b0111fe3d\" y=\"32.788846\"/>\r\n    </g>\r\n    <g clip-path=\"url(#pee0da4fb78)\">\r\n     <use style=\"fill:#440154;stroke:#440154;\" x=\"162.941704\" xlink:href=\"#C0_0_8b0111fe3d\" y=\"177.389772\"/>\r\n    </g>\r\n    <g clip-path=\"url(#pee0da4fb78)\">\r\n     <use style=\"fill:#440154;stroke:#440154;\" x=\"209.088996\" xlink:href=\"#C0_0_8b0111fe3d\" y=\"188.306199\"/>\r\n    </g>\r\n    <g clip-path=\"url(#pee0da4fb78)\">\r\n     <use style=\"fill:#440154;stroke:#440154;\" x=\"219.627151\" xlink:href=\"#C0_0_8b0111fe3d\" y=\"188.979119\"/>\r\n    </g>\r\n    <g clip-path=\"url(#pee0da4fb78)\">\r\n     <use style=\"fill:#440154;stroke:#440154;\" x=\"199.794119\" xlink:href=\"#C0_0_8b0111fe3d\" y=\"203.560288\"/>\r\n    </g>\r\n    <g clip-path=\"url(#pee0da4fb78)\">\r\n     <use style=\"fill:#440154;stroke:#440154;\" x=\"236.040325\" xlink:href=\"#C0_0_8b0111fe3d\" y=\"205.034728\"/>\r\n    </g>\r\n    <g clip-path=\"url(#pee0da4fb78)\">\r\n     <use style=\"fill:#440154;stroke:#440154;\" x=\"296.966401\" xlink:href=\"#C0_0_8b0111fe3d\" y=\"182.417661\"/>\r\n    </g>\r\n    <g clip-path=\"url(#pee0da4fb78)\">\r\n     <use style=\"fill:#440154;stroke:#440154;\" x=\"193.808096\" xlink:href=\"#C0_0_8b0111fe3d\" y=\"180.318775\"/>\r\n    </g>\r\n   </g>\r\n   <g id=\"matplotlib.axis_1\">\r\n    <g id=\"xtick_1\">\r\n     <g id=\"line2d_1\">\r\n      <defs>\r\n       <path d=\"M 0 0 \r\nL 0 3.5 \r\n\" id=\"m422d3be5f6\" style=\"stroke:#000000;stroke-width:0.8;\"/>\r\n      </defs>\r\n      <g>\r\n       <use style=\"stroke:#000000;stroke-width:0.8;\" x=\"70.725486\" xlink:href=\"#m422d3be5f6\" y=\"224.64\"/>\r\n      </g>\r\n     </g>\r\n     <g id=\"text_1\">\r\n      <!-- −10 -->\r\n      <defs>\r\n       <path d=\"M 10.59375 35.5 \r\nL 73.1875 35.5 \r\nL 73.1875 27.203125 \r\nL 10.59375 27.203125 \r\nz\r\n\" id=\"DejaVuSans-8722\"/>\r\n       <path d=\"M 12.40625 8.296875 \r\nL 28.515625 8.296875 \r\nL 28.515625 63.921875 \r\nL 10.984375 60.40625 \r\nL 10.984375 69.390625 \r\nL 28.421875 72.90625 \r\nL 38.28125 72.90625 \r\nL 38.28125 8.296875 \r\nL 54.390625 8.296875 \r\nL 54.390625 0 \r\nL 12.40625 0 \r\nz\r\n\" id=\"DejaVuSans-49\"/>\r\n       <path d=\"M 31.78125 66.40625 \r\nQ 24.171875 66.40625 20.328125 58.90625 \r\nQ 16.5 51.421875 16.5 36.375 \r\nQ 16.5 21.390625 20.328125 13.890625 \r\nQ 24.171875 6.390625 31.78125 6.390625 \r\nQ 39.453125 6.390625 43.28125 13.890625 \r\nQ 47.125 21.390625 47.125 36.375 \r\nQ 47.125 51.421875 43.28125 58.90625 \r\nQ 39.453125 66.40625 31.78125 66.40625 \r\nz\r\nM 31.78125 74.21875 \r\nQ 44.046875 74.21875 50.515625 64.515625 \r\nQ 56.984375 54.828125 56.984375 36.375 \r\nQ 56.984375 17.96875 50.515625 8.265625 \r\nQ 44.046875 -1.421875 31.78125 -1.421875 \r\nQ 19.53125 -1.421875 13.0625 8.265625 \r\nQ 6.59375 17.96875 6.59375 36.375 \r\nQ 6.59375 54.828125 13.0625 64.515625 \r\nQ 19.53125 74.21875 31.78125 74.21875 \r\nz\r\n\" id=\"DejaVuSans-48\"/>\r\n      </defs>\r\n      <g transform=\"translate(60.173142 239.238437)scale(0.1 -0.1)\">\r\n       <use xlink:href=\"#DejaVuSans-8722\"/>\r\n       <use x=\"83.789062\" xlink:href=\"#DejaVuSans-49\"/>\r\n       <use x=\"147.412109\" xlink:href=\"#DejaVuSans-48\"/>\r\n      </g>\r\n     </g>\r\n    </g>\r\n    <g id=\"xtick_2\">\r\n     <g id=\"line2d_2\">\r\n      <g>\r\n       <use style=\"stroke:#000000;stroke-width:0.8;\" x=\"138.15301\" xlink:href=\"#m422d3be5f6\" y=\"224.64\"/>\r\n      </g>\r\n     </g>\r\n     <g id=\"text_2\">\r\n      <!-- 0 -->\r\n      <g transform=\"translate(134.97176 239.238437)scale(0.1 -0.1)\">\r\n       <use xlink:href=\"#DejaVuSans-48\"/>\r\n      </g>\r\n     </g>\r\n    </g>\r\n    <g id=\"xtick_3\">\r\n     <g id=\"line2d_3\">\r\n      <g>\r\n       <use style=\"stroke:#000000;stroke-width:0.8;\" x=\"205.580533\" xlink:href=\"#m422d3be5f6\" y=\"224.64\"/>\r\n      </g>\r\n     </g>\r\n     <g id=\"text_3\">\r\n      <!-- 10 -->\r\n      <g transform=\"translate(199.218033 239.238437)scale(0.1 -0.1)\">\r\n       <use xlink:href=\"#DejaVuSans-49\"/>\r\n       <use x=\"63.623047\" xlink:href=\"#DejaVuSans-48\"/>\r\n      </g>\r\n     </g>\r\n    </g>\r\n    <g id=\"xtick_4\">\r\n     <g id=\"line2d_4\">\r\n      <g>\r\n       <use style=\"stroke:#000000;stroke-width:0.8;\" x=\"273.008057\" xlink:href=\"#m422d3be5f6\" y=\"224.64\"/>\r\n      </g>\r\n     </g>\r\n     <g id=\"text_4\">\r\n      <!-- 20 -->\r\n      <defs>\r\n       <path d=\"M 19.1875 8.296875 \r\nL 53.609375 8.296875 \r\nL 53.609375 0 \r\nL 7.328125 0 \r\nL 7.328125 8.296875 \r\nQ 12.9375 14.109375 22.625 23.890625 \r\nQ 32.328125 33.6875 34.8125 36.53125 \r\nQ 39.546875 41.84375 41.421875 45.53125 \r\nQ 43.3125 49.21875 43.3125 52.78125 \r\nQ 43.3125 58.59375 39.234375 62.25 \r\nQ 35.15625 65.921875 28.609375 65.921875 \r\nQ 23.96875 65.921875 18.8125 64.3125 \r\nQ 13.671875 62.703125 7.8125 59.421875 \r\nL 7.8125 69.390625 \r\nQ 13.765625 71.78125 18.9375 73 \r\nQ 24.125 74.21875 28.421875 74.21875 \r\nQ 39.75 74.21875 46.484375 68.546875 \r\nQ 53.21875 62.890625 53.21875 53.421875 \r\nQ 53.21875 48.921875 51.53125 44.890625 \r\nQ 49.859375 40.875 45.40625 35.40625 \r\nQ 44.1875 33.984375 37.640625 27.21875 \r\nQ 31.109375 20.453125 19.1875 8.296875 \r\nz\r\n\" id=\"DejaVuSans-50\"/>\r\n      </defs>\r\n      <g transform=\"translate(266.645557 239.238437)scale(0.1 -0.1)\">\r\n       <use xlink:href=\"#DejaVuSans-50\"/>\r\n       <use x=\"63.623047\" xlink:href=\"#DejaVuSans-48\"/>\r\n      </g>\r\n     </g>\r\n    </g>\r\n    <g id=\"xtick_5\">\r\n     <g id=\"line2d_5\">\r\n      <g>\r\n       <use style=\"stroke:#000000;stroke-width:0.8;\" x=\"340.435581\" xlink:href=\"#m422d3be5f6\" y=\"224.64\"/>\r\n      </g>\r\n     </g>\r\n     <g id=\"text_5\">\r\n      <!-- 30 -->\r\n      <defs>\r\n       <path d=\"M 40.578125 39.3125 \r\nQ 47.65625 37.796875 51.625 33 \r\nQ 55.609375 28.21875 55.609375 21.1875 \r\nQ 55.609375 10.40625 48.1875 4.484375 \r\nQ 40.765625 -1.421875 27.09375 -1.421875 \r\nQ 22.515625 -1.421875 17.65625 -0.515625 \r\nQ 12.796875 0.390625 7.625 2.203125 \r\nL 7.625 11.71875 \r\nQ 11.71875 9.328125 16.59375 8.109375 \r\nQ 21.484375 6.890625 26.8125 6.890625 \r\nQ 36.078125 6.890625 40.9375 10.546875 \r\nQ 45.796875 14.203125 45.796875 21.1875 \r\nQ 45.796875 27.640625 41.28125 31.265625 \r\nQ 36.765625 34.90625 28.71875 34.90625 \r\nL 20.21875 34.90625 \r\nL 20.21875 43.015625 \r\nL 29.109375 43.015625 \r\nQ 36.375 43.015625 40.234375 45.921875 \r\nQ 44.09375 48.828125 44.09375 54.296875 \r\nQ 44.09375 59.90625 40.109375 62.90625 \r\nQ 36.140625 65.921875 28.71875 65.921875 \r\nQ 24.65625 65.921875 20.015625 65.03125 \r\nQ 15.375 64.15625 9.8125 62.3125 \r\nL 9.8125 71.09375 \r\nQ 15.4375 72.65625 20.34375 73.4375 \r\nQ 25.25 74.21875 29.59375 74.21875 \r\nQ 40.828125 74.21875 47.359375 69.109375 \r\nQ 53.90625 64.015625 53.90625 55.328125 \r\nQ 53.90625 49.265625 50.4375 45.09375 \r\nQ 46.96875 40.921875 40.578125 39.3125 \r\nz\r\n\" id=\"DejaVuSans-51\"/>\r\n      </defs>\r\n      <g transform=\"translate(334.073081 239.238437)scale(0.1 -0.1)\">\r\n       <use xlink:href=\"#DejaVuSans-51\"/>\r\n       <use x=\"63.623047\" xlink:href=\"#DejaVuSans-48\"/>\r\n      </g>\r\n     </g>\r\n    </g>\r\n   </g>\r\n   <g id=\"matplotlib.axis_2\">\r\n    <g id=\"ytick_1\">\r\n     <g id=\"line2d_6\">\r\n      <defs>\r\n       <path d=\"M 0 0 \r\nL -3.5 0 \r\n\" id=\"m8d98d4ad7c\" style=\"stroke:#000000;stroke-width:0.8;\"/>\r\n      </defs>\r\n      <g>\r\n       <use style=\"stroke:#000000;stroke-width:0.8;\" x=\"35.304688\" xlink:href=\"#m8d98d4ad7c\" y=\"213.316005\"/>\r\n      </g>\r\n     </g>\r\n     <g id=\"text_6\">\r\n      <!-- −20 -->\r\n      <g transform=\"translate(7.2 217.115223)scale(0.1 -0.1)\">\r\n       <use xlink:href=\"#DejaVuSans-8722\"/>\r\n       <use x=\"83.789062\" xlink:href=\"#DejaVuSans-50\"/>\r\n       <use x=\"147.412109\" xlink:href=\"#DejaVuSans-48\"/>\r\n      </g>\r\n     </g>\r\n    </g>\r\n    <g id=\"ytick_2\">\r\n     <g id=\"line2d_7\">\r\n      <g>\r\n       <use style=\"stroke:#000000;stroke-width:0.8;\" x=\"35.304688\" xlink:href=\"#m8d98d4ad7c\" y=\"179.960116\"/>\r\n      </g>\r\n     </g>\r\n     <g id=\"text_7\">\r\n      <!-- −10 -->\r\n      <g transform=\"translate(7.2 183.759334)scale(0.1 -0.1)\">\r\n       <use xlink:href=\"#DejaVuSans-8722\"/>\r\n       <use x=\"83.789062\" xlink:href=\"#DejaVuSans-49\"/>\r\n       <use x=\"147.412109\" xlink:href=\"#DejaVuSans-48\"/>\r\n      </g>\r\n     </g>\r\n    </g>\r\n    <g id=\"ytick_3\">\r\n     <g id=\"line2d_8\">\r\n      <g>\r\n       <use style=\"stroke:#000000;stroke-width:0.8;\" x=\"35.304688\" xlink:href=\"#m8d98d4ad7c\" y=\"146.604227\"/>\r\n      </g>\r\n     </g>\r\n     <g id=\"text_8\">\r\n      <!-- 0 -->\r\n      <g transform=\"translate(21.942188 150.403445)scale(0.1 -0.1)\">\r\n       <use xlink:href=\"#DejaVuSans-48\"/>\r\n      </g>\r\n     </g>\r\n    </g>\r\n    <g id=\"ytick_4\">\r\n     <g id=\"line2d_9\">\r\n      <g>\r\n       <use style=\"stroke:#000000;stroke-width:0.8;\" x=\"35.304688\" xlink:href=\"#m8d98d4ad7c\" y=\"113.248338\"/>\r\n      </g>\r\n     </g>\r\n     <g id=\"text_9\">\r\n      <!-- 10 -->\r\n      <g transform=\"translate(15.579688 117.047557)scale(0.1 -0.1)\">\r\n       <use xlink:href=\"#DejaVuSans-49\"/>\r\n       <use x=\"63.623047\" xlink:href=\"#DejaVuSans-48\"/>\r\n      </g>\r\n     </g>\r\n    </g>\r\n    <g id=\"ytick_5\">\r\n     <g id=\"line2d_10\">\r\n      <g>\r\n       <use style=\"stroke:#000000;stroke-width:0.8;\" x=\"35.304688\" xlink:href=\"#m8d98d4ad7c\" y=\"79.892449\"/>\r\n      </g>\r\n     </g>\r\n     <g id=\"text_10\">\r\n      <!-- 20 -->\r\n      <g transform=\"translate(15.579688 83.691668)scale(0.1 -0.1)\">\r\n       <use xlink:href=\"#DejaVuSans-50\"/>\r\n       <use x=\"63.623047\" xlink:href=\"#DejaVuSans-48\"/>\r\n      </g>\r\n     </g>\r\n    </g>\r\n    <g id=\"ytick_6\">\r\n     <g id=\"line2d_11\">\r\n      <g>\r\n       <use style=\"stroke:#000000;stroke-width:0.8;\" x=\"35.304688\" xlink:href=\"#m8d98d4ad7c\" y=\"46.53656\"/>\r\n      </g>\r\n     </g>\r\n     <g id=\"text_11\">\r\n      <!-- 30 -->\r\n      <g transform=\"translate(15.579688 50.335779)scale(0.1 -0.1)\">\r\n       <use xlink:href=\"#DejaVuSans-51\"/>\r\n       <use x=\"63.623047\" xlink:href=\"#DejaVuSans-48\"/>\r\n      </g>\r\n     </g>\r\n    </g>\r\n    <g id=\"ytick_7\">\r\n     <g id=\"line2d_12\">\r\n      <g>\r\n       <use style=\"stroke:#000000;stroke-width:0.8;\" x=\"35.304688\" xlink:href=\"#m8d98d4ad7c\" y=\"13.180671\"/>\r\n      </g>\r\n     </g>\r\n     <g id=\"text_12\">\r\n      <!-- 40 -->\r\n      <defs>\r\n       <path d=\"M 37.796875 64.3125 \r\nL 12.890625 25.390625 \r\nL 37.796875 25.390625 \r\nz\r\nM 35.203125 72.90625 \r\nL 47.609375 72.90625 \r\nL 47.609375 25.390625 \r\nL 58.015625 25.390625 \r\nL 58.015625 17.1875 \r\nL 47.609375 17.1875 \r\nL 47.609375 0 \r\nL 37.796875 0 \r\nL 37.796875 17.1875 \r\nL 4.890625 17.1875 \r\nL 4.890625 26.703125 \r\nz\r\n\" id=\"DejaVuSans-52\"/>\r\n      </defs>\r\n      <g transform=\"translate(15.579688 16.97989)scale(0.1 -0.1)\">\r\n       <use xlink:href=\"#DejaVuSans-52\"/>\r\n       <use x=\"63.623047\" xlink:href=\"#DejaVuSans-48\"/>\r\n      </g>\r\n     </g>\r\n    </g>\r\n   </g>\r\n   <g id=\"patch_3\">\r\n    <path d=\"M 35.304688 224.64 \r\nL 35.304688 7.2 \r\n\" style=\"fill:none;stroke:#000000;stroke-linecap:square;stroke-linejoin:miter;stroke-width:0.8;\"/>\r\n   </g>\r\n   <g id=\"patch_4\">\r\n    <path d=\"M 370.104688 224.64 \r\nL 370.104688 7.2 \r\n\" style=\"fill:none;stroke:#000000;stroke-linecap:square;stroke-linejoin:miter;stroke-width:0.8;\"/>\r\n   </g>\r\n   <g id=\"patch_5\">\r\n    <path d=\"M 35.304688 224.64 \r\nL 370.104688 224.64 \r\n\" style=\"fill:none;stroke:#000000;stroke-linecap:square;stroke-linejoin:miter;stroke-width:0.8;\"/>\r\n   </g>\r\n   <g id=\"patch_6\">\r\n    <path d=\"M 35.304688 7.2 \r\nL 370.104688 7.2 \r\n\" style=\"fill:none;stroke:#000000;stroke-linecap:square;stroke-linejoin:miter;stroke-width:0.8;\"/>\r\n   </g>\r\n  </g>\r\n </g>\r\n <defs>\r\n  <clipPath id=\"pee0da4fb78\">\r\n   <rect height=\"217.44\" width=\"334.8\" x=\"35.304688\" y=\"7.2\"/>\r\n  </clipPath>\r\n </defs>\r\n</svg>\r\n",
      "image/png": "[encoded data removed]"
     },
     "metadata": {
      "needs_background": "light"
     }
    }
   ],
   "source": [
    "from sklearn.decomposition import PCA\n",
    "from sklearn.preprocessing import StandardScaler\n",
    "\n",
    "X = StandardScaler().fit_transform(X_tfidf)\n",
    "\n",
    "pca_obj = PCA(n_components=2)\n",
    "Xpca = pca_obj.fit_transform(X)\n",
    "\n",
    "print(Xpca.shape)\n",
    "\n",
    "fig, ax = plt.subplots()\n",
    "#ax.set_xlim(-15,20)\n",
    "#ax.set_ylim(-20,20)\n",
    "plt.scatter(Xpca[:,0],Xpca[:,1],c=doc_ids)"
   ]
  }
 ],
 "metadata": {
  "kernelspec": {
   "display_name": "Python 3",
   "language": "python",
   "name": "python3"
  },
  "language_info": {
   "codemirror_mode": {
    "name": "ipython",
    "version": 3
   },
   "file_extension": ".py",
   "mimetype": "text/x-python",
   "name": "python",
   "nbconvert_exporter": "python",
   "pygments_lexer": "ipython3",
   "version": "3.7.6-final"
  }
 },
 "nbformat": 4,
 "nbformat_minor": 2
}