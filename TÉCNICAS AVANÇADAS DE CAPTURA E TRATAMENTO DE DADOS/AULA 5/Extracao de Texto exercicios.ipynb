{
 "cells": [
  {
   "cell_type": "markdown",
   "metadata": {},
   "source": [
    "# <span style=\"color:blue\"> MBA em Ciência de Dados</span>\n",
    "# <span style=\"color:blue\">Técnicas Avançadas para Captura e Tratamento de Dados</span>\n",
    "\n",
    "## <span style=\"color:blue\">Identificação e Extração de Texto</span>\n",
    "    \n",
    "## <span style=\"color:blue\">Exercícios</span>\n",
    "\n",
    "**Material Produzido por Luis Gustavo Nonato**<br>\n",
    "**Cemeai - ICMC/USP São Carlos**\n",
    "---"
   ]
  },
  {
   "cell_type": "markdown",
   "metadata": {},
   "source": [
    "<font color='red'> Recomendamos fortemente resolver os exercícios sem consultar as soluções antecipadamente </font>"
   ]
  },
  {
   "cell_type": "markdown",
   "metadata": {},
   "source": [
    "Os exercícios a seguir farão uso dos seguintes aquivos, disponíveis para download no Moodle:\n",
    "\n",
    "-<font style=\"font-family: monaco\"> pdf_exercicios.pdf</font><br>\n",
    "-<font style=\"font-family: monaco\"> cupom_fiscal1.png </font><br>\n",
    "-<font style=\"font-family: monaco\"> cupom_fiscal2.png </font><br>\n",
    "-<font style=\"font-family: monaco\"> nfe-example.pdf</font>"
   ]
  },
  {
   "cell_type": "markdown",
   "metadata": {},
   "source": [
    "### Exercício 1)\n",
    "Arquivos PDF tipicamente possuem diversas páginas. O processo de extração do conteúdo textual de cada página consiste de duas etapas principais:\n",
    "1. Conversão das páginas pdf em imagens\n",
    "2. Extração do texto a partir das imagens das páginas.\n",
    "\n",
    "A fim de faciliar a etapa 2, recomenda-se salvar as imagens das páginas em um diretório que contenha apenas as imagens das páginas. Escreva uma função em Python que receba como atributo o nome de um arquivo PDF e crie um diretório com o mesmo nome do arquivo seguido pela palavra \"\\_imagens\". Por exemplo, se o arquivo PDF for chamado `meu_arquivo.pdf`, o diretório criado deverá ser `meu_arquivo_imagens`.\n",
    "\n",
    "A função deve verificar se o diretório já existe. Se não existir, deve criá-lo. Se o diretório já existe, então todos os arquivos contidos no \n",
    "diretório devem ser removidos para que o diretório se torne vazio.\n",
    "\n",
    "**Dica**: Utilize os métodos <font color='blue'>os.path.exists</font>, <font color='blue'>os.makedirs</font> e <font color='blue'>os.remove</font> do pacote <font color='blue'>os</font> combinados com o método <font color='blue'>glob.glob</font> do pacote <font color='blue'>glob</font>."
   ]
  },
  {
   "cell_type": "code",
   "execution_count": null,
   "metadata": {},
   "outputs": [],
   "source": [
    "import os\n",
    "import glob\n"
   ]
  },
  {
   "cell_type": "markdown",
   "metadata": {},
   "source": [
    "### Exercício 2)\n",
    "Converta cada página do arquivo <font style=\"font-family: monaco\"> pdf_exercicios.pdf</font> em uma imagem, utilizando a função criada no exercício 1) para criar um diretório e armazenar as imagens geradas no diretório criado."
   ]
  },
  {
   "cell_type": "code",
   "execution_count": null,
   "metadata": {},
   "outputs": [],
   "source": [
    "from pdf2image import convert_from_path \n"
   ]
  },
  {
   "cell_type": "markdown",
   "metadata": {},
   "source": [
    "### Exercício 3)\n",
    "Utilize o pacote <font color='blue'>PIL</font> combinado com <font color='blue'>matplotlib</font> para exibir todas as imagens criadas."
   ]
  },
  {
   "cell_type": "code",
   "execution_count": null,
   "metadata": {},
   "outputs": [],
   "source": [
    "from PIL import Image\n",
    "import matplotlib.pyplot as plt\n",
    "%matplotlib inline\n"
   ]
  },
  {
   "cell_type": "markdown",
   "metadata": {},
   "source": [
    "### Exercício 4)\n",
    "Aplique o OCR em cada imagem das páginas do arquivo <font style=\"font-family: monaco\"> pdf_exercicios.pdf</font>. Armazene o texto de cada página em um dicionário onde a chave é o número da página e o valor a string extraída da página.  "
   ]
  },
  {
   "cell_type": "code",
   "execution_count": null,
   "metadata": {},
   "outputs": [],
   "source": [
    "import pytesseract as ocr\n",
    "from PIL import Image\n",
    "import glob \n"
   ]
  },
  {
   "cell_type": "markdown",
   "metadata": {},
   "source": [
    "### Exercício 5)\n",
    "Cada página do arquivo <font style=\"font-family: monaco\"> pdf_exercicios.pdf</font> corresponde a um poema cujo nome do autor aparece logo abaixo do texto do poema. Encontre o nome dos autores de cada um dos peomas e armazene-os em uma lista."
   ]
  },
  {
   "cell_type": "code",
   "execution_count": null,
   "metadata": {},
   "outputs": [],
   "source": [
    "# Para encontrar o nome do autor temos que fazer algumas suposições \n",
    "# Neste caso suponha que o nome do autor corresponde a ultima linha de\n",
    "# texto detectada pelo OCR. \n"
   ]
  },
  {
   "cell_type": "markdown",
   "metadata": {},
   "source": [
    "### Exercício 6)\n",
    "Encontre qual a página que corresponde ao poema de Cora Coralina e imprima o texto do."
   ]
  },
  {
   "cell_type": "code",
   "execution_count": null,
   "metadata": {},
   "outputs": [],
   "source": []
  },
  {
   "cell_type": "markdown",
   "metadata": {},
   "source": [
    "### Exercício 7)\n",
    "Os arquivos <font style=\"font-family: monaco\"> cupom-fiscal1.png </font>  e <font style=\"font-family: monaco\"> cupom-fiscal2.png </font> correspondem a imagens de cupons fiscais. Aplicando OCR, extraia o texto contido nas imagens e armazene em variáveis tipo string."
   ]
  },
  {
   "cell_type": "code",
   "execution_count": null,
   "metadata": {},
   "outputs": [],
   "source": [
    "import pytesseract as ocr\n",
    "from PIL import Image\n"
   ]
  },
  {
   "cell_type": "markdown",
   "metadata": {},
   "source": [
    "### Exercício 8)\n",
    "Utilize o pacote <font color='blue'> re </font> para identificar nas strings extraídas dos cupons ficais do exercício 7), todos os valores que possam estar relacionados com preços, ou seja, sequências de dígitos numéricos que precedam uma virgula, seguido de **apenas dois** dígitos depois da vírgula. Por exemplo, quando aplicado à string, \n",
    "```python\n",
    "'754.523,157-05 1050,00 FAZMM 204280 (32,098) R$48,14'\n",
    "```\n",
    "o processo extração deve resultar em:\n",
    "```python\n",
    "['1050,00 ', '48,14']\n",
    "```\n"
   ]
  },
  {
   "cell_type": "code",
   "execution_count": null,
   "metadata": {},
   "outputs": [],
   "source": [
    "import re\n"
   ]
  },
  {
   "cell_type": "markdown",
   "metadata": {},
   "source": [
    "### Exercício 9)\n",
    "Extraia o texto contido no arquivo <font style=\"font-family: monaco\"> nfe-example.pdf</font>. Você deve extrair primeiro a imagem da página (o PDF contém apenas uma página), armazenando a imagem em um arquivo. "
   ]
  },
  {
   "cell_type": "code",
   "execution_count": null,
   "metadata": {},
   "outputs": [],
   "source": [
    "from pdf2image import convert_from_path \n",
    "import pytesseract as ocr\n",
    "from PIL import Image\n"
   ]
  },
  {
   "cell_type": "markdown",
   "metadata": {},
   "source": [
    "### Exercício 10)\n",
    "Escreva uma expressão regular para encontrar todos os valores financeiros do texto extraido. Converta os valores encontrados de _string_ para _float_ e some todos os valores."
   ]
  },
  {
   "cell_type": "code",
   "execution_count": null,
   "metadata": {},
   "outputs": [],
   "source": [
    "import re\n"
   ]
  }
 ],
 "metadata": {
  "kernelspec": {
   "display_name": "Python 3",
   "language": "python",
   "name": "python3"
  },
  "language_info": {
   "codemirror_mode": {
    "name": "ipython",
    "version": 3
   },
   "file_extension": ".py",
   "mimetype": "text/x-python",
   "name": "python",
   "nbconvert_exporter": "python",
   "pygments_lexer": "ipython3",
   "version": "3.7.1"
  }
 },
 "nbformat": 4,
 "nbformat_minor": 2
}
