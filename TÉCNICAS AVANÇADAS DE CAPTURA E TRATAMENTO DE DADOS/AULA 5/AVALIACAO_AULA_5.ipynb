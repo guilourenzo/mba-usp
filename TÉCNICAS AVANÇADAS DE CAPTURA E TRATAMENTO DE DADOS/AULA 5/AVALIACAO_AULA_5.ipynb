{
 "cells": [
  {
   "cell_type": "markdown",
   "metadata": {},
   "source": [
    "# <span style=\"color:blue\"> MBA em Ciência de Dados</span>\n",
    "# <span style=\"color:blue\">Técnicas Avançadas para Captura e Tratamento de Dados</span>\n",
    "\n",
    "## <span style=\"color:blue\">Identificação e Extração de Texto</span>\n",
    "    \n",
    "## <span style=\"color:blue\">Avaliação</span>\n",
    "\n",
    "**Material Produzido por Luis Gustavo Nonato**<br>\n",
    "**Cemeai - ICMC/USP São Carlos**\n",
    "---"
   ]
  },
  {
   "cell_type": "markdown",
   "metadata": {},
   "source": [
    "Os exercícios a seguir farão uso do aquivo <font style=\"font-family: monaco\"> nfe-avaliacao.pdf</font>, disponíveis para download no Moodle."
   ]
  },
  {
   "cell_type": "markdown",
   "metadata": {},
   "source": [
    "### Exercício 1)\n",
    "Considere a nota fiscal eletrônica representada no arquivo <font style=\"font-family: monaco\"> nfe-avaliacao.pdf</font>. Converta o arquivo PDF em uma imagem no formato PNG. Utilize o pacote <font color='blue'>PIL</font> para carregar a imagem gerada. Qual a resolução da imagem gerada?\n",
    "\n",
    "a) 1653 X 2339 <br>\n",
    "b) 1024 X 640 <br>\n",
    "c) 640 X 2339<br>\n",
    "d) 1001 X 2020\n",
    "\n",
    "\n",
    "**Dica**: Utilize o atribute `size` do objeto PIL para obter as dimenões da imagem e empregue os parâmetros default do método <font color='blue'>convert_from_path</font> para gerar a imagem.\n"
   ]
  },
  {
   "cell_type": "code",
   "execution_count": 55,
   "metadata": {},
   "outputs": [
    {
     "output_type": "stream",
     "name": "stdout",
     "text": "Gravando pagina:  avaliacao_images/pagina_0.png\nTAMANHO DA IMAGEM:  1653 X 2339\n"
    }
   ],
   "source": [
    "from pdf2image import convert_from_path \n",
    "from PIL import Image\n",
    "\n",
    "imagem_paginas = convert_from_path('nfe-avaliacao.pdf')\n",
    "\n",
    "for i,pagina in enumerate(imagem_paginas): \n",
    "    filename = \"avaliacao_images/pagina_\"+str(i)+\".png\"\n",
    "      \n",
    "    # Salavando a imagen da página em um arquivo\n",
    "    print('Gravando pagina: ',filename)\n",
    "    pagina.save(filename, 'PNG') \n",
    "    \n",
    "    altura, largura = Image.open(filename).size\n",
    "    print('TAMANHO DA IMAGEM: ', altura, 'X', largura)\n"
   ]
  },
  {
   "cell_type": "markdown",
   "metadata": {},
   "source": [
    "## RESPOSTA:<br>\n",
    "**LETRA A**"
   ]
  },
  {
   "cell_type": "markdown",
   "metadata": {},
   "source": [
    "### Exercício 2)\n",
    "Aplique OCR para extrair o texto contido na imagem gerada no exercício 1). Quantas linhas o texto resultante possui?\n",
    "\n",
    "a) 230<br>\n",
    "b) 231<br>\n",
    "c) 232<br>\n",
    "d) 233\n",
    "\n",
    "**Dica**: Para contar as linhas, procure pelo número de ocorrências do símbolo '\\n' no texto extraído."
   ]
  },
  {
   "cell_type": "code",
   "execution_count": 56,
   "metadata": {},
   "outputs": [
    {
     "output_type": "stream",
     "name": "stdout",
     "text": "231\n"
    }
   ],
   "source": [
    "import pytesseract as ocr\n",
    "ocr.pytesseract.tesseract_cmd = 'C:\\Program Files\\Tesseract-OCR\\\\tesseract.exe'\n",
    "\n",
    "imagem_avaliacao = ocr.image_to_string(Image.open(filename), lang='por')\n",
    "\n",
    "print(imagem_avaliacao.count('\\n'))"
   ]
  },
  {
   "cell_type": "markdown",
   "metadata": {},
   "source": [
    "## RESPOSTA: <br>\n",
    "**LETRA B**"
   ]
  },
  {
   "cell_type": "markdown",
   "metadata": {},
   "source": [
    "### Exercício 3)\n",
    "Escreva uma expressão regular para encontrar todos os valores financeiros descritos na nota. Ou seja, todos as ocorrências de uma sequência de dígitos que, precedem uma vírgula, a qual é seguida de exatamente outros dois dígitos (por exemplo: 7545,43). Quantas ocorrências de valores financeiros existem na NEF?\n",
    "\n",
    "\n",
    "a) 32<br>\n",
    "b) 33<br>\n",
    "c) 36<br>\n",
    "d) 38"
   ]
  },
  {
   "cell_type": "code",
   "execution_count": 65,
   "metadata": {},
   "outputs": [
    {
     "output_type": "stream",
     "name": "stdout",
     "text": "36\n['0,00', '0,00', '0,00', '0,00', '0,00', '0,00', '0,00', '0,00', '0,00', '0,00', '0,00', '0,00', '0,00', '0,00', '0,00', '0,00', '0,00', '0,00', '0,00', '0,00', '134,90', '1345,00', '1358,61', '1425,19', '16,66', '22487,83', '250,00', '2857,61', '337,62', '51,12', '55,90', '5600,00', '5687,62', '582,58', '67,90', '8,58']\n"
    }
   ],
   "source": [
    "expreg = '[\\d]+\\.\\d\\d\\d,\\d\\d\\s|[\\d]+,\\d\\d\\s'\n",
    "\n",
    "valores = re.findall(expreg, imagem_avaliacao)\n",
    "valores.sort()\n",
    "print(valores)"
   ]
  },
  {
   "cell_type": "markdown",
   "metadata": {},
   "source": [
    "## RESPOSTA:<br>\n",
    "**LETRA C**"
   ]
  },
  {
   "cell_type": "markdown",
   "metadata": {},
   "source": [
    "### Exercício 4)\n",
    "Dos valores financeiros obtidos no exercício anterior, os de valor maior que R$ 100,00 somam:\n",
    "\n",
    "a) 17456.65<br>\n",
    "b) 19122.95<br>\n",
    "c) 36456.25<br>\n",
    "d) 20345.86\n",
    "\n",
    "**Dica**: Converta as strings para float."
   ]
  },
  {
   "cell_type": "code",
   "execution_count": 81,
   "metadata": {},
   "outputs": [
    {
     "output_type": "stream",
     "name": "stdout",
     "text": "Removendo espaço em branco, quebra de linha, tabulações, etc..\n['0,00', '0,00', '0,00', '0,00', '0,00', '0,00', '0,00', '0,00', '0,00', '0,00', '0,00', '0,00', '0,00', '0,00', '0,00', '0,00', '0,00', '0,00', '0,00', '0,00', '134,90', '1345,00', '1358,61', '1425,19', '16,66', '22487,83', '250,00', '2857,61', '337,62', '51,12', '55,90', '5600,00', '5687,62', '582,58', '67,90', '8,58']\n\nRemovendo '.' e substituindo ',' por '.' \n['0.00', '0.00', '0.00', '0.00', '0.00', '0.00', '0.00', '0.00', '0.00', '0.00', '0.00', '0.00', '0.00', '0.00', '0.00', '0.00', '0.00', '0.00', '0.00', '0.00', '134.90', '1345.00', '1358.61', '1425.19', '16.66', '22487.83', '250.00', '2857.61', '337.62', '51.12', '55.90', '5600.00', '5687.62', '582.58', '67.90', '8.58']\n\nConvertendo para float\n[134.9, 250.0, 337.62, 582.58, 1345.0, 1358.61, 1425.19, 2857.61, 5600.0, 5687.62, 22487.83]\n\nSoma total:  42066.96000000001\n"
    }
   ],
   "source": [
    "# convertendo para float\n",
    "\n",
    "# removendo espacos em branco, \\n, \\t, etc\n",
    "print('Removendo espaço em branco, quebra de linha, tabulações, etc..')\n",
    "float_list = [''.join(s.split()) for s in valores] \n",
    "float_list.sort()\n",
    "print(float_list)\n",
    "\n",
    "# removendo '.' e substituindo ',' por '.' \n",
    "print(\"\\nRemovendo '.' e substituindo ',' por '.' \")\n",
    "float_list = [s.replace('.','').replace(',','.') for s in float_list] \n",
    "float_list.sort()\n",
    "print(float_list)\n",
    "\n",
    "# convertendo para float e somando\n",
    "print(\"\\nConvertendo para float\")\n",
    "float_list = [float(s) for s in float_list if float(s) > 100] \n",
    "float_list.sort()\n",
    "print(float_list)\n",
    "print('\\nSoma total: ',sum(float_list))"
   ]
  },
  {
   "cell_type": "markdown",
   "metadata": {},
   "source": [
    "SEM RESPOSTA DEFINIDA POR CAUSA DOS VALORES ENCONTRADOS"
   ]
  },
  {
   "cell_type": "markdown",
   "metadata": {},
   "source": [
    "### Exercício 5)\n",
    "Encontre todas as ocorrências da palavra \"VALOR\" onde o OCR reconheceu o caractere \"V\" de forma errada. Por exemplo, existem ocorrências onde o caractere \"V\" foi trocado pelo símbolo \"'\". Quantas ocorrências foram encontrada?\n",
    "\n",
    "a) 7<br>\n",
    "b) 8<br>\n",
    "c) 9<br>\n",
    "d) 10\n",
    "\n",
    "**Dica**: utilize o símbolo '^' combinado com '[ ]'"
   ]
  },
  {
   "cell_type": "code",
   "execution_count": 95,
   "metadata": {},
   "outputs": [
    {
     "output_type": "stream",
     "name": "stdout",
     "text": "[\"'ALOR\", 'VALOR', \"'ALOR\", 'VALOR', \"'ALOR\", 'VALOR', \"'ALOR\", \"'ALOR\", \"'ALOR\"]\n"
    }
   ],
   "source": [
    "print(re.findall(\"'ALOR|VALOR\", imagem_avaliacao)) "
   ]
  },
  {
   "cell_type": "markdown",
   "metadata": {},
   "source": [
    "## RESPOSTA:<br>\n",
    "*LETRA C*"
   ]
  }
 ],
 "metadata": {
  "kernelspec": {
   "display_name": "Python 3",
   "language": "python",
   "name": "python3"
  },
  "language_info": {
   "codemirror_mode": {
    "name": "ipython",
    "version": 3
   },
   "file_extension": ".py",
   "mimetype": "text/x-python",
   "name": "python",
   "nbconvert_exporter": "python",
   "pygments_lexer": "ipython3",
   "version": "3.7.7-final"
  }
 },
 "nbformat": 4,
 "nbformat_minor": 2
}