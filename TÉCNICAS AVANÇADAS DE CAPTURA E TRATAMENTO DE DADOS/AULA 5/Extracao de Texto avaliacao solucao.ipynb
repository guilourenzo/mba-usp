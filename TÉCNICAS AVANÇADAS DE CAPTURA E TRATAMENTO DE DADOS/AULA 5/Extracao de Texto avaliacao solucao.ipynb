{
 "cells": [
  {
   "cell_type": "markdown",
   "metadata": {},
   "source": [
    "# <span style=\"color:blue\"> MBA em Ciência de Dados</span>\n",
    "# <span style=\"color:blue\">Técnicas Avançadas para Captura e Tratamento de Dados</span>\n",
    "\n",
    "## <span style=\"color:blue\">Identificação e Extração de Texto</span>\n",
    "    \n",
    "## <span style=\"color:blue\">Avaliação</span>\n",
    "\n",
    "**Material Produzido por Luis Gustavo Nonato**<br>\n",
    "**Cemeai - ICMC/USP São Carlos**\n",
    "---"
   ]
  },
  {
   "cell_type": "markdown",
   "metadata": {},
   "source": [
    "Os exercícios a seguir farão uso do aquivo <font style=\"font-family: monaco\"> nfe-avaliacao.pdf</font>, disponíveis para download no Moodle."
   ]
  },
  {
   "cell_type": "markdown",
   "metadata": {},
   "source": [
    "### Exercício 1)\n",
    "Considere a nota fiscal eletrônica representada no arquivo <font style=\"font-family: monaco\"> nfe-avaliacao.pdf</font>. Converta o arquivo PDF em uma imagem no formato PNG. Utilize o pacote <font color='blue'>PIL</font> para carregar a imagem gerada. Qual a resolução da imagem gerada?\n",
    "\n",
    "<font color='red'> a) 1653 X 2339 </font><br>\n",
    "b) 1024 X 640 <br>\n",
    "c) 640 X 2339<br>\n",
    "d) 1001 X 2020\n",
    "\n",
    "\n",
    "**Dica**: Utilize o atribute `size` do objeto PIL para obter as dimenões da imagem e empregue os parâmetros default do método <font color='blue'>convert_from_path</font> para gerar a imagem.\n"
   ]
  },
  {
   "cell_type": "code",
   "execution_count": 1,
   "metadata": {},
   "outputs": [],
   "source": [
    "from pdf2image import convert_from_path \n",
    "from PIL import Image\n",
    "\n",
    "filename = 'nfe-avaliacao.pdf'\n",
    "\n",
    "nfe_imagem = convert_from_path(filename)\n",
    "\n",
    "for i,pagina in enumerate(nfe_imagem): \n",
    "    # Salavando a imagen da página em um arquivo\n",
    "    pagina.save('nfe-avaliacao.png', 'PNG') "
   ]
  },
  {
   "cell_type": "code",
   "execution_count": 2,
   "metadata": {},
   "outputs": [
    {
     "name": "stdout",
     "output_type": "stream",
     "text": [
      "Dimensões da imagem (1653, 2339)\n"
     ]
    }
   ],
   "source": [
    "# carregando a imagem e verificando as dimensões\n",
    "\n",
    "nfe_image = Image.open('nfe-avaliacao.png')\n",
    "print('Dimensões da imagem',nfe_image.size)"
   ]
  },
  {
   "cell_type": "markdown",
   "metadata": {},
   "source": [
    "### Exercício 2)\n",
    "Aplique OCR para extrair o texto contido na imagem gerada no exercício 1). Quantas linhas o texto resultante possui?\n",
    "\n",
    "a) 230<br>\n",
    "b) 231<br>\n",
    "<font color='red'>c) 232</font><br>\n",
    "d) 233\n",
    "\n",
    "**Dica**: Para contar as linhas, procure pelo número de ocorrências do símbolo '\\n' no texto extraído."
   ]
  },
  {
   "cell_type": "code",
   "execution_count": 3,
   "metadata": {},
   "outputs": [
    {
     "name": "stdout",
     "output_type": "stream",
     "text": [
      "232\n",
      "232\n",
      "232\n",
      "232\n"
     ]
    }
   ],
   "source": [
    "import pytesseract as ocr\n",
    "text_nfe = ocr.image_to_string(Image.open('nfe-avaliacao.png'), lang='por')\n",
    "\n",
    "# solucao 1\n",
    "nlinhas = [1 if c=='\\n' else 0 for c in text_nfe]\n",
    "print(sum(nlinhas)+1)\n",
    "\n",
    "# solucao 2\n",
    "print(text_nfe.count('\\n')+1)\n",
    "\n",
    "# solução 3\n",
    "nlinhas = text_nfe.split('\\n')\n",
    "print(len(nlinhas))\n",
    "\n",
    "# solução 4\n",
    "nlinhas = text_nfe.splitlines()\n",
    "print(len(nlinhas))"
   ]
  },
  {
   "cell_type": "markdown",
   "metadata": {},
   "source": [
    "### Exercício 3)\n",
    "Escreva uma expressão regular para encontrar todos os valores financeiros descritos na nota. Ou seja, todos as ocorrências de uma sequência de dígitos que, precedem uma vírgula, a qual é seguida de exatamente outros dois dígitos (por exemplo: 7545,43). Quantas ocorrências de valores financeiros existem na NEF?\n",
    "\n",
    "\n",
    "a) 32<br>\n",
    "b) 33<br>\n",
    "<font color='red'>c) 36</font><br>\n",
    "d) 38"
   ]
  },
  {
   "cell_type": "code",
   "execution_count": 4,
   "metadata": {},
   "outputs": [
    {
     "name": "stdout",
     "output_type": "stream",
     "text": [
      "['0,00 ', '0,00 ', '0,00 ', '0,00 ', '5687,62\\n', '250,00 ', '0,00 ', '337,62 ', '0,00 ', '0,00 ', '1425,19 ', '5600,00\\n', '8,58 ', '67,90 ', '582,58 ', '0,00 ', '0,00 ', '0,00 ', '0,00\\n', '16,66 ', '134,90 ', '2247,43 ', '0,00 ', '0,00 ', '0,00 ', '0,00\\n', '51,12 ', '55,90 ', '2857,61 ', '0,00 ', '0,00 ', '0,00 ', '0,00\\n', '0,00 ', '0,00 ', '0,00\\n']\n",
      "36\n"
     ]
    }
   ],
   "source": [
    "import re\n",
    "\n",
    "expreg = '[\\d]+,\\d\\d\\s'\n",
    "\n",
    "valores = re.findall(expreg,text_nfe)\n",
    "print(valores)\n",
    "print(len(valores))"
   ]
  },
  {
   "cell_type": "markdown",
   "metadata": {},
   "source": [
    "### Exercício 4)\n",
    "Dos valores financeiros obtidos no exercício anterior, os de valor maior que R$ 100,00 somam:\n",
    "\n",
    "a) 17456.65<br>\n",
    "<font color='red'>b) 19122.95</font><br>\n",
    "c) 36456.25<br>\n",
    "d) 20345.86\n",
    "\n",
    "**Dica**: Converta as strings para float."
   ]
  },
  {
   "cell_type": "code",
   "execution_count": 6,
   "metadata": {},
   "outputs": [
    {
     "name": "stdout",
     "output_type": "stream",
     "text": [
      "Removendo espaço em branco, quebra de linha, tabulações, etc..\n",
      "['0,00', '0,00', '0,00', '0,00', '5687,62', '250,00', '0,00', '337,62', '0,00', '0,00', '1425,19', '5600,00', '8,58', '67,90', '582,58', '0,00', '0,00', '0,00', '0,00', '16,66', '134,90', '2247,43', '0,00', '0,00', '0,00', '0,00', '51,12', '55,90', '2857,61', '0,00', '0,00', '0,00', '0,00', '0,00', '0,00', '0,00']\n",
      "\n",
      "Removendo '.' e substituindo ',' por '.' \n",
      "['0.00', '0.00', '0.00', '0.00', '5687.62', '250.00', '0.00', '337.62', '0.00', '0.00', '1425.19', '5600.00', '8.58', '67.90', '582.58', '0.00', '0.00', '0.00', '0.00', '16.66', '134.90', '2247.43', '0.00', '0.00', '0.00', '0.00', '51.12', '55.90', '2857.61', '0.00', '0.00', '0.00', '0.00', '0.00', '0.00', '0.00']\n",
      "\n",
      "Convertendo para float\n",
      "[5687.62, 250.0, 337.62, 1425.19, 5600.0, 582.58, 134.9, 2247.43, 2857.61]\n",
      "\n",
      "Soma total:  19122.95\n"
     ]
    }
   ],
   "source": [
    "# removendo espacos em branco, \\n, \\t, etc\n",
    "print('Removendo espaço em branco, quebra de linha, tabulações, etc..')\n",
    "float_list = [''.join(s.split()) for s in valores] \n",
    "print(float_list)\n",
    "\n",
    "# removendo '.' e substituindo ',' por '.' \n",
    "print(\"\\nRemovendo '.' e substituindo ',' por '.' \")\n",
    "float_list = [s.replace('.','').replace(',','.') for s in float_list] \n",
    "print(float_list)\n",
    "\n",
    "# convertendo para float e somando\n",
    "print(\"\\nConvertendo para float\")\n",
    "float_list = [float(s) for s in float_list] \n",
    "float_list_gt100 = [v for v in float_list if v>100.0] \n",
    "print(float_list_gt100)\n",
    "print('\\nSoma total: ',sum(float_list_gt100))"
   ]
  },
  {
   "cell_type": "markdown",
   "metadata": {},
   "source": [
    "### Exercício 5)\n",
    "Encontre todas as ocorrências da palavra \"VALOR\" onde o OCR reconheceu o caractere \"V\" de forma errada. Por exemplo, existem ocorrências onde o caractere \"V\" foi trocado pelo símbolo \"'\". Quantas ocorrências foram encontrada?\n",
    "\n",
    "a) 7<br>\n",
    "<font color='red'>b) 8 </font><br>\n",
    "c) 9<br>\n",
    "d) 10\n",
    "\n",
    "**Dica**: utilize o símbolo '^' combinado com '[ ]'"
   ]
  },
  {
   "cell_type": "code",
   "execution_count": 7,
   "metadata": {},
   "outputs": [
    {
     "name": "stdout",
     "output_type": "stream",
     "text": [
      "[\"'ALOR\", \"'ALOR\", \"'ALOR\", '2ALOR', \"'ALOR\", 'gALOR', \"'ALOR\", \"'ALOR\"]\n",
      "8\n"
     ]
    }
   ],
   "source": [
    "exp_valor = r'[^V]ALOR'\n",
    "V_errado = re.findall(exp_valor,text_nfe)\n",
    "print(V_errado)\n",
    "print(len(V_errado))"
   ]
  }
 ],
 "metadata": {
  "kernelspec": {
   "display_name": "Python 3",
   "language": "python",
   "name": "python3"
  },
  "language_info": {
   "codemirror_mode": {
    "name": "ipython",
    "version": 3
   },
   "file_extension": ".py",
   "mimetype": "text/x-python",
   "name": "python",
   "nbconvert_exporter": "python",
   "pygments_lexer": "ipython3",
   "version": "3.7.1"
  }
 },
 "nbformat": 4,
 "nbformat_minor": 2
}
