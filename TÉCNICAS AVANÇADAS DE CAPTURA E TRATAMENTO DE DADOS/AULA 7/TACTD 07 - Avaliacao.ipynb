{
  "nbformat": 4,
  "nbformat_minor": 0,
  "metadata": {
    "kernelspec": {
      "display_name": "Python 3",
      "language": "python",
      "name": "python3"
    },
    "language_info": {
      "codemirror_mode": {
        "name": "ipython",
        "version": 3
      },
      "file_extension": ".py",
      "mimetype": "text/x-python",
      "name": "python",
      "nbconvert_exporter": "python",
      "pygments_lexer": "ipython3",
      "version": "3.7.6-final"
    },
    "colab": {
      "name": "TACTD 07 - Avaliacao.ipynb",
      "provenance": [],
      "include_colab_link": true
    }
  },
  "cells": [
    {
      "cell_type": "markdown",
      "metadata": {
        "id": "view-in-github",
        "colab_type": "text"
      },
      "source": [
        "<a href=\"https://colab.research.google.com/github/guilourenzo/mba-usp/blob/master/T%C3%89CNICAS%20AVAN%C3%87ADAS%20DE%20CAPTURA%20E%20TRATAMENTO%20DE%20DADOS/AULA%207/TACTD%2007%20-%20Avaliacao.ipynb\" target=\"_parent\"><img src=\"https://colab.research.google.com/assets/colab-badge.svg\" alt=\"Open In Colab\"/></a>"
      ]
    },
    {
      "cell_type": "markdown",
      "metadata": {
        "id": "daaO1aE6I00o",
        "colab_type": "text"
      },
      "source": [
        "# MBA em Ciência de Dados\n",
        "## Técnicas Avançadas de Captura e Tratamento de Dados\n",
        "\n",
        "\n",
        "### <span style=\"color:darkred\">Módulo VII - Dados não estruturados: sinais e imagens</span>\n",
        "\n",
        "### <span style=\"color:darkred\">Avaliação</span>\n",
        "\n",
        "Moacir Antonelli Ponti\n",
        "\n",
        "CeMEAI - ICMC/USP São Carlos\n",
        "\n",
        "---\n",
        "\n",
        "#### <span style=\"color:red\">As respostas devem ser dadas no Moodle, o notebook deve ser usado para executar código para obtenção dos resultados.</span>\n",
        "\n",
        "---"
      ]
    },
    {
      "cell_type": "code",
      "metadata": {
        "id": "2qK6_2enI00p",
        "colab_type": "code",
        "colab": {}
      },
      "source": [
        "# carregando as bibliotecas necessárias\n",
        "import numpy as np\n",
        "np.set_printoptions(suppress=True)\n",
        "\n",
        "import matplotlib.pyplot as plt\n",
        "import pandas as pd"
      ],
      "execution_count": 0,
      "outputs": []
    },
    {
      "cell_type": "code",
      "metadata": {
        "id": "-hS_WMLtJpB1",
        "colab_type": "code",
        "colab": {
          "resources": {
            "http://localhost:8080/nbextensions/google.colab/files.js": {
              "data": "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",
              "ok": true,
              "headers": [
                [
                  "content-type",
                  "application/javascript"
                ]
              ],
              "status": 200,
              "status_text": ""
            }
          },
          "base_uri": "https://localhost:8080/",
          "height": 74
        },
        "outputId": "73d206ce-0ec7-4c1f-d5fd-10f972d8fb22"
      },
      "source": [
        "from google.colab import files\n",
        "uploaded = files.upload()\n"
      ],
      "execution_count": 2,
      "outputs": [
        {
          "output_type": "display_data",
          "data": {
            "text/html": [
              "\n",
              "     <input type=\"file\" id=\"files-b6719311-d00e-4b10-a6b1-8a7553b31b1f\" name=\"files[]\" multiple disabled />\n",
              "     <output id=\"result-b6719311-d00e-4b10-a6b1-8a7553b31b1f\">\n",
              "      Upload widget is only available when the cell has been executed in the\n",
              "      current browser session. Please rerun this cell to enable.\n",
              "      </output>\n",
              "      <script src=\"/nbextensions/google.colab/files.js\"></script> "
            ],
            "text/plain": [
              "<IPython.core.display.HTML object>"
            ]
          },
          "metadata": {
            "tags": []
          }
        },
        {
          "output_type": "stream",
          "text": [
            "Saving pollution.csv to pollution (1).csv\n"
          ],
          "name": "stdout"
        }
      ]
    },
    {
      "cell_type": "markdown",
      "metadata": {
        "id": "Do0o7XDWI00t",
        "colab_type": "text"
      },
      "source": [
        "### Questão 1)\n",
        "\n",
        "São exemplos típicos de dados não estruturados sequenciais e espaciais:\n",
        "\n",
        "(a) sequencial: a coluna idade de uma tabela de uma base de dados relacional, ordenada de forma ascendente; espacial: mapa de calor de temperaturas em uma região <br>\n",
        "(b) sequencial: valores de umidade relativa do ar obtidos em cidades diferentes de uma determinada região; espacial: os valores de uma tabela de base de dados relacional de compras<br>\n",
        "(c) sequencial: valores de temperatura obtidos de hora em hora em um determinado dia e cidade; espacial: uma imagem de satélite<br>\n",
        "(d) sequencial: quantidade de acessos à uma página web coletados a cada minuto; espacial: áudio capturado de uma sala de reuniões<br>"
      ]
    },
    {
      "cell_type": "markdown",
      "metadata": {
        "id": "ZaGLZbT7I00u",
        "colab_type": "text"
      },
      "source": [
        "## RESPOSTA:<br>\n",
        "**LETRA C**: sequencial: valores de temperatura obtidos de hora em hora em um determinado dia e cidade; espacial: uma imagem de satélite"
      ]
    },
    {
      "cell_type": "markdown",
      "metadata": {
        "id": "Qkx3H214I00u",
        "colab_type": "text"
      },
      "source": [
        "### Questão 2)\n",
        "\n",
        "Carregue os dados do arquivo `pollution.csv` utilizando o comando `pd.read_csv()`\n",
        "\n",
        "Esse dataframe possui 3 colunas (0, 1 e 2) relativas a medição de monóxido de carbono durante 12 horas de dia em localidades de uma cidade, sendo que o primeiro deles (na primeira coluna) foi capturado em um mesmo bairro na periferia da cidade próximo à rodovia. Os outros dois não sabemos onde foram coletados, mas sabemos que um deles teve coleta em uma região central, e o outro também em uma região periférica.\n",
        "\n",
        "Queremos identificar qual coluna (1 ou 2) mais se assemelha a primeira (0). Para isso, utilize a distância euclidiana e um vetor de características composto de:\n",
        "* Entropia da energia (com 12 blocos)\n",
        "* Entropia espectral (com 12 blocos)\n",
        "* Centróide espectral (considere frequência = 0.2Hz)\n",
        "* Dispersão espectral (considere frequência = 0.2Hz)\n",
        "\n",
        "Qual coluna é a mais semelhante, e quando consideramos a comparação da coluna 0 com essa mais semelhante, qual feature (individualmente) apresentou a menor distância Euclidiana?\n",
        "\n",
        "(a) Coluna 2, Feature Entropia da Energia<br>\n",
        "(b) Coluna 1, Feature Centróide espectral<br>\n",
        "(c) Coluna 2, Feature Dispersão espectral<br>\n",
        "(d) Coluna 1, Feature Entropia espectral<br>"
      ]
    },
    {
      "cell_type": "code",
      "metadata": {
        "id": "m7H41TwQI00v",
        "colab_type": "code",
        "colab": {
          "base_uri": "https://localhost:8080/",
          "height": 195
        },
        "outputId": "7387f2cd-ba38-4363-be9e-f97a3047533b"
      },
      "source": [
        "pollution = pd.read_csv('pollution.csv')\n",
        "pollution.shape\n",
        "pollution.head()"
      ],
      "execution_count": 3,
      "outputs": [
        {
          "output_type": "execute_result",
          "data": {
            "text/html": [
              "<div>\n",
              "<style scoped>\n",
              "    .dataframe tbody tr th:only-of-type {\n",
              "        vertical-align: middle;\n",
              "    }\n",
              "\n",
              "    .dataframe tbody tr th {\n",
              "        vertical-align: top;\n",
              "    }\n",
              "\n",
              "    .dataframe thead th {\n",
              "        text-align: right;\n",
              "    }\n",
              "</style>\n",
              "<table border=\"1\" class=\"dataframe\">\n",
              "  <thead>\n",
              "    <tr style=\"text-align: right;\">\n",
              "      <th></th>\n",
              "      <th>carbon_monoxide_A</th>\n",
              "      <th>carbon_monoxide_B</th>\n",
              "      <th>carbon_monoxide_C</th>\n",
              "    </tr>\n",
              "  </thead>\n",
              "  <tbody>\n",
              "    <tr>\n",
              "      <th>0</th>\n",
              "      <td>49</td>\n",
              "      <td>57</td>\n",
              "      <td>78</td>\n",
              "    </tr>\n",
              "    <tr>\n",
              "      <th>1</th>\n",
              "      <td>45</td>\n",
              "      <td>54</td>\n",
              "      <td>81</td>\n",
              "    </tr>\n",
              "    <tr>\n",
              "      <th>2</th>\n",
              "      <td>48</td>\n",
              "      <td>59</td>\n",
              "      <td>86</td>\n",
              "    </tr>\n",
              "    <tr>\n",
              "      <th>3</th>\n",
              "      <td>52</td>\n",
              "      <td>58</td>\n",
              "      <td>87</td>\n",
              "    </tr>\n",
              "    <tr>\n",
              "      <th>4</th>\n",
              "      <td>49</td>\n",
              "      <td>63</td>\n",
              "      <td>86</td>\n",
              "    </tr>\n",
              "  </tbody>\n",
              "</table>\n",
              "</div>"
            ],
            "text/plain": [
              "   carbon_monoxide_A  carbon_monoxide_B  carbon_monoxide_C\n",
              "0                 49                 57                 78\n",
              "1                 45                 54                 81\n",
              "2                 48                 59                 86\n",
              "3                 52                 58                 87\n",
              "4                 49                 63                 86"
            ]
          },
          "metadata": {
            "tags": []
          },
          "execution_count": 3
        }
      ]
    },
    {
      "cell_type": "code",
      "metadata": {
        "id": "h9---KDFI00z",
        "colab_type": "code",
        "colab": {}
      },
      "source": [
        "cmA = np.array(pollution['carbon_monoxide_A'])\n",
        "cmB = np.array(pollution['carbon_monoxide_B'])\n",
        "cmC = np.array(pollution['carbon_monoxide_C'])\n"
      ],
      "execution_count": 0,
      "outputs": []
    },
    {
      "cell_type": "code",
      "metadata": {
        "id": "LoMk_cDvI002",
        "colab_type": "code",
        "colab": {}
      },
      "source": [
        "def entropia_energia(sinal, n_blocos=12):\n",
        "    '''Entropia da energia do sinal'''\n",
        "    # energia total \n",
        "    energia_sinal = np.sum(sinal ** 2)\n",
        "    M = len(sinal)\n",
        "    \n",
        "    # calcula janelas dentro do sinal\n",
        "    M_janelas = int(np.floor(M / n_blocos))\n",
        "    # verifica se tamanho dos blocos \n",
        "    # é multiplo do tamanho do sinal\n",
        "    if M != M_janelas * n_blocos:\n",
        "        sinal = sinal[0:M_janelas * n_blocos]\n",
        "\n",
        "    # monta matriz [M_janelas x n_blocos]\n",
        "    janelas = sinal.reshape(M_janelas, n_blocos, order='F').copy()\n",
        "    \n",
        "    # Computa energias de cada janela (normalizada pela do sinal)\n",
        "    e_janelas = np.sum(janelas ** 2, axis=0) / (energia_sinal + 0.0001)\n",
        "    #print(e_janelas)\n",
        "\n",
        "    # Computa entropia entre energias das janelas\n",
        "    entropia = -np.sum(e_janelas * np.log2(e_janelas + 0.0001))\n",
        "    return entropia\n",
        "\n",
        "def entropia_espectral(sinal, n_blocos=12):\n",
        "    \"\"\"Computes the spectral entropy\"\"\"\n",
        "    \n",
        "    fft_abs = np.abs(np.fft.fft(sinal))\n",
        "    \n",
        "    entropia_esp = entropia_energia(fft_abs, n_blocos=n_blocos)\n",
        "\n",
        "    return entropia_esp\n",
        "\n",
        "def centroide_dispersao_espectral(sinal, tx_amostragem=0.2):\n",
        "    '''Calcula o centro de massa e dispersão do espectro do sinal'''\n",
        "    \n",
        "    fft_abs = np.abs( np.fft.fft(sinal) )\n",
        "    N = len(fft_abs)\n",
        "    \n",
        "    # indices de frequencia\n",
        "    ind = (np.arange(1, N+1)) * (tx_amostragem / (2.0*N))\n",
        "\n",
        "    # calcula a distribuicao do espectro normalizando para soma unitária\n",
        "    Xt = fft_abs.copy()\n",
        "    Xt = Xt / Xt.max()\n",
        "    NUM = np.sum(ind * Xt)\n",
        "    DEN = np.sum(Xt) + 0.0001 \n",
        "\n",
        "    # Centroide:\n",
        "    centroide = (NUM / DEN)\n",
        "\n",
        "    # Dispersão:\n",
        "    dispersao = np.sqrt(np.sum(((ind - centroide) ** 2) * Xt) / DEN)\n",
        "\n",
        "    # Normalizando:\n",
        "    centroid = centroide / (tx_amostragem / 2.0)\n",
        "    dispersao = dispersao / (tx_amostragem / 2.0)\n",
        "\n",
        "    return centroide, dispersao\n",
        "\n",
        "def Euclidean_distance(A, B):\n",
        "    \"\"\" Calcula a distancia Euclidiana entre dois vetores de mesmo tamanho\"\"\"\n",
        "    return  np.sqrt( np.sum((A-B)**2) )\n"
      ],
      "execution_count": 0,
      "outputs": []
    },
    {
      "cell_type": "code",
      "metadata": {
        "id": "VbE02Y4MI005",
        "colab_type": "code",
        "colab": {}
      },
      "source": [
        "#Entropia Energia com 12 blocos\n",
        "cmA_ent_energia = entropia_energia(cmA)\n",
        "cmB_ent_energia = entropia_energia(cmB)\n",
        "cmC_ent_energia = entropia_energia(cmC)\n",
        "\n",
        "#Entropia Espectral com 12 blocos\n",
        "cmA_ent_espectral = entropia_espectral(cmA)\n",
        "cmB_ent_espectral = entropia_espectral(cmB)\n",
        "cmC_ent_espectral = entropia_espectral(cmC)\n",
        "\n",
        "#Centroide Espectral & Dispersão Espectral com 0.2 Hz\n",
        "cmA_disp_espectral = centroide_dispersao_espectral(cmA)\n",
        "cmB_disp_espectral = centroide_dispersao_espectral(cmB)\n",
        "cmC_disp_espectral = centroide_dispersao_espectral(cmC)"
      ],
      "execution_count": 0,
      "outputs": []
    },
    {
      "cell_type": "code",
      "metadata": {
        "id": "gtBN12riI008",
        "colab_type": "code",
        "colab": {}
      },
      "source": [
        "#Entropia energia\n",
        "ent_energiaAB = Euclidean_distance(cmA_ent_energia, cmB_ent_energia)\n",
        "ent_energiaAC = Euclidean_distance(cmA_ent_energia, cmC_ent_energia)\n",
        "\n",
        "#Entropia espectral\n",
        "ent_espectralAB = Euclidean_distance(cmA_ent_espectral, cmB_ent_espectral)\n",
        "ent_espectralAC = Euclidean_distance(cmA_ent_espectral, cmC_ent_espectral)\n",
        "\n",
        "#Disperção espectral\n",
        "disp_espectralAB = Euclidean_distance(cmA_disp_espectral[1], cmB_disp_espectral[1])\n",
        "disp_espectralAC = Euclidean_distance(cmA_disp_espectral[1], cmC_disp_espectral[1])\n",
        "\n",
        "#Centróide espectral\n",
        "cent_espectralAB = Euclidean_distance(cmA_disp_espectral[0], cmB_disp_espectral[0])\n",
        "cent_espectralAC = Euclidean_distance(cmA_disp_espectral[0], cmC_disp_espectral[0])\n"
      ],
      "execution_count": 0,
      "outputs": []
    },
    {
      "cell_type": "code",
      "metadata": {
        "id": "DCVHuZMSI00_",
        "colab_type": "code",
        "colab": {
          "base_uri": "https://localhost:8080/",
          "height": 202
        },
        "outputId": "3d1ccb27-f0a1-436d-9a0c-0c7d7bf43cbf"
      },
      "source": [
        "print('Entropia Energia - A & B:', ent_energiaAB)\n",
        "print('Entropia Energia - A & C:', ent_energiaAC)\n",
        "\n",
        "print(5*'**')\n",
        "\n",
        "print('Entropia Espectral - A & B:', ent_espectralAB)\n",
        "print('Entropia Espectral - A & C:', ent_espectralAC)\n",
        "\n",
        "print(5*'**')\n",
        "\n",
        "print('Disperção Espectral - A & B:', disp_espectralAB)\n",
        "print('Disperção Espectral - A & C:', disp_espectralAC)\n",
        "\n",
        "print(5*'**')\n",
        "\n",
        "print('Centróide Espectral - A & B:', cent_espectralAB)\n",
        "print('Centróide Espectral - A & C:', cent_espectralAC)\n"
      ],
      "execution_count": 8,
      "outputs": [
        {
          "output_type": "stream",
          "text": [
            "Entropia Energia - A & B: 0.02734293195183435\n",
            "Entropia Energia - A & C: 0.1380771769686988\n",
            "**********\n",
            "Entropia Espectral - A & B: 0.023982881626790076\n",
            "Entropia Espectral - A & C: 0.022061922508140208\n",
            "**********\n",
            "Disperção Espectral - A & B: 0.00035034883870294076\n",
            "Disperção Espectral - A & C: 0.00040188720178885307\n",
            "**********\n",
            "Centróide Espectral - A & B: 3.612498197098912e-05\n",
            "Centróide Espectral - A & C: 0.0007277700766476561\n"
          ],
          "name": "stdout"
        }
      ]
    },
    {
      "cell_type": "markdown",
      "metadata": {
        "id": "hyLpgpv1I01C",
        "colab_type": "text"
      },
      "source": [
        "## RESPOSTA:<br>\n",
        "** LETRA B**: Coluna 1, Feature Centróide espectral"
      ]
    },
    {
      "cell_type": "markdown",
      "metadata": {
        "id": "ohG6rFsaI01C",
        "colab_type": "text"
      },
      "source": [
        "### Questão 3)\n",
        "\n",
        "Carrege as imagens da base de dados `lfw_subset` contida na biblioteca `skimage`, conforme código abaixo. As 100 primeiras imagens são imagens de faces, utilize apenas essas, desconsiderando as demais.\n",
        "\n",
        "Vamos utilizar o método LBP (com parâmetros conforme visto nos exercícios) e a distância Euclidiana para comparar faces dessa base de dados.\n",
        "\n",
        "Utilizando como imagem de consulta a imagem 45 da lista,  e os seguintes parâmetros para o LBP:\n",
        "* points = 8\n",
        "* radius = 1\n",
        "* n_bins = 10\n",
        "\n",
        "Retorne as 5 imagens mais similares (excluindo a de consulta). Quais são os índices dessas imagens?\n",
        "\n",
        "(a) 0, 1, 45, 77, 81<br>\n",
        "(b) 39, 30, 77,  0, 81<br>\n",
        "(c) 1, 99, 81,  0, 11<br>\n",
        "(d) 1, 39, 77, 0, 81</font>"
      ]
    },
    {
      "cell_type": "code",
      "metadata": {
        "id": "vH0YpGOII01D",
        "colab_type": "code",
        "colab": {
          "base_uri": "https://localhost:8080/",
          "height": 297
        },
        "outputId": "97903c11-ddbe-4358-b93b-1d5448ef6f56"
      },
      "source": [
        "import matplotlib.pyplot as plt\n",
        "import matplotlib\n",
        "from skimage import feature\n",
        "from skimage import data\n",
        "fig, axes = plt.subplots(4, 4, figsize=(4, 4))\n",
        "ax = axes.ravel()\n",
        "imgs = data.lfw_subset()\n",
        "# mostrando as 16 primeiras imagens\n",
        "for i in range(16):\n",
        "    ax[i].imshow(imgs[i], cmap=plt.cm.gray)\n",
        "    ax[i].axis('off')\n",
        "fig.tight_layout()"
      ],
      "execution_count": 9,
      "outputs": [
        {
          "output_type": "display_data",
          "data": {
            "image/png": "[encoded data removed]",
            "text/plain": [
              "<Figure size 288x288 with 16 Axes>"
            ]
          },
          "metadata": {
            "tags": [],
            "needs_background": "light"
          }
        }
      ]
    },
    {
      "cell_type": "code",
      "metadata": {
        "id": "fb9g2xwFI01G",
        "colab_type": "code",
        "colab": {}
      },
      "source": [
        "def lbp_features(img, points=8, radius=1, n_bins=10):\n",
        "    # LBP opera em imagens de um só canal, aqui vamos converter \n",
        "    # RGB para escala de cinza usando o método Luminance\n",
        "    img = np.array(img, dtype=np.float64, copy=False)\n",
        "    if (len(img.shape) > 2):\n",
        "        img = img[:,:,0]*0.3 + img[:,:,1]*0.59 + img[:,:,2]*0.11\n",
        "    \n",
        "    # normaliza a imagem para ter máximo = 255\n",
        "    if (np.max(img) > 0):\n",
        "        img = ((img/np.max(img))*255).astype(np.uint8)\n",
        "    \n",
        "    # aqui definimos o numero de pontos e o raio, padrao = 8, 1\n",
        "    lbp = feature.local_binary_pattern(img.astype(np.uint8), points, radius, method=\"uniform\")\n",
        "    \n",
        "    # lbp retorna um matriz com os códigos, então devemos extraír o histograma\n",
        "    (hist, _) = np.histogram(lbp.ravel(), bins=np.arange(0, n_bins+1), range=(0, n_bins))\n",
        "\n",
        "    # normaliza o histograma\n",
        "    hist = hist.astype(\"float\")\n",
        "    hist /= (hist.sum() + 1e-6)\n",
        "    # return the histogram of Local Binary Patterns\n",
        "\n",
        "    return hist"
      ],
      "execution_count": 0,
      "outputs": []
    },
    {
      "cell_type": "code",
      "metadata": {
        "id": "ZfSfIcIyI01J",
        "colab_type": "code",
        "colab": {
          "base_uri": "https://localhost:8080/",
          "height": 407
        },
        "outputId": "2eb1c1e9-2683-4a7c-edcf-40fd2dce5ef7"
      },
      "source": [
        "plt.figure(figsize=(5, 6))\n",
        "plt.imshow(imgs[45], cmap=plt.cm.gray)\n",
        "plt.suptitle('Índice: 45', fontsize=14, fontweight='bold')\n",
        "plt.axis('off')\n",
        "plt.tight_layout()"
      ],
      "execution_count": 11,
      "outputs": [
        {
          "output_type": "display_data",
          "data": {
            "image/png": "[encoded data removed]",
            "text/plain": [
              "<Figure size 360x432 with 1 Axes>"
            ]
          },
          "metadata": {
            "tags": [],
            "needs_background": "light"
          }
        }
      ]
    },
    {
      "cell_type": "code",
      "metadata": {
        "id": "aVmTTTXcI01L",
        "colab_type": "code",
        "colab": {
          "base_uri": "https://localhost:8080/",
          "height": 139
        },
        "outputId": "9c806628-45bf-486c-f5a5-b8ca446910af"
      },
      "source": [
        "#imagem 45\n",
        "img45 = imgs[45]\n",
        "\n",
        "#dicionários auxiliares\n",
        "lbp_images = {}\n",
        "dist = {}\n",
        "\n",
        "#busca das LBP e validação das Distâncias\n",
        "for i in range(100):\n",
        "    lbp_images[i] = lbp_features(imgs[i])\n",
        "    \n",
        "    # if i != 45:\n",
        "    dist[i] = Euclidean_distance(lbp_features(img45), lbp_images[i])\n",
        "    \n",
        "#Ordenação das Distâncias\n",
        "sorted_dist = sorted(dist.items(), key= lambda kv: kv[1])\n",
        "\n",
        "#Exibição das 5 primeiras\n",
        "print(sorted_dist[1:6])\n",
        "\n",
        "#Exibição das faces\n",
        "fig, axes = plt.subplots(1, 6, figsize=(10, 6))\n",
        "ax = axes.ravel()\n",
        "for i in range(6):\n",
        "    ax[i].imshow(imgs[sorted_dist[i][0]], cmap=plt.cm.gray)\n",
        "    if i == 0:\n",
        "      ax[i].set_title('Imagem Consultada: {}'.format(sorted_dist[i][0]))\n",
        "    if i != 0:\n",
        "      ax[i].set_title('Índice: {}'.format(sorted_dist[i][0]))\n",
        "    ax[i].axis('off')\n",
        "fig.tight_layout()"
      ],
      "execution_count": 12,
      "outputs": [
        {
          "output_type": "stream",
          "text": [
            "[(1, 0.02262741696176566), (39, 0.024683597753372657), (77, 0.025399212545581328), (0, 0.027988569050475736), (81, 0.028888752090206454)]\n"
          ],
          "name": "stdout"
        },
        {
          "output_type": "display_data",
          "data": {
            "image/png": "[encoded data removed]",
            "text/plain": [
              "<Figure size 720x432 with 6 Axes>"
            ]
          },
          "metadata": {
            "tags": [],
            "needs_background": "light"
          }
        }
      ]
    },
    {
      "cell_type": "markdown",
      "metadata": {
        "id": "9eajm0aSI01P",
        "colab_type": "text"
      },
      "source": [
        "### Questão 4)\n",
        "\n",
        "Vamos utilizar o método LBP (com parâmetros conforme visto nos exercícios) e a distância Euclidiana para comparar faces na mesma base de dados utilizada na questão anterior. Porém agora vamos calcular dois descritores LBP, cada qual com parâmetros diferentes, contatená-los e utilizar esse vetor concatenado para recuperar imagens similares.\n",
        "\n",
        "Vetor LBP 1:\n",
        "* points = 8\n",
        "* radius = 1\n",
        "* n_bins = 10\n",
        "\n",
        "Vetor LBP 2:\n",
        "* points = 16\n",
        "* radius = 3\n",
        "* n_bins = 18\n",
        "\n",
        "Utilizando como imagem de consulta a imagem 45 da lista, retorne as 5 imagens mais similares (excluindo a de consulta). Essas características com a imagem de consulta utilizada representou bem imagens com uma característica facial específica. Qual é essa característica?\n",
        "\n",
        "(a) Pessoas de óculos<br>\n",
        "(b) Mulheres brancas<br>\n",
        "(c) Mulheres com cabelo de cor escura<br>\n",
        "(d) Pessoas sorrindo<br>"
      ]
    },
    {
      "cell_type": "code",
      "metadata": {
        "id": "Wc7oqFB1I01P",
        "colab_type": "code",
        "colab": {
          "base_uri": "https://localhost:8080/",
          "height": 67
        },
        "outputId": "609067d5-6647-47bb-86e5-c6655675cbdd"
      },
      "source": [
        "#dicionários auxiliares\n",
        "lbp1_images = {}\n",
        "lbp2_images = {}\n",
        "\n",
        "dist_list1 = {}\n",
        "dist_list2 = {}\n",
        "\n",
        "#busca das LBP e validação das Distâncias\n",
        "for i in range(100):\n",
        "    lbp1_images[i] = lbp_features(imgs[i],  8, 1, 10)\n",
        "    lbp2_images[i] = lbp_features(imgs[i], 16, 3, 18)\n",
        "    \n",
        "    # if i != 45:\n",
        "    dist_list1[i] = Euclidean_distance(lbp_features(img45,  8, 1, 10), lbp1_images[i])\n",
        "    dist_list2[i] = Euclidean_distance(lbp_features(img45, 16, 3, 18), lbp2_images[i])\n",
        "    \n",
        "#Ordenação das Distâncias\n",
        "sorted_dist_list1 = sorted(dist_list1.items(), key= lambda kv: kv[1])\n",
        "sorted_dist_list2 = sorted(dist_list2.items(), key= lambda kv: kv[1])\n",
        "\n",
        "#Exibição das 5 primeiras\n",
        "print(sorted_dist_list1[1:6])\n",
        "print(5*'***')\n",
        "print(sorted_dist_list2[1:6])\n"
      ],
      "execution_count": 13,
      "outputs": [
        {
          "output_type": "stream",
          "text": [
            "[(1, 0.02262741696176566), (39, 0.024683597753372657), (77, 0.025399212545581328), (0, 0.027988569050475736), (81, 0.028888752090206454)]\n",
            "***************\n",
            "[(30, 0.03409164114971339), (92, 0.040413858944346105), (38, 0.04208942853414781), (11, 0.04358348304027038), (98, 0.04559298184313126)]\n"
          ],
          "name": "stdout"
        }
      ]
    },
    {
      "cell_type": "code",
      "metadata": {
        "id": "SFYAAq5TI01S",
        "colab_type": "code",
        "colab": {
          "base_uri": "https://localhost:8080/",
          "height": 407
        },
        "outputId": "47448ad3-037b-4ef7-8be2-8a55fa3007c0"
      },
      "source": [
        "plt.figure(figsize=(5, 6))\n",
        "plt.imshow(imgs[45], cmap=plt.cm.gray)\n",
        "plt.suptitle('Índice: 45', fontsize=14, fontweight='bold')\n",
        "plt.axis('off')\n",
        "plt.tight_layout()"
      ],
      "execution_count": 14,
      "outputs": [
        {
          "output_type": "display_data",
          "data": {
            "image/png": "[encoded data removed]",
            "text/plain": [
              "<Figure size 360x432 with 1 Axes>"
            ]
          },
          "metadata": {
            "tags": [],
            "needs_background": "light"
          }
        }
      ]
    },
    {
      "cell_type": "code",
      "metadata": {
        "id": "l8xaIKpgI01U",
        "colab_type": "code",
        "colab": {
          "base_uri": "https://localhost:8080/",
          "height": 139
        },
        "outputId": "52503d6c-5fd6-499d-b0d0-8292d9755297"
      },
      "source": [
        "print('LISTA 1')\n",
        "#Exibição das faces\n",
        "fig, axes = plt.subplots(1, 6, figsize=(10, 6))\n",
        "ax = axes.ravel()\n",
        "for i in range(6):\n",
        "    ax[i].imshow(imgs[sorted_dist_list1[i][0]], cmap=plt.cm.gray)\n",
        "    if i == 0:\n",
        "      ax[i].set_title('Imagem Consultada: {}'.format(sorted_dist_list1[i][0]))\n",
        "    if i != 0:\n",
        "      ax[i].set_title('Índice: {}'.format(sorted_dist_list1[i][0]))\n",
        "    ax[i].axis('off')\n",
        "fig.tight_layout()"
      ],
      "execution_count": 15,
      "outputs": [
        {
          "output_type": "stream",
          "text": [
            "LISTA 1\n"
          ],
          "name": "stdout"
        },
        {
          "output_type": "display_data",
          "data": {
            "image/png": "[encoded data removed]",
            "text/plain": [
              "<Figure size 720x432 with 6 Axes>"
            ]
          },
          "metadata": {
            "tags": [],
            "needs_background": "light"
          }
        }
      ]
    },
    {
      "cell_type": "code",
      "metadata": {
        "id": "FSTAnUucI01X",
        "colab_type": "code",
        "colab": {
          "base_uri": "https://localhost:8080/",
          "height": 139
        },
        "outputId": "57916ab9-6457-4590-ee3a-ff6e1296dede"
      },
      "source": [
        "print('LISTA 2')\n",
        "#Exibição das faces\n",
        "fig, axes = plt.subplots(1, 6, figsize=(10, 6))\n",
        "ax = axes.ravel()\n",
        "for i in range(6):\n",
        "    ax[i].imshow(imgs[sorted_dist_list2[i][0]], cmap=plt.cm.gray)\n",
        "    if i == 0:\n",
        "      ax[i].set_title('Imagem Consultada: {}'.format(sorted_dist_list2[i][0]))\n",
        "    if i != 0:\n",
        "      ax[i].set_title('Índice: {}'.format(sorted_dist_list2[i][0]))\n",
        "    ax[i].axis('off')\n",
        "fig.tight_layout()"
      ],
      "execution_count": 16,
      "outputs": [
        {
          "output_type": "stream",
          "text": [
            "LISTA 2\n"
          ],
          "name": "stdout"
        },
        {
          "output_type": "display_data",
          "data": {
            "image/png": "[encoded data removed]",
            "text/plain": [
              "<Figure size 720x432 with 6 Axes>"
            ]
          },
          "metadata": {
            "tags": [],
            "needs_background": "light"
          }
        }
      ]
    },
    {
      "cell_type": "markdown",
      "metadata": {
        "id": "gTA40wWFI01a",
        "colab_type": "text"
      },
      "source": [
        "## RESPOSTA:<br>\n",
        "**LETRA D**: Pessoas sorrindo"
      ]
    },
    {
      "cell_type": "markdown",
      "metadata": {
        "id": "D3b0hTWFI01a",
        "colab_type": "text"
      },
      "source": [
        "### Questão 5)\n",
        " \n",
        "Considere as seguintes afirmações sobre o método Bag-of-features:\n",
        "\n",
        "I - um *framework* para aprender características com base nos dados e que pode ser aplicado em dados não estruturados como texto, sinais, imagens e vídeo.<br>\n",
        "II - um método de descrição de dados não estruturados por meio do PCA.<br>\n",
        "III - permite obter características que podem ser utilizadas em tarefas como: recuperação de informação, agrupamento e classificação<br>\n",
        "IV - o tamanho do dicionário é um dos parâmetros mais relevantes e, em geral, quanto maior puder ser definido com base na capacidade computacional, melhores serão os resultados.<br>\n",
        "V - pode-se utilizar qualquer extrator de características como base para uso no Bag-of-Features.<br>\n",
        "VI - uma desvantagem do método é o número de escolhas possíveis a definir em cada etapa, as quais exigem uma busca pelos melhores parâmetros.<br>\n",
        "\n",
        "São verdadeiras as afirmações:\n",
        "\n",
        "(a) I, II, III e V<br>\n",
        "(b) I, III, V e VI<br>\n",
        "(c) I, III, IV, V e VI<br>\n",
        "(d) I, III, IV, V<br>"
      ]
    },
    {
      "cell_type": "markdown",
      "metadata": {
        "id": "nooGdJHII01b",
        "colab_type": "text"
      },
      "source": [
        "## RESPOSTA:<br>\n",
        "**LETRA B**: I, III, V e VI"
      ]
    }
  ]
}