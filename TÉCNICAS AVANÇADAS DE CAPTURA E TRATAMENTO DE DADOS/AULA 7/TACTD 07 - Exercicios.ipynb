{
 "cells": [
  {
   "cell_type": "markdown",
   "metadata": {},
   "source": [
    "# MBA em Ciência de Dados\n",
    "## Técnicas Avançadas de Captura e Tratamento de Dados\n",
    "\n",
    "\n",
    "### <span style=\"color:darkred\">Módulo VII - Dados não estruturados: sinais e imagens</span>\n",
    "\n",
    "### <span style=\"color:darkred\">Exercícios</span>\n",
    "\n",
    "Moacir Antonelli Ponti\n",
    "\n",
    "CeMEAI - ICMC/USP São Carlos\n",
    "\n",
    "---\n",
    "\n",
    "#### <span style=\"color:red\">Recomenda-se fortemente que os exercícios sejam feitos sem consultar as respostas antecipadamente.</span>\n",
    "\n",
    "---"
   ]
  },
  {
   "cell_type": "code",
   "execution_count": 1,
   "metadata": {},
   "outputs": [],
   "source": [
    "# carregando as bibliotecas necessárias\n",
    "import numpy as np\n",
    "import matplotlib.pyplot as plt\n",
    "import pandas as pd"
   ]
  },
  {
   "cell_type": "markdown",
   "metadata": {},
   "source": [
    "### Exercício 1)\n",
    "\n",
    "Quando comparamos imagens e sinais e suas características, o que devemos considerar a priori?\n",
    "\n",
    "(a) Sinais possuem valores independente e identicamente distribuídos, enquanto Imagens possuem pixels organizados de forma espacial<br>\n",
    "(b) Sinais possuem valores codificados em 16 bits, enquanto imagens possuem valores codificados em 8 bits<br>\n",
    "(c) Sinais possuem valores com dependência sequencial, enquanto imagens não possuem padrão de dependência<br>\n",
    "(d) Sinais possuem valores com dependência sequencial, enquanto Imagens possuem dependência espacial de seus valores<br>"
   ]
  },
  {
   "cell_type": "markdown",
   "metadata": {},
   "source": [
    "### Exercício 2)\n",
    "\n",
    "Carregue os dados do arquivo `sinais2.csv` utilizando o comando:\n",
    "\n",
    "`signals = np.genfromtxt(arquivo, delimiter=',').astype(np.float32)`\n",
    "\n",
    "Esse array possui um sinal por linha `signals[i]`. Calcule a autocorrelação (usada para identificar padrões de repetição) de cada sinal (utilizando a função vista em aula). Plote os sinals e o valor absoluto de suas respectivas autocorrelações considerando deslocamentos (*lags*) de 1 até 50.\n",
    "\n",
    "Calcule também o desvio padrão `np.std()` da autocorrelação de 1 até 50 de cada sinal. \n",
    "\n",
    "Observe que um dos sinais possui desvio padrão maior relativo à autocorrelação e analise o padrão da autocorrelação exibida no gráfico. Considerando a posição do sinal no array (de 0 a 4), escolha a alternativa verdadeira:\n",
    "\n",
    "(a) A análise de autocorrelação mostra que os sinais 0 e 1 são sinais similares, sendo os demais bastante diferentes como evidenciado pelo desvio padrão da autocorrelação.<br>\n",
    "(b) A análise de autocorrelação mostra que o sinal 3 tem desvio padrão superior e gráfico mais instável, indicando que esse possa ser um sinal com menos padrões de repetição, e portanto menor dependência temporal do que os demais.<br>\n",
    "(c) A análise de autocorrelação indica que os sinais 0, 1, 2 e 3 possuem menor dependência temporal do que o sinal na posição 4, o qual é muito diferente dos demais sinais apresentando valores inferiores na análise.<br>\n",
    "(d) O desvio padrão da autocorrelação mostra que o sinal da posição 4 tem valor inferior aos demais, indicando que esse possa ser um sinal mais ruidoso.<br>\n"
   ]
  },
  {
   "cell_type": "markdown",
   "metadata": {},
   "source": [
    "### Exercício 3)\n",
    "\n",
    "Utilizando ainda os sinais carregados na questão anterior `sinais2.csv`, utilize a `np.fft.fft()` para obter a Transformada de Fourier dos sinais. Depois, considerando apenas frequências até 50, calcule quais são as 4 frequências de maior valor de magnitude (obtido pelo `np.abs()`). Aqui não queremos os valores da magnitude, mas a quais frequências (índices) elas se referem. Para complementar a análise, plote as magnitudes das transformadas até a frequência 50.\n",
    "\n",
    "Analisando as frequências de maior magnitude temos as frequências que mais caracterizam o sinal. Considerando as 4 frequências computadas anteriormente, podemos dividir os sinais em categorias distintas. Nesse sentido, qual análise abaixo está correta?\n",
    "\n",
    "(a) O sinal 4 possui frequências inferiores quando comparado com os demais, indicando que o sinal 4 é provavalmente  dependente sequencialmente, enquanto os demais são i.i.d.; assim podemos dividí-los em duas categorias: sinal 4 e sinais 0, 1, 2 e 3.<br>\n",
    "(b) O sinal 3 possui frequências mais significativas 20 Hz ou superior, indicando que é um sinal com maior qualidade de aquisição, e assim podemos categorizar em: sinal 3, e sinais 0, 1, 2 e 4.<br>\n",
    "(c) Todas as frequências estão abaixo de 50 Hz, sendo assim podemos dizer que os sinais são todos similares, sendo impossível dividí-los em categorias.<br>\n",
    "(d) O sinal 3 possui frequências mais significativas 20 Hz ou superior, possuindo transições mais rápidas de valores do que os outros com frequências caracerísticas menores do que 12Hz; e assim podemos categorizar em: sinal 3, e sinais 0, 1, 2 e 4.<br>"
   ]
  },
  {
   "cell_type": "markdown",
   "metadata": {},
   "source": [
    "### Exercício 4)\n",
    " \n",
    "Considerando os mesmos sinais carregados, compute as características: entropia da energia (com 10 blocos), taxa de cruzamentos por zero, entropia espectral (com 10 blocos), formando um vetor com 3 características para cada sinal.\n",
    "\n",
    "Após isso, compute a matriz de distâncias entre os 4 sinais considerando a distância L1, i.e., a soma dos valores absolutos das diferenças entre dois vetores $A$ e $B$:\n",
    "\n",
    "$$\\sum_i |A_i - B_i|$$\n",
    "\n",
    "Da matriz, que indica a dissimilaridade entre pares de sinais, aplique uma soma na direção do eixo 0 (axis=0) e depois arredonde para inteiro `np.round(,0)`. Quais valores foram obtidos para cada sinal?\n",
    "\n",
    "(a) Sinais 0, 1, 2 e 4, soma 2; Sinal 3, soma 7.<br>\n",
    "(b) Sinais 0 e 4, soma 3; Sinais 1 e 2, soma 2; Sinal 3, soma 7.<br>\n",
    "(c) Sinais 0, 1, e 2, soma 2; Sinal 3, soma 7; Sinal 4, soma 3.<br>\n",
    "(d) Sinais 0, 1, e 2, soma 1; Sinal 3, soma 5; Sinal 4, soma 2.<br>"
   ]
  },
  {
   "cell_type": "code",
   "execution_count": 4,
   "metadata": {},
   "outputs": [],
   "source": [
    "def entropia_energia(sinal, n_blocos=10):\n",
    "    '''Entropia da energia do sinal'''\n",
    "    # energia total \n",
    "    energia_sinal = np.sum(sinal ** 2)\n",
    "    M = len(sinal)\n",
    "    \n",
    "    # calcula janelas dentro do sinal\n",
    "    M_janelas = int(np.floor(M / n_blocos))\n",
    "    # verifica se tamanho dos blocos \n",
    "    # é multiplo do tamanho do sinal\n",
    "    if M != M_janelas * n_blocos:\n",
    "        sinal = sinal[0:M_janelas * n_blocos]\n",
    "\n",
    "    # monta matriz [M_janelas x n_blocos]\n",
    "    janelas = sinal.reshape(M_janelas, n_blocos, order='F').copy()\n",
    "    \n",
    "    # Computa energias de cada janela (normalizada pela do sinal)\n",
    "    e_janelas = np.sum(janelas ** 2, axis=0) / (energia_sinal + 0.0001)\n",
    "    #print(e_janelas)\n",
    "\n",
    "    # Computa entropia entre energias das janelas\n",
    "    entropia = -np.sum(e_janelas * np.log2(e_janelas + 0.0001))\n",
    "    return entropia\n",
    "\n",
    "def taxa_cruzamentos_por_zero(sinal):\n",
    "    '''Cruzamentos por zero em um intervalo de tempo '''\n",
    "    M = len(sinal)\n",
    "    cont_zero = np.sum(np.abs(np.diff(np.sign(sinal)))) / 2\n",
    "    return np.float64(cont_zero) / np.float64(M - 1.0)\n",
    "\n",
    "def entropia_espectral(sinal, n_blocos=16):\n",
    "    \"\"\"Computes the spectral entropy\"\"\"\n",
    "    \n",
    "    fft_abs = np.abs(np.fft.fft(sinal))\n",
    "    \n",
    "    entropia_esp = entropia_energia(fft_abs, n_blocos=n_blocos)\n",
    "\n",
    "    return entropia_esp"
   ]
  },
  {
   "cell_type": "markdown",
   "metadata": {},
   "source": [
    "### Exercício 5)\n",
    "\n",
    "Carregue as seguintes imagens da base de dados flickr_map_training:\n",
    "\n",
    "`\n",
    "img1 = imageio.imread(\"dados/flickr_map_training/107.jpg\")\n",
    "img2 = imageio.imread(\"dados/flickr_map_training/101.jpg\")\n",
    "img3 = imageio.imread(\"dados/flickr_map_training/112.jpg\")\n",
    "img4 = imageio.imread(\"dados/flickr_map_training/303.jpg\")\n",
    "img5 = imageio.imread(\"dados/flickr_map_training/400.jpg\")`\n",
    "\n",
    "Implemente um descritor de cor que computa um histograma utilizando a composição dos canais RGB em um único canal utilizando a seguinte operação, sendo R, G e B as matrizes relativas a cada canal de cor:\n",
    "\n",
    "$$I = R\\cdot0.3 +G\\cdot0.59 +B\\cdot0.11$$\n",
    "\n",
    "Permita definir o número de bins do histograma por meio da sua função e, antes de retornar, normalize o histograma dividindo pela soma.\n",
    "\n",
    "Depois, calcule a distância entre img1 carregada e as outras imagens (2, 3, 4, 5) utilizando: 16 bins e 4 bins. Qual foram as duas imagens mais similares, da mais próxima para a mais distante, nos dois casos?\n",
    "\n",
    "(a) 16 bins: img2, img4 ; 4 bins: img2, img3<br>\n",
    "(a) 16 bins: img2, img3 ; 4 bins: img4, img3<br>\n",
    "(b) 16 bins: img2, img3 ; 4 bins: img2, img4<br>\n",
    "(d) 16 bins: img4, img2 ; 4 bins: img4, img3<br>"
   ]
  },
  {
   "cell_type": "markdown",
   "metadata": {},
   "source": [
    "### Exercício 6)\n",
    "\n",
    "Vamos repetir o procedimento da questão anterior, agora utilizando o descritor de texturas LBP visto em aula. Utilizaremos uma função que também realiza uma normalização dos valores máximos das imagens, bem como permite definir o raio, número de pontos e quantidade de bins para esse descritor, conforme abaixo.\n",
    "\n",
    "Calcule a distância L1 entre img1 carregada e as outras imagens utilizando o descritor LBP com os seguintes parâmetros:\n",
    "* número de pontos = 14\n",
    "* raio = 2\n",
    "* bins = 16\n",
    "\n",
    "Quais foram as três imagens mais similares, da mais próxima para a mais distante?\n",
    "\n",
    "(a) img3, img2, img5 <br>\n",
    "(b) img2, img3, img4<br>\n",
    "(c) img3, img5, img2<br>\n",
    "(d) img5, img3, img2<br>"
   ]
  },
  {
   "cell_type": "code",
   "execution_count": 1,
   "metadata": {},
   "outputs": [],
   "source": [
    "def lbp_features(img, points=8, radius=1, n_bins=10):\n",
    "    # LBP opera em imagens de um só canal, aqui vamos converter \n",
    "    # RGB para escala de cinza usando o método Luminance\n",
    "    img = np.array(img, dtype=np.float64, copy=False)\n",
    "    if (len(img.shape) > 2):\n",
    "        img = img[:,:,0]*0.3 + img[:,:,1]*0.59 + img[:,:,2]*0.11\n",
    "    \n",
    "    # normaliza a imagem para ter máximo = 255\n",
    "    if (np.max(img) > 0):\n",
    "        img = ((img/np.max(img))*255).astype(np.uint8)\n",
    "    \n",
    "    # aqui definimos o numero de pontos e o raio, padrao = 8, 1\n",
    "    lbp = feature.local_binary_pattern(img.astype(np.uint8), points, radius, method=\"uniform\")\n",
    "    \n",
    "    # lbp retorna um matriz com os códigos, então devemos extraír o histograma\n",
    "    (hist, _) = np.histogram(lbp.ravel(), bins=np.arange(0, n_bins+1), range=(0, n_bins))\n",
    "\n",
    "    # normaliza o histograma\n",
    "    hist = hist.astype(\"float\")\n",
    "    hist /= (hist.sum() + 1e-6)\n",
    "    # return the histogram of Local Binary Patterns\n",
    "\n",
    "    return hist"
   ]
  },
  {
   "cell_type": "markdown",
   "metadata": {},
   "source": [
    "### Exercício 7)\n",
    " \n",
    "No método Bag-of-Features quais dos parâmetros pertencem ao *framework* influenciam mais drasticamente a performance do método no caso de uso em imagens?\n",
    "\n",
    "(a) O tamanho do dicionário, a quantidade de cores nas imagens, a quantidade de classes do problema<br>\n",
    "(b) O tamanho do dicionário, o descritor base, o método utilizado para aprender o dicionário<br>\n",
    "(c) O descritor base e o número de componentes principais utilizados<br>\n",
    "(d) O tamanho do patch extraído da imagem, que deve ser compatível com a resolução das imagens<br>"
   ]
  },
  {
   "cell_type": "markdown",
   "metadata": {},
   "source": [
    "### Exercício 8)\n",
    "\n",
    "\n",
    "Execute o método Bag-of-Features estudado em aula nas imagens da pasta `flickr_map_training`, agora com os seguintes parâmetros:\n",
    "* tamanho do patch = (13, 13)\n",
    "* número de patches = 1000\n",
    "* descritor base = PCA com 10 componentes principais\n",
    "* tamanho do dicionário = 50\n",
    "\n",
    "Utilize imagens de consulta `flower.jpg` e `football.jpg` e recupere as 12 imagens mais similares utilizando o modelo BoF aprendido. Qual a proporção de imagens retornadas da mesma categoria da consulta?\n",
    "\n",
    "(a) flower = 3/12, football = 3/12<br>\n",
    "(b) flower = 5/12, football = 2/12<br>\n",
    "(c) flower = 6/12, football = 0/12<br>\n",
    "(d) flower = 9/12, football = 1/12<br>"
   ]
  },
  {
   "cell_type": "markdown",
   "metadata": {},
   "source": [
    "### Exercício 9)\n",
    " \n",
    "Execute novamente o método Bag-of-Features conforme questão anterior, porém agora utilizaremos um descritor base diferente.\n",
    "* tamanho do patch = (13, 13)\n",
    "* número de patches = 1000\n",
    "* tamanho do dicionário = 50\n",
    "* descritor base = LBP com raio 2, 16 pontos e 10 bins\n",
    "\n",
    "Vamos usar a versão da função LBP que permite usar como parâmetros o número de pontos e raio.\n",
    "\n",
    "Utilize imagens de consulta `flower.jpg` e `football.jpg` e recupere as 12 imagens mais similares utilizando o modelo BoF aprendido. Qual a proporção de imagens da mesma categoria da consulta?\n",
    "\n",
    "(a) flower = 5/12, football = 3/12<br>\n",
    "(b) flower = 6/12, football = 0/12<br>\n",
    "(c) flower = 6/12, football = 2/12<br>\n",
    "(d) flower = 6/12, football = 6/12<br>\n"
   ]
  },
  {
   "cell_type": "markdown",
   "metadata": {},
   "source": [
    "### Exercício 10)\n",
    " \n",
    "Execute o método Bag-of-Features para aprender features nas imagens da pasta `flickr_map_training` conforme código fornecido em aula, com os seguintes parâmetros:\n",
    "* tamanho do patch = (11, 11)\n",
    "* número de patches = 300\n",
    "* descritor base = PCA com 16 componentes\n",
    "* random_state = 1\n",
    "* para o KMeans use random_state=1 e n_init=3\n",
    "\n",
    "Vamos investigar a influência do tamanho do dicionário no modelo gerado com os seguintes valores: 8, 16, 32, 64, 128, 256 e 512. Utilize a imagem de teste `flickr_map_test\\flower.jpg` para recuperar as 16 imagens mais similares no conjunto de treinamento (sabendo que há 10 imagens dessa categoria no conjunto de treinamento). Calcule a revocação, ou seja, a razão entre o total de imagens de flores retornadas na busca das 16 mais similares e o número total de imagens de flores que deveriam ter sido retornadas (10).\n",
    "\n",
    "DICA: as imagens de flores tem nome iniciando com o número '6'.\n",
    "\n",
    "Quais tamanhos de dicionário resultam em maior revocação?\n",
    "\n",
    "(a) 256 e 512<br>\n",
    "(b) 64 e 128<br>\n",
    "(c) 32, 64, 128 e 256<br>\n",
    "(d) 64, 128 e 256<br>"
   ]
  }
 ],
 "metadata": {
  "kernelspec": {
   "display_name": "Python 3",
   "language": "python",
   "name": "python3"
  },
  "language_info": {
   "codemirror_mode": {
    "name": "ipython",
    "version": 3
   },
   "file_extension": ".py",
   "mimetype": "text/x-python",
   "name": "python",
   "nbconvert_exporter": "python",
   "pygments_lexer": "ipython3",
   "version": "3.8.2"
  }
 },
 "nbformat": 4,
 "nbformat_minor": 4
}
