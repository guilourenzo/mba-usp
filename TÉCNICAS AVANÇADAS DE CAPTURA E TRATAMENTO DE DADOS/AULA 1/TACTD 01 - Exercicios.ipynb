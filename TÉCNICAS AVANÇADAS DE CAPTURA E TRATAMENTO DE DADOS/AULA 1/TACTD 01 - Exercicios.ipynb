{
 "cells": [
  {
   "cell_type": "markdown",
   "metadata": {},
   "source": [
    "# MBA em Ciência de Dados\n",
    "# Técnicas Avançadas de Captura e Tratamento de Dados\n",
    "\n",
    "### <span style=\"color:darkred\">Módulo I - Dados Estruturados e Não Estruturados</span>\n",
    "\n",
    "\n",
    "### <span style=\"color:darkred\">Exercícios</span>\n",
    "\n",
    "Moacir Antonelli Ponti\n",
    "\n",
    "CeMEAI - ICMC/USP São Carlos\n",
    "\n",
    "---\n",
    "\n",
    "#### <span style=\"color:red\">Recomenda-se fortemente que os exercícios sejam feitos sem consultar as respostas antecipadamente.</span>\n",
    "\n",
    "---"
   ]
  },
  {
   "cell_type": "code",
   "execution_count": 1,
   "metadata": {},
   "outputs": [],
   "source": [
    "# carregando as bibliotecas necessárias\n",
    "import pandas as pd"
   ]
  },
  {
   "cell_type": "markdown",
   "metadata": {},
   "source": [
    "### Exercício 1)\n",
    "\n",
    "Considere a tabela com os dados a seguir\n",
    "\n",
    " username     | Primeiro Nome  | Sobrenome | Ano de nascimento | Foto\n",
    " :------ |:--------- |:----- | --- | --- \n",
    " joao@provider.com     | João | Oliveira | 1996 | foto1033.jpg\n",
    " bet89@hoster.net    | Elizabete | Costa Silva | 1989 | foto0010.jpg\n",
    " maria@internet.com.br | Maria Cláudia | Nunes de Souza | 1976 | foto2401.jpg\n",
    " \n",
    " De acordo com a definição de dados estruturados e não estruturados, esse conjunto de dados é\n",
    " \n",
    " (a) Estruturado<br>\n",
    " (b) Não-estruturado<br>\n",
    " (c) Estruturado quando não consideramos o atributo *Foto*<br>\n",
    " (d) Estruturado quando não consideramos os atributos *username* e *Foto*<br>\n",
    " \n",
    " Justifique sua escolha."
   ]
  },
  {
   "cell_type": "markdown",
   "metadata": {},
   "source": [
    "---\n",
    "\n",
    "### Exercício 2)\n",
    "\n",
    "São características de dados não-estruturados\n",
    "\n",
    " (a) Facilidade de versionamento, baixo controle de coleta, e inexistência de formato bem definido para armazenamento<br>\n",
    " (b) Alta dimensionalidade, armazenamento em formato binário ou textual, e alta flexibilidade na coleta dos dados<br>\n",
    " (c) Alta redundância, e informações fáceis de recuperar a partir dos dados brutos<br>\n",
    " (d) Inexistência de esquema de armazenamento e recuperação, e alto controle de integridade dos dados<br>\n",
    "\n"
   ]
  },
  {
   "cell_type": "markdown",
   "metadata": {},
   "source": [
    "---\n",
    "### Exercício 3)\n",
    "\n",
    "Analise a base de dados \"Missing\", que contém 100 linhas. Em particular vamos estudar os atributos \"Religion\", \"Profession\" e \"Year of Birth\", que possuem dados faltantes. Explore esses atributos utilizando estatística descritiva com `describe()` e buscando pelo conjunto de valores únicos com `unique()`.\n",
    "\n",
    "Após isso, responda as **questões I, II e III** abaixo. OBS: Para responder às questões com maior segurança, pode ser necessário explorar a base de dados com outras ferramentas, gráficos e buscas.\n"
   ]
  },
  {
   "cell_type": "code",
   "execution_count": 7,
   "metadata": {},
   "outputs": [],
   "source": [
    "data_m = pd.read_csv(\"./dados/TACTD-01-Missing.csv\")\n",
    "\n",
    "# insira seu código exibindo a estatística descritiva e valores únicos para o atributo Religion\n"
   ]
  },
  {
   "cell_type": "code",
   "execution_count": 8,
   "metadata": {},
   "outputs": [],
   "source": [
    "# insira seu código exibindo a estatística descritiva e valores únicos para o atributo Profession\n",
    "\n"
   ]
  },
  {
   "cell_type": "code",
   "execution_count": 9,
   "metadata": {},
   "outputs": [],
   "source": [
    "# insira seu código exibindo a estatística descritiva e valores únicos para o atributo Year of Birth\n",
    "\n"
   ]
  },
  {
   "cell_type": "markdown",
   "metadata": {},
   "source": [
    "#### Exercício 3, questão I\n",
    "\n",
    "Sobre o atributo Religion, qual das alternativas é mais plausível:\n",
    "\n",
    "(a) há 2 dados faltantes, do tipo completamente aleatório<br>\n",
    "(b) há 4 dados faltantes, podendo ser do tipo completamente aleatório (MCAR) ou não-aleatório<br>\n",
    "(c) há 2 dados faltantes, do tipo não-aleatório<br>\n",
    "(d) há 4 dados faltantes, do tipo (condicionalmente) aleatório<br>\n",
    "\n",
    "\n",
    "#### Exercício 3, questão II\n",
    "\n",
    "Sobre o atributo Profession, é possível dizer que:\n",
    "\n",
    "(a) há 7 dados errôneos<br>\n",
    "(b) há 2 dados faltantes<br>\n",
    "(c) há 2 dados faltantes e 5 dados errôneos<br>\n",
    "(d) há 7 dados faltantes<br>\n",
    "\n",
    "\n",
    "#### Exercício 3, questão III\n",
    "\n",
    "Sobre o atributo Profession, é possível dizer que os dados faltantes são:\n",
    "\n",
    "(a) uma mistura dos tipos (condicionalmente) aleatório (MAR) e completamente aleatório (MCAR)<br>\n",
    "(b) unicamente do tipo (condicionalmente) aleatório (MAR) <br>\n",
    "(b) unicamente do tipo completamente aleatório (MCAR) <br>\n",
    "(d) uma mistura dos tipos não aleatório e (condicionalmente) aleatório (MAR)<br>\n",
    "\n",
    "\n",
    "#### Exercício 3, questão IV\n",
    "\n",
    "Sobre o atributo Year of Birth, de acordo com a análise exploratória, qual(is) tipo(s) de dados faltantes são mais plausíveis (escolha apenas uma opcao abaixo):\n",
    "\n",
    "(a) uma mistura dos tipos (condicionalmente) aleatório (MAR) e completamente aleatório (MCAR)<br>\n",
    "(b) do tipo (condicionalmente) aleatório (MAR) <br>\n",
    "(c) do tipo completamente aleatório (MCAR) <br>\n",
    "(d) do tipo não aleatório<br>\n",
    "\n"
   ]
  },
  {
   "cell_type": "markdown",
   "metadata": {},
   "source": [
    "---\n",
    "\n",
    "### Exercício 4)\n",
    "\n",
    "Analise a base de dados \"BCE_Outliers_Err_Desbal\", utilizada nas aulas. Utilize `boxplot()` e `hist()` para explorar cada atributo (exceto Weight, já analisado na aula), mas também codifique outras buscas que achar necessário para responder às  **questões I, II, III e IV**  abaixo."
   ]
  },
  {
   "cell_type": "code",
   "execution_count": 6,
   "metadata": {},
   "outputs": [],
   "source": [
    "data2 = pd.read_csv(\"./dados/TACTD_01-BCE_Outliers_Err_Desbal.csv\") "
   ]
  },
  {
   "cell_type": "markdown",
   "metadata": {},
   "source": [
    "#### Exercício 4, questão I\n",
    "\n",
    "Procure por um **outlier** não comentado na aula. Esse outlier é um \n",
    "\n",
    "(a) idade gestacional com valor muito alto<br>\n",
    "(b) idade gestacional com valor muito baixo<br>\n",
    "(c) ano com valor muito alto<br>\n",
    "(d) ano com valor muito baixo<br>\n",
    "\n",
    "#### Exercício 4, questão II\n",
    "\n",
    "Como interpretar o outlier encontrado?\n",
    "\n",
    "(a) outlier global e dado errôneo resultado de problema na coleta de dados, deve ser removido<br>\n",
    "(b) outlier global, mas não deve ser modificado<br>\n",
    "(c) outlier global e dado errôneo, podendo ser corrigido<br>\n",
    "(d) outlier condicional, deve ser removido<br>\n",
    "\n",
    "\n",
    "#### Exercício 4, questão III\n",
    "\n",
    "Precisamos construir um modelo de regressão (do aprendizado supervisionado) para predizer a idade gestacional de um bebê baseado no mês e ano de nascimento.\n",
    "\n",
    "(a) é possível construir o modelo sem nenhum pré-processamento<br>\n",
    "(b) os dados possuem redundância, impedindo a análise por regressão<br>\n",
    "(c) os dados estão desbalanceados, sendo necessário controlar esse efeito<br>\n",
    "(d) os dados possuem outliers globais, que devem ser identificados e tratados antes de realizar a análise<br>\n",
    "\n",
    "\n",
    "\n",
    "#### Exercício 4, questão IV\n",
    "\n",
    "Analise o atributo idade gestacional por possíveis problemas típicos dentre os estudados\n",
    "\n",
    "(a) os dados possuem outliers condicionais relacionados ao peso<br>\n",
    "(b) os dados possuem redundância, por haver muitos valores repetidos no invervalo mínimo e máximo<br>\n",
    "(c) os dados estão desbalanceados<br>\n",
    "(d) os dados parecem não possuir qualquer problema<br>"
   ]
  }
 ],
 "metadata": {
  "kernelspec": {
   "display_name": "Python 3",
   "language": "python",
   "name": "python3"
  },
  "language_info": {
   "codemirror_mode": {
    "name": "ipython",
    "version": 3
   },
   "file_extension": ".py",
   "mimetype": "text/x-python",
   "name": "python",
   "nbconvert_exporter": "python",
   "pygments_lexer": "ipython3",
   "version": "3.8.2"
  }
 },
 "nbformat": 4,
 "nbformat_minor": 4
}
