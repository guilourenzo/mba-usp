{
 "cells": [
  {
   "cell_type": "markdown",
   "metadata": {},
   "source": [
    "# MBA em Ciência de Dados\n",
    "# Técnicas Avançadas de Captura e Tratamento de Dados\n",
    "\n",
    "### <span style=\"color:darkred\">Módulo I - Dados Estruturados e Não Estruturados</span>\n",
    "\n",
    "\n",
    "### <span style=\"color:darkred\">Exercícios</span>\n",
    "\n",
    "Moacir Antonelli Ponti\n",
    "\n",
    "CeMEAI - ICMC/USP São Carlos\n",
    "\n",
    "---\n",
    "\n",
    "#### <span style=\"color:red\">Recomenda-se fortemente que os exercícios sejam feitos sem consultar as respostas antecipadamente.</span>\n",
    "\n",
    "---"
   ]
  },
  {
   "cell_type": "code",
   "execution_count": 1,
   "metadata": {},
   "outputs": [],
   "source": [
    "# carregando a biblioteca necessária\n",
    "import pandas as pd"
   ]
  },
  {
   "cell_type": "markdown",
   "metadata": {},
   "source": [
    "### Exercício 1)\n",
    "\n",
    "Considere a tabela com os dados a seguir\n",
    "\n",
    " username     | Primeiro Nome  | Sobrenome | Ano de nascimento | Foto\n",
    " :------ |:--------- |:----- | --- | --- \n",
    " joao@provider.com     | João | Oliveira | 1996 | foto1033.jpg\n",
    " bet89@hoster.net    | Elizabete | Costa Silva | 1989 | foto0010.jpg\n",
    " maria@internet.com.br | Maria Cláudia | Nunes de Souza | 1976 | foto2401.jpg\n",
    " \n",
    " De acordo com a definição de dados estruturados e não estruturados, esse conjunto de dados é\n",
    " \n",
    " <font color='red'>(a) Estruturado</font><br>\n",
    " (b) Não-estruturado<br>\n",
    " (c) Estruturado quando não consideramos o atributo *Foto*<br>\n",
    " (d) Estruturado quando não consideramos os atributos *username* e *Foto*<br>\n",
    " \n",
    " Justifique sua escolha."
   ]
  },
  {
   "cell_type": "markdown",
   "metadata": {},
   "source": [
    "<font color='red'>Resposta</font>: *todos os campos e registros são endereçáveis e passíveis de armazenamento e recuperação. O atributo Foto se refere ao arquivo da imagem que contém a foto, mas não à informações visuais contidas nessas imagens. Ainda que as imagens sejam não-estruturadas, o dado relativo ao nome do arquivo é estruturado. Assim, a tabela contém dados estruturados*"
   ]
  },
  {
   "cell_type": "markdown",
   "metadata": {},
   "source": [
    "---\n",
    "\n",
    "### Exercício 2)\n",
    "\n",
    "São características de dados não-estruturados\n",
    "\n",
    " (a) Facilidade de versionamento, baixo controle de coleta, e inexistência de formato bem definido para armazenamento<br>\n",
    " <font color='red'>(b) Alta dimensionalidade, armazenamento em formato binário ou textual, e alta flexibilidade na coleta dos dados</font><br>\n",
    " (c) Alta redundância, e informações fáceis de recuperar a partir dos dados brutos<br>\n",
    " (d) Inexistência de esquema de armazenamento e recuperação, e alto controle de integridade dos dados<br>\n",
    "\n"
   ]
  },
  {
   "cell_type": "markdown",
   "metadata": {},
   "source": [
    "---\n",
    "### Exercício 3)\n",
    "\n",
    "Analise a base de dados \"Missing\", que contém 100 linhas. Em particular vamos estudar os atributos \"Religion\", \"Profession\" e \"Year of Birth\", que possuem dados faltantes. Explore esses atributos utilizando estatística descritiva com `describe()` e buscando pelo conjunto de valores únicos com `unique()`.\n",
    "\n",
    "Após isso, responda as **questões I, II, III e IV** abaixo. OBS: Para responder às questões com maior segurança, pode ser necessário explorar a base de dados com outras ferramentas, gráficos e buscas.\n"
   ]
  },
  {
   "cell_type": "code",
   "execution_count": 2,
   "metadata": {},
   "outputs": [
    {
     "name": "stdout",
     "output_type": "stream",
     "text": [
      "count            98\n",
      "unique            3\n",
      "top       Christian\n",
      "freq             96\n",
      "Name: Religion, dtype: object \n",
      "\n",
      "['Christian' '---' nan 'x']\n"
     ]
    }
   ],
   "source": [
    "data_m = pd.read_csv(\"./dados/TACTD-01-Missing.csv\")\n",
    "\n",
    "# insira seu código exibindo a estatística descritiva e valores únicos para o atributo Religion\n",
    "print(data_m['Religion'].describe(), '\\n')\n",
    "print(data_m['Religion'].unique())"
   ]
  },
  {
   "cell_type": "code",
   "execution_count": 3,
   "metadata": {},
   "outputs": [
    {
     "name": "stdout",
     "output_type": "stream",
     "text": [
      "count        98\n",
      "unique        2\n",
      "top       Nurse\n",
      "freq         93\n",
      "Name: Profession, dtype: object \n",
      "\n",
      "['Nurse' 'X' nan]\n"
     ]
    }
   ],
   "source": [
    "# insira seu código exibindo a estatística descritiva e valores únicos para o atributo Profession\n",
    "print(data_m['Profession'].describe(), '\\n')\n",
    "print(data_m['Profession'].unique())"
   ]
  },
  {
   "cell_type": "code",
   "execution_count": 4,
   "metadata": {},
   "outputs": [
    {
     "name": "stdout",
     "output_type": "stream",
     "text": [
      "count      79.000000\n",
      "mean     1974.177215\n",
      "std         8.622807\n",
      "min      1960.000000\n",
      "25%      1967.000000\n",
      "50%      1974.000000\n",
      "75%      1981.500000\n",
      "max      1998.000000\n",
      "Name: Year of Birth, dtype: float64 \n",
      "\n",
      "[1968. 1964. 1965.   nan 1973. 1986. 1979. 1969. 1981. 1987. 1972. 1983.\n",
      " 1966. 1962. 1976. 1977. 1967. 1970. 1974. 1982. 1991. 1978. 1980. 1984.\n",
      " 1963. 1985. 1960. 1998. 1971. 1975. 1961.]\n"
     ]
    }
   ],
   "source": [
    "# insira seu código exibindo a estatística descritiva e valores únicos para o atributo Year of Birth\n",
    "\n",
    "print(data_m['Year of Birth'].describe(), '\\n')\n",
    "print(data_m['Year of Birth'].unique())"
   ]
  },
  {
   "cell_type": "code",
   "execution_count": 5,
   "metadata": {},
   "outputs": [
    {
     "data": {
      "text/plain": [
       "<matplotlib.axes._subplots.AxesSubplot at 0x7fcaf7c85310>"
      ]
     },
     "execution_count": 5,
     "metadata": {},
     "output_type": "execute_result"
    },
    {
     "data": {
      "image/png": "[encoded data removed]",
      "text/plain": [
       "<Figure size 432x288 with 1 Axes>"
      ]
     },
     "metadata": {
      "needs_background": "light"
     },
     "output_type": "display_data"
    }
   ],
   "source": [
    "min_year = data_m['Year of Birth'].describe()['min']\n",
    "max_year = data_m['Year of Birth'].describe()['max']\n",
    "\n",
    "data_m['Year of Birth'].hist(bins=range(int(min_year), int(max_year)+2))"
   ]
  },
  {
   "cell_type": "markdown",
   "metadata": {},
   "source": [
    "#### Exercício 3, questão I\n",
    "\n",
    "Sobre o atributo Religion, qual das alternativas é mais plausível:\n",
    "\n",
    "(a) há 2 dados faltantes, do tipo completamente aleatório<br>\n",
    "<font color='red'>(b) há 4 dados faltantes, podendo ser do tipo completamente aleatório (MCAR) ou não-aleatório</font><br>\n",
    "(c) há 2 dados faltantes, do tipo não-aleatório<br>\n",
    "(d) há 4 dados faltantes, do tipo (condicionalmente) aleatório<br>\n",
    "\n",
    "<font color='red'>Resposta</font>: *apesar de não constar como NaN, valores como 'x'e '---' são também considerados faltantes. É provável que a perda seja completamente aleatória, mas não podemos descartar o caso não-aleatório pois é possível que todas as pessoas não cristãs omitiram a religião devido a não serem cristãs, o que deve ser investigado.*\n",
    "\n",
    "#### Exercício 3, questão II\n",
    "\n",
    "Sobre o atributo Profession, é possível dizer que:\n",
    "\n",
    "(a) há 7 dados errôneos<br>\n",
    "(b) há 2 dados faltantes<br>\n",
    "(c) há 2 dados faltantes e 5 dados errôneos<br>\n",
    "<font color='red'>(d) há 7 dados faltantes</font><br>\n",
    "\n",
    "<font color='red'>Resposta</font>: *o valor 'X' não parece ser um dado errôneo, pois não é um erro de digitação, nem é uma profissão válida e que possa ser falsamente atribuida a uma pessoa, portanto tanto NaNs quanto 'X' são faltantes*\n",
    "\n",
    "\n",
    "#### Exercício 3, questão III\n",
    "\n",
    "Sobre o atributo Profession, é possível dizer que os dados faltantes são:\n",
    "\n",
    "<font color='red'>(a) uma mistura dos tipos (condicionalmente) aleatório (MAR) e completamente aleatório (MCAR)<br></font>\n",
    "(b) unicamente do tipo (condicionalmente) aleatório (MAR) <br>\n",
    "(b) unicamente do tipo completamente aleatório (MCAR) <br>\n",
    "(d) uma mistura dos tipos não aleatório e (condicionalmente) aleatório (MAR)<br>\n",
    "\n",
    "<font color='red'>Resposta</font>: *nenhum profissional de Portugal/Lisboa reportou sua profissão, indicando o caso condicionalmente aleatório. Porém, há também duas outras perdas que não parecem estar relacionadas a um padrão, representando faltantes completamente aleatórios*\n",
    "\n",
    "\n",
    "#### Exercício 3, questão IV\n",
    "\n",
    "Sobre o atributo Year of Birth, de acordo com a análise exploratória, qual(is) tipo(s) de dados faltantes são mais plausíveis (escolha apenas uma opcao abaixo):\n",
    "\n",
    "(a) uma mistura dos tipos (condicionalmente) aleatório (MAR) e completamente aleatório (MCAR)<br>\n",
    "(b) do tipo (condicionalmente) aleatório (MAR) <br>\n",
    "(c) do tipo completamente aleatório (MCAR) <br>\n",
    "<font color='red'>(d) do tipo não aleatório<br></font>\n",
    "\n",
    "<font color='red'>Resposta</font>: *A distribuição do ano de nascimento mostra que há uma frequência regular de anos entre 1960 e meados dos anos 1980, com máximo em 1998 e muitos faltantes nesse intervalo, o que indica omissão ou perda de dados relacionada ao valor do ano entre meados de 1980 e a década de 1990, e portanto não aleatória ou de respostas não ignoráveis.*\n"
   ]
  },
  {
   "cell_type": "markdown",
   "metadata": {},
   "source": [
    "---\n",
    "\n",
    "### Exercício 4)\n",
    "\n",
    "Analise a base de dados \"BCE_Outliers_Err_Desbal\", utilizada nas aulas. Utilize `boxplot()` e `hist()` para explorar cada atributo (exceto Weight, já analisado na aula), mas também codifique outras buscas que achar necessário para responder às  **questões I, II, III e IV**  abaixo."
   ]
  },
  {
   "cell_type": "code",
   "execution_count": 6,
   "metadata": {},
   "outputs": [],
   "source": [
    "data2 = pd.read_csv(\"./dados/TACTD_01-BCE_Outliers_Err_Desbal.csv\") "
   ]
  },
  {
   "cell_type": "markdown",
   "metadata": {},
   "source": [
    "#### Exercício 4, questão I\n",
    "\n",
    "Procure por um **outlier** não comentado na aula. Esse outlier é um \n",
    "\n",
    "(a) idade gestacional com valor muito alto<br>\n",
    "(b) idade gestacional com valor muito baixo<br>\n",
    "<font color='red'>(c) ano com valor muito alto</font><br>\n",
    "(d) ano com valor muito baixo<br>\n",
    "\n",
    "#### Exercício 4, questão II\n",
    "\n",
    "Como interpretar o outlier encontrado?\n",
    "\n",
    "(a) outlier global e dado errôneo resultado de problema na coleta de dados, deve ser removido<br>\n",
    "(b) outlier global, mas não deve ser modificado<br>\n",
    "<font color='red'>(c) outlier global e dado errôneo, podendo ser corrigido</font><br>\n",
    "(d) outlier condicional, deve ser removido<br>\n",
    "\n",
    "<font color='red'>Resposta</font>: *o valor '22017' é um dado errôneo mas devido aos dados estarem ordenados por mês e ano, pode ser interpretado como um erro de inputacao facilmente corrigível para 2017*\n",
    "\n",
    "#### Exercício 4, questão III\n",
    "\n",
    "Precisamos construir um modelo de regressão (do aprendizado supervisionado) para predizer a idade gestacional de um bebê baseado no mês e ano de nascimento.\n",
    "\n",
    "(a) é possível construir o modelo sem nenhum pré-processamento<br>\n",
    "(b) os dados possuem redundância, impedindo a análise por regressão<br>\n",
    "<font color='red'>(c) os dados estão desbalanceados, sendo necessário controlar esse efeito</font><br>\n",
    "(d) os dados possuem outliers globais, que devem ser identificados e tratados antes de realizar a análise<br>\n",
    "\n",
    "<font color='red'>Resposta</font>: *o ano de 2016 possui apenas 12 exemplos, contra 60 do ano de 2017. Em particular, o mês 11/2016 possui apenas 3 exemplos. Assim, os dados estão desbalanceados, e portanto esse fator deve ser considerado na análise*\n",
    "\n",
    "\n",
    "#### Exercício 4, questão IV\n",
    "\n",
    "Analise o atributo idade gestacional por possíveis problemas típicos dentre os estudados\n",
    "\n",
    "(a) os dados possuem outliers condicionais relacionados ao peso<br>\n",
    "(b) os dados possuem redundância, por haver muitos valores repetidos no invervalo mínimo e máximo<br>\n",
    "(c) os dados estão desbalanceados<br>\n",
    "<font color='red'>(d) os dados parecem não possuir qualquer problema<br><font>"
   ]
  }
 ],
 "metadata": {
  "kernelspec": {
   "display_name": "Python 3",
   "language": "python",
   "name": "python3"
  },
  "language_info": {
   "codemirror_mode": {
    "name": "ipython",
    "version": 3
   },
   "file_extension": ".py",
   "mimetype": "text/x-python",
   "name": "python",
   "nbconvert_exporter": "python",
   "pygments_lexer": "ipython3",
   "version": "3.8.2"
  }
 },
 "nbformat": 4,
 "nbformat_minor": 4
}
