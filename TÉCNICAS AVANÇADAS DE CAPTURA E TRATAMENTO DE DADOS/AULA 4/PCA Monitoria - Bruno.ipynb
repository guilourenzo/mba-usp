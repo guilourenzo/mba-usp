{
 "cells": [
  {
   "cell_type": "markdown",
   "metadata": {
    "toc": true
   },
   "source": [
    "<h1>Table of Contents<span class=\"tocSkip\"></span></h1>\n",
    "<div class=\"toc\"><ul class=\"toc-item\"><li><span><a href=\"#-MBA-em-Ciência-de-Dados\" data-toc-modified-id=\"-MBA-em-Ciência-de-Dados-1\"><span style=\"color: blue\"> MBA em Ciência de Dados</span></a></span></li><li><span><a href=\"#Técnicas-Avançadas-para-Captura-e-Tratamento-de-Dados\" data-toc-modified-id=\"Técnicas-Avançadas-para-Captura-e-Tratamento-de-Dados-2\"><span style=\"color: blue\">Técnicas Avançadas para Captura e Tratamento de Dados</span></a></span><ul class=\"toc-item\"><li><span><a href=\"#Análise-de-Componentes-Principais-Exercícios\" data-toc-modified-id=\"Análise-de-Componentes-Principais-Exercícios-2.1\"><span style=\"color: blue\">Análise de Componentes Principais<br> Exercícios</span></a></span></li><li><span><a href=\"#Cemeai---ICMC/USP-São-Carlos\" data-toc-modified-id=\"Cemeai---ICMC/USP-São-Carlos-2.2\"><strong>Cemeai - ICMC/USP São Carlos</strong></a></span><ul class=\"toc-item\"><li><span><a href=\"#Exercício-1)\" data-toc-modified-id=\"Exercício-1)-2.2.1\">Exercício 1)</a></span></li><li><span><a href=\"#Exercício-2)\" data-toc-modified-id=\"Exercício-2)-2.2.2\">Exercício 2)</a></span></li><li><span><a href=\"#Exercício-3)\" data-toc-modified-id=\"Exercício-3)-2.2.3\">Exercício 3)</a></span></li><li><span><a href=\"#Exercício-4)\" data-toc-modified-id=\"Exercício-4)-2.2.4\">Exercício 4)</a></span></li><li><span><a href=\"#Exercício-5)\" data-toc-modified-id=\"Exercício-5)-2.2.5\">Exercício 5)</a></span></li><li><span><a href=\"#Exercício-6)\" data-toc-modified-id=\"Exercício-6)-2.2.6\">Exercício 6)</a></span></li><li><span><a href=\"#Exercício-7)\" data-toc-modified-id=\"Exercício-7)-2.2.7\">Exercício 7)</a></span></li><li><span><a href=\"#Exercício-8)\" data-toc-modified-id=\"Exercício-8)-2.2.8\">Exercício 8)</a></span></li><li><span><a href=\"#Exercício-9)\" data-toc-modified-id=\"Exercício-9)-2.2.9\">Exercício 9)</a></span></li></ul></li></ul></li></ul></div>"
   ]
  },
  {
   "cell_type": "markdown",
   "metadata": {},
   "source": [
    "# <span style=\"color:blue\"> MBA em Ciência de Dados</span>\n",
    "# <span style=\"color:blue\">Técnicas Avançadas para Captura e Tratamento de Dados</span>\n",
    "\n",
    "## <span style=\"color:blue\">Análise de Componentes Principais<br> Exercícios</span>\n",
    "**Material Produzido por Luis Gustavo Nonato**<br>\n",
    "**Cemeai - ICMC/USP São Carlos**\n",
    "---"
   ]
  },
  {
   "cell_type": "markdown",
   "metadata": {},
   "source": [
    "<font color='red'> Recomendamos fortemente resolver os exercícios sem consultar as soluções antecipadamente </font>"
   ]
  },
  {
   "cell_type": "markdown",
   "metadata": {},
   "source": [
    "Os exercícios abaixo farão uso do conjunto de dados <font style=\"font-family: monaco\">blobs.csv</font> disponível no _moodle_."
   ]
  },
  {
   "cell_type": "code",
   "execution_count": 2,
   "metadata": {},
   "outputs": [],
   "source": [
    "import numpy as np\n",
    "import pandas as pd\n",
    "import matplotlib.pyplot as plt"
   ]
  },
  {
   "cell_type": "code",
   "execution_count": 3,
   "metadata": {},
   "outputs": [
    {
     "data": {
      "text/html": [
       "<div>\n",
       "<style scoped>\n",
       "    .dataframe tbody tr th:only-of-type {\n",
       "        vertical-align: middle;\n",
       "    }\n",
       "\n",
       "    .dataframe tbody tr th {\n",
       "        vertical-align: top;\n",
       "    }\n",
       "\n",
       "    .dataframe thead th {\n",
       "        text-align: right;\n",
       "    }\n",
       "</style>\n",
       "<table border=\"1\" class=\"dataframe\">\n",
       "  <thead>\n",
       "    <tr style=\"text-align: right;\">\n",
       "      <th></th>\n",
       "      <th>c0</th>\n",
       "      <th>c1</th>\n",
       "      <th>c2</th>\n",
       "      <th>c3</th>\n",
       "      <th>c4</th>\n",
       "      <th>c5</th>\n",
       "      <th>c6</th>\n",
       "      <th>c7</th>\n",
       "      <th>c8</th>\n",
       "      <th>c9</th>\n",
       "      <th>...</th>\n",
       "      <th>c15</th>\n",
       "      <th>c16</th>\n",
       "      <th>c17</th>\n",
       "      <th>c18</th>\n",
       "      <th>c19</th>\n",
       "      <th>c20</th>\n",
       "      <th>c21</th>\n",
       "      <th>c22</th>\n",
       "      <th>c23</th>\n",
       "      <th>c24</th>\n",
       "    </tr>\n",
       "  </thead>\n",
       "  <tbody>\n",
       "    <tr>\n",
       "      <th>0</th>\n",
       "      <td>3.502671</td>\n",
       "      <td>-5.638312</td>\n",
       "      <td>7.602307</td>\n",
       "      <td>-0.601102</td>\n",
       "      <td>-1.600475</td>\n",
       "      <td>-2.362167</td>\n",
       "      <td>4.885454</td>\n",
       "      <td>-1.677507</td>\n",
       "      <td>1.018991</td>\n",
       "      <td>-9.116568</td>\n",
       "      <td>...</td>\n",
       "      <td>-2.689089</td>\n",
       "      <td>-1.269129</td>\n",
       "      <td>4.520669</td>\n",
       "      <td>-6.967277</td>\n",
       "      <td>4.028333</td>\n",
       "      <td>4.242330</td>\n",
       "      <td>-7.085382</td>\n",
       "      <td>-9.890756</td>\n",
       "      <td>-4.348435</td>\n",
       "      <td>-2.613919</td>\n",
       "    </tr>\n",
       "    <tr>\n",
       "      <th>1</th>\n",
       "      <td>4.390883</td>\n",
       "      <td>-2.608057</td>\n",
       "      <td>3.639166</td>\n",
       "      <td>8.686755</td>\n",
       "      <td>-5.087093</td>\n",
       "      <td>0.935015</td>\n",
       "      <td>0.498768</td>\n",
       "      <td>1.413226</td>\n",
       "      <td>-4.825275</td>\n",
       "      <td>9.721514</td>\n",
       "      <td>...</td>\n",
       "      <td>1.258877</td>\n",
       "      <td>7.021102</td>\n",
       "      <td>2.482222</td>\n",
       "      <td>6.720293</td>\n",
       "      <td>4.804747</td>\n",
       "      <td>4.532559</td>\n",
       "      <td>-0.375265</td>\n",
       "      <td>9.062504</td>\n",
       "      <td>2.262100</td>\n",
       "      <td>-1.308439</td>\n",
       "    </tr>\n",
       "    <tr>\n",
       "      <th>2</th>\n",
       "      <td>-8.556368</td>\n",
       "      <td>-4.420008</td>\n",
       "      <td>-9.048879</td>\n",
       "      <td>-3.506215</td>\n",
       "      <td>-4.942235</td>\n",
       "      <td>-2.999547</td>\n",
       "      <td>-3.881098</td>\n",
       "      <td>-7.516011</td>\n",
       "      <td>3.742998</td>\n",
       "      <td>0.286627</td>\n",
       "      <td>...</td>\n",
       "      <td>-4.242175</td>\n",
       "      <td>3.225078</td>\n",
       "      <td>-6.099840</td>\n",
       "      <td>4.493078</td>\n",
       "      <td>-4.640462</td>\n",
       "      <td>-6.947689</td>\n",
       "      <td>-0.335123</td>\n",
       "      <td>-10.262120</td>\n",
       "      <td>5.431625</td>\n",
       "      <td>-8.797171</td>\n",
       "    </tr>\n",
       "    <tr>\n",
       "      <th>3</th>\n",
       "      <td>5.660971</td>\n",
       "      <td>-7.666658</td>\n",
       "      <td>8.253855</td>\n",
       "      <td>-1.764573</td>\n",
       "      <td>-0.491514</td>\n",
       "      <td>-4.648224</td>\n",
       "      <td>6.015844</td>\n",
       "      <td>-0.275010</td>\n",
       "      <td>1.277448</td>\n",
       "      <td>-9.875816</td>\n",
       "      <td>...</td>\n",
       "      <td>-0.646286</td>\n",
       "      <td>-1.350738</td>\n",
       "      <td>3.496446</td>\n",
       "      <td>-8.994346</td>\n",
       "      <td>3.222179</td>\n",
       "      <td>1.719503</td>\n",
       "      <td>-6.596510</td>\n",
       "      <td>-9.156030</td>\n",
       "      <td>-2.699993</td>\n",
       "      <td>-3.977890</td>\n",
       "    </tr>\n",
       "    <tr>\n",
       "      <th>4</th>\n",
       "      <td>2.457731</td>\n",
       "      <td>-7.111116</td>\n",
       "      <td>8.569138</td>\n",
       "      <td>0.232244</td>\n",
       "      <td>-0.752817</td>\n",
       "      <td>-5.907866</td>\n",
       "      <td>3.240364</td>\n",
       "      <td>-0.554807</td>\n",
       "      <td>2.408750</td>\n",
       "      <td>-8.770853</td>\n",
       "      <td>...</td>\n",
       "      <td>-1.129332</td>\n",
       "      <td>-3.033088</td>\n",
       "      <td>3.856838</td>\n",
       "      <td>-7.832671</td>\n",
       "      <td>3.040848</td>\n",
       "      <td>2.153351</td>\n",
       "      <td>-4.350825</td>\n",
       "      <td>-8.160605</td>\n",
       "      <td>-5.439677</td>\n",
       "      <td>-2.764732</td>\n",
       "    </tr>\n",
       "  </tbody>\n",
       "</table>\n",
       "<p>5 rows × 25 columns</p>\n",
       "</div>"
      ],
      "text/plain": [
       "         c0        c1        c2        c3        c4        c5        c6  \\\n",
       "0  3.502671 -5.638312  7.602307 -0.601102 -1.600475 -2.362167  4.885454   \n",
       "1  4.390883 -2.608057  3.639166  8.686755 -5.087093  0.935015  0.498768   \n",
       "2 -8.556368 -4.420008 -9.048879 -3.506215 -4.942235 -2.999547 -3.881098   \n",
       "3  5.660971 -7.666658  8.253855 -1.764573 -0.491514 -4.648224  6.015844   \n",
       "4  2.457731 -7.111116  8.569138  0.232244 -0.752817 -5.907866  3.240364   \n",
       "\n",
       "         c7        c8        c9  ...       c15       c16       c17       c18  \\\n",
       "0 -1.677507  1.018991 -9.116568  ... -2.689089 -1.269129  4.520669 -6.967277   \n",
       "1  1.413226 -4.825275  9.721514  ...  1.258877  7.021102  2.482222  6.720293   \n",
       "2 -7.516011  3.742998  0.286627  ... -4.242175  3.225078 -6.099840  4.493078   \n",
       "3 -0.275010  1.277448 -9.875816  ... -0.646286 -1.350738  3.496446 -8.994346   \n",
       "4 -0.554807  2.408750 -8.770853  ... -1.129332 -3.033088  3.856838 -7.832671   \n",
       "\n",
       "        c19       c20       c21        c22       c23       c24  \n",
       "0  4.028333  4.242330 -7.085382  -9.890756 -4.348435 -2.613919  \n",
       "1  4.804747  4.532559 -0.375265   9.062504  2.262100 -1.308439  \n",
       "2 -4.640462 -6.947689 -0.335123 -10.262120  5.431625 -8.797171  \n",
       "3  3.222179  1.719503 -6.596510  -9.156030 -2.699993 -3.977890  \n",
       "4  3.040848  2.153351 -4.350825  -8.160605 -5.439677 -2.764732  \n",
       "\n",
       "[5 rows x 25 columns]"
      ]
     },
     "execution_count": 3,
     "metadata": {},
     "output_type": "execute_result"
    }
   ],
   "source": [
    "X = pd.read_csv(\"blobs.csv\")\n",
    "X.head()"
   ]
  },
  {
   "cell_type": "markdown",
   "metadata": {},
   "source": [
    "### Exercício 1)\n",
    "Calcule as direções principais do conjunto de dados armazenado na variável X. Imprima as 3 direções principais com maior variância."
   ]
  },
  {
   "cell_type": "code",
   "execution_count": 4,
   "metadata": {},
   "outputs": [
    {
     "name": "stdout",
     "output_type": "stream",
     "text": [
      "[[ 1.92197646e-02 -2.06435693e-02  2.03149133e-02  2.85215074e-02\n",
      "  -9.90931578e-03  6.80511220e-04  1.11433172e-02 -6.95451279e-03\n",
      "  -9.92677418e-01  3.67757946e-02 -1.85597158e-02  1.95100212e-02\n",
      "   1.83684280e-02 -4.39279974e-02  2.90013592e-02  1.70472900e-02\n",
      "   5.19817429e-02 -1.05752911e-02  1.55291901e-02 -7.74234160e-03\n",
      "   3.98920576e-03 -1.37186521e-02  5.08262800e-02 -8.95014464e-03\n",
      "   2.89781030e-02]\n",
      " [ 1.79461688e-01  1.01948228e-01  1.16622674e-01  1.94845330e-01\n",
      "   1.55385732e-01  1.62598385e-01  9.51584471e-03  3.46145642e-01\n",
      "  -4.89428134e-02 -8.16320250e-02  3.00809995e-01  1.32208382e-01\n",
      "   1.42191888e-01  3.14145675e-01 -1.88654700e-01 -9.56956086e-02\n",
      "  -3.32721341e-01  3.93560366e-01 -1.26123633e-01  3.48592275e-01\n",
      "   1.98752815e-01  4.19471732e-02 -4.46140845e-02 -5.39292086e-02\n",
      "  -7.40742427e-02]\n",
      " [-2.39084918e-01 -7.29413297e-02 -3.58568151e-01  2.96299394e-02\n",
      "  -1.51125110e-02  3.43591444e-02 -8.80850946e-02 -8.82816898e-02\n",
      "  -6.31773624e-02  2.99191495e-02  6.88384400e-02  1.51308823e-01\n",
      "  -2.52784725e-01  2.71706976e-01  2.92705370e-01 -2.99007166e-02\n",
      "  -1.23772461e-01  3.05377227e-02 -1.43574207e-01  8.39087526e-02\n",
      "  -3.49095506e-01  2.60544574e-02 -5.07069038e-01  5.65323246e-02\n",
      "  -3.27909434e-01]]\n"
     ]
    }
   ],
   "source": [
    "from sklearn.decomposition import PCA\n",
    "\n",
    "# Vamos chamar a variável de 'pca' em vez de X_transformed\n",
    "pca = PCA()\n",
    "pca.fit(X)\n",
    "print(pca.components_[:3])"
   ]
  },
  {
   "cell_type": "markdown",
   "metadata": {},
   "source": [
    "### Exercício 2)\n",
    "Faça um gráfico mostrando o decaimento no valor das variâncias. Faça um segundo gráfico mostrando o decaimento no valor da porcentagem explicada por cada direção principal.\n",
    "\n",
    "**Dica**: Utilize o atributo e \"explained_variance_ratio_\" no segundo caso. Veja [documentação](https://scikit-learn.org/stable/modules/generated/sklearn.decomposition.PCA.html) para entender claramente a diferença entre tais atributos:"
   ]
  },
  {
   "cell_type": "code",
   "execution_count": 5,
   "metadata": {},
   "outputs": [],
   "source": [
    "# Vamos utilizar o seaborn em vez do matplotlib para fornecer uma maneira\n",
    "#   diferente de fazer:\n",
    "import seaborn as sns\n",
    "sns.set()"
   ]
  },
  {
   "cell_type": "code",
   "execution_count": 6,
   "metadata": {},
   "outputs": [
    {
     "data": {
      "image/png": "[encoded data removed]",
      "text/plain": [
       "<Figure size 432x288 with 1 Axes>"
      ]
     },
     "metadata": {},
     "output_type": "display_data"
    },
    {
     "data": {
      "image/png": "[encoded data removed]",
      "text/plain": [
       "<Figure size 432x288 with 1 Axes>"
      ]
     },
     "metadata": {},
     "output_type": "display_data"
    }
   ],
   "source": [
    "# Vamos colocar numa função para não duplicar código!\n",
    "def my_plot(pca):\n",
    "    \"\"\"Plota a variância de um objeto pca com seaborn;\n",
    "    Mostra dois plots, um com a variância total e outro com a porcentagem\n",
    "    \"\"\"\n",
    "    sns.scatterplot(y=pca.explained_variance_, \n",
    "                    x=np.arange(len(pca.explained_variance_)))\n",
    "    plt.title(\"Variância\")\n",
    "    plt.show()\n",
    "    sns.scatterplot(y=pca.explained_variance_ratio_, \n",
    "                    x=np.arange(len(pca.explained_variance_ratio_)))\n",
    "    plt.title(\"Variância %\")\n",
    "    plt.show()\n",
    "my_plot(pca)"
   ]
  },
  {
   "cell_type": "markdown",
   "metadata": {},
   "source": [
    "### Exercício 3)\n",
    "Calcule quantas direções principais são necessárias para representar $80\\%$ da informação contida nos dados."
   ]
  },
  {
   "cell_type": "code",
   "execution_count": 7,
   "metadata": {},
   "outputs": [
    {
     "name": "stdout",
     "output_type": "stream",
     "text": [
      "Numero de componentes com no mínimo 80% da informacao:  3\n",
      "\n",
      "Porcentagem da informacao:  0.8306501032848951\n"
     ]
    }
   ],
   "source": [
    "\"\"\"Versão original do professor, mas com a variável 'pca' em vez do \n",
    "X_transformed\n",
    "\"\"\"\n",
    "# O atributo \"explained_variance_ratio_\" contém a porcentagem de\n",
    "# informação representada em cada direção (ordenado da maior para a menor)\n",
    "# Para encontrar o número de direções necessárias para representar\n",
    "# 80% da informação basta somar os valores de \"explained_variance_ratio_\"\n",
    "# até que se obtenha 80%\n",
    "\n",
    "percentage_info = 0.0\n",
    "num_components80 = 0\n",
    "for i in range(pca.explained_variance_ratio_.shape[0]):\n",
    "    percentage_info += pca.explained_variance_ratio_[i]\n",
    "    if percentage_info >= 0.8:\n",
    "        num_components80 = i+1\n",
    "        break\n",
    "        \n",
    "print('Numero de componentes com no mínimo 80% da informacao: ',\n",
    "     num_components80)\n",
    "print('\\nPorcentagem da informacao: ',percentage_info)"
   ]
  },
  {
   "cell_type": "code",
   "execution_count": 8,
   "metadata": {},
   "outputs": [
    {
     "name": "stdout",
     "output_type": "stream",
     "text": [
      "Numero de componentes com no mínimo 80% da informacao:  3\n",
      "\n",
      "Porcentagem da informacao:  0.8306501032848951\n"
     ]
    }
   ],
   "source": [
    "# Outra versão do mesmo código, com mais coisas prontas do Python:\n",
    "percentage_info = 0.0\n",
    "for component_idx, component in enumerate(pca.explained_variance_ratio_, 1):\n",
    "    percentage_info += component\n",
    "    if percentage_info >= 0.8:\n",
    "        break\n",
    "print('Numero de componentes com no mínimo 80% da informacao: ',\n",
    "     component_idx)\n",
    "print('\\nPorcentagem da informacao: ', percentage_info)"
   ]
  },
  {
   "cell_type": "code",
   "execution_count": 9,
   "metadata": {},
   "outputs": [
    {
     "data": {
      "text/plain": [
       "3"
      ]
     },
     "execution_count": 9,
     "metadata": {},
     "output_type": "execute_result"
    }
   ],
   "source": [
    "\"\"\"\n",
    "Outra versão, agora só com numpy\n",
    "cumsum = cumulative sum\n",
    "soma_acumulativa[i] = soma(vector[k]), para 0 <= k <= i\n",
    "\"\"\"\n",
    "soma_acumulativa = np.cumsum(pca.explained_variance_ratio_)\n",
    "np.argmax(soma_acumulativa >= 0.8) + 1"
   ]
  },
  {
   "cell_type": "code",
   "execution_count": 21,
   "metadata": {},
   "outputs": [
    {
     "data": {
      "image/png": "[encoded data removed]",
      "text/plain": [
       "<Figure size 432x288 with 1 Axes>"
      ]
     },
     "metadata": {},
     "output_type": "display_data"
    }
   ],
   "source": [
    "\"\"\"O legal desse cumsum é que podemos plotar a soma acumulada agora;\n",
    "Abaixo um exemplo de um gráfico de paretto mencionado na monitoria, \n",
    "    plotando tanto a quantidade (barra) como a soma (linha)\n",
    "\"\"\" \n",
    "def paretto_plot(pca):\n",
    "    soma_acumulativa = np.cumsum(pca.explained_variance_ratio_)\n",
    "    variance_ratio = pca.explained_variance_ratio_\n",
    "    sns.barplot(y=variance_ratio, x=np.arange(len(variance_ratio)))\n",
    "    sns.lineplot(y=soma_acumulativa, x=np.arange(len(variance_ratio)))\n",
    "    plt.title(\"Gráfico de Paretto feito na mão\")\n",
    "    plt.show();\n",
    "\n",
    "# Esse gráfico vai ficar mais bonito quando removermos os outliers...\n",
    "paretto_plot(pca)"
   ]
  },
  {
   "cell_type": "markdown",
   "metadata": {},
   "source": [
    "### Exercício 4)\n",
    "Utilizando apenas as duas componentes com maior variância, projete os dados originais nestas duas componentes e faça um \"scatter plot\" dos dados em duas dimensões."
   ]
  },
  {
   "cell_type": "code",
   "execution_count": 11,
   "metadata": {},
   "outputs": [
    {
     "data": {
      "text/plain": [
       "<matplotlib.axes._subplots.AxesSubplot at 0x7f3b72482cc0>"
      ]
     },
     "execution_count": 11,
     "metadata": {},
     "output_type": "execute_result"
    },
    {
     "data": {
      "image/png": "[encoded data removed]",
      "text/plain": [
       "<Figure size 432x288 with 1 Axes>"
      ]
     },
     "metadata": {},
     "output_type": "display_data"
    }
   ],
   "source": [
    "X_pca = pca.transform(X)\n",
    "sns.scatterplot(x=X_pca[:, 0], y=X_pca[:, 1])"
   ]
  },
  {
   "cell_type": "markdown",
   "metadata": {},
   "source": [
    "### Exercício 5)\n",
    "Analisando o \"scatter plot\" do exercício anterior você deve ter notado que existem _outliers_ nos dados originais (pontos muito distantes dos demais). Encontre os _outliers_ e remova-os dos dados originais."
   ]
  },
  {
   "cell_type": "code",
   "execution_count": 12,
   "metadata": {},
   "outputs": [
    {
     "name": "stdout",
     "output_type": "stream",
     "text": [
      "indice das linhas dos elementos \"outliers\":\n",
      " [[421   8]\n",
      " [426  15]]\n",
      "(500, 25)\n",
      "(498, 25)\n"
     ]
    }
   ],
   "source": [
    "# utilizando z-score para encontrar outliers\n",
    "# o pacote scipy possui um método para encontrar o z-score\n",
    "\n",
    "from scipy.stats import zscore\n",
    "\n",
    "# calculando z-scores\n",
    "Xzscore = zscore(X,axis=0)\n",
    "\n",
    "# encontrando outliers\n",
    "outliers = np.abs(Xzscore) > 2.8 # 2.8 é o threshold utilizado para \n",
    "                                 # identificar um valor como outlier\n",
    "    \n",
    "outliers_id = np.argwhere(outliers == True)\n",
    "print('indice das linhas dos elementos \"outliers\":\\n',outliers_id)\n",
    "\n",
    "# removendo outliers\n",
    "df = pd.DataFrame(data=X)\n",
    "print(df.shape)\n",
    "df = df.drop(outliers_id[:,0],axis=0)\n",
    "print(df.shape)\n",
    "\n",
    "X_no_outliers = df.values"
   ]
  },
  {
   "cell_type": "markdown",
   "metadata": {},
   "source": [
    "### Exercício 6)\n",
    "Um dos problemas de PCA é sua sensibilidade à outliers, isto é, outliers interferem muito no cálculo das direções principais. Recalcule as direções principais dos dados cujos outliers foram removidos e verifique o quanto a direção principal de maior variância mudou.\n",
    "\n",
    "**DICA**: utilize o ângulo entre as direções principais com e sem outliers para medir a mudança nas direções."
   ]
  },
  {
   "cell_type": "code",
   "execution_count": 13,
   "metadata": {},
   "outputs": [],
   "source": [
    "pca_no_outliers = PCA().fit(X_no_outliers)"
   ]
  },
  {
   "cell_type": "code",
   "execution_count": 14,
   "metadata": {},
   "outputs": [],
   "source": [
    "import numpy as np\n",
    "\n",
    "def unit_vector(vector):\n",
    "    \"\"\" Returns the unit vector of the vector.  \"\"\"\n",
    "    return vector / np.linalg.norm(vector)\n",
    "\n",
    "def angle_between(v1, v2):\n",
    "    \"\"\" Returns the angle in radians between vectors 'v1' and 'v2'::\n",
    "\n",
    "            >>> angle_between((1, 0, 0), (0, 1, 0))\n",
    "            1.5707963267948966\n",
    "            >>> angle_between((1, 0, 0), (1, 0, 0))\n",
    "            0.0\n",
    "            >>> angle_between((1, 0, 0), (-1, 0, 0))\n",
    "            3.141592653589793\n",
    "    \"\"\"\n",
    "    v1_u = unit_vector(v1)\n",
    "    v2_u = unit_vector(v2)\n",
    "    return np.arccos(np.clip(np.dot(v1_u, v2_u), -1.0, 1.0))"
   ]
  },
  {
   "cell_type": "code",
   "execution_count": 15,
   "metadata": {},
   "outputs": [
    {
     "data": {
      "text/plain": [
       "1.8486406879051447"
      ]
     },
     "execution_count": 15,
     "metadata": {},
     "output_type": "execute_result"
    }
   ],
   "source": [
    "angle_between(pca_no_outliers.components_[0], pca.components_[0])"
   ]
  },
  {
   "cell_type": "markdown",
   "metadata": {},
   "source": [
    "### Exercício 7)\n",
    "Compare visualmente o decaimento da procentagem de variância com e sem outliers (valores do atributo \"explained_variance_ratio_\"). "
   ]
  },
  {
   "cell_type": "code",
   "execution_count": 16,
   "metadata": {},
   "outputs": [
    {
     "data": {
      "image/png": "[encoded data removed]",
      "text/plain": [
       "<Figure size 432x288 with 1 Axes>"
      ]
     },
     "metadata": {},
     "output_type": "display_data"
    },
    {
     "data": {
      "image/png": "[encoded data removed]",
      "text/plain": [
       "<Figure size 432x288 with 1 Axes>"
      ]
     },
     "metadata": {},
     "output_type": "display_data"
    }
   ],
   "source": [
    "my_plot(pca_no_outliers)"
   ]
  },
  {
   "cell_type": "code",
   "execution_count": 17,
   "metadata": {},
   "outputs": [
    {
     "data": {
      "image/png": "[encoded data removed]",
      "text/plain": [
       "<Figure size 432x288 with 1 Axes>"
      ]
     },
     "metadata": {},
     "output_type": "display_data"
    }
   ],
   "source": [
    "# Vamos ver também aquele outro gráfico:\n",
    "paretto_plot(pca_no_outliers)"
   ]
  },
  {
   "cell_type": "markdown",
   "metadata": {},
   "source": [
    "### Exercício 8)\n",
    "Qual a procentagem de informação representada pelas 4 primeiras componentes principais após a remoção dos outliers?"
   ]
  },
  {
   "cell_type": "code",
   "execution_count": 18,
   "metadata": {},
   "outputs": [
    {
     "data": {
      "text/plain": [
       "0.9707288797875441"
      ]
     },
     "execution_count": 18,
     "metadata": {},
     "output_type": "execute_result"
    }
   ],
   "source": [
    "np.cumsum(pca_no_outliers.explained_variance_ratio_)[3]"
   ]
  },
  {
   "cell_type": "markdown",
   "metadata": {},
   "source": [
    "### Exercício 9)\n",
    "Repita o exercício 4), utilizando os dados sem outliers, ou seja, projete os dados sem outliers nas duas primeiras direções principais e faça um scatter plot.\n",
    "\n",
    "Os clusters contidos nos dados devem ser claramente visíveis após a remoção dos outliers."
   ]
  },
  {
   "cell_type": "code",
   "execution_count": 19,
   "metadata": {},
   "outputs": [
    {
     "data": {
      "text/plain": [
       "<matplotlib.axes._subplots.AxesSubplot at 0x7f3b72248e10>"
      ]
     },
     "execution_count": 19,
     "metadata": {},
     "output_type": "execute_result"
    },
    {
     "data": {
      "image/png": "[encoded data removed]",
      "text/plain": [
       "<Figure size 432x288 with 1 Axes>"
      ]
     },
     "metadata": {},
     "output_type": "display_data"
    }
   ],
   "source": [
    "X_pca_no_outliers = pca_no_outliers.transform(X_no_outliers)\n",
    "sns.scatterplot(x=X_pca_no_outliers[:, 0], y=X_pca_no_outliers[:, 1])"
   ]
  },
  {
   "cell_type": "code",
   "execution_count": null,
   "metadata": {},
   "outputs": [],
   "source": []
  }
 ],
 "metadata": {
  "kernelspec": {
   "display_name": "Python 3",
   "language": "python",
   "name": "python3"
  },
  "language_info": {
   "codemirror_mode": {
    "name": "ipython",
    "version": 3
   },
   "file_extension": ".py",
   "mimetype": "text/x-python",
   "name": "python",
   "nbconvert_exporter": "python",
   "pygments_lexer": "ipython3",
   "version": "3.6.5rc1"
  },
  "toc": {
   "base_numbering": 1,
   "nav_menu": {},
   "number_sections": false,
   "sideBar": false,
   "skip_h1_title": false,
   "title_cell": "Table of Contents",
   "title_sidebar": "Contents",
   "toc_cell": true,
   "toc_position": {
    "height": "414.717px",
    "left": "1067.65px",
    "top": "28.9797px",
    "width": "266.667px"
   },
   "toc_section_display": false,
   "toc_window_display": true
  }
 },
 "nbformat": 4,
 "nbformat_minor": 2
}
