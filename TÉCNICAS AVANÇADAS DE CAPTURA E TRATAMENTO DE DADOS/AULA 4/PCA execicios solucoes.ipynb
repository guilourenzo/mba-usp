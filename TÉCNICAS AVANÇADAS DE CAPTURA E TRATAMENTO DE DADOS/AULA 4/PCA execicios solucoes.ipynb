{
 "cells": [
  {
   "cell_type": "markdown",
   "metadata": {},
   "source": [
    "# <span style=\"color:blue\"> MBA em Ciência de Dados</span>\n",
    "# <span style=\"color:blue\">Técnicas Avançadas para Captura e Tratamento de Dados</span>\n",
    "\n",
    "## <span style=\"color:blue\">Análise de Componentes Principais<br> Exercícios</span>\n",
    "**Material Produzido por Luis Gustavo Nonato**<br>\n",
    "**Cemeai - ICMC/USP São Carlos**\n",
    "---"
   ]
  },
  {
   "cell_type": "markdown",
   "metadata": {},
   "source": [
    "<font color='red'> Recomendamos fortemente resolver os exercícios sem consultar as soluções antecipadamente </font>"
   ]
  },
  {
   "cell_type": "markdown",
   "metadata": {},
   "source": [
    "Os exercícios abaixo farão uso do conjunto de dados <font style=\"font-family: monaco\">blobs.csv</font> disponível no _moodle_."
   ]
  },
  {
   "cell_type": "code",
   "execution_count": 1,
   "metadata": {},
   "outputs": [],
   "source": [
    "import numpy as np\n",
    "import pandas as pd\n",
    "import matplotlib.pyplot as plt"
   ]
  },
  {
   "cell_type": "markdown",
   "metadata": {},
   "source": [
    "### Exercício 1)\n",
    "Calcule as direções principais do conjunto de dados armazenado na variável X. Imprima as 3 direções principais com maior variância."
   ]
  },
  {
   "cell_type": "code",
   "execution_count": 43,
   "metadata": {},
   "outputs": [
    {
     "name": "stdout",
     "output_type": "stream",
     "text": [
      "(500, 25)\n",
      "\n",
      "Tres direcoes com maior variancia\n",
      "\n",
      "[[ 1.92197646e-02 -2.06435693e-02  2.03149133e-02  2.85215074e-02\n",
      "  -9.90931578e-03  6.80511220e-04  1.11433172e-02 -6.95451279e-03\n",
      "  -9.92677418e-01  3.67757946e-02 -1.85597158e-02  1.95100212e-02\n",
      "   1.83684280e-02 -4.39279974e-02  2.90013592e-02  1.70472900e-02\n",
      "   5.19817429e-02 -1.05752911e-02  1.55291901e-02 -7.74234160e-03\n",
      "   3.98920576e-03 -1.37186521e-02  5.08262800e-02 -8.95014464e-03\n",
      "   2.89781030e-02]\n",
      " [ 1.79461688e-01  1.01948228e-01  1.16622674e-01  1.94845330e-01\n",
      "   1.55385732e-01  1.62598385e-01  9.51584471e-03  3.46145642e-01\n",
      "  -4.89428134e-02 -8.16320250e-02  3.00809995e-01  1.32208382e-01\n",
      "   1.42191888e-01  3.14145675e-01 -1.88654700e-01 -9.56956086e-02\n",
      "  -3.32721341e-01  3.93560366e-01 -1.26123633e-01  3.48592275e-01\n",
      "   1.98752815e-01  4.19471732e-02 -4.46140845e-02 -5.39292086e-02\n",
      "  -7.40742427e-02]\n",
      " [-2.39084918e-01 -7.29413297e-02 -3.58568151e-01  2.96299394e-02\n",
      "  -1.51125110e-02  3.43591444e-02 -8.80850946e-02 -8.82816898e-02\n",
      "  -6.31773624e-02  2.99191495e-02  6.88384400e-02  1.51308823e-01\n",
      "  -2.52784725e-01  2.71706976e-01  2.92705370e-01 -2.99007166e-02\n",
      "  -1.23772461e-01  3.05377227e-02 -1.43574207e-01  8.39087526e-02\n",
      "  -3.49095506e-01  2.60544574e-02 -5.07069038e-01  5.65323246e-02\n",
      "  -3.27909434e-01]]\n"
     ]
    }
   ],
   "source": [
    "from sklearn.decomposition import PCA\n",
    "\n",
    "X = pd.read_csv('blobs.csv').values\n",
    "print(X.shape)\n",
    "\n",
    "pca_obj=PCA(svd_solver='full')\n",
    "X_transformed = pca_obj.fit(X)\n",
    "\n",
    "# o atribudo \"components_\" é um array onde as direções principais \n",
    "# estão armazenadas nas linhas, sendo a componente principal de maior \n",
    "# variância armazenada na linha 0, componente principal com a \n",
    "# segunda maior na linha 1 e assim por diante\n",
    "print('\\nTres direcoes com maior variancia\\n')\n",
    "print(X_transformed.components_[0:3])"
   ]
  },
  {
   "cell_type": "markdown",
   "metadata": {},
   "source": [
    "### Exercício 2)\n",
    "Faça um gráfico mostrando o decaimento no valor das variâncias. Faça um segundo gráfico mostrando o decaimento no valor da porcentagem explicada por cada direção principal.\n",
    "\n",
    "**Dica**: Utilize o atributo e \"explained_variance_ratio_\" no segundo caso. Veja [documentação](https://scikit-learn.org/stable/modules/generated/sklearn.decomposition.PCA.html) para entender claramente a diferença entre tais atributos:"
   ]
  },
  {
   "cell_type": "code",
   "execution_count": 10,
   "metadata": {},
   "outputs": [
    {
     "data": {
      "text/plain": [
       "[<matplotlib.lines.Line2D at 0x1308a7780>]"
      ]
     },
     "execution_count": 10,
     "metadata": {},
     "output_type": "execute_result"
    },
    {
     "data": {
      "image/png": "[encoded data removed]",
      "text/plain": [
       "<Figure size 864x432 with 2 Axes>"
      ]
     },
     "metadata": {
      "needs_background": "light"
     },
     "output_type": "display_data"
    }
   ],
   "source": [
    "plt.rcParams['figure.figsize'] = [12, 6]\n",
    "f, (ax1, ax2)  = plt.subplots(1,2)\n",
    "\n",
    "ax1.plot(X_transformed.explained_variance_, 'o')\n",
    "ax2.plot(X_transformed.explained_variance_ratio_, 'o')"
   ]
  },
  {
   "cell_type": "markdown",
   "metadata": {},
   "source": [
    "### Exercício 3)\n",
    "Calcule quantas direções principais são necessárias para representar $80\\%$ da informação contida nos dados."
   ]
  },
  {
   "cell_type": "code",
   "execution_count": 3,
   "metadata": {},
   "outputs": [
    {
     "name": "stdout",
     "output_type": "stream",
     "text": [
      "Numero de componentes com no mínimo 80% da informacao:  3\n",
      "\n",
      "Porcentagem da informacao:  0.8306501032848947\n"
     ]
    }
   ],
   "source": [
    "# O atributo \"explained_variance_ratio_\" contém a porcentagem de\n",
    "# informação representada em cada direção (ordenado da maior para a menor)\n",
    "# Para encontrar o número de direções necessárias para representar\n",
    "# 80% da informação basta somar os valores de \"explained_variance_ratio_\"\n",
    "# até que se obtenha 80%\n",
    "\n",
    "percentage_info = 0.0\n",
    "num_components80 = 0\n",
    "for i in range(X_transformed.explained_variance_ratio_.shape[0]):\n",
    "    percentage_info += X_transformed.explained_variance_ratio_[i]\n",
    "    if percentage_info >= 0.8:\n",
    "        num_components80 = i+1\n",
    "        break\n",
    "        \n",
    "print('Numero de componentes com no mínimo 80% da informacao: ',\n",
    "     num_components80)\n",
    "print('\\nPorcentagem da informacao: ',percentage_info)"
   ]
  },
  {
   "cell_type": "markdown",
   "metadata": {},
   "source": [
    "### Exercício 4)\n",
    "Utilizando apenas as duas componentes com maior variância, projete os dados originais nestas duas componentes e faça um \"scatter plot\" dos dados em duas dimensões."
   ]
  },
  {
   "cell_type": "code",
   "execution_count": 4,
   "metadata": {},
   "outputs": [
    {
     "data": {
      "text/plain": [
       "<matplotlib.collections.PathCollection at 0x128633ac8>"
      ]
     },
     "execution_count": 4,
     "metadata": {},
     "output_type": "execute_result"
    },
    {
     "data": {
      "image/png": "[encoded data removed]",
      "text/plain": [
       "<Figure size 432x288 with 1 Axes>"
      ]
     },
     "metadata": {
      "needs_background": "light"
     },
     "output_type": "display_data"
    }
   ],
   "source": [
    "X2D = np.dot(X,X_transformed.components_[0:2].T)\n",
    "\n",
    "plt.scatter(X2D[:,0],X2D[:,1])"
   ]
  },
  {
   "cell_type": "markdown",
   "metadata": {},
   "source": [
    "### Exercício 5)\n",
    "Analisando o \"scatter plot\" do exercício anterior você deve ter notado que existem _outliers_ nos dados originais (pontos muito distantes dos demais). Encontre os _outliers_ e remova-os dos dados originais."
   ]
  },
  {
   "cell_type": "code",
   "execution_count": 33,
   "metadata": {},
   "outputs": [
    {
     "name": "stdout",
     "output_type": "stream",
     "text": [
      "indice das linhas dos elementos \"outliers\":\n",
      " [[421   8]\n",
      " [426  15]]\n",
      "(500, 25)\n",
      "(498, 25)\n"
     ]
    }
   ],
   "source": [
    "# utilizando z-score para encontrar outliers\n",
    "# o pacote scipy possui um método para encontrar o z-score\n",
    "\n",
    "from scipy.stats import zscore\n",
    "\n",
    "# calculando z-scores\n",
    "Xzscore = zscore(X,axis=0)\n",
    "\n",
    "# encontrando outliers\n",
    "outliers = np.abs(Xzscore) > 2.8 # 2.8 é o threshold utilizado para \n",
    "                                 # identificar um valor como outlier\n",
    "    \n",
    "outliers_id = np.argwhere(outliers == True)\n",
    "print('indice das linhas dos elementos \"outliers\":\\n',outliers_id)\n",
    "\n",
    "# removendo outliers\n",
    "df = pd.DataFrame(data=X)\n",
    "print(df.shape)\n",
    "df = df.drop(outliers_id[:,0],axis=0)\n",
    "print(df.shape)\n",
    "\n",
    "X_no_outliers = df.values"
   ]
  },
  {
   "cell_type": "markdown",
   "metadata": {},
   "source": [
    "### Exercício 6)\n",
    "Um dos problemas de PCA é sua sensibilidade à outliers, isto é, outliers interferem muito no cálculo das direções principais. Recalcule as direções principais dos dados cujos outliers foram removidos e verifique o quanto a direção principal de maior variância mudou.\n",
    "\n",
    "**DICA**: utilize o ângulo entre as direções principais com e sem outliers para medir a mudança nas direções."
   ]
  },
  {
   "cell_type": "code",
   "execution_count": 52,
   "metadata": {},
   "outputs": [
    {
     "name": "stdout",
     "output_type": "stream",
     "text": [
      "1.8486406879051454\n",
      "angulo de  105.92243317616622  graus\n"
     ]
    }
   ],
   "source": [
    "pca_obj2=PCA(svd_solver='full')\n",
    "X_no_outliers_transformed = pca_obj2.fit(X_no_outliers)\n",
    "\n",
    "# Calculando o ângulo entre as direções principais com e \n",
    "# sem outliers: cos(angulo) = np.dot(v1,v2)/(np.norm(v1)*np.norm(v2))\n",
    "# angulo = arccos(np.dot(v1,v2)/(np.linalg.norm(v1)*np.linalg.norm(v2)))\n",
    "\n",
    "v1 = X_transformed.components_[0] # direcao principal de maior variancia com outliers\n",
    "v2 = X_no_outliers_transformed.components_[0] # direcao principal de maior variancia sem outliers\n",
    "\n",
    "cos_comp = np.dot(v1,v2)/(np.linalg.norm(v1)*np.linalg.norm(v2))               \n",
    "ang = np.arccos(cos_comp)\n",
    "print(ang)\n",
    "print('angulo de ',ang*180/3.1415,' graus entre direcoes principais')"
   ]
  },
  {
   "cell_type": "markdown",
   "metadata": {},
   "source": [
    "### Exercício 7)\n",
    "Compare visualmente o decaimento da procentagem de variância com e sem outliers (valores do atributo \"explained_variance_ratio_\"). "
   ]
  },
  {
   "cell_type": "code",
   "execution_count": 53,
   "metadata": {},
   "outputs": [
    {
     "data": {
      "text/plain": [
       "[<matplotlib.lines.Line2D at 0x12dc24438>]"
      ]
     },
     "execution_count": 53,
     "metadata": {},
     "output_type": "execute_result"
    },
    {
     "data": {
      "image/png": "[encoded data removed]",
      "text/plain": [
       "<Figure size 864x432 with 2 Axes>"
      ]
     },
     "metadata": {
      "needs_background": "light"
     },
     "output_type": "display_data"
    }
   ],
   "source": [
    "plt.rcParams['figure.figsize'] = [12, 6]\n",
    "f, (ax1, ax2)  = plt.subplots(1,2)\n",
    "\n",
    "ax1.plot(X_transformed.explained_variance_ratio_, 'o')\n",
    "ax2.plot(X_no_outliers_transformed.explained_variance_ratio_, 'o')"
   ]
  },
  {
   "cell_type": "markdown",
   "metadata": {},
   "source": [
    "### Exercício 8)\n",
    "Qual a procentagem de informação representada pelas 4 primeiras componentes principais após a remoção dos outliers?"
   ]
  },
  {
   "cell_type": "code",
   "execution_count": 57,
   "metadata": {},
   "outputs": [
    {
     "name": "stdout",
     "output_type": "stream",
     "text": [
      "Porcentagem de informacao 4 primeiras componentes principais:  97.07288797875441 %\n"
     ]
    }
   ],
   "source": [
    "perc_exp = np.sum(X_no_outliers_transformed.explained_variance_ratio_[0:4])\n",
    "print('Porcentagem de informacao 4 primeiras componentes principais: ',\n",
    "      100*perc_exp,'%')"
   ]
  },
  {
   "cell_type": "markdown",
   "metadata": {},
   "source": [
    "### Exercício 9)\n",
    "Repita o exercício 4), utilizando os dados sem outliers, ou seja, projete os dados sem outliers nas duas primeiras direções principais e faça um scatter plot.\n",
    "\n",
    "Os clusters contidos nos dados devem ser claramente visíveis após a remoção dos outliers."
   ]
  },
  {
   "cell_type": "code",
   "execution_count": 58,
   "metadata": {},
   "outputs": [
    {
     "data": {
      "text/plain": [
       "<matplotlib.collections.PathCollection at 0x12db81198>"
      ]
     },
     "execution_count": 58,
     "metadata": {},
     "output_type": "execute_result"
    },
    {
     "data": {
      "image/png": "[encoded data removed]",
      "text/plain": [
       "<Figure size 864x432 with 1 Axes>"
      ]
     },
     "metadata": {
      "needs_background": "light"
     },
     "output_type": "display_data"
    }
   ],
   "source": [
    "X2D_no_outliers = np.dot(X_no_outliers,X_no_outliers_transformed.components_[0:2].T)\n",
    "\n",
    "plt.scatter(X2D_no_outliers[:,0],X2D_no_outliers[:,1])"
   ]
  }
 ],
 "metadata": {
  "kernelspec": {
   "display_name": "Python 3",
   "language": "python",
   "name": "python3"
  },
  "language_info": {
   "codemirror_mode": {
    "name": "ipython",
    "version": 3
   },
   "file_extension": ".py",
   "mimetype": "text/x-python",
   "name": "python",
   "nbconvert_exporter": "python",
   "pygments_lexer": "ipython3",
   "version": "3.7.1"
  }
 },
 "nbformat": 4,
 "nbformat_minor": 2
}
