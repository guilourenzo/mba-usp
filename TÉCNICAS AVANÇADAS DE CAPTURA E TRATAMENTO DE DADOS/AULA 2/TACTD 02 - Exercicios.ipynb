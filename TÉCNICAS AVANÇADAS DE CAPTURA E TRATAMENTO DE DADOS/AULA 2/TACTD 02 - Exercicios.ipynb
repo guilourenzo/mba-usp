{
 "cells": [
  {
   "cell_type": "markdown",
   "metadata": {},
   "source": [
    "# MBA em Ciência de Dados\n",
    "# Técnicas Avançadas de Captura e Tratamento de Dados\n",
    "\n",
    "### <span style=\"color:darkred\">Módulo II - Tratamento de Dados</span>\n",
    "\n",
    "\n",
    "### <span style=\"color:darkred\">Exercícios</span>\n",
    "\n",
    "Moacir Antonelli Ponti\n",
    "\n",
    "CeMEAI - ICMC/USP São Carlos\n",
    "\n",
    "---\n",
    "\n",
    "#### <span style=\"color:red\">Recomenda-se fortemente que os exercícios sejam feitos sem consultar as respostas antecipadamente.</span>\n",
    "\n",
    "---"
   ]
  },
  {
   "cell_type": "code",
   "execution_count": 335,
   "metadata": {},
   "outputs": [],
   "source": [
    "# carregando as bibliotecas necessárias\n",
    "import numpy as np\n",
    "import matplotlib.pyplot as plt\n",
    "import pandas as pd\n",
    "\n",
    "from sklearn.svm import SVC\n",
    "from sklearn.linear_model import Ridge\n",
    "from sklearn import metrics\n",
    "\n",
    "# carregando dados\n",
    "data_orig = pd.read_csv(\"./dados/houses_to_rent_mba4.csv\")"
   ]
  },
  {
   "cell_type": "markdown",
   "metadata": {},
   "source": [
    "**Antes de inciar**:\n",
    "\n",
    "1. Remova todos as linhas duplicadas da base de dados\n",
    "2. Inspecione o tipo dos atributos e seus valores, realize uma limpeza inicial considerando a:\n",
    "    1. correção dos dados que forem possíveis inferir o valor verdadeiro, ajustando e padronizando-os \n",
    "    2. conversão dos atributos que deveriam ser numéricos para numérico - inspecione os valores para garantir que a conversão não vá gerar dados faltantes de forma desnecessária, substituindo por numeros os que forem possíveis como por exemplo o atributo \"floor\" como visto na aula em que substituímos dados por 0 \n",
    "    \n",
    "        *DICA 1: olhar com detalhe os atributos não numéricos*\n",
    "        \n",
    "        *DICA 2: para descobrir quais valores de uma coluna do tipo `object` que podem ser convertidos para dígitos numéricos você pode usar* `dataframe[atributo].astype(str).str.isnumeric()`"
   ]
  },
  {
   "cell_type": "markdown",
   "metadata": {},
   "source": [
    "### Exercício 1)\n",
    " \n",
    "Considerando a limpeza inicial realizada, responda as questões abaixo:\n",
    " \n",
    "#### Exercício 1, questão I\n",
    "\n",
    "Quantos linhas relativas a valores da coluna \"city\" estavam fora do padrão e foram corrigidos?\n",
    "\n",
    "(a) 49<br>\n",
    "(b) 48<br>\n",
    "(c) 46<br>\n",
    "(d) 50<br>\n",
    "\n",
    "#### Exercício 1, questão II\n",
    "\n",
    "Em quais dos atributos convertidos para numéricos foi possível substituir valores inválidos (strings e nulos/nans) por valores numéricos não nulos?\n",
    "\n",
    "(a) floor e city<br>\n",
    "(b) floor e tax<br>\n",
    "(c) floor e page hits<br>\n",
    "(d) tax e page hits<br>\n"
   ]
  },
  {
   "cell_type": "markdown",
   "metadata": {},
   "source": [
    "---\n",
    "### Exercício 2)\n",
    "\n",
    "Vamos analisar possíveis atributos redundantes na base de dados.\n",
    "\n",
    "1. Inspecione as colunas imprimindo quantos valores únicos cada uma possui.\n",
    "2. Execute o seguinte comando `data.corr(method='pearson')` para obter a correlação de Pearson entre colunas numéricas, e visualize aquelas com correlacao acima de 0.75\n",
    "\n",
    "DICA: você pode filtrar os resultados utilizando por exemplo `data.corr(method='pearson') >= 0.75`\n",
    "\n",
    "OBS: mais informacoes sobre correlação em [https://pt.wikipedia.org/wiki/Coeficiente_de_correla%C3%A7%C3%A3o_de_Pearson]\n",
    "\n",
    "Depois, responda às questões abaixo."
   ]
  },
  {
   "cell_type": "markdown",
   "metadata": {},
   "source": [
    "#### Exercício 2, questão I\n",
    "\n",
    "Há algum atributo irrelevante que é possível remover, apenas pela análise dos valors únicos?\n",
    "\n",
    "(a) type<br>\n",
    "(b) country<br>\n",
    "(c) city<br>\n",
    "(d) não é possível remover nenhum atributo segundo esse critério<br>\n",
    "\n",
    "\n",
    "#### Exercício 2, questão II\n",
    "\n",
    "Qual atributo possui a maior quantidade de valores únicos/distintos?\n",
    "\n",
    "(a) total<br>\n",
    "(b) area<br>\n",
    "(c) hoa<br>\n",
    "(d) rent<br>\n",
    "\n",
    "#### Exercício 2, questão III\n",
    "\n",
    "Variáveis com alta correlação indicam que uma variável é capaz de explicar a outra. Nesse caso, a não ser por uma análise mais fina dos dados individuais, para fins de uma análise global, as variáveis com correlação próxima a 1 poderiam ser removidas.\n",
    "\n",
    "Considerando esse cenário, quais variáveis possuem correlações superiores a 0.75 com outra variável diferente dessa?\n",
    "\n",
    "(a) 'page hits', 'days available', 'interactions', 'weeks available', 'hoa' e 'total'<br>\n",
    "(b) 'page hits', 'days available', 'interactions', 'weeks available', 'rent' e 'total'<br>\n",
    "(b) 'page hits', 'days available', 'interactions' e 'weeks available'<br>\n",
    "(d) todas as variáveis\n",
    "\n",
    "\n",
    "#### Exercício 2, questão IV\n",
    "\n",
    "Utiliza a funcao `plot_pairwise()` dada em aula para plotar par-a-par as variáveis: 'page hits', 'days available', 'interactions', 'weeks available'\n",
    "\n",
    "O que podemos notar comparando o gráfico com os valores de correlação?\n",
    "\n",
    "(a) Quanto maior a correlação, mais o gráfico se assemelha a uma nuvem de pontos aleatória<br>\n",
    "(b) Quanto menor a correlação, mais o gráfico se assemelha a uma reta<br>\n",
    "(c) Quanto maior a correlação, mais o gráfico se assemelha a uma reta<br>\n",
    "(d) Não há qualquer padrão entre o valor da correlação e a visualização dos gráficos"
   ]
  },
  {
   "cell_type": "markdown",
   "metadata": {},
   "source": [
    "---\n",
    "\n",
    "### Exercício 3)\n",
    "\n",
    "Vamos procurar por outliers na base de dados utilizando um método baseado na dispersão pelo desvio padrão. \n",
    "\n",
    "* Codifique uma funcao em Python no formato abaixo, que receba por parâmetro um dataframe, uma lista de atributos/variáveis e um fator multiplicador `t` para o desvio padrão.\n",
    "`def remove_outliers_std(df, attributes, t):`\n",
    "    Essa funcao deve retornar um dataframe sem os outliers segundo o método do desvio padrão, ou seja, removendo aqueles cujo valor esteja: abaixo da média menos `t` desvios padrões, ou acima da média mais `t` desvios padrões. Formalmente, são ouliers valores $x$ tal que $x < \\mu - t\\sigma$ ou $x > \\mu + t\\sigma$. A funcao deve processar apenas variáveis numéricas e imprimir na tela a quantidade de outliers encontrados\n",
    "    "
   ]
  },
  {
   "cell_type": "markdown",
   "metadata": {},
   "source": [
    "#### Exercício 3, questão I\n",
    "\n",
    "Utilize a funcao implementada para remover outliers:\n",
    "1. utilizando a variável 'page hits' com $t=3.5$\n",
    "2. considerando a base obtida no passo anterior, para 'total' e 'insurance' com $t=2$.\n",
    "3. considerando a base obtida no passo anterior, para 'rent' com $t=5$\n",
    "\n",
    "Quantos outliers foram encontrados respectivamente para 'page hits', 'total', 'insurance' e  'rent', nessa ordem?\n",
    "\n",
    "(a) 65, 7, 55 e 0<br>\n",
    "(b) 55, 65, 7 e 10<br>\n",
    "(c) 65, 7, 10 e 55<br>\n",
    "(d) 65, 55, 7 e 0<br>\n",
    "\n",
    "#### Exercício 3, questão II\n",
    "\n",
    "Utilize a funcao implementada para, considerando a base original (sem processamento da questão anterior), remover outliers relacionados a 'rent' com $t=6$.\n",
    "\n",
    "Qual o resultado e sua interpretacao?\n",
    "\n",
    "(a) encontrado 15 outliers, pois aumentamos o valor de $t$ para 6 permitindo capturar mais linhas<br>\n",
    "(b) foram encontrados 15 outliers, não encontrados na questão anterior pois essas linhas já haviam sido removidas na análise de atributos anteriores<br>\n",
    "(d) foi encontrado apenas 1 outlier pois a variável possui pouca dispersão com relação a média<br>\n",
    "(d) nenhum outlier encontrado<br>"
   ]
  },
  {
   "cell_type": "markdown",
   "metadata": {},
   "source": [
    "---\n",
    "\n",
    "### Exercício 4)\n",
    "\n",
    "Ainda analisando outliers, após remover outliers segundo indicado no Exercício 3, questão I:\n",
    "\n",
    "Carregue o método $k$-Means utilizando: `from sklearn.cluster import KMeans`\n",
    "    1. Realize análise de agrupamento utilizando os atributos 'page hits' e 'days available' e $k=100$ grupos. Utilize o parâmetro `random_state=2` ao criar o modelo\n",
    "    2. Identifique os grupos (clusters) que possuem menos do que 5 pontos\n",
    "    3. Considere todos os pontos pertencentes à esses grupos como candidatos a outliers\n",
    "    \n",
    "OBS: ver detalhes do KMeans em [https://scikit-learn.org/stable/modules/generated/sklearn.cluster.KMeans.html]\n",
    "\n",
    "Responda às questões abaixo.\n"
   ]
  },
  {
   "cell_type": "markdown",
   "metadata": {},
   "source": [
    "#### Exercício 4, questão I\n",
    "\n",
    "Quantos outliers foram encontrados?\n",
    "\n",
    "(a) 1<br>\n",
    "(b) 5<br>\n",
    "(c) 7<br>\n",
    "(d) 27<br>\n",
    "\n",
    "\n",
    "#### Exercício 4, questão II\n",
    "\n",
    "Altere o número de grupos para $k=300$ e considere outliers aqueles pontos em grupos com 2 ou menos exemplos. Quantos outliers foram encontrados?\n",
    "\n",
    "(a) 5<br>\n",
    "(b) 300<br>\n",
    "(c) 39<br>\n",
    "(d) 27<br>\n"
   ]
  },
  {
   "cell_type": "markdown",
   "metadata": {},
   "source": [
    "---\n",
    "\n",
    "### Exercício 5)\n",
    "\n",
    "Considerando o preenchimento de dados faltantes, utilize a base de dados após remover outliers segundo indicado no Exercício 3, questão I.\n",
    "\n",
    "Imprima o total de valores faltantes em cada variável.\n",
    "\n",
    "Codifique uma funcão que preencha valores faltantes utilizando a média condicionada a uma outra variável categórica (não numérica) da base. Essa funcao deverá:\n",
    "1. calcular a média da variável alvo (a ser preenchida) relativa a cada valor distinto da variável categórica selecionada\n",
    "2. atribuir a média calculada a todas as linhas cuja variavel alvo é faltante e que possua o valor da variável categórica correspondente\n",
    "3. o valor atribuido deve seguir o mesmo tipo da variável alvo, ou seja, int, float, etc. Quando int, realize o arredondamento utlizando `np.round(,0)`, quando float64 utilize `np.round(value,1)`\n",
    "\n",
    "    Exemplo: podemos preencher a média do imposto (tax) condicionado ao tipo (type) calculando a média do imposto agrupado por cada valor de tipo ('house' e 'flat'), e depois atribuir essas médias aos valores faltantes condicionado ao tipo.\n",
    "   Assim, uma propriedade que é do tipo 'house' e que possui 'tax' faltante, recebe a média de 'tax' entre todas os imóveis marcados com 'house' para os quais há valor de 'tax'.\n",
    "   \n",
    "Responda as questões abaixo:"
   ]
  },
  {
   "cell_type": "markdown",
   "metadata": {},
   "source": [
    "#### Exercício 5, questão I\n",
    "\n",
    "Quantas variáveis possuem valores faltantes?\n",
    "\n",
    "(a) 4<br>\n",
    "(b) 5<br>\n",
    "(c) 1<br>\n",
    "(d) 10<br>\n"
   ]
  },
  {
   "cell_type": "markdown",
   "metadata": {},
   "source": [
    "#### Exercício 5, questão II\n",
    "\n",
    "Use sua funcao para preencher a 'area' condicionado a 'type'. Após o preenchimento, qual é a nova média para todas as linhas do atributo 'area', e arredondando para três casas decimais?\n",
    "\n",
    "(a) 144.557<br>\n",
    "(b) 232.500<br>\n",
    "(d) 144.493<br>\n",
    "(d) 119.100<br>"
   ]
  },
  {
   "cell_type": "markdown",
   "metadata": {},
   "source": [
    "#### Exercício 4, questão III\n",
    "\n",
    "Use sua funcao para preencher 'tax' condicionado a 'city'. Quais foram as médias encontradas para as cidades de São Paulo, Porto Alegre e Brotas, respectivamente?\n",
    "\n",
    "(a) 422.6, 118.0 e 106.5<br>\n",
    "(b) 423.0, 347.0 e 100.0<br>\n",
    "(d) 273.0, 147.1 e 106.5<br>\n",
    "(d) 422.6, 118.2 e 106.6<br>"
   ]
  },
  {
   "cell_type": "markdown",
   "metadata": {},
   "source": [
    "---\n",
    "\n",
    "### Exercício 6)\n",
    "\n",
    "Considere os atributos 'type' e 'city' e analise a distribuicao dos seus valores.\n",
    "\n",
    "Para o atributo 'city', realize a análise desconsiderando a cidade de São Paulo.\n",
    "\n",
    "Calcule a porcentagem de exemplos da categoria com menor quantidade de dados encontrada com relacao ao total.\n",
    "\n",
    "Responda as questões abaixo:"
   ]
  },
  {
   "cell_type": "markdown",
   "metadata": {},
   "source": [
    "#### Exercício 5, questão I\n",
    "\n",
    "Podemos considerar que:\n",
    "\n",
    "(a) apenas \"city\" (sem São Paulo) é desbalanceada<br>\n",
    "(b) apenas \"type\" é desbalanceada<br>\n",
    "(c) ambas as análises indicam desbalaceamento dos dados<br>\n",
    "(d) ambas as análises indicam desbalaceamento dos dados<br>\n",
    "\n",
    "#### Exercício 5, questão II\n",
    "\n",
    "Qual dos procedimentos abaixo é o mais adequado caso desejamos utilizar a variável \"type\" como variável alvo (de saída) para um modelo de aprendizado?\n",
    "\n",
    "(a) não é possível utilizar essas variáveis<br>\n",
    "(b) não é preciso fazer nenhum tratamento<br>\n",
    "(c) considerar o uso de técnicas de sobreamostragem para 'house'<br>\n",
    "(d) considerar o uso de técnicas de sobreamostragem para 'flat' <br>\n",
    "\n",
    "    \n",
    "#### Exercício 5, questão III\n",
    "\n",
    "Qual dos procedimentos abaixo é o mais adequado caso desejamos utilizar a variável \"city\" (desconsiderando São Paulo) como variável alvo (de saída) para um modelo de aprendizado?\n",
    "\n",
    "(a) remover a cidade \"Brotas\" da análise e rebalancear as demais<br>\n",
    "(b) realizar uma combinacão de técnicas de subamostragem (para as categorias majoritárias) e sobreamostragem (para as minoritátias)<br>\n",
    "(c) utilizar o método SMOTE<br>\n",
    "(d) considerar o uso de técnicas de subamostragem para as categorias majoritárias<br>\n"
   ]
  }
 ],
 "metadata": {
  "kernelspec": {
   "display_name": "Python 3",
   "language": "python",
   "name": "python3"
  },
  "language_info": {
   "codemirror_mode": {
    "name": "ipython",
    "version": 3
   },
   "file_extension": ".py",
   "mimetype": "text/x-python",
   "name": "python",
   "nbconvert_exporter": "python",
   "pygments_lexer": "ipython3",
   "version": "3.8.2"
  }
 },
 "nbformat": 4,
 "nbformat_minor": 4
}
