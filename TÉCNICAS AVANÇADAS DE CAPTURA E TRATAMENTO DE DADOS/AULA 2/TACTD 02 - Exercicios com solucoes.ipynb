{
 "cells": [
  {
   "cell_type": "markdown",
   "metadata": {},
   "source": [
    "# MBA em Ciência de Dados\n",
    "# Técnicas Avançadas de Captura e Tratamento de Dados\n",
    "\n",
    "### <span style=\"color:darkred\">Módulo II - Tratamento de Dados</span>\n",
    "\n",
    "\n",
    "### <span style=\"color:darkred\">Exercícios - com soluções</span>\n",
    "\n",
    "Moacir Antonelli Ponti\n",
    "\n",
    "CeMEAI - ICMC/USP São Carlos\n",
    "\n",
    "---\n",
    "\n",
    "#### <span style=\"color:red\">Recomenda-se fortemente que os exercícios sejam feitos sem consultar as respostas antecipadamente.</span>\n",
    "\n",
    "---"
   ]
  },
  {
   "cell_type": "code",
   "execution_count": 519,
   "metadata": {},
   "outputs": [],
   "source": [
    "# carregando as bibliotecas necessárias\n",
    "import numpy as np\n",
    "import matplotlib.pyplot as plt\n",
    "import pandas as pd\n",
    "\n",
    "from sklearn.svm import SVC\n",
    "from sklearn.linear_model import Ridge\n",
    "from sklearn import metrics\n",
    "\n",
    "# carregando dados\n",
    "data_orig = pd.read_csv(\"./dados/houses_to_rent_mba4.csv\")"
   ]
  },
  {
   "cell_type": "markdown",
   "metadata": {},
   "source": [
    "**Antes de inciar**:\n",
    "\n",
    "1. Remova todos as linhas duplicadas da base de dados\n",
    "2. Inspecione o tipo dos atributos e seus valores, realize uma limpeza inicial considerando a:\n",
    "    1. correção dos dados que forem possíveis inferir o valor verdadeiro, ajustando e padronizando-os \n",
    "    2. conversão dos atributos que deveriam ser numéricos para numérico - inspecione os valores para garantir que a conversão não vá gerar dados faltantes de forma desnecessária, substituindo por numeros os que forem possíveis como por exemplo o atributo \"floor\" como visto na aula em que substituímos dados por 0 \n",
    "    \n",
    "        *DICA 1: olhar com detalhe os atributos não numéricos*\n",
    "        \n",
    "        *DICA 2: para descobrir quais valores de uma coluna do tipo `object` que podem ser convertidos para dígitos numéricos você pode usar* `dataframe[atributo].astype(str).str.isnumeric()`"
   ]
  },
  {
   "cell_type": "code",
   "execution_count": 520,
   "metadata": {},
   "outputs": [
    {
     "name": "stdout",
     "output_type": "stream",
     "text": [
      "Antes: 11765, Depois remocao duplicatas: 11765\n"
     ]
    }
   ],
   "source": [
    "data = data_orig.copy()\n",
    "\n",
    "# removendo duplicatas\n",
    "data = data_orig.drop_duplicates(keep='first')\n",
    "print(\"Antes: %d, Depois remocao duplicatas: %d\" % (data_orig.shape[0], data.shape[0]))"
   ]
  },
  {
   "cell_type": "code",
   "execution_count": 521,
   "metadata": {},
   "outputs": [
    {
     "name": "stdout",
     "output_type": "stream",
     "text": [
      "city - tipo:  object\n",
      "\tnão numérico, valores: ['São Paulo' 'Porto Alegre' 'Rio de Janeiro' 'Campinas' 'Belo Horizonte'\n",
      " 'Brotas' 'Sao Paulo']\n",
      "floor - tipo:  object\n",
      "\tnão numérico, valores: ['7' '20' '6' '2' '1' '-' '4' '3' '10' '11' '24' '9' '8' '--' '17' '18'\n",
      " '5' '13' '15' '16' '14' '26' '21' nan '12' '19' '22' '27' '23' '35' '110'\n",
      " '25' '46' '28' '32' '29' '301' '51']\n",
      "tax - tipo:  object\n",
      "\tnão numérico, valores: ['211' '1750' 'nr' ... '1737' '858' '2110']\n",
      "page hits - tipo:  object\n",
      "\tnão numérico, valores: ['324' '720' '64' '46' '1548' '396' '240' '756' '2412' '828' '184' '360'\n",
      " '540' '1044' '88' '96' '112' '180' '1476' '186' '648' '416' '432' '60'\n",
      " '40' '900' '1440' '528' '20' '1116' '90' '684' '14' '792' '102' '42'\n",
      " '1152' '24' '140' '56' '176' '144' '1260' '1080' '216' '92' '576' '936'\n",
      " '896' '1296' '32' '228' '816' '52' '104' '148' '204' '320' '48' '108'\n",
      " '352' '504' '8' '36' '1764' '468' '972' '34' '54' '864' '62' '4968' 'x'\n",
      " '1008' '1800' '1512' '612' '1332' '1584' '76' '44' '26' '272' '116' '78'\n",
      " '384' '136' '132' '672' '252' '1224' '336' '912' '512' '152' '1692' '16'\n",
      " '1944' '84' '1404' '2520' '50' '3348' '66' '150' '192' '288' '256' '2808'\n",
      " '72' '1980' '208' '224' '282' '18' '172' '126' '3060' '1264' '366' '304'\n",
      " '156' '128' '1620' '134' '4' '114' '354' '448' '68' '544' '1188' '1908'\n",
      " '2088' '58' '496' '162' '100' '124' '86' '258' '2484' '1656' '348' '6'\n",
      " '1836' '1872' '138' '38' '2592' '70' '196' '372' '624' '120' '28' '22'\n",
      " '264' '174' '12' '688' '2376' '80' '1368' '118' '94' '270' '2268' '294'\n",
      " '480' '198' '330' '2772' '464' '306' '1728' '832' '2016' '2448' '98'\n",
      " '160' '164' '82' '2160' '752' '2736' '2556' '276' '368' '210' '30' '246'\n",
      " '704' '2196' '848' '168' '122' '1024' '800' '2340' '3708' '1088' '2124'\n",
      " '608' '784' '300' '312' '6444' '944' '74' '1040' '2304' '2988' '10' '390'\n",
      " '1072' '200' '400' '656' '2916' '2052' '2' '976' '248' '318' '1184' '768'\n",
      " '640' '928' '110' '220' '592' '560' '146' '2232' '280' '234' '222' '736'\n",
      " '2700' '408' '244' '492' '4644' '106' '660' '3420' '378' '4464' '1056'\n",
      " '130' '4068' '880' '260' '6156' '992' '142' '236' '2844' '556' '510'\n",
      " '342' '1280' '438' '3096' '402' '960' '1104' '1744' '170' '450' '5040'\n",
      " '2064' '3492' '3204' '3168' '284' '1168' '420' '2628' '4932' '582' '1200'\n",
      " '188' '486' '232' '2880' '268' '414' '3456']\n",
      "type - tipo:  object\n",
      "\tnão numérico, valores: ['flat' 'house']\n",
      "country - tipo:  object\n",
      "\tnão numérico, valores: ['Brazil' 'Brasil' 'BR']\n"
     ]
    }
   ],
   "source": [
    "# inspecionando atributos nao numéricos\n",
    "for var in data:\n",
    "    if not np.issubdtype(data[var].dtype, np.number):\n",
    "        # imprime variavel e seu tipo\n",
    "        print(var,\"- tipo: \", data[var].dtype.name)\n",
    "        # se nao numérico\n",
    "        print(\"\\tnão numérico, valores: \", end=\"\")\n",
    "        print(data[var].unique())"
   ]
  },
  {
   "cell_type": "code",
   "execution_count": 522,
   "metadata": {},
   "outputs": [
    {
     "name": "stdout",
     "output_type": "stream",
     "text": [
      "48\n"
     ]
    },
    {
     "data": {
      "text/plain": [
       "array(['São Paulo', 'Porto Alegre', 'Rio de Janeiro', 'Campinas',\n",
       "       'Belo Horizonte', 'Brotas'], dtype=object)"
      ]
     },
     "execution_count": 522,
     "metadata": {},
     "output_type": "execute_result"
    }
   ],
   "source": [
    "# verificando quantas cidades com nome despadronizado\n",
    "print(np.sum(data['city']=='Sao Paulo'))\n",
    "\n",
    "# corrigindo city para padronizacao\n",
    "data.loc[data['city']=='Sao Paulo','city'] = 'São Paulo'\n",
    "\n",
    "data['city'].unique()"
   ]
  },
  {
   "cell_type": "code",
   "execution_count": 523,
   "metadata": {},
   "outputs": [
    {
     "name": "stdout",
     "output_type": "stream",
     "text": [
      "['-' '--' nan]\n"
     ]
    }
   ],
   "source": [
    "# inspecionando valores de floor\n",
    "print(data.loc[~data['floor'].astype(str).str.isnumeric(), 'floor'].unique())"
   ]
  },
  {
   "cell_type": "code",
   "execution_count": 524,
   "metadata": {},
   "outputs": [
    {
     "data": {
      "text/html": [
       "<div>\n",
       "<style scoped>\n",
       "    .dataframe tbody tr th:only-of-type {\n",
       "        vertical-align: middle;\n",
       "    }\n",
       "\n",
       "    .dataframe tbody tr th {\n",
       "        vertical-align: top;\n",
       "    }\n",
       "\n",
       "    .dataframe thead th {\n",
       "        text-align: right;\n",
       "    }\n",
       "</style>\n",
       "<table border=\"1\" class=\"dataframe\">\n",
       "  <thead>\n",
       "    <tr style=\"text-align: right;\">\n",
       "      <th></th>\n",
       "      <th>floor</th>\n",
       "      <th>type</th>\n",
       "    </tr>\n",
       "  </thead>\n",
       "  <tbody>\n",
       "    <tr>\n",
       "      <th>5</th>\n",
       "      <td>-</td>\n",
       "      <td>house</td>\n",
       "    </tr>\n",
       "    <tr>\n",
       "      <th>15</th>\n",
       "      <td>-</td>\n",
       "      <td>house</td>\n",
       "    </tr>\n",
       "    <tr>\n",
       "      <th>19</th>\n",
       "      <td>-</td>\n",
       "      <td>house</td>\n",
       "    </tr>\n",
       "    <tr>\n",
       "      <th>20</th>\n",
       "      <td>--</td>\n",
       "      <td>house</td>\n",
       "    </tr>\n",
       "    <tr>\n",
       "      <th>23</th>\n",
       "      <td>-</td>\n",
       "      <td>house</td>\n",
       "    </tr>\n",
       "    <tr>\n",
       "      <th>...</th>\n",
       "      <td>...</td>\n",
       "      <td>...</td>\n",
       "    </tr>\n",
       "    <tr>\n",
       "      <th>11748</th>\n",
       "      <td>-</td>\n",
       "      <td>house</td>\n",
       "    </tr>\n",
       "    <tr>\n",
       "      <th>11749</th>\n",
       "      <td>-</td>\n",
       "      <td>house</td>\n",
       "    </tr>\n",
       "    <tr>\n",
       "      <th>11756</th>\n",
       "      <td>-</td>\n",
       "      <td>house</td>\n",
       "    </tr>\n",
       "    <tr>\n",
       "      <th>11763</th>\n",
       "      <td>-</td>\n",
       "      <td>house</td>\n",
       "    </tr>\n",
       "    <tr>\n",
       "      <th>11764</th>\n",
       "      <td>-</td>\n",
       "      <td>house</td>\n",
       "    </tr>\n",
       "  </tbody>\n",
       "</table>\n",
       "<p>2661 rows × 2 columns</p>\n",
       "</div>"
      ],
      "text/plain": [
       "      floor   type\n",
       "5         -  house\n",
       "15        -  house\n",
       "19        -  house\n",
       "20       --  house\n",
       "23        -  house\n",
       "...     ...    ...\n",
       "11748     -  house\n",
       "11749     -  house\n",
       "11756     -  house\n",
       "11763     -  house\n",
       "11764     -  house\n",
       "\n",
       "[2661 rows x 2 columns]"
      ]
     },
     "execution_count": 524,
     "metadata": {},
     "output_type": "execute_result"
    }
   ],
   "source": [
    "data.loc[~data['floor'].astype(str).str.isnumeric(), ['floor','type']]"
   ]
  },
  {
   "cell_type": "code",
   "execution_count": 525,
   "metadata": {},
   "outputs": [
    {
     "name": "stdout",
     "output_type": "stream",
     "text": [
      "[  7  20   6   2   1   0   4   3  10  11  24   9   8  17  18   5  13  15\n",
      "  16  14  26  21  12  19  22  27  23  35 110  25  46  28  32  29 301  51]\n"
     ]
    }
   ],
   "source": [
    "# notamos que os valores não numéricos são casas, assim\n",
    "# substituiremos todos os valores não convertíveis para digitos por '0'\n",
    "for nn_value in data.loc[~data['floor'].astype(str).str.isnumeric(), 'floor'].unique():\n",
    "    data.loc[data['floor'] == nn_value,'floor'] = '0'\n",
    "\n",
    "# substituindo valores nulos por '0'\n",
    "data.loc[data['floor'].isnull(),'floor'] = '0'\n",
    "\n",
    "data.loc[:,'floor'] = pd.to_numeric(data.loc[:,'floor'], downcast='integer', errors='coerce')\n",
    "\n",
    "print(data['floor'].unique())"
   ]
  },
  {
   "cell_type": "code",
   "execution_count": 526,
   "metadata": {},
   "outputs": [
    {
     "name": "stdout",
     "output_type": "stream",
     "text": [
      "['nr' '47.5' 'nsa' '-' '---' 'nd']\n"
     ]
    },
    {
     "data": {
      "text/html": [
       "<div>\n",
       "<style scoped>\n",
       "    .dataframe tbody tr th:only-of-type {\n",
       "        vertical-align: middle;\n",
       "    }\n",
       "\n",
       "    .dataframe tbody tr th {\n",
       "        vertical-align: top;\n",
       "    }\n",
       "\n",
       "    .dataframe thead th {\n",
       "        text-align: right;\n",
       "    }\n",
       "</style>\n",
       "<table border=\"1\" class=\"dataframe\">\n",
       "  <thead>\n",
       "    <tr style=\"text-align: right;\">\n",
       "      <th></th>\n",
       "      <th>Unnamed: 0</th>\n",
       "      <th>city</th>\n",
       "      <th>area</th>\n",
       "      <th>rooms</th>\n",
       "      <th>bathroom</th>\n",
       "      <th>parking spaces</th>\n",
       "      <th>floor</th>\n",
       "      <th>hoa</th>\n",
       "      <th>rent</th>\n",
       "      <th>tax</th>\n",
       "      <th>insurance</th>\n",
       "      <th>total</th>\n",
       "      <th>page hits</th>\n",
       "      <th>days available</th>\n",
       "      <th>interactions</th>\n",
       "      <th>weeks available</th>\n",
       "      <th>type</th>\n",
       "      <th>country</th>\n",
       "    </tr>\n",
       "  </thead>\n",
       "  <tbody>\n",
       "    <tr>\n",
       "      <th>71</th>\n",
       "      <td>71</td>\n",
       "      <td>Brotas</td>\n",
       "      <td>35.0</td>\n",
       "      <td>4.0</td>\n",
       "      <td>3</td>\n",
       "      <td>1.0</td>\n",
       "      <td>0</td>\n",
       "      <td>0</td>\n",
       "      <td>200</td>\n",
       "      <td>47.5</td>\n",
       "      <td>16</td>\n",
       "      <td>263.5</td>\n",
       "      <td>24</td>\n",
       "      <td>16</td>\n",
       "      <td>24</td>\n",
       "      <td>2</td>\n",
       "      <td>house</td>\n",
       "      <td>Brazil</td>\n",
       "    </tr>\n",
       "  </tbody>\n",
       "</table>\n",
       "</div>"
      ],
      "text/plain": [
       "    Unnamed: 0    city  area  rooms  bathroom  parking spaces  floor  hoa  \\\n",
       "71          71  Brotas  35.0    4.0         3             1.0      0    0   \n",
       "\n",
       "    rent   tax  insurance  total page hits  days available  interactions  \\\n",
       "71   200  47.5         16  263.5        24              16            24   \n",
       "\n",
       "    weeks available   type country  \n",
       "71                2  house  Brazil  "
      ]
     },
     "execution_count": 526,
     "metadata": {},
     "output_type": "execute_result"
    }
   ],
   "source": [
    "# inspecionando valores de tax não convertíveis para digitos\n",
    "print(data.loc[~data['tax'].astype(str).str.isnumeric(), 'tax'].unique())\n",
    "\n",
    "# notar que o isnumeric não identificou o '47.5'. Vamos olhar para a linha onde ocorre\n",
    "data.loc[data['tax'] =='47.5',:]"
   ]
  },
  {
   "cell_type": "code",
   "execution_count": 527,
   "metadata": {},
   "outputs": [],
   "source": [
    "# tentar converter para númerico, atribuindo nan para os demais\n",
    "data['tax'] = pd.to_numeric(data.loc[:,'tax'], errors='coerce')"
   ]
  },
  {
   "cell_type": "code",
   "execution_count": 528,
   "metadata": {
    "scrolled": true
   },
   "outputs": [
    {
     "name": "stdout",
     "output_type": "stream",
     "text": [
      "Unnamed: 0             71\n",
      "city               Brotas\n",
      "area                   35\n",
      "rooms                   4\n",
      "bathroom                3\n",
      "parking spaces          1\n",
      "floor                   0\n",
      "hoa                     0\n",
      "rent                  200\n",
      "tax                  47.5\n",
      "insurance              16\n",
      "total               263.5\n",
      "page hits              24\n",
      "days available         16\n",
      "interactions           24\n",
      "weeks available         2\n",
      "type                house\n",
      "country            Brazil\n",
      "Name: 71, dtype: object\n"
     ]
    }
   ],
   "source": [
    "print(data.loc[71,:])"
   ]
  },
  {
   "cell_type": "code",
   "execution_count": 529,
   "metadata": {},
   "outputs": [
    {
     "name": "stdout",
     "output_type": "stream",
     "text": [
      "['x']\n"
     ]
    },
    {
     "data": {
      "text/html": [
       "<div>\n",
       "<style scoped>\n",
       "    .dataframe tbody tr th:only-of-type {\n",
       "        vertical-align: middle;\n",
       "    }\n",
       "\n",
       "    .dataframe tbody tr th {\n",
       "        vertical-align: top;\n",
       "    }\n",
       "\n",
       "    .dataframe thead th {\n",
       "        text-align: right;\n",
       "    }\n",
       "</style>\n",
       "<table border=\"1\" class=\"dataframe\">\n",
       "  <thead>\n",
       "    <tr style=\"text-align: right;\">\n",
       "      <th></th>\n",
       "      <th>interactions</th>\n",
       "      <th>weeks available</th>\n",
       "    </tr>\n",
       "  </thead>\n",
       "  <tbody>\n",
       "    <tr>\n",
       "      <th>112</th>\n",
       "      <td>0</td>\n",
       "      <td>0</td>\n",
       "    </tr>\n",
       "    <tr>\n",
       "      <th>150</th>\n",
       "      <td>0</td>\n",
       "      <td>0</td>\n",
       "    </tr>\n",
       "    <tr>\n",
       "      <th>188</th>\n",
       "      <td>0</td>\n",
       "      <td>0</td>\n",
       "    </tr>\n",
       "    <tr>\n",
       "      <th>226</th>\n",
       "      <td>0</td>\n",
       "      <td>0</td>\n",
       "    </tr>\n",
       "    <tr>\n",
       "      <th>264</th>\n",
       "      <td>0</td>\n",
       "      <td>0</td>\n",
       "    </tr>\n",
       "    <tr>\n",
       "      <th>313</th>\n",
       "      <td>0</td>\n",
       "      <td>0</td>\n",
       "    </tr>\n",
       "    <tr>\n",
       "      <th>362</th>\n",
       "      <td>0</td>\n",
       "      <td>0</td>\n",
       "    </tr>\n",
       "    <tr>\n",
       "      <th>411</th>\n",
       "      <td>0</td>\n",
       "      <td>0</td>\n",
       "    </tr>\n",
       "    <tr>\n",
       "      <th>460</th>\n",
       "      <td>0</td>\n",
       "      <td>0</td>\n",
       "    </tr>\n",
       "    <tr>\n",
       "      <th>509</th>\n",
       "      <td>0</td>\n",
       "      <td>40</td>\n",
       "    </tr>\n",
       "    <tr>\n",
       "      <th>558</th>\n",
       "      <td>0</td>\n",
       "      <td>0</td>\n",
       "    </tr>\n",
       "    <tr>\n",
       "      <th>607</th>\n",
       "      <td>0</td>\n",
       "      <td>0</td>\n",
       "    </tr>\n",
       "    <tr>\n",
       "      <th>694</th>\n",
       "      <td>0</td>\n",
       "      <td>0</td>\n",
       "    </tr>\n",
       "    <tr>\n",
       "      <th>743</th>\n",
       "      <td>0</td>\n",
       "      <td>0</td>\n",
       "    </tr>\n",
       "    <tr>\n",
       "      <th>792</th>\n",
       "      <td>0</td>\n",
       "      <td>0</td>\n",
       "    </tr>\n",
       "    <tr>\n",
       "      <th>841</th>\n",
       "      <td>0</td>\n",
       "      <td>0</td>\n",
       "    </tr>\n",
       "    <tr>\n",
       "      <th>890</th>\n",
       "      <td>0</td>\n",
       "      <td>0</td>\n",
       "    </tr>\n",
       "    <tr>\n",
       "      <th>939</th>\n",
       "      <td>0</td>\n",
       "      <td>0</td>\n",
       "    </tr>\n",
       "    <tr>\n",
       "      <th>988</th>\n",
       "      <td>0</td>\n",
       "      <td>0</td>\n",
       "    </tr>\n",
       "    <tr>\n",
       "      <th>1037</th>\n",
       "      <td>0</td>\n",
       "      <td>0</td>\n",
       "    </tr>\n",
       "    <tr>\n",
       "      <th>1086</th>\n",
       "      <td>0</td>\n",
       "      <td>0</td>\n",
       "    </tr>\n",
       "    <tr>\n",
       "      <th>1155</th>\n",
       "      <td>0</td>\n",
       "      <td>0</td>\n",
       "    </tr>\n",
       "    <tr>\n",
       "      <th>2312</th>\n",
       "      <td>0</td>\n",
       "      <td>0</td>\n",
       "    </tr>\n",
       "    <tr>\n",
       "      <th>3657</th>\n",
       "      <td>0</td>\n",
       "      <td>0</td>\n",
       "    </tr>\n",
       "    <tr>\n",
       "      <th>4541</th>\n",
       "      <td>0</td>\n",
       "      <td>0</td>\n",
       "    </tr>\n",
       "    <tr>\n",
       "      <th>4665</th>\n",
       "      <td>0</td>\n",
       "      <td>0</td>\n",
       "    </tr>\n",
       "    <tr>\n",
       "      <th>5486</th>\n",
       "      <td>0</td>\n",
       "      <td>0</td>\n",
       "    </tr>\n",
       "    <tr>\n",
       "      <th>6662</th>\n",
       "      <td>0</td>\n",
       "      <td>0</td>\n",
       "    </tr>\n",
       "    <tr>\n",
       "      <th>8021</th>\n",
       "      <td>0</td>\n",
       "      <td>0</td>\n",
       "    </tr>\n",
       "    <tr>\n",
       "      <th>8075</th>\n",
       "      <td>0</td>\n",
       "      <td>0</td>\n",
       "    </tr>\n",
       "    <tr>\n",
       "      <th>8792</th>\n",
       "      <td>0</td>\n",
       "      <td>0</td>\n",
       "    </tr>\n",
       "    <tr>\n",
       "      <th>10140</th>\n",
       "      <td>0</td>\n",
       "      <td>0</td>\n",
       "    </tr>\n",
       "  </tbody>\n",
       "</table>\n",
       "</div>"
      ],
      "text/plain": [
       "       interactions  weeks available\n",
       "112               0                0\n",
       "150               0                0\n",
       "188               0                0\n",
       "226               0                0\n",
       "264               0                0\n",
       "313               0                0\n",
       "362               0                0\n",
       "411               0                0\n",
       "460               0                0\n",
       "509               0               40\n",
       "558               0                0\n",
       "607               0                0\n",
       "694               0                0\n",
       "743               0                0\n",
       "792               0                0\n",
       "841               0                0\n",
       "890               0                0\n",
       "939               0                0\n",
       "988               0                0\n",
       "1037              0                0\n",
       "1086              0                0\n",
       "1155              0                0\n",
       "2312              0                0\n",
       "3657              0                0\n",
       "4541              0                0\n",
       "4665              0                0\n",
       "5486              0                0\n",
       "6662              0                0\n",
       "8021              0                0\n",
       "8075              0                0\n",
       "8792              0                0\n",
       "10140             0                0"
      ]
     },
     "execution_count": 529,
     "metadata": {},
     "output_type": "execute_result"
    }
   ],
   "source": [
    "# inspecionando valores de page hits\n",
    "print(data.loc[~data['page hits'].astype(str).str.isnumeric(), 'page hits'].unique())\n",
    "\n",
    "# verificando se há relacao com outros atributos\n",
    "data.loc[~data['page hits'].astype(str).str.isnumeric(), ['interactions','weeks available']]"
   ]
  },
  {
   "cell_type": "code",
   "execution_count": 530,
   "metadata": {},
   "outputs": [],
   "source": [
    "# claramente os page hits inválidos estao relacionados a imoveis recem\n",
    "# disponibilizados, e sem interacoes na página\n",
    "\n",
    "# convertendo os pagehits para número\n",
    "data.loc[:,'page hits'] = pd.to_numeric(data.loc[:,'page hits'], errors='coerce')\n",
    "\n",
    "# devido ao que observamos, podemos substituir nao nulos por '0'\n",
    "data.loc[data['page hits'].isnull(),'page hits'] = 0"
   ]
  },
  {
   "cell_type": "code",
   "execution_count": 531,
   "metadata": {},
   "outputs": [
    {
     "data": {
      "image/png": "[encoded data removed]",
      "text/plain": [
       "<Figure size 432x288 with 1 Axes>"
      ]
     },
     "metadata": {
      "needs_background": "light"
     },
     "output_type": "display_data"
    }
   ],
   "source": [
    "h = plt.hist(data['page hits'], bins =100)"
   ]
  },
  {
   "cell_type": "code",
   "execution_count": 532,
   "metadata": {},
   "outputs": [
    {
     "name": "stdout",
     "output_type": "stream",
     "text": [
      "Unnamed: 0 - tipo:  int64\n",
      "city - tipo:  object\n",
      "area - tipo:  float64\n",
      "rooms - tipo:  float64\n",
      "bathroom - tipo:  int64\n",
      "parking spaces - tipo:  float64\n",
      "floor - tipo:  int16\n",
      "hoa - tipo:  int64\n",
      "rent - tipo:  int64\n",
      "tax - tipo:  float64\n",
      "insurance - tipo:  int64\n",
      "total - tipo:  float64\n",
      "page hits - tipo:  float64\n",
      "days available - tipo:  int64\n",
      "interactions - tipo:  int64\n",
      "weeks available - tipo:  int64\n",
      "type - tipo:  object\n",
      "country - tipo:  object\n"
     ]
    }
   ],
   "source": [
    "# inspecionando atributos nao numéricos\n",
    "for var in data:\n",
    "    # imprime variavel e seu tipo\n",
    "    print(var,\"- tipo: \", data[var].dtype.name)\n"
   ]
  },
  {
   "cell_type": "code",
   "execution_count": 533,
   "metadata": {},
   "outputs": [
    {
     "name": "stdout",
     "output_type": "stream",
     "text": [
      "4\n"
     ]
    },
    {
     "data": {
      "text/plain": [
       "array(['Brazil'], dtype=object)"
      ]
     },
     "execution_count": 533,
     "metadata": {},
     "output_type": "execute_result"
    }
   ],
   "source": [
    "# verificando quantas cidades com nome despadronizado\n",
    "print(np.sum(data['country']!='Brazil'))\n",
    "\n",
    "# corrigindo city para padronizacao\n",
    "data.loc[data['country']!='Brazil','country'] = 'Brazil'\n",
    "\n",
    "data['country'].unique()"
   ]
  },
  {
   "cell_type": "markdown",
   "metadata": {},
   "source": [
    "### Exercício 1)\n",
    " \n",
    "Considerando a limpeza inicial realizada, responda as questões abaixo:\n",
    " \n",
    "#### Exercício 1, questão I\n",
    "\n",
    "Quantos linhas relativas a valores da coluna \"city\" estavam fora do padrão e foram corrigidos?\n",
    "\n",
    "(a) 49<br>\n",
    "<font color='red'>(b) 48<br></font>\n",
    "(c) 46<br>\n",
    "(d) 50<br>\n",
    "\n",
    "<font color='red'>Resposta</font>: *uma forma de obter essa informacao é, antes de padronizar, executar:* `print(np.sum(data['city']=='Sao Paulo'))`\n",
    "\n",
    "#### Exercício 1, questão II\n",
    "\n",
    "Em quais dos atributos convertidos para numéricos foi possível substituir valores inválidos (strings e nulos/nans) por valores numéricos não nulos?\n",
    "\n",
    "(a) floor e city<br>\n",
    "(b) floor e tax<br>\n",
    "<font color='red'>(c) floor e page hits</font><br>\n",
    "(d) tax e page hits<br>\n",
    "\n",
    "<font color='red'>Resposta</font>: *sabendo que floor possui todos os valores não convertíveis para numérico diferentes de zero, e relacionados a casas, substituimos por 0; sabendo que não havia pagehits iguais a zero na coluna e que estavam relacionados a imóveis recém disponibilizados e interacoes na página, também foi substituído por zero. City não é numérico, e Tax teve os valores inválidos considerados nulos por não haver padrões que indiquem que possam ser preenchidos.*"
   ]
  },
  {
   "cell_type": "markdown",
   "metadata": {},
   "source": [
    "<font color='red'>Resposta</font>: *todos os campos e registros são endereçáveis e passíveis de armazenamento e recuperação. O atributo Foto se refere ao arquivo da imagem que contém a foto, mas não à informações visuais contidas nessas imagens. Ainda que as imagens sejam não-estruturadas, o dado relativo ao nome do arquivo é estruturado. Assim, a tabela contém dados estruturados*"
   ]
  },
  {
   "cell_type": "markdown",
   "metadata": {},
   "source": [
    "---\n",
    "### Exercício 2)\n",
    "\n",
    "Vamos analisar possíveis atributos redundantes na base de dados.\n",
    "\n",
    "1. Inspecione as colunas imprimindo quantos valores únicos cada uma possui.\n",
    "2. Execute o seguinte comando `data.corr(method='pearson')` para obter a correlação de Pearson entre colunas numéricas, e visualize aquelas com correlacao acima de 0.75\n",
    "\n",
    "DICA: você pod filtrar os resultados utilizando por exemplo `data.corr(method='pearson') >= 0.75`\n",
    "\n",
    "OBS: mais informacoes sobre correlação em [https://pt.wikipedia.org/wiki/Coeficiente_de_correla%C3%A7%C3%A3o_de_Pearson]\n",
    "\n",
    "Depois, responda às questões abaixo."
   ]
  },
  {
   "cell_type": "code",
   "execution_count": 534,
   "metadata": {},
   "outputs": [
    {
     "name": "stdout",
     "output_type": "stream",
     "text": [
      "Unnamed: 0  / únicos :  11765\n",
      "city  / únicos :  6\n",
      "area  / únicos :  509\n",
      "rooms  / únicos :  11\n",
      "bathroom  / únicos :  12\n",
      "parking spaces  / únicos :  10\n",
      "floor  / únicos :  36\n",
      "hoa  / únicos :  1620\n",
      "rent  / únicos :  1172\n",
      "tax  / únicos :  1223\n",
      "insurance  / únicos :  218\n",
      "total  / únicos :  6132\n",
      "page hits  / únicos :  290\n",
      "days available  / únicos :  157\n",
      "interactions  / únicos :  217\n",
      "weeks available  / únicos :  50\n",
      "type  / únicos :  2\n",
      "country  / únicos :  1\n"
     ]
    }
   ],
   "source": [
    "# inspecionando atributos nao numéricos\n",
    "for var in data:\n",
    "    print(var, ' / únicos : ', data[var].unique().shape[0])"
   ]
  },
  {
   "cell_type": "code",
   "execution_count": 535,
   "metadata": {},
   "outputs": [
    {
     "data": {
      "text/html": [
       "<div>\n",
       "<style scoped>\n",
       "    .dataframe tbody tr th:only-of-type {\n",
       "        vertical-align: middle;\n",
       "    }\n",
       "\n",
       "    .dataframe tbody tr th {\n",
       "        vertical-align: top;\n",
       "    }\n",
       "\n",
       "    .dataframe thead th {\n",
       "        text-align: right;\n",
       "    }\n",
       "</style>\n",
       "<table border=\"1\" class=\"dataframe\">\n",
       "  <thead>\n",
       "    <tr style=\"text-align: right;\">\n",
       "      <th></th>\n",
       "      <th>Unnamed: 0</th>\n",
       "      <th>area</th>\n",
       "      <th>rooms</th>\n",
       "      <th>bathroom</th>\n",
       "      <th>parking spaces</th>\n",
       "      <th>floor</th>\n",
       "      <th>hoa</th>\n",
       "      <th>rent</th>\n",
       "      <th>tax</th>\n",
       "      <th>insurance</th>\n",
       "      <th>total</th>\n",
       "      <th>page hits</th>\n",
       "      <th>days available</th>\n",
       "      <th>interactions</th>\n",
       "      <th>weeks available</th>\n",
       "    </tr>\n",
       "  </thead>\n",
       "  <tbody>\n",
       "    <tr>\n",
       "      <th>Unnamed: 0</th>\n",
       "      <td>1.000000</td>\n",
       "      <td>-0.004145</td>\n",
       "      <td>-0.001653</td>\n",
       "      <td>-0.045922</td>\n",
       "      <td>-0.058143</td>\n",
       "      <td>-0.021977</td>\n",
       "      <td>0.000316</td>\n",
       "      <td>-0.053392</td>\n",
       "      <td>-0.008836</td>\n",
       "      <td>-0.041953</td>\n",
       "      <td>-0.013994</td>\n",
       "      <td>-0.064022</td>\n",
       "      <td>0.019634</td>\n",
       "      <td>-0.034600</td>\n",
       "      <td>0.019700</td>\n",
       "    </tr>\n",
       "    <tr>\n",
       "      <th>area</th>\n",
       "      <td>-0.004145</td>\n",
       "      <td>1.000000</td>\n",
       "      <td>0.344422</td>\n",
       "      <td>0.361546</td>\n",
       "      <td>0.345481</td>\n",
       "      <td>-0.050780</td>\n",
       "      <td>0.012980</td>\n",
       "      <td>0.315796</td>\n",
       "      <td>0.076942</td>\n",
       "      <td>0.182517</td>\n",
       "      <td>0.098935</td>\n",
       "      <td>0.012436</td>\n",
       "      <td>0.005182</td>\n",
       "      <td>0.007667</td>\n",
       "      <td>0.004968</td>\n",
       "    </tr>\n",
       "    <tr>\n",
       "      <th>rooms</th>\n",
       "      <td>-0.001653</td>\n",
       "      <td>0.344422</td>\n",
       "      <td>1.000000</td>\n",
       "      <td>0.732381</td>\n",
       "      <td>0.562258</td>\n",
       "      <td>-0.118153</td>\n",
       "      <td>0.009045</td>\n",
       "      <td>0.533520</td>\n",
       "      <td>0.079413</td>\n",
       "      <td>0.290466</td>\n",
       "      <td>0.145046</td>\n",
       "      <td>-0.001699</td>\n",
       "      <td>0.019052</td>\n",
       "      <td>-0.001155</td>\n",
       "      <td>0.018806</td>\n",
       "    </tr>\n",
       "    <tr>\n",
       "      <th>bathroom</th>\n",
       "      <td>-0.045922</td>\n",
       "      <td>0.361546</td>\n",
       "      <td>0.732381</td>\n",
       "      <td>1.000000</td>\n",
       "      <td>0.665872</td>\n",
       "      <td>-0.032133</td>\n",
       "      <td>0.049109</td>\n",
       "      <td>0.643843</td>\n",
       "      <td>0.113129</td>\n",
       "      <td>0.337230</td>\n",
       "      <td>0.215160</td>\n",
       "      <td>0.080540</td>\n",
       "      <td>0.037207</td>\n",
       "      <td>0.053947</td>\n",
       "      <td>0.037105</td>\n",
       "    </tr>\n",
       "    <tr>\n",
       "      <th>parking spaces</th>\n",
       "      <td>-0.058143</td>\n",
       "      <td>0.345481</td>\n",
       "      <td>0.562258</td>\n",
       "      <td>0.665872</td>\n",
       "      <td>1.000000</td>\n",
       "      <td>-0.105408</td>\n",
       "      <td>0.076766</td>\n",
       "      <td>0.516388</td>\n",
       "      <td>0.096152</td>\n",
       "      <td>0.263882</td>\n",
       "      <td>0.380530</td>\n",
       "      <td>0.069313</td>\n",
       "      <td>-0.002638</td>\n",
       "      <td>0.044227</td>\n",
       "      <td>-0.002688</td>\n",
       "    </tr>\n",
       "    <tr>\n",
       "      <th>floor</th>\n",
       "      <td>-0.021977</td>\n",
       "      <td>-0.050780</td>\n",
       "      <td>-0.118153</td>\n",
       "      <td>-0.032133</td>\n",
       "      <td>-0.105408</td>\n",
       "      <td>1.000000</td>\n",
       "      <td>0.018414</td>\n",
       "      <td>0.027201</td>\n",
       "      <td>0.008291</td>\n",
       "      <td>-0.022648</td>\n",
       "      <td>0.024772</td>\n",
       "      <td>0.074052</td>\n",
       "      <td>-0.023601</td>\n",
       "      <td>0.053485</td>\n",
       "      <td>-0.023608</td>\n",
       "    </tr>\n",
       "    <tr>\n",
       "      <th>hoa</th>\n",
       "      <td>0.000316</td>\n",
       "      <td>0.012980</td>\n",
       "      <td>0.009045</td>\n",
       "      <td>0.049109</td>\n",
       "      <td>0.076766</td>\n",
       "      <td>0.018414</td>\n",
       "      <td>1.000000</td>\n",
       "      <td>0.032452</td>\n",
       "      <td>0.007490</td>\n",
       "      <td>0.012725</td>\n",
       "      <td>0.950029</td>\n",
       "      <td>0.003546</td>\n",
       "      <td>0.011857</td>\n",
       "      <td>0.013619</td>\n",
       "      <td>0.011804</td>\n",
       "    </tr>\n",
       "    <tr>\n",
       "      <th>rent</th>\n",
       "      <td>-0.053392</td>\n",
       "      <td>0.315796</td>\n",
       "      <td>0.533520</td>\n",
       "      <td>0.643843</td>\n",
       "      <td>0.516388</td>\n",
       "      <td>0.027201</td>\n",
       "      <td>0.032452</td>\n",
       "      <td>1.000000</td>\n",
       "      <td>0.107647</td>\n",
       "      <td>0.521391</td>\n",
       "      <td>0.279823</td>\n",
       "      <td>0.144875</td>\n",
       "      <td>0.035388</td>\n",
       "      <td>0.107720</td>\n",
       "      <td>0.035392</td>\n",
       "    </tr>\n",
       "    <tr>\n",
       "      <th>tax</th>\n",
       "      <td>-0.008836</td>\n",
       "      <td>0.076942</td>\n",
       "      <td>0.079413</td>\n",
       "      <td>0.113129</td>\n",
       "      <td>0.096152</td>\n",
       "      <td>0.008291</td>\n",
       "      <td>0.007490</td>\n",
       "      <td>0.107647</td>\n",
       "      <td>1.000000</td>\n",
       "      <td>0.079442</td>\n",
       "      <td>0.220014</td>\n",
       "      <td>0.014429</td>\n",
       "      <td>-0.008892</td>\n",
       "      <td>0.006317</td>\n",
       "      <td>-0.009090</td>\n",
       "    </tr>\n",
       "    <tr>\n",
       "      <th>insurance</th>\n",
       "      <td>-0.041953</td>\n",
       "      <td>0.182517</td>\n",
       "      <td>0.290466</td>\n",
       "      <td>0.337230</td>\n",
       "      <td>0.263882</td>\n",
       "      <td>-0.022648</td>\n",
       "      <td>0.012725</td>\n",
       "      <td>0.521391</td>\n",
       "      <td>0.079442</td>\n",
       "      <td>1.000000</td>\n",
       "      <td>0.150836</td>\n",
       "      <td>0.057878</td>\n",
       "      <td>0.029429</td>\n",
       "      <td>0.046508</td>\n",
       "      <td>0.029635</td>\n",
       "    </tr>\n",
       "    <tr>\n",
       "      <th>total</th>\n",
       "      <td>-0.013994</td>\n",
       "      <td>0.098935</td>\n",
       "      <td>0.145046</td>\n",
       "      <td>0.215160</td>\n",
       "      <td>0.380530</td>\n",
       "      <td>0.024772</td>\n",
       "      <td>0.950029</td>\n",
       "      <td>0.279823</td>\n",
       "      <td>0.220014</td>\n",
       "      <td>0.150836</td>\n",
       "      <td>1.000000</td>\n",
       "      <td>0.038964</td>\n",
       "      <td>0.018359</td>\n",
       "      <td>0.038503</td>\n",
       "      <td>0.018278</td>\n",
       "    </tr>\n",
       "    <tr>\n",
       "      <th>page hits</th>\n",
       "      <td>-0.064022</td>\n",
       "      <td>0.012436</td>\n",
       "      <td>-0.001699</td>\n",
       "      <td>0.080540</td>\n",
       "      <td>0.069313</td>\n",
       "      <td>0.074052</td>\n",
       "      <td>0.003546</td>\n",
       "      <td>0.144875</td>\n",
       "      <td>0.014429</td>\n",
       "      <td>0.057878</td>\n",
       "      <td>0.038964</td>\n",
       "      <td>1.000000</td>\n",
       "      <td>0.442095</td>\n",
       "      <td>0.964205</td>\n",
       "      <td>0.442306</td>\n",
       "    </tr>\n",
       "    <tr>\n",
       "      <th>days available</th>\n",
       "      <td>0.019634</td>\n",
       "      <td>0.005182</td>\n",
       "      <td>0.019052</td>\n",
       "      <td>0.037207</td>\n",
       "      <td>-0.002638</td>\n",
       "      <td>-0.023601</td>\n",
       "      <td>0.011857</td>\n",
       "      <td>0.035388</td>\n",
       "      <td>-0.008892</td>\n",
       "      <td>0.029429</td>\n",
       "      <td>0.018359</td>\n",
       "      <td>0.442095</td>\n",
       "      <td>1.000000</td>\n",
       "      <td>0.545137</td>\n",
       "      <td>0.999476</td>\n",
       "    </tr>\n",
       "    <tr>\n",
       "      <th>interactions</th>\n",
       "      <td>-0.034600</td>\n",
       "      <td>0.007667</td>\n",
       "      <td>-0.001155</td>\n",
       "      <td>0.053947</td>\n",
       "      <td>0.044227</td>\n",
       "      <td>0.053485</td>\n",
       "      <td>0.013619</td>\n",
       "      <td>0.107720</td>\n",
       "      <td>0.006317</td>\n",
       "      <td>0.046508</td>\n",
       "      <td>0.038503</td>\n",
       "      <td>0.964205</td>\n",
       "      <td>0.545137</td>\n",
       "      <td>1.000000</td>\n",
       "      <td>0.545399</td>\n",
       "    </tr>\n",
       "    <tr>\n",
       "      <th>weeks available</th>\n",
       "      <td>0.019700</td>\n",
       "      <td>0.004968</td>\n",
       "      <td>0.018806</td>\n",
       "      <td>0.037105</td>\n",
       "      <td>-0.002688</td>\n",
       "      <td>-0.023608</td>\n",
       "      <td>0.011804</td>\n",
       "      <td>0.035392</td>\n",
       "      <td>-0.009090</td>\n",
       "      <td>0.029635</td>\n",
       "      <td>0.018278</td>\n",
       "      <td>0.442306</td>\n",
       "      <td>0.999476</td>\n",
       "      <td>0.545399</td>\n",
       "      <td>1.000000</td>\n",
       "    </tr>\n",
       "  </tbody>\n",
       "</table>\n",
       "</div>"
      ],
      "text/plain": [
       "                 Unnamed: 0      area     rooms  bathroom  parking spaces  \\\n",
       "Unnamed: 0         1.000000 -0.004145 -0.001653 -0.045922       -0.058143   \n",
       "area              -0.004145  1.000000  0.344422  0.361546        0.345481   \n",
       "rooms             -0.001653  0.344422  1.000000  0.732381        0.562258   \n",
       "bathroom          -0.045922  0.361546  0.732381  1.000000        0.665872   \n",
       "parking spaces    -0.058143  0.345481  0.562258  0.665872        1.000000   \n",
       "floor             -0.021977 -0.050780 -0.118153 -0.032133       -0.105408   \n",
       "hoa                0.000316  0.012980  0.009045  0.049109        0.076766   \n",
       "rent              -0.053392  0.315796  0.533520  0.643843        0.516388   \n",
       "tax               -0.008836  0.076942  0.079413  0.113129        0.096152   \n",
       "insurance         -0.041953  0.182517  0.290466  0.337230        0.263882   \n",
       "total             -0.013994  0.098935  0.145046  0.215160        0.380530   \n",
       "page hits         -0.064022  0.012436 -0.001699  0.080540        0.069313   \n",
       "days available     0.019634  0.005182  0.019052  0.037207       -0.002638   \n",
       "interactions      -0.034600  0.007667 -0.001155  0.053947        0.044227   \n",
       "weeks available    0.019700  0.004968  0.018806  0.037105       -0.002688   \n",
       "\n",
       "                    floor       hoa      rent       tax  insurance     total  \\\n",
       "Unnamed: 0      -0.021977  0.000316 -0.053392 -0.008836  -0.041953 -0.013994   \n",
       "area            -0.050780  0.012980  0.315796  0.076942   0.182517  0.098935   \n",
       "rooms           -0.118153  0.009045  0.533520  0.079413   0.290466  0.145046   \n",
       "bathroom        -0.032133  0.049109  0.643843  0.113129   0.337230  0.215160   \n",
       "parking spaces  -0.105408  0.076766  0.516388  0.096152   0.263882  0.380530   \n",
       "floor            1.000000  0.018414  0.027201  0.008291  -0.022648  0.024772   \n",
       "hoa              0.018414  1.000000  0.032452  0.007490   0.012725  0.950029   \n",
       "rent             0.027201  0.032452  1.000000  0.107647   0.521391  0.279823   \n",
       "tax              0.008291  0.007490  0.107647  1.000000   0.079442  0.220014   \n",
       "insurance       -0.022648  0.012725  0.521391  0.079442   1.000000  0.150836   \n",
       "total            0.024772  0.950029  0.279823  0.220014   0.150836  1.000000   \n",
       "page hits        0.074052  0.003546  0.144875  0.014429   0.057878  0.038964   \n",
       "days available  -0.023601  0.011857  0.035388 -0.008892   0.029429  0.018359   \n",
       "interactions     0.053485  0.013619  0.107720  0.006317   0.046508  0.038503   \n",
       "weeks available -0.023608  0.011804  0.035392 -0.009090   0.029635  0.018278   \n",
       "\n",
       "                 page hits  days available  interactions  weeks available  \n",
       "Unnamed: 0       -0.064022        0.019634     -0.034600         0.019700  \n",
       "area              0.012436        0.005182      0.007667         0.004968  \n",
       "rooms            -0.001699        0.019052     -0.001155         0.018806  \n",
       "bathroom          0.080540        0.037207      0.053947         0.037105  \n",
       "parking spaces    0.069313       -0.002638      0.044227        -0.002688  \n",
       "floor             0.074052       -0.023601      0.053485        -0.023608  \n",
       "hoa               0.003546        0.011857      0.013619         0.011804  \n",
       "rent              0.144875        0.035388      0.107720         0.035392  \n",
       "tax               0.014429       -0.008892      0.006317        -0.009090  \n",
       "insurance         0.057878        0.029429      0.046508         0.029635  \n",
       "total             0.038964        0.018359      0.038503         0.018278  \n",
       "page hits         1.000000        0.442095      0.964205         0.442306  \n",
       "days available    0.442095        1.000000      0.545137         0.999476  \n",
       "interactions      0.964205        0.545137      1.000000         0.545399  \n",
       "weeks available   0.442306        0.999476      0.545399         1.000000  "
      ]
     },
     "execution_count": 535,
     "metadata": {},
     "output_type": "execute_result"
    }
   ],
   "source": [
    "#webatts = ['page hits', 'days available', 'interactions', 'weeks available']\n",
    "dcor = data.corr(method='pearson')\n",
    "\n",
    "dcor"
   ]
  },
  {
   "cell_type": "code",
   "execution_count": 536,
   "metadata": {},
   "outputs": [
    {
     "data": {
      "image/png": "[encoded data removed]",
      "text/plain": [
       "<Figure size 720x720 with 12 Axes>"
      ]
     },
     "metadata": {
      "needs_background": "light"
     },
     "output_type": "display_data"
    }
   ],
   "source": [
    "def plot_pairwise(df, attr):\n",
    "    m = len(attr)\n",
    "    i = 1\n",
    "    plt.figure(figsize=(10,10))\n",
    "    for var1 in attr:\n",
    "        for var2 in attr:\n",
    "            if (var1 != var2):\n",
    "                plt.subplot(m,m,i)\n",
    "                x1 = np.array(df[var1])\n",
    "                x2 = np.array(df[var2])\n",
    "                plt.plot(x1, x2, '.'); plt.title('%s x %s' % (var1, var2))\n",
    "                plt.axis('off')\n",
    "            i = i + 1\n",
    "            \n",
    "attr = ['page hits', 'days available', 'interactions', 'weeks available']\n",
    "plot_pairwise(data,attr)"
   ]
  },
  {
   "cell_type": "markdown",
   "metadata": {},
   "source": [
    "#### Exercício 2, questão I\n",
    "\n",
    "Há algum atributo irrelevante que é possível remover, apenas pela análise dos valors únicos?\n",
    "\n",
    "(a) type<br>\n",
    "<font color='red'>(b) country</font><br>\n",
    "(c) city<br>\n",
    "(d) não é possível remover nenhum atributo segundo esse critério<br>\n",
    "\n",
    "<font color='red'>Resposta</font>: *apenas country possui todos os valores iguais, após corrigido, e poderia ser removido sem prejuízo para a análise*\n",
    "\n",
    "#### Exercício 2, questão II\n",
    "\n",
    "Qual atributo possui a maior quantidade de valores únicos/distintos?\n",
    "\n",
    "<font color='red'>(a) total</font><br>\n",
    "(b) area<br>\n",
    "(c) hoa<br>\n",
    "(d) rent<br>\n",
    "\n",
    "<font color='red'>Resposta</font>: *execute o código a seguir para visualizar*\n",
    "\n",
    "`vars_data = np.array(list(data))[1:]\n",
    "uniquevals = []\n",
    "for var in vars_data:\n",
    "    uniquevals.append(data[var].unique().shape[0])\n",
    "maxunique = np.argmax(uniquevals)\n",
    "print(uniquevals[maxunique], ' var: ', vars_data[maxunique])`\n",
    "\n",
    "#### Exercício 2, questão III\n",
    "\n",
    "Variáveis com alta correlação indicam que uma variável é capaz de explicar a outra. Nesse caso, a não ser por uma análise mais fina dos dados individuais, para fins de uma análise global, as variáveis com correlação próxima a 1 poderiam ser removidas.\n",
    "\n",
    "Considerando esse cenário, quais variáveis possuem correlações superiores a 0.75 com outra variável diferente dessa?\n",
    "\n",
    "<font color='red'>(a) 'page hits', 'days available', 'interactions', 'weeks available', 'hoa' e 'total'</font><br>\n",
    "(b) 'page hits', 'days available', 'interactions', 'weeks available', 'rent' e 'total'<br>\n",
    "(b) 'page hits', 'days available', 'interactions' e 'weeks available'<br>\n",
    "(d) todas as variáveis\n",
    "\n",
    "<font color='red'>Resposta</font>: *inspecionar a tabela dada pela correlação de Pearson.*\n",
    "\n",
    "\n",
    "#### Exercício 2, questão IV\n",
    "\n",
    "Utiliza a funcao `plot_pairwise()` dada em aula para plotar par-a-par as variáveis: 'page hits', 'days available', 'interactions', 'weeks available'\n",
    "\n",
    "O que podemos notar comparando o gráfico com os valores de correlação?\n",
    "\n",
    "(a) Quanto maior a correlação, mais o gráfico se assemelha a uma nuvem de pontos aleatória<br>\n",
    "(b) Quanto menor a correlação, mais o gráfico se assemelha a uma reta<br>\n",
    "<font color='red'>(c) Quanto maior a correlação, mais o gráfico se assemelha a uma reta</font><br>\n",
    "(d) Não há qualquer padrão entre o valor da correlação e a visualização dos gráficos"
   ]
  },
  {
   "cell_type": "markdown",
   "metadata": {},
   "source": [
    "---\n",
    "\n",
    "### Exercício 3)\n",
    "\n",
    "Vamos procurar por outliers na base de dados utilizando um método baseado na dispersão pelo desvio padrão. \n",
    "\n",
    "* Codifique uma funcao em Python no formato abaixo, que receba por parâmetro um dataframe, uma lista de atributos/variáveis e um fator multiplicador `t` para o desvio padrão.\n",
    "`def remove_outliers_std(df, attributes, t):`\n",
    "    Essa funcao deve retornar um dataframe sem os outliers segundo o método do desvio padrão, ou seja, removendo aqueles cujo valor esteja: abaixo da média menos `t` desvios padrões, ou acima da média mais `t` desvios padrões. Formalmente, são ouliers valores $x$ tal que $x < \\mu - t\\sigma$ ou $x > \\mu + t\\sigma$. A funcao deve processar apenas variáveis numéricas e imprimir na tela a quantidade de outliers encontrados\n",
    "    "
   ]
  },
  {
   "cell_type": "code",
   "execution_count": 537,
   "metadata": {},
   "outputs": [],
   "source": [
    "def remove_outliers_std(df, attributes, t):\n",
    "    \n",
    "    dfn = df.copy()\n",
    "    \n",
    "    for var in attributes:\n",
    "        # verifica se variável é numerica\n",
    "        if np.issubdtype(df[var].dtype, np.number):\n",
    "            crit_std = df[var].std() * t\n",
    "            mu = df[var].mean()\n",
    "            \n",
    "            tot_out = np.sum((df[var] < mu-crit_std) | (df[var] > mu+crit_std))\n",
    "            \n",
    "            # apenas inliers segundo std\n",
    "            dfn = dfn.loc[(df[var] >= mu-crit_std) & (df[var] <= mu+crit_std),:]\n",
    "            print('%s, mu = %.2f, std = %.2f, outliers = %d' % (var, mu, crit_std/t, tot_out))\n",
    "            \n",
    "    return dfn"
   ]
  },
  {
   "cell_type": "code",
   "execution_count": 538,
   "metadata": {},
   "outputs": [
    {
     "name": "stdout",
     "output_type": "stream",
     "text": [
      "page hits, mu = 593.14, std = 559.73, outliers = 65\n",
      "total, mu = 5621.22, std = 15835.52, outliers = 7\n",
      "insurance, mu = 56.48, std = 97.69, outliers = 55\n",
      "rent, mu = 3944.89, std = 3318.78, outliers = 0\n"
     ]
    }
   ],
   "source": [
    "data_out = remove_outliers_std(data,['page hits'], 3.5)\n",
    "data_out = remove_outliers_std(data_out,['total', 'insurance'], 2)\n",
    "data_out = remove_outliers_std(data_out,['rent'], 5)"
   ]
  },
  {
   "cell_type": "code",
   "execution_count": 539,
   "metadata": {},
   "outputs": [
    {
     "name": "stdout",
     "output_type": "stream",
     "text": [
      "rent, mu = 4033.43, std = 3564.19, outliers = 15\n"
     ]
    }
   ],
   "source": [
    "data_out = remove_outliers_std(data,['rent'], 6)"
   ]
  },
  {
   "cell_type": "markdown",
   "metadata": {},
   "source": [
    "#### Exercício 3, questão I\n",
    "\n",
    "Utilize a funcao implementada para remover outliers:\n",
    "1. utilizando a variável 'page hits' com $t=3.5$\n",
    "2. considerando a base obtida no passo anterior, para 'total' e 'insurance' com $t=2$.\n",
    "3. considerando a base obtida no passo anterior, para 'rent' com $t=5$\n",
    "\n",
    "Quantos outliers foram encontrados respectivamente para 'page hits', 'total', 'insurance' e  'rent', nessa ordem?\n",
    "\n",
    "<font color='red'>(a) 65, 7, 55 e 0</font><br>\n",
    "(b) 55, 65, 7 e 10<br>\n",
    "(c) 65, 7, 10 e 55<br>\n",
    "(d) 65, 55, 7 e 0<br>\n",
    "\n",
    "#### Exercício 3, questão II\n",
    "\n",
    "Utilize a funcao implementada para, considerando a base original (sem processamento da questão anterior), remover outliers relacionados a 'rent' com $t=6$.\n",
    "\n",
    "Qual o resultado e sua interpretacao?\n",
    "\n",
    "(a) encontrado 15 outliers, pois aumentamos o valor de $t$ para 6 permitindo capturar mais linhas<br>\n",
    "<font color='red'>(b) foram encontrados 15 outliers, não encontrados na questão anterior pois essas linhas já haviam sido removidas na análise de atributos anteriores</font><br>\n",
    "(d) foi encontrado apenas 1 outlier pois a variável possui pouca dispersão com relação a média<br>\n",
    "(d) nenhum outlier encontrado<br>"
   ]
  },
  {
   "cell_type": "markdown",
   "metadata": {},
   "source": [
    "---\n",
    "\n",
    "### Exercício 4)\n",
    "\n",
    "Ainda analisando outliers, após remover outliers segundo indicado no Exercício 3, questão I:\n",
    "\n",
    "Carregue o método $k$-Means utilizando: `from sklearn.cluster import KMeans`\n",
    "    1. Realize análise de agrupamento utilizando os atributos 'page hits' e 'days available' e $k=100$ grupos. Utilize o parâmetro `random_state=2` ao criar o modelo\n",
    "    2. Identifique os grupos (clusters) que possuem menos do que 5 pontos\n",
    "    3. Considere todos os pontos pertencentes à esses grupos como candidatos a outliers\n",
    "    \n",
    "OBS: ver detalhes do KMeans em [https://scikit-learn.org/stable/modules/generated/sklearn.cluster.KMeans.html]\n",
    "\n",
    "Responda às questões abaixo.\n"
   ]
  },
  {
   "cell_type": "code",
   "execution_count": 540,
   "metadata": {},
   "outputs": [
    {
     "name": "stdout",
     "output_type": "stream",
     "text": [
      "page hits, mu = 593.14, std = 559.73, outliers = 65\n",
      "total, mu = 5621.22, std = 15835.52, outliers = 7\n",
      "insurance, mu = 56.48, std = 97.69, outliers = 55\n",
      "rent, mu = 3944.89, std = 3318.78, outliers = 0\n",
      "Número de outliers estimados: 7\n"
     ]
    },
    {
     "data": {
      "image/png": "[encoded data removed]",
      "text/plain": [
       "<Figure size 432x288 with 1 Axes>"
      ]
     },
     "metadata": {
      "needs_background": "light"
     },
     "output_type": "display_data"
    }
   ],
   "source": [
    "from sklearn.cluster import KMeans\n",
    "from sklearn import metrics\n",
    "\n",
    "data_out = remove_outliers_std(data,['page hits'], 3.5)\n",
    "data_out = remove_outliers_std(data_out,['total', 'insurance'], 2)\n",
    "data_out = remove_outliers_std(data_out,['rent'], 5)\n",
    "\n",
    "X1 = np.array(data_out['page hits'])\n",
    "X2 = np.array(data_out['days available'])\n",
    "X = np.vstack((X1,X2)).T\n",
    "\n",
    "k = 100\n",
    "kmeans = KMeans(n_clusters=k, random_state=0).fit(X)\n",
    "outputs = kmeans.labels_\n",
    "\n",
    "small_clusters = []\n",
    "outliers = np.array([ ])\n",
    "for i in range(k):\n",
    "    if (np.sum(outputs == i) < 5 ):\n",
    "        small_clusters.append(i)\n",
    "        points = np.where(outputs == i)[0]\n",
    "        outliers = np.concatenate((outliers, points)).astype(int)\n",
    "\n",
    "n_outl_ = outliers.shape[0]\n",
    "\n",
    "print('Número de outliers estimados: %d' % n_outl_)\n",
    "\n",
    "plt.plot(X1, X2,'.')\n",
    "plt.plot(X1[outliers], X2[outliers],'xr')\n",
    "plt.show()"
   ]
  },
  {
   "cell_type": "markdown",
   "metadata": {},
   "source": [
    "#### Exercício 4, questão I\n",
    "\n",
    "Quantos outliers foram encontrados?\n",
    "\n",
    "(a) 1<br>\n",
    "(b) 5<br>\n",
    "<font color='red'>(c) 7</font><br>\n",
    "(d) 27<br>\n",
    "\n",
    "\n",
    "#### Exercício 4, questão II\n",
    "\n",
    "Altere o número de grupos para $k=300$ e considere outliers aqueles pontos em grupos com 2 ou menos exemplos. Quantos outliers foram encontrados?\n",
    "\n",
    "(a) 5<br>\n",
    "(b) 300<br>\n",
    "(c) 39<br>\n",
    "<font color='red'>(d) 27</font><br>\n",
    "    \n",
    "    \n",
    "<font color='red'>Resposta</font>: *ver código abaixo*\n"
   ]
  },
  {
   "cell_type": "code",
   "execution_count": 541,
   "metadata": {
    "scrolled": true
   },
   "outputs": [
    {
     "name": "stdout",
     "output_type": "stream",
     "text": [
      "Número de outliers estimados: 27\n"
     ]
    },
    {
     "data": {
      "image/png": "[encoded data removed]",
      "text/plain": [
       "<Figure size 432x288 with 1 Axes>"
      ]
     },
     "metadata": {
      "needs_background": "light"
     },
     "output_type": "display_data"
    }
   ],
   "source": [
    "k = 300\n",
    "kmeans = KMeans(n_clusters=k, random_state=0).fit(X)\n",
    "outputs = kmeans.labels_\n",
    "\n",
    "small_clusters = []\n",
    "outliers = np.array([ ])\n",
    "for i in range(k):\n",
    "    if (np.sum(outputs == i) <= 2):\n",
    "        small_clusters.append(i)\n",
    "        points = np.where(outputs == i)[0]\n",
    "        outliers = np.concatenate((outliers, points)).astype(int)\n",
    "\n",
    "n_outl_ = outliers.shape[0]\n",
    "\n",
    "print('Número de outliers estimados: %d' % n_outl_)\n",
    "\n",
    "plt.plot(X1, X2,'.')\n",
    "plt.plot(X1[outliers], X2[outliers],'xr')\n",
    "plt.show()"
   ]
  },
  {
   "cell_type": "markdown",
   "metadata": {},
   "source": [
    "---\n",
    "\n",
    "### Exercício 5)\n",
    "\n",
    "Considerando o preenchimento de dados faltantes, utilize a base de dados após remover outliers segundo indicado no Exercício 3, questão I.\n",
    "\n",
    "Imprima o total de valores faltantes em cada variável.\n",
    "\n",
    "Codifique uma funcão que preencha valores faltantes utilizando a média condicionada a uma outra variável categórica (não numérica) da base. Essa funcao deverá:\n",
    "1. calcular a média da variável alvo (a ser preenchida) relativa a cada valor distinto da variável categórica selecionada\n",
    "2. atribuir a média calculada a todas as linhas cuja variavel alvo é faltante e que possua o valor da variável categórica correspondente\n",
    "3. o valor atribuido deve seguir o mesmo tipo da variável alvo, ou seja, int, float, etc. Quando int, realize o arredondamento utlizando `np.round(,0)`, quando float64 utilize `np.round(value,1)`\n",
    "\n",
    "    Exemplo: podemos preencher a média do imposto (tax) condicionado ao tipo (type) calculando a média do imposto agrupado por cada valor de tipo ('house' e 'flat'), e depois atribuir essas médias aos valores faltantes condicionado ao tipo.\n",
    "   Assim, uma propriedade que é do tipo 'house' e que possui 'tax' faltante, recebe a média de 'tax' entre todas os imóveis marcados com 'house' para os quais há valor de 'tax'.\n",
    "   \n",
    "Responda as questões abaixo:"
   ]
  },
  {
   "cell_type": "code",
   "execution_count": 542,
   "metadata": {},
   "outputs": [
    {
     "name": "stdout",
     "output_type": "stream",
     "text": [
      "area - faltantes:  78\n",
      "rooms - faltantes:  77\n",
      "parking spaces - faltantes:  2945\n",
      "tax - faltantes:  6\n"
     ]
    }
   ],
   "source": [
    "# verificando atributos faltantes\n",
    "for var in data_out:\n",
    "    # imprime variavel\n",
    "    missvar = np.sum(data_out[var].isnull())\n",
    "    if (missvar > 0):\n",
    "        print(var,\"- faltantes: \", missvar)"
   ]
  },
  {
   "cell_type": "code",
   "execution_count": 543,
   "metadata": {},
   "outputs": [],
   "source": [
    "def missing_condmean(df, att, att_cat):\n",
    "        \n",
    "    dfn = df.copy()\n",
    "    print('- preencher ', att, ' condicionado a ', att_cat, end=' : ')\n",
    "    nullatt = dfn[att].isnull()\n",
    "    print(np.sum(nullatt), 'faltantes')\n",
    "\n",
    "    for j in df[att_cat].unique():\n",
    "        mu_cat = np.round(np.mean(df.loc[df[att_cat]==j, att]),1)\n",
    "        \n",
    "        if (df[att_cat].dtypes == np.int64):\n",
    "            mu_cat = np.round(mu_cat,0)\n",
    "            \n",
    "        print('\\t %s media = %.1f' % (j, mu_cat))\n",
    "        dfn.loc[(df[att].isnull()) & (df[att_cat]==j), att] = mu_cat\n",
    "        \n",
    "    return dfn"
   ]
  },
  {
   "cell_type": "markdown",
   "metadata": {},
   "source": [
    "#### Exercício 5, questão I\n",
    "\n",
    "Quantas variáveis possuem valores faltantes?\n",
    "\n",
    "<font color='red'>(a) 4</font><br>\n",
    "(b) 5<br>\n",
    "(c) 1<br>\n",
    "(d) 10<br>\n",
    "\n",
    "<font color='red'>Resposta</font>: *area - faltantes:  78, rooms - faltantes:  77, parking spaces - faltantes:  2945, tax - faltantes:  6, total de variáveis = 4*\n"
   ]
  },
  {
   "cell_type": "markdown",
   "metadata": {},
   "source": [
    "#### Exercício 5, questão II\n",
    "\n",
    "Use sua funcao para preencher a 'area' condicionado a 'type'. Após o preenchimento, qual é a nova média para todas as linhas do atributo 'area', e arredondando para três casas decimais?\n",
    "\n",
    "<font color='red'>(a) 144.557</font><br>\n",
    "(b) 232.500<br>\n",
    "(d) 144.493<br>\n",
    "(d) 119.100<br>"
   ]
  },
  {
   "cell_type": "code",
   "execution_count": 560,
   "metadata": {},
   "outputs": [
    {
     "name": "stdout",
     "output_type": "stream",
     "text": [
      "- preencher  area  condicionado a  type : 78 faltantes\n",
      "\t flat media = 119.1\n",
      "\t house media = 232.5\n",
      "Antes do preenchimento:  144.493\n",
      "Depois do preenchimento:  144.557\n"
     ]
    }
   ],
   "source": [
    "data_fill = missing_condmean(data_out, 'area', 'type')\n",
    "data_fill[data_out['area'].isnull()].head()\n",
    "\n",
    "print('Antes do preenchimento: ', np.round(np.mean(data_out.loc[:, 'area']),3))\n",
    "print('Depois do preenchimento: ', np.round(np.mean(data_fill.loc[:, 'area']),3))"
   ]
  },
  {
   "cell_type": "markdown",
   "metadata": {},
   "source": [
    "#### Exercício 4, questão III\n",
    "\n",
    "Use sua funcao para preencher 'tax' condicionado a 'city'. Quais foram as médias encontradas para as cidades de São Paulo, Porto Alegre e Brotas, respectivamente?\n",
    "\n",
    "(a) 422.6, 118.0 e 106.5<br>\n",
    "(b) 423.0, 347.0 e 100.0<br>\n",
    "(d) 273.0, 147.1 e 106.5<br>\n",
    "<font color='red'>(d) 422.6, 118.2 e 106.6</font><br>"
   ]
  },
  {
   "cell_type": "code",
   "execution_count": 559,
   "metadata": {},
   "outputs": [
    {
     "name": "stdout",
     "output_type": "stream",
     "text": [
      "- preencher  tax  condicionado a  city : 6 faltantes\n",
      "\t São Paulo media = 422.6\n",
      "\t Porto Alegre media = 118.2\n",
      "\t Rio de Janeiro media = 247.2\n",
      "\t Campinas media = 147.1\n",
      "\t Belo Horizonte media = 273.0\n",
      "\t Brotas media = 106.6\n"
     ]
    },
    {
     "data": {
      "text/plain": [
       "336.02"
      ]
     },
     "execution_count": 559,
     "metadata": {},
     "output_type": "execute_result"
    }
   ],
   "source": [
    "data_fill = missing_condmean(data_fill, 'tax', 'city')\n",
    "data_fill[data_out['tax'].isnull()]\n",
    "\n",
    "np.round(np.mean(data_fill.loc[:, 'tax']),2)\n"
   ]
  },
  {
   "cell_type": "markdown",
   "metadata": {},
   "source": [
    "---\n",
    "\n",
    "### Exercício 6)\n",
    "\n",
    "Considere os atributos 'type' e 'city' e analise a distribuicao dos seus valores.\n",
    "\n",
    "Para o atributo 'city', realize a análise desconsiderando a cidade de São Paulo.\n",
    "\n",
    "Calcule a porcentagem de exemplos da categoria com menor quantidade de dados encontrada com relacao ao total.\n",
    "\n",
    "Responda as questões abaixo:"
   ]
  },
  {
   "cell_type": "code",
   "execution_count": 518,
   "metadata": {},
   "outputs": [
    {
     "name": "stdout",
     "output_type": "stream",
     "text": [
      "porcentagem frente ao total: 22.4742%\n"
     ]
    },
    {
     "data": {
      "image/png": "[encoded data removed]",
      "text/plain": [
       "<Figure size 432x288 with 1 Axes>"
      ]
     },
     "metadata": {
      "needs_background": "light"
     },
     "output_type": "display_data"
    }
   ],
   "source": [
    "plt.hist(data_fill['type'])\n",
    "data_fill['type'].describe()\n",
    "\n",
    "tot_house = np.sum(data_fill['type']=='house')\n",
    "\n",
    "print(\"porcentagem frente ao total: %.4f%%\" % ((tot_house/data_fill.shape[0])*100))\n"
   ]
  },
  {
   "cell_type": "code",
   "execution_count": 516,
   "metadata": {},
   "outputs": [
    {
     "name": "stdout",
     "output_type": "stream",
     "text": [
      "10\n",
      "porcentagem frente ao total: 0.0859%\n"
     ]
    },
    {
     "data": {
      "image/png": "[encoded data removed]",
      "text/plain": [
       "<Figure size 432x288 with 1 Axes>"
      ]
     },
     "metadata": {
      "needs_background": "light"
     },
     "output_type": "display_data"
    }
   ],
   "source": [
    "plt.hist(data_fill.loc[data_fill['city']!='São Paulo', 'city'])\n",
    "data_fill.loc[data_fill['city']!='São Paulo', 'city'].describe()\n",
    "\n",
    "tot_brotas = np.sum(data_fill['city']=='Brotas')\n",
    "\n",
    "print(tot_brotas)\n",
    "print(\"porcentagem frente ao total: %.4f%%\" % ((tot_brotas/data_fill.shape[0])*100))\n"
   ]
  },
  {
   "cell_type": "markdown",
   "metadata": {},
   "source": [
    "#### Exercício 5, questão I\n",
    "\n",
    "Podemos considerar que:\n",
    "\n",
    "(a) apenas \"city\" (sem São Paulo) é desbalanceada<br>\n",
    "(b) apenas \"type\" é desbalanceada<br>\n",
    "<font color='red'>(c) ambas as análises indicam desbalaceamento dos dados</font><br>\n",
    "(d) ambas as análises indicam desbalaceamento dos dados<br>\n",
    "\n",
    "#### Exercício 5, questão II\n",
    "\n",
    "Qual dos procedimentos abaixo é o mais adequado caso desejamos utilizar a variável \"type\" como variável alvo (de saída) para um modelo de aprendizado?\n",
    "\n",
    "(a) não é possível utilizar essas variáveis<br>\n",
    "(b) não é preciso fazer nenhum tratamento<br>\n",
    "<font color='red'>(c) considerar o uso de técnicas de sobreamostragem para 'house'</font><br>\n",
    "(d) considerar o uso de técnicas de sobreamostragem para 'flat' <br>\n",
    "\n",
    "<font color='red'>Resposta:</font> *ainda que não fazer nenhum tratamento seja possível, considerar a sobreamostragem de 'house' pode ser importante nesse cenário em que 'house' corresponde a 22% dos dados, ou seja, temos um balanceamento de aproximadamente 1:4.5*\n",
    "    \n",
    "#### Exercício 5, questão III\n",
    "\n",
    "Qual dos procedimentos abaixo é o mais adequado caso desejamos utilizar a variável \"city\" (desconsiderando São Paulo) como variável alvo (de saída) para um modelo de aprendizado?\n",
    "\n",
    "<font color='red'>(a) remover a cidade \"Brotas\" da análise e rebalancear as demais</font><br>\n",
    "(b) realizar uma combinacão de técnicas de subamostragem (para as categorias majoritárias) e sobreamostragem (para as minoritátias)<br>\n",
    "(c) utilizar o método SMOTE<br>\n",
    "(d) considerar o uso de técnicas de subamostragem para as categorias majoritárias<br>\n",
    "\n",
    "<font color='red'>Resposta:</font> *ainda que considerar métodos para tratar o desbalanceamento seja possível, Brotas possui menos de 0.1% do total de dados, inviabilizando seu uso frente às demais cidades, sendo recomendado descartá-la*"
   ]
  }
 ],
 "metadata": {
  "kernelspec": {
   "display_name": "Python 3",
   "language": "python",
   "name": "python3"
  },
  "language_info": {
   "codemirror_mode": {
    "name": "ipython",
    "version": 3
   },
   "file_extension": ".py",
   "mimetype": "text/x-python",
   "name": "python",
   "nbconvert_exporter": "python",
   "pygments_lexer": "ipython3",
   "version": "3.8.2"
  }
 },
 "nbformat": 4,
 "nbformat_minor": 4
}
