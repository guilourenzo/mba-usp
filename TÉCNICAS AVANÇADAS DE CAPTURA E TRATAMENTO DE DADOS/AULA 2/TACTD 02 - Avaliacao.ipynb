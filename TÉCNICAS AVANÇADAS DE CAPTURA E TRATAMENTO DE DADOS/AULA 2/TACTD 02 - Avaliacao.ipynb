{
 "cells": [
  {
   "cell_type": "markdown",
   "metadata": {},
   "source": [
    "# MBA em Ciência de Dados\n",
    "# Técnicas Avançadas de Captura e Tratamento de Dados\n",
    "\n",
    "### <span style=\"color:darkred\">Módulo II - Tratamento de Dados</span>\n",
    "\n",
    "\n",
    "### <span style=\"color:darkred\">Avaliação</span>\n",
    "\n",
    "Moacir Antonelli Ponti\n",
    "\n",
    "CeMEAI - ICMC/USP São Carlos\n",
    "\n",
    "\n",
    "---\n",
    "\n",
    "#### <font color='red'> As respostas devem ser fornecidas no Moodle. O notebook é apenas para a implementação dos códigos que fornecerão as respostas</font>\n",
    "---\n"
   ]
  },
  {
   "cell_type": "code",
   "execution_count": 1,
   "metadata": {},
   "outputs": [],
   "source": [
    "# carregando as bibliotecas necessárias\n",
    "import numpy as np\n",
    "import matplotlib.pyplot as plt\n",
    "import pandas as pd\n",
    "\n",
    "from sklearn.svm import SVC\n",
    "from sklearn.linear_model import Ridge\n",
    "from sklearn import metrics\n",
    "\n",
    "# carregando dados\n",
    "data_orig = pd.read_csv(\"./dados/pib_mba_avaliacao.csv\")"
   ]
  },
  {
   "cell_type": "markdown",
   "metadata": {},
   "source": [
    "Vamos utilizar uma base de dados baixada do IBGE com o PIB per capita para cada município brasileiro, essa base foi modificada para o propósito dos exercícios abaixo. Essa base possui as seguintes colunas:\n",
    "* gid - identificador geográfico do município\n",
    "* UF - unidade federativa\n",
    "* nome - nome do município\n",
    "* Censo - ano do censo relativo aos dados\n",
    "* PIB - total do PIB\n",
    "* Pop_est_2009 - populacao estimada\t\n",
    "* PIB_percapita - PIB per capita segundo os dados\n",
    "* Descrição - Descrição do dados\n",
    "* classe - classe do município\n",
    "* desemprego - índice de desemprego na cidade no ano do Censo\n",
    "\n",
    "**Antes de iniciar**:\n",
    "\n",
    "1. Inspecione o tipo dos atributos e seus valores possíveis\n",
    "    1. Verifique se há variáveis irrelevantes para a base de dados, ou que atrapalhem a análise. Identifique-as e remova-as.\n",
    "    2. realize uma limpeza inicial considerando a:\n",
    "        1. correção dos dados que forem possíveis inferir o valor verdadeiro, ajustando e padronizando-os. Anote quais variáveis isso ocorreu.\n",
    "        2. conversão dos atributos que deveriam ser numéricos para numérico - inspecione os valores para garantir que a conversão não vá gerar dados faltantes de forma desnecessária, substituindo por numeros os que forem possíveis como por exemplo o atributo \"floor\" como visto na aula em que substituímos dados por 0. Anote as variáveis em que isso ocorreu.\n",
    "        Verifique ainda se há padronizacao do tipo de dado (separador de decimal por ponto ou vírgula)\n",
    "        \n",
    "        OBS: utilize `df = df.drop('nome_Variavel', 1)` para remover uma variável de um dataframe `df`. Caso queira manter uma cópia por seguranca, utilize `df_copy = df.copy()` para realizar a cópia.\n",
    "        \n",
    "        *Importante*: nesse passo, ainda não remova outliers!\n",
    "\n",
    "\n",
    "2. Procure por municípios duplicados, considerando nome e UF. Para isso use:\n",
    "  `data.duplicated(variaveis)`\n",
    "  \n",
    "\n",
    "3. Remova as linhas duplicadas encontradas no passo anterior, tratando da melhor forma as duplicatas\n"
   ]
  },
  {
   "cell_type": "markdown",
   "metadata": {},
   "source": [
    "### Exercício 1)\n",
    " \n",
    "Considerando a limpeza inicial realizada, quais variáveis possuiam valores que precisaram ser padronizados ou corrigidos de forma a não causar perda de dados e/ou inconsistências\n",
    " \n",
    "(a) UF, Desemprego, Censo, gid e nome<br>\n",
    "(b) UF, Desemprego, Censo<br>\n",
    "(c) UF e gid<br>\n",
    "(d) UF e Censo<br>\n",
    "\n",
    "---\n",
    "\n",
    "### Exercício 2)\n",
    "\n",
    "Após verificar duplicatas, quantas linhas foram removidas?\n",
    "\n",
    "(a) 5<br>\n",
    "(b) 3<br>\n",
    "(c) 4<br>\n",
    "(d) 6<br>\n",
    "\n",
    "\n",
    "---\n",
    "\n",
    "### Exercício 3)\n",
    "\n",
    "Das 11 colunas iniciais, havia alguma identificada como irrelevante e que foi removida?\n",
    "\n",
    "(a) não<br>\n",
    "(b) sim: as colunas 1 e 9 <br>\n",
    "(b) sim: a coluna 9 <br>\n",
    "(d) sim: a coluna 1, 2 e 9 <br>\n"
   ]
  },
  {
   "cell_type": "markdown",
   "metadata": {},
   "source": [
    "---\n",
    "### Exercício 4)\n",
    "\n",
    "Vamos analisar possíveis outliers. Utilize o método da análise da dispersão pelo desvio padrão e inspecione as colunas 'gid', 'Censo', 'PIB', 'Pop_est_2009', 'desemprego', procurando por outliers globais com critério de 2 desvios padrões, i.e. $2\\sigma$.\n",
    "\n",
    "Quantos outliers foram encontrados, respectivamente, para 'gid', 'Censo', 'PIB', 'Pop_est_2009' e 'desemprego'?\n",
    "\n",
    "(a) 0, 0, 1, 5, 27<br>\n",
    "(b) 0, 5, 9, 44, 1 <br>\n",
    "(c) 0, 5, 5, 27, 1 <br>\n",
    "(d) 0, 5, 5, 44, 2 <br>"
   ]
  },
  {
   "cell_type": "markdown",
   "metadata": {},
   "source": [
    "### Exercício 5)\n",
    "\n",
    "Analisando os outliers retornados em 'Censo' e 'desemprego' na questão anterior, quantos valores respectivamente, parecem ser outliers globais verdadeiros e para os quais se recomenda remover o valor antes de qualquer análise posterior?\n",
    "\n",
    "(a) 5, 0<br>\n",
    "(b) 0, 1<br>\n",
    "(c) 5, 1<br>\n",
    "(d) 1,1 <br>"
   ]
  },
  {
   "cell_type": "markdown",
   "metadata": {},
   "source": [
    "---\n",
    "\n",
    "### Exercício 6)\n",
    "\n",
    "Utilize a base de dados após a limpeza inicial (sem remover outliers). Imprima o total de valores faltantes em cada variável.\n",
    "\n",
    "Codifique uma funcão que preencha valores faltantes utilizando a média condicionada a uma outra variável da base. Essa funcao deverá:\n",
    "1. calcular a média da variável alvo (a ser preenchida) relativa a cada valor distinto da variável selecionada\n",
    "2. atribuir a média calculada a todas as linhas cuja variavel alvo é faltante e que possua o valor da variável correspondente\n",
    "3. o valor atribuido deve seguir o mesmo tipo da variável alvo, ou seja, int, float, etc. Quando int, realize o arredondamento utlizando `np.round(,0)`, quando float64 utilize `np.round(value,1)`\n",
    "\n",
    "Quais variáveis possuem valores faltantes e em qual número?\n",
    "\n",
    "(a) nome:  2, Censo:  6, PIB:  1, PIB_percapita:  4, desemprego:  30<br>\n",
    "(b) nome:  1, Censo:  6, PIB_percapita:  4, desemprego:  30<br>\n",
    "(c) nome:  2, Censo:  7, PIB:  1, PIB_percapita:  4, desemprego:  30<br>\n",
    "(d) nome:  2, Censo:  6, PIB_percapita:  4, desemprego:  30<br>\n"
   ]
  },
  {
   "cell_type": "markdown",
   "metadata": {},
   "source": [
    "---\n",
    "\n",
    "### Exercício 7)\n",
    "\n",
    "Use a funcão para preencher dados faltantes de desemprego condicionado a UF. Considerando arredondamento para 4 casas decimais, qual é a média da coluna desemprego para todas as linhas, antes e depois de realizar o preenchimento?\n",
    "\n",
    "(a) antes: 6.6406, depois: 6.6423<br>\n",
    "(b) antes: 6.6406, depois: 6.6406<br>\n",
    "(c) antes: 6.6423, depois: 6.6406<br>\n",
    "(d) antes: 6.6423, depois: 6.6423<br>\n"
   ]
  },
  {
   "cell_type": "markdown",
   "metadata": {},
   "source": [
    "---\n",
    "\n",
    "### Exercício 8)\n",
    "\n",
    "Considere o atributo 'classe' apenas para a UF 'Rio de Janeiro' e analise a distribuicao dos seus valores.\n",
    "\n",
    "Para executar um algoritmo de aprendizado em que a o atributo alvo é 'classe', qual seria a abordagem mais indicada:\n",
    "\n",
    "(a) considerar cenário desbalanceado com 2 classes minoritárias e estudar medidas para compensar esse desbalanceamento<br>\n",
    "(b) realizar análise com os dados originais, mesmo desbalanceados<br>\n",
    "(c) considerar cenário desbalanceado com 1 classes minoritárias e estudar medidas para compensar esse desbalanceamento<br>\n",
    "(d) considerar cenário desbalanceado com 4 classes minoritárias e estudar medidas para compensar esse desbalanceamento<br>"
   ]
  }
 ],
 "metadata": {
  "kernelspec": {
   "display_name": "Python 3",
   "language": "python",
   "name": "python3"
  },
  "language_info": {
   "codemirror_mode": {
    "name": "ipython",
    "version": 3
   },
   "file_extension": ".py",
   "mimetype": "text/x-python",
   "name": "python",
   "nbconvert_exporter": "python",
   "pygments_lexer": "ipython3",
   "version": "3.8.2"
  }
 },
 "nbformat": 4,
 "nbformat_minor": 4
}
