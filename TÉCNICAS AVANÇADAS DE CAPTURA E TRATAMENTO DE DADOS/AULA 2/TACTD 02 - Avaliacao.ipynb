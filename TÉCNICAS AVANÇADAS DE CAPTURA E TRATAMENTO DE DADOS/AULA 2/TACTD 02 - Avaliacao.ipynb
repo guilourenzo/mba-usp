{
 "cells": [
  {
   "cell_type": "markdown",
   "metadata": {},
   "source": [
    "# MBA em Ciência de Dados\n",
    "# Técnicas Avançadas de Captura e Tratamento de Dados\n",
    "\n",
    "### <span style=\"color:darkred\">Módulo II - Tratamento de Dados</span>\n",
    "\n",
    "\n",
    "### <span style=\"color:darkred\">Avaliação</span>\n",
    "\n",
    "Moacir Antonelli Ponti\n",
    "\n",
    "CeMEAI - ICMC/USP São Carlos\n",
    "\n",
    "\n",
    "---\n",
    "\n",
    "#### <font color='red'> As respostas devem ser fornecidas no Moodle. O notebook é apenas para a implementação dos códigos que fornecerão as respostas</font>\n",
    "---\n"
   ]
  },
  {
   "cell_type": "code",
   "execution_count": 71,
   "metadata": {},
   "outputs": [],
   "source": [
    "# carregando as bibliotecas necessárias\n",
    "import numpy as np\n",
    "import matplotlib.pyplot as plt\n",
    "import pandas as pd\n",
    "\n",
    "from sklearn.svm import SVC\n",
    "from sklearn.linear_model import Ridge\n",
    "from sklearn import metrics\n",
    "\n",
    "# carregando dados\n",
    "data_orig = pd.read_csv(\"pib_mba_avaliacao.csv\")"
   ]
  },
  {
   "cell_type": "markdown",
   "metadata": {},
   "source": [
    "Vamos utilizar uma base de dados baixada do IBGE com o PIB per capita para cada município brasileiro, essa base foi modificada para o propósito dos exercícios abaixo. Essa base possui as seguintes colunas:\n",
    "* gid - identificador geográfico do município\n",
    "* UF - unidade federativa\n",
    "* nome - nome do município\n",
    "* Censo - ano do censo relativo aos dados\n",
    "* PIB - total do PIB\n",
    "* Pop_est_2009 - populacao estimada\t\n",
    "* PIB_percapita - PIB per capita segundo os dados\n",
    "* Descrição - Descrição do dados\n",
    "* classe - classe do município\n",
    "* desemprego - índice de desemprego na cidade no ano do Censo:\n",
    "\n",
    "Carregue usando:\n",
    "`pd.read_csv(\"./dados/pib_mba_avaliacao.csv\")`\n",
    "\n",
    "**Antes de iniciar**:\n",
    "\n",
    "1. Inspecione o tipo dos atributos e seus valores possíveis\n",
    "    1. Verifique se há variáveis irrelevantes para a base de dados, ou que atrapalhem a análise. Identifique-as e remova-as.\n",
    "    2. realize uma limpeza inicial considerando a:\n",
    "        1. correção dos dados que forem possíveis inferir o valor verdadeiro, ajustando e padronizando-os. Anote quais variáveis isso ocorreu.\n",
    "        2. conversão dos atributos que deveriam ser numéricos para numérico - inspecione os valores para garantir que a conversão não vá gerar dados faltantes de forma desnecessária, substituindo por numeros os que forem possíveis como por exemplo o atributo \"floor\" como visto na aula em que substituímos dados por 0. Anote as variáveis em que isso ocorreu.\n",
    "        Verifique ainda se há padronizacao do tipo de dado (separador de decimal por ponto ou vírgula)\n",
    "        \n",
    "        OBS: utilize `df = df.drop('nome_Variavel', 1)` para remover uma variável de um dataframe `df`. Caso queira manter uma cópia por seguranca, utilize `df_copy = df.copy()` para realizar a cópia.\n",
    "        \n",
    "        *Importante*: nesse passo, ainda não remova outliers!\n",
    "\n",
    "\n",
    "2. Procure por municípios duplicados, considerando nome e UF. Para isso use:\n",
    "  `data.duplicated(variaveis)`\n",
    "  \n",
    "\n",
    "3. Remova as linhas duplicadas encontradas no passo anterior, tratando da melhor forma as duplicatas\n"
   ]
  },
  {
   "cell_type": "markdown",
   "metadata": {},
   "source": [
    "#### 1.1 variáveis irrelevantes"
   ]
  },
  {
   "cell_type": "code",
   "execution_count": 130,
   "metadata": {},
   "outputs": [
    {
     "output_type": "stream",
     "name": "stdout",
     "text": "['Unnamed: 0', 'gid', 'UF', 'nome', 'Censo', 'PIB', 'Pop_est_2009', 'PIB_percapita', 'Descrição', 'classe', 'desemprego']\n['gid', 'UF', 'nome', 'Censo', 'PIB', 'Pop_est_2009', 'PIB_percapita', 'Descrição', 'classe', 'desemprego']\n"
    }
   ],
   "source": [
    "data = data_orig.copy()\n",
    "\n",
    "print(list(data.columns))\n",
    "\n",
    "data.drop(columns='Unnamed: 0', inplace=True)\n",
    "\n",
    "print(list(data.columns))"
   ]
  },
  {
   "cell_type": "markdown",
   "metadata": {},
   "source": [
    "#### 1.2.1 censo"
   ]
  },
  {
   "cell_type": "code",
   "execution_count": 131,
   "metadata": {},
   "outputs": [
    {
     "output_type": "stream",
     "name": "stdout",
     "text": "UF - tipo:  object\n\tnão numérico, valores: ['BAHIA' 'RIO GRANDE DO SUL' 'ESPIRITO SANTO' 'MINAS GERAIS' 'PIAUÍ'\n 'GOIÁS' 'PERNAMBUCO' 'PARÁ' 'SERGIPE' 'SÃO PAULO' 'PARAÍBA' 'TOCANTINS'\n 'AMAZONAS' 'SANTA CATARINA' 'CEARÁ' 'RORAIMA' 'MARANHÃO' 'RIO DE JANEIRO'\n 'MATO GROSSO' 'PARANÁ' 'ALAGOAS' 'MATO GROSSO DO SUL' 'ACRE'\n 'RIO GRANDE DO NORTE' 'RONDÔNIA' 'PARANA' 'AMAPÁ' 'DISTRITO FEDERAL'\n 'PIAU' 'PARANA ']\nnome - tipo:  object\n\tnão numérico, valores: ['Tremedal' 'Turuçu' 'Vitória' ... 'Guararapes' 'Barra do Guarita'\n 'Machadinho']\nCenso - tipo:  object\n\tnão numérico, valores: ['2010' '“2010' nan '2007' '2030']\nDescrição - tipo:  object\n\tnão numérico, valores: ['Produto Interno Bruto per capita']\ndesemprego - tipo:  object\n\tnão numérico, valores: ['9.3' '4.9' '8.3' nan '6.8' '5.1' '4.8' '5.6' '3.9' '7.7' '6.9' '5.3'\n '5.9' '9.8' '6.6' '6' '9.7' '8.8' '7.9' '6.4' '4.7' '10.1' '5.5' '6.5'\n '7' '7.8' '9.5' '8.7' '6.7' '4.1' '5' '9.9' '8.1' '10.3' '8.2' '9.4'\n '5.2' '7.6' '8.6' '6.2' '7.2' '7.1' '9.1' '4.6' '5.4' '3.8' '5.8' '7.3'\n '3.3' '9' '5.7' '10.2' '8.4' '8.5' '8.9' '9.6' '7.4' '10.7' '3.6' '2.1'\n '4.3' '8' '6.1' '3.7' '10' '10.8' '4.2' '4.4' '6.3' '3.4' '9.2' '407'\n '3.5' '3' '4.5' '10.6' '7.5' '4' '13.7' '3.2' '12.6' '10.4' '11.8' '10.5'\n '2.3' '13.6' '2.7' '2.2' '2.5' '2.4' '2' '12.5' '14' '2.9' '1.9' '3.1'\n '2.6' '11.9' '12.9' '2.8' '12.1' '6,4' '12.2' 'x' \"'7'\"]\n"
    }
   ],
   "source": [
    "# inspecionando atributos nao numéricos\n",
    "for var in data:\n",
    "    if not np.issubdtype(data[var].dtype, np.number):\n",
    "        # imprime variavel e seu tipo\n",
    "        print(var,\"- tipo: \", data[var].dtype.name)\n",
    "        # se nao numérico\n",
    "        print(\"\\tnão numérico, valores: \", end=\"\")\n",
    "        print(data[var].unique())\n",
    "\n",
    "# Censo: remover \" e transformar em numérico\n",
    "# Desemprego: ajustar itens faltantes [nan | x | etc] e transformar em numérico\n",
    "# UF: ajustar escrita"
   ]
  },
  {
   "cell_type": "code",
   "execution_count": 132,
   "metadata": {},
   "outputs": [
    {
     "output_type": "stream",
     "name": "stdout",
     "text": "['“2010' nan]\n"
    }
   ],
   "source": [
    "print(data.loc[~data['Censo'].astype(str).str.isnumeric(), 'Censo'].unique())"
   ]
  },
  {
   "cell_type": "code",
   "execution_count": 133,
   "metadata": {},
   "outputs": [],
   "source": [
    "data.loc[data['Censo'] == '“2010','Censo'] = '2010'\n",
    "\n",
    "data.loc[:,'Censo'] = pd.to_numeric(data.loc[:,'Censo'], downcast='integer', errors='coerce')"
   ]
  },
  {
   "cell_type": "markdown",
   "metadata": {},
   "source": [
    "#### 1.2.2 desemprego"
   ]
  },
  {
   "cell_type": "code",
   "execution_count": 134,
   "metadata": {},
   "outputs": [
    {
     "output_type": "stream",
     "name": "stdout",
     "text": "UF - tipo:  object\n\tnão numérico, valores: ['BAHIA' 'RIO GRANDE DO SUL' 'ESPIRITO SANTO' 'MINAS GERAIS' 'PIAUÍ'\n 'GOIÁS' 'PERNAMBUCO' 'PARÁ' 'SERGIPE' 'SÃO PAULO' 'PARAÍBA' 'TOCANTINS'\n 'AMAZONAS' 'SANTA CATARINA' 'CEARÁ' 'RORAIMA' 'MARANHÃO' 'RIO DE JANEIRO'\n 'MATO GROSSO' 'PARANÁ' 'ALAGOAS' 'MATO GROSSO DO SUL' 'ACRE'\n 'RIO GRANDE DO NORTE' 'RONDÔNIA' 'PARANA' 'AMAPÁ' 'DISTRITO FEDERAL'\n 'PIAU' 'PARANA ']\nnome - tipo:  object\n\tnão numérico, valores: ['Tremedal' 'Turuçu' 'Vitória' ... 'Guararapes' 'Barra do Guarita'\n 'Machadinho']\nDescrição - tipo:  object\n\tnão numérico, valores: ['Produto Interno Bruto per capita']\ndesemprego - tipo:  object\n\tnão numérico, valores: ['9.3' '4.9' '8.3' nan '6.8' '5.1' '4.8' '5.6' '3.9' '7.7' '6.9' '5.3'\n '5.9' '9.8' '6.6' '6' '9.7' '8.8' '7.9' '6.4' '4.7' '10.1' '5.5' '6.5'\n '7' '7.8' '9.5' '8.7' '6.7' '4.1' '5' '9.9' '8.1' '10.3' '8.2' '9.4'\n '5.2' '7.6' '8.6' '6.2' '7.2' '7.1' '9.1' '4.6' '5.4' '3.8' '5.8' '7.3'\n '3.3' '9' '5.7' '10.2' '8.4' '8.5' '8.9' '9.6' '7.4' '10.7' '3.6' '2.1'\n '4.3' '8' '6.1' '3.7' '10' '10.8' '4.2' '4.4' '6.3' '3.4' '9.2' '407'\n '3.5' '3' '4.5' '10.6' '7.5' '4' '13.7' '3.2' '12.6' '10.4' '11.8' '10.5'\n '2.3' '13.6' '2.7' '2.2' '2.5' '2.4' '2' '12.5' '14' '2.9' '1.9' '3.1'\n '2.6' '11.9' '12.9' '2.8' '12.1' '6,4' '12.2' 'x' \"'7'\"]\n"
    }
   ],
   "source": [
    "for var in data:\n",
    "    if not np.issubdtype(data[var].dtype, np.number):\n",
    "        # imprime variavel e seu tipo\n",
    "        print(var,\"- tipo: \", data[var].dtype.name)\n",
    "        # se nao numérico\n",
    "        print(\"\\tnão numérico, valores: \", end=\"\")\n",
    "        print(data[var].unique())\n"
   ]
  },
  {
   "cell_type": "code",
   "execution_count": 135,
   "metadata": {},
   "outputs": [
    {
     "output_type": "stream",
     "name": "stdout",
     "text": "['9.3' '4.9' '8.3' nan '6.8' '5.1' '4.8' '5.6' '3.9' '7.7' '6.9' '5.3'\n '5.9' '9.8' '6.6' '9.7' '8.8' '7.9' '6.4' '4.7' '10.1' '5.5' '6.5' '7.8'\n '9.5' '8.7' '6.7' '4.1' '9.9' '8.1' '10.3' '8.2' '9.4' '5.2' '7.6' '8.6'\n '6.2' '7.2' '7.1' '9.1' '4.6' '5.4' '3.8' '5.8' '7.3' '3.3' '5.7' '10.2'\n '8.4' '8.5' '8.9' '9.6' '7.4' '10.7' '3.6' '2.1' '4.3' '6.1' '3.7' '10.8'\n '4.2' '4.4' '6.3' '3.4' '9.2' '3.5' '4.5' '10.6' '7.5' '13.7' '3.2'\n '12.6' '10.4' '11.8' '10.5' '2.3' '13.6' '2.7' '2.2' '2.5' '2.4' '12.5'\n '2.9' '1.9' '3.1' '2.6' '11.9' '12.9' '2.8' '12.1' '6,4' '12.2' 'x' \"'7'\"]\n"
    }
   ],
   "source": [
    "print(data.loc[~data['desemprego'].astype(str).str.isnumeric(), 'desemprego'].unique())"
   ]
  },
  {
   "cell_type": "code",
   "execution_count": 136,
   "metadata": {},
   "outputs": [],
   "source": [
    "data.loc[data['desemprego'] == ''\"'7'\"'','desemprego'] = '7'\n",
    "data.loc[data['desemprego'] == '6,4','desemprego'] = '6.4'\n",
    "data.loc[data['desemprego'] == 'x', 'desemprego'] = np.nan\n",
    "\n",
    "data.loc[:,'desemprego'] = pd.to_numeric(data.loc[:,'desemprego'], downcast='integer', errors='coerce')"
   ]
  },
  {
   "cell_type": "markdown",
   "metadata": {},
   "source": [
    "#### 1.2.2 UF"
   ]
  },
  {
   "cell_type": "code",
   "execution_count": 137,
   "metadata": {},
   "outputs": [
    {
     "output_type": "stream",
     "name": "stdout",
     "text": "UF - tipo:  object\n\tnão numérico, valores: ['BAHIA' 'RIO GRANDE DO SUL' 'ESPIRITO SANTO' 'MINAS GERAIS' 'PIAUÍ'\n 'GOIÁS' 'PERNAMBUCO' 'PARÁ' 'SERGIPE' 'SÃO PAULO' 'PARAÍBA' 'TOCANTINS'\n 'AMAZONAS' 'SANTA CATARINA' 'CEARÁ' 'RORAIMA' 'MARANHÃO' 'RIO DE JANEIRO'\n 'MATO GROSSO' 'PARANÁ' 'ALAGOAS' 'MATO GROSSO DO SUL' 'ACRE'\n 'RIO GRANDE DO NORTE' 'RONDÔNIA' 'PARANA' 'AMAPÁ' 'DISTRITO FEDERAL'\n 'PIAU' 'PARANA ']\nnome - tipo:  object\n\tnão numérico, valores: ['Tremedal' 'Turuçu' 'Vitória' ... 'Guararapes' 'Barra do Guarita'\n 'Machadinho']\nDescrição - tipo:  object\n\tnão numérico, valores: ['Produto Interno Bruto per capita']\n"
    }
   ],
   "source": [
    "for var in data:\n",
    "    if not np.issubdtype(data[var].dtype, np.number):\n",
    "        # imprime variavel e seu tipo\n",
    "        print(var,\"- tipo: \", data[var].dtype.name)\n",
    "        # se nao numérico\n",
    "        print(\"\\tnão numérico, valores: \", end=\"\")\n",
    "        print(data[var].unique())\n"
   ]
  },
  {
   "cell_type": "code",
   "execution_count": 138,
   "metadata": {},
   "outputs": [
    {
     "output_type": "stream",
     "name": "stdout",
     "text": "['ACRE' 'ALAGOAS' 'AMAPÁ' 'AMAZONAS' 'BAHIA' 'CEARÁ' 'DISTRITO FEDERAL'\n 'ESPIRITO SANTO' 'GOIÁS' 'MARANHÃO' 'MATO GROSSO' 'MATO GROSSO DO SUL'\n 'MINAS GERAIS' 'PARANA' 'PARANA ' 'PARANÁ' 'PARAÍBA' 'PARÁ' 'PERNAMBUCO'\n 'PIAU' 'PIAUÍ' 'RIO DE JANEIRO' 'RIO GRANDE DO NORTE' 'RIO GRANDE DO SUL'\n 'RONDÔNIA' 'RORAIMA' 'SANTA CATARINA' 'SERGIPE' 'SÃO PAULO' 'TOCANTINS']\n"
    }
   ],
   "source": [
    "print(data['UF'].sort_values().unique())"
   ]
  },
  {
   "cell_type": "code",
   "execution_count": 139,
   "metadata": {},
   "outputs": [
    {
     "output_type": "stream",
     "name": "stdout",
     "text": "['ACRE' 'ALAGOAS' 'AMAPÁ' 'AMAZONAS' 'BAHIA' 'CEARÁ' 'DISTRITO FEDERAL'\n 'ESPIRITO SANTO' 'GOIÁS' 'MARANHÃO' 'MATO GROSSO' 'MATO GROSSO DO SUL'\n 'MINAS GERAIS' 'PARANÁ' 'PARAÍBA' 'PARÁ' 'PERNAMBUCO' 'PIAUÍ'\n 'RIO DE JANEIRO' 'RIO GRANDE DO NORTE' 'RIO GRANDE DO SUL' 'RONDÔNIA'\n 'RORAIMA' 'SANTA CATARINA' 'SERGIPE' 'SÃO PAULO' 'TOCANTINS']\n"
    }
   ],
   "source": [
    "data.loc[(data['UF'] == 'PARANA') | (data['UF'] == 'PARANA '), 'UF'] = 'PARANÁ'\n",
    "data.loc[data['UF'] == 'PIAU', 'UF'] = 'PIAUÍ'\n",
    "\n",
    "print(data['UF'].sort_values().unique())"
   ]
  },
  {
   "cell_type": "markdown",
   "metadata": {},
   "source": [
    "#### 2 duplicatas"
   ]
  },
  {
   "cell_type": "code",
   "execution_count": 140,
   "metadata": {},
   "outputs": [
    {
     "output_type": "execute_result",
     "data": {
      "text/plain": "       gid          UF                 nome   Censo            PIB  \\\n5569  1115       GOIÁS          Pirenópolis  2010.0  182077.437500   \n5567  2102        PARÁ  Santa Maria do Pará  2010.0   99888.148438   \n5570  2102        PARÁ  Santa Maria do Pará  2010.0   99888.148438   \n2348  3474  PERNAMBUCO                Pedra  2010.0  121027.789062   \n5462  3773   SÃO PAULO             Guapiara  2010.0  175721.890625   \n5568  4655   SÃO PAULO    Mineiros do Tietê  2010.0   98549.375000   \n\n      Pop_est_2009  PIB_percapita                         Descrição  classe  \\\n5569         20945    8693.120117  Produto Interno Bruto per capita       1   \n5567         23202    4305.149902  Produto Interno Bruto per capita       1   \n5570         23202    4305.149902  Produto Interno Bruto per capita       1   \n2348         20788    5822.000000  Produto Interno Bruto per capita       1   \n5462         20927    8396.900391  Produto Interno Bruto per capita       1   \n5568         12334    7990.060059  Produto Interno Bruto per capita       1   \n\n      desemprego  \n5569         4.2  \n5567         6.1  \n5570         6.1  \n2348         8.5  \n5462         7.2  \n5568         8.1  ",
      "text/html": "<div>\n<style scoped>\n    .dataframe tbody tr th:only-of-type {\n        vertical-align: middle;\n    }\n\n    .dataframe tbody tr th {\n        vertical-align: top;\n    }\n\n    .dataframe thead th {\n        text-align: right;\n    }\n</style>\n<table border=\"1\" class=\"dataframe\">\n  <thead>\n    <tr style=\"text-align: right;\">\n      <th></th>\n      <th>gid</th>\n      <th>UF</th>\n      <th>nome</th>\n      <th>Censo</th>\n      <th>PIB</th>\n      <th>Pop_est_2009</th>\n      <th>PIB_percapita</th>\n      <th>Descrição</th>\n      <th>classe</th>\n      <th>desemprego</th>\n    </tr>\n  </thead>\n  <tbody>\n    <tr>\n      <th>5569</th>\n      <td>1115</td>\n      <td>GOIÁS</td>\n      <td>Pirenópolis</td>\n      <td>2010.0</td>\n      <td>182077.437500</td>\n      <td>20945</td>\n      <td>8693.120117</td>\n      <td>Produto Interno Bruto per capita</td>\n      <td>1</td>\n      <td>4.2</td>\n    </tr>\n    <tr>\n      <th>5567</th>\n      <td>2102</td>\n      <td>PARÁ</td>\n      <td>Santa Maria do Pará</td>\n      <td>2010.0</td>\n      <td>99888.148438</td>\n      <td>23202</td>\n      <td>4305.149902</td>\n      <td>Produto Interno Bruto per capita</td>\n      <td>1</td>\n      <td>6.1</td>\n    </tr>\n    <tr>\n      <th>5570</th>\n      <td>2102</td>\n      <td>PARÁ</td>\n      <td>Santa Maria do Pará</td>\n      <td>2010.0</td>\n      <td>99888.148438</td>\n      <td>23202</td>\n      <td>4305.149902</td>\n      <td>Produto Interno Bruto per capita</td>\n      <td>1</td>\n      <td>6.1</td>\n    </tr>\n    <tr>\n      <th>2348</th>\n      <td>3474</td>\n      <td>PERNAMBUCO</td>\n      <td>Pedra</td>\n      <td>2010.0</td>\n      <td>121027.789062</td>\n      <td>20788</td>\n      <td>5822.000000</td>\n      <td>Produto Interno Bruto per capita</td>\n      <td>1</td>\n      <td>8.5</td>\n    </tr>\n    <tr>\n      <th>5462</th>\n      <td>3773</td>\n      <td>SÃO PAULO</td>\n      <td>Guapiara</td>\n      <td>2010.0</td>\n      <td>175721.890625</td>\n      <td>20927</td>\n      <td>8396.900391</td>\n      <td>Produto Interno Bruto per capita</td>\n      <td>1</td>\n      <td>7.2</td>\n    </tr>\n    <tr>\n      <th>5568</th>\n      <td>4655</td>\n      <td>SÃO PAULO</td>\n      <td>Mineiros do Tietê</td>\n      <td>2010.0</td>\n      <td>98549.375000</td>\n      <td>12334</td>\n      <td>7990.060059</td>\n      <td>Produto Interno Bruto per capita</td>\n      <td>1</td>\n      <td>8.1</td>\n    </tr>\n  </tbody>\n</table>\n</div>"
     },
     "metadata": {},
     "execution_count": 140
    }
   ],
   "source": [
    "data[data.duplicated(['UF', 'nome'])].sort_values(['UF', 'nome'])"
   ]
  },
  {
   "cell_type": "markdown",
   "metadata": {},
   "source": [
    "#### 3 duplicatas"
   ]
  },
  {
   "cell_type": "code",
   "execution_count": 141,
   "metadata": {},
   "outputs": [
    {
     "output_type": "execute_result",
     "data": {
      "text/plain": "Empty DataFrame\nColumns: [gid, UF, nome, Censo, PIB, Pop_est_2009, PIB_percapita, Descrição, classe, desemprego]\nIndex: []",
      "text/html": "<div>\n<style scoped>\n    .dataframe tbody tr th:only-of-type {\n        vertical-align: middle;\n    }\n\n    .dataframe tbody tr th {\n        vertical-align: top;\n    }\n\n    .dataframe thead th {\n        text-align: right;\n    }\n</style>\n<table border=\"1\" class=\"dataframe\">\n  <thead>\n    <tr style=\"text-align: right;\">\n      <th></th>\n      <th>gid</th>\n      <th>UF</th>\n      <th>nome</th>\n      <th>Censo</th>\n      <th>PIB</th>\n      <th>Pop_est_2009</th>\n      <th>PIB_percapita</th>\n      <th>Descrição</th>\n      <th>classe</th>\n      <th>desemprego</th>\n    </tr>\n  </thead>\n  <tbody>\n  </tbody>\n</table>\n</div>"
     },
     "metadata": {},
     "execution_count": 141
    }
   ],
   "source": [
    "data_nodup = data.drop_duplicates(subset=['UF', 'nome'], keep='last')\n",
    "data_nodup[data_nodup.duplicated(['UF', 'nome'])].sort_values(['UF', 'nome'])"
   ]
  },
  {
   "cell_type": "code",
   "execution_count": 142,
   "metadata": {},
   "outputs": [
    {
     "output_type": "stream",
     "name": "stdout",
     "text": "Antes: 5571, Depois remocao duplicatas: 5565\n6\n"
    }
   ],
   "source": [
    "print(\"Antes: %d, Depois remocao duplicatas: %d\" % (data.shape[0], data_nodup.shape[0]))\n",
    "print(data.shape[0] - data_nodup.shape[0])"
   ]
  },
  {
   "cell_type": "markdown",
   "metadata": {},
   "source": [
    "# QUESTIONÁRIO"
   ]
  },
  {
   "cell_type": "markdown",
   "metadata": {},
   "source": [
    "### Questão 1)\n",
    " \n",
    "Considerando a limpeza inicial realizada, quais variáveis possuiam valores que precisaram ser padronizados ou corrigidos de forma a não causar perda de dados e/ou inconsistências\n",
    " \n",
    "(a) UF, Desemprego, Censo, gid e nome<br>\n",
    "(b) UF, Desemprego, Censo<br>\n",
    "(c) UF e gid<br>\n",
    "(d) UF e Censo<br>"
   ]
  },
  {
   "cell_type": "markdown",
   "metadata": {},
   "source": [
    "## LETRA B"
   ]
  },
  {
   "cell_type": "markdown",
   "metadata": {},
   "source": [
    "\n",
    "### Questão 2)\n",
    "\n",
    "Após verificar duplicatas, quantas linhas foram removidas?\n",
    "\n",
    "(a) 5<br>\n",
    "(b) 3<br>\n",
    "(c) 4<br>\n",
    "(d) 6<br>"
   ]
  },
  {
   "cell_type": "markdown",
   "metadata": {},
   "source": [
    "## LETRA D"
   ]
  },
  {
   "cell_type": "markdown",
   "metadata": {},
   "source": [
    "### Questão 3)\n",
    "\n",
    "Das 11 colunas iniciais, havia alguma identificada como irrelevante e que foi removida?\n",
    "\n",
    "(a) não<br>\n",
    "(b) sim: as colunas 1 e 9 <br>\n",
    "(b) sim: a coluna 9 <br>\n",
    "(d) sim: a coluna 1, 2 e 9 <br>\n"
   ]
  },
  {
   "cell_type": "markdown",
   "metadata": {},
   "source": [
    "## LETRA B"
   ]
  },
  {
   "cell_type": "markdown",
   "metadata": {},
   "source": [
    "### Questão 4)\n",
    "\n",
    "Vamos analisar possíveis outliers. Utilize o método da análise da dispersão pelo desvio padrão e inspecione as colunas 'gid', 'Censo', 'PIB', 'Pop_est_2009', 'desemprego', procurando por outliers globais com critério de 2 desvios padrões, i.e. $2\\sigma$.\n",
    "\n",
    "Quantos outliers foram encontrados, respectivamente, para 'gid', 'Censo', 'PIB', 'Pop_est_2009' e 'desemprego'?\n",
    "\n",
    "(a) 0, 0, 1, 5, 27<br>\n",
    "(b) 0, 5, 9, 44, 1 <br>\n",
    "(c) 0, 5, 5, 27, 1 <br>\n",
    "(d) 0, 5, 5, 44, 2 <br>"
   ]
  },
  {
   "cell_type": "markdown",
   "metadata": {},
   "source": [
    "## LETRA B (RESPOSTA ABAIXO)"
   ]
  },
  {
   "cell_type": "code",
   "execution_count": 143,
   "metadata": {},
   "outputs": [],
   "source": [
    "def calcula_outlier_std(dataframe, variavel):\n",
    "    desvp = dataframe[variavel].std()\n",
    "    media = dataframe[variavel].mean()\n",
    "    print(\"media = %.2f, desvio padrao = %.2f\" % (media, desvp))\n",
    "\n",
    "    # apenas outliers segundo std\n",
    "    out_std = dataframe[(dataframe[variavel] < media-(desvp*2)) \n",
    "                    | (dataframe[variavel] > media+(desvp*2))]\n",
    "    # apenas inliers segundo std\n",
    "    in_std = dataframe[(dataframe[variavel] >= media-(desvp*2)) \n",
    "                    & (dataframe[variavel] <= media+(desvp*2))]\n",
    "    return out_std, in_std"
   ]
  },
  {
   "cell_type": "code",
   "execution_count": 144,
   "metadata": {},
   "outputs": [
    {
     "output_type": "stream",
     "name": "stdout",
     "text": "media = 2784.90, desvio padrao = 1607.03\nmedia = 2010.00, desvio padrao = 0.28\nmedia = 862048.17, desvio padrao = 17673043.46\nmedia = 34408.02, desvio padrao = 201803.45\nmedia = 6.64, desvio padrao = 5.68\n0 5 9 44 1\n"
    }
   ],
   "source": [
    "# GID\n",
    "gidout_std, gidin_std = calcula_outlier_std(dat_nodup, 'gid')\n",
    "\n",
    "gid_total_outliers = gidout_std.shape[0]\n",
    "gid_total_sem_outliers = gidin_std.shape[0]\n",
    "\n",
    "# CENSO\n",
    "censoout_std, censoin_std = calcula_outlier_std(dat_nodup, 'Censo')\n",
    "\n",
    "censo_total_outliers = censoout_std.shape[0]\n",
    "censo_total_sem_outliers = censoin_std.shape[0]\n",
    "\n",
    "# PIB\n",
    "pibout_std, pibin_std = calcula_outlier_std(data_nodup, 'PIB')\n",
    "\n",
    "pib_total_outliers = pibout_std.shape[0]\n",
    "pib_total_sem_outliers = pibin_std.shape[0]\n",
    "\n",
    "# Pop_est_2009\n",
    "pop_est_2009out_std, pop_est_2009in_std = calcula_outlier_std(data_nodup, 'Pop_est_2009')\n",
    "\n",
    "pop_est_2009_total_outliers = pop_est_2009out_std.shape[0]\n",
    "pop_est_2009_total_sem_outliers = pop_est_2009in_std.shape[0]\n",
    "\n",
    "# desemprego\n",
    "desempregoout_std, desempregoin_std = calcula_outlier_std(data_nodup, 'desemprego')\n",
    "\n",
    "desemprego_total_outliers = desempregoout_std.shape[0]\n",
    "desemprego_total_sem_outliers = desempregoin_std.shape[0]\n",
    "\n",
    "print(gid_total_outliers, Censo_total_outliers, pib_total_outliers, Pop_est_2009_total_outliers, desemprego_total_outliers)\n",
    "\n"
   ]
  },
  {
   "cell_type": "markdown",
   "metadata": {},
   "source": [
    "### Questão 5)\n",
    "\n",
    "Analisando os outliers retornados em 'Censo' e 'desemprego' na questão anterior, quantos valores respectivamente, parecem ser outliers globais verdadeiros e para os quais se recomenda remover o valor antes de qualquer análise posterior?\n",
    "\n",
    "(a) 5, 0<br>\n",
    "(b) 0, 1<br>\n",
    "(c) 5, 1<br>\n",
    "(d) 1,1 <br>"
   ]
  },
  {
   "cell_type": "markdown",
   "metadata": {},
   "source": [
    "## LETRA D (RESPOSTA ABAIXO)"
   ]
  },
  {
   "cell_type": "code",
   "execution_count": 145,
   "metadata": {},
   "outputs": [
    {
     "output_type": "execute_result",
     "data": {
      "text/plain": "<matplotlib.axes._subplots.AxesSubplot at 0x2c2a3fd1448>"
     },
     "metadata": {},
     "execution_count": 145
    },
    {
     "output_type": "display_data",
     "data": {
      "text/plain": "<Figure size 576x288 with 2 Axes>",
      "image/svg+xml": "<?xml version=\"1.0\" encoding=\"utf-8\" standalone=\"no\"?>\r\n<!DOCTYPE svg PUBLIC \"-//W3C//DTD SVG 1.1//EN\"\r\n  \"http://www.w3.org/Graphics/SVG/1.1/DTD/svg11.dtd\">\r\n<!-- Created with matplotlib (https://matplotlib.org/) -->\r\n<svg height=\"248.518125pt\" version=\"1.1\" viewBox=\"0 0 486.8875 248.518125\" width=\"486.8875pt\" xmlns=\"http://www.w3.org/2000/svg\" xmlns:xlink=\"http://www.w3.org/1999/xlink\">\r\n <defs>\r\n  <style type=\"text/css\">\r\n*{stroke-linecap:butt;stroke-linejoin:round;}\r\n  </style>\r\n </defs>\r\n <g id=\"figure_1\">\r\n  <g id=\"patch_1\">\r\n   <path d=\"M 0 248.518125 \r\nL 486.8875 248.518125 \r\nL 486.8875 0 \r\nL 0 0 \r\nz\r\n\" style=\"fill:none;\"/>\r\n  </g>\r\n  <g id=\"axes_1\">\r\n   <g id=\"patch_2\">\r\n    <path d=\"M 33.2875 224.64 \r\nL 236.196591 224.64 \r\nL 236.196591 7.2 \r\nL 33.2875 7.2 \r\nz\r\n\" style=\"fill:#ffffff;\"/>\r\n   </g>\r\n   <g id=\"matplotlib.axis_1\">\r\n    <g id=\"xtick_1\">\r\n     <g id=\"line2d_1\">\r\n      <path clip-path=\"url(#pf6067e5d3b)\" d=\"M 134.742045 224.64 \r\nL 134.742045 7.2 \r\n\" style=\"fill:none;stroke:#b0b0b0;stroke-linecap:square;stroke-width:0.8;\"/>\r\n     </g>\r\n     <g id=\"line2d_2\">\r\n      <defs>\r\n       <path d=\"M 0 0 \r\nL 0 3.5 \r\n\" id=\"m5d1bfec43f\" style=\"stroke:#000000;stroke-width:0.8;\"/>\r\n      </defs>\r\n      <g>\r\n       <use style=\"stroke:#000000;stroke-width:0.8;\" x=\"134.742045\" xlink:href=\"#m5d1bfec43f\" y=\"224.64\"/>\r\n      </g>\r\n     </g>\r\n     <g id=\"text_1\">\r\n      <!-- desemprego -->\r\n      <defs>\r\n       <path d=\"M 45.40625 46.390625 \r\nL 45.40625 75.984375 \r\nL 54.390625 75.984375 \r\nL 54.390625 0 \r\nL 45.40625 0 \r\nL 45.40625 8.203125 \r\nQ 42.578125 3.328125 38.25 0.953125 \r\nQ 33.9375 -1.421875 27.875 -1.421875 \r\nQ 17.96875 -1.421875 11.734375 6.484375 \r\nQ 5.515625 14.40625 5.515625 27.296875 \r\nQ 5.515625 40.1875 11.734375 48.09375 \r\nQ 17.96875 56 27.875 56 \r\nQ 33.9375 56 38.25 53.625 \r\nQ 42.578125 51.265625 45.40625 46.390625 \r\nz\r\nM 14.796875 27.296875 \r\nQ 14.796875 17.390625 18.875 11.75 \r\nQ 22.953125 6.109375 30.078125 6.109375 \r\nQ 37.203125 6.109375 41.296875 11.75 \r\nQ 45.40625 17.390625 45.40625 27.296875 \r\nQ 45.40625 37.203125 41.296875 42.84375 \r\nQ 37.203125 48.484375 30.078125 48.484375 \r\nQ 22.953125 48.484375 18.875 42.84375 \r\nQ 14.796875 37.203125 14.796875 27.296875 \r\nz\r\n\" id=\"DejaVuSans-100\"/>\r\n       <path d=\"M 56.203125 29.59375 \r\nL 56.203125 25.203125 \r\nL 14.890625 25.203125 \r\nQ 15.484375 15.921875 20.484375 11.0625 \r\nQ 25.484375 6.203125 34.421875 6.203125 \r\nQ 39.59375 6.203125 44.453125 7.46875 \r\nQ 49.3125 8.734375 54.109375 11.28125 \r\nL 54.109375 2.78125 \r\nQ 49.265625 0.734375 44.1875 -0.34375 \r\nQ 39.109375 -1.421875 33.890625 -1.421875 \r\nQ 20.796875 -1.421875 13.15625 6.1875 \r\nQ 5.515625 13.8125 5.515625 26.8125 \r\nQ 5.515625 40.234375 12.765625 48.109375 \r\nQ 20.015625 56 32.328125 56 \r\nQ 43.359375 56 49.78125 48.890625 \r\nQ 56.203125 41.796875 56.203125 29.59375 \r\nz\r\nM 47.21875 32.234375 \r\nQ 47.125 39.59375 43.09375 43.984375 \r\nQ 39.0625 48.390625 32.421875 48.390625 \r\nQ 24.90625 48.390625 20.390625 44.140625 \r\nQ 15.875 39.890625 15.1875 32.171875 \r\nz\r\n\" id=\"DejaVuSans-101\"/>\r\n       <path d=\"M 44.28125 53.078125 \r\nL 44.28125 44.578125 \r\nQ 40.484375 46.53125 36.375 47.5 \r\nQ 32.28125 48.484375 27.875 48.484375 \r\nQ 21.1875 48.484375 17.84375 46.4375 \r\nQ 14.5 44.390625 14.5 40.28125 \r\nQ 14.5 37.15625 16.890625 35.375 \r\nQ 19.28125 33.59375 26.515625 31.984375 \r\nL 29.59375 31.296875 \r\nQ 39.15625 29.25 43.1875 25.515625 \r\nQ 47.21875 21.78125 47.21875 15.09375 \r\nQ 47.21875 7.46875 41.1875 3.015625 \r\nQ 35.15625 -1.421875 24.609375 -1.421875 \r\nQ 20.21875 -1.421875 15.453125 -0.5625 \r\nQ 10.6875 0.296875 5.421875 2 \r\nL 5.421875 11.28125 \r\nQ 10.40625 8.6875 15.234375 7.390625 \r\nQ 20.0625 6.109375 24.8125 6.109375 \r\nQ 31.15625 6.109375 34.5625 8.28125 \r\nQ 37.984375 10.453125 37.984375 14.40625 \r\nQ 37.984375 18.0625 35.515625 20.015625 \r\nQ 33.0625 21.96875 24.703125 23.78125 \r\nL 21.578125 24.515625 \r\nQ 13.234375 26.265625 9.515625 29.90625 \r\nQ 5.8125 33.546875 5.8125 39.890625 \r\nQ 5.8125 47.609375 11.28125 51.796875 \r\nQ 16.75 56 26.8125 56 \r\nQ 31.78125 56 36.171875 55.265625 \r\nQ 40.578125 54.546875 44.28125 53.078125 \r\nz\r\n\" id=\"DejaVuSans-115\"/>\r\n       <path d=\"M 52 44.1875 \r\nQ 55.375 50.25 60.0625 53.125 \r\nQ 64.75 56 71.09375 56 \r\nQ 79.640625 56 84.28125 50.015625 \r\nQ 88.921875 44.046875 88.921875 33.015625 \r\nL 88.921875 0 \r\nL 79.890625 0 \r\nL 79.890625 32.71875 \r\nQ 79.890625 40.578125 77.09375 44.375 \r\nQ 74.3125 48.1875 68.609375 48.1875 \r\nQ 61.625 48.1875 57.5625 43.546875 \r\nQ 53.515625 38.921875 53.515625 30.90625 \r\nL 53.515625 0 \r\nL 44.484375 0 \r\nL 44.484375 32.71875 \r\nQ 44.484375 40.625 41.703125 44.40625 \r\nQ 38.921875 48.1875 33.109375 48.1875 \r\nQ 26.21875 48.1875 22.15625 43.53125 \r\nQ 18.109375 38.875 18.109375 30.90625 \r\nL 18.109375 0 \r\nL 9.078125 0 \r\nL 9.078125 54.6875 \r\nL 18.109375 54.6875 \r\nL 18.109375 46.1875 \r\nQ 21.1875 51.21875 25.484375 53.609375 \r\nQ 29.78125 56 35.6875 56 \r\nQ 41.65625 56 45.828125 52.96875 \r\nQ 50 49.953125 52 44.1875 \r\nz\r\n\" id=\"DejaVuSans-109\"/>\r\n       <path d=\"M 18.109375 8.203125 \r\nL 18.109375 -20.796875 \r\nL 9.078125 -20.796875 \r\nL 9.078125 54.6875 \r\nL 18.109375 54.6875 \r\nL 18.109375 46.390625 \r\nQ 20.953125 51.265625 25.265625 53.625 \r\nQ 29.59375 56 35.59375 56 \r\nQ 45.5625 56 51.78125 48.09375 \r\nQ 58.015625 40.1875 58.015625 27.296875 \r\nQ 58.015625 14.40625 51.78125 6.484375 \r\nQ 45.5625 -1.421875 35.59375 -1.421875 \r\nQ 29.59375 -1.421875 25.265625 0.953125 \r\nQ 20.953125 3.328125 18.109375 8.203125 \r\nz\r\nM 48.6875 27.296875 \r\nQ 48.6875 37.203125 44.609375 42.84375 \r\nQ 40.53125 48.484375 33.40625 48.484375 \r\nQ 26.265625 48.484375 22.1875 42.84375 \r\nQ 18.109375 37.203125 18.109375 27.296875 \r\nQ 18.109375 17.390625 22.1875 11.75 \r\nQ 26.265625 6.109375 33.40625 6.109375 \r\nQ 40.53125 6.109375 44.609375 11.75 \r\nQ 48.6875 17.390625 48.6875 27.296875 \r\nz\r\n\" id=\"DejaVuSans-112\"/>\r\n       <path d=\"M 41.109375 46.296875 \r\nQ 39.59375 47.171875 37.8125 47.578125 \r\nQ 36.03125 48 33.890625 48 \r\nQ 26.265625 48 22.1875 43.046875 \r\nQ 18.109375 38.09375 18.109375 28.8125 \r\nL 18.109375 0 \r\nL 9.078125 0 \r\nL 9.078125 54.6875 \r\nL 18.109375 54.6875 \r\nL 18.109375 46.1875 \r\nQ 20.953125 51.171875 25.484375 53.578125 \r\nQ 30.03125 56 36.53125 56 \r\nQ 37.453125 56 38.578125 55.875 \r\nQ 39.703125 55.765625 41.0625 55.515625 \r\nz\r\n\" id=\"DejaVuSans-114\"/>\r\n       <path d=\"M 45.40625 27.984375 \r\nQ 45.40625 37.75 41.375 43.109375 \r\nQ 37.359375 48.484375 30.078125 48.484375 \r\nQ 22.859375 48.484375 18.828125 43.109375 \r\nQ 14.796875 37.75 14.796875 27.984375 \r\nQ 14.796875 18.265625 18.828125 12.890625 \r\nQ 22.859375 7.515625 30.078125 7.515625 \r\nQ 37.359375 7.515625 41.375 12.890625 \r\nQ 45.40625 18.265625 45.40625 27.984375 \r\nz\r\nM 54.390625 6.78125 \r\nQ 54.390625 -7.171875 48.1875 -13.984375 \r\nQ 42 -20.796875 29.203125 -20.796875 \r\nQ 24.46875 -20.796875 20.265625 -20.09375 \r\nQ 16.0625 -19.390625 12.109375 -17.921875 \r\nL 12.109375 -9.1875 \r\nQ 16.0625 -11.328125 19.921875 -12.34375 \r\nQ 23.78125 -13.375 27.78125 -13.375 \r\nQ 36.625 -13.375 41.015625 -8.765625 \r\nQ 45.40625 -4.15625 45.40625 5.171875 \r\nL 45.40625 9.625 \r\nQ 42.625 4.78125 38.28125 2.390625 \r\nQ 33.9375 0 27.875 0 \r\nQ 17.828125 0 11.671875 7.65625 \r\nQ 5.515625 15.328125 5.515625 27.984375 \r\nQ 5.515625 40.671875 11.671875 48.328125 \r\nQ 17.828125 56 27.875 56 \r\nQ 33.9375 56 38.28125 53.609375 \r\nQ 42.625 51.21875 45.40625 46.390625 \r\nL 45.40625 54.6875 \r\nL 54.390625 54.6875 \r\nz\r\n\" id=\"DejaVuSans-103\"/>\r\n       <path d=\"M 30.609375 48.390625 \r\nQ 23.390625 48.390625 19.1875 42.75 \r\nQ 14.984375 37.109375 14.984375 27.296875 \r\nQ 14.984375 17.484375 19.15625 11.84375 \r\nQ 23.34375 6.203125 30.609375 6.203125 \r\nQ 37.796875 6.203125 41.984375 11.859375 \r\nQ 46.1875 17.53125 46.1875 27.296875 \r\nQ 46.1875 37.015625 41.984375 42.703125 \r\nQ 37.796875 48.390625 30.609375 48.390625 \r\nz\r\nM 30.609375 56 \r\nQ 42.328125 56 49.015625 48.375 \r\nQ 55.71875 40.765625 55.71875 27.296875 \r\nQ 55.71875 13.875 49.015625 6.21875 \r\nQ 42.328125 -1.421875 30.609375 -1.421875 \r\nQ 18.84375 -1.421875 12.171875 6.21875 \r\nQ 5.515625 13.875 5.515625 27.296875 \r\nQ 5.515625 40.765625 12.171875 48.375 \r\nQ 18.84375 56 30.609375 56 \r\nz\r\n\" id=\"DejaVuSans-111\"/>\r\n      </defs>\r\n      <g transform=\"translate(103.40142 239.238437)scale(0.1 -0.1)\">\r\n       <use xlink:href=\"#DejaVuSans-100\"/>\r\n       <use x=\"63.476562\" xlink:href=\"#DejaVuSans-101\"/>\r\n       <use x=\"125\" xlink:href=\"#DejaVuSans-115\"/>\r\n       <use x=\"177.099609\" xlink:href=\"#DejaVuSans-101\"/>\r\n       <use x=\"238.623047\" xlink:href=\"#DejaVuSans-109\"/>\r\n       <use x=\"336.035156\" xlink:href=\"#DejaVuSans-112\"/>\r\n       <use x=\"399.511719\" xlink:href=\"#DejaVuSans-114\"/>\r\n       <use x=\"440.59375\" xlink:href=\"#DejaVuSans-101\"/>\r\n       <use x=\"502.117188\" xlink:href=\"#DejaVuSans-103\"/>\r\n       <use x=\"565.59375\" xlink:href=\"#DejaVuSans-111\"/>\r\n      </g>\r\n     </g>\r\n    </g>\r\n   </g>\r\n   <g id=\"matplotlib.axis_2\">\r\n    <g id=\"ytick_1\">\r\n     <g id=\"line2d_3\">\r\n      <path clip-path=\"url(#pf6067e5d3b)\" d=\"M 33.2875 222.770123 \r\nL 236.196591 222.770123 \r\n\" style=\"fill:none;stroke:#b0b0b0;stroke-linecap:square;stroke-width:0.8;\"/>\r\n     </g>\r\n     <g id=\"line2d_4\">\r\n      <defs>\r\n       <path d=\"M 0 0 \r\nL -3.5 0 \r\n\" id=\"me2f0ad591c\" style=\"stroke:#000000;stroke-width:0.8;\"/>\r\n      </defs>\r\n      <g>\r\n       <use style=\"stroke:#000000;stroke-width:0.8;\" x=\"33.2875\" xlink:href=\"#me2f0ad591c\" y=\"222.770123\"/>\r\n      </g>\r\n     </g>\r\n     <g id=\"text_2\">\r\n      <!-- 385 -->\r\n      <defs>\r\n       <path d=\"M 40.578125 39.3125 \r\nQ 47.65625 37.796875 51.625 33 \r\nQ 55.609375 28.21875 55.609375 21.1875 \r\nQ 55.609375 10.40625 48.1875 4.484375 \r\nQ 40.765625 -1.421875 27.09375 -1.421875 \r\nQ 22.515625 -1.421875 17.65625 -0.515625 \r\nQ 12.796875 0.390625 7.625 2.203125 \r\nL 7.625 11.71875 \r\nQ 11.71875 9.328125 16.59375 8.109375 \r\nQ 21.484375 6.890625 26.8125 6.890625 \r\nQ 36.078125 6.890625 40.9375 10.546875 \r\nQ 45.796875 14.203125 45.796875 21.1875 \r\nQ 45.796875 27.640625 41.28125 31.265625 \r\nQ 36.765625 34.90625 28.71875 34.90625 \r\nL 20.21875 34.90625 \r\nL 20.21875 43.015625 \r\nL 29.109375 43.015625 \r\nQ 36.375 43.015625 40.234375 45.921875 \r\nQ 44.09375 48.828125 44.09375 54.296875 \r\nQ 44.09375 59.90625 40.109375 62.90625 \r\nQ 36.140625 65.921875 28.71875 65.921875 \r\nQ 24.65625 65.921875 20.015625 65.03125 \r\nQ 15.375 64.15625 9.8125 62.3125 \r\nL 9.8125 71.09375 \r\nQ 15.4375 72.65625 20.34375 73.4375 \r\nQ 25.25 74.21875 29.59375 74.21875 \r\nQ 40.828125 74.21875 47.359375 69.109375 \r\nQ 53.90625 64.015625 53.90625 55.328125 \r\nQ 53.90625 49.265625 50.4375 45.09375 \r\nQ 46.96875 40.921875 40.578125 39.3125 \r\nz\r\n\" id=\"DejaVuSans-51\"/>\r\n       <path d=\"M 31.78125 34.625 \r\nQ 24.75 34.625 20.71875 30.859375 \r\nQ 16.703125 27.09375 16.703125 20.515625 \r\nQ 16.703125 13.921875 20.71875 10.15625 \r\nQ 24.75 6.390625 31.78125 6.390625 \r\nQ 38.8125 6.390625 42.859375 10.171875 \r\nQ 46.921875 13.96875 46.921875 20.515625 \r\nQ 46.921875 27.09375 42.890625 30.859375 \r\nQ 38.875 34.625 31.78125 34.625 \r\nz\r\nM 21.921875 38.8125 \r\nQ 15.578125 40.375 12.03125 44.71875 \r\nQ 8.5 49.078125 8.5 55.328125 \r\nQ 8.5 64.0625 14.71875 69.140625 \r\nQ 20.953125 74.21875 31.78125 74.21875 \r\nQ 42.671875 74.21875 48.875 69.140625 \r\nQ 55.078125 64.0625 55.078125 55.328125 \r\nQ 55.078125 49.078125 51.53125 44.71875 \r\nQ 48 40.375 41.703125 38.8125 \r\nQ 48.828125 37.15625 52.796875 32.3125 \r\nQ 56.78125 27.484375 56.78125 20.515625 \r\nQ 56.78125 9.90625 50.3125 4.234375 \r\nQ 43.84375 -1.421875 31.78125 -1.421875 \r\nQ 19.734375 -1.421875 13.25 4.234375 \r\nQ 6.78125 9.90625 6.78125 20.515625 \r\nQ 6.78125 27.484375 10.78125 32.3125 \r\nQ 14.796875 37.15625 21.921875 38.8125 \r\nz\r\nM 18.3125 54.390625 \r\nQ 18.3125 48.734375 21.84375 45.5625 \r\nQ 25.390625 42.390625 31.78125 42.390625 \r\nQ 38.140625 42.390625 41.71875 45.5625 \r\nQ 45.3125 48.734375 45.3125 54.390625 \r\nQ 45.3125 60.0625 41.71875 63.234375 \r\nQ 38.140625 66.40625 31.78125 66.40625 \r\nQ 25.390625 66.40625 21.84375 63.234375 \r\nQ 18.3125 60.0625 18.3125 54.390625 \r\nz\r\n\" id=\"DejaVuSans-56\"/>\r\n       <path d=\"M 10.796875 72.90625 \r\nL 49.515625 72.90625 \r\nL 49.515625 64.59375 \r\nL 19.828125 64.59375 \r\nL 19.828125 46.734375 \r\nQ 21.96875 47.46875 24.109375 47.828125 \r\nQ 26.265625 48.1875 28.421875 48.1875 \r\nQ 40.625 48.1875 47.75 41.5 \r\nQ 54.890625 34.8125 54.890625 23.390625 \r\nQ 54.890625 11.625 47.5625 5.09375 \r\nQ 40.234375 -1.421875 26.90625 -1.421875 \r\nQ 22.3125 -1.421875 17.546875 -0.640625 \r\nQ 12.796875 0.140625 7.71875 1.703125 \r\nL 7.71875 11.625 \r\nQ 12.109375 9.234375 16.796875 8.0625 \r\nQ 21.484375 6.890625 26.703125 6.890625 \r\nQ 35.15625 6.890625 40.078125 11.328125 \r\nQ 45.015625 15.765625 45.015625 23.390625 \r\nQ 45.015625 31 40.078125 35.4375 \r\nQ 35.15625 39.890625 26.703125 39.890625 \r\nQ 22.75 39.890625 18.8125 39.015625 \r\nQ 14.890625 38.140625 10.796875 36.28125 \r\nz\r\n\" id=\"DejaVuSans-53\"/>\r\n      </defs>\r\n      <g transform=\"translate(7.2 226.569342)scale(0.1 -0.1)\">\r\n       <use xlink:href=\"#DejaVuSans-51\"/>\r\n       <use x=\"63.623047\" xlink:href=\"#DejaVuSans-56\"/>\r\n       <use x=\"127.246094\" xlink:href=\"#DejaVuSans-53\"/>\r\n      </g>\r\n     </g>\r\n    </g>\r\n    <g id=\"ytick_2\">\r\n     <g id=\"line2d_5\">\r\n      <path clip-path=\"url(#pf6067e5d3b)\" d=\"M 33.2875 198.486004 \r\nL 236.196591 198.486004 \r\n\" style=\"fill:none;stroke:#b0b0b0;stroke-linecap:square;stroke-width:0.8;\"/>\r\n     </g>\r\n     <g id=\"line2d_6\">\r\n      <g>\r\n       <use style=\"stroke:#000000;stroke-width:0.8;\" x=\"33.2875\" xlink:href=\"#me2f0ad591c\" y=\"198.486004\"/>\r\n      </g>\r\n     </g>\r\n     <g id=\"text_3\">\r\n      <!-- 390 -->\r\n      <defs>\r\n       <path d=\"M 10.984375 1.515625 \r\nL 10.984375 10.5 \r\nQ 14.703125 8.734375 18.5 7.8125 \r\nQ 22.3125 6.890625 25.984375 6.890625 \r\nQ 35.75 6.890625 40.890625 13.453125 \r\nQ 46.046875 20.015625 46.78125 33.40625 \r\nQ 43.953125 29.203125 39.59375 26.953125 \r\nQ 35.25 24.703125 29.984375 24.703125 \r\nQ 19.046875 24.703125 12.671875 31.3125 \r\nQ 6.296875 37.9375 6.296875 49.421875 \r\nQ 6.296875 60.640625 12.9375 67.421875 \r\nQ 19.578125 74.21875 30.609375 74.21875 \r\nQ 43.265625 74.21875 49.921875 64.515625 \r\nQ 56.59375 54.828125 56.59375 36.375 \r\nQ 56.59375 19.140625 48.40625 8.859375 \r\nQ 40.234375 -1.421875 26.421875 -1.421875 \r\nQ 22.703125 -1.421875 18.890625 -0.6875 \r\nQ 15.09375 0.046875 10.984375 1.515625 \r\nz\r\nM 30.609375 32.421875 \r\nQ 37.25 32.421875 41.125 36.953125 \r\nQ 45.015625 41.5 45.015625 49.421875 \r\nQ 45.015625 57.28125 41.125 61.84375 \r\nQ 37.25 66.40625 30.609375 66.40625 \r\nQ 23.96875 66.40625 20.09375 61.84375 \r\nQ 16.21875 57.28125 16.21875 49.421875 \r\nQ 16.21875 41.5 20.09375 36.953125 \r\nQ 23.96875 32.421875 30.609375 32.421875 \r\nz\r\n\" id=\"DejaVuSans-57\"/>\r\n       <path d=\"M 31.78125 66.40625 \r\nQ 24.171875 66.40625 20.328125 58.90625 \r\nQ 16.5 51.421875 16.5 36.375 \r\nQ 16.5 21.390625 20.328125 13.890625 \r\nQ 24.171875 6.390625 31.78125 6.390625 \r\nQ 39.453125 6.390625 43.28125 13.890625 \r\nQ 47.125 21.390625 47.125 36.375 \r\nQ 47.125 51.421875 43.28125 58.90625 \r\nQ 39.453125 66.40625 31.78125 66.40625 \r\nz\r\nM 31.78125 74.21875 \r\nQ 44.046875 74.21875 50.515625 64.515625 \r\nQ 56.984375 54.828125 56.984375 36.375 \r\nQ 56.984375 17.96875 50.515625 8.265625 \r\nQ 44.046875 -1.421875 31.78125 -1.421875 \r\nQ 19.53125 -1.421875 13.0625 8.265625 \r\nQ 6.59375 17.96875 6.59375 36.375 \r\nQ 6.59375 54.828125 13.0625 64.515625 \r\nQ 19.53125 74.21875 31.78125 74.21875 \r\nz\r\n\" id=\"DejaVuSans-48\"/>\r\n      </defs>\r\n      <g transform=\"translate(7.2 202.285223)scale(0.1 -0.1)\">\r\n       <use xlink:href=\"#DejaVuSans-51\"/>\r\n       <use x=\"63.623047\" xlink:href=\"#DejaVuSans-57\"/>\r\n       <use x=\"127.246094\" xlink:href=\"#DejaVuSans-48\"/>\r\n      </g>\r\n     </g>\r\n    </g>\r\n    <g id=\"ytick_3\">\r\n     <g id=\"line2d_7\">\r\n      <path clip-path=\"url(#pf6067e5d3b)\" d=\"M 33.2875 174.201885 \r\nL 236.196591 174.201885 \r\n\" style=\"fill:none;stroke:#b0b0b0;stroke-linecap:square;stroke-width:0.8;\"/>\r\n     </g>\r\n     <g id=\"line2d_8\">\r\n      <g>\r\n       <use style=\"stroke:#000000;stroke-width:0.8;\" x=\"33.2875\" xlink:href=\"#me2f0ad591c\" y=\"174.201885\"/>\r\n      </g>\r\n     </g>\r\n     <g id=\"text_4\">\r\n      <!-- 395 -->\r\n      <g transform=\"translate(7.2 178.001104)scale(0.1 -0.1)\">\r\n       <use xlink:href=\"#DejaVuSans-51\"/>\r\n       <use x=\"63.623047\" xlink:href=\"#DejaVuSans-57\"/>\r\n       <use x=\"127.246094\" xlink:href=\"#DejaVuSans-53\"/>\r\n      </g>\r\n     </g>\r\n    </g>\r\n    <g id=\"ytick_4\">\r\n     <g id=\"line2d_9\">\r\n      <path clip-path=\"url(#pf6067e5d3b)\" d=\"M 33.2875 149.917766 \r\nL 236.196591 149.917766 \r\n\" style=\"fill:none;stroke:#b0b0b0;stroke-linecap:square;stroke-width:0.8;\"/>\r\n     </g>\r\n     <g id=\"line2d_10\">\r\n      <g>\r\n       <use style=\"stroke:#000000;stroke-width:0.8;\" x=\"33.2875\" xlink:href=\"#me2f0ad591c\" y=\"149.917766\"/>\r\n      </g>\r\n     </g>\r\n     <g id=\"text_5\">\r\n      <!-- 400 -->\r\n      <defs>\r\n       <path d=\"M 37.796875 64.3125 \r\nL 12.890625 25.390625 \r\nL 37.796875 25.390625 \r\nz\r\nM 35.203125 72.90625 \r\nL 47.609375 72.90625 \r\nL 47.609375 25.390625 \r\nL 58.015625 25.390625 \r\nL 58.015625 17.1875 \r\nL 47.609375 17.1875 \r\nL 47.609375 0 \r\nL 37.796875 0 \r\nL 37.796875 17.1875 \r\nL 4.890625 17.1875 \r\nL 4.890625 26.703125 \r\nz\r\n\" id=\"DejaVuSans-52\"/>\r\n      </defs>\r\n      <g transform=\"translate(7.2 153.716985)scale(0.1 -0.1)\">\r\n       <use xlink:href=\"#DejaVuSans-52\"/>\r\n       <use x=\"63.623047\" xlink:href=\"#DejaVuSans-48\"/>\r\n       <use x=\"127.246094\" xlink:href=\"#DejaVuSans-48\"/>\r\n      </g>\r\n     </g>\r\n    </g>\r\n    <g id=\"ytick_5\">\r\n     <g id=\"line2d_11\">\r\n      <path clip-path=\"url(#pf6067e5d3b)\" d=\"M 33.2875 125.633648 \r\nL 236.196591 125.633648 \r\n\" style=\"fill:none;stroke:#b0b0b0;stroke-linecap:square;stroke-width:0.8;\"/>\r\n     </g>\r\n     <g id=\"line2d_12\">\r\n      <g>\r\n       <use style=\"stroke:#000000;stroke-width:0.8;\" x=\"33.2875\" xlink:href=\"#me2f0ad591c\" y=\"125.633648\"/>\r\n      </g>\r\n     </g>\r\n     <g id=\"text_6\">\r\n      <!-- 405 -->\r\n      <g transform=\"translate(7.2 129.432866)scale(0.1 -0.1)\">\r\n       <use xlink:href=\"#DejaVuSans-52\"/>\r\n       <use x=\"63.623047\" xlink:href=\"#DejaVuSans-48\"/>\r\n       <use x=\"127.246094\" xlink:href=\"#DejaVuSans-53\"/>\r\n      </g>\r\n     </g>\r\n    </g>\r\n    <g id=\"ytick_6\">\r\n     <g id=\"line2d_13\">\r\n      <path clip-path=\"url(#pf6067e5d3b)\" d=\"M 33.2875 101.349529 \r\nL 236.196591 101.349529 \r\n\" style=\"fill:none;stroke:#b0b0b0;stroke-linecap:square;stroke-width:0.8;\"/>\r\n     </g>\r\n     <g id=\"line2d_14\">\r\n      <g>\r\n       <use style=\"stroke:#000000;stroke-width:0.8;\" x=\"33.2875\" xlink:href=\"#me2f0ad591c\" y=\"101.349529\"/>\r\n      </g>\r\n     </g>\r\n     <g id=\"text_7\">\r\n      <!-- 410 -->\r\n      <defs>\r\n       <path d=\"M 12.40625 8.296875 \r\nL 28.515625 8.296875 \r\nL 28.515625 63.921875 \r\nL 10.984375 60.40625 \r\nL 10.984375 69.390625 \r\nL 28.421875 72.90625 \r\nL 38.28125 72.90625 \r\nL 38.28125 8.296875 \r\nL 54.390625 8.296875 \r\nL 54.390625 0 \r\nL 12.40625 0 \r\nz\r\n\" id=\"DejaVuSans-49\"/>\r\n      </defs>\r\n      <g transform=\"translate(7.2 105.148747)scale(0.1 -0.1)\">\r\n       <use xlink:href=\"#DejaVuSans-52\"/>\r\n       <use x=\"63.623047\" xlink:href=\"#DejaVuSans-49\"/>\r\n       <use x=\"127.246094\" xlink:href=\"#DejaVuSans-48\"/>\r\n      </g>\r\n     </g>\r\n    </g>\r\n    <g id=\"ytick_7\">\r\n     <g id=\"line2d_15\">\r\n      <path clip-path=\"url(#pf6067e5d3b)\" d=\"M 33.2875 77.06541 \r\nL 236.196591 77.06541 \r\n\" style=\"fill:none;stroke:#b0b0b0;stroke-linecap:square;stroke-width:0.8;\"/>\r\n     </g>\r\n     <g id=\"line2d_16\">\r\n      <g>\r\n       <use style=\"stroke:#000000;stroke-width:0.8;\" x=\"33.2875\" xlink:href=\"#me2f0ad591c\" y=\"77.06541\"/>\r\n      </g>\r\n     </g>\r\n     <g id=\"text_8\">\r\n      <!-- 415 -->\r\n      <g transform=\"translate(7.2 80.864629)scale(0.1 -0.1)\">\r\n       <use xlink:href=\"#DejaVuSans-52\"/>\r\n       <use x=\"63.623047\" xlink:href=\"#DejaVuSans-49\"/>\r\n       <use x=\"127.246094\" xlink:href=\"#DejaVuSans-53\"/>\r\n      </g>\r\n     </g>\r\n    </g>\r\n    <g id=\"ytick_8\">\r\n     <g id=\"line2d_17\">\r\n      <path clip-path=\"url(#pf6067e5d3b)\" d=\"M 33.2875 52.781291 \r\nL 236.196591 52.781291 \r\n\" style=\"fill:none;stroke:#b0b0b0;stroke-linecap:square;stroke-width:0.8;\"/>\r\n     </g>\r\n     <g id=\"line2d_18\">\r\n      <g>\r\n       <use style=\"stroke:#000000;stroke-width:0.8;\" x=\"33.2875\" xlink:href=\"#me2f0ad591c\" y=\"52.781291\"/>\r\n      </g>\r\n     </g>\r\n     <g id=\"text_9\">\r\n      <!-- 420 -->\r\n      <defs>\r\n       <path d=\"M 19.1875 8.296875 \r\nL 53.609375 8.296875 \r\nL 53.609375 0 \r\nL 7.328125 0 \r\nL 7.328125 8.296875 \r\nQ 12.9375 14.109375 22.625 23.890625 \r\nQ 32.328125 33.6875 34.8125 36.53125 \r\nQ 39.546875 41.84375 41.421875 45.53125 \r\nQ 43.3125 49.21875 43.3125 52.78125 \r\nQ 43.3125 58.59375 39.234375 62.25 \r\nQ 35.15625 65.921875 28.609375 65.921875 \r\nQ 23.96875 65.921875 18.8125 64.3125 \r\nQ 13.671875 62.703125 7.8125 59.421875 \r\nL 7.8125 69.390625 \r\nQ 13.765625 71.78125 18.9375 73 \r\nQ 24.125 74.21875 28.421875 74.21875 \r\nQ 39.75 74.21875 46.484375 68.546875 \r\nQ 53.21875 62.890625 53.21875 53.421875 \r\nQ 53.21875 48.921875 51.53125 44.890625 \r\nQ 49.859375 40.875 45.40625 35.40625 \r\nQ 44.1875 33.984375 37.640625 27.21875 \r\nQ 31.109375 20.453125 19.1875 8.296875 \r\nz\r\n\" id=\"DejaVuSans-50\"/>\r\n      </defs>\r\n      <g transform=\"translate(7.2 56.58051)scale(0.1 -0.1)\">\r\n       <use xlink:href=\"#DejaVuSans-52\"/>\r\n       <use x=\"63.623047\" xlink:href=\"#DejaVuSans-50\"/>\r\n       <use x=\"127.246094\" xlink:href=\"#DejaVuSans-48\"/>\r\n      </g>\r\n     </g>\r\n    </g>\r\n    <g id=\"ytick_9\">\r\n     <g id=\"line2d_19\">\r\n      <path clip-path=\"url(#pf6067e5d3b)\" d=\"M 33.2875 28.497172 \r\nL 236.196591 28.497172 \r\n\" style=\"fill:none;stroke:#b0b0b0;stroke-linecap:square;stroke-width:0.8;\"/>\r\n     </g>\r\n     <g id=\"line2d_20\">\r\n      <g>\r\n       <use style=\"stroke:#000000;stroke-width:0.8;\" x=\"33.2875\" xlink:href=\"#me2f0ad591c\" y=\"28.497172\"/>\r\n      </g>\r\n     </g>\r\n     <g id=\"text_10\">\r\n      <!-- 425 -->\r\n      <g transform=\"translate(7.2 32.296391)scale(0.1 -0.1)\">\r\n       <use xlink:href=\"#DejaVuSans-52\"/>\r\n       <use x=\"63.623047\" xlink:href=\"#DejaVuSans-50\"/>\r\n       <use x=\"127.246094\" xlink:href=\"#DejaVuSans-53\"/>\r\n      </g>\r\n     </g>\r\n    </g>\r\n   </g>\r\n   <g id=\"line2d_21\">\r\n    <path clip-path=\"url(#pf6067e5d3b)\" d=\"M 119.523864 115.92 \r\nL 149.960227 115.92 \r\nL 149.960227 115.92 \r\nL 119.523864 115.92 \r\nL 119.523864 115.92 \r\n\" style=\"fill:none;stroke:#1f77b4;stroke-linecap:square;\"/>\r\n   </g>\r\n   <g id=\"line2d_22\">\r\n    <path clip-path=\"url(#pf6067e5d3b)\" d=\"M 134.742045 115.92 \r\nL 134.742045 115.92 \r\n\" style=\"fill:none;stroke:#1f77b4;stroke-linecap:square;\"/>\r\n   </g>\r\n   <g id=\"line2d_23\">\r\n    <path clip-path=\"url(#pf6067e5d3b)\" d=\"M 134.742045 115.92 \r\nL 134.742045 115.92 \r\n\" style=\"fill:none;stroke:#1f77b4;stroke-linecap:square;\"/>\r\n   </g>\r\n   <g id=\"line2d_24\">\r\n    <path clip-path=\"url(#pf6067e5d3b)\" d=\"M 127.132955 115.92 \r\nL 142.351136 115.92 \r\n\" style=\"fill:none;stroke:#000000;stroke-linecap:square;\"/>\r\n   </g>\r\n   <g id=\"line2d_25\">\r\n    <path clip-path=\"url(#pf6067e5d3b)\" d=\"M 127.132955 115.92 \r\nL 142.351136 115.92 \r\n\" style=\"fill:none;stroke:#000000;stroke-linecap:square;\"/>\r\n   </g>\r\n   <g id=\"line2d_26\"/>\r\n   <g id=\"line2d_27\">\r\n    <path clip-path=\"url(#pf6067e5d3b)\" d=\"M 119.523864 115.92 \r\nL 149.960227 115.92 \r\n\" style=\"fill:none;stroke:#2ca02c;stroke-linecap:square;\"/>\r\n   </g>\r\n   <g id=\"patch_3\">\r\n    <path d=\"M 33.2875 224.64 \r\nL 33.2875 7.2 \r\n\" style=\"fill:none;stroke:#000000;stroke-linecap:square;stroke-linejoin:miter;stroke-width:0.8;\"/>\r\n   </g>\r\n   <g id=\"patch_4\">\r\n    <path d=\"M 236.196591 224.64 \r\nL 236.196591 7.2 \r\n\" style=\"fill:none;stroke:#000000;stroke-linecap:square;stroke-linejoin:miter;stroke-width:0.8;\"/>\r\n   </g>\r\n   <g id=\"patch_5\">\r\n    <path d=\"M 33.2875 224.64 \r\nL 236.196591 224.64 \r\n\" style=\"fill:none;stroke:#000000;stroke-linecap:square;stroke-linejoin:miter;stroke-width:0.8;\"/>\r\n   </g>\r\n   <g id=\"patch_6\">\r\n    <path d=\"M 33.2875 7.2 \r\nL 236.196591 7.2 \r\n\" style=\"fill:none;stroke:#000000;stroke-linecap:square;stroke-linejoin:miter;stroke-width:0.8;\"/>\r\n   </g>\r\n  </g>\r\n  <g id=\"axes_2\">\r\n   <g id=\"patch_7\">\r\n    <path d=\"M 276.778409 224.64 \r\nL 479.6875 224.64 \r\nL 479.6875 7.2 \r\nL 276.778409 7.2 \r\nz\r\n\" style=\"fill:#ffffff;\"/>\r\n   </g>\r\n   <g id=\"matplotlib.axis_3\">\r\n    <g id=\"xtick_2\">\r\n     <g id=\"line2d_28\">\r\n      <path clip-path=\"url(#pb5ec4a92b8)\" d=\"M 378.232955 224.64 \r\nL 378.232955 7.2 \r\n\" style=\"fill:none;stroke:#b0b0b0;stroke-linecap:square;stroke-width:0.8;\"/>\r\n     </g>\r\n     <g id=\"line2d_29\">\r\n      <g>\r\n       <use style=\"stroke:#000000;stroke-width:0.8;\" x=\"378.232955\" xlink:href=\"#m5d1bfec43f\" y=\"224.64\"/>\r\n      </g>\r\n     </g>\r\n     <g id=\"text_11\">\r\n      <!-- Censo -->\r\n      <defs>\r\n       <path d=\"M 64.40625 67.28125 \r\nL 64.40625 56.890625 \r\nQ 59.421875 61.53125 53.78125 63.8125 \r\nQ 48.140625 66.109375 41.796875 66.109375 \r\nQ 29.296875 66.109375 22.65625 58.46875 \r\nQ 16.015625 50.828125 16.015625 36.375 \r\nQ 16.015625 21.96875 22.65625 14.328125 \r\nQ 29.296875 6.6875 41.796875 6.6875 \r\nQ 48.140625 6.6875 53.78125 8.984375 \r\nQ 59.421875 11.28125 64.40625 15.921875 \r\nL 64.40625 5.609375 \r\nQ 59.234375 2.09375 53.4375 0.328125 \r\nQ 47.65625 -1.421875 41.21875 -1.421875 \r\nQ 24.65625 -1.421875 15.125 8.703125 \r\nQ 5.609375 18.84375 5.609375 36.375 \r\nQ 5.609375 53.953125 15.125 64.078125 \r\nQ 24.65625 74.21875 41.21875 74.21875 \r\nQ 47.75 74.21875 53.53125 72.484375 \r\nQ 59.328125 70.75 64.40625 67.28125 \r\nz\r\n\" id=\"DejaVuSans-67\"/>\r\n       <path d=\"M 54.890625 33.015625 \r\nL 54.890625 0 \r\nL 45.90625 0 \r\nL 45.90625 32.71875 \r\nQ 45.90625 40.484375 42.875 44.328125 \r\nQ 39.84375 48.1875 33.796875 48.1875 \r\nQ 26.515625 48.1875 22.3125 43.546875 \r\nQ 18.109375 38.921875 18.109375 30.90625 \r\nL 18.109375 0 \r\nL 9.078125 0 \r\nL 9.078125 54.6875 \r\nL 18.109375 54.6875 \r\nL 18.109375 46.1875 \r\nQ 21.34375 51.125 25.703125 53.5625 \r\nQ 30.078125 56 35.796875 56 \r\nQ 45.21875 56 50.046875 50.171875 \r\nQ 54.890625 44.34375 54.890625 33.015625 \r\nz\r\n\" id=\"DejaVuSans-110\"/>\r\n      </defs>\r\n      <g transform=\"translate(362.832173 239.238437)scale(0.1 -0.1)\">\r\n       <use xlink:href=\"#DejaVuSans-67\"/>\r\n       <use x=\"69.824219\" xlink:href=\"#DejaVuSans-101\"/>\r\n       <use x=\"131.347656\" xlink:href=\"#DejaVuSans-110\"/>\r\n       <use x=\"194.726562\" xlink:href=\"#DejaVuSans-115\"/>\r\n       <use x=\"246.826172\" xlink:href=\"#DejaVuSans-111\"/>\r\n      </g>\r\n     </g>\r\n    </g>\r\n   </g>\r\n   <g id=\"matplotlib.axis_4\">\r\n    <g id=\"ytick_10\">\r\n     <g id=\"line2d_30\">\r\n      <path clip-path=\"url(#pb5ec4a92b8)\" d=\"M 276.778409 188.972964 \r\nL 479.6875 188.972964 \r\n\" style=\"fill:none;stroke:#b0b0b0;stroke-linecap:square;stroke-width:0.8;\"/>\r\n     </g>\r\n     <g id=\"line2d_31\">\r\n      <g>\r\n       <use style=\"stroke:#000000;stroke-width:0.8;\" x=\"276.778409\" xlink:href=\"#me2f0ad591c\" y=\"188.972964\"/>\r\n      </g>\r\n     </g>\r\n     <g id=\"text_12\">\r\n      <!-- 2010 -->\r\n      <g transform=\"translate(244.328409 192.772183)scale(0.1 -0.1)\">\r\n       <use xlink:href=\"#DejaVuSans-50\"/>\r\n       <use x=\"63.623047\" xlink:href=\"#DejaVuSans-48\"/>\r\n       <use x=\"127.246094\" xlink:href=\"#DejaVuSans-49\"/>\r\n       <use x=\"190.869141\" xlink:href=\"#DejaVuSans-48\"/>\r\n      </g>\r\n     </g>\r\n    </g>\r\n    <g id=\"ytick_11\">\r\n     <g id=\"line2d_32\">\r\n      <path clip-path=\"url(#pb5ec4a92b8)\" d=\"M 276.778409 146.000632 \r\nL 479.6875 146.000632 \r\n\" style=\"fill:none;stroke:#b0b0b0;stroke-linecap:square;stroke-width:0.8;\"/>\r\n     </g>\r\n     <g id=\"line2d_33\">\r\n      <g>\r\n       <use style=\"stroke:#000000;stroke-width:0.8;\" x=\"276.778409\" xlink:href=\"#me2f0ad591c\" y=\"146.000632\"/>\r\n      </g>\r\n     </g>\r\n     <g id=\"text_13\">\r\n      <!-- 2015 -->\r\n      <g transform=\"translate(244.328409 149.799851)scale(0.1 -0.1)\">\r\n       <use xlink:href=\"#DejaVuSans-50\"/>\r\n       <use x=\"63.623047\" xlink:href=\"#DejaVuSans-48\"/>\r\n       <use x=\"127.246094\" xlink:href=\"#DejaVuSans-49\"/>\r\n       <use x=\"190.869141\" xlink:href=\"#DejaVuSans-53\"/>\r\n      </g>\r\n     </g>\r\n    </g>\r\n    <g id=\"ytick_12\">\r\n     <g id=\"line2d_34\">\r\n      <path clip-path=\"url(#pb5ec4a92b8)\" d=\"M 276.778409 103.0283 \r\nL 479.6875 103.0283 \r\n\" style=\"fill:none;stroke:#b0b0b0;stroke-linecap:square;stroke-width:0.8;\"/>\r\n     </g>\r\n     <g id=\"line2d_35\">\r\n      <g>\r\n       <use style=\"stroke:#000000;stroke-width:0.8;\" x=\"276.778409\" xlink:href=\"#me2f0ad591c\" y=\"103.0283\"/>\r\n      </g>\r\n     </g>\r\n     <g id=\"text_14\">\r\n      <!-- 2020 -->\r\n      <g transform=\"translate(244.328409 106.827519)scale(0.1 -0.1)\">\r\n       <use xlink:href=\"#DejaVuSans-50\"/>\r\n       <use x=\"63.623047\" xlink:href=\"#DejaVuSans-48\"/>\r\n       <use x=\"127.246094\" xlink:href=\"#DejaVuSans-50\"/>\r\n       <use x=\"190.869141\" xlink:href=\"#DejaVuSans-48\"/>\r\n      </g>\r\n     </g>\r\n    </g>\r\n    <g id=\"ytick_13\">\r\n     <g id=\"line2d_36\">\r\n      <path clip-path=\"url(#pb5ec4a92b8)\" d=\"M 276.778409 60.055968 \r\nL 479.6875 60.055968 \r\n\" style=\"fill:none;stroke:#b0b0b0;stroke-linecap:square;stroke-width:0.8;\"/>\r\n     </g>\r\n     <g id=\"line2d_37\">\r\n      <g>\r\n       <use style=\"stroke:#000000;stroke-width:0.8;\" x=\"276.778409\" xlink:href=\"#me2f0ad591c\" y=\"60.055968\"/>\r\n      </g>\r\n     </g>\r\n     <g id=\"text_15\">\r\n      <!-- 2025 -->\r\n      <g transform=\"translate(244.328409 63.855187)scale(0.1 -0.1)\">\r\n       <use xlink:href=\"#DejaVuSans-50\"/>\r\n       <use x=\"63.623047\" xlink:href=\"#DejaVuSans-48\"/>\r\n       <use x=\"127.246094\" xlink:href=\"#DejaVuSans-50\"/>\r\n       <use x=\"190.869141\" xlink:href=\"#DejaVuSans-53\"/>\r\n      </g>\r\n     </g>\r\n    </g>\r\n    <g id=\"ytick_14\">\r\n     <g id=\"line2d_38\">\r\n      <path clip-path=\"url(#pb5ec4a92b8)\" d=\"M 276.778409 17.083636 \r\nL 479.6875 17.083636 \r\n\" style=\"fill:none;stroke:#b0b0b0;stroke-linecap:square;stroke-width:0.8;\"/>\r\n     </g>\r\n     <g id=\"line2d_39\">\r\n      <g>\r\n       <use style=\"stroke:#000000;stroke-width:0.8;\" x=\"276.778409\" xlink:href=\"#me2f0ad591c\" y=\"17.083636\"/>\r\n      </g>\r\n     </g>\r\n     <g id=\"text_16\">\r\n      <!-- 2030 -->\r\n      <g transform=\"translate(244.328409 20.882855)scale(0.1 -0.1)\">\r\n       <use xlink:href=\"#DejaVuSans-50\"/>\r\n       <use x=\"63.623047\" xlink:href=\"#DejaVuSans-48\"/>\r\n       <use x=\"127.246094\" xlink:href=\"#DejaVuSans-51\"/>\r\n       <use x=\"190.869141\" xlink:href=\"#DejaVuSans-48\"/>\r\n      </g>\r\n     </g>\r\n    </g>\r\n   </g>\r\n   <g id=\"line2d_40\">\r\n    <path clip-path=\"url(#pb5ec4a92b8)\" d=\"M 363.014773 214.756364 \r\nL 393.451136 214.756364 \r\nL 393.451136 214.756364 \r\nL 363.014773 214.756364 \r\nL 363.014773 214.756364 \r\n\" style=\"fill:none;stroke:#1f77b4;stroke-linecap:square;\"/>\r\n   </g>\r\n   <g id=\"line2d_41\">\r\n    <path clip-path=\"url(#pb5ec4a92b8)\" d=\"M 378.232955 214.756364 \r\nL 378.232955 214.756364 \r\n\" style=\"fill:none;stroke:#1f77b4;stroke-linecap:square;\"/>\r\n   </g>\r\n   <g id=\"line2d_42\">\r\n    <path clip-path=\"url(#pb5ec4a92b8)\" d=\"M 378.232955 214.756364 \r\nL 378.232955 214.756364 \r\n\" style=\"fill:none;stroke:#1f77b4;stroke-linecap:square;\"/>\r\n   </g>\r\n   <g id=\"line2d_43\">\r\n    <path clip-path=\"url(#pb5ec4a92b8)\" d=\"M 370.623864 214.756364 \r\nL 385.842045 214.756364 \r\n\" style=\"fill:none;stroke:#000000;stroke-linecap:square;\"/>\r\n   </g>\r\n   <g id=\"line2d_44\">\r\n    <path clip-path=\"url(#pb5ec4a92b8)\" d=\"M 370.623864 214.756364 \r\nL 385.842045 214.756364 \r\n\" style=\"fill:none;stroke:#000000;stroke-linecap:square;\"/>\r\n   </g>\r\n   <g id=\"line2d_45\">\r\n    <defs>\r\n     <path d=\"M 0 3 \r\nC 0.795609 3 1.55874 2.683901 2.12132 2.12132 \r\nC 2.683901 1.55874 3 0.795609 3 0 \r\nC 3 -0.795609 2.683901 -1.55874 2.12132 -2.12132 \r\nC 1.55874 -2.683901 0.795609 -3 0 -3 \r\nC -0.795609 -3 -1.55874 -2.683901 -2.12132 -2.12132 \r\nC -2.683901 -1.55874 -3 -0.795609 -3 0 \r\nC -3 0.795609 -2.683901 1.55874 -2.12132 2.12132 \r\nC -1.55874 2.683901 -0.795609 3 0 3 \r\nz\r\n\" id=\"m32d178a65f\" style=\"stroke:#000000;\"/>\r\n    </defs>\r\n    <g clip-path=\"url(#pb5ec4a92b8)\">\r\n     <use style=\"fill-opacity:0;stroke:#000000;\" x=\"378.232955\" xlink:href=\"#m32d178a65f\" y=\"17.083636\"/>\r\n    </g>\r\n   </g>\r\n   <g id=\"line2d_46\">\r\n    <path clip-path=\"url(#pb5ec4a92b8)\" d=\"M 363.014773 214.756364 \r\nL 393.451136 214.756364 \r\n\" style=\"fill:none;stroke:#2ca02c;stroke-linecap:square;\"/>\r\n   </g>\r\n   <g id=\"patch_8\">\r\n    <path d=\"M 276.778409 224.64 \r\nL 276.778409 7.2 \r\n\" style=\"fill:none;stroke:#000000;stroke-linecap:square;stroke-linejoin:miter;stroke-width:0.8;\"/>\r\n   </g>\r\n   <g id=\"patch_9\">\r\n    <path d=\"M 479.6875 224.64 \r\nL 479.6875 7.2 \r\n\" style=\"fill:none;stroke:#000000;stroke-linecap:square;stroke-linejoin:miter;stroke-width:0.8;\"/>\r\n   </g>\r\n   <g id=\"patch_10\">\r\n    <path d=\"M 276.778409 224.64 \r\nL 479.6875 224.64 \r\n\" style=\"fill:none;stroke:#000000;stroke-linecap:square;stroke-linejoin:miter;stroke-width:0.8;\"/>\r\n   </g>\r\n   <g id=\"patch_11\">\r\n    <path d=\"M 276.778409 7.2 \r\nL 479.6875 7.2 \r\n\" style=\"fill:none;stroke:#000000;stroke-linecap:square;stroke-linejoin:miter;stroke-width:0.8;\"/>\r\n   </g>\r\n  </g>\r\n </g>\r\n <defs>\r\n  <clipPath id=\"pf6067e5d3b\">\r\n   <rect height=\"217.44\" width=\"202.909091\" x=\"33.2875\" y=\"7.2\"/>\r\n  </clipPath>\r\n  <clipPath id=\"pb5ec4a92b8\">\r\n   <rect height=\"217.44\" width=\"202.909091\" x=\"276.778409\" y=\"7.2\"/>\r\n  </clipPath>\r\n </defs>\r\n</svg>\r\n",
      "image/png": "[encoded data removed]"
     },
     "metadata": {
      "needs_background": "light"
     }
    }
   ],
   "source": [
    "plt.figure(figsize=(8,4))\n",
    "plt.subplot(121); desempregoout_std.boxplot(['desemprego'])\n",
    "plt.subplot(122); censoout_std.boxplot(['Censo'])"
   ]
  },
  {
   "cell_type": "code",
   "execution_count": 146,
   "metadata": {},
   "outputs": [
    {
     "output_type": "execute_result",
     "data": {
      "text/plain": "count       5.000000\nmean     2011.600000\nstd        10.285913\nmin      2007.000000\n25%      2007.000000\n50%      2007.000000\n75%      2007.000000\nmax      2030.000000\nName: Censo, dtype: float64"
     },
     "metadata": {},
     "execution_count": 146
    }
   ],
   "source": [
    "censoout_std['Censo'].describe()"
   ]
  },
  {
   "cell_type": "code",
   "execution_count": 147,
   "metadata": {},
   "outputs": [
    {
     "output_type": "execute_result",
     "data": {
      "text/plain": "2999    2030.0\nName: Censo, dtype: float64"
     },
     "metadata": {},
     "execution_count": 147
    }
   ],
   "source": [
    "censoout_std.loc[censoout_std['Censo']> 2007, 'Censo']"
   ]
  },
  {
   "cell_type": "code",
   "execution_count": 148,
   "metadata": {},
   "outputs": [
    {
     "output_type": "execute_result",
     "data": {
      "text/plain": "count      1.0\nmean     407.0\nstd        NaN\nmin      407.0\n25%      407.0\n50%      407.0\n75%      407.0\nmax      407.0\nName: desemprego, dtype: float64"
     },
     "metadata": {},
     "execution_count": 148
    }
   ],
   "source": [
    "desempregoout_std['desemprego'].describe()"
   ]
  },
  {
   "cell_type": "code",
   "execution_count": 149,
   "metadata": {},
   "outputs": [
    {
     "output_type": "execute_result",
     "data": {
      "text/plain": "376    407.0\nName: desemprego, dtype: float64"
     },
     "metadata": {},
     "execution_count": 149
    }
   ],
   "source": [
    "desempregoout_std.loc[desempregoout_std['desemprego'] >= 407, 'desemprego']"
   ]
  },
  {
   "cell_type": "markdown",
   "metadata": {},
   "source": [
    "### Questão 7)\n",
    "\n",
    "Codifique uma funcão que preencha valores faltantes de variáveis numéricas utilizando a média condicionada (ou agrupada) a uma outra variável C da base. Essa funcao deverá: <br><br>\n",
    "1. calcular a média da variável alvo A (a ser preenchida) relativa a (ou agrupada por) cada valor distinto da variável categórica selecionada C<br><br>\n",
    "2. atribuir a média calculada de forma agrupada a todas as linhas cuja variável alvo é faltante e que possua o valor da variável categórica correspondente<br><br>\n",
    "3. o valor atribuido deve seguir o mesmo tipo da variável alvo, ou seja, int, float, etc. Quando int, realize o arredondamento utlizando `np.round(,0)`, quando float64 utilize `np.round(,1)`\n",
    "<br><br><br>\n",
    "Use a funcão para preencher dados faltantes de desemprego condicionado a UF. Considerando arredondamento para 4 casas decimais, qual é a média da coluna desemprego para todas as linhas, antes e depois de realizar o preenchimento?\n",
    "\n",
    "(a) antes: 6.6406, depois: 6.6423<br>\n",
    "(b) antes: 6.6406, depois: 6.6406<br>\n",
    "(c) antes: 6.6423, depois: 6.6406<br>\n",
    "(d) antes: 6.6423, depois: 6.6423<br>"
   ]
  },
  {
   "cell_type": "code",
   "execution_count": 150,
   "metadata": {},
   "outputs": [
    {
     "output_type": "stream",
     "name": "stdout",
     "text": "nome - faltantes:  2\nCenso - faltantes:  5\nPIB - faltantes:  1\nPIB_percapita - faltantes:  4\ndesemprego - faltantes:  30\n"
    }
   ],
   "source": [
    "# verificando atributos faltantes\n",
    "for var in data:\n",
    "    # imprime variavel\n",
    "    missvar = np.sum(data_nodup[var].isnull())\n",
    "    if (missvar > 0):\n",
    "        print(var,\"- faltantes: \", missvar)"
   ]
  },
  {
   "cell_type": "code",
   "execution_count": 151,
   "metadata": {},
   "outputs": [],
   "source": [
    "def missing_condmean(df, att, att_cat):\n",
    "        \n",
    "    dfn = df.copy()\n",
    "    print('- preencher ', att, ' condicionado a ', att_cat, end=' : ')\n",
    "    nullatt = dfn[att].isnull()\n",
    "    print(np.sum(nullatt), 'faltantes')\n",
    "\n",
    "    print('\\t %s media antes = %.4f' % (att, df[att].mean()))\n",
    "    for j in df[att_cat].unique():\n",
    "        mu_cat = np.round(np.mean(df.loc[df[att_cat]==j, att]),4)\n",
    "        \n",
    "        if (df[att_cat].dtypes == np.int64):\n",
    "            mu_cat = np.round(mu_cat,1)\n",
    "            \n",
    "        dfn.loc[(df[att].isnull()) & (df[att_cat]==j), att] = mu_cat\n",
    "    \n",
    "    print('\\t %s media depois = %.4f' % (att, dfn[att].mean()))\n",
    "        \n",
    "    return dfn"
   ]
  },
  {
   "cell_type": "code",
   "execution_count": 154,
   "metadata": {},
   "outputs": [
    {
     "output_type": "stream",
     "name": "stdout",
     "text": "- preencher  desemprego  condicionado a  UF : 30 faltantes\n\t desemprego media antes = 6.6406\n\t desemprego media depois = 6.6422\n"
    }
   ],
   "source": [
    "data_fill = missing_condmean(data_nodup, 'desemprego', 'UF')"
   ]
  },
  {
   "cell_type": "markdown",
   "metadata": {},
   "source": [
    "### Questão 8)\n",
    "\n",
    "Considere o atributo 'classe' apenas para a UF 'Rio de Janeiro' e analise a distribuicao dos seus valores.\n",
    "\n",
    "Para executar um algoritmo de aprendizado em que a o atributo alvo é 'classe', qual seria a abordagem mais indicada:\n",
    "\n",
    "(a) considerar cenário desbalanceado com 2 classes minoritárias e estudar medidas para compensar esse desbalanceamento<br>\n",
    "(b) realizar análise com os dados originais, mesmo desbalanceados<br>\n",
    "(c) considerar cenário desbalanceado com 1 classes minoritárias e estudar medidas para compensar esse desbalanceamento<br>\n",
    "(d) considerar cenário desbalanceado com 4 classes minoritárias e estudar medidas para compensar esse desbalanceamento<br>"
   ]
  },
  {
   "cell_type": "code",
   "execution_count": 170,
   "metadata": {},
   "outputs": [
    {
     "output_type": "execute_result",
     "data": {
      "text/plain": "(array([ 991., 1323.,  328.,  943.,  201.,  492.,  450.,  501.,  267.,\n          69.]),\n array([ 0. ,  2.6,  5.2,  7.8, 10.4, 13. , 15.6, 18.2, 20.8, 23.4, 26. ]),\n <a list of 10 Patch objects>)"
     },
     "metadata": {},
     "execution_count": 170
    },
    {
     "output_type": "display_data",
     "data": {
      "text/plain": "<Figure size 1296x1080 with 1 Axes>",
      "image/svg+xml": "<?xml version=\"1.0\" encoding=\"utf-8\" standalone=\"no\"?>\r\n<!DOCTYPE svg PUBLIC \"-//W3C//DTD SVG 1.1//EN\"\r\n  \"http://www.w3.org/Graphics/SVG/1.1/DTD/svg11.dtd\">\r\n<!-- Created with matplotlib (https://matplotlib.org/) -->\r\n<svg height=\"846.478125pt\" version=\"1.1\" viewBox=\"0 0 1053.39858 846.478125\" width=\"1053.39858pt\" xmlns=\"http://www.w3.org/2000/svg\" xmlns:xlink=\"http://www.w3.org/1999/xlink\">\r\n <defs>\r\n  <style type=\"text/css\">\r\n*{stroke-linecap:butt;stroke-linejoin:round;}\r\n  </style>\r\n </defs>\r\n <g id=\"figure_1\">\r\n  <g id=\"patch_1\">\r\n   <path d=\"M 0 846.478125 \r\nL 1053.39858 846.478125 \r\nL 1053.39858 -0 \r\nL 0 -0 \r\nz\r\n\" style=\"fill:none;\"/>\r\n  </g>\r\n  <g id=\"axes_1\">\r\n   <g id=\"patch_2\">\r\n    <path d=\"M 39.65 822.6 \r\nL 1044.05 822.6 \r\nL 1044.05 7.2 \r\nL 39.65 7.2 \r\nz\r\n\" style=\"fill:#ffffff;\"/>\r\n   </g>\r\n   <g id=\"patch_3\">\r\n    <path clip-path=\"url(#p439c1505b8)\" d=\"M 85.304545 822.6 \r\nL 176.613636 822.6 \r\nL 176.613636 240.905151 \r\nL 85.304545 240.905151 \r\nz\r\n\" style=\"fill:#1f77b4;\"/>\r\n   </g>\r\n   <g id=\"patch_4\">\r\n    <path clip-path=\"url(#p439c1505b8)\" d=\"M 176.613636 822.6 \r\nL 267.922727 822.6 \r\nL 267.922727 46.028571 \r\nL 176.613636 46.028571 \r\nz\r\n\" style=\"fill:#1f77b4;\"/>\r\n   </g>\r\n   <g id=\"patch_5\">\r\n    <path clip-path=\"url(#p439c1505b8)\" d=\"M 267.922727 822.6 \r\nL 359.231818 822.6 \r\nL 359.231818 630.071331 \r\nL 267.922727 630.071331 \r\nz\r\n\" style=\"fill:#1f77b4;\"/>\r\n   </g>\r\n   <g id=\"patch_6\">\r\n    <path clip-path=\"url(#p439c1505b8)\" d=\"M 359.231818 822.6 \r\nL 450.540909 822.6 \r\nL 450.540909 269.080078 \r\nL 359.231818 269.080078 \r\nz\r\n\" style=\"fill:#1f77b4;\"/>\r\n   </g>\r\n   <g id=\"patch_7\">\r\n    <path clip-path=\"url(#p439c1505b8)\" d=\"M 450.540909 822.6 \r\nL 541.85 822.6 \r\nL 541.85 704.617493 \r\nL 450.540909 704.617493 \r\nz\r\n\" style=\"fill:#1f77b4;\"/>\r\n   </g>\r\n   <g id=\"patch_8\">\r\n    <path clip-path=\"url(#p439c1505b8)\" d=\"M 541.85 822.6 \r\nL 633.159091 822.6 \r\nL 633.159091 533.806997 \r\nL 541.85 533.806997 \r\nz\r\n\" style=\"fill:#1f77b4;\"/>\r\n   </g>\r\n   <g id=\"patch_9\">\r\n    <path clip-path=\"url(#p439c1505b8)\" d=\"M 633.159091 822.6 \r\nL 724.468182 822.6 \r\nL 724.468182 558.460058 \r\nL 633.159091 558.460058 \r\nz\r\n\" style=\"fill:#1f77b4;\"/>\r\n   </g>\r\n   <g id=\"patch_10\">\r\n    <path clip-path=\"url(#p439c1505b8)\" d=\"M 724.468182 822.6 \r\nL 815.777273 822.6 \r\nL 815.777273 528.524198 \r\nL 724.468182 528.524198 \r\nz\r\n\" style=\"fill:#1f77b4;\"/>\r\n   </g>\r\n   <g id=\"patch_11\">\r\n    <path clip-path=\"url(#p439c1505b8)\" d=\"M 815.777273 822.6 \r\nL 907.086364 822.6 \r\nL 907.086364 665.876968 \r\nL 815.777273 665.876968 \r\nz\r\n\" style=\"fill:#1f77b4;\"/>\r\n   </g>\r\n   <g id=\"patch_12\">\r\n    <path clip-path=\"url(#p439c1505b8)\" d=\"M 907.086364 822.6 \r\nL 998.395455 822.6 \r\nL 998.395455 782.098542 \r\nL 907.086364 782.098542 \r\nz\r\n\" style=\"fill:#1f77b4;\"/>\r\n   </g>\r\n   <g id=\"matplotlib.axis_1\">\r\n    <g id=\"xtick_1\">\r\n     <g id=\"line2d_1\">\r\n      <defs>\r\n       <path d=\"M 0 0 \r\nL 0 3.5 \r\n\" id=\"m74f3043c8f\" style=\"stroke:#000000;stroke-width:0.8;\"/>\r\n      </defs>\r\n      <g>\r\n       <use style=\"stroke:#000000;stroke-width:0.8;\" x=\"85.304545\" xlink:href=\"#m74f3043c8f\" y=\"822.6\"/>\r\n      </g>\r\n     </g>\r\n     <g id=\"text_1\">\r\n      <!-- BAHIA -->\r\n      <defs>\r\n       <path d=\"M 19.671875 34.8125 \r\nL 19.671875 8.109375 \r\nL 35.5 8.109375 \r\nQ 43.453125 8.109375 47.28125 11.40625 \r\nQ 51.125 14.703125 51.125 21.484375 \r\nQ 51.125 28.328125 47.28125 31.5625 \r\nQ 43.453125 34.8125 35.5 34.8125 \r\nz\r\nM 19.671875 64.796875 \r\nL 19.671875 42.828125 \r\nL 34.28125 42.828125 \r\nQ 41.5 42.828125 45.03125 45.53125 \r\nQ 48.578125 48.25 48.578125 53.8125 \r\nQ 48.578125 59.328125 45.03125 62.0625 \r\nQ 41.5 64.796875 34.28125 64.796875 \r\nz\r\nM 9.8125 72.90625 \r\nL 35.015625 72.90625 \r\nQ 46.296875 72.90625 52.390625 68.21875 \r\nQ 58.5 63.53125 58.5 54.890625 \r\nQ 58.5 48.1875 55.375 44.234375 \r\nQ 52.25 40.28125 46.1875 39.3125 \r\nQ 53.46875 37.75 57.5 32.78125 \r\nQ 61.53125 27.828125 61.53125 20.40625 \r\nQ 61.53125 10.640625 54.890625 5.3125 \r\nQ 48.25 0 35.984375 0 \r\nL 9.8125 0 \r\nz\r\n\" id=\"DejaVuSans-66\"/>\r\n       <path d=\"M 34.1875 63.1875 \r\nL 20.796875 26.90625 \r\nL 47.609375 26.90625 \r\nz\r\nM 28.609375 72.90625 \r\nL 39.796875 72.90625 \r\nL 67.578125 0 \r\nL 57.328125 0 \r\nL 50.6875 18.703125 \r\nL 17.828125 18.703125 \r\nL 11.1875 0 \r\nL 0.78125 0 \r\nz\r\n\" id=\"DejaVuSans-65\"/>\r\n       <path d=\"M 9.8125 72.90625 \r\nL 19.671875 72.90625 \r\nL 19.671875 43.015625 \r\nL 55.515625 43.015625 \r\nL 55.515625 72.90625 \r\nL 65.375 72.90625 \r\nL 65.375 0 \r\nL 55.515625 0 \r\nL 55.515625 34.71875 \r\nL 19.671875 34.71875 \r\nL 19.671875 0 \r\nL 9.8125 0 \r\nz\r\n\" id=\"DejaVuSans-72\"/>\r\n       <path d=\"M 9.8125 72.90625 \r\nL 19.671875 72.90625 \r\nL 19.671875 0 \r\nL 9.8125 0 \r\nz\r\n\" id=\"DejaVuSans-73\"/>\r\n      </defs>\r\n      <g transform=\"translate(69.798295 837.198437)scale(0.1 -0.1)\">\r\n       <use xlink:href=\"#DejaVuSans-66\"/>\r\n       <use x=\"68.603516\" xlink:href=\"#DejaVuSans-65\"/>\r\n       <use x=\"137.011719\" xlink:href=\"#DejaVuSans-72\"/>\r\n       <use x=\"212.207031\" xlink:href=\"#DejaVuSans-73\"/>\r\n       <use x=\"241.699219\" xlink:href=\"#DejaVuSans-65\"/>\r\n      </g>\r\n     </g>\r\n    </g>\r\n    <g id=\"xtick_2\">\r\n     <g id=\"line2d_2\">\r\n      <g>\r\n       <use style=\"stroke:#000000;stroke-width:0.8;\" x=\"120.423427\" xlink:href=\"#m74f3043c8f\" y=\"822.6\"/>\r\n      </g>\r\n     </g>\r\n     <g id=\"text_2\">\r\n      <!-- RIO GRANDE DO SUL -->\r\n      <defs>\r\n       <path d=\"M 44.390625 34.1875 \r\nQ 47.5625 33.109375 50.5625 29.59375 \r\nQ 53.5625 26.078125 56.59375 19.921875 \r\nL 66.609375 0 \r\nL 56 0 \r\nL 46.6875 18.703125 \r\nQ 43.0625 26.03125 39.671875 28.421875 \r\nQ 36.28125 30.8125 30.421875 30.8125 \r\nL 19.671875 30.8125 \r\nL 19.671875 0 \r\nL 9.8125 0 \r\nL 9.8125 72.90625 \r\nL 32.078125 72.90625 \r\nQ 44.578125 72.90625 50.734375 67.671875 \r\nQ 56.890625 62.453125 56.890625 51.90625 \r\nQ 56.890625 45.015625 53.6875 40.46875 \r\nQ 50.484375 35.9375 44.390625 34.1875 \r\nz\r\nM 19.671875 64.796875 \r\nL 19.671875 38.921875 \r\nL 32.078125 38.921875 \r\nQ 39.203125 38.921875 42.84375 42.21875 \r\nQ 46.484375 45.515625 46.484375 51.90625 \r\nQ 46.484375 58.296875 42.84375 61.546875 \r\nQ 39.203125 64.796875 32.078125 64.796875 \r\nz\r\n\" id=\"DejaVuSans-82\"/>\r\n       <path d=\"M 39.40625 66.21875 \r\nQ 28.65625 66.21875 22.328125 58.203125 \r\nQ 16.015625 50.203125 16.015625 36.375 \r\nQ 16.015625 22.609375 22.328125 14.59375 \r\nQ 28.65625 6.59375 39.40625 6.59375 \r\nQ 50.140625 6.59375 56.421875 14.59375 \r\nQ 62.703125 22.609375 62.703125 36.375 \r\nQ 62.703125 50.203125 56.421875 58.203125 \r\nQ 50.140625 66.21875 39.40625 66.21875 \r\nz\r\nM 39.40625 74.21875 \r\nQ 54.734375 74.21875 63.90625 63.9375 \r\nQ 73.09375 53.65625 73.09375 36.375 \r\nQ 73.09375 19.140625 63.90625 8.859375 \r\nQ 54.734375 -1.421875 39.40625 -1.421875 \r\nQ 24.03125 -1.421875 14.8125 8.828125 \r\nQ 5.609375 19.09375 5.609375 36.375 \r\nQ 5.609375 53.65625 14.8125 63.9375 \r\nQ 24.03125 74.21875 39.40625 74.21875 \r\nz\r\n\" id=\"DejaVuSans-79\"/>\r\n       <path id=\"DejaVuSans-32\"/>\r\n       <path d=\"M 59.515625 10.40625 \r\nL 59.515625 29.984375 \r\nL 43.40625 29.984375 \r\nL 43.40625 38.09375 \r\nL 69.28125 38.09375 \r\nL 69.28125 6.78125 \r\nQ 63.578125 2.734375 56.6875 0.65625 \r\nQ 49.8125 -1.421875 42 -1.421875 \r\nQ 24.90625 -1.421875 15.25 8.5625 \r\nQ 5.609375 18.5625 5.609375 36.375 \r\nQ 5.609375 54.25 15.25 64.234375 \r\nQ 24.90625 74.21875 42 74.21875 \r\nQ 49.125 74.21875 55.546875 72.453125 \r\nQ 61.96875 70.703125 67.390625 67.28125 \r\nL 67.390625 56.78125 \r\nQ 61.921875 61.421875 55.765625 63.765625 \r\nQ 49.609375 66.109375 42.828125 66.109375 \r\nQ 29.4375 66.109375 22.71875 58.640625 \r\nQ 16.015625 51.171875 16.015625 36.375 \r\nQ 16.015625 21.625 22.71875 14.15625 \r\nQ 29.4375 6.6875 42.828125 6.6875 \r\nQ 48.046875 6.6875 52.140625 7.59375 \r\nQ 56.25 8.5 59.515625 10.40625 \r\nz\r\n\" id=\"DejaVuSans-71\"/>\r\n       <path d=\"M 9.8125 72.90625 \r\nL 23.09375 72.90625 \r\nL 55.421875 11.921875 \r\nL 55.421875 72.90625 \r\nL 64.984375 72.90625 \r\nL 64.984375 0 \r\nL 51.703125 0 \r\nL 19.390625 60.984375 \r\nL 19.390625 0 \r\nL 9.8125 0 \r\nz\r\n\" id=\"DejaVuSans-78\"/>\r\n       <path d=\"M 19.671875 64.796875 \r\nL 19.671875 8.109375 \r\nL 31.59375 8.109375 \r\nQ 46.6875 8.109375 53.6875 14.9375 \r\nQ 60.6875 21.78125 60.6875 36.53125 \r\nQ 60.6875 51.171875 53.6875 57.984375 \r\nQ 46.6875 64.796875 31.59375 64.796875 \r\nz\r\nM 9.8125 72.90625 \r\nL 30.078125 72.90625 \r\nQ 51.265625 72.90625 61.171875 64.09375 \r\nQ 71.09375 55.28125 71.09375 36.53125 \r\nQ 71.09375 17.671875 61.125 8.828125 \r\nQ 51.171875 0 30.078125 0 \r\nL 9.8125 0 \r\nz\r\n\" id=\"DejaVuSans-68\"/>\r\n       <path d=\"M 9.8125 72.90625 \r\nL 55.90625 72.90625 \r\nL 55.90625 64.59375 \r\nL 19.671875 64.59375 \r\nL 19.671875 43.015625 \r\nL 54.390625 43.015625 \r\nL 54.390625 34.71875 \r\nL 19.671875 34.71875 \r\nL 19.671875 8.296875 \r\nL 56.78125 8.296875 \r\nL 56.78125 0 \r\nL 9.8125 0 \r\nz\r\n\" id=\"DejaVuSans-69\"/>\r\n       <path d=\"M 53.515625 70.515625 \r\nL 53.515625 60.890625 \r\nQ 47.90625 63.578125 42.921875 64.890625 \r\nQ 37.9375 66.21875 33.296875 66.21875 \r\nQ 25.25 66.21875 20.875 63.09375 \r\nQ 16.5 59.96875 16.5 54.203125 \r\nQ 16.5 49.359375 19.40625 46.890625 \r\nQ 22.3125 44.4375 30.421875 42.921875 \r\nL 36.375 41.703125 \r\nQ 47.40625 39.59375 52.65625 34.296875 \r\nQ 57.90625 29 57.90625 20.125 \r\nQ 57.90625 9.515625 50.796875 4.046875 \r\nQ 43.703125 -1.421875 29.984375 -1.421875 \r\nQ 24.8125 -1.421875 18.96875 -0.25 \r\nQ 13.140625 0.921875 6.890625 3.21875 \r\nL 6.890625 13.375 \r\nQ 12.890625 10.015625 18.65625 8.296875 \r\nQ 24.421875 6.59375 29.984375 6.59375 \r\nQ 38.421875 6.59375 43.015625 9.90625 \r\nQ 47.609375 13.234375 47.609375 19.390625 \r\nQ 47.609375 24.75 44.3125 27.78125 \r\nQ 41.015625 30.8125 33.5 32.328125 \r\nL 27.484375 33.5 \r\nQ 16.453125 35.6875 11.515625 40.375 \r\nQ 6.59375 45.0625 6.59375 53.421875 \r\nQ 6.59375 63.09375 13.40625 68.65625 \r\nQ 20.21875 74.21875 32.171875 74.21875 \r\nQ 37.3125 74.21875 42.625 73.28125 \r\nQ 47.953125 72.359375 53.515625 70.515625 \r\nz\r\n\" id=\"DejaVuSans-83\"/>\r\n       <path d=\"M 8.6875 72.90625 \r\nL 18.609375 72.90625 \r\nL 18.609375 28.609375 \r\nQ 18.609375 16.890625 22.84375 11.734375 \r\nQ 27.09375 6.59375 36.625 6.59375 \r\nQ 46.09375 6.59375 50.34375 11.734375 \r\nQ 54.59375 16.890625 54.59375 28.609375 \r\nL 54.59375 72.90625 \r\nL 64.5 72.90625 \r\nL 64.5 27.390625 \r\nQ 64.5 13.140625 57.4375 5.859375 \r\nQ 50.390625 -1.421875 36.625 -1.421875 \r\nQ 22.796875 -1.421875 15.734375 5.859375 \r\nQ 8.6875 13.140625 8.6875 27.390625 \r\nz\r\n\" id=\"DejaVuSans-85\"/>\r\n       <path d=\"M 9.8125 72.90625 \r\nL 19.671875 72.90625 \r\nL 19.671875 8.296875 \r\nL 55.171875 8.296875 \r\nL 55.171875 0 \r\nL 9.8125 0 \r\nz\r\n\" id=\"DejaVuSans-76\"/>\r\n      </defs>\r\n      <g transform=\"translate(67.849989 837.198437)scale(0.1 -0.1)\">\r\n       <use xlink:href=\"#DejaVuSans-82\"/>\r\n       <use x=\"69.482422\" xlink:href=\"#DejaVuSans-73\"/>\r\n       <use x=\"98.974609\" xlink:href=\"#DejaVuSans-79\"/>\r\n       <use x=\"177.685547\" xlink:href=\"#DejaVuSans-32\"/>\r\n       <use x=\"209.472656\" xlink:href=\"#DejaVuSans-71\"/>\r\n       <use x=\"286.962891\" xlink:href=\"#DejaVuSans-82\"/>\r\n       <use x=\"356.382812\" xlink:href=\"#DejaVuSans-65\"/>\r\n       <use x=\"424.791016\" xlink:href=\"#DejaVuSans-78\"/>\r\n       <use x=\"499.595703\" xlink:href=\"#DejaVuSans-68\"/>\r\n       <use x=\"576.597656\" xlink:href=\"#DejaVuSans-69\"/>\r\n       <use x=\"639.78125\" xlink:href=\"#DejaVuSans-32\"/>\r\n       <use x=\"671.568359\" xlink:href=\"#DejaVuSans-68\"/>\r\n       <use x=\"748.570312\" xlink:href=\"#DejaVuSans-79\"/>\r\n       <use x=\"827.28125\" xlink:href=\"#DejaVuSans-32\"/>\r\n       <use x=\"859.068359\" xlink:href=\"#DejaVuSans-83\"/>\r\n       <use x=\"922.544922\" xlink:href=\"#DejaVuSans-85\"/>\r\n       <use x=\"995.738281\" xlink:href=\"#DejaVuSans-76\"/>\r\n      </g>\r\n     </g>\r\n    </g>\r\n    <g id=\"xtick_3\">\r\n     <g id=\"line2d_3\">\r\n      <g>\r\n       <use style=\"stroke:#000000;stroke-width:0.8;\" x=\"155.542308\" xlink:href=\"#m74f3043c8f\" y=\"822.6\"/>\r\n      </g>\r\n     </g>\r\n     <g id=\"text_3\">\r\n      <!-- ESPIRITO SANTO -->\r\n      <defs>\r\n       <path d=\"M 19.671875 64.796875 \r\nL 19.671875 37.40625 \r\nL 32.078125 37.40625 \r\nQ 38.96875 37.40625 42.71875 40.96875 \r\nQ 46.484375 44.53125 46.484375 51.125 \r\nQ 46.484375 57.671875 42.71875 61.234375 \r\nQ 38.96875 64.796875 32.078125 64.796875 \r\nz\r\nM 9.8125 72.90625 \r\nL 32.078125 72.90625 \r\nQ 44.34375 72.90625 50.609375 67.359375 \r\nQ 56.890625 61.8125 56.890625 51.125 \r\nQ 56.890625 40.328125 50.609375 34.8125 \r\nQ 44.34375 29.296875 32.078125 29.296875 \r\nL 19.671875 29.296875 \r\nL 19.671875 0 \r\nL 9.8125 0 \r\nz\r\n\" id=\"DejaVuSans-80\"/>\r\n       <path d=\"M -0.296875 72.90625 \r\nL 61.375 72.90625 \r\nL 61.375 64.59375 \r\nL 35.5 64.59375 \r\nL 35.5 0 \r\nL 25.59375 0 \r\nL 25.59375 64.59375 \r\nL -0.296875 64.59375 \r\nz\r\n\" id=\"DejaVuSans-84\"/>\r\n      </defs>\r\n      <g transform=\"translate(113.864964 837.198437)scale(0.1 -0.1)\">\r\n       <use xlink:href=\"#DejaVuSans-69\"/>\r\n       <use x=\"63.183594\" xlink:href=\"#DejaVuSans-83\"/>\r\n       <use x=\"126.660156\" xlink:href=\"#DejaVuSans-80\"/>\r\n       <use x=\"186.962891\" xlink:href=\"#DejaVuSans-73\"/>\r\n       <use x=\"216.455078\" xlink:href=\"#DejaVuSans-82\"/>\r\n       <use x=\"285.9375\" xlink:href=\"#DejaVuSans-73\"/>\r\n       <use x=\"315.429688\" xlink:href=\"#DejaVuSans-84\"/>\r\n       <use x=\"376.513672\" xlink:href=\"#DejaVuSans-79\"/>\r\n       <use x=\"455.224609\" xlink:href=\"#DejaVuSans-32\"/>\r\n       <use x=\"487.011719\" xlink:href=\"#DejaVuSans-83\"/>\r\n       <use x=\"550.503906\" xlink:href=\"#DejaVuSans-65\"/>\r\n       <use x=\"618.912109\" xlink:href=\"#DejaVuSans-78\"/>\r\n       <use x=\"693.716797\" xlink:href=\"#DejaVuSans-84\"/>\r\n       <use x=\"754.800781\" xlink:href=\"#DejaVuSans-79\"/>\r\n      </g>\r\n     </g>\r\n    </g>\r\n    <g id=\"xtick_4\">\r\n     <g id=\"line2d_4\">\r\n      <g>\r\n       <use style=\"stroke:#000000;stroke-width:0.8;\" x=\"190.661189\" xlink:href=\"#m74f3043c8f\" y=\"822.6\"/>\r\n      </g>\r\n     </g>\r\n     <g id=\"text_4\">\r\n      <!-- MINAS GERAIS -->\r\n      <defs>\r\n       <path d=\"M 9.8125 72.90625 \r\nL 24.515625 72.90625 \r\nL 43.109375 23.296875 \r\nL 61.8125 72.90625 \r\nL 76.515625 72.90625 \r\nL 76.515625 0 \r\nL 66.890625 0 \r\nL 66.890625 64.015625 \r\nL 48.09375 14.015625 \r\nL 38.1875 14.015625 \r\nL 19.390625 64.015625 \r\nL 19.390625 0 \r\nL 9.8125 0 \r\nz\r\n\" id=\"DejaVuSans-77\"/>\r\n      </defs>\r\n      <g transform=\"translate(154.373689 837.198437)scale(0.1 -0.1)\">\r\n       <use xlink:href=\"#DejaVuSans-77\"/>\r\n       <use x=\"86.279297\" xlink:href=\"#DejaVuSans-73\"/>\r\n       <use x=\"115.771484\" xlink:href=\"#DejaVuSans-78\"/>\r\n       <use x=\"190.576172\" xlink:href=\"#DejaVuSans-65\"/>\r\n       <use x=\"258.984375\" xlink:href=\"#DejaVuSans-83\"/>\r\n       <use x=\"322.460938\" xlink:href=\"#DejaVuSans-32\"/>\r\n       <use x=\"354.248047\" xlink:href=\"#DejaVuSans-71\"/>\r\n       <use x=\"431.738281\" xlink:href=\"#DejaVuSans-69\"/>\r\n       <use x=\"494.921875\" xlink:href=\"#DejaVuSans-82\"/>\r\n       <use x=\"564.341797\" xlink:href=\"#DejaVuSans-65\"/>\r\n       <use x=\"632.75\" xlink:href=\"#DejaVuSans-73\"/>\r\n       <use x=\"662.242188\" xlink:href=\"#DejaVuSans-83\"/>\r\n      </g>\r\n     </g>\r\n    </g>\r\n    <g id=\"xtick_5\">\r\n     <g id=\"line2d_5\">\r\n      <g>\r\n       <use style=\"stroke:#000000;stroke-width:0.8;\" x=\"225.78007\" xlink:href=\"#m74f3043c8f\" y=\"822.6\"/>\r\n      </g>\r\n     </g>\r\n     <g id=\"text_5\">\r\n      <!-- PIAUÍ -->\r\n      <defs>\r\n       <path d=\"M 9.8125 72.90625 \r\nL 19.671875 72.90625 \r\nL 19.671875 0 \r\nL 9.8125 0 \r\nz\r\nM 17.484375 92.734375 \r\nL 26.515625 92.734375 \r\nL 15.375 79.84375 \r\nL 7.90625 79.84375 \r\nz\r\n\" id=\"DejaVuSans-205\"/>\r\n      </defs>\r\n      <g transform=\"translate(212.735539 837.198437)scale(0.1 -0.1)\">\r\n       <use xlink:href=\"#DejaVuSans-80\"/>\r\n       <use x=\"60.302734\" xlink:href=\"#DejaVuSans-73\"/>\r\n       <use x=\"89.794922\" xlink:href=\"#DejaVuSans-65\"/>\r\n       <use x=\"158.203125\" xlink:href=\"#DejaVuSans-85\"/>\r\n       <use x=\"231.396484\" xlink:href=\"#DejaVuSans-205\"/>\r\n      </g>\r\n     </g>\r\n    </g>\r\n    <g id=\"xtick_6\">\r\n     <g id=\"line2d_6\">\r\n      <g>\r\n       <use style=\"stroke:#000000;stroke-width:0.8;\" x=\"260.898951\" xlink:href=\"#m74f3043c8f\" y=\"822.6\"/>\r\n      </g>\r\n     </g>\r\n     <g id=\"text_6\">\r\n      <!-- GOIÁS -->\r\n      <defs>\r\n       <path d=\"M 34.1875 63.1875 \r\nL 20.796875 26.90625 \r\nL 47.609375 26.90625 \r\nz\r\nM 28.609375 72.90625 \r\nL 39.796875 72.90625 \r\nL 67.578125 0 \r\nL 57.328125 0 \r\nL 50.6875 18.703125 \r\nL 17.828125 18.703125 \r\nL 11.1875 0 \r\nL 0.78125 0 \r\nz\r\nM 36.859375 92.734375 \r\nL 45.90625 92.734375 \r\nL 34.765625 79.84375 \r\nL 27.296875 79.84375 \r\nz\r\n\" id=\"DejaVuSans-193\"/>\r\n      </defs>\r\n      <g transform=\"translate(245.019264 837.198437)scale(0.1 -0.1)\">\r\n       <use xlink:href=\"#DejaVuSans-71\"/>\r\n       <use x=\"77.490234\" xlink:href=\"#DejaVuSans-79\"/>\r\n       <use x=\"156.201172\" xlink:href=\"#DejaVuSans-73\"/>\r\n       <use x=\"185.693359\" xlink:href=\"#DejaVuSans-193\"/>\r\n       <use x=\"254.101562\" xlink:href=\"#DejaVuSans-83\"/>\r\n      </g>\r\n     </g>\r\n    </g>\r\n    <g id=\"xtick_7\">\r\n     <g id=\"line2d_7\">\r\n      <g>\r\n       <use style=\"stroke:#000000;stroke-width:0.8;\" x=\"296.017832\" xlink:href=\"#m74f3043c8f\" y=\"822.6\"/>\r\n      </g>\r\n     </g>\r\n     <g id=\"text_7\">\r\n      <!-- PERNAMBUCO -->\r\n      <defs>\r\n       <path d=\"M 64.40625 67.28125 \r\nL 64.40625 56.890625 \r\nQ 59.421875 61.53125 53.78125 63.8125 \r\nQ 48.140625 66.109375 41.796875 66.109375 \r\nQ 29.296875 66.109375 22.65625 58.46875 \r\nQ 16.015625 50.828125 16.015625 36.375 \r\nQ 16.015625 21.96875 22.65625 14.328125 \r\nQ 29.296875 6.6875 41.796875 6.6875 \r\nQ 48.140625 6.6875 53.78125 8.984375 \r\nQ 59.421875 11.28125 64.40625 15.921875 \r\nL 64.40625 5.609375 \r\nQ 59.234375 2.09375 53.4375 0.328125 \r\nQ 47.65625 -1.421875 41.21875 -1.421875 \r\nQ 24.65625 -1.421875 15.125 8.703125 \r\nQ 5.609375 18.84375 5.609375 36.375 \r\nQ 5.609375 53.953125 15.125 64.078125 \r\nQ 24.65625 74.21875 41.21875 74.21875 \r\nQ 47.75 74.21875 53.53125 72.484375 \r\nQ 59.328125 70.75 64.40625 67.28125 \r\nz\r\n\" id=\"DejaVuSans-67\"/>\r\n      </defs>\r\n      <g transform=\"translate(260.377207 837.198437)scale(0.1 -0.1)\">\r\n       <use xlink:href=\"#DejaVuSans-80\"/>\r\n       <use x=\"60.302734\" xlink:href=\"#DejaVuSans-69\"/>\r\n       <use x=\"123.486328\" xlink:href=\"#DejaVuSans-82\"/>\r\n       <use x=\"192.96875\" xlink:href=\"#DejaVuSans-78\"/>\r\n       <use x=\"267.773438\" xlink:href=\"#DejaVuSans-65\"/>\r\n       <use x=\"336.181641\" xlink:href=\"#DejaVuSans-77\"/>\r\n       <use x=\"422.460938\" xlink:href=\"#DejaVuSans-66\"/>\r\n       <use x=\"491.064453\" xlink:href=\"#DejaVuSans-85\"/>\r\n       <use x=\"564.257812\" xlink:href=\"#DejaVuSans-67\"/>\r\n       <use x=\"634.082031\" xlink:href=\"#DejaVuSans-79\"/>\r\n      </g>\r\n     </g>\r\n    </g>\r\n    <g id=\"xtick_8\">\r\n     <g id=\"line2d_8\">\r\n      <g>\r\n       <use style=\"stroke:#000000;stroke-width:0.8;\" x=\"331.136713\" xlink:href=\"#m74f3043c8f\" y=\"822.6\"/>\r\n      </g>\r\n     </g>\r\n     <g id=\"text_8\">\r\n      <!-- PARÁ -->\r\n      <g transform=\"translate(317.814838 837.198437)scale(0.1 -0.1)\">\r\n       <use xlink:href=\"#DejaVuSans-80\"/>\r\n       <use x=\"60.208984\" xlink:href=\"#DejaVuSans-65\"/>\r\n       <use x=\"128.617188\" xlink:href=\"#DejaVuSans-82\"/>\r\n       <use x=\"198.037109\" xlink:href=\"#DejaVuSans-193\"/>\r\n      </g>\r\n     </g>\r\n    </g>\r\n    <g id=\"xtick_9\">\r\n     <g id=\"line2d_9\">\r\n      <g>\r\n       <use style=\"stroke:#000000;stroke-width:0.8;\" x=\"366.255594\" xlink:href=\"#m74f3043c8f\" y=\"822.6\"/>\r\n      </g>\r\n     </g>\r\n     <g id=\"text_9\">\r\n      <!-- SERGIPE -->\r\n      <g transform=\"translate(344.924344 837.198437)scale(0.1 -0.1)\">\r\n       <use xlink:href=\"#DejaVuSans-83\"/>\r\n       <use x=\"63.476562\" xlink:href=\"#DejaVuSans-69\"/>\r\n       <use x=\"126.660156\" xlink:href=\"#DejaVuSans-82\"/>\r\n       <use x=\"196.142578\" xlink:href=\"#DejaVuSans-71\"/>\r\n       <use x=\"273.632812\" xlink:href=\"#DejaVuSans-73\"/>\r\n       <use x=\"303.125\" xlink:href=\"#DejaVuSans-80\"/>\r\n       <use x=\"363.427734\" xlink:href=\"#DejaVuSans-69\"/>\r\n      </g>\r\n     </g>\r\n    </g>\r\n    <g id=\"xtick_10\">\r\n     <g id=\"line2d_10\">\r\n      <g>\r\n       <use style=\"stroke:#000000;stroke-width:0.8;\" x=\"401.374476\" xlink:href=\"#m74f3043c8f\" y=\"822.6\"/>\r\n      </g>\r\n     </g>\r\n     <g id=\"text_10\">\r\n      <!-- SÃO PAULO -->\r\n      <defs>\r\n       <path d=\"M 34.1875 63.1875 \r\nL 20.796875 26.90625 \r\nL 47.609375 26.90625 \r\nz\r\nM 28.609375 72.90625 \r\nL 39.796875 72.90625 \r\nL 67.578125 0 \r\nL 57.328125 0 \r\nL 50.6875 18.703125 \r\nL 17.828125 18.703125 \r\nL 11.1875 0 \r\nL 0.78125 0 \r\nz\r\nM 33.984375 83.5 \r\nL 31.203125 85.109375 \r\nQ 29.984375 85.796875 29.21875 86.0625 \r\nQ 28.46875 86.328125 27.875 86.328125 \r\nQ 26.125 86.328125 25.140625 85.109375 \r\nQ 24.171875 83.890625 24.171875 81.703125 \r\nL 24.171875 81.40625 \r\nL 18.0625 81.40625 \r\nQ 18.0625 86.328125 20.578125 89.203125 \r\nQ 23.09375 92.09375 27.296875 92.09375 \r\nQ 29.046875 92.09375 30.53125 91.703125 \r\nQ 32.03125 91.3125 34.375 90 \r\nL 37.15625 88.53125 \r\nQ 38.28125 87.890625 39.109375 87.59375 \r\nQ 39.9375 87.3125 40.671875 87.3125 \r\nQ 42.234375 87.3125 43.203125 88.546875 \r\nQ 44.1875 89.796875 44.1875 91.796875 \r\nL 44.1875 92.09375 \r\nL 50.296875 92.09375 \r\nQ 50.203125 87.21875 47.6875 84.3125 \r\nQ 45.171875 81.40625 41.0625 81.40625 \r\nQ 39.40625 81.40625 37.96875 81.796875 \r\nQ 36.53125 82.1875 33.984375 83.5 \r\nz\r\n\" id=\"DejaVuSans-195\"/>\r\n      </defs>\r\n      <g transform=\"translate(372.445569 837.198437)scale(0.1 -0.1)\">\r\n       <use xlink:href=\"#DejaVuSans-83\"/>\r\n       <use x=\"63.492188\" xlink:href=\"#DejaVuSans-195\"/>\r\n       <use x=\"131.884766\" xlink:href=\"#DejaVuSans-79\"/>\r\n       <use x=\"210.595703\" xlink:href=\"#DejaVuSans-32\"/>\r\n       <use x=\"242.382812\" xlink:href=\"#DejaVuSans-80\"/>\r\n       <use x=\"302.591797\" xlink:href=\"#DejaVuSans-65\"/>\r\n       <use x=\"371\" xlink:href=\"#DejaVuSans-85\"/>\r\n       <use x=\"444.193359\" xlink:href=\"#DejaVuSans-76\"/>\r\n       <use x=\"499.859375\" xlink:href=\"#DejaVuSans-79\"/>\r\n      </g>\r\n     </g>\r\n    </g>\r\n    <g id=\"xtick_11\">\r\n     <g id=\"line2d_11\">\r\n      <g>\r\n       <use style=\"stroke:#000000;stroke-width:0.8;\" x=\"436.493357\" xlink:href=\"#m74f3043c8f\" y=\"822.6\"/>\r\n      </g>\r\n     </g>\r\n     <g id=\"text_11\">\r\n      <!-- PARAÍBA -->\r\n      <g transform=\"translate(414.8457 837.198437)scale(0.1 -0.1)\">\r\n       <use xlink:href=\"#DejaVuSans-80\"/>\r\n       <use x=\"60.208984\" xlink:href=\"#DejaVuSans-65\"/>\r\n       <use x=\"128.617188\" xlink:href=\"#DejaVuSans-82\"/>\r\n       <use x=\"198.037109\" xlink:href=\"#DejaVuSans-65\"/>\r\n       <use x=\"266.445312\" xlink:href=\"#DejaVuSans-205\"/>\r\n       <use x=\"295.9375\" xlink:href=\"#DejaVuSans-66\"/>\r\n       <use x=\"364.541016\" xlink:href=\"#DejaVuSans-65\"/>\r\n      </g>\r\n     </g>\r\n    </g>\r\n    <g id=\"xtick_12\">\r\n     <g id=\"line2d_12\">\r\n      <g>\r\n       <use style=\"stroke:#000000;stroke-width:0.8;\" x=\"471.612238\" xlink:href=\"#m74f3043c8f\" y=\"822.6\"/>\r\n      </g>\r\n     </g>\r\n     <g id=\"text_12\">\r\n      <!-- TOCANTINS -->\r\n      <g transform=\"translate(442.5263 837.198437)scale(0.1 -0.1)\">\r\n       <use xlink:href=\"#DejaVuSans-84\"/>\r\n       <use x=\"61.083984\" xlink:href=\"#DejaVuSans-79\"/>\r\n       <use x=\"139.794922\" xlink:href=\"#DejaVuSans-67\"/>\r\n       <use x=\"209.619141\" xlink:href=\"#DejaVuSans-65\"/>\r\n       <use x=\"278.027344\" xlink:href=\"#DejaVuSans-78\"/>\r\n       <use x=\"352.832031\" xlink:href=\"#DejaVuSans-84\"/>\r\n       <use x=\"413.916016\" xlink:href=\"#DejaVuSans-73\"/>\r\n       <use x=\"443.408203\" xlink:href=\"#DejaVuSans-78\"/>\r\n       <use x=\"518.212891\" xlink:href=\"#DejaVuSans-83\"/>\r\n      </g>\r\n     </g>\r\n    </g>\r\n    <g id=\"xtick_13\">\r\n     <g id=\"line2d_13\">\r\n      <g>\r\n       <use style=\"stroke:#000000;stroke-width:0.8;\" x=\"506.731119\" xlink:href=\"#m74f3043c8f\" y=\"822.6\"/>\r\n      </g>\r\n     </g>\r\n     <g id=\"text_13\">\r\n      <!-- AMAZONAS -->\r\n      <defs>\r\n       <path d=\"M 5.609375 72.90625 \r\nL 62.890625 72.90625 \r\nL 62.890625 65.375 \r\nL 16.796875 8.296875 \r\nL 64.015625 8.296875 \r\nL 64.015625 0 \r\nL 4.5 0 \r\nL 4.5 7.515625 \r\nL 50.59375 64.59375 \r\nL 5.609375 64.59375 \r\nz\r\n\" id=\"DejaVuSans-90\"/>\r\n      </defs>\r\n      <g transform=\"translate(477.880338 837.198437)scale(0.1 -0.1)\">\r\n       <use xlink:href=\"#DejaVuSans-65\"/>\r\n       <use x=\"68.408203\" xlink:href=\"#DejaVuSans-77\"/>\r\n       <use x=\"154.6875\" xlink:href=\"#DejaVuSans-65\"/>\r\n       <use x=\"223.095703\" xlink:href=\"#DejaVuSans-90\"/>\r\n       <use x=\"291.601562\" xlink:href=\"#DejaVuSans-79\"/>\r\n       <use x=\"370.3125\" xlink:href=\"#DejaVuSans-78\"/>\r\n       <use x=\"445.117188\" xlink:href=\"#DejaVuSans-65\"/>\r\n       <use x=\"513.525391\" xlink:href=\"#DejaVuSans-83\"/>\r\n      </g>\r\n     </g>\r\n    </g>\r\n    <g id=\"xtick_14\">\r\n     <g id=\"line2d_14\">\r\n      <g>\r\n       <use style=\"stroke:#000000;stroke-width:0.8;\" x=\"541.85\" xlink:href=\"#m74f3043c8f\" y=\"822.6\"/>\r\n      </g>\r\n     </g>\r\n     <g id=\"text_14\">\r\n      <!-- SANTA CATARINA -->\r\n      <g transform=\"translate(497.971094 837.198437)scale(0.1 -0.1)\">\r\n       <use xlink:href=\"#DejaVuSans-83\"/>\r\n       <use x=\"63.492188\" xlink:href=\"#DejaVuSans-65\"/>\r\n       <use x=\"131.900391\" xlink:href=\"#DejaVuSans-78\"/>\r\n       <use x=\"206.705078\" xlink:href=\"#DejaVuSans-84\"/>\r\n       <use x=\"267.679688\" xlink:href=\"#DejaVuSans-65\"/>\r\n       <use x=\"336.087891\" xlink:href=\"#DejaVuSans-32\"/>\r\n       <use x=\"367.875\" xlink:href=\"#DejaVuSans-67\"/>\r\n       <use x=\"437.699219\" xlink:href=\"#DejaVuSans-65\"/>\r\n       <use x=\"505.998047\" xlink:href=\"#DejaVuSans-84\"/>\r\n       <use x=\"566.972656\" xlink:href=\"#DejaVuSans-65\"/>\r\n       <use x=\"635.380859\" xlink:href=\"#DejaVuSans-82\"/>\r\n       <use x=\"704.863281\" xlink:href=\"#DejaVuSans-73\"/>\r\n       <use x=\"734.355469\" xlink:href=\"#DejaVuSans-78\"/>\r\n       <use x=\"809.160156\" xlink:href=\"#DejaVuSans-65\"/>\r\n      </g>\r\n     </g>\r\n    </g>\r\n    <g id=\"xtick_15\">\r\n     <g id=\"line2d_15\">\r\n      <g>\r\n       <use style=\"stroke:#000000;stroke-width:0.8;\" x=\"576.968881\" xlink:href=\"#m74f3043c8f\" y=\"822.6\"/>\r\n      </g>\r\n     </g>\r\n     <g id=\"text_15\">\r\n      <!-- CEARÁ -->\r\n      <g transform=\"translate(560.006381 837.198437)scale(0.1 -0.1)\">\r\n       <use xlink:href=\"#DejaVuSans-67\"/>\r\n       <use x=\"69.824219\" xlink:href=\"#DejaVuSans-69\"/>\r\n       <use x=\"133.007812\" xlink:href=\"#DejaVuSans-65\"/>\r\n       <use x=\"201.416016\" xlink:href=\"#DejaVuSans-82\"/>\r\n       <use x=\"270.835938\" xlink:href=\"#DejaVuSans-193\"/>\r\n      </g>\r\n     </g>\r\n    </g>\r\n    <g id=\"xtick_16\">\r\n     <g id=\"line2d_16\">\r\n      <g>\r\n       <use style=\"stroke:#000000;stroke-width:0.8;\" x=\"612.087762\" xlink:href=\"#m74f3043c8f\" y=\"822.6\"/>\r\n      </g>\r\n     </g>\r\n     <g id=\"text_16\">\r\n      <!-- RORAIMA -->\r\n      <g transform=\"translate(588.576825 837.198437)scale(0.1 -0.1)\">\r\n       <use xlink:href=\"#DejaVuSans-82\"/>\r\n       <use x=\"69.482422\" xlink:href=\"#DejaVuSans-79\"/>\r\n       <use x=\"148.193359\" xlink:href=\"#DejaVuSans-82\"/>\r\n       <use x=\"217.613281\" xlink:href=\"#DejaVuSans-65\"/>\r\n       <use x=\"286.021484\" xlink:href=\"#DejaVuSans-73\"/>\r\n       <use x=\"315.513672\" xlink:href=\"#DejaVuSans-77\"/>\r\n       <use x=\"401.792969\" xlink:href=\"#DejaVuSans-65\"/>\r\n      </g>\r\n     </g>\r\n    </g>\r\n    <g id=\"xtick_17\">\r\n     <g id=\"line2d_17\">\r\n      <g>\r\n       <use style=\"stroke:#000000;stroke-width:0.8;\" x=\"647.206643\" xlink:href=\"#m74f3043c8f\" y=\"822.6\"/>\r\n      </g>\r\n     </g>\r\n     <g id=\"text_17\">\r\n      <!-- MARANHÃO -->\r\n      <g transform=\"translate(617.724612 837.198437)scale(0.1 -0.1)\">\r\n       <use xlink:href=\"#DejaVuSans-77\"/>\r\n       <use x=\"86.279297\" xlink:href=\"#DejaVuSans-65\"/>\r\n       <use x=\"154.6875\" xlink:href=\"#DejaVuSans-82\"/>\r\n       <use x=\"224.107422\" xlink:href=\"#DejaVuSans-65\"/>\r\n       <use x=\"292.515625\" xlink:href=\"#DejaVuSans-78\"/>\r\n       <use x=\"367.320312\" xlink:href=\"#DejaVuSans-72\"/>\r\n       <use x=\"442.515625\" xlink:href=\"#DejaVuSans-195\"/>\r\n       <use x=\"510.908203\" xlink:href=\"#DejaVuSans-79\"/>\r\n      </g>\r\n     </g>\r\n    </g>\r\n    <g id=\"xtick_18\">\r\n     <g id=\"line2d_18\">\r\n      <g>\r\n       <use style=\"stroke:#000000;stroke-width:0.8;\" x=\"682.325524\" xlink:href=\"#m74f3043c8f\" y=\"822.6\"/>\r\n      </g>\r\n     </g>\r\n     <g id=\"text_18\">\r\n      <!-- RIO DE JANEIRO -->\r\n      <defs>\r\n       <path d=\"M 9.8125 72.90625 \r\nL 19.671875 72.90625 \r\nL 19.671875 5.078125 \r\nQ 19.671875 -8.109375 14.671875 -14.0625 \r\nQ 9.671875 -20.015625 -1.421875 -20.015625 \r\nL -5.171875 -20.015625 \r\nL -5.171875 -11.71875 \r\nL -2.09375 -11.71875 \r\nQ 4.4375 -11.71875 7.125 -8.046875 \r\nQ 9.8125 -4.390625 9.8125 5.078125 \r\nz\r\n\" id=\"DejaVuSans-74\"/>\r\n      </defs>\r\n      <g transform=\"translate(642.573181 837.198437)scale(0.1 -0.1)\">\r\n       <use xlink:href=\"#DejaVuSans-82\"/>\r\n       <use x=\"69.482422\" xlink:href=\"#DejaVuSans-73\"/>\r\n       <use x=\"98.974609\" xlink:href=\"#DejaVuSans-79\"/>\r\n       <use x=\"177.685547\" xlink:href=\"#DejaVuSans-32\"/>\r\n       <use x=\"209.472656\" xlink:href=\"#DejaVuSans-68\"/>\r\n       <use x=\"286.474609\" xlink:href=\"#DejaVuSans-69\"/>\r\n       <use x=\"349.658203\" xlink:href=\"#DejaVuSans-32\"/>\r\n       <use x=\"381.445312\" xlink:href=\"#DejaVuSans-74\"/>\r\n       <use x=\"410.921875\" xlink:href=\"#DejaVuSans-65\"/>\r\n       <use x=\"479.330078\" xlink:href=\"#DejaVuSans-78\"/>\r\n       <use x=\"554.134766\" xlink:href=\"#DejaVuSans-69\"/>\r\n       <use x=\"617.318359\" xlink:href=\"#DejaVuSans-73\"/>\r\n       <use x=\"646.810547\" xlink:href=\"#DejaVuSans-82\"/>\r\n       <use x=\"716.292969\" xlink:href=\"#DejaVuSans-79\"/>\r\n      </g>\r\n     </g>\r\n    </g>\r\n    <g id=\"xtick_19\">\r\n     <g id=\"line2d_19\">\r\n      <g>\r\n       <use style=\"stroke:#000000;stroke-width:0.8;\" x=\"717.444406\" xlink:href=\"#m74f3043c8f\" y=\"822.6\"/>\r\n      </g>\r\n     </g>\r\n     <g id=\"text_19\">\r\n      <!-- MATO GROSSO -->\r\n      <g transform=\"translate(679.567843 837.198437)scale(0.1 -0.1)\">\r\n       <use xlink:href=\"#DejaVuSans-77\"/>\r\n       <use x=\"86.279297\" xlink:href=\"#DejaVuSans-65\"/>\r\n       <use x=\"154.578125\" xlink:href=\"#DejaVuSans-84\"/>\r\n       <use x=\"215.662109\" xlink:href=\"#DejaVuSans-79\"/>\r\n       <use x=\"294.373047\" xlink:href=\"#DejaVuSans-32\"/>\r\n       <use x=\"326.160156\" xlink:href=\"#DejaVuSans-71\"/>\r\n       <use x=\"403.650391\" xlink:href=\"#DejaVuSans-82\"/>\r\n       <use x=\"473.132812\" xlink:href=\"#DejaVuSans-79\"/>\r\n       <use x=\"551.84375\" xlink:href=\"#DejaVuSans-83\"/>\r\n       <use x=\"615.320312\" xlink:href=\"#DejaVuSans-83\"/>\r\n       <use x=\"678.796875\" xlink:href=\"#DejaVuSans-79\"/>\r\n      </g>\r\n     </g>\r\n    </g>\r\n    <g id=\"xtick_20\">\r\n     <g id=\"line2d_20\">\r\n      <g>\r\n       <use style=\"stroke:#000000;stroke-width:0.8;\" x=\"752.563287\" xlink:href=\"#m74f3043c8f\" y=\"822.6\"/>\r\n      </g>\r\n     </g>\r\n     <g id=\"text_20\">\r\n      <!-- PARANÁ -->\r\n      <g transform=\"translate(732.080474 837.198437)scale(0.1 -0.1)\">\r\n       <use xlink:href=\"#DejaVuSans-80\"/>\r\n       <use x=\"60.208984\" xlink:href=\"#DejaVuSans-65\"/>\r\n       <use x=\"128.617188\" xlink:href=\"#DejaVuSans-82\"/>\r\n       <use x=\"198.037109\" xlink:href=\"#DejaVuSans-65\"/>\r\n       <use x=\"266.445312\" xlink:href=\"#DejaVuSans-78\"/>\r\n       <use x=\"341.25\" xlink:href=\"#DejaVuSans-193\"/>\r\n      </g>\r\n     </g>\r\n    </g>\r\n    <g id=\"xtick_21\">\r\n     <g id=\"line2d_21\">\r\n      <g>\r\n       <use style=\"stroke:#000000;stroke-width:0.8;\" x=\"787.682168\" xlink:href=\"#m74f3043c8f\" y=\"822.6\"/>\r\n      </g>\r\n     </g>\r\n     <g id=\"text_21\">\r\n      <!-- ALAGOAS -->\r\n      <g transform=\"translate(763.650918 837.198437)scale(0.1 -0.1)\">\r\n       <use xlink:href=\"#DejaVuSans-65\"/>\r\n       <use x=\"68.408203\" xlink:href=\"#DejaVuSans-76\"/>\r\n       <use x=\"124.152344\" xlink:href=\"#DejaVuSans-65\"/>\r\n       <use x=\"192.544922\" xlink:href=\"#DejaVuSans-71\"/>\r\n       <use x=\"270.035156\" xlink:href=\"#DejaVuSans-79\"/>\r\n       <use x=\"348.730469\" xlink:href=\"#DejaVuSans-65\"/>\r\n       <use x=\"417.138672\" xlink:href=\"#DejaVuSans-83\"/>\r\n      </g>\r\n     </g>\r\n    </g>\r\n    <g id=\"xtick_22\">\r\n     <g id=\"line2d_22\">\r\n      <g>\r\n       <use style=\"stroke:#000000;stroke-width:0.8;\" x=\"822.801049\" xlink:href=\"#m74f3043c8f\" y=\"822.6\"/>\r\n      </g>\r\n     </g>\r\n     <g id=\"text_22\">\r\n      <!-- MATO GROSSO DO SUL -->\r\n      <g transform=\"translate(764.340893 837.198437)scale(0.1 -0.1)\">\r\n       <use xlink:href=\"#DejaVuSans-77\"/>\r\n       <use x=\"86.279297\" xlink:href=\"#DejaVuSans-65\"/>\r\n       <use x=\"154.578125\" xlink:href=\"#DejaVuSans-84\"/>\r\n       <use x=\"215.662109\" xlink:href=\"#DejaVuSans-79\"/>\r\n       <use x=\"294.373047\" xlink:href=\"#DejaVuSans-32\"/>\r\n       <use x=\"326.160156\" xlink:href=\"#DejaVuSans-71\"/>\r\n       <use x=\"403.650391\" xlink:href=\"#DejaVuSans-82\"/>\r\n       <use x=\"473.132812\" xlink:href=\"#DejaVuSans-79\"/>\r\n       <use x=\"551.84375\" xlink:href=\"#DejaVuSans-83\"/>\r\n       <use x=\"615.320312\" xlink:href=\"#DejaVuSans-83\"/>\r\n       <use x=\"678.796875\" xlink:href=\"#DejaVuSans-79\"/>\r\n       <use x=\"757.507812\" xlink:href=\"#DejaVuSans-32\"/>\r\n       <use x=\"789.294922\" xlink:href=\"#DejaVuSans-68\"/>\r\n       <use x=\"866.296875\" xlink:href=\"#DejaVuSans-79\"/>\r\n       <use x=\"945.007812\" xlink:href=\"#DejaVuSans-32\"/>\r\n       <use x=\"976.794922\" xlink:href=\"#DejaVuSans-83\"/>\r\n       <use x=\"1040.271484\" xlink:href=\"#DejaVuSans-85\"/>\r\n       <use x=\"1113.464844\" xlink:href=\"#DejaVuSans-76\"/>\r\n      </g>\r\n     </g>\r\n    </g>\r\n    <g id=\"xtick_23\">\r\n     <g id=\"line2d_23\">\r\n      <g>\r\n       <use style=\"stroke:#000000;stroke-width:0.8;\" x=\"857.91993\" xlink:href=\"#m74f3043c8f\" y=\"822.6\"/>\r\n      </g>\r\n     </g>\r\n     <g id=\"text_23\">\r\n      <!-- ACRE -->\r\n      <g transform=\"translate(844.375399 837.198437)scale(0.1 -0.1)\">\r\n       <use xlink:href=\"#DejaVuSans-65\"/>\r\n       <use x=\"68.392578\" xlink:href=\"#DejaVuSans-67\"/>\r\n       <use x=\"138.216797\" xlink:href=\"#DejaVuSans-82\"/>\r\n       <use x=\"207.699219\" xlink:href=\"#DejaVuSans-69\"/>\r\n      </g>\r\n     </g>\r\n    </g>\r\n    <g id=\"xtick_24\">\r\n     <g id=\"line2d_24\">\r\n      <g>\r\n       <use style=\"stroke:#000000;stroke-width:0.8;\" x=\"893.038811\" xlink:href=\"#m74f3043c8f\" y=\"822.6\"/>\r\n      </g>\r\n     </g>\r\n     <g id=\"text_24\">\r\n      <!-- RIO GRANDE DO NORTE -->\r\n      <g transform=\"translate(832.726311 837.198437)scale(0.1 -0.1)\">\r\n       <use xlink:href=\"#DejaVuSans-82\"/>\r\n       <use x=\"69.482422\" xlink:href=\"#DejaVuSans-73\"/>\r\n       <use x=\"98.974609\" xlink:href=\"#DejaVuSans-79\"/>\r\n       <use x=\"177.685547\" xlink:href=\"#DejaVuSans-32\"/>\r\n       <use x=\"209.472656\" xlink:href=\"#DejaVuSans-71\"/>\r\n       <use x=\"286.962891\" xlink:href=\"#DejaVuSans-82\"/>\r\n       <use x=\"356.382812\" xlink:href=\"#DejaVuSans-65\"/>\r\n       <use x=\"424.791016\" xlink:href=\"#DejaVuSans-78\"/>\r\n       <use x=\"499.595703\" xlink:href=\"#DejaVuSans-68\"/>\r\n       <use x=\"576.597656\" xlink:href=\"#DejaVuSans-69\"/>\r\n       <use x=\"639.78125\" xlink:href=\"#DejaVuSans-32\"/>\r\n       <use x=\"671.568359\" xlink:href=\"#DejaVuSans-68\"/>\r\n       <use x=\"748.570312\" xlink:href=\"#DejaVuSans-79\"/>\r\n       <use x=\"827.28125\" xlink:href=\"#DejaVuSans-32\"/>\r\n       <use x=\"859.068359\" xlink:href=\"#DejaVuSans-78\"/>\r\n       <use x=\"933.873047\" xlink:href=\"#DejaVuSans-79\"/>\r\n       <use x=\"1012.583984\" xlink:href=\"#DejaVuSans-82\"/>\r\n       <use x=\"1081.957031\" xlink:href=\"#DejaVuSans-84\"/>\r\n       <use x=\"1143.041016\" xlink:href=\"#DejaVuSans-69\"/>\r\n      </g>\r\n     </g>\r\n    </g>\r\n    <g id=\"xtick_25\">\r\n     <g id=\"line2d_25\">\r\n      <g>\r\n       <use style=\"stroke:#000000;stroke-width:0.8;\" x=\"928.157692\" xlink:href=\"#m74f3043c8f\" y=\"822.6\"/>\r\n      </g>\r\n     </g>\r\n     <g id=\"text_25\">\r\n      <!-- RONDÔNIA -->\r\n      <defs>\r\n       <path d=\"M 39.40625 66.21875 \r\nQ 28.65625 66.21875 22.328125 58.203125 \r\nQ 16.015625 50.203125 16.015625 36.375 \r\nQ 16.015625 22.609375 22.328125 14.59375 \r\nQ 28.65625 6.59375 39.40625 6.59375 \r\nQ 50.140625 6.59375 56.421875 14.59375 \r\nQ 62.703125 22.609375 62.703125 36.375 \r\nQ 62.703125 50.203125 56.421875 58.203125 \r\nQ 50.140625 66.21875 39.40625 66.21875 \r\nz\r\nM 39.40625 74.21875 \r\nQ 54.734375 74.21875 63.90625 63.9375 \r\nQ 73.09375 53.65625 73.09375 36.375 \r\nQ 73.09375 19.140625 63.90625 8.859375 \r\nQ 54.734375 -1.421875 39.40625 -1.421875 \r\nQ 24.03125 -1.421875 14.8125 8.828125 \r\nQ 5.609375 19.09375 5.609375 36.375 \r\nQ 5.609375 53.65625 14.8125 63.9375 \r\nQ 24.03125 74.21875 39.40625 74.21875 \r\nz\r\nM 34.8125 92.828125 \r\nL 44 92.828125 \r\nL 54.296875 79.84375 \r\nL 47.515625 79.84375 \r\nL 39.40625 88.53125 \r\nL 31.296875 79.84375 \r\nL 24.515625 79.84375 \r\nz\r\n\" id=\"DejaVuSans-212\"/>\r\n      </defs>\r\n      <g transform=\"translate(900.585036 837.198437)scale(0.1 -0.1)\">\r\n       <use xlink:href=\"#DejaVuSans-82\"/>\r\n       <use x=\"69.482422\" xlink:href=\"#DejaVuSans-79\"/>\r\n       <use x=\"148.193359\" xlink:href=\"#DejaVuSans-78\"/>\r\n       <use x=\"222.998047\" xlink:href=\"#DejaVuSans-68\"/>\r\n       <use x=\"300\" xlink:href=\"#DejaVuSans-212\"/>\r\n       <use x=\"378.710938\" xlink:href=\"#DejaVuSans-78\"/>\r\n       <use x=\"453.515625\" xlink:href=\"#DejaVuSans-73\"/>\r\n       <use x=\"483.007812\" xlink:href=\"#DejaVuSans-65\"/>\r\n      </g>\r\n     </g>\r\n    </g>\r\n    <g id=\"xtick_26\">\r\n     <g id=\"line2d_26\">\r\n      <g>\r\n       <use style=\"stroke:#000000;stroke-width:0.8;\" x=\"963.276573\" xlink:href=\"#m74f3043c8f\" y=\"822.6\"/>\r\n      </g>\r\n     </g>\r\n     <g id=\"text_26\">\r\n      <!-- AMAPÁ -->\r\n      <g transform=\"translate(945.691417 837.198437)scale(0.1 -0.1)\">\r\n       <use xlink:href=\"#DejaVuSans-65\"/>\r\n       <use x=\"68.408203\" xlink:href=\"#DejaVuSans-77\"/>\r\n       <use x=\"154.6875\" xlink:href=\"#DejaVuSans-65\"/>\r\n       <use x=\"223.095703\" xlink:href=\"#DejaVuSans-80\"/>\r\n       <use x=\"283.304688\" xlink:href=\"#DejaVuSans-193\"/>\r\n      </g>\r\n     </g>\r\n    </g>\r\n    <g id=\"xtick_27\">\r\n     <g id=\"line2d_27\">\r\n      <g>\r\n       <use style=\"stroke:#000000;stroke-width:0.8;\" x=\"998.395455\" xlink:href=\"#m74f3043c8f\" y=\"822.6\"/>\r\n      </g>\r\n     </g>\r\n     <g id=\"text_27\">\r\n      <!-- DISTRITO FEDERAL -->\r\n      <defs>\r\n       <path d=\"M 9.8125 72.90625 \r\nL 51.703125 72.90625 \r\nL 51.703125 64.59375 \r\nL 19.671875 64.59375 \r\nL 19.671875 43.109375 \r\nL 48.578125 43.109375 \r\nL 48.578125 34.8125 \r\nL 19.671875 34.8125 \r\nL 19.671875 0 \r\nL 9.8125 0 \r\nz\r\n\" id=\"DejaVuSans-70\"/>\r\n      </defs>\r\n      <g transform=\"translate(950.59233 837.198437)scale(0.1 -0.1)\">\r\n       <use xlink:href=\"#DejaVuSans-68\"/>\r\n       <use x=\"77.001953\" xlink:href=\"#DejaVuSans-73\"/>\r\n       <use x=\"106.494141\" xlink:href=\"#DejaVuSans-83\"/>\r\n       <use x=\"169.970703\" xlink:href=\"#DejaVuSans-84\"/>\r\n       <use x=\"231.054688\" xlink:href=\"#DejaVuSans-82\"/>\r\n       <use x=\"300.537109\" xlink:href=\"#DejaVuSans-73\"/>\r\n       <use x=\"330.029297\" xlink:href=\"#DejaVuSans-84\"/>\r\n       <use x=\"391.113281\" xlink:href=\"#DejaVuSans-79\"/>\r\n       <use x=\"469.824219\" xlink:href=\"#DejaVuSans-32\"/>\r\n       <use x=\"501.611328\" xlink:href=\"#DejaVuSans-70\"/>\r\n       <use x=\"559.130859\" xlink:href=\"#DejaVuSans-69\"/>\r\n       <use x=\"622.314453\" xlink:href=\"#DejaVuSans-68\"/>\r\n       <use x=\"699.316406\" xlink:href=\"#DejaVuSans-69\"/>\r\n       <use x=\"762.5\" xlink:href=\"#DejaVuSans-82\"/>\r\n       <use x=\"831.919922\" xlink:href=\"#DejaVuSans-65\"/>\r\n       <use x=\"900.328125\" xlink:href=\"#DejaVuSans-76\"/>\r\n      </g>\r\n     </g>\r\n    </g>\r\n   </g>\r\n   <g id=\"matplotlib.axis_2\">\r\n    <g id=\"ytick_1\">\r\n     <g id=\"line2d_28\">\r\n      <defs>\r\n       <path d=\"M 0 0 \r\nL -3.5 0 \r\n\" id=\"ma1d8b9fc61\" style=\"stroke:#000000;stroke-width:0.8;\"/>\r\n      </defs>\r\n      <g>\r\n       <use style=\"stroke:#000000;stroke-width:0.8;\" x=\"39.65\" xlink:href=\"#ma1d8b9fc61\" y=\"822.6\"/>\r\n      </g>\r\n     </g>\r\n     <g id=\"text_28\">\r\n      <!-- 0 -->\r\n      <defs>\r\n       <path d=\"M 31.78125 66.40625 \r\nQ 24.171875 66.40625 20.328125 58.90625 \r\nQ 16.5 51.421875 16.5 36.375 \r\nQ 16.5 21.390625 20.328125 13.890625 \r\nQ 24.171875 6.390625 31.78125 6.390625 \r\nQ 39.453125 6.390625 43.28125 13.890625 \r\nQ 47.125 21.390625 47.125 36.375 \r\nQ 47.125 51.421875 43.28125 58.90625 \r\nQ 39.453125 66.40625 31.78125 66.40625 \r\nz\r\nM 31.78125 74.21875 \r\nQ 44.046875 74.21875 50.515625 64.515625 \r\nQ 56.984375 54.828125 56.984375 36.375 \r\nQ 56.984375 17.96875 50.515625 8.265625 \r\nQ 44.046875 -1.421875 31.78125 -1.421875 \r\nQ 19.53125 -1.421875 13.0625 8.265625 \r\nQ 6.59375 17.96875 6.59375 36.375 \r\nQ 6.59375 54.828125 13.0625 64.515625 \r\nQ 19.53125 74.21875 31.78125 74.21875 \r\nz\r\n\" id=\"DejaVuSans-48\"/>\r\n      </defs>\r\n      <g transform=\"translate(26.2875 826.399219)scale(0.1 -0.1)\">\r\n       <use xlink:href=\"#DejaVuSans-48\"/>\r\n      </g>\r\n     </g>\r\n    </g>\r\n    <g id=\"ytick_2\">\r\n     <g id=\"line2d_29\">\r\n      <g>\r\n       <use style=\"stroke:#000000;stroke-width:0.8;\" x=\"39.65\" xlink:href=\"#ma1d8b9fc61\" y=\"705.20447\"/>\r\n      </g>\r\n     </g>\r\n     <g id=\"text_29\">\r\n      <!-- 200 -->\r\n      <defs>\r\n       <path d=\"M 19.1875 8.296875 \r\nL 53.609375 8.296875 \r\nL 53.609375 0 \r\nL 7.328125 0 \r\nL 7.328125 8.296875 \r\nQ 12.9375 14.109375 22.625 23.890625 \r\nQ 32.328125 33.6875 34.8125 36.53125 \r\nQ 39.546875 41.84375 41.421875 45.53125 \r\nQ 43.3125 49.21875 43.3125 52.78125 \r\nQ 43.3125 58.59375 39.234375 62.25 \r\nQ 35.15625 65.921875 28.609375 65.921875 \r\nQ 23.96875 65.921875 18.8125 64.3125 \r\nQ 13.671875 62.703125 7.8125 59.421875 \r\nL 7.8125 69.390625 \r\nQ 13.765625 71.78125 18.9375 73 \r\nQ 24.125 74.21875 28.421875 74.21875 \r\nQ 39.75 74.21875 46.484375 68.546875 \r\nQ 53.21875 62.890625 53.21875 53.421875 \r\nQ 53.21875 48.921875 51.53125 44.890625 \r\nQ 49.859375 40.875 45.40625 35.40625 \r\nQ 44.1875 33.984375 37.640625 27.21875 \r\nQ 31.109375 20.453125 19.1875 8.296875 \r\nz\r\n\" id=\"DejaVuSans-50\"/>\r\n      </defs>\r\n      <g transform=\"translate(13.5625 709.003689)scale(0.1 -0.1)\">\r\n       <use xlink:href=\"#DejaVuSans-50\"/>\r\n       <use x=\"63.623047\" xlink:href=\"#DejaVuSans-48\"/>\r\n       <use x=\"127.246094\" xlink:href=\"#DejaVuSans-48\"/>\r\n      </g>\r\n     </g>\r\n    </g>\r\n    <g id=\"ytick_3\">\r\n     <g id=\"line2d_30\">\r\n      <g>\r\n       <use style=\"stroke:#000000;stroke-width:0.8;\" x=\"39.65\" xlink:href=\"#ma1d8b9fc61\" y=\"587.808941\"/>\r\n      </g>\r\n     </g>\r\n     <g id=\"text_30\">\r\n      <!-- 400 -->\r\n      <defs>\r\n       <path d=\"M 37.796875 64.3125 \r\nL 12.890625 25.390625 \r\nL 37.796875 25.390625 \r\nz\r\nM 35.203125 72.90625 \r\nL 47.609375 72.90625 \r\nL 47.609375 25.390625 \r\nL 58.015625 25.390625 \r\nL 58.015625 17.1875 \r\nL 47.609375 17.1875 \r\nL 47.609375 0 \r\nL 37.796875 0 \r\nL 37.796875 17.1875 \r\nL 4.890625 17.1875 \r\nL 4.890625 26.703125 \r\nz\r\n\" id=\"DejaVuSans-52\"/>\r\n      </defs>\r\n      <g transform=\"translate(13.5625 591.608159)scale(0.1 -0.1)\">\r\n       <use xlink:href=\"#DejaVuSans-52\"/>\r\n       <use x=\"63.623047\" xlink:href=\"#DejaVuSans-48\"/>\r\n       <use x=\"127.246094\" xlink:href=\"#DejaVuSans-48\"/>\r\n      </g>\r\n     </g>\r\n    </g>\r\n    <g id=\"ytick_4\">\r\n     <g id=\"line2d_31\">\r\n      <g>\r\n       <use style=\"stroke:#000000;stroke-width:0.8;\" x=\"39.65\" xlink:href=\"#ma1d8b9fc61\" y=\"470.413411\"/>\r\n      </g>\r\n     </g>\r\n     <g id=\"text_31\">\r\n      <!-- 600 -->\r\n      <defs>\r\n       <path d=\"M 33.015625 40.375 \r\nQ 26.375 40.375 22.484375 35.828125 \r\nQ 18.609375 31.296875 18.609375 23.390625 \r\nQ 18.609375 15.53125 22.484375 10.953125 \r\nQ 26.375 6.390625 33.015625 6.390625 \r\nQ 39.65625 6.390625 43.53125 10.953125 \r\nQ 47.40625 15.53125 47.40625 23.390625 \r\nQ 47.40625 31.296875 43.53125 35.828125 \r\nQ 39.65625 40.375 33.015625 40.375 \r\nz\r\nM 52.59375 71.296875 \r\nL 52.59375 62.3125 \r\nQ 48.875 64.0625 45.09375 64.984375 \r\nQ 41.3125 65.921875 37.59375 65.921875 \r\nQ 27.828125 65.921875 22.671875 59.328125 \r\nQ 17.53125 52.734375 16.796875 39.40625 \r\nQ 19.671875 43.65625 24.015625 45.921875 \r\nQ 28.375 48.1875 33.59375 48.1875 \r\nQ 44.578125 48.1875 50.953125 41.515625 \r\nQ 57.328125 34.859375 57.328125 23.390625 \r\nQ 57.328125 12.15625 50.6875 5.359375 \r\nQ 44.046875 -1.421875 33.015625 -1.421875 \r\nQ 20.359375 -1.421875 13.671875 8.265625 \r\nQ 6.984375 17.96875 6.984375 36.375 \r\nQ 6.984375 53.65625 15.1875 63.9375 \r\nQ 23.390625 74.21875 37.203125 74.21875 \r\nQ 40.921875 74.21875 44.703125 73.484375 \r\nQ 48.484375 72.75 52.59375 71.296875 \r\nz\r\n\" id=\"DejaVuSans-54\"/>\r\n      </defs>\r\n      <g transform=\"translate(13.5625 474.21263)scale(0.1 -0.1)\">\r\n       <use xlink:href=\"#DejaVuSans-54\"/>\r\n       <use x=\"63.623047\" xlink:href=\"#DejaVuSans-48\"/>\r\n       <use x=\"127.246094\" xlink:href=\"#DejaVuSans-48\"/>\r\n      </g>\r\n     </g>\r\n    </g>\r\n    <g id=\"ytick_5\">\r\n     <g id=\"line2d_32\">\r\n      <g>\r\n       <use style=\"stroke:#000000;stroke-width:0.8;\" x=\"39.65\" xlink:href=\"#ma1d8b9fc61\" y=\"353.017881\"/>\r\n      </g>\r\n     </g>\r\n     <g id=\"text_32\">\r\n      <!-- 800 -->\r\n      <defs>\r\n       <path d=\"M 31.78125 34.625 \r\nQ 24.75 34.625 20.71875 30.859375 \r\nQ 16.703125 27.09375 16.703125 20.515625 \r\nQ 16.703125 13.921875 20.71875 10.15625 \r\nQ 24.75 6.390625 31.78125 6.390625 \r\nQ 38.8125 6.390625 42.859375 10.171875 \r\nQ 46.921875 13.96875 46.921875 20.515625 \r\nQ 46.921875 27.09375 42.890625 30.859375 \r\nQ 38.875 34.625 31.78125 34.625 \r\nz\r\nM 21.921875 38.8125 \r\nQ 15.578125 40.375 12.03125 44.71875 \r\nQ 8.5 49.078125 8.5 55.328125 \r\nQ 8.5 64.0625 14.71875 69.140625 \r\nQ 20.953125 74.21875 31.78125 74.21875 \r\nQ 42.671875 74.21875 48.875 69.140625 \r\nQ 55.078125 64.0625 55.078125 55.328125 \r\nQ 55.078125 49.078125 51.53125 44.71875 \r\nQ 48 40.375 41.703125 38.8125 \r\nQ 48.828125 37.15625 52.796875 32.3125 \r\nQ 56.78125 27.484375 56.78125 20.515625 \r\nQ 56.78125 9.90625 50.3125 4.234375 \r\nQ 43.84375 -1.421875 31.78125 -1.421875 \r\nQ 19.734375 -1.421875 13.25 4.234375 \r\nQ 6.78125 9.90625 6.78125 20.515625 \r\nQ 6.78125 27.484375 10.78125 32.3125 \r\nQ 14.796875 37.15625 21.921875 38.8125 \r\nz\r\nM 18.3125 54.390625 \r\nQ 18.3125 48.734375 21.84375 45.5625 \r\nQ 25.390625 42.390625 31.78125 42.390625 \r\nQ 38.140625 42.390625 41.71875 45.5625 \r\nQ 45.3125 48.734375 45.3125 54.390625 \r\nQ 45.3125 60.0625 41.71875 63.234375 \r\nQ 38.140625 66.40625 31.78125 66.40625 \r\nQ 25.390625 66.40625 21.84375 63.234375 \r\nQ 18.3125 60.0625 18.3125 54.390625 \r\nz\r\n\" id=\"DejaVuSans-56\"/>\r\n      </defs>\r\n      <g transform=\"translate(13.5625 356.8171)scale(0.1 -0.1)\">\r\n       <use xlink:href=\"#DejaVuSans-56\"/>\r\n       <use x=\"63.623047\" xlink:href=\"#DejaVuSans-48\"/>\r\n       <use x=\"127.246094\" xlink:href=\"#DejaVuSans-48\"/>\r\n      </g>\r\n     </g>\r\n    </g>\r\n    <g id=\"ytick_6\">\r\n     <g id=\"line2d_33\">\r\n      <g>\r\n       <use style=\"stroke:#000000;stroke-width:0.8;\" x=\"39.65\" xlink:href=\"#ma1d8b9fc61\" y=\"235.622352\"/>\r\n      </g>\r\n     </g>\r\n     <g id=\"text_33\">\r\n      <!-- 1000 -->\r\n      <defs>\r\n       <path d=\"M 12.40625 8.296875 \r\nL 28.515625 8.296875 \r\nL 28.515625 63.921875 \r\nL 10.984375 60.40625 \r\nL 10.984375 69.390625 \r\nL 28.421875 72.90625 \r\nL 38.28125 72.90625 \r\nL 38.28125 8.296875 \r\nL 54.390625 8.296875 \r\nL 54.390625 0 \r\nL 12.40625 0 \r\nz\r\n\" id=\"DejaVuSans-49\"/>\r\n      </defs>\r\n      <g transform=\"translate(7.2 239.421571)scale(0.1 -0.1)\">\r\n       <use xlink:href=\"#DejaVuSans-49\"/>\r\n       <use x=\"63.623047\" xlink:href=\"#DejaVuSans-48\"/>\r\n       <use x=\"127.246094\" xlink:href=\"#DejaVuSans-48\"/>\r\n       <use x=\"190.869141\" xlink:href=\"#DejaVuSans-48\"/>\r\n      </g>\r\n     </g>\r\n    </g>\r\n    <g id=\"ytick_7\">\r\n     <g id=\"line2d_34\">\r\n      <g>\r\n       <use style=\"stroke:#000000;stroke-width:0.8;\" x=\"39.65\" xlink:href=\"#ma1d8b9fc61\" y=\"118.226822\"/>\r\n      </g>\r\n     </g>\r\n     <g id=\"text_34\">\r\n      <!-- 1200 -->\r\n      <g transform=\"translate(7.2 122.026041)scale(0.1 -0.1)\">\r\n       <use xlink:href=\"#DejaVuSans-49\"/>\r\n       <use x=\"63.623047\" xlink:href=\"#DejaVuSans-50\"/>\r\n       <use x=\"127.246094\" xlink:href=\"#DejaVuSans-48\"/>\r\n       <use x=\"190.869141\" xlink:href=\"#DejaVuSans-48\"/>\r\n      </g>\r\n     </g>\r\n    </g>\r\n   </g>\r\n   <g id=\"patch_13\">\r\n    <path d=\"M 39.65 822.6 \r\nL 39.65 7.2 \r\n\" style=\"fill:none;stroke:#000000;stroke-linecap:square;stroke-linejoin:miter;stroke-width:0.8;\"/>\r\n   </g>\r\n   <g id=\"patch_14\">\r\n    <path d=\"M 1044.05 822.6 \r\nL 1044.05 7.2 \r\n\" style=\"fill:none;stroke:#000000;stroke-linecap:square;stroke-linejoin:miter;stroke-width:0.8;\"/>\r\n   </g>\r\n   <g id=\"patch_15\">\r\n    <path d=\"M 39.65 822.6 \r\nL 1044.05 822.6 \r\n\" style=\"fill:none;stroke:#000000;stroke-linecap:square;stroke-linejoin:miter;stroke-width:0.8;\"/>\r\n   </g>\r\n   <g id=\"patch_16\">\r\n    <path d=\"M 39.65 7.2 \r\nL 1044.05 7.2 \r\n\" style=\"fill:none;stroke:#000000;stroke-linecap:square;stroke-linejoin:miter;stroke-width:0.8;\"/>\r\n   </g>\r\n  </g>\r\n </g>\r\n <defs>\r\n  <clipPath id=\"p439c1505b8\">\r\n   <rect height=\"815.4\" width=\"1004.4\" x=\"39.65\" y=\"7.2\"/>\r\n  </clipPath>\r\n </defs>\r\n</svg>\r\n",
      "image/png": "[encoded data removed]"
     },
     "metadata": {
      "needs_background": "light"
     }
    }
   ],
   "source": [
    "plt.figure(figsize=(18, 15))\n",
    "plt.hist(data_nodup['UF'])"
   ]
  },
  {
   "cell_type": "code",
   "execution_count": 164,
   "metadata": {},
   "outputs": [
    {
     "output_type": "execute_result",
     "data": {
      "text/plain": "                     gid  nome  Censo  PIB  Pop_est_2009  PIB_percapita  \\\nUF                                                                        \nACRE                  22    22     22   22            22             22   \nALAGOAS              102   102    102  102           102            102   \nAMAPÁ                 16    16     16   16            16             16   \nAMAZONAS              62    62     62   62            62             62   \nBAHIA                417   417    416  417           417            417   \nCEARÁ                184   184    184  184           184            183   \nDISTRITO FEDERAL       1     1      1    1             1              1   \nESPIRITO SANTO        78    78     78   78            78             77   \nGOIÁS                246   246    246  246           246            246   \nMARANHÃO             217   217    217  217           217            217   \nMATO GROSSO          141   141    141  141           141            141   \nMATO GROSSO DO SUL    78    78     78   78            78             78   \nMINAS GERAIS         853   853    853  853           853            853   \nPARANÁ               399   399    399  399           399            399   \nPARAÍBA              223   223    223  223           223            223   \nPARÁ                 143   143    143  143           143            143   \nPERNAMBUCO           185   184    183  185           185            185   \nPIAUÍ                224   224    224  224           224            223   \nRIO DE JANEIRO        92    92     92   92            92             91   \nRIO GRANDE DO NORTE  167   167    167  167           167            167   \nRIO GRANDE DO SUL    496   495    496  495           496            496   \nRONDÔNIA              52    52     52   52            52             52   \nRORAIMA               15    15     15   15            15             15   \nSANTA CATARINA       293   293    293  293           293            293   \nSERGIPE               75    75     75   75            75             75   \nSÃO PAULO            645   645    643  645           645            645   \nTOCANTINS            139   139    139  139           139            139   \n\n                     Descrição  classe  desemprego  \nUF                                                  \nACRE                        22      22          22  \nALAGOAS                    102     102         102  \nAMAPÁ                       16      16          16  \nAMAZONAS                    62      62          62  \nBAHIA                      417     417         417  \nCEARÁ                      184     184         184  \nDISTRITO FEDERAL             1       1           1  \nESPIRITO SANTO              78      78          78  \nGOIÁS                      246     246         246  \nMARANHÃO                   217     217         217  \nMATO GROSSO                141     141         141  \nMATO GROSSO DO SUL          78      78          78  \nMINAS GERAIS               853     853         853  \nPARANÁ                     399     399         399  \nPARAÍBA                    223     223         223  \nPARÁ                       143     143         143  \nPERNAMBUCO                 185     185         185  \nPIAUÍ                      224     224         224  \nRIO DE JANEIRO              92      92          92  \nRIO GRANDE DO NORTE        167     167         167  \nRIO GRANDE DO SUL          496     496         496  \nRONDÔNIA                    52      52          52  \nRORAIMA                     15      15          15  \nSANTA CATARINA             293     293         293  \nSERGIPE                     75      75          75  \nSÃO PAULO                  645     645         645  \nTOCANTINS                  139     139         139  ",
      "text/html": "<div>\n<style scoped>\n    .dataframe tbody tr th:only-of-type {\n        vertical-align: middle;\n    }\n\n    .dataframe tbody tr th {\n        vertical-align: top;\n    }\n\n    .dataframe thead th {\n        text-align: right;\n    }\n</style>\n<table border=\"1\" class=\"dataframe\">\n  <thead>\n    <tr style=\"text-align: right;\">\n      <th></th>\n      <th>gid</th>\n      <th>nome</th>\n      <th>Censo</th>\n      <th>PIB</th>\n      <th>Pop_est_2009</th>\n      <th>PIB_percapita</th>\n      <th>Descrição</th>\n      <th>classe</th>\n      <th>desemprego</th>\n    </tr>\n    <tr>\n      <th>UF</th>\n      <th></th>\n      <th></th>\n      <th></th>\n      <th></th>\n      <th></th>\n      <th></th>\n      <th></th>\n      <th></th>\n      <th></th>\n    </tr>\n  </thead>\n  <tbody>\n    <tr>\n      <th>ACRE</th>\n      <td>22</td>\n      <td>22</td>\n      <td>22</td>\n      <td>22</td>\n      <td>22</td>\n      <td>22</td>\n      <td>22</td>\n      <td>22</td>\n      <td>22</td>\n    </tr>\n    <tr>\n      <th>ALAGOAS</th>\n      <td>102</td>\n      <td>102</td>\n      <td>102</td>\n      <td>102</td>\n      <td>102</td>\n      <td>102</td>\n      <td>102</td>\n      <td>102</td>\n      <td>102</td>\n    </tr>\n    <tr>\n      <th>AMAPÁ</th>\n      <td>16</td>\n      <td>16</td>\n      <td>16</td>\n      <td>16</td>\n      <td>16</td>\n      <td>16</td>\n      <td>16</td>\n      <td>16</td>\n      <td>16</td>\n    </tr>\n    <tr>\n      <th>AMAZONAS</th>\n      <td>62</td>\n      <td>62</td>\n      <td>62</td>\n      <td>62</td>\n      <td>62</td>\n      <td>62</td>\n      <td>62</td>\n      <td>62</td>\n      <td>62</td>\n    </tr>\n    <tr>\n      <th>BAHIA</th>\n      <td>417</td>\n      <td>417</td>\n      <td>416</td>\n      <td>417</td>\n      <td>417</td>\n      <td>417</td>\n      <td>417</td>\n      <td>417</td>\n      <td>417</td>\n    </tr>\n    <tr>\n      <th>CEARÁ</th>\n      <td>184</td>\n      <td>184</td>\n      <td>184</td>\n      <td>184</td>\n      <td>184</td>\n      <td>183</td>\n      <td>184</td>\n      <td>184</td>\n      <td>184</td>\n    </tr>\n    <tr>\n      <th>DISTRITO FEDERAL</th>\n      <td>1</td>\n      <td>1</td>\n      <td>1</td>\n      <td>1</td>\n      <td>1</td>\n      <td>1</td>\n      <td>1</td>\n      <td>1</td>\n      <td>1</td>\n    </tr>\n    <tr>\n      <th>ESPIRITO SANTO</th>\n      <td>78</td>\n      <td>78</td>\n      <td>78</td>\n      <td>78</td>\n      <td>78</td>\n      <td>77</td>\n      <td>78</td>\n      <td>78</td>\n      <td>78</td>\n    </tr>\n    <tr>\n      <th>GOIÁS</th>\n      <td>246</td>\n      <td>246</td>\n      <td>246</td>\n      <td>246</td>\n      <td>246</td>\n      <td>246</td>\n      <td>246</td>\n      <td>246</td>\n      <td>246</td>\n    </tr>\n    <tr>\n      <th>MARANHÃO</th>\n      <td>217</td>\n      <td>217</td>\n      <td>217</td>\n      <td>217</td>\n      <td>217</td>\n      <td>217</td>\n      <td>217</td>\n      <td>217</td>\n      <td>217</td>\n    </tr>\n    <tr>\n      <th>MATO GROSSO</th>\n      <td>141</td>\n      <td>141</td>\n      <td>141</td>\n      <td>141</td>\n      <td>141</td>\n      <td>141</td>\n      <td>141</td>\n      <td>141</td>\n      <td>141</td>\n    </tr>\n    <tr>\n      <th>MATO GROSSO DO SUL</th>\n      <td>78</td>\n      <td>78</td>\n      <td>78</td>\n      <td>78</td>\n      <td>78</td>\n      <td>78</td>\n      <td>78</td>\n      <td>78</td>\n      <td>78</td>\n    </tr>\n    <tr>\n      <th>MINAS GERAIS</th>\n      <td>853</td>\n      <td>853</td>\n      <td>853</td>\n      <td>853</td>\n      <td>853</td>\n      <td>853</td>\n      <td>853</td>\n      <td>853</td>\n      <td>853</td>\n    </tr>\n    <tr>\n      <th>PARANÁ</th>\n      <td>399</td>\n      <td>399</td>\n      <td>399</td>\n      <td>399</td>\n      <td>399</td>\n      <td>399</td>\n      <td>399</td>\n      <td>399</td>\n      <td>399</td>\n    </tr>\n    <tr>\n      <th>PARAÍBA</th>\n      <td>223</td>\n      <td>223</td>\n      <td>223</td>\n      <td>223</td>\n      <td>223</td>\n      <td>223</td>\n      <td>223</td>\n      <td>223</td>\n      <td>223</td>\n    </tr>\n    <tr>\n      <th>PARÁ</th>\n      <td>143</td>\n      <td>143</td>\n      <td>143</td>\n      <td>143</td>\n      <td>143</td>\n      <td>143</td>\n      <td>143</td>\n      <td>143</td>\n      <td>143</td>\n    </tr>\n    <tr>\n      <th>PERNAMBUCO</th>\n      <td>185</td>\n      <td>184</td>\n      <td>183</td>\n      <td>185</td>\n      <td>185</td>\n      <td>185</td>\n      <td>185</td>\n      <td>185</td>\n      <td>185</td>\n    </tr>\n    <tr>\n      <th>PIAUÍ</th>\n      <td>224</td>\n      <td>224</td>\n      <td>224</td>\n      <td>224</td>\n      <td>224</td>\n      <td>223</td>\n      <td>224</td>\n      <td>224</td>\n      <td>224</td>\n    </tr>\n    <tr>\n      <th>RIO DE JANEIRO</th>\n      <td>92</td>\n      <td>92</td>\n      <td>92</td>\n      <td>92</td>\n      <td>92</td>\n      <td>91</td>\n      <td>92</td>\n      <td>92</td>\n      <td>92</td>\n    </tr>\n    <tr>\n      <th>RIO GRANDE DO NORTE</th>\n      <td>167</td>\n      <td>167</td>\n      <td>167</td>\n      <td>167</td>\n      <td>167</td>\n      <td>167</td>\n      <td>167</td>\n      <td>167</td>\n      <td>167</td>\n    </tr>\n    <tr>\n      <th>RIO GRANDE DO SUL</th>\n      <td>496</td>\n      <td>495</td>\n      <td>496</td>\n      <td>495</td>\n      <td>496</td>\n      <td>496</td>\n      <td>496</td>\n      <td>496</td>\n      <td>496</td>\n    </tr>\n    <tr>\n      <th>RONDÔNIA</th>\n      <td>52</td>\n      <td>52</td>\n      <td>52</td>\n      <td>52</td>\n      <td>52</td>\n      <td>52</td>\n      <td>52</td>\n      <td>52</td>\n      <td>52</td>\n    </tr>\n    <tr>\n      <th>RORAIMA</th>\n      <td>15</td>\n      <td>15</td>\n      <td>15</td>\n      <td>15</td>\n      <td>15</td>\n      <td>15</td>\n      <td>15</td>\n      <td>15</td>\n      <td>15</td>\n    </tr>\n    <tr>\n      <th>SANTA CATARINA</th>\n      <td>293</td>\n      <td>293</td>\n      <td>293</td>\n      <td>293</td>\n      <td>293</td>\n      <td>293</td>\n      <td>293</td>\n      <td>293</td>\n      <td>293</td>\n    </tr>\n    <tr>\n      <th>SERGIPE</th>\n      <td>75</td>\n      <td>75</td>\n      <td>75</td>\n      <td>75</td>\n      <td>75</td>\n      <td>75</td>\n      <td>75</td>\n      <td>75</td>\n      <td>75</td>\n    </tr>\n    <tr>\n      <th>SÃO PAULO</th>\n      <td>645</td>\n      <td>645</td>\n      <td>643</td>\n      <td>645</td>\n      <td>645</td>\n      <td>645</td>\n      <td>645</td>\n      <td>645</td>\n      <td>645</td>\n    </tr>\n    <tr>\n      <th>TOCANTINS</th>\n      <td>139</td>\n      <td>139</td>\n      <td>139</td>\n      <td>139</td>\n      <td>139</td>\n      <td>139</td>\n      <td>139</td>\n      <td>139</td>\n      <td>139</td>\n    </tr>\n  </tbody>\n</table>\n</div>"
     },
     "metadata": {},
     "execution_count": 164
    }
   ],
   "source": [
    "dat_nodup.groupby('UF').count().sort_values('UF')"
   ]
  },
  {
   "cell_type": "code",
   "execution_count": 167,
   "metadata": {},
   "outputs": [
    {
     "output_type": "stream",
     "name": "stdout",
     "text": "4452.0\n"
    }
   ],
   "source": [
    "np.random.seed(2)\n",
    "\n",
    "n_train = np.round(data_nodup.shape[0]*0.80)\n",
    "print(n_train)\n",
    "indices_train = np.random.rand(data_nodup.shape[0]) < 0.8\n",
    "dtrain = data_nodup[indices_train]\n",
    "dtest = data_nodup[~indices_train]"
   ]
  },
  {
   "cell_type": "code",
   "execution_count": 168,
   "metadata": {},
   "outputs": [
    {
     "output_type": "execute_result",
     "data": {
      "text/plain": "array([ True,  True,  True, ...,  True,  True,  True])"
     },
     "metadata": {},
     "execution_count": 168
    }
   ],
   "source": []
  },
  {
   "cell_type": "code",
   "execution_count": null,
   "metadata": {},
   "outputs": [],
   "source": [
    "# Treinando classificador\n",
    "X = dtrain[['tax','insurance', 'hoa']]\n",
    "Y = dtrain['UF']\n",
    "\n",
    "ZX = dtest[['tax','insurance', 'hoa']]\n",
    "ZY = dtest['UF']\n",
    "\n",
    "clf = SVC(gamma='auto')\n",
    "clf.fit(X,Y)\n",
    "ZY_ = clf.predict(ZX)"
   ]
  },
  {
   "cell_type": "code",
   "execution_count": null,
   "metadata": {},
   "outputs": [],
   "source": []
  },
  {
   "cell_type": "code",
   "execution_count": null,
   "metadata": {},
   "outputs": [],
   "source": []
  },
  {
   "cell_type": "code",
   "execution_count": null,
   "metadata": {},
   "outputs": [],
   "source": []
  },
  {
   "cell_type": "code",
   "execution_count": null,
   "metadata": {},
   "outputs": [],
   "source": []
  },
  {
   "cell_type": "code",
   "execution_count": null,
   "metadata": {},
   "outputs": [],
   "source": []
  },
  {
   "cell_type": "code",
   "execution_count": null,
   "metadata": {},
   "outputs": [],
   "source": []
  },
  {
   "cell_type": "code",
   "execution_count": null,
   "metadata": {},
   "outputs": [],
   "source": []
  },
  {
   "cell_type": "markdown",
   "metadata": {},
   "source": [
    "### Questão 1)\n",
    " \n",
    "Considerando a limpeza inicial realizada, quais variáveis possuiam valores que precisaram ser padronizados ou corrigidos de forma a não causar perda de dados e/ou inconsistências\n",
    " \n",
    "(a) UF, Desemprego, Censo, gid e nome<br>\n",
    "(b) UF, Desemprego, Censo<br>\n",
    "(c) UF e gid<br>\n",
    "(d) UF e Censo<br>\n",
    "\n",
    "---\n",
    "\n",
    "### Questão 2)\n",
    "\n",
    "Após verificar duplicatas, quantas linhas foram removidas?\n",
    "\n",
    "(a) 5<br>\n",
    "(b) 3<br>\n",
    "(c) 4<br>\n",
    "(d) 6<br>\n",
    "\n",
    "\n",
    "---\n",
    "\n",
    "### Questão 3)\n",
    "\n",
    "Das 11 colunas iniciais, havia alguma identificada como irrelevante e que foi removida?\n",
    "\n",
    "(a) não<br>\n",
    "(b) sim: as colunas 1 e 9 <br>\n",
    "(b) sim: a coluna 9 <br>\n",
    "(d) sim: a coluna 1, 2 e 9 <br>\n"
   ]
  },
  {
   "cell_type": "markdown",
   "metadata": {},
   "source": [
    "---\n",
    "### Questão 4)\n",
    "\n",
    "Vamos analisar possíveis outliers. Utilize o método da análise da dispersão pelo desvio padrão e inspecione as colunas 'gid', 'Censo', 'PIB', 'Pop_est_2009', 'desemprego', procurando por outliers globais com critério de 2 desvios padrões, i.e. $2\\sigma$.\n",
    "\n",
    "Quantos outliers foram encontrados, respectivamente, para 'gid', 'Censo', 'PIB', 'Pop_est_2009' e 'desemprego'?\n",
    "\n",
    "(a) 0, 0, 1, 5, 27<br>\n",
    "(b) 0, 5, 9, 44, 1 <br>\n",
    "(c) 0, 5, 5, 27, 1 <br>\n",
    "(d) 0, 5, 5, 44, 2 <br>"
   ]
  },
  {
   "cell_type": "markdown",
   "metadata": {},
   "source": [
    "### Questão 5)\n",
    "\n",
    "Analisando os outliers retornados em 'Censo' e 'desemprego' na questão anterior, quantos valores respectivamente, parecem ser outliers globais verdadeiros e para os quais se recomenda remover o valor antes de qualquer análise posterior?\n",
    "\n",
    "(a) 5, 0<br>\n",
    "(b) 0, 1<br>\n",
    "(c) 5, 1<br>\n",
    "(d) 1,1 <br>"
   ]
  },
  {
   "cell_type": "markdown",
   "metadata": {},
   "source": [
    "---\n",
    "\n",
    "### Questão 6)\n",
    "\n",
    "Utilize a base de dados após a limpeza inicial (sem remover outliers). Imprima o total de valores faltantes em cada variável.\n",
    "\n",
    "Quais variáveis possuem valores faltantes e em qual número?\n",
    "\n",
    "(a) nome:  2, Censo:  6, PIB:  1, PIB_percapita:  4, desemprego:  30<br>\n",
    "(b) nome:  1, Censo:  6, PIB_percapita:  4, desemprego:  30<br>\n",
    "(c) nome:  2, Censo:  7, PIB:  1, PIB_percapita:  4, desemprego:  30<br>\n",
    "(d) nome:  2, Censo:  6, PIB_percapita:  4, desemprego:  30<br>\n"
   ]
  },
  {
   "cell_type": "markdown",
   "metadata": {},
   "source": [
    "---\n",
    "\n",
    "### Questão 7)\n",
    "\n",
    "Codifique uma funcão que preencha valores faltantes de variáveis numéricas utilizando a média condicionada (ou agrupada) a uma outra variável C da base. Essa funcao deverá:\n",
    "1. calcular a média da variável alvo A (a ser preenchida) relativa a (ou agrupada por) cada valor distinto da variável categórica selecionada C\n",
    "2. atribuir a média calculada de forma agrupada a todas as linhas cuja variável alvo é faltante e que possua o valor da variável categórica correspondente\n",
    "3. o valor atribuido deve seguir o mesmo tipo da variável alvo, ou seja, int, float, etc. Quando int, realize o arredondamento utlizando `np.round(,0)`, quando float64 utilize `np.round(,1)`\n",
    "\n",
    "Use a funcão para preencher dados faltantes de desemprego condicionado a UF. Considerando arredondamento para 4 casas decimais, qual é a média da coluna desemprego para todas as linhas, antes e depois de realizar o preenchimento?\n",
    "\n",
    "(a) antes: 6.6406, depois: 6.6423<br>\n",
    "(b) antes: 6.6406, depois: 6.6406<br>\n",
    "(c) antes: 6.6423, depois: 6.6406<br>\n",
    "(d) antes: 6.6423, depois: 6.6423<br>\n"
   ]
  },
  {
   "cell_type": "markdown",
   "metadata": {},
   "source": [
    "---\n",
    "\n",
    "### Questão 8)\n",
    "\n",
    "Considere o atributo 'classe' apenas para a UF 'Rio de Janeiro' e analise a distribuicao dos seus valores.\n",
    "\n",
    "Para executar um algoritmo de aprendizado em que a o atributo alvo é 'classe', qual seria a abordagem mais indicada:\n",
    "\n",
    "(a) considerar cenário desbalanceado com 2 classes minoritárias e estudar medidas para compensar esse desbalanceamento<br>\n",
    "(b) realizar análise com os dados originais, mesmo desbalanceados<br>\n",
    "(c) considerar cenário desbalanceado com 1 classes minoritárias e estudar medidas para compensar esse desbalanceamento<br>\n",
    "(d) considerar cenário desbalanceado com 4 classes minoritárias e estudar medidas para compensar esse desbalanceamento<br>"
   ]
  }
 ],
 "metadata": {
  "kernelspec": {
   "display_name": "Python 3",
   "language": "python",
   "name": "python3"
  },
  "language_info": {
   "codemirror_mode": {
    "name": "ipython",
    "version": 3
   },
   "file_extension": ".py",
   "mimetype": "text/x-python",
   "name": "python",
   "nbconvert_exporter": "python",
   "pygments_lexer": "ipython3",
   "version": "3.7.6-final"
  }
 },
 "nbformat": 4,
 "nbformat_minor": 4
}