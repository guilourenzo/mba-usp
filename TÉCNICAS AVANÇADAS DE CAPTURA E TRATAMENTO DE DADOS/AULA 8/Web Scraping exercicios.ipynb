{
 "cells": [
  {
   "cell_type": "markdown",
   "metadata": {},
   "source": [
    "# <span style=\"color:blue\"> MBA em Ciência de Dados</span>\n",
    "# <span style=\"color:blue\">Técnicas Avançadas para Captura e Tratamento de Dados</span>\n",
    "\n",
    "## <span style=\"color:blue\"> Web Scraping </span>\n",
    "\n",
    "## <span style=\"color:blue\">Exercícios </span> \n",
    "\n",
    "**Material Produzido por Luis Gustavo Nonato**<br>\n",
    "**Cemeai - ICMC/USP São Carlos**\n",
    "\n",
    "---"
   ]
  },
  {
   "cell_type": "code",
   "execution_count": 2,
   "metadata": {},
   "outputs": [],
   "source": [
    "import requests as rq"
   ]
  },
  {
   "cell_type": "markdown",
   "metadata": {},
   "source": [
    "### Exercício 1)\n",
    "Considere a página do Wikipedia [https://en.wikipedia.org/robots.txt](https://en.wikipedia.org/robots.txt).\n",
    "Faça uma requisição para pegar o conteúdo de tal página e:\n",
    "1. verifique se a requisição foi bem sucedida\n",
    "2. visualize o tipo de dado retornado\n",
    "3. visualize o conteúdo"
   ]
  },
  {
   "cell_type": "code",
   "execution_count": null,
   "metadata": {},
   "outputs": [],
   "source": []
  },
  {
   "cell_type": "markdown",
   "metadata": {},
   "source": [
    "### Exercício 2)\n",
    "Considere o site de dados abertos da cidade de São Paulo [http://dados.prefeitura.sp.gov.br/pt_PT/](http://dados.prefeitura.sp.gov.br/pt_PT/).\n",
    "\n",
    "Faça uma requisição para pegar o conteúdo da página inicial e verifique se a requisição foi bem sucedida. Verifique que o tipo de dado retornado é um conteúdo HTML."
   ]
  },
  {
   "cell_type": "code",
   "execution_count": null,
   "metadata": {},
   "outputs": [],
   "source": []
  },
  {
   "cell_type": "markdown",
   "metadata": {},
   "source": [
    "### Exercício 3)\n",
    "Escreva um código para realizar um parsing no HTML obtido no exercício 2). Extraia o texto que descreve o portal e que está abaixo do título \"SOBRE O PORTAL\".\n",
    "\n",
    "**DICA**: Utilize o browser para visualizar o \"source\" do html e encontre os marcadores que identificam o texto."
   ]
  },
  {
   "cell_type": "code",
   "execution_count": 4,
   "metadata": {},
   "outputs": [],
   "source": [
    "from bs4 import BeautifulSoup\n"
   ]
  },
  {
   "cell_type": "markdown",
   "metadata": {},
   "source": [
    "### Exercício 4)\n",
    "Extraia todos os grupos de dados que estão disponíveis no portal [http://dados.prefeitura.sp.gov.br/pt_PT/](http://dados.prefeitura.sp.gov.br/pt_PT/), os quais estão indicados abaixo do título \"CONHEÇA OS GRUPOS\"). Imprima o nome do grupo e a URL da página do grupo. \n",
    "\n",
    "**DICA**: Visualize o \"source\" do html e encontre os marcadores que identificam os grupos."
   ]
  },
  {
   "cell_type": "code",
   "execution_count": null,
   "metadata": {},
   "outputs": [],
   "source": []
  },
  {
   "cell_type": "markdown",
   "metadata": {},
   "source": [
    "### Exercício 5)\n",
    "A página ['http://dados.prefeitura.sp.gov.br/pt_PT/dataset'](http://dados.prefeitura.sp.gov.br/pt_PT/dataset) do portal possui uma barra de busca para que se realize consultas às bases existentes. O método <font color='blue'>get</font> pode realizar uma requisição com parâmetros são enviandos para a barra de busca.\n",
    "Por exemplo:\n",
    "```python\n",
    "rq.get('http://dados.prefeitura.sp.gov.br/pt_PT/dataset',\n",
    "       params={'q','seguranca'})\n",
    "```\n",
    "envia a palavra 'seguranca' para a barra de busca, retornando um conteúdo HTML com o resultado da busca.\n",
    "\n",
    "Faça uma requisição enviando como parâmetro de busca a palavra \"saude\". Faça um parsing no conteúdo retornado e extraia os nomes e as URLs dos repositórios retornados. \n",
    "Por exemplo, \n",
    "\n",
    "```html\n",
    "Cadastro dos Estabelecimentos de Saúde\n",
    "\n",
    "Este conjunto de dados contém informações sobre todos os equipamentos municipais de saúde, fruto de um esforço realizado pelo Departamento de Produção e Análise de Informação...\n",
    "```\n",
    "&nbsp;&nbsp;&nbsp;&nbsp;&nbsp;&nbsp;&nbsp;&nbsp;<span style=\"background-color:green\">XLS</span>\n",
    "<span style=\"background-color:orange\">CSV</span>\n",
    "\n",
    "corresponde ao primeiro repositório listado no conteúdo retornado. \n",
    "O nome do repositório é \"Cadastro dos Estabelecimentos de Saúde\" o qual está linkado à página [/pt_PT/dataset/cadastro-dos-estabelecimentos-de-saude](http://dados.prefeitura.sp.gov.br/pt_PT/dataset/cadastro-dos-estabelecimentos-de-saude).\n",
    "Armaze o conteúdo extraído em um dicionário onde a chave é o nome do repositório e o valor é a URL correspondente.\n"
   ]
  },
  {
   "cell_type": "code",
   "execution_count": 6,
   "metadata": {},
   "outputs": [],
   "source": [
    "import requests as rq\n",
    "from bs4 import BeautifulSoup\n"
   ]
  },
  {
   "cell_type": "markdown",
   "metadata": {},
   "source": [
    "### Exercício 6)\n",
    "Cada uma das URLs obtidas no exercício 5) leva a um repositório contendo arquivos para download. Escreva um código para realizar uma requisição em todas as páginas apontadas pelas URLs obtidas no exercício 5). Armazene o resultado das requisições em uma lista chamada `repos`, ou seja, cada ítem da lista corresponde ao conteúdo retornado pela requisição feita a um repositório."
   ]
  },
  {
   "cell_type": "code",
   "execution_count": null,
   "metadata": {},
   "outputs": [],
   "source": []
  },
  {
   "cell_type": "markdown",
   "metadata": {},
   "source": [
    "### Exercício 7)\n",
    "Os conteúdos armazenados na lista `repos` são páginas HTML. Realize um parsing em cada um dos ítens da lista `repos` buscando pelo nome do repositório, a data de criação e a data da última atualização do repositório. Imprima tais informações."
   ]
  },
  {
   "cell_type": "code",
   "execution_count": null,
   "metadata": {},
   "outputs": [],
   "source": []
  },
  {
   "cell_type": "markdown",
   "metadata": {},
   "source": [
    "### Exercício 8)\n",
    "Para cada repositório da lista `repos` imprima a quantidade total de arquivos XLS, CSV, etc. disponíveis para download. "
   ]
  },
  {
   "cell_type": "code",
   "execution_count": null,
   "metadata": {},
   "outputs": [],
   "source": []
  },
  {
   "cell_type": "markdown",
   "metadata": {},
   "source": [
    "### Exercício 9)\n",
    "Alguns grupos de dados possuem muitos repositórios. Escreva um código para imprimir os nomes de todos os repositórios do grupo \"Orçamento e Gestão\"."
   ]
  },
  {
   "cell_type": "code",
   "execution_count": null,
   "metadata": {},
   "outputs": [],
   "source": []
  }
 ],
 "metadata": {
  "kernelspec": {
   "display_name": "Python 3",
   "language": "python",
   "name": "python3"
  },
  "language_info": {
   "codemirror_mode": {
    "name": "ipython",
    "version": 3
   },
   "file_extension": ".py",
   "mimetype": "text/x-python",
   "name": "python",
   "nbconvert_exporter": "python",
   "pygments_lexer": "ipython3",
   "version": "3.7.1"
  }
 },
 "nbformat": 4,
 "nbformat_minor": 2
}
