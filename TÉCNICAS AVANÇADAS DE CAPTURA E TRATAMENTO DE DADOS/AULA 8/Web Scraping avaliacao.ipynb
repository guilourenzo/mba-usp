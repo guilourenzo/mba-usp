{
 "cells": [
  {
   "cell_type": "markdown",
   "metadata": {},
   "source": [
    "# <span style=\"color:blue\"> MBA em Ciência de Dados</span>\n",
    "# <span style=\"color:blue\">Técnicas Avançadas para Captura e Tratamento de Dados</span>\n",
    "\n",
    "## <span style=\"color:blue\"> Web Scraping </span>\n",
    "\n",
    "## <span style=\"color:blue\">Avaliação </span> \n",
    "\n",
    "**Material Produzido por Luis Gustavo Nonato**<br>\n",
    "**Cemeai - ICMC/USP São Carlos**\n",
    "\n",
    "---"
   ]
  },
  {
   "cell_type": "code",
   "execution_count": 2,
   "metadata": {},
   "outputs": [],
   "source": [
    "import requests as rq\n",
    "from bs4 import BeautifulSoup"
   ]
  },
  {
   "cell_type": "markdown",
   "metadata": {},
   "source": [
    "Considere o portal de dados abertos do Governo Federal: \n",
    "\n",
    "[http://www.dados.gov.br/](http://www.dados.gov.br/)"
   ]
  },
  {
   "cell_type": "markdown",
   "metadata": {},
   "source": [
    "### Exercício 1)\n",
    "Faça uma requisição no side de dados abertos do Governo Federal utilizando a palavra \"seguranca\" (sem ç) como fonte de busca. Dentre os repositórios que aparecem na primeira página resultante da busca, quantos caracteres aparecem no nome do repositório com o nome mais longo?\n",
    "\n",
    "Por exemplo, o nome do repositório\n",
    "```html\n",
    "Segurança Pública com Cidadania\n",
    "\n",
    "Segurança Pública com Cidadania. Empreendimento pertencente a carteira do Anexo III do PPA 2012-2015. Programa 2070. Iniciativas 03DX e 04AD - escala 1:2.500.000. Sistema de...\n",
    "```\n",
    "&nbsp;&nbsp;&nbsp;&nbsp;&nbsp;&nbsp;&nbsp;&nbsp;<span style=\"background-color:blue\">HTML</span>\n",
    "<span style=\"background-color:orange\">XML</span>\n",
    "\n",
    "é _\"Segurança Pública com Cidadania\"_ e possui 31 caracteres.\n",
    "\n",
    "a) 77<br>\n",
    "b) 78<br>\n",
    "c) 79<br>\n",
    "d) 80\n",
    "\n",
    "**Dica**: Os repositórios estão marcados pela `tag` \n",
    "```html\n",
    "  <li class=\"dataset-item\">\n",
    "```"
   ]
  },
  {
   "cell_type": "code",
   "execution_count": null,
   "metadata": {},
   "outputs": [],
   "source": []
  },
  {
   "cell_type": "markdown",
   "metadata": {},
   "source": [
    "### Exercício 2) \n",
    "Quantos arquivos estão disponíveis para download nos repositórios listados na primeira página retornada pela requisição do exercício 1)?\n",
    "\n",
    "a) entre 30 e 35<br>\n",
    "b) entre 100 e 105<br>\n",
    "c) entre 70 e 75<br>\n",
    "d) entre 80 e 90\n",
    "\n",
    "**Dica**: Você deve extrair a URL correspondente à página de cada repositório, fazer uma requisição a tais páginas e contar o número de arquivos listados em cada uma delas. Os arquivos estão marcados pela `tag` no HTML de cada repositório\n",
    "```html\n",
    "  <li class=\"resource-item\">\n",
    "```"
   ]
  },
  {
   "cell_type": "code",
   "execution_count": null,
   "metadata": {},
   "outputs": [],
   "source": []
  },
  {
   "cell_type": "markdown",
   "metadata": {},
   "source": [
    "### Exercício 3)\n",
    "Repita o exercício 2), porém, contando apenas os aquivos de formato CSV que estão disponíveis para download. O total de arquivos CSV é:\n",
    "\n",
    "a) entre 20 e 25<br>\n",
    "b) entre 40 e 45<br>\n",
    "c) entre 30 e 35<br>\n",
    "d) entre 50 e 55<br>"
   ]
  },
  {
   "cell_type": "code",
   "execution_count": null,
   "metadata": {},
   "outputs": [],
   "source": []
  },
  {
   "cell_type": "markdown",
   "metadata": {},
   "source": [
    "### Exercício 4) \n",
    "Um total de 11 páginas são retornadas como resultado da requisição realizada no exercício 1). Percorra os nomes dos repositórios em todas as 11 páginas e calcule quantos repositórios **não** possuem a palavra \"segurança\" como parte do nome. O número encontrado é:\n",
    "\n",
    "a) entre 185 e 195<br>\n",
    "b) entre 170 e 175<br>\n",
    "c) entre 150 e 155<br>\n",
    "d) entre 75 e 80<br>\n",
    "\n",
    "\n",
    "**Obs:** A busca com a palavra \"seguranca\" é feita sem o ç, porém a busca nos nomes dos repositórios pela palavra \"segurança\" tem que ser feita com o ç. Não faça distinção entre letras maiúsculas ou minúsculas, ou seja, \"Segurança\" e \"segurança\" devem ser consideradas na contagem.\n",
    "\n",
    "**Dica:** Você consegue navegar pelas páginas enviando o parâmetro\n",
    "```python\n",
    "params={'page':pagina,'q': 'seguranca'}\n",
    "```\n",
    "para o comando <font color='blue'>get</font>, onde `pagina` é o número da página que se deseja buscar."
   ]
  },
  {
   "cell_type": "code",
   "execution_count": null,
   "metadata": {},
   "outputs": [],
   "source": []
  },
  {
   "cell_type": "markdown",
   "metadata": {},
   "source": [
    "### Exercício 5) \n",
    "Os repositórios retornados pela requisição do exercício 1) podem trazer a informação sobre o \"Autor\" do repositório, ou seja, quem foi o criador do repositório. Percorra as 11 páginas retornadas da requisição do exercício 1) e, para todos os repositórios listados em cada página, verifique qual é o \"Autor\" que aparece mais frequentemente como criador dos repositórios. \n",
    "\n",
    "O \"Autor\" mais frequente é: \n",
    "\n",
    "a) 'GSI' com aproximadamente 68 repositórios<br>\n",
    "b) 'SNJ' com aproximadamente 27 repositórios<br>\n",
    "c) 'Ministério da Justiça' com aproximadamente 16 repositórios<br>\n",
    "d) 'SNJ' com aproximadamente 76 repositórios<br>"
   ]
  },
  {
   "cell_type": "code",
   "execution_count": null,
   "metadata": {},
   "outputs": [],
   "source": []
  }
 ],
 "metadata": {
  "kernelspec": {
   "display_name": "Python 3",
   "language": "python",
   "name": "python3"
  },
  "language_info": {
   "codemirror_mode": {
    "name": "ipython",
    "version": 3
   },
   "file_extension": ".py",
   "mimetype": "text/x-python",
   "name": "python",
   "nbconvert_exporter": "python",
   "pygments_lexer": "ipython3",
   "version": "3.7.1"
  }
 },
 "nbformat": 4,
 "nbformat_minor": 2
}
