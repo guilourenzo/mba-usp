{
 "cells": [
  {
   "cell_type": "markdown",
   "metadata": {},
   "source": [
    "# <span style=\"color:blue\"> MBA em Ciência de Dados</span>\n",
    "# <span style=\"color:blue\">Técnicas Avançadas para Captura e Tratamento de Dados</span>\n",
    "\n",
    "## <span style=\"color:blue\"> Web Scraping </span>\n",
    "\n",
    "## <span style=\"color:blue\">Avaliação </span> \n",
    "\n",
    "**Material Produzido por Luis Gustavo Nonato**<br>\n",
    "**Cemeai - ICMC/USP São Carlos**\n",
    "\n",
    "---"
   ]
  },
  {
   "cell_type": "code",
   "execution_count": 17,
   "metadata": {},
   "outputs": [],
   "source": [
    "import requests as rq\n",
    "from bs4 import BeautifulSoup"
   ]
  },
  {
   "cell_type": "markdown",
   "metadata": {},
   "source": [
    "Considere o portal de dados abertos do Governo Federal: \n",
    "\n",
    "[http://www.dados.gov.br/](http://www.dados.gov.br/)"
   ]
  },
  {
   "cell_type": "code",
   "execution_count": 18,
   "metadata": {},
   "outputs": [
    {
     "output_type": "stream",
     "name": "stdout",
     "text": "Status do request:  200\n"
    }
   ],
   "source": [
    "url = 'http://www.dados.gov.br/dataset'\n",
    "\n",
    "dados = rq.get(url, params={'q': 'seguranca'})\n",
    "print('Status do request: ', dados.status_code)"
   ]
  },
  {
   "cell_type": "code",
   "execution_count": 19,
   "metadata": {},
   "outputs": [],
   "source": [
    "dados_seg = BeautifulSoup(dados.text, 'html.parser')"
   ]
  },
  {
   "cell_type": "markdown",
   "metadata": {},
   "source": [
    "### Exercício 1)\n",
    "Faça uma requisição no side de dados abertos do Governo Federal utilizando a palavra \"seguranca\" (sem ç) como fonte de busca. Dentre os repositórios que aparecem na primeira página resultante da busca, quantos caracteres aparecem no nome do repositório com o nome mais longo?\n",
    "\n",
    "Por exemplo, o nome do repositório\n",
    "```html\n",
    "Segurança Pública com Cidadania\n",
    "\n",
    "Segurança Pública com Cidadania. Empreendimento pertencente a carteira do Anexo III do PPA 2012-2015. Programa 2070. Iniciativas 03DX e 04AD - escala 1:2.500.000. Sistema de...\n",
    "```\n",
    "&nbsp;&nbsp;&nbsp;&nbsp;&nbsp;&nbsp;&nbsp;&nbsp;<span style=\"background-color:blue\">HTML</span>\n",
    "<span style=\"background-color:orange\">XML</span>\n",
    "\n",
    "é _\"Segurança Pública com Cidadania\"_ e possui 31 caracteres.\n",
    "\n",
    "a) 77<br>\n",
    "b) 78<br>\n",
    "c) 79<br>\n",
    "d) 80\n",
    "\n",
    "**Dica**: Os repositórios estão marcados pela `tag` \n",
    "```html\n",
    "  <li class=\"dataset-item\">\n",
    "```"
   ]
  },
  {
   "cell_type": "code",
   "execution_count": 20,
   "metadata": {},
   "outputs": [
    {
     "output_type": "stream",
     "name": "stdout",
     "text": "Segurança Pública com  Cidadania ==> 32\n----------\nSegurança Pública com Cidadania ==> 31\n----------\nIndicadores sobre Segurança Pública ==> 35\n----------\nRegiões Integradas de Segurança Pública ==> 39\n----------\nSeminário: Fronteiras e Segurança Nacional ==> 42\n----------\nSeminário: Fronteiras e Segurança Nacional ==> 42\n----------\nIndicadores sobre Segurança Pública (editado) ==> 45\n----------\nEquipamentos Públicos de Segurança Alimentar e Nutricional ==> 58\n----------\nMunicípios com Conselho Municipal de Segurança Alimentar ==> 56\n----------\nDiagnostico da Juventude - Segurança e Justiça ==> 46\n----------\nIndicadores sobre Força Nacional de Segurança Pública ==> 53\n----------\nMAPASAN - Mapeamento de Segurança Alimentar e Nutricional ==> 57\n----------\nIndicadores sobre Aprimoramento das Atividades de Segurança Pública ==> 67\n----------\nIndicadores sobre Adequação de Unidades de Segurança Pública ==> 60\n----------\nA Opinião Pública e a Segurança do Estado - 2004 ==> 48\n----------\nA Opinião Pública e a Segurança do Estado ==> 41\n----------\nIndicadores sobre PRONASCI - Programa Nacional de Segurança Pública com Cidad... ==> 80\n----------\nComunidades Terapêuticas ==> 24\n----------\nAtos de Assentimento Prévio – Outubro de 2018 ==> 45\n----------\nAtos de Assentimento Prévio – Setembro de 2018 ==> 46\n----------\n"
    }
   ],
   "source": [
    "name_rep = {}\n",
    "for repositorio in dados_seg('li', {'class': 'dataset-item'}):\n",
    "    titulo = repositorio.find('h3').text\n",
    "    data = len(titulo.strip())\n",
    "    print(f'{titulo.strip()} ==> {data}')\n",
    "    name_rep[titulo.strip()] = data\n",
    "    print(5*'--')"
   ]
  },
  {
   "cell_type": "code",
   "execution_count": 21,
   "metadata": {},
   "outputs": [
    {
     "output_type": "stream",
     "name": "stdout",
     "text": "('Indicadores sobre PRONASCI - Programa Nacional de Segurança Pública com Cidad...', 80)\n"
    }
   ],
   "source": [
    "print(sorted(name_rep.items(), key=lambda kv: kv[1], reverse=True)[0])"
   ]
  },
  {
   "cell_type": "markdown",
   "metadata": {},
   "source": [
    "## RESPOSTA:<br>\n",
    "**LETRA D: 80**"
   ]
  },
  {
   "cell_type": "markdown",
   "metadata": {},
   "source": [
    "### Exercício 2) \n",
    "Quantos arquivos estão disponíveis para download nos repositórios listados na primeira página retornada pela requisição do exercício 1)?\n",
    "\n",
    "a) entre 30 e 35<br>\n",
    "b) entre 100 e 105<br>\n",
    "c) entre 70 e 75<br>\n",
    "d) entre 80 e 90\n",
    "\n",
    "**Dica**: Você deve extrair a URL correspondente à página de cada repositório, fazer uma requisição a tais páginas e contar o número de arquivos listados em cada uma delas. Os arquivos estão marcados pela `tag` no HTML de cada repositório\n",
    "```html\n",
    "  <li class=\"resource-item\">\n",
    "```"
   ]
  },
  {
   "cell_type": "code",
   "execution_count": 22,
   "metadata": {},
   "outputs": [
    {
     "output_type": "stream",
     "name": "stdout",
     "text": "Segurança Pública com  Cidadania ==> /dataset/mpog_seguranca_publica\nSegurança Pública com  Cidadania ==> 5 ==> 5\n----------\nSegurança Pública com Cidadania ==> /dataset/seguranca-publica-com-cidadania\nSegurança Pública com Cidadania ==> 2 ==> 7\n----------\nIndicadores sobre Segurança Pública ==> /dataset/seguranca-publica\nIndicadores sobre Segurança Pública ==> 4 ==> 11\n----------\nRegiões Integradas de Segurança Pública ==> /dataset/regioes-integradas-de-seguranca-publica\nRegiões Integradas de Segurança Pública ==> 3 ==> 14\n----------\nSeminário: Fronteiras e Segurança Nacional ==> /dataset/seminario-fronteiras-e-seguranca-nacional1\nSeminário: Fronteiras e Segurança Nacional ==> 1 ==> 15\n----------\nSeminário: Fronteiras e Segurança Nacional ==> /dataset/seminario-fronteiras-e-seguranca-nacional\nSeminário: Fronteiras e Segurança Nacional ==> 1 ==> 16\n----------\nIndicadores sobre Segurança Pública (editado) ==> /dataset/seguranca-publica--editado\nIndicadores sobre Segurança Pública (editado) ==> 4 ==> 20\n----------\nEquipamentos Públicos de Segurança Alimentar e Nutricional ==> /dataset/equipamentos-publicos-de-seguranca-alimentar-e-nutricional\nEquipamentos Públicos de Segurança Alimentar e Nutricional ==> 1 ==> 21\n----------\nMunicípios com Conselho Municipal de Segurança Alimentar ==> /dataset/municipios-com-conselho-municipal-de-seguranca-alimentar\nMunicípios com Conselho Municipal de Segurança Alimentar ==> 1 ==> 22\n----------\nDiagnostico da Juventude - Segurança e Justiça ==> /dataset/diagnostico-da-juventude-seguranca-e-justica\nDiagnostico da Juventude - Segurança e Justiça ==> 1 ==> 23\n----------\nIndicadores sobre Força Nacional de Segurança Pública ==> /dataset/forca-nacional-de-seguranca-publica\nIndicadores sobre Força Nacional de Segurança Pública ==> 8 ==> 31\n----------\nMAPASAN - Mapeamento de Segurança Alimentar e Nutricional ==> /dataset/mapeamento-de-seguranca-alimentar-e-nutricional\nMAPASAN - Mapeamento de Segurança Alimentar e Nutricional ==> 52 ==> 83\n----------\nIndicadores sobre Aprimoramento das Atividades de Segurança Pública ==> /dataset/aprimoramento-das-atividades-de-seguranca-publica\nIndicadores sobre Aprimoramento das Atividades de Segurança Pública ==> 4 ==> 87\n----------\nIndicadores sobre Adequação de Unidades de Segurança Pública ==> /dataset/adequacao-de-unidades-de-seguranca-publica\nIndicadores sobre Adequação de Unidades de Segurança Pública ==> 6 ==> 93\n----------\nA Opinião Pública e a Segurança do Estado - 2004 ==> /dataset/a-opiniao-publica-e-a-seguranca-do-estado-2004\nA Opinião Pública e a Segurança do Estado - 2004 ==> 1 ==> 94\n----------\nA Opinião Pública e a Segurança do Estado ==> /dataset/oppublica\nA Opinião Pública e a Segurança do Estado ==> 1 ==> 95\n----------\nIndicadores sobre PRONASCI - Programa Nacional de Segurança Pública com Cidad... ==> /dataset/pronasci-programa-nacional-de-seguranca-publica-com-cidadania\nIndicadores sobre PRONASCI - Programa Nacional de Segurança Pública com Cidad... ==> 2 ==> 97\n----------\nComunidades Terapêuticas ==> /dataset/comunidades-terapeuticas-privado\nComunidades Terapêuticas ==> 1 ==> 98\n----------\nAtos de Assentimento Prévio – Outubro de 2018 ==> /dataset/ass_previo_out2018\nAtos de Assentimento Prévio – Outubro de 2018 ==> 1 ==> 99\n----------\nAtos de Assentimento Prévio – Setembro de 2018 ==> /dataset/ass_previo_set2018\nAtos de Assentimento Prévio – Setembro de 2018 ==> 1 ==> 100\n----------\n"
    }
   ],
   "source": [
    "link_rep = {}\n",
    "url = 'http://www.dados.gov.br'\n",
    "\n",
    "j = 0\n",
    "for links in dados_seg('li', {'class': 'dataset-item'}):\n",
    "    titulo = links.find('h3').text\n",
    "    titulo = titulo.strip()\n",
    "    link = links.find('a').get('href')\n",
    "    print(f'{titulo} ==> {link}')\n",
    "\n",
    "    page = rq.get(url+link)\n",
    "    # print('Status do request: ', dados.status_code)\n",
    "    page_bs = BeautifulSoup(page.text, 'html.parser')\n",
    "    \n",
    "    i = 0\n",
    "    for files in page_bs('li', {'class': 'resource-item'}):\n",
    "        x = files.find('a').get('href')\n",
    "        i += 1\n",
    "\n",
    "    j+=i    \n",
    "    print(f'{titulo} ==> {i} ==> {j}')\n",
    "    link_rep[titulo] = i\n",
    "\n",
    "    print(5*'--')"
   ]
  },
  {
   "cell_type": "code",
   "execution_count": 23,
   "metadata": {},
   "outputs": [
    {
     "output_type": "stream",
     "name": "stdout",
     "text": "Foram encontrados 100 links na Primeira página\n"
    }
   ],
   "source": [
    "print('Foram encontrados {} links na Primeira página'.format(j))"
   ]
  },
  {
   "cell_type": "markdown",
   "metadata": {},
   "source": [
    "## RESPOSTA:<br>\n",
    "**LETRA B: ENTRE 100 E 105**"
   ]
  },
  {
   "cell_type": "markdown",
   "metadata": {},
   "source": [
    "### Exercício 3)\n",
    "Repita o exercício 2), porém, contando apenas os aquivos de formato CSV que estão disponíveis para download. O total de arquivos CSV é:\n",
    "\n",
    "a) entre 20 e 25<br>\n",
    "b) entre 40 e 45<br>\n",
    "c) entre 30 e 35<br>\n",
    "d) entre 50 e 55<br>"
   ]
  },
  {
   "cell_type": "code",
   "execution_count": 24,
   "metadata": {},
   "outputs": [
    {
     "output_type": "stream",
     "name": "stdout",
     "text": "Segurança Pública com  Cidadania ==> /dataset/mpog_seguranca_publica\nSegurança Pública com  Cidadania ==> 1 ==> 1\n----------\nSegurança Pública com Cidadania ==> /dataset/seguranca-publica-com-cidadania\nSegurança Pública com Cidadania ==> 0 ==> 1\n----------\nIndicadores sobre Segurança Pública ==> /dataset/seguranca-publica\nIndicadores sobre Segurança Pública ==> 0 ==> 1\n----------\nRegiões Integradas de Segurança Pública ==> /dataset/regioes-integradas-de-seguranca-publica\nRegiões Integradas de Segurança Pública ==> 0 ==> 1\n----------\nSeminário: Fronteiras e Segurança Nacional ==> /dataset/seminario-fronteiras-e-seguranca-nacional1\nSeminário: Fronteiras e Segurança Nacional ==> 0 ==> 1\n----------\nSeminário: Fronteiras e Segurança Nacional ==> /dataset/seminario-fronteiras-e-seguranca-nacional\nSeminário: Fronteiras e Segurança Nacional ==> 0 ==> 1\n----------\nIndicadores sobre Segurança Pública (editado) ==> /dataset/seguranca-publica--editado\nIndicadores sobre Segurança Pública (editado) ==> 0 ==> 1\n----------\nEquipamentos Públicos de Segurança Alimentar e Nutricional ==> /dataset/equipamentos-publicos-de-seguranca-alimentar-e-nutricional\nEquipamentos Públicos de Segurança Alimentar e Nutricional ==> 0 ==> 1\n----------\nMunicípios com Conselho Municipal de Segurança Alimentar ==> /dataset/municipios-com-conselho-municipal-de-seguranca-alimentar\nMunicípios com Conselho Municipal de Segurança Alimentar ==> 0 ==> 1\n----------\nDiagnostico da Juventude - Segurança e Justiça ==> /dataset/diagnostico-da-juventude-seguranca-e-justica\nDiagnostico da Juventude - Segurança e Justiça ==> 1 ==> 2\n----------\nIndicadores sobre Força Nacional de Segurança Pública ==> /dataset/forca-nacional-de-seguranca-publica\nIndicadores sobre Força Nacional de Segurança Pública ==> 0 ==> 2\n----------\nMAPASAN - Mapeamento de Segurança Alimentar e Nutricional ==> /dataset/mapeamento-de-seguranca-alimentar-e-nutricional\nMAPASAN - Mapeamento de Segurança Alimentar e Nutricional ==> 29 ==> 31\n----------\nIndicadores sobre Aprimoramento das Atividades de Segurança Pública ==> /dataset/aprimoramento-das-atividades-de-seguranca-publica\nIndicadores sobre Aprimoramento das Atividades de Segurança Pública ==> 0 ==> 31\n----------\nIndicadores sobre Adequação de Unidades de Segurança Pública ==> /dataset/adequacao-de-unidades-de-seguranca-publica\nIndicadores sobre Adequação de Unidades de Segurança Pública ==> 0 ==> 31\n----------\nA Opinião Pública e a Segurança do Estado - 2004 ==> /dataset/a-opiniao-publica-e-a-seguranca-do-estado-2004\nA Opinião Pública e a Segurança do Estado - 2004 ==> 0 ==> 31\n----------\nA Opinião Pública e a Segurança do Estado ==> /dataset/oppublica\nA Opinião Pública e a Segurança do Estado ==> 0 ==> 31\n----------\nIndicadores sobre PRONASCI - Programa Nacional de Segurança Pública com Cidad... ==> /dataset/pronasci-programa-nacional-de-seguranca-publica-com-cidadania\nIndicadores sobre PRONASCI - Programa Nacional de Segurança Pública com Cidad... ==> 0 ==> 31\n----------\nComunidades Terapêuticas ==> /dataset/comunidades-terapeuticas-privado\nComunidades Terapêuticas ==> 1 ==> 32\n----------\nAtos de Assentimento Prévio – Outubro de 2018 ==> /dataset/ass_previo_out2018\nAtos de Assentimento Prévio – Outubro de 2018 ==> 0 ==> 32\n----------\nAtos de Assentimento Prévio – Setembro de 2018 ==> /dataset/ass_previo_set2018\nAtos de Assentimento Prévio – Setembro de 2018 ==> 0 ==> 32\n----------\n"
    }
   ],
   "source": [
    "link_csv = {}\n",
    "url = 'http://www.dados.gov.br'\n",
    "\n",
    "j = 0\n",
    "for links in dados_seg('li', {'class': 'dataset-item'}):\n",
    "    titulo = links.find('h3').text\n",
    "    titulo = titulo.strip()\n",
    "    link = links.find('a').get('href')\n",
    "    print(f'{titulo} ==> {link}')\n",
    "\n",
    "    page = rq.get(url+link)\n",
    "    # print('Status do request: ', dados.status_code)\n",
    "    page_bs = BeautifulSoup(page.text, 'html.parser')\n",
    "    \n",
    "    i = 0\n",
    "    for files in page_bs('li', {'class': 'resource-item'}):\n",
    "        y = files.find('span').get('data-format')\n",
    "        if (y == 'csv') | (y == 'csv+zip'): \n",
    "            x = files.find('a').get('href')\n",
    "            i += 1\n",
    "\n",
    "    j+=i    \n",
    "    print(f'{titulo} ==> {i} ==> {j}')\n",
    "    link_csv[titulo] = i\n",
    "\n",
    "    print(5*'--')"
   ]
  },
  {
   "cell_type": "code",
   "execution_count": 25,
   "metadata": {},
   "outputs": [
    {
     "output_type": "stream",
     "name": "stdout",
     "text": "Foram encontrados 32 links com arquivos CSV\n"
    }
   ],
   "source": [
    "print('Foram encontrados {} links com arquivos CSV'.format(j))"
   ]
  },
  {
   "cell_type": "markdown",
   "metadata": {},
   "source": [
    "## RESPOSTA:<br>\n",
    "**LETRA C: ENTRE 30 E 35**"
   ]
  },
  {
   "cell_type": "markdown",
   "metadata": {},
   "source": [
    "### Exercício 4) \n",
    "Um total de 11 páginas são retornadas como resultado da requisição realizada no exercício 1). Percorra os nomes dos repositórios em todas as 11 páginas e calcule quantos repositórios **não** possuem a palavra \"segurança\" como parte do nome. O número encontrado é:\n",
    "\n",
    "a) entre 185 e 195<br>\n",
    "b) entre 170 e 175<br>\n",
    "c) entre 150 e 155<br>\n",
    "d) entre 75 e 80<br>\n",
    "\n",
    "\n",
    "**Obs:** A busca com a palavra \"seguranca\" é feita sem o ç, porém a busca nos nomes dos repositórios pela palavra \"segurança\" tem que ser feita com o ç. Não faça distinção entre letras maiúsculas ou minúsculas, ou seja, \"Segurança\" e \"segurança\" devem ser consideradas na contagem.\n",
    "\n",
    "**Dica:** Você consegue navegar pelas páginas enviando o parâmetro\n",
    "```python\n",
    "params={'page':pagina,'q': 'seguranca'}\n",
    "```\n",
    "para o comando <font color='blue'>get</font>, onde `pagina` é o número da página que se deseja buscar."
   ]
  },
  {
   "cell_type": "code",
   "execution_count": 26,
   "metadata": {},
   "outputs": [
    {
     "output_type": "stream",
     "name": "stdout",
     "text": "Página: 1 ==> Segurança Pública com  Cidadania ==> 0 ==> 0\nPágina: 1 ==> Segurança Pública com Cidadania ==> 0 ==> 0\nPágina: 1 ==> Indicadores sobre Segurança Pública ==> 0 ==> 0\nPágina: 1 ==> Regiões Integradas de Segurança Pública ==> 0 ==> 0\nPágina: 1 ==> Seminário: Fronteiras e Segurança Nacional ==> 0 ==> 0\nPágina: 1 ==> Seminário: Fronteiras e Segurança Nacional ==> 0 ==> 0\nPágina: 1 ==> Indicadores sobre Segurança Pública (editado) ==> 0 ==> 0\nPágina: 1 ==> Equipamentos Públicos de Segurança Alimentar e Nutricional ==> 0 ==> 0\nPágina: 1 ==> Municípios com Conselho Municipal de Segurança Alimentar ==> 0 ==> 0\nPágina: 1 ==> Diagnostico da Juventude - Segurança e Justiça ==> 0 ==> 0\nPágina: 1 ==> Indicadores sobre Força Nacional de Segurança Pública ==> 0 ==> 0\nPágina: 1 ==> MAPASAN - Mapeamento de Segurança Alimentar e Nutricional ==> 0 ==> 0\nPágina: 1 ==> Indicadores sobre Aprimoramento das Atividades de Segurança Pública ==> 0 ==> 0\nPágina: 1 ==> Indicadores sobre Adequação de Unidades de Segurança Pública ==> 0 ==> 0\nPágina: 1 ==> A Opinião Pública e a Segurança do Estado - 2004 ==> 0 ==> 0\nPágina: 1 ==> A Opinião Pública e a Segurança do Estado ==> 0 ==> 0\nPágina: 1 ==> Indicadores sobre PRONASCI - Programa Nacional de Segurança Pública com Cidad... ==> 0 ==> 0\nPágina: 1 ==> Comunidades Terapêuticas ==> 1 ==> 1\nPágina: 1 ==> Atos de Assentimento Prévio – Outubro de 2018 ==> 1 ==> 2\nPágina: 1 ==> Atos de Assentimento Prévio – Setembro de 2018 ==> 1 ==> 3\nPágina: 2 ==> Plano de Dados Abertos do GSI - 2017-2018 ==> 1 ==> 4\nPágina: 2 ==> Plano de Dados Abertos do GSI  2017-2018 ==> 1 ==> 5\nPágina: 2 ==> Atos de Assentimento Prévio – Dezembro de 2018 ==> 1 ==> 6\nPágina: 2 ==> Atos de Assentimento Prévio – Maio/2019 ==> 1 ==> 7\nPágina: 2 ==> Atos de Assentimento Prévio – Novembro de 2018 ==> 1 ==> 8\nPágina: 2 ==> Atos de Assentimento Prévio - 2020 ==> 1 ==> 9\nPágina: 2 ==> Atos de Assentimento Prévio – Abril/2019 ==> 1 ==> 10\nPágina: 2 ==> Postos e delegacias do Departamento de Polícia Federal ==> 1 ==> 11\nPágina: 2 ==> Atos de Assentimento Prévio - 2020 ==> 1 ==> 12\nPágina: 2 ==> Curso de Pós-Graduação - 2017 e 2018 ==> 1 ==> 13\nPágina: 2 ==> Atos de Assentimento Prévio - 2018 ==> 1 ==> 14\nPágina: 2 ==> Atos de Assentimento Prévio - Janeiro a Agosto de 2018 ==> 1 ==> 15\nPágina: 2 ==> VII Encontro Nacional de Estudos Estratégicos – Volume II - 2007 ==> 1 ==> 16\nPágina: 2 ==> VII Encontro Nacional de Estudos Estratégicos – Volume I - 2007 ==> 1 ==> 17\nPágina: 2 ==> Plano de Dados Abertos - CASA MILITAR ==> 1 ==> 18\nPágina: 2 ==> Postos Campanha do Desarmamento ==> 1 ==> 19\nPágina: 2 ==> Número de habilitados nos Distrito Federal nos últimos 10 anos ==> 1 ==> 20\nPágina: 2 ==> VII Encontro Nacional de Estudos Estratégicos – Volume II ==> 1 ==> 21\nPágina: 2 ==> VII Encontro Nacional de Estudos Estratégicos – Volume I ==> 1 ==> 22\nPágina: 2 ==> VII Encontro Nacional de Estudos Estratégicos – Volume III ==> 1 ==> 23\nPágina: 3 ==> Registros de violência contra a mulher  no estado do Rio Grande do Sul ==> 1 ==> 24\nPágina: 3 ==> VII Encontro Nacional de Estudos Estratégicos – Volume III - 2007 ==> 1 ==> 25\nPágina: 3 ==> Tipos de infrações cometidas nas vias urbanas do Distrito Federal em 2019 ==> 1 ==> 26\nPágina: 3 ==> Sinalização vertical e horizontal por região administrativa nas vias urbanas ... ==> 1 ==> 27\nPágina: 3 ==> Integração Energética Brasil-Venezuela ==> 1 ==> 28\nPágina: 3 ==> Tipos de infrações cometidas nas vias urbanas do Distrito Federal em 2018 ==> 1 ==> 29\nPágina: 3 ==> Indicadores sobre Bolsa Formação ==> 1 ==> 30\nPágina: 3 ==> Anuário Estatístico do Estado de Alagoas ==> 1 ==> 31\nPágina: 3 ==> Editais de Seleção de Estagiários ==> 1 ==> 32\nPágina: 3 ==> A emergência da China e suas relações com a América Latina e África ==> 1 ==> 33\nPágina: 3 ==> A Emergência da China e suas Relações com a América e África - 2011 ==> 1 ==> 34\nPágina: 3 ==> Postos e delegacias do Departamento de Polícia Rodoviária Federal ==> 1 ==> 35\nPágina: 3 ==> Inventário de Base de Dados ==> 1 ==> 36\nPágina: 3 ==> Recall - Campanhas de Chamamento ==> 1 ==> 37\nPágina: 3 ==> Comunidades Terapêuticas ==> 1 ==> 38\nPágina: 3 ==> Lista de Cartórios do Brasil ==> 1 ==> 39\nPágina: 3 ==> Diagnóstico dos municípios do estado do Acre ==> 1 ==> 40\nPágina: 3 ==> Diagnóstico do Distrito Federal ==> 1 ==> 41\nPágina: 3 ==> Diagnóstico dos municípios do estado do Piauí ==> 1 ==> 42\nPágina: 3 ==> Diagnóstico dos municípios do estado de Santa Catarina ==> 1 ==> 43\nPágina: 4 ==> Diagnóstico dos municípios do estado de Rondônia ==> 1 ==> 44\nPágina: 4 ==> Diagnóstico dos municípios do estado do Amapá ==> 1 ==> 45\nPágina: 4 ==> Diagnóstico dos municípios do estado de Roraima ==> 1 ==> 46\nPágina: 4 ==> Plano de dados abertos - SSP ==> 1 ==> 47\nPágina: 4 ==> Estruturas da Fundacentro ==> 1 ==> 48\nPágina: 4 ==> Sistema Multa - Autuações de Trânsito em Rodovias Federais ==> 1 ==> 49\nPágina: 4 ==> Cadastro Nacional de Entidades Sociais ==> 1 ==> 50\nPágina: 4 ==> Resenha Estatística do Estado de Alagoas ==> 1 ==> 51\nPágina: 4 ==> Ocorrências criminais no estado do Rio Grande do Sul ==> 1 ==> 52\nPágina: 4 ==> Ocorrências Criminais - Sinesp ==> 1 ==> 53\nPágina: 4 ==> Indicadores sobre PROTEJO - Projeto de Proteção dos Jovens em Território Vuln... ==> 1 ==> 54\nPágina: 4 ==> Rol de Informações Classificadas de Desclassificadas ==> 1 ==> 55\nPágina: 4 ==> Programa de Análise de Produtos (PAP) ==> 1 ==> 56\nPágina: 4 ==> Conflitos Sociais na América Latina ==> 1 ==> 57\nPágina: 4 ==> A difusão de Poder na Economia Globalizada ==> 1 ==> 58\nPágina: 4 ==> Dados Complementares de Discentes ==> 1 ==> 59\nPágina: 4 ==> Desaparecimento e localização de pessoas no Distrito Federal ==> 1 ==> 60\nPágina: 4 ==> Pesquisa sobre tempo médio do processamento de homicídios ==> 1 ==> 61\nPágina: 4 ==> Diagnóstico dos municípios do estado do Mato Grosso do Sul ==> 1 ==> 62\nPágina: 4 ==> Diagnóstico dos municípios do estado do Amazonas ==> 1 ==> 63\nPágina: 5 ==> Diagnóstico dos municípios do estado do Paraná ==> 1 ==> 64\nPágina: 5 ==> Diagnóstico dos municípios do estado do Tocantis ==> 1 ==> 65\nPágina: 5 ==> Diagnóstico dos municípios do estado de Sergipe ==> 1 ==> 66\nPágina: 5 ==> Diagnóstico dos municípios do estado do Mato Grosso ==> 1 ==> 67\nPágina: 5 ==> Diagnóstico dos municípios do estado do Rio Grande do Sul ==> 1 ==> 68\nPágina: 5 ==> Sistema BR-Brasil - Boletins de Ocorrências em Rodovias Federais ==> 1 ==> 69\nPágina: 5 ==> Gerenciamento de Crises: Modelos e Inovação ==> 1 ==> 70\nPágina: 5 ==> Operação de Paz no Haiti ==> 1 ==> 71\nPágina: 5 ==> Encontro de Estudos – Terrorismo ==> 1 ==> 72\nPágina: 5 ==> Ciclo de Estudos sobre a Amazônia ==> 1 ==> 73\nPágina: 5 ==> Brasil-Argentina: Uma Relação Estratégica ==> 1 ==> 74\nPágina: 5 ==> Organizações de formação - Centro de instrução AVSEC - Centros de Instrução H... ==> 1 ==> 75\nPágina: 5 ==> Encontro de Estudos: Terrorismo - 2006 ==> 1 ==> 76\nPágina: 5 ==> Encontro de Estudos - Mudanças Climáticas ==> 1 ==> 77\nPágina: 5 ==> Gerenciamento de Crises: Modelos e Inovação - 2004 ==> 1 ==> 78\nPágina: 5 ==> Ciclo de Estudos sobre a Amazônia - 2004 ==> 1 ==> 79\nPágina: 5 ==> Operação de Paz no Haiti - 2005 ==> 1 ==> 80\nPágina: 5 ==> Brasil-Argentina: Uma Relação Estratégica ==> 1 ==> 81\nPágina: 5 ==> Encontro de Estudos - Mudanças Climáticas ==> 1 ==> 82\nPágina: 5 ==> Fiscalização de Barragens ==> 1 ==> 83\nPágina: 6 ==> Comitê Nacional para os Refugiados ==> 1 ==> 84\nPágina: 6 ==> Fiscalização de Barragens ==> 1 ==> 85\nPágina: 6 ==> Editais de Seleção de Servidores ==> 1 ==> 86\nPágina: 6 ==> Encontro de Estudos: Terrorismo - 2003 ==> 1 ==> 87\nPágina: 6 ==> Encontro de Estudos: Terrorismo - 2003 ==> 1 ==> 88\nPágina: 6 ==> Violência contra a mulher no DF ==> 1 ==> 89\nPágina: 6 ==> Crimes de Racismo e Injúria racial no Distrito Federal ==> 1 ==> 90\nPágina: 6 ==> Lista de Terceirizados do Ministério da Justiça ==> 1 ==> 91\nPágina: 6 ==> Debates Públicos Online ==> 1 ==> 92\nPágina: 6 ==> Pesquisa sobre Feminicídio ==> 1 ==> 93\nPágina: 6 ==> Diagnóstico dos municípios do estado a Paraíba ==> 1 ==> 94\nPágina: 6 ==> Diagnóstico dos municípios do estado do Maranhão ==> 1 ==> 95\nPágina: 6 ==> Diagnóstico dos municípios do estado de São Paulo ==> 1 ==> 96\nPágina: 6 ==> Diagnóstico dos municípios do estado do Ceará ==> 1 ==> 97\nPágina: 6 ==> Diagnóstico dos municípios do estado do Rio Grande do Norte ==> 1 ==> 98\nPágina: 6 ==> Plano de Dados Abertos - CBMDF ==> 1 ==> 99\nPágina: 6 ==> Cadastro de Portos abrangidos pelo PSP ==> 1 ==> 100\nPágina: 6 ==> Estadias de embarcações abrangidas pelo PSP ==> 1 ==> 101\nPágina: 6 ==> Infopen - Levantamento Nacional de Informações Penitenciárias ==> 1 ==> 102\nPágina: 6 ==> Perspectivas para a Faixa de Fronteira ==> 1 ==> 103\nPágina: 7 ==> Desafios para a Atividade de Inteligência no Século XXI ==> 1 ==> 104\nPágina: 7 ==> Desafios para a Atividade de Inteligência no Século XXI - 2004 ==> 1 ==> 105\nPágina: 7 ==> Cenários Estratégicos para o Brasil e seu Potencial para a Geração de Crises ==> 1 ==> 106\nPágina: 7 ==> Visão Estratégica dos Recursos do Mar - 2005 ==> 1 ==> 107\nPágina: 7 ==> Seminário: Perspectivas para a Fronteira e seus Anexos (2011) ==> 1 ==> 108\nPágina: 7 ==> Centro de Rereferencia da Mulher  2011 ==> 1 ==> 109\nPágina: 7 ==> Centro de Rereferencia da Mulher  2010 ==> 1 ==> 110\nPágina: 7 ==> Centro de Rereferencia da Mulher  2009 ==> 1 ==> 111\nPágina: 7 ==> Anuário de Indicadores do Detran de Alagoas ==> 1 ==> 112\nPágina: 7 ==> Boletins da Conjuntura Criminal do Estado de Pernambuco ==> 1 ==> 113\nPágina: 7 ==> Encontro de Estudos – Questão Indígena - 2003 ==> 1 ==> 114\nPágina: 7 ==> Crimes Violentos Letais Intencionais - CVLI ==> 1 ==> 115\nPágina: 7 ==> Crimes Contra o Patrimônio - CCP ==> 1 ==> 116\nPágina: 7 ==> OFTA - Amazônia ==> 1 ==> 117\nPágina: 7 ==> Seminário Crises na América do Sul: Lições e Perspectivas. ==> 1 ==> 118\nPágina: 7 ==> Alianças Estratégicas para o Brasil: China e Índia ==> 1 ==> 119\nPágina: 7 ==> Alianças Estratégicas para o Brasil: China e Índia ==> 1 ==> 120\nPágina: 7 ==> Seminário Crises na América do Sul: Lições e Perspectivas ==> 1 ==> 121\nPágina: 7 ==> Observatório de Fenômenos Transnacionais nas Américas - Caderno Amazônia ==> 1 ==> 122\nPágina: 7 ==> Marinha do Brasil - Normas da Autoridade Marítima ==> 1 ==> 123\nPágina: 8 ==> Sistema Multa - Autuações de Trânsito em Rodovias Federais ==> 1 ==> 124\nPágina: 8 ==> Diagnóstico dos municípios do estado do Espírito Santo ==> 1 ==> 125\nPágina: 8 ==> Diagnóstico dos municípios do estado do Pará ==> 1 ==> 126\nPágina: 8 ==> Diagnóstico dos municípios do estado do Alagoas ==> 1 ==> 127\nPágina: 8 ==> Diagnóstico dos municípios do estado de Goiás ==> 1 ==> 128\nPágina: 8 ==> Violência contra a pessoa idosa - Segundo a Lei nº10.741/2003 \"Estatuto do Id... ==> 1 ==> 129\nPágina: 8 ==> Incentivos Fiscais Portuários ==> 1 ==> 130\nPágina: 8 ==> Faixa de Fronteira: Novos Paradigmas ==> 1 ==> 131\nPágina: 8 ==> Faixa de Fronteira: Novos Paradigmas ==> 1 ==> 132\nPágina: 8 ==> Encontro de Estudos – Questão Indígena ==> 1 ==> 133\nPágina: 8 ==> Órgãos Estaduais ==> 1 ==> 134\nPágina: 8 ==> Sistema Inmetro de Monitoramento de Acidentes de consumo - Sinmac ==> 1 ==> 135\nPágina: 8 ==> Workshop - Prevenção e Combate ao Terrorismo Internacional ==> 1 ==> 136\nPágina: 8 ==> Workshop - Prevenção e Combate ao Terrorismo Internacional ==> 1 ==> 137\nPágina: 8 ==> Movimentos Sociais: Papel a Desempenhar em uma Democracia ==> 1 ==> 138\nPágina: 8 ==> A assim chamada “Corrida Armamentista” e os Conflitos Transnacionais na Améri... ==> 1 ==> 139\nPágina: 8 ==> Cenários Estratégicos para o Brasil e seu Potencial para a Geração de Crises ==> 1 ==> 140\nPágina: 8 ==> Encontro de Estudos - Visão Estratégica dos Recursos do Mar ==> 1 ==> 141\nPágina: 8 ==> Atos de Assentimento Prévio - 2017 ==> 1 ==> 142\nPágina: 8 ==> Peças, Tabelas e Fluxogramas Padronizados de Polícia Judiciária ==> 1 ==> 143\nPágina: 9 ==> Classificação Indicativa - Sistema Classind ==> 1 ==> 144\nPágina: 9 ==> Movimentos Sociais: Papel a Desempenhar em uma Democracia - 2004 ==> 1 ==> 145\nPágina: 9 ==> Atos de Assentimento Prévio - 2017 ==> 1 ==> 146\nPágina: 9 ==> A assim chamada “Corrida Armamentista” e os Conflitos Transnacionais na Améri... ==> 1 ==> 147\nPágina: 9 ==> Conflitos Sociais na América Latina: Um Estudo a partir das Relações Econômicas ==> 1 ==> 148\nPágina: 9 ==> Sistema BR-Brasil - Boletins de Ocorrências em Rodovias Federais ==> 1 ==> 149\nPágina: 9 ==> IV Diagnóstico Defensoria Pública ==> 1 ==> 150\nPágina: 9 ==> Diagnóstico dos municípios do estado do Rio de Janeiro ==> 1 ==> 151\nPágina: 9 ==> 1ª reunião da Comissão Especial de Organização da visita do Papa ao Brasil ==> 1 ==> 152\nPágina: 9 ==> Diagnóstico dos municípios do estado da Bahia ==> 1 ==> 153\nPágina: 9 ==> Diagnóstico dos municípios do estado de Minas Gerais ==> 1 ==> 154\nPágina: 9 ==> Diagnóstico dos municípios do estado do Pernambuco ==> 1 ==> 155\nPágina: 9 ==> Delegacias de Polícia de Maceió ==> 1 ==> 156\nPágina: 9 ==> Benefícios Básicos e Variáveis - Bolsa Família - MI Social ==> 1 ==> 157\nPágina: 9 ==> Prestadores Acreditados ==> 1 ==> 158\nPágina: 9 ==> Anuário Estatístico de Acidentes de Trabalho - AEAT ==> 1 ==> 159\nPágina: 9 ==> Atos de Assentimento Prévio - 2019 ==> 1 ==> 160\nPágina: 9 ==> Programa Brasileiro de Etiquetagem (PBE) ==> 1 ==> 161\nPágina: 9 ==> Certificação e outorga - Indicadores de Qualidade de Serviços ==> 1 ==> 162\nPágina: 9 ==> Reunião de Estudos - Operações de Paz ==> 1 ==> 163\nPágina: 10 ==> Atos de Assentimento Prévio – 2019 ==> 1 ==> 164\nPágina: 10 ==> Atos de Assentimento Prévio de 2003 a 2016 ==> 1 ==> 165\nPágina: 10 ==> Reunião de Estudos - Operações de Paz ==> 1 ==> 166\nPágina: 10 ==> A Difusão de Poder na Economia Globalizada: Estados, Empresas Transnacionais ... ==> 1 ==> 167\nPágina: 10 ==> Integração Energética Brasil-Venezuela: um Modelo que Intensifica as Mudanças... ==> 1 ==> 168\nPágina: 10 ==> Procons ==> 1 ==> 169\nPágina: 10 ==> Gestão da Tecnologia da Informação ==> 1 ==> 170\nPágina: 10 ==> Indicadores sobre Mulher e Ciência ==> 1 ==> 171\nPágina: 10 ==> Indicadores sobre Defensoria Pública da União ==> 1 ==> 172\nPágina: 10 ==> Indicadores sobre Assistência Jurídica ==> 1 ==> 173\nPágina: 10 ==> CENIPA - Ocorrências Aeronáuticas na Aviação Civil Brasileira ==> 1 ==> 174\nPágina: 10 ==> Aeronaves - Drones cadastrados ==> 1 ==> 175\nPágina: 10 ==> Dados Georreferenciados - SITURB/SEGETH ==> 1 ==> 176\nPágina: 10 ==> Indicadores sobre Terras indígenas homologadas ==> 1 ==> 177\nPágina: 10 ==> Indicadores sobre Estabelecimentos Prisionais - Aparelhamento e Reaparelhamento ==> 1 ==> 178\nPágina: 10 ==> Registro de Objetos ==> 1 ==> 179\nPágina: 10 ==> Bolsa Família - MI Social ==> 1 ==> 180\nPágina: 10 ==> Bolsa Família - MI Social ==> 1 ==> 181\nPágina: 10 ==> Dados Consumidor.gov.br ==> 1 ==> 182\nPágina: 10 ==> Dados Sócio-Econômicos de Discentes ==> 1 ==> 183\nPágina: 11 ==> Cadastro Nacional de Reclamações Fundamentadas (PROCONS - Sindec) ==> 1 ==> 184\nPágina: 11 ==> Atendimentos de Consumidores nos Procons (Sindec) ==> 1 ==> 185\nPágina: 11 ==> Mapas de Caracterização Territorial ==> 1 ==> 186\nPágina: 11 ==> Programa Universidade para Todos - ProUni ==> 1 ==> 187\nPágina: 11 ==> Gestão de Pessoas (Executivo Federal) - Cargo de Direção e Assessoramento Sup... ==> 1 ==> 188\nPágina: 11 ==> Indicadores sobre Reintegração social do preso/internado/egresso ==> 1 ==> 189\nPágina: 11 ==> Indicadores sobre Comissão da Anistia - preservação da memória política do Br... ==> 1 ==> 190\n"
    }
   ],
   "source": [
    "import re\n",
    "\n",
    "url = 'http://www.dados.gov.br/dataset'\n",
    "\n",
    "token = '(S|s)(eguran)([\\w+\\W+])'\n",
    "j = 0\n",
    "for pagina in range(1, 12):\n",
    "    dados = rq.get(url, params={'page':pagina,'q': 'seguranca'})\n",
    "    # print('Status do request: ', dados.status_code)\n",
    "\n",
    "    dados_pag = BeautifulSoup(dados.text, 'html.parser')\n",
    "    \n",
    "    i = 0\n",
    "    for pagina_name in dados_pag('li', {'class': 'dataset-item'}):\n",
    "        titulo = pagina_name.find('h3').text\n",
    "        titulo = titulo.strip()\n",
    "        if len(re.findall(token, titulo)) == 0:\n",
    "            # print(re.findall(\"S(EGURAN)[\\w\\W]\", titulo))\n",
    "            i =1\n",
    "        j+=i\n",
    "        print(f'Página: {pagina} ==> {titulo} ==> {i} ==> {j}')"
   ]
  },
  {
   "cell_type": "code",
   "execution_count": 27,
   "metadata": {},
   "outputs": [
    {
     "output_type": "stream",
     "name": "stdout",
     "text": "Foram encontrados 190 nomes sem a palavra \"SEGURANÇA\"\n"
    }
   ],
   "source": [
    "print('Foram encontrados {} nomes sem a palavra \"SEGURANÇA\"'.format(j))"
   ]
  },
  {
   "cell_type": "markdown",
   "metadata": {},
   "source": [
    "## RESPOSTA:<br>\n",
    "**LETRA A: ENTRE 185 E 190**"
   ]
  },
  {
   "cell_type": "markdown",
   "metadata": {},
   "source": [
    "### Exercício 5) \n",
    "Os repositórios retornados pela requisição do exercício 1) podem trazer a informação sobre o \"Autor\" do repositório, ou seja, quem foi o criador do repositório. Percorra as 11 páginas retornadas da requisição do exercício 1) e, para todos os repositórios listados em cada página, verifique qual é o \"Autor\" que aparece mais frequentemente como criador dos repositórios. \n",
    "\n",
    "O \"Autor\" mais frequente é: \n",
    "\n",
    "a) 'GSI' com aproximadamente 68 repositórios<br>\n",
    "b) 'SNJ' com aproximadamente 27 repositórios<br>\n",
    "c) 'Ministério da Justiça' com aproximadamente 16 repositórios<br>\n",
    "d) 'SNJ' com aproximadamente 76 repositórios<br>"
   ]
  },
  {
   "cell_type": "code",
   "execution_count": 31,
   "metadata": {
    "tags": [
     "outputPrepend",
     "outputPrepend",
     "outputPrepend",
     "outputPrepend",
     "outputPrepend",
     "outputPrepend",
     "outputPrepend",
     "outputPrepend",
     "outputPrepend",
     "outputPrepend",
     "outputPrepend",
     "outputPrepend",
     "outputPrepend",
     "outputPrepend",
     "outputPrepend",
     "outputPrepend",
     "outputPrepend",
     "outputPrepend",
     "outputPrepend",
     "outputPrepend",
     "outputPrepend",
     "outputPrepend"
    ]
   },
   "outputs": [
    {
     "output_type": "stream",
     "name": "stdout",
     "text": "********************\n1\n********************\nStatus do request:  200\nexcept\nMicrodados do Censo Escolar ==> Instituto Nacional de Estudos e Pesquisas Educacionais Anísio Teixeira - INEP\n----------\nStatus do request:  200\n----------\nStatus do request:  200\ntry\nOrçamento Federal - Orçamento Fiscal e da Seguridade Social ==> Secretaria de Orçamento Federal - SOF/MP\n----------\n********************\n2\n********************\nStatus do request:  200\ntry\nA - Série histórica de preços de combustíveis - revenda ==> Agência Nacional do Petróleo, Gás Natural e Biocombustíveis - ANP\n----------\nStatus do request:  200\ntry\nSistema Nacional de Informações Florestais - SNIF ==> Ana Laura Cerqueira Trindade\n----------\nStatus do request:  200\ntry\nServiços Públicos Federais para o Cidadão ==> Ministério do Planejamento\n----------\n********************\n3\n********************\nStatus do request:  200\nexcept\nMicrodados do Censo Escolar ==> Instituto Nacional de Estudos e Pesquisas Educacionais Anísio Teixeira - INEP\n----------\nStatus do request:  200\n----------\nStatus do request:  200\ntry\nOrçamento Federal - Orçamento Fiscal e da Seguridade Social ==> Secretaria de Orçamento Federal - SOF/MP\n----------\n********************\n4\n********************\nStatus do request:  200\ntry\nA - Série histórica de preços de combustíveis - revenda ==> Agência Nacional do Petróleo, Gás Natural e Biocombustíveis - ANP\n----------\n"
    },
    {
     "output_type": "error",
     "ename": "KeyboardInterrupt",
     "evalue": "",
     "traceback": [
      "\u001b[0;31m---------------------------------------------------------------------------\u001b[0m",
      "\u001b[0;31mKeyboardInterrupt\u001b[0m                         Traceback (most recent call last)",
      "\u001b[0;32m<ipython-input-31-95a60bd9f794>\u001b[0m in \u001b[0;36m<module>\u001b[0;34m\u001b[0m\n\u001b[1;32m     18\u001b[0m         \u001b[0;31m# print(f'{titulo} ==> {link}')\u001b[0m\u001b[0;34m\u001b[0m\u001b[0;34m\u001b[0m\u001b[0;34m\u001b[0m\u001b[0m\n\u001b[1;32m     19\u001b[0m \u001b[0;34m\u001b[0m\u001b[0m\n\u001b[0;32m---> 20\u001b[0;31m         \u001b[0mpage\u001b[0m \u001b[0;34m=\u001b[0m \u001b[0mrq\u001b[0m\u001b[0;34m.\u001b[0m\u001b[0mget\u001b[0m\u001b[0;34m(\u001b[0m\u001b[0murl\u001b[0m\u001b[0;34m+\u001b[0m\u001b[0mlink\u001b[0m\u001b[0;34m)\u001b[0m\u001b[0;34m\u001b[0m\u001b[0;34m\u001b[0m\u001b[0m\n\u001b[0m\u001b[1;32m     21\u001b[0m         \u001b[0mprint\u001b[0m\u001b[0;34m(\u001b[0m\u001b[0;34m'Status do request: '\u001b[0m\u001b[0;34m,\u001b[0m \u001b[0mdados\u001b[0m\u001b[0;34m.\u001b[0m\u001b[0mstatus_code\u001b[0m\u001b[0;34m)\u001b[0m\u001b[0;34m\u001b[0m\u001b[0;34m\u001b[0m\u001b[0m\n\u001b[1;32m     22\u001b[0m         \u001b[0mpage_bs\u001b[0m \u001b[0;34m=\u001b[0m \u001b[0mBeautifulSoup\u001b[0m\u001b[0;34m(\u001b[0m\u001b[0mpage\u001b[0m\u001b[0;34m.\u001b[0m\u001b[0mtext\u001b[0m\u001b[0;34m,\u001b[0m \u001b[0;34m'html.parser'\u001b[0m\u001b[0;34m)\u001b[0m\u001b[0;34m\u001b[0m\u001b[0;34m\u001b[0m\u001b[0m\n",
      "\u001b[0;32m~/anaconda3/lib/python3.7/site-packages/requests/api.py\u001b[0m in \u001b[0;36mget\u001b[0;34m(url, params, **kwargs)\u001b[0m\n\u001b[1;32m     74\u001b[0m \u001b[0;34m\u001b[0m\u001b[0m\n\u001b[1;32m     75\u001b[0m     \u001b[0mkwargs\u001b[0m\u001b[0;34m.\u001b[0m\u001b[0msetdefault\u001b[0m\u001b[0;34m(\u001b[0m\u001b[0;34m'allow_redirects'\u001b[0m\u001b[0;34m,\u001b[0m \u001b[0;32mTrue\u001b[0m\u001b[0;34m)\u001b[0m\u001b[0;34m\u001b[0m\u001b[0;34m\u001b[0m\u001b[0m\n\u001b[0;32m---> 76\u001b[0;31m     \u001b[0;32mreturn\u001b[0m \u001b[0mrequest\u001b[0m\u001b[0;34m(\u001b[0m\u001b[0;34m'get'\u001b[0m\u001b[0;34m,\u001b[0m \u001b[0murl\u001b[0m\u001b[0;34m,\u001b[0m \u001b[0mparams\u001b[0m\u001b[0;34m=\u001b[0m\u001b[0mparams\u001b[0m\u001b[0;34m,\u001b[0m \u001b[0;34m**\u001b[0m\u001b[0mkwargs\u001b[0m\u001b[0;34m)\u001b[0m\u001b[0;34m\u001b[0m\u001b[0;34m\u001b[0m\u001b[0m\n\u001b[0m\u001b[1;32m     77\u001b[0m \u001b[0;34m\u001b[0m\u001b[0m\n\u001b[1;32m     78\u001b[0m \u001b[0;34m\u001b[0m\u001b[0m\n",
      "\u001b[0;32m~/anaconda3/lib/python3.7/site-packages/requests/api.py\u001b[0m in \u001b[0;36mrequest\u001b[0;34m(method, url, **kwargs)\u001b[0m\n\u001b[1;32m     59\u001b[0m     \u001b[0;31m# cases, and look like a memory leak in others.\u001b[0m\u001b[0;34m\u001b[0m\u001b[0;34m\u001b[0m\u001b[0;34m\u001b[0m\u001b[0m\n\u001b[1;32m     60\u001b[0m     \u001b[0;32mwith\u001b[0m \u001b[0msessions\u001b[0m\u001b[0;34m.\u001b[0m\u001b[0mSession\u001b[0m\u001b[0;34m(\u001b[0m\u001b[0;34m)\u001b[0m \u001b[0;32mas\u001b[0m \u001b[0msession\u001b[0m\u001b[0;34m:\u001b[0m\u001b[0;34m\u001b[0m\u001b[0;34m\u001b[0m\u001b[0m\n\u001b[0;32m---> 61\u001b[0;31m         \u001b[0;32mreturn\u001b[0m \u001b[0msession\u001b[0m\u001b[0;34m.\u001b[0m\u001b[0mrequest\u001b[0m\u001b[0;34m(\u001b[0m\u001b[0mmethod\u001b[0m\u001b[0;34m=\u001b[0m\u001b[0mmethod\u001b[0m\u001b[0;34m,\u001b[0m \u001b[0murl\u001b[0m\u001b[0;34m=\u001b[0m\u001b[0murl\u001b[0m\u001b[0;34m,\u001b[0m \u001b[0;34m**\u001b[0m\u001b[0mkwargs\u001b[0m\u001b[0;34m)\u001b[0m\u001b[0;34m\u001b[0m\u001b[0;34m\u001b[0m\u001b[0m\n\u001b[0m\u001b[1;32m     62\u001b[0m \u001b[0;34m\u001b[0m\u001b[0m\n\u001b[1;32m     63\u001b[0m \u001b[0;34m\u001b[0m\u001b[0m\n",
      "\u001b[0;32m~/anaconda3/lib/python3.7/site-packages/requests/sessions.py\u001b[0m in \u001b[0;36mrequest\u001b[0;34m(self, method, url, params, data, headers, cookies, files, auth, timeout, allow_redirects, proxies, hooks, stream, verify, cert, json)\u001b[0m\n\u001b[1;32m    528\u001b[0m         }\n\u001b[1;32m    529\u001b[0m         \u001b[0msend_kwargs\u001b[0m\u001b[0;34m.\u001b[0m\u001b[0mupdate\u001b[0m\u001b[0;34m(\u001b[0m\u001b[0msettings\u001b[0m\u001b[0;34m)\u001b[0m\u001b[0;34m\u001b[0m\u001b[0;34m\u001b[0m\u001b[0m\n\u001b[0;32m--> 530\u001b[0;31m         \u001b[0mresp\u001b[0m \u001b[0;34m=\u001b[0m \u001b[0mself\u001b[0m\u001b[0;34m.\u001b[0m\u001b[0msend\u001b[0m\u001b[0;34m(\u001b[0m\u001b[0mprep\u001b[0m\u001b[0;34m,\u001b[0m \u001b[0;34m**\u001b[0m\u001b[0msend_kwargs\u001b[0m\u001b[0;34m)\u001b[0m\u001b[0;34m\u001b[0m\u001b[0;34m\u001b[0m\u001b[0m\n\u001b[0m\u001b[1;32m    531\u001b[0m \u001b[0;34m\u001b[0m\u001b[0m\n\u001b[1;32m    532\u001b[0m         \u001b[0;32mreturn\u001b[0m \u001b[0mresp\u001b[0m\u001b[0;34m\u001b[0m\u001b[0;34m\u001b[0m\u001b[0m\n",
      "\u001b[0;32m~/anaconda3/lib/python3.7/site-packages/requests/sessions.py\u001b[0m in \u001b[0;36msend\u001b[0;34m(self, request, **kwargs)\u001b[0m\n\u001b[1;32m    641\u001b[0m \u001b[0;34m\u001b[0m\u001b[0m\n\u001b[1;32m    642\u001b[0m         \u001b[0;31m# Send the request\u001b[0m\u001b[0;34m\u001b[0m\u001b[0;34m\u001b[0m\u001b[0;34m\u001b[0m\u001b[0m\n\u001b[0;32m--> 643\u001b[0;31m         \u001b[0mr\u001b[0m \u001b[0;34m=\u001b[0m \u001b[0madapter\u001b[0m\u001b[0;34m.\u001b[0m\u001b[0msend\u001b[0m\u001b[0;34m(\u001b[0m\u001b[0mrequest\u001b[0m\u001b[0;34m,\u001b[0m \u001b[0;34m**\u001b[0m\u001b[0mkwargs\u001b[0m\u001b[0;34m)\u001b[0m\u001b[0;34m\u001b[0m\u001b[0;34m\u001b[0m\u001b[0m\n\u001b[0m\u001b[1;32m    644\u001b[0m \u001b[0;34m\u001b[0m\u001b[0m\n\u001b[1;32m    645\u001b[0m         \u001b[0;31m# Total elapsed time of the request (approximately)\u001b[0m\u001b[0;34m\u001b[0m\u001b[0;34m\u001b[0m\u001b[0;34m\u001b[0m\u001b[0m\n",
      "\u001b[0;32m~/anaconda3/lib/python3.7/site-packages/requests/adapters.py\u001b[0m in \u001b[0;36msend\u001b[0;34m(self, request, stream, timeout, verify, cert, proxies)\u001b[0m\n\u001b[1;32m    447\u001b[0m                     \u001b[0mdecode_content\u001b[0m\u001b[0;34m=\u001b[0m\u001b[0;32mFalse\u001b[0m\u001b[0;34m,\u001b[0m\u001b[0;34m\u001b[0m\u001b[0;34m\u001b[0m\u001b[0m\n\u001b[1;32m    448\u001b[0m                     \u001b[0mretries\u001b[0m\u001b[0;34m=\u001b[0m\u001b[0mself\u001b[0m\u001b[0;34m.\u001b[0m\u001b[0mmax_retries\u001b[0m\u001b[0;34m,\u001b[0m\u001b[0;34m\u001b[0m\u001b[0;34m\u001b[0m\u001b[0m\n\u001b[0;32m--> 449\u001b[0;31m                     \u001b[0mtimeout\u001b[0m\u001b[0;34m=\u001b[0m\u001b[0mtimeout\u001b[0m\u001b[0;34m\u001b[0m\u001b[0;34m\u001b[0m\u001b[0m\n\u001b[0m\u001b[1;32m    450\u001b[0m                 )\n\u001b[1;32m    451\u001b[0m \u001b[0;34m\u001b[0m\u001b[0m\n",
      "\u001b[0;32m~/anaconda3/lib/python3.7/site-packages/urllib3/connectionpool.py\u001b[0m in \u001b[0;36murlopen\u001b[0;34m(self, method, url, body, headers, retries, redirect, assert_same_host, timeout, pool_timeout, release_conn, chunked, body_pos, **response_kw)\u001b[0m\n\u001b[1;32m    675\u001b[0m                 \u001b[0mbody\u001b[0m\u001b[0;34m=\u001b[0m\u001b[0mbody\u001b[0m\u001b[0;34m,\u001b[0m\u001b[0;34m\u001b[0m\u001b[0;34m\u001b[0m\u001b[0m\n\u001b[1;32m    676\u001b[0m                 \u001b[0mheaders\u001b[0m\u001b[0;34m=\u001b[0m\u001b[0mheaders\u001b[0m\u001b[0;34m,\u001b[0m\u001b[0;34m\u001b[0m\u001b[0;34m\u001b[0m\u001b[0m\n\u001b[0;32m--> 677\u001b[0;31m                 \u001b[0mchunked\u001b[0m\u001b[0;34m=\u001b[0m\u001b[0mchunked\u001b[0m\u001b[0;34m,\u001b[0m\u001b[0;34m\u001b[0m\u001b[0;34m\u001b[0m\u001b[0m\n\u001b[0m\u001b[1;32m    678\u001b[0m             )\n\u001b[1;32m    679\u001b[0m \u001b[0;34m\u001b[0m\u001b[0m\n",
      "\u001b[0;32m~/anaconda3/lib/python3.7/site-packages/urllib3/connectionpool.py\u001b[0m in \u001b[0;36m_make_request\u001b[0;34m(self, conn, method, url, timeout, chunked, **httplib_request_kw)\u001b[0m\n\u001b[1;32m    390\u001b[0m             \u001b[0mconn\u001b[0m\u001b[0;34m.\u001b[0m\u001b[0mrequest_chunked\u001b[0m\u001b[0;34m(\u001b[0m\u001b[0mmethod\u001b[0m\u001b[0;34m,\u001b[0m \u001b[0murl\u001b[0m\u001b[0;34m,\u001b[0m \u001b[0;34m**\u001b[0m\u001b[0mhttplib_request_kw\u001b[0m\u001b[0;34m)\u001b[0m\u001b[0;34m\u001b[0m\u001b[0;34m\u001b[0m\u001b[0m\n\u001b[1;32m    391\u001b[0m         \u001b[0;32melse\u001b[0m\u001b[0;34m:\u001b[0m\u001b[0;34m\u001b[0m\u001b[0;34m\u001b[0m\u001b[0m\n\u001b[0;32m--> 392\u001b[0;31m             \u001b[0mconn\u001b[0m\u001b[0;34m.\u001b[0m\u001b[0mrequest\u001b[0m\u001b[0;34m(\u001b[0m\u001b[0mmethod\u001b[0m\u001b[0;34m,\u001b[0m \u001b[0murl\u001b[0m\u001b[0;34m,\u001b[0m \u001b[0;34m**\u001b[0m\u001b[0mhttplib_request_kw\u001b[0m\u001b[0;34m)\u001b[0m\u001b[0;34m\u001b[0m\u001b[0;34m\u001b[0m\u001b[0m\n\u001b[0m\u001b[1;32m    393\u001b[0m \u001b[0;34m\u001b[0m\u001b[0m\n\u001b[1;32m    394\u001b[0m         \u001b[0;31m# Reset the timeout for the recv() on the socket\u001b[0m\u001b[0;34m\u001b[0m\u001b[0;34m\u001b[0m\u001b[0;34m\u001b[0m\u001b[0m\n",
      "\u001b[0;32m~/anaconda3/lib/python3.7/http/client.py\u001b[0m in \u001b[0;36mrequest\u001b[0;34m(self, method, url, body, headers, encode_chunked)\u001b[0m\n\u001b[1;32m   1250\u001b[0m                 encode_chunked=False):\n\u001b[1;32m   1251\u001b[0m         \u001b[0;34m\"\"\"Send a complete request to the server.\"\"\"\u001b[0m\u001b[0;34m\u001b[0m\u001b[0;34m\u001b[0m\u001b[0m\n\u001b[0;32m-> 1252\u001b[0;31m         \u001b[0mself\u001b[0m\u001b[0;34m.\u001b[0m\u001b[0m_send_request\u001b[0m\u001b[0;34m(\u001b[0m\u001b[0mmethod\u001b[0m\u001b[0;34m,\u001b[0m \u001b[0murl\u001b[0m\u001b[0;34m,\u001b[0m \u001b[0mbody\u001b[0m\u001b[0;34m,\u001b[0m \u001b[0mheaders\u001b[0m\u001b[0;34m,\u001b[0m \u001b[0mencode_chunked\u001b[0m\u001b[0;34m)\u001b[0m\u001b[0;34m\u001b[0m\u001b[0;34m\u001b[0m\u001b[0m\n\u001b[0m\u001b[1;32m   1253\u001b[0m \u001b[0;34m\u001b[0m\u001b[0m\n\u001b[1;32m   1254\u001b[0m     \u001b[0;32mdef\u001b[0m \u001b[0m_send_request\u001b[0m\u001b[0;34m(\u001b[0m\u001b[0mself\u001b[0m\u001b[0;34m,\u001b[0m \u001b[0mmethod\u001b[0m\u001b[0;34m,\u001b[0m \u001b[0murl\u001b[0m\u001b[0;34m,\u001b[0m \u001b[0mbody\u001b[0m\u001b[0;34m,\u001b[0m \u001b[0mheaders\u001b[0m\u001b[0;34m,\u001b[0m \u001b[0mencode_chunked\u001b[0m\u001b[0;34m)\u001b[0m\u001b[0;34m:\u001b[0m\u001b[0;34m\u001b[0m\u001b[0;34m\u001b[0m\u001b[0m\n",
      "\u001b[0;32m~/anaconda3/lib/python3.7/http/client.py\u001b[0m in \u001b[0;36m_send_request\u001b[0;34m(self, method, url, body, headers, encode_chunked)\u001b[0m\n\u001b[1;32m   1296\u001b[0m             \u001b[0;31m# default charset of iso-8859-1.\u001b[0m\u001b[0;34m\u001b[0m\u001b[0;34m\u001b[0m\u001b[0;34m\u001b[0m\u001b[0m\n\u001b[1;32m   1297\u001b[0m             \u001b[0mbody\u001b[0m \u001b[0;34m=\u001b[0m \u001b[0m_encode\u001b[0m\u001b[0;34m(\u001b[0m\u001b[0mbody\u001b[0m\u001b[0;34m,\u001b[0m \u001b[0;34m'body'\u001b[0m\u001b[0;34m)\u001b[0m\u001b[0;34m\u001b[0m\u001b[0;34m\u001b[0m\u001b[0m\n\u001b[0;32m-> 1298\u001b[0;31m         \u001b[0mself\u001b[0m\u001b[0;34m.\u001b[0m\u001b[0mendheaders\u001b[0m\u001b[0;34m(\u001b[0m\u001b[0mbody\u001b[0m\u001b[0;34m,\u001b[0m \u001b[0mencode_chunked\u001b[0m\u001b[0;34m=\u001b[0m\u001b[0mencode_chunked\u001b[0m\u001b[0;34m)\u001b[0m\u001b[0;34m\u001b[0m\u001b[0;34m\u001b[0m\u001b[0m\n\u001b[0m\u001b[1;32m   1299\u001b[0m \u001b[0;34m\u001b[0m\u001b[0m\n\u001b[1;32m   1300\u001b[0m     \u001b[0;32mdef\u001b[0m \u001b[0mgetresponse\u001b[0m\u001b[0;34m(\u001b[0m\u001b[0mself\u001b[0m\u001b[0;34m)\u001b[0m\u001b[0;34m:\u001b[0m\u001b[0;34m\u001b[0m\u001b[0;34m\u001b[0m\u001b[0m\n",
      "\u001b[0;32m~/anaconda3/lib/python3.7/http/client.py\u001b[0m in \u001b[0;36mendheaders\u001b[0;34m(self, message_body, encode_chunked)\u001b[0m\n\u001b[1;32m   1245\u001b[0m         \u001b[0;32melse\u001b[0m\u001b[0;34m:\u001b[0m\u001b[0;34m\u001b[0m\u001b[0;34m\u001b[0m\u001b[0m\n\u001b[1;32m   1246\u001b[0m             \u001b[0;32mraise\u001b[0m \u001b[0mCannotSendHeader\u001b[0m\u001b[0;34m(\u001b[0m\u001b[0;34m)\u001b[0m\u001b[0;34m\u001b[0m\u001b[0;34m\u001b[0m\u001b[0m\n\u001b[0;32m-> 1247\u001b[0;31m         \u001b[0mself\u001b[0m\u001b[0;34m.\u001b[0m\u001b[0m_send_output\u001b[0m\u001b[0;34m(\u001b[0m\u001b[0mmessage_body\u001b[0m\u001b[0;34m,\u001b[0m \u001b[0mencode_chunked\u001b[0m\u001b[0;34m=\u001b[0m\u001b[0mencode_chunked\u001b[0m\u001b[0;34m)\u001b[0m\u001b[0;34m\u001b[0m\u001b[0;34m\u001b[0m\u001b[0m\n\u001b[0m\u001b[1;32m   1248\u001b[0m \u001b[0;34m\u001b[0m\u001b[0m\n\u001b[1;32m   1249\u001b[0m     def request(self, method, url, body=None, headers={}, *,\n",
      "\u001b[0;32m~/anaconda3/lib/python3.7/http/client.py\u001b[0m in \u001b[0;36m_send_output\u001b[0;34m(self, message_body, encode_chunked)\u001b[0m\n\u001b[1;32m   1024\u001b[0m         \u001b[0mmsg\u001b[0m \u001b[0;34m=\u001b[0m \u001b[0;34mb\"\\r\\n\"\u001b[0m\u001b[0;34m.\u001b[0m\u001b[0mjoin\u001b[0m\u001b[0;34m(\u001b[0m\u001b[0mself\u001b[0m\u001b[0;34m.\u001b[0m\u001b[0m_buffer\u001b[0m\u001b[0;34m)\u001b[0m\u001b[0;34m\u001b[0m\u001b[0;34m\u001b[0m\u001b[0m\n\u001b[1;32m   1025\u001b[0m         \u001b[0;32mdel\u001b[0m \u001b[0mself\u001b[0m\u001b[0;34m.\u001b[0m\u001b[0m_buffer\u001b[0m\u001b[0;34m[\u001b[0m\u001b[0;34m:\u001b[0m\u001b[0;34m]\u001b[0m\u001b[0;34m\u001b[0m\u001b[0;34m\u001b[0m\u001b[0m\n\u001b[0;32m-> 1026\u001b[0;31m         \u001b[0mself\u001b[0m\u001b[0;34m.\u001b[0m\u001b[0msend\u001b[0m\u001b[0;34m(\u001b[0m\u001b[0mmsg\u001b[0m\u001b[0;34m)\u001b[0m\u001b[0;34m\u001b[0m\u001b[0;34m\u001b[0m\u001b[0m\n\u001b[0m\u001b[1;32m   1027\u001b[0m \u001b[0;34m\u001b[0m\u001b[0m\n\u001b[1;32m   1028\u001b[0m         \u001b[0;32mif\u001b[0m \u001b[0mmessage_body\u001b[0m \u001b[0;32mis\u001b[0m \u001b[0;32mnot\u001b[0m \u001b[0;32mNone\u001b[0m\u001b[0;34m:\u001b[0m\u001b[0;34m\u001b[0m\u001b[0;34m\u001b[0m\u001b[0m\n",
      "\u001b[0;32m~/anaconda3/lib/python3.7/http/client.py\u001b[0m in \u001b[0;36msend\u001b[0;34m(self, data)\u001b[0m\n\u001b[1;32m    964\u001b[0m         \u001b[0;32mif\u001b[0m \u001b[0mself\u001b[0m\u001b[0;34m.\u001b[0m\u001b[0msock\u001b[0m \u001b[0;32mis\u001b[0m \u001b[0;32mNone\u001b[0m\u001b[0;34m:\u001b[0m\u001b[0;34m\u001b[0m\u001b[0;34m\u001b[0m\u001b[0m\n\u001b[1;32m    965\u001b[0m             \u001b[0;32mif\u001b[0m \u001b[0mself\u001b[0m\u001b[0;34m.\u001b[0m\u001b[0mauto_open\u001b[0m\u001b[0;34m:\u001b[0m\u001b[0;34m\u001b[0m\u001b[0;34m\u001b[0m\u001b[0m\n\u001b[0;32m--> 966\u001b[0;31m                 \u001b[0mself\u001b[0m\u001b[0;34m.\u001b[0m\u001b[0mconnect\u001b[0m\u001b[0;34m(\u001b[0m\u001b[0;34m)\u001b[0m\u001b[0;34m\u001b[0m\u001b[0;34m\u001b[0m\u001b[0m\n\u001b[0m\u001b[1;32m    967\u001b[0m             \u001b[0;32melse\u001b[0m\u001b[0;34m:\u001b[0m\u001b[0;34m\u001b[0m\u001b[0;34m\u001b[0m\u001b[0m\n\u001b[1;32m    968\u001b[0m                 \u001b[0;32mraise\u001b[0m \u001b[0mNotConnected\u001b[0m\u001b[0;34m(\u001b[0m\u001b[0;34m)\u001b[0m\u001b[0;34m\u001b[0m\u001b[0;34m\u001b[0m\u001b[0m\n",
      "\u001b[0;32m~/anaconda3/lib/python3.7/site-packages/urllib3/connection.py\u001b[0m in \u001b[0;36mconnect\u001b[0;34m(self)\u001b[0m\n\u001b[1;32m    185\u001b[0m \u001b[0;34m\u001b[0m\u001b[0m\n\u001b[1;32m    186\u001b[0m     \u001b[0;32mdef\u001b[0m \u001b[0mconnect\u001b[0m\u001b[0;34m(\u001b[0m\u001b[0mself\u001b[0m\u001b[0;34m)\u001b[0m\u001b[0;34m:\u001b[0m\u001b[0;34m\u001b[0m\u001b[0;34m\u001b[0m\u001b[0m\n\u001b[0;32m--> 187\u001b[0;31m         \u001b[0mconn\u001b[0m \u001b[0;34m=\u001b[0m \u001b[0mself\u001b[0m\u001b[0;34m.\u001b[0m\u001b[0m_new_conn\u001b[0m\u001b[0;34m(\u001b[0m\u001b[0;34m)\u001b[0m\u001b[0;34m\u001b[0m\u001b[0;34m\u001b[0m\u001b[0m\n\u001b[0m\u001b[1;32m    188\u001b[0m         \u001b[0mself\u001b[0m\u001b[0;34m.\u001b[0m\u001b[0m_prepare_conn\u001b[0m\u001b[0;34m(\u001b[0m\u001b[0mconn\u001b[0m\u001b[0;34m)\u001b[0m\u001b[0;34m\u001b[0m\u001b[0;34m\u001b[0m\u001b[0m\n\u001b[1;32m    189\u001b[0m \u001b[0;34m\u001b[0m\u001b[0m\n",
      "\u001b[0;32m~/anaconda3/lib/python3.7/site-packages/urllib3/connection.py\u001b[0m in \u001b[0;36m_new_conn\u001b[0;34m(self)\u001b[0m\n\u001b[1;32m    158\u001b[0m         \u001b[0;32mtry\u001b[0m\u001b[0;34m:\u001b[0m\u001b[0;34m\u001b[0m\u001b[0;34m\u001b[0m\u001b[0m\n\u001b[1;32m    159\u001b[0m             conn = connection.create_connection(\n\u001b[0;32m--> 160\u001b[0;31m                 \u001b[0;34m(\u001b[0m\u001b[0mself\u001b[0m\u001b[0;34m.\u001b[0m\u001b[0m_dns_host\u001b[0m\u001b[0;34m,\u001b[0m \u001b[0mself\u001b[0m\u001b[0;34m.\u001b[0m\u001b[0mport\u001b[0m\u001b[0;34m)\u001b[0m\u001b[0;34m,\u001b[0m \u001b[0mself\u001b[0m\u001b[0;34m.\u001b[0m\u001b[0mtimeout\u001b[0m\u001b[0;34m,\u001b[0m \u001b[0;34m**\u001b[0m\u001b[0mextra_kw\u001b[0m\u001b[0;34m\u001b[0m\u001b[0;34m\u001b[0m\u001b[0m\n\u001b[0m\u001b[1;32m    161\u001b[0m             )\n\u001b[1;32m    162\u001b[0m \u001b[0;34m\u001b[0m\u001b[0m\n",
      "\u001b[0;32m~/anaconda3/lib/python3.7/site-packages/urllib3/util/connection.py\u001b[0m in \u001b[0;36mcreate_connection\u001b[0;34m(address, timeout, source_address, socket_options)\u001b[0m\n\u001b[1;32m     72\u001b[0m             \u001b[0;32mif\u001b[0m \u001b[0msource_address\u001b[0m\u001b[0;34m:\u001b[0m\u001b[0;34m\u001b[0m\u001b[0;34m\u001b[0m\u001b[0m\n\u001b[1;32m     73\u001b[0m                 \u001b[0msock\u001b[0m\u001b[0;34m.\u001b[0m\u001b[0mbind\u001b[0m\u001b[0;34m(\u001b[0m\u001b[0msource_address\u001b[0m\u001b[0;34m)\u001b[0m\u001b[0;34m\u001b[0m\u001b[0;34m\u001b[0m\u001b[0m\n\u001b[0;32m---> 74\u001b[0;31m             \u001b[0msock\u001b[0m\u001b[0;34m.\u001b[0m\u001b[0mconnect\u001b[0m\u001b[0;34m(\u001b[0m\u001b[0msa\u001b[0m\u001b[0;34m)\u001b[0m\u001b[0;34m\u001b[0m\u001b[0;34m\u001b[0m\u001b[0m\n\u001b[0m\u001b[1;32m     75\u001b[0m             \u001b[0;32mreturn\u001b[0m \u001b[0msock\u001b[0m\u001b[0;34m\u001b[0m\u001b[0;34m\u001b[0m\u001b[0m\n\u001b[1;32m     76\u001b[0m \u001b[0;34m\u001b[0m\u001b[0m\n",
      "\u001b[0;31mKeyboardInterrupt\u001b[0m: "
     ]
    }
   ],
   "source": [
    "link_autor = {}\n",
    "url = 'http://www.dados.gov.br'\n",
    "\n",
    "for pagina in range(1, 12):\n",
    "    dados = rq.get(url, params={'page':pagina,'q': 'seguranca'})\n",
    "    # print('Status do request: ', dados.status_code)\n",
    "\n",
    "    dados_pag = BeautifulSoup(dados.text, 'html.parser')\n",
    "    \n",
    "    print(10*'**')\n",
    "    print(f'{pagina}')\n",
    "    print(10*'**')\n",
    "    \n",
    "    for links in dados_pag('li', {'class': 'dataset-item'}):\n",
    "        titulo = links.find('h3').text\n",
    "        titulo = titulo.strip()\n",
    "        link = links.find('a').get('href')\n",
    "        # print(f'{titulo} ==> {link}')\n",
    "\n",
    "        page = rq.get(url+link)\n",
    "        print('Status do request: ', dados.status_code)\n",
    "        page_bs = BeautifulSoup(page.text, 'html.parser')\n",
    "        \n",
    "        for files in page_bs('td', {'property': 'dc:creator'}):\n",
    "            try:\n",
    "                autor = files.find('a').text\n",
    "                autor = autor.strip()\n",
    "                print('try')\n",
    "                if autor in link_autor:\n",
    "                    link_autor[autor] += 1\n",
    "                else:\n",
    "                    link_autor[autor] = 1\n",
    "\n",
    "            except:\n",
    "                autor = files.text\n",
    "                autor = autor.strip()\n",
    "                print('except')\n",
    "                if autor in link_autor:\n",
    "                    link_autor[autor] += 1\n",
    "                else:\n",
    "                    link_autor[autor] = 1\n",
    "\n",
    "            print(f'{titulo} ==> {autor}')\n",
    "\n",
    "        print(5*'--')"
   ]
  },
  {
   "cell_type": "code",
   "execution_count": 29,
   "metadata": {},
   "outputs": [
    {
     "output_type": "stream",
     "name": "stdout",
     "text": "[('Instituto Nacional de Estudos e Pesquisas Educacionais Anísio Teixeira - INEP', 7), ('Tribunal Superior Eleitoral - TSE', 7), ('Centro de Investigação e Prevenção de Acidentes Aeronáuticos', 7), ('Sala de Apoio à Gestão Estratégica - SAGE', 4), ('Secretaria de Orçamento Federal - SOF/MP', 4), ('Diretoria de Geociências (DGC) / Coordenação de Cartografia  (CCAR)', 4)]\n"
    }
   ],
   "source": [
    "print(sorted(link_autor.items(), key= lambda kv: kv[1], reverse=True))"
   ]
  },
  {
   "cell_type": "code",
   "execution_count": 30,
   "metadata": {},
   "outputs": [
    {
     "output_type": "execute_result",
     "data": {
      "text/plain": "{'Instituto Nacional de Estudos e Pesquisas Educacionais Anísio Teixeira - INEP': 7,\n 'Tribunal Superior Eleitoral - TSE': 7,\n 'Centro de Investigação e Prevenção de Acidentes Aeronáuticos': 7,\n 'Sala de Apoio à Gestão Estratégica - SAGE': 4,\n 'Secretaria de Orçamento Federal - SOF/MP': 4,\n 'Diretoria de Geociências (DGC) / Coordenação de Cartografia  (CCAR)': 4}"
     },
     "metadata": {},
     "execution_count": 30
    }
   ],
   "source": [
    "link_autor"
   ]
  }
 ],
 "metadata": {
  "kernelspec": {
   "display_name": "Python 3",
   "language": "python",
   "name": "python3"
  },
  "language_info": {
   "codemirror_mode": {
    "name": "ipython",
    "version": 3
   },
   "file_extension": ".py",
   "mimetype": "text/x-python",
   "name": "python",
   "nbconvert_exporter": "python",
   "pygments_lexer": "ipython3",
   "version": "3.7.6-final"
  }
 },
 "nbformat": 4,
 "nbformat_minor": 2
}