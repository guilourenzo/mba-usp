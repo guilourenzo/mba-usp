{
 "cells": [
  {
   "cell_type": "markdown",
   "metadata": {},
   "source": [
    "# <span style=\"color:blue\"> MBA em Ciência de Dados</span>\n",
    "# <span style=\"color:blue\">Técnicas Avançadas para Captura e Tratamento de Dados</span>\n",
    "\n",
    "## <span style=\"color:blue\"> Web Scraping </span>\n",
    "\n",
    "## <span style=\"color:blue\">Avaliação </span> \n",
    "\n",
    "**Material Produzido por Luis Gustavo Nonato**<br>\n",
    "**Cemeai - ICMC/USP São Carlos**\n",
    "\n",
    "---"
   ]
  },
  {
   "cell_type": "code",
   "execution_count": 1,
   "metadata": {},
   "outputs": [],
   "source": [
    "import requests as rq\n",
    "from bs4 import BeautifulSoup"
   ]
  },
  {
   "cell_type": "markdown",
   "metadata": {},
   "source": [
    "Considere o portal de dados abertos do Governo Federal: \n",
    "\n",
    "[http://www.dados.gov.br/](http://www.dados.gov.br/)"
   ]
  },
  {
   "cell_type": "code",
   "execution_count": 2,
   "metadata": {},
   "outputs": [
    {
     "output_type": "stream",
     "name": "stdout",
     "text": "Status do request:  200\n"
    }
   ],
   "source": [
    "url = 'http://www.dados.gov.br/dataset'\n",
    "\n",
    "# ACESSO A PÁGINA\n",
    "dados = rq.get(url, params={'q': 'seguranca'})\n",
    "print('Status do request: ', dados.status_code)"
   ]
  },
  {
   "cell_type": "code",
   "execution_count": 3,
   "metadata": {},
   "outputs": [],
   "source": [
    "# COPIA O HTML DA PÁGINA PARA UMA VARIÁVEL\n",
    "dados_seg = BeautifulSoup(dados.text, 'html.parser')"
   ]
  },
  {
   "cell_type": "markdown",
   "metadata": {},
   "source": [
    "### Exercício 1)\n",
    "Faça uma requisição no side de dados abertos do Governo Federal utilizando a palavra \"seguranca\" (sem ç) como fonte de busca. Dentre os repositórios que aparecem na primeira página resultante da busca, quantos caracteres aparecem no nome do repositório com o nome mais longo?\n",
    "\n",
    "Por exemplo, o nome do repositório\n",
    "```html\n",
    "Segurança Pública com Cidadania\n",
    "\n",
    "Segurança Pública com Cidadania. Empreendimento pertencente a carteira do Anexo III do PPA 2012-2015. Programa 2070. Iniciativas 03DX e 04AD - escala 1:2.500.000. Sistema de...\n",
    "```\n",
    "&nbsp;&nbsp;&nbsp;&nbsp;&nbsp;&nbsp;&nbsp;&nbsp;<span style=\"background-color:blue\">HTML</span>\n",
    "<span style=\"background-color:orange\">XML</span>\n",
    "\n",
    "é _\"Segurança Pública com Cidadania\"_ e possui 31 caracteres.\n",
    "\n",
    "a) 77<br>\n",
    "b) 78<br>\n",
    "c) 79<br>\n",
    "d) 80\n",
    "\n",
    "**Dica**: Os repositórios estão marcados pela `tag` \n",
    "```html\n",
    "  <li class=\"dataset-item\">\n",
    "```"
   ]
  },
  {
   "cell_type": "code",
   "execution_count": 4,
   "metadata": {},
   "outputs": [
    {
     "output_type": "stream",
     "name": "stdout",
     "text": "Segurança Pública com  Cidadania ==> 32\n----------\nSegurança Pública com Cidadania ==> 31\n----------\nIndicadores sobre Segurança Pública ==> 35\n----------\nRegiões Integradas de Segurança Pública ==> 39\n----------\nSeminário: Fronteiras e Segurança Nacional ==> 42\n----------\nSeminário: Fronteiras e Segurança Nacional ==> 42\n----------\nIndicadores sobre Segurança Pública (editado) ==> 45\n----------\nEquipamentos Públicos de Segurança Alimentar e Nutricional ==> 58\n----------\nMunicípios com Conselho Municipal de Segurança Alimentar ==> 56\n----------\nDiagnostico da Juventude - Segurança e Justiça ==> 46\n----------\nIndicadores sobre Força Nacional de Segurança Pública ==> 53\n----------\nMAPASAN - Mapeamento de Segurança Alimentar e Nutricional ==> 57\n----------\nIndicadores sobre Aprimoramento das Atividades de Segurança Pública ==> 67\n----------\nIndicadores sobre Adequação de Unidades de Segurança Pública ==> 60\n----------\nA Opinião Pública e a Segurança do Estado - 2004 ==> 48\n----------\nA Opinião Pública e a Segurança do Estado ==> 41\n----------\nIndicadores sobre PRONASCI - Programa Nacional de Segurança Pública com Cidad... ==> 80\n----------\nComunidades Terapêuticas ==> 24\n----------\nAtos de Assentimento Prévio – Outubro de 2018 ==> 45\n----------\nAtos de Assentimento Prévio – Setembro de 2018 ==> 46\n----------\n"
    }
   ],
   "source": [
    "# DICIONÁRIO PARA ARMAZENAR O NOME DO REPOSITÓRIOS\n",
    "name_rep = {}\n",
    "\n",
    "# PERCORRE A PÁGINA BUSCANDO A TAG \"LI\" E A CLASS COM VALOR \"DATASET-ITEM\"\n",
    "for repositorio in dados_seg('li', {'class': 'dataset-item'}):\n",
    "    # PROCURA A TAG \"H3\" E O PARAMETRO TEXT\n",
    "    titulo = repositorio.find('h3').text\n",
    "    # REMOVE OS ESPAÇOS FINAIS E VERIFICA O TAMANHO DO TEXTO\n",
    "    data = len(titulo.strip())\n",
    "    print(f'{titulo.strip()} ==> {data}')\n",
    "    # SALVA OS VALORES NO DICIONÁRIO AUXILIAR\n",
    "    name_rep[titulo.strip()] = data\n",
    "    print(5*'--')"
   ]
  },
  {
   "cell_type": "code",
   "execution_count": 5,
   "metadata": {},
   "outputs": [
    {
     "output_type": "stream",
     "name": "stdout",
     "text": "('Indicadores sobre PRONASCI - Programa Nacional de Segurança Pública com Cidad...', 80)\n"
    }
   ],
   "source": [
    "# EXIBE O REPOSITÓRIO COM MAIOR NOME\n",
    "print(sorted(name_rep.items(), key=lambda kv: kv[1], reverse=True)[0])"
   ]
  },
  {
   "cell_type": "markdown",
   "metadata": {},
   "source": [
    "## RESPOSTA:<br>\n",
    "**LETRA D: 80**"
   ]
  },
  {
   "cell_type": "markdown",
   "metadata": {},
   "source": [
    "### Exercício 2) \n",
    "Quantos arquivos estão disponíveis para download nos repositórios listados na primeira página retornada pela requisição do exercício 1)?\n",
    "\n",
    "a) entre 30 e 35<br>\n",
    "b) entre 100 e 105<br>\n",
    "c) entre 70 e 75<br>\n",
    "d) entre 80 e 90\n",
    "\n",
    "**Dica**: Você deve extrair a URL correspondente à página de cada repositório, fazer uma requisição a tais páginas e contar o número de arquivos listados em cada uma delas. Os arquivos estão marcados pela `tag` no HTML de cada repositório\n",
    "```html\n",
    "  <li class=\"resource-item\">\n",
    "```"
   ]
  },
  {
   "cell_type": "code",
   "execution_count": 6,
   "metadata": {},
   "outputs": [
    {
     "output_type": "stream",
     "name": "stdout",
     "text": "Segurança Pública com  Cidadania ==> /dataset/mpog_seguranca_publica\nSegurança Pública com  Cidadania ==> 5 ==> 5\n----------\nSegurança Pública com Cidadania ==> /dataset/seguranca-publica-com-cidadania\nSegurança Pública com Cidadania ==> 2 ==> 7\n----------\nIndicadores sobre Segurança Pública ==> /dataset/seguranca-publica\nIndicadores sobre Segurança Pública ==> 4 ==> 11\n----------\nRegiões Integradas de Segurança Pública ==> /dataset/regioes-integradas-de-seguranca-publica\nRegiões Integradas de Segurança Pública ==> 3 ==> 14\n----------\nSeminário: Fronteiras e Segurança Nacional ==> /dataset/seminario-fronteiras-e-seguranca-nacional1\nSeminário: Fronteiras e Segurança Nacional ==> 1 ==> 15\n----------\nSeminário: Fronteiras e Segurança Nacional ==> /dataset/seminario-fronteiras-e-seguranca-nacional\nSeminário: Fronteiras e Segurança Nacional ==> 1 ==> 16\n----------\nIndicadores sobre Segurança Pública (editado) ==> /dataset/seguranca-publica--editado\nIndicadores sobre Segurança Pública (editado) ==> 4 ==> 20\n----------\nEquipamentos Públicos de Segurança Alimentar e Nutricional ==> /dataset/equipamentos-publicos-de-seguranca-alimentar-e-nutricional\nEquipamentos Públicos de Segurança Alimentar e Nutricional ==> 1 ==> 21\n----------\nMunicípios com Conselho Municipal de Segurança Alimentar ==> /dataset/municipios-com-conselho-municipal-de-seguranca-alimentar\nMunicípios com Conselho Municipal de Segurança Alimentar ==> 1 ==> 22\n----------\nDiagnostico da Juventude - Segurança e Justiça ==> /dataset/diagnostico-da-juventude-seguranca-e-justica\nDiagnostico da Juventude - Segurança e Justiça ==> 1 ==> 23\n----------\nIndicadores sobre Força Nacional de Segurança Pública ==> /dataset/forca-nacional-de-seguranca-publica\nIndicadores sobre Força Nacional de Segurança Pública ==> 8 ==> 31\n----------\nMAPASAN - Mapeamento de Segurança Alimentar e Nutricional ==> /dataset/mapeamento-de-seguranca-alimentar-e-nutricional\nMAPASAN - Mapeamento de Segurança Alimentar e Nutricional ==> 52 ==> 83\n----------\nIndicadores sobre Aprimoramento das Atividades de Segurança Pública ==> /dataset/aprimoramento-das-atividades-de-seguranca-publica\nIndicadores sobre Aprimoramento das Atividades de Segurança Pública ==> 4 ==> 87\n----------\nIndicadores sobre Adequação de Unidades de Segurança Pública ==> /dataset/adequacao-de-unidades-de-seguranca-publica\nIndicadores sobre Adequação de Unidades de Segurança Pública ==> 6 ==> 93\n----------\nA Opinião Pública e a Segurança do Estado - 2004 ==> /dataset/a-opiniao-publica-e-a-seguranca-do-estado-2004\nA Opinião Pública e a Segurança do Estado - 2004 ==> 1 ==> 94\n----------\nA Opinião Pública e a Segurança do Estado ==> /dataset/oppublica\nA Opinião Pública e a Segurança do Estado ==> 1 ==> 95\n----------\nIndicadores sobre PRONASCI - Programa Nacional de Segurança Pública com Cidad... ==> /dataset/pronasci-programa-nacional-de-seguranca-publica-com-cidadania\nIndicadores sobre PRONASCI - Programa Nacional de Segurança Pública com Cidad... ==> 2 ==> 97\n----------\nComunidades Terapêuticas ==> /dataset/comunidades-terapeuticas-privado\nComunidades Terapêuticas ==> 1 ==> 98\n----------\nAtos de Assentimento Prévio – Outubro de 2018 ==> /dataset/ass_previo_out2018\nAtos de Assentimento Prévio – Outubro de 2018 ==> 1 ==> 99\n----------\nAtos de Assentimento Prévio – Setembro de 2018 ==> /dataset/ass_previo_set2018\nAtos de Assentimento Prévio – Setembro de 2018 ==> 1 ==> 100\n----------\n"
    }
   ],
   "source": [
    "# DICIONÁRIO AUXILIAR\n",
    "link_rep = {}\n",
    "# URL A SER UTILIZADA\n",
    "url = 'http://www.dados.gov.br'\n",
    "\n",
    "# CONTADOR DOS ARQUIVOS\n",
    "j = 0\n",
    "# PERCORRE A PÁGINA BUSCANDO A TAG \"LI\" E A CLASS COM VALOR \"DATASET-ITEM\"\n",
    "for links in dados_seg('li', {'class': 'dataset-item'}):\n",
    "    # PROCURA A TAG \"H3\" E O PARAMETRO TEXT\n",
    "    titulo = links.find('h3').text\n",
    "    # REMOVE OS ESPAÇOS FINAIS\n",
    "    titulo = titulo.strip()\n",
    "    # PROCURA A TAG \"A\" E O PARAMETRO \"HREF\"\n",
    "    link = links.find('a').get('href')\n",
    "    print(f'{titulo} ==> {link}')\n",
    "\n",
    "    # ACESSO A NOVA PÁGINA\n",
    "    page = rq.get(url+link)\n",
    "    # SALVA O HTML DA PÁGINA ACESSADA\n",
    "    page_bs = BeautifulSoup(page.text, 'html.parser')\n",
    "    \n",
    "    # CONTADOR DOS ARQUIVOS DE CADA PÁGINA\n",
    "    i = 0\n",
    "    # PERCORRE A PÁGINA BUSCANDO A TAG \"LI\" E A CLASS COM VALOR \"RESOURCE-ITEM\"\n",
    "    for files in page_bs('li', {'class': 'resource-item'}):\n",
    "        # PROCURA A TAG \"A\" E O PARAMETRO \"HREF\"\n",
    "        x = files.find('a').get('href')\n",
    "        i += 1\n",
    "    \n",
    "    # SOMA A QUANTIDADE ARQUIVOS DA PÁGINA COM O GERAL\n",
    "    j+=i    \n",
    "    print(f'{titulo} ==> {i} ==> {j}')\n",
    "    # SALVA OS VALORES NO DICIONÁRIO AUXILIAR\n",
    "    link_rep[titulo] = i\n",
    "\n",
    "    print(5*'--')"
   ]
  },
  {
   "cell_type": "code",
   "execution_count": 7,
   "metadata": {},
   "outputs": [
    {
     "output_type": "stream",
     "name": "stdout",
     "text": "Foram encontrados 100 links na Primeira página\n"
    }
   ],
   "source": [
    "# EXIBE A TOTAL DE LINKS ENCONTRADOS\n",
    "print('Foram encontrados {} links na Primeira página'.format(j))"
   ]
  },
  {
   "cell_type": "markdown",
   "metadata": {},
   "source": [
    "## RESPOSTA:<br>\n",
    "**LETRA B: ENTRE 100 E 105**"
   ]
  },
  {
   "cell_type": "markdown",
   "metadata": {},
   "source": [
    "### Exercício 3)\n",
    "Repita o exercício 2), porém, contando apenas os aquivos de formato CSV que estão disponíveis para download. O total de arquivos CSV é:\n",
    "\n",
    "a) entre 20 e 25<br>\n",
    "b) entre 40 e 45<br>\n",
    "c) entre 30 e 35<br>\n",
    "d) entre 50 e 55<br>"
   ]
  },
  {
   "cell_type": "code",
   "execution_count": 8,
   "metadata": {},
   "outputs": [
    {
     "output_type": "stream",
     "name": "stdout",
     "text": "Segurança Pública com  Cidadania ==> /dataset/mpog_seguranca_publica\nSegurança Pública com  Cidadania ==> 1 ==> 1\n----------\nSegurança Pública com Cidadania ==> /dataset/seguranca-publica-com-cidadania\nSegurança Pública com Cidadania ==> 0 ==> 1\n----------\nIndicadores sobre Segurança Pública ==> /dataset/seguranca-publica\nIndicadores sobre Segurança Pública ==> 0 ==> 1\n----------\nRegiões Integradas de Segurança Pública ==> /dataset/regioes-integradas-de-seguranca-publica\nRegiões Integradas de Segurança Pública ==> 0 ==> 1\n----------\nSeminário: Fronteiras e Segurança Nacional ==> /dataset/seminario-fronteiras-e-seguranca-nacional1\nSeminário: Fronteiras e Segurança Nacional ==> 0 ==> 1\n----------\nSeminário: Fronteiras e Segurança Nacional ==> /dataset/seminario-fronteiras-e-seguranca-nacional\nSeminário: Fronteiras e Segurança Nacional ==> 0 ==> 1\n----------\nIndicadores sobre Segurança Pública (editado) ==> /dataset/seguranca-publica--editado\nIndicadores sobre Segurança Pública (editado) ==> 0 ==> 1\n----------\nEquipamentos Públicos de Segurança Alimentar e Nutricional ==> /dataset/equipamentos-publicos-de-seguranca-alimentar-e-nutricional\nEquipamentos Públicos de Segurança Alimentar e Nutricional ==> 0 ==> 1\n----------\nMunicípios com Conselho Municipal de Segurança Alimentar ==> /dataset/municipios-com-conselho-municipal-de-seguranca-alimentar\nMunicípios com Conselho Municipal de Segurança Alimentar ==> 0 ==> 1\n----------\nDiagnostico da Juventude - Segurança e Justiça ==> /dataset/diagnostico-da-juventude-seguranca-e-justica\nDiagnostico da Juventude - Segurança e Justiça ==> 1 ==> 2\n----------\nIndicadores sobre Força Nacional de Segurança Pública ==> /dataset/forca-nacional-de-seguranca-publica\nIndicadores sobre Força Nacional de Segurança Pública ==> 0 ==> 2\n----------\nMAPASAN - Mapeamento de Segurança Alimentar e Nutricional ==> /dataset/mapeamento-de-seguranca-alimentar-e-nutricional\nMAPASAN - Mapeamento de Segurança Alimentar e Nutricional ==> 29 ==> 31\n----------\nIndicadores sobre Aprimoramento das Atividades de Segurança Pública ==> /dataset/aprimoramento-das-atividades-de-seguranca-publica\nIndicadores sobre Aprimoramento das Atividades de Segurança Pública ==> 0 ==> 31\n----------\nIndicadores sobre Adequação de Unidades de Segurança Pública ==> /dataset/adequacao-de-unidades-de-seguranca-publica\nIndicadores sobre Adequação de Unidades de Segurança Pública ==> 0 ==> 31\n----------\nA Opinião Pública e a Segurança do Estado - 2004 ==> /dataset/a-opiniao-publica-e-a-seguranca-do-estado-2004\nA Opinião Pública e a Segurança do Estado - 2004 ==> 0 ==> 31\n----------\nA Opinião Pública e a Segurança do Estado ==> /dataset/oppublica\nA Opinião Pública e a Segurança do Estado ==> 0 ==> 31\n----------\nIndicadores sobre PRONASCI - Programa Nacional de Segurança Pública com Cidad... ==> /dataset/pronasci-programa-nacional-de-seguranca-publica-com-cidadania\nIndicadores sobre PRONASCI - Programa Nacional de Segurança Pública com Cidad... ==> 0 ==> 31\n----------\nComunidades Terapêuticas ==> /dataset/comunidades-terapeuticas-privado\nComunidades Terapêuticas ==> 1 ==> 32\n----------\nAtos de Assentimento Prévio – Outubro de 2018 ==> /dataset/ass_previo_out2018\nAtos de Assentimento Prévio – Outubro de 2018 ==> 0 ==> 32\n----------\nAtos de Assentimento Prévio – Setembro de 2018 ==> /dataset/ass_previo_set2018\nAtos de Assentimento Prévio – Setembro de 2018 ==> 0 ==> 32\n----------\n"
    }
   ],
   "source": [
    "# DICIONÁRIO AUXILIAR\n",
    "link_csv = {}\n",
    "# URL A SER UTILIZADA\n",
    "url = 'http://www.dados.gov.br'\n",
    "\n",
    "# CONTADOR DOS ARQUIVOS\n",
    "j = 0\n",
    "\n",
    "# PERCORRE A PÁGINA BUSCANDO A TAG \"LI\" E A CLASS COM VALOR \"DATASET-ITEM\"\n",
    "for links in dados_seg('li', {'class': 'dataset-item'}):\n",
    "    # PROCURA A TAG \"H3\" E O PARAMETRO TEXT\n",
    "    titulo = links.find('h3').text\n",
    "    # REMOVE OS ESPAÇOS FINAIS\n",
    "    titulo = titulo.strip()\n",
    "    # PROCURA A TAG \"A\" E O PARAMETRO \"HREF\"\n",
    "    link = links.find('a').get('href')\n",
    "    print(f'{titulo} ==> {link}')\n",
    "\n",
    "    # ACESSO A NOVA PÁGINA\n",
    "    page = rq.get(url+link)\n",
    "    # SALVA O HTML DA PÁGINA ACESSADA\n",
    "    page_bs = BeautifulSoup(page.text, 'html.parser')\n",
    "    \n",
    "    # CONTADOR DOS ARQUIVOS DE CADA PÁGINA\n",
    "    i = 0\n",
    "    # PERCORRE A PÁGINA BUSCANDO A TAG \"LI\" E A CLASS COM VALOR \"RESOURCE-ITEM\"\n",
    "    for files in page_bs('li', {'class': 'resource-item'}):\n",
    "        # PROCURA A TAG \"SPAN\" E O PARAMETRO \"DATA-FORMAT\"\n",
    "        y = files.find('span').get('data-format')\n",
    "        # VALIDA O TIPO DE ARQUIVO ENCONTRADO\n",
    "        if (y == 'csv') | (y == 'csv+zip'): \n",
    "        # PROCURA A TAG \"A\" E O PARAMETRO \"HREF\"\n",
    "            x = files.find('a').get('href')\n",
    "            i += 1\n",
    "    \n",
    "    # SOMA A QUANTIDADE ARQUIVOS DA PÁGINA COM O GERAL\n",
    "    j+=i    \n",
    "    print(f'{titulo} ==> {i} ==> {j}')\n",
    "    # SALVA OS VALORES NO DICIONÁRIO AUXILIAR\n",
    "    link_csv[titulo] = i\n",
    "\n",
    "    print(5*'--')"
   ]
  },
  {
   "cell_type": "code",
   "execution_count": 9,
   "metadata": {},
   "outputs": [
    {
     "output_type": "stream",
     "name": "stdout",
     "text": "Foram encontrados 32 links com arquivos CSV\n"
    }
   ],
   "source": [
    "# EXIBE O TOTAL DE LINKS ENCONTRADOS COM A EXTENSÃO \"CSV\"\n",
    "print('Foram encontrados {} links com arquivos CSV'.format(j))"
   ]
  },
  {
   "cell_type": "markdown",
   "metadata": {},
   "source": [
    "## RESPOSTA:<br>\n",
    "**LETRA C: ENTRE 30 E 35**"
   ]
  },
  {
   "cell_type": "markdown",
   "metadata": {},
   "source": [
    "### Exercício 4) \n",
    "Um total de 11 páginas são retornadas como resultado da requisição realizada no exercício 1). Percorra os nomes dos repositórios em todas as 11 páginas e calcule quantos repositórios **não** possuem a palavra \"segurança\" como parte do nome. O número encontrado é:\n",
    "\n",
    "a) entre 185 e 195<br>\n",
    "b) entre 170 e 175<br>\n",
    "c) entre 150 e 155<br>\n",
    "d) entre 75 e 80<br>\n",
    "\n",
    "\n",
    "**Obs:** A busca com a palavra \"seguranca\" é feita sem o ç, porém a busca nos nomes dos repositórios pela palavra \"segurança\" tem que ser feita com o ç. Não faça distinção entre letras maiúsculas ou minúsculas, ou seja, \"Segurança\" e \"segurança\" devem ser consideradas na contagem.\n",
    "\n",
    "**Dica:** Você consegue navegar pelas páginas enviando o parâmetro\n",
    "```python\n",
    "params={'page':pagina,'q': 'seguranca'}\n",
    "```\n",
    "para o comando <font color='blue'>get</font>, onde `pagina` é o número da página que se deseja buscar."
   ]
  },
  {
   "cell_type": "code",
   "execution_count": 10,
   "metadata": {},
   "outputs": [
    {
     "output_type": "stream",
     "name": "stdout",
     "text": "Página: 1 ==> Segurança Pública com  Cidadania ==> 0 ==> 0\nPágina: 1 ==> Segurança Pública com Cidadania ==> 0 ==> 0\nPágina: 1 ==> Indicadores sobre Segurança Pública ==> 0 ==> 0\nPágina: 1 ==> MAPASAN - Mapeamento de Segurança Alimentar e Nutricional ==> 0 ==> 0\nPágina: 1 ==> Regiões Integradas de Segurança Pública ==> 0 ==> 0\nPágina: 1 ==> Seminário: Fronteiras e Segurança Nacional ==> 0 ==> 0\nPágina: 1 ==> Seminário: Fronteiras e Segurança Nacional ==> 0 ==> 0\nPágina: 1 ==> Indicadores sobre Segurança Pública (editado) ==> 0 ==> 0\nPágina: 1 ==> Curso de Pós-Graduação - 2017 e 2018 ==> 1 ==> 1\nPágina: 1 ==> Diagnóstico dos municípios do estado do Acre ==> 1 ==> 2\nPágina: 1 ==> Diagnóstico do Distrito Federal ==> 1 ==> 3\nPágina: 1 ==> Diagnóstico dos municípios do estado do Piauí ==> 1 ==> 4\nPágina: 1 ==> Diagnóstico dos municípios do estado de Santa Catarina ==> 1 ==> 5\nPágina: 1 ==> Diagnóstico dos municípios do estado de Rondônia ==> 1 ==> 6\nPágina: 1 ==> Diagnóstico dos municípios do estado do Amapá ==> 1 ==> 7\nPágina: 1 ==> Diagnóstico dos municípios do estado de Roraima ==> 1 ==> 8\nPágina: 1 ==> Diagnóstico dos municípios do estado do Mato Grosso do Sul ==> 1 ==> 9\nPágina: 1 ==> Diagnóstico dos municípios do estado do Amazonas ==> 1 ==> 10\nPágina: 1 ==> Diagnóstico dos municípios do estado do Paraná ==> 1 ==> 11\nPágina: 1 ==> Diagnóstico dos municípios do estado do Tocantis ==> 1 ==> 12\nPágina: 2 ==> Diagnóstico dos municípios do estado de Sergipe ==> 1 ==> 13\nPágina: 2 ==> Diagnóstico dos municípios do estado do Mato Grosso ==> 1 ==> 14\nPágina: 2 ==> Diagnóstico dos municípios do estado do Rio Grande do Sul ==> 1 ==> 15\nPágina: 2 ==> Diagnóstico dos municípios do estado a Paraíba ==> 1 ==> 16\nPágina: 2 ==> Diagnóstico dos municípios do estado do Maranhão ==> 1 ==> 17\nPágina: 2 ==> Diagnóstico dos municípios do estado de São Paulo ==> 1 ==> 18\nPágina: 2 ==> Diagnóstico dos municípios do estado do Ceará ==> 1 ==> 19\nPágina: 2 ==> Diagnóstico dos municípios do estado do Rio Grande do Norte ==> 1 ==> 20\nPágina: 2 ==> Diagnóstico dos municípios do estado do Espírito Santo ==> 1 ==> 21\nPágina: 2 ==> Diagnóstico dos municípios do estado do Pará ==> 1 ==> 22\nPágina: 2 ==> Diagnóstico dos municípios do estado do Alagoas ==> 1 ==> 23\nPágina: 2 ==> Diagnóstico dos municípios do estado de Goiás ==> 1 ==> 24\nPágina: 2 ==> Diagnóstico dos municípios do estado do Rio de Janeiro ==> 1 ==> 25\nPágina: 2 ==> Diagnóstico dos municípios do estado da Bahia ==> 1 ==> 26\nPágina: 2 ==> Diagnóstico dos municípios do estado de Minas Gerais ==> 1 ==> 27\nPágina: 2 ==> Diagnóstico dos municípios do estado do Pernambuco ==> 1 ==> 28\nPágina: 2 ==> Equipamentos Públicos de Segurança Alimentar e Nutricional ==> 1 ==> 29\nPágina: 2 ==> Municípios com Conselho Municipal de Segurança Alimentar ==> 1 ==> 30\nPágina: 2 ==> Diagnostico da Juventude - Segurança e Justiça ==> 1 ==> 31\nPágina: 2 ==> Indicadores sobre Força Nacional de Segurança Pública ==> 1 ==> 32\nPágina: 3 ==> Indicadores sobre Aprimoramento das Atividades de Segurança Pública ==> 0 ==> 32\nPágina: 3 ==> Indicadores sobre Adequação de Unidades de Segurança Pública ==> 0 ==> 32\nPágina: 3 ==> A Opinião Pública e a Segurança do Estado - 2004 ==> 0 ==> 32\nPágina: 3 ==> A Opinião Pública e a Segurança do Estado ==> 0 ==> 32\nPágina: 3 ==> Indicadores sobre PRONASCI - Programa Nacional de Segurança Pública com Cidad... ==> 0 ==> 32\nPágina: 3 ==> Comunidades Terapêuticas ==> 1 ==> 33\nPágina: 3 ==> Atos de Assentimento Prévio – Outubro de 2018 ==> 1 ==> 34\nPágina: 3 ==> Atos de Assentimento Prévio – Setembro de 2018 ==> 1 ==> 35\nPágina: 3 ==> Plano de Dados Abertos do GSI - 2017-2018 ==> 1 ==> 36\nPágina: 3 ==> Plano de Dados Abertos do GSI  2017-2018 ==> 1 ==> 37\nPágina: 3 ==> Atos de Assentimento Prévio – Dezembro de 2018 ==> 1 ==> 38\nPágina: 3 ==> Atos de Assentimento Prévio – Maio/2019 ==> 1 ==> 39\nPágina: 3 ==> Atos de Assentimento Prévio – Novembro de 2018 ==> 1 ==> 40\nPágina: 3 ==> Atos de Assentimento Prévio - 2020 ==> 1 ==> 41\nPágina: 3 ==> Atos de Assentimento Prévio – Abril/2019 ==> 1 ==> 42\nPágina: 3 ==> Postos e delegacias do Departamento de Polícia Federal ==> 1 ==> 43\nPágina: 3 ==> Atos de Assentimento Prévio - 2020 ==> 1 ==> 44\nPágina: 3 ==> Atos de Assentimento Prévio - 2018 ==> 1 ==> 45\nPágina: 3 ==> Atos de Assentimento Prévio - Janeiro a Agosto de 2018 ==> 1 ==> 46\nPágina: 3 ==> VII Encontro Nacional de Estudos Estratégicos – Volume II - 2007 ==> 1 ==> 47\nPágina: 4 ==> VII Encontro Nacional de Estudos Estratégicos – Volume I - 2007 ==> 1 ==> 48\nPágina: 4 ==> Plano de Dados Abertos - CASA MILITAR ==> 1 ==> 49\nPágina: 4 ==> Postos Campanha do Desarmamento ==> 1 ==> 50\nPágina: 4 ==> Número de habilitados nos Distrito Federal nos últimos 10 anos ==> 1 ==> 51\nPágina: 4 ==> VII Encontro Nacional de Estudos Estratégicos – Volume II ==> 1 ==> 52\nPágina: 4 ==> VII Encontro Nacional de Estudos Estratégicos – Volume I ==> 1 ==> 53\nPágina: 4 ==> VII Encontro Nacional de Estudos Estratégicos – Volume III ==> 1 ==> 54\nPágina: 4 ==> Registros de violência contra a mulher  no estado do Rio Grande do Sul ==> 1 ==> 55\nPágina: 4 ==> VII Encontro Nacional de Estudos Estratégicos – Volume III - 2007 ==> 1 ==> 56\nPágina: 4 ==> Tipos de infrações cometidas nas vias urbanas do Distrito Federal em 2019 ==> 1 ==> 57\nPágina: 4 ==> Sinalização vertical e horizontal por região administrativa nas vias urbanas ... ==> 1 ==> 58\nPágina: 4 ==> Integração Energética Brasil-Venezuela ==> 1 ==> 59\nPágina: 4 ==> Tipos de infrações cometidas nas vias urbanas do Distrito Federal em 2018 ==> 1 ==> 60\nPágina: 4 ==> Indicadores sobre Bolsa Formação ==> 1 ==> 61\nPágina: 4 ==> Anuário Estatístico do Estado de Alagoas ==> 1 ==> 62\nPágina: 4 ==> A emergência da China e suas relações com a América Latina e África ==> 1 ==> 63\nPágina: 4 ==> A Emergência da China e suas Relações com a América e África - 2011 ==> 1 ==> 64\nPágina: 4 ==> Postos e delegacias do Departamento de Polícia Rodoviária Federal ==> 1 ==> 65\nPágina: 4 ==> Inventário de Base de Dados ==> 1 ==> 66\nPágina: 4 ==> Recall - Campanhas de Chamamento ==> 1 ==> 67\nPágina: 5 ==> Comunidades Terapêuticas ==> 1 ==> 68\nPágina: 5 ==> Lista de Cartórios do Brasil ==> 1 ==> 69\nPágina: 5 ==> Plano de dados abertos - SSP ==> 1 ==> 70\nPágina: 5 ==> Estruturas da Fundacentro ==> 1 ==> 71\nPágina: 5 ==> Sistema Multa - Autuações de Trânsito em Rodovias Federais ==> 1 ==> 72\nPágina: 5 ==> Cadastro Nacional de Entidades Sociais ==> 1 ==> 73\nPágina: 5 ==> Resenha Estatística do Estado de Alagoas ==> 1 ==> 74\nPágina: 5 ==> Ocorrências criminais no estado do Rio Grande do Sul ==> 1 ==> 75\nPágina: 5 ==> Ocorrências Criminais - Sinesp ==> 1 ==> 76\nPágina: 5 ==> Indicadores sobre PROTEJO - Projeto de Proteção dos Jovens em Território Vuln... ==> 1 ==> 77\nPágina: 5 ==> Programa de Análise de Produtos (PAP) ==> 1 ==> 78\nPágina: 5 ==> Conflitos Sociais na América Latina ==> 1 ==> 79\nPágina: 5 ==> A difusão de Poder na Economia Globalizada ==> 1 ==> 80\nPágina: 5 ==> Editais de Seleção de Estagiários ==> 1 ==> 81\nPágina: 5 ==> Dados Complementares de Discentes ==> 1 ==> 82\nPágina: 5 ==> Desaparecimento e localização de pessoas no Distrito Federal ==> 1 ==> 83\nPágina: 5 ==> Pesquisa sobre tempo médio do processamento de homicídios ==> 1 ==> 84\nPágina: 5 ==> Sistema BR-Brasil - Boletins de Ocorrências em Rodovias Federais ==> 1 ==> 85\nPágina: 5 ==> Gerenciamento de Crises: Modelos e Inovação ==> 1 ==> 86\nPágina: 5 ==> Operação de Paz no Haiti ==> 1 ==> 87\nPágina: 6 ==> Encontro de Estudos – Terrorismo ==> 1 ==> 88\nPágina: 6 ==> Ciclo de Estudos sobre a Amazônia ==> 1 ==> 89\nPágina: 6 ==> Brasil-Argentina: Uma Relação Estratégica ==> 1 ==> 90\nPágina: 6 ==> Organizações de formação - Centro de instrução AVSEC - Centros de Instrução H... ==> 1 ==> 91\nPágina: 6 ==> Encontro de Estudos: Terrorismo - 2006 ==> 1 ==> 92\nPágina: 6 ==> Encontro de Estudos - Mudanças Climáticas ==> 1 ==> 93\nPágina: 6 ==> Gerenciamento de Crises: Modelos e Inovação - 2004 ==> 1 ==> 94\nPágina: 6 ==> Ciclo de Estudos sobre a Amazônia - 2004 ==> 1 ==> 95\nPágina: 6 ==> Operação de Paz no Haiti - 2005 ==> 1 ==> 96\nPágina: 6 ==> Brasil-Argentina: Uma Relação Estratégica ==> 1 ==> 97\nPágina: 6 ==> Encontro de Estudos - Mudanças Climáticas ==> 1 ==> 98\nPágina: 6 ==> Fiscalização de Barragens ==> 1 ==> 99\nPágina: 6 ==> Comitê Nacional para os Refugiados ==> 1 ==> 100\nPágina: 6 ==> Fiscalização de Barragens ==> 1 ==> 101\nPágina: 6 ==> Editais de Seleção de Servidores ==> 1 ==> 102\nPágina: 6 ==> Encontro de Estudos: Terrorismo - 2003 ==> 1 ==> 103\nPágina: 6 ==> Encontro de Estudos: Terrorismo - 2003 ==> 1 ==> 104\nPágina: 6 ==> Violência contra a mulher no DF ==> 1 ==> 105\nPágina: 6 ==> Crimes de Racismo e Injúria racial no Distrito Federal ==> 1 ==> 106\nPágina: 6 ==> Lista de Terceirizados do Ministério da Justiça ==> 1 ==> 107\nPágina: 7 ==> Debates Públicos Online ==> 1 ==> 108\nPágina: 7 ==> Pesquisa sobre Feminicídio ==> 1 ==> 109\nPágina: 7 ==> Plano de Dados Abertos - CBMDF ==> 1 ==> 110\nPágina: 7 ==> Cadastro de Portos abrangidos pelo PSP ==> 1 ==> 111\nPágina: 7 ==> Estadias de embarcações abrangidas pelo PSP ==> 1 ==> 112\nPágina: 7 ==> Rol de Informações Classificadas de Desclassificadas ==> 1 ==> 113\nPágina: 7 ==> Infopen - Levantamento Nacional de Informações Penitenciárias ==> 1 ==> 114\nPágina: 7 ==> Perspectivas para a Faixa de Fronteira ==> 1 ==> 115\nPágina: 7 ==> Desafios para a Atividade de Inteligência no Século XXI ==> 1 ==> 116\nPágina: 7 ==> Desafios para a Atividade de Inteligência no Século XXI - 2004 ==> 1 ==> 117\nPágina: 7 ==> Cenários Estratégicos para o Brasil e seu Potencial para a Geração de Crises ==> 1 ==> 118\nPágina: 7 ==> Visão Estratégica dos Recursos do Mar - 2005 ==> 1 ==> 119\nPágina: 7 ==> Seminário: Perspectivas para a Fronteira e seus Anexos (2011) ==> 1 ==> 120\nPágina: 7 ==> Centro de Rereferencia da Mulher  2011 ==> 1 ==> 121\nPágina: 7 ==> Centro de Rereferencia da Mulher  2010 ==> 1 ==> 122\nPágina: 7 ==> Centro de Rereferencia da Mulher  2009 ==> 1 ==> 123\nPágina: 7 ==> Anuário de Indicadores do Detran de Alagoas ==> 1 ==> 124\nPágina: 7 ==> Boletins da Conjuntura Criminal do Estado de Pernambuco ==> 1 ==> 125\nPágina: 7 ==> Encontro de Estudos – Questão Indígena - 2003 ==> 1 ==> 126\nPágina: 7 ==> Crimes Violentos Letais Intencionais - CVLI ==> 1 ==> 127\nPágina: 8 ==> Crimes Contra o Patrimônio - CCP ==> 1 ==> 128\nPágina: 8 ==> OFTA - Amazônia ==> 1 ==> 129\nPágina: 8 ==> Seminário Crises na América do Sul: Lições e Perspectivas. ==> 1 ==> 130\nPágina: 8 ==> Alianças Estratégicas para o Brasil: China e Índia ==> 1 ==> 131\nPágina: 8 ==> Alianças Estratégicas para o Brasil: China e Índia ==> 1 ==> 132\nPágina: 8 ==> Seminário Crises na América do Sul: Lições e Perspectivas ==> 1 ==> 133\nPágina: 8 ==> Observatório de Fenômenos Transnacionais nas Américas - Caderno Amazônia ==> 1 ==> 134\nPágina: 8 ==> Marinha do Brasil - Normas da Autoridade Marítima ==> 1 ==> 135\nPágina: 8 ==> Sistema Multa - Autuações de Trânsito em Rodovias Federais ==> 1 ==> 136\nPágina: 8 ==> Violência contra a pessoa idosa - Segundo a Lei nº10.741/2003 \"Estatuto do Id... ==> 1 ==> 137\nPágina: 8 ==> Incentivos Fiscais Portuários ==> 1 ==> 138\nPágina: 8 ==> Faixa de Fronteira: Novos Paradigmas ==> 1 ==> 139\nPágina: 8 ==> Faixa de Fronteira: Novos Paradigmas ==> 1 ==> 140\nPágina: 8 ==> Encontro de Estudos – Questão Indígena ==> 1 ==> 141\nPágina: 8 ==> Órgãos Estaduais ==> 1 ==> 142\nPágina: 8 ==> Sistema Inmetro de Monitoramento de Acidentes de consumo - Sinmac ==> 1 ==> 143\nPágina: 8 ==> Workshop - Prevenção e Combate ao Terrorismo Internacional ==> 1 ==> 144\nPágina: 8 ==> Workshop - Prevenção e Combate ao Terrorismo Internacional ==> 1 ==> 145\nPágina: 8 ==> Movimentos Sociais: Papel a Desempenhar em uma Democracia ==> 1 ==> 146\nPágina: 8 ==> A assim chamada “Corrida Armamentista” e os Conflitos Transnacionais na Améri... ==> 1 ==> 147\nPágina: 9 ==> Cenários Estratégicos para o Brasil e seu Potencial para a Geração de Crises ==> 1 ==> 148\nPágina: 9 ==> Encontro de Estudos - Visão Estratégica dos Recursos do Mar ==> 1 ==> 149\nPágina: 9 ==> Atos de Assentimento Prévio - 2017 ==> 1 ==> 150\nPágina: 9 ==> Peças, Tabelas e Fluxogramas Padronizados de Polícia Judiciária ==> 1 ==> 151\nPágina: 9 ==> Classificação Indicativa - Sistema Classind ==> 1 ==> 152\nPágina: 9 ==> Movimentos Sociais: Papel a Desempenhar em uma Democracia - 2004 ==> 1 ==> 153\nPágina: 9 ==> Atos de Assentimento Prévio - 2017 ==> 1 ==> 154\nPágina: 9 ==> A assim chamada “Corrida Armamentista” e os Conflitos Transnacionais na Améri... ==> 1 ==> 155\nPágina: 9 ==> Conflitos Sociais na América Latina: Um Estudo a partir das Relações Econômicas ==> 1 ==> 156\nPágina: 9 ==> Sistema BR-Brasil - Boletins de Ocorrências em Rodovias Federais ==> 1 ==> 157\nPágina: 9 ==> IV Diagnóstico Defensoria Pública ==> 1 ==> 158\nPágina: 9 ==> 1ª reunião da Comissão Especial de Organização da visita do Papa ao Brasil ==> 1 ==> 159\nPágina: 9 ==> Delegacias de Polícia de Maceió ==> 1 ==> 160\nPágina: 9 ==> Benefícios Básicos e Variáveis - Bolsa Família - MI Social ==> 1 ==> 161\nPágina: 9 ==> Prestadores Acreditados ==> 1 ==> 162\nPágina: 9 ==> Anuário Estatístico de Acidentes de Trabalho - AEAT ==> 1 ==> 163\nPágina: 9 ==> Atos de Assentimento Prévio - 2019 ==> 1 ==> 164\nPágina: 9 ==> Programa Brasileiro de Etiquetagem (PBE) ==> 1 ==> 165\nPágina: 9 ==> Certificação e outorga - Indicadores de Qualidade de Serviços ==> 1 ==> 166\nPágina: 9 ==> Reunião de Estudos - Operações de Paz ==> 1 ==> 167\nPágina: 10 ==> Atos de Assentimento Prévio – 2019 ==> 1 ==> 168\nPágina: 10 ==> Atos de Assentimento Prévio de 2003 a 2016 ==> 1 ==> 169\nPágina: 10 ==> Reunião de Estudos - Operações de Paz ==> 1 ==> 170\nPágina: 10 ==> A Difusão de Poder na Economia Globalizada: Estados, Empresas Transnacionais ... ==> 1 ==> 171\nPágina: 10 ==> Integração Energética Brasil-Venezuela: um Modelo que Intensifica as Mudanças... ==> 1 ==> 172\nPágina: 10 ==> Procons ==> 1 ==> 173\nPágina: 10 ==> Gestão da Tecnologia da Informação ==> 1 ==> 174\nPágina: 10 ==> Indicadores sobre Mulher e Ciência ==> 1 ==> 175\nPágina: 10 ==> Indicadores sobre Defensoria Pública da União ==> 1 ==> 176\nPágina: 10 ==> Indicadores sobre Assistência Jurídica ==> 1 ==> 177\nPágina: 10 ==> CENIPA - Ocorrências Aeronáuticas na Aviação Civil Brasileira ==> 1 ==> 178\nPágina: 10 ==> Aeronaves - Drones cadastrados ==> 1 ==> 179\nPágina: 10 ==> Dados Georreferenciados - SITURB/SEGETH ==> 1 ==> 180\nPágina: 10 ==> Indicadores sobre Terras indígenas homologadas ==> 1 ==> 181\nPágina: 10 ==> Indicadores sobre Estabelecimentos Prisionais - Aparelhamento e Reaparelhamento ==> 1 ==> 182\nPágina: 10 ==> Registro de Objetos ==> 1 ==> 183\nPágina: 10 ==> Bolsa Família - MI Social ==> 1 ==> 184\nPágina: 10 ==> Bolsa Família - MI Social ==> 1 ==> 185\nPágina: 10 ==> Dados Consumidor.gov.br ==> 1 ==> 186\nPágina: 10 ==> Dados Sócio-Econômicos de Discentes ==> 1 ==> 187\nPágina: 11 ==> Cadastro Nacional de Reclamações Fundamentadas (PROCONS - Sindec) ==> 1 ==> 188\nPágina: 11 ==> Atendimentos de Consumidores nos Procons (Sindec) ==> 1 ==> 189\nPágina: 11 ==> Mapas de Caracterização Territorial ==> 1 ==> 190\nPágina: 11 ==> Programa Universidade para Todos - ProUni ==> 1 ==> 191\nPágina: 11 ==> Gestão de Pessoas (Executivo Federal) - Cargo de Direção e Assessoramento Sup... ==> 1 ==> 192\nPágina: 11 ==> Indicadores sobre Reintegração social do preso/internado/egresso ==> 1 ==> 193\nPágina: 11 ==> Indicadores sobre Comissão da Anistia - preservação da memória política do Br... ==> 1 ==> 194\n"
    }
   ],
   "source": [
    "# IMPORTA A BIBLIOTECA AUXILIAR PARA EXECUÇÃO DO REGEX\n",
    "import re\n",
    "\n",
    "# URL A SER UTILIZADA\n",
    "url = 'http://www.dados.gov.br/dataset'\n",
    "\n",
    "# REGRA DO REGEX A SER UTILIZADA\n",
    "token = '(S|s)(eguran)([\\w+\\W+])'\n",
    "\n",
    "# CONTADOR DOS LINKS\n",
    "j = 0\n",
    "# PERCORRE TODAS AS PÁGINAS DE 1 ATÉ 11\n",
    "for pagina in range(1, 12):\n",
    "    # ACESSO A PÁGINA COM OS PARAMETROS INFORMADOS PELO PROF.\n",
    "    dados = rq.get(url, params={'page':pagina,'q': 'segurança'})\n",
    "    \n",
    "    # SALVA O HTML DA PÁGINA ACESSADA\n",
    "    dados_pag = BeautifulSoup(dados.text, 'html.parser')\n",
    "    \n",
    "    # CONTADOR DOS TÍTULOS DE CADA PÁGINA\n",
    "    i = 0\n",
    "    # PERCORRE A PÁGINA BUSCANDO A TAG \"LI\" E A CLASS COM VALOR \"DATASET-ITEM\"\n",
    "    for pagina_name in dados_pag('li', {'class': 'dataset-item'}):\n",
    "        # PROCURA A TAG \"H3\" E O PARAMETRO TEXT\n",
    "        titulo = pagina_name.find('h3').text\n",
    "        # REMOVE OS ESPAÇOS FINAIS\n",
    "        titulo = titulo.strip()\n",
    "        # VALIDA SE O \"TOKEN\" DO REGEX É ENCONTRADO NA PÁGINA \n",
    "        # (O RETORNO DO RE.FINDALL É UMA LISTA POR ISSO EU VALIDO SÓ O TAMANHO DESSA LISTA [SE ENCONTROU TEM MAIS DE 1 ITEM NA LISTA])\n",
    "        if len(re.findall(token, titulo)) == 0:\n",
    "            i =1\n",
    "        \n",
    "        # SOMA A QUANTIDADE TITULOS ENCONTRADOS DA PÁGINA COM O GERAL\n",
    "        j+=i\n",
    "        print(f'Página: {pagina} ==> {titulo} ==> {i} ==> {j}')"
   ]
  },
  {
   "cell_type": "code",
   "execution_count": 11,
   "metadata": {},
   "outputs": [
    {
     "output_type": "stream",
     "name": "stdout",
     "text": "Foram encontrados 194 nomes sem a palavra \"SEGURANÇA\"\n"
    }
   ],
   "source": [
    "# EXIBE O TOTAL DE REPOSITÓRIOS SEM A PALAVRA \"SEGURANÇA\" NO NOME\n",
    "print('Foram encontrados {} nomes sem a palavra \"SEGURANÇA\"'.format(j))"
   ]
  },
  {
   "cell_type": "markdown",
   "metadata": {},
   "source": [
    "## RESPOSTA:<br>\n",
    "**LETRA A: ENTRE 185 E 195**"
   ]
  },
  {
   "cell_type": "markdown",
   "metadata": {},
   "source": [
    "### Exercício 5) \n",
    "Os repositórios retornados pela requisição do exercício 1) podem trazer a informação sobre o \"Autor\" do repositório, ou seja, quem foi o criador do repositório. Percorra as 11 páginas retornadas da requisição do exercício 1) e, para todos os repositórios listados em cada página, verifique qual é o \"Autor\" que aparece mais frequentemente como criador dos repositórios. \n",
    "\n",
    "O \"Autor\" mais frequente é: \n",
    "\n",
    "a) 'GSI' com aproximadamente 68 repositórios<br>\n",
    "b) 'SNJ' com aproximadamente 27 repositórios<br>\n",
    "c) 'Ministério da Justiça' com aproximadamente 16 repositórios<br>\n",
    "d) 'SNJ' com aproximadamente 76 repositórios<br>"
   ]
  },
  {
   "cell_type": "code",
   "execution_count": 12,
   "metadata": {},
   "outputs": [
    {
     "output_type": "stream",
     "name": "stderr",
     "text": "100%|██████████| 11/11 [00:07<00:00,  1.48it/s]\n100%|██████████| 207/207 [03:21<00:00,  1.03it/s]\n100%|██████████| 207/207 [00:00<00:00, 378.48it/s]\n"
    }
   ],
   "source": [
    "# BIBLIOTECA AUXILIAR PARA EXIBIR UMA BARRA DE PROGRESSO\n",
    "from tqdm import tqdm\n",
    "\n",
    "# LISTA AUXILIAR PARA ARMAZENAR OS LINKS\n",
    "link_rep = []\n",
    "# URL A SER ACESSADA\n",
    "url = 'http://www.dados.gov.br/dataset'\n",
    "\n",
    "# PERCORRE TODAS AS PÁGINAS DE 1 ATÉ 11\n",
    "for pagina in tqdm(range(1, 12)):\n",
    "    # ACESSO A PÁGINA COM OS PARAMETROS INFORMADOS PELO PROF.\n",
    "    dados = rq.get(url, params={'page':pagina,'q': 'segurança'})\n",
    "    \n",
    "    # SALVA O HTML DA PÁGINA ACESSADA\n",
    "    dados_pag = BeautifulSoup(dados.text, 'html.parser')\n",
    "    \n",
    "    # PERCORRE A PÁGINA BUSCANDO A TAG \"LI\" E A CLASS COM VALOR \"DATASET-ITEM\"\n",
    "    for links in dados_pag('li', {'class': 'dataset-item'}):\n",
    "        # SALVA NA LISTA AUXILIAR O LINK DA TAG \"A\" E PARAMETRO \"HREF\"\n",
    "        link_rep.append(links.find('a').get('href'))\n",
    "\n",
    "# LISTA AUXILIAR PARA SALVAR O HTML\n",
    "page_bs = []\n",
    "\n",
    "# PERCORRE TODOS OS LINKS ARMAZENADOS\n",
    "for link in tqdm(link_rep):\n",
    "    # ACESSO A PÁGINA DO LINK CRIADO\n",
    "    page = rq.get('http://www.dados.gov.br' + link)\n",
    "    # SALVA O HTML DA PÁGINA ACESSADA NA LISTA AUXILIAR\n",
    "    page_bs.append(BeautifulSoup(page.text, 'html.parser'))\n",
    "\n",
    "# DICIONÁRIO AUXILIAR PARA ARMAZENAR A CONTAGEM\n",
    "link_autor = {}\n",
    "\n",
    "#PERCORRE TODOS OS HTML'S SALVOS\n",
    "for autor in tqdm(page_bs):\n",
    "    # NEM TODAS AS PÁGINAS TEM A INFORMAÇÃO DE AUTOR E POR ISSO COLOQUEI UM \"TRY / EXCEPT\"\n",
    "    try:\n",
    "        # PROCURA NA PÁGINA A TAG \"TD\" E A PROPERTY COM VALOR \"DC:CREATOR\"\n",
    "        nome = autor.find('td', {'property': 'dc:creator'}).text\n",
    "        nome = nome.strip()\n",
    "    except:\n",
    "        # SE NÃO ENCONTRA O AUTOR ATRIBUI A INFORMAÇÃO DE \"N/A\"\n",
    "        nome = 'N/A'\n",
    "\n",
    "    # BUSCA NO DICIONÁRIO AUXILIAR SE JÁ EXISTE ALGUM REGISTRO COM O NOME DO AUTOR\n",
    "    # SE TIVER O REGISTRO ELE ADICIONA \"1\" NO VALOR E SE NÃO TIVER ELE CRIA UMA NOVA CHAVE\n",
    "    if nome in link_autor:\n",
    "        link_autor[nome] += 1\n",
    "    else:\n",
    "        link_autor[nome] = 1      \n"
   ]
  },
  {
   "cell_type": "code",
   "execution_count": 13,
   "metadata": {},
   "outputs": [
    {
     "output_type": "stream",
     "name": "stdout",
     "text": "('GSI', 68)\n"
    }
   ],
   "source": [
    "# EXIBE O AUTOR COM MAIOR CONTRIBUIÇÃO\n",
    "print(sorted(link_autor.items(), key= lambda kv: kv[1], reverse=True)[0])"
   ]
  },
  {
   "cell_type": "markdown",
   "metadata": {},
   "source": [
    "## RESPOSTA:<br>\n",
    "**LETRA A: 'GSI' com aproximadamente 68 repositórios**"
   ]
  }
 ],
 "metadata": {
  "kernelspec": {
   "display_name": "Python 3",
   "language": "python",
   "name": "python3"
  },
  "language_info": {
   "codemirror_mode": {
    "name": "ipython",
    "version": 3
   },
   "file_extension": ".py",
   "mimetype": "text/x-python",
   "name": "python",
   "nbconvert_exporter": "python",
   "pygments_lexer": "ipython3",
   "version": "3.7.6-final"
  }
 },
 "nbformat": 4,
 "nbformat_minor": 2
}