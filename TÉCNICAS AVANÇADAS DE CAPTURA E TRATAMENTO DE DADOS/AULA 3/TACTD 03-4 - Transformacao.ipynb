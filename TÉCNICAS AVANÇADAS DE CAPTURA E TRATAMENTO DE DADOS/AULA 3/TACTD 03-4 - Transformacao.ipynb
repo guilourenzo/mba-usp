{
 "cells": [
  {
   "cell_type": "markdown",
   "metadata": {},
   "source": [
    "# MBA em Ciência de Dados\n",
    "## Técnicas Avançadas de Captura e Tratamento de Dados\n",
    "\n",
    "\n",
    "### <span style=\"color:darkred\">Módulo III - Aquisição e Transformação de Dados</span>\n",
    "\n",
    "\n",
    "## <span style=\"color:darkred\">Transformação de atributos</span>\n",
    "\n",
    "Material Produzido por Moacir Antonelli Ponti\n",
    "\n",
    "CeMEAI - ICMC/USP São Carlos\n",
    "\n",
    "---"
   ]
  },
  {
   "cell_type": "markdown",
   "metadata": {},
   "source": [
    "__Referência complementar__\n",
    "\n",
    "DIEZ, David M.; BARR, Christopher D.; CETINKAYA-RUNDEL, Mine. **OpenIntro statistics**. 3.ed. OpenIntro, 2015. Capítulo 1.\n",
    "\n",
    "***"
   ]
  },
  {
   "cell_type": "markdown",
   "metadata": {},
   "source": [
    "## Distribuições de variáveis\n",
    "\n",
    "Variáveis possuem distribuições diferentes de valores possíveis devido a sua natureza.\n",
    "\n",
    "O senso comum vai assumir que temos uma das distribuições abaixo:\n",
    "\n",
    "* uniforme\n",
    "\n",
    "* normal\n",
    "\n",
    "... e que correlações são sempre:\n",
    "\n",
    "* lineares\n",
    "\n",
    "Mas isso nem sempre acontece!\n",
    "\n",
    "Pode ser útil transformar as variáveis para permitir melhor analisar os dados, inclusive suas correlações em particular com dados de natureza **exponencial**\n"
   ]
  },
  {
   "cell_type": "code",
   "execution_count": 1,
   "metadata": {},
   "outputs": [
    {
     "data": {
      "text/html": [
       "<div>\n",
       "<style scoped>\n",
       "    .dataframe tbody tr th:only-of-type {\n",
       "        vertical-align: middle;\n",
       "    }\n",
       "\n",
       "    .dataframe tbody tr th {\n",
       "        vertical-align: top;\n",
       "    }\n",
       "\n",
       "    .dataframe thead th {\n",
       "        text-align: right;\n",
       "    }\n",
       "</style>\n",
       "<table border=\"1\" class=\"dataframe\">\n",
       "  <thead>\n",
       "    <tr style=\"text-align: right;\">\n",
       "      <th></th>\n",
       "      <th>gid</th>\n",
       "      <th>UF</th>\n",
       "      <th>nome</th>\n",
       "      <th>Censo</th>\n",
       "      <th>PIB</th>\n",
       "      <th>pop</th>\n",
       "      <th>classe</th>\n",
       "      <th>desemprego</th>\n",
       "      <th>pop_sanea</th>\n",
       "      <th>expec_vida</th>\n",
       "      <th>pobreza</th>\n",
       "      <th>IDH</th>\n",
       "      <th>urbaniz</th>\n",
       "      <th>dens_pop_urbana</th>\n",
       "    </tr>\n",
       "  </thead>\n",
       "  <tbody>\n",
       "    <tr>\n",
       "      <th>0</th>\n",
       "      <td>752</td>\n",
       "      <td>ACRE</td>\n",
       "      <td>Acrelândia</td>\n",
       "      <td>2010.0</td>\n",
       "      <td>151120.015625</td>\n",
       "      <td>12241</td>\n",
       "      <td>2</td>\n",
       "      <td>5.2</td>\n",
       "      <td>33.532382</td>\n",
       "      <td>73.6</td>\n",
       "      <td>19.2</td>\n",
       "      <td>660</td>\n",
       "      <td>rural</td>\n",
       "      <td>muito baixa</td>\n",
       "    </tr>\n",
       "    <tr>\n",
       "      <th>1</th>\n",
       "      <td>747</td>\n",
       "      <td>ACRE</td>\n",
       "      <td>Assis Brasil</td>\n",
       "      <td>2010.0</td>\n",
       "      <td>48347.300781</td>\n",
       "      <td>5662</td>\n",
       "      <td>1</td>\n",
       "      <td>5.0</td>\n",
       "      <td>32.252163</td>\n",
       "      <td>74.2</td>\n",
       "      <td>18.9</td>\n",
       "      <td>664</td>\n",
       "      <td>rural</td>\n",
       "      <td>muito baixa</td>\n",
       "    </tr>\n",
       "    <tr>\n",
       "      <th>2</th>\n",
       "      <td>748</td>\n",
       "      <td>ACRE</td>\n",
       "      <td>Brasiléia</td>\n",
       "      <td>2010.0</td>\n",
       "      <td>194979.828125</td>\n",
       "      <td>20238</td>\n",
       "      <td>1</td>\n",
       "      <td>3.0</td>\n",
       "      <td>31.663354</td>\n",
       "      <td>75.3</td>\n",
       "      <td>19.5</td>\n",
       "      <td>667</td>\n",
       "      <td>baixo</td>\n",
       "      <td>média</td>\n",
       "    </tr>\n",
       "    <tr>\n",
       "      <th>3</th>\n",
       "      <td>754</td>\n",
       "      <td>ACRE</td>\n",
       "      <td>Bujari</td>\n",
       "      <td>2010.0</td>\n",
       "      <td>88708.031250</td>\n",
       "      <td>6772</td>\n",
       "      <td>2</td>\n",
       "      <td>4.8</td>\n",
       "      <td>33.501357</td>\n",
       "      <td>73.4</td>\n",
       "      <td>19.1</td>\n",
       "      <td>659</td>\n",
       "      <td>rural</td>\n",
       "      <td>muito baixa</td>\n",
       "    </tr>\n",
       "    <tr>\n",
       "      <th>4</th>\n",
       "      <td>751</td>\n",
       "      <td>ACRE</td>\n",
       "      <td>Capixaba</td>\n",
       "      <td>2010.0</td>\n",
       "      <td>89052.679688</td>\n",
       "      <td>9287</td>\n",
       "      <td>1</td>\n",
       "      <td>4.4</td>\n",
       "      <td>33.431383</td>\n",
       "      <td>75.4</td>\n",
       "      <td>18.1</td>\n",
       "      <td>661</td>\n",
       "      <td>rural</td>\n",
       "      <td>muito baixa</td>\n",
       "    </tr>\n",
       "  </tbody>\n",
       "</table>\n",
       "</div>"
      ],
      "text/plain": [
       "   gid    UF          nome   Censo            PIB    pop  classe  desemprego  \\\n",
       "0  752  ACRE    Acrelândia  2010.0  151120.015625  12241       2         5.2   \n",
       "1  747  ACRE  Assis Brasil  2010.0   48347.300781   5662       1         5.0   \n",
       "2  748  ACRE     Brasiléia  2010.0  194979.828125  20238       1         3.0   \n",
       "3  754  ACRE        Bujari  2010.0   88708.031250   6772       2         4.8   \n",
       "4  751  ACRE      Capixaba  2010.0   89052.679688   9287       1         4.4   \n",
       "\n",
       "   pop_sanea  expec_vida  pobreza  IDH urbaniz dens_pop_urbana  \n",
       "0  33.532382        73.6     19.2  660   rural     muito baixa  \n",
       "1  32.252163        74.2     18.9  664   rural     muito baixa  \n",
       "2  31.663354        75.3     19.5  667   baixo           média  \n",
       "3  33.501357        73.4     19.1  659   rural     muito baixa  \n",
       "4  33.431383        75.4     18.1  661   rural     muito baixa  "
      ]
     },
     "execution_count": 1,
     "metadata": {},
     "output_type": "execute_result"
    }
   ],
   "source": [
    "# carregando as bibliotecas necessárias\n",
    "import numpy as np\n",
    "import matplotlib.pyplot as plt\n",
    "import pandas as pd\n",
    "\n",
    "# carregando dados\n",
    "data = pd.read_csv(\"./dados/municipios_mba.csv\")\n",
    "data.head()"
   ]
  },
  {
   "cell_type": "markdown",
   "metadata": {},
   "source": [
    "Vamos estudar as variáveis abaixo, exibindo seus gráficos de caixa."
   ]
  },
  {
   "cell_type": "code",
   "execution_count": 2,
   "metadata": {},
   "outputs": [
    {
     "data": {
      "text/plain": [
       "<matplotlib.axes._subplots.AxesSubplot at 0x7efeec668730>"
      ]
     },
     "execution_count": 2,
     "metadata": {},
     "output_type": "execute_result"
    },
    {
     "data": {
      "image/png": "[encoded data removed]",
      "text/plain": [
       "<Figure size 432x288 with 1 Axes>"
      ]
     },
     "metadata": {
      "needs_background": "light"
     },
     "output_type": "display_data"
    }
   ],
   "source": [
    "attrs = ['pobreza', 'IDH', 'PIB', 'classe', 'pop']\n",
    "attrs_cat = attrs + ['UF', 'nome']\n",
    "data.boxplot(attrs)"
   ]
  },
  {
   "cell_type": "code",
   "execution_count": 3,
   "metadata": {},
   "outputs": [
    {
     "data": {
      "image/png": "[encoded data removed]",
      "text/plain": [
       "<Figure size 432x288 with 1 Axes>"
      ]
     },
     "metadata": {
      "needs_background": "light"
     },
     "output_type": "display_data"
    }
   ],
   "source": [
    "h = plt.hist(data['PIB'])"
   ]
  },
  {
   "cell_type": "markdown",
   "metadata": {},
   "source": [
    "Parece difícil entender a variável PIB!\n",
    "\n",
    "Talvez se aplicarmos uma transformação **logaritmica**!"
   ]
  },
  {
   "cell_type": "code",
   "execution_count": 4,
   "metadata": {},
   "outputs": [
    {
     "data": {
      "text/plain": [
       "Text(0.5, 0, 'Log(PIB)')"
      ]
     },
     "execution_count": 4,
     "metadata": {},
     "output_type": "execute_result"
    },
    {
     "data": {
      "image/png": "[encoded data removed]",
      "text/plain": [
       "<Figure size 432x288 with 1 Axes>"
      ]
     },
     "metadata": {
      "needs_background": "light"
     },
     "output_type": "display_data"
    }
   ],
   "source": [
    "x_PIB = np.array(data['PIB'])\n",
    "h = plt.hist(np.log(x_PIB+1));\n",
    "plt.xlabel('Log(PIB)')"
   ]
  },
  {
   "cell_type": "markdown",
   "metadata": {
    "scrolled": true
   },
   "source": [
    "Além da transformação, pode ser útil também remover outliers antes!"
   ]
  },
  {
   "cell_type": "code",
   "execution_count": 5,
   "metadata": {},
   "outputs": [],
   "source": [
    "def remove_outliers_IQR(df, attributes):\n",
    "    \n",
    "    dfn = df.copy()\n",
    "    \n",
    "    for var in attributes:\n",
    "        # verifica se variável é numerica\n",
    "        if np.issubdtype(df[var].dtype, np.number):\n",
    "            Q1 = dfn[var].quantile(0.25)\n",
    "            Q2 = dfn[var].quantile(0.50)\n",
    "            Q3 = dfn[var].quantile(0.75)\n",
    "            IQR = Q3 - Q1\n",
    "            \n",
    "            # apenas inliers segundo IQR\n",
    "            dfn = dfn.loc[(df[var] >= Q1-(IQR*1.5)) & (df[var] <= Q3+(IQR*1.5)),:]\n",
    "\n",
    "    return dfn\n"
   ]
  },
  {
   "cell_type": "code",
   "execution_count": 6,
   "metadata": {},
   "outputs": [
    {
     "data": {
      "text/plain": [
       "Text(0.5, 0, 'Log(PIB)')"
      ]
     },
     "execution_count": 6,
     "metadata": {},
     "output_type": "execute_result"
    },
    {
     "data": {
      "image/png": "[encoded data removed]",
      "text/plain": [
       "<Figure size 432x288 with 1 Axes>"
      ]
     },
     "metadata": {
      "needs_background": "light"
     },
     "output_type": "display_data"
    }
   ],
   "source": [
    "data_out = data.copy()\n",
    "data_out = remove_outliers_IQR(data_out, ['PIB'])\n",
    "\n",
    "# vamos adicionar essa nova variavel a base\n",
    "x_PIB = np.array(data_out['PIB'])\n",
    "h = plt.hist(np.log(x_PIB+1));\n",
    "plt.xlabel('Log(PIB)')"
   ]
  },
  {
   "cell_type": "markdown",
   "metadata": {},
   "source": [
    "Após limpeza de outliers e transformação os dados tem característica Normal e assim, modelos que consideram essa distribuição podem ser aplicados.\n",
    "\n",
    "O log é o inverso da função exponencial e assim, estamos buscando linearizar os dados exponenciais."
   ]
  },
  {
   "cell_type": "code",
   "execution_count": 7,
   "metadata": {},
   "outputs": [
    {
     "data": {
      "text/html": [
       "<div>\n",
       "<style scoped>\n",
       "    .dataframe tbody tr th:only-of-type {\n",
       "        vertical-align: middle;\n",
       "    }\n",
       "\n",
       "    .dataframe tbody tr th {\n",
       "        vertical-align: top;\n",
       "    }\n",
       "\n",
       "    .dataframe thead th {\n",
       "        text-align: right;\n",
       "    }\n",
       "</style>\n",
       "<table border=\"1\" class=\"dataframe\">\n",
       "  <thead>\n",
       "    <tr style=\"text-align: right;\">\n",
       "      <th></th>\n",
       "      <th>pobreza</th>\n",
       "      <th>IDH</th>\n",
       "      <th>PIB</th>\n",
       "      <th>classe</th>\n",
       "      <th>pop</th>\n",
       "      <th>Log_PIB</th>\n",
       "    </tr>\n",
       "  </thead>\n",
       "  <tbody>\n",
       "    <tr>\n",
       "      <th>pobreza</th>\n",
       "      <td>1.000000</td>\n",
       "      <td>-0.942245</td>\n",
       "      <td>-0.170224</td>\n",
       "      <td>-0.507724</td>\n",
       "      <td>0.300206</td>\n",
       "      <td>-0.185381</td>\n",
       "    </tr>\n",
       "    <tr>\n",
       "      <th>IDH</th>\n",
       "      <td>-0.942245</td>\n",
       "      <td>1.000000</td>\n",
       "      <td>0.141545</td>\n",
       "      <td>0.419101</td>\n",
       "      <td>-0.221749</td>\n",
       "      <td>0.154362</td>\n",
       "    </tr>\n",
       "    <tr>\n",
       "      <th>PIB</th>\n",
       "      <td>-0.170224</td>\n",
       "      <td>0.141545</td>\n",
       "      <td>1.000000</td>\n",
       "      <td>0.346233</td>\n",
       "      <td>0.666058</td>\n",
       "      <td>0.902932</td>\n",
       "    </tr>\n",
       "    <tr>\n",
       "      <th>classe</th>\n",
       "      <td>-0.507724</td>\n",
       "      <td>0.419101</td>\n",
       "      <td>0.346233</td>\n",
       "      <td>1.000000</td>\n",
       "      <td>-0.223733</td>\n",
       "      <td>0.366278</td>\n",
       "    </tr>\n",
       "    <tr>\n",
       "      <th>pop</th>\n",
       "      <td>0.300206</td>\n",
       "      <td>-0.221749</td>\n",
       "      <td>0.666058</td>\n",
       "      <td>-0.223733</td>\n",
       "      <td>1.000000</td>\n",
       "      <td>0.649933</td>\n",
       "    </tr>\n",
       "    <tr>\n",
       "      <th>Log_PIB</th>\n",
       "      <td>-0.185381</td>\n",
       "      <td>0.154362</td>\n",
       "      <td>0.902932</td>\n",
       "      <td>0.366278</td>\n",
       "      <td>0.649933</td>\n",
       "      <td>1.000000</td>\n",
       "    </tr>\n",
       "  </tbody>\n",
       "</table>\n",
       "</div>"
      ],
      "text/plain": [
       "          pobreza       IDH       PIB    classe       pop   Log_PIB\n",
       "pobreza  1.000000 -0.942245 -0.170224 -0.507724  0.300206 -0.185381\n",
       "IDH     -0.942245  1.000000  0.141545  0.419101 -0.221749  0.154362\n",
       "PIB     -0.170224  0.141545  1.000000  0.346233  0.666058  0.902932\n",
       "classe  -0.507724  0.419101  0.346233  1.000000 -0.223733  0.366278\n",
       "pop      0.300206 -0.221749  0.666058 -0.223733  1.000000  0.649933\n",
       "Log_PIB -0.185381  0.154362  0.902932  0.366278  0.649933  1.000000"
      ]
     },
     "execution_count": 7,
     "metadata": {},
     "output_type": "execute_result"
    }
   ],
   "source": [
    "data_out['Log_PIB'] = np.log(x_PIB+1)\n",
    "attrs = attrs + ['Log_PIB']\n",
    "data_out[attrs].corr()"
   ]
  },
  {
   "cell_type": "markdown",
   "metadata": {},
   "source": [
    "**Observar** que PIB e Log_PIB tem correlação 0.9\n",
    "\n",
    "ou seja, ainda retemos muito da informação, apesar de transformada.\n",
    "\n",
    "Agora vamos olhar para outras variáveis, que também não possuem distribuição bem comportada:"
   ]
  },
  {
   "cell_type": "code",
   "execution_count": 8,
   "metadata": {},
   "outputs": [
    {
     "data": {
      "text/plain": [
       "<matplotlib.axes._subplots.AxesSubplot at 0x7efee9f434c0>"
      ]
     },
     "execution_count": 8,
     "metadata": {},
     "output_type": "execute_result"
    },
    {
     "data": {
      "image/png": "[encoded data removed]",
      "text/plain": [
       "<Figure size 432x288 with 1 Axes>"
      ]
     },
     "metadata": {
      "needs_background": "light"
     },
     "output_type": "display_data"
    }
   ],
   "source": [
    "data_out['pobreza'].hist()"
   ]
  },
  {
   "cell_type": "code",
   "execution_count": 9,
   "metadata": {},
   "outputs": [
    {
     "data": {
      "text/plain": [
       "<matplotlib.axes._subplots.AxesSubplot at 0x7efee9eac430>"
      ]
     },
     "execution_count": 9,
     "metadata": {},
     "output_type": "execute_result"
    },
    {
     "data": {
      "image/png": "[encoded data removed]",
      "text/plain": [
       "<Figure size 432x288 with 1 Axes>"
      ]
     },
     "metadata": {
      "needs_background": "light"
     },
     "output_type": "display_data"
    }
   ],
   "source": [
    "data_out['pop'].hist()"
   ]
  },
  {
   "cell_type": "code",
   "execution_count": 10,
   "metadata": {},
   "outputs": [
    {
     "data": {
      "text/plain": [
       "<matplotlib.axes._subplots.AxesSubplot at 0x7efee9ea2be0>"
      ]
     },
     "execution_count": 10,
     "metadata": {},
     "output_type": "execute_result"
    },
    {
     "data": {
      "image/png": "[encoded data removed]",
      "text/plain": [
       "<Figure size 432x288 with 1 Axes>"
      ]
     },
     "metadata": {
      "needs_background": "light"
     },
     "output_type": "display_data"
    }
   ],
   "source": [
    "data_out.plot.scatter(x='pop', y='Log_PIB')"
   ]
  },
  {
   "cell_type": "markdown",
   "metadata": {},
   "source": [
    "Outra função comumente utilizada (essa para linearizar dados de natureza quadrática),  é a raiz quadrada."
   ]
  },
  {
   "cell_type": "code",
   "execution_count": 11,
   "metadata": {},
   "outputs": [
    {
     "data": {
      "text/html": [
       "<div>\n",
       "<style scoped>\n",
       "    .dataframe tbody tr th:only-of-type {\n",
       "        vertical-align: middle;\n",
       "    }\n",
       "\n",
       "    .dataframe tbody tr th {\n",
       "        vertical-align: top;\n",
       "    }\n",
       "\n",
       "    .dataframe thead th {\n",
       "        text-align: right;\n",
       "    }\n",
       "</style>\n",
       "<table border=\"1\" class=\"dataframe\">\n",
       "  <thead>\n",
       "    <tr style=\"text-align: right;\">\n",
       "      <th></th>\n",
       "      <th>pobreza</th>\n",
       "      <th>IDH</th>\n",
       "      <th>PIB</th>\n",
       "      <th>classe</th>\n",
       "      <th>pop</th>\n",
       "      <th>Log_PIB</th>\n",
       "      <th>Sqrt_pop</th>\n",
       "    </tr>\n",
       "  </thead>\n",
       "  <tbody>\n",
       "    <tr>\n",
       "      <th>pobreza</th>\n",
       "      <td>1.000000</td>\n",
       "      <td>-0.942245</td>\n",
       "      <td>-0.170224</td>\n",
       "      <td>-0.507724</td>\n",
       "      <td>0.300206</td>\n",
       "      <td>-0.185381</td>\n",
       "      <td>0.320284</td>\n",
       "    </tr>\n",
       "    <tr>\n",
       "      <th>IDH</th>\n",
       "      <td>-0.942245</td>\n",
       "      <td>1.000000</td>\n",
       "      <td>0.141545</td>\n",
       "      <td>0.419101</td>\n",
       "      <td>-0.221749</td>\n",
       "      <td>0.154362</td>\n",
       "      <td>-0.242492</td>\n",
       "    </tr>\n",
       "    <tr>\n",
       "      <th>PIB</th>\n",
       "      <td>-0.170224</td>\n",
       "      <td>0.141545</td>\n",
       "      <td>1.000000</td>\n",
       "      <td>0.346233</td>\n",
       "      <td>0.666058</td>\n",
       "      <td>0.902932</td>\n",
       "      <td>0.684638</td>\n",
       "    </tr>\n",
       "    <tr>\n",
       "      <th>classe</th>\n",
       "      <td>-0.507724</td>\n",
       "      <td>0.419101</td>\n",
       "      <td>0.346233</td>\n",
       "      <td>1.000000</td>\n",
       "      <td>-0.223733</td>\n",
       "      <td>0.366278</td>\n",
       "      <td>-0.246793</td>\n",
       "    </tr>\n",
       "    <tr>\n",
       "      <th>pop</th>\n",
       "      <td>0.300206</td>\n",
       "      <td>-0.221749</td>\n",
       "      <td>0.666058</td>\n",
       "      <td>-0.223733</td>\n",
       "      <td>1.000000</td>\n",
       "      <td>0.649933</td>\n",
       "      <td>0.966454</td>\n",
       "    </tr>\n",
       "    <tr>\n",
       "      <th>Log_PIB</th>\n",
       "      <td>-0.185381</td>\n",
       "      <td>0.154362</td>\n",
       "      <td>0.902932</td>\n",
       "      <td>0.366278</td>\n",
       "      <td>0.649933</td>\n",
       "      <td>1.000000</td>\n",
       "      <td>0.717255</td>\n",
       "    </tr>\n",
       "    <tr>\n",
       "      <th>Sqrt_pop</th>\n",
       "      <td>0.320284</td>\n",
       "      <td>-0.242492</td>\n",
       "      <td>0.684638</td>\n",
       "      <td>-0.246793</td>\n",
       "      <td>0.966454</td>\n",
       "      <td>0.717255</td>\n",
       "      <td>1.000000</td>\n",
       "    </tr>\n",
       "  </tbody>\n",
       "</table>\n",
       "</div>"
      ],
      "text/plain": [
       "           pobreza       IDH       PIB    classe       pop   Log_PIB  Sqrt_pop\n",
       "pobreza   1.000000 -0.942245 -0.170224 -0.507724  0.300206 -0.185381  0.320284\n",
       "IDH      -0.942245  1.000000  0.141545  0.419101 -0.221749  0.154362 -0.242492\n",
       "PIB      -0.170224  0.141545  1.000000  0.346233  0.666058  0.902932  0.684638\n",
       "classe   -0.507724  0.419101  0.346233  1.000000 -0.223733  0.366278 -0.246793\n",
       "pop       0.300206 -0.221749  0.666058 -0.223733  1.000000  0.649933  0.966454\n",
       "Log_PIB  -0.185381  0.154362  0.902932  0.366278  0.649933  1.000000  0.717255\n",
       "Sqrt_pop  0.320284 -0.242492  0.684638 -0.246793  0.966454  0.717255  1.000000"
      ]
     },
     "execution_count": 11,
     "metadata": {},
     "output_type": "execute_result"
    },
    {
     "data": {
      "image/png": "[encoded data removed]",
      "text/plain": [
       "<Figure size 432x288 with 1 Axes>"
      ]
     },
     "metadata": {
      "needs_background": "light"
     },
     "output_type": "display_data"
    }
   ],
   "source": [
    "x_pop = np.array(data_out['pop'])\n",
    "h = plt.hist(np.sqrt(x_pop));\n",
    "plt.xlabel('Sqrt(pop)')\n",
    "\n",
    "data_out['Sqrt_pop'] = np.sqrt(x_pop)\n",
    "attrs = attrs + ['Sqrt_pop']\n",
    "data_out[attrs].corr()"
   ]
  },
  {
   "cell_type": "code",
   "execution_count": 12,
   "metadata": {},
   "outputs": [
    {
     "data": {
      "text/plain": [
       "<matplotlib.axes._subplots.AxesSubplot at 0x7efee9e379a0>"
      ]
     },
     "execution_count": 12,
     "metadata": {},
     "output_type": "execute_result"
    },
    {
     "data": {
      "image/png": "[encoded data removed]",
      "text/plain": [
       "<Figure size 432x288 with 1 Axes>"
      ]
     },
     "metadata": {
      "needs_background": "light"
     },
     "output_type": "display_data"
    }
   ],
   "source": [
    "data_out.plot.scatter(x='Sqrt_pop', y='Log_PIB')"
   ]
  },
  {
   "cell_type": "code",
   "execution_count": 13,
   "metadata": {},
   "outputs": [
    {
     "name": "stderr",
     "output_type": "stream",
     "text": [
      "/home/maponti/.virtualenvs/mba_ds/lib/python3.8/site-packages/numpy/lib/histograms.py:839: RuntimeWarning: invalid value encountered in greater_equal\n",
      "  keep = (tmp_a >= first_edge)\n",
      "/home/maponti/.virtualenvs/mba_ds/lib/python3.8/site-packages/numpy/lib/histograms.py:840: RuntimeWarning: invalid value encountered in less_equal\n",
      "  keep &= (tmp_a <= last_edge)\n"
     ]
    },
    {
     "data": {
      "text/html": [
       "<div>\n",
       "<style scoped>\n",
       "    .dataframe tbody tr th:only-of-type {\n",
       "        vertical-align: middle;\n",
       "    }\n",
       "\n",
       "    .dataframe tbody tr th {\n",
       "        vertical-align: top;\n",
       "    }\n",
       "\n",
       "    .dataframe thead th {\n",
       "        text-align: right;\n",
       "    }\n",
       "</style>\n",
       "<table border=\"1\" class=\"dataframe\">\n",
       "  <thead>\n",
       "    <tr style=\"text-align: right;\">\n",
       "      <th></th>\n",
       "      <th>pobreza</th>\n",
       "      <th>IDH</th>\n",
       "      <th>PIB</th>\n",
       "      <th>classe</th>\n",
       "      <th>pop</th>\n",
       "      <th>Log_PIB</th>\n",
       "      <th>Sqrt_pop</th>\n",
       "      <th>Sqrt_pobreza</th>\n",
       "    </tr>\n",
       "  </thead>\n",
       "  <tbody>\n",
       "    <tr>\n",
       "      <th>pobreza</th>\n",
       "      <td>1.000000</td>\n",
       "      <td>-0.942245</td>\n",
       "      <td>-0.170224</td>\n",
       "      <td>-0.507724</td>\n",
       "      <td>0.300206</td>\n",
       "      <td>-0.185381</td>\n",
       "      <td>0.320284</td>\n",
       "      <td>0.991053</td>\n",
       "    </tr>\n",
       "    <tr>\n",
       "      <th>IDH</th>\n",
       "      <td>-0.942245</td>\n",
       "      <td>1.000000</td>\n",
       "      <td>0.141545</td>\n",
       "      <td>0.419101</td>\n",
       "      <td>-0.221749</td>\n",
       "      <td>0.154362</td>\n",
       "      <td>-0.242492</td>\n",
       "      <td>-0.959522</td>\n",
       "    </tr>\n",
       "    <tr>\n",
       "      <th>PIB</th>\n",
       "      <td>-0.170224</td>\n",
       "      <td>0.141545</td>\n",
       "      <td>1.000000</td>\n",
       "      <td>0.346233</td>\n",
       "      <td>0.666058</td>\n",
       "      <td>0.902932</td>\n",
       "      <td>0.684638</td>\n",
       "      <td>-0.178007</td>\n",
       "    </tr>\n",
       "    <tr>\n",
       "      <th>classe</th>\n",
       "      <td>-0.507724</td>\n",
       "      <td>0.419101</td>\n",
       "      <td>0.346233</td>\n",
       "      <td>1.000000</td>\n",
       "      <td>-0.223733</td>\n",
       "      <td>0.366278</td>\n",
       "      <td>-0.246793</td>\n",
       "      <td>-0.534099</td>\n",
       "    </tr>\n",
       "    <tr>\n",
       "      <th>pop</th>\n",
       "      <td>0.300206</td>\n",
       "      <td>-0.221749</td>\n",
       "      <td>0.666058</td>\n",
       "      <td>-0.223733</td>\n",
       "      <td>1.000000</td>\n",
       "      <td>0.649933</td>\n",
       "      <td>0.966454</td>\n",
       "      <td>0.298361</td>\n",
       "    </tr>\n",
       "    <tr>\n",
       "      <th>Log_PIB</th>\n",
       "      <td>-0.185381</td>\n",
       "      <td>0.154362</td>\n",
       "      <td>0.902932</td>\n",
       "      <td>0.366278</td>\n",
       "      <td>0.649933</td>\n",
       "      <td>1.000000</td>\n",
       "      <td>0.717255</td>\n",
       "      <td>-0.195874</td>\n",
       "    </tr>\n",
       "    <tr>\n",
       "      <th>Sqrt_pop</th>\n",
       "      <td>0.320284</td>\n",
       "      <td>-0.242492</td>\n",
       "      <td>0.684638</td>\n",
       "      <td>-0.246793</td>\n",
       "      <td>0.966454</td>\n",
       "      <td>0.717255</td>\n",
       "      <td>1.000000</td>\n",
       "      <td>0.318735</td>\n",
       "    </tr>\n",
       "    <tr>\n",
       "      <th>Sqrt_pobreza</th>\n",
       "      <td>0.991053</td>\n",
       "      <td>-0.959522</td>\n",
       "      <td>-0.178007</td>\n",
       "      <td>-0.534099</td>\n",
       "      <td>0.298361</td>\n",
       "      <td>-0.195874</td>\n",
       "      <td>0.318735</td>\n",
       "      <td>1.000000</td>\n",
       "    </tr>\n",
       "  </tbody>\n",
       "</table>\n",
       "</div>"
      ],
      "text/plain": [
       "               pobreza       IDH       PIB    classe       pop   Log_PIB  \\\n",
       "pobreza       1.000000 -0.942245 -0.170224 -0.507724  0.300206 -0.185381   \n",
       "IDH          -0.942245  1.000000  0.141545  0.419101 -0.221749  0.154362   \n",
       "PIB          -0.170224  0.141545  1.000000  0.346233  0.666058  0.902932   \n",
       "classe       -0.507724  0.419101  0.346233  1.000000 -0.223733  0.366278   \n",
       "pop           0.300206 -0.221749  0.666058 -0.223733  1.000000  0.649933   \n",
       "Log_PIB      -0.185381  0.154362  0.902932  0.366278  0.649933  1.000000   \n",
       "Sqrt_pop      0.320284 -0.242492  0.684638 -0.246793  0.966454  0.717255   \n",
       "Sqrt_pobreza  0.991053 -0.959522 -0.178007 -0.534099  0.298361 -0.195874   \n",
       "\n",
       "              Sqrt_pop  Sqrt_pobreza  \n",
       "pobreza       0.320284      0.991053  \n",
       "IDH          -0.242492     -0.959522  \n",
       "PIB           0.684638     -0.178007  \n",
       "classe       -0.246793     -0.534099  \n",
       "pop           0.966454      0.298361  \n",
       "Log_PIB       0.717255     -0.195874  \n",
       "Sqrt_pop      1.000000      0.318735  \n",
       "Sqrt_pobreza  0.318735      1.000000  "
      ]
     },
     "execution_count": 13,
     "metadata": {},
     "output_type": "execute_result"
    },
    {
     "data": {
      "image/png": "[encoded data removed]",
      "text/plain": [
       "<Figure size 432x288 with 1 Axes>"
      ]
     },
     "metadata": {
      "needs_background": "light"
     },
     "output_type": "display_data"
    }
   ],
   "source": [
    "x_pobreza = np.array(data_out['pobreza'])\n",
    "h = plt.hist(np.sqrt(x_pobreza+1));\n",
    "plt.xlabel('Sqrt(pobreza)')\n",
    "\n",
    "data_out['Sqrt_pobreza'] = np.sqrt(x_pobreza)\n",
    "attrs = attrs + ['Sqrt_pobreza']\n",
    "data_out[attrs].corr()"
   ]
  },
  {
   "cell_type": "code",
   "execution_count": 14,
   "metadata": {},
   "outputs": [
    {
     "data": {
      "text/plain": [
       "<matplotlib.axes._subplots.AxesSubplot at 0x7efee9d68ac0>"
      ]
     },
     "execution_count": 14,
     "metadata": {},
     "output_type": "execute_result"
    },
    {
     "data": {
      "image/png": "[encoded data removed]",
      "text/plain": [
       "<Figure size 432x288 with 1 Axes>"
      ]
     },
     "metadata": {
      "needs_background": "light"
     },
     "output_type": "display_data"
    }
   ],
   "source": [
    "data_out.plot.scatter(x='pobreza', y='IDH')"
   ]
  },
  {
   "cell_type": "code",
   "execution_count": 15,
   "metadata": {},
   "outputs": [
    {
     "data": {
      "text/plain": [
       "<matplotlib.axes._subplots.AxesSubplot at 0x7efee9cb7550>"
      ]
     },
     "execution_count": 15,
     "metadata": {},
     "output_type": "execute_result"
    },
    {
     "data": {
      "image/png": "[encoded data removed]",
      "text/plain": [
       "<Figure size 432x288 with 1 Axes>"
      ]
     },
     "metadata": {
      "needs_background": "light"
     },
     "output_type": "display_data"
    }
   ],
   "source": [
    "data_out.plot.scatter(x='Sqrt_pobreza', y='IDH')"
   ]
  },
  {
   "cell_type": "markdown",
   "metadata": {},
   "source": [
    "### Resumo:\n",
    "\n",
    "* Encontrar transformações nos atributos permite novas interpretações, para além do que temos como intuição \n",
    "\n",
    "* Transformações não excluem a limpeza e tratamento de dados \n",
    "\n",
    "* Transformações podem funcionar como geradores de novos atributos"
   ]
  }
 ],
 "metadata": {
  "kernelspec": {
   "display_name": "Python 3",
   "language": "python",
   "name": "python3"
  },
  "language_info": {
   "codemirror_mode": {
    "name": "ipython",
    "version": 3
   },
   "file_extension": ".py",
   "mimetype": "text/x-python",
   "name": "python",
   "nbconvert_exporter": "python",
   "pygments_lexer": "ipython3",
   "version": "3.8.2"
  }
 },
 "nbformat": 4,
 "nbformat_minor": 4
}
