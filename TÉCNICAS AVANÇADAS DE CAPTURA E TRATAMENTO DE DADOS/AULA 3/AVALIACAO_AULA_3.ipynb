{
 "cells": [
  {
   "cell_type": "markdown",
   "metadata": {},
   "source": [
    "# MBA em Ciência de Dados\n",
    "## Técnicas Avançadas de Captura e Tratamento de Dados\n",
    "\n",
    "\n",
    "### <span style=\"color:darkred\">Módulo III - Aquisição e Transformação de Dados</span>\n",
    "\n",
    "\n",
    "## <span style=\"color:darkred\">Avaliação</span>\n",
    "\n",
    "Moacir Antonelli Ponti\n",
    "\n",
    "CeMEAI - ICMC/USP São Carlos\n",
    "\n",
    "---\n",
    "#### <font color='red'> As respostas devem ser fornecidas no Moodle. O notebook é apenas para a implementação dos códigos que fornecerão as respostas</font>\n",
    "\n",
    "---"
   ]
  },
  {
   "cell_type": "markdown",
   "metadata": {},
   "source": [
    "Utilize as bibliotecas e carrege os dados conforme descrito abaixo"
   ]
  },
  {
   "cell_type": "code",
   "execution_count": 1,
   "metadata": {},
   "outputs": [
    {
     "output_type": "display_data",
     "data": {
      "text/plain": "<IPython.core.display.Javascript object>",
      "application/javascript": "\n        if (window._pyforest_update_imports_cell) { window._pyforest_update_imports_cell('import pandas as pd'); }\n    "
     },
     "metadata": {}
    }
   ],
   "source": [
    "# carregando as bibliotecas necessárias\n",
    "import numpy as np\n",
    "import matplotlib.pyplot as plt\n",
    "import pandas as pd\n",
    "\n",
    "escolas = pd.read_csv('ALUNOS_ANALISE.csv', header=None, sep=';')"
   ]
  },
  {
   "cell_type": "code",
   "execution_count": 2,
   "metadata": {},
   "outputs": [
    {
     "output_type": "execute_result",
     "data": {
      "text/plain": "   CDREDE       DE  CODMUN        MUN  CATEG  COD_ESC  TIPOESC  CODVINC  \\\n0   10101  NORTE 1     100  SAO PAULO      1       12        8       12   \n1   10101  NORTE 1     100  SAO PAULO      1       24        8       24   \n2   10101  NORTE 1     100  SAO PAULO      1       36        8       36   \n3   10101  NORTE 1     100  SAO PAULO      1       48        8       48   \n4   10101  NORTE 1     100  SAO PAULO      1       59        8       59   \n\n                                   NOMESC                     ENDESC  ...  \\\n0                AYRES DE MOURA PROFESSOR          RUA ARTUR ORLANDO  ...   \n1               GAVIAO PEIXOTO BRIGADEIRO                   MOGEIRO   ...   \n2                            JOAO SOLIMEO                   DO SABAO  ...   \n3       WALFREDO ARANTES CALDAS PROFESSOR  DEPUTADO CANTIDIO SAMPAIO  ...   \n4  SEBASTIAO DE OLIVEIRA GUSMAO PROFESSOR        RUA FRANCISCO GIRON  ...   \n\n             BAIESC                        EMAIL       FONE1  ZONA  \\\n0      VILA JAGUARA  E000012A@EDUCACAO.SP.GOV.BR  36251633.0     1   \n1        VILA PERUS  E000024A@EDUCACAO.SP.GOV.BR  39156810.0     1   \n2  JARDIM MARISTELA  E000036A@EDUCACAO.SP.GOV.BR  39228491.0     1   \n3        VILA SOUZA  E000048A@EDUCACAO.SP.GOV.BR  38513005.0     1   \n4        MORRO DOCE  E000059A@EDUCACAO.SP.GOV.BR  39111913.0     1   \n\n   ED_INFANTIL  CLASSES ESPECIAIS  SALA DE RECURSO  ANOS INICIAIS  \\\n0            0                  0                0              0   \n1            0                  0                0            523   \n2            0                  0               26              0   \n3            0                  0                0              0   \n4            0                  0                0              0   \n\n   ANOS FINAIS  ENSINO MEDIO  \n0          562             0  \n1          473          1073  \n2         1204           932  \n3            0          1140  \n4            0          1071  \n\n[5 rows x 21 columns]",
      "text/html": "<div>\n<style scoped>\n    .dataframe tbody tr th:only-of-type {\n        vertical-align: middle;\n    }\n\n    .dataframe tbody tr th {\n        vertical-align: top;\n    }\n\n    .dataframe thead th {\n        text-align: right;\n    }\n</style>\n<table border=\"1\" class=\"dataframe\">\n  <thead>\n    <tr style=\"text-align: right;\">\n      <th></th>\n      <th>CDREDE</th>\n      <th>DE</th>\n      <th>CODMUN</th>\n      <th>MUN</th>\n      <th>CATEG</th>\n      <th>COD_ESC</th>\n      <th>TIPOESC</th>\n      <th>CODVINC</th>\n      <th>NOMESC</th>\n      <th>ENDESC</th>\n      <th>...</th>\n      <th>BAIESC</th>\n      <th>EMAIL</th>\n      <th>FONE1</th>\n      <th>ZONA</th>\n      <th>ED_INFANTIL</th>\n      <th>CLASSES ESPECIAIS</th>\n      <th>SALA DE RECURSO</th>\n      <th>ANOS INICIAIS</th>\n      <th>ANOS FINAIS</th>\n      <th>ENSINO MEDIO</th>\n    </tr>\n  </thead>\n  <tbody>\n    <tr>\n      <th>0</th>\n      <td>10101</td>\n      <td>NORTE 1</td>\n      <td>100</td>\n      <td>SAO PAULO</td>\n      <td>1</td>\n      <td>12</td>\n      <td>8</td>\n      <td>12</td>\n      <td>AYRES DE MOURA PROFESSOR</td>\n      <td>RUA ARTUR ORLANDO</td>\n      <td>...</td>\n      <td>VILA JAGUARA</td>\n      <td>E000012A@EDUCACAO.SP.GOV.BR</td>\n      <td>36251633.0</td>\n      <td>1</td>\n      <td>0</td>\n      <td>0</td>\n      <td>0</td>\n      <td>0</td>\n      <td>562</td>\n      <td>0</td>\n    </tr>\n    <tr>\n      <th>1</th>\n      <td>10101</td>\n      <td>NORTE 1</td>\n      <td>100</td>\n      <td>SAO PAULO</td>\n      <td>1</td>\n      <td>24</td>\n      <td>8</td>\n      <td>24</td>\n      <td>GAVIAO PEIXOTO BRIGADEIRO</td>\n      <td>MOGEIRO</td>\n      <td>...</td>\n      <td>VILA PERUS</td>\n      <td>E000024A@EDUCACAO.SP.GOV.BR</td>\n      <td>39156810.0</td>\n      <td>1</td>\n      <td>0</td>\n      <td>0</td>\n      <td>0</td>\n      <td>523</td>\n      <td>473</td>\n      <td>1073</td>\n    </tr>\n    <tr>\n      <th>2</th>\n      <td>10101</td>\n      <td>NORTE 1</td>\n      <td>100</td>\n      <td>SAO PAULO</td>\n      <td>1</td>\n      <td>36</td>\n      <td>8</td>\n      <td>36</td>\n      <td>JOAO SOLIMEO</td>\n      <td>DO SABAO</td>\n      <td>...</td>\n      <td>JARDIM MARISTELA</td>\n      <td>E000036A@EDUCACAO.SP.GOV.BR</td>\n      <td>39228491.0</td>\n      <td>1</td>\n      <td>0</td>\n      <td>0</td>\n      <td>26</td>\n      <td>0</td>\n      <td>1204</td>\n      <td>932</td>\n    </tr>\n    <tr>\n      <th>3</th>\n      <td>10101</td>\n      <td>NORTE 1</td>\n      <td>100</td>\n      <td>SAO PAULO</td>\n      <td>1</td>\n      <td>48</td>\n      <td>8</td>\n      <td>48</td>\n      <td>WALFREDO ARANTES CALDAS PROFESSOR</td>\n      <td>DEPUTADO CANTIDIO SAMPAIO</td>\n      <td>...</td>\n      <td>VILA SOUZA</td>\n      <td>E000048A@EDUCACAO.SP.GOV.BR</td>\n      <td>38513005.0</td>\n      <td>1</td>\n      <td>0</td>\n      <td>0</td>\n      <td>0</td>\n      <td>0</td>\n      <td>0</td>\n      <td>1140</td>\n    </tr>\n    <tr>\n      <th>4</th>\n      <td>10101</td>\n      <td>NORTE 1</td>\n      <td>100</td>\n      <td>SAO PAULO</td>\n      <td>1</td>\n      <td>59</td>\n      <td>8</td>\n      <td>59</td>\n      <td>SEBASTIAO DE OLIVEIRA GUSMAO PROFESSOR</td>\n      <td>RUA FRANCISCO GIRON</td>\n      <td>...</td>\n      <td>MORRO DOCE</td>\n      <td>E000059A@EDUCACAO.SP.GOV.BR</td>\n      <td>39111913.0</td>\n      <td>1</td>\n      <td>0</td>\n      <td>0</td>\n      <td>0</td>\n      <td>0</td>\n      <td>0</td>\n      <td>1071</td>\n    </tr>\n  </tbody>\n</table>\n<p>5 rows × 21 columns</p>\n</div>"
     },
     "metadata": {},
     "execution_count": 2
    }
   ],
   "source": [
    "escolas = escolas.iloc[:, 0:21]\n",
    "escolas.columns = ['CDREDE', 'DE', 'CODMUN', 'MUN', 'CATEG', 'COD_ESC', 'TIPOESC', 'CODVINC', 'NOMESC', 'ENDESC', 'NUMESC', 'BAIESC', 'EMAIL', 'FONE1', 'ZONA', 'ED_INFANTIL', 'CLASSES ESPECIAIS', 'SALA DE RECURSO', 'ANOS INICIAIS', 'ANOS FINAIS', 'ENSINO MEDIO']\n",
    "\n",
    "escolas.head()"
   ]
  },
  {
   "cell_type": "markdown",
   "metadata": {},
   "source": [
    "### Questão 1)\n",
    " \n",
    "Porque é importante auditar fontes de dados já existentes e utilizar método e planejamento para realizar coleta de dados?\n",
    "\n",
    "(a) para evitar analisar dados com viés e chegar a conclusões inválidas<br>\n",
    "(b) para obter acurácias maiores<br>\n",
    "(c) para evitar analisar dados errôneos e assim obter estimadores com menos erro<br>\n",
    "(d) para evitar usar evidências anedotais para chegar a conclusões<br>\n"
   ]
  },
  {
   "cell_type": "markdown",
   "metadata": {},
   "source": [
    "#### RESPOSTA:<br>**LETRA A**"
   ]
  },
  {
   "cell_type": "markdown",
   "metadata": {},
   "source": [
    "### Questão 2)\n",
    " \n",
    "Acesse o portal : http://catalogo.governoaberto.sp.gov.br/\n",
    "\n",
    "Procure pelo arquivo CSV relativo a \"Quantidade de alunos por tipo de ensino da rede estadual - 01/2019\" (Secretaria da Educação - Sede) https://dados.educacao.sp.gov.br/dataset/quantidade-de-alunos-por-tipo-de-ensino-da-rede-estadual\n",
    "\n",
    "Carregue os dados (considere as particularidades do arquivo e não carregue o cabeçalho). Depois, remova as colunas 21 em diante, mantendo as colunas de 0 a 20. Essas colunas restantes possuem significado de acordo com o \"dicionário de dados\" disponível ao visualizar o recurso dos dados. Sendo rotuladas da seguinte forma:\n",
    "- CDREDE\n",
    "- DE\n",
    "- CODMUN\n",
    "- MUN\n",
    "- CATEG\n",
    "- COD_ESC\n",
    "- TIPOESC\n",
    "- CODVINC\n",
    "- NOMESC\n",
    "- ENDESC\n",
    "- NUMESC\n",
    "- BAIESC\n",
    "- EMAIL\n",
    "- FONE 1\n",
    "- ZONA\n",
    "- ED_INFANTIL\n",
    "- CLASSES ESPECIAIS\n",
    "- SALA DE RECURSO\n",
    "- ANOS INICIAIS\n",
    "- ANOS FINAIS\n",
    "- ENSINO MEDIO\n",
    "\n",
    "Após carregar os dados e nomear as colunas, crie um novo atributo 'TOT' por meio da soma das 6 últimas colunas: ED_INFANTIL, CLASSES ESPECIAIS, SALA DE RECURSO, ANOS INICIAIS, ANOS FINAIS e ENSINO MEDIO.\n",
    "\n",
    "Atribua nulo (nan) aos elementos cujo total (TOT) é zero."
   ]
  },
  {
   "cell_type": "code",
   "execution_count": 3,
   "metadata": {},
   "outputs": [
    {
     "output_type": "display_data",
     "data": {
      "text/plain": "<IPython.core.display.Javascript object>",
      "application/javascript": "\n        if (window._pyforest_update_imports_cell) { window._pyforest_update_imports_cell('import pandas as pd\\nimport numpy as np'); }\n    "
     },
     "metadata": {}
    }
   ],
   "source": [
    "escolas['TOT'] = escolas.iloc[:, 15:21].sum(axis=1)\n",
    "escolas['TOT'] = escolas['TOT'].replace(0, np.nan)"
   ]
  },
  {
   "cell_type": "markdown",
   "metadata": {},
   "source": [
    "Realize a **discretização** da variável 'TOT' utilizando:\n",
    "\n",
    "1. o método dos quantis, utilizando 5 valores alvo, relativos aos quantis 0, 20, 40, 60, 80, 100\n",
    "\n",
    "2. o método dos intervalos, utilizando 5 intervalos alvo: (0, 10] (10, 50] (50, 100] (100, 500] (500, max(TOT)],\n",
    "em que max(TOT) é o maior valor desse atributo\n",
    "\n",
    "Use o método qcut() para o item 1 e cut() para o item 2\n",
    "\n",
    "Adicione essa novas variáveis na base, com os nomes 'TOT_5Q' (quantis) e 'TOT_5I' (intervalos)"
   ]
  },
  {
   "cell_type": "code",
   "execution_count": 5,
   "metadata": {},
   "outputs": [
    {
     "output_type": "display_data",
     "data": {
      "text/plain": "<IPython.core.display.Javascript object>",
      "application/javascript": "\n        if (window._pyforest_update_imports_cell) { window._pyforest_update_imports_cell('import pandas as pd\\nimport numpy as np'); }\n    "
     },
     "metadata": {}
    },
    {
     "output_type": "display_data",
     "data": {
      "text/plain": "<IPython.core.display.Javascript object>",
      "application/javascript": "\n        if (window._pyforest_update_imports_cell) { window._pyforest_update_imports_cell('import pandas as pd\\nimport numpy as np'); }\n    "
     },
     "metadata": {}
    }
   ],
   "source": [
    "bins = [0, 10, 50, 100, 500, escolas['TOT'].max()]\n",
    "\n",
    "escolas['TOT_5Q'] = pd.qcut(escolas['TOT'], q=[0, .2, .4, .6, .8, 1])\n",
    "escolas['TOT_5I'] = pd.cut(escolas['TOT'], bins=bins)\n"
   ]
  },
  {
   "cell_type": "code",
   "execution_count": 6,
   "metadata": {},
   "outputs": [
    {
     "output_type": "execute_result",
     "data": {
      "text/plain": "(0.999, 323.0]     1051\n(670.0, 918.0]     1045\n(494.0, 670.0]     1045\n(918.0, 2269.0]    1041\n(323.0, 494.0]     1038\nName: TOT_5Q, dtype: int64"
     },
     "metadata": {},
     "execution_count": 6
    }
   ],
   "source": [
    "escolas['TOT_5Q'].value_counts()"
   ]
  },
  {
   "cell_type": "code",
   "execution_count": 7,
   "metadata": {},
   "outputs": [
    {
     "output_type": "execute_result",
     "data": {
      "text/plain": "(500.0, 2269.0]    3099\n(100.0, 500.0]     1898\n(50.0, 100.0]       131\n(10.0, 50.0]         74\n(0.0, 10.0]          18\nName: TOT_5I, dtype: int64"
     },
     "metadata": {},
     "execution_count": 7
    }
   ],
   "source": [
    "escolas['TOT_5I'].value_counts()"
   ]
  },
  {
   "cell_type": "markdown",
   "metadata": {},
   "source": [
    "Qual é a quantidade de dados (frequências dos valores discretizados) na base após a discretização, relativos ao primeiro intervalo e ao último intervalo para, respectivamente, TOT_5Q e TOT_5I?\n",
    "\n",
    "(a) TOT_5Q: primeiro 0.999, último 2269. TOT_5I: primeiro 0, último 2269<br>\n",
    "(b) TOT_5Q: primeiro 1051, último 1038. TOT_5I: primeiro 3099, último 18<br>\n",
    "(c) TOT_5Q: primeiro 0.999, último 323. TOT_5I: primeiro 500, último 2269<br>\n",
    "(d) TOT_5Q: primeiro 1051, último 1041. TOT_5I: primeiro 18, último 3099.<br>\n"
   ]
  },
  {
   "cell_type": "markdown",
   "metadata": {},
   "source": [
    "#### RESPOSTA:<br> **LETRA B**"
   ]
  },
  {
   "cell_type": "markdown",
   "metadata": {},
   "source": [
    "### Questão 3)\n",
    "\n",
    "Normalize 2 variáveis da base: TOT e ENSINO MEDIO\n",
    "* ENSINO MEDIO utilizando normalização da média\n",
    "* TOT utilizando normalização L-2\n",
    "\n",
    "Para isso, codifique funções que recebam uma coluna por parâmetro e retornem um atributo já normalizado\n",
    "\n",
    "Depois, aplique as funções e crie novas variáveis com os atributos normalizados: MEDIO_nm e TOT_l2.\n",
    "\n",
    "Após normalização, quais os valores de  média, desvio padrão, mínimo e máximo dessas variáveis, arredondando para 3 casas decimais?\n",
    "\n",
    "(a) MEDIO_nm: 0.000, 0.132, 0.000, 0.876; TOT_l2: 0.012, 0.007, 0.000, 1.000<br>\n",
    "(b) MEDIO_nm: 0.000, 0.132, -0.124, 0.876; TOT_l2: 0.012, 0.007, 0.000, 0.043<br>\n",
    "(c) MEDIO_nm: 1.000, 0.132, 0.000, 2.000; TOT_l2: 0.012, 0.007, 0.000, 1.000<br>\n",
    "(d) MEDIO_nm: 0.000, 0.500, -1.124, 1.125; TOT_l2: 0.012, 0.007, 0.000, 0.043<br>\n",
    "\n"
   ]
  },
  {
   "cell_type": "code",
   "execution_count": 8,
   "metadata": {},
   "outputs": [],
   "source": [
    "def scaler_mean(x):\n",
    "    return (x - x.mean()) / (x.max() - x.min())\n",
    "\n",
    "def scaler_norm(x, norm='l2'):\n",
    "    if norm == 'l1':  return x / np.abs(x).sum()\n",
    "    if norm == 'l2':  return x / np.sqrt(np.sum(x ** 2))\n",
    "    if norm == 'max': return x / x.max()\n",
    "    return x\n",
    "\n",
    "def describe(x):\n",
    "    print('mean {:.3f}'.format(x.mean()))\n",
    "    print('std  {:.3f}'.format(x.std()))\n",
    "    print('min  {:.3f}'.format(x.min()))\n",
    "    print('max  {:.3f}'.format(x.max()))"
   ]
  },
  {
   "cell_type": "code",
   "execution_count": 9,
   "metadata": {},
   "outputs": [],
   "source": [
    "escolas['MEDIO_nm'] = scaler_mean(escolas['ENSINO MEDIO'])"
   ]
  },
  {
   "cell_type": "code",
   "execution_count": 10,
   "metadata": {},
   "outputs": [
    {
     "output_type": "display_data",
     "data": {
      "text/plain": "<IPython.core.display.Javascript object>",
      "application/javascript": "\n        if (window._pyforest_update_imports_cell) { window._pyforest_update_imports_cell('import pandas as pd\\nimport numpy as np'); }\n    "
     },
     "metadata": {}
    },
    {
     "output_type": "display_data",
     "data": {
      "text/plain": "<IPython.core.display.Javascript object>",
      "application/javascript": "\n        if (window._pyforest_update_imports_cell) { window._pyforest_update_imports_cell('import pandas as pd\\nimport numpy as np'); }\n    "
     },
     "metadata": {}
    }
   ],
   "source": [
    "escolas['TOT_l2'] = scaler_norm(escolas['TOT'])"
   ]
  },
  {
   "cell_type": "code",
   "execution_count": 11,
   "metadata": {},
   "outputs": [
    {
     "output_type": "stream",
     "name": "stdout",
     "text": "mean -0.000\nstd  0.132\nmin  -0.124\nmax  0.876\n"
    }
   ],
   "source": [
    "describe(escolas['MEDIO_nm'])"
   ]
  },
  {
   "cell_type": "code",
   "execution_count": 12,
   "metadata": {},
   "outputs": [
    {
     "output_type": "stream",
     "name": "stdout",
     "text": "mean 0.012\nstd  0.007\nmin  0.000\nmax  0.043\n"
    }
   ],
   "source": [
    "describe(escolas['TOT_l2'])"
   ]
  },
  {
   "cell_type": "markdown",
   "metadata": {},
   "source": [
    "#### RESPOSTA:<br> **LETRA B**"
   ]
  },
  {
   "cell_type": "markdown",
   "metadata": {},
   "source": [
    "### Questão 4)\n",
    " \n",
    "Utilize os atributos 'ENSINO MEDIO' e 'ANOS FINAIS'. Vamos transformá-los por meio da função  logaritmica. Para isso:\n",
    "\n",
    "1. Faça uma cópia da base de dados, e atribua nulo (nan) a todos os valores iguais a zero nesses atributos,\n",
    "2. Transforme esses atributos utilizando a operação da raiz quadrada e os adicione à base de dados com novos nomes, ex. sqrt(ENSINO MÉDIO) e  sqrt(ANOS FINAIS),\n",
    "3. Remova todas as linhas que possuam nulo (nan) em qualquer um dos atributos transformados,\n",
    "4. Utilizando $x$ como sqrt(ENSINO MÉDIO) e $y$ como sqrt(ANOS FINAIS), ajuste um modelo de regressão linear entre as duas variáveis. Use `LinearRegression()` do `sklearn`. Aqui não estamos interessados em separar treinamento e teste, só queremos ajustar uma função linear das duas variáveis, considerando todo os dados disponíveis.\n",
    "5. Obtenha (imprima) o coeficiente da regressão linear aprendido, disponível no atributo coef_ do modelo inferido no passo anterior.\n",
    "\n",
    "Qual o valor obtido do coeficiente no passo 5 acima, arredondado para 3 casas decimais?\n",
    "\n",
    "(a) 0.481<br>\n",
    "(b) 0.668<br>\n",
    "(c) 0.690<br>\n",
    "(d) 0.657<br>\n"
   ]
  },
  {
   "cell_type": "code",
   "execution_count": 13,
   "metadata": {},
   "outputs": [
    {
     "output_type": "display_data",
     "data": {
      "text/plain": "<IPython.core.display.Javascript object>",
      "application/javascript": "\n        if (window._pyforest_update_imports_cell) { window._pyforest_update_imports_cell('import pandas as pd\\nimport numpy as np'); }\n    "
     },
     "metadata": {}
    },
    {
     "output_type": "display_data",
     "data": {
      "text/plain": "<IPython.core.display.Javascript object>",
      "application/javascript": "\n        if (window._pyforest_update_imports_cell) { window._pyforest_update_imports_cell('import pandas as pd\\nimport numpy as np'); }\n    "
     },
     "metadata": {}
    },
    {
     "output_type": "display_data",
     "data": {
      "text/plain": "<IPython.core.display.Javascript object>",
      "application/javascript": "\n        if (window._pyforest_update_imports_cell) { window._pyforest_update_imports_cell('import pandas as pd\\nimport numpy as np'); }\n    "
     },
     "metadata": {}
    },
    {
     "output_type": "display_data",
     "data": {
      "text/plain": "<IPython.core.display.Javascript object>",
      "application/javascript": "\n        if (window._pyforest_update_imports_cell) { window._pyforest_update_imports_cell('import pandas as pd\\nimport numpy as np'); }\n    "
     },
     "metadata": {}
    }
   ],
   "source": [
    "escola_new = escolas.copy()\n",
    "\n",
    "escola_new['ENSINO MEDIO'] = escola_new['ENSINO MEDIO'].replace(0, np.nan)\n",
    "escola_new['ANOS FINAIS'] = escola_new['ANOS FINAIS'].replace(0, np.nan)\n",
    "\n",
    "escola_new['ENSINO MEDIO SQRT'] = np.sqrt(escola_new['ENSINO MEDIO'])\n",
    "escola_new['ANOS FINAIS SQRT'] = np.sqrt(escola_new['ANOS FINAIS'])\n",
    "\n",
    "escola_new.dropna(subset=['ENSINO MEDIO SQRT', 'ANOS FINAIS SQRT'], inplace=True)"
   ]
  },
  {
   "cell_type": "code",
   "execution_count": 14,
   "metadata": {},
   "outputs": [
    {
     "output_type": "stream",
     "name": "stdout",
     "text": "COEFICICENTE:  0.668\n"
    }
   ],
   "source": [
    "X = escola_new['ENSINO MEDIO SQRT'].values.reshape(-1,1)\n",
    "y = escola_new['ANOS FINAIS SQRT'].values.reshape(-1,1)\n",
    "\n",
    "from sklearn.linear_model import LinearRegression\n",
    "\n",
    "escola_ln = LinearRegression().fit(X, y)\n",
    "coef = escola_ln.coef_\n",
    "coef = coef[0][0]\n",
    "print('COEFICICENTE: ', round(coef, 3))"
   ]
  },
  {
   "cell_type": "markdown",
   "metadata": {},
   "source": [
    "#### RESPOSTA:<br> **LETRA B**"
   ]
  },
  {
   "cell_type": "markdown",
   "metadata": {},
   "source": [
    "### Questão 5)\n",
    " \n",
    "Utilize a base de dados antes da modificação feita na Questão 4. Codifique as variáveis categóricas 'MUN' (categórica nominal) e 'TOT_5I' (categórica ordinal).\n",
    "\n",
    "Para MUN use números inteiros sequenciais, iniciados por 0 para codificar a variável em ordem alfabética, e gere um novo atributo MUN_cod\n",
    "\n",
    "Para TOT_5I, use números inteiros sequenciais, iniciado por 0 para codificar a variável segundo sua ordenação, utilize para isso a ordenação crescente de seus valores únicos. Gere um novo atributo TOT_5I_ord.\n",
    "\n",
    "A seguir, use a função `value_counts()` para mostrar a frequência de cada código na base de dados. Responda abaixo quais valores dos novos atributos (após codificação realizada) possuem a maior frequência (maior contagem):\n",
    "\n",
    "(a) MUN_cod: código 1124;  TOT_5I: código 3095<br>\n",
    "(b) MUN_cod: código 563;  TOT_5I: código 3<br>\n",
    "(c) MUN_cod: código 1124;  TOT_5I: código 4<br>\n",
    "(d) MUN_cod: código 563;  TOT_5I: código 4<br>"
   ]
  },
  {
   "cell_type": "code",
   "execution_count": 15,
   "metadata": {},
   "outputs": [],
   "source": [
    "escolas['MUN_cod'] = escolas['MUN'].astype(\"category\").cat.codes\n",
    "escolas['TOT_5I_ord'] = escolas['TOT_5I'].astype(\"category\").cat.codes\n"
   ]
  },
  {
   "cell_type": "code",
   "execution_count": 16,
   "metadata": {},
   "outputs": [
    {
     "output_type": "execute_result",
     "data": {
      "text/plain": "563"
     },
     "metadata": {},
     "execution_count": 16
    }
   ],
   "source": [
    "escolas['MUN_cod'].value_counts().idxmax()"
   ]
  },
  {
   "cell_type": "code",
   "execution_count": 17,
   "metadata": {},
   "outputs": [
    {
     "output_type": "execute_result",
     "data": {
      "text/plain": "4"
     },
     "metadata": {},
     "execution_count": 17
    }
   ],
   "source": [
    "escolas['TOT_5I_ord'].value_counts().idxmax()"
   ]
  },
  {
   "cell_type": "markdown",
   "metadata": {},
   "source": [
    "#### RESPOSTA:<br> **LETRA D**"
   ]
  }
 ],
 "metadata": {
  "kernelspec": {
   "display_name": "Python 3",
   "language": "python",
   "name": "python3"
  },
  "language_info": {
   "codemirror_mode": {
    "name": "ipython",
    "version": 3
   },
   "file_extension": ".py",
   "mimetype": "text/x-python",
   "name": "python",
   "nbconvert_exporter": "python",
   "pygments_lexer": "ipython3",
   "version": "3.7.7-final"
  }
 },
 "nbformat": 4,
 "nbformat_minor": 4
}