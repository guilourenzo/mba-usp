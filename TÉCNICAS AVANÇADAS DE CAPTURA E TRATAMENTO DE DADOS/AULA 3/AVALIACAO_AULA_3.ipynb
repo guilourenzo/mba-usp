{
 "cells": [
  {
   "cell_type": "markdown",
   "metadata": {},
   "source": [
    "# MBA em Ciência de Dados\n",
    "## Técnicas Avançadas de Captura e Tratamento de Dados\n",
    "\n",
    "\n",
    "### <span style=\"color:darkred\">Módulo III - Aquisição e Transformação de Dados</span>\n",
    "\n",
    "\n",
    "## <span style=\"color:darkred\">Avaliação</span>\n",
    "\n",
    "Moacir Antonelli Ponti\n",
    "\n",
    "CeMEAI - ICMC/USP São Carlos\n",
    "\n",
    "---\n",
    "#### <font color='red'> As respostas devem ser fornecidas no Moodle. O notebook é apenas para a implementação dos códigos que fornecerão as respostas</font>\n",
    "\n",
    "---"
   ]
  },
  {
   "cell_type": "markdown",
   "metadata": {},
   "source": [
    "Utilize as bibliotecas e carrege os dados conforme descrito abaixo"
   ]
  },
  {
   "cell_type": "code",
   "execution_count": 1,
   "metadata": {},
   "outputs": [],
   "source": [
    "# carregando as bibliotecas necessárias\n",
    "import numpy as np\n",
    "import matplotlib.pyplot as plt\n",
    "import pandas as pd"
   ]
  },
  {
   "cell_type": "markdown",
   "metadata": {},
   "source": [
    "### Questão 1)\n",
    " \n",
    "Porque é importante auditar fontes de dados já existentes e utilizar método e planejamento para realizar coleta de dados?\n",
    "\n",
    "(a) para evitar analisar dados com viés e chegar a conclusões inválidas<br>\n",
    "(b) para obter acurácias maiores<br>\n",
    "(c) para evitar analisar dados errôneos e assim obter estimadores com menos erro<br>\n",
    "(d) para evitar usar evidências anedotais para chegar a conclusões<br>\n"
   ]
  },
  {
   "cell_type": "markdown",
   "metadata": {},
   "source": [
    "### Questão 2)\n",
    " \n",
    "Acesse o portal : http://catalogo.governoaberto.sp.gov.br/\n",
    "\n",
    "Procure pelo arquivo CSV relativo a \"Quantidade de alunos por tipo de ensino da rede estadual - 01/2019\" (Secretaria da Educação - Sede)\n",
    "\n",
    "Carregue os dados (considere as particularidades do arquivo e não carregue o cabeçalho). Depois, remova as colunas 21 em diante, mantendo as colunas de 0 a 20. Essas colunas restantes possuem significado de acordo com o \"dicionário de dados\" disponível ao visualizar o recurso dos dados. Sendo rotuladas da seguinte forma:\n",
    "- CDREDE\n",
    "- DE\n",
    "- CODMUN\n",
    "- MUN\n",
    "- CATEG\n",
    "- COD_ESC\n",
    "- TIPOESC\n",
    "- CODVINC\n",
    "- NOMESC\n",
    "- ENDESC\n",
    "- NUMESC\n",
    "- BAIESC\n",
    "- EMAIL\n",
    "- FONE 1\n",
    "- ZONA\n",
    "- ED_INFANTIL\n",
    "- CLASSES ESPECIAIS\n",
    "- SALA DE RECURSO\n",
    "- ANOS INICIAIS\n",
    "- ANOS FINAIS\n",
    "- ENSINO MEDIO\n",
    "\n",
    "Após carregar os dados e nomear as colunas, crie um novo atributo 'TOT' por meio da soma das 6 últimas colunas: ED_INFANTIL, CLASSES ESPECIAIS, SALA DE RECURSO, ANOS INICIAIS, ANOS FINAIS e ENSINO MEDIO.\n",
    "\n",
    "Atribua nulo (nan) aos elementos cujo total (TOT) é zero."
   ]
  },
  {
   "cell_type": "markdown",
   "metadata": {},
   "source": [
    "Realize a **discretização** da variável 'TOT' utilizando:\n",
    "\n",
    "1. o método dos quantis, utilizando 5 valores alvo, relativos aos quantis 0, 20, 40, 60, 80, 100\n",
    "\n",
    "2. o método dos intervalos, utilizando 5 intervalos alvo: (0, 10] (10, 50] (50, 100] (100, 500] (500, max(TOT)],\n",
    "em que max(TOT) é o maior valor desse atributo\n",
    "\n",
    "Use o método qcut() para o item 1 e cut() para o item 2\n",
    "\n",
    "Adicione essa novas variáveis na base, com os nomes 'TOT_5Q' (quantis) e 'TOT_5I' (intervalos)"
   ]
  },
  {
   "cell_type": "markdown",
   "metadata": {},
   "source": [
    "Qual é a quantidade de dados (frequências dos valores discretizados) na base após a discretização, relativos ao primeiro intervalo e ao último intervalo para, respectivamente, TOT_5Q e TOT_5I?\n",
    "\n",
    "(a) TOT_5Q: primeiro 0.999, último 2269. TOT_5I: primeiro 0, último 2269<br>\n",
    "(b) TOT_5Q: primeiro 1051, último 1038. TOT_5I: primeiro 3099, último 18<br>\n",
    "(c) TOT_5Q: primeiro 0.999, último 323. TOT_5I: primeiro 500, último 2269<br>\n",
    "(d) TOT_5Q: primeiro 1051, último 1041. TOT_5I: primeiro 18, último 3099.<br>\n"
   ]
  },
  {
   "cell_type": "markdown",
   "metadata": {},
   "source": [
    "### Questão 3)\n",
    "\n",
    "Normalize 2 variáveis da base: TOT e ENSINO MEDIO\n",
    "* ENSINO MEDIO utilizando normalização da média\n",
    "* TOT utilizando normalização L-2\n",
    "\n",
    "Para isso, codifique funções que recebam uma coluna por parâmetro e retornem um atributo já normalizado\n",
    "\n",
    "Depois, aplique as funções e crie novas variáveis com os atributos normalizados: MEDIO_nm e TOT_l2.\n",
    "\n",
    "Após normalização, quais os valores de  média, desvio padrão, mínimo e máximo dessas variáveis, arredondando para 3 casas decimais?\n",
    "\n",
    "(a) MEDIO_nm: 0.000, 0.132, 0.000, 0.876; TOT_l2: 0.012, 0.007, 0.000, 1.000<br>\n",
    "(b) MEDIO_nm: 0.000, 0.132, -0.124, 0.876; TOT_l2: 0.012, 0.007, 0.000, 0.043<br>\n",
    "(c) MEDIO_nm: 1.000, 0.132, 0.000, 2.000; TOT_l2: 0.012, 0.007, 0.000, 1.000<br>\n",
    "(d) MEDIO_nm: 0.000, 0.500, -1.124, 1.125; TOT_l2: 0.012, 0.007, 0.000, 0.043<br>\n",
    "\n"
   ]
  },
  {
   "cell_type": "markdown",
   "metadata": {},
   "source": [
    "### Questão 4)\n",
    " \n",
    "Utilize os atributos 'ENSINO MEDIO' e 'ANOS FINAIS'. Vamos transformá-los por meio da função  logaritmica. Para isso:\n",
    "\n",
    "1. Faça uma cópia da base de dados, e atribua nulo (nan) a todos os valores iguais a zero nesses atributos,\n",
    "2. Transforme esses atributos utilizando a operação da raiz quadrada e os adicione à base de dados com novos nomes, ex. sqrt(ENSINO MÉDIO) e  sqrt(ANOS FINAIS),\n",
    "3. Remova todas as linhas que possuam nulo (nan) em qualquer um dos atributos transformados,\n",
    "4. Utilizando $x$ como sqrt(ENSINO MÉDIO) e $y$ como sqrt(ANOS FINAIS), ajuste um modelo de regressão linear entre as duas variáveis. Use `LinearRegression()` do `sklearn`. Aqui não estamos interessados em separar treinamento e teste, só queremos ajustar uma função linear das duas variáveis, considerando todo os dados disponíveis.\n",
    "5. Obtenha (imprima) o coeficiente da regressão linear aprendido, disponível no atributo coef_ do modelo inferido no passo anterior.\n",
    "\n",
    "Qual o valor obtido do coeficiente no passo 5 acima, arredondado para 3 casas decimais?\n",
    "\n",
    "(a) 0.481<br>\n",
    "(b) 0.668<br>\n",
    "(c) 0.690<br>\n",
    "(d) 0.657<br>\n"
   ]
  },
  {
   "cell_type": "markdown",
   "metadata": {},
   "source": [
    "### Questão 5)\n",
    " \n",
    "Utilize a base de dados antes da modificação feita na Questão 4. Codifique as variáveis categóricas 'MUN' (categórica nominal) e 'TOT_5I' (categórica ordinal).\n",
    "\n",
    "Para MUN use números inteiros sequenciais, iniciados por 0 para codificar a variável em ordem alfabética, e gere um novo atributo MUN_cod\n",
    "\n",
    "Para TOT_5I, use números inteiros sequenciais, iniciado por 0 para codificar a variável segundo sua ordenação, utilize para isso a ordenação crescente de seus valores únicos. Gere um novo atributo TOT_5I_ord.\n",
    "\n",
    "A seguir, use a função `value_counts()` para mostrar a frequência de cada código na base de dados. Responda abaixo quais valores dos novos atributos (após codificação realizada) possuem a maior frequência (maior contagem):\n",
    "\n",
    "(a) MUN_cod: código 1124;  TOT_5I: código 3095<br>\n",
    "(b) MUN_cod: código 563;  TOT_5I: código 3<br>\n",
    "(c) MUN_cod: código 1124;  TOT_5I: código 4<br>\n",
    "(d) MUN_cod: código 563;  TOT_5I: código 4<br>"
   ]
  }
 ],
 "metadata": {
  "kernelspec": {
   "display_name": "Python 3",
   "language": "python",
   "name": "python3"
  },
  "language_info": {
   "codemirror_mode": {
    "name": "ipython",
    "version": 3
   },
   "file_extension": ".py",
   "mimetype": "text/x-python",
   "name": "python",
   "nbconvert_exporter": "python",
   "pygments_lexer": "ipython3",
   "version": "3.8.2"
  }
 },
 "nbformat": 4,
 "nbformat_minor": 4
}
