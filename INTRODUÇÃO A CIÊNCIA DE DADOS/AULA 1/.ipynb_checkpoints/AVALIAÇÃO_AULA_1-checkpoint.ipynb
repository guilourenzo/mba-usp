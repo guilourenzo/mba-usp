{
 "cells": [
  {
   "cell_type": "code",
   "execution_count": 1,
   "metadata": {},
   "outputs": [],
   "source": [
    "import statistics as stat # BIBLIOTECA \"STATISTICS\"\n",
    "import numpy as np # BIBLIOTECA \"NUMPY\"\n",
    "import scipy.stats as scipy_stat # BIBLIOTECA \"SCIPY.STATS\"\n",
    "import pandas as pd # BIBLIOTECA \"PANDAS\"\n",
    "import math # BIBLIOTE \"MATH\""
   ]
  },
  {
   "cell_type": "code",
   "execution_count": 2,
   "metadata": {},
   "outputs": [
    {
     "name": "stdout",
     "output_type": "stream",
     "text": [
      "MODA : 0\n"
     ]
    }
   ],
   "source": [
    "q1 = [0,0,2,3,1,2,4,5,6,8,0,0,7,0, 5,3,1,0,7,3,2,3,4,5,6,7,8,9,1,1,2,2,3]\n",
    "\n",
    "md = stat.mode(q1)\n",
    "\n",
    "print(\"MODA :\", md)"
   ]
  },
  {
   "cell_type": "code",
   "execution_count": 3,
   "metadata": {},
   "outputs": [
    {
     "name": "stdout",
     "output_type": "stream",
     "text": [
      "MÉDIA:  3.6666666666666665\n",
      "MEDIANA:  3.0\n"
     ]
    }
   ],
   "source": [
    "q2 = [0,0,2,3,1,2,4,5,6,8,7,5,3,1,0,7,3,2,3,4,5,6,7,8,9,1,1,2,2,3]\n",
    "\n",
    "_mean = stat.mean(q2)\n",
    "_median = stat.median(q2)\n",
    "\n",
    "print(\"MÉDIA: \", _mean)\n",
    "print(\"MEDIANA: \", _median)"
   ]
  },
  {
   "cell_type": "code",
   "execution_count": 4,
   "metadata": {},
   "outputs": [
    {
     "name": "stdout",
     "output_type": "stream",
     "text": [
      "VARIÂNCIA:  6.919540229885058\n",
      "DESVIO PADRÃO:  2.586288632169443\n",
      "DISTÂNCIA INTERQUARTIL:  3.75\n"
     ]
    }
   ],
   "source": [
    "q3 = [0,0,2,3,1,2,4,5,6,8,7,5,3,1,0,7,3,2,3,4,5,6,7,8,9,1,1,2,2,3]\n",
    "\n",
    "_variance = stat.variance(q3)\n",
    "_std = stat.pstdev(q3)\n",
    "_iqr = scipy_stat.iqr(q3)\n",
    "\n",
    "print(\"VARIÂNCIA: \", _variance)\n",
    "print(\"DESVIO PADRÃO: \", _std)\n",
    "print(\"DISTÂNCIA INTERQUARTIL: \", _iqr)\n",
    "\n",
    "\n"
   ]
  },
  {
   "cell_type": "code",
   "execution_count": 5,
   "metadata": {},
   "outputs": [
    {
     "name": "stdout",
     "output_type": "stream",
     "text": [
      "[1.55740772 3.38051501 1.55740772 3.38051501] \n",
      " [0.44302272 1.21802807 0.44302272 1.21802807] \n",
      " [-1, 5, 1, 5]\n",
      "SPEARMAN:  1.0 0.0\n",
      "PEARSON:  1.0 0.0\n"
     ]
    }
   ],
   "source": [
    "q4 = [-1, 5, 1, 5]\n",
    "\n",
    "x = np.sqrt((np.tan(q4))**2) # TRANSFORMAÇÕES PARA AJUSTES NOS VALORES NEGATIVOS\n",
    "z = np.log(x)\n",
    "\n",
    "_corrs, _values = scipy_stat.spearmanr(x, z) # SPEARMAN\n",
    "_corr, _value = scipy_stat.pearsonr(x, z) # PEARSON\n",
    "\n",
    "\n",
    "print(x, \"\\n\", z, \"\\n\", q4)\n",
    "print(\"SPEARMAN: \", _corrs, _values)\n",
    "print(\"PEARSON: \", _corrs, _value)"
   ]
  },
  {
   "cell_type": "code",
   "execution_count": 6,
   "metadata": {},
   "outputs": [
    {
     "name": "stdout",
     "output_type": "stream",
     "text": [
      "KL(P,Q) =  0.752216420114366\n",
      "KL(Q,P) =  0.5540494496575182\n",
      "KL(P,P) =  0.0\n",
      "KL(Q,Q) =  0.0\n"
     ]
    }
   ],
   "source": [
    "#q5\n",
    "P = [0.15,0.25,0.6]\n",
    "Q = [0.3, 0.6, 0.1]\n",
    "\n",
    "print('KL(P,Q) = ', scipy_stat.entropy(P,Q, base = np.exp(1)))\n",
    "print('KL(Q,P) = ', scipy_stat.entropy(Q,P, base = np.exp(1)))\n",
    "\n",
    "print('KL(P,P) = ', scipy_stat.entropy(P,P, base = np.exp(1)))\n",
    "print('KL(Q,Q) = ', scipy_stat.entropy(Q,Q, base = np.exp(1)))"
   ]
  },
  {
   "cell_type": "code",
   "execution_count": null,
   "metadata": {},
   "outputs": [],
   "source": []
  },
  {
   "cell_type": "code",
   "execution_count": null,
   "metadata": {},
   "outputs": [],
   "source": []
  },
  {
   "cell_type": "code",
   "execution_count": null,
   "metadata": {},
   "outputs": [],
   "source": []
  }
 ],
 "metadata": {
  "kernelspec": {
   "display_name": "Python 3",
   "language": "python",
   "name": "python3"
  },
  "language_info": {
   "codemirror_mode": {
    "name": "ipython",
    "version": 3
   },
   "file_extension": ".py",
   "mimetype": "text/x-python",
   "name": "python",
   "nbconvert_exporter": "python",
   "pygments_lexer": "ipython3",
   "version": "3.7.4"
  }
 },
 "nbformat": 4,
 "nbformat_minor": 2
}
