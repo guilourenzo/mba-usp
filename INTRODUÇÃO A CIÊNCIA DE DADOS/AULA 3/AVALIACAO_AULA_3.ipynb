{
 "cells": [
  {
   "cell_type": "code",
   "execution_count": 1,
   "metadata": {
    "colab": {},
    "colab_type": "code",
    "id": "qCg1wuId-AMF"
   },
   "outputs": [],
   "source": [
    "# importando bibliotecas que serão utilizadas\n",
    "# é uma boa pratica de programação importa-las \n",
    "# no inicio e não no meio do código\n",
    "\n",
    "import random # gerador de números aleatórios\n",
    "import numpy as np # biblioteca Numpy para manipulação de Matrizes\n",
    "import pandas as pd # biblioteca Pandas é usada para manipulação de Tabelas\n",
    "import matplotlib.pyplot as plt # biblioteca para visualização dos dados\n",
    "\n",
    "from sklearn.preprocessing import StandardScaler # modulo para padronizar os dados\n",
    "from sklearn.preprocessing import MinMaxScaler # modulo para normalizar os dados\n",
    "from sklearn.decomposition import PCA # modulo para aplicar PCA nos dados\n",
    "\n",
    "random.seed(1) # inicia a semente do gerador de números aleatórios. Importante para reprodução dos resultados"
   ]
  },
  {
   "cell_type": "markdown",
   "metadata": {
    "colab_type": "text",
    "id": "nt0v1ccM-AMR"
   },
   "source": [
    "## 1)\n",
    "\n",
    ">Para os dados da iris com erros, após remover as linhas contendo NaN e '?', quantas observações sobraram?"
   ]
  },
  {
   "cell_type": "code",
   "execution_count": 2,
   "metadata": {
    "colab": {},
    "colab_type": "code",
    "id": "Gd8_PsUU-AMT"
   },
   "outputs": [],
   "source": [
    "# CSV file\n",
    "data = pd.read_csv('data/iris.csv') # leitura do arquivo csv"
   ]
  },
  {
   "cell_type": "code",
   "execution_count": 3,
   "metadata": {
    "colab": {
     "base_uri": "https://localhost:8080/",
     "height": 195
    },
    "colab_type": "code",
    "executionInfo": {
     "elapsed": 652,
     "status": "ok",
     "timestamp": 1581741331008,
     "user": {
      "displayName": "Matheus Marzola Gomes",
      "photoUrl": "",
      "userId": "02871632334414994318"
     },
     "user_tz": 180
    },
    "id": "sekR7y7B-AMc",
    "outputId": "be54e833-2a16-49b7-d3e4-5181a78e701c"
   },
   "outputs": [
    {
     "data": {
      "text/plain": [
       "(150, 5)"
      ]
     },
     "execution_count": 3,
     "metadata": {},
     "output_type": "execute_result"
    }
   ],
   "source": [
    "data.shape"
   ]
  },
  {
   "cell_type": "code",
   "execution_count": 4,
   "metadata": {},
   "outputs": [],
   "source": [
    "# remover valores nulos\n",
    "data = data.replace('?', np.nan) # substitui '?' por valores nulos\n",
    "data = data.dropna() # remove os valores nulos"
   ]
  },
  {
   "cell_type": "code",
   "execution_count": 5,
   "metadata": {},
   "outputs": [
    {
     "data": {
      "text/plain": [
       "(150, 5)"
      ]
     },
     "execution_count": 5,
     "metadata": {},
     "output_type": "execute_result"
    }
   ],
   "source": [
    "data.shape"
   ]
  },
  {
   "cell_type": "markdown",
   "metadata": {
    "colab_type": "text",
    "id": "iPGpf90w-AM0"
   },
   "source": [
    "## 2)\n",
    "\n",
    "> Usando a distância interquantil e o critério de que uma observação é um outlier se ao menos uma das variáveis está fora dos limites máximos do boxplot, quantos outliers há nos dados da Iris? (Veja o exemplo da aula)"
   ]
  },
  {
   "cell_type": "code",
   "execution_count": 6,
   "metadata": {},
   "outputs": [],
   "source": [
    "# Para encontrar outliers podemos utilizar a diferença interquartil como demonstrado em aula\n",
    "# Como precisamos encontrar os outliers para os dois conjuntos de dados,\n",
    "# podemos criar uma função para reutilizar em ambos\n",
    "\n",
    "def detecta_outliers(df):\n",
    "    q1 = df.quantile(0.25)\n",
    "    q3 = df.quantile(0.75)\n",
    "    iqr = q3 - q1\n",
    "    matches = ((df < (q1 - 1.5 * iqr)) | (df > (q3 + 1.5 * iqr)))\n",
    "    return df[matches.any(1)]\n",
    "\n",
    "def firstQuartil(df):\n",
    "    q1 = df.quantile(0.25)\n",
    "    q3 = df.quantile(0.75)\n",
    "    iqr = q3 - q1\n",
    "    \n",
    "    return q1, q3, iqr\n",
    "    "
   ]
  },
  {
   "cell_type": "code",
   "execution_count": 7,
   "metadata": {},
   "outputs": [
    {
     "data": {
      "text/html": [
       "<div>\n",
       "<style scoped>\n",
       "    .dataframe tbody tr th:only-of-type {\n",
       "        vertical-align: middle;\n",
       "    }\n",
       "\n",
       "    .dataframe tbody tr th {\n",
       "        vertical-align: top;\n",
       "    }\n",
       "\n",
       "    .dataframe thead th {\n",
       "        text-align: right;\n",
       "    }\n",
       "</style>\n",
       "<table border=\"1\" class=\"dataframe\">\n",
       "  <thead>\n",
       "    <tr style=\"text-align: right;\">\n",
       "      <th></th>\n",
       "      <th>sepal_length</th>\n",
       "      <th>sepal_width</th>\n",
       "      <th>petal_length</th>\n",
       "      <th>petal_width</th>\n",
       "    </tr>\n",
       "  </thead>\n",
       "  <tbody>\n",
       "    <tr>\n",
       "      <th>15</th>\n",
       "      <td>5.7</td>\n",
       "      <td>4.4</td>\n",
       "      <td>1.5</td>\n",
       "      <td>0.4</td>\n",
       "    </tr>\n",
       "    <tr>\n",
       "      <th>32</th>\n",
       "      <td>5.2</td>\n",
       "      <td>4.1</td>\n",
       "      <td>1.5</td>\n",
       "      <td>0.1</td>\n",
       "    </tr>\n",
       "    <tr>\n",
       "      <th>33</th>\n",
       "      <td>5.5</td>\n",
       "      <td>4.2</td>\n",
       "      <td>1.4</td>\n",
       "      <td>0.2</td>\n",
       "    </tr>\n",
       "    <tr>\n",
       "      <th>60</th>\n",
       "      <td>5.0</td>\n",
       "      <td>2.0</td>\n",
       "      <td>3.5</td>\n",
       "      <td>1.0</td>\n",
       "    </tr>\n",
       "  </tbody>\n",
       "</table>\n",
       "</div>"
      ],
      "text/plain": [
       "    sepal_length  sepal_width  petal_length  petal_width\n",
       "15           5.7          4.4           1.5          0.4\n",
       "32           5.2          4.1           1.5          0.1\n",
       "33           5.5          4.2           1.4          0.2\n",
       "60           5.0          2.0           3.5          1.0"
      ]
     },
     "execution_count": 7,
     "metadata": {},
     "output_type": "execute_result"
    }
   ],
   "source": [
    "# leitura do arquivo csv\n",
    "iris = pd.read_csv('data/iris.csv')\n",
    "\n",
    "# elimina a variavel target para o processo de deteção de outliers\n",
    "iris = iris.drop(columns='species')\n",
    "\n",
    "detecta_outliers(iris)\n"
   ]
  },
  {
   "cell_type": "code",
   "execution_count": 8,
   "metadata": {},
   "outputs": [
    {
     "data": {
      "text/plain": [
       "(sepal_length    5.1\n",
       " sepal_width     2.8\n",
       " petal_length    1.6\n",
       " petal_width     0.3\n",
       " Name: 0.25, dtype: float64, sepal_length    6.4\n",
       " sepal_width     3.3\n",
       " petal_length    5.1\n",
       " petal_width     1.8\n",
       " Name: 0.75, dtype: float64, sepal_length    1.3\n",
       " sepal_width     0.5\n",
       " petal_length    3.5\n",
       " petal_width     1.5\n",
       " dtype: float64)"
      ]
     },
     "execution_count": 8,
     "metadata": {},
     "output_type": "execute_result"
    }
   ],
   "source": [
    "firstQuartil(iris)"
   ]
  },
  {
   "cell_type": "code",
   "execution_count": 9,
   "metadata": {
    "colab": {
     "base_uri": "https://localhost:8080/",
     "height": 291
    },
    "colab_type": "code",
    "executionInfo": {
     "elapsed": 664,
     "status": "ok",
     "timestamp": 1581741395564,
     "user": {
      "displayName": "Matheus Marzola Gomes",
      "photoUrl": "",
      "userId": "02871632334414994318"
     },
     "user_tz": 180
    },
    "id": "TaYXDO56-AOd",
    "outputId": "ca7d01d3-a9c2-4907-c0b5-af42a2ac7669"
   },
   "outputs": [
    {
     "data": {
      "image/png": "[encoded data removed]",
      "text/plain": [
       "<Figure size 576x288 with 1 Axes>"
      ]
     },
     "metadata": {
      "needs_background": "light"
     },
     "output_type": "display_data"
    }
   ],
   "source": [
    "data = iris.replace('?', np.nan) # substitui '?' por valores nulos\n",
    "data = data.apply(pd.to_numeric)\n",
    "data = data.fillna(data.median())\n",
    "\n",
    "plt.figure(figsize=(8, 4))\n",
    "plt.boxplot(data.values)\n",
    "plt.xticks(np.arange(1, len(data.columns) + 1), data.columns)\n",
    "plt.xlabel('Variáveis', fontsize=16)\n",
    "plt.ylabel('Valores', fontsize=16)\n",
    "plt.xticks(fontsize=14)\n",
    "plt.yticks(fontsize=14)\n",
    "plt.show(True)"
   ]
  },
  {
   "cell_type": "markdown",
   "metadata": {
    "colab_type": "text",
    "id": "RQuPrE-z-AOi"
   },
   "source": [
    "## 3)\n",
    "\n",
    "> Usando a distância interquantil e o critério de que uma observação é um outlier se ao menos uma das variáveis está fora dos limites máximos do boxplot, quantos outliers há nos dados BostonHouse?"
   ]
  },
  {
   "cell_type": "code",
   "execution_count": 10,
   "metadata": {
    "colab": {
     "base_uri": "https://localhost:8080/",
     "height": 402
    },
    "colab_type": "code",
    "executionInfo": {
     "elapsed": 591,
     "status": "ok",
     "timestamp": 1581741419442,
     "user": {
      "displayName": "Matheus Marzola Gomes",
      "photoUrl": "",
      "userId": "02871632334414994318"
     },
     "user_tz": 180
    },
    "id": "qcAcnMM7-AO1",
    "outputId": "a7631cc7-f739-4296-d63c-254750b94152"
   },
   "outputs": [
    {
     "data": {
      "text/html": [
       "<div>\n",
       "<style scoped>\n",
       "    .dataframe tbody tr th:only-of-type {\n",
       "        vertical-align: middle;\n",
       "    }\n",
       "\n",
       "    .dataframe tbody tr th {\n",
       "        vertical-align: top;\n",
       "    }\n",
       "\n",
       "    .dataframe thead th {\n",
       "        text-align: right;\n",
       "    }\n",
       "</style>\n",
       "<table border=\"1\" class=\"dataframe\">\n",
       "  <thead>\n",
       "    <tr style=\"text-align: right;\">\n",
       "      <th></th>\n",
       "      <th>crim</th>\n",
       "      <th>zn</th>\n",
       "      <th>indus</th>\n",
       "      <th>chas</th>\n",
       "      <th>nox</th>\n",
       "      <th>rm</th>\n",
       "      <th>age</th>\n",
       "      <th>dis</th>\n",
       "      <th>rad</th>\n",
       "      <th>tax</th>\n",
       "      <th>ptratio</th>\n",
       "      <th>b</th>\n",
       "      <th>lstat</th>\n",
       "      <th>medv</th>\n",
       "    </tr>\n",
       "  </thead>\n",
       "  <tbody>\n",
       "    <tr>\n",
       "      <th>18</th>\n",
       "      <td>0.80271</td>\n",
       "      <td>0.0</td>\n",
       "      <td>8.14</td>\n",
       "      <td>0</td>\n",
       "      <td>0.538</td>\n",
       "      <td>5.456</td>\n",
       "      <td>36.6</td>\n",
       "      <td>3.7965</td>\n",
       "      <td>4</td>\n",
       "      <td>307</td>\n",
       "      <td>21.0</td>\n",
       "      <td>288.99</td>\n",
       "      <td>11.69</td>\n",
       "      <td>20.2</td>\n",
       "    </tr>\n",
       "    <tr>\n",
       "      <th>25</th>\n",
       "      <td>0.84054</td>\n",
       "      <td>0.0</td>\n",
       "      <td>8.14</td>\n",
       "      <td>0</td>\n",
       "      <td>0.538</td>\n",
       "      <td>5.599</td>\n",
       "      <td>85.7</td>\n",
       "      <td>4.4546</td>\n",
       "      <td>4</td>\n",
       "      <td>307</td>\n",
       "      <td>21.0</td>\n",
       "      <td>303.42</td>\n",
       "      <td>16.51</td>\n",
       "      <td>13.9</td>\n",
       "    </tr>\n",
       "    <tr>\n",
       "      <th>27</th>\n",
       "      <td>0.95577</td>\n",
       "      <td>0.0</td>\n",
       "      <td>8.14</td>\n",
       "      <td>0</td>\n",
       "      <td>0.538</td>\n",
       "      <td>6.047</td>\n",
       "      <td>88.8</td>\n",
       "      <td>4.4534</td>\n",
       "      <td>4</td>\n",
       "      <td>307</td>\n",
       "      <td>21.0</td>\n",
       "      <td>306.38</td>\n",
       "      <td>17.28</td>\n",
       "      <td>14.8</td>\n",
       "    </tr>\n",
       "    <tr>\n",
       "      <th>32</th>\n",
       "      <td>1.38799</td>\n",
       "      <td>0.0</td>\n",
       "      <td>8.14</td>\n",
       "      <td>0</td>\n",
       "      <td>0.538</td>\n",
       "      <td>5.950</td>\n",
       "      <td>82.0</td>\n",
       "      <td>3.9900</td>\n",
       "      <td>4</td>\n",
       "      <td>307</td>\n",
       "      <td>21.0</td>\n",
       "      <td>232.60</td>\n",
       "      <td>27.71</td>\n",
       "      <td>13.2</td>\n",
       "    </tr>\n",
       "    <tr>\n",
       "      <th>34</th>\n",
       "      <td>1.61282</td>\n",
       "      <td>0.0</td>\n",
       "      <td>8.14</td>\n",
       "      <td>0</td>\n",
       "      <td>0.538</td>\n",
       "      <td>6.096</td>\n",
       "      <td>96.9</td>\n",
       "      <td>3.7598</td>\n",
       "      <td>4</td>\n",
       "      <td>307</td>\n",
       "      <td>21.0</td>\n",
       "      <td>248.31</td>\n",
       "      <td>20.34</td>\n",
       "      <td>13.5</td>\n",
       "    </tr>\n",
       "    <tr>\n",
       "      <th>...</th>\n",
       "      <td>...</td>\n",
       "      <td>...</td>\n",
       "      <td>...</td>\n",
       "      <td>...</td>\n",
       "      <td>...</td>\n",
       "      <td>...</td>\n",
       "      <td>...</td>\n",
       "      <td>...</td>\n",
       "      <td>...</td>\n",
       "      <td>...</td>\n",
       "      <td>...</td>\n",
       "      <td>...</td>\n",
       "      <td>...</td>\n",
       "      <td>...</td>\n",
       "    </tr>\n",
       "    <tr>\n",
       "      <th>477</th>\n",
       "      <td>15.02340</td>\n",
       "      <td>0.0</td>\n",
       "      <td>18.10</td>\n",
       "      <td>0</td>\n",
       "      <td>0.614</td>\n",
       "      <td>5.304</td>\n",
       "      <td>97.3</td>\n",
       "      <td>2.1007</td>\n",
       "      <td>24</td>\n",
       "      <td>666</td>\n",
       "      <td>20.2</td>\n",
       "      <td>349.48</td>\n",
       "      <td>24.91</td>\n",
       "      <td>12.0</td>\n",
       "    </tr>\n",
       "    <tr>\n",
       "      <th>478</th>\n",
       "      <td>10.23300</td>\n",
       "      <td>0.0</td>\n",
       "      <td>18.10</td>\n",
       "      <td>0</td>\n",
       "      <td>0.614</td>\n",
       "      <td>6.185</td>\n",
       "      <td>96.7</td>\n",
       "      <td>2.1705</td>\n",
       "      <td>24</td>\n",
       "      <td>666</td>\n",
       "      <td>20.2</td>\n",
       "      <td>379.70</td>\n",
       "      <td>18.03</td>\n",
       "      <td>14.6</td>\n",
       "    </tr>\n",
       "    <tr>\n",
       "      <th>479</th>\n",
       "      <td>14.33370</td>\n",
       "      <td>0.0</td>\n",
       "      <td>18.10</td>\n",
       "      <td>0</td>\n",
       "      <td>0.614</td>\n",
       "      <td>6.229</td>\n",
       "      <td>88.0</td>\n",
       "      <td>1.9512</td>\n",
       "      <td>24</td>\n",
       "      <td>666</td>\n",
       "      <td>20.2</td>\n",
       "      <td>383.32</td>\n",
       "      <td>13.11</td>\n",
       "      <td>21.4</td>\n",
       "    </tr>\n",
       "    <tr>\n",
       "      <th>489</th>\n",
       "      <td>0.18337</td>\n",
       "      <td>0.0</td>\n",
       "      <td>27.74</td>\n",
       "      <td>0</td>\n",
       "      <td>0.609</td>\n",
       "      <td>5.414</td>\n",
       "      <td>98.3</td>\n",
       "      <td>1.7554</td>\n",
       "      <td>4</td>\n",
       "      <td>711</td>\n",
       "      <td>20.1</td>\n",
       "      <td>344.05</td>\n",
       "      <td>23.97</td>\n",
       "      <td>7.0</td>\n",
       "    </tr>\n",
       "    <tr>\n",
       "      <th>490</th>\n",
       "      <td>0.20746</td>\n",
       "      <td>0.0</td>\n",
       "      <td>27.74</td>\n",
       "      <td>0</td>\n",
       "      <td>0.609</td>\n",
       "      <td>5.093</td>\n",
       "      <td>98.0</td>\n",
       "      <td>1.8226</td>\n",
       "      <td>4</td>\n",
       "      <td>711</td>\n",
       "      <td>20.1</td>\n",
       "      <td>318.43</td>\n",
       "      <td>29.68</td>\n",
       "      <td>8.1</td>\n",
       "    </tr>\n",
       "  </tbody>\n",
       "</table>\n",
       "<p>238 rows × 14 columns</p>\n",
       "</div>"
      ],
      "text/plain": [
       "         crim   zn  indus  chas    nox     rm   age     dis  rad  tax  \\\n",
       "18    0.80271  0.0   8.14     0  0.538  5.456  36.6  3.7965    4  307   \n",
       "25    0.84054  0.0   8.14     0  0.538  5.599  85.7  4.4546    4  307   \n",
       "27    0.95577  0.0   8.14     0  0.538  6.047  88.8  4.4534    4  307   \n",
       "32    1.38799  0.0   8.14     0  0.538  5.950  82.0  3.9900    4  307   \n",
       "34    1.61282  0.0   8.14     0  0.538  6.096  96.9  3.7598    4  307   \n",
       "..        ...  ...    ...   ...    ...    ...   ...     ...  ...  ...   \n",
       "477  15.02340  0.0  18.10     0  0.614  5.304  97.3  2.1007   24  666   \n",
       "478  10.23300  0.0  18.10     0  0.614  6.185  96.7  2.1705   24  666   \n",
       "479  14.33370  0.0  18.10     0  0.614  6.229  88.0  1.9512   24  666   \n",
       "489   0.18337  0.0  27.74     0  0.609  5.414  98.3  1.7554    4  711   \n",
       "490   0.20746  0.0  27.74     0  0.609  5.093  98.0  1.8226    4  711   \n",
       "\n",
       "     ptratio       b  lstat  medv  \n",
       "18      21.0  288.99  11.69  20.2  \n",
       "25      21.0  303.42  16.51  13.9  \n",
       "27      21.0  306.38  17.28  14.8  \n",
       "32      21.0  232.60  27.71  13.2  \n",
       "34      21.0  248.31  20.34  13.5  \n",
       "..       ...     ...    ...   ...  \n",
       "477     20.2  349.48  24.91  12.0  \n",
       "478     20.2  379.70  18.03  14.6  \n",
       "479     20.2  383.32  13.11  21.4  \n",
       "489     20.1  344.05  23.97   7.0  \n",
       "490     20.1  318.43  29.68   8.1  \n",
       "\n",
       "[238 rows x 14 columns]"
      ]
     },
     "execution_count": 10,
     "metadata": {},
     "output_type": "execute_result"
    }
   ],
   "source": [
    "# leitura do arquivo csv\n",
    "boston = pd.read_csv('data/BostonHousing.csv')\n",
    "\n",
    "# variavel nox e medv podem ser usadas em tarefas preditivas,\n",
    "# porem como não sabemos qual delas será o target,\n",
    "# utilizamos todo o conjunto de dados, caso contrário as variaveis\n",
    "# deveriam ser descartadas para a analise de outliers\n",
    "# https://www.cs.toronto.edu/~delve/data/boston/bostonDetail.html\n",
    "\n",
    "detecta_outliers(boston)"
   ]
  },
  {
   "cell_type": "code",
   "execution_count": 17,
   "metadata": {},
   "outputs": [
    {
     "data": {
      "image/png": "[encoded data removed]",
      "text/plain": [
       "<Figure size 1080x576 with 1 Axes>"
      ]
     },
     "metadata": {
      "needs_background": "light"
     },
     "output_type": "display_data"
    }
   ],
   "source": [
    "data = boston.replace('?', np.nan) # substitui '?' por valores nulos\n",
    "data = data.apply(pd.to_numeric)\n",
    "data = data.fillna(data.median())\n",
    "\n",
    "plt.figure(figsize=(15, 8))\n",
    "plt.boxplot(data.values)\n",
    "plt.xticks(np.arange(1, len(data.columns) + 1), data.columns)\n",
    "plt.xlabel('Variáveis', fontsize=16)\n",
    "plt.ylabel('Valores', fontsize=16)\n",
    "plt.xticks(fontsize=14)\n",
    "plt.yticks(fontsize=14)\n",
    "plt.show(True)"
   ]
  },
  {
   "cell_type": "markdown",
   "metadata": {
    "colab_type": "text",
    "id": "WtoS3JrF-AO5"
   },
   "source": [
    "## 5)\n",
    "\n",
    "> Quantas variáveis são necessárias para se explicar ao menos 90% da variância nos dados Vehicle?"
   ]
  },
  {
   "cell_type": "code",
   "execution_count": 12,
   "metadata": {
    "colab": {},
    "colab_type": "code",
    "id": "v0XYyVNNp8av"
   },
   "outputs": [
    {
     "data": {
      "image/png": "[encoded data removed]",
      "text/plain": [
       "<Figure size 576x360 with 1 Axes>"
      ]
     },
     "metadata": {
      "needs_background": "light"
     },
     "output_type": "display_data"
    }
   ],
   "source": [
    "vhc = pd.read_csv('data/Vehicle.csv')\n",
    "\n",
    "vhc = vhc.drop(columns='Class')\n",
    "\n",
    "# Como temos 14 variaveis, podemos reduzir a dimensionalidade para qualquer valor abaixo disso\n",
    "# Portanto, criamos uma lista com todas possibilidades para analizarmos qual é o minimo\n",
    "# dimensoes que podemos reduzir ainda sendo possivel explicar sua variancia\n",
    "n_components_values = np.arange(1, len(vhc.columns) + 1)\n",
    "\n",
    "# Vamos padronizar os dados, de modo a evitar o efeito da escala dos atributos.\n",
    "scaler = StandardScaler().fit(vhc)\n",
    "vhc_transformed = scaler.transform(vhc)\n",
    "\n",
    "# instanciamos o PCA sem especificar o numero de componentes que desejamos\n",
    "# em seguida ajustamos ao nosso conjunto de dados\n",
    "pca = PCA().fit(vhc_transformed)\n",
    "\n",
    "# mostra a variância acumulada para todos os possiveis numeros de componentes\n",
    "# Notamos que com apenas duas variaveis conseguimos explicar 95% da variancia dos dados\n",
    "plt.figure(figsize=(8, 5))\n",
    "plt.plot(n_components_values, np.cumsum(pca.explained_variance_ratio_), 'ro-')\n",
    "plt.xlabel('number of components', fontsize=20)\n",
    "plt.ylabel('cumulative explained variance', fontsize=20);\n",
    "plt.xticks(color='k', size=16)\n",
    "plt.yticks(color='k', size=16)\n",
    "plt.grid(True)\n",
    "plt.show(True)"
   ]
  },
  {
   "cell_type": "markdown",
   "metadata": {},
   "source": [
    "## 4)\n",
    "\n",
    "> Quantas variáveis são necessárias para se explicar ao menos 80% da variância nos dados BostonHousing?"
   ]
  },
  {
   "cell_type": "code",
   "execution_count": 13,
   "metadata": {
    "colab": {
     "base_uri": "https://localhost:8080/",
     "height": 366
    },
    "colab_type": "code",
    "executionInfo": {
     "elapsed": 824,
     "status": "ok",
     "timestamp": 1581741422036,
     "user": {
      "displayName": "Matheus Marzola Gomes",
      "photoUrl": "",
      "userId": "02871632334414994318"
     },
     "user_tz": 180
    },
    "id": "TtqV5rOB-AO6",
    "outputId": "322e8597-c944-408d-dbaf-14b3985d97da"
   },
   "outputs": [
    {
     "data": {
      "image/png": "[encoded data removed]",
      "text/plain": [
       "<Figure size 576x360 with 1 Axes>"
      ]
     },
     "metadata": {
      "needs_background": "light"
     },
     "output_type": "display_data"
    }
   ],
   "source": [
    "boston = pd.read_csv('data/BostonHousing.csv')\n",
    "\n",
    "# Como temos 14 variaveis, podemos reduzir a dimensionalidade para qualquer valor abaixo disso\n",
    "# Portanto, criamos uma lista com todas possibilidades para analizarmos qual é o minimo\n",
    "# dimensoes que podemos reduzir ainda sendo possivel explicar sua variancia\n",
    "n_components_values = np.arange(1, len(boston.columns) + 1)\n",
    "\n",
    "# Vamos padronizar os dados, de modo a evitar o efeito da escala dos atributos.\n",
    "scaler = StandardScaler().fit(boston)\n",
    "boston_transformed = scaler.transform(boston)\n",
    "\n",
    "# instanciamos o PCA sem especificar o numero de componentes que desejamos\n",
    "# em seguida ajustamos ao nosso conjunto de dados\n",
    "pca = PCA().fit(boston_transformed)\n",
    "\n",
    "plt.figure(figsize=(8, 5))\n",
    "plt.plot(n_components_values, np.cumsum(pca.explained_variance_ratio_), 'ro-')\n",
    "plt.xlabel('number of components', fontsize=20)\n",
    "plt.ylabel('cumulative explained variance', fontsize=20);\n",
    "plt.xticks(color='k', size=16)\n",
    "plt.yticks(color='k', size=16)\n",
    "plt.grid(True)\n",
    "plt.show(True)"
   ]
  }
 ],
 "metadata": {
  "colab": {
   "collapsed_sections": [],
   "name": "Exercicios de fixacao.ipynb",
   "provenance": []
  },
  "kernelspec": {
   "display_name": "Python 3",
   "language": "python",
   "name": "python3"
  },
  "language_info": {
   "codemirror_mode": {
    "name": "ipython",
    "version": 3
   },
   "file_extension": ".py",
   "mimetype": "text/x-python",
   "name": "python",
   "nbconvert_exporter": "python",
   "pygments_lexer": "ipython3",
   "version": "3.7.4"
  }
 },
 "nbformat": 4,
 "nbformat_minor": 1
}
