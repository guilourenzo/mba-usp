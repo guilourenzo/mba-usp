{
 "cells": [
  {
   "cell_type": "code",
   "execution_count": 1,
   "metadata": {
    "colab": {},
    "colab_type": "code",
    "id": "qCg1wuId-AMF"
   },
   "outputs": [],
   "source": [
    "# importando bibliotecas que serão utilizadas\n",
    "# é uma boa pratica de programação importa-las \n",
    "# no inicio e não no meio do código\n",
    "\n",
    "import random # gerador de números aleatórios\n",
    "import numpy as np # biblioteca Numpy para manipulação de Matrizes\n",
    "import pandas as pd # biblioteca Pandas é usada para manipulação de Tabelas\n",
    "import matplotlib.pyplot as plt # biblioteca para visualização dos dados\n",
    "\n",
    "from sklearn.preprocessing import StandardScaler # modulo para padronizar os dados\n",
    "from sklearn.preprocessing import MinMaxScaler # modulo para normalizar os dados\n",
    "from sklearn.decomposition import PCA # modulo para aplicar PCA nos dados\n",
    "\n",
    "random.seed(1) # inicia a semente do gerador de números aleatórios. Importante para reprodução dos resultados"
   ]
  },
  {
   "cell_type": "markdown",
   "metadata": {
    "colab_type": "text",
    "id": "nt0v1ccM-AMR"
   },
   "source": [
    "## 1)\n",
    "\n",
    "> Leia os dados com erro novamente, faça a limpeza e remova as duas últimas colunas."
   ]
  },
  {
   "cell_type": "code",
   "execution_count": 2,
   "metadata": {
    "colab": {},
    "colab_type": "code",
    "id": "Gd8_PsUU-AMT"
   },
   "outputs": [],
   "source": [
    "# CSV file\n",
    "data = pd.read_csv('data/iris-with-errors.csv') # leitura do arquivo csv"
   ]
  },
  {
   "cell_type": "code",
   "execution_count": 3,
   "metadata": {
    "colab": {
     "base_uri": "https://localhost:8080/",
     "height": 195
    },
    "colab_type": "code",
    "executionInfo": {
     "elapsed": 652,
     "status": "ok",
     "timestamp": 1581741331008,
     "user": {
      "displayName": "Matheus Marzola Gomes",
      "photoUrl": "",
      "userId": "02871632334414994318"
     },
     "user_tz": 180
    },
    "id": "sekR7y7B-AMc",
    "outputId": "be54e833-2a16-49b7-d3e4-5181a78e701c"
   },
   "outputs": [
    {
     "data": {
      "text/html": [
       "<div>\n",
       "<style scoped>\n",
       "    .dataframe tbody tr th:only-of-type {\n",
       "        vertical-align: middle;\n",
       "    }\n",
       "\n",
       "    .dataframe tbody tr th {\n",
       "        vertical-align: top;\n",
       "    }\n",
       "\n",
       "    .dataframe thead th {\n",
       "        text-align: right;\n",
       "    }\n",
       "</style>\n",
       "<table border=\"1\" class=\"dataframe\">\n",
       "  <thead>\n",
       "    <tr style=\"text-align: right;\">\n",
       "      <th></th>\n",
       "      <th>sepal_length</th>\n",
       "      <th>sepal_width</th>\n",
       "      <th>petal_length</th>\n",
       "      <th>petal_width</th>\n",
       "      <th>species</th>\n",
       "    </tr>\n",
       "  </thead>\n",
       "  <tbody>\n",
       "    <tr>\n",
       "      <th>0</th>\n",
       "      <td>5.1</td>\n",
       "      <td>3.5</td>\n",
       "      <td>1.4</td>\n",
       "      <td>0.2</td>\n",
       "      <td>duplicada</td>\n",
       "    </tr>\n",
       "    <tr>\n",
       "      <th>1</th>\n",
       "      <td>5.1</td>\n",
       "      <td>3.5</td>\n",
       "      <td>1.4</td>\n",
       "      <td>0.2</td>\n",
       "      <td>duplicada</td>\n",
       "    </tr>\n",
       "    <tr>\n",
       "      <th>2</th>\n",
       "      <td>?</td>\n",
       "      <td>3</td>\n",
       "      <td>1.4</td>\n",
       "      <td>0.2</td>\n",
       "      <td>setosa</td>\n",
       "    </tr>\n",
       "    <tr>\n",
       "      <th>3</th>\n",
       "      <td>4.7</td>\n",
       "      <td>3.2</td>\n",
       "      <td>1.3</td>\n",
       "      <td>0.2</td>\n",
       "      <td>setosa</td>\n",
       "    </tr>\n",
       "    <tr>\n",
       "      <th>4</th>\n",
       "      <td>5.1</td>\n",
       "      <td>3.5</td>\n",
       "      <td>1.4</td>\n",
       "      <td>0.2</td>\n",
       "      <td>duplicada</td>\n",
       "    </tr>\n",
       "  </tbody>\n",
       "</table>\n",
       "</div>"
      ],
      "text/plain": [
       "  sepal_length sepal_width  petal_length petal_width    species\n",
       "0          5.1         3.5           1.4         0.2  duplicada\n",
       "1          5.1         3.5           1.4         0.2  duplicada\n",
       "2            ?           3           1.4         0.2     setosa\n",
       "3          4.7         3.2           1.3         0.2     setosa\n",
       "4          5.1         3.5           1.4         0.2  duplicada"
      ]
     },
     "execution_count": 3,
     "metadata": {},
     "output_type": "execute_result"
    }
   ],
   "source": [
    "data.head()"
   ]
  },
  {
   "cell_type": "code",
   "execution_count": 4,
   "metadata": {
    "colab": {},
    "colab_type": "code",
    "id": "0WLyYswW-AMl",
    "scrolled": true
   },
   "outputs": [],
   "source": [
    "# remover valores nulos\n",
    "data = data.replace('?', np.nan) # substitui '?' por valores nulos\n",
    "data = data.dropna() # remove os valores nulos\n",
    "\n",
    "# Remove as linhas duplicadas\n",
    "data = data.drop_duplicates()\n",
    "\n",
    "# Remove as duas últimas colunas\n",
    "data = data.drop(data.columns[-2:], axis=1)"
   ]
  },
  {
   "cell_type": "code",
   "execution_count": 5,
   "metadata": {
    "colab": {
     "base_uri": "https://localhost:8080/",
     "height": 195
    },
    "colab_type": "code",
    "executionInfo": {
     "elapsed": 541,
     "status": "ok",
     "timestamp": 1581741331934,
     "user": {
      "displayName": "Matheus Marzola Gomes",
      "photoUrl": "",
      "userId": "02871632334414994318"
     },
     "user_tz": 180
    },
    "id": "KnBgt1DH-AMt",
    "outputId": "02846eb5-80b1-40a5-df44-9c3b639b95c1"
   },
   "outputs": [
    {
     "data": {
      "text/html": [
       "<div>\n",
       "<style scoped>\n",
       "    .dataframe tbody tr th:only-of-type {\n",
       "        vertical-align: middle;\n",
       "    }\n",
       "\n",
       "    .dataframe tbody tr th {\n",
       "        vertical-align: top;\n",
       "    }\n",
       "\n",
       "    .dataframe thead th {\n",
       "        text-align: right;\n",
       "    }\n",
       "</style>\n",
       "<table border=\"1\" class=\"dataframe\">\n",
       "  <thead>\n",
       "    <tr style=\"text-align: right;\">\n",
       "      <th></th>\n",
       "      <th>sepal_length</th>\n",
       "      <th>sepal_width</th>\n",
       "      <th>petal_length</th>\n",
       "    </tr>\n",
       "  </thead>\n",
       "  <tbody>\n",
       "    <tr>\n",
       "      <th>0</th>\n",
       "      <td>5.1</td>\n",
       "      <td>3.5</td>\n",
       "      <td>1.4</td>\n",
       "    </tr>\n",
       "    <tr>\n",
       "      <th>3</th>\n",
       "      <td>4.7</td>\n",
       "      <td>3.2</td>\n",
       "      <td>1.3</td>\n",
       "    </tr>\n",
       "    <tr>\n",
       "      <th>6</th>\n",
       "      <td>5</td>\n",
       "      <td>3.6</td>\n",
       "      <td>1.4</td>\n",
       "    </tr>\n",
       "    <tr>\n",
       "      <th>7</th>\n",
       "      <td>5.4</td>\n",
       "      <td>3.9</td>\n",
       "      <td>1.7</td>\n",
       "    </tr>\n",
       "    <tr>\n",
       "      <th>10</th>\n",
       "      <td>5</td>\n",
       "      <td>3.4</td>\n",
       "      <td>1.5</td>\n",
       "    </tr>\n",
       "  </tbody>\n",
       "</table>\n",
       "</div>"
      ],
      "text/plain": [
       "   sepal_length sepal_width  petal_length\n",
       "0           5.1         3.5           1.4\n",
       "3           4.7         3.2           1.3\n",
       "6             5         3.6           1.4\n",
       "7           5.4         3.9           1.7\n",
       "10            5         3.4           1.5"
      ]
     },
     "execution_count": 5,
     "metadata": {},
     "output_type": "execute_result"
    }
   ],
   "source": [
    "data.head() # mostra os primeiros cinco elementos"
   ]
  },
  {
   "cell_type": "markdown",
   "metadata": {
    "colab_type": "text",
    "id": "iPGpf90w-AM0"
   },
   "source": [
    "## 2)\n",
    "\n",
    "> Leia os dados com erro novamente e insira a mediana de cada atributo onde for encontrada NaN."
   ]
  },
  {
   "cell_type": "code",
   "execution_count": 6,
   "metadata": {
    "colab": {
     "base_uri": "https://localhost:8080/",
     "height": 101
    },
    "colab_type": "code",
    "executionInfo": {
     "elapsed": 590,
     "status": "ok",
     "timestamp": 1581741344224,
     "user": {
      "displayName": "Matheus Marzola Gomes",
      "photoUrl": "",
      "userId": "02871632334414994318"
     },
     "user_tz": 180
    },
    "id": "2BsNry-M-AM2",
    "outputId": "aea52eb2-1e1f-4a58-a67a-1e93266c806c"
   },
   "outputs": [
    {
     "data": {
      "text/plain": [
       "sepal_length     object\n",
       "sepal_width      object\n",
       "petal_length    float64\n",
       "petal_width      object\n",
       "dtype: object"
      ]
     },
     "execution_count": 6,
     "metadata": {},
     "output_type": "execute_result"
    }
   ],
   "source": [
    "# CSV file\n",
    "df = pd.read_csv('data/iris-with-errors.csv') # leitura do arquivo csv\n",
    "\n",
    "data = df.iloc[:,:-1] # separando os dados, removendo a ultima coluna (target)\n",
    "\n",
    "data = data.replace('?', np.nan) # substitui '?' por valores nulos\n",
    "\n",
    "data.dtypes # vamos ver os tipos de cada coluna."
   ]
  },
  {
   "cell_type": "code",
   "execution_count": 7,
   "metadata": {
    "colab": {
     "base_uri": "https://localhost:8080/",
     "height": 195
    },
    "colab_type": "code",
    "executionInfo": {
     "elapsed": 582,
     "status": "ok",
     "timestamp": 1581741346436,
     "user": {
      "displayName": "Matheus Marzola Gomes",
      "photoUrl": "",
      "userId": "02871632334414994318"
     },
     "user_tz": 180
    },
    "id": "L_05nog_-AM-",
    "outputId": "caa574ab-f31f-4a63-dec6-8b22a256e62b"
   },
   "outputs": [
    {
     "data": {
      "text/html": [
       "<div>\n",
       "<style scoped>\n",
       "    .dataframe tbody tr th:only-of-type {\n",
       "        vertical-align: middle;\n",
       "    }\n",
       "\n",
       "    .dataframe tbody tr th {\n",
       "        vertical-align: top;\n",
       "    }\n",
       "\n",
       "    .dataframe thead th {\n",
       "        text-align: right;\n",
       "    }\n",
       "</style>\n",
       "<table border=\"1\" class=\"dataframe\">\n",
       "  <thead>\n",
       "    <tr style=\"text-align: right;\">\n",
       "      <th></th>\n",
       "      <th>sepal_length</th>\n",
       "      <th>sepal_width</th>\n",
       "      <th>petal_length</th>\n",
       "      <th>petal_width</th>\n",
       "    </tr>\n",
       "  </thead>\n",
       "  <tbody>\n",
       "    <tr>\n",
       "      <th>0</th>\n",
       "      <td>5.1</td>\n",
       "      <td>3.5</td>\n",
       "      <td>1.4</td>\n",
       "      <td>0.2</td>\n",
       "    </tr>\n",
       "    <tr>\n",
       "      <th>1</th>\n",
       "      <td>5.1</td>\n",
       "      <td>3.5</td>\n",
       "      <td>1.4</td>\n",
       "      <td>0.2</td>\n",
       "    </tr>\n",
       "    <tr>\n",
       "      <th>2</th>\n",
       "      <td>NaN</td>\n",
       "      <td>3</td>\n",
       "      <td>1.4</td>\n",
       "      <td>0.2</td>\n",
       "    </tr>\n",
       "    <tr>\n",
       "      <th>3</th>\n",
       "      <td>4.7</td>\n",
       "      <td>3.2</td>\n",
       "      <td>1.3</td>\n",
       "      <td>0.2</td>\n",
       "    </tr>\n",
       "    <tr>\n",
       "      <th>4</th>\n",
       "      <td>5.1</td>\n",
       "      <td>3.5</td>\n",
       "      <td>1.4</td>\n",
       "      <td>0.2</td>\n",
       "    </tr>\n",
       "  </tbody>\n",
       "</table>\n",
       "</div>"
      ],
      "text/plain": [
       "  sepal_length sepal_width  petal_length petal_width\n",
       "0          5.1         3.5           1.4         0.2\n",
       "1          5.1         3.5           1.4         0.2\n",
       "2          NaN           3           1.4         0.2\n",
       "3          4.7         3.2           1.3         0.2\n",
       "4          5.1         3.5           1.4         0.2"
      ]
     },
     "execution_count": 7,
     "metadata": {},
     "output_type": "execute_result"
    }
   ],
   "source": [
    "data.head()"
   ]
  },
  {
   "cell_type": "code",
   "execution_count": 8,
   "metadata": {
    "colab": {
     "base_uri": "https://localhost:8080/",
     "height": 101
    },
    "colab_type": "code",
    "executionInfo": {
     "elapsed": 589,
     "status": "ok",
     "timestamp": 1581741347568,
     "user": {
      "displayName": "Matheus Marzola Gomes",
      "photoUrl": "",
      "userId": "02871632334414994318"
     },
     "user_tz": 180
    },
    "id": "nowV9CYg-ANG",
    "outputId": "4b01b11a-4354-479d-8991-618166cd7fa1",
    "scrolled": true
   },
   "outputs": [
    {
     "data": {
      "text/plain": [
       "sepal_length    float64\n",
       "sepal_width     float64\n",
       "petal_length    float64\n",
       "petal_width     float64\n",
       "dtype: object"
      ]
     },
     "execution_count": 8,
     "metadata": {},
     "output_type": "execute_result"
    }
   ],
   "source": [
    "# podemos observar que alguns são colunas de strings (apesar de serem valores numericos). \n",
    "# Vamos mudar isso transformando os valores string em numericos\n",
    "data = data.apply(pd.to_numeric) \n",
    "\n",
    "# agora, vamos verificar os novos tipos das colunas\n",
    "data.dtypes"
   ]
  },
  {
   "cell_type": "code",
   "execution_count": 9,
   "metadata": {
    "colab": {
     "base_uri": "https://localhost:8080/",
     "height": 195
    },
    "colab_type": "code",
    "executionInfo": {
     "elapsed": 526,
     "status": "ok",
     "timestamp": 1581741349918,
     "user": {
      "displayName": "Matheus Marzola Gomes",
      "photoUrl": "",
      "userId": "02871632334414994318"
     },
     "user_tz": 180
    },
    "id": "0-BZLQvR-ANQ",
    "outputId": "97396a1b-f6f4-476d-d109-9fc07474db8f"
   },
   "outputs": [
    {
     "data": {
      "text/html": [
       "<div>\n",
       "<style scoped>\n",
       "    .dataframe tbody tr th:only-of-type {\n",
       "        vertical-align: middle;\n",
       "    }\n",
       "\n",
       "    .dataframe tbody tr th {\n",
       "        vertical-align: top;\n",
       "    }\n",
       "\n",
       "    .dataframe thead th {\n",
       "        text-align: right;\n",
       "    }\n",
       "</style>\n",
       "<table border=\"1\" class=\"dataframe\">\n",
       "  <thead>\n",
       "    <tr style=\"text-align: right;\">\n",
       "      <th></th>\n",
       "      <th>sepal_length</th>\n",
       "      <th>sepal_width</th>\n",
       "      <th>petal_length</th>\n",
       "      <th>petal_width</th>\n",
       "    </tr>\n",
       "  </thead>\n",
       "  <tbody>\n",
       "    <tr>\n",
       "      <th>0</th>\n",
       "      <td>5.10</td>\n",
       "      <td>3.5</td>\n",
       "      <td>1.4</td>\n",
       "      <td>0.2</td>\n",
       "    </tr>\n",
       "    <tr>\n",
       "      <th>1</th>\n",
       "      <td>5.10</td>\n",
       "      <td>3.5</td>\n",
       "      <td>1.4</td>\n",
       "      <td>0.2</td>\n",
       "    </tr>\n",
       "    <tr>\n",
       "      <th>2</th>\n",
       "      <td>5.05</td>\n",
       "      <td>3.0</td>\n",
       "      <td>1.4</td>\n",
       "      <td>0.2</td>\n",
       "    </tr>\n",
       "    <tr>\n",
       "      <th>3</th>\n",
       "      <td>4.70</td>\n",
       "      <td>3.2</td>\n",
       "      <td>1.3</td>\n",
       "      <td>0.2</td>\n",
       "    </tr>\n",
       "    <tr>\n",
       "      <th>4</th>\n",
       "      <td>5.10</td>\n",
       "      <td>3.5</td>\n",
       "      <td>1.4</td>\n",
       "      <td>0.2</td>\n",
       "    </tr>\n",
       "  </tbody>\n",
       "</table>\n",
       "</div>"
      ],
      "text/plain": [
       "   sepal_length  sepal_width  petal_length  petal_width\n",
       "0          5.10          3.5           1.4          0.2\n",
       "1          5.10          3.5           1.4          0.2\n",
       "2          5.05          3.0           1.4          0.2\n",
       "3          4.70          3.2           1.3          0.2\n",
       "4          5.10          3.5           1.4          0.2"
      ]
     },
     "execution_count": 9,
     "metadata": {},
     "output_type": "execute_result"
    }
   ],
   "source": [
    "# agora que temos os arquivos como valores numericos, podemos aplicar a mediana. \n",
    "# Repare que na linha de indice 2, muda o valor nulo para a mediana da coluna\n",
    "data = data.fillna(data.median())\n",
    "data.head()"
   ]
  },
  {
   "cell_type": "markdown",
   "metadata": {
    "colab_type": "text",
    "id": "63em9Vyq-ANW"
   },
   "source": [
    "## 3)\n",
    "\n",
    "> Considere os dados da Iris e mostre a distribuição de probabilidades de cada uma das variáveis após a normalização e padronização."
   ]
  },
  {
   "cell_type": "code",
   "execution_count": 10,
   "metadata": {
    "colab": {
     "base_uri": "https://localhost:8080/",
     "height": 195
    },
    "colab_type": "code",
    "executionInfo": {
     "elapsed": 592,
     "status": "ok",
     "timestamp": 1581741360631,
     "user": {
      "displayName": "Matheus Marzola Gomes",
      "photoUrl": "",
      "userId": "02871632334414994318"
     },
     "user_tz": 180
    },
    "id": "5mmpkG-6-ANZ",
    "outputId": "863c5a86-51c1-4224-e7d4-3ae80295ed26"
   },
   "outputs": [
    {
     "data": {
      "text/html": [
       "<div>\n",
       "<style scoped>\n",
       "    .dataframe tbody tr th:only-of-type {\n",
       "        vertical-align: middle;\n",
       "    }\n",
       "\n",
       "    .dataframe tbody tr th {\n",
       "        vertical-align: top;\n",
       "    }\n",
       "\n",
       "    .dataframe thead th {\n",
       "        text-align: right;\n",
       "    }\n",
       "</style>\n",
       "<table border=\"1\" class=\"dataframe\">\n",
       "  <thead>\n",
       "    <tr style=\"text-align: right;\">\n",
       "      <th></th>\n",
       "      <th>sepal_length</th>\n",
       "      <th>sepal_width</th>\n",
       "      <th>petal_length</th>\n",
       "      <th>petal_width</th>\n",
       "    </tr>\n",
       "  </thead>\n",
       "  <tbody>\n",
       "    <tr>\n",
       "      <th>0</th>\n",
       "      <td>5.10</td>\n",
       "      <td>3.5</td>\n",
       "      <td>1.4</td>\n",
       "      <td>0.2</td>\n",
       "    </tr>\n",
       "    <tr>\n",
       "      <th>1</th>\n",
       "      <td>5.10</td>\n",
       "      <td>3.5</td>\n",
       "      <td>1.4</td>\n",
       "      <td>0.2</td>\n",
       "    </tr>\n",
       "    <tr>\n",
       "      <th>2</th>\n",
       "      <td>5.05</td>\n",
       "      <td>3.0</td>\n",
       "      <td>1.4</td>\n",
       "      <td>0.2</td>\n",
       "    </tr>\n",
       "    <tr>\n",
       "      <th>3</th>\n",
       "      <td>4.70</td>\n",
       "      <td>3.2</td>\n",
       "      <td>1.3</td>\n",
       "      <td>0.2</td>\n",
       "    </tr>\n",
       "    <tr>\n",
       "      <th>4</th>\n",
       "      <td>5.10</td>\n",
       "      <td>3.5</td>\n",
       "      <td>1.4</td>\n",
       "      <td>0.2</td>\n",
       "    </tr>\n",
       "  </tbody>\n",
       "</table>\n",
       "</div>"
      ],
      "text/plain": [
       "   sepal_length  sepal_width  petal_length  petal_width\n",
       "0          5.10          3.5           1.4          0.2\n",
       "1          5.10          3.5           1.4          0.2\n",
       "2          5.05          3.0           1.4          0.2\n",
       "3          4.70          3.2           1.3          0.2\n",
       "4          5.10          3.5           1.4          0.2"
      ]
     },
     "execution_count": 10,
     "metadata": {},
     "output_type": "execute_result"
    }
   ],
   "source": [
    "data.head()"
   ]
  },
  {
   "cell_type": "markdown",
   "metadata": {
    "colab_type": "text",
    "id": "g1szL1Y8-ANe"
   },
   "source": [
    "### Normalização"
   ]
  },
  {
   "cell_type": "code",
   "execution_count": 11,
   "metadata": {
    "colab": {
     "base_uri": "https://localhost:8080/",
     "height": 195
    },
    "colab_type": "code",
    "executionInfo": {
     "elapsed": 527,
     "status": "ok",
     "timestamp": 1581741364230,
     "user": {
      "displayName": "Matheus Marzola Gomes",
      "photoUrl": "",
      "userId": "02871632334414994318"
     },
     "user_tz": 180
    },
    "id": "gq_3npBh-ANf",
    "outputId": "18b54919-cc13-4868-d9a5-9746adc26ad5",
    "scrolled": true
   },
   "outputs": [
    {
     "data": {
      "text/html": [
       "<div>\n",
       "<style scoped>\n",
       "    .dataframe tbody tr th:only-of-type {\n",
       "        vertical-align: middle;\n",
       "    }\n",
       "\n",
       "    .dataframe tbody tr th {\n",
       "        vertical-align: top;\n",
       "    }\n",
       "\n",
       "    .dataframe thead th {\n",
       "        text-align: right;\n",
       "    }\n",
       "</style>\n",
       "<table border=\"1\" class=\"dataframe\">\n",
       "  <thead>\n",
       "    <tr style=\"text-align: right;\">\n",
       "      <th></th>\n",
       "      <th>sepal_length</th>\n",
       "      <th>sepal_width</th>\n",
       "      <th>petal_length</th>\n",
       "      <th>petal_width</th>\n",
       "    </tr>\n",
       "  </thead>\n",
       "  <tbody>\n",
       "    <tr>\n",
       "      <th>0</th>\n",
       "      <td>0.533333</td>\n",
       "      <td>0.400000</td>\n",
       "      <td>0.500000</td>\n",
       "      <td>0.333333</td>\n",
       "    </tr>\n",
       "    <tr>\n",
       "      <th>1</th>\n",
       "      <td>0.533333</td>\n",
       "      <td>0.400000</td>\n",
       "      <td>0.500000</td>\n",
       "      <td>0.333333</td>\n",
       "    </tr>\n",
       "    <tr>\n",
       "      <th>2</th>\n",
       "      <td>0.500000</td>\n",
       "      <td>0.066667</td>\n",
       "      <td>0.500000</td>\n",
       "      <td>0.333333</td>\n",
       "    </tr>\n",
       "    <tr>\n",
       "      <th>3</th>\n",
       "      <td>0.266667</td>\n",
       "      <td>0.200000</td>\n",
       "      <td>0.333333</td>\n",
       "      <td>0.333333</td>\n",
       "    </tr>\n",
       "    <tr>\n",
       "      <th>4</th>\n",
       "      <td>0.533333</td>\n",
       "      <td>0.400000</td>\n",
       "      <td>0.500000</td>\n",
       "      <td>0.333333</td>\n",
       "    </tr>\n",
       "  </tbody>\n",
       "</table>\n",
       "</div>"
      ],
      "text/plain": [
       "   sepal_length  sepal_width  petal_length  petal_width\n",
       "0      0.533333     0.400000      0.500000     0.333333\n",
       "1      0.533333     0.400000      0.500000     0.333333\n",
       "2      0.500000     0.066667      0.500000     0.333333\n",
       "3      0.266667     0.200000      0.333333     0.333333\n",
       "4      0.533333     0.400000      0.500000     0.333333"
      ]
     },
     "execution_count": 11,
     "metadata": {},
     "output_type": "execute_result"
    }
   ],
   "source": [
    "X = data.copy() # copiamos o dataframe que ja tratamos valores nulos no ultimo exercicio\n",
    "\n",
    "# prepara a função para transformar os dados\n",
    "scaler = MinMaxScaler(feature_range=(0, 1))\n",
    "\n",
    "# Realiza a normalização e coloca em um novo vetor\n",
    "X_normalizado = scaler.fit_transform(X)\n",
    "\n",
    "# vamos colocar isso no dataframe, só para visualizarmos um pouco melhor.\n",
    "# Reparem que não estou atribuindo a nenhuma variável. Somente printando o Dataframe\n",
    "pd.DataFrame(X_normalizado, columns=data.columns).head()"
   ]
  },
  {
   "cell_type": "code",
   "execution_count": 12,
   "metadata": {
    "colab": {
     "base_uri": "https://localhost:8080/",
     "height": 350
    },
    "colab_type": "code",
    "executionInfo": {
     "elapsed": 1128,
     "status": "ok",
     "timestamp": 1581741370443,
     "user": {
      "displayName": "Matheus Marzola Gomes",
      "photoUrl": "",
      "userId": "02871632334414994318"
     },
     "user_tz": 180
    },
    "id": "ex1Fz_MR-ANm",
    "outputId": "66ba3942-ef49-47dd-8619-d6f30eccd43c"
   },
   "outputs": [
    {
     "data": {
      "image/png": "[encoded data removed]",
      "text/plain": [
       "<Figure size 576x360 with 1 Axes>"
      ]
     },
     "metadata": {
      "needs_background": "light"
     },
     "output_type": "display_data"
    }
   ],
   "source": [
    "bin_size = 0.2 # tamanho do bin para plotar o histograma. Mude isso e veja a alteração no resultado\n",
    "\n",
    "bins = np.arange(0, 1 + bin_size, bin_size)\n",
    "\n",
    "# Agora podemos visualizar a distribuição em um histograma\n",
    "fig = plt.figure(figsize=(8, 5))\n",
    "plt.hist(X_normalizado, label=data.columns, bins=bins); # plota o histograma\n",
    "plt.title('Distribuição dos atributos de iris padronizados') # muda o titulo do grafico\n",
    "plt.xlabel('Valor dos atributos') # muda o nome do eixo x\n",
    "plt.ylabel('Distribuição') # muda o nome do eixo y\n",
    "plt.legend(); # necessario para mostrar a legenda"
   ]
  },
  {
   "cell_type": "code",
   "execution_count": 13,
   "metadata": {
    "colab": {
     "base_uri": "https://localhost:8080/",
     "height": 499
    },
    "colab_type": "code",
    "executionInfo": {
     "elapsed": 1496,
     "status": "ok",
     "timestamp": 1581741374583,
     "user": {
      "displayName": "Matheus Marzola Gomes",
      "photoUrl": "",
      "userId": "02871632334414994318"
     },
     "user_tz": 180
    },
    "id": "nG6dEU0E-ANt",
    "outputId": "df10312d-52cd-4171-8bca-d472444f65c3"
   },
   "outputs": [
    {
     "data": {
      "image/png": "[encoded data removed]",
      "text/plain": [
       "<Figure size 936x576 with 4 Axes>"
      ]
     },
     "metadata": {
      "needs_background": "light"
     },
     "output_type": "display_data"
    }
   ],
   "source": [
    "# Agora, vamos plotar um gráfico para cada coluna dos dados, para observamos melhor cada coluna\n",
    "\n",
    "fig = plt.figure(figsize=(13,8))\n",
    "\n",
    "# vamos transpor a matriz somente para facilitar o loop nas colunas a seguir.\n",
    "# após isso, quando rodarmos um \"for\" em X_transpose, cada interação tem como retorno os valores de uma coluna.\n",
    "X_transposta = X_normalizado.T # o \".T\" retorna a matriz transposta\n",
    "columns_name = data.columns # vamos criar um vetor com todas os nomes das colunas dos nossos dados\n",
    "\n",
    "# o comando \"zip\" abaixo ele é criado para retornar os valores, par a par, dos dois vetores passados.\n",
    "# por exemplo, se eu fizer um zip([1, 2], [3, 4]), e rodar um loop \"for\" desse zip, terei a dupla [1, 3]...\n",
    "# ...na primeira interação e a dupla [2, 4] na segunda interação.\n",
    "# Faremos isso para obter os nomes das colunas em \"columns_name\" e seus respectivos valores em \"X_transpose\"...\n",
    "# ... para podermos plotar os gráficos e seus respectivos titulos.\n",
    "\n",
    "zipped_values = zip(columns_name, X_transposta)\n",
    "\n",
    "# Abaixo, rodamos um \"for\" nos nossos zipped values. O comando \"enumerate\" vai enumerar e retornar um valor...\n",
    "# ... na variável \"idx\", que começa em 1 e continua incrementando de um em  um.\n",
    "# Isso é feito para realizar os subplots e criar gráficos separados\n",
    "for idx, (col_name, values) in enumerate(zipped_values, start=1): \n",
    "    plt.subplot(2, 2, idx) # cria um subplot. Gráfico individual.\n",
    "    plt.hist(values) # cria um histograma com os valores da coluna especifica\n",
    "    plt.title(col_name) # coloca o titulo no gráfico"
   ]
  },
  {
   "cell_type": "code",
   "execution_count": 14,
   "metadata": {
    "colab": {
     "base_uri": "https://localhost:8080/",
     "height": 50
    },
    "colab_type": "code",
    "executionInfo": {
     "elapsed": 657,
     "status": "ok",
     "timestamp": 1581741376203,
     "user": {
      "displayName": "Matheus Marzola Gomes",
      "photoUrl": "",
      "userId": "02871632334414994318"
     },
     "user_tz": 180
    },
    "id": "WR1IMTFK-ANz",
    "outputId": "4294a89a-c23e-4072-e82b-ec74eeef04c3"
   },
   "outputs": [
    {
     "name": "stdout",
     "output_type": "stream",
     "text": [
      "Média da distribuição: 0.4556666666666666\n",
      "Variância da distribuição: 0.07362344444444442\n"
     ]
    }
   ],
   "source": [
    "# Vamos ver como está a média e a variância\n",
    "media = X_normalizado.mean()\n",
    "variancia = X_normalizado.var()\n",
    "\n",
    "print(f\"Média da distribuição: {media}\")\n",
    "print(f\"Variância da distribuição: {variancia}\")"
   ]
  },
  {
   "cell_type": "markdown",
   "metadata": {
    "colab_type": "text",
    "id": "JF7pM65k-AN4"
   },
   "source": [
    "### Padronização"
   ]
  },
  {
   "cell_type": "code",
   "execution_count": 15,
   "metadata": {
    "colab": {
     "base_uri": "https://localhost:8080/",
     "height": 195
    },
    "colab_type": "code",
    "executionInfo": {
     "elapsed": 492,
     "status": "ok",
     "timestamp": 1581741377068,
     "user": {
      "displayName": "Matheus Marzola Gomes",
      "photoUrl": "",
      "userId": "02871632334414994318"
     },
     "user_tz": 180
    },
    "id": "Tk_WoWTj-AN6",
    "outputId": "5e05a0db-0d07-48b6-8a9e-acdff3a28c5a",
    "scrolled": true
   },
   "outputs": [
    {
     "data": {
      "text/html": [
       "<div>\n",
       "<style scoped>\n",
       "    .dataframe tbody tr th:only-of-type {\n",
       "        vertical-align: middle;\n",
       "    }\n",
       "\n",
       "    .dataframe tbody tr th {\n",
       "        vertical-align: top;\n",
       "    }\n",
       "\n",
       "    .dataframe thead th {\n",
       "        text-align: right;\n",
       "    }\n",
       "</style>\n",
       "<table border=\"1\" class=\"dataframe\">\n",
       "  <thead>\n",
       "    <tr style=\"text-align: right;\">\n",
       "      <th></th>\n",
       "      <th>sepal_length</th>\n",
       "      <th>sepal_width</th>\n",
       "      <th>petal_length</th>\n",
       "      <th>petal_width</th>\n",
       "    </tr>\n",
       "  </thead>\n",
       "  <tbody>\n",
       "    <tr>\n",
       "      <th>0</th>\n",
       "      <td>0.180529</td>\n",
       "      <td>0.157859</td>\n",
       "      <td>-0.288675</td>\n",
       "      <td>-0.294884</td>\n",
       "    </tr>\n",
       "    <tr>\n",
       "      <th>1</th>\n",
       "      <td>0.180529</td>\n",
       "      <td>0.157859</td>\n",
       "      <td>-0.288675</td>\n",
       "      <td>-0.294884</td>\n",
       "    </tr>\n",
       "    <tr>\n",
       "      <th>2</th>\n",
       "      <td>0.058550</td>\n",
       "      <td>-1.115201</td>\n",
       "      <td>-0.288675</td>\n",
       "      <td>-0.294884</td>\n",
       "    </tr>\n",
       "    <tr>\n",
       "      <th>3</th>\n",
       "      <td>-0.795302</td>\n",
       "      <td>-0.605977</td>\n",
       "      <td>-1.010363</td>\n",
       "      <td>-0.294884</td>\n",
       "    </tr>\n",
       "    <tr>\n",
       "      <th>4</th>\n",
       "      <td>0.180529</td>\n",
       "      <td>0.157859</td>\n",
       "      <td>-0.288675</td>\n",
       "      <td>-0.294884</td>\n",
       "    </tr>\n",
       "  </tbody>\n",
       "</table>\n",
       "</div>"
      ],
      "text/plain": [
       "   sepal_length  sepal_width  petal_length  petal_width\n",
       "0      0.180529     0.157859     -0.288675    -0.294884\n",
       "1      0.180529     0.157859     -0.288675    -0.294884\n",
       "2      0.058550    -1.115201     -0.288675    -0.294884\n",
       "3     -0.795302    -0.605977     -1.010363    -0.294884\n",
       "4      0.180529     0.157859     -0.288675    -0.294884"
      ]
     },
     "execution_count": 15,
     "metadata": {},
     "output_type": "execute_result"
    }
   ],
   "source": [
    "X = data.copy() # copiamos o dataframe que ja tratamos valores nulos no ultimo exercicio\n",
    "\n",
    "# prepara a função para transformar os dados\n",
    "scaler = StandardScaler().fit(X)\n",
    "\n",
    "# Realiza a padronização e coloca em um novo vetor\n",
    "X_padronizado = scaler.fit_transform(X)\n",
    "\n",
    "# vamos colocar isso no dataframe, só para visualizarmos um pouco melhor.\n",
    "# Reparem que não estou atribuindo a nenhuma variável. Somente printando o Dataframe\n",
    "pd.DataFrame(X_padronizado, columns=data.columns).head()"
   ]
  },
  {
   "cell_type": "code",
   "execution_count": 16,
   "metadata": {
    "colab": {
     "base_uri": "https://localhost:8080/",
     "height": 350
    },
    "colab_type": "code",
    "executionInfo": {
     "elapsed": 783,
     "status": "ok",
     "timestamp": 1581741379400,
     "user": {
      "displayName": "Matheus Marzola Gomes",
      "photoUrl": "",
      "userId": "02871632334414994318"
     },
     "user_tz": 180
    },
    "id": "yi4tc6K3-AN_",
    "outputId": "24f1c66e-f0ec-49ce-b0cc-4a3c19851c26"
   },
   "outputs": [
    {
     "data": {
      "image/png": "[encoded data removed]",
      "text/plain": [
       "<Figure size 576x360 with 1 Axes>"
      ]
     },
     "metadata": {
      "needs_background": "light"
     },
     "output_type": "display_data"
    }
   ],
   "source": [
    "# Agora podemos visualizar a distribuição em um histograma\n",
    "fig = plt.figure(figsize=(8,5))\n",
    "\n",
    "plt.hist(X_padronizado, label=data.columns); # plota o histograma\n",
    "plt.title('Distribuição dos atributos de iris padronizados') # muda o titulo do grafico\n",
    "plt.xlabel('Valor dos atributos') # muda o nome do eixo x\n",
    "plt.ylabel('Distribuição') # muda o nome do eixo y\n",
    "plt.legend(); # necessario para mostrar a legenda"
   ]
  },
  {
   "cell_type": "code",
   "execution_count": 17,
   "metadata": {
    "colab": {
     "base_uri": "https://localhost:8080/",
     "height": 499
    },
    "colab_type": "code",
    "executionInfo": {
     "elapsed": 1383,
     "status": "ok",
     "timestamp": 1581741381941,
     "user": {
      "displayName": "Matheus Marzola Gomes",
      "photoUrl": "",
      "userId": "02871632334414994318"
     },
     "user_tz": 180
    },
    "id": "uZleoXwz-AOE",
    "outputId": "022ae52d-5626-410b-9e72-7e33ca9dd9d7"
   },
   "outputs": [
    {
     "data": {
      "image/png": "[encoded data removed]",
      "text/plain": [
       "<Figure size 936x576 with 4 Axes>"
      ]
     },
     "metadata": {
      "needs_background": "light"
     },
     "output_type": "display_data"
    }
   ],
   "source": [
    "fig = plt.figure(figsize=(13, 8))\n",
    "\n",
    "# vamos transpor a matriz somente para facilitar o loop nas colunas a seguir.\n",
    "# após isso, quando rodarmos um \"for\" em X_transpose, cada interação tem como retorno os valores de uma coluna.\n",
    "X_transposta = X_padronizado.T \n",
    "columns_name = data.columns # vamos criar um vetor com todas os nomes das colunas dos nossos dados\n",
    "\n",
    "# o comando \"zip\" abaixo ele é criado para retornar os valores, par a par, dos dois vetores passados.\n",
    "# por exemplo, se eu fizer um zip([1, 2], [3, 4]), e rodar um loop \"for\" desse zip, terei a dupla [1, 3]...\n",
    "# ...na primeira interação e a dupla [2, 4] na segunda interação.\n",
    "# Faremos isso para obter os nomes das colunas em \"columns_name\" e seus respectivos valores em \"X_transpose\"...\n",
    "# ... para podermos plotar os gráficos e seus respectivos titulos.\n",
    "\n",
    "zipped_values = zip(columns_name, X_transposta)\n",
    "\n",
    "# Abaixo, rodamos um \"for\" nos nossos zipped values. O comando \"enumerate\" vai enumerar e retornar um valor...\n",
    "# ... na variável \"idx\", que começa em 1 e continua incrementando de um em  um.\n",
    "# Isso é feito para realizar os subplots e criar gráficos separados\n",
    "for idx, (col_name, values) in enumerate(zipped_values, start=1): \n",
    "    plt.subplot(2, 2, idx) # cria um subplot. Gráfico individual.\n",
    "    plt.hist(values) # cria um histograma com os valores da coluna especifica\n",
    "    plt.title(col_name) # coloca o titulo no gráfico"
   ]
  },
  {
   "cell_type": "code",
   "execution_count": 18,
   "metadata": {
    "colab": {
     "base_uri": "https://localhost:8080/",
     "height": 50
    },
    "colab_type": "code",
    "executionInfo": {
     "elapsed": 529,
     "status": "ok",
     "timestamp": 1581741384076,
     "user": {
      "displayName": "Matheus Marzola Gomes",
      "photoUrl": "",
      "userId": "02871632334414994318"
     },
     "user_tz": 180
    },
    "id": "m7qC8cLs-AOI",
    "outputId": "5c40fd62-85ea-4ba5-dff2-9ea6d000fd1a"
   },
   "outputs": [
    {
     "name": "stdout",
     "output_type": "stream",
     "text": [
      "Média da distribuição: -4.440892098500626e-18\n",
      "Variância da distribuição: 1.0000000000000002\n"
     ]
    }
   ],
   "source": [
    "# Podemos observar que a media se aproxima muito de 0 e a variancia é igual a 1\n",
    "media = X_padronizado.mean()\n",
    "variancia = X_padronizado.var()\n",
    "\n",
    "print(f\"Média da distribuição: {media}\")\n",
    "print(f\"Variância da distribuição: {variancia}\")"
   ]
  },
  {
   "cell_type": "markdown",
   "metadata": {
    "colab_type": "text",
    "id": "-qYkM4ME-AOM"
   },
   "source": [
    "## 4)\n",
    "\n",
    "> Reamostre os dados da Iris e selecione 10 elementos em cada classe."
   ]
  },
  {
   "cell_type": "code",
   "execution_count": 19,
   "metadata": {
    "colab": {},
    "colab_type": "code",
    "id": "iBqZa70m-AOP"
   },
   "outputs": [],
   "source": [
    "# vamos usar o nosso dataframe inicial, antes de fazer qualquer alteraçao\n",
    "# primeiro, criamos um dataframe vazio para nossa resposta\n",
    "df_resample = pd.DataFrame(columns=df.columns)\n",
    "\n",
    "# definimos o numero de elementos\n",
    "n = 10 \n",
    "\n",
    "# criamos um vetor com todas as possiveis especies.\n",
    "# df['species'] acessa a coluna \"species\" e unique() retorna os valores unicos dessa coluna\n",
    "targets = list(df['species'].unique())\n",
    "\n",
    "# para cada um dos targets, faremos:\n",
    "for t in targets:\n",
    "    df_aux = df.loc[df[\"species\"] == t]                 # filtramos pela classe\n",
    "    df_aux = df_aux.sample(n, replace=True)             # usamos a funcao sample que retorna um sample aleatorio. replace é necessário pois estamos repetindo amostras.\n",
    "    df_resample = pd.concat([df_resample, df_aux])      # concatenamos com nosso dataframe resultad"
   ]
  },
  {
   "cell_type": "code",
   "execution_count": 20,
   "metadata": {
    "colab": {
     "base_uri": "https://localhost:8080/",
     "height": 639
    },
    "colab_type": "code",
    "executionInfo": {
     "elapsed": 513,
     "status": "ok",
     "timestamp": 1581741393328,
     "user": {
      "displayName": "Matheus Marzola Gomes",
      "photoUrl": "",
      "userId": "02871632334414994318"
     },
     "user_tz": 180
    },
    "id": "abAvd07U-AOU",
    "outputId": "82a8feb2-decc-44bd-8aba-729e9653dbc8"
   },
   "outputs": [
    {
     "data": {
      "text/html": [
       "<div>\n",
       "<style scoped>\n",
       "    .dataframe tbody tr th:only-of-type {\n",
       "        vertical-align: middle;\n",
       "    }\n",
       "\n",
       "    .dataframe tbody tr th {\n",
       "        vertical-align: top;\n",
       "    }\n",
       "\n",
       "    .dataframe thead th {\n",
       "        text-align: right;\n",
       "    }\n",
       "</style>\n",
       "<table border=\"1\" class=\"dataframe\">\n",
       "  <thead>\n",
       "    <tr style=\"text-align: right;\">\n",
       "      <th></th>\n",
       "      <th>sepal_length</th>\n",
       "      <th>sepal_width</th>\n",
       "      <th>petal_length</th>\n",
       "      <th>petal_width</th>\n",
       "      <th>species</th>\n",
       "    </tr>\n",
       "  </thead>\n",
       "  <tbody>\n",
       "    <tr>\n",
       "      <th>0</th>\n",
       "      <td>5.1</td>\n",
       "      <td>3.5</td>\n",
       "      <td>1.4</td>\n",
       "      <td>0.2</td>\n",
       "      <td>duplicada</td>\n",
       "    </tr>\n",
       "    <tr>\n",
       "      <th>17</th>\n",
       "      <td>4.4</td>\n",
       "      <td>2.9</td>\n",
       "      <td>1.4</td>\n",
       "      <td>0.2</td>\n",
       "      <td>duplicada</td>\n",
       "    </tr>\n",
       "    <tr>\n",
       "      <th>0</th>\n",
       "      <td>5.1</td>\n",
       "      <td>3.5</td>\n",
       "      <td>1.4</td>\n",
       "      <td>0.2</td>\n",
       "      <td>duplicada</td>\n",
       "    </tr>\n",
       "    <tr>\n",
       "      <th>14</th>\n",
       "      <td>4.4</td>\n",
       "      <td>2.9</td>\n",
       "      <td>1.4</td>\n",
       "      <td>0.2</td>\n",
       "      <td>duplicada</td>\n",
       "    </tr>\n",
       "    <tr>\n",
       "      <th>4</th>\n",
       "      <td>5.1</td>\n",
       "      <td>3.5</td>\n",
       "      <td>1.4</td>\n",
       "      <td>0.2</td>\n",
       "      <td>duplicada</td>\n",
       "    </tr>\n",
       "    <tr>\n",
       "      <th>4</th>\n",
       "      <td>5.1</td>\n",
       "      <td>3.5</td>\n",
       "      <td>1.4</td>\n",
       "      <td>0.2</td>\n",
       "      <td>duplicada</td>\n",
       "    </tr>\n",
       "    <tr>\n",
       "      <th>8</th>\n",
       "      <td>5.4</td>\n",
       "      <td>3.9</td>\n",
       "      <td>1.7</td>\n",
       "      <td>0.4</td>\n",
       "      <td>duplicada</td>\n",
       "    </tr>\n",
       "    <tr>\n",
       "      <th>1</th>\n",
       "      <td>5.1</td>\n",
       "      <td>3.5</td>\n",
       "      <td>1.4</td>\n",
       "      <td>0.2</td>\n",
       "      <td>duplicada</td>\n",
       "    </tr>\n",
       "    <tr>\n",
       "      <th>0</th>\n",
       "      <td>5.1</td>\n",
       "      <td>3.5</td>\n",
       "      <td>1.4</td>\n",
       "      <td>0.2</td>\n",
       "      <td>duplicada</td>\n",
       "    </tr>\n",
       "    <tr>\n",
       "      <th>8</th>\n",
       "      <td>5.4</td>\n",
       "      <td>3.9</td>\n",
       "      <td>1.7</td>\n",
       "      <td>0.4</td>\n",
       "      <td>duplicada</td>\n",
       "    </tr>\n",
       "    <tr>\n",
       "      <th>21</th>\n",
       "      <td>5.4</td>\n",
       "      <td>3.9</td>\n",
       "      <td>1.3</td>\n",
       "      <td>?</td>\n",
       "      <td>setosa</td>\n",
       "    </tr>\n",
       "    <tr>\n",
       "      <th>12</th>\n",
       "      <td>4.9</td>\n",
       "      <td>3.1</td>\n",
       "      <td>1.5</td>\n",
       "      <td>0.1</td>\n",
       "      <td>setosa</td>\n",
       "    </tr>\n",
       "    <tr>\n",
       "      <th>24</th>\n",
       "      <td>NaN</td>\n",
       "      <td>3.8</td>\n",
       "      <td>1.5</td>\n",
       "      <td>0.3</td>\n",
       "      <td>setosa</td>\n",
       "    </tr>\n",
       "    <tr>\n",
       "      <th>24</th>\n",
       "      <td>NaN</td>\n",
       "      <td>3.8</td>\n",
       "      <td>1.5</td>\n",
       "      <td>0.3</td>\n",
       "      <td>setosa</td>\n",
       "    </tr>\n",
       "    <tr>\n",
       "      <th>9</th>\n",
       "      <td>4.6</td>\n",
       "      <td>3.4</td>\n",
       "      <td>1.4</td>\n",
       "      <td>NaN</td>\n",
       "      <td>setosa</td>\n",
       "    </tr>\n",
       "    <tr>\n",
       "      <th>23</th>\n",
       "      <td>5.7</td>\n",
       "      <td>?</td>\n",
       "      <td>1.7</td>\n",
       "      <td>0.3</td>\n",
       "      <td>setosa</td>\n",
       "    </tr>\n",
       "    <tr>\n",
       "      <th>22</th>\n",
       "      <td>5.1</td>\n",
       "      <td>3.5</td>\n",
       "      <td>1.4</td>\n",
       "      <td>0.3</td>\n",
       "      <td>setosa</td>\n",
       "    </tr>\n",
       "    <tr>\n",
       "      <th>12</th>\n",
       "      <td>4.9</td>\n",
       "      <td>3.1</td>\n",
       "      <td>1.5</td>\n",
       "      <td>0.1</td>\n",
       "      <td>setosa</td>\n",
       "    </tr>\n",
       "    <tr>\n",
       "      <th>24</th>\n",
       "      <td>NaN</td>\n",
       "      <td>3.8</td>\n",
       "      <td>1.5</td>\n",
       "      <td>0.3</td>\n",
       "      <td>setosa</td>\n",
       "    </tr>\n",
       "    <tr>\n",
       "      <th>24</th>\n",
       "      <td>NaN</td>\n",
       "      <td>3.8</td>\n",
       "      <td>1.5</td>\n",
       "      <td>0.3</td>\n",
       "      <td>setosa</td>\n",
       "    </tr>\n",
       "  </tbody>\n",
       "</table>\n",
       "</div>"
      ],
      "text/plain": [
       "   sepal_length sepal_width  petal_length petal_width    species\n",
       "0           5.1         3.5           1.4         0.2  duplicada\n",
       "17          4.4         2.9           1.4         0.2  duplicada\n",
       "0           5.1         3.5           1.4         0.2  duplicada\n",
       "14          4.4         2.9           1.4         0.2  duplicada\n",
       "4           5.1         3.5           1.4         0.2  duplicada\n",
       "4           5.1         3.5           1.4         0.2  duplicada\n",
       "8           5.4         3.9           1.7         0.4  duplicada\n",
       "1           5.1         3.5           1.4         0.2  duplicada\n",
       "0           5.1         3.5           1.4         0.2  duplicada\n",
       "8           5.4         3.9           1.7         0.4  duplicada\n",
       "21          5.4         3.9           1.3           ?     setosa\n",
       "12          4.9         3.1           1.5         0.1     setosa\n",
       "24          NaN         3.8           1.5         0.3     setosa\n",
       "24          NaN         3.8           1.5         0.3     setosa\n",
       "9           4.6         3.4           1.4         NaN     setosa\n",
       "23          5.7           ?           1.7         0.3     setosa\n",
       "22          5.1         3.5           1.4         0.3     setosa\n",
       "12          4.9         3.1           1.5         0.1     setosa\n",
       "24          NaN         3.8           1.5         0.3     setosa\n",
       "24          NaN         3.8           1.5         0.3     setosa"
      ]
     },
     "execution_count": 20,
     "metadata": {},
     "output_type": "execute_result"
    }
   ],
   "source": [
    "# Note que temos a mesma quantidade de elementos para ambas das classes\n",
    "df_resample"
   ]
  },
  {
   "cell_type": "markdown",
   "metadata": {
    "colab_type": "text",
    "id": "74euXcmh-AOb"
   },
   "source": [
    "## 5)\n",
    "\n",
    "> Monte um boxplot para cada variável dos dados da Iris."
   ]
  },
  {
   "cell_type": "code",
   "execution_count": 21,
   "metadata": {
    "colab": {
     "base_uri": "https://localhost:8080/",
     "height": 291
    },
    "colab_type": "code",
    "executionInfo": {
     "elapsed": 664,
     "status": "ok",
     "timestamp": 1581741395564,
     "user": {
      "displayName": "Matheus Marzola Gomes",
      "photoUrl": "",
      "userId": "02871632334414994318"
     },
     "user_tz": 180
    },
    "id": "TaYXDO56-AOd",
    "outputId": "ca7d01d3-a9c2-4907-c0b5-af42a2ac7669"
   },
   "outputs": [
    {
     "data": {
      "image/png": "[encoded data removed]",
      "text/plain": [
       "<Figure size 576x288 with 1 Axes>"
      ]
     },
     "metadata": {
      "needs_background": "light"
     },
     "output_type": "display_data"
    }
   ],
   "source": [
    "plt.figure(figsize=(8, 4))\n",
    "plt.boxplot(data.values)\n",
    "plt.xticks(np.arange(1, len(data.columns) + 1), data.columns)\n",
    "plt.xlabel('Variáveis', fontsize=16)\n",
    "plt.ylabel('Valores', fontsize=16)\n",
    "plt.xticks(fontsize=14)\n",
    "plt.yticks(fontsize=14)\n",
    "plt.show(True)"
   ]
  },
  {
   "cell_type": "markdown",
   "metadata": {
    "colab_type": "text",
    "id": "RQuPrE-z-AOi"
   },
   "source": [
    "## 6)\n",
    "\n",
    "> Encontre os outliers nos dados das bases Iris e BostonHouse."
   ]
  },
  {
   "cell_type": "code",
   "execution_count": 22,
   "metadata": {
    "colab": {},
    "colab_type": "code",
    "id": "x9OwCH8e-AOj"
   },
   "outputs": [],
   "source": [
    "# Para encontrar outliers podemos utilizar a diferença interquartil como demonstrado em aula\n",
    "# Como precisamos encontrar os outliers para os dois conjuntos de dados,\n",
    "# podemos criar uma função para reutilizar em ambos\n",
    "\n",
    "def detecta_outliers(df):\n",
    "    q1 = df.quantile(0.25)\n",
    "    q3 = df.quantile(0.75)\n",
    "    iqr = q3 - q1\n",
    "    matches = ((df < (q1 - 1.5 * iqr)) | (df > (q3 + 1.5 * iqr)))\n",
    "    return df[matches.any(1)]"
   ]
  },
  {
   "cell_type": "markdown",
   "metadata": {
    "colab_type": "text",
    "id": "nBUItXqg-AOp"
   },
   "source": [
    "### Iris"
   ]
  },
  {
   "cell_type": "code",
   "execution_count": 23,
   "metadata": {
    "colab": {
     "base_uri": "https://localhost:8080/",
     "height": 166
    },
    "colab_type": "code",
    "executionInfo": {
     "elapsed": 596,
     "status": "ok",
     "timestamp": 1581741409092,
     "user": {
      "displayName": "Matheus Marzola Gomes",
      "photoUrl": "",
      "userId": "02871632334414994318"
     },
     "user_tz": 180
    },
    "id": "sBl8-b5I-AOq",
    "outputId": "f5c661a9-7358-44b0-d36d-91e5d92fd993"
   },
   "outputs": [
    {
     "data": {
      "text/html": [
       "<div>\n",
       "<style scoped>\n",
       "    .dataframe tbody tr th:only-of-type {\n",
       "        vertical-align: middle;\n",
       "    }\n",
       "\n",
       "    .dataframe tbody tr th {\n",
       "        vertical-align: top;\n",
       "    }\n",
       "\n",
       "    .dataframe thead th {\n",
       "        text-align: right;\n",
       "    }\n",
       "</style>\n",
       "<table border=\"1\" class=\"dataframe\">\n",
       "  <thead>\n",
       "    <tr style=\"text-align: right;\">\n",
       "      <th></th>\n",
       "      <th>sepal_length</th>\n",
       "      <th>sepal_width</th>\n",
       "      <th>petal_length</th>\n",
       "      <th>petal_width</th>\n",
       "    </tr>\n",
       "  </thead>\n",
       "  <tbody>\n",
       "    <tr>\n",
       "      <th>15</th>\n",
       "      <td>5.7</td>\n",
       "      <td>4.4</td>\n",
       "      <td>1.5</td>\n",
       "      <td>0.4</td>\n",
       "    </tr>\n",
       "    <tr>\n",
       "      <th>32</th>\n",
       "      <td>5.2</td>\n",
       "      <td>4.1</td>\n",
       "      <td>1.5</td>\n",
       "      <td>0.1</td>\n",
       "    </tr>\n",
       "    <tr>\n",
       "      <th>33</th>\n",
       "      <td>5.5</td>\n",
       "      <td>4.2</td>\n",
       "      <td>1.4</td>\n",
       "      <td>0.2</td>\n",
       "    </tr>\n",
       "    <tr>\n",
       "      <th>60</th>\n",
       "      <td>5.0</td>\n",
       "      <td>2.0</td>\n",
       "      <td>3.5</td>\n",
       "      <td>1.0</td>\n",
       "    </tr>\n",
       "  </tbody>\n",
       "</table>\n",
       "</div>"
      ],
      "text/plain": [
       "    sepal_length  sepal_width  petal_length  petal_width\n",
       "15           5.7          4.4           1.5          0.4\n",
       "32           5.2          4.1           1.5          0.1\n",
       "33           5.5          4.2           1.4          0.2\n",
       "60           5.0          2.0           3.5          1.0"
      ]
     },
     "execution_count": 23,
     "metadata": {},
     "output_type": "execute_result"
    }
   ],
   "source": [
    "# leitura do arquivo csv\n",
    "iris = pd.read_csv('data/iris.csv')\n",
    "\n",
    "# elimina a variavel target para o processo de deteção de outliers\n",
    "iris = iris.drop(columns='species')\n",
    "\n",
    "detecta_outliers(iris)"
   ]
  },
  {
   "cell_type": "markdown",
   "metadata": {
    "colab_type": "text",
    "id": "0_bWVmzI-AOy"
   },
   "source": [
    "### Boston House"
   ]
  },
  {
   "cell_type": "code",
   "execution_count": 24,
   "metadata": {
    "colab": {
     "base_uri": "https://localhost:8080/",
     "height": 402
    },
    "colab_type": "code",
    "executionInfo": {
     "elapsed": 591,
     "status": "ok",
     "timestamp": 1581741419442,
     "user": {
      "displayName": "Matheus Marzola Gomes",
      "photoUrl": "",
      "userId": "02871632334414994318"
     },
     "user_tz": 180
    },
    "id": "qcAcnMM7-AO1",
    "outputId": "a7631cc7-f739-4296-d63c-254750b94152"
   },
   "outputs": [
    {
     "data": {
      "text/html": [
       "<div>\n",
       "<style scoped>\n",
       "    .dataframe tbody tr th:only-of-type {\n",
       "        vertical-align: middle;\n",
       "    }\n",
       "\n",
       "    .dataframe tbody tr th {\n",
       "        vertical-align: top;\n",
       "    }\n",
       "\n",
       "    .dataframe thead th {\n",
       "        text-align: right;\n",
       "    }\n",
       "</style>\n",
       "<table border=\"1\" class=\"dataframe\">\n",
       "  <thead>\n",
       "    <tr style=\"text-align: right;\">\n",
       "      <th></th>\n",
       "      <th>crim</th>\n",
       "      <th>zn</th>\n",
       "      <th>indus</th>\n",
       "      <th>chas</th>\n",
       "      <th>nox</th>\n",
       "      <th>rm</th>\n",
       "      <th>age</th>\n",
       "      <th>dis</th>\n",
       "      <th>rad</th>\n",
       "      <th>tax</th>\n",
       "      <th>ptratio</th>\n",
       "      <th>b</th>\n",
       "      <th>lstat</th>\n",
       "      <th>medv</th>\n",
       "    </tr>\n",
       "  </thead>\n",
       "  <tbody>\n",
       "    <tr>\n",
       "      <th>18</th>\n",
       "      <td>0.80271</td>\n",
       "      <td>0.0</td>\n",
       "      <td>8.14</td>\n",
       "      <td>0</td>\n",
       "      <td>0.538</td>\n",
       "      <td>5.456</td>\n",
       "      <td>36.6</td>\n",
       "      <td>3.7965</td>\n",
       "      <td>4</td>\n",
       "      <td>307</td>\n",
       "      <td>21.0</td>\n",
       "      <td>288.99</td>\n",
       "      <td>11.69</td>\n",
       "      <td>20.2</td>\n",
       "    </tr>\n",
       "    <tr>\n",
       "      <th>25</th>\n",
       "      <td>0.84054</td>\n",
       "      <td>0.0</td>\n",
       "      <td>8.14</td>\n",
       "      <td>0</td>\n",
       "      <td>0.538</td>\n",
       "      <td>5.599</td>\n",
       "      <td>85.7</td>\n",
       "      <td>4.4546</td>\n",
       "      <td>4</td>\n",
       "      <td>307</td>\n",
       "      <td>21.0</td>\n",
       "      <td>303.42</td>\n",
       "      <td>16.51</td>\n",
       "      <td>13.9</td>\n",
       "    </tr>\n",
       "    <tr>\n",
       "      <th>27</th>\n",
       "      <td>0.95577</td>\n",
       "      <td>0.0</td>\n",
       "      <td>8.14</td>\n",
       "      <td>0</td>\n",
       "      <td>0.538</td>\n",
       "      <td>6.047</td>\n",
       "      <td>88.8</td>\n",
       "      <td>4.4534</td>\n",
       "      <td>4</td>\n",
       "      <td>307</td>\n",
       "      <td>21.0</td>\n",
       "      <td>306.38</td>\n",
       "      <td>17.28</td>\n",
       "      <td>14.8</td>\n",
       "    </tr>\n",
       "    <tr>\n",
       "      <th>32</th>\n",
       "      <td>1.38799</td>\n",
       "      <td>0.0</td>\n",
       "      <td>8.14</td>\n",
       "      <td>0</td>\n",
       "      <td>0.538</td>\n",
       "      <td>5.950</td>\n",
       "      <td>82.0</td>\n",
       "      <td>3.9900</td>\n",
       "      <td>4</td>\n",
       "      <td>307</td>\n",
       "      <td>21.0</td>\n",
       "      <td>232.60</td>\n",
       "      <td>27.71</td>\n",
       "      <td>13.2</td>\n",
       "    </tr>\n",
       "    <tr>\n",
       "      <th>34</th>\n",
       "      <td>1.61282</td>\n",
       "      <td>0.0</td>\n",
       "      <td>8.14</td>\n",
       "      <td>0</td>\n",
       "      <td>0.538</td>\n",
       "      <td>6.096</td>\n",
       "      <td>96.9</td>\n",
       "      <td>3.7598</td>\n",
       "      <td>4</td>\n",
       "      <td>307</td>\n",
       "      <td>21.0</td>\n",
       "      <td>248.31</td>\n",
       "      <td>20.34</td>\n",
       "      <td>13.5</td>\n",
       "    </tr>\n",
       "    <tr>\n",
       "      <th>...</th>\n",
       "      <td>...</td>\n",
       "      <td>...</td>\n",
       "      <td>...</td>\n",
       "      <td>...</td>\n",
       "      <td>...</td>\n",
       "      <td>...</td>\n",
       "      <td>...</td>\n",
       "      <td>...</td>\n",
       "      <td>...</td>\n",
       "      <td>...</td>\n",
       "      <td>...</td>\n",
       "      <td>...</td>\n",
       "      <td>...</td>\n",
       "      <td>...</td>\n",
       "    </tr>\n",
       "    <tr>\n",
       "      <th>477</th>\n",
       "      <td>15.02340</td>\n",
       "      <td>0.0</td>\n",
       "      <td>18.10</td>\n",
       "      <td>0</td>\n",
       "      <td>0.614</td>\n",
       "      <td>5.304</td>\n",
       "      <td>97.3</td>\n",
       "      <td>2.1007</td>\n",
       "      <td>24</td>\n",
       "      <td>666</td>\n",
       "      <td>20.2</td>\n",
       "      <td>349.48</td>\n",
       "      <td>24.91</td>\n",
       "      <td>12.0</td>\n",
       "    </tr>\n",
       "    <tr>\n",
       "      <th>478</th>\n",
       "      <td>10.23300</td>\n",
       "      <td>0.0</td>\n",
       "      <td>18.10</td>\n",
       "      <td>0</td>\n",
       "      <td>0.614</td>\n",
       "      <td>6.185</td>\n",
       "      <td>96.7</td>\n",
       "      <td>2.1705</td>\n",
       "      <td>24</td>\n",
       "      <td>666</td>\n",
       "      <td>20.2</td>\n",
       "      <td>379.70</td>\n",
       "      <td>18.03</td>\n",
       "      <td>14.6</td>\n",
       "    </tr>\n",
       "    <tr>\n",
       "      <th>479</th>\n",
       "      <td>14.33370</td>\n",
       "      <td>0.0</td>\n",
       "      <td>18.10</td>\n",
       "      <td>0</td>\n",
       "      <td>0.614</td>\n",
       "      <td>6.229</td>\n",
       "      <td>88.0</td>\n",
       "      <td>1.9512</td>\n",
       "      <td>24</td>\n",
       "      <td>666</td>\n",
       "      <td>20.2</td>\n",
       "      <td>383.32</td>\n",
       "      <td>13.11</td>\n",
       "      <td>21.4</td>\n",
       "    </tr>\n",
       "    <tr>\n",
       "      <th>489</th>\n",
       "      <td>0.18337</td>\n",
       "      <td>0.0</td>\n",
       "      <td>27.74</td>\n",
       "      <td>0</td>\n",
       "      <td>0.609</td>\n",
       "      <td>5.414</td>\n",
       "      <td>98.3</td>\n",
       "      <td>1.7554</td>\n",
       "      <td>4</td>\n",
       "      <td>711</td>\n",
       "      <td>20.1</td>\n",
       "      <td>344.05</td>\n",
       "      <td>23.97</td>\n",
       "      <td>7.0</td>\n",
       "    </tr>\n",
       "    <tr>\n",
       "      <th>490</th>\n",
       "      <td>0.20746</td>\n",
       "      <td>0.0</td>\n",
       "      <td>27.74</td>\n",
       "      <td>0</td>\n",
       "      <td>0.609</td>\n",
       "      <td>5.093</td>\n",
       "      <td>98.0</td>\n",
       "      <td>1.8226</td>\n",
       "      <td>4</td>\n",
       "      <td>711</td>\n",
       "      <td>20.1</td>\n",
       "      <td>318.43</td>\n",
       "      <td>29.68</td>\n",
       "      <td>8.1</td>\n",
       "    </tr>\n",
       "  </tbody>\n",
       "</table>\n",
       "<p>238 rows × 14 columns</p>\n",
       "</div>"
      ],
      "text/plain": [
       "         crim   zn  indus  chas    nox     rm   age     dis  rad  tax  \\\n",
       "18    0.80271  0.0   8.14     0  0.538  5.456  36.6  3.7965    4  307   \n",
       "25    0.84054  0.0   8.14     0  0.538  5.599  85.7  4.4546    4  307   \n",
       "27    0.95577  0.0   8.14     0  0.538  6.047  88.8  4.4534    4  307   \n",
       "32    1.38799  0.0   8.14     0  0.538  5.950  82.0  3.9900    4  307   \n",
       "34    1.61282  0.0   8.14     0  0.538  6.096  96.9  3.7598    4  307   \n",
       "..        ...  ...    ...   ...    ...    ...   ...     ...  ...  ...   \n",
       "477  15.02340  0.0  18.10     0  0.614  5.304  97.3  2.1007   24  666   \n",
       "478  10.23300  0.0  18.10     0  0.614  6.185  96.7  2.1705   24  666   \n",
       "479  14.33370  0.0  18.10     0  0.614  6.229  88.0  1.9512   24  666   \n",
       "489   0.18337  0.0  27.74     0  0.609  5.414  98.3  1.7554    4  711   \n",
       "490   0.20746  0.0  27.74     0  0.609  5.093  98.0  1.8226    4  711   \n",
       "\n",
       "     ptratio       b  lstat  medv  \n",
       "18      21.0  288.99  11.69  20.2  \n",
       "25      21.0  303.42  16.51  13.9  \n",
       "27      21.0  306.38  17.28  14.8  \n",
       "32      21.0  232.60  27.71  13.2  \n",
       "34      21.0  248.31  20.34  13.5  \n",
       "..       ...     ...    ...   ...  \n",
       "477     20.2  349.48  24.91  12.0  \n",
       "478     20.2  379.70  18.03  14.6  \n",
       "479     20.2  383.32  13.11  21.4  \n",
       "489     20.1  344.05  23.97   7.0  \n",
       "490     20.1  318.43  29.68   8.1  \n",
       "\n",
       "[238 rows x 14 columns]"
      ]
     },
     "execution_count": 24,
     "metadata": {},
     "output_type": "execute_result"
    }
   ],
   "source": [
    "# leitura do arquivo csv\n",
    "boston = pd.read_csv('data/BostonHousing.csv')\n",
    "\n",
    "# variavel nox e medv podem ser usadas em tarefas preditivas,\n",
    "# porem como não sabemos qual delas será o target,\n",
    "# utilizamos todo o conjunto de dados, caso contrário as variaveis\n",
    "# deveriam ser descartadas para a analise de outliers\n",
    "# https://www.cs.toronto.edu/~delve/data/boston/bostonDetail.html\n",
    "\n",
    "detecta_outliers(boston)"
   ]
  },
  {
   "cell_type": "markdown",
   "metadata": {
    "colab_type": "text",
    "id": "WtoS3JrF-AO5"
   },
   "source": [
    "## 8)\n",
    "\n",
    "> Realize o PCA nos dados da base BostonHouse."
   ]
  },
  {
   "cell_type": "code",
   "execution_count": 25,
   "metadata": {
    "colab": {
     "base_uri": "https://localhost:8080/",
     "height": 366
    },
    "colab_type": "code",
    "executionInfo": {
     "elapsed": 824,
     "status": "ok",
     "timestamp": 1581741422036,
     "user": {
      "displayName": "Matheus Marzola Gomes",
      "photoUrl": "",
      "userId": "02871632334414994318"
     },
     "user_tz": 180
    },
    "id": "TtqV5rOB-AO6",
    "outputId": "322e8597-c944-408d-dbaf-14b3985d97da"
   },
   "outputs": [
    {
     "data": {
      "image/png": "[encoded data removed]",
      "text/plain": [
       "<Figure size 576x360 with 1 Axes>"
      ]
     },
     "metadata": {
      "needs_background": "light"
     },
     "output_type": "display_data"
    }
   ],
   "source": [
    "boston = pd.read_csv('data/BostonHousing.csv')\n",
    "\n",
    "# Como temos 14 variaveis, podemos reduzir a dimensionalidade para qualquer valor abaixo disso\n",
    "# Portanto, criamos uma lista com todas possibilidades para analizarmos qual é o minimo\n",
    "# dimensoes que podemos reduzir ainda sendo possivel explicar sua variancia\n",
    "n_components_values = np.arange(1, len(boston.columns) + 1)\n",
    "\n",
    "# Vamos padronizar os dados, de modo a evitar o efeito da escala dos atributos.\n",
    "scaler = StandardScaler().fit(boston)\n",
    "boston_transformed = scaler.transform(boston)\n",
    "\n",
    "# instanciamos o PCA sem especificar o numero de componentes que desejamos\n",
    "# em seguida ajustamos ao nosso conjunto de dados\n",
    "pca = PCA().fit(boston_transformed)\n",
    "\n",
    "# mostra a variância acumulada para todos os possiveis numeros de componentes\n",
    "# Notamos que com apenas duas variaveis conseguimos explicar 95% da variancia dos dados\n",
    "plt.figure(figsize=(8, 5))\n",
    "plt.plot(n_components_values, np.cumsum(pca.explained_variance_ratio_), 'ro-')\n",
    "plt.xlabel('number of components', fontsize=20)\n",
    "plt.ylabel('cumulative explained variance', fontsize=20);\n",
    "plt.xticks(color='k', size=16)\n",
    "plt.yticks(color='k', size=16)\n",
    "plt.grid(True)\n",
    "plt.show(True)"
   ]
  },
  {
   "cell_type": "code",
   "execution_count": null,
   "metadata": {
    "colab": {},
    "colab_type": "code",
    "id": "v0XYyVNNp8av"
   },
   "outputs": [],
   "source": []
  }
 ],
 "metadata": {
  "colab": {
   "collapsed_sections": [],
   "name": "Exercicios de fixacao.ipynb",
   "provenance": []
  },
  "kernelspec": {
   "display_name": "Python 3",
   "language": "python",
   "name": "python3"
  },
  "language_info": {
   "codemirror_mode": {
    "name": "ipython",
    "version": 3
   },
   "file_extension": ".py",
   "mimetype": "text/x-python",
   "name": "python",
   "nbconvert_exporter": "python",
   "pygments_lexer": "ipython3",
   "version": "3.7.4"
  }
 },
 "nbformat": 4,
 "nbformat_minor": 1
}
