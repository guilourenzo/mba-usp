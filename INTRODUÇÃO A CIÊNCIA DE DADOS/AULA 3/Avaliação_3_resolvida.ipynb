{
  "nbformat": 4,
  "nbformat_minor": 0,
  "metadata": {
    "kernelspec": {
      "display_name": "Python 3.8",
      "language": "python",
      "name": "python3.8"
    },
    "language_info": {
      "codemirror_mode": {
        "name": "ipython",
        "version": 3
      },
      "file_extension": ".py",
      "mimetype": "text/x-python",
      "name": "python",
      "nbconvert_exporter": "python",
      "pygments_lexer": "ipython3",
      "version": "3.8.1"
    },
    "colab": {
      "name": "Avaliação.ipynb",
      "provenance": [],
      "toc_visible": true
    }
  },
  "cells": [
    {
      "cell_type": "code",
      "metadata": {
        "id": "Ya_9swKI4VqA",
        "colab_type": "code",
        "colab": {}
      },
      "source": [
        "import random # gerador de números aleatórios\n",
        "import numpy as np # biblioteca Numpy para manipulação de Matrizes\n",
        "import pandas as pd # biblioteca Pandas é usada para manipulação de Tabelas\n",
        "import matplotlib.pyplot as plt # biblioteca para visualização dos dados\n",
        "\n",
        "from sklearn.preprocessing import StandardScaler # modulo para padronizar os dados\n",
        "from sklearn.preprocessing import MinMaxScaler # modulo para normalizar os dados\n",
        "from sklearn.decomposition import PCA # modulo para aplicar PCA nos dados\n",
        "\n",
        "random.seed(1) "
      ],
      "execution_count": 0,
      "outputs": []
    },
    {
      "cell_type": "markdown",
      "metadata": {
        "id": "BllV_ZOR4VqG",
        "colab_type": "text"
      },
      "source": [
        "## 1) Para os dados da iris com erros, após remover as linhas contendo NaN e '?', quantas observações sobraram?"
      ]
    },
    {
      "cell_type": "code",
      "metadata": {
        "id": "3foDIS2-4VqH",
        "colab_type": "code",
        "outputId": "2a5591a4-83d7-49ed-e467-aef2a45c6a93",
        "colab": {
          "base_uri": "https://localhost:8080/",
          "height": 34
        }
      },
      "source": [
        "df = pd.read_csv('data/iris-with-errors.csv')\n",
        "\n",
        "df = df.replace('?', np.nan)\n",
        "df = df.dropna()\n",
        "n_rows = len(df)\n",
        "\n",
        "print(f'Resposta: {n_rows}')"
      ],
      "execution_count": 0,
      "outputs": [
        {
          "output_type": "stream",
          "text": [
            "Resposta: 19\n"
          ],
          "name": "stdout"
        }
      ]
    },
    {
      "cell_type": "markdown",
      "metadata": {
        "id": "Zf8iiJch4VqL",
        "colab_type": "text"
      },
      "source": [
        "## 2) Usando a distância interquantil e o critério de que uma observação é um outlier se ao menos uma das variáveis está fora dos limites máximos do boxplot, quantos outliers há nos dados da Iris? (Veja o exemplo da aula)"
      ]
    },
    {
      "cell_type": "code",
      "metadata": {
        "id": "zXSU659U4VqM",
        "colab_type": "code",
        "colab": {}
      },
      "source": [
        "def detecta_outliers(df):\n",
        "    q1 = df.quantile(0.25)\n",
        "    q3 = df.quantile(0.75)\n",
        "    iqr = q3 - q1\n",
        "    matches = ((df < (q1 - 1.5 * iqr)) | (df > (q3 + 1.5 * iqr)))\n",
        "    return df[matches.any(1)]"
      ],
      "execution_count": 0,
      "outputs": []
    },
    {
      "cell_type": "code",
      "metadata": {
        "id": "K7iwWpSZ4VqP",
        "colab_type": "code",
        "outputId": "c0497583-1f47-4eb8-b8af-f554f8b618e6",
        "colab": {
          "base_uri": "https://localhost:8080/",
          "height": 34
        }
      },
      "source": [
        "iris = pd.read_csv('data/iris.csv')\n",
        "n_outliers_iris = len(detecta_outliers(iris))\n",
        "\n",
        "print(f'Resposta: {n_outliers_iris}')"
      ],
      "execution_count": 0,
      "outputs": [
        {
          "output_type": "stream",
          "text": [
            "Resposta: 4\n"
          ],
          "name": "stdout"
        }
      ]
    },
    {
      "cell_type": "markdown",
      "metadata": {
        "id": "L2kXGd-h4VqS",
        "colab_type": "text"
      },
      "source": [
        "## 3) Usando a distância interquantil e o critério de que uma observação é um outlier se ao menos uma das variáveis está fora dos limites máximos do boxplot, quantos outliers há nos dados BostonHouse?"
      ]
    },
    {
      "cell_type": "code",
      "metadata": {
        "id": "j4KOe1kJ4VqS",
        "colab_type": "code",
        "outputId": "c713a4b2-b3bd-4fef-b740-5e6199f2172e",
        "colab": {}
      },
      "source": [
        "boston = pd.read_csv('data/BostonHousing.csv')\n",
        "n_outliers_boston = len(detecta_outliers(boston))\n",
        "\n",
        "print(f'Resposta: {n_outliers_boston}')"
      ],
      "execution_count": 0,
      "outputs": [
        {
          "output_type": "stream",
          "text": [
            "Resposta: 238\n"
          ],
          "name": "stdout"
        }
      ]
    },
    {
      "cell_type": "markdown",
      "metadata": {
        "id": "ZbDZti7p4VqZ",
        "colab_type": "text"
      },
      "source": [
        "## 4) Quantas variáveis são necessárias para se explicar ao menos 90% da variância nos dados Vehicle?"
      ]
    },
    {
      "cell_type": "code",
      "metadata": {
        "id": "LPz5bQX24Vqa",
        "colab_type": "code",
        "outputId": "2815d102-b35a-4253-8b36-bafd5460c6a8",
        "colab": {}
      },
      "source": [
        "vehicle = pd.read_csv('data/Vehicle.csv')\n",
        "\n",
        "# Utilizamos somente as variaveis e não o target no PCA\n",
        "X_vehicle = vehicle.drop(columns='Class')\n",
        "\n",
        "# Podemos reduzir a dimensionalidade para qualquer valor abaixo da quantidade de features que temos\n",
        "# Portanto, criamos uma lista com todas possibilidades para analizarmos qual é o minimo\n",
        "# dimensoes que podemos reduzir ainda sendo possivel explicar sua variancia\n",
        "n_components_values = np.arange(1, len(X_vehicle.columns) + 1)\n",
        "\n",
        "# Vamos padronizar os dados, de modo a evitar o efeito da escala dos atributos.\n",
        "X_vehicle_standarized = StandardScaler().fit_transform(X_vehicle)\n",
        "\n",
        "# Instanciamos o PCA sem especificar o numero de componentes que desejamos\n",
        "# em seguida ajustamos ao nosso conjunto de dados\n",
        "pca = PCA().fit(X_vehicle_standarized)\n",
        "\n",
        "# Mostra a variância acumulada para todos os possiveis numeros de componentes\n",
        "# Notamos que com apenas 5 variaveis, conseguimos explicar 90% da variancia dos dados\n",
        "plt.figure(figsize=(8, 5))\n",
        "plt.plot(n_components_values, np.cumsum(pca.explained_variance_ratio_), 'ro-')\n",
        "plt.xlabel('number of components', fontsize=16)\n",
        "plt.ylabel('cumulative explained variance', fontsize=16);\n",
        "plt.xticks(color='k', size=14)\n",
        "plt.yticks(color='k', size=14)\n",
        "plt.grid(True)\n",
        "plt.show(True)\n",
        "\n",
        "cumsum_variance = np.cumsum(pca.explained_variance_ratio_)\n",
        "n_variables = np.argmax(cumsum_variance > 0.90) + 1\n",
        "\n",
        "print(f'Resposta: {n_variables}')"
      ],
      "execution_count": 0,
      "outputs": [
        {
          "output_type": "display_data",
          "data": {
            "image/png": "[encoded data removed]",
            "text/plain": [
              "<Figure size 576x360 with 1 Axes>"
            ]
          },
          "metadata": {
            "tags": [],
            "needs_background": "light"
          }
        },
        {
          "output_type": "stream",
          "text": [
            "Resposta: 5\n"
          ],
          "name": "stdout"
        }
      ]
    },
    {
      "cell_type": "markdown",
      "metadata": {
        "id": "wWK-N6Tp4Vqd",
        "colab_type": "text"
      },
      "source": [
        "## 5) Quantas variáveis são necessárias para se explicar ao menos 80% da variância nos dados BostonHousing?"
      ]
    },
    {
      "cell_type": "code",
      "metadata": {
        "id": "I6P5jAWL4Vqe",
        "colab_type": "code",
        "outputId": "7ca8a8ec-18f4-4941-a7c0-e7483048cfef",
        "colab": {}
      },
      "source": [
        "boston = pd.read_csv('data/BostonHousing.csv')\n",
        "\n",
        "# Neste dataset, tanto a variavel nox quanto medv \n",
        "# podem ser usadas em tarefas preditivas[1], e como isso nao foi especificado,\n",
        "# todo o conjunto de dados pode ser é usado ou eliminar ambas das variaveis.\n",
        "# Em ambos dos casos retornaria a mesma resposta para o PCA\n",
        "# [1] https://www.cs.toronto.edu/~delve/data/boston/bostonDetail.html\n",
        "X_boston = boston.drop(columns=['nox','medv'])\n",
        "\n",
        "# Podemos reduzir a dimensionalidade para qualquer valor abaixo da quantidade de features que temos\n",
        "# Portanto, criamos uma lista com todas possibilidades para analizarmos qual é o minimo\n",
        "# dimensoes que podemos reduzir ainda sendo possivel explicar sua variancia\n",
        "n_components_values = np.arange(1, len(X_boston.columns) + 1)\n",
        "\n",
        "# Vamos padronizar os dados, de modo a evitar o efeito da escala dos atributos.\n",
        "X_boston_standarized = StandardScaler().fit_transform(X_boston)\n",
        "\n",
        "# Instanciamos o PCA sem especificar o numero de componentes que desejamos\n",
        "# em seguida ajustamos ao nosso conjunto de dados\n",
        "pca = PCA().fit(X_boston_standarized)\n",
        "\n",
        "# Mostra a variância acumulada para todos os possiveis numeros de componentes\n",
        "# Notamos que com apenas 5 variaveis, conseguimos explicar 80% da variancia dos dados\n",
        "plt.figure(figsize=(8, 5))\n",
        "plt.plot(n_components_values, np.cumsum(pca.explained_variance_ratio_), 'ro-')\n",
        "plt.xlabel('number of components', fontsize=16)\n",
        "plt.ylabel('cumulative explained variance', fontsize=16);\n",
        "plt.xticks(color='k', size=14)\n",
        "plt.yticks(color='k', size=14)\n",
        "plt.grid(True)\n",
        "plt.show(True)\n",
        "\n",
        "cumsum_variance = np.cumsum(pca.explained_variance_ratio_)\n",
        "n_variables = np.argmax(cumsum_variance > 0.80) + 1\n",
        "\n",
        "print(f'Resposta: {n_variables}')"
      ],
      "execution_count": 0,
      "outputs": [
        {
          "output_type": "display_data",
          "data": {
            "image/png": "[encoded data removed]",
            "text/plain": [
              "<Figure size 576x360 with 1 Axes>"
            ]
          },
          "metadata": {
            "tags": [],
            "needs_background": "light"
          }
        },
        {
          "output_type": "stream",
          "text": [
            "Resposta: 5\n"
          ],
          "name": "stdout"
        }
      ]
    },
    {
      "cell_type": "code",
      "metadata": {
        "id": "UHBfCiaW4Vqh",
        "colab_type": "code",
        "colab": {}
      },
      "source": [
        ""
      ],
      "execution_count": 0,
      "outputs": []
    }
  ]
}