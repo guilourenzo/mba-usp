{
 "cells": [
  {
   "cell_type": "markdown",
   "metadata": {},
   "source": [
    "# Perceptron\n",
    "\n",
    "Um dos algoritmos de aprendizado de máquina mais simples é o Perceptron. O objetivo é criar um modelo capaz de separar as classes a partir de uma reta."
   ]
  },
  {
   "cell_type": "markdown",
   "metadata": {},
   "source": [
    "**Algumas vantagens:**\n",
    "\n",
    "- É muito simples e possui custo muito baixo.\n",
    "- Se o problema for linearmente separável, é capaz de encontrar uma reta que separa as classes.\n",
    "\n",
    "**Algumas desvantagens:**\n",
    "\n",
    "- A maioria dos problemas do mundo real não são linearmente separáveis, o perceptron não converge nesses casos.\n",
    "- A reta encontrada apenas separa as classes, não temos nenhuma garantia dessa separação ser **\"boa\"*** para o conjunto de testes\n",
    "\n",
    "__*este problema será abordado na próxima aula, sobre SVM__"
   ]
  },
  {
   "cell_type": "markdown",
   "metadata": {},
   "source": [
    "## No scikit-learn\n",
    "\n",
    "No scikit-learn, o perceptron pode ser implementado por 2 classes:\n",
    " - [Perceptron](https://scikit-learn.org/stable/modules/generated/sklearn.linear_model.Perceptron.html)\n",
    " - [SGDClassifier](https://scikit-learn.org/stable/modules/generated/sklearn.linear_model.SGDClassifier.html#sklearn.linear_model.SGDClassifier)"
   ]
  },
  {
   "cell_type": "markdown",
   "metadata": {},
   "source": [
    "## Como utilizar o perceptron para a tarefa de classificação?\n"
   ]
  },
  {
   "cell_type": "markdown",
   "metadata": {},
   "source": [
    "Utilizando a classe **Perceptron**"
   ]
  },
  {
   "cell_type": "code",
   "execution_count": 14,
   "metadata": {},
   "outputs": [
    {
     "name": "stdout",
     "output_type": "stream",
     "text": [
      "0.8466666666666667\n"
     ]
    }
   ],
   "source": [
    "from sklearn.datasets import load_iris\n",
    "from sklearn.preprocessing import StandardScaler\n",
    "from sklearn.linear_model import Perceptron\n",
    "from sklearn.model_selection import KFold\n",
    "from sklearn.pipeline import make_pipeline \n",
    "from sklearn.model_selection import cross_val_score\n",
    "import numpy as np\n",
    "\n",
    "\n",
    "X, y = load_iris(return_X_y=True)\n",
    "\n",
    "\n",
    "cv = KFold(n_splits=10, shuffle=True, random_state=42)\n",
    "\n",
    "model = make_pipeline(StandardScaler(), Perceptron(random_state=0))\n",
    "performance = cross_val_score(model, X, y, cv=cv, scoring = \"accuracy\")\n",
    "\n",
    "print(np.mean(performance))"
   ]
  },
  {
   "cell_type": "markdown",
   "metadata": {},
   "source": [
    "Utilizando a classe **SGDClassifier**"
   ]
  },
  {
   "cell_type": "code",
   "execution_count": 15,
   "metadata": {},
   "outputs": [
    {
     "name": "stdout",
     "output_type": "stream",
     "text": [
      "0.8466666666666667\n"
     ]
    }
   ],
   "source": [
    "from sklearn.datasets import load_iris\n",
    "from sklearn.preprocessing import StandardScaler\n",
    "from sklearn.linear_model import SGDClassifier\n",
    "from sklearn.model_selection import KFold\n",
    "from sklearn.pipeline import make_pipeline \n",
    "from sklearn.model_selection import cross_val_score\n",
    "import numpy as np\n",
    "\n",
    "\n",
    "X, y = load_iris(return_X_y=True)\n",
    "\n",
    "cv = KFold(n_splits=10, shuffle=True, random_state=42)\n",
    "\n",
    "model = make_pipeline(StandardScaler(), SGDClassifier(loss=\"perceptron\", eta0=1, learning_rate=\"constant\", penalty=None))\n",
    "performance = cross_val_score(model, X, y, cv=cv, scoring = \"accuracy\")\n",
    "\n",
    "print(np.mean(performance))"
   ]
  },
  {
   "cell_type": "markdown",
   "metadata": {},
   "source": [
    "# Multilayer Perceptron (MLP)\n",
    "\n",
    "A MLP é um método mais robusto que o perceptron, que através da conexão de neurônios e uma ou mais camadas intermediárias, consegue aprender a aproximar funções lineares e não lineares.\n",
    "\n",
    "**Algumas vantagens:**\n",
    "\n",
    "- Eficiência computacional, pode ser facilmente paralelizável\n",
    "- Estima a função de decisão necessária diretamente por meio do treinamento.\n",
    "- Uma MLP de duas camadas escondidas com nós suficientes é provada matematicamente ser um aproximador universal de qualquer função.\n",
    "\n",
    "**Algumas desvantagens:**\n",
    "\n",
    "- Convergência pode ser lenta\n",
    "- Mínimos locais afetam o treinamento\n",
    "- O conjunto de retas encontrado apenas separa as classes, não temos nenhuma garantia dessa separação ser **boa*** para o conjunto de testes \n",
    "\n",
    "__*este problema será abordado na próxima aula, sobre SVM__\n"
   ]
  },
  {
   "cell_type": "markdown",
   "metadata": {},
   "source": [
    "## No scikit-learn\n",
    "\n",
    "No scikit-learn, a MLP pode ser encontrada tanto para classificação [MLPClassifier](https://scikit-learn.org/stable/modules/generated/sklearn.neural_network.MLPClassifier.html) quanto para regressão [MLPRegressor](https://scikit-learn.org/stable/modules/generated/sklearn.neural_network.MLPRegressor.html#sklearn.neural_network.MLPRegressor). \n"
   ]
  },
  {
   "cell_type": "markdown",
   "metadata": {},
   "source": [
    "## Como utilizar a MLP para a tarefa de classificação?"
   ]
  },
  {
   "cell_type": "code",
   "execution_count": 2,
   "metadata": {},
   "outputs": [
    {
     "name": "stdout",
     "output_type": "stream",
     "text": [
      "0.9666666666666668\n"
     ]
    }
   ],
   "source": [
    "from sklearn.datasets import load_iris\n",
    "from sklearn.preprocessing import StandardScaler\n",
    "from sklearn.neural_network import MLPClassifier\n",
    "from sklearn.model_selection import KFold\n",
    "from sklearn.pipeline import make_pipeline \n",
    "from sklearn.model_selection import cross_val_score\n",
    "import numpy as np\n",
    "\n",
    "\n",
    "X, y = load_iris(return_X_y=True)\n",
    "\n",
    "cv = KFold(n_splits=10, shuffle=True, random_state=42)\n",
    "\n",
    "model = make_pipeline(StandardScaler(), MLPClassifier(max_iter=1000))\n",
    "performance = cross_val_score(model, X, y, cv=cv, scoring = \"accuracy\")\n",
    "\n",
    "print(np.mean(performance))"
   ]
  },
  {
   "cell_type": "markdown",
   "metadata": {},
   "source": [
    "Para acessar os pesos calculados no processo de treinamento, você pode usar o atributo `coefs_` da sua rede neural já treinada."
   ]
  },
  {
   "cell_type": "code",
   "execution_count": 12,
   "metadata": {},
   "outputs": [
    {
     "data": {
      "text/plain": [
       "[array([[-0.22665195,  0.14521306, -0.04231073,  0.09941253, -0.50270479,\n",
       "          0.15274635,  0.22467538,  0.15216429,  0.16266826, -0.01581403,\n",
       "         -0.00586683,  0.33643897,  0.14945403, -0.14824915, -0.03608964,\n",
       "         -0.01673601,  0.16008484,  0.18526999,  0.02085585,  0.08757106,\n",
       "          0.07509402,  0.07960244, -0.00848978,  0.18726588, -0.03801754,\n",
       "         -0.27308653,  0.00643824,  0.09595058,  0.10791603, -0.25940136,\n",
       "          0.04033327, -0.03267171,  0.28012002, -0.09023729,  0.22007843,\n",
       "         -0.15789588,  0.07294502,  0.15651243,  0.28494676,  0.04049199,\n",
       "          0.07099127,  0.06319616, -0.03854872, -0.17166416, -0.13518824,\n",
       "         -0.04573259, -0.11042408,  0.17002945, -0.19973903,  0.22974515,\n",
       "         -0.27871943, -0.08790089, -0.10347021, -0.12018615, -0.22330153,\n",
       "          0.21193187,  0.14656037,  0.47921121,  0.33196992, -0.0768321 ,\n",
       "          0.19175733, -0.29483725,  0.25046983, -0.01176216,  0.00258607,\n",
       "          0.08900837, -0.07894917, -0.07949698, -0.03135389,  0.01966233,\n",
       "         -0.17928994,  0.10703046,  0.0844833 , -0.02494531,  0.14061418,\n",
       "          0.20723275,  0.15673661, -0.12542662,  0.24984839, -0.33682252,\n",
       "          0.10846749, -0.12674794,  0.32730076, -0.36404796,  0.14823192,\n",
       "         -0.38136539,  0.01193632, -0.0868891 ,  0.39074837,  0.10132264,\n",
       "         -0.11594473, -0.04285599,  0.07967746, -0.04406808,  0.02616382,\n",
       "         -0.18450256, -0.09328597,  0.13751829,  0.14633072,  0.18583419],\n",
       "        [ 0.13676386, -0.36676864,  0.23154727, -0.11779802,  0.03027091,\n",
       "         -0.01697918, -0.1722378 ,  0.08848634, -0.04051546,  0.38798027,\n",
       "         -0.29948495, -0.37893635,  0.0964384 ,  0.10952909,  0.10746817,\n",
       "         -0.22213183,  0.14758116, -0.15636811, -0.16816716, -0.2066631 ,\n",
       "          0.26315207, -0.24688916, -0.18524836,  0.10507514, -0.09041384,\n",
       "          0.19155315,  0.00101507, -0.2539934 , -0.35171996,  0.0407746 ,\n",
       "         -0.17341361, -0.2462965 , -0.06209822,  0.15096964, -0.34611083,\n",
       "          0.10695955, -0.14579526, -0.35788047, -0.20809172, -0.21488842,\n",
       "         -0.20746418, -0.10200119,  0.02921029,  0.18435383,  0.19290208,\n",
       "         -0.10976876,  0.23210307, -0.09629183, -0.1304833 , -0.01369744,\n",
       "         -0.02502699,  0.00472174, -0.23183074,  0.11470329,  0.2352328 ,\n",
       "         -0.04842317, -0.15851509, -0.48466134, -0.06685387, -0.19502433,\n",
       "         -0.14896489,  0.27803063, -0.30010942, -0.29020474,  0.14107234,\n",
       "         -0.33670759,  0.12423395,  0.16039389, -0.07903109, -0.03161553,\n",
       "          0.00642058, -0.1010725 ,  0.28670364, -0.30121005,  0.00598076,\n",
       "         -0.14040157, -0.11270621,  0.11257183, -0.17179002,  0.14161799,\n",
       "         -0.07185866,  0.26257805, -0.25608062,  0.18296741, -0.16344171,\n",
       "          0.19130827, -0.04062488, -0.17748134, -0.04853748, -0.35799558,\n",
       "          0.06383921, -0.0686611 ,  0.02729748, -0.18422371, -0.04078224,\n",
       "          0.28087394, -0.16566755, -0.04651435,  0.01422905,  0.16147678],\n",
       "        [-0.2339192 , -0.14540151, -0.31731806, -0.22373269, -0.30846733,\n",
       "          0.13167946,  0.35513414, -0.11934617,  0.10631664,  0.07380469,\n",
       "          0.4250068 , -0.09719952, -0.12190955,  0.09548314,  0.13871481,\n",
       "         -0.33584018,  0.14510233,  0.182485  ,  0.01687231, -0.01901401,\n",
       "          0.1604683 ,  0.20622387,  0.37437952,  0.21876648, -0.15273762,\n",
       "         -0.05300918, -0.23904985, -0.02021381,  0.31632448, -0.17863017,\n",
       "         -0.06345859,  0.20868287,  0.33689197, -0.43246335,  0.13131027,\n",
       "         -0.33317239, -0.00290249,  0.3244959 , -0.00654523,  0.4733364 ,\n",
       "          0.15111917, -0.15467063,  0.07790639, -0.28402327,  0.07369933,\n",
       "          0.56924178, -0.23016221,  0.45092089, -0.20734252, -0.11664081,\n",
       "         -0.04536967, -0.31826185,  0.2931554 , -0.04753198, -0.20946667,\n",
       "         -0.36785579, -0.37990589, -0.17319699,  0.00332395,  0.13552741,\n",
       "          0.38150965, -0.38713123,  0.44308522, -0.33233996, -0.24310549,\n",
       "          0.55645922, -0.14375298, -0.09869417,  0.20270498,  0.17287954,\n",
       "         -0.10518466, -0.03189521, -0.01127921,  0.31785367, -0.27953076,\n",
       "         -0.31059875, -0.07570626,  0.12074761,  0.29401164,  0.01668093,\n",
       "          0.2049074 , -0.30571582,  0.12142636, -0.05138568,  0.18991965,\n",
       "         -0.07463981,  0.00313523,  0.0608922 ,  0.01184852,  0.2235328 ,\n",
       "         -0.03560593, -0.11003412, -0.0530828 , -0.56065178, -0.18635358,\n",
       "         -0.02068507, -0.03100373, -0.26510504,  0.08712819,  0.21454919],\n",
       "        [ 0.03911905, -0.2731958 ,  0.08669416,  0.17110684, -0.36793156,\n",
       "         -0.24832686,  0.26951984,  0.02463586,  0.23339495, -0.33958634,\n",
       "          0.46332206, -0.23501136, -0.34426864,  0.14264349, -0.03979305,\n",
       "         -0.11523275, -0.06114165,  0.30135039, -0.17014711,  0.02606592,\n",
       "          0.13578654,  0.48745561,  0.38609673, -0.08982699,  0.1050579 ,\n",
       "         -0.1267125 , -0.2051634 ,  0.0631185 ,  0.4527894 , -0.26012777,\n",
       "         -0.12961558,  0.21794199,  0.28183158, -0.25579416,  0.370262  ,\n",
       "         -0.02848086, -0.18052401,  0.3127263 , -0.04257549,  0.41763945,\n",
       "          0.42475161, -0.06968574, -0.22706254, -0.1210582 ,  0.02728461,\n",
       "          0.28126641,  0.08403351,  0.35085016, -0.29226998,  0.07237264,\n",
       "         -0.30444906, -0.17291328, -0.04091491, -0.06340393, -0.02302828,\n",
       "         -0.11563387, -0.0176745 , -0.29724264, -0.31789735, -0.05799096,\n",
       "          0.22199226, -0.12957684,  0.41609054, -0.37280946, -0.23608349,\n",
       "          0.36212657,  0.20931082,  0.13661383,  0.45821194, -0.08674937,\n",
       "         -0.19516464, -0.18028836, -0.27079976,  0.33350158, -0.14188779,\n",
       "         -0.29680545,  0.10215416, -0.05267017,  0.27633641, -0.38944507,\n",
       "          0.03561529, -0.28746784, -0.36872103, -0.03100109,  0.26220567,\n",
       "         -0.16814486, -0.23682108,  0.05739638, -0.05740496,  0.44475681,\n",
       "          0.11804491,  0.08162353,  0.1439651 , -0.21162759,  0.18044523,\n",
       "         -0.29602459, -0.17652736, -0.18811152,  0.18475752,  0.11414572]]),\n",
       " array([[ 0.22801359, -0.31953875, -0.24836045],\n",
       "        [-0.27176501,  0.05277109, -0.4721618 ],\n",
       "        [ 0.27841444, -0.05177929, -0.35510703],\n",
       "        [ 0.048439  , -0.17061131, -0.17712185],\n",
       "        [ 0.42968211, -0.53335918,  0.10809575],\n",
       "        [ 0.16468528,  0.03399897, -0.10248346],\n",
       "        [-0.14035035, -0.21502218,  0.18748285],\n",
       "        [-0.18053118,  0.14181607,  0.12993038],\n",
       "        [-0.29342443,  0.24118114,  0.22493619],\n",
       "        [ 0.44457226,  0.0986716 , -0.01403301],\n",
       "        [-0.36810007, -0.47115893,  0.15063609],\n",
       "        [-0.23085269,  0.31544445, -0.41504758],\n",
       "        [-0.19032582,  0.14527375, -0.50441202],\n",
       "        [ 0.16160837,  0.134828  , -0.06147104],\n",
       "        [-0.01382765,  0.14806588, -0.19846422],\n",
       "        [ 0.11782835,  0.47054882, -0.31483336],\n",
       "        [-0.20105117,  0.04504196,  0.18375433],\n",
       "        [-0.00589758, -0.11236909,  0.49086238],\n",
       "        [ 0.07528621, -0.07190108,  0.12757992],\n",
       "        [-0.32711839,  0.40722065, -0.14225411],\n",
       "        [-0.04047937, -0.16195284,  0.01249026],\n",
       "        [-0.16891579, -0.59452421,  0.52426079],\n",
       "        [-0.11317519, -0.33705158,  0.40952534],\n",
       "        [-0.35325869,  0.51028766, -0.07081409],\n",
       "        [-0.12144906, -0.10938214,  0.07808231],\n",
       "        [ 0.29125394, -0.14084203, -0.19987098],\n",
       "        [ 0.33192078, -0.40501191, -0.14762399],\n",
       "        [-0.08470981,  0.38232247,  0.01223272],\n",
       "        [-0.37571905, -0.53924392,  0.17819333],\n",
       "        [ 0.49050151, -0.35658915, -0.16118723],\n",
       "        [-0.06314319,  0.25645864, -0.31086989],\n",
       "        [-0.32926585,  0.059254  , -0.064866  ],\n",
       "        [-0.05770379, -0.31073327,  0.3817137 ],\n",
       "        [ 0.10065148, -0.1779641 , -0.28492593],\n",
       "        [-0.30134147, -0.18727593,  0.51997378],\n",
       "        [ 0.43336451, -0.33399481, -0.19708201],\n",
       "        [-0.04871344,  0.33366085, -0.17817636],\n",
       "        [-0.17324192,  0.19069827,  0.30913845],\n",
       "        [-0.27142605,  0.26652333, -0.20196422],\n",
       "        [-0.0025647 , -0.4389435 ,  0.31513766],\n",
       "        [-0.28462341, -0.50301603,  0.28911727],\n",
       "        [-0.14555178,  0.01035574,  0.14262567],\n",
       "        [ 0.18903998, -0.07010107, -0.23020521],\n",
       "        [ 0.28296333, -0.30618265, -0.26826651],\n",
       "        [ 0.06453379,  0.2728156 ,  0.02996609],\n",
       "        [ 0.04739831, -0.49220014,  0.30119987],\n",
       "        [ 0.32268266,  0.06624843, -0.4666965 ],\n",
       "        [-0.29986054, -0.29296436,  0.14658278],\n",
       "        [ 0.16112666, -0.20144858,  0.03278788],\n",
       "        [-0.3135316 ,  0.42631579, -0.15949361],\n",
       "        [ 0.51151811, -0.02365737, -0.15449481],\n",
       "        [ 0.0873525 , -0.2194368 , -0.12400276],\n",
       "        [-0.3120704 , -0.16675911,  0.11356343],\n",
       "        [ 0.03218309,  0.01821029, -0.13898318],\n",
       "        [ 0.32844149, -0.08670373, -0.15635565],\n",
       "        [-0.02361404,  0.15317814, -0.26416757],\n",
       "        [-0.09061904,  0.32186293, -0.37742144],\n",
       "        [-0.40414303,  0.46856436, -0.34647417],\n",
       "        [-0.07477447,  0.42596234, -0.24092219],\n",
       "        [-0.05153208,  0.18952594,  0.19808881],\n",
       "        [-0.14254228, -0.55505149,  0.42247785],\n",
       "        [-0.04257355, -0.2798071 , -0.14150453],\n",
       "        [-0.19760193, -0.33730447,  0.34609339],\n",
       "        [ 0.21393058, -0.17726366, -0.38234434],\n",
       "        [ 0.11050879, -0.35966122, -0.31861597],\n",
       "        [-0.01460252, -0.27065942,  0.48955011],\n",
       "        [-0.10094231,  0.06176182, -0.2653643 ],\n",
       "        [ 0.14306907, -0.29461366, -0.13267874],\n",
       "        [ 0.11962377, -0.49425915,  0.20374858],\n",
       "        [-0.14959552,  0.13539472,  0.14472534],\n",
       "        [-0.09855504, -0.37823346, -0.08378109],\n",
       "        [-0.12179258,  0.44375595, -0.26187438],\n",
       "        [ 0.2565677 ,  0.25373828, -0.46032749],\n",
       "        [-0.34512437, -0.22416352,  0.18109539],\n",
       "        [ 0.21076556,  0.31052812, -0.41515861],\n",
       "        [ 0.18512808,  0.34577353, -0.18444845],\n",
       "        [-0.34052948,  0.25627995, -0.20401167],\n",
       "        [-0.14783789, -0.11928135, -0.20223275],\n",
       "        [-0.16654253, -0.4689934 ,  0.41886419],\n",
       "        [ 0.27257473, -0.31226991,  0.00068107],\n",
       "        [-0.33322978,  0.17714857,  0.09500066],\n",
       "        [ 0.31623547, -0.18887019,  0.06289291],\n",
       "        [-0.31401663,  0.13877784, -0.41522691],\n",
       "        [ 0.39876598, -0.29825755,  0.0929951 ],\n",
       "        [-0.32858589, -0.31892206,  0.18087135],\n",
       "        [ 0.39479221, -0.42660194,  0.00769201],\n",
       "        [-0.11943345,  0.36252425, -0.23191069],\n",
       "        [-0.02947194,  0.37780267,  0.14111419],\n",
       "        [-0.26447835,  0.23717783, -0.14399988],\n",
       "        [-0.35264017, -0.21698113,  0.07582315],\n",
       "        [-0.0202038 ,  0.05717394, -0.10301829],\n",
       "        [-0.09311389,  0.40740905, -0.12839128],\n",
       "        [-0.24440277,  0.37937612, -0.17317415],\n",
       "        [ 0.43749568, -0.28179758, -0.56765804],\n",
       "        [ 0.1511704 ,  0.17493355, -0.1299141 ],\n",
       "        [ 0.17171725, -0.16958529, -0.12184086],\n",
       "        [ 0.07057986,  0.08799344,  0.1073825 ],\n",
       "        [ 0.21785961,  0.35369409, -0.15571074],\n",
       "        [-0.44023467,  0.09589358,  0.07703396],\n",
       "        [-0.12798237, -0.07721654,  0.51256368]])]"
      ]
     },
     "execution_count": 12,
     "metadata": {},
     "output_type": "execute_result"
    }
   ],
   "source": [
    "rede = model.fit(X,y)\n",
    "rede['mlpclassifier'].coefs_"
   ]
  },
  {
   "cell_type": "markdown",
   "metadata": {},
   "source": [
    "### Hiperparâmetros\n",
    "\n",
    "As redes neurais possuem muitos hiperparâmetros e elas são muito sensíveis a variação deles. A lista complexta de hiperparâmetros para MLPCLassifier pode ser acessada [aqui](https://scikit-learn.org/stable/modules/generated/sklearn.neural_network.MLPClassifier.html#sklearn.neural_network.MLPClassifier)\n",
    "\n",
    "# Para pensar e praticar\n",
    "\n",
    "1. O perceptron é um modelo simples e seu algoritmo foi discutido em vídeo-aula. Como implementá-lo em Python sem usar o sklearn? Como você estruturaria em código os pesos do perceptron? Como você implementaria o cálculo do perceptron? E a função de ajuste dos pesos?  \n",
    "\n",
    "\n",
    "2. Durante a vídeo-aula vimos que uma rede neural pode ser definida de acordo com os componentes de sua arquitetura e aprendizado, como **unidade de processamento**, **conexões**, **topologia** e **algoritmo de aprendizado**. Analisando a [lista de hiperparâmetros](https://scikit-learn.org/stable/modules/generated/sklearn.neural_network.MLPClassifier.html#sklearn.neural_network.MLPClassifier), quais deles definiem cada um desses componentes?\n",
    "\n",
    "\n",
    "3. Redes neurais são muito úteis quando usamos dados estruturados e também dados não estruturados, como imagens, vídeos ou audio. Mesmo redes neurais rasas como vimos em aula, podem ser capazes de aprender com imagens mais simples. A base MNIST, por exemplo, contém imagens digitalizadas de dígitos (como zero, um, dois) escritos à mão. Esta base pode ser acessada diretamente do repositório [OpenML](https://www.openml.org/) em Python, como no código abaixo. Você consegue criar uma rede neural capaz de predizer os dígitos? O que acontece quando você altera os componentes da sua rede neural? "
   ]
  },
  {
   "cell_type": "code",
   "execution_count": 17,
   "metadata": {},
   "outputs": [],
   "source": [
    "from sklearn.datasets import fetch_openml\n",
    "\n",
    "X, y = fetch_openml('mnist_784', version=1, return_X_y=True)"
   ]
  }
 ],
 "metadata": {
  "kernelspec": {
   "display_name": "Python 3",
   "language": "python",
   "name": "python3"
  },
  "language_info": {
   "codemirror_mode": {
    "name": "ipython",
    "version": 3
   },
   "file_extension": ".py",
   "mimetype": "text/x-python",
   "name": "python",
   "nbconvert_exporter": "python",
   "pygments_lexer": "ipython3",
   "version": "3.7.6"
  }
 },
 "nbformat": 4,
 "nbformat_minor": 4
}
