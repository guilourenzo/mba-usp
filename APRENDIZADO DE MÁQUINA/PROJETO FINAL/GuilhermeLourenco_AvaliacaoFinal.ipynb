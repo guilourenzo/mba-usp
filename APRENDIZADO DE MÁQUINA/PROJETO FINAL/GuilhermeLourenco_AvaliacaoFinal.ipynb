{
  "nbformat": 4,
  "nbformat_minor": 0,
  "metadata": {
    "colab": {
      "name": "prova ciencia de dados.ipynb",
      "provenance": [],
      "collapsed_sections": [],
      "toc_visible": true
    },
    "kernelspec": {
      "name": "python3",
      "display_name": "Python 3"
    }
  },
  "cells": [
    {
      "cell_type": "markdown",
      "metadata": {
        "id": "sXp1gm48wnv3",
        "colab_type": "text"
      },
      "source": [
        "<h1><center><b> MBA em Ciência de Dados </b></center></h1>\n",
        "<h3><center> CeMEAI - ICMC/USP - São Carlos</center></h3>\n",
        "\n",
        "<br><br>\n",
        "<h2><center><b> Avaliação Final </b></center></h2>\n",
        "<h3><center> Aprendizado de Máquina </center></h3>\n",
        "\n",
        "<br><br>\n",
        "<h4>Docente: Prof. Dr. André C. P. L. F. de Carvalho</h4>\n",
        "<h4>Tutores: Edesio, Eugênio, Gustavo, Moisés, Saulo e Victor</h4>\n",
        "<br><br>\n"
      ]
    },
    {
      "cell_type": "markdown",
      "metadata": {
        "id": "l4E4WDR0woFd",
        "colab_type": "text"
      },
      "source": [
        "<p><b>Instruções e Avisos:</b></p>\n",
        "<ul>\n",
        "  <li>A avaliação vale 10 pontos</li>\n",
        "  <li>As questões de 1 a 4, caso respondidas da forma correta, já totalizam\n",
        "10 pontos</li>\n",
        "  <li>A questão 5 é extra e vale 1 ponto</li>\n",
        "  <li>Responda as questões nas células reservadas para respostas, demarcadas com <i>\"Resposta: \"</i></li>\n",
        "  <li>Seja sucinto e objetivo nas respostas</li>\n",
        "</ul>  \n",
        "\n"
      ]
    },
    {
      "cell_type": "markdown",
      "metadata": {
        "id": "A8fN0Otb7W7H",
        "colab_type": "text"
      },
      "source": [
        "#### **Questão 1.** (2,5)\n",
        "\n",
        "O algorimto $k$-vizinhos mais próximos ($k$NN) é um algoritmo de aprendizado de máquina baseado em distância. Pré-processamento e escolhas adequadas de k devem ser feitas para evitar comportamentos indesejados. O que pode-se dizer sobre:"
      ]
    },
    {
      "cell_type": "markdown",
      "metadata": {
        "id": "ROn4p6y78uWO",
        "colab_type": "text"
      },
      "source": [
        "**a)** O que pode acontecer de indesejado quando $k$ tende a ser muito pequeno, tendendo a 1 vizinho. (1,0)"
      ]
    },
    {
      "cell_type": "markdown",
      "metadata": {
        "id": "ycozuyT261PK",
        "colab_type": "text"
      },
      "source": [
        "*Resposta:*\n",
        "\n",
        "**O valor de $K$ corresponde ao número de Clusters a serem agrupados, tendo um baixo valor de $K$ indica que os agrupamentos não serão criados com uma quantidade suficiente de informação e estarão sujeitos a ruídos que irão influenciar negativamente as predições deixando-as instáveis, além disso utilizando o valor de _*$K$ = 1*_ indica a ocorrencia de um possível _Overfitting_, tendo assim uma alta variância e um baixo bias.**"
      ]
    },
    {
      "cell_type": "markdown",
      "metadata": {
        "id": "nI0_JRYs80k0",
        "colab_type": "text"
      },
      "source": [
        "**b)** O que pode acontecer de indesejado quando $k$ tende a ser muito grande, tendendo ao número de exemplos do conjunto de dados. (1,0)"
      ]
    },
    {
      "cell_type": "markdown",
      "metadata": {
        "id": "BpTx2F879TZc",
        "colab_type": "text"
      },
      "source": [
        "*Resposta:*\n",
        "\n",
        "**O valor de $K$ corresponde ao número de Clusters a serem agrupados, tendo um valor de $K$ crescente (tendendo ao infinito) indica que os pontos de dados serão classificados como pertencentes a classe majoritária, levando assim a um agrupamento tendencioso, com baixa variância e alto bias, além de ter um alto custo de processamento e indicar a ocorrência de um possível _Underfitting_.**\n",
        "\n"
      ]
    },
    {
      "cell_type": "markdown",
      "metadata": {
        "id": "ECDpBcMH_UXS",
        "colab_type": "text"
      },
      "source": [
        "**c)** Por que o algoritmo kNN é considerado lazy (preguiçoso). (0,5)"
      ]
    },
    {
      "cell_type": "markdown",
      "metadata": {
        "id": "xyUs8n_t_UoE",
        "colab_type": "text"
      },
      "source": [
        "*Resposta:* \n",
        "\n",
        "**O algoritmo _KNN_ não possui uma \"função de treinamento\", ou seja, durante a execução do algoritmo o _KNN_ calcula as distâncias entre os pontos de dados e armazena a posição final desse agrupamento, dessa forma com a inclusão de novos dados o _KNN_ não agruparia corretamente os pontos sem antes recalcular essa distância interna considerando os dados antigos e novos e ao final apresentar o resultado do novo agrupamento.<br><br>Esse procedimento difere de outros algoritmos que possuem uma \"função de treinamento\" onde é calculado os parâmetros necessários para uma nova classificação, sem a necessidade de uma nova execução do algoritmo.**"
      ]
    },
    {
      "cell_type": "markdown",
      "metadata": {
        "id": "HmfTCxGbrj4g",
        "colab_type": "text"
      },
      "source": [
        "\n",
        "\n",
        "---\n",
        "\n"
      ]
    },
    {
      "cell_type": "markdown",
      "metadata": {
        "id": "63qu35sZR8jg",
        "colab_type": "text"
      },
      "source": [
        "#### **Questão 2** (2,5)\n",
        "\n",
        "O algoritmo k-médias é um método de agrupamento particional. Uma das principais escolhas que devem ser feitas é o número $k$ de agrupamentos que serão formados. Sobre o valor de $k$, o que é possível afirmar quando:\n"
      ]
    },
    {
      "cell_type": "markdown",
      "metadata": {
        "id": "z8u6-BEb62jE",
        "colab_type": "text"
      },
      "source": [
        "**a)** O valor de $k$ é grande, tendendo ao número de exemplos do conjunto de dados? (1,0)"
      ]
    },
    {
      "cell_type": "markdown",
      "metadata": {
        "id": "f-gelpcoVexo",
        "colab_type": "text"
      },
      "source": [
        "*Resposta:*<br><br>\n",
        "\n",
        "** O valor de $K$ no algoritmo _K-Means_ representa o número de Clusters a ser encontrado pelo algoritmo, esses Clusters representam uma forma de particionar os dados com base na distancia entre pontos quando comparados com a média do centro do Cluster.<br><br>\n",
        "Aumentando o valor $K$, tendendo a quantidade de pontos no conjunto de dados, irá aumentar o particionamento dos dados, diminuindo a quantidade de informação presente em cada Cluster, além de tornar o processo de treinamento demorado e com alto custo de processamento quando aplicado sobre grandes conjuntos de dados.**"
      ]
    },
    {
      "cell_type": "markdown",
      "metadata": {
        "id": "m7GgZ7JLVl8z",
        "colab_type": "text"
      },
      "source": [
        "**b)** O valor de $k$ é pequeno, tendendo a $k=1$? (1,0)"
      ]
    },
    {
      "cell_type": "markdown",
      "metadata": {
        "id": "o6gC-M_9V02y",
        "colab_type": "text"
      },
      "source": [
        "*Resposta:*<br><br>\n",
        "\n",
        "** O valor de $K$ no algoritmo _K-Means_ representa o número de Clusters a ser encontrado pelo algoritmo, ao diminuir o valor $K$ aumentamos a quantidade de informação presente no Cluste, mas ao reduzir o particionamento dos dados dessa forma pode-se correr o risco de classificar dados de forma incorreta ao não especificar um valor de $K$ que represente o conjunto de dados.<br><br>**"
      ]
    },
    {
      "cell_type": "markdown",
      "metadata": {
        "id": "AMylhfQ2V4FG",
        "colab_type": "text"
      },
      "source": [
        "**c)** Cite um método que pode ser utilizado para escolha do valor de $k$ visto em aula. (0,5) "
      ]
    },
    {
      "cell_type": "markdown",
      "metadata": {
        "id": "zehnhMlLWM_Y",
        "colab_type": "text"
      },
      "source": [
        "*Resposta:*<br><br>\n",
        "\n",
        "**Para a escolha do melhor valor de $K$ podemos utilizar o Método _Cotovelo_ (_Elbow_), esse método avalia a performance do modelo _KNN_ utilizando diferentes valores de $K$, sendo que o melhor valor aproximado pode ser visualizado no gráfico resultante da aplicação do método onde a reta exibida inicia uma curva indicando uma mudança na performance do modelo.**"
      ]
    },
    {
      "cell_type": "markdown",
      "metadata": {
        "id": "JAAISLbmrmDS",
        "colab_type": "text"
      },
      "source": [
        "\n",
        "\n",
        "---\n",
        "\n"
      ]
    },
    {
      "cell_type": "markdown",
      "metadata": {
        "id": "1GZPCPh-WQZz",
        "colab_type": "text"
      },
      "source": [
        "**Questão 3.** (2,5)\n",
        "\n",
        "Considere as representações gráficas de três modelos de árvore de classificação para um problema de classificação binária a seguir, respectivamente as árvores **A**, **B** e **C**. Em cada nó, observamos o *array* no formato ```value = [<n_classe_1>, <n_classe_2>]```, nos quais ```n_classe_1``` representa o número de exemplos pertencentes a classe 1 naquele nó e ```n_classe_2``` o número de exemplos pertencentes à classe 2 naquele nó. Em nós não-folha, um campo extra é apresentando, simbolizando uma condição encontrada pelo algoritmo de árvore, no formato ```<atributo_preditivo> <operador> <valor>```, no qual ```atributo_preditivo``` representa um atributo preditivo da base de dados, ```operador``` representa um possível operador como ```<, <=, >, >=, =``` e ```valor```representa um valor a ser comparado com o ```atributo_preditivo``` usando ```operador```. Caso a condição seja **verdadeira**, segue-se o caminho à **esquerda**, e caso seja **falsa**, segue-se o caminho da **direita**. Considere que cada árvore classifica um exemplo de acordo com a classe com maior quantidade de exemplos no nó folha.\n",
        "\n",
        "<img src=\"https://drive.google.com/uc?id=1--wDs5uIK8OHoLO0LYo288DzcejqOznJ\" />\n",
        "\n",
        "<img src=\"https://drive.google.com/uc?id=1yvqAt-64wn8sM0EWZlORBJlLPSttGU7r\" />\n",
        "\n",
        "<img src=\"https://drive.google.com/uc?id=11HJt-q8QRMbfUjBwipJ9Uug0LEh-RPif\" />\n",
        "\n",
        "**a)** Considere que as árvores **A**, **B** e **C** formam um *ensemble* cuja combinação é feita por **voto majoritário**. Use o ensemble para classificar os exemplos apresentados na tabela a seguir. Qual a predição para cada exemplo? Qual o valor da acurácia? Qual o valor da acurácia balanceada? (1,0)\n",
        "\n",
        "\n",
        "<img src=\"https://drive.google.com/uc?id=13Q6SXXLsrWQ9d7_hoqJAggZhl6mf6kOx\" />\n"
      ]
    },
    {
      "cell_type": "markdown",
      "metadata": {
        "id": "p2tQCcVLhHwd",
        "colab_type": "text"
      },
      "source": [
        "*Resposta:*"
      ]
    },
    {
      "source": [
        "|Recency\t|Frequency\t|Monetary\t|Time\t|Class\t|Tree A\t|Tree B\t|Tree C\t|Major Voting|\n",
        "| --- | --- | --- | ---- | --- | --- | --- | --- | --- | --- |\n",
        "|0\t|13\t|3250\t|28\t|2\t|2\t|1\t|2\t|2\n",
        "|1\t|24\t|6000\t|77\t|1\t|1\t|1\t|1\t|1\n",
        "|23\t|2\t|500\t|38\t|1\t|1\t|1\t|1\t|1\n",
        "|21\t|2\t|500\t|52\t|1\t|1\t|1\t|1\t|1\n",
        "|2\t|20\t|5000\t|45\t|2\t|2\t|1\t|1\t|1\n"
      ],
      "cell_type": "markdown",
      "metadata": {}
    },
    {
      "source": [
        "Matriz de confusão:\n",
        "    \n",
        "|    |   1       |   2        |\n",
        "|:---:|:----------:|:-----------:|\n",
        "|  __1__ |         3 |         1  |\n",
        "|  __2__ |         0 |         1  |"
      ],
      "cell_type": "markdown",
      "metadata": {}
    },
    {
      "source": [
        "A fórmula da acurácia é a seguinte:\n",
        "    $$ Accuracy = (\\frac{VP + VN}{VP + VN + FP + FN}) × 100 \\% = \\frac{3 + 1}{3 + 1 + 0 + 1} × 100 \\% = 80 \\% $$"
      ],
      "cell_type": "markdown",
      "metadata": {}
    },
    {
      "cell_type": "code",
      "execution_count": 5,
      "metadata": {},
      "outputs": [
        {
          "output_type": "execute_result",
          "data": {
            "text/plain": "80.0"
          },
          "metadata": {},
          "execution_count": 5
        }
      ],
      "source": [
        "accuracy = ((3 + 1)/(3 + 1 + 0 + 1)) * 100\n",
        "accuracy"
      ]
    },
    {
      "source": [
        "A fórmula da acurácia balanceada é a seguinte:\n",
        "    $$ Accuracy_{balanced} = \\frac{[ (\\frac{VP}{VP+FN}) + (\\frac{VN}{VN+FP}) ]}{2} × 100 \\% = \\frac{[ (\\frac{3}{3+1}) + (\\frac{1}{1+0}) ]}{2} × 100 \\% = 87,50 \\% $$"
      ],
      "cell_type": "markdown",
      "metadata": {}
    },
    {
      "cell_type": "code",
      "execution_count": 10,
      "metadata": {},
      "outputs": [
        {
          "output_type": "execute_result",
          "data": {
            "text/plain": "87.5"
          },
          "metadata": {},
          "execution_count": 10
        }
      ],
      "source": [
        "sensibilidade = 3/(3+1)\n",
        "especificidade = 1/(1+0)\n",
        "\n",
        "balanced_accuracy = ((sensibilidade + especificidade)/2)*100\n",
        "balanced_accuracy"
      ]
    },
    {
      "cell_type": "markdown",
      "metadata": {
        "id": "rtpu-ZjbhP_s",
        "colab_type": "text"
      },
      "source": [
        "**b)** Escolha uma das árvores (**A**, **B** ou **C**). Indique a árvore escolhida e calcule a impureza de **todos** os nós-folhas usando *Gini*. (1,0)"
      ]
    },
    {
      "cell_type": "markdown",
      "metadata": {
        "id": "87h0y24WktXj",
        "colab_type": "text"
      },
      "source": [
        "*Resposta:* **Para o cálculo de impureza utilizando o _Gini_ foi escolhido a Árvore _A_:**<br><br>\n",
        "\n",
        "Para o nó-folha __1__: $$ Gini = 1 - (\\frac{6}{7})^2 - (\\frac{1}{7})^2 = 0.2449 $$\n",
        "\n",
        "\n",
        "Para o nó-folha __2__: $$ Gini = 1 - (\\frac{0}{1})^2 - (\\frac{1}{1})^2 = 0.0000 $$\n",
        "\n",
        "Para o nó-folha __3__: $$ Gini = 1 - (\\frac{20}{20})^2 - (\\frac{0}{20})^2 = 0.0000 $$\n",
        "\n",
        "Para o nó-folha __4__: $$ Gini = 1 - (\\frac{21}{23})^2 - (\\frac{2}{23})^2 = 0.1588 $$\n",
        "\n",
        "Para o nó-folha __5__: $$ Gini = 1 - (\\frac{3}{16})^2 - (\\frac{13}{16})^2 = 0.3047 $$\n",
        "\n",
        "Para o nó-folha __6__: $$ Gini = 1 - (\\frac{7}{9})^2 - (\\frac{2}{9})^2 = 0.3457 $$\n",
        "\n",
        "Para o nó-folha __7__: $$ Gini = 1 - (\\frac{10}{10})^2 - (\\frac{0}{10})^2 = 0.0000 $$\n",
        "\n",
        "Para o nó-folha __8__: $$ Gini = 1 - (\\frac{7}{14})^2 - (\\frac{7}{14})^2 = 0.5000 $$"
      ]
    },
    {
      "cell_type": "markdown",
      "metadata": {
        "id": "ZV3uMGaZkwbt",
        "colab_type": "text"
      },
      "source": [
        "**c)** Considere a sub-árvore apresentada a seguir. (0,5)\n",
        "\n",
        "<img src=\"https://drive.google.com/uc?id=1LBYuFseXhcABSiF7SsmVEBmv3lLANP5Z\" />\n",
        "\n",
        "Considere a figura abaixo que representa o corte no espaço de atributos que apenas a sub-árvore apresentada faz. Quais os valores de **X**, **Y**, **z** e **w** para que a figura esteja correta?\n",
        "\n",
        "<img src=\"https://drive.google.com/uc?id=15l22F1f4XYptwJAxbNrVG-LHx4s1tItz\" />"
      ]
    },
    {
      "cell_type": "markdown",
      "metadata": {
        "id": "ijA5m5ASq2kx",
        "colab_type": "text"
      },
      "source": [
        "*Resposta:*<br>\n",
        "X = **RECENCY**<br>\n",
        "Y = **1,5**<br>\n",
        "z = **[[49, 13]] = 62 elementos**<br>\n",
        "w =**[[0, 1]] = 1 elemento**"
      ]
    },
    {
      "cell_type": "markdown",
      "metadata": {
        "id": "sq2i0LuWroSW",
        "colab_type": "text"
      },
      "source": [
        "\n",
        "\n",
        "---\n",
        "\n"
      ]
    },
    {
      "cell_type": "markdown",
      "metadata": {
        "id": "22uoVHh3Xi_Q",
        "colab_type": "text"
      },
      "source": [
        "#### **Questão 4** (2,5)\n",
        "\n",
        "Dadas as características do conjunto de dados a seguir, as próximas questões se referem a escolha de um projeto de experimento adequado. Considere que os conjuntos de dados possuem dados suficientes.\n",
        "\n",
        "Características do conjunto de dados:\n",
        "\n",
        "* Tamanho: 3 atributos preditivos e 500 instâncias\n",
        "* Atributo 1: numérico, com valores entre (-2,2)\n",
        "* Atributo 2: numérico, com valores entre (0, 10000)\n",
        "* Atributo 3: categórico, com valores pertencentes ao conjunto {'A', 'B', 'C'}\n",
        "* Tarefa: Classificação\n",
        "* Número de classes: 2\n",
        "* Proporção entre as classes: 1:49\n",
        "\n",
        "Responda as seguintes questões:"
      ]
    },
    {
      "cell_type": "markdown",
      "metadata": {
        "id": "4RJmmG9ltAWa",
        "colab_type": "text"
      },
      "source": [
        "**a)** Quais dos seguintes particionamentos de dados você consideraria para avaliar um algoritmo de classificação qualquer: hold-out, validação cruzada estratificada, ou leave-one-out? Justifique. (1,0)"
      ]
    },
    {
      "cell_type": "markdown",
      "metadata": {
        "id": "kAottS0pvD81",
        "colab_type": "text"
      },
      "source": [
        "*Resposta:*\n",
        "\n",
        "**Considerando a proporção entre as Classes entendemos que há um desbalanceamento entre elas, dessa forma utilizar métodos como o Hold-out (que faz o particionamento com base em um valor fixo) ou o método _leave-one-out_ (que realiza diveros particionamentos dos dados separando uma amostra diferente em cada execução), não seria possível particionar os dados de forma a conter uma quantidade adequada de exemplos pertencente as 2 Classes.<br><br>\n",
        "Sabendo disso, o método de _Validação Cruzada Estratificada_ seria a melhor opção, esse metódo realiza o particionamento dos dados de forma parecida com o método _leave-one-out_, mas mantém sempre em suas partições a mesma proporção entre as Classes, o que é crucial neste momento em que a base possui um desbalanceamento entre as Classes.\n",
        "**"
      ]
    },
    {
      "cell_type": "markdown",
      "metadata": {
        "id": "ekNJJCp1v97e",
        "colab_type": "text"
      },
      "source": [
        "**b)** Quais das seguintes medidas de avaliação você consideraria: acurácia ou acurácia balanceada? Justifique. (0,5)"
      ]
    },
    {
      "cell_type": "markdown",
      "metadata": {
        "id": "7MVdSBv7wFT7",
        "colab_type": "text"
      },
      "source": [
        "*Resposta:*\n",
        "\n",
        "**Considerando a proporção entre as Classes entendemos que há um desbalanceamento entre elas, a medida de avaliação adequada seria _acurácia balanceada_ pois levaria esse desbalanceamento em consideração e aplicaria pesos diferentes a cada uma das Classes sem impactar na avaliação.<br><br>Caso fosse utilizado como medida de avaliação a _acurácia_, a classe majoritária apresentaria uma performance maior que a classe minoritária por não considerar a proporção entre as Classes.\n",
        "**"
      ]
    },
    {
      "cell_type": "markdown",
      "metadata": {
        "id": "uicqEVT5v-Jr",
        "colab_type": "text"
      },
      "source": [
        "**c)** Considerando apenas as características apresentadas da base, você consideraria algum tipo de pré-processamento quando avaliando *k-nn*? Se sim, qual(is)? Justifique. (1,0):"
      ]
    },
    {
      "cell_type": "markdown",
      "metadata": {
        "id": "G9OpQUbQwMn7",
        "colab_type": "text"
      },
      "source": [
        "*Resposta:*\n",
        "\n",
        "Sim, considerando as características os seguintes pré-processamentos são indicados:\n",
        "- Normalização de Atributos\n",
        "> Normalização dos Artributos 1 e 2 para que as variáveis estejam na mesma escala\n",
        "- _One-Hot-Encoding_ para transformação do atributo categórico\n",
        "> Transformação do atributo categórico em numérico para ser utilizado no treinamento do Modelo"
      ]
    },
    {
      "cell_type": "markdown",
      "metadata": {
        "id": "Y4qua78wr09-",
        "colab_type": "text"
      },
      "source": [
        "\n",
        "\n",
        "---\n",
        "\n"
      ]
    },
    {
      "cell_type": "markdown",
      "metadata": {
        "id": "xkV98MhwXjZX",
        "colab_type": "text"
      },
      "source": [
        "#### **Questão 5** (1,0)\n",
        "\n",
        "As imagens a seguir são resultados da aplicação das redes neurais perceptron com múltiplas camadas (MLP) em um conjunto de dados de classificação. Sobre os conceitos de underfitting e overfitting, diga o que está ocorrendo intuitivamente em cada imagem."
      ]
    },
    {
      "cell_type": "markdown",
      "metadata": {
        "id": "DR75vJPLjQAS",
        "colab_type": "text"
      },
      "source": [
        "**a)** Underfitting ou overfitting? (0,5)\n",
        "\n",
        "<img src=\"https://drive.google.com/uc?id=1KyF9AXG76hHCZy9n5TP9SwBFMB-lGcGN\" />\n"
      ]
    },
    {
      "cell_type": "markdown",
      "metadata": {
        "id": "q0TloS63nZpG",
        "colab_type": "text"
      },
      "source": [
        "*Resposta:* **UNDERFITTING**\n",
        "\n",
        "**Na imagem é possível visualizar que há o particionamento dos dados entre _\"verdes\"_ e _\"vermelhos\"_, mas a forma em que esse particionamento está disposto não representa corretamente a distribuição dos dados.<br><br>\n",
        "Sob a área _\"verde\"_ é possível\tvisualizar que além dos pontos corretos, há a também a classificação incorreta de diversos pontos _\"vermelhos\"_, além de que o formato do particionamento não representa corretamente a distribuição dos dados da classe em _\"verde\"_, com isso temos indícios da ocorrência de um _UNDERFITTING_ pois não houve o particionamento correto dos dados.\n",
        "**"
      ]
    },
    {
      "cell_type": "markdown",
      "metadata": {
        "id": "CfUR6OuZnhMw",
        "colab_type": "text"
      },
      "source": [
        "**b)** Underfitting ou overfitting? (0,5)\n",
        "\n",
        "<img src=\"https://drive.google.com/uc?id=1fMdGCTSS9W1cuP-2Fr4NvicpmBGJs92k\" />"
      ]
    },
    {
      "cell_type": "markdown",
      "metadata": {
        "id": "yTkWpCEHn7PE",
        "colab_type": "text"
      },
      "source": [
        "*Resposta:* **OVERFITTING**\n",
        "\n",
        "**Na imagem é possível visualizar que há o particionamento dos dados entre _\"verdes\"_ e _\"vermelhos\"_, sendo que a forma em que esse particionamento está disposto cobre quase que perfeitamente os pontos de dados.<br><br>\n",
        "Sob a área _\"verde\"_ é possível\tvisualizar que em sua extensão possui majoritariamente dados da classe em _\"verde\"_, da mesma forma, sob a área _\"vermelha\"_ a classe majoritária são os pontos em _\"vermelho\"_.<br><br>\n",
        "Dessa forma podemos observar que o modelo aplicado foi capaz de identificar corretamente todos as classes presente na base de treinamento tendo uma alta performance nessa classificação, mas com a inclusão de novos dados entendemos que a classificação estará comprometida por não representar exatamente a mesma distribuição dos dados, o que irá afetar diretamente a performance do modelo.\n",
        "**"
      ]
    },
    {
      "cell_type": "markdown",
      "metadata": {
        "id": "EP08PE2CrqtD",
        "colab_type": "text"
      },
      "source": [
        "\n",
        "\n",
        "---\n",
        "\n"
      ]
    }
  ]
}