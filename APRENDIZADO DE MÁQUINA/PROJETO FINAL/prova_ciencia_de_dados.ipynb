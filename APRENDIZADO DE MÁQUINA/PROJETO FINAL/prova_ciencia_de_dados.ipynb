{
  "nbformat": 4,
  "nbformat_minor": 0,
  "metadata": {
    "colab": {
      "name": "prova ciencia de dados.ipynb",
      "provenance": [],
      "collapsed_sections": [],
      "toc_visible": true
    },
    "kernelspec": {
      "name": "python3",
      "display_name": "Python 3"
    }
  },
  "cells": [
    {
      "cell_type": "markdown",
      "metadata": {
        "id": "sXp1gm48wnv3",
        "colab_type": "text"
      },
      "source": [
        "<h1><center><b> MBA em Ciência de Dados </b></center></h1>\n",
        "<h3><center> CeMEAI - ICMC/USP - São Carlos</center></h3>\n",
        "\n",
        "<br><br>\n",
        "<h2><center><b> Avaliação Final </b></center></h2>\n",
        "<h3><center> Aprendizado de Máquina </center></h3>\n",
        "\n",
        "<br><br>\n",
        "<h4>Docente: Prof. Dr. André C. P. L. F. de Carvalho</h4>\n",
        "<h4>Tutores: Edesio, Eugênio, Gustavo, Moisés, Saulo e Victor</h4>\n",
        "<br><br>\n"
      ]
    },
    {
      "cell_type": "markdown",
      "metadata": {
        "id": "l4E4WDR0woFd",
        "colab_type": "text"
      },
      "source": [
        "<p><b>Instruções e Avisos:</b></p>\n",
        "<ul>\n",
        "  <li>A avaliação vale 10 pontos</li>\n",
        "  <li>As questões de 1 a 4, caso respondidas da forma correta, já totalizam\n",
        "10 pontos</li>\n",
        "  <li>A questão 5 é extra e vale 1 ponto</li>\n",
        "  <li>Responda as questões nas células reservadas para respostas, demarcadas com <i>\"Resposta: \"</i></li>\n",
        "  <li>Seja sucinto e objetivo nas respostas</li>\n",
        "</ul>  \n",
        "\n"
      ]
    },
    {
      "cell_type": "markdown",
      "metadata": {
        "id": "A8fN0Otb7W7H",
        "colab_type": "text"
      },
      "source": [
        "#### **Questão 1.** (2,5)\n",
        "\n",
        "O algorimto $k$-vizinhos mais próximos ($k$NN) é um algoritmo de aprendizado de máquina baseado em distância. Pré-processamento e escolhas adequadas de k devem ser feitas para evitar comportamentos indesejados. O que pode-se dizer sobre:"
      ]
    },
    {
      "cell_type": "markdown",
      "metadata": {
        "id": "ROn4p6y78uWO",
        "colab_type": "text"
      },
      "source": [
        "**a)** O que pode acontecer de indesejado quando $k$ tende a ser muito pequeno, tendendo a 1 vizinho. (1,0)"
      ]
    },
    {
      "cell_type": "markdown",
      "metadata": {
        "id": "ycozuyT261PK",
        "colab_type": "text"
      },
      "source": [
        "*Resposta:*\n",
        "\n",
        "**O valor de $K$ corresponde ao número de Clusters a serem agrupados, tendo um baixo valor de $K$ indica que os agrupamentos não serão criados com uma quantidade suficiente de informação e estarão sujeitos a ruídos que irão influenciar negativamente as predições deixando-as instáveis, além disso utilizando o valor de _*$K$ = 1*_ indica a ocorrencia de um possível _Overfitting_, tendo assim uma alta variância e um baixo bias.**"
      ]
    },
    {
      "cell_type": "markdown",
      "metadata": {
        "id": "nI0_JRYs80k0",
        "colab_type": "text"
      },
      "source": [
        "**b)** O que pode acontecer de indesejado quando $k$ tende a ser muito grande, tendendo ao número de exemplos do conjunto de dados. (1,0)"
      ]
    },
    {
      "cell_type": "markdown",
      "metadata": {
        "id": "BpTx2F879TZc",
        "colab_type": "text"
      },
      "source": [
        "*Resposta:*\n",
        "\n",
        "**O valor de $K$ corresponde ao número de Clusters a serem agrupados, tendo um valor de $K$ crescente (tendendo ao infinito) indica que os pontos de dados serão classificados como pertencentes a classe majoritária, levando assim a um agrupamento tendencioso, com baixa variância e alto bias, além de ter um alto custo de processamento e indicar a ocorrência de um possível _Underfitting_.**\n",
        "\n"
      ]
    },
    {
      "cell_type": "markdown",
      "metadata": {
        "id": "ECDpBcMH_UXS",
        "colab_type": "text"
      },
      "source": [
        "**c)** Por que o algoritmo kNN é considerado lazy (preguiçoso). (0,5)"
      ]
    },
    {
      "cell_type": "markdown",
      "metadata": {
        "id": "xyUs8n_t_UoE",
        "colab_type": "text"
      },
      "source": [
        "*Resposta:* \n",
        "\n",
        "**O algoritmo _KNN_ não possui uma \"função de treinamento\", ou seja, durante a execução do algoritmo o _KNN_ calcula as distâncias entre os pontos de dados e armazena a posição final desse agrupamento, dessa forma com a inclusão de novos dados o _KNN_ não agruparia corretamente os pontos sem antes recalcular essa distância interna considerando os dados antigos e novos e ao final apresentar o resultado do novo agrupamento.<br><br>Esse procedimento difere de outros algoritmos que possuem uma \"função de treinamento\" onde é calculado os parâmetros necessários para uma nova classificação, sem a necessidade de uma nova execução do algoritmo.**"
      ]
    },
    {
      "cell_type": "markdown",
      "metadata": {
        "id": "HmfTCxGbrj4g",
        "colab_type": "text"
      },
      "source": [
        "\n",
        "\n",
        "---\n",
        "\n"
      ]
    },
    {
      "cell_type": "markdown",
      "metadata": {
        "id": "63qu35sZR8jg",
        "colab_type": "text"
      },
      "source": [
        "#### **Questão 2** (2,5)\n",
        "\n",
        "O algoritmo k-médias é um método de agrupamento particional. Uma das principais escolhas que devem ser feitas é o número $k$ de agrupamentos que serão formados. Sobre o valor de $k$, o que é possível afirmar quando:\n"
      ]
    },
    {
      "cell_type": "markdown",
      "metadata": {
        "id": "z8u6-BEb62jE",
        "colab_type": "text"
      },
      "source": [
        "**a)** O valor de $k$ é grande, tendendo ao número de exemplos do conjunto de dados? (1,0)"
      ]
    },
    {
      "cell_type": "markdown",
      "metadata": {
        "id": "f-gelpcoVexo",
        "colab_type": "text"
      },
      "source": [
        ">*Resposta:* **QUANTO MAIOR O VALOR DE _K_ MAIOR SERÁ O PARTICIONAMENTO DOS DADOS, TENDO UMA QUANTIDADE MENOR DE INFORMAÇÃO EM CADA UM DOS CLUSTERS ONDE CADA PONTO É IDENTIFICADO COMO UM CLUSTER DIFERENTE.**<br><br>\n",
        "\n",
        "\n",
        "*Resposta:*<br><br>\n",
        "\n",
        "** O valor de $K$ no algoritmo _K-Means_ representa o número de Clusters a ser encontrado pelo algoritmo, esses Clusters representam uma forma de particionar os dados com base na distancia entre pontos quando comparados com a média do centro do Cluster.<br><br>\n",
        "Aumentando o valor $K$, tendendo a quantidade de pontos no conjunto de dados, irá aumentar o particionamento dos dados, diminuindo a quantidade de informação presente em cada Cluster, além de tornar o processo de treinamento demorado e com alto custo de processamento quando aplicado sobre grandes conjuntos de dados.**"
      ]
    },
    {
      "cell_type": "markdown",
      "metadata": {
        "id": "m7GgZ7JLVl8z",
        "colab_type": "text"
      },
      "source": [
        "**b)** O valor de $k$ é pequeno, tendendo a $k=1$? (1,0)"
      ]
    },
    {
      "cell_type": "markdown",
      "metadata": {
        "id": "o6gC-M_9V02y",
        "colab_type": "text"
      },
      "source": [
        ">*Resposta:* **QUANTO MENOR O VALOR DE _K_ MENOR SERÁ O PARTICIONAMENTO DOS DADOS, TENDO UMA QUANTIDADE MUITO GRANDE DE INFORMAÇÃO NO CLUSTER,ONDE TODOS OS PONTOS SÃO IDENTIFICADOS COMO UM ÚNICO CLUSTER.**<br><br>\n",
        "\n",
        "\n",
        "*Resposta:*<br><br>\n",
        "\n",
        "** O valor de $K$ no algoritmo _K-Means_ representa o número de Clusters a ser encontrado pelo algoritmo, ao diminuir o valor $K$ aumentamos a quantidade de informação presente no Cluste, mas ao reduzir o particionamento dos dados dessa forma pode-se correr o risco de classificar dados de forma incorreta ao não especificar um valor de $K$ que represente o conjunto de dados.<br><br>**"
      ]
    },
    {
      "cell_type": "markdown",
      "metadata": {
        "id": "AMylhfQ2V4FG",
        "colab_type": "text"
      },
      "source": [
        "**c)** Cite um método que pode ser utilizado para escolha do valor de $k$ visto em aula. (0,5) "
      ]
    },
    {
      "cell_type": "markdown",
      "metadata": {
        "id": "zehnhMlLWM_Y",
        "colab_type": "text"
      },
      "source": [
        ">*Resposta:* **O MÉTODO COTOVELO (ELBOW) É UM DOS MAIS UTILIZADOS POR SUA SIMPLICIDADE NA INTERPRETAÇÃO.**<br><br>\n",
        "\n",
        "*Resposta:*<br><br>\n",
        "\n",
        "**Para a escolha do melhor valor de $K$ podemos utilizar o Método _Cotovelo_ (_Elbow_), esse método avalia a performance do modelo _KNN_ utilizando diferentes valores de $K$, sendo que o melhor valor aproximado pode ser visualizado no gráfico resultante da aplicação do método onde a reta exibida inicia uma curva indicando uma mudança na performance do modelo.**"
      ]
    },
    {
      "cell_type": "markdown",
      "metadata": {
        "id": "JAAISLbmrmDS",
        "colab_type": "text"
      },
      "source": [
        "\n",
        "\n",
        "---\n",
        "\n"
      ]
    },
    {
      "cell_type": "markdown",
      "metadata": {
        "id": "1GZPCPh-WQZz",
        "colab_type": "text"
      },
      "source": [
        "**Questão 3.** (2,5)\n",
        "\n",
        "Considere as representações gráficas de três modelos de árvore de classificação para um problema de classificação binária a seguir, respectivamente as árvores **A**, **B** e **C**. Em cada nó, observamos o *array* no formato ```value = [<n_classe_1>, <n_classe_2>]```, nos quais ```n_classe_1``` representa o número de exemplos pertencentes a classe 1 naquele nó e ```n_classe_2``` o número de exemplos pertencentes à classe 2 naquele nó. Em nós não-folha, um campo extra é apresentando, simbolizando uma condição encontrada pelo algoritmo de árvore, no formato ```<atributo_preditivo> <operador> <valor>```, no qual ```atributo_preditivo``` representa um atributo preditivo da base de dados, ```operador``` representa um possível operador como ```<, <=, >, >=, =``` e ```valor```representa um valor a ser comparado com o ```atributo_preditivo``` usando ```operador```. Caso a condição seja **verdadeira**, segue-se o caminho à **esquerda**, e caso seja **falsa**, segue-se o caminho da **direita**. Considere que cada árvore classifica um exemplo de acordo com a classe com maior quantidade de exemplos no nó folha.\n",
        "\n",
        "<img src=\"arv_1.png\" />\n",
        "\n",
        "<img src=\"arv_2.png\" />\n",
        "\n",
        "<img src=\"arv_3.png\" />\n",
        "\n",
        "**a)** Considere que as árvores **A**, **B** e **C** formam um *ensemble* cuja combinação é feita por **voto majoritário**. Use o ensemble para classificar os exemplos apresentados na tabela a seguir. Qual a predição para cada exemplo? Qual o valor da acurácia? Qual o valor da acurácia balanceada? (1,0)\n",
        "\n",
        "<img src=\"classify_examples.png\" />\n"
      ]
    },
    {
      "cell_type": "markdown",
      "metadata": {
        "id": "p2tQCcVLhHwd",
        "colab_type": "text"
      },
      "source": [
        "*Resposta:*"
      ]
    },
    {
      "cell_type": "code",
      "execution_count": 1,
      "metadata": {},
      "outputs": [
        {
          "output_type": "execute_result",
          "data": {
            "text/plain": "   Recency  Frquency  Monetary  Time  Class  Tree A  Tree B  Tree C  \\\n0      0.0      13.0    3250.0  28.0      2       2       1       2   \n1      1.0      24.0    6000.0  77.0      1       1       1       1   \n2     23.0       2.0     500.0  38.0      1       1       1       1   \n3     21.0       2.0     500.0  52.0      1       1       1       1   \n4      2.0      20.0    5000.0  45.0      2       2       1       1   \n\n   Major Voting  \n0             2  \n1             1  \n2             1  \n3             1  \n4             1  ",
            "text/html": "<div>\n<style scoped>\n    .dataframe tbody tr th:only-of-type {\n        vertical-align: middle;\n    }\n\n    .dataframe tbody tr th {\n        vertical-align: top;\n    }\n\n    .dataframe thead th {\n        text-align: right;\n    }\n</style>\n<table border=\"1\" class=\"dataframe\">\n  <thead>\n    <tr style=\"text-align: right;\">\n      <th></th>\n      <th>Recency</th>\n      <th>Frquency</th>\n      <th>Monetary</th>\n      <th>Time</th>\n      <th>Class</th>\n      <th>Tree A</th>\n      <th>Tree B</th>\n      <th>Tree C</th>\n      <th>Major Voting</th>\n    </tr>\n  </thead>\n  <tbody>\n    <tr>\n      <th>0</th>\n      <td>0.0</td>\n      <td>13.0</td>\n      <td>3250.0</td>\n      <td>28.0</td>\n      <td>2</td>\n      <td>2</td>\n      <td>1</td>\n      <td>2</td>\n      <td>2</td>\n    </tr>\n    <tr>\n      <th>1</th>\n      <td>1.0</td>\n      <td>24.0</td>\n      <td>6000.0</td>\n      <td>77.0</td>\n      <td>1</td>\n      <td>1</td>\n      <td>1</td>\n      <td>1</td>\n      <td>1</td>\n    </tr>\n    <tr>\n      <th>2</th>\n      <td>23.0</td>\n      <td>2.0</td>\n      <td>500.0</td>\n      <td>38.0</td>\n      <td>1</td>\n      <td>1</td>\n      <td>1</td>\n      <td>1</td>\n      <td>1</td>\n    </tr>\n    <tr>\n      <th>3</th>\n      <td>21.0</td>\n      <td>2.0</td>\n      <td>500.0</td>\n      <td>52.0</td>\n      <td>1</td>\n      <td>1</td>\n      <td>1</td>\n      <td>1</td>\n      <td>1</td>\n    </tr>\n    <tr>\n      <th>4</th>\n      <td>2.0</td>\n      <td>20.0</td>\n      <td>5000.0</td>\n      <td>45.0</td>\n      <td>2</td>\n      <td>2</td>\n      <td>1</td>\n      <td>1</td>\n      <td>1</td>\n    </tr>\n  </tbody>\n</table>\n</div>"
          },
          "metadata": {},
          "execution_count": 1
        }
      ],
      "source": [
        "import pandas as pd\n",
        "\n",
        "major_voting = pd.DataFrame(\n",
        "                    data = {\n",
        "                        'Recency': [0.0, 1.0, 23.0, 21.0, 2.0],\n",
        "                        'Frquency': [13.0, 24.0, 2.0, 2.0, 20.0],\n",
        "                        'Monetary': [3250.0, 6000.0, 500.0, 500.0, 5000.0],\n",
        "                        'Time': [28.0, 77.0, 38.0, 52.0, 45.0],\n",
        "                        'Class': [2, 1, 1, 1, 2],\n",
        "                        'Tree A': [2, 1, 1, 1, 2],\n",
        "                        'Tree B': [1, 1, 1, 1, 1],\n",
        "                        'Tree C': [2, 1, 1, 1, 1],\n",
        "                        'Major Voting': [2, 1, 1, 1, 1],\n",
        "                    }\n",
        "                )\n",
        "\n",
        "major_voting"
      ]
    },
    {
      "source": [
        "confusion_matrix = pd.DataFrame(\n",
        "                        data= {\n",
        "                            '1' : [3, 0],\n",
        "                            '2' : [1, 1]\n",
        "                        },\n",
        "                        index=[1,2]\n",
        "                    )\n",
        "confusion_matrix"
      ],
      "cell_type": "code",
      "metadata": {},
      "execution_count": 6,
      "outputs": [
        {
          "output_type": "execute_result",
          "data": {
            "text/plain": "   1  2\n1  3  1\n2  0  1",
            "text/html": "<div>\n<style scoped>\n    .dataframe tbody tr th:only-of-type {\n        vertical-align: middle;\n    }\n\n    .dataframe tbody tr th {\n        vertical-align: top;\n    }\n\n    .dataframe thead th {\n        text-align: right;\n    }\n</style>\n<table border=\"1\" class=\"dataframe\">\n  <thead>\n    <tr style=\"text-align: right;\">\n      <th></th>\n      <th>1</th>\n      <th>2</th>\n    </tr>\n  </thead>\n  <tbody>\n    <tr>\n      <th>1</th>\n      <td>3</td>\n      <td>1</td>\n    </tr>\n    <tr>\n      <th>2</th>\n      <td>0</td>\n      <td>1</td>\n    </tr>\n  </tbody>\n</table>\n</div>"
          },
          "metadata": {},
          "execution_count": 6
        }
      ]
    },
    {
      "source": [
        "A fórmula da acurácia é a seguinte:\n",
        "    $$ Accuracy = (\\frac{TN + TP}{TN + TP + FN + TP}) × 100 \\% = \\frac{3 + 1}{3 + 1 + 1 + 0} × 100 \\% = 80 \\% $$"
      ],
      "cell_type": "markdown",
      "metadata": {}
    },
    {
      "cell_type": "code",
      "execution_count": 5,
      "metadata": {},
      "outputs": [
        {
          "output_type": "execute_result",
          "data": {
            "text/plain": "80.0"
          },
          "metadata": {},
          "execution_count": 5
        }
      ],
      "source": [
        "accuracy = ((3+1)/(3+1+1+0))*100\n",
        "accuracy"
      ]
    },
    {
      "source": [
        "A fórmula da acurácia balanceada é a seguinte:\n",
        "    $$ Accuracy_{balanced} = \\frac{[ (\\frac{TN}{TN+FP}) + (\\frac{TP}{TP+FN}) ]}{2} × 100 \\% = \\frac{[ (\\frac{3}{3+1}) + (\\frac{1}{1+0}) ]}{2} × 100 \\% = 87,50 \\% $$"
      ],
      "cell_type": "markdown",
      "metadata": {}
    },
    {
      "cell_type": "code",
      "execution_count": 8,
      "metadata": {},
      "outputs": [
        {
          "output_type": "execute_result",
          "data": {
            "text/plain": "87.5"
          },
          "metadata": {},
          "execution_count": 8
        }
      ],
      "source": [
        "balanced_accuracy = (((3/(3+1))+ (1/(1+0)))/2)*100\n",
        "balanced_accuracy"
      ]
    },
    {
      "cell_type": "markdown",
      "metadata": {
        "id": "rtpu-ZjbhP_s",
        "colab_type": "text"
      },
      "source": [
        "**b)** Escolha uma das árvores (**A**, **B** ou **C**). Indique a árvore escolhida e calcule a impureza de **todos** os nós-folhas usando *Gini*. (1,0)"
      ]
    },
    {
      "cell_type": "markdown",
      "metadata": {
        "id": "87h0y24WktXj",
        "colab_type": "text"
      },
      "source": [
        "*Resposta:*"
      ]
    },
    {
      "cell_type": "markdown",
      "metadata": {
        "id": "ZV3uMGaZkwbt",
        "colab_type": "text"
      },
      "source": [
        "**c)** Considere a sub-árvore apresentada a seguir. (0,5)\n",
        "\n",
        "<img src=\"https://drive.google.com/uc?id=1LBYuFseXhcABSiF7SsmVEBmv3lLANP5Z\" />\n",
        "\n",
        "Considere a figura abaixo que representa o corte no espaço de atributos que apenas a sub-árvore apresentada faz. Quais os valores de **X**, **Y**, **z** e **w** para que a figura esteja correta?\n",
        "\n",
        "<img src=\"https://drive.google.com/uc?id=15l22F1f4XYptwJAxbNrVG-LHx4s1tItz\" />"
      ]
    },
    {
      "cell_type": "markdown",
      "metadata": {
        "id": "ijA5m5ASq2kx",
        "colab_type": "text"
      },
      "source": [
        "*Resposta:*<br>\n",
        "X = **RECENCY**<br>\n",
        "Y = **1,5**<br>\n",
        "z = **[[49, 13]] = 62 elementos**<br>\n",
        "w =**[[0, 1]] = 1 elemento**"
      ]
    },
    {
      "cell_type": "markdown",
      "metadata": {
        "id": "sq2i0LuWroSW",
        "colab_type": "text"
      },
      "source": [
        "\n",
        "\n",
        "---\n",
        "\n"
      ]
    },
    {
      "cell_type": "markdown",
      "metadata": {
        "id": "22uoVHh3Xi_Q",
        "colab_type": "text"
      },
      "source": [
        "#### **Questão 4** (2,5)\n",
        "\n",
        "Dadas as características do conjunto de dados a seguir, as próximas questões se referem a escolha de um projeto de experimento adequado. Considere que os conjuntos de dados possuem dados suficientes.\n",
        "\n",
        "Características do conjunto de dados:\n",
        "\n",
        "* Tamanho: 3 atributos preditivos e 500 instâncias\n",
        "* Atributo 1: numérico, com valores entre (-2,2)\n",
        "* Atributo 2: numérico, com valores entre (0, 10000)\n",
        "* Atributo 3: categórico, com valores pertencentes ao conjunto {'A', 'B', 'C'}\n",
        "* Tarefa: Classificação\n",
        "* Número de classes: 2\n",
        "* Proporção entre as classes: 1:49\n",
        "\n",
        "Responda as seguintes questões:"
      ]
    },
    {
      "cell_type": "markdown",
      "metadata": {
        "id": "4RJmmG9ltAWa",
        "colab_type": "text"
      },
      "source": [
        "**a)** Quais dos seguintes particionamentos de dados você consideraria para avaliar um algoritmo de classificação qualquer: hold-out, validação cruzada estratificada, ou leave-one-out? Justifique. (1,0)"
      ]
    },
    {
      "cell_type": "markdown",
      "metadata": {
        "id": "kAottS0pvD81",
        "colab_type": "text"
      },
      "source": [
        "*Resposta:*"
      ]
    },
    {
      "cell_type": "markdown",
      "metadata": {
        "id": "ekNJJCp1v97e",
        "colab_type": "text"
      },
      "source": [
        "**b)** Quais das seguintes medidas de avaliação você consideraria: acurácia ou acurácia balanceada? Justifique. (0,5)"
      ]
    },
    {
      "cell_type": "markdown",
      "metadata": {
        "id": "7MVdSBv7wFT7",
        "colab_type": "text"
      },
      "source": [
        "*Resposta:*"
      ]
    },
    {
      "cell_type": "markdown",
      "metadata": {
        "id": "uicqEVT5v-Jr",
        "colab_type": "text"
      },
      "source": [
        "**c)** Considerando apenas as características apresentadas da base, você consideraria algum tipo de pré-processamento quando avaliando *k-nn*? Se sim, qual(is)? Justifique. (1,0):"
      ]
    },
    {
      "cell_type": "markdown",
      "metadata": {
        "id": "G9OpQUbQwMn7",
        "colab_type": "text"
      },
      "source": [
        "*Resposta:*"
      ]
    },
    {
      "cell_type": "markdown",
      "metadata": {
        "id": "Y4qua78wr09-",
        "colab_type": "text"
      },
      "source": [
        "\n",
        "\n",
        "---\n",
        "\n"
      ]
    },
    {
      "cell_type": "markdown",
      "metadata": {
        "id": "xkV98MhwXjZX",
        "colab_type": "text"
      },
      "source": [
        "#### **Questão 5** (1,0)\n",
        "\n",
        "As imagens a seguir são resultados da aplicação das redes neurais perceptron com múltiplas camadas (MLP) em um conjunto de dados de classificação. Sobre os conceitos de underfitting e overfitting, diga o que está ocorrendo intuitivamente em cada imagem."
      ]
    },
    {
      "cell_type": "markdown",
      "metadata": {
        "id": "DR75vJPLjQAS",
        "colab_type": "text"
      },
      "source": [
        "**a)** Underfitting ou overfitting? (0,5)\n",
        "\n",
        "<img src=\"https://drive.google.com/uc?id=1KyF9AXG76hHCZy9n5TP9SwBFMB-lGcGN\" />\n"
      ]
    },
    {
      "cell_type": "markdown",
      "metadata": {
        "id": "q0TloS63nZpG",
        "colab_type": "text"
      },
      "source": [
        "*Resposta:* **UNDERFITTING**"
      ]
    },
    {
      "cell_type": "markdown",
      "metadata": {
        "id": "CfUR6OuZnhMw",
        "colab_type": "text"
      },
      "source": [
        "**b)** Underfitting ou overfitting? (0,5)\n",
        "\n",
        "<img src=\"https://drive.google.com/uc?id=1fMdGCTSS9W1cuP-2Fr4NvicpmBGJs92k\" />"
      ]
    },
    {
      "cell_type": "markdown",
      "metadata": {
        "id": "yTkWpCEHn7PE",
        "colab_type": "text"
      },
      "source": [
        "*Resposta:* **OVERFITTING**"
      ]
    },
    {
      "cell_type": "markdown",
      "metadata": {
        "id": "EP08PE2CrqtD",
        "colab_type": "text"
      },
      "source": [
        "\n",
        "\n",
        "---\n",
        "\n"
      ]
    }
  ]
}