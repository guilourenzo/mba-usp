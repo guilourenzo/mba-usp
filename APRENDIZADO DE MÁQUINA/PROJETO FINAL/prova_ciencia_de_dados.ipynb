{
  "nbformat": 4,
  "nbformat_minor": 0,
  "metadata": {
    "colab": {
      "name": "prova ciencia de dados.ipynb",
      "provenance": [],
      "collapsed_sections": [],
      "toc_visible": true
    },
    "kernelspec": {
      "name": "python3",
      "display_name": "Python 3"
    }
  },
  "cells": [
    {
      "cell_type": "markdown",
      "metadata": {
        "id": "sXp1gm48wnv3",
        "colab_type": "text"
      },
      "source": [
        "<h1><center><b> MBA em Ciência de Dados </b></center></h1>\n",
        "<h3><center> CeMEAI - ICMC/USP - São Carlos</center></h3>\n",
        "\n",
        "<br><br>\n",
        "<h2><center><b> Avaliação Final </b></center></h2>\n",
        "<h3><center> Aprendizado de Máquina </center></h3>\n",
        "\n",
        "<br><br>\n",
        "<h4>Docente: Prof. Dr. André C. P. L. F. de Carvalho</h4>\n",
        "<h4>Tutores: Edesio, Eugênio, Gustavo, Moisés, Saulo e Victor</h4>\n",
        "<br><br>\n"
      ]
    },
    {
      "cell_type": "markdown",
      "metadata": {
        "id": "l4E4WDR0woFd",
        "colab_type": "text"
      },
      "source": [
        "<p><b>Instruções e Avisos:</b></p>\n",
        "<ul>\n",
        "  <li>A avaliação vale 10 pontos</li>\n",
        "  <li>As questões de 1 a 4, caso respondidas da forma correta, já totalizam\n",
        "10 pontos</li>\n",
        "  <li>A questão 5 é extra e vale 1 ponto</li>\n",
        "  <li>Responda as questões nas células reservadas para respostas, demarcadas com <i>\"Resposta: \"</i></li>\n",
        "  <li>Seja sucinto e objetivo nas respostas</li>\n",
        "</ul>  \n",
        "\n"
      ]
    },
    {
      "cell_type": "markdown",
      "metadata": {
        "id": "A8fN0Otb7W7H",
        "colab_type": "text"
      },
      "source": [
        "#### **Questão 1.** (2,5)\n",
        "\n",
        "O algorimto $k$-vizinhos mais próximos ($k$NN) é um algoritmo de aprendizado de máquina baseado em distância. Pré-processamento e escolhas adequadas de k devem ser feitas para evitar comportamentos indesejados. O que pode-se dizer sobre:"
      ]
    },
    {
      "cell_type": "markdown",
      "metadata": {
        "id": "ROn4p6y78uWO",
        "colab_type": "text"
      },
      "source": [
        "**a)** O que pode acontecer de indesejado quando $k$ tende a ser muito pequeno, tendendo a 1 vizinho. (1,0)"
      ]
    },
    {
      "cell_type": "markdown",
      "metadata": {
        "id": "ycozuyT261PK",
        "colab_type": "text"
      },
      "source": [
        "*Resposta:* **A PREDIÇÃO PODE ESTAR INSTÁVEL POR CONSIDERAR RUÍDOS E NÃO UTILIZAR QUANTIDADE SUFICIENTE DE INFORMAÇÃO** (_AULA 03 - SLIDE 15_)"
      ]
    },
    {
      "cell_type": "markdown",
      "metadata": {
        "id": "nI0_JRYs80k0",
        "colab_type": "text"
      },
      "source": [
        "**b)** O que pode acontecer de indesejado quando $k$ tende a ser muito grande, tendendo ao número de exemplos do conjunto de dados. (1,0)"
      ]
    },
    {
      "cell_type": "markdown",
      "metadata": {
        "id": "BpTx2F879TZc",
        "colab_type": "text"
      },
      "source": [
        "*Resposta:* **A PREDIÇÃO PODE SER TENDENCIOSA PARA A CLASSE MAJORITÁRIA AUMENTANDO A INCERTEZA NA CLASSIFICAÇÃO** (_AULA 03 - SLIDE 15_)"
      ]
    },
    {
      "cell_type": "markdown",
      "metadata": {
        "id": "ECDpBcMH_UXS",
        "colab_type": "text"
      },
      "source": [
        "**c)** Por que o algoritmo kNN é considerado lazy (preguiçoso). (0,5)"
      ]
    },
    {
      "cell_type": "markdown",
      "metadata": {
        "id": "xyUs8n_t_UoE",
        "colab_type": "text"
      },
      "source": [
        "*Resposta:* **POR QUE ELE PRECISA RECALCULAR TODOS OS PONTOS QUANDO HÁ A INCLUSÃO DE NOVOS DADOS**"
      ]
    },
    {
      "cell_type": "markdown",
      "metadata": {
        "id": "HmfTCxGbrj4g",
        "colab_type": "text"
      },
      "source": [
        "\n",
        "\n",
        "---\n",
        "\n"
      ]
    },
    {
      "cell_type": "markdown",
      "metadata": {
        "id": "63qu35sZR8jg",
        "colab_type": "text"
      },
      "source": [
        "#### **Questão 2** (2,5)\n",
        "\n",
        "O algoritmo k-médias é um método de agrupamento particional. Uma das principais escolhas que devem ser feitas é o número $k$ de agrupamentos que serão formados. Sobre o valor de $k$, o que é possível afirmar quando:\n"
      ]
    },
    {
      "cell_type": "markdown",
      "metadata": {
        "id": "z8u6-BEb62jE",
        "colab_type": "text"
      },
      "source": [
        "**a)** O valor de $k$ é grande, tendendo ao número de exemplos do conjunto de dados? (1,0)"
      ]
    },
    {
      "cell_type": "markdown",
      "metadata": {
        "id": "f-gelpcoVexo",
        "colab_type": "text"
      },
      "source": [
        "*Resposta:* **QUANTO MAIOR O VALOR DE K MAIOR SERÁ O PARTICIONAMENTO DOS DADOS, TENDO UMA QUANTIDADE MENOR DE INFORMAÇÃO EM CADA UM DOS CLUSTERS, TENDENDO PARA UM OVERFITTING, ONDE CADA PONTO É IDENTIFICADO COMO UM CLUSTER DIFERENTE.**"
      ]
    },
    {
      "cell_type": "markdown",
      "metadata": {
        "id": "m7GgZ7JLVl8z",
        "colab_type": "text"
      },
      "source": [
        "**b)** O valor de $k$ é pequeno, tendendo a $k=1$? (1,0)"
      ]
    },
    {
      "cell_type": "markdown",
      "metadata": {
        "id": "o6gC-M_9V02y",
        "colab_type": "text"
      },
      "source": [
        "*Resposta:* **QUANTO MENOR O VALOR DE K MENOR SERÁ O PARTICIONAMENTO DOS DADOS, TENDO UMA QUANTIDADE MUITO GRANDE DE INFORMAÇÃO NO CLUSTER, TENDENDO PARA UM UNDERFITTING, ONDE TODOS OS PONTOS SÃO IDENTIFICADOS COMO UM ÚNICO CLUSTER.**"
      ]
    },
    {
      "cell_type": "markdown",
      "metadata": {
        "id": "AMylhfQ2V4FG",
        "colab_type": "text"
      },
      "source": [
        "**c)** Cite um método que pode ser utilizado para escolha do valor de $k$ visto em aula. (0,5) "
      ]
    },
    {
      "cell_type": "markdown",
      "metadata": {
        "id": "zehnhMlLWM_Y",
        "colab_type": "text"
      },
      "source": [
        "*Resposta:* **O MÉTODO COTOVELO (ELBOW) É UM DOS MAIS UTILIZADOS POR SUA SIMPLICIDADE NA INTERPRETAÇÃO.**"
      ]
    },
    {
      "cell_type": "markdown",
      "metadata": {
        "id": "JAAISLbmrmDS",
        "colab_type": "text"
      },
      "source": [
        "\n",
        "\n",
        "---\n",
        "\n"
      ]
    },
    {
      "cell_type": "markdown",
      "metadata": {
        "id": "1GZPCPh-WQZz",
        "colab_type": "text"
      },
      "source": [
        "**Questão 3.** (2,5)\n",
        "\n",
        "Considere as representações gráficas de três modelos de árvore de classificação para um problema de classificação binária a seguir, respectivamente as árvores **A**, **B** e **C**. Em cada nó, observamos o *array* no formato ```value = [<n_classe_1>, <n_classe_2>]```, nos quais ```n_classe_1``` representa o número de exemplos pertencentes a classe 1 naquele nó e ```n_classe_2``` o número de exemplos pertencentes à classe 2 naquele nó. Em nós não-folha, um campo extra é apresentando, simbolizando uma condição encontrada pelo algoritmo de árvore, no formato ```<atributo_preditivo> <operador> <valor>```, no qual ```atributo_preditivo``` representa um atributo preditivo da base de dados, ```operador``` representa um possível operador como ```<, <=, >, >=, =``` e ```valor```representa um valor a ser comparado com o ```atributo_preditivo``` usando ```operador```. Caso a condição seja **verdadeira**, segue-se o caminho à **esquerda**, e caso seja **falsa**, segue-se o caminho da **direita**. Considere que cada árvore classifica um exemplo de acordo com a classe com maior quantidade de exemplos no nó folha.\n",
        "\n",
        "<img src=\"https://drive.google.com/uc?id=1--wDs5uIK8OHoLO0LYo288DzcejqOznJ\" />\n",
        "\n",
        "<img src=\"https://drive.google.com/uc?id=1yvqAt-64wn8sM0EWZlORBJlLPSttGU7r\" />\n",
        "\n",
        "<img src=\"https://drive.google.com/uc?id=11HJt-q8QRMbfUjBwipJ9Uug0LEh-RPif\" />\n",
        "\n",
        "**a)** Considere que as árvores **A**, **B** e **C** formam um *ensemble* cuja combinação é feita por **voto majoritário**. Use o ensemble para classificar os exemplos apresentados na tabela a seguir. Qual a predição para cada exemplo? Qual o valor da acurácia? Qual o valor da acurácia balanceada? (1,0)\n",
        "\n",
        "<img src=\"https://drive.google.com/uc?id=13Q6SXXLsrWQ9d7_hoqJAggZhl6mf6kOx\" />\n",
        "\n"
      ]
    },
    {
      "cell_type": "markdown",
      "metadata": {
        "id": "p2tQCcVLhHwd",
        "colab_type": "text"
      },
      "source": [
        "*Resposta:*"
      ]
    },
    {
      "cell_type": "markdown",
      "metadata": {
        "id": "rtpu-ZjbhP_s",
        "colab_type": "text"
      },
      "source": [
        "**b)** Escolha uma das árvores (**A**, **B** ou **C**). Indique a árvore escolhida e calcule a impureza de **todos** os nós-folhas usando *Gini*. (1,0)"
      ]
    },
    {
      "cell_type": "markdown",
      "metadata": {
        "id": "87h0y24WktXj",
        "colab_type": "text"
      },
      "source": [
        "*Resposta:*"
      ]
    },
    {
      "cell_type": "markdown",
      "metadata": {
        "id": "ZV3uMGaZkwbt",
        "colab_type": "text"
      },
      "source": [
        "**c)** Considere a sub-árvore apresentada a seguir. (0,5)\n",
        "\n",
        "<img src=\"https://drive.google.com/uc?id=1LBYuFseXhcABSiF7SsmVEBmv3lLANP5Z\" />\n",
        "\n",
        "Considere a figura abaixo que representa o corte no espaço de atributos que apenas a sub-árvore apresentada faz. Quais os valores de **X**, **Y**, **z** e **w** para que a figura esteja correta?\n",
        "\n",
        "<img src=\"https://drive.google.com/uc?id=15l22F1f4XYptwJAxbNrVG-LHx4s1tItz\" />"
      ]
    },
    {
      "cell_type": "markdown",
      "metadata": {
        "id": "ijA5m5ASq2kx",
        "colab_type": "text"
      },
      "source": [
        "*Resposta:*\n",
        "X = ;\n",
        "Y = ;\n",
        "z = ;\n",
        "w ="
      ]
    },
    {
      "cell_type": "markdown",
      "metadata": {
        "id": "sq2i0LuWroSW",
        "colab_type": "text"
      },
      "source": [
        "\n",
        "\n",
        "---\n",
        "\n"
      ]
    },
    {
      "cell_type": "markdown",
      "metadata": {
        "id": "22uoVHh3Xi_Q",
        "colab_type": "text"
      },
      "source": [
        "#### **Questão 4** (2,5)\n",
        "\n",
        "Dadas as características do conjunto de dados a seguir, as próximas questões se referem a escolha de um projeto de experimento adequado. Considere que os conjuntos de dados possuem dados suficientes.\n",
        "\n",
        "Características do conjunto de dados:\n",
        "\n",
        "* Tamanho: 3 atributos preditivos e 500 instâncias\n",
        "* Atributo 1: numérico, com valores entre (-2,2)\n",
        "* Atributo 2: numérico, com valores entre (0, 10000)\n",
        "* Atributo 3: categórico, com valores pertencentes ao conjunto {'A', 'B', 'C'}\n",
        "* Tarefa: Classificação\n",
        "* Número de classes: 2\n",
        "* Proporção entre as classes: 1:49\n",
        "\n",
        "Responda as seguintes questões:"
      ]
    },
    {
      "cell_type": "markdown",
      "metadata": {
        "id": "4RJmmG9ltAWa",
        "colab_type": "text"
      },
      "source": [
        "**a)** Quais dos seguintes particionamentos de dados você consideraria para avaliar um algoritmo de classificação qualquer: hold-out, validação cruzada estratificada, ou leave-one-out? Justifique. (1,0)"
      ]
    },
    {
      "cell_type": "markdown",
      "metadata": {
        "id": "kAottS0pvD81",
        "colab_type": "text"
      },
      "source": [
        "*Resposta:*"
      ]
    },
    {
      "cell_type": "markdown",
      "metadata": {
        "id": "ekNJJCp1v97e",
        "colab_type": "text"
      },
      "source": [
        "**b)** Quais das seguintes medidas de avaliação você consideraria: acurácia ou acurácia balanceada? Justifique. (0,5)"
      ]
    },
    {
      "cell_type": "markdown",
      "metadata": {
        "id": "7MVdSBv7wFT7",
        "colab_type": "text"
      },
      "source": [
        "*Resposta:*"
      ]
    },
    {
      "cell_type": "markdown",
      "metadata": {
        "id": "uicqEVT5v-Jr",
        "colab_type": "text"
      },
      "source": [
        "**c)** Considerando apenas as características apresentadas da base, você consideraria algum tipo de pré-processamento quando avaliando *k-nn*? Se sim, qual(is)? Justifique. (1,0):"
      ]
    },
    {
      "cell_type": "markdown",
      "metadata": {
        "id": "G9OpQUbQwMn7",
        "colab_type": "text"
      },
      "source": [
        "*Resposta:*"
      ]
    },
    {
      "cell_type": "markdown",
      "metadata": {
        "id": "Y4qua78wr09-",
        "colab_type": "text"
      },
      "source": [
        "\n",
        "\n",
        "---\n",
        "\n"
      ]
    },
    {
      "cell_type": "markdown",
      "metadata": {
        "id": "xkV98MhwXjZX",
        "colab_type": "text"
      },
      "source": [
        "#### **Questão 5** (1,0)\n",
        "\n",
        "As imagens a seguir são resultados da aplicação das redes neurais perceptron com múltiplas camadas (MLP) em um conjunto de dados de classificação. Sobre os conceitos de underfitting e overfitting, diga o que está ocorrendo intuitivamente em cada imagem."
      ]
    },
    {
      "cell_type": "markdown",
      "metadata": {
        "id": "DR75vJPLjQAS",
        "colab_type": "text"
      },
      "source": [
        "**a)** Underfitting ou overfitting? (0,5)\n",
        "\n",
        "<img src=\"https://drive.google.com/uc?id=1KyF9AXG76hHCZy9n5TP9SwBFMB-lGcGN\" />\n"
      ]
    },
    {
      "cell_type": "markdown",
      "metadata": {
        "id": "q0TloS63nZpG",
        "colab_type": "text"
      },
      "source": [
        "*Resposta:* **UNDERFITTING**"
      ]
    },
    {
      "cell_type": "markdown",
      "metadata": {
        "id": "CfUR6OuZnhMw",
        "colab_type": "text"
      },
      "source": [
        "**b)** Underfitting ou overfitting? (0,5)\n",
        "\n",
        "<img src=\"https://drive.google.com/uc?id=1fMdGCTSS9W1cuP-2Fr4NvicpmBGJs92k\" />"
      ]
    },
    {
      "cell_type": "markdown",
      "metadata": {
        "id": "yTkWpCEHn7PE",
        "colab_type": "text"
      },
      "source": [
        "*Resposta:* **OVERFITTING**"
      ]
    },
    {
      "cell_type": "markdown",
      "metadata": {
        "id": "EP08PE2CrqtD",
        "colab_type": "text"
      },
      "source": [
        "\n",
        "\n",
        "---\n",
        "\n"
      ]
    }
  ]
}