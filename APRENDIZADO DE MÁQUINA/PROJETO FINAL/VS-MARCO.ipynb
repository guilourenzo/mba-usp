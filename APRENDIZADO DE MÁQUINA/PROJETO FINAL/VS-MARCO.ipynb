{
 "cells": [
  {
   "cell_type": "markdown",
   "metadata": {
    "colab_type": "text",
    "id": "sXp1gm48wnv3"
   },
   "source": [
    "<h1><center><b> MBA em Ciência de Dados </b></center></h1>\n",
    "<h3><center> CeMEAI - ICMC/USP - São Carlos</center></h3>\n",
    "\n",
    "<br><br>\n",
    "<h2><center><b> Avaliação Final </b></center></h2>\n",
    "<h3><center> Aprendizado de Máquina </center></h3>\n",
    "\n",
    "<br><br>\n",
    "<h4>Docente: Prof. Dr. André C. P. L. F. de Carvalho</h4>\n",
    "<h4>Tutores: Edesio, Eugênio, Gustavo, Moisés, Saulo e Victor</h4>\n",
    "<br><br>\n"
   ]
  },
  {
   "cell_type": "markdown",
   "metadata": {
    "colab_type": "text",
    "id": "l4E4WDR0woFd"
   },
   "source": [
    "<p><b>Instruções e Avisos:</b></p>\n",
    "<ul>\n",
    "  <li>A avaliação vale 10 pontos</li>\n",
    "  <li>As questões de 1 a 4, caso respondidas da forma correta, já totalizam\n",
    "10 pontos</li>\n",
    "  <li>A questão 5 é extra e vale 1 ponto</li>\n",
    "  <li>Responda as questões nas células reservadas para respostas, demarcadas com <i>\"Resposta: \"</i></li>\n",
    "  <li>Seja sucinto e objetivo nas respostas</li>\n",
    "</ul>  \n",
    "\n"
   ]
  },
  {
   "cell_type": "markdown",
   "metadata": {
    "colab_type": "text",
    "id": "A8fN0Otb7W7H"
   },
   "source": [
    "#### **Questão 1.** (2,5)\n",
    "\n",
    "O algorimto $k$-vizinhos mais próximos ($k$NN) é um algoritmo de aprendizado de máquina baseado em distância. Pré-processamento e escolhas adequadas de k devem ser feitas para evitar comportamentos indesejados. O que pode-se dizer sobre:"
   ]
  },
  {
   "cell_type": "markdown",
   "metadata": {
    "colab_type": "text",
    "id": "ROn4p6y78uWO"
   },
   "source": [
    "**a)** O que pode acontecer de indesejado quando $k$ tende a ser muito pequeno, tendendo a 1 vizinho. (1,0)"
   ]
  },
  {
   "cell_type": "markdown",
   "metadata": {
    "colab_type": "text",
    "id": "ycozuyT261PK"
   },
   "source": [
    "*Resposta:* Quando o _k_ possuí um valor muito pequeno, a previsão pode ser instável, podendo existir ruído, pois é considerado apenas o objeto mais próximo, não utilizando uma quantidade suficiente de informações necessárias para a classificação."
   ]
  },
  {
   "cell_type": "markdown",
   "metadata": {
    "colab_type": "text",
    "id": "nI0_JRYs80k0"
   },
   "source": [
    "**b)** O que pode acontecer de indesejado quando $k$ tende a ser muito grande, tendendo ao número de exemplos do conjunto de dados. (1,0)"
   ]
  },
  {
   "cell_type": "markdown",
   "metadata": {
    "colab_type": "text",
    "id": "BpTx2F879TZc"
   },
   "source": [
    "*Resposta:* Quando o _k_ possuí um valor muito grande, muitos vizinhos irão fazer parte, assim como os vizinhos com características diferentes, aumentando drasticamente a incerteza da classificação, a predição tenderá as classes majoritárias neste cenário."
   ]
  },
  {
   "cell_type": "markdown",
   "metadata": {
    "colab_type": "text",
    "id": "ECDpBcMH_UXS"
   },
   "source": [
    "**c)** Por que o algoritmo kNN é considerado lazy (preguiçoso). (0,5)"
   ]
  },
  {
   "cell_type": "markdown",
   "metadata": {
    "colab_type": "text",
    "id": "xyUs8n_t_UoE"
   },
   "source": [
    "*Resposta:* O algoritmo __kNN__ é considerado _lazy_ (preguiçoso) pois apenas olha para os dados de treinamento, memorizando ao invés de \"treinar\", no momento em que irá realizar a classificação de um novo objeto. Indo além, o __kNN__ não constrói nenhum modelo explicitamente."
   ]
  },
  {
   "cell_type": "markdown",
   "metadata": {
    "colab_type": "text",
    "id": "HmfTCxGbrj4g"
   },
   "source": [
    "\n",
    "\n",
    "---\n",
    "\n"
   ]
  },
  {
   "cell_type": "markdown",
   "metadata": {
    "colab_type": "text",
    "id": "63qu35sZR8jg"
   },
   "source": [
    "#### **Questão 2** (2,5)\n",
    "\n",
    "O algoritmo k-médias é um método de agrupamento particional. Uma das principais escolhas que devem ser feitas é o número $k$ de agrupamentos que serão formados. Sobre o valor de $k$, o que é possível afirmar quando:\n"
   ]
  },
  {
   "cell_type": "markdown",
   "metadata": {
    "colab_type": "text",
    "id": "z8u6-BEb62jE"
   },
   "source": [
    "**a)** O valor de $k$ é grande, tendendo ao número de exemplos do conjunto de dados? (1,0)"
   ]
  },
  {
   "cell_type": "markdown",
   "metadata": {
    "colab_type": "text",
    "id": "f-gelpcoVexo"
   },
   "source": [
    "*Resposta:* Se o valor de _k_ for grande, diversos clusters irão ser formados, podendo conter elementos de diversas classes em um mesmo cluster, isso acarretará em grande incerteza de agrupamento e a predição tenderá as classes majoritárias."
   ]
  },
  {
   "cell_type": "markdown",
   "metadata": {
    "colab_type": "text",
    "id": "m7GgZ7JLVl8z"
   },
   "source": [
    "**b)** O valor de $k$ é pequeno, tendendo a $k=1$? (1,0)"
   ]
  },
  {
   "cell_type": "markdown",
   "metadata": {
    "colab_type": "text",
    "id": "o6gC-M_9V02y"
   },
   "source": [
    "*Resposta:* Se o valor de _k_ for pequeno, todos os elementos do conjunto de dados irão fazer parte desse único cluster, podendo erroneamente serem classificados, a predição tenderá a classe majoritária neste caso. Além disso, ocorre ocorre também o _underfitting_."
   ]
  },
  {
   "cell_type": "markdown",
   "metadata": {
    "colab_type": "text",
    "id": "AMylhfQ2V4FG"
   },
   "source": [
    "**c)** Cite um método que pode ser utilizado para escolha do valor de $k$ visto em aula. (0,5) "
   ]
  },
  {
   "cell_type": "markdown",
   "metadata": {
    "colab_type": "text",
    "id": "zehnhMlLWM_Y"
   },
   "source": [
    "*Resposta:* O _Método do Cotovole (Elbow)_ pode ser utilizado na escolha do melhor valor de _k_."
   ]
  },
  {
   "cell_type": "markdown",
   "metadata": {
    "colab_type": "text",
    "id": "JAAISLbmrmDS"
   },
   "source": [
    "\n",
    "\n",
    "---\n",
    "\n"
   ]
  },
  {
   "cell_type": "markdown",
   "metadata": {
    "colab_type": "text",
    "id": "1GZPCPh-WQZz"
   },
   "source": [
    "**Questão 3.** (2,5)\n",
    "\n",
    "Considere as representações gráficas de três modelos de árvore de classificação para um problema de classificação binária a seguir, respectivamente as árvores **A**, **B** e **C**. Em cada nó, observamos o *array* no formato ```value = [<n_classe_1>, <n_classe_2>]```, nos quais ```n_classe_1``` representa o número de exemplos pertencentes a classe 1 naquele nó e ```n_classe_2``` o número de exemplos pertencentes à classe 2 naquele nó. Em nós não-folha, um campo extra é apresentando, simbolizando uma condição encontrada pelo algoritmo de árvore, no formato ```<atributo_preditivo> <operador> <valor>```, no qual ```atributo_preditivo``` representa um atributo preditivo da base de dados, ```operador``` representa um possível operador como ```<, <=, >, >=, =``` e ```valor```representa um valor a ser comparado com o ```atributo_preditivo``` usando ```operador```. Caso a condição seja **verdadeira**, segue-se o caminho à **esquerda**, e caso seja **falsa**, segue-se o caminho da **direita**. Considere que cada árvore classifica um exemplo de acordo com a classe com maior quantidade de exemplos no nó folha.\n",
    "\n",
    "<img src=\"https://drive.google.com/uc?id=1--wDs5uIK8OHoLO0LYo288DzcejqOznJ\" />\n",
    "\n",
    "<img src=\"https://drive.google.com/uc?id=1yvqAt-64wn8sM0EWZlORBJlLPSttGU7r\" />\n",
    "\n",
    "<img src=\"https://drive.google.com/uc?id=11HJt-q8QRMbfUjBwipJ9Uug0LEh-RPif\" />\n",
    "\n",
    "**a)** Considere que as árvores **A**, **B** e **C** formam um *ensemble* cuja combinação é feita por **voto majoritário**. Use o ensemble para classificar os exemplos apresentados na tabela a seguir. Qual a predição para cada exemplo? Qual o valor da acurácia? Qual o valor da acurácia balanceada? (1,0)\n",
    "\n",
    "<img src=\"https://drive.google.com/uc?id=13Q6SXXLsrWQ9d7_hoqJAggZhl6mf6kOx\" />\n",
    "\n"
   ]
  },
  {
   "cell_type": "markdown",
   "metadata": {
    "colab_type": "text",
    "id": "p2tQCcVLhHwd"
   },
   "source": [
    "*Resposta:*"
   ]
  },
  {
   "cell_type": "code",
   "execution_count": 1,
   "metadata": {},
   "outputs": [],
   "source": [
    "import pandas as pd\n",
    "\n",
    "df = pd.DataFrame(\n",
    "    data = {\n",
    "        'Recency': [0.0, 1.0, 23.0, 21.0, 2.0],\n",
    "        'Frquency': [13.0, 24.0, 2.0, 2.0, 20.0],\n",
    "        'Monetary': [3250.0, 6000.0, 500.0, 500.0, 5000.0],\n",
    "        'Time': [28.0, 77.0, 38.0, 52.0, 45.0],\n",
    "        'Class': [2, 1, 1, 1, 2],\n",
    "        'Tree A': [2, 1, 1, 1, 2],\n",
    "        'Tree B': [1, 1, 1, 1, 1],\n",
    "        'Tree C': [2, 1, 1, 1, 1],\n",
    "        'Major Voting': [2, 1, 1, 1, 1],\n",
    "    }\n",
    ")\n",
    "# df.to_markdown()"
   ]
  },
  {
   "cell_type": "markdown",
   "metadata": {},
   "source": [
    "A predição para cada exemplo, está na tabela abaixo:\n",
    "\n",
    "|    |   Recency |   Frquency |   Monetary |   Time |   Class |   Tree A |   Tree B |   Tree C |   Major Voting |\n",
    "|---:|----------:|-----------:|-----------:|-------:|--------:|---------:|---------:|---------:|---------------:|\n",
    "|  0 |         0 |         13 |       3250 |     28 |       2 |        2 |        1 |        2 |              2 |\n",
    "|  1 |         1 |         24 |       6000 |     77 |       1 |        1 |        1 |        1 |              1 |\n",
    "|  2 |        23 |          2 |        500 |     38 |       1 |        1 |        1 |        1 |              1 |\n",
    "|  3 |        21 |          2 |        500 |     52 |       1 |        1 |        1 |        1 |              1 |\n",
    "|  4 |         2 |         20 |       5000 |     45 |       2 |        2 |        1 |        1 |              1 |"
   ]
  },
  {
   "cell_type": "markdown",
   "metadata": {},
   "source": [
    "Matriz de confusão:\n",
    "    \n",
    "|    |   1       |   2        |\n",
    "|---:|----------:|-----------:|\n",
    "|  __1__ |         3 |         1  |\n",
    "|  __2__ |         0 |         1  |"
   ]
  },
  {
   "cell_type": "markdown",
   "metadata": {},
   "source": [
    "A acurácia é dada por:\n",
    "    $$ Accuracy = (\\frac{TN + TP}{TN + TP + FN + TP}) × 100 \\% = \\frac{3 + 1}{3 + 1 + 1 + 0} × 100 \\% = 80 \\% $$"
   ]
  },
  {
   "cell_type": "markdown",
   "metadata": {},
   "source": [
    "A acurácia balanceada é dada por:\n",
    "    $$ Accuracy_{balanced} = \\frac{[ (\\frac{TN}{TN+FP}) + (\\frac{TP}{TP+FN}) ]}{2} × 100 \\% = \\frac{[ (\\frac{3}{3+1}) + (\\frac{1}{1+0}) ]}{2} × 100 \\% = 87,50 \\% $$"
   ]
  },
  {
   "cell_type": "markdown",
   "metadata": {
    "colab_type": "text",
    "id": "rtpu-ZjbhP_s"
   },
   "source": [
    "**b)** Escolha uma das árvores (**A**, **B** ou **C**). Indique a árvore escolhida e calcule a impureza de **todos** os nós-folhas usando *Gini*. (1,0)"
   ]
  },
  {
   "cell_type": "markdown",
   "metadata": {
    "colab_type": "text",
    "id": "87h0y24WktXj"
   },
   "source": [
    "*Resposta:* Para este exercício foi escolhido a árvode __B__. O índice de imporeza dos nós-folhas utilizando _Gini_ pode ser observado abaixo."
   ]
  },
  {
   "cell_type": "markdown",
   "metadata": {},
   "source": [
    "![title](img/e3.2-1.png)"
   ]
  },
  {
   "cell_type": "markdown",
   "metadata": {},
   "source": [
    "Para o nó-folha __1__: $$ Gini = 1 - (\\frac{12}{16})^2 - (\\frac{4}{16})^2 = 0.375 $$"
   ]
  },
  {
   "cell_type": "markdown",
   "metadata": {},
   "source": [
    "Para o nó-folha __2__: $$ Gini = 1 - (\\frac{6}{6})^2 - (\\frac{0}{6})^2 = 0.0 $$"
   ]
  },
  {
   "cell_type": "markdown",
   "metadata": {},
   "source": [
    "Para o nó-folha __3__: $$ Gini = 1 - (\\frac{23}{41})^2 - (\\frac{18}{41})^2 = 0.493 $$"
   ]
  },
  {
   "cell_type": "markdown",
   "metadata": {},
   "source": [
    "Para o nó-folha __4__: $$ Gini = 1 - (\\frac{2}{2})^2 - (\\frac{0}{2})^2 = 0.0 $$"
   ]
  },
  {
   "cell_type": "markdown",
   "metadata": {},
   "source": [
    "Para o nó-folha __5__: $$ Gini = 1 - (\\frac{35}{35})^2 - (\\frac{0}{35})^2 = 0.0 $$"
   ]
  },
  {
   "cell_type": "markdown",
   "metadata": {
    "colab_type": "text",
    "id": "ZV3uMGaZkwbt"
   },
   "source": [
    "**c)** Considere a sub-árvore apresentada a seguir. (0,5)\n",
    "\n",
    "<img src=\"https://drive.google.com/uc?id=1LBYuFseXhcABSiF7SsmVEBmv3lLANP5Z\" />\n",
    "\n",
    "Considere a figura abaixo que representa o corte no espaço de atributos que apenas a sub-árvore apresentada faz. Quais os valores de **X**, **Y**, **z** e **w** para que a figura esteja correta?\n",
    "\n",
    "<img src=\"https://drive.google.com/uc?id=15l22F1f4XYptwJAxbNrVG-LHx4s1tItz\" />"
   ]
  },
  {
   "cell_type": "markdown",
   "metadata": {
    "colab_type": "text",
    "id": "ijA5m5ASq2kx"
   },
   "source": [
    "*Resposta:*<br>\n",
    "X = __Recency__;<br>\n",
    "Y = __1.5__;<br>\n",
    "z = __Classe 1 (62 elementos)__;<br>\n",
    "w = __Classe 2 (1 elemento)__;<br>"
   ]
  },
  {
   "cell_type": "markdown",
   "metadata": {
    "colab_type": "text",
    "id": "sq2i0LuWroSW"
   },
   "source": [
    "\n",
    "\n",
    "---\n",
    "\n"
   ]
  },
  {
   "cell_type": "markdown",
   "metadata": {
    "colab_type": "text",
    "id": "22uoVHh3Xi_Q"
   },
   "source": [
    "#### **Questão 4** (2,5)\n",
    "\n",
    "Dadas as características do conjunto de dados a seguir, as próximas questões se referem a escolha de um projeto de experimento adequado. Considere que os conjuntos de dados possuem dados suficientes.\n",
    "\n",
    "Características do conjunto de dados:\n",
    "\n",
    "* Tamanho: 3 atributos preditivos e 500 instâncias\n",
    "* Atributo 1: numérico, com valores entre (-2,2)\n",
    "* Atributo 2: numérico, com valores entre (0, 10000)\n",
    "* Atributo 3: categórico, com valores pertencentes ao conjunto {'A', 'B', 'C'}\n",
    "* Tarefa: Classificação\n",
    "* Número de classes: 2\n",
    "* Proporção entre as classes: 1:49\n",
    "\n",
    "Responda as seguintes questões:"
   ]
  },
  {
   "cell_type": "markdown",
   "metadata": {
    "colab_type": "text",
    "id": "4RJmmG9ltAWa"
   },
   "source": [
    "**a)** Quais dos seguintes particionamentos de dados você consideraria para avaliar um algoritmo de classificação qualquer: hold-out, validação cruzada estratificada, ou leave-one-out? Justifique. (1,0)"
   ]
  },
  {
   "cell_type": "markdown",
   "metadata": {
    "colab_type": "text",
    "id": "kAottS0pvD81"
   },
   "source": [
    "*Resposta:* O método de particionamento _hold-out_ considera apenas uma amostragem, por isso não seria indicado, pois é pouco confiável, ainda mais neste exemplo, onde os dados têm um desbalanceamento elevadíssimo (1:49). Neste cenário, seria melhor utilizar os métodos de particionamento que considerem reamostragem: validação cruzada estratificada e _leave-one-out_. No entanto, o _leave-one-out_ não pode ser considerado devido ao desbalanceamento elevado, podemos ter partições com poucos e/ou nenhum dado da classe minoritária, enviesando o treinamento do modelo. Ademais, para este caso, o melhor método seria o validação cruzada estratificada, pois leva em consideração o desbalanceamento de classes."
   ]
  },
  {
   "cell_type": "markdown",
   "metadata": {
    "colab_type": "text",
    "id": "ekNJJCp1v97e"
   },
   "source": [
    "**b)** Quais das seguintes medidas de avaliação você consideraria: acurácia ou acurácia balanceada? Justifique. (0,5)"
   ]
  },
  {
   "cell_type": "markdown",
   "metadata": {
    "colab_type": "text",
    "id": "7MVdSBv7wFT7"
   },
   "source": [
    "*Resposta:* Para este projeto, não é recomendado considerar a medida de __acurácia__, pois os dados estão desbalanceados (proporção de 1:49), podendo induzir baixo acerto para as classes minoritárias, prejudicando-as. Neste cenário, __é recomendado__ a utilização da __acurácia balanceda__, pois é considerado o cenário de desbalanceamento entre as classes, sendo o resultado de medida de avaliação mais confiável."
   ]
  },
  {
   "cell_type": "markdown",
   "metadata": {
    "colab_type": "text",
    "id": "uicqEVT5v-Jr"
   },
   "source": [
    "**c)** Considerando apenas as características apresentadas da base, você consideraria algum tipo de pré-processamento quando avaliando *k-nn*? Se sim, qual(is)? Justifique. (1,0):"
   ]
  },
  {
   "cell_type": "markdown",
   "metadata": {
    "colab_type": "text",
    "id": "G9OpQUbQwMn7"
   },
   "source": [
    "*Resposta:* Sim.<br>\n",
    "Normalização dos Atributos 1 e 2, pois sua escala de valores pode afetar o treinamento do modelo.<br>\n",
    "Aplicar _One-hot-encoding_ no Atributo 3, pois é categórito, necessitando ser númerico para o treinamento correto do modelo.<br>\n",
    "Ponderaria os atribulos pela importância, utilizando técnicas como _Principal component analysis_ (PCA)."
   ]
  },
  {
   "cell_type": "markdown",
   "metadata": {
    "colab_type": "text",
    "id": "Y4qua78wr09-"
   },
   "source": [
    "\n",
    "\n",
    "---\n",
    "\n"
   ]
  },
  {
   "cell_type": "markdown",
   "metadata": {
    "colab_type": "text",
    "id": "xkV98MhwXjZX"
   },
   "source": [
    "#### **Questão 5** (1,0)\n",
    "\n",
    "As imagens a seguir são resultados da aplicação das redes neurais perceptron com múltiplas camadas (MLP) em um conjunto de dados de classificação. Sobre os conceitos de underfitting e overfitting, diga o que está ocorrendo intuitivamente em cada imagem."
   ]
  },
  {
   "cell_type": "markdown",
   "metadata": {
    "colab_type": "text",
    "id": "DR75vJPLjQAS"
   },
   "source": [
    "**a)** Underfitting ou overfitting? (0,5)\n",
    "\n",
    "<img src=\"https://drive.google.com/uc?id=1KyF9AXG76hHCZy9n5TP9SwBFMB-lGcGN\" />\n"
   ]
  },
  {
   "cell_type": "markdown",
   "metadata": {
    "colab_type": "text",
    "id": "q0TloS63nZpG"
   },
   "source": [
    "*Resposta:* Na imagem, é possível observar o caso de _underfitting_ pois existem círculos vermelhos e triângulos verdes na área verde, porém com predominância da classe verde, fator similar ocorre na região vermelha, onde há majoritariamente circulos vermelhos. No entanto, a figura geométrica de separação tem uma região convexa aberta e de formato simples, portanto, podemos considerar que a solução está em _underfitting_ , pois não separa as classes divergentes com tantos detalhes."
   ]
  },
  {
   "cell_type": "markdown",
   "metadata": {
    "colab_type": "text",
    "id": "CfUR6OuZnhMw"
   },
   "source": [
    "**b)** Underfitting ou overfitting? (0,5)\n",
    "\n",
    "<img src=\"https://drive.google.com/uc?id=1fMdGCTSS9W1cuP-2Fr4NvicpmBGJs92k\" />"
   ]
  },
  {
   "cell_type": "markdown",
   "metadata": {
    "colab_type": "text",
    "id": "yTkWpCEHn7PE"
   },
   "source": [
    "*Resposta:* Na imagem, é possível observar o caso de _overfitting_. A figura gerada apresenta uma complexida elevada em relação a figura anterior. Os contornos são desenhados, com detalhes expressivos, tendendo a englobar quase todas as classes verdes (formas geométricas verdes) ou todas as classes vermelha (formas geométricas vermelhas), em sua região de separação. Ademais, pelas formas geométrias resultantes terem se moldado com bastante expressividade nos dados acima, é possível considerar o _overfitting_."
   ]
  },
  {
   "cell_type": "markdown",
   "metadata": {
    "colab_type": "text",
    "id": "EP08PE2CrqtD"
   },
   "source": [
    "\n",
    "\n",
    "---\n",
    "\n"
   ]
  }
 ],
 "metadata": {
  "colab": {
   "collapsed_sections": [],
   "name": "prova ciencia de dados.ipynb",
   "provenance": [],
   "toc_visible": true
  },
  "kernelspec": {
   "display_name": "Python 3",
   "language": "python",
   "name": "python3"
  },
  "language_info": {
   "codemirror_mode": {
    "name": "ipython",
    "version": 3
   },
   "file_extension": ".py",
   "mimetype": "text/x-python",
   "name": "python",
   "nbconvert_exporter": "python",
   "pygments_lexer": "ipython3",
   "version": "3.6.5"
  },
  "toc": {
   "base_numbering": 1,
   "nav_menu": {},
   "number_sections": true,
   "sideBar": true,
   "skip_h1_title": false,
   "title_cell": "Table of Contents",
   "title_sidebar": "Contents",
   "toc_cell": false,
   "toc_position": {},
   "toc_section_display": true,
   "toc_window_display": false
  }
 },
 "nbformat": 4,
 "nbformat_minor": 1
}
