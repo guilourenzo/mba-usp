{
 "cells": [
  {
   "cell_type": "markdown",
   "metadata": {
    "colab_type": "text",
    "id": "sXp1gm48wnv3"
   },
   "source": [
    "<h1><center><b> MBA em Ciência de Dados </b></center></h1>\n",
    "<h3><center> CeMEAI - ICMC/USP - São Carlos</center></h3>\n",
    "\n",
    "<br><br>\n",
    "<h2><center><b> Avaliação Final </b></center></h2>\n",
    "<h3><center> Aprendizado de Máquina </center></h3>\n",
    "\n",
    "<br><br>\n",
    "<h4>Docente: Prof. Dr. André C. P. L. F. de Carvalho</h4>\n",
    "<h4>Tutores: Edesio, Eugênio, Gustavo, Moisés, Saulo e Victor</h4>\n",
    "<br><br>\n"
   ]
  },
  {
   "cell_type": "markdown",
   "metadata": {},
   "source": [
    "### Aluna : Sandy Elen Braga Melo"
   ]
  },
  {
   "cell_type": "markdown",
   "metadata": {
    "colab_type": "text",
    "id": "l4E4WDR0woFd"
   },
   "source": [
    "<p><b>Instruções e Avisos:</b></p>\n",
    "<ul>\n",
    "  <li>A avaliação vale 10 pontos</li>\n",
    "  <li>As questões de 1 a 4, caso respondidas da forma correta, já totalizam\n",
    "10 pontos</li>\n",
    "  <li>A questão 5 é extra e vale 1 ponto</li>\n",
    "  <li>Responda as questões nas células reservadas para respostas, demarcadas com <i>\"Resposta: \"</i></li>\n",
    "  <li>Seja sucinto e objetivo nas respostas</li>\n",
    "</ul>  \n",
    "\n"
   ]
  },
  {
   "cell_type": "markdown",
   "metadata": {
    "colab_type": "text",
    "id": "A8fN0Otb7W7H"
   },
   "source": [
    "#### **Questão 1.** (2,5)\n",
    "\n",
    "O algorimto $k$-vizinhos mais próximos ($k$NN) é um algoritmo de aprendizado de máquina baseado em distância. Pré-processamento e escolhas adequadas de k devem ser feitas para evitar comportamentos indesejados. O que pode-se dizer sobre:"
   ]
  },
  {
   "cell_type": "markdown",
   "metadata": {
    "colab_type": "text",
    "id": "ROn4p6y78uWO"
   },
   "source": [
    "**a)** O que pode acontecer de indesejado quando $k$ tende a ser muito pequeno, tendendo a 1 vizinho. (1,0)"
   ]
  },
  {
   "cell_type": "markdown",
   "metadata": {
    "colab_type": "text",
    "id": "ycozuyT261PK"
   },
   "source": [
    "<font color='red'>*Resposta:* Quando o k é pequeno, a classificação fica mais sensível a regiões bem próximas (podendo ocorrer o problema de overfitting). Um cenário de overfitting ocorre quando, nos dados de treino, o modelo tem um desempenho excelente, porém quando utilizamos os dados de teste o resultado é ruim. O algoritmo, ao considerar uma pequena quantidades de vizinhos, acabará predizendo características de determinados pontos de dados com base no ruído, o que aumentará o erro das previsões. Ao considerar apenas 1 vizinho o modelo poderá errar bastante em suas classificações.</font>"
   ]
  },
  {
   "cell_type": "markdown",
   "metadata": {
    "colab_type": "text",
    "id": "nI0_JRYs80k0"
   },
   "source": [
    "**b)** O que pode acontecer de indesejado quando $k$ tende a ser muito grande, tendendo ao número de exemplos do conjunto de dados. (1,0)"
   ]
  },
  {
   "cell_type": "markdown",
   "metadata": {
    "colab_type": "text",
    "id": "BpTx2F879TZc"
   },
   "source": [
    "<font color='red'> *Resposta:* Se k for grande demais, pode ser que haja o problema de underfitting. O modelo underfitting ocorre quando o modelo não se adapta bem sequer aos dados com os quais foi treinado. Nesse caso, o algoritmo passará a considerar pontos de dados muito distantes, o que dificultará, ou até impossibilitará uma classificação mais condizente para o ponto. Pois, tenderá a classificar na classe majoritária, e assim, aumentará a incerteza na classificação.</font>"
   ]
  },
  {
   "cell_type": "markdown",
   "metadata": {
    "colab_type": "text",
    "id": "ECDpBcMH_UXS"
   },
   "source": [
    "**c)** Por que o algoritmo kNN é considerado lazy (preguiçoso). (0,5)"
   ]
  },
  {
   "cell_type": "markdown",
   "metadata": {
    "colab_type": "text",
    "id": "xyUs8n_t_UoE"
   },
   "source": [
    "<font color='red'> *Resposta:* O algoritmo KNN é considerado um algoritmo lazy, porque esse modelo não utiliza a base de treino para desenvolver uma função de discriminação, ao invés, disso, ele apenas realiza as predições calculando todas as distâncias relativas dos itens e prevendo as características por meio da moda. Ao contrário dos outros algoritmos ele não constrói um modelo (diferente do Naive Bayes, redes neurais, árvore de decisão por exemplo, que analisam os dados e geram um modelo que será uma tabela de probabilidade), ele faz somente o cálculo de distância.</font>"
   ]
  },
  {
   "cell_type": "markdown",
   "metadata": {
    "colab_type": "text",
    "id": "HmfTCxGbrj4g"
   },
   "source": [
    "\n",
    "\n",
    "---\n",
    "\n"
   ]
  },
  {
   "cell_type": "markdown",
   "metadata": {
    "colab_type": "text",
    "id": "63qu35sZR8jg"
   },
   "source": [
    "#### **Questão 2** (2,5)\n",
    "\n",
    "O algoritmo k-médias é um método de agrupamento particional. Uma das principais escolhas que devem ser feitas é o número $k$ de agrupamentos que serão formados. Sobre o valor de $k$, o que é possível afirmar quando:\n"
   ]
  },
  {
   "cell_type": "markdown",
   "metadata": {
    "colab_type": "text",
    "id": "z8u6-BEb62jE"
   },
   "source": [
    "**a)** O valor de $k$ é grande, tendendo ao número de exemplos do conjunto de dados? (1,0)"
   ]
  },
  {
   "cell_type": "markdown",
   "metadata": {
    "colab_type": "text",
    "id": "f-gelpcoVexo"
   },
   "source": [
    "<font color='red'> *Resposta:* O que geralmente acontece ao aumentar a quantidade de clusters no KMeans é que as diferenças entre clusters se tornam muito pequenas, e as diferenças das observações intra-clusters vão aumentando. Portanto, quando o k tende ao número de exemplos do conjunto de dados, objetos similares podem ser separados. Um número muito grande de K, não acrescentaria substancialmente no resultado qualitativo dos dados.</font>"
   ]
  },
  {
   "cell_type": "markdown",
   "metadata": {
    "colab_type": "text",
    "id": "m7GgZ7JLVl8z"
   },
   "source": [
    "**b)** O valor de $k$ é pequeno, tendendo a $k=1$? (1,0)"
   ]
  },
  {
   "cell_type": "markdown",
   "metadata": {
    "colab_type": "text",
    "id": "o6gC-M_9V02y"
   },
   "source": [
    "<font color='red'>*Resposta:* O valor de K ideal nos ajuda a formar agrupamentos que sejam o mais homogêneas possíveis e cujos agrupamentos formados sejam o mais diferentes um dos outros. Se K=1, todas as observações estarão incluídas em um mesmo grupo e pontos que seriam diferentes podem ser considerados semelhantes. Assim, não havendo distinção uns dos outros.  </font>"
   ]
  },
  {
   "cell_type": "markdown",
   "metadata": {
    "colab_type": "text",
    "id": "AMylhfQ2V4FG"
   },
   "source": [
    "**c)** Cite um método que pode ser utilizado para escolha do valor de $k$ visto em aula. (0,5) "
   ]
  },
  {
   "cell_type": "markdown",
   "metadata": {
    "colab_type": "text",
    "id": "zehnhMlLWM_Y"
   },
   "source": [
    "<font color='red'>*Resposta:* Método do Cotovelo (ELBOW).  Roda-se o KMeans para vários quantidades diferentes de clusters e verifica-se qual dessas quantidades é o número ótimo de clusters. Inicia-se com o valor de k=1 então aumenta-se gradativamente esse valor. Caso não haja uma mudança significativa na variância, pode-se concluir que um número para K foi achado. </font>"
   ]
  },
  {
   "cell_type": "markdown",
   "metadata": {
    "colab_type": "text",
    "id": "JAAISLbmrmDS"
   },
   "source": [
    "\n",
    "\n",
    "---\n",
    "\n"
   ]
  },
  {
   "cell_type": "markdown",
   "metadata": {
    "colab_type": "text",
    "id": "1GZPCPh-WQZz"
   },
   "source": [
    "**Questão 3.** (2,5)\n",
    "\n",
    "Considere as representações gráficas de três modelos de árvore de classificação para um problema de classificação binária a seguir, respectivamente as árvores **A**, **B** e **C**. Em cada nó, observamos o *array* no formato ```value = [<n_classe_1>, <n_classe_2>]```, nos quais ```n_classe_1``` representa o número de exemplos pertencentes a classe 1 naquele nó e ```n_classe_2``` o número de exemplos pertencentes à classe 2 naquele nó. Em nós não-folha, um campo extra é apresentando, simbolizando uma condição encontrada pelo algoritmo de árvore, no formato ```<atributo_preditivo> <operador> <valor>```, no qual ```atributo_preditivo``` representa um atributo preditivo da base de dados, ```operador``` representa um possível operador como ```<, <=, >, >=, =``` e ```valor```representa um valor a ser comparado com o ```atributo_preditivo``` usando ```operador```. Caso a condição seja **verdadeira**, segue-se o caminho à **esquerda**, e caso seja **falsa**, segue-se o caminho da **direita**. Considere que cada árvore classifica um exemplo de acordo com a classe com maior quantidade de exemplos no nó folha.\n",
    "\n",
    "<img src=\"https://urldefense.com/v3/__https://drive.google.com/uc?id=1--wDs5uIK8OHoLO0LYo288DzcejqOznJ*5C__;JQ!!MfzFaTml5A!1B6gi0XcVS0rb-ox2pbNTROJ2ZrrrzKXL1dQsrvVKG4lzgM8E4b1QFedzRvbWQ51JrNB1rve9hc$ " />\n",
    "\n",
    "<img src=\"https://urldefense.com/v3/__https://drive.google.com/uc?id=1yvqAt-64wn8sM0EWZlORBJlLPSttGU7r*5C__;JQ!!MfzFaTml5A!1B6gi0XcVS0rb-ox2pbNTROJ2ZrrrzKXL1dQsrvVKG4lzgM8E4b1QFedzRvbWQ51JrNBBAAOz78$ " />\n",
    "\n",
    "<img src=\"https://urldefense.com/v3/__https://drive.google.com/uc?id=11HJt-q8QRMbfUjBwipJ9Uug0LEh-RPif*5C__;JQ!!MfzFaTml5A!1B6gi0XcVS0rb-ox2pbNTROJ2ZrrrzKXL1dQsrvVKG4lzgM8E4b1QFedzRvbWQ51JrNBGYW-lz4$ " />\n",
    "\n",
    "**a)** Considere que as árvores **A**, **B** e **C** formam um *ensemble* cuja combinação é feita por **voto majoritário**. Use o ensemble para classificar os exemplos apresentados na tabela a seguir. Qual a predição para cada exemplo? Qual o valor da acurácia? Qual o valor da acurácia balanceada? (1,0)\n",
    "\n",
    "<img src=\"https://urldefense.com/v3/__https://drive.google.com/uc?id=13Q6SXXLsrWQ9d7_hoqJAggZhl6mf6kOx*5C__;JQ!!MfzFaTml5A!1B6gi0XcVS0rb-ox2pbNTROJ2ZrrrzKXL1dQsrvVKG4lzgM8E4b1QFedzRvbWQ51JrNB267swkI$ " />\n",
    "\n"
   ]
  },
  {
   "cell_type": "code",
   "execution_count": 4,
   "metadata": {
    "colab_type": "text",
    "id": "p2tQCcVLhHwd"
   },
   "outputs": [
    {
     "data": {
      "text/html": [
       "<div>\n",
       "<style scoped>\n",
       "    .dataframe tbody tr th:only-of-type {\n",
       "        vertical-align: middle;\n",
       "    }\n",
       "\n",
       "    .dataframe tbody tr th {\n",
       "        vertical-align: top;\n",
       "    }\n",
       "\n",
       "    .dataframe thead th {\n",
       "        text-align: right;\n",
       "    }\n",
       "</style>\n",
       "<table border=\"1\" class=\"dataframe\">\n",
       "  <thead>\n",
       "    <tr style=\"text-align: right;\">\n",
       "      <th></th>\n",
       "      <th>Recency</th>\n",
       "      <th>Frquency</th>\n",
       "      <th>Monetary</th>\n",
       "      <th>Time</th>\n",
       "      <th>Class</th>\n",
       "      <th>Tree A</th>\n",
       "      <th>Tree B</th>\n",
       "      <th>Tree C</th>\n",
       "      <th>Major Voting</th>\n",
       "    </tr>\n",
       "  </thead>\n",
       "  <tbody>\n",
       "    <tr>\n",
       "      <th>0</th>\n",
       "      <td>0.0</td>\n",
       "      <td>13.0</td>\n",
       "      <td>3250.0</td>\n",
       "      <td>28.0</td>\n",
       "      <td>2</td>\n",
       "      <td>2</td>\n",
       "      <td>1</td>\n",
       "      <td>2</td>\n",
       "      <td>2</td>\n",
       "    </tr>\n",
       "    <tr>\n",
       "      <th>1</th>\n",
       "      <td>1.0</td>\n",
       "      <td>24.0</td>\n",
       "      <td>6000.0</td>\n",
       "      <td>77.0</td>\n",
       "      <td>1</td>\n",
       "      <td>1</td>\n",
       "      <td>1</td>\n",
       "      <td>1</td>\n",
       "      <td>1</td>\n",
       "    </tr>\n",
       "    <tr>\n",
       "      <th>2</th>\n",
       "      <td>23.0</td>\n",
       "      <td>2.0</td>\n",
       "      <td>500.0</td>\n",
       "      <td>38.0</td>\n",
       "      <td>1</td>\n",
       "      <td>1</td>\n",
       "      <td>1</td>\n",
       "      <td>1</td>\n",
       "      <td>1</td>\n",
       "    </tr>\n",
       "    <tr>\n",
       "      <th>3</th>\n",
       "      <td>21.0</td>\n",
       "      <td>2.0</td>\n",
       "      <td>500.0</td>\n",
       "      <td>52.0</td>\n",
       "      <td>1</td>\n",
       "      <td>1</td>\n",
       "      <td>1</td>\n",
       "      <td>1</td>\n",
       "      <td>1</td>\n",
       "    </tr>\n",
       "    <tr>\n",
       "      <th>4</th>\n",
       "      <td>2.0</td>\n",
       "      <td>20.0</td>\n",
       "      <td>5000.0</td>\n",
       "      <td>45.0</td>\n",
       "      <td>2</td>\n",
       "      <td>2</td>\n",
       "      <td>1</td>\n",
       "      <td>1</td>\n",
       "      <td>1</td>\n",
       "    </tr>\n",
       "  </tbody>\n",
       "</table>\n",
       "</div>"
      ],
      "text/plain": [
       "   Recency  Frquency  Monetary  Time  Class  Tree A  Tree B  Tree C  \\\n",
       "0      0.0      13.0    3250.0  28.0      2       2       1       2   \n",
       "1      1.0      24.0    6000.0  77.0      1       1       1       1   \n",
       "2     23.0       2.0     500.0  38.0      1       1       1       1   \n",
       "3     21.0       2.0     500.0  52.0      1       1       1       1   \n",
       "4      2.0      20.0    5000.0  45.0      2       2       1       1   \n",
       "\n",
       "   Major Voting  \n",
       "0             2  \n",
       "1             1  \n",
       "2             1  \n",
       "3             1  \n",
       "4             1  "
      ]
     },
     "execution_count": 4,
     "metadata": {},
     "output_type": "execute_result"
    }
   ],
   "source": [
    "#Resposta:\n",
    "\n",
    "import pandas as pd\n",
    "\n",
    "df = pd.DataFrame(\n",
    "data = {\n",
    "'Recency': [0.0, 1.0, 23.0, 21.0, 2.0],\n",
    "'Frquency': [13.0, 24.0, 2.0, 2.0, 20.0],\n",
    "'Monetary': [3250.0, 6000.0, 500.0, 500.0, 5000.0],\n",
    "'Time': [28.0, 77.0, 38.0, 52.0, 45.0],\n",
    "'Class': [2, 1, 1, 1, 2],\n",
    "'Tree A': [2, 1, 1, 1, 2],\n",
    "'Tree B': [1, 1, 1, 1, 1],\n",
    "'Tree C': [2, 1, 1, 1, 1],\n",
    "'Major Voting': [2, 1, 1, 1, 1],\n",
    "}\n",
    ")\n",
    "\n",
    "df"
   ]
  },
  {
   "cell_type": "code",
   "execution_count": null,
   "metadata": {},
   "outputs": [],
   "source": []
  },
  {
   "cell_type": "markdown",
   "metadata": {
    "colab_type": "text",
    "id": "rtpu-ZjbhP_s"
   },
   "source": [
    "**b)** Escolha uma das árvores (**A**, **B** ou **C**). Indique a árvore escolhida e calcule a impureza de **todos** os nós-folhas usando *Gini*. (1,0)"
   ]
  },
  {
   "cell_type": "markdown",
   "metadata": {
    "colab_type": "text",
    "id": "87h0y24WktXj"
   },
   "source": [
    "<font color='red'> *Resposta:* Abaixo segue o valor de Gini para cada nó folha da árvore B.\n",
    "\n",
    "Nó 1: (1-(78/100)^2 - (22/100)^2) = 0.343;<br>\n",
    "Nó 2: (1-(43/65) ^2 - (22/65)^2)  = 0.448;<br>\n",
    "Nó 3: (1-(35/35)^2 - (0/35)^2) = 0.000;<br>\n",
    "Nó 4: (1-(18/22)^2 - (4/22)^2) = 0.298;<br>\n",
    "Nó 5: (1-(25/43)^2 - (18/43)^2) = 0.487;<br>\n",
    "Nó 6: (1-(12/16)^2 - (4/16)^2) = 0.375;<br>\n",
    "Nó 7: (1-(6/6)^2 - (0/6)^2) = 0.000;<br>\n",
    "Nó 8: (1-(23/41)^2 - (18/41)^2) = 0.493;<br>\n",
    "Nó 9: (1-(2/2)^2 - (0/2)^2) = 0.000.\n",
    "</font>"
   ]
  },
  {
   "cell_type": "markdown",
   "metadata": {
    "colab_type": "text",
    "id": "ZV3uMGaZkwbt"
   },
   "source": [
    "**c)** Considere a sub-árvore apresentada a seguir. (0,5)\n",
    "\n",
    "<img src=\"https://urldefense.com/v3/__https://drive.google.com/uc?id=1LBYuFseXhcABSiF7SsmVEBmv3lLANP5Z*5C__;JQ!!MfzFaTml5A!1B6gi0XcVS0rb-ox2pbNTROJ2ZrrrzKXL1dQsrvVKG4lzgM8E4b1QFedzRvbWQ51JrNBO8cjivE$ " />\n",
    "\n",
    "Considere a figura abaixo que representa o corte no espaço de atributos que apenas a sub-árvore apresentada faz. Quais os valores de **X**, **Y**, **z** e **w** para que a figura esteja correta?\n",
    "\n",
    "<img src=\"https://urldefense.com/v3/__https://drive.google.com/uc?id=15l22F1f4XYptwJAxbNrVG-LHx4s1tItz*5C__;JQ!!MfzFaTml5A!1B6gi0XcVS0rb-ox2pbNTROJ2ZrrrzKXL1dQsrvVKG4lzgM8E4b1QFedzRvbWQ51JrNBIYhMvZM$ " />"
   ]
  },
  {
   "cell_type": "markdown",
   "metadata": {
    "colab_type": "text",
    "id": "ijA5m5ASq2kx"
   },
   "source": [
    "<font color='red'> \n",
    "*Resposta:*\n",
    "X = Recency;\n",
    "Y = 1.5;\n",
    "z =[49,13];\n",
    "w =[0,1]\n",
    "<font>"
   ]
  },
  {
   "cell_type": "markdown",
   "metadata": {
    "colab_type": "text",
    "id": "sq2i0LuWroSW"
   },
   "source": [
    "\n",
    "\n",
    "---\n",
    "\n"
   ]
  },
  {
   "cell_type": "markdown",
   "metadata": {
    "colab_type": "text",
    "id": "22uoVHh3Xi_Q"
   },
   "source": [
    "#### **Questão 4** (2,5)\n",
    "\n",
    "Dadas as características do conjunto de dados a seguir, as próximas questões se referem a escolha de um projeto de experimento adequado. Considere que os conjuntos de dados possuem dados suficientes.\n",
    "\n",
    "Características do conjunto de dados:\n",
    "\n",
    "* Tamanho: 3 atributos preditivos e 500 instâncias\n",
    "* Atributo 1: numérico, com valores entre (-2,2)\n",
    "* Atributo 2: numérico, com valores entre (0, 10000)\n",
    "* Atributo 3: categórico, com valores pertencentes ao conjunto {'A', 'B', 'C'}\n",
    "* Tarefa: Classificação\n",
    "* Número de classes: 2\n",
    "* Proporção entre as classes: 1:49\n",
    "\n",
    "Responda as seguintes questões:"
   ]
  },
  {
   "cell_type": "markdown",
   "metadata": {
    "colab_type": "text",
    "id": "4RJmmG9ltAWa"
   },
   "source": [
    "**a)** Quais dos seguintes particionamentos de dados você consideraria para avaliar um algoritmo de classificação qualquer: hold-out, validação cruzada estratificada, ou leave-one-out? Justifique. (1,0)"
   ]
  },
  {
   "cell_type": "markdown",
   "metadata": {
    "colab_type": "text",
    "id": "kAottS0pvD81"
   },
   "source": [
    "<font color='red'> *Resposta:* Em minha opinião, o algoritmo de classificação adequado para esses dados seria o de validação cruzada estratificada. Pois como temos dados desbalanceados, ou seja, contêm mais dados em uma determinada classe do que na outra classe, usando outro método, algumas das partições aleatórias K podem nem conter informações da classe com menor dados. Usando a validação cruzada estratificada pode-se garantir que cada partição seja razoavelmente representativa. Ou seja, as classes serão representadas com aproximadamente a mesma proporção tanto no teste como no treinamento . <font>  "
   ]
  },
  {
   "cell_type": "markdown",
   "metadata": {
    "colab_type": "text",
    "id": "ekNJJCp1v97e"
   },
   "source": [
    "**b)** Quais das seguintes medidas de avaliação você consideraria: acurácia ou acurácia balanceada? Justifique. (0,5)"
   ]
  },
  {
   "cell_type": "markdown",
   "metadata": {
    "colab_type": "text",
    "id": "7MVdSBv7wFT7"
   },
   "source": [
    "<font color='red'> *Resposta:* A medida de validação que usaria para esses dados seria a acurácia balanceada. Pois, a acurácia normal pode não ser adequada para dados desbalanceados, pois o resultado seria desmensuradamente influenciado pela classe majoritária, prejudicando o desempenho para a classe minoritária. Quando ocorrem distribuições desbalanceadas, o ideal é balancear o cálculo da acurácia, ponderando-o pelo número de observações de cada classe.<font>  "
   ]
  },
  {
   "cell_type": "markdown",
   "metadata": {
    "colab_type": "text",
    "id": "uicqEVT5v-Jr"
   },
   "source": [
    "**c)** Considerando apenas as características apresentadas da base, você consideraria algum tipo de pré-processamento quando avaliando *k-nn*? Se sim, qual(is)? Justifique. (1,0):"
   ]
  },
  {
   "cell_type": "markdown",
   "metadata": {
    "colab_type": "text",
    "id": "G9OpQUbQwMn7"
   },
   "source": [
    "<font color='red'>*Resposta:* Um dos pré-processamento que realizaria seria transformar o atributo 3 em dummies. Pois, o K-nn\n",
    "não é diretamente aplicável aos dados categóricos. O espaço de amostra para dados categóricos é discreto e não tem uma origem natural. Usando uma função de distância euclidiana, por exemplo, em tal espaço não é realmente significativa. Um outro tipo de pré- processamento seria normalizar os dados, pois o KNN funciona muito melhor se todos os dados tiverem a mesma escala. Ou até mesmo padronizar se os dados tiverem uma distribuição gaussiana.<font>"
   ]
  },
  {
   "cell_type": "markdown",
   "metadata": {
    "colab_type": "text",
    "id": "Y4qua78wr09-"
   },
   "source": [
    "\n",
    "\n",
    "---\n",
    "\n"
   ]
  },
  {
   "cell_type": "markdown",
   "metadata": {
    "colab_type": "text",
    "id": "xkV98MhwXjZX"
   },
   "source": [
    "#### **Questão 5** (1,0)\n",
    "\n",
    "As imagens a seguir são resultados da aplicação das redes neurais perceptron com múltiplas camadas (MLP) em um conjunto de dados de classificação. Sobre os conceitos de underfitting e overfitting, diga o que está ocorrendo intuitivamente em cada imagem."
   ]
  },
  {
   "cell_type": "markdown",
   "metadata": {
    "colab_type": "text",
    "id": "DR75vJPLjQAS"
   },
   "source": [
    "**a)** Underfitting ou overfitting? (0,5)\n",
    "\n",
    "<img src=\"https://urldefense.com/v3/__https://drive.google.com/uc?id=1KyF9AXG76hHCZy9n5TP9SwBFMB-lGcGN*5C__;JQ!!MfzFaTml5A!1B6gi0XcVS0rb-ox2pbNTROJ2ZrrrzKXL1dQsrvVKG4lzgM8E4b1QFedzRvbWQ51JrNBJ-FMKMM$ " />\n"
   ]
  },
  {
   "cell_type": "markdown",
   "metadata": {
    "colab_type": "text",
    "id": "q0TloS63nZpG"
   },
   "source": [
    "<font color='red'> *Resposta:* Nessa imagem ocorre o Underfitting, pois muitos triângulos estão sendo colocados junto com as bolinhas e vice-versa. Não há uma boa separação, e poucos cortes foram realizados. Mostrando, que alguns valores dos pesos estão baixos. Uma forma de solucionar, seria diminuindo o valor de alpha, que tende a obter um melhor ajuste nesses casos. <font>"
   ]
  },
  {
   "cell_type": "markdown",
   "metadata": {
    "colab_type": "text",
    "id": "CfUR6OuZnhMw"
   },
   "source": [
    "**b)** Underfitting ou overfitting? (0,5)\n",
    "\n",
    "<img src=\"https://urldefense.com/v3/__https://drive.google.com/uc?id=1fMdGCTSS9W1cuP-2Fr4NvicpmBGJs92k*5C__;JQ!!MfzFaTml5A!1B6gi0XcVS0rb-ox2pbNTROJ2ZrrrzKXL1dQsrvVKG4lzgM8E4b1QFedzRvbWQ51JrNBcn25BeQ$ " />"
   ]
  },
  {
   "cell_type": "markdown",
   "metadata": {
    "colab_type": "text",
    "id": "yTkWpCEHn7PE"
   },
   "source": [
    "<font color='red'> *Resposta:* Nessa imagem ocorre o Overfitting, pois, muitos cortes foram feitos, fazendo com que não haja uma boa separação dos pontos. Uma forma de solucionar seria aumentando o valor de alpha, que diminuiria o valor dos pesos, para tender a 0, e assim, diminuir a quantidade de cortes feitos. Ou, e também diminuir a quantidade de neurônios poderia ajudar a melhorar o overfitting.<font>"
   ]
  },
  {
   "cell_type": "markdown",
   "metadata": {
    "colab_type": "text",
    "id": "EP08PE2CrqtD"
   },
   "source": [
    "\n",
    "\n",
    "---\n",
    "\n"
   ]
  },
  {
   "cell_type": "code",
   "execution_count": null,
   "metadata": {},
   "outputs": [],
   "source": []
  }
 ],
 "metadata": {
  "colab": {
   "collapsed_sections": [],
   "name": "prova ciencia de dados.ipynb",
   "provenance": [],
   "toc_visible": true
  },
  "kernelspec": {
   "display_name": "Python 3",
   "language": "python",
   "name": "python3"
  },
  "language_info": {
   "codemirror_mode": {
    "name": "ipython",
    "version": 3
   },
   "file_extension": ".py",
   "mimetype": "text/x-python",
   "name": "python",
   "nbconvert_exporter": "python",
   "pygments_lexer": "ipython3",
   "version": "3.8.3"
  }
 },
 "nbformat": 4,
 "nbformat_minor": 1
}
