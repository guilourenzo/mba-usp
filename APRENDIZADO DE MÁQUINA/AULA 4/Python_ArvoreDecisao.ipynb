{
 "cells": [
  {
   "cell_type": "markdown",
   "metadata": {},
   "source": [
    "# Árvores de Decisão\n",
    "\n",
    "Como visto em aula, algoritmos de Árvore de Decisão são comumentes utilizados para tarefas de classificação e regressão. O objetivo é criar um modelo capaz de predizer o atributo alvo a partir dos atributos preditivos usando regras simples encontradas nos dados.\n",
    "\n",
    "#### Algumas vantagens:\n",
    "\n",
    "- Simples de entender e interpretar. É possível visualizar as árvores geradas como muita facilidade.\n",
    "- Necessita de pouca preparação dos dados. Não tem necessidade de normalização dos dados, por exemplo.\n",
    "- A implementação do scikit-learn não aceita valores ausentes.\n",
    "- Consegue utilizar dados numéricos e categóricos.\n",
    "\n",
    "#### Algumas desvantagens:\n",
    "\n",
    "- Pode apresentar variância alta. Os modelos podem apresentar com frequência sobreajuste (overfitting) aos dados. Poda e ajuste dos hiperparâmetros são soluções para evitar este comportamento.\n",
    "- O viés das árvores de decisão não as permite representar de maneira adequada tarefas como XOR e multiplexador.\n",
    "- Árvores de decisão podem ser tendenciosas às classes majoritárias quando as classes estão desbalanceadas."
   ]
  },
  {
   "cell_type": "markdown",
   "metadata": {},
   "source": [
    "## No scikit-learn\n",
    "\n",
    "[DecisionTreeClassifier](https://scikit-learn.org/stable/modules/generated/sklearn.tree.DecisionTreeClassifier.html#sklearn.tree.DecisionTreeClassifier) é uma classe do módulo [tree](https://scikit-learn.org/stable/modules/classes.html#module-sklearn.tree) do pacote [scikit-learn](https://scikit-learn.org/stable/).\n",
    "\n",
    "Como outros classificadores no pacote, [DecisionTreeClassifier](https://scikit-learn.org/stable/modules/generated/sklearn.tree.DecisionTreeClassifier.html#sklearn.tree.DecisionTreeClassifier) usa como entrada dois _arrays_ : um _array_ X, de tamanho `[número_de_instâncias, número_de_atributos]`, que contém os atributos preditivos do conjunto de dados; e um _array_ Y, de tamanho `[número_de_instâncias]`, que contém o atributo alvo do conjunto de dados.\n",
    "\n",
    "Para gerar um modelo do conjunto de dados representado por X e Y, basta usar o método [fit](https://scikit-learn.org/stable/modules/generated/sklearn.tree.DecisionTreeClassifier.html#sklearn.tree.DecisionTreeClassifier.fit) da classe [DecisionTreeClassifier](https://scikit-learn.org/stable/modules/generated/sklearn.tree.DecisionTreeClassifier.html#sklearn.tree.DecisionTreeClassifier)"
   ]
  },
  {
   "cell_type": "code",
   "execution_count": 1,
   "metadata": {},
   "outputs": [],
   "source": [
    "from sklearn import tree\n",
    "X = [[0, 0], [1, 1]]\n",
    "Y = [0, 1]\n",
    "clf = tree.DecisionTreeClassifier()\n",
    "clf = clf.fit(X, Y)"
   ]
  },
  {
   "cell_type": "markdown",
   "metadata": {},
   "source": [
    "Depois de gerado, o modelo pode ser usado para predizer a classe de instâncias"
   ]
  },
  {
   "cell_type": "code",
   "execution_count": 2,
   "metadata": {},
   "outputs": [
    {
     "data": {
      "text/plain": [
       "array([1])"
      ]
     },
     "execution_count": 2,
     "metadata": {},
     "output_type": "execute_result"
    }
   ],
   "source": [
    "clf.predict([[2., 2.]])"
   ]
  },
  {
   "cell_type": "markdown",
   "metadata": {},
   "source": [
    "Alternativamente, a probabilidade de cada classe pode ser predita, sendo ela a fração de exemplos de treinamento da mesma classe naquele nó-folha."
   ]
  },
  {
   "cell_type": "code",
   "execution_count": 3,
   "metadata": {},
   "outputs": [
    {
     "data": {
      "text/plain": [
       "array([[0., 1.]])"
      ]
     },
     "execution_count": 3,
     "metadata": {},
     "output_type": "execute_result"
    }
   ],
   "source": [
    "clf.predict_proba([[2., 2.]])"
   ]
  },
  {
   "cell_type": "markdown",
   "metadata": {},
   "source": [
    "[DecisionTreeClassifier](https://scikit-learn.org/stable/modules/generated/sklearn.tree.DecisionTreeClassifier.html#sklearn.tree.DecisionTreeClassifier) consegue lidar com tarfeas de classificação binárias e multi-classe.\n",
    "\n",
    "Usando a base multi-classe iris, por exemplo, é possível gerar uma árvore."
   ]
  },
  {
   "cell_type": "code",
   "execution_count": 4,
   "metadata": {},
   "outputs": [],
   "source": [
    "from sklearn.datasets import load_iris\n",
    "from sklearn import tree\n",
    "X, y = load_iris(return_X_y=True)\n",
    "clf = tree.DecisionTreeClassifier(random_state=0, max_depth=2)\n",
    "clf = clf.fit(X, y)"
   ]
  },
  {
   "cell_type": "markdown",
   "metadata": {},
   "source": [
    "Como dito anteriormente, as árvores de decisão podem ser facilmente interpretadas e o [scikit-learn](https://scikit-learn.org/stable/) oferece um método de visualização de árvores no módulo [tree](https://scikit-learn.org/stable/modules/classes.html#module-sklearn.tree), chamado de [plot_tree](https://scikit-learn.org/stable/modules/generated/sklearn.tree.plot_tree.html#sklearn.tree.plot_tree)."
   ]
  },
  {
   "cell_type": "code",
   "execution_count": 5,
   "metadata": {},
   "outputs": [
    {
     "data": {
      "text/plain": [
       "[Text(133.92000000000002, 181.2, 'X[3] <= 0.8\\ngini = 0.667\\nsamples = 150\\nvalue = [50, 50, 50]'),\n",
       " Text(66.96000000000001, 108.72, 'gini = 0.0\\nsamples = 50\\nvalue = [50, 0, 0]'),\n",
       " Text(200.88000000000002, 108.72, 'X[3] <= 1.75\\ngini = 0.5\\nsamples = 100\\nvalue = [0, 50, 50]'),\n",
       " Text(133.92000000000002, 36.23999999999998, 'gini = 0.168\\nsamples = 54\\nvalue = [0, 49, 5]'),\n",
       " Text(267.84000000000003, 36.23999999999998, 'gini = 0.043\\nsamples = 46\\nvalue = [0, 1, 45]')]"
      ]
     },
     "execution_count": 5,
     "metadata": {},
     "output_type": "execute_result"
    },
    {
     "data": {
      "image/png": "[encoded data removed]",
      "text/plain": [
       "<Figure size 432x288 with 1 Axes>"
      ]
     },
     "metadata": {
      "needs_background": "light"
     },
     "output_type": "display_data"
    }
   ],
   "source": [
    "tree.plot_tree(clf) "
   ]
  },
  {
   "cell_type": "markdown",
   "metadata": {},
   "source": [
    "Você também pode visualizar a árvore em formato de texto."
   ]
  },
  {
   "cell_type": "code",
   "execution_count": 6,
   "metadata": {},
   "outputs": [
    {
     "name": "stdout",
     "output_type": "stream",
     "text": [
      "|--- petal width (cm) <= 0.80\n",
      "|   |--- class: 0\n",
      "|--- petal width (cm) >  0.80\n",
      "|   |--- petal width (cm) <= 1.75\n",
      "|   |   |--- class: 1\n",
      "|   |--- petal width (cm) >  1.75\n",
      "|   |   |--- class: 2\n",
      "\n"
     ]
    }
   ],
   "source": [
    "from sklearn.datasets import load_iris\n",
    "from sklearn.tree import DecisionTreeClassifier\n",
    "from sklearn.tree import export_text\n",
    "iris = load_iris()\n",
    "decision_tree = DecisionTreeClassifier(random_state=0, max_depth=2)\n",
    "decision_tree = decision_tree.fit(iris.data, iris.target)\n",
    "r = export_text(decision_tree, feature_names=iris['feature_names'])\n",
    "print(r)"
   ]
  },
  {
   "cell_type": "markdown",
   "metadata": {},
   "source": [
    "## Para praticar\n",
    "\n",
    "Para praticar os conhecimentos de hoje e de aulas anteriores, você utilizará o conjunto de dados Titanic que se encontra junto aos outros materiais. Este conjunto de dados possui informações sobre passageiros à bordo do Titanic durante o famoso acidente e o atributo alvo é se o passageiro sobreviveu ou não ao acidente.\n",
    "\n",
    "### O que esperamos que consiga fazer:\n",
    "\n",
    "- Ler o arquivo CSV\n",
    "- Olhar os valores presentes no conjunto de dados\n",
    "- Separar o conjunto em atributos preditivos e atributo alvo, no qual _survived_ é o atributo alvo\n",
    "- Lidar com valores ausentes. Lembre-se: a árvore não aceitará valores ausentes! Você terá que lidar com este problema\n",
    "- Gerar uma árvore utilizando os valores padrão do scikit-learn\n",
    "- Visualizar a árvore gerada\n",
    "- Fazer uma validação cruzada com 10 _folds_ para avaliar o desempenho preditivo do algoritmo de árvore de decisão\n",
    "\n",
    "### O que pode ser mais difícil de fazer:\n",
    "\n",
    "- Variar os hiperparâmetros da árvore e verificar como os modelos são diferentes. Para detalhes sobre os hiperparâmetros implementados no scikit-learn, acesse o link [DecisionTreeClassifier](https://scikit-learn.org/stable/modules/generated/sklearn.tree.DecisionTreeClassifier.html#sklearn.tree.DecisionTreeClassifier)\n",
    "- Comparar o desemepenho preditivo usando diferentes valores de hiperparâmetros"
   ]
  },
  {
   "cell_type": "markdown",
   "metadata": {},
   "source": [
    "Parte deste material é um resumo em português da documentação do scikit-learn. Para acessar o texto original acesse o link [tree](https://scikit-learn.org/stable/modules/tree.html)"
   ]
  },
  {
   "cell_type": "code",
   "execution_count": null,
   "metadata": {},
   "outputs": [],
   "source": []
  },
  {
   "cell_type": "code",
   "execution_count": null,
   "metadata": {},
   "outputs": [],
   "source": []
  }
 ],
 "metadata": {
  "kernelspec": {
   "display_name": "Python 3",
   "language": "python",
   "name": "python3"
  },
  "language_info": {
   "codemirror_mode": {
    "name": "ipython",
    "version": 3
   },
   "file_extension": ".py",
   "mimetype": "text/x-python",
   "name": "python",
   "nbconvert_exporter": "python",
   "pygments_lexer": "ipython3",
   "version": "3.7.6"
  }
 },
 "nbformat": 4,
 "nbformat_minor": 4
}
