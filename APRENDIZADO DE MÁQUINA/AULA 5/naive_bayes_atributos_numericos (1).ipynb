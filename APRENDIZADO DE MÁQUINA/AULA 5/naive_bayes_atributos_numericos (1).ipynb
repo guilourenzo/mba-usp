{
 "cells": [
  {
   "cell_type": "code",
   "execution_count": 1,
   "metadata": {},
   "outputs": [],
   "source": [
    "import numpy as np"
   ]
  },
  {
   "cell_type": "markdown",
   "metadata": {},
   "source": [
    "# Comparando implementações do Naive Bayes para dados numéricos\n",
    "\n",
    "Nessa parte da prática analisaremos um pouco mais a fundo como podemos lidar com dados numéricos (contínuos) utilizando o NB.\n",
    "\n",
    "Diferentemente de atributos discretos, nós normalmente não falamos de `P(x=valor)` porque, em dados contínuos, estritamente o resultado é 0 para qualquer valor específico! Existem infinitos valores contínuos entre qualquer intervalo real :D\n",
    "\n",
    "É mais comum falamos em funções de probabilidade cumulativa (e.g., `P(x < valor)`, `P(x > valor)` ou `P(valor1 < x < valor2)`) ou funções de densidade de probabilidade (PDF -- não vou usar a sigla em português :P). Utilizamos o último caso na nossa implementação do GaussianNB:\n",
    "\n",
    "Nós **assumimos** que nossos dados seguiam distribuições gaussianas e utilizamos as (lindas) propriedades desse tipo de distribuição em nosso favor.\n",
    "\n",
    "No entanto, apesar de parecer algo razoável (e aplicações práticas demonstram isso), colocamos um \"baita\" de um viés no nosso modelo preditivo.\n",
    "\n",
    "Aqui, exploraremos uma outra alternativa (que infelizmente não está disponível no `sklearn` diretamente)."
   ]
  },
  {
   "cell_type": "markdown",
   "metadata": {},
   "source": [
    "## Vamos revisitar a nossa implementação de GaussianNaiveBayes e \"apertar uns parafusos\""
   ]
  },
  {
   "cell_type": "code",
   "execution_count": 14,
   "metadata": {},
   "outputs": [],
   "source": [
    "# Faremos nossa classe compativel com todas as ferramentas do sklearn, por exemplo: cross_val_score\n",
    "from sklearn.base import BaseEstimator, ClassifierMixin\n",
    "\n",
    "\n",
    "class GaussianNaiveBayes(BaseEstimator, ClassifierMixin):\n",
    "    def __init__(self):\n",
    "        super().__init__()\n",
    "    \n",
    "    def fit(self, X, y):\n",
    "        # Seleciona as classes do problema\n",
    "        self.classes = np.sort(np.unique(y))\n",
    "        \n",
    "        self.logprior = {}\n",
    "        self.likelihood = {}\n",
    "        for c in self.classes:\n",
    "            self.likelihood[c] = {}\n",
    "\n",
    "            class_mask = y == c\n",
    "            \n",
    "            self.logprior[c] = np.log(len(y[class_mask]) / len(y))\n",
    "            \n",
    "            Mu = np.mean(X[class_mask], axis=0)\n",
    "            Var = np.var(X[class_mask], axis=0)\n",
    "            \n",
    "            # Para cada atributo preditivo\n",
    "            for j in range(X.shape[1]):\n",
    "                # Guardamos uma função gaussiana do likelihood\n",
    "                self.likelihood[c][j] = (lambda x, mu=Mu[j], var=Var[j] : \n",
    "                                         (1 / np.sqrt(2 * np.pi * var)) * np.exp(- ((x - mu) ** 2) / (2 * var)))\n",
    "                \n",
    "    def predict(self, X):\n",
    "        return self.classes[np.argmax(self.predict_proba(X), axis=1)]\n",
    "        \n",
    "    \n",
    "    def predict_proba(self, X):\n",
    "        # Numero de amostras x numero de classes\n",
    "        proba = np.zeros((len(X), len(self.classes)))\n",
    "        \n",
    "        for c in self.classes:\n",
    "            # Adicionamos a probabilidade a priori (estamos utilizando a propriedade aditiva dos logs)\n",
    "            proba[:, c] += self.logprior[c]\n",
    "            for j in range(X.shape[1]):\n",
    "                # Usaremos log likelihood como na aula\n",
    "                proba[:, c] += np.log(self.likelihood[c][j](X[:, j]))\n",
    "        \n",
    "        # Aplicamos a funçao exponencial para desfazer o efeito do log\n",
    "        proba = np.exp(proba)\n",
    "        \n",
    "        # Softmax function para obtermos uma distribuição de probabilidade\n",
    "        exp_proba = np.exp(proba)\n",
    "        proba = exp_proba / np.sum(exp_proba, axis=1)[:, None]\n",
    "\n",
    "        return proba"
   ]
  },
  {
   "cell_type": "markdown",
   "metadata": {},
   "source": [
    "## Exploraremos ainda uma outra possibilidade: KDE\n",
    "\n",
    "Até o momento fizemos algumas suposições sobre os nossos dados:\n",
    "\n",
    "- Os dados são binários: Bernoulli Naive Bayes\n",
    "- Os dados são categóricos: Categorical Naive Bayes\n",
    "- Os dados são contagens (histogramas): Multinomial Naive Bayes\n",
    "- **Os dados são contínuos: Gaussian Naive Bayes**\n",
    "\n",
    "Mas e se os nossos atributos preditivos (features) não seguem uma distribuição normal?\n",
    "\n",
    "### Vamos gerar alguns dados sintéticos para ilustrar esse problema"
   ]
  },
  {
   "cell_type": "code",
   "execution_count": 3,
   "metadata": {},
   "outputs": [],
   "source": [
    "from sklearn.datasets import make_classification \n",
    "\n",
    "X, y = make_classification(n_samples=200, n_features=4, random_state=1,\n",
    "                           n_clusters_per_class=3, n_informative=4, n_redundant=0,\n",
    "                           n_repeated=0)"
   ]
  },
  {
   "cell_type": "markdown",
   "metadata": {},
   "source": [
    "### Vamos visualizar a distribuição dos dados"
   ]
  },
  {
   "cell_type": "code",
   "execution_count": 4,
   "metadata": {
    "scrolled": true
   },
   "outputs": [
    {
     "data": {
      "image/png": "[encoded data removed]",
      "text/plain": [
       "<Figure size 720x360 with 8 Axes>"
      ]
     },
     "metadata": {
      "needs_background": "light"
     },
     "output_type": "display_data"
    }
   ],
   "source": [
    "import matplotlib.pyplot as plt\n",
    "\n",
    "fig, ax = plt.subplots(figsize=(10, 5), nrows=4, ncols=2)\n",
    "\n",
    "for c in range(2):\n",
    "    mask = y == c\n",
    "    for i in range(X.shape[1]):\n",
    "        X_filt = X[mask, i]\n",
    "        ax[i][c].hist(X_filt, bins=100, density=True)\n",
    "        \n",
    "        if i < 3:\n",
    "            ax[i][c].set_xticks([])\n",
    "ax[0][0].title.set_text('Classe 0')\n",
    "ax[0][1].title.set_text('Classe 1')"
   ]
  },
  {
   "cell_type": "markdown",
   "metadata": {},
   "source": [
    "### O que podemos observar?\n",
    "\n",
    "- As distruições normais que utilizamos parecem funcionar razoavelmente bem para alguns casos\n",
    "- Temos casos que não parecem seguir esse tipo de distribuição\n",
    "\n",
    "Podemos fazer melhor que isso?\n",
    "\n",
    "Vamos antes avaliar como o nosso GaussianNB se sai nesse problema:\n",
    "\n",
    "#### Função auxiliar para comparação de algoritmos"
   ]
  },
  {
   "cell_type": "code",
   "execution_count": 5,
   "metadata": {
    "scrolled": true
   },
   "outputs": [],
   "source": [
    "from sklearn.model_selection import KFold\n",
    "from sklearn.metrics import accuracy_score\n",
    "\n",
    "# Função auxiliar para computar 10-fold cv com uma métrica configurável\n",
    "\n",
    "def score_print_10fold(X, y, seed=7, metric=accuracy_score,\n",
    "                       classificador=GaussianNaiveBayes, **kwargs):\n",
    "    kf = KFold(n_splits=10, random_state=seed, shuffle=True)\n",
    "\n",
    "    results = []\n",
    "    for train_id, test_id in kf.split(X):\n",
    "        X_train, y_train = X[train_id], y[train_id]\n",
    "        X_test, y_test = X[test_id], y[test_id]\n",
    "        \n",
    "        # Faço uma cópia do classificador que passei de parâmetro\n",
    "        clf = classificador(**kwargs)\n",
    "        clf.fit(X_train, y_train)\n",
    "\n",
    "        results.append(metric(y_test, clf.predict(X_test)))\n",
    "\n",
    "    print(f'Acuracias: {results}')\n",
    "    print('Media: {0:.4f} | Desvio padrão: {1:.4f}'.format(np.mean(results), np.std(results)))"
   ]
  },
  {
   "cell_type": "markdown",
   "metadata": {},
   "source": [
    "Agora avaliamos a nossa implementação do `GaussianNaiveBayes`"
   ]
  },
  {
   "cell_type": "code",
   "execution_count": 6,
   "metadata": {},
   "outputs": [
    {
     "name": "stdout",
     "output_type": "stream",
     "text": [
      "Acuracias: [0.8, 0.85, 0.85, 0.95, 0.8, 0.8, 0.75, 0.8, 0.85, 0.7]\n",
      "Media: 0.8150 | Desvio padrão: 0.0634\n"
     ]
    }
   ],
   "source": [
    "score_print_10fold(X, y)"
   ]
  },
  {
   "cell_type": "markdown",
   "metadata": {},
   "source": [
    "## Buscaremos modelar as distribuições de cada atributo preditivo com KDE\n",
    "\n",
    "**KDE:** Kernel Density Estimation\n",
    "\n",
    "Estimação de função de densidade de probabilidade. É utilizado, entre outras coisas, para suavização de histogramas. Dependendo da área de pesquisa também é conhecido como *Parzen–Rosenblatt window method*.\n",
    "\n",
    "Em resumo: combinação linear de múltiplas funções kernel, uma para cada ponto. A largura de banda determina o equilíbrio entre viés e variância.\n",
    "\n",
    "Efeitos da largura de banda:\n",
    "\n",
    "- **Muito pequena:** sobreajuste aos dados, curva não suave\n",
    "- **Muito grande:** sub-ajuste aos dados. A estimativa não descreve bem a forma da função de densidade esperada\n",
    "\n",
    "Como quase tudo em Aprendizado de Máquina, buscamos um ponto de equilíbrio.\n",
    "\n",
    "Deixo aqui um material muito bom e intuitivo para entender sobre KDE: [KDE interativo](https://mathisonian.github.io/kde/)."
   ]
  },
  {
   "cell_type": "markdown",
   "metadata": {},
   "source": [
    "### Exemplo de utilização de KDE: plot anterior modificado"
   ]
  },
  {
   "cell_type": "code",
   "execution_count": 7,
   "metadata": {
    "scrolled": true
   },
   "outputs": [
    {
     "data": {
      "image/png": "[encoded data removed]",
      "text/plain": [
       "<Figure size 720x360 with 8 Axes>"
      ]
     },
     "metadata": {
      "needs_background": "light"
     },
     "output_type": "display_data"
    }
   ],
   "source": [
    "import seaborn as sns\n",
    "fig, ax = plt.subplots(figsize=(10, 5), nrows=4, ncols=2)\n",
    "\n",
    "for c in range(2):\n",
    "    mask = y == c\n",
    "    for i in range(X.shape[1]):\n",
    "        X_filt = X[mask, i]\n",
    "        ax[i][c].hist(X_filt, bins=100, density=True)\n",
    "        sns.kdeplot(X_filt, ax=ax[i][c])\n",
    "        \n",
    "        if i < 3:\n",
    "            ax[i][c].set_xticks([])\n",
    "ax[0][0].title.set_text('Classe 0')\n",
    "ax[0][1].title.set_text('Classe 1')"
   ]
  },
  {
   "cell_type": "markdown",
   "metadata": {},
   "source": [
    "### Conclusão: \n",
    "\n",
    "Podemos perceber que a utilização de distribuições gaussianas pode não ser a melhor ideia sempre\n",
    "\n",
    "Vamos criar um KDENaiveBayes e observar como ele se sai. O sklearn implementa a estimação de densidade de kernel no submodulo `neighbors`. Podemos importar essa ferramenta com:\n",
    "\n",
    "```python\n",
    "from sklearn.neighbors import KernelDensity\n",
    "```\n",
    "\n",
    "Acessaremos a documentação da classe `KernelDensity`:"
   ]
  },
  {
   "cell_type": "code",
   "execution_count": 8,
   "metadata": {},
   "outputs": [
    {
     "name": "stdout",
     "output_type": "stream",
     "text": [
      "Help on class KernelDensity in module sklearn.neighbors._kde:\n",
      "\n",
      "class KernelDensity(sklearn.base.BaseEstimator)\n",
      " |  KernelDensity(*, bandwidth=1.0, algorithm='auto', kernel='gaussian', metric='euclidean', atol=0, rtol=0, breadth_first=True, leaf_size=40, metric_params=None)\n",
      " |  \n",
      " |  Kernel Density Estimation.\n",
      " |  \n",
      " |  Read more in the :ref:`User Guide <kernel_density>`.\n",
      " |  \n",
      " |  Parameters\n",
      " |  ----------\n",
      " |  bandwidth : float\n",
      " |      The bandwidth of the kernel.\n",
      " |  \n",
      " |  algorithm : str\n",
      " |      The tree algorithm to use.  Valid options are\n",
      " |      ['kd_tree'|'ball_tree'|'auto'].  Default is 'auto'.\n",
      " |  \n",
      " |  kernel : str\n",
      " |      The kernel to use.  Valid kernels are\n",
      " |      ['gaussian'|'tophat'|'epanechnikov'|'exponential'|'linear'|'cosine']\n",
      " |      Default is 'gaussian'.\n",
      " |  \n",
      " |  metric : str\n",
      " |      The distance metric to use.  Note that not all metrics are\n",
      " |      valid with all algorithms.  Refer to the documentation of\n",
      " |      :class:`BallTree` and :class:`KDTree` for a description of\n",
      " |      available algorithms.  Note that the normalization of the density\n",
      " |      output is correct only for the Euclidean distance metric. Default\n",
      " |      is 'euclidean'.\n",
      " |  \n",
      " |  atol : float\n",
      " |      The desired absolute tolerance of the result.  A larger tolerance will\n",
      " |      generally lead to faster execution. Default is 0.\n",
      " |  \n",
      " |  rtol : float\n",
      " |      The desired relative tolerance of the result.  A larger tolerance will\n",
      " |      generally lead to faster execution.  Default is 1E-8.\n",
      " |  \n",
      " |  breadth_first : bool\n",
      " |      If true (default), use a breadth-first approach to the problem.\n",
      " |      Otherwise use a depth-first approach.\n",
      " |  \n",
      " |  leaf_size : int\n",
      " |      Specify the leaf size of the underlying tree.  See :class:`BallTree`\n",
      " |      or :class:`KDTree` for details.  Default is 40.\n",
      " |  \n",
      " |  metric_params : dict\n",
      " |      Additional parameters to be passed to the tree for use with the\n",
      " |      metric.  For more information, see the documentation of\n",
      " |      :class:`BallTree` or :class:`KDTree`.\n",
      " |  \n",
      " |  See Also\n",
      " |  --------\n",
      " |  sklearn.neighbors.KDTree : K-dimensional tree for fast generalized N-point\n",
      " |      problems.\n",
      " |  sklearn.neighbors.BallTree : Ball tree for fast generalized N-point\n",
      " |      problems.\n",
      " |  \n",
      " |  Examples\n",
      " |  --------\n",
      " |  Compute a gaussian kernel density estimate with a fixed bandwidth.\n",
      " |  >>> import numpy as np\n",
      " |  >>> rng = np.random.RandomState(42)\n",
      " |  >>> X = rng.random_sample((100, 3))\n",
      " |  >>> kde = KernelDensity(kernel='gaussian', bandwidth=0.5).fit(X)\n",
      " |  >>> log_density = kde.score_samples(X[:3])\n",
      " |  >>> log_density\n",
      " |  array([-1.52955942, -1.51462041, -1.60244657])\n",
      " |  \n",
      " |  Method resolution order:\n",
      " |      KernelDensity\n",
      " |      sklearn.base.BaseEstimator\n",
      " |      builtins.object\n",
      " |  \n",
      " |  Methods defined here:\n",
      " |  \n",
      " |  __init__(self, *, bandwidth=1.0, algorithm='auto', kernel='gaussian', metric='euclidean', atol=0, rtol=0, breadth_first=True, leaf_size=40, metric_params=None)\n",
      " |      Initialize self.  See help(type(self)) for accurate signature.\n",
      " |  \n",
      " |  fit(self, X, y=None, sample_weight=None)\n",
      " |      Fit the Kernel Density model on the data.\n",
      " |      \n",
      " |      Parameters\n",
      " |      ----------\n",
      " |      X : array_like, shape (n_samples, n_features)\n",
      " |          List of n_features-dimensional data points.  Each row\n",
      " |          corresponds to a single data point.\n",
      " |      y : None\n",
      " |          Ignored. This parameter exists only for compatibility with\n",
      " |          :class:`sklearn.pipeline.Pipeline`.\n",
      " |      sample_weight : array_like, shape (n_samples,), optional\n",
      " |          List of sample weights attached to the data X.\n",
      " |      \n",
      " |          .. versionadded:: 0.20\n",
      " |      \n",
      " |      Returns\n",
      " |      -------\n",
      " |      self : object\n",
      " |          Returns instance of object.\n",
      " |  \n",
      " |  sample(self, n_samples=1, random_state=None)\n",
      " |      Generate random samples from the model.\n",
      " |      \n",
      " |      Currently, this is implemented only for gaussian and tophat kernels.\n",
      " |      \n",
      " |      Parameters\n",
      " |      ----------\n",
      " |      n_samples : int, optional\n",
      " |          Number of samples to generate. Defaults to 1.\n",
      " |      \n",
      " |      random_state : int, RandomState instance, default=None\n",
      " |          Determines random number generation used to generate\n",
      " |          random samples. Pass an int for reproducible results\n",
      " |          across multiple function calls.\n",
      " |          See :term: `Glossary <random_state>`.\n",
      " |      \n",
      " |      Returns\n",
      " |      -------\n",
      " |      X : array_like, shape (n_samples, n_features)\n",
      " |          List of samples.\n",
      " |  \n",
      " |  score(self, X, y=None)\n",
      " |      Compute the total log probability density under the model.\n",
      " |      \n",
      " |      Parameters\n",
      " |      ----------\n",
      " |      X : array_like, shape (n_samples, n_features)\n",
      " |          List of n_features-dimensional data points.  Each row\n",
      " |          corresponds to a single data point.\n",
      " |      y : None\n",
      " |          Ignored. This parameter exists only for compatibility with\n",
      " |          :class:`sklearn.pipeline.Pipeline`.\n",
      " |      \n",
      " |      Returns\n",
      " |      -------\n",
      " |      logprob : float\n",
      " |          Total log-likelihood of the data in X. This is normalized to be a\n",
      " |          probability density, so the value will be low for high-dimensional\n",
      " |          data.\n",
      " |  \n",
      " |  score_samples(self, X)\n",
      " |      Evaluate the log density model on the data.\n",
      " |      \n",
      " |      Parameters\n",
      " |      ----------\n",
      " |      X : array_like, shape (n_samples, n_features)\n",
      " |          An array of points to query.  Last dimension should match dimension\n",
      " |          of training data (n_features).\n",
      " |      \n",
      " |      Returns\n",
      " |      -------\n",
      " |      density : ndarray, shape (n_samples,)\n",
      " |          The array of log(density) evaluations. These are normalized to be\n",
      " |          probability densities, so values will be low for high-dimensional\n",
      " |          data.\n",
      " |  \n",
      " |  ----------------------------------------------------------------------\n",
      " |  Methods inherited from sklearn.base.BaseEstimator:\n",
      " |  \n",
      " |  __getstate__(self)\n",
      " |  \n",
      " |  __repr__(self, N_CHAR_MAX=700)\n",
      " |      Return repr(self).\n",
      " |  \n",
      " |  __setstate__(self, state)\n",
      " |  \n",
      " |  get_params(self, deep=True)\n",
      " |      Get parameters for this estimator.\n",
      " |      \n",
      " |      Parameters\n",
      " |      ----------\n",
      " |      deep : bool, default=True\n",
      " |          If True, will return the parameters for this estimator and\n",
      " |          contained subobjects that are estimators.\n",
      " |      \n",
      " |      Returns\n",
      " |      -------\n",
      " |      params : mapping of string to any\n",
      " |          Parameter names mapped to their values.\n",
      " |  \n",
      " |  set_params(self, **params)\n",
      " |      Set the parameters of this estimator.\n",
      " |      \n",
      " |      The method works on simple estimators as well as on nested objects\n",
      " |      (such as pipelines). The latter have parameters of the form\n",
      " |      ``<component>__<parameter>`` so that it's possible to update each\n",
      " |      component of a nested object.\n",
      " |      \n",
      " |      Parameters\n",
      " |      ----------\n",
      " |      **params : dict\n",
      " |          Estimator parameters.\n",
      " |      \n",
      " |      Returns\n",
      " |      -------\n",
      " |      self : object\n",
      " |          Estimator instance.\n",
      " |  \n",
      " |  ----------------------------------------------------------------------\n",
      " |  Data descriptors inherited from sklearn.base.BaseEstimator:\n",
      " |  \n",
      " |  __dict__\n",
      " |      dictionary for instance variables (if defined)\n",
      " |  \n",
      " |  __weakref__\n",
      " |      list of weak references to the object (if defined)\n",
      "\n"
     ]
    }
   ],
   "source": [
    "from sklearn.neighbors import KernelDensity\n",
    "\n",
    "help(KernelDensity)"
   ]
  },
  {
   "cell_type": "markdown",
   "metadata": {},
   "source": [
    "Temos vários parâmetros que podem ser ajustados. Entre eles:\n",
    "\n",
    "- Função kernel a ser utilizada (e.g., gaussiana)\n",
    "- O algoritmo para calculo de vizinhança (podemos utilizar algoritmos aproximados, como a KDTree -- utilizada no k-NN)\n",
    "- Podemos variar a métrica de distância\n",
    "- Assim por diante\n",
    "\n",
    "Aqui nos focaremos em apenas dois parâmetros:\n",
    "\n",
    "- **bandwidth** $\\rightarrow$ a largura de banda das múltiplas funções kernel a serem utilizadas. Esse hiperparâmetro será \"visível\" em nossa implementação. Deixaremos o valor `0.5` como padrão (por quê? Não faço a mínima ideia, me deu vontade agora :D -- um \"chute\" nada informado, digamos assim)\n",
    "- **kernel** $\\rightarrow$ a função kernel a ser utilizada. Deixaremos a `'gaussian'` como padrão.\n",
    "\n",
    "Para mais informações sobre a classe de `KernelEstimation`, visitar a [documentação](https://scikit-learn.org/stable/modules/generated/sklearn.neighbors.KernelDensity.html) e esse [ótimo material introdutório](https://scikit-learn.org/stable/modules/density.html#kernel-density) do próprio sklearn.\n",
    "\n",
    "Sem mais delongas, vamos criar nosso:\n",
    "\n",
    "### KDENaiveBayes"
   ]
  },
  {
   "cell_type": "code",
   "execution_count": 9,
   "metadata": {},
   "outputs": [],
   "source": [
    "# Faz nossa classe \"custom-made\" compatível com sklearn\n",
    "from sklearn.base import BaseEstimator, ClassifierMixin\n",
    "from sklearn.neighbors import KernelDensity\n",
    "\n",
    "\n",
    "class KDENaiveBayes(BaseEstimator, ClassifierMixin):\n",
    "    \"\"\"Our custom-made Naive Bayes implementation with KDE\n",
    "    \n",
    "    Parameters\n",
    "    ----------\n",
    "        bandwidth : float, optional (default: 0.5)\n",
    "            The kernel bandwidth width\n",
    "        kernel : str, optional (default: 'gaussian')\n",
    "            The kernel name, passed to KernelDensity\n",
    "\n",
    "    Notes\n",
    "    -----\n",
    "        It relies on sklearn.neighbors.KernelDensity to estimate the data density.\n",
    "        This implementation must be used with numerical data, just like sklearn.naive_bayes.GaussianNB.\n",
    "        This implementation was inspired on the one available in _[1].\n",
    "        \n",
    "    References\n",
    "    ----------\n",
    "    .. [1] https://jakevdp.github.io/PythonDataScienceHandbook/05.13-kernel-density-estimation.html\n",
    "\n",
    "    \"\"\"\n",
    "    def __init__(self, bandwidth=0.5, kernel='gaussian'):\n",
    "        # Salvamos nossos hiperparâmetros\n",
    "        self.bandwidth = bandwidth\n",
    "        self.kernel = kernel\n",
    "        \n",
    "    def fit(self, X, y):\n",
    "        # Seleciona as classes do problema\n",
    "        self.classes = np.sort(np.unique(y))\n",
    "        \n",
    "        # Nossa probabilidade a priori de cada classe (aplicaremos log para evitar o multiplicatório)\n",
    "        self.logpriors = {}\n",
    "        # A estimativa de densidade para cada classe\n",
    "        self.likelihood = {}\n",
    "        for c in self.classes:\n",
    "            # Filtra os dados de cada classe\n",
    "            class_mask = y == c\n",
    "            self.logpriors[c] = np.log(len(y[class_mask]) / len(y))\n",
    "            self.likelihood[c] = KernelDensity(bandwidth=self.bandwidth, kernel=self.kernel)\n",
    "            # Estimação das densidades\n",
    "            self.likelihood[c].fit(X[class_mask])\n",
    "            \n",
    "        return self\n",
    "            \n",
    "        \n",
    "    def predict_proba(self, X):\n",
    "        # Numero de amostras x numero de classes\n",
    "        proba = np.zeros((len(X), len(self.classes)))\n",
    "        \n",
    "        for c in self.classes:\n",
    "            # O KDE nos dá o loglikelihood com a função score. Sabemos que:\n",
    "            # log(a * b) = log(a) + log(b)\n",
    "            # Nossos priors (probabilidade a priori) das classes foram transformados com log\n",
    "            # Logo, basta somarmos os elementos e aplicar um função exp: a = exp(log(a))\n",
    "            proba[:, c] = np.exp(self.likelihood[c].score_samples(X) + self.logpriors[c])\n",
    "        \n",
    "        \n",
    "        # Por fim, aplicamos a função softmax para obter as probabilidades\n",
    "        exp_proba = np.exp(proba)\n",
    "        proba = exp_proba / np.sum(exp_proba, axis=1)[:, None]\n",
    "\n",
    "        return proba\n",
    "        \n",
    "    def predict(self, X):\n",
    "        return self.classes[np.argmax(self.predict_proba(X), axis=1)]"
   ]
  },
  {
   "cell_type": "markdown",
   "metadata": {},
   "source": [
    "### Vamos ver como nos saímos:"
   ]
  },
  {
   "cell_type": "code",
   "execution_count": 10,
   "metadata": {},
   "outputs": [
    {
     "name": "stdout",
     "output_type": "stream",
     "text": [
      "Acuracias: [0.85, 0.9, 0.9, 0.85, 0.9, 0.9, 0.9, 0.7, 1.0, 0.9]\n",
      "Media: 0.8800 | Desvio padrão: 0.0714\n"
     ]
    }
   ],
   "source": [
    "score_print_10fold(X, y, classificador=KDENaiveBayes, bandwidth=0.5)"
   ]
  },
  {
   "cell_type": "markdown",
   "metadata": {},
   "source": [
    "Lembram do GaussianNaiveBayes?"
   ]
  },
  {
   "cell_type": "code",
   "execution_count": 11,
   "metadata": {
    "scrolled": true
   },
   "outputs": [
    {
     "name": "stdout",
     "output_type": "stream",
     "text": [
      "Acuracias: [0.8, 0.85, 0.85, 0.95, 0.8, 0.8, 0.75, 0.8, 0.85, 0.7]\n",
      "Media: 0.8150 | Desvio padrão: 0.0634\n"
     ]
    }
   ],
   "source": [
    "score_print_10fold(X, y, classificador=GaussianNaiveBayes)"
   ]
  },
  {
   "cell_type": "markdown",
   "metadata": {},
   "source": [
    "Nos demos bem!!!\n",
    "\n",
    "E se mudássemos o valor da banda?"
   ]
  },
  {
   "cell_type": "code",
   "execution_count": 12,
   "metadata": {
    "scrolled": true
   },
   "outputs": [
    {
     "name": "stdout",
     "output_type": "stream",
     "text": [
      "Acuracias: [0.9, 0.95, 0.9, 0.95, 0.85, 0.95, 0.9, 0.75, 1.0, 0.95]\n",
      "Media: 0.9100 | Desvio padrão: 0.0663\n"
     ]
    }
   ],
   "source": [
    "score_print_10fold(X, y, classificador=KDENaiveBayes, bandwidth=0.2)"
   ]
  },
  {
   "cell_type": "markdown",
   "metadata": {},
   "source": [
    "E o kernel? (Nem tudo são flores)"
   ]
  },
  {
   "cell_type": "code",
   "execution_count": 13,
   "metadata": {},
   "outputs": [
    {
     "name": "stdout",
     "output_type": "stream",
     "text": [
      "Acuracias: [0.55, 0.3, 0.4, 0.45, 0.55, 0.6, 0.7, 0.5, 0.35, 0.55]\n",
      "Media: 0.4950 | Desvio padrão: 0.1150\n"
     ]
    }
   ],
   "source": [
    "score_print_10fold(X, y, classificador=KDENaiveBayes, bandwidth=0.2, kernel='tophat')"
   ]
  },
  {
   "cell_type": "markdown",
   "metadata": {},
   "source": [
    "#### Mais conclusões:\n",
    "\n",
    "A utilização de KDE com o Naive Bayes torna as coisas mais interessantes!\n",
    "\n",
    "- Com a escolha adequada do `kernel` e da `bandwidth` temos o potencial de obter melhores resultados do que o GaussianNB\n",
    "- Existe um custo adicional de processamento envolvido! Quanto mais atributos de entrada, mais custoso é o calculo do KDE\n",
    "    * Poderiamos também ter criado um KDE por atributo de entrada, assim como criamos uma Gaussiana por entrada para o GaussianNaiveBayes\n",
    "    \n",
    "Divirtam-se com essa implementação! Infelizmente o sklearn não nos provê uma versão do KDENaiveBayes :/"
   ]
  }
 ],
 "metadata": {
  "kernelspec": {
   "display_name": "Python 3",
   "language": "python",
   "name": "python3"
  },
  "language_info": {
   "codemirror_mode": {
    "name": "ipython",
    "version": 3
   },
   "file_extension": ".py",
   "mimetype": "text/x-python",
   "name": "python",
   "nbconvert_exporter": "python",
   "pygments_lexer": "ipython3",
   "version": "3.8.2"
  }
 },
 "nbformat": 4,
 "nbformat_minor": 2
}
