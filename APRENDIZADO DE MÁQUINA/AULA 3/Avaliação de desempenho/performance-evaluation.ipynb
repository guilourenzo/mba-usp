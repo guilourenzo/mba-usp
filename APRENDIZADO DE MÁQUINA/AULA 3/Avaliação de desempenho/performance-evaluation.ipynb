{
 "cells": [
  {
   "cell_type": "markdown",
   "metadata": {},
   "source": [
    "# Avaliação de desempenho preditivo\n",
    "## com aplicações em conjuntos de dados\n",
    "\n",
    "Nessa prática iremos utilizar o algoritmo KNN com diferentes distâncias e diferentes formas de avaliação, para as tarefas de classificação e regressão.\n",
    "\n",
    "Para classificação utilizaremos o conjunto de dados de \"Diagnóstico de Câncer de Mama de Wisconsin\";\n",
    "Para regressão utilizaremos o conjunto de dados de \"Qualidade de Vinho Tinto\"."
   ]
  },
  {
   "cell_type": "markdown",
   "metadata": {},
   "source": [
    "Trabalhos científicos que utilizam essas bases:\n",
    "\n",
    "Wisconsin Breast Cancer:\n",
    "Brito-Sarracino, T., dos Santos, M. R., Antunes, E. F., de Andrade Santos, I. B., Kasmanas, J. C., & de Leon Ferreira, A. C. P. (2019, October). Explainable Machine Learning for Breast Cancer Diagnosis. In 2019 8th Brazilian Conference on Intelligent Systems (BRACIS) (pp. 681-686). IEEE.\n",
    "Link: <https://ieeexplore.ieee.org/document/8923961>\n",
    "\n",
    "\n",
    "Wine Quality: \n",
    "P. Cortez, A. Cerdeira, F. Almeida, T. Matos and J. Reis. Modeling wine preferences by data mining from physicochemical properties. In Decision Support Systems, Elsevier, 47(4):547-553, 2009.\n",
    "Link: <https://www.sciencedirect.com/science/article/abs/pii/S0167923609001377?via%3Dihub>\n",
    "\n",
    "\n",
    "\n",
    "Vamos começar com a prática de classificação,"
   ]
  },
  {
   "cell_type": "markdown",
   "metadata": {},
   "source": [
    "**Carregar os dados e fazer uma breve análise exploratória**"
   ]
  },
  {
   "cell_type": "code",
   "execution_count": 1,
   "metadata": {},
   "outputs": [
    {
     "data": {
      "text/html": [
       "<div>\n",
       "<style scoped>\n",
       "    .dataframe tbody tr th:only-of-type {\n",
       "        vertical-align: middle;\n",
       "    }\n",
       "\n",
       "    .dataframe tbody tr th {\n",
       "        vertical-align: top;\n",
       "    }\n",
       "\n",
       "    .dataframe thead th {\n",
       "        text-align: right;\n",
       "    }\n",
       "</style>\n",
       "<table border=\"1\" class=\"dataframe\">\n",
       "  <thead>\n",
       "    <tr style=\"text-align: right;\">\n",
       "      <th></th>\n",
       "      <th>id</th>\n",
       "      <th>diagnosis</th>\n",
       "      <th>radius_mean</th>\n",
       "      <th>texture_mean</th>\n",
       "      <th>perimeter_mean</th>\n",
       "      <th>area_mean</th>\n",
       "      <th>smoothness_mean</th>\n",
       "      <th>compactness_mean</th>\n",
       "      <th>concavity_mean</th>\n",
       "      <th>concave points_mean</th>\n",
       "      <th>...</th>\n",
       "      <th>radius_worst</th>\n",
       "      <th>texture_worst</th>\n",
       "      <th>perimeter_worst</th>\n",
       "      <th>area_worst</th>\n",
       "      <th>smoothness_worst</th>\n",
       "      <th>compactness_worst</th>\n",
       "      <th>concavity_worst</th>\n",
       "      <th>concave points_worst</th>\n",
       "      <th>symmetry_worst</th>\n",
       "      <th>fractal_dimension_worst</th>\n",
       "    </tr>\n",
       "  </thead>\n",
       "  <tbody>\n",
       "    <tr>\n",
       "      <th>0</th>\n",
       "      <td>842302</td>\n",
       "      <td>M</td>\n",
       "      <td>17.99</td>\n",
       "      <td>10.38</td>\n",
       "      <td>122.80</td>\n",
       "      <td>1001.0</td>\n",
       "      <td>0.11840</td>\n",
       "      <td>0.27760</td>\n",
       "      <td>0.3001</td>\n",
       "      <td>0.14710</td>\n",
       "      <td>...</td>\n",
       "      <td>25.38</td>\n",
       "      <td>17.33</td>\n",
       "      <td>184.60</td>\n",
       "      <td>2019.0</td>\n",
       "      <td>0.1622</td>\n",
       "      <td>0.6656</td>\n",
       "      <td>0.7119</td>\n",
       "      <td>0.2654</td>\n",
       "      <td>0.4601</td>\n",
       "      <td>0.11890</td>\n",
       "    </tr>\n",
       "    <tr>\n",
       "      <th>1</th>\n",
       "      <td>842517</td>\n",
       "      <td>M</td>\n",
       "      <td>20.57</td>\n",
       "      <td>17.77</td>\n",
       "      <td>132.90</td>\n",
       "      <td>1326.0</td>\n",
       "      <td>0.08474</td>\n",
       "      <td>0.07864</td>\n",
       "      <td>0.0869</td>\n",
       "      <td>0.07017</td>\n",
       "      <td>...</td>\n",
       "      <td>24.99</td>\n",
       "      <td>23.41</td>\n",
       "      <td>158.80</td>\n",
       "      <td>1956.0</td>\n",
       "      <td>0.1238</td>\n",
       "      <td>0.1866</td>\n",
       "      <td>0.2416</td>\n",
       "      <td>0.1860</td>\n",
       "      <td>0.2750</td>\n",
       "      <td>0.08902</td>\n",
       "    </tr>\n",
       "    <tr>\n",
       "      <th>2</th>\n",
       "      <td>84300903</td>\n",
       "      <td>M</td>\n",
       "      <td>19.69</td>\n",
       "      <td>21.25</td>\n",
       "      <td>130.00</td>\n",
       "      <td>1203.0</td>\n",
       "      <td>0.10960</td>\n",
       "      <td>0.15990</td>\n",
       "      <td>0.1974</td>\n",
       "      <td>0.12790</td>\n",
       "      <td>...</td>\n",
       "      <td>23.57</td>\n",
       "      <td>25.53</td>\n",
       "      <td>152.50</td>\n",
       "      <td>1709.0</td>\n",
       "      <td>0.1444</td>\n",
       "      <td>0.4245</td>\n",
       "      <td>0.4504</td>\n",
       "      <td>0.2430</td>\n",
       "      <td>0.3613</td>\n",
       "      <td>0.08758</td>\n",
       "    </tr>\n",
       "    <tr>\n",
       "      <th>3</th>\n",
       "      <td>84348301</td>\n",
       "      <td>M</td>\n",
       "      <td>11.42</td>\n",
       "      <td>20.38</td>\n",
       "      <td>77.58</td>\n",
       "      <td>386.1</td>\n",
       "      <td>0.14250</td>\n",
       "      <td>0.28390</td>\n",
       "      <td>0.2414</td>\n",
       "      <td>0.10520</td>\n",
       "      <td>...</td>\n",
       "      <td>14.91</td>\n",
       "      <td>26.50</td>\n",
       "      <td>98.87</td>\n",
       "      <td>567.7</td>\n",
       "      <td>0.2098</td>\n",
       "      <td>0.8663</td>\n",
       "      <td>0.6869</td>\n",
       "      <td>0.2575</td>\n",
       "      <td>0.6638</td>\n",
       "      <td>0.17300</td>\n",
       "    </tr>\n",
       "    <tr>\n",
       "      <th>4</th>\n",
       "      <td>84358402</td>\n",
       "      <td>M</td>\n",
       "      <td>20.29</td>\n",
       "      <td>14.34</td>\n",
       "      <td>135.10</td>\n",
       "      <td>1297.0</td>\n",
       "      <td>0.10030</td>\n",
       "      <td>0.13280</td>\n",
       "      <td>0.1980</td>\n",
       "      <td>0.10430</td>\n",
       "      <td>...</td>\n",
       "      <td>22.54</td>\n",
       "      <td>16.67</td>\n",
       "      <td>152.20</td>\n",
       "      <td>1575.0</td>\n",
       "      <td>0.1374</td>\n",
       "      <td>0.2050</td>\n",
       "      <td>0.4000</td>\n",
       "      <td>0.1625</td>\n",
       "      <td>0.2364</td>\n",
       "      <td>0.07678</td>\n",
       "    </tr>\n",
       "  </tbody>\n",
       "</table>\n",
       "<p>5 rows × 32 columns</p>\n",
       "</div>"
      ],
      "text/plain": [
       "         id diagnosis  radius_mean  texture_mean  perimeter_mean  area_mean  \\\n",
       "0    842302         M        17.99         10.38          122.80     1001.0   \n",
       "1    842517         M        20.57         17.77          132.90     1326.0   \n",
       "2  84300903         M        19.69         21.25          130.00     1203.0   \n",
       "3  84348301         M        11.42         20.38           77.58      386.1   \n",
       "4  84358402         M        20.29         14.34          135.10     1297.0   \n",
       "\n",
       "   smoothness_mean  compactness_mean  concavity_mean  concave points_mean  \\\n",
       "0          0.11840           0.27760          0.3001              0.14710   \n",
       "1          0.08474           0.07864          0.0869              0.07017   \n",
       "2          0.10960           0.15990          0.1974              0.12790   \n",
       "3          0.14250           0.28390          0.2414              0.10520   \n",
       "4          0.10030           0.13280          0.1980              0.10430   \n",
       "\n",
       "   ...  radius_worst  texture_worst  perimeter_worst  area_worst  \\\n",
       "0  ...         25.38          17.33           184.60      2019.0   \n",
       "1  ...         24.99          23.41           158.80      1956.0   \n",
       "2  ...         23.57          25.53           152.50      1709.0   \n",
       "3  ...         14.91          26.50            98.87       567.7   \n",
       "4  ...         22.54          16.67           152.20      1575.0   \n",
       "\n",
       "   smoothness_worst  compactness_worst  concavity_worst  concave points_worst  \\\n",
       "0            0.1622             0.6656           0.7119                0.2654   \n",
       "1            0.1238             0.1866           0.2416                0.1860   \n",
       "2            0.1444             0.4245           0.4504                0.2430   \n",
       "3            0.2098             0.8663           0.6869                0.2575   \n",
       "4            0.1374             0.2050           0.4000                0.1625   \n",
       "\n",
       "   symmetry_worst  fractal_dimension_worst  \n",
       "0          0.4601                  0.11890  \n",
       "1          0.2750                  0.08902  \n",
       "2          0.3613                  0.08758  \n",
       "3          0.6638                  0.17300  \n",
       "4          0.2364                  0.07678  \n",
       "\n",
       "[5 rows x 32 columns]"
      ]
     },
     "execution_count": 1,
     "metadata": {},
     "output_type": "execute_result"
    }
   ],
   "source": [
    "import pandas as pd\n",
    "\n",
    "wisconsin = pd.read_csv(\"wisconsin.csv\")\n",
    "wisconsin.head()"
   ]
  },
  {
   "cell_type": "code",
   "execution_count": 2,
   "metadata": {},
   "outputs": [
    {
     "name": "stdout",
     "output_type": "stream",
     "text": [
      "count     569\n",
      "unique      2\n",
      "top         B\n",
      "freq      357\n",
      "Name: diagnosis, dtype: object\n",
      "['M' 'B']\n"
     ]
    }
   ],
   "source": [
    "print(wisconsin[\"diagnosis\"].describe(include = ['O']))\n",
    "print(wisconsin[\"diagnosis\"].unique())"
   ]
  },
  {
   "cell_type": "code",
   "execution_count": 3,
   "metadata": {},
   "outputs": [
    {
     "data": {
      "text/plain": [
       "212"
      ]
     },
     "execution_count": 3,
     "metadata": {},
     "output_type": "execute_result"
    }
   ],
   "source": [
    "569 - 357"
   ]
  },
  {
   "cell_type": "markdown",
   "metadata": {},
   "source": [
    "Agora vamos colocar a mão na massa. Primeiro carregaremos os pacotes necessários para induzir o modelo e plotar os gráficos."
   ]
  },
  {
   "cell_type": "code",
   "execution_count": 4,
   "metadata": {},
   "outputs": [],
   "source": [
    "from sklearn.preprocessing import StandardScaler # importa a função responsável por fazer o preprocessamento dos dados \n",
    "import matplotlib.pyplot as plt # importa o matplotlib\n",
    "import seaborn as sns # importa uma biblioteca para deixar os gráficos mais bonitos"
   ]
  },
  {
   "cell_type": "markdown",
   "metadata": {},
   "source": [
    "**Importante:**\n",
    "Aqui vamos dividir os dados em atributos preditivos (features) e alvo (target).\n",
    "É importante tirar identificadores da base ou definí-los explicitamente como indices."
   ]
  },
  {
   "cell_type": "code",
   "execution_count": 5,
   "metadata": {},
   "outputs": [],
   "source": [
    "X_array = wisconsin.drop([\"id\", \"diagnosis\"], axis = 1)\n",
    "y_array = wisconsin[\"diagnosis\"]"
   ]
  },
  {
   "cell_type": "markdown",
   "metadata": {},
   "source": [
    "**Faremos o PCA para visualizar o plot em 2D**"
   ]
  },
  {
   "cell_type": "code",
   "execution_count": 6,
   "metadata": {},
   "outputs": [
    {
     "data": {
      "text/html": [
       "<div>\n",
       "<style scoped>\n",
       "    .dataframe tbody tr th:only-of-type {\n",
       "        vertical-align: middle;\n",
       "    }\n",
       "\n",
       "    .dataframe tbody tr th {\n",
       "        vertical-align: top;\n",
       "    }\n",
       "\n",
       "    .dataframe thead th {\n",
       "        text-align: right;\n",
       "    }\n",
       "</style>\n",
       "<table border=\"1\" class=\"dataframe\">\n",
       "  <thead>\n",
       "    <tr style=\"text-align: right;\">\n",
       "      <th></th>\n",
       "      <th>PC1</th>\n",
       "      <th>PC2</th>\n",
       "      <th>diagnosis</th>\n",
       "    </tr>\n",
       "  </thead>\n",
       "  <tbody>\n",
       "    <tr>\n",
       "      <th>0</th>\n",
       "      <td>9.192837</td>\n",
       "      <td>1.948583</td>\n",
       "      <td>M</td>\n",
       "    </tr>\n",
       "    <tr>\n",
       "      <th>1</th>\n",
       "      <td>2.387802</td>\n",
       "      <td>-3.768172</td>\n",
       "      <td>M</td>\n",
       "    </tr>\n",
       "    <tr>\n",
       "      <th>2</th>\n",
       "      <td>5.733896</td>\n",
       "      <td>-1.075174</td>\n",
       "      <td>M</td>\n",
       "    </tr>\n",
       "    <tr>\n",
       "      <th>3</th>\n",
       "      <td>7.122953</td>\n",
       "      <td>10.275589</td>\n",
       "      <td>M</td>\n",
       "    </tr>\n",
       "    <tr>\n",
       "      <th>4</th>\n",
       "      <td>3.935302</td>\n",
       "      <td>-1.948072</td>\n",
       "      <td>M</td>\n",
       "    </tr>\n",
       "  </tbody>\n",
       "</table>\n",
       "</div>"
      ],
      "text/plain": [
       "        PC1        PC2 diagnosis\n",
       "0  9.192837   1.948583         M\n",
       "1  2.387802  -3.768172         M\n",
       "2  5.733896  -1.075174         M\n",
       "3  7.122953  10.275589         M\n",
       "4  3.935302  -1.948072         M"
      ]
     },
     "execution_count": 6,
     "metadata": {},
     "output_type": "execute_result"
    }
   ],
   "source": [
    "from sklearn.preprocessing import StandardScaler  # padronização dos dados antes da PCA\n",
    "from sklearn.decomposition import PCA  # PCA propriamente dita\n",
    "\n",
    "X_norm = StandardScaler().fit_transform(X_array)\n",
    "X_pca = PCA(n_components=2).fit_transform(X_norm)\n",
    "\n",
    "principalDf = pd.DataFrame(data = X_pca, columns = ['PC1', 'PC2'])\n",
    "PCA_df = pd.concat([principalDf, y_array], axis = 1)\n",
    "\n",
    "PCA_df.head()"
   ]
  },
  {
   "cell_type": "code",
   "execution_count": 7,
   "metadata": {},
   "outputs": [
    {
     "data": {
      "image/png": "[encoded data removed]",
      "text/plain": [
       "<Figure size 1080x1080 with 1 Axes>"
      ]
     },
     "metadata": {
      "needs_background": "light"
     },
     "output_type": "display_data"
    }
   ],
   "source": [
    "fig = plt.figure(figsize = (15,15))\n",
    "sns.set_context(\"notebook\", font_scale=1.5, rc={\"lines.linewidth\": 2.5})\n",
    "ax = sns.scatterplot(x=\"PC1\", y=\"PC2\", hue=\"diagnosis\", data=PCA_df)\n",
    "ax.grid()"
   ]
  },
  {
   "cell_type": "markdown",
   "metadata": {},
   "source": [
    "**Realizar experimentos com o algoritmo k-NN**\n",
    "- Variar valor de k\n",
    "- Variar amostragem\n",
    "    - random subsampling\n",
    "    - 10-fold cross validation\n",
    "    - Leave-one-out"
   ]
  },
  {
   "cell_type": "markdown",
   "metadata": {},
   "source": [
    "Vamos carregar as funções necessárias para a implementação desta prática.\n",
    "Lembrando que não estamos carregando as funções e pacotes que foram carregados anteriormente."
   ]
  },
  {
   "cell_type": "code",
   "execution_count": 11,
   "metadata": {},
   "outputs": [],
   "source": [
    "from sklearn.neighbors import KNeighborsClassifier # Carrega o algoritmo KNN para classificação\n",
    "from sklearn.model_selection import ShuffleSplit # Carrega a função que será utilizada para fazer o Random Subsampling\n",
    "from sklearn.model_selection import LeaveOneOut # Carrega a função que será utilizada para fazer o Leave-one-out\n",
    "from sklearn.model_selection import KFold # Carrega a função que será utilizada para fazer o K-fold cross validation\n",
    "from sklearn import metrics # Carrega a parte de métricas do sklearn\n",
    "from sklearn.pipeline import make_pipeline # Função responsável por fazer o Pipeline do experimento\n",
    "from sklearn.model_selection import cross_val_score # Função para extrair métricas de métodos de reamostragem\n",
    "import numpy as np # Carrega o pacote numpy que conta com um conjunto completo de operações e funções matemáticas"
   ]
  },
  {
   "cell_type": "markdown",
   "metadata": {},
   "source": [
    "Agora vamos criar uma função que tem como entrada os dados (atributos e valor alvo) e o método de reamostragem.\n",
    "Ela irá aplicar o método de amostragem escolhido no conjunto de dados para diferentes valores de K como foi\n",
    "proposto pelo enunciado da prática.\n",
    "O objetivo aqui é observar como cada método de reamostragem se comporta quanto a estimativa do desempenho para\n",
    "novos dados."
   ]
  },
  {
   "cell_type": "code",
   "execution_count": 12,
   "metadata": {},
   "outputs": [],
   "source": [
    "def reamostragem(X, y, metodo = \"10fold\"):\n",
    "    results = list()\n",
    "    \n",
    "    k = [1,3,5,7,9,11,13,15,17,19,21,23,25,27]\n",
    "    \n",
    "    for i in k:\n",
    "        if(metodo == \"randsub\"):\n",
    "            ream = ShuffleSplit(n_splits=10, test_size=.25, random_state = 42)\n",
    "        elif(metodo == \"10fold\"):\n",
    "            ream = KFold(n_splits=10, shuffle = True, random_state = 42)\n",
    "        elif(metodo == \"loo\"):\n",
    "            ream = LeaveOneOut()\n",
    "\n",
    "        model = make_pipeline(StandardScaler(), KNeighborsClassifier(n_neighbors=i))\n",
    "        ac = np.mean(cross_val_score(model, X, y, cv = ream, scoring = \"accuracy\"))\n",
    "        results.append(ac)\n",
    "    \n",
    "    return results    "
   ]
  },
  {
   "cell_type": "markdown",
   "metadata": {},
   "source": [
    "Na criação desta função temos um elemento interessante chamado **Pipeline**.\n",
    "O Pipeline consiste em uma sequência de passos que podem ser relacionados a mudança de escala de atributos,\n",
    "seleção de atributos, extração de atributos (exemplo: PCA), e o ajuste do modelo (fit).\n",
    "Além de deixar o seu código mais elegante e limpo, a utilização dele evita que você esqueça de tomar algumas precauções.\n",
    "Por exemplo:\n",
    "\n",
    "Quando você faz a padronização dos dados no KNN, deve seguir os seguintes passos:\n",
    "- Dividir os dados em treinamento e teste\n",
    "- Ajustar a padronização aos dados de treinamento e aplicar a eles\n",
    "- Quando for testar nos dados novos, aplicar a mesma normalização feita nos dados de entrada\n",
    "\n",
    "Don't worry! O **Pipeline** faz isso automaticamente!\n",
    "\n",
    "Um erro comum quando se está querendo estimar o desempenho do modelo é aplicar a normalização nos dados de treino e teste antes de particionar. Isso faz com que vocês tenha uma ideia pré-concebida sobre os dados de teste e é uma péssima prática.\n",
    "\n",
    "Agora veremos o desempenho do modelo aplicando nossa função aos dados de Cancer de Mama de Wisconsin."
   ]
  },
  {
   "cell_type": "code",
   "execution_count": 13,
   "metadata": {},
   "outputs": [],
   "source": [
    "result_rand_sub = reamostragem(X_array, y_array, metodo = \"randsub\")\n",
    "result_10fold = reamostragem(X_array, y_array, metodo = \"10fold\")\n",
    "result_loo = reamostragem(X_array, y_array, metodo = \"loo\")\n",
    "k = [1,3,5,7,9,11,13,15,17,19,21,23,25,27]\n",
    "\n",
    "results_summary = pd.DataFrame({\"Random Subsampling\": result_rand_sub, \"Leave-one-out\": result_loo,\n",
    "                               \"10-fold\": result_10fold, \"k\": k})\n",
    "\n",
    "results_summary = results_summary.melt('k', var_name='cols',  value_name='Acurácia')"
   ]
  },
  {
   "cell_type": "code",
   "execution_count": 15,
   "metadata": {},
   "outputs": [
    {
     "data": {
      "text/html": [
       "<div>\n",
       "<style scoped>\n",
       "    .dataframe tbody tr th:only-of-type {\n",
       "        vertical-align: middle;\n",
       "    }\n",
       "\n",
       "    .dataframe tbody tr th {\n",
       "        vertical-align: top;\n",
       "    }\n",
       "\n",
       "    .dataframe thead th {\n",
       "        text-align: right;\n",
       "    }\n",
       "</style>\n",
       "<table border=\"1\" class=\"dataframe\">\n",
       "  <thead>\n",
       "    <tr style=\"text-align: right;\">\n",
       "      <th></th>\n",
       "      <th>k</th>\n",
       "      <th>cols</th>\n",
       "      <th>Acurácia</th>\n",
       "    </tr>\n",
       "  </thead>\n",
       "  <tbody>\n",
       "    <tr>\n",
       "      <th>37</th>\n",
       "      <td>19</td>\n",
       "      <td>10-fold</td>\n",
       "      <td>0.955984</td>\n",
       "    </tr>\n",
       "    <tr>\n",
       "      <th>38</th>\n",
       "      <td>21</td>\n",
       "      <td>10-fold</td>\n",
       "      <td>0.954229</td>\n",
       "    </tr>\n",
       "    <tr>\n",
       "      <th>39</th>\n",
       "      <td>23</td>\n",
       "      <td>10-fold</td>\n",
       "      <td>0.954229</td>\n",
       "    </tr>\n",
       "    <tr>\n",
       "      <th>40</th>\n",
       "      <td>25</td>\n",
       "      <td>10-fold</td>\n",
       "      <td>0.952475</td>\n",
       "    </tr>\n",
       "    <tr>\n",
       "      <th>41</th>\n",
       "      <td>27</td>\n",
       "      <td>10-fold</td>\n",
       "      <td>0.954229</td>\n",
       "    </tr>\n",
       "  </tbody>\n",
       "</table>\n",
       "</div>"
      ],
      "text/plain": [
       "     k     cols  Acurácia\n",
       "37  19  10-fold  0.955984\n",
       "38  21  10-fold  0.954229\n",
       "39  23  10-fold  0.954229\n",
       "40  25  10-fold  0.952475\n",
       "41  27  10-fold  0.954229"
      ]
     },
     "execution_count": 15,
     "metadata": {},
     "output_type": "execute_result"
    }
   ],
   "source": [
    "results_summary.tail()"
   ]
  },
  {
   "cell_type": "code",
   "execution_count": 11,
   "metadata": {},
   "outputs": [
    {
     "data": {
      "image/png": "[encoded data removed]",
      "text/plain": [
       "<Figure size 842.4x595.44 with 1 Axes>"
      ]
     },
     "metadata": {
      "needs_background": "light"
     },
     "output_type": "display_data"
    }
   ],
   "source": [
    "plt.figure(figsize=(11.7,8.27))\n",
    "sns.set_context(\"notebook\", font_scale=1.5, rc={\"lines.linewidth\": 2.5})\n",
    "ax = sns.lineplot(x=\"k\", y=\"Acurácia\", hue=\"cols\", data=results_summary)\n",
    "# Aqui eu mudo o título da legenda\n",
    "legend = ax.legend()\n",
    "legend.texts[0].set_text(\"Reamostragem\")\n",
    "ax.grid()"
   ]
  },
  {
   "cell_type": "markdown",
   "metadata": {},
   "source": [
    "Percebam que o comportamento do 10-fold se aproxima ao do LOO enquanto que o Random subsampling é diferente.\n",
    "Agora vamos analizar o tempo de cada um.\n",
    "Para isso vamos utilizar a biblioteca \"timeit\". Esta biblioteca é largamente utilizada para medir tempo de funções\n",
    "devido à precisão que tem em desconsiderar os outros processos e verificar apenas o tempo que o computador está\n",
    "utilizando para processar aquela função. É muito mais precisa que a biblioteca \"time\" para esta finalidade."
   ]
  },
  {
   "cell_type": "code",
   "execution_count": 73,
   "metadata": {},
   "outputs": [
    {
     "name": "stdout",
     "output_type": "stream",
     "text": [
      "1.34 s ± 28.8 ms per loop (mean ± std. dev. of 5 runs, 1 loop each)\n"
     ]
    }
   ],
   "source": [
    "%timeit -r5 -n1 reamostragem(X_array, y_array, metodo = \"randsub\")"
   ]
  },
  {
   "cell_type": "code",
   "execution_count": 74,
   "metadata": {},
   "outputs": [
    {
     "name": "stdout",
     "output_type": "stream",
     "text": [
      "1.04 s ± 11 ms per loop (mean ± std. dev. of 5 runs, 1 loop each)\n"
     ]
    }
   ],
   "source": [
    "%timeit -r5 -n1 reamostragem(X_array, y_array, metodo = \"10fold\")"
   ]
  },
  {
   "cell_type": "code",
   "execution_count": 75,
   "metadata": {},
   "outputs": [
    {
     "name": "stdout",
     "output_type": "stream",
     "text": [
      "35.1 s ± 483 ms per loop (mean ± std. dev. of 5 runs, 1 loop each)\n"
     ]
    }
   ],
   "source": [
    "%timeit -r5 -n1 reamostragem(X_array, y_array, metodo = \"loo\")"
   ]
  },
  {
   "cell_type": "markdown",
   "metadata": {},
   "source": [
    "Como vocês podem perceber, por mais que teoricamente o Leave-one-out seja a melhor aproximação entre essas que estamos testando, seu tempo pode torná-lo proibitivo para bases maiores. Enquanto que o 10-fold cross validation obteve um tempo menor até que o random subsampling e um comportamento parecido com o do LOO. Isto torna o 10-fold uma boa escolha para avaliação de modelos. "
   ]
  },
  {
   "cell_type": "markdown",
   "metadata": {},
   "source": [
    "## Agora vamos para o próximo exercício"
   ]
  },
  {
   "cell_type": "markdown",
   "metadata": {},
   "source": [
    "**Para um dado valor de k do algoritmo k-NN**\n",
    "- Comparar k-NN com 3 variações do k-NN:\n",
    "    - Utilizando 3 medidas de distância diferentes"
   ]
  },
  {
   "cell_type": "markdown",
   "metadata": {},
   "source": [
    "Me empolguei na tutoria passada, quero criar minha própria distância!\n",
    "Você pode criar a distância que você quiser e passar como métrica para o sklearn.\n",
    "Como por exemplo a métrica \"minha distância\" que faz o contrário da norma máxima ou Chebyshev\n",
    "\n",
    "\\begin{equation}\n",
    "dist_{chebyshev}( \\vec{u}, \\vec{v} ) = \\max_{i = 1,~...~, m}(| u_i - v_i |) \n",
    "\\end{equation}\n",
    "\n",
    "\\begin{equation}\n",
    "dist_{minhadist}( \\vec{u}, \\vec{v} ) = \\min_{i = 1,~...~, m}(| u_i - v_i |) \n",
    "\\end{equation}"
   ]
  },
  {
   "cell_type": "code",
   "execution_count": 16,
   "metadata": {},
   "outputs": [],
   "source": [
    "def minha_distancia(u, v):\n",
    "    return np.min(np.absolute(u-v))"
   ]
  },
  {
   "cell_type": "markdown",
   "metadata": {},
   "source": [
    "## Avaliação de performance e inferência bayesiana"
   ]
  },
  {
   "cell_type": "markdown",
   "metadata": {},
   "source": [
    "### Aqui utilizaremos o 10-fold cross validation para analizar a performance"
   ]
  },
  {
   "cell_type": "code",
   "execution_count": 17,
   "metadata": {},
   "outputs": [
    {
     "name": "stdout",
     "output_type": "stream",
     "text": [
      "Desempenho do modelo 1 em 10-fold cv\n",
      "[0.92982456 0.98245614 0.98245614 1.         0.96491228 0.96491228\n",
      " 0.98245614 0.96491228 0.94736842 0.91071429]\n",
      "Performance média do Modelo 1: 0.963001253132832\n",
      "Desvio padrão do Modelo 1: 0.02567945975605269\n",
      "-------------------\n",
      "Desempenho do modelo 2 em 10-fold cv\n",
      "[0.94736842 0.98245614 0.98245614 1.         0.94736842 0.94736842\n",
      " 0.98245614 0.98245614 0.96491228 0.92857143]\n",
      "Performance média do Modelo 2: 0.9665413533834586\n",
      "Desvio padrão do Modelo 2: 0.02163278965090902\n",
      "-------------------\n",
      "Desempenho do modelo 3 em 10-fold cv\n",
      "[0.8245614  0.73684211 0.84210526 0.80701754 0.71929825 0.68421053\n",
      " 0.87719298 0.73684211 0.66666667 0.80357143]\n",
      "Performance média do Modelo 3: 0.7698308270676691\n",
      "Desvio padrão do Modelo 3: 0.06706017881577805\n"
     ]
    }
   ],
   "source": [
    "cv = KFold(n_splits=10, shuffle=True, random_state = 42)\n",
    "\n",
    "model_1 = make_pipeline(StandardScaler(), KNeighborsClassifier(n_neighbors=5, metric = 'euclidean'))\n",
    "performance_1 = cross_val_score(model_1, X_array, y_array, cv=cv, scoring = \"accuracy\")\n",
    "print(\"Desempenho do modelo 1 em 10-fold cv\")\n",
    "print(performance_1)\n",
    "print(\"Performance média do Modelo 1: \"+str(np.mean(performance_1)))\n",
    "print(\"Desvio padrão do Modelo 1: \"+str(np.std(performance_1)))\n",
    "\n",
    "print(\"-------------------\")\n",
    "\n",
    "model_2 = make_pipeline(StandardScaler(), KNeighborsClassifier(n_neighbors=5, metric = 'manhattan'))\n",
    "performance_2 = cross_val_score(model_2, X_array, y_array, cv=cv, scoring = \"accuracy\")\n",
    "\n",
    "print(\"Desempenho do modelo 2 em 10-fold cv\")\n",
    "print(performance_2)\n",
    "print(\"Performance média do Modelo 2: \"+str(np.mean(performance_2)))\n",
    "print(\"Desvio padrão do Modelo 2: \"+str(np.std(performance_2)))\n",
    "\n",
    "print(\"-------------------\")\n",
    "\n",
    "model_3 = make_pipeline(StandardScaler(), KNeighborsClassifier(n_neighbors=5, metric = minha_distancia))\n",
    "performance_3 = cross_val_score(model_3, X_array, y_array, cv=cv, scoring = \"accuracy\")\n",
    "\n",
    "print(\"Desempenho do modelo 3 em 10-fold cv\")\n",
    "print(performance_3)\n",
    "print(\"Performance média do Modelo 3: \"+str(np.mean(performance_3)))\n",
    "print(\"Desvio padrão do Modelo 3: \"+str(np.std(performance_3)))"
   ]
  },
  {
   "cell_type": "markdown",
   "metadata": {},
   "source": [
    "Podemos observar que, em média, o desempenho do modelo com a distância de Manhattan ou City Block obteve o melhor desempenho. E nossa distância não foi tão legal :(\n",
    "Mas será que tenho evidências suficientes para dizer que esse é o melhor modelo?\n",
    "\n",
    "...\n",
    "\n",
    "...\n",
    "\n",
    "...\n",
    "\n",
    "A resposta é: Não!\n",
    "\n",
    "Agora vamos conhecer um pouco desta técnica chamada Teste Bayesiano Hierarquico para avaliarmos qual modelo obteve o melhor desempenho estatísticamente."
   ]
  },
  {
   "cell_type": "markdown",
   "metadata": {},
   "source": [
    "### Será que Bayes pode salvar nossa distância?"
   ]
  },
  {
   "cell_type": "markdown",
   "metadata": {},
   "source": [
    "## Uma introdução ao Teste Bayesiano Hierarquico para comparação de modelos"
   ]
  },
  {
   "cell_type": "markdown",
   "metadata": {},
   "source": [
    "Inferência estatística é toda uma área utilizada principalmente para mostrar estatísticamente se dois conjunto de objetos pertencem à mesma distribuição.\n",
    "\n",
    "De longe, na tutoria não iremos discutir os pormenores dessa área.\n",
    "\n",
    "Vamos trazer a intuição do teste e aplicá-lo ao nosso problema.\n",
    "\n",
    "Suponha que você tem um dataset D e nele você aplica dois modelos A e B. Agora suponha que a diferença média entre eles é de 0.25 na acurácia em favor de A. Agora temos um novo dataset que é muito similar a D. Podemos dizer que o melhor modelo para o novo dataset é o A?\n",
    "\n",
    "Não, esta é só uma medição específica em um dataset específico. Se repetirmos o experimento, poderíamos ter obtido várias diferenças - às vezes a diferença aumentará para 0.3, às vezes será tão baixo quanto 0.05 e às vezes B vencerá. Agora, imagine que extraímos 5000 amostras, como acima, e conte quantas vezes A ganhou. Se a diferença foi positiva (a favor de A) em 3000 casos, existe uma probabilidade de 60% de que A seja melhor.\n",
    "\n",
    "Exceto que na inferência bayesiana não precisamos extrair 5000 amostras, pois podemos modelar a distribuição analiticamente e calcular o número esperado de vitórias para A. Isso é mais preciso e também mais rápido.\n",
    "\n",
    "No começo, eu suponho que as duas distribuições são iguais, então é criada uma distribuição prévia. Depois é criada uma distribuição posterior com base em nossos resultados do cross validation. O modelo bayesiano hierarquico produz através de simulação um grande número (o padrão da baycomp é 50000) amostras a partir da distribuição posterior. Então é calculada a probabilidade a partir dessa distribuição posterior.\n",
    "\n",
    "**E por que isso é diferente de testar a hipótese nula neste tipo de experimento?**\n",
    "\n",
    "Se eu obtiver um p-value < 0.05, posso dizer que meu modelo A é melhor que o modelo B?\n",
    "\n",
    "Resposta: não precisamente, obter um p-value de 0.05 não significa que há 95% de chance de que A seja melhor que B. Os testes bayesianos nos dão uma estimativa disso: a probabilidade de A ser melhor que B.\n",
    "\n",
    "Para mais informações leia o artigo que propõe a biblioteca que utilizaremos: <https://repository.supsi.ch/7416/1/hierarchical.pdf>"
   ]
  },
  {
   "cell_type": "markdown",
   "metadata": {},
   "source": [
    "## Agora vamos à prática"
   ]
  },
  {
   "cell_type": "markdown",
   "metadata": {},
   "source": [
    "Vamos avaliar qual a probabilidade de um modelo ser melhor que o outro."
   ]
  },
  {
   "cell_type": "code",
   "execution_count": 18,
   "metadata": {},
   "outputs": [
    {
     "name": "stdout",
     "output_type": "stream",
     "text": [
      "(0.2961032384763962, 0.7038967615236038)\n",
      "(0.9999223863066333, 7.761369336667379e-05)\n",
      "(0.9998662383806384, 0.00013376161936162756)\n"
     ]
    }
   ],
   "source": [
    "import baycomp\n",
    "\n",
    "\n",
    "print(baycomp.two_on_single(performance_1, performance_2))\n",
    "print(baycomp.two_on_single(performance_2, performance_3))\n",
    "print(baycomp.two_on_single(performance_1, performance_3))"
   ]
  },
  {
   "cell_type": "markdown",
   "metadata": {},
   "source": [
    "Segundo estes valores, existe uma evidência estatística de que o modelo 2 que usa a distância de Manhattan é melhor que os demais. E realmente nossa distância é a pior :("
   ]
  },
  {
   "cell_type": "markdown",
   "metadata": {},
   "source": [
    "### Região de equivalência\n",
    "\n",
    "Uma outra vantagem do teste bayesiano hierarquico é que podemos definir uma região de equivalência, aqui chamada de \"rope\", entre os modelos. No caso vamos utilizar 0,5. Quando utilizamos esta região de equivalência estamos perguntando: A diferença entre o modelo A e o modelo B é de 0.5? Se a acurácia dos modelos diferir em menos de 0.5 os modelos são equivalentes.     "
   ]
  },
  {
   "cell_type": "code",
   "execution_count": 19,
   "metadata": {},
   "outputs": [
    {
     "name": "stdout",
     "output_type": "stream",
     "text": [
      "(2.821457851664767e-08, 0.9999999194944141, 5.2291007301974446e-08)\n",
      "(0.9931884498279135, 0.00680851284075723, 3.0373313292253457e-06)\n",
      "(0.9893992945393685, 0.010595410432915675, 5.29502771584589e-06)\n"
     ]
    }
   ],
   "source": [
    "print(baycomp.two_on_single(performance_1, performance_2, rope = 0.1))\n",
    "print(baycomp.two_on_single(performance_2, performance_3, rope = 0.1))\n",
    "print(baycomp.two_on_single(performance_1, performance_3, rope = 0.1))"
   ]
  },
  {
   "cell_type": "code",
   "execution_count": 20,
   "metadata": {},
   "outputs": [
    {
     "name": "stdout",
     "output_type": "stream",
     "text": [
      "(0.9931884498279135, 0.00680851284075723, 3.0373313292253457e-06)\n"
     ]
    },
    {
     "name": "stderr",
     "output_type": "stream",
     "text": [
      "/home/moises/anaconda3/lib/python3.7/site-packages/ipykernel_launcher.py:4: UserWarning: Matplotlib is currently using module://ipykernel.pylab.backend_inline, which is a non-GUI backend, so cannot show the figure.\n",
      "  after removing the cwd from sys.path.\n"
     ]
    },
    {
     "data": {
      "image/png": "[encoded data removed]",
      "text/plain": [
       "<Figure size 432x288 with 1 Axes>"
      ]
     },
     "metadata": {
      "needs_background": "light"
     },
     "output_type": "display_data"
    }
   ],
   "source": [
    "names = (\"manhattan\", \"minha\")\n",
    "probs, fig = baycomp.two_on_single(performance_2, performance_3, rope=0.1, plot=True, names=names)\n",
    "print(probs)\n",
    "fig.show()"
   ]
  },
  {
   "cell_type": "markdown",
   "metadata": {},
   "source": [
    "### Mas nem só de classificação vive o cientista de dados"
   ]
  },
  {
   "cell_type": "markdown",
   "metadata": {},
   "source": [
    "Um fato interessante é que, além das medidas de classificação, existem várias medidas avaliação de desempenho em regressão. Vamos citar aqui as principais da qual a maioria das outras são derivadas:\n",
    "\n",
    "**Erro Absoluto Médio, em inglês, Mean absolute error (MAE)**:\n",
    "\n",
    "\\begin{equation}\n",
    "    MAE = \\frac{\\sum_{i=1}^{n}|y_{i}-\\hat{y}_{i}|}{n}\n",
    "\\end{equation}\n",
    "\n",
    "**Erro Quadrático Médio, em inglês, Mean Squared error (MSE)**:\n",
    "\n",
    "\\begin{equation}\n",
    "    MSE = \\frac{\\sum_{i=1}^{n}(y_{i}-\\hat{y}_{i})^{2}}{n}\n",
    "\\end{equation}"
   ]
  },
  {
   "cell_type": "code",
   "execution_count": 18,
   "metadata": {},
   "outputs": [
    {
     "data": {
      "text/html": [
       "<div>\n",
       "<style scoped>\n",
       "    .dataframe tbody tr th:only-of-type {\n",
       "        vertical-align: middle;\n",
       "    }\n",
       "\n",
       "    .dataframe tbody tr th {\n",
       "        vertical-align: top;\n",
       "    }\n",
       "\n",
       "    .dataframe thead th {\n",
       "        text-align: right;\n",
       "    }\n",
       "</style>\n",
       "<table border=\"1\" class=\"dataframe\">\n",
       "  <thead>\n",
       "    <tr style=\"text-align: right;\">\n",
       "      <th></th>\n",
       "      <th>fixed acidity</th>\n",
       "      <th>volatile acidity</th>\n",
       "      <th>citric acid</th>\n",
       "      <th>residual sugar</th>\n",
       "      <th>chlorides</th>\n",
       "      <th>free sulfur dioxide</th>\n",
       "      <th>total sulfur dioxide</th>\n",
       "      <th>density</th>\n",
       "      <th>pH</th>\n",
       "      <th>sulphates</th>\n",
       "      <th>alcohol</th>\n",
       "      <th>quality</th>\n",
       "    </tr>\n",
       "  </thead>\n",
       "  <tbody>\n",
       "    <tr>\n",
       "      <th>0</th>\n",
       "      <td>7.4</td>\n",
       "      <td>0.70</td>\n",
       "      <td>0.00</td>\n",
       "      <td>1.9</td>\n",
       "      <td>0.076</td>\n",
       "      <td>11.0</td>\n",
       "      <td>34.0</td>\n",
       "      <td>0.9978</td>\n",
       "      <td>3.51</td>\n",
       "      <td>0.56</td>\n",
       "      <td>9.4</td>\n",
       "      <td>5</td>\n",
       "    </tr>\n",
       "    <tr>\n",
       "      <th>1</th>\n",
       "      <td>7.8</td>\n",
       "      <td>0.88</td>\n",
       "      <td>0.00</td>\n",
       "      <td>2.6</td>\n",
       "      <td>0.098</td>\n",
       "      <td>25.0</td>\n",
       "      <td>67.0</td>\n",
       "      <td>0.9968</td>\n",
       "      <td>3.20</td>\n",
       "      <td>0.68</td>\n",
       "      <td>9.8</td>\n",
       "      <td>5</td>\n",
       "    </tr>\n",
       "    <tr>\n",
       "      <th>2</th>\n",
       "      <td>7.8</td>\n",
       "      <td>0.76</td>\n",
       "      <td>0.04</td>\n",
       "      <td>2.3</td>\n",
       "      <td>0.092</td>\n",
       "      <td>15.0</td>\n",
       "      <td>54.0</td>\n",
       "      <td>0.9970</td>\n",
       "      <td>3.26</td>\n",
       "      <td>0.65</td>\n",
       "      <td>9.8</td>\n",
       "      <td>5</td>\n",
       "    </tr>\n",
       "    <tr>\n",
       "      <th>3</th>\n",
       "      <td>11.2</td>\n",
       "      <td>0.28</td>\n",
       "      <td>0.56</td>\n",
       "      <td>1.9</td>\n",
       "      <td>0.075</td>\n",
       "      <td>17.0</td>\n",
       "      <td>60.0</td>\n",
       "      <td>0.9980</td>\n",
       "      <td>3.16</td>\n",
       "      <td>0.58</td>\n",
       "      <td>9.8</td>\n",
       "      <td>6</td>\n",
       "    </tr>\n",
       "    <tr>\n",
       "      <th>4</th>\n",
       "      <td>7.4</td>\n",
       "      <td>0.70</td>\n",
       "      <td>0.00</td>\n",
       "      <td>1.9</td>\n",
       "      <td>0.076</td>\n",
       "      <td>11.0</td>\n",
       "      <td>34.0</td>\n",
       "      <td>0.9978</td>\n",
       "      <td>3.51</td>\n",
       "      <td>0.56</td>\n",
       "      <td>9.4</td>\n",
       "      <td>5</td>\n",
       "    </tr>\n",
       "  </tbody>\n",
       "</table>\n",
       "</div>"
      ],
      "text/plain": [
       "   fixed acidity  volatile acidity  citric acid  residual sugar  chlorides  \\\n",
       "0            7.4              0.70         0.00             1.9      0.076   \n",
       "1            7.8              0.88         0.00             2.6      0.098   \n",
       "2            7.8              0.76         0.04             2.3      0.092   \n",
       "3           11.2              0.28         0.56             1.9      0.075   \n",
       "4            7.4              0.70         0.00             1.9      0.076   \n",
       "\n",
       "   free sulfur dioxide  total sulfur dioxide  density    pH  sulphates  \\\n",
       "0                 11.0                  34.0   0.9978  3.51       0.56   \n",
       "1                 25.0                  67.0   0.9968  3.20       0.68   \n",
       "2                 15.0                  54.0   0.9970  3.26       0.65   \n",
       "3                 17.0                  60.0   0.9980  3.16       0.58   \n",
       "4                 11.0                  34.0   0.9978  3.51       0.56   \n",
       "\n",
       "   alcohol  quality  \n",
       "0      9.4        5  \n",
       "1      9.8        5  \n",
       "2      9.8        5  \n",
       "3      9.8        6  \n",
       "4      9.4        5  "
      ]
     },
     "execution_count": 18,
     "metadata": {},
     "output_type": "execute_result"
    }
   ],
   "source": [
    "redWine = pd.read_csv(\"winequality-red.csv\", sep = \";\")\n",
    "redWine.head()"
   ]
  },
  {
   "cell_type": "code",
   "execution_count": 19,
   "metadata": {},
   "outputs": [],
   "source": [
    "from sklearn.neighbors import KNeighborsRegressor # importa o KNN para regressão\n",
    "\n",
    "X_wine =redWine.drop([\"quality\"], axis = 1)\n",
    "y_wine = redWine[\"quality\"]"
   ]
  },
  {
   "cell_type": "code",
   "execution_count": 21,
   "metadata": {},
   "outputs": [],
   "source": [
    "import numpy as np\n",
    "\n",
    "def minha_distancia(u, v):\n",
    "    return np.min(np.absolute(u-v))"
   ]
  },
  {
   "cell_type": "code",
   "execution_count": 22,
   "metadata": {},
   "outputs": [
    {
     "name": "stdout",
     "output_type": "stream",
     "text": [
      "Desempenho do modelo 3 em 10-fold cv\n",
      "[0.47625    0.505      0.5025     0.51875    0.52625    0.51375\n",
      " 0.5375     0.5325     0.46375    0.47421384]\n",
      "Performance média do Modelo 3: 0.5050463836477987\n",
      "Desvio padrão do Modelo 3: 0.024519031077871446\n",
      "-------------------\n",
      "Desempenho do modelo 4 em 10-fold cv\n",
      "[0.4975     0.50625    0.53625    0.49625    0.495      0.52125\n",
      " 0.45875    0.505      0.49125    0.49559748]\n",
      "Performance média do Modelo 4: 0.500309748427673\n",
      "Desvio padrão do Modelo 4: 0.01916128310893921\n",
      "-------------------\n",
      "Desempenho do modelo 5 em 10-fold cv\n",
      "[0.79125    0.85625    0.735      0.6875     0.79875    0.6725\n",
      " 0.8725     0.77375    0.6825     0.79245283]\n",
      "Performance média do Modelo 5: 0.766245283018868\n",
      "Desvio padrão do Modelo 5: 0.06692861913068103\n"
     ]
    }
   ],
   "source": [
    "from sklearn.pipeline import make_pipeline\n",
    "from sklearn.model_selection import cross_val_score\n",
    "\n",
    "cv = KFold(n_splits=10, shuffle=True)\n",
    "\n",
    "model_3 = make_pipeline(StandardScaler(), KNeighborsRegressor(n_neighbors=5, metric = 'euclidean'))\n",
    "performance_3 = cross_val_score(model_3, X_wine, y_wine, cv=cv, scoring = \"neg_mean_absolute_error\")\n",
    "print(\"Desempenho do modelo 3 em 10-fold cv\")\n",
    "print(performance_3*(-1))\n",
    "print(\"Performance média do Modelo 3: \"+str(np.mean(performance_3*(-1))))\n",
    "print(\"Desvio padrão do Modelo 3: \"+str(np.std(performance_3*(-1))))\n",
    "\n",
    "print(\"-------------------\")\n",
    "\n",
    "model_4 = make_pipeline(StandardScaler(), KNeighborsRegressor(n_neighbors=5, metric = 'manhattan'))\n",
    "performance_4 = cross_val_score(model_4, X_wine, y_wine, cv=cv, scoring = \"neg_mean_absolute_error\")\n",
    "print(\"Desempenho do modelo 4 em 10-fold cv\")\n",
    "print(performance_4*(-1))\n",
    "print(\"Performance média do Modelo 4: \"+str(np.mean(performance_4*(-1))))\n",
    "print(\"Desvio padrão do Modelo 4: \"+str(np.std(performance_4*(-1))))\n",
    "\n",
    "print(\"-------------------\")\n",
    "\n",
    "model_5 = make_pipeline(StandardScaler(), KNeighborsRegressor(n_neighbors=5, metric = minha_distancia))\n",
    "performance_5 = cross_val_score(model_5, X_wine, y_wine, cv=cv, scoring = \"neg_mean_absolute_error\")\n",
    "print(\"Desempenho do modelo 5 em 10-fold cv\")\n",
    "print(performance_5*(-1))\n",
    "print(\"Performance média do Modelo 5: \"+str(np.mean(performance_5*(-1))))\n",
    "print(\"Desvio padrão do Modelo 5: \"+str(np.std(performance_5*(-1))))"
   ]
  },
  {
   "cell_type": "code",
   "execution_count": 23,
   "metadata": {},
   "outputs": [
    {
     "name": "stdout",
     "output_type": "stream",
     "text": [
      "(0.43763058147779677, 0.5623694185222032)\n",
      "(0.999999999999996, 3.9968028886505635e-15)\n",
      "(0.9999999999999997, 3.3306690738754696e-16)\n"
     ]
    }
   ],
   "source": [
    "print(baycomp.two_on_single(performance_1, performance_2))\n",
    "print(baycomp.two_on_single(performance_2, performance_3))\n",
    "print(baycomp.two_on_single(performance_1, performance_3))"
   ]
  },
  {
   "cell_type": "code",
   "execution_count": 24,
   "metadata": {},
   "outputs": [
    {
     "name": "stdout",
     "output_type": "stream",
     "text": [
      "(0.999999999999996, 3.9968028886505635e-15)\n"
     ]
    },
    {
     "name": "stderr",
     "output_type": "stream",
     "text": [
      "/home/moises/anaconda3/lib/python3.7/site-packages/ipykernel_launcher.py:4: UserWarning: Matplotlib is currently using module://ipykernel.pylab.backend_inline, which is a non-GUI backend, so cannot show the figure.\n",
      "  after removing the cwd from sys.path.\n"
     ]
    },
    {
     "data": {
      "image/png": "[encoded data removed]",
      "text/plain": [
       "<Figure size 432x288 with 1 Axes>"
      ]
     },
     "metadata": {
      "needs_background": "light"
     },
     "output_type": "display_data"
    }
   ],
   "source": [
    "names = (\"manhattan\", \"minha\")\n",
    "probs, fig = baycomp.two_on_single(performance_2, performance_3, plot=True, names=names)\n",
    "print(probs)\n",
    "fig.show()"
   ]
  },
  {
   "cell_type": "markdown",
   "metadata": {},
   "source": [
    "![Thatsall](https://media.giphy.com/media/JLtQeoVXD5yKI/giphy.gif)"
   ]
  }
 ],
 "metadata": {
  "kernelspec": {
   "display_name": "Python 3",
   "language": "python",
   "name": "python3"
  },
  "language_info": {
   "codemirror_mode": {
    "name": "ipython",
    "version": 3
   },
   "file_extension": ".py",
   "mimetype": "text/x-python",
   "name": "python",
   "nbconvert_exporter": "python",
   "pygments_lexer": "ipython3",
   "version": "3.7.6"
  }
 },
 "nbformat": 4,
 "nbformat_minor": 4
}
