{
 "cells": [
  {
   "cell_type": "markdown",
   "metadata": {},
   "source": [
    "# 1. Algoritmos baseados em distância"
   ]
  },
  {
   "cell_type": "markdown",
   "metadata": {},
   "source": [
    "Intuição:\n",
    "\n",
    "<img src=\"img/space2.png\" width=\"400\">\n",
    "<center>Problema binário com dois atributos. Fonte: slide da aula.</center>"
   ]
  },
  {
   "cell_type": "markdown",
   "metadata": {},
   "source": [
    "<img src=\"img/knn-full.png\" width=\"400\">\n",
    "<center>Problema binário com dois atributos. Fonte: slide da aula.</center>"
   ]
  },
  {
   "cell_type": "markdown",
   "metadata": {},
   "source": [
    "Agora vamos gerar um dataset com ``make_classification``"
   ]
  },
  {
   "cell_type": "code",
   "execution_count": 1,
   "metadata": {},
   "outputs": [
    {
     "data": {
      "image/png": "[encoded data removed]",
      "text/plain": [
       "<Figure size 432x288 with 1 Axes>"
      ]
     },
     "metadata": {
      "needs_background": "light"
     },
     "output_type": "display_data"
    }
   ],
   "source": [
    "import numpy as np\n",
    "import matplotlib.pyplot as plt\n",
    "import pandas as pd\n",
    "from sklearn.datasets import make_classification\n",
    "\n",
    "\n",
    "def plot_2D_task(X, y):\n",
    "    # scatter plot, dots colored by class value\n",
    "    df = pd.DataFrame(dict(x1=X[:,0], x2=X[:,1], y=y))\n",
    "    colors = {0:'red', 1:'green'}\n",
    "    markers = {0: 'o', 1: '^'}\n",
    "    fig, ax = plt.subplots()\n",
    "    grouped = df.groupby('y')\n",
    "    for key, group in grouped:\n",
    "        group.plot(ax=ax, kind='scatter', x='x1', y='x2', label=key, color=colors[key], marker=markers[key])\n",
    "    plt.show()\n",
    "\n",
    "# generate 2d classification dataset\n",
    "X, y = make_classification(\n",
    "    n_samples=300,\n",
    "    n_features=2,\n",
    "    n_informative=2,\n",
    "    n_redundant=0,\n",
    "    n_classes=2,\n",
    "    n_clusters_per_class=2,\n",
    "    weights = (0.5, 0.5),\n",
    "    random_state=123\n",
    ")\n",
    "\n",
    "plot_2D_task(X, y)"
   ]
  },
  {
   "cell_type": "markdown",
   "metadata": {},
   "source": [
    "## 1.1. Aplicações em aprendizado de máquina\n",
    "Algoritmos baseado em distâncias podem ser usados para diversas tarefas de aprendizado de máquina\n",
    "\n",
    "* Classificação\n",
    "* Regressão\n",
    "* Agrupamento\n",
    "* Imputação de valores faltantes\n",
    "* Eliminação de Ruído"
   ]
  },
  {
   "cell_type": "markdown",
   "metadata": {},
   "source": [
    "## 1.2. Tipos de Distâcias\n",
    "Existem diversos tipos de distâncias que podem ser utilizadas.\n",
    "É importante entender se a distância faz sentido para o seu problema.\n",
    "\n",
    "Umas das distâncias mais conhecidas são as distâncias de Minkowski.\n",
    "* Dado espaço vetorial com norma podemos definir a distância de **Minkowski** como: \n",
    "\\begin{equation*}\n",
    "dist( \\vec{u}, \\vec{v} ) = \\Big( \\sum_{i=1}^m \\left | u_i - v_i \\right |^p \\Big)^{(\\frac{1}{p})}\n",
    "\\end{equation*}\n",
    "\n",
    "\n",
    "* Para $p = 1$ temos a distância de **Manhattan**: \n",
    "\\begin{equation*}\n",
    "dist(\\vec{u}, \\vec{v}) = \\sum_{i=1}^m \\left | u_i - v_i \\right | \n",
    "\\end{equation*}\n",
    "\n",
    "* Para $p = 2$ temos a distância **Euclidiana**: \n",
    "\\begin{equation*}\n",
    "dist(\\vec{u}, \\vec{v}) = \\Big( \\sum_{i=1}^m \\left | u_i - v_i \\right |^2 \\Big)^{(\\frac{1}{2})} = \\sqrt{ \\sum_{i=1}^m (u_i - v_i)^2}\n",
    "\\end{equation*}\n",
    "\n",
    "* Para $r = \\inf$ temos a distância de **Chebyshev** ou norma máxima:\n",
    "\\begin{equation*}\n",
    "dist( \\vec{u}, \\vec{v} ) = \\max_{i = 1,~...~, m}(| u_i - v_i |)\n",
    "\\end{equation*}\n",
    "\n",
    "* Cosseno\n",
    "\\begin{equation*}\n",
    "dist(\\vec{u}, \\vec{v}) = cos(\\theta) = \\frac{ \\vec{u} \\cdot \\vec{v} }{\\| \\vec{u} \\| \\| \\vec{v} \\|} = \\frac{ \\sum_{i=1}^{m} u_i v_i }{ \\sqrt{\\sum_{i=1}^{m} u_i^2} \\sqrt{\\sum_{i=1}^{m} v_i^2} }\n",
    "\\end{equation*}\n",
    "\n",
    "\n",
    "Observações:\n",
    "* $u$ e $v$ podem ser vistos como exemplos de um conjunto de dados\n",
    "* $m$ o número de atributos preditivos\n"
   ]
  },
  {
   "cell_type": "markdown",
   "metadata": {},
   "source": [
    "## 1.3. $k$NN para classificação de dados"
   ]
  },
  {
   "cell_type": "markdown",
   "metadata": {},
   "source": [
    "### 1.3.1. Algoritmo $k$NN clássico"
   ]
  },
  {
   "cell_type": "code",
   "execution_count": 2,
   "metadata": {},
   "outputs": [
    {
     "name": "stdout",
     "output_type": "stream",
     "text": [
      "Algoritmos kNN iniciado.\n",
      "  * k      =  2\n",
      "  * metric =  euclidean\n",
      "  * p      =  2 \n",
      "\n",
      "Estou com preguiça, não vou gerar modelo.\n",
      "Vou salvar os dados apenas!\n",
      "\n",
      "Vou pegar os dados que guardei para fazer a predição!\n",
      "\n",
      "Predizendo linha [ 0 ]\n",
      "Os k vizinhos são as linhas:  [1 0]\n",
      "As distancias são:  [1.41 2.83]\n",
      "Classes =  [0]\n",
      "Counts =  [2] \n",
      "\n",
      "Predizendo linha [ 1 ]\n",
      "Os k vizinhos são as linhas:  [2 4]\n",
      "As distancias são:  [1.41 4.24]\n",
      "Classes =  [1 2]\n",
      "Counts =  [1 1] \n",
      "\n",
      "Houve um empate!\n",
      "\n",
      "--> classe predita:  [0 1] \n",
      "\n",
      "Algoritmos kNN iniciado.\n",
      "  * k      =  3\n",
      "  * metric =  euclidean\n",
      "  * p      =  2 \n",
      "\n",
      "Estou com preguiça, não vou gerar modelo.\n",
      "Vou salvar os dados apenas!\n",
      "\n",
      "Vou pegar os dados que guardei para fazer a predição!\n",
      "\n",
      "Predizendo linha [ 0 ]\n",
      "Os k vizinhos são as linhas:  [1 0 3]\n",
      "As distancias são:  [ 1.41  2.83 12.73]\n",
      "Classes =  [0 1]\n",
      "Counts =  [2 1] \n",
      "\n",
      "Predizendo linha [ 1 ]\n",
      "Os k vizinhos são as linhas:  [2 4 3]\n",
      "As distancias são:  [1.41 4.24 5.66]\n",
      "Classes =  [1 2]\n",
      "Counts =  [2 1] \n",
      "\n",
      "--> classe predita:  [0 1] \n",
      "\n",
      "Algoritmos kNN iniciado.\n",
      "  * k      =  3\n",
      "  * metric =  minkowski\n",
      "  * p      =  2 \n",
      "\n",
      "Estou com preguiça, não vou gerar modelo.\n",
      "Vou salvar os dados apenas!\n",
      "\n",
      "Vou pegar os dados que guardei para fazer a predição!\n",
      "\n",
      "Predizendo linha [ 0 ]\n",
      "Os k vizinhos são as linhas:  [1 0 3]\n",
      "As distancias são:  [ 1.41  2.83 12.73]\n",
      "Classes =  [0 1]\n",
      "Counts =  [2 1] \n",
      "\n",
      "Predizendo linha [ 1 ]\n",
      "Os k vizinhos são as linhas:  [2 4 3]\n",
      "As distancias são:  [1.41 4.24 5.66]\n",
      "Classes =  [1 2]\n",
      "Counts =  [2 1] \n",
      "\n",
      "--> classe predita:  [0 1] \n",
      "\n",
      "Algoritmos kNN iniciado.\n",
      "  * k      =  3\n",
      "  * metric =  manhattan\n",
      "  * p      =  2 \n",
      "\n",
      "Estou com preguiça, não vou gerar modelo.\n",
      "Vou salvar os dados apenas!\n",
      "\n",
      "Vou pegar os dados que guardei para fazer a predição!\n",
      "\n",
      "Predizendo linha [ 0 ]\n",
      "Os k vizinhos são as linhas:  [1 0 3]\n",
      "As distancias são:  [ 2.  4. 18.]\n",
      "Classes =  [0 1]\n",
      "Counts =  [2 1] \n",
      "\n",
      "Predizendo linha [ 1 ]\n",
      "Os k vizinhos são as linhas:  [2 4 3]\n",
      "As distancias são:  [2. 6. 8.]\n",
      "Classes =  [1 2]\n",
      "Counts =  [2 1] \n",
      "\n",
      "--> classe predita:  [0 1] \n",
      "\n",
      "Algoritmos kNN iniciado.\n",
      "  * k      =  3\n",
      "  * metric =  minkowski\n",
      "  * p      =  1 \n",
      "\n",
      "Estou com preguiça, não vou gerar modelo.\n",
      "Vou salvar os dados apenas!\n",
      "\n",
      "Vou pegar os dados que guardei para fazer a predição!\n",
      "\n",
      "Predizendo linha [ 0 ]\n",
      "Os k vizinhos são as linhas:  [1 0 3]\n",
      "As distancias são:  [ 2.  4. 18.]\n",
      "Classes =  [0 1]\n",
      "Counts =  [2 1] \n",
      "\n",
      "Predizendo linha [ 1 ]\n",
      "Os k vizinhos são as linhas:  [2 4 3]\n",
      "As distancias são:  [2. 6. 8.]\n",
      "Classes =  [1 2]\n",
      "Counts =  [2 1] \n",
      "\n",
      "--> classe predita:  [0 1] \n",
      "\n",
      "Algoritmos kNN iniciado.\n",
      "  * k      =  3\n",
      "  * metric =  chebyshev\n",
      "  * p      =  2 \n",
      "\n",
      "Estou com preguiça, não vou gerar modelo.\n",
      "Vou salvar os dados apenas!\n",
      "\n",
      "Vou pegar os dados que guardei para fazer a predição!\n",
      "\n",
      "Predizendo linha [ 0 ]\n",
      "Os k vizinhos são as linhas:  [1 0 3]\n",
      "As distancias são:  [1. 2. 9.]\n",
      "Classes =  [0 1]\n",
      "Counts =  [2 1] \n",
      "\n",
      "Predizendo linha [ 1 ]\n",
      "Os k vizinhos são as linhas:  [2 4 3]\n",
      "As distancias são:  [1. 3. 4.]\n",
      "Classes =  [1 2]\n",
      "Counts =  [2 1] \n",
      "\n",
      "--> classe predita:  [0 1] \n",
      "\n",
      "Algoritmos kNN iniciado.\n",
      "  * k      =  5\n",
      "  * metric =  chebyshev\n",
      "  * p      =  2 \n",
      "\n",
      "Estou com preguiça, não vou gerar modelo.\n",
      "Vou salvar os dados apenas!\n",
      "\n",
      "Vou pegar os dados que guardei para fazer a predição!\n",
      "\n",
      "Vou predizer probabilidades!\n",
      "\n",
      "Predizendo linha [ 0 ]\n",
      "Os k vizinhos são as linhas:  [1 0 3 4 2]\n",
      "As distancias são:  [ 1.  2.  9. 10. 12.]\n",
      "Classes =  [0 1 2]\n",
      "Counts =  [2 2 1] \n",
      "\n",
      "Predizendo linha [ 1 ]\n",
      "Os k vizinhos são as linhas:  [2 4 3 1 0]\n",
      "As distancias são:  [ 1.  3.  4. 14. 15.]\n",
      "Classes =  [0 1 2]\n",
      "Counts =  [2 2 1] \n",
      "\n",
      "--> classe predita:  [[0.4 0.4 0.2]\n",
      " [0.4 0.4 0.2]] \n",
      "\n"
     ]
    }
   ],
   "source": [
    "import numpy as np\n",
    "from scipy import stats\n",
    "\n",
    "\n",
    "class KNNClassifier:\n",
    "    def __init__(self, k=3, metric=\"euclidean\", p=2, verbose=False, random_state=0):\n",
    "        # armazenando valores\n",
    "        self.k = k\n",
    "        self.metric = metric\n",
    "        self.p = p\n",
    "        self.verbose = verbose\n",
    "        \n",
    "        np.random.seed(random_state)\n",
    "        \n",
    "        # selecionando qual distancia usar\n",
    "        self.metric = None\n",
    "        if metric == \"euclidean\":\n",
    "            self.metric_function = self.euclidean\n",
    "        elif metric == \"manhattan\":\n",
    "            self.metric_function = self.manhattan\n",
    "        elif metric == \"chebyshev\":\n",
    "            self.metric_function = self.chebyshev\n",
    "        elif metric == \"minkowski\":\n",
    "            self.metric_function = self.minkowski\n",
    "        \n",
    "        if verbose == True:\n",
    "            print(\"Algoritmos kNN iniciado.\")\n",
    "            print(\"  * k      = \", k)\n",
    "            print(\"  * metric = \", metric)\n",
    "            print(\"  * p      = \", p, \"\\n\")\n",
    "        \n",
    "    def euclidean(self, u, v):\n",
    "        summ = 0\n",
    "        m = u.shape[0]\n",
    "        \n",
    "        for i in range(m):\n",
    "            summ = summ + (u[i]-v[i])**2\n",
    "        distance = np.sqrt(summ)\n",
    "        \n",
    "        return distance\n",
    "    \n",
    "    def manhattan(self, u, v):\n",
    "        summ = 0\n",
    "        m = u.shape[0]\n",
    "        \n",
    "        for i in range(m):\n",
    "            summ = summ + np.absolute(u[i]-v[i])\n",
    "        distance = summ\n",
    "        \n",
    "        return distance\n",
    "         \n",
    "    def chebyshev(self, u, v):\n",
    "        return np.max(np.absolute(u-v))\n",
    "    \n",
    "    def minkowski(self, u, v):\n",
    "        p = self.p\n",
    "        \n",
    "        return np.power(np.sum(np.power(np.absolute(u-v), p)), 1.0/p)\n",
    "    \n",
    "    def get_k_neighbors(self, X_train, query):\n",
    "        verbose = self.verbose\n",
    "        k = self.k # k vizinhos\n",
    "        n = X_train.shape[0] # numero de linhas\n",
    "        \n",
    "        # criamos vetor com n zeros\n",
    "        # vamos salvar todas as distancias aqui\n",
    "        distances = np.zeros(n) \n",
    "        \n",
    "        for i in range(n): # para cada linha em X\n",
    "            result = self.metric_function(X_train[i], query) # calcula a distancia para o ponto de consulta\n",
    "            distances[i] = result\n",
    "        \n",
    "        # Essa função ordena as distâncias (crescente) e retorna as linhas\n",
    "        row_ids = np.argsort(distances)\n",
    "        \n",
    "        # pegar apenas os k vizinhos\n",
    "        k_neighbors_ids = row_ids[0:k]\n",
    "        \n",
    "        if verbose == True:\n",
    "            print(\"Os k vizinhos são as linhas: \", k_neighbors_ids)\n",
    "            print(\"As distancias são: \", np.round(distances[k_neighbors_ids], 2))\n",
    "        \n",
    "        return k_neighbors_ids\n",
    "        \n",
    "    def fit(self, X_train, y_train):\n",
    "        verbose = self.verbose\n",
    "        \n",
    "        if verbose == True:\n",
    "            print(\"Estou com preguiça, não vou gerar modelo.\")\n",
    "            print(\"Vou salvar os dados apenas!\\n\")\n",
    "\n",
    "        self.X_train = X_train\n",
    "        self.y_train = y_train\n",
    "        \n",
    "        return self\n",
    "        \n",
    "    \n",
    "    def predict_proba(self, X_test):\n",
    "        verbose = self.verbose\n",
    "        if verbose == True:\n",
    "            print(\"Vou pegar os dados que guardei para fazer a predição!\\n\")\n",
    "            print(\"Vou predizer probabilidades!\\n\")\n",
    "        \n",
    "        n = X_test.shape[0] # quantidade de exemplos para predição\n",
    "        X_train = self.X_train # exemplos do conjunto de treino\n",
    "        y_train = self.y_train # classes do conjunto de treino\n",
    "        cls_train = np.unique(y_train) # classes do treino\n",
    "        n_cls_train = cls_train.shape[0] # numero de classes do treino\n",
    "        y_predicted = np.zeros((n, n_cls_train), dtype=\"float\") # matriz para colocar resultado\n",
    "\n",
    "        \n",
    "        for i in range(n):\n",
    "            \n",
    "            if verbose == True:\n",
    "                print(\"Predizendo linha [\", i, \"]\")\n",
    "\n",
    "            # pega os ids das linhas dos k vizinhos mais proximos\n",
    "            k_neighbors_ids = self.get_k_neighbors(X_train, X_test[i])\n",
    "\n",
    "            # pega a classe dos k viznhos\n",
    "            k_neighbors_classes = y_train[k_neighbors_ids]\n",
    "\n",
    "            # verificar se houve um empate\n",
    "            cls_test, cls_test_counts = np.unique(k_neighbors_classes, return_counts=True)\n",
    "                        \n",
    "            if verbose == True:\n",
    "                print(\"Classes = \", cls_test)\n",
    "                print(\"Counts = \", cls_test_counts, \"\\n\")\n",
    "            \n",
    "            probs = cls_test_counts/np.sum(cls_test_counts)\n",
    "            \n",
    "            for j in range(cls_test.shape[0]):\n",
    "                index = np.where(cls_test[j] == cls_train)[0]\n",
    "                y_predicted[i][index] = probs[j]\n",
    "\n",
    "        return y_predicted\n",
    "    \n",
    "    def predict(self, X_test):\n",
    "        verbose = self.verbose\n",
    "        if verbose == True:\n",
    "            print(\"Vou pegar os dados que guardei para fazer a predição!\\n\")\n",
    "\n",
    "        n = X_test.shape[0] # quantidade de exemplos para predição\n",
    "        X_train = self.X_train # exemplos do conjunto de treino\n",
    "        y_train = self.y_train # classes do conjunto de treino\n",
    "        y_predicted = np.zeros(n, dtype=\"int\") # vetor para colocar resultado\n",
    "        \n",
    "        for i in range(n):\n",
    "            \n",
    "            if verbose == True:\n",
    "                print(\"Predizendo linha [\", i, \"]\")\n",
    "\n",
    "\n",
    "            # pega os ids das linhas dos k vizinhos mais proximos\n",
    "            k_neighbors_ids = self.get_k_neighbors(X_train, X_test[i])\n",
    "\n",
    "            # pega a classe dos k viznhos\n",
    "            k_neighbors_classes = y_train[k_neighbors_ids]\n",
    "\n",
    "            # verificar se houve um empate\n",
    "            classes, counts = np.unique(k_neighbors_classes, return_counts=True)\n",
    "            is_tie = np.all(counts == counts[0]) and classes.shape[0] > 1\n",
    "            \n",
    "            if verbose == True:\n",
    "                print(\"Classes = \", classes)\n",
    "                print(\"Counts = \", counts, \"\\n\")\n",
    "\n",
    "            if is_tie:  # se sim, chutar uma das classes\n",
    "                if verbose == True:\n",
    "                    print(\"Houve um empate!\\n\")\n",
    "                new_class = np.random.choice(classes).reshape(1,) \n",
    "\n",
    "            else: # se nao, calcula a moda\n",
    "                new_class = stats.mode(k_neighbors_classes)[0]\n",
    "                \n",
    "            y_predicted[i] = new_class\n",
    "\n",
    "        return y_predicted\n",
    "        \n",
    "    \n",
    "X_train = np.array([[1,1], [2,2], [15,15], [12, 12], [13, 13]])\n",
    "y_train = np.array([0, 0, 1, 1, 2])\n",
    "X_test = np.array([[3, 3], [16,16]]) \n",
    "\n",
    "clsf = KNNClassifier(k=2, metric=\"euclidean\", verbose=1)\n",
    "clsf.fit(X_train, y_train)\n",
    "print(\"--> classe predita: \", clsf.predict(X_test), \"\\n\")\n",
    "\n",
    "clsf = KNNClassifier(k=3, metric=\"euclidean\", verbose=1)\n",
    "clsf.fit(X_train, y_train)\n",
    "print(\"--> classe predita: \", clsf.predict(X_test), \"\\n\")\n",
    "\n",
    "clsf = KNNClassifier(k=3, metric=\"minkowski\", p=2, verbose=1)\n",
    "clsf.fit(X_train, y_train)\n",
    "print(\"--> classe predita: \", clsf.predict(X_test), \"\\n\")\n",
    "\n",
    "clsf = KNNClassifier(k=3, metric=\"manhattan\", verbose=1)\n",
    "clsf.fit(X_train, y_train)\n",
    "print(\"--> classe predita: \", clsf.predict(X_test), \"\\n\")\n",
    "\n",
    "clsf = KNNClassifier(k=3, metric=\"minkowski\", p=1, verbose=1)\n",
    "clsf.fit(X_train, y_train)\n",
    "print(\"--> classe predita: \", clsf.predict(X_test), \"\\n\")\n",
    "\n",
    "clsf = KNNClassifier(k=3, metric=\"chebyshev\", verbose=1)\n",
    "clsf.fit(X_train, y_train)\n",
    "print(\"--> classe predita: \", clsf.predict(X_test), \"\\n\")\n",
    "\n",
    "clsf = KNNClassifier(k=5, metric=\"chebyshev\", verbose=1)\n",
    "clsf.fit(X_train, y_train)\n",
    "print(\"--> classe predita: \", clsf.predict_proba(X_test), \"\\n\")\n"
   ]
  },
  {
   "cell_type": "code",
   "execution_count": 3,
   "metadata": {},
   "outputs": [
    {
     "data": {
      "image/png": "[encoded data removed]",
      "text/plain": [
       "<Figure size 432x288 with 1 Axes>"
      ]
     },
     "metadata": {
      "needs_background": "light"
     },
     "output_type": "display_data"
    }
   ],
   "source": [
    "X_train, y_train = X[:210], y[:210] # 70% para treino\n",
    "X_test, y_test = X[210:], y[210:] # 30% para teste\n",
    "\n",
    "# plotar limpeza\n",
    "plot_2D_task(X_train, y_train)"
   ]
  },
  {
   "cell_type": "markdown",
   "metadata": {},
   "source": [
    "Distância Euclidiana:"
   ]
  },
  {
   "cell_type": "code",
   "execution_count": 4,
   "metadata": {},
   "outputs": [
    {
     "name": "stdout",
     "output_type": "stream",
     "text": [
      "Acurácia:  0.9555555555555556\n"
     ]
    }
   ],
   "source": [
    "clsf = KNNClassifier(k=3, metric=\"euclidean\")\n",
    "clsf.fit(X_train, y_train)\n",
    "pred = clsf.predict(X_test)\n",
    "\n",
    "acc = np.sum(y_test == pred)/pred.shape[0] \n",
    "print(\"Acurácia: \", acc)"
   ]
  },
  {
   "cell_type": "markdown",
   "metadata": {},
   "source": [
    "Distância Manhattan:"
   ]
  },
  {
   "cell_type": "code",
   "execution_count": 5,
   "metadata": {},
   "outputs": [
    {
     "name": "stdout",
     "output_type": "stream",
     "text": [
      "Acurácia:  0.9666666666666667\n"
     ]
    }
   ],
   "source": [
    "clsf = KNNClassifier(k=3, metric=\"manhattan\")\n",
    "clsf.fit(X_train, y_train)\n",
    "pred = clsf.predict(X_test)\n",
    "\n",
    "acc = np.sum(y_test == pred)/pred.shape[0] \n",
    "print(\"Acurácia: \", acc)"
   ]
  },
  {
   "cell_type": "markdown",
   "metadata": {},
   "source": [
    "Distância Chebyshev:"
   ]
  },
  {
   "cell_type": "code",
   "execution_count": 6,
   "metadata": {},
   "outputs": [
    {
     "name": "stdout",
     "output_type": "stream",
     "text": [
      "Acurácia:  0.9666666666666667\n"
     ]
    }
   ],
   "source": [
    "clsf = KNNClassifier(k=3, metric=\"chebyshev\")\n",
    "clsf.fit(X_train, y_train)\n",
    "pred = clsf.predict(X_test)\n",
    "\n",
    "acc = np.sum(y_test == pred)/pred.shape[0] \n",
    "print(\"Acurácia: \", acc)"
   ]
  },
  {
   "cell_type": "markdown",
   "metadata": {},
   "source": [
    "Distância Minkowski:"
   ]
  },
  {
   "cell_type": "code",
   "execution_count": 7,
   "metadata": {},
   "outputs": [
    {
     "name": "stdout",
     "output_type": "stream",
     "text": [
      "Acurácia:  0.9777777777777777\n"
     ]
    }
   ],
   "source": [
    "clsf = KNNClassifier(k=3, metric=\"minkowski\", p=0.7)\n",
    "clsf.fit(X_train, y_train)\n",
    "pred = clsf.predict(X_test)\n",
    "\n",
    "acc = np.sum(y_test == pred)/pred.shape[0] \n",
    "print(\"Acurácia: \", acc)"
   ]
  },
  {
   "cell_type": "markdown",
   "metadata": {},
   "source": [
    " Distância Minkowski:"
   ]
  },
  {
   "cell_type": "code",
   "execution_count": 8,
   "metadata": {},
   "outputs": [
    {
     "name": "stdout",
     "output_type": "stream",
     "text": [
      "Acurácia:  0.9666666666666667\n"
     ]
    }
   ],
   "source": [
    "clsf = KNNClassifier(k=3, metric=\"minkowski\", p=4)\n",
    "clsf.fit(X_train, y_train)\n",
    "pred = clsf.predict(X_test)\n",
    "\n",
    "acc = np.sum(y_test == pred)/pred.shape[0] \n",
    "print(\"Acurácia: \", acc)"
   ]
  },
  {
   "cell_type": "markdown",
   "metadata": {},
   "source": [
    "### 1.3.2. Algoritmo Edit $k$NN com eliminação sequencial"
   ]
  },
  {
   "cell_type": "markdown",
   "metadata": {},
   "source": [
    "Diminuir o conjunto de dados evitando duplicados e removendo ruído.\n",
    "\n",
    "Também ajuda a remover dados ruidosos na fronteira de decisão."
   ]
  },
  {
   "cell_type": "markdown",
   "metadata": {},
   "source": [
    "<img src=\"img/edit_knn_eliminacao_seq.png\" width=\"600\">\n",
    "<center>Edit kNN com eliminação sequencial. Fonte: livro base.</center>"
   ]
  },
  {
   "cell_type": "markdown",
   "metadata": {},
   "source": [
    "### 1.3.3. Algoritmo Edit $k$NN com inserção sequencial"
   ]
  },
  {
   "cell_type": "markdown",
   "metadata": {},
   "source": [
    "Diminuir o conjunto de dados evitando duplicatas.\n",
    "\n",
    "Também ajuda a remover dados ruidosos na fronteira de decisão."
   ]
  },
  {
   "cell_type": "markdown",
   "metadata": {},
   "source": [
    "<img src=\"img/edit_knn_insercao_seq.png\" width=\"600\">\n",
    "<center>Edit kNN com inserção sequencial. Fonte: livro base.</center>"
   ]
  },
  {
   "cell_type": "markdown",
   "metadata": {},
   "source": [
    "### 1.3.3. Implementação do algoritmo Edit 𝑘NN"
   ]
  },
  {
   "cell_type": "code",
   "execution_count": 9,
   "metadata": {
    "scrolled": false
   },
   "outputs": [],
   "source": [
    "import numpy as np\n",
    "from scipy import stats\n",
    "\n",
    "\n",
    "class EditKNNClassifier:\n",
    "    def __init__(self, k=3, metric=\"euclidean\", p=2, cleaning=None,\n",
    "                 alg=None, verbose=False, initial=1, random_state=0):\n",
    "        # armazenando valores\n",
    "        self.k = k\n",
    "        self.p = p\n",
    "        self.verbose = verbose\n",
    "        self.initial = initial\n",
    "        \n",
    "        np.random.seed(random_state)\n",
    "        \n",
    "        # selecionando qual distancia usar\n",
    "        self.metric = None\n",
    "        if metric == \"euclidean\":\n",
    "            self.metric_function = self.euclidean\n",
    "        elif metric == \"manhattan\":\n",
    "            self.metric_function = self.manhattan\n",
    "        elif metric == \"chebyshev\":\n",
    "            self.metric_function = self.chebyshev\n",
    "        elif metric == \"minkowski\":\n",
    "            self.metric_function = self.minkowski\n",
    "        \n",
    "        # selecionando o tipo de limpeza\n",
    "        self.cleaning = None\n",
    "        if cleaning == \"elimination\":\n",
    "            self.cleaning = self.cleaning_elimination\n",
    "        elif cleaning == \"insertion\":\n",
    "            self.cleaning = self.cleaning_insertion\n",
    "        elif cleaning == None:\n",
    "            self.cleaning = self.cleaning_none\n",
    "        \n",
    "        # selecionando algoritmo de classificacao para limpeza\n",
    "        if alg is None:\n",
    "            self.alg = KNNClassifier(k=3, metric=\"euclidean\")\n",
    "        else:\n",
    "            self.alg = alg\n",
    "        \n",
    "        if verbose == True:\n",
    "            print(\"Algoritmos kNN iniciado.\")\n",
    "            print(\"  * k        = \", k)\n",
    "            print(\"  * metric   = \", metric)\n",
    "            print(\"  * p        = \", p)\n",
    "            print(\"  * cleaning = \", cleaning, \"\\n\")\n",
    "            \n",
    "    def cleaning_insertion(self, X_train, y_train):\n",
    "        verbose = self.verbose\n",
    "        n = X_train.shape[0] # numero de linhas\n",
    "        alg = self.alg # algoritmo de classificacao\n",
    "        initial = self.initial # quantidade inicial de exemplo\n",
    "        \n",
    "        # restante do conjunto fica na variavel auxiliar\n",
    "        X_train_aux = X_train[initial:]\n",
    "        y_train_aux = y_train[initial:]\n",
    "        \n",
    "        # cria conjunto com apenas 2 exemplo\n",
    "        X_train = X_train[:initial]\n",
    "        y_train = y_train[:initial]\n",
    "        \n",
    "        for i in range(n-initial):\n",
    "            xi = X_train_aux[:1] # pega exemplo do topo\n",
    "            yi = y_train_aux[:1]\n",
    "            \n",
    "            X_train_aux = X_train_aux[1:] # remove do conjunto de trainamento\n",
    "            y_train_aux = y_train_aux[1:]\n",
    "\n",
    "            if verbose == True:\n",
    "                print(X_train.shape, y_train.shape)\n",
    "\n",
    "            # tenta predizer\n",
    "            clasf = alg.fit(X_train, y_train)\n",
    "            yi_pred = clasf.predict(xi)\n",
    "            \n",
    "            if yi_pred[0] != yi[0]: # se não sao iguais adiciona novamente no fim do conjunto de dados\n",
    "                X_train = np.append(X_train, xi, axis=0)\n",
    "                y_train = np.append(y_train, yi, axis=0)\n",
    "                \n",
    "        if verbose == True:\n",
    "            print(X_train.shape, y_train.shape)\n",
    "\n",
    "        return X_train, y_train\n",
    "\n",
    "    def cleaning_elimination(self, X_train, y_train):\n",
    "        verbose = self.verbose\n",
    "        n = X_train.shape[0] # numero de linhas\n",
    "        alg = self.alg # algoritmo de classificacao\n",
    "        initial = self.initial # quantidade inicial de exemplo\n",
    "\n",
    "        for i in range(n):\n",
    "            xi = X_train[:1] # pega exemplo do topo\n",
    "            yi = y_train[:1]\n",
    "            \n",
    "            X_train = X_train[1:] # remove do conjunto de trainamento\n",
    "            y_train = y_train[1:]\n",
    "            \n",
    "            if verbose == True:\n",
    "                print(X_train.shape, y_train.shape)\n",
    "\n",
    "            # tenta predizer\n",
    "            clasf = alg.fit(X_train, y_train)\n",
    "            yi_pred = clasf.predict(xi)\n",
    "            \n",
    "            if yi_pred[0] != yi[0]: # se não sao iguais adiciona novamente no fim do conjunto de dados\n",
    "                X_train = np.append(X_train, xi, axis=0)\n",
    "                y_train = np.append(y_train, yi, axis=0)\n",
    "                \n",
    "        if verbose == True:\n",
    "            print(X_train.shape, y_train.shape)\n",
    "\n",
    "        return X_train, y_train\n",
    "    \n",
    "    def cleaning_none(self, X_train, y_train):\n",
    "        return X_train, y_train\n",
    "        \n",
    "    def euclidean(self, u, v):\n",
    "        summ = 0\n",
    "        m = u.shape[0]\n",
    "        \n",
    "        for i in range(m):\n",
    "            summ = summ + (u[i]-v[i])**2\n",
    "        distance = np.sqrt(summ)\n",
    "        \n",
    "        return distance\n",
    "    \n",
    "    def manhattan(self, u, v):\n",
    "        summ = 0\n",
    "        m = u.shape[0]\n",
    "        \n",
    "        for i in range(m):\n",
    "            summ = summ + np.absolute(u[i]-v[i])\n",
    "        distance = summ\n",
    "        \n",
    "        return distance\n",
    "         \n",
    "    def chebyshev(self, u, v):\n",
    "        return np.max(np.absolute(u-v))\n",
    "    \n",
    "    def minkowski(self, u, v):\n",
    "        p = self.p\n",
    "        \n",
    "        return np.power(np.sum(np.power(np.absolute(u-v), p)), 1.0/p)\n",
    "    \n",
    "    def get_k_neighbors(self, X_train, query):\n",
    "        verbose = self.verbose\n",
    "        k = self.k # k vizinhos\n",
    "        n = X_train.shape[0] # numero de linhas\n",
    "        \n",
    "        # criamos vetor com n zeros\n",
    "        # vamos salvar todas as distancias aqui\n",
    "        distances = np.zeros(n) \n",
    "        \n",
    "        for i in range(n): # para cada linha em X\n",
    "            result = self.metric_function(X_train[i], query) # calcula a distancia para o ponto de consulta\n",
    "            distances[i] = result\n",
    "        \n",
    "        # Essa função ordena as distâncias (crescente) e retorna as linhas\n",
    "        row_ids = np.argsort(distances)\n",
    "        \n",
    "        # pegar apenas os k vizinhos\n",
    "        k_neighbors_ids = row_ids[0:k]\n",
    "        \n",
    "        if verbose == True:\n",
    "            print(\"Os k vizinhos são as linhas: \", k_neighbors_ids)\n",
    "            print(\"As distancias são: \", np.round(distances[k_neighbors_ids], 2))\n",
    "        \n",
    "        return k_neighbors_ids\n",
    "        \n",
    "    def fit(self, X_train, y_train):\n",
    "        verbose = self.verbose\n",
    "        \n",
    "        if verbose == True:\n",
    "            print(\"Estou com preguiça, não vou gerar modelo.\")\n",
    "            print(\"Vou salvar os dados apenas!\")\n",
    "\n",
    "        self.X_train, self.y_train = self.cleaning(X_train, y_train)\n",
    "        \n",
    "        if verbose == True:\n",
    "            print(\"Shape dos dados antes da limpeza: \", X_train.shape)\n",
    "            print(\"Shape dos dados depois da limpeza: \", self.X_train.shape, \"\\n\")\n",
    "        \n",
    "        return self\n",
    "        \n",
    "    def predict(self, X_test):\n",
    "        if X_test.shape[1] != self.X_train.shape[1]:\n",
    "            raise Exception(\"Numero de atributos diferentes!\")\n",
    "            \n",
    "        verbose = self.verbose\n",
    "        if verbose == True:\n",
    "            print(\"Vou pegar os dados que guardei para fazer a predição!\\n\")\n",
    "\n",
    "        n = X_test.shape[0] # quantidade de exemplos para predição\n",
    "        X_train = self.X_train # exemplos do conjunto de treino\n",
    "        y_train = self.y_train # classes do conjunto de treino\n",
    "        y_predicted = np.zeros(n, dtype=\"int\") # vetor para colocar resultado\n",
    "        \n",
    "        for i in range(n):\n",
    "            \n",
    "            if verbose == True:\n",
    "                print(\"Predizendo linha [\", i, \"]\")\n",
    "\n",
    "\n",
    "            # pega os ids das linhas dos k vizinhos mais proximos\n",
    "            k_neighbors_ids = self.get_k_neighbors(X_train, X_test[i])\n",
    "\n",
    "            # pega a classe dos k viznhos\n",
    "            k_neighbors_classes = y_train[k_neighbors_ids]\n",
    "\n",
    "            # verificar se houve um empate\n",
    "            classes, counts = np.unique(k_neighbors_classes, return_counts=True)\n",
    "            is_tie = np.all(counts == counts[0]) and classes.shape[0] > 1\n",
    "            \n",
    "            if verbose == True:\n",
    "                print(\"Classes = \", classes)\n",
    "                print(\"Counts = \", counts, \"\\n\")\n",
    "\n",
    "            if is_tie:  # se sim, chutar uma das classes\n",
    "                if verbose == True:\n",
    "                    print(\"Houve um empate!\\n\")\n",
    "                new_class = np.random.choice(classes).reshape(1,) \n",
    "\n",
    "            else: # se nao, calcula a moda\n",
    "                new_class = stats.mode(k_neighbors_classes)[0]\n",
    "                \n",
    "            y_predicted[i] = new_class\n",
    "\n",
    "        return y_predicted"
   ]
  },
  {
   "cell_type": "markdown",
   "metadata": {},
   "source": [
    "Toy dataset"
   ]
  },
  {
   "cell_type": "code",
   "execution_count": 10,
   "metadata": {},
   "outputs": [
    {
     "data": {
      "image/png": "[encoded data removed]",
      "text/plain": [
       "<Figure size 432x288 with 1 Axes>"
      ]
     },
     "metadata": {
      "needs_background": "light"
     },
     "output_type": "display_data"
    }
   ],
   "source": [
    "X_train = np.array([[1,1], [2,2], [15,15], [12, 12], [13, 13]])\n",
    "y_train = np.array([0, 0, 1, 1, 1])\n",
    "X_test = np.array([[3, 3], [16,16]])\n",
    "\n",
    "plot_2D_task(X_train, y_train)"
   ]
  },
  {
   "cell_type": "markdown",
   "metadata": {},
   "source": [
    "Eliminação:"
   ]
  },
  {
   "cell_type": "code",
   "execution_count": 11,
   "metadata": {},
   "outputs": [
    {
     "name": "stdout",
     "output_type": "stream",
     "text": [
      "Algoritmos kNN iniciado.\n",
      "  * k        =  3\n",
      "  * metric   =  euclidean\n",
      "  * p        =  2\n",
      "  * cleaning =  elimination \n",
      "\n",
      "Estou com preguiça, não vou gerar modelo.\n",
      "Vou salvar os dados apenas!\n",
      "(4, 2) (4,)\n",
      "(4, 2) (4,)\n",
      "(4, 2) (4,)\n",
      "(3, 2) (3,)\n",
      "(3, 2) (3,)\n",
      "(4, 2) (4,)\n",
      "Shape dos dados antes da limpeza:  (5, 2)\n",
      "Shape dos dados depois da limpeza:  (4, 2) \n",
      "\n"
     ]
    }
   ],
   "source": [
    "clsf = EditKNNClassifier(k=3, metric=\"euclidean\", cleaning=\"elimination\", verbose=1)\n",
    "clsf = clsf.fit(X_train, y_train)"
   ]
  },
  {
   "cell_type": "code",
   "execution_count": 12,
   "metadata": {},
   "outputs": [
    {
     "data": {
      "image/png": "[encoded data removed]",
      "text/plain": [
       "<Figure size 432x288 with 1 Axes>"
      ]
     },
     "metadata": {
      "needs_background": "light"
     },
     "output_type": "display_data"
    }
   ],
   "source": [
    "plot_2D_task(clsf.X_train, clsf.y_train)"
   ]
  },
  {
   "cell_type": "code",
   "execution_count": 13,
   "metadata": {},
   "outputs": [
    {
     "name": "stdout",
     "output_type": "stream",
     "text": [
      "Vou pegar os dados que guardei para fazer a predição!\n",
      "\n",
      "Predizendo linha [ 0 ]\n",
      "Os k vizinhos são as linhas:  [1 0 2]\n",
      "As distancias são:  [ 1.41  2.83 12.73]\n",
      "Classes =  [0 1]\n",
      "Counts =  [2 1] \n",
      "\n",
      "Predizendo linha [ 1 ]\n",
      "Os k vizinhos são as linhas:  [3 2 1]\n",
      "As distancias são:  [ 4.24  5.66 19.8 ]\n",
      "Classes =  [0 1]\n",
      "Counts =  [1 2] \n",
      "\n",
      "--> classe predita:  [0 1] \n",
      "\n"
     ]
    }
   ],
   "source": [
    "print(\"--> classe predita: \", clsf.predict(X_test), \"\\n\")"
   ]
  },
  {
   "cell_type": "markdown",
   "metadata": {},
   "source": [
    "Inserção:"
   ]
  },
  {
   "cell_type": "code",
   "execution_count": 14,
   "metadata": {},
   "outputs": [
    {
     "name": "stdout",
     "output_type": "stream",
     "text": [
      "Algoritmos kNN iniciado.\n",
      "  * k        =  3\n",
      "  * metric   =  euclidean\n",
      "  * p        =  2\n",
      "  * cleaning =  insertion \n",
      "\n",
      "Estou com preguiça, não vou gerar modelo.\n",
      "Vou salvar os dados apenas!\n",
      "(1, 2) (1,)\n",
      "(1, 2) (1,)\n",
      "(2, 2) (2,)\n",
      "(3, 2) (3,)\n",
      "(3, 2) (3,)\n",
      "Shape dos dados antes da limpeza:  (5, 2)\n",
      "Shape dos dados depois da limpeza:  (3, 2) \n",
      "\n"
     ]
    }
   ],
   "source": [
    "clsf = EditKNNClassifier(k=3, metric=\"euclidean\", cleaning=\"insertion\", verbose=1)\n",
    "clsf = clsf.fit(X_train, y_train)"
   ]
  },
  {
   "cell_type": "code",
   "execution_count": 15,
   "metadata": {},
   "outputs": [
    {
     "data": {
      "image/png": "[encoded data removed]",
      "text/plain": [
       "<Figure size 432x288 with 1 Axes>"
      ]
     },
     "metadata": {
      "needs_background": "light"
     },
     "output_type": "display_data"
    }
   ],
   "source": [
    "plot_2D_task(clsf.X_train, clsf.y_train)"
   ]
  },
  {
   "cell_type": "code",
   "execution_count": 16,
   "metadata": {},
   "outputs": [
    {
     "name": "stdout",
     "output_type": "stream",
     "text": [
      "Vou pegar os dados que guardei para fazer a predição!\n",
      "\n",
      "Predizendo linha [ 0 ]\n",
      "Os k vizinhos são as linhas:  [0 2 1]\n",
      "As distancias são:  [ 2.83 12.73 16.97]\n",
      "Classes =  [0 1]\n",
      "Counts =  [1 2] \n",
      "\n",
      "Predizendo linha [ 1 ]\n",
      "Os k vizinhos são as linhas:  [1 2 0]\n",
      "As distancias são:  [ 1.41  5.66 21.21]\n",
      "Classes =  [0 1]\n",
      "Counts =  [1 2] \n",
      "\n",
      "--> classe predita:  [1 1] \n",
      "\n"
     ]
    }
   ],
   "source": [
    "print(\"--> classe predita: \", clsf.predict(X_test), \"\\n\")"
   ]
  },
  {
   "cell_type": "markdown",
   "metadata": {},
   "source": [
    "### Com eliminação"
   ]
  },
  {
   "cell_type": "code",
   "execution_count": 17,
   "metadata": {
    "scrolled": false
   },
   "outputs": [
    {
     "data": {
      "image/png": "[encoded data removed]",
      "text/plain": [
       "<Figure size 432x288 with 1 Axes>"
      ]
     },
     "metadata": {
      "needs_background": "light"
     },
     "output_type": "display_data"
    }
   ],
   "source": [
    "X_train, y_train = X[:210], y[:210] # 70% para treino\n",
    "X_test, y_test = X[210:], y[210:] # 30% para teste\n",
    "\n",
    "# plotar limpeza\n",
    "plot_2D_task(X_train, y_train)"
   ]
  },
  {
   "cell_type": "code",
   "execution_count": 18,
   "metadata": {
    "scrolled": true
   },
   "outputs": [
    {
     "data": {
      "image/png": "[encoded data removed]",
      "text/plain": [
       "<Figure size 432x288 with 1 Axes>"
      ]
     },
     "metadata": {
      "needs_background": "light"
     },
     "output_type": "display_data"
    }
   ],
   "source": [
    "clsf = EditKNNClassifier(k=3, metric=\"euclidean\", cleaning=\"elimination\")\n",
    "clsf.fit(X_train, y_train)\n",
    "plot_2D_task(clsf.X_train, clsf.y_train)\n",
    "\n",
    "pred = clsf.predict(X_test)"
   ]
  },
  {
   "cell_type": "code",
   "execution_count": 19,
   "metadata": {},
   "outputs": [
    {
     "name": "stdout",
     "output_type": "stream",
     "text": [
      "Acurácia:  0.8\n"
     ]
    }
   ],
   "source": [
    "acc = np.sum(y_test == pred)/pred.shape[0] \n",
    "print(\"Acurácia: \", acc)"
   ]
  },
  {
   "cell_type": "markdown",
   "metadata": {},
   "source": [
    "### Com inserção"
   ]
  },
  {
   "cell_type": "code",
   "execution_count": 20,
   "metadata": {},
   "outputs": [
    {
     "data": {
      "image/png": "[encoded data removed]",
      "text/plain": [
       "<Figure size 432x288 with 1 Axes>"
      ]
     },
     "metadata": {
      "needs_background": "light"
     },
     "output_type": "display_data"
    }
   ],
   "source": [
    "X_train, y_train = X[:210], y[:210] # 70% para treino\n",
    "X_test, y_test = X[210:], y[210:] # 30% para teste\n",
    "\n",
    "# plotar limpeza\n",
    "plot_2D_task(X_train, y_train)\n"
   ]
  },
  {
   "cell_type": "code",
   "execution_count": 21,
   "metadata": {},
   "outputs": [
    {
     "data": {
      "image/png": "[encoded data removed]",
      "text/plain": [
       "<Figure size 432x288 with 1 Axes>"
      ]
     },
     "metadata": {
      "needs_background": "light"
     },
     "output_type": "display_data"
    }
   ],
   "source": [
    "clsf = EditKNNClassifier(k=3, metric=\"euclidean\", cleaning=\"insertion\")\n",
    "clsf.fit(X_train, y_train)\n",
    "plot_2D_task(clsf.X_train, clsf.y_train)\n",
    "\n",
    "pred = clsf.predict(X_test)"
   ]
  },
  {
   "cell_type": "code",
   "execution_count": 22,
   "metadata": {},
   "outputs": [
    {
     "name": "stdout",
     "output_type": "stream",
     "text": [
      "Acurácia:  0.9222222222222223\n"
     ]
    }
   ],
   "source": [
    "acc = np.sum(y_test == pred)/pred.shape[0] \n",
    "print(\"Acurácia: \", acc)"
   ]
  },
  {
   "cell_type": "markdown",
   "metadata": {},
   "source": [
    "### Com inserção parcial"
   ]
  },
  {
   "cell_type": "code",
   "execution_count": 23,
   "metadata": {},
   "outputs": [
    {
     "data": {
      "image/png": "[encoded data removed]",
      "text/plain": [
       "<Figure size 432x288 with 1 Axes>"
      ]
     },
     "metadata": {
      "needs_background": "light"
     },
     "output_type": "display_data"
    }
   ],
   "source": [
    "X_train, y_train = X[:210], y[:210] # 70% para treino\n",
    "X_test, y_test = X[210:], y[210:] # 30% para teste\n",
    "\n",
    "# plotar limpeza\n",
    "plot_2D_task(X_train, y_train)"
   ]
  },
  {
   "cell_type": "code",
   "execution_count": 24,
   "metadata": {},
   "outputs": [
    {
     "data": {
      "image/png": "[encoded data removed]",
      "text/plain": [
       "<Figure size 432x288 with 1 Axes>"
      ]
     },
     "metadata": {
      "needs_background": "light"
     },
     "output_type": "display_data"
    }
   ],
   "source": [
    "clsf = EditKNNClassifier(k=3, metric=\"euclidean\", cleaning=\"insertion\", initial=30)\n",
    "clsf.fit(X_train, y_train)\n",
    "plot_2D_task(clsf.X_train, clsf.y_train)\n",
    "\n",
    "pred = clsf.predict(X_test)"
   ]
  },
  {
   "cell_type": "code",
   "execution_count": 25,
   "metadata": {},
   "outputs": [
    {
     "name": "stdout",
     "output_type": "stream",
     "text": [
      "Acurácia:  0.9888888888888889\n"
     ]
    }
   ],
   "source": [
    "acc = np.sum(y_test == pred)/pred.shape[0] \n",
    "print(\"Acurácia: \", acc)"
   ]
  },
  {
   "cell_type": "markdown",
   "metadata": {},
   "source": [
    "### 1.3.3. Aspectos Positivos e Negativos"
   ]
  },
  {
   "cell_type": "markdown",
   "metadata": {},
   "source": [
    "Positivos:\n",
    "* O conceito é simples e fácil de ser implementado\n",
    "* É aplicavel mesmo para problemas complexos\n",
    "* É naturalmente incremental\n",
    "* Constroi aproximações locais da função objetivo, pode ser vantajoso quando a função é muito complexa\n",
    "\n",
    "Negativos:\n",
    "* Não temos uma representção compacta, pois não há um modelo\n",
    "* Predição pode ser custosa\n",
    "* É afetado por atributos redundantes e ruído\n",
    "* Problema para lidar com alta dimensionalidade"
   ]
  },
  {
   "cell_type": "markdown",
   "metadata": {},
   "source": [
    "### 1.3.4. Dicas"
   ]
  },
  {
   "cell_type": "markdown",
   "metadata": {},
   "source": [
    "Evite usar valores de $k$ que levem a um cenário de indecisão.\n",
    "\n",
    "* Evite usar $k \\leq $ número de classes ou multiplo de k\n",
    "* Uma boa opção são números primos (>2)\n"
   ]
  },
  {
   "cell_type": "markdown",
   "metadata": {},
   "source": [
    "## $k$NN para regressão de dados"
   ]
  },
  {
   "cell_type": "code",
   "execution_count": 26,
   "metadata": {},
   "outputs": [],
   "source": [
    "import numpy as np\n",
    "from scipy import stats\n",
    "\n",
    "\n",
    "class KNNRegressor:\n",
    "    def __init__(self, k=3, metric=\"euclidean\", p=2, verbose=False, random_state=0):\n",
    "        # armazenando valores\n",
    "        self.k = k\n",
    "        self.metric = metric\n",
    "        self.p = p\n",
    "        self.verbose = verbose\n",
    "        \n",
    "        np.random.seed(random_state)\n",
    "        \n",
    "        # selecionando qual distancia usar\n",
    "        self.metric = None\n",
    "        if metric == \"euclidean\":\n",
    "            self.metric_function = self.euclidean\n",
    "        elif metric == \"manhattan\":\n",
    "            self.metric_function = self.manhattan\n",
    "        elif metric == \"chebyshev\":\n",
    "            self.metric_function = self.chebyshev\n",
    "        elif metric == \"minkowski\":\n",
    "            self.metric_function = self.minkowski\n",
    "        \n",
    "        if verbose == True:\n",
    "            print(\"Algoritmos kNN iniciado.\")\n",
    "            print(\"  * k      = \", k)\n",
    "            print(\"  * metric = \", metric)\n",
    "            print(\"  * p      = \", p, \"\\n\")\n",
    "        \n",
    "    def euclidean(self, u, v):\n",
    "        summ = 0\n",
    "        m = u.shape[0]\n",
    "        \n",
    "        for i in range(m):\n",
    "            summ = summ + (u[i]-v[i])**2\n",
    "        distance = np.sqrt(summ)\n",
    "        \n",
    "        return distance\n",
    "    \n",
    "    def manhattan(self, u, v):\n",
    "        summ = 0\n",
    "        m = u.shape[0]\n",
    "        \n",
    "        for i in range(m):\n",
    "            summ = summ + np.absolute(u[i]-v[i])\n",
    "        distance = summ\n",
    "        \n",
    "        return distance\n",
    "         \n",
    "    def chebyshev(self, u, v):\n",
    "        return np.max(np.absolute(u-v))\n",
    "    \n",
    "    def minkowski(self, u, v):\n",
    "        p = self.p\n",
    "        \n",
    "        return np.power(np.sum(np.power(np.absolute(u-v), p)), 1.0/p)\n",
    "    \n",
    "    def get_k_neighbors(self, X_train, query):\n",
    "        verbose = self.verbose\n",
    "        k = self.k # k vizinhos\n",
    "        n = X_train.shape[0] # numero de linhas\n",
    "        \n",
    "        # criamos vetor com n zeros\n",
    "        # vamos salvar todas as distancias aqui\n",
    "        distances = np.zeros(n) \n",
    "        \n",
    "        for i in range(n): # para cada linha em X\n",
    "            result = self.metric_function(X_train[i], query) # calcula a distancia para o ponto de consulta\n",
    "            distances[i] = result\n",
    "        \n",
    "        # Essa função ordena as distâncias (crescente) e retorna as linhas\n",
    "        row_ids = np.argsort(distances)\n",
    "        \n",
    "        # pegar apenas os k vizinhos\n",
    "        k_neighbors_ids = row_ids[0:k]\n",
    "        \n",
    "        if verbose == True:\n",
    "            print(\"Os k vizinhos são as linhas: \", k_neighbors_ids)\n",
    "            print(\"As distancias são: \", np.round(distances[k_neighbors_ids], 2))\n",
    "        \n",
    "        return k_neighbors_ids\n",
    "        \n",
    "    def fit(self, X_train, y_train):\n",
    "        verbose = self.verbose\n",
    "        \n",
    "        if verbose == True:\n",
    "            print(\"Estou com preguiça, não vou gerar modelo.\")\n",
    "            print(\"Vou salvar os dados apenas!\\n\")\n",
    "\n",
    "        self.X_train = X_train\n",
    "        self.y_train = y_train\n",
    "        \n",
    "        return self\n",
    "            \n",
    "    def predict(self, X_train):\n",
    "        verbose = self.verbose\n",
    "        if verbose == True:\n",
    "            print(\"Vou pegar os dados que guardei para fazer a predição!\\n\")\n",
    "\n",
    "        n = X_test.shape[0] # quantidade de exemplos para predição\n",
    "        X_train = self.X_train # exemplos do conjunto de treino\n",
    "        y_train = self.y_train # valores alvo do conjunto de treino\n",
    "        y_predicted = np.zeros(n, dtype=\"float\") # vetor para colocar resultado\n",
    "        \n",
    "        for i in range(n):\n",
    "            if verbose == True:\n",
    "                print(\"Predizendo linha [\", i, \"]\")\n",
    "\n",
    "            # pega os ids das linhas dos k vizinhos mais proximos\n",
    "            k_neighbors_ids = self.get_k_neighbors(X_train, X_test[i])\n",
    "\n",
    "            # pega os valores dos k viznhos\n",
    "            k_neighbors_values = y_train[k_neighbors_ids]\n",
    "           \n",
    "            if verbose == True:\n",
    "                print(\"Values = \", np.round(k_neighbors_values, 2), \"\\n\")\n",
    "\n",
    "            new_value = np.mean(k_neighbors_values)\n",
    "            y_predicted[i] = new_value\n",
    "\n",
    "        return y_predicted\n",
    "        "
   ]
  },
  {
   "cell_type": "markdown",
   "metadata": {},
   "source": [
    "Toy dataset"
   ]
  },
  {
   "cell_type": "code",
   "execution_count": 27,
   "metadata": {},
   "outputs": [],
   "source": [
    "X_train = np.array([[1,1], [2,2], [15,15], [12, 12], [13, 13]])\n",
    "y_train = np.array([0.5, 0.7, 1.2, 1.7, 2.1])\n",
    "X_test = np.array([[3, 3], [16,16]])"
   ]
  },
  {
   "cell_type": "markdown",
   "metadata": {},
   "source": [
    "Para k = 2:"
   ]
  },
  {
   "cell_type": "code",
   "execution_count": 28,
   "metadata": {},
   "outputs": [
    {
     "name": "stdout",
     "output_type": "stream",
     "text": [
      "Algoritmos kNN iniciado.\n",
      "  * k      =  2\n",
      "  * metric =  euclidean\n",
      "  * p      =  2 \n",
      "\n",
      "Estou com preguiça, não vou gerar modelo.\n",
      "Vou salvar os dados apenas!\n",
      "\n"
     ]
    }
   ],
   "source": [
    "clsf = KNNRegressor(k=2, metric=\"euclidean\", verbose=1)\n",
    "clsf = clsf.fit(X_train, y_train)"
   ]
  },
  {
   "cell_type": "code",
   "execution_count": 29,
   "metadata": {},
   "outputs": [
    {
     "name": "stdout",
     "output_type": "stream",
     "text": [
      "Vou pegar os dados que guardei para fazer a predição!\n",
      "\n",
      "Predizendo linha [ 0 ]\n",
      "Os k vizinhos são as linhas:  [1 0]\n",
      "As distancias são:  [1.41 2.83]\n",
      "Values =  [0.7 0.5] \n",
      "\n",
      "Predizendo linha [ 1 ]\n",
      "Os k vizinhos são as linhas:  [2 4]\n",
      "As distancias são:  [1.41 4.24]\n",
      "Values =  [1.2 2.1] \n",
      "\n",
      "--> classe predita:  [0.6  1.65] \n",
      "\n"
     ]
    }
   ],
   "source": [
    "print(\"--> classe predita: \", clsf.predict(X_test), \"\\n\")"
   ]
  },
  {
   "cell_type": "markdown",
   "metadata": {},
   "source": [
    "Para k = 3:"
   ]
  },
  {
   "cell_type": "code",
   "execution_count": 30,
   "metadata": {},
   "outputs": [
    {
     "name": "stdout",
     "output_type": "stream",
     "text": [
      "Algoritmos kNN iniciado.\n",
      "  * k      =  3\n",
      "  * metric =  euclidean\n",
      "  * p      =  2 \n",
      "\n",
      "Estou com preguiça, não vou gerar modelo.\n",
      "Vou salvar os dados apenas!\n",
      "\n"
     ]
    }
   ],
   "source": [
    "clsf = KNNRegressor(k=3, metric=\"euclidean\", verbose=1)\n",
    "clsf = clsf.fit(X_train, y_train)"
   ]
  },
  {
   "cell_type": "code",
   "execution_count": 31,
   "metadata": {},
   "outputs": [
    {
     "name": "stdout",
     "output_type": "stream",
     "text": [
      "Vou pegar os dados que guardei para fazer a predição!\n",
      "\n",
      "Predizendo linha [ 0 ]\n",
      "Os k vizinhos são as linhas:  [1 0 3]\n",
      "As distancias são:  [ 1.41  2.83 12.73]\n",
      "Values =  [0.7 0.5 1.7] \n",
      "\n",
      "Predizendo linha [ 1 ]\n",
      "Os k vizinhos são as linhas:  [2 4 3]\n",
      "As distancias são:  [1.41 4.24 5.66]\n",
      "Values =  [1.2 2.1 1.7] \n",
      "\n",
      "--> classe predita:  [0.96666667 1.66666667] \n",
      "\n"
     ]
    }
   ],
   "source": [
    "print(\"--> classe predita: \", clsf.predict(X_test), \"\\n\")"
   ]
  },
  {
   "cell_type": "markdown",
   "metadata": {},
   "source": [
    "## DWNN para classificação de dados"
   ]
  },
  {
   "cell_type": "markdown",
   "metadata": {},
   "source": [
    "É possível ponderar pelas distâncias\n",
    "Intuição:"
   ]
  },
  {
   "cell_type": "code",
   "execution_count": null,
   "metadata": {},
   "outputs": [],
   "source": []
  }
 ],
 "metadata": {
  "kernelspec": {
   "display_name": "Python 3",
   "language": "python",
   "name": "python3"
  },
  "language_info": {
   "codemirror_mode": {
    "name": "ipython",
    "version": 3
   },
   "file_extension": ".py",
   "mimetype": "text/x-python",
   "name": "python",
   "nbconvert_exporter": "python",
   "pygments_lexer": "ipython3",
   "version": "3.8.3"
  }
 },
 "nbformat": 4,
 "nbformat_minor": 4
}
