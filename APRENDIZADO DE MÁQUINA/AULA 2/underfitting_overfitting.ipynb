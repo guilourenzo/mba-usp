{
 "cells": [
  {
   "cell_type": "markdown",
   "metadata": {},
   "source": [
    "# Avaliando _overfitting_ e _underfitting_ com o conjunto de dados iris\n",
    "\n",
    "Nessa prática tentaremos entender como e porque os fenômenos de sub e sobreajuste podem ocorrer ao lidar com algoritmos de aprendizado de máquina.\n",
    "\n",
    "Como tarefa proposta para a tutoria, o conjunto de dados iris deve ser utilizado. Esse conjunto está disponível na biblioteca `sklearn`, que é hoje uma das grades referências para aprendizado de máquina utilizando Python.\n",
    "\n",
    "Iniciaremos explorando um pouco esse conjunto (clássico de dados).\n",
    "\n",
    "**Observação:** adicionei a importação dos pacotes à medida que eles vão sendo utilizados para introduzir conceitos e ferramentas aos poucos (não segue as melhores práticas de programação, assim como os notebooks não o fazem geralmente :P).\n",
    "\n",
    "### Começamos carregando os dados"
   ]
  },
  {
   "cell_type": "code",
   "execution_count": 1,
   "metadata": {
    "scrolled": true
   },
   "outputs": [
    {
     "data": {
      "text/plain": [
       "['data',\n",
       " 'target',\n",
       " 'frame',\n",
       " 'target_names',\n",
       " 'DESCR',\n",
       " 'feature_names',\n",
       " 'filename']"
      ]
     },
     "execution_count": 1,
     "metadata": {},
     "output_type": "execute_result"
    }
   ],
   "source": [
    "from sklearn import datasets\n",
    "\n",
    "iris = datasets.load_iris()\n",
    "\n",
    "# Vamos descobrir que campos temos nos dados\n",
    "list(iris)"
   ]
  },
  {
   "cell_type": "markdown",
   "metadata": {},
   "source": [
    "### Agora iremos ver quais as classes e atributos do problema (tipos de íris)"
   ]
  },
  {
   "cell_type": "code",
   "execution_count": 2,
   "metadata": {
    "scrolled": true
   },
   "outputs": [
    {
     "name": "stdout",
     "output_type": "stream",
     "text": [
      "Classes: ['setosa' 'versicolor' 'virginica']\n",
      "Atributos descritivos: ['sepal length (cm)', 'sepal width (cm)', 'petal length (cm)', 'petal width (cm)']\n",
      "Número de exemplos na base de dados: 150\n"
     ]
    },
    {
     "data": {
      "text/plain": [
       "array([[5.1, 3.5, 1.4, 0.2],\n",
       "       [4.9, 3. , 1.4, 0.2],\n",
       "       [4.7, 3.2, 1.3, 0.2]])"
      ]
     },
     "execution_count": 2,
     "metadata": {},
     "output_type": "execute_result"
    }
   ],
   "source": [
    "print('Classes:', iris['target_names'])\n",
    "print('Atributos descritivos:', iris['feature_names'])\n",
    "print('Número de exemplos na base de dados:', len(iris['data']))\n",
    "iris['data'][:3, :]"
   ]
  },
  {
   "cell_type": "markdown",
   "metadata": {},
   "source": [
    "### Vamos extrair algumas informações básicas dos dados antes de prosseguirmos"
   ]
  },
  {
   "cell_type": "code",
   "execution_count": 3,
   "metadata": {
    "scrolled": true
   },
   "outputs": [
    {
     "name": "stdout",
     "output_type": "stream",
     "text": [
      "#Instâncias com dados faltantes: 0\n",
      "Média dos atributos: [5.84333333 3.05733333 3.758      1.19933333]\n",
      "Desvio padrão: [0.82530129 0.43441097 1.75940407 0.75969263]\n",
      "Valores máximos por atributo: [7.9 4.4 6.9 2.5]\n",
      "Valores mínimos por atributo: [4.3 2.  1.  0.1]\n"
     ]
    }
   ],
   "source": [
    "import numpy as np\n",
    "\n",
    "X, y = iris['data'], iris['target']\n",
    "\n",
    "\n",
    "print('#Instâncias com dados faltantes:', sum(np.any(np.isnan(X), axis=1)))\n",
    "print('Média dos atributos:', np.mean(X, axis=0))\n",
    "print('Desvio padrão:', np.std(X, axis=0))\n",
    "print('Valores máximos por atributo:', np.max(X, axis=0))\n",
    "print('Valores mínimos por atributo:', np.min(X, axis=0))"
   ]
  },
  {
   "cell_type": "markdown",
   "metadata": {},
   "source": [
    "**Em suma:** dataset simples e \"bem comportado\". Comumente utilizado para propósitos didáticos.\n",
    "\n",
    "Antes de prosseguirmos, que tal tentarmos entender como se dão as relações entre atributos e as classes? Para tal, utilizaremos recursos de visualização de dados. A ideia aqui é tentarmos entender quão \"difícil\" a tarefa de classificar os tipos de íris dados os descritores que temos.\n",
    "\n",
    "_Wait_ : temos quatro atributos descritivos e tipicamente (exceto em filmes como Interestelar) estamos limitados a três dimensões. Como iremos visualizar as relações entre os dados? R: técnicas de projeção de dados:\n",
    "\n",
    "**Principal Component Analysis** ([PCA](https://datasciencesamurai.com/step-by-step-principal-component-analysis-pca-python))\n",
    "\n",
    "* Técnica de redução de dimensionalidade\n",
    "* Utiliza transformações lineares nos dados\n",
    "* Não precisamos focar em detalhes nesse momento. Basta sabermos agora que esse algoritmo poderá nos auxiliar com a visualização dos dados\n",
    "\n",
    "Iremos aplicar PCA nos dados da base iris e reduziremos o número de dimensões para que possamos visualizar as relações existentes nos dados. O `sklearn` nos provê as ferramentas necessárias para tal."
   ]
  },
  {
   "cell_type": "code",
   "execution_count": 4,
   "metadata": {
    "scrolled": true
   },
   "outputs": [
    {
     "data": {
      "text/plain": [
       "array([[-2.26470281,  0.4800266 ],\n",
       "       [-2.08096115, -0.67413356]])"
      ]
     },
     "execution_count": 4,
     "metadata": {},
     "output_type": "execute_result"
    }
   ],
   "source": [
    "from sklearn.preprocessing import StandardScaler  # padronização dos dados antes da PCA\n",
    "from sklearn.decomposition import PCA  # PCA propriamente dita\n",
    "\n",
    "X_norm = StandardScaler().fit_transform(X)\n",
    "X_pca = PCA(n_components=2).fit_transform(X_norm)\n",
    "\n",
    "X_pca[:2, :]"
   ]
  },
  {
   "cell_type": "markdown",
   "metadata": {},
   "source": [
    "Agora vamos visualizar a representação compacta que obtemos:"
   ]
  },
  {
   "cell_type": "code",
   "execution_count": 5,
   "metadata": {
    "scrolled": true
   },
   "outputs": [
    {
     "data": {
      "image/png": "[encoded data removed]",
      "text/plain": [
       "<Figure size 720x360 with 1 Axes>"
      ]
     },
     "metadata": {
      "needs_background": "light"
     },
     "output_type": "display_data"
    }
   ],
   "source": [
    "import matplotlib.pyplot as plt\n",
    "\n",
    "markers = ['o', '^', 's']\n",
    "fig, ax = plt.subplots(figsize=(10, 5))\n",
    "for class_id, class_name in enumerate(iris['target_names']):\n",
    "    imask = y == class_id\n",
    "    ax.scatter(X_pca[imask, 0], X_pca[imask, 1], label=class_name, marker=markers[class_id])\n",
    "fig.legend()\n",
    "ax.set_xlabel('PC1')\n",
    "ax.set_ylabel('PC2')\n",
    "plt.show()"
   ]
  },
  {
   "cell_type": "markdown",
   "metadata": {},
   "source": [
    "**Cool, huh?**\n",
    "\n",
    "OK, projeção de dados parece algo muito legal e tudo mais, mas será que não dá para simplificar um pouco mais as coisas (matematicamente falando)? Nesse caso... sim. Podemos utilizar outras alternativas que não se baseiam em projeções, autovalores, autovetores e cia.\n",
    "\n",
    "Existe uma técnica de visualização de dados muito interessante que é chamada de _Radviz_ :\n",
    "\n",
    "* Utiliza a abstração de um sistema de molas\n",
    "* Cada atributo descritivo é um ponto de \"âncora\" onde prendemos uma mola até cada uma das amostras da base dados\n",
    "* Podemos ajustar diferentes pesos para cada atributo, o que implica em alterar a tensão das molas\n",
    "\n",
    "Podemos utilizar o Radviz em várias plataformas, mas aqui utilizaremos o software [Orange](https://orange.biolab.si).\n",
    "\n",
    "(Pausa para plotting)\n",
    "\n",
    "-> Já voltamos para cá\n"
   ]
  },
  {
   "cell_type": "markdown",
   "metadata": {},
   "source": [
    "## Separando dados de interesse do conjunto para avaliar algoritmos de aprendizado de máquina\n",
    "\n",
    "Como havia mencionado anteriormente, o conjunto _iris_ é normalmente utilizado para propósitos didáticos e é muito simples. Podemos perceber que uma das classes (setosa) pode ser facilmente separada linearmente das outras.\n",
    "\n",
    "Como o nosso objetivo aqui é entender os conceitos de _overfitting_ e _underfitting_ e não queremos nos ater em demasia em conceitos extras, iremos simplificar ainda mais esse problema e focar na porção que não é linearmente separável.\n",
    "\n",
    "\n",
    "Vamos selecionar apenas as classes _versicolor_ e _virginica_."
   ]
  },
  {
   "cell_type": "code",
   "execution_count": 6,
   "metadata": {},
   "outputs": [
    {
     "name": "stdout",
     "output_type": "stream",
     "text": [
      "Classe 0: setosa\n",
      "(100, 4) (100,)\n"
     ]
    }
   ],
   "source": [
    "print('Classe 0:', iris['target_names'][0])\n",
    "\n",
    "imask = y == 0\n",
    "X, y = X[~imask, :], y[~imask]\n",
    "print(X.shape, y.shape)"
   ]
  },
  {
   "cell_type": "markdown",
   "metadata": {},
   "source": [
    "### Separando o conjunto em treino e teste\n",
    "\n",
    "Para analisarmos sub e sobreajuste, precisaremos de um conjunto de dados para induzirmos um modelo e outro\n",
    "conjunto que nunca foi visto pelo modelo. O primeiro conjunto é chamado de conjunto de treinamento e o segundo\n",
    "de conjunto de teste. Utilizaremos 80% dos dados para treinamento e 20% para testes.\n",
    "\n",
    "**Observação**: vale ressaltar que essa é uma abordagem simplista e, na pratica, outras estratégias deveriam ser utilizadas. No entanto, para nossos propósitos didáticos reservar aleatoriamente um porção dos dados para testes é suficiente."
   ]
  },
  {
   "cell_type": "code",
   "execution_count": 7,
   "metadata": {},
   "outputs": [],
   "source": [
    "from sklearn.model_selection import train_test_split\n",
    "from sklearn.metrics import accuracy_score\n",
    "\n",
    "X_train, X_test, y_train, y_test = train_test_split(X, y, test_size=0.4, random_state=0)"
   ]
  },
  {
   "cell_type": "markdown",
   "metadata": {},
   "source": [
    "## Pontos importantes a se considerar antes de iniciarmos:\n",
    "\n",
    "* Tarefa preditiva extremamente simples\n",
    "* Selecionamos os exemplos de treino e teste de forma aleatória\n",
    "    - Não temos garantias que os exemplos mais difíceis estarão no conjunto de teste (treino)\n",
    "    \n",
    "## Como avaliaremos *overfitting* e *underfitting*?\n",
    "\n",
    "Uma forma simples é monitorar a variação das curvas de erro nos conjuntos de treinamento e teste (eixo y) com relação a algum hiperparâmetro do algoritmo de AM.\n",
    "\n",
    "Notem que exploraremos apenas um hiperparâmetro por vez nessa análise."
   ]
  },
  {
   "cell_type": "markdown",
   "metadata": {},
   "source": [
    "## Iniciaremos com a análise de uma variante do algoritmo _k-Nearest Neighbors_ (k-NN)\n",
    "### Radius Neighbors\n",
    "\n",
    "Para Radius Neighbors, um exemplo é classificado de acordo com os vizinhos que se encontram dentro de uma hiper-esfera (no caso de duas dimensões, uma hiper-esfera é um círculo) com raio pré-determinado. A classe com mais exemplos dentro da hiper-esfera define a classe daquele exemplo com classe desconhecida. Caso nenhum exemplo com classe conhecida esteja dentro da hiper-esfera, o classificador prediz uma classe padrão pré-determinada."
   ]
  },
  {
   "cell_type": "code",
   "execution_count": 8,
   "metadata": {
    "scrolled": true
   },
   "outputs": [
    {
     "data": {
      "image/png": "[encoded data removed]",
      "text/plain": [
       "<Figure size 432x288 with 1 Axes>"
      ]
     },
     "metadata": {
      "needs_background": "light"
     },
     "output_type": "display_data"
    }
   ],
   "source": [
    "from sklearn.neighbors import RadiusNeighborsClassifier\n",
    "from sklearn.preprocessing import MinMaxScaler\n",
    "\n",
    "minmaxs = MinMaxScaler()\n",
    "\n",
    "X_train_scaled = minmaxs.fit_transform(X_train)\n",
    "X_test_scaled = minmaxs.transform(X_test)\n",
    "\n",
    "train_accs = []\n",
    "test_accs = []\n",
    "\n",
    "r_values = []\n",
    "\n",
    "for r in np.arange(0.05, 3, 0.05):\n",
    "    r_values.append(r)\n",
    "    knn = RadiusNeighborsClassifier(radius=r, outlier_label = 1, p = 2)\n",
    "    knn.fit(X_train_scaled, y_train)\n",
    "    \n",
    "    train_pred = knn.predict(X_train_scaled)\n",
    "    train_acc = accuracy_score(y_train, train_pred)\n",
    "    train_accs.append(train_acc)\n",
    "    \n",
    "    test_pred = knn.predict(X_test_scaled)\n",
    "    test_acc = accuracy_score(y_test, test_pred)\n",
    "    test_accs.append(test_acc)\n",
    "    \n",
    "plt.plot(r_values, train_accs, label='Acurácia treino')\n",
    "plt.plot(r_values, test_accs, label='Acurácia teste')\n",
    "plt.xlabel('Raio')\n",
    "plt.ylabel('Acurácia')\n",
    "plt.legend()\n",
    "plt.show()"
   ]
  },
  {
   "cell_type": "markdown",
   "metadata": {},
   "source": [
    "---\n",
    "### Vamos analisar algumas possibilidades para resolver a tarefa proposta\n",
    "---\n",
    "\n",
    "## _k-Nearest Neighbors_ (k-NN)\n",
    "\n",
    "\n",
    "O k-NN é baseado em distâncias, assim como apresentado na aula. Não existe um modelo propriamente dito a ser gerado, por essa razão tal algoritmo é denominado *lazy*. Para cada nova instância de consulta, o algoritmo k-NN procura em sua base de consulta (base de conhecimento, ou conjunto de treinamento) os `k` exemplos mais similares com o novo exemplo recebido. A classe atribuida a esse novo exemplo é aquela que aparece mais vezes dentre os `k` vizinhos mais próximos selecionados (função *moda*).\n",
    "\n",
    "Por ser um algoritmo baseado em distâncias, normalizaremos os valores dos atributos para fiquem no intervalo de `[0, 1]` e, assim, tenham o mesmo \"peso\" no cálculo das distâncias."
   ]
  },
  {
   "cell_type": "code",
   "execution_count": 9,
   "metadata": {},
   "outputs": [
    {
     "data": {
      "image/png": "[encoded data removed]",
      "text/plain": [
       "<Figure size 432x288 with 1 Axes>"
      ]
     },
     "metadata": {
      "needs_background": "light"
     },
     "output_type": "display_data"
    }
   ],
   "source": [
    "from sklearn.neighbors import KNeighborsClassifier\n",
    "from sklearn.preprocessing import MinMaxScaler\n",
    "\n",
    "minmaxs = MinMaxScaler()  # Para normalizar os dados entre 0 e 1\n",
    "\n",
    "X_train_scaled = minmaxs.fit_transform(X_train)\n",
    "X_test_scaled = minmaxs.transform(X_test)\n",
    "\n",
    "train_accs = []\n",
    "test_accs = []\n",
    "\n",
    "k_values = []\n",
    "for k in range(1, 60, 2):\n",
    "    k_values.append(k)\n",
    "    knn = KNeighborsClassifier(n_neighbors = k)\n",
    "    knn.fit(X_train_scaled, y_train)\n",
    "    \n",
    "    train_pred = knn.predict(X_train_scaled)\n",
    "    train_acc = accuracy_score(y_train, train_pred)\n",
    "    train_accs.append(train_acc)\n",
    "    \n",
    "    test_pred = knn.predict(X_test_scaled)\n",
    "    test_acc = accuracy_score(y_test, test_pred)\n",
    "    test_accs.append(test_acc)\n",
    "    \n",
    "plt.plot(k_values, train_accs, label='Acurácia treino')\n",
    "plt.plot(k_values, test_accs, label='Acurácia teste')\n",
    "plt.xlabel('k')\n",
    "plt.ylabel('Acurácia')\n",
    "plt.legend()\n",
    "plt.show()"
   ]
  },
  {
   "cell_type": "markdown",
   "metadata": {},
   "source": [
    "## *Support Vector Machines* (SVM)\n",
    "\n",
    "As SVMs buscam encontrar o melhor hiperplano para separar as classes do problema. A partir do uso de funções de transformação dos dados de entrada (funções *kernel*) são capazes de modelar problemas com fronteiras de separação não lineares. \n",
    "\n",
    "Utilizaremos um kernel não-linear em nossas SVMs. O que iremos fazer aqui é alterar o [parâmetro de regularização](https://stats.stackexchange.com/a/31067) `C` e avaliar como as acurácias de treinamento e teste são afetadas.\n",
    "\n",
    "De forma extremamente simplificada, o hiperparâmetro `C` está ligado à margem em torno do hiperplano encontrado pelas SVMs. Quanto maior seu valor, mais estrita é a margem a ser encontrada. Por outro lado, valores pequenos de `C` farão com que as SVMs busquem hiperplanos com margens de separação maiores, mesmo que alguns exemplos na fronteira de decisão sejam incorretamente classificados."
   ]
  },
  {
   "cell_type": "code",
   "execution_count": 10,
   "metadata": {
    "scrolled": true
   },
   "outputs": [
    {
     "data": {
      "image/png": "[encoded data removed]",
      "text/plain": [
       "<Figure size 432x288 with 1 Axes>"
      ]
     },
     "metadata": {
      "needs_background": "light"
     },
     "output_type": "display_data"
    }
   ],
   "source": [
    "from sklearn.svm import SVC\n",
    "from sklearn.preprocessing import StandardScaler\n",
    "\n",
    "sscaler = StandardScaler()\n",
    "X_train_scaled = sscaler.fit_transform(X_train)\n",
    "X_test_scaled = sscaler.transform(X_test)\n",
    "\n",
    "train_accs = []\n",
    "test_accs = []\n",
    "\n",
    "c_values = []\n",
    "\n",
    "for C in np.linspace(0.05, 0.5, 100):\n",
    "    c_values.append(C)\n",
    "    svc = SVC(kernel='rbf', C=C)\n",
    "    svc.fit(X_train_scaled, y_train)\n",
    "    \n",
    "    train_pred = svc.predict(X_train_scaled)\n",
    "    train_acc = accuracy_score(y_train, train_pred)\n",
    "    train_accs.append(train_acc)\n",
    "    \n",
    "    test_pred = svc.predict(X_test_scaled)\n",
    "    test_acc = accuracy_score(y_test, test_pred)\n",
    "    test_accs.append(test_acc)\n",
    "    \n",
    "plt.plot(c_values, train_accs, label='Acurácia treino')\n",
    "plt.plot(c_values, test_accs, label='Acurácia teste')\n",
    "plt.xlabel('C')\n",
    "plt.ylabel('Acurácia')\n",
    "plt.title('Visualizando underfitting e overfitting em uma SVM')\n",
    "plt.legend()\n",
    "plt.show()"
   ]
  },
  {
   "cell_type": "markdown",
   "metadata": {},
   "source": [
    "## Árvore de decisão (Decision Tree -- DT)\n",
    "\n",
    "\n",
    "_In a Nutshell:_ Árvores de decisão buscam particionar o espaço dos atributos descritivos de modo a isolar regiões homogêneas. Se baseiam na estratégia de \"dividir para conquistar\". As árvores são construídas seguindo uma abordagem _top-down_ , em outras palavras, do nó raiz até as folhas. O atributo com maior capacidade discriminativa é escolhido para ser a raiz.\n",
    "As partições feitas nos atributos de entrada são ortogonais.\n",
    "\n",
    "Dada a simplicidade do conjunto utilizado, retornamos para os dados originais (incluimos todos os exemplos e classes). Podemos observar uma situação de *underfitting*, no entanto, o *overfitting* não é facilmente observável nesse caso."
   ]
  },
  {
   "cell_type": "code",
   "execution_count": 11,
   "metadata": {},
   "outputs": [
    {
     "data": {
      "image/png": "[encoded data removed]",
      "text/plain": [
       "<Figure size 432x288 with 1 Axes>"
      ]
     },
     "metadata": {
      "needs_background": "light"
     },
     "output_type": "display_data"
    }
   ],
   "source": [
    "from sklearn.tree import DecisionTreeClassifier\n",
    "\n",
    "X, y = iris['data'], iris['target']\n",
    "X_train, X_test, y_train, y_test = train_test_split(X, y, test_size=0.4, random_state=0)\n",
    "\n",
    "train_accs = []\n",
    "test_accs = []\n",
    "\n",
    "d_values = []\n",
    "\n",
    "for d in range(1, 9):\n",
    "    d_values.append(d)\n",
    "    dt = DecisionTreeClassifier(max_depth=d, random_state=2)\n",
    "    dt.fit(X_train, y_train)\n",
    "    \n",
    "    train_pred = dt.predict(X_train)\n",
    "    train_acc = accuracy_score(y_train, train_pred)\n",
    "    train_accs.append(train_acc)\n",
    "    \n",
    "    test_pred = dt.predict(X_test)\n",
    "    test_acc = accuracy_score(y_test, test_pred)\n",
    "    test_accs.append(test_acc)\n",
    "    \n",
    "plt.plot(d_values, train_accs, label='Acurácia treino')\n",
    "plt.plot(d_values, test_accs, label='Acurácia teste')\n",
    "plt.xlabel('Profundidade máxima da árvore')\n",
    "plt.ylabel('Acurácia')\n",
    "plt.title('Visualizando underfitting em DTs')\n",
    "plt.legend()\n",
    "plt.show()"
   ]
  }
 ],
 "metadata": {
  "kernelspec": {
   "display_name": "Python 3",
   "language": "python",
   "name": "python3"
  },
  "language_info": {
   "codemirror_mode": {
    "name": "ipython",
    "version": 3
   },
   "file_extension": ".py",
   "mimetype": "text/x-python",
   "name": "python",
   "nbconvert_exporter": "python",
   "pygments_lexer": "ipython3",
   "version": "3.8.2"
  }
 },
 "nbformat": 4,
 "nbformat_minor": 4
}
