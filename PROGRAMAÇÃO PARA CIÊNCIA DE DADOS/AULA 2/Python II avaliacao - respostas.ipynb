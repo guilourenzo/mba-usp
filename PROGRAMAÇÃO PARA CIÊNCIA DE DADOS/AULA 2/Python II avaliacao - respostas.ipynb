{
 "cells": [
  {
   "cell_type": "markdown",
   "metadata": {},
   "source": [
    "# <span style=\"color:blue\"> MBA em Ciência de Dados</span>\n",
    "# <span style=\"color:blue\">Programação para Ciência de Dados</span>\n",
    "\n",
    "## <span style=\"color:blue\">Avaliação Python Parte II</span>\n",
    "**Material Produzido por Luis Gustavo Nonato**<br>\n",
    "**Cemeai - ICMC/USP São Carlos**"
   ]
  },
  {
   "cell_type": "markdown",
   "metadata": {},
   "source": [
    "<font color='red'> As respostas devem ser fornecidas no Moodle. O notebook é apenas para a implementação dos códigos que fornecerão as respostas</font>"
   ]
  },
  {
   "cell_type": "markdown",
   "metadata": {},
   "source": [
    "### Exercício 1) \n",
    "Considere a lista `mat` abaixo, onde cada elemento é também uma lista. A lista correspondendo a cada elemento de `mat` tem como primeiro elemento ao cargo, o segundo elemento o nível de formação e o terceiro o nome de um  funcionário.\n",
    "\n",
    "Utilize comprehension para gerar uma lista chamada `nomes` que contenha o nome dos funcionários que __NÃO__ são doutor. \n",
    "O código correto é para gerar a lista `nomes` é:\n",
    "\n",
    "a) <font color='red'>nomes = [s[2] for s in mat if s[1] != 'doutor']</font><br>\n",
    "b) nomes = [s[1] for s in mat if s[2] != 'doutor']<br>\n",
    "c) nomes = [s for s in mat if s != 'doutor']<br>\n",
    "c) nomes = [s[0] for s in mat if s != 'doutor']"
   ]
  },
  {
   "cell_type": "code",
   "execution_count": 1,
   "metadata": {},
   "outputs": [
    {
     "name": "stdout",
     "output_type": "stream",
     "text": [
      "['Carlos', 'Lucas', 'Alberto', 'Ricardo', 'Fernando']\n"
     ]
    }
   ],
   "source": [
    "mat = [\n",
    "    ['supervisor', 'tecnico', 'Carlos'],\n",
    "    ['assistente', 'tecnico', 'Lucas'],\n",
    "    ['iniciante', 'doutor', 'Jeremias'],\n",
    "    ['supervisor', 'mestre', 'Alberto'],\n",
    "    ['gerente', 'graduado', 'Ricardo'],\n",
    "    ['engenheiro', 'graduado', 'Fernando'],\n",
    "]\n",
    "\n",
    "nomes = [s[2] for s in mat if s[1] != 'doutor' ]\n",
    "print(nomes)"
   ]
  },
  {
   "cell_type": "markdown",
   "metadata": {},
   "source": [
    "### Exercício 2)\n",
    "Ainda utilizando a lista `mat` do exercício anterior e comprehension, crie um dicionário da forma `nome:(cargo, area)`, ou seja, as chaves são os _nomes_ e os valores uma tupla com o par (_cargo_, _nível de formação_). No dicionário produzido, o valor associado à chave 'Carlos' será:\n",
    "\n",
    "a) <font color='red'>('supervisor', 'tecnico')</font><br>\n",
    "b) ('tecnico', 'assistente')<br>\n",
    "c) ('supervisor', 'mestre')<br>\n",
    "d) ('mestre','supervisor')"
   ]
  },
  {
   "cell_type": "code",
   "execution_count": 5,
   "metadata": {},
   "outputs": [
    {
     "name": "stdout",
     "output_type": "stream",
     "text": [
      "Carlos: ('supervisor', 'tecnico')\n",
      "{'Carlos': ('supervisor', 'tecnico'), 'Lucas': ('assistente', 'tecnico'), 'Jeremias': ('iniciante', 'doutor'), 'Alberto': ('supervisor', 'mestre'), 'Ricardo': ('gerente', 'graduado'), 'Fernando': ('engenheiro', 'graduado')}\n"
     ]
    }
   ],
   "source": [
    "dc = {s[2]:(s[0],s[1]) for s in mat}\n",
    "print('Carlos:',dc['Carlos'])\n",
    "print(dc)"
   ]
  },
  {
   "cell_type": "markdown",
   "metadata": {},
   "source": [
    "### Exercício 3) \n",
    "A função `variacoes` descrita abaixo \n",
    "```python\n",
    "def variacoes(s):\n",
    "    dc = {______________}\n",
    "    return(dc)\n",
    "```\n",
    "recebe uma 'string' como parâmetro e gera um dicionário como resposta, onde as chaves do dicionário são todas as variações da string com um caracter removido, sendo o valor associado a cada chave a string original. Por exemplo:\n",
    "```python\n",
    "print(variacoes('casa'))\n",
    "```\n",
    "deve resultar em:\n",
    "```python\n",
    "{'asa': 'casa', 'csa': 'casa', 'caa': 'casa', 'cas': 'casa'}\n",
    "```\n",
    "\n",
    "Qual das alternativas abaixo completa corretamente a função?\n",
    "\n",
    "a) {s[0]+s[1] for s in range(len(s))}<br>\n",
    "b) {s[:i]+s[i+1:]:i for i in s}<br>\n",
    "c) {s[0:i]+s[i+1:]:s for i in len(s)}<br>\n",
    "d) <font color='red'> {s[0:i]+s[i+1:]:s for i in range(len(s))} </font>"
   ]
  },
  {
   "cell_type": "code",
   "execution_count": 18,
   "metadata": {},
   "outputs": [
    {
     "name": "stdout",
     "output_type": "stream",
     "text": [
      "{'asamento': 'casamento', 'csamento': 'casamento', 'caamento': 'casamento', 'casmento': 'casamento', 'casaento': 'casamento', 'casamnto': 'casamento', 'casameto': 'casamento', 'casameno': 'casamento', 'casament': 'casamento'}\n"
     ]
    }
   ],
   "source": [
    "def variacoes(s):\n",
    "    dc = {s[0:i]+s[i+1:]:s for i in range(len(s))}\n",
    "    return(dc)\n",
    "\n",
    "print(variacoes('casamento')) "
   ]
  },
  {
   "cell_type": "markdown",
   "metadata": {},
   "source": [
    "### Exercício 4) \n",
    "O método <font color='blue'>sorted</font> assume como parâmetos uma sequência e um parâmetro `key` que pode ser uma função, a qual é aplicada aos elementos da lista a fim de ordená-los de acordo com os valores resutantes da função.\n",
    "Utilize uma função <font color='blue'>lambda</font> como parâmetro para método <font color='blue'>sorted</font> para ordenar os elementos de uma lista como se estes fossem da forma $(x+0.5)^2$.\n",
    "\n",
    "O resultado da função construída quando aplicada à lista \n",
    "```python\n",
    "[0.11, -0.11, 0.4, 0.11, -0.57, -0.05, 0.85, -0.27, -0.07, -0.78]\n",
    "```\n",
    "será:\n",
    "\n",
    "a) [-0.78, -0.57, -0.27, -0.11, -0.07, -0.05, 0.11, 0.11, 0.4, 0.85]<br>\n",
    "b) <font color='red'>[-0.57, -0.27, -0.78, -0.11, -0.07, -0.05, 0.11, 0.11, 0.4, 0.85]</font><br>\n",
    "c) [-0.05, -0.07, 0.11, -0.11, 0.11, -0.27, 0.4, -0.57, -0.78, 0.85]<br>\n",
    "d) [-0.05, 0.11, -0.07, -0.11, 0.11, -0.27, 0.4, -0.57, -0.78, 0.85]"
   ]
  },
  {
   "cell_type": "code",
   "execution_count": 5,
   "metadata": {},
   "outputs": [
    {
     "name": "stdout",
     "output_type": "stream",
     "text": [
      "[-0.57, -0.27, -0.78, -0.11, -0.07, -0.05, 0.11, 0.11, 0.4, 0.85]\n"
     ]
    }
   ],
   "source": [
    "l = [0.11, -0.11, 0.4, 0.11, -0.57, -0.05, 0.85, -0.27, -0.07, -0.78]\n",
    "print(sorted(l,key=lambda x:(x+0.5)**2))\n"
   ]
  },
  {
   "cell_type": "markdown",
   "metadata": {},
   "source": [
    "### Exercício 5) \n",
    "Construa uma função `concatena_dicionarios` que recebe dois dicionários como parâmetros e concatena ambos em um único dicionário contendo as chaves e valores dos dois dicionários. Se a chave se repete em ambos, junte os valores em uma lista. Por exemplo, dados os dicionários:\n",
    "```python\n",
    "dc1 = {1: '5479', 5: '1479', 7: '1549', 9: '1547'}\n",
    "dc2 = {5: '2647', 2: '9647', 1: '9247'}\n",
    "```\n",
    "a função deve resultar no dicionário\n",
    "```python\n",
    "{1: ['5479', '9247'], 7: '1549', 5: ['1479', '2647'], 9: '1547', 2: '9647'}\n",
    "```\n",
    "Supondo os dicionários:\n",
    "```python\n",
    "dc1 = {4: '10153', 18: '41118', 2: '101515', 15: '354', 7: '4145', 8: '10316', 3: '121016', \n",
    "       11: '15122', 12: '16158', 10: '4188', 14: '15318', 5: '11711', 16: '181412'}\n",
    "\n",
    "dc2 = {19: '16619', 4: '11310', 18: '171112', 11: '171817', 12: '171911', 6: '4195', \n",
    "       5: '171910', 3: '10310', 16: '191916', 10: '111619', 17: '51016'}\n",
    "```\n",
    "como entrada para a função construída, quais serão os valores associados as chaves 3 e 18?\n",
    "\n",
    "a) valor da chave 3 = ['16158', '171911']; valor da chave 18 = ['15122', '171817']<br>\n",
    "b) valor da chave 3 = ['10153', '11310']; valor da chave 18 = '41118'<br>\n",
    "c) <font color='red'>valor da chave 3 = ['121016', '10310']; valor da chave 18 = ['41118', '171112']</font><br>\n",
    "d) valor da chave 3 = ['4188', '111619']; valor da chave 18 = ['181412', '191916']"
   ]
  },
  {
   "cell_type": "code",
   "execution_count": 4,
   "metadata": {},
   "outputs": [
    {
     "name": "stdout",
     "output_type": "stream",
     "text": [
      "['121016', '10310'] ['41118', '171112']\n",
      "[(2, '101515'), (3, ['121016', '10310']), (4, ['10153', '11310']), (5, ['11711', '171910']), (6, '4195'), (7, '4145'), (8, '10316'), (10, ['4188', '111619']), (11, ['15122', '171817']), (12, ['16158', '171911']), (14, '15318'), (15, '354'), (16, ['181412', '191916']), (17, '51016'), (18, ['41118', '171112']), (19, '16619')]\n"
     ]
    }
   ],
   "source": [
    "# import numpy as np\n",
    "# n1 = 25\n",
    "# c1 = np.random.randint(0,20,n1)\n",
    "# dc1 = {c1[i]:''.join(str(c) for c in np.random.choice(c1,size=3)) for i in range(n1)}\n",
    "# print(dc1)\n",
    "\n",
    "# n2 = 20\n",
    "# c2 = np.random.randint(0,20,n2)\n",
    "# dc2 = {c2[i]:''.join(str(c) for c in np.random.choice(c2,size=3)) for i in range(n2)}\n",
    "# print(dc2)\n",
    "\n",
    "def concatena_dicionarios(d1,d2):\n",
    "    dr = d1\n",
    "    for k,v in d2.items():\n",
    "        if k in d1:\n",
    "            dr[k] = [dr[k],v]\n",
    "        else:\n",
    "            dr[k] = v\n",
    "    return(dr)\n",
    "\n",
    "dc1 = {4: '10153', 18: '41118', 2: '101515', 15: '354', 7: '4145', 8: '10316', 3: '121016', \n",
    " 11: '15122', 12: '16158', 10: '4188', 14: '15318', 5: '11711', 16: '181412'}\n",
    "dc2 = {19: '16619', 4: '11310', 18: '171112', 11: '171817', 12: '171911', 6: '4195', \n",
    "       5: '171910', 3: '10310', 16: '191916', 10: '111619', 17: '51016'}\n",
    "\n",
    "dc12 = concatena_dicionarios(dc1,dc2)\n",
    "print(dc12[3],dc12[18])\n",
    "print(sorted(dc12.items()))\n"
   ]
  }
 ],
 "metadata": {
  "kernelspec": {
   "display_name": "Python 3",
   "language": "python",
   "name": "python3"
  },
  "language_info": {
   "codemirror_mode": {
    "name": "ipython",
    "version": 3
   },
   "file_extension": ".py",
   "mimetype": "text/x-python",
   "name": "python",
   "nbconvert_exporter": "python",
   "pygments_lexer": "ipython3",
   "version": "3.7.1"
  }
 },
 "nbformat": 4,
 "nbformat_minor": 2
}
