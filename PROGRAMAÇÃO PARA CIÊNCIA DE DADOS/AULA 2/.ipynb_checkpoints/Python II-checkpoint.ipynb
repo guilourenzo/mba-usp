{
 "cells": [
  {
   "cell_type": "markdown",
   "metadata": {},
   "source": [
    "# <span style=\"color:blue\"> MBA em Ciência de Dados</span>\n",
    "# <span style=\"color:blue\">Programação para Ciência de Dados</span>\n",
    "\n",
    "## <span style=\"color:blue\">Python Parte II</span>\n",
    "**Material Produzido por Luis Gustavo Nonato**<br>\n",
    "**Cemeai - ICMC/USP São Carlos**"
   ]
  },
  {
   "cell_type": "markdown",
   "metadata": {},
   "source": [
    "---\n",
    "__Conteúdo:__\n",
    "- Referências\n",
    "- Operações\n",
    "- Comprehensions\n",
    "- Funções e parâmetros\n",
    "\n",
    "__Referencias:__\n",
    "- Mark Lutz, Learning Python, O'Reilly, 2013\n",
    "- Eric Matthes, Python Crash Course: A Hands-On, Project-Based Introduction to Programming, No Starch Press, 2015"
   ]
  },
  {
   "cell_type": "markdown",
   "metadata": {},
   "source": [
    "---\n",
    "## Referências \n",
    "\n",
    "Uma atribuição feita a uma variável gera uma referência a um endereço de memória. Por exemplo:\n",
    "```python\n",
    "x = [3.1]\n",
    "y = x\n",
    "```\n",
    "No exemplo acima, a variável `x` é uma referência para o endereço de memória onde uma lista contendo o número `3.1` está armazenda.\n",
    "Quando atribuimos  `y=x` as variáves `x` e `y` fazem referência para o mesmo endereço de memória. Desta forma, se a lista for modificada ambas as variáveis `x` e `y` são afetadas. "
   ]
  },
  {
   "cell_type": "code",
   "execution_count": 5,
   "metadata": {},
   "outputs": [
    {
     "name": "stdout",
     "output_type": "stream",
     "text": [
      "x e y referenciam o mesmo endenreço de memória\n",
      "4406252488\n",
      "4406252488\n"
     ]
    }
   ],
   "source": [
    "# ilustrando referência a endereços de memória \n",
    "x = [3.1]\n",
    "y = x\n",
    "\n",
    "# o comando id() mostra o endereço de memória referenciado pela variávial\n",
    "print(\"x e y referenciam o mesmo endenreço de memória\")\n",
    "print(id(x))\n",
    "print(id(y))"
   ]
  },
  {
   "cell_type": "code",
   "execution_count": 6,
   "metadata": {},
   "outputs": [
    {
     "name": "stdout",
     "output_type": "stream",
     "text": [
      "[3.1, 5.3]\n",
      "[3.1, 5.3]\n"
     ]
    }
   ],
   "source": [
    "y.append(5.3) # adionamos um novo valor a lista via variável y\n",
    "# como x e y fazem referência ao mesmo endereço de memória, a lista fica alterada para ambos, muito embora não \n",
    "# se tenha operado sobre x\n",
    "print(x) \n",
    "print(y)"
   ]
  },
  {
   "cell_type": "markdown",
   "metadata": {},
   "source": [
    "A situação é diferente porém quando se manipula elementos imutáveis.\n",
    "Números _inteiros_ ou _reais_, assim como _strings_ e _tuplas_, são imutáveis.\n",
    "\n",
    "Quando se atribui um elemento imutável a uma variável, a referência ao endereço de memória onde o imutável está armazenado se torna fixa. \n",
    "Se modificarmos a variável por meio de qualquer operação, um novo valor é gerado em outra posição da memória. "
   ]
  },
  {
   "cell_type": "code",
   "execution_count": 3,
   "metadata": {},
   "outputs": [
    {
     "name": "stdout",
     "output_type": "stream",
     "text": [
      "Endereco onde o numero 3 esta armazenado 4365812912\n",
      "Endereco onde o resultado de x+1 esta armazenado 4365812944\n"
     ]
    }
   ],
   "source": [
    "x = 3   # x faz referência ao endereço de memória onde o número 3 está armazenado\n",
    "print('Endereco onde o numero 3 esta armazenado:',id(x))\n",
    "x = x+1 # a operação + resulta no número 4, que é armazenado em um novo endereço de memória\n",
    "print('Endereco onde o resultado de x+1 esta armazenado:',id(x)) "
   ]
  },
  {
   "cell_type": "markdown",
   "metadata": {},
   "source": [
    "No exemplo acima, a atribuição\n",
    "```python\n",
    "x = 3\n",
    "```\n",
    "cria o número inteiro (imutável) 3, armazena-o em um endereço de memória, e cria, na variável `x`, uma referência a tal endereço. Quando a operação \n",
    "```python\n",
    "x = x+1\n",
    "```\n",
    "é executada, o valor 3 referenciado por `x` é recuperado, adicionado 1 e o resultado 4 é colocado em um novo endereço de memória, fazendo que `x` referêncie o endereço onde a constante 4 está armazenada.\n"
   ]
  },
  {
   "cell_type": "markdown",
   "metadata": {},
   "source": [
    "## Operações em elementos tipo sequências"
   ]
  },
  {
   "cell_type": "markdown",
   "metadata": {},
   "source": [
    "Operações binárias como <font color='blue'>'+'</font>, <font color='blue'>'-'</font> e <font color='blue'>'*'</font>\n",
    "podem ser aplicadas à sequências, como visto anteriormente. Porém, existem outras operação binárias importantes:"
   ]
  },
  {
   "cell_type": "markdown",
   "metadata": {},
   "source": [
    "### <span style=\"color:blue\">\"in\"</span>\n",
    "- Verifica se um valor está em uma sequência\n",
    "- Testa substrings em strings \n",
    "- Verifica se valor é uma chave de um dicionário\n",
    "- Pode ser combinada com <span style=\"color:blue\">\"not\"</span> para verificar se o valor, substring, ou chave  NÃO está presente"
   ]
  },
  {
   "cell_type": "code",
   "execution_count": 6,
   "metadata": {},
   "outputs": [
    {
     "name": "stdout",
     "output_type": "stream",
     "text": [
      "True\n",
      "False\n",
      "False\n",
      "True\n"
     ]
    }
   ],
   "source": [
    "t = [1,2,3,4,5]\n",
    "print(3 in t)\n",
    "print(7 in t)\n",
    "print(3 not in t)\n",
    "print(7 not in t)"
   ]
  },
  {
   "cell_type": "code",
   "execution_count": 7,
   "metadata": {},
   "outputs": [
    {
     "name": "stdout",
     "output_type": "stream",
     "text": [
      "True\n",
      "False\n",
      "True\n"
     ]
    }
   ],
   "source": [
    "s = 'abcde'\n",
    "print('cd' in s)\n",
    "print('acd' in s)\n",
    "print('acd' not in s)"
   ]
  },
  {
   "cell_type": "code",
   "execution_count": 9,
   "metadata": {},
   "outputs": [
    {
     "name": "stdout",
     "output_type": "stream",
     "text": [
      "True\n",
      "False\n"
     ]
    }
   ],
   "source": [
    "d = {'Brasil' : 1, 'Espanha' : 0}\n",
    "print('Brasil' in d)\n",
    "print('Espanha' not in d)"
   ]
  },
  {
   "cell_type": "markdown",
   "metadata": {},
   "source": [
    "__Atenção__:\n",
    "o perador <font color='blue'>'in'</font> também é usado em loops <font color='blue'>'for'</font>, porém, com uma conotação diferente."
   ]
  },
  {
   "cell_type": "markdown",
   "metadata": {},
   "source": [
    "### <span style=\"color:blue\">\"+\"</span>\n",
    "- O operador <font color='blue'>'+'</font> produz uma nova sequência que concatena os argumentos\n"
   ]
  },
  {
   "cell_type": "code",
   "execution_count": 10,
   "metadata": {},
   "outputs": [
    {
     "name": "stdout",
     "output_type": "stream",
     "text": [
      "4407084232\n",
      "(1, 2, 3, 4, 5, 6)\n",
      "4405973256\n"
     ]
    }
   ],
   "source": [
    "a = (1,2,3)\n",
    "print(id(a))\n",
    "b = (4,5,6)\n",
    "a = a+b\n",
    "print(a)\n",
    "print(id(a)) # note que como a tupla (1,2,3) é imutável, o resultado de a+b é alocado em novo endereço de memória"
   ]
  },
  {
   "cell_type": "code",
   "execution_count": 11,
   "metadata": {},
   "outputs": [
    {
     "name": "stdout",
     "output_type": "stream",
     "text": [
      "[1, 2, 3, 4, 5, 6]\n",
      "helloworld\n"
     ]
    }
   ],
   "source": [
    "print([1,2,3]+[4,5,6])\n",
    "print('hello'+'world')"
   ]
  },
  {
   "cell_type": "markdown",
   "metadata": {},
   "source": [
    "### <span style=\"color:blue\">\"*\"</span>\n",
    "O operador <span style=\"color:blue\">'*'</span> assume como argumentos um número inteiro e uma sequência\n",
    "- por exemplo: \n",
    "```python\n",
    "3 * [1,2,3] \n",
    "5 * \"---\" \n",
    "(1,2) * 3\n",
    "```\n",
    "- produz uma nova sequência com elementos replicados o número de vezes indicado pelo argumento inteiro"
   ]
  },
  {
   "cell_type": "code",
   "execution_count": 12,
   "metadata": {},
   "outputs": [
    {
     "name": "stdout",
     "output_type": "stream",
     "text": [
      "(1, 2, 3, 1, 2, 3, 1, 2, 3)\n",
      "[1, 2, 3, 1, 2, 3]\n",
      "ababababab\n"
     ]
    }
   ],
   "source": [
    "print(3*(1,2,3))\n",
    "print([1,2,3]*2)\n",
    "print(5*'ab')"
   ]
  },
  {
   "cell_type": "markdown",
   "metadata": {},
   "source": [
    "### Operações exclusivas de listas\n",
    "Listas possuem operadores (métodos) próprios para inserção e concatenação. Existem basicamente 3 métodos, os quais funcionam de forma diferente:\n",
    "- <span style=\"color:blue\">'append'</span>: insere um elemento no final da lista \n",
    "- <span style=\"color:blue\">'insert'</span>: insere um elemento em uma posição indicada \n",
    "- <span style=\"color:blue\">'extend'</span>: concatena listas"
   ]
  },
  {
   "cell_type": "code",
   "execution_count": 13,
   "metadata": {},
   "outputs": [
    {
     "name": "stdout",
     "output_type": "stream",
     "text": [
      "[1, 2, 3, 4, 5, 'a']\n",
      "[1, 'b', 2, 3, 4, 5, 'a']\n",
      "[1, 'b', 2, 3, 4, 5, 'a', 'c', 'd']\n",
      "[1, 'b', 2, 3, 4, 5, 'a', 'c', 'd', [2, 3]]\n"
     ]
    }
   ],
   "source": [
    "lst = [1,2,3,4,5]\n",
    "lst.append('a') # insere novo elemento ao final da lista\n",
    "print(lst)\n",
    "lst.insert(1,'b') # insere novo elemento na posição 1 da lista (lembre-se que o primeiro elemento esta na posição 0)\n",
    "print(lst)\n",
    "lst.extend(['c','d']) # concatena os elementos de uma outra lista no final da lista que chama o método\n",
    "print(lst)\n",
    "lst.append([2,3]) # neste caso a lista [2,3] é inserida no final de lst (não realiza concatenação)\n",
    "print(lst)"
   ]
  },
  {
   "cell_type": "code",
   "execution_count": 25,
   "metadata": {},
   "outputs": [
    {
     "name": "stdout",
     "output_type": "stream",
     "text": [
      "[0, 1, 2, 3, 4, 5, 6, 7, 8, 9]\n",
      "[0, 1, 2, 3, 4, 5, 6, 7, 8, 9, 'a']\n",
      "[0, 1, 2, 3, 4, 5, 6, 7, 8, 9, 'a', ['a']]\n",
      "[0, 1, 2, 3, 4, 5, 6, 7, 8, 9, 'a', ['a', 'b']]\n",
      "[0, 1, 2, 3, 4, 5, 6, 7, 8, 9, 'a', ['a', 'b'], 'c', 'd']\n"
     ]
    }
   ],
   "source": [
    "l = list(range(10)) # o comendo 'range' gera números entre 0 e 9, \n",
    "                    # que são armazenados em uma lista pelo comando 'list'\n",
    "print(l)\n",
    "l.append('a') # adiciona 'a' no final da lista l\n",
    "print(l)\n",
    "l.append(['a']) # adiciona a lista ['a'] no final da lista l\n",
    "print(l)\n",
    "l[-1].append('b') # l[-1] corresponde ao último elemento da lista l\n",
    "                  # que corresponde a lista ['a'], inserindo o elemento 'b' a esta lista\n",
    "print(l)\n",
    "l.extend(['c','d']) # concatena a lista ['c','d'] no final da lista l\n",
    "print(l)"
   ]
  },
  {
   "cell_type": "markdown",
   "metadata": {},
   "source": [
    "__Atenção:__\n",
    "- <font color='blue'>'extend'</font> usa a lista em questão enquanto o operador `+` cria uma nova lista\n",
    "- <font color='blue'>'extend'</font> assume uma LISTA como argumento enquanto `append` assume um elemento como argumento (o elemento pode ser uma outra lista)"
   ]
  },
  {
   "cell_type": "markdown",
   "metadata": {},
   "source": [
    "Outras métodos importantes para operar listas são:\n",
    "- <span style=\"color:blue\">'index'</span>: encontra a posição na lista da primeira ocorência de um dado elemento \n",
    "- <span style=\"color:blue\">'count'</span>: conta o número de ocorrências de um dado elemento\n",
    "- <span style=\"color:blue\">'reverse'</span>: reverte a ordem dos elementos na lista, modificando a lista original\n",
    "- <span style=\"color:blue\">'sort'</span>: ordena os elementos na lista, modificando a lista original"
   ]
  },
  {
   "cell_type": "code",
   "execution_count": 17,
   "metadata": {},
   "outputs": [
    {
     "name": "stdout",
     "output_type": "stream",
     "text": [
      "Posicao da primeira ocorrencia de 'b':  1\n",
      "Numero de ocorrencias de 'b':  3\n",
      "Elementos ordenados: ['e', 'c', 'b', 'b', 'b', 'a']\n",
      "Lista ordenada em ordem reversa:  ['a', 'b', 'b', 'b', 'c', 'e']\n"
     ]
    }
   ],
   "source": [
    "xst = ['a', 'b', 'c', 'b','e','b']\n",
    "index = xst.index('b') # encontra o indice da primeira ocorrência\n",
    "print(\"Posicao da primeira ocorrencia de 'b': \",index)\n",
    "count = xst.count('b') # conta o numero de ocorrências\n",
    "print(\"Numero de ocorrencias de 'b': \",count) \n",
    "\n",
    "xst.sort(reverse=True) # ordena os elementos da lista do maior para o menor \n",
    "print(\"Elementos ordenados:\",xst)\n",
    "\n",
    "xst.reverse() # reverte a ordem dos elementos na lista\n",
    "print(\"Lista ordenada em ordem reversa: \",xst)"
   ]
  },
  {
   "cell_type": "markdown",
   "metadata": {},
   "source": [
    "__Atenção:__ Todas as operações _sort_ e _reverse_ são _\"in place\"_ (modificam a lista) "
   ]
  },
  {
   "cell_type": "markdown",
   "metadata": {},
   "source": [
    "Os principais métodos para remover elementos de uma lista são:\n",
    "- <span style=\"color:blue\">'remove'</span>: remove a primeira ocorrência do elemento na lista\n",
    "- <span style=\"color:blue\">'pop'</span>: remove o último elemento da lista \n",
    "- <span style=\"color:blue\">'del'</span>: remove elemento de uma posição específica. Se nenhuma posição é especificada, toda a lista é removida da memória"
   ]
  },
  {
   "cell_type": "code",
   "execution_count": 20,
   "metadata": {},
   "outputs": [
    {
     "name": "stdout",
     "output_type": "stream",
     "text": [
      "Lista com a primeira ocorrencia de 'b' removida:  ['a', 'c', 'b', 'e', 'b']\n",
      "Elemento da posição 1 (neste caso 'c') removido:  ['a', 'b', 'e', 'b']\n",
      "Ultimo elemento (neste caso 'b') removido:  ['a', 'b', 'e']\n"
     ]
    }
   ],
   "source": [
    "xst = ['a', 'b', 'c', 'b','e','b']\n",
    "xst.remove('b') # remove primeira ocorrencia e 'b'\n",
    "print(\"Lista com a primeira ocorrencia de 'b' removida: \",xst)\n",
    "\n",
    "del xst[1] # remove elemento da posição 1\n",
    "print(\"Elemento da posição 1 (neste caso 'c') removido: \",xst)\n",
    "\n",
    "xst.pop() # remove ultimo elemento da lista\n",
    "print(\"Ultimo elemento (neste caso 'b') removido: \",xst)"
   ]
  },
  {
   "cell_type": "markdown",
   "metadata": {},
   "source": [
    "### Operadores nativos do python que operam em sequências\n",
    "A linguagem Python possui operadores que podem ser empregados em sequencias:\n",
    "- <span style=\"color:blue\">'sorted'</span>: ordena os elementos da sequência, gerando uma nova sequência (não afeta a sequência original)\n",
    "- <span style=\"color:blue\">'max'</span>: retorna o maior elemento da sequência\n",
    "- <span style=\"color:blue\">'min'</span>: retorna o menor elemento da sequência"
   ]
  },
  {
   "cell_type": "code",
   "execution_count": 24,
   "metadata": {},
   "outputs": [
    {
     "name": "stdout",
     "output_type": "stream",
     "text": [
      "Sequencia ordenanda:  ['a', 'a', 'd', 'd', 'e', 'i', 'k', 'l', 'm', 'm', 'o', 't', 'z']\n",
      "Sequencia original:  adeakziomltmd\n",
      "Sequencia ordenada no formato string:  aaddeiklmmotz\n",
      "Maior elemento:  z\n",
      "Menor elemento:  a\n"
     ]
    }
   ],
   "source": [
    "seq = 'adeakziomltmd'\n",
    "\n",
    "seq_ordenada_lista = sorted(seq) # ordena a sequência de caracteres e salve em uma nova variavel. \n",
    "                           # A saida do método é a sequência armazenada em uma lista.\n",
    "                           # A sequencia original não é afetada\n",
    "print('Sequencia ordenanda: ', seq_ordenada_lista) \n",
    "print('Sequencia original: ', seq)\n",
    "\n",
    "# Convertendo uma lista em uma sequência de caracteres\n",
    "seq_ordenada =''.join(seq_ordenada_lista)  # o comando join contatena elementos em uma string utilizando um separador.\n",
    "                                           # Neste caso o separador nao é fornecido.\n",
    "                                           # O simbolo '' significa que nenhum separador é fornecido.\n",
    "                                           # Rode o comando com '*'.join(seq_ordenada_lista) e veja o resultado\n",
    "print(\"Sequencia ordenada no formato string: \",seq_ordenada)\n",
    "\n",
    "seq_max = max(seq)  # retorna o maior elemento da sequência\n",
    "print('Maior elemento: ', seq_max)\n",
    "seq_min = min(seq)  # retorna o menor elemento da sequência\n",
    "print('Menor elemento: ', seq_min)"
   ]
  },
  {
   "cell_type": "markdown",
   "metadata": {},
   "source": [
    "---\n",
    "## Comprehension\n",
    "\n",
    "<span style=\"color:blue\">Comprehension</span> é um recurso fundamental do Python que permite construir aplicar uma expressão para cada item em um sequência de forma bastante eficiente. A sintaxe de um comprehension é:\n",
    "```python\n",
    "lista = [expressao for variavel_local in objeto]\n",
    "```\n",
    "O resultado do comando acima é equivalente a:\n",
    "```python\n",
    "lista=[]\n",
    "for variavel_local in objeto:\n",
    "    lista.append(expressao)\n",
    "```\n",
    "Porém, o comprehension é executado pelo Python de forma muito mais eficiente. Typicamente se emprega um comprehension para construir uma lista ou um dicionário."
   ]
  },
  {
   "cell_type": "code",
   "execution_count": 26,
   "metadata": {},
   "outputs": [
    {
     "name": "stdout",
     "output_type": "stream",
     "text": [
      "[81, 64, 49, 36, 25, 16, 9, 4, 1, 0, 1, 4, 9, 16, 25, 36, 49, 64, 81]\n"
     ]
    }
   ],
   "source": [
    "cst = [i**2 for i in range(-9,10)] # O comando range(-9,10) gera números entre -9 e 9\n",
    "                                   # o comprehension pega cada número, eleva ao quadrado (i**2)\n",
    "                                   # e armazena em uma lista, que é referenciada pela variavel cst\n",
    "print(cst)"
   ]
  },
  {
   "cell_type": "markdown",
   "metadata": {},
   "source": [
    "Comprehension é mais eficiente do que um laço <font color='blue'>'for'</font>. <br>\n",
    "Compare o tempo de processamento das duas células abaixo analisando o resultado da função  <font color='blue'>'%%timeit'</font><br>\n",
    "Uma documentação de como o <font color='blue'>'%%timeit'</font> funciona pode ser encontrada [aqui](https://jakevdp.github.io/PythonDataScienceHandbook/01.07-timing-and-profiling.html)"
   ]
  },
  {
   "cell_type": "code",
   "execution_count": 33,
   "metadata": {},
   "outputs": [
    {
     "name": "stdout",
     "output_type": "stream",
     "text": [
      "53.5 µs ± 1.44 µs per loop (mean ± std. dev. of 7 runs, 10000 loops each)\n"
     ]
    }
   ],
   "source": [
    "%%timeit   # timeit é uma funcao utilizada para medir o tempo de processamento de uma célulo do jupyter notebook\n",
    "cst = [i**2 for i in range(-100,100)]"
   ]
  },
  {
   "cell_type": "code",
   "execution_count": 34,
   "metadata": {},
   "outputs": [
    {
     "name": "stdout",
     "output_type": "stream",
     "text": [
      "60.7 µs ± 1.05 µs per loop (mean ± std. dev. of 7 runs, 10000 loops each)\n"
     ]
    }
   ],
   "source": [
    "%%timeit\n",
    "cst = []\n",
    "for i in range(-100,100):\n",
    "    cst.append(i**2)"
   ]
  },
  {
   "cell_type": "markdown",
   "metadata": {},
   "source": [
    "### Comprehension com Filtragem\n",
    "Comprehension também pode ser empregada em conjunto com estruturas de decisão <font color='blue'>'if'</font>. A sintaxe neste caso se torna.\n",
    "```python\n",
    "variavel = [expressao for variavel_local in objeto if condicao]\n",
    "```\n",
    "O resultado do comando acima é equivalente a:\n",
    "```python\n",
    "variavel=[]\n",
    "for variavel_local in objeto:\n",
    "    if condicao:\n",
    "        variavel.append(expressao)\n",
    "```"
   ]
  },
  {
   "cell_type": "code",
   "execution_count": 19,
   "metadata": {},
   "outputs": [
    {
     "name": "stdout",
     "output_type": "stream",
     "text": [
      "[81, 49, 25, 9, 1, 1, 9, 25, 49, 81]\n"
     ]
    }
   ],
   "source": [
    "l = [x**2 for x in range(-10,10) if x%2 != 0] # Cada número entre -10 e 9 é elevado ao quadrado e inserido na lista \n",
    "                                              # Porém, apenas números ímpares são selecionados devido\n",
    "                                              # a condição if x%2 != 0\n",
    "print(l)"
   ]
  },
  {
   "cell_type": "markdown",
   "metadata": {},
   "source": [
    "__OBS__: A <font color='blue'>'if'</font> funciona como filtro. \n",
    "\n",
    "Quando uma declaração do tipo <font color='blue'>'if' 'else'</font> precisa ser usada, ela deve ser inserida antes do laço <font color='blue'>'for'</font>"
   ]
  },
  {
   "cell_type": "code",
   "execution_count": 23,
   "metadata": {},
   "outputs": [
    {
     "name": "stdout",
     "output_type": "stream",
     "text": [
      "[0, 81, 0, 49, 0, 25, 0, 9, 0, 1, 0, 1, 0, 9, 0, 25, 0, 49, 0, 81]\n"
     ]
    }
   ],
   "source": [
    "l = [x**2  if x%2 != 0 else 0 for x in range(-10,10)] # impares intercalados com zero\n",
    "print(l)"
   ]
  },
  {
   "cell_type": "markdown",
   "metadata": {},
   "source": [
    "### Comprehension com Laços Encapsulados (Nested Loops)\n",
    "Pode-se empregar comprehension com laços <font color='blue'>'for'</font> encapsulados um dentro do outro. Neste caso a sintaxe se torna:\n",
    "```python\n",
    "lista = [expressao for variavel_local1 in objeto1 if condicao1\n",
    "\t\t\t\t\tfor variavel_local2 in objeto2 if condicao2]\n",
    "```\n",
    "O resultado do comando acima é equivalente a:\n",
    "```python\n",
    "lista=[]\n",
    "for variavel_local1 in objeto1:\n",
    "    if condicao1:\n",
    "        for variavel_local2 in objeto2:\n",
    "            if condicao2:\n",
    "                lista.append(expressao)\n",
    "```"
   ]
  },
  {
   "cell_type": "code",
   "execution_count": 35,
   "metadata": {},
   "outputs": [
    {
     "name": "stdout",
     "output_type": "stream",
     "text": [
      "[1, 2, 3, 3, 4, 5, 4, 5, 6, 7, 5, 6, 7, 8, 9, 6, 7, 8, 9, 10, 11, 7, 8, 9, 10, 11, 12, 13, 8, 9, 10, 11, 12, 13, 14, 15, 9, 10, 11, 12, 13, 14, 15, 16, 17]\n"
     ]
    }
   ],
   "source": [
    "l = [x+y for x in range(-10,10) for y in range(10) if y < x] # inclui na lista a soma de x+y somente se y<x\n",
    "                                                             # para x variando entre -10 e 9 e y entre 0 e 9\n",
    "print(l)"
   ]
  },
  {
   "cell_type": "code",
   "execution_count": 36,
   "metadata": {},
   "outputs": [
    {
     "name": "stdout",
     "output_type": "stream",
     "text": [
      "[1, 2, 3, 3, 4, 5, 4, 5, 6, 7, 5, 6, 7, 8, 9, 6, 7, 8, 9, 10, 11, 7, 8, 9, 10, 11, 12, 13, 8, 9, 10, 11, 12, 13, 14, 15, 9, 10, 11, 12, 13, 14, 15, 16, 17]\n"
     ]
    }
   ],
   "source": [
    "# codigo equivalente ao comprehension acima\n",
    "\n",
    "l=[]\n",
    "for x in range(-10,10):\n",
    "    for y in range(10):\n",
    "        if y < x:\n",
    "            l.append(x+y)\n",
    "            \n",
    "print(l)"
   ]
  },
  {
   "cell_type": "markdown",
   "metadata": {},
   "source": [
    "Comprehention também pode ser utilizado para construir dicionários. A syntaxe se torna:\n",
    "```python\n",
    "dicionario = {expressao_chave:expressao_valor for variavel_local in objeto}\n",
    "``` \n",
    "O resultado do comando acima é equivalente a:\n",
    "```python\n",
    "dicionario = {}\n",
    "for variavel in objeto:\n",
    "    dicionario[expressao_chave]=expressao_valor\n",
    "```\n",
    "Da mesma forma que listas, pode-se utilizar condições <font color='blue'>'if'</font>, <font color='blue'>'if' 'else'</font> e laços <font color='blue'>'for'</font> encapsulados."
   ]
  },
  {
   "cell_type": "code",
   "execution_count": 37,
   "metadata": {},
   "outputs": [
    {
     "name": "stdout",
     "output_type": "stream",
     "text": [
      "{0: 0, 1: 1, 2: 4, 3: 9, 4: 16, 5: 25, 6: 36, 7: 49, 8: 64, 9: 81}\n"
     ]
    }
   ],
   "source": [
    "dt = {x:x**2 for x in range(10)} # cria um dicionário onde a chave sao números entre 0 e 9, com valores correspondendo\n",
    "                                 # ao quadrado da chave\n",
    "print(dt)"
   ]
  },
  {
   "cell_type": "markdown",
   "metadata": {},
   "source": [
    "---\n",
    "## Funções e Parâmetros\n",
    "Uma função em Python pode ser criada de difentes formas.\n",
    "\n",
    "O comando <font color='blue'>'def'</font> é um dos principais mecanismos para se criar uma função.\n",
    "O resultado de um comando <font color='blue'>'def'</font> é um _objeto_ do tipo 'função'.\n",
    "\n",
    "Uma função pode ser invocada a partir de um comando, executando a sequência de código identado abaixo dela."
   ]
  },
  {
   "cell_type": "code",
   "execution_count": 39,
   "metadata": {},
   "outputs": [
    {
     "name": "stdout",
     "output_type": "stream",
     "text": [
      "Imprimindo  Hello 1 via funcao meu_print\n"
     ]
    }
   ],
   "source": [
    "def meu_print(x):   # cria a função meu_print\n",
    "    print('Imprimindo ', x, 'via funcao meu_print')\n",
    "    \n",
    "meu_print('Hello 1') # invoca a função meu_print com a string 'Hello 1' como parâmetro."
   ]
  },
  {
   "cell_type": "markdown",
   "metadata": {},
   "source": [
    "Como o resultado do <font color='blue'>'def'</font> é um _objeto_, ele pode ser atribuido a uma variável e a \n",
    "variável passa a se comportar como uma função."
   ]
  },
  {
   "cell_type": "code",
   "execution_count": 40,
   "metadata": {},
   "outputs": [
    {
     "name": "stdout",
     "output_type": "stream",
     "text": [
      "Imprimindo  Hello 2 via funcao meu_print\n"
     ]
    }
   ],
   "source": [
    "def meu_print(x):   # cria a função meu_print\n",
    "    print('Imprimindo ', x, 'via funcao meu_print')\n",
    "    \n",
    "x = meu_print  # a variável x é uma referência para o objeto (função) meu_print\n",
    "x('Hello 2')  # pode-se utilizar x como a função meu_print"
   ]
  },
  {
   "cell_type": "markdown",
   "metadata": {},
   "source": [
    "### Parâmetros de uma função\n",
    "Os parâmetros (também chamados de argumentos) de uma função podem assumir valores pré-estabelecidos (default) que são utilizados quando o parâmetro correspondente não é fornecido."
   ]
  },
  {
   "cell_type": "code",
   "execution_count": 41,
   "metadata": {},
   "outputs": [
    {
     "name": "stdout",
     "output_type": "stream",
     "text": [
      "17\n",
      "8\n",
      "1\n",
      "8\n",
      "4\n"
     ]
    }
   ],
   "source": [
    "def echo(x=10,y=7):  # cria a funçao echo com dois parâmetros x e y. Se os parâmetros não são fornecidos quando a \n",
    "    print(x+y)       # função é invocada, os valores pré-estabelecidos 10 e 7 são utilizados\n",
    "    \n",
    "echo()          # nenhum parâmetro é fornecido, os dois valores pré-estabelecidos são utilizados \n",
    "\n",
    "echo(x=1)       # somente o parâmetro x é fornecido, o valor pré-estabelecido de y é utilizado \n",
    "\n",
    "echo(x=1,y=0)   # os dois parâmetros são fornecidos, nenhum valor pré-estabelecido é utilizado\n",
    "\n",
    "echo(1)   # quando o nome do parâmetro não é fornecido, assume-se a ordem como foram definidos na função,\n",
    "          # neste o valor de x é fornecido como 1 e y não é fornecido\n",
    "    \n",
    "echo(1,3) # o valor de x = 1 e y = 3 são fornecidos"
   ]
  },
  {
   "cell_type": "markdown",
   "metadata": {},
   "source": [
    "Como são objetos, funções podem ser passadas como parâmetros para outras funções."
   ]
  },
  {
   "cell_type": "code",
   "execution_count": 48,
   "metadata": {},
   "outputs": [
    {
     "name": "stdout",
     "output_type": "stream",
     "text": [
      "Impresso pela funcao echo1  Hello\n",
      "Impresso pela funcao echo2  World\n"
     ]
    }
   ],
   "source": [
    "def echo1(x):\n",
    "    print('Impresso pela funcao echo1 ', x)\n",
    "    \n",
    "def echo2(x):\n",
    "    print('Impresso pela funcao echo2 ', x)\n",
    "    \n",
    "def invoca_echo(f,t):  # o parâmetro f é uma função\n",
    "    f(t)               # que é invocada dento da função invoca_echo\n",
    "\n",
    "invoca_echo(echo1,'Hello')\n",
    "invoca_echo(echo2,'World')"
   ]
  },
  {
   "cell_type": "markdown",
   "metadata": {},
   "source": [
    "### Retorno de uma função\n",
    "Toda função retorna algo. Se o comando <font color='blue'>'return'</font> não é especificado, o símbolo <font color='blue'>'None'</font> é retornado como resultado da função."
   ]
  },
  {
   "cell_type": "code",
   "execution_count": 45,
   "metadata": {},
   "outputs": [
    {
     "name": "stdout",
     "output_type": "stream",
     "text": [
      "None\n",
      "3\n"
     ]
    }
   ],
   "source": [
    "def soma1(x):   # cria a função soma1 sem especificar um valor de retorno via comando \"return\"\n",
    "    x+1\n",
    "    \n",
    "def soma2(x):   # cria a função soma12 com retorno definido pelo comando \"return\"\n",
    "    return(x+1)\n",
    "    \n",
    "print(soma1(2))  # como soma1 não possui um valor de retorno, o símbolo \"None\" é retornado automaticamente\n",
    "print(soma2(2))  # o resultado x+1 (onde x vale 2) é retornado pelo comando \"return\""
   ]
  },
  {
   "cell_type": "markdown",
   "metadata": {},
   "source": [
    "---\n",
    "## Funções Lambda\n",
    "- Funções <font color='blue'>lambda</font> são funções que podem ser invocadas, mas que não possuem nome\n",
    "- Uma função <font color='blue'>lambda</font> é uma expressão, não uma declaração, então pode ser usada em lugares do código em que `def` não é possível, por exemplo dentro de um comprehension. A sintaxe de uma função <font color='blue'>lambda</font> é:\n",
    "```python\n",
    "lambda arg1,arg2,...,argn: expressao\n",
    "```"
   ]
  },
  {
   "cell_type": "code",
   "execution_count": 49,
   "metadata": {},
   "outputs": [
    {
     "name": "stdout",
     "output_type": "stream",
     "text": [
      "4\n",
      "5\n"
     ]
    }
   ],
   "source": [
    "f1 = lambda x: x**2  # cria uma função lambda com um argumento e retorna o valor do argumento ao quadrado\n",
    "                     # a variável f1 é uma referência a função lambda \n",
    "                     # o argumento x da função lambda passa a ser um parâmetro de f1\n",
    "    \n",
    "print(f1(2))\n",
    "\n",
    "f2 = lambda x,y: x+y # cria uma função lambda com dois argumentos e retorna a soma dos argumentos \n",
    "                     # a variável f2 é uma referência a função lambda\n",
    "                     # os argumentos x e y da função lambda passam a ser parâmetros de f2\n",
    "print(f2(2,3))"
   ]
  },
  {
   "cell_type": "code",
   "execution_count": 54,
   "metadata": {},
   "outputs": [
    {
     "name": "stdout",
     "output_type": "stream",
     "text": [
      "[0, 2, 4, 6, 8]\n",
      "['even', 'odd', 'even', 'odd', 'even', 'odd', 'even', 'odd', 'even', 'odd']\n"
     ]
    }
   ],
   "source": [
    "f3 = lambda x: 'even' if x%2==0 else 'odd' # função lambda que retorn 'even' se o argumento for par (x%2==0)\n",
    "                                           # e 'odd' caso contrário\n",
    "\n",
    "lnumeros = [i for i in range(10) if f3(i) == 'even' ] # cria uma lista de números pares entre 0 e 9 \n",
    "lstrings = [f3(i) for i in range(10)]  # cria uma lista de strings 'even' e 'odd' \n",
    "print(lnumeros)\n",
    "print(lstrings)"
   ]
  }
 ],
 "metadata": {
  "kernelspec": {
   "display_name": "Python 3",
   "language": "python",
   "name": "python3"
  },
  "language_info": {
   "codemirror_mode": {
    "name": "ipython",
    "version": 3
   },
   "file_extension": ".py",
   "mimetype": "text/x-python",
   "name": "python",
   "nbconvert_exporter": "python",
   "pygments_lexer": "ipython3",
   "version": "3.7.4"
  },
  "toc": {
   "base_numbering": 1,
   "nav_menu": {},
   "number_sections": true,
   "sideBar": true,
   "skip_h1_title": false,
   "title_cell": "Table of Contents",
   "title_sidebar": "Contents",
   "toc_cell": false,
   "toc_position": {},
   "toc_section_display": true,
   "toc_window_display": false
  }
 },
 "nbformat": 4,
 "nbformat_minor": 2
}
