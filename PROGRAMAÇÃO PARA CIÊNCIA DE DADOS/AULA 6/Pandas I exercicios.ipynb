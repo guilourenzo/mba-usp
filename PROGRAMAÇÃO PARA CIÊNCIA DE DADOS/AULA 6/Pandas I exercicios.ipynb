{
 "cells": [
  {
   "cell_type": "markdown",
   "metadata": {},
   "source": [
    "# <span style=\"color:blue\"> MBA em Ciência de Dados</span>\n",
    "# <span style=\"color:blue\">Programação para Ciência de Dados</span>\n",
    "\n",
    "## <span style=\"color:blue\">Pandas Parte I - Exercícios</span>\n",
    "**Material Produzido por Luis Gustavo Nonato**<br>\n",
    "**Cemeai - ICMC/USP São Carlos**\n",
    "---"
   ]
  },
  {
   "cell_type": "markdown",
   "metadata": {},
   "source": [
    "#### <span style=\"color:red\">Recomenda-se fortemente que os exercícios sejam feitos sem consultar as respostas antecipadamente.</span>"
   ]
  },
  {
   "cell_type": "markdown",
   "metadata": {},
   "source": [
    "Os exercícios a seguir farão uso do arquivo <font style=\"font-family: monaco\">WorldCups.csv</font> disponível para download no moodle.\n",
    "\n",
    "O arquivo <font style=\"font-family: monaco\">WorldCups.csv</font> possui as seguintes colunas:\n",
    "- Year: ano da copa\n",
    "- Country: pais sede\n",
    "- Winner: campeão\n",
    "- RunnersUp: disputou a final com o campeão\n",
    "- Third: terceiro colocado\n",
    "- Fourth: quarto colocado\n",
    "- GoalsScored: número de gols na copa\n",
    "- QualifiedTeams: número de times que disputaram a copa\n",
    "- MatchesPlayed: número de jogos\n",
    "- Attendance: número de espectadores (público)"
   ]
  },
  {
   "cell_type": "code",
   "execution_count": null,
   "metadata": {},
   "outputs": [],
   "source": [
    "import numpy as np\n",
    "import pandas as pd"
   ]
  },
  {
   "cell_type": "markdown",
   "metadata": {},
   "source": [
    "### Exercício 1) \n",
    "Utilizando o <font color='blue'>pandas</font> leia o arquivo <font style=\"font-family: monaco\">WorldCups.csv</font>, definindo a coluna 'Year' como índice das linhas, e armazene-o em uma variável tipo DataFrame. \n",
    "- Exiba as 5 primeiras linhas do DataFrame\n",
    "- Exiba o tipo de dado de cada coluna\n",
    "- Imprima o número de linhas do DataFrame?"
   ]
  },
  {
   "cell_type": "code",
   "execution_count": null,
   "metadata": {},
   "outputs": [],
   "source": [
    "# SOLUÇÃO\n"
   ]
  },
  {
   "cell_type": "code",
   "execution_count": null,
   "metadata": {},
   "outputs": [],
   "source": [
    "# tipo de dado de cada coluna\n"
   ]
  },
  {
   "cell_type": "code",
   "execution_count": null,
   "metadata": {},
   "outputs": [],
   "source": [
    "# numero de linhas\n"
   ]
  },
  {
   "cell_type": "markdown",
   "metadata": {},
   "source": [
    "### Exercício 2) \n",
    "Remova as colunas 'QualifiedTeams' e 'MatchesPlayed' do DataFrame `copas`"
   ]
  },
  {
   "cell_type": "code",
   "execution_count": null,
   "metadata": {},
   "outputs": [],
   "source": [
    "# SOLUÇÃO\n"
   ]
  },
  {
   "cell_type": "markdown",
   "metadata": {},
   "source": [
    "### Exercício 3) \n",
    "Exiba os países sede da copa entre os anos 1954 e 1982 (inclusive)"
   ]
  },
  {
   "cell_type": "code",
   "execution_count": null,
   "metadata": {},
   "outputs": [],
   "source": [
    "# SOLUÇÃO\n"
   ]
  },
  {
   "cell_type": "markdown",
   "metadata": {},
   "source": [
    "### Exercício 4) \n",
    "Encontre e imprima:\n",
    "- os anos em que o Brasil ganhou a copa \n",
    "- os anos em que o Brasil jogou uma final (a final é dada pelas colunas 'Winner' e 'RunnersUp') \n",
    "- a proporção de vitórias do Brasil em finais"
   ]
  },
  {
   "cell_type": "code",
   "execution_count": null,
   "metadata": {},
   "outputs": [],
   "source": [
    "# SOLUÇÃO\n"
   ]
  },
  {
   "cell_type": "markdown",
   "metadata": {},
   "source": [
    "### Exercício 5) \n",
    "Quais foram as 5 copas com mais gols? \n",
    "\n",
    "__Dica:__ Ordene o DataFrame"
   ]
  },
  {
   "cell_type": "code",
   "execution_count": null,
   "metadata": {},
   "outputs": [],
   "source": [
    "# SOLUÇÃO\n"
   ]
  },
  {
   "cell_type": "markdown",
   "metadata": {},
   "source": [
    "### Exercício 6) \n",
    "Utilize o método <font color='blue'>value_counts</font> para encontrar o número de vezes que cada país ganhou a copa."
   ]
  },
  {
   "cell_type": "code",
   "execution_count": null,
   "metadata": {},
   "outputs": [],
   "source": [
    "# SOLUÇÃO\n"
   ]
  },
  {
   "cell_type": "markdown",
   "metadata": {},
   "source": [
    "### Exercício 7)\n",
    "Quais foram as 5 copas com maior público? Imprima penas o ano, o país e o público."
   ]
  },
  {
   "cell_type": "code",
   "execution_count": null,
   "metadata": {},
   "outputs": [],
   "source": [
    "# solucao\n"
   ]
  },
  {
   "cell_type": "markdown",
   "metadata": {},
   "source": [
    "### Exercício 8)\n",
    "Construa um dicionário onde as chaves são os países que já participaram de uma final e os valores são o número de vezes que o país participou da final."
   ]
  },
  {
   "cell_type": "code",
   "execution_count": null,
   "metadata": {},
   "outputs": [],
   "source": [
    "# SOLUÇÃO\n",
    "\n",
    "dic_finalista = {}\n",
    "for i in range(copas.shape[0]):       # percorre todas as linhas do DataFrame\n",
    "    pais1 = copas['Winner'].iloc[i]     # Campeão\n",
    "    pais2 = copas['RunnersUp'].iloc[i]  # Vice\n",
    "    \n",
    "    if pais1 in dic_finalista:      # verifica se o campeao ja esta no dicionario\n",
    "        dic_finalista[pais1] += 1\n",
    "    else:\n",
    "        dic_finalista[pais1] = 1\n",
    "        \n",
    "    if pais2 in dic_finalista:      # verifica se o vice ja esta no dicionario\n",
    "        dic_finalista[pais2] += 1\n",
    "    else:\n",
    "        dic_finalista[pais2] = 1\n",
    "        \n",
    "print(dic_finalista)"
   ]
  },
  {
   "cell_type": "markdown",
   "metadata": {},
   "source": [
    "### Exercício 9) \n",
    "Construa um dicionário com todos os países que já participaram de uma semi-final de copa (os quatro finalistas), onde a chave é o país e o valor corresponde ao número de vezes que o país foi um semi-finalista."
   ]
  },
  {
   "cell_type": "code",
   "execution_count": null,
   "metadata": {},
   "outputs": [],
   "source": [
    "from functools import reduce\n",
    "\n",
    "# SOLUÇÃO\n",
    "\n"
   ]
  }
 ],
 "metadata": {
  "kernelspec": {
   "display_name": "Python 3",
   "language": "python",
   "name": "python3"
  },
  "language_info": {
   "codemirror_mode": {
    "name": "ipython",
    "version": 3
   },
   "file_extension": ".py",
   "mimetype": "text/x-python",
   "name": "python",
   "nbconvert_exporter": "python",
   "pygments_lexer": "ipython3",
   "version": "3.7.1"
  }
 },
 "nbformat": 4,
 "nbformat_minor": 2
}
