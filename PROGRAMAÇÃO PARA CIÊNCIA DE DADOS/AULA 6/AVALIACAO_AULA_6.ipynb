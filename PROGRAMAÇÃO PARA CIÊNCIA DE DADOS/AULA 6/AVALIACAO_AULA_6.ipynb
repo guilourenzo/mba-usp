{
 "nbformat": 4,
 "nbformat_minor": 2,
 "metadata": {
  "language_info": {
   "name": "python",
   "codemirror_mode": {
    "name": "ipython",
    "version": 3
   },
   "version": "3.7.4-final"
  },
  "orig_nbformat": 2,
  "file_extension": ".py",
  "mimetype": "text/x-python",
  "name": "python",
  "npconvert_exporter": "python",
  "pygments_lexer": "ipython3",
  "version": 3,
  "kernelspec": {
   "name": "python3",
   "display_name": "Python 3"
  }
 },
 "cells": [
  {
   "cell_type": "markdown",
   "execution_count": null,
   "metadata": {},
   "outputs": [],
   "source": [
    "#### IMPORTA A BIBLIOTECA E O ARQUIVO CSV"
   ]
  },
  {
   "cell_type": "code",
   "execution_count": 1,
   "metadata": {},
   "outputs": [],
   "source": [
    "import pandas as pd\n",
    "copa_partidas = pd.read_csv('WorldCupMatches.csv', index_col='Year')\n"
   ]
  },
  {
   "cell_type": "markdown",
   "execution_count": null,
   "metadata": {},
   "outputs": [],
   "source": [
    "#### EXERCICIO 1\n",
    "Leia o arquivo WorldCupMatches.csv, armazene em uma variável DataFrame chamada copa_partidas. Quantas\n",
    "\n",
    "colunas possuem rótulo cujo nome começa com a letra 'A'?\n"
   ]
  },
  {
   "cell_type": "code",
   "execution_count": 2,
   "metadata": {},
   "outputs": [
    {
     "name": "stdout",
     "output_type": "stream",
     "text": "6\n"
    },
    {
     "data": {
      "text/plain": "(6,)"
     },
     "execution_count": 2,
     "metadata": {},
     "output_type": "execute_result"
    }
   ],
   "source": [
    "# COPIA A LISTA COM O NOME DAS COLUNAS\n",
    "colunasA = copa_partidas.columns.values\n",
    "\n",
    "# VERSION 1\n",
    "# PASSA ITEM A ITEM COMPARANDO A PRIMEIRA LETRA DA COLUNA\n",
    "aux = 0\n",
    "for index in range(colunasA.shape[0]):\n",
    "    if colunasA[index][0] == 'A':\n",
    "        aux +=1\n",
    "print(aux)\n",
    "\n",
    "#VERSION 2\n",
    "# UTILIZA A FUNÇÃO 'STARTSWITH' PARA FAZER A BUSCA\n",
    "aux2 = copa_partidas.columns[copa_partidas.columns.str.startswith('A')]\n",
    "aux2.shape"
   ]
  },
  {
   "cell_type": "markdown",
   "execution_count": null,
   "metadata": {},
   "outputs": [],
   "source": [
    "#### EXERCÍCIO 2\n",
    "\n",
    "O comando abaixo extrai quais são as 'strings' contidas na coluna Stage :\n",
    "\n",
    "copa_partidas[['Stage']].unique()\n",
    "\n",
    "Dentre as strings resultantes, 'Semi-finals' indica que a linha corresponde a uma partida de semi-final de uma copa.\n",
    "\n",
    "Utilizando o método query, encontre as linhas contendo as partidas de semi-final das copas. Construa uma lista contendo os nomes dos times que disputaram a semi-final da copa de 1986.\n",
    "\n",
    "Os nomes que aparecem na lista construída são:\n",
    "\n",
    "DICA: Utilize o método query duas vezes, a primeira para obter um DataFrame com os semi-finalistas e a segunda para obter um DataFrame com os semi-finalistas da copa de 1986. Os nomes dos semi-finalistas estarão nas colunas  HomeTeamNam e AwayTeamName"
   ]
  },
  {
   "cell_type": "code",
   "execution_count": 3,
   "metadata": {},
   "outputs": [
    {
     "data": {
      "text/plain": "[['France', 'Argentina'], ['Germany FR', 'Belgium']]"
     },
     "execution_count": 3,
     "metadata": {},
     "output_type": "execute_result"
    }
   ],
   "source": [
    "# FILTRA OS ITENS COM O 'STAGE' IGUAL A 'SEMI-FINALS' E O ANO IGUAL A '1986'\n",
    "semiFinalistGames = copa_partidas.query('Stage == \"Semi-finals\" & Year == \"1986\"')\n",
    "\n",
    "semiFinalist = []\n",
    "# COPIA O NOME DOS TIMES SEMI-FINALISTAS\n",
    "semiFinalist.append(list(semiFinalistGames.HomeTeamName))\n",
    "semiFinalist.append(list(semiFinalistGames.AwayTeamName))\n",
    "semiFinalist"
   ]
  },
  {
   "cell_type": "markdown",
   "execution_count": null,
   "metadata": {},
   "outputs": [],
   "source": [
    "#### EXERCÍCIO 3\n",
    "\n",
    "Quantas vezes o Brasil jogou contra a Argentina em copas do mundo?\n",
    "\n",
    "DICA: Utilize o método query combinando & (AND) e | (OR)"
   ]
  },
  {
   "cell_type": "code",
   "execution_count": 4,
   "metadata": {},
   "outputs": [
    {
     "data": {
      "text/plain": "4"
     },
     "execution_count": 4,
     "metadata": {},
     "output_type": "execute_result"
    }
   ],
   "source": [
    "# FILTRA OS JOGOS QUE FORAM ENTRE 'BRAZIL' E 'ARGENTINA'\n",
    "argBrazilHomeTeam = copa_partidas.query('HomeTeamName == \"Argentina\" & AwayTeamName == \"Brazil\" | HomeTeamName == \"Brazil\" & AwayTeamName == \"Argentina\"')\n",
    "\n",
    "# EXIBE A QUANTIDADE DE PARTIDAS\n",
    "argBrazilHomeTeam.shape[0]"
   ]
  },
  {
   "cell_type": "markdown",
   "execution_count": null,
   "metadata": {},
   "outputs": [],
   "source": [
    "#### EXERCICIO 4\n",
    "\n",
    "Qual foi a partida em copa do mundo com o maior número de espectadores?\n",
    "\n",
    "DICA: Ordene o DataFrame pela coluna Attendance"
   ]
  },
  {
   "cell_type": "code",
   "execution_count": 5,
   "metadata": {},
   "outputs": [
    {
     "data": {
      "text/html": "<div>\n<style scoped>\n    .dataframe tbody tr th:only-of-type {\n        vertical-align: middle;\n    }\n\n    .dataframe tbody tr th {\n        vertical-align: top;\n    }\n\n    .dataframe thead th {\n        text-align: right;\n    }\n</style>\n<table border=\"1\" class=\"dataframe\">\n  <thead>\n    <tr style=\"text-align: right;\">\n      <th></th>\n      <th>Datetime</th>\n      <th>Stage</th>\n      <th>Stadium</th>\n      <th>City</th>\n      <th>HomeTeamName</th>\n      <th>HomeTeamGoals</th>\n      <th>AwayTeamGoals</th>\n      <th>AwayTeamName</th>\n      <th>WinConditions</th>\n      <th>Attendance</th>\n      <th>HalfTimeHomeGoals</th>\n      <th>HalfTimeAwayGoals</th>\n      <th>Referee</th>\n      <th>Assistant1</th>\n      <th>Assistant2</th>\n      <th>RoundID</th>\n      <th>MatchID</th>\n      <th>HomeTeamInitials</th>\n      <th>AwayTeamInitials</th>\n    </tr>\n    <tr>\n      <th>Year</th>\n      <th></th>\n      <th></th>\n      <th></th>\n      <th></th>\n      <th></th>\n      <th></th>\n      <th></th>\n      <th></th>\n      <th></th>\n      <th></th>\n      <th></th>\n      <th></th>\n      <th></th>\n      <th></th>\n      <th></th>\n      <th></th>\n      <th></th>\n      <th></th>\n      <th></th>\n    </tr>\n  </thead>\n  <tbody>\n    <tr>\n      <th>1950</th>\n      <td>16 Jul 1950 - 15:00</td>\n      <td>Group 6</td>\n      <td>Maracan� - Est�dio Jornalista M�rio Filho</td>\n      <td>Rio De Janeiro</td>\n      <td>Uruguay</td>\n      <td>2</td>\n      <td>1</td>\n      <td>Brazil</td>\n      <td></td>\n      <td>173850.0</td>\n      <td>0</td>\n      <td>0</td>\n      <td>READER George (ENG)</td>\n      <td>ELLIS Arthur (ENG)</td>\n      <td>MITCHELL George (SCO)</td>\n      <td>209</td>\n      <td>1190</td>\n      <td>URU</td>\n      <td>BRA</td>\n    </tr>\n    <tr>\n      <th>1950</th>\n      <td>13 Jul 1950 - 15:00</td>\n      <td>Group 6</td>\n      <td>Maracan� - Est�dio Jornalista M�rio Filho</td>\n      <td>Rio De Janeiro</td>\n      <td>Brazil</td>\n      <td>6</td>\n      <td>1</td>\n      <td>Spain</td>\n      <td></td>\n      <td>152772.0</td>\n      <td>3</td>\n      <td>0</td>\n      <td>LEAFE Reginald (ENG)</td>\n      <td>MITCHELL George (SCO)</td>\n      <td>DA COSTA VIEIRA Jose (POR)</td>\n      <td>209</td>\n      <td>1186</td>\n      <td>BRA</td>\n      <td>ESP</td>\n    </tr>\n    <tr>\n      <th>1950</th>\n      <td>01 Jul 1950 - 15:00</td>\n      <td>Group 1</td>\n      <td>Maracan� - Est�dio Jornalista M�rio Filho</td>\n      <td>Rio De Janeiro</td>\n      <td>Brazil</td>\n      <td>2</td>\n      <td>0</td>\n      <td>Yugoslavia</td>\n      <td></td>\n      <td>142429.0</td>\n      <td>1</td>\n      <td>0</td>\n      <td>GRIFFITHS Benjamin (WAL)</td>\n      <td>BERANEK Alois (AUT)</td>\n      <td>DA COSTA VIEIRA Jose (POR)</td>\n      <td>208</td>\n      <td>1191</td>\n      <td>BRA</td>\n      <td>YUG</td>\n    </tr>\n    <tr>\n      <th>1950</th>\n      <td>09 Jul 1950 - 15:00</td>\n      <td>Group 6</td>\n      <td>Maracan� - Est�dio Jornalista M�rio Filho</td>\n      <td>Rio De Janeiro</td>\n      <td>Brazil</td>\n      <td>7</td>\n      <td>1</td>\n      <td>Sweden</td>\n      <td></td>\n      <td>138886.0</td>\n      <td>3</td>\n      <td>0</td>\n      <td>ELLIS Arthur (ENG)</td>\n      <td>GARCIA Prudencio (USA)</td>\n      <td>DE LA SALLE Charles (FRA)</td>\n      <td>209</td>\n      <td>1189</td>\n      <td>BRA</td>\n      <td>SWE</td>\n    </tr>\n    <tr>\n      <th>1986</th>\n      <td>29 Jun 1986 - 12:00</td>\n      <td>Final</td>\n      <td>Estadio Azteca</td>\n      <td>Mexico City</td>\n      <td>Argentina</td>\n      <td>3</td>\n      <td>2</td>\n      <td>Germany FR</td>\n      <td></td>\n      <td>114600.0</td>\n      <td>1</td>\n      <td>0</td>\n      <td>ARPPI FILHO Romualdo (BRA)</td>\n      <td>FREDRIKSSON Erik (SWE)</td>\n      <td>ULLOA MORERA Berny (CRC)</td>\n      <td>3467</td>\n      <td>393</td>\n      <td>ARG</td>\n      <td>FRG</td>\n    </tr>\n    <tr>\n      <th>...</th>\n      <td>...</td>\n      <td>...</td>\n      <td>...</td>\n      <td>...</td>\n      <td>...</td>\n      <td>...</td>\n      <td>...</td>\n      <td>...</td>\n      <td>...</td>\n      <td>...</td>\n      <td>...</td>\n      <td>...</td>\n      <td>...</td>\n      <td>...</td>\n      <td>...</td>\n      <td>...</td>\n      <td>...</td>\n      <td>...</td>\n      <td>...</td>\n    </tr>\n    <tr>\n      <th>1934</th>\n      <td>31 May 1934 - 16:30</td>\n      <td>Quarter-finals</td>\n      <td>San Siro</td>\n      <td>Milan</td>\n      <td>Germany</td>\n      <td>2</td>\n      <td>1</td>\n      <td>Sweden</td>\n      <td></td>\n      <td>3000.0</td>\n      <td>0</td>\n      <td>0</td>\n      <td>BARLASSINA Rinaldo (ITA)</td>\n      <td>MERCET Rene (SUI)</td>\n      <td>VAN MOORSEL Johannes (NED)</td>\n      <td>418</td>\n      <td>1129</td>\n      <td>GER</td>\n      <td>SWE</td>\n    </tr>\n    <tr>\n      <th>1958</th>\n      <td>17 Jun 1958 - 19:00</td>\n      <td>Group 3</td>\n      <td>Rasunda Stadium</td>\n      <td>Solna</td>\n      <td>Wales</td>\n      <td>2</td>\n      <td>1</td>\n      <td>Hungary</td>\n      <td></td>\n      <td>2823.0</td>\n      <td>0</td>\n      <td>1</td>\n      <td>LATYCHEV Nikolaj (URS)</td>\n      <td>CODESAL Jose Maria (URU)</td>\n      <td>ERIKSSON Arne (FIN)</td>\n      <td>220</td>\n      <td>1408</td>\n      <td>WAL</td>\n      <td>HUN</td>\n    </tr>\n    <tr>\n      <th>1930</th>\n      <td>14 Jul 1930 - 14:50</td>\n      <td>Group 3</td>\n      <td>Pocitos</td>\n      <td>Montevideo</td>\n      <td>Romania</td>\n      <td>3</td>\n      <td>1</td>\n      <td>Peru</td>\n      <td></td>\n      <td>2549.0</td>\n      <td>1</td>\n      <td>0</td>\n      <td>WARNKEN Alberto (CHI)</td>\n      <td>LANGENUS Jean (BEL)</td>\n      <td>MATEUCCI Francisco (URU)</td>\n      <td>201</td>\n      <td>1098</td>\n      <td>ROU</td>\n      <td>PER</td>\n    </tr>\n    <tr>\n      <th>1930</th>\n      <td>19 Jul 1930 - 12:50</td>\n      <td>Group 1</td>\n      <td>Estadio Centenario</td>\n      <td>Montevideo</td>\n      <td>Chile</td>\n      <td>1</td>\n      <td>0</td>\n      <td>France</td>\n      <td></td>\n      <td>2000.0</td>\n      <td>0</td>\n      <td>0</td>\n      <td>TEJADA Anibal (URU)</td>\n      <td>LOMBARDI Domingo (URU)</td>\n      <td>REGO Gilberto (BRA)</td>\n      <td>201</td>\n      <td>1094</td>\n      <td>CHI</td>\n      <td>FRA</td>\n    </tr>\n    <tr>\n      <th>2014</th>\n      <td>30 Jun 2014 - 17:00</td>\n      <td>Round of 16</td>\n      <td>Estadio Beira-Rio</td>\n      <td>Porto Alegre</td>\n      <td>Germany</td>\n      <td>2</td>\n      <td>1</td>\n      <td>Algeria</td>\n      <td>Germany win after extra time</td>\n      <td>0.0</td>\n      <td>0</td>\n      <td>0</td>\n      <td>RICCI Sandro (BRA)</td>\n      <td>DE CARVALHO Emerson (BRA)</td>\n      <td>VAN GASSE Marcelo (BRA)</td>\n      <td>255951</td>\n      <td>300186460</td>\n      <td>GER</td>\n      <td>ALG</td>\n    </tr>\n  </tbody>\n</table>\n<p>836 rows × 19 columns</p>\n</div>",
      "text/plain": "                  Datetime           Stage  \\\nYear                                         \n1950  16 Jul 1950 - 15:00          Group 6   \n1950  13 Jul 1950 - 15:00          Group 6   \n1950  01 Jul 1950 - 15:00          Group 1   \n1950  09 Jul 1950 - 15:00          Group 6   \n1986  29 Jun 1986 - 12:00            Final   \n...                    ...             ...   \n1934  31 May 1934 - 16:30   Quarter-finals   \n1958  17 Jun 1958 - 19:00          Group 3   \n1930  14 Jul 1930 - 14:50          Group 3   \n1930  19 Jul 1930 - 12:50          Group 1   \n2014  30 Jun 2014 - 17:00      Round of 16   \n\n                                        Stadium             City HomeTeamName  \\\nYear                                                                            \n1950  Maracan� - Est�dio Jornalista M�rio Filho  Rio De Janeiro       Uruguay   \n1950  Maracan� - Est�dio Jornalista M�rio Filho  Rio De Janeiro        Brazil   \n1950  Maracan� - Est�dio Jornalista M�rio Filho  Rio De Janeiro        Brazil   \n1950  Maracan� - Est�dio Jornalista M�rio Filho  Rio De Janeiro        Brazil   \n1986                             Estadio Azteca     Mexico City     Argentina   \n...                                         ...              ...          ...   \n1934                                   San Siro           Milan       Germany   \n1958                            Rasunda Stadium           Solna         Wales   \n1930                                    Pocitos      Montevideo       Romania   \n1930                         Estadio Centenario      Montevideo         Chile   \n2014                          Estadio Beira-Rio    Porto Alegre       Germany   \n\n      HomeTeamGoals  AwayTeamGoals AwayTeamName  \\\nYear                                              \n1950              2              1       Brazil   \n1950              6              1        Spain   \n1950              2              0   Yugoslavia   \n1950              7              1       Sweden   \n1986              3              2   Germany FR   \n...             ...            ...          ...   \n1934              2              1       Sweden   \n1958              2              1      Hungary   \n1930              3              1         Peru   \n1930              1              0       France   \n2014              2              1      Algeria   \n\n                      WinConditions  Attendance  HalfTimeHomeGoals  \\\nYear                                                                 \n1950                                   173850.0                  0   \n1950                                   152772.0                  3   \n1950                                   142429.0                  1   \n1950                                   138886.0                  3   \n1986                                   114600.0                  1   \n...                             ...         ...                ...   \n1934                                     3000.0                  0   \n1958                                     2823.0                  0   \n1930                                     2549.0                  1   \n1930                                     2000.0                  0   \n2014  Germany win after extra time          0.0                  0   \n\n      HalfTimeAwayGoals                     Referee  \\\nYear                                                  \n1950                  0         READER George (ENG)   \n1950                  0        LEAFE Reginald (ENG)   \n1950                  0    GRIFFITHS Benjamin (WAL)   \n1950                  0          ELLIS Arthur (ENG)   \n1986                  0  ARPPI FILHO Romualdo (BRA)   \n...                 ...                         ...   \n1934                  0    BARLASSINA Rinaldo (ITA)   \n1958                  1      LATYCHEV Nikolaj (URS)   \n1930                  0       WARNKEN Alberto (CHI)   \n1930                  0         TEJADA Anibal (URU)   \n2014                  0          RICCI Sandro (BRA)   \n\n                     Assistant1                  Assistant2  RoundID  \\\nYear                                                                   \n1950         ELLIS Arthur (ENG)       MITCHELL George (SCO)      209   \n1950      MITCHELL George (SCO)  DA COSTA VIEIRA Jose (POR)      209   \n1950        BERANEK Alois (AUT)  DA COSTA VIEIRA Jose (POR)      208   \n1950     GARCIA Prudencio (USA)   DE LA SALLE Charles (FRA)      209   \n1986     FREDRIKSSON Erik (SWE)    ULLOA MORERA Berny (CRC)     3467   \n...                         ...                         ...      ...   \n1934          MERCET Rene (SUI)  VAN MOORSEL Johannes (NED)      418   \n1958   CODESAL Jose Maria (URU)         ERIKSSON Arne (FIN)      220   \n1930        LANGENUS Jean (BEL)    MATEUCCI Francisco (URU)      201   \n1930     LOMBARDI Domingo (URU)         REGO Gilberto (BRA)      201   \n2014  DE CARVALHO Emerson (BRA)     VAN GASSE Marcelo (BRA)   255951   \n\n        MatchID HomeTeamInitials AwayTeamInitials  \nYear                                               \n1950       1190              URU              BRA  \n1950       1186              BRA              ESP  \n1950       1191              BRA              YUG  \n1950       1189              BRA              SWE  \n1986        393              ARG              FRG  \n...         ...              ...              ...  \n1934       1129              GER              SWE  \n1958       1408              WAL              HUN  \n1930       1098              ROU              PER  \n1930       1094              CHI              FRA  \n2014  300186460              GER              ALG  \n\n[836 rows x 19 columns]"
     },
     "execution_count": 5,
     "metadata": {},
     "output_type": "execute_result"
    }
   ],
   "source": [
    "# ORDENA A LISTA DE PARTIDAS PELA COLUNA 'ATTENDANCE' DE FORMA DECRESCENTE\n",
    "maxAttendance = copa_partidas.sort_values('Attendance', ascending=False)\n",
    "maxAttendance"
   ]
  },
  {
   "cell_type": "markdown",
   "execution_count": null,
   "metadata": {},
   "outputs": [],
   "source": [
    "#### EXERCICIO 5\n",
    "\n",
    "Qual foi o estádio com o maior número de partidas?\n",
    "\n",
    "DICA: Construa um dicionário onde a chave é o nome do estádio e o valor o número de partidas disputadas naquele estádio. Busque pela tupla (chave,valor) onde valor é máximo."
   ]
  },
  {
   "cell_type": "code",
   "execution_count": 6,
   "metadata": {},
   "outputs": [
    {
     "name": "stdout",
     "output_type": "stream",
     "text": "[('Estadio Azteca', 19), ('Jalisco', 14), ('Olympiastadion', 14), ('Nou Camp - Estadio Le�n', 11), ('Estadio Centenario', 10), ('Nacional', 10), ('Parc des Princes', 9), ('Stade V�lodrome', 9), ('Stade du Parc Lescure', 9), ('Wembley Stadium', 9), ('El Monumental - Estadio Monumental Antonio Vespuci', 9), ('Stade de France', 9), ('Stade Municipal', 8), ('Maracan� - Est�dio Jornalista M�rio Filho', 8), ('Rasunda Stadium', 8), ('Estadio Sausalito', 8), ('Cuauhtemoc', 8), ('Estadio Ol�mpico Chateau Carreras', 8), ('Rose Bowl', 8), ('Soccer City Stadium', 8), ('Cape Town Stadium', 8), ('Port Elizabeth Stadium', 8), ('Nya Ullevi', 7), ('Carlos Dittborn', 7), ('Estadio El Teniente-Codelco', 7), ('Giants Stadium', 7), ('Ellis Park Stadium', 7), ('Durban Stadium', 7), ('Estadio Nacional', 7), ('Estadio do Maracana', 7), ('Parque Central', 6), ('Pacaembu', 6), ('St. Jakob', 6), ('Estadio Jos� Mar�a Minella', 6), ('Arroyito - Estadio Dr. Lisandro de la Torre', 6), ('San Martin', 6), ('Giuseppe Meazza', 6), ('Stadio Olimpico', 6), ('Cotton Bowl', 6), ('Stanford Stadium', 6), ('Foxboro Stadium', 6), ('La Mosson', 6), ('Stade Felix Bollaert', 6), ('La Beaujoire', 6), ('Stade de Gerland', 6), ('Stade Geoffroy Guichard', 6), ('FIFA World Cup Stadium, Munich', 6), ('FIFA World Cup Stadium, Dortmund', 6), ('Gottlieb-Daimler-Stadion', 6), ('Royal Bafokeng Sports Palace', 6), ('Loftus Versfeld Stadium', 6), ('Free State Stadium', 6), ('Arena de Sao Paulo', 6), ('Arena Fonte Nova', 6), ('Estadio Mineirao', 6), ('Estadio Castelao', 6), ('Luigi Ferraris', 5), ('Wankdorf Stadium', 5), ('Hardturm', 5), ('La Pontaise', 5), ('Goodison Park', 5), ('Waldstadion', 5), ('Rheinstadion', 5), ('Parkstadion', 5), ('Camp Nou', 5), ('Stadio San Nicola', 5), ('Stadio delle Alpi', 5), ('San Paolo', 5), ('Soldier Field', 5), ('Citrus Bowl', 5), ('RFK Stadium', 5), ('FIFA World Cup Stadium, Gelsenkirchen', 5), ('FIFA World Cup Stadium, Frankfurt', 5), ('FIFA World Cup Stadium, Hamburg', 5), ('Zentralstadion', 5), ('Franken-Stadion', 5), ('FIFA World Cup Stadium, Cologne', 5), ('Fritz-Walter-Stadion', 5), ('FIFA World Cup Stadium, Hanover', 5), ('Arena Pernambuco', 5), ('Estadio Beira-Rio', 5), ('Charmilles', 4), ('Malmo Stadion', 4), ('Hillsborough', 4), ('Roker Park Ground', 4), ('Luis Dosal', 4), ('Westfalenstadion', 4), ('Niedersachsenstadion', 4), ('Neckarstadion', 4), ('Santiago Bernabeu', 4), ('Estadio Ol�mpico Universitario', 4), ('Estadio Universitario', 4), ('Tecnologico', 4), ('Estadio Corregidora', 4), ('Renato Dall Ara', 4), ('Comunale', 4), ('Marc Antonio Bentegodi', 4), ('Pontiac Silverdome', 4), ('Saitama Stadium 2002', 4), ('Suwon World Cup Stadium', 4), ('Daegu World Cup Stadium', 4), ('International Stadium Yokohama', 4), ('Peter Mokaba Stadium', 4), ('Mbombela Stadium', 4), ('Estadio das Dunas', 4), ('Arena Pantanal', 4), ('Arena Amazonia', 4), ('Arena da Baixada', 4), ('San Siro', 3), ('Giovanni Berta', 3), ('Nazionale PNF', 3), ('Stade Olympique', 3), ('Independencia', 3), ('Idrottsparken', 3), ('Ayresome Park', 3), ('Old Trafford Stadium', 3), ('Villa Park', 3), ('Volksparkstadion', 3), ('Jose Amalfitani', 3), ('Estadio Municipal de Bala�dos', 3), ('Riazor', 3), ('Nuevo Estadio', 3), ('La Rosaleda', 3), ('El Molinon', 3), ('San Mames', 3), ('Luis Casanova', 3), ('Carlos Tartiere', 3), ('Jose Zorrilla', 3), ('La Romareda', 3), ('Jose Rico Perez', 3), ('Vicente Calderon', 3), ('Sarria', 3), ('Estadio Irapuato', 3), ('Tres de Marzo', 3), ('Bombonera - Estadio Nemesio Diez', 3), ('Neza', 3), ('Sant Elia', 3), ('Della Favorita', 3), ('Seoul World Cup Stadium', 3), ('Munsu Football Stadium', 3), ('Niigata Stadium Big Swan', 3), ('Sapporo Dome', 3), ('Kashima Stadium', 3), ('Busan Asiad Main Stadium', 3), ('Gwangju World Cup Stadium', 3), ('Kobe Wing Stadium', 3), ('Jeonju World Cup Stadium', 3), ('Jeju World Cup Stadium', 3), ('Incheon Football Stadium', 3), ('Miyagi Stadium', 3), ('Oita Stadium Big Eye', 3), ('Shizuoka Stadium Ecopa', 3), ('Osaka Nagai Stadium', 3), ('Daejeon World Cup Stadium', 3), ('Pocitos', 2), ('Stadio Benito Mussolini', 2), ('Giorgio Ascarelli', 2), ('Littorale', 2), ('Durival de Brito', 2), ('Eucaliptos', 2), ('Jarnvallen', 2), ('Arosvallen', 2), ('Orjans Vall', 2), ('Ryavallen', 2), ('Olympia Stadium', 2), ('Ramon Sanchez Pizjuan', 2), ('Benito Villamarin', 2), ('Dacia Arena', 2), ('Littorio', 1), ('Velodrome Municipale', 1), ('Stade de la Meinau', 1), ('Cavee Verte', 1), ('Victor Boucquey', 1), ('Fort Carree', 1), ('Ilha do Retiro', 1), ('Comunale di Cornaredo', 1), ('Rimnersvallen', 1), ('Tunavallen', 1), ('Eyravallen', 1), ('White City', 1), ('Friuli', 1)]\n"
    }
   ],
   "source": [
    "# CRIA UM DICIONARIO VAZIO\n",
    "estadioLotado = {}\n",
    "\n",
    "# FAZ O LOOP SOBRE A QUANTIDADE DE LINHAS DA LISTA DAS COPAS\n",
    "for i in range(copa_partidas.shape[0]):\n",
    "\n",
    "    # COPIA O VALOR DA COLUNA 'STADIUM' PARA A VARIAVEL 'ESTADIO'\n",
    "    estadio = copa_partidas['Stadium'].iloc[i]\n",
    "     \n",
    "     # VERIFICA SE O 'ESTADIO' JÁ ESTÁ NO DICIONÁRIO E FAZ A CONTAGEM DAS FREQUENCIAS\n",
    "    if estadio in estadioLotado:\n",
    "        estadioLotado[estadio] += 1\n",
    "    else:\n",
    "        estadioLotado[estadio] = 1\n",
    "        \n",
    "# 'PRINTA' DE FORMA DECRESCENTE O DICIONÁRIO ORDENADO PELO VALOR\n",
    "print(sorted(estadioLotado.items(), key=lambda kv: kv[1], reverse=True))"
   ]
  }
 ]
}