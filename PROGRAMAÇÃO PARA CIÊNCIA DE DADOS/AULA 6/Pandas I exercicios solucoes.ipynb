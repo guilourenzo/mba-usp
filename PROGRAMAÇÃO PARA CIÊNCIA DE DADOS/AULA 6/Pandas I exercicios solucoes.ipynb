{
 "cells": [
  {
   "cell_type": "markdown",
   "metadata": {},
   "source": [
    "# <span style=\"color:blue\"> MBA em Ciência de Dados</span>\n",
    "# <span style=\"color:blue\">Programação para Ciência de Dados</span>\n",
    "\n",
    "## <span style=\"color:blue\">Pandas Parte I - Exercícios</span>\n",
    "**Material Produzido por Luis Gustavo Nonato**<br>\n",
    "**Cemeai - ICMC/USP São Carlos**\n",
    "---"
   ]
  },
  {
   "cell_type": "markdown",
   "metadata": {},
   "source": [
    "#### <span style=\"color:red\">Recomenda-se fortemente que os exercícios sejam feitos sem consultar as respostas antecipadamente.</span>"
   ]
  },
  {
   "cell_type": "markdown",
   "metadata": {},
   "source": [
    "Os exercícios a seguir farão uso do arquivo <font style=\"font-family: monaco\">WorldCups.csv</font> disponível para download no moodle.\n",
    "\n",
    "O arquivo <font style=\"font-family: monaco\">WorldCups.csv</font> possui as seguintes colunas:\n",
    "- Year: ano da copa\n",
    "- Country: pais sede\n",
    "- Winner: campeão\n",
    "- RunnersUp: disputou a final com o campeão\n",
    "- Third: terceiro colocado\n",
    "- Fourth: quarto colocado\n",
    "- GoalsScored: número de gols na copa\n",
    "- QualifiedTeams: número de times que disputaram a copa\n",
    "- MatchesPlayed: número de jogos\n",
    "- Attendance: número de espectadores (público)"
   ]
  },
  {
   "cell_type": "code",
   "execution_count": 1,
   "metadata": {},
   "outputs": [],
   "source": [
    "import numpy as np\n",
    "import pandas as pd"
   ]
  },
  {
   "cell_type": "markdown",
   "metadata": {},
   "source": [
    "### Exercício 1) \n",
    "Utilizando o <font color='blue'>pandas</font> leia o arquivo <font style=\"font-family: monaco\">WorldCups.csv</font>, definindo a coluna 'Year' como índice das linhas, e armazene-o em uma variável tipo DataFrame. \n",
    "- Exiba as 5 primeiras linhas do DataFrame\n",
    "- Exiba o tipo de dado de cada coluna\n",
    "- Imprima o número de linhas do DataFrame?"
   ]
  },
  {
   "cell_type": "code",
   "execution_count": 2,
   "metadata": {},
   "outputs": [
    {
     "data": {
      "text/html": [
       "<div>\n",
       "<style scoped>\n",
       "    .dataframe tbody tr th:only-of-type {\n",
       "        vertical-align: middle;\n",
       "    }\n",
       "\n",
       "    .dataframe tbody tr th {\n",
       "        vertical-align: top;\n",
       "    }\n",
       "\n",
       "    .dataframe thead th {\n",
       "        text-align: right;\n",
       "    }\n",
       "</style>\n",
       "<table border=\"1\" class=\"dataframe\">\n",
       "  <thead>\n",
       "    <tr style=\"text-align: right;\">\n",
       "      <th></th>\n",
       "      <th>Country</th>\n",
       "      <th>Winner</th>\n",
       "      <th>RunnersUp</th>\n",
       "      <th>Third</th>\n",
       "      <th>Fourth</th>\n",
       "      <th>GoalsScored</th>\n",
       "      <th>QualifiedTeams</th>\n",
       "      <th>MatchesPlayed</th>\n",
       "      <th>Attendance</th>\n",
       "    </tr>\n",
       "    <tr>\n",
       "      <th>Year</th>\n",
       "      <th></th>\n",
       "      <th></th>\n",
       "      <th></th>\n",
       "      <th></th>\n",
       "      <th></th>\n",
       "      <th></th>\n",
       "      <th></th>\n",
       "      <th></th>\n",
       "      <th></th>\n",
       "    </tr>\n",
       "  </thead>\n",
       "  <tbody>\n",
       "    <tr>\n",
       "      <td>1930</td>\n",
       "      <td>Uruguay</td>\n",
       "      <td>Uruguay</td>\n",
       "      <td>Argentina</td>\n",
       "      <td>USA</td>\n",
       "      <td>Yugoslavia</td>\n",
       "      <td>70</td>\n",
       "      <td>13</td>\n",
       "      <td>18</td>\n",
       "      <td>590549</td>\n",
       "    </tr>\n",
       "    <tr>\n",
       "      <td>1934</td>\n",
       "      <td>Italy</td>\n",
       "      <td>Italy</td>\n",
       "      <td>Czechoslovakia</td>\n",
       "      <td>Germany</td>\n",
       "      <td>Austria</td>\n",
       "      <td>70</td>\n",
       "      <td>16</td>\n",
       "      <td>17</td>\n",
       "      <td>363000</td>\n",
       "    </tr>\n",
       "    <tr>\n",
       "      <td>1938</td>\n",
       "      <td>France</td>\n",
       "      <td>Italy</td>\n",
       "      <td>Hungary</td>\n",
       "      <td>Brazil</td>\n",
       "      <td>Sweden</td>\n",
       "      <td>84</td>\n",
       "      <td>15</td>\n",
       "      <td>18</td>\n",
       "      <td>375700</td>\n",
       "    </tr>\n",
       "    <tr>\n",
       "      <td>1950</td>\n",
       "      <td>Brazil</td>\n",
       "      <td>Uruguay</td>\n",
       "      <td>Brazil</td>\n",
       "      <td>Sweden</td>\n",
       "      <td>Spain</td>\n",
       "      <td>88</td>\n",
       "      <td>13</td>\n",
       "      <td>22</td>\n",
       "      <td>1045246</td>\n",
       "    </tr>\n",
       "    <tr>\n",
       "      <td>1954</td>\n",
       "      <td>Switzerland</td>\n",
       "      <td>Germany FR</td>\n",
       "      <td>Hungary</td>\n",
       "      <td>Austria</td>\n",
       "      <td>Uruguay</td>\n",
       "      <td>140</td>\n",
       "      <td>16</td>\n",
       "      <td>26</td>\n",
       "      <td>768607</td>\n",
       "    </tr>\n",
       "  </tbody>\n",
       "</table>\n",
       "</div>"
      ],
      "text/plain": [
       "          Country      Winner       RunnersUp    Third      Fourth  \\\n",
       "Year                                                                 \n",
       "1930      Uruguay     Uruguay       Argentina      USA  Yugoslavia   \n",
       "1934        Italy       Italy  Czechoslovakia  Germany     Austria   \n",
       "1938       France       Italy         Hungary   Brazil      Sweden   \n",
       "1950       Brazil     Uruguay          Brazil   Sweden       Spain   \n",
       "1954  Switzerland  Germany FR         Hungary  Austria     Uruguay   \n",
       "\n",
       "      GoalsScored  QualifiedTeams  MatchesPlayed  Attendance  \n",
       "Year                                                          \n",
       "1930           70              13             18      590549  \n",
       "1934           70              16             17      363000  \n",
       "1938           84              15             18      375700  \n",
       "1950           88              13             22     1045246  \n",
       "1954          140              16             26      768607  "
      ]
     },
     "execution_count": 2,
     "metadata": {},
     "output_type": "execute_result"
    }
   ],
   "source": [
    "# SOLUÇÃO\n",
    "\n",
    "copas = pd.read_csv('WorldCups.csv', index_col = 'Year')\n",
    "copas.head() #  5 primeiras linhas"
   ]
  },
  {
   "cell_type": "code",
   "execution_count": 3,
   "metadata": {},
   "outputs": [
    {
     "data": {
      "text/plain": [
       "Country           object\n",
       "Winner            object\n",
       "RunnersUp         object\n",
       "Third             object\n",
       "Fourth            object\n",
       "GoalsScored        int64\n",
       "QualifiedTeams     int64\n",
       "MatchesPlayed      int64\n",
       "Attendance        object\n",
       "dtype: object"
      ]
     },
     "execution_count": 3,
     "metadata": {},
     "output_type": "execute_result"
    }
   ],
   "source": [
    "# tipo de dado de cada coluna\n",
    "\n",
    "copas.dtypes"
   ]
  },
  {
   "cell_type": "code",
   "execution_count": 4,
   "metadata": {},
   "outputs": [
    {
     "name": "stdout",
     "output_type": "stream",
     "text": [
      "20\n"
     ]
    }
   ],
   "source": [
    "# numero de linhas\n",
    "\n",
    "print(copas.shape[0])"
   ]
  },
  {
   "cell_type": "markdown",
   "metadata": {},
   "source": [
    "### Exercício 2) \n",
    "Remova as colunas 'QualifiedTeams' e 'MatchesPlayed' do DataFrame `copas`"
   ]
  },
  {
   "cell_type": "code",
   "execution_count": 20,
   "metadata": {},
   "outputs": [],
   "source": [
    "# SOLUÇÃO\n",
    "\n",
    "del copas['QualifiedTeams']\n",
    "del copas['MatchesPlayed']"
   ]
  },
  {
   "cell_type": "markdown",
   "metadata": {},
   "source": [
    "### Exercício 3) \n",
    "Exiba os países sede da copa entre os anos 1954 e 1982 (inclusive)"
   ]
  },
  {
   "cell_type": "code",
   "execution_count": 30,
   "metadata": {},
   "outputs": [
    {
     "name": "stdout",
     "output_type": "stream",
     "text": [
      "Year\n",
      "1954    Switzerland\n",
      "1958         Sweden\n",
      "1962          Chile\n",
      "1966        England\n",
      "1970         Mexico\n",
      "1974        Germany\n",
      "1978      Argentina\n",
      "1982          Spain\n",
      "Name: Country, dtype: object\n",
      "Year\n",
      "1954    Switzerland\n",
      "1958         Sweden\n",
      "1962          Chile\n",
      "1966        England\n",
      "1970         Mexico\n",
      "1974        Germany\n",
      "1978      Argentina\n",
      "1982          Spain\n",
      "Name: Country, dtype: object\n",
      "['Switzerland' 'Sweden' 'Chile' 'England' 'Mexico' 'Germany' 'Argentina'\n",
      " 'Spain']\n"
     ]
    }
   ],
   "source": [
    "# SOLUÇÃO\n",
    "print(copas.loc[1954:1982]['Country']) # extraindo apenas a coluna 'Country' do slicing \n",
    "\n",
    "# SOLUÇÃO ALTERNATIVA 1\n",
    "print(copas['Country'].loc[1954:1982]) # restringindo o slicing a coluna 'Country'\n",
    "\n",
    "# Se quiser imprimir somente o nome dos países, extraia o conteudo via atributo 'value'\n",
    "print(copas.loc[1954:1982]['Country'].values) "
   ]
  },
  {
   "cell_type": "markdown",
   "metadata": {},
   "source": [
    "### Exercício 4) \n",
    "Encontre e imprima:\n",
    "- os anos em que o Brasil ganhou a copa \n",
    "- os anos em que o Brasil jogou uma final (a final é dada pelas colunas 'Winner' e 'RunnersUp') \n",
    "- a proporção de vitórias do Brasil em finais"
   ]
  },
  {
   "cell_type": "code",
   "execution_count": 3,
   "metadata": {},
   "outputs": [
    {
     "name": "stdout",
     "output_type": "stream",
     "text": [
      "ganhou: [1958 1962 1970 1994 2002]\n",
      "final: [1950 1958 1962 1970 1994 1998 2002]\n",
      "proporção: 0.7142857142857143\n"
     ]
    }
   ],
   "source": [
    "# SOLUÇÃO\n",
    "\n",
    "# as buscas abaixo retornam um DataFrame contendo as linhas do DataFrame original onde a expressão é verdadeira\n",
    "ganhou = copas.query('Winner == \"Brazil\"')\n",
    "participou = copas.query('Winner == \"Brazil\" | RunnersUp == \"Brazil\"')\n",
    "\n",
    "# para verificar somente os anos, podemos imprimir somente os rótulos dos DataFrames acima\n",
    "print('ganhou:', ganhou.index.values)    # anos em que o Brasil venceu\n",
    "print('final:', participou.index.values) # anos em que o Brasil disputou uma final\n",
    "\n",
    "print('proporção:', ganhou.shape[0] / participou.shape[0]) # para calcular a proporção de vitórias na final\n",
    "                                                   # basta dividirmos o número de disputas de final \n",
    "                                                    # pelo número de vitórias"
   ]
  },
  {
   "cell_type": "code",
   "execution_count": 4,
   "metadata": {},
   "outputs": [
    {
     "name": "stdout",
     "output_type": "stream",
     "text": [
      "ganhou: [1958 1962 1970 1994 2002]\n",
      "final: [1950 1958 1962 1970 1994 1998 2002]\n",
      "proporção: 0.7142857142857143\n"
     ]
    }
   ],
   "source": [
    "# SOLUÇÃO ALTERNATIVA com loc\n",
    "\n",
    "ganhou = copas.loc[copas['Winner'] == 'Brazil']\n",
    "participou = copas.loc[(copas['Winner'] == 'Brazil') | (copas['RunnersUp'] == 'Brazil')]\n",
    "\n",
    "print('ganhou:', ganhou.index.values)    \n",
    "print('final:', participou.index.values) \n",
    "\n",
    "print('proporção:', ganhou.shape[0] / participou.shape[0])"
   ]
  },
  {
   "cell_type": "markdown",
   "metadata": {},
   "source": [
    "### Exercício 5) \n",
    "Quais foram as 5 copas com mais gols? \n",
    "\n",
    "__Dica:__ Ordene o DataFrame"
   ]
  },
  {
   "cell_type": "code",
   "execution_count": 31,
   "metadata": {},
   "outputs": [
    {
     "data": {
      "text/html": [
       "<div>\n",
       "<style scoped>\n",
       "    .dataframe tbody tr th:only-of-type {\n",
       "        vertical-align: middle;\n",
       "    }\n",
       "\n",
       "    .dataframe tbody tr th {\n",
       "        vertical-align: top;\n",
       "    }\n",
       "\n",
       "    .dataframe thead th {\n",
       "        text-align: right;\n",
       "    }\n",
       "</style>\n",
       "<table border=\"1\" class=\"dataframe\">\n",
       "  <thead>\n",
       "    <tr style=\"text-align: right;\">\n",
       "      <th></th>\n",
       "      <th>Country</th>\n",
       "      <th>Winner</th>\n",
       "      <th>RunnersUp</th>\n",
       "      <th>Third</th>\n",
       "      <th>Fourth</th>\n",
       "      <th>GoalsScored</th>\n",
       "      <th>Attendance</th>\n",
       "    </tr>\n",
       "    <tr>\n",
       "      <th>Year</th>\n",
       "      <th></th>\n",
       "      <th></th>\n",
       "      <th></th>\n",
       "      <th></th>\n",
       "      <th></th>\n",
       "      <th></th>\n",
       "      <th></th>\n",
       "    </tr>\n",
       "  </thead>\n",
       "  <tbody>\n",
       "    <tr>\n",
       "      <th>1982</th>\n",
       "      <td>Spain</td>\n",
       "      <td>Italy</td>\n",
       "      <td>Germany FR</td>\n",
       "      <td>Poland</td>\n",
       "      <td>France</td>\n",
       "      <td>146</td>\n",
       "      <td>2.109.723</td>\n",
       "    </tr>\n",
       "    <tr>\n",
       "      <th>2006</th>\n",
       "      <td>Germany</td>\n",
       "      <td>Italy</td>\n",
       "      <td>France</td>\n",
       "      <td>Germany</td>\n",
       "      <td>Portugal</td>\n",
       "      <td>147</td>\n",
       "      <td>3.359.439</td>\n",
       "    </tr>\n",
       "    <tr>\n",
       "      <th>2002</th>\n",
       "      <td>Korea/Japan</td>\n",
       "      <td>Brazil</td>\n",
       "      <td>Germany</td>\n",
       "      <td>Turkey</td>\n",
       "      <td>Korea Republic</td>\n",
       "      <td>161</td>\n",
       "      <td>2.705.197</td>\n",
       "    </tr>\n",
       "    <tr>\n",
       "      <th>1998</th>\n",
       "      <td>France</td>\n",
       "      <td>France</td>\n",
       "      <td>Brazil</td>\n",
       "      <td>Croatia</td>\n",
       "      <td>Netherlands</td>\n",
       "      <td>171</td>\n",
       "      <td>2.785.100</td>\n",
       "    </tr>\n",
       "    <tr>\n",
       "      <th>2014</th>\n",
       "      <td>Brazil</td>\n",
       "      <td>Germany</td>\n",
       "      <td>Argentina</td>\n",
       "      <td>Netherlands</td>\n",
       "      <td>Brazil</td>\n",
       "      <td>171</td>\n",
       "      <td>3.386.810</td>\n",
       "    </tr>\n",
       "  </tbody>\n",
       "</table>\n",
       "</div>"
      ],
      "text/plain": [
       "          Country   Winner   RunnersUp        Third          Fourth  \\\n",
       "Year                                                                  \n",
       "1982        Spain    Italy  Germany FR       Poland          France   \n",
       "2006      Germany    Italy      France      Germany        Portugal   \n",
       "2002  Korea/Japan   Brazil     Germany       Turkey  Korea Republic   \n",
       "1998       France   France      Brazil      Croatia     Netherlands   \n",
       "2014       Brazil  Germany   Argentina  Netherlands          Brazil   \n",
       "\n",
       "      GoalsScored Attendance  \n",
       "Year                          \n",
       "1982          146  2.109.723  \n",
       "2006          147  3.359.439  \n",
       "2002          161  2.705.197  \n",
       "1998          171  2.785.100  \n",
       "2014          171  3.386.810  "
      ]
     },
     "execution_count": 31,
     "metadata": {},
     "output_type": "execute_result"
    }
   ],
   "source": [
    "# SOLUÇÃO\n",
    "\n",
    "copas_ordenado = copas.sort_values('GoalsScored') # ordenando o DataFrame com base na coluna 'GoalsScored'\n",
    "copas_ordenado.iloc[-5:]   # imprimindo as 5 copas com mais gols (são as 5 últimas linhas do DataFrame ordenado)"
   ]
  },
  {
   "cell_type": "markdown",
   "metadata": {},
   "source": [
    "### Exercício 6) \n",
    "Utilize o método <font color='blue'>value_counts</font> para encontrar o número de vezes que cada país ganhou a copa."
   ]
  },
  {
   "cell_type": "code",
   "execution_count": 32,
   "metadata": {},
   "outputs": [
    {
     "name": "stdout",
     "output_type": "stream",
     "text": [
      "Brazil        5\n",
      "Italy         4\n",
      "Germany FR    3\n",
      "Argentina     2\n",
      "Uruguay       2\n",
      "England       1\n",
      "Spain         1\n",
      "France        1\n",
      "Germany       1\n",
      "Name: Winner, dtype: int64\n"
     ]
    }
   ],
   "source": [
    "# SOLUÇÃO\n",
    "\n",
    "n_campeao = copas['Winner'].value_counts()\n",
    "\n",
    "print(n_campeao)"
   ]
  },
  {
   "cell_type": "markdown",
   "metadata": {},
   "source": [
    "### Exercício 7)\n",
    "Quais foram as 5 copas com maior público? Imprima penas o ano, o país e o público."
   ]
  },
  {
   "cell_type": "code",
   "execution_count": 36,
   "metadata": {},
   "outputs": [
    {
     "name": "stdout",
     "output_type": "stream",
     "text": [
      "           Country  Attendance\n",
      "Year                          \n",
      "1998        France     2785100\n",
      "2010  South Africa     3178856\n",
      "2006       Germany     3359439\n",
      "2014        Brazil     3386810\n",
      "1994           USA     3587538\n"
     ]
    }
   ],
   "source": [
    "df_publico = copas[['Country','Attendance']].sort_values('Attendance')\n",
    "\n",
    "print(df_publico.iloc[-5:])"
   ]
  },
  {
   "cell_type": "markdown",
   "metadata": {},
   "source": [
    "### Exercício 8)\n",
    "Construa um dicionário onde as chaves são os países que já participaram de uma final e os valores são o número de vezes que o país participou da final."
   ]
  },
  {
   "cell_type": "code",
   "execution_count": 3,
   "metadata": {},
   "outputs": [
    {
     "name": "stdout",
     "output_type": "stream",
     "text": [
      "{'Uruguay': 2, 'Argentina': 5, 'Italy': 6, 'Czechoslovakia': 2, 'Hungary': 2, 'Brazil': 7, 'Germany FR': 6, 'Sweden': 1, 'England': 1, 'Netherlands': 3, 'France': 2, 'Germany': 2, 'Spain': 1}\n"
     ]
    }
   ],
   "source": [
    "# SOLUÇÃO\n",
    "\n",
    "dic_finalista = {}\n",
    "for i in range(copas.shape[0]):       # percorre todas as linhas do DataFrame\n",
    "    pais1 = copas['Winner'].iloc[i]     # Campeão\n",
    "    pais2 = copas['RunnersUp'].iloc[i]  # Vice\n",
    "    \n",
    "    if pais1 in dic_finalista:      # verifica se o campeao ja esta no dicionario\n",
    "        dic_finalista[pais1] += 1\n",
    "    else:\n",
    "        dic_finalista[pais1] = 1\n",
    "        \n",
    "    if pais2 in dic_finalista:      # verifica se o vice ja esta no dicionario\n",
    "        dic_finalista[pais2] += 1\n",
    "    else:\n",
    "        dic_finalista[pais2] = 1\n",
    "        \n",
    "print(dic_finalista)"
   ]
  },
  {
   "cell_type": "markdown",
   "metadata": {},
   "source": [
    "### Exercício 9) \n",
    "Construa um dicionário com todos os países que já participaram de uma semi-final de copa (os quatro finalistas), onde a chave é o país e o valor corresponde ao número de vezes que o país foi um semi-finalista."
   ]
  },
  {
   "cell_type": "code",
   "execution_count": 4,
   "metadata": {},
   "outputs": [
    {
     "name": "stdout",
     "output_type": "stream",
     "text": [
      "{'Brazil': 11, 'Italy': 8, 'Germany FR': 8, 'Argentina': 5, 'Uruguay': 5, 'Germany': 5, 'England': 2, 'Spain': 2, 'France': 5, 'Netherlands': 5, 'Czechoslovakia': 2, 'Hungary': 2, 'Sweden': 4, 'Poland': 2, 'Turkey': 1, 'Austria': 2, 'USA': 1, 'Portugal': 2, 'Croatia': 1, 'Chile': 1, 'Yugoslavia': 2, 'Korea Republic': 1, 'Soviet Union': 1, 'Bulgaria': 1, 'Belgium': 1}\n"
     ]
    }
   ],
   "source": [
    "from functools import reduce\n",
    "\n",
    "# SOLUÇÃO\n",
    "\n",
    "# A solução poderia ser semelhante ao exercicio anterior, \n",
    "# mas considerando também os paises nas colunas 'Third' e 'Fourth'. \n",
    "# Vamos porém fazer uma solução diferente, utilizando o método \"value_counts\"\n",
    "\n",
    "campeoes = copas['Winner'].value_counts()\n",
    "vices = copas['RunnersUp'].value_counts()\n",
    "terceiros = copas['Third'].value_counts()\n",
    "quartos = copas['Fourth'].value_counts()\n",
    "\n",
    "# as variáveis 'campeoes', 'vices', 'terceiros' e 'quartos' são series onde o rótulo são os países\n",
    "# se somarmos as series, teremos o resultado desejado.\n",
    "# Porém, somar as series gera NaN quando os indices não coincidem\n",
    "# Para contornar, geramos uma serie onde os indices sao todos os paises e entao\n",
    "# realizamos a soma.\n",
    "\n",
    "lfinalistas = [campeoes,vices,terceiros,quartos]\n",
    "dic_finalista = {}\n",
    "for s in lfinalistas:\n",
    "    for index,value in s.items():\n",
    "        if index in dic_finalista:\n",
    "            dic_finalista[index] += value\n",
    "        else:\n",
    "            dic_finalista[index] = value\n",
    "            \n",
    "print(dic_finalista)"
   ]
  }
 ],
 "metadata": {
  "kernelspec": {
   "display_name": "Python 3",
   "language": "python",
   "name": "python3"
  },
  "language_info": {
   "codemirror_mode": {
    "name": "ipython",
    "version": 3
   },
   "file_extension": ".py",
   "mimetype": "text/x-python",
   "name": "python",
   "nbconvert_exporter": "python",
   "pygments_lexer": "ipython3",
   "version": "3.7.1"
  }
 },
 "nbformat": 4,
 "nbformat_minor": 2
}
