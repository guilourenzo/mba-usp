{
 "cells": [
  {
   "cell_type": "markdown",
   "metadata": {},
   "source": [
    "# <span style=\"color:blue\"> MBA em Ciência de Dados</span>\n",
    "# <span style=\"color:blue\">Programação para Ciência de Dados</span>\n",
    "\n",
    "## <span style=\"color:blue\">Avaliação Final</span>\n",
    "**Material Produzido por Luis Gustavo Nonato**<br>\n",
    "**Cemeai - ICMC/USP São Carlos**"
   ],
   "execution_count": null,
   "outputs": []
  },
  {
   "cell_type": "markdown",
   "metadata": {},
   "source": [
    "A avaliação vale 10 pontos. As questões de 1 a 4, caso respondidas da forma correta, totalizam 10 pontos. A última questão é um bônus que, se respondida corretamente, pode ajudar na nota final, ou seja, caso tenha respondido incorretamente uma das questões de 1 a 4, mas tenha acertado a questão bônus, ainda poderá atingir 10 pontos."
   ],
   "execution_count": null,
   "outputs": []
  },
  {
   "cell_type": "markdown",
   "metadata": {},
   "source": [
    "<font color='red'>**ATENÇÃO:** Quando terminar de exame, você deve fazer um \"upload\" do notebook no _moodle_</font>."
   ],
   "execution_count": null,
   "outputs": []
  },
  {
   "cell_type": "markdown",
   "metadata": {},
   "source": [
    "Para responder as questões abaixo será necessário fazer uso do arquivo <font style=\"font-family: monaco\">covid.csv\"</font> disponível para download no sistema _Moodle_. As colunas do conjunto de dados fornece informações sobre:\n",
    "- **'Province/State'**: estado ou província onde os casos de COVID19 foram registrados\n",
    "- **'Country/Region'**: país onde os casos de COVID19 foram registrados\n",
    "- **'Lat'** e **'Long'**: latitude e longitude de referência\n",
    "- **'Date'**: data dos registros\n",
    "- **'Value'**: quantidade de casos registrados"
   ],
   "execution_count": null,
   "outputs": []
  },
  {
   "cell_type": "code",
   "execution_count": 1,
   "metadata": {},
   "outputs": [],
   "source": [
    "import numpy as np\n",
    "import pandas as pd"
   ]
  },
  {
   "cell_type": "markdown",
   "metadata": {},
   "source": [
    "### Questão 1 (2 pontos)\n",
    "Considerando os dados contidos no arquivo <font style=\"font-family: monaco\">covid.csv\"</font>:\n"
   ],
   "execution_count": null,
   "outputs": []
  },
  {
   "cell_type": "markdown",
   "metadata": {},
   "source": [
    "#### a) (0.5 pontos)\n",
    "Carregue o arquivo \"covid.csv\" e armazena em um pandas DataFrame."
   ],
   "execution_count": null,
   "outputs": []
  },
  {
   "cell_type": "code",
   "execution_count": 2,
   "metadata": {},
   "outputs": [],
   "source": [
    "covid = pd.read_csv('covid.csv')"
   ]
  },
  {
   "cell_type": "markdown",
   "metadata": {},
   "source": [
    "#### b) (0.5 pontos)\n",
    "Elimine a primeira linha do DataFrame, a qual contém a informação:\n",
    "```python\n",
    "#adm1+name,#country+name,#geo+lat,#geo+lon,#date,#affected+infected+value+num\n",
    "```"
   ],
   "execution_count": null,
   "outputs": []
  },
  {
   "cell_type": "code",
   "execution_count": 3,
   "metadata": {},
   "outputs": [
    {
     "output_type": "stream",
     "name": "stdout",
     "text": "Province/State Country/Region       Lat      Long        Date  \\\n0     #adm1+name  #country+name  #geo+lat  #geo+lon       #date   \n1            NaN    afghanistan        33        65  2020-03-18   \n2            NaN    afghanistan        33        65  2020-03-17   \n\n                          Value  \n0  #affected+infected+value+num  \n1                            22  \n2                            22  \n"
    }
   ],
   "source": [
    "print(covid.head(3))\n",
    "\n",
    "covid.drop(covid.index[0], inplace = True)"
   ]
  },
  {
   "cell_type": "code",
   "execution_count": 4,
   "metadata": {},
   "outputs": [
    {
     "output_type": "stream",
     "name": "stdout",
     "text": "Province/State Country/Region Lat Long        Date Value\n1            NaN    afghanistan  33   65  2020-03-18    22\n2            NaN    afghanistan  33   65  2020-03-17    22\n3            NaN    afghanistan  33   65  2020-03-16    21\n"
    }
   ],
   "source": [
    "print(covid.head(3))"
   ]
  },
  {
   "cell_type": "markdown",
   "metadata": {},
   "source": [
    "#### c) (1 ponto)\n",
    "Verifique qual o tipo de dado da coluna \"Value\" e converta o tipo para inteiro (<font color='blue'>int</font>)."
   ],
   "execution_count": null,
   "outputs": []
  },
  {
   "cell_type": "code",
   "execution_count": 5,
   "metadata": {},
   "outputs": [
    {
     "output_type": "stream",
     "name": "stdout",
     "text": "Coluna: \"Value\"\nTipo:  object\n"
    }
   ],
   "source": [
    "print('Coluna: \"Value\"\\nTipo: ',covid['Value'].dtypes)\n",
    "\n",
    "covid['Value'] = covid['Value'].astype('int64')"
   ]
  },
  {
   "cell_type": "code",
   "execution_count": 6,
   "metadata": {},
   "outputs": [
    {
     "output_type": "stream",
     "name": "stdout",
     "text": "Coluna: \"Value\"\nTipo:  int64\n"
    }
   ],
   "source": [
    "print('Coluna: \"Value\"\\nTipo: ', covid['Value'].dtypes)"
   ]
  },
  {
   "cell_type": "markdown",
   "metadata": {},
   "source": [
    "### Questão 2 (2 pontos)\n",
    "Devido a um erro de armazenamento de inteiros, alguns países apresentam mais de 8 bilhões de casos de COVID19 (valor da coluna \"Value\" maior ou igual a 8.000.000.000) \n",
    "\n",
    "Elimine as linhas onde o número de casos é maior ou igual a 8 bilhões."
   ],
   "execution_count": null,
   "outputs": []
  },
  {
   "cell_type": "code",
   "execution_count": 7,
   "metadata": {},
   "outputs": [],
   "source": [
    "wrongValue = covid[covid['Value'] >= 8000000000].index\n",
    "covid.drop(wrongValue, inplace = True)"
   ]
  },
  {
   "cell_type": "markdown",
   "metadata": {},
   "source": [
    "### Questão 3 (3 pontos)\n",
    "O nome de alguns países estão com a primeira letra em maíuscula e outros não.\n",
    "\n",
    "Transforme os nomes dos países na coluna \"Country/Region\" para que contenham apenas letras **minúsculas**."
   ],
   "execution_count": null,
   "outputs": []
  },
  {
   "cell_type": "code",
   "execution_count": 8,
   "metadata": {},
   "outputs": [],
   "source": [
    "covid['Country/Region'] = covid['Country/Region'].str.lower()"
   ]
  },
  {
   "cell_type": "markdown",
   "metadata": {},
   "source": [
    "### Questão 4 (3 pontos)\n",
    "Quais são os três países com a maior quantidade de infectados?\n",
    "\n",
    "Lembre de considerar apenas o maior valor de cada país.\n",
    "\n",
    "**DICA:** groupby + max"
   ],
   "execution_count": null,
   "outputs": []
  },
  {
   "cell_type": "code",
   "execution_count": 9,
   "metadata": {},
   "outputs": [
    {
     "output_type": "stream",
     "name": "stdout",
     "text": "Country/Region  Qtd. Infected\n0          china          67800\n1          italy          35713\n2           iran          17361\n"
    }
   ],
   "source": [
    "print(covid.groupby('Country/Region')['Value'].max().sort_values(ascending=False).to_frame('Qtd. Infected').head(3).reset_index())"
   ]
  },
  {
   "cell_type": "markdown",
   "metadata": {},
   "source": [
    "### Questão Bonus (2 pontos)\n",
    "Considerando que a taxa de crescimento diária do vírus é de 1.31, quantos dias até o Brasil atingir 10000 casos?\n",
    "\n",
    "OBS: A fórmula para a quantidade de pessoas infectada no dia $n$ a partir da quantidade atual é:\n",
    "\n",
    "$ quantidade\\_atual * (1+1.31^{n})$ (dentro do parênteses: 1 mais 1.31 elevado a $n$)"
   ],
   "execution_count": null,
   "outputs": []
  },
  {
   "cell_type": "code",
   "execution_count": 10,
   "metadata": {},
   "outputs": [
    {
     "output_type": "stream",
     "name": "stdout",
     "text": "Data Inicial:  2020-03-18  | Data Final:  2020-03-19  | Diff. em Dias:  1  dia(s)  | Qtd. de Infectados:  487\nData Inicial:  2020-03-18  | Data Final:  2020-03-20  | Diff. em Dias:  2  dia(s)  | Qtd. de Infectados:  638\nData Inicial:  2020-03-18  | Data Final:  2020-03-21  | Diff. em Dias:  3  dia(s)  | Qtd. de Infectados:  836\nData Inicial:  2020-03-18  | Data Final:  2020-03-22  | Diff. em Dias:  4  dia(s)  | Qtd. de Infectados:  1.096\nData Inicial:  2020-03-18  | Data Final:  2020-03-23  | Diff. em Dias:  5  dia(s)  | Qtd. de Infectados:  1.435\nData Inicial:  2020-03-18  | Data Final:  2020-03-24  | Diff. em Dias:  6  dia(s)  | Qtd. de Infectados:  1.880\nData Inicial:  2020-03-18  | Data Final:  2020-03-25  | Diff. em Dias:  7  dia(s)  | Qtd. de Infectados:  2.463\nData Inicial:  2020-03-18  | Data Final:  2020-03-26  | Diff. em Dias:  8  dia(s)  | Qtd. de Infectados:  3.226\nData Inicial:  2020-03-18  | Data Final:  2020-03-27  | Diff. em Dias:  9  dia(s)  | Qtd. de Infectados:  4.227\nData Inicial:  2020-03-18  | Data Final:  2020-03-28  | Diff. em Dias:  10  dia(s)  | Qtd. de Infectados:  5.537\nData Inicial:  2020-03-18  | Data Final:  2020-03-29  | Diff. em Dias:  11  dia(s)  | Qtd. de Infectados:  7.253\nData Inicial:  2020-03-18  | Data Final:  2020-03-30  | Diff. em Dias:  12  dia(s)  | Qtd. de Infectados:  9.502\nData Inicial:  2020-03-18  | Data Final:  2020-03-31  | Diff. em Dias:  13  dia(s)  | Qtd. de Infectados:  12.447\n------------------------------------------------------------------------------------------------------------------------\nApós 13  dias ( de 2020-03-18 à 2020-03-31 ) atingiremos a quantidade aproximada de  12.447 , para isso a taxa de crescimento diário do vírus deve se manter constante.\n"
    }
   ],
   "source": [
    "from datetime import timedelta\n",
    "add = timedelta(days = 1)\n",
    "covid['Date'] = pd.to_datetime(covid['Date'], format='%Y-%m-%d')\n",
    "\n",
    "days = 1\n",
    "brActualInfected = covid.loc[covid['Country/Region'] == 'brazil', 'Value'].max()\n",
    "dateInitial = covid.loc[covid['Country/Region'] == 'brazil', 'Date'].max()\n",
    "dateFinal = dateInitial\n",
    "brInfected = 0\n",
    "\n",
    "while brInfected < 10001:\n",
    "    brInfected = brActualInfected * ((1 + 0.31)**days)\n",
    "    dateFinal += add\n",
    "    days += 1\n",
    "    print(\n",
    "        'Data Inicial: ', dateInitial.date(), \\\n",
    "        ' | Data Final: ', dateFinal.date(), \\\n",
    "        ' | Diff. em Dias: ', (dateFinal - dateInitial).days,' dia(s)', \\\n",
    "        ' | Qtd. de Infectados: ', '{:,.0f}'.format(brInfected).replace(',','.')\n",
    "    )\n",
    "\n",
    "print(120 * '-')\n",
    "\n",
    "print('Após', (dateFinal - dateInitial).days,' dias ( de', dateInitial.date(), 'à', dateFinal.date() ,') atingiremos a quantidade aproximada de ', '{:,.0f}'.format(brInfected).replace(',','.'), ', para isso a taxa de crescimento diário do vírus deve se manter constante.')\n",
    ""
   ]
  }
 ],
 "metadata": {
  "kernelspec": {
   "display_name": "Python 3",
   "language": "python",
   "name": "python3"
  },
  "language_info": {
   "codemirror_mode": {
    "name": "ipython",
    "version": 3
   },
   "file_extension": ".py",
   "mimetype": "text/x-python",
   "name": "python",
   "nbconvert_exporter": "python",
   "pygments_lexer": "ipython3",
   "version": "3.7.6-final"
  },
  "toc": {
   "base_numbering": 1,
   "nav_menu": {},
   "number_sections": true,
   "sideBar": true,
   "skip_h1_title": false,
   "title_cell": "Table of Contents",
   "title_sidebar": "Contents",
   "toc_cell": false,
   "toc_position": {},
   "toc_section_display": true,
   "toc_window_display": false
  }
 },
 "nbformat": 4,
 "nbformat_minor": 2
}