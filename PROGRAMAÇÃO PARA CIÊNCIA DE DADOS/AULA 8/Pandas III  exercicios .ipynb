{
 "cells": [
  {
   "cell_type": "markdown",
   "metadata": {},
   "source": [
    "# <span style=\"color:blue\"> MBA em Ciência de Dados</span>\n",
    "# <span style=\"color:blue\">Programação para Ciência de Dados</span>\n",
    "\n",
    "## <span style=\"color:blue\">Exercícios Pandas Parte III</span>\n",
    "**Material Produzido por Luis Gustavo Nonato**<br>\n",
    "**Cemeai - ICMC/USP São Carlos**"
   ]
  },
  {
   "cell_type": "markdown",
   "metadata": {},
   "source": [
    "#### <span style=\"color:red\">Recomenda-se fortemente que os exercícios sejam feitos sem consultar as respostas antecipadamente.</span>"
   ]
  },
  {
   "cell_type": "markdown",
   "metadata": {},
   "source": [
    "Parte dos exercícios a seguir farão uso do arquivo <font style=\"font-family: monaco\">sales.csv</font> disponível para download no moodle.\n",
    "\n",
    "O arquivo <font style=\"font-family: monaco\">sales.csv</font> possui informações relativas à venda de produtos. As colunas abaixo são de particular importância para solução dos exercícios:\n",
    "- *Country*: país da venda\n",
    "- *Item Type*: tipo do produto vendido\n",
    "- *Units Sold*: quantidade vendida\n",
    "- *Unit Price*: preço de venda\n",
    "- *Unit Cost*: preço de custo\n",
    "- *Total Profit*: lucro"
   ]
  },
  {
   "cell_type": "code",
   "execution_count": null,
   "metadata": {},
   "outputs": [],
   "source": [
    "import pandas as pd\n",
    "import numpy as np\n",
    "\n",
    "df = pd.read_csv('sales.csv')\n",
    "print(df.shape)"
   ]
  },
  {
   "cell_type": "markdown",
   "metadata": {},
   "source": [
    "### Exercício 1)\n",
    "Agrupe os dados da base <font style=\"font-family: monaco\">sales.csv</font> de acordo com os países. Imprima as colunas 'Item Type' and 'Total Profit' dos grupos gerados. "
   ]
  },
  {
   "cell_type": "code",
   "execution_count": null,
   "metadata": {},
   "outputs": [],
   "source": []
  },
  {
   "cell_type": "markdown",
   "metadata": {},
   "source": [
    "### Exercício 2)\n",
    "Encontre quantos tipos distintos de produtos o 'México' e a 'Austria' vendem."
   ]
  },
  {
   "cell_type": "code",
   "execution_count": null,
   "metadata": {},
   "outputs": [],
   "source": []
  },
  {
   "cell_type": "markdown",
   "metadata": {},
   "source": [
    "### Exercício 3)\n",
    "Qual o país com o maior número de produtos distintos?"
   ]
  },
  {
   "cell_type": "code",
   "execution_count": null,
   "metadata": {},
   "outputs": [],
   "source": []
  },
  {
   "cell_type": "markdown",
   "metadata": {},
   "source": [
    "### Exercício 4)\n",
    "Utilizando <font color='blue'>groupby</font>, construa um DataFrame onde:\n",
    "- os rótulos das linhas correspondem a cada tipo de produto vendido\n",
    "- possua uma coluna contendo a quantidade total de vendas de cada produto\n",
    "- possua uma coluna contendo o lucro total de cada produto"
   ]
  },
  {
   "cell_type": "code",
   "execution_count": null,
   "metadata": {},
   "outputs": [],
   "source": [
    "# a solução deste exercício é uma aplicação direta de grouby com agregação\n"
   ]
  },
  {
   "cell_type": "markdown",
   "metadata": {},
   "source": [
    "### Exercício 5)\n",
    "Utilizando <font color='blue'>groupby</font>, construa um DataFrame contendo:\n",
    "- uma coluna com o nome dos países contidos na base de dados, sendo que cada país aparece somente uma vez \n",
    "- uma coluna com o total de vendas do país correspondente"
   ]
  },
  {
   "cell_type": "code",
   "execution_count": null,
   "metadata": {},
   "outputs": [],
   "source": [
    "# Para agrupar e fazer com que o nome dos grupos se tornem uma coluna \n",
    "# e não rótulos para as linhas, deve-se utilizar o método reset_index()'\n"
   ]
  },
  {
   "cell_type": "markdown",
   "metadata": {},
   "source": [
    "### Exercício 6)\n",
    "Construa um DataFrame com as seguintes características:\n",
    "- Possua uma coluna contendo cada tipo de produto (cada produto aparece apenas uma vez)\n",
    "- Para cada produto, incluir seu lucro médio em uma nova coluna, ou seja, para cada produto deve-se calcular a diferença entre o valor de venda e o valor de custo do produto e calcular a médias destas diferenças.\n",
    "\n",
    "**Dica**: Adicione uma nova coluna no DataFrame original com as diferenças e depois construa o novo DataFrame"
   ]
  },
  {
   "cell_type": "code",
   "execution_count": null,
   "metadata": {},
   "outputs": [],
   "source": []
  },
  {
   "cell_type": "markdown",
   "metadata": {},
   "source": [
    "### Exercício 7) \n",
    "Utilizando o método <font color='blue'>transfom</font> do <font color='blue'>groupby</font> construa uma Serie com o mesmo número de linhas do conjunto de dados <font style=\"font-family: monaco\">sales.csv</font>, onde os valores correspondem ao índice da linha onde o produto mais vendido de cada país ocorre.\n",
    "\n",
    "Por exemplo: O país 'Australia' vende três tipos de produtos, \n",
    "'Office Supplies', 'Cereal', and 'Beverages'. A busca \n",
    "```python\n",
    "df[['Country','Item Type','Units Sold']].loc[df['Country']=='Australia'])\n",
    "```\n",
    "resulta em:\n",
    "```python\n",
    "      Country        Item Type  Units Sold\n",
    "32  Australia  Office Supplies        2924\n",
    "60  Australia           Cereal         682\n",
    "91  Australia        Beverages        9389\n",
    "```\n",
    "Assim, o produto mais vendido da 'Australia' é 'Beverages' e esta informação ocorre na linha de índice 91 do DataFrame original. Desta forma, a Serie gerada deve possuir nas linhas de índice 32, 60 e 91 o valor 91.\n",
    "\n",
    "**Dica**: Agrupe pela coluna 'Country' e aplique o método <font color='blue'>transfom</font> somente na coluna 'Units Sold'. O método <font color='blue'>idxmax()</font>  do <font color='blue'>pandas</font>  retorna o índice da linha onde o máximo valor de uma Serie ocorre. "
   ]
  },
  {
   "cell_type": "code",
   "execution_count": null,
   "metadata": {
    "scrolled": true
   },
   "outputs": [],
   "source": []
  },
  {
   "cell_type": "markdown",
   "metadata": {},
   "source": [
    "### Exercício 8) \n",
    "Construa um DataFrame com uma coluna chamada 'Pais', contendo os nomes de todos os países do DataFrame original (sem repetição). O DataFrame deve ser indexado com valores interios entre 0 e $n-1$, onde $n$ é o número de paises. Quantos países existem na base de dados?\n",
    "\n",
    "**Dica**: Para obter o rótulo (nome) de um grupo dentro do método <font color='blue'>apply</font> pode-se utilizar o atributo <font color='blue'>.name</font>, ou seja,\n",
    "```python\n",
    "df.groupby(<dados agrupamento>).apply(lambda x. x.name)\n",
    "```\n",
    "retorna o rótulo de cada grupo gerado pelo <font color='blue'>groupby</font>"
   ]
  },
  {
   "cell_type": "code",
   "execution_count": null,
   "metadata": {},
   "outputs": [],
   "source": []
  },
  {
   "cell_type": "markdown",
   "metadata": {},
   "source": [
    "### Exercício 9) \n",
    "Construa um DataFrame contendo:\n",
    "- uma coluna com os nomes dos países (cada país aparece apenas uma vez)\n",
    "- uma coluna com o nome do produto mais vendido no país, ou seja, cada linha contém o nome do país e o produto mais vendido daquele país.\n",
    "\n",
    "**Dica**: Agrupe a Serie criada no exercício 7) de acordo com os países,\n",
    "gerando uma nova Serie com o número de linhas equivalente ao número de países. Utilize a Serie gerada para buscar, no DataFrame original, o nome do produto mais vendido."
   ]
  },
  {
   "cell_type": "code",
   "execution_count": null,
   "metadata": {
    "scrolled": true
   },
   "outputs": [],
   "source": []
  },
  {
   "cell_type": "code",
   "execution_count": null,
   "metadata": {},
   "outputs": [],
   "source": []
  },
  {
   "cell_type": "markdown",
   "metadata": {},
   "source": [
    "### Exercício 10) \n",
    "O método <font color='blue'>groupby</font> combinado com a transformação <font color='blue'>apply</font> podem ser utilizados para preencher dados faltantes com valores específicos em cada grupo. O DataFrame gerado no código abaixo possui dados faltantes (`NaN`) em várias posições. \n",
    "1. Divida os elementos do DataFrame em dois grupos, o grupo das linha pares e o grupo das linhas ímpares.\n",
    "2. Preencha os dados faltantes do grupo das linhas pares com o valor médio dos valores no grupo \n",
    "3. Preencha os dados faltantes do grupo das linhas ímpares com o valor médio dos valores no grupo "
   ]
  },
  {
   "cell_type": "code",
   "execution_count": null,
   "metadata": {},
   "outputs": [],
   "source": [
    "# construindo um DataFrame com valores faltantes\n",
    "dataf = np.random.randint(low=0, high=10, size=(10,5)).astype(float)\n",
    "rid = np.random.randint(low=0, high=10, size=5)\n",
    "cid = np.random.randint(low=0, high=5, size=5)\n",
    "dataf[rid,cid] = np.nan\n",
    "\n",
    "clabels=['c1','c2','c3','c4','c5']\n",
    "df = pd.DataFrame(data=dataf,columns=clabels)\n",
    "\n",
    "print(df)"
   ]
  },
  {
   "cell_type": "code",
   "execution_count": null,
   "metadata": {},
   "outputs": [],
   "source": [
    "# escreva o codigo aqui\n",
    "\n"
   ]
  }
 ],
 "metadata": {
  "kernelspec": {
   "display_name": "Python 3",
   "language": "python",
   "name": "python3"
  },
  "language_info": {
   "codemirror_mode": {
    "name": "ipython",
    "version": 3
   },
   "file_extension": ".py",
   "mimetype": "text/x-python",
   "name": "python",
   "nbconvert_exporter": "python",
   "pygments_lexer": "ipython3",
   "version": "3.7.1"
  },
  "toc": {
   "base_numbering": 1,
   "nav_menu": {},
   "number_sections": true,
   "sideBar": true,
   "skip_h1_title": false,
   "title_cell": "Table of Contents",
   "title_sidebar": "Contents",
   "toc_cell": false,
   "toc_position": {},
   "toc_section_display": true,
   "toc_window_display": false
  }
 },
 "nbformat": 4,
 "nbformat_minor": 2
}
