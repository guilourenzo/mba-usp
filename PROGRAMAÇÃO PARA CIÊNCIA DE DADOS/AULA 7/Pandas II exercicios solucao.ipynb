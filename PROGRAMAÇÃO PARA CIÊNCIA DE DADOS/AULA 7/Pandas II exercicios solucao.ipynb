{
 "cells": [
  {
   "cell_type": "markdown",
   "metadata": {},
   "source": [
    "# <span style=\"color:blue\"> MBA em Ciência de Dados</span>\n",
    "# <span style=\"color:blue\">Programação para Ciência de Dados</span>\n",
    "\n",
    "## <span style=\"color:blue\">Pandas Parte II - Exercícios</span>\n",
    "**Material Produzido por Luis Gustavo Nonato**<br>\n",
    "**Cemeai - ICMC/USP São Carlos**\n",
    "---"
   ]
  },
  {
   "cell_type": "markdown",
   "metadata": {},
   "source": [
    "#### <span style=\"color:red\">Recomenda-se fortemente que os exercícios sejam feitos sem consultar as respostas antecipadamente.</span>"
   ]
  },
  {
   "cell_type": "markdown",
   "metadata": {},
   "source": [
    "Os exercícios a seguir farão uso do arquivo <font style=\"font-family: monaco\">ESC2013\\_RMSP\\_CEM.csv</font> disponível para download no sistema _Moodle_. Este conjunto de dados fornece informações a respeito das escolas de ensino básico, fundamental e médio do estado de São Paulo. O significado de cada coluna pode ser encontrado no arquivo <font style=\"font-family: monaco\">DicionarioESC.pdf</font> também disponível no moodle."
   ]
  },
  {
   "cell_type": "code",
   "execution_count": 1,
   "metadata": {},
   "outputs": [],
   "source": [
    "import numpy as np\n",
    "import pandas as pd\n",
    "import matplotlib.pyplot as plt"
   ]
  },
  {
   "cell_type": "code",
   "execution_count": 2,
   "metadata": {},
   "outputs": [],
   "source": [
    "# Os comandos abaixo são apenas para modificar como as informações serão apresentadas\n",
    "# no notebook\n",
    "\n",
    "# mostra no máximo 50 colunas\n",
    "pd.set_option('display.max_columns', 50)\n",
    "\n",
    "# aumenta o tamanho das figuras geradas pelo matplotlib\n",
    "plt.rcParams['figure.figsize'] = (10.0, 8.0)"
   ]
  },
  {
   "cell_type": "markdown",
   "metadata": {},
   "source": [
    "### Exercício 1)\n",
    "Carregue o arquivo <font style=\"font-family: monaco\">ESC2013\\_RMSP\\_CEM.csv</font> e armazene-o em uma variável DataFrame chamada `escolas`. Visualize as primeiras 5 linhas do DataFrame."
   ]
  },
  {
   "cell_type": "code",
   "execution_count": 3,
   "metadata": {},
   "outputs": [
    {
     "data": {
      "text/html": [
       "<div>\n",
       "<style scoped>\n",
       "    .dataframe tbody tr th:only-of-type {\n",
       "        vertical-align: middle;\n",
       "    }\n",
       "\n",
       "    .dataframe tbody tr th {\n",
       "        vertical-align: top;\n",
       "    }\n",
       "\n",
       "    .dataframe thead th {\n",
       "        text-align: right;\n",
       "    }\n",
       "</style>\n",
       "<table border=\"1\" class=\"dataframe\">\n",
       "  <thead>\n",
       "    <tr style=\"text-align: right;\">\n",
       "      <th></th>\n",
       "      <th>ID</th>\n",
       "      <th>LONGITUDE</th>\n",
       "      <th>LATITUDE</th>\n",
       "      <th>CODESC</th>\n",
       "      <th>CODESCTX</th>\n",
       "      <th>NOMEESC</th>\n",
       "      <th>NOMEMUN</th>\n",
       "      <th>CODMUN</th>\n",
       "      <th>NOMDIST</th>\n",
       "      <th>CODDIST</th>\n",
       "      <th>COD_SC</th>\n",
       "      <th>COD_DEP</th>\n",
       "      <th>TIP_DEP</th>\n",
       "      <th>BAIRRO</th>\n",
       "      <th>CEP</th>\n",
       "      <th>END_ESC</th>\n",
       "      <th>NUM_ESC</th>\n",
       "      <th>DDD</th>\n",
       "      <th>TELEFONE</th>\n",
       "      <th>LOCALIZA</th>\n",
       "      <th>LAB_INF</th>\n",
       "      <th>QD_ESP_C</th>\n",
       "      <th>QD_ESP_D</th>\n",
       "      <th>BIBLIO</th>\n",
       "      <th>ENS_REG</th>\n",
       "      <th>...</th>\n",
       "      <th>MAT07_AF</th>\n",
       "      <th>LP07_AF</th>\n",
       "      <th>NP07_AF</th>\n",
       "      <th>MAT09_AF</th>\n",
       "      <th>LP09_AF</th>\n",
       "      <th>NP09_AF</th>\n",
       "      <th>MAT11_AF</th>\n",
       "      <th>LP11_AF</th>\n",
       "      <th>NP11_AF</th>\n",
       "      <th>MAT13_AF</th>\n",
       "      <th>LP13_AF</th>\n",
       "      <th>NP13_AF</th>\n",
       "      <th>IDEB05AF</th>\n",
       "      <th>IDEB07AF</th>\n",
       "      <th>IDEB09AF</th>\n",
       "      <th>IDEB11AF</th>\n",
       "      <th>IDEB13AF</th>\n",
       "      <th>RED_EN13</th>\n",
       "      <th>LC_EN13</th>\n",
       "      <th>MAT_EN13</th>\n",
       "      <th>CH_EN13</th>\n",
       "      <th>CN_EN13</th>\n",
       "      <th>ENEM2013</th>\n",
       "      <th>INSE_AB</th>\n",
       "      <th>INSE_CL</th>\n",
       "    </tr>\n",
       "  </thead>\n",
       "  <tbody>\n",
       "    <tr>\n",
       "      <th>0</th>\n",
       "      <td>90</td>\n",
       "      <td>-47143986</td>\n",
       "      <td>-23986886</td>\n",
       "      <td>35080548</td>\n",
       "      <td>35080548</td>\n",
       "      <td>BAIRRO DOS BARNABES RECANTO DAS ORQUIDEAS</td>\n",
       "      <td>JUQUITIBA</td>\n",
       "      <td>3526209</td>\n",
       "      <td>BARNABES</td>\n",
       "      <td>352620910.0</td>\n",
       "      <td>NaN</td>\n",
       "      <td>2</td>\n",
       "      <td>Estadual</td>\n",
       "      <td>BAIRRO DOS BARNABES</td>\n",
       "      <td>6950000.0</td>\n",
       "      <td>RUA ANTONIO FRANCISCO PEREIRA</td>\n",
       "      <td>285</td>\n",
       "      <td>11</td>\n",
       "      <td>46841502</td>\n",
       "      <td>1</td>\n",
       "      <td>0</td>\n",
       "      <td>0</td>\n",
       "      <td>1</td>\n",
       "      <td>0</td>\n",
       "      <td>1</td>\n",
       "      <td>...</td>\n",
       "      <td>NaN</td>\n",
       "      <td>NaN</td>\n",
       "      <td>NaN</td>\n",
       "      <td>NaN</td>\n",
       "      <td>NaN</td>\n",
       "      <td>NaN</td>\n",
       "      <td>NaN</td>\n",
       "      <td>NaN</td>\n",
       "      <td>NaN</td>\n",
       "      <td>NaN</td>\n",
       "      <td>NaN</td>\n",
       "      <td>NaN</td>\n",
       "      <td>NaN</td>\n",
       "      <td>NaN</td>\n",
       "      <td>NaN</td>\n",
       "      <td>NaN</td>\n",
       "      <td>NaN</td>\n",
       "      <td>NaN</td>\n",
       "      <td>NaN</td>\n",
       "      <td>NaN</td>\n",
       "      <td>NaN</td>\n",
       "      <td>NaN</td>\n",
       "      <td>NaN</td>\n",
       "      <td>50.6921</td>\n",
       "      <td>Medio Alto</td>\n",
       "    </tr>\n",
       "    <tr>\n",
       "      <th>1</th>\n",
       "      <td>398</td>\n",
       "      <td>-47145545</td>\n",
       "      <td>-23985717</td>\n",
       "      <td>35352524</td>\n",
       "      <td>35352524</td>\n",
       "      <td>MARIA CRISTINA BRESSALI CHAMA CRECHE MUNICIPAL</td>\n",
       "      <td>JUQUITIBA</td>\n",
       "      <td>3526209</td>\n",
       "      <td>BARNABES</td>\n",
       "      <td>352620910.0</td>\n",
       "      <td>NaN</td>\n",
       "      <td>3</td>\n",
       "      <td>Municipal</td>\n",
       "      <td>BARNABES</td>\n",
       "      <td>6950000.0</td>\n",
       "      <td>RUA ANTONIO SOARES GODINHO</td>\n",
       "      <td>31</td>\n",
       "      <td>11</td>\n",
       "      <td>46841666</td>\n",
       "      <td>1</td>\n",
       "      <td>0</td>\n",
       "      <td>0</td>\n",
       "      <td>0</td>\n",
       "      <td>0</td>\n",
       "      <td>1</td>\n",
       "      <td>...</td>\n",
       "      <td>NaN</td>\n",
       "      <td>NaN</td>\n",
       "      <td>NaN</td>\n",
       "      <td>NaN</td>\n",
       "      <td>NaN</td>\n",
       "      <td>NaN</td>\n",
       "      <td>NaN</td>\n",
       "      <td>NaN</td>\n",
       "      <td>NaN</td>\n",
       "      <td>NaN</td>\n",
       "      <td>NaN</td>\n",
       "      <td>NaN</td>\n",
       "      <td>NaN</td>\n",
       "      <td>NaN</td>\n",
       "      <td>NaN</td>\n",
       "      <td>NaN</td>\n",
       "      <td>NaN</td>\n",
       "      <td>NaN</td>\n",
       "      <td>NaN</td>\n",
       "      <td>NaN</td>\n",
       "      <td>NaN</td>\n",
       "      <td>NaN</td>\n",
       "      <td>NaN</td>\n",
       "      <td>NaN</td>\n",
       "      <td>NaN</td>\n",
       "    </tr>\n",
       "    <tr>\n",
       "      <th>2</th>\n",
       "      <td>399</td>\n",
       "      <td>-47145560</td>\n",
       "      <td>-23985685</td>\n",
       "      <td>35069929</td>\n",
       "      <td>35069929</td>\n",
       "      <td>TERRA NOVA EM</td>\n",
       "      <td>JUQUITIBA</td>\n",
       "      <td>3526209</td>\n",
       "      <td>BARNABES</td>\n",
       "      <td>352620910.0</td>\n",
       "      <td>NaN</td>\n",
       "      <td>3</td>\n",
       "      <td>Municipal</td>\n",
       "      <td>BARNABES</td>\n",
       "      <td>6950000.0</td>\n",
       "      <td>R ANTONIO SOARES GODINHO</td>\n",
       "      <td>35</td>\n",
       "      <td>11</td>\n",
       "      <td>46841462</td>\n",
       "      <td>1</td>\n",
       "      <td>0</td>\n",
       "      <td>0</td>\n",
       "      <td>0</td>\n",
       "      <td>0</td>\n",
       "      <td>1</td>\n",
       "      <td>...</td>\n",
       "      <td>NaN</td>\n",
       "      <td>NaN</td>\n",
       "      <td>NaN</td>\n",
       "      <td>NaN</td>\n",
       "      <td>NaN</td>\n",
       "      <td>NaN</td>\n",
       "      <td>NaN</td>\n",
       "      <td>NaN</td>\n",
       "      <td>NaN</td>\n",
       "      <td>NaN</td>\n",
       "      <td>NaN</td>\n",
       "      <td>NaN</td>\n",
       "      <td>NaN</td>\n",
       "      <td>NaN</td>\n",
       "      <td>NaN</td>\n",
       "      <td>NaN</td>\n",
       "      <td>NaN</td>\n",
       "      <td>NaN</td>\n",
       "      <td>NaN</td>\n",
       "      <td>NaN</td>\n",
       "      <td>NaN</td>\n",
       "      <td>NaN</td>\n",
       "      <td>NaN</td>\n",
       "      <td>NaN</td>\n",
       "      <td>NaN</td>\n",
       "    </tr>\n",
       "    <tr>\n",
       "      <th>3</th>\n",
       "      <td>400</td>\n",
       "      <td>-47146239</td>\n",
       "      <td>-23983873</td>\n",
       "      <td>35036365</td>\n",
       "      <td>35036365</td>\n",
       "      <td>BAIRRO DOS BARNABES</td>\n",
       "      <td>JUQUITIBA</td>\n",
       "      <td>3526209</td>\n",
       "      <td>BARNABES</td>\n",
       "      <td>352620910.0</td>\n",
       "      <td>NaN</td>\n",
       "      <td>2</td>\n",
       "      <td>Estadual</td>\n",
       "      <td>BARNABES</td>\n",
       "      <td>6950000.0</td>\n",
       "      <td>R ANTONIO SOARES GODINHO</td>\n",
       "      <td>413</td>\n",
       "      <td>11</td>\n",
       "      <td>46841155</td>\n",
       "      <td>1</td>\n",
       "      <td>1</td>\n",
       "      <td>0</td>\n",
       "      <td>1</td>\n",
       "      <td>0</td>\n",
       "      <td>1</td>\n",
       "      <td>...</td>\n",
       "      <td>230.40</td>\n",
       "      <td>220.14</td>\n",
       "      <td>4.18</td>\n",
       "      <td>229.93</td>\n",
       "      <td>229.88</td>\n",
       "      <td>4.33</td>\n",
       "      <td>242.32</td>\n",
       "      <td>248.41</td>\n",
       "      <td>4.85</td>\n",
       "      <td>247.08</td>\n",
       "      <td>238.32</td>\n",
       "      <td>4.76</td>\n",
       "      <td>NaN</td>\n",
       "      <td>3.7</td>\n",
       "      <td>4.2</td>\n",
       "      <td>4.5</td>\n",
       "      <td>4.4</td>\n",
       "      <td>NaN</td>\n",
       "      <td>NaN</td>\n",
       "      <td>NaN</td>\n",
       "      <td>NaN</td>\n",
       "      <td>NaN</td>\n",
       "      <td>NaN</td>\n",
       "      <td>47.3253</td>\n",
       "      <td>Medio</td>\n",
       "    </tr>\n",
       "    <tr>\n",
       "      <th>4</th>\n",
       "      <td>97</td>\n",
       "      <td>-47141337</td>\n",
       "      <td>-23964408</td>\n",
       "      <td>35913424</td>\n",
       "      <td>35913424</td>\n",
       "      <td>BAIRRO DAS SENHORINHAS</td>\n",
       "      <td>JUQUITIBA</td>\n",
       "      <td>3526209</td>\n",
       "      <td>BARNABES</td>\n",
       "      <td>352620910.0</td>\n",
       "      <td>NaN</td>\n",
       "      <td>2</td>\n",
       "      <td>Estadual</td>\n",
       "      <td>SENHORINHAS</td>\n",
       "      <td>6950000.0</td>\n",
       "      <td>RUA DOS LAGOS</td>\n",
       "      <td>20</td>\n",
       "      <td>11</td>\n",
       "      <td>46812769</td>\n",
       "      <td>1</td>\n",
       "      <td>0</td>\n",
       "      <td>1</td>\n",
       "      <td>0</td>\n",
       "      <td>0</td>\n",
       "      <td>1</td>\n",
       "      <td>...</td>\n",
       "      <td>241.29</td>\n",
       "      <td>226.74</td>\n",
       "      <td>4.47</td>\n",
       "      <td>172.40</td>\n",
       "      <td>170.80</td>\n",
       "      <td>2.39</td>\n",
       "      <td>249.23</td>\n",
       "      <td>244.94</td>\n",
       "      <td>4.90</td>\n",
       "      <td>244.75</td>\n",
       "      <td>231.59</td>\n",
       "      <td>4.61</td>\n",
       "      <td>NaN</td>\n",
       "      <td>4.2</td>\n",
       "      <td>2.3</td>\n",
       "      <td>4.7</td>\n",
       "      <td>4.4</td>\n",
       "      <td>451.33</td>\n",
       "      <td>469.34</td>\n",
       "      <td>480.52</td>\n",
       "      <td>485.11</td>\n",
       "      <td>444.71</td>\n",
       "      <td>469.92</td>\n",
       "      <td>49.3778</td>\n",
       "      <td>Medio</td>\n",
       "    </tr>\n",
       "  </tbody>\n",
       "</table>\n",
       "<p>5 rows × 136 columns</p>\n",
       "</div>"
      ],
      "text/plain": [
       "    ID  LONGITUDE  LATITUDE    CODESC  CODESCTX  \\\n",
       "0   90  -47143986 -23986886  35080548  35080548   \n",
       "1  398  -47145545 -23985717  35352524  35352524   \n",
       "2  399  -47145560 -23985685  35069929  35069929   \n",
       "3  400  -47146239 -23983873  35036365  35036365   \n",
       "4   97  -47141337 -23964408  35913424  35913424   \n",
       "\n",
       "                                          NOMEESC    NOMEMUN   CODMUN  \\\n",
       "0       BAIRRO DOS BARNABES RECANTO DAS ORQUIDEAS  JUQUITIBA  3526209   \n",
       "1  MARIA CRISTINA BRESSALI CHAMA CRECHE MUNICIPAL  JUQUITIBA  3526209   \n",
       "2                                   TERRA NOVA EM  JUQUITIBA  3526209   \n",
       "3                             BAIRRO DOS BARNABES  JUQUITIBA  3526209   \n",
       "4                          BAIRRO DAS SENHORINHAS  JUQUITIBA  3526209   \n",
       "\n",
       "    NOMDIST      CODDIST  COD_SC  COD_DEP    TIP_DEP               BAIRRO  \\\n",
       "0  BARNABES  352620910.0     NaN        2   Estadual  BAIRRO DOS BARNABES   \n",
       "1  BARNABES  352620910.0     NaN        3  Municipal             BARNABES   \n",
       "2  BARNABES  352620910.0     NaN        3  Municipal             BARNABES   \n",
       "3  BARNABES  352620910.0     NaN        2   Estadual             BARNABES   \n",
       "4  BARNABES  352620910.0     NaN        2   Estadual          SENHORINHAS   \n",
       "\n",
       "         CEP                        END_ESC NUM_ESC DDD  TELEFONE  LOCALIZA  \\\n",
       "0  6950000.0  RUA ANTONIO FRANCISCO PEREIRA     285  11  46841502         1   \n",
       "1  6950000.0     RUA ANTONIO SOARES GODINHO      31  11  46841666         1   \n",
       "2  6950000.0       R ANTONIO SOARES GODINHO      35  11  46841462         1   \n",
       "3  6950000.0       R ANTONIO SOARES GODINHO     413  11  46841155         1   \n",
       "4  6950000.0                  RUA DOS LAGOS      20  11  46812769         1   \n",
       "\n",
       "   LAB_INF  QD_ESP_C  QD_ESP_D  BIBLIO  ENS_REG  ...  MAT07_AF  LP07_AF  \\\n",
       "0        0         0         1       0        1  ...       NaN      NaN   \n",
       "1        0         0         0       0        1  ...       NaN      NaN   \n",
       "2        0         0         0       0        1  ...       NaN      NaN   \n",
       "3        1         0         1       0        1  ...    230.40   220.14   \n",
       "4        0         1         0       0        1  ...    241.29   226.74   \n",
       "\n",
       "   NP07_AF  MAT09_AF  LP09_AF  NP09_AF  MAT11_AF  LP11_AF  NP11_AF  MAT13_AF  \\\n",
       "0      NaN       NaN      NaN      NaN       NaN      NaN      NaN       NaN   \n",
       "1      NaN       NaN      NaN      NaN       NaN      NaN      NaN       NaN   \n",
       "2      NaN       NaN      NaN      NaN       NaN      NaN      NaN       NaN   \n",
       "3     4.18    229.93   229.88     4.33    242.32   248.41     4.85    247.08   \n",
       "4     4.47    172.40   170.80     2.39    249.23   244.94     4.90    244.75   \n",
       "\n",
       "   LP13_AF  NP13_AF  IDEB05AF  IDEB07AF  IDEB09AF  IDEB11AF  IDEB13AF  \\\n",
       "0      NaN      NaN       NaN       NaN       NaN       NaN       NaN   \n",
       "1      NaN      NaN       NaN       NaN       NaN       NaN       NaN   \n",
       "2      NaN      NaN       NaN       NaN       NaN       NaN       NaN   \n",
       "3   238.32     4.76       NaN       3.7       4.2       4.5       4.4   \n",
       "4   231.59     4.61       NaN       4.2       2.3       4.7       4.4   \n",
       "\n",
       "   RED_EN13  LC_EN13  MAT_EN13  CH_EN13  CN_EN13  ENEM2013  INSE_AB  \\\n",
       "0       NaN      NaN       NaN      NaN      NaN       NaN  50.6921   \n",
       "1       NaN      NaN       NaN      NaN      NaN       NaN      NaN   \n",
       "2       NaN      NaN       NaN      NaN      NaN       NaN      NaN   \n",
       "3       NaN      NaN       NaN      NaN      NaN       NaN  47.3253   \n",
       "4    451.33   469.34    480.52   485.11   444.71    469.92  49.3778   \n",
       "\n",
       "      INSE_CL  \n",
       "0  Medio Alto  \n",
       "1         NaN  \n",
       "2         NaN  \n",
       "3       Medio  \n",
       "4       Medio  \n",
       "\n",
       "[5 rows x 136 columns]"
      ]
     },
     "execution_count": 3,
     "metadata": {},
     "output_type": "execute_result"
    }
   ],
   "source": [
    "escolas = pd.read_csv(\"ESC2013_RMSP_CEM.csv\")\n",
    "escolas.head()"
   ]
  },
  {
   "cell_type": "markdown",
   "metadata": {},
   "source": [
    "### Exercício 2)\n",
    "O arquivo <font style=\"font-family: monaco\">ESC2013\\_RMSP\\_CEM.csv</font> possui muitos valores faltantes. Encontre e imprima o nome da coluna com mais valores faltantes. Calcule também o número de valores faltantes em tal coluna.\n",
    "\n",
    "__DICA__: Utilize uma combinação dos métodos do <font color='blue'>pandas</font>:\n",
    "\n",
    "[isna](https://pandas.pydata.org/pandas-docs/stable/reference/api/pandas.DataFrame.isna.html) retorna uma máscara com True nas posições onde valores faltantes ocorrem<br>\n",
    "[idxmax](https://pandas.pydata.org/pandas-docs/stable/reference/api/pandas.DataFrame.idxmax.html) retorna o rótulo onde o valor máximo ocorre em um dado eixo (rótulo da linha ou coluna dependento do valor do parâmetro <font color='blue'>axis</font><br> \n",
    "[max](https://pandas.pydata.org/pandas-docs/stable/reference/api/pandas.DataFrame.max.html) retorna o valor máximo em um eixo especificado"
   ]
  },
  {
   "cell_type": "code",
   "execution_count": 4,
   "metadata": {
    "scrolled": true
   },
   "outputs": [
    {
     "name": "stdout",
     "output_type": "stream",
     "text": [
      "ID           0\n",
      "LONGITUDE    0\n",
      "LATITUDE     0\n",
      "CODESC       0\n",
      "CODESCTX     0\n",
      "dtype: int64\n",
      "\n",
      "Coluna com mais valores faltantes: COD_SC\n",
      "\n",
      "O número de valores faltantes na coluna COD_SC é: 10937\n"
     ]
    }
   ],
   "source": [
    "nulos_por_coluna = escolas.isna().sum(axis=0) # o método 'isna' retorna um DataFrame\n",
    "                                         # (máscara) com valores True\n",
    "                                         # nas posições onde valores faltantes ocorrem.\n",
    "                                         # Os valores True são interpretados como 1 enquanto \n",
    "                                         # que os valores False são interpretados como 0\n",
    "                                         # aplicando o método 'sum' para somar os valores True\n",
    "                                         # por coluna (axis=0) obtemos o total de valores\n",
    "                                         # faltantes em cada coluna.\n",
    "\n",
    "                        \n",
    "print(nulos_por_coluna.head())  # a variavel 'nulos_por_coluna' é uma série onde os rótulos das \n",
    "                          # linhas são os rótulos das colunas do DataFrame 'escolas' e o \n",
    "                          # valor em cada entrada correponde ou o número de valores faltantes\n",
    "                          # na coluna correspondente\n",
    "    \n",
    "print('\\nColuna com mais valores faltantes:',nulos_por_coluna.idxmax())\n",
    "                             # 'idxmax' retorna o rótulo da coluna onde o máximo da \n",
    "                             # série ocorre\n",
    "    \n",
    "print('\\nO número de valores faltantes na coluna',nulos_por_coluna.idxmax(),\n",
    "      'é:',nulos_por_coluna.max()) # o método 'max' retorna o valor máximo da série."
   ]
  },
  {
   "cell_type": "markdown",
   "metadata": {},
   "source": [
    "### Exercício 3)\n",
    "Verifique se existem linhas duplicadas no conjunto de dados\n",
    "\n",
    "__Dica:__ Utilize o método <font color='blue'>duplicated</font> do <font color='blue'>pandas</font>"
   ]
  },
  {
   "cell_type": "code",
   "execution_count": 5,
   "metadata": {},
   "outputs": [
    {
     "name": "stdout",
     "output_type": "stream",
     "text": [
      "Existem 0 linhas duplicadas\n"
     ]
    }
   ],
   "source": [
    "total_duplicadas = escolas.duplicated().sum() # O método 'duplicated' retorna uma série onde\n",
    "                                         # valores 'True' ocorrem nas linhas que são duplicadas\n",
    "                                         # O método 'sum' soma o número de ocorrências\n",
    "                                         # de valores 'True' (linhas repetidas neste caso)\n",
    "\n",
    "print('Existem',total_duplicadas,'linhas duplicadas')"
   ]
  },
  {
   "cell_type": "markdown",
   "metadata": {},
   "source": [
    "### Exercício 4)\n",
    "A coluna 'COD_DEP' do DataFrame `escolas` representa o código da dependência administrativa da escola (1 - Federal, 2 - Estadual, 3 - Municipal, 4 - Privada).\n",
    "\n",
    "Calcule quantas escolas federais, estaduais, municipais e particulares existe na base de dados. Armazene a contagem em uma série do <font color='blue'>pandas</font>.\n",
    "\n",
    "**DICA**: Utilize o método <font color='blue'>value_counts</font> do <font color='blue'>pandas</font>"
   ]
  },
  {
   "cell_type": "code",
   "execution_count": 6,
   "metadata": {},
   "outputs": [
    {
     "name": "stdout",
     "output_type": "stream",
     "text": [
      "Privada      5225\n",
      "Municipal    3405\n",
      "Estadual     2303\n",
      "Federal         4\n",
      "Name: COD_DEP, dtype: int64\n"
     ]
    }
   ],
   "source": [
    "contagem = escolas['COD_DEP'].value_counts() # o método 'value_counts' gera uma série onde\n",
    "                                             # os rótulos são os valores presentes na série\n",
    "                                             # original e os valores o número de vezes que \n",
    "                                             # cada valore aparece na série\n",
    "\n",
    "# Renomeando os rótulos da série \n",
    "contagem = contagem.rename({1:'Federal',2:'Estadual',3:'Municipal',4:'Privada'})\n",
    "\n",
    "print(contagem)"
   ]
  },
  {
   "cell_type": "markdown",
   "metadata": {},
   "source": [
    "### Exercício 5)\n",
    "\n",
    "O Pandas também oferece recursos para visualização que são simples de utilizar. Utilize o método plot com o parâmetro 'bar' para gerar um gráfico de barras com o número de escolas calculadas na célula acima. Para mais informações sobre os recursos gráficos disponíveis no pandas veja documentação aqui\n"
   ]
  },
  {
   "cell_type": "code",
   "execution_count": 7,
   "metadata": {},
   "outputs": [
    {
     "name": "stderr",
     "output_type": "stream",
     "text": [
      "/home/bcoelho/.local/lib/python3.6/site-packages/ipykernel_launcher.py:1: FutureWarning: `Series.plot()` should not be called with positional arguments, only keyword arguments. The order of positional arguments will change in the future. Use `Series.plot(kind='bar')` instead of `Series.plot('bar',)`.\n",
      "  \"\"\"Entry point for launching an IPython kernel.\n"
     ]
    },
    {
     "data": {
      "text/plain": [
       "<matplotlib.axes._subplots.AxesSubplot at 0x7f6c8477cc88>"
      ]
     },
     "execution_count": 7,
     "metadata": {},
     "output_type": "execute_result"
    },
    {
     "data": {
      "image/png": "[encoded data removed]",
      "text/plain": [
       "<Figure size 720x576 with 1 Axes>"
      ]
     },
     "metadata": {
      "needs_background": "light"
     },
     "output_type": "display_data"
    }
   ],
   "source": [
    "contagem.plot('bar')"
   ]
  },
  {
   "cell_type": "markdown",
   "metadata": {},
   "source": [
    "### Exercício 6)\n",
    "Como visto anteriormente, o conjunto de dados do arquivo <font style=\"font-family: monaco\">ESC2013\\_RMSP\\_CEM.csv</font> possui muitos valores faltantes. Utilize uma combinação do método <font color='blue'>map</font> e <font color='blue'>isna</font> para encontrar a porcentagem de linhas do DataFrame que possuem dados faltantes."
   ]
  },
  {
   "cell_type": "code",
   "execution_count": 8,
   "metadata": {},
   "outputs": [
    {
     "name": "stdout",
     "output_type": "stream",
     "text": [
      "Porcentagem de linhas com dados faltantes:  100.0\n"
     ]
    }
   ],
   "source": [
    "linhas_com_valores_faltantes = escolas.isna().sum(axis=1) # calcula quantos valores faltantes \n",
    "                                                          # existem em cada linha\n",
    "\n",
    "linhas_com_valores_faltantes = linhas_com_valores_faltantes.map(lambda x: x>0) # transforma\n",
    "                                    # os valores da série de modo que toda linha\n",
    "                                    # que possui pelo menos um dado faltante recebe\n",
    "                                    # o valor True\n",
    "\n",
    "print(\"Porcentagem de linhas com dados faltantes: \",100*linhas_com_valores_faltantes.sum()/linhas_com_valores_faltantes.shape[0])"
   ]
  },
  {
   "cell_type": "markdown",
   "metadata": {},
   "source": [
    "### Exercício 7)\n",
    "\n",
    "O resultado do exercício anterior mostra que todas as linhas do conjunto de dados <font style=\"font-family: monaco\">ESC2013_RMSP_CEM.csv</font> possuem pelo menos um dado faltante. Assim, se adotarmos a estratégia de remover as linhas que possuem dados faltantes, todo o conjunto de dados será descartado. \n",
    "\n",
    "Uma alternativa é remover do conjunto de dados as colunas onde o número de valores faltantes é elevado. Escreva um código que gera um novo DataFrame chamado `escolas30` contendo as colunas do DataFrame `escolas` com no máximo 30% de valores faltantes. \n",
    "\n",
    "__Dica:__ Gere uma série booleana onde os rótulos das linhas são os rótulos das colunas do DataFrame `escolas`, sendo os valores 'True' nas entradas correspondendo às colunas\n",
    "com menos que 30% de valores faltantes. Utilize a série booleana em conjunto com o comando <font color='blue'>loc</font> do <font color='blue'>pandas</font> para extrair as colunas desejadas."
   ]
  },
  {
   "cell_type": "code",
   "execution_count": 9,
   "metadata": {},
   "outputs": [
    {
     "data": {
      "text/plain": [
       "(136,)"
      ]
     },
     "execution_count": 9,
     "metadata": {},
     "output_type": "execute_result"
    }
   ],
   "source": [
    "nulos_por_coluna.shape"
   ]
  },
  {
   "cell_type": "code",
   "execution_count": 10,
   "metadata": {},
   "outputs": [
    {
     "data": {
      "text/plain": [
       "(10937, 136)"
      ]
     },
     "execution_count": 10,
     "metadata": {},
     "output_type": "execute_result"
    }
   ],
   "source": [
    "escolas.shape"
   ]
  },
  {
   "cell_type": "code",
   "execution_count": 11,
   "metadata": {},
   "outputs": [
    {
     "data": {
      "text/plain": [
       "ID              0\n",
       "LONGITUDE       0\n",
       "LATITUDE        0\n",
       "CODESC          0\n",
       "CODESCTX        0\n",
       "             ... \n",
       "CH_EN13      9803\n",
       "CN_EN13      9803\n",
       "ENEM2013     9803\n",
       "INSE_AB      6404\n",
       "INSE_CL      6404\n",
       "Length: 136, dtype: int64"
      ]
     },
     "execution_count": 11,
     "metadata": {},
     "output_type": "execute_result"
    }
   ],
   "source": [
    "nulos_por_coluna = escolas.isna().sum(axis=0)\n",
    "nulos_por_coluna"
   ]
  },
  {
   "cell_type": "code",
   "execution_count": 12,
   "metadata": {},
   "outputs": [
    {
     "name": "stdout",
     "output_type": "stream",
     "text": [
      "    ID  LONGITUDE  LATITUDE    CODESC  CODESCTX  \\\n",
      "0   90  -47143986 -23986886  35080548  35080548   \n",
      "1  398  -47145545 -23985717  35352524  35352524   \n",
      "2  399  -47145560 -23985685  35069929  35069929   \n",
      "3  400  -47146239 -23983873  35036365  35036365   \n",
      "4   97  -47141337 -23964408  35913424  35913424   \n",
      "\n",
      "                                          NOMEESC    NOMEMUN   CODMUN  \\\n",
      "0       BAIRRO DOS BARNABES RECANTO DAS ORQUIDEAS  JUQUITIBA  3526209   \n",
      "1  MARIA CRISTINA BRESSALI CHAMA CRECHE MUNICIPAL  JUQUITIBA  3526209   \n",
      "2                                   TERRA NOVA EM  JUQUITIBA  3526209   \n",
      "3                             BAIRRO DOS BARNABES  JUQUITIBA  3526209   \n",
      "4                          BAIRRO DAS SENHORINHAS  JUQUITIBA  3526209   \n",
      "\n",
      "    NOMDIST      CODDIST  COD_DEP    TIP_DEP               BAIRRO        CEP  \\\n",
      "0  BARNABES  352620910.0        2   Estadual  BAIRRO DOS BARNABES  6950000.0   \n",
      "1  BARNABES  352620910.0        3  Municipal             BARNABES  6950000.0   \n",
      "2  BARNABES  352620910.0        3  Municipal             BARNABES  6950000.0   \n",
      "3  BARNABES  352620910.0        2   Estadual             BARNABES  6950000.0   \n",
      "4  BARNABES  352620910.0        2   Estadual          SENHORINHAS  6950000.0   \n",
      "\n",
      "                         END_ESC NUM_ESC DDD  TELEFONE  LOCALIZA  LAB_INF  \\\n",
      "0  RUA ANTONIO FRANCISCO PEREIRA     285  11  46841502         1        0   \n",
      "1     RUA ANTONIO SOARES GODINHO      31  11  46841666         1        0   \n",
      "2       R ANTONIO SOARES GODINHO      35  11  46841462         1        0   \n",
      "3       R ANTONIO SOARES GODINHO     413  11  46841155         1        1   \n",
      "4                  RUA DOS LAGOS      20  11  46812769         1        0   \n",
      "\n",
      "   QD_ESP_C  QD_ESP_D  BIBLIO  ENS_REG  REG_IN_CR  REG_IN_PE  REG_FU_8A  \\\n",
      "0         0         1       0        1          0          0          0   \n",
      "1         0         0       0        1          1          0          0   \n",
      "2         0         0       0        1          1          1          0   \n",
      "3         0         1       0        1          0          0          1   \n",
      "4         1         0       0        1          0          0          1   \n",
      "\n",
      "   REG_FU_9A  REG_MED  REG_MED_I  REG_MED_N  REG_MED_P  ENS_ESP  ESP_IN_CR  \\\n",
      "0          1        0          0          0          0        0          0   \n",
      "1          0        0          0          0          0        0          0   \n",
      "2          0        0          0          0          0        0          0   \n",
      "3          1        1          0          0          0        0          0   \n",
      "4          1        1          0          0          0        0          0   \n",
      "\n",
      "   ESP_IN_PE  ESP_FU_8A  ESP_FU_9A  ESP_MED  ESP_MED_I  ESP_MED_N  ESP_MED_P  \\\n",
      "0          0          0          0        0          0          0          0   \n",
      "1          0          0          0        0          0          0          0   \n",
      "2          0          0          0        0          0          0          0   \n",
      "3          0          0          0        0          0          0          0   \n",
      "4          0          0          0        0          0          0          0   \n",
      "\n",
      "   ESP_EJA_F  ESP_EJA_M  EJA  EJA_FUND  EJA_MED  EJA_PROJ  \n",
      "0          0          0    0         0        0         0  \n",
      "1          0          0    0         0        0         0  \n",
      "2          0          0    0         0        0         0  \n",
      "3          0          0    0         0        0         0  \n",
      "4          0          0    0         0        0         0  \n"
     ]
    }
   ],
   "source": [
    "nulos_por_coluna = escolas.isna().sum(axis=0) # calcula o número de valores faltantes em cada coluna\n",
    "\n",
    "colunas_maximo30_nulos = nulos_por_coluna < 0.3*len(escolas) # gera uma\n",
    "                                                        # série booleana com valores True\n",
    "                                                        # correspondendo as colunas do \n",
    "                                                        # DataFrame 'escolas' com menos\n",
    "                                                        # que 30% de valores faltantes\n",
    "            \n",
    "escolas30 = escolas.loc[:,colunas_maximo30_nulos.values]  # obtendo as colunas do DataFrame\n",
    "                                                          # 'escolas' com menos que 30% de \n",
    "                                                          # valores faltantes\n",
    "\n",
    "print(escolas30.head())"
   ]
  },
  {
   "cell_type": "markdown",
   "metadata": {},
   "source": [
    "### Exercício 8)\n",
    "\n",
    "Quantas colunas restaram no DataFrame `escolas30`? Recalcule a porcentagem de linhas com pelo menos um valor faltante."
   ]
  },
  {
   "cell_type": "code",
   "execution_count": 13,
   "metadata": {},
   "outputs": [
    {
     "name": "stdout",
     "output_type": "stream",
     "text": [
      "Numero de colunas restantes:  47\n",
      "10.07% de linhas com valores faltantes\n"
     ]
    }
   ],
   "source": [
    "print(\"Numero de colunas restantes: \",escolas30.shape[1])\n",
    "\n",
    "linhas_com_valores_faltantes_escolas30 = escolas30.isna().sum(axis=1).map(lambda x: x>0)\n",
    "\n",
    "perc_nulos = 100*linhas_com_valores_faltantes_escolas30.sum()/linhas_com_valores_faltantes_escolas30.shape[0]\n",
    "\n",
    "print(f'{perc_nulos:.2f}% de linhas com valores faltantes')"
   ]
  },
  {
   "cell_type": "markdown",
   "metadata": {},
   "source": [
    "### Exercício 9)\n",
    "\n",
    "O DataFrame `escolas30` possui poucos valores faltantes. Preencha os valores faltantes com o valor da _moda_  da coluna onde o valor faltante ocorre. \n",
    "\n",
    "__Dica:__ Utilize o método <font color='blue'>mode</font> combinado com <font color='blue'>fillna</font> do <font color='blue'>pandas</font>. Note que o método  <font color='blue'>mode</font> pode retornar vários valores caso haja um empate no cálculo da moda."
   ]
  },
  {
   "cell_type": "code",
   "execution_count": 14,
   "metadata": {
    "scrolled": false
   },
   "outputs": [],
   "source": [
    "# Obtendo as modas\n",
    "modas = escolas30.mode() # calcula o valor da moda em cada coluna\n",
    "                         # o resultado é um DataFrame onde a primeira linha\n",
    "                         # contém os valores da moda da coluna, a segunda linha\n",
    "                         # valores de moda onde houve impate e NaN caso não ocorra \n",
    "                         # impate, e assim por diante\n",
    "modas.head()\n",
    "\n",
    "escolas30 = escolas30.fillna(modas.iloc[0])  # preenchendo os valores faltantes com um dos\n",
    "                                             # valores da moda em cada coluna."
   ]
  },
  {
   "cell_type": "markdown",
   "metadata": {},
   "source": [
    "### Exercício 10)\n",
    "\n",
    "Certifique que o DataFrame `escolas30` não possui qualquer valor faltante após o tratamento realizado no exercício anterior."
   ]
  },
  {
   "cell_type": "code",
   "execution_count": 15,
   "metadata": {},
   "outputs": [
    {
     "name": "stdout",
     "output_type": "stream",
     "text": [
      "Empty DataFrame\n",
      "Columns: [ID, LONGITUDE, LATITUDE, CODESC, CODESCTX, NOMEESC, NOMEMUN, CODMUN, NOMDIST, CODDIST, COD_DEP, TIP_DEP, BAIRRO, CEP, END_ESC, NUM_ESC, DDD, TELEFONE, LOCALIZA, LAB_INF, QD_ESP_C, QD_ESP_D, BIBLIO, ENS_REG, REG_IN_CR, REG_IN_PE, REG_FU_8A, REG_FU_9A, REG_MED, REG_MED_I, REG_MED_N, REG_MED_P, ENS_ESP, ESP_IN_CR, ESP_IN_PE, ESP_FU_8A, ESP_FU_9A, ESP_MED, ESP_MED_I, ESP_MED_N, ESP_MED_P, ESP_EJA_F, ESP_EJA_M, EJA, EJA_FUND, EJA_MED, EJA_PROJ]\n",
      "Index: []\n",
      "Numero de valores faltante = 0\n"
     ]
    }
   ],
   "source": [
    "# Verificando que não restam valores faltantes\n",
    "# note que o resultado é um DataFrame vazio \"Empty DataFrame\"\n",
    "print(escolas30.loc[escolas30.isna().sum(axis=1) > 0])\n",
    "\n",
    "# solucao alternativa\n",
    "\n",
    "print('Numero de valores faltante =',escolas30.isna().sum(axis=0).sum())"
   ]
  }
 ],
 "metadata": {
  "kernelspec": {
   "display_name": "Python 3",
   "language": "python",
   "name": "python3"
  },
  "language_info": {
   "codemirror_mode": {
    "name": "ipython",
    "version": 3
   },
   "file_extension": ".py",
   "mimetype": "text/x-python",
   "name": "python",
   "nbconvert_exporter": "python",
   "pygments_lexer": "ipython3",
   "version": "3.6.5rc1"
  },
  "toc": {
   "base_numbering": 1,
   "nav_menu": {},
   "number_sections": true,
   "sideBar": true,
   "skip_h1_title": false,
   "title_cell": "Table of Contents",
   "title_sidebar": "Contents",
   "toc_cell": false,
   "toc_position": {},
   "toc_section_display": true,
   "toc_window_display": false
  }
 },
 "nbformat": 4,
 "nbformat_minor": 2
}
