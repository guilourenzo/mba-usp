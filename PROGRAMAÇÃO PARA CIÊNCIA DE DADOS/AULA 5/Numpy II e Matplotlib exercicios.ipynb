{
 "cells": [
  {
   "cell_type": "markdown",
   "metadata": {},
   "source": [
    "# <span style=\"color:blue\"> MBA em Ciência de Dados</span>\n",
    "# <span style=\"color:blue\">Programação para Ciência de Dados</span>\n",
    "\n",
    "## <span style=\"color:blue\">Numpy Parte II e Matplotlib - Exercícios</span>\n",
    "**Material Produzido por Luis Gustavo Nonato**<br>\n",
    "**Cemeai - ICMC/USP São Carlos**\n",
    "---"
   ]
  },
  {
   "cell_type": "markdown",
   "metadata": {},
   "source": [
    "#### <span style=\"color:red\">Recomenda-se fortemente que os exercícios sejam feitos sem consultar as respostas antecipadamente.</span>"
   ]
  },
  {
   "cell_type": "code",
   "execution_count": 1,
   "metadata": {},
   "outputs": [],
   "source": [
    "import numpy as np"
   ]
  },
  {
   "cell_type": "markdown",
   "metadata": {},
   "source": [
    "### Exercício 1)\n",
    "Crie uma matriz com <font color='blue'>numpy</font> denominada `A` com 6 linhas e 3 colunas  broadcasting o array [1 2 3 4 5 6].\n",
    "\n",
    "__Dica:__ Construa primeiro uma matriz com dimensões 6x3 e depois emprege broadcasting"
   ]
  },
  {
   "cell_type": "code",
   "execution_count": 2,
   "metadata": {},
   "outputs": [
    {
     "name": "stdout",
     "output_type": "stream",
     "text": [
      "[[1. 1. 1.]\n",
      " [2. 2. 2.]\n",
      " [3. 3. 3.]\n",
      " [4. 4. 4.]\n",
      " [5. 5. 5.]\n",
      " [6. 6. 6.]]\n"
     ]
    }
   ],
   "source": []
  },
  {
   "cell_type": "markdown",
   "metadata": {},
   "source": [
    "### Exercício 2)\n",
    "Construa uma matriz \n",
    "```python\n",
    "[[0 1 2 3 4 5]\n",
    " [1 2 3 4 5 6]\n",
    " [2 3 4 5 6 7]\n",
    " [3 4 5 6 7 8]\n",
    " [4 5 6 7 8 9]]\n",
    "```\n",
    "partir dos arrays [0 1 2 3 4] e [0 1 2 3 4 5] utilizando broadcasting."
   ]
  },
  {
   "cell_type": "code",
   "execution_count": 3,
   "metadata": {},
   "outputs": [
    {
     "name": "stdout",
     "output_type": "stream",
     "text": [
      "[[0 1 2 3 4 5]\n",
      " [1 2 3 4 5 6]\n",
      " [2 3 4 5 6 7]\n",
      " [3 4 5 6 7 8]\n",
      " [4 5 6 7 8 9]]\n"
     ]
    }
   ],
   "source": []
  },
  {
   "cell_type": "markdown",
   "metadata": {},
   "source": [
    "### Exercício 3)\n",
    "Construa uma matriz 10x10 com números randômicos gerados no intervalo entre 0 e 1. Some os valores de cada coluna e encontre a coluna com o maior soma de seus elementos. "
   ]
  },
  {
   "cell_type": "code",
   "execution_count": 8,
   "metadata": {},
   "outputs": [
    {
     "name": "stdout",
     "output_type": "stream",
     "text": [
      "Matriz randomica:\n",
      " [[0.97478248 0.79558423 0.81366071 0.03238776 0.02561238 0.23769449\n",
      "  0.68473438 0.368783   0.21420512 0.54074947]\n",
      " [0.30612198 0.54162015 0.53490248 0.39623183 0.33736151 0.89408716\n",
      "  0.75798575 0.02930693 0.07788693 0.31594074]\n",
      " [0.3804475  0.08813605 0.34807371 0.97883617 0.93729957 0.23267329\n",
      "  0.49672797 0.24271026 0.84295208 0.66196252]\n",
      " [0.52705187 0.61645888 0.00137657 0.18091548 0.55853471 0.67421585\n",
      "  0.16798999 0.44985071 0.17356702 0.80865485]\n",
      " [0.51335644 0.38484171 0.88645159 0.78261966 0.94389511 0.41558278\n",
      "  0.71768331 0.89956657 0.63704247 0.24336042]\n",
      " [0.21404687 0.42682063 0.43579913 0.2384023  0.20440081 0.52564965\n",
      "  0.00682101 0.87087043 0.06550271 0.0573214 ]\n",
      " [0.37991575 0.56298115 0.12434275 0.05339542 0.80539994 0.30666662\n",
      "  0.56728126 0.42120391 0.45443437 0.0685598 ]\n",
      " [0.73927224 0.83480457 0.73470461 0.39241592 0.96516273 0.03911162\n",
      "  0.54999391 0.94031874 0.52235598 0.48272963]\n",
      " [0.07126608 0.27511987 0.74054824 0.46604099 0.15372107 0.65455874\n",
      "  0.27149153 0.38884166 0.74999845 0.49067552]\n",
      " [0.23476222 0.96374057 0.02890548 0.33689464 0.34122237 0.52494812\n",
      "  0.86067735 0.32287828 0.66076372 0.07361175]]\n",
      "As somas das colunas é:\n",
      " [4.34102343 5.4901078  4.64876527 3.85814016 5.27261021 4.5051883\n",
      " 5.08138646 4.9343305  4.39870884 3.74356611]\n",
      "A coluna com maior some é a  1\n"
     ]
    }
   ],
   "source": []
  },
  {
   "cell_type": "markdown",
   "metadata": {},
   "source": [
    "### Exercício 4)\n",
    "Considere uma matriz `A` $n\\times n,\\, n\\geq 2$ . Por exemplo, para $n=4$:\n",
    "$$\n",
    "A=\\left(\\begin{array}[cccc]\\\\\n",
    "1 & 3 & 2 & 6 \\\\\n",
    "3 & 5 & 1 & {7} \\\\\n",
    "{0} & 4 & {2} & {6} \\\\\n",
    "6 & 1 & 3 & {1} \n",
    "\\end{array}\\right)\n",
    "$$\n",
    "Crie uma matriz `B`  2$\\times$2 onde a primeira linha corresponde aos valores mínimo e máximo da soma das linhas da matriz `A` e a segunda linha de `B` corresponde aos valores mínimo e máximo da soma das colunas. Considerando a matriz `A` acima, a matriz `B` resultante seria:\n",
    "\n",
    "$$\n",
    "B=\\left(\\begin{array}[cc]\\\\\n",
    "11 & 16\\\\\n",
    "8 & 20\n",
    "\\end{array}\\right)\n",
    "$$\n",
    "\n",
    "A sua solução deve funcionar para qualquer matriz $n\\times n,\\, n\\geq 2$.<br>"
   ]
  },
  {
   "cell_type": "code",
   "execution_count": 17,
   "metadata": {},
   "outputs": [
    {
     "name": "stdout",
     "output_type": "stream",
     "text": [
      "[[34.60927816 63.89729896]\n",
      " [38.26760295 66.85802324]]\n"
     ]
    }
   ],
   "source": []
  },
  {
   "cell_type": "markdown",
   "metadata": {},
   "source": [
    "### Exercício 5)\n",
    "Construa uma função chamada `ordena_linhas` que recebe uma matriz como parâmetro e troque as linhas de posição para que fiquem ordenadas de acordo com a primeira coluna. Por exemplo:\n",
    "```python\n",
    "A = np.array([[20, 26, 12], \n",
    "              [8, 3, 26], \n",
    "              [3, 10, 4]])\n",
    "print(ordena_linhas(A))\n",
    "```\n",
    "deve resultar em\n",
    "```python\n",
    "[[ 3 10  4]\n",
    " [ 8  3 26]\n",
    " [20 26 12]]\n",
    "```"
   ]
  },
  {
   "cell_type": "code",
   "execution_count": 39,
   "metadata": {},
   "outputs": [
    {
     "name": "stdout",
     "output_type": "stream",
     "text": [
      "[[20, 26, 12], [8, 3, 26], [3, 10, 4]]\n",
      "[[ 3 10  4]\n",
      " [ 8  3 26]\n",
      " [20 26 12]]\n"
     ]
    }
   ],
   "source": []
  },
  {
   "cell_type": "markdown",
   "metadata": {},
   "source": [
    "### Exercício 6)\n",
    "O método <font color='blue'>bar</font> do <font color='blue'>matplotlib.pyplot</font> gera um gráfico de barras a partir de um array com as coordenadas horizontais das barras e um array com as alturas das barras, ambos enviados como parâmetros (veja documentação [aqui](https://matplotlib.org/3.1.1/gallery/statistics/barchart_demo.html#sphx-glr-gallery-statistics-barchart-demo-py)). Gere um array de números randômicos no intervalo entre 0 e 1 e utilize o método <font color='blue'>bar</font> para visualizar os valores do array."
   ]
  },
  {
   "cell_type": "code",
   "execution_count": 41,
   "metadata": {},
   "outputs": [
    {
     "data": {
      "text/plain": [
       "<BarContainer object of 9 artists>"
      ]
     },
     "execution_count": 41,
     "metadata": {},
     "output_type": "execute_result"
    },
    {
     "data": {
      "image/png": "[encoded data removed]",
      "text/plain": [
       "<Figure size 432x288 with 1 Axes>"
      ]
     },
     "metadata": {
      "needs_background": "light"
     },
     "output_type": "display_data"
    }
   ],
   "source": [
    "import matplotlib.pyplot as plt\n",
    "%matplotlib inline\n",
    "\n"
   ]
  },
  {
   "cell_type": "markdown",
   "metadata": {},
   "source": [
    "### Exercício 7)\n",
    "Melhore o gráfico de barras gerado no exercício anterior adicionando um asterisco vermelho no topo da barra mais alta.\n",
    "\n",
    "__Dica:__ Utilize o método <font color='blue'>scatter</font> do <font color='blue'>matplotlib.pyplot</font> para mostrar o asterisco."
   ]
  },
  {
   "cell_type": "code",
   "execution_count": 44,
   "metadata": {},
   "outputs": [
    {
     "data": {
      "text/plain": [
       "<matplotlib.collections.PathCollection at 0x11a1e0cf8>"
      ]
     },
     "execution_count": 44,
     "metadata": {},
     "output_type": "execute_result"
    },
    {
     "data": {
      "image/png": "[encoded data removed]",
      "text/plain": [
       "<Figure size 432x288 with 1 Axes>"
      ]
     },
     "metadata": {
      "needs_background": "light"
     },
     "output_type": "display_data"
    }
   ],
   "source": []
  },
  {
   "cell_type": "markdown",
   "metadata": {},
   "source": [
    "### Exercício 8)\n",
    "Dado um conjunto de pontos $(x_0,y_0),(x_1,y_1),\\ldots,(x_n,y_n)$, podemos ajustar uma reta $y=\\alpha_0+\\alpha_1 x$ a esses pontos resolvendo o sistema linear:\n",
    "\n",
    "$$\n",
    "\\left(A^\\top A\\right)\\alpha = A^\\top b\n",
    "$$\n",
    "\n",
    "onde a matriz de $A$ e o vetor $b$ são definidos como:\n",
    "\n",
    "$$\n",
    "A=\\left(\\begin{array}{cc}\n",
    "1 & x_0 \\\\\n",
    "1 & x_1 \\\\\n",
    "\\vdots & \\vdots \\\\\n",
    "1 & x_n \n",
    "\\end{array}\\right),\n",
    "\\qquad\n",
    "\\alpha = \\left(\\begin{array}{c}\n",
    "\\alpha_0 \\\\\n",
    "\\alpha_1 \n",
    "\\end{array}\\right),\n",
    "\\qquad\n",
    "b = \\left(\\begin{array}{c}\n",
    "y_0 \\\\\n",
    "y_1 \\\\\n",
    "\\vdots \\\\\n",
    "y_n\n",
    "\\end{array}\\right)\n",
    "$$\n",
    "sendo $A^\\top$ a transposta da matriz de $A$.\n",
    "\n",
    "Suponha que os pontos $(x_i,y_i)$ são gerados pelo código:\n",
    "\n",
    "```python\n",
    "x = np.random.uniform(0,1,100)\n",
    "y = 1.0-x+np.random.uniform(-0.3,0.3,100)\n",
    "```\n",
    "\n",
    "a) Construa uma função que receba o array `x` como parâmtros e retorna a matriz `A` como definida acima.\n",
    "\n",
    "b)  Resolva o sistema linear $\\left(A^\\top A\\right)\\alpha = A^\\top b$ utilizando o métodos \"numpy.linalg.solve\" e imprima o resultado obtido (valores de $\\alpha_0$ e $\\alpha_1$ da reta)."
   ]
  },
  {
   "cell_type": "code",
   "execution_count": 24,
   "metadata": {},
   "outputs": [
    {
     "name": "stdout",
     "output_type": "stream",
     "text": [
      "[ 1.00144564 -0.9940121 ]\n"
     ]
    }
   ],
   "source": []
  },
  {
   "cell_type": "markdown",
   "metadata": {},
   "source": [
    "### Exercício 9)\n",
    "Utilizando os valores $\\alpha_0$ e $\\alpha_1$ calculados na questão anterior, faça um gráfico os pontos $(x_i,y_i)$ e da reta encontrada. O seu código deve produzir um gráfico semelhante ao apresentado abaixo: \n",
    "\n",
    "![IMAGEM](linefit.png)\n",
    "\n",
    "__Obs.__ A imagem \"linefit.png\" deve estar no mesmo diretório desse notebook.\n",
    "\n",
    "__Dica:__ Utilize o método <font color='blue'>scatter</font> do <font color='blue'>pyplot</font>"
   ]
  },
  {
   "cell_type": "code",
   "execution_count": 25,
   "metadata": {},
   "outputs": [
    {
     "data": {
      "text/plain": [
       "[<matplotlib.lines.Line2D at 0x118944518>]"
      ]
     },
     "execution_count": 25,
     "metadata": {},
     "output_type": "execute_result"
    },
    {
     "data": {
      "image/png": "[encoded data removed]",
      "text/plain": [
       "<Figure size 432x288 with 1 Axes>"
      ]
     },
     "metadata": {
      "needs_background": "light"
     },
     "output_type": "display_data"
    }
   ],
   "source": [
    "import matplotlib.pyplot as plt\n",
    "%matplotlib inline\n",
    "\n"
   ]
  },
  {
   "cell_type": "markdown",
   "metadata": {},
   "source": [
    "### Exercício 10)\n",
    "Melhore o gráfico gerado no exercício anterior incorporando uma legenda e uma anotação na indicando a linha ajustada."
   ]
  },
  {
   "cell_type": "code",
   "execution_count": 33,
   "metadata": {},
   "outputs": [
    {
     "data": {
      "text/plain": [
       "Text(0.2, 0.2, 'Reta Ajustada')"
      ]
     },
     "execution_count": 33,
     "metadata": {},
     "output_type": "execute_result"
    },
    {
     "data": {
      "image/png": "[encoded data removed]",
      "text/plain": [
       "<Figure size 432x288 with 1 Axes>"
      ]
     },
     "metadata": {
      "needs_background": "light"
     },
     "output_type": "display_data"
    }
   ],
   "source": []
  }
 ],
 "metadata": {
  "kernelspec": {
   "display_name": "Python 3",
   "language": "python",
   "name": "python3"
  },
  "language_info": {
   "codemirror_mode": {
    "name": "ipython",
    "version": 3
   },
   "file_extension": ".py",
   "mimetype": "text/x-python",
   "name": "python",
   "nbconvert_exporter": "python",
   "pygments_lexer": "ipython3",
   "version": "3.7.1"
  },
  "toc": {
   "base_numbering": 1,
   "nav_menu": {},
   "number_sections": true,
   "sideBar": true,
   "skip_h1_title": false,
   "title_cell": "Table of Contents",
   "title_sidebar": "Contents",
   "toc_cell": false,
   "toc_position": {},
   "toc_section_display": true,
   "toc_window_display": false
  }
 },
 "nbformat": 4,
 "nbformat_minor": 2
}
