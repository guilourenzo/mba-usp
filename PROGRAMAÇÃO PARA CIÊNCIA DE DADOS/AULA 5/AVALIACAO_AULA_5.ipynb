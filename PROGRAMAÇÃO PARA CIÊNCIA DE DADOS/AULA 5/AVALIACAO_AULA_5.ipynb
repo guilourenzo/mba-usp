{
 "cells": [
  {
   "cell_type": "markdown",
   "metadata": {},
   "source": [
    "#### EXERCÍCIO 1"
   ]
  },
  {
   "cell_type": "code",
   "execution_count": 1,
   "metadata": {},
   "outputs": [],
   "source": [
    "import numpy as np"
   ]
  },
  {
   "cell_type": "code",
   "execution_count": 2,
   "metadata": {},
   "outputs": [],
   "source": [
    "A = np.zeros((4,4))\n",
    "v = np.arange(4)"
   ]
  },
  {
   "cell_type": "code",
   "execution_count": 3,
   "metadata": {},
   "outputs": [
    {
     "name": "stdout",
     "output_type": "stream",
     "text": [
      "[[0. 0. 0. 0.]\n",
      " [1. 1. 1. 1.]\n",
      " [2. 2. 2. 2.]\n",
      " [3. 3. 3. 3.]]\n"
     ]
    }
   ],
   "source": [
    "A[:] = v[:,np.newaxis]\n",
    "print(A)"
   ]
  },
  {
   "cell_type": "code",
   "execution_count": 4,
   "metadata": {},
   "outputs": [
    {
     "name": "stdout",
     "output_type": "stream",
     "text": [
      "[[0. 0. 0. 0.]\n",
      " [1. 1. 1. 1.]\n",
      " [2. 2. 2. 2.]\n",
      " [3. 3. 3. 3.]]\n"
     ]
    }
   ],
   "source": [
    "A[:] = v\n",
    "A = A.T\n",
    "print(A)"
   ]
  },
  {
   "cell_type": "code",
   "execution_count": 5,
   "metadata": {},
   "outputs": [
    {
     "name": "stdout",
     "output_type": "stream",
     "text": [
      "[[0. 0. 0. 0.]\n",
      " [1. 1. 1. 1.]\n",
      " [2. 2. 2. 2.]\n",
      " [3. 3. 3. 3.]]\n"
     ]
    }
   ],
   "source": [
    "A[:] = v.reshape(4,1)\n",
    "print(A)"
   ]
  },
  {
   "cell_type": "markdown",
   "metadata": {},
   "source": [
    "#### EXERCÍCIO 2"
   ]
  },
  {
   "cell_type": "code",
   "execution_count": 8,
   "metadata": {},
   "outputs": [
    {
     "name": "stdout",
     "output_type": "stream",
     "text": [
      "[[20 28 43 44 19 35 28]\n",
      " [23 31 46 47 22 38 31]\n",
      " [19 27 42 43 18 34 27]\n",
      " [20 28 43 44 19 35 28]\n",
      " [ 7 15 30 31  6 22 15]\n",
      " [32 40 55 56 31 47 40]\n",
      " [28 36 51 52 27 43 36]\n",
      " [16 24 39 40 15 31 24]\n",
      " [33 41 56 57 32 48 41]\n",
      " [31 39 54 55 30 46 39]] [ 4 12 27 28  3 19 12] [[16]\n",
      " [19]\n",
      " [15]\n",
      " [16]\n",
      " [ 3]\n",
      " [28]\n",
      " [24]\n",
      " [12]\n",
      " [29]\n",
      " [27]]\n"
     ]
    }
   ],
   "source": [
    "u = np.random.randint(0,30,7)\n",
    "v = np.random.randint(0,30,10).reshape(10,1)\n",
    "\n",
    "W = v + u\n",
    "print(W, u, v)"
   ]
  },
  {
   "cell_type": "markdown",
   "metadata": {},
   "source": [
    "#### EXERCÍCIO 3"
   ]
  },
  {
   "cell_type": "code",
   "execution_count": 52,
   "metadata": {},
   "outputs": [
    {
     "name": "stdout",
     "output_type": "stream",
     "text": [
      "[[5 2 3 6 1 5 7 7 8 9]\n",
      " [8 8 3 5 0 1 4 8 3 7]\n",
      " [8 0 0 4 2 0 2 6 0 3]\n",
      " [5 0 0 4 4 3 5 8 0 0]\n",
      " [2 4 2 5 3 4 9 8 0 0]\n",
      " [6 7 4 8 5 1 3 5 4 1]\n",
      " [6 8 0 5 2 9 3 6 1 6]\n",
      " [5 5 2 9 0 5 5 8 2 4]\n",
      " [8 8 1 8 4 1 8 9 7 6]\n",
      " [5 6 0 9 0 4 9 0 2 0]]\n"
     ]
    }
   ],
   "source": [
    "A = np.array([[5, 2, 3, 6, 1, 5, 7, 7, 8, 9], [8, 8, 3, 5, 0, 1, 4, 8, 3, 7],\n",
    "            [8, 0, 0, 4, 2, 0, 2, 6, 0, 3], [5, 0, 0, 4, 4, 3, 5, 8, 0, 0],\n",
    "            [2, 4, 2, 5, 3, 4, 9, 8, 0, 0], [6, 7, 4, 8, 5, 1, 3, 5, 4, 1],\n",
    "            [6, 8, 0, 5, 2, 9, 3, 6, 1, 6], [5, 5, 2, 9, 0, 5, 5, 8, 2, 4],\n",
    "            [8, 8, 1, 8, 4, 1, 8, 9, 7, 6], [5, 6, 0, 9, 0, 4, 9, 0, 2, 0]])\n",
    "print(A)"
   ]
  },
  {
   "cell_type": "code",
   "execution_count": 18,
   "metadata": {},
   "outputs": [
    {
     "name": "stdout",
     "output_type": "stream",
     "text": [
      "8\n"
     ]
    }
   ],
   "source": [
    "l_m = np.argmax(np.sum(A,axis=1))\n",
    "print(l_m)"
   ]
  },
  {
   "cell_type": "markdown",
   "metadata": {},
   "source": [
    "#### EXERCÍCIO 4"
   ]
  },
  {
   "cell_type": "code",
   "execution_count": 21,
   "metadata": {},
   "outputs": [
    {
     "name": "stdout",
     "output_type": "stream",
     "text": [
      "2\n"
     ]
    }
   ],
   "source": [
    "c_m = np.argmin(np.mean(A,axis=0))\n",
    "print(c_m)"
   ]
  },
  {
   "cell_type": "markdown",
   "metadata": {},
   "source": [
    "#### EXERCÍCIO 5"
   ]
  },
  {
   "cell_type": "code",
   "execution_count": 53,
   "metadata": {},
   "outputs": [
    {
     "name": "stdout",
     "output_type": "stream",
     "text": [
      "[[5 2 3 6 1 5 7 7 8 9]\n",
      " [8 8 3 5 0 1 4 8 3 7]\n",
      " [8 0 0 4 2 0 2 6 0 3]\n",
      " [5 0 0 4 4 3 5 8 0 0]\n",
      " [2 4 2 5 3 4 9 8 0 0]\n",
      " [6 7 4 8 5 1 3 5 4 1]\n",
      " [6 8 0 5 2 9 3 6 1 6]\n",
      " [5 5 2 9 0 5 5 8 2 4]\n",
      " [8 8 1 8 4 1 8 9 7 6]\n",
      " [5 6 0 9 0 4 9 0 2 0]]\n",
      "ÍNDICE DA LINHA:  [0 1 2 3 4 5 6 7 8 9] \n",
      " ÍNDICE DA COLUNA:  [9 7 0 7 6 3 5 3 7 6] \n",
      "\n",
      " [[ 5  2  3  6  1  5  7  7  8 -1]\n",
      " [ 8  8  3  5  0  1  4 -1  3  7]\n",
      " [-1  0  0  4  2  0  2  6  0  3]\n",
      " [ 5  0  0  4  4  3  5 -1  0  0]\n",
      " [ 2  4  2  5  3  4 -1  8  0  0]\n",
      " [ 6  7  4 -1  5  1  3  5  4  1]\n",
      " [ 6  8  0  5  2 -1  3  6  1  6]\n",
      " [ 5  5  2 -1  0  5  5  8  2  4]\n",
      " [ 8  8  1  8  4  1  8 -1  7  6]\n",
      " [ 5  6  0  9  0  4 -1  0  2  0]] \n",
      "\n",
      "\n",
      "Indices dos elementos ordenados na linha  0 :  [4 1 2 0 5 3 6 7 8 9]\n",
      "Linha 0 :            [ 5  2  3  6  1  5  7  7  8 -1]\n",
      "Linha  0  ordenada:  [ 1  2  3  5  5  6  7  7  8 -1] \n",
      "\n",
      "Indices dos elementos ordenados na linha  1 :  [4 5 2 8 6 3 9 0 1 7]\n",
      "Linha 1 :            [ 8  8  3  5  0  1  4 -1  3  7]\n",
      "Linha  1  ordenada:  [ 0  1  3  3  4  5  7  8  8 -1] \n",
      "\n",
      "Indices dos elementos ordenados na linha  2 :  [1 2 5 8 4 6 9 3 7 0]\n",
      "Linha 2 :            [-1  0  0  4  2  0  2  6  0  3]\n",
      "Linha  2  ordenada:  [ 0  0  0  0  2  2  3  4  6 -1] \n",
      "\n",
      "Indices dos elementos ordenados na linha  3 :  [1 2 8 9 5 3 4 0 6 7]\n",
      "Linha 3 :            [ 5  0  0  4  4  3  5 -1  0  0]\n",
      "Linha  3  ordenada:  [ 0  0  0  0  3  4  4  5  5 -1] \n",
      "\n",
      "Indices dos elementos ordenados na linha  4 :  [8 9 0 2 4 1 5 3 7 6]\n",
      "Linha 4 :            [ 2  4  2  5  3  4 -1  8  0  0]\n",
      "Linha  4  ordenada:  [ 0  0  2  2  3  4  4  5  8 -1] \n",
      "\n",
      "Indices dos elementos ordenados na linha  5 :  [5 9 6 2 8 4 7 0 1 3]\n",
      "Linha 5 :            [ 6  7  4 -1  5  1  3  5  4  1]\n",
      "Linha  5  ordenada:  [ 1  1  3  4  4  5  5  6  7 -1] \n",
      "\n",
      "Indices dos elementos ordenados na linha  6 :  [2 8 4 6 3 0 7 9 1 5]\n",
      "Linha 6 :            [ 6  8  0  5  2 -1  3  6  1  6]\n",
      "Linha  6  ordenada:  [ 0  1  2  3  5  6  6  6  8 -1] \n",
      "\n",
      "Indices dos elementos ordenados na linha  7 :  [4 2 8 9 0 1 5 6 7 3]\n",
      "Linha 7 :            [ 5  5  2 -1  0  5  5  8  2  4]\n",
      "Linha  7  ordenada:  [ 0  2  2  4  5  5  5  5  8 -1] \n",
      "\n",
      "Indices dos elementos ordenados na linha  8 :  [2 5 4 9 8 0 1 3 6 7]\n",
      "Linha 8 :            [ 8  8  1  8  4  1  8 -1  7  6]\n",
      "Linha  8  ordenada:  [ 1  1  4  6  7  8  8  8  8 -1] \n",
      "\n",
      "Indices dos elementos ordenados na linha  9 :  [2 4 7 9 8 5 0 1 3 6]\n",
      "Linha 9 :            [ 5  6  0  9  0  4 -1  0  2  0]\n",
      "Linha  9  ordenada:  [ 0  0  0  0  2  4  5  6  9 -1] \n",
      "\n"
     ]
    }
   ],
   "source": [
    "print(A)\n",
    "Aargs = np.argsort(A)\n",
    "A[np.arange(A.shape[0]),Aargs[:,-1]] = -1\n",
    "# print(np.arange(A.shape[0]), '\\n\\n', Aargs[:,-1], '\\n\\n', A[np.arange(A.shape[0]),Aargs[:,-1]], '\\n\\n', Aargs,'\\n\\n', A)\n",
    "\n",
    "print('ÍNDICE DA LINHA: ', np.arange(A.shape[0]),'\\n ÍNDICE DA COLUNA: ', Aargs[:,-1], '\\n\\n', A, '\\n\\n')\n",
    " \n",
    "for i in range(A.shape[0]):\n",
    "    print('Indices dos elementos ordenados na linha ',i,': ',Aargs[i])\n",
    "    print('Linha',i,': '+10*' ',A[i])\n",
    "    print('Linha ',i,' ordenada: ',A[i,Aargs[i]],'\\n')"
   ]
  },
  {
   "cell_type": "code",
   "execution_count": null,
   "metadata": {},
   "outputs": [],
   "source": []
  },
  {
   "cell_type": "code",
   "execution_count": null,
   "metadata": {},
   "outputs": [],
   "source": []
  },
  {
   "cell_type": "code",
   "execution_count": null,
   "metadata": {},
   "outputs": [],
   "source": []
  }
 ],
 "metadata": {
  "kernelspec": {
   "display_name": "Python 3",
   "language": "python",
   "name": "python3"
  },
  "language_info": {
   "codemirror_mode": {
    "name": "ipython",
    "version": 3
   },
   "file_extension": ".py",
   "mimetype": "text/x-python",
   "name": "python",
   "nbconvert_exporter": "python",
   "pygments_lexer": "ipython3",
   "version": "3.7.4"
  }
 },
 "nbformat": 4,
 "nbformat_minor": 2
}
