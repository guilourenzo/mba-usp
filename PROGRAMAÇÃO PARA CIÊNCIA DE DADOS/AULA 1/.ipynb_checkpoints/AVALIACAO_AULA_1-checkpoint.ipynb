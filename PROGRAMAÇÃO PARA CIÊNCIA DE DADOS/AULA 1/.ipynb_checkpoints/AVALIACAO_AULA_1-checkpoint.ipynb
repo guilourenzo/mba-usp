{
 "cells": [
  {
   "cell_type": "markdown",
   "metadata": {},
   "source": [
    "# <span style=\"color:blue\"> MBA em Ciência de Dados</span>\n",
    "# <span style=\"color:blue\">Programação para Ciência de Dados</span>\n",
    "\n",
    "## <span style=\"color:blue\">Python Parte I: Avaliação</span>\n",
    "**Material Produzido por Luis Gustavo Nonato**<br>\n",
    "**Cemeai - ICMC/USP São Carlos**"
   ]
  },
  {
   "cell_type": "markdown",
   "metadata": {},
   "source": [
    "<font color='red'> As respostas devem ser fornecidas no Moodle. O notebook é apenas para a implementação dos códigos que fornecerão as respostas</font>"
   ]
  },
  {
   "cell_type": "markdown",
   "metadata": {},
   "source": [
    "### Exercício 1\n",
    "Considere a lista `lt` abaixo. Escreva um código para calcular quantos números são múltiplos de 2 e quantos são múltiplos de 3.\n",
    "\n",
    "a) múltiplos de 2 = 13; múltiplos de 3 = 20<br>\n",
    "b) múltiplos de 2 = 20; múltiplos de 3 = 11<br>\n",
    "c) múltiplos de 2 = 15; múltiplos de 3 = 7<br>\n",
    "d) múltiplos de 2 = 22; múltiplos de 3 = 20"
   ]
  },
  {
   "cell_type": "code",
   "execution_count": 9,
   "metadata": {},
   "outputs": [
    {
     "name": "stdout",
     "output_type": "stream",
     "text": [
      "MÚLTIPLOS DE 2:  [128, 104, 78, 248, 278, 212, 130, 320, 148, 176, 366, 256, 314, 354, 188, 368, 328, 312, 106, 44] \n",
      " MÚLTIPLOS DE 3:  [99, 78, 141, 465, 351, 366, 354, 81, 447, 153, 495, 312, 87, 141, 129]\n",
      "\n",
      " MÚLTIPLOS DE 2:  20 | MÚLTIPLOS DE 3:  15\n"
     ]
    }
   ],
   "source": [
    "lt = [99, 128, 185, 19, 215, 493, 104, 78, 248, 299, 278, 141, 467, \n",
    "           212, 465, 130, 320, 35, 148, 351, 176, 366, 373, 256, 314, \n",
    "           354, 188, 259, 443, 81, 447, 313, 368, 197, 185, 328, 275, \n",
    "           269, 153, 495, 155, 312, 87, 141, 413, 129, 106, 44, 245, 479]\n",
    "\n",
    "m3 = []\n",
    "m2 = []\n",
    "\n",
    "for i in lt:\n",
    "    if i%2 == 0:\n",
    "        m2.append(i)\n",
    "        \n",
    "    if i%3 == 0:\n",
    "        m3.append(i)\n",
    "\n",
    "print(\"MÚLTIPLOS DE 2: \", m2, \"\\n MÚLTIPLOS DE 3: \", m3)\n",
    "print(\"\\n MÚLTIPLOS DE 2: \", len(m2), \"|\", \"MÚLTIPLOS DE 3: \", len(m3))\n",
    "\n"
   ]
  },
  {
   "cell_type": "markdown",
   "metadata": {},
   "source": [
    "### Exercício 2\n",
    "Considere a lista `palavras` abaixo. Escreva um código para encontrar a plavra com o maior número de letras (caracteres). A palavra é:\n",
    "\n",
    "a) imprescindivel<br>\n",
    "b) resiliente<br>\n",
    "c) palimpsesto<br>\n",
    "d) palimpsesto"
   ]
  },
  {
   "cell_type": "code",
   "execution_count": 15,
   "metadata": {},
   "outputs": [
    {
     "name": "stdout",
     "output_type": "stream",
     "text": [
      "(14, 'imprescindivel') \n",
      " {'adeus': 5, 'adoravel': 8, 'amor': 4, 'caminhos': 8, 'chuva': 5, 'coragem': 7, 'cuidar': 6, 'equilibrio': 10, 'esperanca': 9, 'felicidade': 10, 'gentilezas': 10, 'liberdade': 9, 'melancolia': 10, 'paz': 3, 'respeito': 8, 'riso': 4, 'saudade': 7, 'palimpsesto': 11, 'perfeito': 8, 'reciproco': 9, 'recomeçar': 9, 'resiliente': 10, 'sentir': 6, 'silencio': 8, 'imprescindivel': 14, 'sublime': 7, 'tertulias': 9}\n"
     ]
    }
   ],
   "source": [
    "palavras = ['adeus','adoravel','amor','caminhos','chuva','coragem','cuidar','equilibrio',\n",
    "                 'esperanca','felicidade','gentilezas','liberdade','melancolia','paz','respeito',\n",
    "                 'riso','saudade','palimpsesto','perfeito','reciproco','recomeçar','resiliente',\n",
    "                 'sentir','silencio','imprescindivel','sublime','tertulias']\n",
    "\n",
    "maior = {}\n",
    "\n",
    "for word in palavras:\n",
    "    if word in maior:\n",
    "        maior[word] += len(word)\n",
    "    else:\n",
    "        maior[word] = len(word)\n",
    "\n",
    "print(max(zip(maior.values(), maior.keys())), \"\\n\", maior)\n"
   ]
  },
  {
   "cell_type": "markdown",
   "metadata": {},
   "source": [
    "---\n",
    "\n",
    "Os exercícios de 3 a 5 abaixo fazem uso da lista de tuplas `dados_deputados` definida abaixo. Cada elemento da lista corresponde a uma tupla com nome de um deputado, estado e partido ao qual o deputado pertence e o valor de reembolso solicitado em um determinado mês do ano, ou seja:\n",
    "\n",
    "```python\n",
    "dados_deputados = [(NOME, ESTADO, PARTIDO, VALOR),\n",
    "                   (NOME, ESTADO, PARTIDO, VALOR),\n",
    "                    ...\n",
    "                   (NOME, ESTADO, PARTIDO, VALOR)]\n",
    "```"
   ]
  },
  {
   "cell_type": "code",
   "execution_count": 17,
   "metadata": {},
   "outputs": [],
   "source": [
    "dados_deputados = [('JOSE STEDILE', 'RS', 'PSB', 106.03), \n",
    "                   ('BENITO GAMA', 'BA', 'PTB', 46.82), \n",
    "                   ('LUCIO VIEIRA LIMA', 'BA', 'PMDB', 332.0), \n",
    "                   ('FABIO REIS', 'SE', 'PMDB', 80.0), \n",
    "                   ('LUIZA ERUNDINA', 'SP', 'PSOL', 5.7), \n",
    "                   ('MAURO MARIANI', 'SC', 'PMDB', 526.68),\n",
    "                   ('MAJOR OLIMPIO', 'SP', 'SD', 38.1), \n",
    "                   ('BETINHO GOMES', 'PE', 'PSDB', 12000.0), \n",
    "                   ('PAULO ABI-ACKEL', 'MG', 'PSDB', 972.72), \n",
    "                   ('EZEQUIEL TEIXEIRA', 'RJ', 'PTN', 50.0), \n",
    "                   ('ADELMO CARNEIRO LEÃO', 'MG', 'PT', 709.72), \n",
    "                   ('HISSA ABRAHAO', 'AM', 'PDT', 1379.58), \n",
    "                   ('PAES LANDIM', 'PI', 'PTB', 1091.66), \n",
    "                   ('ANDRES SANCHEZ', 'SP', 'PT', 61.4), \n",
    "                   ('JOZI ARAUJO', 'AP', 'PTN', 141.0), \n",
    "                   ('ROBERTO FREIRE', 'SP', 'PPS', 161.88), \n",
    "                   ('ELIZIANE GAMA', 'MA', 'PPS', 546.73), \n",
    "                   ('CACA LEAO', 'BA', 'PP', 77.5), \n",
    "                   ('DIMAS FABIANO', 'MG', 'PP', 185.0),\n",
    "                   ('SILVIO TORRES', 'SP', 'PSDB', 233.0), \n",
    "                   ('RICARDO TEOBALDO ', 'PE', 'PTN', 50.0), \n",
    "                   ('ZECA DIRCEU', 'PR', 'PT', 499.29), \n",
    "                   ('ROCHA', 'AC', 'PSDB', 152.9), \n",
    "                   ('LAUDIVIO CARVALHO', 'MG', 'SD', 15.6), \n",
    "                   ('CRISTIANE BRASIL', 'RJ', 'PTB', 240.45), \n",
    "                   ('FABIO SOUSA', 'GO', 'PSDB', 80.0), \n",
    "                   ('CARLOS MANATO', 'ES', 'SD', 124.9), \n",
    "                   ('GONZAGA PATRIOTA', 'PE', 'PSB', 6.0), \n",
    "                   ('LUIZ COUTO', 'PB', 'PT', 868.83), \n",
    "                   ('EZEQUIEL TEIXEIRA', 'RJ', 'PTN', 710.45), \n",
    "                   ('MAURO LOPES', 'MG', 'PMDB', 92.6), \n",
    "                   ('MARCIO ALVINO', 'SP', 'PR', 5.2)]"
   ]
  },
  {
   "cell_type": "markdown",
   "metadata": {},
   "source": [
    "### Exercício 3\n",
    "Escreva um código para calcular o valor total dos reembolsos solicitado.\n",
    "\n",
    "a) 21591.74<br>\n",
    "b) 19783.71<br>\n",
    "c) 27136.50<br>\n",
    "d) 42313.13"
   ]
  },
  {
   "cell_type": "code",
   "execution_count": 20,
   "metadata": {},
   "outputs": [
    {
     "name": "stdout",
     "output_type": "stream",
     "text": [
      "21591.740000000005\n"
     ]
    }
   ],
   "source": [
    "reembolso = 0\n",
    "\n",
    "for dep in dados_deputados:\n",
    "    reembolso += dep[-1]\n",
    "\n",
    "print(reembolso)"
   ]
  },
  {
   "cell_type": "markdown",
   "metadata": {},
   "source": [
    "### Exercício 4\n",
    "Escreva um código para encontrar qual estado possui o maior valor total de reembolsos, ou seja, somando os reembolsos de todos os deputados de cada estado, qual estado possui o maior valor de reembolso? Qual é o estado e o valor correspondente?\n",
    "\n",
    "__Dica:__ Crie um dicionário onde as chaves são os estados.\n",
    "\n",
    "a) SP, 9546.60<br>\n",
    "b) MA, 19456.87<br>\n",
    "c) MT, 11132.70<br>\n",
    "d) PE, 12056.00"
   ]
  },
  {
   "cell_type": "code",
   "execution_count": 24,
   "metadata": {},
   "outputs": [
    {
     "name": "stdout",
     "output_type": "stream",
     "text": [
      "(12056.0, 'PE') \n",
      " {'RS': 106.03, 'BA': 456.32, 'SE': 80.0, 'SP': 505.28, 'SC': 526.68, 'PE': 12056.0, 'MG': 1975.6399999999999, 'RJ': 1000.9000000000001, 'AM': 1379.58, 'PI': 1091.66, 'AP': 141.0, 'MA': 546.73, 'PR': 499.29, 'AC': 152.9, 'GO': 80.0, 'ES': 124.9, 'PB': 868.83}\n"
     ]
    }
   ],
   "source": [
    "estado = {}\n",
    "\n",
    "for dep in dados_deputados:\n",
    "    if dep[1] in estado:\n",
    "        estado[dep[1]] += dep[-1]\n",
    "    else:\n",
    "        estado[dep[1]] = dep[-1]\n",
    "\n",
    "print(max(zip(estado.values(), estado.keys())), \"\\n\", estado)\n"
   ]
  },
  {
   "cell_type": "markdown",
   "metadata": {},
   "source": [
    "### Exercício 5\n",
    "Escreva um código para encontrar qual partido requisitou o mais reembolsos (não o valor, mas sim o número de vezes solicitadas).\n",
    "Qual o partido e a quantidade de vezes solicitadas?\n",
    "\n",
    "a) PTB, 3 vezes<br>\n",
    "b) PT, 2 vezes<br>\n",
    "c) PSDB, 5 vezes<br>\n",
    "d) PMDB, 5 vezes"
   ]
  },
  {
   "cell_type": "code",
   "execution_count": 25,
   "metadata": {},
   "outputs": [
    {
     "name": "stdout",
     "output_type": "stream",
     "text": [
      "(5, 'PSDB') \n",
      " {'PSB': 2, 'PTB': 3, 'PMDB': 4, 'PSOL': 1, 'SD': 3, 'PSDB': 5, 'PTN': 4, 'PT': 4, 'PDT': 1, 'PPS': 2, 'PP': 2, 'PR': 1}\n"
     ]
    }
   ],
   "source": [
    "partido = {}\n",
    "\n",
    "for dep in dados_deputados:\n",
    "    if dep[2] in partido:\n",
    "        partido[dep[2]] += 1\n",
    "    else:\n",
    "        partido[dep[2]] = 1\n",
    "\n",
    "print(max(zip(partido.values(), partido.keys())), \"\\n\", partido)\n"
   ]
  }
 ],
 "metadata": {
  "kernelspec": {
   "display_name": "Python 3",
   "language": "python",
   "name": "python3"
  },
  "language_info": {
   "codemirror_mode": {
    "name": "ipython",
    "version": 3
   },
   "file_extension": ".py",
   "mimetype": "text/x-python",
   "name": "python",
   "nbconvert_exporter": "python",
   "pygments_lexer": "ipython3",
   "version": "3.7.4"
  },
  "toc": {
   "base_numbering": 1,
   "nav_menu": {},
   "number_sections": true,
   "sideBar": true,
   "skip_h1_title": false,
   "title_cell": "Table of Contents",
   "title_sidebar": "Contents",
   "toc_cell": false,
   "toc_position": {},
   "toc_section_display": true,
   "toc_window_display": false
  }
 },
 "nbformat": 4,
 "nbformat_minor": 2
}
