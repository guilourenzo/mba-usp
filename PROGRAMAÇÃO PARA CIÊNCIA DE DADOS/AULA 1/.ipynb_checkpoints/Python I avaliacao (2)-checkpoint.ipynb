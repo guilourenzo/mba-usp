{
 "cells": [
  {
   "cell_type": "markdown",
   "metadata": {},
   "source": [
    "# <span style=\"color:blue\"> MBA em Ciência de Dados</span>\n",
    "# <span style=\"color:blue\">Programação para Ciência de Dados</span>\n",
    "\n",
    "## <span style=\"color:blue\">Python Parte I: Avaliação</span>\n",
    "**Material Produzido por Luis Gustavo Nonato**<br>\n",
    "**Cemeai - ICMC/USP São Carlos**"
   ]
  },
  {
   "cell_type": "markdown",
   "metadata": {},
   "source": [
    "<font color='red'> As respostas devem ser fornecidas no Moodle. O notebook é apenas para a implementação dos códigos que fornecerão as respostas</font>"
   ]
  },
  {
   "cell_type": "markdown",
   "metadata": {},
   "source": [
    "### Exercício 1\n",
    "Considere a lista `lt` abaixo. Escreva um código para calcular quantos números são múltiplos de 2 e quantos são múltiplos de 3.\n",
    "\n",
    "a) múltiplos de 2 = 13; múltiplos de 3 = 20<br>\n",
    "b) múltiplos de 2 = 20; múltiplos de 3 = 11<br>\n",
    "c) múltiplos de 2 = 15; múltiplos de 3 = 7<br>\n",
    "d) múltiplos de 2 = 22; múltiplos de 3 = 20"
   ]
  },
  {
   "cell_type": "code",
   "execution_count": null,
   "metadata": {},
   "outputs": [],
   "source": [
    "lt = [99, 128, 185, 19, 215, 493, 104, 78, 248, 299, 278, 141, 467, 212, 465, 130, 320, 35, 148, 351, \n",
    "       176, 366, 373, 256, 314, 354, 188, 259, 443, 81, 447, 313, 368, 197, 185, 328, 275, 269, 153, \n",
    "       495, 155, 312, 87, 141, 413, 129, 106, 44, 245, 479]\n",
    "\n",
    "# escreva o código para encontrar a solução \n"
   ]
  },
  {
   "cell_type": "markdown",
   "metadata": {},
   "source": [
    "### Exercício 2\n",
    "Considere a lista `palavras` abaixo. Escreva um código para encontrar a plavra com o maior número de letras (caracteres). A palavra é:\n",
    "\n",
    "a) imprescindivel<br>\n",
    "b) resiliente<br>\n",
    "c) palimpsesto<br>\n",
    "d) palimpsesto"
   ]
  },
  {
   "cell_type": "code",
   "execution_count": null,
   "metadata": {},
   "outputs": [],
   "source": [
    "palavras = ['adeus','adoravel','amor','caminhos','chuva','coragem','cuidar','equilibrio',\n",
    "            'esperanca','felicidade','gentilezas','liberdade','melancolia','paz','respeito',\n",
    "            'riso','saudade','palimpsesto','perfeito','reciproco','recomeçar',\n",
    "            'resiliente','sentir','silencio','imprescindivel','sublime','tertulias']\n",
    "\n",
    "# escreva o código para encontrar a solução \n"
   ]
  },
  {
   "cell_type": "markdown",
   "metadata": {},
   "source": [
    "---\n",
    "\n",
    "Os exercícios de 3 a 5 abaixo fazem uso da lista de tuplas `dados_deputados` definida abaixo. Cada elemento da lista corresponde a uma tupla com nome de um deputado, estado e partido ao qual o deputado pertence e o valor de reembolso solicitado em um determinado mês do ano, ou seja:\n",
    "\n",
    "```python\n",
    "dados_deputados = [(NOME, ESTADO, PARTIDO, VALOR),\n",
    "                   (NOME, ESTADO, PARTIDO, VALOR),\n",
    "                    ...\n",
    "                   (NOME, ESTADO, PARTIDO, VALOR)]\n",
    "```"
   ]
  },
  {
   "cell_type": "code",
   "execution_count": null,
   "metadata": {},
   "outputs": [],
   "source": [
    "dados_deputados = [('JOSE STEDILE', 'RS', 'PSB', 106.03), ('BENITO GAMA', 'BA', 'PTB', 46.82),\n",
    "                   ('LUCIO VIEIRA LIMA', 'BA', 'PMDB', 332.0), ('FABIO REIS', 'SE', 'PMDB', 80.0), \n",
    "                   ('LUIZA ERUNDINA', 'SP', 'PSOL', 5.7), ('MAURO MARIANI', 'SC', 'PMDB', 526.68), \n",
    "                   ('MAJOR OLIMPIO', 'SP', 'SD', 38.1), ('BETINHO GOMES', 'PE', 'PSDB', 12000.0), \n",
    "                   ('PAULO ABI-ACKEL', 'MG', 'PSDB', 972.72), ('EZEQUIEL TEIXEIRA', 'RJ', 'PTN', 50.0), \n",
    "                   ('ADELMO CARNEIRO LEÃO', 'MG', 'PT', 709.72), ('HISSA ABRAHAO', 'AM', 'PDT', 1379.58), \n",
    "                   ('PAES LANDIM', 'PI', 'PTB', 1091.66), ('ANDRES SANCHEZ', 'SP', 'PT', 61.4), \n",
    "                   ('JOZI ARAUJO', 'AP', 'PTN', 141.0), ('ROBERTO FREIRE', 'SP', 'PPS', 161.88), \n",
    "                   ('ELIZIANE GAMA', 'MA', 'PPS', 546.73), ('CACA LEAO', 'BA', 'PP', 77.5), \n",
    "                   ('DIMAS FABIANO', 'MG', 'PP', 185.0), ('SILVIO TORRES', 'SP', 'PSDB', 233.0), \n",
    "                   ('RICARDO TEOBALDO ', 'PE', 'PTN', 50.0), ('ZECA DIRCEU', 'PR', 'PT', 499.29), \n",
    "                   ('ROCHA', 'AC', 'PSDB', 152.9), ('LAUDIVIO CARVALHO', 'MG', 'SD', 15.6), \n",
    "                   ('CRISTIANE BRASIL', 'RJ', 'PTB', 240.45), ('FABIO SOUSA', 'GO', 'PSDB', 80.0), \n",
    "                   ('CARLOS MANATO', 'ES', 'SD', 124.9), ('GONZAGA PATRIOTA', 'PE', 'PSB', 6.0), \n",
    "                   ('LUIZ COUTO', 'PB', 'PT', 868.83), ('EZEQUIEL TEIXEIRA', 'RJ', 'PTN', 710.45), \n",
    "                   ('MAURO LOPES', 'MG', 'PMDB', 92.6), ('MARCIO ALVINO', 'SP', 'PR', 5.2)]"
   ]
  },
  {
   "cell_type": "markdown",
   "metadata": {},
   "source": [
    "### Exercício 3\n",
    "Escreva um código para calcular o valor total dos reembolsos solicitado.\n",
    "\n",
    "a) 21591.74<br>\n",
    "b) 19783.71<br>\n",
    "c) 27136.50<br>\n",
    "d) 42313.13"
   ]
  },
  {
   "cell_type": "code",
   "execution_count": null,
   "metadata": {},
   "outputs": [],
   "source": [
    "# escreva o código para encontrar a solução \n"
   ]
  },
  {
   "cell_type": "markdown",
   "metadata": {},
   "source": [
    "### Exercício 4\n",
    "Escreva um código para encontrar qual estado possui o maior valor total de reembolsos, ou seja, somando os reembolsos de todos os deputados de cada estado, qual estado possui o maior valor de reembolso? Qual é o estado e o valor correspondente?\n",
    "\n",
    "__Dica:__ Crie um dicionário onde as chaves são os estados.\n",
    "\n",
    "a) SP, 9546.60<br>\n",
    "b) MA, 19456.87<br>\n",
    "c) MT, 11132.70<br>\n",
    "d) PE, 12056.00"
   ]
  },
  {
   "cell_type": "code",
   "execution_count": null,
   "metadata": {},
   "outputs": [],
   "source": [
    "# escreva o código para encontrar a solução \n"
   ]
  },
  {
   "cell_type": "markdown",
   "metadata": {},
   "source": [
    "### Exercício 5\n",
    "Escreva um código para encontrar qual partido requisitou o mais reembolsos (não o valor, mas sim o número de vezes solicitadas).\n",
    "Qual o partido e a quantidade de vezes solicitadas?\n",
    "\n",
    "a) PTB, 3 vezes<br>\n",
    "b) PT, 2 vezes<br>\n",
    "c) PSDB, 5 vezes<br>\n",
    "d) PMDB, 5 vezes"
   ]
  },
  {
   "cell_type": "code",
   "execution_count": null,
   "metadata": {},
   "outputs": [],
   "source": [
    "# escreva o código para encontrar a solução \n"
   ]
  }
 ],
 "metadata": {
  "kernelspec": {
   "display_name": "Python 3",
   "language": "python",
   "name": "python3"
  },
  "language_info": {
   "codemirror_mode": {
    "name": "ipython",
    "version": 3
   },
   "file_extension": ".py",
   "mimetype": "text/x-python",
   "name": "python",
   "nbconvert_exporter": "python",
   "pygments_lexer": "ipython3",
   "version": "3.7.4"
  },
  "toc": {
   "base_numbering": 1,
   "nav_menu": {},
   "number_sections": true,
   "sideBar": true,
   "skip_h1_title": false,
   "title_cell": "Table of Contents",
   "title_sidebar": "Contents",
   "toc_cell": false,
   "toc_position": {},
   "toc_section_display": true,
   "toc_window_display": false
  }
 },
 "nbformat": 4,
 "nbformat_minor": 2
}
