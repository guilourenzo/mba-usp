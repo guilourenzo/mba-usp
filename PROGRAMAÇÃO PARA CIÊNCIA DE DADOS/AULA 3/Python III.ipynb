{
 "cells": [
  {
   "cell_type": "markdown",
   "metadata": {},
   "source": [
    "# <span style=\"color:blue\"> MBA em Ciência de Dados</span>\n",
    "# <span style=\"color:blue\">Programação para Ciência de Dados</span>\n",
    "\n",
    "## <span style=\"color:blue\">Python Parte III</span>\n",
    "**Material Produzido por Luis Gustavo Nonato**<br>\n",
    "**Cemeai - ICMC/USP São Carlos**"
   ]
  },
  {
   "cell_type": "markdown",
   "metadata": {},
   "source": [
    "---\n",
    "__Conteúdos:__\n",
    "- Módulos e pacotes\n",
    "- Programação Funcional\n",
    "- I/O em python\n",
    "- Noções básicas de classes e objetos\n",
    "\n",
    "__Referências:__\n",
    "- Mark Lutz, Learning Python, O'Reilly, 2013\n",
    "- Eric Matthes, Python Crash Course: A Hands-On, Project-Based Introduction to Programming, No Starch Press, 2015"
   ]
  },
  {
   "cell_type": "markdown",
   "metadata": {},
   "source": [
    "---\n",
    "## Módulos e Pacotes\n",
    "Um _módulo_ (module) é um arquivo que pode ser importado com o comando <font color='blue'>import</font>. Essencialmente qualquer arquivo em Python é um módulo. A sintaxe para importar um módulo é:\n",
    "```python\n",
    "import nome_do_modulo\n",
    "```\n",
    "Um pacote é um módulo que contem vários módulos, podendo incluir outros subpacotes. Tipicamente, se importa apenas as partes de um pacote necessárias para desenvolver o código desejado. Por exemplo, um pacote muito importante em Python é o Numpy (que estudaremos mais adiante no curso), que inclui vários módulos. A sintaxe para importar um dos módulos do pacote Numpy é a seguinte:\n",
    "\n",
    "```python\n",
    "import numpy.random   # módulo do Numpy de geração de números randomicos\n",
    "import numpy.linalg   # módulo do Numpy para problemas de Algebra Linear, \n",
    "                      # como solução de sistemas\n",
    "```"
   ]
  },
  {
   "cell_type": "markdown",
   "metadata": {},
   "source": [
    "### Comando *Import*\n",
    "- O comando <font color='blue'>import</font> carrega tudo que existe no módulo indicado \n",
    "- O módulo só é carregado uma vez, independente do número de vezes que é importado\n",
    "\n",
    "### Comando *from*\n",
    "- O comando <font color='blue'>from</font> permite importar apenas elementos especificos de um módulo\n",
    "\n",
    "[Neste link](https://docs.anaconda.com/anaconda/packages/py3.6_osx-64/) pode-se encontrar uma lista dos principais módulos, ou pacotes do Python, indicando os que já são automaticamente instalados com a distribuição Anaconda.\n",
    "\n",
    "Os principais pacotes e módulos que iremos utilizar no decorrer do curso sao:\n",
    "- numpy\n",
    "- matplotlib\n",
    "- pandas\n",
    "- math\n",
    "- sys"
   ]
  },
  {
   "cell_type": "markdown",
   "metadata": {},
   "source": [
    "### Escopo de Atributos e Métodos Definidos em Módulos\n",
    "- Atributos e métodos definidos em um módulo são acessado usando a sintaxe `nome_do_modulo.nome_do_atributo` e `nome_do_modulo.nome_do_metodo`\n",
    "- O conteúdo de módulos podem ser acessado pelo atributo `\\__dict\\__` de um módulo ou usando o método <font color='blue'>dir</font>"
   ]
  },
  {
   "cell_type": "code",
   "execution_count": 3,
   "metadata": {},
   "outputs": [
    {
     "data": {
      "text/plain": [
       "['__breakpointhook__',\n",
       " '__displayhook__',\n",
       " '__doc__',\n",
       " '__excepthook__',\n",
       " '__interactivehook__',\n",
       " '__loader__',\n",
       " '__name__',\n",
       " '__package__',\n",
       " '__spec__',\n",
       " '__stderr__',\n",
       " '__stdin__',\n",
       " '__stdout__',\n",
       " '_base_executable',\n",
       " '_clear_type_cache',\n",
       " '_current_frames',\n",
       " '_debugmallocstats',\n",
       " '_enablelegacywindowsfsencoding',\n",
       " '_framework',\n",
       " '_getframe',\n",
       " '_git',\n",
       " '_home',\n",
       " '_xoptions',\n",
       " 'api_version',\n",
       " 'argv',\n",
       " 'base_exec_prefix',\n",
       " 'base_prefix',\n",
       " 'breakpointhook',\n",
       " 'builtin_module_names',\n",
       " 'byteorder',\n",
       " 'call_tracing',\n",
       " 'callstats',\n",
       " 'copyright',\n",
       " 'displayhook',\n",
       " 'dllhandle',\n",
       " 'dont_write_bytecode',\n",
       " 'exc_info',\n",
       " 'excepthook',\n",
       " 'exec_prefix',\n",
       " 'executable',\n",
       " 'exit',\n",
       " 'flags',\n",
       " 'float_info',\n",
       " 'float_repr_style',\n",
       " 'get_asyncgen_hooks',\n",
       " 'get_coroutine_origin_tracking_depth',\n",
       " 'get_coroutine_wrapper',\n",
       " 'getallocatedblocks',\n",
       " 'getcheckinterval',\n",
       " 'getdefaultencoding',\n",
       " 'getfilesystemencodeerrors',\n",
       " 'getfilesystemencoding',\n",
       " 'getprofile',\n",
       " 'getrecursionlimit',\n",
       " 'getrefcount',\n",
       " 'getsizeof',\n",
       " 'getswitchinterval',\n",
       " 'gettrace',\n",
       " 'getwindowsversion',\n",
       " 'hash_info',\n",
       " 'hexversion',\n",
       " 'implementation',\n",
       " 'int_info',\n",
       " 'intern',\n",
       " 'is_finalizing',\n",
       " 'last_traceback',\n",
       " 'last_type',\n",
       " 'last_value',\n",
       " 'maxsize',\n",
       " 'maxunicode',\n",
       " 'meta_path',\n",
       " 'modules',\n",
       " 'path',\n",
       " 'path_hooks',\n",
       " 'path_importer_cache',\n",
       " 'platform',\n",
       " 'prefix',\n",
       " 'ps1',\n",
       " 'ps2',\n",
       " 'ps3',\n",
       " 'set_asyncgen_hooks',\n",
       " 'set_coroutine_origin_tracking_depth',\n",
       " 'set_coroutine_wrapper',\n",
       " 'setcheckinterval',\n",
       " 'setprofile',\n",
       " 'setrecursionlimit',\n",
       " 'setswitchinterval',\n",
       " 'settrace',\n",
       " 'stderr',\n",
       " 'stdin',\n",
       " 'stdout',\n",
       " 'thread_info',\n",
       " 'version',\n",
       " 'version_info',\n",
       " 'warnoptions',\n",
       " 'winver']"
      ]
     },
     "execution_count": 3,
     "metadata": {},
     "output_type": "execute_result"
    }
   ],
   "source": [
    "import sys  # importa o módulo 'sys'\n",
    "dir(sys)    # lista todos os atributos e métodos contidos no módulo 'sys'"
   ]
  },
  {
   "cell_type": "markdown",
   "metadata": {},
   "source": [
    "### Caminho de Busca de um Módulo\n",
    "Quando importa um módulo, Python usa um caminho de busca para determinar a sua localização\n",
    "\n",
    "Os caminhos de busca compreendem:\n",
    "- Diretório de trabalho (local o código esta sendo desenvolvido)\n",
    "- Diretórios do PYTHONPATH\n",
    "- Diretórios padrão de bibliotecas\n",
    "- Os conteúdos de qualquer arquivo .pth\n",
    "- O diretório site-packages\n",
    "\n",
    "Os caminhos de busca se encontram disponível em no atribute <font color='blue'>sys.path</font>"
   ]
  },
  {
   "cell_type": "code",
   "execution_count": 4,
   "metadata": {},
   "outputs": [
    {
     "name": "stdout",
     "output_type": "stream",
     "text": [
      "['C:\\\\Users\\\\guilo\\\\OneDrive\\\\MBA - USP\\\\PROGRAMAÇÃO PARA CIÊNCIA DE DADOS\\\\AULA 3', 'C:\\\\ProgramData\\\\Anaconda3\\\\python37.zip', 'C:\\\\ProgramData\\\\Anaconda3\\\\DLLs', 'C:\\\\ProgramData\\\\Anaconda3\\\\lib', 'C:\\\\ProgramData\\\\Anaconda3', '', 'C:\\\\ProgramData\\\\Anaconda3\\\\lib\\\\site-packages', 'C:\\\\ProgramData\\\\Anaconda3\\\\lib\\\\site-packages\\\\win32', 'C:\\\\ProgramData\\\\Anaconda3\\\\lib\\\\site-packages\\\\win32\\\\lib', 'C:\\\\ProgramData\\\\Anaconda3\\\\lib\\\\site-packages\\\\Pythonwin', 'C:\\\\ProgramData\\\\Anaconda3\\\\lib\\\\site-packages\\\\IPython\\\\extensions', 'C:\\\\Users\\\\guilo\\\\.ipython']\n"
     ]
    }
   ],
   "source": [
    "print(sys.path)"
   ]
  },
  {
   "cell_type": "markdown",
   "metadata": {},
   "source": [
    "### Variáveis Especiais \n",
    "Os desenvolvedores do Python criaram uma nomenclatura para distinguir variáveis em cada módulo.\n",
    "\n",
    "Variáveis começando com underscore não serão importandas quando usado o comando <font color='blue'>from</font> juntamente com <font color='blue'>*</font> <br>\n",
    "Por exemplo:\n",
    "```python \n",
    "from nome_do_modulo import *  # o simbolo * indica que será importado \n",
    "                              # do módulo tudo que for permitido\n",
    "```\n",
    "não irá importar as variáveis do módulo 'nome_do_modulo' que começam com o símbolo '_'.\n",
    "\n",
    "Os módulos possuem uma lista chamada <font color='blue'>\\_\\_all\\_\\_</font> e as\n",
    "variáveis descritas nesta lista serão importandos quando <font color='blue'>from</font> é utilizado juntamente com <font color='blue'>*</font>\n",
    "\n",
    "Pode-se acessar o nome de um módulo por meio da variável <font color='blue'>\\_\\_name\\_\\_</font>, também disponível nos módulos.\n",
    "\n",
    "Um recurso muito utilizado é associar um \"apelido\" a um módulo para facilitar seu uso no código. Um apelido é gerado com o uso do comando <font color='blue'>as</font>"
   ]
  },
  {
   "cell_type": "code",
   "execution_count": 7,
   "metadata": {},
   "outputs": [
    {
     "name": "stdout",
     "output_type": "stream",
     "text": [
      "numpy\n"
     ]
    }
   ],
   "source": [
    "import numpy as np  # np é o apelido do módulo 'numpy'\n",
    "\n",
    "print(np.__name__)"
   ]
  },
  {
   "cell_type": "markdown",
   "metadata": {},
   "source": [
    "---\n",
    "## Programação Funcional\n",
    "Python implementa um conjunto de funções, chamadas de _funcionais_, que são utilizadas para aplicar outra função em uma sequência de elementos. O uso de funcionais, visa principalmente evitar o uso de laços, fornecendo implementações muito eficientes para tarefas que aparecem frequentemente em programação, como percorrer uma lista aplicando uma função a cada elemento da lista, filtrar elementos de uma lista de acordo com algum critério, dentre outras. \n",
    "\n",
    "Dentre os funcionais implementados no Python, destacam-se:\n",
    "- <font color='blue'>map</font>\n",
    "- <font color='blue'>filter</font>\n",
    "- <font color='blue'>reduce</font>\n",
    "\n",
    "A sintaxe dos funcionais é:\n",
    "```python\n",
    "funcional(func,iterador)\n",
    "```\n",
    "onde a função `func` é a função a ser aplicada e `iterador` é uma sequência ou um iterador (método que produz uma sequência de elementos, como o <font color='blue'>range</font> por exemplo."
   ]
  },
  {
   "cell_type": "markdown",
   "metadata": {},
   "source": [
    "### <font color='blue'>map</font>\n",
    "O funcional <font color='blue'>map</font> aplica a função 'func' a todos os elementos do 'iterador'. \n",
    "\n",
    "O resultado do funcional <font color='blue'>map</font> é um objeto `map`, não uma sequência. Para obter a sequência é preciso realizar a conversão para o tipo de sequência desejada."
   ]
  },
  {
   "cell_type": "code",
   "execution_count": 12,
   "metadata": {},
   "outputs": [
    {
     "name": "stdout",
     "output_type": "stream",
     "text": [
      "<map object at 0x116c626a0>\n"
     ]
    }
   ],
   "source": [
    "def quadrado(s):  # eleva um número ao quadrado\n",
    "    return(s**2)\n",
    "\n",
    "m = map(quadrado,[1,2,3,4,5])\n",
    "print(m)"
   ]
  },
  {
   "cell_type": "markdown",
   "metadata": {},
   "source": [
    "Note que o resultado não é a sequência de números ao quadrado, mas sim um objeto `map`. Para obter a sequência, precisamos gerá-la."
   ]
  },
  {
   "cell_type": "code",
   "execution_count": 9,
   "metadata": {},
   "outputs": [
    {
     "name": "stdout",
     "output_type": "stream",
     "text": [
      "[1, 4, 9, 16, 25]\n"
     ]
    }
   ],
   "source": [
    "def quadrado(s):  # eleva um número ao quadrado\n",
    "    return(s**2)\n",
    "\n",
    "quadrado = list(map(quadrado,[1,2,3,4,5])) # o comando 'list'gera a lista resultando do 'map'\n",
    "print(quadrado)"
   ]
  },
  {
   "cell_type": "markdown",
   "metadata": {},
   "source": [
    "O código acima é equivalente a:\n",
    "```python\n",
    "quadrado = []\n",
    "for i in [1,2,3,4,5]:\n",
    "    quadrado.append(i**2)\n",
    "print(quadrado)\n",
    "```\n",
    "Porém, com o uso do <font color='blue'>map</font>, a execução é muito mais eficiente, pois o laço <font color='blue'>for</font> é implementado internamente de forma otimizada.\n",
    "\n",
    "É muito comum utilizar função <font color='blue'>lambda</font> em conjunto com funcionais."
   ]
  },
  {
   "cell_type": "code",
   "execution_count": 11,
   "metadata": {},
   "outputs": [
    {
     "name": "stdout",
     "output_type": "stream",
     "text": [
      "[1, 4, 9, 16, 25]\n"
     ]
    }
   ],
   "source": [
    "quadrado = list(map(lambda x:x**2,[1,2,3,4,5]))\n",
    "print(quadrado)"
   ]
  },
  {
   "cell_type": "markdown",
   "metadata": {},
   "source": [
    "### <font color='blue'>filter</font>\n",
    "O funcional <font color='blue'>filter</font> aplica a função 'func' a todos os elementos do 'iterador', retornando os elementos da sequência onde `func` retorna <font color='blue'>True</font>.\n",
    "Desta forma, o resultado de `func` deve ser um booleando (True ou False).\n",
    "\n",
    "O resultado do funcional <font color='blue'>filter</font> é um objeto `filter`. Para obter a sequência é preciso realizar a conversão para o tipo de sequência desejada."
   ]
  },
  {
   "cell_type": "code",
   "execution_count": 13,
   "metadata": {},
   "outputs": [
    {
     "name": "stdout",
     "output_type": "stream",
     "text": [
      "[0, 2, 4, 6, 8]\n"
     ]
    }
   ],
   "source": [
    "ls = list(filter(lambda x: x%2==0,range(10))) # retorna os números entre 0 e 9 que são par\n",
    "print(ls)"
   ]
  },
  {
   "cell_type": "markdown",
   "metadata": {},
   "source": [
    "### <font color='blue'>reduce</font>\n",
    "O funcional <font color='blue'>reduce</font> é um método do módulo <font color='blue'>functools</font>, onde vários funcionais estão disponíveis.\n",
    "\n",
    "Este funcional aplica 'func' acumulativamente aos itens do 'iterador', da esquerda para a direita, de maneira a reduzir a sequência a apenas um elemento\n",
    "- a função 'func' sempre precisa receber dois argumentos, um onde a acumulação será feira e o outro o valor a ser acumulado."
   ]
  },
  {
   "cell_type": "code",
   "execution_count": 15,
   "metadata": {},
   "outputs": [
    {
     "name": "stdout",
     "output_type": "stream",
     "text": [
      "45\n",
      "45\n"
     ]
    }
   ],
   "source": [
    "from functools import reduce\n",
    "\n",
    "r = reduce(lambda x,y: x+y,range(10)) # irá acumular as soma dos números de 0 a 9 na variável x\n",
    "print(r)\n",
    "\n",
    "# equivalent to\n",
    "x = 0\n",
    "for y in range(10):\n",
    "    x = x + y\n",
    "print(x)"
   ]
  },
  {
   "cell_type": "markdown",
   "metadata": {},
   "source": [
    "O funcional <font color='blue'>reduce</font> permite especificar qual o valor inicial da variável acumulada, passando este valor como parâmetro."
   ]
  },
  {
   "cell_type": "code",
   "execution_count": 16,
   "metadata": {},
   "outputs": [
    {
     "name": "stdout",
     "output_type": "stream",
     "text": [
      "145\n",
      "145\n"
     ]
    }
   ],
   "source": [
    "r = reduce(lambda x,y: x+y,range(10),100) # irá acumular as soma dos números de 0 a 9 na variável x, \n",
    "                                          # porém, a variável x é inicializada como 100\n",
    "print(r)\n",
    "\n",
    "# equivalent to\n",
    "x = 100\n",
    "for y in range(10):\n",
    "    x = x + y\n",
    "print(x)"
   ]
  },
  {
   "cell_type": "markdown",
   "metadata": {},
   "source": [
    "---\n",
    "## Leitura e Escrita de Arquivos (I/O)\n",
    "- Python manipula naturalmente arquivos _ascii_, mas arquivos binários também são possíveis de serem utilisados\n",
    "- O conteúdo de um arquivo é sempre uma string. Desta forma, deve-se fazer a conversão de/para string na leitura/escrita\n",
    "- Arquivos são lidos/escritos em buffers, o que significa que deve-se assegurar, principalmente no processo de escrita de arquivos, que o conteúdo foi salvo em disco\n",
    "   - fechar o arquivo (comando <font color='blue'>close</font> em Python) ou usar o comando `flush` força os dados do buffer serem escritos em disco"
   ]
  },
  {
   "cell_type": "markdown",
   "metadata": {},
   "source": [
    "### <font color='blue'>open</font>\n",
    "O comando  <font color='blue'>open</font> abre um arquivo em um determinado modo. A sintaxe é:\n",
    "```python\n",
    "open(nome_do_arquivo, modo)\n",
    "``` \n",
    "O resultado é um objeto tipo 'arquivo' (`io`).<br>\n",
    "\n",
    "O parâmetro `mod` pode ser:\n",
    "- ‘r’ para leitura (read)\n",
    "- ‘w’ para escrita(write)\n",
    "- ‘a’ para acrescentar conteúdo em um arquivo existente(append)\n",
    "- ‘r+’ para leitura e escrita\n",
    "\n",
    "Se o arquivo não pode ser aberto, o interpretador envia a mensagem de erro tipo 'IOError'<br>\n",
    "Métodos do objeto tipo 'arquivo' são usados para ler, escrever e controlar o processo de leitura e escrita."
   ]
  },
  {
   "cell_type": "markdown",
   "metadata": {},
   "source": [
    "Para ilustrarmos a funcionalidade de leitura, vamos primeiro criar um arquivo com o commando <font color='blue'>%%writefile</font>. Este comando escreve tudo que estiver na célula do notebook para um aquivo especificado. No exemplo abaixo, o commando `%%writefile data.txt` irá escrever todo o conteúdo da célula no arquivo chamado 'data.txt'\n",
    "\n",
    "Verifique no seu diretório de trabalho (onde este notebook está) que o arquivo 'data.txt' será criado após executar a célula abaixo."
   ]
  },
  {
   "cell_type": "code",
   "execution_count": 25,
   "metadata": {},
   "outputs": [
    {
     "name": "stdout",
     "output_type": "stream",
     "text": [
      "Overwriting data.txt\n"
     ]
    }
   ],
   "source": [
    "%%writefile data.txt \n",
    "hello world\n",
    "today is raining\n",
    "winter is comming"
   ]
  },
  {
   "cell_type": "code",
   "execution_count": 21,
   "metadata": {},
   "outputs": [
    {
     "name": "stdout",
     "output_type": "stream",
     "text": [
      "<_io.TextIOWrapper name='data.txt' mode='r' encoding='UTF-8'>\n"
     ]
    }
   ],
   "source": [
    "# instanciando um objeto 'arquivo'\n",
    "f = open('data.txt','r')\n",
    "print(f)"
   ]
  },
  {
   "cell_type": "markdown",
   "metadata": {},
   "source": [
    "#### Leitura de Arquivos\n",
    "Os principais métodos para ler um arquivo são:\n",
    "- <font color='blue'>read(size)</font>\n",
    "   - lê \"size\" bytes, ou o arquivo inteiro se o parâmetro \"size\" é omitido\n",
    "- <font color='blue'>readline()</font>\n",
    "   - lê uma única linha do arquivo\n",
    "- <font color='blue'>readlines()</font>\n",
    "   - retorna uma lista contendo todas as linhas do arquivo, cada linha sendo um elemento da lista\n",
    "- <font color='blue'>for line in f:</font>\n",
    "   - lê cada linha do arquivo atribuindo-a a variável `line` (outro nome pode ser dado a variável) "
   ]
  },
  {
   "cell_type": "code",
   "execution_count": 22,
   "metadata": {},
   "outputs": [
    {
     "name": "stdout",
     "output_type": "stream",
     "text": [
      "['hello world\\n', 'today is raining\\n', 'winter is comming\\n']\n"
     ]
    }
   ],
   "source": [
    "f = open('data.txt','r')  # abre o aquivo criado com o comando '%%writefile data.txt'\n",
    "lines = f.readlines()  # lê todas as linhas do aquivo e armazena na lista 'lines'\n",
    "print(lines)"
   ]
  },
  {
   "cell_type": "code",
   "execution_count": 23,
   "metadata": {},
   "outputs": [
    {
     "name": "stdout",
     "output_type": "stream",
     "text": [
      "hello world\n",
      "\n",
      "today is raining\n",
      "\n",
      "winter is comming\n",
      "\n"
     ]
    }
   ],
   "source": [
    "f = open('data.txt','r') \n",
    "for line in f:    # lê cada linha do aquivo, atribuindo uma de cada vez a variável 'line'\n",
    "    print(line)"
   ]
  },
  {
   "cell_type": "markdown",
   "metadata": {},
   "source": [
    "Uma construção muito comum quando se está fazendo leitura e escrita de aquivo é utilizar a estrutura definida pelo comando <font color='blue'>with</font>. A sintaxe é a seguinte:\n",
    "```python\n",
    "with open(nome_do_arquivo,modo) as variavel:\n",
    "    bloco de codigo\n",
    "```\n",
    "onde `variavel` é uma instâncio do objeto tipo 'aquivo' e o bloco de código é onde se executa a tarefa de leitura ou escrita.\n",
    "\n",
    "A vantagem de se empregar <font color='blue'>with</font> é que o Python se encarrega de baixar o conteúdo do buffer para disco uma vez que o bloco de código identado tenha sido executado, fechando o arquivo automaticamente."
   ]
  },
  {
   "cell_type": "code",
   "execution_count": 24,
   "metadata": {},
   "outputs": [
    {
     "name": "stdout",
     "output_type": "stream",
     "text": [
      "hello world\n",
      "\n",
      "today is raining\n",
      "\n",
      "winter is comming\n",
      "\n"
     ]
    }
   ],
   "source": [
    "with open('data.txt', 'r') as f:  # garante que o arquivo será fechado corretamente quando finalizado\n",
    "    for line in f:\n",
    "        print(line)"
   ]
  },
  {
   "cell_type": "markdown",
   "metadata": {},
   "source": [
    "#### Escrita de Arquivos\n",
    "Os principais métodos para escrever conteúdo em um arquivo são:\n",
    "- <font color='blue'>write</font>\n",
    "   - escreve uma string no arquivo\n",
    "- <font color='blue'>writelines</font>\n",
    "   - escreve uma lista de strings no arquivo"
   ]
  },
  {
   "cell_type": "code",
   "execution_count": 27,
   "metadata": {},
   "outputs": [],
   "source": [
    "lst = ['hello world\\n','today is Saturday\\n', 'winter is comming\\n'] # lista de strings que serão escritas no arquivo\n",
    "                                                                     # o símbolo '\\n' implica em uma mudança de linha\n",
    "                                                                     # ou seja, cada elemento da lista será escrito\n",
    "                                                                     # em uma linha do arquivo\n",
    "\n",
    "with open('data2write.txt', 'w') as f:  # abre um arquivo para escrita chamado 'data2write.txt'\n",
    "    f.writelines(lst)       # escreve o conteúdo da lista 'lst' no arquivo"
   ]
  },
  {
   "cell_type": "markdown",
   "metadata": {},
   "source": [
    "Após executar a célula acima, o arquivo 'data2write.txt' será criado no seu diretório de trabalho. Abra o arquivo e veja o conteúdo."
   ]
  },
  {
   "cell_type": "markdown",
   "metadata": {},
   "source": [
    "---\n",
    "## Programação Orientada a Objeto\n",
    "Programação orientada a objetos abrange um universo amplo de conceitos, técnicas e ferramentas que vão muito além do escopo proposto neste módulo. O objetivo da apresentação a seguir é introduzir noções básicas de programação orientada a objetos para que se possa fazer uso tal recurso disponível no Python com certa segurança."
   ]
  },
  {
   "cell_type": "markdown",
   "metadata": {},
   "source": [
    "Programação orientada a objetos envolve três conceitos principais:\n",
    "- Objetos\n",
    "- Classes\n",
    "- Herança"
   ]
  },
  {
   "cell_type": "markdown",
   "metadata": {},
   "source": [
    "### Objetos\n",
    "Um __objeto__ agrega dois conceitos:\n",
    "- Estado\n",
    "- Comportamento\n",
    "\n",
    "\n",
    "_Estado_ diz respeio às informações salvas nos _atributos_ do objeto\n",
    "<br><br>\n",
    "_Comportamento_ é manifestado através de métodos (funções) associadas ao objeto\n",
    "\n",
    "Várias linguagens de programação escondem estados internos e os fazem acessíveis apenas através de métodos<br>\n",
    "\n",
    "Python não faz isso. Tudo é exposto!!"
   ]
  },
  {
   "cell_type": "markdown",
   "metadata": {},
   "source": [
    "### Classes\n",
    "Uma __classe__ é um protótipo para criar um objeto. Quando um objeto é criado a partir de um protótipo, diz-se que ele foi instaciado.\n",
    "\n",
    "Em termos de programação, uma classe especifica os atributos e métodos do objeto, que pode ser instanciado tantas vezes quanto necessário."
   ]
  },
  {
   "cell_type": "markdown",
   "metadata": {},
   "source": [
    "### Herança\n",
    "Classes são capazes de herdar estados e comportamentos de outras classes.<br>\n",
    "Uma classe que herda de outra classe é chamada subclasse. <br>\n",
    "Uma classe que é herdada por outra é chamada de superclasse ou classe base.\n"
   ]
  },
  {
   "cell_type": "markdown",
   "metadata": {},
   "source": [
    "---\n",
    "## Classes em Python\n",
    "A sintaxe para se criar uma classe em Python é a seguinte:\n",
    "```python\n",
    "class nome_da_classe(superclass,...)\n",
    "      attributo1 = valor1      # atributos da classe\n",
    "      attributo2 = valor2\n",
    "      :\n",
    "      :\n",
    "      def __init__(self,...):  # construtor da classe\n",
    "         … default code …\n",
    "            \n",
    "      def methodo1(self,...):  # métodos da classe\n",
    "         self.attribute1 = value\n",
    "```    \n",
    "Um _atributo da classe_ é uma variável que é acessível por qualquer instância da classe.<br>\n",
    "Um _atributo de uma instância_ só é acessível pela instância que o criou (como uma variável local).\n",
    "\n",
    "Um _metodo da classe_ é uma função que pode acessar os atributos da classe diretamente, além de receber parâmetros externos.\n",
    "\n",
    "Existem métodos especiais que realizam operações específicas, como o método `\\_\\_init\\_\\_` que é invocado toda vez que um objeto da classe é instanciado. Uma descrição dos métodos especiais pode ser encontrada [neste link](https://www.tutorialspoint.com/python/python_classes_objects.htm)."
   ]
  },
  {
   "cell_type": "markdown",
   "metadata": {},
   "source": [
    "#### Exemplo de uma classe\n",
    "O exemplo a seguir define uma classe chamada `bicycle`. Esta classe possui três métodos:\n",
    "- `\\_\\_init\\_\\_` (método especial pré-definido) que é o construtor da classe\n",
    "- `\\_\\_str\\_\\_` (método especial pré-definido) que gera a string que será apresentada toda vez que o comando <font color='blue'>print</font> for aplicado a uma instância da classe\n",
    "- `get_handlebar_options` que retorna o conteúdo de um dos atributos.\n",
    "\n",
    "A classe `bicycle` também possui os atributos:\n",
    "- bicycle_type    \n",
    "- number_of_gears\n",
    "- handlebar_type\n",
    "- handle_options\n",
    "\n",
    "Quando um objeto da classe `bicycle` é instanciado, o construtor `\\_\\_init\\_\\_` é invocado para inicializar os atributos. O construtor admite três parâmetros que podem ser especificados durante a instanciação do objeto, assumindo valores \"default\" quando não são especificados.\n",
    "\n",
    "O parâmetro `self` é sempre mandatório, pois é por meio dele que se distingue um atributo ou método da classe de uma variável local ou função externa."
   ]
  },
  {
   "cell_type": "code",
   "execution_count": 33,
   "metadata": {},
   "outputs": [],
   "source": [
    "class bicycle():\n",
    "    def __init__(self,bike_type = None,n_gears = 1,handlebar = 'Drop'):\n",
    "        print(\"...building the object...\")\n",
    "        self.bicycle_type = bike_type\n",
    "        self.number_of_gears = n_gears\n",
    "        self.handlebar_type = handlebar\n",
    "        self.handle_options = ['Drop','Cruiser','Flat','Bullhorn']\n",
    "    \n",
    "    def get_handlebar_options(self,k=4):\n",
    "        print(self.handle_options[:k])\n",
    "        \n",
    "    def __str__(self):\n",
    "        return('Type: '+str(self.bicycle_type)+'\\n'\n",
    "               'Gears: '+str(self.number_of_gears)+'\\n'\n",
    "               'Handle: '+str(self.handlebar_type))"
   ]
  },
  {
   "cell_type": "code",
   "execution_count": 34,
   "metadata": {},
   "outputs": [
    {
     "name": "stdout",
     "output_type": "stream",
     "text": [
      "...building the object...\n",
      "['Drop', 'Cruiser', 'Flat', 'Bullhorn']\n",
      "['Drop', 'Cruiser']\n",
      "...building the object...\n",
      "Type: Cruise\n",
      "Gears: 3\n",
      "Handle: Drop\n",
      "------\n",
      "Type: Speed\n",
      "Gears: 1\n",
      "Handle: Bullhorn\n"
     ]
    }
   ],
   "source": [
    "my_bike = bicycle() # um objeto da classe bicycle é instanciado\n",
    "\n",
    "my_bike.bicycle_type = 'Cruise' # acessando variável 'bicycle_type' e atribuindo o valor 'Cruise' ela\n",
    "my_bike.number_of_gears = 3     # acessando variável 'number_of_gears' e atribuindo o valor 3 ela\n",
    "\n",
    "my_bike.get_handlebar_options() # acessando o método 'get_handlebar_options' que imprime as opções de guidão\n",
    "my_bike.get_handlebar_options(2)# acessando o método 'get_handlebar_options' porém fazendo k=2, o que \n",
    "                                # resulta na impressão das duas primeiras opções de guidão\n",
    "\n",
    "thy_bike = bicycle(bike_type='Speed',handlebar='Bullhorn') # instanciando outro objeto da classe \n",
    "                                                           # enviando parâmetros para o construtor\n",
    "\n",
    "print(my_bike) # o comando print automaticamente invoca o método `__repr__`, \n",
    "                # que gera a string que será apresentada pelo print\n",
    " \n",
    "print(3*'--')\n",
    "print(thy_bike)"
   ]
  },
  {
   "cell_type": "markdown",
   "metadata": {},
   "source": [
    "#### Exemplo de herança\n",
    "Pode-se derivar uma subclasse de uma classe pré-definida (_superclasse_). Todos os atributos e métodos da _superclasse_ são automaticamente herdados pela classe derivada. A sintaxe é simplesmente:\n",
    "```python\n",
    "class nome_da_subclasse(nome_da_superclasse):\n",
    "```"
   ]
  },
  {
   "cell_type": "code",
   "execution_count": null,
   "metadata": {},
   "outputs": [],
   "source": [
    "class mountain_bike(bicycle): # a subclasse mountain_bike herda todos os\n",
    "                              # atibutos e métodos da superclasse bicycle \n",
    "        \n",
    "    def __init__(self):  # o construtor da subclasse chama o construtor da superclasse\n",
    "                         # com parametros desejados\n",
    "        bicycle.__init__(self,bike_type='Mountain',n_gears = 10,handlebar='Bullhorn')\n",
    "        self.set_handlebar_options() # o método set_handlebar_options não existe na \n",
    "                                     # superclasse bicycle, é definido somente na subclasse\n",
    "        \n",
    "    def set_handlebar_options(self): # método da subclasse \n",
    "        self.handle_options.remove('Cruiser')"
   ]
  },
  {
   "cell_type": "code",
   "execution_count": null,
   "metadata": {},
   "outputs": [],
   "source": [
    "my_mountain_bike = mountain_bike()  # instancia um objeto mountain_bike\n",
    "my_mountain_bike.get_handlebar_options() # imprime os modelos de guidão para mountain_bike\n",
    "\n",
    "print(my_mountain_bike)"
   ]
  },
  {
   "cell_type": "markdown",
   "metadata": {},
   "source": [
    "### Sobrecarga de operador (Operator Overloading)\n",
    "Classes podem interceptar operadores especiais e sobrescrevê-los. Tais métodos são definidos por um duplo underscore. Exemplos de operadores especiais são:\n",
    "\n",
    "- <font color='blue'>\\_\\_init\\_\\_</font> construtor do objeto\n",
    "- <font color='blue'>\\_\\_repr\\_\\_</font> método que gera uma representação da classe\n",
    "- <font color='blue'>\\_\\_add\\_\\_</font> método que define a operação de soma <font color='blue'>+</font>\n",
    "- <font color='blue'>\\_\\_lt\\_\\_</font>, <font color='blue'>\\_\\_gt\\_\\_</font>, para comparações X < Y, X > Y\n",
    "- e outras..."
   ]
  },
  {
   "cell_type": "code",
   "execution_count": 35,
   "metadata": {},
   "outputs": [],
   "source": [
    "class pessoa():\n",
    "    def __init__(self,nome = '', sobrenome = '', idade = 0):\n",
    "        self.nome = nome\n",
    "        self.sobrenome = sobrenome\n",
    "        self.idade = idade\n",
    "        \n",
    "    def __lt__(self,p):  # operador '<'\n",
    "        return(self.idade < p.idade)  # retorna True se a idade da instancia da classe for menor\n",
    "    \n",
    "    def __gt__(self,p):  # operador '>'\n",
    "        return(self.idade > p.idade)"
   ]
  },
  {
   "cell_type": "code",
   "execution_count": 38,
   "metadata": {},
   "outputs": [
    {
     "name": "stdout",
     "output_type": "stream",
     "text": [
      "gustavo  eh mais novo que  francisco\n",
      "gustavo  NAO eh mais novo que  francisco\n"
     ]
    }
   ],
   "source": [
    "p1 = pessoa(nome='gustavo',sobrenome='nonato',idade=50)    # instancia um objeto 'pessoa'\n",
    "p2 = pessoa(nome='francisco',sobrenome='louzada',idade=52) # instancia outro objeto 'pessoa'\n",
    "\n",
    "if p1 < p2:\n",
    "    print(p1.nome, ' eh mais novo que ',p2.nome)\n",
    "else:\n",
    "    print(p1.nome, ' nao eh mais novo que ',p2.nome)\n",
    "    \n",
    "if p2 < p1:\n",
    "    print(p1.nome, ' eh mais novo que ',p2.nome)\n",
    "else:\n",
    "    print(p1.nome, ' NAO eh mais novo que ',p2.nome)"
   ]
  },
  {
   "cell_type": "markdown",
   "metadata": {},
   "source": [
    "### Atributos públicos e privados\n",
    "Embora todos os atributos e métodos em Python são expostos, há uma convenção de que tudo precedido por dois underscores é privado.\n",
    "- \\_\\_minha_funcao\t \t\n",
    "- \\_\\_minha_variavel\n",
    "Não se deve acessar externamente métodos e atributos definidos por underscore duplo\n",
    "\n",
    "Tudo precedido com um underscore simples é semi-privado, e você deveria se sentir culpado por acessar esse dado diretamente\n",
    "- \\_b"
   ]
  }
 ],
 "metadata": {
  "kernelspec": {
   "display_name": "Python 3",
   "language": "python",
   "name": "python3"
  },
  "language_info": {
   "codemirror_mode": {
    "name": "ipython",
    "version": 3
   },
   "file_extension": ".py",
   "mimetype": "text/x-python",
   "name": "python",
   "nbconvert_exporter": "python",
   "pygments_lexer": "ipython3",
   "version": "3.7.4"
  },
  "toc": {
   "base_numbering": 1,
   "nav_menu": {},
   "number_sections": true,
   "sideBar": true,
   "skip_h1_title": false,
   "title_cell": "Table of Contents",
   "title_sidebar": "Contents",
   "toc_cell": false,
   "toc_position": {},
   "toc_section_display": true,
   "toc_window_display": false
  }
 },
 "nbformat": 4,
 "nbformat_minor": 2
}
