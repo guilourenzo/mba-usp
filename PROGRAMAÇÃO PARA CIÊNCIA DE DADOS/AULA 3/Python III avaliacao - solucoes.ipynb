{
 "cells": [
  {
   "cell_type": "markdown",
   "metadata": {},
   "source": [
    "# <span style=\"color:blue\"> MBA em Ciência de Dados</span>\n",
    "# <span style=\"color:blue\">Programação para Ciência de Dados</span>\n",
    "\n",
    "## <span style=\"color:blue\">Avaliação Python Parte III</span>\n",
    "**Material Produzido por Luis Gustavo Nonato**<br>\n",
    "**Cemeai - ICMC/USP São Carlos**"
   ]
  },
  {
   "cell_type": "markdown",
   "metadata": {},
   "source": [
    "### Exercício 1)\n",
    "Considere a lista `numeros` abaixo. Utilize o comando <font color='blue'>map</font> para gerar um nova lista `par_impar` contendo valores __True__ ou __Falso__ dependendo sebo elemento da lista `numeros` é par ou ímpar, respectivamente. Por exemplo:\n",
    "```python\n",
    "numeros = [7, 3, 2, 13,...]\n",
    "par_impar = [False, False, True, False,...]\n",
    "```\n",
    "\n",
    "Qual das opções abaixo gera a lista `par_impar` corretamente:<br>\n",
    "a) map(lambda x: x%2==0,list(numeros))<br>\n",
    "b) <font color='red'>list(map(lambda x: x%2==0,numeros))</font><br>\n",
    "c) map(lambda x: x%2==0,numeros)<br>\n",
    "d) list(lambda x: x%2==0,map(numeros))"
   ]
  },
  {
   "cell_type": "code",
   "execution_count": 5,
   "metadata": {},
   "outputs": [
    {
     "name": "stdout",
     "output_type": "stream",
     "text": [
      "[False, False, True, False, True, False, True, False, True, True, True, False, False, False, False, True, True, True, False, False, True, False, False, False, False, False, True, True, True, False, False, True, False, True, False, True, True, False, False, True, False, False, True, True, True, False, False, True, True, True]\n"
     ]
    }
   ],
   "source": [
    "numeros = [7, 3, 2, 13, 44, 3, 30, 47, 28, 10, 4, 17, 7, 37, 21, 32, 44, 2, 33, 9, 26, \n",
    "           9, 29, 9, 49, 11, 8, 42, 26, 23, 17, 16, 37, 26, 19, 26, 8, 27, 15, 10, 31, \n",
    "           41, 42, 10, 4, 9, 7, 18, 44, 12]\n",
    "\n",
    "par_impar = list(map(lambda x: x%2==0,numeros))\n",
    "print(par_impar)"
   ]
  },
  {
   "cell_type": "markdown",
   "metadata": {},
   "source": [
    "### Exercício 2)\n",
    "Considere a lista `numeros` abaixo. Utilize o comando <font color='blue'>filter</font> para gerar um nova lista `impares` contendo somente os elementos de `numeros` que são ímpares. A lista resultante será:<br>\n",
    "a) <font color='red'>[7, 3, 13, 3, 47, 7, 21, 9, 29, 49, 11, 19, 41, 9]</font><br>\n",
    "b) [7, 3, 13, 3, 7, 17, 21, 9, 39, 49, 11, 19, 41, 9]<br>\n",
    "c) [7, 3, 13, 3, 7, 7, 29, 21, 31, 43, 11, 29, 41, 9]<br>\n",
    "d) [7, 3, 13, 3, 3, 19, 23, 11, 39, 49, 11, 19, 41, 9]<br>"
   ]
  },
  {
   "cell_type": "code",
   "execution_count": 4,
   "metadata": {},
   "outputs": [
    {
     "name": "stdout",
     "output_type": "stream",
     "text": [
      "[7, 3, 13, 3, 47, 7, 21, 9, 29, 49, 11, 19, 41, 9]\n"
     ]
    }
   ],
   "source": [
    "numeros = [7, 3, 2, 13, 44, 3, 30, 47, 28, 10, 4, 12, 7, 32, 21, 32, 44, 2, 36, 9, 26, \n",
    "           6, 29, 36, 49, 11, 8, 42, 26, 20, 6, 16, 38, 26, 19, 26, 8, 22, 14, 10, 30, \n",
    "           41, 42, 10, 4, 9, 2, 18, 44, 12]\n",
    "\n",
    "impares = list(filter(lambda x: x%2!=0,numeros))\n",
    "print(impares)"
   ]
  },
  {
   "cell_type": "markdown",
   "metadata": {},
   "source": [
    "### Exercício 3)\n",
    "Considere a lista `numeros` abaixo. Utilize o comando <font color='blue'>reduce</font> para somar todos os elementos da lista. O resultado da soma será:<br>\n",
    "a) 1144<br>\n",
    "b) 1141<br>\n",
    "c) 1041<br>\n",
    "c) <font color='red'>1044</font>"
   ]
  },
  {
   "cell_type": "code",
   "execution_count": 8,
   "metadata": {},
   "outputs": [
    {
     "name": "stdout",
     "output_type": "stream",
     "text": [
      "1044\n"
     ]
    }
   ],
   "source": [
    "from functools import reduce\n",
    "\n",
    "numeros = [7, 3, 2, 13, 44, 3, 30, 47, 28, 10, 4, 17, 7, 37, 21, 32, 44, 2, 33, 9, 26, \n",
    "           9, 29, 9, 49, 11, 8, 42, 26, 23, 17, 16, 37, 26, 19, 26, 8, 27, 15, 10, 31, \n",
    "           41, 42, 10, 4, 9, 7, 18, 44, 12]\n",
    "\n",
    "soma = reduce(lambda x,y: x+y,numeros)\n",
    "print(soma)"
   ]
  },
  {
   "cell_type": "markdown",
   "metadata": {},
   "source": [
    "### Exercício 4)\n",
    "Considere a lista `numeros` abaixo. Utilize uma combinação dos comandos \n",
    "<font color='blue'>reduce</font> e <font color='blue'>filter</font> para somar todos os elementos da lista que são pares. O código que gera a soma corretamente será:<br>\n",
    "a) list(reduce(lambda x,y: x+y,list(filter(lambda x: x%2==0,numeros))))<br>\n",
    "b) reduce(lambda x: x%2==0,list(filter(lambda x,y: x+y,numeros)))<br>\n",
    "c) reduce(lambda x,y: x+y,filter(lambda x: x%2==0,numeros))<br>\n",
    "d) <font color='red'>reduce(lambda x,y: x+y,list(filter(lambda x: x%2==0,numeros)))</font>"
   ]
  },
  {
   "cell_type": "code",
   "execution_count": 9,
   "metadata": {},
   "outputs": [
    {
     "name": "stdout",
     "output_type": "stream",
     "text": [
      "514\n"
     ]
    }
   ],
   "source": [
    "from functools import reduce\n",
    "\n",
    "numeros = [7, 3, 2, 13, 44, 3, 30, 47, 28, 10, 4, 17, 7, 37, 21, 32, 44, 2, 33, 9, 26, \n",
    "           9, 29, 9, 49, 11, 8, 42, 26, 23, 17, 16, 37, 26, 19, 26, 8, 27, 15, 10, 31, \n",
    "           41, 42, 10, 4, 9, 7, 18, 44, 12]\n",
    "\n",
    "soma_pares = reduce(lambda x,y: x+y,list(filter(lambda x: x%2==0,numeros)))\n",
    "print(soma_pares)"
   ]
  },
  {
   "cell_type": "markdown",
   "metadata": {},
   "source": [
    "### Exercício 5)\n",
    "Assinale a alternativa que melhor explica o que significa `x` e `i` na declaração `x(i)` que está dentro do comando <font color='blue'>map</font> no código abaixo:<br>\n",
    "a) `x` corresponde a lista de números [0,1,2,3,4] e `i` é um dos elementos da lista.<br>\n",
    "\n",
    "b) `x` corresponde a lista `func` e `i` é um dos elementos desta lista.<br>\n",
    "\n",
    "c) <font color='red'>`x` corresponde a um dos elementos da lista `func` e `i` é um número da lista [0,1,2,3,4].</font><br>\n",
    "\n",
    "d)  `x` corresponde a `func` e `i` é um dos elementos de `func`.<br>"
   ]
  },
  {
   "cell_type": "code",
   "execution_count": 15,
   "metadata": {},
   "outputs": [
    {
     "name": "stdout",
     "output_type": "stream",
     "text": [
      "[0, 0]\n",
      "[1, 1]\n",
      "[4, 8]\n",
      "[9, 27]\n",
      "[16, 64]\n"
     ]
    }
   ],
   "source": [
    "def quadrado(x):\n",
    "    return(x**2)\n",
    "\n",
    "def cubo(x):\n",
    "    return(x**3)\n",
    "\n",
    "funcs = [quadrado, cubo]\n",
    "for i in range(5):\n",
    "    res = map(lambda x: x(i),funcs)\n",
    "    print(list(res))"
   ]
  }
 ],
 "metadata": {
  "kernelspec": {
   "display_name": "Python 3",
   "language": "python",
   "name": "python3"
  },
  "language_info": {
   "codemirror_mode": {
    "name": "ipython",
    "version": 3
   },
   "file_extension": ".py",
   "mimetype": "text/x-python",
   "name": "python",
   "nbconvert_exporter": "python",
   "pygments_lexer": "ipython3",
   "version": "3.7.1"
  }
 },
 "nbformat": 4,
 "nbformat_minor": 2
}
