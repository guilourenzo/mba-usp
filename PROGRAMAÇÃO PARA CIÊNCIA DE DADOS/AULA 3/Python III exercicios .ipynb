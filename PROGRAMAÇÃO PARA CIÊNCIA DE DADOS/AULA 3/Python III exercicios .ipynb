{
 "cells": [
  {
   "cell_type": "markdown",
   "metadata": {},
   "source": [
    "# <span style=\"color:blue\"> MBA em Ciência de Dados</span>\n",
    "# <span style=\"color:blue\">Programação para Ciência de Dados</span>\n",
    "\n",
    "## <span style=\"color:blue\">Exercícios Python Parte III</span>\n",
    "**Material Produzido por Luis Gustavo Nonato**<br>\n",
    "**Cemeai - ICMC/USP São Carlos**"
   ]
  },
  {
   "cell_type": "markdown",
   "metadata": {},
   "source": [
    "#### <span style=\"color:red\">Recomenda-se fortemente que os exercícios sejam feitos sem consultar as respostas antecipadamente.</span>"
   ]
  },
  {
   "cell_type": "markdown",
   "metadata": {},
   "source": [
    "### Exercício 1) \n",
    "Considere a lista `palavras` abaixo. Utilizando o funcional <font color='blue'>map</font> construa uma nova lista chamada `palavrasM` contendo todos os elementos de `palavras`, porém, com o primeiro caracter em maiúsculo, ou seja,\n",
    "```python\n",
    "palavras = ['adeus','adoravel','amor',...]\n",
    "palavrasM = ['Adeus','Adoravel','Amor',...]\n",
    "```\n",
    "Todo o código deve estar em uma linha."
   ]
  },
  {
   "cell_type": "code",
   "execution_count": null,
   "metadata": {},
   "outputs": [],
   "source": [
    "palavras = ['adeus','adoravel','amor','caminhos','chuva','coragem','cuidar','equilibrio',\n",
    "            'esperanca','felicidade','gentilezas','liberdade','melancolia','paz','respeito',\n",
    "            'riso','saudade','palimpsesto','perfeito','reciproco','recomeçar',\n",
    "            'resiliente','sentir','silencio','imprescindivel','sublime','tertulias']\n",
    "\n",
    "palavrasM = # escreva seu código nesta linha\n",
    "print(palavrasM)"
   ]
  },
  {
   "cell_type": "markdown",
   "metadata": {},
   "source": [
    "### Exercício 2)\n",
    "Utilizando o funcional <font color='blue'>filter</font>, construa uma nova lista `palavras5` contendo os elementos da lista `palavras` (definida no exercício 1) que contenham no máximo 5 caracteres. Todo o código deve estar em uma linha."
   ]
  },
  {
   "cell_type": "code",
   "execution_count": null,
   "metadata": {},
   "outputs": [],
   "source": [
    "palavras5 = # escreva seu código nesta linha\n",
    "print(palavras5)"
   ]
  },
  {
   "cell_type": "markdown",
   "metadata": {},
   "source": [
    "### Exercício 3) \n",
    "Utilize os funcionais <font color='blue'>map</font> e <font color='blue'>filter</font> para gerar uma nova lista `palavrasOS` contendo apenas os elementos da lista `palavras` que terminam com a letra 'o', adicionando a letras 's' no final de cada elemento, ou seja,\n",
    "```python\n",
    "palavrasOS = ['equilibrios', 'respeitos', 'risos', ...]\n",
    "```\n",
    "Todo o código deve estar em uma linha."
   ]
  },
  {
   "cell_type": "code",
   "execution_count": null,
   "metadata": {},
   "outputs": [],
   "source": [
    "palavrasOS = # escreva seu código nesta linha\n",
    "print(palavrasOS)"
   ]
  },
  {
   "cell_type": "markdown",
   "metadata": {},
   "source": [
    "### Exercício 4) \n",
    "Utilize os funcionais <font color='blue'>map</font> e <font color='blue'>reduce</font> para calcular o número total de caracteres na lista `palavras`. Todo o código deve estar em uma linha."
   ]
  },
  {
   "cell_type": "code",
   "execution_count": null,
   "metadata": {},
   "outputs": [],
   "source": [
    "from functools import reduce\n",
    "\n",
    "total_len = # escreva seu código nesta linha\n",
    "print(total_len)"
   ]
  },
  {
   "cell_type": "markdown",
   "metadata": {},
   "source": [
    "### Exercício 5) \n",
    "Escreva a lista `palavras` em um arquivo chamado 'palavras.txt' de modo que cada linha do arquivo contenha um elemento da lista `palavras` seguido do número de caracteres, ou seja, as linhas do arquivo devem ser da forma:\n",
    "```sys\n",
    "adeus 5\n",
    "adoravel 8\n",
    "amor 4\n",
    ":\n",
    ":\n",
    "```\n",
    "Utilize o método <font color='blue'>write</font> para escrever as linhas do arquivo."
   ]
  },
  {
   "cell_type": "code",
   "execution_count": null,
   "metadata": {},
   "outputs": [],
   "source": [
    "with open('palavras.txt','w') as f:\n",
    "    for i in palavras:\n",
    "        # escreva seu código nesta linha"
   ]
  },
  {
   "cell_type": "markdown",
   "metadata": {},
   "source": [
    "### Exercício 6)\n",
    "Repita o exercício anterior, porém, utilizando o método <font color='blue'>writelines</font> para escrever o arquivo.\n",
    "\n",
    "__Dica__: prepare uma lista onde cada elemento corresponde a uma linha do arquivo."
   ]
  },
  {
   "cell_type": "code",
   "execution_count": null,
   "metadata": {},
   "outputs": [],
   "source": []
  },
  {
   "cell_type": "markdown",
   "metadata": {},
   "source": [
    "### Exercício 7) \n",
    "Crie uma classe chamada `manipula_arquivo` para concatenar ou dividir arquivos texto. \n",
    "A classe deve possuir as seguintes características:\n",
    "- Um método chamado `concatena` que recebe o nome de dois arquivos como parâmetros e concatena os arquivos em um terceiro arquivo cujo nome também é a concatenação dos nomes enviados. O método deve retornar o nome do novo arquivo criado.\n",
    "- Um método chamado `divide_ao_meio` que recebe o nome de um arquivo como parâmetro e gera um novo arquivo com metade das linhas do arquivo original. O nome do novo arquivo deve ser o mesmo do original adicionando o número 2 no final do nome."
   ]
  },
  {
   "cell_type": "code",
   "execution_count": null,
   "metadata": {},
   "outputs": [],
   "source": [
    "class manipula_arquivo:\n",
    "    def concatena(self,arq1,arq2):\n",
    "        \n",
    "        \n",
    "    def divide_ao_meio(self,arq):\n",
    "        "
   ]
  },
  {
   "cell_type": "markdown",
   "metadata": {},
   "source": [
    "Execute as próximas duas células para gerar os aquivos 'test1.txt' e 'test2.txt'."
   ]
  },
  {
   "cell_type": "code",
   "execution_count": null,
   "metadata": {},
   "outputs": [],
   "source": [
    "%%writefile test1.txt\n",
    "conteudo do arquivo\n",
    "test1.txt para ser\n",
    "utilizado como teste para a\n",
    "classe construida"
   ]
  },
  {
   "cell_type": "code",
   "execution_count": null,
   "metadata": {},
   "outputs": [],
   "source": [
    "%%writefile test2.txt\n",
    "conteudo do arquivo\n",
    "test2.txt para ser\n",
    "utilizado como teste para a\n",
    "classe construida"
   ]
  },
  {
   "cell_type": "code",
   "execution_count": null,
   "metadata": {},
   "outputs": [],
   "source": [
    "# Utilize o código abaixo para testar sua classe\n",
    "ma = manipula_arquivo()\n",
    "ma.concatena('test1.txt','test2.txt')\n",
    "ma.divide_ao_meio('test1.txt')\n",
    "\n",
    "with open('test1test2.txt','r') as f:\n",
    "    print(f.readlines())\n",
    "        \n",
    "with open('test12.txt','r') as f:\n",
    "    print(f.readlines())       "
   ]
  },
  {
   "cell_type": "markdown",
   "metadata": {},
   "source": [
    "### Exercício 8)\n",
    "Crie uma subclasse da classe `manipula_arquivo` chamada `soma_arquivos` com as seguintes propriedades:\n",
    "- o construtor da subclasse recebe o nome de um arquivo e armazena em uma variável.\n",
    "- sobrescreva o operador <font color='blue'>+</font> (via método <font color='blue'>\\_\\_add\\_\\_</font>) para que ele concatene dois arquivos (instâncias da subclasse) utilizando o método `concatena` da superclasse `manipula_arquivo`.\n",
    "- a subclasse deve possuir o conteúdo do arquivo quando o comando print for aplicado à uma instância da subclasse.\n",
    "\n",
    "__Dica:__ Faço o método <font color='blue'>\\_\\_add\\_\\_</font> retornar uma instância da subclasse `soma_arquivos`."
   ]
  },
  {
   "cell_type": "code",
   "execution_count": null,
   "metadata": {},
   "outputs": [],
   "source": [
    "class soma_arquivos(manipula_arquivo):\n",
    "    def __init__(self,nome=''):\n",
    "        \n",
    "        \n",
    "    def __add__(self,o):\n",
    "        \n",
    "    \n",
    "    def __str__(self):\n",
    "        "
   ]
  },
  {
   "cell_type": "code",
   "execution_count": null,
   "metadata": {},
   "outputs": [],
   "source": [
    "# Utilize o código abaixo para testar sua a subclasse criada\n",
    "obj1 = soma_arquivos('test1.txt')\n",
    "obj2 = soma_arquivos('test2.txt')\n",
    "obj3 = obj1+obj2\n",
    "print(obj3)"
   ]
  }
 ],
 "metadata": {
  "kernelspec": {
   "display_name": "Python 3",
   "language": "python",
   "name": "python3"
  },
  "language_info": {
   "codemirror_mode": {
    "name": "ipython",
    "version": 3
   },
   "file_extension": ".py",
   "mimetype": "text/x-python",
   "name": "python",
   "nbconvert_exporter": "python",
   "pygments_lexer": "ipython3",
   "version": "3.7.1"
  }
 },
 "nbformat": 4,
 "nbformat_minor": 2
}
