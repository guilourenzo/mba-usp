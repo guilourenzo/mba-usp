{
 "cells": [
  {
   "cell_type": "markdown",
   "metadata": {},
   "source": [
    "# <span style=\"color:blue\"> MBA em Ciência de Dados</span>\n",
    "# <span style=\"color:blue\">Programação para Ciência de Dados</span>\n",
    "\n",
    "## <span style=\"color:blue\">Numpy Parte I - Exercícios</span>\n",
    "**Material Produzido por Luis Gustavo Nonato**<br>\n",
    "**Cemeai - ICMC/USP São Carlos**"
   ]
  },
  {
   "cell_type": "markdown",
   "metadata": {},
   "source": [
    "#### <span style=\"color:red\">Recomenda-se fortemente que os exercícios sejam feitos sem consultar as respostas antecipadamente.</span>"
   ]
  },
  {
   "cell_type": "code",
   "execution_count": 2,
   "metadata": {},
   "outputs": [],
   "source": [
    "import numpy as np"
   ]
  },
  {
   "cell_type": "markdown",
   "metadata": {},
   "source": [
    "### Exercício 1)\n",
    "Utilize comprehension para gerar a lista de todos os números interios entre 0 e 19. Converta a lista em um <font color='blue'>numpy</font> array bidimensional (matriz) com 4 linhas e 5 colunas."
   ]
  },
  {
   "cell_type": "code",
   "execution_count": 22,
   "metadata": {},
   "outputs": [
    {
     "name": "stdout",
     "output_type": "stream",
     "text": "[[ 0  1  2  3  4]\n [ 5  6  7  8  9]\n [10 11 12 13 14]\n [15 16 17 18 19]]\n[[ 5  7  8]\n [10 12 13]]\n"
    }
   ],
   "source": [
    "ex1 = np.array([[0,1,2,3,4],\n",
    " [5,6,7,8,9],\n",
    " [10,11,12,13,14],\n",
    " [15,16,17,18,19]])\n",
    "\n",
    "print(ex1)\n",
    "\n",
    "print(ex1[1:3,[0,2,3]])"
   ]
  },
  {
   "cell_type": "code",
   "execution_count": 25,
   "metadata": {},
   "outputs": [
    {
     "name": "stdout",
     "output_type": "stream",
     "text": "[[ 2 19 16  1 12  7]\n [ 5 19 18 17  9  3]\n [16  4 18 11  4  2]\n [ 6  2 18 14 15 15]\n [ 4  8  1 14 19 13]]\n2 (5, 6) 30\n"
    }
   ],
   "source": [
    "ex2 = np.array([[2,19,16,1,12,7]\n",
    ",[5,19,18,17,9,3]\n",
    ",[16,4,18,11,4,2]\n",
    ",[6,2,18,14,15,15]\n",
    ",[4,8,1,14,19,13]])\n",
    "\n",
    "print(ex2)\n",
    "print(ex2.ndim, ex2.shape, ex2.size)"
   ]
  },
  {
   "cell_type": "code",
   "execution_count": 29,
   "metadata": {},
   "outputs": [
    {
     "name": "stdout",
     "output_type": "stream",
     "text": "16\n[ 2 16 12 18 16  4 18  4  2  6  2 18 14  4  8 14]\n"
    }
   ],
   "source": [
    "mask1 = (ex2 % 2 == 0)\n",
    "ex3 = ex2[mask1]\n",
    "print(ex3.size)\n",
    "print(ex3)"
   ]
  },
  {
   "cell_type": "code",
   "execution_count": 34,
   "metadata": {},
   "outputs": [
    {
     "name": "stdout",
     "output_type": "stream",
     "text": "(5, 6)\n"
    }
   ],
   "source": [
    "print(ex2.shape)\n",
    "\n"
   ]
  },
  {
   "cell_type": "code",
   "execution_count": null,
   "metadata": {},
   "outputs": [],
   "source": []
  },
  {
   "cell_type": "code",
   "execution_count": null,
   "metadata": {},
   "outputs": [],
   "source": []
  },
  {
   "cell_type": "code",
   "execution_count": 36,
   "metadata": {},
   "outputs": [],
   "source": [
    "l_mask = [j%2!=0 for i in range(ex2.shape[0]) for j in range(ex2.shape[1])]\n",
    "mask = np.array(l_mask).reshape(ex2.shape)\n",
    "ex2[mask] = -1"
   ]
  },
  {
   "cell_type": "code",
   "execution_count": 37,
   "metadata": {},
   "outputs": [
    {
     "name": "stdout",
     "output_type": "stream",
     "text": "[[ 2 -1 16 -1 12 -1]\n [ 5 -1 18 -1  9 -1]\n [16 -1 18 -1  4 -1]\n [ 6 -1 18 -1 15 -1]\n [ 4 -1  1 -1 19 -1]]\n"
    }
   ],
   "source": [
    "print(ex2)"
   ]
  },
  {
   "cell_type": "code",
   "execution_count": 3,
   "metadata": {},
   "outputs": [
    {
     "name": "stdout",
     "output_type": "stream",
     "text": "[[ 0  1  2  3  4]\n [ 5  6  7  8  9]\n [10 11 12 13 14]\n [15 16 17 18 19]]\n"
    }
   ],
   "source": [
    "l = [i for i in range(20)]\n",
    "A = np.array(l).reshape(4,5)\n",
    "print(A)"
   ]
  },
  {
   "cell_type": "markdown",
   "metadata": {},
   "source": [
    "### Exercício 2)\n",
    "Construa um array unidimensional com 30 números inteiros escolhidos de forma randômica no intervalo entre 0 e 20. Reformate o array para que se torne uma matriz `A` com 5 linhas e 6 colunas."
   ]
  },
  {
   "cell_type": "code",
   "execution_count": 4,
   "metadata": {},
   "outputs": [
    {
     "name": "stdout",
     "output_type": "stream",
     "text": "[[ 8  2 16 12  8 18]\n [14 18 15  5 13 16]\n [11  8 11  1  9  9]\n [ 4 13 10  3  8  7]\n [10  1  8  2 16 16]]\n"
    }
   ],
   "source": [
    "A = np.random.randint(0,20,30).reshape(5,6)\n",
    "print(A)"
   ]
  },
  {
   "cell_type": "markdown",
   "metadata": {},
   "source": [
    "### Exercício 3)\n",
    "Crie uma __view__ da matriz `A` gerada na célula anterior contendo:\n",
    "- as linhas de `A` com índices 0,1 e 3\n",
    "- as linhas de `A` com índice 1 e 2 e as colunas com índice 0,2 e 4\n",
    "- as linhas de `A` com índice 1 e 3 e as colunas com índice 1 e 3"
   ]
  },
  {
   "cell_type": "code",
   "execution_count": 5,
   "metadata": {},
   "outputs": [
    {
     "name": "stdout",
     "output_type": "stream",
     "text": "Matriz A:\n[[ 8  2 16 12  8 18]\n [14 18 15  5 13 16]\n [11  8 11  1  9  9]\n [ 4 13 10  3  8  7]\n [10  1  8  2 16 16]] \n\nlinhas de `A` com indices 0,1 e 3\n[[ 8  2 16 12  8 18]\n [14 18 15  5 13 16]\n [ 4 13 10  3  8  7]] \n\nlinhas de `A` com indice 1 e 2 e colunas com indice 0,2 e 4\n[[14 15 13]\n [11 11  9]] \n\nlinhas de `A` com indice 1 e 3 e colunas com indice 1 e 3\n[[18  5]\n [13  3]]\n"
    }
   ],
   "source": [
    "print('Matriz A:')\n",
    "print(A,'\\n')\n",
    "\n",
    "A0 = A[[0,1,3]] # linhas de `A` com índices 0,1 e 3\n",
    "print(\"linhas de `A` com indices 0,1 e 3\")\n",
    "print(A0,'\\n')\n",
    "\n",
    "A1 = A[1:3,[0,2,4]] # linhas de `A` com índice 1 e 2 e as colunas com índice 0,2 e 4\n",
    "print(\"linhas de `A` com indice 1 e 2 e colunas com indice 0,2 e 4\")\n",
    "print(A1,'\\n')\n",
    "\n",
    "A2 = A[[1,3]][:,[1,3]] #linhas de `A` com índice 1 e 3 e as colunas com índice 1 e 3\n",
    "print(\"linhas de `A` com indice 1 e 3 e colunas com indice 1 e 3\")\n",
    "print(A2)"
   ]
  },
  {
   "cell_type": "markdown",
   "metadata": {},
   "source": [
    "### Exercício 4)\n",
    "Construa um array `A` bidimensional 5x6 com 30 números inteiros escolhidos de forma randômica no intervalo entre 0 e 20. \n",
    "- faça uma cópia do array `A` criado, chamando a cópia de `Ac`\n",
    "- Substitua todos os elementos do array `A` que sejam maiores que 10 pelo valor -1 \n",
    "- Substitua todos os elementos do array `Ac` que sejam maiores que 7 e menores que 15 pelo valor -1 \n",
    "\n",
    "__Dica:__ Gere máscaras booleanas para realizar as modificações nos arrays."
   ]
  },
  {
   "cell_type": "code",
   "execution_count": 6,
   "metadata": {},
   "outputs": [
    {
     "name": "stdout",
     "output_type": "stream",
     "text": "A original\n[[15  5 19 14  3  4]\n [ 2 11  0  8 18  9]\n [ 9 10 18 10  7 11]\n [ 5  2 11  0  1  8]\n [16 14 14  7 11  4]]\n\nA modificada com -1 para elementos maiores que 10\n[[-1  5 -1 -1  3  4]\n [ 2 -1  0  8 -1  9]\n [ 9 10 -1 10  7 -1]\n [ 5  2 -1  0  1  8]\n [-1 -1 -1  7 -1  4]]\n\nAc modificada com -1 para elementos maiores que 7 e menores que 15\n[[15  5 19 -1  3  4]\n [ 2 -1  0 -1 18 -1]\n [-1 -1 18 -1  7 -1]\n [ 5  2 -1  0  1 -1]\n [16 -1 -1  7 -1  4]]\n"
    }
   ],
   "source": [
    "A = np.random.randint(0,20,30).reshape(5,6)\n",
    "print('A original')\n",
    "print(A)\n",
    "\n",
    "Ac = np.copy(A)  # copia de A\n",
    "\n",
    "maskA = (A > 10)\n",
    "A[maskA]  = -1\n",
    "print('\\nA modificada com -1 para elementos maiores que 10')\n",
    "print(A)\n",
    "\n",
    "maskAc = ((Ac > 7) & (Ac < 15))\n",
    "Ac[maskAc] = -1\n",
    "print('\\nAc modificada com -1 para elementos maiores que 7 e menores que 15')\n",
    "print(Ac)"
   ]
  },
  {
   "cell_type": "markdown",
   "metadata": {},
   "source": [
    "### Exercício 5)\n",
    "Construa um array `A` com 20 linhas e 10 colunas onde os elementos são os números interios de  1 até 200.\n",
    "- Crie uma __view__ de `A` chamada `A_lpares` contendo apenas as linhas de `A` com índice par. \n",
    "- Crie uma __view__ de `A` chamada `A_lpares_cimpares` contendo as linhas `A` com índice par e colunas com índice ímpar. "
   ]
  },
  {
   "cell_type": "code",
   "execution_count": 7,
   "metadata": {},
   "outputs": [
    {
     "name": "stdout",
     "output_type": "stream",
     "text": "A_lpares\n[[  1   2   3   4   5   6   7   8   9  10]\n [ 21  22  23  24  25  26  27  28  29  30]\n [ 41  42  43  44  45  46  47  48  49  50]\n [ 61  62  63  64  65  66  67  68  69  70]\n [ 81  82  83  84  85  86  87  88  89  90]\n [101 102 103 104 105 106 107 108 109 110]\n [121 122 123 124 125 126 127 128 129 130]\n [141 142 143 144 145 146 147 148 149 150]\n [161 162 163 164 165 166 167 168 169 170]\n [181 182 183 184 185 186 187 188 189 190]]\n\nA_lpares_cimpares\n[[  2   4   6   8  10]\n [ 22  24  26  28  30]\n [ 42  44  46  48  50]\n [ 62  64  66  68  70]\n [ 82  84  86  88  90]\n [102 104 106 108 110]\n [122 124 126 128 130]\n [142 144 146 148 150]\n [162 164 166 168 170]\n [182 184 186 188 190]]\n"
    }
   ],
   "source": [
    "A = np.arange(1,201).reshape(20,10)\n",
    "\n",
    "A_lpares = A[np.arange(0,A.shape[0],2)]\n",
    "print('A_lpares')\n",
    "print(A_lpares)\n",
    "\n",
    "print('\\nA_lpares_cimpares')\n",
    "A_lpares_cimpares = A[np.arange(0,A.shape[0],2)][:,np.arange(1,A.shape[1],2)]\n",
    "print(A_lpares_cimpares)"
   ]
  },
  {
   "cell_type": "markdown",
   "metadata": {},
   "source": [
    "### Exercício 6)\n",
    "Substitura os elememtos do array `A` do exercício anterior por -1 quando pelo menos um dos índices do elemento é par. \n",
    "\n",
    "__Dica:__ Construa uma máscara booleana"
   ]
  },
  {
   "cell_type": "code",
   "execution_count": 8,
   "metadata": {},
   "outputs": [
    {
     "name": "stdout",
     "output_type": "stream",
     "text": "[[ -1  -1  -1  -1  -1  -1  -1  -1  -1  -1]\n [ -1  12  -1  14  -1  16  -1  18  -1  20]\n [ -1  -1  -1  -1  -1  -1  -1  -1  -1  -1]\n [ -1  32  -1  34  -1  36  -1  38  -1  40]\n [ -1  -1  -1  -1  -1  -1  -1  -1  -1  -1]\n [ -1  52  -1  54  -1  56  -1  58  -1  60]\n [ -1  -1  -1  -1  -1  -1  -1  -1  -1  -1]\n [ -1  72  -1  74  -1  76  -1  78  -1  80]\n [ -1  -1  -1  -1  -1  -1  -1  -1  -1  -1]\n [ -1  92  -1  94  -1  96  -1  98  -1 100]\n [ -1  -1  -1  -1  -1  -1  -1  -1  -1  -1]\n [ -1 112  -1 114  -1 116  -1 118  -1 120]\n [ -1  -1  -1  -1  -1  -1  -1  -1  -1  -1]\n [ -1 132  -1 134  -1 136  -1 138  -1 140]\n [ -1  -1  -1  -1  -1  -1  -1  -1  -1  -1]\n [ -1 152  -1 154  -1 156  -1 158  -1 160]\n [ -1  -1  -1  -1  -1  -1  -1  -1  -1  -1]\n [ -1 172  -1 174  -1 176  -1 178  -1 180]\n [ -1  -1  -1  -1  -1  -1  -1  -1  -1  -1]\n [ -1 192  -1 194  -1 196  -1 198  -1 200]]\n"
    }
   ],
   "source": [
    "mask = [(i%2==0) or (j%2==0) for i in range(A.shape[0]) for j in range(A.shape[1])]\n",
    "mask = np.array(mask).reshape(A.shape[0],A.shape[1])\n",
    "A[mask] = -1\n",
    "\n",
    "print(A)"
   ]
  },
  {
   "cell_type": "markdown",
   "metadata": {},
   "source": [
    "### Exercício 7)\n",
    "Considere o array `X` de números tipo <font color='blue'>float</font> gerado a partir de uma distribuição uniforme no intervalo entre 0 e 1. Escreva um código para encontrar os três menores valores do array.\n",
    "\n",
    "__Dica:__ Converta o array em uma lista e ordene."
   ]
  },
  {
   "cell_type": "code",
   "execution_count": 9,
   "metadata": {},
   "outputs": [
    {
     "name": "stdout",
     "output_type": "stream",
     "text": "[[0.60567982 0.1439847  0.56884509 0.62647434 0.97114183]\n [0.43942689 0.68371082 0.82138851 0.4383752  0.75269008]\n [0.64179125 0.30071084 0.08074615 0.18403833 0.20057032]\n [0.05503203 0.05637709 0.163615   0.56716407 0.30635832]\n [0.93452385 0.69428305 0.51311972 0.34150976 0.38119221]\n [0.88181534 0.71715539 0.22900102 0.2837326  0.22736265]]\nOs tres menores valores:  [0.05503203006237689, 0.05637708665225061, 0.08074615128150031]\n"
    }
   ],
   "source": [
    "X = np.random.uniform(0,1,30).reshape(6,5)\n",
    "print(X)\n",
    "\n",
    "X_sorted = sorted(X.ravel())\n",
    "print('Os tres menores valores: ',X_sorted[0:3])"
   ]
  },
  {
   "cell_type": "markdown",
   "metadata": {},
   "source": [
    "### Exercício 8)\n",
    "Escreva uma função chamada `troca_colunas` que recebe um array e o índice de duas colunas como parâmetros e retorna o array com as colunas trocadas. Por exemplo:\n",
    "```python\n",
    "X = np.array([[0, 1, 2, 3, 4, 5], \n",
    "              [0, 1, 2, 3, 4, 5], \n",
    "              [0, 1, 2, 3, 4, 5]])\n",
    "\n",
    "X = troca_colunas(X,1,3)\n",
    "print(X)\n",
    "```\n",
    "deve resultar em\n",
    "```python\n",
    "[[0 3 2 1 4 5]\n",
    " [0 3 2 1 4 5]\n",
    " [0 3 2 1 4 5]]\n",
    "```\n"
   ]
  },
  {
   "cell_type": "code",
   "execution_count": 10,
   "metadata": {},
   "outputs": [
    {
     "name": "stdout",
     "output_type": "stream",
     "text": "[[0 1 2 3 4 5]\n [0 1 2 3 4 5]\n [0 1 2 3 4 5]]\n[[0 3 2 1 4 5]\n [0 3 2 1 4 5]\n [0 3 2 1 4 5]]\n"
    }
   ],
   "source": [
    "def troca_colunas(A,i,j):\n",
    "    aux = np.copy(A[:,i])\n",
    "    A[:,i] = A[:,j]\n",
    "    A[:,j] = aux\n",
    "    return(A)\n",
    "\n",
    "X = np.array([[0, 1, 2, 3, 4, 5], [0, 1, 2, 3, 4, 5], [0, 1, 2, 3, 4, 5]])\n",
    "print(X)\n",
    "\n",
    "X = troca_colunas(X,1,3)\n",
    "print(X)"
   ]
  },
  {
   "cell_type": "markdown",
   "metadata": {},
   "source": [
    "### Exercício 9)\n",
    "Os métodos <font color='blue'>vstack</font> e <font color='blue'>hstack</font> do <font color='blue'>numpy</font> empilha matrizes na vertical e horizontal, respectivamente. Por exemplo:\n",
    "```python\n",
    "A = [[1.0, 1.0, 1.0], [1.0, 1.0, 1.0]]\n",
    "B = [[2.0, 2.0, 2.0], [2.0, 2.0, 2.0]]\n",
    "\n",
    "C = np.vstack((A,B))\n",
    "print(C)\n",
    "```\n",
    "resulta em\n",
    "```python\n",
    "[[1. 1. 1.]\n",
    " [1. 1. 1.]\n",
    " [2. 2. 2.]\n",
    " [2. 2. 2.]]\n",
    "```\n",
    "Escreva um código para gerar duas matrizes `A` e `B` de números inteiros randômicos no intervalo entre 0 e 10, onde:\n",
    "- A matriz `A` é 5x6\n",
    "- A matriz `B` é 5x3\n",
    "\n",
    "Utilize o método <font color='blue'>hstack</font> para empilhar as matrizes\n",
    "\n",
    "O que acontece se tentar utilizar o método <font color='blue'>vstack</font>? Explique o motivo da mensagem gerada."
   ]
  },
  {
   "cell_type": "code",
   "execution_count": 11,
   "metadata": {},
   "outputs": [
    {
     "name": "stdout",
     "output_type": "stream",
     "text": "[[0 0 2 3 5 3]\n [7 1 7 7 6 5]\n [9 5 4 4 1 9]\n [2 3 3 5 8 9]\n [1 8 9 7 7 7]]\n[[-3 -1  0]\n [-6 -8 -9]\n [-8 -4 -1]\n [-7 -4 -4]\n [-3 -6  0]]\n[[ 0  0  2  3  5  3 -3 -1  0]\n [ 7  1  7  7  6  5 -6 -8 -9]\n [ 9  5  4  4  1  9 -8 -4 -1]\n [ 2  3  3  5  8  9 -7 -4 -4]\n [ 1  8  9  7  7  7 -3 -6  0]]\n"
    }
   ],
   "source": [
    "A = np.random.randint(0,10,30).reshape(5,6)\n",
    "B = -1*np.random.randint(0,10,15).reshape(5,3)\n",
    "print(A)\n",
    "print(B)\n",
    "\n",
    "C = np.hstack((A,B))\n",
    "print(C)\n",
    "\n",
    "# o método vstack nao pode ser utilizado pois o número de colunas \n",
    "# não é o mesmo nas duas matrizes, somente o número de linhas coincide"
   ]
  },
  {
   "cell_type": "markdown",
   "metadata": {},
   "source": [
    "### Exercício 10)\n",
    "Escreva um código para, data uma matriz, zerar todos os elementos abaixo da diagonal principal da matriz. Por exemplo:\n",
    "```python\n",
    "[[2 8 3 4 8]\n",
    " [4 8 7 7 3]\n",
    " [8 2 3 1 4]\n",
    " [8 6 3 8 1]\n",
    " [6 4 4 6 1]]\n",
    "```\n",
    "deve resultar em\n",
    "```python\n",
    "[[2 8 3 4 8]\n",
    " [0 8 7 7 3]\n",
    " [0 0 3 1 4]\n",
    " [0 0 0 8 1]\n",
    " [0 0 0 0 1]]\n",
    "```"
   ]
  },
  {
   "cell_type": "code",
   "execution_count": 12,
   "metadata": {},
   "outputs": [
    {
     "name": "stdout",
     "output_type": "stream",
     "text": "[[False False False False False]\n [ True False False False False]\n [ True  True False False False]\n [ True  True  True False False]\n [ True  True  True  True False]]\n[[4 5 2 6 4]\n [0 7 5 8 3]\n [0 0 5 8 9]\n [0 0 0 2 6]\n [0 0 0 0 5]]\n[[7 5 3 1 8]\n [2 8 3 5 1]\n [5 5 7 2 8]\n [2 1 3 8 3]\n [5 3 5 5 2]]\n[[7 5 3 1 8]\n [0 8 3 5 1]\n [0 0 7 2 8]\n [0 0 0 8 3]\n [0 0 0 0 2]]\n"
    }
   ],
   "source": [
    "A = np.random.randint(1,10,25).reshape(5,5)\n",
    "\n",
    "mask = [True if i>j else False for i in range(A.shape[0]) for j in range(A.shape[1])]\n",
    "mask = np.array(mask).reshape(A.shape[0],A.shape[1])\n",
    "print(mask)\n",
    "\n",
    "A[mask] = 0\n",
    "print(A)\n",
    "\n",
    "# uma alternativa é utilizar o método 'triu' do numpy\n",
    "A = np.random.randint(1,10,25).reshape(5,5)\n",
    "print(A)\n",
    "A = np.triu(A)\n",
    "print(A)"
   ]
  }
 ],
 "metadata": {
  "kernelspec": {
   "display_name": "Python 3",
   "language": "python",
   "name": "python3"
  },
  "language_info": {
   "codemirror_mode": {
    "name": "ipython",
    "version": 3
   },
   "file_extension": ".py",
   "mimetype": "text/x-python",
   "name": "python",
   "nbconvert_exporter": "python",
   "pygments_lexer": "ipython3",
   "version": "3.7.4-final"
  }
 },
 "nbformat": 4,
 "nbformat_minor": 2
}