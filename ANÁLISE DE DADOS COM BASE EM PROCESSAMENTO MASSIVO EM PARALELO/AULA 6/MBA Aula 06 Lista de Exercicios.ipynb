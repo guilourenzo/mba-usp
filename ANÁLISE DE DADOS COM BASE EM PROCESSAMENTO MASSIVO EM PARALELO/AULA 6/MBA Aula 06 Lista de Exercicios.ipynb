{
  "nbformat": 4,
  "nbformat_minor": 0,
  "metadata": {
    "colab": {
      "name": "MBA Aula 06 Lista de Exercícios.ipynb",
      "provenance": [],
      "collapsed_sections": [],
      "toc_visible": true
    },
    "kernelspec": {
      "name": "python3",
      "display_name": "Python 3"
    }
  },
  "cells": [
    {
      "cell_type": "markdown",
      "metadata": {
        "id": "2QbaUWeQxHYR"
      },
      "source": [
        "# <span style=\"color:blue\">MBA em Ciência de Dados</span>\n",
        "# <span style=\"color:blue\">Análise de Dados com Base em Processamento Massivo em Paralelo</span>\n",
        "\n",
        "## <span style=\"color:blue\">Aula 06: Processamento Paralelo e Distribuído</span>\n",
        "## <span style=\"color:blue\">Lista de Exercícios</span>\n",
        "\n",
        "**Material Produzido por:**<br>\n",
        ">**Profa. Dra. Cristina Dutra de Aguiar Ciferri**<br>\n",
        ">**André Marcos Perez**<br>\n",
        ">**Guilherme Muzzi da Rocha**<br> \n",
        ">**Jadson José Monteiro Oliveira**<br> \n",
        ">**Leonardo Mauro Pereira Moraes**<br> \n",
        "\n",
        "**CEMEAI - ICMC/USP São Carlos**\n",
        "\n",
        "**Esta lista de exercícios contém 9 exercícios, os quais estão espalhados ao longo do texto. Por favor, procurem por EXERCÍCIO para encontrar a especificação dos exercícios e também o local no qual as respostas dos exercícios devem ser inseridas. No menu ao lado (Table of contents) também existem links para o local no qual as respostas dos exercícios devem ser inseridas**\n",
        "\n",
        "**Recomenda-se fortemente que a lista de exercícios seja respondida antes de se consultar as respostas dos exercícios.** "
      ]
    },
    {
      "cell_type": "markdown",
      "metadata": {
        "id": "AWKkx5f8xTMM"
      },
      "source": [
        "# 1 Introdução\n",
        "\n",
        "A aplicação de *data warehousing* da BI Solutions utiliza como base uma contelação de fatos que une dois esquemas estrela, conforme descrito a seguir.\n",
        "\n",
        "**Tabelas de dimensão**\n",
        "\n",
        "- data (dataPK, dataCompleta, dataDia, dataMes, dataBimestre, dataTrimestre, dataSemestre, dataAno)\n",
        "- funcionario (funcPK, funcMatricula, funcNome, funcSexo, funcDataNascimento, funcDiaNascimento, funcMesNascimento, funcAnoNascimento, funcCidade, funcEstadoNome, funcEstadoSigla, funcRegiaoNome, funcRegiaoSigla, funcPaisNome, funcPaisSigla)\n",
        "- equipe (equipePK, equipeNome, filialNome, filialCidade, filialEstadoNome, filialEstadoSigla, filialRegiaoNome, filialRegiaoSigla, filialPaisNome, filialPaisSigla)\n",
        "- cargo (cargoPK, cargoNome, cargoRegimeTrabalho, cargoEscolaridadeMinima, cargoNivel)\n",
        "- cliente (clientePK, clienteNomeFantasia, clienteSetor, clienteCidade, clienteEstadoNome, clienteEstadoSigla, clienteRegiaoNome, clienteRegiaoSigla, clientePaisNome, clientePaisSigla)\n",
        "\n",
        "**Tabelas de fatos**\n",
        "- pagamento (dataPK, funcPK, equipePK, cargoPK, salario, quantidadeLancamento)\n",
        "- negociacao (dataPK, equipePK, clientePK, receita, quantidadeNegociacao)"
      ]
    },
    {
      "cell_type": "markdown",
      "metadata": {
        "id": "vYmvShw4vfP5"
      },
      "source": [
        "Primeiramente, são definidos `paths`, sendo que cada `path` se refere a uma tabela de fatos ou uma tabela de dimensão. "
      ]
    },
    {
      "cell_type": "code",
      "metadata": {
        "id": "G1kwE479vk4N"
      },
      "source": [
        "# Tabelas de dimensão\n",
        "pathData = 'dados/data.csv'\n",
        "pathFuncionario = 'dados/funcionario.csv'\n",
        "pathEquipe = 'dados/equipe.csv'\n",
        "pathCargo = 'dados/cargo.csv'\n",
        "pathCliente = 'dados/cliente.csv'\n",
        "\n",
        "# Tabelas de fato\n",
        "pathPagamento = 'dados/pagamento.csv'\n",
        "pathNegociacao = 'dados/negociacao.csv'"
      ],
      "execution_count": null,
      "outputs": []
    },
    {
      "cell_type": "markdown",
      "metadata": {
        "id": "hiIhXOKe11No"
      },
      "source": [
        "Na sequência,  todos os arquivos referentes às tabelas de fatos e às tabelas de dimensão são baixados, sendo armazenados na pasta `dados`."
      ]
    },
    {
      "cell_type": "code",
      "metadata": {
        "id": "kHsUKNlvvaBT"
      },
      "source": [
        "%%capture\n",
        "!git clone https://github.com/GuiMuzziUSP/Data_Mart_BI_Solutions.git dados"
      ],
      "execution_count": null,
      "outputs": []
    },
    {
      "cell_type": "markdown",
      "metadata": {
        "id": "qlYaf6zo0W_B"
      },
      "source": [
        "# 2 Apache Spark Cluster"
      ]
    },
    {
      "cell_type": "markdown",
      "metadata": {
        "id": "5Zl1gR_qy1PD"
      },
      "source": [
        "### 2.1 Instalação\n",
        "\n",
        "Neste *notebook* é criado um *cluster* Spark composto apenas por um **nó mestre**. Ou seja, o *cluster* não possui um ou mais **nós de trabalho** e o **gerenciador de cluster**. Nessa configuração, as tarefas (*tasks*) são realizadas no próprio *driver* localizado no **nó mestre**."
      ]
    },
    {
      "cell_type": "code",
      "metadata": {
        "id": "vjO0nAeqyRna"
      },
      "source": [
        "#instalando Java Runtime Environment (JRE) versão 8\n",
        "%%capture\n",
        "!apt-get remove openjdk*\n",
        "!apt-get update --fix-missing\n",
        "!apt-get install openjdk-8-jdk-headless -qq > /dev/null"
      ],
      "execution_count": null,
      "outputs": []
    },
    {
      "cell_type": "markdown",
      "metadata": {
        "id": "FDL6HLRhzHzL"
      },
      "source": [
        "Na sequência, é feito o *download* do Apache Spark versão 3.0.0."
      ]
    },
    {
      "cell_type": "code",
      "metadata": {
        "id": "5ItvOmwstGOO"
      },
      "source": [
        "#baixando Apache Spark versão 3.0.0\n",
        "%%capture\n",
        "!wget -q https://archive.apache.org/dist/spark/spark-3.0.0/spark-3.0.0-bin-hadoop2.7.tgz\n",
        "!tar xf spark-3.0.0-bin-hadoop2.7.tgz && rm spark-3.0.0-bin-hadoop2.7.tgz"
      ],
      "execution_count": null,
      "outputs": []
    },
    {
      "cell_type": "markdown",
      "metadata": {
        "id": "hcPvn_vgtJ6l"
      },
      "source": [
        "Na sequência, são configuradas as variáveis de ambiente JAVA_HOME e SPARK_HOME. Isto permite que tanto o Java quanto o Spark possam ser encontrados."
      ]
    },
    {
      "cell_type": "code",
      "metadata": {
        "id": "HAXvU63xtRck"
      },
      "source": [
        "import os\n",
        "#configurando a variável de ambiente JAVA_HOME\n",
        "os.environ[\"JAVA_HOME\"] = \"/usr/lib/jvm/java-8-openjdk-amd64\"\n",
        "#configurando a variável de ambiente SPARK_HOME\n",
        "os.environ[\"SPARK_HOME\"] = \"/content/spark-3.0.0-bin-hadoop2.7\""
      ],
      "execution_count": null,
      "outputs": []
    },
    {
      "cell_type": "markdown",
      "metadata": {
        "id": "n8hAOJtBtY7M"
      },
      "source": [
        "Por fim, são instalados dois pacotes da linguagem de programação Python, cujas funcionalidades são descritas a seguir.\n",
        "\n",
        "Pacote findspark: Usado para ler a variável de ambiente SPARK_HOME e armazenar seu valor na variável dinâmica de ambiente PYTHONPATH. Como resultado, Python pode encontrar a instalação do Spark.\n",
        "\n",
        "Pacote pyspark: PySpark é a API do Python para Spark. Ela possibilita o uso de Python, considerando que o framework Apache Spark encontra-se desenvolvido na linguagem de programação Scala."
      ]
    },
    {
      "cell_type": "code",
      "metadata": {
        "id": "X-0U9STdtZ4Y"
      },
      "source": [
        "%%capture\n",
        "#instalando o pacote findspark\n",
        "!pip install -q findspark==1.4.2\n",
        "#instalando o pacote pyspark\n",
        "!pip install -q pyspark==3.0.0"
      ],
      "execution_count": null,
      "outputs": []
    },
    {
      "cell_type": "markdown",
      "metadata": {
        "id": "1xrBLEKI0OWx"
      },
      "source": [
        "### 2.4 Conexão\n",
        "\n",
        "PySpark não é adicionado ao *sys.path* por padrão. Isso significa que não é possível importá-lo, pois o interpretador da linguagem Python não sabe onde encontrá-lo. \n",
        "\n",
        "Para resolver esse aspecto, é necessário instalar o módulo `findspark`. Esse módulo mostra onde PySpark está localizado. Os comandos a seguir têm essa finalidade."
      ]
    },
    {
      "cell_type": "code",
      "metadata": {
        "id": "0RAqybyZYKdn"
      },
      "source": [
        "#importando o módulo findspark\n",
        "import findspark\n",
        "#carregando a variávels SPARK_HOME na variável dinâmica PYTHONPATH\n",
        "findspark.init()"
      ],
      "execution_count": null,
      "outputs": []
    },
    {
      "cell_type": "markdown",
      "metadata": {
        "id": "bJjl5aEvtnur"
      },
      "source": [
        "Depois de configurados os pacotes e módulos e inicializadas as variáveis de ambiente, é possível criar o objeto SparkContext. No comando de criação a seguir, é definido que é utilizado o próprio sistema operacional deste notebook como nó mestre por meio do parâmetro local do método setMaster. O complemento do parametro [*] indica que são alocados todos os núcleos de processamento disponíveis para o objeto driver criado."
      ]
    },
    {
      "cell_type": "code",
      "metadata": {
        "id": "KB7ZlgxIVss3"
      },
      "source": [
        "from pyspark import SparkConf, SparkContext\n",
        "\n",
        "conf = SparkConf().setMaster(\"local[*]\")\n",
        "spark = SparkContext(conf=conf)"
      ],
      "execution_count": null,
      "outputs": []
    },
    {
      "cell_type": "markdown",
      "metadata": {
        "id": "c7SWE09n1sug"
      },
      "source": [
        "# 3 Carregamento dos Dados da Aplicação da BI Solutions"
      ]
    },
    {
      "cell_type": "markdown",
      "metadata": {
        "id": "G8D5I5Fb5YrL"
      },
      "source": [
        "### 3.1 Carregamento da tabela de dimensão **data**"
      ]
    },
    {
      "cell_type": "markdown",
      "metadata": {
        "id": "QPli-rPKjCMh"
      },
      "source": [
        "O comando a seguir utiliza o método `textFile()` para armazenar no RDD chamado `data` os registros do arquivo de texto `\"data.csv\"`, os quais possuem os dados da tabela de dimensão `data`."
      ]
    },
    {
      "cell_type": "code",
      "metadata": {
        "id": "iWOM5WsQf2pa"
      },
      "source": [
        "data_rdd = spark.textFile(pathData)"
      ],
      "execution_count": null,
      "outputs": []
    },
    {
      "cell_type": "markdown",
      "metadata": {
        "id": "2076gqycn_yS"
      },
      "source": [
        "Os comandos a seguir realizam alterações no RDD `data` de forma que seus elementos representem linhas (ou tuplas) da tabela."
      ]
    },
    {
      "cell_type": "code",
      "metadata": {
        "id": "FGN8-kownl0e",
        "outputId": "94926914-b64c-4839-abc0-de6099e9c7fb",
        "colab": {
          "base_uri": "https://localhost:8080/"
        }
      },
      "source": [
        "#imprimindo as 3 primeiras linhas de \"data\" e verificando que a primeira linha contém metadados (ou seja, o esquema referente aos dados)\n",
        "data_rdd.take(3)"
      ],
      "execution_count": null,
      "outputs": [
        {
          "output_type": "execute_result",
          "data": {
            "text/plain": [
              "['dataPK,dataCompleta,dataDia,dataMes,dataBimestre,dataTrimestre,dataSemestre,dataAno',\n",
              " '1,1/1/2016,1,1,1,1,1,2016',\n",
              " '2,2/1/2016,2,1,1,1,1,2016']"
            ]
          },
          "metadata": {
            "tags": []
          },
          "execution_count": 11
        }
      ]
    },
    {
      "cell_type": "code",
      "metadata": {
        "id": "mjJZjQySf2ho"
      },
      "source": [
        "#removendo a primeira linha de \"data\", desde que ela se refere a metadados\n",
        "#capturando o cabeçalho\n",
        "firstRow = data_rdd.first()\n",
        "#removendo o cabeçalho\n",
        "data_rdd = data_rdd.filter(lambda line: line != firstRow)"
      ],
      "execution_count": null,
      "outputs": []
    },
    {
      "cell_type": "code",
      "metadata": {
        "id": "cAFiGv_qycSu",
        "outputId": "eaf4f60c-a381-42d3-a1be-435e636b755d",
        "colab": {
          "base_uri": "https://localhost:8080/"
        }
      },
      "source": [
        "#imprimindo as 3 primeiras linhas de \"data\" e verificando que elas contêm apenas dados\n",
        "data_rdd.take(3)"
      ],
      "execution_count": null,
      "outputs": [
        {
          "output_type": "execute_result",
          "data": {
            "text/plain": [
              "['1,1/1/2016,1,1,1,1,1,2016',\n",
              " '2,2/1/2016,2,1,1,1,1,2016',\n",
              " '3,3/1/2016,3,1,1,1,1,2016']"
            ]
          },
          "metadata": {
            "tags": []
          },
          "execution_count": 13
        }
      ]
    },
    {
      "cell_type": "code",
      "metadata": {
        "id": "qvUk1tNTnCbO",
        "outputId": "61fadabc-2e7b-47b7-abc5-c14a82590521",
        "colab": {
          "base_uri": "https://localhost:8080/",
          "height": 156
        }
      },
      "source": [
        "#imprimindo o cabeçalho de \"data\" e verificando os metadados \n",
        "data_header = firstRow[:].split(\",\")\n",
        "display(data_header)"
      ],
      "execution_count": null,
      "outputs": [
        {
          "output_type": "display_data",
          "data": {
            "text/plain": [
              "['dataPK',\n",
              " 'dataCompleta',\n",
              " 'dataDia',\n",
              " 'dataMes',\n",
              " 'dataBimestre',\n",
              " 'dataTrimestre',\n",
              " 'dataSemestre',\n",
              " 'dataAno']"
            ]
          },
          "metadata": {
            "tags": []
          }
        }
      ]
    },
    {
      "cell_type": "markdown",
      "metadata": {
        "id": "Rm57ZD8bhE6G"
      },
      "source": [
        "Desde que o arquivo lido encontra-se no formato `.csv`, utiliza-se o método `()` para transformar os elementos do RDD `data` em uma lista de valores divididos por `\",\"`."
      ]
    },
    {
      "cell_type": "code",
      "metadata": {
        "id": "yMt3gxSLf2d7",
        "outputId": "81eacf1d-8e88-4ec3-c047-a1473637e2e2",
        "colab": {
          "base_uri": "https://localhost:8080/"
        }
      },
      "source": [
        "#mapeando os valores do RDD \"data\" utilizando o separador vírgula\n",
        "data_rdd = data_rdd.map(lambda line: tuple(line.split(\",\")))\n",
        "#imprimindo as 3 primeiras linhas de \"data\"\n",
        "data_rdd.take(3)"
      ],
      "execution_count": null,
      "outputs": [
        {
          "output_type": "execute_result",
          "data": {
            "text/plain": [
              "[('1', '1/1/2016', '1', '1', '1', '1', '1', '2016'),\n",
              " ('2', '2/1/2016', '2', '1', '1', '1', '1', '2016'),\n",
              " ('3', '3/1/2016', '3', '1', '1', '1', '1', '2016')]"
            ]
          },
          "metadata": {
            "tags": []
          },
          "execution_count": 15
        }
      ]
    },
    {
      "cell_type": "markdown",
      "metadata": {
        "id": "bCFWrvu8hSNx"
      },
      "source": [
        "### 3.2 Carregamento das demais tabelas"
      ]
    },
    {
      "cell_type": "markdown",
      "metadata": {
        "id": "NzmenlB1etNP"
      },
      "source": [
        "#### **EXERCÍCIO 1**\n",
        "\n",
        "Realize o carregamento dos demais arquivos referentes à constelação de fatos da BI solution, a saber: (i) tabelas de dimensão `funcionario`, `equipe`, `cargo` e `cliente`; e (ii) tabelas de fato `pagamento` e `negociação`. \n",
        "\n",
        "**Dica 1**: Crie uma função para executar este procedimento repetidas vezes. Utilize o esqueleto a seguir como base.\n",
        "\n",
        "**Dica 2**: Se tiver dificuldades em criar a função, replique os comandos descritos para o carregamento da tabela de dimensão data para todas as tabelas restantes.\n",
        "\n",
        "```python\n",
        "def processaRdd(spark, path):\n",
        "  ...\n",
        "  return header, rddCsv\n",
        "```"
      ]
    },
    {
      "cell_type": "markdown",
      "metadata": {
        "id": "VM8iMnU2AinB"
      },
      "source": [
        "# 4 Uso dos Métodos para Propósitos Específicos"
      ]
    },
    {
      "cell_type": "markdown",
      "metadata": {
        "id": "Jb07Xgblptuf"
      },
      "source": [
        "## 4.1 Método map()\n",
        "\n",
        "O método `map()` pode ser utilizado para selecionar colunas."
      ]
    },
    {
      "cell_type": "code",
      "metadata": {
        "id": "Sq268iE9450V",
        "outputId": "651361e4-fd52-468f-db2d-c54ffa7b0435",
        "colab": {
          "base_uri": "https://localhost:8080/"
        }
      },
      "source": [
        "#selecionando as seguintes colunas do RDD \"funcionario\":  segunda, terceira, décima\n",
        "funcionario_rdd \\\n",
        "  .map(lambda x: (x[1], x[2], x[9])) \\\n",
        "  .take(5)"
      ],
      "execution_count": null,
      "outputs": [
        {
          "output_type": "execute_result",
          "data": {
            "text/plain": [
              "[('M-1', 'ALINE ALMEIDA', 'SAO PAULO'),\n",
              " ('M-2', 'ARAO ALVES', 'SAO PAULO'),\n",
              " ('M-3', 'ARON ANDRADE', 'SAO PAULO'),\n",
              " ('M-4', 'ADA BARBOSA', 'SAO PAULO'),\n",
              " ('M-5', 'ABADE BATISTA', 'SAO PAULO')]"
            ]
          },
          "metadata": {
            "tags": []
          },
          "execution_count": 55
        }
      ]
    },
    {
      "cell_type": "markdown",
      "metadata": {
        "id": "Kugu7q5SY_qu"
      },
      "source": [
        "### **EXERCÍCIO 2**\n",
        "\n",
        "Selecione as seguintes colunas do RDD `cliente`: primeira, segunda, terceira e sexta. Exiba as 5 primeiras linhas resultantes. Consulte `cliente_header` caso necessário. "
      ]
    },
    {
      "cell_type": "markdown",
      "metadata": {
        "id": "5Ng3iGSNsnNH"
      },
      "source": [
        "## 4.2 Método filter()\n",
        "\n",
        "O método `filter()` pode ser utilizado para filtrar valores de acordo com  critérios de seleção."
      ]
    },
    {
      "cell_type": "markdown",
      "metadata": {
        "id": "d25JC1Jj8ML7"
      },
      "source": [
        "No exemplo a seguir, o método `filter()` é utilizado para filtrar os funcionários que **não** são do estado de `'SAO PAULO'`."
      ]
    },
    {
      "cell_type": "code",
      "metadata": {
        "id": "MbSs7Bpx8O8j"
      },
      "source": [
        "#exibindo os 5 primeiros funcionarios\n",
        "#verificando que esses funcionarios são do estado de SAO PAULO.\n",
        "funcionario_rdd.take(5)"
      ],
      "execution_count": null,
      "outputs": []
    },
    {
      "cell_type": "code",
      "metadata": {
        "id": "Lpt3tFVJtIGX",
        "outputId": "b0c1425b-057f-4288-8294-f2713c82df7d",
        "colab": {
          "base_uri": "https://localhost:8080/"
        }
      },
      "source": [
        "#aplicando o método filter() para recuperar apenas os funcionarios que não são do estado de SAO PAULO\n",
        "#mostrando os 5 primeiros funcionarios que atende ao critério de seleção\n",
        "def filterFuncionarioEstado(estado):\n",
        "  return True if estado[9] != 'SAO PAULO' else False\n",
        "\n",
        "funcionario_rdd \\\n",
        "  .filter(filterFuncionarioEstado) \\\n",
        "  .map(lambda x: (x[1], x[2], x[9])) \\\n",
        "  .take(5)"
      ],
      "execution_count": null,
      "outputs": [
        {
          "output_type": "execute_result",
          "data": {
            "text/plain": [
              "[('M-13', 'ABDIEL DIAS', 'RIO DE JANEIRO'),\n",
              " ('M-14', 'ABDALA DUARTE', 'RIO DE JANEIRO'),\n",
              " ('M-15', 'ABDALLA FREITAS', 'RIO DE JANEIRO'),\n",
              " ('M-16', 'ABDALLA FERNANDES', 'RIO DE JANEIRO'),\n",
              " ('M-17', 'ABDAO FERREIRA', 'MINAS GERAIS')]"
            ]
          },
          "metadata": {
            "tags": []
          },
          "execution_count": 27
        }
      ]
    },
    {
      "cell_type": "markdown",
      "metadata": {
        "id": "6W4su6k1aGkZ"
      },
      "source": [
        "### **EXERCÍCIO 3**\n",
        "\n",
        "Recupere os clientes que moram no estado de Minas Gerais."
      ]
    },
    {
      "cell_type": "markdown",
      "metadata": {
        "id": "e4IYWDCguVhF"
      },
      "source": [
        "## 4.3 Método join()\n",
        "\n",
        "O método `join()` pode ser utilizado para juntar duas tabelas de acordo com a integridade referencial, ou seja, de acordo com a chave primária presente em uma primeira tabela e a chave secundária presente em uma segunda tabela."
      ]
    },
    {
      "cell_type": "markdown",
      "metadata": {
        "id": "aYQkRNwHCzhh"
      },
      "source": [
        "No exemplo a seguir, o método join() é utilizado para juntar dados da tabela de dimensão funcionario com dados da tabela de dimensão pagamento, utilizando a junção estrela definida em termos de funcionario.funcPK = pagamento.funcPK."
      ]
    },
    {
      "cell_type": "code",
      "metadata": {
        "id": "q4ub2lviuHat",
        "outputId": "c3f73c0f-c6b1-435a-dfb9-f0e39ac0e13e",
        "colab": {
          "base_uri": "https://localhost:8080/",
          "height": 364
        }
      },
      "source": [
        "#listando os metadados de funcionário\n",
        "display(funcionario_header)\n",
        "\n",
        "#criando um RDD temporário para funcionário, contendo apenas algumas colunas \n",
        "funcionario_temp = funcionario_rdd \\\n",
        "  .map(lambda x: (x[0], x[2], x[9]))\n",
        "\n",
        "#listando os 5 primeiros elementos de \"funcionario_temp\"\n",
        "funcionario_temp \\\n",
        "  .take(5)"
      ],
      "execution_count": null,
      "outputs": [
        {
          "output_type": "display_data",
          "data": {
            "text/plain": [
              "['funcPK',\n",
              " 'funcMatricula',\n",
              " 'funcNome',\n",
              " 'funcSexo',\n",
              " 'funcDataNascimento',\n",
              " 'funcDiaNascimento',\n",
              " 'funcMesNascimento',\n",
              " 'funcAnoNascimento',\n",
              " 'funcCidade',\n",
              " 'funcEstadoNome',\n",
              " 'funcEstadoSigla',\n",
              " 'funcRegiaoNome',\n",
              " 'funcRegiaoSigla',\n",
              " 'funcPaisNome',\n",
              " 'funcPaisSigla']"
            ]
          },
          "metadata": {
            "tags": []
          }
        },
        {
          "output_type": "execute_result",
          "data": {
            "text/plain": [
              "[('1', 'ALINE ALMEIDA', 'SAO PAULO'),\n",
              " ('2', 'ARAO ALVES', 'SAO PAULO'),\n",
              " ('3', 'ARON ANDRADE', 'SAO PAULO'),\n",
              " ('4', 'ADA BARBOSA', 'SAO PAULO'),\n",
              " ('5', 'ABADE BATISTA', 'SAO PAULO')]"
            ]
          },
          "metadata": {
            "tags": []
          },
          "execution_count": 30
        }
      ]
    },
    {
      "cell_type": "code",
      "metadata": {
        "id": "qTdpAtxIvJnv",
        "outputId": "55f09de2-393f-41e0-8a47-7e010a5a5cd0",
        "colab": {
          "base_uri": "https://localhost:8080/",
          "height": 121
        }
      },
      "source": [
        "#listando os metadados de pagamento\n",
        "display(pagamento_header)\n",
        "\n",
        "#criando um RDD temporário para pagamento, contendo apenas as colunas referentes à funcPK e às medidas numéricas\n",
        "pagamento_temp = pagamento_rdd\\\n",
        "  .map(lambda x: (x[0], x[4], x[1]))\n",
        "\n",
        "#listando os 5 primeiros elementos de \"pagamento_temp\" para o funcionário com funcPK = 5\n",
        "def filterPagamentoFuncionario(func):\n",
        "  return True if func[0] == '4' else False\n",
        "pagamento_temp.filter(filterPagamentoFuncionario).take(5)"
      ],
      "execution_count": null,
      "outputs": [
        {
          "output_type": "display_data",
          "data": {
            "text/plain": [
              "['funcPK', 'equipePK', 'dataPK', 'cargoPK', 'salario', 'quantidadeLancamentos']"
            ]
          },
          "metadata": {
            "tags": []
          }
        },
        {
          "output_type": "execute_result",
          "data": {
            "text/plain": [
              "[('4', '10498.14', '5'),\n",
              " ('4', '10498.14', '5'),\n",
              " ('4', '10498.14', '5'),\n",
              " ('4', '10498.14', '5'),\n",
              " ('4', '10498.14', '5')]"
            ]
          },
          "metadata": {
            "tags": []
          },
          "execution_count": 31
        }
      ]
    },
    {
      "cell_type": "code",
      "metadata": {
        "id": "kwIve0rguezx",
        "outputId": "0762a846-31e4-4bfc-da72-82fcc34e809c",
        "colab": {
          "base_uri": "https://localhost:8080/"
        }
      },
      "source": [
        "#realizando a junção de funcionario_temp com pagamento_temp, para o funcionário com funcPK igual a 5\n",
        "#note que a juncao é feita considerando a igualdade na primeira coluna\n",
        "#note também que somente os valores da segunda coluna de funcionario e de pagamento são retornados \n",
        "funcionario_temp \\\n",
        "  .join(pagamento_temp) \\\n",
        "  .take(5)"
      ],
      "execution_count": null,
      "outputs": [
        {
          "output_type": "execute_result",
          "data": {
            "text/plain": [
              "[('4', ('ADA BARBOSA', '10498.14')),\n",
              " ('4', ('ADA BARBOSA', '10498.14')),\n",
              " ('4', ('ADA BARBOSA', '10498.14')),\n",
              " ('4', ('ADA BARBOSA', '10498.14')),\n",
              " ('4', ('ADA BARBOSA', '10498.14'))]"
            ]
          },
          "metadata": {
            "tags": []
          },
          "execution_count": 32
        }
      ]
    },
    {
      "cell_type": "markdown",
      "metadata": {
        "id": "2C8HjkEpPHyw"
      },
      "source": [
        "### **EXERCÍCIO 4**\n",
        "\n",
        "Realize a junção da tabela cliente com a tabela negociacao, considerando a integridade referencial definida em termos de clientePK (ou seja, cliente.clientePK = negociacao.clientePK). "
      ]
    },
    {
      "cell_type": "markdown",
      "metadata": {
        "id": "ul9bgXCoAxFH"
      },
      "source": [
        "## 4.4 Método reduceByKey()\n",
        "\n",
        "O método `reduceByKey()` pode ser utilizado para calcular valores agregados para cada valor de chave presente em uma coluna. \n",
        "\n",
        "No exemplo a seguir, é listada a quantidade de funcionários por estado."
      ]
    },
    {
      "cell_type": "markdown",
      "metadata": {
        "id": "hL7uPdbVQjNm"
      },
      "source": [
        "Para responder a essa consulta, é necessário utilizar os dados de `funcionario_rdd`, usando a coluna `funcEstadoNome` e contando quantas vezes o mesmo nome de estado aparece. São executados os seguintes passos:\n",
        "\n",
        "- Utilização do método `map()` para selecionar a coluna desejada `funcEstadoNome`, que é a décima coluna de `funcionario_rdd`, e para criar pares chave-valor da seguinte forma: a chave corresponde à coluna `funcEstadoNome` e o valor corresponde a 1.\n",
        "- Utilização do método `reduceByKey()` para calcular, para cada chave a quantidade de vezes que ela aparece.\n",
        "- Utilização do método `collect()` para exibir os pares chave-valor obtidos."
      ]
    },
    {
      "cell_type": "code",
      "metadata": {
        "id": "6QS8GB9JRDQg",
        "outputId": "a5007a78-5618-4bb7-9244-e407080622d0",
        "colab": {
          "base_uri": "https://localhost:8080/",
          "height": 277
        }
      },
      "source": [
        "#verificando o esquema de funcionario_rdd\n",
        "display(funcionario_header)"
      ],
      "execution_count": null,
      "outputs": [
        {
          "output_type": "display_data",
          "data": {
            "text/plain": [
              "['funcPK',\n",
              " 'funcMatricula',\n",
              " 'funcNome',\n",
              " 'funcSexo',\n",
              " 'funcDataNascimento',\n",
              " 'funcDiaNascimento',\n",
              " 'funcMesNascimento',\n",
              " 'funcAnoNascimento',\n",
              " 'funcCidade',\n",
              " 'funcEstadoNome',\n",
              " 'funcEstadoSigla',\n",
              " 'funcRegiaoNome',\n",
              " 'funcRegiaoSigla',\n",
              " 'funcPaisNome',\n",
              " 'funcPaisSigla']"
            ]
          },
          "metadata": {
            "tags": []
          }
        }
      ]
    },
    {
      "cell_type": "code",
      "metadata": {
        "id": "KG1XR6_O9dgS",
        "outputId": "2cda6a89-e149-407c-bf98-a1096b66c8e8",
        "colab": {
          "base_uri": "https://localhost:8080/"
        }
      },
      "source": [
        "#executando os passos definidos anteriormente\n",
        "funcionario_rdd \\\n",
        "  .map(lambda x: (x[9], 1)) \\\n",
        "  .reduceByKey(lambda x, y: x + y) \\\n",
        "  .collect()"
      ],
      "execution_count": null,
      "outputs": [
        {
          "output_type": "execute_result",
          "data": {
            "text/plain": [
              "[('MINAS GERAIS', 28),\n",
              " ('PARANA', 28),\n",
              " ('PERNAMBUCO', 21),\n",
              " ('SAO PAULO', 95),\n",
              " ('RIO DE JANEIRO', 28)]"
            ]
          },
          "metadata": {
            "tags": []
          },
          "execution_count": 35
        }
      ]
    },
    {
      "cell_type": "markdown",
      "metadata": {
        "id": "zOm-dvwzU73U"
      },
      "source": [
        "### **EXERCÍCIO 5** \n",
        "\n",
        "Liste a quantidade de clientes por região. Ordene o resultado pelo nome da região em ordem crescente."
      ]
    },
    {
      "cell_type": "markdown",
      "metadata": {
        "id": "llaOX1EUa74F"
      },
      "source": [
        "# 5 Exercícios Adicionais"
      ]
    },
    {
      "cell_type": "markdown",
      "metadata": {
        "id": "Pv4GCfPed4_1"
      },
      "source": [
        "### **EXERCÍCIO 6** \n",
        "\n",
        "Qual o menor salário pago?\n",
        "\n"
      ]
    },
    {
      "cell_type": "markdown",
      "metadata": {
        "id": "QFmWox4teixh"
      },
      "source": [
        "### **EXERCÍCIO 7** \n",
        "\n",
        "Qual foi o maior salário pago em 2019?"
      ]
    },
    {
      "cell_type": "markdown",
      "metadata": {
        "id": "Y6wTUtmqrvVg"
      },
      "source": [
        "### **EXERCÍCIO 8** \n",
        "\n",
        "Qual a idade média dos funcionários? Para fazer este exercício, não precisa considerar a idade exata, ou seja, não é necessário considerar o dia no qual o funcionário nasceu. Considere apenas o ano de nascimento do funcionário.  "
      ]
    },
    {
      "cell_type": "markdown",
      "metadata": {
        "id": "3djTT4Bqv3xZ"
      },
      "source": [
        "**EXERCÍCIO 8a** Resolva o exercício utilizando o método mean()."
      ]
    },
    {
      "cell_type": "markdown",
      "metadata": {
        "id": "loLsid3QwfeW"
      },
      "source": [
        "**EXERCÍCIO 8b** Resolva o exercício sem usar o método mean()."
      ]
    },
    {
      "cell_type": "markdown",
      "metadata": {
        "id": "ED2laZHr4oPO"
      },
      "source": [
        "### EXERCÍCIO 9\n",
        "\n",
        "Liste a quantidade de vezes que cada palavra individual aparece nos nomes de cidades que os funcionários moram. Por exemplo, na cidade de SAO JOSE DO RIO PRETO, existem 5 palavras individuais. Ordene o resultado de forma que as palavras individuais que mais se repetem sejam mostradas primeiro. \n"
      ]
    }
  ]
}