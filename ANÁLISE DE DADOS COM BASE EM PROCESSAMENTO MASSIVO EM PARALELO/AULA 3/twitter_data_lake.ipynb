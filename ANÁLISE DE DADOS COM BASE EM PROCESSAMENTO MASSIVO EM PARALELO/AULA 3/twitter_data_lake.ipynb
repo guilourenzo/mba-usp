{
  "nbformat": 4,
  "nbformat_minor": 0,
  "metadata": {
    "colab": {
      "name": "twitter-data-lake.ipynb",
      "provenance": []
    },
    "kernelspec": {
      "name": "python3",
      "display_name": "Python 3"
    }
  },
  "cells": [
    {
      "cell_type": "markdown",
      "metadata": {
        "id": "8UrCyaPKt4HQ"
      },
      "source": [
        "## **Twitter Data Lake**"
      ]
    },
    {
      "cell_type": "markdown",
      "metadata": {
        "id": "7yBYO_-ldB0j"
      },
      "source": [
        "### **1. Setup**"
      ]
    },
    {
      "cell_type": "code",
      "metadata": {
        "id": "jJ0VY7yQWB8v"
      },
      "source": [
        "!pip install pandas==1.1.3"
      ],
      "execution_count": null,
      "outputs": []
    },
    {
      "cell_type": "code",
      "metadata": {
        "id": "FA5U9lyOWOQg"
      },
      "source": [
        "import json\n",
        "import pandas as pd\n",
        "from urllib import request"
      ],
      "execution_count": null,
      "outputs": []
    },
    {
      "cell_type": "markdown",
      "metadata": {
        "id": "mhY5fW9tdwX2"
      },
      "source": [
        "### **2. Date**"
      ]
    },
    {
      "cell_type": "code",
      "metadata": {
        "id": "1pcX7RvgWu-w"
      },
      "source": [
        "date = \"2020-10-10\""
      ],
      "execution_count": null,
      "outputs": []
    },
    {
      "cell_type": "markdown",
      "metadata": {
        "id": "sB0MG_YRd6Xz"
      },
      "source": [
        "### **3. Data**"
      ]
    },
    {
      "cell_type": "markdown",
      "metadata": {
        "id": "FxrnLJX9ezu0"
      },
      "source": [
        "**3.1. Tweets dataset**"
      ]
    },
    {
      "cell_type": "code",
      "metadata": {
        "id": "PAblzNxIWXEj"
      },
      "source": [
        "url = \"https://raw.githubusercontent.com/alexlitel/congresstweets/master/data/{date}.json\".format(date=date)\n",
        "response = request.urlopen(url=url).read().decode()\n",
        "data = json.loads(response)\n",
        "tweets = pd.DataFrame(data)"
      ],
      "execution_count": null,
      "outputs": []
    },
    {
      "cell_type": "markdown",
      "metadata": {
        "id": "AEHSN-OkfjNJ"
      },
      "source": [
        "```\n",
        "{\n",
        "   \"id\":\"1315057755430977539\",\n",
        "   \"screen_name\":\"RepJacobs\",\n",
        "   \"user_id\":\"1276232539510919168\",\n",
        "   \"time\":\"2020-10-10T18:32:56-04:00\",\n",
        "   \"link\":\"https://www.twitter.com/SPECNewsBuffalo/statuses/1315057019246841857\",\n",
        "   \"text\":\"RT @SPECNewsBuffalo The Challenger Learning Center in Lockport uses space exploration as a theme to get kids interested in science, technology, engineering, and math. http://specne.ws/VY1cpH?cid=twitter_SPECNewsBuffalo\",\n",
        "   \"source\":\"Twitter for iPhone\"\n",
        "}\n",
        "```\n",
        "\n"
      ]
    },
    {
      "cell_type": "markdown",
      "metadata": {
        "id": "ze3tXnB4ePXC"
      },
      "source": [
        "**3.2. Users dataset**"
      ]
    },
    {
      "cell_type": "code",
      "metadata": {
        "id": "XjPoIWrdXHej"
      },
      "source": [
        "url = \"https://raw.githubusercontent.com/alexlitel/congresstweets-automator/master/data/users.json\"\n",
        "response = request.urlopen(url=url).read().decode()\n",
        "data = json.loads(response)\n",
        "users = pd.DataFrame(data)"
      ],
      "execution_count": null,
      "outputs": []
    },
    {
      "cell_type": "markdown",
      "metadata": {
        "id": "f_7xP_BsgdGQ"
      },
      "source": [
        "\n",
        "\n",
        "```\n",
        "{\n",
        "   \"name\":\"Paul Cook\",\n",
        "   \"chamber\":\"house\",\n",
        "   \"type\":\"member\",\n",
        "   \"party\":\"R\",\n",
        "   \"accounts\":[\n",
        "      {\n",
        "         \"account_type\":\"campaign\",\n",
        "         \"screen_name\":\"joinpaulcook\",\n",
        "         \"id\":\"57177310\"\n",
        "      },\n",
        "      {\n",
        "         \"id\":\"1074412920\",\n",
        "         \"screen_name\":\"RepPaulCook\",\n",
        "         \"account_type\":\"office\"\n",
        "      }\n",
        "   ],\n",
        "   \"id\":{\n",
        "      \"bioguide\":\"C001094\",\n",
        "      \"govtrack\":412513\n",
        "   },\n",
        "   \"state\":\"CA\"\n",
        "}\n",
        "```\n",
        "\n"
      ]
    },
    {
      "cell_type": "code",
      "metadata": {
        "id": "zmrJ3OS-bcoB"
      },
      "source": [
        "users = users.explode(column=\"accounts\").reset_index(drop=True).drop(columns=[\"id\"])\n",
        "users = pd.concat([users.drop(columns=[\"accounts\"]), users[\"accounts\"].apply(pd.Series)[\"screen_name\"]], axis=1)"
      ],
      "execution_count": null,
      "outputs": []
    },
    {
      "cell_type": "markdown",
      "metadata": {
        "id": "gbSYCFJehKav"
      },
      "source": [
        "\n",
        "\n",
        "```\n",
        "{\n",
        "   \"name\":\"Paul Cook\",\n",
        "   \"chamber\":\"house\",\n",
        "   \"type\":\"member\",\n",
        "   \"party\":\"R\",\n",
        "   \"state\":\"CA\",\n",
        "   \"screen_name\":\"joinpaulcook\"\n",
        "}\n",
        "```\n",
        "\n"
      ]
    },
    {
      "cell_type": "markdown",
      "metadata": {
        "id": "LLfTHmyNiz65"
      },
      "source": [
        "\n",
        "\n",
        "```\n",
        "{\n",
        "   \"name\":\"Paul Cook\",\n",
        "   \"chamber\":\"house\",\n",
        "   \"type\":\"member\",\n",
        "   \"party\":\"R\",\n",
        "   \"state\":\"CA\",\n",
        "   \"screen_name\":\"RepPaulCook\"\n",
        "}\n",
        "```\n",
        "\n"
      ]
    },
    {
      "cell_type": "markdown",
      "metadata": {
        "id": "aV_s-kMWeZJS"
      },
      "source": [
        "**3.3. Merged dataset**"
      ]
    },
    {
      "cell_type": "code",
      "metadata": {
        "id": "wJcSeJXDcJkc"
      },
      "source": [
        "dataset = tweets.merge(users, on=[\"screen_name\"], how=\"inner\")"
      ],
      "execution_count": null,
      "outputs": []
    },
    {
      "cell_type": "markdown",
      "metadata": {
        "id": "SiBKHSwSjY-t"
      },
      "source": [
        "\n",
        "\n",
        "```\n",
        "{\n",
        "   \"id\":\"1315057755430977539\",\n",
        "   \"screen_name\":\"RepJacobs\",\n",
        "   \"user_id\":\"1276232539510919168\",\n",
        "   \"time\":\"2020-10-10T18:32:56-04:00\",\n",
        "   \"link\":\"https://www.twitter.com/SPECNewsBuffalo/statuses/1315057019246841857\",\n",
        "   \"text\":\"RT @SPECNewsBuffalo The Challenger Learning Center in Lockport uses space exploration as a theme to get kids interested in science, technology, engineering, and math. http://specne.ws/VY1cpH?cid=twitter_SPECNewsBuffalo\",\n",
        "   \"source\":\"Twitter for iPhone\",\n",
        "   \"name\":\"Chris Jacobs\",\n",
        "   \"chamber\":\"house\",\n",
        "   \"type\":\"member\",\n",
        "   \"party\":\"R\",\n",
        "   \"state\":\"NY\"\n",
        "}\n",
        "```\n",
        "\n"
      ]
    }
  ]
}