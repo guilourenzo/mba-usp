{
  "nbformat": 4,
  "nbformat_minor": 0,
  "metadata": {
    "kernelspec": {
      "display_name": "Python 3",
      "language": "python",
      "name": "python3"
    },
    "language_info": {
      "codemirror_mode": {
        "name": "ipython",
        "version": 3
      },
      "file_extension": ".py",
      "mimetype": "text/x-python",
      "name": "python",
      "nbconvert_exporter": "python",
      "pygments_lexer": "ipython3",
      "version": "3.7.1"
    },
    "toc": {
      "base_numbering": 1,
      "nav_menu": {},
      "number_sections": true,
      "sideBar": true,
      "skip_h1_title": false,
      "title_cell": "Table of Contents",
      "title_sidebar": "Contents",
      "toc_cell": false,
      "toc_position": {},
      "toc_section_display": true,
      "toc_window_display": false
    },
    "colab": {
      "name": "MBA Aula 05 Exemplo usando Pandas.ipynb",
      "provenance": [],
      "collapsed_sections": [],
      "toc_visible": true
    }
  },
  "cells": [
    {
      "cell_type": "markdown",
      "metadata": {
        "id": "o1X5s78e7kOH"
      },
      "source": [
        "# <span style=\"color:blue\">MBA em Ciência de Dados</span>\n",
        "# <span style=\"color:blue\">Análise de Dados com Base em Processamento Massivo em Paralelo</span>\n",
        "\n",
        "## <span style=\"color:blue\">Aula 05: Consultas OLAP</span>\n",
        "## <span style=\"color:blue\">Exemplo usando Pandas</span>\n",
        "\n",
        "**Material Produzido por:**<br>\n",
        ">**Profa. Dra. Cristina Dutra de Aguiar Ciferri**<br>\n",
        ">**André Marcos Perez**<br>\n",
        ">**Guilherme Muzzi da Rocha**<br> \n",
        ">**Jadson José Monteiro Oliveira**<br> \n",
        ">**Leonardo Mauro Pereira Moraes**<br> \n",
        "\n",
        "**CEMEAI - ICMC/USP São Carlos**"
      ]
    },
    {
      "cell_type": "markdown",
      "metadata": {
        "id": "-e8DjzVIdeGx"
      },
      "source": [
        "# 1 Introdução\n",
        "\n",
        "A aplicação de *data warehousing* da BI Solutions utiliza como base uma contelação de fatos que une dois esquemas estrela, conforme descrito a seguir.\n"
      ]
    },
    {
      "cell_type": "markdown",
      "metadata": {
        "id": "YRhsPRvzLNxn"
      },
      "source": [
        "## 1.1 Esquema Estrela Pagamento\n",
        "\n",
        "O primeiro esquema estrela, chamado Pagamento, é composto pelas seguintes tabelas de dimensão e tabela de fatos:\n",
        "\n",
        "- data (dataPK, dataCompleta, dataDia, dataMes, dataBimestre, dataTrimestre, dataSemestre, dataAno)\n",
        "- funcionario (funcPK, funcMatricula, funcNome, funcSexo, funcDataNascimento, funcDiaNascimento, funcMesNascimento, funcAnoNascimento, funcCidade, funcEstadoNome, funcEstadoSigla, funcRegiaoNome, funcRegiaoSigla, funcPaisNome, funcPaisSigla)\n",
        "- equipe (equipePK, equipeNome, filialNome, filialCidade, filialEstadoNome, filialEstadoSigla, filialRegiaoNome, filialRegiaoSigla, filialPaisNome, filialPaisSigla)\n",
        "- cargo (cargoPK, cargoNome, cargoRegimeTrabalho, cargoEscolaridadeMinima, cargoNivel)\n",
        "- pagamento (dataPK, funcPK, equipePK, cargoPK, salario, quantidadeLancamento)"
      ]
    },
    {
      "cell_type": "markdown",
      "metadata": {
        "id": "QO3Av9-dLRyD"
      },
      "source": [
        "## 1.2 Esquema Estrela Negociação\n",
        "\n",
        "O segundo esquema estrela, chamado Negociacao, é composto pelas seguintes tabelas de dimensão e tabela de fatos:\n",
        "- data (dataPK, dataCompleta, dataDia, dataMes, dataBimestre, dataTrimestre, dataSemestre, dataAno)\n",
        "- equipe (equipePK, equipeNome, filialNome, filialCidade, filialEstadoNome, filialEstadoSigla, filialRegiaoNome, filialRegiaoSigla, filialPaisNome, filialPaisSigla)\n",
        "- cliente (clientePK, clienteNomeFantasia, clienteSetor, clienteCidade, clienteEstadoNome, clienteEstadoSigla, clienteRegiaoNome, clienteRegiaoSigla, clientePaisNome, clientePaisSigla)\n",
        "- negociacao (dataPK, equipePK, clientePK, receita, quantidadeNegociacao)"
      ]
    },
    {
      "cell_type": "markdown",
      "metadata": {
        "id": "1KK1h5gwvE6p"
      },
      "source": [
        "## 1.3 Constelação de Fatos\n",
        "\n",
        "Na constelação de fatos, as tabelas de dimensão data e equipe são tabelas em comum entre os dois esquemas estrela. As tabelas de dimensão e as tabelas de fatos da constelação da BI Solutions são listadas a seguir.\n",
        "\n",
        "**Tabelas de dimensão**\n",
        "\n",
        "- data (dataPK, dataCompleta, dataDia, dataMes, dataBimestre, dataTrimestre, dataSemestre, dataAno)\n",
        "- funcionario (funcPK, funcMatricula, funcNome, funcSexo, funcDataNascimento, funcDiaNascimento, funcMesNascimento, funcAnoNascimento, funcCidade, funcEstadoNome, funcEstadoSigla, funcRegiaoNome, funcRegiaoSigla, funcPaisNome, funcPaisSigla)\n",
        "- equipe (equipePK, equipeNome, filialNome, filialCidade, filialEstadoNome, filialEstadoSigla, filialRegiaoNome, filialRegiaoSigla, filialPaisNome, filialPaisSigla)\n",
        "- cargo (cargoPK, cargoNome, cargoRegimeTrabalho, cargoEscolaridadeMinima, cargoNivel)\n",
        "- cliente (clientePK, clienteNomeFantasia, clienteSetor, clienteCidade, clienteEstadoNome, clienteEstadoSigla, clienteRegiaoNome, clienteRegiaoSigla, clientePaisNome, clientePaisSigla)\n",
        "\n",
        "**Tabelas de fatos**\n",
        "- pagamento (dataPK, funcPK, equipePK, cargoPK, salario, quantidadeLancamento)\n",
        "- negociacao (dataPK, equipePK, clientePK, receita, quantidadeNegociacao)"
      ]
    },
    {
      "cell_type": "markdown",
      "metadata": {
        "id": "ufKZLEwtMXr_"
      },
      "source": [
        "## 1.4 Junção Estrela\n",
        "\n",
        "A operação de junção estrela é necessária devido à forma de organização dos dados do data warehouse segundo os tipos de esquema estrela, floco de neve e estrela-foco. \n",
        "\n",
        "No processamento de uma consulta OLAP especificada pelo usuário de sistemas de suporte à decisão, deve-se realizar as seguintes atividades:\n",
        "- Acessar a tabela de fatos e todas as tabelas de dimensão envolvidas na consulta.\n",
        "- Realizar as junções necessárias, usando como base a integridade referencial, ou seja, usando como base os pares de chave primária (PK) e chave estrangeira (FK). No caso da junção estrela, isso significa fazer a junção da chave primária de cada tabela de dimensão envolvida na consulta com a chave estrangeira daquela tabela presente na tabela de fatos.\n",
        "- Exibir os resultados obtidos.\n",
        "\n",
        "Em Pandas, a junção estrela é feita usando-se o comando `merge`. Dentro do contexto desta aula, comando `merge` realiza a junção entre dois `DataFrames`, considerando a(s) coluna(s) usada como base para a junção, chamada de coluna(s) de junção.  Maiores detalhes sobre o comando merge podem ser obtidos neste [link](https://pandas.pydata.org/pandas-docs/stable/reference/api/pandas.DataFrame.merge.html).\n"
      ]
    },
    {
      "cell_type": "markdown",
      "metadata": {
        "id": "fukYOo3vgaJB"
      },
      "source": [
        "# 2 Carregamento das Tabelas de Dimensão e das Tabelas de Fatos\n",
        "\n"
      ]
    },
    {
      "cell_type": "code",
      "metadata": {
        "id": "D_cGmYxD5B3f"
      },
      "source": [
        "import pandas as pd"
      ],
      "execution_count": 1,
      "outputs": []
    },
    {
      "cell_type": "markdown",
      "metadata": {
        "id": "_cl56DEqjCcx"
      },
      "source": [
        "Os comandos a seguir instanciam os `DataFrames` que são usados nas consultas analíticas. Para facilitar o entendimento dos conceitos, cada `DataFrame` possui o mesmo nome da tabela de dimensão ou da tabela de fatos correspondente.  "
      ]
    },
    {
      "cell_type": "markdown",
      "metadata": {
        "id": "I29Ovav3hVZM"
      },
      "source": [
        "### 2.1 Carregamento das Tabelas de Dimensão"
      ]
    },
    {
      "cell_type": "code",
      "metadata": {
        "id": "DLRmtnRihItc",
        "outputId": "7e9c1bec-aac7-44b5-d4f7-6fbb281282f6",
        "colab": {
          "base_uri": "https://localhost:8080/",
          "height": 202
        }
      },
      "source": [
        "# criando e exibindo o DataFrame para a tabela de dimensão data\n",
        "data = pd.read_csv('https://raw.githubusercontent.com/GuiMuzziUSP/Data_Mart_BI_Solutions/main/data.csv')\n",
        "data.head(5)"
      ],
      "execution_count": 2,
      "outputs": [
        {
          "output_type": "execute_result",
          "data": {
            "text/html": [
              "<div>\n",
              "<style scoped>\n",
              "    .dataframe tbody tr th:only-of-type {\n",
              "        vertical-align: middle;\n",
              "    }\n",
              "\n",
              "    .dataframe tbody tr th {\n",
              "        vertical-align: top;\n",
              "    }\n",
              "\n",
              "    .dataframe thead th {\n",
              "        text-align: right;\n",
              "    }\n",
              "</style>\n",
              "<table border=\"1\" class=\"dataframe\">\n",
              "  <thead>\n",
              "    <tr style=\"text-align: right;\">\n",
              "      <th></th>\n",
              "      <th>dataPK</th>\n",
              "      <th>dataCompleta</th>\n",
              "      <th>dataDia</th>\n",
              "      <th>dataMes</th>\n",
              "      <th>dataBimestre</th>\n",
              "      <th>dataTrimestre</th>\n",
              "      <th>dataSemestre</th>\n",
              "      <th>dataAno</th>\n",
              "    </tr>\n",
              "  </thead>\n",
              "  <tbody>\n",
              "    <tr>\n",
              "      <th>0</th>\n",
              "      <td>1</td>\n",
              "      <td>1/1/2016</td>\n",
              "      <td>1</td>\n",
              "      <td>1</td>\n",
              "      <td>1</td>\n",
              "      <td>1</td>\n",
              "      <td>1</td>\n",
              "      <td>2016</td>\n",
              "    </tr>\n",
              "    <tr>\n",
              "      <th>1</th>\n",
              "      <td>2</td>\n",
              "      <td>2/1/2016</td>\n",
              "      <td>2</td>\n",
              "      <td>1</td>\n",
              "      <td>1</td>\n",
              "      <td>1</td>\n",
              "      <td>1</td>\n",
              "      <td>2016</td>\n",
              "    </tr>\n",
              "    <tr>\n",
              "      <th>2</th>\n",
              "      <td>3</td>\n",
              "      <td>3/1/2016</td>\n",
              "      <td>3</td>\n",
              "      <td>1</td>\n",
              "      <td>1</td>\n",
              "      <td>1</td>\n",
              "      <td>1</td>\n",
              "      <td>2016</td>\n",
              "    </tr>\n",
              "    <tr>\n",
              "      <th>3</th>\n",
              "      <td>4</td>\n",
              "      <td>4/1/2016</td>\n",
              "      <td>4</td>\n",
              "      <td>1</td>\n",
              "      <td>1</td>\n",
              "      <td>1</td>\n",
              "      <td>1</td>\n",
              "      <td>2016</td>\n",
              "    </tr>\n",
              "    <tr>\n",
              "      <th>4</th>\n",
              "      <td>5</td>\n",
              "      <td>5/1/2016</td>\n",
              "      <td>5</td>\n",
              "      <td>1</td>\n",
              "      <td>1</td>\n",
              "      <td>1</td>\n",
              "      <td>1</td>\n",
              "      <td>2016</td>\n",
              "    </tr>\n",
              "  </tbody>\n",
              "</table>\n",
              "</div>"
            ],
            "text/plain": [
              "   dataPK dataCompleta  dataDia  ...  dataTrimestre  dataSemestre  dataAno\n",
              "0       1     1/1/2016        1  ...              1             1     2016\n",
              "1       2     2/1/2016        2  ...              1             1     2016\n",
              "2       3     3/1/2016        3  ...              1             1     2016\n",
              "3       4     4/1/2016        4  ...              1             1     2016\n",
              "4       5     5/1/2016        5  ...              1             1     2016\n",
              "\n",
              "[5 rows x 8 columns]"
            ]
          },
          "metadata": {
            "tags": []
          },
          "execution_count": 2
        }
      ]
    },
    {
      "cell_type": "code",
      "metadata": {
        "id": "CSyvo5le66Nw",
        "outputId": "c1dee207-cbb7-40d2-bcb8-3c2a35909c1c",
        "colab": {
          "base_uri": "https://localhost:8080/",
          "height": 355
        }
      },
      "source": [
        "# criando e exibindo o DataFrame para a tabela de dimensão funcionario\n",
        "funcionario = pd.read_csv('https://raw.githubusercontent.com/GuiMuzziUSP/Data_Mart_BI_Solutions/main/funcionario.csv')\n",
        "funcionario.head(10)[['funcPK', 'funcMatricula', 'funcCidade', 'funcEstadoNome', 'funcEstadoSigla', 'funcPaisNome', 'funcPaisSigla']]"
      ],
      "execution_count": 3,
      "outputs": [
        {
          "output_type": "execute_result",
          "data": {
            "text/html": [
              "<div>\n",
              "<style scoped>\n",
              "    .dataframe tbody tr th:only-of-type {\n",
              "        vertical-align: middle;\n",
              "    }\n",
              "\n",
              "    .dataframe tbody tr th {\n",
              "        vertical-align: top;\n",
              "    }\n",
              "\n",
              "    .dataframe thead th {\n",
              "        text-align: right;\n",
              "    }\n",
              "</style>\n",
              "<table border=\"1\" class=\"dataframe\">\n",
              "  <thead>\n",
              "    <tr style=\"text-align: right;\">\n",
              "      <th></th>\n",
              "      <th>funcPK</th>\n",
              "      <th>funcMatricula</th>\n",
              "      <th>funcCidade</th>\n",
              "      <th>funcEstadoNome</th>\n",
              "      <th>funcEstadoSigla</th>\n",
              "      <th>funcPaisNome</th>\n",
              "      <th>funcPaisSigla</th>\n",
              "    </tr>\n",
              "  </thead>\n",
              "  <tbody>\n",
              "    <tr>\n",
              "      <th>0</th>\n",
              "      <td>1</td>\n",
              "      <td>M-1</td>\n",
              "      <td>SAO PAULO</td>\n",
              "      <td>SAO PAULO</td>\n",
              "      <td>SP</td>\n",
              "      <td>BRASIL</td>\n",
              "      <td>BR</td>\n",
              "    </tr>\n",
              "    <tr>\n",
              "      <th>1</th>\n",
              "      <td>2</td>\n",
              "      <td>M-2</td>\n",
              "      <td>CAMPINAS</td>\n",
              "      <td>SAO PAULO</td>\n",
              "      <td>SP</td>\n",
              "      <td>BRASIL</td>\n",
              "      <td>BR</td>\n",
              "    </tr>\n",
              "    <tr>\n",
              "      <th>2</th>\n",
              "      <td>3</td>\n",
              "      <td>M-3</td>\n",
              "      <td>SANTOS</td>\n",
              "      <td>SAO PAULO</td>\n",
              "      <td>SP</td>\n",
              "      <td>BRASIL</td>\n",
              "      <td>BR</td>\n",
              "    </tr>\n",
              "    <tr>\n",
              "      <th>3</th>\n",
              "      <td>4</td>\n",
              "      <td>M-4</td>\n",
              "      <td>SANTO ANDRE</td>\n",
              "      <td>SAO PAULO</td>\n",
              "      <td>SP</td>\n",
              "      <td>BRASIL</td>\n",
              "      <td>BR</td>\n",
              "    </tr>\n",
              "    <tr>\n",
              "      <th>4</th>\n",
              "      <td>5</td>\n",
              "      <td>M-5</td>\n",
              "      <td>PIRACICABA</td>\n",
              "      <td>SAO PAULO</td>\n",
              "      <td>SP</td>\n",
              "      <td>BRASIL</td>\n",
              "      <td>BR</td>\n",
              "    </tr>\n",
              "    <tr>\n",
              "      <th>5</th>\n",
              "      <td>6</td>\n",
              "      <td>M-6</td>\n",
              "      <td>SAO CARLOS</td>\n",
              "      <td>SAO PAULO</td>\n",
              "      <td>SP</td>\n",
              "      <td>BRASIL</td>\n",
              "      <td>BR</td>\n",
              "    </tr>\n",
              "    <tr>\n",
              "      <th>6</th>\n",
              "      <td>7</td>\n",
              "      <td>M-7</td>\n",
              "      <td>RIBEIRAO PRETO</td>\n",
              "      <td>SAO PAULO</td>\n",
              "      <td>SP</td>\n",
              "      <td>BRASIL</td>\n",
              "      <td>BR</td>\n",
              "    </tr>\n",
              "    <tr>\n",
              "      <th>7</th>\n",
              "      <td>8</td>\n",
              "      <td>M-8</td>\n",
              "      <td>ILHA BELA</td>\n",
              "      <td>SAO PAULO</td>\n",
              "      <td>SP</td>\n",
              "      <td>BRASIL</td>\n",
              "      <td>BR</td>\n",
              "    </tr>\n",
              "    <tr>\n",
              "      <th>8</th>\n",
              "      <td>9</td>\n",
              "      <td>M-9</td>\n",
              "      <td>SAO JOSE DO RIO PRETO</td>\n",
              "      <td>SAO PAULO</td>\n",
              "      <td>SP</td>\n",
              "      <td>BRASIL</td>\n",
              "      <td>BR</td>\n",
              "    </tr>\n",
              "    <tr>\n",
              "      <th>9</th>\n",
              "      <td>10</td>\n",
              "      <td>M-10</td>\n",
              "      <td>OSASCO</td>\n",
              "      <td>SAO PAULO</td>\n",
              "      <td>SP</td>\n",
              "      <td>BRASIL</td>\n",
              "      <td>BR</td>\n",
              "    </tr>\n",
              "  </tbody>\n",
              "</table>\n",
              "</div>"
            ],
            "text/plain": [
              "   funcPK funcMatricula  ... funcPaisNome funcPaisSigla\n",
              "0       1           M-1  ...       BRASIL            BR\n",
              "1       2           M-2  ...       BRASIL            BR\n",
              "2       3           M-3  ...       BRASIL            BR\n",
              "3       4           M-4  ...       BRASIL            BR\n",
              "4       5           M-5  ...       BRASIL            BR\n",
              "5       6           M-6  ...       BRASIL            BR\n",
              "6       7           M-7  ...       BRASIL            BR\n",
              "7       8           M-8  ...       BRASIL            BR\n",
              "8       9           M-9  ...       BRASIL            BR\n",
              "9      10          M-10  ...       BRASIL            BR\n",
              "\n",
              "[10 rows x 7 columns]"
            ]
          },
          "metadata": {
            "tags": []
          },
          "execution_count": 3
        }
      ]
    },
    {
      "cell_type": "code",
      "metadata": {
        "id": "M9PaV3cjhP3b",
        "outputId": "61143763-2931-4b06-aaa2-d5fd53ab3df7",
        "colab": {
          "base_uri": "https://localhost:8080/",
          "height": 202
        }
      },
      "source": [
        "# criando e exibindo o DataFrame para a tabela de dimensão equipe\n",
        "equipe = pd.read_csv('https://raw.githubusercontent.com/GuiMuzziUSP/Data_Mart_BI_Solutions/main/equipe.csv')\n",
        "equipe.head(5)[['equipePK', 'equipeNome', 'filialNome', 'filialCidade', 'filialEstadoNome', 'filialPaisNome']]"
      ],
      "execution_count": 4,
      "outputs": [
        {
          "output_type": "execute_result",
          "data": {
            "text/html": [
              "<div>\n",
              "<style scoped>\n",
              "    .dataframe tbody tr th:only-of-type {\n",
              "        vertical-align: middle;\n",
              "    }\n",
              "\n",
              "    .dataframe tbody tr th {\n",
              "        vertical-align: top;\n",
              "    }\n",
              "\n",
              "    .dataframe thead th {\n",
              "        text-align: right;\n",
              "    }\n",
              "</style>\n",
              "<table border=\"1\" class=\"dataframe\">\n",
              "  <thead>\n",
              "    <tr style=\"text-align: right;\">\n",
              "      <th></th>\n",
              "      <th>equipePK</th>\n",
              "      <th>equipeNome</th>\n",
              "      <th>filialNome</th>\n",
              "      <th>filialCidade</th>\n",
              "      <th>filialEstadoNome</th>\n",
              "      <th>filialPaisNome</th>\n",
              "    </tr>\n",
              "  </thead>\n",
              "  <tbody>\n",
              "    <tr>\n",
              "      <th>0</th>\n",
              "      <td>1</td>\n",
              "      <td>APP - DESKTOP</td>\n",
              "      <td>SAO PAULO - AV. PAULISTA</td>\n",
              "      <td>SAO PAULO</td>\n",
              "      <td>SAO PAULO</td>\n",
              "      <td>BRASIL</td>\n",
              "    </tr>\n",
              "    <tr>\n",
              "      <th>1</th>\n",
              "      <td>2</td>\n",
              "      <td>APP - DESKTOP</td>\n",
              "      <td>RIO DE JANEIRO - BARRA DA TIJUCA</td>\n",
              "      <td>RIO DE JANEIRO</td>\n",
              "      <td>RIO DE JANEIRO</td>\n",
              "      <td>BRASIL</td>\n",
              "    </tr>\n",
              "    <tr>\n",
              "      <th>2</th>\n",
              "      <td>3</td>\n",
              "      <td>WEB</td>\n",
              "      <td>SAO PAULO - AV. PAULISTA</td>\n",
              "      <td>SAO PAULO</td>\n",
              "      <td>SAO PAULO</td>\n",
              "      <td>BRASIL</td>\n",
              "    </tr>\n",
              "    <tr>\n",
              "      <th>3</th>\n",
              "      <td>4</td>\n",
              "      <td>WEB</td>\n",
              "      <td>RIO DE JANEIRO - BARRA DA TIJUCA</td>\n",
              "      <td>RIO DE JANEIRO</td>\n",
              "      <td>RIO DE JANEIRO</td>\n",
              "      <td>BRASIL</td>\n",
              "    </tr>\n",
              "    <tr>\n",
              "      <th>4</th>\n",
              "      <td>5</td>\n",
              "      <td>WEB</td>\n",
              "      <td>CAMPO GRANDE - CENTRO</td>\n",
              "      <td>CAMPO GRANDE</td>\n",
              "      <td>MATO GROSSO DO SUL</td>\n",
              "      <td>BRASIL</td>\n",
              "    </tr>\n",
              "  </tbody>\n",
              "</table>\n",
              "</div>"
            ],
            "text/plain": [
              "   equipePK     equipeNome  ...    filialEstadoNome filialPaisNome\n",
              "0         1  APP - DESKTOP  ...           SAO PAULO         BRASIL\n",
              "1         2  APP - DESKTOP  ...      RIO DE JANEIRO         BRASIL\n",
              "2         3            WEB  ...           SAO PAULO         BRASIL\n",
              "3         4            WEB  ...      RIO DE JANEIRO         BRASIL\n",
              "4         5            WEB  ...  MATO GROSSO DO SUL         BRASIL\n",
              "\n",
              "[5 rows x 6 columns]"
            ]
          },
          "metadata": {
            "tags": []
          },
          "execution_count": 4
        }
      ]
    },
    {
      "cell_type": "code",
      "metadata": {
        "id": "3mgVoF3X69N_",
        "outputId": "94afd885-03bd-4287-ee03-d1945c7c3ce1",
        "colab": {
          "base_uri": "https://localhost:8080/",
          "height": 202
        }
      },
      "source": [
        "# criando e exibindo o DataFrame para a tabela de dimensão cargo\n",
        "cargo = pd.read_csv('https://raw.githubusercontent.com/GuiMuzziUSP/Data_Mart_BI_Solutions/main/cargo.csv')\n",
        "cargo.head(5)"
      ],
      "execution_count": 5,
      "outputs": [
        {
          "output_type": "execute_result",
          "data": {
            "text/html": [
              "<div>\n",
              "<style scoped>\n",
              "    .dataframe tbody tr th:only-of-type {\n",
              "        vertical-align: middle;\n",
              "    }\n",
              "\n",
              "    .dataframe tbody tr th {\n",
              "        vertical-align: top;\n",
              "    }\n",
              "\n",
              "    .dataframe thead th {\n",
              "        text-align: right;\n",
              "    }\n",
              "</style>\n",
              "<table border=\"1\" class=\"dataframe\">\n",
              "  <thead>\n",
              "    <tr style=\"text-align: right;\">\n",
              "      <th></th>\n",
              "      <th>cargoPK</th>\n",
              "      <th>cargoNome</th>\n",
              "      <th>cargoRegimeTrabalho</th>\n",
              "      <th>cargoJornadaTrabalho</th>\n",
              "      <th>cargoEscolaridadeMinima</th>\n",
              "      <th>cargoNivel</th>\n",
              "    </tr>\n",
              "  </thead>\n",
              "  <tbody>\n",
              "    <tr>\n",
              "      <th>0</th>\n",
              "      <td>1</td>\n",
              "      <td>PROGRAMADOR DE SISTEMAS DE INFORMACAO</td>\n",
              "      <td>TEMPORARIO</td>\n",
              "      <td>20H</td>\n",
              "      <td>MEDIO</td>\n",
              "      <td>JUNIOR</td>\n",
              "    </tr>\n",
              "    <tr>\n",
              "      <th>1</th>\n",
              "      <td>2</td>\n",
              "      <td>PROGRAMADOR DE SISTEMAS DE INFORMACAO</td>\n",
              "      <td>TEMPORARIO</td>\n",
              "      <td>20H</td>\n",
              "      <td>SUPERIOR</td>\n",
              "      <td>PLENO</td>\n",
              "    </tr>\n",
              "    <tr>\n",
              "      <th>2</th>\n",
              "      <td>3</td>\n",
              "      <td>PROGRAMADOR DE SISTEMAS DE INFORMACAO</td>\n",
              "      <td>TEMPORARIO</td>\n",
              "      <td>20H</td>\n",
              "      <td>POS</td>\n",
              "      <td>SENIOR</td>\n",
              "    </tr>\n",
              "    <tr>\n",
              "      <th>3</th>\n",
              "      <td>4</td>\n",
              "      <td>PROGRAMADOR DE SISTEMAS DE INFORMACAO</td>\n",
              "      <td>TEMPORARIO</td>\n",
              "      <td>40H</td>\n",
              "      <td>MEDIO</td>\n",
              "      <td>JUNIOR</td>\n",
              "    </tr>\n",
              "    <tr>\n",
              "      <th>4</th>\n",
              "      <td>5</td>\n",
              "      <td>PROGRAMADOR DE SISTEMAS DE INFORMACAO</td>\n",
              "      <td>TEMPORARIO</td>\n",
              "      <td>40H</td>\n",
              "      <td>SUPERIOR</td>\n",
              "      <td>PLENO</td>\n",
              "    </tr>\n",
              "  </tbody>\n",
              "</table>\n",
              "</div>"
            ],
            "text/plain": [
              "   cargoPK  ... cargoNivel\n",
              "0        1  ...     JUNIOR\n",
              "1        2  ...      PLENO\n",
              "2        3  ...     SENIOR\n",
              "3        4  ...     JUNIOR\n",
              "4        5  ...      PLENO\n",
              "\n",
              "[5 rows x 6 columns]"
            ]
          },
          "metadata": {
            "tags": []
          },
          "execution_count": 5
        }
      ]
    },
    {
      "cell_type": "code",
      "metadata": {
        "id": "HN-hxAlO7GaU",
        "outputId": "1d57fba9-db6c-49b6-8945-a92d30d0b9b3",
        "colab": {
          "base_uri": "https://localhost:8080/",
          "height": 309
        }
      },
      "source": [
        "# criando e exibindo o DataFrame para a tabela de dimensão cliente\n",
        "cliente = pd.read_csv('https://raw.githubusercontent.com/GuiMuzziUSP/Data_Mart_BI_Solutions/main/cliente.csv')\n",
        "cliente.head(5)"
      ],
      "execution_count": 6,
      "outputs": [
        {
          "output_type": "execute_result",
          "data": {
            "text/html": [
              "<div>\n",
              "<style scoped>\n",
              "    .dataframe tbody tr th:only-of-type {\n",
              "        vertical-align: middle;\n",
              "    }\n",
              "\n",
              "    .dataframe tbody tr th {\n",
              "        vertical-align: top;\n",
              "    }\n",
              "\n",
              "    .dataframe thead th {\n",
              "        text-align: right;\n",
              "    }\n",
              "</style>\n",
              "<table border=\"1\" class=\"dataframe\">\n",
              "  <thead>\n",
              "    <tr style=\"text-align: right;\">\n",
              "      <th></th>\n",
              "      <th>clientePK</th>\n",
              "      <th>clienteNomeFantasia</th>\n",
              "      <th>clienteSetor</th>\n",
              "      <th>clienteCidade</th>\n",
              "      <th>clienteEstadoNome</th>\n",
              "      <th>clienteEstadoSigla</th>\n",
              "      <th>clienteRegiaoNome</th>\n",
              "      <th>clienteRegiaoSigla</th>\n",
              "      <th>clientePaisNome</th>\n",
              "      <th>clientePaisSigla</th>\n",
              "    </tr>\n",
              "  </thead>\n",
              "  <tbody>\n",
              "    <tr>\n",
              "      <th>0</th>\n",
              "      <td>1</td>\n",
              "      <td>VIA FOOD</td>\n",
              "      <td>BEBIDAS E ALIMENTOS</td>\n",
              "      <td>SAO PAULO</td>\n",
              "      <td>SAO PAULO</td>\n",
              "      <td>SP</td>\n",
              "      <td>SUDESTE</td>\n",
              "      <td>SE</td>\n",
              "      <td>BRASIL</td>\n",
              "      <td>BR</td>\n",
              "    </tr>\n",
              "    <tr>\n",
              "      <th>1</th>\n",
              "      <td>2</td>\n",
              "      <td>VIA PIZZA</td>\n",
              "      <td>BEBIDAS E ALIMENTOS</td>\n",
              "      <td>SAO PAULO</td>\n",
              "      <td>SAO PAULO</td>\n",
              "      <td>SP</td>\n",
              "      <td>SUDESTE</td>\n",
              "      <td>SE</td>\n",
              "      <td>BRASIL</td>\n",
              "      <td>BR</td>\n",
              "    </tr>\n",
              "    <tr>\n",
              "      <th>2</th>\n",
              "      <td>3</td>\n",
              "      <td>VIA JAPA</td>\n",
              "      <td>BEBIDAS E ALIMENTOS</td>\n",
              "      <td>SAO PAULO</td>\n",
              "      <td>SAO PAULO</td>\n",
              "      <td>SP</td>\n",
              "      <td>SUDESTE</td>\n",
              "      <td>SE</td>\n",
              "      <td>BRASIL</td>\n",
              "      <td>BR</td>\n",
              "    </tr>\n",
              "    <tr>\n",
              "      <th>3</th>\n",
              "      <td>4</td>\n",
              "      <td>VIA VEG</td>\n",
              "      <td>BEBIDAS E ALIMENTOS</td>\n",
              "      <td>SAO PAULO</td>\n",
              "      <td>SAO PAULO</td>\n",
              "      <td>SP</td>\n",
              "      <td>SUDESTE</td>\n",
              "      <td>SE</td>\n",
              "      <td>BRASIL</td>\n",
              "      <td>BR</td>\n",
              "    </tr>\n",
              "    <tr>\n",
              "      <th>4</th>\n",
              "      <td>5</td>\n",
              "      <td>VIA DRINK</td>\n",
              "      <td>BEBIDAS E ALIMENTOS</td>\n",
              "      <td>SAO CARLOS</td>\n",
              "      <td>SAO PAULO</td>\n",
              "      <td>SP</td>\n",
              "      <td>SUDESTE</td>\n",
              "      <td>SE</td>\n",
              "      <td>BRASIL</td>\n",
              "      <td>BR</td>\n",
              "    </tr>\n",
              "  </tbody>\n",
              "</table>\n",
              "</div>"
            ],
            "text/plain": [
              "   clientePK clienteNomeFantasia  ... clientePaisNome clientePaisSigla\n",
              "0          1            VIA FOOD  ...          BRASIL               BR\n",
              "1          2           VIA PIZZA  ...          BRASIL               BR\n",
              "2          3            VIA JAPA  ...          BRASIL               BR\n",
              "3          4             VIA VEG  ...          BRASIL               BR\n",
              "4          5           VIA DRINK  ...          BRASIL               BR\n",
              "\n",
              "[5 rows x 10 columns]"
            ]
          },
          "metadata": {
            "tags": []
          },
          "execution_count": 6
        }
      ]
    },
    {
      "cell_type": "markdown",
      "metadata": {
        "id": "1c_-2otJhfNG"
      },
      "source": [
        "### 2.2 Carregamento das Tabelas de Fatos"
      ]
    },
    {
      "cell_type": "code",
      "metadata": {
        "id": "tcqznN_w7K2k",
        "outputId": "6072cf62-d67c-4184-f484-c573971cdfe8",
        "colab": {
          "base_uri": "https://localhost:8080/",
          "height": 202
        }
      },
      "source": [
        "#criando e exibindo o DataFrame para a tabela de fatos pagamento\n",
        "pagamento = pd.read_csv('https://raw.githubusercontent.com/GuiMuzziUSP/Data_Mart_BI_Solutions/main/pagamento.csv')\n",
        "pagamento.head(5)"
      ],
      "execution_count": 7,
      "outputs": [
        {
          "output_type": "execute_result",
          "data": {
            "text/html": [
              "<div>\n",
              "<style scoped>\n",
              "    .dataframe tbody tr th:only-of-type {\n",
              "        vertical-align: middle;\n",
              "    }\n",
              "\n",
              "    .dataframe tbody tr th {\n",
              "        vertical-align: top;\n",
              "    }\n",
              "\n",
              "    .dataframe thead th {\n",
              "        text-align: right;\n",
              "    }\n",
              "</style>\n",
              "<table border=\"1\" class=\"dataframe\">\n",
              "  <thead>\n",
              "    <tr style=\"text-align: right;\">\n",
              "      <th></th>\n",
              "      <th>funcPK</th>\n",
              "      <th>equipePK</th>\n",
              "      <th>dataPK</th>\n",
              "      <th>cargoPK</th>\n",
              "      <th>salario</th>\n",
              "      <th>quantidadeLancamentos</th>\n",
              "    </tr>\n",
              "  </thead>\n",
              "  <tbody>\n",
              "    <tr>\n",
              "      <th>0</th>\n",
              "      <td>147</td>\n",
              "      <td>2</td>\n",
              "      <td>5</td>\n",
              "      <td>64</td>\n",
              "      <td>1559.94</td>\n",
              "      <td>1</td>\n",
              "    </tr>\n",
              "    <tr>\n",
              "      <th>1</th>\n",
              "      <td>124</td>\n",
              "      <td>2</td>\n",
              "      <td>5</td>\n",
              "      <td>329</td>\n",
              "      <td>8102.77</td>\n",
              "      <td>1</td>\n",
              "    </tr>\n",
              "    <tr>\n",
              "      <th>2</th>\n",
              "      <td>175</td>\n",
              "      <td>1</td>\n",
              "      <td>5</td>\n",
              "      <td>328</td>\n",
              "      <td>2532.51</td>\n",
              "      <td>1</td>\n",
              "    </tr>\n",
              "    <tr>\n",
              "      <th>3</th>\n",
              "      <td>171</td>\n",
              "      <td>1</td>\n",
              "      <td>5</td>\n",
              "      <td>245</td>\n",
              "      <td>7882.70</td>\n",
              "      <td>1</td>\n",
              "    </tr>\n",
              "    <tr>\n",
              "      <th>4</th>\n",
              "      <td>148</td>\n",
              "      <td>2</td>\n",
              "      <td>5</td>\n",
              "      <td>65</td>\n",
              "      <td>4404.59</td>\n",
              "      <td>1</td>\n",
              "    </tr>\n",
              "  </tbody>\n",
              "</table>\n",
              "</div>"
            ],
            "text/plain": [
              "   funcPK  equipePK  dataPK  cargoPK  salario  quantidadeLancamentos\n",
              "0     147         2       5       64  1559.94                      1\n",
              "1     124         2       5      329  8102.77                      1\n",
              "2     175         1       5      328  2532.51                      1\n",
              "3     171         1       5      245  7882.70                      1\n",
              "4     148         2       5       65  4404.59                      1"
            ]
          },
          "metadata": {
            "tags": []
          },
          "execution_count": 7
        }
      ]
    },
    {
      "cell_type": "code",
      "metadata": {
        "id": "4K_F31QN7ZXg",
        "outputId": "91a1dadd-d7e9-45d7-9c3b-6e668fc779fc",
        "colab": {
          "base_uri": "https://localhost:8080/",
          "height": 202
        }
      },
      "source": [
        "#criando e exibindo o DataFrame para a tabela de fatos negociacao\n",
        "negociacao = pd.read_csv('https://raw.githubusercontent.com/GuiMuzziUSP/Data_Mart_BI_Solutions/main/negociacao.csv')\n",
        "negociacao.head(5)"
      ],
      "execution_count": 8,
      "outputs": [
        {
          "output_type": "execute_result",
          "data": {
            "text/html": [
              "<div>\n",
              "<style scoped>\n",
              "    .dataframe tbody tr th:only-of-type {\n",
              "        vertical-align: middle;\n",
              "    }\n",
              "\n",
              "    .dataframe tbody tr th {\n",
              "        vertical-align: top;\n",
              "    }\n",
              "\n",
              "    .dataframe thead th {\n",
              "        text-align: right;\n",
              "    }\n",
              "</style>\n",
              "<table border=\"1\" class=\"dataframe\">\n",
              "  <thead>\n",
              "    <tr style=\"text-align: right;\">\n",
              "      <th></th>\n",
              "      <th>equipePK</th>\n",
              "      <th>clientePK</th>\n",
              "      <th>dataPK</th>\n",
              "      <th>receita</th>\n",
              "      <th>quantidadeNegociacoes</th>\n",
              "    </tr>\n",
              "  </thead>\n",
              "  <tbody>\n",
              "    <tr>\n",
              "      <th>0</th>\n",
              "      <td>2</td>\n",
              "      <td>9</td>\n",
              "      <td>22</td>\n",
              "      <td>11564.75</td>\n",
              "      <td>1</td>\n",
              "    </tr>\n",
              "    <tr>\n",
              "      <th>1</th>\n",
              "      <td>2</td>\n",
              "      <td>24</td>\n",
              "      <td>11</td>\n",
              "      <td>17990.50</td>\n",
              "      <td>1</td>\n",
              "    </tr>\n",
              "    <tr>\n",
              "      <th>2</th>\n",
              "      <td>2</td>\n",
              "      <td>28</td>\n",
              "      <td>21</td>\n",
              "      <td>16335.90</td>\n",
              "      <td>1</td>\n",
              "    </tr>\n",
              "    <tr>\n",
              "      <th>3</th>\n",
              "      <td>1</td>\n",
              "      <td>30</td>\n",
              "      <td>23</td>\n",
              "      <td>8495.55</td>\n",
              "      <td>1</td>\n",
              "    </tr>\n",
              "    <tr>\n",
              "      <th>4</th>\n",
              "      <td>2</td>\n",
              "      <td>43</td>\n",
              "      <td>30</td>\n",
              "      <td>24748.75</td>\n",
              "      <td>1</td>\n",
              "    </tr>\n",
              "  </tbody>\n",
              "</table>\n",
              "</div>"
            ],
            "text/plain": [
              "   equipePK  clientePK  dataPK   receita  quantidadeNegociacoes\n",
              "0         2          9      22  11564.75                      1\n",
              "1         2         24      11  17990.50                      1\n",
              "2         2         28      21  16335.90                      1\n",
              "3         1         30      23   8495.55                      1\n",
              "4         2         43      30  24748.75                      1"
            ]
          },
          "metadata": {
            "tags": []
          },
          "execution_count": 8
        }
      ]
    },
    {
      "cell_type": "markdown",
      "metadata": {
        "id": "qdptiXMFje8I"
      },
      "source": [
        "# 3 Execução de Consultas com Foco nas Operações OLAP"
      ]
    },
    {
      "cell_type": "markdown",
      "metadata": {
        "id": "IRzizjJUuwXg"
      },
      "source": [
        "## 3.1 Operação Slice and Dice\n",
        "\n",
        "**Definição**: Restringe os dados sendo analisados a um subconjunto desses dados.\n",
        "\n",
        "- Slice: corte para um valor fixo, diminuindo a dimensionalidade do cubo.\n",
        "- Dice: seleção de faixas de valores.\n",
        "\n",
        "**Exemplo de consulta**: Qual a quantidade de pagamentos realizados no mês de setembro de 2020?\n"
      ]
    },
    {
      "cell_type": "code",
      "metadata": {
        "id": "JAtuxdwt92s_"
      },
      "source": [
        "dataFiltrada = data.query('dataMes == 9 and dataAno == 2020')"
      ],
      "execution_count": 9,
      "outputs": []
    },
    {
      "cell_type": "code",
      "metadata": {
        "id": "5loTlhcgDxcu"
      },
      "source": [
        "pagamentoFiltrado = pagamento.merge(dataFiltrada, on = 'dataPK')"
      ],
      "execution_count": 10,
      "outputs": []
    },
    {
      "cell_type": "code",
      "metadata": {
        "id": "9r8uEo1qDzDn",
        "outputId": "49de50ed-820b-464e-fe03-242449582b98",
        "colab": {
          "base_uri": "https://localhost:8080/",
          "height": 35
        }
      },
      "source": [
        "pagamentoFiltrado['quantidadeLancamentos'].sum()"
      ],
      "execution_count": 11,
      "outputs": [
        {
          "output_type": "execute_result",
          "data": {
            "text/plain": [
              "200"
            ]
          },
          "metadata": {
            "tags": []
          },
          "execution_count": 11
        }
      ]
    },
    {
      "cell_type": "markdown",
      "metadata": {
        "id": "4Q6lAFKogO2l"
      },
      "source": [
        "## 3.2 Operações Drill-Down e Roll-Up\n",
        "\n",
        "**Definição**: Analisam os dados considerando níveis progressivos de agregação.\n",
        "\n",
        "- Drill-down: níveis de agregação progressivamente mais detalhados, ou de menor granularidade.\n",
        "- Roll-up: níveis de agregação progressivamente menos detalhados, ou de maior granularidade.\n",
        "\n",
        "Para ilustrar as operações de drill-down e roll-up, considere a consulta base definida a seguir.\n",
        "\n",
        "**Consulta base:** Qual o valor gasto em salários por ano, considerando cada semestre?"
      ]
    },
    {
      "cell_type": "code",
      "metadata": {
        "id": "h1PKrPtmHXUg"
      },
      "source": [
        "pagamentoData = pagamento.merge(data, on = 'dataPK')"
      ],
      "execution_count": 12,
      "outputs": []
    },
    {
      "cell_type": "code",
      "metadata": {
        "id": "KzYP9GbcHqDt",
        "outputId": "d2c7baf6-4b73-41e6-9555-923baac9779c",
        "colab": {
          "base_uri": "https://localhost:8080/",
          "height": 225
        }
      },
      "source": [
        "pagamentoData.groupby(['dataAno','dataSemestre'])['salario'].sum()"
      ],
      "execution_count": 13,
      "outputs": [
        {
          "output_type": "execute_result",
          "data": {
            "text/plain": [
              "dataAno  dataSemestre\n",
              "2016     1               2221308.54\n",
              "         2               2221308.54\n",
              "2017     1               4887639.90\n",
              "         2               4887639.90\n",
              "2018     1               7467763.20\n",
              "         2               7467763.20\n",
              "2019     1               9283833.18\n",
              "         2               9283833.18\n",
              "2020     1               9283833.18\n",
              "         2               9283833.18\n",
              "Name: salario, dtype: float64"
            ]
          },
          "metadata": {
            "tags": []
          },
          "execution_count": 13
        }
      ]
    },
    {
      "cell_type": "code",
      "metadata": {
        "id": "qcz0lfTdK63v",
        "outputId": "aa753adf-d37a-4442-e111-619f0e86ab8b",
        "colab": {
          "base_uri": "https://localhost:8080/",
          "height": 343
        }
      },
      "source": [
        "pagamentoData.groupby(['dataAno','dataSemestre'])['salario'].sum().plot(kind = 'bar')"
      ],
      "execution_count": 14,
      "outputs": [
        {
          "output_type": "execute_result",
          "data": {
            "text/plain": [
              "<matplotlib.axes._subplots.AxesSubplot at 0x7fbdea3228d0>"
            ]
          },
          "metadata": {
            "tags": []
          },
          "execution_count": 14
        },
        {
          "output_type": "display_data",
          "data": {
            "image/png": "[encoded data removed]",
            "text/plain": [
              "<Figure size 432x288 with 1 Axes>"
            ]
          },
          "metadata": {
            "tags": [],
            "needs_background": "light"
          }
        }
      ]
    },
    {
      "cell_type": "markdown",
      "metadata": {
        "id": "94l1IEaohD0v"
      },
      "source": [
        "**Exemplo de consulta drill-down:** Qual o valor gasto em salários por ano, considerando cada trimestre?"
      ]
    },
    {
      "cell_type": "code",
      "metadata": {
        "id": "UUzTCWEdJxC8",
        "outputId": "5cb3527b-c93d-4a10-c977-fcb5c820a8e8",
        "colab": {
          "base_uri": "https://localhost:8080/",
          "height": 399
        }
      },
      "source": [
        "pagamentoData.groupby(['dataAno', 'dataTrimestre'])['salario'].sum()"
      ],
      "execution_count": 15,
      "outputs": [
        {
          "output_type": "execute_result",
          "data": {
            "text/plain": [
              "dataAno  dataTrimestre\n",
              "2016     1                1110654.27\n",
              "         2                1110654.27\n",
              "         3                1110654.27\n",
              "         4                1110654.27\n",
              "2017     1                2443819.95\n",
              "         2                2443819.95\n",
              "         3                2443819.95\n",
              "         4                2443819.95\n",
              "2018     1                3733881.60\n",
              "         2                3733881.60\n",
              "         3                3733881.60\n",
              "         4                3733881.60\n",
              "2019     1                4641916.59\n",
              "         2                4641916.59\n",
              "         3                4641916.59\n",
              "         4                4641916.59\n",
              "2020     1                4641916.59\n",
              "         2                4641916.59\n",
              "         3                4641916.59\n",
              "         4                4641916.59\n",
              "Name: salario, dtype: float64"
            ]
          },
          "metadata": {
            "tags": []
          },
          "execution_count": 15
        }
      ]
    },
    {
      "cell_type": "code",
      "metadata": {
        "id": "BnTSaNsaLaNA",
        "outputId": "017c6156-dce4-479a-e6eb-ddaca6345e57",
        "colab": {
          "base_uri": "https://localhost:8080/",
          "height": 343
        }
      },
      "source": [
        "pagamentoData.groupby(['dataAno', 'dataTrimestre'])['salario'].sum().plot(kind = 'bar')"
      ],
      "execution_count": 16,
      "outputs": [
        {
          "output_type": "execute_result",
          "data": {
            "text/plain": [
              "<matplotlib.axes._subplots.AxesSubplot at 0x7fbdea2c29e8>"
            ]
          },
          "metadata": {
            "tags": []
          },
          "execution_count": 16
        },
        {
          "output_type": "display_data",
          "data": {
            "image/png": "[encoded data removed]",
            "text/plain": [
              "<Figure size 432x288 with 1 Axes>"
            ]
          },
          "metadata": {
            "tags": [],
            "needs_background": "light"
          }
        }
      ]
    },
    {
      "cell_type": "markdown",
      "metadata": {
        "id": "B8b8vTWYoyUr"
      },
      "source": [
        "**Exemplo de consulta roll-up:** Qual o valor gasto em salários por ano?"
      ]
    },
    {
      "cell_type": "code",
      "metadata": {
        "id": "VUreMWiAKZuS",
        "outputId": "537621aa-e91d-4f13-b6a2-47c75b331632",
        "colab": {
          "base_uri": "https://localhost:8080/",
          "height": 139
        }
      },
      "source": [
        "pagamentoData.groupby(['dataAno'])['salario'].sum()"
      ],
      "execution_count": 17,
      "outputs": [
        {
          "output_type": "execute_result",
          "data": {
            "text/plain": [
              "dataAno\n",
              "2016     4442617.08\n",
              "2017     9775279.80\n",
              "2018    14935526.40\n",
              "2019    18567666.36\n",
              "2020    18567666.36\n",
              "Name: salario, dtype: float64"
            ]
          },
          "metadata": {
            "tags": []
          },
          "execution_count": 17
        }
      ]
    },
    {
      "cell_type": "code",
      "metadata": {
        "id": "yV2uSUsLJZAx",
        "outputId": "09485105-9c36-4760-b9c4-650611cf407b",
        "colab": {
          "base_uri": "https://localhost:8080/",
          "height": 323
        }
      },
      "source": [
        "pagamentoData.groupby(['dataAno'])['salario'].sum().plot(kind = 'bar')"
      ],
      "execution_count": 18,
      "outputs": [
        {
          "output_type": "execute_result",
          "data": {
            "text/plain": [
              "<matplotlib.axes._subplots.AxesSubplot at 0x7fbde9e09908>"
            ]
          },
          "metadata": {
            "tags": []
          },
          "execution_count": 18
        },
        {
          "output_type": "display_data",
          "data": {
            "image/png": "[encoded data removed]",
            "text/plain": [
              "<Figure size 432x288 with 1 Axes>"
            ]
          },
          "metadata": {
            "tags": [],
            "needs_background": "light"
          }
        }
      ]
    },
    {
      "cell_type": "markdown",
      "metadata": {
        "id": "m1pwyJJgKpuW"
      },
      "source": [
        "## 3.3 Operação Pivot\n",
        "\n",
        "**Definição:** Reorienta a visão multidimensional dos dados, oferecendo diferentes perspectivas dos mesmos dados.\n",
        "\n",
        "Para ilustrar a operação pivot, considere a consulta base definida a seguir. \n",
        "\n",
        "**Consulta base:**  Qual o valor gasto em salários por ano, considerando cada nível de cargo?"
      ]
    },
    {
      "cell_type": "code",
      "metadata": {
        "id": "L2yzBU3cLKEb",
        "outputId": "cc98e342-a6e8-43f1-ca64-6910db255888",
        "colab": {
          "base_uri": "https://localhost:8080/",
          "height": 312
        }
      },
      "source": [
        "pagamentoData = pagamento.merge(data, on = 'dataPK')\n",
        "pagamentoDataCargo = pagamentoData.merge(cargo, on = 'cargoPK')\n",
        "pagamentoDataCargo.groupby(['dataAno', 'cargoNivel'])['salario'].sum()\n",
        "#pagamentoDataCargo.rename(mapper={\"dataAno\": \"Ano\", \"cargoNivel\": \"Nível do Cargo\", \"salario\": \"Total de Gastos em Salários\"}, axis=1).groupby(['Ano', 'Nível do Cargo'])['Total de Gastos em Salários'].sum()"
      ],
      "execution_count": 19,
      "outputs": [
        {
          "output_type": "execute_result",
          "data": {
            "text/plain": [
              "dataAno  cargoNivel\n",
              "2016     JUNIOR          489456.84\n",
              "         PLENO          1454152.44\n",
              "         SENIOR         2499007.80\n",
              "2017     JUNIOR         1030642.80\n",
              "         PLENO          3791593.92\n",
              "         SENIOR         4953043.08\n",
              "2018     JUNIOR         1393282.20\n",
              "         PLENO          5357227.44\n",
              "         SENIOR         8185016.76\n",
              "2019     JUNIOR         1755714.36\n",
              "         PLENO          6132228.24\n",
              "         SENIOR        10679723.76\n",
              "2020     JUNIOR         1755714.36\n",
              "         PLENO          6132228.24\n",
              "         SENIOR        10679723.76\n",
              "Name: salario, dtype: float64"
            ]
          },
          "metadata": {
            "tags": []
          },
          "execution_count": 19
        }
      ]
    },
    {
      "cell_type": "code",
      "metadata": {
        "id": "VdTB0c9JMk6F",
        "outputId": "0bc1c7d5-93e3-4b8f-a01a-f60a3c57d1cb",
        "colab": {
          "base_uri": "https://localhost:8080/",
          "height": 233
        }
      },
      "source": [
        "pagamentoDataCargo.groupby(['dataAno', 'cargoNivel'])['salario'].sum().unstack(level = 1)\n",
        "#pagamentoDataCargo.rename(mapper={\"dataAno\": \"Ano\", \"cargoNivel\": \"Nível do Cargo\", \"salario\": \"Total de Gastos em Salários\"}, axis=1).groupby(['Ano', 'Nível do Cargo'])['Total de Gastos em Salários'].sum().unstack(level = 1)"
      ],
      "execution_count": 20,
      "outputs": [
        {
          "output_type": "execute_result",
          "data": {
            "text/html": [
              "<div>\n",
              "<style scoped>\n",
              "    .dataframe tbody tr th:only-of-type {\n",
              "        vertical-align: middle;\n",
              "    }\n",
              "\n",
              "    .dataframe tbody tr th {\n",
              "        vertical-align: top;\n",
              "    }\n",
              "\n",
              "    .dataframe thead th {\n",
              "        text-align: right;\n",
              "    }\n",
              "</style>\n",
              "<table border=\"1\" class=\"dataframe\">\n",
              "  <thead>\n",
              "    <tr style=\"text-align: right;\">\n",
              "      <th>cargoNivel</th>\n",
              "      <th>JUNIOR</th>\n",
              "      <th>PLENO</th>\n",
              "      <th>SENIOR</th>\n",
              "    </tr>\n",
              "    <tr>\n",
              "      <th>dataAno</th>\n",
              "      <th></th>\n",
              "      <th></th>\n",
              "      <th></th>\n",
              "    </tr>\n",
              "  </thead>\n",
              "  <tbody>\n",
              "    <tr>\n",
              "      <th>2016</th>\n",
              "      <td>489456.84</td>\n",
              "      <td>1454152.44</td>\n",
              "      <td>2499007.80</td>\n",
              "    </tr>\n",
              "    <tr>\n",
              "      <th>2017</th>\n",
              "      <td>1030642.80</td>\n",
              "      <td>3791593.92</td>\n",
              "      <td>4953043.08</td>\n",
              "    </tr>\n",
              "    <tr>\n",
              "      <th>2018</th>\n",
              "      <td>1393282.20</td>\n",
              "      <td>5357227.44</td>\n",
              "      <td>8185016.76</td>\n",
              "    </tr>\n",
              "    <tr>\n",
              "      <th>2019</th>\n",
              "      <td>1755714.36</td>\n",
              "      <td>6132228.24</td>\n",
              "      <td>10679723.76</td>\n",
              "    </tr>\n",
              "    <tr>\n",
              "      <th>2020</th>\n",
              "      <td>1755714.36</td>\n",
              "      <td>6132228.24</td>\n",
              "      <td>10679723.76</td>\n",
              "    </tr>\n",
              "  </tbody>\n",
              "</table>\n",
              "</div>"
            ],
            "text/plain": [
              "cargoNivel      JUNIOR       PLENO       SENIOR\n",
              "dataAno                                        \n",
              "2016         489456.84  1454152.44   2499007.80\n",
              "2017        1030642.80  3791593.92   4953043.08\n",
              "2018        1393282.20  5357227.44   8185016.76\n",
              "2019        1755714.36  6132228.24  10679723.76\n",
              "2020        1755714.36  6132228.24  10679723.76"
            ]
          },
          "metadata": {
            "tags": []
          },
          "execution_count": 20
        }
      ]
    },
    {
      "cell_type": "code",
      "metadata": {
        "id": "4ijA_SFvL44m",
        "outputId": "8706667c-37b4-482b-f7e9-ed0c70d38c42",
        "colab": {
          "base_uri": "https://localhost:8080/",
          "height": 323
        }
      },
      "source": [
        "pagamentoDataCargo.groupby(['dataAno', 'cargoNivel'])['salario'].sum().unstack(level = 1).plot(kind = 'bar', stacked = True)\n",
        "#pagamentoDataCargo.rename(mapper={\"dataAno\": \"Ano\", \"cargoNivel\": \"Nível do Cargo\", \"salario\": \"Total de Gastos em Salários\"}, axis=1).groupby(['Ano', 'Nível do Cargo'])['Total de Gastos em Salários'].sum().unstack(level = 1).plot(kind = 'bar', stacked = True)"
      ],
      "execution_count": 21,
      "outputs": [
        {
          "output_type": "execute_result",
          "data": {
            "text/plain": [
              "<matplotlib.axes._subplots.AxesSubplot at 0x7fbde9cfa710>"
            ]
          },
          "metadata": {
            "tags": []
          },
          "execution_count": 21
        },
        {
          "output_type": "display_data",
          "data": {
            "image/png": "[encoded data removed]",
            "text/plain": [
              "<Figure size 432x288 with 1 Axes>"
            ]
          },
          "metadata": {
            "tags": [],
            "needs_background": "light"
          }
        }
      ]
    },
    {
      "cell_type": "markdown",
      "metadata": {
        "id": "LxHcCpKwM06A"
      },
      "source": [
        "**Exemplo de consulta pivot:** Qual o valor gasto em salários por nível de cargo, considerando cada ano?"
      ]
    },
    {
      "cell_type": "code",
      "metadata": {
        "id": "mx8fwIq8M5G1",
        "outputId": "e39866af-d20b-40ae-f7c6-f30aeff05a08",
        "colab": {
          "base_uri": "https://localhost:8080/",
          "height": 312
        }
      },
      "source": [
        "pagamentoDataCargo.groupby(['cargoNivel', 'dataAno'])['salario'].sum()\n",
        "#pagamentoDataCargo.rename(mapper={\"dataAno\": \"Ano\", \"cargoNivel\": \"Nível do Cargo\", \"salario\": \"Total de Gastos em Salários\"}, axis=1).groupby(['Nível do Cargo', 'Ano'])['Total de Gastos em Salários'].sum()"
      ],
      "execution_count": 22,
      "outputs": [
        {
          "output_type": "execute_result",
          "data": {
            "text/plain": [
              "cargoNivel  dataAno\n",
              "JUNIOR      2016         489456.84\n",
              "            2017        1030642.80\n",
              "            2018        1393282.20\n",
              "            2019        1755714.36\n",
              "            2020        1755714.36\n",
              "PLENO       2016        1454152.44\n",
              "            2017        3791593.92\n",
              "            2018        5357227.44\n",
              "            2019        6132228.24\n",
              "            2020        6132228.24\n",
              "SENIOR      2016        2499007.80\n",
              "            2017        4953043.08\n",
              "            2018        8185016.76\n",
              "            2019       10679723.76\n",
              "            2020       10679723.76\n",
              "Name: salario, dtype: float64"
            ]
          },
          "metadata": {
            "tags": []
          },
          "execution_count": 22
        }
      ]
    },
    {
      "cell_type": "code",
      "metadata": {
        "id": "srRiiO4aMxfs",
        "outputId": "baf0d300-455c-466b-85b9-348f6eb1816a",
        "colab": {
          "base_uri": "https://localhost:8080/",
          "height": 171
        }
      },
      "source": [
        "pagamentoDataCargo.groupby(['cargoNivel', 'dataAno'])['salario'].sum().unstack(level = 1)\n",
        "#pagamentoDataCargo.rename(mapper={\"dataAno\": \"Ano\", \"cargoNivel\": \"Nível do Cargo\", \"salario\": \"Total de Gastos em Salários\"}, axis=1).groupby(['Nível do Cargo', 'Ano'])['Total de Gastos em Salários'].sum().unstack(level = 1)"
      ],
      "execution_count": 23,
      "outputs": [
        {
          "output_type": "execute_result",
          "data": {
            "text/html": [
              "<div>\n",
              "<style scoped>\n",
              "    .dataframe tbody tr th:only-of-type {\n",
              "        vertical-align: middle;\n",
              "    }\n",
              "\n",
              "    .dataframe tbody tr th {\n",
              "        vertical-align: top;\n",
              "    }\n",
              "\n",
              "    .dataframe thead th {\n",
              "        text-align: right;\n",
              "    }\n",
              "</style>\n",
              "<table border=\"1\" class=\"dataframe\">\n",
              "  <thead>\n",
              "    <tr style=\"text-align: right;\">\n",
              "      <th>dataAno</th>\n",
              "      <th>2016</th>\n",
              "      <th>2017</th>\n",
              "      <th>2018</th>\n",
              "      <th>2019</th>\n",
              "      <th>2020</th>\n",
              "    </tr>\n",
              "    <tr>\n",
              "      <th>cargoNivel</th>\n",
              "      <th></th>\n",
              "      <th></th>\n",
              "      <th></th>\n",
              "      <th></th>\n",
              "      <th></th>\n",
              "    </tr>\n",
              "  </thead>\n",
              "  <tbody>\n",
              "    <tr>\n",
              "      <th>JUNIOR</th>\n",
              "      <td>489456.84</td>\n",
              "      <td>1030642.80</td>\n",
              "      <td>1393282.20</td>\n",
              "      <td>1755714.36</td>\n",
              "      <td>1755714.36</td>\n",
              "    </tr>\n",
              "    <tr>\n",
              "      <th>PLENO</th>\n",
              "      <td>1454152.44</td>\n",
              "      <td>3791593.92</td>\n",
              "      <td>5357227.44</td>\n",
              "      <td>6132228.24</td>\n",
              "      <td>6132228.24</td>\n",
              "    </tr>\n",
              "    <tr>\n",
              "      <th>SENIOR</th>\n",
              "      <td>2499007.80</td>\n",
              "      <td>4953043.08</td>\n",
              "      <td>8185016.76</td>\n",
              "      <td>10679723.76</td>\n",
              "      <td>10679723.76</td>\n",
              "    </tr>\n",
              "  </tbody>\n",
              "</table>\n",
              "</div>"
            ],
            "text/plain": [
              "dataAno           2016        2017        2018         2019         2020\n",
              "cargoNivel                                                              \n",
              "JUNIOR       489456.84  1030642.80  1393282.20   1755714.36   1755714.36\n",
              "PLENO       1454152.44  3791593.92  5357227.44   6132228.24   6132228.24\n",
              "SENIOR      2499007.80  4953043.08  8185016.76  10679723.76  10679723.76"
            ]
          },
          "metadata": {
            "tags": []
          },
          "execution_count": 23
        }
      ]
    },
    {
      "cell_type": "code",
      "metadata": {
        "id": "T6KNaDl6MMUR",
        "outputId": "107d138e-57d9-44ac-9b80-6dcafc72dc96",
        "colab": {
          "base_uri": "https://localhost:8080/",
          "height": 335
        }
      },
      "source": [
        "pagamentoDataCargo.groupby(['cargoNivel', 'dataAno'])['salario'].sum().unstack(level = 1).plot(kind = 'bar', stacked = True)\n",
        "#pagamentoDataCargo.rename(mapper={\"dataAno\": \"Ano\", \"cargoNivel\": \"Nível do Cargo\", \"salario\": \"Total de Gastos em Salários\"}, axis=1).groupby(['Nível do Cargo', 'Ano'])['Total de Gastos em Salários'].sum().unstack(level = 1).plot(kind = 'bar', stacked = True)"
      ],
      "execution_count": 24,
      "outputs": [
        {
          "output_type": "execute_result",
          "data": {
            "text/plain": [
              "<matplotlib.axes._subplots.AxesSubplot at 0x7fbde9c20588>"
            ]
          },
          "metadata": {
            "tags": []
          },
          "execution_count": 24
        },
        {
          "output_type": "display_data",
          "data": {
            "image/png": "[encoded data removed]",
            "text/plain": [
              "<Figure size 432x288 with 1 Axes>"
            ]
          },
          "metadata": {
            "tags": [],
            "needs_background": "light"
          }
        }
      ]
    },
    {
      "cell_type": "markdown",
      "metadata": {
        "id": "UtJILugUN2K_"
      },
      "source": [
        "## 3.4 Operação Drill-Across\n",
        "\n",
        "**Definição:** Compara medidas numéricas de tabelas de fatos diferentes, utilizando pelo menos uma dimensão em comum. \n",
        "\n",
        "**Exemplo de consulta:** Qual o total gasto com salários e qual o total de receitas recebidas, considerando cada ano?"
      ]
    },
    {
      "cell_type": "code",
      "metadata": {
        "id": "6tk46fphJG-B"
      },
      "source": [
        "#total gasto em salários considerando cada ano\n",
        "#dados obtidos utilizando a tabela de fatos pagamento\n",
        "pagamentoData = pagamento.merge(data, on = 'dataPK') \n",
        "pagamentoAno = pagamentoData.groupby(['dataAno'])['salario'].sum().to_frame()"
      ],
      "execution_count": 25,
      "outputs": []
    },
    {
      "cell_type": "code",
      "metadata": {
        "id": "R_59AnBdKCGE"
      },
      "source": [
        "#total de receitas recebidas, considerando cada ano\n",
        "#dados obtidos utilizando a tabela de fatos negociacao\n",
        "negociacaoData = negociacao.merge(data, on = 'dataPK')\n",
        "negociacaoAno = negociacaoData.groupby(['dataAno'])['receita'].sum().to_frame()"
      ],
      "execution_count": 26,
      "outputs": []
    },
    {
      "cell_type": "code",
      "metadata": {
        "id": "BWwwf2VsKE2q",
        "outputId": "289d729c-45bb-4702-fe4f-0f7a61e3e528",
        "colab": {
          "base_uri": "https://localhost:8080/",
          "height": 233
        }
      },
      "source": [
        "#relacionado as medidas numéricas presentes nas duas tabelas de fatos\n",
        "pagamentoAno.merge(negociacaoAno, on = 'dataAno')"
      ],
      "execution_count": 27,
      "outputs": [
        {
          "output_type": "execute_result",
          "data": {
            "text/html": [
              "<div>\n",
              "<style scoped>\n",
              "    .dataframe tbody tr th:only-of-type {\n",
              "        vertical-align: middle;\n",
              "    }\n",
              "\n",
              "    .dataframe tbody tr th {\n",
              "        vertical-align: top;\n",
              "    }\n",
              "\n",
              "    .dataframe thead th {\n",
              "        text-align: right;\n",
              "    }\n",
              "</style>\n",
              "<table border=\"1\" class=\"dataframe\">\n",
              "  <thead>\n",
              "    <tr style=\"text-align: right;\">\n",
              "      <th></th>\n",
              "      <th>salario</th>\n",
              "      <th>receita</th>\n",
              "    </tr>\n",
              "    <tr>\n",
              "      <th>dataAno</th>\n",
              "      <th></th>\n",
              "      <th></th>\n",
              "    </tr>\n",
              "  </thead>\n",
              "  <tbody>\n",
              "    <tr>\n",
              "      <th>2016</th>\n",
              "      <td>4442617.08</td>\n",
              "      <td>4614246.95</td>\n",
              "    </tr>\n",
              "    <tr>\n",
              "      <th>2017</th>\n",
              "      <td>9775279.80</td>\n",
              "      <td>7200423.35</td>\n",
              "    </tr>\n",
              "    <tr>\n",
              "      <th>2018</th>\n",
              "      <td>14935526.40</td>\n",
              "      <td>11593539.65</td>\n",
              "    </tr>\n",
              "    <tr>\n",
              "      <th>2019</th>\n",
              "      <td>18567666.36</td>\n",
              "      <td>35353318.30</td>\n",
              "    </tr>\n",
              "    <tr>\n",
              "      <th>2020</th>\n",
              "      <td>18567666.36</td>\n",
              "      <td>30222175.95</td>\n",
              "    </tr>\n",
              "  </tbody>\n",
              "</table>\n",
              "</div>"
            ],
            "text/plain": [
              "             salario      receita\n",
              "dataAno                          \n",
              "2016      4442617.08   4614246.95\n",
              "2017      9775279.80   7200423.35\n",
              "2018     14935526.40  11593539.65\n",
              "2019     18567666.36  35353318.30\n",
              "2020     18567666.36  30222175.95"
            ]
          },
          "metadata": {
            "tags": []
          },
          "execution_count": 27
        }
      ]
    },
    {
      "cell_type": "code",
      "metadata": {
        "id": "09-Cjk0DOB4q",
        "outputId": "67bcbe43-01b7-4bef-be6b-ca288cf1eb68",
        "colab": {
          "base_uri": "https://localhost:8080/",
          "height": 307
        }
      },
      "source": [
        "pagamentoAno.merge(negociacaoAno, on = 'dataAno').plot()"
      ],
      "execution_count": 28,
      "outputs": [
        {
          "output_type": "execute_result",
          "data": {
            "text/plain": [
              "<matplotlib.axes._subplots.AxesSubplot at 0x7fbde9bc2be0>"
            ]
          },
          "metadata": {
            "tags": []
          },
          "execution_count": 28
        },
        {
          "output_type": "display_data",
          "data": {
            "image/png": "[encoded data removed]",
            "text/plain": [
              "<Figure size 432x288 with 1 Axes>"
            ]
          },
          "metadata": {
            "tags": [],
            "needs_background": "light"
          }
        }
      ]
    },
    {
      "cell_type": "markdown",
      "metadata": {
        "id": "CWG-aJ1rC8D8"
      },
      "source": [
        "# 3 Execução de Consultas com Foco na Tomada de Decisão\n",
        "\n",
        "As consultas OLAP requisitadas por usuários de sistemas de suporte à decisão usualmente requerem que várias operações OLAP sejam realizadas simultaneamente. A seguir são ilustrados exemplos de consultas OLAP que podem ser requisitadas para a tomada de decisão estratégica."
      ]
    },
    {
      "cell_type": "markdown",
      "metadata": {
        "id": "OcaRLxX_Jd1w"
      },
      "source": [
        "## 3.1 Consulta 1\n",
        "\n",
        "**Consulta:** Qual é a média dos salários recebidos por nível do cargo e por sexo no ano passado (ou seja, no ano de 2019)?\n",
        "\n",
        "Para se realizar esta consulta, é necessário obter dados das tabelas de dimensão `cargo`, `funcionario` e `data`, bem como da tabela de fatos `pagamento`. A junção estrela deve ocorrer considerando as seguintes integridades referenciais:\n",
        "- `pagamento.cargoPK = cargo.cargoPK`\n",
        "- `pagamento.funcPK = funcionario.funcPK`\n",
        "- `pagamento.dataPK = data.dataPK` "
      ]
    },
    {
      "cell_type": "code",
      "metadata": {
        "id": "bYNbMwYCnrFj",
        "outputId": "d99b4a66-f4e0-4dc2-efe8-56a56592e819",
        "colab": {
          "base_uri": "https://localhost:8080/",
          "height": 156
        }
      },
      "source": [
        "dataFiltrada = data.query('dataAno == 2019')\n",
        "pagamentoData = pagamento.merge(dataFiltrada, on = 'dataPK')\n",
        "pagamentoDataFunc = pagamentoData.merge(funcionario, on = 'funcPK')\n",
        "pagamentoDataFuncCargo = pagamentoDataFunc.merge(cargo, on = 'cargoPK')\n",
        "pagamentoDataFuncCargo.groupby(['cargoNivel','funcSexo'])['salario'].mean()"
      ],
      "execution_count": 29,
      "outputs": [
        {
          "output_type": "execute_result",
          "data": {
            "text/plain": [
              "cargoNivel  funcSexo\n",
              "JUNIOR      F            2440.233125\n",
              "            M            2437.859091\n",
              "PLENO       F            7641.937619\n",
              "            M            6259.613036\n",
              "SENIOR      F           12994.190000\n",
              "            M           14480.502708\n",
              "Name: salario, dtype: float64"
            ]
          },
          "metadata": {
            "tags": []
          },
          "execution_count": 29
        }
      ]
    },
    {
      "cell_type": "code",
      "metadata": {
        "id": "u5lZ7O9dPh2a",
        "outputId": "9952481c-d005-4e22-b7bf-b16afd12de51",
        "colab": {
          "base_uri": "https://localhost:8080/",
          "height": 171
        }
      },
      "source": [
        "pagamentoDataFuncCargo.groupby(['cargoNivel','funcSexo'])['salario'].mean().unstack(level = 1)"
      ],
      "execution_count": 30,
      "outputs": [
        {
          "output_type": "execute_result",
          "data": {
            "text/html": [
              "<div>\n",
              "<style scoped>\n",
              "    .dataframe tbody tr th:only-of-type {\n",
              "        vertical-align: middle;\n",
              "    }\n",
              "\n",
              "    .dataframe tbody tr th {\n",
              "        vertical-align: top;\n",
              "    }\n",
              "\n",
              "    .dataframe thead th {\n",
              "        text-align: right;\n",
              "    }\n",
              "</style>\n",
              "<table border=\"1\" class=\"dataframe\">\n",
              "  <thead>\n",
              "    <tr style=\"text-align: right;\">\n",
              "      <th>funcSexo</th>\n",
              "      <th>F</th>\n",
              "      <th>M</th>\n",
              "    </tr>\n",
              "    <tr>\n",
              "      <th>cargoNivel</th>\n",
              "      <th></th>\n",
              "      <th></th>\n",
              "    </tr>\n",
              "  </thead>\n",
              "  <tbody>\n",
              "    <tr>\n",
              "      <th>JUNIOR</th>\n",
              "      <td>2440.233125</td>\n",
              "      <td>2437.859091</td>\n",
              "    </tr>\n",
              "    <tr>\n",
              "      <th>PLENO</th>\n",
              "      <td>7641.937619</td>\n",
              "      <td>6259.613036</td>\n",
              "    </tr>\n",
              "    <tr>\n",
              "      <th>SENIOR</th>\n",
              "      <td>12994.190000</td>\n",
              "      <td>14480.502708</td>\n",
              "    </tr>\n",
              "  </tbody>\n",
              "</table>\n",
              "</div>"
            ],
            "text/plain": [
              "funcSexo               F             M\n",
              "cargoNivel                            \n",
              "JUNIOR       2440.233125   2437.859091\n",
              "PLENO        7641.937619   6259.613036\n",
              "SENIOR      12994.190000  14480.502708"
            ]
          },
          "metadata": {
            "tags": []
          },
          "execution_count": 30
        }
      ]
    },
    {
      "cell_type": "code",
      "metadata": {
        "id": "jm31TL76Pp9f",
        "outputId": "69bb95d8-41c8-4113-da50-10fa14afe6b7",
        "colab": {
          "base_uri": "https://localhost:8080/",
          "height": 325
        }
      },
      "source": [
        "pagamentoDataFuncCargo.groupby(['cargoNivel','funcSexo'])['salario'].mean().unstack(level = 1).plot(kind = 'bar')"
      ],
      "execution_count": 31,
      "outputs": [
        {
          "output_type": "execute_result",
          "data": {
            "text/plain": [
              "<matplotlib.axes._subplots.AxesSubplot at 0x7fbde9bcacc0>"
            ]
          },
          "metadata": {
            "tags": []
          },
          "execution_count": 31
        },
        {
          "output_type": "display_data",
          "data": {
            "image/png": "[encoded data removed]",
            "text/plain": [
              "<Figure size 432x288 with 1 Axes>"
            ]
          },
          "metadata": {
            "tags": [],
            "needs_background": "light"
          }
        }
      ]
    },
    {
      "cell_type": "markdown",
      "metadata": {
        "id": "varyr5djDP2s"
      },
      "source": [
        "## 3.2 Consulta 2\n",
        "\n",
        "**Consulta:** Qual o total de gastos em salários considerando os estados nos quais as equipes estão localizadas no último trimestre deste ano (ou seja, o trimestre 3 do ano de 2020)? \n",
        "\n",
        "Para se realizar esta consulta, é necessário obter dados das tabelas de dimensão `equipe` e `data`, bem como da tabela de fatos `pagamento`. A junção estrela deve ocorrer considerando as seguintes integridades referenciais:\n",
        "- `pagamento.dataPK = data.dataPK`\n",
        "- `pagamento.equipePK = equipe.equipePK`\n"
      ]
    },
    {
      "cell_type": "code",
      "metadata": {
        "id": "iQNmKiKTqNy8",
        "outputId": "badb915d-19fc-4903-ee35-64cfc2cec1a4",
        "colab": {
          "base_uri": "https://localhost:8080/",
          "height": 121
        }
      },
      "source": [
        "dataFiltrada = data.query('dataTrimestre == 3 and dataAno == 2020')\n",
        "pagamentoData = pagamento.merge(dataFiltrada, on = 'dataPK')\n",
        "pagamentoDataEquipe = pagamentoData.merge(equipe, on = 'equipePK')\n",
        "pagamentoDataEquipe.groupby(['filialEstadoNome'])['salario'].sum().sort_values()"
      ],
      "execution_count": 32,
      "outputs": [
        {
          "output_type": "execute_result",
          "data": {
            "text/plain": [
              "filialEstadoNome\n",
              "PERNAMBUCO             438121.26\n",
              "MATO GROSSO DO SUL    1013857.74\n",
              "RIO DE JANEIRO        1258479.57\n",
              "SAO PAULO             1931458.02\n",
              "Name: salario, dtype: float64"
            ]
          },
          "metadata": {
            "tags": []
          },
          "execution_count": 32
        }
      ]
    },
    {
      "cell_type": "code",
      "metadata": {
        "id": "CxoohO3KPXAj",
        "outputId": "2cc13d96-9300-40c5-8fb7-0df74b7632d6",
        "colab": {
          "base_uri": "https://localhost:8080/",
          "height": 413
        }
      },
      "source": [
        "pagamentoDataEquipe.groupby(['filialEstadoNome'])['salario'].sum().sort_values().plot(kind = 'bar')"
      ],
      "execution_count": 33,
      "outputs": [
        {
          "output_type": "execute_result",
          "data": {
            "text/plain": [
              "<matplotlib.axes._subplots.AxesSubplot at 0x7fbde9ac9908>"
            ]
          },
          "metadata": {
            "tags": []
          },
          "execution_count": 33
        },
        {
          "output_type": "display_data",
          "data": {
            "image/png": "[encoded data removed]",
            "text/plain": [
              "<Figure size 432x288 with 1 Axes>"
            ]
          },
          "metadata": {
            "tags": [],
            "needs_background": "light"
          }
        }
      ]
    },
    {
      "cell_type": "markdown",
      "metadata": {
        "id": "Pk2HFKOQIvAs"
      },
      "source": [
        "## 3.3 Consulta 3\n",
        "\n",
        "**Consulta:** Qual o custo/benefício das equipes quando analisado o último semestre deste ano (ou seja, semestre 1 do ano de 2020)?\n",
        "\n",
        "A idea da consulta é relacionar os gastos em salários e os ganhos em receitas considerando cada equipe e o período especificado. Portanto, para se realizar essa consulta, é necessário obter dados das tabelas de dimensão `equipe` e `data`, bem como das tabelas de fatos `pagamento` e `negociacao`. \n",
        "\n",
        " A junção estrela deve ocorrer considerando as seguintes integridades referenciais:\n",
        "- `pagamento.dataPK = data.dataPK`\n",
        "- `pagamento.equipePK = equipe.equipe.PK`\n",
        "- `negociacao.dataPK = data.dataPK`\n",
        "- `negociacao.equipePK = equipe.equipe.PK`\n"
      ]
    },
    {
      "cell_type": "code",
      "metadata": {
        "id": "wY3yxSpktBfc",
        "outputId": "9589dbae-f903-4642-c358-7bcd83fb88d2",
        "colab": {
          "base_uri": "https://localhost:8080/",
          "height": 386
        }
      },
      "source": [
        "#investigando os gastos em salarios de cada equipe no último semestre deste ano \n",
        "dataFiltrada = data.query('dataSemestre == 1 and dataAno == 2020')\n",
        "pagamentoData = dataFiltrada.merge(pagamento, on = 'dataPK' )\n",
        "pagamentoDataEquipe = pagamentoData.groupby(['equipePK'])['salario'].sum().to_frame() \n",
        "pagamentoDataEquipe.head(10)"
      ],
      "execution_count": 34,
      "outputs": [
        {
          "output_type": "execute_result",
          "data": {
            "text/html": [
              "<div>\n",
              "<style scoped>\n",
              "    .dataframe tbody tr th:only-of-type {\n",
              "        vertical-align: middle;\n",
              "    }\n",
              "\n",
              "    .dataframe tbody tr th {\n",
              "        vertical-align: top;\n",
              "    }\n",
              "\n",
              "    .dataframe thead th {\n",
              "        text-align: right;\n",
              "    }\n",
              "</style>\n",
              "<table border=\"1\" class=\"dataframe\">\n",
              "  <thead>\n",
              "    <tr style=\"text-align: right;\">\n",
              "      <th></th>\n",
              "      <th>salario</th>\n",
              "    </tr>\n",
              "    <tr>\n",
              "      <th>equipePK</th>\n",
              "      <th></th>\n",
              "    </tr>\n",
              "  </thead>\n",
              "  <tbody>\n",
              "    <tr>\n",
              "      <th>1</th>\n",
              "      <td>1160327.40</td>\n",
              "    </tr>\n",
              "    <tr>\n",
              "      <th>2</th>\n",
              "      <td>1060981.14</td>\n",
              "    </tr>\n",
              "    <tr>\n",
              "      <th>3</th>\n",
              "      <td>1177330.32</td>\n",
              "    </tr>\n",
              "    <tr>\n",
              "      <th>4</th>\n",
              "      <td>579893.94</td>\n",
              "    </tr>\n",
              "    <tr>\n",
              "      <th>5</th>\n",
              "      <td>909107.10</td>\n",
              "    </tr>\n",
              "    <tr>\n",
              "      <th>6</th>\n",
              "      <td>585430.86</td>\n",
              "    </tr>\n",
              "    <tr>\n",
              "      <th>7</th>\n",
              "      <td>876084.06</td>\n",
              "    </tr>\n",
              "    <tr>\n",
              "      <th>8</th>\n",
              "      <td>1118608.38</td>\n",
              "    </tr>\n",
              "    <tr>\n",
              "      <th>9</th>\n",
              "      <td>939827.46</td>\n",
              "    </tr>\n",
              "    <tr>\n",
              "      <th>10</th>\n",
              "      <td>876242.52</td>\n",
              "    </tr>\n",
              "  </tbody>\n",
              "</table>\n",
              "</div>"
            ],
            "text/plain": [
              "             salario\n",
              "equipePK            \n",
              "1         1160327.40\n",
              "2         1060981.14\n",
              "3         1177330.32\n",
              "4          579893.94\n",
              "5          909107.10\n",
              "6          585430.86\n",
              "7          876084.06\n",
              "8         1118608.38\n",
              "9          939827.46\n",
              "10         876242.52"
            ]
          },
          "metadata": {
            "tags": []
          },
          "execution_count": 34
        }
      ]
    },
    {
      "cell_type": "code",
      "metadata": {
        "id": "yWP9YbmW3E58",
        "outputId": "b381f1f6-5002-47e3-97a9-6582299154a3",
        "colab": {
          "base_uri": "https://localhost:8080/",
          "height": 386
        }
      },
      "source": [
        "#investigando os ganhos em receitas de cada equipe no último semestre deste ano\n",
        "dataFiltrada = data.query('dataSemestre == 1 and dataAno == 2020')\n",
        "negociacaoData = dataFiltrada.merge(negociacao, on = 'dataPK' )\n",
        "negociacaoDataEquipe = negociacaoData.groupby(['equipePK'])['receita'].sum().to_frame() \n",
        "negociacaoDataEquipe.head(10)"
      ],
      "execution_count": 35,
      "outputs": [
        {
          "output_type": "execute_result",
          "data": {
            "text/html": [
              "<div>\n",
              "<style scoped>\n",
              "    .dataframe tbody tr th:only-of-type {\n",
              "        vertical-align: middle;\n",
              "    }\n",
              "\n",
              "    .dataframe tbody tr th {\n",
              "        vertical-align: top;\n",
              "    }\n",
              "\n",
              "    .dataframe thead th {\n",
              "        text-align: right;\n",
              "    }\n",
              "</style>\n",
              "<table border=\"1\" class=\"dataframe\">\n",
              "  <thead>\n",
              "    <tr style=\"text-align: right;\">\n",
              "      <th></th>\n",
              "      <th>receita</th>\n",
              "    </tr>\n",
              "    <tr>\n",
              "      <th>equipePK</th>\n",
              "      <th></th>\n",
              "    </tr>\n",
              "  </thead>\n",
              "  <tbody>\n",
              "    <tr>\n",
              "      <th>1</th>\n",
              "      <td>1259907.25</td>\n",
              "    </tr>\n",
              "    <tr>\n",
              "      <th>2</th>\n",
              "      <td>1338994.40</td>\n",
              "    </tr>\n",
              "    <tr>\n",
              "      <th>3</th>\n",
              "      <td>340461.30</td>\n",
              "    </tr>\n",
              "    <tr>\n",
              "      <th>4</th>\n",
              "      <td>340130.65</td>\n",
              "    </tr>\n",
              "    <tr>\n",
              "      <th>5</th>\n",
              "      <td>614747.70</td>\n",
              "    </tr>\n",
              "    <tr>\n",
              "      <th>6</th>\n",
              "      <td>736591.35</td>\n",
              "    </tr>\n",
              "    <tr>\n",
              "      <th>7</th>\n",
              "      <td>722758.45</td>\n",
              "    </tr>\n",
              "    <tr>\n",
              "      <th>8</th>\n",
              "      <td>538659.30</td>\n",
              "    </tr>\n",
              "    <tr>\n",
              "      <th>9</th>\n",
              "      <td>4994717.70</td>\n",
              "    </tr>\n",
              "    <tr>\n",
              "      <th>10</th>\n",
              "      <td>4664745.70</td>\n",
              "    </tr>\n",
              "  </tbody>\n",
              "</table>\n",
              "</div>"
            ],
            "text/plain": [
              "             receita\n",
              "equipePK            \n",
              "1         1259907.25\n",
              "2         1338994.40\n",
              "3          340461.30\n",
              "4          340130.65\n",
              "5          614747.70\n",
              "6          736591.35\n",
              "7          722758.45\n",
              "8          538659.30\n",
              "9         4994717.70\n",
              "10        4664745.70"
            ]
          },
          "metadata": {
            "tags": []
          },
          "execution_count": 35
        }
      ]
    },
    {
      "cell_type": "code",
      "metadata": {
        "id": "d6aEOgeG4jbH",
        "outputId": "bd89e51f-1ca2-4237-fe2d-c0f6f0a9b41c",
        "colab": {
          "base_uri": "https://localhost:8080/",
          "height": 386
        }
      },
      "source": [
        "#juntando os dados obtidos\n",
        "pagamentoNegociacao = pagamentoDataEquipe.merge(negociacaoDataEquipe, on = 'equipePK' )\n",
        "#exibindo o custo/benefício para cada equipe relacionada a cada filial\n",
        "pagamentoNegociacao['lucro'] = pagamentoNegociacao['receita'] - pagamentoNegociacao['salario']\n",
        "pagamentoNegociacao.head(10)"
      ],
      "execution_count": 36,
      "outputs": [
        {
          "output_type": "execute_result",
          "data": {
            "text/html": [
              "<div>\n",
              "<style scoped>\n",
              "    .dataframe tbody tr th:only-of-type {\n",
              "        vertical-align: middle;\n",
              "    }\n",
              "\n",
              "    .dataframe tbody tr th {\n",
              "        vertical-align: top;\n",
              "    }\n",
              "\n",
              "    .dataframe thead th {\n",
              "        text-align: right;\n",
              "    }\n",
              "</style>\n",
              "<table border=\"1\" class=\"dataframe\">\n",
              "  <thead>\n",
              "    <tr style=\"text-align: right;\">\n",
              "      <th></th>\n",
              "      <th>salario</th>\n",
              "      <th>receita</th>\n",
              "      <th>lucro</th>\n",
              "    </tr>\n",
              "    <tr>\n",
              "      <th>equipePK</th>\n",
              "      <th></th>\n",
              "      <th></th>\n",
              "      <th></th>\n",
              "    </tr>\n",
              "  </thead>\n",
              "  <tbody>\n",
              "    <tr>\n",
              "      <th>1</th>\n",
              "      <td>1160327.40</td>\n",
              "      <td>1259907.25</td>\n",
              "      <td>99579.85</td>\n",
              "    </tr>\n",
              "    <tr>\n",
              "      <th>2</th>\n",
              "      <td>1060981.14</td>\n",
              "      <td>1338994.40</td>\n",
              "      <td>278013.26</td>\n",
              "    </tr>\n",
              "    <tr>\n",
              "      <th>3</th>\n",
              "      <td>1177330.32</td>\n",
              "      <td>340461.30</td>\n",
              "      <td>-836869.02</td>\n",
              "    </tr>\n",
              "    <tr>\n",
              "      <th>4</th>\n",
              "      <td>579893.94</td>\n",
              "      <td>340130.65</td>\n",
              "      <td>-239763.29</td>\n",
              "    </tr>\n",
              "    <tr>\n",
              "      <th>5</th>\n",
              "      <td>909107.10</td>\n",
              "      <td>614747.70</td>\n",
              "      <td>-294359.40</td>\n",
              "    </tr>\n",
              "    <tr>\n",
              "      <th>6</th>\n",
              "      <td>585430.86</td>\n",
              "      <td>736591.35</td>\n",
              "      <td>151160.49</td>\n",
              "    </tr>\n",
              "    <tr>\n",
              "      <th>7</th>\n",
              "      <td>876084.06</td>\n",
              "      <td>722758.45</td>\n",
              "      <td>-153325.61</td>\n",
              "    </tr>\n",
              "    <tr>\n",
              "      <th>8</th>\n",
              "      <td>1118608.38</td>\n",
              "      <td>538659.30</td>\n",
              "      <td>-579949.08</td>\n",
              "    </tr>\n",
              "    <tr>\n",
              "      <th>9</th>\n",
              "      <td>939827.46</td>\n",
              "      <td>4994717.70</td>\n",
              "      <td>4054890.24</td>\n",
              "    </tr>\n",
              "    <tr>\n",
              "      <th>10</th>\n",
              "      <td>876242.52</td>\n",
              "      <td>4664745.70</td>\n",
              "      <td>3788503.18</td>\n",
              "    </tr>\n",
              "  </tbody>\n",
              "</table>\n",
              "</div>"
            ],
            "text/plain": [
              "             salario     receita       lucro\n",
              "equipePK                                    \n",
              "1         1160327.40  1259907.25    99579.85\n",
              "2         1060981.14  1338994.40   278013.26\n",
              "3         1177330.32   340461.30  -836869.02\n",
              "4          579893.94   340130.65  -239763.29\n",
              "5          909107.10   614747.70  -294359.40\n",
              "6          585430.86   736591.35   151160.49\n",
              "7          876084.06   722758.45  -153325.61\n",
              "8         1118608.38   538659.30  -579949.08\n",
              "9          939827.46  4994717.70  4054890.24\n",
              "10         876242.52  4664745.70  3788503.18"
            ]
          },
          "metadata": {
            "tags": []
          },
          "execution_count": 36
        }
      ]
    },
    {
      "cell_type": "code",
      "metadata": {
        "id": "CIFMRUlIdYsy",
        "outputId": "4471863b-758b-4cb7-9d38-670ac1564cb0",
        "colab": {
          "base_uri": "https://localhost:8080/",
          "height": 355
        }
      },
      "source": [
        "#exibindo dados mais semânticos, relacionados às equipes\n",
        "pagamentoNegociacaoEquipeCidade = pagamentoNegociacao.merge(equipe, on = 'equipePK' )\n",
        "pagamentoNegociacaoEquipeCidade[['equipePK', 'equipeNome', 'filialNome', 'lucro']].sort_values(by='lucro', ascending=False).head(10)"
      ],
      "execution_count": 37,
      "outputs": [
        {
          "output_type": "execute_result",
          "data": {
            "text/html": [
              "<div>\n",
              "<style scoped>\n",
              "    .dataframe tbody tr th:only-of-type {\n",
              "        vertical-align: middle;\n",
              "    }\n",
              "\n",
              "    .dataframe tbody tr th {\n",
              "        vertical-align: top;\n",
              "    }\n",
              "\n",
              "    .dataframe thead th {\n",
              "        text-align: right;\n",
              "    }\n",
              "</style>\n",
              "<table border=\"1\" class=\"dataframe\">\n",
              "  <thead>\n",
              "    <tr style=\"text-align: right;\">\n",
              "      <th></th>\n",
              "      <th>equipePK</th>\n",
              "      <th>equipeNome</th>\n",
              "      <th>filialNome</th>\n",
              "      <th>lucro</th>\n",
              "    </tr>\n",
              "  </thead>\n",
              "  <tbody>\n",
              "    <tr>\n",
              "      <th>8</th>\n",
              "      <td>9</td>\n",
              "      <td>BI &amp; ANALYTICS</td>\n",
              "      <td>SAO PAULO - AV. PAULISTA</td>\n",
              "      <td>4054890.24</td>\n",
              "    </tr>\n",
              "    <tr>\n",
              "      <th>9</th>\n",
              "      <td>10</td>\n",
              "      <td>BI &amp; ANALYTICS</td>\n",
              "      <td>RECIFE - CENTRO</td>\n",
              "      <td>3788503.18</td>\n",
              "    </tr>\n",
              "    <tr>\n",
              "      <th>1</th>\n",
              "      <td>2</td>\n",
              "      <td>APP - DESKTOP</td>\n",
              "      <td>RIO DE JANEIRO - BARRA DA TIJUCA</td>\n",
              "      <td>278013.26</td>\n",
              "    </tr>\n",
              "    <tr>\n",
              "      <th>5</th>\n",
              "      <td>6</td>\n",
              "      <td>APP - MOBILE</td>\n",
              "      <td>SAO PAULO - AV. PAULISTA</td>\n",
              "      <td>151160.49</td>\n",
              "    </tr>\n",
              "    <tr>\n",
              "      <th>0</th>\n",
              "      <td>1</td>\n",
              "      <td>APP - DESKTOP</td>\n",
              "      <td>SAO PAULO - AV. PAULISTA</td>\n",
              "      <td>99579.85</td>\n",
              "    </tr>\n",
              "    <tr>\n",
              "      <th>6</th>\n",
              "      <td>7</td>\n",
              "      <td>APP - MOBILE</td>\n",
              "      <td>RIO DE JANEIRO - BARRA DA TIJUCA</td>\n",
              "      <td>-153325.61</td>\n",
              "    </tr>\n",
              "    <tr>\n",
              "      <th>3</th>\n",
              "      <td>4</td>\n",
              "      <td>WEB</td>\n",
              "      <td>RIO DE JANEIRO - BARRA DA TIJUCA</td>\n",
              "      <td>-239763.29</td>\n",
              "    </tr>\n",
              "    <tr>\n",
              "      <th>4</th>\n",
              "      <td>5</td>\n",
              "      <td>WEB</td>\n",
              "      <td>CAMPO GRANDE - CENTRO</td>\n",
              "      <td>-294359.40</td>\n",
              "    </tr>\n",
              "    <tr>\n",
              "      <th>7</th>\n",
              "      <td>8</td>\n",
              "      <td>APP - MOBILE</td>\n",
              "      <td>CAMPO GRANDE - CENTRO</td>\n",
              "      <td>-579949.08</td>\n",
              "    </tr>\n",
              "    <tr>\n",
              "      <th>2</th>\n",
              "      <td>3</td>\n",
              "      <td>WEB</td>\n",
              "      <td>SAO PAULO - AV. PAULISTA</td>\n",
              "      <td>-836869.02</td>\n",
              "    </tr>\n",
              "  </tbody>\n",
              "</table>\n",
              "</div>"
            ],
            "text/plain": [
              "   equipePK      equipeNome                        filialNome       lucro\n",
              "8         9  BI & ANALYTICS          SAO PAULO - AV. PAULISTA  4054890.24\n",
              "9        10  BI & ANALYTICS                   RECIFE - CENTRO  3788503.18\n",
              "1         2   APP - DESKTOP  RIO DE JANEIRO - BARRA DA TIJUCA   278013.26\n",
              "5         6    APP - MOBILE          SAO PAULO - AV. PAULISTA   151160.49\n",
              "0         1   APP - DESKTOP          SAO PAULO - AV. PAULISTA    99579.85\n",
              "6         7    APP - MOBILE  RIO DE JANEIRO - BARRA DA TIJUCA  -153325.61\n",
              "3         4             WEB  RIO DE JANEIRO - BARRA DA TIJUCA  -239763.29\n",
              "4         5             WEB             CAMPO GRANDE - CENTRO  -294359.40\n",
              "7         8    APP - MOBILE             CAMPO GRANDE - CENTRO  -579949.08\n",
              "2         3             WEB          SAO PAULO - AV. PAULISTA  -836869.02"
            ]
          },
          "metadata": {
            "tags": []
          },
          "execution_count": 37
        }
      ]
    },
    {
      "cell_type": "code",
      "metadata": {
        "id": "nx67CIuogT_f",
        "outputId": "e930f83a-5140-4176-e6c7-ac501853a0ae",
        "colab": {
          "base_uri": "https://localhost:8080/",
          "height": 35
        }
      },
      "source": [
        "#investigando o custo/benefício total\n",
        "pagamentoNegociacaoEquipeCidade['lucro'].sum()"
      ],
      "execution_count": 38,
      "outputs": [
        {
          "output_type": "execute_result",
          "data": {
            "text/plain": [
              "6267880.620000001"
            ]
          },
          "metadata": {
            "tags": []
          },
          "execution_count": 38
        }
      ]
    },
    {
      "cell_type": "markdown",
      "metadata": {
        "id": "imPfn7WDjTXW"
      },
      "source": [
        "Como pode ser observado, existem equipes lucrativas e equipes que estão tendo prejuízo. Usuários de sistemas de suporte a decisão devem estabelecer estratégias para definir o que será feito com as equipes que geram prejuízo. Será que elas devem ser dissolvidas? Será que podem ser criadas políticas para que essas equipes sejam mais eficientes? Observa-se que o total de lucro obtido pela BI Solutions é positivo. Portanto, existe uma margem financeira para acomodar possíveis estratégias."
      ]
    }
  ]
}