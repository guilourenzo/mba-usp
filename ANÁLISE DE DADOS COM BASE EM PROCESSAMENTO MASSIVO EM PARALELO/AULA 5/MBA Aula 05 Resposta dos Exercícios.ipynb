{
  "nbformat": 4,
  "nbformat_minor": 0,
  "metadata": {
    "kernelspec": {
      "display_name": "Python 3",
      "language": "python",
      "name": "python3"
    },
    "language_info": {
      "codemirror_mode": {
        "name": "ipython",
        "version": 3
      },
      "file_extension": ".py",
      "mimetype": "text/x-python",
      "name": "python",
      "nbconvert_exporter": "python",
      "pygments_lexer": "ipython3",
      "version": "3.7.1"
    },
    "toc": {
      "base_numbering": 1,
      "nav_menu": {},
      "number_sections": true,
      "sideBar": true,
      "skip_h1_title": false,
      "title_cell": "Table of Contents",
      "title_sidebar": "Contents",
      "toc_cell": false,
      "toc_position": {},
      "toc_section_display": true,
      "toc_window_display": false
    },
    "colab": {
      "name": "MBA Aula 05 Lista de Exercícios Resolvida.ipynb",
      "provenance": [],
      "collapsed_sections": [],
      "toc_visible": true
    }
  },
  "cells": [
    {
      "cell_type": "markdown",
      "metadata": {
        "id": "o1X5s78e7kOH"
      },
      "source": [
        "# <span style=\"color:blue\">MBA em Ciência de Dados</span>\n",
        "# <span style=\"color:blue\">Análise de Dados com Base em Processamento Massivo em Paralelo</span>\n",
        "\n",
        "## <span style=\"color:blue\">Aula 05: Consultas OLAP</span>\n",
        "## <span style=\"color:blue\">Exemplo usando Pandas</span>\n",
        "\n",
        "**Material Produzido por:**<br>\n",
        ">**Profa. Dra. Cristina Dutra de Aguiar Ciferri**<br>\n",
        ">**André Marcos Perez**<br>\n",
        ">**Guilherme Muzzi da Rocha**<br> \n",
        ">**Jadson José Monteiro Oliveira**<br> \n",
        ">**Leonardo Mauro Pereira Moraes**<br> \n",
        "\n",
        "**CEMEAI - ICMC/USP São Carlos**\n",
        "\n",
        "**Esta lista de exercícios contém 10 exercícios, os quais estão espalhados ao longo do texto. Por favor, procurem por EXERCÍCIO para encontrar a especificação dos exercícios e também o local no qual os comandos devem ser inseridos. Por completude, o notebook possui todas as descrições apresentadas na parte prática da Aula 05.**\n",
        "\n",
        "**Recomenda-se fortemente que a lista de exercícios seja respondida antes de se consultar as respostas dos exercícios.** "
      ]
    },
    {
      "cell_type": "markdown",
      "metadata": {
        "id": "-e8DjzVIdeGx"
      },
      "source": [
        "# 1 Introdução\n",
        "\n",
        "A aplicação de *data warehousing* da BI Solutions utiliza como base uma contelação de fatos que une dois esquemas estrela, conforme descrito a seguir.\n"
      ]
    },
    {
      "cell_type": "markdown",
      "metadata": {
        "id": "YRhsPRvzLNxn"
      },
      "source": [
        "## 1.1 Esquema Estrela Pagamento\n",
        "\n",
        "O primeiro esquema estrela, chamado Pagamento, é composto pelas seguintes tabelas de dimensão e tabela de fatos:\n",
        "\n",
        "- data (dataPK, dataCompleta, dataDia, dataMes, dataBimestre, dataTrimestre, dataSemestre, dataAno)\n",
        "- funcionario (funcPK, funcMatricula, funcNome, funcSexo, funcDataNascimento, funcDiaNascimento, funcMesNascimento, funcAnoNascimento, funcCidade, funcEstadoNome, funcEstadoSigla, funcRegiaoNome, funcRegiaoSigla, funcPaisNome, funcPaisSigla)\n",
        "- equipe (equipePK, equipeNome, filialNome, filialCidade, filialEstadoNome, filialEstadoSigla, filialRegiaoNome, filialRegiaoSigla, filialPaisNome, filialPaisSigla)\n",
        "- cargo (cargoPK, cargoNome, cargoRegimeTrabalho, cargoEscolaridadeMinima, cargoNivel)\n",
        "- pagamento (dataPK, funcPK, equipePK, cargoPK, salario, quantidadeLancamento)"
      ]
    },
    {
      "cell_type": "markdown",
      "metadata": {
        "id": "QO3Av9-dLRyD"
      },
      "source": [
        "## 1.2 Esquema Estrela Negociacao\n",
        "\n",
        "O segundo esquema estrela, chamado Negociacao, é composto pelas seguintes tabelas de dimensão e tabela de fatos:\n",
        "- data (dataPK, dataCompleta, dataDia, dataMes, dataBimestre, dataTrimestre, dataSemestre, dataAno)\n",
        "- equipe (equipePK, equipeNome, filialNome, filialCidade, filialEstadoNome, filialEstadoSigla, filialRegiaoNome, filialRegiaoSigla, filialPaisNome, filialPaisSigla)\n",
        "- cliente (clientePK, clienteNomeFantasia, clienteSetor, clienteCidade, clienteEstadoNome, clienteEstadoSigla, clienteRegiaoNome, clienteRegiaoSigla, clientePaisNome, clientePaisSigla)\n",
        "- negociacao (dataPK, equipePK, clientePK, receita, quantidadeNegociacao)"
      ]
    },
    {
      "cell_type": "markdown",
      "metadata": {
        "id": "1KK1h5gwvE6p"
      },
      "source": [
        "## 1.3 Constelação de Fatos\n",
        "\n",
        "Na constelação de fatos, as tabelas de dimensão data e equipe são tabelas em comum entre os dois esquemas estrela. As tabelas de dimensão e as tabelas de fatos da constelação da BI Solutions são listadas a seguir.\n",
        "\n",
        "**Tabelas de dimensão**\n",
        "\n",
        "- data (dataPK, dataCompleta, dataDia, dataMes, dataBimestre, dataTrimestre, dataSemestre, dataAno)\n",
        "- funcionario (funcPK, funcMatricula, funcNome, funcSexo, funcDataNascimento, funcDiaNascimento, funcMesNascimento, funcAnoNascimento, funcCidade, funcEstadoNome, funcEstadoSigla, funcRegiaoNome, funcRegiaoSigla, funcPaisNome, funcPaisSigla)\n",
        "- equipe (equipePK, equipeNome, filialNome, filialCidade, filialEstadoNome, filialEstadoSigla, filialRegiaoNome, filialRegiaoSigla, filialPaisNome, filialPaisSigla)\n",
        "- cargo (cargoPK, cargoNome, cargoRegimeTrabalho, cargoEscolaridadeMinima, cargoNivel)\n",
        "- cliente (clientePK, clienteNomeFantasia, clienteSetor, clienteCidade, clienteEstadoNome, clienteEstadoSigla, clienteRegiaoNome, clienteRegiaoSigla, clientePaisNome, clientePaisSigla)\n",
        "\n",
        "**Tabelas de fatos**\n",
        "- pagamento (dataPK, funcPK, equipePK, cargoPK, salario, quantidadeLancamento)\n",
        "- negociacao (dataPK, equipePK, clientePK, receita, quantidadeNegociacao)"
      ]
    },
    {
      "cell_type": "markdown",
      "metadata": {
        "id": "ufKZLEwtMXr_"
      },
      "source": [
        "## 1.4 Junção Estrela\n",
        "\n",
        "A operação de junção estrela é necessária devido à forma de organização dos dados do data warehouse segundo os tipos de esquema estrela, floco de neve e estrela-foco. \n",
        "\n",
        "No processamento de uma consulta OLAP especificada pelo usuário de sistemas de suporte à decisão, deve-se realizar as seguintes atividades:\n",
        "- Acessar a tabela de fatos e todas as tabelas de dimensão envolvidas na consulta.\n",
        "- Realizar as junções necessárias, usando como base a integridade referencial, ou seja, usando como base os pares de chave primária (PK) e chave estrangeira (FK). No caso da junção estrela, isso significa fazer a junção da chave primária de cada tabela de dimensão envolvida na consulta com a chave estrangeira daquela tabela presente na tabela de fatos.\n",
        "- Exibir os resultados obtidos.\n",
        "\n",
        "Em Pandas, a junção estrela é feita usando-se o comando `merge`. Dentro do contexto desta aula, comando `merge` realiza a junção entre dois `DataFrames`, considerando a(s) coluna(s) usada como base para a junção, chamada de coluna(s) de junção.  Maiores detalhes sobre o comando merge podem ser obtidos neste [link](https://pandas.pydata.org/pandas-docs/stable/reference/api/pandas.DataFrame.merge.html).\n"
      ]
    },
    {
      "cell_type": "markdown",
      "metadata": {
        "id": "fukYOo3vgaJB"
      },
      "source": [
        "# 2 Carregamento das Tabelas de Dimensão e das Tabelas de Fatos\n",
        "\n"
      ]
    },
    {
      "cell_type": "code",
      "metadata": {
        "id": "D_cGmYxD5B3f"
      },
      "source": [
        "import pandas as pd"
      ],
      "execution_count": null,
      "outputs": []
    },
    {
      "cell_type": "markdown",
      "metadata": {
        "id": "_cl56DEqjCcx"
      },
      "source": [
        "Os comandos a seguir instanciam os `DataFrames` que são usados nas consultas analíticas. Para facilitar o entendimento dos conceitos, cada `DataFrame` possui o mesmo nome da tabela de dimensão ou da tabela de fatos correspondente.  "
      ]
    },
    {
      "cell_type": "markdown",
      "metadata": {
        "id": "I29Ovav3hVZM"
      },
      "source": [
        "### 2.1 Carregamento das Tabelas de Dimensão"
      ]
    },
    {
      "cell_type": "code",
      "metadata": {
        "id": "DLRmtnRihItc",
        "outputId": "f9feeb9e-6dc9-4436-9684-b05d5f2dce61",
        "colab": {
          "base_uri": "https://localhost:8080/",
          "height": 141
        }
      },
      "source": [
        "# criando e exibindo o DataFrame para a tabela de dimensão data\n",
        "data = pd.read_csv('https://raw.githubusercontent.com/GuiMuzziUSP/Data_Mart_BI_Solutions/main/data.csv')\n",
        "data.head(3)"
      ],
      "execution_count": null,
      "outputs": [
        {
          "output_type": "execute_result",
          "data": {
            "text/html": [
              "<div>\n",
              "<style scoped>\n",
              "    .dataframe tbody tr th:only-of-type {\n",
              "        vertical-align: middle;\n",
              "    }\n",
              "\n",
              "    .dataframe tbody tr th {\n",
              "        vertical-align: top;\n",
              "    }\n",
              "\n",
              "    .dataframe thead th {\n",
              "        text-align: right;\n",
              "    }\n",
              "</style>\n",
              "<table border=\"1\" class=\"dataframe\">\n",
              "  <thead>\n",
              "    <tr style=\"text-align: right;\">\n",
              "      <th></th>\n",
              "      <th>dataPK</th>\n",
              "      <th>dataCompleta</th>\n",
              "      <th>dataDia</th>\n",
              "      <th>dataMes</th>\n",
              "      <th>dataBimestre</th>\n",
              "      <th>dataTrimestre</th>\n",
              "      <th>dataSemestre</th>\n",
              "      <th>dataAno</th>\n",
              "    </tr>\n",
              "  </thead>\n",
              "  <tbody>\n",
              "    <tr>\n",
              "      <th>0</th>\n",
              "      <td>1</td>\n",
              "      <td>1/1/2016</td>\n",
              "      <td>1</td>\n",
              "      <td>1</td>\n",
              "      <td>1</td>\n",
              "      <td>1</td>\n",
              "      <td>1</td>\n",
              "      <td>2016</td>\n",
              "    </tr>\n",
              "    <tr>\n",
              "      <th>1</th>\n",
              "      <td>2</td>\n",
              "      <td>2/1/2016</td>\n",
              "      <td>2</td>\n",
              "      <td>1</td>\n",
              "      <td>1</td>\n",
              "      <td>1</td>\n",
              "      <td>1</td>\n",
              "      <td>2016</td>\n",
              "    </tr>\n",
              "    <tr>\n",
              "      <th>2</th>\n",
              "      <td>3</td>\n",
              "      <td>3/1/2016</td>\n",
              "      <td>3</td>\n",
              "      <td>1</td>\n",
              "      <td>1</td>\n",
              "      <td>1</td>\n",
              "      <td>1</td>\n",
              "      <td>2016</td>\n",
              "    </tr>\n",
              "  </tbody>\n",
              "</table>\n",
              "</div>"
            ],
            "text/plain": [
              "   dataPK dataCompleta  dataDia  ...  dataTrimestre  dataSemestre  dataAno\n",
              "0       1     1/1/2016        1  ...              1             1     2016\n",
              "1       2     2/1/2016        2  ...              1             1     2016\n",
              "2       3     3/1/2016        3  ...              1             1     2016\n",
              "\n",
              "[3 rows x 8 columns]"
            ]
          },
          "metadata": {
            "tags": []
          },
          "execution_count": 2
        }
      ]
    },
    {
      "cell_type": "code",
      "metadata": {
        "id": "CSyvo5le66Nw",
        "outputId": "fde78909-7d3d-4fd3-c502-18f6919392a9",
        "colab": {
          "base_uri": "https://localhost:8080/",
          "height": 213
        }
      },
      "source": [
        "# criando e exibindo o DataFrame para a tabela de dimensão funcionario\n",
        "funcionario = pd.read_csv('https://raw.githubusercontent.com/GuiMuzziUSP/Data_Mart_BI_Solutions/main/funcionario.csv')\n",
        "funcionario.head(3)"
      ],
      "execution_count": null,
      "outputs": [
        {
          "output_type": "execute_result",
          "data": {
            "text/html": [
              "<div>\n",
              "<style scoped>\n",
              "    .dataframe tbody tr th:only-of-type {\n",
              "        vertical-align: middle;\n",
              "    }\n",
              "\n",
              "    .dataframe tbody tr th {\n",
              "        vertical-align: top;\n",
              "    }\n",
              "\n",
              "    .dataframe thead th {\n",
              "        text-align: right;\n",
              "    }\n",
              "</style>\n",
              "<table border=\"1\" class=\"dataframe\">\n",
              "  <thead>\n",
              "    <tr style=\"text-align: right;\">\n",
              "      <th></th>\n",
              "      <th>funcPK</th>\n",
              "      <th>funcMatricula</th>\n",
              "      <th>funcNome</th>\n",
              "      <th>funcSexo</th>\n",
              "      <th>funcDataNascimento</th>\n",
              "      <th>funcDiaNascimento</th>\n",
              "      <th>funcMesNascimento</th>\n",
              "      <th>funcAnoNascimento</th>\n",
              "      <th>funcCidade</th>\n",
              "      <th>funcEstadoNome</th>\n",
              "      <th>funcEstadoSigla</th>\n",
              "      <th>funcRegiaoNome</th>\n",
              "      <th>funcRegiaoSigla</th>\n",
              "      <th>funcPaisNome</th>\n",
              "      <th>funcPaisSigla</th>\n",
              "    </tr>\n",
              "  </thead>\n",
              "  <tbody>\n",
              "    <tr>\n",
              "      <th>0</th>\n",
              "      <td>1</td>\n",
              "      <td>M-1</td>\n",
              "      <td>ALINE ALMEIDA</td>\n",
              "      <td>F</td>\n",
              "      <td>1/1/1990</td>\n",
              "      <td>1</td>\n",
              "      <td>1</td>\n",
              "      <td>1990</td>\n",
              "      <td>SAO PAULO</td>\n",
              "      <td>SAO PAULO</td>\n",
              "      <td>SP</td>\n",
              "      <td>SUDESTE</td>\n",
              "      <td>SE</td>\n",
              "      <td>BRASIL</td>\n",
              "      <td>BR</td>\n",
              "    </tr>\n",
              "    <tr>\n",
              "      <th>1</th>\n",
              "      <td>2</td>\n",
              "      <td>M-2</td>\n",
              "      <td>ARAO ALVES</td>\n",
              "      <td>M</td>\n",
              "      <td>2/2/1990</td>\n",
              "      <td>2</td>\n",
              "      <td>2</td>\n",
              "      <td>1990</td>\n",
              "      <td>CAMPINAS</td>\n",
              "      <td>SAO PAULO</td>\n",
              "      <td>SP</td>\n",
              "      <td>SUDESTE</td>\n",
              "      <td>SE</td>\n",
              "      <td>BRASIL</td>\n",
              "      <td>BR</td>\n",
              "    </tr>\n",
              "    <tr>\n",
              "      <th>2</th>\n",
              "      <td>3</td>\n",
              "      <td>M-3</td>\n",
              "      <td>ARON ANDRADE</td>\n",
              "      <td>M</td>\n",
              "      <td>3/3/1990</td>\n",
              "      <td>3</td>\n",
              "      <td>3</td>\n",
              "      <td>1990</td>\n",
              "      <td>SANTOS</td>\n",
              "      <td>SAO PAULO</td>\n",
              "      <td>SP</td>\n",
              "      <td>SUDESTE</td>\n",
              "      <td>SE</td>\n",
              "      <td>BRASIL</td>\n",
              "      <td>BR</td>\n",
              "    </tr>\n",
              "  </tbody>\n",
              "</table>\n",
              "</div>"
            ],
            "text/plain": [
              "   funcPK funcMatricula  ... funcPaisNome funcPaisSigla\n",
              "0       1           M-1  ...       BRASIL            BR\n",
              "1       2           M-2  ...       BRASIL            BR\n",
              "2       3           M-3  ...       BRASIL            BR\n",
              "\n",
              "[3 rows x 15 columns]"
            ]
          },
          "metadata": {
            "tags": []
          },
          "execution_count": 3
        }
      ]
    },
    {
      "cell_type": "code",
      "metadata": {
        "id": "M9PaV3cjhP3b",
        "outputId": "e93d58eb-7c5c-421c-e26b-ac4de4337bea",
        "colab": {
          "base_uri": "https://localhost:8080/",
          "height": 282
        }
      },
      "source": [
        "# criando e exibindo o DataFrame para a tabela de dimensão equipe\n",
        "equipe = pd.read_csv('https://raw.githubusercontent.com/GuiMuzziUSP/Data_Mart_BI_Solutions/main/equipe.csv')\n",
        "equipe.head(3)"
      ],
      "execution_count": null,
      "outputs": [
        {
          "output_type": "execute_result",
          "data": {
            "text/html": [
              "<div>\n",
              "<style scoped>\n",
              "    .dataframe tbody tr th:only-of-type {\n",
              "        vertical-align: middle;\n",
              "    }\n",
              "\n",
              "    .dataframe tbody tr th {\n",
              "        vertical-align: top;\n",
              "    }\n",
              "\n",
              "    .dataframe thead th {\n",
              "        text-align: right;\n",
              "    }\n",
              "</style>\n",
              "<table border=\"1\" class=\"dataframe\">\n",
              "  <thead>\n",
              "    <tr style=\"text-align: right;\">\n",
              "      <th></th>\n",
              "      <th>equipePK</th>\n",
              "      <th>equipeNome</th>\n",
              "      <th>filialNome</th>\n",
              "      <th>filialCidade</th>\n",
              "      <th>filialEstadoNome</th>\n",
              "      <th>filialEstadoSigla</th>\n",
              "      <th>filialRegiaoNome</th>\n",
              "      <th>filialRegiaoSigla</th>\n",
              "      <th>filialPaisNome</th>\n",
              "      <th>filialPaisSigla</th>\n",
              "    </tr>\n",
              "  </thead>\n",
              "  <tbody>\n",
              "    <tr>\n",
              "      <th>0</th>\n",
              "      <td>1</td>\n",
              "      <td>APP - DESKTOP</td>\n",
              "      <td>SAO PAULO - AV. PAULISTA</td>\n",
              "      <td>SAO PAULO</td>\n",
              "      <td>SAO PAULO</td>\n",
              "      <td>SP</td>\n",
              "      <td>SUDESTE</td>\n",
              "      <td>SE</td>\n",
              "      <td>BRASIL</td>\n",
              "      <td>BR</td>\n",
              "    </tr>\n",
              "    <tr>\n",
              "      <th>1</th>\n",
              "      <td>2</td>\n",
              "      <td>APP - DESKTOP</td>\n",
              "      <td>RIO DE JANEIRO - BARRA DA TIJUCA</td>\n",
              "      <td>RIO DE JANEIRO</td>\n",
              "      <td>RIO DE JANEIRO</td>\n",
              "      <td>RJ</td>\n",
              "      <td>SUDESTE</td>\n",
              "      <td>SE</td>\n",
              "      <td>BRASIL</td>\n",
              "      <td>BR</td>\n",
              "    </tr>\n",
              "    <tr>\n",
              "      <th>2</th>\n",
              "      <td>3</td>\n",
              "      <td>WEB</td>\n",
              "      <td>SAO PAULO - AV. PAULISTA</td>\n",
              "      <td>SAO PAULO</td>\n",
              "      <td>SAO PAULO</td>\n",
              "      <td>SP</td>\n",
              "      <td>SUDESTE</td>\n",
              "      <td>SE</td>\n",
              "      <td>BRASIL</td>\n",
              "      <td>BR</td>\n",
              "    </tr>\n",
              "  </tbody>\n",
              "</table>\n",
              "</div>"
            ],
            "text/plain": [
              "   equipePK     equipeNome  ... filialPaisNome filialPaisSigla\n",
              "0         1  APP - DESKTOP  ...         BRASIL              BR\n",
              "1         2  APP - DESKTOP  ...         BRASIL              BR\n",
              "2         3            WEB  ...         BRASIL              BR\n",
              "\n",
              "[3 rows x 10 columns]"
            ]
          },
          "metadata": {
            "tags": []
          },
          "execution_count": 4
        }
      ]
    },
    {
      "cell_type": "code",
      "metadata": {
        "id": "3mgVoF3X69N_",
        "outputId": "2a36e3f5-daed-477b-8104-538ac0d10c03",
        "colab": {
          "base_uri": "https://localhost:8080/",
          "height": 245
        }
      },
      "source": [
        "# criando e exibindo o DataFrame para a tabela de dimensão cargo\n",
        "cargo = pd.read_csv('https://raw.githubusercontent.com/GuiMuzziUSP/Data_Mart_BI_Solutions/main/cargo.csv')\n",
        "cargo.head(3)"
      ],
      "execution_count": null,
      "outputs": [
        {
          "output_type": "execute_result",
          "data": {
            "text/html": [
              "<div>\n",
              "<style scoped>\n",
              "    .dataframe tbody tr th:only-of-type {\n",
              "        vertical-align: middle;\n",
              "    }\n",
              "\n",
              "    .dataframe tbody tr th {\n",
              "        vertical-align: top;\n",
              "    }\n",
              "\n",
              "    .dataframe thead th {\n",
              "        text-align: right;\n",
              "    }\n",
              "</style>\n",
              "<table border=\"1\" class=\"dataframe\">\n",
              "  <thead>\n",
              "    <tr style=\"text-align: right;\">\n",
              "      <th></th>\n",
              "      <th>cargoPK</th>\n",
              "      <th>cargoNome</th>\n",
              "      <th>cargoRegimeTrabalho</th>\n",
              "      <th>cargoJornadaTrabalho</th>\n",
              "      <th>cargoEscolaridadeMinima</th>\n",
              "      <th>cargoNivel</th>\n",
              "    </tr>\n",
              "  </thead>\n",
              "  <tbody>\n",
              "    <tr>\n",
              "      <th>0</th>\n",
              "      <td>1</td>\n",
              "      <td>PROGRAMADOR DE SISTEMAS DE INFORMACAO</td>\n",
              "      <td>TEMPORARIO</td>\n",
              "      <td>20H</td>\n",
              "      <td>MEDIO</td>\n",
              "      <td>JUNIOR</td>\n",
              "    </tr>\n",
              "    <tr>\n",
              "      <th>1</th>\n",
              "      <td>2</td>\n",
              "      <td>PROGRAMADOR DE SISTEMAS DE INFORMACAO</td>\n",
              "      <td>TEMPORARIO</td>\n",
              "      <td>20H</td>\n",
              "      <td>SUPERIOR</td>\n",
              "      <td>PLENO</td>\n",
              "    </tr>\n",
              "    <tr>\n",
              "      <th>2</th>\n",
              "      <td>3</td>\n",
              "      <td>PROGRAMADOR DE SISTEMAS DE INFORMACAO</td>\n",
              "      <td>TEMPORARIO</td>\n",
              "      <td>20H</td>\n",
              "      <td>POS</td>\n",
              "      <td>SENIOR</td>\n",
              "    </tr>\n",
              "  </tbody>\n",
              "</table>\n",
              "</div>"
            ],
            "text/plain": [
              "   cargoPK  ... cargoNivel\n",
              "0        1  ...     JUNIOR\n",
              "1        2  ...      PLENO\n",
              "2        3  ...     SENIOR\n",
              "\n",
              "[3 rows x 6 columns]"
            ]
          },
          "metadata": {
            "tags": []
          },
          "execution_count": 5
        }
      ]
    },
    {
      "cell_type": "code",
      "metadata": {
        "id": "HN-hxAlO7GaU",
        "outputId": "68bdcdc5-77f4-4ede-bfbe-70c7e4cf179b",
        "colab": {
          "base_uri": "https://localhost:8080/",
          "height": 213
        }
      },
      "source": [
        "# criando e exibindo o DataFrame para a tabela de dimensão cliente\n",
        "cliente = pd.read_csv('https://raw.githubusercontent.com/GuiMuzziUSP/Data_Mart_BI_Solutions/main/cliente.csv')\n",
        "cliente.head(3)"
      ],
      "execution_count": null,
      "outputs": [
        {
          "output_type": "execute_result",
          "data": {
            "text/html": [
              "<div>\n",
              "<style scoped>\n",
              "    .dataframe tbody tr th:only-of-type {\n",
              "        vertical-align: middle;\n",
              "    }\n",
              "\n",
              "    .dataframe tbody tr th {\n",
              "        vertical-align: top;\n",
              "    }\n",
              "\n",
              "    .dataframe thead th {\n",
              "        text-align: right;\n",
              "    }\n",
              "</style>\n",
              "<table border=\"1\" class=\"dataframe\">\n",
              "  <thead>\n",
              "    <tr style=\"text-align: right;\">\n",
              "      <th></th>\n",
              "      <th>clientePK</th>\n",
              "      <th>clienteNomeFantasia</th>\n",
              "      <th>clienteSetor</th>\n",
              "      <th>clienteCidade</th>\n",
              "      <th>clienteEstadoNome</th>\n",
              "      <th>clienteEstadoSigla</th>\n",
              "      <th>clienteRegiaoNome</th>\n",
              "      <th>clienteRegiaoSigla</th>\n",
              "      <th>clientePaisNome</th>\n",
              "      <th>clientePaisSigla</th>\n",
              "    </tr>\n",
              "  </thead>\n",
              "  <tbody>\n",
              "    <tr>\n",
              "      <th>0</th>\n",
              "      <td>1</td>\n",
              "      <td>VIA FOOD</td>\n",
              "      <td>BEBIDAS E ALIMENTOS</td>\n",
              "      <td>SAO PAULO</td>\n",
              "      <td>SAO PAULO</td>\n",
              "      <td>SP</td>\n",
              "      <td>SUDESTE</td>\n",
              "      <td>SE</td>\n",
              "      <td>BRASIL</td>\n",
              "      <td>BR</td>\n",
              "    </tr>\n",
              "    <tr>\n",
              "      <th>1</th>\n",
              "      <td>2</td>\n",
              "      <td>VIA PIZZA</td>\n",
              "      <td>BEBIDAS E ALIMENTOS</td>\n",
              "      <td>SAO PAULO</td>\n",
              "      <td>SAO PAULO</td>\n",
              "      <td>SP</td>\n",
              "      <td>SUDESTE</td>\n",
              "      <td>SE</td>\n",
              "      <td>BRASIL</td>\n",
              "      <td>BR</td>\n",
              "    </tr>\n",
              "    <tr>\n",
              "      <th>2</th>\n",
              "      <td>3</td>\n",
              "      <td>VIA JAPA</td>\n",
              "      <td>BEBIDAS E ALIMENTOS</td>\n",
              "      <td>SAO PAULO</td>\n",
              "      <td>SAO PAULO</td>\n",
              "      <td>SP</td>\n",
              "      <td>SUDESTE</td>\n",
              "      <td>SE</td>\n",
              "      <td>BRASIL</td>\n",
              "      <td>BR</td>\n",
              "    </tr>\n",
              "  </tbody>\n",
              "</table>\n",
              "</div>"
            ],
            "text/plain": [
              "   clientePK clienteNomeFantasia  ... clientePaisNome clientePaisSigla\n",
              "0          1            VIA FOOD  ...          BRASIL               BR\n",
              "1          2           VIA PIZZA  ...          BRASIL               BR\n",
              "2          3            VIA JAPA  ...          BRASIL               BR\n",
              "\n",
              "[3 rows x 10 columns]"
            ]
          },
          "metadata": {
            "tags": []
          },
          "execution_count": 6
        }
      ]
    },
    {
      "cell_type": "markdown",
      "metadata": {
        "id": "1c_-2otJhfNG"
      },
      "source": [
        "### 2.2 Carregamento das Tabelas de Fatos"
      ]
    },
    {
      "cell_type": "code",
      "metadata": {
        "id": "tcqznN_w7K2k",
        "outputId": "690db5f6-e4a7-45a9-81be-9220e3aa9404",
        "colab": {
          "base_uri": "https://localhost:8080/",
          "height": 141
        }
      },
      "source": [
        "#criando e exibindo o DataFrame para a tabela de fatos pagamento\n",
        "pagamento = pd.read_csv('https://raw.githubusercontent.com/GuiMuzziUSP/Data_Mart_BI_Solutions/main/pagamento.csv')\n",
        "pagamento.head(3)"
      ],
      "execution_count": null,
      "outputs": [
        {
          "output_type": "execute_result",
          "data": {
            "text/html": [
              "<div>\n",
              "<style scoped>\n",
              "    .dataframe tbody tr th:only-of-type {\n",
              "        vertical-align: middle;\n",
              "    }\n",
              "\n",
              "    .dataframe tbody tr th {\n",
              "        vertical-align: top;\n",
              "    }\n",
              "\n",
              "    .dataframe thead th {\n",
              "        text-align: right;\n",
              "    }\n",
              "</style>\n",
              "<table border=\"1\" class=\"dataframe\">\n",
              "  <thead>\n",
              "    <tr style=\"text-align: right;\">\n",
              "      <th></th>\n",
              "      <th>funcPK</th>\n",
              "      <th>equipePK</th>\n",
              "      <th>dataPK</th>\n",
              "      <th>cargoPK</th>\n",
              "      <th>salario</th>\n",
              "      <th>quantidadeLancamentos</th>\n",
              "    </tr>\n",
              "  </thead>\n",
              "  <tbody>\n",
              "    <tr>\n",
              "      <th>0</th>\n",
              "      <td>147</td>\n",
              "      <td>2</td>\n",
              "      <td>5</td>\n",
              "      <td>64</td>\n",
              "      <td>1559.94</td>\n",
              "      <td>1</td>\n",
              "    </tr>\n",
              "    <tr>\n",
              "      <th>1</th>\n",
              "      <td>124</td>\n",
              "      <td>2</td>\n",
              "      <td>5</td>\n",
              "      <td>329</td>\n",
              "      <td>8102.77</td>\n",
              "      <td>1</td>\n",
              "    </tr>\n",
              "    <tr>\n",
              "      <th>2</th>\n",
              "      <td>175</td>\n",
              "      <td>1</td>\n",
              "      <td>5</td>\n",
              "      <td>328</td>\n",
              "      <td>2532.51</td>\n",
              "      <td>1</td>\n",
              "    </tr>\n",
              "  </tbody>\n",
              "</table>\n",
              "</div>"
            ],
            "text/plain": [
              "   funcPK  equipePK  dataPK  cargoPK  salario  quantidadeLancamentos\n",
              "0     147         2       5       64  1559.94                      1\n",
              "1     124         2       5      329  8102.77                      1\n",
              "2     175         1       5      328  2532.51                      1"
            ]
          },
          "metadata": {
            "tags": []
          },
          "execution_count": 7
        }
      ]
    },
    {
      "cell_type": "code",
      "metadata": {
        "id": "4K_F31QN7ZXg",
        "outputId": "9f8b095f-52fb-4c6e-d9d5-1f38799ff0e2",
        "colab": {
          "base_uri": "https://localhost:8080/",
          "height": 141
        }
      },
      "source": [
        "#criando e exibindo o DataFrame para a tabela de fatos negociacao\n",
        "negociacao = pd.read_csv('https://raw.githubusercontent.com/GuiMuzziUSP/Data_Mart_BI_Solutions/main/negociacao.csv')\n",
        "negociacao.head(3)"
      ],
      "execution_count": null,
      "outputs": [
        {
          "output_type": "execute_result",
          "data": {
            "text/html": [
              "<div>\n",
              "<style scoped>\n",
              "    .dataframe tbody tr th:only-of-type {\n",
              "        vertical-align: middle;\n",
              "    }\n",
              "\n",
              "    .dataframe tbody tr th {\n",
              "        vertical-align: top;\n",
              "    }\n",
              "\n",
              "    .dataframe thead th {\n",
              "        text-align: right;\n",
              "    }\n",
              "</style>\n",
              "<table border=\"1\" class=\"dataframe\">\n",
              "  <thead>\n",
              "    <tr style=\"text-align: right;\">\n",
              "      <th></th>\n",
              "      <th>equipePK</th>\n",
              "      <th>clientePK</th>\n",
              "      <th>dataPK</th>\n",
              "      <th>receita</th>\n",
              "      <th>quantidadeNegociacoes</th>\n",
              "    </tr>\n",
              "  </thead>\n",
              "  <tbody>\n",
              "    <tr>\n",
              "      <th>0</th>\n",
              "      <td>2</td>\n",
              "      <td>9</td>\n",
              "      <td>22</td>\n",
              "      <td>11564.75</td>\n",
              "      <td>1</td>\n",
              "    </tr>\n",
              "    <tr>\n",
              "      <th>1</th>\n",
              "      <td>2</td>\n",
              "      <td>24</td>\n",
              "      <td>11</td>\n",
              "      <td>17990.50</td>\n",
              "      <td>1</td>\n",
              "    </tr>\n",
              "    <tr>\n",
              "      <th>2</th>\n",
              "      <td>2</td>\n",
              "      <td>28</td>\n",
              "      <td>21</td>\n",
              "      <td>16335.90</td>\n",
              "      <td>1</td>\n",
              "    </tr>\n",
              "  </tbody>\n",
              "</table>\n",
              "</div>"
            ],
            "text/plain": [
              "   equipePK  clientePK  dataPK   receita  quantidadeNegociacoes\n",
              "0         2          9      22  11564.75                      1\n",
              "1         2         24      11  17990.50                      1\n",
              "2         2         28      21  16335.90                      1"
            ]
          },
          "metadata": {
            "tags": []
          },
          "execution_count": 8
        }
      ]
    },
    {
      "cell_type": "markdown",
      "metadata": {
        "id": "qdptiXMFje8I"
      },
      "source": [
        "# 3 Execução de Consultas com Foco nas Operações OLAP"
      ]
    },
    {
      "cell_type": "markdown",
      "metadata": {
        "id": "IRzizjJUuwXg"
      },
      "source": [
        "## 3.1 Operação Slice and Dice\n",
        "\n",
        "**Definição**: Restringe os dados sendo analisados a um subconjunto desses dados.\n",
        "\n",
        "- Slice: corte para um valor fixo, diminuindo a dimensionalidade do cubo.\n",
        "- Dice: seleção de faixas de valores.\n",
        "\n",
        "**Exemplo de consulta**: Qual a quantidade de pagamentos realizados no mês de setembro de 2020?\n"
      ]
    },
    {
      "cell_type": "code",
      "metadata": {
        "id": "JAtuxdwt92s_"
      },
      "source": [
        "dataFiltrada = data.query('dataMes == 9 and dataAno == 2020')"
      ],
      "execution_count": null,
      "outputs": []
    },
    {
      "cell_type": "code",
      "metadata": {
        "id": "5loTlhcgDxcu"
      },
      "source": [
        "pagamentoFiltrado = pagamento.merge(dataFiltrada, on = 'dataPK')"
      ],
      "execution_count": null,
      "outputs": []
    },
    {
      "cell_type": "code",
      "metadata": {
        "id": "9r8uEo1qDzDn",
        "outputId": "5ed37142-2eaf-48c1-a7c5-c2b838571733",
        "colab": {
          "base_uri": "https://localhost:8080/",
          "height": 35
        }
      },
      "source": [
        "pagamentoFiltrado['quantidadeLancamentos'].sum()"
      ],
      "execution_count": null,
      "outputs": [
        {
          "output_type": "execute_result",
          "data": {
            "text/plain": [
              "200"
            ]
          },
          "metadata": {
            "tags": []
          },
          "execution_count": 11
        }
      ]
    },
    {
      "cell_type": "markdown",
      "metadata": {
        "id": "FjeYu20EoUyO"
      },
      "source": [
        "**EXERCÍCIO 1**. Qual o total de negociações realizadas nos meses de Abril, Maio e Junho de 2016? \n",
        "\n",
        "Dica: utilize a medida numérica `quantidadeNegociacao` presente na tabela `negociacao` e os dados históricos presentes na tabela `data`."
      ]
    },
    {
      "cell_type": "code",
      "metadata": {
        "id": "ZaqGkGfqoVd4",
        "outputId": "0ef34120-c53a-4d53-c98a-dd96c801009f",
        "colab": {
          "base_uri": "https://localhost:8080/",
          "height": 35
        }
      },
      "source": [
        "# resposta do exercício 1\n",
        "dataFiltrada = data.query('dataTrimestre == 2 and dataAno == 2016')\n",
        "negociacaoFiltrado = negociacao.merge(dataFiltrada, on = 'dataPK')\n",
        "negociacaoFiltrado['quantidadeNegociacoes'].sum()"
      ],
      "execution_count": null,
      "outputs": [
        {
          "output_type": "execute_result",
          "data": {
            "text/plain": [
              "59"
            ]
          },
          "metadata": {
            "tags": []
          },
          "execution_count": 12
        }
      ]
    },
    {
      "cell_type": "markdown",
      "metadata": {
        "id": "4Q6lAFKogO2l"
      },
      "source": [
        "## 3.2 Operações Drill-Down e Roll-Up\n",
        "\n",
        "**Definição**: Analisam os dados considerando níveis progressivos de agregação.\n",
        "\n",
        "- Drill-down: níveis de agregação progressivamente mais detalhados, ou de menor granularidade.\n",
        "- Roll-up: níveis de agregação progressivamente menos detalhados, ou de maior granularidade.\n",
        "\n",
        "Para ilustrar as operações de drill-down e roll-up, considere a consulta base definida a seguir.\n",
        "\n",
        "**Consulta base:** Qual o valor gasto em salários por ano, considerando cada semestre?"
      ]
    },
    {
      "cell_type": "code",
      "metadata": {
        "id": "h1PKrPtmHXUg"
      },
      "source": [
        "pagamentoData = pagamento.merge(data, on = 'dataPK')"
      ],
      "execution_count": null,
      "outputs": []
    },
    {
      "cell_type": "code",
      "metadata": {
        "id": "KzYP9GbcHqDt",
        "outputId": "ee22421d-d134-446d-81a6-9fe45c87e62c",
        "colab": {
          "base_uri": "https://localhost:8080/",
          "height": 225
        }
      },
      "source": [
        "pagamentoData.groupby(['dataAno','dataSemestre'])['salario'].sum()"
      ],
      "execution_count": null,
      "outputs": [
        {
          "output_type": "execute_result",
          "data": {
            "text/plain": [
              "dataAno  dataSemestre\n",
              "2016     1               2221308.54\n",
              "         2               2221308.54\n",
              "2017     1               4887639.90\n",
              "         2               4887639.90\n",
              "2018     1               7467763.20\n",
              "         2               7467763.20\n",
              "2019     1               9283833.18\n",
              "         2               9283833.18\n",
              "2020     1               9283833.18\n",
              "         2               9283833.18\n",
              "Name: salario, dtype: float64"
            ]
          },
          "metadata": {
            "tags": []
          },
          "execution_count": 14
        }
      ]
    },
    {
      "cell_type": "code",
      "metadata": {
        "id": "qcz0lfTdK63v",
        "outputId": "7fbb703b-a5f4-4217-9003-3fc13d63e167",
        "colab": {
          "base_uri": "https://localhost:8080/",
          "height": 343
        }
      },
      "source": [
        "pagamentoData.groupby(['dataAno','dataSemestre'])['salario'].sum().plot(kind = 'bar')"
      ],
      "execution_count": null,
      "outputs": [
        {
          "output_type": "execute_result",
          "data": {
            "text/plain": [
              "<matplotlib.axes._subplots.AxesSubplot at 0x7f9436826a58>"
            ]
          },
          "metadata": {
            "tags": []
          },
          "execution_count": 15
        },
        {
          "output_type": "display_data",
          "data": {
            "image/png": "[encoded data removed]",
            "text/plain": [
              "<Figure size 432x288 with 1 Axes>"
            ]
          },
          "metadata": {
            "tags": [],
            "needs_background": "light"
          }
        }
      ]
    },
    {
      "cell_type": "markdown",
      "metadata": {
        "id": "nG_cvrxlrdx7"
      },
      "source": [
        "**EXERCÍCIO 2**. Qual é a soma da receita recebida em cada um dos semestres do ano de 2019?\n",
        "\n",
        "Dica: utilize a medida numérica `receita` presente na tabela `negociacao` e os dados históricos presentes na tabela `data`."
      ]
    },
    {
      "cell_type": "code",
      "metadata": {
        "id": "C9UahTSOraHw",
        "outputId": "d80405cc-8112-4100-a918-868b95c5d2b8",
        "colab": {
          "base_uri": "https://localhost:8080/",
          "height": 87
        }
      },
      "source": [
        "# resposta do exercício 2\n",
        "dataFiltrada = data.query('dataAno == 2019')\n",
        "negociacaoFiltrado = negociacao.merge(dataFiltrada, on = 'dataPK')\n",
        "negociacaoFiltrado.groupby(['dataAno','dataSemestre'])['receita'].sum()"
      ],
      "execution_count": null,
      "outputs": [
        {
          "output_type": "execute_result",
          "data": {
            "text/plain": [
              "dataAno  dataSemestre\n",
              "2019     1               18328526.95\n",
              "         2               17024791.35\n",
              "Name: receita, dtype: float64"
            ]
          },
          "metadata": {
            "tags": []
          },
          "execution_count": 16
        }
      ]
    },
    {
      "cell_type": "markdown",
      "metadata": {
        "id": "2EMj-rcBuwgt"
      },
      "source": [
        "**EXERCÍCIO 3**. Mostre o resultado do exercício anterior em um gráfico de barras."
      ]
    },
    {
      "cell_type": "code",
      "metadata": {
        "id": "Adwkx8IluwzL",
        "outputId": "8f02dc6e-8cc6-4b25-b543-6e6ead3f4f12",
        "colab": {
          "base_uri": "https://localhost:8080/",
          "height": 343
        }
      },
      "source": [
        "# resposta do exercício 3\n",
        "negociacaoFiltrado.groupby(['dataAno','dataSemestre'])['receita'].sum().plot(kind = 'bar')"
      ],
      "execution_count": null,
      "outputs": [
        {
          "output_type": "execute_result",
          "data": {
            "text/plain": [
              "<matplotlib.axes._subplots.AxesSubplot at 0x7f943678e4e0>"
            ]
          },
          "metadata": {
            "tags": []
          },
          "execution_count": 17
        },
        {
          "output_type": "display_data",
          "data": {
            "image/png": "[encoded data removed]",
            "text/plain": [
              "<Figure size 432x288 with 1 Axes>"
            ]
          },
          "metadata": {
            "tags": [],
            "needs_background": "light"
          }
        }
      ]
    },
    {
      "cell_type": "markdown",
      "metadata": {
        "id": "94l1IEaohD0v"
      },
      "source": [
        "**Exemplo de consulta drill-down:** Qual o valor gasto em salários por ano, considerando cada trimestre?"
      ]
    },
    {
      "cell_type": "code",
      "metadata": {
        "id": "UUzTCWEdJxC8",
        "outputId": "a483b044-398a-4580-b408-883558457a2d",
        "colab": {
          "base_uri": "https://localhost:8080/",
          "height": 399
        }
      },
      "source": [
        "pagamentoData.groupby(['dataAno', 'dataTrimestre'])['salario'].sum()"
      ],
      "execution_count": null,
      "outputs": [
        {
          "output_type": "execute_result",
          "data": {
            "text/plain": [
              "dataAno  dataTrimestre\n",
              "2016     1                1110654.27\n",
              "         2                1110654.27\n",
              "         3                1110654.27\n",
              "         4                1110654.27\n",
              "2017     1                2443819.95\n",
              "         2                2443819.95\n",
              "         3                2443819.95\n",
              "         4                2443819.95\n",
              "2018     1                3733881.60\n",
              "         2                3733881.60\n",
              "         3                3733881.60\n",
              "         4                3733881.60\n",
              "2019     1                4641916.59\n",
              "         2                4641916.59\n",
              "         3                4641916.59\n",
              "         4                4641916.59\n",
              "2020     1                4641916.59\n",
              "         2                4641916.59\n",
              "         3                4641916.59\n",
              "         4                4641916.59\n",
              "Name: salario, dtype: float64"
            ]
          },
          "metadata": {
            "tags": []
          },
          "execution_count": 18
        }
      ]
    },
    {
      "cell_type": "code",
      "metadata": {
        "id": "BnTSaNsaLaNA",
        "outputId": "a0c87cb5-1c72-4ef8-cd31-da36190fefa5",
        "colab": {
          "base_uri": "https://localhost:8080/",
          "height": 343
        }
      },
      "source": [
        "pagamentoData.groupby(['dataAno', 'dataTrimestre'])['salario'].sum().plot(kind = 'bar')"
      ],
      "execution_count": null,
      "outputs": [
        {
          "output_type": "execute_result",
          "data": {
            "text/plain": [
              "<matplotlib.axes._subplots.AxesSubplot at 0x7f94362aa240>"
            ]
          },
          "metadata": {
            "tags": []
          },
          "execution_count": 19
        },
        {
          "output_type": "display_data",
          "data": {
            "image/png": "[encoded data removed]",
            "text/plain": [
              "<Figure size 432x288 with 1 Axes>"
            ]
          },
          "metadata": {
            "tags": [],
            "needs_background": "light"
          }
        }
      ]
    },
    {
      "cell_type": "markdown",
      "metadata": {
        "id": "B8b8vTWYoyUr"
      },
      "source": [
        "**Exemplo de consulta roll-up:** Qual o valor gasto em salários por ano?"
      ]
    },
    {
      "cell_type": "code",
      "metadata": {
        "id": "VUreMWiAKZuS",
        "outputId": "256946d1-5d5b-4d79-e022-744e88351d58",
        "colab": {
          "base_uri": "https://localhost:8080/",
          "height": 139
        }
      },
      "source": [
        "pagamentoData.groupby(['dataAno'])['salario'].sum()"
      ],
      "execution_count": null,
      "outputs": [
        {
          "output_type": "execute_result",
          "data": {
            "text/plain": [
              "dataAno\n",
              "2016     4442617.08\n",
              "2017     9775279.80\n",
              "2018    14935526.40\n",
              "2019    18567666.36\n",
              "2020    18567666.36\n",
              "Name: salario, dtype: float64"
            ]
          },
          "metadata": {
            "tags": []
          },
          "execution_count": 20
        }
      ]
    },
    {
      "cell_type": "code",
      "metadata": {
        "id": "yV2uSUsLJZAx",
        "outputId": "e3459a65-648d-44bd-91be-0d3e82512cd5",
        "colab": {
          "base_uri": "https://localhost:8080/",
          "height": 323
        }
      },
      "source": [
        "pagamentoData.groupby(['dataAno'])['salario'].sum().plot(kind = 'bar')"
      ],
      "execution_count": null,
      "outputs": [
        {
          "output_type": "execute_result",
          "data": {
            "text/plain": [
              "<matplotlib.axes._subplots.AxesSubplot at 0x7f94361d77b8>"
            ]
          },
          "metadata": {
            "tags": []
          },
          "execution_count": 21
        },
        {
          "output_type": "display_data",
          "data": {
            "image/png": "[encoded data removed]",
            "text/plain": [
              "<Figure size 432x288 with 1 Axes>"
            ]
          },
          "metadata": {
            "tags": [],
            "needs_background": "light"
          }
        }
      ]
    },
    {
      "cell_type": "markdown",
      "metadata": {
        "id": "m1pwyJJgKpuW"
      },
      "source": [
        "## 3.3 Operação Pivot\n",
        "\n",
        "**Definição:** Reorienta a visão multidimensional dos dados, oferecendo diferentes perspectivas dos mesmos dados.\n",
        "\n",
        "Para ilustrar a operação pivot, considere a consulta base definida a seguir. \n",
        "\n",
        "**Consulta base:**  Qual o valor gasto em salários por ano, considerando cada nível de cargo?"
      ]
    },
    {
      "cell_type": "code",
      "metadata": {
        "id": "L2yzBU3cLKEb",
        "outputId": "a8013106-89cd-455d-a085-16fa37036ae4",
        "colab": {
          "base_uri": "https://localhost:8080/",
          "height": 312
        }
      },
      "source": [
        "pagamentoData = pagamento.merge(data, on = 'dataPK')\n",
        "pagamentoDataCargo = pagamentoData.merge(cargo, on = 'cargoPK')\n",
        "pagamentoDataCargo.groupby(['dataAno', 'cargoNivel'])['salario'].sum()\n",
        "#pagamentoDataCargo.rename(mapper={\"dataAno\": \"Ano\", \"cargoNivel\": \"Nível do Cargo\", \"salario\": \"Total de Gastos em Salários\"}, axis=1).groupby(['Ano', 'Nível do Cargo'])['Total de Gastos em Salários'].sum()"
      ],
      "execution_count": null,
      "outputs": [
        {
          "output_type": "execute_result",
          "data": {
            "text/plain": [
              "dataAno  cargoNivel\n",
              "2016     JUNIOR          489456.84\n",
              "         PLENO          1454152.44\n",
              "         SENIOR         2499007.80\n",
              "2017     JUNIOR         1030642.80\n",
              "         PLENO          3791593.92\n",
              "         SENIOR         4953043.08\n",
              "2018     JUNIOR         1393282.20\n",
              "         PLENO          5357227.44\n",
              "         SENIOR         8185016.76\n",
              "2019     JUNIOR         1755714.36\n",
              "         PLENO          6132228.24\n",
              "         SENIOR        10679723.76\n",
              "2020     JUNIOR         1755714.36\n",
              "         PLENO          6132228.24\n",
              "         SENIOR        10679723.76\n",
              "Name: salario, dtype: float64"
            ]
          },
          "metadata": {
            "tags": []
          },
          "execution_count": 22
        }
      ]
    },
    {
      "cell_type": "code",
      "metadata": {
        "id": "VdTB0c9JMk6F",
        "outputId": "9ad5f6aa-cb3b-4e58-ef88-24d117a396e6",
        "colab": {
          "base_uri": "https://localhost:8080/",
          "height": 233
        }
      },
      "source": [
        "pagamentoDataCargo.groupby(['dataAno', 'cargoNivel'])['salario'].sum().unstack(level = 1)\n",
        "#pagamentoDataCargo.rename(mapper={\"dataAno\": \"Ano\", \"cargoNivel\": \"Nível do Cargo\", \"salario\": \"Total de Gastos em Salários\"}, axis=1).groupby(['Ano', 'Nível do Cargo'])['Total de Gastos em Salários'].sum().unstack(level = 1)"
      ],
      "execution_count": null,
      "outputs": [
        {
          "output_type": "execute_result",
          "data": {
            "text/html": [
              "<div>\n",
              "<style scoped>\n",
              "    .dataframe tbody tr th:only-of-type {\n",
              "        vertical-align: middle;\n",
              "    }\n",
              "\n",
              "    .dataframe tbody tr th {\n",
              "        vertical-align: top;\n",
              "    }\n",
              "\n",
              "    .dataframe thead th {\n",
              "        text-align: right;\n",
              "    }\n",
              "</style>\n",
              "<table border=\"1\" class=\"dataframe\">\n",
              "  <thead>\n",
              "    <tr style=\"text-align: right;\">\n",
              "      <th>cargoNivel</th>\n",
              "      <th>JUNIOR</th>\n",
              "      <th>PLENO</th>\n",
              "      <th>SENIOR</th>\n",
              "    </tr>\n",
              "    <tr>\n",
              "      <th>dataAno</th>\n",
              "      <th></th>\n",
              "      <th></th>\n",
              "      <th></th>\n",
              "    </tr>\n",
              "  </thead>\n",
              "  <tbody>\n",
              "    <tr>\n",
              "      <th>2016</th>\n",
              "      <td>489456.84</td>\n",
              "      <td>1454152.44</td>\n",
              "      <td>2499007.80</td>\n",
              "    </tr>\n",
              "    <tr>\n",
              "      <th>2017</th>\n",
              "      <td>1030642.80</td>\n",
              "      <td>3791593.92</td>\n",
              "      <td>4953043.08</td>\n",
              "    </tr>\n",
              "    <tr>\n",
              "      <th>2018</th>\n",
              "      <td>1393282.20</td>\n",
              "      <td>5357227.44</td>\n",
              "      <td>8185016.76</td>\n",
              "    </tr>\n",
              "    <tr>\n",
              "      <th>2019</th>\n",
              "      <td>1755714.36</td>\n",
              "      <td>6132228.24</td>\n",
              "      <td>10679723.76</td>\n",
              "    </tr>\n",
              "    <tr>\n",
              "      <th>2020</th>\n",
              "      <td>1755714.36</td>\n",
              "      <td>6132228.24</td>\n",
              "      <td>10679723.76</td>\n",
              "    </tr>\n",
              "  </tbody>\n",
              "</table>\n",
              "</div>"
            ],
            "text/plain": [
              "cargoNivel      JUNIOR       PLENO       SENIOR\n",
              "dataAno                                        \n",
              "2016         489456.84  1454152.44   2499007.80\n",
              "2017        1030642.80  3791593.92   4953043.08\n",
              "2018        1393282.20  5357227.44   8185016.76\n",
              "2019        1755714.36  6132228.24  10679723.76\n",
              "2020        1755714.36  6132228.24  10679723.76"
            ]
          },
          "metadata": {
            "tags": []
          },
          "execution_count": 23
        }
      ]
    },
    {
      "cell_type": "code",
      "metadata": {
        "id": "4ijA_SFvL44m",
        "outputId": "11cb4768-c712-4924-edb2-60f304a27563",
        "colab": {
          "base_uri": "https://localhost:8080/",
          "height": 323
        }
      },
      "source": [
        "pagamentoDataCargo.groupby(['dataAno', 'cargoNivel'])['salario'].sum().unstack(level = 1).plot(kind = 'bar', stacked = True)\n",
        "#pagamentoDataCargo.rename(mapper={\"dataAno\": \"Ano\", \"cargoNivel\": \"Nível do Cargo\", \"salario\": \"Total de Gastos em Salários\"}, axis=1).groupby(['Ano', 'Nível do Cargo'])['Total de Gastos em Salários'].sum().unstack(level = 1).plot(kind = 'bar', stacked = True)"
      ],
      "execution_count": null,
      "outputs": [
        {
          "output_type": "execute_result",
          "data": {
            "text/plain": [
              "<matplotlib.axes._subplots.AxesSubplot at 0x7f943616ec88>"
            ]
          },
          "metadata": {
            "tags": []
          },
          "execution_count": 24
        },
        {
          "output_type": "display_data",
          "data": {
            "image/png": "[encoded data removed]",
            "text/plain": [
              "<Figure size 432x288 with 1 Axes>"
            ]
          },
          "metadata": {
            "tags": [],
            "needs_background": "light"
          }
        }
      ]
    },
    {
      "cell_type": "markdown",
      "metadata": {
        "id": "LxHcCpKwM06A"
      },
      "source": [
        "**Exemplo de consulta pivot:** Qual o valor gasto em salários por nível de cargo, considerando cada ano?"
      ]
    },
    {
      "cell_type": "code",
      "metadata": {
        "id": "mx8fwIq8M5G1",
        "outputId": "85d6b974-9d97-4d9e-c212-889e7a4304b2",
        "colab": {
          "base_uri": "https://localhost:8080/",
          "height": 312
        }
      },
      "source": [
        "pagamentoDataCargo.groupby(['cargoNivel', 'dataAno'])['salario'].sum()\n",
        "#pagamentoDataCargo.rename(mapper={\"dataAno\": \"Ano\", \"cargoNivel\": \"Nível do Cargo\", \"salario\": \"Total de Gastos em Salários\"}, axis=1).groupby(['Nível do Cargo', 'Ano'])['Total de Gastos em Salários'].sum()"
      ],
      "execution_count": null,
      "outputs": [
        {
          "output_type": "execute_result",
          "data": {
            "text/plain": [
              "cargoNivel  dataAno\n",
              "JUNIOR      2016         489456.84\n",
              "            2017        1030642.80\n",
              "            2018        1393282.20\n",
              "            2019        1755714.36\n",
              "            2020        1755714.36\n",
              "PLENO       2016        1454152.44\n",
              "            2017        3791593.92\n",
              "            2018        5357227.44\n",
              "            2019        6132228.24\n",
              "            2020        6132228.24\n",
              "SENIOR      2016        2499007.80\n",
              "            2017        4953043.08\n",
              "            2018        8185016.76\n",
              "            2019       10679723.76\n",
              "            2020       10679723.76\n",
              "Name: salario, dtype: float64"
            ]
          },
          "metadata": {
            "tags": []
          },
          "execution_count": 25
        }
      ]
    },
    {
      "cell_type": "code",
      "metadata": {
        "id": "srRiiO4aMxfs",
        "outputId": "60cdc8cd-fae8-4620-806c-fc6b8b6a3765",
        "colab": {
          "base_uri": "https://localhost:8080/",
          "height": 171
        }
      },
      "source": [
        "pagamentoDataCargo.groupby(['cargoNivel', 'dataAno'])['salario'].sum().unstack(level = 1)\n",
        "#pagamentoDataCargo.rename(mapper={\"dataAno\": \"Ano\", \"cargoNivel\": \"Nível do Cargo\", \"salario\": \"Total de Gastos em Salários\"}, axis=1).groupby(['Nível do Cargo', 'Ano'])['Total de Gastos em Salários'].sum().unstack(level = 1)"
      ],
      "execution_count": null,
      "outputs": [
        {
          "output_type": "execute_result",
          "data": {
            "text/html": [
              "<div>\n",
              "<style scoped>\n",
              "    .dataframe tbody tr th:only-of-type {\n",
              "        vertical-align: middle;\n",
              "    }\n",
              "\n",
              "    .dataframe tbody tr th {\n",
              "        vertical-align: top;\n",
              "    }\n",
              "\n",
              "    .dataframe thead th {\n",
              "        text-align: right;\n",
              "    }\n",
              "</style>\n",
              "<table border=\"1\" class=\"dataframe\">\n",
              "  <thead>\n",
              "    <tr style=\"text-align: right;\">\n",
              "      <th>dataAno</th>\n",
              "      <th>2016</th>\n",
              "      <th>2017</th>\n",
              "      <th>2018</th>\n",
              "      <th>2019</th>\n",
              "      <th>2020</th>\n",
              "    </tr>\n",
              "    <tr>\n",
              "      <th>cargoNivel</th>\n",
              "      <th></th>\n",
              "      <th></th>\n",
              "      <th></th>\n",
              "      <th></th>\n",
              "      <th></th>\n",
              "    </tr>\n",
              "  </thead>\n",
              "  <tbody>\n",
              "    <tr>\n",
              "      <th>JUNIOR</th>\n",
              "      <td>489456.84</td>\n",
              "      <td>1030642.80</td>\n",
              "      <td>1393282.20</td>\n",
              "      <td>1755714.36</td>\n",
              "      <td>1755714.36</td>\n",
              "    </tr>\n",
              "    <tr>\n",
              "      <th>PLENO</th>\n",
              "      <td>1454152.44</td>\n",
              "      <td>3791593.92</td>\n",
              "      <td>5357227.44</td>\n",
              "      <td>6132228.24</td>\n",
              "      <td>6132228.24</td>\n",
              "    </tr>\n",
              "    <tr>\n",
              "      <th>SENIOR</th>\n",
              "      <td>2499007.80</td>\n",
              "      <td>4953043.08</td>\n",
              "      <td>8185016.76</td>\n",
              "      <td>10679723.76</td>\n",
              "      <td>10679723.76</td>\n",
              "    </tr>\n",
              "  </tbody>\n",
              "</table>\n",
              "</div>"
            ],
            "text/plain": [
              "dataAno           2016        2017        2018         2019         2020\n",
              "cargoNivel                                                              \n",
              "JUNIOR       489456.84  1030642.80  1393282.20   1755714.36   1755714.36\n",
              "PLENO       1454152.44  3791593.92  5357227.44   6132228.24   6132228.24\n",
              "SENIOR      2499007.80  4953043.08  8185016.76  10679723.76  10679723.76"
            ]
          },
          "metadata": {
            "tags": []
          },
          "execution_count": 26
        }
      ]
    },
    {
      "cell_type": "code",
      "metadata": {
        "id": "T6KNaDl6MMUR",
        "outputId": "94bb5284-cdde-43b7-b83c-cc8429730c8f",
        "colab": {
          "base_uri": "https://localhost:8080/",
          "height": 335
        }
      },
      "source": [
        "pagamentoDataCargo.groupby(['cargoNivel', 'dataAno'])['salario'].sum().unstack(level = 1).plot(kind = 'bar', stacked = True)\n",
        "#pagamentoDataCargo.rename(mapper={\"dataAno\": \"Ano\", \"cargoNivel\": \"Nível do Cargo\", \"salario\": \"Total de Gastos em Salários\"}, axis=1).groupby(['Nível do Cargo', 'Ano'])['Total de Gastos em Salários'].sum().unstack(level = 1).plot(kind = 'bar', stacked = True)"
      ],
      "execution_count": null,
      "outputs": [
        {
          "output_type": "execute_result",
          "data": {
            "text/plain": [
              "<matplotlib.axes._subplots.AxesSubplot at 0x7f9436174668>"
            ]
          },
          "metadata": {
            "tags": []
          },
          "execution_count": 27
        },
        {
          "output_type": "display_data",
          "data": {
            "image/png": "[encoded data removed]",
            "text/plain": [
              "<Figure size 432x288 with 1 Axes>"
            ]
          },
          "metadata": {
            "tags": [],
            "needs_background": "light"
          }
        }
      ]
    },
    {
      "cell_type": "markdown",
      "metadata": {
        "id": "3FNsObn_vVmp"
      },
      "source": [
        "**EXERCÍCIO 4**. Qual é a receita média gerada pelos clientes considerando seus segmentos, em cada um dos anos?\n",
        "\n",
        "Dica: utilize a medida numérica `receita` presente na tabela `negociacao`, os dados de clientes presentes na tabela `cliente` e os dados históricos presentes na tabela `data`. "
      ]
    },
    {
      "cell_type": "code",
      "metadata": {
        "id": "P1FrG2QDvVUm",
        "outputId": "c42f71b6-21e5-47d8-d630-1250f03301a8",
        "colab": {
          "base_uri": "https://localhost:8080/",
          "height": 485
        }
      },
      "source": [
        "# resposta do exercício 4\n",
        "negociacaoData = negociacao.merge(data, on = 'dataPK')\n",
        "negociacaoDataCliente = negociacaoData.merge(cliente, on = 'clientePK')\n",
        "negociacaoDataCliente.groupby(['dataAno','clienteSetor'])['receita'].mean()"
      ],
      "execution_count": null,
      "outputs": [
        {
          "output_type": "execute_result",
          "data": {
            "text/plain": [
              "dataAno  clienteSetor       \n",
              "2016     BEBIDAS E ALIMENTOS    16289.097183\n",
              "         CREDITO                12478.537500\n",
              "         SAUDE                  19920.158511\n",
              "         TECNOLOGIA             15391.562162\n",
              "         VESTUARIO              20544.941379\n",
              "2017     BEBIDAS E ALIMENTOS    14090.941825\n",
              "         CREDITO                15512.846053\n",
              "         SAUDE                  11033.732432\n",
              "         TECNOLOGIA             13458.902857\n",
              "         VESTUARIO              11848.008772\n",
              "2018     BEBIDAS E ALIMENTOS    13748.013765\n",
              "         CREDITO                15081.669149\n",
              "         SAUDE                  13804.836879\n",
              "         TECNOLOGIA             13690.658519\n",
              "         VESTUARIO              12347.271782\n",
              "2019     BEBIDAS E ALIMENTOS    22625.971922\n",
              "         CREDITO                34543.418590\n",
              "         SAUDE                  34020.137917\n",
              "         TECNOLOGIA             34555.955399\n",
              "         VESTUARIO              32297.800645\n",
              "2020     BEBIDAS E ALIMENTOS    23022.962903\n",
              "         CREDITO                32824.565541\n",
              "         SAUDE                  30274.900000\n",
              "         TECNOLOGIA             26883.515000\n",
              "         VESTUARIO              30526.924832\n",
              "Name: receita, dtype: float64"
            ]
          },
          "metadata": {
            "tags": []
          },
          "execution_count": 28
        }
      ]
    },
    {
      "cell_type": "markdown",
      "metadata": {
        "id": "gtUfi-M-wJqC"
      },
      "source": [
        "**EXERCÍCIO 5**. Imprima os resultados em um gráfico de barras empilhadas, mostrando no eixo x cada um dos anos e no eixo y a receita média."
      ]
    },
    {
      "cell_type": "code",
      "metadata": {
        "id": "kqfNJP5SwKhp",
        "outputId": "e20c64ba-75e1-4646-9874-de1c803b8a9c",
        "colab": {
          "base_uri": "https://localhost:8080/",
          "height": 313
        }
      },
      "source": [
        "# resposta do Exercício 5\n",
        "negociacaoDataCliente.groupby(['dataAno','clienteSetor'])['receita'].mean().unstack(level = 1).plot(kind = 'bar', stacked = True)"
      ],
      "execution_count": null,
      "outputs": [
        {
          "output_type": "execute_result",
          "data": {
            "text/plain": [
              "<matplotlib.axes._subplots.AxesSubplot at 0x7f94360350f0>"
            ]
          },
          "metadata": {
            "tags": []
          },
          "execution_count": 29
        },
        {
          "output_type": "display_data",
          "data": {
            "image/png": "[encoded data removed]",
            "text/plain": [
              "<Figure size 432x288 with 1 Axes>"
            ]
          },
          "metadata": {
            "tags": [],
            "needs_background": "light"
          }
        }
      ]
    },
    {
      "cell_type": "markdown",
      "metadata": {
        "id": "UtJILugUN2K_"
      },
      "source": [
        "## 3.4 Operação Drill-Across\n",
        "\n",
        "**Definição:** Compara medidas numéricas de tabelas de fatos diferentes, utilizando pelo menos uma dimensão em comum. \n",
        "\n",
        "**Exemplo de consulta:** Qual o total gasto com salários e qual o total de receitas recebidas, considerando cada ano?"
      ]
    },
    {
      "cell_type": "code",
      "metadata": {
        "id": "6tk46fphJG-B"
      },
      "source": [
        "#total gasto em salários considerando cada ano\n",
        "#dados obtidos utilizando a tabela de fatos pagamento\n",
        "pagamentoData = pagamento.merge(data, on = 'dataPK') \n",
        "pagamentoAno = pagamentoData.groupby(['dataAno'])['salario'].sum().to_frame()"
      ],
      "execution_count": null,
      "outputs": []
    },
    {
      "cell_type": "code",
      "metadata": {
        "id": "R_59AnBdKCGE"
      },
      "source": [
        "#total de receitas recebidas, considerando cada ano\n",
        "#dados obtidos utilizando a tabela de fatos negociacao\n",
        "negociacaoData = negociacao.merge(data, on = 'dataPK')\n",
        "negociacaoAno = negociacaoData.groupby(['dataAno'])['receita'].sum().to_frame()"
      ],
      "execution_count": null,
      "outputs": []
    },
    {
      "cell_type": "code",
      "metadata": {
        "id": "BWwwf2VsKE2q",
        "outputId": "d2068672-1437-4618-a3d0-982fc98fc3a0",
        "colab": {
          "base_uri": "https://localhost:8080/",
          "height": 233
        }
      },
      "source": [
        "#relacionado as medidas numéricas presentes nas duas tabelas de fatos\n",
        "pagamentoAno.merge(negociacaoAno, on = 'dataAno')"
      ],
      "execution_count": null,
      "outputs": [
        {
          "output_type": "execute_result",
          "data": {
            "text/html": [
              "<div>\n",
              "<style scoped>\n",
              "    .dataframe tbody tr th:only-of-type {\n",
              "        vertical-align: middle;\n",
              "    }\n",
              "\n",
              "    .dataframe tbody tr th {\n",
              "        vertical-align: top;\n",
              "    }\n",
              "\n",
              "    .dataframe thead th {\n",
              "        text-align: right;\n",
              "    }\n",
              "</style>\n",
              "<table border=\"1\" class=\"dataframe\">\n",
              "  <thead>\n",
              "    <tr style=\"text-align: right;\">\n",
              "      <th></th>\n",
              "      <th>salario</th>\n",
              "      <th>receita</th>\n",
              "    </tr>\n",
              "    <tr>\n",
              "      <th>dataAno</th>\n",
              "      <th></th>\n",
              "      <th></th>\n",
              "    </tr>\n",
              "  </thead>\n",
              "  <tbody>\n",
              "    <tr>\n",
              "      <th>2016</th>\n",
              "      <td>4442617.08</td>\n",
              "      <td>4614246.95</td>\n",
              "    </tr>\n",
              "    <tr>\n",
              "      <th>2017</th>\n",
              "      <td>9775279.80</td>\n",
              "      <td>7200423.35</td>\n",
              "    </tr>\n",
              "    <tr>\n",
              "      <th>2018</th>\n",
              "      <td>14935526.40</td>\n",
              "      <td>11593539.65</td>\n",
              "    </tr>\n",
              "    <tr>\n",
              "      <th>2019</th>\n",
              "      <td>18567666.36</td>\n",
              "      <td>35353318.30</td>\n",
              "    </tr>\n",
              "    <tr>\n",
              "      <th>2020</th>\n",
              "      <td>18567666.36</td>\n",
              "      <td>30222175.95</td>\n",
              "    </tr>\n",
              "  </tbody>\n",
              "</table>\n",
              "</div>"
            ],
            "text/plain": [
              "             salario      receita\n",
              "dataAno                          \n",
              "2016      4442617.08   4614246.95\n",
              "2017      9775279.80   7200423.35\n",
              "2018     14935526.40  11593539.65\n",
              "2019     18567666.36  35353318.30\n",
              "2020     18567666.36  30222175.95"
            ]
          },
          "metadata": {
            "tags": []
          },
          "execution_count": 32
        }
      ]
    },
    {
      "cell_type": "code",
      "metadata": {
        "id": "09-Cjk0DOB4q",
        "outputId": "2042167f-c760-4cd7-cf4c-07b145c667af",
        "colab": {
          "base_uri": "https://localhost:8080/",
          "height": 307
        }
      },
      "source": [
        "pagamentoAno.merge(negociacaoAno, on = 'dataAno').plot()"
      ],
      "execution_count": null,
      "outputs": [
        {
          "output_type": "execute_result",
          "data": {
            "text/plain": [
              "<matplotlib.axes._subplots.AxesSubplot at 0x7f9435f79550>"
            ]
          },
          "metadata": {
            "tags": []
          },
          "execution_count": 33
        },
        {
          "output_type": "display_data",
          "data": {
            "image/png": "[encoded data removed]",
            "text/plain": [
              "<Figure size 432x288 with 1 Axes>"
            ]
          },
          "metadata": {
            "tags": [],
            "needs_background": "light"
          }
        }
      ]
    },
    {
      "cell_type": "markdown",
      "metadata": {
        "id": "h1qyZMktxuwc"
      },
      "source": [
        "**EXERCÍCIO 6**. Qual é o total gasto em salários e qual o total de receitas recebidas, considerando apenas os anos de 2017, 2018 e 2019?\n",
        "\n",
        "Dica: utilize a medida numérica `salario` da tabela `pagamento`, a medida numérica `receita` da tabela `negociacao` e os dados históricos presentes na tabela `data`."
      ]
    },
    {
      "cell_type": "code",
      "metadata": {
        "id": "fxrT96tTyWsI"
      },
      "source": [
        "# resposta do exercício 6 - parte 1\n",
        "# calculando pagamentoAno\n",
        "dataFiltrada = data.query('dataAno == 2017 or dataAno == 2018 or dataAno == 2019')\n",
        "pagamentoData = pagamento.merge(dataFiltrada, on = 'dataPK')\n",
        "pagamentoAno = pagamentoData.groupby(['dataAno'])['salario'].sum().to_frame()"
      ],
      "execution_count": null,
      "outputs": []
    },
    {
      "cell_type": "code",
      "metadata": {
        "id": "DZDqsLg4xvGP"
      },
      "source": [
        "# resposta do exercício 6 - parte 2\n",
        "# calculando negociacaoAno\n",
        "dataFiltrada = data.query('dataAno == 2017 or dataAno == 2018 or dataAno == 2019')\n",
        "negociacaoData = negociacao.merge(dataFiltrada, on = 'dataPK')\n",
        "negociacaoAno = negociacaoData.groupby(['dataAno'])['receita'].sum().to_frame()"
      ],
      "execution_count": null,
      "outputs": []
    },
    {
      "cell_type": "code",
      "metadata": {
        "id": "4oILMIZHyuWB",
        "outputId": "6966a350-8d9e-42b1-8ff9-5f7a33216df9",
        "colab": {
          "base_uri": "https://localhost:8080/",
          "height": 171
        }
      },
      "source": [
        "# resposta do exercício 6 - parte 3\n",
        "# realizando a operação de drill-across\n",
        "pagamentoAno.merge(negociacaoAno, on = 'dataAno')"
      ],
      "execution_count": null,
      "outputs": [
        {
          "output_type": "execute_result",
          "data": {
            "text/html": [
              "<div>\n",
              "<style scoped>\n",
              "    .dataframe tbody tr th:only-of-type {\n",
              "        vertical-align: middle;\n",
              "    }\n",
              "\n",
              "    .dataframe tbody tr th {\n",
              "        vertical-align: top;\n",
              "    }\n",
              "\n",
              "    .dataframe thead th {\n",
              "        text-align: right;\n",
              "    }\n",
              "</style>\n",
              "<table border=\"1\" class=\"dataframe\">\n",
              "  <thead>\n",
              "    <tr style=\"text-align: right;\">\n",
              "      <th></th>\n",
              "      <th>salario</th>\n",
              "      <th>receita</th>\n",
              "    </tr>\n",
              "    <tr>\n",
              "      <th>dataAno</th>\n",
              "      <th></th>\n",
              "      <th></th>\n",
              "    </tr>\n",
              "  </thead>\n",
              "  <tbody>\n",
              "    <tr>\n",
              "      <th>2017</th>\n",
              "      <td>9775279.80</td>\n",
              "      <td>7200423.35</td>\n",
              "    </tr>\n",
              "    <tr>\n",
              "      <th>2018</th>\n",
              "      <td>14935526.40</td>\n",
              "      <td>11593539.65</td>\n",
              "    </tr>\n",
              "    <tr>\n",
              "      <th>2019</th>\n",
              "      <td>18567666.36</td>\n",
              "      <td>35353318.30</td>\n",
              "    </tr>\n",
              "  </tbody>\n",
              "</table>\n",
              "</div>"
            ],
            "text/plain": [
              "             salario      receita\n",
              "dataAno                          \n",
              "2017      9775279.80   7200423.35\n",
              "2018     14935526.40  11593539.65\n",
              "2019     18567666.36  35353318.30"
            ]
          },
          "metadata": {
            "tags": []
          },
          "execution_count": 36
        }
      ]
    },
    {
      "cell_type": "markdown",
      "metadata": {
        "id": "emJmL6bMxvkA"
      },
      "source": [
        "**EXERCÍCIO 7**. Imprima o resultado do exercício anterior em um gráfico de barras."
      ]
    },
    {
      "cell_type": "code",
      "metadata": {
        "id": "XpjxS3_6xv64",
        "outputId": "1b9295e8-b978-41f8-9e98-964faf1bffd3",
        "colab": {
          "base_uri": "https://localhost:8080/",
          "height": 323
        }
      },
      "source": [
        "# resposta do exercício 7\n",
        "pagamentoAno.merge(negociacaoAno, on = 'dataAno').plot(kind = 'bar')"
      ],
      "execution_count": null,
      "outputs": [
        {
          "output_type": "execute_result",
          "data": {
            "text/plain": [
              "<matplotlib.axes._subplots.AxesSubplot at 0x7f9435f044a8>"
            ]
          },
          "metadata": {
            "tags": []
          },
          "execution_count": 37
        },
        {
          "output_type": "display_data",
          "data": {
            "image/png": "[encoded data removed]",
            "text/plain": [
              "<Figure size 432x288 with 1 Axes>"
            ]
          },
          "metadata": {
            "tags": [],
            "needs_background": "light"
          }
        }
      ]
    },
    {
      "cell_type": "markdown",
      "metadata": {
        "id": "CWG-aJ1rC8D8"
      },
      "source": [
        "# 3 Execução de Consultas com Foco na Tomada de Decisão\n",
        "\n",
        "As consultas OLAP requisitadas por usuários de sistemas de suporte à decisão usualmente requerem que várias operações OLAP sejam realizadas simultaneamente. A seguir são ilustrados exemplos de consultas OLAP que podem ser requisitadas para a tomada de decisão estratégica."
      ]
    },
    {
      "cell_type": "markdown",
      "metadata": {
        "id": "OcaRLxX_Jd1w"
      },
      "source": [
        "## 3.1 Consulta 1\n",
        "\n",
        "**Consulta:** Qual é a média dos salários recebidos por nível do cargo e por sexo no ano passado (ou seja, no ano de 2019)?\n",
        "\n",
        "Para se realizar esta consulta, é necessário obter dados das tabelas de dimensão `cargo`, `funcionario` e `data`, bem como da tabela de fatos `pagamento`. A junção estrela deve ocorrer considerando as seguintes integridades referenciais:\n",
        "- `pagamento.cargoPK = cargo.cargoPK`\n",
        "- `pagamento.funcPK = funcionario.funcPK`\n",
        "- `pagamento.dataPK = data.dataPK` "
      ]
    },
    {
      "cell_type": "code",
      "metadata": {
        "id": "bYNbMwYCnrFj",
        "outputId": "05c5f7d5-88f5-4360-e43e-8baae92dc25f",
        "colab": {
          "base_uri": "https://localhost:8080/",
          "height": 156
        }
      },
      "source": [
        "dataFiltrada = data.query('dataAno == 2019')\n",
        "pagamentoData = pagamento.merge(dataFiltrada, on = 'dataPK')\n",
        "pagamentoDataFunc = pagamentoData.merge(funcionario, on = 'funcPK')\n",
        "pagamentoDataFuncCargo = pagamentoDataFunc.merge(cargo, on = 'cargoPK')\n",
        "pagamentoDataFuncCargo.groupby(['cargoNivel','funcSexo'])['salario'].mean()"
      ],
      "execution_count": null,
      "outputs": [
        {
          "output_type": "execute_result",
          "data": {
            "text/plain": [
              "cargoNivel  funcSexo\n",
              "JUNIOR      F            2440.233125\n",
              "            M            2437.859091\n",
              "PLENO       F            7641.937619\n",
              "            M            6259.613036\n",
              "SENIOR      F           12994.190000\n",
              "            M           14480.502708\n",
              "Name: salario, dtype: float64"
            ]
          },
          "metadata": {
            "tags": []
          },
          "execution_count": 38
        }
      ]
    },
    {
      "cell_type": "code",
      "metadata": {
        "id": "u5lZ7O9dPh2a",
        "outputId": "2d89312f-461c-438c-c232-94f90e775d62",
        "colab": {
          "base_uri": "https://localhost:8080/",
          "height": 171
        }
      },
      "source": [
        "pagamentoDataFuncCargo.groupby(['cargoNivel','funcSexo'])['salario'].mean().unstack(level = 1)"
      ],
      "execution_count": null,
      "outputs": [
        {
          "output_type": "execute_result",
          "data": {
            "text/html": [
              "<div>\n",
              "<style scoped>\n",
              "    .dataframe tbody tr th:only-of-type {\n",
              "        vertical-align: middle;\n",
              "    }\n",
              "\n",
              "    .dataframe tbody tr th {\n",
              "        vertical-align: top;\n",
              "    }\n",
              "\n",
              "    .dataframe thead th {\n",
              "        text-align: right;\n",
              "    }\n",
              "</style>\n",
              "<table border=\"1\" class=\"dataframe\">\n",
              "  <thead>\n",
              "    <tr style=\"text-align: right;\">\n",
              "      <th>funcSexo</th>\n",
              "      <th>F</th>\n",
              "      <th>M</th>\n",
              "    </tr>\n",
              "    <tr>\n",
              "      <th>cargoNivel</th>\n",
              "      <th></th>\n",
              "      <th></th>\n",
              "    </tr>\n",
              "  </thead>\n",
              "  <tbody>\n",
              "    <tr>\n",
              "      <th>JUNIOR</th>\n",
              "      <td>2440.233125</td>\n",
              "      <td>2437.859091</td>\n",
              "    </tr>\n",
              "    <tr>\n",
              "      <th>PLENO</th>\n",
              "      <td>7641.937619</td>\n",
              "      <td>6259.613036</td>\n",
              "    </tr>\n",
              "    <tr>\n",
              "      <th>SENIOR</th>\n",
              "      <td>12994.190000</td>\n",
              "      <td>14480.502708</td>\n",
              "    </tr>\n",
              "  </tbody>\n",
              "</table>\n",
              "</div>"
            ],
            "text/plain": [
              "funcSexo               F             M\n",
              "cargoNivel                            \n",
              "JUNIOR       2440.233125   2437.859091\n",
              "PLENO        7641.937619   6259.613036\n",
              "SENIOR      12994.190000  14480.502708"
            ]
          },
          "metadata": {
            "tags": []
          },
          "execution_count": 39
        }
      ]
    },
    {
      "cell_type": "code",
      "metadata": {
        "id": "jm31TL76Pp9f",
        "outputId": "1d75f79a-4497-43f3-807d-a29e25b35a62",
        "colab": {
          "base_uri": "https://localhost:8080/",
          "height": 325
        }
      },
      "source": [
        "pagamentoDataFuncCargo.groupby(['cargoNivel','funcSexo'])['salario'].mean().unstack(level = 1).plot(kind = 'bar')"
      ],
      "execution_count": null,
      "outputs": [
        {
          "output_type": "execute_result",
          "data": {
            "text/plain": [
              "<matplotlib.axes._subplots.AxesSubplot at 0x7f9435eeabe0>"
            ]
          },
          "metadata": {
            "tags": []
          },
          "execution_count": 40
        },
        {
          "output_type": "display_data",
          "data": {
            "image/png": "[encoded data removed]",
            "text/plain": [
              "<Figure size 432x288 with 1 Axes>"
            ]
          },
          "metadata": {
            "tags": [],
            "needs_background": "light"
          }
        }
      ]
    },
    {
      "cell_type": "markdown",
      "metadata": {
        "id": "varyr5djDP2s"
      },
      "source": [
        "## 3.2 Consulta 2\n",
        "\n",
        "**Consulta:** Qual o total de gastos em salários considerando os estados nos quais as equipes estão localizadas no último trimestre deste ano (ou seja, o trimestre 3 do ano de 2020)? \n",
        "\n",
        "Para se realizar esta consulta, é necessário obter dados das tabelas de dimensão `equipe` e `data`, bem como da tabela de fatos `pagamento`. A junção estrela deve ocorrer considerando as seguintes integridades referenciais:\n",
        "- `pagamento.dataPK = data.dataPK`\n",
        "- `pagamento.equipePK = equipe.equipePK`\n"
      ]
    },
    {
      "cell_type": "code",
      "metadata": {
        "id": "iQNmKiKTqNy8",
        "outputId": "a88adf46-ca87-4549-d84d-be4bd582f498",
        "colab": {
          "base_uri": "https://localhost:8080/",
          "height": 121
        }
      },
      "source": [
        "dataFiltrada = data.query('dataTrimestre == 3 and dataAno == 2020')\n",
        "pagamentoData = pagamento.merge(dataFiltrada, on = 'dataPK')\n",
        "pagamentoDataEquipe = pagamentoData.merge(equipe, on = 'equipePK')\n",
        "pagamentoDataEquipe.groupby(['filialEstadoNome'])['salario'].sum().sort_values()"
      ],
      "execution_count": null,
      "outputs": [
        {
          "output_type": "execute_result",
          "data": {
            "text/plain": [
              "filialEstadoNome\n",
              "PERNAMBUCO             438121.26\n",
              "MATO GROSSO DO SUL    1013857.74\n",
              "RIO DE JANEIRO        1258479.57\n",
              "SAO PAULO             1931458.02\n",
              "Name: salario, dtype: float64"
            ]
          },
          "metadata": {
            "tags": []
          },
          "execution_count": 41
        }
      ]
    },
    {
      "cell_type": "code",
      "metadata": {
        "id": "CxoohO3KPXAj",
        "outputId": "73bc1ea5-5a46-4231-e847-a5b2a3ee83dd",
        "colab": {
          "base_uri": "https://localhost:8080/",
          "height": 413
        }
      },
      "source": [
        "pagamentoDataEquipe.groupby(['filialEstadoNome'])['salario'].sum().sort_values().plot(kind = 'bar')"
      ],
      "execution_count": null,
      "outputs": [
        {
          "output_type": "execute_result",
          "data": {
            "text/plain": [
              "<matplotlib.axes._subplots.AxesSubplot at 0x7f9435f6dcc0>"
            ]
          },
          "metadata": {
            "tags": []
          },
          "execution_count": 42
        },
        {
          "output_type": "display_data",
          "data": {
            "image/png": "[encoded data removed]",
            "text/plain": [
              "<Figure size 432x288 with 1 Axes>"
            ]
          },
          "metadata": {
            "tags": [],
            "needs_background": "light"
          }
        }
      ]
    },
    {
      "cell_type": "markdown",
      "metadata": {
        "id": "Pk2HFKOQIvAs"
      },
      "source": [
        "## 3.3 Consulta 3\n",
        "\n",
        "**Consulta:** Qual o custo/benefício das equipes quando analisado o último semestre deste ano (ou seja, semestre 1 do ano de 2020)?\n",
        "\n",
        "A idea da consulta é relacionar os gastos em salários e os ganhos em receitas considerando cada equipe e o período especificado. Portanto, para se realizar essa consulta, é necessário obter dados das tabelas de dimensão `equipe` e `data`, bem como das tabelas de fatos `pagamento` e `negociacao`. \n",
        "\n",
        " A junção estrela deve ocorrer considerando as seguintes integridades referenciais:\n",
        "- `pagamento.dataPK = data.dataPK`\n",
        "- `pagamento.equipePK = equipe.equipe.PK`\n",
        "- `negociacao.dataPK = data.dataPK`\n",
        "- `negociacao.equipePK = equipe.equipe.PK`\n"
      ]
    },
    {
      "cell_type": "code",
      "metadata": {
        "id": "wY3yxSpktBfc",
        "outputId": "a60bbda9-80f7-4052-b44b-82982275b127",
        "colab": {
          "base_uri": "https://localhost:8080/",
          "height": 233
        }
      },
      "source": [
        "#investigando os gastos em salarios de cada equipe no último semestre deste ano \n",
        "dataFiltrada = data.query('dataSemestre == 1 and dataAno == 2020')\n",
        "pagamentoData = dataFiltrada.merge(pagamento, on = 'dataPK' )\n",
        "pagamentoDataEquipe = pagamentoData.groupby(['equipePK'])['salario'].sum().to_frame() \n",
        "pagamentoDataEquipe.head(5)"
      ],
      "execution_count": null,
      "outputs": [
        {
          "output_type": "execute_result",
          "data": {
            "text/html": [
              "<div>\n",
              "<style scoped>\n",
              "    .dataframe tbody tr th:only-of-type {\n",
              "        vertical-align: middle;\n",
              "    }\n",
              "\n",
              "    .dataframe tbody tr th {\n",
              "        vertical-align: top;\n",
              "    }\n",
              "\n",
              "    .dataframe thead th {\n",
              "        text-align: right;\n",
              "    }\n",
              "</style>\n",
              "<table border=\"1\" class=\"dataframe\">\n",
              "  <thead>\n",
              "    <tr style=\"text-align: right;\">\n",
              "      <th></th>\n",
              "      <th>salario</th>\n",
              "    </tr>\n",
              "    <tr>\n",
              "      <th>equipePK</th>\n",
              "      <th></th>\n",
              "    </tr>\n",
              "  </thead>\n",
              "  <tbody>\n",
              "    <tr>\n",
              "      <th>1</th>\n",
              "      <td>1160327.40</td>\n",
              "    </tr>\n",
              "    <tr>\n",
              "      <th>2</th>\n",
              "      <td>1060981.14</td>\n",
              "    </tr>\n",
              "    <tr>\n",
              "      <th>3</th>\n",
              "      <td>1177330.32</td>\n",
              "    </tr>\n",
              "    <tr>\n",
              "      <th>4</th>\n",
              "      <td>579893.94</td>\n",
              "    </tr>\n",
              "    <tr>\n",
              "      <th>5</th>\n",
              "      <td>909107.10</td>\n",
              "    </tr>\n",
              "  </tbody>\n",
              "</table>\n",
              "</div>"
            ],
            "text/plain": [
              "             salario\n",
              "equipePK            \n",
              "1         1160327.40\n",
              "2         1060981.14\n",
              "3         1177330.32\n",
              "4          579893.94\n",
              "5          909107.10"
            ]
          },
          "metadata": {
            "tags": []
          },
          "execution_count": 43
        }
      ]
    },
    {
      "cell_type": "code",
      "metadata": {
        "id": "yWP9YbmW3E58",
        "outputId": "ed2136d8-cf87-4c3b-ed39-fe54d2355329",
        "colab": {
          "base_uri": "https://localhost:8080/",
          "height": 233
        }
      },
      "source": [
        "#investigando os ganhos em receitas de cada equipe no último semestre deste ano\n",
        "dataFiltrada = data.query('dataSemestre == 1 and dataAno == 2020')\n",
        "negociacaoData = dataFiltrada.merge(negociacao, on = 'dataPK' )\n",
        "negociacaoDataEquipe = negociacaoData.groupby(['equipePK'])['receita'].sum().to_frame() \n",
        "negociacaoDataEquipe.head(5)"
      ],
      "execution_count": null,
      "outputs": [
        {
          "output_type": "execute_result",
          "data": {
            "text/html": [
              "<div>\n",
              "<style scoped>\n",
              "    .dataframe tbody tr th:only-of-type {\n",
              "        vertical-align: middle;\n",
              "    }\n",
              "\n",
              "    .dataframe tbody tr th {\n",
              "        vertical-align: top;\n",
              "    }\n",
              "\n",
              "    .dataframe thead th {\n",
              "        text-align: right;\n",
              "    }\n",
              "</style>\n",
              "<table border=\"1\" class=\"dataframe\">\n",
              "  <thead>\n",
              "    <tr style=\"text-align: right;\">\n",
              "      <th></th>\n",
              "      <th>receita</th>\n",
              "    </tr>\n",
              "    <tr>\n",
              "      <th>equipePK</th>\n",
              "      <th></th>\n",
              "    </tr>\n",
              "  </thead>\n",
              "  <tbody>\n",
              "    <tr>\n",
              "      <th>1</th>\n",
              "      <td>1259907.25</td>\n",
              "    </tr>\n",
              "    <tr>\n",
              "      <th>2</th>\n",
              "      <td>1338994.40</td>\n",
              "    </tr>\n",
              "    <tr>\n",
              "      <th>3</th>\n",
              "      <td>340461.30</td>\n",
              "    </tr>\n",
              "    <tr>\n",
              "      <th>4</th>\n",
              "      <td>340130.65</td>\n",
              "    </tr>\n",
              "    <tr>\n",
              "      <th>5</th>\n",
              "      <td>614747.70</td>\n",
              "    </tr>\n",
              "  </tbody>\n",
              "</table>\n",
              "</div>"
            ],
            "text/plain": [
              "             receita\n",
              "equipePK            \n",
              "1         1259907.25\n",
              "2         1338994.40\n",
              "3          340461.30\n",
              "4          340130.65\n",
              "5          614747.70"
            ]
          },
          "metadata": {
            "tags": []
          },
          "execution_count": 44
        }
      ]
    },
    {
      "cell_type": "code",
      "metadata": {
        "id": "d6aEOgeG4jbH",
        "outputId": "23f28f9e-9e5e-448a-f846-451865040084",
        "colab": {
          "base_uri": "https://localhost:8080/",
          "height": 233
        }
      },
      "source": [
        "#juntando os dados obtidos\n",
        "pagamentoNegociacao = pagamentoDataEquipe.merge(negociacaoDataEquipe, on = 'equipePK' )\n",
        "pagamentoNegociacao.head(5)"
      ],
      "execution_count": null,
      "outputs": [
        {
          "output_type": "execute_result",
          "data": {
            "text/html": [
              "<div>\n",
              "<style scoped>\n",
              "    .dataframe tbody tr th:only-of-type {\n",
              "        vertical-align: middle;\n",
              "    }\n",
              "\n",
              "    .dataframe tbody tr th {\n",
              "        vertical-align: top;\n",
              "    }\n",
              "\n",
              "    .dataframe thead th {\n",
              "        text-align: right;\n",
              "    }\n",
              "</style>\n",
              "<table border=\"1\" class=\"dataframe\">\n",
              "  <thead>\n",
              "    <tr style=\"text-align: right;\">\n",
              "      <th></th>\n",
              "      <th>salario</th>\n",
              "      <th>receita</th>\n",
              "    </tr>\n",
              "    <tr>\n",
              "      <th>equipePK</th>\n",
              "      <th></th>\n",
              "      <th></th>\n",
              "    </tr>\n",
              "  </thead>\n",
              "  <tbody>\n",
              "    <tr>\n",
              "      <th>1</th>\n",
              "      <td>1160327.40</td>\n",
              "      <td>1259907.25</td>\n",
              "    </tr>\n",
              "    <tr>\n",
              "      <th>2</th>\n",
              "      <td>1060981.14</td>\n",
              "      <td>1338994.40</td>\n",
              "    </tr>\n",
              "    <tr>\n",
              "      <th>3</th>\n",
              "      <td>1177330.32</td>\n",
              "      <td>340461.30</td>\n",
              "    </tr>\n",
              "    <tr>\n",
              "      <th>4</th>\n",
              "      <td>579893.94</td>\n",
              "      <td>340130.65</td>\n",
              "    </tr>\n",
              "    <tr>\n",
              "      <th>5</th>\n",
              "      <td>909107.10</td>\n",
              "      <td>614747.70</td>\n",
              "    </tr>\n",
              "  </tbody>\n",
              "</table>\n",
              "</div>"
            ],
            "text/plain": [
              "             salario     receita\n",
              "equipePK                        \n",
              "1         1160327.40  1259907.25\n",
              "2         1060981.14  1338994.40\n",
              "3         1177330.32   340461.30\n",
              "4          579893.94   340130.65\n",
              "5          909107.10   614747.70"
            ]
          },
          "metadata": {
            "tags": []
          },
          "execution_count": 45
        }
      ]
    },
    {
      "cell_type": "code",
      "metadata": {
        "id": "pc6ojx5FJX_C",
        "outputId": "a0b1dec5-4fc4-46e6-ba95-ac77d9a338bb",
        "colab": {
          "base_uri": "https://localhost:8080/",
          "height": 202
        }
      },
      "source": [
        "pagamentoNegociacaoEquipeCidade = pagamentoNegociacao.merge(equipe, on = 'equipePK' )\n",
        "pagamentoNegociacaoEquipeCidade.head(5)[['equipeNome', 'filialNome', 'salario', 'receita']]"
      ],
      "execution_count": null,
      "outputs": [
        {
          "output_type": "execute_result",
          "data": {
            "text/html": [
              "<div>\n",
              "<style scoped>\n",
              "    .dataframe tbody tr th:only-of-type {\n",
              "        vertical-align: middle;\n",
              "    }\n",
              "\n",
              "    .dataframe tbody tr th {\n",
              "        vertical-align: top;\n",
              "    }\n",
              "\n",
              "    .dataframe thead th {\n",
              "        text-align: right;\n",
              "    }\n",
              "</style>\n",
              "<table border=\"1\" class=\"dataframe\">\n",
              "  <thead>\n",
              "    <tr style=\"text-align: right;\">\n",
              "      <th></th>\n",
              "      <th>equipeNome</th>\n",
              "      <th>filialNome</th>\n",
              "      <th>salario</th>\n",
              "      <th>receita</th>\n",
              "    </tr>\n",
              "  </thead>\n",
              "  <tbody>\n",
              "    <tr>\n",
              "      <th>0</th>\n",
              "      <td>APP - DESKTOP</td>\n",
              "      <td>SAO PAULO - AV. PAULISTA</td>\n",
              "      <td>1160327.40</td>\n",
              "      <td>1259907.25</td>\n",
              "    </tr>\n",
              "    <tr>\n",
              "      <th>1</th>\n",
              "      <td>APP - DESKTOP</td>\n",
              "      <td>RIO DE JANEIRO - BARRA DA TIJUCA</td>\n",
              "      <td>1060981.14</td>\n",
              "      <td>1338994.40</td>\n",
              "    </tr>\n",
              "    <tr>\n",
              "      <th>2</th>\n",
              "      <td>WEB</td>\n",
              "      <td>SAO PAULO - AV. PAULISTA</td>\n",
              "      <td>1177330.32</td>\n",
              "      <td>340461.30</td>\n",
              "    </tr>\n",
              "    <tr>\n",
              "      <th>3</th>\n",
              "      <td>WEB</td>\n",
              "      <td>RIO DE JANEIRO - BARRA DA TIJUCA</td>\n",
              "      <td>579893.94</td>\n",
              "      <td>340130.65</td>\n",
              "    </tr>\n",
              "    <tr>\n",
              "      <th>4</th>\n",
              "      <td>WEB</td>\n",
              "      <td>CAMPO GRANDE - CENTRO</td>\n",
              "      <td>909107.10</td>\n",
              "      <td>614747.70</td>\n",
              "    </tr>\n",
              "  </tbody>\n",
              "</table>\n",
              "</div>"
            ],
            "text/plain": [
              "      equipeNome                        filialNome     salario     receita\n",
              "0  APP - DESKTOP          SAO PAULO - AV. PAULISTA  1160327.40  1259907.25\n",
              "1  APP - DESKTOP  RIO DE JANEIRO - BARRA DA TIJUCA  1060981.14  1338994.40\n",
              "2            WEB          SAO PAULO - AV. PAULISTA  1177330.32   340461.30\n",
              "3            WEB  RIO DE JANEIRO - BARRA DA TIJUCA   579893.94   340130.65\n",
              "4            WEB             CAMPO GRANDE - CENTRO   909107.10   614747.70"
            ]
          },
          "metadata": {
            "tags": []
          },
          "execution_count": 46
        }
      ]
    },
    {
      "cell_type": "code",
      "metadata": {
        "id": "LhwsYWuHSXZ6",
        "outputId": "bfd87355-b6fd-4977-b446-1e6507107ef3",
        "colab": {
          "base_uri": "https://localhost:8080/",
          "height": 202
        }
      },
      "source": [
        "pagamentoNegociacaoEquipeCidade['lucro'] = pagamentoNegociacaoEquipeCidade['receita'] - pagamentoNegociacaoEquipeCidade['salario']\n",
        "pagamentoNegociacaoEquipeCidade[['equipeNome', 'filialNome', 'lucro']].sort_values(by='lucro', ascending=False).head(5)"
      ],
      "execution_count": null,
      "outputs": [
        {
          "output_type": "execute_result",
          "data": {
            "text/html": [
              "<div>\n",
              "<style scoped>\n",
              "    .dataframe tbody tr th:only-of-type {\n",
              "        vertical-align: middle;\n",
              "    }\n",
              "\n",
              "    .dataframe tbody tr th {\n",
              "        vertical-align: top;\n",
              "    }\n",
              "\n",
              "    .dataframe thead th {\n",
              "        text-align: right;\n",
              "    }\n",
              "</style>\n",
              "<table border=\"1\" class=\"dataframe\">\n",
              "  <thead>\n",
              "    <tr style=\"text-align: right;\">\n",
              "      <th></th>\n",
              "      <th>equipeNome</th>\n",
              "      <th>filialNome</th>\n",
              "      <th>lucro</th>\n",
              "    </tr>\n",
              "  </thead>\n",
              "  <tbody>\n",
              "    <tr>\n",
              "      <th>8</th>\n",
              "      <td>BI &amp; ANALYTICS</td>\n",
              "      <td>SAO PAULO - AV. PAULISTA</td>\n",
              "      <td>4054890.24</td>\n",
              "    </tr>\n",
              "    <tr>\n",
              "      <th>9</th>\n",
              "      <td>BI &amp; ANALYTICS</td>\n",
              "      <td>RECIFE - CENTRO</td>\n",
              "      <td>3788503.18</td>\n",
              "    </tr>\n",
              "    <tr>\n",
              "      <th>1</th>\n",
              "      <td>APP - DESKTOP</td>\n",
              "      <td>RIO DE JANEIRO - BARRA DA TIJUCA</td>\n",
              "      <td>278013.26</td>\n",
              "    </tr>\n",
              "    <tr>\n",
              "      <th>5</th>\n",
              "      <td>APP - MOBILE</td>\n",
              "      <td>SAO PAULO - AV. PAULISTA</td>\n",
              "      <td>151160.49</td>\n",
              "    </tr>\n",
              "    <tr>\n",
              "      <th>0</th>\n",
              "      <td>APP - DESKTOP</td>\n",
              "      <td>SAO PAULO - AV. PAULISTA</td>\n",
              "      <td>99579.85</td>\n",
              "    </tr>\n",
              "  </tbody>\n",
              "</table>\n",
              "</div>"
            ],
            "text/plain": [
              "       equipeNome                        filialNome       lucro\n",
              "8  BI & ANALYTICS          SAO PAULO - AV. PAULISTA  4054890.24\n",
              "9  BI & ANALYTICS                   RECIFE - CENTRO  3788503.18\n",
              "1   APP - DESKTOP  RIO DE JANEIRO - BARRA DA TIJUCA   278013.26\n",
              "5    APP - MOBILE          SAO PAULO - AV. PAULISTA   151160.49\n",
              "0   APP - DESKTOP          SAO PAULO - AV. PAULISTA    99579.85"
            ]
          },
          "metadata": {
            "tags": []
          },
          "execution_count": 47
        }
      ]
    },
    {
      "cell_type": "code",
      "metadata": {
        "id": "QQhxmsFOQTT0",
        "outputId": "19e1c70c-ae37-495c-f25a-95e9c381d539",
        "colab": {
          "base_uri": "https://localhost:8080/",
          "height": 291
        }
      },
      "source": [
        "pagamentoNegociacaoEquipeCidade['lucro'].sort_values(ascending=False).head(5).plot(kind = 'bar')"
      ],
      "execution_count": null,
      "outputs": [
        {
          "output_type": "execute_result",
          "data": {
            "text/plain": [
              "<matplotlib.axes._subplots.AxesSubplot at 0x7f943676c160>"
            ]
          },
          "metadata": {
            "tags": []
          },
          "execution_count": 48
        },
        {
          "output_type": "display_data",
          "data": {
            "image/png": "[encoded data removed]",
            "text/plain": [
              "<Figure size 432x288 with 1 Axes>"
            ]
          },
          "metadata": {
            "tags": [],
            "needs_background": "light"
          }
        }
      ]
    },
    {
      "cell_type": "markdown",
      "metadata": {
        "id": "pG_DENRszp1w"
      },
      "source": [
        "## 3.4 Consultas Exercício\n",
        "\n",
        "**EXERCÍCIO 8**. Qual o total de receita gerada no último semestre de 2020 (ou seja, semestre 2 do ano de 2020), considerando cada setor de clientes? Mostre o resultado em um gráfico de barras."
      ]
    },
    {
      "cell_type": "code",
      "metadata": {
        "id": "JUiBrXo7TuXD",
        "outputId": "d3eb8c65-0bdb-4004-9e98-b92543165136",
        "colab": {
          "base_uri": "https://localhost:8080/",
          "height": 411
        }
      },
      "source": [
        "# resposta do exercício 8\n",
        "dataFiltrada = data.query('dataSemestre == 2 and dataAno == 2020')\n",
        "receitaData = negociacao.merge(dataFiltrada, on = 'dataPK')\n",
        "receitaDataCliente = receitaData.merge(cliente, on = 'clientePK')\n",
        "receitaDataCliente.groupby(['clienteSetor'])['receita'].sum().sort_values().plot(kind = 'bar')"
      ],
      "execution_count": null,
      "outputs": [
        {
          "output_type": "execute_result",
          "data": {
            "text/plain": [
              "<matplotlib.axes._subplots.AxesSubplot at 0x7f9436209978>"
            ]
          },
          "metadata": {
            "tags": []
          },
          "execution_count": 49
        },
        {
          "output_type": "display_data",
          "data": {
            "image/png": "[encoded data removed]",
            "text/plain": [
              "<Figure size 432x288 with 1 Axes>"
            ]
          },
          "metadata": {
            "tags": [],
            "needs_background": "light"
          }
        }
      ]
    },
    {
      "cell_type": "markdown",
      "metadata": {
        "id": "9Dt-pXmnz5km"
      },
      "source": [
        "**EXERCÍCIO 9**. No exercício anterior, foi calculado o total de receita gerada no último semestre de 2020 para cada setor de atuação dos clientes. Analisando-se os resultados obtidos, é possível identificar o setor de maior receita. Utilizando esse setor, responda à seguinte consulta analítica. \n",
        "\n",
        "Qual o total de receita gerada por mês para o setor de clientes com maior receita no último semestre de 2020? Mostre o resultado em um gráfico de barras."
      ]
    },
    {
      "cell_type": "code",
      "metadata": {
        "id": "FIz13R8C0O7f",
        "outputId": "7345982d-a2fc-4f10-d11d-6fb1cda519c0",
        "colab": {
          "base_uri": "https://localhost:8080/",
          "height": 311
        }
      },
      "source": [
        "# resposta do exercício 9\n",
        "dataFiltrada = data.query('dataSemestre == 2 and dataAno == 2020')\n",
        "clienteFiltrado = cliente.query('clienteSetor == \"BEBIDAS E ALIMENTOS\"')\n",
        "receitaData = negociacao.merge(dataFiltrada, on = 'dataPK')\n",
        "receitaDataCliente = receitaData.merge(clienteFiltrado, on = 'clientePK')\n",
        "receitaDataCliente.groupby(['dataMes'])['receita'].sum().plot(kind = 'bar')"
      ],
      "execution_count": null,
      "outputs": [
        {
          "output_type": "execute_result",
          "data": {
            "text/plain": [
              "<matplotlib.axes._subplots.AxesSubplot at 0x7f9435d71128>"
            ]
          },
          "metadata": {
            "tags": []
          },
          "execution_count": 50
        },
        {
          "output_type": "display_data",
          "data": {
            "image/png": "[encoded data removed]",
            "text/plain": [
              "<Figure size 432x288 with 1 Axes>"
            ]
          },
          "metadata": {
            "tags": [],
            "needs_background": "light"
          }
        }
      ]
    },
    {
      "cell_type": "markdown",
      "metadata": {
        "id": "9q7_56470i4e"
      },
      "source": [
        "**EXERCÍCIO 10**. No exercício anterior, foi calculado o total de receita gerada por mês para o setor de clientes com maior com maior receita no último semestre de 2020. Analisando-se os resultados obtidos, é possível identificar o mês de maior receita. Utilizando esse mês, responda à seguinte consulta analítica.\n",
        "\n",
        "Qual equipe gerou mais receita para o mês de maior receita da consulta analítica anterior? Mostre o resultado em um gráfico de barras."
      ]
    },
    {
      "cell_type": "code",
      "metadata": {
        "id": "tqDirRPE0aHf",
        "outputId": "943333d8-2857-418f-acad-353e001522cb",
        "colab": {
          "base_uri": "https://localhost:8080/",
          "height": 365
        }
      },
      "source": [
        "# resposta do exercício 10\n",
        "dataFiltrada = data.query('dataAno == 2020 and dataMes == 11')\n",
        "clienteFiltrado = cliente.query('clienteSetor == \"BEBIDAS E ALIMENTOS\"')\n",
        "receitaData = negociacao.merge(dataFiltrada, on = 'dataPK')\n",
        "receitaDataCliente = receitaData.merge(clienteFiltrado, on = 'clientePK')\n",
        "receitaDataClienteEquipe = receitaDataCliente.merge(equipe, on = 'equipePK')\n",
        "receitaDataClienteEquipe.groupby(['equipeNome'])['receita'].sum().sort_values().plot(kind = 'bar')"
      ],
      "execution_count": null,
      "outputs": [
        {
          "output_type": "execute_result",
          "data": {
            "text/plain": [
              "<matplotlib.axes._subplots.AxesSubplot at 0x7f9435c8e198>"
            ]
          },
          "metadata": {
            "tags": []
          },
          "execution_count": 51
        },
        {
          "output_type": "display_data",
          "data": {
            "image/png": "[encoded data removed]",
            "text/plain": [
              "<Figure size 432x288 with 1 Axes>"
            ]
          },
          "metadata": {
            "tags": [],
            "needs_background": "light"
          }
        }
      ]
    }
  ]
}