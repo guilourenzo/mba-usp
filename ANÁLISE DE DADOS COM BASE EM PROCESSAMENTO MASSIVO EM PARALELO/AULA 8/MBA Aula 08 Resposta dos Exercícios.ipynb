{
  "nbformat": 4,
  "nbformat_minor": 0,
  "metadata": {
    "colab": {
      "name": "MBA Aula 08 Resposta dos Exercícios.ipynb",
      "provenance": [],
      "collapsed_sections": [],
      "toc_visible": true
    },
    "kernelspec": {
      "name": "python3",
      "display_name": "Python 3"
    }
  },
  "cells": [
    {
      "cell_type": "markdown",
      "metadata": {
        "id": "flekT6GFDN6m"
      },
      "source": [
        "# <span style=\"color:blue\">MBA em Ciência de Dados</span>\n",
        "# <span style=\"color:blue\">Análise de Dados com Base em Processamento Massivo em Paralelo</span>\n",
        "\n",
        "## <span style=\"color:blue\">Aula 08: Explorando o Módulo pyspark.sql</span>\n",
        "## <span style=\"color:blue\">Resposta dos Exercícios</span>\n",
        "\n",
        "**Material Produzido por:**<br>\n",
        ">**Profa. Dra. Cristina Dutra de Aguiar Ciferri**<br>\n",
        ">**André Marcos Perez**<br> \n",
        ">**Piero Lima Capelo**<br>\n",
        "\n",
        "**CEMEAI - ICMC/USP São Carlos**\n",
        "\n",
        "**Este notebook contém a respostas dos exercícios da lista de exercícios da Aula 08. A lista de exercícios contém 7 exercícios, os quais estão espalhados ao longo do texto. Por favor, procurem por EXERCÍCIO para encontrar a especificação dos exercícios e as suas respectivas respostas. Também é possível localizar os exercícios utilizando o menu de navegação. Por completude, o notebook possui todas as descrições apresentadas na parte prática da Aula 08.**\n",
        "\n",
        "**Recomenda-se fortemente que a lista de exercícios seja respondida antes de se consultar as respostas dos exercícios.** "
      ]
    },
    {
      "cell_type": "markdown",
      "metadata": {
        "id": "3o3dN_WLQcyD"
      },
      "source": [
        "#1 Constelação de Fatos da BI Solutions\n",
        "\n",
        "A aplicação de *data warehousing* da BI Solutions utiliza como base uma contelação de fatos, conforme descrita a seguir.\n",
        "\n",
        "**Tabelas de dimensão**\n",
        "\n",
        "- data (dataPK, dataCompleta, dataDia, dataMes, dataBimestre, dataTrimestre, dataSemestre, dataAno)\n",
        "- funcionario (funcPK, funcMatricula, funcNome, funcSexo, funcDataNascimento, funcDiaNascimento, funcMesNascimento, funcAnoNascimento, funcCidade, funcEstadoNome, funcEstadoSigla, funcRegiaoNome, funcRegiaoSigla, funcPaisNome, funcPaisSigla)\n",
        "- equipe (equipePK, equipeNome, filialNome, filialCidade, filialEstadoNome, filialEstadoSigla, filialRegiaoNome, filialRegiaoSigla, filialPaisNome, filialPaisSigla)\n",
        "- cargo (cargoPK, cargoNome, cargoRegimeTrabalho, cargoEscolaridadeMinima, cargoNivel)\n",
        "- cliente (clientePK, clienteNomeFantasia, clienteSetor, clienteCidade, clienteEstadoNome, clienteEstadoSigla, clienteRegiaoNome, clienteRegiaoSigla, clientePaisNome, clientePaisSigla)\n",
        "\n",
        "**Tabelas de fatos**\n",
        "- pagamento (dataPK, funcPK, equipePK, cargoPK, salario, quantidadeLancamentos)\n",
        "- negociacao (dataPK, equipePK, clientePK, receita, quantidadeNegociacoes)\n"
      ]
    },
    {
      "cell_type": "markdown",
      "metadata": {
        "id": "BGeh8KdXwVCQ"
      },
      "source": [
        "#2 Obtenção dos Dados da BI Solutions\n"
      ]
    },
    {
      "cell_type": "markdown",
      "metadata": {
        "id": "CCCNC64AzBG0"
      },
      "source": [
        "## 2.1 Baixando o Módulo wget\n",
        "\n",
        "Para baixar os dados referentes ao esquema relacional da constelação de fatos da BI Solutions, é utilizado o módulo  **wget**. O comando a seguir realiza a instalação desse módulo. <br>"
      ]
    },
    {
      "cell_type": "code",
      "metadata": {
        "id": "3e0Eao1K0EYG"
      },
      "source": [
        "#instalando o módulo wget\n",
        "%%capture\n",
        "!pip install -q wget\n",
        "!mkdir data"
      ],
      "execution_count": 1,
      "outputs": []
    },
    {
      "cell_type": "markdown",
      "metadata": {
        "id": "j56pVJ2hZ2i5"
      },
      "source": [
        "## 2.2 Obtenção dos Dados das Tabelas de Dimensão\n",
        "\n",
        "Os comandos a seguir baixam os dados que povoam as tabelas de dimensão. "
      ]
    },
    {
      "cell_type": "code",
      "metadata": {
        "id": "46QzTpLJwfkW",
        "cellView": "both",
        "outputId": "b4dfe9b2-c739-4c45-e40f-0e9caf4ec453",
        "colab": {
          "base_uri": "https://localhost:8080/",
          "height": 35
        }
      },
      "source": [
        "#baixando os dados das tabelas de dimensão\n",
        "import wget\n",
        "\n",
        "url = \"https://raw.githubusercontent.com/GuiMuzziUSP/Data_Mart_BI_Solutions/main/data.csv\"\n",
        "wget.download(url, \"data/data.csv\")\n",
        "\n",
        "url = \"https://raw.githubusercontent.com/GuiMuzziUSP/Data_Mart_BI_Solutions/main/funcionario.csv\"\n",
        "wget.download(url, \"data/funcionario.csv\")\n",
        "\n",
        "url = \"https://raw.githubusercontent.com/GuiMuzziUSP/Data_Mart_BI_Solutions/main/equipe.csv\"\n",
        "wget.download(url, \"data/equipe.csv\")\n",
        "\n",
        "url = \"https://raw.githubusercontent.com/GuiMuzziUSP/Data_Mart_BI_Solutions/main/cargo.csv\"\n",
        "wget.download(url, \"data/cargo.csv\")\n",
        "\n",
        "url = \"https://raw.githubusercontent.com/GuiMuzziUSP/Data_Mart_BI_Solutions/main/cliente.csv\"\n",
        "wget.download(url, \"data/cliente.csv\")"
      ],
      "execution_count": 2,
      "outputs": [
        {
          "output_type": "execute_result",
          "data": {
            "application/vnd.google.colaboratory.intrinsic+json": {
              "type": "string"
            },
            "text/plain": [
              "'data/cliente (1).csv'"
            ]
          },
          "metadata": {
            "tags": []
          },
          "execution_count": 2
        }
      ]
    },
    {
      "cell_type": "markdown",
      "metadata": {
        "id": "0o-dC7feszRc"
      },
      "source": [
        "## 2.3 Obtenção dos Dados Tabelas de Fatos\n",
        "\n",
        "Os comandos a seguir baixam os dados que povoam as tabelas de fatos. "
      ]
    },
    {
      "cell_type": "code",
      "metadata": {
        "id": "XWM-CUFgBl_8",
        "outputId": "58ebcceb-c244-48bf-9304-e59098267422",
        "colab": {
          "base_uri": "https://localhost:8080/",
          "height": 35
        }
      },
      "source": [
        "#baixando os dados das tabelas de fatos\n",
        "url = \"https://raw.githubusercontent.com/GuiMuzziUSP/Data_Mart_BI_Solutions/main/pagamento.csv\"\n",
        "wget.download(url, \"data/pagamento.csv\")\n",
        "\n",
        "url = \"https://raw.githubusercontent.com/GuiMuzziUSP/Data_Mart_BI_Solutions/main/negociacao.csv\"\n",
        "wget.download(url, \"data/negociacao.csv\")"
      ],
      "execution_count": 3,
      "outputs": [
        {
          "output_type": "execute_result",
          "data": {
            "application/vnd.google.colaboratory.intrinsic+json": {
              "type": "string"
            },
            "text/plain": [
              "'data/negociacao (1).csv'"
            ]
          },
          "metadata": {
            "tags": []
          },
          "execution_count": 3
        }
      ]
    },
    {
      "cell_type": "markdown",
      "metadata": {
        "id": "sO16-7-jOioq"
      },
      "source": [
        "# 3 Apache Spark Cluster"
      ]
    },
    {
      "cell_type": "markdown",
      "metadata": {
        "id": "YVEgY9qKflBV"
      },
      "source": [
        "## 3.1 Instalação\n",
        "\n",
        "Neste *notebook* é criado um *cluster* Spark composto apenas por um **nó mestre**. Ou seja, o *cluster* não possui um ou mais **nós de trabalho** e o **gerenciador de cluster**. Nessa configuração, as tarefas (*tasks*) são realizadas no próprio *driver* localizado no **nó mestre**."
      ]
    },
    {
      "cell_type": "markdown",
      "metadata": {
        "id": "KaM-OnIjgLS2"
      },
      "source": [
        "Para que o cluster possa ser criado, primeiramente é instalado o Java Runtime Environment (JRE) versão 8. "
      ]
    },
    {
      "cell_type": "code",
      "metadata": {
        "id": "NXls3bfoglKW"
      },
      "source": [
        "#instalando Java Runtime Environment (JRE) versão 8\n",
        "%%capture\n",
        "!apt-get remove openjdk*\n",
        "!apt-get update --fix-missing\n",
        "!apt-get install openjdk-8-jdk-headless -qq > /dev/null"
      ],
      "execution_count": 4,
      "outputs": []
    },
    {
      "cell_type": "markdown",
      "metadata": {
        "id": "7BQzZfDYhb4j"
      },
      "source": [
        "Na sequência, é feito o *download* do Apache Spark versão 3.0.0."
      ]
    },
    {
      "cell_type": "code",
      "metadata": {
        "id": "8a_Yv59zg3gm"
      },
      "source": [
        "#baixando Apache Spark versão 3.0.0\n",
        "%%capture\n",
        "!wget -q https://archive.apache.org/dist/spark/spark-3.0.0/spark-3.0.0-bin-hadoop2.7.tgz\n",
        "!tar xf spark-3.0.0-bin-hadoop2.7.tgz && rm spark-3.0.0-bin-hadoop2.7.tgz"
      ],
      "execution_count": 5,
      "outputs": []
    },
    {
      "cell_type": "markdown",
      "metadata": {
        "id": "RETWX6wqhkLf"
      },
      "source": [
        "Na sequência, são configuradas as variáveis de ambiente JAVA_HOME e SPARK_HOME. Isto permite que tanto o Java quanto o Spark possam ser encontrados."
      ]
    },
    {
      "cell_type": "code",
      "metadata": {
        "id": "iZpR7NwOh2EB"
      },
      "source": [
        "import os\n",
        "#configurando a variável de ambiente JAVA_HOME\n",
        "os.environ[\"JAVA_HOME\"] = \"/usr/lib/jvm/java-8-openjdk-amd64\"\n",
        "#configurando a variável de ambiente SPARK_HOME\n",
        "os.environ[\"SPARK_HOME\"] = \"/content/spark-3.0.0-bin-hadoop2.7\""
      ],
      "execution_count": 6,
      "outputs": []
    },
    {
      "cell_type": "markdown",
      "metadata": {
        "id": "Ql0z7Ro1iHQb"
      },
      "source": [
        "Por fim, são instalados dois pacotes da linguagem de programação Python, cujas funcionalidades são descritas a seguir.\n",
        "\n",
        "> **Pacote findspark:** Usado para ler a variável de ambiente SPARK_HOME e armazenar seu valor na variável dinâmica de ambiente PYTHONPATH. Como resultado, Python pode encontrar a instalação do Spark. \n",
        "\n",
        "> **Pacote pyspark:** PySpark é a API do Python para Spark. Ela possibilita o uso de Python, considerando que o *framework* Apache Spark encontra-se desenvolvido na linguagem de programação Scala. "
      ]
    },
    {
      "cell_type": "code",
      "metadata": {
        "id": "5oSYOwKljPf5"
      },
      "source": [
        "%%capture\n",
        "#instalando o pacote findspark\n",
        "!pip install -q findspark==1.4.2\n",
        "#instalando o pacote pyspark\n",
        "!pip install -q pyspark==3.0.0"
      ],
      "execution_count": 7,
      "outputs": []
    },
    {
      "cell_type": "markdown",
      "metadata": {
        "id": "eAaLyjPzmIwZ"
      },
      "source": [
        "## 3.2 Conexão\n",
        "\n",
        "PySpark não é adicionado ao *sys.path* por padrão. Isso significa que não é possível importá-lo, pois o interpretador da linguagem Python não sabe onde encontrá-lo. \n",
        "\n",
        "Para resolver esse aspecto, é necessário instalar o módulo `findspark`. Esse módulo mostra onde PySpark está localizado. Os comandos a seguir têm essa finalidade.\n"
      ]
    },
    {
      "cell_type": "code",
      "metadata": {
        "id": "-zm1pBTEmjp4"
      },
      "source": [
        "#importando o módulo findspark\n",
        "import findspark\n",
        "#carregando a variávels SPARK_HOME na variável dinâmica PYTHONPATH\n",
        "findspark.init()"
      ],
      "execution_count": 8,
      "outputs": []
    },
    {
      "cell_type": "markdown",
      "metadata": {
        "id": "ZDqfefF7YUab"
      },
      "source": [
        "Depois de configurados os pacotes e módulos e inicializadas as variáveis de ambiente, é possível iniciar o uso do Spark na aplicação de `data warehousing`. Para tanto, é necessário importar o comando `SparkSession` do módulo `pyspark.sql`. São utilizados os seguintes conceitos: <br>\n",
        "\n",
        "- `SparkSession`: permite a criação de `DataFrames`. Como resultado, as tabelas relacionais podem ser manipuladas por meio de `DataFrames` e é possível realizar consultas OLAP por meio de comandos SQL. <br>\n",
        "- `builder`: cria uma instância de SparkSession. <br>\n",
        "- `appName`: define um nome para a aplicação, o qual pode ser visto na interface de usuário web do Spark. <br> \n",
        "- `master`: define onde está o nó mestre do *cluster*. Como a aplicação é executada localmente e não em um *cluster*, indica-se isso pela *string* `local` seguida do parâmetro `[*]`. Ou seja, define-se que apenas núcleos locais são utilizados. \n",
        "- `getOrCreate`: cria uma SparkSession. Caso ela já exista, retorna a instância existente. \n",
        "\n",
        "\n",
        "**Observação**: A lista completa de todos os parâmetros que podem ser utilizados na inicialização do *cluster* pode ser encontrada neste [link](https://spark.apache.org/docs/latest/spark-standalone.html#cluster-launch-scripts)."
      ]
    },
    {
      "cell_type": "code",
      "metadata": {
        "id": "9TxljJ_cwBCy"
      },
      "source": [
        "from pyspark.sql import SparkSession\n",
        "\n",
        "spark = SparkSession.builder.appName(\"pyspark-notebook\").master(\"local[*]\").getOrCreate()"
      ],
      "execution_count": 9,
      "outputs": []
    },
    {
      "cell_type": "markdown",
      "metadata": {
        "id": "5qL9SiR_pQE2"
      },
      "source": [
        "# 4 Geração dos DataFrames da BI Solutions\n",
        "\n",
        "Um `DataFrame` em Spark é equivalente a uma tabela relacional. Portanto, um `DataFrame` possui um esquema, uma ou mais linhas (ou tuplas) e uma ou mais colunas (ou atributos).\n"
      ]
    },
    {
      "cell_type": "markdown",
      "metadata": {
        "id": "ffWOrkjDp8Al"
      },
      "source": [
        "## 4.1 Métodos para Leitura e Escrita"
      ]
    },
    {
      "cell_type": "markdown",
      "metadata": {
        "id": "WtUGn-uyBJWY"
      },
      "source": [
        "### Método spark.read.csv()\n",
        "\n",
        "``spark.read.csv()``\n",
        "\n",
        "Realiza a leitura dos dados de um arquivo `.csv` e armazena esses dados em um `DataFrame`. Alguns parâmetros do método são: \n",
        "\n",
        "- `path`: indica o endereço do arquivo que é lido.\n",
        "\n",
        "- `header`: indica se o arquivo possui um cabeçalho.\n",
        "\n",
        "- `sep`: especifica o caractere que separa os campos do arquivo.\n",
        "\n",
        "- `inferSchema`: infere o tipo de dados de cada atributo automaticamente a partir dos dados do arquivo `.csv`. Para que isto seja possível, existe a necessidade de se ler os dados mais uma vez. Se esse parâmetro não for especificado, seu valor padrão é `false`. \n",
        "\n",
        "Entretanto, vários parâmetros podem ser especificados. Uma lista completa desses parâmetros pode ser encontrada neste [link](https://docs.databricks.com/data/data-sources/read-csv.html). \n",
        "\n",
        "\n"
      ]
    },
    {
      "cell_type": "markdown",
      "metadata": {
        "id": "gBaQWmfzkYdF"
      },
      "source": [
        "### Método show()\n",
        "\n",
        "`show(number=20, truncate=True, vertical=False)`\n",
        "\n",
        "Mostra o conteúdo do `DataFrame`. Caso o parâmetro `number` seja especificado, é mostrado o número de linhas especificado. Caso contrário, são exibidas as 20 primeiras linhas.  O parâmetro `truncate` indica que  *strings* com tamanho maior do que 20 caracteres são truncadas. O último parâmetro, `vertical`, indica que a saída é composta por um conjunto de linhas divididas em colunas (forma de uma tabela). Caso seja especificado `vertical=True`, cada coluna de cada linha é exibida em uma linha diferente."
      ]
    },
    {
      "cell_type": "markdown",
      "metadata": {
        "id": "z8MxhBV6mBmR"
      },
      "source": [
        "### Método printSchema()\n",
        "\n",
        "`printSchema()`\n",
        "\n",
        "Mostra o esquema do `DataFrame` no formato de uma árvore. São exibidos os nomes das colunas e os tipos de dados dessas colunas. `nullable = true` indica que o valor nulo é usado para indicar valores que não são conhecidos ou que são foram preenchidos quando o arquivo foi lido em um `DataFrame`.  \n",
        "\n"
      ]
    },
    {
      "cell_type": "markdown",
      "metadata": {
        "id": "WQFYmNbrs6gZ"
      },
      "source": [
        "### Método write.csv()\n",
        "\n",
        "`write.csv()`\n",
        "\n",
        "Realiza a escrita dos dados de um `DataFrame` em um arquivo `.csv`. Podem ser definidos vários parâmetros, como `path` para indicar o endereço do arquivo que é escrito, `header` para armazenar os nomes das colunas do `DataFrame` como um cabeçalho do arquivo e `sep` para especificar o caractere que separa os campos do arquivo. Uma lista completa desses parâmetros pode ser encontrada neste [link](https://docs.databricks.com/data/data-sources/read-csv.html). \n"
      ]
    },
    {
      "cell_type": "markdown",
      "metadata": {
        "id": "DRVoz-SGt87W"
      },
      "source": [
        "## 4.2 Criação dos DataFrames"
      ]
    },
    {
      "cell_type": "code",
      "metadata": {
        "cellView": "both",
        "id": "FNR-3dV6oYk4",
        "outputId": "31111f4e-ed5d-45d0-f0e1-408f2a732e8c",
        "colab": {
          "base_uri": "https://localhost:8080/"
        }
      },
      "source": [
        "#criando e exibindo o DataFrame para a tabela de dimensão cargo\n",
        "cargo = spark.read.csv(path=\"data/cargo.csv\", header=True, sep=\",\")\n",
        "cargo.show(5)\n",
        "cargo.printSchema()\n"
      ],
      "execution_count": 10,
      "outputs": [
        {
          "output_type": "stream",
          "text": [
            "+-------+--------------------+-------------------+--------------------+-----------------------+----------+\n",
            "|cargoPK|           cargoNome|cargoRegimeTrabalho|cargoJornadaTrabalho|cargoEscolaridadeMinima|cargoNivel|\n",
            "+-------+--------------------+-------------------+--------------------+-----------------------+----------+\n",
            "|      1|PROGRAMADOR DE SI...|         TEMPORARIO|                 20H|                  MEDIO|    JUNIOR|\n",
            "|      2|PROGRAMADOR DE SI...|         TEMPORARIO|                 20H|               SUPERIOR|     PLENO|\n",
            "|      3|PROGRAMADOR DE SI...|         TEMPORARIO|                 20H|                    POS|    SENIOR|\n",
            "|      4|PROGRAMADOR DE SI...|         TEMPORARIO|                 40H|                  MEDIO|    JUNIOR|\n",
            "|      5|PROGRAMADOR DE SI...|         TEMPORARIO|                 40H|               SUPERIOR|     PLENO|\n",
            "+-------+--------------------+-------------------+--------------------+-----------------------+----------+\n",
            "only showing top 5 rows\n",
            "\n",
            "root\n",
            " |-- cargoPK: string (nullable = true)\n",
            " |-- cargoNome: string (nullable = true)\n",
            " |-- cargoRegimeTrabalho: string (nullable = true)\n",
            " |-- cargoJornadaTrabalho: string (nullable = true)\n",
            " |-- cargoEscolaridadeMinima: string (nullable = true)\n",
            " |-- cargoNivel: string (nullable = true)\n",
            "\n"
          ],
          "name": "stdout"
        }
      ]
    },
    {
      "cell_type": "code",
      "metadata": {
        "id": "LPCF-SyBtuPW",
        "outputId": "2b6de524-2ccb-4ecf-f85d-5fefa74664da",
        "colab": {
          "base_uri": "https://localhost:8080/"
        }
      },
      "source": [
        "#criando e exibindo o DataFrame para a tabela de dimensão cliente\n",
        "cliente = spark.read.csv(path=\"data/cliente.csv\", header=True, sep=\",\")\n",
        "cliente.show(5)\n",
        "cliente.printSchema()"
      ],
      "execution_count": 11,
      "outputs": [
        {
          "output_type": "stream",
          "text": [
            "+---------+-------------------+-------------------+-------------+-----------------+------------------+-----------------+------------------+---------------+----------------+\n",
            "|clientePK|clienteNomeFantasia|       clienteSetor|clienteCidade|clienteEstadoNome|clienteEstadoSigla|clienteRegiaoNome|clienteRegiaoSigla|clientePaisNome|clientePaisSigla|\n",
            "+---------+-------------------+-------------------+-------------+-----------------+------------------+-----------------+------------------+---------------+----------------+\n",
            "|        1|           VIA FOOD|BEBIDAS E ALIMENTOS|    SAO PAULO|        SAO PAULO|                SP|          SUDESTE|                SE|         BRASIL|              BR|\n",
            "|        2|          VIA PIZZA|BEBIDAS E ALIMENTOS|    SAO PAULO|        SAO PAULO|                SP|          SUDESTE|                SE|         BRASIL|              BR|\n",
            "|        3|           VIA JAPA|BEBIDAS E ALIMENTOS|    SAO PAULO|        SAO PAULO|                SP|          SUDESTE|                SE|         BRASIL|              BR|\n",
            "|        4|            VIA VEG|BEBIDAS E ALIMENTOS|    SAO PAULO|        SAO PAULO|                SP|          SUDESTE|                SE|         BRASIL|              BR|\n",
            "|        5|          VIA DRINK|BEBIDAS E ALIMENTOS|   SAO CARLOS|        SAO PAULO|                SP|          SUDESTE|                SE|         BRASIL|              BR|\n",
            "+---------+-------------------+-------------------+-------------+-----------------+------------------+-----------------+------------------+---------------+----------------+\n",
            "only showing top 5 rows\n",
            "\n",
            "root\n",
            " |-- clientePK: string (nullable = true)\n",
            " |-- clienteNomeFantasia: string (nullable = true)\n",
            " |-- clienteSetor: string (nullable = true)\n",
            " |-- clienteCidade: string (nullable = true)\n",
            " |-- clienteEstadoNome: string (nullable = true)\n",
            " |-- clienteEstadoSigla: string (nullable = true)\n",
            " |-- clienteRegiaoNome: string (nullable = true)\n",
            " |-- clienteRegiaoSigla: string (nullable = true)\n",
            " |-- clientePaisNome: string (nullable = true)\n",
            " |-- clientePaisSigla: string (nullable = true)\n",
            "\n"
          ],
          "name": "stdout"
        }
      ]
    },
    {
      "cell_type": "code",
      "metadata": {
        "id": "w3p9dLUKts73",
        "outputId": "4e11e787-7207-490a-91ee-b77de928d08c",
        "colab": {
          "base_uri": "https://localhost:8080/"
        }
      },
      "source": [
        "#criando e exibindo o DataFrame para a tabela de dimensão data\n",
        "data = spark.read.csv(path=\"data/data.csv\", header=True, sep=\",\") \n",
        "data.show(5)\n",
        "data.printSchema()"
      ],
      "execution_count": 12,
      "outputs": [
        {
          "output_type": "stream",
          "text": [
            "+------+------------+-------+-------+------------+-------------+------------+-------+\n",
            "|dataPK|dataCompleta|dataDia|dataMes|dataBimestre|dataTrimestre|dataSemestre|dataAno|\n",
            "+------+------------+-------+-------+------------+-------------+------------+-------+\n",
            "|     1|    1/1/2016|      1|      1|           1|            1|           1|   2016|\n",
            "|     2|    2/1/2016|      2|      1|           1|            1|           1|   2016|\n",
            "|     3|    3/1/2016|      3|      1|           1|            1|           1|   2016|\n",
            "|     4|    4/1/2016|      4|      1|           1|            1|           1|   2016|\n",
            "|     5|    5/1/2016|      5|      1|           1|            1|           1|   2016|\n",
            "+------+------------+-------+-------+------------+-------------+------------+-------+\n",
            "only showing top 5 rows\n",
            "\n",
            "root\n",
            " |-- dataPK: string (nullable = true)\n",
            " |-- dataCompleta: string (nullable = true)\n",
            " |-- dataDia: string (nullable = true)\n",
            " |-- dataMes: string (nullable = true)\n",
            " |-- dataBimestre: string (nullable = true)\n",
            " |-- dataTrimestre: string (nullable = true)\n",
            " |-- dataSemestre: string (nullable = true)\n",
            " |-- dataAno: string (nullable = true)\n",
            "\n"
          ],
          "name": "stdout"
        }
      ]
    },
    {
      "cell_type": "code",
      "metadata": {
        "id": "Obef8NfyttuJ",
        "outputId": "66d96dd5-1b96-43ea-8709-6f145f8dd6d8",
        "colab": {
          "base_uri": "https://localhost:8080/"
        }
      },
      "source": [
        "#criando e exibindo o DataFrame para a tabela de dimensão equipe\n",
        "equipe = spark.read.csv(path=\"data/equipe.csv\", header=True, sep=\",\")\n",
        "equipe.show(5)\n",
        "equipe.printSchema()"
      ],
      "execution_count": 13,
      "outputs": [
        {
          "output_type": "stream",
          "text": [
            "+--------+-------------+--------------------+--------------+------------------+-----------------+----------------+-----------------+--------------+---------------+\n",
            "|equipePK|   equipeNome|          filialNome|  filialCidade|  filialEstadoNome|filialEstadoSigla|filialRegiaoNome|filialRegiaoSigla|filialPaisNome|filialPaisSigla|\n",
            "+--------+-------------+--------------------+--------------+------------------+-----------------+----------------+-----------------+--------------+---------------+\n",
            "|       1|APP - DESKTOP|SAO PAULO - AV. P...|     SAO PAULO|         SAO PAULO|               SP|         SUDESTE|               SE|        BRASIL|             BR|\n",
            "|       2|APP - DESKTOP|RIO DE JANEIRO - ...|RIO DE JANEIRO|    RIO DE JANEIRO|               RJ|         SUDESTE|               SE|        BRASIL|             BR|\n",
            "|       3|          WEB|SAO PAULO - AV. P...|     SAO PAULO|         SAO PAULO|               SP|         SUDESTE|               SE|        BRASIL|             BR|\n",
            "|       4|          WEB|RIO DE JANEIRO - ...|RIO DE JANEIRO|    RIO DE JANEIRO|               RJ|         SUDESTE|               SE|        BRASIL|             BR|\n",
            "|       5|          WEB|CAMPO GRANDE - CE...|  CAMPO GRANDE|MATO GROSSO DO SUL|               MS|    CENTRO-OESTE|               CO|        BRASIL|             BR|\n",
            "+--------+-------------+--------------------+--------------+------------------+-----------------+----------------+-----------------+--------------+---------------+\n",
            "only showing top 5 rows\n",
            "\n",
            "root\n",
            " |-- equipePK: string (nullable = true)\n",
            " |-- equipeNome: string (nullable = true)\n",
            " |-- filialNome: string (nullable = true)\n",
            " |-- filialCidade: string (nullable = true)\n",
            " |-- filialEstadoNome: string (nullable = true)\n",
            " |-- filialEstadoSigla: string (nullable = true)\n",
            " |-- filialRegiaoNome: string (nullable = true)\n",
            " |-- filialRegiaoSigla: string (nullable = true)\n",
            " |-- filialPaisNome: string (nullable = true)\n",
            " |-- filialPaisSigla: string (nullable = true)\n",
            "\n"
          ],
          "name": "stdout"
        }
      ]
    },
    {
      "cell_type": "code",
      "metadata": {
        "id": "RsF4rcS7Zp4O",
        "outputId": "57590e3e-e029-4ba0-9b0a-b15d353bf811",
        "colab": {
          "base_uri": "https://localhost:8080/"
        }
      },
      "source": [
        "#criando e exibindo o DataFrame para a tabela de fatos funcionario\n",
        "funcionario = spark.read.csv(path=\"data/funcionario.csv\", header=True, sep=\",\")\n",
        "funcionario.show(5)\n",
        "funcionario.printSchema()"
      ],
      "execution_count": 14,
      "outputs": [
        {
          "output_type": "stream",
          "text": [
            "+------+-------------+-------------+--------+------------------+-----------------+-----------------+-----------------+-----------+--------------+---------------+--------------+---------------+------------+-------------+\n",
            "|funcPK|funcMatricula|     funcNome|funcSexo|funcDataNascimento|funcDiaNascimento|funcMesNascimento|funcAnoNascimento| funcCidade|funcEstadoNome|funcEstadoSigla|funcRegiaoNome|funcRegiaoSigla|funcPaisNome|funcPaisSigla|\n",
            "+------+-------------+-------------+--------+------------------+-----------------+-----------------+-----------------+-----------+--------------+---------------+--------------+---------------+------------+-------------+\n",
            "|     1|          M-1|ALINE ALMEIDA|       F|          1/1/1990|                1|                1|             1990|  SAO PAULO|     SAO PAULO|             SP|       SUDESTE|             SE|      BRASIL|           BR|\n",
            "|     2|          M-2|   ARAO ALVES|       M|          2/2/1990|                2|                2|             1990|   CAMPINAS|     SAO PAULO|             SP|       SUDESTE|             SE|      BRASIL|           BR|\n",
            "|     3|          M-3| ARON ANDRADE|       M|          3/3/1990|                3|                3|             1990|     SANTOS|     SAO PAULO|             SP|       SUDESTE|             SE|      BRASIL|           BR|\n",
            "|     4|          M-4|  ADA BARBOSA|       F|          4/4/1990|                4|                4|             1990|SANTO ANDRE|     SAO PAULO|             SP|       SUDESTE|             SE|      BRASIL|           BR|\n",
            "|     5|          M-5|ABADE BATISTA|       M|          5/5/1990|                5|                5|             1990| PIRACICABA|     SAO PAULO|             SP|       SUDESTE|             SE|      BRASIL|           BR|\n",
            "+------+-------------+-------------+--------+------------------+-----------------+-----------------+-----------------+-----------+--------------+---------------+--------------+---------------+------------+-------------+\n",
            "only showing top 5 rows\n",
            "\n",
            "root\n",
            " |-- funcPK: string (nullable = true)\n",
            " |-- funcMatricula: string (nullable = true)\n",
            " |-- funcNome: string (nullable = true)\n",
            " |-- funcSexo: string (nullable = true)\n",
            " |-- funcDataNascimento: string (nullable = true)\n",
            " |-- funcDiaNascimento: string (nullable = true)\n",
            " |-- funcMesNascimento: string (nullable = true)\n",
            " |-- funcAnoNascimento: string (nullable = true)\n",
            " |-- funcCidade: string (nullable = true)\n",
            " |-- funcEstadoNome: string (nullable = true)\n",
            " |-- funcEstadoSigla: string (nullable = true)\n",
            " |-- funcRegiaoNome: string (nullable = true)\n",
            " |-- funcRegiaoSigla: string (nullable = true)\n",
            " |-- funcPaisNome: string (nullable = true)\n",
            " |-- funcPaisSigla: string (nullable = true)\n",
            "\n"
          ],
          "name": "stdout"
        }
      ]
    },
    {
      "cell_type": "code",
      "metadata": {
        "id": "s4aZ0M6OZvg2",
        "outputId": "492c42b3-c7fd-4af5-952f-4fd3f2cfdf9d",
        "colab": {
          "base_uri": "https://localhost:8080/"
        }
      },
      "source": [
        "#criando e exibindo o DataFrame para a tabela de fatos negociacao\n",
        "negociacao = spark.read.csv(path=\"data/negociacao.csv\", header=True, sep=\",\")\n",
        "negociacao.show(5)\n",
        "negociacao.printSchema()"
      ],
      "execution_count": 15,
      "outputs": [
        {
          "output_type": "stream",
          "text": [
            "+--------+---------+------+--------+---------------------+\n",
            "|equipePK|clientePK|dataPK| receita|quantidadeNegociacoes|\n",
            "+--------+---------+------+--------+---------------------+\n",
            "|       2|        9|    22|11564.75|                    1|\n",
            "|       2|       24|    11| 17990.5|                    1|\n",
            "|       2|       28|    21| 16335.9|                    1|\n",
            "|       1|       30|    23| 8495.55|                    1|\n",
            "|       2|       43|    30|24748.75|                    1|\n",
            "+--------+---------+------+--------+---------------------+\n",
            "only showing top 5 rows\n",
            "\n",
            "root\n",
            " |-- equipePK: string (nullable = true)\n",
            " |-- clientePK: string (nullable = true)\n",
            " |-- dataPK: string (nullable = true)\n",
            " |-- receita: string (nullable = true)\n",
            " |-- quantidadeNegociacoes: string (nullable = true)\n",
            "\n"
          ],
          "name": "stdout"
        }
      ]
    },
    {
      "cell_type": "code",
      "metadata": {
        "id": "DzVUaFptodHJ",
        "outputId": "2d60a019-145e-4d4c-9d19-05b10e1c2e63",
        "colab": {
          "base_uri": "https://localhost:8080/"
        }
      },
      "source": [
        "#criando e exibindo o DataFrame para a tabela de fatos pagamento\n",
        "pagamento = spark.read.csv(path=\"data/pagamento.csv\", header=True, sep=\",\")\n",
        "pagamento.show()\n",
        "pagamento.printSchema()"
      ],
      "execution_count": 16,
      "outputs": [
        {
          "output_type": "stream",
          "text": [
            "+------+--------+------+-------+--------+---------------------+\n",
            "|funcPK|equipePK|dataPK|cargoPK| salario|quantidadeLancamentos|\n",
            "+------+--------+------+-------+--------+---------------------+\n",
            "|   147|       2|     5|     64| 1559.94|                    1|\n",
            "|   124|       2|     5|    329| 8102.77|                    1|\n",
            "|   175|       1|     5|    328| 2532.51|                    1|\n",
            "|   171|       1|     5|    245|  7882.7|                    1|\n",
            "|   148|       2|     5|     65| 4404.59|                    1|\n",
            "|     5|       2|     5|    112| 2226.66|                    1|\n",
            "|   128|       1|     5|    341| 6157.04|                    1|\n",
            "|    82|       2|     5|     43| 1585.51|                    1|\n",
            "|    28|       1|     5|    253| 1594.02|                    1|\n",
            "|    46|       1|     5|    390| 9880.16|                    1|\n",
            "|    91|       2|     5|    233|10931.47|                    1|\n",
            "|   176|       2|     5|    241| 2005.49|                    1|\n",
            "|   172|       1|     5|    351|14218.28|                    1|\n",
            "|   155|       1|     5|    121| 2002.57|                    1|\n",
            "|    19|       2|     5|    223| 1778.26|                    1|\n",
            "|    94|       1|     5|    394|  2505.1|                    1|\n",
            "|    26|       2|     5|    350| 9162.46|                    1|\n",
            "|    55|       2|     5|    313| 3215.53|                    1|\n",
            "|    29|       1|     5|     62| 4128.44|                    1|\n",
            "|   181|       1|     5|    249|11082.75|                    1|\n",
            "+------+--------+------+-------+--------+---------------------+\n",
            "only showing top 20 rows\n",
            "\n",
            "root\n",
            " |-- funcPK: string (nullable = true)\n",
            " |-- equipePK: string (nullable = true)\n",
            " |-- dataPK: string (nullable = true)\n",
            " |-- cargoPK: string (nullable = true)\n",
            " |-- salario: string (nullable = true)\n",
            " |-- quantidadeLancamentos: string (nullable = true)\n",
            "\n"
          ],
          "name": "stdout"
        }
      ]
    },
    {
      "cell_type": "markdown",
      "metadata": {
        "id": "EM_lc4wAqwjQ"
      },
      "source": [
        "## 4.3 Manipulação da Tipagem dos Dados\n",
        "\n",
        "Como pode ser observado nos comandos relativos ao método `printSchema()` aplicado a cada um dos `DataFrames` gerados, todos os tipos de dados importados são *string*. Entretanto, alguns valores devem ser do tipo de dado *numérico*. Portanto, primeiramente é usado o método `cast()` para a conversão entre os tipos de dados e depois o método `withColumn()` para substituir a colunas existentes por novas colunas contendo os valores convertidos. \n",
        "\n",
        "É importante salientar que, mesmo que o parâmetro `inferSchema` fosse especificado como `true` no método `spark.read.csv()`, ainda existiria a necessidade de se verificar os tipos de dados e realizar a conversão caso necessário.    \n"
      ]
    },
    {
      "cell_type": "markdown",
      "metadata": {
        "id": "_FYAnVsGf-vm"
      },
      "source": [
        "### Método cast()\n",
        "\n",
        "`cast(tipoDeDado)`\n",
        "\n",
        "Converte o atributo para o `tipoDeDado` passado como parâmetro. Podem ser definidos os seguintes valores para `tipoDeDado`: DataType, NullType, StringType, BinaryType, BooleanType, DateType, TimestampType, DecimalType, DoubleType, FloatType, ByteType, IntegerType, LongType, ShortType, ArrayType, MapType, StructField, StructType.\n",
        "\n"
      ]
    },
    {
      "cell_type": "markdown",
      "metadata": {
        "id": "ezQ3qIR1xTI8"
      },
      "source": [
        "### Método withColumn()\n",
        "\n",
        "`withColumn(nomeColuna, exprColuna)`\n",
        "\n",
        "Retorna um novo `DataFrame` adicionando uma coluna de `nomeColuna` ou substituindo uma coluna existente que possui o mesmo nome `nomeColuna`, usando o parâmetro `exprColuna` para o preenchimento dos valores daquela coluna.  \n",
        "\n",
        "Este comando considera o `DataFrame` sobre o qual ele foi aplicado, não permitindo adicionar a esse `DataFrame` colunas de um segundo `DataFrame`."
      ]
    },
    {
      "cell_type": "markdown",
      "metadata": {
        "id": "mrch9vLgjl_H"
      },
      "source": [
        "## 4.4 Atualização dos Tipos de Dados "
      ]
    },
    {
      "cell_type": "markdown",
      "metadata": {
        "id": "9A_ot2pOjsWB"
      },
      "source": [
        "Nos comandos a seguir, primeiro são identificados quais colunas de quais `DataFrames` devem ser do tipo de dado inteiro. Na sequência, ocorre a conversão. Por fim, são exibidos os esquemas dos `DataFrames`, possibilitando visualizar a mudança de tipo de dados das colunas especificadas."
      ]
    },
    {
      "cell_type": "code",
      "metadata": {
        "id": "jmCV6Mur__z6"
      },
      "source": [
        "# identificando quais colunas de quais DataFrames devem ser do tipo de dado inteiro\n",
        "colunas_cargo = [\"cargoPK\"]\n",
        "colunas_cliente = [\"clientePK\"]\n",
        "colunas_data = [\"dataPk\", \"dataDia\", \"dataMes\", \"dataBimestre\", \"dataTrimestre\", \"dataSemestre\", \"dataAno\"]\n",
        "colunas_equipe = [\"equipePK\"]\n",
        "colunas_funcionario = [\"funcPK\", \"funcDiaNascimento\", \"funcMesNascimento\", \"funcAnoNascimento\"]\n",
        "colunas_negociacao = [\"equipePK\", \"clientePK\", \"dataPK\", \"quantidadeNegociacoes\"]\n",
        "colunas_pagamento = [\"funcPK\", \"equipePK\", \"dataPK\", \"cargoPK\", \"quantidadeLancamentos\"]"
      ],
      "execution_count": 17,
      "outputs": []
    },
    {
      "cell_type": "code",
      "metadata": {
        "id": "yPNnDJcG9R5H"
      },
      "source": [
        "# importando o tipo de dado desejado\n",
        "from pyspark.sql.types import IntegerType\n",
        "\n",
        "\n",
        "# atualizando o tipo de dado das colunas especificadas \n",
        "# substituindo as colunas já existentes \n",
        "\n",
        "for coluna in colunas_cargo:\n",
        "  cargo = cargo.withColumn(coluna, cargo[coluna].cast(IntegerType()))\n",
        "\n",
        "for coluna in colunas_cliente:\n",
        "  cliente = cliente.withColumn(coluna, cliente[coluna].cast(IntegerType()))\n",
        "\n",
        "for coluna in colunas_data:\n",
        "  data = data.withColumn(coluna, data[coluna].cast(IntegerType()))\n",
        "\n",
        "for coluna in colunas_equipe:\n",
        "  equipe = equipe.withColumn(coluna, equipe[coluna].cast(IntegerType()))\n",
        "\n",
        "for coluna in colunas_funcionario:\n",
        "  funcionario = funcionario.withColumn(coluna, funcionario[coluna].cast(IntegerType()))\n",
        "\n",
        "for coluna in colunas_negociacao:\n",
        "  negociacao = negociacao.withColumn(coluna, negociacao[coluna].cast(IntegerType()))\n",
        "\n",
        "for coluna in colunas_pagamento:\n",
        "  pagamento = pagamento.withColumn(coluna, pagamento[coluna].cast(IntegerType()))"
      ],
      "execution_count": 18,
      "outputs": []
    },
    {
      "cell_type": "code",
      "metadata": {
        "id": "DMCTiqh_iUsJ",
        "outputId": "6259cc1d-6838-4360-b2b2-9b3c73f4631a",
        "colab": {
          "base_uri": "https://localhost:8080/"
        }
      },
      "source": [
        "# exibindo o esquema dos DataFrames após as alterações realizadas\n",
        "cargo.printSchema()\n",
        "cliente.printSchema()\n",
        "data.printSchema()\n",
        "equipe.printSchema()\n",
        "funcionario.printSchema()\n",
        "pagamento.printSchema()\n",
        "negociacao.printSchema()"
      ],
      "execution_count": 19,
      "outputs": [
        {
          "output_type": "stream",
          "text": [
            "root\n",
            " |-- cargoPK: integer (nullable = true)\n",
            " |-- cargoNome: string (nullable = true)\n",
            " |-- cargoRegimeTrabalho: string (nullable = true)\n",
            " |-- cargoJornadaTrabalho: string (nullable = true)\n",
            " |-- cargoEscolaridadeMinima: string (nullable = true)\n",
            " |-- cargoNivel: string (nullable = true)\n",
            "\n",
            "root\n",
            " |-- clientePK: integer (nullable = true)\n",
            " |-- clienteNomeFantasia: string (nullable = true)\n",
            " |-- clienteSetor: string (nullable = true)\n",
            " |-- clienteCidade: string (nullable = true)\n",
            " |-- clienteEstadoNome: string (nullable = true)\n",
            " |-- clienteEstadoSigla: string (nullable = true)\n",
            " |-- clienteRegiaoNome: string (nullable = true)\n",
            " |-- clienteRegiaoSigla: string (nullable = true)\n",
            " |-- clientePaisNome: string (nullable = true)\n",
            " |-- clientePaisSigla: string (nullable = true)\n",
            "\n",
            "root\n",
            " |-- dataPk: integer (nullable = true)\n",
            " |-- dataCompleta: string (nullable = true)\n",
            " |-- dataDia: integer (nullable = true)\n",
            " |-- dataMes: integer (nullable = true)\n",
            " |-- dataBimestre: integer (nullable = true)\n",
            " |-- dataTrimestre: integer (nullable = true)\n",
            " |-- dataSemestre: integer (nullable = true)\n",
            " |-- dataAno: integer (nullable = true)\n",
            "\n",
            "root\n",
            " |-- equipePK: integer (nullable = true)\n",
            " |-- equipeNome: string (nullable = true)\n",
            " |-- filialNome: string (nullable = true)\n",
            " |-- filialCidade: string (nullable = true)\n",
            " |-- filialEstadoNome: string (nullable = true)\n",
            " |-- filialEstadoSigla: string (nullable = true)\n",
            " |-- filialRegiaoNome: string (nullable = true)\n",
            " |-- filialRegiaoSigla: string (nullable = true)\n",
            " |-- filialPaisNome: string (nullable = true)\n",
            " |-- filialPaisSigla: string (nullable = true)\n",
            "\n",
            "root\n",
            " |-- funcPK: integer (nullable = true)\n",
            " |-- funcMatricula: string (nullable = true)\n",
            " |-- funcNome: string (nullable = true)\n",
            " |-- funcSexo: string (nullable = true)\n",
            " |-- funcDataNascimento: string (nullable = true)\n",
            " |-- funcDiaNascimento: integer (nullable = true)\n",
            " |-- funcMesNascimento: integer (nullable = true)\n",
            " |-- funcAnoNascimento: integer (nullable = true)\n",
            " |-- funcCidade: string (nullable = true)\n",
            " |-- funcEstadoNome: string (nullable = true)\n",
            " |-- funcEstadoSigla: string (nullable = true)\n",
            " |-- funcRegiaoNome: string (nullable = true)\n",
            " |-- funcRegiaoSigla: string (nullable = true)\n",
            " |-- funcPaisNome: string (nullable = true)\n",
            " |-- funcPaisSigla: string (nullable = true)\n",
            "\n",
            "root\n",
            " |-- funcPK: integer (nullable = true)\n",
            " |-- equipePK: integer (nullable = true)\n",
            " |-- dataPK: integer (nullable = true)\n",
            " |-- cargoPK: integer (nullable = true)\n",
            " |-- salario: string (nullable = true)\n",
            " |-- quantidadeLancamentos: integer (nullable = true)\n",
            "\n",
            "root\n",
            " |-- equipePK: integer (nullable = true)\n",
            " |-- clientePK: integer (nullable = true)\n",
            " |-- dataPK: integer (nullable = true)\n",
            " |-- receita: string (nullable = true)\n",
            " |-- quantidadeNegociacoes: integer (nullable = true)\n",
            "\n"
          ],
          "name": "stdout"
        }
      ]
    },
    {
      "cell_type": "markdown",
      "metadata": {
        "id": "J0dX_7U_AzIY"
      },
      "source": [
        "Nos comandos a seguir, primeiro são identificados quais colunas de quais `DataFrames` devem ser do tipo de dado número de ponto flutuante. Na sequência, ocorre a conversão. Por fim, são exibidos os esquemas dos `DataFrames`, possibilitando visualizar a mudança de tipo de dados das colunas especificadas."
      ]
    },
    {
      "cell_type": "code",
      "metadata": {
        "id": "RBcQ7Ep7AWqN"
      },
      "source": [
        "# identificando quais colunas de quais DataFrames devem ser do tipo de dado número de ponto flutuante\n",
        "colunas_negociacao = [\"receita\"]\n",
        "colunas_pagamento = [\"salario\"]"
      ],
      "execution_count": 20,
      "outputs": []
    },
    {
      "cell_type": "code",
      "metadata": {
        "id": "rcfvkIK1BRSp"
      },
      "source": [
        "# importando o tipo de dado desejado\n",
        "from pyspark.sql.types import FloatType\n",
        "\n",
        "\n",
        "# atualizando o tipo de dado das colunas especificadas \n",
        "# substituindo as colunas já existentes \n",
        "\n",
        "for coluna in colunas_negociacao:\n",
        "  negociacao = negociacao.withColumn(coluna, negociacao[coluna].cast(FloatType()))\n",
        "\n",
        "for coluna in colunas_pagamento:\n",
        "  pagamento = pagamento.withColumn(coluna, pagamento[coluna].cast(FloatType()))"
      ],
      "execution_count": 21,
      "outputs": []
    },
    {
      "cell_type": "code",
      "metadata": {
        "id": "F_fDE1gwBoEG",
        "outputId": "54b3f55a-c505-476e-874d-3460affa4db9",
        "colab": {
          "base_uri": "https://localhost:8080/"
        }
      },
      "source": [
        "# exibindo o esquema dos DataFrames após as alterações realizadas\n",
        "pagamento.printSchema()\n",
        "negociacao.printSchema()"
      ],
      "execution_count": 22,
      "outputs": [
        {
          "output_type": "stream",
          "text": [
            "root\n",
            " |-- funcPK: integer (nullable = true)\n",
            " |-- equipePK: integer (nullable = true)\n",
            " |-- dataPK: integer (nullable = true)\n",
            " |-- cargoPK: integer (nullable = true)\n",
            " |-- salario: float (nullable = true)\n",
            " |-- quantidadeLancamentos: integer (nullable = true)\n",
            "\n",
            "root\n",
            " |-- equipePK: integer (nullable = true)\n",
            " |-- clientePK: integer (nullable = true)\n",
            " |-- dataPK: integer (nullable = true)\n",
            " |-- receita: float (nullable = true)\n",
            " |-- quantidadeNegociacoes: integer (nullable = true)\n",
            "\n"
          ],
          "name": "stdout"
        }
      ]
    },
    {
      "cell_type": "markdown",
      "metadata": {
        "id": "SohIY0GFj5oP"
      },
      "source": [
        "Note que outras conversões de formato também poderiam ser realizadas, como mudar as colunas referentes às datas para o tipo de dado `DateType`. "
      ]
    },
    {
      "cell_type": "markdown",
      "metadata": {
        "id": "2x0nrB3RukpX"
      },
      "source": [
        "#5 Métodos Similares às Cláusulas SQL"
      ]
    },
    {
      "cell_type": "markdown",
      "metadata": {
        "id": "C0y4a8vNk8es"
      },
      "source": [
        "O módulo `pyspark.sql` oferece diversos métodos com funcionalidades similares às cláusulas da linguagem SQL. Esses métodos são descritos considerando as similaridades com a estrutura básica do comando SELECT, com as funções de agregação e agrupamento e com as operações sobre conjuntos. "
      ]
    },
    {
      "cell_type": "markdown",
      "metadata": {
        "id": "flk6RXGRLhs8"
      },
      "source": [
        "## 5.1 Estrutura Básica do Comando SELECT"
      ]
    },
    {
      "cell_type": "markdown",
      "metadata": {
        "id": "MFvln3nMv3oq"
      },
      "source": [
        "### Método select()\n",
        "\n",
        "`select (coluna_1, ..., coluna_n)`\n",
        "\n",
        "Lista as colunas definidas, gerando um novo `DataFrame`. É possível utilizar o caractere `*` para indicar que todas as colunas do `DataFrame` devem ser exibidas. \n",
        "\n",
        "Este método é equivalente à cláusula `SELECT` da linguagem SQL."
      ]
    },
    {
      "cell_type": "markdown",
      "metadata": {
        "id": "Qm2BqCQ95l3r"
      },
      "source": [
        "Os comandos a seguir selecionam as duas primeiras colunas do `DataFrame funcionario`."
      ]
    },
    {
      "cell_type": "code",
      "metadata": {
        "id": "yZek4vPH5sDx",
        "outputId": "45b204cb-367b-4f74-846b-3cb782c89671",
        "colab": {
          "base_uri": "https://localhost:8080/"
        }
      },
      "source": [
        "#exemplo que mostra o esquema selecionado\n",
        "funcionario\\\n",
        "   .select('funcPK', 'funcMatricula')\n"
      ],
      "execution_count": 23,
      "outputs": [
        {
          "output_type": "execute_result",
          "data": {
            "text/plain": [
              "DataFrame[funcPK: int, funcMatricula: string]"
            ]
          },
          "metadata": {
            "tags": []
          },
          "execution_count": 23
        }
      ]
    },
    {
      "cell_type": "code",
      "metadata": {
        "id": "lYNZUwY-6UaT",
        "outputId": "991bba4b-6e61-4ece-a425-572f792ea6d1",
        "colab": {
          "base_uri": "https://localhost:8080/"
        }
      },
      "source": [
        "#exibindo os dados usando o método .take\n",
        "#exibindo linha a linha\n",
        "funcionario\\\n",
        "   .select('funcPK', 'funcMatricula')\\\n",
        "   .take(5)"
      ],
      "execution_count": 24,
      "outputs": [
        {
          "output_type": "execute_result",
          "data": {
            "text/plain": [
              "[Row(funcPK=1, funcMatricula='M-1'),\n",
              " Row(funcPK=2, funcMatricula='M-2'),\n",
              " Row(funcPK=3, funcMatricula='M-3'),\n",
              " Row(funcPK=4, funcMatricula='M-4'),\n",
              " Row(funcPK=5, funcMatricula='M-5')]"
            ]
          },
          "metadata": {
            "tags": []
          },
          "execution_count": 24
        }
      ]
    },
    {
      "cell_type": "code",
      "metadata": {
        "id": "98Un8DFf6V3z",
        "outputId": "f0d98700-92da-46ca-e8b1-e67825867264",
        "colab": {
          "base_uri": "https://localhost:8080/"
        }
      },
      "source": [
        "#exibindo as linhas na forma de tabela\n",
        "funcionario\\\n",
        "   .select('funcPK', 'funcMatricula')\\\n",
        "   .show(5)"
      ],
      "execution_count": 25,
      "outputs": [
        {
          "output_type": "stream",
          "text": [
            "+------+-------------+\n",
            "|funcPK|funcMatricula|\n",
            "+------+-------------+\n",
            "|     1|          M-1|\n",
            "|     2|          M-2|\n",
            "|     3|          M-3|\n",
            "|     4|          M-4|\n",
            "|     5|          M-5|\n",
            "+------+-------------+\n",
            "only showing top 5 rows\n",
            "\n"
          ],
          "name": "stdout"
        }
      ]
    },
    {
      "cell_type": "code",
      "metadata": {
        "id": "6VSXPshz-N8a",
        "outputId": "062e2883-a4ca-4637-8e09-ee216e79540e",
        "colab": {
          "base_uri": "https://localhost:8080/"
        }
      },
      "source": [
        "#exibindo as linhas na forma de tabela\n",
        "#forma de representação alternativa\n",
        "funcionario\\\n",
        "   .select(funcionario[\"funcPK\"], funcionario[\"funcMatricula\"])\\\n",
        "   .show(5)"
      ],
      "execution_count": 26,
      "outputs": [
        {
          "output_type": "stream",
          "text": [
            "+------+-------------+\n",
            "|funcPK|funcMatricula|\n",
            "+------+-------------+\n",
            "|     1|          M-1|\n",
            "|     2|          M-2|\n",
            "|     3|          M-3|\n",
            "|     4|          M-4|\n",
            "|     5|          M-5|\n",
            "+------+-------------+\n",
            "only showing top 5 rows\n",
            "\n"
          ],
          "name": "stdout"
        }
      ]
    },
    {
      "cell_type": "markdown",
      "metadata": {
        "id": "sJhFyXwkvTIH"
      },
      "source": [
        "### Método selectExpr()\n",
        "\n",
        "`selectExpr (expressao_1, ..., expressao_n)`\n",
        "\n",
        "Lista as expressões definidas, as quais podem ser nomes de colunas, gerando um novo `DataFrame`. \n",
        "\n",
        "Este método é uma variação do método `select()` que permite a especificação de expressões SQL. \n",
        "\n",
        "Este método é equivalente à cláusula `SELECT` da linguagem SQL."
      ]
    },
    {
      "cell_type": "markdown",
      "metadata": {
        "id": "49QKuNkHvxsE"
      },
      "source": [
        "O comando a seguir seleciona as duas primeiras colunas do `DataFrame funcionario`, multiplicando a primeira coluna por 2."
      ]
    },
    {
      "cell_type": "code",
      "metadata": {
        "id": "0Sx6Bkgvv5k4",
        "outputId": "15474d15-cc43-4070-8164-f5a1c3447920",
        "colab": {
          "base_uri": "https://localhost:8080/"
        }
      },
      "source": [
        "funcionario\\\n",
        "   .selectExpr(\"funcPK * 2\", \"funcMatricula\")\\\n",
        "   .show(5)"
      ],
      "execution_count": 27,
      "outputs": [
        {
          "output_type": "stream",
          "text": [
            "+------------+-------------+\n",
            "|(funcPK * 2)|funcMatricula|\n",
            "+------------+-------------+\n",
            "|           2|          M-1|\n",
            "|           4|          M-2|\n",
            "|           6|          M-3|\n",
            "|           8|          M-4|\n",
            "|          10|          M-5|\n",
            "+------------+-------------+\n",
            "only showing top 5 rows\n",
            "\n"
          ],
          "name": "stdout"
        }
      ]
    },
    {
      "cell_type": "markdown",
      "metadata": {
        "id": "U4SQpqjiCTw4"
      },
      "source": [
        "### Método distinct()\n",
        "\n",
        "`distinct()`\n",
        "\n",
        "Retorna um novo `DataFrame` contendo apenas linhas cujos valores são diferentes entre si. \n",
        "\n",
        "Este método é equivalente à cláusula `DISTINCT` da linguagem SQL."
      ]
    },
    {
      "cell_type": "markdown",
      "metadata": {
        "id": "bMXZtiIRFD86"
      },
      "source": [
        "Nos comandos a seguir, primeiro é listada somente a coluna `funcSexo` de funcionário, mostrando valores repetidos para os sexos. Na sequência, é listada a coluna `funcSexo` de funcionário, porém sem listar valores repetidos."
      ]
    },
    {
      "cell_type": "code",
      "metadata": {
        "id": "euGR31rjCqhT",
        "outputId": "458fd1bd-e2be-405e-df82-cd8e50787e02",
        "colab": {
          "base_uri": "https://localhost:8080/"
        }
      },
      "source": [
        "funcionario\\\n",
        "   .select('funcSexo')\\\n",
        "   .show(10)"
      ],
      "execution_count": 28,
      "outputs": [
        {
          "output_type": "stream",
          "text": [
            "+--------+\n",
            "|funcSexo|\n",
            "+--------+\n",
            "|       F|\n",
            "|       M|\n",
            "|       M|\n",
            "|       F|\n",
            "|       M|\n",
            "|       M|\n",
            "|       F|\n",
            "|       M|\n",
            "|       M|\n",
            "|       M|\n",
            "+--------+\n",
            "only showing top 10 rows\n",
            "\n"
          ],
          "name": "stdout"
        }
      ]
    },
    {
      "cell_type": "code",
      "metadata": {
        "id": "HYT6tK_ODj_H",
        "outputId": "6ed2c51c-9eeb-4ee5-a98b-faf5b418be95",
        "colab": {
          "base_uri": "https://localhost:8080/"
        }
      },
      "source": [
        "funcionario\\\n",
        "   .select('funcSexo')\\\n",
        "   .distinct()\\\n",
        "   .show()"
      ],
      "execution_count": 29,
      "outputs": [
        {
          "output_type": "stream",
          "text": [
            "+--------+\n",
            "|funcSexo|\n",
            "+--------+\n",
            "|       F|\n",
            "|       M|\n",
            "+--------+\n",
            "\n"
          ],
          "name": "stdout"
        }
      ]
    },
    {
      "cell_type": "markdown",
      "metadata": {
        "id": "1LzjS9SUzymp"
      },
      "source": [
        "### Método filter()\n",
        "\n",
        "`filter (condição)`\n",
        "\n",
        "Filtra as linhas do `DataFrame` de acordo com a `condição` especificada, gerando um novo `DataFrame`. Este método é equivalente ao método `where()`. \n",
        "\n",
        "Este método é equivalente à cláusula `WHERE` da linguagem SQL."
      ]
    },
    {
      "cell_type": "markdown",
      "metadata": {
        "id": "aG0vPBirBqio"
      },
      "source": [
        "O comando a seguir seleciona os funcionários do sexo feminino cujo valor de `funcPK` é maior do que 160."
      ]
    },
    {
      "cell_type": "code",
      "metadata": {
        "id": "mMKIeeQx8CIU",
        "outputId": "78568b01-f4db-4f44-8176-0ab7b4584fff",
        "colab": {
          "base_uri": "https://localhost:8080/"
        }
      },
      "source": [
        "funcionario\\\n",
        "   .filter(\"funcPK > 160 AND funcSexo = 'F'\")\\\n",
        "   .show()"
      ],
      "execution_count": 30,
      "outputs": [
        {
          "output_type": "stream",
          "text": [
            "+------+-------------+----------------+--------+------------------+-----------------+-----------------+-----------------+--------------+--------------+---------------+--------------+---------------+------------+-------------+\n",
            "|funcPK|funcMatricula|        funcNome|funcSexo|funcDataNascimento|funcDiaNascimento|funcMesNascimento|funcAnoNascimento|    funcCidade|funcEstadoNome|funcEstadoSigla|funcRegiaoNome|funcRegiaoSigla|funcPaisNome|funcPaisSigla|\n",
            "+------+-------------+----------------+--------+------------------+-----------------+-----------------+-----------------+--------------+--------------+---------------+--------------+---------------+------------+-------------+\n",
            "|   161|        M-161|  ABINOA ALMEIDA|       F|          9/5/1990|                9|                5|             1990|        RECIFE|    PERNAMBUCO|             PE|      NORDESTE|             NE|      BRASIL|           BR|\n",
            "|   162|        M-162|   ABINOAN ALVES|       F|         10/6/1990|               10|                6|             1990|        RECIFE|    PERNAMBUCO|             PE|      NORDESTE|             NE|      BRASIL|           BR|\n",
            "|   166|        M-166|ABIQUEILA BARROS|       F|        14/10/1990|               14|               10|             1990|   SANTO ANDRE|     SAO PAULO|             SP|       SUDESTE|             SE|      BRASIL|           BR|\n",
            "|   169|        M-169|ABISAGUE CARDOSO|       F|         17/1/1990|               17|                1|             1990|RIBEIRAO PRETO|     SAO PAULO|             SP|       SUDESTE|             SE|      BRASIL|           BR|\n",
            "|   179|        M-179|   ABKEILA GOMES|       F|        27/11/1957|               27|               11|             1957|BELO HORIZONTE|  MINAS GERAIS|             MG|       SUDESTE|             SE|      BRASIL|           BR|\n",
            "|   180|        M-180|     ADELAR LIMA|       F|        28/12/1958|               28|               12|             1958|      ARAGUARI|  MINAS GERAIS|             MG|       SUDESTE|             SE|      BRASIL|           BR|\n",
            "|   181|        M-181| ADILENE ALMEIDA|       F|         29/1/1959|               29|                1|             1959|    OURO PRETO|  MINAS GERAIS|             MG|       SUDESTE|             SE|      BRASIL|           BR|\n",
            "|   185|        M-185|    ADNA BATISTA|       F|          4/5/1963|                4|                5|             1963|     GUARATUBA|        PARANA|             PR|           SUL|              S|      BRASIL|           BR|\n",
            "|   195|        M-195|  ABNOAN FREITAS|       F|         14/3/1973|               14|                3|             1973|    SAO CARLOS|     SAO PAULO|             SP|       SUDESTE|             SE|      BRASIL|           BR|\n",
            "|   196|        M-196|ABNOAN FERNANDES|       F|         15/4/1974|               15|                4|             1974|RIBEIRAO PRETO|     SAO PAULO|             SP|       SUDESTE|             SE|      BRASIL|           BR|\n",
            "+------+-------------+----------------+--------+------------------+-----------------+-----------------+-----------------+--------------+--------------+---------------+--------------+---------------+------------+-------------+\n",
            "\n"
          ],
          "name": "stdout"
        }
      ]
    },
    {
      "cell_type": "markdown",
      "metadata": {
        "id": "H0H1NxQ65H8V"
      },
      "source": [
        "### Método where()\n",
        "\n",
        "`where (condição)`\n",
        "\n",
        "Filtra as linhas do `DataFrame` de acordo com a condição especificada, criando um novo `DataFrame`. Este método é equivalente ao método `filter()`. \n",
        "\n",
        "Este método é equivalente à cláusula `WHERE` da linguagem SQL."
      ]
    },
    {
      "cell_type": "markdown",
      "metadata": {
        "id": "Jx1Tq9VZB3bd"
      },
      "source": [
        "O comando a seguir seleciona os funcionários do sexo feminino cujo valor de `funcPK` é maior do que 160."
      ]
    },
    {
      "cell_type": "code",
      "metadata": {
        "id": "MtDWjjTwB8Ul",
        "outputId": "838b8dfa-9b26-4e4c-a219-4f21c4eecca8",
        "colab": {
          "base_uri": "https://localhost:8080/"
        }
      },
      "source": [
        "funcionario\\\n",
        "   .where(\"funcPK > 160 AND funcSexo = 'F'\")\\\n",
        "   .show()"
      ],
      "execution_count": 31,
      "outputs": [
        {
          "output_type": "stream",
          "text": [
            "+------+-------------+----------------+--------+------------------+-----------------+-----------------+-----------------+--------------+--------------+---------------+--------------+---------------+------------+-------------+\n",
            "|funcPK|funcMatricula|        funcNome|funcSexo|funcDataNascimento|funcDiaNascimento|funcMesNascimento|funcAnoNascimento|    funcCidade|funcEstadoNome|funcEstadoSigla|funcRegiaoNome|funcRegiaoSigla|funcPaisNome|funcPaisSigla|\n",
            "+------+-------------+----------------+--------+------------------+-----------------+-----------------+-----------------+--------------+--------------+---------------+--------------+---------------+------------+-------------+\n",
            "|   161|        M-161|  ABINOA ALMEIDA|       F|          9/5/1990|                9|                5|             1990|        RECIFE|    PERNAMBUCO|             PE|      NORDESTE|             NE|      BRASIL|           BR|\n",
            "|   162|        M-162|   ABINOAN ALVES|       F|         10/6/1990|               10|                6|             1990|        RECIFE|    PERNAMBUCO|             PE|      NORDESTE|             NE|      BRASIL|           BR|\n",
            "|   166|        M-166|ABIQUEILA BARROS|       F|        14/10/1990|               14|               10|             1990|   SANTO ANDRE|     SAO PAULO|             SP|       SUDESTE|             SE|      BRASIL|           BR|\n",
            "|   169|        M-169|ABISAGUE CARDOSO|       F|         17/1/1990|               17|                1|             1990|RIBEIRAO PRETO|     SAO PAULO|             SP|       SUDESTE|             SE|      BRASIL|           BR|\n",
            "|   179|        M-179|   ABKEILA GOMES|       F|        27/11/1957|               27|               11|             1957|BELO HORIZONTE|  MINAS GERAIS|             MG|       SUDESTE|             SE|      BRASIL|           BR|\n",
            "|   180|        M-180|     ADELAR LIMA|       F|        28/12/1958|               28|               12|             1958|      ARAGUARI|  MINAS GERAIS|             MG|       SUDESTE|             SE|      BRASIL|           BR|\n",
            "|   181|        M-181| ADILENE ALMEIDA|       F|         29/1/1959|               29|                1|             1959|    OURO PRETO|  MINAS GERAIS|             MG|       SUDESTE|             SE|      BRASIL|           BR|\n",
            "|   185|        M-185|    ADNA BATISTA|       F|          4/5/1963|                4|                5|             1963|     GUARATUBA|        PARANA|             PR|           SUL|              S|      BRASIL|           BR|\n",
            "|   195|        M-195|  ABNOAN FREITAS|       F|         14/3/1973|               14|                3|             1973|    SAO CARLOS|     SAO PAULO|             SP|       SUDESTE|             SE|      BRASIL|           BR|\n",
            "|   196|        M-196|ABNOAN FERNANDES|       F|         15/4/1974|               15|                4|             1974|RIBEIRAO PRETO|     SAO PAULO|             SP|       SUDESTE|             SE|      BRASIL|           BR|\n",
            "+------+-------------+----------------+--------+------------------+-----------------+-----------------+-----------------+--------------+--------------+---------------+--------------+---------------+------------+-------------+\n",
            "\n"
          ],
          "name": "stdout"
        }
      ]
    },
    {
      "cell_type": "markdown",
      "metadata": {
        "id": "rH96L5MqbVif"
      },
      "source": [
        "### Método between()\n",
        "\n",
        "`between (valorInferior, valorSuperior)`\n",
        "\n",
        "Retorna as linhas cujos valores são maiores ou iguais ao `valorInferior` e menores ou iguais ao `valorSuperior`.\n",
        "\n",
        "Este método é equivalente ao operador de comparação `BETWEEN ... AND` da linguagem SQL.\n"
      ]
    },
    {
      "cell_type": "markdown",
      "metadata": {
        "id": "I5pX68pUmtSZ"
      },
      "source": [
        "O comando a seguir seleciona os funcionários cujo valor de `funcPK` é maior ou igual a 10 e menor ou igual a 15."
      ]
    },
    {
      "cell_type": "code",
      "metadata": {
        "id": "DGInxweLmizE",
        "outputId": "41b4312b-02bd-4fff-8c43-f0b6d042c967",
        "colab": {
          "base_uri": "https://localhost:8080/"
        }
      },
      "source": [
        "funcionario\\\n",
        "   .filter(\"funcPK BETWEEN 10 AND 15\")\\\n",
        "   .show()"
      ],
      "execution_count": 32,
      "outputs": [
        {
          "output_type": "stream",
          "text": [
            "+------+-------------+---------------+--------+------------------+-----------------+-----------------+-----------------+--------------+--------------+---------------+--------------+---------------+------------+-------------+\n",
            "|funcPK|funcMatricula|       funcNome|funcSexo|funcDataNascimento|funcDiaNascimento|funcMesNascimento|funcAnoNascimento|    funcCidade|funcEstadoNome|funcEstadoSigla|funcRegiaoNome|funcRegiaoSigla|funcPaisNome|funcPaisSigla|\n",
            "+------+-------------+---------------+--------+------------------+-----------------+-----------------+-----------------+--------------+--------------+---------------+--------------+---------------+------------+-------------+\n",
            "|    10|         M-10| ADETE CARVALHO|       M|        10/10/1990|               10|               10|             1990|        OSASCO|     SAO PAULO|             SP|       SUDESTE|             SE|      BRASIL|           BR|\n",
            "|    11|         M-11|     ABD CASTRO|       M|        11/11/1990|               11|               11|             1990|    ARARAQUARA|     SAO PAULO|             SP|       SUDESTE|             SE|      BRASIL|           BR|\n",
            "|    12|         M-12|     ABDA COSTA|       F|        12/12/1990|               12|               12|             1990|       BARUERI|     SAO PAULO|             SP|       SUDESTE|             SE|      BRASIL|           BR|\n",
            "|    13|         M-13|    ABDIEL DIAS|       M|         13/1/1990|               13|                1|             1990|RIO DE JANEIRO|RIO DE JANEIRO|             RJ|       SUDESTE|             SE|      BRASIL|           BR|\n",
            "|    14|         M-14|  ABDALA DUARTE|       M|         14/2/1990|               14|                2|             1990| VOLTA REDONDA|RIO DE JANEIRO|             RJ|       SUDESTE|             SE|      BRASIL|           BR|\n",
            "|    15|         M-15|ABDALLA FREITAS|       M|         15/3/1990|               15|                3|             1990|ANGRA DOS REIS|RIO DE JANEIRO|             RJ|       SUDESTE|             SE|      BRASIL|           BR|\n",
            "+------+-------------+---------------+--------+------------------+-----------------+-----------------+-----------------+--------------+--------------+---------------+--------------+---------------+------------+-------------+\n",
            "\n"
          ],
          "name": "stdout"
        }
      ]
    },
    {
      "cell_type": "markdown",
      "metadata": {
        "id": "B5rg_-r4dA6z"
      },
      "source": [
        "### Métodos isNull() e isNotNull()\n",
        "\n",
        "Os métodos `isNull()` e `isNotNull()` estão relacionados com a verificação de valores nulos, da seguinte forma:\n",
        "\n",
        "- `isNull()`: Retorna verdadeiro se o valor do atributo for nulo. \n",
        "\n",
        "- `isNotNull()`: Retorna verdadeiro se o valor do atributo não for nulo.\n",
        "\n",
        "Estes métodos são equivalentes aos operadores de comparação `IS NULL` e `IS NOT NULL` da linguagem SQL."
      ]
    },
    {
      "cell_type": "markdown",
      "metadata": {
        "id": "IPy2sJeZm-Ka"
      },
      "source": [
        "Nos comandos a seguir, primeiramente solicita-se a listagem de todas as linhas cujo valor do atributo `funcPK` seja nulo. Nenhuma linha é retornada. Na sequência, são retornadas todas as linhas do `DataFrame` `funcionario`, desde que todos os valores do atributo `funcPK` não são nulos. "
      ]
    },
    {
      "cell_type": "code",
      "metadata": {
        "id": "SzbgGpfWd2nJ",
        "outputId": "e1467987-05fc-460c-ed84-beb8930743f6",
        "colab": {
          "base_uri": "https://localhost:8080/"
        }
      },
      "source": [
        "from pyspark.sql import Row\n",
        "\n",
        "funcionario\\\n",
        "   .filter(funcionario.funcPK.isNull())\\\n",
        "   .show(5)"
      ],
      "execution_count": 33,
      "outputs": [
        {
          "output_type": "stream",
          "text": [
            "+------+-------------+--------+--------+------------------+-----------------+-----------------+-----------------+----------+--------------+---------------+--------------+---------------+------------+-------------+\n",
            "|funcPK|funcMatricula|funcNome|funcSexo|funcDataNascimento|funcDiaNascimento|funcMesNascimento|funcAnoNascimento|funcCidade|funcEstadoNome|funcEstadoSigla|funcRegiaoNome|funcRegiaoSigla|funcPaisNome|funcPaisSigla|\n",
            "+------+-------------+--------+--------+------------------+-----------------+-----------------+-----------------+----------+--------------+---------------+--------------+---------------+------------+-------------+\n",
            "+------+-------------+--------+--------+------------------+-----------------+-----------------+-----------------+----------+--------------+---------------+--------------+---------------+------------+-------------+\n",
            "\n"
          ],
          "name": "stdout"
        }
      ]
    },
    {
      "cell_type": "code",
      "metadata": {
        "id": "Cy_tY5fmeRB5",
        "outputId": "f5d35de7-bfc5-4fff-e056-18efd291b70b",
        "colab": {
          "base_uri": "https://localhost:8080/"
        }
      },
      "source": [
        "funcionario\\\n",
        "   .filter(funcionario.funcPK.isNotNull())\\\n",
        "   .show(5)"
      ],
      "execution_count": 34,
      "outputs": [
        {
          "output_type": "stream",
          "text": [
            "+------+-------------+-------------+--------+------------------+-----------------+-----------------+-----------------+-----------+--------------+---------------+--------------+---------------+------------+-------------+\n",
            "|funcPK|funcMatricula|     funcNome|funcSexo|funcDataNascimento|funcDiaNascimento|funcMesNascimento|funcAnoNascimento| funcCidade|funcEstadoNome|funcEstadoSigla|funcRegiaoNome|funcRegiaoSigla|funcPaisNome|funcPaisSigla|\n",
            "+------+-------------+-------------+--------+------------------+-----------------+-----------------+-----------------+-----------+--------------+---------------+--------------+---------------+------------+-------------+\n",
            "|     1|          M-1|ALINE ALMEIDA|       F|          1/1/1990|                1|                1|             1990|  SAO PAULO|     SAO PAULO|             SP|       SUDESTE|             SE|      BRASIL|           BR|\n",
            "|     2|          M-2|   ARAO ALVES|       M|          2/2/1990|                2|                2|             1990|   CAMPINAS|     SAO PAULO|             SP|       SUDESTE|             SE|      BRASIL|           BR|\n",
            "|     3|          M-3| ARON ANDRADE|       M|          3/3/1990|                3|                3|             1990|     SANTOS|     SAO PAULO|             SP|       SUDESTE|             SE|      BRASIL|           BR|\n",
            "|     4|          M-4|  ADA BARBOSA|       F|          4/4/1990|                4|                4|             1990|SANTO ANDRE|     SAO PAULO|             SP|       SUDESTE|             SE|      BRASIL|           BR|\n",
            "|     5|          M-5|ABADE BATISTA|       M|          5/5/1990|                5|                5|             1990| PIRACICABA|     SAO PAULO|             SP|       SUDESTE|             SE|      BRASIL|           BR|\n",
            "+------+-------------+-------------+--------+------------------+-----------------+-----------------+-----------------+-----------+--------------+---------------+--------------+---------------+------------+-------------+\n",
            "only showing top 5 rows\n",
            "\n"
          ],
          "name": "stdout"
        }
      ]
    },
    {
      "cell_type": "markdown",
      "metadata": {
        "id": "zLTMTwIbecTz"
      },
      "source": [
        "### Método isin()\n",
        "\n",
        "`isin(listaDeValores)`\n",
        "\n",
        "Retorna verdadeiro se o valor do atributo estiver contido na `listaDeValores` passada como parâmetro.\n",
        "\n",
        "Este método é equivalente ao operador de comparação `IN` da linguagem SQL."
      ]
    },
    {
      "cell_type": "markdown",
      "metadata": {
        "id": "nt12rzSaneSa"
      },
      "source": [
        "No comando a seguir, são listados os dados dos funcionários cujo valor de `funcPK` está contido na lista identificada pelos valores `1, 2, 3, 4, 5`. "
      ]
    },
    {
      "cell_type": "code",
      "metadata": {
        "id": "JGcn-mGye-PO",
        "outputId": "2d5955d8-8252-4a6d-c283-4f3fa2b7bede",
        "colab": {
          "base_uri": "https://localhost:8080/"
        }
      },
      "source": [
        "funcionario[funcionario.funcPK.isin([1,2,3,4,5])]\\\n",
        "   .show()"
      ],
      "execution_count": 35,
      "outputs": [
        {
          "output_type": "stream",
          "text": [
            "+------+-------------+-------------+--------+------------------+-----------------+-----------------+-----------------+-----------+--------------+---------------+--------------+---------------+------------+-------------+\n",
            "|funcPK|funcMatricula|     funcNome|funcSexo|funcDataNascimento|funcDiaNascimento|funcMesNascimento|funcAnoNascimento| funcCidade|funcEstadoNome|funcEstadoSigla|funcRegiaoNome|funcRegiaoSigla|funcPaisNome|funcPaisSigla|\n",
            "+------+-------------+-------------+--------+------------------+-----------------+-----------------+-----------------+-----------+--------------+---------------+--------------+---------------+------------+-------------+\n",
            "|     1|          M-1|ALINE ALMEIDA|       F|          1/1/1990|                1|                1|             1990|  SAO PAULO|     SAO PAULO|             SP|       SUDESTE|             SE|      BRASIL|           BR|\n",
            "|     2|          M-2|   ARAO ALVES|       M|          2/2/1990|                2|                2|             1990|   CAMPINAS|     SAO PAULO|             SP|       SUDESTE|             SE|      BRASIL|           BR|\n",
            "|     3|          M-3| ARON ANDRADE|       M|          3/3/1990|                3|                3|             1990|     SANTOS|     SAO PAULO|             SP|       SUDESTE|             SE|      BRASIL|           BR|\n",
            "|     4|          M-4|  ADA BARBOSA|       F|          4/4/1990|                4|                4|             1990|SANTO ANDRE|     SAO PAULO|             SP|       SUDESTE|             SE|      BRASIL|           BR|\n",
            "|     5|          M-5|ABADE BATISTA|       M|          5/5/1990|                5|                5|             1990| PIRACICABA|     SAO PAULO|             SP|       SUDESTE|             SE|      BRASIL|           BR|\n",
            "+------+-------------+-------------+--------+------------------+-----------------+-----------------+-----------------+-----------+--------------+---------------+--------------+---------------+------------+-------------+\n",
            "\n"
          ],
          "name": "stdout"
        }
      ]
    },
    {
      "cell_type": "markdown",
      "metadata": {
        "id": "QNAasgklzke5"
      },
      "source": [
        "### Método like()\n",
        "\n",
        "like(expressão)\n",
        "\n",
        "Quando aplicado a uma coluna de um `DataFrame`, retorna as linhas que são similares à `expressão` definida como parâmetro.\n",
        "\n",
        "A comparação é sensível ao caso. Pode ser utilizado % para substituir qualquer *string*. \n",
        "\n",
        "Este método é equivalente ao operador de comparação `LIKE` da linguagem SQL.\n"
      ]
    },
    {
      "cell_type": "code",
      "metadata": {
        "id": "Q9Jelnu_0SR3",
        "outputId": "22d160b6-6c5a-4081-f8d0-50a33894025b",
        "colab": {
          "base_uri": "https://localhost:8080/"
        }
      },
      "source": [
        "funcionario\\\n",
        "   .filter(funcionario.funcNome.like('ADA%'))\\\n",
        "   .show()"
      ],
      "execution_count": 36,
      "outputs": [
        {
          "output_type": "stream",
          "text": [
            "+------+-------------+--------------+--------+------------------+-----------------+-----------------+-----------------+-----------+--------------+---------------+--------------+---------------+------------+-------------+\n",
            "|funcPK|funcMatricula|      funcNome|funcSexo|funcDataNascimento|funcDiaNascimento|funcMesNascimento|funcAnoNascimento| funcCidade|funcEstadoNome|funcEstadoSigla|funcRegiaoNome|funcRegiaoSigla|funcPaisNome|funcPaisSigla|\n",
            "+------+-------------+--------------+--------+------------------+-----------------+-----------------+-----------------+-----------+--------------+---------------+--------------+---------------+------------+-------------+\n",
            "|     4|          M-4|   ADA BARBOSA|       F|          4/4/1990|                4|                4|             1990|SANTO ANDRE|     SAO PAULO|             SP|       SUDESTE|             SE|      BRASIL|           BR|\n",
            "|    52|         M-52|ADAILTON COSTA|       M|         21/4/1951|               21|                4|             1951|     RECIFE|    PERNAMBUCO|             PE|      NORDESTE|             NE|      BRASIL|           BR|\n",
            "|   113|        M-113|    ADAIR DIAS|       F|         21/5/1990|               21|                5|             1990| PIRACICABA|     SAO PAULO|             SP|       SUDESTE|             SE|      BRASIL|           BR|\n",
            "+------+-------------+--------------+--------+------------------+-----------------+-----------------+-----------------+-----------+--------------+---------------+--------------+---------------+------------+-------------+\n",
            "\n"
          ],
          "name": "stdout"
        }
      ]
    },
    {
      "cell_type": "markdown",
      "metadata": {
        "id": "tl_EBG_25itp"
      },
      "source": [
        "### Método withColumnRenamed()\n",
        "\n",
        "`withColumnRenamed(nomeColunaAtual, novoNomeColuna)`\n",
        "\n",
        "Renomeia o nome de uma coluna já existente, identificado pelo parâmetro `nomeColunaAtual`, para o novo nome identificado pelo parâmetro `novoNomeColuna`. \n",
        "\n",
        "Este método é equivalente à cláusula AS da linguagem SQL quando utilizada para renomear atributos.\n",
        "\n"
      ]
    },
    {
      "cell_type": "code",
      "metadata": {
        "id": "FG0hdHYX6YIM",
        "outputId": "f7a92f02-70ef-433f-e047-ea9862778704",
        "colab": {
          "base_uri": "https://localhost:8080/"
        }
      },
      "source": [
        "pagamento\\\n",
        "   .select('*')\\\n",
        "   .show(2)"
      ],
      "execution_count": 37,
      "outputs": [
        {
          "output_type": "stream",
          "text": [
            "+------+--------+------+-------+-------+---------------------+\n",
            "|funcPK|equipePK|dataPK|cargoPK|salario|quantidadeLancamentos|\n",
            "+------+--------+------+-------+-------+---------------------+\n",
            "|   147|       2|     5|     64|1559.94|                    1|\n",
            "|   124|       2|     5|    329|8102.77|                    1|\n",
            "+------+--------+------+-------+-------+---------------------+\n",
            "only showing top 2 rows\n",
            "\n"
          ],
          "name": "stdout"
        }
      ]
    },
    {
      "cell_type": "code",
      "metadata": {
        "id": "QKXYQCrn6m1c",
        "outputId": "ed3b29c4-550a-4a94-f1c9-c277b08894bd",
        "colab": {
          "base_uri": "https://localhost:8080/"
        }
      },
      "source": [
        "pagamento\\\n",
        "   .withColumnRenamed(\"salario\", \"Salário do funcionário\")\\\n",
        "   .show(2)"
      ],
      "execution_count": 38,
      "outputs": [
        {
          "output_type": "stream",
          "text": [
            "+------+--------+------+-------+----------------------+---------------------+\n",
            "|funcPK|equipePK|dataPK|cargoPK|Salário do funcionário|quantidadeLancamentos|\n",
            "+------+--------+------+-------+----------------------+---------------------+\n",
            "|   147|       2|     5|     64|               1559.94|                    1|\n",
            "|   124|       2|     5|    329|               8102.77|                    1|\n",
            "+------+--------+------+-------+----------------------+---------------------+\n",
            "only showing top 2 rows\n",
            "\n"
          ],
          "name": "stdout"
        }
      ]
    },
    {
      "cell_type": "markdown",
      "metadata": {
        "id": "NyM9nbLXD_1F"
      },
      "source": [
        "### Método crossJoin()\n",
        "\n",
        "`crossJoin(segundoDataFrame)`\n",
        "\n",
        "Retorna o produto cartesiano de dois `DataFrames`, criando um novo `DataFrame`. É passado como parâmetro o segundo `DataFrame`. \n",
        "\n",
        "No produto cartesiano, quaisquer duas linhas são combinadas, independentemente da integridade referencial existente entre elas. Portanto, como resultado, são produzidas todas as combinações de linhas possíveis entre os dois `DataFrames` participantes.\n",
        "\n",
        "Este método é equivalente à cláusula `FROM` da linguagem SQL."
      ]
    },
    {
      "cell_type": "markdown",
      "metadata": {
        "id": "CMFKGyoUGArA"
      },
      "source": [
        "Nos comandos a seguir, é feito o produto cartesiano dos `DataFrames` relacionados a `funcionario` e `pagamento`, mostrando que `funcPK` de `funcionario` pode ser diferente de `funcPK` de `pagamento`."
      ]
    },
    {
      "cell_type": "code",
      "metadata": {
        "id": "eO1QacE0D_Pd",
        "outputId": "67d48c54-9dc6-41e8-f4b1-8922ddccad9f",
        "colab": {
          "base_uri": "https://localhost:8080/"
        }
      },
      "source": [
        "funcSelecionado = funcionario.select('funcPK', 'funcMatricula')\n",
        "pagSelecionado = pagamento.select ('funcPK', 'salario')\n",
        "funcSelecionado.crossJoin(pagSelecionado).show(10)"
      ],
      "execution_count": 39,
      "outputs": [
        {
          "output_type": "stream",
          "text": [
            "+------+-------------+------+-------+\n",
            "|funcPK|funcMatricula|funcPK|salario|\n",
            "+------+-------------+------+-------+\n",
            "|     1|          M-1|   147|1559.94|\n",
            "|     2|          M-2|   147|1559.94|\n",
            "|     3|          M-3|   147|1559.94|\n",
            "|     4|          M-4|   147|1559.94|\n",
            "|     5|          M-5|   147|1559.94|\n",
            "|     6|          M-6|   147|1559.94|\n",
            "|     7|          M-7|   147|1559.94|\n",
            "|     8|          M-8|   147|1559.94|\n",
            "|     9|          M-9|   147|1559.94|\n",
            "|    10|         M-10|   147|1559.94|\n",
            "+------+-------------+------+-------+\n",
            "only showing top 10 rows\n",
            "\n"
          ],
          "name": "stdout"
        }
      ]
    },
    {
      "cell_type": "markdown",
      "metadata": {
        "id": "ovQ_4BY-Gspn"
      },
      "source": [
        "### Método join()\n",
        "\n",
        "`join(segundoDataFrame, on=None, how=None)`\n",
        "\n",
        "Retorna a junção de dois `DataFrames`, criando um novo `DataFrame`. O primeiro parâmetro indica qual o segundo `DataFrame` a ser considerado na junção. O parâmetro `on` indica a condição de junção. O terceiro parâmetro, `how`, especifica como a junção deve ser feita. O valor padrão é `inner`. Também pode ser: `cross`, `outer`, `full`, `fullouter`, `full_outer`, `left`, `leftouter`, `left_outer`, `right`, `rightouter`, `right_outer`.\n",
        "\n",
        "Na junção,  as linhas são combinadas de acordo com a integridade referencial existente entre elas, a qual deve ser definida no parâmetro `on`.\n",
        "\n",
        "Este método é equivalente à cláusula `JOIN` da linguagem SQL."
      ]
    },
    {
      "cell_type": "markdown",
      "metadata": {
        "id": "nOR7WVG-IZDH"
      },
      "source": [
        "Nos comandos a seguir, é feita a junção interna (`inner join`) dos `DataFrames` relacionados a `funcionario` e `pagamento`, mostrando que `funcPK` de funcionario é igual à `funcPK` de `pagamento`."
      ]
    },
    {
      "cell_type": "code",
      "metadata": {
        "id": "2Z9j3u-AIlDa",
        "outputId": "6d6c79a5-1c5b-42e0-a7b3-bbb92b1d7f86",
        "colab": {
          "base_uri": "https://localhost:8080/"
        }
      },
      "source": [
        "# realizando a junção passo a passo\n",
        "funcSelecionado = funcionario.select('funcPK', 'funcMatricula')\n",
        "pagSelecionado = pagamento.select('funcPK', 'salario')\n",
        "funcSelecionado\\\n",
        "   .join(pagSelecionado, funcSelecionado[\"funcPK\"] == pagSelecionado[\"funcPK\"], 'inner')\\\n",
        "   .show(10)"
      ],
      "execution_count": 40,
      "outputs": [
        {
          "output_type": "stream",
          "text": [
            "+------+-------------+------+-------+\n",
            "|funcPK|funcMatricula|funcPK|salario|\n",
            "+------+-------------+------+-------+\n",
            "|   147|        M-147|   147|1559.94|\n",
            "|   124|        M-124|   124|8102.77|\n",
            "|   175|        M-175|   175|2532.51|\n",
            "|   171|        M-171|   171| 7882.7|\n",
            "|   148|        M-148|   148|4404.59|\n",
            "|     5|          M-5|     5|2226.66|\n",
            "|   128|        M-128|   128|6157.04|\n",
            "|    82|         M-82|    82|1585.51|\n",
            "|    28|         M-28|    28|1594.02|\n",
            "|    46|         M-46|    46|9880.16|\n",
            "+------+-------------+------+-------+\n",
            "only showing top 10 rows\n",
            "\n"
          ],
          "name": "stdout"
        }
      ]
    },
    {
      "cell_type": "code",
      "metadata": {
        "id": "DarDF8O-JreX",
        "outputId": "6c1e32bf-5b27-464d-95bd-188c191e9a84",
        "colab": {
          "base_uri": "https://localhost:8080/"
        }
      },
      "source": [
        "# eliminando a coluna funcPK repetida\n",
        "funcSelecionado\\\n",
        "   .join(pagSelecionado, 'funcPK', 'inner')\\\n",
        "   .show(10)"
      ],
      "execution_count": 41,
      "outputs": [
        {
          "output_type": "stream",
          "text": [
            "+------+-------------+-------+\n",
            "|funcPK|funcMatricula|salario|\n",
            "+------+-------------+-------+\n",
            "|   147|        M-147|1559.94|\n",
            "|   124|        M-124|8102.77|\n",
            "|   175|        M-175|2532.51|\n",
            "|   171|        M-171| 7882.7|\n",
            "|   148|        M-148|4404.59|\n",
            "|     5|          M-5|2226.66|\n",
            "|   128|        M-128|6157.04|\n",
            "|    82|         M-82|1585.51|\n",
            "|    28|         M-28|1594.02|\n",
            "|    46|         M-46|9880.16|\n",
            "+------+-------------+-------+\n",
            "only showing top 10 rows\n",
            "\n"
          ],
          "name": "stdout"
        }
      ]
    },
    {
      "cell_type": "markdown",
      "metadata": {
        "id": "KEK53WNrMGAS"
      },
      "source": [
        "### Método orderBy()\n",
        "\n",
        "`orderBy (colunas, ordena)`\n",
        "\n",
        "Ordena as linhas resultantes, gerando um novo `DataFrame`. Deve ser especificada uma lista de colunas ou os nomes de colunas a serem considerados na ordenação. Pode ser especificada também a ordenação ascendente ou descendente. \n",
        "\n",
        "Este método é equivalente à cláusula `ORDER BY` da linguagem SQL."
      ]
    },
    {
      "cell_type": "code",
      "metadata": {
        "id": "j8Xiqs-GNcgf",
        "outputId": "826efb3d-1dca-4dcf-f706-019f10ccbe93",
        "colab": {
          "base_uri": "https://localhost:8080/"
        }
      },
      "source": [
        "from pyspark.sql.functions import *\n",
        "\n",
        "funcionario.orderBy(desc(\"funcPK\")).show()"
      ],
      "execution_count": 42,
      "outputs": [
        {
          "output_type": "stream",
          "text": [
            "+------+-------------+----------------+--------+------------------+-----------------+-----------------+-----------------+--------------------+--------------+---------------+--------------+---------------+------------+-------------+\n",
            "|funcPK|funcMatricula|        funcNome|funcSexo|funcDataNascimento|funcDiaNascimento|funcMesNascimento|funcAnoNascimento|          funcCidade|funcEstadoNome|funcEstadoSigla|funcRegiaoNome|funcRegiaoSigla|funcPaisNome|funcPaisSigla|\n",
            "+------+-------------+----------------+--------+------------------+-----------------+-----------------+-----------------+--------------------+--------------+---------------+--------------+---------------+------------+-------------+\n",
            "|   200|        M-200|     ABRAAO LIMA|       M|         19/8/1978|               19|                8|             1978|          ARARAQUARA|     SAO PAULO|             SP|       SUDESTE|             SE|      BRASIL|           BR|\n",
            "|   199|        M-199|   ABRAHAM GOMES|       M|         18/7/1977|               18|                7|             1977|              OSASCO|     SAO PAULO|             SP|       SUDESTE|             SE|      BRASIL|           BR|\n",
            "|   198|        M-198|     ADRA GARCIA|       M|         17/6/1976|               17|                6|             1976|SAO JOSE DO RIO P...|     SAO PAULO|             SP|       SUDESTE|             SE|      BRASIL|           BR|\n",
            "|   197|        M-197| ADNAEL FERREIRA|       M|         16/5/1975|               16|                5|             1975|           ILHA BELA|     SAO PAULO|             SP|       SUDESTE|             SE|      BRASIL|           BR|\n",
            "|   196|        M-196|ABNOAN FERNANDES|       F|         15/4/1974|               15|                4|             1974|      RIBEIRAO PRETO|     SAO PAULO|             SP|       SUDESTE|             SE|      BRASIL|           BR|\n",
            "|   195|        M-195|  ABNOAN FREITAS|       F|         14/3/1973|               14|                3|             1973|          SAO CARLOS|     SAO PAULO|             SP|       SUDESTE|             SE|      BRASIL|           BR|\n",
            "|   194|        M-194|    ABNER DUARTE|       M|         13/2/1972|               13|                2|             1972|          PIRACICABA|     SAO PAULO|             SP|       SUDESTE|             SE|      BRASIL|           BR|\n",
            "|   193|        M-193|    ADNALDO DIAS|       M|         12/1/1971|               12|                1|             1971|         SANTO ANDRE|     SAO PAULO|             SP|       SUDESTE|             SE|      BRASIL|           BR|\n",
            "|   192|        M-192|     ADNEI COSTA|       M|        11/12/1970|               11|               12|             1970|              SANTOS|     SAO PAULO|             SP|       SUDESTE|             SE|      BRASIL|           BR|\n",
            "|   191|        M-191|    ABNER CASTRO|       M|        10/11/1969|               10|               11|             1969|            CAMPINAS|     SAO PAULO|             SP|       SUDESTE|             SE|      BRASIL|           BR|\n",
            "|   190|        M-190| ADNAEL CARVALHO|       M|         9/10/1968|                9|               10|             1968|           SAO PAULO|     SAO PAULO|             SP|       SUDESTE|             SE|      BRASIL|           BR|\n",
            "|   189|        M-189|   ABNER CARDOSO|       M|          8/9/1967|                8|                9|             1967|              RECIFE|    PERNAMBUCO|             PE|      NORDESTE|             NE|      BRASIL|           BR|\n",
            "|   188|        M-188|   ADNAEL CAMPOS|       M|          7/8/1966|                7|                8|             1966|              RECIFE|    PERNAMBUCO|             PE|      NORDESTE|             NE|      BRASIL|           BR|\n",
            "|   187|        M-187| ABNADABE BORGES|       M|          6/7/1965|                6|                7|             1965|              RECIFE|    PERNAMBUCO|             PE|      NORDESTE|             NE|      BRASIL|           BR|\n",
            "|   186|        M-186|  ABNADAB BARROS|       M|          5/6/1964|                5|                6|             1964|            MORRETES|        PARANA|             PR|           SUL|              S|      BRASIL|           BR|\n",
            "|   185|        M-185|    ADNA BATISTA|       F|          4/5/1963|                4|                5|             1963|           GUARATUBA|        PARANA|             PR|           SUL|              S|      BRASIL|           BR|\n",
            "|   184|        M-184| ADMARIO BARBOSA|       M|          3/4/1962|                3|                4|             1962|            LONDRINA|        PARANA|             PR|           SUL|              S|      BRASIL|           BR|\n",
            "|   183|        M-183|   ADMAR ANDRADE|       M|          2/3/1961|                2|                3|             1961|            CURITIBA|        PARANA|             PR|           SUL|              S|      BRASIL|           BR|\n",
            "|   182|        M-182|    ABMAEL ALVES|       M|          1/2/1960|                1|                2|             1960|         MONTE VERDE|  MINAS GERAIS|             MG|       SUDESTE|             SE|      BRASIL|           BR|\n",
            "|   181|        M-181| ADILENE ALMEIDA|       F|         29/1/1959|               29|                1|             1959|          OURO PRETO|  MINAS GERAIS|             MG|       SUDESTE|             SE|      BRASIL|           BR|\n",
            "+------+-------------+----------------+--------+------------------+-----------------+-----------------+-----------------+--------------------+--------------+---------------+--------------+---------------+------------+-------------+\n",
            "only showing top 20 rows\n",
            "\n"
          ],
          "name": "stdout"
        }
      ]
    },
    {
      "cell_type": "code",
      "metadata": {
        "id": "wBB4oPXUPbVh",
        "outputId": "0b351775-a035-43da-98f6-8c43b610e53f",
        "colab": {
          "base_uri": "https://localhost:8080/"
        }
      },
      "source": [
        "funcionario.orderBy([\"funcPK\"],ascending=[0]).show()"
      ],
      "execution_count": 43,
      "outputs": [
        {
          "output_type": "stream",
          "text": [
            "+------+-------------+----------------+--------+------------------+-----------------+-----------------+-----------------+--------------------+--------------+---------------+--------------+---------------+------------+-------------+\n",
            "|funcPK|funcMatricula|        funcNome|funcSexo|funcDataNascimento|funcDiaNascimento|funcMesNascimento|funcAnoNascimento|          funcCidade|funcEstadoNome|funcEstadoSigla|funcRegiaoNome|funcRegiaoSigla|funcPaisNome|funcPaisSigla|\n",
            "+------+-------------+----------------+--------+------------------+-----------------+-----------------+-----------------+--------------------+--------------+---------------+--------------+---------------+------------+-------------+\n",
            "|   200|        M-200|     ABRAAO LIMA|       M|         19/8/1978|               19|                8|             1978|          ARARAQUARA|     SAO PAULO|             SP|       SUDESTE|             SE|      BRASIL|           BR|\n",
            "|   199|        M-199|   ABRAHAM GOMES|       M|         18/7/1977|               18|                7|             1977|              OSASCO|     SAO PAULO|             SP|       SUDESTE|             SE|      BRASIL|           BR|\n",
            "|   198|        M-198|     ADRA GARCIA|       M|         17/6/1976|               17|                6|             1976|SAO JOSE DO RIO P...|     SAO PAULO|             SP|       SUDESTE|             SE|      BRASIL|           BR|\n",
            "|   197|        M-197| ADNAEL FERREIRA|       M|         16/5/1975|               16|                5|             1975|           ILHA BELA|     SAO PAULO|             SP|       SUDESTE|             SE|      BRASIL|           BR|\n",
            "|   196|        M-196|ABNOAN FERNANDES|       F|         15/4/1974|               15|                4|             1974|      RIBEIRAO PRETO|     SAO PAULO|             SP|       SUDESTE|             SE|      BRASIL|           BR|\n",
            "|   195|        M-195|  ABNOAN FREITAS|       F|         14/3/1973|               14|                3|             1973|          SAO CARLOS|     SAO PAULO|             SP|       SUDESTE|             SE|      BRASIL|           BR|\n",
            "|   194|        M-194|    ABNER DUARTE|       M|         13/2/1972|               13|                2|             1972|          PIRACICABA|     SAO PAULO|             SP|       SUDESTE|             SE|      BRASIL|           BR|\n",
            "|   193|        M-193|    ADNALDO DIAS|       M|         12/1/1971|               12|                1|             1971|         SANTO ANDRE|     SAO PAULO|             SP|       SUDESTE|             SE|      BRASIL|           BR|\n",
            "|   192|        M-192|     ADNEI COSTA|       M|        11/12/1970|               11|               12|             1970|              SANTOS|     SAO PAULO|             SP|       SUDESTE|             SE|      BRASIL|           BR|\n",
            "|   191|        M-191|    ABNER CASTRO|       M|        10/11/1969|               10|               11|             1969|            CAMPINAS|     SAO PAULO|             SP|       SUDESTE|             SE|      BRASIL|           BR|\n",
            "|   190|        M-190| ADNAEL CARVALHO|       M|         9/10/1968|                9|               10|             1968|           SAO PAULO|     SAO PAULO|             SP|       SUDESTE|             SE|      BRASIL|           BR|\n",
            "|   189|        M-189|   ABNER CARDOSO|       M|          8/9/1967|                8|                9|             1967|              RECIFE|    PERNAMBUCO|             PE|      NORDESTE|             NE|      BRASIL|           BR|\n",
            "|   188|        M-188|   ADNAEL CAMPOS|       M|          7/8/1966|                7|                8|             1966|              RECIFE|    PERNAMBUCO|             PE|      NORDESTE|             NE|      BRASIL|           BR|\n",
            "|   187|        M-187| ABNADABE BORGES|       M|          6/7/1965|                6|                7|             1965|              RECIFE|    PERNAMBUCO|             PE|      NORDESTE|             NE|      BRASIL|           BR|\n",
            "|   186|        M-186|  ABNADAB BARROS|       M|          5/6/1964|                5|                6|             1964|            MORRETES|        PARANA|             PR|           SUL|              S|      BRASIL|           BR|\n",
            "|   185|        M-185|    ADNA BATISTA|       F|          4/5/1963|                4|                5|             1963|           GUARATUBA|        PARANA|             PR|           SUL|              S|      BRASIL|           BR|\n",
            "|   184|        M-184| ADMARIO BARBOSA|       M|          3/4/1962|                3|                4|             1962|            LONDRINA|        PARANA|             PR|           SUL|              S|      BRASIL|           BR|\n",
            "|   183|        M-183|   ADMAR ANDRADE|       M|          2/3/1961|                2|                3|             1961|            CURITIBA|        PARANA|             PR|           SUL|              S|      BRASIL|           BR|\n",
            "|   182|        M-182|    ABMAEL ALVES|       M|          1/2/1960|                1|                2|             1960|         MONTE VERDE|  MINAS GERAIS|             MG|       SUDESTE|             SE|      BRASIL|           BR|\n",
            "|   181|        M-181| ADILENE ALMEIDA|       F|         29/1/1959|               29|                1|             1959|          OURO PRETO|  MINAS GERAIS|             MG|       SUDESTE|             SE|      BRASIL|           BR|\n",
            "+------+-------------+----------------+--------+------------------+-----------------+-----------------+-----------------+--------------------+--------------+---------------+--------------+---------------+------------+-------------+\n",
            "only showing top 20 rows\n",
            "\n"
          ],
          "name": "stdout"
        }
      ]
    },
    {
      "cell_type": "markdown",
      "metadata": {
        "id": "iyA5YJ6YR2UK"
      },
      "source": [
        "## 5.2 Agregação e Agrupamento"
      ]
    },
    {
      "cell_type": "markdown",
      "metadata": {
        "id": "dWJaNTkkW74W"
      },
      "source": [
        "As funções de agregação e agrupamento somente podem ser aplicadas a tipos de dados numéricos."
      ]
    },
    {
      "cell_type": "markdown",
      "metadata": {
        "id": "X4z-vBThpbPM"
      },
      "source": [
        "### Método sum()\n",
        "\n",
        "`sum(listaDeColunas)`\n",
        "\n",
        "Calcula a soma dos valores para cada coluna especificada no parâmetro  `listaDeColunas`, considerando cada agrupamento. \n",
        "\n",
        "Este método é equivalente à função `SUM()` do SQL."
      ]
    },
    {
      "cell_type": "code",
      "metadata": {
        "id": "vIqWcieE69X3",
        "outputId": "e9276e1a-e637-4c77-85cf-e3542d7d82ac",
        "colab": {
          "base_uri": "https://localhost:8080/"
        }
      },
      "source": [
        "# listando a soma dos salários e a soma da quantidade de lancamentos\n",
        "pagamento\\\n",
        "   .select(\"salario\",\"quantidadeLancamentos\")\\\n",
        "   .groupBy()\\\n",
        "   .sum(\"salario\",\"quantidadeLancamentos\")\\\n",
        "   .withColumnRenamed(\"sum(salario)\", \"Soma dos salários\")\\\n",
        "   .withColumnRenamed(\"sum(quantidadeLancamentos)\", \"Quantidade Total de Lançamentos\")\\\n",
        "   .show() "
      ],
      "execution_count": 44,
      "outputs": [
        {
          "output_type": "stream",
          "text": [
            "+-------------------+-------------------------------+\n",
            "|  Soma dos salários|Quantidade Total de Lançamentos|\n",
            "+-------------------+-------------------------------+\n",
            "|6.628875631347656E7|                           8640|\n",
            "+-------------------+-------------------------------+\n",
            "\n"
          ],
          "name": "stdout"
        }
      ]
    },
    {
      "cell_type": "markdown",
      "metadata": {
        "id": "2AGzCpCrqNVD"
      },
      "source": [
        "### Método min()\n",
        "\n",
        "`min(listaDeColunas)`\n",
        "\n",
        "Calcula o menor valor para cada coluna especificada no parâmetro  `listaDeColunas`, considerando cada agrupamento. \n",
        "\n",
        "Este método é equivalente à função `MIN()` do SQL."
      ]
    },
    {
      "cell_type": "code",
      "metadata": {
        "id": "X5Shi9U0sDfz",
        "outputId": "67432b72-abf9-4eb7-f0b1-5da9e03a79e9",
        "colab": {
          "base_uri": "https://localhost:8080/"
        }
      },
      "source": [
        "# listando o menor salário \n",
        "pagamento\\\n",
        "   .select(\"salario\")\\\n",
        "   .groupBy()\\\n",
        "   .min(\"salario\")\\\n",
        "   .withColumnRenamed(\"min(salario)\", \"Menor Salário\")\\\n",
        "   .show()\n",
        "   "
      ],
      "execution_count": 45,
      "outputs": [
        {
          "output_type": "stream",
          "text": [
            "+-------------+\n",
            "|Menor Salário|\n",
            "+-------------+\n",
            "|      1501.57|\n",
            "+-------------+\n",
            "\n"
          ],
          "name": "stdout"
        }
      ]
    },
    {
      "cell_type": "markdown",
      "metadata": {
        "id": "QCj6gzu1qUyy"
      },
      "source": [
        "### Método max()\n",
        "\n",
        "`max(listaDeColunas)`\n",
        "\n",
        "Calcula o maior valor para cada coluna especificada no parâmetro  `listaDeColunas`, considerando cada agrupamento. \n",
        "\n",
        "Este método é equivalente à função `MAX()` do SQL."
      ]
    },
    {
      "cell_type": "code",
      "metadata": {
        "id": "C7niTNBq8C08",
        "outputId": "8930f7e3-c085-48a5-ea78-92135f8d2918",
        "colab": {
          "base_uri": "https://localhost:8080/"
        }
      },
      "source": [
        "# listando o maior salário \n",
        "pagamento\\\n",
        "   .select(\"salario\")\\\n",
        "   .groupBy()\\\n",
        "   .max(\"salario\")\\\n",
        "   .withColumnRenamed(\"max(salario)\", \"Maior Salário\")\\\n",
        "   .show()"
      ],
      "execution_count": 46,
      "outputs": [
        {
          "output_type": "stream",
          "text": [
            "+-------------+\n",
            "|Maior Salário|\n",
            "+-------------+\n",
            "|     47140.17|\n",
            "+-------------+\n",
            "\n"
          ],
          "name": "stdout"
        }
      ]
    },
    {
      "cell_type": "markdown",
      "metadata": {
        "id": "AOtTCxQnqsgN"
      },
      "source": [
        "### Método avg()\n",
        "\n",
        "`avg(listaDeColunas)`\n",
        "\n",
        "Calcula o valor médio para cada coluna especificada no parâmetro `listaDeColunas`, considerando cada grupo.  Este método é equivalente ao método `mean()`.\n",
        "\n",
        "Este método é equivalente à função de agregação `AVG()` da linguagem SQL."
      ]
    },
    {
      "cell_type": "code",
      "metadata": {
        "id": "5sdyzIh2bvud",
        "outputId": "3ffb4621-b39a-424e-9e14-87564493ae93",
        "colab": {
          "base_uri": "https://localhost:8080/"
        }
      },
      "source": [
        "pagamento\\\n",
        "   .select(\"salario\")\\\n",
        "   .groupBy()\\\n",
        "   .avg(\"salario\")\\\n",
        "   .withColumn(\"avg(salario)\", round(\"avg(salario)\",2))\\\n",
        "   .withColumnRenamed(\"avg(salario)\", \"Média dos Salários\")\\\n",
        "   .show()"
      ],
      "execution_count": 47,
      "outputs": [
        {
          "output_type": "stream",
          "text": [
            "+------------------+\n",
            "|Média dos Salários|\n",
            "+------------------+\n",
            "|           7672.31|\n",
            "+------------------+\n",
            "\n"
          ],
          "name": "stdout"
        }
      ]
    },
    {
      "cell_type": "markdown",
      "metadata": {
        "id": "2VzVeDEJq3-w"
      },
      "source": [
        "### Método mean()\n",
        "\n",
        "`mean(listaDeColunas)`\n",
        "\n",
        "Calcula o valor médio para cada coluna especificada no parâmetro `listaDeColunas`, considerando cada grupo.  Este método é equivalente ao método `avg()`.\n",
        "\n",
        "Este método é equivalente à função de agregação `AVG()` da linguagem SQL."
      ]
    },
    {
      "cell_type": "code",
      "metadata": {
        "id": "STK4EoFvssGi",
        "outputId": "72d71af2-c2fd-4022-e5d2-b233adb12598",
        "colab": {
          "base_uri": "https://localhost:8080/"
        }
      },
      "source": [
        "# listando a média dos salários \n",
        "pagamento\\\n",
        "   .select(\"salario\")\\\n",
        "   .groupBy()\\\n",
        "   .mean(\"salario\")\\\n",
        "   .withColumn(\"avg(salario)\", round(\"avg(salario)\",2))\\\n",
        "   .withColumnRenamed(\"avg(salario)\", \"Média dos Salários\")\\\n",
        "   .show()"
      ],
      "execution_count": 48,
      "outputs": [
        {
          "output_type": "stream",
          "text": [
            "+------------------+\n",
            "|Média dos Salários|\n",
            "+------------------+\n",
            "|           7672.31|\n",
            "+------------------+\n",
            "\n"
          ],
          "name": "stdout"
        }
      ]
    },
    {
      "cell_type": "markdown",
      "metadata": {
        "id": "Vasq_HQarcxx"
      },
      "source": [
        "Método count()\n",
        "\n",
        "`count()`\n",
        "\n",
        "Retorna o número de linhas de um `DataFrame`.\n",
        "\n",
        "Este método é equivalente à função de agregação `COUNT()` da linguagem SQL."
      ]
    },
    {
      "cell_type": "code",
      "metadata": {
        "id": "3DZW44VrswEW",
        "outputId": "ec0cb5a7-4f61-456e-ba7b-76bc8206098d",
        "colab": {
          "base_uri": "https://localhost:8080/"
        }
      },
      "source": [
        "# retornando a quantidade de linhas de pagamento\n",
        "pagamento.count()"
      ],
      "execution_count": 49,
      "outputs": [
        {
          "output_type": "execute_result",
          "data": {
            "text/plain": [
              "8640"
            ]
          },
          "metadata": {
            "tags": []
          },
          "execution_count": 49
        }
      ]
    },
    {
      "cell_type": "markdown",
      "metadata": {
        "id": "mtvB_NgWakPQ"
      },
      "source": [
        "### Método agg()"
      ]
    },
    {
      "cell_type": "markdown",
      "metadata": {
        "id": "3Ruw68nXtpGH"
      },
      "source": [
        "`agg(listaDeExpressões)`\n",
        "\n",
        "Aplica um método de agregação a todas as linhas do `DataFrame`, sem considerar agrupamentos. O parâmetro listaDeExpressões indica, para cada atributo sendo considerado, qual o método de agregação que deve ser aplicado. O método `agg()` representa uma sintaxe resumida para `groupBy.agg()`.  \n"
      ]
    },
    {
      "cell_type": "code",
      "metadata": {
        "id": "ceLxQs9UuUnY",
        "outputId": "d59a3a54-293d-4086-a8e7-dd45c16bc2b6",
        "colab": {
          "base_uri": "https://localhost:8080/"
        }
      },
      "source": [
        "# listando o maior salário e a soma das quantidades de lançamentos\n",
        "pagamento\\\n",
        "   .agg({\"salario\": \"max\", \"quantidadeLancamentos\": \"sum\"})\\\n",
        "   .withColumnRenamed(\"max(salario)\", \"Maior Salário\")\\\n",
        "   .withColumnRenamed(\"sum(quantidadeLancamentos)\", \"Quantidade Total de Lançamentos\")\\\n",
        "   .show()"
      ],
      "execution_count": 50,
      "outputs": [
        {
          "output_type": "stream",
          "text": [
            "+-------------+-------------------------------+\n",
            "|Maior Salário|Quantidade Total de Lançamentos|\n",
            "+-------------+-------------------------------+\n",
            "|     47140.17|                           8640|\n",
            "+-------------+-------------------------------+\n",
            "\n"
          ],
          "name": "stdout"
        }
      ]
    },
    {
      "cell_type": "markdown",
      "metadata": {
        "id": "ehosf7hhvQad"
      },
      "source": [
        "### Método groupBy()\n",
        "\n",
        "`groupBy(listaDeColunas)`\n",
        "\n",
        "Aplica um método de agregação a um grupo de conjunto de linhas, retornando para cada grupo do conjunto de linhas um único valor. \n",
        "\n",
        "Este método é equivalente à cláusula `GROUP BY` da linguagem SQL."
      ]
    },
    {
      "cell_type": "markdown",
      "metadata": {
        "id": "nZfho3lUvxrK"
      },
      "source": [
        "O comando a seguir lista, para cada funcPK, a soma dos salários recebidos. "
      ]
    },
    {
      "cell_type": "code",
      "metadata": {
        "id": "duipRNNBvPXx",
        "outputId": "248d8c60-ae3f-45d0-b7e7-bf5642c3b7c7",
        "colab": {
          "base_uri": "https://localhost:8080/"
        }
      },
      "source": [
        "pagamento\\\n",
        "   .select(\"funcPK\", \"salario\")\\\n",
        "   .groupBy(\"funcPK\")\\\n",
        "   .sum(\"salario\")\\\n",
        "   .orderBy(\"funcPK\")\\\n",
        "   .withColumnRenamed(\"sum(salario)\", \"Soma dos Salários\")\\\n",
        "   .show()"
      ],
      "execution_count": 51,
      "outputs": [
        {
          "output_type": "stream",
          "text": [
            "+------+-----------------+\n",
            "|funcPK|Soma dos Salários|\n",
            "+------+-----------------+\n",
            "|     1|   864589.2890625|\n",
            "|     2|    80109.1171875|\n",
            "|     3|   284531.2734375|\n",
            "|     4|    503910.703125|\n",
            "|     5|133599.5947265625|\n",
            "|     6|   248232.9609375|\n",
            "|     7|     347159.53125|\n",
            "|     8| 43802.3994140625|\n",
            "|     9|    628010.859375|\n",
            "|    10|  332712.01171875|\n",
            "|    11|   331538.8828125|\n",
            "|    12|  72875.759765625|\n",
            "|    13|      289336.3125|\n",
            "|    14| 150465.603515625|\n",
            "|    15|    218086.078125|\n",
            "|    16|  41527.201171875|\n",
            "|    17| 309711.005859375|\n",
            "|    18| 45548.3994140625|\n",
            "|    19|106695.6005859375|\n",
            "|    20|  95876.162109375|\n",
            "+------+-----------------+\n",
            "only showing top 20 rows\n",
            "\n"
          ],
          "name": "stdout"
        }
      ]
    },
    {
      "cell_type": "markdown",
      "metadata": {
        "id": "nbw6ke2HpdQ_"
      },
      "source": [
        "## 5.3 Métodos sobre Conjuntos\n"
      ]
    },
    {
      "cell_type": "markdown",
      "metadata": {
        "id": "mcTetYU1eBIP"
      },
      "source": [
        "### Métodos union(), unionAll() e unionByName()\n",
        "\n",
        "Os métodos `union()`, `unionAll()` e `unionByName()` têm como objetivo realizar a operação de `união` entre conjuntos considerando dois `DataFrames`. Como resultado, tem-se um novo `DataFrame` que contém todas as linhas pertencentes ao primeiro `DataFrame`, ao segundo `DataFrame` ou a ambos os dois `DataFrames`. \n",
        "\n",
        "Os dois `DataFrames` devem ser compatíveis entre si. Ou seja, eles precisam ter o mesmo número de colunas. \n",
        "\n",
        "A sintaxe de cada um dos métodos é:\n",
        "\n",
        "- `union(segundoDataFrame)`: Realiza a união considerando o posicionamento das colunas dos `DataFrames`, independentemente dos nomes dessas colunas. As linhas repetidas não são eliminadas do resultado final. \n",
        "\n",
        "- `unionAll(segundoDataFrame)`: Realiza a união considerando o posicionamento das colunas dos `DataFrames`, independentemente dos nomes dessas colunas. As linhas repetidas não são eliminadas do resultado final. \n",
        "\n",
        "- `unionByName(segundoDataFrame)`: Realiza a união considerando o nome das colunas dos `DataFrames`, independentemente do posicionamento dessas colunas. As linhas repetidas não são eliminadas do resultado final. \n",
        "\n",
        "Estes métodos são equipalentes à operação `UNION ALL` da linguagem SQL.\n",
        "\n",
        "Caso haja a necessidade de se eliminar as linhas repetidas do resultado final, é necessário utilizar primeiro um dos métodos de união e, na sequência, aplicar o método `distinct()`."
      ]
    },
    {
      "cell_type": "code",
      "metadata": {
        "id": "PQIY0SGcnOXt",
        "outputId": "e3ef6ffa-46cb-48c3-bde8-1ddba6a73ab4",
        "colab": {
          "base_uri": "https://localhost:8080/"
        }
      },
      "source": [
        "# exemplo do método union(), sem eliminar linhas repetidas do resultado \n",
        "pagFiltro = pagamento\\\n",
        "               .filter(\"funcPK = 30 AND dataPK BETWEEN 50 AND 100\")\\\n",
        "               .select('dataPK')\n",
        "negFiltro = negociacao\\\n",
        "               .filter(\"equipePK = 2 AND dataPK BETWEEN 90 AND 110\")\\\n",
        "               .select('dataPK')\n",
        "pagFiltro\\\n",
        "   .union(negFiltro)\\\n",
        "   .orderBy('dataPK')\\\n",
        "   .show()"
      ],
      "execution_count": 52,
      "outputs": [
        {
          "output_type": "stream",
          "text": [
            "+------+\n",
            "|dataPK|\n",
            "+------+\n",
            "|    65|\n",
            "|    90|\n",
            "|    96|\n",
            "|    96|\n",
            "|    99|\n",
            "|    99|\n",
            "|   109|\n",
            "+------+\n",
            "\n"
          ],
          "name": "stdout"
        }
      ]
    },
    {
      "cell_type": "code",
      "metadata": {
        "id": "gkwOJI6zogTc",
        "outputId": "043fbdb1-0c08-49d2-cc22-ab5c7dbfd34d",
        "colab": {
          "base_uri": "https://localhost:8080/"
        }
      },
      "source": [
        "# exemplo do método union(), eliminando as linhas repetidas do resultado \n",
        "pagFiltro\\\n",
        "   .union(negFiltro)\\\n",
        "   .distinct()\\\n",
        "   .orderBy('dataPK')\\\n",
        "   .show()"
      ],
      "execution_count": 53,
      "outputs": [
        {
          "output_type": "stream",
          "text": [
            "+------+\n",
            "|dataPK|\n",
            "+------+\n",
            "|    65|\n",
            "|    90|\n",
            "|    96|\n",
            "|    99|\n",
            "|   109|\n",
            "+------+\n",
            "\n"
          ],
          "name": "stdout"
        }
      ]
    },
    {
      "cell_type": "markdown",
      "metadata": {
        "id": "W_f4AWN3p2zK"
      },
      "source": [
        "### Métodos intersect() e intersectAll() \n",
        "\n",
        "Os métodos `intersect()` e `intersectAll()` têm como objetivo realizar a operação de `intersecção` entre conjuntos considerando dois `DataFrames`. Como resultado, tem-se um novo `DataFrame` que contém todas as linhas presentes simultaneamente no primeiro `DataFrame` e no segundo `DataFrame`. \n",
        "\n",
        "Os dois DataFrames devem ser compatíveis entre si. Ou seja, eles precisam ter o mesmo número de colunas. \n",
        "\n",
        "A sintaxe de cada um dos métodos é:\n",
        "\n",
        "- `intersect(segundoDataFrame)`: Realiza a intersecção considerando o posicionamento das colunas dos `DataFrames`, independentemente dos nomes dessas colunas. Esse método elimina as linhas repetidas do resultado final. \n",
        "\n",
        "- `intersectAll(segundoDataFrame)`: Realiza a intersecção considerando o posicionamento das colunas dos `DataFrames`, independentemente dos nomes dessas colunas. Esse método não elimina as linhas repetidas do resultado final.\n",
        "\n",
        "O método `intersect()` é equivalente à operação `INTERSECT` da linguagem SQL, enquanto o método `intersectAll()` é equivalente à operação `INTERSECT ALL` da linguagem SQL."
      ]
    },
    {
      "cell_type": "code",
      "metadata": {
        "id": "mRxQ5NgkjmpX",
        "outputId": "ca94bc27-565c-4189-cc49-b134bb2ef236",
        "colab": {
          "base_uri": "https://localhost:8080/"
        }
      },
      "source": [
        "# exemplo do método intersect()\n",
        "pagIntersect = pagamento\\\n",
        "               .filter(\"funcPK = 30 AND dataPK BETWEEN 50 AND 100\")\\\n",
        "               .select('dataPK')\n",
        "pagIntersect.show()"
      ],
      "execution_count": 54,
      "outputs": [
        {
          "output_type": "stream",
          "text": [
            "+------+\n",
            "|dataPK|\n",
            "+------+\n",
            "|    65|\n",
            "|    96|\n",
            "+------+\n",
            "\n"
          ],
          "name": "stdout"
        }
      ]
    },
    {
      "cell_type": "code",
      "metadata": {
        "id": "uCdrrpQi37cI",
        "outputId": "6154bdc3-a973-45b3-cae3-cdea110ed28b",
        "colab": {
          "base_uri": "https://localhost:8080/"
        }
      },
      "source": [
        "negIntersect = negociacao\\\n",
        "               .filter(\"equipePK = 2 AND dataPK BETWEEN 90 AND 110\")\\\n",
        "               .select('dataPK')\n",
        "negIntersect.show() "
      ],
      "execution_count": 55,
      "outputs": [
        {
          "output_type": "stream",
          "text": [
            "+------+\n",
            "|dataPK|\n",
            "+------+\n",
            "|    90|\n",
            "|    99|\n",
            "|    96|\n",
            "|   109|\n",
            "|    99|\n",
            "+------+\n",
            "\n"
          ],
          "name": "stdout"
        }
      ]
    },
    {
      "cell_type": "code",
      "metadata": {
        "id": "iYF9PZGd3-r_",
        "outputId": "f6920d19-4375-4129-f90a-e89e6593d510",
        "colab": {
          "base_uri": "https://localhost:8080/"
        }
      },
      "source": [
        "pagIntersect\\\n",
        "   .intersect(negIntersect)\\\n",
        "   .orderBy('dataPK')\\\n",
        "   .show()"
      ],
      "execution_count": 56,
      "outputs": [
        {
          "output_type": "stream",
          "text": [
            "+------+\n",
            "|dataPK|\n",
            "+------+\n",
            "|    96|\n",
            "+------+\n",
            "\n"
          ],
          "name": "stdout"
        }
      ]
    },
    {
      "cell_type": "markdown",
      "metadata": {
        "id": "fjFpZzAUrTFO"
      },
      "source": [
        "### Métodos subtract() e exceptAll() \n",
        "\n",
        "Os métodos `subtract()` e `exceptAll()` têm como objetivo realizar a operação de `diferença` de conjuntos considerando dois `DataFrames`. Como resultado, tem-se um novo `DataFrame` que contém todas as linhas presentes no primeiro `DataFrame`, mas que não estão no segundo `DataFrame`. \n",
        "\n",
        "Os dois `DataFrames` devem ser compatíveis entre si. Ou seja, eles precisam ter o mesmo número de colunas. \n",
        "\n",
        "A sintaxe de cada um dos métodos é:\n",
        "\n",
        "- `subtract(segundoDataFrame)`: Realiza a diferença entre conjuntos considerando o posicionamento das colunas dos `DataFrames`, independentemente dos nomes dessas colunas. Esse método elimina as linhas repetidas do resultado final.\n",
        "\n",
        "- `exceptAll(segundoDataFrame)`: Realiza a diferença entre conjuntos considerando o posicionamento das colunas dos `DataFrames`, independentemente dos nomes dessas colunas. Esse método não elimina as linhas repetidas do resultado final.\n",
        "\n",
        "O método `subtract(segundoDataFrame)` é equivalente à operação `MINUS` da linguagem SQL, enquanto que o método `exceptAll(segundoDataFrame)` é equivalente à operação `MINUS ALL` da linguagem SQL."
      ]
    },
    {
      "cell_type": "code",
      "metadata": {
        "id": "KpOXPKbvj0TN",
        "outputId": "7267b1dc-0533-4e6f-e9fb-cef58f2ed6c2",
        "colab": {
          "base_uri": "https://localhost:8080/"
        }
      },
      "source": [
        "# exemplo do método exceptAll()\n",
        "pagIntersect\\\n",
        "   .exceptAll(negIntersect)\\\n",
        "   .orderBy('dataPK')\\\n",
        "   .show()"
      ],
      "execution_count": 57,
      "outputs": [
        {
          "output_type": "stream",
          "text": [
            "+------+\n",
            "|dataPK|\n",
            "+------+\n",
            "|    65|\n",
            "+------+\n",
            "\n"
          ],
          "name": "stdout"
        }
      ]
    },
    {
      "cell_type": "markdown",
      "metadata": {
        "id": "Ss0pmgplPAL3"
      },
      "source": [
        "# 6 Execução de Consultas com Foco nas Operações OLAP"
      ]
    },
    {
      "cell_type": "markdown",
      "metadata": {
        "id": "MABYjSYf7L4g"
      },
      "source": [
        "## 6.1 Operação Slice and Dice \n",
        "\n",
        "**Definição**: Restringe os dados sendo analisados a um subconjunto desses dados.\n",
        "\n",
        "- Slice: corte para um valor fixo, diminuindo a dimensionalidade do cubo.\n",
        "- Dice: seleção de faixas de valores.\n",
        "\n",
        "**Exemplo de consulta**: Qual a quantidade de pagamentos realizados no mês de setembro de 2020?"
      ]
    },
    {
      "cell_type": "code",
      "metadata": {
        "id": "oXh3bfu148ml",
        "outputId": "d0e29983-73bd-4ed8-fe3f-6e0a7e6fc1a5",
        "colab": {
          "base_uri": "https://localhost:8080/"
        }
      },
      "source": [
        "# realizando a operação de slice and dice utilizando o método filter() ou where()\n",
        "# selecionando apenas as colunas necessárias ao processamento da consulta \n",
        "dataSelecionada = \\\n",
        "   data\\\n",
        "   .filter(\"dataAno = 2020 AND dataMes=9\")\\\n",
        "   .select(\"dataPK\")\n",
        "dataSelecionada.show(5)"
      ],
      "execution_count": 58,
      "outputs": [
        {
          "output_type": "stream",
          "text": [
            "+------+\n",
            "|dataPK|\n",
            "+------+\n",
            "|  1706|\n",
            "|  1707|\n",
            "|  1708|\n",
            "|  1709|\n",
            "|  1710|\n",
            "+------+\n",
            "only showing top 5 rows\n",
            "\n"
          ],
          "name": "stdout"
        }
      ]
    },
    {
      "cell_type": "code",
      "metadata": {
        "id": "DN1Cwsrn8_gb",
        "outputId": "35be03c3-4984-430b-84d1-374b18c0859b",
        "colab": {
          "base_uri": "https://localhost:8080/"
        }
      },
      "source": [
        "# selecionando apenas as colunas necessárias ao processamento da consulta\n",
        "pagamentoSelecionado = \\\n",
        "   pagamento\\\n",
        "   .select(\"dataPK\", \"quantidadeLancamentos\")\n",
        "pagamentoSelecionado.show(5)"
      ],
      "execution_count": 59,
      "outputs": [
        {
          "output_type": "stream",
          "text": [
            "+------+---------------------+\n",
            "|dataPK|quantidadeLancamentos|\n",
            "+------+---------------------+\n",
            "|     5|                    1|\n",
            "|     5|                    1|\n",
            "|     5|                    1|\n",
            "|     5|                    1|\n",
            "|     5|                    1|\n",
            "+------+---------------------+\n",
            "only showing top 5 rows\n",
            "\n"
          ],
          "name": "stdout"
        }
      ]
    },
    {
      "cell_type": "code",
      "metadata": {
        "id": "rqWYKUZ79FKg",
        "outputId": "e9fe4069-ddc3-456e-a065-9ee3ed8ca522",
        "colab": {
          "base_uri": "https://localhost:8080/"
        }
      },
      "source": [
        "# realizando a junção entre os resultados obtidos\n",
        "dataPagamento =\\\n",
        "   dataSelecionada\\\n",
        "   .join(pagamentoSelecionado, on=\"dataPK\")\n",
        "dataPagamento.show(5)"
      ],
      "execution_count": 60,
      "outputs": [
        {
          "output_type": "stream",
          "text": [
            "+------+---------------------+\n",
            "|dataPK|quantidadeLancamentos|\n",
            "+------+---------------------+\n",
            "|  1710|                    1|\n",
            "|  1710|                    1|\n",
            "|  1710|                    1|\n",
            "|  1710|                    1|\n",
            "|  1710|                    1|\n",
            "+------+---------------------+\n",
            "only showing top 5 rows\n",
            "\n"
          ],
          "name": "stdout"
        }
      ]
    },
    {
      "cell_type": "code",
      "metadata": {
        "id": "3xDhogu_-tqf",
        "outputId": "4b4bc504-798c-48ed-9607-2d170c882015",
        "colab": {
          "base_uri": "https://localhost:8080/"
        }
      },
      "source": [
        "# exibindo o resultado desejado\n",
        "dataPagamento\\\n",
        "   .select(\"quantidadeLancamentos\")\\\n",
        "   .groupBy()\\\n",
        "   .sum(\"quantidadeLancamentos\")\\\n",
        "   .withColumnRenamed(\"sum(quantidadeLancamentos)\", \"Quantidade Total de Lançamentos\")\\\n",
        "   .show()"
      ],
      "execution_count": 61,
      "outputs": [
        {
          "output_type": "stream",
          "text": [
            "+-------------------------------+\n",
            "|Quantidade Total de Lançamentos|\n",
            "+-------------------------------+\n",
            "|                            200|\n",
            "+-------------------------------+\n",
            "\n"
          ],
          "name": "stdout"
        }
      ]
    },
    {
      "cell_type": "code",
      "metadata": {
        "id": "vJOlbWZO_OjD",
        "outputId": "ae280321-f6ae-4817-e0dd-ad3bf7f733c4",
        "colab": {
          "base_uri": "https://localhost:8080/"
        }
      },
      "source": [
        "# exibindo uma forma alternativa, e considerando apenas um único comando \n",
        "data\\\n",
        "   .join(pagamento, on=\"dataPK\")\\\n",
        "   .where(\"dataAno = 2020 AND dataMes=9\")\\\n",
        "   .select(\"quantidadeLancamentos\")\\\n",
        "   .groupBy()\\\n",
        "   .sum(\"quantidadeLancamentos\")\\\n",
        "   .withColumnRenamed(\"sum(quantidadeLancamentos)\", \"Quantidade Total de Lançamentos\")\\\n",
        "   .show()"
      ],
      "execution_count": 62,
      "outputs": [
        {
          "output_type": "stream",
          "text": [
            "+-------------------------------+\n",
            "|Quantidade Total de Lançamentos|\n",
            "+-------------------------------+\n",
            "|                            200|\n",
            "+-------------------------------+\n",
            "\n"
          ],
          "name": "stdout"
        }
      ]
    },
    {
      "cell_type": "markdown",
      "metadata": {
        "id": "FjeYu20EoUyO"
      },
      "source": [
        "### **EXERCÍCIO 1** \n",
        "\n",
        "Qual o total de negociações realizadas nos meses de Abril, Maio e Junho de 2016? Renomeie o resultado final como \"Quantidade de Negociações\". \n",
        "\n",
        "Resolva a consulta de duas formas diferentes, considerando cada uma das especificações a seguir:\n",
        "\n",
        "- **Consulta passo a passo:** Escreva a consulta passo a passo, selecionando apenas as colunas necessárias para o processamento da consulta.\n",
        "\n",
        "- **Consulta um comando:** Escreva apenas um único comando para a  consulta. \n",
        "\n",
        "Dica: utilize a medida numérica `quantidadeNegociacoes` presente na tabela `negociacao` e os dados históricos presentes na tabela `data`."
      ]
    },
    {
      "cell_type": "code",
      "metadata": {
        "id": "LgByg7PR_d3y",
        "outputId": "7ad5e1d6-2bb2-4799-dd90-e0f97c538628",
        "colab": {
          "base_uri": "https://localhost:8080/"
        }
      },
      "source": [
        "# resposta para o exercício 1 - consulta passo a passo\n",
        "\n",
        "# realizando a operação de slice and dice utilizando o método filter() ou where()\n",
        "# selecionando apenas as colunas necessárias ao processamento da consulta \n",
        "dataSelecionada = \\\n",
        "   data\\\n",
        "   .filter(\"dataAno = 2016 AND dataTrimestre=2\")\\\n",
        "   .select(\"dataPK\")\n",
        "dataSelecionada.show(5)  "
      ],
      "execution_count": 63,
      "outputs": [
        {
          "output_type": "stream",
          "text": [
            "+------+\n",
            "|dataPK|\n",
            "+------+\n",
            "|    92|\n",
            "|    93|\n",
            "|    94|\n",
            "|    95|\n",
            "|    96|\n",
            "+------+\n",
            "only showing top 5 rows\n",
            "\n"
          ],
          "name": "stdout"
        }
      ]
    },
    {
      "cell_type": "code",
      "metadata": {
        "id": "BIatQ9im_nu8",
        "outputId": "90f1979b-220b-4fda-bb0d-a6b722fe09d3",
        "colab": {
          "base_uri": "https://localhost:8080/"
        }
      },
      "source": [
        "# resposta para o exercício 1 - consulta passo a passo\n",
        "\n",
        "# selecionando apenas as colunas necessárias ao processamento da consulta\n",
        "negociacaoSelecionada = \\\n",
        "   negociacao.select(\"dataPK\", \"quantidadeNegociacoes\")\n",
        "negociacaoSelecionada.show(5)"
      ],
      "execution_count": 64,
      "outputs": [
        {
          "output_type": "stream",
          "text": [
            "+------+---------------------+\n",
            "|dataPK|quantidadeNegociacoes|\n",
            "+------+---------------------+\n",
            "|    22|                    1|\n",
            "|    11|                    1|\n",
            "|    21|                    1|\n",
            "|    23|                    1|\n",
            "|    30|                    1|\n",
            "+------+---------------------+\n",
            "only showing top 5 rows\n",
            "\n"
          ],
          "name": "stdout"
        }
      ]
    },
    {
      "cell_type": "code",
      "metadata": {
        "id": "1P5Ni2yA_zoE",
        "outputId": "38dd8f7e-67a1-4a33-b2db-949a4b726b31",
        "colab": {
          "base_uri": "https://localhost:8080/"
        }
      },
      "source": [
        "# resposta para o exercício 1 - consulta passo a passo\n",
        "\n",
        "# realizando a junção entre os resultados obtidos\n",
        "dataNegociacao = \\\n",
        "   dataSelecionada\\\n",
        "   .join(negociacaoSelecionada, on=\"dataPK\")\n",
        "dataNegociacao.show(5)"
      ],
      "execution_count": 65,
      "outputs": [
        {
          "output_type": "stream",
          "text": [
            "+------+---------------------+\n",
            "|dataPK|quantidadeNegociacoes|\n",
            "+------+---------------------+\n",
            "|   104|                    1|\n",
            "|    99|                    1|\n",
            "|   116|                    1|\n",
            "|   114|                    1|\n",
            "|   117|                    1|\n",
            "+------+---------------------+\n",
            "only showing top 5 rows\n",
            "\n"
          ],
          "name": "stdout"
        }
      ]
    },
    {
      "cell_type": "code",
      "metadata": {
        "id": "ZwZPu_mV_7Gk",
        "outputId": "d5365b6f-9c22-4348-f4fa-4e70f0305953",
        "colab": {
          "base_uri": "https://localhost:8080/"
        }
      },
      "source": [
        "# resposta para o exercício 1 - consulta passo a passo\n",
        "\n",
        "# exibindo o resultado desejado\n",
        "dataNegociacao\\\n",
        "   .select(\"quantidadeNegociacoes\")\\\n",
        "   .groupBy()\\\n",
        "   .sum(\"quantidadeNegociacoes\")\\\n",
        "   .withColumnRenamed(\"sum(quantidadeNegociacoes)\", \"Quantidade de Negociações\")\\\n",
        "   .show()"
      ],
      "execution_count": 66,
      "outputs": [
        {
          "output_type": "stream",
          "text": [
            "+-------------------------+\n",
            "|Quantidade de Negociações|\n",
            "+-------------------------+\n",
            "|                       59|\n",
            "+-------------------------+\n",
            "\n"
          ],
          "name": "stdout"
        }
      ]
    },
    {
      "cell_type": "code",
      "metadata": {
        "id": "RU-XnN0J7ykx",
        "outputId": "977807f6-a8b8-4dc8-de40-4862bf8901b6",
        "colab": {
          "base_uri": "https://localhost:8080/"
        }
      },
      "source": [
        "# resposta para o exercício 1 - consulta um comando\n",
        "data\\\n",
        "  .join(negociacao, on=\"dataPK\")\\\n",
        "  .where(\"dataAno=2016 AND dataTrimestre=2\")\\\n",
        "  .select(\"quantidadeNegociacoes\")\\\n",
        "  .groupBy()\\\n",
        "  .sum()\\\n",
        "  .withColumnRenamed(\"sum(quantidadeNegociacoes)\", \"Quantidade de Negociações\")\\\n",
        "  .show()"
      ],
      "execution_count": 67,
      "outputs": [
        {
          "output_type": "stream",
          "text": [
            "+-------------------------+\n",
            "|Quantidade de Negociações|\n",
            "+-------------------------+\n",
            "|                       59|\n",
            "+-------------------------+\n",
            "\n"
          ],
          "name": "stdout"
        }
      ]
    },
    {
      "cell_type": "markdown",
      "metadata": {
        "id": "crCnMYwi7rIm"
      },
      "source": [
        "## 6.2 Operações Drill-Down e Roll-Up\n",
        "\n",
        "**Definição**: Analisam os dados considerando níveis progressivos de agregação.\n",
        "\n",
        "- Drill-down: níveis de agregação progressivamente mais detalhados, ou de menor granularidade.\n",
        "- Roll-up: níveis de agregação progressivamente menos detalhados, ou de maior granularidade."
      ]
    },
    {
      "cell_type": "markdown",
      "metadata": {
        "id": "YC-qVTVIpyX4"
      },
      "source": [
        "Para ilustrar as operações de drill-down e roll-up, considere a consulta base definida a seguir.\n",
        "\n",
        "**Consulta base:** Qual o valor gasto em salários por ano, considerando cada **semestre**?"
      ]
    },
    {
      "cell_type": "code",
      "metadata": {
        "id": "PT-6hG7H-HMO",
        "outputId": "c06d3c4a-d017-4e9b-c85c-997ecba578fa",
        "colab": {
          "base_uri": "https://localhost:8080/"
        }
      },
      "source": [
        "# exibindo a resposta considerando cada semestre\n",
        "\n",
        "data\\\n",
        "   .join(pagamento, on=\"dataPK\")\\\n",
        "   .select(\"dataAno\", \"dataSemestre\", \"salario\")\\\n",
        "   .groupBy(\"dataAno\", \"dataSemestre\")\\\n",
        "   .sum(\"salario\")\\\n",
        "   .withColumn(\"sum(salario)\", round(\"sum(salario)\",2))\\\n",
        "   .withColumnRenamed(\"sum(salario)\", \"Valor gasto em salários por semestre\")\\\n",
        "   .orderBy(\"dataAno\", \"dataSemestre\")\\\n",
        "   .show()"
      ],
      "execution_count": 68,
      "outputs": [
        {
          "output_type": "stream",
          "text": [
            "+-------+------------+------------------------------------+\n",
            "|dataAno|dataSemestre|Valor gasto em salários por semestre|\n",
            "+-------+------------+------------------------------------+\n",
            "|   2016|           1|                          2221308.55|\n",
            "|   2016|           2|                          2221308.55|\n",
            "|   2017|           1|                          4887639.92|\n",
            "|   2017|           2|                          4887639.92|\n",
            "|   2018|           1|                          7467763.23|\n",
            "|   2018|           2|                          7467763.23|\n",
            "|   2019|           1|                          9283833.23|\n",
            "|   2019|           2|                          9283833.23|\n",
            "|   2020|           1|                          9283833.23|\n",
            "|   2020|           2|                          9283833.23|\n",
            "+-------+------------+------------------------------------+\n",
            "\n"
          ],
          "name": "stdout"
        }
      ]
    },
    {
      "cell_type": "markdown",
      "metadata": {
        "id": "1PzzQT1Xz-4-"
      },
      "source": [
        "**Exemplo de consulta drill-down:** Qual o valor gasto em salários por ano, considerando cada trimestre?"
      ]
    },
    {
      "cell_type": "code",
      "metadata": {
        "id": "TqYhD7WXDKeu",
        "outputId": "ce233cd6-a021-406d-ebf9-eec158b102e8",
        "colab": {
          "base_uri": "https://localhost:8080/"
        }
      },
      "source": [
        "# exibindo a resposta considerando cada trimestre (mais detalhes)\n",
        "\n",
        "data\\\n",
        "  .join(pagamento, on=\"dataPK\")\\\n",
        "  .select(\"dataAno\", \"dataTrimestre\", \"salario\")\\\n",
        "  .groupBy(\"dataAno\", \"dataTrimestre\")\\\n",
        "  .sum(\"salario\")\\\n",
        "  .withColumn(\"sum(salario)\", round(\"sum(salario)\",2))\\\n",
        "  .withColumnRenamed(\"sum(salario)\", \"Valor gasto em salários por trimestre\")\\\n",
        "  .orderBy(\"dataAno\", \"dataTrimestre\")\\\n",
        "  .show()"
      ],
      "execution_count": 69,
      "outputs": [
        {
          "output_type": "stream",
          "text": [
            "+-------+-------------+-------------------------------------+\n",
            "|dataAno|dataTrimestre|Valor gasto em salários por trimestre|\n",
            "+-------+-------------+-------------------------------------+\n",
            "|   2016|            1|                           1110654.28|\n",
            "|   2016|            2|                           1110654.28|\n",
            "|   2016|            3|                           1110654.28|\n",
            "|   2016|            4|                           1110654.28|\n",
            "|   2017|            1|                           2443819.96|\n",
            "|   2017|            2|                           2443819.96|\n",
            "|   2017|            3|                           2443819.96|\n",
            "|   2017|            4|                           2443819.96|\n",
            "|   2018|            1|                           3733881.62|\n",
            "|   2018|            2|                           3733881.62|\n",
            "|   2018|            3|                           3733881.62|\n",
            "|   2018|            4|                           3733881.62|\n",
            "|   2019|            1|                           4641916.61|\n",
            "|   2019|            2|                           4641916.61|\n",
            "|   2019|            3|                           4641916.61|\n",
            "|   2019|            4|                           4641916.61|\n",
            "|   2020|            1|                           4641916.61|\n",
            "|   2020|            2|                           4641916.61|\n",
            "|   2020|            3|                           4641916.61|\n",
            "|   2020|            4|                           4641916.61|\n",
            "+-------+-------------+-------------------------------------+\n",
            "\n"
          ],
          "name": "stdout"
        }
      ]
    },
    {
      "cell_type": "markdown",
      "metadata": {
        "id": "7bFWeBr87xpN"
      },
      "source": [
        "**Exemplo de consulta roll-up:** Qual o valor gasto em salários por ano?"
      ]
    },
    {
      "cell_type": "code",
      "metadata": {
        "id": "Nf2pbKfWEIdp",
        "outputId": "d01d9bda-7005-47e6-810b-7ba6568a17de",
        "colab": {
          "base_uri": "https://localhost:8080/"
        }
      },
      "source": [
        "# exibindo a resposta considerando cada ano (menos detalhes)\n",
        "\n",
        "data\\\n",
        "  .join(pagamento, on=\"dataPK\")\\\n",
        "  .select(\"dataAno\", \"salario\")\\\n",
        "  .groupBy(\"dataAno\")\\\n",
        "  .sum(\"salario\")\\\n",
        "  .withColumn(\"sum(salario)\", round(\"sum(salario)\",2))\\\n",
        "  .withColumnRenamed(\"sum(salario)\", \"Valor gasto em salários por ano\")\\\n",
        "  .orderBy(\"dataAno\")\\\n",
        "  .show()"
      ],
      "execution_count": 70,
      "outputs": [
        {
          "output_type": "stream",
          "text": [
            "+-------+-------------------------------+\n",
            "|dataAno|Valor gasto em salários por ano|\n",
            "+-------+-------------------------------+\n",
            "|   2016|                      4442617.1|\n",
            "|   2017|                     9775279.84|\n",
            "|   2018|                  1.493552647E7|\n",
            "|   2019|                  1.856766645E7|\n",
            "|   2020|                  1.856766645E7|\n",
            "+-------+-------------------------------+\n",
            "\n"
          ],
          "name": "stdout"
        }
      ]
    },
    {
      "cell_type": "markdown",
      "metadata": {
        "id": "nG_cvrxlrdx7"
      },
      "source": [
        "### **EXERCÍCIO 2** \n",
        "\n",
        "Faça 3 consultas SQL, uma para cada consulta especificada a seguir.\n",
        "\n",
        "- **Consulta base:** Qual é a soma da receita recebida em cada um dos semestres do ano de 2019? Renomeie o resultado final como \"Valor recebido em receitas por semestre no ano de 2019\".\n",
        "\n",
        "- **Consulta drill-down:** Qual é a soma da receita recebida em cada um dos trimestres do ano de 2019? Renomeie o resultado final como \"Valor recebido em receitas por trimestre no ano de 2019\".\n",
        "\n",
        "- **Consulta roll-up:** Qual é a soma da receita recebida no ano de 2019? Renomeie o resultado final como \"Valor recebido em receitas no ano de 2019\".\n",
        "\n",
        "Dica: utilize a medida numérica `receita` presente na tabela `negociacao` e os dados históricos presentes na tabela `data`."
      ]
    },
    {
      "cell_type": "code",
      "metadata": {
        "id": "UsK7-ehtFMHc",
        "outputId": "fd3245b9-cb4d-4e9b-8261-fc540a5aeccc",
        "colab": {
          "base_uri": "https://localhost:8080/"
        }
      },
      "source": [
        "# resposta do exercício 2 - consulta base \n",
        "\n",
        "data\\\n",
        "   .join(negociacao, on=\"dataPK\")\\\n",
        "   .where(\"dataAno = 2019\")\\\n",
        "   .select(\"dataAno\", \"dataSemestre\", \"receita\")\\\n",
        "   .groupBy(\"dataAno\", \"dataSemestre\")\\\n",
        "   .sum(\"receita\")\\\n",
        "   .withColumnRenamed(\"sum(receita)\", \"Valor recebido em receitas por semestre no ano de 2019\")\\\n",
        "   .orderBy(\"dataAno\", \"dataSemestre\")\\\n",
        "   .show()"
      ],
      "execution_count": 71,
      "outputs": [
        {
          "output_type": "stream",
          "text": [
            "+-------+------------+------------------------------------------------------+\n",
            "|dataAno|dataSemestre|Valor recebido em receitas por semestre no ano de 2019|\n",
            "+-------+------------+------------------------------------------------------+\n",
            "|   2019|           1|                                   1.832852693902588E7|\n",
            "|   2019|           2|                                   1.702479139251709E7|\n",
            "+-------+------------+------------------------------------------------------+\n",
            "\n"
          ],
          "name": "stdout"
        }
      ]
    },
    {
      "cell_type": "code",
      "metadata": {
        "id": "QWZnWrLMFg19",
        "outputId": "66cf0909-67f8-4afa-ea37-9c6a8f554570",
        "colab": {
          "base_uri": "https://localhost:8080/"
        }
      },
      "source": [
        "# resposta do exercício 2 - consulta drill-down\n",
        "\n",
        "data\\\n",
        "   .join(negociacao, on=\"dataPK\")\\\n",
        "   .where(\"dataAno=2019\")\\\n",
        "   .select(\"dataAno\", \"dataTrimestre\", \"receita\")\\\n",
        "   .groupBy(\"dataAno\", \"dataTrimestre\")\\\n",
        "   .sum(\"receita\")\\\n",
        "   .withColumn(\"sum(receita)\", round(\"sum(receita)\",2))\\\n",
        "   .withColumnRenamed(\"sum(receita)\", \"Valor recebido em receitas por trismestre no ano de 2019\")\\\n",
        "   .orderBy(\"dataAno\", \"dataTrimestre\")\\\n",
        "   .show()"
      ],
      "execution_count": 72,
      "outputs": [
        {
          "output_type": "stream",
          "text": [
            "+-------+-------------+--------------------------------------------------------+\n",
            "|dataAno|dataTrimestre|Valor recebido em receitas por trismestre no ano de 2019|\n",
            "+-------+-------------+--------------------------------------------------------+\n",
            "|   2019|            1|                                               9089432.5|\n",
            "|   2019|            2|                                              9239094.44|\n",
            "|   2019|            3|                                              8792711.21|\n",
            "|   2019|            4|                                              8232080.18|\n",
            "+-------+-------------+--------------------------------------------------------+\n",
            "\n"
          ],
          "name": "stdout"
        }
      ]
    },
    {
      "cell_type": "code",
      "metadata": {
        "id": "gSw33MsEF1nV",
        "outputId": "3e926fb1-21d9-4396-deb5-3893ecc5ae63",
        "colab": {
          "base_uri": "https://localhost:8080/"
        }
      },
      "source": [
        "# resposta do exercício 2 - consulta roll-up\n",
        "\n",
        "data\\\n",
        "  .join(negociacao, on=\"dataPK\")\\\n",
        "  .where(\"dataAno = 2019\")\\\n",
        "  .select(\"dataAno\", \"receita\")\\\n",
        "  .groupBy(\"dataAno\")\\\n",
        "  .sum(\"receita\")\\\n",
        "  .withColumnRenamed(\"sum(receita)\", \"Valor recebido em receitas no ano de 2019\")\\\n",
        "  .orderBy(\"dataAno\")\\\n",
        "  .show()"
      ],
      "execution_count": 73,
      "outputs": [
        {
          "output_type": "stream",
          "text": [
            "+-------+-----------------------------------------+\n",
            "|dataAno|Valor recebido em receitas no ano de 2019|\n",
            "+-------+-----------------------------------------+\n",
            "|   2019|                      3.535331833154297E7|\n",
            "+-------+-----------------------------------------+\n",
            "\n"
          ],
          "name": "stdout"
        }
      ]
    },
    {
      "cell_type": "markdown",
      "metadata": {
        "id": "h1kRDhciLQnj"
      },
      "source": [
        "## 6.3 Operação Pivot\n",
        "\n",
        "**Definição:** Reorienta a visão multidimensional dos dados, oferecendo diferentes perspectivas dos mesmos dados."
      ]
    },
    {
      "cell_type": "markdown",
      "metadata": {
        "id": "eaXAXkeF1atH"
      },
      "source": [
        "Para ilustrar a operação pivot, considere a consulta base definida a seguir. \n",
        "\n",
        "**Consulta base:**  Qual o valor gasto em salários por ano, considerando cada nível de cargo?"
      ]
    },
    {
      "cell_type": "code",
      "metadata": {
        "id": "n_hWmXflIfDu",
        "outputId": "af48e810-6d52-4b71-8cce-ea7924a054de",
        "colab": {
          "base_uri": "https://localhost:8080/"
        }
      },
      "source": [
        "pagamento\\\n",
        "  .join(data, on=\"dataPK\")\\\n",
        "  .join(cargo, on=\"cargoPK\")\\\n",
        "  .select(\"dataAno\",  \"cargoNivel\", \"salario\")\\\n",
        "  .groupBy(\"dataAno\", \"cargoNivel\")\\\n",
        "  .sum(\"salario\")\\\n",
        "  .withColumn(\"sum(salario)\", round(\"sum(salario)\",2))\\\n",
        "  .withColumnRenamed(\"sum(salario)\", \"Gastos em Salários\")\\\n",
        "  .orderBy(\"dataAno\", \"cargoNivel\")\\\n",
        "  .show()"
      ],
      "execution_count": 74,
      "outputs": [
        {
          "output_type": "stream",
          "text": [
            "+-------+----------+------------------+\n",
            "|dataAno|cargoNivel|Gastos em Salários|\n",
            "+-------+----------+------------------+\n",
            "|   2016|    JUNIOR|         489456.84|\n",
            "|   2016|     PLENO|        1454152.44|\n",
            "|   2016|    SENIOR|        2499007.82|\n",
            "|   2017|    JUNIOR|         1030642.8|\n",
            "|   2017|     PLENO|        3791593.94|\n",
            "|   2017|    SENIOR|         4953043.1|\n",
            "|   2018|    JUNIOR|         1393282.2|\n",
            "|   2018|     PLENO|        5357227.46|\n",
            "|   2018|    SENIOR|        8185016.81|\n",
            "|   2019|    JUNIOR|        1755714.36|\n",
            "|   2019|     PLENO|        6132228.26|\n",
            "|   2019|    SENIOR|     1.067972384E7|\n",
            "|   2020|    JUNIOR|        1755714.36|\n",
            "|   2020|     PLENO|        6132228.26|\n",
            "|   2020|    SENIOR|     1.067972384E7|\n",
            "+-------+----------+------------------+\n",
            "\n"
          ],
          "name": "stdout"
        }
      ]
    },
    {
      "cell_type": "markdown",
      "metadata": {
        "id": "DPBaswdrLWv6"
      },
      "source": [
        "**Exemplo de consulta pivot:** Qual o valor gasto em salários por nível de cargo, considerando cada ano?"
      ]
    },
    {
      "cell_type": "code",
      "metadata": {
        "id": "S0onSN7SDTyq",
        "outputId": "092068c1-9082-4668-cfce-6b17117d62ff",
        "colab": {
          "base_uri": "https://localhost:8080/"
        }
      },
      "source": [
        "pagamento\\\n",
        "  .join(data, on=\"dataPK\")\\\n",
        "  .join(cargo, on=\"cargoPK\")\\\n",
        "  .select(\"cargoNivel\", \"dataAno\", \"salario\")\\\n",
        "  .groupBy(\"cargoNivel\", \"dataAno\")\\\n",
        "  .sum(\"salario\")\\\n",
        "  .orderBy(\"cargoNivel\", \"dataAno\")\\\n",
        "  .withColumn(\"sum(salario)\", round(\"sum(salario)\",2))\\\n",
        "  .withColumnRenamed(\"sum(salario)\", \"Gastos em Salários\")\\\n",
        "  .show()"
      ],
      "execution_count": 75,
      "outputs": [
        {
          "output_type": "stream",
          "text": [
            "+----------+-------+------------------+\n",
            "|cargoNivel|dataAno|Gastos em Salários|\n",
            "+----------+-------+------------------+\n",
            "|    JUNIOR|   2016|         489456.84|\n",
            "|    JUNIOR|   2017|         1030642.8|\n",
            "|    JUNIOR|   2018|         1393282.2|\n",
            "|    JUNIOR|   2019|        1755714.36|\n",
            "|    JUNIOR|   2020|        1755714.36|\n",
            "|     PLENO|   2016|        1454152.44|\n",
            "|     PLENO|   2017|        3791593.94|\n",
            "|     PLENO|   2018|        5357227.46|\n",
            "|     PLENO|   2019|        6132228.26|\n",
            "|     PLENO|   2020|        6132228.26|\n",
            "|    SENIOR|   2016|        2499007.82|\n",
            "|    SENIOR|   2017|         4953043.1|\n",
            "|    SENIOR|   2018|        8185016.81|\n",
            "|    SENIOR|   2019|     1.067972384E7|\n",
            "|    SENIOR|   2020|     1.067972384E7|\n",
            "+----------+-------+------------------+\n",
            "\n"
          ],
          "name": "stdout"
        }
      ]
    },
    {
      "cell_type": "markdown",
      "metadata": {
        "id": "7D-E4clhKZgE"
      },
      "source": [
        "### Método pivot()\n",
        "\n",
        "`pivot(coluna, valores=None)`\n",
        "\n",
        "Rotaciona uma `coluna` do `DataFrame`, e exibe os valores de acordo com o parâmetro `valores`.\n",
        "\n"
      ]
    },
    {
      "cell_type": "code",
      "metadata": {
        "id": "u-qi2luOKN6a",
        "outputId": "34fb230a-49bb-4916-ab8a-9df92a835d3c",
        "colab": {
          "base_uri": "https://localhost:8080/"
        }
      },
      "source": [
        "#metodo pivot()\n",
        "\n",
        "pagamento\\\n",
        "  .join(data, on=\"dataPK\")\\\n",
        "  .join(cargo, on=\"cargoPK\")\\\n",
        "  .select(\"dataAno\",  \"cargoNivel\", \"salario\")\\\n",
        "  .groupBy(\"dataAno\", \"cargoNivel\")\\\n",
        "  .sum(\"salario\")\\\n",
        "  .orderBy(\"dataAno\", \"cargoNivel\")\\\n",
        "  .groupBy(\"dataAno\", \"sum(salario)\")\\\n",
        "  .pivot(\"cargoNivel\")\\\n",
        "  .sum(\"sum(salario)\")\\\n",
        "  .withColumn(\"sum(salario)\", round(\"sum(salario)\",2))\\\n",
        "  .withColumnRenamed(\"sum(salario)\", \"Gastos em Salários\")\\\n",
        "  .show()"
      ],
      "execution_count": 76,
      "outputs": [
        {
          "output_type": "stream",
          "text": [
            "+-------+------------------+------------------+------------------+------------------+\n",
            "|dataAno|Gastos em Salários|            JUNIOR|             PLENO|            SENIOR|\n",
            "+-------+------------------+------------------+------------------+------------------+\n",
            "|   2017|         4953043.1|              null|              null|   4953043.1015625|\n",
            "|   2018|         1393282.2|1393282.1967773438|              null|              null|\n",
            "|   2020|     1.067972384E7|              null|              null|1.06797238359375E7|\n",
            "|   2018|        5357227.46|              null|5357227.4560546875|              null|\n",
            "|   2016|        1454152.44|              null|  1454152.44140625|              null|\n",
            "|   2019|        6132228.26|              null|6132228.2607421875|              null|\n",
            "|   2016|         489456.84|489456.84228515625|              null|              null|\n",
            "|   2017|        3791593.94|              null|3791593.9423828125|              null|\n",
            "|   2019|     1.067972384E7|              null|              null|1.06797238359375E7|\n",
            "|   2018|        8185016.81|              null|              null|      8185016.8125|\n",
            "|   2020|        1755714.36| 1755714.357421875|              null|              null|\n",
            "|   2020|        6132228.26|              null|6132228.2607421875|              null|\n",
            "|   2016|        2499007.82|              null|              null|  2499007.81640625|\n",
            "|   2017|         1030642.8|1030642.7958984375|              null|              null|\n",
            "|   2019|        1755714.36| 1755714.357421875|              null|              null|\n",
            "+-------+------------------+------------------+------------------+------------------+\n",
            "\n"
          ],
          "name": "stdout"
        }
      ]
    },
    {
      "cell_type": "markdown",
      "metadata": {
        "id": "3FNsObn_vVmp"
      },
      "source": [
        "### **EXERCÍCIO 3**\n",
        "\n",
        "Faça 3 consultas SQL, uma para cada consulta especificada a seguir.\n",
        "\n",
        "- **Consulta base:** Qual é a receita média gerada pelos clientes considerando seus segmentos (ou seja, os setores nos quais eles atuam), em cada um dos anos? Renomeie o resultado final como \"Média das Receitas Recebidas\". \n",
        "\n",
        "- **Consulta pivot:** Qual é a receita média gerada pelos clientes em cada um dos anos, considerando seus segmentos (ou seja, os setores nos quais eles atuam)? Renomeie o resultado final como \"Média das Receitas Recebidas\".\n",
        "\n",
        "- **Consulta método pivot():** Utilize o método pivot() para rotacionar a  coluna `clienteSetor`. Renomeie o resultado final como \"Média das Receitas Recebidas\".\n",
        "\n",
        "Dica: utilize a medida numérica `receita` presente na tabela `negociacao`, os dados de clientes presentes na tabela `cliente` e os dados históricos presentes na tabela `data`. "
      ]
    },
    {
      "cell_type": "code",
      "metadata": {
        "id": "RiOCboahpApN",
        "outputId": "c663a630-d3fb-4d87-8438-e7533c5bf528",
        "colab": {
          "base_uri": "https://localhost:8080/"
        }
      },
      "source": [
        "# resposta do exercício 3 - consulta base\n",
        "\n",
        "negociacao\\\n",
        "  .join(data, on=\"dataPK\")\\\n",
        "  .join(cliente, on=\"clientePK\")\\\n",
        "  .select(\"clienteSetor\", \"dataAno\", \"receita\")\\\n",
        "  .groupBy(\"clienteSetor\", \"dataAno\")\\\n",
        "  .avg(\"receita\")\\\n",
        "  .orderBy(\"clienteSetor\", \"dataAno\")\\\n",
        "  .withColumn(\"avg(receita)\", round(\"avg(receita)\",2))\\\n",
        "  .withColumnRenamed(\"avg(receita)\", \"Média das Receitas Recebidas\")\\\n",
        "  .show()"
      ],
      "execution_count": 77,
      "outputs": [
        {
          "output_type": "stream",
          "text": [
            "+-------------------+-------+----------------------------+\n",
            "|       clienteSetor|dataAno|Média das Receitas Recebidas|\n",
            "+-------------------+-------+----------------------------+\n",
            "|BEBIDAS E ALIMENTOS|   2016|                     16289.1|\n",
            "|BEBIDAS E ALIMENTOS|   2017|                    14090.94|\n",
            "|BEBIDAS E ALIMENTOS|   2018|                    13748.01|\n",
            "|BEBIDAS E ALIMENTOS|   2019|                    22625.97|\n",
            "|BEBIDAS E ALIMENTOS|   2020|                    23022.96|\n",
            "|            CREDITO|   2016|                    12478.54|\n",
            "|            CREDITO|   2017|                    15512.85|\n",
            "|            CREDITO|   2018|                    15081.67|\n",
            "|            CREDITO|   2019|                    34543.42|\n",
            "|            CREDITO|   2020|                    32824.57|\n",
            "|              SAUDE|   2016|                    19920.16|\n",
            "|              SAUDE|   2017|                    11033.73|\n",
            "|              SAUDE|   2018|                    13804.84|\n",
            "|              SAUDE|   2019|                    34020.14|\n",
            "|              SAUDE|   2020|                     30274.9|\n",
            "|         TECNOLOGIA|   2016|                    15391.56|\n",
            "|         TECNOLOGIA|   2017|                     13458.9|\n",
            "|         TECNOLOGIA|   2018|                    13690.66|\n",
            "|         TECNOLOGIA|   2019|                    34555.96|\n",
            "|         TECNOLOGIA|   2020|                    26883.52|\n",
            "+-------------------+-------+----------------------------+\n",
            "only showing top 20 rows\n",
            "\n"
          ],
          "name": "stdout"
        }
      ]
    },
    {
      "cell_type": "code",
      "metadata": {
        "id": "wvdx1ZvSE2iV",
        "outputId": "eb44180e-8f74-4f66-c559-8176c4338355",
        "colab": {
          "base_uri": "https://localhost:8080/"
        }
      },
      "source": [
        "# resposta do exercício 3 - consulta pivot\n",
        "\n",
        "negociacao\\\n",
        "   .join(data, on=\"dataPK\")\\\n",
        "   .join(cliente, on=\"clientePK\")\\\n",
        "   .select(\"dataAno\", \"clienteSetor\", \"receita\")\\\n",
        "   .groupBy(\"dataAno\", \"clienteSetor\")\\\n",
        "   .avg(\"receita\")\\\n",
        "   .orderBy(\"dataAno\", \"clienteSetor\")\\\n",
        "   .withColumn(\"avg(receita)\", round(\"avg(receita)\",2))\\\n",
        "   .withColumnRenamed(\"avg(receita)\", \"Média das Receitas Recebidas\")\\\n",
        "   .show()"
      ],
      "execution_count": 78,
      "outputs": [
        {
          "output_type": "stream",
          "text": [
            "+-------+-------------------+----------------------------+\n",
            "|dataAno|       clienteSetor|Média das Receitas Recebidas|\n",
            "+-------+-------------------+----------------------------+\n",
            "|   2016|BEBIDAS E ALIMENTOS|                     16289.1|\n",
            "|   2016|            CREDITO|                    12478.54|\n",
            "|   2016|              SAUDE|                    19920.16|\n",
            "|   2016|         TECNOLOGIA|                    15391.56|\n",
            "|   2016|          VESTUARIO|                    20544.94|\n",
            "|   2017|BEBIDAS E ALIMENTOS|                    14090.94|\n",
            "|   2017|            CREDITO|                    15512.85|\n",
            "|   2017|              SAUDE|                    11033.73|\n",
            "|   2017|         TECNOLOGIA|                     13458.9|\n",
            "|   2017|          VESTUARIO|                    11848.01|\n",
            "|   2018|BEBIDAS E ALIMENTOS|                    13748.01|\n",
            "|   2018|            CREDITO|                    15081.67|\n",
            "|   2018|              SAUDE|                    13804.84|\n",
            "|   2018|         TECNOLOGIA|                    13690.66|\n",
            "|   2018|          VESTUARIO|                    12347.27|\n",
            "|   2019|BEBIDAS E ALIMENTOS|                    22625.97|\n",
            "|   2019|            CREDITO|                    34543.42|\n",
            "|   2019|              SAUDE|                    34020.14|\n",
            "|   2019|         TECNOLOGIA|                    34555.96|\n",
            "|   2019|          VESTUARIO|                     32297.8|\n",
            "+-------+-------------------+----------------------------+\n",
            "only showing top 20 rows\n",
            "\n"
          ],
          "name": "stdout"
        }
      ]
    },
    {
      "cell_type": "code",
      "metadata": {
        "id": "B2uo2DopMTMj",
        "outputId": "ebc5c4eb-0865-4727-be67-c9768debc73b",
        "colab": {
          "base_uri": "https://localhost:8080/"
        }
      },
      "source": [
        "# resposta do exercício 3 - consulta método pivot()\n",
        "\n",
        "negociacao.join(data, on=\"dataPK\").join(cliente, on=\"clientePK\")\\\n",
        "  .select(\"dataAno\", \"clienteSetor\", \"receita\")\\\n",
        "  .groupBy(\"dataAno\", \"clienteSetor\").avg(\"receita\")\\\n",
        "  .orderBy(\"dataAno\", \"clienteSetor\")\\\n",
        "  .groupBy(\"dataAno\", \"avg(receita)\").pivot(\"clienteSetor\").avg(\"avg(receita)\")\\\n",
        "  .withColumnRenamed(\"avg(receita)\", \"Média das Receitas Recebidas\")\\\n",
        "  .show()"
      ],
      "execution_count": 79,
      "outputs": [
        {
          "output_type": "stream",
          "text": [
            "+-------+----------------------------+-------------------+------------------+------------------+------------------+------------------+\n",
            "|dataAno|Média das Receitas Recebidas|BEBIDAS E ALIMENTOS|           CREDITO|             SAUDE|        TECNOLOGIA|         VESTUARIO|\n",
            "+-------+----------------------------+-------------------+------------------+------------------+------------------+------------------+\n",
            "|   2017|          11848.008775142202|               null|              null|              null|              null|11848.008775142202|\n",
            "|   2019|           34555.95527871002|               null|              null|              null| 34555.95527871002|              null|\n",
            "|   2018|          13748.013788631664| 13748.013788631664|              null|              null|              null|              null|\n",
            "|   2018|           13804.83683484666|               null|              null| 13804.83683484666|              null|              null|\n",
            "|   2020|          26883.515018615723|               null|              null|              null|26883.515018615723|              null|\n",
            "|   2019|           34020.13800379435|               null|              null| 34020.13800379435|              null|              null|\n",
            "|   2016|          15391.562117293075|               null|              null|              null|15391.562117293075|              null|\n",
            "|   2018|          12347.271779881845|               null|              null|              null|              null|12347.271779881845|\n",
            "|   2016|          12478.537506103516|               null|12478.537506103516|              null|              null|              null|\n",
            "|   2016|          16289.097322705766| 16289.097322705766|              null|              null|              null|              null|\n",
            "|   2017|           14090.94184266297|  14090.94184266297|              null|              null|              null|              null|\n",
            "|   2017|          15512.845805921053|               null|15512.845805921053|              null|              null|              null|\n",
            "|   2018|          13690.658560293692|               null|              null|              null|13690.658560293692|              null|\n",
            "|   2017|          11033.732471362964|               null|              null|11033.732471362964|              null|              null|\n",
            "|   2020|           32824.56550969304|               null| 32824.56550969304|              null|              null|              null|\n",
            "|   2019|           34543.41854623648|               null| 34543.41854623648|              null|              null|              null|\n",
            "|   2020|           30274.89993329115|               null|              null| 30274.89993329115|              null|              null|\n",
            "|   2019|           32297.80087063697|               null|              null|              null|              null| 32297.80087063697|\n",
            "|   2016|          20544.941490436424|               null|              null|              null|              null|20544.941490436424|\n",
            "|   2017|          13458.902910505023|               null|              null|              null|13458.902910505023|              null|\n",
            "+-------+----------------------------+-------------------+------------------+------------------+------------------+------------------+\n",
            "only showing top 20 rows\n",
            "\n"
          ],
          "name": "stdout"
        }
      ]
    },
    {
      "cell_type": "markdown",
      "metadata": {
        "id": "UtJILugUN2K_"
      },
      "source": [
        "## 6.4 Operação Drill-Across\n",
        "\n",
        "**Definição:** Compara medidas numéricas de tabelas de fatos diferentes, utilizando pelo menos uma dimensão em comum. \n",
        "\n",
        "**Exemplo de consulta:** Qual o total gasto com salários e qual o total de receitas recebidas, considerando cada ano?"
      ]
    },
    {
      "cell_type": "code",
      "metadata": {
        "id": "81fI8hkaFrn5",
        "outputId": "df23166e-0d50-4f3e-d59a-f0bc07acd333",
        "colab": {
          "base_uri": "https://localhost:8080/"
        }
      },
      "source": [
        "# resolvendo o primeiro bloco da consulta\n",
        "# qual o total de gastos em salários, considerando cada ano? \n",
        "pag = pagamento\\\n",
        "   .join(data, on=\"dataPK\")\\\n",
        "   .select(\"dataAno\", \"salario\")\\\n",
        "   .groupBy(\"dataAno\")\\\n",
        "   .sum(\"salario\")\n",
        "pag.show(5)"
      ],
      "execution_count": 80,
      "outputs": [
        {
          "output_type": "stream",
          "text": [
            "+-------+--------------------+\n",
            "|dataAno|        sum(salario)|\n",
            "+-------+--------------------+\n",
            "|   2018|1.4935526465332031E7|\n",
            "|   2019|1.8567666454101562E7|\n",
            "|   2020|1.8567666454101562E7|\n",
            "|   2016|   4442617.100097656|\n",
            "|   2017|    9775279.83984375|\n",
            "+-------+--------------------+\n",
            "\n"
          ],
          "name": "stdout"
        }
      ]
    },
    {
      "cell_type": "code",
      "metadata": {
        "id": "wUo8cBZpF2C1",
        "outputId": "8dc3e2dc-38c8-4500-8598-71b542d33094",
        "colab": {
          "base_uri": "https://localhost:8080/"
        }
      },
      "source": [
        "# resolvendo o segundo bloco da consulta\n",
        "neg = negociacao\\\n",
        "   .join(data, on=\"dataPK\")\\\n",
        "   .select(\"dataAno\", \"receita\")\\\n",
        "   .groupBy(\"dataAno\")\\\n",
        "   .sum(\"receita\")\n",
        "neg.show(5)"
      ],
      "execution_count": 81,
      "outputs": [
        {
          "output_type": "stream",
          "text": [
            "+-------+--------------------+\n",
            "|dataAno|        sum(receita)|\n",
            "+-------+--------------------+\n",
            "|   2018|1.1593539659606934E7|\n",
            "|   2019| 3.535331833154297E7|\n",
            "|   2020| 3.022217587109375E7|\n",
            "|   2016|   4614246.968261719|\n",
            "|   2017|  7200423.3539123535|\n",
            "+-------+--------------------+\n",
            "\n"
          ],
          "name": "stdout"
        }
      ]
    },
    {
      "cell_type": "code",
      "metadata": {
        "id": "Rv2D1s0eGBJv",
        "outputId": "6ab79365-9a18-4a3c-9910-ea84558f2480",
        "colab": {
          "base_uri": "https://localhost:8080/"
        }
      },
      "source": [
        "# realizando a operação de drill-across\n",
        "# exibindo o resultado final\n",
        "pag\\\n",
        "   .join(neg, on=\"dataAno\")\\\n",
        "   .select(\"dataAno\", \"sum(salario)\", \"sum(receita)\")\\\n",
        "   .orderBy(\"dataAno\")\\\n",
        "   .withColumn(\"sum(salario)\", round(\"sum(salario)\",2))\\\n",
        "   .withColumn(\"sum(receita)\", round(\"sum(receita)\",2))\\\n",
        "   .withColumnRenamed(\"sum(salario)\", \"Total Gasto com Salários\")\\\n",
        "   .withColumnRenamed(\"sum(receita)\", \"Total de Receitas Recebidas\")\\\n",
        "   .show()"
      ],
      "execution_count": 82,
      "outputs": [
        {
          "output_type": "stream",
          "text": [
            "+-------+------------------------+---------------------------+\n",
            "|dataAno|Total Gasto com Salários|Total de Receitas Recebidas|\n",
            "+-------+------------------------+---------------------------+\n",
            "|   2016|               4442617.1|                 4614246.97|\n",
            "|   2017|              9775279.84|                 7200423.35|\n",
            "|   2018|           1.493552647E7|              1.159353966E7|\n",
            "|   2019|           1.856766645E7|              3.535331833E7|\n",
            "|   2020|           1.856766645E7|              3.022217587E7|\n",
            "+-------+------------------------+---------------------------+\n",
            "\n"
          ],
          "name": "stdout"
        }
      ]
    },
    {
      "cell_type": "markdown",
      "metadata": {
        "id": "h1qyZMktxuwc"
      },
      "source": [
        "### **EXERCÍCIO 4**\n",
        "\n",
        "Qual o total gasto em salários e qual o total de receitas recebidas, considerando apenas os anos de 2017, 2018 e 2019? Renomeie a saída para \"Ano\", \"Total Gasto com Salários\" e \"Total de Receitas Recebidas\".\n",
        "\n",
        "Dica: utilize a medida numérica `salario` da tabela `pagamento`, a medida numérica `receita` da tabela `negociacao` e os dados históricos presentes na tabela `data`."
      ]
    },
    {
      "cell_type": "code",
      "metadata": {
        "id": "4pcpRHkfGrKK",
        "outputId": "839205ae-9e54-4160-d141-dbbe542b909f",
        "colab": {
          "base_uri": "https://localhost:8080/"
        }
      },
      "source": [
        "# resolvendo o primeiro bloco da consulta\n",
        "# qual o total de gastos em salários, considerando cada ano? \n",
        "pag = pagamento\\\n",
        "   .join(data, on=\"dataPK\")\\\n",
        "   .select(\"dataAno\", \"salario\")\\\n",
        "   .where(\"dataAno BETWEEN 2017 AND 2019\")\\\n",
        "   .groupBy(\"dataAno\")\\\n",
        "   .sum(\"salario\")\n",
        "pag.show()   "
      ],
      "execution_count": 83,
      "outputs": [
        {
          "output_type": "stream",
          "text": [
            "+-------+--------------------+\n",
            "|dataAno|        sum(salario)|\n",
            "+-------+--------------------+\n",
            "|   2018|1.4935526465332031E7|\n",
            "|   2019|1.8567666454101562E7|\n",
            "|   2017|    9775279.83984375|\n",
            "+-------+--------------------+\n",
            "\n"
          ],
          "name": "stdout"
        }
      ]
    },
    {
      "cell_type": "code",
      "metadata": {
        "id": "gJLjJud_G116",
        "outputId": "1a15f092-ee46-4aa4-810d-11b9a05dbf42",
        "colab": {
          "base_uri": "https://localhost:8080/"
        }
      },
      "source": [
        "# resolvendo o segundo bloco da consulta\n",
        "neg = negociacao\\\n",
        "   .join(data, on=\"dataPK\")\\\n",
        "   .select(\"dataAno\", \"receita\")\\\n",
        "   .where(\"dataAno BETWEEN 2017 AND 2019\")\\\n",
        "   .groupBy(\"dataAno\")\\\n",
        "   .sum(\"receita\")\n",
        "neg.show()"
      ],
      "execution_count": 84,
      "outputs": [
        {
          "output_type": "stream",
          "text": [
            "+-------+--------------------+\n",
            "|dataAno|        sum(receita)|\n",
            "+-------+--------------------+\n",
            "|   2018|1.1593539659606934E7|\n",
            "|   2019| 3.535331833154297E7|\n",
            "|   2017|  7200423.3539123535|\n",
            "+-------+--------------------+\n",
            "\n"
          ],
          "name": "stdout"
        }
      ]
    },
    {
      "cell_type": "code",
      "metadata": {
        "id": "bA7ldf8tHIVQ",
        "outputId": "95710562-10e8-44ef-b4b1-356b3a81c493",
        "colab": {
          "base_uri": "https://localhost:8080/"
        }
      },
      "source": [
        "pag\\\n",
        "   .join(neg, on=\"dataAno\")\\\n",
        "   .orderBy(\"dataAno\")\\\n",
        "   .withColumnRenamed(\"dataAno\", \"Ano\")\\\n",
        "   .withColumn(\"sum(salario)\", round(\"sum(salario)\",2))\\\n",
        "   .withColumn(\"sum(receita)\", round(\"sum(receita)\",2))\\\n",
        "   .withColumnRenamed(\"sum(salario)\", \"Total Gasto em Salários\")\\\n",
        "   .withColumnRenamed(\"sum(receita)\", \"Total de Receitas Recebidas\")\\\n",
        "   .show() "
      ],
      "execution_count": 85,
      "outputs": [
        {
          "output_type": "stream",
          "text": [
            "+----+-----------------------+---------------------------+\n",
            "| Ano|Total Gasto em Salários|Total de Receitas Recebidas|\n",
            "+----+-----------------------+---------------------------+\n",
            "|2017|             9775279.84|                 7200423.35|\n",
            "|2018|          1.493552647E7|              1.159353966E7|\n",
            "|2019|          1.856766645E7|              3.535331833E7|\n",
            "+----+-----------------------+---------------------------+\n",
            "\n"
          ],
          "name": "stdout"
        }
      ]
    },
    {
      "cell_type": "markdown",
      "metadata": {
        "id": "mTjo_CX1G5jy"
      },
      "source": [
        "## 5.5 Extensões ROLLUP e CUBE  \n",
        "\n",
        "**Definição:** Constrém vários níveis de agregação.\n",
        "\n",
        "- ROLLUP: criação de subtotais para as combinações dos atributos da lista de agrupamento de acordo com a ordem desses atributos. São criados n+1 níveis de agregação, sendo n o número de atributos especificados na lista de agrupamento.\n",
        "\n",
        "- CUBE: criação de subtotais para todas as combinações dos atributos da lista de agrupamento. São criados 2ˆn (2 elevado a n) níveis, sendo n o número de atributos especificados na lista de agrupamento.\n"
      ]
    },
    {
      "cell_type": "markdown",
      "metadata": {
        "id": "UPpMbZHLoB8S"
      },
      "source": [
        "### Método rollup()\n"
      ]
    },
    {
      "cell_type": "markdown",
      "metadata": {
        "id": "VjIYDV2xSv5i"
      },
      "source": [
        "`rollup(listaDeColunas)`\n",
        "\n",
        "Cria vários níveis de agregação de acordo com a extensão ROLLUP usando as colunas especificadas no parâmetro `listaDeColunas` e possibilita a definição de um método de agregação sobre essas colunas. "
      ]
    },
    {
      "cell_type": "markdown",
      "metadata": {
        "id": "y-Qr1v9UoGQa"
      },
      "source": [
        "### Método cube()\n",
        "\n",
        "`cube(listaDeColunas)`\n",
        "\n",
        "Cria vários níveis de agregação de acordo com a extensão CUBE usando as colunas especificadas no parâmetro `listaDeColunas` e possibilita a definição de um método de agregação sobre essas colunas. "
      ]
    },
    {
      "cell_type": "markdown",
      "metadata": {
        "id": "5RRlVccmYhV_"
      },
      "source": [
        "\n",
        "**Exemplo de consulta com ROLLUP:** Liste as agregações que podem ser geradas a partir da soma da receita por setor do cliente e por cidade do cliente, para totais de receita superiores a 3.000.000,00. Crie subtotais considerando a ordem dos atributos na lista de agrupamento."
      ]
    },
    {
      "cell_type": "code",
      "metadata": {
        "id": "BwZHLSsCW0zD",
        "outputId": "e016dd1b-5b35-4417-d86c-6557a9df9b8c",
        "colab": {
          "base_uri": "https://localhost:8080/"
        }
      },
      "source": [
        "cliente.join(negociacao, on=\"clientePK\")\\\n",
        "  .select(\"clienteSetor\",  \"clienteCidade\", \"receita\")\\\n",
        "  .rollup(\"clienteSetor\", \"clienteCidade\").sum(\"receita\")\\\n",
        "  .filter(\"sum(receita) > 3000000\")\\\n",
        "  .orderBy(\"clienteSetor\", \"clienteCidade\")\\\n",
        "  .withColumn(\"sum(receita)\", round(\"sum(receita)\",2))\\\n",
        "  .withColumnRenamed(\"sum(receita)\", \"Total de Receitas\")\\\n",
        "  .show()"
      ],
      "execution_count": 86,
      "outputs": [
        {
          "output_type": "stream",
          "text": [
            "+-------------------+--------------+-----------------+\n",
            "|       clienteSetor| clienteCidade|Total de Receitas|\n",
            "+-------------------+--------------+-----------------+\n",
            "|               null|          null|    8.898370418E7|\n",
            "|BEBIDAS E ALIMENTOS|          null|    3.540878588E7|\n",
            "|BEBIDAS E ALIMENTOS|BELO HORIZONTE|        4206811.8|\n",
            "|BEBIDAS E ALIMENTOS|       MARILIA|        4033680.5|\n",
            "|BEBIDAS E ALIMENTOS|        RECIFE|       3899358.31|\n",
            "|BEBIDAS E ALIMENTOS|RIO DE JANEIRO|       7351629.96|\n",
            "|BEBIDAS E ALIMENTOS|     SAO PAULO|       6177945.47|\n",
            "|BEBIDAS E ALIMENTOS|    UBERLANDIA|       3283351.57|\n",
            "|            CREDITO|          null|       6621387.69|\n",
            "|              SAUDE|          null|    1.831261245E7|\n",
            "|              SAUDE|        MANAUS|       3329638.24|\n",
            "|              SAUDE|     SAO PAULO|       3963055.35|\n",
            "|         TECNOLOGIA|          null|    1.656803299E7|\n",
            "|         TECNOLOGIA|     SAO PAULO|       9200352.79|\n",
            "|          VESTUARIO|          null|    1.207288518E7|\n",
            "|          VESTUARIO|RIO DE JANEIRO|       5948448.13|\n",
            "|          VESTUARIO|     SAO PAULO|        4686200.3|\n",
            "+-------------------+--------------+-----------------+\n",
            "\n"
          ],
          "name": "stdout"
        }
      ]
    },
    {
      "cell_type": "markdown",
      "metadata": {
        "id": "IjjDB_mtPkzw"
      },
      "source": [
        "**Exemplo de consulta com CUBE:** Liste todas as agregações que podem ser geradas a partir da soma da receita por setor do cliente e por cidade do cliente, para totais de receita superiores a 3.000.000,00."
      ]
    },
    {
      "cell_type": "code",
      "metadata": {
        "id": "v_5lF9EVFZr6",
        "outputId": "6f4e7487-2319-4005-aee4-d89d6d688212",
        "colab": {
          "base_uri": "https://localhost:8080/"
        }
      },
      "source": [
        "cliente.join(negociacao, on=\"clientePK\")\\\n",
        "  .select(\"clienteSetor\", \"clienteCidade\", \"receita\")\\\n",
        "  .cube(\"clienteSetor\", \"clienteCidade\").sum(\"receita\")\\\n",
        "  .filter(\"sum(receita) > 3000000\")\\\n",
        "  .orderBy(\"clienteSetor\", \"clienteCidade\")\\\n",
        "  .withColumn(\"sum(receita)\", round(\"sum(receita)\",2))\\\n",
        "  .withColumnRenamed(\"sum(receita)\", \"Total de Receitas\")\\\n",
        "  .show()"
      ],
      "execution_count": 87,
      "outputs": [
        {
          "output_type": "stream",
          "text": [
            "+-------------------+--------------+-----------------+\n",
            "|       clienteSetor| clienteCidade|Total de Receitas|\n",
            "+-------------------+--------------+-----------------+\n",
            "|               null|          null|    8.898370418E7|\n",
            "|               null|BELO HORIZONTE|       4379523.84|\n",
            "|               null|  CAMPO GRANDE|       3422117.04|\n",
            "|               null|      CURITIBA|       3697625.37|\n",
            "|               null|     FORTALEZA|       3391233.25|\n",
            "|               null|        MANAUS|       5234539.23|\n",
            "|               null|       MARILIA|       7289146.09|\n",
            "|               null|  PORTO ALEGRE|       4319625.71|\n",
            "|               null|        RECIFE|       4717719.46|\n",
            "|               null|RIO DE JANEIRO|    1.525596269E7|\n",
            "|               null|    SAO CARLOS|       4192741.95|\n",
            "|               null|     SAO PAULO|    2.464599961E7|\n",
            "|               null|    UBERLANDIA|        4357595.2|\n",
            "|BEBIDAS E ALIMENTOS|          null|    3.540878588E7|\n",
            "|BEBIDAS E ALIMENTOS|BELO HORIZONTE|        4206811.8|\n",
            "|BEBIDAS E ALIMENTOS|       MARILIA|        4033680.5|\n",
            "|BEBIDAS E ALIMENTOS|        RECIFE|       3899358.31|\n",
            "|BEBIDAS E ALIMENTOS|RIO DE JANEIRO|       7351629.96|\n",
            "|BEBIDAS E ALIMENTOS|     SAO PAULO|       6177945.47|\n",
            "|BEBIDAS E ALIMENTOS|    UBERLANDIA|       3283351.57|\n",
            "+-------------------+--------------+-----------------+\n",
            "only showing top 20 rows\n",
            "\n"
          ],
          "name": "stdout"
        }
      ]
    },
    {
      "cell_type": "markdown",
      "metadata": {
        "id": "tgV9cze8MBY3"
      },
      "source": [
        "# 6 Execução de Consultas com Foco na Tomada de Decisão\n",
        "As consultas OLAP requisitadas por usuários de sistemas de suporte à decisão usualmente requerem que várias operações OLAP sejam realizadas simultaneamente. A seguir são ilustrados exemplos de consultas OLAP que podem ser requisitadas para a tomada de decisão estratégica."
      ]
    },
    {
      "cell_type": "markdown",
      "metadata": {
        "id": "OcaRLxX_Jd1w"
      },
      "source": [
        "## 6.1 Consulta 1\n",
        "\n",
        "Qual é a média dos salários recebidos por nível do cargo e por sexo no ano de 2019?\n",
        "\n",
        "Para se realizar esta consulta, é necessário obter dados das tabelas de dimensão `cargo`, `funcionario` e `data`, bem como da tabela de fatos `pagamento`. A junção estrela deve ocorrer considerando as seguintes integridades referenciais:\n",
        "- `pagamento.cargoPK = cargo.cargoPK`\n",
        "- `pagamento.funcPK = funcionario.funcPK`\n",
        "- `pagamento.dataPK = data.dataPK` "
      ]
    },
    {
      "cell_type": "code",
      "metadata": {
        "id": "UeKlyc-mMt64",
        "outputId": "a720b2b7-c129-4cf2-fff9-1b52241d7ded",
        "colab": {
          "base_uri": "https://localhost:8080/"
        }
      },
      "source": [
        "# realizando a operação de slice and dice utilizando o método filter()\n",
        "# selecionando apenas as colunas necessárias ao processamento da consulta \n",
        "dataSelecionada =\\\n",
        "   data\\\n",
        "   .filter(\"dataAno = 2019\")\\\n",
        "   .select(\"dataPK\")\n",
        "dataSelecionada.show(5)\n"
      ],
      "execution_count": 88,
      "outputs": [
        {
          "output_type": "stream",
          "text": [
            "+------+\n",
            "|dataPK|\n",
            "+------+\n",
            "|  1097|\n",
            "|  1098|\n",
            "|  1099|\n",
            "|  1100|\n",
            "|  1101|\n",
            "+------+\n",
            "only showing top 5 rows\n",
            "\n"
          ],
          "name": "stdout"
        }
      ]
    },
    {
      "cell_type": "code",
      "metadata": {
        "id": "SguK3UyfVZf7",
        "outputId": "9fa7bbd9-e69c-43b6-bb6c-5cafee6a9569",
        "colab": {
          "base_uri": "https://localhost:8080/"
        }
      },
      "source": [
        "# selecionando apenas as colunas necessárias de funcionario \n",
        "funcionarioSelecionado =\\\n",
        "   funcionario\\\n",
        "   .select(\"funcPK\", \"funcSexo\")\n",
        "funcionarioSelecionado.show(5)"
      ],
      "execution_count": 89,
      "outputs": [
        {
          "output_type": "stream",
          "text": [
            "+------+--------+\n",
            "|funcPK|funcSexo|\n",
            "+------+--------+\n",
            "|     1|       F|\n",
            "|     2|       M|\n",
            "|     3|       M|\n",
            "|     4|       F|\n",
            "|     5|       M|\n",
            "+------+--------+\n",
            "only showing top 5 rows\n",
            "\n"
          ],
          "name": "stdout"
        }
      ]
    },
    {
      "cell_type": "code",
      "metadata": {
        "id": "CVLNPuPBV4pq",
        "outputId": "f3ecd8cc-696b-4b8f-c132-2aa05e2ea7dc",
        "colab": {
          "base_uri": "https://localhost:8080/"
        }
      },
      "source": [
        "# selecionando apenas as colunas necessárias de cargo\n",
        "cargoSelecionado = \\\n",
        "   cargo\\\n",
        "   .select(\"cargoPK\", \"cargoNivel\")\n",
        "cargoSelecionado.show()"
      ],
      "execution_count": 90,
      "outputs": [
        {
          "output_type": "stream",
          "text": [
            "+-------+----------+\n",
            "|cargoPK|cargoNivel|\n",
            "+-------+----------+\n",
            "|      1|    JUNIOR|\n",
            "|      2|     PLENO|\n",
            "|      3|    SENIOR|\n",
            "|      4|    JUNIOR|\n",
            "|      5|     PLENO|\n",
            "|      6|    SENIOR|\n",
            "|      7|    JUNIOR|\n",
            "|      8|     PLENO|\n",
            "|      9|    SENIOR|\n",
            "|     10|    JUNIOR|\n",
            "|     11|     PLENO|\n",
            "|     12|    SENIOR|\n",
            "|     13|    JUNIOR|\n",
            "|     14|     PLENO|\n",
            "|     15|    SENIOR|\n",
            "|     16|    JUNIOR|\n",
            "|     17|     PLENO|\n",
            "|     18|    SENIOR|\n",
            "|     19|    JUNIOR|\n",
            "|     20|     PLENO|\n",
            "+-------+----------+\n",
            "only showing top 20 rows\n",
            "\n"
          ],
          "name": "stdout"
        }
      ]
    },
    {
      "cell_type": "code",
      "metadata": {
        "id": "FjedOVW2WMEL",
        "outputId": "8754bb8e-2f36-4f5e-fec1-d5d7e43e18f2",
        "colab": {
          "base_uri": "https://localhost:8080/"
        }
      },
      "source": [
        "# selecionando apenas as colunas necessárias de pagamento\n",
        "pagamentoSelecionado = \\\n",
        "   pagamento\\\n",
        "   .select(\"dataPK\", \"funcPK\", \"cargoPK\", \"salario\")\n",
        "pagamentoSelecionado.show()"
      ],
      "execution_count": 91,
      "outputs": [
        {
          "output_type": "stream",
          "text": [
            "+------+------+-------+--------+\n",
            "|dataPK|funcPK|cargoPK| salario|\n",
            "+------+------+-------+--------+\n",
            "|     5|   147|     64| 1559.94|\n",
            "|     5|   124|    329| 8102.77|\n",
            "|     5|   175|    328| 2532.51|\n",
            "|     5|   171|    245|  7882.7|\n",
            "|     5|   148|     65| 4404.59|\n",
            "|     5|     5|    112| 2226.66|\n",
            "|     5|   128|    341| 6157.04|\n",
            "|     5|    82|     43| 1585.51|\n",
            "|     5|    28|    253| 1594.02|\n",
            "|     5|    46|    390| 9880.16|\n",
            "|     5|    91|    233|10931.47|\n",
            "|     5|   176|    241| 2005.49|\n",
            "|     5|   172|    351|14218.28|\n",
            "|     5|   155|    121| 2002.57|\n",
            "|     5|    19|    223| 1778.26|\n",
            "|     5|    94|    394|  2505.1|\n",
            "|     5|    26|    350| 9162.46|\n",
            "|     5|    55|    313| 3215.53|\n",
            "|     5|    29|     62| 4128.44|\n",
            "|     5|   181|    249|11082.75|\n",
            "+------+------+-------+--------+\n",
            "only showing top 20 rows\n",
            "\n"
          ],
          "name": "stdout"
        }
      ]
    },
    {
      "cell_type": "code",
      "metadata": {
        "id": "t6t3n4A9Wcsl",
        "outputId": "e62520da-7593-45d9-fa1a-98d978f6a51a",
        "colab": {
          "base_uri": "https://localhost:8080/"
        }
      },
      "source": [
        "#realizando as junções par a par\n",
        "pagamentoData = \\\n",
        "   pagamentoSelecionado\\\n",
        "   .join(dataSelecionada, on=\"dataPK\")\n",
        "\n",
        "pagamentoDataFunc = \\\n",
        "   pagamentoData\\\n",
        "   .join(funcionarioSelecionado, on=\"funcPK\")\n",
        "\n",
        "pagamentoDataFuncCargo = \\\n",
        "   pagamentoDataFunc\\\n",
        "   .join(cargoSelecionado, on=\"cargoPK\")\n",
        "   \n",
        "pagamentoDataFuncCargo.show(5)"
      ],
      "execution_count": 92,
      "outputs": [
        {
          "output_type": "stream",
          "text": [
            "+-------+------+------+-------+--------+----------+\n",
            "|cargoPK|funcPK|dataPK|salario|funcSexo|cargoNivel|\n",
            "+-------+------+------+-------+--------+----------+\n",
            "|     64|   147|  1101|1559.94|       F|    JUNIOR|\n",
            "|    329|   124|  1101|8102.77|       M|     PLENO|\n",
            "|    328|   175|  1101|2532.51|       M|    JUNIOR|\n",
            "|    245|   171|  1101| 7882.7|       M|     PLENO|\n",
            "|     65|   148|  1101|4404.59|       M|     PLENO|\n",
            "+-------+------+------+-------+--------+----------+\n",
            "only showing top 5 rows\n",
            "\n"
          ],
          "name": "stdout"
        }
      ]
    },
    {
      "cell_type": "code",
      "metadata": {
        "id": "1lX3-P76XuXr",
        "outputId": "81fe38fa-c2b7-4ae9-8fe0-49fdffb0e4f4",
        "colab": {
          "base_uri": "https://localhost:8080/"
        }
      },
      "source": [
        "#exibindo e calculando o resultado final\n",
        "pagamentoDataFuncCargo\\\n",
        "   .select(\"cargoNivel\", \"funcSexo\", \"salario\")\\\n",
        "   .groupBy(\"cargoNivel\", \"funcSexo\")\\\n",
        "   .avg(\"salario\")\\\n",
        "   .orderBy(\"cargoNivel\",\"funcSexo\")\\\n",
        "   .withColumn(\"avg(salario)\", round(\"avg(salario)\",2))\\\n",
        "   .withColumnRenamed(\"avg(salario)\", \"Média dos Salários\")\\\n",
        "   .show()"
      ],
      "execution_count": 93,
      "outputs": [
        {
          "output_type": "stream",
          "text": [
            "+----------+--------+------------------+\n",
            "|cargoNivel|funcSexo|Média dos Salários|\n",
            "+----------+--------+------------------+\n",
            "|    JUNIOR|       F|           2440.23|\n",
            "|    JUNIOR|       M|           2437.86|\n",
            "|     PLENO|       F|           7641.94|\n",
            "|     PLENO|       M|           6259.61|\n",
            "|    SENIOR|       F|          12994.19|\n",
            "|    SENIOR|       M|           14480.5|\n",
            "+----------+--------+------------------+\n",
            "\n"
          ],
          "name": "stdout"
        }
      ]
    },
    {
      "cell_type": "code",
      "metadata": {
        "id": "XOTINsSlYW1p",
        "outputId": "019e00ad-c853-471a-b260-beb54d2501bc",
        "colab": {
          "base_uri": "https://localhost:8080/"
        }
      },
      "source": [
        "# realizando a consulta em um único comando\n",
        "\n",
        "pagamento\\\n",
        "   .join(data, on=\"dataPK\")\\\n",
        "   .join(cargo, on=\"cargoPK\")\\\n",
        "   .join(funcionario, on=\"funcPK\")\\\n",
        "   .where(\"dataAno = 2019\")\\\n",
        "   .select(\"cargoNivel\", \"funcSexo\", \"salario\")\\\n",
        "   .groupBy(\"cargoNivel\", \"funcSexo\").avg(\"salario\")\\\n",
        "   .orderBy(\"cargoNivel\",\"funcSexo\")\\\n",
        "   .withColumn(\"avg(salario)\", round(\"avg(salario)\",2))\\\n",
        "   .withColumnRenamed(\"avg(salario)\", \"Média dos Salários\")\\\n",
        "   .show()"
      ],
      "execution_count": 94,
      "outputs": [
        {
          "output_type": "stream",
          "text": [
            "+----------+--------+------------------+\n",
            "|cargoNivel|funcSexo|Média dos Salários|\n",
            "+----------+--------+------------------+\n",
            "|    JUNIOR|       F|           2440.23|\n",
            "|    JUNIOR|       M|           2437.86|\n",
            "|     PLENO|       F|           7641.94|\n",
            "|     PLENO|       M|           6259.61|\n",
            "|    SENIOR|       F|          12994.19|\n",
            "|    SENIOR|       M|           14480.5|\n",
            "+----------+--------+------------------+\n",
            "\n"
          ],
          "name": "stdout"
        }
      ]
    },
    {
      "cell_type": "markdown",
      "metadata": {
        "id": "varyr5djDP2s"
      },
      "source": [
        "## 6.2 Consulta 2\n",
        "\n",
        "Qual o total de gastos em salários considerando os estados nos quais as equipes estão localizadas no trimestre 3 do ano de 2020? \n",
        "\n",
        "Para se realizar esta consulta, é necessário obter dados das tabelas de dimensão `equipe` e `data`, bem como da tabela de fatos `pagamento`. A junção estrela deve ocorrer considerando as seguintes integridades referenciais:\n",
        "- `pagamento.dataPK = data.dataPK`\n",
        "- `pagamento.equipePK = equipe.equipePK`\n"
      ]
    },
    {
      "cell_type": "code",
      "metadata": {
        "id": "KSgE7xtPkGYf",
        "outputId": "75f514b2-1c66-42da-8755-048caef7ea9b",
        "colab": {
          "base_uri": "https://localhost:8080/"
        }
      },
      "source": [
        "pagamento\\\n",
        "   .join(data, on=\"dataPK\")\\\n",
        "   .join(equipe, on=\"equipePK\")\\\n",
        "   .where(\"dataAno = 2019 AND dataTrimestre = 3\")\\\n",
        "   .select(\"filialEstadoNome\", \"salario\")\\\n",
        "   .groupBy(\"filialEstadoNome\")\\\n",
        "   .sum(\"salario\")\\\n",
        "   .orderBy(\"sum(salario)\")\\\n",
        "   .withColumn(\"sum(salario)\", round(\"sum(salario)\",2))\\\n",
        "   .withColumnRenamed(\"sum(salario)\", \"Total\")\\\n",
        "   .show()"
      ],
      "execution_count": 95,
      "outputs": [
        {
          "output_type": "stream",
          "text": [
            "+------------------+----------+\n",
            "|  filialEstadoNome|     Total|\n",
            "+------------------+----------+\n",
            "|        PERNAMBUCO| 438121.26|\n",
            "|MATO GROSSO DO SUL|1013857.75|\n",
            "|    RIO DE JANEIRO|1258479.58|\n",
            "|         SAO PAULO|1931458.02|\n",
            "+------------------+----------+\n",
            "\n"
          ],
          "name": "stdout"
        }
      ]
    },
    {
      "cell_type": "markdown",
      "metadata": {
        "id": "RAqNkANBOZSI"
      },
      "source": [
        "## 6.3 Consulta 3\n",
        "\n",
        "Qual o custo/benefício das equipes quando analisado o último semestre deste ano (ou seja, semestre 1 do ano de 2020)?\n",
        "\n",
        "A idea da consulta é relacionar os gastos em salários e os ganhos em receitas considerando cada equipe e o período especificado. Portanto, para se realizar essa consulta, é necessário obter dados das tabelas de dimensão `equipe` e `data`, bem como das tabelas de fatos `pagamento` e `negociacao`. \n",
        "\n",
        " A junção estrela deve ocorrer considerando as seguintes integridades referenciais:\n",
        "- `pagamento.dataPK = data.dataPK`\n",
        "- `pagamento.equipePK = equipe.equipe.PK`\n",
        "- `negociacao.dataPK = data.dataPK`\n",
        "- `negociacao.equipePK = equipe.equipe.PK`\n"
      ]
    },
    {
      "cell_type": "markdown",
      "metadata": {
        "id": "HMyeJDwisUgu"
      },
      "source": [
        "Uma observação muito importante refere-se ao fato que, para evitar dubiedade nas respostas, elas devem ser feitas sempre considerando a chave primária, desde que a chave primária identifica univocamente cada linha. Depois de ser resolvida a consulta em termos da chave primária, então deve ser obtido os demais atributos a serem exibidos."
      ]
    },
    {
      "cell_type": "code",
      "metadata": {
        "id": "MybQ9xten5-x",
        "outputId": "3d153067-5d63-450f-c1dd-897350e86596",
        "colab": {
          "base_uri": "https://localhost:8080/"
        }
      },
      "source": [
        "# resolvendo o primeiro bloco da consulta\n",
        "# identificando para cada equipePK qual o total em gastos com salários\n",
        "pag = pagamento\\\n",
        "   .join(data, on=\"dataPK\")\\\n",
        "   .where(\"dataSemestre = 1 AND dataAno = 2020\")\\\n",
        "   .select(\"equipePK\", \"salario\")\\\n",
        "   .groupBy(\"equipePK\")\\\n",
        "   .sum(\"salario\")\\\n",
        "   .orderBy(\"equipePK\")\n",
        "pag.show()"
      ],
      "execution_count": 96,
      "outputs": [
        {
          "output_type": "stream",
          "text": [
            "+--------+------------------+\n",
            "|equipePK|      sum(salario)|\n",
            "+--------+------------------+\n",
            "|       1|1160327.4052734375|\n",
            "|       2|1060981.1447753906|\n",
            "|       3|  1177330.32421875|\n",
            "|       4| 579893.9384765625|\n",
            "|       5| 909107.1071777344|\n",
            "|       6| 585430.8479003906|\n",
            "|       7| 876084.0717773438|\n",
            "|       8|1118608.3930664062|\n",
            "|       9| 939827.4675292969|\n",
            "|      10| 876242.5268554688|\n",
            "+--------+------------------+\n",
            "\n"
          ],
          "name": "stdout"
        }
      ]
    },
    {
      "cell_type": "code",
      "metadata": {
        "id": "XzA6ABe6ai-B",
        "outputId": "60b59749-377c-4fe8-b1c4-65be44519887",
        "colab": {
          "base_uri": "https://localhost:8080/"
        }
      },
      "source": [
        "# resolvendo o segundo bloco da consulta\n",
        "# identificando para cada equipePK qual o total em ganhos com receitas\n",
        "neg = negociacao\\\n",
        "   .join(data, on=\"dataPK\")\\\n",
        "   .where(\"dataSemestre = 1 AND dataAno = 2020\")\\\n",
        "   .select(\"equipePK\", \"receita\")\\\n",
        "   .groupBy(\"equipePK\")\\\n",
        "   .sum(\"receita\")\\\n",
        "   .orderBy(\"equipePK\")\n",
        "neg.show()  \n"
      ],
      "execution_count": 97,
      "outputs": [
        {
          "output_type": "stream",
          "text": [
            "+--------+------------------+\n",
            "|equipePK|      sum(receita)|\n",
            "+--------+------------------+\n",
            "|       1|1259907.2412109375|\n",
            "|       2|1338994.3959960938|\n",
            "|       3|     340461.296875|\n",
            "|       4|340130.64990234375|\n",
            "|       5| 614747.7039794922|\n",
            "|       6| 736591.3486328125|\n",
            "|       7| 722758.4526367188|\n",
            "|       8| 538659.2993164062|\n",
            "|       9|      4994717.6875|\n",
            "|      10| 4664745.689453125|\n",
            "+--------+------------------+\n",
            "\n"
          ],
          "name": "stdout"
        }
      ]
    },
    {
      "cell_type": "code",
      "metadata": {
        "id": "UTcPN-1caq51",
        "outputId": "c9870568-4314-4cc0-cb48-e83ae0551b20",
        "colab": {
          "base_uri": "https://localhost:8080/"
        }
      },
      "source": [
        "# realizando a operação de drill-across\n",
        "parte = pag.join(neg, on=\"equipePK\")\n",
        "parte.show()"
      ],
      "execution_count": 98,
      "outputs": [
        {
          "output_type": "stream",
          "text": [
            "+--------+------------------+------------------+\n",
            "|equipePK|      sum(salario)|      sum(receita)|\n",
            "+--------+------------------+------------------+\n",
            "|       1|1160327.4052734375|1259907.2412109375|\n",
            "|       6| 585430.8479003906| 736591.3486328125|\n",
            "|       3|  1177330.32421875|     340461.296875|\n",
            "|       5| 909107.1071777344| 614747.7039794922|\n",
            "|       9| 939827.4675292969|      4994717.6875|\n",
            "|       4| 579893.9384765625|340130.64990234375|\n",
            "|       8|1118608.3930664062| 538659.2993164062|\n",
            "|       7| 876084.0717773438| 722758.4526367188|\n",
            "|      10| 876242.5268554688| 4664745.689453125|\n",
            "|       2|1060981.1447753906|1338994.3959960938|\n",
            "+--------+------------------+------------------+\n",
            "\n"
          ],
          "name": "stdout"
        }
      ]
    },
    {
      "cell_type": "code",
      "metadata": {
        "id": "D8OZpLRra7xP",
        "outputId": "9791a056-03e2-4c3f-dfd9-d6f278d0cf38",
        "colab": {
          "base_uri": "https://localhost:8080/"
        }
      },
      "source": [
        "# renomeando as colunas \n",
        "parte = parte\\\n",
        "   .withColumnRenamed(\"sum(salario)\", \"TotalSalario\")\\\n",
        "   .withColumnRenamed(\"sum(receita)\", \"TotalReceita\")\n",
        "\n",
        "#criando a coluna Lucro solicitada\n",
        "parte = parte\\\n",
        "   .withColumn(\"Lucro\", parte[\"TotalReceita\"] - parte[\"TotalSalario\"])\n",
        "parte.show()\n"
      ],
      "execution_count": 99,
      "outputs": [
        {
          "output_type": "stream",
          "text": [
            "+--------+------------------+------------------+-------------------+\n",
            "|equipePK|      TotalSalario|      TotalReceita|              Lucro|\n",
            "+--------+------------------+------------------+-------------------+\n",
            "|       1|1160327.4052734375|1259907.2412109375|      99579.8359375|\n",
            "|       6| 585430.8479003906| 736591.3486328125| 151160.50073242188|\n",
            "|       3|  1177330.32421875|     340461.296875|   -836869.02734375|\n",
            "|       5| 909107.1071777344| 614747.7039794922| -294359.4031982422|\n",
            "|       9| 939827.4675292969|      4994717.6875|  4054890.219970703|\n",
            "|       4| 579893.9384765625|340130.64990234375|-239763.28857421875|\n",
            "|       8|1118608.3930664062| 538659.2993164062|      -579949.09375|\n",
            "|       7| 876084.0717773438| 722758.4526367188|  -153325.619140625|\n",
            "|      10| 876242.5268554688| 4664745.689453125| 3788503.1625976562|\n",
            "|       2|1060981.1447753906|1338994.3959960938|  278013.2512207031|\n",
            "+--------+------------------+------------------+-------------------+\n",
            "\n"
          ],
          "name": "stdout"
        }
      ]
    },
    {
      "cell_type": "code",
      "metadata": {
        "id": "Gv_Em-JSbt_u",
        "outputId": "72addbdb-9ebe-441d-db08-a031b7ad186f",
        "colab": {
          "base_uri": "https://localhost:8080/"
        }
      },
      "source": [
        "# obtendo de equipe os dados semânticos a serem exibidos no resultado\n",
        "# exibindo somente as colunas solicitadas\n",
        "equipe\\\n",
        "   .join(parte, on=\"equipePK\")\\\n",
        "   .select(\"equipeNome\", \"filialNome\", round(\"Lucro\",2))\\\n",
        "   .orderBy(desc(\"Lucro\"))\\\n",
        "   .show()"
      ],
      "execution_count": 100,
      "outputs": [
        {
          "output_type": "stream",
          "text": [
            "+--------------+--------------------+---------------+\n",
            "|    equipeNome|          filialNome|round(Lucro, 2)|\n",
            "+--------------+--------------------+---------------+\n",
            "|BI & ANALYTICS|SAO PAULO - AV. P...|     4054890.22|\n",
            "|BI & ANALYTICS|     RECIFE - CENTRO|     3788503.16|\n",
            "| APP - DESKTOP|RIO DE JANEIRO - ...|      278013.25|\n",
            "|  APP - MOBILE|SAO PAULO - AV. P...|       151160.5|\n",
            "| APP - DESKTOP|SAO PAULO - AV. P...|       99579.84|\n",
            "|  APP - MOBILE|RIO DE JANEIRO - ...|     -153325.62|\n",
            "|           WEB|RIO DE JANEIRO - ...|     -239763.29|\n",
            "|           WEB|CAMPO GRANDE - CE...|      -294359.4|\n",
            "|  APP - MOBILE|CAMPO GRANDE - CE...|     -579949.09|\n",
            "|           WEB|SAO PAULO - AV. P...|     -836869.03|\n",
            "+--------------+--------------------+---------------+\n",
            "\n"
          ],
          "name": "stdout"
        }
      ]
    },
    {
      "cell_type": "markdown",
      "metadata": {
        "id": "3HpvYqBcvDS0"
      },
      "source": [
        "## 6.4 Consultas Exercício"
      ]
    },
    {
      "cell_type": "markdown",
      "metadata": {
        "id": "jN4Ss3OWvWQT"
      },
      "source": [
        "### **EXERCÍCIO 5**\n",
        "\n",
        "Qual o total de receita gerada no último semestre de 2020 (ou seja, semestre 2 do ano de 2020), considerando cada setor de clientes? Ordene o resultado final pelo total de receita em ordem ascendente. Renomeie o total de receitas como \"Total de Receitas\". \n",
        "\n",
        "Resolva a consulta de duas formas diferentes, considerando cada uma das especificações a seguir:\n",
        "\n",
        "- **Consulta passo a passo:** Escreva a consulta passo a passo, selecionando apenas as colunas necessárias para o processamento da consulta e executando as junções necessárias par a par.\n",
        "\n",
        "- **Consulta um comando:** Escreva apenas um único comando para a consulta. "
      ]
    },
    {
      "cell_type": "code",
      "metadata": {
        "id": "Boxgnt9qwE5E",
        "outputId": "cb29b356-3722-493b-a424-a8dcaa6329b0",
        "colab": {
          "base_uri": "https://localhost:8080/"
        }
      },
      "source": [
        "# resposta do exercício 5 - consulta passo a passo\n",
        "\n",
        "# realizando a operação de slice and dice \n",
        "# exibindo as colunas necessárias de \"data\" para o processamento da consulta\n",
        "dataSelecionada = \\\n",
        "   data\\\n",
        "   .filter(\"dataSemestre = 2 AND dataAno = 2020\")\\\n",
        "   .select(\"dataPK\")\n",
        "dataSelecionada.show(5)                  "
      ],
      "execution_count": 101,
      "outputs": [
        {
          "output_type": "stream",
          "text": [
            "+------+\n",
            "|dataPK|\n",
            "+------+\n",
            "|  1644|\n",
            "|  1645|\n",
            "|  1646|\n",
            "|  1647|\n",
            "|  1648|\n",
            "+------+\n",
            "only showing top 5 rows\n",
            "\n"
          ],
          "name": "stdout"
        }
      ]
    },
    {
      "cell_type": "code",
      "metadata": {
        "id": "QZzkFcT2fJp5",
        "outputId": "7fd60d16-f423-4179-b031-466cb43cb338",
        "colab": {
          "base_uri": "https://localhost:8080/"
        }
      },
      "source": [
        "# resposta do exercício 5 - consulta passo a passo\n",
        "\n",
        "# exibindo as colunas necessárias de \"cliente\" para o processamento da consulta\n",
        "clienteSelecionado =\\\n",
        "    cliente\\\n",
        "    .select(\"clientePK\", \"clienteSetor\")\n",
        "clienteSelecionado.show(5)"
      ],
      "execution_count": 102,
      "outputs": [
        {
          "output_type": "stream",
          "text": [
            "+---------+-------------------+\n",
            "|clientePK|       clienteSetor|\n",
            "+---------+-------------------+\n",
            "|        1|BEBIDAS E ALIMENTOS|\n",
            "|        2|BEBIDAS E ALIMENTOS|\n",
            "|        3|BEBIDAS E ALIMENTOS|\n",
            "|        4|BEBIDAS E ALIMENTOS|\n",
            "|        5|BEBIDAS E ALIMENTOS|\n",
            "+---------+-------------------+\n",
            "only showing top 5 rows\n",
            "\n"
          ],
          "name": "stdout"
        }
      ]
    },
    {
      "cell_type": "code",
      "metadata": {
        "id": "oxe1zTjcfhEg",
        "outputId": "b057fa4e-b425-4a41-946b-c50d899c5731",
        "colab": {
          "base_uri": "https://localhost:8080/"
        }
      },
      "source": [
        "# resposta do exercício 5 - consulta passo a passo\n",
        "\n",
        "# exibindo as colunas necessárias de \"negociacao\"\n",
        "negociacaoSelecionada = \\\n",
        "   negociacao\\\n",
        "   .select(\"dataPK\", \"clientePK\", \"receita\")\n",
        "negociacaoSelecionada.show(5)"
      ],
      "execution_count": 103,
      "outputs": [
        {
          "output_type": "stream",
          "text": [
            "+------+---------+--------+\n",
            "|dataPK|clientePK| receita|\n",
            "+------+---------+--------+\n",
            "|    22|        9|11564.75|\n",
            "|    11|       24| 17990.5|\n",
            "|    21|       28| 16335.9|\n",
            "|    23|       30| 8495.55|\n",
            "|    30|       43|24748.75|\n",
            "+------+---------+--------+\n",
            "only showing top 5 rows\n",
            "\n"
          ],
          "name": "stdout"
        }
      ]
    },
    {
      "cell_type": "code",
      "metadata": {
        "id": "xLiKD0nqfy9j",
        "outputId": "47afe77f-699d-41dd-e414-e9a18b890218",
        "colab": {
          "base_uri": "https://localhost:8080/"
        }
      },
      "source": [
        "# resposta do exercício 5 - consulta passo a passo\n",
        "\n",
        "# realizando as junções par a par \n",
        "negociacaoData = \\\n",
        "   negociacaoSelecionada\\\n",
        "   .join(dataSelecionada, on=\"dataPK\")\n",
        "\n",
        "negociacaoDataCliente = \\\n",
        "   negociacaoData\\\n",
        "   .join(clienteSelecionado, on=\"clientePK\")\n",
        "   \n",
        "negociacaoDataCliente.show(5)"
      ],
      "execution_count": 104,
      "outputs": [
        {
          "output_type": "stream",
          "text": [
            "+---------+------+--------+-------------------+\n",
            "|clientePK|dataPK| receita|       clienteSetor|\n",
            "+---------+------+--------+-------------------+\n",
            "|        1|  1655|10340.05|BEBIDAS E ALIMENTOS|\n",
            "|        4|  1658| 16444.2|BEBIDAS E ALIMENTOS|\n",
            "|        4|  1657| 6704.05|BEBIDAS E ALIMENTOS|\n",
            "|        4|  1652|28041.95|BEBIDAS E ALIMENTOS|\n",
            "|        5|  1645| 6884.05|BEBIDAS E ALIMENTOS|\n",
            "+---------+------+--------+-------------------+\n",
            "only showing top 5 rows\n",
            "\n"
          ],
          "name": "stdout"
        }
      ]
    },
    {
      "cell_type": "code",
      "metadata": {
        "id": "tsoTu9yRgaHd",
        "outputId": "d605e503-ca7a-40fd-b98b-0e66240f53ba",
        "colab": {
          "base_uri": "https://localhost:8080/"
        }
      },
      "source": [
        "# resposta do exercício 5 - consulta passo a passo\n",
        "\n",
        "# exibindo e calculando o resultado final\n",
        "negociacaoDataCliente\\\n",
        "   .select(\"clienteSetor\", \"receita\")\\\n",
        "   .groupBy(\"clienteSetor\")\\\n",
        "   .sum(\"receita\")\\\n",
        "   .orderBy(\"sum(receita)\")\\\n",
        "   .withColumn(\"sum(receita)\", round(\"sum(receita)\",2))\\\n",
        "   .withColumnRenamed(\"sum(receita)\", \"Total de Receitas\")\\\n",
        "   .show()"
      ],
      "execution_count": 105,
      "outputs": [
        {
          "output_type": "stream",
          "text": [
            "+-------------------+-----------------+\n",
            "|       clienteSetor|Total de Receitas|\n",
            "+-------------------+-----------------+\n",
            "|            CREDITO|         998789.6|\n",
            "|          VESTUARIO|       2336266.49|\n",
            "|         TECNOLOGIA|       2465926.05|\n",
            "|              SAUDE|        3119775.3|\n",
            "|BEBIDAS E ALIMENTOS|       5749704.68|\n",
            "+-------------------+-----------------+\n",
            "\n"
          ],
          "name": "stdout"
        }
      ]
    },
    {
      "cell_type": "code",
      "metadata": {
        "id": "j1V-CgC_fDCZ",
        "outputId": "55b7cf38-c40c-420e-d15e-a98d2f5161f7",
        "colab": {
          "base_uri": "https://localhost:8080/"
        }
      },
      "source": [
        "# resposta do exercício 5 - consulta um comando\n",
        "\n",
        "negociacao\\\n",
        "   .join(data, on=\"dataPK\")\\\n",
        "   .join(cliente, on=\"clientePK\")\\\n",
        "   .where(\"dataAno = 2020 AND dataSemestre = 2\")\\\n",
        "   .select(\"clienteSetor\", \"receita\")\\\n",
        "   .groupBy(\"clienteSetor\")\\\n",
        "   .sum(\"receita\")\\\n",
        "   .orderBy(\"sum(receita)\")\\\n",
        "   .withColumn(\"sum(receita)\", round(\"sum(receita)\",2))\\\n",
        "   .withColumnRenamed(\"sum(receita)\", \"Total de Receitas\")\\\n",
        "   .show()\n"
      ],
      "execution_count": 106,
      "outputs": [
        {
          "output_type": "stream",
          "text": [
            "+-------------------+-----------------+\n",
            "|       clienteSetor|Total de Receitas|\n",
            "+-------------------+-----------------+\n",
            "|            CREDITO|         998789.6|\n",
            "|          VESTUARIO|       2336266.49|\n",
            "|         TECNOLOGIA|       2465926.05|\n",
            "|              SAUDE|        3119775.3|\n",
            "|BEBIDAS E ALIMENTOS|       5749704.68|\n",
            "+-------------------+-----------------+\n",
            "\n"
          ],
          "name": "stdout"
        }
      ]
    },
    {
      "cell_type": "markdown",
      "metadata": {
        "id": "-Itsh4D7xJxQ"
      },
      "source": [
        "### **EXERCÍCIO 6** \n",
        "\n",
        "No exercício anterior, foi calculado o total de receita gerada no último semestre de 2020 para cada setor de atuação dos clientes. Analisando-se os resultados obtidos, é possível identificar o setor de maior receita. Utilizando esse setor, responda à seguinte consulta analítica. \n",
        "\n",
        "Qual o total de receita gerada por mês para o setor de clientes com maior receita no último semestre de 2020? Ordene o resultado final por mês em ordem ascendente. Renomeie o total de receitas como \"Total de Receitas\". "
      ]
    },
    {
      "cell_type": "code",
      "metadata": {
        "id": "57lxJu_5xWRx",
        "outputId": "06e7630e-227a-4989-95ca-e2728d6a77a8",
        "colab": {
          "base_uri": "https://localhost:8080/"
        }
      },
      "source": [
        "# resposta do exercício 6\n",
        "\n",
        "negociacao\\\n",
        "   .join(data, on=\"dataPK\")\\\n",
        "   .join(cliente, on=\"clientePK\")\\\n",
        "   .where(\"dataAno = 2020 AND dataSemestre = 2 AND clienteSetor = 'BEBIDAS E ALIMENTOS'\")\\\n",
        "   .select(\"dataMes\", \"receita\")\\\n",
        "   .groupBy(\"dataMes\")\\\n",
        "   .sum(\"receita\")\\\n",
        "   .orderBy(\"dataMes\")\\\n",
        "   .withColumn(\"sum(receita)\", round(\"sum(receita)\",2))\\\n",
        "   .withColumnRenamed(\"sum(receita)\", \"Total de Receitas\")\\\n",
        "   .show()"
      ],
      "execution_count": 107,
      "outputs": [
        {
          "output_type": "stream",
          "text": [
            "+-------+-----------------+\n",
            "|dataMes|Total de Receitas|\n",
            "+-------+-----------------+\n",
            "|      7|        849631.35|\n",
            "|      8|        875934.29|\n",
            "|      9|        877223.55|\n",
            "|     10|       1091389.49|\n",
            "|     11|        1156403.3|\n",
            "|     12|         899122.7|\n",
            "+-------+-----------------+\n",
            "\n"
          ],
          "name": "stdout"
        }
      ]
    },
    {
      "cell_type": "markdown",
      "metadata": {
        "id": "SfI-JNP_ysxy"
      },
      "source": [
        "### **EXERCÍCIO 7** \n",
        "\n",
        "No exercício anterior, foi calculado o total de receita gerada por mês para o setor de clientes com maior receita no último semestre de 2020. Analisando-se os resultados obtidos, é possível identificar o mês de maior receita. Utilizando esse mês, responda à seguinte consulta analítica.\n",
        "\n",
        "Qual equipe gerou mais receita para o mês de maior receita da consulta analítica anterior? Renomeie o total de receitas como \"Total de Receitas\".\n",
        "\n",
        "Resolva a consulta de duas formas diferentes, considerando cada uma das especificações a seguir:\n",
        "\n",
        "- **Consulta passo a passo:** Escreva a consulta passo a passo, selecionando apenas as colunas necessárias para o processamento da consulta e executando as junções necessárias par a par.\n",
        "\n",
        "- **Consulta um comando:** Escreva apenas um único comando para a consulta.\n"
      ]
    },
    {
      "cell_type": "code",
      "metadata": {
        "id": "BFpm28j5y_DS",
        "outputId": "cba30c60-a0a5-435e-d625-526b8e361c21",
        "colab": {
          "base_uri": "https://localhost:8080/"
        }
      },
      "source": [
        "# resposta do exercício 7 - consulta passo a passo\n",
        "\n",
        "# realizando a operação de slice and dice \n",
        "# exibindo as colunas necessárias de \"data\" para o processamento da consulta\n",
        "dataSelecionada = \\\n",
        "   data\\\n",
        "   .filter(\"dataMes = 11 AND dataAno = 2020\")\\\n",
        "   .select(\"dataPK\")\n",
        "dataSelecionada.show(5) "
      ],
      "execution_count": 108,
      "outputs": [
        {
          "output_type": "stream",
          "text": [
            "+------+\n",
            "|dataPK|\n",
            "+------+\n",
            "|  1767|\n",
            "|  1768|\n",
            "|  1769|\n",
            "|  1770|\n",
            "|  1771|\n",
            "+------+\n",
            "only showing top 5 rows\n",
            "\n"
          ],
          "name": "stdout"
        }
      ]
    },
    {
      "cell_type": "code",
      "metadata": {
        "id": "Y3CmSFJCzKt9",
        "outputId": "8b60bc5c-79c7-4dbe-ea08-ecc38b4eb5aa",
        "colab": {
          "base_uri": "https://localhost:8080/"
        }
      },
      "source": [
        "# resposta do exercício 7 - consulta passo a passo\n",
        "\n",
        "# realizando a operação de slice and dice \n",
        "# exibindo as colunas necessárias de \"cliente\" para o processamento da consulta\n",
        "clienteSelecionado = \\\n",
        "   cliente\\\n",
        "   .filter(\"clienteSetor = 'BEBIDAS E ALIMENTOS'\")\\\n",
        "   .select(\"clientePK\")\n",
        "clienteSelecionado.show(5)"
      ],
      "execution_count": 109,
      "outputs": [
        {
          "output_type": "stream",
          "text": [
            "+---------+\n",
            "|clientePK|\n",
            "+---------+\n",
            "|        1|\n",
            "|        2|\n",
            "|        3|\n",
            "|        4|\n",
            "|        5|\n",
            "+---------+\n",
            "only showing top 5 rows\n",
            "\n"
          ],
          "name": "stdout"
        }
      ]
    },
    {
      "cell_type": "code",
      "metadata": {
        "id": "ZWUtWh2Yz5QG",
        "outputId": "83264e28-f74a-4eb4-8808-2f580dc43fb2",
        "colab": {
          "base_uri": "https://localhost:8080/"
        }
      },
      "source": [
        "# resposta do exercício 7 - consulta passo a passo\n",
        "\n",
        "# exibindo as colunas necessárias de \"equipe\" para o processamento da consulta\n",
        "equipeSelecionada = \\\n",
        "   equipe\\\n",
        "   .select(\"equipePK\", \"equipeNome\", \"filialNome\")\n",
        "equipeSelecionada.show(5)"
      ],
      "execution_count": 110,
      "outputs": [
        {
          "output_type": "stream",
          "text": [
            "+--------+-------------+--------------------+\n",
            "|equipePK|   equipeNome|          filialNome|\n",
            "+--------+-------------+--------------------+\n",
            "|       1|APP - DESKTOP|SAO PAULO - AV. P...|\n",
            "|       2|APP - DESKTOP|RIO DE JANEIRO - ...|\n",
            "|       3|          WEB|SAO PAULO - AV. P...|\n",
            "|       4|          WEB|RIO DE JANEIRO - ...|\n",
            "|       5|          WEB|CAMPO GRANDE - CE...|\n",
            "+--------+-------------+--------------------+\n",
            "only showing top 5 rows\n",
            "\n"
          ],
          "name": "stdout"
        }
      ]
    },
    {
      "cell_type": "code",
      "metadata": {
        "id": "jfFH6S-Xzjz8",
        "outputId": "26023c6f-4376-4b48-cc55-bd8ef904e04e",
        "colab": {
          "base_uri": "https://localhost:8080/"
        }
      },
      "source": [
        "# resposta do exercício 7 - consulta passo a passo\n",
        "\n",
        "# exibindo as colunas necessárias de \"negociacao\"\n",
        "negociacaoSelecionada = \\\n",
        "    negociacao\\\n",
        "   .select(\"dataPK\", \"clientePK\", \"equipePK\", \"receita\")\n",
        "negociacaoSelecionada.show(5)"
      ],
      "execution_count": 111,
      "outputs": [
        {
          "output_type": "stream",
          "text": [
            "+------+---------+--------+--------+\n",
            "|dataPK|clientePK|equipePK| receita|\n",
            "+------+---------+--------+--------+\n",
            "|    22|        9|       2|11564.75|\n",
            "|    11|       24|       2| 17990.5|\n",
            "|    21|       28|       2| 16335.9|\n",
            "|    23|       30|       1| 8495.55|\n",
            "|    30|       43|       2|24748.75|\n",
            "+------+---------+--------+--------+\n",
            "only showing top 5 rows\n",
            "\n"
          ],
          "name": "stdout"
        }
      ]
    },
    {
      "cell_type": "code",
      "metadata": {
        "id": "tQeAeLiC0QMm",
        "outputId": "3df8d19f-0af5-46a4-d97f-01a29d9cfb98",
        "colab": {
          "base_uri": "https://localhost:8080/"
        }
      },
      "source": [
        "# resposta do exercício 7 - consulta passo a passo\n",
        "\n",
        "# realizando as junções par a par \n",
        "negociacaoData = \\\n",
        "   negociacaoSelecionada\\\n",
        "   .join(dataSelecionada, on=\"dataPK\")\n",
        "\n",
        "negociacaoDataCliente = \\\n",
        "   negociacaoData\\\n",
        "   .join(clienteSelecionado, on=\"clientePK\")\n",
        "\n",
        "negociacaoDataClienteEquipe = \\\n",
        "   negociacaoDataCliente\\\n",
        "   .join(equipeSelecionada, on=\"equipePK\")\n",
        "   \n",
        "negociacaoDataClienteEquipe.show(5)"
      ],
      "execution_count": 112,
      "outputs": [
        {
          "output_type": "stream",
          "text": [
            "+--------+---------+------+-------+--------------+--------------------+\n",
            "|equipePK|clientePK|dataPK|receita|    equipeNome|          filialNome|\n",
            "+--------+---------+------+-------+--------------+--------------------+\n",
            "|       4|        4|  1781|17695.5|           WEB|RIO DE JANEIRO - ...|\n",
            "|       7|        4|  1781| 7653.1|  APP - MOBILE|RIO DE JANEIRO - ...|\n",
            "|      10|        4|  1770|32305.8|BI & ANALYTICS|     RECIFE - CENTRO|\n",
            "|       8|        5|  1773| 5865.3|  APP - MOBILE|CAMPO GRANDE - CE...|\n",
            "|       1|        8|  1787|12818.8| APP - DESKTOP|SAO PAULO - AV. P...|\n",
            "+--------+---------+------+-------+--------------+--------------------+\n",
            "only showing top 5 rows\n",
            "\n"
          ],
          "name": "stdout"
        }
      ]
    },
    {
      "cell_type": "code",
      "metadata": {
        "id": "3r8C_ejq0xwg",
        "outputId": "3349f4cd-52d0-4a44-e217-dd451cd5b159",
        "colab": {
          "base_uri": "https://localhost:8080/"
        }
      },
      "source": [
        "# resposta do exercício 7 - consulta passo a passo\n",
        "\n",
        "# exibindo e calculando o resultado final\n",
        "negociacaoDataClienteEquipe\\\n",
        "   .select(\"equipeNome\", \"filialNome\", \"receita\")\\\n",
        "   .groupBy(\"equipeNome\", \"filialNome\")\\\n",
        "   .sum(\"receita\")\\\n",
        "   .orderBy(\"sum(receita)\")\\\n",
        "   .withColumn(\"sum(receita)\", round(\"sum(receita)\", 2))\\\n",
        "   .withColumnRenamed(\"sum(receita)\", \"Total de Receitas\")\\\n",
        "   .show()"
      ],
      "execution_count": 113,
      "outputs": [
        {
          "output_type": "stream",
          "text": [
            "+--------------+--------------------+-----------------+\n",
            "|    equipeNome|          filialNome|Total de Receitas|\n",
            "+--------------+--------------------+-----------------+\n",
            "|           WEB|CAMPO GRANDE - CE...|         20042.75|\n",
            "|  APP - MOBILE|SAO PAULO - AV. P...|         26571.85|\n",
            "| APP - DESKTOP|RIO DE JANEIRO - ...|         35645.65|\n",
            "|  APP - MOBILE|CAMPO GRANDE - CE...|         48714.45|\n",
            "|  APP - MOBILE|RIO DE JANEIRO - ...|          62138.7|\n",
            "|           WEB|RIO DE JANEIRO - ...|          68596.1|\n",
            "|           WEB|SAO PAULO - AV. P...|          88624.5|\n",
            "| APP - DESKTOP|SAO PAULO - AV. P...|         129409.4|\n",
            "|BI & ANALYTICS|SAO PAULO - AV. P...|        149490.15|\n",
            "|BI & ANALYTICS|     RECIFE - CENTRO|        527169.75|\n",
            "+--------------+--------------------+-----------------+\n",
            "\n"
          ],
          "name": "stdout"
        }
      ]
    },
    {
      "cell_type": "code",
      "metadata": {
        "id": "vXl88MHDy5vE",
        "outputId": "bd30eaa5-11f0-4720-9704-2a36fc155cec",
        "colab": {
          "base_uri": "https://localhost:8080/"
        }
      },
      "source": [
        "# resposta do exercício 7 - consulta um comando\n",
        "\n",
        "negociacao\\\n",
        "   .join(data, on=\"dataPK\")\\\n",
        "   .join(cliente, on=\"clientePK\")\\\n",
        "   .join(equipe, on=\"equipePK\")\\\n",
        "   .where(\"dataAno = 2020 AND dataMes = 11 AND clienteSetor = 'BEBIDAS E ALIMENTOS'\")\\\n",
        "   .select(\"equipeNome\", \"filialNome\", \"receita\")\\\n",
        "   .groupBy(\"equipeNome\", \"filialNome\")\\\n",
        "   .sum(\"receita\")\\\n",
        "   .withColumn(\"sum(receita)\", round(\"sum(receita)\", 2))\\\n",
        "   .withColumnRenamed(\"sum(receita)\", \"Total de Receitas\")\\\n",
        "   .orderBy(\"sum(receita)\")\\\n",
        "   .show()"
      ],
      "execution_count": 114,
      "outputs": [
        {
          "output_type": "stream",
          "text": [
            "+--------------+--------------------+-----------------+\n",
            "|    equipeNome|          filialNome|Total de Receitas|\n",
            "+--------------+--------------------+-----------------+\n",
            "|           WEB|CAMPO GRANDE - CE...|         20042.75|\n",
            "|  APP - MOBILE|SAO PAULO - AV. P...|         26571.85|\n",
            "| APP - DESKTOP|RIO DE JANEIRO - ...|         35645.65|\n",
            "|  APP - MOBILE|CAMPO GRANDE - CE...|         48714.45|\n",
            "|  APP - MOBILE|RIO DE JANEIRO - ...|          62138.7|\n",
            "|           WEB|RIO DE JANEIRO - ...|          68596.1|\n",
            "|           WEB|SAO PAULO - AV. P...|          88624.5|\n",
            "| APP - DESKTOP|SAO PAULO - AV. P...|         129409.4|\n",
            "|BI & ANALYTICS|SAO PAULO - AV. P...|        149490.15|\n",
            "|BI & ANALYTICS|     RECIFE - CENTRO|        527169.75|\n",
            "+--------------+--------------------+-----------------+\n",
            "\n"
          ],
          "name": "stdout"
        }
      ]
    }
  ]
}